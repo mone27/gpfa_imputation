{
 "cells": [
  {
   "cell_type": "markdown",
   "id": "e8af5772-d828-4017-ae3b-5d530ac57586",
   "metadata": {},
   "source": [
    "# Implement Kalman model using FastAI\n",
    "\n",
    "> need to implement custom data preparation pipeline and loss function "
   ]
  },
  {
   "cell_type": "code",
   "execution_count": null,
   "id": "b87acfa4-b43e-4cbe-9bc2-103a084ec5a2",
   "metadata": {},
   "outputs": [],
   "source": [
    "#| hide\n",
    "%load_ext autoreload\n",
    "%autoreload 2"
   ]
  },
  {
   "cell_type": "code",
   "execution_count": null,
   "id": "cca16380-45e6-479a-b8c3-e6f26ed9fdf3",
   "metadata": {},
   "outputs": [],
   "source": [
    "#| hide\n",
    "#| default_exp kalman.fastai"
   ]
  },
  {
   "cell_type": "code",
   "execution_count": null,
   "id": "22f63809-036e-42ad-93e9-afcb78c82568",
   "metadata": {},
   "outputs": [],
   "source": [
    "#| export\n",
    "from meteo_imp.utils import *\n",
    "from meteo_imp.gaussian import *\n",
    "from meteo_imp.data import *\n",
    "\n",
    "from fastcore.transform import *\n",
    "from fastcore.basics import *\n",
    "from fastcore.foundation import *\n",
    "from fastcore.all import *\n",
    "from fastai.tabular import *\n",
    "from fastai.tabular.core import *\n",
    "from fastai.data.core import *\n",
    "from fastai.data import *\n",
    "from fastai.torch_core import default_device, to_device\n",
    "from dataclasses import dataclass\n",
    "\n",
    "import torch\n",
    "\n",
    "import collections\n",
    "\n",
    "import pandas as pd\n",
    "import numpy as np\n",
    "import matplotlib.pyplot as plt"
   ]
  },
  {
   "cell_type": "code",
   "execution_count": null,
   "id": "c946534f",
   "metadata": {},
   "outputs": [],
   "source": [
    "reset_seed()"
   ]
  },
  {
   "cell_type": "code",
   "execution_count": null,
   "id": "1c3c3090-de05-4a9b-943d-10b285bf8d94",
   "metadata": {},
   "outputs": [
    {
     "data": {
      "text/plain": [
       "Path('/home/simone/Documents/uni/Thesis/GPFA_imputation/data/FLX_DE-Hai_FLUXNET2015_FULLSET_HH_2000-2012_1-4_float32.parquet')"
      ]
     },
     "execution_count": null,
     "metadata": {},
     "output_type": "execute_result"
    }
   ],
   "source": [
    "hai_path"
   ]
  },
  {
   "cell_type": "code",
   "execution_count": null,
   "id": "d7f48bb9-58ab-4d1a-97d9-b242f6542148",
   "metadata": {},
   "outputs": [],
   "source": [
    "hai = pd.read_parquet(hai_path)\n",
    "hai64 = pd.read_parquet(hai_path64)\n",
    "hai_era = pd.read_parquet(hai_era_path)\n",
    "hai_era64 = pd.read_parquet(hai_era_path64)"
   ]
  },
  {
   "cell_type": "markdown",
   "id": "b0f3603c-74ec-41ba-a9dc-8fb08c2630cc",
   "metadata": {},
   "source": [
    "## Data Preparation"
   ]
  },
  {
   "cell_type": "markdown",
   "id": "df4ecbb3-f6ef-4344-95e7-5b566611d3f2",
   "metadata": {},
   "source": [
    "The aim of the data preparation pipeline is to:\n",
    "- take the original time series and split it into time blocks\n",
    "- for each block generate a random gap (need to figure out the properties of the gap)\n",
    "- split some time blocks for testing\n",
    "\n",
    "the input of the pipeline is:\n",
    "- a dataframe containing all observations\n",
    "\n",
    "the input of the model is:\n",
    "- observed data (potentially containing NaN where data is missing)\n",
    "- missing data mask (which is telling where the data is missing)\n",
    "- the data needs to be standardized"
   ]
  },
  {
   "cell_type": "markdown",
   "id": "54b0ae41-b89d-4461-9a78-5cf7c6205df8",
   "metadata": {},
   "source": [
    "### Utils"
   ]
  },
  {
   "cell_type": "code",
   "execution_count": null,
   "id": "e4e1aa1b-e9d6-4a16-9eaf-524abf364cd7",
   "metadata": {},
   "outputs": [],
   "source": [
    "#| export\n",
    "from dominate.tags import *"
   ]
  },
  {
   "cell_type": "code",
   "execution_count": null,
   "id": "a0174c44-5647-4970-8c5f-3743fd7cd4fb",
   "metadata": {},
   "outputs": [],
   "source": [
    "#| export\n",
    "@patch\n",
    "def _repr_html_(self: Transform, as_str=True):\n",
    "    with div() as out:\n",
    "        p(strong(self.name))\n",
    "        p(repr(self.encodes))\n",
    "        p(repr(self.decodes))\n",
    "    out = str(out) if as_str else out\n",
    "    return out"
   ]
  },
  {
   "cell_type": "code",
   "execution_count": null,
   "id": "7c0eb220-009b-4529-b984-3590166557a5",
   "metadata": {},
   "outputs": [],
   "source": [
    "#| export\n",
    "@patch\n",
    "def _repr_html_(self: TfmdLists):\n",
    "    with div() as out:\n",
    "        span(\"TfmdLists. Items:\")\n",
    "        pre(coll_repr(self.items))\n",
    "        ol([li(f._repr_html_(as_str=False)) for f in self.fs], start=\"0\")\n",
    "    return str(out)"
   ]
  },
  {
   "cell_type": "markdown",
   "id": "d17c4e2b-6175-4674-9437-9e8a75cadb35",
   "metadata": {},
   "source": [
    "### 1) Block Index"
   ]
  },
  {
   "cell_type": "markdown",
   "id": "09346517-48ae-4872-b572-a095b7adcd19",
   "metadata": {},
   "source": [
    "the first step is to transfrom the original dataframe into blocks of a specified `block_len`\n",
    "\n",
    "two different strategies are possible:\n",
    "\n",
    "- contigous blocks\n",
    "- random block in the dataframe\n",
    "\n",
    "for now contigous blocks are used"
   ]
  },
  {
   "cell_type": "code",
   "execution_count": null,
   "id": "e4d73d6c-a82f-43c3-a8ff-cd6cfe644fac",
   "metadata": {},
   "outputs": [],
   "source": [
    "#| export\n",
    "class BlockIndexTransform(Transform):\n",
    "    \"\"\"divide timeseries DataFrame index into blocks\"\"\"\n",
    "    def __init__(self, idx: pd.DatetimeIndex, block_len:int =200, offset=1):\n",
    "        store_attr()\n",
    "        self.n = len(idx)\n",
    "        \n",
    "    def encodes(self, i:int) -> pd.DatetimeIndex:       \n",
    "        start = i * self.block_len + self.offset\n",
    "        end = (i+1) * self.block_len + self.offset\n",
    "        assert end <= self.n \n",
    "        \n",
    "        return self.idx[start:end] "
   ]
  },
  {
   "cell_type": "code",
   "execution_count": null,
   "id": "4e51eaf9-d972-4960-b5b3-03ddf4b139fa",
   "metadata": {},
   "outputs": [],
   "source": [
    "blk = BlockIndexTransform(hai.index, 10)"
   ]
  },
  {
   "cell_type": "code",
   "execution_count": null,
   "id": "71c4f834-fb0f-4fb3-a13a-da01198a970a",
   "metadata": {},
   "outputs": [
    {
     "data": {
      "text/html": [
       "<div>\n",
       "  <p>\n",
       "    <strong>BlockIndexTransform</strong>\n",
       "  </p>\n",
       "  <p>(int,object) -&gt; encodes\n",
       "</p>\n",
       "  <p></p>\n",
       "</div>"
      ],
      "text/plain": [
       "BlockIndexTransform:\n",
       "encodes: (int,object) -> encodes\n",
       "decodes: "
      ]
     },
     "execution_count": null,
     "metadata": {},
     "output_type": "execute_result"
    }
   ],
   "source": [
    "blk"
   ]
  },
  {
   "cell_type": "code",
   "execution_count": null,
   "id": "316f91e8-3861-46e5-b6d5-d9c17bccf80e",
   "metadata": {},
   "outputs": [
    {
     "data": {
      "text/plain": [
       "DatetimeIndex(['2000-01-01 00:30:00', '2000-01-01 01:00:00',\n",
       "               '2000-01-01 01:30:00', '2000-01-01 02:00:00',\n",
       "               '2000-01-01 02:30:00', '2000-01-01 03:00:00',\n",
       "               '2000-01-01 03:30:00', '2000-01-01 04:00:00',\n",
       "               '2000-01-01 04:30:00', '2000-01-01 05:00:00',\n",
       "               ...\n",
       "               '2012-12-31 19:30:00', '2012-12-31 20:00:00',\n",
       "               '2012-12-31 20:30:00', '2012-12-31 21:00:00',\n",
       "               '2012-12-31 21:30:00', '2012-12-31 22:00:00',\n",
       "               '2012-12-31 22:30:00', '2012-12-31 23:00:00',\n",
       "               '2012-12-31 23:30:00', '2013-01-01 00:00:00'],\n",
       "              dtype='datetime64[ns]', name='time', length=227952, freq=None)"
      ]
     },
     "execution_count": null,
     "metadata": {},
     "output_type": "execute_result"
    }
   ],
   "source": [
    "hai.index"
   ]
  },
  {
   "cell_type": "code",
   "execution_count": null,
   "id": "db372f33-785c-4e99-8fe0-e439c24b004b",
   "metadata": {},
   "outputs": [
    {
     "data": {
      "text/plain": [
       "DatetimeIndex(['2000-01-01 11:00:00', '2000-01-01 11:30:00',\n",
       "               '2000-01-01 12:00:00', '2000-01-01 12:30:00',\n",
       "               '2000-01-01 13:00:00', '2000-01-01 13:30:00',\n",
       "               '2000-01-01 14:00:00', '2000-01-01 14:30:00',\n",
       "               '2000-01-01 15:00:00', '2000-01-01 15:30:00'],\n",
       "              dtype='datetime64[ns]', name='time', freq=None)"
      ]
     },
     "execution_count": null,
     "metadata": {},
     "output_type": "execute_result"
    }
   ],
   "source": [
    "blk(2)"
   ]
  },
  {
   "cell_type": "markdown",
   "id": "21c89d9e-4acc-4ffb-858c-7fccfd5e30d5",
   "metadata": {},
   "source": [
    "### 2) Meteo Imp Block DataFrames"
   ]
  },
  {
   "cell_type": "markdown",
   "id": "5d544b17-a5e4-4934-83fe-bbc22afc6ec3",
   "metadata": {},
   "source": [
    "Get a chunck out of dataframes given an index"
   ]
  },
  {
   "cell_type": "code",
   "execution_count": null,
   "id": "71f15928-f42a-4dd2-9159-cd683a067cdd",
   "metadata": {},
   "outputs": [],
   "source": [
    "#| export\n",
    "@dataclass\n",
    "class DataControl:\n",
    "    data: pd.DataFrame\n",
    "    control: pd.DataFrame\n",
    "    def _repr_html_(self):\n",
    "            return row_dfs({'data': self.data, 'control': self.control}, title=\"Data Control\", hide_idx=False)\n",
    "    def __iter__(self): return iter((self.data, self.control,))"
   ]
  },
  {
   "cell_type": "code",
   "execution_count": null,
   "id": "acb617f2-28cb-4aa8-8b08-5e15f2289153",
   "metadata": {},
   "outputs": [],
   "source": [
    "df = hai.loc[blk(1)]"
   ]
  },
  {
   "cell_type": "code",
   "execution_count": null,
   "id": "6ddc660c-de6c-4050-9ec6-4a87b6f53204",
   "metadata": {},
   "outputs": [],
   "source": [
    "#| export\n",
    "def _rename_lag(lag):\n",
    "    def _inner(col_name):\n",
    "        return f\"{col_name}_lag_{lag}\"\n",
    "    return _inner"
   ]
  },
  {
   "cell_type": "code",
   "execution_count": null,
   "id": "8598cd54-2460-4e04-a605-c0788a6c9715",
   "metadata": {},
   "outputs": [
    {
     "data": {
      "text/html": [
       "<div>\n",
       "<style scoped>\n",
       "    .dataframe tbody tr th:only-of-type {\n",
       "        vertical-align: middle;\n",
       "    }\n",
       "\n",
       "    .dataframe tbody tr th {\n",
       "        vertical-align: top;\n",
       "    }\n",
       "\n",
       "    .dataframe thead th {\n",
       "        text-align: right;\n",
       "    }\n",
       "</style>\n",
       "<table border=\"1\" class=\"dataframe\">\n",
       "  <thead>\n",
       "    <tr style=\"text-align: right;\">\n",
       "      <th></th>\n",
       "      <th>TA_lag_1</th>\n",
       "      <th>SW_IN_lag_1</th>\n",
       "      <th>VPD_lag_1</th>\n",
       "    </tr>\n",
       "    <tr>\n",
       "      <th>time</th>\n",
       "      <th></th>\n",
       "      <th></th>\n",
       "      <th></th>\n",
       "    </tr>\n",
       "  </thead>\n",
       "  <tbody>\n",
       "    <tr>\n",
       "      <th>2000-01-01 06:00:00</th>\n",
       "      <td>-0.23</td>\n",
       "      <td>0.00</td>\n",
       "      <td>0.122</td>\n",
       "    </tr>\n",
       "    <tr>\n",
       "      <th>2000-01-01 06:30:00</th>\n",
       "      <td>-0.22</td>\n",
       "      <td>0.00</td>\n",
       "      <td>0.098</td>\n",
       "    </tr>\n",
       "    <tr>\n",
       "      <th>2000-01-01 07:00:00</th>\n",
       "      <td>-0.24</td>\n",
       "      <td>0.00</td>\n",
       "      <td>0.066</td>\n",
       "    </tr>\n",
       "    <tr>\n",
       "      <th>2000-01-01 07:30:00</th>\n",
       "      <td>-0.23</td>\n",
       "      <td>0.00</td>\n",
       "      <td>0.044</td>\n",
       "    </tr>\n",
       "    <tr>\n",
       "      <th>2000-01-01 08:00:00</th>\n",
       "      <td>-0.22</td>\n",
       "      <td>0.00</td>\n",
       "      <td>0.026</td>\n",
       "    </tr>\n",
       "    <tr>\n",
       "      <th>2000-01-01 08:30:00</th>\n",
       "      <td>-0.19</td>\n",
       "      <td>0.45</td>\n",
       "      <td>0.016</td>\n",
       "    </tr>\n",
       "    <tr>\n",
       "      <th>2000-01-01 09:00:00</th>\n",
       "      <td>-0.14</td>\n",
       "      <td>3.70</td>\n",
       "      <td>0.010</td>\n",
       "    </tr>\n",
       "    <tr>\n",
       "      <th>2000-01-01 09:30:00</th>\n",
       "      <td>-0.03</td>\n",
       "      <td>7.26</td>\n",
       "      <td>0.006</td>\n",
       "    </tr>\n",
       "    <tr>\n",
       "      <th>2000-01-01 10:00:00</th>\n",
       "      <td>0.04</td>\n",
       "      <td>12.24</td>\n",
       "      <td>0.006</td>\n",
       "    </tr>\n",
       "    <tr>\n",
       "      <th>2000-01-01 10:30:00</th>\n",
       "      <td>0.10</td>\n",
       "      <td>16.51</td>\n",
       "      <td>0.006</td>\n",
       "    </tr>\n",
       "  </tbody>\n",
       "</table>\n",
       "</div>"
      ],
      "text/plain": [
       "                     TA_lag_1  SW_IN_lag_1  VPD_lag_1\n",
       "time                                                 \n",
       "2000-01-01 06:00:00     -0.23         0.00      0.122\n",
       "2000-01-01 06:30:00     -0.22         0.00      0.098\n",
       "2000-01-01 07:00:00     -0.24         0.00      0.066\n",
       "2000-01-01 07:30:00     -0.23         0.00      0.044\n",
       "2000-01-01 08:00:00     -0.22         0.00      0.026\n",
       "2000-01-01 08:30:00     -0.19         0.45      0.016\n",
       "2000-01-01 09:00:00     -0.14         3.70      0.010\n",
       "2000-01-01 09:30:00     -0.03         7.26      0.006\n",
       "2000-01-01 10:00:00      0.04        12.24      0.006\n",
       "2000-01-01 10:30:00      0.10        16.51      0.006"
      ]
     },
     "execution_count": null,
     "metadata": {},
     "output_type": "execute_result"
    }
   ],
   "source": [
    "df.rename(columns=_rename_lag(1))"
   ]
  },
  {
   "cell_type": "code",
   "execution_count": null,
   "id": "bb691e61-e8dc-4f30-9b62-a5bf1411f52c",
   "metadata": {},
   "outputs": [],
   "source": [
    "#| export\n",
    "def _lag_df(df, lag):\n",
    "    \"add lagged columns\"\n",
    "    df_lag = df.shift(lag).rename(columns = _rename_lag(lag))\n",
    "    return df_lag\n",
    "    "
   ]
  },
  {
   "cell_type": "code",
   "execution_count": null,
   "id": "887b0a9c-4602-4734-8816-044104f6eb74",
   "metadata": {},
   "outputs": [
    {
     "data": {
      "text/html": [
       "<div>\n",
       "<style scoped>\n",
       "    .dataframe tbody tr th:only-of-type {\n",
       "        vertical-align: middle;\n",
       "    }\n",
       "\n",
       "    .dataframe tbody tr th {\n",
       "        vertical-align: top;\n",
       "    }\n",
       "\n",
       "    .dataframe thead th {\n",
       "        text-align: right;\n",
       "    }\n",
       "</style>\n",
       "<table border=\"1\" class=\"dataframe\">\n",
       "  <thead>\n",
       "    <tr style=\"text-align: right;\">\n",
       "      <th></th>\n",
       "      <th>TA_lag_1</th>\n",
       "      <th>SW_IN_lag_1</th>\n",
       "      <th>VPD_lag_1</th>\n",
       "    </tr>\n",
       "    <tr>\n",
       "      <th>time</th>\n",
       "      <th></th>\n",
       "      <th></th>\n",
       "      <th></th>\n",
       "    </tr>\n",
       "  </thead>\n",
       "  <tbody>\n",
       "    <tr>\n",
       "      <th>2000-01-01 06:00:00</th>\n",
       "      <td>NaN</td>\n",
       "      <td>NaN</td>\n",
       "      <td>NaN</td>\n",
       "    </tr>\n",
       "    <tr>\n",
       "      <th>2000-01-01 06:30:00</th>\n",
       "      <td>-0.23</td>\n",
       "      <td>0.00</td>\n",
       "      <td>0.122</td>\n",
       "    </tr>\n",
       "    <tr>\n",
       "      <th>2000-01-01 07:00:00</th>\n",
       "      <td>-0.22</td>\n",
       "      <td>0.00</td>\n",
       "      <td>0.098</td>\n",
       "    </tr>\n",
       "    <tr>\n",
       "      <th>2000-01-01 07:30:00</th>\n",
       "      <td>-0.24</td>\n",
       "      <td>0.00</td>\n",
       "      <td>0.066</td>\n",
       "    </tr>\n",
       "    <tr>\n",
       "      <th>2000-01-01 08:00:00</th>\n",
       "      <td>-0.23</td>\n",
       "      <td>0.00</td>\n",
       "      <td>0.044</td>\n",
       "    </tr>\n",
       "    <tr>\n",
       "      <th>2000-01-01 08:30:00</th>\n",
       "      <td>-0.22</td>\n",
       "      <td>0.00</td>\n",
       "      <td>0.026</td>\n",
       "    </tr>\n",
       "    <tr>\n",
       "      <th>2000-01-01 09:00:00</th>\n",
       "      <td>-0.19</td>\n",
       "      <td>0.45</td>\n",
       "      <td>0.016</td>\n",
       "    </tr>\n",
       "    <tr>\n",
       "      <th>2000-01-01 09:30:00</th>\n",
       "      <td>-0.14</td>\n",
       "      <td>3.70</td>\n",
       "      <td>0.010</td>\n",
       "    </tr>\n",
       "    <tr>\n",
       "      <th>2000-01-01 10:00:00</th>\n",
       "      <td>-0.03</td>\n",
       "      <td>7.26</td>\n",
       "      <td>0.006</td>\n",
       "    </tr>\n",
       "    <tr>\n",
       "      <th>2000-01-01 10:30:00</th>\n",
       "      <td>0.04</td>\n",
       "      <td>12.24</td>\n",
       "      <td>0.006</td>\n",
       "    </tr>\n",
       "  </tbody>\n",
       "</table>\n",
       "</div>"
      ],
      "text/plain": [
       "                     TA_lag_1  SW_IN_lag_1  VPD_lag_1\n",
       "time                                                 \n",
       "2000-01-01 06:00:00       NaN          NaN        NaN\n",
       "2000-01-01 06:30:00     -0.23         0.00      0.122\n",
       "2000-01-01 07:00:00     -0.22         0.00      0.098\n",
       "2000-01-01 07:30:00     -0.24         0.00      0.066\n",
       "2000-01-01 08:00:00     -0.23         0.00      0.044\n",
       "2000-01-01 08:30:00     -0.22         0.00      0.026\n",
       "2000-01-01 09:00:00     -0.19         0.45      0.016\n",
       "2000-01-01 09:30:00     -0.14         3.70      0.010\n",
       "2000-01-01 10:00:00     -0.03         7.26      0.006\n",
       "2000-01-01 10:30:00      0.04        12.24      0.006"
      ]
     },
     "execution_count": null,
     "metadata": {},
     "output_type": "execute_result"
    }
   ],
   "source": [
    "_lag_df(df, 1)"
   ]
  },
  {
   "cell_type": "code",
   "execution_count": null,
   "id": "df948694-5ac9-4614-9fd3-3b865f2c68a9",
   "metadata": {},
   "outputs": [],
   "source": [
    "#| export\n",
    "def _add_lags_df(df, lags):\n",
    "    df_lagged = df\n",
    "    for lag in listify(lags):\n",
    "        df_lagged = pd.merge(df_lagged, _lag_df(df, lag), left_index=True, right_index=True)\n",
    "    return df_lagged"
   ]
  },
  {
   "cell_type": "code",
   "execution_count": null,
   "id": "07b4261a-defb-4d91-a59a-a94633efd040",
   "metadata": {},
   "outputs": [
    {
     "data": {
      "text/html": [
       "<div>\n",
       "<style scoped>\n",
       "    .dataframe tbody tr th:only-of-type {\n",
       "        vertical-align: middle;\n",
       "    }\n",
       "\n",
       "    .dataframe tbody tr th {\n",
       "        vertical-align: top;\n",
       "    }\n",
       "\n",
       "    .dataframe thead th {\n",
       "        text-align: right;\n",
       "    }\n",
       "</style>\n",
       "<table border=\"1\" class=\"dataframe\">\n",
       "  <thead>\n",
       "    <tr style=\"text-align: right;\">\n",
       "      <th></th>\n",
       "      <th>TA</th>\n",
       "      <th>SW_IN</th>\n",
       "      <th>VPD</th>\n",
       "      <th>TA_lag_1</th>\n",
       "      <th>SW_IN_lag_1</th>\n",
       "      <th>VPD_lag_1</th>\n",
       "      <th>TA_lag_2</th>\n",
       "      <th>SW_IN_lag_2</th>\n",
       "      <th>VPD_lag_2</th>\n",
       "    </tr>\n",
       "    <tr>\n",
       "      <th>time</th>\n",
       "      <th></th>\n",
       "      <th></th>\n",
       "      <th></th>\n",
       "      <th></th>\n",
       "      <th></th>\n",
       "      <th></th>\n",
       "      <th></th>\n",
       "      <th></th>\n",
       "      <th></th>\n",
       "    </tr>\n",
       "  </thead>\n",
       "  <tbody>\n",
       "    <tr>\n",
       "      <th>2000-01-01 06:00:00</th>\n",
       "      <td>-0.23</td>\n",
       "      <td>0.00</td>\n",
       "      <td>0.122</td>\n",
       "      <td>NaN</td>\n",
       "      <td>NaN</td>\n",
       "      <td>NaN</td>\n",
       "      <td>NaN</td>\n",
       "      <td>NaN</td>\n",
       "      <td>NaN</td>\n",
       "    </tr>\n",
       "    <tr>\n",
       "      <th>2000-01-01 06:30:00</th>\n",
       "      <td>-0.22</td>\n",
       "      <td>0.00</td>\n",
       "      <td>0.098</td>\n",
       "      <td>-0.23</td>\n",
       "      <td>0.00</td>\n",
       "      <td>0.122</td>\n",
       "      <td>NaN</td>\n",
       "      <td>NaN</td>\n",
       "      <td>NaN</td>\n",
       "    </tr>\n",
       "    <tr>\n",
       "      <th>2000-01-01 07:00:00</th>\n",
       "      <td>-0.24</td>\n",
       "      <td>0.00</td>\n",
       "      <td>0.066</td>\n",
       "      <td>-0.22</td>\n",
       "      <td>0.00</td>\n",
       "      <td>0.098</td>\n",
       "      <td>-0.23</td>\n",
       "      <td>0.00</td>\n",
       "      <td>0.122</td>\n",
       "    </tr>\n",
       "    <tr>\n",
       "      <th>2000-01-01 07:30:00</th>\n",
       "      <td>-0.23</td>\n",
       "      <td>0.00</td>\n",
       "      <td>0.044</td>\n",
       "      <td>-0.24</td>\n",
       "      <td>0.00</td>\n",
       "      <td>0.066</td>\n",
       "      <td>-0.22</td>\n",
       "      <td>0.00</td>\n",
       "      <td>0.098</td>\n",
       "    </tr>\n",
       "    <tr>\n",
       "      <th>2000-01-01 08:00:00</th>\n",
       "      <td>-0.22</td>\n",
       "      <td>0.00</td>\n",
       "      <td>0.026</td>\n",
       "      <td>-0.23</td>\n",
       "      <td>0.00</td>\n",
       "      <td>0.044</td>\n",
       "      <td>-0.24</td>\n",
       "      <td>0.00</td>\n",
       "      <td>0.066</td>\n",
       "    </tr>\n",
       "    <tr>\n",
       "      <th>2000-01-01 08:30:00</th>\n",
       "      <td>-0.19</td>\n",
       "      <td>0.45</td>\n",
       "      <td>0.016</td>\n",
       "      <td>-0.22</td>\n",
       "      <td>0.00</td>\n",
       "      <td>0.026</td>\n",
       "      <td>-0.23</td>\n",
       "      <td>0.00</td>\n",
       "      <td>0.044</td>\n",
       "    </tr>\n",
       "    <tr>\n",
       "      <th>2000-01-01 09:00:00</th>\n",
       "      <td>-0.14</td>\n",
       "      <td>3.70</td>\n",
       "      <td>0.010</td>\n",
       "      <td>-0.19</td>\n",
       "      <td>0.45</td>\n",
       "      <td>0.016</td>\n",
       "      <td>-0.22</td>\n",
       "      <td>0.00</td>\n",
       "      <td>0.026</td>\n",
       "    </tr>\n",
       "    <tr>\n",
       "      <th>2000-01-01 09:30:00</th>\n",
       "      <td>-0.03</td>\n",
       "      <td>7.26</td>\n",
       "      <td>0.006</td>\n",
       "      <td>-0.14</td>\n",
       "      <td>3.70</td>\n",
       "      <td>0.010</td>\n",
       "      <td>-0.19</td>\n",
       "      <td>0.45</td>\n",
       "      <td>0.016</td>\n",
       "    </tr>\n",
       "    <tr>\n",
       "      <th>2000-01-01 10:00:00</th>\n",
       "      <td>0.04</td>\n",
       "      <td>12.24</td>\n",
       "      <td>0.006</td>\n",
       "      <td>-0.03</td>\n",
       "      <td>7.26</td>\n",
       "      <td>0.006</td>\n",
       "      <td>-0.14</td>\n",
       "      <td>3.70</td>\n",
       "      <td>0.010</td>\n",
       "    </tr>\n",
       "    <tr>\n",
       "      <th>2000-01-01 10:30:00</th>\n",
       "      <td>0.10</td>\n",
       "      <td>16.51</td>\n",
       "      <td>0.006</td>\n",
       "      <td>0.04</td>\n",
       "      <td>12.24</td>\n",
       "      <td>0.006</td>\n",
       "      <td>-0.03</td>\n",
       "      <td>7.26</td>\n",
       "      <td>0.006</td>\n",
       "    </tr>\n",
       "  </tbody>\n",
       "</table>\n",
       "</div>"
      ],
      "text/plain": [
       "                       TA  SW_IN    VPD  TA_lag_1  SW_IN_lag_1  VPD_lag_1  \\\n",
       "time                                                                        \n",
       "2000-01-01 06:00:00 -0.23   0.00  0.122       NaN          NaN        NaN   \n",
       "2000-01-01 06:30:00 -0.22   0.00  0.098     -0.23         0.00      0.122   \n",
       "2000-01-01 07:00:00 -0.24   0.00  0.066     -0.22         0.00      0.098   \n",
       "2000-01-01 07:30:00 -0.23   0.00  0.044     -0.24         0.00      0.066   \n",
       "2000-01-01 08:00:00 -0.22   0.00  0.026     -0.23         0.00      0.044   \n",
       "2000-01-01 08:30:00 -0.19   0.45  0.016     -0.22         0.00      0.026   \n",
       "2000-01-01 09:00:00 -0.14   3.70  0.010     -0.19         0.45      0.016   \n",
       "2000-01-01 09:30:00 -0.03   7.26  0.006     -0.14         3.70      0.010   \n",
       "2000-01-01 10:00:00  0.04  12.24  0.006     -0.03         7.26      0.006   \n",
       "2000-01-01 10:30:00  0.10  16.51  0.006      0.04        12.24      0.006   \n",
       "\n",
       "                     TA_lag_2  SW_IN_lag_2  VPD_lag_2  \n",
       "time                                                   \n",
       "2000-01-01 06:00:00       NaN          NaN        NaN  \n",
       "2000-01-01 06:30:00       NaN          NaN        NaN  \n",
       "2000-01-01 07:00:00     -0.23         0.00      0.122  \n",
       "2000-01-01 07:30:00     -0.22         0.00      0.098  \n",
       "2000-01-01 08:00:00     -0.24         0.00      0.066  \n",
       "2000-01-01 08:30:00     -0.23         0.00      0.044  \n",
       "2000-01-01 09:00:00     -0.22         0.00      0.026  \n",
       "2000-01-01 09:30:00     -0.19         0.45      0.016  \n",
       "2000-01-01 10:00:00     -0.14         3.70      0.010  \n",
       "2000-01-01 10:30:00     -0.03         7.26      0.006  "
      ]
     },
     "execution_count": null,
     "metadata": {},
     "output_type": "execute_result"
    }
   ],
   "source": [
    "_add_lags_df(df, [1,2])"
   ]
  },
  {
   "cell_type": "code",
   "execution_count": null,
   "id": "6f4ad592-bf8d-4bb0-9dbe-e960124c6e18",
   "metadata": {},
   "outputs": [],
   "source": [
    "#| export\n",
    "class BlockDfTransform(Transform):\n",
    "    \"\"\"divide timeseries DataFrame index into blocks\"\"\"\n",
    "    def __init__(self, data: pd.DataFrame, control: pd.DataFrame, control_lags: int|Iterable[int]):\n",
    "        store_attr()\n",
    "        self.control = _add_lags_df(control, control_lags)\n",
    "    def encodes(self, idx: pd.DatetimeIndex) -> DataControl:\n",
    "        return DataControl(self.data.loc[idx], self.control.loc[idx])"
   ]
  },
  {
   "cell_type": "code",
   "execution_count": null,
   "id": "87df7d02-07ed-4e4a-8d41-c4346d00934e",
   "metadata": {},
   "outputs": [],
   "source": [
    "blkdf = BlockDfTransform(hai, hai_era, 1)"
   ]
  },
  {
   "cell_type": "code",
   "execution_count": null,
   "id": "d509607c-4d3c-470f-b235-80286dbabf19",
   "metadata": {},
   "outputs": [
    {
     "data": {
      "text/html": [
       "<p style='font-size: 1.5rem; font-decoration: bold'>Data Control<p><div style=\"display: flex; column-gap: 20px; flex-wrap: wrap;\" class='table table-striped table-sm'> <div> <p style='font-size: 1.3rem;'>data</p> <style type=\"text/css\">\n",
       "</style>\n",
       "<table id=\"T_f2694\">\n",
       "  <thead>\n",
       "    <tr>\n",
       "      <th class=\"blank level0\" >&nbsp;</th>\n",
       "      <th id=\"T_f2694_level0_col0\" class=\"col_heading level0 col0\" >TA</th>\n",
       "      <th id=\"T_f2694_level0_col1\" class=\"col_heading level0 col1\" >SW_IN</th>\n",
       "      <th id=\"T_f2694_level0_col2\" class=\"col_heading level0 col2\" >VPD</th>\n",
       "    </tr>\n",
       "    <tr>\n",
       "      <th class=\"index_name level0\" >time</th>\n",
       "      <th class=\"blank col0\" >&nbsp;</th>\n",
       "      <th class=\"blank col1\" >&nbsp;</th>\n",
       "      <th class=\"blank col2\" >&nbsp;</th>\n",
       "    </tr>\n",
       "  </thead>\n",
       "  <tbody>\n",
       "    <tr>\n",
       "      <th id=\"T_f2694_level0_row0\" class=\"row_heading level0 row0\" >2000-01-01 06:00:00</th>\n",
       "      <td id=\"T_f2694_row0_col0\" class=\"data row0 col0\" >-0.2300</td>\n",
       "      <td id=\"T_f2694_row0_col1\" class=\"data row0 col1\" >0.0000</td>\n",
       "      <td id=\"T_f2694_row0_col2\" class=\"data row0 col2\" >0.1220</td>\n",
       "    </tr>\n",
       "    <tr>\n",
       "      <th id=\"T_f2694_level0_row1\" class=\"row_heading level0 row1\" >2000-01-01 06:30:00</th>\n",
       "      <td id=\"T_f2694_row1_col0\" class=\"data row1 col0\" >-0.2200</td>\n",
       "      <td id=\"T_f2694_row1_col1\" class=\"data row1 col1\" >0.0000</td>\n",
       "      <td id=\"T_f2694_row1_col2\" class=\"data row1 col2\" >0.0980</td>\n",
       "    </tr>\n",
       "    <tr>\n",
       "      <th id=\"T_f2694_level0_row2\" class=\"row_heading level0 row2\" >2000-01-01 07:00:00</th>\n",
       "      <td id=\"T_f2694_row2_col0\" class=\"data row2 col0\" >-0.2400</td>\n",
       "      <td id=\"T_f2694_row2_col1\" class=\"data row2 col1\" >0.0000</td>\n",
       "      <td id=\"T_f2694_row2_col2\" class=\"data row2 col2\" >0.0660</td>\n",
       "    </tr>\n",
       "    <tr>\n",
       "      <th id=\"T_f2694_level0_row3\" class=\"row_heading level0 row3\" >2000-01-01 07:30:00</th>\n",
       "      <td id=\"T_f2694_row3_col0\" class=\"data row3 col0\" >-0.2300</td>\n",
       "      <td id=\"T_f2694_row3_col1\" class=\"data row3 col1\" >0.0000</td>\n",
       "      <td id=\"T_f2694_row3_col2\" class=\"data row3 col2\" >0.0440</td>\n",
       "    </tr>\n",
       "    <tr>\n",
       "      <th id=\"T_f2694_level0_row4\" class=\"row_heading level0 row4\" >2000-01-01 08:00:00</th>\n",
       "      <td id=\"T_f2694_row4_col0\" class=\"data row4 col0\" >-0.2200</td>\n",
       "      <td id=\"T_f2694_row4_col1\" class=\"data row4 col1\" >0.0000</td>\n",
       "      <td id=\"T_f2694_row4_col2\" class=\"data row4 col2\" >0.0260</td>\n",
       "    </tr>\n",
       "    <tr>\n",
       "      <th id=\"T_f2694_level0_row5\" class=\"row_heading level0 row5\" >2000-01-01 08:30:00</th>\n",
       "      <td id=\"T_f2694_row5_col0\" class=\"data row5 col0\" >-0.1900</td>\n",
       "      <td id=\"T_f2694_row5_col1\" class=\"data row5 col1\" >0.4500</td>\n",
       "      <td id=\"T_f2694_row5_col2\" class=\"data row5 col2\" >0.0160</td>\n",
       "    </tr>\n",
       "    <tr>\n",
       "      <th id=\"T_f2694_level0_row6\" class=\"row_heading level0 row6\" >2000-01-01 09:00:00</th>\n",
       "      <td id=\"T_f2694_row6_col0\" class=\"data row6 col0\" >-0.1400</td>\n",
       "      <td id=\"T_f2694_row6_col1\" class=\"data row6 col1\" >3.7000</td>\n",
       "      <td id=\"T_f2694_row6_col2\" class=\"data row6 col2\" >0.0100</td>\n",
       "    </tr>\n",
       "    <tr>\n",
       "      <th id=\"T_f2694_level0_row7\" class=\"row_heading level0 row7\" >2000-01-01 09:30:00</th>\n",
       "      <td id=\"T_f2694_row7_col0\" class=\"data row7 col0\" >-0.0300</td>\n",
       "      <td id=\"T_f2694_row7_col1\" class=\"data row7 col1\" >7.2600</td>\n",
       "      <td id=\"T_f2694_row7_col2\" class=\"data row7 col2\" >0.0060</td>\n",
       "    </tr>\n",
       "    <tr>\n",
       "      <th id=\"T_f2694_level0_row8\" class=\"row_heading level0 row8\" >2000-01-01 10:00:00</th>\n",
       "      <td id=\"T_f2694_row8_col0\" class=\"data row8 col0\" >0.0400</td>\n",
       "      <td id=\"T_f2694_row8_col1\" class=\"data row8 col1\" >12.2400</td>\n",
       "      <td id=\"T_f2694_row8_col2\" class=\"data row8 col2\" >0.0060</td>\n",
       "    </tr>\n",
       "    <tr>\n",
       "      <th id=\"T_f2694_level0_row9\" class=\"row_heading level0 row9\" >2000-01-01 10:30:00</th>\n",
       "      <td id=\"T_f2694_row9_col0\" class=\"data row9 col0\" >0.1000</td>\n",
       "      <td id=\"T_f2694_row9_col1\" class=\"data row9 col1\" >16.5100</td>\n",
       "      <td id=\"T_f2694_row9_col2\" class=\"data row9 col2\" >0.0060</td>\n",
       "    </tr>\n",
       "  </tbody>\n",
       "</table>\n",
       " </div><div> <p style='font-size: 1.3rem;'>control</p> <style type=\"text/css\">\n",
       "</style>\n",
       "<table id=\"T_4c3b6\">\n",
       "  <thead>\n",
       "    <tr>\n",
       "      <th class=\"blank level0\" >&nbsp;</th>\n",
       "      <th id=\"T_4c3b6_level0_col0\" class=\"col_heading level0 col0\" >TA_ERA</th>\n",
       "      <th id=\"T_4c3b6_level0_col1\" class=\"col_heading level0 col1\" >SW_IN_ERA</th>\n",
       "      <th id=\"T_4c3b6_level0_col2\" class=\"col_heading level0 col2\" >VPD_ERA</th>\n",
       "      <th id=\"T_4c3b6_level0_col3\" class=\"col_heading level0 col3\" >TA_ERA_lag_1</th>\n",
       "      <th id=\"T_4c3b6_level0_col4\" class=\"col_heading level0 col4\" >SW_IN_ERA_lag_1</th>\n",
       "      <th id=\"T_4c3b6_level0_col5\" class=\"col_heading level0 col5\" >VPD_ERA_lag_1</th>\n",
       "    </tr>\n",
       "    <tr>\n",
       "      <th class=\"index_name level0\" >time</th>\n",
       "      <th class=\"blank col0\" >&nbsp;</th>\n",
       "      <th class=\"blank col1\" >&nbsp;</th>\n",
       "      <th class=\"blank col2\" >&nbsp;</th>\n",
       "      <th class=\"blank col3\" >&nbsp;</th>\n",
       "      <th class=\"blank col4\" >&nbsp;</th>\n",
       "      <th class=\"blank col5\" >&nbsp;</th>\n",
       "    </tr>\n",
       "  </thead>\n",
       "  <tbody>\n",
       "    <tr>\n",
       "      <th id=\"T_4c3b6_level0_row0\" class=\"row_heading level0 row0\" >2000-01-01 06:00:00</th>\n",
       "      <td id=\"T_4c3b6_row0_col0\" class=\"data row0 col0\" >-0.2800</td>\n",
       "      <td id=\"T_4c3b6_row0_col1\" class=\"data row0 col1\" >0.0000</td>\n",
       "      <td id=\"T_4c3b6_row0_col2\" class=\"data row0 col2\" >0.5010</td>\n",
       "      <td id=\"T_4c3b6_row0_col3\" class=\"data row0 col3\" >-0.3490</td>\n",
       "      <td id=\"T_4c3b6_row0_col4\" class=\"data row0 col4\" >0.0000</td>\n",
       "      <td id=\"T_4c3b6_row0_col5\" class=\"data row0 col5\" >0.4970</td>\n",
       "    </tr>\n",
       "    <tr>\n",
       "      <th id=\"T_4c3b6_level0_row1\" class=\"row_heading level0 row1\" >2000-01-01 06:30:00</th>\n",
       "      <td id=\"T_4c3b6_row1_col0\" class=\"data row1 col0\" >-0.2110</td>\n",
       "      <td id=\"T_4c3b6_row1_col1\" class=\"data row1 col1\" >0.0000</td>\n",
       "      <td id=\"T_4c3b6_row1_col2\" class=\"data row1 col2\" >0.5060</td>\n",
       "      <td id=\"T_4c3b6_row1_col3\" class=\"data row1 col3\" >-0.2800</td>\n",
       "      <td id=\"T_4c3b6_row1_col4\" class=\"data row1 col4\" >0.0000</td>\n",
       "      <td id=\"T_4c3b6_row1_col5\" class=\"data row1 col5\" >0.5010</td>\n",
       "    </tr>\n",
       "    <tr>\n",
       "      <th id=\"T_4c3b6_level0_row2\" class=\"row_heading level0 row2\" >2000-01-01 07:00:00</th>\n",
       "      <td id=\"T_4c3b6_row2_col0\" class=\"data row2 col0\" >-0.1420</td>\n",
       "      <td id=\"T_4c3b6_row2_col1\" class=\"data row2 col1\" >0.0000</td>\n",
       "      <td id=\"T_4c3b6_row2_col2\" class=\"data row2 col2\" >0.5100</td>\n",
       "      <td id=\"T_4c3b6_row2_col3\" class=\"data row2 col3\" >-0.2110</td>\n",
       "      <td id=\"T_4c3b6_row2_col4\" class=\"data row2 col4\" >0.0000</td>\n",
       "      <td id=\"T_4c3b6_row2_col5\" class=\"data row2 col5\" >0.5060</td>\n",
       "    </tr>\n",
       "    <tr>\n",
       "      <th id=\"T_4c3b6_level0_row3\" class=\"row_heading level0 row3\" >2000-01-01 07:30:00</th>\n",
       "      <td id=\"T_4c3b6_row3_col0\" class=\"data row3 col0\" >-0.0740</td>\n",
       "      <td id=\"T_4c3b6_row3_col1\" class=\"data row3 col1\" >0.0000</td>\n",
       "      <td id=\"T_4c3b6_row3_col2\" class=\"data row3 col2\" >0.5150</td>\n",
       "      <td id=\"T_4c3b6_row3_col3\" class=\"data row3 col3\" >-0.1420</td>\n",
       "      <td id=\"T_4c3b6_row3_col4\" class=\"data row3 col4\" >0.0000</td>\n",
       "      <td id=\"T_4c3b6_row3_col5\" class=\"data row3 col5\" >0.5100</td>\n",
       "    </tr>\n",
       "    <tr>\n",
       "      <th id=\"T_4c3b6_level0_row4\" class=\"row_heading level0 row4\" >2000-01-01 08:00:00</th>\n",
       "      <td id=\"T_4c3b6_row4_col0\" class=\"data row4 col0\" >0.0440</td>\n",
       "      <td id=\"T_4c3b6_row4_col1\" class=\"data row4 col1\" >0.0000</td>\n",
       "      <td id=\"T_4c3b6_row4_col2\" class=\"data row4 col2\" >0.5270</td>\n",
       "      <td id=\"T_4c3b6_row4_col3\" class=\"data row4 col3\" >-0.0740</td>\n",
       "      <td id=\"T_4c3b6_row4_col4\" class=\"data row4 col4\" >0.0000</td>\n",
       "      <td id=\"T_4c3b6_row4_col5\" class=\"data row4 col5\" >0.5150</td>\n",
       "    </tr>\n",
       "    <tr>\n",
       "      <th id=\"T_4c3b6_level0_row5\" class=\"row_heading level0 row5\" >2000-01-01 08:30:00</th>\n",
       "      <td id=\"T_4c3b6_row5_col0\" class=\"data row5 col0\" >0.1610</td>\n",
       "      <td id=\"T_4c3b6_row5_col1\" class=\"data row5 col1\" >0.0000</td>\n",
       "      <td id=\"T_4c3b6_row5_col2\" class=\"data row5 col2\" >0.5390</td>\n",
       "      <td id=\"T_4c3b6_row5_col3\" class=\"data row5 col3\" >0.0440</td>\n",
       "      <td id=\"T_4c3b6_row5_col4\" class=\"data row5 col4\" >0.0000</td>\n",
       "      <td id=\"T_4c3b6_row5_col5\" class=\"data row5 col5\" >0.5270</td>\n",
       "    </tr>\n",
       "    <tr>\n",
       "      <th id=\"T_4c3b6_level0_row6\" class=\"row_heading level0 row6\" >2000-01-01 09:00:00</th>\n",
       "      <td id=\"T_4c3b6_row6_col0\" class=\"data row6 col0\" >0.2790</td>\n",
       "      <td id=\"T_4c3b6_row6_col1\" class=\"data row6 col1\" >2.6550</td>\n",
       "      <td id=\"T_4c3b6_row6_col2\" class=\"data row6 col2\" >0.5510</td>\n",
       "      <td id=\"T_4c3b6_row6_col3\" class=\"data row6 col3\" >0.1610</td>\n",
       "      <td id=\"T_4c3b6_row6_col4\" class=\"data row6 col4\" >0.0000</td>\n",
       "      <td id=\"T_4c3b6_row6_col5\" class=\"data row6 col5\" >0.5390</td>\n",
       "    </tr>\n",
       "    <tr>\n",
       "      <th id=\"T_4c3b6_level0_row7\" class=\"row_heading level0 row7\" >2000-01-01 09:30:00</th>\n",
       "      <td id=\"T_4c3b6_row7_col0\" class=\"data row7 col0\" >0.3960</td>\n",
       "      <td id=\"T_4c3b6_row7_col1\" class=\"data row7 col1\" >7.0800</td>\n",
       "      <td id=\"T_4c3b6_row7_col2\" class=\"data row7 col2\" >0.5630</td>\n",
       "      <td id=\"T_4c3b6_row7_col3\" class=\"data row7 col3\" >0.2790</td>\n",
       "      <td id=\"T_4c3b6_row7_col4\" class=\"data row7 col4\" >2.6550</td>\n",
       "      <td id=\"T_4c3b6_row7_col5\" class=\"data row7 col5\" >0.5510</td>\n",
       "    </tr>\n",
       "    <tr>\n",
       "      <th id=\"T_4c3b6_level0_row8\" class=\"row_heading level0 row8\" >2000-01-01 10:00:00</th>\n",
       "      <td id=\"T_4c3b6_row8_col0\" class=\"data row8 col0\" >0.5140</td>\n",
       "      <td id=\"T_4c3b6_row8_col1\" class=\"data row8 col1\" >10.9880</td>\n",
       "      <td id=\"T_4c3b6_row8_col2\" class=\"data row8 col2\" >0.5750</td>\n",
       "      <td id=\"T_4c3b6_row8_col3\" class=\"data row8 col3\" >0.3960</td>\n",
       "      <td id=\"T_4c3b6_row8_col4\" class=\"data row8 col4\" >7.0800</td>\n",
       "      <td id=\"T_4c3b6_row8_col5\" class=\"data row8 col5\" >0.5630</td>\n",
       "    </tr>\n",
       "    <tr>\n",
       "      <th id=\"T_4c3b6_level0_row9\" class=\"row_heading level0 row9\" >2000-01-01 10:30:00</th>\n",
       "      <td id=\"T_4c3b6_row9_col0\" class=\"data row9 col0\" >0.6310</td>\n",
       "      <td id=\"T_4c3b6_row9_col1\" class=\"data row9 col1\" >18.0120</td>\n",
       "      <td id=\"T_4c3b6_row9_col2\" class=\"data row9 col2\" >0.5860</td>\n",
       "      <td id=\"T_4c3b6_row9_col3\" class=\"data row9 col3\" >0.5140</td>\n",
       "      <td id=\"T_4c3b6_row9_col4\" class=\"data row9 col4\" >10.9880</td>\n",
       "      <td id=\"T_4c3b6_row9_col5\" class=\"data row9 col5\" >0.5750</td>\n",
       "    </tr>\n",
       "  </tbody>\n",
       "</table>\n",
       " </div></div>"
      ],
      "text/plain": [
       "DataControl(data=                       TA  SW_IN    VPD\n",
       "time                                   \n",
       "2000-01-01 06:00:00 -0.23   0.00  0.122\n",
       "2000-01-01 06:30:00 -0.22   0.00  0.098\n",
       "2000-01-01 07:00:00 -0.24   0.00  0.066\n",
       "2000-01-01 07:30:00 -0.23   0.00  0.044\n",
       "2000-01-01 08:00:00 -0.22   0.00  0.026\n",
       "2000-01-01 08:30:00 -0.19   0.45  0.016\n",
       "2000-01-01 09:00:00 -0.14   3.70  0.010\n",
       "2000-01-01 09:30:00 -0.03   7.26  0.006\n",
       "2000-01-01 10:00:00  0.04  12.24  0.006\n",
       "2000-01-01 10:30:00  0.10  16.51  0.006, control=                     TA_ERA  SW_IN_ERA  VPD_ERA  TA_ERA_lag_1  \\\n",
       "time                                                            \n",
       "2000-01-01 06:00:00  -0.280   0.000000    0.501        -0.349   \n",
       "2000-01-01 06:30:00  -0.211   0.000000    0.506        -0.280   \n",
       "2000-01-01 07:00:00  -0.142   0.000000    0.510        -0.211   \n",
       "2000-01-01 07:30:00  -0.074   0.000000    0.515        -0.142   \n",
       "2000-01-01 08:00:00   0.044   0.000000    0.527        -0.074   \n",
       "2000-01-01 08:30:00   0.161   0.000000    0.539         0.044   \n",
       "2000-01-01 09:00:00   0.279   2.655000    0.551         0.161   \n",
       "2000-01-01 09:30:00   0.396   7.080000    0.563         0.279   \n",
       "2000-01-01 10:00:00   0.514  10.988000    0.575         0.396   \n",
       "2000-01-01 10:30:00   0.631  18.011999    0.586         0.514   \n",
       "\n",
       "                     SW_IN_ERA_lag_1  VPD_ERA_lag_1  \n",
       "time                                                 \n",
       "2000-01-01 06:00:00            0.000          0.497  \n",
       "2000-01-01 06:30:00            0.000          0.501  \n",
       "2000-01-01 07:00:00            0.000          0.506  \n",
       "2000-01-01 07:30:00            0.000          0.510  \n",
       "2000-01-01 08:00:00            0.000          0.515  \n",
       "2000-01-01 08:30:00            0.000          0.527  \n",
       "2000-01-01 09:00:00            0.000          0.539  \n",
       "2000-01-01 09:30:00            2.655          0.551  \n",
       "2000-01-01 10:00:00            7.080          0.563  \n",
       "2000-01-01 10:30:00           10.988          0.575  )"
      ]
     },
     "execution_count": null,
     "metadata": {},
     "output_type": "execute_result"
    }
   ],
   "source": [
    "blkdf(blk(1))"
   ]
  },
  {
   "cell_type": "markdown",
   "id": "7b7c57e7-4ebb-46b9-a89d-ec980277ae67",
   "metadata": {},
   "source": [
    "taking a day in the summer so there is an higher values for the variables"
   ]
  },
  {
   "cell_type": "code",
   "execution_count": null,
   "id": "57479bbb-1a76-44d1-af82-0d3666d2ae7d",
   "metadata": {},
   "outputs": [
    {
     "data": {
      "text/html": [
       "<div>\n",
       "<style scoped>\n",
       "    .dataframe tbody tr th:only-of-type {\n",
       "        vertical-align: middle;\n",
       "    }\n",
       "\n",
       "    .dataframe tbody tr th {\n",
       "        vertical-align: top;\n",
       "    }\n",
       "\n",
       "    .dataframe thead th {\n",
       "        text-align: right;\n",
       "    }\n",
       "</style>\n",
       "<table border=\"1\" class=\"dataframe\">\n",
       "  <thead>\n",
       "    <tr style=\"text-align: right;\">\n",
       "      <th></th>\n",
       "      <th>TA</th>\n",
       "      <th>SW_IN</th>\n",
       "      <th>VPD</th>\n",
       "    </tr>\n",
       "    <tr>\n",
       "      <th>time</th>\n",
       "      <th></th>\n",
       "      <th></th>\n",
       "      <th></th>\n",
       "    </tr>\n",
       "  </thead>\n",
       "  <tbody>\n",
       "    <tr>\n",
       "      <th>2000-06-15 17:00:00</th>\n",
       "      <td>14.22</td>\n",
       "      <td>224.800003</td>\n",
       "      <td>5.799</td>\n",
       "    </tr>\n",
       "    <tr>\n",
       "      <th>2000-06-15 17:30:00</th>\n",
       "      <td>14.11</td>\n",
       "      <td>195.279999</td>\n",
       "      <td>6.577</td>\n",
       "    </tr>\n",
       "    <tr>\n",
       "      <th>2000-06-15 18:00:00</th>\n",
       "      <td>14.23</td>\n",
       "      <td>244.169998</td>\n",
       "      <td>6.931</td>\n",
       "    </tr>\n",
       "    <tr>\n",
       "      <th>2000-06-15 18:30:00</th>\n",
       "      <td>14.40</td>\n",
       "      <td>253.919998</td>\n",
       "      <td>7.286</td>\n",
       "    </tr>\n",
       "    <tr>\n",
       "      <th>2000-06-15 19:00:00</th>\n",
       "      <td>14.09</td>\n",
       "      <td>177.309998</td>\n",
       "      <td>7.251</td>\n",
       "    </tr>\n",
       "    <tr>\n",
       "      <th>2000-06-15 19:30:00</th>\n",
       "      <td>13.71</td>\n",
       "      <td>97.070000</td>\n",
       "      <td>6.683</td>\n",
       "    </tr>\n",
       "    <tr>\n",
       "      <th>2000-06-15 20:00:00</th>\n",
       "      <td>13.08</td>\n",
       "      <td>39.709999</td>\n",
       "      <td>5.851</td>\n",
       "    </tr>\n",
       "    <tr>\n",
       "      <th>2000-06-15 20:30:00</th>\n",
       "      <td>12.41</td>\n",
       "      <td>10.650000</td>\n",
       "      <td>5.254</td>\n",
       "    </tr>\n",
       "    <tr>\n",
       "      <th>2000-06-15 21:00:00</th>\n",
       "      <td>12.27</td>\n",
       "      <td>0.320000</td>\n",
       "      <td>5.164</td>\n",
       "    </tr>\n",
       "    <tr>\n",
       "      <th>2000-06-15 21:30:00</th>\n",
       "      <td>12.20</td>\n",
       "      <td>0.000000</td>\n",
       "      <td>5.037</td>\n",
       "    </tr>\n",
       "  </tbody>\n",
       "</table>\n",
       "</div>"
      ],
      "text/plain": [
       "                        TA       SW_IN    VPD\n",
       "time                                         \n",
       "2000-06-15 17:00:00  14.22  224.800003  5.799\n",
       "2000-06-15 17:30:00  14.11  195.279999  6.577\n",
       "2000-06-15 18:00:00  14.23  244.169998  6.931\n",
       "2000-06-15 18:30:00  14.40  253.919998  7.286\n",
       "2000-06-15 19:00:00  14.09  177.309998  7.251\n",
       "2000-06-15 19:30:00  13.71   97.070000  6.683\n",
       "2000-06-15 20:00:00  13.08   39.709999  5.851\n",
       "2000-06-15 20:30:00  12.41   10.650000  5.254\n",
       "2000-06-15 21:00:00  12.27    0.320000  5.164\n",
       "2000-06-15 21:30:00  12.20    0.000000  5.037"
      ]
     },
     "execution_count": null,
     "metadata": {},
     "output_type": "execute_result"
    }
   ],
   "source": [
    "blkdf(blk(800)).data"
   ]
  },
  {
   "cell_type": "code",
   "execution_count": null,
   "id": "0cf65769-4e52-4e14-be29-624cf4d82167",
   "metadata": {},
   "outputs": [],
   "source": [
    "tfms1 = TfmdLists([800,801,802,803], [BlockIndexTransform(hai.index, 10), BlockDfTransform(hai, hai_era, control_lags=1)])"
   ]
  },
  {
   "cell_type": "code",
   "execution_count": null,
   "id": "c8c1ec1e-810f-477f-8bb9-4eaebc2102e3",
   "metadata": {},
   "outputs": [
    {
     "data": {
      "text/html": [
       "<p style='font-size: 1.5rem; font-decoration: bold'>Data Control<p><div style=\"display: flex; column-gap: 20px; flex-wrap: wrap;\" class='table table-striped table-sm'> <div> <p style='font-size: 1.3rem;'>data</p> <style type=\"text/css\">\n",
       "</style>\n",
       "<table id=\"T_66cdc\">\n",
       "  <thead>\n",
       "    <tr>\n",
       "      <th class=\"blank level0\" >&nbsp;</th>\n",
       "      <th id=\"T_66cdc_level0_col0\" class=\"col_heading level0 col0\" >TA</th>\n",
       "      <th id=\"T_66cdc_level0_col1\" class=\"col_heading level0 col1\" >SW_IN</th>\n",
       "      <th id=\"T_66cdc_level0_col2\" class=\"col_heading level0 col2\" >VPD</th>\n",
       "    </tr>\n",
       "    <tr>\n",
       "      <th class=\"index_name level0\" >time</th>\n",
       "      <th class=\"blank col0\" >&nbsp;</th>\n",
       "      <th class=\"blank col1\" >&nbsp;</th>\n",
       "      <th class=\"blank col2\" >&nbsp;</th>\n",
       "    </tr>\n",
       "  </thead>\n",
       "  <tbody>\n",
       "    <tr>\n",
       "      <th id=\"T_66cdc_level0_row0\" class=\"row_heading level0 row0\" >2000-06-15 17:00:00</th>\n",
       "      <td id=\"T_66cdc_row0_col0\" class=\"data row0 col0\" >14.2200</td>\n",
       "      <td id=\"T_66cdc_row0_col1\" class=\"data row0 col1\" >224.8000</td>\n",
       "      <td id=\"T_66cdc_row0_col2\" class=\"data row0 col2\" >5.7990</td>\n",
       "    </tr>\n",
       "    <tr>\n",
       "      <th id=\"T_66cdc_level0_row1\" class=\"row_heading level0 row1\" >2000-06-15 17:30:00</th>\n",
       "      <td id=\"T_66cdc_row1_col0\" class=\"data row1 col0\" >14.1100</td>\n",
       "      <td id=\"T_66cdc_row1_col1\" class=\"data row1 col1\" >195.2800</td>\n",
       "      <td id=\"T_66cdc_row1_col2\" class=\"data row1 col2\" >6.5770</td>\n",
       "    </tr>\n",
       "    <tr>\n",
       "      <th id=\"T_66cdc_level0_row2\" class=\"row_heading level0 row2\" >2000-06-15 18:00:00</th>\n",
       "      <td id=\"T_66cdc_row2_col0\" class=\"data row2 col0\" >14.2300</td>\n",
       "      <td id=\"T_66cdc_row2_col1\" class=\"data row2 col1\" >244.1700</td>\n",
       "      <td id=\"T_66cdc_row2_col2\" class=\"data row2 col2\" >6.9310</td>\n",
       "    </tr>\n",
       "    <tr>\n",
       "      <th id=\"T_66cdc_level0_row3\" class=\"row_heading level0 row3\" >2000-06-15 18:30:00</th>\n",
       "      <td id=\"T_66cdc_row3_col0\" class=\"data row3 col0\" >14.4000</td>\n",
       "      <td id=\"T_66cdc_row3_col1\" class=\"data row3 col1\" >253.9200</td>\n",
       "      <td id=\"T_66cdc_row3_col2\" class=\"data row3 col2\" >7.2860</td>\n",
       "    </tr>\n",
       "    <tr>\n",
       "      <th id=\"T_66cdc_level0_row4\" class=\"row_heading level0 row4\" >2000-06-15 19:00:00</th>\n",
       "      <td id=\"T_66cdc_row4_col0\" class=\"data row4 col0\" >14.0900</td>\n",
       "      <td id=\"T_66cdc_row4_col1\" class=\"data row4 col1\" >177.3100</td>\n",
       "      <td id=\"T_66cdc_row4_col2\" class=\"data row4 col2\" >7.2510</td>\n",
       "    </tr>\n",
       "    <tr>\n",
       "      <th id=\"T_66cdc_level0_row5\" class=\"row_heading level0 row5\" >2000-06-15 19:30:00</th>\n",
       "      <td id=\"T_66cdc_row5_col0\" class=\"data row5 col0\" >13.7100</td>\n",
       "      <td id=\"T_66cdc_row5_col1\" class=\"data row5 col1\" >97.0700</td>\n",
       "      <td id=\"T_66cdc_row5_col2\" class=\"data row5 col2\" >6.6830</td>\n",
       "    </tr>\n",
       "    <tr>\n",
       "      <th id=\"T_66cdc_level0_row6\" class=\"row_heading level0 row6\" >2000-06-15 20:00:00</th>\n",
       "      <td id=\"T_66cdc_row6_col0\" class=\"data row6 col0\" >13.0800</td>\n",
       "      <td id=\"T_66cdc_row6_col1\" class=\"data row6 col1\" >39.7100</td>\n",
       "      <td id=\"T_66cdc_row6_col2\" class=\"data row6 col2\" >5.8510</td>\n",
       "    </tr>\n",
       "    <tr>\n",
       "      <th id=\"T_66cdc_level0_row7\" class=\"row_heading level0 row7\" >2000-06-15 20:30:00</th>\n",
       "      <td id=\"T_66cdc_row7_col0\" class=\"data row7 col0\" >12.4100</td>\n",
       "      <td id=\"T_66cdc_row7_col1\" class=\"data row7 col1\" >10.6500</td>\n",
       "      <td id=\"T_66cdc_row7_col2\" class=\"data row7 col2\" >5.2540</td>\n",
       "    </tr>\n",
       "    <tr>\n",
       "      <th id=\"T_66cdc_level0_row8\" class=\"row_heading level0 row8\" >2000-06-15 21:00:00</th>\n",
       "      <td id=\"T_66cdc_row8_col0\" class=\"data row8 col0\" >12.2700</td>\n",
       "      <td id=\"T_66cdc_row8_col1\" class=\"data row8 col1\" >0.3200</td>\n",
       "      <td id=\"T_66cdc_row8_col2\" class=\"data row8 col2\" >5.1640</td>\n",
       "    </tr>\n",
       "    <tr>\n",
       "      <th id=\"T_66cdc_level0_row9\" class=\"row_heading level0 row9\" >2000-06-15 21:30:00</th>\n",
       "      <td id=\"T_66cdc_row9_col0\" class=\"data row9 col0\" >12.2000</td>\n",
       "      <td id=\"T_66cdc_row9_col1\" class=\"data row9 col1\" >0.0000</td>\n",
       "      <td id=\"T_66cdc_row9_col2\" class=\"data row9 col2\" >5.0370</td>\n",
       "    </tr>\n",
       "  </tbody>\n",
       "</table>\n",
       " </div><div> <p style='font-size: 1.3rem;'>control</p> <style type=\"text/css\">\n",
       "</style>\n",
       "<table id=\"T_ae5b7\">\n",
       "  <thead>\n",
       "    <tr>\n",
       "      <th class=\"blank level0\" >&nbsp;</th>\n",
       "      <th id=\"T_ae5b7_level0_col0\" class=\"col_heading level0 col0\" >TA_ERA</th>\n",
       "      <th id=\"T_ae5b7_level0_col1\" class=\"col_heading level0 col1\" >SW_IN_ERA</th>\n",
       "      <th id=\"T_ae5b7_level0_col2\" class=\"col_heading level0 col2\" >VPD_ERA</th>\n",
       "      <th id=\"T_ae5b7_level0_col3\" class=\"col_heading level0 col3\" >TA_ERA_lag_1</th>\n",
       "      <th id=\"T_ae5b7_level0_col4\" class=\"col_heading level0 col4\" >SW_IN_ERA_lag_1</th>\n",
       "      <th id=\"T_ae5b7_level0_col5\" class=\"col_heading level0 col5\" >VPD_ERA_lag_1</th>\n",
       "    </tr>\n",
       "    <tr>\n",
       "      <th class=\"index_name level0\" >time</th>\n",
       "      <th class=\"blank col0\" >&nbsp;</th>\n",
       "      <th class=\"blank col1\" >&nbsp;</th>\n",
       "      <th class=\"blank col2\" >&nbsp;</th>\n",
       "      <th class=\"blank col3\" >&nbsp;</th>\n",
       "      <th class=\"blank col4\" >&nbsp;</th>\n",
       "      <th class=\"blank col5\" >&nbsp;</th>\n",
       "    </tr>\n",
       "  </thead>\n",
       "  <tbody>\n",
       "    <tr>\n",
       "      <th id=\"T_ae5b7_level0_row0\" class=\"row_heading level0 row0\" >2000-06-15 17:00:00</th>\n",
       "      <td id=\"T_ae5b7_row0_col0\" class=\"data row0 col0\" >15.0500</td>\n",
       "      <td id=\"T_ae5b7_row0_col1\" class=\"data row0 col1\" >255.1930</td>\n",
       "      <td id=\"T_ae5b7_row0_col2\" class=\"data row0 col2\" >5.1020</td>\n",
       "      <td id=\"T_ae5b7_row0_col3\" class=\"data row0 col3\" >15.1390</td>\n",
       "      <td id=\"T_ae5b7_row0_col4\" class=\"data row0 col4\" >287.1000</td>\n",
       "      <td id=\"T_ae5b7_row0_col5\" class=\"data row0 col5\" >4.9000</td>\n",
       "    </tr>\n",
       "    <tr>\n",
       "      <th id=\"T_ae5b7_level0_row1\" class=\"row_heading level0 row1\" >2000-06-15 17:30:00</th>\n",
       "      <td id=\"T_ae5b7_row1_col0\" class=\"data row1 col0\" >14.9610</td>\n",
       "      <td id=\"T_ae5b7_row1_col1\" class=\"data row1 col1\" >221.4270</td>\n",
       "      <td id=\"T_ae5b7_row1_col2\" class=\"data row1 col2\" >5.3050</td>\n",
       "      <td id=\"T_ae5b7_row1_col3\" class=\"data row1 col3\" >15.0500</td>\n",
       "      <td id=\"T_ae5b7_row1_col4\" class=\"data row1 col4\" >255.1930</td>\n",
       "      <td id=\"T_ae5b7_row1_col5\" class=\"data row1 col5\" >5.1020</td>\n",
       "    </tr>\n",
       "    <tr>\n",
       "      <th id=\"T_ae5b7_level0_row2\" class=\"row_heading level0 row2\" >2000-06-15 18:00:00</th>\n",
       "      <td id=\"T_ae5b7_row2_col0\" class=\"data row2 col0\" >14.8720</td>\n",
       "      <td id=\"T_ae5b7_row2_col1\" class=\"data row2 col1\" >186.3800</td>\n",
       "      <td id=\"T_ae5b7_row2_col2\" class=\"data row2 col2\" >5.5070</td>\n",
       "      <td id=\"T_ae5b7_row2_col3\" class=\"data row2 col3\" >14.9610</td>\n",
       "      <td id=\"T_ae5b7_row2_col4\" class=\"data row2 col4\" >221.4270</td>\n",
       "      <td id=\"T_ae5b7_row2_col5\" class=\"data row2 col5\" >5.3050</td>\n",
       "    </tr>\n",
       "    <tr>\n",
       "      <th id=\"T_ae5b7_level0_row3\" class=\"row_heading level0 row3\" >2000-06-15 18:30:00</th>\n",
       "      <td id=\"T_ae5b7_row3_col0\" class=\"data row3 col0\" >14.7830</td>\n",
       "      <td id=\"T_ae5b7_row3_col1\" class=\"data row3 col1\" >150.6500</td>\n",
       "      <td id=\"T_ae5b7_row3_col2\" class=\"data row3 col2\" >5.7100</td>\n",
       "      <td id=\"T_ae5b7_row3_col3\" class=\"data row3 col3\" >14.8720</td>\n",
       "      <td id=\"T_ae5b7_row3_col4\" class=\"data row3 col4\" >186.3800</td>\n",
       "      <td id=\"T_ae5b7_row3_col5\" class=\"data row3 col5\" >5.5070</td>\n",
       "    </tr>\n",
       "    <tr>\n",
       "      <th id=\"T_ae5b7_level0_row4\" class=\"row_heading level0 row4\" >2000-06-15 19:00:00</th>\n",
       "      <td id=\"T_ae5b7_row4_col0\" class=\"data row4 col0\" >14.6940</td>\n",
       "      <td id=\"T_ae5b7_row4_col1\" class=\"data row4 col1\" >114.8490</td>\n",
       "      <td id=\"T_ae5b7_row4_col2\" class=\"data row4 col2\" >5.9120</td>\n",
       "      <td id=\"T_ae5b7_row4_col3\" class=\"data row4 col3\" >14.7830</td>\n",
       "      <td id=\"T_ae5b7_row4_col4\" class=\"data row4 col4\" >150.6500</td>\n",
       "      <td id=\"T_ae5b7_row4_col5\" class=\"data row4 col5\" >5.7100</td>\n",
       "    </tr>\n",
       "    <tr>\n",
       "      <th id=\"T_ae5b7_level0_row5\" class=\"row_heading level0 row5\" >2000-06-15 19:30:00</th>\n",
       "      <td id=\"T_ae5b7_row5_col0\" class=\"data row5 col0\" >14.6060</td>\n",
       "      <td id=\"T_ae5b7_row5_col1\" class=\"data row5 col1\" >34.7280</td>\n",
       "      <td id=\"T_ae5b7_row5_col2\" class=\"data row5 col2\" >6.1140</td>\n",
       "      <td id=\"T_ae5b7_row5_col3\" class=\"data row5 col3\" >14.6940</td>\n",
       "      <td id=\"T_ae5b7_row5_col4\" class=\"data row5 col4\" >114.8490</td>\n",
       "      <td id=\"T_ae5b7_row5_col5\" class=\"data row5 col5\" >5.9120</td>\n",
       "    </tr>\n",
       "    <tr>\n",
       "      <th id=\"T_ae5b7_level0_row6\" class=\"row_heading level0 row6\" >2000-06-15 20:00:00</th>\n",
       "      <td id=\"T_ae5b7_row6_col0\" class=\"data row6 col0\" >14.3800</td>\n",
       "      <td id=\"T_ae5b7_row6_col1\" class=\"data row6 col1\" >19.8430</td>\n",
       "      <td id=\"T_ae5b7_row6_col2\" class=\"data row6 col2\" >6.0740</td>\n",
       "      <td id=\"T_ae5b7_row6_col3\" class=\"data row6 col3\" >14.6060</td>\n",
       "      <td id=\"T_ae5b7_row6_col4\" class=\"data row6 col4\" >34.7280</td>\n",
       "      <td id=\"T_ae5b7_row6_col5\" class=\"data row6 col5\" >6.1140</td>\n",
       "    </tr>\n",
       "    <tr>\n",
       "      <th id=\"T_ae5b7_level0_row7\" class=\"row_heading level0 row7\" >2000-06-15 20:30:00</th>\n",
       "      <td id=\"T_ae5b7_row7_col0\" class=\"data row7 col0\" >14.1550</td>\n",
       "      <td id=\"T_ae5b7_row7_col1\" class=\"data row7 col1\" >5.7120</td>\n",
       "      <td id=\"T_ae5b7_row7_col2\" class=\"data row7 col2\" >6.0340</td>\n",
       "      <td id=\"T_ae5b7_row7_col3\" class=\"data row7 col3\" >14.3800</td>\n",
       "      <td id=\"T_ae5b7_row7_col4\" class=\"data row7 col4\" >19.8430</td>\n",
       "      <td id=\"T_ae5b7_row7_col5\" class=\"data row7 col5\" >6.0740</td>\n",
       "    </tr>\n",
       "    <tr>\n",
       "      <th id=\"T_ae5b7_level0_row8\" class=\"row_heading level0 row8\" >2000-06-15 21:00:00</th>\n",
       "      <td id=\"T_ae5b7_row8_col0\" class=\"data row8 col0\" >13.9290</td>\n",
       "      <td id=\"T_ae5b7_row8_col1\" class=\"data row8 col1\" >0.0000</td>\n",
       "      <td id=\"T_ae5b7_row8_col2\" class=\"data row8 col2\" >5.9940</td>\n",
       "      <td id=\"T_ae5b7_row8_col3\" class=\"data row8 col3\" >14.1550</td>\n",
       "      <td id=\"T_ae5b7_row8_col4\" class=\"data row8 col4\" >5.7120</td>\n",
       "      <td id=\"T_ae5b7_row8_col5\" class=\"data row8 col5\" >6.0340</td>\n",
       "    </tr>\n",
       "    <tr>\n",
       "      <th id=\"T_ae5b7_level0_row9\" class=\"row_heading level0 row9\" >2000-06-15 21:30:00</th>\n",
       "      <td id=\"T_ae5b7_row9_col0\" class=\"data row9 col0\" >13.7040</td>\n",
       "      <td id=\"T_ae5b7_row9_col1\" class=\"data row9 col1\" >0.0000</td>\n",
       "      <td id=\"T_ae5b7_row9_col2\" class=\"data row9 col2\" >5.9540</td>\n",
       "      <td id=\"T_ae5b7_row9_col3\" class=\"data row9 col3\" >13.9290</td>\n",
       "      <td id=\"T_ae5b7_row9_col4\" class=\"data row9 col4\" >0.0000</td>\n",
       "      <td id=\"T_ae5b7_row9_col5\" class=\"data row9 col5\" >5.9940</td>\n",
       "    </tr>\n",
       "  </tbody>\n",
       "</table>\n",
       " </div></div>"
      ],
      "text/plain": [
       "DataControl(data=                        TA       SW_IN    VPD\n",
       "time                                         \n",
       "2000-06-15 17:00:00  14.22  224.800003  5.799\n",
       "2000-06-15 17:30:00  14.11  195.279999  6.577\n",
       "2000-06-15 18:00:00  14.23  244.169998  6.931\n",
       "2000-06-15 18:30:00  14.40  253.919998  7.286\n",
       "2000-06-15 19:00:00  14.09  177.309998  7.251\n",
       "2000-06-15 19:30:00  13.71   97.070000  6.683\n",
       "2000-06-15 20:00:00  13.08   39.709999  5.851\n",
       "2000-06-15 20:30:00  12.41   10.650000  5.254\n",
       "2000-06-15 21:00:00  12.27    0.320000  5.164\n",
       "2000-06-15 21:30:00  12.20    0.000000  5.037, control=                     TA_ERA   SW_IN_ERA  VPD_ERA  TA_ERA_lag_1  \\\n",
       "time                                                             \n",
       "2000-06-15 17:00:00  15.050  255.192993    5.102        15.139   \n",
       "2000-06-15 17:30:00  14.961  221.427002    5.305        15.050   \n",
       "2000-06-15 18:00:00  14.872  186.380005    5.507        14.961   \n",
       "2000-06-15 18:30:00  14.783  150.649994    5.710        14.872   \n",
       "2000-06-15 19:00:00  14.694  114.848999    5.912        14.783   \n",
       "2000-06-15 19:30:00  14.606   34.728001    6.114        14.694   \n",
       "2000-06-15 20:00:00  14.380   19.843000    6.074        14.606   \n",
       "2000-06-15 20:30:00  14.155    5.712000    6.034        14.380   \n",
       "2000-06-15 21:00:00  13.929    0.000000    5.994        14.155   \n",
       "2000-06-15 21:30:00  13.704    0.000000    5.954        13.929   \n",
       "\n",
       "                     SW_IN_ERA_lag_1  VPD_ERA_lag_1  \n",
       "time                                                 \n",
       "2000-06-15 17:00:00       287.100006          4.900  \n",
       "2000-06-15 17:30:00       255.192993          5.102  \n",
       "2000-06-15 18:00:00       221.427002          5.305  \n",
       "2000-06-15 18:30:00       186.380005          5.507  \n",
       "2000-06-15 19:00:00       150.649994          5.710  \n",
       "2000-06-15 19:30:00       114.848999          5.912  \n",
       "2000-06-15 20:00:00        34.728001          6.114  \n",
       "2000-06-15 20:30:00        19.843000          6.074  \n",
       "2000-06-15 21:00:00         5.712000          6.034  \n",
       "2000-06-15 21:30:00         0.000000          5.994  )"
      ]
     },
     "execution_count": null,
     "metadata": {},
     "output_type": "execute_result"
    }
   ],
   "source": [
    "tfms1[0]"
   ]
  },
  {
   "cell_type": "markdown",
   "id": "cc7af1e4-516c-4536-ab92-a5d19eec00fc",
   "metadata": {},
   "source": [
    "### 3) Gaps"
   ]
  },
  {
   "cell_type": "markdown",
   "id": "f2fe95d9-43bb-4174-8b9d-d5e87fdc3930",
   "metadata": {},
   "source": [
    "adds a mask which includes a random gap"
   ]
  },
  {
   "cell_type": "markdown",
   "id": "94bc9530-dd11-4606-a80b-77b9a2a353dc",
   "metadata": {},
   "source": [
    "#### Make random Gap"
   ]
  },
  {
   "cell_type": "code",
   "execution_count": null,
   "id": "37358f56-f705-4d3c-b39f-ac810447a635",
   "metadata": {},
   "outputs": [],
   "source": [
    "idx = L(*tfms1[0].data.columns).argwhere(lambda x: x in ['TA','SW_IN'])"
   ]
  },
  {
   "cell_type": "code",
   "execution_count": null,
   "id": "9126e8d1-3f99-40ba-b4ac-e5ac0f5cfd6c",
   "metadata": {},
   "outputs": [],
   "source": [
    "mask = np.ones_like(tfms1[0].data, dtype=bool)"
   ]
  },
  {
   "cell_type": "code",
   "execution_count": null,
   "id": "a9bf7480-1580-490d-8ce9-a0c47ef6c2a3",
   "metadata": {},
   "outputs": [
    {
     "data": {
      "text/plain": [
       "array([[ True,  True,  True],\n",
       "       [ True,  True,  True],\n",
       "       [ True,  True,  True],\n",
       "       [ True,  True,  True],\n",
       "       [ True,  True,  True],\n",
       "       [ True,  True,  True],\n",
       "       [ True,  True,  True],\n",
       "       [ True,  True,  True],\n",
       "       [ True,  True,  True],\n",
       "       [ True,  True,  True]])"
      ]
     },
     "execution_count": null,
     "metadata": {},
     "output_type": "execute_result"
    }
   ],
   "source": [
    "mask"
   ]
  },
  {
   "cell_type": "code",
   "execution_count": null,
   "id": "0c90ac7a-c0e8-4994-9268-8ae6c0739a84",
   "metadata": {},
   "outputs": [],
   "source": [
    "#| exports\n",
    "def _make_random_gap(\n",
    "    gap_length: int, # The length of the gap\n",
    "    total_length: int, # The total number of observations\n",
    "    gap_start: Optional[int] = None # Optional start of gap\n",
    ")-> np.ndarray: # [total_length] array of bools to indicicate if the data is missing or not\n",
    "    \"Add a continous gap of given length at random position\"\n",
    "    if(gap_length >= total_length):\n",
    "        return np.repeat(True, total_length)\n",
    "    gap_start = np.random.randint(total_length - gap_length) if gap_start is None else gap_start\n",
    "    return np.hstack([\n",
    "        np.repeat(False, gap_start),\n",
    "        np.repeat(True, gap_length),\n",
    "        np.repeat(False, total_length - (gap_length + gap_start))\n",
    "    ])"
   ]
  },
  {
   "cell_type": "code",
   "execution_count": null,
   "id": "7ba57b44-2632-4ada-af4d-20b2678e6798",
   "metadata": {},
   "outputs": [],
   "source": [
    "gap = _make_random_gap(2, 10, 2)"
   ]
  },
  {
   "cell_type": "code",
   "execution_count": null,
   "id": "614d77ee-5fa7-49bd-b0e2-2bd9539b3c67",
   "metadata": {},
   "outputs": [
    {
     "data": {
      "text/plain": [
       "array([False, False,  True,  True, False, False, False, False, False,\n",
       "       False])"
      ]
     },
     "execution_count": null,
     "metadata": {},
     "output_type": "execute_result"
    }
   ],
   "source": [
    "gap"
   ]
  },
  {
   "cell_type": "code",
   "execution_count": null,
   "id": "2cfdf0a8-6761-43fb-a716-af7d391bd36c",
   "metadata": {},
   "outputs": [
    {
     "data": {
      "text/plain": [
       "array([[2],\n",
       "       [3]])"
      ]
     },
     "execution_count": null,
     "metadata": {},
     "output_type": "execute_result"
    }
   ],
   "source": [
    "np.argwhere(gap)"
   ]
  },
  {
   "cell_type": "code",
   "execution_count": null,
   "id": "c4892a92-5850-4529-991d-24c9a1cebf14",
   "metadata": {},
   "outputs": [],
   "source": [
    "mask[np.argwhere(gap), idx] = False"
   ]
  },
  {
   "cell_type": "code",
   "execution_count": null,
   "id": "5cf78fa7-3c14-43e6-a370-085f74f48ffa",
   "metadata": {},
   "outputs": [
    {
     "data": {
      "text/plain": [
       "array([[ True,  True,  True],\n",
       "       [ True,  True,  True],\n",
       "       [False, False,  True],\n",
       "       [False, False,  True],\n",
       "       [ True,  True,  True],\n",
       "       [ True,  True,  True],\n",
       "       [ True,  True,  True],\n",
       "       [ True,  True,  True],\n",
       "       [ True,  True,  True],\n",
       "       [ True,  True,  True]])"
      ]
     },
     "execution_count": null,
     "metadata": {},
     "output_type": "execute_result"
    }
   ],
   "source": [
    "mask"
   ]
  },
  {
   "cell_type": "code",
   "execution_count": null,
   "id": "39d845e1-4869-4d99-ad55-d851e44bc5cc",
   "metadata": {},
   "outputs": [
    {
     "data": {
      "text/plain": [
       "array([[False, False,  True],\n",
       "       [False, False,  True]])"
      ]
     },
     "execution_count": null,
     "metadata": {},
     "output_type": "execute_result"
    }
   ],
   "source": [
    "mask[gap]"
   ]
  },
  {
   "cell_type": "code",
   "execution_count": null,
   "id": "e55f2aba-b4d8-4b52-9fb0-6cf15444665e",
   "metadata": {},
   "outputs": [
    {
     "data": {
      "text/plain": [
       "\u001b[0;31mInit signature:\u001b[0m \u001b[0mnp\u001b[0m\u001b[0;34m.\u001b[0m\u001b[0mrandom\u001b[0m\u001b[0;34m.\u001b[0m\u001b[0mGenerator\u001b[0m\u001b[0;34m(\u001b[0m\u001b[0mself\u001b[0m\u001b[0;34m,\u001b[0m \u001b[0;34m/\u001b[0m\u001b[0;34m,\u001b[0m \u001b[0;34m*\u001b[0m\u001b[0margs\u001b[0m\u001b[0;34m,\u001b[0m \u001b[0;34m**\u001b[0m\u001b[0mkwargs\u001b[0m\u001b[0;34m)\u001b[0m\u001b[0;34m\u001b[0m\u001b[0;34m\u001b[0m\u001b[0m\n",
       "\u001b[0;31mDocstring:\u001b[0m     \n",
       "Generator(bit_generator)\n",
       "\n",
       "Container for the BitGenerators.\n",
       "\n",
       "``Generator`` exposes a number of methods for generating random\n",
       "numbers drawn from a variety of probability distributions. In addition to\n",
       "the distribution-specific arguments, each method takes a keyword argument\n",
       "`size` that defaults to ``None``. If `size` is ``None``, then a single\n",
       "value is generated and returned. If `size` is an integer, then a 1-D\n",
       "array filled with generated values is returned. If `size` is a tuple,\n",
       "then an array with that shape is filled and returned.\n",
       "\n",
       "The function :func:`numpy.random.default_rng` will instantiate\n",
       "a `Generator` with numpy's default `BitGenerator`.\n",
       "\n",
       "**No Compatibility Guarantee**\n",
       "\n",
       "``Generator`` does not provide a version compatibility guarantee. In\n",
       "particular, as better algorithms evolve the bit stream may change.\n",
       "\n",
       "Parameters\n",
       "----------\n",
       "bit_generator : BitGenerator\n",
       "    BitGenerator to use as the core generator.\n",
       "\n",
       "Notes\n",
       "-----\n",
       "The Python stdlib module `random` contains pseudo-random number generator\n",
       "with a number of methods that are similar to the ones available in\n",
       "``Generator``. It uses Mersenne Twister, and this bit generator can\n",
       "be accessed using ``MT19937``. ``Generator``, besides being\n",
       "NumPy-aware, has the advantage that it provides a much larger number\n",
       "of probability distributions to choose from.\n",
       "\n",
       "Examples\n",
       "--------\n",
       ">>> from numpy.random import Generator, PCG64\n",
       ">>> rng = Generator(PCG64())\n",
       ">>> rng.standard_normal()\n",
       "-0.203  # random\n",
       "\n",
       "See Also\n",
       "--------\n",
       "default_rng : Recommended constructor for `Generator`.\n",
       "\u001b[0;31mFile:\u001b[0m           ~/anaconda3/envs/data-science/lib/python3.10/site-packages/numpy/random/_generator.cpython-310-x86_64-linux-gnu.so\n",
       "\u001b[0;31mType:\u001b[0m           type\n",
       "\u001b[0;31mSubclasses:\u001b[0m     \n"
      ]
     },
     "metadata": {},
     "output_type": "display_data"
    }
   ],
   "source": [
    "np.random.Generator?"
   ]
  },
  {
   "cell_type": "code",
   "execution_count": null,
   "id": "b2a0a03e-e6eb-4105-a5f7-eafcc56368e1",
   "metadata": {},
   "outputs": [],
   "source": [
    "class RandomGenerator:\n",
    "    \"\"\"super class generator with random state\"\"\"\n",
    "    def __init__(self):\n",
    "        pass\n",
    "    def _yield(self): raise NotImplementedError"
   ]
  },
  {
   "cell_type": "markdown",
   "id": "0c22883e-b015-46e6-85a3-981c7629301c",
   "metadata": {},
   "source": [
    "#### Gap Len Generator"
   ]
  },
  {
   "cell_type": "markdown",
   "id": "f1830bad-10d4-4e9d-b5a3-58b60f9506e1",
   "metadata": {},
   "source": [
    "The gap lengths are drawn from a gamma distribution, so we have a long tail and a min value of 0, but compared to an exponentail distributions we don't have many gaps of len 0\n",
    "\n",
    "\n",
    "$$ p(x)=\\frac{1}{\\Gamma(k) \\theta^k} x^{k - 1} e^{-\\frac{x}{\\theta}}$$"
   ]
  },
  {
   "cell_type": "markdown",
   "id": "5a2bc417-8be6-446e-8769-cfaa84db0013",
   "metadata": {},
   "source": [
    "$$\\begin{align}\\mu &= k\\theta\\\\\n",
    "m &= (k-1)\\theta \\end{align}$$\n",
    "where $m$ is the mode and $\\mu$ is the mean (for $k>1$), which is what we want"
   ]
  },
  {
   "cell_type": "code",
   "execution_count": null,
   "id": "5f47ee76-b055-450a-b198-55a414102c35",
   "metadata": {},
   "outputs": [
    {
     "data": {
      "image/png": "[encoded data removed]",
      "text/plain": [
       "<Figure size 432x288 with 1 Axes>"
      ]
     },
     "metadata": {
      "needs_background": "light"
     },
     "output_type": "display_data"
    }
   ],
   "source": [
    "import matplotlib.pyplot as plt\n",
    "\n",
    "import scipy.special as sps  \n",
    "\n",
    "mean = 10\n",
    "\n",
    "scale = mean * .6\n",
    "shape = mean/scale\n",
    "\n",
    "mode = (shape-1)*scale\n",
    "\n",
    "x = np.arange(0,100)\n",
    "\n",
    "y = x**(shape-1)*(np.exp(-x/scale) / (sps.gamma(shape)*scale**shape))\n",
    "\n",
    "plt.plot(x, y)  \n",
    "\n",
    "plt.show()"
   ]
  },
  {
   "cell_type": "markdown",
   "id": "c798886c-ab52-4c96-bcb6-453032fb4769",
   "metadata": {},
   "source": [
    "This is a very guessestimate of a good probability density distribution of the gap len. The actual measure should come from the fluxnet data"
   ]
  },
  {
   "cell_type": "code",
   "execution_count": null,
   "id": "0789a04b-cc08-41e6-96ee-bf8529f1bb40",
   "metadata": {},
   "outputs": [],
   "source": [
    "#| export\n",
    "def gen_gap_len(mean: float, min_v = 1): \n",
    "    scale = mean*.6\n",
    "    shape = mean/scale\n",
    "    while True:\n",
    "        yield max(int(np.random.gamma(scale=scale, shape=shape)), min_v)"
   ]
  },
  {
   "cell_type": "code",
   "execution_count": null,
   "id": "d640b016-b69e-4fdf-83c2-0ca816b0f6d2",
   "metadata": {},
   "outputs": [
    {
     "data": {
      "text/plain": [
       "2"
      ]
     },
     "execution_count": null,
     "metadata": {},
     "output_type": "execute_result"
    }
   ],
   "source": [
    "next(gen_gap_len(1))"
   ]
  },
  {
   "cell_type": "code",
   "execution_count": null,
   "id": "3f39f1e1-a7a3-42ac-9e05-236e55961893",
   "metadata": {},
   "outputs": [],
   "source": [
    "g_len = gen_gap_len(10)"
   ]
  },
  {
   "cell_type": "code",
   "execution_count": null,
   "id": "5df51631-3e2d-4a51-8335-3d02d30b8a42",
   "metadata": {},
   "outputs": [
    {
     "data": {
      "text/plain": [
       "array([[<AxesSubplot: title={'center': '0'}>]], dtype=object)"
      ]
     },
     "execution_count": null,
     "metadata": {},
     "output_type": "execute_result"
    },
    {
     "data": {
      "image/png": "[encoded data removed]",
      "text/plain": [
       "<Figure size 432x288 with 1 Axes>"
      ]
     },
     "metadata": {
      "needs_background": "light"
     },
     "output_type": "display_data"
    }
   ],
   "source": [
    "gap_lens_sample = pd.DataFrame([next(g_len) for _ in range(1000)])\n",
    "gap_lens_sample.hist(bins=gap_lens_sample[0].max()//2)"
   ]
  },
  {
   "cell_type": "markdown",
   "id": "8091cdec-15d2-4217-8b43-9249ea371271",
   "metadata": {},
   "source": [
    "#### Var Sel Generator "
   ]
  },
  {
   "cell_type": "markdown",
   "id": "92991f89-506d-4270-bda4-debdec843b95",
   "metadata": {},
   "source": [
    "draws a number of variables from a uniform distribution from 1 to the max n of vars and then select the variables with equal probability"
   ]
  },
  {
   "cell_type": "code",
   "execution_count": null,
   "id": "72965b56-7aeb-4764-994c-8f581bdc4921",
   "metadata": {},
   "outputs": [],
   "source": [
    "#| export\n",
    "def gen_var_sel(vars):\n",
    "    while True:\n",
    "        n_var = np.random.randint(1,1+len(vars))\n",
    "        yield np.random.choice(np.array(vars), size=n_var, replace=False)"
   ]
  },
  {
   "cell_type": "code",
   "execution_count": null,
   "id": "11c7a614-bd1a-44de-a39a-acaccc81d4da",
   "metadata": {},
   "outputs": [],
   "source": [
    "g_var = gen_var_sel(list(\"abcdefg\")) "
   ]
  },
  {
   "cell_type": "code",
   "execution_count": null,
   "id": "39e859cb-13e6-43b4-baa0-49d76cb0938a",
   "metadata": {},
   "outputs": [
    {
     "data": {
      "text/plain": [
       "[array(['e', 'a', 'c', 'f', 'd', 'g', 'b'], dtype='<U1'),\n",
       " array(['b', 'g', 'e', 'f', 'c'], dtype='<U1'),\n",
       " array(['e', 'a', 'b', 'g', 'c', 'd'], dtype='<U1'),\n",
       " array(['a'], dtype='<U1'),\n",
       " array(['e', 'd', 'c', 'g', 'b', 'f', 'a'], dtype='<U1')]"
      ]
     },
     "execution_count": null,
     "metadata": {},
     "output_type": "execute_result"
    }
   ],
   "source": [
    "[next(g_var) for _ in range(5)]"
   ]
  },
  {
   "cell_type": "code",
   "execution_count": null,
   "id": "bd812293-761e-4323-8377-8eab0de73c39",
   "metadata": {},
   "outputs": [],
   "source": [
    "g_var = gen_var_sel([\"a\", \"bb\", \"ccc\"]) "
   ]
  },
  {
   "cell_type": "code",
   "execution_count": null,
   "id": "4caf499a-260b-4c37-bfb3-bdcd06bcaae0",
   "metadata": {},
   "outputs": [
    {
     "data": {
      "text/plain": [
       "[array(['ccc', 'a'], dtype='<U3'),\n",
       " array(['bb', 'ccc'], dtype='<U3'),\n",
       " array(['bb', 'ccc'], dtype='<U3'),\n",
       " array(['a', 'bb', 'ccc'], dtype='<U3'),\n",
       " array(['a', 'bb', 'ccc'], dtype='<U3')]"
      ]
     },
     "execution_count": null,
     "metadata": {},
     "output_type": "execute_result"
    }
   ],
   "source": [
    "[next(g_var) for _ in range(5)]"
   ]
  },
  {
   "cell_type": "code",
   "execution_count": null,
   "id": "7302f3cf-c961-49fc-b84c-dde363c89c90",
   "metadata": {},
   "outputs": [],
   "source": [
    "g_var = gen_var_sel(['TA', 'VPD', 'SW_IN'])"
   ]
  },
  {
   "cell_type": "code",
   "execution_count": null,
   "id": "9045f4dc-be11-4a6f-8f04-49a768b47c7c",
   "metadata": {},
   "outputs": [
    {
     "data": {
      "text/plain": [
       "[array(['TA', 'VPD', 'SW_IN'], dtype='<U5'),\n",
       " array(['VPD', 'SW_IN'], dtype='<U5'),\n",
       " array(['TA'], dtype='<U5'),\n",
       " array(['SW_IN', 'VPD', 'TA'], dtype='<U5'),\n",
       " array(['SW_IN', 'VPD', 'TA'], dtype='<U5'),\n",
       " array(['TA', 'VPD'], dtype='<U5'),\n",
       " array(['VPD'], dtype='<U5'),\n",
       " array(['TA'], dtype='<U5'),\n",
       " array(['TA', 'SW_IN'], dtype='<U5'),\n",
       " array(['TA', 'VPD', 'SW_IN'], dtype='<U5')]"
      ]
     },
     "execution_count": null,
     "metadata": {},
     "output_type": "execute_result"
    }
   ],
   "source": [
    "[next(g_var) for _ in range(10)]"
   ]
  },
  {
   "cell_type": "markdown",
   "id": "437bd01a-3335-4946-a655-5a1ed3ee9a52",
   "metadata": {},
   "source": [
    "#### Add Gap Transform"
   ]
  },
  {
   "cell_type": "code",
   "execution_count": null,
   "id": "d5a40f54-63ff-4028-84d7-37ba2061afec",
   "metadata": {},
   "outputs": [],
   "source": [
    "#| export\n",
    "from collections.abc import Iterable, Generator"
   ]
  },
  {
   "cell_type": "code",
   "execution_count": null,
   "id": "4e28482a-f6d0-4ba4-a8e7-c67987ff0eaf",
   "metadata": {},
   "outputs": [],
   "source": [
    "#| export\n",
    "def as_generator(x: Generator|object):\n",
    "    \"\"\"Maybe convert iterable to generator\"\"\"\n",
    "    if isinstance(x, Generator): return x\n",
    "    else: return cycle((x,))"
   ]
  },
  {
   "cell_type": "code",
   "execution_count": null,
   "id": "ed99d217-beb5-444e-94a1-a617a69b93c5",
   "metadata": {},
   "outputs": [
    {
     "data": {
      "text/plain": [
       "True"
      ]
     },
     "execution_count": null,
     "metadata": {},
     "output_type": "execute_result"
    }
   ],
   "source": [
    "isinstance(g_var, Iterable)"
   ]
  },
  {
   "cell_type": "code",
   "execution_count": null,
   "id": "8ac16a8f-d155-4443-ace4-0a75f261d5ee",
   "metadata": {},
   "outputs": [
    {
     "data": {
      "text/plain": [
       "(<generator object gen_var_sel>,\n",
       " array(['SW_IN', 'VPD'], dtype='<U5'))"
      ]
     },
     "execution_count": null,
     "metadata": {},
     "output_type": "execute_result"
    }
   ],
   "source": [
    "as_generator(g_var), next(as_generator(g_var))"
   ]
  },
  {
   "cell_type": "code",
   "execution_count": null,
   "id": "ed71d5f0-addf-453d-83ef-89def84d9953",
   "metadata": {},
   "outputs": [
    {
     "data": {
      "text/plain": [
       "(<itertools.cycle>, [1, 2])"
      ]
     },
     "execution_count": null,
     "metadata": {},
     "output_type": "execute_result"
    }
   ],
   "source": [
    "as_generator([1,2]), next(as_generator([1,2]))"
   ]
  },
  {
   "cell_type": "code",
   "execution_count": null,
   "id": "94dcd2e0-9d32-471b-bebd-088d3e487a1f",
   "metadata": {},
   "outputs": [],
   "source": [
    "#| export\n",
    "class MeteoImpDf:\n",
    "    def __init__(self,*args):\n",
    "        self.data = args[0]\n",
    "        self.mask = args[1]\n",
    "        self.control = args[2]\n",
    "    def __iter__(self): return iter((self.data, self.mask, self.control,))\n",
    "    __repr__ = basic_repr(\"data, mask, control\")\n",
    "    def _repr_html_(self):\n",
    "        return row_dfs({'data': self.data, 'mask': self.mask, 'control': self.control}, title=\"Meteo Imp Df\", hide_idx=False)"
   ]
  },
  {
   "cell_type": "code",
   "execution_count": null,
   "id": "c71f35e5-ace8-41a6-806c-d5b14c520e7a",
   "metadata": {},
   "outputs": [],
   "source": [
    "#| export\n",
    "class AddGapTransform(Transform):\n",
    "    \"\"\"Adds a random gap to a dataframe\"\"\"\n",
    "    def __init__(self,\n",
    "                variables,\n",
    "                gap_length,\n",
    "                ):\n",
    "        self.gen_var, self.gen_gap = as_generator(variables), as_generator(gap_length)\n",
    "    def _yield_gens(self):\n",
    "        self.variables, self.gap_length = next(self.gen_var), next(self.gen_gap)\n",
    "        return self\n",
    "    def encodes(self, dc: DataControl) -> MeteoImpDf:\n",
    "        df, control = dc\n",
    "        self._yield_gens()\n",
    "        gap = _make_random_gap(self.gap_length, df.shape[0])\n",
    "        mask = np.ones_like(df, dtype=bool)\n",
    "        col_sel = L(*df.columns).argwhere(lambda x: x in self.variables)\n",
    "        mask[np.argwhere(gap), col_sel] = False\n",
    "        mask = pd.DataFrame(mask, index=df.index, columns=df.columns)\n",
    "        return MeteoImpDf(df, mask, control)"
   ]
  },
  {
   "cell_type": "code",
   "execution_count": null,
   "id": "47a56595-0fc1-4a7a-a9c6-38497079acb3",
   "metadata": {},
   "outputs": [
    {
     "data": {
      "text/html": [
       "<div>\n",
       "  <p>\n",
       "    <strong>AddGapTransform</strong>\n",
       "  </p>\n",
       "  <p>(DataControl,object) -&gt; encodes\n",
       "</p>\n",
       "  <p></p>\n",
       "</div>"
      ],
      "text/plain": [
       "AddGapTransform:\n",
       "encodes: (DataControl,object) -> encodes\n",
       "decodes: "
      ]
     },
     "execution_count": null,
     "metadata": {},
     "output_type": "execute_result"
    }
   ],
   "source": [
    "a_gap = AddGapTransform(['TA', 'VPD'], 5)\n",
    "a_gap"
   ]
  },
  {
   "cell_type": "code",
   "execution_count": null,
   "id": "68be29fc-a920-491c-a726-f75ab204aa27",
   "metadata": {},
   "outputs": [
    {
     "data": {
      "text/plain": [
       "([['TA', 'VPD'], ['TA', 'VPD'], ['TA', 'VPD'], ['TA', 'VPD'], ['TA', 'VPD']],\n",
       " [5, 5, 5, 5, 5])"
      ]
     },
     "execution_count": null,
     "metadata": {},
     "output_type": "execute_result"
    }
   ],
   "source": [
    "[a_gap._yield_gens().variables for _ in range(5)], [a_gap._yield_gens().gap_length for _ in range(5)]"
   ]
  },
  {
   "cell_type": "code",
   "execution_count": null,
   "id": "4cccf855-1b03-43da-9318-da569a238bf1",
   "metadata": {},
   "outputs": [],
   "source": [
    "g_var = gen_var_sel(['TA', 'VPD'])"
   ]
  },
  {
   "cell_type": "code",
   "execution_count": null,
   "id": "11b951ba-6b09-4f37-870c-65f90302d903",
   "metadata": {},
   "outputs": [
    {
     "data": {
      "text/html": [
       "<div>\n",
       "  <p>\n",
       "    <strong>AddGapTransform</strong>\n",
       "  </p>\n",
       "  <p>(DataControl,object) -&gt; encodes\n",
       "</p>\n",
       "  <p></p>\n",
       "</div>"
      ],
      "text/plain": [
       "AddGapTransform:\n",
       "encodes: (DataControl,object) -> encodes\n",
       "decodes: "
      ]
     },
     "execution_count": null,
     "metadata": {},
     "output_type": "execute_result"
    }
   ],
   "source": [
    "a_gap2 = AddGapTransform(g_var, gen_gap_len(5))\n",
    "a_gap2"
   ]
  },
  {
   "cell_type": "code",
   "execution_count": null,
   "id": "098ab15f-558a-48ac-b008-e5c86706a9d6",
   "metadata": {},
   "outputs": [
    {
     "data": {
      "text/plain": [
       "([array(['TA', 'VPD'], dtype='<U3'),\n",
       "  array(['TA', 'VPD'], dtype='<U3'),\n",
       "  array(['VPD', 'TA'], dtype='<U3'),\n",
       "  array(['VPD'], dtype='<U3'),\n",
       "  array(['VPD'], dtype='<U3')],\n",
       " [2, 3, 6, 1, 3])"
      ]
     },
     "execution_count": null,
     "metadata": {},
     "output_type": "execute_result"
    }
   ],
   "source": [
    "[a_gap2._yield_gens().variables for _ in range(5)], [a_gap2._yield_gens().gap_length for _ in range(5)]"
   ]
  },
  {
   "cell_type": "code",
   "execution_count": null,
   "id": "27f2cc9f-4d0a-42a5-90bf-f4ca999918f7",
   "metadata": {},
   "outputs": [
    {
     "data": {
      "text/html": [
       "<p style='font-size: 1.5rem; font-decoration: bold'>Meteo Imp Df<p><div style=\"display: flex; column-gap: 20px; flex-wrap: wrap;\" class='table table-striped table-sm'> <div> <p style='font-size: 1.3rem;'>data</p> <style type=\"text/css\">\n",
       "</style>\n",
       "<table id=\"T_4045d\">\n",
       "  <thead>\n",
       "    <tr>\n",
       "      <th class=\"blank level0\" >&nbsp;</th>\n",
       "      <th id=\"T_4045d_level0_col0\" class=\"col_heading level0 col0\" >TA</th>\n",
       "      <th id=\"T_4045d_level0_col1\" class=\"col_heading level0 col1\" >SW_IN</th>\n",
       "      <th id=\"T_4045d_level0_col2\" class=\"col_heading level0 col2\" >VPD</th>\n",
       "    </tr>\n",
       "    <tr>\n",
       "      <th class=\"index_name level0\" >time</th>\n",
       "      <th class=\"blank col0\" >&nbsp;</th>\n",
       "      <th class=\"blank col1\" >&nbsp;</th>\n",
       "      <th class=\"blank col2\" >&nbsp;</th>\n",
       "    </tr>\n",
       "  </thead>\n",
       "  <tbody>\n",
       "    <tr>\n",
       "      <th id=\"T_4045d_level0_row0\" class=\"row_heading level0 row0\" >2000-06-15 17:00:00</th>\n",
       "      <td id=\"T_4045d_row0_col0\" class=\"data row0 col0\" >14.2200</td>\n",
       "      <td id=\"T_4045d_row0_col1\" class=\"data row0 col1\" >224.8000</td>\n",
       "      <td id=\"T_4045d_row0_col2\" class=\"data row0 col2\" >5.7990</td>\n",
       "    </tr>\n",
       "    <tr>\n",
       "      <th id=\"T_4045d_level0_row1\" class=\"row_heading level0 row1\" >2000-06-15 17:30:00</th>\n",
       "      <td id=\"T_4045d_row1_col0\" class=\"data row1 col0\" >14.1100</td>\n",
       "      <td id=\"T_4045d_row1_col1\" class=\"data row1 col1\" >195.2800</td>\n",
       "      <td id=\"T_4045d_row1_col2\" class=\"data row1 col2\" >6.5770</td>\n",
       "    </tr>\n",
       "    <tr>\n",
       "      <th id=\"T_4045d_level0_row2\" class=\"row_heading level0 row2\" >2000-06-15 18:00:00</th>\n",
       "      <td id=\"T_4045d_row2_col0\" class=\"data row2 col0\" >14.2300</td>\n",
       "      <td id=\"T_4045d_row2_col1\" class=\"data row2 col1\" >244.1700</td>\n",
       "      <td id=\"T_4045d_row2_col2\" class=\"data row2 col2\" >6.9310</td>\n",
       "    </tr>\n",
       "    <tr>\n",
       "      <th id=\"T_4045d_level0_row3\" class=\"row_heading level0 row3\" >2000-06-15 18:30:00</th>\n",
       "      <td id=\"T_4045d_row3_col0\" class=\"data row3 col0\" >14.4000</td>\n",
       "      <td id=\"T_4045d_row3_col1\" class=\"data row3 col1\" >253.9200</td>\n",
       "      <td id=\"T_4045d_row3_col2\" class=\"data row3 col2\" >7.2860</td>\n",
       "    </tr>\n",
       "    <tr>\n",
       "      <th id=\"T_4045d_level0_row4\" class=\"row_heading level0 row4\" >2000-06-15 19:00:00</th>\n",
       "      <td id=\"T_4045d_row4_col0\" class=\"data row4 col0\" >14.0900</td>\n",
       "      <td id=\"T_4045d_row4_col1\" class=\"data row4 col1\" >177.3100</td>\n",
       "      <td id=\"T_4045d_row4_col2\" class=\"data row4 col2\" >7.2510</td>\n",
       "    </tr>\n",
       "    <tr>\n",
       "      <th id=\"T_4045d_level0_row5\" class=\"row_heading level0 row5\" >2000-06-15 19:30:00</th>\n",
       "      <td id=\"T_4045d_row5_col0\" class=\"data row5 col0\" >13.7100</td>\n",
       "      <td id=\"T_4045d_row5_col1\" class=\"data row5 col1\" >97.0700</td>\n",
       "      <td id=\"T_4045d_row5_col2\" class=\"data row5 col2\" >6.6830</td>\n",
       "    </tr>\n",
       "    <tr>\n",
       "      <th id=\"T_4045d_level0_row6\" class=\"row_heading level0 row6\" >2000-06-15 20:00:00</th>\n",
       "      <td id=\"T_4045d_row6_col0\" class=\"data row6 col0\" >13.0800</td>\n",
       "      <td id=\"T_4045d_row6_col1\" class=\"data row6 col1\" >39.7100</td>\n",
       "      <td id=\"T_4045d_row6_col2\" class=\"data row6 col2\" >5.8510</td>\n",
       "    </tr>\n",
       "    <tr>\n",
       "      <th id=\"T_4045d_level0_row7\" class=\"row_heading level0 row7\" >2000-06-15 20:30:00</th>\n",
       "      <td id=\"T_4045d_row7_col0\" class=\"data row7 col0\" >12.4100</td>\n",
       "      <td id=\"T_4045d_row7_col1\" class=\"data row7 col1\" >10.6500</td>\n",
       "      <td id=\"T_4045d_row7_col2\" class=\"data row7 col2\" >5.2540</td>\n",
       "    </tr>\n",
       "    <tr>\n",
       "      <th id=\"T_4045d_level0_row8\" class=\"row_heading level0 row8\" >2000-06-15 21:00:00</th>\n",
       "      <td id=\"T_4045d_row8_col0\" class=\"data row8 col0\" >12.2700</td>\n",
       "      <td id=\"T_4045d_row8_col1\" class=\"data row8 col1\" >0.3200</td>\n",
       "      <td id=\"T_4045d_row8_col2\" class=\"data row8 col2\" >5.1640</td>\n",
       "    </tr>\n",
       "    <tr>\n",
       "      <th id=\"T_4045d_level0_row9\" class=\"row_heading level0 row9\" >2000-06-15 21:30:00</th>\n",
       "      <td id=\"T_4045d_row9_col0\" class=\"data row9 col0\" >12.2000</td>\n",
       "      <td id=\"T_4045d_row9_col1\" class=\"data row9 col1\" >0.0000</td>\n",
       "      <td id=\"T_4045d_row9_col2\" class=\"data row9 col2\" >5.0370</td>\n",
       "    </tr>\n",
       "  </tbody>\n",
       "</table>\n",
       " </div><div> <p style='font-size: 1.3rem;'>mask</p> <style type=\"text/css\">\n",
       "</style>\n",
       "<table id=\"T_1982e\">\n",
       "  <thead>\n",
       "    <tr>\n",
       "      <th class=\"blank level0\" >&nbsp;</th>\n",
       "      <th id=\"T_1982e_level0_col0\" class=\"col_heading level0 col0\" >TA</th>\n",
       "      <th id=\"T_1982e_level0_col1\" class=\"col_heading level0 col1\" >SW_IN</th>\n",
       "      <th id=\"T_1982e_level0_col2\" class=\"col_heading level0 col2\" >VPD</th>\n",
       "    </tr>\n",
       "    <tr>\n",
       "      <th class=\"index_name level0\" >time</th>\n",
       "      <th class=\"blank col0\" >&nbsp;</th>\n",
       "      <th class=\"blank col1\" >&nbsp;</th>\n",
       "      <th class=\"blank col2\" >&nbsp;</th>\n",
       "    </tr>\n",
       "  </thead>\n",
       "  <tbody>\n",
       "    <tr>\n",
       "      <th id=\"T_1982e_level0_row0\" class=\"row_heading level0 row0\" >2000-06-15 17:00:00</th>\n",
       "      <td id=\"T_1982e_row0_col0\" class=\"data row0 col0\" >True</td>\n",
       "      <td id=\"T_1982e_row0_col1\" class=\"data row0 col1\" >True</td>\n",
       "      <td id=\"T_1982e_row0_col2\" class=\"data row0 col2\" >True</td>\n",
       "    </tr>\n",
       "    <tr>\n",
       "      <th id=\"T_1982e_level0_row1\" class=\"row_heading level0 row1\" >2000-06-15 17:30:00</th>\n",
       "      <td id=\"T_1982e_row1_col0\" class=\"data row1 col0\" >True</td>\n",
       "      <td id=\"T_1982e_row1_col1\" class=\"data row1 col1\" >True</td>\n",
       "      <td id=\"T_1982e_row1_col2\" class=\"data row1 col2\" >True</td>\n",
       "    </tr>\n",
       "    <tr>\n",
       "      <th id=\"T_1982e_level0_row2\" class=\"row_heading level0 row2\" >2000-06-15 18:00:00</th>\n",
       "      <td id=\"T_1982e_row2_col0\" class=\"data row2 col0\" >True</td>\n",
       "      <td id=\"T_1982e_row2_col1\" class=\"data row2 col1\" >True</td>\n",
       "      <td id=\"T_1982e_row2_col2\" class=\"data row2 col2\" >True</td>\n",
       "    </tr>\n",
       "    <tr>\n",
       "      <th id=\"T_1982e_level0_row3\" class=\"row_heading level0 row3\" >2000-06-15 18:30:00</th>\n",
       "      <td id=\"T_1982e_row3_col0\" class=\"data row3 col0\" >True</td>\n",
       "      <td id=\"T_1982e_row3_col1\" class=\"data row3 col1\" >True</td>\n",
       "      <td id=\"T_1982e_row3_col2\" class=\"data row3 col2\" >True</td>\n",
       "    </tr>\n",
       "    <tr>\n",
       "      <th id=\"T_1982e_level0_row4\" class=\"row_heading level0 row4\" >2000-06-15 19:00:00</th>\n",
       "      <td id=\"T_1982e_row4_col0\" class=\"data row4 col0\" >False</td>\n",
       "      <td id=\"T_1982e_row4_col1\" class=\"data row4 col1\" >True</td>\n",
       "      <td id=\"T_1982e_row4_col2\" class=\"data row4 col2\" >False</td>\n",
       "    </tr>\n",
       "    <tr>\n",
       "      <th id=\"T_1982e_level0_row5\" class=\"row_heading level0 row5\" >2000-06-15 19:30:00</th>\n",
       "      <td id=\"T_1982e_row5_col0\" class=\"data row5 col0\" >False</td>\n",
       "      <td id=\"T_1982e_row5_col1\" class=\"data row5 col1\" >True</td>\n",
       "      <td id=\"T_1982e_row5_col2\" class=\"data row5 col2\" >False</td>\n",
       "    </tr>\n",
       "    <tr>\n",
       "      <th id=\"T_1982e_level0_row6\" class=\"row_heading level0 row6\" >2000-06-15 20:00:00</th>\n",
       "      <td id=\"T_1982e_row6_col0\" class=\"data row6 col0\" >False</td>\n",
       "      <td id=\"T_1982e_row6_col1\" class=\"data row6 col1\" >True</td>\n",
       "      <td id=\"T_1982e_row6_col2\" class=\"data row6 col2\" >False</td>\n",
       "    </tr>\n",
       "    <tr>\n",
       "      <th id=\"T_1982e_level0_row7\" class=\"row_heading level0 row7\" >2000-06-15 20:30:00</th>\n",
       "      <td id=\"T_1982e_row7_col0\" class=\"data row7 col0\" >False</td>\n",
       "      <td id=\"T_1982e_row7_col1\" class=\"data row7 col1\" >True</td>\n",
       "      <td id=\"T_1982e_row7_col2\" class=\"data row7 col2\" >False</td>\n",
       "    </tr>\n",
       "    <tr>\n",
       "      <th id=\"T_1982e_level0_row8\" class=\"row_heading level0 row8\" >2000-06-15 21:00:00</th>\n",
       "      <td id=\"T_1982e_row8_col0\" class=\"data row8 col0\" >False</td>\n",
       "      <td id=\"T_1982e_row8_col1\" class=\"data row8 col1\" >True</td>\n",
       "      <td id=\"T_1982e_row8_col2\" class=\"data row8 col2\" >False</td>\n",
       "    </tr>\n",
       "    <tr>\n",
       "      <th id=\"T_1982e_level0_row9\" class=\"row_heading level0 row9\" >2000-06-15 21:30:00</th>\n",
       "      <td id=\"T_1982e_row9_col0\" class=\"data row9 col0\" >True</td>\n",
       "      <td id=\"T_1982e_row9_col1\" class=\"data row9 col1\" >True</td>\n",
       "      <td id=\"T_1982e_row9_col2\" class=\"data row9 col2\" >True</td>\n",
       "    </tr>\n",
       "  </tbody>\n",
       "</table>\n",
       " </div><div> <p style='font-size: 1.3rem;'>control</p> <style type=\"text/css\">\n",
       "</style>\n",
       "<table id=\"T_33477\">\n",
       "  <thead>\n",
       "    <tr>\n",
       "      <th class=\"blank level0\" >&nbsp;</th>\n",
       "      <th id=\"T_33477_level0_col0\" class=\"col_heading level0 col0\" >TA_ERA</th>\n",
       "      <th id=\"T_33477_level0_col1\" class=\"col_heading level0 col1\" >SW_IN_ERA</th>\n",
       "      <th id=\"T_33477_level0_col2\" class=\"col_heading level0 col2\" >VPD_ERA</th>\n",
       "      <th id=\"T_33477_level0_col3\" class=\"col_heading level0 col3\" >TA_ERA_lag_1</th>\n",
       "      <th id=\"T_33477_level0_col4\" class=\"col_heading level0 col4\" >SW_IN_ERA_lag_1</th>\n",
       "      <th id=\"T_33477_level0_col5\" class=\"col_heading level0 col5\" >VPD_ERA_lag_1</th>\n",
       "    </tr>\n",
       "    <tr>\n",
       "      <th class=\"index_name level0\" >time</th>\n",
       "      <th class=\"blank col0\" >&nbsp;</th>\n",
       "      <th class=\"blank col1\" >&nbsp;</th>\n",
       "      <th class=\"blank col2\" >&nbsp;</th>\n",
       "      <th class=\"blank col3\" >&nbsp;</th>\n",
       "      <th class=\"blank col4\" >&nbsp;</th>\n",
       "      <th class=\"blank col5\" >&nbsp;</th>\n",
       "    </tr>\n",
       "  </thead>\n",
       "  <tbody>\n",
       "    <tr>\n",
       "      <th id=\"T_33477_level0_row0\" class=\"row_heading level0 row0\" >2000-06-15 17:00:00</th>\n",
       "      <td id=\"T_33477_row0_col0\" class=\"data row0 col0\" >15.0500</td>\n",
       "      <td id=\"T_33477_row0_col1\" class=\"data row0 col1\" >255.1930</td>\n",
       "      <td id=\"T_33477_row0_col2\" class=\"data row0 col2\" >5.1020</td>\n",
       "      <td id=\"T_33477_row0_col3\" class=\"data row0 col3\" >15.1390</td>\n",
       "      <td id=\"T_33477_row0_col4\" class=\"data row0 col4\" >287.1000</td>\n",
       "      <td id=\"T_33477_row0_col5\" class=\"data row0 col5\" >4.9000</td>\n",
       "    </tr>\n",
       "    <tr>\n",
       "      <th id=\"T_33477_level0_row1\" class=\"row_heading level0 row1\" >2000-06-15 17:30:00</th>\n",
       "      <td id=\"T_33477_row1_col0\" class=\"data row1 col0\" >14.9610</td>\n",
       "      <td id=\"T_33477_row1_col1\" class=\"data row1 col1\" >221.4270</td>\n",
       "      <td id=\"T_33477_row1_col2\" class=\"data row1 col2\" >5.3050</td>\n",
       "      <td id=\"T_33477_row1_col3\" class=\"data row1 col3\" >15.0500</td>\n",
       "      <td id=\"T_33477_row1_col4\" class=\"data row1 col4\" >255.1930</td>\n",
       "      <td id=\"T_33477_row1_col5\" class=\"data row1 col5\" >5.1020</td>\n",
       "    </tr>\n",
       "    <tr>\n",
       "      <th id=\"T_33477_level0_row2\" class=\"row_heading level0 row2\" >2000-06-15 18:00:00</th>\n",
       "      <td id=\"T_33477_row2_col0\" class=\"data row2 col0\" >14.8720</td>\n",
       "      <td id=\"T_33477_row2_col1\" class=\"data row2 col1\" >186.3800</td>\n",
       "      <td id=\"T_33477_row2_col2\" class=\"data row2 col2\" >5.5070</td>\n",
       "      <td id=\"T_33477_row2_col3\" class=\"data row2 col3\" >14.9610</td>\n",
       "      <td id=\"T_33477_row2_col4\" class=\"data row2 col4\" >221.4270</td>\n",
       "      <td id=\"T_33477_row2_col5\" class=\"data row2 col5\" >5.3050</td>\n",
       "    </tr>\n",
       "    <tr>\n",
       "      <th id=\"T_33477_level0_row3\" class=\"row_heading level0 row3\" >2000-06-15 18:30:00</th>\n",
       "      <td id=\"T_33477_row3_col0\" class=\"data row3 col0\" >14.7830</td>\n",
       "      <td id=\"T_33477_row3_col1\" class=\"data row3 col1\" >150.6500</td>\n",
       "      <td id=\"T_33477_row3_col2\" class=\"data row3 col2\" >5.7100</td>\n",
       "      <td id=\"T_33477_row3_col3\" class=\"data row3 col3\" >14.8720</td>\n",
       "      <td id=\"T_33477_row3_col4\" class=\"data row3 col4\" >186.3800</td>\n",
       "      <td id=\"T_33477_row3_col5\" class=\"data row3 col5\" >5.5070</td>\n",
       "    </tr>\n",
       "    <tr>\n",
       "      <th id=\"T_33477_level0_row4\" class=\"row_heading level0 row4\" >2000-06-15 19:00:00</th>\n",
       "      <td id=\"T_33477_row4_col0\" class=\"data row4 col0\" >14.6940</td>\n",
       "      <td id=\"T_33477_row4_col1\" class=\"data row4 col1\" >114.8490</td>\n",
       "      <td id=\"T_33477_row4_col2\" class=\"data row4 col2\" >5.9120</td>\n",
       "      <td id=\"T_33477_row4_col3\" class=\"data row4 col3\" >14.7830</td>\n",
       "      <td id=\"T_33477_row4_col4\" class=\"data row4 col4\" >150.6500</td>\n",
       "      <td id=\"T_33477_row4_col5\" class=\"data row4 col5\" >5.7100</td>\n",
       "    </tr>\n",
       "    <tr>\n",
       "      <th id=\"T_33477_level0_row5\" class=\"row_heading level0 row5\" >2000-06-15 19:30:00</th>\n",
       "      <td id=\"T_33477_row5_col0\" class=\"data row5 col0\" >14.6060</td>\n",
       "      <td id=\"T_33477_row5_col1\" class=\"data row5 col1\" >34.7280</td>\n",
       "      <td id=\"T_33477_row5_col2\" class=\"data row5 col2\" >6.1140</td>\n",
       "      <td id=\"T_33477_row5_col3\" class=\"data row5 col3\" >14.6940</td>\n",
       "      <td id=\"T_33477_row5_col4\" class=\"data row5 col4\" >114.8490</td>\n",
       "      <td id=\"T_33477_row5_col5\" class=\"data row5 col5\" >5.9120</td>\n",
       "    </tr>\n",
       "    <tr>\n",
       "      <th id=\"T_33477_level0_row6\" class=\"row_heading level0 row6\" >2000-06-15 20:00:00</th>\n",
       "      <td id=\"T_33477_row6_col0\" class=\"data row6 col0\" >14.3800</td>\n",
       "      <td id=\"T_33477_row6_col1\" class=\"data row6 col1\" >19.8430</td>\n",
       "      <td id=\"T_33477_row6_col2\" class=\"data row6 col2\" >6.0740</td>\n",
       "      <td id=\"T_33477_row6_col3\" class=\"data row6 col3\" >14.6060</td>\n",
       "      <td id=\"T_33477_row6_col4\" class=\"data row6 col4\" >34.7280</td>\n",
       "      <td id=\"T_33477_row6_col5\" class=\"data row6 col5\" >6.1140</td>\n",
       "    </tr>\n",
       "    <tr>\n",
       "      <th id=\"T_33477_level0_row7\" class=\"row_heading level0 row7\" >2000-06-15 20:30:00</th>\n",
       "      <td id=\"T_33477_row7_col0\" class=\"data row7 col0\" >14.1550</td>\n",
       "      <td id=\"T_33477_row7_col1\" class=\"data row7 col1\" >5.7120</td>\n",
       "      <td id=\"T_33477_row7_col2\" class=\"data row7 col2\" >6.0340</td>\n",
       "      <td id=\"T_33477_row7_col3\" class=\"data row7 col3\" >14.3800</td>\n",
       "      <td id=\"T_33477_row7_col4\" class=\"data row7 col4\" >19.8430</td>\n",
       "      <td id=\"T_33477_row7_col5\" class=\"data row7 col5\" >6.0740</td>\n",
       "    </tr>\n",
       "    <tr>\n",
       "      <th id=\"T_33477_level0_row8\" class=\"row_heading level0 row8\" >2000-06-15 21:00:00</th>\n",
       "      <td id=\"T_33477_row8_col0\" class=\"data row8 col0\" >13.9290</td>\n",
       "      <td id=\"T_33477_row8_col1\" class=\"data row8 col1\" >0.0000</td>\n",
       "      <td id=\"T_33477_row8_col2\" class=\"data row8 col2\" >5.9940</td>\n",
       "      <td id=\"T_33477_row8_col3\" class=\"data row8 col3\" >14.1550</td>\n",
       "      <td id=\"T_33477_row8_col4\" class=\"data row8 col4\" >5.7120</td>\n",
       "      <td id=\"T_33477_row8_col5\" class=\"data row8 col5\" >6.0340</td>\n",
       "    </tr>\n",
       "    <tr>\n",
       "      <th id=\"T_33477_level0_row9\" class=\"row_heading level0 row9\" >2000-06-15 21:30:00</th>\n",
       "      <td id=\"T_33477_row9_col0\" class=\"data row9 col0\" >13.7040</td>\n",
       "      <td id=\"T_33477_row9_col1\" class=\"data row9 col1\" >0.0000</td>\n",
       "      <td id=\"T_33477_row9_col2\" class=\"data row9 col2\" >5.9540</td>\n",
       "      <td id=\"T_33477_row9_col3\" class=\"data row9 col3\" >13.9290</td>\n",
       "      <td id=\"T_33477_row9_col4\" class=\"data row9 col4\" >0.0000</td>\n",
       "      <td id=\"T_33477_row9_col5\" class=\"data row9 col5\" >5.9940</td>\n",
       "    </tr>\n",
       "  </tbody>\n",
       "</table>\n",
       " </div></div>"
      ],
      "text/plain": [
       "__main__.MeteoImpDf(data=                        TA       SW_IN    VPD\n",
       "time                                         \n",
       "2000-06-15 17:00:00  14.22  224.800003  5.799\n",
       "2000-06-15 17:30:00  14.11  195.279999  6.577\n",
       "2000-06-15 18:00:00  14.23  244.169998  6.931\n",
       "2000-06-15 18:30:00  14.40  253.919998  7.286\n",
       "2000-06-15 19:00:00  14.09  177.309998  7.251\n",
       "2000-06-15 19:30:00  13.71   97.070000  6.683\n",
       "2000-06-15 20:00:00  13.08   39.709999  5.851\n",
       "2000-06-15 20:30:00  12.41   10.650000  5.254\n",
       "2000-06-15 21:00:00  12.27    0.320000  5.164\n",
       "2000-06-15 21:30:00  12.20    0.000000  5.037, mask=                        TA  SW_IN    VPD\n",
       "time                                    \n",
       "2000-06-15 17:00:00   True   True   True\n",
       "2000-06-15 17:30:00   True   True   True\n",
       "2000-06-15 18:00:00   True   True   True\n",
       "2000-06-15 18:30:00   True   True   True\n",
       "2000-06-15 19:00:00  False   True  False\n",
       "2000-06-15 19:30:00  False   True  False\n",
       "2000-06-15 20:00:00  False   True  False\n",
       "2000-06-15 20:30:00  False   True  False\n",
       "2000-06-15 21:00:00  False   True  False\n",
       "2000-06-15 21:30:00   True   True   True, control=                     TA_ERA   SW_IN_ERA  VPD_ERA  TA_ERA_lag_1  \\\n",
       "time                                                             \n",
       "2000-06-15 17:00:00  15.050  255.192993    5.102        15.139   \n",
       "2000-06-15 17:30:00  14.961  221.427002    5.305        15.050   \n",
       "2000-06-15 18:00:00  14.872  186.380005    5.507        14.961   \n",
       "2000-06-15 18:30:00  14.783  150.649994    5.710        14.872   \n",
       "2000-06-15 19:00:00  14.694  114.848999    5.912        14.783   \n",
       "2000-06-15 19:30:00  14.606   34.728001    6.114        14.694   \n",
       "2000-06-15 20:00:00  14.380   19.843000    6.074        14.606   \n",
       "2000-06-15 20:30:00  14.155    5.712000    6.034        14.380   \n",
       "2000-06-15 21:00:00  13.929    0.000000    5.994        14.155   \n",
       "2000-06-15 21:30:00  13.704    0.000000    5.954        13.929   \n",
       "\n",
       "                     SW_IN_ERA_lag_1  VPD_ERA_lag_1  \n",
       "time                                                 \n",
       "2000-06-15 17:00:00       287.100006          4.900  \n",
       "2000-06-15 17:30:00       255.192993          5.102  \n",
       "2000-06-15 18:00:00       221.427002          5.305  \n",
       "2000-06-15 18:30:00       186.380005          5.507  \n",
       "2000-06-15 19:00:00       150.649994          5.710  \n",
       "2000-06-15 19:30:00       114.848999          5.912  \n",
       "2000-06-15 20:00:00        34.728001          6.114  \n",
       "2000-06-15 20:30:00        19.843000          6.074  \n",
       "2000-06-15 21:00:00         5.712000          6.034  \n",
       "2000-06-15 21:30:00         0.000000          5.994  )"
      ]
     },
     "execution_count": null,
     "metadata": {},
     "output_type": "execute_result"
    }
   ],
   "source": [
    "a_gap(tfms1[0])"
   ]
  },
  {
   "cell_type": "code",
   "execution_count": null,
   "id": "38be4fa4-4d1f-465d-b176-0d71d921bb48",
   "metadata": {},
   "outputs": [
    {
     "data": {
      "text/html": [
       "<p style='font-size: 1.5rem; font-decoration: bold'>Meteo Imp Df<p><div style=\"display: flex; column-gap: 20px; flex-wrap: wrap;\" class='table table-striped table-sm'> <div> <p style='font-size: 1.3rem;'>data</p> <style type=\"text/css\">\n",
       "</style>\n",
       "<table id=\"T_848c2\">\n",
       "  <thead>\n",
       "    <tr>\n",
       "      <th class=\"blank level0\" >&nbsp;</th>\n",
       "      <th id=\"T_848c2_level0_col0\" class=\"col_heading level0 col0\" >TA</th>\n",
       "      <th id=\"T_848c2_level0_col1\" class=\"col_heading level0 col1\" >SW_IN</th>\n",
       "      <th id=\"T_848c2_level0_col2\" class=\"col_heading level0 col2\" >VPD</th>\n",
       "    </tr>\n",
       "    <tr>\n",
       "      <th class=\"index_name level0\" >time</th>\n",
       "      <th class=\"blank col0\" >&nbsp;</th>\n",
       "      <th class=\"blank col1\" >&nbsp;</th>\n",
       "      <th class=\"blank col2\" >&nbsp;</th>\n",
       "    </tr>\n",
       "  </thead>\n",
       "  <tbody>\n",
       "    <tr>\n",
       "      <th id=\"T_848c2_level0_row0\" class=\"row_heading level0 row0\" >2000-06-15 17:00:00</th>\n",
       "      <td id=\"T_848c2_row0_col0\" class=\"data row0 col0\" >14.2200</td>\n",
       "      <td id=\"T_848c2_row0_col1\" class=\"data row0 col1\" >224.8000</td>\n",
       "      <td id=\"T_848c2_row0_col2\" class=\"data row0 col2\" >5.7990</td>\n",
       "    </tr>\n",
       "    <tr>\n",
       "      <th id=\"T_848c2_level0_row1\" class=\"row_heading level0 row1\" >2000-06-15 17:30:00</th>\n",
       "      <td id=\"T_848c2_row1_col0\" class=\"data row1 col0\" >14.1100</td>\n",
       "      <td id=\"T_848c2_row1_col1\" class=\"data row1 col1\" >195.2800</td>\n",
       "      <td id=\"T_848c2_row1_col2\" class=\"data row1 col2\" >6.5770</td>\n",
       "    </tr>\n",
       "    <tr>\n",
       "      <th id=\"T_848c2_level0_row2\" class=\"row_heading level0 row2\" >2000-06-15 18:00:00</th>\n",
       "      <td id=\"T_848c2_row2_col0\" class=\"data row2 col0\" >14.2300</td>\n",
       "      <td id=\"T_848c2_row2_col1\" class=\"data row2 col1\" >244.1700</td>\n",
       "      <td id=\"T_848c2_row2_col2\" class=\"data row2 col2\" >6.9310</td>\n",
       "    </tr>\n",
       "    <tr>\n",
       "      <th id=\"T_848c2_level0_row3\" class=\"row_heading level0 row3\" >2000-06-15 18:30:00</th>\n",
       "      <td id=\"T_848c2_row3_col0\" class=\"data row3 col0\" >14.4000</td>\n",
       "      <td id=\"T_848c2_row3_col1\" class=\"data row3 col1\" >253.9200</td>\n",
       "      <td id=\"T_848c2_row3_col2\" class=\"data row3 col2\" >7.2860</td>\n",
       "    </tr>\n",
       "    <tr>\n",
       "      <th id=\"T_848c2_level0_row4\" class=\"row_heading level0 row4\" >2000-06-15 19:00:00</th>\n",
       "      <td id=\"T_848c2_row4_col0\" class=\"data row4 col0\" >14.0900</td>\n",
       "      <td id=\"T_848c2_row4_col1\" class=\"data row4 col1\" >177.3100</td>\n",
       "      <td id=\"T_848c2_row4_col2\" class=\"data row4 col2\" >7.2510</td>\n",
       "    </tr>\n",
       "    <tr>\n",
       "      <th id=\"T_848c2_level0_row5\" class=\"row_heading level0 row5\" >2000-06-15 19:30:00</th>\n",
       "      <td id=\"T_848c2_row5_col0\" class=\"data row5 col0\" >13.7100</td>\n",
       "      <td id=\"T_848c2_row5_col1\" class=\"data row5 col1\" >97.0700</td>\n",
       "      <td id=\"T_848c2_row5_col2\" class=\"data row5 col2\" >6.6830</td>\n",
       "    </tr>\n",
       "    <tr>\n",
       "      <th id=\"T_848c2_level0_row6\" class=\"row_heading level0 row6\" >2000-06-15 20:00:00</th>\n",
       "      <td id=\"T_848c2_row6_col0\" class=\"data row6 col0\" >13.0800</td>\n",
       "      <td id=\"T_848c2_row6_col1\" class=\"data row6 col1\" >39.7100</td>\n",
       "      <td id=\"T_848c2_row6_col2\" class=\"data row6 col2\" >5.8510</td>\n",
       "    </tr>\n",
       "    <tr>\n",
       "      <th id=\"T_848c2_level0_row7\" class=\"row_heading level0 row7\" >2000-06-15 20:30:00</th>\n",
       "      <td id=\"T_848c2_row7_col0\" class=\"data row7 col0\" >12.4100</td>\n",
       "      <td id=\"T_848c2_row7_col1\" class=\"data row7 col1\" >10.6500</td>\n",
       "      <td id=\"T_848c2_row7_col2\" class=\"data row7 col2\" >5.2540</td>\n",
       "    </tr>\n",
       "    <tr>\n",
       "      <th id=\"T_848c2_level0_row8\" class=\"row_heading level0 row8\" >2000-06-15 21:00:00</th>\n",
       "      <td id=\"T_848c2_row8_col0\" class=\"data row8 col0\" >12.2700</td>\n",
       "      <td id=\"T_848c2_row8_col1\" class=\"data row8 col1\" >0.3200</td>\n",
       "      <td id=\"T_848c2_row8_col2\" class=\"data row8 col2\" >5.1640</td>\n",
       "    </tr>\n",
       "    <tr>\n",
       "      <th id=\"T_848c2_level0_row9\" class=\"row_heading level0 row9\" >2000-06-15 21:30:00</th>\n",
       "      <td id=\"T_848c2_row9_col0\" class=\"data row9 col0\" >12.2000</td>\n",
       "      <td id=\"T_848c2_row9_col1\" class=\"data row9 col1\" >0.0000</td>\n",
       "      <td id=\"T_848c2_row9_col2\" class=\"data row9 col2\" >5.0370</td>\n",
       "    </tr>\n",
       "  </tbody>\n",
       "</table>\n",
       " </div><div> <p style='font-size: 1.3rem;'>mask</p> <style type=\"text/css\">\n",
       "</style>\n",
       "<table id=\"T_74a88\">\n",
       "  <thead>\n",
       "    <tr>\n",
       "      <th class=\"blank level0\" >&nbsp;</th>\n",
       "      <th id=\"T_74a88_level0_col0\" class=\"col_heading level0 col0\" >TA</th>\n",
       "      <th id=\"T_74a88_level0_col1\" class=\"col_heading level0 col1\" >SW_IN</th>\n",
       "      <th id=\"T_74a88_level0_col2\" class=\"col_heading level0 col2\" >VPD</th>\n",
       "    </tr>\n",
       "    <tr>\n",
       "      <th class=\"index_name level0\" >time</th>\n",
       "      <th class=\"blank col0\" >&nbsp;</th>\n",
       "      <th class=\"blank col1\" >&nbsp;</th>\n",
       "      <th class=\"blank col2\" >&nbsp;</th>\n",
       "    </tr>\n",
       "  </thead>\n",
       "  <tbody>\n",
       "    <tr>\n",
       "      <th id=\"T_74a88_level0_row0\" class=\"row_heading level0 row0\" >2000-06-15 17:00:00</th>\n",
       "      <td id=\"T_74a88_row0_col0\" class=\"data row0 col0\" >True</td>\n",
       "      <td id=\"T_74a88_row0_col1\" class=\"data row0 col1\" >True</td>\n",
       "      <td id=\"T_74a88_row0_col2\" class=\"data row0 col2\" >True</td>\n",
       "    </tr>\n",
       "    <tr>\n",
       "      <th id=\"T_74a88_level0_row1\" class=\"row_heading level0 row1\" >2000-06-15 17:30:00</th>\n",
       "      <td id=\"T_74a88_row1_col0\" class=\"data row1 col0\" >True</td>\n",
       "      <td id=\"T_74a88_row1_col1\" class=\"data row1 col1\" >True</td>\n",
       "      <td id=\"T_74a88_row1_col2\" class=\"data row1 col2\" >True</td>\n",
       "    </tr>\n",
       "    <tr>\n",
       "      <th id=\"T_74a88_level0_row2\" class=\"row_heading level0 row2\" >2000-06-15 18:00:00</th>\n",
       "      <td id=\"T_74a88_row2_col0\" class=\"data row2 col0\" >False</td>\n",
       "      <td id=\"T_74a88_row2_col1\" class=\"data row2 col1\" >True</td>\n",
       "      <td id=\"T_74a88_row2_col2\" class=\"data row2 col2\" >False</td>\n",
       "    </tr>\n",
       "    <tr>\n",
       "      <th id=\"T_74a88_level0_row3\" class=\"row_heading level0 row3\" >2000-06-15 18:30:00</th>\n",
       "      <td id=\"T_74a88_row3_col0\" class=\"data row3 col0\" >True</td>\n",
       "      <td id=\"T_74a88_row3_col1\" class=\"data row3 col1\" >True</td>\n",
       "      <td id=\"T_74a88_row3_col2\" class=\"data row3 col2\" >True</td>\n",
       "    </tr>\n",
       "    <tr>\n",
       "      <th id=\"T_74a88_level0_row4\" class=\"row_heading level0 row4\" >2000-06-15 19:00:00</th>\n",
       "      <td id=\"T_74a88_row4_col0\" class=\"data row4 col0\" >True</td>\n",
       "      <td id=\"T_74a88_row4_col1\" class=\"data row4 col1\" >True</td>\n",
       "      <td id=\"T_74a88_row4_col2\" class=\"data row4 col2\" >True</td>\n",
       "    </tr>\n",
       "    <tr>\n",
       "      <th id=\"T_74a88_level0_row5\" class=\"row_heading level0 row5\" >2000-06-15 19:30:00</th>\n",
       "      <td id=\"T_74a88_row5_col0\" class=\"data row5 col0\" >True</td>\n",
       "      <td id=\"T_74a88_row5_col1\" class=\"data row5 col1\" >True</td>\n",
       "      <td id=\"T_74a88_row5_col2\" class=\"data row5 col2\" >True</td>\n",
       "    </tr>\n",
       "    <tr>\n",
       "      <th id=\"T_74a88_level0_row6\" class=\"row_heading level0 row6\" >2000-06-15 20:00:00</th>\n",
       "      <td id=\"T_74a88_row6_col0\" class=\"data row6 col0\" >True</td>\n",
       "      <td id=\"T_74a88_row6_col1\" class=\"data row6 col1\" >True</td>\n",
       "      <td id=\"T_74a88_row6_col2\" class=\"data row6 col2\" >True</td>\n",
       "    </tr>\n",
       "    <tr>\n",
       "      <th id=\"T_74a88_level0_row7\" class=\"row_heading level0 row7\" >2000-06-15 20:30:00</th>\n",
       "      <td id=\"T_74a88_row7_col0\" class=\"data row7 col0\" >True</td>\n",
       "      <td id=\"T_74a88_row7_col1\" class=\"data row7 col1\" >True</td>\n",
       "      <td id=\"T_74a88_row7_col2\" class=\"data row7 col2\" >True</td>\n",
       "    </tr>\n",
       "    <tr>\n",
       "      <th id=\"T_74a88_level0_row8\" class=\"row_heading level0 row8\" >2000-06-15 21:00:00</th>\n",
       "      <td id=\"T_74a88_row8_col0\" class=\"data row8 col0\" >True</td>\n",
       "      <td id=\"T_74a88_row8_col1\" class=\"data row8 col1\" >True</td>\n",
       "      <td id=\"T_74a88_row8_col2\" class=\"data row8 col2\" >True</td>\n",
       "    </tr>\n",
       "    <tr>\n",
       "      <th id=\"T_74a88_level0_row9\" class=\"row_heading level0 row9\" >2000-06-15 21:30:00</th>\n",
       "      <td id=\"T_74a88_row9_col0\" class=\"data row9 col0\" >True</td>\n",
       "      <td id=\"T_74a88_row9_col1\" class=\"data row9 col1\" >True</td>\n",
       "      <td id=\"T_74a88_row9_col2\" class=\"data row9 col2\" >True</td>\n",
       "    </tr>\n",
       "  </tbody>\n",
       "</table>\n",
       " </div><div> <p style='font-size: 1.3rem;'>control</p> <style type=\"text/css\">\n",
       "</style>\n",
       "<table id=\"T_8eed1\">\n",
       "  <thead>\n",
       "    <tr>\n",
       "      <th class=\"blank level0\" >&nbsp;</th>\n",
       "      <th id=\"T_8eed1_level0_col0\" class=\"col_heading level0 col0\" >TA_ERA</th>\n",
       "      <th id=\"T_8eed1_level0_col1\" class=\"col_heading level0 col1\" >SW_IN_ERA</th>\n",
       "      <th id=\"T_8eed1_level0_col2\" class=\"col_heading level0 col2\" >VPD_ERA</th>\n",
       "      <th id=\"T_8eed1_level0_col3\" class=\"col_heading level0 col3\" >TA_ERA_lag_1</th>\n",
       "      <th id=\"T_8eed1_level0_col4\" class=\"col_heading level0 col4\" >SW_IN_ERA_lag_1</th>\n",
       "      <th id=\"T_8eed1_level0_col5\" class=\"col_heading level0 col5\" >VPD_ERA_lag_1</th>\n",
       "    </tr>\n",
       "    <tr>\n",
       "      <th class=\"index_name level0\" >time</th>\n",
       "      <th class=\"blank col0\" >&nbsp;</th>\n",
       "      <th class=\"blank col1\" >&nbsp;</th>\n",
       "      <th class=\"blank col2\" >&nbsp;</th>\n",
       "      <th class=\"blank col3\" >&nbsp;</th>\n",
       "      <th class=\"blank col4\" >&nbsp;</th>\n",
       "      <th class=\"blank col5\" >&nbsp;</th>\n",
       "    </tr>\n",
       "  </thead>\n",
       "  <tbody>\n",
       "    <tr>\n",
       "      <th id=\"T_8eed1_level0_row0\" class=\"row_heading level0 row0\" >2000-06-15 17:00:00</th>\n",
       "      <td id=\"T_8eed1_row0_col0\" class=\"data row0 col0\" >15.0500</td>\n",
       "      <td id=\"T_8eed1_row0_col1\" class=\"data row0 col1\" >255.1930</td>\n",
       "      <td id=\"T_8eed1_row0_col2\" class=\"data row0 col2\" >5.1020</td>\n",
       "      <td id=\"T_8eed1_row0_col3\" class=\"data row0 col3\" >15.1390</td>\n",
       "      <td id=\"T_8eed1_row0_col4\" class=\"data row0 col4\" >287.1000</td>\n",
       "      <td id=\"T_8eed1_row0_col5\" class=\"data row0 col5\" >4.9000</td>\n",
       "    </tr>\n",
       "    <tr>\n",
       "      <th id=\"T_8eed1_level0_row1\" class=\"row_heading level0 row1\" >2000-06-15 17:30:00</th>\n",
       "      <td id=\"T_8eed1_row1_col0\" class=\"data row1 col0\" >14.9610</td>\n",
       "      <td id=\"T_8eed1_row1_col1\" class=\"data row1 col1\" >221.4270</td>\n",
       "      <td id=\"T_8eed1_row1_col2\" class=\"data row1 col2\" >5.3050</td>\n",
       "      <td id=\"T_8eed1_row1_col3\" class=\"data row1 col3\" >15.0500</td>\n",
       "      <td id=\"T_8eed1_row1_col4\" class=\"data row1 col4\" >255.1930</td>\n",
       "      <td id=\"T_8eed1_row1_col5\" class=\"data row1 col5\" >5.1020</td>\n",
       "    </tr>\n",
       "    <tr>\n",
       "      <th id=\"T_8eed1_level0_row2\" class=\"row_heading level0 row2\" >2000-06-15 18:00:00</th>\n",
       "      <td id=\"T_8eed1_row2_col0\" class=\"data row2 col0\" >14.8720</td>\n",
       "      <td id=\"T_8eed1_row2_col1\" class=\"data row2 col1\" >186.3800</td>\n",
       "      <td id=\"T_8eed1_row2_col2\" class=\"data row2 col2\" >5.5070</td>\n",
       "      <td id=\"T_8eed1_row2_col3\" class=\"data row2 col3\" >14.9610</td>\n",
       "      <td id=\"T_8eed1_row2_col4\" class=\"data row2 col4\" >221.4270</td>\n",
       "      <td id=\"T_8eed1_row2_col5\" class=\"data row2 col5\" >5.3050</td>\n",
       "    </tr>\n",
       "    <tr>\n",
       "      <th id=\"T_8eed1_level0_row3\" class=\"row_heading level0 row3\" >2000-06-15 18:30:00</th>\n",
       "      <td id=\"T_8eed1_row3_col0\" class=\"data row3 col0\" >14.7830</td>\n",
       "      <td id=\"T_8eed1_row3_col1\" class=\"data row3 col1\" >150.6500</td>\n",
       "      <td id=\"T_8eed1_row3_col2\" class=\"data row3 col2\" >5.7100</td>\n",
       "      <td id=\"T_8eed1_row3_col3\" class=\"data row3 col3\" >14.8720</td>\n",
       "      <td id=\"T_8eed1_row3_col4\" class=\"data row3 col4\" >186.3800</td>\n",
       "      <td id=\"T_8eed1_row3_col5\" class=\"data row3 col5\" >5.5070</td>\n",
       "    </tr>\n",
       "    <tr>\n",
       "      <th id=\"T_8eed1_level0_row4\" class=\"row_heading level0 row4\" >2000-06-15 19:00:00</th>\n",
       "      <td id=\"T_8eed1_row4_col0\" class=\"data row4 col0\" >14.6940</td>\n",
       "      <td id=\"T_8eed1_row4_col1\" class=\"data row4 col1\" >114.8490</td>\n",
       "      <td id=\"T_8eed1_row4_col2\" class=\"data row4 col2\" >5.9120</td>\n",
       "      <td id=\"T_8eed1_row4_col3\" class=\"data row4 col3\" >14.7830</td>\n",
       "      <td id=\"T_8eed1_row4_col4\" class=\"data row4 col4\" >150.6500</td>\n",
       "      <td id=\"T_8eed1_row4_col5\" class=\"data row4 col5\" >5.7100</td>\n",
       "    </tr>\n",
       "    <tr>\n",
       "      <th id=\"T_8eed1_level0_row5\" class=\"row_heading level0 row5\" >2000-06-15 19:30:00</th>\n",
       "      <td id=\"T_8eed1_row5_col0\" class=\"data row5 col0\" >14.6060</td>\n",
       "      <td id=\"T_8eed1_row5_col1\" class=\"data row5 col1\" >34.7280</td>\n",
       "      <td id=\"T_8eed1_row5_col2\" class=\"data row5 col2\" >6.1140</td>\n",
       "      <td id=\"T_8eed1_row5_col3\" class=\"data row5 col3\" >14.6940</td>\n",
       "      <td id=\"T_8eed1_row5_col4\" class=\"data row5 col4\" >114.8490</td>\n",
       "      <td id=\"T_8eed1_row5_col5\" class=\"data row5 col5\" >5.9120</td>\n",
       "    </tr>\n",
       "    <tr>\n",
       "      <th id=\"T_8eed1_level0_row6\" class=\"row_heading level0 row6\" >2000-06-15 20:00:00</th>\n",
       "      <td id=\"T_8eed1_row6_col0\" class=\"data row6 col0\" >14.3800</td>\n",
       "      <td id=\"T_8eed1_row6_col1\" class=\"data row6 col1\" >19.8430</td>\n",
       "      <td id=\"T_8eed1_row6_col2\" class=\"data row6 col2\" >6.0740</td>\n",
       "      <td id=\"T_8eed1_row6_col3\" class=\"data row6 col3\" >14.6060</td>\n",
       "      <td id=\"T_8eed1_row6_col4\" class=\"data row6 col4\" >34.7280</td>\n",
       "      <td id=\"T_8eed1_row6_col5\" class=\"data row6 col5\" >6.1140</td>\n",
       "    </tr>\n",
       "    <tr>\n",
       "      <th id=\"T_8eed1_level0_row7\" class=\"row_heading level0 row7\" >2000-06-15 20:30:00</th>\n",
       "      <td id=\"T_8eed1_row7_col0\" class=\"data row7 col0\" >14.1550</td>\n",
       "      <td id=\"T_8eed1_row7_col1\" class=\"data row7 col1\" >5.7120</td>\n",
       "      <td id=\"T_8eed1_row7_col2\" class=\"data row7 col2\" >6.0340</td>\n",
       "      <td id=\"T_8eed1_row7_col3\" class=\"data row7 col3\" >14.3800</td>\n",
       "      <td id=\"T_8eed1_row7_col4\" class=\"data row7 col4\" >19.8430</td>\n",
       "      <td id=\"T_8eed1_row7_col5\" class=\"data row7 col5\" >6.0740</td>\n",
       "    </tr>\n",
       "    <tr>\n",
       "      <th id=\"T_8eed1_level0_row8\" class=\"row_heading level0 row8\" >2000-06-15 21:00:00</th>\n",
       "      <td id=\"T_8eed1_row8_col0\" class=\"data row8 col0\" >13.9290</td>\n",
       "      <td id=\"T_8eed1_row8_col1\" class=\"data row8 col1\" >0.0000</td>\n",
       "      <td id=\"T_8eed1_row8_col2\" class=\"data row8 col2\" >5.9940</td>\n",
       "      <td id=\"T_8eed1_row8_col3\" class=\"data row8 col3\" >14.1550</td>\n",
       "      <td id=\"T_8eed1_row8_col4\" class=\"data row8 col4\" >5.7120</td>\n",
       "      <td id=\"T_8eed1_row8_col5\" class=\"data row8 col5\" >6.0340</td>\n",
       "    </tr>\n",
       "    <tr>\n",
       "      <th id=\"T_8eed1_level0_row9\" class=\"row_heading level0 row9\" >2000-06-15 21:30:00</th>\n",
       "      <td id=\"T_8eed1_row9_col0\" class=\"data row9 col0\" >13.7040</td>\n",
       "      <td id=\"T_8eed1_row9_col1\" class=\"data row9 col1\" >0.0000</td>\n",
       "      <td id=\"T_8eed1_row9_col2\" class=\"data row9 col2\" >5.9540</td>\n",
       "      <td id=\"T_8eed1_row9_col3\" class=\"data row9 col3\" >13.9290</td>\n",
       "      <td id=\"T_8eed1_row9_col4\" class=\"data row9 col4\" >0.0000</td>\n",
       "      <td id=\"T_8eed1_row9_col5\" class=\"data row9 col5\" >5.9940</td>\n",
       "    </tr>\n",
       "  </tbody>\n",
       "</table>\n",
       " </div></div>"
      ],
      "text/plain": [
       "__main__.MeteoImpDf(data=                        TA       SW_IN    VPD\n",
       "time                                         \n",
       "2000-06-15 17:00:00  14.22  224.800003  5.799\n",
       "2000-06-15 17:30:00  14.11  195.279999  6.577\n",
       "2000-06-15 18:00:00  14.23  244.169998  6.931\n",
       "2000-06-15 18:30:00  14.40  253.919998  7.286\n",
       "2000-06-15 19:00:00  14.09  177.309998  7.251\n",
       "2000-06-15 19:30:00  13.71   97.070000  6.683\n",
       "2000-06-15 20:00:00  13.08   39.709999  5.851\n",
       "2000-06-15 20:30:00  12.41   10.650000  5.254\n",
       "2000-06-15 21:00:00  12.27    0.320000  5.164\n",
       "2000-06-15 21:30:00  12.20    0.000000  5.037, mask=                        TA  SW_IN    VPD\n",
       "time                                    \n",
       "2000-06-15 17:00:00   True   True   True\n",
       "2000-06-15 17:30:00   True   True   True\n",
       "2000-06-15 18:00:00  False   True  False\n",
       "2000-06-15 18:30:00   True   True   True\n",
       "2000-06-15 19:00:00   True   True   True\n",
       "2000-06-15 19:30:00   True   True   True\n",
       "2000-06-15 20:00:00   True   True   True\n",
       "2000-06-15 20:30:00   True   True   True\n",
       "2000-06-15 21:00:00   True   True   True\n",
       "2000-06-15 21:30:00   True   True   True, control=                     TA_ERA   SW_IN_ERA  VPD_ERA  TA_ERA_lag_1  \\\n",
       "time                                                             \n",
       "2000-06-15 17:00:00  15.050  255.192993    5.102        15.139   \n",
       "2000-06-15 17:30:00  14.961  221.427002    5.305        15.050   \n",
       "2000-06-15 18:00:00  14.872  186.380005    5.507        14.961   \n",
       "2000-06-15 18:30:00  14.783  150.649994    5.710        14.872   \n",
       "2000-06-15 19:00:00  14.694  114.848999    5.912        14.783   \n",
       "2000-06-15 19:30:00  14.606   34.728001    6.114        14.694   \n",
       "2000-06-15 20:00:00  14.380   19.843000    6.074        14.606   \n",
       "2000-06-15 20:30:00  14.155    5.712000    6.034        14.380   \n",
       "2000-06-15 21:00:00  13.929    0.000000    5.994        14.155   \n",
       "2000-06-15 21:30:00  13.704    0.000000    5.954        13.929   \n",
       "\n",
       "                     SW_IN_ERA_lag_1  VPD_ERA_lag_1  \n",
       "time                                                 \n",
       "2000-06-15 17:00:00       287.100006          4.900  \n",
       "2000-06-15 17:30:00       255.192993          5.102  \n",
       "2000-06-15 18:00:00       221.427002          5.305  \n",
       "2000-06-15 18:30:00       186.380005          5.507  \n",
       "2000-06-15 19:00:00       150.649994          5.710  \n",
       "2000-06-15 19:30:00       114.848999          5.912  \n",
       "2000-06-15 20:00:00        34.728001          6.114  \n",
       "2000-06-15 20:30:00        19.843000          6.074  \n",
       "2000-06-15 21:00:00         5.712000          6.034  \n",
       "2000-06-15 21:30:00         0.000000          5.994  )"
      ]
     },
     "execution_count": null,
     "metadata": {},
     "output_type": "execute_result"
    }
   ],
   "source": [
    "a_gap2(tfms1[0])"
   ]
  },
  {
   "cell_type": "code",
   "execution_count": null,
   "id": "8c9cc0f4-d22e-4bd9-ba89-00a9fbaae5cc",
   "metadata": {},
   "outputs": [
    {
     "data": {
      "text/plain": [
       "False"
      ]
     },
     "execution_count": null,
     "metadata": {},
     "output_type": "execute_result"
    }
   ],
   "source": [
    "a_gap2(blkdf(blk(i))).mask.to_numpy().all()"
   ]
  },
  {
   "cell_type": "code",
   "execution_count": null,
   "id": "d1e402e1-e9de-4667-bde2-482f2d3fef01",
   "metadata": {},
   "outputs": [
    {
     "data": {
      "text/plain": [
       "False"
      ]
     },
     "execution_count": null,
     "metadata": {},
     "output_type": "execute_result"
    }
   ],
   "source": [
    "a_gap2(tfms1[3]).mask.to_numpy().all()"
   ]
  },
  {
   "cell_type": "code",
   "execution_count": null,
   "id": "21b74874-14ec-411a-afdc-4de5637daf75",
   "metadata": {},
   "outputs": [],
   "source": [
    "for i in range(800):\n",
    "    assert not a_gap2(blkdf(blk(i))).mask.to_numpy().all()"
   ]
  },
  {
   "cell_type": "code",
   "execution_count": null,
   "id": "ebab31a7-a5b2-4fda-bd2e-c49858b4c972",
   "metadata": {},
   "outputs": [
    {
     "data": {
      "text/plain": [
       "799"
      ]
     },
     "execution_count": null,
     "metadata": {},
     "output_type": "execute_result"
    }
   ],
   "source": [
    "i"
   ]
  },
  {
   "cell_type": "code",
   "execution_count": null,
   "id": "465aab96-5f68-49c4-94bd-8c4fe4d5e8de",
   "metadata": {},
   "outputs": [],
   "source": [
    "tfms2 = TfmdLists([800,801,802,803], [*tfms1.fs, AddGapTransform(['TA','SW_IN'], 2)])"
   ]
  },
  {
   "cell_type": "code",
   "execution_count": null,
   "id": "3292befc-b05d-441b-9404-7d1aa24d657d",
   "metadata": {},
   "outputs": [
    {
     "data": {
      "text/html": [
       "<p style='font-size: 1.5rem; font-decoration: bold'>Meteo Imp Df<p><div style=\"display: flex; column-gap: 20px; flex-wrap: wrap;\" class='table table-striped table-sm'> <div> <p style='font-size: 1.3rem;'>data</p> <style type=\"text/css\">\n",
       "</style>\n",
       "<table id=\"T_63b70\">\n",
       "  <thead>\n",
       "    <tr>\n",
       "      <th class=\"blank level0\" >&nbsp;</th>\n",
       "      <th id=\"T_63b70_level0_col0\" class=\"col_heading level0 col0\" >TA</th>\n",
       "      <th id=\"T_63b70_level0_col1\" class=\"col_heading level0 col1\" >SW_IN</th>\n",
       "      <th id=\"T_63b70_level0_col2\" class=\"col_heading level0 col2\" >VPD</th>\n",
       "    </tr>\n",
       "    <tr>\n",
       "      <th class=\"index_name level0\" >time</th>\n",
       "      <th class=\"blank col0\" >&nbsp;</th>\n",
       "      <th class=\"blank col1\" >&nbsp;</th>\n",
       "      <th class=\"blank col2\" >&nbsp;</th>\n",
       "    </tr>\n",
       "  </thead>\n",
       "  <tbody>\n",
       "    <tr>\n",
       "      <th id=\"T_63b70_level0_row0\" class=\"row_heading level0 row0\" >2000-06-15 17:00:00</th>\n",
       "      <td id=\"T_63b70_row0_col0\" class=\"data row0 col0\" >14.2200</td>\n",
       "      <td id=\"T_63b70_row0_col1\" class=\"data row0 col1\" >224.8000</td>\n",
       "      <td id=\"T_63b70_row0_col2\" class=\"data row0 col2\" >5.7990</td>\n",
       "    </tr>\n",
       "    <tr>\n",
       "      <th id=\"T_63b70_level0_row1\" class=\"row_heading level0 row1\" >2000-06-15 17:30:00</th>\n",
       "      <td id=\"T_63b70_row1_col0\" class=\"data row1 col0\" >14.1100</td>\n",
       "      <td id=\"T_63b70_row1_col1\" class=\"data row1 col1\" >195.2800</td>\n",
       "      <td id=\"T_63b70_row1_col2\" class=\"data row1 col2\" >6.5770</td>\n",
       "    </tr>\n",
       "    <tr>\n",
       "      <th id=\"T_63b70_level0_row2\" class=\"row_heading level0 row2\" >2000-06-15 18:00:00</th>\n",
       "      <td id=\"T_63b70_row2_col0\" class=\"data row2 col0\" >14.2300</td>\n",
       "      <td id=\"T_63b70_row2_col1\" class=\"data row2 col1\" >244.1700</td>\n",
       "      <td id=\"T_63b70_row2_col2\" class=\"data row2 col2\" >6.9310</td>\n",
       "    </tr>\n",
       "    <tr>\n",
       "      <th id=\"T_63b70_level0_row3\" class=\"row_heading level0 row3\" >2000-06-15 18:30:00</th>\n",
       "      <td id=\"T_63b70_row3_col0\" class=\"data row3 col0\" >14.4000</td>\n",
       "      <td id=\"T_63b70_row3_col1\" class=\"data row3 col1\" >253.9200</td>\n",
       "      <td id=\"T_63b70_row3_col2\" class=\"data row3 col2\" >7.2860</td>\n",
       "    </tr>\n",
       "    <tr>\n",
       "      <th id=\"T_63b70_level0_row4\" class=\"row_heading level0 row4\" >2000-06-15 19:00:00</th>\n",
       "      <td id=\"T_63b70_row4_col0\" class=\"data row4 col0\" >14.0900</td>\n",
       "      <td id=\"T_63b70_row4_col1\" class=\"data row4 col1\" >177.3100</td>\n",
       "      <td id=\"T_63b70_row4_col2\" class=\"data row4 col2\" >7.2510</td>\n",
       "    </tr>\n",
       "    <tr>\n",
       "      <th id=\"T_63b70_level0_row5\" class=\"row_heading level0 row5\" >2000-06-15 19:30:00</th>\n",
       "      <td id=\"T_63b70_row5_col0\" class=\"data row5 col0\" >13.7100</td>\n",
       "      <td id=\"T_63b70_row5_col1\" class=\"data row5 col1\" >97.0700</td>\n",
       "      <td id=\"T_63b70_row5_col2\" class=\"data row5 col2\" >6.6830</td>\n",
       "    </tr>\n",
       "    <tr>\n",
       "      <th id=\"T_63b70_level0_row6\" class=\"row_heading level0 row6\" >2000-06-15 20:00:00</th>\n",
       "      <td id=\"T_63b70_row6_col0\" class=\"data row6 col0\" >13.0800</td>\n",
       "      <td id=\"T_63b70_row6_col1\" class=\"data row6 col1\" >39.7100</td>\n",
       "      <td id=\"T_63b70_row6_col2\" class=\"data row6 col2\" >5.8510</td>\n",
       "    </tr>\n",
       "    <tr>\n",
       "      <th id=\"T_63b70_level0_row7\" class=\"row_heading level0 row7\" >2000-06-15 20:30:00</th>\n",
       "      <td id=\"T_63b70_row7_col0\" class=\"data row7 col0\" >12.4100</td>\n",
       "      <td id=\"T_63b70_row7_col1\" class=\"data row7 col1\" >10.6500</td>\n",
       "      <td id=\"T_63b70_row7_col2\" class=\"data row7 col2\" >5.2540</td>\n",
       "    </tr>\n",
       "    <tr>\n",
       "      <th id=\"T_63b70_level0_row8\" class=\"row_heading level0 row8\" >2000-06-15 21:00:00</th>\n",
       "      <td id=\"T_63b70_row8_col0\" class=\"data row8 col0\" >12.2700</td>\n",
       "      <td id=\"T_63b70_row8_col1\" class=\"data row8 col1\" >0.3200</td>\n",
       "      <td id=\"T_63b70_row8_col2\" class=\"data row8 col2\" >5.1640</td>\n",
       "    </tr>\n",
       "    <tr>\n",
       "      <th id=\"T_63b70_level0_row9\" class=\"row_heading level0 row9\" >2000-06-15 21:30:00</th>\n",
       "      <td id=\"T_63b70_row9_col0\" class=\"data row9 col0\" >12.2000</td>\n",
       "      <td id=\"T_63b70_row9_col1\" class=\"data row9 col1\" >0.0000</td>\n",
       "      <td id=\"T_63b70_row9_col2\" class=\"data row9 col2\" >5.0370</td>\n",
       "    </tr>\n",
       "  </tbody>\n",
       "</table>\n",
       " </div><div> <p style='font-size: 1.3rem;'>mask</p> <style type=\"text/css\">\n",
       "</style>\n",
       "<table id=\"T_6f564\">\n",
       "  <thead>\n",
       "    <tr>\n",
       "      <th class=\"blank level0\" >&nbsp;</th>\n",
       "      <th id=\"T_6f564_level0_col0\" class=\"col_heading level0 col0\" >TA</th>\n",
       "      <th id=\"T_6f564_level0_col1\" class=\"col_heading level0 col1\" >SW_IN</th>\n",
       "      <th id=\"T_6f564_level0_col2\" class=\"col_heading level0 col2\" >VPD</th>\n",
       "    </tr>\n",
       "    <tr>\n",
       "      <th class=\"index_name level0\" >time</th>\n",
       "      <th class=\"blank col0\" >&nbsp;</th>\n",
       "      <th class=\"blank col1\" >&nbsp;</th>\n",
       "      <th class=\"blank col2\" >&nbsp;</th>\n",
       "    </tr>\n",
       "  </thead>\n",
       "  <tbody>\n",
       "    <tr>\n",
       "      <th id=\"T_6f564_level0_row0\" class=\"row_heading level0 row0\" >2000-06-15 17:00:00</th>\n",
       "      <td id=\"T_6f564_row0_col0\" class=\"data row0 col0\" >True</td>\n",
       "      <td id=\"T_6f564_row0_col1\" class=\"data row0 col1\" >True</td>\n",
       "      <td id=\"T_6f564_row0_col2\" class=\"data row0 col2\" >True</td>\n",
       "    </tr>\n",
       "    <tr>\n",
       "      <th id=\"T_6f564_level0_row1\" class=\"row_heading level0 row1\" >2000-06-15 17:30:00</th>\n",
       "      <td id=\"T_6f564_row1_col0\" class=\"data row1 col0\" >True</td>\n",
       "      <td id=\"T_6f564_row1_col1\" class=\"data row1 col1\" >True</td>\n",
       "      <td id=\"T_6f564_row1_col2\" class=\"data row1 col2\" >True</td>\n",
       "    </tr>\n",
       "    <tr>\n",
       "      <th id=\"T_6f564_level0_row2\" class=\"row_heading level0 row2\" >2000-06-15 18:00:00</th>\n",
       "      <td id=\"T_6f564_row2_col0\" class=\"data row2 col0\" >True</td>\n",
       "      <td id=\"T_6f564_row2_col1\" class=\"data row2 col1\" >True</td>\n",
       "      <td id=\"T_6f564_row2_col2\" class=\"data row2 col2\" >True</td>\n",
       "    </tr>\n",
       "    <tr>\n",
       "      <th id=\"T_6f564_level0_row3\" class=\"row_heading level0 row3\" >2000-06-15 18:30:00</th>\n",
       "      <td id=\"T_6f564_row3_col0\" class=\"data row3 col0\" >True</td>\n",
       "      <td id=\"T_6f564_row3_col1\" class=\"data row3 col1\" >True</td>\n",
       "      <td id=\"T_6f564_row3_col2\" class=\"data row3 col2\" >True</td>\n",
       "    </tr>\n",
       "    <tr>\n",
       "      <th id=\"T_6f564_level0_row4\" class=\"row_heading level0 row4\" >2000-06-15 19:00:00</th>\n",
       "      <td id=\"T_6f564_row4_col0\" class=\"data row4 col0\" >True</td>\n",
       "      <td id=\"T_6f564_row4_col1\" class=\"data row4 col1\" >True</td>\n",
       "      <td id=\"T_6f564_row4_col2\" class=\"data row4 col2\" >True</td>\n",
       "    </tr>\n",
       "    <tr>\n",
       "      <th id=\"T_6f564_level0_row5\" class=\"row_heading level0 row5\" >2000-06-15 19:30:00</th>\n",
       "      <td id=\"T_6f564_row5_col0\" class=\"data row5 col0\" >False</td>\n",
       "      <td id=\"T_6f564_row5_col1\" class=\"data row5 col1\" >False</td>\n",
       "      <td id=\"T_6f564_row5_col2\" class=\"data row5 col2\" >True</td>\n",
       "    </tr>\n",
       "    <tr>\n",
       "      <th id=\"T_6f564_level0_row6\" class=\"row_heading level0 row6\" >2000-06-15 20:00:00</th>\n",
       "      <td id=\"T_6f564_row6_col0\" class=\"data row6 col0\" >False</td>\n",
       "      <td id=\"T_6f564_row6_col1\" class=\"data row6 col1\" >False</td>\n",
       "      <td id=\"T_6f564_row6_col2\" class=\"data row6 col2\" >True</td>\n",
       "    </tr>\n",
       "    <tr>\n",
       "      <th id=\"T_6f564_level0_row7\" class=\"row_heading level0 row7\" >2000-06-15 20:30:00</th>\n",
       "      <td id=\"T_6f564_row7_col0\" class=\"data row7 col0\" >True</td>\n",
       "      <td id=\"T_6f564_row7_col1\" class=\"data row7 col1\" >True</td>\n",
       "      <td id=\"T_6f564_row7_col2\" class=\"data row7 col2\" >True</td>\n",
       "    </tr>\n",
       "    <tr>\n",
       "      <th id=\"T_6f564_level0_row8\" class=\"row_heading level0 row8\" >2000-06-15 21:00:00</th>\n",
       "      <td id=\"T_6f564_row8_col0\" class=\"data row8 col0\" >True</td>\n",
       "      <td id=\"T_6f564_row8_col1\" class=\"data row8 col1\" >True</td>\n",
       "      <td id=\"T_6f564_row8_col2\" class=\"data row8 col2\" >True</td>\n",
       "    </tr>\n",
       "    <tr>\n",
       "      <th id=\"T_6f564_level0_row9\" class=\"row_heading level0 row9\" >2000-06-15 21:30:00</th>\n",
       "      <td id=\"T_6f564_row9_col0\" class=\"data row9 col0\" >True</td>\n",
       "      <td id=\"T_6f564_row9_col1\" class=\"data row9 col1\" >True</td>\n",
       "      <td id=\"T_6f564_row9_col2\" class=\"data row9 col2\" >True</td>\n",
       "    </tr>\n",
       "  </tbody>\n",
       "</table>\n",
       " </div><div> <p style='font-size: 1.3rem;'>control</p> <style type=\"text/css\">\n",
       "</style>\n",
       "<table id=\"T_78a02\">\n",
       "  <thead>\n",
       "    <tr>\n",
       "      <th class=\"blank level0\" >&nbsp;</th>\n",
       "      <th id=\"T_78a02_level0_col0\" class=\"col_heading level0 col0\" >TA_ERA</th>\n",
       "      <th id=\"T_78a02_level0_col1\" class=\"col_heading level0 col1\" >SW_IN_ERA</th>\n",
       "      <th id=\"T_78a02_level0_col2\" class=\"col_heading level0 col2\" >VPD_ERA</th>\n",
       "      <th id=\"T_78a02_level0_col3\" class=\"col_heading level0 col3\" >TA_ERA_lag_1</th>\n",
       "      <th id=\"T_78a02_level0_col4\" class=\"col_heading level0 col4\" >SW_IN_ERA_lag_1</th>\n",
       "      <th id=\"T_78a02_level0_col5\" class=\"col_heading level0 col5\" >VPD_ERA_lag_1</th>\n",
       "    </tr>\n",
       "    <tr>\n",
       "      <th class=\"index_name level0\" >time</th>\n",
       "      <th class=\"blank col0\" >&nbsp;</th>\n",
       "      <th class=\"blank col1\" >&nbsp;</th>\n",
       "      <th class=\"blank col2\" >&nbsp;</th>\n",
       "      <th class=\"blank col3\" >&nbsp;</th>\n",
       "      <th class=\"blank col4\" >&nbsp;</th>\n",
       "      <th class=\"blank col5\" >&nbsp;</th>\n",
       "    </tr>\n",
       "  </thead>\n",
       "  <tbody>\n",
       "    <tr>\n",
       "      <th id=\"T_78a02_level0_row0\" class=\"row_heading level0 row0\" >2000-06-15 17:00:00</th>\n",
       "      <td id=\"T_78a02_row0_col0\" class=\"data row0 col0\" >15.0500</td>\n",
       "      <td id=\"T_78a02_row0_col1\" class=\"data row0 col1\" >255.1930</td>\n",
       "      <td id=\"T_78a02_row0_col2\" class=\"data row0 col2\" >5.1020</td>\n",
       "      <td id=\"T_78a02_row0_col3\" class=\"data row0 col3\" >15.1390</td>\n",
       "      <td id=\"T_78a02_row0_col4\" class=\"data row0 col4\" >287.1000</td>\n",
       "      <td id=\"T_78a02_row0_col5\" class=\"data row0 col5\" >4.9000</td>\n",
       "    </tr>\n",
       "    <tr>\n",
       "      <th id=\"T_78a02_level0_row1\" class=\"row_heading level0 row1\" >2000-06-15 17:30:00</th>\n",
       "      <td id=\"T_78a02_row1_col0\" class=\"data row1 col0\" >14.9610</td>\n",
       "      <td id=\"T_78a02_row1_col1\" class=\"data row1 col1\" >221.4270</td>\n",
       "      <td id=\"T_78a02_row1_col2\" class=\"data row1 col2\" >5.3050</td>\n",
       "      <td id=\"T_78a02_row1_col3\" class=\"data row1 col3\" >15.0500</td>\n",
       "      <td id=\"T_78a02_row1_col4\" class=\"data row1 col4\" >255.1930</td>\n",
       "      <td id=\"T_78a02_row1_col5\" class=\"data row1 col5\" >5.1020</td>\n",
       "    </tr>\n",
       "    <tr>\n",
       "      <th id=\"T_78a02_level0_row2\" class=\"row_heading level0 row2\" >2000-06-15 18:00:00</th>\n",
       "      <td id=\"T_78a02_row2_col0\" class=\"data row2 col0\" >14.8720</td>\n",
       "      <td id=\"T_78a02_row2_col1\" class=\"data row2 col1\" >186.3800</td>\n",
       "      <td id=\"T_78a02_row2_col2\" class=\"data row2 col2\" >5.5070</td>\n",
       "      <td id=\"T_78a02_row2_col3\" class=\"data row2 col3\" >14.9610</td>\n",
       "      <td id=\"T_78a02_row2_col4\" class=\"data row2 col4\" >221.4270</td>\n",
       "      <td id=\"T_78a02_row2_col5\" class=\"data row2 col5\" >5.3050</td>\n",
       "    </tr>\n",
       "    <tr>\n",
       "      <th id=\"T_78a02_level0_row3\" class=\"row_heading level0 row3\" >2000-06-15 18:30:00</th>\n",
       "      <td id=\"T_78a02_row3_col0\" class=\"data row3 col0\" >14.7830</td>\n",
       "      <td id=\"T_78a02_row3_col1\" class=\"data row3 col1\" >150.6500</td>\n",
       "      <td id=\"T_78a02_row3_col2\" class=\"data row3 col2\" >5.7100</td>\n",
       "      <td id=\"T_78a02_row3_col3\" class=\"data row3 col3\" >14.8720</td>\n",
       "      <td id=\"T_78a02_row3_col4\" class=\"data row3 col4\" >186.3800</td>\n",
       "      <td id=\"T_78a02_row3_col5\" class=\"data row3 col5\" >5.5070</td>\n",
       "    </tr>\n",
       "    <tr>\n",
       "      <th id=\"T_78a02_level0_row4\" class=\"row_heading level0 row4\" >2000-06-15 19:00:00</th>\n",
       "      <td id=\"T_78a02_row4_col0\" class=\"data row4 col0\" >14.6940</td>\n",
       "      <td id=\"T_78a02_row4_col1\" class=\"data row4 col1\" >114.8490</td>\n",
       "      <td id=\"T_78a02_row4_col2\" class=\"data row4 col2\" >5.9120</td>\n",
       "      <td id=\"T_78a02_row4_col3\" class=\"data row4 col3\" >14.7830</td>\n",
       "      <td id=\"T_78a02_row4_col4\" class=\"data row4 col4\" >150.6500</td>\n",
       "      <td id=\"T_78a02_row4_col5\" class=\"data row4 col5\" >5.7100</td>\n",
       "    </tr>\n",
       "    <tr>\n",
       "      <th id=\"T_78a02_level0_row5\" class=\"row_heading level0 row5\" >2000-06-15 19:30:00</th>\n",
       "      <td id=\"T_78a02_row5_col0\" class=\"data row5 col0\" >14.6060</td>\n",
       "      <td id=\"T_78a02_row5_col1\" class=\"data row5 col1\" >34.7280</td>\n",
       "      <td id=\"T_78a02_row5_col2\" class=\"data row5 col2\" >6.1140</td>\n",
       "      <td id=\"T_78a02_row5_col3\" class=\"data row5 col3\" >14.6940</td>\n",
       "      <td id=\"T_78a02_row5_col4\" class=\"data row5 col4\" >114.8490</td>\n",
       "      <td id=\"T_78a02_row5_col5\" class=\"data row5 col5\" >5.9120</td>\n",
       "    </tr>\n",
       "    <tr>\n",
       "      <th id=\"T_78a02_level0_row6\" class=\"row_heading level0 row6\" >2000-06-15 20:00:00</th>\n",
       "      <td id=\"T_78a02_row6_col0\" class=\"data row6 col0\" >14.3800</td>\n",
       "      <td id=\"T_78a02_row6_col1\" class=\"data row6 col1\" >19.8430</td>\n",
       "      <td id=\"T_78a02_row6_col2\" class=\"data row6 col2\" >6.0740</td>\n",
       "      <td id=\"T_78a02_row6_col3\" class=\"data row6 col3\" >14.6060</td>\n",
       "      <td id=\"T_78a02_row6_col4\" class=\"data row6 col4\" >34.7280</td>\n",
       "      <td id=\"T_78a02_row6_col5\" class=\"data row6 col5\" >6.1140</td>\n",
       "    </tr>\n",
       "    <tr>\n",
       "      <th id=\"T_78a02_level0_row7\" class=\"row_heading level0 row7\" >2000-06-15 20:30:00</th>\n",
       "      <td id=\"T_78a02_row7_col0\" class=\"data row7 col0\" >14.1550</td>\n",
       "      <td id=\"T_78a02_row7_col1\" class=\"data row7 col1\" >5.7120</td>\n",
       "      <td id=\"T_78a02_row7_col2\" class=\"data row7 col2\" >6.0340</td>\n",
       "      <td id=\"T_78a02_row7_col3\" class=\"data row7 col3\" >14.3800</td>\n",
       "      <td id=\"T_78a02_row7_col4\" class=\"data row7 col4\" >19.8430</td>\n",
       "      <td id=\"T_78a02_row7_col5\" class=\"data row7 col5\" >6.0740</td>\n",
       "    </tr>\n",
       "    <tr>\n",
       "      <th id=\"T_78a02_level0_row8\" class=\"row_heading level0 row8\" >2000-06-15 21:00:00</th>\n",
       "      <td id=\"T_78a02_row8_col0\" class=\"data row8 col0\" >13.9290</td>\n",
       "      <td id=\"T_78a02_row8_col1\" class=\"data row8 col1\" >0.0000</td>\n",
       "      <td id=\"T_78a02_row8_col2\" class=\"data row8 col2\" >5.9940</td>\n",
       "      <td id=\"T_78a02_row8_col3\" class=\"data row8 col3\" >14.1550</td>\n",
       "      <td id=\"T_78a02_row8_col4\" class=\"data row8 col4\" >5.7120</td>\n",
       "      <td id=\"T_78a02_row8_col5\" class=\"data row8 col5\" >6.0340</td>\n",
       "    </tr>\n",
       "    <tr>\n",
       "      <th id=\"T_78a02_level0_row9\" class=\"row_heading level0 row9\" >2000-06-15 21:30:00</th>\n",
       "      <td id=\"T_78a02_row9_col0\" class=\"data row9 col0\" >13.7040</td>\n",
       "      <td id=\"T_78a02_row9_col1\" class=\"data row9 col1\" >0.0000</td>\n",
       "      <td id=\"T_78a02_row9_col2\" class=\"data row9 col2\" >5.9540</td>\n",
       "      <td id=\"T_78a02_row9_col3\" class=\"data row9 col3\" >13.9290</td>\n",
       "      <td id=\"T_78a02_row9_col4\" class=\"data row9 col4\" >0.0000</td>\n",
       "      <td id=\"T_78a02_row9_col5\" class=\"data row9 col5\" >5.9940</td>\n",
       "    </tr>\n",
       "  </tbody>\n",
       "</table>\n",
       " </div></div>"
      ],
      "text/plain": [
       "__main__.MeteoImpDf(data=                        TA       SW_IN    VPD\n",
       "time                                         \n",
       "2000-06-15 17:00:00  14.22  224.800003  5.799\n",
       "2000-06-15 17:30:00  14.11  195.279999  6.577\n",
       "2000-06-15 18:00:00  14.23  244.169998  6.931\n",
       "2000-06-15 18:30:00  14.40  253.919998  7.286\n",
       "2000-06-15 19:00:00  14.09  177.309998  7.251\n",
       "2000-06-15 19:30:00  13.71   97.070000  6.683\n",
       "2000-06-15 20:00:00  13.08   39.709999  5.851\n",
       "2000-06-15 20:30:00  12.41   10.650000  5.254\n",
       "2000-06-15 21:00:00  12.27    0.320000  5.164\n",
       "2000-06-15 21:30:00  12.20    0.000000  5.037, mask=                        TA  SW_IN   VPD\n",
       "time                                   \n",
       "2000-06-15 17:00:00   True   True  True\n",
       "2000-06-15 17:30:00   True   True  True\n",
       "2000-06-15 18:00:00   True   True  True\n",
       "2000-06-15 18:30:00   True   True  True\n",
       "2000-06-15 19:00:00   True   True  True\n",
       "2000-06-15 19:30:00  False  False  True\n",
       "2000-06-15 20:00:00  False  False  True\n",
       "2000-06-15 20:30:00   True   True  True\n",
       "2000-06-15 21:00:00   True   True  True\n",
       "2000-06-15 21:30:00   True   True  True, control=                     TA_ERA   SW_IN_ERA  VPD_ERA  TA_ERA_lag_1  \\\n",
       "time                                                             \n",
       "2000-06-15 17:00:00  15.050  255.192993    5.102        15.139   \n",
       "2000-06-15 17:30:00  14.961  221.427002    5.305        15.050   \n",
       "2000-06-15 18:00:00  14.872  186.380005    5.507        14.961   \n",
       "2000-06-15 18:30:00  14.783  150.649994    5.710        14.872   \n",
       "2000-06-15 19:00:00  14.694  114.848999    5.912        14.783   \n",
       "2000-06-15 19:30:00  14.606   34.728001    6.114        14.694   \n",
       "2000-06-15 20:00:00  14.380   19.843000    6.074        14.606   \n",
       "2000-06-15 20:30:00  14.155    5.712000    6.034        14.380   \n",
       "2000-06-15 21:00:00  13.929    0.000000    5.994        14.155   \n",
       "2000-06-15 21:30:00  13.704    0.000000    5.954        13.929   \n",
       "\n",
       "                     SW_IN_ERA_lag_1  VPD_ERA_lag_1  \n",
       "time                                                 \n",
       "2000-06-15 17:00:00       287.100006          4.900  \n",
       "2000-06-15 17:30:00       255.192993          5.102  \n",
       "2000-06-15 18:00:00       221.427002          5.305  \n",
       "2000-06-15 18:30:00       186.380005          5.507  \n",
       "2000-06-15 19:00:00       150.649994          5.710  \n",
       "2000-06-15 19:30:00       114.848999          5.912  \n",
       "2000-06-15 20:00:00        34.728001          6.114  \n",
       "2000-06-15 20:30:00        19.843000          6.074  \n",
       "2000-06-15 21:00:00         5.712000          6.034  \n",
       "2000-06-15 21:30:00         0.000000          5.994  )"
      ]
     },
     "execution_count": null,
     "metadata": {},
     "output_type": "execute_result"
    }
   ],
   "source": [
    "tfms2[0]"
   ]
  },
  {
   "cell_type": "code",
   "execution_count": null,
   "id": "2f3cccff-2b4f-4817-9807-4d833f9f8b52",
   "metadata": {},
   "outputs": [],
   "source": [
    "m_df = tfms2[0]"
   ]
  },
  {
   "cell_type": "code",
   "execution_count": null,
   "id": "5952ccff-6433-48ca-8940-6ea872927cdc",
   "metadata": {},
   "outputs": [],
   "source": [
    "#| export\n",
    "@patch\n",
    "def tidy(self: MeteoImpDf):\n",
    "    data = self.data.reset_index().melt(\"time\")\n",
    "    mask = self.mask.reset_index().melt(\"time\", value_name=\"is_present\")\n",
    "    \n",
    "    return pd.merge(data, mask, on=[\"time\", \"variable\"])"
   ]
  },
  {
   "cell_type": "code",
   "execution_count": null,
   "id": "c601c37c-a032-4edb-a522-50ce0af7b87d",
   "metadata": {},
   "outputs": [
    {
     "data": {
      "text/html": [
       "<div>\n",
       "<style scoped>\n",
       "    .dataframe tbody tr th:only-of-type {\n",
       "        vertical-align: middle;\n",
       "    }\n",
       "\n",
       "    .dataframe tbody tr th {\n",
       "        vertical-align: top;\n",
       "    }\n",
       "\n",
       "    .dataframe thead th {\n",
       "        text-align: right;\n",
       "    }\n",
       "</style>\n",
       "<table border=\"1\" class=\"dataframe\">\n",
       "  <thead>\n",
       "    <tr style=\"text-align: right;\">\n",
       "      <th></th>\n",
       "      <th>time</th>\n",
       "      <th>variable</th>\n",
       "      <th>value</th>\n",
       "      <th>is_present</th>\n",
       "    </tr>\n",
       "  </thead>\n",
       "  <tbody>\n",
       "    <tr>\n",
       "      <th>0</th>\n",
       "      <td>2000-06-15 17:00:00</td>\n",
       "      <td>TA</td>\n",
       "      <td>14.220000</td>\n",
       "      <td>True</td>\n",
       "    </tr>\n",
       "    <tr>\n",
       "      <th>1</th>\n",
       "      <td>2000-06-15 17:30:00</td>\n",
       "      <td>TA</td>\n",
       "      <td>14.110000</td>\n",
       "      <td>False</td>\n",
       "    </tr>\n",
       "    <tr>\n",
       "      <th>2</th>\n",
       "      <td>2000-06-15 18:00:00</td>\n",
       "      <td>TA</td>\n",
       "      <td>14.230000</td>\n",
       "      <td>False</td>\n",
       "    </tr>\n",
       "    <tr>\n",
       "      <th>3</th>\n",
       "      <td>2000-06-15 18:30:00</td>\n",
       "      <td>TA</td>\n",
       "      <td>14.400000</td>\n",
       "      <td>True</td>\n",
       "    </tr>\n",
       "    <tr>\n",
       "      <th>4</th>\n",
       "      <td>2000-06-15 19:00:00</td>\n",
       "      <td>TA</td>\n",
       "      <td>14.090000</td>\n",
       "      <td>True</td>\n",
       "    </tr>\n",
       "    <tr>\n",
       "      <th>5</th>\n",
       "      <td>2000-06-15 19:30:00</td>\n",
       "      <td>TA</td>\n",
       "      <td>13.710000</td>\n",
       "      <td>True</td>\n",
       "    </tr>\n",
       "    <tr>\n",
       "      <th>6</th>\n",
       "      <td>2000-06-15 20:00:00</td>\n",
       "      <td>TA</td>\n",
       "      <td>13.080000</td>\n",
       "      <td>True</td>\n",
       "    </tr>\n",
       "    <tr>\n",
       "      <th>7</th>\n",
       "      <td>2000-06-15 20:30:00</td>\n",
       "      <td>TA</td>\n",
       "      <td>12.410000</td>\n",
       "      <td>True</td>\n",
       "    </tr>\n",
       "    <tr>\n",
       "      <th>8</th>\n",
       "      <td>2000-06-15 21:00:00</td>\n",
       "      <td>TA</td>\n",
       "      <td>12.270000</td>\n",
       "      <td>True</td>\n",
       "    </tr>\n",
       "    <tr>\n",
       "      <th>9</th>\n",
       "      <td>2000-06-15 21:30:00</td>\n",
       "      <td>TA</td>\n",
       "      <td>12.200000</td>\n",
       "      <td>True</td>\n",
       "    </tr>\n",
       "    <tr>\n",
       "      <th>10</th>\n",
       "      <td>2000-06-15 17:00:00</td>\n",
       "      <td>SW_IN</td>\n",
       "      <td>224.800003</td>\n",
       "      <td>True</td>\n",
       "    </tr>\n",
       "    <tr>\n",
       "      <th>11</th>\n",
       "      <td>2000-06-15 17:30:00</td>\n",
       "      <td>SW_IN</td>\n",
       "      <td>195.279999</td>\n",
       "      <td>False</td>\n",
       "    </tr>\n",
       "    <tr>\n",
       "      <th>12</th>\n",
       "      <td>2000-06-15 18:00:00</td>\n",
       "      <td>SW_IN</td>\n",
       "      <td>244.169998</td>\n",
       "      <td>False</td>\n",
       "    </tr>\n",
       "    <tr>\n",
       "      <th>13</th>\n",
       "      <td>2000-06-15 18:30:00</td>\n",
       "      <td>SW_IN</td>\n",
       "      <td>253.919998</td>\n",
       "      <td>True</td>\n",
       "    </tr>\n",
       "    <tr>\n",
       "      <th>14</th>\n",
       "      <td>2000-06-15 19:00:00</td>\n",
       "      <td>SW_IN</td>\n",
       "      <td>177.309998</td>\n",
       "      <td>True</td>\n",
       "    </tr>\n",
       "    <tr>\n",
       "      <th>15</th>\n",
       "      <td>2000-06-15 19:30:00</td>\n",
       "      <td>SW_IN</td>\n",
       "      <td>97.070000</td>\n",
       "      <td>True</td>\n",
       "    </tr>\n",
       "    <tr>\n",
       "      <th>16</th>\n",
       "      <td>2000-06-15 20:00:00</td>\n",
       "      <td>SW_IN</td>\n",
       "      <td>39.709999</td>\n",
       "      <td>True</td>\n",
       "    </tr>\n",
       "    <tr>\n",
       "      <th>17</th>\n",
       "      <td>2000-06-15 20:30:00</td>\n",
       "      <td>SW_IN</td>\n",
       "      <td>10.650000</td>\n",
       "      <td>True</td>\n",
       "    </tr>\n",
       "    <tr>\n",
       "      <th>18</th>\n",
       "      <td>2000-06-15 21:00:00</td>\n",
       "      <td>SW_IN</td>\n",
       "      <td>0.320000</td>\n",
       "      <td>True</td>\n",
       "    </tr>\n",
       "    <tr>\n",
       "      <th>19</th>\n",
       "      <td>2000-06-15 21:30:00</td>\n",
       "      <td>SW_IN</td>\n",
       "      <td>0.000000</td>\n",
       "      <td>True</td>\n",
       "    </tr>\n",
       "    <tr>\n",
       "      <th>20</th>\n",
       "      <td>2000-06-15 17:00:00</td>\n",
       "      <td>VPD</td>\n",
       "      <td>5.799000</td>\n",
       "      <td>True</td>\n",
       "    </tr>\n",
       "    <tr>\n",
       "      <th>21</th>\n",
       "      <td>2000-06-15 17:30:00</td>\n",
       "      <td>VPD</td>\n",
       "      <td>6.577000</td>\n",
       "      <td>True</td>\n",
       "    </tr>\n",
       "    <tr>\n",
       "      <th>22</th>\n",
       "      <td>2000-06-15 18:00:00</td>\n",
       "      <td>VPD</td>\n",
       "      <td>6.931000</td>\n",
       "      <td>True</td>\n",
       "    </tr>\n",
       "    <tr>\n",
       "      <th>23</th>\n",
       "      <td>2000-06-15 18:30:00</td>\n",
       "      <td>VPD</td>\n",
       "      <td>7.286000</td>\n",
       "      <td>True</td>\n",
       "    </tr>\n",
       "    <tr>\n",
       "      <th>24</th>\n",
       "      <td>2000-06-15 19:00:00</td>\n",
       "      <td>VPD</td>\n",
       "      <td>7.251000</td>\n",
       "      <td>True</td>\n",
       "    </tr>\n",
       "    <tr>\n",
       "      <th>25</th>\n",
       "      <td>2000-06-15 19:30:00</td>\n",
       "      <td>VPD</td>\n",
       "      <td>6.683000</td>\n",
       "      <td>True</td>\n",
       "    </tr>\n",
       "    <tr>\n",
       "      <th>26</th>\n",
       "      <td>2000-06-15 20:00:00</td>\n",
       "      <td>VPD</td>\n",
       "      <td>5.851000</td>\n",
       "      <td>True</td>\n",
       "    </tr>\n",
       "    <tr>\n",
       "      <th>27</th>\n",
       "      <td>2000-06-15 20:30:00</td>\n",
       "      <td>VPD</td>\n",
       "      <td>5.254000</td>\n",
       "      <td>True</td>\n",
       "    </tr>\n",
       "    <tr>\n",
       "      <th>28</th>\n",
       "      <td>2000-06-15 21:00:00</td>\n",
       "      <td>VPD</td>\n",
       "      <td>5.164000</td>\n",
       "      <td>True</td>\n",
       "    </tr>\n",
       "    <tr>\n",
       "      <th>29</th>\n",
       "      <td>2000-06-15 21:30:00</td>\n",
       "      <td>VPD</td>\n",
       "      <td>5.037000</td>\n",
       "      <td>True</td>\n",
       "    </tr>\n",
       "  </tbody>\n",
       "</table>\n",
       "</div>"
      ],
      "text/plain": [
       "                  time variable       value  is_present\n",
       "0  2000-06-15 17:00:00       TA   14.220000        True\n",
       "1  2000-06-15 17:30:00       TA   14.110000       False\n",
       "2  2000-06-15 18:00:00       TA   14.230000       False\n",
       "3  2000-06-15 18:30:00       TA   14.400000        True\n",
       "4  2000-06-15 19:00:00       TA   14.090000        True\n",
       "5  2000-06-15 19:30:00       TA   13.710000        True\n",
       "6  2000-06-15 20:00:00       TA   13.080000        True\n",
       "7  2000-06-15 20:30:00       TA   12.410000        True\n",
       "8  2000-06-15 21:00:00       TA   12.270000        True\n",
       "9  2000-06-15 21:30:00       TA   12.200000        True\n",
       "10 2000-06-15 17:00:00    SW_IN  224.800003        True\n",
       "11 2000-06-15 17:30:00    SW_IN  195.279999       False\n",
       "12 2000-06-15 18:00:00    SW_IN  244.169998       False\n",
       "13 2000-06-15 18:30:00    SW_IN  253.919998        True\n",
       "14 2000-06-15 19:00:00    SW_IN  177.309998        True\n",
       "15 2000-06-15 19:30:00    SW_IN   97.070000        True\n",
       "16 2000-06-15 20:00:00    SW_IN   39.709999        True\n",
       "17 2000-06-15 20:30:00    SW_IN   10.650000        True\n",
       "18 2000-06-15 21:00:00    SW_IN    0.320000        True\n",
       "19 2000-06-15 21:30:00    SW_IN    0.000000        True\n",
       "20 2000-06-15 17:00:00      VPD    5.799000        True\n",
       "21 2000-06-15 17:30:00      VPD    6.577000        True\n",
       "22 2000-06-15 18:00:00      VPD    6.931000        True\n",
       "23 2000-06-15 18:30:00      VPD    7.286000        True\n",
       "24 2000-06-15 19:00:00      VPD    7.251000        True\n",
       "25 2000-06-15 19:30:00      VPD    6.683000        True\n",
       "26 2000-06-15 20:00:00      VPD    5.851000        True\n",
       "27 2000-06-15 20:30:00      VPD    5.254000        True\n",
       "28 2000-06-15 21:00:00      VPD    5.164000        True\n",
       "29 2000-06-15 21:30:00      VPD    5.037000        True"
      ]
     },
     "execution_count": null,
     "metadata": {},
     "output_type": "execute_result"
    }
   ],
   "source": [
    "m_df.tidy()"
   ]
  },
  {
   "cell_type": "markdown",
   "id": "9d2c8fbc-f1e1-4938-b4a6-d29d8bd8e6bd",
   "metadata": {},
   "source": [
    "#### Plotting"
   ]
  },
  {
   "cell_type": "code",
   "execution_count": null,
   "id": "f36f4825-52e4-49c7-92f1-14d64429e3ea",
   "metadata": {},
   "outputs": [],
   "source": [
    "#| export\n",
    "import altair as alt\n",
    "from altair import datum"
   ]
  },
  {
   "cell_type": "code",
   "execution_count": null,
   "id": "51544d62-63ca-4e6c-b63e-943cc739fa5b",
   "metadata": {},
   "outputs": [],
   "source": [
    "#| exporti\n",
    "def def_selection():\n",
    "    return alt.selection_interval(bind=\"scales\")"
   ]
  },
  {
   "cell_type": "markdown",
   "id": "fb225f9b-770d-4d41-941d-08c32cd65927",
   "metadata": {},
   "source": [
    "##### Rug"
   ]
  },
  {
   "cell_type": "code",
   "execution_count": null,
   "id": "7f1e483f-f250-4baf-82ee-3958f5cefba8",
   "metadata": {},
   "outputs": [],
   "source": [
    "#| exporti\n",
    "def plot_rug(df, sel = def_selection(), props = {}):\n",
    "    if 'height' in props:\n",
    "        props = props.copy() \n",
    "        props.pop('height') # rug should have default heigth\n",
    "    return alt.Chart(df).mark_tick(\n",
    "            color='black',\n",
    "        ).encode(\n",
    "            x = \"time\",\n",
    "            color = alt.condition(datum.is_present, alt.value('white'), alt.value('black'))\n",
    "        ).add_params(\n",
    "            sel\n",
    "        ).properties(**props) "
   ]
  },
  {
   "cell_type": "code",
   "execution_count": null,
   "id": "f9668bee-f4dd-48e6-92cd-4b96f1f3626e",
   "metadata": {},
   "outputs": [
    {
     "data": {
      "text/html": [
       "\n",
       "<div id=\"altair-viz-1c4b00595f2443bbaabfe7c1b7894d07\"></div>\n",
       "<script type=\"text/javascript\">\n",
       "  var VEGA_DEBUG = (typeof VEGA_DEBUG == \"undefined\") ? {} : VEGA_DEBUG;\n",
       "  (function(spec, embedOpt){\n",
       "    let outputDiv = document.currentScript.previousElementSibling;\n",
       "    if (outputDiv.id !== \"altair-viz-1c4b00595f2443bbaabfe7c1b7894d07\") {\n",
       "      outputDiv = document.getElementById(\"altair-viz-1c4b00595f2443bbaabfe7c1b7894d07\");\n",
       "    }\n",
       "    const paths = {\n",
       "      \"vega\": \"https://cdn.jsdelivr.net/npm//vega@5?noext\",\n",
       "      \"vega-lib\": \"https://cdn.jsdelivr.net/npm//vega-lib?noext\",\n",
       "      \"vega-lite\": \"https://cdn.jsdelivr.net/npm//vega-lite@5.2.0?noext\",\n",
       "      \"vega-embed\": \"https://cdn.jsdelivr.net/npm//vega-embed@6?noext\",\n",
       "    };\n",
       "\n",
       "    function maybeLoadScript(lib, version) {\n",
       "      var key = `${lib.replace(\"-\", \"\")}_version`;\n",
       "      return (VEGA_DEBUG[key] == version) ?\n",
       "        Promise.resolve(paths[lib]) :\n",
       "        new Promise(function(resolve, reject) {\n",
       "          var s = document.createElement('script');\n",
       "          document.getElementsByTagName(\"head\")[0].appendChild(s);\n",
       "          s.async = true;\n",
       "          s.onload = () => {\n",
       "            VEGA_DEBUG[key] = version;\n",
       "            return resolve(paths[lib]);\n",
       "          };\n",
       "          s.onerror = () => reject(`Error loading script: ${paths[lib]}`);\n",
       "          s.src = paths[lib];\n",
       "        });\n",
       "    }\n",
       "\n",
       "    function showError(err) {\n",
       "      outputDiv.innerHTML = `<div class=\"error\" style=\"color:red;\">${err}</div>`;\n",
       "      throw err;\n",
       "    }\n",
       "\n",
       "    function displayChart(vegaEmbed) {\n",
       "      vegaEmbed(outputDiv, spec, embedOpt)\n",
       "        .catch(err => showError(`Javascript Error: ${err.message}<br>This usually means there's a typo in your chart specification. See the javascript console for the full traceback.`));\n",
       "    }\n",
       "\n",
       "    if(typeof define === \"function\" && define.amd) {\n",
       "      requirejs.config({paths});\n",
       "      require([\"vega-embed\"], displayChart, err => showError(`Error loading script: ${err.message}`));\n",
       "    } else {\n",
       "      maybeLoadScript(\"vega\", \"5\")\n",
       "        .then(() => maybeLoadScript(\"vega-lite\", \"5.2.0\"))\n",
       "        .then(() => maybeLoadScript(\"vega-embed\", \"6\"))\n",
       "        .catch(showError)\n",
       "        .then(() => displayChart(vegaEmbed));\n",
       "    }\n",
       "  })({\"config\": {\"view\": {\"continuousWidth\": 400, \"continuousHeight\": 300}}, \"data\": {\"name\": \"data-3db2996ac3d1e25158d36823c9230040\"}, \"mark\": {\"type\": \"tick\", \"color\": \"black\"}, \"encoding\": {\"color\": {\"condition\": {\"value\": \"white\", \"test\": \"datum.is_present\"}, \"value\": \"black\"}, \"x\": {\"field\": \"time\", \"type\": \"temporal\"}}, \"params\": [{\"name\": \"param_1\", \"select\": {\"type\": \"interval\"}, \"bind\": \"scales\"}], \"$schema\": \"https://vega.github.io/schema/vega-lite/v5.2.0.json\", \"datasets\": {\"data-3db2996ac3d1e25158d36823c9230040\": [{\"time\": \"2000-06-15T17:00:00\", \"variable\": \"TA\", \"value\": 14.220000267028809, \"is_present\": true}, {\"time\": \"2000-06-15T17:30:00\", \"variable\": \"TA\", \"value\": 14.109999656677246, \"is_present\": false}, {\"time\": \"2000-06-15T18:00:00\", \"variable\": \"TA\", \"value\": 14.229999542236328, \"is_present\": false}, {\"time\": \"2000-06-15T18:30:00\", \"variable\": \"TA\", \"value\": 14.399999618530273, \"is_present\": true}, {\"time\": \"2000-06-15T19:00:00\", \"variable\": \"TA\", \"value\": 14.09000015258789, \"is_present\": true}, {\"time\": \"2000-06-15T19:30:00\", \"variable\": \"TA\", \"value\": 13.710000038146973, \"is_present\": true}, {\"time\": \"2000-06-15T20:00:00\", \"variable\": \"TA\", \"value\": 13.079999923706055, \"is_present\": true}, {\"time\": \"2000-06-15T20:30:00\", \"variable\": \"TA\", \"value\": 12.40999984741211, \"is_present\": true}, {\"time\": \"2000-06-15T21:00:00\", \"variable\": \"TA\", \"value\": 12.270000457763672, \"is_present\": true}, {\"time\": \"2000-06-15T21:30:00\", \"variable\": \"TA\", \"value\": 12.199999809265137, \"is_present\": true}, {\"time\": \"2000-06-15T17:00:00\", \"variable\": \"SW_IN\", \"value\": 224.8000030517578, \"is_present\": true}, {\"time\": \"2000-06-15T17:30:00\", \"variable\": \"SW_IN\", \"value\": 195.27999877929688, \"is_present\": false}, {\"time\": \"2000-06-15T18:00:00\", \"variable\": \"SW_IN\", \"value\": 244.1699981689453, \"is_present\": false}, {\"time\": \"2000-06-15T18:30:00\", \"variable\": \"SW_IN\", \"value\": 253.9199981689453, \"is_present\": true}, {\"time\": \"2000-06-15T19:00:00\", \"variable\": \"SW_IN\", \"value\": 177.30999755859375, \"is_present\": true}, {\"time\": \"2000-06-15T19:30:00\", \"variable\": \"SW_IN\", \"value\": 97.06999969482422, \"is_present\": true}, {\"time\": \"2000-06-15T20:00:00\", \"variable\": \"SW_IN\", \"value\": 39.709999084472656, \"is_present\": true}, {\"time\": \"2000-06-15T20:30:00\", \"variable\": \"SW_IN\", \"value\": 10.649999618530273, \"is_present\": true}, {\"time\": \"2000-06-15T21:00:00\", \"variable\": \"SW_IN\", \"value\": 0.3199999928474426, \"is_present\": true}, {\"time\": \"2000-06-15T21:30:00\", \"variable\": \"SW_IN\", \"value\": 0.0, \"is_present\": true}, {\"time\": \"2000-06-15T17:00:00\", \"variable\": \"VPD\", \"value\": 5.798999786376953, \"is_present\": true}, {\"time\": \"2000-06-15T17:30:00\", \"variable\": \"VPD\", \"value\": 6.577000141143799, \"is_present\": true}, {\"time\": \"2000-06-15T18:00:00\", \"variable\": \"VPD\", \"value\": 6.931000232696533, \"is_present\": true}, {\"time\": \"2000-06-15T18:30:00\", \"variable\": \"VPD\", \"value\": 7.285999774932861, \"is_present\": true}, {\"time\": \"2000-06-15T19:00:00\", \"variable\": \"VPD\", \"value\": 7.250999927520752, \"is_present\": true}, {\"time\": \"2000-06-15T19:30:00\", \"variable\": \"VPD\", \"value\": 6.683000087738037, \"is_present\": true}, {\"time\": \"2000-06-15T20:00:00\", \"variable\": \"VPD\", \"value\": 5.85099983215332, \"is_present\": true}, {\"time\": \"2000-06-15T20:30:00\", \"variable\": \"VPD\", \"value\": 5.254000186920166, \"is_present\": true}, {\"time\": \"2000-06-15T21:00:00\", \"variable\": \"VPD\", \"value\": 5.164000034332275, \"is_present\": true}, {\"time\": \"2000-06-15T21:30:00\", \"variable\": \"VPD\", \"value\": 5.0370001792907715, \"is_present\": true}]}}, {\"mode\": \"vega-lite\"});\n",
       "</script>"
      ],
      "text/plain": [
       "alt.Chart(...)"
      ]
     },
     "execution_count": null,
     "metadata": {},
     "output_type": "execute_result"
    }
   ],
   "source": [
    "plot_rug(m_df.tidy())"
   ]
  },
  {
   "cell_type": "code",
   "execution_count": null,
   "id": "bdefec0f-d6f6-4567-a187-a005d585fde6",
   "metadata": {},
   "outputs": [],
   "source": [
    "df = m_df.tidy()"
   ]
  },
  {
   "cell_type": "code",
   "execution_count": null,
   "id": "d6b0071d-6545-475d-8230-f0855dfe541f",
   "metadata": {},
   "outputs": [],
   "source": [
    "df = df[df.variable==\"TA\"].copy()"
   ]
  },
  {
   "cell_type": "code",
   "execution_count": null,
   "id": "6ed27295-faac-42e7-9f06-449e7b247531",
   "metadata": {},
   "outputs": [],
   "source": [
    "df['row_number'] = df.reset_index().index"
   ]
  },
  {
   "cell_type": "code",
   "execution_count": null,
   "id": "21b363a1-fb47-4569-87e9-46b0c6b0c3d0",
   "metadata": {},
   "outputs": [
    {
     "data": {
      "text/html": [
       "<div>\n",
       "<style scoped>\n",
       "    .dataframe tbody tr th:only-of-type {\n",
       "        vertical-align: middle;\n",
       "    }\n",
       "\n",
       "    .dataframe tbody tr th {\n",
       "        vertical-align: top;\n",
       "    }\n",
       "\n",
       "    .dataframe thead th {\n",
       "        text-align: right;\n",
       "    }\n",
       "</style>\n",
       "<table border=\"1\" class=\"dataframe\">\n",
       "  <thead>\n",
       "    <tr style=\"text-align: right;\">\n",
       "      <th></th>\n",
       "      <th>time</th>\n",
       "      <th>variable</th>\n",
       "      <th>value</th>\n",
       "      <th>is_present</th>\n",
       "      <th>row_number</th>\n",
       "    </tr>\n",
       "  </thead>\n",
       "  <tbody>\n",
       "    <tr>\n",
       "      <th>0</th>\n",
       "      <td>2000-06-15 17:00:00</td>\n",
       "      <td>TA</td>\n",
       "      <td>14.22</td>\n",
       "      <td>True</td>\n",
       "      <td>0</td>\n",
       "    </tr>\n",
       "    <tr>\n",
       "      <th>1</th>\n",
       "      <td>2000-06-15 17:30:00</td>\n",
       "      <td>TA</td>\n",
       "      <td>14.11</td>\n",
       "      <td>False</td>\n",
       "      <td>1</td>\n",
       "    </tr>\n",
       "    <tr>\n",
       "      <th>2</th>\n",
       "      <td>2000-06-15 18:00:00</td>\n",
       "      <td>TA</td>\n",
       "      <td>14.23</td>\n",
       "      <td>False</td>\n",
       "      <td>2</td>\n",
       "    </tr>\n",
       "    <tr>\n",
       "      <th>3</th>\n",
       "      <td>2000-06-15 18:30:00</td>\n",
       "      <td>TA</td>\n",
       "      <td>14.40</td>\n",
       "      <td>True</td>\n",
       "      <td>3</td>\n",
       "    </tr>\n",
       "    <tr>\n",
       "      <th>4</th>\n",
       "      <td>2000-06-15 19:00:00</td>\n",
       "      <td>TA</td>\n",
       "      <td>14.09</td>\n",
       "      <td>True</td>\n",
       "      <td>4</td>\n",
       "    </tr>\n",
       "    <tr>\n",
       "      <th>5</th>\n",
       "      <td>2000-06-15 19:30:00</td>\n",
       "      <td>TA</td>\n",
       "      <td>13.71</td>\n",
       "      <td>True</td>\n",
       "      <td>5</td>\n",
       "    </tr>\n",
       "    <tr>\n",
       "      <th>6</th>\n",
       "      <td>2000-06-15 20:00:00</td>\n",
       "      <td>TA</td>\n",
       "      <td>13.08</td>\n",
       "      <td>True</td>\n",
       "      <td>6</td>\n",
       "    </tr>\n",
       "    <tr>\n",
       "      <th>7</th>\n",
       "      <td>2000-06-15 20:30:00</td>\n",
       "      <td>TA</td>\n",
       "      <td>12.41</td>\n",
       "      <td>True</td>\n",
       "      <td>7</td>\n",
       "    </tr>\n",
       "    <tr>\n",
       "      <th>8</th>\n",
       "      <td>2000-06-15 21:00:00</td>\n",
       "      <td>TA</td>\n",
       "      <td>12.27</td>\n",
       "      <td>True</td>\n",
       "      <td>8</td>\n",
       "    </tr>\n",
       "    <tr>\n",
       "      <th>9</th>\n",
       "      <td>2000-06-15 21:30:00</td>\n",
       "      <td>TA</td>\n",
       "      <td>12.20</td>\n",
       "      <td>True</td>\n",
       "      <td>9</td>\n",
       "    </tr>\n",
       "  </tbody>\n",
       "</table>\n",
       "</div>"
      ],
      "text/plain": [
       "                 time variable  value  is_present  row_number\n",
       "0 2000-06-15 17:00:00       TA  14.22        True           0\n",
       "1 2000-06-15 17:30:00       TA  14.11       False           1\n",
       "2 2000-06-15 18:00:00       TA  14.23       False           2\n",
       "3 2000-06-15 18:30:00       TA  14.40        True           3\n",
       "4 2000-06-15 19:00:00       TA  14.09        True           4\n",
       "5 2000-06-15 19:30:00       TA  13.71        True           5\n",
       "6 2000-06-15 20:00:00       TA  13.08        True           6\n",
       "7 2000-06-15 20:30:00       TA  12.41        True           7\n",
       "8 2000-06-15 21:00:00       TA  12.27        True           8\n",
       "9 2000-06-15 21:30:00       TA  12.20        True           9"
      ]
     },
     "execution_count": null,
     "metadata": {},
     "output_type": "execute_result"
    }
   ],
   "source": [
    "df"
   ]
  },
  {
   "cell_type": "code",
   "execution_count": null,
   "id": "f6c46a29-3900-4a8c-b80a-dfdf374591f8",
   "metadata": {},
   "outputs": [
    {
     "data": {
      "text/plain": [
       "time          2000-06-15 17:30:00\n",
       "variable                       TA\n",
       "value                       14.11\n",
       "is_present                  False\n",
       "row_number                      1\n",
       "Name: 1, dtype: object"
      ]
     },
     "execution_count": null,
     "metadata": {},
     "output_type": "execute_result"
    }
   ],
   "source": [
    "df.iloc[1]"
   ]
  },
  {
   "cell_type": "code",
   "execution_count": null,
   "id": "6571fccf-df94-4339-bd7d-6b7d8a485c84",
   "metadata": {},
   "outputs": [],
   "source": [
    "df.loc[2, \"is_present\"] = True"
   ]
  },
  {
   "cell_type": "code",
   "execution_count": null,
   "id": "02874424-e189-4097-bcce-e9a3018e5603",
   "metadata": {},
   "outputs": [
    {
     "data": {
      "text/html": [
       "<div>\n",
       "<style scoped>\n",
       "    .dataframe tbody tr th:only-of-type {\n",
       "        vertical-align: middle;\n",
       "    }\n",
       "\n",
       "    .dataframe tbody tr th {\n",
       "        vertical-align: top;\n",
       "    }\n",
       "\n",
       "    .dataframe thead th {\n",
       "        text-align: right;\n",
       "    }\n",
       "</style>\n",
       "<table border=\"1\" class=\"dataframe\">\n",
       "  <thead>\n",
       "    <tr style=\"text-align: right;\">\n",
       "      <th></th>\n",
       "      <th>time</th>\n",
       "      <th>variable</th>\n",
       "      <th>value</th>\n",
       "      <th>is_present</th>\n",
       "      <th>row_number</th>\n",
       "    </tr>\n",
       "  </thead>\n",
       "  <tbody>\n",
       "    <tr>\n",
       "      <th>0</th>\n",
       "      <td>2000-06-15 17:00:00</td>\n",
       "      <td>TA</td>\n",
       "      <td>14.22</td>\n",
       "      <td>True</td>\n",
       "      <td>0</td>\n",
       "    </tr>\n",
       "    <tr>\n",
       "      <th>1</th>\n",
       "      <td>2000-06-15 17:30:00</td>\n",
       "      <td>TA</td>\n",
       "      <td>14.11</td>\n",
       "      <td>False</td>\n",
       "      <td>1</td>\n",
       "    </tr>\n",
       "    <tr>\n",
       "      <th>2</th>\n",
       "      <td>2000-06-15 18:00:00</td>\n",
       "      <td>TA</td>\n",
       "      <td>14.23</td>\n",
       "      <td>True</td>\n",
       "      <td>2</td>\n",
       "    </tr>\n",
       "    <tr>\n",
       "      <th>3</th>\n",
       "      <td>2000-06-15 18:30:00</td>\n",
       "      <td>TA</td>\n",
       "      <td>14.40</td>\n",
       "      <td>True</td>\n",
       "      <td>3</td>\n",
       "    </tr>\n",
       "    <tr>\n",
       "      <th>4</th>\n",
       "      <td>2000-06-15 19:00:00</td>\n",
       "      <td>TA</td>\n",
       "      <td>14.09</td>\n",
       "      <td>True</td>\n",
       "      <td>4</td>\n",
       "    </tr>\n",
       "    <tr>\n",
       "      <th>5</th>\n",
       "      <td>2000-06-15 19:30:00</td>\n",
       "      <td>TA</td>\n",
       "      <td>13.71</td>\n",
       "      <td>True</td>\n",
       "      <td>5</td>\n",
       "    </tr>\n",
       "    <tr>\n",
       "      <th>6</th>\n",
       "      <td>2000-06-15 20:00:00</td>\n",
       "      <td>TA</td>\n",
       "      <td>13.08</td>\n",
       "      <td>True</td>\n",
       "      <td>6</td>\n",
       "    </tr>\n",
       "    <tr>\n",
       "      <th>7</th>\n",
       "      <td>2000-06-15 20:30:00</td>\n",
       "      <td>TA</td>\n",
       "      <td>12.41</td>\n",
       "      <td>True</td>\n",
       "      <td>7</td>\n",
       "    </tr>\n",
       "    <tr>\n",
       "      <th>8</th>\n",
       "      <td>2000-06-15 21:00:00</td>\n",
       "      <td>TA</td>\n",
       "      <td>12.27</td>\n",
       "      <td>True</td>\n",
       "      <td>8</td>\n",
       "    </tr>\n",
       "    <tr>\n",
       "      <th>9</th>\n",
       "      <td>2000-06-15 21:30:00</td>\n",
       "      <td>TA</td>\n",
       "      <td>12.20</td>\n",
       "      <td>True</td>\n",
       "      <td>9</td>\n",
       "    </tr>\n",
       "  </tbody>\n",
       "</table>\n",
       "</div>"
      ],
      "text/plain": [
       "                 time variable  value  is_present  row_number\n",
       "0 2000-06-15 17:00:00       TA  14.22        True           0\n",
       "1 2000-06-15 17:30:00       TA  14.11       False           1\n",
       "2 2000-06-15 18:00:00       TA  14.23        True           2\n",
       "3 2000-06-15 18:30:00       TA  14.40        True           3\n",
       "4 2000-06-15 19:00:00       TA  14.09        True           4\n",
       "5 2000-06-15 19:30:00       TA  13.71        True           5\n",
       "6 2000-06-15 20:00:00       TA  13.08        True           6\n",
       "7 2000-06-15 20:30:00       TA  12.41        True           7\n",
       "8 2000-06-15 21:00:00       TA  12.27        True           8\n",
       "9 2000-06-15 21:30:00       TA  12.20        True           9"
      ]
     },
     "execution_count": null,
     "metadata": {},
     "output_type": "execute_result"
    }
   ],
   "source": [
    "df"
   ]
  },
  {
   "cell_type": "code",
   "execution_count": null,
   "id": "6bc69f42-fbae-4393-a474-7dd845a2c469",
   "metadata": {},
   "outputs": [],
   "source": [
    "i = 1\n",
    "prev, curr, _next= df.iloc[i-1], df.iloc[i], df.iloc[i+1]"
   ]
  },
  {
   "cell_type": "code",
   "execution_count": null,
   "id": "091cedd6-11d6-4086-a0e3-69d2a2b0c3e6",
   "metadata": {},
   "outputs": [
    {
     "data": {
      "text/plain": [
       "(time          2000-06-15 17:00:00\n",
       " variable                       TA\n",
       " value                       14.22\n",
       " is_present                   True\n",
       " row_number                      0\n",
       " Name: 0, dtype: object,\n",
       " time          2000-06-15 17:30:00\n",
       " variable                       TA\n",
       " value                       14.11\n",
       " is_present                  False\n",
       " row_number                      1\n",
       " Name: 1, dtype: object,\n",
       " time          2000-06-15 18:00:00\n",
       " variable                       TA\n",
       " value                       14.23\n",
       " is_present                   True\n",
       " row_number                      2\n",
       " Name: 2, dtype: object)"
      ]
     },
     "execution_count": null,
     "metadata": {},
     "output_type": "execute_result"
    }
   ],
   "source": [
    "prev, curr, _next"
   ]
  },
  {
   "cell_type": "code",
   "execution_count": null,
   "id": "8ef120c9-d2f4-4b89-bfa5-e6a8758f16bd",
   "metadata": {},
   "outputs": [
    {
     "data": {
      "text/html": [
       "<div>\n",
       "<style scoped>\n",
       "    .dataframe tbody tr th:only-of-type {\n",
       "        vertical-align: middle;\n",
       "    }\n",
       "\n",
       "    .dataframe tbody tr th {\n",
       "        vertical-align: top;\n",
       "    }\n",
       "\n",
       "    .dataframe thead th {\n",
       "        text-align: right;\n",
       "    }\n",
       "</style>\n",
       "<table border=\"1\" class=\"dataframe\">\n",
       "  <thead>\n",
       "    <tr style=\"text-align: right;\">\n",
       "      <th></th>\n",
       "      <th>time</th>\n",
       "      <th>variable</th>\n",
       "      <th>value</th>\n",
       "      <th>is_present</th>\n",
       "      <th>row_number</th>\n",
       "    </tr>\n",
       "  </thead>\n",
       "  <tbody>\n",
       "    <tr>\n",
       "      <th>0</th>\n",
       "      <td>2000-06-15 17:00:00</td>\n",
       "      <td>TA</td>\n",
       "      <td>14.22</td>\n",
       "      <td>True</td>\n",
       "      <td>0</td>\n",
       "    </tr>\n",
       "    <tr>\n",
       "      <th>1</th>\n",
       "      <td>2000-06-15 17:30:00</td>\n",
       "      <td>TA</td>\n",
       "      <td>14.11</td>\n",
       "      <td>False</td>\n",
       "      <td>1</td>\n",
       "    </tr>\n",
       "    <tr>\n",
       "      <th>2</th>\n",
       "      <td>2000-06-15 18:00:00</td>\n",
       "      <td>TA</td>\n",
       "      <td>14.23</td>\n",
       "      <td>True</td>\n",
       "      <td>2</td>\n",
       "    </tr>\n",
       "    <tr>\n",
       "      <th>3</th>\n",
       "      <td>2000-06-15 18:30:00</td>\n",
       "      <td>TA</td>\n",
       "      <td>14.40</td>\n",
       "      <td>True</td>\n",
       "      <td>3</td>\n",
       "    </tr>\n",
       "    <tr>\n",
       "      <th>4</th>\n",
       "      <td>2000-06-15 19:00:00</td>\n",
       "      <td>TA</td>\n",
       "      <td>14.09</td>\n",
       "      <td>True</td>\n",
       "      <td>4</td>\n",
       "    </tr>\n",
       "    <tr>\n",
       "      <th>5</th>\n",
       "      <td>2000-06-15 19:30:00</td>\n",
       "      <td>TA</td>\n",
       "      <td>13.71</td>\n",
       "      <td>True</td>\n",
       "      <td>5</td>\n",
       "    </tr>\n",
       "    <tr>\n",
       "      <th>6</th>\n",
       "      <td>2000-06-15 20:00:00</td>\n",
       "      <td>TA</td>\n",
       "      <td>13.08</td>\n",
       "      <td>True</td>\n",
       "      <td>6</td>\n",
       "    </tr>\n",
       "    <tr>\n",
       "      <th>7</th>\n",
       "      <td>2000-06-15 20:30:00</td>\n",
       "      <td>TA</td>\n",
       "      <td>12.41</td>\n",
       "      <td>True</td>\n",
       "      <td>7</td>\n",
       "    </tr>\n",
       "    <tr>\n",
       "      <th>8</th>\n",
       "      <td>2000-06-15 21:00:00</td>\n",
       "      <td>TA</td>\n",
       "      <td>12.27</td>\n",
       "      <td>True</td>\n",
       "      <td>8</td>\n",
       "    </tr>\n",
       "    <tr>\n",
       "      <th>9</th>\n",
       "      <td>2000-06-15 21:30:00</td>\n",
       "      <td>TA</td>\n",
       "      <td>12.20</td>\n",
       "      <td>True</td>\n",
       "      <td>9</td>\n",
       "    </tr>\n",
       "  </tbody>\n",
       "</table>\n",
       "</div>"
      ],
      "text/plain": [
       "                 time variable  value  is_present  row_number\n",
       "0 2000-06-15 17:00:00       TA  14.22        True           0\n",
       "1 2000-06-15 17:30:00       TA  14.11       False           1\n",
       "2 2000-06-15 18:00:00       TA  14.23        True           2\n",
       "3 2000-06-15 18:30:00       TA  14.40        True           3\n",
       "4 2000-06-15 19:00:00       TA  14.09        True           4\n",
       "5 2000-06-15 19:30:00       TA  13.71        True           5\n",
       "6 2000-06-15 20:00:00       TA  13.08        True           6\n",
       "7 2000-06-15 20:30:00       TA  12.41        True           7\n",
       "8 2000-06-15 21:00:00       TA  12.27        True           8\n",
       "9 2000-06-15 21:30:00       TA  12.20        True           9"
      ]
     },
     "execution_count": null,
     "metadata": {},
     "output_type": "execute_result"
    }
   ],
   "source": [
    "df"
   ]
  },
  {
   "cell_type": "code",
   "execution_count": null,
   "id": "d9b58d08-3aab-4c42-8466-985aeb5abc54",
   "metadata": {},
   "outputs": [
    {
     "name": "stdout",
     "output_type": "stream",
     "text": [
      "gap start 2000-06-15 17:30:00\n",
      "gap end 2000-06-15 17:30:00\n"
     ]
    }
   ],
   "source": [
    "for i in range(len(df)):\n",
    "    # handle boundaries\n",
    "    prev = df.iloc[i-1].is_present if i>0 else True \n",
    "    _next = df.iloc[i+1].is_present if i<(len(df)-1) else True \n",
    "    curr = df.iloc[i]\n",
    "    if not curr.is_present and prev:\n",
    "        print(\"gap start\", curr.time)\n",
    "    if not curr.is_present and _next:\n",
    "        print(\"gap end\", curr.time)"
   ]
  },
  {
   "cell_type": "code",
   "execution_count": null,
   "id": "34b96982-b6f3-4405-8583-0e207978eac3",
   "metadata": {},
   "outputs": [],
   "source": [
    "#| export\n",
    "def find_gap_limits(df):\n",
    "    gap_starts, gap_ends = [], []\n",
    "    for i in range(len(df)):\n",
    "        prev = df.iloc[i-1].is_present if i>0 else True \n",
    "        _next = df.iloc[i+1].is_present if i<(len(df)-1) else True \n",
    "        curr = df.iloc[i]\n",
    "        if not curr.is_present and prev: gap_starts.append(curr.time)\n",
    "        if not curr.is_present and _next: gap_ends.append(curr.time)\n",
    "    return pd.DataFrame({'gap_start': gap_starts, 'gap_end': gap_ends})\n",
    "    "
   ]
  },
  {
   "cell_type": "code",
   "execution_count": null,
   "id": "1e634f1e-0d8e-4e9f-a843-a3c9ded54bae",
   "metadata": {},
   "outputs": [
    {
     "data": {
      "text/html": [
       "<div>\n",
       "<style scoped>\n",
       "    .dataframe tbody tr th:only-of-type {\n",
       "        vertical-align: middle;\n",
       "    }\n",
       "\n",
       "    .dataframe tbody tr th {\n",
       "        vertical-align: top;\n",
       "    }\n",
       "\n",
       "    .dataframe thead th {\n",
       "        text-align: right;\n",
       "    }\n",
       "</style>\n",
       "<table border=\"1\" class=\"dataframe\">\n",
       "  <thead>\n",
       "    <tr style=\"text-align: right;\">\n",
       "      <th></th>\n",
       "      <th>gap_start</th>\n",
       "      <th>gap_end</th>\n",
       "    </tr>\n",
       "  </thead>\n",
       "  <tbody>\n",
       "    <tr>\n",
       "      <th>0</th>\n",
       "      <td>2000-06-15 17:30:00</td>\n",
       "      <td>2000-06-15 17:30:00</td>\n",
       "    </tr>\n",
       "  </tbody>\n",
       "</table>\n",
       "</div>"
      ],
      "text/plain": [
       "            gap_start             gap_end\n",
       "0 2000-06-15 17:30:00 2000-06-15 17:30:00"
      ]
     },
     "execution_count": null,
     "metadata": {},
     "output_type": "execute_result"
    }
   ],
   "source": [
    "find_gap_limits(df)"
   ]
  },
  {
   "cell_type": "code",
   "execution_count": null,
   "id": "c8bf87ef-4401-4e69-97a4-67781c752b40",
   "metadata": {},
   "outputs": [],
   "source": [
    "#| export\n",
    "def plot_missing_area(df, sel = def_selection(), props={}):\n",
    "    gap_limits = find_gap_limits(df)\n",
    "    start = alt.Chart(gap_limits).mark_rule().encode(\n",
    "        x = alt.X('gap_start', axis=alt.Axis(domain=False, labels = False, ticks=False, title=None)),\n",
    "    )\n",
    "    end = alt.Chart(gap_limits).mark_rule().encode(\n",
    "        x = alt.X('gap_end', axis=alt.Axis(domain=False, labels = False, ticks=False, title=None))\n",
    "    )\n",
    "    area = alt.Chart(gap_limits).mark_rect(color='black', opacity=.15).encode(\n",
    "        x = alt.X('gap_start', axis=alt.Axis(domain=False, labels = False, ticks=False, title=None)),\n",
    "        x2 = 'gap_end'\n",
    "    )\n",
    "    return (start + end + area)#.add_params(sel).properties(**props)"
   ]
  },
  {
   "cell_type": "code",
   "execution_count": null,
   "id": "6df1e7d6-674e-465c-af15-ecfca892ef51",
   "metadata": {},
   "outputs": [
    {
     "data": {
      "text/html": [
       "\n",
       "<div id=\"altair-viz-e9e7f6f7b28244b894fc2617cd6fdf11\"></div>\n",
       "<script type=\"text/javascript\">\n",
       "  var VEGA_DEBUG = (typeof VEGA_DEBUG == \"undefined\") ? {} : VEGA_DEBUG;\n",
       "  (function(spec, embedOpt){\n",
       "    let outputDiv = document.currentScript.previousElementSibling;\n",
       "    if (outputDiv.id !== \"altair-viz-e9e7f6f7b28244b894fc2617cd6fdf11\") {\n",
       "      outputDiv = document.getElementById(\"altair-viz-e9e7f6f7b28244b894fc2617cd6fdf11\");\n",
       "    }\n",
       "    const paths = {\n",
       "      \"vega\": \"https://cdn.jsdelivr.net/npm//vega@5?noext\",\n",
       "      \"vega-lib\": \"https://cdn.jsdelivr.net/npm//vega-lib?noext\",\n",
       "      \"vega-lite\": \"https://cdn.jsdelivr.net/npm//vega-lite@5.2.0?noext\",\n",
       "      \"vega-embed\": \"https://cdn.jsdelivr.net/npm//vega-embed@6?noext\",\n",
       "    };\n",
       "\n",
       "    function maybeLoadScript(lib, version) {\n",
       "      var key = `${lib.replace(\"-\", \"\")}_version`;\n",
       "      return (VEGA_DEBUG[key] == version) ?\n",
       "        Promise.resolve(paths[lib]) :\n",
       "        new Promise(function(resolve, reject) {\n",
       "          var s = document.createElement('script');\n",
       "          document.getElementsByTagName(\"head\")[0].appendChild(s);\n",
       "          s.async = true;\n",
       "          s.onload = () => {\n",
       "            VEGA_DEBUG[key] = version;\n",
       "            return resolve(paths[lib]);\n",
       "          };\n",
       "          s.onerror = () => reject(`Error loading script: ${paths[lib]}`);\n",
       "          s.src = paths[lib];\n",
       "        });\n",
       "    }\n",
       "\n",
       "    function showError(err) {\n",
       "      outputDiv.innerHTML = `<div class=\"error\" style=\"color:red;\">${err}</div>`;\n",
       "      throw err;\n",
       "    }\n",
       "\n",
       "    function displayChart(vegaEmbed) {\n",
       "      vegaEmbed(outputDiv, spec, embedOpt)\n",
       "        .catch(err => showError(`Javascript Error: ${err.message}<br>This usually means there's a typo in your chart specification. See the javascript console for the full traceback.`));\n",
       "    }\n",
       "\n",
       "    if(typeof define === \"function\" && define.amd) {\n",
       "      requirejs.config({paths});\n",
       "      require([\"vega-embed\"], displayChart, err => showError(`Error loading script: ${err.message}`));\n",
       "    } else {\n",
       "      maybeLoadScript(\"vega\", \"5\")\n",
       "        .then(() => maybeLoadScript(\"vega-lite\", \"5.2.0\"))\n",
       "        .then(() => maybeLoadScript(\"vega-embed\", \"6\"))\n",
       "        .catch(showError)\n",
       "        .then(() => displayChart(vegaEmbed));\n",
       "    }\n",
       "  })({\"config\": {\"view\": {\"continuousWidth\": 400, \"continuousHeight\": 300}}, \"layer\": [{\"mark\": \"rule\", \"encoding\": {\"x\": {\"axis\": {\"domain\": false, \"labels\": false, \"ticks\": false, \"title\": null}, \"field\": \"gap_start\", \"type\": \"temporal\"}}}, {\"mark\": \"rule\", \"encoding\": {\"x\": {\"axis\": {\"domain\": false, \"labels\": false, \"ticks\": false, \"title\": null}, \"field\": \"gap_end\", \"type\": \"temporal\"}}}, {\"mark\": {\"type\": \"rect\", \"color\": \"black\", \"opacity\": 0.15}, \"encoding\": {\"x\": {\"axis\": {\"domain\": false, \"labels\": false, \"ticks\": false, \"title\": null}, \"field\": \"gap_start\", \"type\": \"temporal\"}, \"x2\": {\"field\": \"gap_end\"}}}], \"data\": {\"name\": \"data-14f6376536514b3594d32d3ce6351134\"}, \"$schema\": \"https://vega.github.io/schema/vega-lite/v5.2.0.json\", \"datasets\": {\"data-14f6376536514b3594d32d3ce6351134\": [{\"gap_start\": \"2000-06-15T17:30:00\", \"gap_end\": \"2000-06-15T17:30:00\"}]}}, {\"mode\": \"vega-lite\"});\n",
       "</script>"
      ],
      "text/plain": [
       "alt.LayerChart(...)"
      ]
     },
     "execution_count": null,
     "metadata": {},
     "output_type": "execute_result"
    }
   ],
   "source": [
    "plot_missing_area(df)"
   ]
  },
  {
   "cell_type": "markdown",
   "id": "9ab60349-4e58-4fd7-bc85-ad85146af0a5",
   "metadata": {},
   "source": [
    "##### Points"
   ]
  },
  {
   "cell_type": "code",
   "execution_count": null,
   "id": "52f438da-c85f-40e7-bdac-c08bce559cc3",
   "metadata": {},
   "outputs": [],
   "source": [
    "#| export\n",
    "def plot_points(df, y = \"value\", y_label = \"\", sel = def_selection(), props = {}):\n",
    "    return alt.Chart(df).mark_point(\n",
    "            color='black',\n",
    "            strokeWidth = 1,\n",
    "            fillOpacity = 1\n",
    "        ).encode(\n",
    "            x = alt.X(\"time\", axis=alt.Axis(domain=True, labels = True, ticks=True, title=\"time\")),\n",
    "            y = alt.Y(y, title = y_label, scale=alt.Scale(zero=False)),\n",
    "            fill= alt.Fill(\"is_present\", scale = alt.Scale(range=[\"black\", \"#ffffff00\"]),\n",
    "                           legend = alt.Legend(title =[\"Observed data\"])),\n",
    "            shape = \"is_present\",\n",
    "        )"
   ]
  },
  {
   "cell_type": "code",
   "execution_count": null,
   "id": "530d054b-120d-4883-9692-ff2518adabbf",
   "metadata": {},
   "outputs": [
    {
     "data": {
      "text/html": [
       "\n",
       "<div id=\"altair-viz-a3562b631b124f63bba3a8a4c09af42a\"></div>\n",
       "<script type=\"text/javascript\">\n",
       "  var VEGA_DEBUG = (typeof VEGA_DEBUG == \"undefined\") ? {} : VEGA_DEBUG;\n",
       "  (function(spec, embedOpt){\n",
       "    let outputDiv = document.currentScript.previousElementSibling;\n",
       "    if (outputDiv.id !== \"altair-viz-a3562b631b124f63bba3a8a4c09af42a\") {\n",
       "      outputDiv = document.getElementById(\"altair-viz-a3562b631b124f63bba3a8a4c09af42a\");\n",
       "    }\n",
       "    const paths = {\n",
       "      \"vega\": \"https://cdn.jsdelivr.net/npm//vega@5?noext\",\n",
       "      \"vega-lib\": \"https://cdn.jsdelivr.net/npm//vega-lib?noext\",\n",
       "      \"vega-lite\": \"https://cdn.jsdelivr.net/npm//vega-lite@5.2.0?noext\",\n",
       "      \"vega-embed\": \"https://cdn.jsdelivr.net/npm//vega-embed@6?noext\",\n",
       "    };\n",
       "\n",
       "    function maybeLoadScript(lib, version) {\n",
       "      var key = `${lib.replace(\"-\", \"\")}_version`;\n",
       "      return (VEGA_DEBUG[key] == version) ?\n",
       "        Promise.resolve(paths[lib]) :\n",
       "        new Promise(function(resolve, reject) {\n",
       "          var s = document.createElement('script');\n",
       "          document.getElementsByTagName(\"head\")[0].appendChild(s);\n",
       "          s.async = true;\n",
       "          s.onload = () => {\n",
       "            VEGA_DEBUG[key] = version;\n",
       "            return resolve(paths[lib]);\n",
       "          };\n",
       "          s.onerror = () => reject(`Error loading script: ${paths[lib]}`);\n",
       "          s.src = paths[lib];\n",
       "        });\n",
       "    }\n",
       "\n",
       "    function showError(err) {\n",
       "      outputDiv.innerHTML = `<div class=\"error\" style=\"color:red;\">${err}</div>`;\n",
       "      throw err;\n",
       "    }\n",
       "\n",
       "    function displayChart(vegaEmbed) {\n",
       "      vegaEmbed(outputDiv, spec, embedOpt)\n",
       "        .catch(err => showError(`Javascript Error: ${err.message}<br>This usually means there's a typo in your chart specification. See the javascript console for the full traceback.`));\n",
       "    }\n",
       "\n",
       "    if(typeof define === \"function\" && define.amd) {\n",
       "      requirejs.config({paths});\n",
       "      require([\"vega-embed\"], displayChart, err => showError(`Error loading script: ${err.message}`));\n",
       "    } else {\n",
       "      maybeLoadScript(\"vega\", \"5\")\n",
       "        .then(() => maybeLoadScript(\"vega-lite\", \"5.2.0\"))\n",
       "        .then(() => maybeLoadScript(\"vega-embed\", \"6\"))\n",
       "        .catch(showError)\n",
       "        .then(() => displayChart(vegaEmbed));\n",
       "    }\n",
       "  })({\"config\": {\"view\": {\"continuousWidth\": 400, \"continuousHeight\": 300}}, \"data\": {\"name\": \"data-3db2996ac3d1e25158d36823c9230040\"}, \"mark\": {\"type\": \"point\", \"color\": \"black\", \"fillOpacity\": 1, \"strokeWidth\": 1}, \"encoding\": {\"fill\": {\"field\": \"is_present\", \"legend\": {\"title\": [\"Observed data\"]}, \"scale\": {\"range\": [\"black\", \"#ffffff00\"]}, \"type\": \"nominal\"}, \"shape\": {\"field\": \"is_present\", \"type\": \"nominal\"}, \"x\": {\"axis\": {\"domain\": true, \"labels\": true, \"ticks\": true, \"title\": \"time\"}, \"field\": \"time\", \"type\": \"temporal\"}, \"y\": {\"field\": \"value\", \"scale\": {\"zero\": false}, \"title\": \"\", \"type\": \"quantitative\"}}, \"$schema\": \"https://vega.github.io/schema/vega-lite/v5.2.0.json\", \"datasets\": {\"data-3db2996ac3d1e25158d36823c9230040\": [{\"time\": \"2000-06-15T17:00:00\", \"variable\": \"TA\", \"value\": 14.220000267028809, \"is_present\": true}, {\"time\": \"2000-06-15T17:30:00\", \"variable\": \"TA\", \"value\": 14.109999656677246, \"is_present\": false}, {\"time\": \"2000-06-15T18:00:00\", \"variable\": \"TA\", \"value\": 14.229999542236328, \"is_present\": false}, {\"time\": \"2000-06-15T18:30:00\", \"variable\": \"TA\", \"value\": 14.399999618530273, \"is_present\": true}, {\"time\": \"2000-06-15T19:00:00\", \"variable\": \"TA\", \"value\": 14.09000015258789, \"is_present\": true}, {\"time\": \"2000-06-15T19:30:00\", \"variable\": \"TA\", \"value\": 13.710000038146973, \"is_present\": true}, {\"time\": \"2000-06-15T20:00:00\", \"variable\": \"TA\", \"value\": 13.079999923706055, \"is_present\": true}, {\"time\": \"2000-06-15T20:30:00\", \"variable\": \"TA\", \"value\": 12.40999984741211, \"is_present\": true}, {\"time\": \"2000-06-15T21:00:00\", \"variable\": \"TA\", \"value\": 12.270000457763672, \"is_present\": true}, {\"time\": \"2000-06-15T21:30:00\", \"variable\": \"TA\", \"value\": 12.199999809265137, \"is_present\": true}, {\"time\": \"2000-06-15T17:00:00\", \"variable\": \"SW_IN\", \"value\": 224.8000030517578, \"is_present\": true}, {\"time\": \"2000-06-15T17:30:00\", \"variable\": \"SW_IN\", \"value\": 195.27999877929688, \"is_present\": false}, {\"time\": \"2000-06-15T18:00:00\", \"variable\": \"SW_IN\", \"value\": 244.1699981689453, \"is_present\": false}, {\"time\": \"2000-06-15T18:30:00\", \"variable\": \"SW_IN\", \"value\": 253.9199981689453, \"is_present\": true}, {\"time\": \"2000-06-15T19:00:00\", \"variable\": \"SW_IN\", \"value\": 177.30999755859375, \"is_present\": true}, {\"time\": \"2000-06-15T19:30:00\", \"variable\": \"SW_IN\", \"value\": 97.06999969482422, \"is_present\": true}, {\"time\": \"2000-06-15T20:00:00\", \"variable\": \"SW_IN\", \"value\": 39.709999084472656, \"is_present\": true}, {\"time\": \"2000-06-15T20:30:00\", \"variable\": \"SW_IN\", \"value\": 10.649999618530273, \"is_present\": true}, {\"time\": \"2000-06-15T21:00:00\", \"variable\": \"SW_IN\", \"value\": 0.3199999928474426, \"is_present\": true}, {\"time\": \"2000-06-15T21:30:00\", \"variable\": \"SW_IN\", \"value\": 0.0, \"is_present\": true}, {\"time\": \"2000-06-15T17:00:00\", \"variable\": \"VPD\", \"value\": 5.798999786376953, \"is_present\": true}, {\"time\": \"2000-06-15T17:30:00\", \"variable\": \"VPD\", \"value\": 6.577000141143799, \"is_present\": true}, {\"time\": \"2000-06-15T18:00:00\", \"variable\": \"VPD\", \"value\": 6.931000232696533, \"is_present\": true}, {\"time\": \"2000-06-15T18:30:00\", \"variable\": \"VPD\", \"value\": 7.285999774932861, \"is_present\": true}, {\"time\": \"2000-06-15T19:00:00\", \"variable\": \"VPD\", \"value\": 7.250999927520752, \"is_present\": true}, {\"time\": \"2000-06-15T19:30:00\", \"variable\": \"VPD\", \"value\": 6.683000087738037, \"is_present\": true}, {\"time\": \"2000-06-15T20:00:00\", \"variable\": \"VPD\", \"value\": 5.85099983215332, \"is_present\": true}, {\"time\": \"2000-06-15T20:30:00\", \"variable\": \"VPD\", \"value\": 5.254000186920166, \"is_present\": true}, {\"time\": \"2000-06-15T21:00:00\", \"variable\": \"VPD\", \"value\": 5.164000034332275, \"is_present\": true}, {\"time\": \"2000-06-15T21:30:00\", \"variable\": \"VPD\", \"value\": 5.0370001792907715, \"is_present\": true}]}}, {\"mode\": \"vega-lite\"});\n",
       "</script>"
      ],
      "text/plain": [
       "alt.Chart(...)"
      ]
     },
     "execution_count": null,
     "metadata": {},
     "output_type": "execute_result"
    }
   ],
   "source": [
    "plot_points(m_df.tidy())"
   ]
  },
  {
   "cell_type": "markdown",
   "id": "ffc03c27-03d9-4a0f-9438-a6aaab415f8b",
   "metadata": {},
   "source": [
    "##### Line"
   ]
  },
  {
   "cell_type": "code",
   "execution_count": null,
   "id": "e7f9912e-eee1-40a6-9eb3-4b010a5278c5",
   "metadata": {},
   "outputs": [],
   "source": [
    "#| exporti\n",
    "def plot_line(df, only_present=True, y=\"value\", y_label = \"\", sel = def_selection(), props = {}):\n",
    "    # df = df[df.is_present] if only_present else df\n",
    "    # TODO remove onle_present\n",
    "    return alt.Chart(df).mark_line().encode(\n",
    "        x = \"time\",    \n",
    "        y = alt.Y(y, title = y_label, scale=alt.Scale(zero=False)),\n",
    "        color='variable'\n",
    "    ).add_params(\n",
    "        sel\n",
    "    ).properties(\n",
    "        **props\n",
    "    )#.transform_filter(\n",
    "    #     datum.is_present\n",
    "    # )\n",
    "\n",
    "    "
   ]
  },
  {
   "cell_type": "code",
   "execution_count": null,
   "id": "c4723d86-f673-4cfa-ae8a-58fcc542930a",
   "metadata": {},
   "outputs": [
    {
     "data": {
      "text/html": [
       "\n",
       "<div id=\"altair-viz-f22a480200dd49baa2e46f288c164efc\"></div>\n",
       "<script type=\"text/javascript\">\n",
       "  var VEGA_DEBUG = (typeof VEGA_DEBUG == \"undefined\") ? {} : VEGA_DEBUG;\n",
       "  (function(spec, embedOpt){\n",
       "    let outputDiv = document.currentScript.previousElementSibling;\n",
       "    if (outputDiv.id !== \"altair-viz-f22a480200dd49baa2e46f288c164efc\") {\n",
       "      outputDiv = document.getElementById(\"altair-viz-f22a480200dd49baa2e46f288c164efc\");\n",
       "    }\n",
       "    const paths = {\n",
       "      \"vega\": \"https://cdn.jsdelivr.net/npm//vega@5?noext\",\n",
       "      \"vega-lib\": \"https://cdn.jsdelivr.net/npm//vega-lib?noext\",\n",
       "      \"vega-lite\": \"https://cdn.jsdelivr.net/npm//vega-lite@5.2.0?noext\",\n",
       "      \"vega-embed\": \"https://cdn.jsdelivr.net/npm//vega-embed@6?noext\",\n",
       "    };\n",
       "\n",
       "    function maybeLoadScript(lib, version) {\n",
       "      var key = `${lib.replace(\"-\", \"\")}_version`;\n",
       "      return (VEGA_DEBUG[key] == version) ?\n",
       "        Promise.resolve(paths[lib]) :\n",
       "        new Promise(function(resolve, reject) {\n",
       "          var s = document.createElement('script');\n",
       "          document.getElementsByTagName(\"head\")[0].appendChild(s);\n",
       "          s.async = true;\n",
       "          s.onload = () => {\n",
       "            VEGA_DEBUG[key] = version;\n",
       "            return resolve(paths[lib]);\n",
       "          };\n",
       "          s.onerror = () => reject(`Error loading script: ${paths[lib]}`);\n",
       "          s.src = paths[lib];\n",
       "        });\n",
       "    }\n",
       "\n",
       "    function showError(err) {\n",
       "      outputDiv.innerHTML = `<div class=\"error\" style=\"color:red;\">${err}</div>`;\n",
       "      throw err;\n",
       "    }\n",
       "\n",
       "    function displayChart(vegaEmbed) {\n",
       "      vegaEmbed(outputDiv, spec, embedOpt)\n",
       "        .catch(err => showError(`Javascript Error: ${err.message}<br>This usually means there's a typo in your chart specification. See the javascript console for the full traceback.`));\n",
       "    }\n",
       "\n",
       "    if(typeof define === \"function\" && define.amd) {\n",
       "      requirejs.config({paths});\n",
       "      require([\"vega-embed\"], displayChart, err => showError(`Error loading script: ${err.message}`));\n",
       "    } else {\n",
       "      maybeLoadScript(\"vega\", \"5\")\n",
       "        .then(() => maybeLoadScript(\"vega-lite\", \"5.2.0\"))\n",
       "        .then(() => maybeLoadScript(\"vega-embed\", \"6\"))\n",
       "        .catch(showError)\n",
       "        .then(() => displayChart(vegaEmbed));\n",
       "    }\n",
       "  })({\"config\": {\"view\": {\"continuousWidth\": 400, \"continuousHeight\": 300}}, \"data\": {\"name\": \"data-3db2996ac3d1e25158d36823c9230040\"}, \"mark\": \"line\", \"encoding\": {\"color\": {\"field\": \"variable\", \"type\": \"nominal\"}, \"x\": {\"field\": \"time\", \"type\": \"temporal\"}, \"y\": {\"field\": \"value\", \"scale\": {\"zero\": false}, \"title\": \"\", \"type\": \"quantitative\"}}, \"params\": [{\"name\": \"param_4\", \"select\": {\"type\": \"interval\"}, \"bind\": \"scales\"}], \"$schema\": \"https://vega.github.io/schema/vega-lite/v5.2.0.json\", \"datasets\": {\"data-3db2996ac3d1e25158d36823c9230040\": [{\"time\": \"2000-06-15T17:00:00\", \"variable\": \"TA\", \"value\": 14.220000267028809, \"is_present\": true}, {\"time\": \"2000-06-15T17:30:00\", \"variable\": \"TA\", \"value\": 14.109999656677246, \"is_present\": false}, {\"time\": \"2000-06-15T18:00:00\", \"variable\": \"TA\", \"value\": 14.229999542236328, \"is_present\": false}, {\"time\": \"2000-06-15T18:30:00\", \"variable\": \"TA\", \"value\": 14.399999618530273, \"is_present\": true}, {\"time\": \"2000-06-15T19:00:00\", \"variable\": \"TA\", \"value\": 14.09000015258789, \"is_present\": true}, {\"time\": \"2000-06-15T19:30:00\", \"variable\": \"TA\", \"value\": 13.710000038146973, \"is_present\": true}, {\"time\": \"2000-06-15T20:00:00\", \"variable\": \"TA\", \"value\": 13.079999923706055, \"is_present\": true}, {\"time\": \"2000-06-15T20:30:00\", \"variable\": \"TA\", \"value\": 12.40999984741211, \"is_present\": true}, {\"time\": \"2000-06-15T21:00:00\", \"variable\": \"TA\", \"value\": 12.270000457763672, \"is_present\": true}, {\"time\": \"2000-06-15T21:30:00\", \"variable\": \"TA\", \"value\": 12.199999809265137, \"is_present\": true}, {\"time\": \"2000-06-15T17:00:00\", \"variable\": \"SW_IN\", \"value\": 224.8000030517578, \"is_present\": true}, {\"time\": \"2000-06-15T17:30:00\", \"variable\": \"SW_IN\", \"value\": 195.27999877929688, \"is_present\": false}, {\"time\": \"2000-06-15T18:00:00\", \"variable\": \"SW_IN\", \"value\": 244.1699981689453, \"is_present\": false}, {\"time\": \"2000-06-15T18:30:00\", \"variable\": \"SW_IN\", \"value\": 253.9199981689453, \"is_present\": true}, {\"time\": \"2000-06-15T19:00:00\", \"variable\": \"SW_IN\", \"value\": 177.30999755859375, \"is_present\": true}, {\"time\": \"2000-06-15T19:30:00\", \"variable\": \"SW_IN\", \"value\": 97.06999969482422, \"is_present\": true}, {\"time\": \"2000-06-15T20:00:00\", \"variable\": \"SW_IN\", \"value\": 39.709999084472656, \"is_present\": true}, {\"time\": \"2000-06-15T20:30:00\", \"variable\": \"SW_IN\", \"value\": 10.649999618530273, \"is_present\": true}, {\"time\": \"2000-06-15T21:00:00\", \"variable\": \"SW_IN\", \"value\": 0.3199999928474426, \"is_present\": true}, {\"time\": \"2000-06-15T21:30:00\", \"variable\": \"SW_IN\", \"value\": 0.0, \"is_present\": true}, {\"time\": \"2000-06-15T17:00:00\", \"variable\": \"VPD\", \"value\": 5.798999786376953, \"is_present\": true}, {\"time\": \"2000-06-15T17:30:00\", \"variable\": \"VPD\", \"value\": 6.577000141143799, \"is_present\": true}, {\"time\": \"2000-06-15T18:00:00\", \"variable\": \"VPD\", \"value\": 6.931000232696533, \"is_present\": true}, {\"time\": \"2000-06-15T18:30:00\", \"variable\": \"VPD\", \"value\": 7.285999774932861, \"is_present\": true}, {\"time\": \"2000-06-15T19:00:00\", \"variable\": \"VPD\", \"value\": 7.250999927520752, \"is_present\": true}, {\"time\": \"2000-06-15T19:30:00\", \"variable\": \"VPD\", \"value\": 6.683000087738037, \"is_present\": true}, {\"time\": \"2000-06-15T20:00:00\", \"variable\": \"VPD\", \"value\": 5.85099983215332, \"is_present\": true}, {\"time\": \"2000-06-15T20:30:00\", \"variable\": \"VPD\", \"value\": 5.254000186920166, \"is_present\": true}, {\"time\": \"2000-06-15T21:00:00\", \"variable\": \"VPD\", \"value\": 5.164000034332275, \"is_present\": true}, {\"time\": \"2000-06-15T21:30:00\", \"variable\": \"VPD\", \"value\": 5.0370001792907715, \"is_present\": true}]}}, {\"mode\": \"vega-lite\"});\n",
       "</script>"
      ],
      "text/plain": [
       "alt.Chart(...)"
      ]
     },
     "execution_count": null,
     "metadata": {},
     "output_type": "execute_result"
    }
   ],
   "source": [
    "plot_line(m_df.tidy())"
   ]
  },
  {
   "cell_type": "markdown",
   "id": "78d98d63-401b-4a09-a0f1-665342fef64e",
   "metadata": {},
   "source": [
    "##### Errorband"
   ]
  },
  {
   "cell_type": "code",
   "execution_count": null,
   "id": "b31874c2-bc64-4c07-b67b-c67ecb0f3598",
   "metadata": {},
   "outputs": [],
   "source": [
    "#| exporti\n",
    "def plot_error(df, y = \"value\", y_label = \"\", sel = def_selection(), props = {}):\n",
    "    df.loc[:,'err_low'] = df[y] - 2 * df['std']\n",
    "    df.loc[:,'err_high'] = df[y] + 2 * df['std']\n",
    "    return alt.Chart(df).mark_errorband().encode(\n",
    "        x = \"time\",    \n",
    "        y = alt.Y(\"err_low:Q\", title = y_label, scale=alt.Scale(zero=False)),\n",
    "        y2 = \"err_high:Q\",\n",
    "        color=alt.Color(\"variable\",\n",
    "                        legend = alt.Legend(title=[\"Line: pred. mean\", \"area: +/- 2 std\"])\n",
    "                       )\n",
    "    ).add_params(\n",
    "        sel\n",
    "    ).properties(\n",
    "        **props\n",
    "    )\n",
    "    "
   ]
  },
  {
   "cell_type": "code",
   "execution_count": null,
   "id": "bbe34b69-dc5c-4b9e-bb24-dffcd7638686",
   "metadata": {},
   "outputs": [
    {
     "data": {
      "text/html": [
       "\n",
       "<div id=\"altair-viz-94a5c635c44e400c8cdc166511a6e41d\"></div>\n",
       "<script type=\"text/javascript\">\n",
       "  var VEGA_DEBUG = (typeof VEGA_DEBUG == \"undefined\") ? {} : VEGA_DEBUG;\n",
       "  (function(spec, embedOpt){\n",
       "    let outputDiv = document.currentScript.previousElementSibling;\n",
       "    if (outputDiv.id !== \"altair-viz-94a5c635c44e400c8cdc166511a6e41d\") {\n",
       "      outputDiv = document.getElementById(\"altair-viz-94a5c635c44e400c8cdc166511a6e41d\");\n",
       "    }\n",
       "    const paths = {\n",
       "      \"vega\": \"https://cdn.jsdelivr.net/npm//vega@5?noext\",\n",
       "      \"vega-lib\": \"https://cdn.jsdelivr.net/npm//vega-lib?noext\",\n",
       "      \"vega-lite\": \"https://cdn.jsdelivr.net/npm//vega-lite@5.2.0?noext\",\n",
       "      \"vega-embed\": \"https://cdn.jsdelivr.net/npm//vega-embed@6?noext\",\n",
       "    };\n",
       "\n",
       "    function maybeLoadScript(lib, version) {\n",
       "      var key = `${lib.replace(\"-\", \"\")}_version`;\n",
       "      return (VEGA_DEBUG[key] == version) ?\n",
       "        Promise.resolve(paths[lib]) :\n",
       "        new Promise(function(resolve, reject) {\n",
       "          var s = document.createElement('script');\n",
       "          document.getElementsByTagName(\"head\")[0].appendChild(s);\n",
       "          s.async = true;\n",
       "          s.onload = () => {\n",
       "            VEGA_DEBUG[key] = version;\n",
       "            return resolve(paths[lib]);\n",
       "          };\n",
       "          s.onerror = () => reject(`Error loading script: ${paths[lib]}`);\n",
       "          s.src = paths[lib];\n",
       "        });\n",
       "    }\n",
       "\n",
       "    function showError(err) {\n",
       "      outputDiv.innerHTML = `<div class=\"error\" style=\"color:red;\">${err}</div>`;\n",
       "      throw err;\n",
       "    }\n",
       "\n",
       "    function displayChart(vegaEmbed) {\n",
       "      vegaEmbed(outputDiv, spec, embedOpt)\n",
       "        .catch(err => showError(`Javascript Error: ${err.message}<br>This usually means there's a typo in your chart specification. See the javascript console for the full traceback.`));\n",
       "    }\n",
       "\n",
       "    if(typeof define === \"function\" && define.amd) {\n",
       "      requirejs.config({paths});\n",
       "      require([\"vega-embed\"], displayChart, err => showError(`Error loading script: ${err.message}`));\n",
       "    } else {\n",
       "      maybeLoadScript(\"vega\", \"5\")\n",
       "        .then(() => maybeLoadScript(\"vega-lite\", \"5.2.0\"))\n",
       "        .then(() => maybeLoadScript(\"vega-embed\", \"6\"))\n",
       "        .catch(showError)\n",
       "        .then(() => displayChart(vegaEmbed));\n",
       "    }\n",
       "  })({\"config\": {\"view\": {\"continuousWidth\": 400, \"continuousHeight\": 300}}, \"data\": {\"name\": \"data-b3bfeadaa3f4605e201a73bafd4517b4\"}, \"mark\": \"errorband\", \"encoding\": {\"color\": {\"field\": \"variable\", \"legend\": {\"title\": [\"Line: pred. mean\", \"area: +/- 2 std\"]}, \"type\": \"nominal\"}, \"x\": {\"field\": \"time\", \"type\": \"temporal\"}, \"y\": {\"field\": \"err_low\", \"scale\": {\"zero\": false}, \"title\": \"\", \"type\": \"quantitative\"}, \"y2\": {\"field\": \"err_high\"}}, \"params\": [{\"name\": \"param_5\", \"select\": {\"type\": \"interval\"}, \"bind\": \"scales\"}], \"$schema\": \"https://vega.github.io/schema/vega-lite/v5.2.0.json\", \"datasets\": {\"data-b3bfeadaa3f4605e201a73bafd4517b4\": [{\"time\": \"2000-06-15T17:00:00\", \"variable\": \"TA\", \"value\": 14.220000267028809, \"is_present\": true, \"std\": 5, \"err_low\": 4.220000267028809, \"err_high\": 24.22000026702881}, {\"time\": \"2000-06-15T17:30:00\", \"variable\": \"TA\", \"value\": 14.109999656677246, \"is_present\": false, \"std\": 5, \"err_low\": 4.109999656677246, \"err_high\": 24.109999656677246}, {\"time\": \"2000-06-15T18:00:00\", \"variable\": \"TA\", \"value\": 14.229999542236328, \"is_present\": false, \"std\": 5, \"err_low\": 4.229999542236328, \"err_high\": 24.229999542236328}, {\"time\": \"2000-06-15T18:30:00\", \"variable\": \"TA\", \"value\": 14.399999618530273, \"is_present\": true, \"std\": 5, \"err_low\": 4.399999618530273, \"err_high\": 24.399999618530273}, {\"time\": \"2000-06-15T19:00:00\", \"variable\": \"TA\", \"value\": 14.09000015258789, \"is_present\": true, \"std\": 5, \"err_low\": 4.090000152587891, \"err_high\": 24.09000015258789}, {\"time\": \"2000-06-15T19:30:00\", \"variable\": \"TA\", \"value\": 13.710000038146973, \"is_present\": true, \"std\": 5, \"err_low\": 3.7100000381469727, \"err_high\": 23.710000038146973}, {\"time\": \"2000-06-15T20:00:00\", \"variable\": \"TA\", \"value\": 13.079999923706055, \"is_present\": true, \"std\": 5, \"err_low\": 3.0799999237060547, \"err_high\": 23.079999923706055}, {\"time\": \"2000-06-15T20:30:00\", \"variable\": \"TA\", \"value\": 12.40999984741211, \"is_present\": true, \"std\": 5, \"err_low\": 2.4099998474121094, \"err_high\": 22.40999984741211}, {\"time\": \"2000-06-15T21:00:00\", \"variable\": \"TA\", \"value\": 12.270000457763672, \"is_present\": true, \"std\": 5, \"err_low\": 2.270000457763672, \"err_high\": 22.270000457763672}, {\"time\": \"2000-06-15T21:30:00\", \"variable\": \"TA\", \"value\": 12.199999809265137, \"is_present\": true, \"std\": 5, \"err_low\": 2.1999998092651367, \"err_high\": 22.199999809265137}, {\"time\": \"2000-06-15T17:00:00\", \"variable\": \"SW_IN\", \"value\": 224.8000030517578, \"is_present\": true, \"std\": 5, \"err_low\": 214.8000030517578, \"err_high\": 234.8000030517578}, {\"time\": \"2000-06-15T17:30:00\", \"variable\": \"SW_IN\", \"value\": 195.27999877929688, \"is_present\": false, \"std\": 5, \"err_low\": 185.27999877929688, \"err_high\": 205.27999877929688}, {\"time\": \"2000-06-15T18:00:00\", \"variable\": \"SW_IN\", \"value\": 244.1699981689453, \"is_present\": false, \"std\": 5, \"err_low\": 234.1699981689453, \"err_high\": 254.1699981689453}, {\"time\": \"2000-06-15T18:30:00\", \"variable\": \"SW_IN\", \"value\": 253.9199981689453, \"is_present\": true, \"std\": 5, \"err_low\": 243.9199981689453, \"err_high\": 263.9199981689453}, {\"time\": \"2000-06-15T19:00:00\", \"variable\": \"SW_IN\", \"value\": 177.30999755859375, \"is_present\": true, \"std\": 5, \"err_low\": 167.30999755859375, \"err_high\": 187.30999755859375}, {\"time\": \"2000-06-15T19:30:00\", \"variable\": \"SW_IN\", \"value\": 97.06999969482422, \"is_present\": true, \"std\": 5, \"err_low\": 87.06999969482422, \"err_high\": 107.06999969482422}, {\"time\": \"2000-06-15T20:00:00\", \"variable\": \"SW_IN\", \"value\": 39.709999084472656, \"is_present\": true, \"std\": 5, \"err_low\": 29.709999084472656, \"err_high\": 49.709999084472656}, {\"time\": \"2000-06-15T20:30:00\", \"variable\": \"SW_IN\", \"value\": 10.649999618530273, \"is_present\": true, \"std\": 5, \"err_low\": 0.6499996185302734, \"err_high\": 20.649999618530273}, {\"time\": \"2000-06-15T21:00:00\", \"variable\": \"SW_IN\", \"value\": 0.3199999928474426, \"is_present\": true, \"std\": 5, \"err_low\": -9.680000007152557, \"err_high\": 10.319999992847443}, {\"time\": \"2000-06-15T21:30:00\", \"variable\": \"SW_IN\", \"value\": 0.0, \"is_present\": true, \"std\": 5, \"err_low\": -10.0, \"err_high\": 10.0}, {\"time\": \"2000-06-15T17:00:00\", \"variable\": \"VPD\", \"value\": 5.798999786376953, \"is_present\": true, \"std\": 5, \"err_low\": -4.201000213623047, \"err_high\": 15.798999786376953}, {\"time\": \"2000-06-15T17:30:00\", \"variable\": \"VPD\", \"value\": 6.577000141143799, \"is_present\": true, \"std\": 5, \"err_low\": -3.422999858856201, \"err_high\": 16.5770001411438}, {\"time\": \"2000-06-15T18:00:00\", \"variable\": \"VPD\", \"value\": 6.931000232696533, \"is_present\": true, \"std\": 5, \"err_low\": -3.068999767303467, \"err_high\": 16.931000232696533}, {\"time\": \"2000-06-15T18:30:00\", \"variable\": \"VPD\", \"value\": 7.285999774932861, \"is_present\": true, \"std\": 5, \"err_low\": -2.7140002250671387, \"err_high\": 17.28599977493286}, {\"time\": \"2000-06-15T19:00:00\", \"variable\": \"VPD\", \"value\": 7.250999927520752, \"is_present\": true, \"std\": 5, \"err_low\": -2.749000072479248, \"err_high\": 17.250999927520752}, {\"time\": \"2000-06-15T19:30:00\", \"variable\": \"VPD\", \"value\": 6.683000087738037, \"is_present\": true, \"std\": 5, \"err_low\": -3.316999912261963, \"err_high\": 16.683000087738037}, {\"time\": \"2000-06-15T20:00:00\", \"variable\": \"VPD\", \"value\": 5.85099983215332, \"is_present\": true, \"std\": 5, \"err_low\": -4.14900016784668, \"err_high\": 15.85099983215332}, {\"time\": \"2000-06-15T20:30:00\", \"variable\": \"VPD\", \"value\": 5.254000186920166, \"is_present\": true, \"std\": 5, \"err_low\": -4.745999813079834, \"err_high\": 15.254000186920166}, {\"time\": \"2000-06-15T21:00:00\", \"variable\": \"VPD\", \"value\": 5.164000034332275, \"is_present\": true, \"std\": 5, \"err_low\": -4.835999965667725, \"err_high\": 15.164000034332275}, {\"time\": \"2000-06-15T21:30:00\", \"variable\": \"VPD\", \"value\": 5.0370001792907715, \"is_present\": true, \"std\": 5, \"err_low\": -4.9629998207092285, \"err_high\": 15.037000179290771}]}}, {\"mode\": \"vega-lite\"});\n",
       "</script>"
      ],
      "text/plain": [
       "alt.Chart(...)"
      ]
     },
     "execution_count": null,
     "metadata": {},
     "output_type": "execute_result"
    }
   ],
   "source": [
    "plot_error(m_df.tidy().assign(std=5))"
   ]
  },
  {
   "cell_type": "markdown",
   "id": "1fe0fa10-e1d7-44c1-8979-8f06bf243fc0",
   "metadata": {},
   "source": [
    "##### Variable"
   ]
  },
  {
   "cell_type": "code",
   "execution_count": null,
   "id": "a26f136e-c919-4083-bad9-e40f2b4996bd",
   "metadata": {},
   "outputs": [],
   "source": [
    "#| exporti\n",
    "def plot_variable(df, variable, ys=[\"value\", \"value\"], title=\"\", y_label=\"\", sel = None, error=False, props = {}):\n",
    "    df = df[df.variable == variable].copy()\n",
    "    sel = ifnone(sel, def_selection())\n",
    "    # rug = plot_rug(df, sel, props)\n",
    "    points = plot_points(df, ys[0], y_label, sel, props)\n",
    "    if not df.is_present.all(): points += plot_missing_area(df, sel, props) # there is a gap\n",
    "    line = plot_line(df, True, ys[1], y_label, sel, props)\n",
    "    if error: line = plot_error(df, y=ys[1], y_label=y_label, sel=sel, props=props) + line\n",
    "    \n",
    "    return (points + line).properties(title=title)\n",
    "    \n",
    "    # return alt.VConcatChart(vconcat=[(points + line), rug], spacing=-10).properties(title=title)"
   ]
  },
  {
   "cell_type": "code",
   "execution_count": null,
   "id": "fa1c1f39-0db0-4842-bada-da41eacd9ac6",
   "metadata": {},
   "outputs": [
    {
     "data": {
      "text/html": [
       "\n",
       "<div id=\"altair-viz-0a42ce5607f74240a634019c8d119549\"></div>\n",
       "<script type=\"text/javascript\">\n",
       "  var VEGA_DEBUG = (typeof VEGA_DEBUG == \"undefined\") ? {} : VEGA_DEBUG;\n",
       "  (function(spec, embedOpt){\n",
       "    let outputDiv = document.currentScript.previousElementSibling;\n",
       "    if (outputDiv.id !== \"altair-viz-0a42ce5607f74240a634019c8d119549\") {\n",
       "      outputDiv = document.getElementById(\"altair-viz-0a42ce5607f74240a634019c8d119549\");\n",
       "    }\n",
       "    const paths = {\n",
       "      \"vega\": \"https://cdn.jsdelivr.net/npm//vega@5?noext\",\n",
       "      \"vega-lib\": \"https://cdn.jsdelivr.net/npm//vega-lib?noext\",\n",
       "      \"vega-lite\": \"https://cdn.jsdelivr.net/npm//vega-lite@5.2.0?noext\",\n",
       "      \"vega-embed\": \"https://cdn.jsdelivr.net/npm//vega-embed@6?noext\",\n",
       "    };\n",
       "\n",
       "    function maybeLoadScript(lib, version) {\n",
       "      var key = `${lib.replace(\"-\", \"\")}_version`;\n",
       "      return (VEGA_DEBUG[key] == version) ?\n",
       "        Promise.resolve(paths[lib]) :\n",
       "        new Promise(function(resolve, reject) {\n",
       "          var s = document.createElement('script');\n",
       "          document.getElementsByTagName(\"head\")[0].appendChild(s);\n",
       "          s.async = true;\n",
       "          s.onload = () => {\n",
       "            VEGA_DEBUG[key] = version;\n",
       "            return resolve(paths[lib]);\n",
       "          };\n",
       "          s.onerror = () => reject(`Error loading script: ${paths[lib]}`);\n",
       "          s.src = paths[lib];\n",
       "        });\n",
       "    }\n",
       "\n",
       "    function showError(err) {\n",
       "      outputDiv.innerHTML = `<div class=\"error\" style=\"color:red;\">${err}</div>`;\n",
       "      throw err;\n",
       "    }\n",
       "\n",
       "    function displayChart(vegaEmbed) {\n",
       "      vegaEmbed(outputDiv, spec, embedOpt)\n",
       "        .catch(err => showError(`Javascript Error: ${err.message}<br>This usually means there's a typo in your chart specification. See the javascript console for the full traceback.`));\n",
       "    }\n",
       "\n",
       "    if(typeof define === \"function\" && define.amd) {\n",
       "      requirejs.config({paths});\n",
       "      require([\"vega-embed\"], displayChart, err => showError(`Error loading script: ${err.message}`));\n",
       "    } else {\n",
       "      maybeLoadScript(\"vega\", \"5\")\n",
       "        .then(() => maybeLoadScript(\"vega-lite\", \"5.2.0\"))\n",
       "        .then(() => maybeLoadScript(\"vega-embed\", \"6\"))\n",
       "        .catch(showError)\n",
       "        .then(() => displayChart(vegaEmbed));\n",
       "    }\n",
       "  })({\"config\": {\"view\": {\"continuousWidth\": 400, \"continuousHeight\": 300}}, \"layer\": [{\"data\": {\"name\": \"data-68ea87d77c85fcd128943e4946aabb22\"}, \"mark\": {\"type\": \"point\", \"color\": \"black\", \"fillOpacity\": 1, \"strokeWidth\": 1}, \"encoding\": {\"fill\": {\"field\": \"is_present\", \"legend\": {\"title\": [\"Observed data\"]}, \"scale\": {\"range\": [\"black\", \"#ffffff00\"]}, \"type\": \"nominal\"}, \"shape\": {\"field\": \"is_present\", \"type\": \"nominal\"}, \"x\": {\"axis\": {\"domain\": true, \"labels\": true, \"ticks\": true, \"title\": \"time\"}, \"field\": \"time\", \"type\": \"temporal\"}, \"y\": {\"field\": \"value\", \"scale\": {\"zero\": false}, \"title\": \"\", \"type\": \"quantitative\"}}}, {\"layer\": [{\"mark\": \"rule\", \"encoding\": {\"x\": {\"axis\": {\"domain\": false, \"labels\": false, \"ticks\": false, \"title\": null}, \"field\": \"gap_start\", \"type\": \"temporal\"}}}, {\"mark\": \"rule\", \"encoding\": {\"x\": {\"axis\": {\"domain\": false, \"labels\": false, \"ticks\": false, \"title\": null}, \"field\": \"gap_end\", \"type\": \"temporal\"}}}, {\"mark\": {\"type\": \"rect\", \"color\": \"black\", \"opacity\": 0.15}, \"encoding\": {\"x\": {\"axis\": {\"domain\": false, \"labels\": false, \"ticks\": false, \"title\": null}, \"field\": \"gap_start\", \"type\": \"temporal\"}, \"x2\": {\"field\": \"gap_end\"}}}], \"data\": {\"name\": \"data-c8182dc3db8067cf5aaf76e1a132f712\"}}, {\"data\": {\"name\": \"data-68ea87d77c85fcd128943e4946aabb22\"}, \"mark\": \"line\", \"encoding\": {\"color\": {\"field\": \"variable\", \"type\": \"nominal\"}, \"x\": {\"field\": \"time\", \"type\": \"temporal\"}, \"y\": {\"field\": \"value\", \"scale\": {\"zero\": false}, \"title\": \"\", \"type\": \"quantitative\"}}, \"name\": \"view_1\"}], \"params\": [{\"name\": \"param_6\", \"select\": {\"type\": \"interval\"}, \"bind\": \"scales\", \"views\": [\"view_1\"]}], \"title\": \"title TA\", \"$schema\": \"https://vega.github.io/schema/vega-lite/v5.2.0.json\", \"datasets\": {\"data-68ea87d77c85fcd128943e4946aabb22\": [{\"time\": \"2000-06-15T17:00:00\", \"variable\": \"TA\", \"value\": 14.220000267028809, \"is_present\": true}, {\"time\": \"2000-06-15T17:30:00\", \"variable\": \"TA\", \"value\": 14.109999656677246, \"is_present\": false}, {\"time\": \"2000-06-15T18:00:00\", \"variable\": \"TA\", \"value\": 14.229999542236328, \"is_present\": false}, {\"time\": \"2000-06-15T18:30:00\", \"variable\": \"TA\", \"value\": 14.399999618530273, \"is_present\": true}, {\"time\": \"2000-06-15T19:00:00\", \"variable\": \"TA\", \"value\": 14.09000015258789, \"is_present\": true}, {\"time\": \"2000-06-15T19:30:00\", \"variable\": \"TA\", \"value\": 13.710000038146973, \"is_present\": true}, {\"time\": \"2000-06-15T20:00:00\", \"variable\": \"TA\", \"value\": 13.079999923706055, \"is_present\": true}, {\"time\": \"2000-06-15T20:30:00\", \"variable\": \"TA\", \"value\": 12.40999984741211, \"is_present\": true}, {\"time\": \"2000-06-15T21:00:00\", \"variable\": \"TA\", \"value\": 12.270000457763672, \"is_present\": true}, {\"time\": \"2000-06-15T21:30:00\", \"variable\": \"TA\", \"value\": 12.199999809265137, \"is_present\": true}], \"data-c8182dc3db8067cf5aaf76e1a132f712\": [{\"gap_start\": \"2000-06-15T17:30:00\", \"gap_end\": \"2000-06-15T18:00:00\"}]}}, {\"mode\": \"vega-lite\"});\n",
       "</script>"
      ],
      "text/plain": [
       "alt.LayerChart(...)"
      ]
     },
     "execution_count": null,
     "metadata": {},
     "output_type": "execute_result"
    }
   ],
   "source": [
    "plot_variable(m_df.tidy(), \"TA\", title=\"title TA\")"
   ]
  },
  {
   "cell_type": "code",
   "execution_count": null,
   "id": "a41576fd-91dc-44d9-bd01-f0877273a835",
   "metadata": {},
   "outputs": [
    {
     "data": {
      "text/html": [
       "\n",
       "<div id=\"altair-viz-a5d148be7aef49709e7e60d6bd2d0b45\"></div>\n",
       "<script type=\"text/javascript\">\n",
       "  var VEGA_DEBUG = (typeof VEGA_DEBUG == \"undefined\") ? {} : VEGA_DEBUG;\n",
       "  (function(spec, embedOpt){\n",
       "    let outputDiv = document.currentScript.previousElementSibling;\n",
       "    if (outputDiv.id !== \"altair-viz-a5d148be7aef49709e7e60d6bd2d0b45\") {\n",
       "      outputDiv = document.getElementById(\"altair-viz-a5d148be7aef49709e7e60d6bd2d0b45\");\n",
       "    }\n",
       "    const paths = {\n",
       "      \"vega\": \"https://cdn.jsdelivr.net/npm//vega@5?noext\",\n",
       "      \"vega-lib\": \"https://cdn.jsdelivr.net/npm//vega-lib?noext\",\n",
       "      \"vega-lite\": \"https://cdn.jsdelivr.net/npm//vega-lite@5.2.0?noext\",\n",
       "      \"vega-embed\": \"https://cdn.jsdelivr.net/npm//vega-embed@6?noext\",\n",
       "    };\n",
       "\n",
       "    function maybeLoadScript(lib, version) {\n",
       "      var key = `${lib.replace(\"-\", \"\")}_version`;\n",
       "      return (VEGA_DEBUG[key] == version) ?\n",
       "        Promise.resolve(paths[lib]) :\n",
       "        new Promise(function(resolve, reject) {\n",
       "          var s = document.createElement('script');\n",
       "          document.getElementsByTagName(\"head\")[0].appendChild(s);\n",
       "          s.async = true;\n",
       "          s.onload = () => {\n",
       "            VEGA_DEBUG[key] = version;\n",
       "            return resolve(paths[lib]);\n",
       "          };\n",
       "          s.onerror = () => reject(`Error loading script: ${paths[lib]}`);\n",
       "          s.src = paths[lib];\n",
       "        });\n",
       "    }\n",
       "\n",
       "    function showError(err) {\n",
       "      outputDiv.innerHTML = `<div class=\"error\" style=\"color:red;\">${err}</div>`;\n",
       "      throw err;\n",
       "    }\n",
       "\n",
       "    function displayChart(vegaEmbed) {\n",
       "      vegaEmbed(outputDiv, spec, embedOpt)\n",
       "        .catch(err => showError(`Javascript Error: ${err.message}<br>This usually means there's a typo in your chart specification. See the javascript console for the full traceback.`));\n",
       "    }\n",
       "\n",
       "    if(typeof define === \"function\" && define.amd) {\n",
       "      requirejs.config({paths});\n",
       "      require([\"vega-embed\"], displayChart, err => showError(`Error loading script: ${err.message}`));\n",
       "    } else {\n",
       "      maybeLoadScript(\"vega\", \"5\")\n",
       "        .then(() => maybeLoadScript(\"vega-lite\", \"5.2.0\"))\n",
       "        .then(() => maybeLoadScript(\"vega-embed\", \"6\"))\n",
       "        .catch(showError)\n",
       "        .then(() => displayChart(vegaEmbed));\n",
       "    }\n",
       "  })({\"config\": {\"view\": {\"continuousWidth\": 400, \"continuousHeight\": 300}}, \"layer\": [{\"data\": {\"name\": \"data-12f9ba415d1edade6081ec703f6f8683\"}, \"mark\": {\"type\": \"point\", \"color\": \"black\", \"fillOpacity\": 1, \"strokeWidth\": 1}, \"encoding\": {\"fill\": {\"field\": \"is_present\", \"legend\": {\"title\": [\"Observed data\"]}, \"scale\": {\"range\": [\"black\", \"#ffffff00\"]}, \"type\": \"nominal\"}, \"shape\": {\"field\": \"is_present\", \"type\": \"nominal\"}, \"x\": {\"axis\": {\"domain\": true, \"labels\": true, \"ticks\": true, \"title\": \"time\"}, \"field\": \"time\", \"type\": \"temporal\"}, \"y\": {\"field\": \"value\", \"scale\": {\"zero\": false}, \"title\": \"\", \"type\": \"quantitative\"}}}, {\"layer\": [{\"mark\": \"rule\", \"encoding\": {\"x\": {\"axis\": {\"domain\": false, \"labels\": false, \"ticks\": false, \"title\": null}, \"field\": \"gap_start\", \"type\": \"temporal\"}}}, {\"mark\": \"rule\", \"encoding\": {\"x\": {\"axis\": {\"domain\": false, \"labels\": false, \"ticks\": false, \"title\": null}, \"field\": \"gap_end\", \"type\": \"temporal\"}}}, {\"mark\": {\"type\": \"rect\", \"color\": \"black\", \"opacity\": 0.15}, \"encoding\": {\"x\": {\"axis\": {\"domain\": false, \"labels\": false, \"ticks\": false, \"title\": null}, \"field\": \"gap_start\", \"type\": \"temporal\"}, \"x2\": {\"field\": \"gap_end\"}}}], \"data\": {\"name\": \"data-c8182dc3db8067cf5aaf76e1a132f712\"}}, {\"layer\": [{\"mark\": \"errorband\", \"encoding\": {\"color\": {\"field\": \"variable\", \"legend\": {\"title\": [\"Line: pred. mean\", \"area: +/- 2 std\"]}, \"type\": \"nominal\"}, \"x\": {\"field\": \"time\", \"type\": \"temporal\"}, \"y\": {\"field\": \"err_low\", \"scale\": {\"zero\": false}, \"title\": \"\", \"type\": \"quantitative\"}, \"y2\": {\"field\": \"err_high\"}}, \"name\": \"view_2\"}, {\"mark\": \"line\", \"encoding\": {\"color\": {\"field\": \"variable\", \"type\": \"nominal\"}, \"x\": {\"field\": \"time\", \"type\": \"temporal\"}, \"y\": {\"field\": \"value\", \"scale\": {\"zero\": false}, \"title\": \"\", \"type\": \"quantitative\"}}}], \"data\": {\"name\": \"data-12f9ba415d1edade6081ec703f6f8683\"}}], \"params\": [{\"name\": \"param_7\", \"select\": {\"type\": \"interval\"}, \"bind\": \"scales\", \"views\": [\"view_2\"]}], \"title\": \"title TA\", \"$schema\": \"https://vega.github.io/schema/vega-lite/v5.2.0.json\", \"datasets\": {\"data-12f9ba415d1edade6081ec703f6f8683\": [{\"time\": \"2000-06-15T17:00:00\", \"variable\": \"TA\", \"value\": 14.220000267028809, \"is_present\": true, \"std\": 0.5, \"err_low\": 13.220000267028809, \"err_high\": 15.220000267028809}, {\"time\": \"2000-06-15T17:30:00\", \"variable\": \"TA\", \"value\": 14.109999656677246, \"is_present\": false, \"std\": 0.5, \"err_low\": 13.109999656677246, \"err_high\": 15.109999656677246}, {\"time\": \"2000-06-15T18:00:00\", \"variable\": \"TA\", \"value\": 14.229999542236328, \"is_present\": false, \"std\": 0.5, \"err_low\": 13.229999542236328, \"err_high\": 15.229999542236328}, {\"time\": \"2000-06-15T18:30:00\", \"variable\": \"TA\", \"value\": 14.399999618530273, \"is_present\": true, \"std\": 0.5, \"err_low\": 13.399999618530273, \"err_high\": 15.399999618530273}, {\"time\": \"2000-06-15T19:00:00\", \"variable\": \"TA\", \"value\": 14.09000015258789, \"is_present\": true, \"std\": 0.5, \"err_low\": 13.09000015258789, \"err_high\": 15.09000015258789}, {\"time\": \"2000-06-15T19:30:00\", \"variable\": \"TA\", \"value\": 13.710000038146973, \"is_present\": true, \"std\": 0.5, \"err_low\": 12.710000038146973, \"err_high\": 14.710000038146973}, {\"time\": \"2000-06-15T20:00:00\", \"variable\": \"TA\", \"value\": 13.079999923706055, \"is_present\": true, \"std\": 0.5, \"err_low\": 12.079999923706055, \"err_high\": 14.079999923706055}, {\"time\": \"2000-06-15T20:30:00\", \"variable\": \"TA\", \"value\": 12.40999984741211, \"is_present\": true, \"std\": 0.5, \"err_low\": 11.40999984741211, \"err_high\": 13.40999984741211}, {\"time\": \"2000-06-15T21:00:00\", \"variable\": \"TA\", \"value\": 12.270000457763672, \"is_present\": true, \"std\": 0.5, \"err_low\": 11.270000457763672, \"err_high\": 13.270000457763672}, {\"time\": \"2000-06-15T21:30:00\", \"variable\": \"TA\", \"value\": 12.199999809265137, \"is_present\": true, \"std\": 0.5, \"err_low\": 11.199999809265137, \"err_high\": 13.199999809265137}], \"data-c8182dc3db8067cf5aaf76e1a132f712\": [{\"gap_start\": \"2000-06-15T17:30:00\", \"gap_end\": \"2000-06-15T18:00:00\"}]}}, {\"mode\": \"vega-lite\"});\n",
       "</script>"
      ],
      "text/plain": [
       "alt.LayerChart(...)"
      ]
     },
     "execution_count": null,
     "metadata": {},
     "output_type": "execute_result"
    }
   ],
   "source": [
    "plot_variable(m_df.tidy().assign(std=.5), \"TA\", title=\"title TA\", error=True)"
   ]
  },
  {
   "cell_type": "markdown",
   "id": "1533116a-d9a2-4a23-9329-9f9357397e34",
   "metadata": {},
   "source": [
    "##### Facet"
   ]
  },
  {
   "cell_type": "code",
   "execution_count": null,
   "id": "df1cf2d7-d9de-48ff-9017-c20e31b7dd21",
   "metadata": {},
   "outputs": [],
   "source": [
    "#| export\n",
    "def facet_variable(df, # tidy dataframe\n",
    "                   n_cols: int = 3,\n",
    "                   bind_interaction: bool =True, # Whether the sub-plots for each variable should be connected for zooming/panning\n",
    "                   error:bool=False, # plot error bar\n",
    "                   ys:list=[\"value\", \"value\"],\n",
    "                   props:dict|None = None, # additional properties for altair plot (eg. size)\n",
    "                   ) -> alt.Chart:\n",
    "    \"\"\"Plot all values of the column `variable` in different subplots\"\"\"\n",
    "    props = ifnone(props, {'width': 200, 'height': 150})\n",
    "    vars = df.variable.unique()\n",
    "    plot_list = [alt.hconcat() for _ in range(0, len(vars), n_cols)]\n",
    "    selection_scale = alt.selection_interval(bind=\"scales\", encodings=['x']) if bind_interaction else None\n",
    "    for idx, variable in enumerate(vars):\n",
    "        plot = plot_variable(df,\n",
    "                            variable,\n",
    "                            ys = ys,\n",
    "                            title = variable,\n",
    "                            y_label = variable,\n",
    "                            sel = selection_scale,\n",
    "                            props=props,\n",
    "                            error=error)\n",
    "        \n",
    "        plot_list[idx // n_cols] |= plot\n",
    "    \n",
    "    plot = alt.vconcat(*plot_list)\n",
    "    \n",
    "    return plot"
   ]
  },
  {
   "cell_type": "markdown",
   "id": "14d74f32-66a2-4002-a3a0-41bd6b5e2957",
   "metadata": {},
   "source": [
    "##### Show"
   ]
  },
  {
   "cell_type": "code",
   "execution_count": null,
   "id": "1787dc1e-cf5f-479b-9173-eaaf2643fd77",
   "metadata": {},
   "outputs": [],
   "source": [
    "#| export\n",
    "@patch\n",
    "def show(self: MeteoImpDf, ax=None, ctx=None, \n",
    "        n_cols: int = 3,\n",
    "        bind_interaction: bool =True, # Whether the sub-plots for each variable should be connected for zooming/panning\n",
    "        props:dict = None # additional properties (eg. size) for altair plot\n",
    "       ) -> alt.Chart:\n",
    "    \n",
    "    df = self.tidy()\n",
    "    return facet_variable(df, n_cols, bind_interaction, props)"
   ]
  },
  {
   "cell_type": "code",
   "execution_count": null,
   "id": "6c56115a-5127-473f-be9e-57df2f958496",
   "metadata": {},
   "outputs": [
    {
     "data": {
      "text/html": [
       "\n",
       "<div id=\"altair-viz-0c29ce4efe2a4b90a50feaef222de412\"></div>\n",
       "<script type=\"text/javascript\">\n",
       "  var VEGA_DEBUG = (typeof VEGA_DEBUG == \"undefined\") ? {} : VEGA_DEBUG;\n",
       "  (function(spec, embedOpt){\n",
       "    let outputDiv = document.currentScript.previousElementSibling;\n",
       "    if (outputDiv.id !== \"altair-viz-0c29ce4efe2a4b90a50feaef222de412\") {\n",
       "      outputDiv = document.getElementById(\"altair-viz-0c29ce4efe2a4b90a50feaef222de412\");\n",
       "    }\n",
       "    const paths = {\n",
       "      \"vega\": \"https://cdn.jsdelivr.net/npm//vega@5?noext\",\n",
       "      \"vega-lib\": \"https://cdn.jsdelivr.net/npm//vega-lib?noext\",\n",
       "      \"vega-lite\": \"https://cdn.jsdelivr.net/npm//vega-lite@5.2.0?noext\",\n",
       "      \"vega-embed\": \"https://cdn.jsdelivr.net/npm//vega-embed@6?noext\",\n",
       "    };\n",
       "\n",
       "    function maybeLoadScript(lib, version) {\n",
       "      var key = `${lib.replace(\"-\", \"\")}_version`;\n",
       "      return (VEGA_DEBUG[key] == version) ?\n",
       "        Promise.resolve(paths[lib]) :\n",
       "        new Promise(function(resolve, reject) {\n",
       "          var s = document.createElement('script');\n",
       "          document.getElementsByTagName(\"head\")[0].appendChild(s);\n",
       "          s.async = true;\n",
       "          s.onload = () => {\n",
       "            VEGA_DEBUG[key] = version;\n",
       "            return resolve(paths[lib]);\n",
       "          };\n",
       "          s.onerror = () => reject(`Error loading script: ${paths[lib]}`);\n",
       "          s.src = paths[lib];\n",
       "        });\n",
       "    }\n",
       "\n",
       "    function showError(err) {\n",
       "      outputDiv.innerHTML = `<div class=\"error\" style=\"color:red;\">${err}</div>`;\n",
       "      throw err;\n",
       "    }\n",
       "\n",
       "    function displayChart(vegaEmbed) {\n",
       "      vegaEmbed(outputDiv, spec, embedOpt)\n",
       "        .catch(err => showError(`Javascript Error: ${err.message}<br>This usually means there's a typo in your chart specification. See the javascript console for the full traceback.`));\n",
       "    }\n",
       "\n",
       "    if(typeof define === \"function\" && define.amd) {\n",
       "      requirejs.config({paths});\n",
       "      require([\"vega-embed\"], displayChart, err => showError(`Error loading script: ${err.message}`));\n",
       "    } else {\n",
       "      maybeLoadScript(\"vega\", \"5\")\n",
       "        .then(() => maybeLoadScript(\"vega-lite\", \"5.2.0\"))\n",
       "        .then(() => maybeLoadScript(\"vega-embed\", \"6\"))\n",
       "        .catch(showError)\n",
       "        .then(() => displayChart(vegaEmbed));\n",
       "    }\n",
       "  })({\"config\": {\"view\": {\"continuousWidth\": 400, \"continuousHeight\": 300}}, \"vconcat\": [{\"hconcat\": [{\"layer\": [{\"data\": {\"name\": \"data-68ea87d77c85fcd128943e4946aabb22\"}, \"mark\": {\"type\": \"point\", \"color\": \"black\", \"fillOpacity\": 1, \"strokeWidth\": 1}, \"encoding\": {\"fill\": {\"field\": \"is_present\", \"legend\": {\"title\": [\"Observed data\"]}, \"scale\": {\"range\": [\"black\", \"#ffffff00\"]}, \"type\": \"nominal\"}, \"shape\": {\"field\": \"is_present\", \"type\": \"nominal\"}, \"x\": {\"axis\": {\"domain\": true, \"labels\": true, \"ticks\": true, \"title\": \"time\"}, \"field\": \"time\", \"type\": \"temporal\"}, \"y\": {\"field\": \"value\", \"scale\": {\"zero\": false}, \"title\": \"TA\", \"type\": \"quantitative\"}}}, {\"layer\": [{\"mark\": \"rule\", \"encoding\": {\"x\": {\"axis\": {\"domain\": false, \"labels\": false, \"ticks\": false, \"title\": null}, \"field\": \"gap_start\", \"type\": \"temporal\"}}}, {\"mark\": \"rule\", \"encoding\": {\"x\": {\"axis\": {\"domain\": false, \"labels\": false, \"ticks\": false, \"title\": null}, \"field\": \"gap_end\", \"type\": \"temporal\"}}}, {\"mark\": {\"type\": \"rect\", \"color\": \"black\", \"opacity\": 0.15}, \"encoding\": {\"x\": {\"axis\": {\"domain\": false, \"labels\": false, \"ticks\": false, \"title\": null}, \"field\": \"gap_start\", \"type\": \"temporal\"}, \"x2\": {\"field\": \"gap_end\"}}}], \"data\": {\"name\": \"data-c8182dc3db8067cf5aaf76e1a132f712\"}}, {\"data\": {\"name\": \"data-68ea87d77c85fcd128943e4946aabb22\"}, \"mark\": \"line\", \"encoding\": {\"color\": {\"field\": \"variable\", \"type\": \"nominal\"}, \"x\": {\"field\": \"time\", \"type\": \"temporal\"}, \"y\": {\"field\": \"value\", \"scale\": {\"zero\": false}, \"title\": \"TA\", \"type\": \"quantitative\"}}, \"name\": \"view_3\"}], \"height\": 150, \"title\": \"TA\", \"width\": 200}, {\"layer\": [{\"data\": {\"name\": \"data-89237cbe188f05ebcca2d6d5d93729f0\"}, \"mark\": {\"type\": \"point\", \"color\": \"black\", \"fillOpacity\": 1, \"strokeWidth\": 1}, \"encoding\": {\"fill\": {\"field\": \"is_present\", \"legend\": {\"title\": [\"Observed data\"]}, \"scale\": {\"range\": [\"black\", \"#ffffff00\"]}, \"type\": \"nominal\"}, \"shape\": {\"field\": \"is_present\", \"type\": \"nominal\"}, \"x\": {\"axis\": {\"domain\": true, \"labels\": true, \"ticks\": true, \"title\": \"time\"}, \"field\": \"time\", \"type\": \"temporal\"}, \"y\": {\"field\": \"value\", \"scale\": {\"zero\": false}, \"title\": \"SW_IN\", \"type\": \"quantitative\"}}}, {\"layer\": [{\"mark\": \"rule\", \"encoding\": {\"x\": {\"axis\": {\"domain\": false, \"labels\": false, \"ticks\": false, \"title\": null}, \"field\": \"gap_start\", \"type\": \"temporal\"}}}, {\"mark\": \"rule\", \"encoding\": {\"x\": {\"axis\": {\"domain\": false, \"labels\": false, \"ticks\": false, \"title\": null}, \"field\": \"gap_end\", \"type\": \"temporal\"}}}, {\"mark\": {\"type\": \"rect\", \"color\": \"black\", \"opacity\": 0.15}, \"encoding\": {\"x\": {\"axis\": {\"domain\": false, \"labels\": false, \"ticks\": false, \"title\": null}, \"field\": \"gap_start\", \"type\": \"temporal\"}, \"x2\": {\"field\": \"gap_end\"}}}], \"data\": {\"name\": \"data-c8182dc3db8067cf5aaf76e1a132f712\"}}, {\"data\": {\"name\": \"data-89237cbe188f05ebcca2d6d5d93729f0\"}, \"mark\": \"line\", \"encoding\": {\"color\": {\"field\": \"variable\", \"type\": \"nominal\"}, \"x\": {\"field\": \"time\", \"type\": \"temporal\"}, \"y\": {\"field\": \"value\", \"scale\": {\"zero\": false}, \"title\": \"SW_IN\", \"type\": \"quantitative\"}}, \"name\": \"view_4\"}], \"height\": 150, \"title\": \"SW_IN\", \"width\": 200}, {\"layer\": [{\"mark\": {\"type\": \"point\", \"color\": \"black\", \"fillOpacity\": 1, \"strokeWidth\": 1}, \"encoding\": {\"fill\": {\"field\": \"is_present\", \"legend\": {\"title\": [\"Observed data\"]}, \"scale\": {\"range\": [\"black\", \"#ffffff00\"]}, \"type\": \"nominal\"}, \"shape\": {\"field\": \"is_present\", \"type\": \"nominal\"}, \"x\": {\"axis\": {\"domain\": true, \"labels\": true, \"ticks\": true, \"title\": \"time\"}, \"field\": \"time\", \"type\": \"temporal\"}, \"y\": {\"field\": \"value\", \"scale\": {\"zero\": false}, \"title\": \"VPD\", \"type\": \"quantitative\"}}}, {\"mark\": \"line\", \"encoding\": {\"color\": {\"field\": \"variable\", \"type\": \"nominal\"}, \"x\": {\"field\": \"time\", \"type\": \"temporal\"}, \"y\": {\"field\": \"value\", \"scale\": {\"zero\": false}, \"title\": \"VPD\", \"type\": \"quantitative\"}}, \"name\": \"view_5\"}], \"data\": {\"name\": \"data-87566384334aba3c379fa0e38b728291\"}, \"height\": 150, \"title\": \"VPD\", \"width\": 200}]}], \"params\": [{\"name\": \"param_8\", \"select\": {\"type\": \"interval\"}, \"bind\": \"scales\", \"views\": [\"view_3\"]}, {\"name\": \"param_9\", \"select\": {\"type\": \"interval\"}, \"bind\": \"scales\", \"views\": [\"view_4\"]}, {\"name\": \"param_10\", \"select\": {\"type\": \"interval\"}, \"bind\": \"scales\", \"views\": [\"view_5\"]}], \"$schema\": \"https://vega.github.io/schema/vega-lite/v5.2.0.json\", \"datasets\": {\"data-68ea87d77c85fcd128943e4946aabb22\": [{\"time\": \"2000-06-15T17:00:00\", \"variable\": \"TA\", \"value\": 14.220000267028809, \"is_present\": true}, {\"time\": \"2000-06-15T17:30:00\", \"variable\": \"TA\", \"value\": 14.109999656677246, \"is_present\": false}, {\"time\": \"2000-06-15T18:00:00\", \"variable\": \"TA\", \"value\": 14.229999542236328, \"is_present\": false}, {\"time\": \"2000-06-15T18:30:00\", \"variable\": \"TA\", \"value\": 14.399999618530273, \"is_present\": true}, {\"time\": \"2000-06-15T19:00:00\", \"variable\": \"TA\", \"value\": 14.09000015258789, \"is_present\": true}, {\"time\": \"2000-06-15T19:30:00\", \"variable\": \"TA\", \"value\": 13.710000038146973, \"is_present\": true}, {\"time\": \"2000-06-15T20:00:00\", \"variable\": \"TA\", \"value\": 13.079999923706055, \"is_present\": true}, {\"time\": \"2000-06-15T20:30:00\", \"variable\": \"TA\", \"value\": 12.40999984741211, \"is_present\": true}, {\"time\": \"2000-06-15T21:00:00\", \"variable\": \"TA\", \"value\": 12.270000457763672, \"is_present\": true}, {\"time\": \"2000-06-15T21:30:00\", \"variable\": \"TA\", \"value\": 12.199999809265137, \"is_present\": true}], \"data-c8182dc3db8067cf5aaf76e1a132f712\": [{\"gap_start\": \"2000-06-15T17:30:00\", \"gap_end\": \"2000-06-15T18:00:00\"}], \"data-89237cbe188f05ebcca2d6d5d93729f0\": [{\"time\": \"2000-06-15T17:00:00\", \"variable\": \"SW_IN\", \"value\": 224.8000030517578, \"is_present\": true}, {\"time\": \"2000-06-15T17:30:00\", \"variable\": \"SW_IN\", \"value\": 195.27999877929688, \"is_present\": false}, {\"time\": \"2000-06-15T18:00:00\", \"variable\": \"SW_IN\", \"value\": 244.1699981689453, \"is_present\": false}, {\"time\": \"2000-06-15T18:30:00\", \"variable\": \"SW_IN\", \"value\": 253.9199981689453, \"is_present\": true}, {\"time\": \"2000-06-15T19:00:00\", \"variable\": \"SW_IN\", \"value\": 177.30999755859375, \"is_present\": true}, {\"time\": \"2000-06-15T19:30:00\", \"variable\": \"SW_IN\", \"value\": 97.06999969482422, \"is_present\": true}, {\"time\": \"2000-06-15T20:00:00\", \"variable\": \"SW_IN\", \"value\": 39.709999084472656, \"is_present\": true}, {\"time\": \"2000-06-15T20:30:00\", \"variable\": \"SW_IN\", \"value\": 10.649999618530273, \"is_present\": true}, {\"time\": \"2000-06-15T21:00:00\", \"variable\": \"SW_IN\", \"value\": 0.3199999928474426, \"is_present\": true}, {\"time\": \"2000-06-15T21:30:00\", \"variable\": \"SW_IN\", \"value\": 0.0, \"is_present\": true}], \"data-87566384334aba3c379fa0e38b728291\": [{\"time\": \"2000-06-15T17:00:00\", \"variable\": \"VPD\", \"value\": 5.798999786376953, \"is_present\": true}, {\"time\": \"2000-06-15T17:30:00\", \"variable\": \"VPD\", \"value\": 6.577000141143799, \"is_present\": true}, {\"time\": \"2000-06-15T18:00:00\", \"variable\": \"VPD\", \"value\": 6.931000232696533, \"is_present\": true}, {\"time\": \"2000-06-15T18:30:00\", \"variable\": \"VPD\", \"value\": 7.285999774932861, \"is_present\": true}, {\"time\": \"2000-06-15T19:00:00\", \"variable\": \"VPD\", \"value\": 7.250999927520752, \"is_present\": true}, {\"time\": \"2000-06-15T19:30:00\", \"variable\": \"VPD\", \"value\": 6.683000087738037, \"is_present\": true}, {\"time\": \"2000-06-15T20:00:00\", \"variable\": \"VPD\", \"value\": 5.85099983215332, \"is_present\": true}, {\"time\": \"2000-06-15T20:30:00\", \"variable\": \"VPD\", \"value\": 5.254000186920166, \"is_present\": true}, {\"time\": \"2000-06-15T21:00:00\", \"variable\": \"VPD\", \"value\": 5.164000034332275, \"is_present\": true}, {\"time\": \"2000-06-15T21:30:00\", \"variable\": \"VPD\", \"value\": 5.0370001792907715, \"is_present\": true}]}}, {\"mode\": \"vega-lite\"});\n",
       "</script>"
      ],
      "text/plain": [
       "alt.VConcatChart(...)"
      ]
     },
     "execution_count": null,
     "metadata": {},
     "output_type": "execute_result"
    }
   ],
   "source": [
    "m_df.show(bind_interaction = False)"
   ]
  },
  {
   "cell_type": "code",
   "execution_count": null,
   "id": "c9284e47-6433-405f-8b0d-a2cd6595bf94",
   "metadata": {},
   "outputs": [
    {
     "data": {
      "text/html": [
       "\n",
       "<div id=\"altair-viz-2d23b8edf5f84043af3dccc96e6fa705\"></div>\n",
       "<script type=\"text/javascript\">\n",
       "  var VEGA_DEBUG = (typeof VEGA_DEBUG == \"undefined\") ? {} : VEGA_DEBUG;\n",
       "  (function(spec, embedOpt){\n",
       "    let outputDiv = document.currentScript.previousElementSibling;\n",
       "    if (outputDiv.id !== \"altair-viz-2d23b8edf5f84043af3dccc96e6fa705\") {\n",
       "      outputDiv = document.getElementById(\"altair-viz-2d23b8edf5f84043af3dccc96e6fa705\");\n",
       "    }\n",
       "    const paths = {\n",
       "      \"vega\": \"https://cdn.jsdelivr.net/npm//vega@5?noext\",\n",
       "      \"vega-lib\": \"https://cdn.jsdelivr.net/npm//vega-lib?noext\",\n",
       "      \"vega-lite\": \"https://cdn.jsdelivr.net/npm//vega-lite@5.2.0?noext\",\n",
       "      \"vega-embed\": \"https://cdn.jsdelivr.net/npm//vega-embed@6?noext\",\n",
       "    };\n",
       "\n",
       "    function maybeLoadScript(lib, version) {\n",
       "      var key = `${lib.replace(\"-\", \"\")}_version`;\n",
       "      return (VEGA_DEBUG[key] == version) ?\n",
       "        Promise.resolve(paths[lib]) :\n",
       "        new Promise(function(resolve, reject) {\n",
       "          var s = document.createElement('script');\n",
       "          document.getElementsByTagName(\"head\")[0].appendChild(s);\n",
       "          s.async = true;\n",
       "          s.onload = () => {\n",
       "            VEGA_DEBUG[key] = version;\n",
       "            return resolve(paths[lib]);\n",
       "          };\n",
       "          s.onerror = () => reject(`Error loading script: ${paths[lib]}`);\n",
       "          s.src = paths[lib];\n",
       "        });\n",
       "    }\n",
       "\n",
       "    function showError(err) {\n",
       "      outputDiv.innerHTML = `<div class=\"error\" style=\"color:red;\">${err}</div>`;\n",
       "      throw err;\n",
       "    }\n",
       "\n",
       "    function displayChart(vegaEmbed) {\n",
       "      vegaEmbed(outputDiv, spec, embedOpt)\n",
       "        .catch(err => showError(`Javascript Error: ${err.message}<br>This usually means there's a typo in your chart specification. See the javascript console for the full traceback.`));\n",
       "    }\n",
       "\n",
       "    if(typeof define === \"function\" && define.amd) {\n",
       "      requirejs.config({paths});\n",
       "      require([\"vega-embed\"], displayChart, err => showError(`Error loading script: ${err.message}`));\n",
       "    } else {\n",
       "      maybeLoadScript(\"vega\", \"5\")\n",
       "        .then(() => maybeLoadScript(\"vega-lite\", \"5.2.0\"))\n",
       "        .then(() => maybeLoadScript(\"vega-embed\", \"6\"))\n",
       "        .catch(showError)\n",
       "        .then(() => displayChart(vegaEmbed));\n",
       "    }\n",
       "  })({\"config\": {\"view\": {\"continuousWidth\": 400, \"continuousHeight\": 300}}, \"vconcat\": [{\"hconcat\": [{\"layer\": [{\"data\": {\"name\": \"data-d3522d54a15a85a858b8e6a3f806052a\"}, \"mark\": {\"type\": \"point\", \"color\": \"black\", \"fillOpacity\": 1, \"strokeWidth\": 1}, \"encoding\": {\"fill\": {\"field\": \"is_present\", \"legend\": {\"title\": [\"Observed data\"]}, \"scale\": {\"range\": [\"black\", \"#ffffff00\"]}, \"type\": \"nominal\"}, \"shape\": {\"field\": \"is_present\", \"type\": \"nominal\"}, \"x\": {\"axis\": {\"domain\": true, \"labels\": true, \"ticks\": true, \"title\": \"time\"}, \"field\": \"time\", \"type\": \"temporal\"}, \"y\": {\"field\": \"value\", \"scale\": {\"zero\": false}, \"title\": \"TA\", \"type\": \"quantitative\"}}}, {\"layer\": [{\"mark\": \"rule\", \"encoding\": {\"x\": {\"axis\": {\"domain\": false, \"labels\": false, \"ticks\": false, \"title\": null}, \"field\": \"gap_start\", \"type\": \"temporal\"}}}, {\"mark\": \"rule\", \"encoding\": {\"x\": {\"axis\": {\"domain\": false, \"labels\": false, \"ticks\": false, \"title\": null}, \"field\": \"gap_end\", \"type\": \"temporal\"}}}, {\"mark\": {\"type\": \"rect\", \"color\": \"black\", \"opacity\": 0.15}, \"encoding\": {\"x\": {\"axis\": {\"domain\": false, \"labels\": false, \"ticks\": false, \"title\": null}, \"field\": \"gap_start\", \"type\": \"temporal\"}, \"x2\": {\"field\": \"gap_end\"}}}], \"data\": {\"name\": \"data-3d8f1279455991cf43dd896051a908a7\"}}, {\"data\": {\"name\": \"data-d3522d54a15a85a858b8e6a3f806052a\"}, \"mark\": \"line\", \"encoding\": {\"color\": {\"field\": \"variable\", \"type\": \"nominal\"}, \"x\": {\"field\": \"time\", \"type\": \"temporal\"}, \"y\": {\"field\": \"value\", \"scale\": {\"zero\": false}, \"title\": \"TA\", \"type\": \"quantitative\"}}, \"name\": \"view_6\"}], \"height\": 150, \"title\": \"TA\", \"width\": 200}, {\"layer\": [{\"data\": {\"name\": \"data-ba91082466fb229ed1d96bd2562685ce\"}, \"mark\": {\"type\": \"point\", \"color\": \"black\", \"fillOpacity\": 1, \"strokeWidth\": 1}, \"encoding\": {\"fill\": {\"field\": \"is_present\", \"legend\": {\"title\": [\"Observed data\"]}, \"scale\": {\"range\": [\"black\", \"#ffffff00\"]}, \"type\": \"nominal\"}, \"shape\": {\"field\": \"is_present\", \"type\": \"nominal\"}, \"x\": {\"axis\": {\"domain\": true, \"labels\": true, \"ticks\": true, \"title\": \"time\"}, \"field\": \"time\", \"type\": \"temporal\"}, \"y\": {\"field\": \"value\", \"scale\": {\"zero\": false}, \"title\": \"SW_IN\", \"type\": \"quantitative\"}}}, {\"layer\": [{\"mark\": \"rule\", \"encoding\": {\"x\": {\"axis\": {\"domain\": false, \"labels\": false, \"ticks\": false, \"title\": null}, \"field\": \"gap_start\", \"type\": \"temporal\"}}}, {\"mark\": \"rule\", \"encoding\": {\"x\": {\"axis\": {\"domain\": false, \"labels\": false, \"ticks\": false, \"title\": null}, \"field\": \"gap_end\", \"type\": \"temporal\"}}}, {\"mark\": {\"type\": \"rect\", \"color\": \"black\", \"opacity\": 0.15}, \"encoding\": {\"x\": {\"axis\": {\"domain\": false, \"labels\": false, \"ticks\": false, \"title\": null}, \"field\": \"gap_start\", \"type\": \"temporal\"}, \"x2\": {\"field\": \"gap_end\"}}}], \"data\": {\"name\": \"data-3d8f1279455991cf43dd896051a908a7\"}}, {\"data\": {\"name\": \"data-ba91082466fb229ed1d96bd2562685ce\"}, \"mark\": \"line\", \"encoding\": {\"color\": {\"field\": \"variable\", \"type\": \"nominal\"}, \"x\": {\"field\": \"time\", \"type\": \"temporal\"}, \"y\": {\"field\": \"value\", \"scale\": {\"zero\": false}, \"title\": \"SW_IN\", \"type\": \"quantitative\"}}, \"name\": \"view_7\"}], \"height\": 150, \"title\": \"SW_IN\", \"width\": 200}, {\"layer\": [{\"mark\": {\"type\": \"point\", \"color\": \"black\", \"fillOpacity\": 1, \"strokeWidth\": 1}, \"encoding\": {\"fill\": {\"field\": \"is_present\", \"legend\": {\"title\": [\"Observed data\"]}, \"scale\": {\"range\": [\"black\", \"#ffffff00\"]}, \"type\": \"nominal\"}, \"shape\": {\"field\": \"is_present\", \"type\": \"nominal\"}, \"x\": {\"axis\": {\"domain\": true, \"labels\": true, \"ticks\": true, \"title\": \"time\"}, \"field\": \"time\", \"type\": \"temporal\"}, \"y\": {\"field\": \"value\", \"scale\": {\"zero\": false}, \"title\": \"VPD\", \"type\": \"quantitative\"}}}, {\"mark\": \"line\", \"encoding\": {\"color\": {\"field\": \"variable\", \"type\": \"nominal\"}, \"x\": {\"field\": \"time\", \"type\": \"temporal\"}, \"y\": {\"field\": \"value\", \"scale\": {\"zero\": false}, \"title\": \"VPD\", \"type\": \"quantitative\"}}, \"name\": \"view_8\"}], \"data\": {\"name\": \"data-87566384334aba3c379fa0e38b728291\"}, \"height\": 150, \"title\": \"VPD\", \"width\": 200}]}], \"params\": [{\"name\": \"param_11\", \"select\": {\"type\": \"interval\", \"encodings\": [\"x\"]}, \"bind\": \"scales\", \"views\": [\"view_6\", \"view_7\", \"view_8\"]}], \"$schema\": \"https://vega.github.io/schema/vega-lite/v5.2.0.json\", \"datasets\": {\"data-d3522d54a15a85a858b8e6a3f806052a\": [{\"time\": \"2000-06-15T17:00:00\", \"variable\": \"TA\", \"value\": 14.220000267028809, \"is_present\": true}, {\"time\": \"2000-06-15T17:30:00\", \"variable\": \"TA\", \"value\": 14.109999656677246, \"is_present\": true}, {\"time\": \"2000-06-15T18:00:00\", \"variable\": \"TA\", \"value\": 14.229999542236328, \"is_present\": false}, {\"time\": \"2000-06-15T18:30:00\", \"variable\": \"TA\", \"value\": 14.399999618530273, \"is_present\": false}, {\"time\": \"2000-06-15T19:00:00\", \"variable\": \"TA\", \"value\": 14.09000015258789, \"is_present\": true}, {\"time\": \"2000-06-15T19:30:00\", \"variable\": \"TA\", \"value\": 13.710000038146973, \"is_present\": true}, {\"time\": \"2000-06-15T20:00:00\", \"variable\": \"TA\", \"value\": 13.079999923706055, \"is_present\": true}, {\"time\": \"2000-06-15T20:30:00\", \"variable\": \"TA\", \"value\": 12.40999984741211, \"is_present\": true}, {\"time\": \"2000-06-15T21:00:00\", \"variable\": \"TA\", \"value\": 12.270000457763672, \"is_present\": true}, {\"time\": \"2000-06-15T21:30:00\", \"variable\": \"TA\", \"value\": 12.199999809265137, \"is_present\": true}], \"data-3d8f1279455991cf43dd896051a908a7\": [{\"gap_start\": \"2000-06-15T18:00:00\", \"gap_end\": \"2000-06-15T18:30:00\"}], \"data-ba91082466fb229ed1d96bd2562685ce\": [{\"time\": \"2000-06-15T17:00:00\", \"variable\": \"SW_IN\", \"value\": 224.8000030517578, \"is_present\": true}, {\"time\": \"2000-06-15T17:30:00\", \"variable\": \"SW_IN\", \"value\": 195.27999877929688, \"is_present\": true}, {\"time\": \"2000-06-15T18:00:00\", \"variable\": \"SW_IN\", \"value\": 244.1699981689453, \"is_present\": false}, {\"time\": \"2000-06-15T18:30:00\", \"variable\": \"SW_IN\", \"value\": 253.9199981689453, \"is_present\": false}, {\"time\": \"2000-06-15T19:00:00\", \"variable\": \"SW_IN\", \"value\": 177.30999755859375, \"is_present\": true}, {\"time\": \"2000-06-15T19:30:00\", \"variable\": \"SW_IN\", \"value\": 97.06999969482422, \"is_present\": true}, {\"time\": \"2000-06-15T20:00:00\", \"variable\": \"SW_IN\", \"value\": 39.709999084472656, \"is_present\": true}, {\"time\": \"2000-06-15T20:30:00\", \"variable\": \"SW_IN\", \"value\": 10.649999618530273, \"is_present\": true}, {\"time\": \"2000-06-15T21:00:00\", \"variable\": \"SW_IN\", \"value\": 0.3199999928474426, \"is_present\": true}, {\"time\": \"2000-06-15T21:30:00\", \"variable\": \"SW_IN\", \"value\": 0.0, \"is_present\": true}], \"data-87566384334aba3c379fa0e38b728291\": [{\"time\": \"2000-06-15T17:00:00\", \"variable\": \"VPD\", \"value\": 5.798999786376953, \"is_present\": true}, {\"time\": \"2000-06-15T17:30:00\", \"variable\": \"VPD\", \"value\": 6.577000141143799, \"is_present\": true}, {\"time\": \"2000-06-15T18:00:00\", \"variable\": \"VPD\", \"value\": 6.931000232696533, \"is_present\": true}, {\"time\": \"2000-06-15T18:30:00\", \"variable\": \"VPD\", \"value\": 7.285999774932861, \"is_present\": true}, {\"time\": \"2000-06-15T19:00:00\", \"variable\": \"VPD\", \"value\": 7.250999927520752, \"is_present\": true}, {\"time\": \"2000-06-15T19:30:00\", \"variable\": \"VPD\", \"value\": 6.683000087738037, \"is_present\": true}, {\"time\": \"2000-06-15T20:00:00\", \"variable\": \"VPD\", \"value\": 5.85099983215332, \"is_present\": true}, {\"time\": \"2000-06-15T20:30:00\", \"variable\": \"VPD\", \"value\": 5.254000186920166, \"is_present\": true}, {\"time\": \"2000-06-15T21:00:00\", \"variable\": \"VPD\", \"value\": 5.164000034332275, \"is_present\": true}, {\"time\": \"2000-06-15T21:30:00\", \"variable\": \"VPD\", \"value\": 5.0370001792907715, \"is_present\": true}]}}, {\"mode\": \"vega-lite\"});\n",
       "</script>"
      ],
      "text/plain": [
       "alt.VConcatChart(...)"
      ]
     },
     "execution_count": null,
     "metadata": {},
     "output_type": "execute_result"
    }
   ],
   "source": [
    "tfms2[0].show()"
   ]
  },
  {
   "cell_type": "code",
   "execution_count": null,
   "id": "416677b9-11ee-4700-b495-0a625209d43b",
   "metadata": {},
   "outputs": [
    {
     "data": {
      "text/html": [
       "\n",
       "<div id=\"altair-viz-b6505be567bd4095a16938732e1ae978\"></div>\n",
       "<script type=\"text/javascript\">\n",
       "  var VEGA_DEBUG = (typeof VEGA_DEBUG == \"undefined\") ? {} : VEGA_DEBUG;\n",
       "  (function(spec, embedOpt){\n",
       "    let outputDiv = document.currentScript.previousElementSibling;\n",
       "    if (outputDiv.id !== \"altair-viz-b6505be567bd4095a16938732e1ae978\") {\n",
       "      outputDiv = document.getElementById(\"altair-viz-b6505be567bd4095a16938732e1ae978\");\n",
       "    }\n",
       "    const paths = {\n",
       "      \"vega\": \"https://cdn.jsdelivr.net/npm//vega@5?noext\",\n",
       "      \"vega-lib\": \"https://cdn.jsdelivr.net/npm//vega-lib?noext\",\n",
       "      \"vega-lite\": \"https://cdn.jsdelivr.net/npm//vega-lite@5.2.0?noext\",\n",
       "      \"vega-embed\": \"https://cdn.jsdelivr.net/npm//vega-embed@6?noext\",\n",
       "    };\n",
       "\n",
       "    function maybeLoadScript(lib, version) {\n",
       "      var key = `${lib.replace(\"-\", \"\")}_version`;\n",
       "      return (VEGA_DEBUG[key] == version) ?\n",
       "        Promise.resolve(paths[lib]) :\n",
       "        new Promise(function(resolve, reject) {\n",
       "          var s = document.createElement('script');\n",
       "          document.getElementsByTagName(\"head\")[0].appendChild(s);\n",
       "          s.async = true;\n",
       "          s.onload = () => {\n",
       "            VEGA_DEBUG[key] = version;\n",
       "            return resolve(paths[lib]);\n",
       "          };\n",
       "          s.onerror = () => reject(`Error loading script: ${paths[lib]}`);\n",
       "          s.src = paths[lib];\n",
       "        });\n",
       "    }\n",
       "\n",
       "    function showError(err) {\n",
       "      outputDiv.innerHTML = `<div class=\"error\" style=\"color:red;\">${err}</div>`;\n",
       "      throw err;\n",
       "    }\n",
       "\n",
       "    function displayChart(vegaEmbed) {\n",
       "      vegaEmbed(outputDiv, spec, embedOpt)\n",
       "        .catch(err => showError(`Javascript Error: ${err.message}<br>This usually means there's a typo in your chart specification. See the javascript console for the full traceback.`));\n",
       "    }\n",
       "\n",
       "    if(typeof define === \"function\" && define.amd) {\n",
       "      requirejs.config({paths});\n",
       "      require([\"vega-embed\"], displayChart, err => showError(`Error loading script: ${err.message}`));\n",
       "    } else {\n",
       "      maybeLoadScript(\"vega\", \"5\")\n",
       "        .then(() => maybeLoadScript(\"vega-lite\", \"5.2.0\"))\n",
       "        .then(() => maybeLoadScript(\"vega-embed\", \"6\"))\n",
       "        .catch(showError)\n",
       "        .then(() => displayChart(vegaEmbed));\n",
       "    }\n",
       "  })({\"config\": {\"view\": {\"continuousWidth\": 400, \"continuousHeight\": 300}}, \"vconcat\": [{\"hconcat\": [{\"layer\": [{\"data\": {\"name\": \"data-c22261ef27a28cc4b682f66b3c2937be\"}, \"mark\": {\"type\": \"point\", \"color\": \"black\", \"fillOpacity\": 1, \"strokeWidth\": 1}, \"encoding\": {\"fill\": {\"field\": \"is_present\", \"legend\": {\"title\": [\"Observed data\"]}, \"scale\": {\"range\": [\"black\", \"#ffffff00\"]}, \"type\": \"nominal\"}, \"shape\": {\"field\": \"is_present\", \"type\": \"nominal\"}, \"x\": {\"axis\": {\"domain\": true, \"labels\": true, \"ticks\": true, \"title\": \"time\"}, \"field\": \"time\", \"type\": \"temporal\"}, \"y\": {\"field\": \"value\", \"scale\": {\"zero\": false}, \"title\": \"TA\", \"type\": \"quantitative\"}}}, {\"layer\": [{\"mark\": \"rule\", \"encoding\": {\"x\": {\"axis\": {\"domain\": false, \"labels\": false, \"ticks\": false, \"title\": null}, \"field\": \"gap_start\", \"type\": \"temporal\"}}}, {\"mark\": \"rule\", \"encoding\": {\"x\": {\"axis\": {\"domain\": false, \"labels\": false, \"ticks\": false, \"title\": null}, \"field\": \"gap_end\", \"type\": \"temporal\"}}}, {\"mark\": {\"type\": \"rect\", \"color\": \"black\", \"opacity\": 0.15}, \"encoding\": {\"x\": {\"axis\": {\"domain\": false, \"labels\": false, \"ticks\": false, \"title\": null}, \"field\": \"gap_start\", \"type\": \"temporal\"}, \"x2\": {\"field\": \"gap_end\"}}}], \"data\": {\"name\": \"data-6c96c1914d1e9d6850eb9ba2daf9c575\"}}, {\"data\": {\"name\": \"data-c22261ef27a28cc4b682f66b3c2937be\"}, \"mark\": \"line\", \"encoding\": {\"color\": {\"field\": \"variable\", \"type\": \"nominal\"}, \"x\": {\"field\": \"time\", \"type\": \"temporal\"}, \"y\": {\"field\": \"value\", \"scale\": {\"zero\": false}, \"title\": \"TA\", \"type\": \"quantitative\"}}, \"name\": \"view_9\"}], \"height\": 150, \"title\": \"TA\", \"width\": 200}, {\"layer\": [{\"data\": {\"name\": \"data-4c4ae0a3eac0ffb35e4db9c38ad200b9\"}, \"mark\": {\"type\": \"point\", \"color\": \"black\", \"fillOpacity\": 1, \"strokeWidth\": 1}, \"encoding\": {\"fill\": {\"field\": \"is_present\", \"legend\": {\"title\": [\"Observed data\"]}, \"scale\": {\"range\": [\"black\", \"#ffffff00\"]}, \"type\": \"nominal\"}, \"shape\": {\"field\": \"is_present\", \"type\": \"nominal\"}, \"x\": {\"axis\": {\"domain\": true, \"labels\": true, \"ticks\": true, \"title\": \"time\"}, \"field\": \"time\", \"type\": \"temporal\"}, \"y\": {\"field\": \"value\", \"scale\": {\"zero\": false}, \"title\": \"SW_IN\", \"type\": \"quantitative\"}}}, {\"layer\": [{\"mark\": \"rule\", \"encoding\": {\"x\": {\"axis\": {\"domain\": false, \"labels\": false, \"ticks\": false, \"title\": null}, \"field\": \"gap_start\", \"type\": \"temporal\"}}}, {\"mark\": \"rule\", \"encoding\": {\"x\": {\"axis\": {\"domain\": false, \"labels\": false, \"ticks\": false, \"title\": null}, \"field\": \"gap_end\", \"type\": \"temporal\"}}}, {\"mark\": {\"type\": \"rect\", \"color\": \"black\", \"opacity\": 0.15}, \"encoding\": {\"x\": {\"axis\": {\"domain\": false, \"labels\": false, \"ticks\": false, \"title\": null}, \"field\": \"gap_start\", \"type\": \"temporal\"}, \"x2\": {\"field\": \"gap_end\"}}}], \"data\": {\"name\": \"data-6c96c1914d1e9d6850eb9ba2daf9c575\"}}, {\"data\": {\"name\": \"data-4c4ae0a3eac0ffb35e4db9c38ad200b9\"}, \"mark\": \"line\", \"encoding\": {\"color\": {\"field\": \"variable\", \"type\": \"nominal\"}, \"x\": {\"field\": \"time\", \"type\": \"temporal\"}, \"y\": {\"field\": \"value\", \"scale\": {\"zero\": false}, \"title\": \"SW_IN\", \"type\": \"quantitative\"}}, \"name\": \"view_10\"}], \"height\": 150, \"title\": \"SW_IN\", \"width\": 200}, {\"layer\": [{\"mark\": {\"type\": \"point\", \"color\": \"black\", \"fillOpacity\": 1, \"strokeWidth\": 1}, \"encoding\": {\"fill\": {\"field\": \"is_present\", \"legend\": {\"title\": [\"Observed data\"]}, \"scale\": {\"range\": [\"black\", \"#ffffff00\"]}, \"type\": \"nominal\"}, \"shape\": {\"field\": \"is_present\", \"type\": \"nominal\"}, \"x\": {\"axis\": {\"domain\": true, \"labels\": true, \"ticks\": true, \"title\": \"time\"}, \"field\": \"time\", \"type\": \"temporal\"}, \"y\": {\"field\": \"value\", \"scale\": {\"zero\": false}, \"title\": \"VPD\", \"type\": \"quantitative\"}}}, {\"mark\": \"line\", \"encoding\": {\"color\": {\"field\": \"variable\", \"type\": \"nominal\"}, \"x\": {\"field\": \"time\", \"type\": \"temporal\"}, \"y\": {\"field\": \"value\", \"scale\": {\"zero\": false}, \"title\": \"VPD\", \"type\": \"quantitative\"}}, \"name\": \"view_11\"}], \"data\": {\"name\": \"data-0758420d5d1e1a0a6b4da55e8a5b3610\"}, \"height\": 150, \"title\": \"VPD\", \"width\": 200}]}], \"params\": [{\"name\": \"param_15\", \"select\": {\"type\": \"interval\", \"encodings\": [\"x\"]}, \"bind\": \"scales\", \"views\": [\"view_9\", \"view_10\", \"view_11\"]}], \"$schema\": \"https://vega.github.io/schema/vega-lite/v5.2.0.json\", \"datasets\": {\"data-c22261ef27a28cc4b682f66b3c2937be\": [{\"time\": \"2000-06-16T08:00:00\", \"variable\": \"TA\", \"value\": 8.899999618530273, \"is_present\": true}, {\"time\": \"2000-06-16T08:30:00\", \"variable\": \"TA\", \"value\": 9.569999694824219, \"is_present\": false}, {\"time\": \"2000-06-16T09:00:00\", \"variable\": \"TA\", \"value\": 9.739999771118164, \"is_present\": false}, {\"time\": \"2000-06-16T09:30:00\", \"variable\": \"TA\", \"value\": 10.020000457763672, \"is_present\": true}, {\"time\": \"2000-06-16T10:00:00\", \"variable\": \"TA\", \"value\": 10.5, \"is_present\": true}, {\"time\": \"2000-06-16T10:30:00\", \"variable\": \"TA\", \"value\": 10.529999732971191, \"is_present\": true}, {\"time\": \"2000-06-16T11:00:00\", \"variable\": \"TA\", \"value\": 10.729999542236328, \"is_present\": true}, {\"time\": \"2000-06-16T11:30:00\", \"variable\": \"TA\", \"value\": 10.770000457763672, \"is_present\": true}, {\"time\": \"2000-06-16T12:00:00\", \"variable\": \"TA\", \"value\": 10.850000381469727, \"is_present\": true}, {\"time\": \"2000-06-16T12:30:00\", \"variable\": \"TA\", \"value\": 11.399999618530273, \"is_present\": true}], \"data-6c96c1914d1e9d6850eb9ba2daf9c575\": [{\"gap_start\": \"2000-06-16T08:30:00\", \"gap_end\": \"2000-06-16T09:00:00\"}], \"data-4c4ae0a3eac0ffb35e4db9c38ad200b9\": [{\"time\": \"2000-06-16T08:00:00\", \"variable\": \"SW_IN\", \"value\": 467.94000244140625, \"is_present\": true}, {\"time\": \"2000-06-16T08:30:00\", \"variable\": \"SW_IN\", \"value\": 526.6400146484375, \"is_present\": false}, {\"time\": \"2000-06-16T09:00:00\", \"variable\": \"SW_IN\", \"value\": 463.1000061035156, \"is_present\": false}, {\"time\": \"2000-06-16T09:30:00\", \"variable\": \"SW_IN\", \"value\": 676.3599853515625, \"is_present\": true}, {\"time\": \"2000-06-16T10:00:00\", \"variable\": \"SW_IN\", \"value\": 689.47998046875, \"is_present\": true}, {\"time\": \"2000-06-16T10:30:00\", \"variable\": \"SW_IN\", \"value\": 503.30999755859375, \"is_present\": true}, {\"time\": \"2000-06-16T11:00:00\", \"variable\": \"SW_IN\", \"value\": 583.1699829101562, \"is_present\": true}, {\"time\": \"2000-06-16T11:30:00\", \"variable\": \"SW_IN\", \"value\": 329.6400146484375, \"is_present\": true}, {\"time\": \"2000-06-16T12:00:00\", \"variable\": \"SW_IN\", \"value\": 503.57000732421875, \"is_present\": true}, {\"time\": \"2000-06-16T12:30:00\", \"variable\": \"SW_IN\", \"value\": 567.5599975585938, \"is_present\": true}], \"data-0758420d5d1e1a0a6b4da55e8a5b3610\": [{\"time\": \"2000-06-16T08:00:00\", \"variable\": \"VPD\", \"value\": 3.5490000247955322, \"is_present\": true}, {\"time\": \"2000-06-16T08:30:00\", \"variable\": \"VPD\", \"value\": 4.1529998779296875, \"is_present\": true}, {\"time\": \"2000-06-16T09:00:00\", \"variable\": \"VPD\", \"value\": 4.705999851226807, \"is_present\": true}, {\"time\": \"2000-06-16T09:30:00\", \"variable\": \"VPD\", \"value\": 5.374000072479248, \"is_present\": true}, {\"time\": \"2000-06-16T10:00:00\", \"variable\": \"VPD\", \"value\": 5.7129998207092285, \"is_present\": true}, {\"time\": \"2000-06-16T10:30:00\", \"variable\": \"VPD\", \"value\": 5.677000045776367, \"is_present\": true}, {\"time\": \"2000-06-16T11:00:00\", \"variable\": \"VPD\", \"value\": 5.386000156402588, \"is_present\": true}, {\"time\": \"2000-06-16T11:30:00\", \"variable\": \"VPD\", \"value\": 5.355000019073486, \"is_present\": true}, {\"time\": \"2000-06-16T12:00:00\", \"variable\": \"VPD\", \"value\": 5.065999984741211, \"is_present\": true}, {\"time\": \"2000-06-16T12:30:00\", \"variable\": \"VPD\", \"value\": 5.794000148773193, \"is_present\": true}]}}, {\"mode\": \"vega-lite\"});\n",
       "</script>"
      ],
      "text/plain": [
       "alt.VConcatChart(...)"
      ]
     },
     "execution_count": null,
     "metadata": {},
     "output_type": "execute_result"
    }
   ],
   "source": [
    "tfms2[3].show()"
   ]
  },
  {
   "cell_type": "markdown",
   "id": "9e70cf47-7a11-4806-93ba-f9bdf56dc671",
   "metadata": {},
   "source": [
    "### 4) To Tensor"
   ]
  },
  {
   "cell_type": "markdown",
   "id": "a632c649-a391-4513-bcad-c5217ce001ef",
   "metadata": {},
   "source": [
    "this needs to handle both the init with a list of items and when the first item is a sequence of list of items"
   ]
  },
  {
   "cell_type": "code",
   "execution_count": null,
   "id": "1c157b15-d2e4-468b-9505-34478c196d34",
   "metadata": {},
   "outputs": [],
   "source": [
    "#| export\n",
    "class MeteoImpTensor(collections.abc.Sequence):\n",
    "    def __init__(self,*args):\n",
    "        if len(args)==3:\n",
    "            self.data = args[0]\n",
    "            self.mask = args[1]\n",
    "            self.control = args[2]\n",
    "        elif len(args)==1 and len(args[0])==2:\n",
    "            self.data = args[0][0]\n",
    "            self.mask = args[0][1]\n",
    "        else:\n",
    "            raise ValueError(f\"Incorrect number of arguments. got {len(args)} args\")\n",
    "\n",
    "    def __iter__(self): return iter((self.data, self.mask,self.control))\n",
    "    __len__ = 3\n",
    "    def __getitem__(self, key):\n",
    "        if key == 0: return self.data\n",
    "        elif key == 1: return self.mask\n",
    "        elif key == 2: return self.control\n",
    "        else: raise IndexError(\"index bigger than 2\")\n",
    "    __repr__ = basic_repr('data, mask, control')\n",
    "    def _repr_html_(self):\n",
    "        return row_items(data = self.data, mask = self.mask, control = self.control)"
   ]
  },
  {
   "cell_type": "code",
   "execution_count": null,
   "id": "49a73687-9272-44ad-84d5-0b845a63cd98",
   "metadata": {},
   "outputs": [],
   "source": [
    "#| export\n",
    "class MeteoImpDf2Tensor(Transform):\n",
    "    def setups(self, items):\n",
    "        self.columns = list(items[0].data.columns)\n",
    "    def encodes(self, df: MeteoImpDf) -> MeteoImpTensor:\n",
    "        data = torch.tensor(df.data.to_numpy())\n",
    "        mask = torch.tensor(df.mask.to_numpy())\n",
    "        control = torch.tensor(df.control.to_numpy())\n",
    "        return MeteoImpTensor(data, mask, control)\n",
    "        \n",
    "    # def decodes(self, x: MeteoImpTensor) -> MeteoImpDf:\n",
    "    #     data = pd.DataFrame(x.data.detach().cpu().numpy(), columns = self.columns)\n",
    "    #     mask = pd.DataFrame(x.mask.cpu().numpy(), columns = self.columns)\n",
    "    #     control = pd.DataFrame(x.control.cpu().numpy(), columns = self.columns)\n",
    "    #     return MeteoImpDf(data, mask, control)"
   ]
  },
  {
   "cell_type": "code",
   "execution_count": null,
   "id": "f144e2e3-93b2-4b53-86ac-eeed6b483e61",
   "metadata": {},
   "outputs": [],
   "source": [
    "to_t = MeteoImpDf2Tensor()"
   ]
  },
  {
   "cell_type": "code",
   "execution_count": null,
   "id": "70d0c5f6-741a-4687-896a-deeb0d58c201",
   "metadata": {},
   "outputs": [],
   "source": [
    "to_t.setup(tfms2)"
   ]
  },
  {
   "cell_type": "code",
   "execution_count": null,
   "id": "2a4f7ca8-df98-42a4-97a7-cd04a61d1304",
   "metadata": {},
   "outputs": [
    {
     "data": {
      "text/html": [
       "<div style=\"display: flex; column-gap: 20px; flex-wrap: wrap;\" class='table table-striped table-sm'> <div><p style='font-size: 1.2rem;'>data</p> <pre>tensor([[ 14.2200, 224.8000,   5.7990],\n",
       "        [ 14.1100, 195.2800,   6.5770],\n",
       "        [ 14.2300, 244.1700,   6.9310],\n",
       "        [ 14.4000, 253.9200,   7.2860],\n",
       "        [ 14.0900, 177.3100,   7.2510],\n",
       "        [ 13.7100,  97.0700,   6.6830],\n",
       "        [ 13.0800,  39.7100,   5.8510],\n",
       "        [ 12.4100,  10.6500,   5.2540],\n",
       "        [ 12.2700,   0.3200,   5.1640],\n",
       "        [ 12.2000,   0.0000,   5.0370]])</pre> </div><div><p style='font-size: 1.2rem;'>mask</p> <pre>tensor([[ True,  True,  True],\n",
       "        [ True,  True,  True],\n",
       "        [ True,  True,  True],\n",
       "        [ True,  True,  True],\n",
       "        [False, False,  True],\n",
       "        [False, False,  True],\n",
       "        [ True,  True,  True],\n",
       "        [ True,  True,  True],\n",
       "        [ True,  True,  True],\n",
       "        [ True,  True,  True]])</pre> </div><div><p style='font-size: 1.2rem;'>control</p> <pre>tensor([[ 15.0500, 255.1930,   5.1020,  15.1390, 287.1000,   4.9000],\n",
       "        [ 14.9610, 221.4270,   5.3050,  15.0500, 255.1930,   5.1020],\n",
       "        [ 14.8720, 186.3800,   5.5070,  14.9610, 221.4270,   5.3050],\n",
       "        [ 14.7830, 150.6500,   5.7100,  14.8720, 186.3800,   5.5070],\n",
       "        [ 14.6940, 114.8490,   5.9120,  14.7830, 150.6500,   5.7100],\n",
       "        [ 14.6060,  34.7280,   6.1140,  14.6940, 114.8490,   5.9120],\n",
       "        [ 14.3800,  19.8430,   6.0740,  14.6060,  34.7280,   6.1140],\n",
       "        [ 14.1550,   5.7120,   6.0340,  14.3800,  19.8430,   6.0740],\n",
       "        [ 13.9290,   0.0000,   5.9940,  14.1550,   5.7120,   6.0340],\n",
       "        [ 13.7040,   0.0000,   5.9540,  13.9290,   0.0000,   5.9940]])</pre> </div></div>"
      ],
      "text/plain": [
       "__main__.MeteoImpTensor(data=tensor([[ 14.2200, 224.8000,   5.7990],\n",
       "        [ 14.1100, 195.2800,   6.5770],\n",
       "        [ 14.2300, 244.1700,   6.9310],\n",
       "        [ 14.4000, 253.9200,   7.2860],\n",
       "        [ 14.0900, 177.3100,   7.2510],\n",
       "        [ 13.7100,  97.0700,   6.6830],\n",
       "        [ 13.0800,  39.7100,   5.8510],\n",
       "        [ 12.4100,  10.6500,   5.2540],\n",
       "        [ 12.2700,   0.3200,   5.1640],\n",
       "        [ 12.2000,   0.0000,   5.0370]]), mask=tensor([[ True,  True,  True],\n",
       "        [ True,  True,  True],\n",
       "        [ True,  True,  True],\n",
       "        [ True,  True,  True],\n",
       "        [False, False,  True],\n",
       "        [False, False,  True],\n",
       "        [ True,  True,  True],\n",
       "        [ True,  True,  True],\n",
       "        [ True,  True,  True],\n",
       "        [ True,  True,  True]]), control=tensor([[ 15.0500, 255.1930,   5.1020,  15.1390, 287.1000,   4.9000],\n",
       "        [ 14.9610, 221.4270,   5.3050,  15.0500, 255.1930,   5.1020],\n",
       "        [ 14.8720, 186.3800,   5.5070,  14.9610, 221.4270,   5.3050],\n",
       "        [ 14.7830, 150.6500,   5.7100,  14.8720, 186.3800,   5.5070],\n",
       "        [ 14.6940, 114.8490,   5.9120,  14.7830, 150.6500,   5.7100],\n",
       "        [ 14.6060,  34.7280,   6.1140,  14.6940, 114.8490,   5.9120],\n",
       "        [ 14.3800,  19.8430,   6.0740,  14.6060,  34.7280,   6.1140],\n",
       "        [ 14.1550,   5.7120,   6.0340,  14.3800,  19.8430,   6.0740],\n",
       "        [ 13.9290,   0.0000,   5.9940,  14.1550,   5.7120,   6.0340],\n",
       "        [ 13.7040,   0.0000,   5.9540,  13.9290,   0.0000,   5.9940]]))"
      ]
     },
     "execution_count": null,
     "metadata": {},
     "output_type": "execute_result"
    }
   ],
   "source": [
    "to_t(tfms2[0])"
   ]
  },
  {
   "cell_type": "code",
   "execution_count": null,
   "id": "786af7c1-edb5-40ef-bbd3-b9f1b1220f11",
   "metadata": {},
   "outputs": [],
   "source": [
    "to_t.decode(to_t(tfms2[0]));"
   ]
  },
  {
   "cell_type": "code",
   "execution_count": null,
   "id": "d2e84c50-5ecd-43a7-881e-80e53bc55aa0",
   "metadata": {},
   "outputs": [
    {
     "data": {
      "text/html": [
       "<p style='font-size: 1.5rem; font-decoration: bold'>Meteo Imp Df<p><div style=\"display: flex; column-gap: 20px; flex-wrap: wrap;\" class='table table-striped table-sm'> <div> <p style='font-size: 1.3rem;'>data</p> <style type=\"text/css\">\n",
       "</style>\n",
       "<table id=\"T_3729b\">\n",
       "  <thead>\n",
       "    <tr>\n",
       "      <th class=\"blank level0\" >&nbsp;</th>\n",
       "      <th id=\"T_3729b_level0_col0\" class=\"col_heading level0 col0\" >TA</th>\n",
       "      <th id=\"T_3729b_level0_col1\" class=\"col_heading level0 col1\" >SW_IN</th>\n",
       "      <th id=\"T_3729b_level0_col2\" class=\"col_heading level0 col2\" >VPD</th>\n",
       "    </tr>\n",
       "    <tr>\n",
       "      <th class=\"index_name level0\" >time</th>\n",
       "      <th class=\"blank col0\" >&nbsp;</th>\n",
       "      <th class=\"blank col1\" >&nbsp;</th>\n",
       "      <th class=\"blank col2\" >&nbsp;</th>\n",
       "    </tr>\n",
       "  </thead>\n",
       "  <tbody>\n",
       "    <tr>\n",
       "      <th id=\"T_3729b_level0_row0\" class=\"row_heading level0 row0\" >2000-06-15 17:00:00</th>\n",
       "      <td id=\"T_3729b_row0_col0\" class=\"data row0 col0\" >14.2200</td>\n",
       "      <td id=\"T_3729b_row0_col1\" class=\"data row0 col1\" >224.8000</td>\n",
       "      <td id=\"T_3729b_row0_col2\" class=\"data row0 col2\" >5.7990</td>\n",
       "    </tr>\n",
       "    <tr>\n",
       "      <th id=\"T_3729b_level0_row1\" class=\"row_heading level0 row1\" >2000-06-15 17:30:00</th>\n",
       "      <td id=\"T_3729b_row1_col0\" class=\"data row1 col0\" >14.1100</td>\n",
       "      <td id=\"T_3729b_row1_col1\" class=\"data row1 col1\" >195.2800</td>\n",
       "      <td id=\"T_3729b_row1_col2\" class=\"data row1 col2\" >6.5770</td>\n",
       "    </tr>\n",
       "    <tr>\n",
       "      <th id=\"T_3729b_level0_row2\" class=\"row_heading level0 row2\" >2000-06-15 18:00:00</th>\n",
       "      <td id=\"T_3729b_row2_col0\" class=\"data row2 col0\" >14.2300</td>\n",
       "      <td id=\"T_3729b_row2_col1\" class=\"data row2 col1\" >244.1700</td>\n",
       "      <td id=\"T_3729b_row2_col2\" class=\"data row2 col2\" >6.9310</td>\n",
       "    </tr>\n",
       "    <tr>\n",
       "      <th id=\"T_3729b_level0_row3\" class=\"row_heading level0 row3\" >2000-06-15 18:30:00</th>\n",
       "      <td id=\"T_3729b_row3_col0\" class=\"data row3 col0\" >14.4000</td>\n",
       "      <td id=\"T_3729b_row3_col1\" class=\"data row3 col1\" >253.9200</td>\n",
       "      <td id=\"T_3729b_row3_col2\" class=\"data row3 col2\" >7.2860</td>\n",
       "    </tr>\n",
       "    <tr>\n",
       "      <th id=\"T_3729b_level0_row4\" class=\"row_heading level0 row4\" >2000-06-15 19:00:00</th>\n",
       "      <td id=\"T_3729b_row4_col0\" class=\"data row4 col0\" >14.0900</td>\n",
       "      <td id=\"T_3729b_row4_col1\" class=\"data row4 col1\" >177.3100</td>\n",
       "      <td id=\"T_3729b_row4_col2\" class=\"data row4 col2\" >7.2510</td>\n",
       "    </tr>\n",
       "    <tr>\n",
       "      <th id=\"T_3729b_level0_row5\" class=\"row_heading level0 row5\" >2000-06-15 19:30:00</th>\n",
       "      <td id=\"T_3729b_row5_col0\" class=\"data row5 col0\" >13.7100</td>\n",
       "      <td id=\"T_3729b_row5_col1\" class=\"data row5 col1\" >97.0700</td>\n",
       "      <td id=\"T_3729b_row5_col2\" class=\"data row5 col2\" >6.6830</td>\n",
       "    </tr>\n",
       "    <tr>\n",
       "      <th id=\"T_3729b_level0_row6\" class=\"row_heading level0 row6\" >2000-06-15 20:00:00</th>\n",
       "      <td id=\"T_3729b_row6_col0\" class=\"data row6 col0\" >13.0800</td>\n",
       "      <td id=\"T_3729b_row6_col1\" class=\"data row6 col1\" >39.7100</td>\n",
       "      <td id=\"T_3729b_row6_col2\" class=\"data row6 col2\" >5.8510</td>\n",
       "    </tr>\n",
       "    <tr>\n",
       "      <th id=\"T_3729b_level0_row7\" class=\"row_heading level0 row7\" >2000-06-15 20:30:00</th>\n",
       "      <td id=\"T_3729b_row7_col0\" class=\"data row7 col0\" >12.4100</td>\n",
       "      <td id=\"T_3729b_row7_col1\" class=\"data row7 col1\" >10.6500</td>\n",
       "      <td id=\"T_3729b_row7_col2\" class=\"data row7 col2\" >5.2540</td>\n",
       "    </tr>\n",
       "    <tr>\n",
       "      <th id=\"T_3729b_level0_row8\" class=\"row_heading level0 row8\" >2000-06-15 21:00:00</th>\n",
       "      <td id=\"T_3729b_row8_col0\" class=\"data row8 col0\" >12.2700</td>\n",
       "      <td id=\"T_3729b_row8_col1\" class=\"data row8 col1\" >0.3200</td>\n",
       "      <td id=\"T_3729b_row8_col2\" class=\"data row8 col2\" >5.1640</td>\n",
       "    </tr>\n",
       "    <tr>\n",
       "      <th id=\"T_3729b_level0_row9\" class=\"row_heading level0 row9\" >2000-06-15 21:30:00</th>\n",
       "      <td id=\"T_3729b_row9_col0\" class=\"data row9 col0\" >12.2000</td>\n",
       "      <td id=\"T_3729b_row9_col1\" class=\"data row9 col1\" >0.0000</td>\n",
       "      <td id=\"T_3729b_row9_col2\" class=\"data row9 col2\" >5.0370</td>\n",
       "    </tr>\n",
       "  </tbody>\n",
       "</table>\n",
       " </div><div> <p style='font-size: 1.3rem;'>mask</p> <style type=\"text/css\">\n",
       "</style>\n",
       "<table id=\"T_6f411\">\n",
       "  <thead>\n",
       "    <tr>\n",
       "      <th class=\"blank level0\" >&nbsp;</th>\n",
       "      <th id=\"T_6f411_level0_col0\" class=\"col_heading level0 col0\" >TA</th>\n",
       "      <th id=\"T_6f411_level0_col1\" class=\"col_heading level0 col1\" >SW_IN</th>\n",
       "      <th id=\"T_6f411_level0_col2\" class=\"col_heading level0 col2\" >VPD</th>\n",
       "    </tr>\n",
       "    <tr>\n",
       "      <th class=\"index_name level0\" >time</th>\n",
       "      <th class=\"blank col0\" >&nbsp;</th>\n",
       "      <th class=\"blank col1\" >&nbsp;</th>\n",
       "      <th class=\"blank col2\" >&nbsp;</th>\n",
       "    </tr>\n",
       "  </thead>\n",
       "  <tbody>\n",
       "    <tr>\n",
       "      <th id=\"T_6f411_level0_row0\" class=\"row_heading level0 row0\" >2000-06-15 17:00:00</th>\n",
       "      <td id=\"T_6f411_row0_col0\" class=\"data row0 col0\" >True</td>\n",
       "      <td id=\"T_6f411_row0_col1\" class=\"data row0 col1\" >True</td>\n",
       "      <td id=\"T_6f411_row0_col2\" class=\"data row0 col2\" >True</td>\n",
       "    </tr>\n",
       "    <tr>\n",
       "      <th id=\"T_6f411_level0_row1\" class=\"row_heading level0 row1\" >2000-06-15 17:30:00</th>\n",
       "      <td id=\"T_6f411_row1_col0\" class=\"data row1 col0\" >True</td>\n",
       "      <td id=\"T_6f411_row1_col1\" class=\"data row1 col1\" >True</td>\n",
       "      <td id=\"T_6f411_row1_col2\" class=\"data row1 col2\" >True</td>\n",
       "    </tr>\n",
       "    <tr>\n",
       "      <th id=\"T_6f411_level0_row2\" class=\"row_heading level0 row2\" >2000-06-15 18:00:00</th>\n",
       "      <td id=\"T_6f411_row2_col0\" class=\"data row2 col0\" >True</td>\n",
       "      <td id=\"T_6f411_row2_col1\" class=\"data row2 col1\" >True</td>\n",
       "      <td id=\"T_6f411_row2_col2\" class=\"data row2 col2\" >True</td>\n",
       "    </tr>\n",
       "    <tr>\n",
       "      <th id=\"T_6f411_level0_row3\" class=\"row_heading level0 row3\" >2000-06-15 18:30:00</th>\n",
       "      <td id=\"T_6f411_row3_col0\" class=\"data row3 col0\" >True</td>\n",
       "      <td id=\"T_6f411_row3_col1\" class=\"data row3 col1\" >True</td>\n",
       "      <td id=\"T_6f411_row3_col2\" class=\"data row3 col2\" >True</td>\n",
       "    </tr>\n",
       "    <tr>\n",
       "      <th id=\"T_6f411_level0_row4\" class=\"row_heading level0 row4\" >2000-06-15 19:00:00</th>\n",
       "      <td id=\"T_6f411_row4_col0\" class=\"data row4 col0\" >True</td>\n",
       "      <td id=\"T_6f411_row4_col1\" class=\"data row4 col1\" >True</td>\n",
       "      <td id=\"T_6f411_row4_col2\" class=\"data row4 col2\" >True</td>\n",
       "    </tr>\n",
       "    <tr>\n",
       "      <th id=\"T_6f411_level0_row5\" class=\"row_heading level0 row5\" >2000-06-15 19:30:00</th>\n",
       "      <td id=\"T_6f411_row5_col0\" class=\"data row5 col0\" >False</td>\n",
       "      <td id=\"T_6f411_row5_col1\" class=\"data row5 col1\" >False</td>\n",
       "      <td id=\"T_6f411_row5_col2\" class=\"data row5 col2\" >True</td>\n",
       "    </tr>\n",
       "    <tr>\n",
       "      <th id=\"T_6f411_level0_row6\" class=\"row_heading level0 row6\" >2000-06-15 20:00:00</th>\n",
       "      <td id=\"T_6f411_row6_col0\" class=\"data row6 col0\" >False</td>\n",
       "      <td id=\"T_6f411_row6_col1\" class=\"data row6 col1\" >False</td>\n",
       "      <td id=\"T_6f411_row6_col2\" class=\"data row6 col2\" >True</td>\n",
       "    </tr>\n",
       "    <tr>\n",
       "      <th id=\"T_6f411_level0_row7\" class=\"row_heading level0 row7\" >2000-06-15 20:30:00</th>\n",
       "      <td id=\"T_6f411_row7_col0\" class=\"data row7 col0\" >True</td>\n",
       "      <td id=\"T_6f411_row7_col1\" class=\"data row7 col1\" >True</td>\n",
       "      <td id=\"T_6f411_row7_col2\" class=\"data row7 col2\" >True</td>\n",
       "    </tr>\n",
       "    <tr>\n",
       "      <th id=\"T_6f411_level0_row8\" class=\"row_heading level0 row8\" >2000-06-15 21:00:00</th>\n",
       "      <td id=\"T_6f411_row8_col0\" class=\"data row8 col0\" >True</td>\n",
       "      <td id=\"T_6f411_row8_col1\" class=\"data row8 col1\" >True</td>\n",
       "      <td id=\"T_6f411_row8_col2\" class=\"data row8 col2\" >True</td>\n",
       "    </tr>\n",
       "    <tr>\n",
       "      <th id=\"T_6f411_level0_row9\" class=\"row_heading level0 row9\" >2000-06-15 21:30:00</th>\n",
       "      <td id=\"T_6f411_row9_col0\" class=\"data row9 col0\" >True</td>\n",
       "      <td id=\"T_6f411_row9_col1\" class=\"data row9 col1\" >True</td>\n",
       "      <td id=\"T_6f411_row9_col2\" class=\"data row9 col2\" >True</td>\n",
       "    </tr>\n",
       "  </tbody>\n",
       "</table>\n",
       " </div><div> <p style='font-size: 1.3rem;'>control</p> <style type=\"text/css\">\n",
       "</style>\n",
       "<table id=\"T_c754f\">\n",
       "  <thead>\n",
       "    <tr>\n",
       "      <th class=\"blank level0\" >&nbsp;</th>\n",
       "      <th id=\"T_c754f_level0_col0\" class=\"col_heading level0 col0\" >TA_ERA</th>\n",
       "      <th id=\"T_c754f_level0_col1\" class=\"col_heading level0 col1\" >SW_IN_ERA</th>\n",
       "      <th id=\"T_c754f_level0_col2\" class=\"col_heading level0 col2\" >VPD_ERA</th>\n",
       "      <th id=\"T_c754f_level0_col3\" class=\"col_heading level0 col3\" >TA_ERA_lag_1</th>\n",
       "      <th id=\"T_c754f_level0_col4\" class=\"col_heading level0 col4\" >SW_IN_ERA_lag_1</th>\n",
       "      <th id=\"T_c754f_level0_col5\" class=\"col_heading level0 col5\" >VPD_ERA_lag_1</th>\n",
       "    </tr>\n",
       "    <tr>\n",
       "      <th class=\"index_name level0\" >time</th>\n",
       "      <th class=\"blank col0\" >&nbsp;</th>\n",
       "      <th class=\"blank col1\" >&nbsp;</th>\n",
       "      <th class=\"blank col2\" >&nbsp;</th>\n",
       "      <th class=\"blank col3\" >&nbsp;</th>\n",
       "      <th class=\"blank col4\" >&nbsp;</th>\n",
       "      <th class=\"blank col5\" >&nbsp;</th>\n",
       "    </tr>\n",
       "  </thead>\n",
       "  <tbody>\n",
       "    <tr>\n",
       "      <th id=\"T_c754f_level0_row0\" class=\"row_heading level0 row0\" >2000-06-15 17:00:00</th>\n",
       "      <td id=\"T_c754f_row0_col0\" class=\"data row0 col0\" >15.0500</td>\n",
       "      <td id=\"T_c754f_row0_col1\" class=\"data row0 col1\" >255.1930</td>\n",
       "      <td id=\"T_c754f_row0_col2\" class=\"data row0 col2\" >5.1020</td>\n",
       "      <td id=\"T_c754f_row0_col3\" class=\"data row0 col3\" >15.1390</td>\n",
       "      <td id=\"T_c754f_row0_col4\" class=\"data row0 col4\" >287.1000</td>\n",
       "      <td id=\"T_c754f_row0_col5\" class=\"data row0 col5\" >4.9000</td>\n",
       "    </tr>\n",
       "    <tr>\n",
       "      <th id=\"T_c754f_level0_row1\" class=\"row_heading level0 row1\" >2000-06-15 17:30:00</th>\n",
       "      <td id=\"T_c754f_row1_col0\" class=\"data row1 col0\" >14.9610</td>\n",
       "      <td id=\"T_c754f_row1_col1\" class=\"data row1 col1\" >221.4270</td>\n",
       "      <td id=\"T_c754f_row1_col2\" class=\"data row1 col2\" >5.3050</td>\n",
       "      <td id=\"T_c754f_row1_col3\" class=\"data row1 col3\" >15.0500</td>\n",
       "      <td id=\"T_c754f_row1_col4\" class=\"data row1 col4\" >255.1930</td>\n",
       "      <td id=\"T_c754f_row1_col5\" class=\"data row1 col5\" >5.1020</td>\n",
       "    </tr>\n",
       "    <tr>\n",
       "      <th id=\"T_c754f_level0_row2\" class=\"row_heading level0 row2\" >2000-06-15 18:00:00</th>\n",
       "      <td id=\"T_c754f_row2_col0\" class=\"data row2 col0\" >14.8720</td>\n",
       "      <td id=\"T_c754f_row2_col1\" class=\"data row2 col1\" >186.3800</td>\n",
       "      <td id=\"T_c754f_row2_col2\" class=\"data row2 col2\" >5.5070</td>\n",
       "      <td id=\"T_c754f_row2_col3\" class=\"data row2 col3\" >14.9610</td>\n",
       "      <td id=\"T_c754f_row2_col4\" class=\"data row2 col4\" >221.4270</td>\n",
       "      <td id=\"T_c754f_row2_col5\" class=\"data row2 col5\" >5.3050</td>\n",
       "    </tr>\n",
       "    <tr>\n",
       "      <th id=\"T_c754f_level0_row3\" class=\"row_heading level0 row3\" >2000-06-15 18:30:00</th>\n",
       "      <td id=\"T_c754f_row3_col0\" class=\"data row3 col0\" >14.7830</td>\n",
       "      <td id=\"T_c754f_row3_col1\" class=\"data row3 col1\" >150.6500</td>\n",
       "      <td id=\"T_c754f_row3_col2\" class=\"data row3 col2\" >5.7100</td>\n",
       "      <td id=\"T_c754f_row3_col3\" class=\"data row3 col3\" >14.8720</td>\n",
       "      <td id=\"T_c754f_row3_col4\" class=\"data row3 col4\" >186.3800</td>\n",
       "      <td id=\"T_c754f_row3_col5\" class=\"data row3 col5\" >5.5070</td>\n",
       "    </tr>\n",
       "    <tr>\n",
       "      <th id=\"T_c754f_level0_row4\" class=\"row_heading level0 row4\" >2000-06-15 19:00:00</th>\n",
       "      <td id=\"T_c754f_row4_col0\" class=\"data row4 col0\" >14.6940</td>\n",
       "      <td id=\"T_c754f_row4_col1\" class=\"data row4 col1\" >114.8490</td>\n",
       "      <td id=\"T_c754f_row4_col2\" class=\"data row4 col2\" >5.9120</td>\n",
       "      <td id=\"T_c754f_row4_col3\" class=\"data row4 col3\" >14.7830</td>\n",
       "      <td id=\"T_c754f_row4_col4\" class=\"data row4 col4\" >150.6500</td>\n",
       "      <td id=\"T_c754f_row4_col5\" class=\"data row4 col5\" >5.7100</td>\n",
       "    </tr>\n",
       "    <tr>\n",
       "      <th id=\"T_c754f_level0_row5\" class=\"row_heading level0 row5\" >2000-06-15 19:30:00</th>\n",
       "      <td id=\"T_c754f_row5_col0\" class=\"data row5 col0\" >14.6060</td>\n",
       "      <td id=\"T_c754f_row5_col1\" class=\"data row5 col1\" >34.7280</td>\n",
       "      <td id=\"T_c754f_row5_col2\" class=\"data row5 col2\" >6.1140</td>\n",
       "      <td id=\"T_c754f_row5_col3\" class=\"data row5 col3\" >14.6940</td>\n",
       "      <td id=\"T_c754f_row5_col4\" class=\"data row5 col4\" >114.8490</td>\n",
       "      <td id=\"T_c754f_row5_col5\" class=\"data row5 col5\" >5.9120</td>\n",
       "    </tr>\n",
       "    <tr>\n",
       "      <th id=\"T_c754f_level0_row6\" class=\"row_heading level0 row6\" >2000-06-15 20:00:00</th>\n",
       "      <td id=\"T_c754f_row6_col0\" class=\"data row6 col0\" >14.3800</td>\n",
       "      <td id=\"T_c754f_row6_col1\" class=\"data row6 col1\" >19.8430</td>\n",
       "      <td id=\"T_c754f_row6_col2\" class=\"data row6 col2\" >6.0740</td>\n",
       "      <td id=\"T_c754f_row6_col3\" class=\"data row6 col3\" >14.6060</td>\n",
       "      <td id=\"T_c754f_row6_col4\" class=\"data row6 col4\" >34.7280</td>\n",
       "      <td id=\"T_c754f_row6_col5\" class=\"data row6 col5\" >6.1140</td>\n",
       "    </tr>\n",
       "    <tr>\n",
       "      <th id=\"T_c754f_level0_row7\" class=\"row_heading level0 row7\" >2000-06-15 20:30:00</th>\n",
       "      <td id=\"T_c754f_row7_col0\" class=\"data row7 col0\" >14.1550</td>\n",
       "      <td id=\"T_c754f_row7_col1\" class=\"data row7 col1\" >5.7120</td>\n",
       "      <td id=\"T_c754f_row7_col2\" class=\"data row7 col2\" >6.0340</td>\n",
       "      <td id=\"T_c754f_row7_col3\" class=\"data row7 col3\" >14.3800</td>\n",
       "      <td id=\"T_c754f_row7_col4\" class=\"data row7 col4\" >19.8430</td>\n",
       "      <td id=\"T_c754f_row7_col5\" class=\"data row7 col5\" >6.0740</td>\n",
       "    </tr>\n",
       "    <tr>\n",
       "      <th id=\"T_c754f_level0_row8\" class=\"row_heading level0 row8\" >2000-06-15 21:00:00</th>\n",
       "      <td id=\"T_c754f_row8_col0\" class=\"data row8 col0\" >13.9290</td>\n",
       "      <td id=\"T_c754f_row8_col1\" class=\"data row8 col1\" >0.0000</td>\n",
       "      <td id=\"T_c754f_row8_col2\" class=\"data row8 col2\" >5.9940</td>\n",
       "      <td id=\"T_c754f_row8_col3\" class=\"data row8 col3\" >14.1550</td>\n",
       "      <td id=\"T_c754f_row8_col4\" class=\"data row8 col4\" >5.7120</td>\n",
       "      <td id=\"T_c754f_row8_col5\" class=\"data row8 col5\" >6.0340</td>\n",
       "    </tr>\n",
       "    <tr>\n",
       "      <th id=\"T_c754f_level0_row9\" class=\"row_heading level0 row9\" >2000-06-15 21:30:00</th>\n",
       "      <td id=\"T_c754f_row9_col0\" class=\"data row9 col0\" >13.7040</td>\n",
       "      <td id=\"T_c754f_row9_col1\" class=\"data row9 col1\" >0.0000</td>\n",
       "      <td id=\"T_c754f_row9_col2\" class=\"data row9 col2\" >5.9540</td>\n",
       "      <td id=\"T_c754f_row9_col3\" class=\"data row9 col3\" >13.9290</td>\n",
       "      <td id=\"T_c754f_row9_col4\" class=\"data row9 col4\" >0.0000</td>\n",
       "      <td id=\"T_c754f_row9_col5\" class=\"data row9 col5\" >5.9940</td>\n",
       "    </tr>\n",
       "  </tbody>\n",
       "</table>\n",
       " </div></div>"
      ],
      "text/plain": [
       "__main__.MeteoImpDf(data=                        TA       SW_IN    VPD\n",
       "time                                         \n",
       "2000-06-15 17:00:00  14.22  224.800003  5.799\n",
       "2000-06-15 17:30:00  14.11  195.279999  6.577\n",
       "2000-06-15 18:00:00  14.23  244.169998  6.931\n",
       "2000-06-15 18:30:00  14.40  253.919998  7.286\n",
       "2000-06-15 19:00:00  14.09  177.309998  7.251\n",
       "2000-06-15 19:30:00  13.71   97.070000  6.683\n",
       "2000-06-15 20:00:00  13.08   39.709999  5.851\n",
       "2000-06-15 20:30:00  12.41   10.650000  5.254\n",
       "2000-06-15 21:00:00  12.27    0.320000  5.164\n",
       "2000-06-15 21:30:00  12.20    0.000000  5.037, mask=                        TA  SW_IN   VPD\n",
       "time                                   \n",
       "2000-06-15 17:00:00   True   True  True\n",
       "2000-06-15 17:30:00   True   True  True\n",
       "2000-06-15 18:00:00   True   True  True\n",
       "2000-06-15 18:30:00   True   True  True\n",
       "2000-06-15 19:00:00   True   True  True\n",
       "2000-06-15 19:30:00  False  False  True\n",
       "2000-06-15 20:00:00  False  False  True\n",
       "2000-06-15 20:30:00   True   True  True\n",
       "2000-06-15 21:00:00   True   True  True\n",
       "2000-06-15 21:30:00   True   True  True, control=                     TA_ERA   SW_IN_ERA  VPD_ERA  TA_ERA_lag_1  \\\n",
       "time                                                             \n",
       "2000-06-15 17:00:00  15.050  255.192993    5.102        15.139   \n",
       "2000-06-15 17:30:00  14.961  221.427002    5.305        15.050   \n",
       "2000-06-15 18:00:00  14.872  186.380005    5.507        14.961   \n",
       "2000-06-15 18:30:00  14.783  150.649994    5.710        14.872   \n",
       "2000-06-15 19:00:00  14.694  114.848999    5.912        14.783   \n",
       "2000-06-15 19:30:00  14.606   34.728001    6.114        14.694   \n",
       "2000-06-15 20:00:00  14.380   19.843000    6.074        14.606   \n",
       "2000-06-15 20:30:00  14.155    5.712000    6.034        14.380   \n",
       "2000-06-15 21:00:00  13.929    0.000000    5.994        14.155   \n",
       "2000-06-15 21:30:00  13.704    0.000000    5.954        13.929   \n",
       "\n",
       "                     SW_IN_ERA_lag_1  VPD_ERA_lag_1  \n",
       "time                                                 \n",
       "2000-06-15 17:00:00       287.100006          4.900  \n",
       "2000-06-15 17:30:00       255.192993          5.102  \n",
       "2000-06-15 18:00:00       221.427002          5.305  \n",
       "2000-06-15 18:30:00       186.380005          5.507  \n",
       "2000-06-15 19:00:00       150.649994          5.710  \n",
       "2000-06-15 19:30:00       114.848999          5.912  \n",
       "2000-06-15 20:00:00        34.728001          6.114  \n",
       "2000-06-15 20:30:00        19.843000          6.074  \n",
       "2000-06-15 21:00:00         5.712000          6.034  \n",
       "2000-06-15 21:30:00         0.000000          5.994  )"
      ]
     },
     "execution_count": null,
     "metadata": {},
     "output_type": "execute_result"
    }
   ],
   "source": [
    "tfms2[0]"
   ]
  },
  {
   "cell_type": "code",
   "execution_count": null,
   "id": "f2990cbe-babc-4f62-9b6f-2807edfa05b2",
   "metadata": {},
   "outputs": [],
   "source": [
    "tfms3 = TfmdLists([800, 801, 802], [*tfms2.fs, MeteoImpDf2Tensor()])"
   ]
  },
  {
   "cell_type": "code",
   "execution_count": null,
   "id": "755add1e-55d4-4408-8db2-ab28d804edd2",
   "metadata": {},
   "outputs": [
    {
     "data": {
      "text/html": [
       "<div style=\"display: flex; column-gap: 20px; flex-wrap: wrap;\" class='table table-striped table-sm'> <div><p style='font-size: 1.2rem;'>data</p> <pre>tensor([[ 14.2200, 224.8000,   5.7990],\n",
       "        [ 14.1100, 195.2800,   6.5770],\n",
       "        [ 14.2300, 244.1700,   6.9310],\n",
       "        [ 14.4000, 253.9200,   7.2860],\n",
       "        [ 14.0900, 177.3100,   7.2510],\n",
       "        [ 13.7100,  97.0700,   6.6830],\n",
       "        [ 13.0800,  39.7100,   5.8510],\n",
       "        [ 12.4100,  10.6500,   5.2540],\n",
       "        [ 12.2700,   0.3200,   5.1640],\n",
       "        [ 12.2000,   0.0000,   5.0370]])</pre> </div><div><p style='font-size: 1.2rem;'>mask</p> <pre>tensor([[ True,  True,  True],\n",
       "        [ True,  True,  True],\n",
       "        [ True,  True,  True],\n",
       "        [ True,  True,  True],\n",
       "        [ True,  True,  True],\n",
       "        [False, False,  True],\n",
       "        [False, False,  True],\n",
       "        [ True,  True,  True],\n",
       "        [ True,  True,  True],\n",
       "        [ True,  True,  True]])</pre> </div><div><p style='font-size: 1.2rem;'>control</p> <pre>tensor([[ 15.0500, 255.1930,   5.1020,  15.1390, 287.1000,   4.9000],\n",
       "        [ 14.9610, 221.4270,   5.3050,  15.0500, 255.1930,   5.1020],\n",
       "        [ 14.8720, 186.3800,   5.5070,  14.9610, 221.4270,   5.3050],\n",
       "        [ 14.7830, 150.6500,   5.7100,  14.8720, 186.3800,   5.5070],\n",
       "        [ 14.6940, 114.8490,   5.9120,  14.7830, 150.6500,   5.7100],\n",
       "        [ 14.6060,  34.7280,   6.1140,  14.6940, 114.8490,   5.9120],\n",
       "        [ 14.3800,  19.8430,   6.0740,  14.6060,  34.7280,   6.1140],\n",
       "        [ 14.1550,   5.7120,   6.0340,  14.3800,  19.8430,   6.0740],\n",
       "        [ 13.9290,   0.0000,   5.9940,  14.1550,   5.7120,   6.0340],\n",
       "        [ 13.7040,   0.0000,   5.9540,  13.9290,   0.0000,   5.9940]])</pre> </div></div>"
      ],
      "text/plain": [
       "__main__.MeteoImpTensor(data=tensor([[ 14.2200, 224.8000,   5.7990],\n",
       "        [ 14.1100, 195.2800,   6.5770],\n",
       "        [ 14.2300, 244.1700,   6.9310],\n",
       "        [ 14.4000, 253.9200,   7.2860],\n",
       "        [ 14.0900, 177.3100,   7.2510],\n",
       "        [ 13.7100,  97.0700,   6.6830],\n",
       "        [ 13.0800,  39.7100,   5.8510],\n",
       "        [ 12.4100,  10.6500,   5.2540],\n",
       "        [ 12.2700,   0.3200,   5.1640],\n",
       "        [ 12.2000,   0.0000,   5.0370]]), mask=tensor([[ True,  True,  True],\n",
       "        [ True,  True,  True],\n",
       "        [ True,  True,  True],\n",
       "        [ True,  True,  True],\n",
       "        [ True,  True,  True],\n",
       "        [False, False,  True],\n",
       "        [False, False,  True],\n",
       "        [ True,  True,  True],\n",
       "        [ True,  True,  True],\n",
       "        [ True,  True,  True]]), control=tensor([[ 15.0500, 255.1930,   5.1020,  15.1390, 287.1000,   4.9000],\n",
       "        [ 14.9610, 221.4270,   5.3050,  15.0500, 255.1930,   5.1020],\n",
       "        [ 14.8720, 186.3800,   5.5070,  14.9610, 221.4270,   5.3050],\n",
       "        [ 14.7830, 150.6500,   5.7100,  14.8720, 186.3800,   5.5070],\n",
       "        [ 14.6940, 114.8490,   5.9120,  14.7830, 150.6500,   5.7100],\n",
       "        [ 14.6060,  34.7280,   6.1140,  14.6940, 114.8490,   5.9120],\n",
       "        [ 14.3800,  19.8430,   6.0740,  14.6060,  34.7280,   6.1140],\n",
       "        [ 14.1550,   5.7120,   6.0340,  14.3800,  19.8430,   6.0740],\n",
       "        [ 13.9290,   0.0000,   5.9940,  14.1550,   5.7120,   6.0340],\n",
       "        [ 13.7040,   0.0000,   5.9540,  13.9290,   0.0000,   5.9940]]))"
      ]
     },
     "execution_count": null,
     "metadata": {},
     "output_type": "execute_result"
    }
   ],
   "source": [
    "tfms3[0]"
   ]
  },
  {
   "cell_type": "code",
   "execution_count": null,
   "id": "324520e5-5979-4b7e-b52f-97e86788c187",
   "metadata": {},
   "outputs": [
    {
     "data": {
      "text/plain": [
       "__main__.MeteoImpTensor"
      ]
     },
     "execution_count": null,
     "metadata": {},
     "output_type": "execute_result"
    }
   ],
   "source": [
    "type(tfms3[0])"
   ]
  },
  {
   "cell_type": "code",
   "execution_count": null,
   "id": "56477320-5c88-48c8-90a8-ceda644dffb9",
   "metadata": {},
   "outputs": [],
   "source": [
    "# tfms3.decode(tfms3[0])"
   ]
  },
  {
   "cell_type": "markdown",
   "id": "87e120fa-cf84-4e32-8c99-9af24a2755b1",
   "metadata": {},
   "source": [
    "### 5) Normalize"
   ]
  },
  {
   "cell_type": "code",
   "execution_count": null,
   "id": "3ba23250-9b69-43c2-b2f6-db4ef5658e6a",
   "metadata": {},
   "outputs": [],
   "source": [
    "#| export\n",
    "from meteo_imp.utils import *\n",
    "from fastai.torch_core import to_cpu\n",
    "\n",
    "from torch import Tensor"
   ]
  },
  {
   "cell_type": "code",
   "execution_count": null,
   "id": "da858473-9de5-4abf-8a32-eb24bfb6b054",
   "metadata": {},
   "outputs": [
    {
     "data": {
      "text/plain": [
       "<function collections.namedtuple(typename, field_names, *, rename=False, defaults=None, module=None)>"
      ]
     },
     "execution_count": null,
     "metadata": {},
     "output_type": "execute_result"
    }
   ],
   "source": [
    "collections.namedtuple"
   ]
  },
  {
   "cell_type": "code",
   "execution_count": null,
   "id": "0505fab1-5a53-4879-9d0d-7cc918bd5bdf",
   "metadata": {},
   "outputs": [],
   "source": [
    "nt = collections.namedtuple(\"nt\", \"a\")"
   ]
  },
  {
   "cell_type": "code",
   "execution_count": null,
   "id": "6ad97a8b-4da1-4c88-9b49-8ca0f3ce4a13",
   "metadata": {},
   "outputs": [
    {
     "data": {
      "text/plain": [
       "True"
      ]
     },
     "execution_count": null,
     "metadata": {},
     "output_type": "execute_result"
    }
   ],
   "source": [
    "isinstance(nt(1), tuple)"
   ]
  },
  {
   "cell_type": "code",
   "execution_count": null,
   "id": "f1ac4c68-5abf-41c0-b754-889ad3af0999",
   "metadata": {},
   "outputs": [],
   "source": [
    "#| export\n",
    "class NormalsParams(list):\n",
    "    def __init__(self,*args):\n",
    "        if len(args)==2:\n",
    "            self.mean = args[0]\n",
    "            self.std = args[1]\n",
    "        elif isinstance(args[0], Generator):\n",
    "            args = list(args[0])\n",
    "            self.mean = args[0]\n",
    "            self.std = args[1]\n",
    "        elif len(args)==1 and len(args[0])==2:\n",
    "            self.mean = tuple(args[0])[0]\n",
    "            self.std = tuple(args[0])[1]                     \n",
    "        else:\n",
    "            raise ValueError(f\"Incorrect number of arguments. got {len(args)} args\")\n",
    "    def __iter__(self): return iter((self.mean, self.std,))\n",
    "    def __next__(self): return next(self.__iter__())\n",
    "    def __len__(self): return 2\n",
    "    def __getitem__(self, key):\n",
    "        if key == 0: return self.mean\n",
    "        elif key == 1: return self.std\n",
    "        else: raise IndexError(\"index bigger than 2\")\n",
    "    __repr__ = basic_repr('mean, std')"
   ]
  },
  {
   "cell_type": "code",
   "execution_count": null,
   "id": "bd093319-c16b-494c-9431-1c7d5d8869a8",
   "metadata": {},
   "outputs": [
    {
     "data": {
      "text/plain": [
       "__main__.NormalsParams(mean=0, std=1)"
      ]
     },
     "execution_count": null,
     "metadata": {},
     "output_type": "execute_result"
    }
   ],
   "source": [
    "NormalsParams(0,1)"
   ]
  },
  {
   "cell_type": "code",
   "execution_count": null,
   "id": "e75c7ecf-2785-49fc-b1ff-fe98c4e03843",
   "metadata": {},
   "outputs": [],
   "source": [
    "#| export\n",
    "def get_stats(df, repeat=1, device='cpu'):\n",
    "    return torch.tensor(df.mean(axis=0).to_numpy(), device=device).repeat(repeat), torch.tensor(df.std(axis=0).to_numpy(), device=device).repeat(repeat)"
   ]
  },
  {
   "cell_type": "code",
   "execution_count": null,
   "id": "975601aa-1325-4ece-989c-0eb60a9d8d85",
   "metadata": {},
   "outputs": [],
   "source": [
    "#| export\n",
    "class MeteoImpNormalize(Transform):\n",
    "    \"Normalize/denorm MeteoImpTensor column-wise \"\n",
    "    @property\n",
    "    def name(self): return f\"{super().name} -- {getattr(self,'__stored_args__',{})}\"\n",
    "\n",
    "    def __init__(self, mean_data, std_data, mean_control, std_control): store_attr()\n",
    "\n",
    "    def encodes(self, x:MeteoImpTensor)-> MeteoImpTensor:\n",
    "        return MeteoImpTensor((x.data -self.mean_data) / self.std_data, x.mask, (x.control - self.mean_control)/self.std_control)\n",
    "\n",
    "    def decodes(self, x:MeteoImpTensor)->MeteoImpTensor:\n",
    "        f = partial(to_device, device=(x[0].device))\n",
    "        return MeteoImpTensor(x.data * f(self.std_data) + f(self.mean_data), x.mask, x.control * f(self.std_control) + f(self.mean_control))\n",
    "    \n",
    "    def decodes(self, x:NormalsParams):\n",
    "        f = partial(to_device, device=(x[0].device))\n",
    "        mean = x.mean * f(self.std_data) + f(self.mean_data)\n",
    "        std = x.std * f(self.std_data)\n",
    "        \n",
    "        return NormalsParams(mean, std)"
   ]
  },
  {
   "cell_type": "code",
   "execution_count": null,
   "id": "81c896b6-86c0-407b-8f4b-da4bdc366c27",
   "metadata": {},
   "outputs": [],
   "source": [
    "norm = MeteoImpNormalize(*get_stats(hai), *get_stats(hai_era,2))"
   ]
  },
  {
   "cell_type": "code",
   "execution_count": null,
   "id": "7e8c0fab-da94-400f-8486-0253b05a6a96",
   "metadata": {},
   "outputs": [
    {
     "data": {
      "text/html": [
       "<div style=\"display: flex; column-gap: 20px; flex-wrap: wrap;\" class='table table-striped table-sm'> <div><p style='font-size: 1.2rem;'>data</p> <pre>tensor([[ 14.2200, 224.8000,   5.7990],\n",
       "        [ 14.1100, 195.2800,   6.5770],\n",
       "        [ 14.2300, 244.1700,   6.9310],\n",
       "        [ 14.4000, 253.9200,   7.2860],\n",
       "        [ 14.0900, 177.3100,   7.2510],\n",
       "        [ 13.7100,  97.0700,   6.6830],\n",
       "        [ 13.0800,  39.7100,   5.8510],\n",
       "        [ 12.4100,  10.6500,   5.2540],\n",
       "        [ 12.2700,   0.3200,   5.1640],\n",
       "        [ 12.2000,   0.0000,   5.0370]])</pre> </div><div><p style='font-size: 1.2rem;'>mask</p> <pre>tensor([[ True,  True,  True],\n",
       "        [ True,  True,  True],\n",
       "        [ True,  True,  True],\n",
       "        [ True,  True,  True],\n",
       "        [ True,  True,  True],\n",
       "        [False, False,  True],\n",
       "        [False, False,  True],\n",
       "        [ True,  True,  True],\n",
       "        [ True,  True,  True],\n",
       "        [ True,  True,  True]])</pre> </div><div><p style='font-size: 1.2rem;'>control</p> <pre>tensor([[ 15.0500, 255.1930,   5.1020,  15.1390, 287.1000,   4.9000],\n",
       "        [ 14.9610, 221.4270,   5.3050,  15.0500, 255.1930,   5.1020],\n",
       "        [ 14.8720, 186.3800,   5.5070,  14.9610, 221.4270,   5.3050],\n",
       "        [ 14.7830, 150.6500,   5.7100,  14.8720, 186.3800,   5.5070],\n",
       "        [ 14.6940, 114.8490,   5.9120,  14.7830, 150.6500,   5.7100],\n",
       "        [ 14.6060,  34.7280,   6.1140,  14.6940, 114.8490,   5.9120],\n",
       "        [ 14.3800,  19.8430,   6.0740,  14.6060,  34.7280,   6.1140],\n",
       "        [ 14.1550,   5.7120,   6.0340,  14.3800,  19.8430,   6.0740],\n",
       "        [ 13.9290,   0.0000,   5.9940,  14.1550,   5.7120,   6.0340],\n",
       "        [ 13.7040,   0.0000,   5.9540,  13.9290,   0.0000,   5.9940]])</pre> </div></div>"
      ],
      "text/plain": [
       "__main__.MeteoImpTensor(data=tensor([[ 14.2200, 224.8000,   5.7990],\n",
       "        [ 14.1100, 195.2800,   6.5770],\n",
       "        [ 14.2300, 244.1700,   6.9310],\n",
       "        [ 14.4000, 253.9200,   7.2860],\n",
       "        [ 14.0900, 177.3100,   7.2510],\n",
       "        [ 13.7100,  97.0700,   6.6830],\n",
       "        [ 13.0800,  39.7100,   5.8510],\n",
       "        [ 12.4100,  10.6500,   5.2540],\n",
       "        [ 12.2700,   0.3200,   5.1640],\n",
       "        [ 12.2000,   0.0000,   5.0370]]), mask=tensor([[ True,  True,  True],\n",
       "        [ True,  True,  True],\n",
       "        [ True,  True,  True],\n",
       "        [ True,  True,  True],\n",
       "        [ True,  True,  True],\n",
       "        [False, False,  True],\n",
       "        [False, False,  True],\n",
       "        [ True,  True,  True],\n",
       "        [ True,  True,  True],\n",
       "        [ True,  True,  True]]), control=tensor([[ 15.0500, 255.1930,   5.1020,  15.1390, 287.1000,   4.9000],\n",
       "        [ 14.9610, 221.4270,   5.3050,  15.0500, 255.1930,   5.1020],\n",
       "        [ 14.8720, 186.3800,   5.5070,  14.9610, 221.4270,   5.3050],\n",
       "        [ 14.7830, 150.6500,   5.7100,  14.8720, 186.3800,   5.5070],\n",
       "        [ 14.6940, 114.8490,   5.9120,  14.7830, 150.6500,   5.7100],\n",
       "        [ 14.6060,  34.7280,   6.1140,  14.6940, 114.8490,   5.9120],\n",
       "        [ 14.3800,  19.8430,   6.0740,  14.6060,  34.7280,   6.1140],\n",
       "        [ 14.1550,   5.7120,   6.0340,  14.3800,  19.8430,   6.0740],\n",
       "        [ 13.9290,   0.0000,   5.9940,  14.1550,   5.7120,   6.0340],\n",
       "        [ 13.7040,   0.0000,   5.9540,  13.9290,   0.0000,   5.9940]]))"
      ]
     },
     "execution_count": null,
     "metadata": {},
     "output_type": "execute_result"
    }
   ],
   "source": [
    "tfms3[0]"
   ]
  },
  {
   "cell_type": "code",
   "execution_count": null,
   "id": "ac2ff9bb-9a90-468e-a079-27e383eb5e0a",
   "metadata": {},
   "outputs": [
    {
     "data": {
      "text/html": [
       "<div>\n",
       "  <p>\n",
       "    <strong>MeteoImpNormalize -- {'mean_data': tensor([  8.3339, 120.9578,   3.3807]), 'std_data': tensor([  7.9246, 204.0026,   4.3684]), 'mean_control': tensor([  8.1948, 120.6864,   3.3253,   8.1948, 120.6864,   3.3253]), 'std_control': tensor([  7.5459, 187.1730,   3.6871,   7.5459, 187.1730,   3.6871])}</strong>\n",
       "  </p>\n",
       "  <p>(MeteoImpTensor,object) -&gt; encodes\n",
       "</p>\n",
       "  <p>(MeteoImpTensor,object) -&gt; decodes\n",
       "(NormalsParams,object) -&gt; decodes\n",
       "</p>\n",
       "</div>"
      ],
      "text/plain": [
       "MeteoImpNormalize -- {'mean_data': tensor([  8.3339, 120.9578,   3.3807]), 'std_data': tensor([  7.9246, 204.0026,   4.3684]), 'mean_control': tensor([  8.1948, 120.6864,   3.3253,   8.1948, 120.6864,   3.3253]), 'std_control': tensor([  7.5459, 187.1730,   3.6871,   7.5459, 187.1730,   3.6871])}:\n",
       "encodes: (MeteoImpTensor,object) -> encodes\n",
       "decodes: (MeteoImpTensor,object) -> decodes\n",
       "(NormalsParams,object) -> decodes"
      ]
     },
     "execution_count": null,
     "metadata": {},
     "output_type": "execute_result"
    }
   ],
   "source": [
    "norm"
   ]
  },
  {
   "cell_type": "code",
   "execution_count": null,
   "id": "fb5acd9c-2c5c-4ff0-beaf-3cdf0bc15bcd",
   "metadata": {},
   "outputs": [
    {
     "data": {
      "text/html": [
       "<div style=\"display: flex; column-gap: 20px; flex-wrap: wrap;\" class='table table-striped table-sm'> <div><p style='font-size: 1.2rem;'>data</p> <pre>tensor([[ 0.7428,  0.5090,  0.5536],\n",
       "        [ 0.7289,  0.3643,  0.7317],\n",
       "        [ 0.7440,  0.6040,  0.8127],\n",
       "        [ 0.7655,  0.6518,  0.8940],\n",
       "        [ 0.7264,  0.2762,  0.8860],\n",
       "        [ 0.6784, -0.1171,  0.7560],\n",
       "        [ 0.5989, -0.3983,  0.5655],\n",
       "        [ 0.5144, -0.5407,  0.4288],\n",
       "        [ 0.4967, -0.5914,  0.4082],\n",
       "        [ 0.4879, -0.5929,  0.3792]])</pre> </div><div><p style='font-size: 1.2rem;'>mask</p> <pre>tensor([[ True,  True,  True],\n",
       "        [False, False,  True],\n",
       "        [False, False,  True],\n",
       "        [ True,  True,  True],\n",
       "        [ True,  True,  True],\n",
       "        [ True,  True,  True],\n",
       "        [ True,  True,  True],\n",
       "        [ True,  True,  True],\n",
       "        [ True,  True,  True],\n",
       "        [ True,  True,  True]])</pre> </div><div><p style='font-size: 1.2rem;'>control</p> <pre>tensor([[ 0.9085,  0.7186,  0.4819,  0.9203,  0.8891,  0.4271],\n",
       "        [ 0.8967,  0.5382,  0.5369,  0.9085,  0.7186,  0.4819],\n",
       "        [ 0.8849,  0.3510,  0.5917,  0.8967,  0.5382,  0.5369],\n",
       "        [ 0.8731,  0.1601,  0.6468,  0.8849,  0.3510,  0.5917],\n",
       "        [ 0.8613, -0.0312,  0.7015,  0.8731,  0.1601,  0.6468],\n",
       "        [ 0.8496, -0.4592,  0.7563,  0.8613, -0.0312,  0.7015],\n",
       "        [ 0.8197, -0.5388,  0.7455,  0.8496, -0.4592,  0.7563],\n",
       "        [ 0.7899, -0.6143,  0.7346,  0.8197, -0.5388,  0.7455],\n",
       "        [ 0.7599, -0.6448,  0.7238,  0.7899, -0.6143,  0.7346],\n",
       "        [ 0.7301, -0.6448,  0.7129,  0.7599, -0.6448,  0.7238]])</pre> </div></div>"
      ],
      "text/plain": [
       "__main__.MeteoImpTensor(data=tensor([[ 0.7428,  0.5090,  0.5536],\n",
       "        [ 0.7289,  0.3643,  0.7317],\n",
       "        [ 0.7440,  0.6040,  0.8127],\n",
       "        [ 0.7655,  0.6518,  0.8940],\n",
       "        [ 0.7264,  0.2762,  0.8860],\n",
       "        [ 0.6784, -0.1171,  0.7560],\n",
       "        [ 0.5989, -0.3983,  0.5655],\n",
       "        [ 0.5144, -0.5407,  0.4288],\n",
       "        [ 0.4967, -0.5914,  0.4082],\n",
       "        [ 0.4879, -0.5929,  0.3792]]), mask=tensor([[ True,  True,  True],\n",
       "        [False, False,  True],\n",
       "        [False, False,  True],\n",
       "        [ True,  True,  True],\n",
       "        [ True,  True,  True],\n",
       "        [ True,  True,  True],\n",
       "        [ True,  True,  True],\n",
       "        [ True,  True,  True],\n",
       "        [ True,  True,  True],\n",
       "        [ True,  True,  True]]), control=tensor([[ 0.9085,  0.7186,  0.4819,  0.9203,  0.8891,  0.4271],\n",
       "        [ 0.8967,  0.5382,  0.5369,  0.9085,  0.7186,  0.4819],\n",
       "        [ 0.8849,  0.3510,  0.5917,  0.8967,  0.5382,  0.5369],\n",
       "        [ 0.8731,  0.1601,  0.6468,  0.8849,  0.3510,  0.5917],\n",
       "        [ 0.8613, -0.0312,  0.7015,  0.8731,  0.1601,  0.6468],\n",
       "        [ 0.8496, -0.4592,  0.7563,  0.8613, -0.0312,  0.7015],\n",
       "        [ 0.8197, -0.5388,  0.7455,  0.8496, -0.4592,  0.7563],\n",
       "        [ 0.7899, -0.6143,  0.7346,  0.8197, -0.5388,  0.7455],\n",
       "        [ 0.7599, -0.6448,  0.7238,  0.7899, -0.6143,  0.7346],\n",
       "        [ 0.7301, -0.6448,  0.7129,  0.7599, -0.6448,  0.7238]]))"
      ]
     },
     "execution_count": null,
     "metadata": {},
     "output_type": "execute_result"
    }
   ],
   "source": [
    "norm(tfms3[0])"
   ]
  },
  {
   "cell_type": "code",
   "execution_count": null,
   "id": "bd4747c3-be04-483d-b9e4-730ec7912543",
   "metadata": {},
   "outputs": [],
   "source": [
    "test_close(norm.decode(norm(tfms3[0]))[0], tfms3[0][0], eps=2e-5)"
   ]
  },
  {
   "cell_type": "markdown",
   "id": "9c6f8385-7a2d-46b7-9f8b-a25f8833febf",
   "metadata": {},
   "source": [
    "Test that NormalsParams decode actually works"
   ]
  },
  {
   "cell_type": "code",
   "execution_count": null,
   "id": "cb935fb9-c3bb-456e-bcf4-12ad6f8f5933",
   "metadata": {},
   "outputs": [],
   "source": [
    "Npars = NormalsParams(torch.tensor(1), torch.tensor(.1))"
   ]
  },
  {
   "cell_type": "code",
   "execution_count": null,
   "id": "1b6737ba-596e-47cf-9f79-0c5a83ce6fe8",
   "metadata": {},
   "outputs": [
    {
     "data": {
      "text/plain": [
       "__main__.NormalsParams(mean=tensor([ 16.2585, 324.9604,   7.7491]), std=tensor([ 0.7925, 20.4003,  0.4368]))"
      ]
     },
     "execution_count": null,
     "metadata": {},
     "output_type": "execute_result"
    }
   ],
   "source": [
    "norm.decode(Npars)"
   ]
  },
  {
   "cell_type": "code",
   "execution_count": null,
   "id": "3ba86749-5fe4-49b6-8ca2-48c225d4cfcd",
   "metadata": {},
   "outputs": [],
   "source": [
    "tfms4 = TfmdLists([800,801,803], [*tfms3.fs,MeteoImpNormalize(*get_stats(hai),*get_stats(hai_era, 2) ) ])"
   ]
  },
  {
   "cell_type": "code",
   "execution_count": null,
   "id": "7ecb095d-5e4b-48c6-ad85-93396b8f42af",
   "metadata": {},
   "outputs": [
    {
     "data": {
      "text/html": [
       "<div style=\"display: flex; column-gap: 20px; flex-wrap: wrap;\" class='table table-striped table-sm'> <div><p style='font-size: 1.2rem;'>data</p> <pre>tensor([[ 0.7428,  0.5090,  0.5536],\n",
       "        [ 0.7289,  0.3643,  0.7317],\n",
       "        [ 0.7440,  0.6040,  0.8127],\n",
       "        [ 0.7655,  0.6518,  0.8940],\n",
       "        [ 0.7264,  0.2762,  0.8860],\n",
       "        [ 0.6784, -0.1171,  0.7560],\n",
       "        [ 0.5989, -0.3983,  0.5655],\n",
       "        [ 0.5144, -0.5407,  0.4288],\n",
       "        [ 0.4967, -0.5914,  0.4082],\n",
       "        [ 0.4879, -0.5929,  0.3792]])</pre> </div><div><p style='font-size: 1.2rem;'>mask</p> <pre>tensor([[ True,  True,  True],\n",
       "        [ True,  True,  True],\n",
       "        [ True,  True,  True],\n",
       "        [ True,  True,  True],\n",
       "        [ True,  True,  True],\n",
       "        [ True,  True,  True],\n",
       "        [False, False,  True],\n",
       "        [False, False,  True],\n",
       "        [ True,  True,  True],\n",
       "        [ True,  True,  True]])</pre> </div><div><p style='font-size: 1.2rem;'>control</p> <pre>tensor([[ 0.9085,  0.7186,  0.4819,  0.9203,  0.8891,  0.4271],\n",
       "        [ 0.8967,  0.5382,  0.5369,  0.9085,  0.7186,  0.4819],\n",
       "        [ 0.8849,  0.3510,  0.5917,  0.8967,  0.5382,  0.5369],\n",
       "        [ 0.8731,  0.1601,  0.6468,  0.8849,  0.3510,  0.5917],\n",
       "        [ 0.8613, -0.0312,  0.7015,  0.8731,  0.1601,  0.6468],\n",
       "        [ 0.8496, -0.4592,  0.7563,  0.8613, -0.0312,  0.7015],\n",
       "        [ 0.8197, -0.5388,  0.7455,  0.8496, -0.4592,  0.7563],\n",
       "        [ 0.7899, -0.6143,  0.7346,  0.8197, -0.5388,  0.7455],\n",
       "        [ 0.7599, -0.6448,  0.7238,  0.7899, -0.6143,  0.7346],\n",
       "        [ 0.7301, -0.6448,  0.7129,  0.7599, -0.6448,  0.7238]])</pre> </div></div>"
      ],
      "text/plain": [
       "__main__.MeteoImpTensor(data=tensor([[ 0.7428,  0.5090,  0.5536],\n",
       "        [ 0.7289,  0.3643,  0.7317],\n",
       "        [ 0.7440,  0.6040,  0.8127],\n",
       "        [ 0.7655,  0.6518,  0.8940],\n",
       "        [ 0.7264,  0.2762,  0.8860],\n",
       "        [ 0.6784, -0.1171,  0.7560],\n",
       "        [ 0.5989, -0.3983,  0.5655],\n",
       "        [ 0.5144, -0.5407,  0.4288],\n",
       "        [ 0.4967, -0.5914,  0.4082],\n",
       "        [ 0.4879, -0.5929,  0.3792]]), mask=tensor([[ True,  True,  True],\n",
       "        [ True,  True,  True],\n",
       "        [ True,  True,  True],\n",
       "        [ True,  True,  True],\n",
       "        [ True,  True,  True],\n",
       "        [ True,  True,  True],\n",
       "        [False, False,  True],\n",
       "        [False, False,  True],\n",
       "        [ True,  True,  True],\n",
       "        [ True,  True,  True]]), control=tensor([[ 0.9085,  0.7186,  0.4819,  0.9203,  0.8891,  0.4271],\n",
       "        [ 0.8967,  0.5382,  0.5369,  0.9085,  0.7186,  0.4819],\n",
       "        [ 0.8849,  0.3510,  0.5917,  0.8967,  0.5382,  0.5369],\n",
       "        [ 0.8731,  0.1601,  0.6468,  0.8849,  0.3510,  0.5917],\n",
       "        [ 0.8613, -0.0312,  0.7015,  0.8731,  0.1601,  0.6468],\n",
       "        [ 0.8496, -0.4592,  0.7563,  0.8613, -0.0312,  0.7015],\n",
       "        [ 0.8197, -0.5388,  0.7455,  0.8496, -0.4592,  0.7563],\n",
       "        [ 0.7899, -0.6143,  0.7346,  0.8197, -0.5388,  0.7455],\n",
       "        [ 0.7599, -0.6448,  0.7238,  0.7899, -0.6143,  0.7346],\n",
       "        [ 0.7301, -0.6448,  0.7129,  0.7599, -0.6448,  0.7238]]))"
      ]
     },
     "execution_count": null,
     "metadata": {},
     "output_type": "execute_result"
    }
   ],
   "source": [
    "tfms4[0]"
   ]
  },
  {
   "cell_type": "code",
   "execution_count": null,
   "id": "7f1d4c1d-65b1-4804-aa7e-7193cfadf4e1",
   "metadata": {},
   "outputs": [
    {
     "data": {
      "text/html": [
       "<div style=\"display: flex; column-gap: 20px; flex-wrap: wrap;\" class='table table-striped table-sm'> <div><p style='font-size: 1.2rem;'>data</p> <pre>tensor([[ 14.2200, 224.8000,   5.7990],\n",
       "        [ 14.1100, 195.2800,   6.5770],\n",
       "        [ 14.2300, 244.1700,   6.9310],\n",
       "        [ 14.4000, 253.9200,   7.2860],\n",
       "        [ 14.0900, 177.3100,   7.2510],\n",
       "        [ 13.7100,  97.0700,   6.6830],\n",
       "        [ 13.0800,  39.7100,   5.8510],\n",
       "        [ 12.4100,  10.6500,   5.2540],\n",
       "        [ 12.2700,   0.3200,   5.1640],\n",
       "        [ 12.2000,   0.0000,   5.0370]])</pre> </div><div><p style='font-size: 1.2rem;'>mask</p> <pre>tensor([[ True,  True,  True],\n",
       "        [ True,  True,  True],\n",
       "        [False, False,  True],\n",
       "        [False, False,  True],\n",
       "        [ True,  True,  True],\n",
       "        [ True,  True,  True],\n",
       "        [ True,  True,  True],\n",
       "        [ True,  True,  True],\n",
       "        [ True,  True,  True],\n",
       "        [ True,  True,  True]])</pre> </div><div><p style='font-size: 1.2rem;'>control</p> <pre>tensor([[ 1.5050e+01,  2.5519e+02,  5.1020e+00,  1.5139e+01,  2.8710e+02,\n",
       "          4.9000e+00],\n",
       "        [ 1.4961e+01,  2.2143e+02,  5.3050e+00,  1.5050e+01,  2.5519e+02,\n",
       "          5.1020e+00],\n",
       "        [ 1.4872e+01,  1.8638e+02,  5.5070e+00,  1.4961e+01,  2.2143e+02,\n",
       "          5.3050e+00],\n",
       "        [ 1.4783e+01,  1.5065e+02,  5.7100e+00,  1.4872e+01,  1.8638e+02,\n",
       "          5.5070e+00],\n",
       "        [ 1.4694e+01,  1.1485e+02,  5.9120e+00,  1.4783e+01,  1.5065e+02,\n",
       "          5.7100e+00],\n",
       "        [ 1.4606e+01,  3.4728e+01,  6.1140e+00,  1.4694e+01,  1.1485e+02,\n",
       "          5.9120e+00],\n",
       "        [ 1.4380e+01,  1.9843e+01,  6.0740e+00,  1.4606e+01,  3.4728e+01,\n",
       "          6.1140e+00],\n",
       "        [ 1.4155e+01,  5.7120e+00,  6.0340e+00,  1.4380e+01,  1.9843e+01,\n",
       "          6.0740e+00],\n",
       "        [ 1.3929e+01, -7.6294e-06,  5.9940e+00,  1.4155e+01,  5.7120e+00,\n",
       "          6.0340e+00],\n",
       "        [ 1.3704e+01, -7.6294e-06,  5.9540e+00,  1.3929e+01, -7.6294e-06,\n",
       "          5.9940e+00]])</pre> </div></div>"
      ],
      "text/plain": [
       "__main__.MeteoImpTensor(data=tensor([[ 14.2200, 224.8000,   5.7990],\n",
       "        [ 14.1100, 195.2800,   6.5770],\n",
       "        [ 14.2300, 244.1700,   6.9310],\n",
       "        [ 14.4000, 253.9200,   7.2860],\n",
       "        [ 14.0900, 177.3100,   7.2510],\n",
       "        [ 13.7100,  97.0700,   6.6830],\n",
       "        [ 13.0800,  39.7100,   5.8510],\n",
       "        [ 12.4100,  10.6500,   5.2540],\n",
       "        [ 12.2700,   0.3200,   5.1640],\n",
       "        [ 12.2000,   0.0000,   5.0370]]), mask=tensor([[ True,  True,  True],\n",
       "        [ True,  True,  True],\n",
       "        [False, False,  True],\n",
       "        [False, False,  True],\n",
       "        [ True,  True,  True],\n",
       "        [ True,  True,  True],\n",
       "        [ True,  True,  True],\n",
       "        [ True,  True,  True],\n",
       "        [ True,  True,  True],\n",
       "        [ True,  True,  True]]), control=tensor([[ 1.5050e+01,  2.5519e+02,  5.1020e+00,  1.5139e+01,  2.8710e+02,\n",
       "          4.9000e+00],\n",
       "        [ 1.4961e+01,  2.2143e+02,  5.3050e+00,  1.5050e+01,  2.5519e+02,\n",
       "          5.1020e+00],\n",
       "        [ 1.4872e+01,  1.8638e+02,  5.5070e+00,  1.4961e+01,  2.2143e+02,\n",
       "          5.3050e+00],\n",
       "        [ 1.4783e+01,  1.5065e+02,  5.7100e+00,  1.4872e+01,  1.8638e+02,\n",
       "          5.5070e+00],\n",
       "        [ 1.4694e+01,  1.1485e+02,  5.9120e+00,  1.4783e+01,  1.5065e+02,\n",
       "          5.7100e+00],\n",
       "        [ 1.4606e+01,  3.4728e+01,  6.1140e+00,  1.4694e+01,  1.1485e+02,\n",
       "          5.9120e+00],\n",
       "        [ 1.4380e+01,  1.9843e+01,  6.0740e+00,  1.4606e+01,  3.4728e+01,\n",
       "          6.1140e+00],\n",
       "        [ 1.4155e+01,  5.7120e+00,  6.0340e+00,  1.4380e+01,  1.9843e+01,\n",
       "          6.0740e+00],\n",
       "        [ 1.3929e+01, -7.6294e-06,  5.9940e+00,  1.4155e+01,  5.7120e+00,\n",
       "          6.0340e+00],\n",
       "        [ 1.3704e+01, -7.6294e-06,  5.9540e+00,  1.3929e+01, -7.6294e-06,\n",
       "          5.9940e+00]]))"
      ]
     },
     "execution_count": null,
     "metadata": {},
     "output_type": "execute_result"
    }
   ],
   "source": [
    "tfms4.decode(tfms4[0])"
   ]
  },
  {
   "cell_type": "markdown",
   "id": "996ccbf6-0e81-4fd5-97ff-9ee2ab8eb42d",
   "metadata": {},
   "source": [
    "is workinggggggggggggggggg "
   ]
  },
  {
   "cell_type": "markdown",
   "id": "b0054d0c-1aba-4d7e-8bca-be55853b4388",
   "metadata": {},
   "source": [
    "### 6) To Tuple"
   ]
  },
  {
   "cell_type": "markdown",
   "id": "9e74011f-f689-4f39-8e9d-ec88e0487928",
   "metadata": {},
   "source": [
    "Fastai likes to work with tuples (in particular for collating)... for now convert to a tuple. Maybe find a way to mimic a tuple in `MeteoImpTensor`\n",
    "\n",
    "also duplicate the data, so it becomes training and label"
   ]
  },
  {
   "cell_type": "code",
   "execution_count": null,
   "id": "d1c3ff30-1e9e-4d83-a6ea-66df2924e04a",
   "metadata": {},
   "outputs": [],
   "source": [
    "#| export\n",
    "class ToTuple(Transform):\n",
    "    def encodes(self, x): return tuple(x),  tuple(x)\n",
    "    def decodes(self, x): return MeteoImpTensor(x[0])"
   ]
  },
  {
   "cell_type": "code",
   "execution_count": null,
   "id": "d80ba90d-eecf-46e5-b0dc-4f141879b9ac",
   "metadata": {},
   "outputs": [
    {
     "data": {
      "text/html": [
       "<div>\n",
       "  <p>\n",
       "    <strong>ToTuple</strong>\n",
       "  </p>\n",
       "  <p>(object,object) -&gt; encodes\n",
       "</p>\n",
       "  <p>(object,object) -&gt; decodes\n",
       "</p>\n",
       "</div>"
      ],
      "text/plain": [
       "ToTuple:\n",
       "encodes: (object,object) -> encodes\n",
       "decodes: (object,object) -> decodes"
      ]
     },
     "execution_count": null,
     "metadata": {},
     "output_type": "execute_result"
    }
   ],
   "source": [
    "ToTuple()"
   ]
  },
  {
   "cell_type": "code",
   "execution_count": null,
   "id": "b34cf6b9-3dec-42ba-802b-12fad01f1684",
   "metadata": {},
   "outputs": [],
   "source": [
    "tfms5 = TfmdLists([800,801,803], [*tfms4.fs,ToTuple])"
   ]
  },
  {
   "cell_type": "code",
   "execution_count": null,
   "id": "8ceb861e-16d5-444a-bbbd-1ec5cf5c40f9",
   "metadata": {},
   "outputs": [],
   "source": [
    "tfms5[0];"
   ]
  },
  {
   "cell_type": "markdown",
   "id": "81077302-18db-4010-9c88-ae8d48216353",
   "metadata": {},
   "source": [
    "### Pipeline"
   ]
  },
  {
   "cell_type": "code",
   "execution_count": null,
   "id": "0ad384f0-7912-4d40-9631-1e6e5294fb9f",
   "metadata": {},
   "outputs": [],
   "source": [
    "#| export\n",
    "from fastai.data.transforms import *"
   ]
  },
  {
   "cell_type": "code",
   "execution_count": null,
   "id": "5c19d0b5-b78c-4a5f-a606-8a1cfe832e8d",
   "metadata": {},
   "outputs": [],
   "source": [
    "block_len = 10\n",
    "control_lags = [1]\n",
    "control_repeat = 1 + len(control_lags)\n",
    "block_ids = list(range(max(control_lags), (len(hai) // block_len) - 1))[:10]\n",
    "gap_len = 2\n",
    "var_sel = ['TA','SW_IN']"
   ]
  },
  {
   "cell_type": "code",
   "execution_count": null,
   "id": "9a7a2fc4-fa0d-4b22-b7ca-65feed7ffcdc",
   "metadata": {},
   "outputs": [],
   "source": [
    "#| export\n",
    "def imp_pipeline(df,\n",
    "                 control,\n",
    "                 var_sel,\n",
    "                 gap_len,\n",
    "                 block_len,\n",
    "                 control_lags\n",
    "                ):\n",
    "    offset = max(control_lags)\n",
    "    block_ids = list(range(offset, (len(df) // block_len) - 1))\n",
    "    return [BlockIndexTransform(df.index, block_len=block_len, offset=offset),\n",
    "            BlockDfTransform(data = df, control = control,  control_lags = control_lags),\n",
    "            AddGapTransform(var_sel, gap_len),\n",
    "            MeteoImpDf2Tensor,\n",
    "            MeteoImpNormalize(*get_stats(df), *get_stats(control, 1+len(control_lags))),\n",
    "            ToTuple\n",
    "           ], block_ids"
   ]
  },
  {
   "cell_type": "code",
   "execution_count": null,
   "id": "ae7c4bad-445a-4e2a-9d30-e0160106b678",
   "metadata": {},
   "outputs": [],
   "source": [
    "pipeline, block_ids = imp_pipeline(hai, hai_era, var_sel, gap_len, block_len, control_lags)"
   ]
  },
  {
   "cell_type": "code",
   "execution_count": null,
   "id": "569ade0e-fb29-4929-9106-3ac010ce5db0",
   "metadata": {},
   "outputs": [
    {
     "data": {
      "text/plain": [
       "[BlockIndexTransform:\n",
       " encodes: (int,object) -> encodes\n",
       " decodes: ,\n",
       " BlockDfTransform:\n",
       " encodes: (DatetimeIndex,object) -> encodes\n",
       " decodes: ,\n",
       " AddGapTransform:\n",
       " encodes: (DataControl,object) -> encodes\n",
       " decodes: ,\n",
       " __main__.MeteoImpDf2Tensor,\n",
       " MeteoImpNormalize -- {'mean_data': tensor([  8.3339, 120.9578,   3.3807]), 'std_data': tensor([  7.9246, 204.0026,   4.3684]), 'mean_control': tensor([  8.1948, 120.6864,   3.3253,   8.1948, 120.6864,   3.3253]), 'std_control': tensor([  7.5459, 187.1730,   3.6871,   7.5459, 187.1730,   3.6871])}:\n",
       " encodes: (MeteoImpTensor,object) -> encodes\n",
       " decodes: (MeteoImpTensor,object) -> decodes\n",
       " (NormalsParams,object) -> decodes,\n",
       " __main__.ToTuple]"
      ]
     },
     "execution_count": null,
     "metadata": {},
     "output_type": "execute_result"
    }
   ],
   "source": [
    "pipeline"
   ]
  },
  {
   "cell_type": "code",
   "execution_count": null,
   "id": "5cc0fa4f-801d-4d04-a3a7-7012d11e3709",
   "metadata": {},
   "outputs": [],
   "source": [
    "pp = Pipeline(pipeline)"
   ]
  },
  {
   "cell_type": "code",
   "execution_count": null,
   "id": "7b7be91d-d0d2-4b85-9ab5-ece0cbaf6616",
   "metadata": {},
   "outputs": [
    {
     "data": {
      "text/plain": [
       "Pipeline: BlockIndexTransform -> BlockDfTransform -> AddGapTransform -> MeteoImpDf2Tensor -> MeteoImpNormalize -- {'mean_data': tensor([  8.3339, 120.9578,   3.3807]), 'std_data': tensor([  7.9246, 204.0026,   4.3684]), 'mean_control': tensor([  8.1948, 120.6864,   3.3253,   8.1948, 120.6864,   3.3253]), 'std_control': tensor([  7.5459, 187.1730,   3.6871,   7.5459, 187.1730,   3.6871])} -> ToTuple"
      ]
     },
     "execution_count": null,
     "metadata": {},
     "output_type": "execute_result"
    }
   ],
   "source": [
    "pp"
   ]
  },
  {
   "cell_type": "markdown",
   "id": "df9f46c5-7664-492e-8baa-62ed741033e1",
   "metadata": {},
   "source": [
    "### Dataloader"
   ]
  },
  {
   "cell_type": "markdown",
   "id": "b71760f8-6b1f-45be-a804-756a3946a585",
   "metadata": {},
   "source": [
    "random splitter for validation/training set"
   ]
  },
  {
   "cell_type": "code",
   "execution_count": null,
   "id": "322140fc-b896-4e38-b244-dc8525438cfa",
   "metadata": {},
   "outputs": [],
   "source": [
    "reset_seed()"
   ]
  },
  {
   "cell_type": "code",
   "execution_count": null,
   "id": "4aefcbc5-7675-4da8-9fa8-53efd933a5ce",
   "metadata": {},
   "outputs": [],
   "source": [
    "splits = RandomSplitter()(block_ids)"
   ]
  },
  {
   "cell_type": "markdown",
   "id": "ea416657-bd6b-4bd0-9970-1aee94d0b5ea",
   "metadata": {},
   "source": [
    "Repeat twice the pipeline since is the same pipeline both for training data and for labels.\n",
    "\n",
    "In theory could optimize the label creation and get the data only from the gap and not the control, but for now it works and the overhead is minimal"
   ]
  },
  {
   "cell_type": "code",
   "execution_count": null,
   "id": "81f7a4a2-88d7-4fd7-9a30-af7912fe66d9",
   "metadata": {},
   "outputs": [],
   "source": [
    "dls = TfmdLists(block_ids, pipeline, splits=splits).dataloaders(bs=2)"
   ]
  },
  {
   "cell_type": "code",
   "execution_count": null,
   "id": "68dc9b4d-28f5-4a4e-b61b-2544bfa1fcc9",
   "metadata": {},
   "outputs": [
    {
     "data": {
      "text/plain": [
       "((tensor([[[-0.3639, -0.5929, -0.7100],\n",
       "           [-0.3702, -0.5929, -0.7116],\n",
       "           [-0.3917, -0.5929, -0.7251],\n",
       "           [-0.3841, -0.5929, -0.7290],\n",
       "           [-0.3311, -0.5929, -0.7130],\n",
       "           [-0.2756, -0.5929, -0.6425],\n",
       "           [-0.2996, -0.5929, -0.6592],\n",
       "           [-0.3538, -0.5929, -0.6924],\n",
       "           [-0.3993, -0.5929, -0.7233],\n",
       "           [-0.4157, -0.5929, -0.7359]],\n",
       "  \n",
       "          [[ 0.9686,  1.4002, -0.1240],\n",
       "           [ 0.9598,  0.8047, -0.1476],\n",
       "           [ 0.9295,  0.7708, -0.2021],\n",
       "           [ 0.8677,  0.9064, -0.2462],\n",
       "           [ 0.9585,  1.3582, -0.0372],\n",
       "           [ 1.0746,  1.9390,  0.2590],\n",
       "           [ 1.1125,  1.9463,  0.2533],\n",
       "           [ 1.1541,  1.4281,  0.2734],\n",
       "           [ 1.1819,  0.9497,  0.2757],\n",
       "           [ 1.1680,  0.3953,  0.2592]]], device='cuda:0'),\n",
       "  tensor([[[ True,  True,  True],\n",
       "           [ True,  True,  True],\n",
       "           [ True,  True,  True],\n",
       "           [ True,  True,  True],\n",
       "           [ True,  True,  True],\n",
       "           [ True,  True,  True],\n",
       "           [ True,  True,  True],\n",
       "           [False, False,  True],\n",
       "           [False, False,  True],\n",
       "           [ True,  True,  True]],\n",
       "  \n",
       "          [[False, False,  True],\n",
       "           [False, False,  True],\n",
       "           [ True,  True,  True],\n",
       "           [ True,  True,  True],\n",
       "           [ True,  True,  True],\n",
       "           [ True,  True,  True],\n",
       "           [ True,  True,  True],\n",
       "           [ True,  True,  True],\n",
       "           [ True,  True,  True],\n",
       "           [ True,  True,  True]]], device='cuda:0'),\n",
       "  tensor([[[-0.2722, -0.6448, -0.7383, -0.2547, -0.6448, -0.7370],\n",
       "           [-0.2897, -0.6448, -0.7397, -0.2722, -0.6448, -0.7383],\n",
       "           [-0.3072, -0.6448, -0.7413, -0.2897, -0.6448, -0.7397],\n",
       "           [-0.3247, -0.6448, -0.7427, -0.3072, -0.6448, -0.7413],\n",
       "           [-0.3422, -0.6448, -0.7443, -0.3247, -0.6448, -0.7427],\n",
       "           [-0.3598, -0.6448, -0.7457, -0.3422, -0.6448, -0.7443],\n",
       "           [-0.3604, -0.6448, -0.7405, -0.3598, -0.6448, -0.7457],\n",
       "           [-0.3611, -0.6448, -0.7351, -0.3604, -0.6448, -0.7405],\n",
       "           [-0.3618, -0.6448, -0.7299, -0.3611, -0.6448, -0.7351],\n",
       "           [-0.3624, -0.6448, -0.7245, -0.3618, -0.6448, -0.7299]],\n",
       "  \n",
       "          [[ 1.0650,  1.3752,  0.5149,  1.0256,  1.2861,  0.3926],\n",
       "           [ 1.1043,  1.4420,  0.6370,  1.0650,  1.3752,  0.5149],\n",
       "           [ 1.1437,  1.4854,  0.7590,  1.1043,  1.4420,  0.6370],\n",
       "           [ 1.1831,  1.5046,  0.8811,  1.1437,  1.4854,  0.7590],\n",
       "           [ 1.2224,  1.4993,  1.0034,  1.1831,  1.5046,  0.8811],\n",
       "           [ 1.2619,  1.8371,  1.1254,  1.2224,  1.4993,  1.0034],\n",
       "           [ 1.3010,  1.7742,  1.2171,  1.2619,  1.8371,  1.1254],\n",
       "           [ 1.3402,  1.6844,  1.3088,  1.3010,  1.7742,  1.2171],\n",
       "           [ 1.3793,  1.5691,  1.4005,  1.3402,  1.6844,  1.3088],\n",
       "           [ 1.4185,  1.4304,  1.4921,  1.3793,  1.5691,  1.4005]]],\n",
       "         device='cuda:0')),\n",
       " (tensor([[[-0.3639, -0.5929, -0.7100],\n",
       "           [-0.3702, -0.5929, -0.7116],\n",
       "           [-0.3917, -0.5929, -0.7251],\n",
       "           [-0.3841, -0.5929, -0.7290],\n",
       "           [-0.3311, -0.5929, -0.7130],\n",
       "           [-0.2756, -0.5929, -0.6425],\n",
       "           [-0.2996, -0.5929, -0.6592],\n",
       "           [-0.3538, -0.5929, -0.6924],\n",
       "           [-0.3993, -0.5929, -0.7233],\n",
       "           [-0.4157, -0.5929, -0.7359]],\n",
       "  \n",
       "          [[ 0.9686,  1.4002, -0.1240],\n",
       "           [ 0.9598,  0.8047, -0.1476],\n",
       "           [ 0.9295,  0.7708, -0.2021],\n",
       "           [ 0.8677,  0.9064, -0.2462],\n",
       "           [ 0.9585,  1.3582, -0.0372],\n",
       "           [ 1.0746,  1.9390,  0.2590],\n",
       "           [ 1.1125,  1.9463,  0.2533],\n",
       "           [ 1.1541,  1.4281,  0.2734],\n",
       "           [ 1.1819,  0.9497,  0.2757],\n",
       "           [ 1.1680,  0.3953,  0.2592]]], device='cuda:0'),\n",
       "  tensor([[[ True,  True,  True],\n",
       "           [ True,  True,  True],\n",
       "           [ True,  True,  True],\n",
       "           [ True,  True,  True],\n",
       "           [ True,  True,  True],\n",
       "           [ True,  True,  True],\n",
       "           [ True,  True,  True],\n",
       "           [False, False,  True],\n",
       "           [False, False,  True],\n",
       "           [ True,  True,  True]],\n",
       "  \n",
       "          [[False, False,  True],\n",
       "           [False, False,  True],\n",
       "           [ True,  True,  True],\n",
       "           [ True,  True,  True],\n",
       "           [ True,  True,  True],\n",
       "           [ True,  True,  True],\n",
       "           [ True,  True,  True],\n",
       "           [ True,  True,  True],\n",
       "           [ True,  True,  True],\n",
       "           [ True,  True,  True]]], device='cuda:0'),\n",
       "  tensor([[[-0.2722, -0.6448, -0.7383, -0.2547, -0.6448, -0.7370],\n",
       "           [-0.2897, -0.6448, -0.7397, -0.2722, -0.6448, -0.7383],\n",
       "           [-0.3072, -0.6448, -0.7413, -0.2897, -0.6448, -0.7397],\n",
       "           [-0.3247, -0.6448, -0.7427, -0.3072, -0.6448, -0.7413],\n",
       "           [-0.3422, -0.6448, -0.7443, -0.3247, -0.6448, -0.7427],\n",
       "           [-0.3598, -0.6448, -0.7457, -0.3422, -0.6448, -0.7443],\n",
       "           [-0.3604, -0.6448, -0.7405, -0.3598, -0.6448, -0.7457],\n",
       "           [-0.3611, -0.6448, -0.7351, -0.3604, -0.6448, -0.7405],\n",
       "           [-0.3618, -0.6448, -0.7299, -0.3611, -0.6448, -0.7351],\n",
       "           [-0.3624, -0.6448, -0.7245, -0.3618, -0.6448, -0.7299]],\n",
       "  \n",
       "          [[ 1.0650,  1.3752,  0.5149,  1.0256,  1.2861,  0.3926],\n",
       "           [ 1.1043,  1.4420,  0.6370,  1.0650,  1.3752,  0.5149],\n",
       "           [ 1.1437,  1.4854,  0.7590,  1.1043,  1.4420,  0.6370],\n",
       "           [ 1.1831,  1.5046,  0.8811,  1.1437,  1.4854,  0.7590],\n",
       "           [ 1.2224,  1.4993,  1.0034,  1.1831,  1.5046,  0.8811],\n",
       "           [ 1.2619,  1.8371,  1.1254,  1.2224,  1.4993,  1.0034],\n",
       "           [ 1.3010,  1.7742,  1.2171,  1.2619,  1.8371,  1.1254],\n",
       "           [ 1.3402,  1.6844,  1.3088,  1.3010,  1.7742,  1.2171],\n",
       "           [ 1.3793,  1.5691,  1.4005,  1.3402,  1.6844,  1.3088],\n",
       "           [ 1.4185,  1.4304,  1.4921,  1.3793,  1.5691,  1.4005]]],\n",
       "         device='cuda:0')))"
      ]
     },
     "execution_count": null,
     "metadata": {},
     "output_type": "execute_result"
    }
   ],
   "source": [
    "dls.one_batch()"
   ]
  },
  {
   "cell_type": "code",
   "execution_count": null,
   "id": "f1ee5a56-067d-4383-9f20-e0c4bc78d4ca",
   "metadata": {},
   "outputs": [
    {
     "data": {
      "text/plain": [
       "device(type='cuda', index=0)"
      ]
     },
     "execution_count": null,
     "metadata": {},
     "output_type": "execute_result"
    }
   ],
   "source": [
    "dls.device"
   ]
  },
  {
   "cell_type": "code",
   "execution_count": null,
   "id": "2223f2ba-79e9-4a58-87ae-a848e8a779a7",
   "metadata": {},
   "outputs": [],
   "source": [
    "@typedispatch\n",
    "def show_batch(x: tuple, y, samples, ctxs=None, max_n=6):\n",
    "    return x"
   ]
  },
  {
   "cell_type": "code",
   "execution_count": null,
   "id": "f81d21cf-c3c3-4926-bb64-067b9928a0b2",
   "metadata": {},
   "outputs": [],
   "source": [
    "# dls.show_batch()"
   ]
  },
  {
   "cell_type": "code",
   "execution_count": null,
   "id": "6bbdab5e-2970-4326-99de-1d1cbdd1b9fa",
   "metadata": {},
   "outputs": [
    {
     "data": {
      "text/plain": [
       "{tuple: [{tuple: [torch.Tensor, torch.Tensor, torch.Tensor]},\n",
       "  {tuple: [torch.Tensor, torch.Tensor, torch.Tensor]}]}"
      ]
     },
     "execution_count": null,
     "metadata": {},
     "output_type": "execute_result"
    }
   ],
   "source": [
    "dls._types"
   ]
  },
  {
   "cell_type": "code",
   "execution_count": null,
   "id": "22219b39-71a5-4ea6-a0dc-059f7fea6ffe",
   "metadata": {},
   "outputs": [],
   "source": [
    "from fastcore.foundation import *"
   ]
  },
  {
   "cell_type": "code",
   "execution_count": null,
   "id": "0fd3c5db-d210-4eba-b61c-b9007f6905e5",
   "metadata": {},
   "outputs": [
    {
     "data": {
      "text/plain": [
       "<function fastcore.meta.delegates(to: function = None, keep=False, but: list = None)>"
      ]
     },
     "execution_count": null,
     "metadata": {},
     "output_type": "execute_result"
    }
   ],
   "source": [
    "delegates"
   ]
  },
  {
   "cell_type": "code",
   "execution_count": null,
   "id": "9ec4f71f-607e-476e-a89e-8d6f2b8bcc19",
   "metadata": {},
   "outputs": [],
   "source": [
    "#| export\n",
    "def imp_dataloader(df,\n",
    "                 control,\n",
    "                 var_sel,\n",
    "                 gap_len,\n",
    "                 block_len,\n",
    "                 control_lags,\n",
    "                 bs):\n",
    "    pipeline, block_ids = imp_pipeline(df, control, var_sel, gap_len, block_len, control_lags)\n",
    "    splits = RandomSplitter()(block_ids)\n",
    "    ds = TfmdLists(block_ids, pipeline, splits=splits)\n",
    "    \n",
    "    return ds.dataloaders(bs=bs)\n",
    "    "
   ]
  },
  {
   "cell_type": "code",
   "execution_count": null,
   "id": "c64c8c89-fd3e-4c36-893f-ff937ad8eba8",
   "metadata": {},
   "outputs": [
    {
     "data": {
      "text/plain": [
       "<function __main__.imp_dataloader(df, control, var_sel, gap_len, block_len, control_lags, bs)>"
      ]
     },
     "execution_count": null,
     "metadata": {},
     "output_type": "execute_result"
    }
   ],
   "source": [
    "imp_dataloader"
   ]
  },
  {
   "cell_type": "code",
   "execution_count": null,
   "id": "cb1df190-83ba-4056-be7f-82d364e2dc87",
   "metadata": {},
   "outputs": [],
   "source": [
    "dls = imp_dataloader(hai, hai_era, var_sel, gap_len=10, block_len=200, control_lags=[1], bs=10)"
   ]
  },
  {
   "cell_type": "code",
   "execution_count": null,
   "id": "3024300b-3f82-436d-ac6d-13ff7861dbf7",
   "metadata": {},
   "outputs": [
    {
     "data": {
      "text/plain": [
       "torch.Size([10, 200, 3])"
      ]
     },
     "execution_count": null,
     "metadata": {},
     "output_type": "execute_result"
    }
   ],
   "source": [
    "dls.one_batch()[0][0].shape"
   ]
  },
  {
   "cell_type": "code",
   "execution_count": null,
   "id": "1a7c86d2-e054-4dd4-89c9-26165e558390",
   "metadata": {},
   "outputs": [],
   "source": [
    "dls = dls.cpu()"
   ]
  },
  {
   "cell_type": "markdown",
   "id": "64bb7e8b-178d-4ab6-a359-5bcc010a8767",
   "metadata": {},
   "source": [
    "## Model"
   ]
  },
  {
   "cell_type": "markdown",
   "id": "e4e0999c-d959-49fa-8e8a-0ed8e53f2f5d",
   "metadata": {},
   "source": [
    "### Forward Function"
   ]
  },
  {
   "cell_type": "markdown",
   "id": "dc64e0a2-b14b-4159-af4f-c6a9fb2a3f05",
   "metadata": {},
   "source": [
    "in order to the a pytorch module we need a forward method to the kalman filter"
   ]
  },
  {
   "cell_type": "code",
   "execution_count": null,
   "id": "42d40fc6-7b8d-4e9c-9f14-70ea54629826",
   "metadata": {},
   "outputs": [],
   "source": [
    "#| export\n",
    "from meteo_imp.kalman.filter import *\n",
    "from torch.distributions import MultivariateNormal"
   ]
  },
  {
   "cell_type": "code",
   "execution_count": null,
   "id": "0ebded29-5194-4ca4-808a-fe115d705495",
   "metadata": {},
   "outputs": [],
   "source": [
    "#| export\n",
    "@patch\n",
    "def _predict_filter(self: KalmanFilter, data, mask, control):\n",
    "    \"\"\"Predict every obsevation using only the filter step\"\"\"\n",
    "    # use the predicted state not the filtered state!\n",
    "    pred_state_mean, pred_state_cov, _, _ = self._filter_all(data, mask, control)\n",
    "    mean, cov = self._obs_from_state(ListMNormal(pred_state_mean.squeeze(-1), pred_state_cov))\n",
    "    \n",
    "    return ListNormal(mean, cov2std(cov))"
   ]
  },
  {
   "cell_type": "code",
   "execution_count": null,
   "id": "634980aa-b323-45cc-b2a3-bdd0ee95a4a9",
   "metadata": {},
   "outputs": [],
   "source": [
    "model = KalmanFilter.init_random(n_dim_obs = hai.shape[-1], n_dim_state = hai.shape[-1], n_dim_contr = hai_era.shape[-1]*control_repeat)"
   ]
  },
  {
   "cell_type": "code",
   "execution_count": null,
   "id": "5d188012-ee7c-4e3f-8c99-883a56752d65",
   "metadata": {},
   "outputs": [
    {
     "data": {
      "text/plain": [
       "2"
      ]
     },
     "execution_count": null,
     "metadata": {},
     "output_type": "execute_result"
    }
   ],
   "source": [
    "control_repeat"
   ]
  },
  {
   "cell_type": "code",
   "execution_count": null,
   "id": "68a511ea-26aa-4eb3-90e1-2a0fba057d60",
   "metadata": {},
   "outputs": [
    {
     "data": {
      "text/html": [
       "<p style='font-size: 1.5rem; font-decoration: bold'>Kalman Filter (3 obs, 3 state, 6 contr)<p><div style=\"display: flex; column-gap: 20px; flex-wrap: wrap;\" class='table table-striped table-sm'> <div> <p style='font-size: 1.3rem;'>trans matrix (A)</p> <style type=\"text/css\">\n",
       "</style>\n",
       "<table id=\"T_7618f\">\n",
       "  <thead>\n",
       "    <tr>\n",
       "      <th id=\"T_7618f_level0_col0\" class=\"col_heading level0 col0\" >state</th>\n",
       "      <th id=\"T_7618f_level0_col1\" class=\"col_heading level0 col1\" >x_0</th>\n",
       "      <th id=\"T_7618f_level0_col2\" class=\"col_heading level0 col2\" >x_1</th>\n",
       "      <th id=\"T_7618f_level0_col3\" class=\"col_heading level0 col3\" >x_2</th>\n",
       "    </tr>\n",
       "  </thead>\n",
       "  <tbody>\n",
       "    <tr>\n",
       "      <td id=\"T_7618f_row0_col0\" class=\"data row0 col0\" >x_0</td>\n",
       "      <td id=\"T_7618f_row0_col1\" class=\"data row0 col1\" >0.9391</td>\n",
       "      <td id=\"T_7618f_row0_col2\" class=\"data row0 col2\" >0.5536</td>\n",
       "      <td id=\"T_7618f_row0_col3\" class=\"data row0 col3\" >0.3457</td>\n",
       "    </tr>\n",
       "    <tr>\n",
       "      <td id=\"T_7618f_row1_col0\" class=\"data row1 col0\" >x_1</td>\n",
       "      <td id=\"T_7618f_row1_col1\" class=\"data row1 col1\" >0.0279</td>\n",
       "      <td id=\"T_7618f_row1_col2\" class=\"data row1 col2\" >0.0230</td>\n",
       "      <td id=\"T_7618f_row1_col3\" class=\"data row1 col3\" >0.3678</td>\n",
       "    </tr>\n",
       "    <tr>\n",
       "      <td id=\"T_7618f_row2_col0\" class=\"data row2 col0\" >x_2</td>\n",
       "      <td id=\"T_7618f_row2_col1\" class=\"data row2 col1\" >0.7279</td>\n",
       "      <td id=\"T_7618f_row2_col2\" class=\"data row2 col2\" >0.2933</td>\n",
       "      <td id=\"T_7618f_row2_col3\" class=\"data row2 col3\" >0.8148</td>\n",
       "    </tr>\n",
       "  </tbody>\n",
       "</table>\n",
       " </div><div> <p style='font-size: 1.3rem;'>trans cov (Q)</p> <style type=\"text/css\">\n",
       "</style>\n",
       "<table id=\"T_9d085\">\n",
       "  <thead>\n",
       "    <tr>\n",
       "      <th id=\"T_9d085_level0_col0\" class=\"col_heading level0 col0\" >state</th>\n",
       "      <th id=\"T_9d085_level0_col1\" class=\"col_heading level0 col1\" >x_0</th>\n",
       "      <th id=\"T_9d085_level0_col2\" class=\"col_heading level0 col2\" >x_1</th>\n",
       "      <th id=\"T_9d085_level0_col3\" class=\"col_heading level0 col3\" >x_2</th>\n",
       "    </tr>\n",
       "  </thead>\n",
       "  <tbody>\n",
       "    <tr>\n",
       "      <td id=\"T_9d085_row0_col0\" class=\"data row0 col0\" >x_0</td>\n",
       "      <td id=\"T_9d085_row0_col1\" class=\"data row0 col1\" >0.2811</td>\n",
       "      <td id=\"T_9d085_row0_col2\" class=\"data row0 col2\" >0.3998</td>\n",
       "      <td id=\"T_9d085_row0_col3\" class=\"data row0 col3\" >0.4784</td>\n",
       "    </tr>\n",
       "    <tr>\n",
       "      <td id=\"T_9d085_row1_col0\" class=\"data row1 col0\" >x_1</td>\n",
       "      <td id=\"T_9d085_row1_col1\" class=\"data row1 col1\" >0.3998</td>\n",
       "      <td id=\"T_9d085_row1_col2\" class=\"data row1 col2\" >1.2545</td>\n",
       "      <td id=\"T_9d085_row1_col3\" class=\"data row1 col3\" >0.6403</td>\n",
       "    </tr>\n",
       "    <tr>\n",
       "      <td id=\"T_9d085_row2_col0\" class=\"data row2 col0\" >x_2</td>\n",
       "      <td id=\"T_9d085_row2_col1\" class=\"data row2 col1\" >0.4784</td>\n",
       "      <td id=\"T_9d085_row2_col2\" class=\"data row2 col2\" >0.6403</td>\n",
       "      <td id=\"T_9d085_row2_col3\" class=\"data row2 col3\" >0.8191</td>\n",
       "    </tr>\n",
       "  </tbody>\n",
       "</table>\n",
       " </div><div> <p style='font-size: 1.3rem;'>trans off</p> <style type=\"text/css\">\n",
       "</style>\n",
       "<table id=\"T_c2efd\">\n",
       "  <thead>\n",
       "    <tr>\n",
       "      <th id=\"T_c2efd_level0_col0\" class=\"col_heading level0 col0\" >state</th>\n",
       "      <th id=\"T_c2efd_level0_col1\" class=\"col_heading level0 col1\" >offset</th>\n",
       "    </tr>\n",
       "  </thead>\n",
       "  <tbody>\n",
       "    <tr>\n",
       "      <td id=\"T_c2efd_row0_col0\" class=\"data row0 col0\" >x_0</td>\n",
       "      <td id=\"T_c2efd_row0_col1\" class=\"data row0 col1\" >0.9163</td>\n",
       "    </tr>\n",
       "    <tr>\n",
       "      <td id=\"T_c2efd_row1_col0\" class=\"data row1 col0\" >x_1</td>\n",
       "      <td id=\"T_c2efd_row1_col1\" class=\"data row1 col1\" >0.3011</td>\n",
       "    </tr>\n",
       "    <tr>\n",
       "      <td id=\"T_c2efd_row2_col0\" class=\"data row2 col0\" >x_2</td>\n",
       "      <td id=\"T_c2efd_row2_col1\" class=\"data row2 col1\" >0.8537</td>\n",
       "    </tr>\n",
       "  </tbody>\n",
       "</table>\n",
       " </div><div> <p style='font-size: 1.3rem;'>obs matrix (H)</p> <style type=\"text/css\">\n",
       "</style>\n",
       "<table id=\"T_5055e\">\n",
       "  <thead>\n",
       "    <tr>\n",
       "      <th id=\"T_5055e_level0_col0\" class=\"col_heading level0 col0\" >variable</th>\n",
       "      <th id=\"T_5055e_level0_col1\" class=\"col_heading level0 col1\" >x_0</th>\n",
       "      <th id=\"T_5055e_level0_col2\" class=\"col_heading level0 col2\" >x_1</th>\n",
       "      <th id=\"T_5055e_level0_col3\" class=\"col_heading level0 col3\" >x_2</th>\n",
       "    </tr>\n",
       "  </thead>\n",
       "  <tbody>\n",
       "    <tr>\n",
       "      <td id=\"T_5055e_row0_col0\" class=\"data row0 col0\" >y_0</td>\n",
       "      <td id=\"T_5055e_row0_col1\" class=\"data row0 col1\" >0.5088</td>\n",
       "      <td id=\"T_5055e_row0_col2\" class=\"data row0 col2\" >0.5328</td>\n",
       "      <td id=\"T_5055e_row0_col3\" class=\"data row0 col3\" >0.4943</td>\n",
       "    </tr>\n",
       "    <tr>\n",
       "      <td id=\"T_5055e_row1_col0\" class=\"data row1 col0\" >y_1</td>\n",
       "      <td id=\"T_5055e_row1_col1\" class=\"data row1 col1\" >0.8335</td>\n",
       "      <td id=\"T_5055e_row1_col2\" class=\"data row1 col2\" >0.3526</td>\n",
       "      <td id=\"T_5055e_row1_col3\" class=\"data row1 col3\" >0.5773</td>\n",
       "    </tr>\n",
       "    <tr>\n",
       "      <td id=\"T_5055e_row2_col0\" class=\"data row2 col0\" >y_2</td>\n",
       "      <td id=\"T_5055e_row2_col1\" class=\"data row2 col1\" >0.7732</td>\n",
       "      <td id=\"T_5055e_row2_col2\" class=\"data row2 col2\" >0.5858</td>\n",
       "      <td id=\"T_5055e_row2_col3\" class=\"data row2 col3\" >0.7828</td>\n",
       "    </tr>\n",
       "  </tbody>\n",
       "</table>\n",
       " </div><div> <p style='font-size: 1.3rem;'>obs cov (R)</p> <style type=\"text/css\">\n",
       "</style>\n",
       "<table id=\"T_47518\">\n",
       "  <thead>\n",
       "    <tr>\n",
       "      <th id=\"T_47518_level0_col0\" class=\"col_heading level0 col0\" >variable</th>\n",
       "      <th id=\"T_47518_level0_col1\" class=\"col_heading level0 col1\" >y_0</th>\n",
       "      <th id=\"T_47518_level0_col2\" class=\"col_heading level0 col2\" >y_1</th>\n",
       "      <th id=\"T_47518_level0_col3\" class=\"col_heading level0 col3\" >y_2</th>\n",
       "    </tr>\n",
       "  </thead>\n",
       "  <tbody>\n",
       "    <tr>\n",
       "      <td id=\"T_47518_row0_col0\" class=\"data row0 col0\" >y_0</td>\n",
       "      <td id=\"T_47518_row0_col1\" class=\"data row0 col1\" >1.9850</td>\n",
       "      <td id=\"T_47518_row0_col2\" class=\"data row0 col2\" >0.0000</td>\n",
       "      <td id=\"T_47518_row0_col3\" class=\"data row0 col3\" >0.0000</td>\n",
       "    </tr>\n",
       "    <tr>\n",
       "      <td id=\"T_47518_row1_col0\" class=\"data row1 col0\" >y_1</td>\n",
       "      <td id=\"T_47518_row1_col1\" class=\"data row1 col1\" >0.0000</td>\n",
       "      <td id=\"T_47518_row1_col2\" class=\"data row1 col2\" >0.5512</td>\n",
       "      <td id=\"T_47518_row1_col3\" class=\"data row1 col3\" >0.0000</td>\n",
       "    </tr>\n",
       "    <tr>\n",
       "      <td id=\"T_47518_row2_col0\" class=\"data row2 col0\" >y_2</td>\n",
       "      <td id=\"T_47518_row2_col1\" class=\"data row2 col1\" >0.0000</td>\n",
       "      <td id=\"T_47518_row2_col2\" class=\"data row2 col2\" >0.0000</td>\n",
       "      <td id=\"T_47518_row2_col3\" class=\"data row2 col3\" >0.8488</td>\n",
       "    </tr>\n",
       "  </tbody>\n",
       "</table>\n",
       " </div><div> <p style='font-size: 1.3rem;'>obs off</p> <style type=\"text/css\">\n",
       "</style>\n",
       "<table id=\"T_ab8e0\">\n",
       "  <thead>\n",
       "    <tr>\n",
       "      <th id=\"T_ab8e0_level0_col0\" class=\"col_heading level0 col0\" >variable</th>\n",
       "      <th id=\"T_ab8e0_level0_col1\" class=\"col_heading level0 col1\" >offset</th>\n",
       "    </tr>\n",
       "  </thead>\n",
       "  <tbody>\n",
       "    <tr>\n",
       "      <td id=\"T_ab8e0_row0_col0\" class=\"data row0 col0\" >y_0</td>\n",
       "      <td id=\"T_ab8e0_row0_col1\" class=\"data row0 col1\" >0.4884</td>\n",
       "    </tr>\n",
       "    <tr>\n",
       "      <td id=\"T_ab8e0_row1_col0\" class=\"data row1 col0\" >y_1</td>\n",
       "      <td id=\"T_ab8e0_row1_col1\" class=\"data row1 col1\" >0.7967</td>\n",
       "    </tr>\n",
       "    <tr>\n",
       "      <td id=\"T_ab8e0_row2_col0\" class=\"data row2 col0\" >y_2</td>\n",
       "      <td id=\"T_ab8e0_row2_col1\" class=\"data row2 col1\" >0.1926</td>\n",
       "    </tr>\n",
       "  </tbody>\n",
       "</table>\n",
       " </div><div> <p style='font-size: 1.3rem;'>contr matrix (B)</p> <style type=\"text/css\">\n",
       "</style>\n",
       "<table id=\"T_babcd\">\n",
       "  <thead>\n",
       "    <tr>\n",
       "      <th id=\"T_babcd_level0_col0\" class=\"col_heading level0 col0\" >state</th>\n",
       "      <th id=\"T_babcd_level0_col1\" class=\"col_heading level0 col1\" >c_0</th>\n",
       "      <th id=\"T_babcd_level0_col2\" class=\"col_heading level0 col2\" >c_1</th>\n",
       "      <th id=\"T_babcd_level0_col3\" class=\"col_heading level0 col3\" >c_2</th>\n",
       "      <th id=\"T_babcd_level0_col4\" class=\"col_heading level0 col4\" >c_3</th>\n",
       "      <th id=\"T_babcd_level0_col5\" class=\"col_heading level0 col5\" >c_4</th>\n",
       "      <th id=\"T_babcd_level0_col6\" class=\"col_heading level0 col6\" >c_5</th>\n",
       "    </tr>\n",
       "  </thead>\n",
       "  <tbody>\n",
       "    <tr>\n",
       "      <td id=\"T_babcd_row0_col0\" class=\"data row0 col0\" >x_0</td>\n",
       "      <td id=\"T_babcd_row0_col1\" class=\"data row0 col1\" >0.3175</td>\n",
       "      <td id=\"T_babcd_row0_col2\" class=\"data row0 col2\" >0.1518</td>\n",
       "      <td id=\"T_babcd_row0_col3\" class=\"data row0 col3\" >0.9008</td>\n",
       "      <td id=\"T_babcd_row0_col4\" class=\"data row0 col4\" >0.5866</td>\n",
       "      <td id=\"T_babcd_row0_col5\" class=\"data row0 col5\" >0.6492</td>\n",
       "      <td id=\"T_babcd_row0_col6\" class=\"data row0 col6\" >0.8186</td>\n",
       "    </tr>\n",
       "    <tr>\n",
       "      <td id=\"T_babcd_row1_col0\" class=\"data row1 col0\" >x_1</td>\n",
       "      <td id=\"T_babcd_row1_col1\" class=\"data row1 col1\" >0.9876</td>\n",
       "      <td id=\"T_babcd_row1_col2\" class=\"data row1 col2\" >0.2021</td>\n",
       "      <td id=\"T_babcd_row1_col3\" class=\"data row1 col3\" >0.2210</td>\n",
       "      <td id=\"T_babcd_row1_col4\" class=\"data row1 col4\" >0.3510</td>\n",
       "      <td id=\"T_babcd_row1_col5\" class=\"data row1 col5\" >0.0602</td>\n",
       "      <td id=\"T_babcd_row1_col6\" class=\"data row1 col6\" >0.2807</td>\n",
       "    </tr>\n",
       "    <tr>\n",
       "      <td id=\"T_babcd_row2_col0\" class=\"data row2 col0\" >x_2</td>\n",
       "      <td id=\"T_babcd_row2_col1\" class=\"data row2 col1\" >0.5818</td>\n",
       "      <td id=\"T_babcd_row2_col2\" class=\"data row2 col2\" >0.9470</td>\n",
       "      <td id=\"T_babcd_row2_col3\" class=\"data row2 col3\" >0.1274</td>\n",
       "      <td id=\"T_babcd_row2_col4\" class=\"data row2 col4\" >0.8603</td>\n",
       "      <td id=\"T_babcd_row2_col5\" class=\"data row2 col5\" >0.9713</td>\n",
       "      <td id=\"T_babcd_row2_col6\" class=\"data row2 col6\" >0.8441</td>\n",
       "    </tr>\n",
       "  </tbody>\n",
       "</table>\n",
       " </div><div> <p style='font-size: 1.3rem;'>init state mean</p> <style type=\"text/css\">\n",
       "</style>\n",
       "<table id=\"T_35334\">\n",
       "  <thead>\n",
       "    <tr>\n",
       "      <th id=\"T_35334_level0_col0\" class=\"col_heading level0 col0\" >state</th>\n",
       "      <th id=\"T_35334_level0_col1\" class=\"col_heading level0 col1\" >mean</th>\n",
       "    </tr>\n",
       "  </thead>\n",
       "  <tbody>\n",
       "    <tr>\n",
       "      <td id=\"T_35334_row0_col0\" class=\"data row0 col0\" >x_0</td>\n",
       "      <td id=\"T_35334_row0_col1\" class=\"data row0 col1\" >0.6314</td>\n",
       "    </tr>\n",
       "    <tr>\n",
       "      <td id=\"T_35334_row1_col0\" class=\"data row1 col0\" >x_1</td>\n",
       "      <td id=\"T_35334_row1_col1\" class=\"data row1 col1\" >0.9924</td>\n",
       "    </tr>\n",
       "    <tr>\n",
       "      <td id=\"T_35334_row2_col0\" class=\"data row2 col0\" >x_2</td>\n",
       "      <td id=\"T_35334_row2_col1\" class=\"data row2 col1\" >0.3158</td>\n",
       "    </tr>\n",
       "  </tbody>\n",
       "</table>\n",
       " </div><div> <p style='font-size: 1.3rem;'>init state cov</p> <style type=\"text/css\">\n",
       "</style>\n",
       "<table id=\"T_49ec5\">\n",
       "  <thead>\n",
       "    <tr>\n",
       "      <th id=\"T_49ec5_level0_col0\" class=\"col_heading level0 col0\" >state</th>\n",
       "      <th id=\"T_49ec5_level0_col1\" class=\"col_heading level0 col1\" >x_0</th>\n",
       "      <th id=\"T_49ec5_level0_col2\" class=\"col_heading level0 col2\" >x_1</th>\n",
       "      <th id=\"T_49ec5_level0_col3\" class=\"col_heading level0 col3\" >x_2</th>\n",
       "    </tr>\n",
       "  </thead>\n",
       "  <tbody>\n",
       "    <tr>\n",
       "      <td id=\"T_49ec5_row0_col0\" class=\"data row0 col0\" >x_0</td>\n",
       "      <td id=\"T_49ec5_row0_col1\" class=\"data row0 col1\" >0.5125</td>\n",
       "      <td id=\"T_49ec5_row0_col2\" class=\"data row0 col2\" >0.2180</td>\n",
       "      <td id=\"T_49ec5_row0_col3\" class=\"data row0 col3\" >0.3987</td>\n",
       "    </tr>\n",
       "    <tr>\n",
       "      <td id=\"T_49ec5_row1_col0\" class=\"data row1 col0\" >x_1</td>\n",
       "      <td id=\"T_49ec5_row1_col1\" class=\"data row1 col1\" >0.2180</td>\n",
       "      <td id=\"T_49ec5_row1_col2\" class=\"data row1 col2\" >0.5781</td>\n",
       "      <td id=\"T_49ec5_row1_col3\" class=\"data row1 col3\" >0.3081</td>\n",
       "    </tr>\n",
       "    <tr>\n",
       "      <td id=\"T_49ec5_row2_col0\" class=\"data row2 col0\" >x_2</td>\n",
       "      <td id=\"T_49ec5_row2_col1\" class=\"data row2 col1\" >0.3987</td>\n",
       "      <td id=\"T_49ec5_row2_col2\" class=\"data row2 col2\" >0.3081</td>\n",
       "      <td id=\"T_49ec5_row2_col3\" class=\"data row2 col3\" >0.3524</td>\n",
       "    </tr>\n",
       "  </tbody>\n",
       "</table>\n",
       " </div></div>"
      ],
      "text/plain": [
       "Kalman Filter\n",
       "        N dim obs: 3, N dim state: 3, N dim contr: 6"
      ]
     },
     "execution_count": null,
     "metadata": {},
     "output_type": "execute_result"
    }
   ],
   "source": [
    "model"
   ]
  },
  {
   "cell_type": "code",
   "execution_count": null,
   "id": "cbbc44e6-3b50-4972-80b0-b3ff7b8e44b4",
   "metadata": {},
   "outputs": [],
   "source": [
    "model._predict_filter(*dls.one_batch()[0]);"
   ]
  },
  {
   "cell_type": "code",
   "execution_count": null,
   "id": "737a9f2a-ce54-42a3-8490-acb988138ed4",
   "metadata": {},
   "outputs": [],
   "source": [
    "#| export\n",
    "@patch\n",
    "def forward(self: KalmanFilter, meteo_data: MeteoImpTensor):\n",
    "    data, mask, control = meteo_data\n",
    "    assert not data.isnan().any()\n",
    "    use_smooth = self.use_smooth if hasattr(self, 'use_smooth') else True\n",
    "    \n",
    "    mean, std = (self.predict(obs=data, mask=mask, control=control, smooth=True) if use_smooth\n",
    "                        else self._predict_filter(data, mask, control))\n",
    "    return NormalsParams(mean, std) # to have fastai working this needs to be a tuple subclass"
   ]
  },
  {
   "cell_type": "code",
   "execution_count": null,
   "id": "f7ebde2f-19aa-4860-b665-b13865111506",
   "metadata": {},
   "outputs": [],
   "source": [
    "input = dls.one_batch()[0]\n",
    "target = dls.one_batch()[1]"
   ]
  },
  {
   "cell_type": "code",
   "execution_count": null,
   "id": "2d34397d-7720-4127-83d1-f5137c94af46",
   "metadata": {},
   "outputs": [
    {
     "data": {
      "text/plain": [
       "OrderedDict([('trans_matrix',\n",
       "              tensor([[0.9391, 0.5536, 0.3457],\n",
       "                      [0.0279, 0.0230, 0.3678],\n",
       "                      [0.7279, 0.2933, 0.8148]])),\n",
       "             ('trans_off', tensor([0.9163, 0.3011, 0.8537])),\n",
       "             ('trans_cov_raw',\n",
       "              tensor([[ 0.5302,  0.0000,  0.0000],\n",
       "                      [ 0.7541,  0.8282,  0.0000],\n",
       "                      [ 0.9023, -0.0484,  0.0508]])),\n",
       "             ('contr_matrix',\n",
       "              tensor([[0.3175, 0.1518, 0.9008, 0.5866, 0.6492, 0.8186],\n",
       "                      [0.9876, 0.2021, 0.2210, 0.3510, 0.0602, 0.2807],\n",
       "                      [0.5818, 0.9470, 0.1274, 0.8603, 0.9713, 0.8441]])),\n",
       "             ('obs_matrix',\n",
       "              tensor([[0.5088, 0.5328, 0.4943],\n",
       "                      [0.8335, 0.3526, 0.5773],\n",
       "                      [0.7732, 0.5858, 0.7828]])),\n",
       "             ('obs_off', tensor([0.4884, 0.7967, 0.1926])),\n",
       "             ('obs_cov_raw', tensor([ 0.6856, -0.5957, -0.1639])),\n",
       "             ('init_state_mean', tensor([0.6314, 0.9924, 0.3158])),\n",
       "             ('init_state_cov_raw',\n",
       "              tensor([[0.7159, 0.0000, 0.0000],\n",
       "                      [0.3045, 0.6967, 0.0000],\n",
       "                      [0.5570, 0.1988, 0.0507]]))])"
      ]
     },
     "execution_count": null,
     "metadata": {},
     "output_type": "execute_result"
    }
   ],
   "source": [
    "model.state_dict()"
   ]
  },
  {
   "cell_type": "code",
   "execution_count": null,
   "id": "5696c62a-e455-4d86-9f10-e00ea93671ac",
   "metadata": {},
   "outputs": [
    {
     "data": {
      "text/plain": [
       "torch.Size([200, 3])"
      ]
     },
     "execution_count": null,
     "metadata": {},
     "output_type": "execute_result"
    }
   ],
   "source": [
    "data = input[0][0]\n",
    "data.shape"
   ]
  },
  {
   "cell_type": "code",
   "execution_count": null,
   "id": "9d1bdfc9-2fa3-4627-94d8-0a9dda444203",
   "metadata": {},
   "outputs": [],
   "source": [
    "mask = input[1][0]\n",
    "control = input[2][0]"
   ]
  },
  {
   "cell_type": "code",
   "execution_count": null,
   "id": "ec17c709-bfaa-4a0e-a45d-c067671a809c",
   "metadata": {},
   "outputs": [
    {
     "data": {
      "text/plain": [
       "torch.Size([200, 3])"
      ]
     },
     "execution_count": null,
     "metadata": {},
     "output_type": "execute_result"
    }
   ],
   "source": [
    "mask.shape"
   ]
  },
  {
   "cell_type": "code",
   "execution_count": null,
   "id": "26934279-9c81-447b-8506-01b5abd7b72a",
   "metadata": {},
   "outputs": [
    {
     "data": {
      "text/plain": [
       "device(type='cpu')"
      ]
     },
     "execution_count": null,
     "metadata": {},
     "output_type": "execute_result"
    }
   ],
   "source": [
    "data.device"
   ]
  },
  {
   "cell_type": "code",
   "execution_count": null,
   "id": "83e3bbd9-8e03-440a-b13b-8b6aba7ba341",
   "metadata": {},
   "outputs": [
    {
     "data": {
      "text/plain": [
       "torch.device"
      ]
     },
     "execution_count": null,
     "metadata": {},
     "output_type": "execute_result"
    }
   ],
   "source": [
    "torch.device"
   ]
  },
  {
   "cell_type": "code",
   "execution_count": null,
   "id": "3b6b1ed8-048a-4755-8201-57eec8654cdb",
   "metadata": {},
   "outputs": [
    {
     "data": {
      "text/plain": [
       "(torch.Size([200, 3]), torch.Size([200, 3]))"
      ]
     },
     "execution_count": null,
     "metadata": {},
     "output_type": "execute_result"
    }
   ],
   "source": [
    "data.shape, mask.shape"
   ]
  },
  {
   "cell_type": "code",
   "execution_count": null,
   "id": "d3ba1aa7-ef52-4a85-b0c4-3763d621eb70",
   "metadata": {},
   "outputs": [],
   "source": [
    "model.predict(data.unsqueeze(0), mask.unsqueeze(0), control.unsqueeze(0));"
   ]
  },
  {
   "cell_type": "code",
   "execution_count": null,
   "id": "9ef72fbc-cdef-4146-b294-8fd261c0e2c4",
   "metadata": {},
   "outputs": [],
   "source": [
    "model.use_smooth = True"
   ]
  },
  {
   "cell_type": "code",
   "execution_count": null,
   "id": "5d690cd5-44a1-45d6-9abb-ef4fb0a62314",
   "metadata": {},
   "outputs": [],
   "source": [
    "pred = model(input)"
   ]
  },
  {
   "cell_type": "code",
   "execution_count": null,
   "id": "a7bc7df7-effd-41b0-bb90-6beaa874d1e1",
   "metadata": {},
   "outputs": [
    {
     "data": {
      "text/plain": [
       "torch.Size([10, 200, 3])"
      ]
     },
     "execution_count": null,
     "metadata": {},
     "output_type": "execute_result"
    }
   ],
   "source": [
    "pred[0].shape"
   ]
  },
  {
   "cell_type": "code",
   "execution_count": null,
   "id": "ed03f415-567f-47ab-b019-b7291cee03f0",
   "metadata": {},
   "outputs": [
    {
     "data": {
      "text/plain": [
       "torch.Size([10, 200, 3])"
      ]
     },
     "execution_count": null,
     "metadata": {},
     "output_type": "execute_result"
    }
   ],
   "source": [
    "pred[1].shape"
   ]
  },
  {
   "cell_type": "code",
   "execution_count": null,
   "id": "856e7d79-e0ab-4562-aa6b-bbb68e3928d0",
   "metadata": {},
   "outputs": [],
   "source": [
    "model.use_smooth = False"
   ]
  },
  {
   "cell_type": "code",
   "execution_count": null,
   "id": "f804c6a9-34d6-48de-a5fe-c99142f5c7d5",
   "metadata": {},
   "outputs": [],
   "source": [
    "pred_filt = model(input)"
   ]
  },
  {
   "cell_type": "code",
   "execution_count": null,
   "id": "844f78fa-d55b-42c7-a46d-28831f712e94",
   "metadata": {},
   "outputs": [
    {
     "data": {
      "text/plain": [
       "torch.Size([10, 200, 3])"
      ]
     },
     "execution_count": null,
     "metadata": {},
     "output_type": "execute_result"
    }
   ],
   "source": [
    "pred_filt[1].shape"
   ]
  },
  {
   "cell_type": "code",
   "execution_count": null,
   "id": "5e89cd79-45ce-44dc-b5e1-f46e120e9a13",
   "metadata": {},
   "outputs": [
    {
     "data": {
      "text/plain": [
       "__main__.NormalsParams(mean=tensor([[[ 0.3249,  0.4697, -0.1391],\n",
       "         [ 0.0231,  0.0908, -0.6021],\n",
       "         [ 0.0265,  0.0099, -0.6490],\n",
       "         ...,\n",
       "         [-0.0043, -0.1163, -0.7340],\n",
       "         [-0.0843, -0.2228, -0.8548],\n",
       "         [-0.4630, -0.6666, -1.3973]],\n",
       "\n",
       "        [[ 0.4212,  0.6046,  0.0070],\n",
       "         [ 0.0280, -0.0066, -0.6318],\n",
       "         [ 0.0461, -0.1489, -0.6970],\n",
       "         ...,\n",
       "         [-0.0694, -0.1465, -0.8111],\n",
       "         [-0.1329, -0.2338, -0.9071],\n",
       "         [-0.4436, -0.6076, -1.3563]],\n",
       "\n",
       "        [[ 0.0859,  0.1939, -0.4723],\n",
       "         [-0.2130, -0.0935, -0.8249],\n",
       "         [-0.2642, -0.2619, -0.9357],\n",
       "         ...,\n",
       "         [-0.2027, -0.0544, -0.6508],\n",
       "         [-0.2126, -0.0274, -0.6418],\n",
       "         [ 0.1704,  0.4451, -0.0817]],\n",
       "\n",
       "        ...,\n",
       "\n",
       "        [[ 0.0218,  0.0923, -0.5755],\n",
       "         [-0.1604,  0.2918, -0.5938],\n",
       "         [-0.0506,  0.3431, -0.4598],\n",
       "         ...,\n",
       "         [-0.1931,  0.3689, -0.6427],\n",
       "         [-0.1841,  0.3185, -0.6819],\n",
       "         [ 0.0042,  0.4687, -0.4743]],\n",
       "\n",
       "        [[ 0.6641,  0.9093,  0.3578],\n",
       "         [ 0.1358,  0.1074, -0.4800],\n",
       "         [ 0.1649, -0.0824, -0.5598],\n",
       "         ...,\n",
       "         [ 0.0453, -0.1215, -0.6980],\n",
       "         [-0.0656, -0.2426, -0.8519],\n",
       "         [-0.6035, -0.8522, -1.6064]],\n",
       "\n",
       "        [[-0.0065,  0.0636, -0.6130],\n",
       "         [-0.1598, -0.0598, -0.8403],\n",
       "         [-0.1385, -0.0934, -0.8413],\n",
       "         ...,\n",
       "         [-0.2567, -0.1996, -1.0112],\n",
       "         [-0.2687, -0.2375, -1.0375],\n",
       "         [-0.3850, -0.4024, -1.2162]]], grad_fn=<SqueezeBackward1>), std=tensor([[[1.4564, 0.8509, 1.0457],\n",
       "         [1.4647, 0.8531, 1.0595],\n",
       "         [1.4649, 0.8532, 1.0601],\n",
       "         ...,\n",
       "         [1.4649, 0.8533, 1.0602],\n",
       "         [1.4654, 0.8542, 1.0614],\n",
       "         [1.4776, 0.8813, 1.0946]],\n",
       "\n",
       "        [[1.4564, 0.8509, 1.0457],\n",
       "         [1.4647, 0.8531, 1.0595],\n",
       "         [1.4649, 0.8532, 1.0601],\n",
       "         ...,\n",
       "         [1.4649, 0.8533, 1.0602],\n",
       "         [1.4654, 0.8542, 1.0614],\n",
       "         [1.4776, 0.8813, 1.0946]],\n",
       "\n",
       "        [[1.4564, 0.8509, 1.0457],\n",
       "         [1.4647, 0.8531, 1.0595],\n",
       "         [1.4649, 0.8532, 1.0601],\n",
       "         ...,\n",
       "         [1.4649, 0.8533, 1.0602],\n",
       "         [1.4654, 0.8542, 1.0614],\n",
       "         [1.4776, 0.8813, 1.0946]],\n",
       "\n",
       "        ...,\n",
       "\n",
       "        [[1.4564, 0.8509, 1.0457],\n",
       "         [1.4647, 0.8531, 1.0595],\n",
       "         [1.4649, 0.8532, 1.0601],\n",
       "         ...,\n",
       "         [1.4649, 0.8533, 1.0602],\n",
       "         [1.4654, 0.8542, 1.0614],\n",
       "         [1.4776, 0.8813, 1.0946]],\n",
       "\n",
       "        [[1.4564, 0.8509, 1.0457],\n",
       "         [1.4647, 0.8531, 1.0595],\n",
       "         [1.4649, 0.8532, 1.0601],\n",
       "         ...,\n",
       "         [1.4649, 0.8533, 1.0602],\n",
       "         [1.4654, 0.8542, 1.0614],\n",
       "         [1.4776, 0.8813, 1.0946]],\n",
       "\n",
       "        [[1.4564, 0.8509, 1.0457],\n",
       "         [1.4647, 0.8531, 1.0595],\n",
       "         [1.4649, 0.8532, 1.0601],\n",
       "         ...,\n",
       "         [1.4649, 0.8533, 1.0602],\n",
       "         [1.4654, 0.8542, 1.0614],\n",
       "         [1.4776, 0.8813, 1.0946]]], grad_fn=<SqrtBackward0>))"
      ]
     },
     "execution_count": null,
     "metadata": {},
     "output_type": "execute_result"
    }
   ],
   "source": [
    "pred"
   ]
  },
  {
   "cell_type": "code",
   "execution_count": null,
   "id": "85d82759-dae4-4d48-a213-150c8fa3d8f2",
   "metadata": {},
   "outputs": [
    {
     "data": {
      "text/plain": [
       "(__main__.NormalsParams, __main__.NormalsParams)"
      ]
     },
     "execution_count": null,
     "metadata": {},
     "output_type": "execute_result"
    }
   ],
   "source": [
    "type(pred), type(pred_filt)"
   ]
  },
  {
   "cell_type": "code",
   "execution_count": null,
   "id": "65bab279-dc65-4259-bd1f-39b5c6028cb8",
   "metadata": {},
   "outputs": [],
   "source": [
    "test_ne(pred, pred_filt)"
   ]
  },
  {
   "cell_type": "markdown",
   "id": "2051bf57-a2e3-4232-861b-fafe814b1825",
   "metadata": {},
   "source": [
    "### Loss Function"
   ]
  },
  {
   "cell_type": "markdown",
   "id": "6e75817f-2abb-4e9f-b54a-edb7ea33dc1b",
   "metadata": {},
   "source": [
    "add support for complete loss (also outside gap) and for filter loss (don't run the smooher)"
   ]
  },
  {
   "cell_type": "markdown",
   "id": "c793e684-8ce9-4393-af4d-0268f3710b7a",
   "metadata": {},
   "source": [
    "There are two ways to compute the loss, one is to do it for all predictions the other is for doing it for only the gap\n",
    "- only_gap"
   ]
  },
  {
   "cell_type": "markdown",
   "id": "2b04cee3-9086-41cb-ac08-6b908626c587",
   "metadata": {},
   "source": [
    "Play around with flatting + diagonal"
   ]
  },
  {
   "cell_type": "code",
   "execution_count": null,
   "id": "559fc5e0-3554-4efa-89a7-08a6dd44f310",
   "metadata": {},
   "outputs": [
    {
     "data": {
      "text/plain": [
       "tensor([[[ 1,  0,  0],\n",
       "         [ 0,  2,  0],\n",
       "         [ 0,  0,  3]],\n",
       "\n",
       "        [[10,  0,  0],\n",
       "         [ 0, 20,  0],\n",
       "         [ 0,  0, 30]]])"
      ]
     },
     "execution_count": null,
     "metadata": {},
     "output_type": "execute_result"
    }
   ],
   "source": [
    "a = torch.diag(torch.tensor([1,2,3]))\n",
    "d = torch.stack([a, a*10])\n",
    "m = torch.stack([a.diag(), a.diag()*10])\n",
    "d"
   ]
  },
  {
   "cell_type": "code",
   "execution_count": null,
   "id": "773c90fa-3672-43a5-b7bf-2de9b068ebe3",
   "metadata": {},
   "outputs": [
    {
     "data": {
      "text/plain": [
       "tensor([ 1,  2,  3, 10, 20, 30])"
      ]
     },
     "execution_count": null,
     "metadata": {},
     "output_type": "execute_result"
    }
   ],
   "source": [
    "m.flatten()"
   ]
  },
  {
   "cell_type": "code",
   "execution_count": null,
   "id": "c5851886-313c-4eac-87a4-4684ff9c438f",
   "metadata": {},
   "outputs": [
    {
     "data": {
      "text/plain": [
       "tensor([[[ 1,  0,  0],\n",
       "         [ 0,  2,  0],\n",
       "         [ 0,  0,  3]],\n",
       "\n",
       "        [[10,  0,  0],\n",
       "         [ 0, 20,  0],\n",
       "         [ 0,  0, 30]]])"
      ]
     },
     "execution_count": null,
     "metadata": {},
     "output_type": "execute_result"
    }
   ],
   "source": [
    "d"
   ]
  },
  {
   "cell_type": "code",
   "execution_count": null,
   "id": "72af60ed-b471-47f3-90be-2be51eb18bb0",
   "metadata": {},
   "outputs": [
    {
     "data": {
      "text/plain": [
       "tensor([ 1,  2,  3, 10, 20, 30])"
      ]
     },
     "execution_count": null,
     "metadata": {},
     "output_type": "execute_result"
    }
   ],
   "source": [
    "torch.diagonal(d, dim1=1, dim2=2).flatten()"
   ]
  },
  {
   "cell_type": "code",
   "execution_count": null,
   "id": "09c58fef-a8d8-48b1-a837-335a67158ed4",
   "metadata": {},
   "outputs": [],
   "source": [
    "means, stds = pred\n",
    "data, mask, contr = target"
   ]
  },
  {
   "cell_type": "code",
   "execution_count": null,
   "id": "5a6bd159-499d-42b3-a8b2-9e54c98a8659",
   "metadata": {},
   "outputs": [
    {
     "data": {
      "text/plain": [
       "tensor(-5609.7041, grad_fn=<SubBackward0>)"
      ]
     },
     "execution_count": null,
     "metadata": {},
     "output_type": "execute_result"
    }
   ],
   "source": [
    "# make a big matrix with all variables and observations and compute ll\n",
    "mask = mask.flatten() \n",
    "obs = data.flatten()[mask]\n",
    "means = data.flatten()[mask]\n",
    "stds = stds.flatten()[mask] # need to support batches\n",
    "\n",
    "MultivariateNormal(means, torch.diag(stds)).log_prob(obs)"
   ]
  },
  {
   "cell_type": "code",
   "execution_count": null,
   "id": "28c38f87-5a72-42bd-847f-fb1e76ec7490",
   "metadata": {},
   "outputs": [],
   "source": [
    "#| export\n",
    "class KalmanLoss():\n",
    "    def __init__(self,\n",
    "                 only_gap:bool=True, # loss for all predictions or only gap\n",
    "                 reduction:str='mean' # one of ['sum', 'mean', 'none']\n",
    "                ):\n",
    "        store_attr()\n",
    "    \n",
    "    def __call__(self, pred: NormalsParams, target: MeteoImpTensor):\n",
    "        data, mask, contr = target\n",
    "        means, stds = pred        \n",
    "        assert not stds.isnan().any()\n",
    "        losses = torch.empty(data.shape[0], device=data.device, dtype=data.dtype)\n",
    "        for i, (d, m, mean, std) in enumerate(zip(data, mask, means, stds)):\n",
    "            losses[i] = self._loss_batch(d,m,mean, std)\n",
    "        if self.reduction == 'none': return losses\n",
    "        elif self.reduction == 'mean': return losses.mean()\n",
    "        elif self.reduction == 'sum': return losses.sum()\n",
    "    \n",
    "    def _loss_batch(self, data, mask, mean, std):\n",
    "        # make a big vector with all variables and observations and compute ll\n",
    "        mask = ~mask.flatten() if self.only_gap else torch.fill(mask, True).flatten()\n",
    "        obs = data.flatten()[mask]\n",
    "        mean = mean.flatten()[mask]\n",
    "        std = std.flatten()[mask] \n",
    "        \n",
    "        return - MultivariateNormal(mean, torch.diag(std)).log_prob(obs)\n",
    "        "
   ]
  },
  {
   "cell_type": "code",
   "execution_count": null,
   "id": "c8654b5f-bb61-416d-966c-3f798249eee6",
   "metadata": {},
   "outputs": [],
   "source": [
    "pred = model(input)"
   ]
  },
  {
   "cell_type": "code",
   "execution_count": null,
   "id": "42ef4ee6-3337-415e-9497-2c1acce5be35",
   "metadata": {},
   "outputs": [],
   "source": [
    "data, mask, contr = input"
   ]
  },
  {
   "cell_type": "code",
   "execution_count": null,
   "id": "7c8039ba-8807-47cb-9d7c-0ea119d01527",
   "metadata": {},
   "outputs": [
    {
     "data": {
      "text/plain": [
       "(torch.Size([10, 200, 3]), torch.Size([10, 200, 3]))"
      ]
     },
     "execution_count": null,
     "metadata": {},
     "output_type": "execute_result"
    }
   ],
   "source": [
    "data.shape, mask.shape"
   ]
  },
  {
   "cell_type": "code",
   "execution_count": null,
   "id": "17310899-b8a2-4cc5-bec8-4f7695eb2fd8",
   "metadata": {},
   "outputs": [
    {
     "data": {
      "text/plain": [
       "torch.Size([10, 200, 3])"
      ]
     },
     "execution_count": null,
     "metadata": {},
     "output_type": "execute_result"
    }
   ],
   "source": [
    "pred.mean.shape"
   ]
  },
  {
   "cell_type": "code",
   "execution_count": null,
   "id": "62e1cfdd-e80b-4ddc-9313-fd357c7ba7e2",
   "metadata": {},
   "outputs": [],
   "source": [
    "means, stds = pred"
   ]
  },
  {
   "cell_type": "code",
   "execution_count": null,
   "id": "3dcc340f-387f-4767-9ad5-10c40425e0b0",
   "metadata": {},
   "outputs": [
    {
     "data": {
      "text/plain": [
       "torch.Size([10, 200, 3])"
      ]
     },
     "execution_count": null,
     "metadata": {},
     "output_type": "execute_result"
    }
   ],
   "source": [
    "stds.shape"
   ]
  },
  {
   "cell_type": "code",
   "execution_count": null,
   "id": "43d3532f-a95e-437a-b90e-11ebb4bb2406",
   "metadata": {},
   "outputs": [
    {
     "data": {
      "text/plain": [
       "torch.Size([10, 200, 3])"
      ]
     },
     "execution_count": null,
     "metadata": {},
     "output_type": "execute_result"
    }
   ],
   "source": [
    "means.shape"
   ]
  },
  {
   "cell_type": "code",
   "execution_count": null,
   "id": "b41d785a-ba19-461e-b64d-cc7e12153cb6",
   "metadata": {},
   "outputs": [
    {
     "data": {
      "text/plain": [
       "tensor(False)"
      ]
     },
     "execution_count": null,
     "metadata": {},
     "output_type": "execute_result"
    }
   ],
   "source": [
    "data.isnan().any()"
   ]
  },
  {
   "cell_type": "code",
   "execution_count": null,
   "id": "08aa8d54-0c7a-47c0-8970-ecd4999ffd1e",
   "metadata": {},
   "outputs": [
    {
     "data": {
      "text/plain": [
       "tensor(False)"
      ]
     },
     "execution_count": null,
     "metadata": {},
     "output_type": "execute_result"
    }
   ],
   "source": [
    "mask.isnan().any()"
   ]
  },
  {
   "cell_type": "code",
   "execution_count": null,
   "id": "38b07b67-9543-4800-b566-949c542422bf",
   "metadata": {},
   "outputs": [
    {
     "data": {
      "text/plain": [
       "tensor(False)"
      ]
     },
     "execution_count": null,
     "metadata": {},
     "output_type": "execute_result"
    }
   ],
   "source": [
    "means.isnan().any()"
   ]
  },
  {
   "cell_type": "code",
   "execution_count": null,
   "id": "b473b2be-4392-4cb2-9575-1a7a057cdc1e",
   "metadata": {},
   "outputs": [
    {
     "data": {
      "text/plain": [
       "tensor(0)"
      ]
     },
     "execution_count": null,
     "metadata": {},
     "output_type": "execute_result"
    }
   ],
   "source": [
    "stds.isnan().sum()"
   ]
  },
  {
   "cell_type": "code",
   "execution_count": null,
   "id": "cb6d9dfc-1bb4-4c23-a291-d73cf9aefdfd",
   "metadata": {},
   "outputs": [
    {
     "data": {
      "text/plain": [
       "torch.Size([10, 200, 3])"
      ]
     },
     "execution_count": null,
     "metadata": {},
     "output_type": "execute_result"
    }
   ],
   "source": [
    "stds.shape"
   ]
  },
  {
   "cell_type": "code",
   "execution_count": null,
   "id": "51ea7a4b-b7b5-4182-abed-b5542cdaff48",
   "metadata": {},
   "outputs": [
    {
     "data": {
      "text/plain": [
       "(tensor(True),\n",
       " tensor([1.3168, 1.3168, 1.3168,  ..., 2.2295, 2.2295, 2.2295],\n",
       "        grad_fn=<LinalgEighBackward0>))"
      ]
     },
     "execution_count": null,
     "metadata": {},
     "output_type": "execute_result"
    }
   ],
   "source": [
    "is_posdef_eigv(torch.diag(stds.flatten()))"
   ]
  },
  {
   "cell_type": "code",
   "execution_count": null,
   "id": "72fa95ce-9fc1-4b61-855d-a27eb5ba4994",
   "metadata": {},
   "outputs": [
    {
     "data": {
      "text/plain": [
       "tensor(117.7651, grad_fn=<MeanBackward0>)"
      ]
     },
     "execution_count": null,
     "metadata": {},
     "output_type": "execute_result"
    }
   ],
   "source": [
    "KalmanLoss(only_gap=True)(pred, target)"
   ]
  },
  {
   "cell_type": "code",
   "execution_count": null,
   "id": "83f8aae6-eb06-4772-a611-d62af0395ef3",
   "metadata": {},
   "outputs": [
    {
     "data": {
      "text/plain": [
       "tensor(8358.5098, grad_fn=<MeanBackward0>)"
      ]
     },
     "execution_count": null,
     "metadata": {},
     "output_type": "execute_result"
    }
   ],
   "source": [
    "KalmanLoss(only_gap=False)(pred, target)"
   ]
  },
  {
   "cell_type": "code",
   "execution_count": null,
   "id": "c6fa6718-c26b-48a0-bb7d-efedb0f40086",
   "metadata": {},
   "outputs": [
    {
     "data": {
      "text/plain": [
       "(device(type='cpu'), device(type='cpu'))"
      ]
     },
     "execution_count": null,
     "metadata": {},
     "output_type": "execute_result"
    }
   ],
   "source": [
    "pred.mean.device, target[0].device"
   ]
  },
  {
   "cell_type": "code",
   "execution_count": null,
   "id": "0004c085-0e0c-4914-b3fc-ed66a319d1a8",
   "metadata": {},
   "outputs": [
    {
     "data": {
      "text/plain": [
       "(torch.Size([10, 200, 3]), torch.Size([10, 200, 3]))"
      ]
     },
     "execution_count": null,
     "metadata": {},
     "output_type": "execute_result"
    }
   ],
   "source": [
    "pred.mean.shape, target[0].shape"
   ]
  },
  {
   "cell_type": "code",
   "execution_count": null,
   "id": "7a5c8b20-50f2-4a5a-b291-69e91f466480",
   "metadata": {},
   "outputs": [
    {
     "data": {
      "text/plain": [
       "torch.Size([10, 200, 3])"
      ]
     },
     "execution_count": null,
     "metadata": {},
     "output_type": "execute_result"
    }
   ],
   "source": [
    "target[0].shape"
   ]
  },
  {
   "cell_type": "code",
   "execution_count": null,
   "id": "b4ae234a-f1de-401b-9197-ffe5952d6ff0",
   "metadata": {},
   "outputs": [
    {
     "data": {
      "text/plain": [
       "tensor(8358.5098, grad_fn=<MeanBackward0>)"
      ]
     },
     "execution_count": null,
     "metadata": {},
     "output_type": "execute_result"
    }
   ],
   "source": [
    "KalmanLoss(only_gap=False, reduction='mean')(pred, target)"
   ]
  },
  {
   "cell_type": "markdown",
   "id": "dbc02d69-7930-47b8-9543-d07998f3baa6",
   "metadata": {},
   "source": [
    "### Metrics"
   ]
  },
  {
   "cell_type": "code",
   "execution_count": null,
   "id": "ecb56cca-0278-4882-85d6-ce4ea1758aa4",
   "metadata": {},
   "outputs": [],
   "source": [
    "#| export\n",
    "from sklearn.metrics import r2_score, mean_squared_error"
   ]
  },
  {
   "cell_type": "code",
   "execution_count": null,
   "id": "48c59f82-5aa9-48b7-9222-1e656dd81701",
   "metadata": {},
   "outputs": [],
   "source": [
    "pred0, targ = target[0][0].detach().cpu(), pred[0][0].detach().cpu() "
   ]
  },
  {
   "cell_type": "code",
   "execution_count": null,
   "id": "e9761278-d151-42c8-9bdb-e2c2c63069c0",
   "metadata": {},
   "outputs": [
    {
     "data": {
      "text/plain": [
       "(torch.Size([200, 3]), torch.Size([200, 3]))"
      ]
     },
     "execution_count": null,
     "metadata": {},
     "output_type": "execute_result"
    }
   ],
   "source": [
    "pred0.shape, targ.shape"
   ]
  },
  {
   "cell_type": "markdown",
   "id": "e09871de-8a2a-408e-b6fc-8a6c5214642b",
   "metadata": {},
   "source": [
    "The shape of the input is very important for the r2score, which cannot be batched and requires a needs to keep the multidimensional input"
   ]
  },
  {
   "cell_type": "markdown",
   "id": "9541db7f-eff5-4a59-b4c9-d243215870bf",
   "metadata": {},
   "source": [
    "$$ R^2(y, \\hat{y}) = 1 - \\frac{\\sum_{i=1}^{n} (y_i - \\hat{y}_i)^2}{\\sum_{i=1}^{n} (y_i - \\bar{y})^2} $$"
   ]
  },
  {
   "cell_type": "code",
   "execution_count": null,
   "id": "08ac0606-5a5d-4124-a310-e9040d96189c",
   "metadata": {},
   "outputs": [
    {
     "data": {
      "text/plain": [
       "-93.3235377023426"
      ]
     },
     "execution_count": null,
     "metadata": {},
     "output_type": "execute_result"
    }
   ],
   "source": [
    "r2_score(pred0, targ)"
   ]
  },
  {
   "cell_type": "code",
   "execution_count": null,
   "id": "a59a18e0-7f58-4d04-a682-43502f2d6f6c",
   "metadata": {},
   "outputs": [
    {
     "data": {
      "text/plain": [
       "array([ -37.28767859,  -17.26536179, -225.41757273])"
      ]
     },
     "execution_count": null,
     "metadata": {},
     "output_type": "execute_result"
    }
   ],
   "source": [
    "r2_score(pred0, targ, multioutput=\"raw_values\")"
   ]
  },
  {
   "cell_type": "code",
   "execution_count": null,
   "id": "baee4bb3-5a6d-48dd-b954-4ded0673fee5",
   "metadata": {},
   "outputs": [
    {
     "data": {
      "text/plain": [
       "-31.401669041279938"
      ]
     },
     "execution_count": null,
     "metadata": {},
     "output_type": "execute_result"
    }
   ],
   "source": [
    "r2_score(pred0.flatten(), targ.flatten())"
   ]
  },
  {
   "cell_type": "markdown",
   "id": "4b4c5bb8-f144-4147-91bc-0e3ea661aac7",
   "metadata": {},
   "source": [
    "While for the `rmse` is okay to batch and flatten input. The only difference is how the mean is computed, which is a minor difference"
   ]
  },
  {
   "cell_type": "code",
   "execution_count": null,
   "id": "41819d28-6f3d-4850-97ac-d1ea6ff7c27e",
   "metadata": {},
   "outputs": [
    {
     "data": {
      "text/plain": [
       "4.073745"
      ]
     },
     "execution_count": null,
     "metadata": {},
     "output_type": "execute_result"
    }
   ],
   "source": [
    "mean_squared_error(pred0, targ)"
   ]
  },
  {
   "cell_type": "code",
   "execution_count": null,
   "id": "390f64f9-3b2c-4709-9440-933fd7878a81",
   "metadata": {},
   "outputs": [
    {
     "data": {
      "text/plain": [
       "4.0737453"
      ]
     },
     "execution_count": null,
     "metadata": {},
     "output_type": "execute_result"
    }
   ],
   "source": [
    "mean_squared_error(pred0.flatten(), targ.flatten())"
   ]
  },
  {
   "cell_type": "markdown",
   "id": "6b485cfe-5fce-449b-810c-1884990f103b",
   "metadata": {},
   "source": [
    "Wrapper around fastai metrics to support masked tensors and normal distributions"
   ]
  },
  {
   "cell_type": "code",
   "execution_count": null,
   "id": "6e28f7a2-436a-4e7a-9e76-0ae778015e95",
   "metadata": {},
   "outputs": [],
   "source": [
    "#| export\n",
    "from fastai.metrics import *"
   ]
  },
  {
   "cell_type": "markdown",
   "id": "9cb98720-0cd6-4f8d-84fb-69ffb5639b14",
   "metadata": {},
   "source": [
    "The problem is that fastai metrics by default flatten everything ... so need to reimplement them"
   ]
  },
  {
   "cell_type": "code",
   "execution_count": null,
   "id": "ad179e7a-674e-4476-aec9-9ec4076999c3",
   "metadata": {},
   "outputs": [],
   "source": [
    "myr2 = skm_to_fastai(r2_score, flatten=False)"
   ]
  },
  {
   "cell_type": "code",
   "execution_count": null,
   "id": "b07424ce-d750-46e0-a479-a1ae8419eb44",
   "metadata": {},
   "outputs": [
    {
     "data": {
      "text/plain": [
       "-93.3235377023426"
      ]
     },
     "execution_count": null,
     "metadata": {},
     "output_type": "execute_result"
    }
   ],
   "source": [
    "myr2(pred[0][0], target[0][0])"
   ]
  },
  {
   "cell_type": "markdown",
   "id": "2e064d37-69f3-44c2-b06a-5f372ddc8596",
   "metadata": {},
   "source": [
    "but the mask is still flattening the data ...."
   ]
  },
  {
   "cell_type": "code",
   "execution_count": null,
   "id": "872976b7-d566-4d15-8723-2da96afbf6a0",
   "metadata": {},
   "outputs": [
    {
     "data": {
      "text/plain": [
       "torch.Size([200, 3])"
      ]
     },
     "execution_count": null,
     "metadata": {},
     "output_type": "execute_result"
    }
   ],
   "source": [
    "m = target[1][0]\n",
    "m.shape"
   ]
  },
  {
   "cell_type": "markdown",
   "id": "657a657c-4dfc-477b-9418-d35bbb7355fa",
   "metadata": {},
   "source": [
    "need to get the mask as a matrix and not as a vector, so drop columns and rows that are all true and then check the resulting mask is all False"
   ]
  },
  {
   "cell_type": "code",
   "execution_count": null,
   "id": "157aed50-3721-4981-ae13-b9136e2f783a",
   "metadata": {},
   "outputs": [
    {
     "data": {
      "text/plain": [
       "tensor([[False, False],\n",
       "        [False, False],\n",
       "        [False, False],\n",
       "        [False, False],\n",
       "        [False, False],\n",
       "        [False, False],\n",
       "        [False, False],\n",
       "        [False, False],\n",
       "        [False, False],\n",
       "        [False, False]])"
      ]
     },
     "execution_count": null,
     "metadata": {},
     "output_type": "execute_result"
    }
   ],
   "source": [
    "mask_sub = m[:, ~m.all(0)][~m.all(1),:]\n",
    "mask_sub"
   ]
  },
  {
   "cell_type": "code",
   "execution_count": null,
   "id": "937fbd11-1ff7-4178-8349-e019c69f55d9",
   "metadata": {},
   "outputs": [
    {
     "data": {
      "text/plain": [
       "tensor(True)"
      ]
     },
     "execution_count": null,
     "metadata": {},
     "output_type": "execute_result"
    }
   ],
   "source": [
    "~mask_sub.any()"
   ]
  },
  {
   "cell_type": "code",
   "execution_count": null,
   "id": "631b14a5-59da-4129-bc27-8df3ff112d0b",
   "metadata": {},
   "outputs": [
    {
     "data": {
      "text/plain": [
       "tensor([[False,  True],\n",
       "        [False, False],\n",
       "        [False, False],\n",
       "        [False, False],\n",
       "        [False, False],\n",
       "        [False, False],\n",
       "        [False, False],\n",
       "        [False, False],\n",
       "        [False, False],\n",
       "        [False, False],\n",
       "        [False, False]])"
      ]
     },
     "execution_count": null,
     "metadata": {},
     "output_type": "execute_result"
    }
   ],
   "source": [
    "m2 = m.clone()\n",
    "m2[0,0] = False\n",
    "m2[:, ~m2.all(0)][~m2.all(1),:]"
   ]
  },
  {
   "cell_type": "code",
   "execution_count": null,
   "id": "dad52498-03b4-4aac-a8d6-bf7dc6f1cab1",
   "metadata": {},
   "outputs": [],
   "source": [
    "#| export\n",
    "class ImpMetric:\n",
    "    def __init__(self, metric, name, only_gap=False, flatten=False):\n",
    "        store_attr()\n",
    "    @property\n",
    "    def __name__(self): return  self.name + (\"_gap\" if self.only_gap else \"\")\n",
    "    def _metric_batch(self, pred, targ):\n",
    "        return self.metric(pred, targ)\n",
    "    def _metric_batch_gap(self, pred, targ, mask):\n",
    "        row_sel, col_sel = ~mask.all(1), ~mask.all(0)\n",
    "        assert not mask[:, col_sel][row_sel, :].any() # all data is missing in mask\n",
    "        return self.metric(pred[:, col_sel][row_sel, :], targ[:, col_sel][row_sel, :])\n",
    "    def __call__(self, pred: NormalsParams, targ: MeteoImpTensor):\n",
    "        mean, _ = pred\n",
    "        data, mask, _ = targ\n",
    "        metric_values = torch.empty(mean.shape[0])\n",
    "        for i in range(metric_values.shape[0]):\n",
    "            metric_values[i] = (self._metric_batch_gap(mean[i], data[i], mask[i]) if self.only_gap\n",
    "            else self._metric_batch(mean[i], data[i]))\n",
    "        return metric_values.mean().item()\n",
    "    "
   ]
  },
  {
   "cell_type": "code",
   "execution_count": null,
   "id": "2cf5ca04-9708-44ba-b030-b6a00618717b",
   "metadata": {},
   "outputs": [],
   "source": [
    "#| export\n",
    "rmse_mask = ImpMetric(rmse, 'rmse')\n",
    "rmse_gap = ImpMetric(rmse, 'rmse', only_gap=True)"
   ]
  },
  {
   "cell_type": "code",
   "execution_count": null,
   "id": "03400da3-5edb-4503-bd71-45bc5f374645",
   "metadata": {},
   "outputs": [
    {
     "data": {
      "text/plain": [
       "('rmse', 'rmse')"
      ]
     },
     "execution_count": null,
     "metadata": {},
     "output_type": "execute_result"
    }
   ],
   "source": [
    "rmse_mask.name, rmse_gap.name"
   ]
  },
  {
   "cell_type": "code",
   "execution_count": null,
   "id": "c9625669-a704-4e74-94c6-9d4b2034f91b",
   "metadata": {},
   "outputs": [
    {
     "data": {
      "text/plain": [
       "5.992781639099121"
      ]
     },
     "execution_count": null,
     "metadata": {},
     "output_type": "execute_result"
    }
   ],
   "source": [
    "rmse_mask(pred, target)"
   ]
  },
  {
   "cell_type": "code",
   "execution_count": null,
   "id": "855b68f5-41a7-4fe9-baa1-1996242883b3",
   "metadata": {},
   "outputs": [
    {
     "data": {
      "text/plain": [
       "3.741147994995117"
      ]
     },
     "execution_count": null,
     "metadata": {},
     "output_type": "execute_result"
    }
   ],
   "source": [
    "rmse_gap(pred, target)"
   ]
  },
  {
   "cell_type": "code",
   "execution_count": null,
   "id": "5a00fcc0-9561-4000-8ea5-71423671d4e4",
   "metadata": {},
   "outputs": [],
   "source": [
    "#| export\n",
    "multi_r2 = skm_to_fastai(r2_score, flatten=False)\n",
    "r2_mask = ImpMetric(multi_r2, 'r2')\n",
    "r2_gap = ImpMetric(multi_r2, 'r2', only_gap=True)"
   ]
  },
  {
   "cell_type": "code",
   "execution_count": null,
   "id": "00ce801a-1a26-4c54-9d9b-e642b884539e",
   "metadata": {},
   "outputs": [
    {
     "data": {
      "text/plain": [
       "('r2', 'r2')"
      ]
     },
     "execution_count": null,
     "metadata": {},
     "output_type": "execute_result"
    }
   ],
   "source": [
    "r2_mask.name, r2_gap.name"
   ]
  },
  {
   "cell_type": "code",
   "execution_count": null,
   "id": "17d103a8-9d3e-4e5f-b109-a3bc233da651",
   "metadata": {},
   "outputs": [
    {
     "data": {
      "text/plain": [
       "(-455.7625427246094, -2780.671142578125)"
      ]
     },
     "execution_count": null,
     "metadata": {},
     "output_type": "execute_result"
    }
   ],
   "source": [
    "r2_mask(pred, target), r2_gap(pred, target)"
   ]
  },
  {
   "cell_type": "code",
   "execution_count": null,
   "id": "c86c0fb8-e80f-4140-8d0b-68bdd66ab144",
   "metadata": {},
   "outputs": [],
   "source": [
    "#| export\n",
    "imp_metrics =  [rmse_mask, rmse_gap, r2_mask, r2_gap]"
   ]
  },
  {
   "cell_type": "markdown",
   "id": "73470c88-47dc-4187-a208-789f24c23a3e",
   "metadata": {},
   "source": [
    "### Callback"
   ]
  },
  {
   "cell_type": "markdown",
   "id": "96c199ec-b21c-401d-bd3c-16670de8e372",
   "metadata": {},
   "source": [
    "save the model state "
   ]
  },
  {
   "cell_type": "code",
   "execution_count": null,
   "id": "c9f34e5c-1cf5-4c04-b7e0-89e2e33b9aa1",
   "metadata": {},
   "outputs": [],
   "source": [
    "#| export\n",
    "from fastai.callback.all import *"
   ]
  },
  {
   "cell_type": "code",
   "execution_count": null,
   "id": "c6bbe197-91eb-4fb2-ae15-f2d463914902",
   "metadata": {},
   "outputs": [],
   "source": [
    "#| export\n",
    "class SaveParams(Callback):\n",
    "    def __init__(self, param_name):\n",
    "        super().__init__()\n",
    "        self.params = []\n",
    "        self.param_name = param_name\n",
    "    def after_batch(self):\n",
    "        param = getattr(self.model, self.param_name).detach()\n",
    "        self.params.append(param)"
   ]
  },
  {
   "cell_type": "code",
   "execution_count": null,
   "id": "206b2efc-a26e-4ed7-b9a8-df1ce7a605b4",
   "metadata": {},
   "outputs": [],
   "source": [
    "#| export\n",
    "class SaveParams(Callback):\n",
    "    def __init__(self, param_name):\n",
    "        super().__init__()\n",
    "        self.params = []\n",
    "        self.param_name = param_name\n",
    "    def after_batch(self):\n",
    "        param = getattr(self.model, self.param_name).detach()\n",
    "        self.params.append(param)"
   ]
  },
  {
   "cell_type": "code",
   "execution_count": null,
   "id": "c2d2eb9e-eea2-40eb-918a-e8575cb20323",
   "metadata": {},
   "outputs": [],
   "source": [
    "debug_preds = []"
   ]
  },
  {
   "cell_type": "code",
   "execution_count": null,
   "id": "26d2f05f-fd23-4393-b5e8-f9800cc36f78",
   "metadata": {},
   "outputs": [],
   "source": [
    "class DebugPredCallback(Callback):\n",
    "    order = 0\n",
    "    def after_validate(self):\n",
    "        if hasattr(self, 'gather_preds'):\n",
    "            debug_preds.append(self.gather_preds.preds)"
   ]
  },
  {
   "cell_type": "markdown",
   "id": "99617495-ab91-4a00-8371-91011ba551ba",
   "metadata": {},
   "source": [
    "### Learner"
   ]
  },
  {
   "cell_type": "code",
   "execution_count": null,
   "id": "87ad92d0-4b9a-4f10-817d-c213366fe83a",
   "metadata": {},
   "outputs": [],
   "source": [
    "#| export\n",
    "from fastai.learner import * \n",
    "\n",
    "from fastai.tabular.all import *\n",
    "\n",
    "from fastai.tabular.learner import *\n",
    "\n",
    "from fastai.callback.progress import ShowGraphCallback"
   ]
  },
  {
   "cell_type": "code",
   "execution_count": null,
   "id": "8bb68031-bc19-4c2f-b82b-201939013bbc",
   "metadata": {},
   "outputs": [],
   "source": [
    "obs_cov_history = SaveParams('obs_cov')"
   ]
  },
  {
   "cell_type": "code",
   "execution_count": null,
   "id": "fdb75dd6-f0af-4c50-bc80-2436b28b4db3",
   "metadata": {},
   "outputs": [],
   "source": [
    "all_data = CollectDataCallback()"
   ]
  },
  {
   "cell_type": "code",
   "execution_count": null,
   "id": "25efc678-791b-4599-87d3-820ace3f7263",
   "metadata": {},
   "outputs": [],
   "source": [
    "model = KalmanFilter.init_random(n_dim_obs = hai.shape[1], n_dim_state = hai.shape[1], n_dim_contr = hai_era.shape[-1]*control_repeat).cuda()"
   ]
  },
  {
   "cell_type": "code",
   "execution_count": null,
   "id": "cb235adb-78de-430e-8eb4-c279347e4045",
   "metadata": {},
   "outputs": [],
   "source": [
    "# model._set_constraint('obs_cov', model.obs_cov, train=False)"
   ]
  },
  {
   "cell_type": "code",
   "execution_count": null,
   "id": "2cfc46b8-3ffd-4080-92ad-ad52e3d4a9e9",
   "metadata": {},
   "outputs": [],
   "source": [
    "pipeline, block_ids = imp_pipeline(hai[:20000], hai_era, var_sel, gap_len, block_len, control_lags)\n",
    "    \n",
    "splits = RandomSplitter()(block_ids)\n",
    "ds = TfmdLists(block_ids, pipeline, splits=splits)"
   ]
  },
  {
   "cell_type": "code",
   "execution_count": null,
   "id": "84eb6fff-dbce-4d24-a796-558e03f9e306",
   "metadata": {},
   "outputs": [],
   "source": [
    "dls = ds.dataloaders(bs=10, device='cuda')"
   ]
  },
  {
   "cell_type": "code",
   "execution_count": null,
   "id": "db0f5e59-de01-4c9c-acc0-becfe69866a2",
   "metadata": {},
   "outputs": [
    {
     "data": {
      "text/plain": [
       "device(type='cuda', index=0)"
      ]
     },
     "execution_count": null,
     "metadata": {},
     "output_type": "execute_result"
    }
   ],
   "source": [
    "dls.one_batch()[0][0].device"
   ]
  },
  {
   "cell_type": "code",
   "execution_count": null,
   "id": "5b218c03-1a48-43a2-8822-7f6ee03cf7be",
   "metadata": {},
   "outputs": [],
   "source": [
    "input, target = dls.one_batch()"
   ]
  },
  {
   "cell_type": "code",
   "execution_count": null,
   "id": "e780d5ce-a904-4fc6-a60b-6ab6e28dc05e",
   "metadata": {},
   "outputs": [
    {
     "data": {
      "text/plain": [
       "tensor(5.5364, device='cuda:0', grad_fn=<MeanBackward0>)"
      ]
     },
     "execution_count": null,
     "metadata": {},
     "output_type": "execute_result"
    }
   ],
   "source": [
    "pred = model(input)\n",
    "KalmanLoss()(pred, target)"
   ]
  },
  {
   "cell_type": "code",
   "execution_count": null,
   "id": "c508264f-ca12-4f8f-93cc-9245fa84e7d9",
   "metadata": {},
   "outputs": [],
   "source": [
    "learn = Learner(dls, model, loss_func=KalmanLoss(only_gap=False), cbs = [DebugPredCallback] , metrics = imp_metrics)"
   ]
  },
  {
   "cell_type": "code",
   "execution_count": null,
   "id": "eef1826f-78e6-4654-a92f-dca07b2ddb7e",
   "metadata": {},
   "outputs": [
    {
     "data": {
      "text/html": [
       "\n",
       "<style>\n",
       "    /* Turns off some styling */\n",
       "    progress {\n",
       "        /* gets rid of default border in Firefox and Opera. */\n",
       "        border: none;\n",
       "        /* Needs to be in here for Safari polyfill so background images work as expected. */\n",
       "        background-size: auto;\n",
       "    }\n",
       "    progress:not([value]), progress:not([value])::-webkit-progress-bar {\n",
       "        background: repeating-linear-gradient(45deg, #7e7e7e, #7e7e7e 10px, #5c5c5c 10px, #5c5c5c 20px);\n",
       "    }\n",
       "    .progress-bar-interrupted, .progress-bar-interrupted::-webkit-progress-bar {\n",
       "        background: #F44336;\n",
       "    }\n",
       "</style>\n"
      ],
      "text/plain": [
       "<IPython.core.display.HTML object>"
      ]
     },
     "metadata": {},
     "output_type": "display_data"
    },
    {
     "data": {
      "text/html": [
       "<table border=\"1\" class=\"dataframe\">\n",
       "  <thead>\n",
       "    <tr style=\"text-align: left;\">\n",
       "      <th>epoch</th>\n",
       "      <th>train_loss</th>\n",
       "      <th>valid_loss</th>\n",
       "      <th>rmse</th>\n",
       "      <th>rmse_gap</th>\n",
       "      <th>r2</th>\n",
       "      <th>r2_gap</th>\n",
       "      <th>time</th>\n",
       "    </tr>\n",
       "  </thead>\n",
       "  <tbody>\n",
       "    <tr>\n",
       "      <td>0</td>\n",
       "      <td>35.176266</td>\n",
       "      <td>33.676594</td>\n",
       "      <td>0.520978</td>\n",
       "      <td>0.624155</td>\n",
       "      <td>-4658914151.429186</td>\n",
       "      <td>-21176.257122</td>\n",
       "      <td>00:20</td>\n",
       "    </tr>\n",
       "  </tbody>\n",
       "</table>"
      ],
      "text/plain": [
       "<IPython.core.display.HTML object>"
      ]
     },
     "metadata": {},
     "output_type": "display_data"
    }
   ],
   "source": [
    "learn.fit(1, 1e-3)"
   ]
  },
  {
   "cell_type": "code",
   "execution_count": null,
   "id": "38669d4e-30cc-434b-b175-03542454be95",
   "metadata": {},
   "outputs": [],
   "source": [
    "learn = Learner(dls, model, loss_func=KalmanLoss(only_gap=True), cbs = [DebugPredCallback] , metrics = imp_metrics)"
   ]
  },
  {
   "cell_type": "code",
   "execution_count": null,
   "id": "b19f6072-7c7d-46b5-9ff6-50dafe002e4c",
   "metadata": {},
   "outputs": [
    {
     "data": {
      "text/html": [
       "\n",
       "<style>\n",
       "    /* Turns off some styling */\n",
       "    progress {\n",
       "        /* gets rid of default border in Firefox and Opera. */\n",
       "        border: none;\n",
       "        /* Needs to be in here for Safari polyfill so background images work as expected. */\n",
       "        background-size: auto;\n",
       "    }\n",
       "    progress:not([value]), progress:not([value])::-webkit-progress-bar {\n",
       "        background: repeating-linear-gradient(45deg, #7e7e7e, #7e7e7e 10px, #5c5c5c 10px, #5c5c5c 20px);\n",
       "    }\n",
       "    .progress-bar-interrupted, .progress-bar-interrupted::-webkit-progress-bar {\n",
       "        background: #F44336;\n",
       "    }\n",
       "</style>\n"
      ],
      "text/plain": [
       "<IPython.core.display.HTML object>"
      ]
     },
     "metadata": {},
     "output_type": "display_data"
    },
    {
     "data": {
      "text/html": [
       "<table border=\"1\" class=\"dataframe\">\n",
       "  <thead>\n",
       "    <tr style=\"text-align: left;\">\n",
       "      <th>epoch</th>\n",
       "      <th>train_loss</th>\n",
       "      <th>valid_loss</th>\n",
       "      <th>rmse</th>\n",
       "      <th>rmse_gap</th>\n",
       "      <th>r2</th>\n",
       "      <th>r2_gap</th>\n",
       "      <th>time</th>\n",
       "    </tr>\n",
       "  </thead>\n",
       "  <tbody>\n",
       "    <tr>\n",
       "      <td>0</td>\n",
       "      <td>4.376126</td>\n",
       "      <td>4.285818</td>\n",
       "      <td>0.431818</td>\n",
       "      <td>0.510785</td>\n",
       "      <td>-12417389516.375244</td>\n",
       "      <td>-87603.837819</td>\n",
       "      <td>00:20</td>\n",
       "    </tr>\n",
       "  </tbody>\n",
       "</table>"
      ],
      "text/plain": [
       "<IPython.core.display.HTML object>"
      ]
     },
     "metadata": {},
     "output_type": "display_data"
    }
   ],
   "source": [
    "learn.fit(1, 1e-3)"
   ]
  },
  {
   "cell_type": "markdown",
   "id": "84002608-9491-4335-86fb-d40d3946f2ae",
   "metadata": {},
   "source": [
    "#### Float64"
   ]
  },
  {
   "cell_type": "code",
   "execution_count": null,
   "id": "69191be7-ac68-4616-8e4b-460fb786769f",
   "metadata": {},
   "outputs": [],
   "source": [
    "model64 = KalmanFilter.init_random(hai.shape[1], hai.shape[1], n_dim_contr = hai_era.shape[-1]*control_repeat, dtype=torch.float64).cuda()"
   ]
  },
  {
   "cell_type": "code",
   "execution_count": null,
   "id": "5bfcc6cf-a46d-4e69-a570-47adb86251d9",
   "metadata": {},
   "outputs": [],
   "source": [
    "#| export\n",
    "class Float64Callback(Callback):\n",
    "    order = Recorder.order + 10 # run after Recorder \n",
    "    def before_fit(self):\n",
    "        self.recorder.smooth_loss.val = torch.tensor(0, dtype=torch.float64) # default is a float 32"
   ]
  },
  {
   "cell_type": "code",
   "execution_count": null,
   "id": "69e1f814-b1f8-48e1-a098-e37234d4b451",
   "metadata": {},
   "outputs": [],
   "source": [
    "dls64 = imp_dataloader(hai64[:20000], hai_era64, var_sel = var_sel, block_len = 10, gap_len = 2, control_lags = [1], bs=10)"
   ]
  },
  {
   "cell_type": "code",
   "execution_count": null,
   "id": "a0142fdc-5c85-45d1-a13f-b2f0839b0636",
   "metadata": {},
   "outputs": [],
   "source": [
    "input64 = dls64.one_batch()[0]\n",
    "target64 = dls64.one_batch()[1]"
   ]
  },
  {
   "cell_type": "code",
   "execution_count": null,
   "id": "06e93c8b-f74d-4382-8fb2-54d83aec5fcb",
   "metadata": {},
   "outputs": [],
   "source": [
    "data64, mask64, contr64 = input64"
   ]
  },
  {
   "cell_type": "code",
   "execution_count": null,
   "id": "1cc98d35-4a67-496d-acc7-a9bd5d884a52",
   "metadata": {},
   "outputs": [
    {
     "data": {
      "text/plain": [
       "(torch.float64, torch.float64, torch.float64, device(type='cuda', index=0))"
      ]
     },
     "execution_count": null,
     "metadata": {},
     "output_type": "execute_result"
    }
   ],
   "source": [
    "data64.dtype, data64.dtype, contr64.dtype, data64.device"
   ]
  },
  {
   "cell_type": "code",
   "execution_count": null,
   "id": "59d35c5d-ce51-476d-85ce-8502ae6d17e6",
   "metadata": {},
   "outputs": [],
   "source": [
    "model64.predict(data64, mask64, contr64);"
   ]
  },
  {
   "cell_type": "code",
   "execution_count": null,
   "id": "30e0a335-4e18-42a1-a847-baacdab94ee5",
   "metadata": {},
   "outputs": [],
   "source": [
    "pred = model64(input64)"
   ]
  },
  {
   "cell_type": "code",
   "execution_count": null,
   "id": "4931c465-98fa-4a47-bd1d-4abc91cd739f",
   "metadata": {},
   "outputs": [
    {
     "data": {
      "text/plain": [
       "tensor(9.7495, device='cuda:0', grad_fn=<MeanBackward0>)"
      ]
     },
     "execution_count": null,
     "metadata": {},
     "output_type": "execute_result"
    }
   ],
   "source": [
    "KalmanLoss()(pred, target)"
   ]
  },
  {
   "cell_type": "code",
   "execution_count": null,
   "id": "59fc2923-1419-4036-b05e-c73c34465bb6",
   "metadata": {},
   "outputs": [],
   "source": [
    "learn64 = Learner(dls64, model64, loss_func=KalmanLoss(), cbs = [Float64Callback] , metrics = imp_metrics)"
   ]
  },
  {
   "cell_type": "code",
   "execution_count": null,
   "id": "8f8f50e9-133a-4dfe-966d-2c5650fa416a",
   "metadata": {},
   "outputs": [
    {
     "data": {
      "text/html": [
       "\n",
       "<style>\n",
       "    /* Turns off some styling */\n",
       "    progress {\n",
       "        /* gets rid of default border in Firefox and Opera. */\n",
       "        border: none;\n",
       "        /* Needs to be in here for Safari polyfill so background images work as expected. */\n",
       "        background-size: auto;\n",
       "    }\n",
       "    progress:not([value]), progress:not([value])::-webkit-progress-bar {\n",
       "        background: repeating-linear-gradient(45deg, #7e7e7e, #7e7e7e 10px, #5c5c5c 10px, #5c5c5c 20px);\n",
       "    }\n",
       "    .progress-bar-interrupted, .progress-bar-interrupted::-webkit-progress-bar {\n",
       "        background: #F44336;\n",
       "    }\n",
       "</style>\n"
      ],
      "text/plain": [
       "<IPython.core.display.HTML object>"
      ]
     },
     "metadata": {},
     "output_type": "display_data"
    },
    {
     "data": {
      "text/html": [
       "<table border=\"1\" class=\"dataframe\">\n",
       "  <thead>\n",
       "    <tr style=\"text-align: left;\">\n",
       "      <th>epoch</th>\n",
       "      <th>train_loss</th>\n",
       "      <th>valid_loss</th>\n",
       "      <th>rmse</th>\n",
       "      <th>rmse_gap</th>\n",
       "      <th>r2</th>\n",
       "      <th>r2_gap</th>\n",
       "      <th>time</th>\n",
       "    </tr>\n",
       "  </thead>\n",
       "  <tbody>\n",
       "    <tr>\n",
       "      <td>0</td>\n",
       "      <td>4.715713</td>\n",
       "      <td>4.485024</td>\n",
       "      <td>0.500242</td>\n",
       "      <td>0.586618</td>\n",
       "      <td>-3487334111620732697467336785920.000000</td>\n",
       "      <td>-60922.645958</td>\n",
       "      <td>00:20</td>\n",
       "    </tr>\n",
       "  </tbody>\n",
       "</table>"
      ],
      "text/plain": [
       "<IPython.core.display.HTML object>"
      ]
     },
     "metadata": {},
     "output_type": "display_data"
    }
   ],
   "source": [
    "learn64.fit(1, 1e-3)"
   ]
  },
  {
   "cell_type": "markdown",
   "id": "748bb675-4e1a-4f1d-bf5b-b31bcf8d76e3",
   "metadata": {},
   "source": [
    "### Predictions"
   ]
  },
  {
   "cell_type": "markdown",
   "id": "6fd471c0-9266-4a63-bf13-e28742c3419c",
   "metadata": {},
   "source": [
    "The transformation pipeline is not working properly (there is a problem in `decode_batch` as the `_types` are more nested than the predictions, which results in an error) + the pipeline is anyway not reproducible + the test dataloaders seems that they are actually not deterministic .....\n",
    "soo reimplement everything almost from scratch\n",
    "\n",
    "see https://github.com/mone27/meteo_imp/blob/0335003405ec9bd3e3bd2641bc6d7924f34a0788/lib_nbs/kalman/10_fastai.ipynb for all details"
   ]
  },
  {
   "cell_type": "code",
   "execution_count": null,
   "id": "06b53296-e81d-463a-ab60-2150f99fc724",
   "metadata": {},
   "outputs": [],
   "source": [
    "#| export\n",
    "class NormalsDf:\n",
    "    \"\"\"DataFrames of Normal parameters (mean and std)\"\"\"\n",
    "    def __init__(self, mean, std): store_attr()\n",
    "    def tidy(self, prefix=\"\"):\n",
    "        \"\"\"Tidy version\"\"\"\n",
    "        mean = self.mean.reset_index().melt(\"time\", value_name=prefix + \"mean\")\n",
    "        std = self.std.reset_index().melt(\"time\", value_name=prefix + \"std\")\n",
    "        return pd.merge(mean, std, on=[\"time\", \"variable\"])\n",
    "    __repr__ = basic_repr(\"mean, std\")"
   ]
  },
  {
   "cell_type": "code",
   "execution_count": null,
   "id": "58fa359e-7abc-4605-81d6-c00a698f3307",
   "metadata": {},
   "outputs": [
    {
     "data": {
      "text/html": [
       "<div>\n",
       "  <p>\n",
       "    <strong>BlockIndexTransform</strong>\n",
       "  </p>\n",
       "  <p>(int,object) -&gt; encodes\n",
       "</p>\n",
       "  <p></p>\n",
       "</div>"
      ],
      "text/plain": [
       "BlockIndexTransform:\n",
       "encodes: (int,object) -> encodes\n",
       "decodes: "
      ]
     },
     "execution_count": null,
     "metadata": {},
     "output_type": "execute_result"
    }
   ],
   "source": [
    "tfms5.fs[0]"
   ]
  },
  {
   "cell_type": "code",
   "execution_count": null,
   "id": "20ea0c19-bb0a-492a-b60e-f0271491c5e9",
   "metadata": {},
   "outputs": [
    {
     "name": "stdout",
     "output_type": "stream",
     "text": [
      "(#1599) [821,1981,830,1112,900,381,1609,1898,1513,978...]\n"
     ]
    },
    {
     "data": {
      "text/plain": [
       "NoneType"
      ]
     },
     "execution_count": null,
     "metadata": {},
     "output_type": "execute_result"
    }
   ],
   "source": [
    "type(pprint(L(dls.items)))"
   ]
  },
  {
   "cell_type": "code",
   "execution_count": null,
   "id": "a51638b1-2820-4642-a8ac-921a443b3558",
   "metadata": {},
   "outputs": [
    {
     "name": "stdout",
     "output_type": "stream",
     "text": [
      "(#3) [800,801,803]\n"
     ]
    },
    {
     "ename": "ValueError",
     "evalue": "None not a tag or string.",
     "output_type": "error",
     "traceback": [
      "\u001b[0;31m---------------------------------------------------------------------------\u001b[0m",
      "\u001b[0;31mValueError\u001b[0m                                Traceback (most recent call last)",
      "File \u001b[0;32m~/.local/lib/python3.10/site-packages/IPython/core/formatters.py:343\u001b[0m, in \u001b[0;36mBaseFormatter.__call__\u001b[0;34m(self, obj)\u001b[0m\n\u001b[1;32m    341\u001b[0m     method \u001b[38;5;241m=\u001b[39m get_real_method(obj, \u001b[38;5;28mself\u001b[39m\u001b[38;5;241m.\u001b[39mprint_method)\n\u001b[1;32m    342\u001b[0m     \u001b[38;5;28;01mif\u001b[39;00m method \u001b[38;5;129;01mis\u001b[39;00m \u001b[38;5;129;01mnot\u001b[39;00m \u001b[38;5;28;01mNone\u001b[39;00m:\n\u001b[0;32m--> 343\u001b[0m         \u001b[38;5;28;01mreturn\u001b[39;00m \u001b[43mmethod\u001b[49m\u001b[43m(\u001b[49m\u001b[43m)\u001b[49m\n\u001b[1;32m    344\u001b[0m     \u001b[38;5;28;01mreturn\u001b[39;00m \u001b[38;5;28;01mNone\u001b[39;00m\n\u001b[1;32m    345\u001b[0m \u001b[38;5;28;01melse\u001b[39;00m:\n",
      "Input \u001b[0;32mIn [9]\u001b[0m, in \u001b[0;36m_repr_html_\u001b[0;34m(self)\u001b[0m\n\u001b[1;32m      4\u001b[0m \u001b[38;5;28;01mwith\u001b[39;00m div() \u001b[38;5;28;01mas\u001b[39;00m out:\n\u001b[1;32m      5\u001b[0m     span(\u001b[38;5;124m\"\u001b[39m\u001b[38;5;124mTfmdLists. Items:\u001b[39m\u001b[38;5;124m\"\u001b[39m)\n\u001b[0;32m----> 6\u001b[0m     \u001b[43mpre\u001b[49m\u001b[43m(\u001b[49m\u001b[43mpprint\u001b[49m\u001b[43m(\u001b[49m\u001b[43mL\u001b[49m\u001b[43m(\u001b[49m\u001b[38;5;28;43mself\u001b[39;49m\u001b[38;5;241;43m.\u001b[39;49m\u001b[43mitems\u001b[49m\u001b[43m)\u001b[49m\u001b[43m)\u001b[49m\u001b[43m)\u001b[49m\n\u001b[1;32m      7\u001b[0m     ol([li(f\u001b[38;5;241m.\u001b[39m_repr_html_(as_str\u001b[38;5;241m=\u001b[39m\u001b[38;5;28;01mFalse\u001b[39;00m)) \u001b[38;5;28;01mfor\u001b[39;00m f \u001b[38;5;129;01min\u001b[39;00m \u001b[38;5;28mself\u001b[39m\u001b[38;5;241m.\u001b[39mfs], start\u001b[38;5;241m=\u001b[39m\u001b[38;5;124m\"\u001b[39m\u001b[38;5;124m0\u001b[39m\u001b[38;5;124m\"\u001b[39m)\n\u001b[1;32m      8\u001b[0m \u001b[38;5;28;01mreturn\u001b[39;00m \u001b[38;5;28mstr\u001b[39m(out)\n",
      "File \u001b[0;32m~/anaconda3/envs/data-science/lib/python3.10/site-packages/dominate/tags.py:63\u001b[0m, in \u001b[0;36mhtml_tag.__init__\u001b[0;34m(self, *args, **kwargs)\u001b[0m\n\u001b[1;32m     59\u001b[0m \u001b[38;5;28;01mdef\u001b[39;00m \u001b[38;5;21m__init__\u001b[39m(\u001b[38;5;28mself\u001b[39m, \u001b[38;5;241m*\u001b[39margs, \u001b[38;5;241m*\u001b[39m\u001b[38;5;241m*\u001b[39mkwargs):\n\u001b[1;32m     60\u001b[0m   \u001b[38;5;124;03m'''\u001b[39;00m\n\u001b[1;32m     61\u001b[0m \u001b[38;5;124;03m  Creates a new html tag instance.\u001b[39;00m\n\u001b[1;32m     62\u001b[0m \u001b[38;5;124;03m  '''\u001b[39;00m\n\u001b[0;32m---> 63\u001b[0m   \u001b[38;5;28;43msuper\u001b[39;49m\u001b[43m(\u001b[49m\u001b[43mhtml_tag\u001b[49m\u001b[43m,\u001b[49m\u001b[43m \u001b[49m\u001b[38;5;28;43mself\u001b[39;49m\u001b[43m)\u001b[49m\u001b[38;5;241;43m.\u001b[39;49m\u001b[38;5;21;43m__init__\u001b[39;49m\u001b[43m(\u001b[49m\u001b[38;5;241;43m*\u001b[39;49m\u001b[43margs\u001b[49m\u001b[43m,\u001b[49m\u001b[43m \u001b[49m\u001b[38;5;241;43m*\u001b[39;49m\u001b[38;5;241;43m*\u001b[39;49m\u001b[43mkwargs\u001b[49m\u001b[43m)\u001b[49m\n",
      "File \u001b[0;32m~/anaconda3/envs/data-science/lib/python3.10/site-packages/dominate/dom_tag.py:101\u001b[0m, in \u001b[0;36mdom_tag.__init__\u001b[0;34m(self, *args, **kwargs)\u001b[0m\n\u001b[1;32m     99\u001b[0m \u001b[38;5;66;03m#Add child elements\u001b[39;00m\n\u001b[1;32m    100\u001b[0m \u001b[38;5;28;01mif\u001b[39;00m args:\n\u001b[0;32m--> 101\u001b[0m   \u001b[38;5;28;43mself\u001b[39;49m\u001b[38;5;241;43m.\u001b[39;49m\u001b[43madd\u001b[49m\u001b[43m(\u001b[49m\u001b[38;5;241;43m*\u001b[39;49m\u001b[43margs\u001b[49m\u001b[43m)\u001b[49m\n\u001b[1;32m    103\u001b[0m \u001b[38;5;28;01mfor\u001b[39;00m attr, value \u001b[38;5;129;01min\u001b[39;00m kwargs\u001b[38;5;241m.\u001b[39mitems():\n\u001b[1;32m    104\u001b[0m   \u001b[38;5;28mself\u001b[39m\u001b[38;5;241m.\u001b[39mset_attribute(\u001b[38;5;241m*\u001b[39m\u001b[38;5;28mtype\u001b[39m(\u001b[38;5;28mself\u001b[39m)\u001b[38;5;241m.\u001b[39mclean_pair(attr, value))\n",
      "File \u001b[0;32m~/anaconda3/envs/data-science/lib/python3.10/site-packages/dominate/dom_tag.py:209\u001b[0m, in \u001b[0;36mdom_tag.add\u001b[0;34m(self, *args)\u001b[0m\n\u001b[1;32m    206\u001b[0m       \u001b[38;5;28mself\u001b[39m\u001b[38;5;241m.\u001b[39madd(subobj)\n\u001b[1;32m    208\u001b[0m   \u001b[38;5;28;01melse\u001b[39;00m:  \u001b[38;5;66;03m# wtf is it?\u001b[39;00m\n\u001b[0;32m--> 209\u001b[0m     \u001b[38;5;28;01mraise\u001b[39;00m \u001b[38;5;167;01mValueError\u001b[39;00m(\u001b[38;5;124m'\u001b[39m\u001b[38;5;132;01m%r\u001b[39;00m\u001b[38;5;124m not a tag or string.\u001b[39m\u001b[38;5;124m'\u001b[39m \u001b[38;5;241m%\u001b[39m obj)\n\u001b[1;32m    211\u001b[0m \u001b[38;5;28;01mif\u001b[39;00m \u001b[38;5;28mlen\u001b[39m(args) \u001b[38;5;241m==\u001b[39m \u001b[38;5;241m1\u001b[39m:\n\u001b[1;32m    212\u001b[0m   \u001b[38;5;28;01mreturn\u001b[39;00m args[\u001b[38;5;241m0\u001b[39m]\n",
      "\u001b[0;31mValueError\u001b[0m: None not a tag or string."
     ]
    },
    {
     "data": {
      "text/plain": [
       "TfmdLists: [800, 801, 803]\n",
       "tfms - [BlockIndexTransform:\n",
       "encodes: (int,object) -> encodes\n",
       "decodes: , BlockDfTransform:\n",
       "encodes: (DatetimeIndex,object) -> encodes\n",
       "decodes: , AddGapTransform:\n",
       "encodes: (DataControl,object) -> encodes\n",
       "decodes: , MeteoImpDf2Tensor:\n",
       "encodes: (MeteoImpDf,object) -> encodes\n",
       "decodes: , MeteoImpNormalize -- {'mean_data': tensor([  8.3339, 120.9578,   3.3807]), 'std_data': tensor([  7.9246, 204.0026,   4.3684]), 'mean_control': tensor([  8.1948, 120.6864,   3.3253,   8.1948, 120.6864,   3.3253]), 'std_control': tensor([  7.5459, 187.1730,   3.6871,   7.5459, 187.1730,   3.6871])}:\n",
       "encodes: (MeteoImpTensor,object) -> encodes\n",
       "decodes: (MeteoImpTensor,object) -> decodes\n",
       "(NormalsParams,object) -> decodes\n",
       ", ToTuple:\n",
       "encodes: (object,object) -> encodes\n",
       "decodes: (object,object) -> decodes\n",
       "]"
      ]
     },
     "execution_count": null,
     "metadata": {},
     "output_type": "execute_result"
    }
   ],
   "source": [
    "tfms5"
   ]
  },
  {
   "cell_type": "code",
   "execution_count": null,
   "id": "b4e97479-86d5-4198-932a-69c48568e6df",
   "metadata": {},
   "outputs": [
    {
     "data": {
      "text/plain": [
       "((#3) [BlockIndexTransform:\n",
       "encodes: (int,object) -> encodes\n",
       "decodes: ,BlockDfTransform:\n",
       "encodes: (DatetimeIndex,object) -> encodes\n",
       "decodes: ,AddGapTransform:\n",
       "encodes: (DataControl,object) -> encodes\n",
       "decodes: ],\n",
       " (#2) [MeteoImpDf2Tensor:\n",
       "encodes: (MeteoImpDf,object) -> encodes\n",
       "decodes: ,MeteoImpNormalize -- {'mean_data': tensor([  8.3339, 120.9578,   3.3807]), 'std_data': tensor([  7.9246, 204.0026,   4.3684]), 'mean_control': tensor([  8.1948, 120.6864,   3.3253,   8.1948, 120.6864,   3.3253]), 'std_control': tensor([  7.5459, 187.1730,   3.6871,   7.5459, 187.1730,   3.6871])}:\n",
       "encodes: (MeteoImpTensor,object) -> encodes\n",
       "decodes: (MeteoImpTensor,object) -> decodes\n",
       "(NormalsParams,object) -> decodes\n",
       "])"
      ]
     },
     "execution_count": null,
     "metadata": {},
     "output_type": "execute_result"
    }
   ],
   "source": [
    "pipe0, pipe1 = tfms5.fs[0,1,2], tfms5.fs[3,4] \n",
    "\n",
    "pipe0, pipe1"
   ]
  },
  {
   "cell_type": "code",
   "execution_count": null,
   "id": "43fc7416-d6a1-4376-8d2b-1948b525fee1",
   "metadata": {},
   "outputs": [],
   "source": [
    "#| export\n",
    "def preds2df(preds, targs):\n",
    "    \"\"\"Final step to decode preds by getting a dataframe\"\"\"\n",
    "    # preds this is a tuple (data, mask)\n",
    "    out = []\n",
    "    for pred, targ in zip(preds, targs):\n",
    "        # convert to dataframe using structure for\n",
    "        mean = pd.DataFrame(pred[0].squeeze(0).detach().cpu().numpy(), columns = targ.data.columns, index=targ.data.index)\n",
    "        std = pd.DataFrame(pred[1].squeeze(0).detach().cpu().numpy(), columns = targ.data.columns, index=targ.data.index)\n",
    "        out.append(NormalsDf(mean, std))\n",
    "    return out"
   ]
  },
  {
   "cell_type": "code",
   "execution_count": null,
   "id": "b45a64ab-60b0-4f48-8df8-6ee40055ba14",
   "metadata": {},
   "outputs": [],
   "source": [
    "#| export\n",
    "def predict_items(items, learn, pipe0, pipe1):\n",
    "    pipe0, pipe1 = Pipeline(pipe0), Pipeline(pipe1)\n",
    "    preds, targs, losses = [], [], []\n",
    "    for item in items:\n",
    "        targ = pipe0(item)\n",
    "        data, mask, control = pipe1(targ)\n",
    "        input = MeteoImpTensor(data.cuda().unsqueeze(0), mask.cuda().unsqueeze(0), control.cuda().unsqueeze(0))\n",
    "        pred = learn.model(input)\n",
    "        loss = learn.loss_func(pred, input)\n",
    "        # denormalize\n",
    "        pred = pipe1.decode(pred)\n",
    "        preds.append(pred), targs.append(targ), losses.append(loss)\n",
    "        \n",
    "    return preds2df(preds, targs), targs, losses\n",
    "        "
   ]
  },
  {
   "cell_type": "code",
   "execution_count": null,
   "id": "b69146c1-1df0-407f-8746-5997f297b687",
   "metadata": {},
   "outputs": [],
   "source": [
    "preds, targs, losses = predict_items([0,1,3], learn, pipe0, pipe1)"
   ]
  },
  {
   "cell_type": "code",
   "execution_count": null,
   "id": "0b1c488f-cec4-41c0-985b-08ef798eb689",
   "metadata": {},
   "outputs": [
    {
     "data": {
      "text/html": [
       "<div>\n",
       "<style scoped>\n",
       "    .dataframe tbody tr th:only-of-type {\n",
       "        vertical-align: middle;\n",
       "    }\n",
       "\n",
       "    .dataframe tbody tr th {\n",
       "        vertical-align: top;\n",
       "    }\n",
       "\n",
       "    .dataframe thead th {\n",
       "        text-align: right;\n",
       "    }\n",
       "</style>\n",
       "<table border=\"1\" class=\"dataframe\">\n",
       "  <thead>\n",
       "    <tr style=\"text-align: right;\">\n",
       "      <th></th>\n",
       "      <th>TA</th>\n",
       "      <th>SW_IN</th>\n",
       "      <th>VPD</th>\n",
       "    </tr>\n",
       "    <tr>\n",
       "      <th>time</th>\n",
       "      <th></th>\n",
       "      <th></th>\n",
       "      <th></th>\n",
       "    </tr>\n",
       "  </thead>\n",
       "  <tbody>\n",
       "    <tr>\n",
       "      <th>2000-01-01 01:00:00</th>\n",
       "      <td>True</td>\n",
       "      <td>True</td>\n",
       "      <td>True</td>\n",
       "    </tr>\n",
       "    <tr>\n",
       "      <th>2000-01-01 01:30:00</th>\n",
       "      <td>True</td>\n",
       "      <td>True</td>\n",
       "      <td>True</td>\n",
       "    </tr>\n",
       "    <tr>\n",
       "      <th>2000-01-01 02:00:00</th>\n",
       "      <td>True</td>\n",
       "      <td>True</td>\n",
       "      <td>True</td>\n",
       "    </tr>\n",
       "    <tr>\n",
       "      <th>2000-01-01 02:30:00</th>\n",
       "      <td>True</td>\n",
       "      <td>True</td>\n",
       "      <td>True</td>\n",
       "    </tr>\n",
       "    <tr>\n",
       "      <th>2000-01-01 03:00:00</th>\n",
       "      <td>True</td>\n",
       "      <td>True</td>\n",
       "      <td>True</td>\n",
       "    </tr>\n",
       "    <tr>\n",
       "      <th>2000-01-01 03:30:00</th>\n",
       "      <td>True</td>\n",
       "      <td>True</td>\n",
       "      <td>True</td>\n",
       "    </tr>\n",
       "    <tr>\n",
       "      <th>2000-01-01 04:00:00</th>\n",
       "      <td>True</td>\n",
       "      <td>True</td>\n",
       "      <td>True</td>\n",
       "    </tr>\n",
       "    <tr>\n",
       "      <th>2000-01-01 04:30:00</th>\n",
       "      <td>True</td>\n",
       "      <td>True</td>\n",
       "      <td>True</td>\n",
       "    </tr>\n",
       "    <tr>\n",
       "      <th>2000-01-01 05:00:00</th>\n",
       "      <td>True</td>\n",
       "      <td>True</td>\n",
       "      <td>True</td>\n",
       "    </tr>\n",
       "    <tr>\n",
       "      <th>2000-01-01 05:30:00</th>\n",
       "      <td>True</td>\n",
       "      <td>True</td>\n",
       "      <td>True</td>\n",
       "    </tr>\n",
       "  </tbody>\n",
       "</table>\n",
       "</div>"
      ],
      "text/plain": [
       "                       TA  SW_IN   VPD\n",
       "time                                  \n",
       "2000-01-01 01:00:00  True   True  True\n",
       "2000-01-01 01:30:00  True   True  True\n",
       "2000-01-01 02:00:00  True   True  True\n",
       "2000-01-01 02:30:00  True   True  True\n",
       "2000-01-01 03:00:00  True   True  True\n",
       "2000-01-01 03:30:00  True   True  True\n",
       "2000-01-01 04:00:00  True   True  True\n",
       "2000-01-01 04:30:00  True   True  True\n",
       "2000-01-01 05:00:00  True   True  True\n",
       "2000-01-01 05:30:00  True   True  True"
      ]
     },
     "execution_count": null,
     "metadata": {},
     "output_type": "execute_result"
    }
   ],
   "source": [
    "predict_items([0], learn, pipe0, pipe1)[1][0].data == predict_items([0], learn, pipe0, pipe1)[1][0].data"
   ]
  },
  {
   "cell_type": "markdown",
   "id": "9a1606c2-ee54-46be-8f57-dd5173134605",
   "metadata": {},
   "source": [
    "#### Plot results"
   ]
  },
  {
   "cell_type": "code",
   "execution_count": null,
   "id": "7799bf37-003f-419a-a410-6e7b1c25719c",
   "metadata": {},
   "outputs": [],
   "source": [
    "#| export\n",
    "def plot_result(pred, targ, loss, **kwargs):\n",
    "    df = pd.merge(targ.tidy(), pred.tidy(), on=[\"time\", \"variable\"])\n",
    "    # return df\n",
    "    return facet_variable(df, ys=[\"value\", \"mean\"], error=True, **kwargs).properties(title=f\"loss: {loss.item():.6f}\")"
   ]
  },
  {
   "cell_type": "code",
   "execution_count": null,
   "id": "7881fd41-e876-42a1-ba94-bfc1efd18700",
   "metadata": {},
   "outputs": [],
   "source": [
    "y = \"mean\""
   ]
  },
  {
   "cell_type": "code",
   "execution_count": null,
   "id": "f4bd8f4e-a59e-4b1a-8e30-1cb2f0fab6f6",
   "metadata": {},
   "outputs": [
    {
     "data": {
      "text/html": [
       "\n",
       "<div id=\"altair-viz-df1d0d3788b04a659a73819d86611ead\"></div>\n",
       "<script type=\"text/javascript\">\n",
       "  var VEGA_DEBUG = (typeof VEGA_DEBUG == \"undefined\") ? {} : VEGA_DEBUG;\n",
       "  (function(spec, embedOpt){\n",
       "    let outputDiv = document.currentScript.previousElementSibling;\n",
       "    if (outputDiv.id !== \"altair-viz-df1d0d3788b04a659a73819d86611ead\") {\n",
       "      outputDiv = document.getElementById(\"altair-viz-df1d0d3788b04a659a73819d86611ead\");\n",
       "    }\n",
       "    const paths = {\n",
       "      \"vega\": \"https://cdn.jsdelivr.net/npm//vega@5?noext\",\n",
       "      \"vega-lib\": \"https://cdn.jsdelivr.net/npm//vega-lib?noext\",\n",
       "      \"vega-lite\": \"https://cdn.jsdelivr.net/npm//vega-lite@5.2.0?noext\",\n",
       "      \"vega-embed\": \"https://cdn.jsdelivr.net/npm//vega-embed@6?noext\",\n",
       "    };\n",
       "\n",
       "    function maybeLoadScript(lib, version) {\n",
       "      var key = `${lib.replace(\"-\", \"\")}_version`;\n",
       "      return (VEGA_DEBUG[key] == version) ?\n",
       "        Promise.resolve(paths[lib]) :\n",
       "        new Promise(function(resolve, reject) {\n",
       "          var s = document.createElement('script');\n",
       "          document.getElementsByTagName(\"head\")[0].appendChild(s);\n",
       "          s.async = true;\n",
       "          s.onload = () => {\n",
       "            VEGA_DEBUG[key] = version;\n",
       "            return resolve(paths[lib]);\n",
       "          };\n",
       "          s.onerror = () => reject(`Error loading script: ${paths[lib]}`);\n",
       "          s.src = paths[lib];\n",
       "        });\n",
       "    }\n",
       "\n",
       "    function showError(err) {\n",
       "      outputDiv.innerHTML = `<div class=\"error\" style=\"color:red;\">${err}</div>`;\n",
       "      throw err;\n",
       "    }\n",
       "\n",
       "    function displayChart(vegaEmbed) {\n",
       "      vegaEmbed(outputDiv, spec, embedOpt)\n",
       "        .catch(err => showError(`Javascript Error: ${err.message}<br>This usually means there's a typo in your chart specification. See the javascript console for the full traceback.`));\n",
       "    }\n",
       "\n",
       "    if(typeof define === \"function\" && define.amd) {\n",
       "      requirejs.config({paths});\n",
       "      require([\"vega-embed\"], displayChart, err => showError(`Error loading script: ${err.message}`));\n",
       "    } else {\n",
       "      maybeLoadScript(\"vega\", \"5\")\n",
       "        .then(() => maybeLoadScript(\"vega-lite\", \"5.2.0\"))\n",
       "        .then(() => maybeLoadScript(\"vega-embed\", \"6\"))\n",
       "        .catch(showError)\n",
       "        .then(() => displayChart(vegaEmbed));\n",
       "    }\n",
       "  })({\"config\": {\"view\": {\"continuousWidth\": 400, \"continuousHeight\": 300}}, \"vconcat\": [{\"hconcat\": [{\"layer\": [{\"data\": {\"name\": \"data-603e2af71a4b506b074ccf710b1280d8\"}, \"mark\": {\"type\": \"point\", \"color\": \"black\", \"fillOpacity\": 1, \"strokeWidth\": 1}, \"encoding\": {\"fill\": {\"field\": \"is_present\", \"legend\": {\"title\": [\"Observed data\"]}, \"scale\": {\"range\": [\"black\", \"#ffffff00\"]}, \"type\": \"nominal\"}, \"shape\": {\"field\": \"is_present\", \"type\": \"nominal\"}, \"x\": {\"axis\": {\"domain\": true, \"labels\": true, \"ticks\": true, \"title\": \"time\"}, \"field\": \"time\", \"type\": \"temporal\"}, \"y\": {\"field\": \"value\", \"scale\": {\"zero\": false}, \"title\": \"TA\", \"type\": \"quantitative\"}}}, {\"layer\": [{\"mark\": \"rule\", \"encoding\": {\"x\": {\"axis\": {\"domain\": false, \"labels\": false, \"ticks\": false, \"title\": null}, \"field\": \"gap_start\", \"type\": \"temporal\"}}}, {\"mark\": \"rule\", \"encoding\": {\"x\": {\"axis\": {\"domain\": false, \"labels\": false, \"ticks\": false, \"title\": null}, \"field\": \"gap_end\", \"type\": \"temporal\"}}}, {\"mark\": {\"type\": \"rect\", \"color\": \"black\", \"opacity\": 0.15}, \"encoding\": {\"x\": {\"axis\": {\"domain\": false, \"labels\": false, \"ticks\": false, \"title\": null}, \"field\": \"gap_start\", \"type\": \"temporal\"}, \"x2\": {\"field\": \"gap_end\"}}}], \"data\": {\"name\": \"data-c313a741a018f10e956a6d4e14e37ea6\"}}, {\"layer\": [{\"mark\": \"errorband\", \"encoding\": {\"color\": {\"field\": \"variable\", \"legend\": {\"title\": [\"Line: pred. mean\", \"area: +/- 2 std\"]}, \"type\": \"nominal\"}, \"x\": {\"field\": \"time\", \"type\": \"temporal\"}, \"y\": {\"field\": \"err_low\", \"scale\": {\"zero\": false}, \"title\": \"TA\", \"type\": \"quantitative\"}, \"y2\": {\"field\": \"err_high\"}}, \"name\": \"view_12\"}, {\"mark\": \"line\", \"encoding\": {\"color\": {\"field\": \"variable\", \"type\": \"nominal\"}, \"x\": {\"field\": \"time\", \"type\": \"temporal\"}, \"y\": {\"field\": \"mean\", \"scale\": {\"zero\": false}, \"title\": \"TA\", \"type\": \"quantitative\"}}}], \"data\": {\"name\": \"data-603e2af71a4b506b074ccf710b1280d8\"}}], \"height\": 150, \"title\": \"TA\", \"width\": 200}, {\"layer\": [{\"data\": {\"name\": \"data-cb74a92b93b102b6127e3e3beec81f7f\"}, \"mark\": {\"type\": \"point\", \"color\": \"black\", \"fillOpacity\": 1, \"strokeWidth\": 1}, \"encoding\": {\"fill\": {\"field\": \"is_present\", \"legend\": {\"title\": [\"Observed data\"]}, \"scale\": {\"range\": [\"black\", \"#ffffff00\"]}, \"type\": \"nominal\"}, \"shape\": {\"field\": \"is_present\", \"type\": \"nominal\"}, \"x\": {\"axis\": {\"domain\": true, \"labels\": true, \"ticks\": true, \"title\": \"time\"}, \"field\": \"time\", \"type\": \"temporal\"}, \"y\": {\"field\": \"value\", \"scale\": {\"zero\": false}, \"title\": \"SW_IN\", \"type\": \"quantitative\"}}}, {\"layer\": [{\"mark\": \"rule\", \"encoding\": {\"x\": {\"axis\": {\"domain\": false, \"labels\": false, \"ticks\": false, \"title\": null}, \"field\": \"gap_start\", \"type\": \"temporal\"}}}, {\"mark\": \"rule\", \"encoding\": {\"x\": {\"axis\": {\"domain\": false, \"labels\": false, \"ticks\": false, \"title\": null}, \"field\": \"gap_end\", \"type\": \"temporal\"}}}, {\"mark\": {\"type\": \"rect\", \"color\": \"black\", \"opacity\": 0.15}, \"encoding\": {\"x\": {\"axis\": {\"domain\": false, \"labels\": false, \"ticks\": false, \"title\": null}, \"field\": \"gap_start\", \"type\": \"temporal\"}, \"x2\": {\"field\": \"gap_end\"}}}], \"data\": {\"name\": \"data-c313a741a018f10e956a6d4e14e37ea6\"}}, {\"layer\": [{\"mark\": \"errorband\", \"encoding\": {\"color\": {\"field\": \"variable\", \"legend\": {\"title\": [\"Line: pred. mean\", \"area: +/- 2 std\"]}, \"type\": \"nominal\"}, \"x\": {\"field\": \"time\", \"type\": \"temporal\"}, \"y\": {\"field\": \"err_low\", \"scale\": {\"zero\": false}, \"title\": \"SW_IN\", \"type\": \"quantitative\"}, \"y2\": {\"field\": \"err_high\"}}, \"name\": \"view_13\"}, {\"mark\": \"line\", \"encoding\": {\"color\": {\"field\": \"variable\", \"type\": \"nominal\"}, \"x\": {\"field\": \"time\", \"type\": \"temporal\"}, \"y\": {\"field\": \"mean\", \"scale\": {\"zero\": false}, \"title\": \"SW_IN\", \"type\": \"quantitative\"}}}], \"data\": {\"name\": \"data-cb74a92b93b102b6127e3e3beec81f7f\"}}], \"height\": 150, \"title\": \"SW_IN\", \"width\": 200}, {\"layer\": [{\"mark\": {\"type\": \"point\", \"color\": \"black\", \"fillOpacity\": 1, \"strokeWidth\": 1}, \"encoding\": {\"fill\": {\"field\": \"is_present\", \"legend\": {\"title\": [\"Observed data\"]}, \"scale\": {\"range\": [\"black\", \"#ffffff00\"]}, \"type\": \"nominal\"}, \"shape\": {\"field\": \"is_present\", \"type\": \"nominal\"}, \"x\": {\"axis\": {\"domain\": true, \"labels\": true, \"ticks\": true, \"title\": \"time\"}, \"field\": \"time\", \"type\": \"temporal\"}, \"y\": {\"field\": \"value\", \"scale\": {\"zero\": false}, \"title\": \"VPD\", \"type\": \"quantitative\"}}}, {\"layer\": [{\"mark\": \"errorband\", \"encoding\": {\"color\": {\"field\": \"variable\", \"legend\": {\"title\": [\"Line: pred. mean\", \"area: +/- 2 std\"]}, \"type\": \"nominal\"}, \"x\": {\"field\": \"time\", \"type\": \"temporal\"}, \"y\": {\"field\": \"err_low\", \"scale\": {\"zero\": false}, \"title\": \"VPD\", \"type\": \"quantitative\"}, \"y2\": {\"field\": \"err_high\"}}, \"name\": \"view_14\"}, {\"mark\": \"line\", \"encoding\": {\"color\": {\"field\": \"variable\", \"type\": \"nominal\"}, \"x\": {\"field\": \"time\", \"type\": \"temporal\"}, \"y\": {\"field\": \"mean\", \"scale\": {\"zero\": false}, \"title\": \"VPD\", \"type\": \"quantitative\"}}}]}], \"data\": {\"name\": \"data-01a4f4c9ac98d8bd65f3ff3bd8c33f5c\"}, \"height\": 150, \"title\": \"VPD\", \"width\": 200}]}], \"params\": [{\"name\": \"param_19\", \"select\": {\"type\": \"interval\", \"encodings\": [\"x\"]}, \"bind\": \"scales\", \"views\": [\"view_12\", \"view_13\", \"view_14\"]}], \"title\": \"loss: 1.000000\", \"$schema\": \"https://vega.github.io/schema/vega-lite/v5.2.0.json\", \"datasets\": {\"data-603e2af71a4b506b074ccf710b1280d8\": [{\"time\": \"2000-01-01T01:00:00\", \"variable\": \"TA\", \"value\": -0.6499999761581421, \"is_present\": true, \"mean\": 6.442259311676025, \"std\": 8.820901870727539, \"err_low\": -11.199544906616211, \"err_high\": 24.084062576293945}, {\"time\": \"2000-01-01T01:30:00\", \"variable\": \"TA\", \"value\": -0.5799999833106995, \"is_present\": true, \"mean\": 2.6917319297790527, \"std\": 8.747191429138184, \"err_low\": -14.802650451660156, \"err_high\": 20.186115264892578}, {\"time\": \"2000-01-01T02:00:00\", \"variable\": \"TA\", \"value\": -0.5099999904632568, \"is_present\": true, \"mean\": 1.3977761268615723, \"std\": 8.755509376525879, \"err_low\": -16.113243103027344, \"err_high\": 18.908794403076172}, {\"time\": \"2000-01-01T02:30:00\", \"variable\": \"TA\", \"value\": -0.49000000953674316, \"is_present\": true, \"mean\": 0.9271426200866699, \"std\": 8.754222869873047, \"err_low\": -16.581302642822266, \"err_high\": 18.435588836669922}, {\"time\": \"2000-01-01T03:00:00\", \"variable\": \"TA\", \"value\": -0.4000000059604645, \"is_present\": true, \"mean\": 0.6796875, \"std\": 8.75430965423584, \"err_low\": -16.82893180847168, \"err_high\": 18.18830680847168}, {\"time\": \"2000-01-01T03:30:00\", \"variable\": \"TA\", \"value\": -0.36000001430511475, \"is_present\": true, \"mean\": 0.5670795440673828, \"std\": 8.754987716674805, \"err_low\": -16.942895889282227, \"err_high\": 18.077054977416992}, {\"time\": \"2000-01-01T04:00:00\", \"variable\": \"TA\", \"value\": -0.3499999940395355, \"is_present\": true, \"mean\": 0.5659174919128418, \"std\": 8.758572578430176, \"err_low\": -16.95122718811035, \"err_high\": 18.08306312561035}, {\"time\": \"2000-01-01T04:30:00\", \"variable\": \"TA\", \"value\": -0.2800000011920929, \"is_present\": false, \"mean\": 0.6068906784057617, \"std\": 9.079349517822266, \"err_low\": -17.551807403564453, \"err_high\": 18.76559066772461}, {\"time\": \"2000-01-01T05:00:00\", \"variable\": \"TA\", \"value\": -0.27000001072883606, \"is_present\": false, \"mean\": 0.31060791015625, \"std\": 9.08376407623291, \"err_low\": -17.85692024230957, \"err_high\": 18.47813606262207}, {\"time\": \"2000-01-01T05:30:00\", \"variable\": \"TA\", \"value\": -0.23000000417232513, \"is_present\": true, \"mean\": -3.365142822265625, \"std\": 8.880525588989258, \"err_low\": -21.12619400024414, \"err_high\": 14.39590835571289}], \"data-c313a741a018f10e956a6d4e14e37ea6\": [{\"gap_start\": \"2000-01-01T04:30:00\", \"gap_end\": \"2000-01-01T05:00:00\"}], \"data-cb74a92b93b102b6127e3e3beec81f7f\": [{\"time\": \"2000-01-01T01:00:00\", \"variable\": \"SW_IN\", \"value\": 0.0, \"is_present\": true, \"mean\": 230.81195068359375, \"std\": 165.67410278320312, \"err_low\": -100.5362548828125, \"err_high\": 562.16015625}, {\"time\": \"2000-01-01T01:30:00\", \"variable\": \"SW_IN\", \"value\": 0.0, \"is_present\": true, \"mean\": 105.37934112548828, \"std\": 166.605224609375, \"err_low\": -227.83111572265625, \"err_high\": 438.58978271484375}, {\"time\": \"2000-01-01T02:00:00\", \"variable\": \"SW_IN\", \"value\": 0.0, \"is_present\": true, \"mean\": 48.464683532714844, \"std\": 166.07113647460938, \"err_low\": -283.6775817871094, \"err_high\": 380.6069641113281}, {\"time\": \"2000-01-01T02:30:00\", \"variable\": \"SW_IN\", \"value\": 0.0, \"is_present\": true, \"mean\": 15.365646362304688, \"std\": 165.87379455566406, \"err_low\": -316.3819580078125, \"err_high\": 347.11322021484375}, {\"time\": \"2000-01-01T03:00:00\", \"variable\": \"SW_IN\", \"value\": 0.0, \"is_present\": true, \"mean\": -4.300621032714844, \"std\": 165.80487060546875, \"err_low\": -335.9103698730469, \"err_high\": 327.3091125488281}, {\"time\": \"2000-01-01T03:30:00\", \"variable\": \"SW_IN\", \"value\": 0.0, \"is_present\": true, \"mean\": -16.70893096923828, \"std\": 165.79759216308594, \"err_low\": -348.3041076660156, \"err_high\": 314.8862609863281}, {\"time\": \"2000-01-01T04:00:00\", \"variable\": \"SW_IN\", \"value\": 0.0, \"is_present\": true, \"mean\": -25.06201934814453, \"std\": 165.8973388671875, \"err_low\": -356.856689453125, \"err_high\": 306.732666015625}, {\"time\": \"2000-01-01T04:30:00\", \"variable\": \"SW_IN\", \"value\": 0.0, \"is_present\": false, \"mean\": -32.08228302001953, \"std\": 167.83218383789062, \"err_low\": -367.74664306640625, \"err_high\": 303.58209228515625}, {\"time\": \"2000-01-01T05:00:00\", \"variable\": \"SW_IN\", \"value\": 0.0, \"is_present\": false, \"mean\": -41.186805725097656, \"std\": 167.8104248046875, \"err_low\": -376.8076477050781, \"err_high\": 294.4340515136719}, {\"time\": \"2000-01-01T05:30:00\", \"variable\": \"SW_IN\", \"value\": 0.0, \"is_present\": true, \"mean\": -74.94780731201172, \"std\": 166.44480895996094, \"err_low\": -407.8374328613281, \"err_high\": 257.9418029785156}], \"data-01a4f4c9ac98d8bd65f3ff3bd8c33f5c\": [{\"time\": \"2000-01-01T01:00:00\", \"variable\": \"VPD\", \"value\": 0.12200000137090683, \"is_present\": true, \"mean\": 0.7803878784179688, \"std\": 5.819883346557617, \"err_low\": -10.859378814697266, \"err_high\": 12.420154571533203}, {\"time\": \"2000-01-01T01:30:00\", \"variable\": \"VPD\", \"value\": 0.09000000357627869, \"is_present\": true, \"mean\": -0.5715770721435547, \"std\": 5.821844577789307, \"err_low\": -12.215266227722168, \"err_high\": 11.072112083435059}, {\"time\": \"2000-01-01T02:00:00\", \"variable\": \"VPD\", \"value\": 0.10999999940395355, \"is_present\": true, \"mean\": -0.2849392890930176, \"std\": 5.818987846374512, \"err_low\": -11.922914505004883, \"err_high\": 11.353036880493164}, {\"time\": \"2000-01-01T02:30:00\", \"variable\": \"VPD\", \"value\": 0.10199999809265137, \"is_present\": true, \"mean\": 0.029532670974731445, \"std\": 5.81901216506958, \"err_low\": -11.608491897583008, \"err_high\": 11.667556762695312}, {\"time\": \"2000-01-01T03:00:00\", \"variable\": \"VPD\", \"value\": 0.11100000143051147, \"is_present\": true, \"mean\": 0.2803535461425781, \"std\": 5.820282936096191, \"err_low\": -11.360212326049805, \"err_high\": 11.920919418334961}, {\"time\": \"2000-01-01T03:30:00\", \"variable\": \"VPD\", \"value\": 0.10899999737739563, \"is_present\": true, \"mean\": 0.48305201530456543, \"std\": 5.823911190032959, \"err_low\": -11.164770126342773, \"err_high\": 12.130874633789062}, {\"time\": \"2000-01-01T04:00:00\", \"variable\": \"VPD\", \"value\": 0.10700000077486038, \"is_present\": true, \"mean\": 0.7093997001647949, \"std\": 5.83063268661499, \"err_low\": -10.951866149902344, \"err_high\": 12.370664596557617}, {\"time\": \"2000-01-01T04:30:00\", \"variable\": \"VPD\", \"value\": 0.12200000137090683, \"is_present\": true, \"mean\": 0.9492611885070801, \"std\": 6.161297798156738, \"err_low\": -11.373334884643555, \"err_high\": 13.271856307983398}, {\"time\": \"2000-01-01T05:00:00\", \"variable\": \"VPD\", \"value\": 0.1379999965429306, \"is_present\": true, \"mean\": 0.869448184967041, \"std\": 6.164331912994385, \"err_low\": -11.45921516418457, \"err_high\": 13.198112487792969}, {\"time\": \"2000-01-01T05:30:00\", \"variable\": \"VPD\", \"value\": 0.1379999965429306, \"is_present\": true, \"mean\": -2.335928201675415, \"std\": 5.9772419929504395, \"err_low\": -14.290411949157715, \"err_high\": 9.618556022644043}]}}, {\"mode\": \"vega-lite\"});\n",
       "</script>"
      ],
      "text/plain": [
       "alt.VConcatChart(...)"
      ]
     },
     "execution_count": null,
     "metadata": {},
     "output_type": "execute_result"
    }
   ],
   "source": [
    "plot_result(preds[0], targs[0], torch.tensor(1))"
   ]
  },
  {
   "cell_type": "code",
   "execution_count": null,
   "id": "15082351-51f0-4139-9426-4ae2c64a94cb",
   "metadata": {},
   "outputs": [],
   "source": [
    "#| export\n",
    "def plot_results(preds, targs, losses, **kwargs):\n",
    "    plots = [plot_result(targ, pred, loss, n_cols=1, **kwargs) for targ, pred, loss in zip(preds, targs, losses)]\n",
    "    return alt.hconcat(*plots)"
   ]
  },
  {
   "cell_type": "code",
   "execution_count": null,
   "id": "6eb4485c-8e03-437e-8ed5-bc61a5c170af",
   "metadata": {},
   "outputs": [
    {
     "data": {
      "text/html": [
       "\n",
       "<div id=\"altair-viz-e2503d3f4f904e8292b9564b5735f10a\"></div>\n",
       "<script type=\"text/javascript\">\n",
       "  var VEGA_DEBUG = (typeof VEGA_DEBUG == \"undefined\") ? {} : VEGA_DEBUG;\n",
       "  (function(spec, embedOpt){\n",
       "    let outputDiv = document.currentScript.previousElementSibling;\n",
       "    if (outputDiv.id !== \"altair-viz-e2503d3f4f904e8292b9564b5735f10a\") {\n",
       "      outputDiv = document.getElementById(\"altair-viz-e2503d3f4f904e8292b9564b5735f10a\");\n",
       "    }\n",
       "    const paths = {\n",
       "      \"vega\": \"https://cdn.jsdelivr.net/npm//vega@5?noext\",\n",
       "      \"vega-lib\": \"https://cdn.jsdelivr.net/npm//vega-lib?noext\",\n",
       "      \"vega-lite\": \"https://cdn.jsdelivr.net/npm//vega-lite@5.2.0?noext\",\n",
       "      \"vega-embed\": \"https://cdn.jsdelivr.net/npm//vega-embed@6?noext\",\n",
       "    };\n",
       "\n",
       "    function maybeLoadScript(lib, version) {\n",
       "      var key = `${lib.replace(\"-\", \"\")}_version`;\n",
       "      return (VEGA_DEBUG[key] == version) ?\n",
       "        Promise.resolve(paths[lib]) :\n",
       "        new Promise(function(resolve, reject) {\n",
       "          var s = document.createElement('script');\n",
       "          document.getElementsByTagName(\"head\")[0].appendChild(s);\n",
       "          s.async = true;\n",
       "          s.onload = () => {\n",
       "            VEGA_DEBUG[key] = version;\n",
       "            return resolve(paths[lib]);\n",
       "          };\n",
       "          s.onerror = () => reject(`Error loading script: ${paths[lib]}`);\n",
       "          s.src = paths[lib];\n",
       "        });\n",
       "    }\n",
       "\n",
       "    function showError(err) {\n",
       "      outputDiv.innerHTML = `<div class=\"error\" style=\"color:red;\">${err}</div>`;\n",
       "      throw err;\n",
       "    }\n",
       "\n",
       "    function displayChart(vegaEmbed) {\n",
       "      vegaEmbed(outputDiv, spec, embedOpt)\n",
       "        .catch(err => showError(`Javascript Error: ${err.message}<br>This usually means there's a typo in your chart specification. See the javascript console for the full traceback.`));\n",
       "    }\n",
       "\n",
       "    if(typeof define === \"function\" && define.amd) {\n",
       "      requirejs.config({paths});\n",
       "      require([\"vega-embed\"], displayChart, err => showError(`Error loading script: ${err.message}`));\n",
       "    } else {\n",
       "      maybeLoadScript(\"vega\", \"5\")\n",
       "        .then(() => maybeLoadScript(\"vega-lite\", \"5.2.0\"))\n",
       "        .then(() => maybeLoadScript(\"vega-embed\", \"6\"))\n",
       "        .catch(showError)\n",
       "        .then(() => displayChart(vegaEmbed));\n",
       "    }\n",
       "  })({\"config\": {\"view\": {\"continuousWidth\": 400, \"continuousHeight\": 300}}, \"hconcat\": [{\"vconcat\": [{\"hconcat\": [{\"layer\": [{\"data\": {\"name\": \"data-603e2af71a4b506b074ccf710b1280d8\"}, \"mark\": {\"type\": \"point\", \"color\": \"black\", \"fillOpacity\": 1, \"strokeWidth\": 1}, \"encoding\": {\"fill\": {\"field\": \"is_present\", \"legend\": {\"title\": [\"Observed data\"]}, \"scale\": {\"range\": [\"black\", \"#ffffff00\"]}, \"type\": \"nominal\"}, \"shape\": {\"field\": \"is_present\", \"type\": \"nominal\"}, \"x\": {\"axis\": {\"domain\": true, \"labels\": true, \"ticks\": true, \"title\": \"time\"}, \"field\": \"time\", \"type\": \"temporal\"}, \"y\": {\"field\": \"value\", \"scale\": {\"zero\": false}, \"title\": \"TA\", \"type\": \"quantitative\"}}}, {\"layer\": [{\"mark\": \"rule\", \"encoding\": {\"x\": {\"axis\": {\"domain\": false, \"labels\": false, \"ticks\": false, \"title\": null}, \"field\": \"gap_start\", \"type\": \"temporal\"}}}, {\"mark\": \"rule\", \"encoding\": {\"x\": {\"axis\": {\"domain\": false, \"labels\": false, \"ticks\": false, \"title\": null}, \"field\": \"gap_end\", \"type\": \"temporal\"}}}, {\"mark\": {\"type\": \"rect\", \"color\": \"black\", \"opacity\": 0.15}, \"encoding\": {\"x\": {\"axis\": {\"domain\": false, \"labels\": false, \"ticks\": false, \"title\": null}, \"field\": \"gap_start\", \"type\": \"temporal\"}, \"x2\": {\"field\": \"gap_end\"}}}], \"data\": {\"name\": \"data-c313a741a018f10e956a6d4e14e37ea6\"}}, {\"layer\": [{\"mark\": \"errorband\", \"encoding\": {\"color\": {\"field\": \"variable\", \"legend\": {\"title\": [\"Line: pred. mean\", \"area: +/- 2 std\"]}, \"type\": \"nominal\"}, \"x\": {\"field\": \"time\", \"type\": \"temporal\"}, \"y\": {\"field\": \"err_low\", \"scale\": {\"zero\": false}, \"title\": \"TA\", \"type\": \"quantitative\"}, \"y2\": {\"field\": \"err_high\"}}, \"name\": \"view_15\"}, {\"mark\": \"line\", \"encoding\": {\"color\": {\"field\": \"variable\", \"type\": \"nominal\"}, \"x\": {\"field\": \"time\", \"type\": \"temporal\"}, \"y\": {\"field\": \"mean\", \"scale\": {\"zero\": false}, \"title\": \"TA\", \"type\": \"quantitative\"}}}], \"data\": {\"name\": \"data-603e2af71a4b506b074ccf710b1280d8\"}}], \"height\": 150, \"title\": \"TA\", \"width\": 200}]}, {\"hconcat\": [{\"layer\": [{\"data\": {\"name\": \"data-cb74a92b93b102b6127e3e3beec81f7f\"}, \"mark\": {\"type\": \"point\", \"color\": \"black\", \"fillOpacity\": 1, \"strokeWidth\": 1}, \"encoding\": {\"fill\": {\"field\": \"is_present\", \"legend\": {\"title\": [\"Observed data\"]}, \"scale\": {\"range\": [\"black\", \"#ffffff00\"]}, \"type\": \"nominal\"}, \"shape\": {\"field\": \"is_present\", \"type\": \"nominal\"}, \"x\": {\"axis\": {\"domain\": true, \"labels\": true, \"ticks\": true, \"title\": \"time\"}, \"field\": \"time\", \"type\": \"temporal\"}, \"y\": {\"field\": \"value\", \"scale\": {\"zero\": false}, \"title\": \"SW_IN\", \"type\": \"quantitative\"}}}, {\"layer\": [{\"mark\": \"rule\", \"encoding\": {\"x\": {\"axis\": {\"domain\": false, \"labels\": false, \"ticks\": false, \"title\": null}, \"field\": \"gap_start\", \"type\": \"temporal\"}}}, {\"mark\": \"rule\", \"encoding\": {\"x\": {\"axis\": {\"domain\": false, \"labels\": false, \"ticks\": false, \"title\": null}, \"field\": \"gap_end\", \"type\": \"temporal\"}}}, {\"mark\": {\"type\": \"rect\", \"color\": \"black\", \"opacity\": 0.15}, \"encoding\": {\"x\": {\"axis\": {\"domain\": false, \"labels\": false, \"ticks\": false, \"title\": null}, \"field\": \"gap_start\", \"type\": \"temporal\"}, \"x2\": {\"field\": \"gap_end\"}}}], \"data\": {\"name\": \"data-c313a741a018f10e956a6d4e14e37ea6\"}}, {\"layer\": [{\"mark\": \"errorband\", \"encoding\": {\"color\": {\"field\": \"variable\", \"legend\": {\"title\": [\"Line: pred. mean\", \"area: +/- 2 std\"]}, \"type\": \"nominal\"}, \"x\": {\"field\": \"time\", \"type\": \"temporal\"}, \"y\": {\"field\": \"err_low\", \"scale\": {\"zero\": false}, \"title\": \"SW_IN\", \"type\": \"quantitative\"}, \"y2\": {\"field\": \"err_high\"}}, \"name\": \"view_16\"}, {\"mark\": \"line\", \"encoding\": {\"color\": {\"field\": \"variable\", \"type\": \"nominal\"}, \"x\": {\"field\": \"time\", \"type\": \"temporal\"}, \"y\": {\"field\": \"mean\", \"scale\": {\"zero\": false}, \"title\": \"SW_IN\", \"type\": \"quantitative\"}}}], \"data\": {\"name\": \"data-cb74a92b93b102b6127e3e3beec81f7f\"}}], \"height\": 150, \"title\": \"SW_IN\", \"width\": 200}]}, {\"hconcat\": [{\"layer\": [{\"mark\": {\"type\": \"point\", \"color\": \"black\", \"fillOpacity\": 1, \"strokeWidth\": 1}, \"encoding\": {\"fill\": {\"field\": \"is_present\", \"legend\": {\"title\": [\"Observed data\"]}, \"scale\": {\"range\": [\"black\", \"#ffffff00\"]}, \"type\": \"nominal\"}, \"shape\": {\"field\": \"is_present\", \"type\": \"nominal\"}, \"x\": {\"axis\": {\"domain\": true, \"labels\": true, \"ticks\": true, \"title\": \"time\"}, \"field\": \"time\", \"type\": \"temporal\"}, \"y\": {\"field\": \"value\", \"scale\": {\"zero\": false}, \"title\": \"VPD\", \"type\": \"quantitative\"}}}, {\"layer\": [{\"mark\": \"errorband\", \"encoding\": {\"color\": {\"field\": \"variable\", \"legend\": {\"title\": [\"Line: pred. mean\", \"area: +/- 2 std\"]}, \"type\": \"nominal\"}, \"x\": {\"field\": \"time\", \"type\": \"temporal\"}, \"y\": {\"field\": \"err_low\", \"scale\": {\"zero\": false}, \"title\": \"VPD\", \"type\": \"quantitative\"}, \"y2\": {\"field\": \"err_high\"}}, \"name\": \"view_17\"}, {\"mark\": \"line\", \"encoding\": {\"color\": {\"field\": \"variable\", \"type\": \"nominal\"}, \"x\": {\"field\": \"time\", \"type\": \"temporal\"}, \"y\": {\"field\": \"mean\", \"scale\": {\"zero\": false}, \"title\": \"VPD\", \"type\": \"quantitative\"}}}]}], \"height\": 150, \"title\": \"VPD\", \"width\": 200}], \"data\": {\"name\": \"data-01a4f4c9ac98d8bd65f3ff3bd8c33f5c\"}}], \"title\": \"loss: 30.473019\"}, {\"vconcat\": [{\"hconcat\": [{\"layer\": [{\"data\": {\"name\": \"data-d335c78fac019b727d2410bb08c13126\"}, \"mark\": {\"type\": \"point\", \"color\": \"black\", \"fillOpacity\": 1, \"strokeWidth\": 1}, \"encoding\": {\"fill\": {\"field\": \"is_present\", \"legend\": {\"title\": [\"Observed data\"]}, \"scale\": {\"range\": [\"black\", \"#ffffff00\"]}, \"type\": \"nominal\"}, \"shape\": {\"field\": \"is_present\", \"type\": \"nominal\"}, \"x\": {\"axis\": {\"domain\": true, \"labels\": true, \"ticks\": true, \"title\": \"time\"}, \"field\": \"time\", \"type\": \"temporal\"}, \"y\": {\"field\": \"value\", \"scale\": {\"zero\": false}, \"title\": \"TA\", \"type\": \"quantitative\"}}}, {\"layer\": [{\"mark\": \"rule\", \"encoding\": {\"x\": {\"axis\": {\"domain\": false, \"labels\": false, \"ticks\": false, \"title\": null}, \"field\": \"gap_start\", \"type\": \"temporal\"}}}, {\"mark\": \"rule\", \"encoding\": {\"x\": {\"axis\": {\"domain\": false, \"labels\": false, \"ticks\": false, \"title\": null}, \"field\": \"gap_end\", \"type\": \"temporal\"}}}, {\"mark\": {\"type\": \"rect\", \"color\": \"black\", \"opacity\": 0.15}, \"encoding\": {\"x\": {\"axis\": {\"domain\": false, \"labels\": false, \"ticks\": false, \"title\": null}, \"field\": \"gap_start\", \"type\": \"temporal\"}, \"x2\": {\"field\": \"gap_end\"}}}], \"data\": {\"name\": \"data-22b514a72148b05dd7be146caaa527e7\"}}, {\"layer\": [{\"mark\": \"errorband\", \"encoding\": {\"color\": {\"field\": \"variable\", \"legend\": {\"title\": [\"Line: pred. mean\", \"area: +/- 2 std\"]}, \"type\": \"nominal\"}, \"x\": {\"field\": \"time\", \"type\": \"temporal\"}, \"y\": {\"field\": \"err_low\", \"scale\": {\"zero\": false}, \"title\": \"TA\", \"type\": \"quantitative\"}, \"y2\": {\"field\": \"err_high\"}}, \"name\": \"view_18\"}, {\"mark\": \"line\", \"encoding\": {\"color\": {\"field\": \"variable\", \"type\": \"nominal\"}, \"x\": {\"field\": \"time\", \"type\": \"temporal\"}, \"y\": {\"field\": \"mean\", \"scale\": {\"zero\": false}, \"title\": \"TA\", \"type\": \"quantitative\"}}}], \"data\": {\"name\": \"data-d335c78fac019b727d2410bb08c13126\"}}], \"height\": 150, \"title\": \"TA\", \"width\": 200}]}, {\"hconcat\": [{\"layer\": [{\"data\": {\"name\": \"data-c3a20efa967f19e4ea0f2b8c31f18b86\"}, \"mark\": {\"type\": \"point\", \"color\": \"black\", \"fillOpacity\": 1, \"strokeWidth\": 1}, \"encoding\": {\"fill\": {\"field\": \"is_present\", \"legend\": {\"title\": [\"Observed data\"]}, \"scale\": {\"range\": [\"black\", \"#ffffff00\"]}, \"type\": \"nominal\"}, \"shape\": {\"field\": \"is_present\", \"type\": \"nominal\"}, \"x\": {\"axis\": {\"domain\": true, \"labels\": true, \"ticks\": true, \"title\": \"time\"}, \"field\": \"time\", \"type\": \"temporal\"}, \"y\": {\"field\": \"value\", \"scale\": {\"zero\": false}, \"title\": \"SW_IN\", \"type\": \"quantitative\"}}}, {\"layer\": [{\"mark\": \"rule\", \"encoding\": {\"x\": {\"axis\": {\"domain\": false, \"labels\": false, \"ticks\": false, \"title\": null}, \"field\": \"gap_start\", \"type\": \"temporal\"}}}, {\"mark\": \"rule\", \"encoding\": {\"x\": {\"axis\": {\"domain\": false, \"labels\": false, \"ticks\": false, \"title\": null}, \"field\": \"gap_end\", \"type\": \"temporal\"}}}, {\"mark\": {\"type\": \"rect\", \"color\": \"black\", \"opacity\": 0.15}, \"encoding\": {\"x\": {\"axis\": {\"domain\": false, \"labels\": false, \"ticks\": false, \"title\": null}, \"field\": \"gap_start\", \"type\": \"temporal\"}, \"x2\": {\"field\": \"gap_end\"}}}], \"data\": {\"name\": \"data-22b514a72148b05dd7be146caaa527e7\"}}, {\"layer\": [{\"mark\": \"errorband\", \"encoding\": {\"color\": {\"field\": \"variable\", \"legend\": {\"title\": [\"Line: pred. mean\", \"area: +/- 2 std\"]}, \"type\": \"nominal\"}, \"x\": {\"field\": \"time\", \"type\": \"temporal\"}, \"y\": {\"field\": \"err_low\", \"scale\": {\"zero\": false}, \"title\": \"SW_IN\", \"type\": \"quantitative\"}, \"y2\": {\"field\": \"err_high\"}}, \"name\": \"view_19\"}, {\"mark\": \"line\", \"encoding\": {\"color\": {\"field\": \"variable\", \"type\": \"nominal\"}, \"x\": {\"field\": \"time\", \"type\": \"temporal\"}, \"y\": {\"field\": \"mean\", \"scale\": {\"zero\": false}, \"title\": \"SW_IN\", \"type\": \"quantitative\"}}}], \"data\": {\"name\": \"data-c3a20efa967f19e4ea0f2b8c31f18b86\"}}], \"height\": 150, \"title\": \"SW_IN\", \"width\": 200}]}, {\"hconcat\": [{\"layer\": [{\"mark\": {\"type\": \"point\", \"color\": \"black\", \"fillOpacity\": 1, \"strokeWidth\": 1}, \"encoding\": {\"fill\": {\"field\": \"is_present\", \"legend\": {\"title\": [\"Observed data\"]}, \"scale\": {\"range\": [\"black\", \"#ffffff00\"]}, \"type\": \"nominal\"}, \"shape\": {\"field\": \"is_present\", \"type\": \"nominal\"}, \"x\": {\"axis\": {\"domain\": true, \"labels\": true, \"ticks\": true, \"title\": \"time\"}, \"field\": \"time\", \"type\": \"temporal\"}, \"y\": {\"field\": \"value\", \"scale\": {\"zero\": false}, \"title\": \"VPD\", \"type\": \"quantitative\"}}}, {\"layer\": [{\"mark\": \"errorband\", \"encoding\": {\"color\": {\"field\": \"variable\", \"legend\": {\"title\": [\"Line: pred. mean\", \"area: +/- 2 std\"]}, \"type\": \"nominal\"}, \"x\": {\"field\": \"time\", \"type\": \"temporal\"}, \"y\": {\"field\": \"err_low\", \"scale\": {\"zero\": false}, \"title\": \"VPD\", \"type\": \"quantitative\"}, \"y2\": {\"field\": \"err_high\"}}, \"name\": \"view_20\"}, {\"mark\": \"line\", \"encoding\": {\"color\": {\"field\": \"variable\", \"type\": \"nominal\"}, \"x\": {\"field\": \"time\", \"type\": \"temporal\"}, \"y\": {\"field\": \"mean\", \"scale\": {\"zero\": false}, \"title\": \"VPD\", \"type\": \"quantitative\"}}}]}], \"height\": 150, \"title\": \"VPD\", \"width\": 200}], \"data\": {\"name\": \"data-5132835924d94322dbd76ebef3131cf4\"}}], \"title\": \"loss: 30.455301\"}, {\"vconcat\": [{\"hconcat\": [{\"layer\": [{\"data\": {\"name\": \"data-6e48b24afb8846f78c14e2d6a1b13dee\"}, \"mark\": {\"type\": \"point\", \"color\": \"black\", \"fillOpacity\": 1, \"strokeWidth\": 1}, \"encoding\": {\"fill\": {\"field\": \"is_present\", \"legend\": {\"title\": [\"Observed data\"]}, \"scale\": {\"range\": [\"black\", \"#ffffff00\"]}, \"type\": \"nominal\"}, \"shape\": {\"field\": \"is_present\", \"type\": \"nominal\"}, \"x\": {\"axis\": {\"domain\": true, \"labels\": true, \"ticks\": true, \"title\": \"time\"}, \"field\": \"time\", \"type\": \"temporal\"}, \"y\": {\"field\": \"value\", \"scale\": {\"zero\": false}, \"title\": \"TA\", \"type\": \"quantitative\"}}}, {\"layer\": [{\"mark\": \"rule\", \"encoding\": {\"x\": {\"axis\": {\"domain\": false, \"labels\": false, \"ticks\": false, \"title\": null}, \"field\": \"gap_start\", \"type\": \"temporal\"}}}, {\"mark\": \"rule\", \"encoding\": {\"x\": {\"axis\": {\"domain\": false, \"labels\": false, \"ticks\": false, \"title\": null}, \"field\": \"gap_end\", \"type\": \"temporal\"}}}, {\"mark\": {\"type\": \"rect\", \"color\": \"black\", \"opacity\": 0.15}, \"encoding\": {\"x\": {\"axis\": {\"domain\": false, \"labels\": false, \"ticks\": false, \"title\": null}, \"field\": \"gap_start\", \"type\": \"temporal\"}, \"x2\": {\"field\": \"gap_end\"}}}], \"data\": {\"name\": \"data-b98889c6f04a6c5d586f16080dc0b040\"}}, {\"layer\": [{\"mark\": \"errorband\", \"encoding\": {\"color\": {\"field\": \"variable\", \"legend\": {\"title\": [\"Line: pred. mean\", \"area: +/- 2 std\"]}, \"type\": \"nominal\"}, \"x\": {\"field\": \"time\", \"type\": \"temporal\"}, \"y\": {\"field\": \"err_low\", \"scale\": {\"zero\": false}, \"title\": \"TA\", \"type\": \"quantitative\"}, \"y2\": {\"field\": \"err_high\"}}, \"name\": \"view_21\"}, {\"mark\": \"line\", \"encoding\": {\"color\": {\"field\": \"variable\", \"type\": \"nominal\"}, \"x\": {\"field\": \"time\", \"type\": \"temporal\"}, \"y\": {\"field\": \"mean\", \"scale\": {\"zero\": false}, \"title\": \"TA\", \"type\": \"quantitative\"}}}], \"data\": {\"name\": \"data-6e48b24afb8846f78c14e2d6a1b13dee\"}}], \"height\": 150, \"title\": \"TA\", \"width\": 200}]}, {\"hconcat\": [{\"layer\": [{\"data\": {\"name\": \"data-704b5fadaa924e63622d0dd523a0bd65\"}, \"mark\": {\"type\": \"point\", \"color\": \"black\", \"fillOpacity\": 1, \"strokeWidth\": 1}, \"encoding\": {\"fill\": {\"field\": \"is_present\", \"legend\": {\"title\": [\"Observed data\"]}, \"scale\": {\"range\": [\"black\", \"#ffffff00\"]}, \"type\": \"nominal\"}, \"shape\": {\"field\": \"is_present\", \"type\": \"nominal\"}, \"x\": {\"axis\": {\"domain\": true, \"labels\": true, \"ticks\": true, \"title\": \"time\"}, \"field\": \"time\", \"type\": \"temporal\"}, \"y\": {\"field\": \"value\", \"scale\": {\"zero\": false}, \"title\": \"SW_IN\", \"type\": \"quantitative\"}}}, {\"layer\": [{\"mark\": \"rule\", \"encoding\": {\"x\": {\"axis\": {\"domain\": false, \"labels\": false, \"ticks\": false, \"title\": null}, \"field\": \"gap_start\", \"type\": \"temporal\"}}}, {\"mark\": \"rule\", \"encoding\": {\"x\": {\"axis\": {\"domain\": false, \"labels\": false, \"ticks\": false, \"title\": null}, \"field\": \"gap_end\", \"type\": \"temporal\"}}}, {\"mark\": {\"type\": \"rect\", \"color\": \"black\", \"opacity\": 0.15}, \"encoding\": {\"x\": {\"axis\": {\"domain\": false, \"labels\": false, \"ticks\": false, \"title\": null}, \"field\": \"gap_start\", \"type\": \"temporal\"}, \"x2\": {\"field\": \"gap_end\"}}}], \"data\": {\"name\": \"data-b98889c6f04a6c5d586f16080dc0b040\"}}, {\"layer\": [{\"mark\": \"errorband\", \"encoding\": {\"color\": {\"field\": \"variable\", \"legend\": {\"title\": [\"Line: pred. mean\", \"area: +/- 2 std\"]}, \"type\": \"nominal\"}, \"x\": {\"field\": \"time\", \"type\": \"temporal\"}, \"y\": {\"field\": \"err_low\", \"scale\": {\"zero\": false}, \"title\": \"SW_IN\", \"type\": \"quantitative\"}, \"y2\": {\"field\": \"err_high\"}}, \"name\": \"view_22\"}, {\"mark\": \"line\", \"encoding\": {\"color\": {\"field\": \"variable\", \"type\": \"nominal\"}, \"x\": {\"field\": \"time\", \"type\": \"temporal\"}, \"y\": {\"field\": \"mean\", \"scale\": {\"zero\": false}, \"title\": \"SW_IN\", \"type\": \"quantitative\"}}}], \"data\": {\"name\": \"data-704b5fadaa924e63622d0dd523a0bd65\"}}], \"height\": 150, \"title\": \"SW_IN\", \"width\": 200}]}, {\"hconcat\": [{\"layer\": [{\"mark\": {\"type\": \"point\", \"color\": \"black\", \"fillOpacity\": 1, \"strokeWidth\": 1}, \"encoding\": {\"fill\": {\"field\": \"is_present\", \"legend\": {\"title\": [\"Observed data\"]}, \"scale\": {\"range\": [\"black\", \"#ffffff00\"]}, \"type\": \"nominal\"}, \"shape\": {\"field\": \"is_present\", \"type\": \"nominal\"}, \"x\": {\"axis\": {\"domain\": true, \"labels\": true, \"ticks\": true, \"title\": \"time\"}, \"field\": \"time\", \"type\": \"temporal\"}, \"y\": {\"field\": \"value\", \"scale\": {\"zero\": false}, \"title\": \"VPD\", \"type\": \"quantitative\"}}}, {\"layer\": [{\"mark\": \"errorband\", \"encoding\": {\"color\": {\"field\": \"variable\", \"legend\": {\"title\": [\"Line: pred. mean\", \"area: +/- 2 std\"]}, \"type\": \"nominal\"}, \"x\": {\"field\": \"time\", \"type\": \"temporal\"}, \"y\": {\"field\": \"err_low\", \"scale\": {\"zero\": false}, \"title\": \"VPD\", \"type\": \"quantitative\"}, \"y2\": {\"field\": \"err_high\"}}, \"name\": \"view_23\"}, {\"mark\": \"line\", \"encoding\": {\"color\": {\"field\": \"variable\", \"type\": \"nominal\"}, \"x\": {\"field\": \"time\", \"type\": \"temporal\"}, \"y\": {\"field\": \"mean\", \"scale\": {\"zero\": false}, \"title\": \"VPD\", \"type\": \"quantitative\"}}}]}], \"height\": 150, \"title\": \"VPD\", \"width\": 200}], \"data\": {\"name\": \"data-458a86b80c494765da340c734c16b010\"}}], \"title\": \"loss: 30.158304\"}], \"params\": [{\"name\": \"param_23\", \"select\": {\"type\": \"interval\", \"encodings\": [\"x\"]}, \"bind\": \"scales\", \"views\": [\"view_15\", \"view_16\", \"view_17\"]}, {\"name\": \"param_27\", \"select\": {\"type\": \"interval\", \"encodings\": [\"x\"]}, \"bind\": \"scales\", \"views\": [\"view_18\", \"view_19\", \"view_20\"]}, {\"name\": \"param_31\", \"select\": {\"type\": \"interval\", \"encodings\": [\"x\"]}, \"bind\": \"scales\", \"views\": [\"view_21\", \"view_22\", \"view_23\"]}], \"$schema\": \"https://vega.github.io/schema/vega-lite/v5.2.0.json\", \"datasets\": {\"data-603e2af71a4b506b074ccf710b1280d8\": [{\"time\": \"2000-01-01T01:00:00\", \"variable\": \"TA\", \"value\": -0.6499999761581421, \"is_present\": true, \"mean\": 6.442259311676025, \"std\": 8.820901870727539, \"err_low\": -11.199544906616211, \"err_high\": 24.084062576293945}, {\"time\": \"2000-01-01T01:30:00\", \"variable\": \"TA\", \"value\": -0.5799999833106995, \"is_present\": true, \"mean\": 2.6917319297790527, \"std\": 8.747191429138184, \"err_low\": -14.802650451660156, \"err_high\": 20.186115264892578}, {\"time\": \"2000-01-01T02:00:00\", \"variable\": \"TA\", \"value\": -0.5099999904632568, \"is_present\": true, \"mean\": 1.3977761268615723, \"std\": 8.755509376525879, \"err_low\": -16.113243103027344, \"err_high\": 18.908794403076172}, {\"time\": \"2000-01-01T02:30:00\", \"variable\": \"TA\", \"value\": -0.49000000953674316, \"is_present\": true, \"mean\": 0.9271426200866699, \"std\": 8.754222869873047, \"err_low\": -16.581302642822266, \"err_high\": 18.435588836669922}, {\"time\": \"2000-01-01T03:00:00\", \"variable\": \"TA\", \"value\": -0.4000000059604645, \"is_present\": true, \"mean\": 0.6796875, \"std\": 8.75430965423584, \"err_low\": -16.82893180847168, \"err_high\": 18.18830680847168}, {\"time\": \"2000-01-01T03:30:00\", \"variable\": \"TA\", \"value\": -0.36000001430511475, \"is_present\": true, \"mean\": 0.5670795440673828, \"std\": 8.754987716674805, \"err_low\": -16.942895889282227, \"err_high\": 18.077054977416992}, {\"time\": \"2000-01-01T04:00:00\", \"variable\": \"TA\", \"value\": -0.3499999940395355, \"is_present\": true, \"mean\": 0.5659174919128418, \"std\": 8.758572578430176, \"err_low\": -16.95122718811035, \"err_high\": 18.08306312561035}, {\"time\": \"2000-01-01T04:30:00\", \"variable\": \"TA\", \"value\": -0.2800000011920929, \"is_present\": false, \"mean\": 0.6068906784057617, \"std\": 9.079349517822266, \"err_low\": -17.551807403564453, \"err_high\": 18.76559066772461}, {\"time\": \"2000-01-01T05:00:00\", \"variable\": \"TA\", \"value\": -0.27000001072883606, \"is_present\": false, \"mean\": 0.31060791015625, \"std\": 9.08376407623291, \"err_low\": -17.85692024230957, \"err_high\": 18.47813606262207}, {\"time\": \"2000-01-01T05:30:00\", \"variable\": \"TA\", \"value\": -0.23000000417232513, \"is_present\": true, \"mean\": -3.365142822265625, \"std\": 8.880525588989258, \"err_low\": -21.12619400024414, \"err_high\": 14.39590835571289}], \"data-c313a741a018f10e956a6d4e14e37ea6\": [{\"gap_start\": \"2000-01-01T04:30:00\", \"gap_end\": \"2000-01-01T05:00:00\"}], \"data-cb74a92b93b102b6127e3e3beec81f7f\": [{\"time\": \"2000-01-01T01:00:00\", \"variable\": \"SW_IN\", \"value\": 0.0, \"is_present\": true, \"mean\": 230.81195068359375, \"std\": 165.67410278320312, \"err_low\": -100.5362548828125, \"err_high\": 562.16015625}, {\"time\": \"2000-01-01T01:30:00\", \"variable\": \"SW_IN\", \"value\": 0.0, \"is_present\": true, \"mean\": 105.37934112548828, \"std\": 166.605224609375, \"err_low\": -227.83111572265625, \"err_high\": 438.58978271484375}, {\"time\": \"2000-01-01T02:00:00\", \"variable\": \"SW_IN\", \"value\": 0.0, \"is_present\": true, \"mean\": 48.464683532714844, \"std\": 166.07113647460938, \"err_low\": -283.6775817871094, \"err_high\": 380.6069641113281}, {\"time\": \"2000-01-01T02:30:00\", \"variable\": \"SW_IN\", \"value\": 0.0, \"is_present\": true, \"mean\": 15.365646362304688, \"std\": 165.87379455566406, \"err_low\": -316.3819580078125, \"err_high\": 347.11322021484375}, {\"time\": \"2000-01-01T03:00:00\", \"variable\": \"SW_IN\", \"value\": 0.0, \"is_present\": true, \"mean\": -4.300621032714844, \"std\": 165.80487060546875, \"err_low\": -335.9103698730469, \"err_high\": 327.3091125488281}, {\"time\": \"2000-01-01T03:30:00\", \"variable\": \"SW_IN\", \"value\": 0.0, \"is_present\": true, \"mean\": -16.70893096923828, \"std\": 165.79759216308594, \"err_low\": -348.3041076660156, \"err_high\": 314.8862609863281}, {\"time\": \"2000-01-01T04:00:00\", \"variable\": \"SW_IN\", \"value\": 0.0, \"is_present\": true, \"mean\": -25.06201934814453, \"std\": 165.8973388671875, \"err_low\": -356.856689453125, \"err_high\": 306.732666015625}, {\"time\": \"2000-01-01T04:30:00\", \"variable\": \"SW_IN\", \"value\": 0.0, \"is_present\": false, \"mean\": -32.08228302001953, \"std\": 167.83218383789062, \"err_low\": -367.74664306640625, \"err_high\": 303.58209228515625}, {\"time\": \"2000-01-01T05:00:00\", \"variable\": \"SW_IN\", \"value\": 0.0, \"is_present\": false, \"mean\": -41.186805725097656, \"std\": 167.8104248046875, \"err_low\": -376.8076477050781, \"err_high\": 294.4340515136719}, {\"time\": \"2000-01-01T05:30:00\", \"variable\": \"SW_IN\", \"value\": 0.0, \"is_present\": true, \"mean\": -74.94780731201172, \"std\": 166.44480895996094, \"err_low\": -407.8374328613281, \"err_high\": 257.9418029785156}], \"data-01a4f4c9ac98d8bd65f3ff3bd8c33f5c\": [{\"time\": \"2000-01-01T01:00:00\", \"variable\": \"VPD\", \"value\": 0.12200000137090683, \"is_present\": true, \"mean\": 0.7803878784179688, \"std\": 5.819883346557617, \"err_low\": -10.859378814697266, \"err_high\": 12.420154571533203}, {\"time\": \"2000-01-01T01:30:00\", \"variable\": \"VPD\", \"value\": 0.09000000357627869, \"is_present\": true, \"mean\": -0.5715770721435547, \"std\": 5.821844577789307, \"err_low\": -12.215266227722168, \"err_high\": 11.072112083435059}, {\"time\": \"2000-01-01T02:00:00\", \"variable\": \"VPD\", \"value\": 0.10999999940395355, \"is_present\": true, \"mean\": -0.2849392890930176, \"std\": 5.818987846374512, \"err_low\": -11.922914505004883, \"err_high\": 11.353036880493164}, {\"time\": \"2000-01-01T02:30:00\", \"variable\": \"VPD\", \"value\": 0.10199999809265137, \"is_present\": true, \"mean\": 0.029532670974731445, \"std\": 5.81901216506958, \"err_low\": -11.608491897583008, \"err_high\": 11.667556762695312}, {\"time\": \"2000-01-01T03:00:00\", \"variable\": \"VPD\", \"value\": 0.11100000143051147, \"is_present\": true, \"mean\": 0.2803535461425781, \"std\": 5.820282936096191, \"err_low\": -11.360212326049805, \"err_high\": 11.920919418334961}, {\"time\": \"2000-01-01T03:30:00\", \"variable\": \"VPD\", \"value\": 0.10899999737739563, \"is_present\": true, \"mean\": 0.48305201530456543, \"std\": 5.823911190032959, \"err_low\": -11.164770126342773, \"err_high\": 12.130874633789062}, {\"time\": \"2000-01-01T04:00:00\", \"variable\": \"VPD\", \"value\": 0.10700000077486038, \"is_present\": true, \"mean\": 0.7093997001647949, \"std\": 5.83063268661499, \"err_low\": -10.951866149902344, \"err_high\": 12.370664596557617}, {\"time\": \"2000-01-01T04:30:00\", \"variable\": \"VPD\", \"value\": 0.12200000137090683, \"is_present\": true, \"mean\": 0.9492611885070801, \"std\": 6.161297798156738, \"err_low\": -11.373334884643555, \"err_high\": 13.271856307983398}, {\"time\": \"2000-01-01T05:00:00\", \"variable\": \"VPD\", \"value\": 0.1379999965429306, \"is_present\": true, \"mean\": 0.869448184967041, \"std\": 6.164331912994385, \"err_low\": -11.45921516418457, \"err_high\": 13.198112487792969}, {\"time\": \"2000-01-01T05:30:00\", \"variable\": \"VPD\", \"value\": 0.1379999965429306, \"is_present\": true, \"mean\": -2.335928201675415, \"std\": 5.9772419929504395, \"err_low\": -14.290411949157715, \"err_high\": 9.618556022644043}], \"data-d335c78fac019b727d2410bb08c13126\": [{\"time\": \"2000-01-01T06:00:00\", \"variable\": \"TA\", \"value\": -0.23000000417232513, \"is_present\": true, \"mean\": 6.448703289031982, \"std\": 8.821752548217773, \"err_low\": -11.194801330566406, \"err_high\": 24.092208862304688}, {\"time\": \"2000-01-01T06:30:00\", \"variable\": \"TA\", \"value\": -0.2199999988079071, \"is_present\": true, \"mean\": 2.7904410362243652, \"std\": 8.751859664916992, \"err_low\": -14.713277816772461, \"err_high\": 20.294160842895508}, {\"time\": \"2000-01-01T07:00:00\", \"variable\": \"TA\", \"value\": -0.23999999463558197, \"is_present\": false, \"mean\": 2.4745383262634277, \"std\": 9.08386516571045, \"err_low\": -15.693191528320312, \"err_high\": 20.642269134521484}, {\"time\": \"2000-01-01T07:30:00\", \"variable\": \"TA\", \"value\": -0.23000000417232513, \"is_present\": false, \"mean\": 1.7097864151000977, \"std\": 9.082959175109863, \"err_low\": -16.456130981445312, \"err_high\": 19.87570571899414}, {\"time\": \"2000-01-01T08:00:00\", \"variable\": \"TA\", \"value\": -0.2199999988079071, \"is_present\": true, \"mean\": 0.7804050445556641, \"std\": 8.759557723999023, \"err_low\": -16.738710403442383, \"err_high\": 18.29952049255371}, {\"time\": \"2000-01-01T08:30:00\", \"variable\": \"TA\", \"value\": -0.1899999976158142, \"is_present\": true, \"mean\": 0.5636730194091797, \"std\": 8.753910064697266, \"err_low\": -16.94414710998535, \"err_high\": 18.07149314880371}, {\"time\": \"2000-01-01T09:00:00\", \"variable\": \"TA\", \"value\": -0.14000000059604645, \"is_present\": true, \"mean\": 0.5341129302978516, \"std\": 8.753918647766113, \"err_low\": -16.973724365234375, \"err_high\": 18.041950225830078}, {\"time\": \"2000-01-01T09:30:00\", \"variable\": \"TA\", \"value\": -0.029999999329447746, \"is_present\": true, \"mean\": 0.5781354904174805, \"std\": 8.754278182983398, \"err_low\": -16.930419921875, \"err_high\": 18.086692810058594}, {\"time\": \"2000-01-01T10:00:00\", \"variable\": \"TA\", \"value\": 0.03999999910593033, \"is_present\": true, \"mean\": 0.4960041046142578, \"std\": 8.755517959594727, \"err_low\": -17.015031814575195, \"err_high\": 18.00704002380371}, {\"time\": \"2000-01-01T10:30:00\", \"variable\": \"TA\", \"value\": 0.10000000149011612, \"is_present\": true, \"mean\": -2.7969226837158203, \"std\": 8.874106407165527, \"err_low\": -20.545135498046875, \"err_high\": 14.951290130615234}], \"data-22b514a72148b05dd7be146caaa527e7\": [{\"gap_start\": \"2000-01-01T07:00:00\", \"gap_end\": \"2000-01-01T07:30:00\"}], \"data-c3a20efa967f19e4ea0f2b8c31f18b86\": [{\"time\": \"2000-01-01T06:00:00\", \"variable\": \"SW_IN\", \"value\": 0.0, \"is_present\": true, \"mean\": 233.11691284179688, \"std\": 165.73687744140625, \"err_low\": -98.35684204101562, \"err_high\": 564.5906982421875}, {\"time\": \"2000-01-01T06:30:00\", \"variable\": \"SW_IN\", \"value\": 0.0, \"is_present\": true, \"mean\": 111.40626525878906, \"std\": 166.80477905273438, \"err_low\": -222.2032928466797, \"err_high\": 445.01580810546875}, {\"time\": \"2000-01-01T07:00:00\", \"variable\": \"SW_IN\", \"value\": 0.0, \"is_present\": false, \"mean\": 64.4367446899414, \"std\": 168.26988220214844, \"err_low\": -272.10302734375, \"err_high\": 400.97650146484375}, {\"time\": \"2000-01-01T07:30:00\", \"variable\": \"SW_IN\", \"value\": 0.0, \"is_present\": false, \"mean\": 26.605911254882812, \"std\": 167.9357452392578, \"err_low\": -309.26556396484375, \"err_high\": 362.4774169921875}, {\"time\": \"2000-01-01T08:00:00\", \"variable\": \"SW_IN\", \"value\": 0.0, \"is_present\": true, \"mean\": 0.67803955078125, \"std\": 165.90570068359375, \"err_low\": -331.13336181640625, \"err_high\": 332.48944091796875}, {\"time\": \"2000-01-01T08:30:00\", \"variable\": \"SW_IN\", \"value\": 0.44999998807907104, \"is_present\": true, \"mean\": -10.994758605957031, \"std\": 165.81500244140625, \"err_low\": -342.624755859375, \"err_high\": 320.63525390625}, {\"time\": \"2000-01-01T09:00:00\", \"variable\": \"SW_IN\", \"value\": 3.700000047683716, \"is_present\": true, \"mean\": -17.249534606933594, \"std\": 165.77975463867188, \"err_low\": -348.8090515136719, \"err_high\": 314.3099670410156}, {\"time\": \"2000-01-01T09:30:00\", \"variable\": \"SW_IN\", \"value\": 7.260000228881836, \"is_present\": true, \"mean\": -20.983253479003906, \"std\": 165.77371215820312, \"err_low\": -352.5306701660156, \"err_high\": 310.5641784667969}, {\"time\": \"2000-01-01T10:00:00\", \"variable\": \"SW_IN\", \"value\": 12.239999771118164, \"is_present\": true, \"mean\": -25.838661193847656, \"std\": 165.79774475097656, \"err_low\": -357.43414306640625, \"err_high\": 305.7568359375}, {\"time\": \"2000-01-01T10:30:00\", \"variable\": \"SW_IN\", \"value\": 16.510000228881836, \"is_present\": true, \"mean\": -55.15868377685547, \"std\": 166.32989501953125, \"err_low\": -387.8184814453125, \"err_high\": 277.5010986328125}], \"data-5132835924d94322dbd76ebef3131cf4\": [{\"time\": \"2000-01-01T06:00:00\", \"variable\": \"VPD\", \"value\": 0.12200000137090683, \"is_present\": true, \"mean\": 0.6889371871948242, \"std\": 5.829380989074707, \"err_low\": -10.96982479095459, \"err_high\": 12.347699165344238}, {\"time\": \"2000-01-01T06:30:00\", \"variable\": \"VPD\", \"value\": 0.09799999743700027, \"is_present\": true, \"mean\": -0.6050405502319336, \"std\": 5.834304332733154, \"err_low\": -12.273649215698242, \"err_high\": 11.063568115234375}, {\"time\": \"2000-01-01T07:00:00\", \"variable\": \"VPD\", \"value\": 0.06599999964237213, \"is_present\": true, \"mean\": 0.4721856117248535, \"std\": 6.157662391662598, \"err_low\": -11.8431396484375, \"err_high\": 12.78750991821289}, {\"time\": \"2000-01-01T07:30:00\", \"variable\": \"VPD\", \"value\": 0.04399999976158142, \"is_present\": true, \"mean\": 0.5450448989868164, \"std\": 6.15554141998291, \"err_low\": -11.766037940979004, \"err_high\": 12.856127738952637}, {\"time\": \"2000-01-01T08:00:00\", \"variable\": \"VPD\", \"value\": 0.026000000536441803, \"is_present\": true, \"mean\": 0.22617626190185547, \"std\": 5.822834491729736, \"err_low\": -11.419492721557617, \"err_high\": 11.871845245361328}, {\"time\": \"2000-01-01T08:30:00\", \"variable\": \"VPD\", \"value\": 0.01600000075995922, \"is_present\": true, \"mean\": 0.3100299835205078, \"std\": 5.818469047546387, \"err_low\": -11.326908111572266, \"err_high\": 11.946968078613281}, {\"time\": \"2000-01-01T09:00:00\", \"variable\": \"VPD\", \"value\": 0.009999999776482582, \"is_present\": true, \"mean\": 0.4452342987060547, \"std\": 5.818987846374512, \"err_low\": -11.192741394042969, \"err_high\": 12.083209991455078}, {\"time\": \"2000-01-01T09:30:00\", \"variable\": \"VPD\", \"value\": 0.006000000052154064, \"is_present\": true, \"mean\": 0.6088500022888184, \"std\": 5.820720195770264, \"err_low\": -11.032590866088867, \"err_high\": 12.250289916992188}, {\"time\": \"2000-01-01T10:00:00\", \"variable\": \"VPD\", \"value\": 0.006000000052154064, \"is_present\": true, \"mean\": 0.6667320728302002, \"std\": 5.82523775100708, \"err_low\": -10.983743667602539, \"err_high\": 12.317207336425781}, {\"time\": \"2000-01-01T10:30:00\", \"variable\": \"VPD\", \"value\": 0.006000000052154064, \"is_present\": true, \"mean\": -2.2061054706573486, \"std\": 5.971634387969971, \"err_low\": -14.149374008178711, \"err_high\": 9.737163543701172}], \"data-6e48b24afb8846f78c14e2d6a1b13dee\": [{\"time\": \"2000-01-01T16:00:00\", \"variable\": \"TA\", \"value\": 0.5699999928474426, \"is_present\": true, \"mean\": 6.433804988861084, \"std\": 8.820944786071777, \"err_low\": -11.208084106445312, \"err_high\": 24.075695037841797}, {\"time\": \"2000-01-01T16:30:00\", \"variable\": \"TA\", \"value\": 0.7300000190734863, \"is_present\": true, \"mean\": 3.159881591796875, \"std\": 8.747360229492188, \"err_low\": -14.3348388671875, \"err_high\": 20.65460205078125}, {\"time\": \"2000-01-01T17:00:00\", \"variable\": \"TA\", \"value\": 0.7699999809265137, \"is_present\": true, \"mean\": 1.9051637649536133, \"std\": 8.755927085876465, \"err_low\": -15.606690406799316, \"err_high\": 19.41701889038086}, {\"time\": \"2000-01-01T17:30:00\", \"variable\": \"TA\", \"value\": 0.8399999737739563, \"is_present\": true, \"mean\": 1.5045843124389648, \"std\": 8.755256652832031, \"err_low\": -16.00592803955078, \"err_high\": 19.015098571777344}, {\"time\": \"2000-01-01T18:00:00\", \"variable\": \"TA\", \"value\": 0.9900000095367432, \"is_present\": true, \"mean\": 1.3078761100769043, \"std\": 8.758460998535156, \"err_low\": -16.20904541015625, \"err_high\": 18.824798583984375}, {\"time\": \"2000-01-01T18:30:00\", \"variable\": \"TA\", \"value\": 1.350000023841858, \"is_present\": false, \"mean\": 1.315758228302002, \"std\": 9.078614234924316, \"err_low\": -16.84147071838379, \"err_high\": 19.472986221313477}, {\"time\": \"2000-01-01T19:00:00\", \"variable\": \"TA\", \"value\": 1.8600000143051147, \"is_present\": false, \"mean\": 1.2918777465820312, \"std\": 9.081343650817871, \"err_low\": -16.87080955505371, \"err_high\": 19.454565048217773}, {\"time\": \"2000-01-01T19:30:00\", \"variable\": \"TA\", \"value\": 2.009999990463257, \"is_present\": true, \"mean\": 1.481076717376709, \"std\": 8.759917259216309, \"err_low\": -16.03875732421875, \"err_high\": 19.000911712646484}, {\"time\": \"2000-01-01T20:00:00\", \"variable\": \"TA\", \"value\": 2.069999933242798, \"is_present\": true, \"mean\": 1.4100418090820312, \"std\": 8.7556734085083, \"err_low\": -16.10130500793457, \"err_high\": 18.921388626098633}, {\"time\": \"2000-01-01T20:30:00\", \"variable\": \"TA\", \"value\": 2.0, \"is_present\": true, \"mean\": -1.7780942916870117, \"std\": 8.874178886413574, \"err_low\": -19.526451110839844, \"err_high\": 15.970263481140137}], \"data-b98889c6f04a6c5d586f16080dc0b040\": [{\"gap_start\": \"2000-01-01T18:30:00\", \"gap_end\": \"2000-01-01T19:00:00\"}], \"data-704b5fadaa924e63622d0dd523a0bd65\": [{\"time\": \"2000-01-01T16:00:00\", \"variable\": \"SW_IN\", \"value\": 6.369999885559082, \"is_present\": true, \"mean\": 229.5233154296875, \"std\": 165.6764678955078, \"err_low\": -101.82962036132812, \"err_high\": 560.876220703125}, {\"time\": \"2000-01-01T16:30:00\", \"variable\": \"SW_IN\", \"value\": 1.7200000286102295, \"is_present\": true, \"mean\": 113.55998229980469, \"std\": 166.61012268066406, \"err_low\": -219.66026306152344, \"err_high\": 446.78021240234375}, {\"time\": \"2000-01-01T17:00:00\", \"variable\": \"SW_IN\", \"value\": 0.05999999865889549, \"is_present\": true, \"mean\": 61.65968704223633, \"std\": 166.08126831054688, \"err_low\": -270.5028381347656, \"err_high\": 393.8222351074219}, {\"time\": \"2000-01-01T17:30:00\", \"variable\": \"SW_IN\", \"value\": 0.0, \"is_present\": true, \"mean\": 32.37644958496094, \"std\": 165.90025329589844, \"err_low\": -299.424072265625, \"err_high\": 364.17694091796875}, {\"time\": \"2000-01-01T18:00:00\", \"variable\": \"SW_IN\", \"value\": 0.0, \"is_present\": true, \"mean\": 15.764404296875, \"std\": 165.93209838867188, \"err_low\": -316.09979248046875, \"err_high\": 347.62860107421875}, {\"time\": \"2000-01-01T18:30:00\", \"variable\": \"SW_IN\", \"value\": 0.0, \"is_present\": false, \"mean\": 6.786994934082031, \"std\": 167.83984375, \"err_low\": -328.8927001953125, \"err_high\": 342.4666748046875}, {\"time\": \"2000-01-01T19:00:00\", \"variable\": \"SW_IN\", \"value\": 0.0, \"is_present\": false, \"mean\": 0.44521331787109375, \"std\": 167.77618408203125, \"err_low\": -335.1071472167969, \"err_high\": 335.9975891113281}, {\"time\": \"2000-01-01T19:30:00\", \"variable\": \"SW_IN\", \"value\": 0.0, \"is_present\": true, \"mean\": -2.4738693237304688, \"std\": 165.87338256835938, \"err_low\": -334.22064208984375, \"err_high\": 329.27288818359375}, {\"time\": \"2000-01-01T20:00:00\", \"variable\": \"SW_IN\", \"value\": 0.0, \"is_present\": true, \"mean\": -8.361137390136719, \"std\": 165.8409423828125, \"err_low\": -340.04302978515625, \"err_high\": 323.32073974609375}, {\"time\": \"2000-01-01T20:30:00\", \"variable\": \"SW_IN\", \"value\": 0.0, \"is_present\": true, \"mean\": -37.992042541503906, \"std\": 166.3475341796875, \"err_low\": -370.6871032714844, \"err_high\": 294.7030334472656}], \"data-458a86b80c494765da340c734c16b010\": [{\"time\": \"2000-01-01T16:00:00\", \"variable\": \"VPD\", \"value\": 0.0, \"is_present\": true, \"mean\": 0.8236448764801025, \"std\": 5.8202948570251465, \"err_low\": -10.81694507598877, \"err_high\": 12.464234352111816}, {\"time\": \"2000-01-01T16:30:00\", \"variable\": \"VPD\", \"value\": 0.0, \"is_present\": true, \"mean\": -0.41054534912109375, \"std\": 5.822604656219482, \"err_low\": -12.055754661560059, \"err_high\": 11.234663963317871}, {\"time\": \"2000-01-01T17:00:00\", \"variable\": \"VPD\", \"value\": 0.0, \"is_present\": true, \"mean\": -0.20461463928222656, \"std\": 5.820908069610596, \"err_low\": -11.846430778503418, \"err_high\": 11.437201499938965}, {\"time\": \"2000-01-01T17:30:00\", \"variable\": \"VPD\", \"value\": 0.0, \"is_present\": true, \"mean\": 0.06774687767028809, \"std\": 5.823835372924805, \"err_low\": -11.579923629760742, \"err_high\": 11.715417861938477}, {\"time\": \"2000-01-01T18:00:00\", \"variable\": \"VPD\", \"value\": 0.0, \"is_present\": true, \"mean\": 0.2768685817718506, \"std\": 5.829668998718262, \"err_low\": -11.382469177246094, \"err_high\": 11.936206817626953}, {\"time\": \"2000-01-01T18:30:00\", \"variable\": \"VPD\", \"value\": 0.0, \"is_present\": true, \"mean\": 0.5047132968902588, \"std\": 6.15811824798584, \"err_low\": -11.8115234375, \"err_high\": 12.82094955444336}, {\"time\": \"2000-01-01T19:00:00\", \"variable\": \"VPD\", \"value\": 0.0020000000949949026, \"is_present\": true, \"mean\": 0.6298556327819824, \"std\": 6.156733989715576, \"err_low\": -11.683612823486328, \"err_high\": 12.943323135375977}, {\"time\": \"2000-01-01T19:30:00\", \"variable\": \"VPD\", \"value\": 0.008999999612569809, \"is_present\": true, \"mean\": 0.9084959030151367, \"std\": 5.825521469116211, \"err_low\": -10.742547035217285, \"err_high\": 12.559538841247559}, {\"time\": \"2000-01-01T20:00:00\", \"variable\": \"VPD\", \"value\": 0.014000000432133675, \"is_present\": true, \"mean\": 0.9673550128936768, \"std\": 5.825441360473633, \"err_low\": -10.683527946472168, \"err_high\": 12.618237495422363}, {\"time\": \"2000-01-01T20:30:00\", \"variable\": \"VPD\", \"value\": 0.014000000432133675, \"is_present\": true, \"mean\": -1.8036844730377197, \"std\": 5.971677780151367, \"err_low\": -13.747039794921875, \"err_high\": 10.139671325683594}]}}, {\"mode\": \"vega-lite\"});\n",
       "</script>"
      ],
      "text/plain": [
       "alt.HConcatChart(...)"
      ]
     },
     "execution_count": null,
     "metadata": {},
     "output_type": "execute_result"
    }
   ],
   "source": [
    "plot_results(preds, targs, losses)"
   ]
  },
  {
   "cell_type": "markdown",
   "id": "32cb6c99-004e-4235-82d5-1617e79b7097",
   "metadata": {},
   "source": [
    "#### Show Results"
   ]
  },
  {
   "cell_type": "code",
   "execution_count": null,
   "id": "5f6a1a9f-2a79-4b27-960b-4a8a446de9ac",
   "metadata": {},
   "outputs": [
    {
     "data": {
      "text/plain": [
       "[1237, 725, 1171]"
      ]
     },
     "execution_count": null,
     "metadata": {},
     "output_type": "execute_result"
    }
   ],
   "source": [
    "random.choices(learn.dls.items, k=3)"
   ]
  },
  {
   "cell_type": "code",
   "execution_count": null,
   "id": "5b86232f-ada2-443c-b00c-8f7379608085",
   "metadata": {},
   "outputs": [],
   "source": [
    "#|export\n",
    "def get_results(learn, n=3, items=None, dls=None):\n",
    "    dls = ifnone(dls, learn.dls)\n",
    "    items = ifnone(items, random.choices(dls.items, k=3))\n",
    "    pipe0, pipe1 = dls.fs[0,1,2], dls.fs[3,4]\n",
    "    return predict_items(items, learn, pipe0, pipe1)"
   ]
  },
  {
   "cell_type": "code",
   "execution_count": null,
   "id": "ec86db59-0ee4-46c1-af35-290ba45284c0",
   "metadata": {},
   "outputs": [],
   "source": [
    "#| export\n",
    "def show_results(learn, n=3, items=None, **kwargs):\n",
    "    return plot_results(*get_results(learn,n,items), **kwargs)\n",
    "    "
   ]
  },
  {
   "cell_type": "code",
   "execution_count": null,
   "id": "25bc78ec-1348-4af5-ad48-89575654ff01",
   "metadata": {},
   "outputs": [],
   "source": [
    "learn.model.use_smooth = False"
   ]
  },
  {
   "cell_type": "code",
   "execution_count": null,
   "id": "38bb0979-c84d-45ff-8b25-6e737816204b",
   "metadata": {},
   "outputs": [
    {
     "data": {
      "text/html": [
       "\n",
       "<div id=\"altair-viz-bf8adf26fcbe4dc1b23f72241097e5ff\"></div>\n",
       "<script type=\"text/javascript\">\n",
       "  var VEGA_DEBUG = (typeof VEGA_DEBUG == \"undefined\") ? {} : VEGA_DEBUG;\n",
       "  (function(spec, embedOpt){\n",
       "    let outputDiv = document.currentScript.previousElementSibling;\n",
       "    if (outputDiv.id !== \"altair-viz-bf8adf26fcbe4dc1b23f72241097e5ff\") {\n",
       "      outputDiv = document.getElementById(\"altair-viz-bf8adf26fcbe4dc1b23f72241097e5ff\");\n",
       "    }\n",
       "    const paths = {\n",
       "      \"vega\": \"https://cdn.jsdelivr.net/npm//vega@5?noext\",\n",
       "      \"vega-lib\": \"https://cdn.jsdelivr.net/npm//vega-lib?noext\",\n",
       "      \"vega-lite\": \"https://cdn.jsdelivr.net/npm//vega-lite@5.2.0?noext\",\n",
       "      \"vega-embed\": \"https://cdn.jsdelivr.net/npm//vega-embed@6?noext\",\n",
       "    };\n",
       "\n",
       "    function maybeLoadScript(lib, version) {\n",
       "      var key = `${lib.replace(\"-\", \"\")}_version`;\n",
       "      return (VEGA_DEBUG[key] == version) ?\n",
       "        Promise.resolve(paths[lib]) :\n",
       "        new Promise(function(resolve, reject) {\n",
       "          var s = document.createElement('script');\n",
       "          document.getElementsByTagName(\"head\")[0].appendChild(s);\n",
       "          s.async = true;\n",
       "          s.onload = () => {\n",
       "            VEGA_DEBUG[key] = version;\n",
       "            return resolve(paths[lib]);\n",
       "          };\n",
       "          s.onerror = () => reject(`Error loading script: ${paths[lib]}`);\n",
       "          s.src = paths[lib];\n",
       "        });\n",
       "    }\n",
       "\n",
       "    function showError(err) {\n",
       "      outputDiv.innerHTML = `<div class=\"error\" style=\"color:red;\">${err}</div>`;\n",
       "      throw err;\n",
       "    }\n",
       "\n",
       "    function displayChart(vegaEmbed) {\n",
       "      vegaEmbed(outputDiv, spec, embedOpt)\n",
       "        .catch(err => showError(`Javascript Error: ${err.message}<br>This usually means there's a typo in your chart specification. See the javascript console for the full traceback.`));\n",
       "    }\n",
       "\n",
       "    if(typeof define === \"function\" && define.amd) {\n",
       "      requirejs.config({paths});\n",
       "      require([\"vega-embed\"], displayChart, err => showError(`Error loading script: ${err.message}`));\n",
       "    } else {\n",
       "      maybeLoadScript(\"vega\", \"5\")\n",
       "        .then(() => maybeLoadScript(\"vega-lite\", \"5.2.0\"))\n",
       "        .then(() => maybeLoadScript(\"vega-embed\", \"6\"))\n",
       "        .catch(showError)\n",
       "        .then(() => displayChart(vegaEmbed));\n",
       "    }\n",
       "  })({\"config\": {\"view\": {\"continuousWidth\": 400, \"continuousHeight\": 300}}, \"hconcat\": [{\"vconcat\": [{\"hconcat\": [{\"layer\": [{\"data\": {\"name\": \"data-99f178a20fb601a61c3f6299bdda7384\"}, \"mark\": {\"type\": \"point\", \"color\": \"black\", \"fillOpacity\": 1, \"strokeWidth\": 1}, \"encoding\": {\"fill\": {\"field\": \"is_present\", \"legend\": {\"title\": [\"Observed data\"]}, \"scale\": {\"range\": [\"black\", \"#ffffff00\"]}, \"type\": \"nominal\"}, \"shape\": {\"field\": \"is_present\", \"type\": \"nominal\"}, \"x\": {\"axis\": {\"domain\": true, \"labels\": true, \"ticks\": true, \"title\": \"time\"}, \"field\": \"time\", \"type\": \"temporal\"}, \"y\": {\"field\": \"value\", \"scale\": {\"zero\": false}, \"title\": \"TA\", \"type\": \"quantitative\"}}}, {\"layer\": [{\"mark\": \"rule\", \"encoding\": {\"x\": {\"axis\": {\"domain\": false, \"labels\": false, \"ticks\": false, \"title\": null}, \"field\": \"gap_start\", \"type\": \"temporal\"}}}, {\"mark\": \"rule\", \"encoding\": {\"x\": {\"axis\": {\"domain\": false, \"labels\": false, \"ticks\": false, \"title\": null}, \"field\": \"gap_end\", \"type\": \"temporal\"}}}, {\"mark\": {\"type\": \"rect\", \"color\": \"black\", \"opacity\": 0.15}, \"encoding\": {\"x\": {\"axis\": {\"domain\": false, \"labels\": false, \"ticks\": false, \"title\": null}, \"field\": \"gap_start\", \"type\": \"temporal\"}, \"x2\": {\"field\": \"gap_end\"}}}], \"data\": {\"name\": \"data-bbb6f35e444b2129e56ea9fab89485cb\"}}, {\"layer\": [{\"mark\": \"errorband\", \"encoding\": {\"color\": {\"field\": \"variable\", \"legend\": {\"title\": [\"Line: pred. mean\", \"area: +/- 2 std\"]}, \"type\": \"nominal\"}, \"x\": {\"field\": \"time\", \"type\": \"temporal\"}, \"y\": {\"field\": \"err_low\", \"scale\": {\"zero\": false}, \"title\": \"TA\", \"type\": \"quantitative\"}, \"y2\": {\"field\": \"err_high\"}}, \"name\": \"view_24\"}, {\"mark\": \"line\", \"encoding\": {\"color\": {\"field\": \"variable\", \"type\": \"nominal\"}, \"x\": {\"field\": \"time\", \"type\": \"temporal\"}, \"y\": {\"field\": \"mean\", \"scale\": {\"zero\": false}, \"title\": \"TA\", \"type\": \"quantitative\"}}}], \"data\": {\"name\": \"data-99f178a20fb601a61c3f6299bdda7384\"}}], \"height\": 150, \"title\": \"TA\", \"width\": 200}]}, {\"hconcat\": [{\"layer\": [{\"data\": {\"name\": \"data-9c237e64033b7f0cd2b62271bf1450f1\"}, \"mark\": {\"type\": \"point\", \"color\": \"black\", \"fillOpacity\": 1, \"strokeWidth\": 1}, \"encoding\": {\"fill\": {\"field\": \"is_present\", \"legend\": {\"title\": [\"Observed data\"]}, \"scale\": {\"range\": [\"black\", \"#ffffff00\"]}, \"type\": \"nominal\"}, \"shape\": {\"field\": \"is_present\", \"type\": \"nominal\"}, \"x\": {\"axis\": {\"domain\": true, \"labels\": true, \"ticks\": true, \"title\": \"time\"}, \"field\": \"time\", \"type\": \"temporal\"}, \"y\": {\"field\": \"value\", \"scale\": {\"zero\": false}, \"title\": \"SW_IN\", \"type\": \"quantitative\"}}}, {\"layer\": [{\"mark\": \"rule\", \"encoding\": {\"x\": {\"axis\": {\"domain\": false, \"labels\": false, \"ticks\": false, \"title\": null}, \"field\": \"gap_start\", \"type\": \"temporal\"}}}, {\"mark\": \"rule\", \"encoding\": {\"x\": {\"axis\": {\"domain\": false, \"labels\": false, \"ticks\": false, \"title\": null}, \"field\": \"gap_end\", \"type\": \"temporal\"}}}, {\"mark\": {\"type\": \"rect\", \"color\": \"black\", \"opacity\": 0.15}, \"encoding\": {\"x\": {\"axis\": {\"domain\": false, \"labels\": false, \"ticks\": false, \"title\": null}, \"field\": \"gap_start\", \"type\": \"temporal\"}, \"x2\": {\"field\": \"gap_end\"}}}], \"data\": {\"name\": \"data-bbb6f35e444b2129e56ea9fab89485cb\"}}, {\"layer\": [{\"mark\": \"errorband\", \"encoding\": {\"color\": {\"field\": \"variable\", \"legend\": {\"title\": [\"Line: pred. mean\", \"area: +/- 2 std\"]}, \"type\": \"nominal\"}, \"x\": {\"field\": \"time\", \"type\": \"temporal\"}, \"y\": {\"field\": \"err_low\", \"scale\": {\"zero\": false}, \"title\": \"SW_IN\", \"type\": \"quantitative\"}, \"y2\": {\"field\": \"err_high\"}}, \"name\": \"view_25\"}, {\"mark\": \"line\", \"encoding\": {\"color\": {\"field\": \"variable\", \"type\": \"nominal\"}, \"x\": {\"field\": \"time\", \"type\": \"temporal\"}, \"y\": {\"field\": \"mean\", \"scale\": {\"zero\": false}, \"title\": \"SW_IN\", \"type\": \"quantitative\"}}}], \"data\": {\"name\": \"data-9c237e64033b7f0cd2b62271bf1450f1\"}}], \"height\": 150, \"title\": \"SW_IN\", \"width\": 200}]}, {\"hconcat\": [{\"layer\": [{\"mark\": {\"type\": \"point\", \"color\": \"black\", \"fillOpacity\": 1, \"strokeWidth\": 1}, \"encoding\": {\"fill\": {\"field\": \"is_present\", \"legend\": {\"title\": [\"Observed data\"]}, \"scale\": {\"range\": [\"black\", \"#ffffff00\"]}, \"type\": \"nominal\"}, \"shape\": {\"field\": \"is_present\", \"type\": \"nominal\"}, \"x\": {\"axis\": {\"domain\": true, \"labels\": true, \"ticks\": true, \"title\": \"time\"}, \"field\": \"time\", \"type\": \"temporal\"}, \"y\": {\"field\": \"value\", \"scale\": {\"zero\": false}, \"title\": \"VPD\", \"type\": \"quantitative\"}}}, {\"layer\": [{\"mark\": \"errorband\", \"encoding\": {\"color\": {\"field\": \"variable\", \"legend\": {\"title\": [\"Line: pred. mean\", \"area: +/- 2 std\"]}, \"type\": \"nominal\"}, \"x\": {\"field\": \"time\", \"type\": \"temporal\"}, \"y\": {\"field\": \"err_low\", \"scale\": {\"zero\": false}, \"title\": \"VPD\", \"type\": \"quantitative\"}, \"y2\": {\"field\": \"err_high\"}}, \"name\": \"view_26\"}, {\"mark\": \"line\", \"encoding\": {\"color\": {\"field\": \"variable\", \"type\": \"nominal\"}, \"x\": {\"field\": \"time\", \"type\": \"temporal\"}, \"y\": {\"field\": \"mean\", \"scale\": {\"zero\": false}, \"title\": \"VPD\", \"type\": \"quantitative\"}}}]}], \"height\": 150, \"title\": \"VPD\", \"width\": 200}], \"data\": {\"name\": \"data-219e5476670826a9ff072a4e42717599\"}}], \"title\": \"loss: 152.807693\"}, {\"vconcat\": [{\"hconcat\": [{\"layer\": [{\"data\": {\"name\": \"data-14a126b679df3ce7f35068b97afb1333\"}, \"mark\": {\"type\": \"point\", \"color\": \"black\", \"fillOpacity\": 1, \"strokeWidth\": 1}, \"encoding\": {\"fill\": {\"field\": \"is_present\", \"legend\": {\"title\": [\"Observed data\"]}, \"scale\": {\"range\": [\"black\", \"#ffffff00\"]}, \"type\": \"nominal\"}, \"shape\": {\"field\": \"is_present\", \"type\": \"nominal\"}, \"x\": {\"axis\": {\"domain\": true, \"labels\": true, \"ticks\": true, \"title\": \"time\"}, \"field\": \"time\", \"type\": \"temporal\"}, \"y\": {\"field\": \"value\", \"scale\": {\"zero\": false}, \"title\": \"TA\", \"type\": \"quantitative\"}}}, {\"layer\": [{\"mark\": \"rule\", \"encoding\": {\"x\": {\"axis\": {\"domain\": false, \"labels\": false, \"ticks\": false, \"title\": null}, \"field\": \"gap_start\", \"type\": \"temporal\"}}}, {\"mark\": \"rule\", \"encoding\": {\"x\": {\"axis\": {\"domain\": false, \"labels\": false, \"ticks\": false, \"title\": null}, \"field\": \"gap_end\", \"type\": \"temporal\"}}}, {\"mark\": {\"type\": \"rect\", \"color\": \"black\", \"opacity\": 0.15}, \"encoding\": {\"x\": {\"axis\": {\"domain\": false, \"labels\": false, \"ticks\": false, \"title\": null}, \"field\": \"gap_start\", \"type\": \"temporal\"}, \"x2\": {\"field\": \"gap_end\"}}}], \"data\": {\"name\": \"data-be92df993a17e283cfdd9369fea489a4\"}}, {\"layer\": [{\"mark\": \"errorband\", \"encoding\": {\"color\": {\"field\": \"variable\", \"legend\": {\"title\": [\"Line: pred. mean\", \"area: +/- 2 std\"]}, \"type\": \"nominal\"}, \"x\": {\"field\": \"time\", \"type\": \"temporal\"}, \"y\": {\"field\": \"err_low\", \"scale\": {\"zero\": false}, \"title\": \"TA\", \"type\": \"quantitative\"}, \"y2\": {\"field\": \"err_high\"}}, \"name\": \"view_27\"}, {\"mark\": \"line\", \"encoding\": {\"color\": {\"field\": \"variable\", \"type\": \"nominal\"}, \"x\": {\"field\": \"time\", \"type\": \"temporal\"}, \"y\": {\"field\": \"mean\", \"scale\": {\"zero\": false}, \"title\": \"TA\", \"type\": \"quantitative\"}}}], \"data\": {\"name\": \"data-14a126b679df3ce7f35068b97afb1333\"}}], \"height\": 150, \"title\": \"TA\", \"width\": 200}]}, {\"hconcat\": [{\"layer\": [{\"data\": {\"name\": \"data-90d1701c6bef20c34bc0dcb1f6319777\"}, \"mark\": {\"type\": \"point\", \"color\": \"black\", \"fillOpacity\": 1, \"strokeWidth\": 1}, \"encoding\": {\"fill\": {\"field\": \"is_present\", \"legend\": {\"title\": [\"Observed data\"]}, \"scale\": {\"range\": [\"black\", \"#ffffff00\"]}, \"type\": \"nominal\"}, \"shape\": {\"field\": \"is_present\", \"type\": \"nominal\"}, \"x\": {\"axis\": {\"domain\": true, \"labels\": true, \"ticks\": true, \"title\": \"time\"}, \"field\": \"time\", \"type\": \"temporal\"}, \"y\": {\"field\": \"value\", \"scale\": {\"zero\": false}, \"title\": \"SW_IN\", \"type\": \"quantitative\"}}}, {\"layer\": [{\"mark\": \"rule\", \"encoding\": {\"x\": {\"axis\": {\"domain\": false, \"labels\": false, \"ticks\": false, \"title\": null}, \"field\": \"gap_start\", \"type\": \"temporal\"}}}, {\"mark\": \"rule\", \"encoding\": {\"x\": {\"axis\": {\"domain\": false, \"labels\": false, \"ticks\": false, \"title\": null}, \"field\": \"gap_end\", \"type\": \"temporal\"}}}, {\"mark\": {\"type\": \"rect\", \"color\": \"black\", \"opacity\": 0.15}, \"encoding\": {\"x\": {\"axis\": {\"domain\": false, \"labels\": false, \"ticks\": false, \"title\": null}, \"field\": \"gap_start\", \"type\": \"temporal\"}, \"x2\": {\"field\": \"gap_end\"}}}], \"data\": {\"name\": \"data-be92df993a17e283cfdd9369fea489a4\"}}, {\"layer\": [{\"mark\": \"errorband\", \"encoding\": {\"color\": {\"field\": \"variable\", \"legend\": {\"title\": [\"Line: pred. mean\", \"area: +/- 2 std\"]}, \"type\": \"nominal\"}, \"x\": {\"field\": \"time\", \"type\": \"temporal\"}, \"y\": {\"field\": \"err_low\", \"scale\": {\"zero\": false}, \"title\": \"SW_IN\", \"type\": \"quantitative\"}, \"y2\": {\"field\": \"err_high\"}}, \"name\": \"view_28\"}, {\"mark\": \"line\", \"encoding\": {\"color\": {\"field\": \"variable\", \"type\": \"nominal\"}, \"x\": {\"field\": \"time\", \"type\": \"temporal\"}, \"y\": {\"field\": \"mean\", \"scale\": {\"zero\": false}, \"title\": \"SW_IN\", \"type\": \"quantitative\"}}}], \"data\": {\"name\": \"data-90d1701c6bef20c34bc0dcb1f6319777\"}}], \"height\": 150, \"title\": \"SW_IN\", \"width\": 200}]}, {\"hconcat\": [{\"layer\": [{\"mark\": {\"type\": \"point\", \"color\": \"black\", \"fillOpacity\": 1, \"strokeWidth\": 1}, \"encoding\": {\"fill\": {\"field\": \"is_present\", \"legend\": {\"title\": [\"Observed data\"]}, \"scale\": {\"range\": [\"black\", \"#ffffff00\"]}, \"type\": \"nominal\"}, \"shape\": {\"field\": \"is_present\", \"type\": \"nominal\"}, \"x\": {\"axis\": {\"domain\": true, \"labels\": true, \"ticks\": true, \"title\": \"time\"}, \"field\": \"time\", \"type\": \"temporal\"}, \"y\": {\"field\": \"value\", \"scale\": {\"zero\": false}, \"title\": \"VPD\", \"type\": \"quantitative\"}}}, {\"layer\": [{\"mark\": \"errorband\", \"encoding\": {\"color\": {\"field\": \"variable\", \"legend\": {\"title\": [\"Line: pred. mean\", \"area: +/- 2 std\"]}, \"type\": \"nominal\"}, \"x\": {\"field\": \"time\", \"type\": \"temporal\"}, \"y\": {\"field\": \"err_low\", \"scale\": {\"zero\": false}, \"title\": \"VPD\", \"type\": \"quantitative\"}, \"y2\": {\"field\": \"err_high\"}}, \"name\": \"view_29\"}, {\"mark\": \"line\", \"encoding\": {\"color\": {\"field\": \"variable\", \"type\": \"nominal\"}, \"x\": {\"field\": \"time\", \"type\": \"temporal\"}, \"y\": {\"field\": \"mean\", \"scale\": {\"zero\": false}, \"title\": \"VPD\", \"type\": \"quantitative\"}}}]}], \"height\": 150, \"title\": \"VPD\", \"width\": 200}], \"data\": {\"name\": \"data-425c383cab85c9e689fac856c0b9ea08\"}}], \"title\": \"loss: 58.886364\"}, {\"vconcat\": [{\"hconcat\": [{\"layer\": [{\"data\": {\"name\": \"data-c8eca350dbb6eb075ecd2ed5347f118d\"}, \"mark\": {\"type\": \"point\", \"color\": \"black\", \"fillOpacity\": 1, \"strokeWidth\": 1}, \"encoding\": {\"fill\": {\"field\": \"is_present\", \"legend\": {\"title\": [\"Observed data\"]}, \"scale\": {\"range\": [\"black\", \"#ffffff00\"]}, \"type\": \"nominal\"}, \"shape\": {\"field\": \"is_present\", \"type\": \"nominal\"}, \"x\": {\"axis\": {\"domain\": true, \"labels\": true, \"ticks\": true, \"title\": \"time\"}, \"field\": \"time\", \"type\": \"temporal\"}, \"y\": {\"field\": \"value\", \"scale\": {\"zero\": false}, \"title\": \"TA\", \"type\": \"quantitative\"}}}, {\"layer\": [{\"mark\": \"rule\", \"encoding\": {\"x\": {\"axis\": {\"domain\": false, \"labels\": false, \"ticks\": false, \"title\": null}, \"field\": \"gap_start\", \"type\": \"temporal\"}}}, {\"mark\": \"rule\", \"encoding\": {\"x\": {\"axis\": {\"domain\": false, \"labels\": false, \"ticks\": false, \"title\": null}, \"field\": \"gap_end\", \"type\": \"temporal\"}}}, {\"mark\": {\"type\": \"rect\", \"color\": \"black\", \"opacity\": 0.15}, \"encoding\": {\"x\": {\"axis\": {\"domain\": false, \"labels\": false, \"ticks\": false, \"title\": null}, \"field\": \"gap_start\", \"type\": \"temporal\"}, \"x2\": {\"field\": \"gap_end\"}}}], \"data\": {\"name\": \"data-47be98b1829cafcc7b0c967c42ab22d8\"}}, {\"layer\": [{\"mark\": \"errorband\", \"encoding\": {\"color\": {\"field\": \"variable\", \"legend\": {\"title\": [\"Line: pred. mean\", \"area: +/- 2 std\"]}, \"type\": \"nominal\"}, \"x\": {\"field\": \"time\", \"type\": \"temporal\"}, \"y\": {\"field\": \"err_low\", \"scale\": {\"zero\": false}, \"title\": \"TA\", \"type\": \"quantitative\"}, \"y2\": {\"field\": \"err_high\"}}, \"name\": \"view_30\"}, {\"mark\": \"line\", \"encoding\": {\"color\": {\"field\": \"variable\", \"type\": \"nominal\"}, \"x\": {\"field\": \"time\", \"type\": \"temporal\"}, \"y\": {\"field\": \"mean\", \"scale\": {\"zero\": false}, \"title\": \"TA\", \"type\": \"quantitative\"}}}], \"data\": {\"name\": \"data-c8eca350dbb6eb075ecd2ed5347f118d\"}}], \"height\": 150, \"title\": \"TA\", \"width\": 200}]}, {\"hconcat\": [{\"layer\": [{\"data\": {\"name\": \"data-037fd96f7b659e8d6f5e8051b655a012\"}, \"mark\": {\"type\": \"point\", \"color\": \"black\", \"fillOpacity\": 1, \"strokeWidth\": 1}, \"encoding\": {\"fill\": {\"field\": \"is_present\", \"legend\": {\"title\": [\"Observed data\"]}, \"scale\": {\"range\": [\"black\", \"#ffffff00\"]}, \"type\": \"nominal\"}, \"shape\": {\"field\": \"is_present\", \"type\": \"nominal\"}, \"x\": {\"axis\": {\"domain\": true, \"labels\": true, \"ticks\": true, \"title\": \"time\"}, \"field\": \"time\", \"type\": \"temporal\"}, \"y\": {\"field\": \"value\", \"scale\": {\"zero\": false}, \"title\": \"SW_IN\", \"type\": \"quantitative\"}}}, {\"layer\": [{\"mark\": \"rule\", \"encoding\": {\"x\": {\"axis\": {\"domain\": false, \"labels\": false, \"ticks\": false, \"title\": null}, \"field\": \"gap_start\", \"type\": \"temporal\"}}}, {\"mark\": \"rule\", \"encoding\": {\"x\": {\"axis\": {\"domain\": false, \"labels\": false, \"ticks\": false, \"title\": null}, \"field\": \"gap_end\", \"type\": \"temporal\"}}}, {\"mark\": {\"type\": \"rect\", \"color\": \"black\", \"opacity\": 0.15}, \"encoding\": {\"x\": {\"axis\": {\"domain\": false, \"labels\": false, \"ticks\": false, \"title\": null}, \"field\": \"gap_start\", \"type\": \"temporal\"}, \"x2\": {\"field\": \"gap_end\"}}}], \"data\": {\"name\": \"data-47be98b1829cafcc7b0c967c42ab22d8\"}}, {\"layer\": [{\"mark\": \"errorband\", \"encoding\": {\"color\": {\"field\": \"variable\", \"legend\": {\"title\": [\"Line: pred. mean\", \"area: +/- 2 std\"]}, \"type\": \"nominal\"}, \"x\": {\"field\": \"time\", \"type\": \"temporal\"}, \"y\": {\"field\": \"err_low\", \"scale\": {\"zero\": false}, \"title\": \"SW_IN\", \"type\": \"quantitative\"}, \"y2\": {\"field\": \"err_high\"}}, \"name\": \"view_31\"}, {\"mark\": \"line\", \"encoding\": {\"color\": {\"field\": \"variable\", \"type\": \"nominal\"}, \"x\": {\"field\": \"time\", \"type\": \"temporal\"}, \"y\": {\"field\": \"mean\", \"scale\": {\"zero\": false}, \"title\": \"SW_IN\", \"type\": \"quantitative\"}}}], \"data\": {\"name\": \"data-037fd96f7b659e8d6f5e8051b655a012\"}}], \"height\": 150, \"title\": \"SW_IN\", \"width\": 200}]}, {\"hconcat\": [{\"layer\": [{\"mark\": {\"type\": \"point\", \"color\": \"black\", \"fillOpacity\": 1, \"strokeWidth\": 1}, \"encoding\": {\"fill\": {\"field\": \"is_present\", \"legend\": {\"title\": [\"Observed data\"]}, \"scale\": {\"range\": [\"black\", \"#ffffff00\"]}, \"type\": \"nominal\"}, \"shape\": {\"field\": \"is_present\", \"type\": \"nominal\"}, \"x\": {\"axis\": {\"domain\": true, \"labels\": true, \"ticks\": true, \"title\": \"time\"}, \"field\": \"time\", \"type\": \"temporal\"}, \"y\": {\"field\": \"value\", \"scale\": {\"zero\": false}, \"title\": \"VPD\", \"type\": \"quantitative\"}}}, {\"layer\": [{\"mark\": \"errorband\", \"encoding\": {\"color\": {\"field\": \"variable\", \"legend\": {\"title\": [\"Line: pred. mean\", \"area: +/- 2 std\"]}, \"type\": \"nominal\"}, \"x\": {\"field\": \"time\", \"type\": \"temporal\"}, \"y\": {\"field\": \"err_low\", \"scale\": {\"zero\": false}, \"title\": \"VPD\", \"type\": \"quantitative\"}, \"y2\": {\"field\": \"err_high\"}}, \"name\": \"view_32\"}, {\"mark\": \"line\", \"encoding\": {\"color\": {\"field\": \"variable\", \"type\": \"nominal\"}, \"x\": {\"field\": \"time\", \"type\": \"temporal\"}, \"y\": {\"field\": \"mean\", \"scale\": {\"zero\": false}, \"title\": \"VPD\", \"type\": \"quantitative\"}}}]}], \"height\": 150, \"title\": \"VPD\", \"width\": 200}], \"data\": {\"name\": \"data-8d992c1a838b08bc49ac8c72cae696b1\"}}], \"title\": \"loss: 45.685043\"}], \"params\": [{\"name\": \"param_35\", \"select\": {\"type\": \"interval\", \"encodings\": [\"x\"]}, \"bind\": \"scales\", \"views\": [\"view_24\", \"view_25\", \"view_26\"]}, {\"name\": \"param_39\", \"select\": {\"type\": \"interval\", \"encodings\": [\"x\"]}, \"bind\": \"scales\", \"views\": [\"view_27\", \"view_28\", \"view_29\"]}, {\"name\": \"param_43\", \"select\": {\"type\": \"interval\", \"encodings\": [\"x\"]}, \"bind\": \"scales\", \"views\": [\"view_30\", \"view_31\", \"view_32\"]}], \"$schema\": \"https://vega.github.io/schema/vega-lite/v5.2.0.json\", \"datasets\": {\"data-99f178a20fb601a61c3f6299bdda7384\": [{\"time\": \"2000-01-06T06:00:00\", \"variable\": \"TA\", \"value\": 1.8799999952316284, \"is_present\": true, \"mean\": 11.385505676269531, \"std\": 13.242932319641113, \"err_low\": -15.100358963012695, \"err_high\": 37.871368408203125}, {\"time\": \"2000-01-06T06:30:00\", \"variable\": \"TA\", \"value\": 1.9500000476837158, \"is_present\": true, \"mean\": -21.457494735717773, \"std\": 14.6211576461792, \"err_low\": -50.69981002807617, \"err_high\": 7.784820556640625}, {\"time\": \"2000-01-06T07:00:00\", \"variable\": \"TA\", \"value\": 0.75, \"is_present\": true, \"mean\": -28.79631233215332, \"std\": 14.8098783493042, \"err_low\": -58.41606903076172, \"err_high\": 0.8234443664550781}, {\"time\": \"2000-01-06T07:30:00\", \"variable\": \"TA\", \"value\": 0.2800000011920929, \"is_present\": true, \"mean\": -31.209848403930664, \"std\": 14.801875114440918, \"err_low\": -60.8135986328125, \"err_high\": -1.6060981750488281}, {\"time\": \"2000-01-06T08:00:00\", \"variable\": \"TA\", \"value\": 0.09000000357627869, \"is_present\": false, \"mean\": -32.308349609375, \"std\": 14.80049991607666, \"err_low\": -61.90934753417969, \"err_high\": -2.7073497772216797}, {\"time\": \"2000-01-06T08:30:00\", \"variable\": \"TA\", \"value\": -0.09000000357627869, \"is_present\": false, \"mean\": -34.090545654296875, \"std\": 15.165556907653809, \"err_low\": -64.42166137695312, \"err_high\": -3.759431838989258}, {\"time\": \"2000-01-06T09:00:00\", \"variable\": \"TA\", \"value\": -0.09000000357627869, \"is_present\": true, \"mean\": -33.4703369140625, \"std\": 15.16963005065918, \"err_low\": -63.80959701538086, \"err_high\": -3.1310768127441406}, {\"time\": \"2000-01-06T09:30:00\", \"variable\": \"TA\", \"value\": -0.019999999552965164, \"is_present\": true, \"mean\": -29.638906478881836, \"std\": 14.801097869873047, \"err_low\": -59.24110412597656, \"err_high\": -0.03671073913574219}, {\"time\": \"2000-01-06T10:00:00\", \"variable\": \"TA\", \"value\": 0.0, \"is_present\": true, \"mean\": -26.85822868347168, \"std\": 14.799694061279297, \"err_low\": -56.457618713378906, \"err_high\": 2.741159439086914}, {\"time\": \"2000-01-06T10:30:00\", \"variable\": \"TA\", \"value\": 0.07000000029802322, \"is_present\": true, \"mean\": -22.944055557250977, \"std\": 14.799461364746094, \"err_low\": -52.54297637939453, \"err_high\": 6.654867172241211}], \"data-bbb6f35e444b2129e56ea9fab89485cb\": [{\"gap_start\": \"2000-01-06T08:00:00\", \"gap_end\": \"2000-01-06T08:30:00\"}], \"data-9c237e64033b7f0cd2b62271bf1450f1\": [{\"time\": \"2000-01-06T06:00:00\", \"variable\": \"SW_IN\", \"value\": 0.0, \"is_present\": true, \"mean\": 252.44717407226562, \"std\": 166.11734008789062, \"err_low\": -79.78750610351562, \"err_high\": 584.681884765625}, {\"time\": \"2000-01-06T06:30:00\", \"variable\": \"SW_IN\", \"value\": 0.0, \"is_present\": true, \"mean\": -95.84383392333984, \"std\": 182.37289428710938, \"err_low\": -460.5896301269531, \"err_high\": 268.9019470214844}, {\"time\": \"2000-01-06T07:00:00\", \"variable\": \"SW_IN\", \"value\": 0.0, \"is_present\": true, \"mean\": -203.84417724609375, \"std\": 183.4200897216797, \"err_low\": -570.684326171875, \"err_high\": 162.99600219726562}, {\"time\": \"2000-01-06T07:30:00\", \"variable\": \"SW_IN\", \"value\": 0.0, \"is_present\": true, \"mean\": -250.5404052734375, \"std\": 183.0828399658203, \"err_low\": -616.7060546875, \"err_high\": 115.62527465820312}, {\"time\": \"2000-01-06T08:00:00\", \"variable\": \"SW_IN\", \"value\": 0.0, \"is_present\": false, \"mean\": -274.2171325683594, \"std\": 182.9724578857422, \"err_low\": -640.1620483398438, \"err_high\": 91.727783203125}, {\"time\": \"2000-01-06T08:30:00\", \"variable\": \"SW_IN\", \"value\": 2.2899999618530273, \"is_present\": false, \"mean\": -295.940673828125, \"std\": 184.48809814453125, \"err_low\": -664.9168701171875, \"err_high\": 73.0355224609375}, {\"time\": \"2000-01-06T09:00:00\", \"variable\": \"SW_IN\", \"value\": 14.210000038146973, \"is_present\": true, \"mean\": -293.0765380859375, \"std\": 184.52603149414062, \"err_low\": -662.1286010742188, \"err_high\": 75.97552490234375}, {\"time\": \"2000-01-06T09:30:00\", \"variable\": \"SW_IN\", \"value\": 27.149999618530273, \"is_present\": true, \"mean\": -259.74761962890625, \"std\": 182.96812438964844, \"err_low\": -625.683837890625, \"err_high\": 106.18862915039062}, {\"time\": \"2000-01-06T10:00:00\", \"variable\": \"SW_IN\", \"value\": 45.70000076293945, \"is_present\": true, \"mean\": -231.48907470703125, \"std\": 182.93138122558594, \"err_low\": -597.351806640625, \"err_high\": 134.37368774414062}, {\"time\": \"2000-01-06T10:30:00\", \"variable\": \"SW_IN\", \"value\": 88.8499984741211, \"is_present\": true, \"mean\": -188.79083251953125, \"std\": 182.91526794433594, \"err_low\": -554.621337890625, \"err_high\": 177.03970336914062}], \"data-219e5476670826a9ff072a4e42717599\": [{\"time\": \"2000-01-06T06:00:00\", \"variable\": \"VPD\", \"value\": 0.33799999952316284, \"is_present\": true, \"mean\": 4.541317462921143, \"std\": 10.120918273925781, \"err_low\": -15.700519561767578, \"err_high\": 24.783153533935547}, {\"time\": \"2000-01-06T06:30:00\", \"variable\": \"VPD\", \"value\": 0.4059999883174896, \"is_present\": true, \"mean\": -21.029150009155273, \"std\": 11.536787033081055, \"err_low\": -44.10272216796875, \"err_high\": 2.044424057006836}, {\"time\": \"2000-01-06T07:00:00\", \"variable\": \"VPD\", \"value\": 0.1550000011920929, \"is_present\": true, \"mean\": -25.803651809692383, \"std\": 11.654052734375, \"err_low\": -49.11175537109375, \"err_high\": -2.495546340942383}, {\"time\": \"2000-01-06T07:30:00\", \"variable\": \"VPD\", \"value\": 0.0560000017285347, \"is_present\": true, \"mean\": -27.19029998779297, \"std\": 11.652143478393555, \"err_low\": -50.49458694458008, \"err_high\": -3.8860130310058594}, {\"time\": \"2000-01-06T08:00:00\", \"variable\": \"VPD\", \"value\": 0.03099999949336052, \"is_present\": true, \"mean\": -27.73505401611328, \"std\": 11.651988983154297, \"err_low\": -51.039031982421875, \"err_high\": -4.4310760498046875}, {\"time\": \"2000-01-06T08:30:00\", \"variable\": \"VPD\", \"value\": 0.019999999552965164, \"is_present\": true, \"mean\": -29.020931243896484, \"std\": 11.973209381103516, \"err_low\": -52.967350006103516, \"err_high\": -5.074512481689453}, {\"time\": \"2000-01-06T09:00:00\", \"variable\": \"VPD\", \"value\": 0.012000000104308128, \"is_present\": true, \"mean\": -28.393911361694336, \"std\": 11.977216720581055, \"err_low\": -52.34834289550781, \"err_high\": -4.439477920532227}, {\"time\": \"2000-01-06T09:30:00\", \"variable\": \"VPD\", \"value\": 0.012000000104308128, \"is_present\": true, \"mean\": -25.18516731262207, \"std\": 11.653158187866211, \"err_low\": -48.491485595703125, \"err_high\": -1.8788509368896484}, {\"time\": \"2000-01-06T10:00:00\", \"variable\": \"VPD\", \"value\": 0.006000000052154064, \"is_present\": true, \"mean\": -22.896011352539062, \"std\": 11.65181827545166, \"err_low\": -46.19964599609375, \"err_high\": 0.4076251983642578}, {\"time\": \"2000-01-06T10:30:00\", \"variable\": \"VPD\", \"value\": 0.006000000052154064, \"is_present\": true, \"mean\": -19.698455810546875, \"std\": 11.651771545410156, \"err_low\": -43.00199890136719, \"err_high\": 3.6050872802734375}], \"data-14a126b679df3ce7f35068b97afb1333\": [{\"time\": \"2000-11-02T07:00:00\", \"variable\": \"TA\", \"value\": 3.940000057220459, \"is_present\": true, \"mean\": 11.385505676269531, \"std\": 13.242932319641113, \"err_low\": -15.100358963012695, \"err_high\": 37.871368408203125}, {\"time\": \"2000-11-02T07:30:00\", \"variable\": \"TA\", \"value\": 4.400000095367432, \"is_present\": true, \"mean\": -12.610225677490234, \"std\": 14.6211576461792, \"err_low\": -41.8525390625, \"err_high\": 16.632089614868164}, {\"time\": \"2000-11-02T08:00:00\", \"variable\": \"TA\", \"value\": 4.650000095367432, \"is_present\": false, \"mean\": -16.835124969482422, \"std\": 14.8098783493042, \"err_low\": -46.45487976074219, \"err_high\": 12.784631729125977}, {\"time\": \"2000-11-02T08:30:00\", \"variable\": \"TA\", \"value\": 4.980000019073486, \"is_present\": false, \"mean\": -14.41061019897461, \"std\": 15.1721830368042, \"err_low\": -44.754974365234375, \"err_high\": 15.933755874633789}, {\"time\": \"2000-11-02T09:00:00\", \"variable\": \"TA\", \"value\": 5.489999771118164, \"is_present\": true, \"mean\": -10.918909072875977, \"std\": 15.172881126403809, \"err_low\": -41.264671325683594, \"err_high\": 19.42685317993164}, {\"time\": \"2000-11-02T09:30:00\", \"variable\": \"TA\", \"value\": 5.880000114440918, \"is_present\": true, \"mean\": -5.7177510261535645, \"std\": 14.80156135559082, \"err_low\": -35.32087326049805, \"err_high\": 23.885372161865234}, {\"time\": \"2000-11-02T10:00:00\", \"variable\": \"TA\", \"value\": 6.349999904632568, \"is_present\": true, \"mean\": -1.6005215644836426, \"std\": 14.79984188079834, \"err_low\": -31.200204849243164, \"err_high\": 27.999162673950195}, {\"time\": \"2000-11-02T10:30:00\", \"variable\": \"TA\", \"value\": 6.699999809265137, \"is_present\": true, \"mean\": 2.9249258041381836, \"std\": 14.799509048461914, \"err_low\": -26.674091339111328, \"err_high\": 32.52394485473633}, {\"time\": \"2000-11-02T11:00:00\", \"variable\": \"TA\", \"value\": 6.96999979019165, \"is_present\": true, \"mean\": 6.917937755584717, \"std\": 14.799365997314453, \"err_low\": -22.68079376220703, \"err_high\": 36.51667022705078}, {\"time\": \"2000-11-02T11:30:00\", \"variable\": \"TA\", \"value\": 7.510000228881836, \"is_present\": true, \"mean\": 11.14952278137207, \"std\": 14.79931354522705, \"err_low\": -18.44910430908203, \"err_high\": 40.74814987182617}], \"data-be92df993a17e283cfdd9369fea489a4\": [{\"gap_start\": \"2000-11-02T08:00:00\", \"gap_end\": \"2000-11-02T08:30:00\"}], \"data-90d1701c6bef20c34bc0dcb1f6319777\": [{\"time\": \"2000-11-02T07:00:00\", \"variable\": \"SW_IN\", \"value\": 0.0, \"is_present\": true, \"mean\": 252.44717407226562, \"std\": 166.11734008789062, \"err_low\": -79.78750610351562, \"err_high\": 584.681884765625}, {\"time\": \"2000-11-02T07:30:00\", \"variable\": \"SW_IN\", \"value\": 1.340000033378601, \"is_present\": true, \"mean\": -13.911460876464844, \"std\": 182.37289428710938, \"err_low\": -378.6572570800781, \"err_high\": 350.8343200683594}, {\"time\": \"2000-11-02T08:00:00\", \"variable\": \"SW_IN\", \"value\": 15.229999542236328, \"is_present\": false, \"mean\": -80.1148910522461, \"std\": 183.4200897216797, \"err_low\": -446.955078125, \"err_high\": 286.72528076171875}, {\"time\": \"2000-11-02T08:30:00\", \"variable\": \"SW_IN\", \"value\": 40.72999954223633, \"is_present\": false, \"mean\": -71.59244537353516, \"std\": 184.7133331298828, \"err_low\": -441.01910400390625, \"err_high\": 297.834228515625}, {\"time\": \"2000-11-02T09:00:00\", \"variable\": \"SW_IN\", \"value\": 75.83999633789062, \"is_present\": true, \"mean\": -45.09374237060547, \"std\": 184.6185302734375, \"err_low\": -414.330810546875, \"err_high\": 324.143310546875}, {\"time\": \"2000-11-02T09:30:00\", \"variable\": \"SW_IN\", \"value\": 117.45999908447266, \"is_present\": true, \"mean\": -1.1227035522460938, \"std\": 182.9918975830078, \"err_low\": -367.10650634765625, \"err_high\": 364.861083984375}, {\"time\": \"2000-11-02T10:00:00\", \"variable\": \"SW_IN\", \"value\": 143.77999877929688, \"is_present\": true, \"mean\": 38.80126953125, \"std\": 182.93954467773438, \"err_low\": -327.07781982421875, \"err_high\": 404.68035888671875}, {\"time\": \"2000-11-02T10:30:00\", \"variable\": \"SW_IN\", \"value\": 73.36000061035156, \"is_present\": true, \"mean\": 87.34550476074219, \"std\": 182.9181671142578, \"err_low\": -278.4908447265625, \"err_high\": 453.18182373046875}, {\"time\": \"2000-11-02T11:00:00\", \"variable\": \"SW_IN\", \"value\": 148.25, \"is_present\": true, \"mean\": 129.58409118652344, \"std\": 182.90992736816406, \"err_low\": -236.2357635498047, \"err_high\": 495.4039306640625}, {\"time\": \"2000-11-02T11:30:00\", \"variable\": \"SW_IN\", \"value\": 136.64999389648438, \"is_present\": true, \"mean\": 176.03445434570312, \"std\": 182.906982421875, \"err_low\": -189.77951049804688, \"err_high\": 541.848388671875}], \"data-425c383cab85c9e689fac856c0b9ea08\": [{\"time\": \"2000-11-02T07:00:00\", \"variable\": \"VPD\", \"value\": 0.7480000257492065, \"is_present\": true, \"mean\": 4.541317462921143, \"std\": 10.120918273925781, \"err_low\": -15.700519561767578, \"err_high\": 24.783153533935547}, {\"time\": \"2000-11-02T07:30:00\", \"variable\": \"VPD\", \"value\": 0.9150000214576721, \"is_present\": true, \"mean\": -14.182524681091309, \"std\": 11.536787033081055, \"err_low\": -37.256099700927734, \"err_high\": 8.8910493850708}, {\"time\": \"2000-11-02T08:00:00\", \"variable\": \"VPD\", \"value\": 1.0529999732971191, \"is_present\": true, \"mean\": -16.54975700378418, \"std\": 11.654052734375, \"err_low\": -39.85786437988281, \"err_high\": 6.75834846496582}, {\"time\": \"2000-11-02T08:30:00\", \"variable\": \"VPD\", \"value\": 1.0399999618530273, \"is_present\": true, \"mean\": -14.138773918151855, \"std\": 11.975732803344727, \"err_low\": -38.090240478515625, \"err_high\": 9.812691688537598}, {\"time\": \"2000-11-02T09:00:00\", \"variable\": \"VPD\", \"value\": 1.0110000371932983, \"is_present\": true, \"mean\": -11.03179931640625, \"std\": 11.978591918945312, \"err_low\": -34.988983154296875, \"err_high\": 12.925384521484375}, {\"time\": \"2000-11-02T09:30:00\", \"variable\": \"VPD\", \"value\": 1.0920000076293945, \"is_present\": true, \"mean\": -6.652827262878418, \"std\": 11.653270721435547, \"err_low\": -29.959369659423828, \"err_high\": 16.65371322631836}, {\"time\": \"2000-11-02T10:00:00\", \"variable\": \"VPD\", \"value\": 0.984000027179718, \"is_present\": true, \"mean\": -3.272939920425415, \"std\": 11.651850700378418, \"err_low\": -26.576641082763672, \"err_high\": 20.03076171875}, {\"time\": \"2000-11-02T10:30:00\", \"variable\": \"VPD\", \"value\": 0.9819999933242798, \"is_present\": true, \"mean\": 0.3845641613006592, \"std\": 11.651778221130371, \"err_low\": -22.91899299621582, \"err_high\": 23.688119888305664}, {\"time\": \"2000-11-02T11:00:00\", \"variable\": \"VPD\", \"value\": 0.8199999928474426, \"is_present\": true, \"mean\": 3.6459689140319824, \"std\": 11.651749610900879, \"err_low\": -19.657529830932617, \"err_high\": 26.9494686126709}, {\"time\": \"2000-11-02T11:30:00\", \"variable\": \"VPD\", \"value\": 1.2690000534057617, \"is_present\": true, \"mean\": 6.952942848205566, \"std\": 11.651739120483398, \"err_low\": -16.350536346435547, \"err_high\": 30.256420135498047}], \"data-c8eca350dbb6eb075ecd2ed5347f118d\": [{\"time\": \"2000-02-15T11:00:00\", \"variable\": \"TA\", \"value\": 4.710000038146973, \"is_present\": false, \"mean\": 11.385505676269531, \"std\": 13.242932319641113, \"err_low\": -15.100358963012695, \"err_high\": 37.871368408203125}, {\"time\": \"2000-02-15T11:30:00\", \"variable\": \"TA\", \"value\": 4.920000076293945, \"is_present\": false, \"mean\": -0.6030964851379395, \"std\": 14.894479751586914, \"err_low\": -30.39205551147461, \"err_high\": 29.185863494873047}, {\"time\": \"2000-02-15T12:00:00\", \"variable\": \"TA\", \"value\": 5.019999980926514, \"is_present\": true, \"mean\": -3.7818503379821777, \"std\": 15.189453125, \"err_low\": -34.1607551574707, \"err_high\": 26.597055435180664}, {\"time\": \"2000-02-15T12:30:00\", \"variable\": \"TA\", \"value\": 4.980000019073486, \"is_present\": true, \"mean\": -4.7099690437316895, \"std\": 14.804253578186035, \"err_low\": -34.318477630615234, \"err_high\": 24.89853858947754}, {\"time\": \"2000-02-15T13:00:00\", \"variable\": \"TA\", \"value\": 4.949999809265137, \"is_present\": true, \"mean\": -4.899445056915283, \"std\": 14.801067352294922, \"err_low\": -34.50157928466797, \"err_high\": 24.70269012451172}, {\"time\": \"2000-02-15T13:30:00\", \"variable\": \"TA\", \"value\": 5.010000228881836, \"is_present\": true, \"mean\": -4.143307209014893, \"std\": 14.799920082092285, \"err_low\": -33.74314880371094, \"err_high\": 25.456533432006836}, {\"time\": \"2000-02-15T14:00:00\", \"variable\": \"TA\", \"value\": 5.150000095367432, \"is_present\": true, \"mean\": -3.511030673980713, \"std\": 14.799513816833496, \"err_low\": -33.11005783081055, \"err_high\": 26.087997436523438}, {\"time\": \"2000-02-15T14:30:00\", \"variable\": \"TA\", \"value\": 5.230000019073486, \"is_present\": true, \"mean\": -4.078519344329834, \"std\": 14.799365997314453, \"err_low\": -33.677249908447266, \"err_high\": 25.520212173461914}, {\"time\": \"2000-02-15T15:00:00\", \"variable\": \"TA\", \"value\": 5.199999809265137, \"is_present\": true, \"mean\": -5.014735698699951, \"std\": 14.799308776855469, \"err_low\": -34.61335372924805, \"err_high\": 24.583881378173828}, {\"time\": \"2000-02-15T15:30:00\", \"variable\": \"TA\", \"value\": 5.079999923706055, \"is_present\": true, \"mean\": -6.551693439483643, \"std\": 14.799293518066406, \"err_low\": -36.1502799987793, \"err_high\": 23.046894073486328}], \"data-47be98b1829cafcc7b0c967c42ab22d8\": [{\"gap_start\": \"2000-02-15T11:00:00\", \"gap_end\": \"2000-02-15T11:30:00\"}], \"data-037fd96f7b659e8d6f5e8051b655a012\": [{\"time\": \"2000-02-15T11:00:00\", \"variable\": \"SW_IN\", \"value\": 29.25, \"is_present\": false, \"mean\": 252.44717407226562, \"std\": 166.11734008789062, \"err_low\": -79.78750610351562, \"err_high\": 584.681884765625}, {\"time\": \"2000-02-15T11:30:00\", \"variable\": \"SW_IN\", \"value\": 30.90999984741211, \"is_present\": false, \"mean\": 112.8598861694336, \"std\": 183.67498779296875, \"err_low\": -254.49008178710938, \"err_high\": 480.2098693847656}, {\"time\": \"2000-02-15T12:00:00\", \"variable\": \"SW_IN\", \"value\": 22.43000030517578, \"is_present\": true, \"mean\": 56.877403259277344, \"std\": 185.22763061523438, \"err_low\": -313.5778503417969, \"err_high\": 427.3326721191406}, {\"time\": \"2000-02-15T12:30:00\", \"variable\": \"SW_IN\", \"value\": 29.889999389648438, \"is_present\": true, \"mean\": 28.91956329345703, \"std\": 183.17123413085938, \"err_low\": -337.42291259765625, \"err_high\": 395.26202392578125}, {\"time\": \"2000-02-15T13:00:00\", \"variable\": \"SW_IN\", \"value\": 19.25, \"is_present\": true, \"mean\": 16.61359405517578, \"std\": 183.0061798095703, \"err_low\": -349.3987731933594, \"err_high\": 382.6259460449219}, {\"time\": \"2000-02-15T13:30:00\", \"variable\": \"SW_IN\", \"value\": 13.449999809265137, \"is_present\": true, \"mean\": 20.25586700439453, \"std\": 182.94161987304688, \"err_low\": -345.62738037109375, \"err_high\": 386.13909912109375}, {\"time\": \"2000-02-15T14:00:00\", \"variable\": \"SW_IN\", \"value\": 17.530000686645508, \"is_present\": true, \"mean\": 21.912635803222656, \"std\": 182.91835021972656, \"err_low\": -343.924072265625, \"err_high\": 387.74932861328125}, {\"time\": \"2000-02-15T14:30:00\", \"variable\": \"SW_IN\", \"value\": 35.18000030517578, \"is_present\": true, \"mean\": 13.748916625976562, \"std\": 182.9099884033203, \"err_low\": -352.071044921875, \"err_high\": 379.56890869140625}, {\"time\": \"2000-02-15T15:00:00\", \"variable\": \"SW_IN\", \"value\": 24.40999984741211, \"is_present\": true, \"mean\": 2.7321701049804688, \"std\": 182.90699768066406, \"err_low\": -363.0818176269531, \"err_high\": 368.5461730957031}, {\"time\": \"2000-02-15T15:30:00\", \"variable\": \"SW_IN\", \"value\": 22.43000030517578, \"is_present\": true, \"mean\": -13.924812316894531, \"std\": 182.90591430664062, \"err_low\": -379.73663330078125, \"err_high\": 351.88702392578125}], \"data-8d992c1a838b08bc49ac8c72cae696b1\": [{\"time\": \"2000-02-15T11:00:00\", \"variable\": \"VPD\", \"value\": 0.37599998712539673, \"is_present\": true, \"mean\": 4.541317462921143, \"std\": 10.120918273925781, \"err_low\": -15.700519561767578, \"err_high\": 24.783153533935547}, {\"time\": \"2000-02-15T11:30:00\", \"variable\": \"VPD\", \"value\": 0.4659999907016754, \"is_present\": true, \"mean\": -4.0692596435546875, \"std\": 11.781920433044434, \"err_low\": -27.633100509643555, \"err_high\": 19.49458122253418}, {\"time\": \"2000-02-15T12:00:00\", \"variable\": \"VPD\", \"value\": 0.4480000138282776, \"is_present\": true, \"mean\": -5.927399635314941, \"std\": 11.982722282409668, \"err_low\": -29.892845153808594, \"err_high\": 18.038043975830078}, {\"time\": \"2000-02-15T12:30:00\", \"variable\": \"VPD\", \"value\": 0.3140000104904175, \"is_present\": true, \"mean\": -6.1878814697265625, \"std\": 11.65369987487793, \"err_low\": -29.495281219482422, \"err_high\": 17.119518280029297}, {\"time\": \"2000-02-15T13:00:00\", \"variable\": \"VPD\", \"value\": 0.23499999940395355, \"is_present\": true, \"mean\": -6.0846452713012695, \"std\": 11.652115821838379, \"err_low\": -29.388877868652344, \"err_high\": 17.219585418701172}, {\"time\": \"2000-02-15T13:30:00\", \"variable\": \"VPD\", \"value\": 0.22100000083446503, \"is_present\": true, \"mean\": -5.318273544311523, \"std\": 11.651865005493164, \"err_low\": -28.62200355529785, \"err_high\": 17.985456466674805}, {\"time\": \"2000-02-15T14:00:00\", \"variable\": \"VPD\", \"value\": 0.24699999392032623, \"is_present\": true, \"mean\": -4.717323303222656, \"std\": 11.651780128479004, \"err_low\": -28.020883560180664, \"err_high\": 18.58623695373535}, {\"time\": \"2000-02-15T14:30:00\", \"variable\": \"VPD\", \"value\": 0.29499998688697815, \"is_present\": true, \"mean\": -5.162995338439941, \"std\": 11.651748657226562, \"err_low\": -28.46649169921875, \"err_high\": 18.1405029296875}, {\"time\": \"2000-02-15T15:00:00\", \"variable\": \"VPD\", \"value\": 0.32100000977516174, \"is_present\": true, \"mean\": -5.93147087097168, \"std\": 11.651734352111816, \"err_low\": -29.234939575195312, \"err_high\": 17.371997833251953}, {\"time\": \"2000-02-15T15:30:00\", \"variable\": \"VPD\", \"value\": 0.39500001072883606, \"is_present\": true, \"mean\": -7.1944684982299805, \"std\": 11.6517333984375, \"err_low\": -30.497936248779297, \"err_high\": 16.108997344970703}]}}, {\"mode\": \"vega-lite\"});\n",
       "</script>"
      ],
      "text/plain": [
       "alt.HConcatChart(...)"
      ]
     },
     "execution_count": null,
     "metadata": {},
     "output_type": "execute_result"
    }
   ],
   "source": [
    "show_results(learn)"
   ]
  },
  {
   "cell_type": "code",
   "execution_count": null,
   "id": "4b36ddaf-759c-4b42-be6e-4ad2843088c0",
   "metadata": {},
   "outputs": [
    {
     "data": {
      "text/html": [
       "\n",
       "<div id=\"altair-viz-e958f1655c1843ec929d728de372d9a4\"></div>\n",
       "<script type=\"text/javascript\">\n",
       "  var VEGA_DEBUG = (typeof VEGA_DEBUG == \"undefined\") ? {} : VEGA_DEBUG;\n",
       "  (function(spec, embedOpt){\n",
       "    let outputDiv = document.currentScript.previousElementSibling;\n",
       "    if (outputDiv.id !== \"altair-viz-e958f1655c1843ec929d728de372d9a4\") {\n",
       "      outputDiv = document.getElementById(\"altair-viz-e958f1655c1843ec929d728de372d9a4\");\n",
       "    }\n",
       "    const paths = {\n",
       "      \"vega\": \"https://cdn.jsdelivr.net/npm//vega@5?noext\",\n",
       "      \"vega-lib\": \"https://cdn.jsdelivr.net/npm//vega-lib?noext\",\n",
       "      \"vega-lite\": \"https://cdn.jsdelivr.net/npm//vega-lite@5.2.0?noext\",\n",
       "      \"vega-embed\": \"https://cdn.jsdelivr.net/npm//vega-embed@6?noext\",\n",
       "    };\n",
       "\n",
       "    function maybeLoadScript(lib, version) {\n",
       "      var key = `${lib.replace(\"-\", \"\")}_version`;\n",
       "      return (VEGA_DEBUG[key] == version) ?\n",
       "        Promise.resolve(paths[lib]) :\n",
       "        new Promise(function(resolve, reject) {\n",
       "          var s = document.createElement('script');\n",
       "          document.getElementsByTagName(\"head\")[0].appendChild(s);\n",
       "          s.async = true;\n",
       "          s.onload = () => {\n",
       "            VEGA_DEBUG[key] = version;\n",
       "            return resolve(paths[lib]);\n",
       "          };\n",
       "          s.onerror = () => reject(`Error loading script: ${paths[lib]}`);\n",
       "          s.src = paths[lib];\n",
       "        });\n",
       "    }\n",
       "\n",
       "    function showError(err) {\n",
       "      outputDiv.innerHTML = `<div class=\"error\" style=\"color:red;\">${err}</div>`;\n",
       "      throw err;\n",
       "    }\n",
       "\n",
       "    function displayChart(vegaEmbed) {\n",
       "      vegaEmbed(outputDiv, spec, embedOpt)\n",
       "        .catch(err => showError(`Javascript Error: ${err.message}<br>This usually means there's a typo in your chart specification. See the javascript console for the full traceback.`));\n",
       "    }\n",
       "\n",
       "    if(typeof define === \"function\" && define.amd) {\n",
       "      requirejs.config({paths});\n",
       "      require([\"vega-embed\"], displayChart, err => showError(`Error loading script: ${err.message}`));\n",
       "    } else {\n",
       "      maybeLoadScript(\"vega\", \"5\")\n",
       "        .then(() => maybeLoadScript(\"vega-lite\", \"5.2.0\"))\n",
       "        .then(() => maybeLoadScript(\"vega-embed\", \"6\"))\n",
       "        .catch(showError)\n",
       "        .then(() => displayChart(vegaEmbed));\n",
       "    }\n",
       "  })({\"config\": {\"view\": {\"continuousWidth\": 400, \"continuousHeight\": 300}}, \"hconcat\": [{\"vconcat\": [{\"hconcat\": [{\"layer\": [{\"data\": {\"name\": \"data-8dd9d6fa3c358fa6926cfe7674a65e86\"}, \"mark\": {\"type\": \"point\", \"color\": \"black\", \"fillOpacity\": 1, \"strokeWidth\": 1}, \"encoding\": {\"fill\": {\"field\": \"is_present\", \"legend\": {\"title\": [\"Observed data\"]}, \"scale\": {\"range\": [\"black\", \"#ffffff00\"]}, \"type\": \"nominal\"}, \"shape\": {\"field\": \"is_present\", \"type\": \"nominal\"}, \"x\": {\"axis\": {\"domain\": true, \"labels\": true, \"ticks\": true, \"title\": \"time\"}, \"field\": \"time\", \"type\": \"temporal\"}, \"y\": {\"field\": \"value\", \"scale\": {\"zero\": false}, \"title\": \"TA\", \"type\": \"quantitative\"}}}, {\"layer\": [{\"mark\": \"rule\", \"encoding\": {\"x\": {\"axis\": {\"domain\": false, \"labels\": false, \"ticks\": false, \"title\": null}, \"field\": \"gap_start\", \"type\": \"temporal\"}}}, {\"mark\": \"rule\", \"encoding\": {\"x\": {\"axis\": {\"domain\": false, \"labels\": false, \"ticks\": false, \"title\": null}, \"field\": \"gap_end\", \"type\": \"temporal\"}}}, {\"mark\": {\"type\": \"rect\", \"color\": \"black\", \"opacity\": 0.15}, \"encoding\": {\"x\": {\"axis\": {\"domain\": false, \"labels\": false, \"ticks\": false, \"title\": null}, \"field\": \"gap_start\", \"type\": \"temporal\"}, \"x2\": {\"field\": \"gap_end\"}}}], \"data\": {\"name\": \"data-22b514a72148b05dd7be146caaa527e7\"}}, {\"layer\": [{\"mark\": \"errorband\", \"encoding\": {\"color\": {\"field\": \"variable\", \"legend\": {\"title\": [\"Line: pred. mean\", \"area: +/- 2 std\"]}, \"type\": \"nominal\"}, \"x\": {\"field\": \"time\", \"type\": \"temporal\"}, \"y\": {\"field\": \"err_low\", \"scale\": {\"zero\": false}, \"title\": \"TA\", \"type\": \"quantitative\"}, \"y2\": {\"field\": \"err_high\"}}, \"name\": \"view_33\"}, {\"mark\": \"line\", \"encoding\": {\"color\": {\"field\": \"variable\", \"type\": \"nominal\"}, \"x\": {\"field\": \"time\", \"type\": \"temporal\"}, \"y\": {\"field\": \"mean\", \"scale\": {\"zero\": false}, \"title\": \"TA\", \"type\": \"quantitative\"}}}], \"data\": {\"name\": \"data-8dd9d6fa3c358fa6926cfe7674a65e86\"}}], \"height\": 150, \"title\": \"TA\", \"width\": 200}]}, {\"hconcat\": [{\"layer\": [{\"data\": {\"name\": \"data-54ab0b4e9494af52977f0e53aafa5ba4\"}, \"mark\": {\"type\": \"point\", \"color\": \"black\", \"fillOpacity\": 1, \"strokeWidth\": 1}, \"encoding\": {\"fill\": {\"field\": \"is_present\", \"legend\": {\"title\": [\"Observed data\"]}, \"scale\": {\"range\": [\"black\", \"#ffffff00\"]}, \"type\": \"nominal\"}, \"shape\": {\"field\": \"is_present\", \"type\": \"nominal\"}, \"x\": {\"axis\": {\"domain\": true, \"labels\": true, \"ticks\": true, \"title\": \"time\"}, \"field\": \"time\", \"type\": \"temporal\"}, \"y\": {\"field\": \"value\", \"scale\": {\"zero\": false}, \"title\": \"SW_IN\", \"type\": \"quantitative\"}}}, {\"layer\": [{\"mark\": \"rule\", \"encoding\": {\"x\": {\"axis\": {\"domain\": false, \"labels\": false, \"ticks\": false, \"title\": null}, \"field\": \"gap_start\", \"type\": \"temporal\"}}}, {\"mark\": \"rule\", \"encoding\": {\"x\": {\"axis\": {\"domain\": false, \"labels\": false, \"ticks\": false, \"title\": null}, \"field\": \"gap_end\", \"type\": \"temporal\"}}}, {\"mark\": {\"type\": \"rect\", \"color\": \"black\", \"opacity\": 0.15}, \"encoding\": {\"x\": {\"axis\": {\"domain\": false, \"labels\": false, \"ticks\": false, \"title\": null}, \"field\": \"gap_start\", \"type\": \"temporal\"}, \"x2\": {\"field\": \"gap_end\"}}}], \"data\": {\"name\": \"data-22b514a72148b05dd7be146caaa527e7\"}}, {\"layer\": [{\"mark\": \"errorband\", \"encoding\": {\"color\": {\"field\": \"variable\", \"legend\": {\"title\": [\"Line: pred. mean\", \"area: +/- 2 std\"]}, \"type\": \"nominal\"}, \"x\": {\"field\": \"time\", \"type\": \"temporal\"}, \"y\": {\"field\": \"err_low\", \"scale\": {\"zero\": false}, \"title\": \"SW_IN\", \"type\": \"quantitative\"}, \"y2\": {\"field\": \"err_high\"}}, \"name\": \"view_34\"}, {\"mark\": \"line\", \"encoding\": {\"color\": {\"field\": \"variable\", \"type\": \"nominal\"}, \"x\": {\"field\": \"time\", \"type\": \"temporal\"}, \"y\": {\"field\": \"mean\", \"scale\": {\"zero\": false}, \"title\": \"SW_IN\", \"type\": \"quantitative\"}}}], \"data\": {\"name\": \"data-54ab0b4e9494af52977f0e53aafa5ba4\"}}], \"height\": 150, \"title\": \"SW_IN\", \"width\": 200}]}, {\"hconcat\": [{\"layer\": [{\"mark\": {\"type\": \"point\", \"color\": \"black\", \"fillOpacity\": 1, \"strokeWidth\": 1}, \"encoding\": {\"fill\": {\"field\": \"is_present\", \"legend\": {\"title\": [\"Observed data\"]}, \"scale\": {\"range\": [\"black\", \"#ffffff00\"]}, \"type\": \"nominal\"}, \"shape\": {\"field\": \"is_present\", \"type\": \"nominal\"}, \"x\": {\"axis\": {\"domain\": true, \"labels\": true, \"ticks\": true, \"title\": \"time\"}, \"field\": \"time\", \"type\": \"temporal\"}, \"y\": {\"field\": \"value\", \"scale\": {\"zero\": false}, \"title\": \"VPD\", \"type\": \"quantitative\"}}}, {\"layer\": [{\"mark\": \"errorband\", \"encoding\": {\"color\": {\"field\": \"variable\", \"legend\": {\"title\": [\"Line: pred. mean\", \"area: +/- 2 std\"]}, \"type\": \"nominal\"}, \"x\": {\"field\": \"time\", \"type\": \"temporal\"}, \"y\": {\"field\": \"err_low\", \"scale\": {\"zero\": false}, \"title\": \"VPD\", \"type\": \"quantitative\"}, \"y2\": {\"field\": \"err_high\"}}, \"name\": \"view_35\"}, {\"mark\": \"line\", \"encoding\": {\"color\": {\"field\": \"variable\", \"type\": \"nominal\"}, \"x\": {\"field\": \"time\", \"type\": \"temporal\"}, \"y\": {\"field\": \"mean\", \"scale\": {\"zero\": false}, \"title\": \"VPD\", \"type\": \"quantitative\"}}}]}], \"height\": 150, \"title\": \"VPD\", \"width\": 200}], \"data\": {\"name\": \"data-93f7c3a65dce30ed43013ab68f5aaf9f\"}}], \"title\": \"loss: 175.787079\"}, {\"vconcat\": [{\"hconcat\": [{\"layer\": [{\"data\": {\"name\": \"data-b91b451c85d589e0550c8f607b35b646\"}, \"mark\": {\"type\": \"point\", \"color\": \"black\", \"fillOpacity\": 1, \"strokeWidth\": 1}, \"encoding\": {\"fill\": {\"field\": \"is_present\", \"legend\": {\"title\": [\"Observed data\"]}, \"scale\": {\"range\": [\"black\", \"#ffffff00\"]}, \"type\": \"nominal\"}, \"shape\": {\"field\": \"is_present\", \"type\": \"nominal\"}, \"x\": {\"axis\": {\"domain\": true, \"labels\": true, \"ticks\": true, \"title\": \"time\"}, \"field\": \"time\", \"type\": \"temporal\"}, \"y\": {\"field\": \"value\", \"scale\": {\"zero\": false}, \"title\": \"TA\", \"type\": \"quantitative\"}}}, {\"layer\": [{\"mark\": \"rule\", \"encoding\": {\"x\": {\"axis\": {\"domain\": false, \"labels\": false, \"ticks\": false, \"title\": null}, \"field\": \"gap_start\", \"type\": \"temporal\"}}}, {\"mark\": \"rule\", \"encoding\": {\"x\": {\"axis\": {\"domain\": false, \"labels\": false, \"ticks\": false, \"title\": null}, \"field\": \"gap_end\", \"type\": \"temporal\"}}}, {\"mark\": {\"type\": \"rect\", \"color\": \"black\", \"opacity\": 0.15}, \"encoding\": {\"x\": {\"axis\": {\"domain\": false, \"labels\": false, \"ticks\": false, \"title\": null}, \"field\": \"gap_start\", \"type\": \"temporal\"}, \"x2\": {\"field\": \"gap_end\"}}}], \"data\": {\"name\": \"data-99192d7dcdca74389398fcee4d19fccf\"}}, {\"layer\": [{\"mark\": \"errorband\", \"encoding\": {\"color\": {\"field\": \"variable\", \"legend\": {\"title\": [\"Line: pred. mean\", \"area: +/- 2 std\"]}, \"type\": \"nominal\"}, \"x\": {\"field\": \"time\", \"type\": \"temporal\"}, \"y\": {\"field\": \"err_low\", \"scale\": {\"zero\": false}, \"title\": \"TA\", \"type\": \"quantitative\"}, \"y2\": {\"field\": \"err_high\"}}, \"name\": \"view_36\"}, {\"mark\": \"line\", \"encoding\": {\"color\": {\"field\": \"variable\", \"type\": \"nominal\"}, \"x\": {\"field\": \"time\", \"type\": \"temporal\"}, \"y\": {\"field\": \"mean\", \"scale\": {\"zero\": false}, \"title\": \"TA\", \"type\": \"quantitative\"}}}], \"data\": {\"name\": \"data-b91b451c85d589e0550c8f607b35b646\"}}], \"height\": 150, \"title\": \"TA\", \"width\": 200}]}, {\"hconcat\": [{\"layer\": [{\"data\": {\"name\": \"data-fd344dadf53836301ae25ef49f6bb47e\"}, \"mark\": {\"type\": \"point\", \"color\": \"black\", \"fillOpacity\": 1, \"strokeWidth\": 1}, \"encoding\": {\"fill\": {\"field\": \"is_present\", \"legend\": {\"title\": [\"Observed data\"]}, \"scale\": {\"range\": [\"black\", \"#ffffff00\"]}, \"type\": \"nominal\"}, \"shape\": {\"field\": \"is_present\", \"type\": \"nominal\"}, \"x\": {\"axis\": {\"domain\": true, \"labels\": true, \"ticks\": true, \"title\": \"time\"}, \"field\": \"time\", \"type\": \"temporal\"}, \"y\": {\"field\": \"value\", \"scale\": {\"zero\": false}, \"title\": \"SW_IN\", \"type\": \"quantitative\"}}}, {\"layer\": [{\"mark\": \"rule\", \"encoding\": {\"x\": {\"axis\": {\"domain\": false, \"labels\": false, \"ticks\": false, \"title\": null}, \"field\": \"gap_start\", \"type\": \"temporal\"}}}, {\"mark\": \"rule\", \"encoding\": {\"x\": {\"axis\": {\"domain\": false, \"labels\": false, \"ticks\": false, \"title\": null}, \"field\": \"gap_end\", \"type\": \"temporal\"}}}, {\"mark\": {\"type\": \"rect\", \"color\": \"black\", \"opacity\": 0.15}, \"encoding\": {\"x\": {\"axis\": {\"domain\": false, \"labels\": false, \"ticks\": false, \"title\": null}, \"field\": \"gap_start\", \"type\": \"temporal\"}, \"x2\": {\"field\": \"gap_end\"}}}], \"data\": {\"name\": \"data-99192d7dcdca74389398fcee4d19fccf\"}}, {\"layer\": [{\"mark\": \"errorband\", \"encoding\": {\"color\": {\"field\": \"variable\", \"legend\": {\"title\": [\"Line: pred. mean\", \"area: +/- 2 std\"]}, \"type\": \"nominal\"}, \"x\": {\"field\": \"time\", \"type\": \"temporal\"}, \"y\": {\"field\": \"err_low\", \"scale\": {\"zero\": false}, \"title\": \"SW_IN\", \"type\": \"quantitative\"}, \"y2\": {\"field\": \"err_high\"}}, \"name\": \"view_37\"}, {\"mark\": \"line\", \"encoding\": {\"color\": {\"field\": \"variable\", \"type\": \"nominal\"}, \"x\": {\"field\": \"time\", \"type\": \"temporal\"}, \"y\": {\"field\": \"mean\", \"scale\": {\"zero\": false}, \"title\": \"SW_IN\", \"type\": \"quantitative\"}}}], \"data\": {\"name\": \"data-fd344dadf53836301ae25ef49f6bb47e\"}}], \"height\": 150, \"title\": \"SW_IN\", \"width\": 200}]}, {\"hconcat\": [{\"layer\": [{\"mark\": {\"type\": \"point\", \"color\": \"black\", \"fillOpacity\": 1, \"strokeWidth\": 1}, \"encoding\": {\"fill\": {\"field\": \"is_present\", \"legend\": {\"title\": [\"Observed data\"]}, \"scale\": {\"range\": [\"black\", \"#ffffff00\"]}, \"type\": \"nominal\"}, \"shape\": {\"field\": \"is_present\", \"type\": \"nominal\"}, \"x\": {\"axis\": {\"domain\": true, \"labels\": true, \"ticks\": true, \"title\": \"time\"}, \"field\": \"time\", \"type\": \"temporal\"}, \"y\": {\"field\": \"value\", \"scale\": {\"zero\": false}, \"title\": \"VPD\", \"type\": \"quantitative\"}}}, {\"layer\": [{\"mark\": \"errorband\", \"encoding\": {\"color\": {\"field\": \"variable\", \"legend\": {\"title\": [\"Line: pred. mean\", \"area: +/- 2 std\"]}, \"type\": \"nominal\"}, \"x\": {\"field\": \"time\", \"type\": \"temporal\"}, \"y\": {\"field\": \"err_low\", \"scale\": {\"zero\": false}, \"title\": \"VPD\", \"type\": \"quantitative\"}, \"y2\": {\"field\": \"err_high\"}}, \"name\": \"view_38\"}, {\"mark\": \"line\", \"encoding\": {\"color\": {\"field\": \"variable\", \"type\": \"nominal\"}, \"x\": {\"field\": \"time\", \"type\": \"temporal\"}, \"y\": {\"field\": \"mean\", \"scale\": {\"zero\": false}, \"title\": \"VPD\", \"type\": \"quantitative\"}}}]}], \"height\": 150, \"title\": \"VPD\", \"width\": 200}], \"data\": {\"name\": \"data-dbffef85f4102983ba0b831d2d545cf2\"}}], \"title\": \"loss: 150.406113\"}, {\"vconcat\": [{\"hconcat\": [{\"layer\": [{\"data\": {\"name\": \"data-d6712d8877ce3af5a0229aa7b0d93568\"}, \"mark\": {\"type\": \"point\", \"color\": \"black\", \"fillOpacity\": 1, \"strokeWidth\": 1}, \"encoding\": {\"fill\": {\"field\": \"is_present\", \"legend\": {\"title\": [\"Observed data\"]}, \"scale\": {\"range\": [\"black\", \"#ffffff00\"]}, \"type\": \"nominal\"}, \"shape\": {\"field\": \"is_present\", \"type\": \"nominal\"}, \"x\": {\"axis\": {\"domain\": true, \"labels\": true, \"ticks\": true, \"title\": \"time\"}, \"field\": \"time\", \"type\": \"temporal\"}, \"y\": {\"field\": \"value\", \"scale\": {\"zero\": false}, \"title\": \"TA\", \"type\": \"quantitative\"}}}, {\"layer\": [{\"mark\": \"rule\", \"encoding\": {\"x\": {\"axis\": {\"domain\": false, \"labels\": false, \"ticks\": false, \"title\": null}, \"field\": \"gap_start\", \"type\": \"temporal\"}}}, {\"mark\": \"rule\", \"encoding\": {\"x\": {\"axis\": {\"domain\": false, \"labels\": false, \"ticks\": false, \"title\": null}, \"field\": \"gap_end\", \"type\": \"temporal\"}}}, {\"mark\": {\"type\": \"rect\", \"color\": \"black\", \"opacity\": 0.15}, \"encoding\": {\"x\": {\"axis\": {\"domain\": false, \"labels\": false, \"ticks\": false, \"title\": null}, \"field\": \"gap_start\", \"type\": \"temporal\"}, \"x2\": {\"field\": \"gap_end\"}}}], \"data\": {\"name\": \"data-3aa9ea8306e80fb1c7f8a6afcc8656e6\"}}, {\"layer\": [{\"mark\": \"errorband\", \"encoding\": {\"color\": {\"field\": \"variable\", \"legend\": {\"title\": [\"Line: pred. mean\", \"area: +/- 2 std\"]}, \"type\": \"nominal\"}, \"x\": {\"field\": \"time\", \"type\": \"temporal\"}, \"y\": {\"field\": \"err_low\", \"scale\": {\"zero\": false}, \"title\": \"TA\", \"type\": \"quantitative\"}, \"y2\": {\"field\": \"err_high\"}}, \"name\": \"view_39\"}, {\"mark\": \"line\", \"encoding\": {\"color\": {\"field\": \"variable\", \"type\": \"nominal\"}, \"x\": {\"field\": \"time\", \"type\": \"temporal\"}, \"y\": {\"field\": \"mean\", \"scale\": {\"zero\": false}, \"title\": \"TA\", \"type\": \"quantitative\"}}}], \"data\": {\"name\": \"data-d6712d8877ce3af5a0229aa7b0d93568\"}}], \"height\": 150, \"title\": \"TA\", \"width\": 200}]}, {\"hconcat\": [{\"layer\": [{\"data\": {\"name\": \"data-93c7b7fde7d7a0f940c5ea465e1ca7b5\"}, \"mark\": {\"type\": \"point\", \"color\": \"black\", \"fillOpacity\": 1, \"strokeWidth\": 1}, \"encoding\": {\"fill\": {\"field\": \"is_present\", \"legend\": {\"title\": [\"Observed data\"]}, \"scale\": {\"range\": [\"black\", \"#ffffff00\"]}, \"type\": \"nominal\"}, \"shape\": {\"field\": \"is_present\", \"type\": \"nominal\"}, \"x\": {\"axis\": {\"domain\": true, \"labels\": true, \"ticks\": true, \"title\": \"time\"}, \"field\": \"time\", \"type\": \"temporal\"}, \"y\": {\"field\": \"value\", \"scale\": {\"zero\": false}, \"title\": \"SW_IN\", \"type\": \"quantitative\"}}}, {\"layer\": [{\"mark\": \"rule\", \"encoding\": {\"x\": {\"axis\": {\"domain\": false, \"labels\": false, \"ticks\": false, \"title\": null}, \"field\": \"gap_start\", \"type\": \"temporal\"}}}, {\"mark\": \"rule\", \"encoding\": {\"x\": {\"axis\": {\"domain\": false, \"labels\": false, \"ticks\": false, \"title\": null}, \"field\": \"gap_end\", \"type\": \"temporal\"}}}, {\"mark\": {\"type\": \"rect\", \"color\": \"black\", \"opacity\": 0.15}, \"encoding\": {\"x\": {\"axis\": {\"domain\": false, \"labels\": false, \"ticks\": false, \"title\": null}, \"field\": \"gap_start\", \"type\": \"temporal\"}, \"x2\": {\"field\": \"gap_end\"}}}], \"data\": {\"name\": \"data-3aa9ea8306e80fb1c7f8a6afcc8656e6\"}}, {\"layer\": [{\"mark\": \"errorband\", \"encoding\": {\"color\": {\"field\": \"variable\", \"legend\": {\"title\": [\"Line: pred. mean\", \"area: +/- 2 std\"]}, \"type\": \"nominal\"}, \"x\": {\"field\": \"time\", \"type\": \"temporal\"}, \"y\": {\"field\": \"err_low\", \"scale\": {\"zero\": false}, \"title\": \"SW_IN\", \"type\": \"quantitative\"}, \"y2\": {\"field\": \"err_high\"}}, \"name\": \"view_40\"}, {\"mark\": \"line\", \"encoding\": {\"color\": {\"field\": \"variable\", \"type\": \"nominal\"}, \"x\": {\"field\": \"time\", \"type\": \"temporal\"}, \"y\": {\"field\": \"mean\", \"scale\": {\"zero\": false}, \"title\": \"SW_IN\", \"type\": \"quantitative\"}}}], \"data\": {\"name\": \"data-93c7b7fde7d7a0f940c5ea465e1ca7b5\"}}], \"height\": 150, \"title\": \"SW_IN\", \"width\": 200}]}, {\"hconcat\": [{\"layer\": [{\"mark\": {\"type\": \"point\", \"color\": \"black\", \"fillOpacity\": 1, \"strokeWidth\": 1}, \"encoding\": {\"fill\": {\"field\": \"is_present\", \"legend\": {\"title\": [\"Observed data\"]}, \"scale\": {\"range\": [\"black\", \"#ffffff00\"]}, \"type\": \"nominal\"}, \"shape\": {\"field\": \"is_present\", \"type\": \"nominal\"}, \"x\": {\"axis\": {\"domain\": true, \"labels\": true, \"ticks\": true, \"title\": \"time\"}, \"field\": \"time\", \"type\": \"temporal\"}, \"y\": {\"field\": \"value\", \"scale\": {\"zero\": false}, \"title\": \"VPD\", \"type\": \"quantitative\"}}}, {\"layer\": [{\"mark\": \"errorband\", \"encoding\": {\"color\": {\"field\": \"variable\", \"legend\": {\"title\": [\"Line: pred. mean\", \"area: +/- 2 std\"]}, \"type\": \"nominal\"}, \"x\": {\"field\": \"time\", \"type\": \"temporal\"}, \"y\": {\"field\": \"err_low\", \"scale\": {\"zero\": false}, \"title\": \"VPD\", \"type\": \"quantitative\"}, \"y2\": {\"field\": \"err_high\"}}, \"name\": \"view_41\"}, {\"mark\": \"line\", \"encoding\": {\"color\": {\"field\": \"variable\", \"type\": \"nominal\"}, \"x\": {\"field\": \"time\", \"type\": \"temporal\"}, \"y\": {\"field\": \"mean\", \"scale\": {\"zero\": false}, \"title\": \"VPD\", \"type\": \"quantitative\"}}}]}], \"height\": 150, \"title\": \"VPD\", \"width\": 200}], \"data\": {\"name\": \"data-5d334686bf8c6faa67206014111aab48\"}}], \"title\": \"loss: 148.722153\"}], \"params\": [{\"name\": \"param_47\", \"select\": {\"type\": \"interval\", \"encodings\": [\"x\"]}, \"bind\": \"scales\", \"views\": [\"view_33\", \"view_34\", \"view_35\"]}, {\"name\": \"param_51\", \"select\": {\"type\": \"interval\", \"encodings\": [\"x\"]}, \"bind\": \"scales\", \"views\": [\"view_36\", \"view_37\", \"view_38\"]}, {\"name\": \"param_55\", \"select\": {\"type\": \"interval\", \"encodings\": [\"x\"]}, \"bind\": \"scales\", \"views\": [\"view_39\", \"view_40\", \"view_41\"]}], \"$schema\": \"https://vega.github.io/schema/vega-lite/v5.2.0.json\", \"datasets\": {\"data-8dd9d6fa3c358fa6926cfe7674a65e86\": [{\"time\": \"2000-01-01T06:00:00\", \"variable\": \"TA\", \"value\": -0.23000000417232513, \"is_present\": true, \"mean\": 11.385505676269531, \"std\": 13.242932319641113, \"err_low\": -15.100358963012695, \"err_high\": 37.871368408203125}, {\"time\": \"2000-01-01T06:30:00\", \"variable\": \"TA\", \"value\": -0.2199999988079071, \"is_present\": true, \"mean\": -23.66791534423828, \"std\": 14.6211576461792, \"err_low\": -52.91023254394531, \"err_high\": 5.574399948120117}, {\"time\": \"2000-01-01T07:00:00\", \"variable\": \"TA\", \"value\": -0.23999999463558197, \"is_present\": false, \"mean\": -31.279081344604492, \"std\": 14.8098783493042, \"err_low\": -60.89883804321289, \"err_high\": -1.6593246459960938}, {\"time\": \"2000-01-01T07:30:00\", \"variable\": \"TA\", \"value\": -0.23000000417232513, \"is_present\": false, \"mean\": -33.54332733154297, \"std\": 15.1721830368042, \"err_low\": -63.8876953125, \"err_high\": -3.1989612579345703}, {\"time\": \"2000-01-01T08:00:00\", \"variable\": \"TA\", \"value\": -0.2199999988079071, \"is_present\": true, \"mean\": -34.808441162109375, \"std\": 15.172881126403809, \"err_low\": -65.15420532226562, \"err_high\": -4.462678909301758}, {\"time\": \"2000-01-01T08:30:00\", \"variable\": \"TA\", \"value\": -0.1899999976158142, \"is_present\": true, \"mean\": -34.00999450683594, \"std\": 14.80156135559082, \"err_low\": -63.61311721801758, \"err_high\": -4.406871795654297}, {\"time\": \"2000-01-01T09:00:00\", \"variable\": \"TA\", \"value\": -0.14000000059604645, \"is_present\": true, \"mean\": -34.037322998046875, \"std\": 14.79984188079834, \"err_low\": -63.63700866699219, \"err_high\": -4.437639236450195}, {\"time\": \"2000-01-01T09:30:00\", \"variable\": \"TA\", \"value\": -0.029999999329447746, \"is_present\": true, \"mean\": -33.67094421386719, \"std\": 14.799509048461914, \"err_low\": -63.269962310791016, \"err_high\": -4.071926116943359}, {\"time\": \"2000-01-01T10:00:00\", \"variable\": \"TA\", \"value\": 0.03999999910593033, \"is_present\": true, \"mean\": -33.11725616455078, \"std\": 14.799365997314453, \"err_low\": -62.71598815917969, \"err_high\": -3.518524169921875}, {\"time\": \"2000-01-01T10:30:00\", \"variable\": \"TA\", \"value\": 0.10000000149011612, \"is_present\": true, \"mean\": -32.40573501586914, \"std\": 14.79931354522705, \"err_low\": -62.004364013671875, \"err_high\": -2.807107925415039}], \"data-22b514a72148b05dd7be146caaa527e7\": [{\"gap_start\": \"2000-01-01T07:00:00\", \"gap_end\": \"2000-01-01T07:30:00\"}], \"data-54ab0b4e9494af52977f0e53aafa5ba4\": [{\"time\": \"2000-01-01T06:00:00\", \"variable\": \"SW_IN\", \"value\": 0.0, \"is_present\": true, \"mean\": 252.44717407226562, \"std\": 166.11734008789062, \"err_low\": -79.78750610351562, \"err_high\": 584.681884765625}, {\"time\": \"2000-01-01T06:30:00\", \"variable\": \"SW_IN\", \"value\": 0.0, \"is_present\": true, \"mean\": -114.53775787353516, \"std\": 182.37289428710938, \"err_low\": -479.2835388183594, \"err_high\": 250.20803833007812}, {\"time\": \"2000-01-01T07:00:00\", \"variable\": \"SW_IN\", \"value\": 0.0, \"is_present\": false, \"mean\": -224.75997924804688, \"std\": 183.4200897216797, \"err_low\": -591.6001586914062, \"err_high\": 142.0802001953125}, {\"time\": \"2000-01-01T07:30:00\", \"variable\": \"SW_IN\", \"value\": 0.0, \"is_present\": false, \"mean\": -270.23370361328125, \"std\": 184.7133331298828, \"err_low\": -639.660400390625, \"err_high\": 99.19296264648438}, {\"time\": \"2000-01-01T08:00:00\", \"variable\": \"SW_IN\", \"value\": 0.0, \"is_present\": true, \"mean\": -297.10504150390625, \"std\": 184.6185302734375, \"err_low\": -666.3421020507812, \"err_high\": 72.13201904296875}, {\"time\": \"2000-01-01T08:30:00\", \"variable\": \"SW_IN\", \"value\": 0.44999998807907104, \"is_present\": true, \"mean\": -301.3505859375, \"std\": 182.9918975830078, \"err_low\": -667.3343505859375, \"err_high\": 64.63320922851562}, {\"time\": \"2000-01-01T09:00:00\", \"variable\": \"SW_IN\", \"value\": 3.700000047683716, \"is_present\": true, \"mean\": -306.15673828125, \"std\": 182.93954467773438, \"err_low\": -672.0358276367188, \"err_high\": 59.72235107421875}, {\"time\": \"2000-01-01T09:30:00\", \"variable\": \"SW_IN\", \"value\": 7.260000228881836, \"is_present\": true, \"mean\": -304.9396667480469, \"std\": 182.9181671142578, \"err_low\": -670.7760009765625, \"err_high\": 60.89666748046875}, {\"time\": \"2000-01-01T10:00:00\", \"variable\": \"SW_IN\", \"value\": 12.239999771118164, \"is_present\": true, \"mean\": -300.72674560546875, \"std\": 182.90992736816406, \"err_low\": -666.546630859375, \"err_high\": 65.09310913085938}, {\"time\": \"2000-01-01T10:30:00\", \"variable\": \"SW_IN\", \"value\": 16.510000228881836, \"is_present\": true, \"mean\": -293.8681640625, \"std\": 182.906982421875, \"err_low\": -659.68212890625, \"err_high\": 71.94580078125}], \"data-93f7c3a65dce30ed43013ab68f5aaf9f\": [{\"time\": \"2000-01-01T06:00:00\", \"variable\": \"VPD\", \"value\": 0.12200000137090683, \"is_present\": true, \"mean\": 4.541317462921143, \"std\": 10.120918273925781, \"err_low\": -15.700519561767578, \"err_high\": 24.783153533935547}, {\"time\": \"2000-01-01T06:30:00\", \"variable\": \"VPD\", \"value\": 0.09799999743700027, \"is_present\": true, \"mean\": -22.83382797241211, \"std\": 11.536787033081055, \"err_low\": -45.90740203857422, \"err_high\": 0.23974609375}, {\"time\": \"2000-01-01T07:00:00\", \"variable\": \"VPD\", \"value\": 0.06599999964237213, \"is_present\": true, \"mean\": -27.823307037353516, \"std\": 11.654052734375, \"err_low\": -51.131412506103516, \"err_high\": -4.515201568603516}, {\"time\": \"2000-01-01T07:30:00\", \"variable\": \"VPD\", \"value\": 0.04399999976158142, \"is_present\": true, \"mean\": -29.09073257446289, \"std\": 11.975732803344727, \"err_low\": -53.042198181152344, \"err_high\": -5.1392669677734375}, {\"time\": \"2000-01-01T08:00:00\", \"variable\": \"VPD\", \"value\": 0.026000000536441803, \"is_present\": true, \"mean\": -29.7338924407959, \"std\": 11.978591918945312, \"err_low\": -53.691078186035156, \"err_high\": -5.776708602905273}, {\"time\": \"2000-01-01T08:30:00\", \"variable\": \"VPD\", \"value\": 0.01600000075995922, \"is_present\": true, \"mean\": -28.855215072631836, \"std\": 11.653270721435547, \"err_low\": -52.16175842285156, \"err_high\": -5.548673629760742}, {\"time\": \"2000-01-01T09:00:00\", \"variable\": \"VPD\", \"value\": 0.009999999776482582, \"is_present\": true, \"mean\": -28.768850326538086, \"std\": 11.651850700378418, \"err_low\": -52.07255172729492, \"err_high\": -5.46514892578125}, {\"time\": \"2000-01-01T09:30:00\", \"variable\": \"VPD\", \"value\": 0.006000000052154064, \"is_present\": true, \"mean\": -28.41048240661621, \"std\": 11.651778221130371, \"err_low\": -51.71403884887695, \"err_high\": -5.106925964355469}, {\"time\": \"2000-01-01T10:00:00\", \"variable\": \"VPD\", \"value\": 0.006000000052154064, \"is_present\": true, \"mean\": -27.931806564331055, \"std\": 11.651749610900879, \"err_low\": -51.23530578613281, \"err_high\": -4.628307342529297}, {\"time\": \"2000-01-01T10:30:00\", \"variable\": \"VPD\", \"value\": 0.006000000052154064, \"is_present\": true, \"mean\": -27.345108032226562, \"std\": 11.651739120483398, \"err_low\": -50.64858627319336, \"err_high\": -4.041629791259766}], \"data-b91b451c85d589e0550c8f607b35b646\": [{\"time\": \"2000-01-01T11:00:00\", \"variable\": \"TA\", \"value\": 0.18000000715255737, \"is_present\": true, \"mean\": 11.385505676269531, \"std\": 13.242932319641113, \"err_low\": -15.100358963012695, \"err_high\": 37.871368408203125}, {\"time\": \"2000-01-01T11:30:00\", \"variable\": \"TA\", \"value\": 0.20999999344348907, \"is_present\": true, \"mean\": -20.135189056396484, \"std\": 14.6211576461792, \"err_low\": -49.37750244140625, \"err_high\": 9.107126235961914}, {\"time\": \"2000-01-01T12:00:00\", \"variable\": \"TA\", \"value\": 0.23000000417232513, \"is_present\": true, \"mean\": -26.580732345581055, \"std\": 14.8098783493042, \"err_low\": -56.20048904418945, \"err_high\": 3.0390243530273438}, {\"time\": \"2000-01-01T12:30:00\", \"variable\": \"TA\", \"value\": 0.33000001311302185, \"is_present\": true, \"mean\": -28.050691604614258, \"std\": 14.801875114440918, \"err_low\": -57.654441833496094, \"err_high\": 1.5530586242675781}, {\"time\": \"2000-01-01T13:00:00\", \"variable\": \"TA\", \"value\": 0.4099999964237213, \"is_present\": false, \"mean\": -28.74095344543457, \"std\": 14.80049991607666, \"err_low\": -58.34195327758789, \"err_high\": 0.86004638671875}, {\"time\": \"2000-01-01T13:30:00\", \"variable\": \"TA\", \"value\": 0.4399999976158142, \"is_present\": false, \"mean\": -30.825143814086914, \"std\": 15.165556907653809, \"err_low\": -61.15625762939453, \"err_high\": -0.4940299987792969}, {\"time\": \"2000-01-01T14:00:00\", \"variable\": \"TA\", \"value\": 0.47999998927116394, \"is_present\": true, \"mean\": -31.682287216186523, \"std\": 15.16963005065918, \"err_low\": -62.02154541015625, \"err_high\": -1.343027114868164}, {\"time\": \"2000-01-01T14:30:00\", \"variable\": \"TA\", \"value\": 0.49000000953674316, \"is_present\": true, \"mean\": -30.3609561920166, \"std\": 14.801097869873047, \"err_low\": -59.96315002441406, \"err_high\": -0.7587604522705078}, {\"time\": \"2000-01-01T15:00:00\", \"variable\": \"TA\", \"value\": 0.5099999904632568, \"is_present\": true, \"mean\": -30.6061954498291, \"std\": 14.799694061279297, \"err_low\": -60.20558166503906, \"err_high\": -1.0068073272705078}, {\"time\": \"2000-01-01T15:30:00\", \"variable\": \"TA\", \"value\": 0.5199999809265137, \"is_present\": true, \"mean\": -30.914709091186523, \"std\": 14.799461364746094, \"err_low\": -60.513633728027344, \"err_high\": -1.315786361694336}], \"data-99192d7dcdca74389398fcee4d19fccf\": [{\"gap_start\": \"2000-01-01T13:00:00\", \"gap_end\": \"2000-01-01T13:30:00\"}], \"data-fd344dadf53836301ae25ef49f6bb47e\": [{\"time\": \"2000-01-01T11:00:00\", \"variable\": \"SW_IN\", \"value\": 24.729999542236328, \"is_present\": true, \"mean\": 252.44717407226562, \"std\": 166.11734008789062, \"err_low\": -79.78750610351562, \"err_high\": 584.681884765625}, {\"time\": \"2000-01-01T11:30:00\", \"variable\": \"SW_IN\", \"value\": 47.41999816894531, \"is_present\": true, \"mean\": -78.17630767822266, \"std\": 182.37289428710938, \"err_low\": -442.9220886230469, \"err_high\": 286.5694885253906}, {\"time\": \"2000-01-01T12:00:00\", \"variable\": \"SW_IN\", \"value\": 22.049999237060547, \"is_present\": true, \"mean\": -174.5084228515625, \"std\": 183.4200897216797, \"err_low\": -541.3486328125, \"err_high\": 192.33175659179688}, {\"time\": \"2000-01-01T12:30:00\", \"variable\": \"SW_IN\", \"value\": 18.860000610351562, \"is_present\": true, \"mean\": -212.722412109375, \"std\": 183.0828399658203, \"err_low\": -578.8880615234375, \"err_high\": 153.44326782226562}, {\"time\": \"2000-01-01T13:00:00\", \"variable\": \"SW_IN\", \"value\": 21.100000381469727, \"is_present\": false, \"mean\": -233.80291748046875, \"std\": 182.9724578857422, \"err_low\": -599.747802734375, \"err_high\": 132.14199829101562}, {\"time\": \"2000-01-01T13:30:00\", \"variable\": \"SW_IN\", \"value\": 28.8700008392334, \"is_present\": false, \"mean\": -260.3142395019531, \"std\": 184.48809814453125, \"err_low\": -629.2904052734375, \"err_high\": 108.66195678710938}, {\"time\": \"2000-01-01T14:00:00\", \"variable\": \"SW_IN\", \"value\": 24.219999313354492, \"is_present\": true, \"mean\": -273.97412109375, \"std\": 184.52603149414062, \"err_low\": -643.0261840820312, \"err_high\": 95.07794189453125}, {\"time\": \"2000-01-01T14:30:00\", \"variable\": \"SW_IN\", \"value\": 24.350000381469727, \"is_present\": true, \"mean\": -267.9830322265625, \"std\": 182.96812438964844, \"err_low\": -633.9193115234375, \"err_high\": 97.95321655273438}, {\"time\": \"2000-01-01T15:00:00\", \"variable\": \"SW_IN\", \"value\": 15.680000305175781, \"is_present\": true, \"mean\": -271.97943115234375, \"std\": 182.93138122558594, \"err_low\": -637.8421630859375, \"err_high\": 93.88333129882812}, {\"time\": \"2000-01-01T15:30:00\", \"variable\": \"SW_IN\", \"value\": 8.09000015258789, \"is_present\": true, \"mean\": -276.1390380859375, \"std\": 182.91526794433594, \"err_low\": -641.9696044921875, \"err_high\": 89.69149780273438}], \"data-dbffef85f4102983ba0b831d2d545cf2\": [{\"time\": \"2000-01-01T11:00:00\", \"variable\": \"VPD\", \"value\": 0.010999999940395355, \"is_present\": true, \"mean\": 4.541317462921143, \"std\": 10.120918273925781, \"err_low\": -15.700519561767578, \"err_high\": 24.783153533935547}, {\"time\": \"2000-01-01T11:30:00\", \"variable\": \"VPD\", \"value\": 0.01899999938905239, \"is_present\": true, \"mean\": -19.9982852935791, \"std\": 11.536787033081055, \"err_low\": -43.071861267089844, \"err_high\": 3.075288772583008}, {\"time\": \"2000-01-01T12:00:00\", \"variable\": \"VPD\", \"value\": 0.014000000432133675, \"is_present\": true, \"mean\": -24.146438598632812, \"std\": 11.654052734375, \"err_low\": -47.45454406738281, \"err_high\": -0.8383331298828125}, {\"time\": \"2000-01-01T12:30:00\", \"variable\": \"VPD\", \"value\": 0.00800000037997961, \"is_present\": true, \"mean\": -24.78066062927246, \"std\": 11.652143478393555, \"err_low\": -48.08494567871094, \"err_high\": -1.4763736724853516}, {\"time\": \"2000-01-01T13:00:00\", \"variable\": \"VPD\", \"value\": 0.006000000052154064, \"is_present\": true, \"mean\": -24.9965877532959, \"std\": 11.651988983154297, \"err_low\": -48.300567626953125, \"err_high\": -1.6926097869873047}, {\"time\": \"2000-01-01T13:30:00\", \"variable\": \"VPD\", \"value\": 0.0, \"is_present\": true, \"mean\": -26.513290405273438, \"std\": 11.973209381103516, \"err_low\": -50.45970916748047, \"err_high\": -2.5668716430664062}, {\"time\": \"2000-01-01T14:00:00\", \"variable\": \"VPD\", \"value\": 0.0, \"is_present\": true, \"mean\": -27.094371795654297, \"std\": 11.977216720581055, \"err_low\": -51.048805236816406, \"err_high\": -3.1399383544921875}, {\"time\": \"2000-01-01T14:30:00\", \"variable\": \"VPD\", \"value\": 0.0, \"is_present\": true, \"mean\": -25.933015823364258, \"std\": 11.653158187866211, \"err_low\": -49.23933410644531, \"err_high\": -2.626699447631836}, {\"time\": \"2000-01-01T15:00:00\", \"variable\": \"VPD\", \"value\": 0.0, \"is_present\": true, \"mean\": -26.10602378845215, \"std\": 11.65181827545166, \"err_low\": -49.40966033935547, \"err_high\": -2.802387237548828}, {\"time\": \"2000-01-01T15:30:00\", \"variable\": \"VPD\", \"value\": 0.0, \"is_present\": true, \"mean\": -26.33945655822754, \"std\": 11.651771545410156, \"err_low\": -49.64299774169922, \"err_high\": -3.0359134674072266}], \"data-d6712d8877ce3af5a0229aa7b0d93568\": [{\"time\": \"2000-01-01T16:00:00\", \"variable\": \"TA\", \"value\": 0.5699999928474426, \"is_present\": true, \"mean\": 11.385505676269531, \"std\": 13.242932319641113, \"err_low\": -15.100358963012695, \"err_high\": 37.871368408203125}, {\"time\": \"2000-01-01T16:30:00\", \"variable\": \"TA\", \"value\": 0.7300000190734863, \"is_present\": false, \"mean\": -20.51703643798828, \"std\": 14.6211576461792, \"err_low\": -49.75935363769531, \"err_high\": 8.725278854370117}, {\"time\": \"2000-01-01T17:00:00\", \"variable\": \"TA\", \"value\": 0.7699999809265137, \"is_present\": false, \"mean\": -27.169118881225586, \"std\": 15.182439804077148, \"err_low\": -57.53399658203125, \"err_high\": 3.195760726928711}, {\"time\": \"2000-01-01T17:30:00\", \"variable\": \"TA\", \"value\": 0.8399999737739563, \"is_present\": true, \"mean\": -29.3591365814209, \"std\": 15.178277969360352, \"err_low\": -59.71569061279297, \"err_high\": 0.9974193572998047}, {\"time\": \"2000-01-01T18:00:00\", \"variable\": \"TA\", \"value\": 0.9900000095367432, \"is_present\": true, \"mean\": -29.531496047973633, \"std\": 14.80262279510498, \"err_low\": -59.136741638183594, \"err_high\": 0.07374954223632812}, {\"time\": \"2000-01-01T18:30:00\", \"variable\": \"TA\", \"value\": 1.350000023841858, \"is_present\": true, \"mean\": -29.79212760925293, \"std\": 14.80015754699707, \"err_low\": -59.39244079589844, \"err_high\": -0.19181251525878906}, {\"time\": \"2000-01-01T19:00:00\", \"variable\": \"TA\", \"value\": 1.8600000143051147, \"is_present\": true, \"mean\": -29.67985725402832, \"std\": 14.799620628356934, \"err_low\": -59.27909851074219, \"err_high\": -0.08061599731445312}, {\"time\": \"2000-01-01T19:30:00\", \"variable\": \"TA\", \"value\": 2.009999990463257, \"is_present\": true, \"mean\": -29.36638832092285, \"std\": 14.799403190612793, \"err_low\": -58.96519470214844, \"err_high\": 0.23241806030273438}, {\"time\": \"2000-01-01T20:00:00\", \"variable\": \"TA\", \"value\": 2.069999933242798, \"is_present\": true, \"mean\": -29.186185836791992, \"std\": 14.79932689666748, \"err_low\": -58.78483963012695, \"err_high\": 0.41246795654296875}, {\"time\": \"2000-01-01T20:30:00\", \"variable\": \"TA\", \"value\": 2.0, \"is_present\": true, \"mean\": -29.085546493530273, \"std\": 14.799300193786621, \"err_low\": -58.684146881103516, \"err_high\": 0.5130538940429688}], \"data-3aa9ea8306e80fb1c7f8a6afcc8656e6\": [{\"gap_start\": \"2000-01-01T16:30:00\", \"gap_end\": \"2000-01-01T17:00:00\"}], \"data-93c7b7fde7d7a0f940c5ea465e1ca7b5\": [{\"time\": \"2000-01-01T16:00:00\", \"variable\": \"SW_IN\", \"value\": 6.369999885559082, \"is_present\": true, \"mean\": 252.44717407226562, \"std\": 166.11734008789062, \"err_low\": -79.78750610351562, \"err_high\": 584.681884765625}, {\"time\": \"2000-01-01T16:30:00\", \"variable\": \"SW_IN\", \"value\": 1.7200000286102295, \"is_present\": false, \"mean\": -84.32425689697266, \"std\": 182.37289428710938, \"err_low\": -449.0700378417969, \"err_high\": 280.4215393066406}, {\"time\": \"2000-01-01T17:00:00\", \"variable\": \"SW_IN\", \"value\": 0.05999999865889549, \"is_present\": false, \"mean\": -180.84490966796875, \"std\": 185.120361328125, \"err_low\": -551.0856323242188, \"err_high\": 189.39581298828125}, {\"time\": \"2000-01-01T17:30:00\", \"variable\": \"SW_IN\", \"value\": 0.0, \"is_present\": true, \"mean\": -224.45156860351562, \"std\": 184.80433654785156, \"err_low\": -594.0602416992188, \"err_high\": 145.1571044921875}, {\"time\": \"2000-01-01T18:00:00\", \"variable\": \"SW_IN\", \"value\": 0.0, \"is_present\": true, \"mean\": -242.56591796875, \"std\": 183.04432678222656, \"err_low\": -608.654541015625, \"err_high\": 123.52273559570312}, {\"time\": \"2000-01-01T18:30:00\", \"variable\": \"SW_IN\", \"value\": 0.0, \"is_present\": true, \"mean\": -253.599853515625, \"std\": 182.95730590820312, \"err_low\": -619.5144653320312, \"err_high\": 112.31475830078125}, {\"time\": \"2000-01-01T19:00:00\", \"variable\": \"SW_IN\", \"value\": 0.0, \"is_present\": true, \"mean\": -257.7278137207031, \"std\": 182.9244842529297, \"err_low\": -623.5767822265625, \"err_high\": 108.12115478515625}, {\"time\": \"2000-01-01T19:30:00\", \"variable\": \"SW_IN\", \"value\": 0.0, \"is_present\": true, \"mean\": -258.0259094238281, \"std\": 182.9121856689453, \"err_low\": -623.8502807617188, \"err_high\": 107.7984619140625}, {\"time\": \"2000-01-01T20:00:00\", \"variable\": \"SW_IN\", \"value\": 0.0, \"is_present\": true, \"mean\": -258.2911376953125, \"std\": 182.9077911376953, \"err_low\": -624.106689453125, \"err_high\": 107.52444458007812}, {\"time\": \"2000-01-01T20:30:00\", \"variable\": \"SW_IN\", \"value\": 0.0, \"is_present\": true, \"mean\": -258.2127685546875, \"std\": 182.9062042236328, \"err_low\": -624.025146484375, \"err_high\": 107.59963989257812}], \"data-5d334686bf8c6faa67206014111aab48\": [{\"time\": \"2000-01-01T16:00:00\", \"variable\": \"VPD\", \"value\": 0.0, \"is_present\": true, \"mean\": 4.541317462921143, \"std\": 10.120918273925781, \"err_low\": -15.700519561767578, \"err_high\": 24.783153533935547}, {\"time\": \"2000-01-01T16:30:00\", \"variable\": \"VPD\", \"value\": 0.0, \"is_present\": true, \"mean\": -20.428184509277344, \"std\": 11.536787033081055, \"err_low\": -43.50175857543945, \"err_high\": 2.6453895568847656}, {\"time\": \"2000-01-01T17:00:00\", \"variable\": \"VPD\", \"value\": 0.0, \"is_present\": true, \"mean\": -24.759105682373047, \"std\": 11.977570533752441, \"err_low\": -48.71424865722656, \"err_high\": -0.8039646148681641}, {\"time\": \"2000-01-01T17:30:00\", \"variable\": \"VPD\", \"value\": 0.0, \"is_present\": true, \"mean\": -25.990503311157227, \"std\": 11.980646133422852, \"err_low\": -49.95179748535156, \"err_high\": -2.0292110443115234}, {\"time\": \"2000-01-01T18:00:00\", \"variable\": \"VPD\", \"value\": 0.0, \"is_present\": true, \"mean\": -25.765869140625, \"std\": 11.653531074523926, \"err_low\": -49.07292938232422, \"err_high\": -2.4588069915771484}, {\"time\": \"2000-01-01T18:30:00\", \"variable\": \"VPD\", \"value\": 0.0, \"is_present\": true, \"mean\": -25.78934669494629, \"std\": 11.651917457580566, \"err_low\": -49.09318161010742, \"err_high\": -2.4855117797851562}, {\"time\": \"2000-01-01T19:00:00\", \"variable\": \"VPD\", \"value\": 0.0020000000949949026, \"is_present\": true, \"mean\": -25.59028434753418, \"std\": 11.651800155639648, \"err_low\": -48.893882751464844, \"err_high\": -2.286684036254883}, {\"time\": \"2000-01-01T19:30:00\", \"variable\": \"VPD\", \"value\": 0.008999999612569809, \"is_present\": true, \"mean\": -25.277339935302734, \"std\": 11.651755332946777, \"err_low\": -48.580848693847656, \"err_high\": -1.9738292694091797}, {\"time\": \"2000-01-01T20:00:00\", \"variable\": \"VPD\", \"value\": 0.014000000432133675, \"is_present\": true, \"mean\": -25.10228729248047, \"std\": 11.651740074157715, \"err_low\": -48.40576934814453, \"err_high\": -1.798807144165039}, {\"time\": \"2000-01-01T20:30:00\", \"variable\": \"VPD\", \"value\": 0.014000000432133675, \"is_present\": true, \"mean\": -25.002918243408203, \"std\": 11.651735305786133, \"err_low\": -48.30638885498047, \"err_high\": -1.6994476318359375}]}}, {\"mode\": \"vega-lite\"});\n",
       "</script>"
      ],
      "text/plain": [
       "alt.HConcatChart(...)"
      ]
     },
     "execution_count": null,
     "metadata": {},
     "output_type": "execute_result"
    }
   ],
   "source": [
    "show_results(learn, items=[1,2,3])"
   ]
  },
  {
   "cell_type": "code",
   "execution_count": null,
   "id": "6127a4ef-4559-4d5d-9aea-ce3fb210bf93",
   "metadata": {},
   "outputs": [
    {
     "data": {
      "text/html": [
       "<p style='font-size: 1.5rem; font-decoration: bold'>Kalman Filter (3 obs, 3 state, 6 contr)<p><div style=\"display: flex; column-gap: 20px; flex-wrap: wrap;\" class='table table-striped table-sm'> <div> <p style='font-size: 1.3rem;'>trans matrix (A)</p> <style type=\"text/css\">\n",
       "</style>\n",
       "<table id=\"T_a38cb\">\n",
       "  <thead>\n",
       "    <tr>\n",
       "      <th id=\"T_a38cb_level0_col0\" class=\"col_heading level0 col0\" >state</th>\n",
       "      <th id=\"T_a38cb_level0_col1\" class=\"col_heading level0 col1\" >x_0</th>\n",
       "      <th id=\"T_a38cb_level0_col2\" class=\"col_heading level0 col2\" >x_1</th>\n",
       "      <th id=\"T_a38cb_level0_col3\" class=\"col_heading level0 col3\" >x_2</th>\n",
       "    </tr>\n",
       "  </thead>\n",
       "  <tbody>\n",
       "    <tr>\n",
       "      <td id=\"T_a38cb_row0_col0\" class=\"data row0 col0\" >x_0</td>\n",
       "      <td id=\"T_a38cb_row0_col1\" class=\"data row0 col1\" >0.4749</td>\n",
       "      <td id=\"T_a38cb_row0_col2\" class=\"data row0 col2\" >0.7757</td>\n",
       "      <td id=\"T_a38cb_row0_col3\" class=\"data row0 col3\" >0.6271</td>\n",
       "    </tr>\n",
       "    <tr>\n",
       "      <td id=\"T_a38cb_row1_col0\" class=\"data row1 col0\" >x_1</td>\n",
       "      <td id=\"T_a38cb_row1_col1\" class=\"data row1 col1\" >0.1359</td>\n",
       "      <td id=\"T_a38cb_row1_col2\" class=\"data row1 col2\" >0.7127</td>\n",
       "      <td id=\"T_a38cb_row1_col3\" class=\"data row1 col3\" >-0.1110</td>\n",
       "    </tr>\n",
       "    <tr>\n",
       "      <td id=\"T_a38cb_row2_col0\" class=\"data row2 col0\" >x_2</td>\n",
       "      <td id=\"T_a38cb_row2_col1\" class=\"data row2 col1\" >0.6088</td>\n",
       "      <td id=\"T_a38cb_row2_col2\" class=\"data row2 col2\" >0.3351</td>\n",
       "      <td id=\"T_a38cb_row2_col3\" class=\"data row2 col3\" >0.5723</td>\n",
       "    </tr>\n",
       "  </tbody>\n",
       "</table>\n",
       " </div><div> <p style='font-size: 1.3rem;'>trans cov (Q)</p> <style type=\"text/css\">\n",
       "</style>\n",
       "<table id=\"T_8b59a\">\n",
       "  <thead>\n",
       "    <tr>\n",
       "      <th id=\"T_8b59a_level0_col0\" class=\"col_heading level0 col0\" >state</th>\n",
       "      <th id=\"T_8b59a_level0_col1\" class=\"col_heading level0 col1\" >x_0</th>\n",
       "      <th id=\"T_8b59a_level0_col2\" class=\"col_heading level0 col2\" >x_1</th>\n",
       "      <th id=\"T_8b59a_level0_col3\" class=\"col_heading level0 col3\" >x_2</th>\n",
       "    </tr>\n",
       "  </thead>\n",
       "  <tbody>\n",
       "    <tr>\n",
       "      <td id=\"T_8b59a_row0_col0\" class=\"data row0 col0\" >x_0</td>\n",
       "      <td id=\"T_8b59a_row0_col1\" class=\"data row0 col1\" >1.5092</td>\n",
       "      <td id=\"T_8b59a_row0_col2\" class=\"data row0 col2\" >0.9523</td>\n",
       "      <td id=\"T_8b59a_row0_col3\" class=\"data row0 col3\" >1.5964</td>\n",
       "    </tr>\n",
       "    <tr>\n",
       "      <td id=\"T_8b59a_row1_col0\" class=\"data row1 col0\" >x_1</td>\n",
       "      <td id=\"T_8b59a_row1_col1\" class=\"data row1 col1\" >0.9523</td>\n",
       "      <td id=\"T_8b59a_row1_col2\" class=\"data row1 col2\" >0.6609</td>\n",
       "      <td id=\"T_8b59a_row1_col3\" class=\"data row1 col3\" >0.9329</td>\n",
       "    </tr>\n",
       "    <tr>\n",
       "      <td id=\"T_8b59a_row2_col0\" class=\"data row2 col0\" >x_2</td>\n",
       "      <td id=\"T_8b59a_row2_col1\" class=\"data row2 col1\" >1.5964</td>\n",
       "      <td id=\"T_8b59a_row2_col2\" class=\"data row2 col2\" >0.9329</td>\n",
       "      <td id=\"T_8b59a_row2_col3\" class=\"data row2 col3\" >1.8166</td>\n",
       "    </tr>\n",
       "  </tbody>\n",
       "</table>\n",
       " </div><div> <p style='font-size: 1.3rem;'>trans off</p> <style type=\"text/css\">\n",
       "</style>\n",
       "<table id=\"T_9b678\">\n",
       "  <thead>\n",
       "    <tr>\n",
       "      <th id=\"T_9b678_level0_col0\" class=\"col_heading level0 col0\" >state</th>\n",
       "      <th id=\"T_9b678_level0_col1\" class=\"col_heading level0 col1\" >offset</th>\n",
       "    </tr>\n",
       "  </thead>\n",
       "  <tbody>\n",
       "    <tr>\n",
       "      <td id=\"T_9b678_row0_col0\" class=\"data row0 col0\" >x_0</td>\n",
       "      <td id=\"T_9b678_row0_col1\" class=\"data row0 col1\" >0.2892</td>\n",
       "    </tr>\n",
       "    <tr>\n",
       "      <td id=\"T_9b678_row1_col0\" class=\"data row1 col0\" >x_1</td>\n",
       "      <td id=\"T_9b678_row1_col1\" class=\"data row1 col1\" >-0.0677</td>\n",
       "    </tr>\n",
       "    <tr>\n",
       "      <td id=\"T_9b678_row2_col0\" class=\"data row2 col0\" >x_2</td>\n",
       "      <td id=\"T_9b678_row2_col1\" class=\"data row2 col1\" >1.0242</td>\n",
       "    </tr>\n",
       "  </tbody>\n",
       "</table>\n",
       " </div><div> <p style='font-size: 1.3rem;'>obs matrix (H)</p> <style type=\"text/css\">\n",
       "</style>\n",
       "<table id=\"T_3e8cf\">\n",
       "  <thead>\n",
       "    <tr>\n",
       "      <th id=\"T_3e8cf_level0_col0\" class=\"col_heading level0 col0\" >variable</th>\n",
       "      <th id=\"T_3e8cf_level0_col1\" class=\"col_heading level0 col1\" >x_0</th>\n",
       "      <th id=\"T_3e8cf_level0_col2\" class=\"col_heading level0 col2\" >x_1</th>\n",
       "      <th id=\"T_3e8cf_level0_col3\" class=\"col_heading level0 col3\" >x_2</th>\n",
       "    </tr>\n",
       "  </thead>\n",
       "  <tbody>\n",
       "    <tr>\n",
       "      <td id=\"T_3e8cf_row0_col0\" class=\"data row0 col0\" >y_0</td>\n",
       "      <td id=\"T_3e8cf_row0_col1\" class=\"data row0 col1\" >0.7146</td>\n",
       "      <td id=\"T_3e8cf_row0_col2\" class=\"data row0 col2\" >0.6534</td>\n",
       "      <td id=\"T_3e8cf_row0_col3\" class=\"data row0 col3\" >0.2371</td>\n",
       "    </tr>\n",
       "    <tr>\n",
       "      <td id=\"T_3e8cf_row1_col0\" class=\"data row1 col0\" >y_1</td>\n",
       "      <td id=\"T_3e8cf_row1_col1\" class=\"data row1 col1\" >0.1204</td>\n",
       "      <td id=\"T_3e8cf_row1_col2\" class=\"data row1 col2\" >0.5424</td>\n",
       "      <td id=\"T_3e8cf_row1_col3\" class=\"data row1 col3\" >-0.0446</td>\n",
       "    </tr>\n",
       "    <tr>\n",
       "      <td id=\"T_3e8cf_row2_col0\" class=\"data row2 col0\" >y_2</td>\n",
       "      <td id=\"T_3e8cf_row2_col1\" class=\"data row2 col1\" >0.9758</td>\n",
       "      <td id=\"T_3e8cf_row2_col2\" class=\"data row2 col2\" >0.7821</td>\n",
       "      <td id=\"T_3e8cf_row2_col3\" class=\"data row2 col3\" >0.7662</td>\n",
       "    </tr>\n",
       "  </tbody>\n",
       "</table>\n",
       " </div><div> <p style='font-size: 1.3rem;'>obs cov (R)</p> <style type=\"text/css\">\n",
       "</style>\n",
       "<table id=\"T_7e525\">\n",
       "  <thead>\n",
       "    <tr>\n",
       "      <th id=\"T_7e525_level0_col0\" class=\"col_heading level0 col0\" >variable</th>\n",
       "      <th id=\"T_7e525_level0_col1\" class=\"col_heading level0 col1\" >y_0</th>\n",
       "      <th id=\"T_7e525_level0_col2\" class=\"col_heading level0 col2\" >y_1</th>\n",
       "      <th id=\"T_7e525_level0_col3\" class=\"col_heading level0 col3\" >y_2</th>\n",
       "    </tr>\n",
       "  </thead>\n",
       "  <tbody>\n",
       "    <tr>\n",
       "      <td id=\"T_7e525_row0_col0\" class=\"data row0 col0\" >y_0</td>\n",
       "      <td id=\"T_7e525_row0_col1\" class=\"data row0 col1\" >0.9888</td>\n",
       "      <td id=\"T_7e525_row0_col2\" class=\"data row0 col2\" >0.0000</td>\n",
       "      <td id=\"T_7e525_row0_col3\" class=\"data row0 col3\" >0.0000</td>\n",
       "    </tr>\n",
       "    <tr>\n",
       "      <td id=\"T_7e525_row1_col0\" class=\"data row1 col0\" >y_1</td>\n",
       "      <td id=\"T_7e525_row1_col1\" class=\"data row1 col1\" >0.0000</td>\n",
       "      <td id=\"T_7e525_row1_col2\" class=\"data row1 col2\" >0.6061</td>\n",
       "      <td id=\"T_7e525_row1_col3\" class=\"data row1 col3\" >0.0000</td>\n",
       "    </tr>\n",
       "    <tr>\n",
       "      <td id=\"T_7e525_row2_col0\" class=\"data row2 col0\" >y_2</td>\n",
       "      <td id=\"T_7e525_row2_col1\" class=\"data row2 col1\" >0.0000</td>\n",
       "      <td id=\"T_7e525_row2_col2\" class=\"data row2 col2\" >0.0000</td>\n",
       "      <td id=\"T_7e525_row2_col3\" class=\"data row2 col3\" >1.1438</td>\n",
       "    </tr>\n",
       "  </tbody>\n",
       "</table>\n",
       " </div><div> <p style='font-size: 1.3rem;'>obs off</p> <style type=\"text/css\">\n",
       "</style>\n",
       "<table id=\"T_ab2c0\">\n",
       "  <thead>\n",
       "    <tr>\n",
       "      <th id=\"T_ab2c0_level0_col0\" class=\"col_heading level0 col0\" >variable</th>\n",
       "      <th id=\"T_ab2c0_level0_col1\" class=\"col_heading level0 col1\" >offset</th>\n",
       "    </tr>\n",
       "  </thead>\n",
       "  <tbody>\n",
       "    <tr>\n",
       "      <td id=\"T_ab2c0_row0_col0\" class=\"data row0 col0\" >y_0</td>\n",
       "      <td id=\"T_ab2c0_row0_col1\" class=\"data row0 col1\" >0.2498</td>\n",
       "    </tr>\n",
       "    <tr>\n",
       "      <td id=\"T_ab2c0_row1_col0\" class=\"data row1 col0\" >y_1</td>\n",
       "      <td id=\"T_ab2c0_row1_col1\" class=\"data row1 col1\" >0.7622</td>\n",
       "    </tr>\n",
       "    <tr>\n",
       "      <td id=\"T_ab2c0_row2_col0\" class=\"data row2 col0\" >y_2</td>\n",
       "      <td id=\"T_ab2c0_row2_col1\" class=\"data row2 col1\" >-0.0394</td>\n",
       "    </tr>\n",
       "  </tbody>\n",
       "</table>\n",
       " </div><div> <p style='font-size: 1.3rem;'>contr matrix (B)</p> <style type=\"text/css\">\n",
       "</style>\n",
       "<table id=\"T_f74c5\">\n",
       "  <thead>\n",
       "    <tr>\n",
       "      <th id=\"T_f74c5_level0_col0\" class=\"col_heading level0 col0\" >state</th>\n",
       "      <th id=\"T_f74c5_level0_col1\" class=\"col_heading level0 col1\" >c_0</th>\n",
       "      <th id=\"T_f74c5_level0_col2\" class=\"col_heading level0 col2\" >c_1</th>\n",
       "      <th id=\"T_f74c5_level0_col3\" class=\"col_heading level0 col3\" >c_2</th>\n",
       "      <th id=\"T_f74c5_level0_col4\" class=\"col_heading level0 col4\" >c_3</th>\n",
       "      <th id=\"T_f74c5_level0_col5\" class=\"col_heading level0 col5\" >c_4</th>\n",
       "      <th id=\"T_f74c5_level0_col6\" class=\"col_heading level0 col6\" >c_5</th>\n",
       "    </tr>\n",
       "  </thead>\n",
       "  <tbody>\n",
       "    <tr>\n",
       "      <td id=\"T_f74c5_row0_col0\" class=\"data row0 col0\" >x_0</td>\n",
       "      <td id=\"T_f74c5_row0_col1\" class=\"data row0 col1\" >0.3968</td>\n",
       "      <td id=\"T_f74c5_row0_col2\" class=\"data row0 col2\" >0.4033</td>\n",
       "      <td id=\"T_f74c5_row0_col3\" class=\"data row0 col3\" >0.1605</td>\n",
       "      <td id=\"T_f74c5_row0_col4\" class=\"data row0 col4\" >0.8516</td>\n",
       "      <td id=\"T_f74c5_row0_col5\" class=\"data row0 col5\" >0.4571</td>\n",
       "      <td id=\"T_f74c5_row0_col6\" class=\"data row0 col6\" >0.7107</td>\n",
       "    </tr>\n",
       "    <tr>\n",
       "      <td id=\"T_f74c5_row1_col0\" class=\"data row1 col0\" >x_1</td>\n",
       "      <td id=\"T_f74c5_row1_col1\" class=\"data row1 col1\" >0.7818</td>\n",
       "      <td id=\"T_f74c5_row1_col2\" class=\"data row1 col2\" >0.7703</td>\n",
       "      <td id=\"T_f74c5_row1_col3\" class=\"data row1 col3\" >0.6537</td>\n",
       "      <td id=\"T_f74c5_row1_col4\" class=\"data row1 col4\" >0.0476</td>\n",
       "      <td id=\"T_f74c5_row1_col5\" class=\"data row1 col5\" >0.3855</td>\n",
       "      <td id=\"T_f74c5_row1_col6\" class=\"data row1 col6\" >0.5659</td>\n",
       "    </tr>\n",
       "    <tr>\n",
       "      <td id=\"T_f74c5_row2_col0\" class=\"data row2 col0\" >x_2</td>\n",
       "      <td id=\"T_f74c5_row2_col1\" class=\"data row2 col1\" >0.4975</td>\n",
       "      <td id=\"T_f74c5_row2_col2\" class=\"data row2 col2\" >0.7664</td>\n",
       "      <td id=\"T_f74c5_row2_col3\" class=\"data row2 col3\" >0.7704</td>\n",
       "      <td id=\"T_f74c5_row2_col4\" class=\"data row2 col4\" >0.1172</td>\n",
       "      <td id=\"T_f74c5_row2_col5\" class=\"data row2 col5\" >0.7915</td>\n",
       "      <td id=\"T_f74c5_row2_col6\" class=\"data row2 col6\" >0.4594</td>\n",
       "    </tr>\n",
       "  </tbody>\n",
       "</table>\n",
       " </div><div> <p style='font-size: 1.3rem;'>init state mean</p> <style type=\"text/css\">\n",
       "</style>\n",
       "<table id=\"T_693ef\">\n",
       "  <thead>\n",
       "    <tr>\n",
       "      <th id=\"T_693ef_level0_col0\" class=\"col_heading level0 col0\" >state</th>\n",
       "      <th id=\"T_693ef_level0_col1\" class=\"col_heading level0 col1\" >mean</th>\n",
       "    </tr>\n",
       "  </thead>\n",
       "  <tbody>\n",
       "    <tr>\n",
       "      <td id=\"T_693ef_row0_col0\" class=\"data row0 col0\" >x_0</td>\n",
       "      <td id=\"T_693ef_row0_col1\" class=\"data row0 col1\" >0.2263</td>\n",
       "    </tr>\n",
       "    <tr>\n",
       "      <td id=\"T_693ef_row1_col0\" class=\"data row1 col0\" >x_1</td>\n",
       "      <td id=\"T_693ef_row1_col1\" class=\"data row1 col1\" >-0.0197</td>\n",
       "    </tr>\n",
       "    <tr>\n",
       "      <td id=\"T_693ef_row2_col0\" class=\"data row2 col0\" >x_2</td>\n",
       "      <td id=\"T_693ef_row2_col1\" class=\"data row2 col1\" >0.3886</td>\n",
       "    </tr>\n",
       "  </tbody>\n",
       "</table>\n",
       " </div><div> <p style='font-size: 1.3rem;'>init state cov</p> <style type=\"text/css\">\n",
       "</style>\n",
       "<table id=\"T_a8422\">\n",
       "  <thead>\n",
       "    <tr>\n",
       "      <th id=\"T_a8422_level0_col0\" class=\"col_heading level0 col0\" >state</th>\n",
       "      <th id=\"T_a8422_level0_col1\" class=\"col_heading level0 col1\" >x_0</th>\n",
       "      <th id=\"T_a8422_level0_col2\" class=\"col_heading level0 col2\" >x_1</th>\n",
       "      <th id=\"T_a8422_level0_col3\" class=\"col_heading level0 col3\" >x_2</th>\n",
       "    </tr>\n",
       "  </thead>\n",
       "  <tbody>\n",
       "    <tr>\n",
       "      <td id=\"T_a8422_row0_col0\" class=\"data row0 col0\" >x_0</td>\n",
       "      <td id=\"T_a8422_row0_col1\" class=\"data row0 col1\" >2.2819</td>\n",
       "      <td id=\"T_a8422_row0_col2\" class=\"data row0 col2\" >0.5926</td>\n",
       "      <td id=\"T_a8422_row0_col3\" class=\"data row0 col3\" >1.4884</td>\n",
       "    </tr>\n",
       "    <tr>\n",
       "      <td id=\"T_a8422_row1_col0\" class=\"data row1 col0\" >x_1</td>\n",
       "      <td id=\"T_a8422_row1_col1\" class=\"data row1 col1\" >0.5926</td>\n",
       "      <td id=\"T_a8422_row1_col2\" class=\"data row1 col2\" >0.2446</td>\n",
       "      <td id=\"T_a8422_row1_col3\" class=\"data row1 col3\" >0.1646</td>\n",
       "    </tr>\n",
       "    <tr>\n",
       "      <td id=\"T_a8422_row2_col0\" class=\"data row2 col0\" >x_2</td>\n",
       "      <td id=\"T_a8422_row2_col1\" class=\"data row2 col1\" >1.4884</td>\n",
       "      <td id=\"T_a8422_row2_col2\" class=\"data row2 col2\" >0.1646</td>\n",
       "      <td id=\"T_a8422_row2_col3\" class=\"data row2 col3\" >1.6328</td>\n",
       "    </tr>\n",
       "  </tbody>\n",
       "</table>\n",
       " </div></div>"
      ],
      "text/plain": [
       "<fastai.learner.Learner>"
      ]
     },
     "execution_count": null,
     "metadata": {},
     "output_type": "execute_result"
    }
   ],
   "source": [
    "learn"
   ]
  },
  {
   "cell_type": "markdown",
   "id": "d09f23d4-5d1b-40cb-adf7-0985b452f42b",
   "metadata": {},
   "source": [
    "#### Interactive"
   ]
  },
  {
   "cell_type": "code",
   "execution_count": null,
   "id": "c9bea97c-c708-45af-8b06-a058f0e6c1f8",
   "metadata": {},
   "outputs": [],
   "source": [
    "#| export\n",
    "from ipywidgets import IntSlider, interact_manual, Text"
   ]
  },
  {
   "cell_type": "code",
   "execution_count": null,
   "id": "f701cf43-72a7-47bd-bf6e-4d2c051fd3ef",
   "metadata": {},
   "outputs": [],
   "source": [
    "#| export\n",
    "def results_custom_gap(learn, df, control, items_idx, var_sel, gap_len, block_len, control_lags):\n",
    "    pipeline,_ = imp_pipeline(df, control, var_sel, gap_len, block_len, control_lags)\n",
    "    \n",
    "    dls = TfmdLists(items_idx, pipeline).dataloaders(bs=len(items_idx))\n",
    "    return get_results(learn, items=items_idx, dls=dls)"
   ]
  },
  {
   "cell_type": "code",
   "execution_count": null,
   "id": "eba864dd-5b28-4a18-a88b-a70ab4a36aa7",
   "metadata": {},
   "outputs": [
    {
     "data": {
      "text/html": [
       "\n",
       "<div id=\"altair-viz-aa27b10ca4d8422ca6251ad500684e24\"></div>\n",
       "<script type=\"text/javascript\">\n",
       "  var VEGA_DEBUG = (typeof VEGA_DEBUG == \"undefined\") ? {} : VEGA_DEBUG;\n",
       "  (function(spec, embedOpt){\n",
       "    let outputDiv = document.currentScript.previousElementSibling;\n",
       "    if (outputDiv.id !== \"altair-viz-aa27b10ca4d8422ca6251ad500684e24\") {\n",
       "      outputDiv = document.getElementById(\"altair-viz-aa27b10ca4d8422ca6251ad500684e24\");\n",
       "    }\n",
       "    const paths = {\n",
       "      \"vega\": \"https://cdn.jsdelivr.net/npm//vega@5?noext\",\n",
       "      \"vega-lib\": \"https://cdn.jsdelivr.net/npm//vega-lib?noext\",\n",
       "      \"vega-lite\": \"https://cdn.jsdelivr.net/npm//vega-lite@5.2.0?noext\",\n",
       "      \"vega-embed\": \"https://cdn.jsdelivr.net/npm//vega-embed@6?noext\",\n",
       "    };\n",
       "\n",
       "    function maybeLoadScript(lib, version) {\n",
       "      var key = `${lib.replace(\"-\", \"\")}_version`;\n",
       "      return (VEGA_DEBUG[key] == version) ?\n",
       "        Promise.resolve(paths[lib]) :\n",
       "        new Promise(function(resolve, reject) {\n",
       "          var s = document.createElement('script');\n",
       "          document.getElementsByTagName(\"head\")[0].appendChild(s);\n",
       "          s.async = true;\n",
       "          s.onload = () => {\n",
       "            VEGA_DEBUG[key] = version;\n",
       "            return resolve(paths[lib]);\n",
       "          };\n",
       "          s.onerror = () => reject(`Error loading script: ${paths[lib]}`);\n",
       "          s.src = paths[lib];\n",
       "        });\n",
       "    }\n",
       "\n",
       "    function showError(err) {\n",
       "      outputDiv.innerHTML = `<div class=\"error\" style=\"color:red;\">${err}</div>`;\n",
       "      throw err;\n",
       "    }\n",
       "\n",
       "    function displayChart(vegaEmbed) {\n",
       "      vegaEmbed(outputDiv, spec, embedOpt)\n",
       "        .catch(err => showError(`Javascript Error: ${err.message}<br>This usually means there's a typo in your chart specification. See the javascript console for the full traceback.`));\n",
       "    }\n",
       "\n",
       "    if(typeof define === \"function\" && define.amd) {\n",
       "      requirejs.config({paths});\n",
       "      require([\"vega-embed\"], displayChart, err => showError(`Error loading script: ${err.message}`));\n",
       "    } else {\n",
       "      maybeLoadScript(\"vega\", \"5\")\n",
       "        .then(() => maybeLoadScript(\"vega-lite\", \"5.2.0\"))\n",
       "        .then(() => maybeLoadScript(\"vega-embed\", \"6\"))\n",
       "        .catch(showError)\n",
       "        .then(() => displayChart(vegaEmbed));\n",
       "    }\n",
       "  })({\"config\": {\"view\": {\"continuousWidth\": 400, \"continuousHeight\": 300}}, \"hconcat\": [{\"vconcat\": [{\"hconcat\": [{\"layer\": [{\"data\": {\"name\": \"data-3390e7cb510483c8b7166e6b13e93dd0\"}, \"mark\": {\"type\": \"point\", \"color\": \"black\", \"fillOpacity\": 1, \"strokeWidth\": 1}, \"encoding\": {\"fill\": {\"field\": \"is_present\", \"legend\": {\"title\": [\"Observed data\"]}, \"scale\": {\"range\": [\"black\", \"#ffffff00\"]}, \"type\": \"nominal\"}, \"shape\": {\"field\": \"is_present\", \"type\": \"nominal\"}, \"x\": {\"axis\": {\"domain\": true, \"labels\": true, \"ticks\": true, \"title\": \"time\"}, \"field\": \"time\", \"type\": \"temporal\"}, \"y\": {\"field\": \"value\", \"scale\": {\"zero\": false}, \"title\": \"TA\", \"type\": \"quantitative\"}}}, {\"layer\": [{\"mark\": \"rule\", \"encoding\": {\"x\": {\"axis\": {\"domain\": false, \"labels\": false, \"ticks\": false, \"title\": null}, \"field\": \"gap_start\", \"type\": \"temporal\"}}}, {\"mark\": \"rule\", \"encoding\": {\"x\": {\"axis\": {\"domain\": false, \"labels\": false, \"ticks\": false, \"title\": null}, \"field\": \"gap_end\", \"type\": \"temporal\"}}}, {\"mark\": {\"type\": \"rect\", \"color\": \"black\", \"opacity\": 0.15}, \"encoding\": {\"x\": {\"axis\": {\"domain\": false, \"labels\": false, \"ticks\": false, \"title\": null}, \"field\": \"gap_start\", \"type\": \"temporal\"}, \"x2\": {\"field\": \"gap_end\"}}}], \"data\": {\"name\": \"data-d2ceea72a38e994fd7480ecc07349c4f\"}}, {\"layer\": [{\"mark\": \"errorband\", \"encoding\": {\"color\": {\"field\": \"variable\", \"legend\": {\"title\": [\"Line: pred. mean\", \"area: +/- 2 std\"]}, \"type\": \"nominal\"}, \"x\": {\"field\": \"time\", \"type\": \"temporal\"}, \"y\": {\"field\": \"err_low\", \"scale\": {\"zero\": false}, \"title\": \"TA\", \"type\": \"quantitative\"}, \"y2\": {\"field\": \"err_high\"}}, \"name\": \"view_42\"}, {\"mark\": \"line\", \"encoding\": {\"color\": {\"field\": \"variable\", \"type\": \"nominal\"}, \"x\": {\"field\": \"time\", \"type\": \"temporal\"}, \"y\": {\"field\": \"mean\", \"scale\": {\"zero\": false}, \"title\": \"TA\", \"type\": \"quantitative\"}}}], \"data\": {\"name\": \"data-3390e7cb510483c8b7166e6b13e93dd0\"}}], \"height\": 150, \"title\": \"TA\", \"width\": 200}]}, {\"hconcat\": [{\"layer\": [{\"mark\": {\"type\": \"point\", \"color\": \"black\", \"fillOpacity\": 1, \"strokeWidth\": 1}, \"encoding\": {\"fill\": {\"field\": \"is_present\", \"legend\": {\"title\": [\"Observed data\"]}, \"scale\": {\"range\": [\"black\", \"#ffffff00\"]}, \"type\": \"nominal\"}, \"shape\": {\"field\": \"is_present\", \"type\": \"nominal\"}, \"x\": {\"axis\": {\"domain\": true, \"labels\": true, \"ticks\": true, \"title\": \"time\"}, \"field\": \"time\", \"type\": \"temporal\"}, \"y\": {\"field\": \"value\", \"scale\": {\"zero\": false}, \"title\": \"SW_IN\", \"type\": \"quantitative\"}}}, {\"layer\": [{\"mark\": \"errorband\", \"encoding\": {\"color\": {\"field\": \"variable\", \"legend\": {\"title\": [\"Line: pred. mean\", \"area: +/- 2 std\"]}, \"type\": \"nominal\"}, \"x\": {\"field\": \"time\", \"type\": \"temporal\"}, \"y\": {\"field\": \"err_low\", \"scale\": {\"zero\": false}, \"title\": \"SW_IN\", \"type\": \"quantitative\"}, \"y2\": {\"field\": \"err_high\"}}, \"name\": \"view_43\"}, {\"mark\": \"line\", \"encoding\": {\"color\": {\"field\": \"variable\", \"type\": \"nominal\"}, \"x\": {\"field\": \"time\", \"type\": \"temporal\"}, \"y\": {\"field\": \"mean\", \"scale\": {\"zero\": false}, \"title\": \"SW_IN\", \"type\": \"quantitative\"}}}]}], \"height\": 150, \"title\": \"SW_IN\", \"width\": 200}], \"data\": {\"name\": \"data-e240e73172c9e7898df978fb0087c008\"}}, {\"hconcat\": [{\"layer\": [{\"mark\": {\"type\": \"point\", \"color\": \"black\", \"fillOpacity\": 1, \"strokeWidth\": 1}, \"encoding\": {\"fill\": {\"field\": \"is_present\", \"legend\": {\"title\": [\"Observed data\"]}, \"scale\": {\"range\": [\"black\", \"#ffffff00\"]}, \"type\": \"nominal\"}, \"shape\": {\"field\": \"is_present\", \"type\": \"nominal\"}, \"x\": {\"axis\": {\"domain\": true, \"labels\": true, \"ticks\": true, \"title\": \"time\"}, \"field\": \"time\", \"type\": \"temporal\"}, \"y\": {\"field\": \"value\", \"scale\": {\"zero\": false}, \"title\": \"VPD\", \"type\": \"quantitative\"}}}, {\"layer\": [{\"mark\": \"errorband\", \"encoding\": {\"color\": {\"field\": \"variable\", \"legend\": {\"title\": [\"Line: pred. mean\", \"area: +/- 2 std\"]}, \"type\": \"nominal\"}, \"x\": {\"field\": \"time\", \"type\": \"temporal\"}, \"y\": {\"field\": \"err_low\", \"scale\": {\"zero\": false}, \"title\": \"VPD\", \"type\": \"quantitative\"}, \"y2\": {\"field\": \"err_high\"}}, \"name\": \"view_44\"}, {\"mark\": \"line\", \"encoding\": {\"color\": {\"field\": \"variable\", \"type\": \"nominal\"}, \"x\": {\"field\": \"time\", \"type\": \"temporal\"}, \"y\": {\"field\": \"mean\", \"scale\": {\"zero\": false}, \"title\": \"VPD\", \"type\": \"quantitative\"}}}]}], \"height\": 150, \"title\": \"VPD\", \"width\": 200}], \"data\": {\"name\": \"data-02fd2a7e7f442f16a1b8c3269fb07a05\"}}], \"title\": \"loss: 7.668001\"}, {\"vconcat\": [{\"hconcat\": [{\"layer\": [{\"data\": {\"name\": \"data-a8a04b446f5d0f21d9e9eb0e0587ffa7\"}, \"mark\": {\"type\": \"point\", \"color\": \"black\", \"fillOpacity\": 1, \"strokeWidth\": 1}, \"encoding\": {\"fill\": {\"field\": \"is_present\", \"legend\": {\"title\": [\"Observed data\"]}, \"scale\": {\"range\": [\"black\", \"#ffffff00\"]}, \"type\": \"nominal\"}, \"shape\": {\"field\": \"is_present\", \"type\": \"nominal\"}, \"x\": {\"axis\": {\"domain\": true, \"labels\": true, \"ticks\": true, \"title\": \"time\"}, \"field\": \"time\", \"type\": \"temporal\"}, \"y\": {\"field\": \"value\", \"scale\": {\"zero\": false}, \"title\": \"TA\", \"type\": \"quantitative\"}}}, {\"layer\": [{\"mark\": \"rule\", \"encoding\": {\"x\": {\"axis\": {\"domain\": false, \"labels\": false, \"ticks\": false, \"title\": null}, \"field\": \"gap_start\", \"type\": \"temporal\"}}}, {\"mark\": \"rule\", \"encoding\": {\"x\": {\"axis\": {\"domain\": false, \"labels\": false, \"ticks\": false, \"title\": null}, \"field\": \"gap_end\", \"type\": \"temporal\"}}}, {\"mark\": {\"type\": \"rect\", \"color\": \"black\", \"opacity\": 0.15}, \"encoding\": {\"x\": {\"axis\": {\"domain\": false, \"labels\": false, \"ticks\": false, \"title\": null}, \"field\": \"gap_start\", \"type\": \"temporal\"}, \"x2\": {\"field\": \"gap_end\"}}}], \"data\": {\"name\": \"data-c8a4fcd26bd4c9651db43add2e4cc52d\"}}, {\"layer\": [{\"mark\": \"errorband\", \"encoding\": {\"color\": {\"field\": \"variable\", \"legend\": {\"title\": [\"Line: pred. mean\", \"area: +/- 2 std\"]}, \"type\": \"nominal\"}, \"x\": {\"field\": \"time\", \"type\": \"temporal\"}, \"y\": {\"field\": \"err_low\", \"scale\": {\"zero\": false}, \"title\": \"TA\", \"type\": \"quantitative\"}, \"y2\": {\"field\": \"err_high\"}}, \"name\": \"view_45\"}, {\"mark\": \"line\", \"encoding\": {\"color\": {\"field\": \"variable\", \"type\": \"nominal\"}, \"x\": {\"field\": \"time\", \"type\": \"temporal\"}, \"y\": {\"field\": \"mean\", \"scale\": {\"zero\": false}, \"title\": \"TA\", \"type\": \"quantitative\"}}}], \"data\": {\"name\": \"data-a8a04b446f5d0f21d9e9eb0e0587ffa7\"}}], \"height\": 150, \"title\": \"TA\", \"width\": 200}]}, {\"hconcat\": [{\"layer\": [{\"mark\": {\"type\": \"point\", \"color\": \"black\", \"fillOpacity\": 1, \"strokeWidth\": 1}, \"encoding\": {\"fill\": {\"field\": \"is_present\", \"legend\": {\"title\": [\"Observed data\"]}, \"scale\": {\"range\": [\"black\", \"#ffffff00\"]}, \"type\": \"nominal\"}, \"shape\": {\"field\": \"is_present\", \"type\": \"nominal\"}, \"x\": {\"axis\": {\"domain\": true, \"labels\": true, \"ticks\": true, \"title\": \"time\"}, \"field\": \"time\", \"type\": \"temporal\"}, \"y\": {\"field\": \"value\", \"scale\": {\"zero\": false}, \"title\": \"SW_IN\", \"type\": \"quantitative\"}}}, {\"layer\": [{\"mark\": \"errorband\", \"encoding\": {\"color\": {\"field\": \"variable\", \"legend\": {\"title\": [\"Line: pred. mean\", \"area: +/- 2 std\"]}, \"type\": \"nominal\"}, \"x\": {\"field\": \"time\", \"type\": \"temporal\"}, \"y\": {\"field\": \"err_low\", \"scale\": {\"zero\": false}, \"title\": \"SW_IN\", \"type\": \"quantitative\"}, \"y2\": {\"field\": \"err_high\"}}, \"name\": \"view_46\"}, {\"mark\": \"line\", \"encoding\": {\"color\": {\"field\": \"variable\", \"type\": \"nominal\"}, \"x\": {\"field\": \"time\", \"type\": \"temporal\"}, \"y\": {\"field\": \"mean\", \"scale\": {\"zero\": false}, \"title\": \"SW_IN\", \"type\": \"quantitative\"}}}]}], \"height\": 150, \"title\": \"SW_IN\", \"width\": 200}], \"data\": {\"name\": \"data-d3e63017707f49dde21b9b182f86de39\"}}, {\"hconcat\": [{\"layer\": [{\"mark\": {\"type\": \"point\", \"color\": \"black\", \"fillOpacity\": 1, \"strokeWidth\": 1}, \"encoding\": {\"fill\": {\"field\": \"is_present\", \"legend\": {\"title\": [\"Observed data\"]}, \"scale\": {\"range\": [\"black\", \"#ffffff00\"]}, \"type\": \"nominal\"}, \"shape\": {\"field\": \"is_present\", \"type\": \"nominal\"}, \"x\": {\"axis\": {\"domain\": true, \"labels\": true, \"ticks\": true, \"title\": \"time\"}, \"field\": \"time\", \"type\": \"temporal\"}, \"y\": {\"field\": \"value\", \"scale\": {\"zero\": false}, \"title\": \"VPD\", \"type\": \"quantitative\"}}}, {\"layer\": [{\"mark\": \"errorband\", \"encoding\": {\"color\": {\"field\": \"variable\", \"legend\": {\"title\": [\"Line: pred. mean\", \"area: +/- 2 std\"]}, \"type\": \"nominal\"}, \"x\": {\"field\": \"time\", \"type\": \"temporal\"}, \"y\": {\"field\": \"err_low\", \"scale\": {\"zero\": false}, \"title\": \"VPD\", \"type\": \"quantitative\"}, \"y2\": {\"field\": \"err_high\"}}, \"name\": \"view_47\"}, {\"mark\": \"line\", \"encoding\": {\"color\": {\"field\": \"variable\", \"type\": \"nominal\"}, \"x\": {\"field\": \"time\", \"type\": \"temporal\"}, \"y\": {\"field\": \"mean\", \"scale\": {\"zero\": false}, \"title\": \"VPD\", \"type\": \"quantitative\"}}}]}], \"height\": 150, \"title\": \"VPD\", \"width\": 200}], \"data\": {\"name\": \"data-803136d88c31c88b39c5dcd210f65f64\"}}], \"title\": \"loss: 7.097136\"}], \"params\": [{\"name\": \"param_59\", \"select\": {\"type\": \"interval\", \"encodings\": [\"x\"]}, \"bind\": \"scales\", \"views\": [\"view_42\", \"view_43\", \"view_44\"]}, {\"name\": \"param_63\", \"select\": {\"type\": \"interval\", \"encodings\": [\"x\"]}, \"bind\": \"scales\", \"views\": [\"view_45\", \"view_46\", \"view_47\"]}], \"$schema\": \"https://vega.github.io/schema/vega-lite/v5.2.0.json\", \"datasets\": {\"data-3390e7cb510483c8b7166e6b13e93dd0\": [{\"time\": \"2009-02-15T09:00:00\", \"variable\": \"TA\", \"value\": -5.97, \"is_present\": true, \"mean\": 6.186023152224507, \"std\": 5.2576253268977755, \"err_low\": -4.329227501571044, \"err_high\": 16.70127380602006}, {\"time\": \"2009-02-15T09:30:00\", \"variable\": \"TA\", \"value\": -6.05, \"is_present\": true, \"mean\": -1.7813463928104483, \"std\": 5.083378071801632, \"err_low\": -11.948102536413712, \"err_high\": 8.385409750792816}, {\"time\": \"2009-02-15T10:00:00\", \"variable\": \"TA\", \"value\": -5.75, \"is_present\": true, \"mean\": -3.7971481764109836, \"std\": 5.065029451862388, \"err_low\": -13.92720708013576, \"err_high\": 6.332910727313793}, {\"time\": \"2009-02-15T10:30:00\", \"variable\": \"TA\", \"value\": -5.28, \"is_present\": true, \"mean\": -4.754139084620954, \"std\": 5.060051326778781, \"err_low\": -14.874241738178515, \"err_high\": 5.365963568936607}, {\"time\": \"2009-02-15T11:00:00\", \"variable\": \"TA\", \"value\": -4.52, \"is_present\": true, \"mean\": -4.362860373235838, \"std\": 5.059137305787152, \"err_low\": -14.481134984810142, \"err_high\": 5.755414238338465}, {\"time\": \"2009-02-15T11:30:00\", \"variable\": \"TA\", \"value\": -3.78, \"is_present\": true, \"mean\": -3.7840828109613778, \"std\": 5.058923273684331, \"err_low\": -13.90192935833004, \"err_high\": 6.333763736407285}, {\"time\": \"2009-02-15T12:00:00\", \"variable\": \"TA\", \"value\": -3.45, \"is_present\": true, \"mean\": -3.453286555929683, \"std\": 5.058878317561445, \"err_low\": -13.571043191052572, \"err_high\": 6.664470079193206}, {\"time\": \"2009-02-15T12:30:00\", \"variable\": \"TA\", \"value\": -3.44, \"is_present\": true, \"mean\": -3.238055936799997, \"std\": 5.058868345965542, \"err_low\": -13.35579262873108, \"err_high\": 6.879680755131087}, {\"time\": \"2009-02-15T13:00:00\", \"variable\": \"TA\", \"value\": -3.55, \"is_present\": true, \"mean\": -2.683739700354348, \"std\": 5.058866190222734, \"err_low\": -12.801472080799815, \"err_high\": 7.433992680091119}, {\"time\": \"2009-02-15T13:30:00\", \"variable\": \"TA\", \"value\": -3.25, \"is_present\": true, \"mean\": -0.831372549394791, \"std\": 5.058865718351689, \"err_low\": -10.94910398609817, \"err_high\": 9.286358887308587}, {\"time\": \"2009-02-15T14:00:00\", \"variable\": \"TA\", \"value\": -3.43, \"is_present\": true, \"mean\": -1.3595186991907333, \"std\": 5.058865615674553, \"err_low\": -11.47724993053984, \"err_high\": 8.758212532158373}, {\"time\": \"2009-02-15T14:30:00\", \"variable\": \"TA\", \"value\": -3.41, \"is_present\": true, \"mean\": -1.570749062999294, \"std\": 5.05886559326867, \"err_low\": -11.688480249536633, \"err_high\": 8.546982123538045}, {\"time\": \"2009-02-15T15:00:00\", \"variable\": \"TA\", \"value\": -3.31, \"is_present\": true, \"mean\": -1.391649995451587, \"std\": 5.058865588385999, \"err_low\": -11.509381172223586, \"err_high\": 8.726081181320412}, {\"time\": \"2009-02-15T15:30:00\", \"variable\": \"TA\", \"value\": -3.36, \"is_present\": true, \"mean\": -1.5351860553159522, \"std\": 5.0588655873212725, \"err_low\": -11.652917229958497, \"err_high\": 8.582545119326593}, {\"time\": \"2009-02-15T16:00:00\", \"variable\": \"TA\", \"value\": -3.5, \"is_present\": true, \"mean\": -1.5221936295976608, \"std\": 5.058865587089171, \"err_low\": -11.639924803776003, \"err_high\": 8.595537544580681}, {\"time\": \"2009-02-15T16:30:00\", \"variable\": \"TA\", \"value\": -3.57, \"is_present\": true, \"mean\": -1.0013131206945562, \"std\": 5.058865587038564, \"err_low\": -11.119044294771685, \"err_high\": 9.116418053382572}, {\"time\": \"2009-02-15T17:00:00\", \"variable\": \"TA\", \"value\": -3.68, \"is_present\": true, \"mean\": -1.3650551830084066, \"std\": 5.0588655870275305, \"err_low\": -11.482786357063468, \"err_high\": 8.752675991046655}, {\"time\": \"2009-02-15T17:30:00\", \"variable\": \"TA\", \"value\": -3.63, \"is_present\": true, \"mean\": -1.5715029512216994, \"std\": 5.058865587025127, \"err_low\": -11.689234125271954, \"err_high\": 8.546228222828555}, {\"time\": \"2009-02-15T18:00:00\", \"variable\": \"TA\", \"value\": -3.57, \"is_present\": true, \"mean\": -1.7698306430255464, \"std\": 5.058865587024602, \"err_low\": -11.88756181707475, \"err_high\": 8.347900531023658}, {\"time\": \"2009-02-15T18:30:00\", \"variable\": \"TA\", \"value\": -3.55, \"is_present\": true, \"mean\": -1.9706897576586009, \"std\": 5.058865587024492, \"err_low\": -12.088420931707585, \"err_high\": 8.147041416390383}, {\"time\": \"2009-02-15T19:00:00\", \"variable\": \"TA\", \"value\": -3.66, \"is_present\": true, \"mean\": -2.177285203522933, \"std\": 5.058865587024461, \"err_low\": -12.295016377571855, \"err_high\": 7.940445970525989}, {\"time\": \"2009-02-15T19:30:00\", \"variable\": \"TA\", \"value\": -3.79, \"is_present\": true, \"mean\": -2.3751988077958543, \"std\": 5.0588655870244565, \"err_low\": -12.492929981844767, \"err_high\": 7.742532366253059}, {\"time\": \"2009-02-15T20:00:00\", \"variable\": \"TA\", \"value\": -3.86, \"is_present\": true, \"mean\": -2.502845509931415, \"std\": 5.058865587024456, \"err_low\": -12.620576683980326, \"err_high\": 7.614885664117496}, {\"time\": \"2009-02-15T20:30:00\", \"variable\": \"TA\", \"value\": -3.8, \"is_present\": true, \"mean\": -2.531592648088175, \"std\": 5.058865587024458, \"err_low\": -12.649323822137092, \"err_high\": 7.586138525960742}, {\"time\": \"2009-02-15T21:00:00\", \"variable\": \"TA\", \"value\": -3.67, \"is_present\": true, \"mean\": -2.510676511899071, \"std\": 5.058865587024457, \"err_low\": -12.628407685947986, \"err_high\": 7.607054662149844}, {\"time\": \"2009-02-15T21:30:00\", \"variable\": \"TA\", \"value\": -3.56, \"is_present\": true, \"mean\": -2.470332446406516, \"std\": 5.058865587024456, \"err_low\": -12.588063620455427, \"err_high\": 7.647398727642395}, {\"time\": \"2009-02-15T22:00:00\", \"variable\": \"TA\", \"value\": -3.52, \"is_present\": true, \"mean\": -2.4420063822794624, \"std\": 5.058865587024462, \"err_low\": -12.559737556328386, \"err_high\": 7.675724791769461}, {\"time\": \"2009-02-15T22:30:00\", \"variable\": \"TA\", \"value\": -3.48, \"is_present\": true, \"mean\": -2.42046127485545, \"std\": 5.058865587024452, \"err_low\": -12.538192448904354, \"err_high\": 7.697269899193454}, {\"time\": \"2009-02-15T23:00:00\", \"variable\": \"TA\", \"value\": -3.45, \"is_present\": true, \"mean\": -2.3921175394269305, \"std\": 5.058865587024464, \"err_low\": -12.509848713475858, \"err_high\": 7.725613634621997}, {\"time\": \"2009-02-15T23:30:00\", \"variable\": \"TA\", \"value\": -3.43, \"is_present\": true, \"mean\": -2.3613722102379633, \"std\": 5.05886558702446, \"err_low\": -12.479103384286883, \"err_high\": 7.756358963810957}, {\"time\": \"2009-02-16T00:00:00\", \"variable\": \"TA\", \"value\": -3.39, \"is_present\": true, \"mean\": -2.323487221179258, \"std\": 5.05886558702446, \"err_low\": -12.441218395228178, \"err_high\": 7.794243952869662}, {\"time\": \"2009-02-16T00:30:00\", \"variable\": \"TA\", \"value\": -3.33, \"is_present\": true, \"mean\": -2.275947714519992, \"std\": 5.058865587024462, \"err_low\": -12.393678888568916, \"err_high\": 7.841783459528932}, {\"time\": \"2009-02-16T01:00:00\", \"variable\": \"TA\", \"value\": -3.29, \"is_present\": true, \"mean\": -2.2289218180046326, \"std\": 5.0588655870244565, \"err_low\": -12.346652992053546, \"err_high\": 7.8888093560442805}, {\"time\": \"2009-02-16T01:30:00\", \"variable\": \"TA\", \"value\": -3.23, \"is_present\": true, \"mean\": -2.1758438160807074, \"std\": 5.058865587024456, \"err_low\": -12.293574990129619, \"err_high\": 7.941887357968204}, {\"time\": \"2009-02-16T02:00:00\", \"variable\": \"TA\", \"value\": -3.2, \"is_present\": true, \"mean\": -2.1388952040497866, \"std\": 5.058865587024459, \"err_low\": -12.256626378098705, \"err_high\": 7.978835969999132}, {\"time\": \"2009-02-16T02:30:00\", \"variable\": \"TA\", \"value\": -3.18, \"is_present\": true, \"mean\": -2.1235001432663214, \"std\": 5.058865587024456, \"err_low\": -12.241231317315233, \"err_high\": 7.99423103078259}, {\"time\": \"2009-02-16T03:00:00\", \"variable\": \"TA\", \"value\": -3.11, \"is_present\": true, \"mean\": -2.1048144445439974, \"std\": 5.058865587024453, \"err_low\": -12.222545618592903, \"err_high\": 8.012916729504909}, {\"time\": \"2009-02-16T03:30:00\", \"variable\": \"TA\", \"value\": -3.04, \"is_present\": true, \"mean\": -2.0869580096177387, \"std\": 5.058865587024455, \"err_low\": -12.204689183666648, \"err_high\": 8.03077316443117}, {\"time\": \"2009-02-16T04:00:00\", \"variable\": \"TA\", \"value\": -3.0, \"is_present\": true, \"mean\": -2.0762348425544683, \"std\": 5.0588655870244565, \"err_low\": -12.193966016603381, \"err_high\": 8.041496331494445}, {\"time\": \"2009-02-16T04:30:00\", \"variable\": \"TA\", \"value\": -2.94, \"is_present\": true, \"mean\": -2.0708767921637463, \"std\": 5.058865587024459, \"err_low\": -12.188607966212665, \"err_high\": 8.046854381885172}, {\"time\": \"2009-02-16T05:00:00\", \"variable\": \"TA\", \"value\": -2.89, \"is_present\": true, \"mean\": -2.044633860649528, \"std\": 5.05886558702446, \"err_low\": -12.162365034698448, \"err_high\": 8.073097313399392}, {\"time\": \"2009-02-16T05:30:00\", \"variable\": \"TA\", \"value\": -2.83, \"is_present\": true, \"mean\": -1.9852896497936676, \"std\": 5.058865587024456, \"err_low\": -12.103020823842579, \"err_high\": 8.132441524255244}, {\"time\": \"2009-02-16T06:00:00\", \"variable\": \"TA\", \"value\": -2.78, \"is_present\": true, \"mean\": -1.917368330598478, \"std\": 5.05886558702446, \"err_low\": -12.035099504647398, \"err_high\": 8.200362843450442}, {\"time\": \"2009-02-16T06:30:00\", \"variable\": \"TA\", \"value\": -2.71, \"is_present\": true, \"mean\": -1.8377025106233766, \"std\": 5.058865587024457, \"err_low\": -11.955433684672292, \"err_high\": 8.280028663425538}, {\"time\": \"2009-02-16T07:00:00\", \"variable\": \"TA\", \"value\": -2.61, \"is_present\": true, \"mean\": -1.7470192276874066, \"std\": 5.058865587024456, \"err_low\": -11.864750401736318, \"err_high\": 8.370711946361505}, {\"time\": \"2009-02-16T07:30:00\", \"variable\": \"TA\", \"value\": -2.55, \"is_present\": true, \"mean\": -1.6612601939601124, \"std\": 5.058865587024459, \"err_low\": -11.77899136800903, \"err_high\": 8.456470980088806}, {\"time\": \"2009-02-16T08:00:00\", \"variable\": \"TA\", \"value\": -2.45, \"is_present\": true, \"mean\": -1.5744475302876069, \"std\": 5.058865587024458, \"err_low\": -11.692178704336524, \"err_high\": 8.54328364376131}, {\"time\": \"2009-02-16T08:30:00\", \"variable\": \"TA\", \"value\": -2.38, \"is_present\": true, \"mean\": -1.5055687861755374, \"std\": 5.058865587024459, \"err_low\": -11.623299960224456, \"err_high\": 8.612162387873381}, {\"time\": \"2009-02-16T09:00:00\", \"variable\": \"TA\", \"value\": -2.24, \"is_present\": true, \"mean\": -1.337974221375795, \"std\": 5.058865587024458, \"err_low\": -11.455705395424712, \"err_high\": 8.779756952673122}, {\"time\": \"2009-02-16T09:30:00\", \"variable\": \"TA\", \"value\": -2.11, \"is_present\": true, \"mean\": -1.126481484265156, \"std\": 5.058865587024458, \"err_low\": -11.244212658314073, \"err_high\": 8.99124968978376}, {\"time\": \"2009-02-16T10:00:00\", \"variable\": \"TA\", \"value\": -1.94, \"is_present\": true, \"mean\": -0.8497400683999192, \"std\": 5.058865587024457, \"err_low\": -10.967471242448834, \"err_high\": 9.267991105648996}, {\"time\": \"2009-02-16T10:30:00\", \"variable\": \"TA\", \"value\": -1.73, \"is_present\": true, \"mean\": -0.92981451942258, \"std\": 5.0588655870244565, \"err_low\": -11.047545693471493, \"err_high\": 9.187916654626333}, {\"time\": \"2009-02-16T11:00:00\", \"variable\": \"TA\", \"value\": -1.45, \"is_present\": true, \"mean\": -0.35404977531171866, \"std\": 5.058865587024455, \"err_low\": -10.471780949360628, \"err_high\": 9.76368139873719}, {\"time\": \"2009-02-16T11:30:00\", \"variable\": \"TA\", \"value\": -1.13, \"is_present\": true, \"mean\": -0.027541160496550532, \"std\": 5.05886558702446, \"err_low\": -10.14527233454547, \"err_high\": 10.09019001355237}, {\"time\": \"2009-02-16T12:00:00\", \"variable\": \"TA\", \"value\": -0.93, \"is_present\": true, \"mean\": 0.1007554753727149, \"std\": 5.058865587024458, \"err_low\": -10.016975698676202, \"err_high\": 10.218486649421632}, {\"time\": \"2009-02-16T12:30:00\", \"variable\": \"TA\", \"value\": -0.92, \"is_present\": true, \"mean\": 0.038275632050625674, \"std\": 5.058865587024455, \"err_low\": -10.079455541998284, \"err_high\": 10.156006806099535}, {\"time\": \"2009-02-16T13:00:00\", \"variable\": \"TA\", \"value\": -0.65, \"is_present\": true, \"mean\": 0.157644253643749, \"std\": 5.058865587024452, \"err_low\": -9.960086920405155, \"err_high\": 10.275375427692653}, {\"time\": \"2009-02-16T13:30:00\", \"variable\": \"TA\", \"value\": -0.46, \"is_present\": true, \"mean\": 0.2059709723126133, \"std\": 5.058865587024457, \"err_low\": -9.911760201736302, \"err_high\": 10.323702146361528}, {\"time\": \"2009-02-16T14:00:00\", \"variable\": \"TA\", \"value\": -0.37, \"is_present\": true, \"mean\": 0.47331502584539376, \"std\": 5.05886558702446, \"err_low\": -9.644416148203526, \"err_high\": 10.591046199894315}, {\"time\": \"2009-02-16T14:30:00\", \"variable\": \"TA\", \"value\": -0.32, \"is_present\": true, \"mean\": 0.5071986396550558, \"std\": 5.058865587024455, \"err_low\": -9.610532534393855, \"err_high\": 10.624929813703964}, {\"time\": \"2009-02-16T15:00:00\", \"variable\": \"TA\", \"value\": -0.27, \"is_present\": true, \"mean\": 0.44210396519165585, \"std\": 5.058865587024463, \"err_low\": -9.67562720885727, \"err_high\": 10.559835139240581}, {\"time\": \"2009-02-16T15:30:00\", \"variable\": \"TA\", \"value\": -0.2, \"is_present\": true, \"mean\": 0.45805246700198143, \"std\": 5.058865587024458, \"err_low\": -9.659678707046936, \"err_high\": 10.575783641050897}, {\"time\": \"2009-02-16T16:00:00\", \"variable\": \"TA\", \"value\": -0.23, \"is_present\": true, \"mean\": 0.5583902587849012, \"std\": 5.05886558702446, \"err_low\": -9.55934091526402, \"err_high\": 10.67612143283382}, {\"time\": \"2009-02-16T16:30:00\", \"variable\": \"TA\", \"value\": -0.12, \"is_present\": true, \"mean\": 1.1045792277307527, \"std\": 5.058865587024458, \"err_low\": -9.013151946318164, \"err_high\": 11.22231040177967}, {\"time\": \"2009-02-16T17:00:00\", \"variable\": \"TA\", \"value\": -0.05, \"is_present\": true, \"mean\": 0.8939986588744233, \"std\": 5.0588655870244565, \"err_low\": -9.22373251517449, \"err_high\": 11.011729832923336}, {\"time\": \"2009-02-16T17:30:00\", \"variable\": \"TA\", \"value\": -0.06, \"is_present\": true, \"mean\": 0.7609902013213432, \"std\": 5.058865587024462, \"err_low\": -9.35674097272758, \"err_high\": 10.878721375370267}, {\"time\": \"2009-02-16T18:00:00\", \"variable\": \"TA\", \"value\": -0.09, \"is_present\": true, \"mean\": 0.6514800006455381, \"std\": 5.0588655870244565, \"err_low\": -9.466251173403375, \"err_high\": 10.769211174694451}, {\"time\": \"2009-02-16T18:30:00\", \"variable\": \"TA\", \"value\": -0.06, \"is_present\": true, \"mean\": 0.5677096876762118, \"std\": 5.0588655870244565, \"err_low\": -9.550021486372701, \"err_high\": 10.685440861725125}, {\"time\": \"2009-02-16T19:00:00\", \"variable\": \"TA\", \"value\": -0.01, \"is_present\": true, \"mean\": 0.5122348469710643, \"std\": 5.058865587024464, \"err_low\": -9.605496327077862, \"err_high\": 10.629966021019992}, {\"time\": \"2009-02-16T19:30:00\", \"variable\": \"TA\", \"value\": 0.03, \"is_present\": true, \"mean\": 0.45370629156359676, \"std\": 5.05886558702446, \"err_low\": -9.664024882485323, \"err_high\": 10.571437465612517}, {\"time\": \"2009-02-16T20:00:00\", \"variable\": \"TA\", \"value\": 0.03, \"is_present\": true, \"mean\": 0.41202266379807906, \"std\": 5.0588655870244565, \"err_low\": -9.705708510250833, \"err_high\": 10.529753837846993}, {\"time\": \"2009-02-16T20:30:00\", \"variable\": \"TA\", \"value\": 0.03, \"is_present\": true, \"mean\": 0.3985415596286339, \"std\": 5.0588655870244565, \"err_low\": -9.71918961442028, \"err_high\": 10.516272733677546}, {\"time\": \"2009-02-16T21:00:00\", \"variable\": \"TA\", \"value\": 0.03, \"is_present\": true, \"mean\": 0.38923357743828824, \"std\": 5.058865587024454, \"err_low\": -9.72849759661062, \"err_high\": 10.506964751487196}, {\"time\": \"2009-02-16T21:30:00\", \"variable\": \"TA\", \"value\": -0.04, \"is_present\": true, \"mean\": 0.37443435615651577, \"std\": 5.0588655870244565, \"err_low\": -9.743296817892396, \"err_high\": 10.49216553020543}, {\"time\": \"2009-02-16T22:00:00\", \"variable\": \"TA\", \"value\": -0.08, \"is_present\": true, \"mean\": 0.3660699902197786, \"std\": 5.05886558702446, \"err_low\": -9.751661183829142, \"err_high\": 10.483801164268698}, {\"time\": \"2009-02-16T22:30:00\", \"variable\": \"TA\", \"value\": -0.09, \"is_present\": true, \"mean\": 0.36641096543540197, \"std\": 5.058865587024456, \"err_low\": -9.75132020861351, \"err_high\": 10.484142139484312}, {\"time\": \"2009-02-16T23:00:00\", \"variable\": \"TA\", \"value\": -0.09, \"is_present\": true, \"mean\": 0.3730471727511757, \"std\": 5.0588655870244565, \"err_low\": -9.744684001297738, \"err_high\": 10.490778346800088}, {\"time\": \"2009-02-16T23:30:00\", \"variable\": \"TA\", \"value\": -0.02, \"is_present\": true, \"mean\": 0.39172764959749884, \"std\": 5.0588655870244565, \"err_low\": -9.726003524451414, \"err_high\": 10.509458823646412}, {\"time\": \"2009-02-17T00:00:00\", \"variable\": \"TA\", \"value\": 0.01, \"is_present\": true, \"mean\": 0.40802555061782186, \"std\": 5.058865587024454, \"err_low\": -9.709705623431086, \"err_high\": 10.52575672466673}, {\"time\": \"2009-02-17T00:30:00\", \"variable\": \"TA\", \"value\": 0.05, \"is_present\": true, \"mean\": 0.42644257519993367, \"std\": 5.05886558702446, \"err_low\": -9.691288598848987, \"err_high\": 10.544173749248854}, {\"time\": \"2009-02-17T01:00:00\", \"variable\": \"TA\", \"value\": 0.07, \"is_present\": true, \"mean\": 0.4459891711579953, \"std\": 5.058865587024456, \"err_low\": -9.671742002890916, \"err_high\": 10.563720345206907}, {\"time\": \"2009-02-17T01:30:00\", \"variable\": \"TA\", \"value\": 0.11, \"is_present\": true, \"mean\": 0.48118029205144897, \"std\": 5.058865587024462, \"err_low\": -9.636550881997476, \"err_high\": 10.598911466100372}, {\"time\": \"2009-02-17T02:00:00\", \"variable\": \"TA\", \"value\": 0.14, \"is_present\": true, \"mean\": 0.5003565558507299, \"std\": 5.05886558702446, \"err_low\": -9.617374618198191, \"err_high\": 10.61808772989965}, {\"time\": \"2009-02-17T02:30:00\", \"variable\": \"TA\", \"value\": 0.27, \"is_present\": true, \"mean\": 0.5084794709300748, \"std\": 5.0588655870244565, \"err_low\": -9.609251703118838, \"err_high\": 10.626210644978988}, {\"time\": \"2009-02-17T03:00:00\", \"variable\": \"TA\", \"value\": 0.46, \"is_present\": true, \"mean\": 0.5276606281239467, \"std\": 5.058865587024458, \"err_low\": -9.59007054592497, \"err_high\": 10.645391802172863}, {\"time\": \"2009-02-17T03:30:00\", \"variable\": \"TA\", \"value\": 0.74, \"is_present\": true, \"mean\": 0.5572325439505725, \"std\": 5.05886558702446, \"err_low\": -9.560498630098348, \"err_high\": 10.674963717999493}, {\"time\": \"2009-02-17T04:00:00\", \"variable\": \"TA\", \"value\": 0.95, \"is_present\": true, \"mean\": 0.5700429237778746, \"std\": 5.05886558702446, \"err_low\": -9.547688250271046, \"err_high\": 10.687774097826795}, {\"time\": \"2009-02-17T04:30:00\", \"variable\": \"TA\", \"value\": 1.06, \"is_present\": true, \"mean\": 0.5568453890112108, \"std\": 5.058865587024455, \"err_low\": -9.560885785037698, \"err_high\": 10.674576563060121}, {\"time\": \"2009-02-17T05:00:00\", \"variable\": \"TA\", \"value\": 1.08, \"is_present\": true, \"mean\": 0.5090687251710193, \"std\": 5.058865587024459, \"err_low\": -9.608662448877899, \"err_high\": 10.626799899219938}, {\"time\": \"2009-02-17T05:30:00\", \"variable\": \"TA\", \"value\": 1.15, \"is_present\": true, \"mean\": 0.43834576911512446, \"std\": 5.058865587024457, \"err_low\": -9.67938540493379, \"err_high\": 10.55607694316404}, {\"time\": \"2009-02-17T06:00:00\", \"variable\": \"TA\", \"value\": 1.18, \"is_present\": true, \"mean\": 0.33044681909387563, \"std\": 5.058865587024457, \"err_low\": -9.78728435495504, \"err_high\": 10.44817799314279}, {\"time\": \"2009-02-17T06:30:00\", \"variable\": \"TA\", \"value\": 1.05, \"is_present\": true, \"mean\": 0.1565933574428744, \"std\": 5.058865587024458, \"err_low\": -9.961137816606042, \"err_high\": 10.274324531491791}, {\"time\": \"2009-02-17T07:00:00\", \"variable\": \"TA\", \"value\": 0.22, \"is_present\": true, \"mean\": -0.14318048468474487, \"std\": 5.058865587024459, \"err_low\": -10.260911658733663, \"err_high\": 9.974550689364174}, {\"time\": \"2009-02-17T07:30:00\", \"variable\": \"TA\", \"value\": -0.26, \"is_present\": true, \"mean\": -0.42585441079299713, \"std\": 5.0588655870244565, \"err_low\": -10.54358558484191, \"err_high\": 9.691876763255916}, {\"time\": \"2009-02-17T08:00:00\", \"variable\": \"TA\", \"value\": -0.76, \"is_present\": true, \"mean\": -0.7725333635456479, \"std\": 5.058865587024457, \"err_low\": -10.890264537594563, \"err_high\": 9.345197810503267}, {\"time\": \"2009-02-17T08:30:00\", \"variable\": \"TA\", \"value\": -1.68, \"is_present\": true, \"mean\": -1.229103437031993, \"std\": 5.058865587024452, \"err_low\": -11.346834611080897, \"err_high\": 8.888627737016911}, {\"time\": \"2009-02-17T09:00:00\", \"variable\": \"TA\", \"value\": -2.0, \"is_present\": true, \"mean\": -1.5339525523307493, \"std\": 5.05886558702446, \"err_low\": -11.65168372637967, \"err_high\": 8.58377862171817}, {\"time\": \"2009-02-17T09:30:00\", \"variable\": \"TA\", \"value\": -2.59, \"is_present\": true, \"mean\": -1.7703737468418037, \"std\": 5.058865587024452, \"err_low\": -11.888104920890708, \"err_high\": 8.3473574272071}, {\"time\": \"2009-02-17T10:00:00\", \"variable\": \"TA\", \"value\": -2.89, \"is_present\": true, \"mean\": -2.1173295756000208, \"std\": 5.058865587024456, \"err_low\": -12.235060749648932, \"err_high\": 8.00040159844889}, {\"time\": \"2009-02-17T10:30:00\", \"variable\": \"TA\", \"value\": -3.35, \"is_present\": true, \"mean\": -4.5762985469389115, \"std\": 5.058865587024457, \"err_low\": -14.694029720987826, \"err_high\": 5.541432627110003}, {\"time\": \"2009-02-17T11:00:00\", \"variable\": \"TA\", \"value\": -3.72, \"is_present\": true, \"mean\": -4.552102034199661, \"std\": 5.058865587024457, \"err_low\": -14.669833208248576, \"err_high\": 5.5656291398492534}, {\"time\": \"2009-02-17T11:30:00\", \"variable\": \"TA\", \"value\": -4.0, \"is_present\": true, \"mean\": -4.452676763700772, \"std\": 5.058865587024457, \"err_low\": -14.570407937749687, \"err_high\": 5.665054410348143}, {\"time\": \"2009-02-17T12:00:00\", \"variable\": \"TA\", \"value\": -4.1, \"is_present\": true, \"mean\": -4.2249289570948285, \"std\": 5.05886558702446, \"err_low\": -14.342660131143749, \"err_high\": 5.892802216954092}, {\"time\": \"2009-02-17T12:30:00\", \"variable\": \"TA\", \"value\": -4.09, \"is_present\": true, \"mean\": -3.7492191592370254, \"std\": 5.058865587024461, \"err_low\": -13.866950333285947, \"err_high\": 6.3685120148118965}, {\"time\": \"2009-02-17T13:00:00\", \"variable\": \"TA\", \"value\": -4.25, \"is_present\": true, \"mean\": -3.3378083691739437, \"std\": 5.058865587024457, \"err_low\": -13.455539543222859, \"err_high\": 6.779922804874971}, {\"time\": \"2009-02-17T13:30:00\", \"variable\": \"TA\", \"value\": -4.13, \"is_present\": true, \"mean\": -3.3166160088734085, \"std\": 5.058865587024462, \"err_low\": -13.434347182922332, \"err_high\": 6.801115165175515}, {\"time\": \"2009-02-17T14:00:00\", \"variable\": \"TA\", \"value\": -4.16, \"is_present\": true, \"mean\": -2.722135199632527, \"std\": 5.058865587024456, \"err_low\": -12.839866373681438, \"err_high\": 7.395595974416384}, {\"time\": \"2009-02-17T14:30:00\", \"variable\": \"TA\", \"value\": -3.99, \"is_present\": true, \"mean\": -2.209974781668315, \"std\": 5.058865587024456, \"err_low\": -12.327705955717226, \"err_high\": 7.9077563923805965}, {\"time\": \"2009-02-17T15:00:00\", \"variable\": \"TA\", \"value\": -3.91, \"is_present\": true, \"mean\": -2.0177116137464317, \"std\": 5.058865587024456, \"err_low\": -12.135442787795343, \"err_high\": 8.10001956030248}, {\"time\": \"2009-02-17T15:30:00\", \"variable\": \"TA\", \"value\": -3.77, \"is_present\": true, \"mean\": -2.053409475724189, \"std\": 5.058865587024464, \"err_low\": -12.171140649773116, \"err_high\": 8.064321698324738}, {\"time\": \"2009-02-17T16:00:00\", \"variable\": \"TA\", \"value\": -3.83, \"is_present\": true, \"mean\": -2.0330110722485095, \"std\": 5.0588655870244565, \"err_low\": -12.150742246297423, \"err_high\": 8.084720101800404}, {\"time\": \"2009-02-17T16:30:00\", \"variable\": \"TA\", \"value\": -3.93, \"is_present\": true, \"mean\": -1.4841273002719308, \"std\": 5.058865587024456, \"err_low\": -11.601858474320842, \"err_high\": 8.63360387377698}, {\"time\": \"2009-02-17T17:00:00\", \"variable\": \"TA\", \"value\": -4.07, \"is_present\": true, \"mean\": -1.7757481332097722, \"std\": 5.058865587024463, \"err_low\": -11.893479307258698, \"err_high\": 8.341983040839153}, {\"time\": \"2009-02-17T17:30:00\", \"variable\": \"TA\", \"value\": -4.27, \"is_present\": true, \"mean\": -2.1614657862296305, \"std\": 5.0588655870244565, \"err_low\": -12.279196960278544, \"err_high\": 7.956265387819283}, {\"time\": \"2009-02-17T18:00:00\", \"variable\": \"TA\", \"value\": -4.66, \"is_present\": true, \"mean\": -2.687961432635957, \"std\": 5.058865587024461, \"err_low\": -12.805692606684879, \"err_high\": 7.429769741412965}, {\"time\": \"2009-02-17T18:30:00\", \"variable\": \"TA\", \"value\": -4.9, \"is_present\": true, \"mean\": -3.2672560772362242, \"std\": 5.058865587024454, \"err_low\": -13.384987251285132, \"err_high\": 6.8504750968126835}, {\"time\": \"2009-02-17T19:00:00\", \"variable\": \"TA\", \"value\": -5.11, \"is_present\": true, \"mean\": -3.7451900175518773, \"std\": 5.058865587024464, \"err_low\": -13.862921191600805, \"err_high\": 6.37254115649705}, {\"time\": \"2009-02-17T19:30:00\", \"variable\": \"TA\", \"value\": -5.3, \"is_present\": true, \"mean\": -4.2039515285389175, \"std\": 5.058865587024457, \"err_low\": -14.321682702587832, \"err_high\": 5.913779645509997}, {\"time\": \"2009-02-17T20:00:00\", \"variable\": \"TA\", \"value\": -5.48, \"is_present\": true, \"mean\": -4.579058946949123, \"std\": 5.058865587024457, \"err_low\": -14.696790120998038, \"err_high\": 5.5386722270997915}, {\"time\": \"2009-02-17T20:30:00\", \"variable\": \"TA\", \"value\": -5.62, \"is_present\": true, \"mean\": -4.87934675535568, \"std\": 5.058865587024457, \"err_low\": -14.997077929404595, \"err_high\": 5.238384418693235}, {\"time\": \"2009-02-17T21:00:00\", \"variable\": \"TA\", \"value\": -5.64, \"is_present\": true, \"mean\": -5.136380953137563, \"std\": 5.058865587024462, \"err_low\": -15.254112127186486, \"err_high\": 4.981350220911361}, {\"time\": \"2009-02-17T21:30:00\", \"variable\": \"TA\", \"value\": -5.69, \"is_present\": true, \"mean\": -5.385856541158066, \"std\": 5.058865587024456, \"err_low\": -15.503587715206978, \"err_high\": 4.731874632890845}, {\"time\": \"2009-02-17T22:00:00\", \"variable\": \"TA\", \"value\": -5.8, \"is_present\": true, \"mean\": -5.645236467640901, \"std\": 5.058865587024457, \"err_low\": -15.762967641689816, \"err_high\": 4.472494706408014}, {\"time\": \"2009-02-17T22:30:00\", \"variable\": \"TA\", \"value\": -5.88, \"is_present\": true, \"mean\": -5.910487614187499, \"std\": 5.05886558702446, \"err_low\": -16.02821878823642, \"err_high\": 4.207243559861421}, {\"time\": \"2009-02-17T23:00:00\", \"variable\": \"TA\", \"value\": -5.96, \"is_present\": true, \"mean\": -6.12665864525429, \"std\": 5.058865587024461, \"err_low\": -16.244389819303212, \"err_high\": 3.991072528794632}, {\"time\": \"2009-02-17T23:30:00\", \"variable\": \"TA\", \"value\": -6.02, \"is_present\": true, \"mean\": -6.263102773521084, \"std\": 5.058865587024458, \"err_low\": -16.38083394757, \"err_high\": 3.854628400527833}, {\"time\": \"2009-02-18T00:00:00\", \"variable\": \"TA\", \"value\": -6.07, \"is_present\": true, \"mean\": -6.387913511924307, \"std\": 5.058865587024457, \"err_low\": -16.505644685973223, \"err_high\": 3.729817662124608}, {\"time\": \"2009-02-18T00:30:00\", \"variable\": \"TA\", \"value\": -6.07, \"is_present\": true, \"mean\": -6.493264598914871, \"std\": 5.058865587024459, \"err_low\": -16.61099577296379, \"err_high\": 3.624466575134047}, {\"time\": \"2009-02-18T01:00:00\", \"variable\": \"TA\", \"value\": -6.05, \"is_present\": true, \"mean\": -6.590659180229771, \"std\": 5.058865587024456, \"err_low\": -16.708390354278684, \"err_high\": 3.52707199381914}, {\"time\": \"2009-02-18T01:30:00\", \"variable\": \"TA\", \"value\": -6.11, \"is_present\": true, \"mean\": -6.713613418979669, \"std\": 5.058865587024464, \"err_low\": -16.831344593028597, \"err_high\": 3.404117755069258}, {\"time\": \"2009-02-18T02:00:00\", \"variable\": \"TA\", \"value\": -6.34, \"is_present\": true, \"mean\": -6.828390397651646, \"std\": 5.058865587024462, \"err_low\": -16.94612157170057, \"err_high\": 3.289340776397278}, {\"time\": \"2009-02-18T02:30:00\", \"variable\": \"TA\", \"value\": -6.37, \"is_present\": true, \"mean\": -6.8414651000280156, \"std\": 5.058865587024477, \"err_low\": -16.95919627407697, \"err_high\": 3.2762660740209384}, {\"time\": \"2009-02-18T03:00:00\", \"variable\": \"TA\", \"value\": -6.46, \"is_present\": true, \"mean\": -6.844781780401918, \"std\": 5.0588655870245365, \"err_low\": -16.962512954450993, \"err_high\": 3.2729493936471545}, {\"time\": \"2009-02-18T03:30:00\", \"variable\": \"TA\", \"value\": -6.41, \"is_present\": true, \"mean\": -6.811793960735061, \"std\": 5.058865587024842, \"err_low\": -16.929525134784747, \"err_high\": 3.305937213314623}, {\"time\": \"2009-02-18T04:00:00\", \"variable\": \"TA\", \"value\": -6.56, \"is_present\": true, \"mean\": -6.818203673325188, \"std\": 5.058865587026218, \"err_low\": -16.935934847377624, \"err_high\": 3.2995275007272475}, {\"time\": \"2009-02-18T04:30:00\", \"variable\": \"TA\", \"value\": -6.55, \"is_present\": true, \"mean\": -6.7907154598562975, \"std\": 5.0588655870325425, \"err_low\": -16.908446633921383, \"err_high\": 3.3270157142087875}, {\"time\": \"2009-02-18T05:00:00\", \"variable\": \"TA\", \"value\": -6.47, \"is_present\": true, \"mean\": -6.75925897420686, \"std\": 5.058865587061554, \"err_low\": -16.876990148329966, \"err_high\": 3.358472199916248}, {\"time\": \"2009-02-18T05:30:00\", \"variable\": \"TA\", \"value\": -6.49, \"is_present\": true, \"mean\": -6.7712282898205185, \"std\": 5.058865587194603, \"err_low\": -16.888959464209726, \"err_high\": 3.3465028845686877}, {\"time\": \"2009-02-18T06:00:00\", \"variable\": \"TA\", \"value\": -6.61, \"is_present\": true, \"mean\": -6.823955498155826, \"std\": 5.058865587804936, \"err_low\": -16.941686673765698, \"err_high\": 3.2937756774540468}, {\"time\": \"2009-02-18T06:30:00\", \"variable\": \"TA\", \"value\": -6.51, \"is_present\": true, \"mean\": -6.832932302425284, \"std\": 5.058865590603963, \"err_low\": -16.95066348363321, \"err_high\": 3.2847988787826417}, {\"time\": \"2009-02-18T07:00:00\", \"variable\": \"TA\", \"value\": -6.56, \"is_present\": true, \"mean\": -6.815594187813636, \"std\": 5.058865603446957, \"err_low\": -16.933325394707552, \"err_high\": 3.302137019080279}, {\"time\": \"2009-02-18T07:30:00\", \"variable\": \"TA\", \"value\": -6.64, \"is_present\": true, \"mean\": -6.838649995140077, \"std\": 5.058865662314125, \"err_low\": -16.956381319768326, \"err_high\": 3.2790813294881733}, {\"time\": \"2009-02-18T08:00:00\", \"variable\": \"TA\", \"value\": -6.54, \"is_present\": true, \"mean\": -6.906512780461249, \"std\": 5.05886593272467, \"err_low\": -17.02424464591059, \"err_high\": 3.211219084988091}, {\"time\": \"2009-02-18T08:30:00\", \"variable\": \"TA\", \"value\": -6.19, \"is_present\": true, \"mean\": -6.852333539715399, \"std\": 5.0588671692683365, \"err_low\": -16.970067878252074, \"err_high\": 3.2654007988212737}, {\"time\": \"2009-02-18T09:00:00\", \"variable\": \"TA\", \"value\": -4.97, \"is_present\": true, \"mean\": -6.179967491681317, \"std\": 5.058872877571736, \"err_low\": -16.29771324682479, \"err_high\": 3.937778263462155}, {\"time\": \"2009-02-18T09:30:00\", \"variable\": \"TA\", \"value\": -4.18, \"is_present\": true, \"mean\": -5.414316762829378, \"std\": 5.058898718374717, \"err_low\": -15.532114199578812, \"err_high\": 4.7034806739200565}, {\"time\": \"2009-02-18T10:00:00\", \"variable\": \"TA\", \"value\": -3.86, \"is_present\": true, \"mean\": -4.777992589118028, \"std\": 5.059020668523594, \"err_low\": -14.896033926165217, \"err_high\": 5.34004874792916}, {\"time\": \"2009-02-18T10:30:00\", \"variable\": \"TA\", \"value\": -3.33, \"is_present\": true, \"mean\": -4.9832551782779735, \"std\": 5.059550518774927, \"err_low\": -15.102356215827827, \"err_high\": 5.13584585927188}, {\"time\": \"2009-02-18T11:00:00\", \"variable\": \"TA\", \"value\": -3.26, \"is_present\": true, \"mean\": -4.401492222981458, \"std\": 5.062336888554375, \"err_low\": -14.526166000090209, \"err_high\": 5.723181554127292}, {\"time\": \"2009-02-18T11:30:00\", \"variable\": \"TA\", \"value\": -3.47, \"is_present\": true, \"mean\": -3.9826000897411973, \"std\": 5.073219533497201, \"err_low\": -14.1290391567356, \"err_high\": 6.163838977253205}, {\"time\": \"2009-02-18T12:00:00\", \"variable\": \"TA\", \"value\": -3.17, \"is_present\": false, \"mean\": -3.640092312099565, \"std\": 5.183143629485975, \"err_low\": -14.006379571071514, \"err_high\": 6.7261949468723845}, {\"time\": \"2009-02-18T12:30:00\", \"variable\": \"TA\", \"value\": -2.49, \"is_present\": false, \"mean\": -3.3756620338381076, \"std\": 5.199944650209079, \"err_low\": -13.775551334256265, \"err_high\": 7.02422726658005}, {\"time\": \"2009-02-18T13:00:00\", \"variable\": \"TA\", \"value\": -2.88, \"is_present\": false, \"mean\": -2.769745845418832, \"std\": 5.205702669723218, \"err_low\": -13.181151184865268, \"err_high\": 7.6416594940276035}, {\"time\": \"2009-02-18T13:30:00\", \"variable\": \"TA\", \"value\": -2.33, \"is_present\": false, \"mean\": -1.0847868551586224, \"std\": 5.207283156917954, \"err_low\": -11.49935316899453, \"err_high\": 9.329779458677285}, {\"time\": \"2009-02-18T14:00:00\", \"variable\": \"TA\", \"value\": -2.72, \"is_present\": false, \"mean\": -0.49248147337233306, \"std\": 5.207735222598272, \"err_low\": -10.907951918568877, \"err_high\": 9.92298897182421}, {\"time\": \"2009-02-18T14:30:00\", \"variable\": \"TA\", \"value\": -2.59, \"is_present\": false, \"mean\": -0.18895095213230206, \"std\": 5.207735222598273, \"err_low\": -10.604421397328847, \"err_high\": 10.226519493064243}, {\"time\": \"2009-02-18T15:00:00\", \"variable\": \"TA\", \"value\": -2.24, \"is_present\": false, \"mean\": -0.04648939528773077, \"std\": 5.207283156917954, \"err_low\": -10.461055709123638, \"err_high\": 10.368076918548176}, {\"time\": \"2009-02-18T15:30:00\", \"variable\": \"TA\", \"value\": -2.58, \"is_present\": false, \"mean\": -0.1791496011892182, \"std\": 5.205702669723223, \"err_low\": -10.590554940635664, \"err_high\": 10.232255738257228}, {\"time\": \"2009-02-18T16:00:00\", \"variable\": \"TA\", \"value\": -3.23, \"is_present\": false, \"mean\": -0.22889580909514073, \"std\": 5.199944650209081, \"err_low\": -10.628785109513302, \"err_high\": 10.17099349132302}, {\"time\": \"2009-02-18T16:30:00\", \"variable\": \"TA\", \"value\": -3.26, \"is_present\": false, \"mean\": 0.6480283450738291, \"std\": 5.1831436294859765, \"err_low\": -9.718258913898124, \"err_high\": 11.014315604045782}, {\"time\": \"2009-02-18T17:00:00\", \"variable\": \"TA\", \"value\": -3.77, \"is_present\": true, \"mean\": -0.6417569969256647, \"std\": 5.073219533497208, \"err_low\": -10.788196063920081, \"err_high\": 9.504682070068752}, {\"time\": \"2009-02-18T17:30:00\", \"variable\": \"TA\", \"value\": -4.07, \"is_present\": true, \"mean\": -1.4005029716840411, \"std\": 5.062336888554374, \"err_low\": -11.52517674879279, \"err_high\": 8.724170805424707}, {\"time\": \"2009-02-18T18:00:00\", \"variable\": \"TA\", \"value\": -4.61, \"is_present\": true, \"mean\": -2.195836026971321, \"std\": 5.059550518774927, \"err_low\": -12.314937064521175, \"err_high\": 7.9232650105785325}, {\"time\": \"2009-02-18T18:30:00\", \"variable\": \"TA\", \"value\": -4.82, \"is_present\": true, \"mean\": -3.0177707930368314, \"std\": 5.059020668523596, \"err_low\": -13.135812130084023, \"err_high\": 7.10027054401036}, {\"time\": \"2009-02-18T19:00:00\", \"variable\": \"TA\", \"value\": -4.87, \"is_present\": true, \"mean\": -3.6486843084935607, \"std\": 5.0588987183747145, \"err_low\": -13.76648174524299, \"err_high\": 6.469113128255868}, {\"time\": \"2009-02-18T19:30:00\", \"variable\": \"TA\", \"value\": -4.91, \"is_present\": true, \"mean\": -4.277859067118255, \"std\": 5.058872877571734, \"err_low\": -14.395604822261724, \"err_high\": 5.839886688025214}, {\"time\": \"2009-02-18T20:00:00\", \"variable\": \"TA\", \"value\": -5.08, \"is_present\": true, \"mean\": -4.7445368951491975, \"std\": 5.058867169268345, \"err_low\": -14.862271233685888, \"err_high\": 5.373197443387493}, {\"time\": \"2009-02-18T20:30:00\", \"variable\": \"TA\", \"value\": -5.21, \"is_present\": true, \"mean\": -4.955855561952868, \"std\": 5.058865932724667, \"err_low\": -15.073587427402202, \"err_high\": 5.1618763034964665}, {\"time\": \"2009-02-18T21:00:00\", \"variable\": \"TA\", \"value\": -5.4, \"is_present\": true, \"mean\": -5.105190502986121, \"std\": 5.058865662314123, \"err_low\": -15.222921827614366, \"err_high\": 5.0125408216421246}, {\"time\": \"2009-02-18T21:30:00\", \"variable\": \"TA\", \"value\": -5.34, \"is_present\": true, \"mean\": -5.177621275123277, \"std\": 5.058865603446957, \"err_low\": -15.295352482017192, \"err_high\": 4.940109931770637}, {\"time\": \"2009-02-18T22:00:00\", \"variable\": \"TA\", \"value\": -5.41, \"is_present\": true, \"mean\": -5.262036015936701, \"std\": 5.058865590603965, \"err_low\": -15.37976719714463, \"err_high\": 4.855695165271229}, {\"time\": \"2009-02-18T22:30:00\", \"variable\": \"TA\", \"value\": -5.51, \"is_present\": true, \"mean\": -5.33398989352696, \"std\": 5.058865587804931, \"err_low\": -15.451721069136822, \"err_high\": 4.783741282082902}, {\"time\": \"2009-02-18T23:00:00\", \"variable\": \"TA\", \"value\": -5.75, \"is_present\": true, \"mean\": -5.45669472474645, \"std\": 5.058865587194606, \"err_low\": -15.574425899135662, \"err_high\": 4.661036449642761}, {\"time\": \"2009-02-18T23:30:00\", \"variable\": \"TA\", \"value\": -5.68, \"is_present\": true, \"mean\": -5.554299976249849, \"std\": 5.058865587061556, \"err_low\": -15.67203115037296, \"err_high\": 4.563431197873262}, {\"time\": \"2009-02-19T00:00:00\", \"variable\": \"TA\", \"value\": -5.73, \"is_present\": true, \"mean\": -5.67601744427591, \"std\": 5.058865587032546, \"err_low\": -15.793748618341002, \"err_high\": 4.441713729789182}, {\"time\": \"2009-02-19T00:30:00\", \"variable\": \"TA\", \"value\": -5.69, \"is_present\": true, \"mean\": -5.767771170015886, \"std\": 5.058865587026216, \"err_low\": -15.885502344068318, \"err_high\": 4.3499600040365465}, {\"time\": \"2009-02-19T01:00:00\", \"variable\": \"TA\", \"value\": -5.61, \"is_present\": true, \"mean\": -5.8615796548863095, \"std\": 5.05886558702484, \"err_low\": -15.97931082893599, \"err_high\": 4.256151519163371}, {\"time\": \"2009-02-19T01:30:00\", \"variable\": \"TA\", \"value\": -5.71, \"is_present\": true, \"mean\": -6.02604385654903, \"std\": 5.05886558702454, \"err_low\": -16.14377503059811, \"err_high\": 4.09168731750005}, {\"time\": \"2009-02-19T02:00:00\", \"variable\": \"TA\", \"value\": -6.35, \"is_present\": true, \"mean\": -6.296084208688056, \"std\": 5.0588655870244805, \"err_low\": -16.413815382737017, \"err_high\": 3.8216469653609053}, {\"time\": \"2009-02-19T02:30:00\", \"variable\": \"TA\", \"value\": -6.57, \"is_present\": true, \"mean\": -6.465432277872102, \"std\": 5.058865587024461, \"err_low\": -16.583163451921024, \"err_high\": 3.65229889617682}, {\"time\": \"2009-02-19T03:00:00\", \"variable\": \"TA\", \"value\": -6.86, \"is_present\": true, \"mean\": -6.623442287170095, \"std\": 5.0588655870244645, \"err_low\": -16.741173461219024, \"err_high\": 3.4942888868788344}, {\"time\": \"2009-02-19T03:30:00\", \"variable\": \"TA\", \"value\": -7.21, \"is_present\": true, \"mean\": -6.770530897558459, \"std\": 5.058865587024487, \"err_low\": -16.888262071607432, \"err_high\": 3.347200276490515}, {\"time\": \"2009-02-19T04:00:00\", \"variable\": \"TA\", \"value\": -7.01, \"is_present\": true, \"mean\": -6.763984854987363, \"std\": 5.058865587024596, \"err_low\": -16.881716029036554, \"err_high\": 3.3537463190618286}, {\"time\": \"2009-02-19T04:30:00\", \"variable\": \"TA\", \"value\": -6.99, \"is_present\": true, \"mean\": -6.769120587916371, \"std\": 5.0588655870250685, \"err_low\": -16.886851761966508, \"err_high\": 3.3486105861337663}, {\"time\": \"2009-02-19T05:00:00\", \"variable\": \"TA\", \"value\": -7.05, \"is_present\": true, \"mean\": -6.765485897512173, \"std\": 5.058865587027258, \"err_low\": -16.88321707156669, \"err_high\": 3.3522452765423427}, {\"time\": \"2009-02-19T05:30:00\", \"variable\": \"TA\", \"value\": -6.74, \"is_present\": true, \"mean\": -6.674347719083771, \"std\": 5.058865587037322, \"err_low\": -16.792078893158415, \"err_high\": 3.4433834549908724}, {\"time\": \"2009-02-19T06:00:00\", \"variable\": \"TA\", \"value\": -6.54, \"is_present\": true, \"mean\": -6.592747729768231, \"std\": 5.058865587083469, \"err_low\": -16.71047890393517, \"err_high\": 3.524983444398707}, {\"time\": \"2009-02-19T06:30:00\", \"variable\": \"TA\", \"value\": -6.79, \"is_present\": true, \"mean\": -6.608296869359643, \"std\": 5.058865587295103, \"err_low\": -16.72602804394985, \"err_high\": 3.509434305230563}, {\"time\": \"2009-02-19T07:00:00\", \"variable\": \"TA\", \"value\": -6.76, \"is_present\": true, \"mean\": -6.5804881991566635, \"std\": 5.058865588265951, \"err_low\": -16.698219375688566, \"err_high\": 3.5372429773752376}, {\"time\": \"2009-02-19T07:30:00\", \"variable\": \"TA\", \"value\": -6.86, \"is_present\": true, \"mean\": -6.628905558665393, \"std\": 5.058865592718381, \"err_low\": -16.746636744102155, \"err_high\": 3.4888256267713693}, {\"time\": \"2009-02-19T08:00:00\", \"variable\": \"TA\", \"value\": -7.25, \"is_present\": true, \"mean\": -6.896946142726673, \"std\": 5.058865613147087, \"err_low\": -17.014677369020845, \"err_high\": 3.2207850835675007}, {\"time\": \"2009-02-19T08:30:00\", \"variable\": \"TA\", \"value\": -7.38, \"is_present\": true, \"mean\": -7.096903406642648, \"std\": 5.0588657067901766, \"err_low\": -17.214634820223, \"err_high\": 3.0208280069377054}, {\"time\": \"2009-02-19T09:00:00\", \"variable\": \"TA\", \"value\": -7.33, \"is_present\": true, \"mean\": -6.856929929179108, \"std\": 5.058866136869664, \"err_low\": -16.974662202918438, \"err_high\": 3.2608023445602203}, {\"time\": \"2009-02-19T09:30:00\", \"variable\": \"TA\", \"value\": -6.66, \"is_present\": true, \"mean\": -6.129468765702596, \"std\": 5.058868103872166, \"err_low\": -16.247204973446927, \"err_high\": 3.988267442041737}, {\"time\": \"2009-02-19T10:00:00\", \"variable\": \"TA\", \"value\": -5.8, \"is_present\": true, \"mean\": -5.290040210464991, \"std\": 5.05887717200877, \"err_low\": -15.40779455448253, \"err_high\": 4.827714133552549}, {\"time\": \"2009-02-19T10:30:00\", \"variable\": \"TA\", \"value\": -5.17, \"is_present\": true, \"mean\": -5.279715544548502, \"std\": 5.058918138630377, \"err_low\": -15.397551821809255, \"err_high\": 4.838120732712252}, {\"time\": \"2009-02-19T11:00:00\", \"variable\": \"TA\", \"value\": -4.36, \"is_present\": true, \"mean\": -4.326130166876798, \"std\": 5.05910786784308, \"err_low\": -14.444345902562958, \"err_high\": 5.792085568809362}, {\"time\": \"2009-02-19T11:30:00\", \"variable\": \"TA\", \"value\": -3.54, \"is_present\": true, \"mean\": -3.5097720855516616, \"std\": 5.05987735120065, \"err_low\": -13.629526787952962, \"err_high\": 6.6099826168496385}, {\"time\": \"2009-02-19T12:00:00\", \"variable\": \"TA\", \"value\": -3.01, \"is_present\": true, \"mean\": -2.7885209842597725, \"std\": 5.063005549679653, \"err_low\": -12.91453208361908, \"err_high\": 7.337490115099534}, {\"time\": \"2009-02-19T12:30:00\", \"variable\": \"TA\", \"value\": -2.6, \"is_present\": true, \"mean\": -1.8064799164582883, \"std\": 5.121504333986461, \"err_low\": -12.049488584431211, \"err_high\": 8.436528751514635}], \"data-d2ceea72a38e994fd7480ecc07349c4f\": [{\"gap_start\": \"2009-02-18T12:00:00\", \"gap_end\": \"2009-02-18T16:30:00\"}], \"data-e240e73172c9e7898df978fb0087c008\": [{\"time\": \"2009-02-15T09:00:00\", \"variable\": \"SW_IN\", \"value\": 99.68, \"is_present\": true, \"mean\": 96.13065376716463, \"std\": 232.766273950474, \"err_low\": -369.40189413378334, \"err_high\": 561.6632016681126}, {\"time\": \"2009-02-15T09:30:00\", \"variable\": \"SW_IN\", \"value\": 119.34, \"is_present\": true, \"mean\": 81.76407314459311, \"std\": 229.5257189913474, \"err_low\": -377.28736483810167, \"err_high\": 540.8155111272879}, {\"time\": \"2009-02-15T10:00:00\", \"variable\": \"SW_IN\", \"value\": 149.78, \"is_present\": true, \"mean\": 55.651694113391756, \"std\": 229.41736862770094, \"err_low\": -403.1830431420101, \"err_high\": 514.4864313687937}, {\"time\": \"2009-02-15T10:30:00\", \"variable\": \"SW_IN\", \"value\": 198.38, \"is_present\": true, \"mean\": 78.50997563886537, \"std\": 229.41088062301853, \"err_low\": -380.3117856071717, \"err_high\": 537.3317368849024}, {\"time\": \"2009-02-15T11:00:00\", \"variable\": \"SW_IN\", \"value\": 312.32, \"is_present\": true, \"mean\": 111.50990417278751, \"std\": 229.40995482878762, \"err_low\": -347.3100054847877, \"err_high\": 570.3298138303628}, {\"time\": \"2009-02-15T11:30:00\", \"variable\": \"SW_IN\", \"value\": 376.19, \"is_present\": true, \"mean\": 135.9029184328682, \"std\": 229.4098743146248, \"err_low\": -322.9168301963814, \"err_high\": 594.7226670621178}, {\"time\": \"2009-02-15T12:00:00\", \"variable\": \"SW_IN\", \"value\": 344.522, \"is_present\": true, \"mean\": 132.97617781857193, \"std\": 229.409851606461, \"err_low\": -325.8435253943501, \"err_high\": 591.7958810314939}, {\"time\": \"2009-02-15T12:30:00\", \"variable\": \"SW_IN\", \"value\": 311.83, \"is_present\": true, \"mean\": 122.49884994487385, \"std\": 229.40984759611914, \"err_low\": -336.32084524736445, \"err_high\": 581.3185451371121}, {\"time\": \"2009-02-15T13:00:00\", \"variable\": \"SW_IN\", \"value\": 377.75, \"is_present\": true, \"mean\": 132.84966620665224, \"std\": 229.40984664299492, \"err_low\": -325.97002707933757, \"err_high\": 591.6693594926421}, {\"time\": \"2009-02-15T13:30:00\", \"variable\": \"SW_IN\", \"value\": 382.8, \"is_present\": true, \"mean\": 112.13153699478643, \"std\": 229.40984644442625, \"err_low\": -346.6881558940661, \"err_high\": 570.9512298836389}, {\"time\": \"2009-02-15T14:00:00\", \"variable\": \"SW_IN\", \"value\": 210.62, \"is_present\": true, \"mean\": 70.4643057639717, \"std\": 229.40984640021955, \"err_low\": -388.3553870364674, \"err_high\": 529.2839985644108}, {\"time\": \"2009-02-15T14:30:00\", \"variable\": \"SW_IN\", \"value\": 165.86, \"is_present\": true, \"mean\": 55.35880450236458, \"std\": 229.40984639067995, \"err_low\": -403.4608882789953, \"err_high\": 514.1784972837245}, {\"time\": \"2009-02-15T15:00:00\", \"variable\": \"SW_IN\", \"value\": 240.06, \"is_present\": true, \"mean\": 64.39550249712579, \"std\": 229.4098463885901, \"err_low\": -394.4241902800544, \"err_high\": 523.215195274306}, {\"time\": \"2009-02-15T15:30:00\", \"variable\": \"SW_IN\", \"value\": 141.59, \"is_present\": true, \"mean\": 40.862874375369515, \"std\": 229.40984638813538, \"err_low\": -417.9568184009012, \"err_high\": 499.6825671516403}, {\"time\": \"2009-02-15T16:00:00\", \"variable\": \"SW_IN\", \"value\": 128.46, \"is_present\": true, \"mean\": 31.875842005133265, \"std\": 229.40984638803624, \"err_low\": -426.9438507709392, \"err_high\": 490.69553478120577}, {\"time\": \"2009-02-15T16:30:00\", \"variable\": \"SW_IN\", \"value\": 75.99, \"is_present\": true, \"mean\": 5.842718644346206, \"std\": 229.40984638801453, \"err_low\": -452.9769741316828, \"err_high\": 464.6624114203753}, {\"time\": \"2009-02-15T17:00:00\", \"variable\": \"SW_IN\", \"value\": 42.91, \"is_present\": true, \"mean\": -5.933688608074178, \"std\": 229.4098463880097, \"err_low\": -464.7533813840936, \"err_high\": 452.8860041679452}, {\"time\": \"2009-02-15T17:30:00\", \"variable\": \"SW_IN\", \"value\": 13.13, \"is_present\": true, \"mean\": -14.908875728286247, \"std\": 229.40984638800896, \"err_low\": -473.7285685043042, \"err_high\": 443.91081704773165}, {\"time\": \"2009-02-15T18:00:00\", \"variable\": \"SW_IN\", \"value\": 0.69, \"is_present\": true, \"mean\": -18.534362100992, \"std\": 229.40984638800873, \"err_low\": -477.35405487700945, \"err_high\": 440.2853306750255}, {\"time\": \"2009-02-15T18:30:00\", \"variable\": \"SW_IN\", \"value\": 0.0, \"is_present\": true, \"mean\": -20.242196328231117, \"std\": 229.4098463880086, \"err_low\": -479.0618891042483, \"err_high\": 438.5774964477861}, {\"time\": \"2009-02-15T19:00:00\", \"variable\": \"SW_IN\", \"value\": 0.0, \"is_present\": true, \"mean\": -23.79259588382068, \"std\": 229.40984638800856, \"err_low\": -482.6122886598378, \"err_high\": 435.0270968921964}, {\"time\": \"2009-02-15T19:30:00\", \"variable\": \"SW_IN\", \"value\": 0.0, \"is_present\": true, \"mean\": -27.045291860605843, \"std\": 229.40984638800887, \"err_low\": -485.8649846366236, \"err_high\": 431.7744009154119}, {\"time\": \"2009-02-15T20:00:00\", \"variable\": \"SW_IN\", \"value\": 0.0, \"is_present\": true, \"mean\": -29.10221051440145, \"std\": 229.40984638800813, \"err_low\": -487.92190329041773, \"err_high\": 429.7174822616148}, {\"time\": \"2009-02-15T20:30:00\", \"variable\": \"SW_IN\", \"value\": 0.0, \"is_present\": true, \"mean\": -29.302561335391815, \"std\": 229.40984638800873, \"err_low\": -488.1222541114093, \"err_high\": 429.51713144062563}, {\"time\": \"2009-02-15T21:00:00\", \"variable\": \"SW_IN\", \"value\": 0.0, \"is_present\": true, \"mean\": -27.95212130133551, \"std\": 229.40984638800887, \"err_low\": -486.77181407735327, \"err_high\": 430.8675714746822}, {\"time\": \"2009-02-15T21:30:00\", \"variable\": \"SW_IN\", \"value\": 0.0, \"is_present\": true, \"mean\": -26.40790364449593, \"std\": 229.40984638800873, \"err_low\": -485.2275964205134, \"err_high\": 432.4117891315215}, {\"time\": \"2009-02-15T22:00:00\", \"variable\": \"SW_IN\", \"value\": 0.0, \"is_present\": true, \"mean\": -25.774564274863295, \"std\": 229.4098463880087, \"err_low\": -484.5942570508807, \"err_high\": 433.0451285011541}, {\"time\": \"2009-02-15T22:30:00\", \"variable\": \"SW_IN\", \"value\": 0.0, \"is_present\": true, \"mean\": -25.533262174008755, \"std\": 229.40984638800842, \"err_low\": -484.3529549500256, \"err_high\": 433.28643060200807}, {\"time\": \"2009-02-15T23:00:00\", \"variable\": \"SW_IN\", \"value\": 0.0, \"is_present\": true, \"mean\": -25.20118236764496, \"std\": 229.4098463880089, \"err_low\": -484.02087514366275, \"err_high\": 433.61851040837286}, {\"time\": \"2009-02-15T23:30:00\", \"variable\": \"SW_IN\", \"value\": 0.0, \"is_present\": true, \"mean\": -25.255912435057397, \"std\": 229.4098463880087, \"err_low\": -484.0756052110748, \"err_high\": 433.56378034096}, {\"time\": \"2009-02-16T00:00:00\", \"variable\": \"SW_IN\", \"value\": 0.0, \"is_present\": true, \"mean\": -24.973135567107178, \"std\": 229.40984638800873, \"err_low\": -483.79282834312465, \"err_high\": 433.84655720891027}, {\"time\": \"2009-02-16T00:30:00\", \"variable\": \"SW_IN\", \"value\": 0.0, \"is_present\": true, \"mean\": -24.31287928669842, \"std\": 229.40984638800887, \"err_low\": -483.1325720627162, \"err_high\": 434.5068134893193}, {\"time\": \"2009-02-16T01:00:00\", \"variable\": \"SW_IN\", \"value\": 0.0, \"is_present\": true, \"mean\": -23.745225147593416, \"std\": 229.4098463880085, \"err_low\": -482.56491792361044, \"err_high\": 435.0744676284236}, {\"time\": \"2009-02-16T01:30:00\", \"variable\": \"SW_IN\", \"value\": 0.0, \"is_present\": true, \"mean\": -22.99717244566024, \"std\": 229.4098463880088, \"err_low\": -481.8168652216778, \"err_high\": 435.82252033035735}, {\"time\": \"2009-02-16T02:00:00\", \"variable\": \"SW_IN\", \"value\": 0.0, \"is_present\": true, \"mean\": -22.416199180789036, \"std\": 229.4098463880088, \"err_low\": -481.2358919568066, \"err_high\": 436.40349359522855}, {\"time\": \"2009-02-16T02:30:00\", \"variable\": \"SW_IN\", \"value\": 0.0, \"is_present\": true, \"mean\": -21.90667192545571, \"std\": 229.40984638800882, \"err_low\": -480.72636470147336, \"err_high\": 436.9130208505619}, {\"time\": \"2009-02-16T03:00:00\", \"variable\": \"SW_IN\", \"value\": 0.0, \"is_present\": true, \"mean\": -21.177020952332825, \"std\": 229.4098463880085, \"err_low\": -479.99671372834985, \"err_high\": 437.64267182368417}, {\"time\": \"2009-02-16T03:30:00\", \"variable\": \"SW_IN\", \"value\": 0.0, \"is_present\": true, \"mean\": -20.375033010484216, \"std\": 229.40984638800842, \"err_low\": -479.19472578650107, \"err_high\": 438.4446597655326}, {\"time\": \"2009-02-16T04:00:00\", \"variable\": \"SW_IN\", \"value\": 0.0, \"is_present\": true, \"mean\": -19.868833559150247, \"std\": 229.4098463880085, \"err_low\": -478.68852633516724, \"err_high\": 438.9508592168668}, {\"time\": \"2009-02-16T04:30:00\", \"variable\": \"SW_IN\", \"value\": 0.0, \"is_present\": true, \"mean\": -19.59188249124678, \"std\": 229.40984638800865, \"err_low\": -478.4115752672641, \"err_high\": 439.2278102847705}, {\"time\": \"2009-02-16T05:00:00\", \"variable\": \"SW_IN\", \"value\": 0.0, \"is_present\": true, \"mean\": -19.44590032510102, \"std\": 229.4098463880085, \"err_low\": -478.26559310111804, \"err_high\": 439.37379245091597}, {\"time\": \"2009-02-16T05:30:00\", \"variable\": \"SW_IN\", \"value\": 0.0, \"is_present\": true, \"mean\": -19.429215028478538, \"std\": 229.40984638800865, \"err_low\": -478.24890780449584, \"err_high\": 439.39047774753874}, {\"time\": \"2009-02-16T06:00:00\", \"variable\": \"SW_IN\", \"value\": 0.0, \"is_present\": true, \"mean\": -19.202356990992698, \"std\": 229.4098463880087, \"err_low\": -478.0220497670101, \"err_high\": 439.6173357850247}, {\"time\": \"2009-02-16T06:30:00\", \"variable\": \"SW_IN\", \"value\": 0.0, \"is_present\": true, \"mean\": -18.74031176132094, \"std\": 229.4098463880087, \"err_low\": -477.56000453733833, \"err_high\": 440.0793810146965}, {\"time\": \"2009-02-16T07:00:00\", \"variable\": \"SW_IN\", \"value\": 0.0, \"is_present\": true, \"mean\": -18.008989094692126, \"std\": 229.40984638800865, \"err_low\": -476.82868187070943, \"err_high\": 440.81070368132515}, {\"time\": \"2009-02-16T07:30:00\", \"variable\": \"SW_IN\", \"value\": 0.0, \"is_present\": true, \"mean\": -17.704060334913677, \"std\": 229.4098463880088, \"err_low\": -476.52375311093124, \"err_high\": 441.1156324411039}, {\"time\": \"2009-02-16T08:00:00\", \"variable\": \"SW_IN\", \"value\": 4.38, \"is_present\": true, \"mean\": -16.070681224208883, \"std\": 229.40984638800865, \"err_low\": -474.8903740002262, \"err_high\": 442.7490115518084}, {\"time\": \"2009-02-16T08:30:00\", \"variable\": \"SW_IN\", \"value\": 14.95, \"is_present\": true, \"mean\": -11.480659954604832, \"std\": 229.40984638800873, \"err_low\": -470.3003527306223, \"err_high\": 447.3390328214126}, {\"time\": \"2009-02-16T09:00:00\", \"variable\": \"SW_IN\", \"value\": 38.04, \"is_present\": true, \"mean\": -3.372388354857165, \"std\": 229.4098463880087, \"err_low\": -462.19208113087456, \"err_high\": 455.44730442116025}, {\"time\": \"2009-02-16T09:30:00\", \"variable\": \"SW_IN\", \"value\": 53.39, \"is_present\": true, \"mean\": 4.187666957606865, \"std\": 229.40984638800856, \"err_low\": -454.6320258184103, \"err_high\": 463.00735973362396}, {\"time\": \"2009-02-16T10:00:00\", \"variable\": \"SW_IN\", \"value\": 95.84, \"is_present\": true, \"mean\": 15.434929132453988, \"std\": 229.40984638800882, \"err_low\": -443.38476364356364, \"err_high\": 474.2546219084716}, {\"time\": \"2009-02-16T10:30:00\", \"variable\": \"SW_IN\", \"value\": 113.16, \"is_present\": true, \"mean\": 30.1430935637334, \"std\": 229.40984638800856, \"err_low\": -428.6765992122837, \"err_high\": 488.96278633975055}, {\"time\": \"2009-02-16T11:00:00\", \"variable\": \"SW_IN\", \"value\": 217.72, \"is_present\": true, \"mean\": 55.68223080205128, \"std\": 229.40984638800865, \"err_low\": -403.137461973966, \"err_high\": 514.5019235780686}, {\"time\": \"2009-02-16T11:30:00\", \"variable\": \"SW_IN\", \"value\": 219.17, \"is_present\": true, \"mean\": 60.496691537929216, \"std\": 229.4098463880089, \"err_low\": -398.3230012380886, \"err_high\": 519.316384313947}, {\"time\": \"2009-02-16T12:00:00\", \"variable\": \"SW_IN\", \"value\": 195.61, \"is_present\": true, \"mean\": 56.09192375268225, \"std\": 229.40984638800836, \"err_low\": -402.7277690233345, \"err_high\": 514.9116165286989}, {\"time\": \"2009-02-16T12:30:00\", \"variable\": \"SW_IN\", \"value\": 121.39, \"is_present\": true, \"mean\": 40.718884437912266, \"std\": 229.4098463880087, \"err_low\": -418.10080833810514, \"err_high\": 499.53857721392967}, {\"time\": \"2009-02-16T13:00:00\", \"variable\": \"SW_IN\", \"value\": 120.26, \"is_present\": true, \"mean\": 39.26347185669205, \"std\": 229.40984638800833, \"err_low\": -419.55622091932463, \"err_high\": 498.0831646327087}, {\"time\": \"2009-02-16T13:30:00\", \"variable\": \"SW_IN\", \"value\": 147.82, \"is_present\": true, \"mean\": 48.956493616385586, \"std\": 229.40984638800848, \"err_low\": -409.86319915963134, \"err_high\": 507.77618639240256}, {\"time\": \"2009-02-16T14:00:00\", \"variable\": \"SW_IN\", \"value\": 156.28, \"is_present\": true, \"mean\": 50.893349682177515, \"std\": 229.40984638800882, \"err_low\": -407.9263430938401, \"err_high\": 509.71304245819516}, {\"time\": \"2009-02-16T14:30:00\", \"variable\": \"SW_IN\", \"value\": 124.41, \"is_present\": true, \"mean\": 43.194145421799846, \"std\": 229.40984638800856, \"err_low\": -415.62554735421725, \"err_high\": 502.013838197817}, {\"time\": \"2009-02-16T15:00:00\", \"variable\": \"SW_IN\", \"value\": 73.05, \"is_present\": true, \"mean\": 30.2120690911224, \"std\": 229.40984638800896, \"err_low\": -428.60762368489554, \"err_high\": 489.0317618671403}, {\"time\": \"2009-02-16T15:30:00\", \"variable\": \"SW_IN\", \"value\": 61.73, \"is_present\": true, \"mean\": 24.501401632123844, \"std\": 229.40984638800873, \"err_low\": -434.3182911438936, \"err_high\": 483.32109440814133}, {\"time\": \"2009-02-16T16:00:00\", \"variable\": \"SW_IN\", \"value\": 56.36, \"is_present\": true, \"mean\": 21.974069490537673, \"std\": 229.4098463880089, \"err_low\": -436.84562328548014, \"err_high\": 480.79376226655546}, {\"time\": \"2009-02-16T16:30:00\", \"variable\": \"SW_IN\", \"value\": 43.99, \"is_present\": true, \"mean\": 10.135086872985909, \"std\": 229.40984638800848, \"err_low\": -448.68460590303107, \"err_high\": 468.95477964900283}, {\"time\": \"2009-02-16T17:00:00\", \"variable\": \"SW_IN\", \"value\": 20.81, \"is_present\": true, \"mean\": 4.269993336512115, \"std\": 229.4098463880087, \"err_low\": -454.5496994395053, \"err_high\": 463.08968611252953}, {\"time\": \"2009-02-16T17:30:00\", \"variable\": \"SW_IN\", \"value\": 4.36, \"is_present\": true, \"mean\": -0.1448690060976645, \"std\": 229.40984638800882, \"err_low\": -458.9645617821153, \"err_high\": 458.67482376991995}, {\"time\": \"2009-02-16T18:00:00\", \"variable\": \"SW_IN\", \"value\": 0.0, \"is_present\": true, \"mean\": -1.193268892567147, \"std\": 229.40984638800865, \"err_low\": -460.01296166858447, \"err_high\": 457.6264238834501}, {\"time\": \"2009-02-16T18:30:00\", \"variable\": \"SW_IN\", \"value\": 0.0, \"is_present\": true, \"mean\": -0.1956218531170748, \"std\": 229.40984638800842, \"err_low\": -459.0153146291339, \"err_high\": 458.62407092289976}, {\"time\": \"2009-02-16T19:00:00\", \"variable\": \"SW_IN\", \"value\": 0.0, \"is_present\": true, \"mean\": 1.1395501400254346, \"std\": 229.40984638800887, \"err_low\": -457.6801426359923, \"err_high\": 459.9592429160432}, {\"time\": \"2009-02-16T19:30:00\", \"variable\": \"SW_IN\", \"value\": 0.0, \"is_present\": true, \"mean\": 1.8092185088414823, \"std\": 229.4098463880089, \"err_low\": -457.01047426717633, \"err_high\": 460.62891128485927}, {\"time\": \"2009-02-16T20:00:00\", \"variable\": \"SW_IN\", \"value\": 0.0, \"is_present\": true, \"mean\": 1.8621938965397646, \"std\": 229.4098463880088, \"err_low\": -456.95749887947784, \"err_high\": 460.6818866725573}, {\"time\": \"2009-02-16T20:30:00\", \"variable\": \"SW_IN\", \"value\": 0.0, \"is_present\": true, \"mean\": 1.695628021525991, \"std\": 229.4098463880087, \"err_low\": -457.1240647544914, \"err_high\": 460.5153207975434}, {\"time\": \"2009-02-16T21:00:00\", \"variable\": \"SW_IN\", \"value\": 0.0, \"is_present\": true, \"mean\": 1.5616761748065073, \"std\": 229.4098463880086, \"err_low\": -457.25801660121067, \"err_high\": 460.3813689508237}, {\"time\": \"2009-02-16T21:30:00\", \"variable\": \"SW_IN\", \"value\": 0.0, \"is_present\": true, \"mean\": 1.1085842186046335, \"std\": 229.40984638800865, \"err_low\": -457.7111085574127, \"err_high\": 459.9282769946219}, {\"time\": \"2009-02-16T22:00:00\", \"variable\": \"SW_IN\", \"value\": 0.0, \"is_present\": true, \"mean\": 0.8901932441018943, \"std\": 229.4098463880088, \"err_low\": -457.92949953191567, \"err_high\": 459.7098860201195}, {\"time\": \"2009-02-16T22:30:00\", \"variable\": \"SW_IN\", \"value\": 0.0, \"is_present\": true, \"mean\": 0.9699770870007711, \"std\": 229.40984638800856, \"err_low\": -457.84971568901636, \"err_high\": 459.7896698630179}, {\"time\": \"2009-02-16T23:00:00\", \"variable\": \"SW_IN\", \"value\": 0.0, \"is_present\": true, \"mean\": 1.276348176784012, \"std\": 229.4098463880087, \"err_low\": -457.54334459923336, \"err_high\": 460.09604095280145}, {\"time\": \"2009-02-16T23:30:00\", \"variable\": \"SW_IN\", \"value\": 0.0, \"is_present\": true, \"mean\": 1.995443385799561, \"std\": 229.40984638800882, \"err_low\": -456.8242493902181, \"err_high\": 460.8151361618172}, {\"time\": \"2009-02-17T00:00:00\", \"variable\": \"SW_IN\", \"value\": 0.0, \"is_present\": true, \"mean\": 2.5719282442990306, \"std\": 229.4098463880085, \"err_low\": -456.24776453171796, \"err_high\": 461.39162102031605}, {\"time\": \"2009-02-17T00:30:00\", \"variable\": \"SW_IN\", \"value\": 0.0, \"is_present\": true, \"mean\": 3.184966015676295, \"std\": 229.40984638800887, \"err_low\": -455.63472676034144, \"err_high\": 462.00465879169406}, {\"time\": \"2009-02-17T01:00:00\", \"variable\": \"SW_IN\", \"value\": 0.0, \"is_present\": true, \"mean\": 3.8595879769968633, \"std\": 229.4098463880086, \"err_low\": -454.9601047990203, \"err_high\": 462.67928075301404}, {\"time\": \"2009-02-17T01:30:00\", \"variable\": \"SW_IN\", \"value\": 0.0, \"is_present\": true, \"mean\": 5.205233363935122, \"std\": 229.4098463880089, \"err_low\": -453.6144594120827, \"err_high\": 464.0249261399529}, {\"time\": \"2009-02-17T02:00:00\", \"variable\": \"SW_IN\", \"value\": 0.0, \"is_present\": true, \"mean\": 7.02482464524833, \"std\": 229.40984638800896, \"err_low\": -451.7948681307696, \"err_high\": 465.84451742126623}, {\"time\": \"2009-02-17T02:30:00\", \"variable\": \"SW_IN\", \"value\": 0.0, \"is_present\": true, \"mean\": 9.946850644243497, \"std\": 229.40984638800865, \"err_low\": -448.8728421317738, \"err_high\": 468.7665434202608}, {\"time\": \"2009-02-17T03:00:00\", \"variable\": \"SW_IN\", \"value\": 0.0, \"is_present\": true, \"mean\": 13.270495559427346, \"std\": 229.4098463880087, \"err_low\": -445.5491972165901, \"err_high\": 472.09018833544474}, {\"time\": \"2009-02-17T03:30:00\", \"variable\": \"SW_IN\", \"value\": 0.0, \"is_present\": true, \"mean\": 16.937595090118094, \"std\": 229.40984638800856, \"err_low\": -441.882097685899, \"err_high\": 475.75728786613524}, {\"time\": \"2009-02-17T04:00:00\", \"variable\": \"SW_IN\", \"value\": 0.0, \"is_present\": true, \"mean\": 19.916670413349223, \"std\": 229.4098463880089, \"err_low\": -438.9030223626686, \"err_high\": 478.736363189367}, {\"time\": \"2009-02-17T04:30:00\", \"variable\": \"SW_IN\", \"value\": 0.0, \"is_present\": true, \"mean\": 21.97476960629301, \"std\": 229.4098463880085, \"err_low\": -436.844923169724, \"err_high\": 480.79446238231003}, {\"time\": \"2009-02-17T05:00:00\", \"variable\": \"SW_IN\", \"value\": 0.0, \"is_present\": true, \"mean\": 23.224306708276174, \"std\": 229.40984638800887, \"err_low\": -435.5953860677416, \"err_high\": 482.0439994842939}, {\"time\": \"2009-02-17T05:30:00\", \"variable\": \"SW_IN\", \"value\": 0.0, \"is_present\": true, \"mean\": 24.26730432320133, \"std\": 229.4098463880088, \"err_low\": -434.5523884528162, \"err_high\": 483.08699709921893}, {\"time\": \"2009-02-17T06:00:00\", \"variable\": \"SW_IN\", \"value\": 0.0, \"is_present\": true, \"mean\": 24.12075055421461, \"std\": 229.40984638800873, \"err_low\": -434.69894222180284, \"err_high\": 482.9404433302321}, {\"time\": \"2009-02-17T06:30:00\", \"variable\": \"SW_IN\", \"value\": 0.0, \"is_present\": true, \"mean\": 21.56900223800774, \"std\": 229.40984638800856, \"err_low\": -437.2506905380094, \"err_high\": 480.38869501402485}, {\"time\": \"2009-02-17T07:00:00\", \"variable\": \"SW_IN\", \"value\": 0.0, \"is_present\": true, \"mean\": 15.265094209759411, \"std\": 229.4098463880088, \"err_low\": -443.55459856625816, \"err_high\": 474.084786985777}, {\"time\": \"2009-02-17T07:30:00\", \"variable\": \"SW_IN\", \"value\": 0.0, \"is_present\": true, \"mean\": 10.011314587987215, \"std\": 229.40984638800873, \"err_low\": -448.80837818803025, \"err_high\": 468.8310073640047}, {\"time\": \"2009-02-17T08:00:00\", \"variable\": \"SW_IN\", \"value\": 1.9, \"is_present\": true, \"mean\": 5.441182853892883, \"std\": 229.4098463880086, \"err_low\": -453.3785099221243, \"err_high\": 464.26087562991006}, {\"time\": \"2009-02-17T08:30:00\", \"variable\": \"SW_IN\", \"value\": 8.66, \"is_present\": true, \"mean\": 2.672032382565334, \"std\": 229.40984638800848, \"err_low\": -456.1476603934516, \"err_high\": 461.4917251585823}, {\"time\": \"2009-02-17T09:00:00\", \"variable\": \"SW_IN\", \"value\": 15.41, \"is_present\": true, \"mean\": 4.05956274680031, \"std\": 229.4098463880088, \"err_low\": -454.7601300292173, \"err_high\": 462.87925552281786}, {\"time\": \"2009-02-17T09:30:00\", \"variable\": \"SW_IN\", \"value\": 30.3, \"is_present\": true, \"mean\": 7.226615564228666, \"std\": 229.4098463880086, \"err_low\": -451.5930772117885, \"err_high\": 466.04630834024584}, {\"time\": \"2009-02-17T10:00:00\", \"variable\": \"SW_IN\", \"value\": 42.19, \"is_present\": true, \"mean\": 1.2075527444537357, \"std\": 229.4098463880086, \"err_low\": -457.61214003156346, \"err_high\": 460.0272455204709}, {\"time\": \"2009-02-17T10:30:00\", \"variable\": \"SW_IN\", \"value\": 55.41, \"is_present\": true, \"mean\": 31.72936922304899, \"std\": 229.4098463880088, \"err_low\": -427.0903235529686, \"err_high\": 490.54906199906657}, {\"time\": \"2009-02-17T11:00:00\", \"variable\": \"SW_IN\", \"value\": 52.76, \"is_present\": true, \"mean\": 35.39442753716641, \"std\": 229.40984638800865, \"err_low\": -423.4252652388509, \"err_high\": 494.2141203131837}, {\"time\": \"2009-02-17T11:30:00\", \"variable\": \"SW_IN\", \"value\": 102.05, \"is_present\": true, \"mean\": 47.76291784010188, \"std\": 229.40984638800873, \"err_low\": -411.0567749359156, \"err_high\": 506.5826106161193}, {\"time\": \"2009-02-17T12:00:00\", \"variable\": \"SW_IN\", \"value\": 137.63, \"is_present\": true, \"mean\": 58.6056828544068, \"std\": 229.40984638800882, \"err_low\": -400.21400992161085, \"err_high\": 517.4253756304245}, {\"time\": \"2009-02-17T12:30:00\", \"variable\": \"SW_IN\", \"value\": 235.5, \"is_present\": true, \"mean\": 80.54567232528056, \"std\": 229.4098463880088, \"err_low\": -378.274020450737, \"err_high\": 539.3653651012982}, {\"time\": \"2009-02-17T13:00:00\", \"variable\": \"SW_IN\", \"value\": 291.2, \"is_present\": true, \"mean\": 90.89971908505318, \"std\": 229.40984638800856, \"err_low\": -367.91997369096396, \"err_high\": 549.7194118610703}, {\"time\": \"2009-02-17T13:30:00\", \"variable\": \"SW_IN\", \"value\": 316.403, \"is_present\": true, \"mean\": 104.69948232857405, \"std\": 229.4098463880088, \"err_low\": -354.1202104474435, \"err_high\": 563.5191751045916}, {\"time\": \"2009-02-17T14:00:00\", \"variable\": \"SW_IN\", \"value\": 364.367, \"is_present\": true, \"mean\": 115.58475394869534, \"std\": 229.40984638800836, \"err_low\": -343.2349388273214, \"err_high\": 574.4044467247121}, {\"time\": \"2009-02-17T14:30:00\", \"variable\": \"SW_IN\", \"value\": 422.51, \"is_present\": true, \"mean\": 125.70810660136998, \"std\": 229.4098463880088, \"err_low\": -333.1115861746476, \"err_high\": 584.5277993773875}, {\"time\": \"2009-02-17T15:00:00\", \"variable\": \"SW_IN\", \"value\": 379.39, \"is_present\": true, \"mean\": 112.20208091124933, \"std\": 229.4098463880085, \"err_low\": -346.6176118647677, \"err_high\": 571.0217736872663}, {\"time\": \"2009-02-17T15:30:00\", \"variable\": \"SW_IN\", \"value\": 281.53, \"is_present\": true, \"mean\": 85.63048166938819, \"std\": 229.40984638800887, \"err_low\": -373.18921110662956, \"err_high\": 544.450174445406}, {\"time\": \"2009-02-17T16:00:00\", \"variable\": \"SW_IN\", \"value\": 220.95, \"is_present\": true, \"mean\": 65.8517523467599, \"std\": 229.4098463880086, \"err_low\": -392.9679404292573, \"err_high\": 524.6714451227771}, {\"time\": \"2009-02-17T16:30:00\", \"variable\": \"SW_IN\", \"value\": 126.67, \"is_present\": true, \"mean\": 31.24272110986304, \"std\": 229.40984638800836, \"err_low\": -427.57697166615367, \"err_high\": 490.0624138858798}, {\"time\": \"2009-02-17T17:00:00\", \"variable\": \"SW_IN\", \"value\": 98.24, \"is_present\": true, \"mean\": 18.825059653059242, \"std\": 229.40984638800896, \"err_low\": -439.9946331229587, \"err_high\": 477.64475242907713}, {\"time\": \"2009-02-17T17:30:00\", \"variable\": \"SW_IN\", \"value\": 22.8, \"is_present\": true, \"mean\": -2.47434674162632, \"std\": 229.40984638800856, \"err_low\": -461.29403951764345, \"err_high\": 456.3453460343908}, {\"time\": \"2009-02-17T18:00:00\", \"variable\": \"SW_IN\", \"value\": 0.0, \"is_present\": true, \"mean\": -13.441938232254856, \"std\": 229.40984638800882, \"err_low\": -472.2616310082725, \"err_high\": 445.37775454376276}, {\"time\": \"2009-02-17T18:30:00\", \"variable\": \"SW_IN\", \"value\": 0.0, \"is_present\": true, \"mean\": -11.9188446806467, \"std\": 229.40984638800833, \"err_low\": -470.7385374566634, \"err_high\": 446.90084809536995}, {\"time\": \"2009-02-17T19:00:00\", \"variable\": \"SW_IN\", \"value\": 0.0, \"is_present\": true, \"mean\": -10.462306680411317, \"std\": 229.40984638800902, \"err_low\": -469.28199945642933, \"err_high\": 448.3573860956067}, {\"time\": \"2009-02-17T19:30:00\", \"variable\": \"SW_IN\", \"value\": 0.0, \"is_present\": true, \"mean\": -10.219793186262947, \"std\": 229.40984638800856, \"err_low\": -469.0394859622801, \"err_high\": 448.59989958975416}, {\"time\": \"2009-02-17T20:00:00\", \"variable\": \"SW_IN\", \"value\": 0.0, \"is_present\": true, \"mean\": -9.551289297835652, \"std\": 229.40984638800887, \"err_low\": -468.3709820738534, \"err_high\": 449.2684034781821}, {\"time\": \"2009-02-17T20:30:00\", \"variable\": \"SW_IN\", \"value\": 0.0, \"is_present\": true, \"mean\": -8.932348555979345, \"std\": 229.4098463880088, \"err_low\": -467.7520413319969, \"err_high\": 449.88734422003824}, {\"time\": \"2009-02-17T21:00:00\", \"variable\": \"SW_IN\", \"value\": 0.0, \"is_present\": true, \"mean\": -7.184507811050324, \"std\": 229.40984638800887, \"err_low\": -466.00420058706806, \"err_high\": 451.63518496496744}, {\"time\": \"2009-02-17T21:30:00\", \"variable\": \"SW_IN\", \"value\": 0.0, \"is_present\": true, \"mean\": -5.817015886143196, \"std\": 229.4098463880087, \"err_low\": -464.6367086621606, \"err_high\": 453.00267688987424}, {\"time\": \"2009-02-17T22:00:00\", \"variable\": \"SW_IN\", \"value\": 0.0, \"is_present\": true, \"mean\": -5.073112859265734, \"std\": 229.40984638800833, \"err_low\": -463.8928056352824, \"err_high\": 453.74657991675093}, {\"time\": \"2009-02-17T22:30:00\", \"variable\": \"SW_IN\", \"value\": 0.0, \"is_present\": true, \"mean\": -4.6350729519208045, \"std\": 229.40984638800887, \"err_low\": -463.45476572793854, \"err_high\": 454.18461982409696}, {\"time\": \"2009-02-17T23:00:00\", \"variable\": \"SW_IN\", \"value\": 0.0, \"is_present\": true, \"mean\": -4.775325307952343, \"std\": 229.4098463880088, \"err_low\": -463.59501808396993, \"err_high\": 454.0443674680652}, {\"time\": \"2009-02-17T23:30:00\", \"variable\": \"SW_IN\", \"value\": 0.0, \"is_present\": true, \"mean\": -5.106992041261336, \"std\": 229.4098463880087, \"err_low\": -463.9266848172787, \"err_high\": 453.7127007347561}, {\"time\": \"2009-02-18T00:00:00\", \"variable\": \"SW_IN\", \"value\": 0.0, \"is_present\": true, \"mean\": -5.562509065418766, \"std\": 229.40984638800865, \"err_low\": -464.3822018414361, \"err_high\": 453.2571837105985}, {\"time\": \"2009-02-18T00:30:00\", \"variable\": \"SW_IN\", \"value\": 0.0, \"is_present\": true, \"mean\": -5.635097016472301, \"std\": 229.40984638800865, \"err_low\": -464.4547897924896, \"err_high\": 453.184595759545}, {\"time\": \"2009-02-18T01:00:00\", \"variable\": \"SW_IN\", \"value\": 0.0, \"is_present\": true, \"mean\": -5.462656773511924, \"std\": 229.40984638800836, \"err_low\": -464.28234954952865, \"err_high\": 453.3570360025048}, {\"time\": \"2009-02-18T01:30:00\", \"variable\": \"SW_IN\", \"value\": 0.0, \"is_present\": true, \"mean\": -6.493431764817416, \"std\": 229.4098463880089, \"err_low\": -465.31312454083525, \"err_high\": 452.32626101120036}, {\"time\": \"2009-02-18T02:00:00\", \"variable\": \"SW_IN\", \"value\": 0.0, \"is_present\": true, \"mean\": -8.783292429220452, \"std\": 229.4098463880088, \"err_low\": -467.60298520523804, \"err_high\": 450.0364003467971}, {\"time\": \"2009-02-18T02:30:00\", \"variable\": \"SW_IN\", \"value\": 0.0, \"is_present\": true, \"mean\": -9.023710994830324, \"std\": 229.40984638800904, \"err_low\": -467.8434037708484, \"err_high\": 449.7959817811878}, {\"time\": \"2009-02-18T03:00:00\", \"variable\": \"SW_IN\", \"value\": 0.0, \"is_present\": true, \"mean\": -9.326809439875703, \"std\": 229.40984638801064, \"err_low\": -468.146502215897, \"err_high\": 449.49288333614555}, {\"time\": \"2009-02-18T03:30:00\", \"variable\": \"SW_IN\", \"value\": 0.0, \"is_present\": true, \"mean\": -8.797685517579296, \"std\": 229.4098463880192, \"err_low\": -467.61737829361766, \"err_high\": 450.0220072584591}, {\"time\": \"2009-02-18T04:00:00\", \"variable\": \"SW_IN\", \"value\": 0.0, \"is_present\": true, \"mean\": -10.374937015611934, \"std\": 229.40984638805716, \"err_low\": -469.19462979172624, \"err_high\": 448.4447557605024}, {\"time\": \"2009-02-18T04:30:00\", \"variable\": \"SW_IN\", \"value\": 0.0, \"is_present\": true, \"mean\": -10.487766215303779, \"std\": 229.40984638823127, \"err_low\": -469.30745899176634, \"err_high\": 448.33192656115875}, {\"time\": \"2009-02-18T05:00:00\", \"variable\": \"SW_IN\", \"value\": 0.0, \"is_present\": true, \"mean\": -9.110644786324244, \"std\": 229.4098463890306, \"err_low\": -467.93033756438547, \"err_high\": 449.70904799173695}, {\"time\": \"2009-02-18T05:30:00\", \"variable\": \"SW_IN\", \"value\": 0.0, \"is_present\": true, \"mean\": -8.169782676406655, \"std\": 229.40984639269635, \"err_low\": -466.9894754617994, \"err_high\": 450.64991010898603}, {\"time\": \"2009-02-18T06:00:00\", \"variable\": \"SW_IN\", \"value\": 0.0, \"is_present\": true, \"mean\": -9.102538534425733, \"std\": 229.40984640950964, \"err_low\": -467.922231353445, \"err_high\": 449.71715428459356}, {\"time\": \"2009-02-18T06:30:00\", \"variable\": \"SW_IN\", \"value\": 0.0, \"is_present\": true, \"mean\": -7.725682480750194, \"std\": 229.40984648663476, \"err_low\": -466.54537545401973, \"err_high\": 451.0940104925193}, {\"time\": \"2009-02-18T07:00:00\", \"variable\": \"SW_IN\", \"value\": 0.0, \"is_present\": true, \"mean\": -4.831501663916185, \"std\": 229.409846840344, \"err_low\": -463.65119534460416, \"err_high\": 453.9881920167718}, {\"time\": \"2009-02-18T07:30:00\", \"variable\": \"SW_IN\", \"value\": 0.0, \"is_present\": true, \"mean\": -5.284751774441986, \"std\": 229.4098484632303, \"err_low\": -464.1044487009026, \"err_high\": 453.5349451520186}, {\"time\": \"2009-02-18T08:00:00\", \"variable\": \"SW_IN\", \"value\": 12.06, \"is_present\": true, \"mean\": 1.8284082525803171, \"std\": 229.40985590254778, \"err_low\": -456.9913035525152, \"err_high\": 460.6481200576759}, {\"time\": \"2009-02-18T08:30:00\", \"variable\": \"SW_IN\", \"value\": 44.19, \"is_present\": true, \"mean\": 24.124342090403232, \"std\": 229.40989006977074, \"err_low\": -434.69543804913826, \"err_high\": 482.9441222299447}, {\"time\": \"2009-02-18T09:00:00\", \"variable\": \"SW_IN\", \"value\": 135.27, \"is_present\": true, \"mean\": 68.30025429498579, \"std\": 229.4100463767968, \"err_low\": -390.5198384586078, \"err_high\": 527.1203470485793}, {\"time\": \"2009-02-18T09:30:00\", \"variable\": \"SW_IN\", \"value\": 209.87, \"is_present\": true, \"mean\": 105.63644976142112, \"std\": 229.41076753908658, \"err_low\": -353.18508531675207, \"err_high\": 564.4579848395942}, {\"time\": \"2009-02-18T10:00:00\", \"variable\": \"SW_IN\", \"value\": 286.38, \"is_present\": true, \"mean\": 131.23025313179863, \"std\": 229.41404099472618, \"err_low\": -327.5978288576537, \"err_high\": 590.058335121251}, {\"time\": \"2009-02-18T10:30:00\", \"variable\": \"SW_IN\", \"value\": 344.39, \"is_present\": true, \"mean\": 166.9942209648452, \"std\": 229.42951512777313, \"err_low\": -291.86480929070103, \"err_high\": 625.8532512203915}, {\"time\": \"2009-02-18T11:00:00\", \"variable\": \"SW_IN\", \"value\": 372.21, \"is_present\": true, \"mean\": 181.60153839665304, \"std\": 229.49893507255777, \"err_low\": -277.3963317484625, \"err_high\": 640.5994085417685}, {\"time\": \"2009-02-18T11:30:00\", \"variable\": \"SW_IN\", \"value\": 427.62, \"is_present\": true, \"mean\": 192.8818281572205, \"std\": 229.89907170152102, \"err_low\": -266.9163152458216, \"err_high\": 652.6799715602625}, {\"time\": \"2009-02-18T12:00:00\", \"variable\": \"SW_IN\", \"value\": 440.89, \"is_present\": true, \"mean\": 195.50453674560382, \"std\": 232.50685407507183, \"err_low\": -269.50917140453987, \"err_high\": 660.5182448957474}, {\"time\": \"2009-02-18T12:30:00\", \"variable\": \"SW_IN\", \"value\": 361.76, \"is_present\": true, \"mean\": 186.13229190545604, \"std\": 232.71780814010722, \"err_low\": -279.3033243747584, \"err_high\": 651.5679081856705}, {\"time\": \"2009-02-18T13:00:00\", \"variable\": \"SW_IN\", \"value\": 322.51, \"is_present\": true, \"mean\": 190.62686635379663, \"std\": 232.739830646727, \"err_low\": -274.8527949396574, \"err_high\": 656.1065276472507}, {\"time\": \"2009-02-18T13:30:00\", \"variable\": \"SW_IN\", \"value\": 479.54, \"is_present\": true, \"mean\": 229.7946251502661, \"std\": 232.74674806665305, \"err_low\": -235.69887098304, \"err_high\": 695.2881212835722}, {\"time\": \"2009-02-18T14:00:00\", \"variable\": \"SW_IN\", \"value\": 446.35, \"is_present\": true, \"mean\": 224.81517629419977, \"std\": 232.74749598917566, \"err_low\": -240.67981568415155, \"err_high\": 690.3101682725511}, {\"time\": \"2009-02-18T14:30:00\", \"variable\": \"SW_IN\", \"value\": 402.19, \"is_present\": true, \"mean\": 213.4801926775924, \"std\": 232.74415337956415, \"err_low\": -252.0081140815359, \"err_high\": 678.9684994367208}, {\"time\": \"2009-02-18T15:00:00\", \"variable\": \"SW_IN\", \"value\": 366.58, \"is_present\": true, \"mean\": 195.85089485864145, \"std\": 232.73131890615386, \"err_low\": -269.6117429536663, \"err_high\": 661.3135326709491}, {\"time\": \"2009-02-18T15:30:00\", \"variable\": \"SW_IN\", \"value\": 252.27, \"is_present\": true, \"mean\": 160.3855753129215, \"std\": 232.68773302133195, \"err_low\": -304.9898907297424, \"err_high\": 625.7610413555853}, {\"time\": \"2009-02-18T16:00:00\", \"variable\": \"SW_IN\", \"value\": 197.69, \"is_present\": true, \"mean\": 133.53676803235618, \"std\": 232.5446260947039, \"err_low\": -331.5524841570516, \"err_high\": 598.626020221764}, {\"time\": \"2009-02-18T16:30:00\", \"variable\": \"SW_IN\", \"value\": 136.19, \"is_present\": true, \"mean\": 93.04927105750852, \"std\": 231.99481079333998, \"err_low\": -370.94035052917144, \"err_high\": 557.0388926441885}, {\"time\": \"2009-02-18T17:00:00\", \"variable\": \"SW_IN\", \"value\": 77.66, \"is_present\": true, \"mean\": 46.513650068489966, \"std\": 229.5037758169784, \"err_low\": -412.4939015654668, \"err_high\": 505.5212017024468}, {\"time\": \"2009-02-18T17:30:00\", \"variable\": \"SW_IN\", \"value\": 25.57, \"is_present\": true, \"mean\": 22.878811553728724, \"std\": 229.41149360681766, \"err_low\": -435.9441756599066, \"err_high\": 481.70179876736404}, {\"time\": \"2009-02-18T18:00:00\", \"variable\": \"SW_IN\", \"value\": 0.0, \"is_present\": true, \"mean\": 9.623098500622078, \"std\": 229.41031261573443, \"err_low\": -449.1975267308468, \"err_high\": 468.4437237320909}, {\"time\": \"2009-02-18T18:30:00\", \"variable\": \"SW_IN\", \"value\": 0.0, \"is_present\": true, \"mean\": 8.909652320732334, \"std\": 229.40990484792871, \"err_low\": -449.9101573751251, \"err_high\": 467.72946201658976}, {\"time\": \"2009-02-18T19:00:00\", \"variable\": \"SW_IN\", \"value\": 0.0, \"is_present\": true, \"mean\": 11.832629037525734, \"std\": 229.40986177106365, \"err_low\": -446.98709450460154, \"err_high\": 470.65235257965304}, {\"time\": \"2009-02-18T19:30:00\", \"variable\": \"SW_IN\", \"value\": 0.0, \"is_present\": true, \"mean\": 11.685390913434517, \"std\": 229.40984939512595, \"err_low\": -447.1343078768174, \"err_high\": 470.5050897036864}, {\"time\": \"2009-02-18T20:00:00\", \"variable\": \"SW_IN\", \"value\": 0.0, \"is_present\": true, \"mean\": 8.892929047543888, \"std\": 229.40984707628914, \"err_low\": -449.9267651050344, \"err_high\": 467.71262320012215}, {\"time\": \"2009-02-18T20:30:00\", \"variable\": \"SW_IN\", \"value\": 0.0, \"is_present\": true, \"mean\": 6.551090806193841, \"std\": 229.4098465344888, \"err_low\": -452.26860226278376, \"err_high\": 465.3707838751714}, {\"time\": \"2009-02-18T21:00:00\", \"variable\": \"SW_IN\", \"value\": 0.0, \"is_present\": true, \"mean\": 5.498005310055163, \"std\": 229.40984642030972, \"err_low\": -453.3216875305643, \"err_high\": 464.3176981506746}, {\"time\": \"2009-02-18T21:30:00\", \"variable\": \"SW_IN\", \"value\": 0.0, \"is_present\": true, \"mean\": 5.606223134048477, \"std\": 229.40984639501224, \"err_low\": -453.213469655976, \"err_high\": 464.42591592407297}, {\"time\": \"2009-02-18T22:00:00\", \"variable\": \"SW_IN\", \"value\": 0.0, \"is_present\": true, \"mean\": 4.375950821600355, \"std\": 229.40984638953967, \"err_low\": -454.443741957479, \"err_high\": 463.19564360067966}, {\"time\": \"2009-02-18T22:30:00\", \"variable\": \"SW_IN\", \"value\": 0.0, \"is_present\": true, \"mean\": 3.5062623965979043, \"std\": 229.40984638834158, \"err_low\": -455.31343038008526, \"err_high\": 462.32595517328105}, {\"time\": \"2009-02-18T23:00:00\", \"variable\": \"SW_IN\", \"value\": 0.0, \"is_present\": true, \"mean\": 1.7010159988451932, \"std\": 229.40984638808135, \"err_low\": -457.1186767773175, \"err_high\": 460.5207087750079}, {\"time\": \"2009-02-18T23:30:00\", \"variable\": \"SW_IN\", \"value\": 0.0, \"is_present\": true, \"mean\": 2.6176323250936377, \"std\": 229.4098463880245, \"err_low\": -456.2020604509554, \"err_high\": 461.4373251011426}, {\"time\": \"2009-02-19T00:00:00\", \"variable\": \"SW_IN\", \"value\": 0.0, \"is_present\": true, \"mean\": 2.4624936667572825, \"std\": 229.40984638801194, \"err_low\": -456.3571991092666, \"err_high\": 461.28218644278115}, {\"time\": \"2009-02-19T00:30:00\", \"variable\": \"SW_IN\", \"value\": 0.0, \"is_present\": true, \"mean\": 4.121148910488216, \"std\": 229.40984638800927, \"err_low\": -454.6985438655303, \"err_high\": 462.94084168650676}, {\"time\": \"2009-02-19T01:00:00\", \"variable\": \"SW_IN\", \"value\": 0.0, \"is_present\": true, \"mean\": 5.562078667649544, \"std\": 229.40984638800873, \"err_low\": -453.25761410836793, \"err_high\": 464.381771443667}, {\"time\": \"2009-02-19T01:30:00\", \"variable\": \"SW_IN\", \"value\": 0.0, \"is_present\": true, \"mean\": 3.6469340810625823, \"std\": 229.40984638800842, \"err_low\": -455.17275869495427, \"err_high\": 462.4666268570794}, {\"time\": \"2009-02-19T02:00:00\", \"variable\": \"SW_IN\", \"value\": 0.0, \"is_present\": true, \"mean\": -4.010175783715951, \"std\": 229.40984638800887, \"err_low\": -462.8298685597337, \"err_high\": 454.8095169923018}, {\"time\": \"2009-02-19T02:30:00\", \"variable\": \"SW_IN\", \"value\": 0.0, \"is_present\": true, \"mean\": -8.833568387788645, \"std\": 229.4098463880086, \"err_low\": -467.65326116380584, \"err_high\": 449.9861243882285}, {\"time\": \"2009-02-19T03:00:00\", \"variable\": \"SW_IN\", \"value\": 0.0, \"is_present\": true, \"mean\": -13.179734581154648, \"std\": 229.4098463880086, \"err_low\": -471.99942735717184, \"err_high\": 445.6399581948625}, {\"time\": \"2009-02-19T03:30:00\", \"variable\": \"SW_IN\", \"value\": 0.0, \"is_present\": true, \"mean\": -17.440298433441527, \"std\": 229.4098463880094, \"err_low\": -476.25999120946034, \"err_high\": 441.3793943425773}, {\"time\": \"2009-02-19T04:00:00\", \"variable\": \"SW_IN\", \"value\": 0.0, \"is_present\": true, \"mean\": -15.016601528565204, \"std\": 229.40984638801245, \"err_low\": -473.8362943045901, \"err_high\": 443.8030912474597}, {\"time\": \"2009-02-19T04:30:00\", \"variable\": \"SW_IN\", \"value\": 0.0, \"is_present\": true, \"mean\": -14.334284203393779, \"std\": 229.40984638802567, \"err_low\": -473.15397697944513, \"err_high\": 444.48540857265755}, {\"time\": \"2009-02-19T05:00:00\", \"variable\": \"SW_IN\", \"value\": 0.0, \"is_present\": true, \"mean\": -14.079214508863927, \"std\": 229.4098463880856, \"err_low\": -472.89890728503514, \"err_high\": 444.7404782673073}, {\"time\": \"2009-02-19T05:30:00\", \"variable\": \"SW_IN\", \"value\": 0.0, \"is_present\": true, \"mean\": -10.843477822831616, \"std\": 229.40984638836295, \"err_low\": -469.66317059955753, \"err_high\": 447.97621495389427}, {\"time\": \"2009-02-19T06:00:00\", \"variable\": \"SW_IN\", \"value\": 0.0, \"is_present\": true, \"mean\": -8.587068349640973, \"std\": 229.40984638963442, \"err_low\": -467.4067611289098, \"err_high\": 450.2326244296279}, {\"time\": \"2009-02-19T06:30:00\", \"variable\": \"SW_IN\", \"value\": 0.0, \"is_present\": true, \"mean\": -10.785968440432, \"std\": 229.40984639546497, \"err_low\": -469.6056612313619, \"err_high\": 448.03372435049795}, {\"time\": \"2009-02-19T07:00:00\", \"variable\": \"SW_IN\", \"value\": 0.0, \"is_present\": true, \"mean\": -10.84530872681053, \"std\": 229.4098464222101, \"err_low\": -469.66500157123073, \"err_high\": 447.9743841176097}, {\"time\": \"2009-02-19T07:30:00\", \"variable\": \"SW_IN\", \"value\": 0.87, \"is_present\": true, \"mean\": -15.246194649911686, \"std\": 229.40984654489168, \"err_low\": -474.06588773969503, \"err_high\": 443.5734984398717}, {\"time\": \"2009-02-19T08:00:00\", \"variable\": \"SW_IN\", \"value\": 21.3, \"is_present\": true, \"mean\": -15.951305495352997, \"std\": 229.40984710753725, \"err_low\": -474.7709997104275, \"err_high\": 442.8683887197215}, {\"time\": \"2009-02-19T08:30:00\", \"variable\": \"SW_IN\", \"value\": 46.35, \"is_present\": true, \"mean\": -6.793743131137418, \"std\": 229.40984968896032, \"err_low\": -465.6134425090581, \"err_high\": 452.0259562467832}, {\"time\": \"2009-02-19T09:00:00\", \"variable\": \"SW_IN\", \"value\": 104.24, \"is_present\": true, \"mean\": 16.226317620536307, \"std\": 229.4098615223994, \"err_low\": -442.5934054242625, \"err_high\": 475.0460406653351}, {\"time\": \"2009-02-19T09:30:00\", \"variable\": \"SW_IN\", \"value\": 207.85, \"is_present\": true, \"mean\": 55.632514124436824, \"std\": 229.4099158516715, \"err_low\": -403.18731757890623, \"err_high\": 514.4523458277798}, {\"time\": \"2009-02-19T10:00:00\", \"variable\": \"SW_IN\", \"value\": 289.46, \"is_present\": true, \"mean\": 89.92733012080376, \"std\": 229.41016419503572, \"err_low\": -368.89299826926765, \"err_high\": 548.7476585108752}, {\"time\": \"2009-02-19T10:30:00\", \"variable\": \"SW_IN\", \"value\": 350.51, \"is_present\": true, \"mean\": 131.79742173387467, \"std\": 229.41130345768772, \"err_low\": -327.0251851815008, \"err_high\": 590.6200286492501}, {\"time\": \"2009-02-19T11:00:00\", \"variable\": \"SW_IN\", \"value\": 399.6, \"is_present\": true, \"mean\": 160.51833378488993, \"std\": 229.41635530949625, \"err_low\": -298.3143768341026, \"err_high\": 619.3510444038825}, {\"time\": \"2009-02-19T11:30:00\", \"variable\": \"SW_IN\", \"value\": 438.38, \"is_present\": true, \"mean\": 184.40872916105843, \"std\": 229.43770883694333, \"err_low\": -274.4666885128282, \"err_high\": 643.2841468349451}, {\"time\": \"2009-02-19T12:00:00\", \"variable\": \"SW_IN\", \"value\": 468.46, \"is_present\": true, \"mean\": 199.87841074595522, \"std\": 229.51776077070758, \"err_low\": -259.15711079545997, \"err_high\": 658.9139322873704}, {\"time\": \"2009-02-19T12:30:00\", \"variable\": \"SW_IN\", \"value\": 476.37, \"is_present\": true, \"mean\": 229.40293428802346, \"std\": 233.25907198973064, \"err_low\": -237.11520969143783, \"err_high\": 695.9210782674847}], \"data-02fd2a7e7f442f16a1b8c3269fb07a05\": [{\"time\": \"2009-02-15T09:00:00\", \"variable\": \"VPD\", \"value\": 0.16, \"is_present\": true, \"mean\": 0.26848768457004946, \"std\": 4.031286004401848, \"err_low\": -7.794084324233648, \"err_high\": 8.331059693373746}, {\"time\": \"2009-02-15T09:30:00\", \"variable\": \"VPD\", \"value\": 0.162, \"is_present\": true, \"mean\": 0.6799296616624968, \"std\": 4.056469446571612, \"err_low\": -7.433009231480726, \"err_high\": 8.79286855480572}, {\"time\": \"2009-02-15T10:00:00\", \"variable\": \"VPD\", \"value\": 0.174, \"is_present\": true, \"mean\": 1.7131715661482416, \"std\": 4.052406184151477, \"err_low\": -6.391640802154711, \"err_high\": 9.817983934451195}, {\"time\": \"2009-02-15T10:30:00\", \"variable\": \"VPD\", \"value\": 0.271, \"is_present\": true, \"mean\": 2.5274055411824703, \"std\": 4.051055727713234, \"err_low\": -5.5747059142439985, \"err_high\": 10.629516996608938}, {\"time\": \"2009-02-15T11:00:00\", \"variable\": \"VPD\", \"value\": 0.447, \"is_present\": true, \"mean\": 3.3289480905710356, \"std\": 4.050765230276763, \"err_low\": -4.772582369982491, \"err_high\": 11.430478551124562}, {\"time\": \"2009-02-15T11:30:00\", \"variable\": \"VPD\", \"value\": 0.688, \"is_present\": true, \"mean\": 3.6893947833357132, \"std\": 4.050700031239302, \"err_low\": -4.412005279142891, \"err_high\": 11.790794845814316}, {\"time\": \"2009-02-15T12:00:00\", \"variable\": \"VPD\", \"value\": 0.808, \"is_present\": true, \"mean\": 3.3728555634166075, \"std\": 4.0506859436601586, \"err_low\": -4.72851632390371, \"err_high\": 11.474227450736924}, {\"time\": \"2009-02-15T12:30:00\", \"variable\": \"VPD\", \"value\": 0.782, \"is_present\": true, \"mean\": 2.9489943213334584, \"std\": 4.050682856151196, \"err_low\": -5.152371390968934, \"err_high\": 11.050360033635851}, {\"time\": \"2009-02-15T13:00:00\", \"variable\": \"VPD\", \"value\": 0.675, \"is_present\": true, \"mean\": 3.1083095930577067, \"std\": 4.050682184584798, \"err_low\": -4.99305477611189, \"err_high\": 11.209673962227303}, {\"time\": \"2009-02-15T13:30:00\", \"variable\": \"VPD\", \"value\": 0.792, \"is_present\": true, \"mean\": 2.9065050423701706, \"std\": 4.050682038003836, \"err_low\": -5.194859033637501, \"err_high\": 11.007869118377842}, {\"time\": \"2009-02-15T14:00:00\", \"variable\": \"VPD\", \"value\": 0.711, \"is_present\": true, \"mean\": 1.9291784718982394, \"std\": 4.050682006064296, \"err_low\": -6.172185540230352, \"err_high\": 10.030542484026832}, {\"time\": \"2009-02-15T14:30:00\", \"variable\": \"VPD\", \"value\": 0.681, \"is_present\": true, \"mean\": 1.7320526142640003, \"std\": 4.0506819990991465, \"err_low\": -6.369311383934293, \"err_high\": 9.833416612462294}, {\"time\": \"2009-02-15T15:00:00\", \"variable\": \"VPD\", \"value\": 0.719, \"is_present\": true, \"mean\": 2.089503189762267, \"std\": 4.050681997580828, \"err_low\": -6.0118608053993885, \"err_high\": 10.190867184923922}, {\"time\": \"2009-02-15T15:30:00\", \"variable\": \"VPD\", \"value\": 0.757, \"is_present\": true, \"mean\": 1.6627081635820902, \"std\": 4.050681997249782, \"err_low\": -6.438655830917474, \"err_high\": 9.764072158081655}, {\"time\": \"2009-02-15T16:00:00\", \"variable\": \"VPD\", \"value\": 0.742, \"is_present\": true, \"mean\": 1.634845328926836, \"std\": 4.050681997177618, \"err_low\": -6.466518665428399, \"err_high\": 9.736209323282072}, {\"time\": \"2009-02-15T16:30:00\", \"variable\": \"VPD\", \"value\": 0.721, \"is_present\": true, \"mean\": 1.3682132392358834, \"std\": 4.05068199716188, \"err_low\": -6.733150755087877, \"err_high\": 9.469577233559644}, {\"time\": \"2009-02-15T17:00:00\", \"variable\": \"VPD\", \"value\": 0.684, \"is_present\": true, \"mean\": 1.2519202460724568, \"std\": 4.0506819971584465, \"err_low\": -6.849443748244436, \"err_high\": 9.35328424038935}, {\"time\": \"2009-02-15T17:30:00\", \"variable\": \"VPD\", \"value\": 0.648, \"is_present\": true, \"mean\": 1.2045025430495881, \"std\": 4.050681997157709, \"err_low\": -6.89686145126583, \"err_high\": 9.305866537365006}, {\"time\": \"2009-02-15T18:00:00\", \"variable\": \"VPD\", \"value\": 0.604, \"is_present\": true, \"mean\": 1.2265828425539071, \"std\": 4.050681997157544, \"err_low\": -6.874781151761181, \"err_high\": 9.327946836868996}, {\"time\": \"2009-02-15T18:30:00\", \"variable\": \"VPD\", \"value\": 0.487, \"is_present\": true, \"mean\": 1.2497550326445834, \"std\": 4.050681997157509, \"err_low\": -6.851608961670435, \"err_high\": 9.351119026959601}, {\"time\": \"2009-02-15T19:00:00\", \"variable\": \"VPD\", \"value\": 0.292, \"is_present\": true, \"mean\": 1.207399328238925, \"std\": 4.050681997157496, \"err_low\": -6.893964666076068, \"err_high\": 9.308763322553917}, {\"time\": \"2009-02-15T19:30:00\", \"variable\": \"VPD\", \"value\": 0.166, \"is_present\": true, \"mean\": 1.170088941028082, \"std\": 4.050681997157506, \"err_low\": -6.93127505328693, \"err_high\": 9.271452935343094}, {\"time\": \"2009-02-15T20:00:00\", \"variable\": \"VPD\", \"value\": 0.087, \"is_present\": true, \"mean\": 1.1547989914574268, \"std\": 4.050681997157484, \"err_low\": -6.9465650028575405, \"err_high\": 9.256162985772395}, {\"time\": \"2009-02-15T20:30:00\", \"variable\": \"VPD\", \"value\": 0.057, \"is_present\": true, \"mean\": 1.1779998127240185, \"std\": 4.0506819971575005, \"err_low\": -6.9233641815909825, \"err_high\": 9.279363807039019}, {\"time\": \"2009-02-15T21:00:00\", \"variable\": \"VPD\", \"value\": 0.062, \"is_present\": true, \"mean\": 1.2188991936722995, \"std\": 4.050681997157505, \"err_low\": -6.88246480064271, \"err_high\": 9.32026318798731}, {\"time\": \"2009-02-15T21:30:00\", \"variable\": \"VPD\", \"value\": 0.083, \"is_present\": true, \"mean\": 1.2539044948888698, \"std\": 4.050681997157501, \"err_low\": -6.847459499426133, \"err_high\": 9.355268489203873}, {\"time\": \"2009-02-15T22:00:00\", \"variable\": \"VPD\", \"value\": 0.077, \"is_present\": true, \"mean\": 1.2602049974486564, \"std\": 4.050681997157501, \"err_low\": -6.841158996866346, \"err_high\": 9.36156899176366}, {\"time\": \"2009-02-15T22:30:00\", \"variable\": \"VPD\", \"value\": 0.066, \"is_present\": true, \"mean\": 1.2579453855146467, \"std\": 4.05068199715749, \"err_low\": -6.843418608800333, \"err_high\": 9.359309379829627}, {\"time\": \"2009-02-15T23:00:00\", \"variable\": \"VPD\", \"value\": 0.07, \"is_present\": true, \"mean\": 1.2580849451628375, \"std\": 4.050681997157507, \"err_low\": -6.843279049152176, \"err_high\": 9.35944893947785}, {\"time\": \"2009-02-15T23:30:00\", \"variable\": \"VPD\", \"value\": 0.055, \"is_present\": true, \"mean\": 1.2479959742392803, \"std\": 4.050681997157499, \"err_low\": -6.853368020075717, \"err_high\": 9.349359968554278}, {\"time\": \"2009-02-16T00:00:00\", \"variable\": \"VPD\", \"value\": 0.049, \"is_present\": true, \"mean\": 1.2451510349970882, \"std\": 4.0506819971575005, \"err_low\": -6.856212959317913, \"err_high\": 9.346515029312089}, {\"time\": \"2009-02-16T00:30:00\", \"variable\": \"VPD\", \"value\": 0.056, \"is_present\": true, \"mean\": 1.2508293317142027, \"std\": 4.050681997157506, \"err_low\": -6.8505346626008095, \"err_high\": 9.352193326029214}, {\"time\": \"2009-02-16T01:00:00\", \"variable\": \"VPD\", \"value\": 0.058, \"is_present\": true, \"mean\": 1.251871417536123, \"std\": 4.050681997157494, \"err_low\": -6.849492576778866, \"err_high\": 9.353235411851111}, {\"time\": \"2009-02-16T01:30:00\", \"variable\": \"VPD\", \"value\": 0.058, \"is_present\": true, \"mean\": 1.257396885279046, \"std\": 4.0506819971575005, \"err_low\": -6.843967109035955, \"err_high\": 9.358760879594048}, {\"time\": \"2009-02-16T02:00:00\", \"variable\": \"VPD\", \"value\": 0.055, \"is_present\": true, \"mean\": 1.260343659936522, \"std\": 4.050681997157504, \"err_low\": -6.841020334378486, \"err_high\": 9.36170765425153}, {\"time\": \"2009-02-16T02:30:00\", \"variable\": \"VPD\", \"value\": 0.039, \"is_present\": true, \"mean\": 1.2622116708524076, \"std\": 4.050681997157505, \"err_low\": -6.839152323462603, \"err_high\": 9.363575665167417}, {\"time\": \"2009-02-16T03:00:00\", \"variable\": \"VPD\", \"value\": 0.026, \"is_present\": true, \"mean\": 1.275089409126259, \"std\": 4.050681997157495, \"err_low\": -6.826274585188731, \"err_high\": 9.37645340344125}, {\"time\": \"2009-02-16T03:30:00\", \"variable\": \"VPD\", \"value\": 0.018, \"is_present\": true, \"mean\": 1.2899780786931405, \"std\": 4.0506819971574926, \"err_low\": -6.811385915621845, \"err_high\": 9.391342073008126}, {\"time\": \"2009-02-16T04:00:00\", \"variable\": \"VPD\", \"value\": 0.005, \"is_present\": true, \"mean\": 1.297685974938028, \"std\": 4.0506819971574926, \"err_low\": -6.803678019376957, \"err_high\": 9.399049969253014}, {\"time\": \"2009-02-16T04:30:00\", \"variable\": \"VPD\", \"value\": 0.0, \"is_present\": true, \"mean\": 1.3011905137504671, \"std\": 4.050681997157499, \"err_low\": -6.80017348056453, \"err_high\": 9.402554508065464}, {\"time\": \"2009-02-16T05:00:00\", \"variable\": \"VPD\", \"value\": 0.0, \"is_present\": true, \"mean\": 1.297777553846736, \"std\": 4.050681997157495, \"err_low\": -6.803586440468255, \"err_high\": 9.399141548161726}, {\"time\": \"2009-02-16T05:30:00\", \"variable\": \"VPD\", \"value\": 0.0, \"is_present\": true, \"mean\": 1.2901904678595009, \"std\": 4.050681997157499, \"err_low\": -6.811173526455496, \"err_high\": 9.391554462174499}, {\"time\": \"2009-02-16T06:00:00\", \"variable\": \"VPD\", \"value\": 0.0, \"is_present\": true, \"mean\": 1.2791050016149819, \"std\": 4.0506819971575005, \"err_low\": -6.82225899270002, \"err_high\": 9.380468995929983}, {\"time\": \"2009-02-16T06:30:00\", \"variable\": \"VPD\", \"value\": 0.0, \"is_present\": true, \"mean\": 1.2709991697954601, \"std\": 4.050681997157498, \"err_low\": -6.830364824519536, \"err_high\": 9.372363164110457}, {\"time\": \"2009-02-16T07:00:00\", \"variable\": \"VPD\", \"value\": 0.0, \"is_present\": true, \"mean\": 1.266835921679157, \"std\": 4.050681997157496, \"err_low\": -6.834528072635836, \"err_high\": 9.368199915994149}, {\"time\": \"2009-02-16T07:30:00\", \"variable\": \"VPD\", \"value\": 0.0, \"is_present\": true, \"mean\": 1.2479437439735892, \"std\": 4.050681997157504, \"err_low\": -6.8534202503414186, \"err_high\": 9.349307738288598}, {\"time\": \"2009-02-16T08:00:00\", \"variable\": \"VPD\", \"value\": 0.0, \"is_present\": true, \"mean\": 1.2450634868090726, \"std\": 4.0506819971575, \"err_low\": -6.856300507505926, \"err_high\": 9.346427481124072}, {\"time\": \"2009-02-16T08:30:00\", \"variable\": \"VPD\", \"value\": 0.0, \"is_present\": true, \"mean\": 1.2810953902992401, \"std\": 4.050681997157502, \"err_low\": -6.820268604015764, \"err_high\": 9.382459384614245}, {\"time\": \"2009-02-16T09:00:00\", \"variable\": \"VPD\", \"value\": 0.0, \"is_present\": true, \"mean\": 1.383171785989346, \"std\": 4.0506819971575, \"err_low\": -6.718192208325654, \"err_high\": 9.484535780304345}, {\"time\": \"2009-02-16T09:30:00\", \"variable\": \"VPD\", \"value\": 0.0, \"is_present\": true, \"mean\": 1.4606484945256173, \"std\": 4.050681997157498, \"err_low\": -6.640715499789378, \"err_high\": 9.562012488840613}, {\"time\": \"2009-02-16T10:00:00\", \"variable\": \"VPD\", \"value\": 0.0, \"is_present\": true, \"mean\": 1.6046659679975919, \"std\": 4.050681997157503, \"err_low\": -6.496698026317414, \"err_high\": 9.706029962312599}, {\"time\": \"2009-02-16T10:30:00\", \"variable\": \"VPD\", \"value\": 0.0, \"is_present\": true, \"mean\": 1.7303504118279522, \"std\": 4.050681997157493, \"err_low\": -6.371013582487034, \"err_high\": 9.83171440614294}, {\"time\": \"2009-02-16T11:00:00\", \"variable\": \"VPD\", \"value\": 0.0, \"is_present\": true, \"mean\": 2.1792700021930367, \"std\": 4.050681997157498, \"err_low\": -5.922093992121959, \"err_high\": 10.280633996508033}, {\"time\": \"2009-02-16T11:30:00\", \"variable\": \"VPD\", \"value\": 0.0, \"is_present\": true, \"mean\": 2.11853159175121, \"std\": 4.0506819971575085, \"err_low\": -5.982832402563806, \"err_high\": 10.219895586066228}, {\"time\": \"2009-02-16T12:00:00\", \"variable\": \"VPD\", \"value\": 0.0, \"is_present\": true, \"mean\": 1.8793000528179595, \"std\": 4.05068199715749, \"err_low\": -6.22206394149702, \"err_high\": 9.98066404713294}, {\"time\": \"2009-02-16T12:30:00\", \"variable\": \"VPD\", \"value\": 0.0, \"is_present\": true, \"mean\": 1.4413597036746706, \"std\": 4.050681997157499, \"err_low\": -6.660004290640327, \"err_high\": 9.542723697989668}, {\"time\": \"2009-02-16T13:00:00\", \"variable\": \"VPD\", \"value\": 0.0, \"is_present\": true, \"mean\": 1.3819974744104309, \"std\": 4.050681997157489, \"err_low\": -6.719366519904547, \"err_high\": 9.483361468725409}, {\"time\": \"2009-02-16T13:30:00\", \"variable\": \"VPD\", \"value\": 0.0, \"is_present\": true, \"mean\": 1.5196961996877723, \"std\": 4.050681997157492, \"err_low\": -6.5816677946272115, \"err_high\": 9.621060194002755}, {\"time\": \"2009-02-16T14:00:00\", \"variable\": \"VPD\", \"value\": 0.0, \"is_present\": true, \"mean\": 1.5320056720955912, \"std\": 4.050681997157503, \"err_low\": -6.569358322219415, \"err_high\": 9.633369666410598}, {\"time\": \"2009-02-16T14:30:00\", \"variable\": \"VPD\", \"value\": 0.0, \"is_present\": true, \"mean\": 1.335143003901099, \"std\": 4.0506819971574926, \"err_low\": -6.766220990413887, \"err_high\": 9.436506998216084}, {\"time\": \"2009-02-16T15:00:00\", \"variable\": \"VPD\", \"value\": 0.0, \"is_present\": true, \"mean\": 1.0816177584815643, \"std\": 4.050681997157509, \"err_low\": -7.019746235833455, \"err_high\": 9.182981752796582}, {\"time\": \"2009-02-16T15:30:00\", \"variable\": \"VPD\", \"value\": 0.0, \"is_present\": true, \"mean\": 1.0390747243612402, \"std\": 4.0506819971575, \"err_low\": -7.062289269953759, \"err_high\": 9.14043871867624}, {\"time\": \"2009-02-16T16:00:00\", \"variable\": \"VPD\", \"value\": 0.0, \"is_present\": true, \"mean\": 1.0892822735539514, \"std\": 4.050681997157506, \"err_low\": -7.01208172076106, \"err_high\": 9.190646267868964}, {\"time\": \"2009-02-16T16:30:00\", \"variable\": \"VPD\", \"value\": 0.0, \"is_present\": true, \"mean\": 1.038382452746391, \"std\": 4.050681997157492, \"err_low\": -7.062981541568592, \"err_high\": 9.139746447061373}, {\"time\": \"2009-02-16T17:00:00\", \"variable\": \"VPD\", \"value\": 0.0, \"is_present\": true, \"mean\": 0.9774621553287206, \"std\": 4.050681997157499, \"err_low\": -7.123901838986277, \"err_high\": 9.078826149643717}, {\"time\": \"2009-02-16T17:30:00\", \"variable\": \"VPD\", \"value\": 0.0, \"is_present\": true, \"mean\": 0.957223815002068, \"std\": 4.050681997157506, \"err_low\": -7.144140179312943, \"err_high\": 9.05858780931708}, {\"time\": \"2009-02-16T18:00:00\", \"variable\": \"VPD\", \"value\": 0.0, \"is_present\": true, \"mean\": 0.9909744419995339, \"std\": 4.050681997157498, \"err_low\": -7.110389552315462, \"err_high\": 9.09233843631453}, {\"time\": \"2009-02-16T18:30:00\", \"variable\": \"VPD\", \"value\": 0.0, \"is_present\": true, \"mean\": 1.0528787763010636, \"std\": 4.050681997157493, \"err_low\": -7.048485218013923, \"err_high\": 9.154242770616051}, {\"time\": \"2009-02-16T19:00:00\", \"variable\": \"VPD\", \"value\": 0.0, \"is_present\": true, \"mean\": 1.1097292664728369, \"std\": 4.0506819971575085, \"err_low\": -6.991634727842181, \"err_high\": 9.211093260787854}, {\"time\": \"2009-02-16T19:30:00\", \"variable\": \"VPD\", \"value\": 0.0, \"is_present\": true, \"mean\": 1.1425867545213562, \"std\": 4.050681997157506, \"err_low\": -6.958777239793656, \"err_high\": 9.243950748836369}, {\"time\": \"2009-02-16T20:00:00\", \"variable\": \"VPD\", \"value\": 0.0, \"is_present\": true, \"mean\": 1.1553529641179496, \"std\": 4.0506819971575005, \"err_low\": -6.9460110301970515, \"err_high\": 9.25671695843295}, {\"time\": \"2009-02-16T20:30:00\", \"variable\": \"VPD\", \"value\": 0.0, \"is_present\": true, \"mean\": 1.1621231642714416, \"std\": 4.0506819971575005, \"err_low\": -6.939240830043559, \"err_high\": 9.263487158586443}, {\"time\": \"2009-02-16T21:00:00\", \"variable\": \"VPD\", \"value\": 0.0, \"is_present\": true, \"mean\": 1.1628936328629673, \"std\": 4.050681997157499, \"err_low\": -6.93847036145203, \"err_high\": 9.264257627177965}, {\"time\": \"2009-02-16T21:30:00\", \"variable\": \"VPD\", \"value\": 0.0, \"is_present\": true, \"mean\": 1.1536303492555149, \"std\": 4.0506819971575, \"err_low\": -6.947733645059484, \"err_high\": 9.254994343570514}, {\"time\": \"2009-02-16T22:00:00\", \"variable\": \"VPD\", \"value\": 0.0, \"is_present\": true, \"mean\": 1.1506725168148946, \"std\": 4.050681997157503, \"err_low\": -6.950691477500111, \"err_high\": 9.252036511129901}, {\"time\": \"2009-02-16T22:30:00\", \"variable\": \"VPD\", \"value\": 0.0, \"is_present\": true, \"mean\": 1.1537554439303381, \"std\": 4.050681997157495, \"err_low\": -6.947608550384652, \"err_high\": 9.255119438245329}, {\"time\": \"2009-02-16T23:00:00\", \"variable\": \"VPD\", \"value\": 0.0, \"is_present\": true, \"mean\": 1.160534718887309, \"std\": 4.050681997157499, \"err_low\": -6.940829275427689, \"err_high\": 9.261898713202307}, {\"time\": \"2009-02-16T23:30:00\", \"variable\": \"VPD\", \"value\": 0.0, \"is_present\": true, \"mean\": 1.176514443186313, \"std\": 4.050681997157503, \"err_low\": -6.924849551128693, \"err_high\": 9.27787843750132}, {\"time\": \"2009-02-17T00:00:00\", \"variable\": \"VPD\", \"value\": 0.0, \"is_present\": true, \"mean\": 1.1863399029074104, \"std\": 4.0506819971574926, \"err_low\": -6.915024091407575, \"err_high\": 9.287703897222396}, {\"time\": \"2009-02-17T00:30:00\", \"variable\": \"VPD\", \"value\": 0.0, \"is_present\": true, \"mean\": 1.197283542406217, \"std\": 4.050681997157505, \"err_low\": -6.9040804519087935, \"err_high\": 9.298647536721226}, {\"time\": \"2009-02-17T01:00:00\", \"variable\": \"VPD\", \"value\": 0.0, \"is_present\": true, \"mean\": 1.2087808950647139, \"std\": 4.050681997157497, \"err_low\": -6.89258309925028, \"err_high\": 9.310144889379707}, {\"time\": \"2009-02-17T01:30:00\", \"variable\": \"VPD\", \"value\": 0.0, \"is_present\": true, \"mean\": 1.2366316632284025, \"std\": 4.050681997157506, \"err_low\": -6.864732331086609, \"err_high\": 9.337995657543415}, {\"time\": \"2009-02-17T02:00:00\", \"variable\": \"VPD\", \"value\": 0.0, \"is_present\": true, \"mean\": 1.2780514210206855, \"std\": 4.050681997157507, \"err_low\": -6.823312573294328, \"err_high\": 9.3794154153357}, {\"time\": \"2009-02-17T02:30:00\", \"variable\": \"VPD\", \"value\": 0.0, \"is_present\": true, \"mean\": 1.346127177564422, \"std\": 4.050681997157498, \"err_low\": -6.755236816750574, \"err_high\": 9.447491171879417}, {\"time\": \"2009-02-17T03:00:00\", \"variable\": \"VPD\", \"value\": 0.0, \"is_present\": true, \"mean\": 1.4281207480531197, \"std\": 4.050681997157499, \"err_low\": -6.673243246261878, \"err_high\": 9.529484742368117}, {\"time\": \"2009-02-17T03:30:00\", \"variable\": \"VPD\", \"value\": 0.0, \"is_present\": true, \"mean\": 1.5181987915001085, \"std\": 4.050681997157496, \"err_low\": -6.583165202814884, \"err_high\": 9.6195627858151}, {\"time\": \"2009-02-17T04:00:00\", \"variable\": \"VPD\", \"value\": 0.0, \"is_present\": true, \"mean\": 1.5899852921559283, \"std\": 4.050681997157509, \"err_low\": -6.5113787021590905, \"err_high\": 9.691349286470947}, {\"time\": \"2009-02-17T04:30:00\", \"variable\": \"VPD\", \"value\": 0.0, \"is_present\": true, \"mean\": 1.642511109339827, \"std\": 4.0506819971574926, \"err_low\": -6.458852884975158, \"err_high\": 9.743875103654812}, {\"time\": \"2009-02-17T05:00:00\", \"variable\": \"VPD\", \"value\": 0.0, \"is_present\": true, \"mean\": 1.682036440179446, \"std\": 4.050681997157506, \"err_low\": -6.419327554135566, \"err_high\": 9.783400434494459}, {\"time\": \"2009-02-17T05:30:00\", \"variable\": \"VPD\", \"value\": 0.0, \"is_present\": true, \"mean\": 1.7244644298914245, \"std\": 4.050681997157502, \"err_low\": -6.37689956442358, \"err_high\": 9.82582842420643}, {\"time\": \"2009-02-17T06:00:00\", \"variable\": \"VPD\", \"value\": 0.0, \"is_present\": true, \"mean\": 1.7454521245317485, \"std\": 4.050681997157501, \"err_low\": -6.355911869783254, \"err_high\": 9.846816118846752}, {\"time\": \"2009-02-17T06:30:00\", \"variable\": \"VPD\", \"value\": 0.0, \"is_present\": true, \"mean\": 1.7197203213178367, \"std\": 4.050681997157495, \"err_low\": -6.3816436729971535, \"err_high\": 9.821084315632827}, {\"time\": \"2009-02-17T07:00:00\", \"variable\": \"VPD\", \"value\": 0.0, \"is_present\": true, \"mean\": 1.6086171321586764, \"std\": 4.050681997157505, \"err_low\": -6.492746862156333, \"err_high\": 9.709981126473686}, {\"time\": \"2009-02-17T07:30:00\", \"variable\": \"VPD\", \"value\": 0.0, \"is_present\": true, \"mean\": 1.5489262298155502, \"std\": 4.0506819971575005, \"err_low\": -6.552437764499451, \"err_high\": 9.65029022413055}, {\"time\": \"2009-02-17T08:00:00\", \"variable\": \"VPD\", \"value\": 0.0, \"is_present\": true, \"mean\": 1.491157006443926, \"std\": 4.050681997157495, \"err_low\": -6.610206987871065, \"err_high\": 9.592521000758916}, {\"time\": \"2009-02-17T08:30:00\", \"variable\": \"VPD\", \"value\": 0.0, \"is_present\": true, \"mean\": 1.4389086352369038, \"std\": 4.050681997157493, \"err_low\": -6.662455359078083, \"err_high\": 9.540272629551891}, {\"time\": \"2009-02-17T09:00:00\", \"variable\": \"VPD\", \"value\": 0.0, \"is_present\": true, \"mean\": 1.4938152606446187, \"std\": 4.050681997157504, \"err_low\": -6.60754873367039, \"err_high\": 9.595179254959627}, {\"time\": \"2009-02-17T09:30:00\", \"variable\": \"VPD\", \"value\": 0.0, \"is_present\": true, \"mean\": 1.5598268912946134, \"std\": 4.050681997157497, \"err_low\": -6.541537103020381, \"err_high\": 9.661190885609606}, {\"time\": \"2009-02-17T10:00:00\", \"variable\": \"VPD\", \"value\": 0.0, \"is_present\": true, \"mean\": 1.3553308687427323, \"std\": 4.050681997157499, \"err_low\": -6.746033125572265, \"err_high\": 9.45669486305773}, {\"time\": \"2009-02-17T10:30:00\", \"variable\": \"VPD\", \"value\": 0.0, \"is_present\": true, \"mean\": 1.4301363148340926, \"std\": 4.050681997157505, \"err_low\": -6.671227679480918, \"err_high\": 9.531500309149102}, {\"time\": \"2009-02-17T11:00:00\", \"variable\": \"VPD\", \"value\": 0.0, \"is_present\": true, \"mean\": 1.3410141409732392, \"std\": 4.050681997157499, \"err_low\": -6.760349853341758, \"err_high\": 9.442378135288237}, {\"time\": \"2009-02-17T11:30:00\", \"variable\": \"VPD\", \"value\": 0.005, \"is_present\": true, \"mean\": 1.4388481554934018, \"std\": 4.050681997157502, \"err_low\": -6.662515838821603, \"err_high\": 9.540212149808406}, {\"time\": \"2009-02-17T12:00:00\", \"variable\": \"VPD\", \"value\": 0.014, \"is_present\": true, \"mean\": 1.5502935355417458, \"std\": 4.050681997157505, \"err_low\": -6.551070458773264, \"err_high\": 9.651657529856756}, {\"time\": \"2009-02-17T12:30:00\", \"variable\": \"VPD\", \"value\": 0.018, \"is_present\": true, \"mean\": 1.940666840809696, \"std\": 4.050681997157501, \"err_low\": -6.160697153505307, \"err_high\": 10.042030835124699}, {\"time\": \"2009-02-17T13:00:00\", \"variable\": \"VPD\", \"value\": 0.027, \"is_present\": true, \"mean\": 2.053369202624251, \"std\": 4.050681997157498, \"err_low\": -6.047994791690744, \"err_high\": 10.154733196939247}, {\"time\": \"2009-02-17T13:30:00\", \"variable\": \"VPD\", \"value\": 0.045, \"is_present\": true, \"mean\": 2.1916087331872682, \"std\": 4.050681997157504, \"err_low\": -5.90975526112774, \"err_high\": 10.292972727502276}, {\"time\": \"2009-02-17T14:00:00\", \"variable\": \"VPD\", \"value\": 0.063, \"is_present\": true, \"mean\": 2.428631414369606, \"std\": 4.050681997157488, \"err_low\": -5.67273257994537, \"err_high\": 10.529995408684583}, {\"time\": \"2009-02-17T14:30:00\", \"variable\": \"VPD\", \"value\": 0.085, \"is_present\": true, \"mean\": 2.6841183259451498, \"std\": 4.050681997157501, \"err_low\": -5.417245668369853, \"err_high\": 10.785482320260153}, {\"time\": \"2009-02-17T15:00:00\", \"variable\": \"VPD\", \"value\": 0.146, \"is_present\": true, \"mean\": 2.457713405676702, \"std\": 4.050681997157493, \"err_low\": -5.643650588638285, \"err_high\": 10.55907739999169}, {\"time\": \"2009-02-17T15:30:00\", \"variable\": \"VPD\", \"value\": 0.259, \"is_present\": true, \"mean\": 2.0343691139682676, \"std\": 4.050681997157509, \"err_low\": -6.066994880346751, \"err_high\": 10.135733108283286}, {\"time\": \"2009-02-17T16:00:00\", \"variable\": \"VPD\", \"value\": 0.397, \"is_present\": true, \"mean\": 1.867599516209836, \"std\": 4.050681997157496, \"err_low\": -6.233764478105156, \"err_high\": 9.968963510524828}, {\"time\": \"2009-02-17T16:30:00\", \"variable\": \"VPD\", \"value\": 0.529, \"is_present\": true, \"mean\": 1.555572338497747, \"std\": 4.05068199715749, \"err_low\": -6.545791655817233, \"err_high\": 9.656936332812727}, {\"time\": \"2009-02-17T17:00:00\", \"variable\": \"VPD\", \"value\": 0.603, \"is_present\": true, \"mean\": 1.607066951187549, \"std\": 4.050681997157509, \"err_low\": -6.49429704312747, \"err_high\": 9.708430945502569}, {\"time\": \"2009-02-17T17:30:00\", \"variable\": \"VPD\", \"value\": 0.625, \"is_present\": true, \"mean\": 1.4554094625605032, \"std\": 4.050681997157495, \"err_low\": -6.645954531754487, \"err_high\": 9.556773456875494}, {\"time\": \"2009-02-17T18:00:00\", \"variable\": \"VPD\", \"value\": 0.579, \"is_present\": true, \"mean\": 1.4946738143900256, \"std\": 4.050681997157504, \"err_low\": -6.606690179924983, \"err_high\": 9.596037808705034}, {\"time\": \"2009-02-17T18:30:00\", \"variable\": \"VPD\", \"value\": 0.642, \"is_present\": true, \"mean\": 1.7438701051566037, \"std\": 4.050681997157486, \"err_low\": -6.357493889158369, \"err_high\": 9.845234099471575}, {\"time\": \"2009-02-17T19:00:00\", \"variable\": \"VPD\", \"value\": 0.599, \"is_present\": true, \"mean\": 1.938027959200614, \"std\": 4.050681997157513, \"err_low\": -6.163336035114412, \"err_high\": 10.03939195351564}, {\"time\": \"2009-02-17T19:30:00\", \"variable\": \"VPD\", \"value\": 0.542, \"is_present\": true, \"mean\": 2.0718493900022232, \"std\": 4.050681997157494, \"err_low\": -6.029514604312766, \"err_high\": 10.173213384317211}, {\"time\": \"2009-02-17T20:00:00\", \"variable\": \"VPD\", \"value\": 0.544, \"is_present\": true, \"mean\": 2.2020659691372186, \"std\": 4.050681997157505, \"err_low\": -5.899298025177791, \"err_high\": 10.303429963452228}, {\"time\": \"2009-02-17T20:30:00\", \"variable\": \"VPD\", \"value\": 0.509, \"is_present\": true, \"mean\": 2.3181082948126117, \"std\": 4.050681997157503, \"err_low\": -5.783255699502394, \"err_high\": 10.419472289127619}, {\"time\": \"2009-02-17T21:00:00\", \"variable\": \"VPD\", \"value\": 0.484, \"is_present\": true, \"mean\": 2.4435701189390553, \"std\": 4.050681997157506, \"err_low\": -5.6577938753759565, \"err_high\": 10.544934113254067}, {\"time\": \"2009-02-17T21:30:00\", \"variable\": \"VPD\", \"value\": 0.448, \"is_present\": true, \"mean\": 2.5495294227281367, \"std\": 4.050681997157499, \"err_low\": -5.551834571586861, \"err_high\": 10.650893417043134}, {\"time\": \"2009-02-17T22:00:00\", \"variable\": \"VPD\", \"value\": 0.402, \"is_present\": true, \"mean\": 2.636523885762888, \"std\": 4.050681997157489, \"err_low\": -5.464840108552091, \"err_high\": 10.737887880077865}, {\"time\": \"2009-02-17T22:30:00\", \"variable\": \"VPD\", \"value\": 0.391, \"is_present\": true, \"mean\": 2.7173735740532847, \"std\": 4.050681997157506, \"err_low\": -5.383990420261727, \"err_high\": 10.818737568368297}, {\"time\": \"2009-02-17T23:00:00\", \"variable\": \"VPD\", \"value\": 0.368, \"is_present\": true, \"mean\": 2.773672405846565, \"std\": 4.050681997157503, \"err_low\": -5.327691588468442, \"err_high\": 10.875036400161571}, {\"time\": \"2009-02-17T23:30:00\", \"variable\": \"VPD\", \"value\": 0.354, \"is_present\": true, \"mean\": 2.8222377101453935, \"std\": 4.0506819971575005, \"err_low\": -5.279126284169608, \"err_high\": 10.923601704460395}, {\"time\": \"2009-02-18T00:00:00\", \"variable\": \"VPD\", \"value\": 0.304, \"is_present\": true, \"mean\": 2.8469719788872077, \"std\": 4.050681997157498, \"err_low\": -5.254392015427788, \"err_high\": 10.948335973202203}, {\"time\": \"2009-02-18T00:30:00\", \"variable\": \"VPD\", \"value\": 0.267, \"is_present\": true, \"mean\": 2.877337787868714, \"std\": 4.050681997157495, \"err_low\": -5.224026206446276, \"err_high\": 10.978701782183705}, {\"time\": \"2009-02-18T01:00:00\", \"variable\": \"VPD\", \"value\": 0.252, \"is_present\": true, \"mean\": 2.910895965266036, \"std\": 4.050681997157488, \"err_low\": -5.19046802904894, \"err_high\": 11.012259959581012}, {\"time\": \"2009-02-18T01:30:00\", \"variable\": \"VPD\", \"value\": 0.254, \"is_present\": true, \"mean\": 2.913763044071554, \"std\": 4.050681997157509, \"err_low\": -5.187600950243465, \"err_high\": 11.015127038386574}, {\"time\": \"2009-02-18T02:00:00\", \"variable\": \"VPD\", \"value\": 0.245, \"is_present\": true, \"mean\": 2.8798666048631367, \"std\": 4.050681997157498, \"err_low\": -5.221497389451859, \"err_high\": 10.981230599178133}, {\"time\": \"2009-02-18T02:30:00\", \"variable\": \"VPD\", \"value\": 0.311, \"is_present\": true, \"mean\": 2.902792559714844, \"std\": 4.050681997157507, \"err_low\": -5.1985714346001695, \"err_high\": 11.004156554029858}, {\"time\": \"2009-02-18T03:00:00\", \"variable\": \"VPD\", \"value\": 0.343, \"is_present\": true, \"mean\": 2.9006648615351187, \"std\": 4.050681997157536, \"err_low\": -5.200699132779953, \"err_high\": 11.002028855850192}, {\"time\": \"2009-02-18T03:30:00\", \"variable\": \"VPD\", \"value\": 0.396, \"is_present\": true, \"mean\": 2.9167073425663386, \"std\": 4.050681997157724, \"err_low\": -5.18465665174911, \"err_high\": 11.018071336881787}, {\"time\": \"2009-02-18T04:00:00\", \"variable\": \"VPD\", \"value\": 0.366, \"is_present\": true, \"mean\": 2.868989331659119, \"std\": 4.050681997158531, \"err_low\": -5.232374662657943, \"err_high\": 10.97035332597618}, {\"time\": \"2009-02-18T04:30:00\", \"variable\": \"VPD\", \"value\": 0.348, \"is_present\": true, \"mean\": 2.8640652414864283, \"std\": 4.050681997162238, \"err_low\": -5.237298752838048, \"err_high\": 10.965429235810905}, {\"time\": \"2009-02-18T05:00:00\", \"variable\": \"VPD\", \"value\": 0.373, \"is_present\": true, \"mean\": 2.897177782420123, \"std\": 4.050681997179262, \"err_low\": -5.204186211938401, \"err_high\": 10.998541776778646}, {\"time\": \"2009-02-18T05:30:00\", \"variable\": \"VPD\", \"value\": 0.391, \"is_present\": true, \"mean\": 2.915220741460435, \"std\": 4.05068199725733, \"err_low\": -5.186143253054225, \"err_high\": 11.016584735975094}, {\"time\": \"2009-02-18T06:00:00\", \"variable\": \"VPD\", \"value\": 0.328, \"is_present\": true, \"mean\": 2.893004225654103, \"std\": 4.050681997615414, \"err_low\": -5.208359769576726, \"err_high\": 10.994368220884931}, {\"time\": \"2009-02-18T06:30:00\", \"variable\": \"VPD\", \"value\": 0.325, \"is_present\": true, \"mean\": 2.9382329158813665, \"std\": 4.050681999257775, \"err_low\": -5.163131082634184, \"err_high\": 11.039596914396917}, {\"time\": \"2009-02-18T07:00:00\", \"variable\": \"VPD\", \"value\": 0.41, \"is_present\": true, \"mean\": 3.013025939264245, \"std\": 4.050682006792018, \"err_low\": -5.088338074319791, \"err_high\": 11.114389952848281}, {\"time\": \"2009-02-18T07:30:00\", \"variable\": \"VPD\", \"value\": 0.455, \"is_present\": true, \"mean\": 2.989301062420393, \"std\": 4.050682041340698, \"err_low\": -5.112063020261003, \"err_high\": 11.09066514510179}, {\"time\": \"2009-02-18T08:00:00\", \"variable\": \"VPD\", \"value\": 0.549, \"is_present\": true, \"mean\": 3.026041479833662, \"std\": 4.050682199902261, \"err_low\": -5.07532291997086, \"err_high\": 11.127405879638184}, {\"time\": \"2009-02-18T08:30:00\", \"variable\": \"VPD\", \"value\": 0.707, \"is_present\": true, \"mean\": 3.2796011245226215, \"std\": 4.05068292632461, \"err_low\": -4.821764728126599, \"err_high\": 11.380966977171841}, {\"time\": \"2009-02-18T09:00:00\", \"variable\": \"VPD\", \"value\": 1.036, \"is_present\": true, \"mean\": 3.9528950368313107, \"std\": 4.050686266971718, \"err_low\": -4.148477497112125, \"err_high\": 12.054267570774748}, {\"time\": \"2009-02-18T09:30:00\", \"variable\": \"VPD\", \"value\": 1.251, \"is_present\": true, \"mean\": 4.3612115852005395, \"std\": 4.050701514294924, \"err_low\": -3.7401914433893086, \"err_high\": 12.462614613790388}, {\"time\": \"2009-02-18T10:00:00\", \"variable\": \"VPD\", \"value\": 1.284, \"is_present\": true, \"mean\": 4.452028212190307, \"std\": 4.050772336143685, \"err_low\": -3.649516460097062, \"err_high\": 12.553572884477678}, {\"time\": \"2009-02-18T10:30:00\", \"variable\": \"VPD\", \"value\": 1.415, \"is_present\": true, \"mean\": 4.6034969797832295, \"std\": 4.051092252334081, \"err_low\": -3.498687524884933, \"err_high\": 12.705681484451393}, {\"time\": \"2009-02-18T11:00:00\", \"variable\": \"VPD\", \"value\": 1.536, \"is_present\": true, \"mean\": 4.491325759974985, \"std\": 4.052686668623766, \"err_low\": -3.6140475772725464, \"err_high\": 12.596699097222515}, {\"time\": \"2009-02-18T11:30:00\", \"variable\": \"VPD\", \"value\": 1.448, \"is_present\": true, \"mean\": 4.353116311572208, \"std\": 4.060546593892219, \"err_low\": -3.7679768762122308, \"err_high\": 12.474209499356647}, {\"time\": \"2009-02-18T12:00:00\", \"variable\": \"VPD\", \"value\": 1.509, \"is_present\": true, \"mean\": 4.11241175538096, \"std\": 4.139886049493273, \"err_low\": -4.167360343605586, \"err_high\": 12.392183854367506}, {\"time\": \"2009-02-18T12:30:00\", \"variable\": \"VPD\", \"value\": 1.768, \"is_present\": true, \"mean\": 3.6873404910469185, \"std\": 4.140003868086126, \"err_low\": -4.592667245125333, \"err_high\": 11.96734822721917}, {\"time\": \"2009-02-18T13:00:00\", \"variable\": \"VPD\", \"value\": 2.028, \"is_present\": true, \"mean\": 3.695537296523755, \"std\": 4.140075354168301, \"err_low\": -4.584613411812848, \"err_high\": 11.975688004860357}, {\"time\": \"2009-02-18T13:30:00\", \"variable\": \"VPD\", \"value\": 2.189, \"is_present\": true, \"mean\": 4.615962690880135, \"std\": 4.140105820517078, \"err_low\": -3.664248950154022, \"err_high\": 12.896174331914292}, {\"time\": \"2009-02-18T14:00:00\", \"variable\": \"VPD\", \"value\": 1.99, \"is_present\": true, \"mean\": 4.362899972338837, \"std\": 4.140093173742569, \"err_low\": -3.9172863751463014, \"err_high\": 12.643086319823976}, {\"time\": \"2009-02-18T14:30:00\", \"variable\": \"VPD\", \"value\": 2.046, \"is_present\": true, \"mean\": 4.1070022664631125, \"std\": 4.140013864953049, \"err_low\": -4.173025463442986, \"err_high\": 12.387029996369211}, {\"time\": \"2009-02-18T15:00:00\", \"variable\": \"VPD\", \"value\": 2.013, \"is_present\": true, \"mean\": 3.82390362127112, \"std\": 4.139737985833342, \"err_low\": -4.455572350395565, \"err_high\": 12.103379592937804}, {\"time\": \"2009-02-18T15:30:00\", \"variable\": \"VPD\", \"value\": 2.051, \"is_present\": true, \"mean\": 3.2276009270301094, \"std\": 4.138832973553175, \"err_low\": -5.05006502007624, \"err_high\": 11.50526687413646}, {\"time\": \"2009-02-18T16:00:00\", \"variable\": \"VPD\", \"value\": 1.857, \"is_present\": true, \"mean\": 2.9383882751569055, \"std\": 4.135654066963662, \"err_low\": -5.332919858770419, \"err_high\": 11.209696409084229}, {\"time\": \"2009-02-18T16:30:00\", \"variable\": \"VPD\", \"value\": 1.838, \"is_present\": true, \"mean\": 2.646126866972293, \"std\": 4.1248195266643854, \"err_low\": -5.603512186356478, \"err_high\": 10.895765920301063}, {\"time\": \"2009-02-18T17:00:00\", \"variable\": \"VPD\", \"value\": 1.728, \"is_present\": true, \"mean\": 1.8782806384486708, \"std\": 4.051846210972801, \"err_low\": -6.225411783496932, \"err_high\": 9.981973060394273}, {\"time\": \"2009-02-18T17:30:00\", \"variable\": \"VPD\", \"value\": 1.61, \"is_present\": true, \"mean\": 1.850415583970574, \"std\": 4.051486307831955, \"err_low\": -6.252557031693336, \"err_high\": 9.953388199634485}, {\"time\": \"2009-02-18T18:00:00\", \"variable\": \"VPD\", \"value\": 1.449, \"is_present\": true, \"mean\": 1.9353166730792544, \"std\": 4.05088835010193, \"err_low\": -6.1664600271246055, \"err_high\": 10.037093373283115}, {\"time\": \"2009-02-18T18:30:00\", \"variable\": \"VPD\", \"value\": 1.289, \"is_present\": true, \"mean\": 2.199477534768067, \"std\": 4.050729258546714, \"err_low\": -5.9019809823253615, \"err_high\": 10.300936051861495}, {\"time\": \"2009-02-18T19:00:00\", \"variable\": \"VPD\", \"value\": 1.196, \"is_present\": true, \"mean\": 2.489035167462144, \"std\": 4.05069232297114, \"err_low\": -5.612349478480136, \"err_high\": 10.590419813404424}, {\"time\": \"2009-02-18T19:30:00\", \"variable\": \"VPD\", \"value\": 1.13, \"is_present\": true, \"mean\": 2.6556621984981725, \"std\": 4.050684258017667, \"err_low\": -5.445706317537162, \"err_high\": 10.757030714533506}, {\"time\": \"2009-02-18T20:00:00\", \"variable\": \"VPD\", \"value\": 1.079, \"is_present\": true, \"mean\": 2.719340160117531, \"std\": 4.050682489592471, \"err_low\": -5.382024819067411, \"err_high\": 10.820705139302472}, {\"time\": \"2009-02-18T20:30:00\", \"variable\": \"VPD\", \"value\": 1.092, \"is_present\": true, \"mean\": 2.7830143497213453, \"std\": 4.0506821045896375, \"err_low\": -5.31834985945793, \"err_high\": 10.88437855890062}, {\"time\": \"2009-02-18T21:00:00\", \"variable\": \"VPD\", \"value\": 1.094, \"is_present\": true, \"mean\": 2.813359187876942, \"std\": 4.050682020572802, \"err_low\": -5.288004853268662, \"err_high\": 10.914723229022547}, {\"time\": \"2009-02-18T21:30:00\", \"variable\": \"VPD\", \"value\": 1.095, \"is_present\": true, \"mean\": 2.856171001101985, \"std\": 4.050682002263141, \"err_low\": -5.245193003424297, \"err_high\": 10.957535005628266}, {\"time\": \"2009-02-18T22:00:00\", \"variable\": \"VPD\", \"value\": 1.047, \"is_present\": true, \"mean\": 2.8461388422921816, \"std\": 4.050681998270536, \"err_low\": -5.255225154248891, \"err_high\": 10.947502838833255}, {\"time\": \"2009-02-18T22:30:00\", \"variable\": \"VPD\", \"value\": 1.018, \"is_present\": true, \"mean\": 2.8456157459306217, \"std\": 4.0506819974001536, \"err_low\": -5.255748248869685, \"err_high\": 10.946979740730928}, {\"time\": \"2009-02-18T23:00:00\", \"variable\": \"VPD\", \"value\": 0.934, \"is_present\": true, \"mean\": 2.8207143938950234, \"std\": 4.050681997210404, \"err_low\": -5.280649600525784, \"err_high\": 10.922078388315832}, {\"time\": \"2009-02-18T23:30:00\", \"variable\": \"VPD\", \"value\": 0.911, \"is_present\": true, \"mean\": 2.872211584770156, \"std\": 4.050681997169033, \"err_low\": -5.229152409567909, \"err_high\": 10.973575579108221}, {\"time\": \"2009-02-19T00:00:00\", \"variable\": \"VPD\", \"value\": 0.848, \"is_present\": true, \"mean\": 2.8946781266352306, \"std\": 4.050681997160008, \"err_low\": -5.206685867684785, \"err_high\": 10.996042120955247}, {\"time\": \"2009-02-19T00:30:00\", \"variable\": \"VPD\", \"value\": 0.873, \"is_present\": true, \"mean\": 2.9686543990896443, \"std\": 4.050681997158042, \"err_low\": -5.132709595226441, \"err_high\": 11.070018393405729}, {\"time\": \"2009-02-19T01:00:00\", \"variable\": \"VPD\", \"value\": 0.901, \"is_present\": true, \"mean\": 3.034885684070324, \"std\": 4.05068199715762, \"err_low\": -5.066478310244915, \"err_high\": 11.136249678385564}, {\"time\": \"2009-02-19T01:30:00\", \"variable\": \"VPD\", \"value\": 0.899, \"is_present\": true, \"mean\": 3.0197288747164284, \"std\": 4.0506819971575165, \"err_low\": -5.081635119598605, \"err_high\": 11.121092869031461}, {\"time\": \"2009-02-19T02:00:00\", \"variable\": \"VPD\", \"value\": 0.754, \"is_present\": true, \"mean\": 2.8599197938272836, \"std\": 4.050681997157512, \"err_low\": -5.241444200487741, \"err_high\": 10.961283788142307}, {\"time\": \"2009-02-19T02:30:00\", \"variable\": \"VPD\", \"value\": 0.69, \"is_present\": true, \"mean\": 2.797735617390966, \"std\": 4.0506819971575, \"err_low\": -5.303628376924033, \"err_high\": 10.899099611705966}, {\"time\": \"2009-02-19T03:00:00\", \"variable\": \"VPD\", \"value\": 0.62, \"is_present\": true, \"mean\": 2.7284373332125202, \"std\": 4.050681997157496, \"err_low\": -5.372926661102472, \"err_high\": 10.829801327527512}, {\"time\": \"2009-02-19T03:30:00\", \"variable\": \"VPD\", \"value\": 0.511, \"is_present\": true, \"mean\": 2.653387889232157, \"std\": 4.050681997157514, \"err_low\": -5.447976105082871, \"err_high\": 10.754751883547184}, {\"time\": \"2009-02-19T04:00:00\", \"variable\": \"VPD\", \"value\": 0.603, \"is_present\": true, \"mean\": 2.7475512609057464, \"std\": 4.050681997157583, \"err_low\": -5.35381273340942, \"err_high\": 10.848915255220913}, {\"time\": \"2009-02-19T04:30:00\", \"variable\": \"VPD\", \"value\": 0.611, \"is_present\": true, \"mean\": 2.769040598525585, \"std\": 4.050681997157862, \"err_low\": -5.332323395790139, \"err_high\": 10.870404592841309}, {\"time\": \"2009-02-19T05:00:00\", \"variable\": \"VPD\", \"value\": 0.605, \"is_present\": true, \"mean\": 2.773376590999568, \"std\": 4.050681997159132, \"err_low\": -5.327987403318696, \"err_high\": 10.874740585317832}, {\"time\": \"2009-02-19T05:30:00\", \"variable\": \"VPD\", \"value\": 0.668, \"is_present\": true, \"mean\": 2.853783288728541, \"std\": 4.050681997165044, \"err_low\": -5.247580705601546, \"err_high\": 10.95514728305863}, {\"time\": \"2009-02-19T06:00:00\", \"variable\": \"VPD\", \"value\": 0.724, \"is_present\": true, \"mean\": 2.895055504551425, \"std\": 4.0506819971921235, \"err_low\": -5.206308489832822, \"err_high\": 10.996419498935673}, {\"time\": \"2009-02-19T06:30:00\", \"variable\": \"VPD\", \"value\": 0.653, \"is_present\": true, \"mean\": 2.818791308901485, \"std\": 4.05068199731629, \"err_low\": -5.282572685731095, \"err_high\": 10.920155303534065}, {\"time\": \"2009-02-19T07:00:00\", \"variable\": \"VPD\", \"value\": 0.649, \"is_present\": true, \"mean\": 2.8133582535835124, \"std\": 4.050681997885897, \"err_low\": -5.288005742188281, \"err_high\": 10.914722249355306}, {\"time\": \"2009-02-19T07:30:00\", \"variable\": \"VPD\", \"value\": 0.647, \"is_present\": true, \"mean\": 2.686594103098066, \"std\": 4.050682000498399, \"err_low\": -5.414769897898731, \"err_high\": 10.787958104094864}, {\"time\": \"2009-02-19T08:00:00\", \"variable\": \"VPD\", \"value\": 0.553, \"is_present\": true, \"mean\": 2.50671674763848, \"std\": 4.050682012482886, \"err_low\": -5.594647277327292, \"err_high\": 10.608080772604252}, {\"time\": \"2009-02-19T08:30:00\", \"variable\": \"VPD\", \"value\": 0.511, \"is_present\": true, \"mean\": 2.446092447811964, \"std\": 4.050682067439259, \"err_low\": -5.655271687066554, \"err_high\": 10.547456582690481}, {\"time\": \"2009-02-19T09:00:00\", \"variable\": \"VPD\", \"value\": 0.529, \"is_present\": true, \"mean\": 2.6240827209288464, \"std\": 4.050682319632178, \"err_low\": -5.477281918335509, \"err_high\": 10.725447360193202}, {\"time\": \"2009-02-19T09:30:00\", \"variable\": \"VPD\", \"value\": 0.673, \"is_present\": true, \"mean\": 3.1318956606129844, \"std\": 4.050683474817753, \"err_low\": -4.969471289022522, \"err_high\": 11.233262610248492}, {\"time\": \"2009-02-19T10:00:00\", \"variable\": \"VPD\", \"value\": 0.905, \"is_present\": true, \"mean\": 3.4433392017339046, \"std\": 4.050688778528983, \"err_low\": -4.658038355324061, \"err_high\": 11.54471675879187}, {\"time\": \"2009-02-19T10:30:00\", \"variable\": \"VPD\", \"value\": 1.086, \"is_present\": true, \"mean\": 3.6970431110298487, \"std\": 4.050712837906307, \"err_low\": -4.404382564782765, \"err_high\": 11.798468786842463}, {\"time\": \"2009-02-19T11:00:00\", \"variable\": \"VPD\", \"value\": 1.313, \"is_present\": true, \"mean\": 3.8735621099650333, \"std\": 4.050821017254049, \"err_low\": -4.2280799245430645, \"err_high\": 11.975204144473132}, {\"time\": \"2009-02-19T11:30:00\", \"variable\": \"VPD\", \"value\": 1.573, \"is_present\": true, \"mean\": 3.97876074147231, \"std\": 4.051248046176528, \"err_low\": -4.123735350880745, \"err_high\": 12.081256833825366}, {\"time\": \"2009-02-19T12:00:00\", \"variable\": \"VPD\", \"value\": 1.74, \"is_present\": true, \"mean\": 3.9843922475059506, \"std\": 4.053202495047753, \"err_low\": -4.122012742589555, \"err_high\": 12.090797237601457}, {\"time\": \"2009-02-19T12:30:00\", \"variable\": \"VPD\", \"value\": 1.827, \"is_present\": true, \"mean\": 4.445242658185212, \"std\": 4.19391549391382, \"err_low\": -3.942588329642428, \"err_high\": 12.833073646012851}], \"data-a8a04b446f5d0f21d9e9eb0e0587ffa7\": [{\"time\": \"2009-02-19T13:00:00\", \"variable\": \"TA\", \"value\": -2.02, \"is_present\": true, \"mean\": 7.88955146193029, \"std\": 5.2576253268977755, \"err_low\": -2.6256991918652606, \"err_high\": 18.404802115725843}, {\"time\": \"2009-02-19T13:30:00\", \"variable\": \"TA\", \"value\": -1.71, \"is_present\": true, \"mean\": 2.5680410854827223, \"std\": 5.083378071801632, \"err_low\": -7.598715058120542, \"err_high\": 12.734797229085986}, {\"time\": \"2009-02-19T14:00:00\", \"variable\": \"TA\", \"value\": -1.37, \"is_present\": true, \"mean\": 1.9636548664927975, \"std\": 5.065029451862388, \"err_low\": -8.16640403723198, \"err_high\": 12.093713770217574}, {\"time\": \"2009-02-19T14:30:00\", \"variable\": \"TA\", \"value\": -1.02, \"is_present\": true, \"mean\": 1.3354370545218277, \"std\": 5.060051326778781, \"err_low\": -8.784665599035733, \"err_high\": 11.455539708079389}, {\"time\": \"2009-02-19T15:00:00\", \"variable\": \"TA\", \"value\": -0.83, \"is_present\": true, \"mean\": 1.1043559471125795, \"std\": 5.059137305787152, \"err_low\": -9.013918664461723, \"err_high\": 11.222630558686884}, {\"time\": \"2009-02-19T15:30:00\", \"variable\": \"TA\", \"value\": -1.02, \"is_present\": true, \"mean\": 0.8098610379244695, \"std\": 5.058923273684331, \"err_low\": -9.307985509444194, \"err_high\": 10.927707585293131}, {\"time\": \"2009-02-19T16:00:00\", \"variable\": \"TA\", \"value\": -0.91, \"is_present\": true, \"mean\": 0.9434636934879848, \"std\": 5.058878317561445, \"err_low\": -9.174292941634905, \"err_high\": 11.061220328610874}, {\"time\": \"2009-02-19T16:30:00\", \"variable\": \"TA\", \"value\": -0.39, \"is_present\": true, \"mean\": 2.438339338496432, \"std\": 5.058868345965542, \"err_low\": -7.679397353434652, \"err_high\": 12.556076030427516}, {\"time\": \"2009-02-19T17:00:00\", \"variable\": \"TA\", \"value\": -0.55, \"is_present\": true, \"mean\": 1.9751213787136033, \"std\": 5.058866190222734, \"err_low\": -8.142611001731865, \"err_high\": 12.09285375915907}, {\"time\": \"2009-02-19T17:30:00\", \"variable\": \"TA\", \"value\": -0.79, \"is_present\": true, \"mean\": 1.5667839817862363, \"std\": 5.058865718351689, \"err_low\": -8.550947454917143, \"err_high\": 11.684515418489614}, {\"time\": \"2009-02-19T18:00:00\", \"variable\": \"TA\", \"value\": -1.27, \"is_present\": true, \"mean\": 1.0961924918270425, \"std\": 5.058865615674553, \"err_low\": -9.021538739522065, \"err_high\": 11.213923723176148}, {\"time\": \"2009-02-19T18:30:00\", \"variable\": \"TA\", \"value\": -1.48, \"is_present\": true, \"mean\": 0.5148817546660336, \"std\": 5.05886559326867, \"err_low\": -9.602849431871306, \"err_high\": 10.632612941203373}, {\"time\": \"2009-02-19T19:00:00\", \"variable\": \"TA\", \"value\": -1.49, \"is_present\": true, \"mean\": 0.1576954240890096, \"std\": 5.058865588385999, \"err_low\": -9.96003575268299, \"err_high\": 10.275426600861008}, {\"time\": \"2009-02-19T19:30:00\", \"variable\": \"TA\", \"value\": -1.55, \"is_present\": true, \"mean\": -0.2386515335578583, \"std\": 5.0588655873212725, \"err_low\": -10.356382708200403, \"err_high\": 9.879079641084687}, {\"time\": \"2009-02-19T20:00:00\", \"variable\": \"TA\", \"value\": -1.65, \"is_present\": true, \"mean\": -0.5653189743629916, \"std\": 5.058865587089171, \"err_low\": -10.683050148541334, \"err_high\": 9.55241219981535}, {\"time\": \"2009-02-19T20:30:00\", \"variable\": \"TA\", \"value\": -1.75, \"is_present\": true, \"mean\": -0.7735828533006277, \"std\": 5.058865587038564, \"err_low\": -10.891314027377756, \"err_high\": 9.344148320776501}, {\"time\": \"2009-02-19T21:00:00\", \"variable\": \"TA\", \"value\": -1.82, \"is_present\": true, \"mean\": -0.9456911246022415, \"std\": 5.0588655870275305, \"err_low\": -11.063422298657303, \"err_high\": 9.17204004945282}, {\"time\": \"2009-02-19T21:30:00\", \"variable\": \"TA\", \"value\": -2.09, \"is_present\": true, \"mean\": -1.1912597929262034, \"std\": 5.058865587025127, \"err_low\": -11.308990966976458, \"err_high\": 8.92647138112405}, {\"time\": \"2009-02-19T22:00:00\", \"variable\": \"TA\", \"value\": -2.67, \"is_present\": true, \"mean\": -1.5609481899349866, \"std\": 5.058865587024602, \"err_low\": -11.678679363984191, \"err_high\": 8.556782984114218}, {\"time\": \"2009-02-19T22:30:00\", \"variable\": \"TA\", \"value\": -3.05, \"is_present\": true, \"mean\": -1.838005879093867, \"std\": 5.058865587024492, \"err_low\": -11.955737053142851, \"err_high\": 8.279725294955117}, {\"time\": \"2009-02-19T23:00:00\", \"variable\": \"TA\", \"value\": -3.06, \"is_present\": true, \"mean\": -1.9455206549557396, \"std\": 5.058865587024461, \"err_low\": -12.063251829004662, \"err_high\": 8.172210519093182}, {\"time\": \"2009-02-19T23:30:00\", \"variable\": \"TA\", \"value\": -3.11, \"is_present\": true, \"mean\": -2.0163821190939455, \"std\": 5.0588655870244565, \"err_low\": -12.134113293142859, \"err_high\": 8.101349054954968}, {\"time\": \"2009-02-20T00:00:00\", \"variable\": \"TA\", \"value\": -3.15, \"is_present\": true, \"mean\": -2.054663329311685, \"std\": 5.058865587024456, \"err_low\": -12.172394503360596, \"err_high\": 8.063067844737226}, {\"time\": \"2009-02-20T00:30:00\", \"variable\": \"TA\", \"value\": -3.09, \"is_present\": true, \"mean\": -2.0561833824112874, \"std\": 5.058865587024458, \"err_low\": -12.173914556460204, \"err_high\": 8.06154779163763}, {\"time\": \"2009-02-20T01:00:00\", \"variable\": \"TA\", \"value\": -3.0, \"is_present\": true, \"mean\": -2.0387549961945535, \"std\": 5.058865587024457, \"err_low\": -12.156486170243468, \"err_high\": 8.078976177854361}, {\"time\": \"2009-02-20T01:30:00\", \"variable\": \"TA\", \"value\": -2.92, \"is_present\": true, \"mean\": -2.024617134733491, \"std\": 5.058865587024456, \"err_low\": -12.142348308782402, \"err_high\": 8.09311403931542}, {\"time\": \"2009-02-20T02:00:00\", \"variable\": \"TA\", \"value\": -2.83, \"is_present\": true, \"mean\": -1.9900098669999942, \"std\": 5.058865587024462, \"err_low\": -12.107741041048918, \"err_high\": 8.12772130704893}, {\"time\": \"2009-02-20T02:30:00\", \"variable\": \"TA\", \"value\": -2.73, \"is_present\": true, \"mean\": -1.9293383801682804, \"std\": 5.058865587024452, \"err_low\": -12.047069554217185, \"err_high\": 8.188392793880624}, {\"time\": \"2009-02-20T03:00:00\", \"variable\": \"TA\", \"value\": -2.67, \"is_present\": true, \"mean\": -1.8650370577486708, \"std\": 5.058865587024464, \"err_low\": -11.982768231797598, \"err_high\": 8.252694116300257}, {\"time\": \"2009-02-20T03:30:00\", \"variable\": \"TA\", \"value\": -2.57, \"is_present\": true, \"mean\": -1.7883475998097413, \"std\": 5.05886558702446, \"err_low\": -11.906078773858662, \"err_high\": 8.329383574239179}, {\"time\": \"2009-02-20T04:00:00\", \"variable\": \"TA\", \"value\": -2.44, \"is_present\": true, \"mean\": -1.7036646765776489, \"std\": 5.05886558702446, \"err_low\": -11.821395850626569, \"err_high\": 8.414066497471271}, {\"time\": \"2009-02-20T04:30:00\", \"variable\": \"TA\", \"value\": -2.27, \"is_present\": true, \"mean\": -1.618813962079189, \"std\": 5.058865587024462, \"err_low\": -11.736545136128113, \"err_high\": 8.498917211969735}, {\"time\": \"2009-02-20T05:00:00\", \"variable\": \"TA\", \"value\": -2.19, \"is_present\": true, \"mean\": -1.5348760572507878, \"std\": 5.0588655870244565, \"err_low\": -11.6526072312997, \"err_high\": 8.582855116798125}, {\"time\": \"2009-02-20T05:30:00\", \"variable\": \"TA\", \"value\": -2.16, \"is_present\": true, \"mean\": -1.439259917727922, \"std\": 5.058865587024456, \"err_low\": -11.556991091776833, \"err_high\": 8.67847125632099}, {\"time\": \"2009-02-20T06:00:00\", \"variable\": \"TA\", \"value\": -1.99, \"is_present\": true, \"mean\": -1.320660777507749, \"std\": 5.058865587024459, \"err_low\": -11.438391951556667, \"err_high\": 8.79707039654117}, {\"time\": \"2009-02-20T06:30:00\", \"variable\": \"TA\", \"value\": -1.89, \"is_present\": true, \"mean\": -1.2066018432513523, \"std\": 5.058865587024456, \"err_low\": -11.324333017300264, \"err_high\": 8.911129330797559}, {\"time\": \"2009-02-20T07:00:00\", \"variable\": \"TA\", \"value\": -1.84, \"is_present\": true, \"mean\": -1.096465541148273, \"std\": 5.058865587024453, \"err_low\": -11.214196715197179, \"err_high\": 9.021265632900633}, {\"time\": \"2009-02-20T07:30:00\", \"variable\": \"TA\", \"value\": -1.79, \"is_present\": true, \"mean\": -0.9855828472693009, \"std\": 5.058865587024455, \"err_low\": -11.10331402131821, \"err_high\": 9.132148326779609}, {\"time\": \"2009-02-20T08:00:00\", \"variable\": \"TA\", \"value\": -1.69, \"is_present\": true, \"mean\": -0.8975037472085425, \"std\": 5.0588655870244565, \"err_low\": -11.015234921257456, \"err_high\": 9.22022742684037}, {\"time\": \"2009-02-20T08:30:00\", \"variable\": \"TA\", \"value\": -1.59, \"is_present\": true, \"mean\": -0.7908268553377606, \"std\": 5.058865587024459, \"err_low\": -10.908558029386679, \"err_high\": 9.326904318711158}, {\"time\": \"2009-02-20T09:00:00\", \"variable\": \"TA\", \"value\": -1.5, \"is_present\": true, \"mean\": -0.6672520168306377, \"std\": 5.05886558702446, \"err_low\": -10.784983190879558, \"err_high\": 9.450479157218282}, {\"time\": \"2009-02-20T09:30:00\", \"variable\": \"TA\", \"value\": -1.44, \"is_present\": true, \"mean\": -0.5426405119596058, \"std\": 5.058865587024456, \"err_low\": -10.660371686008517, \"err_high\": 9.575090662089305}, {\"time\": \"2009-02-20T10:00:00\", \"variable\": \"TA\", \"value\": -1.27, \"is_present\": true, \"mean\": -0.39910324832397315, \"std\": 5.05886558702446, \"err_low\": -10.516834422372893, \"err_high\": 9.718627925724947}, {\"time\": \"2009-02-20T10:30:00\", \"variable\": \"TA\", \"value\": -1.03, \"is_present\": true, \"mean\": -0.13284830910320444, \"std\": 5.058865587024457, \"err_low\": -10.25057948315212, \"err_high\": 9.98488286494571}, {\"time\": \"2009-02-20T11:00:00\", \"variable\": \"TA\", \"value\": -0.89, \"is_present\": true, \"mean\": 0.1302607644653051, \"std\": 5.058865587024456, \"err_low\": -9.987470409583606, \"err_high\": 10.247991938514216}, {\"time\": \"2009-02-20T11:30:00\", \"variable\": \"TA\", \"value\": -0.68, \"is_present\": true, \"mean\": 0.33253047565388805, \"std\": 5.058865587024459, \"err_low\": -9.78520069839503, \"err_high\": 10.450261649702806}, {\"time\": \"2009-02-20T12:00:00\", \"variable\": \"TA\", \"value\": -0.51, \"is_present\": true, \"mean\": 0.47454276742059953, \"std\": 5.058865587024458, \"err_low\": -9.643188406628317, \"err_high\": 10.592273941469516}, {\"time\": \"2009-02-20T12:30:00\", \"variable\": \"TA\", \"value\": -0.4, \"is_present\": true, \"mean\": 0.5990666402539384, \"std\": 5.058865587024459, \"err_low\": -9.51866453379498, \"err_high\": 10.716797814302858}, {\"time\": \"2009-02-20T13:00:00\", \"variable\": \"TA\", \"value\": -0.3, \"is_present\": true, \"mean\": 0.5894830695230349, \"std\": 5.058865587024458, \"err_low\": -9.528248104525883, \"err_high\": 10.70721424357195}, {\"time\": \"2009-02-20T13:30:00\", \"variable\": \"TA\", \"value\": -0.14, \"is_present\": true, \"mean\": 0.16392592626442415, \"std\": 5.058865587024458, \"err_low\": -9.953805247784492, \"err_high\": 10.28165710031334}, {\"time\": \"2009-02-20T14:00:00\", \"variable\": \"TA\", \"value\": -0.02, \"is_present\": true, \"mean\": 0.34960119125212774, \"std\": 5.058865587024457, \"err_low\": -9.768129982796786, \"err_high\": 10.467332365301043}, {\"time\": \"2009-02-20T14:30:00\", \"variable\": \"TA\", \"value\": 0.02, \"is_present\": true, \"mean\": 0.4242553654081185, \"std\": 5.0588655870244565, \"err_low\": -9.693475808640795, \"err_high\": 10.541986539457032}, {\"time\": \"2009-02-20T15:00:00\", \"variable\": \"TA\", \"value\": 0.06, \"is_present\": true, \"mean\": 0.5094697058818785, \"std\": 5.058865587024455, \"err_low\": -9.608261468167031, \"err_high\": 10.627200879930788}, {\"time\": \"2009-02-20T15:30:00\", \"variable\": \"TA\", \"value\": 0.16, \"is_present\": true, \"mean\": 0.6043499875746425, \"std\": 5.05886558702446, \"err_low\": -9.513381186474277, \"err_high\": 10.722081161623564}, {\"time\": \"2009-02-20T16:00:00\", \"variable\": \"TA\", \"value\": 0.43, \"is_present\": true, \"mean\": 0.8222058055171519, \"std\": 5.058865587024458, \"err_low\": -9.295525368531765, \"err_high\": 10.939936979566069}, {\"time\": \"2009-02-20T16:30:00\", \"variable\": \"TA\", \"value\": 0.72, \"is_present\": true, \"mean\": 1.322030766059103, \"std\": 5.058865587024455, \"err_low\": -8.795700407989806, \"err_high\": 11.439761940108014}, {\"time\": \"2009-02-20T17:00:00\", \"variable\": \"TA\", \"value\": 0.77, \"is_present\": true, \"mean\": 1.1805288145271309, \"std\": 5.058865587024452, \"err_low\": -8.937202359521773, \"err_high\": 11.298259988576035}, {\"time\": \"2009-02-20T17:30:00\", \"variable\": \"TA\", \"value\": 0.53, \"is_present\": true, \"mean\": 1.0268457223636247, \"std\": 5.058865587024457, \"err_low\": -9.09088545168529, \"err_high\": 11.14457689641254}, {\"time\": \"2009-02-20T18:00:00\", \"variable\": \"TA\", \"value\": 0.33, \"is_present\": true, \"mean\": 0.8955182429946227, \"std\": 5.05886558702446, \"err_low\": -9.222212931054298, \"err_high\": 11.013249417043543}, {\"time\": \"2009-02-20T18:30:00\", \"variable\": \"TA\", \"value\": 0.39, \"is_present\": true, \"mean\": 0.7931896579218627, \"std\": 5.058865587024455, \"err_low\": -9.324541516127047, \"err_high\": 10.910920831970772}, {\"time\": \"2009-02-20T19:00:00\", \"variable\": \"TA\", \"value\": 0.63, \"is_present\": true, \"mean\": 0.7600731754461245, \"std\": 5.058865587024463, \"err_low\": -9.3576579986028, \"err_high\": 10.877804349495051}, {\"time\": \"2009-02-20T19:30:00\", \"variable\": \"TA\", \"value\": 0.79, \"is_present\": true, \"mean\": 0.7243275974259076, \"std\": 5.058865587024458, \"err_low\": -9.393403576623008, \"err_high\": 10.842058771474825}, {\"time\": \"2009-02-20T20:00:00\", \"variable\": \"TA\", \"value\": 1.01, \"is_present\": true, \"mean\": 0.7204877890651726, \"std\": 5.05886558702446, \"err_low\": -9.397243384983748, \"err_high\": 10.838218963114093}, {\"time\": \"2009-02-20T20:30:00\", \"variable\": \"TA\", \"value\": 1.05, \"is_present\": true, \"mean\": 0.7223603621230286, \"std\": 5.058865587024458, \"err_low\": -9.395370811925888, \"err_high\": 10.840091536171945}, {\"time\": \"2009-02-20T21:00:00\", \"variable\": \"TA\", \"value\": 1.08, \"is_present\": true, \"mean\": 0.723770962928671, \"std\": 5.0588655870244565, \"err_low\": -9.393960211120241, \"err_high\": 10.841502136977585}, {\"time\": \"2009-02-20T21:30:00\", \"variable\": \"TA\", \"value\": 1.13, \"is_present\": true, \"mean\": 0.727667443763214, \"std\": 5.058865587024462, \"err_low\": -9.39006373028571, \"err_high\": 10.845398617812137}, {\"time\": \"2009-02-20T22:00:00\", \"variable\": \"TA\", \"value\": 1.15, \"is_present\": true, \"mean\": 0.7264640144827466, \"std\": 5.0588655870244565, \"err_low\": -9.391267159566166, \"err_high\": 10.84419518853166}, {\"time\": \"2009-02-20T22:30:00\", \"variable\": \"TA\", \"value\": 1.15, \"is_present\": true, \"mean\": 0.7215949415630156, \"std\": 5.0588655870244565, \"err_low\": -9.396136232485897, \"err_high\": 10.839326115611929}, {\"time\": \"2009-02-20T23:00:00\", \"variable\": \"TA\", \"value\": 1.18, \"is_present\": true, \"mean\": 0.7110941444125976, \"std\": 5.058865587024464, \"err_low\": -9.406637029636329, \"err_high\": 10.828825318461526}, {\"time\": \"2009-02-20T23:30:00\", \"variable\": \"TA\", \"value\": 1.18, \"is_present\": true, \"mean\": 0.6829947351367451, \"std\": 5.05886558702446, \"err_low\": -9.434736438912175, \"err_high\": 10.800725909185665}, {\"time\": \"2009-02-21T00:00:00\", \"variable\": \"TA\", \"value\": 1.1, \"is_present\": true, \"mean\": 0.6368575785331414, \"std\": 5.0588655870244565, \"err_low\": -9.48087359551577, \"err_high\": 10.754588752582055}, {\"time\": \"2009-02-21T00:30:00\", \"variable\": \"TA\", \"value\": 1.06, \"is_present\": true, \"mean\": 0.5890972826006937, \"std\": 5.0588655870244565, \"err_low\": -9.52863389144822, \"err_high\": 10.706828456649607}, {\"time\": \"2009-02-21T01:00:00\", \"variable\": \"TA\", \"value\": 0.98, \"is_present\": true, \"mean\": 0.5315270236992147, \"std\": 5.058865587024454, \"err_low\": -9.586204150349694, \"err_high\": 10.649258197748122}, {\"time\": \"2009-02-21T01:30:00\", \"variable\": \"TA\", \"value\": 0.94, \"is_present\": true, \"mean\": 0.4706015280732112, \"std\": 5.0588655870244565, \"err_low\": -9.647129645975703, \"err_high\": 10.588332702122123}, {\"time\": \"2009-02-21T02:00:00\", \"variable\": \"TA\", \"value\": 0.8, \"is_present\": true, \"mean\": 0.38363846780407584, \"std\": 5.05886558702446, \"err_low\": -9.734092706244844, \"err_high\": 10.501369641852996}, {\"time\": \"2009-02-21T02:30:00\", \"variable\": \"TA\", \"value\": 0.64, \"is_present\": true, \"mean\": 0.276663613973664, \"std\": 5.058865587024456, \"err_low\": -9.841067560075247, \"err_high\": 10.394394788022575}, {\"time\": \"2009-02-21T03:00:00\", \"variable\": \"TA\", \"value\": 0.4, \"is_present\": true, \"mean\": 0.14891162439154115, \"std\": 5.0588655870244565, \"err_low\": -9.968819549657372, \"err_high\": 10.266642798440454}, {\"time\": \"2009-02-21T03:30:00\", \"variable\": \"TA\", \"value\": 0.12, \"is_present\": true, \"mean\": 0.010726711614619688, \"std\": 5.0588655870244565, \"err_low\": -10.107004462434293, \"err_high\": 10.128457885663533}, {\"time\": \"2009-02-21T04:00:00\", \"variable\": \"TA\", \"value\": -0.04, \"is_present\": true, \"mean\": -0.11482647680473512, \"std\": 5.058865587024454, \"err_low\": -10.232557650853643, \"err_high\": 10.002904697244173}, {\"time\": \"2009-02-21T04:30:00\", \"variable\": \"TA\", \"value\": -0.24, \"is_present\": true, \"mean\": -0.24818509113216436, \"std\": 5.05886558702446, \"err_low\": -10.365916265181085, \"err_high\": 9.869546082916756}, {\"time\": \"2009-02-21T05:00:00\", \"variable\": \"TA\", \"value\": -0.66, \"is_present\": true, \"mean\": -0.40374291662814343, \"std\": 5.058865587024456, \"err_low\": -10.521474090677055, \"err_high\": 9.713988257420768}, {\"time\": \"2009-02-21T05:30:00\", \"variable\": \"TA\", \"value\": -0.86, \"is_present\": true, \"mean\": -0.513706587989196, \"std\": 5.058865587024462, \"err_low\": -10.63143776203812, \"err_high\": 9.604024586059728}, {\"time\": \"2009-02-21T06:00:00\", \"variable\": \"TA\", \"value\": -0.99, \"is_present\": true, \"mean\": -0.5859038473374234, \"std\": 5.05886558702446, \"err_low\": -10.703635021386344, \"err_high\": 9.531827326711497}, {\"time\": \"2009-02-21T06:30:00\", \"variable\": \"TA\", \"value\": -0.86, \"is_present\": true, \"mean\": -0.5960520960219746, \"std\": 5.0588655870244565, \"err_low\": -10.713783270070888, \"err_high\": 9.521679078026938}, {\"time\": \"2009-02-21T07:00:00\", \"variable\": \"TA\", \"value\": -0.73, \"is_present\": true, \"mean\": -0.583394783609064, \"std\": 5.058865587024458, \"err_low\": -10.70112595765798, \"err_high\": 9.534336390439853}, {\"time\": \"2009-02-21T07:30:00\", \"variable\": \"TA\", \"value\": -0.66, \"is_present\": true, \"mean\": -0.5814204984294076, \"std\": 5.05886558702446, \"err_low\": -10.699151672478328, \"err_high\": 9.536310675619513}, {\"time\": \"2009-02-21T08:00:00\", \"variable\": \"TA\", \"value\": -0.52, \"is_present\": true, \"mean\": -0.6221830906898962, \"std\": 5.05886558702446, \"err_low\": -10.739914264738816, \"err_high\": 9.495548083359024}, {\"time\": \"2009-02-21T08:30:00\", \"variable\": \"TA\", \"value\": -0.46, \"is_present\": true, \"mean\": -0.6113334547922928, \"std\": 5.058865587024455, \"err_low\": -10.729064628841202, \"err_high\": 9.506397719256617}, {\"time\": \"2009-02-21T09:00:00\", \"variable\": \"TA\", \"value\": -0.49, \"is_present\": true, \"mean\": -0.5477096174669622, \"std\": 5.058865587024459, \"err_low\": -10.66544079151588, \"err_high\": 9.570021556581956}, {\"time\": \"2009-02-21T09:30:00\", \"variable\": \"TA\", \"value\": -0.46, \"is_present\": true, \"mean\": -0.4970913958074483, \"std\": 5.058865587024457, \"err_low\": -10.614822569856363, \"err_high\": 9.620639778241467}, {\"time\": \"2009-02-21T10:00:00\", \"variable\": \"TA\", \"value\": -0.38, \"is_present\": true, \"mean\": -0.4545579467759069, \"std\": 5.058865587024457, \"err_low\": -10.572289120824822, \"err_high\": 9.663173227273008}, {\"time\": \"2009-02-21T10:30:00\", \"variable\": \"TA\", \"value\": -0.28, \"is_present\": true, \"mean\": -1.4267967275898084, \"std\": 5.058865587024458, \"err_low\": -11.544527901638725, \"err_high\": 8.690934446459108}, {\"time\": \"2009-02-21T11:00:00\", \"variable\": \"TA\", \"value\": -0.09, \"is_present\": true, \"mean\": -0.9507453934199237, \"std\": 5.058865587024459, \"err_low\": -11.068476567468842, \"err_high\": 9.166985780628995}, {\"time\": \"2009-02-21T11:30:00\", \"variable\": \"TA\", \"value\": 0.17, \"is_present\": true, \"mean\": -0.5183721268534356, \"std\": 5.0588655870244565, \"err_low\": -10.636103300902349, \"err_high\": 9.599359047195478}, {\"time\": \"2009-02-21T12:00:00\", \"variable\": \"TA\", \"value\": 0.58, \"is_present\": true, \"mean\": -0.06358369991517776, \"std\": 5.058865587024457, \"err_low\": -10.181314873964093, \"err_high\": 10.054147474133737}, {\"time\": \"2009-02-21T12:30:00\", \"variable\": \"TA\", \"value\": 1.1, \"is_present\": true, \"mean\": 0.4714137872176902, \"std\": 5.058865587024452, \"err_low\": -9.646317386831214, \"err_high\": 10.589144961266594}, {\"time\": \"2009-02-21T13:00:00\", \"variable\": \"TA\", \"value\": 1.54, \"is_present\": true, \"mean\": 1.0571835094104651, \"std\": 5.05886558702446, \"err_low\": -9.060547664638456, \"err_high\": 11.174914683459384}, {\"time\": \"2009-02-21T13:30:00\", \"variable\": \"TA\", \"value\": 1.68, \"is_present\": true, \"mean\": 1.8962065727600903, \"std\": 5.058865587024452, \"err_low\": -8.221524601288813, \"err_high\": 12.013937746808995}, {\"time\": \"2009-02-21T14:00:00\", \"variable\": \"TA\", \"value\": 1.58, \"is_present\": true, \"mean\": 1.7382246773113925, \"std\": 5.058865587024456, \"err_low\": -8.37950649673752, \"err_high\": 11.855955851360303}, {\"time\": \"2009-02-21T14:30:00\", \"variable\": \"TA\", \"value\": 1.71, \"is_present\": true, \"mean\": 1.766256685817349, \"std\": 5.058865587024457, \"err_low\": -8.351474488231567, \"err_high\": 11.883987859866263}, {\"time\": \"2009-02-21T15:00:00\", \"variable\": \"TA\", \"value\": 1.76, \"is_present\": true, \"mean\": 1.714994586851807, \"std\": 5.058865587024457, \"err_low\": -8.402736587197108, \"err_high\": 11.832725760900722}, {\"time\": \"2009-02-21T15:30:00\", \"variable\": \"TA\", \"value\": 1.55, \"is_present\": true, \"mean\": 1.5661951697802516, \"std\": 5.058865587024457, \"err_low\": -8.551536004268662, \"err_high\": 11.683926343829167}, {\"time\": \"2009-02-21T16:00:00\", \"variable\": \"TA\", \"value\": 1.37, \"is_present\": true, \"mean\": 1.4465981560826107, \"std\": 5.05886558702446, \"err_low\": -8.671133017966309, \"err_high\": 11.564329330131532}, {\"time\": \"2009-02-21T16:30:00\", \"variable\": \"TA\", \"value\": 1.25, \"is_present\": true, \"mean\": 1.825014232382454, \"std\": 5.058865587024461, \"err_low\": -8.292716941666468, \"err_high\": 11.942745406431376}, {\"time\": \"2009-02-21T17:00:00\", \"variable\": \"TA\", \"value\": 1.06, \"is_present\": true, \"mean\": 1.4827155825595, \"std\": 5.058865587024457, \"err_low\": -8.635015591489415, \"err_high\": 11.600446756608415}, {\"time\": \"2009-02-21T17:30:00\", \"variable\": \"TA\", \"value\": 0.91, \"is_present\": true, \"mean\": 1.2687535175675455, \"std\": 5.058865587024462, \"err_low\": -8.848977656481377, \"err_high\": 11.38648469161647}, {\"time\": \"2009-02-21T18:00:00\", \"variable\": \"TA\", \"value\": 0.87, \"is_present\": true, \"mean\": 1.103203470859114, \"std\": 5.058865587024456, \"err_low\": -9.014527703189797, \"err_high\": 11.220934644908025}, {\"time\": \"2009-02-21T18:30:00\", \"variable\": \"TA\", \"value\": 0.88, \"is_present\": true, \"mean\": 0.887700206387934, \"std\": 5.058865587024456, \"err_low\": -9.230030967660976, \"err_high\": 11.005431380436846}, {\"time\": \"2009-02-21T19:00:00\", \"variable\": \"TA\", \"value\": 0.9, \"is_present\": true, \"mean\": 0.736178404143871, \"std\": 5.058865587024456, \"err_low\": -9.38155276990504, \"err_high\": 10.853909578192782}, {\"time\": \"2009-02-21T19:30:00\", \"variable\": \"TA\", \"value\": 0.94, \"is_present\": true, \"mean\": 0.6005303775840396, \"std\": 5.058865587024464, \"err_low\": -9.517200796464888, \"err_high\": 10.718261551632967}, {\"time\": \"2009-02-21T20:00:00\", \"variable\": \"TA\", \"value\": 0.87, \"is_present\": true, \"mean\": 0.4783487217438429, \"std\": 5.0588655870244565, \"err_low\": -9.639382452305071, \"err_high\": 10.596079895792755}, {\"time\": \"2009-02-21T20:30:00\", \"variable\": \"TA\", \"value\": 0.93, \"is_present\": true, \"mean\": 0.4393164951965485, \"std\": 5.058865587024456, \"err_low\": -9.678414678852363, \"err_high\": 10.55704766924546}, {\"time\": \"2009-02-21T21:00:00\", \"variable\": \"TA\", \"value\": 0.94, \"is_present\": true, \"mean\": 0.3979578961016843, \"std\": 5.058865587024463, \"err_low\": -9.71977327794724, \"err_high\": 10.51568907015061}, {\"time\": \"2009-02-21T21:30:00\", \"variable\": \"TA\", \"value\": 0.85, \"is_present\": true, \"mean\": 0.3153327010221094, \"std\": 5.0588655870244565, \"err_low\": -9.802398473026804, \"err_high\": 10.433063875071023}, {\"time\": \"2009-02-21T22:00:00\", \"variable\": \"TA\", \"value\": 0.68, \"is_present\": true, \"mean\": 0.21726295227086467, \"std\": 5.058865587024461, \"err_low\": -9.900468221778057, \"err_high\": 10.334994126319787}, {\"time\": \"2009-02-21T22:30:00\", \"variable\": \"TA\", \"value\": 0.28, \"is_present\": true, \"mean\": 0.03743030426672078, \"std\": 5.058865587024454, \"err_low\": -10.080300869782187, \"err_high\": 10.155161478315629}, {\"time\": \"2009-02-21T23:00:00\", \"variable\": \"TA\", \"value\": 0.15, \"is_present\": true, \"mean\": -0.07955669449114211, \"std\": 5.058865587024464, \"err_low\": -10.19728786854007, \"err_high\": 10.038174479557785}, {\"time\": \"2009-02-21T23:30:00\", \"variable\": \"TA\", \"value\": 0.0, \"is_present\": true, \"mean\": -0.16529627328483265, \"std\": 5.058865587024457, \"err_low\": -10.283027447333748, \"err_high\": 9.952434900764082}, {\"time\": \"2009-02-22T00:00:00\", \"variable\": \"TA\", \"value\": -0.23, \"is_present\": true, \"mean\": -0.25456437708682955, \"std\": 5.058865587024457, \"err_low\": -10.372295551135744, \"err_high\": 9.863166796962085}, {\"time\": \"2009-02-22T00:30:00\", \"variable\": \"TA\", \"value\": -0.4, \"is_present\": true, \"mean\": -0.3167086165615647, \"std\": 5.058865587024457, \"err_low\": -10.43443979061048, \"err_high\": 9.80102255748735}, {\"time\": \"2009-02-22T01:00:00\", \"variable\": \"TA\", \"value\": -0.52, \"is_present\": true, \"mean\": -0.3532862689372056, \"std\": 5.058865587024462, \"err_low\": -10.47101744298613, \"err_high\": 9.764444905111718}, {\"time\": \"2009-02-22T01:30:00\", \"variable\": \"TA\", \"value\": -0.53, \"is_present\": true, \"mean\": -0.36390323215452547, \"std\": 5.058865587024456, \"err_low\": -10.481634406203437, \"err_high\": 9.753827941894386}, {\"time\": \"2009-02-22T02:00:00\", \"variable\": \"TA\", \"value\": -0.63, \"is_present\": true, \"mean\": -0.3709534052755874, \"std\": 5.058865587024457, \"err_low\": -10.488684579324502, \"err_high\": 9.746777768773327}, {\"time\": \"2009-02-22T02:30:00\", \"variable\": \"TA\", \"value\": -0.61, \"is_present\": true, \"mean\": -0.34801297854659197, \"std\": 5.05886558702446, \"err_low\": -10.465744152595512, \"err_high\": 9.769718195502328}, {\"time\": \"2009-02-22T03:00:00\", \"variable\": \"TA\", \"value\": -0.49, \"is_present\": true, \"mean\": -0.30102209498579846, \"std\": 5.058865587024461, \"err_low\": -10.41875326903472, \"err_high\": 9.816709079063124}, {\"time\": \"2009-02-22T03:30:00\", \"variable\": \"TA\", \"value\": -0.43, \"is_present\": true, \"mean\": -0.25513459053008347, \"std\": 5.058865587024458, \"err_low\": -10.372865764579, \"err_high\": 9.862596583518833}, {\"time\": \"2009-02-22T04:00:00\", \"variable\": \"TA\", \"value\": -0.35, \"is_present\": true, \"mean\": -0.2050345440641106, \"std\": 5.058865587024457, \"err_low\": -10.322765718113025, \"err_high\": 9.912696629984804}, {\"time\": \"2009-02-22T04:30:00\", \"variable\": \"TA\", \"value\": -0.24, \"is_present\": true, \"mean\": -0.15259657070130395, \"std\": 5.058865587024459, \"err_low\": -10.270327744750222, \"err_high\": 9.965134603347614}, {\"time\": \"2009-02-22T05:00:00\", \"variable\": \"TA\", \"value\": -0.21, \"is_present\": true, \"mean\": -0.10363886197730032, \"std\": 5.058865587024456, \"err_low\": -10.221370036026212, \"err_high\": 10.014092312071611}, {\"time\": \"2009-02-22T05:30:00\", \"variable\": \"TA\", \"value\": -0.13, \"is_present\": true, \"mean\": -0.0385984616125441, \"std\": 5.058865587024462, \"err_low\": -10.156329635661468, \"err_high\": 10.07913271243638}, {\"time\": \"2009-02-22T06:00:00\", \"variable\": \"TA\", \"value\": -0.1, \"is_present\": true, \"mean\": 0.020845615391770878, \"std\": 5.058865587024457, \"err_low\": -10.096885558657144, \"err_high\": 10.138576789440686}, {\"time\": \"2009-02-22T06:30:00\", \"variable\": \"TA\", \"value\": -0.07, \"is_present\": true, \"mean\": 0.08063754422955505, \"std\": 5.058865587024458, \"err_low\": -10.037093629819362, \"err_high\": 10.198368718278472}, {\"time\": \"2009-02-22T07:00:00\", \"variable\": \"TA\", \"value\": -0.08, \"is_present\": true, \"mean\": 0.13736833415886096, \"std\": 5.058865587024453, \"err_low\": -9.980362839890045, \"err_high\": 10.255099508207767}, {\"time\": \"2009-02-22T07:30:00\", \"variable\": \"TA\", \"value\": -0.08, \"is_present\": true, \"mean\": 0.18851687796572136, \"std\": 5.058865587024457, \"err_low\": -9.929214296083194, \"err_high\": 10.306248052014636}, {\"time\": \"2009-02-22T08:00:00\", \"variable\": \"TA\", \"value\": -0.05, \"is_present\": true, \"mean\": 0.18233399700204522, \"std\": 5.058865587024455, \"err_low\": -9.935397177046864, \"err_high\": 10.300065171050955}, {\"time\": \"2009-02-22T08:30:00\", \"variable\": \"TA\", \"value\": -0.01, \"is_present\": true, \"mean\": 0.21062492476789885, \"std\": 5.058865587024456, \"err_low\": -9.907106249281012, \"err_high\": 10.32835609881681}, {\"time\": \"2009-02-22T09:00:00\", \"variable\": \"TA\", \"value\": 0.03, \"is_present\": true, \"mean\": 0.28761327578021145, \"std\": 5.058865587024458, \"err_low\": -9.830117898268705, \"err_high\": 10.405344449829128}, {\"time\": \"2009-02-22T09:30:00\", \"variable\": \"TA\", \"value\": 0.07, \"is_present\": true, \"mean\": 0.36161536921244597, \"std\": 5.058865587024456, \"err_low\": -9.756115804836465, \"err_high\": 10.479346543261357}, {\"time\": \"2009-02-22T10:00:00\", \"variable\": \"TA\", \"value\": 0.1, \"is_present\": true, \"mean\": 0.5268364865861663, \"std\": 5.058865587024458, \"err_low\": -9.59089468746275, \"err_high\": 10.644567660635083}, {\"time\": \"2009-02-22T10:30:00\", \"variable\": \"TA\", \"value\": 0.18, \"is_present\": true, \"mean\": 0.5627410329404396, \"std\": 5.0588655870244565, \"err_low\": -9.554990141108473, \"err_high\": 10.680472206989354}, {\"time\": \"2009-02-22T11:00:00\", \"variable\": \"TA\", \"value\": 0.39, \"is_present\": true, \"mean\": 0.7208205646437191, \"std\": 5.058865587024454, \"err_low\": -9.39691060940519, \"err_high\": 10.838551738692626}, {\"time\": \"2009-02-22T11:30:00\", \"variable\": \"TA\", \"value\": 0.51, \"is_present\": true, \"mean\": 0.8914978571514167, \"std\": 5.058865587024458, \"err_low\": -9.226233316897499, \"err_high\": 11.009229031200334}, {\"time\": \"2009-02-22T12:00:00\", \"variable\": \"TA\", \"value\": 0.73, \"is_present\": true, \"mean\": 0.9728329005117988, \"std\": 5.058865587024458, \"err_low\": -9.144898273537118, \"err_high\": 11.090564074560715}, {\"time\": \"2009-02-22T12:30:00\", \"variable\": \"TA\", \"value\": 0.89, \"is_present\": true, \"mean\": 1.1260897448181941, \"std\": 5.0588655870244565, \"err_low\": -8.991641429230718, \"err_high\": 11.243820918867108}, {\"time\": \"2009-02-22T13:00:00\", \"variable\": \"TA\", \"value\": 1.12, \"is_present\": true, \"mean\": 1.3827065830377538, \"std\": 5.058865587024472, \"err_low\": -8.73502459101119, \"err_high\": 11.500437757086697}, {\"time\": \"2009-02-22T13:30:00\", \"variable\": \"TA\", \"value\": 1.4, \"is_present\": true, \"mean\": 1.8645738935042848, \"std\": 5.058865587024541, \"err_low\": -8.253157280544798, \"err_high\": 11.982305067553366}, {\"time\": \"2009-02-22T14:00:00\", \"variable\": \"TA\", \"value\": 1.62, \"is_present\": true, \"mean\": 1.9962268347067065, \"std\": 5.058865587024844, \"err_low\": -8.12150433934298, \"err_high\": 12.113958008756395}, {\"time\": \"2009-02-22T14:30:00\", \"variable\": \"TA\", \"value\": 1.72, \"is_present\": true, \"mean\": 1.9792113413728183, \"std\": 5.058865587026215, \"err_low\": -8.138519832679613, \"err_high\": 12.096942515425248}, {\"time\": \"2009-02-22T15:00:00\", \"variable\": \"TA\", \"value\": 1.75, \"is_present\": true, \"mean\": 2.002770087680938, \"std\": 5.058865587032542, \"err_low\": -8.114961086384145, \"err_high\": 12.120501261746021}, {\"time\": \"2009-02-22T15:30:00\", \"variable\": \"TA\", \"value\": 1.91, \"is_present\": true, \"mean\": 2.0965827081737114, \"std\": 5.058865587061548, \"err_low\": -8.021148465949384, \"err_high\": 12.214313882296807}, {\"time\": \"2009-02-22T16:00:00\", \"variable\": \"TA\", \"value\": 2.22, \"is_present\": true, \"mean\": 2.161239827465952, \"std\": 5.058865587194604, \"err_low\": -7.956491346923256, \"err_high\": 12.27897100185516}, {\"time\": \"2009-02-22T16:30:00\", \"variable\": \"TA\", \"value\": 2.33, \"is_present\": true, \"mean\": 2.4022214741500543, \"std\": 5.058865587804933, \"err_low\": -7.715509701459811, \"err_high\": 12.519952649759919}, {\"time\": \"2009-02-22T17:00:00\", \"variable\": \"TA\", \"value\": 2.47, \"is_present\": true, \"mean\": 2.299850731207515, \"std\": 5.058865590603966, \"err_low\": -7.817880450000416, \"err_high\": 12.417581912415447}, {\"time\": \"2009-02-22T17:30:00\", \"variable\": \"TA\", \"value\": 2.47, \"is_present\": true, \"mean\": 2.2391965501381934, \"std\": 5.058865603446963, \"err_low\": -7.878534656755732, \"err_high\": 12.356927757032118}, {\"time\": \"2009-02-22T18:00:00\", \"variable\": \"TA\", \"value\": 2.47, \"is_present\": true, \"mean\": 2.2203852556047785, \"std\": 5.058865662314125, \"err_low\": -7.897346069023472, \"err_high\": 12.338116580233029}, {\"time\": \"2009-02-22T18:30:00\", \"variable\": \"TA\", \"value\": 2.52, \"is_present\": true, \"mean\": 2.2029087364586752, \"std\": 5.0588659327246654, \"err_low\": -7.914823128990656, \"err_high\": 12.320640601908007}, {\"time\": \"2009-02-22T19:00:00\", \"variable\": \"TA\", \"value\": 2.53, \"is_present\": true, \"mean\": 2.20048592340457, \"std\": 5.058867169268347, \"err_low\": -7.917248415132124, \"err_high\": 12.318220261941264}, {\"time\": \"2009-02-22T19:30:00\", \"variable\": \"TA\", \"value\": 2.57, \"is_present\": true, \"mean\": 2.2136454063986974, \"std\": 5.05887287757174, \"err_low\": -7.904100348744782, \"err_high\": 12.331391161542177}, {\"time\": \"2009-02-22T20:00:00\", \"variable\": \"TA\", \"value\": 2.62, \"is_present\": true, \"mean\": 2.218754434834808, \"std\": 5.0588987183747145, \"err_low\": -7.899043001914621, \"err_high\": 12.336551871584238}, {\"time\": \"2009-02-22T20:30:00\", \"variable\": \"TA\", \"value\": 2.71, \"is_present\": true, \"mean\": 2.2058473410858808, \"std\": 5.059020668523587, \"err_low\": -7.912193995961293, \"err_high\": 12.323888678133056}, {\"time\": \"2009-02-22T21:00:00\", \"variable\": \"TA\", \"value\": 2.75, \"is_present\": true, \"mean\": 2.1646490752090006, \"std\": 5.059550518774929, \"err_low\": -7.9544519623408565, \"err_high\": 12.283750112758858}, {\"time\": \"2009-02-22T21:30:00\", \"variable\": \"TA\", \"value\": 2.69, \"is_present\": true, \"mean\": 2.0779255190773265, \"std\": 5.062336888554375, \"err_low\": -8.046748258031425, \"err_high\": 12.202599296186076}, {\"time\": \"2009-02-22T22:00:00\", \"variable\": \"TA\", \"value\": 2.06, \"is_present\": true, \"mean\": 1.896925484018814, \"std\": 5.073219533497204, \"err_low\": -8.249513582975593, \"err_high\": 12.043364551013221}, {\"time\": \"2009-02-22T22:30:00\", \"variable\": \"TA\", \"value\": 1.95, \"is_present\": false, \"mean\": 1.7581799143814303, \"std\": 5.183143629485974, \"err_low\": -8.608107344590518, \"err_high\": 12.124467173353377}, {\"time\": \"2009-02-22T23:00:00\", \"variable\": \"TA\", \"value\": 1.92, \"is_present\": false, \"mean\": 1.6470973201724552, \"std\": 5.199944650209078, \"err_low\": -8.7527919802457, \"err_high\": 12.046986620590612}, {\"time\": \"2009-02-22T23:30:00\", \"variable\": \"TA\", \"value\": 1.71, \"is_present\": false, \"mean\": 1.5324591697062093, \"std\": 5.205702669723221, \"err_low\": -8.878946169740233, \"err_high\": 11.943864509152652}, {\"time\": \"2009-02-23T00:00:00\", \"variable\": \"TA\", \"value\": 1.42, \"is_present\": false, \"mean\": 1.420885119139367, \"std\": 5.207283156917954, \"err_low\": -8.99368119469654, \"err_high\": 11.835451432975274}, {\"time\": \"2009-02-23T00:30:00\", \"variable\": \"TA\", \"value\": 1.32, \"is_present\": false, \"mean\": 1.3207174948069627, \"std\": 5.207735222598274, \"err_low\": -9.094752950389584, \"err_high\": 11.73618794000351}, {\"time\": \"2009-02-23T01:00:00\", \"variable\": \"TA\", \"value\": 1.12, \"is_present\": false, \"mean\": 1.2371372455925052, \"std\": 5.207735222598273, \"err_low\": -9.17833319960404, \"err_high\": 11.65260769078905}, {\"time\": \"2009-02-23T01:30:00\", \"variable\": \"TA\", \"value\": 0.73, \"is_present\": false, \"mean\": 1.1237760718730367, \"std\": 5.207283156917951, \"err_low\": -9.290790241962865, \"err_high\": 11.538342385708939}, {\"time\": \"2009-02-23T02:00:00\", \"variable\": \"TA\", \"value\": 0.29, \"is_present\": false, \"mean\": 1.0116184902230554, \"std\": 5.205702669723217, \"err_low\": -9.399786849223378, \"err_high\": 11.42302382966949}, {\"time\": \"2009-02-23T02:30:00\", \"variable\": \"TA\", \"value\": 0.43, \"is_present\": false, \"mean\": 0.9346605844510156, \"std\": 5.199944650209078, \"err_low\": -9.46522871596714, \"err_high\": 11.334549884869173}, {\"time\": \"2009-02-23T03:00:00\", \"variable\": \"TA\", \"value\": 0.69, \"is_present\": false, \"mean\": 0.8753732730097434, \"std\": 5.1831436294859765, \"err_low\": -9.490913985962209, \"err_high\": 11.241660531981697}, {\"time\": \"2009-02-23T03:30:00\", \"variable\": \"TA\", \"value\": 0.82, \"is_present\": true, \"mean\": 0.8400079192261245, \"std\": 5.073219533497207, \"err_low\": -9.30643114776829, \"err_high\": 10.986446986220539}, {\"time\": \"2009-02-23T04:00:00\", \"variable\": \"TA\", \"value\": 0.87, \"is_present\": true, \"mean\": 0.8274347471366523, \"std\": 5.062336888554375, \"err_low\": -9.297239029972097, \"err_high\": 10.952108524245403}, {\"time\": \"2009-02-23T04:30:00\", \"variable\": \"TA\", \"value\": 0.86, \"is_present\": true, \"mean\": 0.8030924201394898, \"std\": 5.059550518774934, \"err_low\": -9.316008617410379, \"err_high\": 10.922193457689357}, {\"time\": \"2009-02-23T05:00:00\", \"variable\": \"TA\", \"value\": 0.85, \"is_present\": true, \"mean\": 0.7831593761834696, \"std\": 5.059020668523593, \"err_low\": -9.334881960863717, \"err_high\": 10.901200713230656}, {\"time\": \"2009-02-23T05:30:00\", \"variable\": \"TA\", \"value\": 0.94, \"is_present\": true, \"mean\": 0.7797255293220431, \"std\": 5.058898718374715, \"err_low\": -9.338071907427388, \"err_high\": 10.897522966071474}, {\"time\": \"2009-02-23T06:00:00\", \"variable\": \"TA\", \"value\": 0.91, \"is_present\": true, \"mean\": 0.7495014054484166, \"std\": 5.058872877571743, \"err_low\": -9.36824434969507, \"err_high\": 10.867247160591903}, {\"time\": \"2009-02-23T06:30:00\", \"variable\": \"TA\", \"value\": 0.62, \"is_present\": true, \"mean\": 0.6719216217571544, \"std\": 5.0588671692683445, \"err_low\": -9.445812716779535, \"err_high\": 10.789655960293842}, {\"time\": \"2009-02-23T07:00:00\", \"variable\": \"TA\", \"value\": 0.52, \"is_present\": true, \"mean\": 0.6151486574880911, \"std\": 5.058865932724673, \"err_low\": -9.502583207961255, \"err_high\": 10.732880522937439}, {\"time\": \"2009-02-23T07:30:00\", \"variable\": \"TA\", \"value\": 0.56, \"is_present\": true, \"mean\": 0.5926800139296313, \"std\": 5.058865662314152, \"err_low\": -9.525051310698672, \"err_high\": 10.710411338557936}, {\"time\": \"2009-02-23T08:00:00\", \"variable\": \"TA\", \"value\": 0.58, \"is_present\": true, \"mean\": 0.500670534640915, \"std\": 5.058865603447099, \"err_low\": -9.617060672253285, \"err_high\": 10.618401741535113}, {\"time\": \"2009-02-23T08:30:00\", \"variable\": \"TA\", \"value\": 0.49, \"is_present\": true, \"mean\": 0.4549869991336797, \"std\": 5.058865590604573, \"err_low\": -9.662744182075468, \"err_high\": 10.572718180342825}, {\"time\": \"2009-02-23T09:00:00\", \"variable\": \"TA\", \"value\": 0.51, \"is_present\": true, \"mean\": 0.5368916132461843, \"std\": 5.0588655878077375, \"err_low\": -9.580839562369292, \"err_high\": 10.654622788861658}, {\"time\": \"2009-02-23T09:30:00\", \"variable\": \"TA\", \"value\": 0.36, \"is_present\": true, \"mean\": 0.6061285156880869, \"std\": 5.058865587207466, \"err_low\": -9.511602658726844, \"err_high\": 10.72385969010302}, {\"time\": \"2009-02-23T10:00:00\", \"variable\": \"TA\", \"value\": 0.45, \"is_present\": true, \"mean\": 0.5289172727214746, \"std\": 5.05886558712056, \"err_low\": -9.588813901519647, \"err_high\": 10.646648446962594}, {\"time\": \"2009-02-23T10:30:00\", \"variable\": \"TA\", \"value\": 0.75, \"is_present\": true, \"mean\": -0.36957542725226133, \"std\": 5.058865587303195, \"err_low\": -10.487306601858652, \"err_high\": 9.74815574735413}, {\"time\": \"2009-02-23T11:00:00\", \"variable\": \"TA\", \"value\": 0.97, \"is_present\": true, \"mean\": -0.0987193505382713, \"std\": 5.058865588267718, \"err_low\": -10.216450527073707, \"err_high\": 10.019011825997165}, {\"time\": \"2009-02-23T11:30:00\", \"variable\": \"TA\", \"value\": 1.16, \"is_present\": true, \"mean\": 0.10662509851608881, \"std\": 5.058865592718765, \"err_low\": -10.01110608692144, \"err_high\": 10.224356283953618}, {\"time\": \"2009-02-23T12:00:00\", \"variable\": \"TA\", \"value\": 1.42, \"is_present\": true, \"mean\": 0.3275739708362462, \"std\": 5.05886561314717, \"err_low\": -9.790157255458094, \"err_high\": 10.445305197130587}, {\"time\": \"2009-02-23T12:30:00\", \"variable\": \"TA\", \"value\": 1.44, \"is_present\": true, \"mean\": 0.6098532483124561, \"std\": 5.058865706790184, \"err_low\": -9.507878165267911, \"err_high\": 10.727584661892823}, {\"time\": \"2009-02-23T13:00:00\", \"variable\": \"TA\", \"value\": 1.64, \"is_present\": true, \"mean\": 1.068674773815439, \"std\": 5.058866136869665, \"err_low\": -9.04905749992389, \"err_high\": 11.18640704755477}, {\"time\": \"2009-02-23T13:30:00\", \"variable\": \"TA\", \"value\": 1.65, \"is_present\": true, \"mean\": 1.960576018213363, \"std\": 5.058868103872162, \"err_low\": -8.157160189530961, \"err_high\": 12.078312225957687}, {\"time\": \"2009-02-23T14:00:00\", \"variable\": \"TA\", \"value\": 1.79, \"is_present\": true, \"mean\": 1.7215769154927907, \"std\": 5.05887717200877, \"err_low\": -8.396177428524748, \"err_high\": 11.839331259510331}, {\"time\": \"2009-02-23T14:30:00\", \"variable\": \"TA\", \"value\": 1.82, \"is_present\": true, \"mean\": 1.6462674705361842, \"std\": 5.058918138630372, \"err_low\": -8.47156880672456, \"err_high\": 11.764103747796929}, {\"time\": \"2009-02-23T15:00:00\", \"variable\": \"TA\", \"value\": 1.91, \"is_present\": true, \"mean\": 1.7179138397486033, \"std\": 5.059107867843082, \"err_low\": -8.40030189593756, \"err_high\": 11.836129575434768}, {\"time\": \"2009-02-23T15:30:00\", \"variable\": \"TA\", \"value\": 1.9, \"is_present\": true, \"mean\": 1.724494200101243, \"std\": 5.059877351200651, \"err_low\": -8.395260502300058, \"err_high\": 11.844248902502546}, {\"time\": \"2009-02-23T16:00:00\", \"variable\": \"TA\", \"value\": 1.86, \"is_present\": true, \"mean\": 1.7807089316138773, \"std\": 5.063005549679647, \"err_low\": -8.345302167745416, \"err_high\": 11.906720030973172}, {\"time\": \"2009-02-23T16:30:00\", \"variable\": \"TA\", \"value\": 1.85, \"is_present\": true, \"mean\": 1.3221733940825944, \"std\": 5.121504333986453, \"err_low\": -8.920835273890312, \"err_high\": 11.565182062055502}], \"data-c8a4fcd26bd4c9651db43add2e4cc52d\": [{\"gap_start\": \"2009-02-22T22:30:00\", \"gap_end\": \"2009-02-23T03:00:00\"}], \"data-d3e63017707f49dde21b9b182f86de39\": [{\"time\": \"2009-02-19T13:00:00\", \"variable\": \"SW_IN\", \"value\": 482.88, \"is_present\": true, \"mean\": 171.29215173016496, \"std\": 232.766273950474, \"err_low\": -294.240396170783, \"err_high\": 636.8246996311129}, {\"time\": \"2009-02-19T13:30:00\", \"variable\": \"SW_IN\", \"value\": 468.57, \"is_present\": true, \"mean\": 248.7320118272548, \"std\": 229.5257189913474, \"err_low\": -210.31942615543997, \"err_high\": 707.7834498099496}, {\"time\": \"2009-02-19T14:00:00\", \"variable\": \"SW_IN\", \"value\": 452.47, \"is_present\": true, \"mean\": 204.24125863817898, \"std\": 229.41736862770094, \"err_low\": -254.5934786172229, \"err_high\": 663.0759958935809}, {\"time\": \"2009-02-19T14:30:00\", \"variable\": \"SW_IN\", \"value\": 412.21, \"is_present\": true, \"mean\": 198.24891283780872, \"std\": 229.41088062301853, \"err_low\": -260.5728484082283, \"err_high\": 657.0706740838458}, {\"time\": \"2009-02-19T15:00:00\", \"variable\": \"SW_IN\", \"value\": 335.56, \"is_present\": true, \"mean\": 172.39831508911942, \"std\": 229.40995482878762, \"err_low\": -286.4215945684558, \"err_high\": 631.2182247466947}, {\"time\": \"2009-02-19T15:30:00\", \"variable\": \"SW_IN\", \"value\": 229.24, \"is_present\": true, \"mean\": 136.7541205530366, \"std\": 229.4098743146248, \"err_low\": -322.065628076213, \"err_high\": 595.5738691822862}, {\"time\": \"2009-02-19T16:00:00\", \"variable\": \"SW_IN\", \"value\": 181.01, \"is_present\": true, \"mean\": 119.27661601392009, \"std\": 229.409851606461, \"err_low\": -339.5430871990019, \"err_high\": 578.0963192268421}, {\"time\": \"2009-02-19T16:30:00\", \"variable\": \"SW_IN\", \"value\": 208.48, \"is_present\": true, \"mean\": 109.21845719261037, \"std\": 229.40984759611914, \"err_low\": -349.60123799962787, \"err_high\": 568.0381523848487}, {\"time\": \"2009-02-19T17:00:00\", \"variable\": \"SW_IN\", \"value\": 92.64, \"is_present\": true, \"mean\": 81.16345697949696, \"std\": 229.40984664299492, \"err_low\": -377.6562363064929, \"err_high\": 539.9831502654868}, {\"time\": \"2009-02-19T17:30:00\", \"variable\": \"SW_IN\", \"value\": 23.61, \"is_present\": true, \"mean\": 59.92250662187156, \"std\": 229.40984644442625, \"err_low\": -398.89718626698095, \"err_high\": 518.742199510724}, {\"time\": \"2009-02-19T18:00:00\", \"variable\": \"SW_IN\", \"value\": 1.36, \"is_present\": true, \"mean\": 46.5165026019301, \"std\": 229.40984640021955, \"err_low\": -412.303190198509, \"err_high\": 505.3361954023692}, {\"time\": \"2009-02-19T18:30:00\", \"variable\": \"SW_IN\", \"value\": 0.0, \"is_present\": true, \"mean\": 43.45844284873286, \"std\": 229.40984639067995, \"err_low\": -415.36124993262706, \"err_high\": 502.2781356300927}, {\"time\": \"2009-02-19T19:00:00\", \"variable\": \"SW_IN\", \"value\": 0.0, \"is_present\": true, \"mean\": 47.39505164941232, \"std\": 229.4098463885901, \"err_low\": -411.42464112776787, \"err_high\": 506.2147444265925}, {\"time\": \"2009-02-19T19:30:00\", \"variable\": \"SW_IN\", \"value\": 0.0, \"is_present\": true, \"mean\": 45.75073499901934, \"std\": 229.40984638813538, \"err_low\": -413.0689577772514, \"err_high\": 504.5704277752901}, {\"time\": \"2009-02-19T20:00:00\", \"variable\": \"SW_IN\", \"value\": 0.0, \"is_present\": true, \"mean\": 39.391250111913294, \"std\": 229.40984638803624, \"err_low\": -419.4284426641592, \"err_high\": 498.21094288798577}, {\"time\": \"2009-02-19T20:30:00\", \"variable\": \"SW_IN\", \"value\": 0.0, \"is_present\": true, \"mean\": 30.68256862209327, \"std\": 229.40984638801453, \"err_low\": -428.1371241539358, \"err_high\": 489.5022613981223}, {\"time\": \"2009-02-19T21:00:00\", \"variable\": \"SW_IN\", \"value\": 0.0, \"is_present\": true, \"mean\": 23.19548576416065, \"std\": 229.4098463880097, \"err_low\": -435.62420701185874, \"err_high\": 482.01517854018005}, {\"time\": \"2009-02-19T21:30:00\", \"variable\": \"SW_IN\", \"value\": 0.0, \"is_present\": true, \"mean\": 10.885197561936181, \"std\": 229.40984638800896, \"err_low\": -447.9344952140817, \"err_high\": 469.7048903379541}, {\"time\": \"2009-02-19T22:00:00\", \"variable\": \"SW_IN\", \"value\": 0.0, \"is_present\": true, \"mean\": -7.027570483551273, \"std\": 229.40984638800873, \"err_low\": -465.84726325956876, \"err_high\": 451.79212229246616}, {\"time\": \"2009-02-19T22:30:00\", \"variable\": \"SW_IN\", \"value\": 0.0, \"is_present\": true, \"mean\": -18.541773149800534, \"std\": 229.4098463880086, \"err_low\": -477.3614659258177, \"err_high\": 440.27791962621666}, {\"time\": \"2009-02-19T23:00:00\", \"variable\": \"SW_IN\", \"value\": 0.0, \"is_present\": true, \"mean\": -20.592385578469774, \"std\": 229.40984638800856, \"err_low\": -479.4120783544869, \"err_high\": 438.22730719754736}, {\"time\": \"2009-02-19T23:30:00\", \"variable\": \"SW_IN\", \"value\": 0.0, \"is_present\": true, \"mean\": -21.57716245269681, \"std\": 229.40984638800887, \"err_low\": -480.39685522871457, \"err_high\": 437.2425303233209}, {\"time\": \"2009-02-20T00:00:00\", \"variable\": \"SW_IN\", \"value\": 0.0, \"is_present\": true, \"mean\": -21.964814194810387, \"std\": 229.40984638800813, \"err_low\": -480.78450697082667, \"err_high\": 436.85487858120587}, {\"time\": \"2009-02-20T00:30:00\", \"variable\": \"SW_IN\", \"value\": 0.0, \"is_present\": true, \"mean\": -21.187558383902157, \"std\": 229.40984638800873, \"err_low\": -480.00725115991963, \"err_high\": 437.6321343921153}, {\"time\": \"2009-02-20T01:00:00\", \"variable\": \"SW_IN\", \"value\": 0.0, \"is_present\": true, \"mean\": -20.006833978557538, \"std\": 229.40984638800887, \"err_low\": -478.8265267545753, \"err_high\": 438.8128587974602}, {\"time\": \"2009-02-20T01:30:00\", \"variable\": \"SW_IN\", \"value\": 0.0, \"is_present\": true, \"mean\": -19.342873860307847, \"std\": 229.40984638800873, \"err_low\": -478.1625666363253, \"err_high\": 439.4768189157096}, {\"time\": \"2009-02-20T02:00:00\", \"variable\": \"SW_IN\", \"value\": 0.0, \"is_present\": true, \"mean\": -19.02648830998716, \"std\": 229.4098463880087, \"err_low\": -477.84618108600455, \"err_high\": 439.79320446603026}, {\"time\": \"2009-02-20T02:30:00\", \"variable\": \"SW_IN\", \"value\": 0.0, \"is_present\": true, \"mean\": -18.518677445232058, \"std\": 229.40984638800842, \"err_low\": -477.3383702212489, \"err_high\": 440.30101533078476}, {\"time\": \"2009-02-20T03:00:00\", \"variable\": \"SW_IN\", \"value\": 0.0, \"is_present\": true, \"mean\": -17.91889373968995, \"std\": 229.4098463880089, \"err_low\": -476.73858651570777, \"err_high\": 440.90079903632784}, {\"time\": \"2009-02-20T03:30:00\", \"variable\": \"SW_IN\", \"value\": 0.0, \"is_present\": true, \"mean\": -17.013060700617174, \"std\": 229.4098463880087, \"err_low\": -475.8327534766346, \"err_high\": 441.8066320754002}, {\"time\": \"2009-02-20T04:00:00\", \"variable\": \"SW_IN\", \"value\": 0.0, \"is_present\": true, \"mean\": -15.886365953480905, \"std\": 229.40984638800873, \"err_low\": -474.70605872949835, \"err_high\": 442.93332682253657}, {\"time\": \"2009-02-20T04:30:00\", \"variable\": \"SW_IN\", \"value\": 0.0, \"is_present\": true, \"mean\": -14.963348360998467, \"std\": 229.40984638800887, \"err_low\": -473.7830411370162, \"err_high\": 443.8563444150193}, {\"time\": \"2009-02-20T05:00:00\", \"variable\": \"SW_IN\", \"value\": 0.0, \"is_present\": true, \"mean\": -14.704589954218235, \"std\": 229.4098463880085, \"err_low\": -473.52428273023526, \"err_high\": 444.11510282179876}, {\"time\": \"2009-02-20T05:30:00\", \"variable\": \"SW_IN\", \"value\": 0.0, \"is_present\": true, \"mean\": -14.73412612722349, \"std\": 229.4098463880088, \"err_low\": -473.55381890324105, \"err_high\": 444.0855666487941}, {\"time\": \"2009-02-20T06:00:00\", \"variable\": \"SW_IN\", \"value\": 0.0, \"is_present\": true, \"mean\": -14.00190914992406, \"std\": 229.4098463880088, \"err_low\": -472.82160192594165, \"err_high\": 444.8177836260935}, {\"time\": \"2009-02-20T06:30:00\", \"variable\": \"SW_IN\", \"value\": 0.0, \"is_present\": true, \"mean\": -13.57683895841977, \"std\": 229.40984638800882, \"err_low\": -472.3965317344374, \"err_high\": 445.24285381759785}, {\"time\": \"2009-02-20T07:00:00\", \"variable\": \"SW_IN\", \"value\": 0.0, \"is_present\": true, \"mean\": -13.347137432100979, \"std\": 229.4098463880085, \"err_low\": -472.166830208118, \"err_high\": 445.47255534391604}, {\"time\": \"2009-02-20T07:30:00\", \"variable\": \"SW_IN\", \"value\": 0.0, \"is_present\": true, \"mean\": -13.232649495256837, \"std\": 229.40984638800842, \"err_low\": -472.0523422712737, \"err_high\": 445.58704328076}, {\"time\": \"2009-02-20T08:00:00\", \"variable\": \"SW_IN\", \"value\": 8.6, \"is_present\": true, \"mean\": -10.203464516546589, \"std\": 229.4098463880085, \"err_low\": -469.0231572925636, \"err_high\": 448.6162282594704}, {\"time\": \"2009-02-20T08:30:00\", \"variable\": \"SW_IN\", \"value\": 31.2, \"is_present\": true, \"mean\": -3.289923612460953, \"std\": 229.40984638800865, \"err_low\": -462.10961638847823, \"err_high\": 455.52976916355635}, {\"time\": \"2009-02-20T09:00:00\", \"variable\": \"SW_IN\", \"value\": 44.88, \"is_present\": true, \"mean\": 2.1290105489677273, \"std\": 229.4098463880085, \"err_low\": -456.69068222704925, \"err_high\": 460.94870332498476}, {\"time\": \"2009-02-20T09:30:00\", \"variable\": \"SW_IN\", \"value\": 55.99, \"is_present\": true, \"mean\": 6.8994344102028435, \"std\": 229.40984638800865, \"err_low\": -451.92025836581445, \"err_high\": 465.71912718622013}, {\"time\": \"2009-02-20T10:00:00\", \"variable\": \"SW_IN\", \"value\": 56.54, \"is_present\": true, \"mean\": 10.778769683547466, \"std\": 229.4098463880087, \"err_low\": -448.04092309246994, \"err_high\": 469.59846245956487}, {\"time\": \"2009-02-20T10:30:00\", \"variable\": \"SW_IN\", \"value\": 99.74, \"is_present\": true, \"mean\": 23.627324151637026, \"std\": 229.4098463880087, \"err_low\": -435.1923686243804, \"err_high\": 482.44701692765443}, {\"time\": \"2009-02-20T11:00:00\", \"variable\": \"SW_IN\", \"value\": 127.73, \"is_present\": true, \"mean\": 33.14720671474676, \"std\": 229.40984638800865, \"err_low\": -425.67248606127055, \"err_high\": 491.96689949076404}, {\"time\": \"2009-02-20T11:30:00\", \"variable\": \"SW_IN\", \"value\": 139.22, \"is_present\": true, \"mean\": 38.96960679384321, \"std\": 229.4098463880088, \"err_low\": -419.8500859821744, \"err_high\": 497.78929956986076}, {\"time\": \"2009-02-20T12:00:00\", \"variable\": \"SW_IN\", \"value\": 135.15, \"is_present\": true, \"mean\": 40.80751285543769, \"std\": 229.40984638800865, \"err_low\": -418.01217992057957, \"err_high\": 499.627205631455}, {\"time\": \"2009-02-20T12:30:00\", \"variable\": \"SW_IN\", \"value\": 139.83, \"is_present\": true, \"mean\": 42.88629059216066, \"std\": 229.40984638800873, \"err_low\": -415.9334021838568, \"err_high\": 501.7059833681781}, {\"time\": \"2009-02-20T13:00:00\", \"variable\": \"SW_IN\", \"value\": 103.2, \"is_present\": true, \"mean\": 34.74447986327672, \"std\": 229.4098463880087, \"err_low\": -424.07521291274065, \"err_high\": 493.56417263929416}, {\"time\": \"2009-02-20T13:30:00\", \"variable\": \"SW_IN\", \"value\": 147.91, \"is_present\": true, \"mean\": 52.22117035941169, \"std\": 229.40984638800856, \"err_low\": -406.5985224166054, \"err_high\": 511.0408631354288}, {\"time\": \"2009-02-20T14:00:00\", \"variable\": \"SW_IN\", \"value\": 111.98, \"is_present\": true, \"mean\": 45.94572565804614, \"std\": 229.40984638800882, \"err_low\": -412.87396711797146, \"err_high\": 504.7654184340638}, {\"time\": \"2009-02-20T14:30:00\", \"variable\": \"SW_IN\", \"value\": 92.38, \"is_present\": true, \"mean\": 40.427074393856415, \"std\": 229.40984638800856, \"err_low\": -418.3926183821607, \"err_high\": 499.2467671698735}, {\"time\": \"2009-02-20T15:00:00\", \"variable\": \"SW_IN\", \"value\": 81.79, \"is_present\": true, \"mean\": 35.72029266111424, \"std\": 229.40984638800865, \"err_low\": -423.09940011490306, \"err_high\": 494.5399854371315}, {\"time\": \"2009-02-20T15:30:00\", \"variable\": \"SW_IN\", \"value\": 64.01, \"is_present\": true, \"mean\": 30.369297773913416, \"std\": 229.4098463880089, \"err_low\": -428.4503950021044, \"err_high\": 489.1889905499312}, {\"time\": \"2009-02-20T16:00:00\", \"variable\": \"SW_IN\", \"value\": 71.72, \"is_present\": true, \"mean\": 31.732247018589092, \"std\": 229.40984638800836, \"err_low\": -427.08744575742764, \"err_high\": 490.5519397946058}, {\"time\": \"2009-02-20T16:30:00\", \"variable\": \"SW_IN\", \"value\": 37.98, \"is_present\": true, \"mean\": 18.756318799570778, \"std\": 229.4098463880087, \"err_low\": -440.06337397644666, \"err_high\": 477.57601157558815}, {\"time\": \"2009-02-20T17:00:00\", \"variable\": \"SW_IN\", \"value\": 20.95, \"is_present\": true, \"mean\": 13.779822208956986, \"std\": 229.40984638800833, \"err_low\": -445.03987056705967, \"err_high\": 472.59951498497367}, {\"time\": \"2009-02-20T17:30:00\", \"variable\": \"SW_IN\", \"value\": 5.89, \"is_present\": true, \"mean\": 8.478679490784046, \"std\": 229.40984638800848, \"err_low\": -450.3410132852329, \"err_high\": 467.298372266801}, {\"time\": \"2009-02-20T18:00:00\", \"variable\": \"SW_IN\", \"value\": 0.0, \"is_present\": true, \"mean\": 6.144803380425927, \"std\": 229.40984638800882, \"err_low\": -452.6748893955917, \"err_high\": 464.96449615644354}, {\"time\": \"2009-02-20T18:30:00\", \"variable\": \"SW_IN\", \"value\": 0.0, \"is_present\": true, \"mean\": 8.177323904352662, \"std\": 229.40984638800856, \"err_low\": -450.6423688716645, \"err_high\": 466.99701668036977}, {\"time\": \"2009-02-20T19:00:00\", \"variable\": \"SW_IN\", \"value\": 0.0, \"is_present\": true, \"mean\": 11.67363104730805, \"std\": 229.40984638800896, \"err_low\": -447.14606172870987, \"err_high\": 470.49332382332597}, {\"time\": \"2009-02-20T19:30:00\", \"variable\": \"SW_IN\", \"value\": 0.0, \"is_present\": true, \"mean\": 14.272057961109937, \"std\": 229.40984638800873, \"err_low\": -444.5476348149075, \"err_high\": 473.0917507371274}, {\"time\": \"2009-02-20T20:00:00\", \"variable\": \"SW_IN\", \"value\": 0.0, \"is_present\": true, \"mean\": 16.334918544624003, \"std\": 229.4098463880089, \"err_low\": -442.48477423139377, \"err_high\": 475.15461132064183}, {\"time\": \"2009-02-20T20:30:00\", \"variable\": \"SW_IN\", \"value\": 0.0, \"is_present\": true, \"mean\": 17.15587340574082, \"std\": 229.40984638800848, \"err_low\": -441.66381937027614, \"err_high\": 475.97556618175776}, {\"time\": \"2009-02-20T21:00:00\", \"variable\": \"SW_IN\", \"value\": 0.0, \"is_present\": true, \"mean\": 17.90335777856079, \"std\": 229.4098463880087, \"err_low\": -440.9163349974566, \"err_high\": 476.7230505545782}, {\"time\": \"2009-02-20T21:30:00\", \"variable\": \"SW_IN\", \"value\": 0.0, \"is_present\": true, \"mean\": 18.66280667484169, \"std\": 229.40984638800882, \"err_low\": -440.1568861011759, \"err_high\": 477.48249945085934}, {\"time\": \"2009-02-20T22:00:00\", \"variable\": \"SW_IN\", \"value\": 0.0, \"is_present\": true, \"mean\": 19.231890425186975, \"std\": 229.40984638800865, \"err_low\": -439.5878023508303, \"err_high\": 478.05158320120427}, {\"time\": \"2009-02-20T22:30:00\", \"variable\": \"SW_IN\", \"value\": 0.0, \"is_present\": true, \"mean\": 19.698473666464352, \"std\": 229.40984638800842, \"err_low\": -439.1212191095525, \"err_high\": 478.5181664424812}, {\"time\": \"2009-02-20T23:00:00\", \"variable\": \"SW_IN\", \"value\": 0.0, \"is_present\": true, \"mean\": 20.168246837980234, \"std\": 229.40984638800887, \"err_low\": -438.6514459380375, \"err_high\": 478.987939613998}, {\"time\": \"2009-02-20T23:30:00\", \"variable\": \"SW_IN\", \"value\": 0.0, \"is_present\": true, \"mean\": 20.405459925058963, \"std\": 229.4098463880089, \"err_low\": -438.41423285095885, \"err_high\": 479.22515270107675}, {\"time\": \"2009-02-21T00:00:00\", \"variable\": \"SW_IN\", \"value\": 0.0, \"is_present\": true, \"mean\": 20.09962735769581, \"std\": 229.4098463880088, \"err_low\": -438.7200654183218, \"err_high\": 478.91932013371337}, {\"time\": \"2009-02-21T00:30:00\", \"variable\": \"SW_IN\", \"value\": 0.0, \"is_present\": true, \"mean\": 19.844497842821383, \"std\": 229.4098463880087, \"err_low\": -438.975194933196, \"err_high\": 478.6641906188388}, {\"time\": \"2009-02-21T01:00:00\", \"variable\": \"SW_IN\", \"value\": 0.0, \"is_present\": true, \"mean\": 19.339795878406008, \"std\": 229.4098463880086, \"err_low\": -439.4798968976112, \"err_high\": 478.15948865442317}, {\"time\": \"2009-02-21T01:30:00\", \"variable\": \"SW_IN\", \"value\": 0.0, \"is_present\": true, \"mean\": 18.668162875435684, \"std\": 229.40984638800865, \"err_low\": -440.15152990058164, \"err_high\": 477.48785565145295}, {\"time\": \"2009-02-21T02:00:00\", \"variable\": \"SW_IN\", \"value\": 0.0, \"is_present\": true, \"mean\": 17.155928333348726, \"std\": 229.4098463880088, \"err_low\": -441.6637644426688, \"err_high\": 475.97562110936633}, {\"time\": \"2009-02-21T02:30:00\", \"variable\": \"SW_IN\", \"value\": 0.0, \"is_present\": true, \"mean\": 15.313466727636353, \"std\": 229.40984638800856, \"err_low\": -443.50622604838077, \"err_high\": 474.1331595036535}, {\"time\": \"2009-02-21T03:00:00\", \"variable\": \"SW_IN\", \"value\": 0.0, \"is_present\": true, \"mean\": 12.884255950831772, \"std\": 229.4098463880087, \"err_low\": -445.93543682518566, \"err_high\": 471.70394872684915}, {\"time\": \"2009-02-21T03:30:00\", \"variable\": \"SW_IN\", \"value\": 0.0, \"is_present\": true, \"mean\": 10.310185361799554, \"std\": 229.40984638800882, \"err_low\": -448.5095074142181, \"err_high\": 469.1298781378172}, {\"time\": \"2009-02-21T04:00:00\", \"variable\": \"SW_IN\", \"value\": 0.0, \"is_present\": true, \"mean\": 8.257720712893544, \"std\": 229.4098463880085, \"err_low\": -450.56197206312345, \"err_high\": 467.07741348891057}, {\"time\": \"2009-02-21T04:30:00\", \"variable\": \"SW_IN\", \"value\": 0.0, \"is_present\": true, \"mean\": 5.859683735345229, \"std\": 229.40984638800887, \"err_low\": -452.9600090406725, \"err_high\": 464.679376511363}, {\"time\": \"2009-02-21T05:00:00\", \"variable\": \"SW_IN\", \"value\": 0.0, \"is_present\": true, \"mean\": 2.7852524460072345, \"std\": 229.4098463880086, \"err_low\": -456.03444033000994, \"err_high\": 461.6049452220244}, {\"time\": \"2009-02-21T05:30:00\", \"variable\": \"SW_IN\", \"value\": 0.0, \"is_present\": true, \"mean\": 1.2712865851059405, \"std\": 229.4098463880089, \"err_low\": -457.54840619091186, \"err_high\": 460.09097936112374}, {\"time\": \"2009-02-21T06:00:00\", \"variable\": \"SW_IN\", \"value\": 0.0, \"is_present\": true, \"mean\": 1.1507839650219154, \"std\": 229.40984638800896, \"err_low\": -457.668908810996, \"err_high\": 459.9704767410398}, {\"time\": \"2009-02-21T06:30:00\", \"variable\": \"SW_IN\", \"value\": 0.0, \"is_present\": true, \"mean\": 2.8730937655303848, \"std\": 229.40984638800865, \"err_low\": -455.9465990104869, \"err_high\": 461.69278654154766}, {\"time\": \"2009-02-21T07:00:00\", \"variable\": \"SW_IN\", \"value\": 0.0, \"is_present\": true, \"mean\": 4.960284084013949, \"std\": 229.4098463880087, \"err_low\": -453.85940869200346, \"err_high\": 463.77997686003135}, {\"time\": \"2009-02-21T07:30:00\", \"variable\": \"SW_IN\", \"value\": 0.84, \"is_present\": true, \"mean\": 6.018777452658895, \"std\": 229.40984638800856, \"err_low\": -452.80091532335825, \"err_high\": 464.838470228676}, {\"time\": \"2009-02-21T08:00:00\", \"variable\": \"SW_IN\", \"value\": 9.52, \"is_present\": true, \"mean\": 10.15247732253809, \"std\": 229.4098463880089, \"err_low\": -448.6672154534797, \"err_high\": 468.9721700985559}, {\"time\": \"2009-02-21T08:30:00\", \"variable\": \"SW_IN\", \"value\": 32.21, \"is_present\": true, \"mean\": 17.91913001372815, \"std\": 229.4098463880085, \"err_low\": -440.90056276228887, \"err_high\": 476.73882278974514}, {\"time\": \"2009-02-21T09:00:00\", \"variable\": \"SW_IN\", \"value\": 57.2, \"is_present\": true, \"mean\": 26.30071841612839, \"std\": 229.40984638800887, \"err_low\": -432.51897435988934, \"err_high\": 485.12041119214615}, {\"time\": \"2009-02-21T09:30:00\", \"variable\": \"SW_IN\", \"value\": 50.73, \"is_present\": true, \"mean\": 29.5480717001966, \"std\": 229.4098463880088, \"err_low\": -429.271621075821, \"err_high\": 488.3677644762142}, {\"time\": \"2009-02-21T10:00:00\", \"variable\": \"SW_IN\", \"value\": 70.1, \"is_present\": true, \"mean\": 32.876349300121916, \"std\": 229.40984638800873, \"err_low\": -425.9433434758955, \"err_high\": 491.6960420761394}, {\"time\": \"2009-02-21T10:30:00\", \"variable\": \"SW_IN\", \"value\": 88.69, \"is_present\": true, \"mean\": 56.70164129976504, \"std\": 229.40984638800856, \"err_low\": -402.11805147625205, \"err_high\": 515.5213340757822}, {\"time\": \"2009-02-21T11:00:00\", \"variable\": \"SW_IN\", \"value\": 153.07, \"is_present\": true, \"mean\": 76.97542848468584, \"std\": 229.4098463880088, \"err_low\": -381.84426429133174, \"err_high\": 535.7951212607034}, {\"time\": \"2009-02-21T11:30:00\", \"variable\": \"SW_IN\", \"value\": 195.93, \"is_present\": true, \"mean\": 92.58726406200722, \"std\": 229.40984638800873, \"err_low\": -366.2324287140102, \"err_high\": 551.4069568380247}, {\"time\": \"2009-02-21T12:00:00\", \"variable\": \"SW_IN\", \"value\": 228.6, \"is_present\": true, \"mean\": 105.37198150155456, \"std\": 229.4098463880086, \"err_low\": -353.4477112744626, \"err_high\": 564.1916742775718}, {\"time\": \"2009-02-21T12:30:00\", \"variable\": \"SW_IN\", \"value\": 285.74, \"is_present\": true, \"mean\": 121.80060834135105, \"std\": 229.40984638800848, \"err_low\": -337.0190844346659, \"err_high\": 580.620301117368}, {\"time\": \"2009-02-21T13:00:00\", \"variable\": \"SW_IN\", \"value\": 315.04, \"is_present\": true, \"mean\": 138.01122692132958, \"std\": 229.4098463880088, \"err_low\": -320.808465854688, \"err_high\": 596.8309196973471}, {\"time\": \"2009-02-21T13:30:00\", \"variable\": \"SW_IN\", \"value\": 271.2, \"is_present\": true, \"mean\": 124.27790455043372, \"std\": 229.4098463880086, \"err_low\": -334.54178822558345, \"err_high\": 583.0975973264509}, {\"time\": \"2009-02-21T14:00:00\", \"variable\": \"SW_IN\", \"value\": 195.84, \"is_present\": true, \"mean\": 106.540609496391, \"std\": 229.4098463880086, \"err_low\": -352.2790832796262, \"err_high\": 565.3603022724081}, {\"time\": \"2009-02-21T14:30:00\", \"variable\": \"SW_IN\", \"value\": 202.31, \"is_present\": true, \"mean\": 104.39542523527842, \"std\": 229.4098463880088, \"err_low\": -354.42426754073915, \"err_high\": 563.215118011296}, {\"time\": \"2009-02-21T15:00:00\", \"variable\": \"SW_IN\", \"value\": 163.9, \"is_present\": true, \"mean\": 93.47751657471179, \"std\": 229.40984638800865, \"err_low\": -365.3421762013055, \"err_high\": 552.2972093507291}, {\"time\": \"2009-02-21T15:30:00\", \"variable\": \"SW_IN\", \"value\": 120.32, \"is_present\": true, \"mean\": 77.46008281434511, \"std\": 229.40984638800873, \"err_low\": -381.35960996167233, \"err_high\": 536.2797755903625}, {\"time\": \"2009-02-21T16:00:00\", \"variable\": \"SW_IN\", \"value\": 75.01, \"is_present\": true, \"mean\": 62.16708996121509, \"std\": 229.40984638800882, \"err_low\": -396.65260281480255, \"err_high\": 520.9867827372327}, {\"time\": \"2009-02-21T16:30:00\", \"variable\": \"SW_IN\", \"value\": 48.8, \"is_present\": true, \"mean\": 42.87085530909019, \"std\": 229.4098463880088, \"err_low\": -415.9488374669274, \"err_high\": 501.69054808510776}, {\"time\": \"2009-02-21T17:00:00\", \"variable\": \"SW_IN\", \"value\": 15.36, \"is_present\": true, \"mean\": 30.365794207490893, \"std\": 229.40984638800856, \"err_low\": -428.45389856852626, \"err_high\": 489.185486983508}, {\"time\": \"2009-02-21T17:30:00\", \"variable\": \"SW_IN\", \"value\": 6.9, \"is_present\": true, \"mean\": 24.41546087301137, \"std\": 229.4098463880088, \"err_low\": -434.40423190300623, \"err_high\": 483.2351536490289}, {\"time\": \"2009-02-21T18:00:00\", \"variable\": \"SW_IN\", \"value\": 0.0, \"is_present\": true, \"mean\": 21.31256849669576, \"std\": 229.40984638800836, \"err_low\": -437.507124279321, \"err_high\": 480.13226127271247}, {\"time\": \"2009-02-21T18:30:00\", \"variable\": \"SW_IN\", \"value\": 0.0, \"is_present\": true, \"mean\": 22.59136504056528, \"std\": 229.4098463880088, \"err_low\": -436.2283277354523, \"err_high\": 481.41105781658285}, {\"time\": \"2009-02-21T19:00:00\", \"variable\": \"SW_IN\", \"value\": 0.0, \"is_present\": true, \"mean\": 24.956290615419604, \"std\": 229.4098463880085, \"err_low\": -433.8634021605974, \"err_high\": 483.7759833914366}, {\"time\": \"2009-02-21T19:30:00\", \"variable\": \"SW_IN\", \"value\": 0.0, \"is_present\": true, \"mean\": 27.1160640485285, \"std\": 229.40984638800887, \"err_low\": -431.7036287274892, \"err_high\": 485.9357568245463}, {\"time\": \"2009-02-21T20:00:00\", \"variable\": \"SW_IN\", \"value\": 0.0, \"is_present\": true, \"mean\": 26.85662639649003, \"std\": 229.4098463880086, \"err_low\": -431.96306637952716, \"err_high\": 485.6763191725072}, {\"time\": \"2009-02-21T20:30:00\", \"variable\": \"SW_IN\", \"value\": 0.0, \"is_present\": true, \"mean\": 27.503700616782623, \"std\": 229.40984638800836, \"err_low\": -431.3159921592341, \"err_high\": 486.32339339279935}, {\"time\": \"2009-02-21T21:00:00\", \"variable\": \"SW_IN\", \"value\": 0.0, \"is_present\": true, \"mean\": 27.597073269527655, \"std\": 229.40984638800896, \"err_low\": -431.2226195064903, \"err_high\": 486.41676604554556}, {\"time\": \"2009-02-21T21:30:00\", \"variable\": \"SW_IN\", \"value\": 0.0, \"is_present\": true, \"mean\": 25.29242022338856, \"std\": 229.40984638800856, \"err_low\": -433.5272725526286, \"err_high\": 484.11211299940567}, {\"time\": \"2009-02-21T22:00:00\", \"variable\": \"SW_IN\", \"value\": 0.0, \"is_present\": true, \"mean\": 22.856042580346852, \"std\": 229.40984638800882, \"err_low\": -435.96365019567077, \"err_high\": 481.6757353563645}, {\"time\": \"2009-02-21T22:30:00\", \"variable\": \"SW_IN\", \"value\": 0.0, \"is_present\": true, \"mean\": 16.769524417181557, \"std\": 229.40984638800833, \"err_low\": -442.0501683588351, \"err_high\": 475.58921719319824}, {\"time\": \"2009-02-21T23:00:00\", \"variable\": \"SW_IN\", \"value\": 0.0, \"is_present\": true, \"mean\": 13.170520140239773, \"std\": 229.40984638800902, \"err_low\": -445.64917263577826, \"err_high\": 471.9902129162578}, {\"time\": \"2009-02-21T23:30:00\", \"variable\": \"SW_IN\", \"value\": 0.0, \"is_present\": true, \"mean\": 10.073373759095645, \"std\": 229.40984638800856, \"err_low\": -448.74631901692146, \"err_high\": 468.8930665351128}, {\"time\": \"2009-02-22T00:00:00\", \"variable\": \"SW_IN\", \"value\": 0.0, \"is_present\": true, \"mean\": 6.575176761032651, \"std\": 229.40984638800887, \"err_low\": -452.2445160149851, \"err_high\": 465.3948695370504}, {\"time\": \"2009-02-22T00:30:00\", \"variable\": \"SW_IN\", \"value\": 0.0, \"is_present\": true, \"mean\": 4.186756260491848, \"std\": 229.4098463880088, \"err_low\": -454.6329365155257, \"err_high\": 463.0064490365094}, {\"time\": \"2009-02-22T01:00:00\", \"variable\": \"SW_IN\", \"value\": 0.0, \"is_present\": true, \"mean\": 2.7486672980918883, \"std\": 229.40984638800887, \"err_low\": -456.07102547792584, \"err_high\": 461.56836007410965}, {\"time\": \"2009-02-22T01:30:00\", \"variable\": \"SW_IN\", \"value\": 0.0, \"is_present\": true, \"mean\": 1.928265285969971, \"std\": 229.4098463880087, \"err_low\": -456.8914274900474, \"err_high\": 460.7479580619874}, {\"time\": \"2009-02-22T02:00:00\", \"variable\": \"SW_IN\", \"value\": 0.0, \"is_present\": true, \"mean\": 0.9488736686528938, \"std\": 229.40984638800833, \"err_low\": -457.8708191073638, \"err_high\": 459.76856644466955}, {\"time\": \"2009-02-22T02:30:00\", \"variable\": \"SW_IN\", \"value\": 0.0, \"is_present\": true, \"mean\": 0.8915855412376459, \"std\": 229.40984638800887, \"err_low\": -457.9281072347801, \"err_high\": 459.7112783172554}, {\"time\": \"2009-02-22T03:00:00\", \"variable\": \"SW_IN\", \"value\": 0.0, \"is_present\": true, \"mean\": 1.499543015872817, \"std\": 229.4098463880088, \"err_low\": -457.3201497601448, \"err_high\": 460.3192357918904}, {\"time\": \"2009-02-22T03:30:00\", \"variable\": \"SW_IN\", \"value\": 0.0, \"is_present\": true, \"mean\": 1.889548101442685, \"std\": 229.4098463880087, \"err_low\": -456.9301446745747, \"err_high\": 460.7092408774601}, {\"time\": \"2009-02-22T04:00:00\", \"variable\": \"SW_IN\", \"value\": 0.0, \"is_present\": true, \"mean\": 2.339015573846183, \"std\": 229.40984638800865, \"err_low\": -456.48067720217114, \"err_high\": 461.15870834986345}, {\"time\": \"2009-02-22T04:30:00\", \"variable\": \"SW_IN\", \"value\": 0.0, \"is_present\": true, \"mean\": 2.8108456787578433, \"std\": 229.40984638800865, \"err_low\": -456.00884709725943, \"err_high\": 461.63053845477515}, {\"time\": \"2009-02-22T05:00:00\", \"variable\": \"SW_IN\", \"value\": 0.0, \"is_present\": true, \"mean\": 2.9351077292004106, \"std\": 229.40984638800836, \"err_low\": -455.8845850468163, \"err_high\": 461.75480050521713}, {\"time\": \"2009-02-22T05:30:00\", \"variable\": \"SW_IN\", \"value\": 0.0, \"is_present\": true, \"mean\": 2.987623311551019, \"std\": 229.4098463880089, \"err_low\": -455.83206946446677, \"err_high\": 461.80731608756884}, {\"time\": \"2009-02-22T06:00:00\", \"variable\": \"SW_IN\", \"value\": 0.0, \"is_present\": true, \"mean\": 2.850582719032161, \"std\": 229.40984638800865, \"err_low\": -455.96911005698513, \"err_high\": 461.67027549504945}, {\"time\": \"2009-02-22T06:30:00\", \"variable\": \"SW_IN\", \"value\": 0.0, \"is_present\": true, \"mean\": 2.6549985737675, \"std\": 229.40984638800856, \"err_low\": -456.1646942022496, \"err_high\": 461.4746913497846}, {\"time\": \"2009-02-22T07:00:00\", \"variable\": \"SW_IN\", \"value\": 0.0, \"is_present\": true, \"mean\": 2.3461704784235025, \"std\": 229.40984638800836, \"err_low\": -456.4735222975932, \"err_high\": 461.16586325444024}, {\"time\": \"2009-02-22T07:30:00\", \"variable\": \"SW_IN\", \"value\": 0.0, \"is_present\": true, \"mean\": 1.60091371852198, \"std\": 229.4098463880086, \"err_low\": -457.2187790574952, \"err_high\": 460.42060649453913}, {\"time\": \"2009-02-22T08:00:00\", \"variable\": \"SW_IN\", \"value\": 3.29, \"is_present\": true, \"mean\": 2.897385031684422, \"std\": 229.40984638800856, \"err_low\": -455.92230774433267, \"err_high\": 461.71707780770157}, {\"time\": \"2009-02-22T08:30:00\", \"variable\": \"SW_IN\", \"value\": 12.32, \"is_present\": true, \"mean\": 6.220566529883115, \"std\": 229.40984638800848, \"err_low\": -452.59912624613384, \"err_high\": 465.04025930590007}, {\"time\": \"2009-02-22T09:00:00\", \"variable\": \"SW_IN\", \"value\": 27.51, \"is_present\": true, \"mean\": 10.955301086158656, \"std\": 229.4098463880086, \"err_low\": -447.8643916898585, \"err_high\": 469.77499386217585}, {\"time\": \"2009-02-22T09:30:00\", \"variable\": \"SW_IN\", \"value\": 24.67, \"is_present\": true, \"mean\": 12.786576833955365, \"std\": 229.4098463880087, \"err_low\": -446.03311594206207, \"err_high\": 471.60626960997274}, {\"time\": \"2009-02-22T10:00:00\", \"variable\": \"SW_IN\", \"value\": 60.11, \"is_present\": true, \"mean\": 21.018893560120972, \"std\": 229.40984638800865, \"err_low\": -437.8007992158963, \"err_high\": 479.8385863361383}, {\"time\": \"2009-02-22T10:30:00\", \"variable\": \"SW_IN\", \"value\": 56.82, \"is_present\": true, \"mean\": 24.265676877948508, \"std\": 229.4098463880086, \"err_low\": -434.55401589806866, \"err_high\": 483.0853696539657}, {\"time\": \"2009-02-22T11:00:00\", \"variable\": \"SW_IN\", \"value\": 60.29, \"is_present\": true, \"mean\": 28.104603777225677, \"std\": 229.40984638800836, \"err_low\": -430.71508899879103, \"err_high\": 486.9242965532424}, {\"time\": \"2009-02-22T11:30:00\", \"variable\": \"SW_IN\", \"value\": 81.65, \"is_present\": true, \"mean\": 34.26946788005134, \"std\": 229.40984638800865, \"err_low\": -424.5502248959659, \"err_high\": 493.08916065606866}, {\"time\": \"2009-02-22T12:00:00\", \"variable\": \"SW_IN\", \"value\": 53.88, \"is_present\": true, \"mean\": 31.462221155729708, \"std\": 229.40984638800882, \"err_low\": -427.3574716202879, \"err_high\": 490.28191393174734}, {\"time\": \"2009-02-22T12:30:00\", \"variable\": \"SW_IN\", \"value\": 61.94, \"is_present\": true, \"mean\": 34.88529367586723, \"std\": 229.40984638800856, \"err_low\": -423.9343991001499, \"err_high\": 493.70498645188434}, {\"time\": \"2009-02-22T13:00:00\", \"variable\": \"SW_IN\", \"value\": 82.63, \"is_present\": true, \"mean\": 42.385100629868134, \"std\": 229.40984638800924, \"err_low\": -416.43459214615035, \"err_high\": 501.2047934058866}, {\"time\": \"2009-02-22T13:30:00\", \"variable\": \"SW_IN\", \"value\": 105.6, \"is_present\": true, \"mean\": 47.02561918012459, \"std\": 229.40984638801123, \"err_low\": -411.7940735958979, \"err_high\": 505.84531195614704}, {\"time\": \"2009-02-22T14:00:00\", \"variable\": \"SW_IN\", \"value\": 105.14, \"is_present\": true, \"mean\": 48.25116586010651, \"std\": 229.40984638801928, \"err_low\": -410.568526915932, \"err_high\": 507.0708586361451}, {\"time\": \"2009-02-22T14:30:00\", \"variable\": \"SW_IN\", \"value\": 68.08, \"is_present\": true, \"mean\": 41.50240045560277, \"std\": 229.40984638805685, \"err_low\": -417.31729232051094, \"err_high\": 500.32209323171645}, {\"time\": \"2009-02-22T15:00:00\", \"variable\": \"SW_IN\", \"value\": 61.01, \"is_present\": true, \"mean\": 39.73224989300431, \"std\": 229.40984638823127, \"err_low\": -419.08744288345827, \"err_high\": 498.5519426694668}, {\"time\": \"2009-02-22T15:30:00\", \"variable\": \"SW_IN\", \"value\": 71.02, \"is_present\": true, \"mean\": 41.92624224095127, \"std\": 229.40984638903043, \"err_low\": -416.89345053710963, \"err_high\": 500.7459350190121}, {\"time\": \"2009-02-22T16:00:00\", \"variable\": \"SW_IN\", \"value\": 46.38, \"is_present\": true, \"mean\": 39.07333417207445, \"std\": 229.40984639269604, \"err_low\": -419.7463586133176, \"err_high\": 497.89302695746653}, {\"time\": \"2009-02-22T16:30:00\", \"variable\": \"SW_IN\", \"value\": 34.63, \"is_present\": true, \"mean\": 32.57416336054294, \"std\": 229.40984640950978, \"err_low\": -426.24552945847665, \"err_high\": 491.3938561795625}, {\"time\": \"2009-02-22T17:00:00\", \"variable\": \"SW_IN\", \"value\": 15.3, \"is_present\": true, \"mean\": 28.03730253048822, \"std\": 229.40984648663513, \"err_low\": -430.78239044278206, \"err_high\": 486.85699550375847}, {\"time\": \"2009-02-22T17:30:00\", \"variable\": \"SW_IN\", \"value\": 1.59, \"is_present\": true, \"mean\": 24.186123642223578, \"std\": 229.40984684034433, \"err_low\": -434.6335700384651, \"err_high\": 483.0058173229122}, {\"time\": \"2009-02-22T18:00:00\", \"variable\": \"SW_IN\", \"value\": 0.0, \"is_present\": true, \"mean\": 23.10080343083338, \"std\": 229.40984846323013, \"err_low\": -435.7188934956269, \"err_high\": 481.92050035729363}, {\"time\": \"2009-02-22T18:30:00\", \"variable\": \"SW_IN\", \"value\": 0.0, \"is_present\": true, \"mean\": 23.339857149517073, \"std\": 229.4098559025475, \"err_low\": -435.4798546555779, \"err_high\": 482.15956895461204}, {\"time\": \"2009-02-22T19:00:00\", \"variable\": \"SW_IN\", \"value\": 0.0, \"is_present\": true, \"mean\": 23.65748341327614, \"std\": 229.40989006977134, \"err_low\": -435.1622967262665, \"err_high\": 482.47726355281884}, {\"time\": \"2009-02-22T19:30:00\", \"variable\": \"SW_IN\", \"value\": 0.0, \"is_present\": true, \"mean\": 24.35845069399555, \"std\": 229.41004637679657, \"err_low\": -434.4616420595976, \"err_high\": 483.1785434475887}, {\"time\": \"2009-02-22T20:00:00\", \"variable\": \"SW_IN\", \"value\": 0.0, \"is_present\": true, \"mean\": 25.15034374634243, \"std\": 229.4107675390859, \"err_low\": -433.6711913318294, \"err_high\": 483.9718788245142}, {\"time\": \"2009-02-22T20:30:00\", \"variable\": \"SW_IN\", \"value\": 0.0, \"is_present\": true, \"mean\": 25.978927097247137, \"std\": 229.41404099472572, \"err_low\": -432.8491548922043, \"err_high\": 484.8070090866986}, {\"time\": \"2009-02-22T21:00:00\", \"variable\": \"SW_IN\", \"value\": 0.0, \"is_present\": true, \"mean\": 25.815609308780807, \"std\": 229.42951512777339, \"err_low\": -433.043420946766, \"err_high\": 484.67463956432755}, {\"time\": \"2009-02-22T21:30:00\", \"variable\": \"SW_IN\", \"value\": 0.0, \"is_present\": true, \"mean\": 23.9725430228588, \"std\": 229.49893507255757, \"err_low\": -435.02532712225633, \"err_high\": 482.97041316797396}, {\"time\": \"2009-02-22T22:00:00\", \"variable\": \"SW_IN\", \"value\": 0.0, \"is_present\": true, \"mean\": 19.377710734329114, \"std\": 229.89907170152108, \"err_low\": -440.42043266871303, \"err_high\": 479.1758541373713}, {\"time\": \"2009-02-22T22:30:00\", \"variable\": \"SW_IN\", \"value\": 0.0, \"is_present\": true, \"mean\": 16.858006125656516, \"std\": 232.50685407507157, \"err_low\": -448.15570202448663, \"err_high\": 481.87171427579966}, {\"time\": \"2009-02-22T23:00:00\", \"variable\": \"SW_IN\", \"value\": 0.0, \"is_present\": true, \"mean\": 15.97332740383574, \"std\": 232.71780814010725, \"err_low\": -449.46228887637875, \"err_high\": 481.40894368405026}, {\"time\": \"2009-02-22T23:30:00\", \"variable\": \"SW_IN\", \"value\": 0.0, \"is_present\": true, \"mean\": 15.441954738077769, \"std\": 232.73983064672728, \"err_low\": -450.0377065553768, \"err_high\": 480.9216160315323}, {\"time\": \"2009-02-23T00:00:00\", \"variable\": \"SW_IN\", \"value\": 0.0, \"is_present\": true, \"mean\": 14.922493251533723, \"std\": 232.74674806665325, \"err_low\": -450.57100288177276, \"err_high\": 480.41598938484026}, {\"time\": \"2009-02-23T00:30:00\", \"variable\": \"SW_IN\", \"value\": 0.0, \"is_present\": true, \"mean\": 15.03368384679888, \"std\": 232.74749598917603, \"err_low\": -450.4613081315532, \"err_high\": 480.5286758251509}, {\"time\": \"2009-02-23T01:00:00\", \"variable\": \"SW_IN\", \"value\": 0.0, \"is_present\": true, \"mean\": 15.89496388289335, \"std\": 232.744153379564, \"err_low\": -449.59334287623466, \"err_high\": 481.3832706420214}, {\"time\": \"2009-02-23T01:30:00\", \"variable\": \"SW_IN\", \"value\": 0.0, \"is_present\": true, \"mean\": 14.831056147297048, \"std\": 232.73131890615363, \"err_low\": -450.63158166501023, \"err_high\": 480.2936939596043}, {\"time\": \"2009-02-23T02:00:00\", \"variable\": \"SW_IN\", \"value\": 0.0, \"is_present\": true, \"mean\": 13.031989420552307, \"std\": 232.6877330213315, \"err_low\": -452.3434766221107, \"err_high\": 478.4074554632153}, {\"time\": \"2009-02-23T02:30:00\", \"variable\": \"SW_IN\", \"value\": 0.0, \"is_present\": true, \"mean\": 12.015795903707101, \"std\": 232.54462609470386, \"err_low\": -453.0734562857006, \"err_high\": 477.1050480931148}, {\"time\": \"2009-02-23T03:00:00\", \"variable\": \"SW_IN\", \"value\": 0.0, \"is_present\": true, \"mean\": 11.656313583648412, \"std\": 231.99481079333992, \"err_low\": -452.33330800303145, \"err_high\": 475.64593517032824}, {\"time\": \"2009-02-23T03:30:00\", \"variable\": \"SW_IN\", \"value\": 0.0, \"is_present\": true, \"mean\": 12.288585937258873, \"std\": 229.50377581697808, \"err_low\": -446.7189656966973, \"err_high\": 471.296137571215}, {\"time\": \"2009-02-23T04:00:00\", \"variable\": \"SW_IN\", \"value\": 0.0, \"is_present\": true, \"mean\": 13.480162900010654, \"std\": 229.41149360681754, \"err_low\": -445.3428243136244, \"err_high\": 472.30315011364576}, {\"time\": \"2009-02-23T04:30:00\", \"variable\": \"SW_IN\", \"value\": 0.0, \"is_present\": true, \"mean\": 13.836435217957401, \"std\": 229.41031261573488, \"err_low\": -444.9841900135124, \"err_high\": 472.65706044942715}, {\"time\": \"2009-02-23T05:00:00\", \"variable\": \"SW_IN\", \"value\": 0.0, \"is_present\": true, \"mean\": 14.22389436316874, \"std\": 229.40990484792857, \"err_low\": -444.5959153326884, \"err_high\": 473.0437040590259}, {\"time\": \"2009-02-23T05:30:00\", \"variable\": \"SW_IN\", \"value\": 0.0, \"is_present\": true, \"mean\": 14.970914222725568, \"std\": 229.40986177106328, \"err_low\": -443.84880931940097, \"err_high\": 473.79063776485214}, {\"time\": \"2009-02-23T06:00:00\", \"variable\": \"SW_IN\", \"value\": 0.0, \"is_present\": true, \"mean\": 14.468124771373994, \"std\": 229.40984939512623, \"err_low\": -444.35157401887847, \"err_high\": 473.28782356162645}, {\"time\": \"2009-02-23T06:30:00\", \"variable\": \"SW_IN\", \"value\": 0.0, \"is_present\": true, \"mean\": 12.234799403890676, \"std\": 229.40984707628917, \"err_low\": -446.58489474868765, \"err_high\": 471.054493556469}, {\"time\": \"2009-02-23T07:00:00\", \"variable\": \"SW_IN\", \"value\": 0.0, \"is_present\": true, \"mean\": 10.803412225211972, \"std\": 229.40984653448876, \"err_low\": -448.01628084376557, \"err_high\": 469.6231052941895}, {\"time\": \"2009-02-23T07:30:00\", \"variable\": \"SW_IN\", \"value\": 0.75, \"is_present\": true, \"mean\": 10.802481713986893, \"std\": 229.40984642031077, \"err_low\": -448.01721112663466, \"err_high\": 469.6221745546084}, {\"time\": \"2009-02-23T08:00:00\", \"variable\": \"SW_IN\", \"value\": 6.0, \"is_present\": true, \"mean\": 13.592709384537073, \"std\": 229.40984639501596, \"err_low\": -445.2269834054948, \"err_high\": 472.412402174569}, {\"time\": \"2009-02-23T08:30:00\", \"variable\": \"SW_IN\", \"value\": 19.02, \"is_present\": true, \"mean\": 18.809826421849777, \"std\": 229.40984638955624, \"err_low\": -440.0098663572627, \"err_high\": 477.62951920096225}, {\"time\": \"2009-02-23T09:00:00\", \"variable\": \"SW_IN\", \"value\": 54.83, \"is_present\": true, \"mean\": 29.441947324044705, \"std\": 229.40984638841894, \"err_low\": -429.3777454527932, \"err_high\": 488.2616401008826}, {\"time\": \"2009-02-23T09:30:00\", \"variable\": \"SW_IN\", \"value\": 76.25, \"is_present\": true, \"mean\": 36.74191009743028, \"std\": 229.40984638843565, \"err_low\": -422.07778267944104, \"err_high\": 495.56160287430157}, {\"time\": \"2009-02-23T10:00:00\", \"variable\": \"SW_IN\", \"value\": 50.22, \"is_present\": true, \"mean\": 32.05637506384191, \"std\": 229.4098463896502, \"err_low\": -426.76331771545847, \"err_high\": 490.8760678431423}, {\"time\": \"2009-02-23T10:30:00\", \"variable\": \"SW_IN\", \"value\": 63.29, \"is_present\": true, \"mean\": 52.274089478578645, \"std\": 229.40984639546897, \"err_low\": -406.5456033123593, \"err_high\": 511.0937822695166}, {\"time\": \"2009-02-23T11:00:00\", \"variable\": \"SW_IN\", \"value\": 86.03, \"is_present\": true, \"mean\": 62.75999302722424, \"std\": 229.4098464222111, \"err_low\": -396.05969981719795, \"err_high\": 521.5796858716465}, {\"time\": \"2009-02-23T11:30:00\", \"variable\": \"SW_IN\", \"value\": 97.32, \"is_present\": true, \"mean\": 69.36290967223746, \"std\": 229.40984654489176, \"err_low\": -389.45678341754603, \"err_high\": 528.182602762021}, {\"time\": \"2009-02-23T12:00:00\", \"variable\": \"SW_IN\", \"value\": 106.75, \"is_present\": true, \"mean\": 74.3950827783674, \"std\": 229.4098471075371, \"err_low\": -384.4246114367068, \"err_high\": 533.2147769934415}, {\"time\": \"2009-02-23T12:30:00\", \"variable\": \"SW_IN\", \"value\": 142.63, \"is_present\": true, \"mean\": 82.97680754343963, \"std\": 229.40984968895998, \"err_low\": -375.8428918344803, \"err_high\": 541.7965069213597}, {\"time\": \"2009-02-23T13:00:00\", \"variable\": \"SW_IN\", \"value\": 206.0, \"is_present\": true, \"mean\": 99.2413859927098, \"std\": 229.40986152239955, \"err_low\": -359.5783370520893, \"err_high\": 558.0611090375089}, {\"time\": \"2009-02-23T13:30:00\", \"variable\": \"SW_IN\", \"value\": 195.47, \"is_present\": true, \"mean\": 86.58640647231135, \"std\": 229.40991585167114, \"err_low\": -372.23342523103094, \"err_high\": 545.4062381756537}, {\"time\": \"2009-02-23T14:00:00\", \"variable\": \"SW_IN\", \"value\": 104.56, \"is_present\": true, \"mean\": 67.15426484282003, \"std\": 229.41016419503566, \"err_low\": -391.66606354725127, \"err_high\": 525.9745932328914}, {\"time\": \"2009-02-23T14:30:00\", \"variable\": \"SW_IN\", \"value\": 83.98, \"is_present\": true, \"mean\": 60.49087229446922, \"std\": 229.41130345768767, \"err_low\": -398.3317346209061, \"err_high\": 519.3134792098446}, {\"time\": \"2009-02-23T15:00:00\", \"variable\": \"SW_IN\", \"value\": 92.06, \"is_present\": true, \"mean\": 60.83980998722195, \"std\": 229.41635530949645, \"err_low\": -397.99290063177096, \"err_high\": 519.6725206062149}, {\"time\": \"2009-02-23T15:30:00\", \"variable\": \"SW_IN\", \"value\": 57.84, \"is_present\": true, \"mean\": 52.870440267736015, \"std\": 229.43770883694336, \"err_low\": -406.0049774061507, \"err_high\": 511.7458579416227}, {\"time\": \"2009-02-23T16:00:00\", \"variable\": \"SW_IN\", \"value\": 40.63, \"is_present\": true, \"mean\": 45.801021685775396, \"std\": 229.51776077070687, \"err_low\": -413.2344998556383, \"err_high\": 504.83654322718917}, {\"time\": \"2009-02-23T16:30:00\", \"variable\": \"SW_IN\", \"value\": 57.78, \"is_present\": true, \"mean\": -14.499500423427875, \"std\": 233.25907198973064, \"err_low\": -481.0176444028892, \"err_high\": 452.0186435560334}], \"data-803136d88c31c88b39c5dcd210f65f64\": [{\"time\": \"2009-02-19T13:00:00\", \"variable\": \"VPD\", \"value\": 1.951, \"is_present\": true, \"mean\": 1.4960340402031822, \"std\": 4.031286004401848, \"err_low\": -6.566537968600515, \"err_high\": 9.55860604900688}, {\"time\": \"2009-02-19T13:30:00\", \"variable\": \"VPD\", \"value\": 2.085, \"is_present\": true, \"mean\": 2.3218267194223765, \"std\": 4.056469446571612, \"err_low\": -5.791112173720847, \"err_high\": 10.434765612565599}, {\"time\": \"2009-02-19T14:00:00\", \"variable\": \"VPD\", \"value\": 2.271, \"is_present\": true, \"mean\": 2.878155231789436, \"std\": 4.052406184151477, \"err_low\": -5.226657136513517, \"err_high\": 10.98296760009239}, {\"time\": \"2009-02-19T14:30:00\", \"variable\": \"VPD\", \"value\": 2.442, \"is_present\": true, \"mean\": 3.11351859048732, \"std\": 4.051055727713234, \"err_low\": -4.988592864939148, \"err_high\": 11.21563004591379}, {\"time\": \"2009-02-19T15:00:00\", \"variable\": \"VPD\", \"value\": 2.549, \"is_present\": true, \"mean\": 2.894069685997188, \"std\": 4.050765230276763, \"err_low\": -5.207460774556338, \"err_high\": 10.995600146550714}, {\"time\": \"2009-02-19T15:30:00\", \"variable\": \"VPD\", \"value\": 2.464, \"is_present\": true, \"mean\": 2.3699527589637364, \"std\": 4.050700031239302, \"err_low\": -5.731447303514868, \"err_high\": 10.47135282144234}, {\"time\": \"2009-02-19T16:00:00\", \"variable\": \"VPD\", \"value\": 2.43, \"is_present\": true, \"mean\": 2.3539986395395736, \"std\": 4.0506859436601586, \"err_low\": -5.747373247780743, \"err_high\": 10.455370526859891}, {\"time\": \"2009-02-19T16:30:00\", \"variable\": \"VPD\", \"value\": 2.814, \"is_present\": true, \"mean\": 2.7360752270840143, \"std\": 4.050682856151196, \"err_low\": -5.365290485218378, \"err_high\": 10.837440939386408}, {\"time\": \"2009-02-19T17:00:00\", \"variable\": \"VPD\", \"value\": 2.86, \"is_present\": true, \"mean\": 2.3356406870442967, \"std\": 4.050682184584798, \"err_low\": -5.7657236821253, \"err_high\": 10.437005056213893}, {\"time\": \"2009-02-19T17:30:00\", \"variable\": \"VPD\", \"value\": 2.884, \"is_present\": true, \"mean\": 2.1612412697696533, \"std\": 4.050682038003836, \"err_low\": -5.940122806238018, \"err_high\": 10.262605345777324}, {\"time\": \"2009-02-19T18:00:00\", \"variable\": \"VPD\", \"value\": 2.761, \"is_present\": true, \"mean\": 2.1261556126978567, \"std\": 4.050682006064296, \"err_low\": -5.975208399430735, \"err_high\": 10.22751962482645}, {\"time\": \"2009-02-19T18:30:00\", \"variable\": \"VPD\", \"value\": 2.582, \"is_present\": true, \"mean\": 2.2411870614027363, \"std\": 4.0506819990991465, \"err_low\": -5.860176936795557, \"err_high\": 10.342551059601028}, {\"time\": \"2009-02-19T19:00:00\", \"variable\": \"VPD\", \"value\": 2.639, \"is_present\": true, \"mean\": 2.487771153225804, \"std\": 4.050681997580828, \"err_low\": -5.613592841935851, \"err_high\": 10.58913514838746}, {\"time\": \"2009-02-19T19:30:00\", \"variable\": \"VPD\", \"value\": 2.508, \"is_present\": true, \"mean\": 2.5419425529577127, \"std\": 4.050681997249782, \"err_low\": -5.559421441541852, \"err_high\": 10.643306547457277}, {\"time\": \"2009-02-19T20:00:00\", \"variable\": \"VPD\", \"value\": 2.251, \"is_present\": true, \"mean\": 2.4540256442988078, \"std\": 4.050681997177618, \"err_low\": -5.647338350056428, \"err_high\": 10.555389638654043}, {\"time\": \"2009-02-19T20:30:00\", \"variable\": \"VPD\", \"value\": 1.925, \"is_present\": true, \"mean\": 2.304305161234006, \"std\": 4.05068199716188, \"err_low\": -5.797058833089754, \"err_high\": 10.405669155557767}, {\"time\": \"2009-02-19T21:00:00\", \"variable\": \"VPD\", \"value\": 1.659, \"is_present\": true, \"mean\": 2.154214260279501, \"std\": 4.0506819971584465, \"err_low\": -5.947149734037392, \"err_high\": 10.255578254596394}, {\"time\": \"2009-02-19T21:30:00\", \"variable\": \"VPD\", \"value\": 1.235, \"is_present\": true, \"mean\": 1.8727400381511845, \"std\": 4.050681997157709, \"err_low\": -6.228623956164234, \"err_high\": 9.974104032466602}, {\"time\": \"2009-02-19T22:00:00\", \"variable\": \"VPD\", \"value\": 0.609, \"is_present\": true, \"mean\": 1.4576494586076032, \"std\": 4.050681997157544, \"err_low\": -6.643714535707485, \"err_high\": 9.559013452922692}, {\"time\": \"2009-02-19T22:30:00\", \"variable\": \"VPD\", \"value\": 0.228, \"is_present\": true, \"mean\": 1.228891651759787, \"std\": 4.050681997157509, \"err_low\": -6.872472342555232, \"err_high\": 9.330255646074805}, {\"time\": \"2009-02-19T23:00:00\", \"variable\": \"VPD\", \"value\": 0.174, \"is_present\": true, \"mean\": 1.232866993404726, \"std\": 4.050681997157496, \"err_low\": -6.868497000910266, \"err_high\": 9.334230987719717}, {\"time\": \"2009-02-19T23:30:00\", \"variable\": \"VPD\", \"value\": 0.118, \"is_present\": true, \"mean\": 1.2322032433863201, \"std\": 4.050681997157506, \"err_low\": -6.869160750928692, \"err_high\": 9.333567237701331}, {\"time\": \"2009-02-20T00:00:00\", \"variable\": \"VPD\", \"value\": 0.074, \"is_present\": true, \"mean\": 1.2360853366359437, \"std\": 4.050681997157484, \"err_low\": -6.865278657679024, \"err_high\": 9.33744933095091}, {\"time\": \"2009-02-20T00:30:00\", \"variable\": \"VPD\", \"value\": 0.049, \"is_present\": true, \"mean\": 1.2614283098461425, \"std\": 4.0506819971575005, \"err_low\": -6.839935684468859, \"err_high\": 9.362792304161143}, {\"time\": \"2009-02-20T01:00:00\", \"variable\": \"VPD\", \"value\": 0.029, \"is_present\": true, \"mean\": 1.2891687794021602, \"std\": 4.050681997157505, \"err_low\": -6.812195214912849, \"err_high\": 9.39053277371717}, {\"time\": \"2009-02-20T01:30:00\", \"variable\": \"VPD\", \"value\": 0.016, \"is_present\": true, \"mean\": 1.298903032831182, \"std\": 4.050681997157501, \"err_low\": -6.8024609614838205, \"err_high\": 9.400267027146185}, {\"time\": \"2009-02-20T02:00:00\", \"variable\": \"VPD\", \"value\": 0.006, \"is_present\": true, \"mean\": 1.2982452373893403, \"std\": 4.050681997157501, \"err_low\": -6.803118756925663, \"err_high\": 9.399609231704343}, {\"time\": \"2009-02-20T02:30:00\", \"variable\": \"VPD\", \"value\": 0.001, \"is_present\": true, \"mean\": 1.300822936695083, \"std\": 4.05068199715749, \"err_low\": -6.800541057619897, \"err_high\": 9.402186931010062}, {\"time\": \"2009-02-20T03:00:00\", \"variable\": \"VPD\", \"value\": 0.0, \"is_present\": true, \"mean\": 1.2989512737567526, \"std\": 4.050681997157507, \"err_low\": -6.8024127205582605, \"err_high\": 9.400315268071767}, {\"time\": \"2009-02-20T03:30:00\", \"variable\": \"VPD\", \"value\": 0.0, \"is_present\": true, \"mean\": 1.303316812979773, \"std\": 4.050681997157499, \"err_low\": -6.798047181335225, \"err_high\": 9.40468080729477}, {\"time\": \"2009-02-20T04:00:00\", \"variable\": \"VPD\", \"value\": 0.0, \"is_present\": true, \"mean\": 1.3105105760585936, \"std\": 4.0506819971575005, \"err_low\": -6.7908534182564075, \"err_high\": 9.411874570373595}, {\"time\": \"2009-02-20T04:30:00\", \"variable\": \"VPD\", \"value\": 0.0, \"is_present\": true, \"mean\": 1.3116068945559785, \"std\": 4.050681997157506, \"err_low\": -6.789757099759033, \"err_high\": 9.41297088887099}, {\"time\": \"2009-02-20T05:00:00\", \"variable\": \"VPD\", \"value\": 0.0, \"is_present\": true, \"mean\": 1.2928123425149014, \"std\": 4.050681997157494, \"err_low\": -6.808551651800087, \"err_high\": 9.39417633682989}, {\"time\": \"2009-02-20T05:30:00\", \"variable\": \"VPD\", \"value\": 0.0, \"is_present\": true, \"mean\": 1.2674550648332836, \"std\": 4.0506819971575005, \"err_low\": -6.8339089294817175, \"err_high\": 9.368819059148285}, {\"time\": \"2009-02-20T06:00:00\", \"variable\": \"VPD\", \"value\": 0.0, \"is_present\": true, \"mean\": 1.2587469821206119, \"std\": 4.050681997157504, \"err_low\": -6.842617012194396, \"err_high\": 9.360110976435621}, {\"time\": \"2009-02-20T06:30:00\", \"variable\": \"VPD\", \"value\": 0.0, \"is_present\": true, \"mean\": 1.2377175682842116, \"std\": 4.050681997157505, \"err_low\": -6.863646426030798, \"err_high\": 9.339081562599223}, {\"time\": \"2009-02-20T07:00:00\", \"variable\": \"VPD\", \"value\": 0.0, \"is_present\": true, \"mean\": 1.2112919220381881, \"std\": 4.050681997157495, \"err_low\": -6.890072072276802, \"err_high\": 9.31265591635318}, {\"time\": \"2009-02-20T07:30:00\", \"variable\": \"VPD\", \"value\": 0.0, \"is_present\": true, \"mean\": 1.1807047880419494, \"std\": 4.0506819971574926, \"err_low\": -6.920659206273036, \"err_high\": 9.282068782356934}, {\"time\": \"2009-02-20T08:00:00\", \"variable\": \"VPD\", \"value\": 0.0, \"is_present\": true, \"mean\": 1.200394647806195, \"std\": 4.0506819971574926, \"err_low\": -6.90096934650879, \"err_high\": 9.30175864212118}, {\"time\": \"2009-02-20T08:30:00\", \"variable\": \"VPD\", \"value\": 0.0, \"is_present\": true, \"mean\": 1.2863676624563078, \"std\": 4.050681997157499, \"err_low\": -6.81499633185869, \"err_high\": 9.387731656771305}, {\"time\": \"2009-02-20T09:00:00\", \"variable\": \"VPD\", \"value\": 0.0, \"is_present\": true, \"mean\": 1.325232837977461, \"std\": 4.050681997157495, \"err_low\": -6.776131156337529, \"err_high\": 9.426596832292452}, {\"time\": \"2009-02-20T09:30:00\", \"variable\": \"VPD\", \"value\": 0.0, \"is_present\": true, \"mean\": 1.3437432102349454, \"std\": 4.050681997157499, \"err_low\": -6.757620784080052, \"err_high\": 9.445107204549943}, {\"time\": \"2009-02-20T10:00:00\", \"variable\": \"VPD\", \"value\": 0.0, \"is_present\": true, \"mean\": 1.3510459124547651, \"std\": 4.0506819971575005, \"err_low\": -6.750318081860236, \"err_high\": 9.452409906769766}, {\"time\": \"2009-02-20T10:30:00\", \"variable\": \"VPD\", \"value\": 0.0, \"is_present\": true, \"mean\": 1.5654060606674203, \"std\": 4.050681997157498, \"err_low\": -6.535957933647575, \"err_high\": 9.666770054982416}, {\"time\": \"2009-02-20T11:00:00\", \"variable\": \"VPD\", \"value\": 0.0, \"is_present\": true, \"mean\": 1.6921657385824265, \"std\": 4.050681997157496, \"err_low\": -6.409198255732566, \"err_high\": 9.793529732897419}, {\"time\": \"2009-02-20T11:30:00\", \"variable\": \"VPD\", \"value\": 0.0, \"is_present\": true, \"mean\": 1.7371900701148573, \"std\": 4.050681997157504, \"err_low\": -6.364173924200151, \"err_high\": 9.838554064429866}, {\"time\": \"2009-02-20T12:00:00\", \"variable\": \"VPD\", \"value\": 0.0, \"is_present\": true, \"mean\": 1.7090761882976464, \"std\": 4.0506819971575, \"err_low\": -6.392287806017353, \"err_high\": 9.810440182612645}, {\"time\": \"2009-02-20T12:30:00\", \"variable\": \"VPD\", \"value\": 0.0, \"is_present\": true, \"mean\": 1.699454016262732, \"std\": 4.050681997157502, \"err_low\": -6.401909978052273, \"err_high\": 9.800818010577737}, {\"time\": \"2009-02-20T13:00:00\", \"variable\": \"VPD\", \"value\": 0.0, \"is_present\": true, \"mean\": 1.46149710316362, \"std\": 4.0506819971575, \"err_low\": -6.63986689115138, \"err_high\": 9.562861097478619}, {\"time\": \"2009-02-20T13:30:00\", \"variable\": \"VPD\", \"value\": 0.0, \"is_present\": true, \"mean\": 1.6789879023370948, \"std\": 4.050681997157498, \"err_low\": -6.422376091977901, \"err_high\": 9.78035189665209}, {\"time\": \"2009-02-20T14:00:00\", \"variable\": \"VPD\", \"value\": 0.0, \"is_present\": true, \"mean\": 1.4943948476937465, \"std\": 4.050681997157503, \"err_low\": -6.60696914662126, \"err_high\": 9.595758842008753}, {\"time\": \"2009-02-20T14:30:00\", \"variable\": \"VPD\", \"value\": 0.0, \"is_present\": true, \"mean\": 1.3538857857267481, \"std\": 4.050681997157493, \"err_low\": -6.747478208588239, \"err_high\": 9.455249780041735}, {\"time\": \"2009-02-20T15:00:00\", \"variable\": \"VPD\", \"value\": 0.0, \"is_present\": true, \"mean\": 1.277479677273059, \"std\": 4.050681997157498, \"err_low\": -6.823884317041937, \"err_high\": 9.378843671588054}, {\"time\": \"2009-02-20T15:30:00\", \"variable\": \"VPD\", \"value\": 0.0, \"is_present\": true, \"mean\": 1.2077885727331923, \"std\": 4.0506819971575085, \"err_low\": -6.893575421581825, \"err_high\": 9.309152567048208}, {\"time\": \"2009-02-20T16:00:00\", \"variable\": \"VPD\", \"value\": 0.0, \"is_present\": true, \"mean\": 1.3142858390105028, \"std\": 4.05068199715749, \"err_low\": -6.787078155304477, \"err_high\": 9.415649833325482}, {\"time\": \"2009-02-20T16:30:00\", \"variable\": \"VPD\", \"value\": 0.0, \"is_present\": true, \"mean\": 1.1811964782772004, \"std\": 4.050681997157499, \"err_low\": -6.920167516037797, \"err_high\": 9.282560472592198}, {\"time\": \"2009-02-20T17:00:00\", \"variable\": \"VPD\", \"value\": 0.0, \"is_present\": true, \"mean\": 1.1302082094131944, \"std\": 4.050681997157489, \"err_low\": -6.971155784901784, \"err_high\": 9.231572203728172}, {\"time\": \"2009-02-20T17:30:00\", \"variable\": \"VPD\", \"value\": 0.0, \"is_present\": true, \"mean\": 1.082503544126943, \"std\": 4.050681997157492, \"err_low\": -7.01886045018804, \"err_high\": 9.183867538441927}, {\"time\": \"2009-02-20T18:00:00\", \"variable\": \"VPD\", \"value\": 0.0, \"is_present\": true, \"mean\": 1.1011584800112626, \"std\": 4.050681997157503, \"err_low\": -7.000205514303744, \"err_high\": 9.202522474326269}, {\"time\": \"2009-02-20T18:30:00\", \"variable\": \"VPD\", \"value\": 0.0, \"is_present\": true, \"mean\": 1.199684137471098, \"std\": 4.0506819971574926, \"err_low\": -6.901679856843887, \"err_high\": 9.301048131786082}, {\"time\": \"2009-02-20T19:00:00\", \"variable\": \"VPD\", \"value\": 0.0, \"is_present\": true, \"mean\": 1.3158133980901567, \"std\": 4.050681997157509, \"err_low\": -6.785550596224862, \"err_high\": 9.417177392405176}, {\"time\": \"2009-02-20T19:30:00\", \"variable\": \"VPD\", \"value\": 0.0, \"is_present\": true, \"mean\": 1.3926195968966446, \"std\": 4.0506819971575, \"err_low\": -6.7087443974183545, \"err_high\": 9.493983591211643}, {\"time\": \"2009-02-20T20:00:00\", \"variable\": \"VPD\", \"value\": 0.0, \"is_present\": true, \"mean\": 1.4515753017939579, \"std\": 4.050681997157506, \"err_low\": -6.649788692521054, \"err_high\": 9.55293929610897}, {\"time\": \"2009-02-20T20:30:00\", \"variable\": \"VPD\", \"value\": 0.0, \"is_present\": true, \"mean\": 1.4757001798452138, \"std\": 4.050681997157492, \"err_low\": -6.625663814469769, \"err_high\": 9.577064174160197}, {\"time\": \"2009-02-20T21:00:00\", \"variable\": \"VPD\", \"value\": 0.0, \"is_present\": true, \"mean\": 1.4943900108569446, \"std\": 4.050681997157499, \"err_low\": -6.606973983458053, \"err_high\": 9.595754005171942}, {\"time\": \"2009-02-20T21:30:00\", \"variable\": \"VPD\", \"value\": 0.0, \"is_present\": true, \"mean\": 1.513510371089856, \"std\": 4.050681997157506, \"err_low\": -6.587853623225156, \"err_high\": 9.614874365404868}, {\"time\": \"2009-02-20T22:00:00\", \"variable\": \"VPD\", \"value\": 0.0, \"is_present\": true, \"mean\": 1.527324696043262, \"std\": 4.050681997157498, \"err_low\": -6.5740392982717335, \"err_high\": 9.628688690358258}, {\"time\": \"2009-02-20T22:30:00\", \"variable\": \"VPD\", \"value\": 0.0, \"is_present\": true, \"mean\": 1.5392861155889281, \"std\": 4.050681997157493, \"err_low\": -6.5620778787260585, \"err_high\": 9.640650109903914}, {\"time\": \"2009-02-20T23:00:00\", \"variable\": \"VPD\", \"value\": 0.0, \"is_present\": true, \"mean\": 1.5543446944654644, \"std\": 4.0506819971575085, \"err_low\": -6.547019299849553, \"err_high\": 9.655708688780482}, {\"time\": \"2009-02-20T23:30:00\", \"variable\": \"VPD\", \"value\": 0.0, \"is_present\": true, \"mean\": 1.5646190856846702, \"std\": 4.050681997157506, \"err_low\": -6.536744908630341, \"err_high\": 9.665983079999682}, {\"time\": \"2009-02-21T00:00:00\", \"variable\": \"VPD\", \"value\": 0.0, \"is_present\": true, \"mean\": 1.5649861913593326, \"std\": 4.0506819971575005, \"err_low\": -6.536377802955668, \"err_high\": 9.666350185674334}, {\"time\": \"2009-02-21T00:30:00\", \"variable\": \"VPD\", \"value\": 0.0, \"is_present\": true, \"mean\": 1.5709976925265572, \"std\": 4.0506819971575005, \"err_low\": -6.530366301788444, \"err_high\": 9.672361686841558}, {\"time\": \"2009-02-21T01:00:00\", \"variable\": \"VPD\", \"value\": 0.0, \"is_present\": true, \"mean\": 1.5714040554280968, \"std\": 4.050681997157499, \"err_low\": -6.5299599388869005, \"err_high\": 9.672768049743095}, {\"time\": \"2009-02-21T01:30:00\", \"variable\": \"VPD\", \"value\": 0.0, \"is_present\": true, \"mean\": 1.5706798662455255, \"std\": 4.0506819971575, \"err_low\": -6.530684128069474, \"err_high\": 9.672043860560525}, {\"time\": \"2009-02-21T02:00:00\", \"variable\": \"VPD\", \"value\": 0.0, \"is_present\": true, \"mean\": 1.5515727486518636, \"std\": 4.050681997157503, \"err_low\": -6.549791245663143, \"err_high\": 9.65293674296687}, {\"time\": \"2009-02-21T02:30:00\", \"variable\": \"VPD\", \"value\": 0.0, \"is_present\": true, \"mean\": 1.5295650726298355, \"std\": 4.050681997157495, \"err_low\": -6.571798921685155, \"err_high\": 9.630929066944827}, {\"time\": \"2009-02-21T03:00:00\", \"variable\": \"VPD\", \"value\": 0.0, \"is_present\": true, \"mean\": 1.4977962961906677, \"std\": 4.050681997157499, \"err_low\": -6.60356769812433, \"err_high\": 9.599160290505665}, {\"time\": \"2009-02-21T03:30:00\", \"variable\": \"VPD\", \"value\": 0.0, \"is_present\": true, \"mean\": 1.4659556217718674, \"std\": 4.050681997157503, \"err_low\": -6.635408372543139, \"err_high\": 9.567319616086873}, {\"time\": \"2009-02-21T04:00:00\", \"variable\": \"VPD\", \"value\": 0.0, \"is_present\": true, \"mean\": 1.4505251381132505, \"std\": 4.0506819971574926, \"err_low\": -6.650838856201735, \"err_high\": 9.551889132428236}, {\"time\": \"2009-02-21T04:30:00\", \"variable\": \"VPD\", \"value\": 0.0, \"is_present\": true, \"mean\": 1.4256632905547086, \"std\": 4.050681997157505, \"err_low\": -6.675700703760302, \"err_high\": 9.52702728486972}, {\"time\": \"2009-02-21T05:00:00\", \"variable\": \"VPD\", \"value\": 0.0, \"is_present\": true, \"mean\": 1.3813465347368303, \"std\": 4.050681997157497, \"err_low\": -6.720017459578163, \"err_high\": 9.482710529051824}, {\"time\": \"2009-02-21T05:30:00\", \"variable\": \"VPD\", \"value\": 0.0, \"is_present\": true, \"mean\": 1.379963639569394, \"std\": 4.050681997157506, \"err_low\": -6.721400354745618, \"err_high\": 9.481327633884405}, {\"time\": \"2009-02-21T06:00:00\", \"variable\": \"VPD\", \"value\": 0.0, \"is_present\": true, \"mean\": 1.4023055114365206, \"std\": 4.050681997157507, \"err_low\": -6.699058482878493, \"err_high\": 9.503669505751533}, {\"time\": \"2009-02-21T06:30:00\", \"variable\": \"VPD\", \"value\": 0.0, \"is_present\": true, \"mean\": 1.4628673994757244, \"std\": 4.050681997157498, \"err_low\": -6.638496594839271, \"err_high\": 9.56423139379072}, {\"time\": \"2009-02-21T07:00:00\", \"variable\": \"VPD\", \"value\": 0.0, \"is_present\": true, \"mean\": 1.5193628500582685, \"std\": 4.050681997157499, \"err_low\": -6.582001144256729, \"err_high\": 9.620726844373266}, {\"time\": \"2009-02-21T07:30:00\", \"variable\": \"VPD\", \"value\": 0.0, \"is_present\": true, \"mean\": 1.5406838042053261, \"std\": 4.050681997157496, \"err_low\": -6.560680190109666, \"err_high\": 9.642047798520318}, {\"time\": \"2009-02-21T08:00:00\", \"variable\": \"VPD\", \"value\": 0.0, \"is_present\": true, \"mean\": 1.596070626287629, \"std\": 4.050681997157509, \"err_low\": -6.50529336802739, \"err_high\": 9.697434620602648}, {\"time\": \"2009-02-21T08:30:00\", \"variable\": \"VPD\", \"value\": 0.0, \"is_present\": true, \"mean\": 1.7048944751567963, \"std\": 4.0506819971574926, \"err_low\": -6.396469519158189, \"err_high\": 9.806258469471782}, {\"time\": \"2009-02-21T09:00:00\", \"variable\": \"VPD\", \"value\": 0.0, \"is_present\": true, \"mean\": 1.7977086661531525, \"std\": 4.050681997157506, \"err_low\": -6.3036553281618595, \"err_high\": 9.899072660468164}, {\"time\": \"2009-02-21T09:30:00\", \"variable\": \"VPD\", \"value\": 0.0, \"is_present\": true, \"mean\": 1.7662326401077102, \"std\": 4.050681997157502, \"err_low\": -6.335131354207294, \"err_high\": 9.867596634422714}, {\"time\": \"2009-02-21T10:00:00\", \"variable\": \"VPD\", \"value\": 0.0, \"is_present\": true, \"mean\": 1.7138648772481677, \"std\": 4.050681997157501, \"err_low\": -6.387499117066835, \"err_high\": 9.815228871563171}, {\"time\": \"2009-02-21T10:30:00\", \"variable\": \"VPD\", \"value\": 0.0, \"is_present\": true, \"mean\": 1.8541387314470879, \"std\": 4.050681997157495, \"err_low\": -6.247225262867903, \"err_high\": 9.955502725762079}, {\"time\": \"2009-02-21T11:00:00\", \"variable\": \"VPD\", \"value\": 0.0, \"is_present\": true, \"mean\": 2.140601600330431, \"std\": 4.050681997157505, \"err_low\": -5.960762393984579, \"err_high\": 10.24196559464544}, {\"time\": \"2009-02-21T11:30:00\", \"variable\": \"VPD\", \"value\": 0.0, \"is_present\": true, \"mean\": 2.291367690093872, \"std\": 4.0506819971575005, \"err_low\": -5.809996304221129, \"err_high\": 10.392731684408872}, {\"time\": \"2009-02-21T12:00:00\", \"variable\": \"VPD\", \"value\": 0.0, \"is_present\": true, \"mean\": 2.414702284312365, \"std\": 4.050681997157495, \"err_low\": -5.6866617100026255, \"err_high\": 10.516066278627356}, {\"time\": \"2009-02-21T12:30:00\", \"variable\": \"VPD\", \"value\": 0.013, \"is_present\": true, \"mean\": 2.653450289648737, \"std\": 4.050681997157493, \"err_low\": -5.4479137046662505, \"err_high\": 10.754814283963723}, {\"time\": \"2009-02-21T13:00:00\", \"variable\": \"VPD\", \"value\": 0.348, \"is_present\": true, \"mean\": 2.9302925727006697, \"std\": 4.050681997157504, \"err_low\": -5.1710714216143385, \"err_high\": 11.031656567015677}, {\"time\": \"2009-02-21T13:30:00\", \"variable\": \"VPD\", \"value\": 0.529, \"is_present\": true, \"mean\": 2.670547048019207, \"std\": 4.050681997157497, \"err_low\": -5.430816946295787, \"err_high\": 10.771911042334201}, {\"time\": \"2009-02-21T14:00:00\", \"variable\": \"VPD\", \"value\": 0.516, \"is_present\": true, \"mean\": 2.2530901606400295, \"std\": 4.050681997157499, \"err_low\": -5.848273833674968, \"err_high\": 10.354454154955027}, {\"time\": \"2009-02-21T14:30:00\", \"variable\": \"VPD\", \"value\": 0.532, \"is_present\": true, \"mean\": 2.2792836718406146, \"std\": 4.050681997157505, \"err_low\": -5.822080322474395, \"err_high\": 10.380647666155625}, {\"time\": \"2009-02-21T15:00:00\", \"variable\": \"VPD\", \"value\": 0.578, \"is_present\": true, \"mean\": 2.110236679379068, \"std\": 4.050681997157499, \"err_low\": -5.991127314935929, \"err_high\": 10.211600673694065}, {\"time\": \"2009-02-21T15:30:00\", \"variable\": \"VPD\", \"value\": 0.554, \"is_present\": true, \"mean\": 1.8447991781223463, \"std\": 4.050681997157502, \"err_low\": -6.256564816192658, \"err_high\": 9.946163172437352}, {\"time\": \"2009-02-21T16:00:00\", \"variable\": \"VPD\", \"value\": 0.493, \"is_present\": true, \"mean\": 1.6456183548224554, \"std\": 4.050681997157505, \"err_low\": -6.455745639492554, \"err_high\": 9.746982349137465}, {\"time\": \"2009-02-21T16:30:00\", \"variable\": \"VPD\", \"value\": 0.441, \"is_present\": true, \"mean\": 1.4845993480346564, \"std\": 4.050681997157501, \"err_low\": -6.616764646280346, \"err_high\": 9.58596334234966}, {\"time\": \"2009-02-21T17:00:00\", \"variable\": \"VPD\", \"value\": 0.363, \"is_present\": true, \"mean\": 1.3454593509939037, \"std\": 4.050681997157498, \"err_low\": -6.755904643321092, \"err_high\": 9.4468233453089}, {\"time\": \"2009-02-21T17:30:00\", \"variable\": \"VPD\", \"value\": 0.289, \"is_present\": true, \"mean\": 1.364939627827558, \"std\": 4.050681997157504, \"err_low\": -6.73642436648745, \"err_high\": 9.466303622142567}, {\"time\": \"2009-02-21T18:00:00\", \"variable\": \"VPD\", \"value\": 0.262, \"is_present\": true, \"mean\": 1.425905635398558, \"std\": 4.050681997157488, \"err_low\": -6.675458358916418, \"err_high\": 9.527269629713533}, {\"time\": \"2009-02-21T18:30:00\", \"variable\": \"VPD\", \"value\": 0.256, \"is_present\": true, \"mean\": 1.5382694828174017, \"std\": 4.050681997157501, \"err_low\": -6.563094511497601, \"err_high\": 9.639633477132405}, {\"time\": \"2009-02-21T19:00:00\", \"variable\": \"VPD\", \"value\": 0.278, \"is_present\": true, \"mean\": 1.6573089171461526, \"std\": 4.050681997157493, \"err_low\": -6.4440550771688345, \"err_high\": 9.75867291146114}, {\"time\": \"2009-02-21T19:30:00\", \"variable\": \"VPD\", \"value\": 0.338, \"is_present\": true, \"mean\": 1.7562103015896047, \"std\": 4.050681997157509, \"err_low\": -6.345153692725415, \"err_high\": 9.857574295904623}, {\"time\": \"2009-02-21T20:00:00\", \"variable\": \"VPD\", \"value\": 0.319, \"is_present\": true, \"mean\": 1.7797437903428928, \"std\": 4.050681997157496, \"err_low\": -6.321620203972099, \"err_high\": 9.881107784657885}, {\"time\": \"2009-02-21T20:30:00\", \"variable\": \"VPD\", \"value\": 0.346, \"is_present\": true, \"mean\": 1.8284216465067082, \"std\": 4.05068199715749, \"err_low\": -6.2729423478082715, \"err_high\": 9.929785640821688}, {\"time\": \"2009-02-21T21:00:00\", \"variable\": \"VPD\", \"value\": 0.353, \"is_present\": true, \"mean\": 1.84475377384094, \"std\": 4.050681997157509, \"err_low\": -6.256610220474078, \"err_high\": 9.94611776815596}, {\"time\": \"2009-02-21T21:30:00\", \"variable\": \"VPD\", \"value\": 0.284, \"is_present\": true, \"mean\": 1.7991885317894707, \"std\": 4.050681997157495, \"err_low\": -6.30217546252552, \"err_high\": 9.90055252610446}, {\"time\": \"2009-02-21T22:00:00\", \"variable\": \"VPD\", \"value\": 0.274, \"is_present\": true, \"mean\": 1.7585245248320247, \"std\": 4.050681997157504, \"err_low\": -6.342839469482984, \"err_high\": 9.859888519147033}, {\"time\": \"2009-02-21T22:30:00\", \"variable\": \"VPD\", \"value\": 0.135, \"is_present\": true, \"mean\": 1.626324832096598, \"std\": 4.050681997157486, \"err_low\": -6.4750391622183745, \"err_high\": 9.72768882641157}, {\"time\": \"2009-02-21T23:00:00\", \"variable\": \"VPD\", \"value\": 0.086, \"is_present\": true, \"mean\": 1.5707239182280894, \"std\": 4.050681997157513, \"err_low\": -6.530640076086937, \"err_high\": 9.672087912543116}, {\"time\": \"2009-02-21T23:30:00\", \"variable\": \"VPD\", \"value\": 0.057, \"is_present\": true, \"mean\": 1.5210503311250605, \"std\": 4.050681997157494, \"err_low\": -6.580313663189928, \"err_high\": 9.62241432544005}, {\"time\": \"2009-02-22T00:00:00\", \"variable\": \"VPD\", \"value\": 0.012, \"is_present\": true, \"mean\": 1.4528608900942679, \"std\": 4.050681997157505, \"err_low\": -6.648503104220742, \"err_high\": 9.554224884409278}, {\"time\": \"2009-02-22T00:30:00\", \"variable\": \"VPD\", \"value\": 0.0, \"is_present\": true, \"mean\": 1.4121164225571567, \"std\": 4.050681997157503, \"err_low\": -6.68924757175785, \"err_high\": 9.513480416872163}, {\"time\": \"2009-02-22T01:00:00\", \"variable\": \"VPD\", \"value\": 0.0, \"is_present\": true, \"mean\": 1.389278476666878, \"std\": 4.050681997157506, \"err_low\": -6.712085517648134, \"err_high\": 9.49064247098189}, {\"time\": \"2009-02-22T01:30:00\", \"variable\": \"VPD\", \"value\": 0.0, \"is_present\": true, \"mean\": 1.377105455001923, \"std\": 4.050681997157499, \"err_low\": -6.724258539313075, \"err_high\": 9.47846944931692}, {\"time\": \"2009-02-22T02:00:00\", \"variable\": \"VPD\", \"value\": 0.0, \"is_present\": true, \"mean\": 1.3538261689476454, \"std\": 4.050681997157489, \"err_low\": -6.747537825367333, \"err_high\": 9.455190163262623}, {\"time\": \"2009-02-22T02:30:00\", \"variable\": \"VPD\", \"value\": 0.0, \"is_present\": true, \"mean\": 1.3517901777009, \"std\": 4.050681997157506, \"err_low\": -6.749573816614111, \"err_high\": 9.453154172015912}, {\"time\": \"2009-02-22T03:00:00\", \"variable\": \"VPD\", \"value\": 0.0, \"is_present\": true, \"mean\": 1.361015440380458, \"std\": 4.050681997157503, \"err_low\": -6.740348553934549, \"err_high\": 9.462379434695464}, {\"time\": \"2009-02-22T03:30:00\", \"variable\": \"VPD\", \"value\": 0.0, \"is_present\": true, \"mean\": 1.3592144919589928, \"std\": 4.0506819971575005, \"err_low\": -6.742149502356009, \"err_high\": 9.460578486273993}, {\"time\": \"2009-02-22T04:00:00\", \"variable\": \"VPD\", \"value\": 0.0, \"is_present\": true, \"mean\": 1.3584172152341387, \"std\": 4.050681997157498, \"err_low\": -6.742946779080857, \"err_high\": 9.459781209549135}, {\"time\": \"2009-02-22T04:30:00\", \"variable\": \"VPD\", \"value\": 0.0, \"is_present\": true, \"mean\": 1.3581968967471574, \"std\": 4.050681997157495, \"err_low\": -6.743167097567833, \"err_high\": 9.459560891062148}, {\"time\": \"2009-02-22T05:00:00\", \"variable\": \"VPD\", \"value\": 0.0, \"is_present\": true, \"mean\": 1.3454200838139285, \"std\": 4.050681997157488, \"err_low\": -6.755943910501047, \"err_high\": 9.446784078128905}, {\"time\": \"2009-02-22T05:30:00\", \"variable\": \"VPD\", \"value\": 0.0, \"is_present\": true, \"mean\": 1.333254077128737, \"std\": 4.050681997157509, \"err_low\": -6.7681099171862815, \"err_high\": 9.434618071443756}, {\"time\": \"2009-02-22T06:00:00\", \"variable\": \"VPD\", \"value\": 0.0, \"is_present\": true, \"mean\": 1.3122946075589899, \"std\": 4.050681997157496, \"err_low\": -6.789069386756003, \"err_high\": 9.413658601873982}, {\"time\": \"2009-02-22T06:30:00\", \"variable\": \"VPD\", \"value\": 0.0, \"is_present\": true, \"mean\": 1.2906613165442784, \"std\": 4.050681997157496, \"err_low\": -6.810702677770713, \"err_high\": 9.392025310859271}, {\"time\": \"2009-02-22T07:00:00\", \"variable\": \"VPD\", \"value\": 0.0, \"is_present\": true, \"mean\": 1.2654206384173383, \"std\": 4.050681997157487, \"err_low\": -6.835943355897636, \"err_high\": 9.366784632732312}, {\"time\": \"2009-02-22T07:30:00\", \"variable\": \"VPD\", \"value\": 0.0, \"is_present\": true, \"mean\": 1.2277103046377396, \"std\": 4.050681997157499, \"err_low\": -6.873653689677258, \"err_high\": 9.329074298952737}, {\"time\": \"2009-02-22T08:00:00\", \"variable\": \"VPD\", \"value\": 0.0, \"is_present\": true, \"mean\": 1.2087202112994273, \"std\": 4.050681997157496, \"err_low\": -6.892643783015565, \"err_high\": 9.31008420561442}, {\"time\": \"2009-02-22T08:30:00\", \"variable\": \"VPD\", \"value\": 0.0, \"is_present\": true, \"mean\": 1.2202255913866291, \"std\": 4.050681997157493, \"err_low\": -6.881138402928357, \"err_high\": 9.321589585701616}, {\"time\": \"2009-02-22T09:00:00\", \"variable\": \"VPD\", \"value\": 0.0, \"is_present\": true, \"mean\": 1.2476030519123915, \"std\": 4.050681997157498, \"err_low\": -6.853760942402604, \"err_high\": 9.348967046227386}, {\"time\": \"2009-02-22T09:30:00\", \"variable\": \"VPD\", \"value\": 0.0, \"is_present\": true, \"mean\": 1.2060761256055437, \"std\": 4.0506819971575, \"err_low\": -6.895287868709456, \"err_high\": 9.307440119920543}, {\"time\": \"2009-02-22T10:00:00\", \"variable\": \"VPD\", \"value\": 0.0, \"is_present\": true, \"mean\": 1.3105076057533536, \"std\": 4.0506819971575, \"err_low\": -6.790856388561646, \"err_high\": 9.411871600068352}, {\"time\": \"2009-02-22T10:30:00\", \"variable\": \"VPD\", \"value\": 0.0, \"is_present\": true, \"mean\": 1.2706972475406086, \"std\": 4.050681997157498, \"err_low\": -6.830666746774387, \"err_high\": 9.372061241855604}, {\"time\": \"2009-02-22T11:00:00\", \"variable\": \"VPD\", \"value\": 0.0, \"is_present\": true, \"mean\": 1.279655537312483, \"std\": 4.050681997157491, \"err_low\": -6.821708457002499, \"err_high\": 9.381019531627464}, {\"time\": \"2009-02-22T11:30:00\", \"variable\": \"VPD\", \"value\": 0.0, \"is_present\": true, \"mean\": 1.3393851005749644, \"std\": 4.050681997157499, \"err_low\": -6.761978893740033, \"err_high\": 9.440749094889963}, {\"time\": \"2009-02-22T12:00:00\", \"variable\": \"VPD\", \"value\": 0.0, \"is_present\": true, \"mean\": 1.206016342074013, \"std\": 4.050681997157505, \"err_low\": -6.895347652240996, \"err_high\": 9.307380336389024}, {\"time\": \"2009-02-22T12:30:00\", \"variable\": \"VPD\", \"value\": 0.0, \"is_present\": true, \"mean\": 1.2400397485962693, \"std\": 4.050681997157492, \"err_low\": -6.8613242457187145, \"err_high\": 9.341403742911252}, {\"time\": \"2009-02-22T13:00:00\", \"variable\": \"VPD\", \"value\": 0.0, \"is_present\": true, \"mean\": 1.3804115850954615, \"std\": 4.050681997157511, \"err_low\": -6.720952409219561, \"err_high\": 9.481775579410485}, {\"time\": \"2009-02-22T13:30:00\", \"variable\": \"VPD\", \"value\": 0.0, \"is_present\": true, \"mean\": 1.4984621557615512, \"std\": 4.050681997157556, \"err_low\": -6.60290183855356, \"err_high\": 9.599826150076662}, {\"time\": \"2009-02-22T14:00:00\", \"variable\": \"VPD\", \"value\": 0.0, \"is_present\": true, \"mean\": 1.4920484576218551, \"std\": 4.050681997157726, \"err_low\": -6.609315536693597, \"err_high\": 9.593412451937308}, {\"time\": \"2009-02-22T14:30:00\", \"variable\": \"VPD\", \"value\": 0.0, \"is_present\": true, \"mean\": 1.325360532967272, \"std\": 4.050681997158521, \"err_low\": -6.77600346134977, \"err_high\": 9.426724527284314}, {\"time\": \"2009-02-22T15:00:00\", \"variable\": \"VPD\", \"value\": 0.0, \"is_present\": true, \"mean\": 1.311034198891433, \"std\": 4.05068199716224, \"err_low\": -6.790329795433047, \"err_high\": 9.412398193215912}, {\"time\": \"2009-02-22T15:30:00\", \"variable\": \"VPD\", \"value\": 0.0, \"is_present\": true, \"mean\": 1.3947492966042316, \"std\": 4.050681997179255, \"err_low\": -6.7066146977542775, \"err_high\": 9.496113290962741}, {\"time\": \"2009-02-22T16:00:00\", \"variable\": \"VPD\", \"value\": 0.0, \"is_present\": true, \"mean\": 1.3666962026947411, \"std\": 4.050681997257322, \"err_low\": -6.734667791819903, \"err_high\": 9.468060197209386}, {\"time\": \"2009-02-22T16:30:00\", \"variable\": \"VPD\", \"value\": 0.0, \"is_present\": true, \"mean\": 1.3110644466204966, \"std\": 4.050681997615416, \"err_low\": -6.790299548610335, \"err_high\": 9.412428441851329}, {\"time\": \"2009-02-22T17:00:00\", \"variable\": \"VPD\", \"value\": 0.0, \"is_present\": true, \"mean\": 1.2418001805683958, \"std\": 4.050681999257788, \"err_low\": -6.85956381794718, \"err_high\": 9.34316417908397}, {\"time\": \"2009-02-22T17:30:00\", \"variable\": \"VPD\", \"value\": 0.0, \"is_present\": true, \"mean\": 1.1932909211732925, \"std\": 4.050682006792026, \"err_low\": -6.908073092410759, \"err_high\": 9.294654934757343}, {\"time\": \"2009-02-22T18:00:00\", \"variable\": \"VPD\", \"value\": 0.0, \"is_present\": true, \"mean\": 1.1993553241718353, \"std\": 4.050682041340693, \"err_low\": -6.902008758509551, \"err_high\": 9.30071940685322}, {\"time\": \"2009-02-22T18:30:00\", \"variable\": \"VPD\", \"value\": 0.0, \"is_present\": true, \"mean\": 1.2197371288934296, \"std\": 4.050682199902252, \"err_low\": -6.881627270911075, \"err_high\": 9.321101528697934}, {\"time\": \"2009-02-22T19:00:00\", \"variable\": \"VPD\", \"value\": 0.0, \"is_present\": true, \"mean\": 1.2325710265256666, \"std\": 4.050682926324632, \"err_low\": -6.868794826123597, \"err_high\": 9.333936879174932}, {\"time\": \"2009-02-22T19:30:00\", \"variable\": \"VPD\", \"value\": 0.0, \"is_present\": true, \"mean\": 1.2508233759799938, \"std\": 4.050686266971714, \"err_low\": -6.8505491579634334, \"err_high\": 9.352195909923422}, {\"time\": \"2009-02-22T20:00:00\", \"variable\": \"VPD\", \"value\": 0.0, \"is_present\": true, \"mean\": 1.270965742915359, \"std\": 4.0507015142949045, \"err_low\": -6.83043728567445, \"err_high\": 9.372368771505169}, {\"time\": \"2009-02-22T20:30:00\", \"variable\": \"VPD\", \"value\": 0.0, \"is_present\": true, \"mean\": 1.292880472907798, \"std\": 4.050772336143669, \"err_low\": -6.808664199379539, \"err_high\": 9.394425145195136}, {\"time\": \"2009-02-22T21:00:00\", \"variable\": \"VPD\", \"value\": 0.0, \"is_present\": true, \"mean\": 1.2960253497802423, \"std\": 4.051092252334088, \"err_low\": -6.8061591548879345, \"err_high\": 9.39820985444842}, {\"time\": \"2009-02-22T21:30:00\", \"variable\": \"VPD\", \"value\": 0.0, \"is_present\": true, \"mean\": 1.2673663744300532, \"std\": 4.052686668623759, \"err_low\": -6.838006962817464, \"err_high\": 9.372739711677571}, {\"time\": \"2009-02-22T22:00:00\", \"variable\": \"VPD\", \"value\": 0.0, \"is_present\": true, \"mean\": 1.1745139270700902, \"std\": 4.060546593892222, \"err_low\": -6.946579260714354, \"err_high\": 9.295607114854533}, {\"time\": \"2009-02-22T22:30:00\", \"variable\": \"VPD\", \"value\": 0.0, \"is_present\": true, \"mean\": 1.1518789781121357, \"std\": 4.139886049493264, \"err_low\": -7.127893120874393, \"err_high\": 9.431651077098664}, {\"time\": \"2009-02-22T23:00:00\", \"variable\": \"VPD\", \"value\": 0.0, \"is_present\": true, \"mean\": 1.1672310933922145, \"std\": 4.1400038680861275, \"err_low\": -7.112776642780041, \"err_high\": 9.44723882956447}, {\"time\": \"2009-02-22T23:30:00\", \"variable\": \"VPD\", \"value\": 0.0, \"is_present\": true, \"mean\": 1.18440012312676, \"std\": 4.140075354168313, \"err_low\": -7.095750585209865, \"err_high\": 9.464550831463386}, {\"time\": \"2009-02-23T00:00:00\", \"variable\": \"VPD\", \"value\": 0.0, \"is_present\": true, \"mean\": 1.2027729690852005, \"std\": 4.140105820517085, \"err_low\": -7.077438671948968, \"err_high\": 9.48298461011937}, {\"time\": \"2009-02-23T00:30:00\", \"variable\": \"VPD\", \"value\": 0.025, \"is_present\": true, \"mean\": 1.2365943688983654, \"std\": 4.1400931737425815, \"err_low\": -7.0435919785867975, \"err_high\": 9.51678071638353}, {\"time\": \"2009-02-23T01:00:00\", \"variable\": \"VPD\", \"value\": 0.086, \"is_present\": true, \"mean\": 1.287507790493255, \"std\": 4.140013864953043, \"err_low\": -6.992519939412832, \"err_high\": 9.56753552039934}, {\"time\": \"2009-02-23T01:30:00\", \"variable\": \"VPD\", \"value\": 0.062, \"is_present\": true, \"mean\": 1.2855246196885184, \"std\": 4.139737985833337, \"err_low\": -6.993951351978156, \"err_high\": 9.565000591355192}, {\"time\": \"2009-02-23T02:00:00\", \"variable\": \"VPD\", \"value\": 0.011, \"is_present\": true, \"mean\": 1.2654745907829876, \"std\": 4.138832973553161, \"err_low\": -7.012191356323333, \"err_high\": 9.54314053788931}, {\"time\": \"2009-02-23T02:30:00\", \"variable\": \"VPD\", \"value\": 0.0, \"is_present\": true, \"mean\": 1.267379893961869, \"std\": 4.135654066963661, \"err_low\": -7.003928239965453, \"err_high\": 9.53868802788919}, {\"time\": \"2009-02-23T03:00:00\", \"variable\": \"VPD\", \"value\": 0.0, \"is_present\": true, \"mean\": 1.2786016771515651, \"std\": 4.124819526664384, \"err_low\": -6.971037376177202, \"err_high\": 9.528240730480332}, {\"time\": \"2009-02-23T03:30:00\", \"variable\": \"VPD\", \"value\": 0.037, \"is_present\": true, \"mean\": 1.3104005140014148, \"std\": 4.0518462109727915, \"err_low\": -6.793291907944168, \"err_high\": 9.414092935946998}, {\"time\": \"2009-02-23T04:00:00\", \"variable\": \"VPD\", \"value\": 0.07, \"is_present\": true, \"mean\": 1.3519118518253266, \"std\": 4.051486307831954, \"err_low\": -6.7510607638385824, \"err_high\": 9.454884467489235}, {\"time\": \"2009-02-23T04:30:00\", \"variable\": \"VPD\", \"value\": 0.073, \"is_present\": true, \"mean\": 1.3668701707327728, \"std\": 4.050888350101945, \"err_low\": -6.734906529471118, \"err_high\": 9.468646870936663}, {\"time\": \"2009-02-23T05:00:00\", \"variable\": \"VPD\", \"value\": 0.08, \"is_present\": true, \"mean\": 1.3825303993192797, \"std\": 4.05072925854671, \"err_low\": -6.71892811777414, \"err_high\": 9.483988916412699}, {\"time\": \"2009-02-23T05:30:00\", \"variable\": \"VPD\", \"value\": 0.096, \"is_present\": true, \"mean\": 1.408334196206812, \"std\": 4.050692322971133, \"err_low\": -6.693050449735454, \"err_high\": 9.509718842149079}, {\"time\": \"2009-02-23T06:00:00\", \"variable\": \"VPD\", \"value\": 0.096, \"is_present\": true, \"mean\": 1.400460588904913, \"std\": 4.05068425801768, \"err_low\": -6.700907927130446, \"err_high\": 9.501829104940272}, {\"time\": \"2009-02-23T06:30:00\", \"variable\": \"VPD\", \"value\": 0.066, \"is_present\": true, \"mean\": 1.350353341991462, \"std\": 4.050682489592467, \"err_low\": -6.751011637193472, \"err_high\": 9.451718321176397}, {\"time\": \"2009-02-23T07:00:00\", \"variable\": \"VPD\", \"value\": 0.011, \"is_present\": true, \"mean\": 1.3280568985180738, \"std\": 4.050682104589635, \"err_low\": -6.773307310661195, \"err_high\": 9.429421107697344}, {\"time\": \"2009-02-23T07:30:00\", \"variable\": \"VPD\", \"value\": 0.0, \"is_present\": true, \"mean\": 1.337100126877131, \"std\": 4.050682020572821, \"err_low\": -6.764263914268511, \"err_high\": 9.438464168022772}, {\"time\": \"2009-02-23T08:00:00\", \"variable\": \"VPD\", \"value\": 0.0, \"is_present\": true, \"mean\": 1.371230894981788, \"std\": 4.0506820022632235, \"err_low\": -6.730133109544659, \"err_high\": 9.472594899508234}, {\"time\": \"2009-02-23T08:30:00\", \"variable\": \"VPD\", \"value\": 0.0, \"is_present\": true, \"mean\": 1.442449706252603, \"std\": 4.050681998270885, \"err_low\": -6.658914290289166, \"err_high\": 9.543813702794372}, {\"time\": \"2009-02-23T09:00:00\", \"variable\": \"VPD\", \"value\": 0.0, \"is_present\": true, \"mean\": 1.6255728112027406, \"std\": 4.0506819974018, \"err_low\": -6.47579118360086, \"err_high\": 9.726936806006341}, {\"time\": \"2009-02-23T09:30:00\", \"variable\": \"VPD\", \"value\": 0.0, \"is_present\": true, \"mean\": 1.702870361587987, \"std\": 4.050681997217949, \"err_low\": -6.398493632847911, \"err_high\": 9.804234356023885}, {\"time\": \"2009-02-23T10:00:00\", \"variable\": \"VPD\", \"value\": 0.0, \"is_present\": true, \"mean\": 1.4860610842488076, \"std\": 4.050681997203651, \"err_low\": -6.615302910158495, \"err_high\": 9.58742507865611}, {\"time\": \"2009-02-23T10:30:00\", \"variable\": \"VPD\", \"value\": 0.0, \"is_present\": true, \"mean\": 1.618066675736678, \"std\": 4.0506819973188195, \"err_low\": -6.483297318900961, \"err_high\": 9.719430670374317}, {\"time\": \"2009-02-23T11:00:00\", \"variable\": \"VPD\", \"value\": 0.0, \"is_present\": true, \"mean\": 1.7174155784218101, \"std\": 4.050681997886453, \"err_low\": -6.383948417351095, \"err_high\": 9.818779574194716}, {\"time\": \"2009-02-23T11:30:00\", \"variable\": \"VPD\", \"value\": 0.0, \"is_present\": true, \"mean\": 1.7149774964573183, \"std\": 4.050682000498517, \"err_low\": -6.386386504539716, \"err_high\": 9.816341497454353}, {\"time\": \"2009-02-23T12:00:00\", \"variable\": \"VPD\", \"value\": 0.0, \"is_present\": true, \"mean\": 1.716226638727514, \"std\": 4.050682012482912, \"err_low\": -6.385137386238309, \"err_high\": 9.817590663693338}, {\"time\": \"2009-02-23T12:30:00\", \"variable\": \"VPD\", \"value\": 0.0, \"is_present\": true, \"mean\": 1.82539846737516, \"std\": 4.05068206743925, \"err_low\": -6.27596566750334, \"err_high\": 9.92676260225366}, {\"time\": \"2009-02-23T13:00:00\", \"variable\": \"VPD\", \"value\": 0.021, \"is_present\": true, \"mean\": 2.1484039577095473, \"std\": 4.050682319632184, \"err_low\": -5.952960681554821, \"err_high\": 10.249768596973915}, {\"time\": \"2009-02-23T13:30:00\", \"variable\": \"VPD\", \"value\": 0.028, \"is_present\": true, \"mean\": 1.9638924763191166, \"std\": 4.050683474817744, \"err_low\": -6.13747447331637, \"err_high\": 10.065259425954604}, {\"time\": \"2009-02-23T14:00:00\", \"variable\": \"VPD\", \"value\": 0.037, \"is_present\": true, \"mean\": 1.5173933703603517, \"std\": 4.050688778528983, \"err_low\": -6.583984186697614, \"err_high\": 9.618770927418318}, {\"time\": \"2009-02-23T14:30:00\", \"variable\": \"VPD\", \"value\": 0.042, \"is_present\": true, \"mean\": 1.4400519460575556, \"std\": 4.050712837906302, \"err_low\": -6.6613737297550495, \"err_high\": 9.541477621870161}, {\"time\": \"2009-02-23T15:00:00\", \"variable\": \"VPD\", \"value\": 0.084, \"is_present\": true, \"mean\": 1.527046406405646, \"std\": 4.050821017254056, \"err_low\": -6.5745956281024664, \"err_high\": 9.628688440913757}, {\"time\": \"2009-02-23T15:30:00\", \"variable\": \"VPD\", \"value\": 0.105, \"is_present\": true, \"mean\": 1.4066684042412312, \"std\": 4.051248046176524, \"err_low\": -6.695827688111817, \"err_high\": 9.509164496594279}, {\"time\": \"2009-02-23T16:00:00\", \"variable\": \"VPD\", \"value\": 0.124, \"is_present\": true, \"mean\": 1.3298621726793418, \"std\": 4.053202495047725, \"err_low\": -6.776542817416109, \"err_high\": 9.436267162774792}, {\"time\": \"2009-02-23T16:30:00\", \"variable\": \"VPD\", \"value\": 0.145, \"is_present\": true, \"mean\": -0.03408060799664714, \"std\": 4.193915493913824, \"err_low\": -8.421911595824294, \"err_high\": 8.353750379831002}]}}, {\"mode\": \"vega-lite\"});\n",
       "</script>"
      ],
      "text/plain": [
       "alt.HConcatChart(...)"
      ]
     },
     "execution_count": null,
     "metadata": {},
     "output_type": "execute_result"
    }
   ],
   "source": [
    "plot_results(*results_custom_gap(learn64, df=hai64, control=hai_era64,\n",
    "                                 items_idx = [800, 801],\n",
    "                                 var_sel=['TA'], gap_len=10,\n",
    "                                 block_len=200, control_lags=[1]))"
   ]
  },
  {
   "cell_type": "code",
   "execution_count": null,
   "id": "f9c1abdc-91bd-4adf-81a7-c552924024a7",
   "metadata": {},
   "outputs": [],
   "source": [
    "#| export\n",
    "def interact_results(learn, df, control):\n",
    "    interact_args = {\n",
    "        'gap_len': IntSlider(10, 1, 100),\n",
    "        'items_idx': Text(value='10, 100', placeholder=\"comma separated indices\"),\n",
    "        'control_lags': Text(value='1', label=\"comma lag control\"),\n",
    "        'block_len': IntSlider(200, 10, 1000, 10),\n",
    "        **{var_name: True for var_name in df.columns}\n",
    "    }\n",
    "    \n",
    "    def _inner(gap_len, items_idx, control_lags, block_len, **var_names):\n",
    "        var_sel = [var_name for var_name, var_use in var_names.items() if var_use]\n",
    "        items_idx = list(map(int, items_idx.split(\",\")))\n",
    "        control_lags = list(map(int, control_lags.split(\",\")))\n",
    "        return plot_results(*results_custom_gap(learn=learn, df=df, control=control, var_sel=var_sel, gap_len=gap_len, items_idx=items_idx, block_len=block_len, control_lags=control_lags))\n",
    "    return interact_manual(_inner, **interact_args)"
   ]
  },
  {
   "cell_type": "code",
   "execution_count": null,
   "id": "a92467ac-d417-4205-9fb7-19afe2605fe8",
   "metadata": {},
   "outputs": [],
   "source": [
    "learn64.model.use_smooth = True"
   ]
  },
  {
   "cell_type": "code",
   "execution_count": null,
   "id": "ee2143d8-021a-40f2-ba6d-d86d5e99ae63",
   "metadata": {},
   "outputs": [
    {
     "data": {
      "application/vnd.jupyter.widget-view+json": {
       "model_id": "f4ef91ef8ff94e5d9e2e64cf1af08618",
       "version_major": 2,
       "version_minor": 0
      },
      "text/plain": [
       "interactive(children=(IntSlider(value=10, description='gap_len', min=1), Text(value='10, 100', description='it…"
      ]
     },
     "metadata": {},
     "output_type": "display_data"
    },
    {
     "data": {
      "text/plain": [
       "<function __main__.interact_results.<locals>._inner(gap_len, items_idx, control_lags, block_len, **var_names)>"
      ]
     },
     "execution_count": null,
     "metadata": {},
     "output_type": "execute_result"
    }
   ],
   "source": [
    "interact_results(learn64, hai64, hai_era64)"
   ]
  },
  {
   "cell_type": "markdown",
   "id": "25ee98b3-1618-49fc-86b1-4f4c922a28a4",
   "metadata": {},
   "source": [
    "## Export "
   ]
  },
  {
   "cell_type": "code",
   "execution_count": null,
   "id": "be47bac6-1bac-4b5d-a880-7ddfe17cca68",
   "metadata": {},
   "outputs": [],
   "source": [
    "#| hide\n",
    "from nbdev import nbdev_export\n",
    "nbdev_export()"
   ]
  }
 ],
 "metadata": {
  "kernelspec": {
   "display_name": "data_science",
   "language": "python",
   "name": "data_science"
  },
  "widgets": {
   "application/vnd.jupyter.widget-state+json": {
    "state": {},
    "version_major": 2,
    "version_minor": 0
   }
  }
 },
 "nbformat": 4,
 "nbformat_minor": 5
}
