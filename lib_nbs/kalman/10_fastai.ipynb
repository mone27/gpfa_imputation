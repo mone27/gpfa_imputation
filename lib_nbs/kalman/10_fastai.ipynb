{
 "cells": [
  {
   "cell_type": "markdown",
   "id": "e8af5772-d828-4017-ae3b-5d530ac57586",
   "metadata": {},
   "source": [
    "# Implement Kalman model using FastAI\n",
    "\n",
    "> need to implement custom data preparation pipeline and loss function "
   ]
  },
  {
   "cell_type": "markdown",
   "id": "b0f3603c-74ec-41ba-a9dc-8fb08c2630cc",
   "metadata": {},
   "source": [
    "## Data Preparation"
   ]
  },
  {
   "cell_type": "markdown",
   "id": "df4ecbb3-f6ef-4344-95e7-5b566611d3f2",
   "metadata": {},
   "source": [
    "The aim of the data preparation pipeline is to:\n",
    "- take the original time series and split it into time blocks\n",
    "- for each block generate a random gap (need to figure out the properties of the gap)\n",
    "- split some time blocks for testing\n",
    "\n",
    "the input of the pipeline is:\n",
    "- a dataframe containing all observations\n",
    "\n",
    "the input of the model is:\n",
    "- observed data (potentially containing NaN where data is missing)\n",
    "- missing data mask (which is telling where the data is missing)\n",
    "- the data needs to be standardized"
   ]
  },
  {
   "cell_type": "code",
   "execution_count": null,
   "id": "b87acfa4-b43e-4cbe-9bc2-103a084ec5a2",
   "metadata": {},
   "outputs": [],
   "source": [
    "%load_ext autoreload\n",
    "%autoreload 2"
   ]
  },
  {
   "cell_type": "code",
   "execution_count": null,
   "id": "cca16380-45e6-479a-b8c3-e6f26ed9fdf3",
   "metadata": {},
   "outputs": [],
   "source": [
    "#| hide\n",
    "#| default_exp kalman.fastai"
   ]
  },
  {
   "cell_type": "code",
   "execution_count": null,
   "id": "6c8eade3",
   "metadata": {},
   "outputs": [],
   "source": [
    "#| export\n",
    "from meteo_imp.utils import *\n",
    "from meteo_imp.gaussian import *"
   ]
  },
  {
   "cell_type": "code",
   "execution_count": null,
   "id": "c946534f",
   "metadata": {},
   "outputs": [],
   "source": [
    "reset_seed()"
   ]
  },
  {
   "cell_type": "code",
   "execution_count": null,
   "id": "bd2ec0dd-d8d3-4c64-91a7-909912be8087",
   "metadata": {},
   "outputs": [],
   "source": [
    "import torch"
   ]
  },
  {
   "cell_type": "code",
   "execution_count": null,
   "id": "131e1d0e-56f7-4c46-aadd-a9a9097bfe28",
   "metadata": {},
   "outputs": [],
   "source": [
    "from fastai.tabular.core import *\n",
    "from fastai.data.core import *"
   ]
  },
  {
   "cell_type": "code",
   "execution_count": null,
   "id": "c153595b-be12-4538-a621-bb9ef2b114ac",
   "metadata": {},
   "outputs": [],
   "source": [
    "#| export\n",
    "from fastcore.transform import *\n",
    "from fastcore.basics import *\n",
    "from fastcore.foundation import *\n",
    "from fastcore.all import *\n",
    "from fastai.tabular import *\n",
    "from fastai.torch_core import default_device, to_device\n",
    "\n",
    "from meteo_imp.data import read_fluxnet_csv, hai_path\n",
    "\n",
    "import collections\n",
    "\n",
    "import pandas as pd\n",
    "import numpy as np\n",
    "import matplotlib.pyplot as plt"
   ]
  },
  {
   "cell_type": "code",
   "execution_count": null,
   "id": "d7f48bb9-58ab-4d1a-97d9-b242f6542148",
   "metadata": {},
   "outputs": [],
   "source": [
    "@cache_disk(cache_dir / \"full_hai\")\n",
    "def load_data(dtype=np.float32):\n",
    "    return read_fluxnet_csv(hai_path, None, num_dtype=dtype)\n",
    "\n",
    "hai = load_data()\n",
    "hai64 = load_data(np.float64)"
   ]
  },
  {
   "cell_type": "markdown",
   "id": "d17c4e2b-6175-4674-9437-9e8a75cadb35",
   "metadata": {},
   "source": [
    "### 1) Blocks"
   ]
  },
  {
   "cell_type": "markdown",
   "id": "09346517-48ae-4872-b572-a095b7adcd19",
   "metadata": {},
   "source": [
    "the first step is to transfrom the original dataframe into blocks of a specified `block_len`\n",
    "\n",
    "two different strategies are possible:\n",
    "\n",
    "- contigous blocks\n",
    "- random block in the dataframe"
   ]
  },
  {
   "cell_type": "code",
   "execution_count": null,
   "id": "e4d73d6c-a82f-43c3-a8ff-cd6cfe644fac",
   "metadata": {},
   "outputs": [],
   "source": [
    "#| export\n",
    "class BlockDfTransform(Transform):\n",
    "    \"\"\"divide timeseries DataFrame into blocks\"\"\"\n",
    "    def __init__(self, df, block_len=200): \n",
    "        self.df = df \n",
    "        self.block_len = block_len\n",
    "        self.n = len(df)\n",
    "        \n",
    "    def encodes(self, i:int) -> pd.DataFrame:       \n",
    "        start = i * self.block_len\n",
    "        end = (i+1) * self.block_len\n",
    "        assert end <= self.n \n",
    "        \n",
    "        block = self.df[start:end]\n",
    "        \n",
    "        return block"
   ]
  },
  {
   "cell_type": "code",
   "execution_count": null,
   "id": "4e51eaf9-d972-4960-b5b3-03ddf4b139fa",
   "metadata": {},
   "outputs": [],
   "source": [
    "blk = BlockDfTransform(hai, 10)"
   ]
  },
  {
   "cell_type": "code",
   "execution_count": null,
   "id": "71c4f834-fb0f-4fb3-a13a-da01198a970a",
   "metadata": {},
   "outputs": [
    {
     "data": {
      "text/plain": [
       "BlockDfTransform:\n",
       "encodes: (int,object) -> encodes\n",
       "decodes: "
      ]
     },
     "execution_count": null,
     "metadata": {},
     "output_type": "execute_result"
    }
   ],
   "source": [
    "blk"
   ]
  },
  {
   "cell_type": "code",
   "execution_count": null,
   "id": "db372f33-785c-4e99-8fe0-e439c24b004b",
   "metadata": {},
   "outputs": [
    {
     "data": {
      "text/html": [
       "<div>\n",
       "<style scoped>\n",
       "    .dataframe tbody tr th:only-of-type {\n",
       "        vertical-align: middle;\n",
       "    }\n",
       "\n",
       "    .dataframe tbody tr th {\n",
       "        vertical-align: top;\n",
       "    }\n",
       "\n",
       "    .dataframe thead th {\n",
       "        text-align: right;\n",
       "    }\n",
       "</style>\n",
       "<table border=\"1\" class=\"dataframe\">\n",
       "  <thead>\n",
       "    <tr style=\"text-align: right;\">\n",
       "      <th></th>\n",
       "      <th>TA</th>\n",
       "      <th>SW_IN</th>\n",
       "      <th>VPD</th>\n",
       "    </tr>\n",
       "    <tr>\n",
       "      <th>time</th>\n",
       "      <th></th>\n",
       "      <th></th>\n",
       "      <th></th>\n",
       "    </tr>\n",
       "  </thead>\n",
       "  <tbody>\n",
       "    <tr>\n",
       "      <th>2000-01-01 05:30:00</th>\n",
       "      <td>-0.23</td>\n",
       "      <td>0.00</td>\n",
       "      <td>0.138</td>\n",
       "    </tr>\n",
       "    <tr>\n",
       "      <th>2000-01-01 06:00:00</th>\n",
       "      <td>-0.23</td>\n",
       "      <td>0.00</td>\n",
       "      <td>0.122</td>\n",
       "    </tr>\n",
       "    <tr>\n",
       "      <th>2000-01-01 06:30:00</th>\n",
       "      <td>-0.22</td>\n",
       "      <td>0.00</td>\n",
       "      <td>0.098</td>\n",
       "    </tr>\n",
       "    <tr>\n",
       "      <th>2000-01-01 07:00:00</th>\n",
       "      <td>-0.24</td>\n",
       "      <td>0.00</td>\n",
       "      <td>0.066</td>\n",
       "    </tr>\n",
       "    <tr>\n",
       "      <th>2000-01-01 07:30:00</th>\n",
       "      <td>-0.23</td>\n",
       "      <td>0.00</td>\n",
       "      <td>0.044</td>\n",
       "    </tr>\n",
       "    <tr>\n",
       "      <th>2000-01-01 08:00:00</th>\n",
       "      <td>-0.22</td>\n",
       "      <td>0.00</td>\n",
       "      <td>0.026</td>\n",
       "    </tr>\n",
       "    <tr>\n",
       "      <th>2000-01-01 08:30:00</th>\n",
       "      <td>-0.19</td>\n",
       "      <td>0.45</td>\n",
       "      <td>0.016</td>\n",
       "    </tr>\n",
       "    <tr>\n",
       "      <th>2000-01-01 09:00:00</th>\n",
       "      <td>-0.14</td>\n",
       "      <td>3.70</td>\n",
       "      <td>0.010</td>\n",
       "    </tr>\n",
       "    <tr>\n",
       "      <th>2000-01-01 09:30:00</th>\n",
       "      <td>-0.03</td>\n",
       "      <td>7.26</td>\n",
       "      <td>0.006</td>\n",
       "    </tr>\n",
       "    <tr>\n",
       "      <th>2000-01-01 10:00:00</th>\n",
       "      <td>0.04</td>\n",
       "      <td>12.24</td>\n",
       "      <td>0.006</td>\n",
       "    </tr>\n",
       "  </tbody>\n",
       "</table>\n",
       "</div>"
      ],
      "text/plain": [
       "                       TA  SW_IN    VPD\n",
       "time                                   \n",
       "2000-01-01 05:30:00 -0.23   0.00  0.138\n",
       "2000-01-01 06:00:00 -0.23   0.00  0.122\n",
       "2000-01-01 06:30:00 -0.22   0.00  0.098\n",
       "2000-01-01 07:00:00 -0.24   0.00  0.066\n",
       "2000-01-01 07:30:00 -0.23   0.00  0.044\n",
       "2000-01-01 08:00:00 -0.22   0.00  0.026\n",
       "2000-01-01 08:30:00 -0.19   0.45  0.016\n",
       "2000-01-01 09:00:00 -0.14   3.70  0.010\n",
       "2000-01-01 09:30:00 -0.03   7.26  0.006\n",
       "2000-01-01 10:00:00  0.04  12.24  0.006"
      ]
     },
     "execution_count": null,
     "metadata": {},
     "output_type": "execute_result"
    }
   ],
   "source": [
    "blk(1)"
   ]
  },
  {
   "cell_type": "code",
   "execution_count": null,
   "id": "2342e9e6-0e13-430e-9c4e-25d1c0ec19a3",
   "metadata": {},
   "outputs": [
    {
     "data": {
      "text/plain": [
       "864.0"
      ]
     },
     "execution_count": null,
     "metadata": {},
     "output_type": "execute_result"
    }
   ],
   "source": [
    "180 * 24 * 2 / 10"
   ]
  },
  {
   "cell_type": "markdown",
   "id": "7b7c57e7-4ebb-46b9-a89d-ec980277ae67",
   "metadata": {},
   "source": [
    "we are taking a day in the summer so there is an higher values for the variables"
   ]
  },
  {
   "cell_type": "code",
   "execution_count": null,
   "id": "57479bbb-1a76-44d1-af82-0d3666d2ae7d",
   "metadata": {},
   "outputs": [
    {
     "data": {
      "text/html": [
       "<div>\n",
       "<style scoped>\n",
       "    .dataframe tbody tr th:only-of-type {\n",
       "        vertical-align: middle;\n",
       "    }\n",
       "\n",
       "    .dataframe tbody tr th {\n",
       "        vertical-align: top;\n",
       "    }\n",
       "\n",
       "    .dataframe thead th {\n",
       "        text-align: right;\n",
       "    }\n",
       "</style>\n",
       "<table border=\"1\" class=\"dataframe\">\n",
       "  <thead>\n",
       "    <tr style=\"text-align: right;\">\n",
       "      <th></th>\n",
       "      <th>TA</th>\n",
       "      <th>SW_IN</th>\n",
       "      <th>VPD</th>\n",
       "    </tr>\n",
       "    <tr>\n",
       "      <th>time</th>\n",
       "      <th></th>\n",
       "      <th></th>\n",
       "      <th></th>\n",
       "    </tr>\n",
       "  </thead>\n",
       "  <tbody>\n",
       "    <tr>\n",
       "      <th>2000-06-15 16:30:00</th>\n",
       "      <td>14.65</td>\n",
       "      <td>468.190002</td>\n",
       "      <td>6.454</td>\n",
       "    </tr>\n",
       "    <tr>\n",
       "      <th>2000-06-15 17:00:00</th>\n",
       "      <td>14.22</td>\n",
       "      <td>224.800003</td>\n",
       "      <td>5.799</td>\n",
       "    </tr>\n",
       "    <tr>\n",
       "      <th>2000-06-15 17:30:00</th>\n",
       "      <td>14.11</td>\n",
       "      <td>195.279999</td>\n",
       "      <td>6.577</td>\n",
       "    </tr>\n",
       "    <tr>\n",
       "      <th>2000-06-15 18:00:00</th>\n",
       "      <td>14.23</td>\n",
       "      <td>244.169998</td>\n",
       "      <td>6.931</td>\n",
       "    </tr>\n",
       "    <tr>\n",
       "      <th>2000-06-15 18:30:00</th>\n",
       "      <td>14.40</td>\n",
       "      <td>253.919998</td>\n",
       "      <td>7.286</td>\n",
       "    </tr>\n",
       "    <tr>\n",
       "      <th>2000-06-15 19:00:00</th>\n",
       "      <td>14.09</td>\n",
       "      <td>177.309998</td>\n",
       "      <td>7.251</td>\n",
       "    </tr>\n",
       "    <tr>\n",
       "      <th>2000-06-15 19:30:00</th>\n",
       "      <td>13.71</td>\n",
       "      <td>97.070000</td>\n",
       "      <td>6.683</td>\n",
       "    </tr>\n",
       "    <tr>\n",
       "      <th>2000-06-15 20:00:00</th>\n",
       "      <td>13.08</td>\n",
       "      <td>39.709999</td>\n",
       "      <td>5.851</td>\n",
       "    </tr>\n",
       "    <tr>\n",
       "      <th>2000-06-15 20:30:00</th>\n",
       "      <td>12.41</td>\n",
       "      <td>10.650000</td>\n",
       "      <td>5.254</td>\n",
       "    </tr>\n",
       "    <tr>\n",
       "      <th>2000-06-15 21:00:00</th>\n",
       "      <td>12.27</td>\n",
       "      <td>0.320000</td>\n",
       "      <td>5.164</td>\n",
       "    </tr>\n",
       "  </tbody>\n",
       "</table>\n",
       "</div>"
      ],
      "text/plain": [
       "                        TA       SW_IN    VPD\n",
       "time                                         \n",
       "2000-06-15 16:30:00  14.65  468.190002  6.454\n",
       "2000-06-15 17:00:00  14.22  224.800003  5.799\n",
       "2000-06-15 17:30:00  14.11  195.279999  6.577\n",
       "2000-06-15 18:00:00  14.23  244.169998  6.931\n",
       "2000-06-15 18:30:00  14.40  253.919998  7.286\n",
       "2000-06-15 19:00:00  14.09  177.309998  7.251\n",
       "2000-06-15 19:30:00  13.71   97.070000  6.683\n",
       "2000-06-15 20:00:00  13.08   39.709999  5.851\n",
       "2000-06-15 20:30:00  12.41   10.650000  5.254\n",
       "2000-06-15 21:00:00  12.27    0.320000  5.164"
      ]
     },
     "execution_count": null,
     "metadata": {},
     "output_type": "execute_result"
    }
   ],
   "source": [
    "blk(800)"
   ]
  },
  {
   "cell_type": "code",
   "execution_count": null,
   "id": "0cf65769-4e52-4e14-be29-624cf4d82167",
   "metadata": {},
   "outputs": [],
   "source": [
    "tfms1 = TfmdLists([800,801,802,803], [BlockDfTransform(hai, 10)])"
   ]
  },
  {
   "cell_type": "code",
   "execution_count": null,
   "id": "c8c1ec1e-810f-477f-8bb9-4eaebc2102e3",
   "metadata": {},
   "outputs": [
    {
     "data": {
      "text/html": [
       "<div>\n",
       "<style scoped>\n",
       "    .dataframe tbody tr th:only-of-type {\n",
       "        vertical-align: middle;\n",
       "    }\n",
       "\n",
       "    .dataframe tbody tr th {\n",
       "        vertical-align: top;\n",
       "    }\n",
       "\n",
       "    .dataframe thead th {\n",
       "        text-align: right;\n",
       "    }\n",
       "</style>\n",
       "<table border=\"1\" class=\"dataframe\">\n",
       "  <thead>\n",
       "    <tr style=\"text-align: right;\">\n",
       "      <th></th>\n",
       "      <th>TA</th>\n",
       "      <th>SW_IN</th>\n",
       "      <th>VPD</th>\n",
       "    </tr>\n",
       "    <tr>\n",
       "      <th>time</th>\n",
       "      <th></th>\n",
       "      <th></th>\n",
       "      <th></th>\n",
       "    </tr>\n",
       "  </thead>\n",
       "  <tbody>\n",
       "    <tr>\n",
       "      <th>2000-06-15 16:30:00</th>\n",
       "      <td>14.65</td>\n",
       "      <td>468.190002</td>\n",
       "      <td>6.454</td>\n",
       "    </tr>\n",
       "    <tr>\n",
       "      <th>2000-06-15 17:00:00</th>\n",
       "      <td>14.22</td>\n",
       "      <td>224.800003</td>\n",
       "      <td>5.799</td>\n",
       "    </tr>\n",
       "    <tr>\n",
       "      <th>2000-06-15 17:30:00</th>\n",
       "      <td>14.11</td>\n",
       "      <td>195.279999</td>\n",
       "      <td>6.577</td>\n",
       "    </tr>\n",
       "    <tr>\n",
       "      <th>2000-06-15 18:00:00</th>\n",
       "      <td>14.23</td>\n",
       "      <td>244.169998</td>\n",
       "      <td>6.931</td>\n",
       "    </tr>\n",
       "    <tr>\n",
       "      <th>2000-06-15 18:30:00</th>\n",
       "      <td>14.40</td>\n",
       "      <td>253.919998</td>\n",
       "      <td>7.286</td>\n",
       "    </tr>\n",
       "    <tr>\n",
       "      <th>2000-06-15 19:00:00</th>\n",
       "      <td>14.09</td>\n",
       "      <td>177.309998</td>\n",
       "      <td>7.251</td>\n",
       "    </tr>\n",
       "    <tr>\n",
       "      <th>2000-06-15 19:30:00</th>\n",
       "      <td>13.71</td>\n",
       "      <td>97.070000</td>\n",
       "      <td>6.683</td>\n",
       "    </tr>\n",
       "    <tr>\n",
       "      <th>2000-06-15 20:00:00</th>\n",
       "      <td>13.08</td>\n",
       "      <td>39.709999</td>\n",
       "      <td>5.851</td>\n",
       "    </tr>\n",
       "    <tr>\n",
       "      <th>2000-06-15 20:30:00</th>\n",
       "      <td>12.41</td>\n",
       "      <td>10.650000</td>\n",
       "      <td>5.254</td>\n",
       "    </tr>\n",
       "    <tr>\n",
       "      <th>2000-06-15 21:00:00</th>\n",
       "      <td>12.27</td>\n",
       "      <td>0.320000</td>\n",
       "      <td>5.164</td>\n",
       "    </tr>\n",
       "  </tbody>\n",
       "</table>\n",
       "</div>"
      ],
      "text/plain": [
       "                        TA       SW_IN    VPD\n",
       "time                                         \n",
       "2000-06-15 16:30:00  14.65  468.190002  6.454\n",
       "2000-06-15 17:00:00  14.22  224.800003  5.799\n",
       "2000-06-15 17:30:00  14.11  195.279999  6.577\n",
       "2000-06-15 18:00:00  14.23  244.169998  6.931\n",
       "2000-06-15 18:30:00  14.40  253.919998  7.286\n",
       "2000-06-15 19:00:00  14.09  177.309998  7.251\n",
       "2000-06-15 19:30:00  13.71   97.070000  6.683\n",
       "2000-06-15 20:00:00  13.08   39.709999  5.851\n",
       "2000-06-15 20:30:00  12.41   10.650000  5.254\n",
       "2000-06-15 21:00:00  12.27    0.320000  5.164"
      ]
     },
     "execution_count": null,
     "metadata": {},
     "output_type": "execute_result"
    }
   ],
   "source": [
    "tfms1[0]"
   ]
  },
  {
   "cell_type": "markdown",
   "id": "cc7af1e4-516c-4536-ab92-a5d19eec00fc",
   "metadata": {},
   "source": [
    "### 2) Gaps"
   ]
  },
  {
   "cell_type": "markdown",
   "id": "f2fe95d9-43bb-4174-8b9d-d5e87fdc3930",
   "metadata": {},
   "source": [
    "adds a mask which includes a random gap"
   ]
  },
  {
   "cell_type": "code",
   "execution_count": null,
   "id": "94dcd2e0-9d32-471b-bebd-088d3e487a1f",
   "metadata": {},
   "outputs": [],
   "source": [
    "class MaskedDf:\n",
    "    def __init__(self,*args):\n",
    "        self.data = args[0]\n",
    "        self.mask = args[1]\n",
    "    def __iter__(self): return iter((self.data, self.mask,))\n",
    "    __repr__ = basic_repr(\"data, mask\")\n",
    "    def _repr_html_(self):\n",
    "        return row_dfs({'data': self.data, 'mask': self.mask}, title=\"Masked Df\")"
   ]
  },
  {
   "cell_type": "code",
   "execution_count": null,
   "id": "0c90ac7a-c0e8-4994-9268-8ae6c0739a84",
   "metadata": {},
   "outputs": [],
   "source": [
    "#| exports\n",
    "def _make_random_gap(\n",
    "    gap_length: int, # The length of the gap\n",
    "    total_length: int, # The total number of observations\n",
    "    gap_start: int = None # Optional start of gap\n",
    "): # (total_length) array of bools to indicicate if the data is missing or not\n",
    "    \"Add a continous gap of ginve length at random position\"\n",
    "    if(gap_length >= total_length):\n",
    "        return np.repeat(True, total_length)\n",
    "    gap_start = np.random.randint(total_length - gap_length) if gap_start is None else gap_start\n",
    "    return np.hstack([\n",
    "        np.repeat(False, gap_start),\n",
    "        np.repeat(True, gap_length),\n",
    "        np.repeat(False, total_length - (gap_length + gap_start))\n",
    "    ])"
   ]
  },
  {
   "cell_type": "code",
   "execution_count": null,
   "id": "0302d047-5adc-426e-94c2-1ced768a3a49",
   "metadata": {},
   "outputs": [],
   "source": [
    "#| export\n",
    "from fastcore.basics import *"
   ]
  },
  {
   "cell_type": "code",
   "execution_count": null,
   "id": "c71f35e5-ace8-41a6-806c-d5b14c520e7a",
   "metadata": {},
   "outputs": [],
   "source": [
    "#| export\n",
    "class AddGapTransform(Transform):\n",
    "    \"\"\"Adds a random gap to a `TimeSTensor`\"\"\"\n",
    "    def __init__(self,\n",
    "                variables,\n",
    "                gap_length,\n",
    "                ):\n",
    "        store_attr()\n",
    "    def encodes(self, df: pd.DataFrame):\n",
    "        gap = _make_random_gap(self.gap_length, df.shape[0])\n",
    "        mask = np.ones_like(df, dtype=bool)\n",
    "        col_sel = L(*df.columns).argwhere(lambda x: x in self.variables)\n",
    "        mask[np.argwhere(gap), col_sel] = False\n",
    "        return MaskedDf(df, pd.DataFrame(mask, index=df.index, columns=df.columns))"
   ]
  },
  {
   "cell_type": "code",
   "execution_count": null,
   "id": "47a56595-0fc1-4a7a-a9c6-38497079acb3",
   "metadata": {},
   "outputs": [
    {
     "data": {
      "text/plain": [
       "AddGapTransform:\n",
       "encodes: (DataFrame,object) -> encodes\n",
       "decodes: "
      ]
     },
     "execution_count": null,
     "metadata": {},
     "output_type": "execute_result"
    }
   ],
   "source": [
    "a_gap = AddGapTransform(['TA', 'VPD'], 5)\n",
    "a_gap"
   ]
  },
  {
   "cell_type": "code",
   "execution_count": null,
   "id": "27f2cc9f-4d0a-42a5-90bf-f4ca999918f7",
   "metadata": {},
   "outputs": [
    {
     "data": {
      "text/html": [
       "<p style='font-size: 1.5rem; font-decoration: bold'>Masked Df<p><div style=\"display: flex; column-gap: 20px; flex-wrap: wrap;\" class='table table-striped table-sm'> <div> <p style='font-size: 1.3rem;'>data</p> <style type=\"text/css\">\n",
       "</style>\n",
       "<table id=\"T_9128c\">\n",
       "  <thead>\n",
       "    <tr>\n",
       "      <th id=\"T_9128c_level0_col0\" class=\"col_heading level0 col0\" >TA</th>\n",
       "      <th id=\"T_9128c_level0_col1\" class=\"col_heading level0 col1\" >SW_IN</th>\n",
       "      <th id=\"T_9128c_level0_col2\" class=\"col_heading level0 col2\" >VPD</th>\n",
       "    </tr>\n",
       "  </thead>\n",
       "  <tbody>\n",
       "    <tr>\n",
       "      <td id=\"T_9128c_row0_col0\" class=\"data row0 col0\" >14.6500</td>\n",
       "      <td id=\"T_9128c_row0_col1\" class=\"data row0 col1\" >468.1900</td>\n",
       "      <td id=\"T_9128c_row0_col2\" class=\"data row0 col2\" >6.4540</td>\n",
       "    </tr>\n",
       "    <tr>\n",
       "      <td id=\"T_9128c_row1_col0\" class=\"data row1 col0\" >14.2200</td>\n",
       "      <td id=\"T_9128c_row1_col1\" class=\"data row1 col1\" >224.8000</td>\n",
       "      <td id=\"T_9128c_row1_col2\" class=\"data row1 col2\" >5.7990</td>\n",
       "    </tr>\n",
       "    <tr>\n",
       "      <td id=\"T_9128c_row2_col0\" class=\"data row2 col0\" >14.1100</td>\n",
       "      <td id=\"T_9128c_row2_col1\" class=\"data row2 col1\" >195.2800</td>\n",
       "      <td id=\"T_9128c_row2_col2\" class=\"data row2 col2\" >6.5770</td>\n",
       "    </tr>\n",
       "    <tr>\n",
       "      <td id=\"T_9128c_row3_col0\" class=\"data row3 col0\" >14.2300</td>\n",
       "      <td id=\"T_9128c_row3_col1\" class=\"data row3 col1\" >244.1700</td>\n",
       "      <td id=\"T_9128c_row3_col2\" class=\"data row3 col2\" >6.9310</td>\n",
       "    </tr>\n",
       "    <tr>\n",
       "      <td id=\"T_9128c_row4_col0\" class=\"data row4 col0\" >14.4000</td>\n",
       "      <td id=\"T_9128c_row4_col1\" class=\"data row4 col1\" >253.9200</td>\n",
       "      <td id=\"T_9128c_row4_col2\" class=\"data row4 col2\" >7.2860</td>\n",
       "    </tr>\n",
       "    <tr>\n",
       "      <td id=\"T_9128c_row5_col0\" class=\"data row5 col0\" >14.0900</td>\n",
       "      <td id=\"T_9128c_row5_col1\" class=\"data row5 col1\" >177.3100</td>\n",
       "      <td id=\"T_9128c_row5_col2\" class=\"data row5 col2\" >7.2510</td>\n",
       "    </tr>\n",
       "    <tr>\n",
       "      <td id=\"T_9128c_row6_col0\" class=\"data row6 col0\" >13.7100</td>\n",
       "      <td id=\"T_9128c_row6_col1\" class=\"data row6 col1\" >97.0700</td>\n",
       "      <td id=\"T_9128c_row6_col2\" class=\"data row6 col2\" >6.6830</td>\n",
       "    </tr>\n",
       "    <tr>\n",
       "      <td id=\"T_9128c_row7_col0\" class=\"data row7 col0\" >13.0800</td>\n",
       "      <td id=\"T_9128c_row7_col1\" class=\"data row7 col1\" >39.7100</td>\n",
       "      <td id=\"T_9128c_row7_col2\" class=\"data row7 col2\" >5.8510</td>\n",
       "    </tr>\n",
       "    <tr>\n",
       "      <td id=\"T_9128c_row8_col0\" class=\"data row8 col0\" >12.4100</td>\n",
       "      <td id=\"T_9128c_row8_col1\" class=\"data row8 col1\" >10.6500</td>\n",
       "      <td id=\"T_9128c_row8_col2\" class=\"data row8 col2\" >5.2540</td>\n",
       "    </tr>\n",
       "    <tr>\n",
       "      <td id=\"T_9128c_row9_col0\" class=\"data row9 col0\" >12.2700</td>\n",
       "      <td id=\"T_9128c_row9_col1\" class=\"data row9 col1\" >0.3200</td>\n",
       "      <td id=\"T_9128c_row9_col2\" class=\"data row9 col2\" >5.1640</td>\n",
       "    </tr>\n",
       "  </tbody>\n",
       "</table>\n",
       " </div><div> <p style='font-size: 1.3rem;'>mask</p> <style type=\"text/css\">\n",
       "</style>\n",
       "<table id=\"T_be39c\">\n",
       "  <thead>\n",
       "    <tr>\n",
       "      <th id=\"T_be39c_level0_col0\" class=\"col_heading level0 col0\" >TA</th>\n",
       "      <th id=\"T_be39c_level0_col1\" class=\"col_heading level0 col1\" >SW_IN</th>\n",
       "      <th id=\"T_be39c_level0_col2\" class=\"col_heading level0 col2\" >VPD</th>\n",
       "    </tr>\n",
       "  </thead>\n",
       "  <tbody>\n",
       "    <tr>\n",
       "      <td id=\"T_be39c_row0_col0\" class=\"data row0 col0\" >True</td>\n",
       "      <td id=\"T_be39c_row0_col1\" class=\"data row0 col1\" >True</td>\n",
       "      <td id=\"T_be39c_row0_col2\" class=\"data row0 col2\" >True</td>\n",
       "    </tr>\n",
       "    <tr>\n",
       "      <td id=\"T_be39c_row1_col0\" class=\"data row1 col0\" >True</td>\n",
       "      <td id=\"T_be39c_row1_col1\" class=\"data row1 col1\" >True</td>\n",
       "      <td id=\"T_be39c_row1_col2\" class=\"data row1 col2\" >True</td>\n",
       "    </tr>\n",
       "    <tr>\n",
       "      <td id=\"T_be39c_row2_col0\" class=\"data row2 col0\" >True</td>\n",
       "      <td id=\"T_be39c_row2_col1\" class=\"data row2 col1\" >True</td>\n",
       "      <td id=\"T_be39c_row2_col2\" class=\"data row2 col2\" >True</td>\n",
       "    </tr>\n",
       "    <tr>\n",
       "      <td id=\"T_be39c_row3_col0\" class=\"data row3 col0\" >False</td>\n",
       "      <td id=\"T_be39c_row3_col1\" class=\"data row3 col1\" >True</td>\n",
       "      <td id=\"T_be39c_row3_col2\" class=\"data row3 col2\" >False</td>\n",
       "    </tr>\n",
       "    <tr>\n",
       "      <td id=\"T_be39c_row4_col0\" class=\"data row4 col0\" >False</td>\n",
       "      <td id=\"T_be39c_row4_col1\" class=\"data row4 col1\" >True</td>\n",
       "      <td id=\"T_be39c_row4_col2\" class=\"data row4 col2\" >False</td>\n",
       "    </tr>\n",
       "    <tr>\n",
       "      <td id=\"T_be39c_row5_col0\" class=\"data row5 col0\" >False</td>\n",
       "      <td id=\"T_be39c_row5_col1\" class=\"data row5 col1\" >True</td>\n",
       "      <td id=\"T_be39c_row5_col2\" class=\"data row5 col2\" >False</td>\n",
       "    </tr>\n",
       "    <tr>\n",
       "      <td id=\"T_be39c_row6_col0\" class=\"data row6 col0\" >False</td>\n",
       "      <td id=\"T_be39c_row6_col1\" class=\"data row6 col1\" >True</td>\n",
       "      <td id=\"T_be39c_row6_col2\" class=\"data row6 col2\" >False</td>\n",
       "    </tr>\n",
       "    <tr>\n",
       "      <td id=\"T_be39c_row7_col0\" class=\"data row7 col0\" >False</td>\n",
       "      <td id=\"T_be39c_row7_col1\" class=\"data row7 col1\" >True</td>\n",
       "      <td id=\"T_be39c_row7_col2\" class=\"data row7 col2\" >False</td>\n",
       "    </tr>\n",
       "    <tr>\n",
       "      <td id=\"T_be39c_row8_col0\" class=\"data row8 col0\" >True</td>\n",
       "      <td id=\"T_be39c_row8_col1\" class=\"data row8 col1\" >True</td>\n",
       "      <td id=\"T_be39c_row8_col2\" class=\"data row8 col2\" >True</td>\n",
       "    </tr>\n",
       "    <tr>\n",
       "      <td id=\"T_be39c_row9_col0\" class=\"data row9 col0\" >True</td>\n",
       "      <td id=\"T_be39c_row9_col1\" class=\"data row9 col1\" >True</td>\n",
       "      <td id=\"T_be39c_row9_col2\" class=\"data row9 col2\" >True</td>\n",
       "    </tr>\n",
       "  </tbody>\n",
       "</table>\n",
       " </div></div>"
      ],
      "text/plain": [
       "__main__.MaskedDf(data=                        TA       SW_IN    VPD\n",
       "time                                         \n",
       "2000-06-15 16:30:00  14.65  468.190002  6.454\n",
       "2000-06-15 17:00:00  14.22  224.800003  5.799\n",
       "2000-06-15 17:30:00  14.11  195.279999  6.577\n",
       "2000-06-15 18:00:00  14.23  244.169998  6.931\n",
       "2000-06-15 18:30:00  14.40  253.919998  7.286\n",
       "2000-06-15 19:00:00  14.09  177.309998  7.251\n",
       "2000-06-15 19:30:00  13.71   97.070000  6.683\n",
       "2000-06-15 20:00:00  13.08   39.709999  5.851\n",
       "2000-06-15 20:30:00  12.41   10.650000  5.254\n",
       "2000-06-15 21:00:00  12.27    0.320000  5.164, mask=                        TA  SW_IN    VPD\n",
       "time                                    \n",
       "2000-06-15 16:30:00   True   True   True\n",
       "2000-06-15 17:00:00   True   True   True\n",
       "2000-06-15 17:30:00   True   True   True\n",
       "2000-06-15 18:00:00  False   True  False\n",
       "2000-06-15 18:30:00  False   True  False\n",
       "2000-06-15 19:00:00  False   True  False\n",
       "2000-06-15 19:30:00  False   True  False\n",
       "2000-06-15 20:00:00  False   True  False\n",
       "2000-06-15 20:30:00   True   True   True\n",
       "2000-06-15 21:00:00   True   True   True)"
      ]
     },
     "execution_count": null,
     "metadata": {},
     "output_type": "execute_result"
    }
   ],
   "source": [
    "a_gap(blk(800))"
   ]
  },
  {
   "cell_type": "code",
   "execution_count": null,
   "id": "2f3cccff-2b4f-4817-9807-4d833f9f8b52",
   "metadata": {},
   "outputs": [],
   "source": [
    "m_df = a_gap(blk(800))"
   ]
  },
  {
   "cell_type": "code",
   "execution_count": null,
   "id": "219da54b-55ed-4543-bbbb-5d144d089bed",
   "metadata": {},
   "outputs": [
    {
     "data": {
      "text/html": [
       "<p style='font-size: 1.5rem; font-decoration: bold'><p><div style=\"display: flex; column-gap: 20px; flex-wrap: wrap;\" class='table table-striped table-sm'> <div> <p style='font-size: 1.3rem;'>data</p> <style type=\"text/css\">\n",
       "</style>\n",
       "<table id=\"T_052e8\">\n",
       "  <thead>\n",
       "    <tr>\n",
       "      <th id=\"T_052e8_level0_col0\" class=\"col_heading level0 col0\" >TA</th>\n",
       "      <th id=\"T_052e8_level0_col1\" class=\"col_heading level0 col1\" >SW_IN</th>\n",
       "      <th id=\"T_052e8_level0_col2\" class=\"col_heading level0 col2\" >VPD</th>\n",
       "    </tr>\n",
       "  </thead>\n",
       "  <tbody>\n",
       "    <tr>\n",
       "      <td id=\"T_052e8_row0_col0\" class=\"data row0 col0\" >14.6500</td>\n",
       "      <td id=\"T_052e8_row0_col1\" class=\"data row0 col1\" >468.1900</td>\n",
       "      <td id=\"T_052e8_row0_col2\" class=\"data row0 col2\" >6.4540</td>\n",
       "    </tr>\n",
       "    <tr>\n",
       "      <td id=\"T_052e8_row1_col0\" class=\"data row1 col0\" >14.2200</td>\n",
       "      <td id=\"T_052e8_row1_col1\" class=\"data row1 col1\" >224.8000</td>\n",
       "      <td id=\"T_052e8_row1_col2\" class=\"data row1 col2\" >5.7990</td>\n",
       "    </tr>\n",
       "    <tr>\n",
       "      <td id=\"T_052e8_row2_col0\" class=\"data row2 col0\" >14.1100</td>\n",
       "      <td id=\"T_052e8_row2_col1\" class=\"data row2 col1\" >195.2800</td>\n",
       "      <td id=\"T_052e8_row2_col2\" class=\"data row2 col2\" >6.5770</td>\n",
       "    </tr>\n",
       "    <tr>\n",
       "      <td id=\"T_052e8_row3_col0\" class=\"data row3 col0\" >14.2300</td>\n",
       "      <td id=\"T_052e8_row3_col1\" class=\"data row3 col1\" >244.1700</td>\n",
       "      <td id=\"T_052e8_row3_col2\" class=\"data row3 col2\" >6.9310</td>\n",
       "    </tr>\n",
       "    <tr>\n",
       "      <td id=\"T_052e8_row4_col0\" class=\"data row4 col0\" >14.4000</td>\n",
       "      <td id=\"T_052e8_row4_col1\" class=\"data row4 col1\" >253.9200</td>\n",
       "      <td id=\"T_052e8_row4_col2\" class=\"data row4 col2\" >7.2860</td>\n",
       "    </tr>\n",
       "    <tr>\n",
       "      <td id=\"T_052e8_row5_col0\" class=\"data row5 col0\" >14.0900</td>\n",
       "      <td id=\"T_052e8_row5_col1\" class=\"data row5 col1\" >177.3100</td>\n",
       "      <td id=\"T_052e8_row5_col2\" class=\"data row5 col2\" >7.2510</td>\n",
       "    </tr>\n",
       "    <tr>\n",
       "      <td id=\"T_052e8_row6_col0\" class=\"data row6 col0\" >13.7100</td>\n",
       "      <td id=\"T_052e8_row6_col1\" class=\"data row6 col1\" >97.0700</td>\n",
       "      <td id=\"T_052e8_row6_col2\" class=\"data row6 col2\" >6.6830</td>\n",
       "    </tr>\n",
       "    <tr>\n",
       "      <td id=\"T_052e8_row7_col0\" class=\"data row7 col0\" >13.0800</td>\n",
       "      <td id=\"T_052e8_row7_col1\" class=\"data row7 col1\" >39.7100</td>\n",
       "      <td id=\"T_052e8_row7_col2\" class=\"data row7 col2\" >5.8510</td>\n",
       "    </tr>\n",
       "    <tr>\n",
       "      <td id=\"T_052e8_row8_col0\" class=\"data row8 col0\" >12.4100</td>\n",
       "      <td id=\"T_052e8_row8_col1\" class=\"data row8 col1\" >10.6500</td>\n",
       "      <td id=\"T_052e8_row8_col2\" class=\"data row8 col2\" >5.2540</td>\n",
       "    </tr>\n",
       "    <tr>\n",
       "      <td id=\"T_052e8_row9_col0\" class=\"data row9 col0\" >12.2700</td>\n",
       "      <td id=\"T_052e8_row9_col1\" class=\"data row9 col1\" >0.3200</td>\n",
       "      <td id=\"T_052e8_row9_col2\" class=\"data row9 col2\" >5.1640</td>\n",
       "    </tr>\n",
       "  </tbody>\n",
       "</table>\n",
       " </div><div> <p style='font-size: 1.3rem;'>mask</p> <style type=\"text/css\">\n",
       "</style>\n",
       "<table id=\"T_3c5bf\">\n",
       "  <thead>\n",
       "    <tr>\n",
       "      <th id=\"T_3c5bf_level0_col0\" class=\"col_heading level0 col0\" >TA</th>\n",
       "      <th id=\"T_3c5bf_level0_col1\" class=\"col_heading level0 col1\" >SW_IN</th>\n",
       "      <th id=\"T_3c5bf_level0_col2\" class=\"col_heading level0 col2\" >VPD</th>\n",
       "    </tr>\n",
       "  </thead>\n",
       "  <tbody>\n",
       "    <tr>\n",
       "      <td id=\"T_3c5bf_row0_col0\" class=\"data row0 col0\" >False</td>\n",
       "      <td id=\"T_3c5bf_row0_col1\" class=\"data row0 col1\" >True</td>\n",
       "      <td id=\"T_3c5bf_row0_col2\" class=\"data row0 col2\" >False</td>\n",
       "    </tr>\n",
       "    <tr>\n",
       "      <td id=\"T_3c5bf_row1_col0\" class=\"data row1 col0\" >False</td>\n",
       "      <td id=\"T_3c5bf_row1_col1\" class=\"data row1 col1\" >True</td>\n",
       "      <td id=\"T_3c5bf_row1_col2\" class=\"data row1 col2\" >False</td>\n",
       "    </tr>\n",
       "    <tr>\n",
       "      <td id=\"T_3c5bf_row2_col0\" class=\"data row2 col0\" >False</td>\n",
       "      <td id=\"T_3c5bf_row2_col1\" class=\"data row2 col1\" >True</td>\n",
       "      <td id=\"T_3c5bf_row2_col2\" class=\"data row2 col2\" >False</td>\n",
       "    </tr>\n",
       "    <tr>\n",
       "      <td id=\"T_3c5bf_row3_col0\" class=\"data row3 col0\" >False</td>\n",
       "      <td id=\"T_3c5bf_row3_col1\" class=\"data row3 col1\" >True</td>\n",
       "      <td id=\"T_3c5bf_row3_col2\" class=\"data row3 col2\" >False</td>\n",
       "    </tr>\n",
       "    <tr>\n",
       "      <td id=\"T_3c5bf_row4_col0\" class=\"data row4 col0\" >False</td>\n",
       "      <td id=\"T_3c5bf_row4_col1\" class=\"data row4 col1\" >True</td>\n",
       "      <td id=\"T_3c5bf_row4_col2\" class=\"data row4 col2\" >False</td>\n",
       "    </tr>\n",
       "    <tr>\n",
       "      <td id=\"T_3c5bf_row5_col0\" class=\"data row5 col0\" >True</td>\n",
       "      <td id=\"T_3c5bf_row5_col1\" class=\"data row5 col1\" >True</td>\n",
       "      <td id=\"T_3c5bf_row5_col2\" class=\"data row5 col2\" >True</td>\n",
       "    </tr>\n",
       "    <tr>\n",
       "      <td id=\"T_3c5bf_row6_col0\" class=\"data row6 col0\" >True</td>\n",
       "      <td id=\"T_3c5bf_row6_col1\" class=\"data row6 col1\" >True</td>\n",
       "      <td id=\"T_3c5bf_row6_col2\" class=\"data row6 col2\" >True</td>\n",
       "    </tr>\n",
       "    <tr>\n",
       "      <td id=\"T_3c5bf_row7_col0\" class=\"data row7 col0\" >True</td>\n",
       "      <td id=\"T_3c5bf_row7_col1\" class=\"data row7 col1\" >True</td>\n",
       "      <td id=\"T_3c5bf_row7_col2\" class=\"data row7 col2\" >True</td>\n",
       "    </tr>\n",
       "    <tr>\n",
       "      <td id=\"T_3c5bf_row8_col0\" class=\"data row8 col0\" >True</td>\n",
       "      <td id=\"T_3c5bf_row8_col1\" class=\"data row8 col1\" >True</td>\n",
       "      <td id=\"T_3c5bf_row8_col2\" class=\"data row8 col2\" >True</td>\n",
       "    </tr>\n",
       "    <tr>\n",
       "      <td id=\"T_3c5bf_row9_col0\" class=\"data row9 col0\" >True</td>\n",
       "      <td id=\"T_3c5bf_row9_col1\" class=\"data row9 col1\" >True</td>\n",
       "      <td id=\"T_3c5bf_row9_col2\" class=\"data row9 col2\" >True</td>\n",
       "    </tr>\n",
       "  </tbody>\n",
       "</table>\n",
       " </div></div>"
      ],
      "text/plain": [
       "<IPython.core.display.HTML object>"
      ]
     },
     "metadata": {},
     "output_type": "display_data"
    }
   ],
   "source": [
    "display_as_row({'data': m_df.data, 'mask': m_df.mask})"
   ]
  },
  {
   "cell_type": "code",
   "execution_count": null,
   "id": "465aab96-5f68-49c4-94bd-8c4fe4d5e8de",
   "metadata": {},
   "outputs": [],
   "source": [
    "tfms2 = TfmdLists([800,801,802,803], [BlockDfTransform(hai, 10), AddGapTransform(['TA','SW_IN'], 2)])"
   ]
  },
  {
   "cell_type": "code",
   "execution_count": null,
   "id": "3292befc-b05d-441b-9404-7d1aa24d657d",
   "metadata": {},
   "outputs": [
    {
     "data": {
      "text/html": [
       "<p style='font-size: 1.5rem; font-decoration: bold'>Masked Df<p><div style=\"display: flex; column-gap: 20px; flex-wrap: wrap;\" class='table table-striped table-sm'> <div> <p style='font-size: 1.3rem;'>data</p> <style type=\"text/css\">\n",
       "</style>\n",
       "<table id=\"T_cadd8\">\n",
       "  <thead>\n",
       "    <tr>\n",
       "      <th id=\"T_cadd8_level0_col0\" class=\"col_heading level0 col0\" >TA</th>\n",
       "      <th id=\"T_cadd8_level0_col1\" class=\"col_heading level0 col1\" >SW_IN</th>\n",
       "      <th id=\"T_cadd8_level0_col2\" class=\"col_heading level0 col2\" >VPD</th>\n",
       "    </tr>\n",
       "  </thead>\n",
       "  <tbody>\n",
       "    <tr>\n",
       "      <td id=\"T_cadd8_row0_col0\" class=\"data row0 col0\" >14.6500</td>\n",
       "      <td id=\"T_cadd8_row0_col1\" class=\"data row0 col1\" >468.1900</td>\n",
       "      <td id=\"T_cadd8_row0_col2\" class=\"data row0 col2\" >6.4540</td>\n",
       "    </tr>\n",
       "    <tr>\n",
       "      <td id=\"T_cadd8_row1_col0\" class=\"data row1 col0\" >14.2200</td>\n",
       "      <td id=\"T_cadd8_row1_col1\" class=\"data row1 col1\" >224.8000</td>\n",
       "      <td id=\"T_cadd8_row1_col2\" class=\"data row1 col2\" >5.7990</td>\n",
       "    </tr>\n",
       "    <tr>\n",
       "      <td id=\"T_cadd8_row2_col0\" class=\"data row2 col0\" >14.1100</td>\n",
       "      <td id=\"T_cadd8_row2_col1\" class=\"data row2 col1\" >195.2800</td>\n",
       "      <td id=\"T_cadd8_row2_col2\" class=\"data row2 col2\" >6.5770</td>\n",
       "    </tr>\n",
       "    <tr>\n",
       "      <td id=\"T_cadd8_row3_col0\" class=\"data row3 col0\" >14.2300</td>\n",
       "      <td id=\"T_cadd8_row3_col1\" class=\"data row3 col1\" >244.1700</td>\n",
       "      <td id=\"T_cadd8_row3_col2\" class=\"data row3 col2\" >6.9310</td>\n",
       "    </tr>\n",
       "    <tr>\n",
       "      <td id=\"T_cadd8_row4_col0\" class=\"data row4 col0\" >14.4000</td>\n",
       "      <td id=\"T_cadd8_row4_col1\" class=\"data row4 col1\" >253.9200</td>\n",
       "      <td id=\"T_cadd8_row4_col2\" class=\"data row4 col2\" >7.2860</td>\n",
       "    </tr>\n",
       "    <tr>\n",
       "      <td id=\"T_cadd8_row5_col0\" class=\"data row5 col0\" >14.0900</td>\n",
       "      <td id=\"T_cadd8_row5_col1\" class=\"data row5 col1\" >177.3100</td>\n",
       "      <td id=\"T_cadd8_row5_col2\" class=\"data row5 col2\" >7.2510</td>\n",
       "    </tr>\n",
       "    <tr>\n",
       "      <td id=\"T_cadd8_row6_col0\" class=\"data row6 col0\" >13.7100</td>\n",
       "      <td id=\"T_cadd8_row6_col1\" class=\"data row6 col1\" >97.0700</td>\n",
       "      <td id=\"T_cadd8_row6_col2\" class=\"data row6 col2\" >6.6830</td>\n",
       "    </tr>\n",
       "    <tr>\n",
       "      <td id=\"T_cadd8_row7_col0\" class=\"data row7 col0\" >13.0800</td>\n",
       "      <td id=\"T_cadd8_row7_col1\" class=\"data row7 col1\" >39.7100</td>\n",
       "      <td id=\"T_cadd8_row7_col2\" class=\"data row7 col2\" >5.8510</td>\n",
       "    </tr>\n",
       "    <tr>\n",
       "      <td id=\"T_cadd8_row8_col0\" class=\"data row8 col0\" >12.4100</td>\n",
       "      <td id=\"T_cadd8_row8_col1\" class=\"data row8 col1\" >10.6500</td>\n",
       "      <td id=\"T_cadd8_row8_col2\" class=\"data row8 col2\" >5.2540</td>\n",
       "    </tr>\n",
       "    <tr>\n",
       "      <td id=\"T_cadd8_row9_col0\" class=\"data row9 col0\" >12.2700</td>\n",
       "      <td id=\"T_cadd8_row9_col1\" class=\"data row9 col1\" >0.3200</td>\n",
       "      <td id=\"T_cadd8_row9_col2\" class=\"data row9 col2\" >5.1640</td>\n",
       "    </tr>\n",
       "  </tbody>\n",
       "</table>\n",
       " </div><div> <p style='font-size: 1.3rem;'>mask</p> <style type=\"text/css\">\n",
       "</style>\n",
       "<table id=\"T_ce5d2\">\n",
       "  <thead>\n",
       "    <tr>\n",
       "      <th id=\"T_ce5d2_level0_col0\" class=\"col_heading level0 col0\" >TA</th>\n",
       "      <th id=\"T_ce5d2_level0_col1\" class=\"col_heading level0 col1\" >SW_IN</th>\n",
       "      <th id=\"T_ce5d2_level0_col2\" class=\"col_heading level0 col2\" >VPD</th>\n",
       "    </tr>\n",
       "  </thead>\n",
       "  <tbody>\n",
       "    <tr>\n",
       "      <td id=\"T_ce5d2_row0_col0\" class=\"data row0 col0\" >True</td>\n",
       "      <td id=\"T_ce5d2_row0_col1\" class=\"data row0 col1\" >True</td>\n",
       "      <td id=\"T_ce5d2_row0_col2\" class=\"data row0 col2\" >True</td>\n",
       "    </tr>\n",
       "    <tr>\n",
       "      <td id=\"T_ce5d2_row1_col0\" class=\"data row1 col0\" >True</td>\n",
       "      <td id=\"T_ce5d2_row1_col1\" class=\"data row1 col1\" >True</td>\n",
       "      <td id=\"T_ce5d2_row1_col2\" class=\"data row1 col2\" >True</td>\n",
       "    </tr>\n",
       "    <tr>\n",
       "      <td id=\"T_ce5d2_row2_col0\" class=\"data row2 col0\" >True</td>\n",
       "      <td id=\"T_ce5d2_row2_col1\" class=\"data row2 col1\" >True</td>\n",
       "      <td id=\"T_ce5d2_row2_col2\" class=\"data row2 col2\" >True</td>\n",
       "    </tr>\n",
       "    <tr>\n",
       "      <td id=\"T_ce5d2_row3_col0\" class=\"data row3 col0\" >True</td>\n",
       "      <td id=\"T_ce5d2_row3_col1\" class=\"data row3 col1\" >True</td>\n",
       "      <td id=\"T_ce5d2_row3_col2\" class=\"data row3 col2\" >True</td>\n",
       "    </tr>\n",
       "    <tr>\n",
       "      <td id=\"T_ce5d2_row4_col0\" class=\"data row4 col0\" >True</td>\n",
       "      <td id=\"T_ce5d2_row4_col1\" class=\"data row4 col1\" >True</td>\n",
       "      <td id=\"T_ce5d2_row4_col2\" class=\"data row4 col2\" >True</td>\n",
       "    </tr>\n",
       "    <tr>\n",
       "      <td id=\"T_ce5d2_row5_col0\" class=\"data row5 col0\" >True</td>\n",
       "      <td id=\"T_ce5d2_row5_col1\" class=\"data row5 col1\" >True</td>\n",
       "      <td id=\"T_ce5d2_row5_col2\" class=\"data row5 col2\" >True</td>\n",
       "    </tr>\n",
       "    <tr>\n",
       "      <td id=\"T_ce5d2_row6_col0\" class=\"data row6 col0\" >True</td>\n",
       "      <td id=\"T_ce5d2_row6_col1\" class=\"data row6 col1\" >True</td>\n",
       "      <td id=\"T_ce5d2_row6_col2\" class=\"data row6 col2\" >True</td>\n",
       "    </tr>\n",
       "    <tr>\n",
       "      <td id=\"T_ce5d2_row7_col0\" class=\"data row7 col0\" >False</td>\n",
       "      <td id=\"T_ce5d2_row7_col1\" class=\"data row7 col1\" >False</td>\n",
       "      <td id=\"T_ce5d2_row7_col2\" class=\"data row7 col2\" >True</td>\n",
       "    </tr>\n",
       "    <tr>\n",
       "      <td id=\"T_ce5d2_row8_col0\" class=\"data row8 col0\" >False</td>\n",
       "      <td id=\"T_ce5d2_row8_col1\" class=\"data row8 col1\" >False</td>\n",
       "      <td id=\"T_ce5d2_row8_col2\" class=\"data row8 col2\" >True</td>\n",
       "    </tr>\n",
       "    <tr>\n",
       "      <td id=\"T_ce5d2_row9_col0\" class=\"data row9 col0\" >True</td>\n",
       "      <td id=\"T_ce5d2_row9_col1\" class=\"data row9 col1\" >True</td>\n",
       "      <td id=\"T_ce5d2_row9_col2\" class=\"data row9 col2\" >True</td>\n",
       "    </tr>\n",
       "  </tbody>\n",
       "</table>\n",
       " </div></div>"
      ],
      "text/plain": [
       "__main__.MaskedDf(data=                        TA       SW_IN    VPD\n",
       "time                                         \n",
       "2000-06-15 16:30:00  14.65  468.190002  6.454\n",
       "2000-06-15 17:00:00  14.22  224.800003  5.799\n",
       "2000-06-15 17:30:00  14.11  195.279999  6.577\n",
       "2000-06-15 18:00:00  14.23  244.169998  6.931\n",
       "2000-06-15 18:30:00  14.40  253.919998  7.286\n",
       "2000-06-15 19:00:00  14.09  177.309998  7.251\n",
       "2000-06-15 19:30:00  13.71   97.070000  6.683\n",
       "2000-06-15 20:00:00  13.08   39.709999  5.851\n",
       "2000-06-15 20:30:00  12.41   10.650000  5.254\n",
       "2000-06-15 21:00:00  12.27    0.320000  5.164, mask=                        TA  SW_IN   VPD\n",
       "time                                   \n",
       "2000-06-15 16:30:00   True   True  True\n",
       "2000-06-15 17:00:00   True   True  True\n",
       "2000-06-15 17:30:00   True   True  True\n",
       "2000-06-15 18:00:00   True   True  True\n",
       "2000-06-15 18:30:00   True   True  True\n",
       "2000-06-15 19:00:00   True   True  True\n",
       "2000-06-15 19:30:00   True   True  True\n",
       "2000-06-15 20:00:00  False  False  True\n",
       "2000-06-15 20:30:00  False  False  True\n",
       "2000-06-15 21:00:00   True   True  True)"
      ]
     },
     "execution_count": null,
     "metadata": {},
     "output_type": "execute_result"
    }
   ],
   "source": [
    "tfms2[0]"
   ]
  },
  {
   "cell_type": "code",
   "execution_count": null,
   "id": "5952ccff-6433-48ca-8940-6ea872927cdc",
   "metadata": {},
   "outputs": [],
   "source": [
    "#| export\n",
    "@patch\n",
    "def tidy(self: MaskedDf):\n",
    "    data = self.data.reset_index().melt(\"time\")\n",
    "    mask = self.mask.reset_index().melt(\"time\", value_name=\"is_present\")\n",
    "    \n",
    "    return pd.merge(data, mask, on=[\"time\", \"variable\"])"
   ]
  },
  {
   "cell_type": "code",
   "execution_count": null,
   "id": "c601c37c-a032-4edb-a522-50ce0af7b87d",
   "metadata": {},
   "outputs": [
    {
     "data": {
      "text/html": [
       "<div>\n",
       "<style scoped>\n",
       "    .dataframe tbody tr th:only-of-type {\n",
       "        vertical-align: middle;\n",
       "    }\n",
       "\n",
       "    .dataframe tbody tr th {\n",
       "        vertical-align: top;\n",
       "    }\n",
       "\n",
       "    .dataframe thead th {\n",
       "        text-align: right;\n",
       "    }\n",
       "</style>\n",
       "<table border=\"1\" class=\"dataframe\">\n",
       "  <thead>\n",
       "    <tr style=\"text-align: right;\">\n",
       "      <th></th>\n",
       "      <th>time</th>\n",
       "      <th>variable</th>\n",
       "      <th>value</th>\n",
       "      <th>is_present</th>\n",
       "    </tr>\n",
       "  </thead>\n",
       "  <tbody>\n",
       "    <tr>\n",
       "      <th>0</th>\n",
       "      <td>2000-06-15 16:30:00</td>\n",
       "      <td>TA</td>\n",
       "      <td>14.650000</td>\n",
       "      <td>False</td>\n",
       "    </tr>\n",
       "    <tr>\n",
       "      <th>1</th>\n",
       "      <td>2000-06-15 17:00:00</td>\n",
       "      <td>TA</td>\n",
       "      <td>14.220000</td>\n",
       "      <td>False</td>\n",
       "    </tr>\n",
       "    <tr>\n",
       "      <th>2</th>\n",
       "      <td>2000-06-15 17:30:00</td>\n",
       "      <td>TA</td>\n",
       "      <td>14.110000</td>\n",
       "      <td>False</td>\n",
       "    </tr>\n",
       "    <tr>\n",
       "      <th>3</th>\n",
       "      <td>2000-06-15 18:00:00</td>\n",
       "      <td>TA</td>\n",
       "      <td>14.230000</td>\n",
       "      <td>False</td>\n",
       "    </tr>\n",
       "    <tr>\n",
       "      <th>4</th>\n",
       "      <td>2000-06-15 18:30:00</td>\n",
       "      <td>TA</td>\n",
       "      <td>14.400000</td>\n",
       "      <td>False</td>\n",
       "    </tr>\n",
       "    <tr>\n",
       "      <th>5</th>\n",
       "      <td>2000-06-15 19:00:00</td>\n",
       "      <td>TA</td>\n",
       "      <td>14.090000</td>\n",
       "      <td>True</td>\n",
       "    </tr>\n",
       "    <tr>\n",
       "      <th>6</th>\n",
       "      <td>2000-06-15 19:30:00</td>\n",
       "      <td>TA</td>\n",
       "      <td>13.710000</td>\n",
       "      <td>True</td>\n",
       "    </tr>\n",
       "    <tr>\n",
       "      <th>7</th>\n",
       "      <td>2000-06-15 20:00:00</td>\n",
       "      <td>TA</td>\n",
       "      <td>13.080000</td>\n",
       "      <td>True</td>\n",
       "    </tr>\n",
       "    <tr>\n",
       "      <th>8</th>\n",
       "      <td>2000-06-15 20:30:00</td>\n",
       "      <td>TA</td>\n",
       "      <td>12.410000</td>\n",
       "      <td>True</td>\n",
       "    </tr>\n",
       "    <tr>\n",
       "      <th>9</th>\n",
       "      <td>2000-06-15 21:00:00</td>\n",
       "      <td>TA</td>\n",
       "      <td>12.270000</td>\n",
       "      <td>True</td>\n",
       "    </tr>\n",
       "    <tr>\n",
       "      <th>10</th>\n",
       "      <td>2000-06-15 16:30:00</td>\n",
       "      <td>SW_IN</td>\n",
       "      <td>468.190002</td>\n",
       "      <td>True</td>\n",
       "    </tr>\n",
       "    <tr>\n",
       "      <th>11</th>\n",
       "      <td>2000-06-15 17:00:00</td>\n",
       "      <td>SW_IN</td>\n",
       "      <td>224.800003</td>\n",
       "      <td>True</td>\n",
       "    </tr>\n",
       "    <tr>\n",
       "      <th>12</th>\n",
       "      <td>2000-06-15 17:30:00</td>\n",
       "      <td>SW_IN</td>\n",
       "      <td>195.279999</td>\n",
       "      <td>True</td>\n",
       "    </tr>\n",
       "    <tr>\n",
       "      <th>13</th>\n",
       "      <td>2000-06-15 18:00:00</td>\n",
       "      <td>SW_IN</td>\n",
       "      <td>244.169998</td>\n",
       "      <td>True</td>\n",
       "    </tr>\n",
       "    <tr>\n",
       "      <th>14</th>\n",
       "      <td>2000-06-15 18:30:00</td>\n",
       "      <td>SW_IN</td>\n",
       "      <td>253.919998</td>\n",
       "      <td>True</td>\n",
       "    </tr>\n",
       "    <tr>\n",
       "      <th>15</th>\n",
       "      <td>2000-06-15 19:00:00</td>\n",
       "      <td>SW_IN</td>\n",
       "      <td>177.309998</td>\n",
       "      <td>True</td>\n",
       "    </tr>\n",
       "    <tr>\n",
       "      <th>16</th>\n",
       "      <td>2000-06-15 19:30:00</td>\n",
       "      <td>SW_IN</td>\n",
       "      <td>97.070000</td>\n",
       "      <td>True</td>\n",
       "    </tr>\n",
       "    <tr>\n",
       "      <th>17</th>\n",
       "      <td>2000-06-15 20:00:00</td>\n",
       "      <td>SW_IN</td>\n",
       "      <td>39.709999</td>\n",
       "      <td>True</td>\n",
       "    </tr>\n",
       "    <tr>\n",
       "      <th>18</th>\n",
       "      <td>2000-06-15 20:30:00</td>\n",
       "      <td>SW_IN</td>\n",
       "      <td>10.650000</td>\n",
       "      <td>True</td>\n",
       "    </tr>\n",
       "    <tr>\n",
       "      <th>19</th>\n",
       "      <td>2000-06-15 21:00:00</td>\n",
       "      <td>SW_IN</td>\n",
       "      <td>0.320000</td>\n",
       "      <td>True</td>\n",
       "    </tr>\n",
       "    <tr>\n",
       "      <th>20</th>\n",
       "      <td>2000-06-15 16:30:00</td>\n",
       "      <td>VPD</td>\n",
       "      <td>6.454000</td>\n",
       "      <td>False</td>\n",
       "    </tr>\n",
       "    <tr>\n",
       "      <th>21</th>\n",
       "      <td>2000-06-15 17:00:00</td>\n",
       "      <td>VPD</td>\n",
       "      <td>5.799000</td>\n",
       "      <td>False</td>\n",
       "    </tr>\n",
       "    <tr>\n",
       "      <th>22</th>\n",
       "      <td>2000-06-15 17:30:00</td>\n",
       "      <td>VPD</td>\n",
       "      <td>6.577000</td>\n",
       "      <td>False</td>\n",
       "    </tr>\n",
       "    <tr>\n",
       "      <th>23</th>\n",
       "      <td>2000-06-15 18:00:00</td>\n",
       "      <td>VPD</td>\n",
       "      <td>6.931000</td>\n",
       "      <td>False</td>\n",
       "    </tr>\n",
       "    <tr>\n",
       "      <th>24</th>\n",
       "      <td>2000-06-15 18:30:00</td>\n",
       "      <td>VPD</td>\n",
       "      <td>7.286000</td>\n",
       "      <td>False</td>\n",
       "    </tr>\n",
       "    <tr>\n",
       "      <th>25</th>\n",
       "      <td>2000-06-15 19:00:00</td>\n",
       "      <td>VPD</td>\n",
       "      <td>7.251000</td>\n",
       "      <td>True</td>\n",
       "    </tr>\n",
       "    <tr>\n",
       "      <th>26</th>\n",
       "      <td>2000-06-15 19:30:00</td>\n",
       "      <td>VPD</td>\n",
       "      <td>6.683000</td>\n",
       "      <td>True</td>\n",
       "    </tr>\n",
       "    <tr>\n",
       "      <th>27</th>\n",
       "      <td>2000-06-15 20:00:00</td>\n",
       "      <td>VPD</td>\n",
       "      <td>5.851000</td>\n",
       "      <td>True</td>\n",
       "    </tr>\n",
       "    <tr>\n",
       "      <th>28</th>\n",
       "      <td>2000-06-15 20:30:00</td>\n",
       "      <td>VPD</td>\n",
       "      <td>5.254000</td>\n",
       "      <td>True</td>\n",
       "    </tr>\n",
       "    <tr>\n",
       "      <th>29</th>\n",
       "      <td>2000-06-15 21:00:00</td>\n",
       "      <td>VPD</td>\n",
       "      <td>5.164000</td>\n",
       "      <td>True</td>\n",
       "    </tr>\n",
       "  </tbody>\n",
       "</table>\n",
       "</div>"
      ],
      "text/plain": [
       "                  time variable       value  is_present\n",
       "0  2000-06-15 16:30:00       TA   14.650000       False\n",
       "1  2000-06-15 17:00:00       TA   14.220000       False\n",
       "2  2000-06-15 17:30:00       TA   14.110000       False\n",
       "3  2000-06-15 18:00:00       TA   14.230000       False\n",
       "4  2000-06-15 18:30:00       TA   14.400000       False\n",
       "5  2000-06-15 19:00:00       TA   14.090000        True\n",
       "6  2000-06-15 19:30:00       TA   13.710000        True\n",
       "7  2000-06-15 20:00:00       TA   13.080000        True\n",
       "8  2000-06-15 20:30:00       TA   12.410000        True\n",
       "9  2000-06-15 21:00:00       TA   12.270000        True\n",
       "10 2000-06-15 16:30:00    SW_IN  468.190002        True\n",
       "11 2000-06-15 17:00:00    SW_IN  224.800003        True\n",
       "12 2000-06-15 17:30:00    SW_IN  195.279999        True\n",
       "13 2000-06-15 18:00:00    SW_IN  244.169998        True\n",
       "14 2000-06-15 18:30:00    SW_IN  253.919998        True\n",
       "15 2000-06-15 19:00:00    SW_IN  177.309998        True\n",
       "16 2000-06-15 19:30:00    SW_IN   97.070000        True\n",
       "17 2000-06-15 20:00:00    SW_IN   39.709999        True\n",
       "18 2000-06-15 20:30:00    SW_IN   10.650000        True\n",
       "19 2000-06-15 21:00:00    SW_IN    0.320000        True\n",
       "20 2000-06-15 16:30:00      VPD    6.454000       False\n",
       "21 2000-06-15 17:00:00      VPD    5.799000       False\n",
       "22 2000-06-15 17:30:00      VPD    6.577000       False\n",
       "23 2000-06-15 18:00:00      VPD    6.931000       False\n",
       "24 2000-06-15 18:30:00      VPD    7.286000       False\n",
       "25 2000-06-15 19:00:00      VPD    7.251000        True\n",
       "26 2000-06-15 19:30:00      VPD    6.683000        True\n",
       "27 2000-06-15 20:00:00      VPD    5.851000        True\n",
       "28 2000-06-15 20:30:00      VPD    5.254000        True\n",
       "29 2000-06-15 21:00:00      VPD    5.164000        True"
      ]
     },
     "execution_count": null,
     "metadata": {},
     "output_type": "execute_result"
    }
   ],
   "source": [
    "m_df.tidy()"
   ]
  },
  {
   "cell_type": "markdown",
   "id": "9d2c8fbc-f1e1-4938-b4a6-d29d8bd8e6bd",
   "metadata": {},
   "source": [
    "#### Plotting"
   ]
  },
  {
   "cell_type": "code",
   "execution_count": null,
   "id": "f36f4825-52e4-49c7-92f1-14d64429e3ea",
   "metadata": {},
   "outputs": [],
   "source": [
    "#| export\n",
    "import altair as alt\n",
    "from altair import datum"
   ]
  },
  {
   "cell_type": "code",
   "execution_count": null,
   "id": "51544d62-63ca-4e6c-b63e-943cc739fa5b",
   "metadata": {},
   "outputs": [],
   "source": [
    "#| exporti\n",
    "def def_selection():\n",
    "    return alt.selection_interval(bind=\"scales\")"
   ]
  },
  {
   "cell_type": "code",
   "execution_count": null,
   "id": "7f1e483f-f250-4baf-82ee-3958f5cefba8",
   "metadata": {},
   "outputs": [],
   "source": [
    "#| exporti\n",
    "def plot_rug(df, sel = def_selection(), props = {}):\n",
    "    if 'height' in props:\n",
    "        props = props.copy() \n",
    "        props.pop('height') # rug should have default heigth\n",
    "    return alt.Chart(df).mark_tick(\n",
    "            color='black',\n",
    "        ).encode(\n",
    "            x = \"time\",\n",
    "            color = alt.condition(datum.is_present, alt.value('white'), alt.value('black'))\n",
    "        ).add_params(\n",
    "            sel\n",
    "        ).properties(**props) "
   ]
  },
  {
   "cell_type": "code",
   "execution_count": null,
   "id": "f9668bee-f4dd-48e6-92cd-4b96f1f3626e",
   "metadata": {},
   "outputs": [
    {
     "data": {
      "text/html": [
       "\n",
       "<div id=\"altair-viz-e5673ec5d2c54300902e835fb829f76b\"></div>\n",
       "<script type=\"text/javascript\">\n",
       "  var VEGA_DEBUG = (typeof VEGA_DEBUG == \"undefined\") ? {} : VEGA_DEBUG;\n",
       "  (function(spec, embedOpt){\n",
       "    let outputDiv = document.currentScript.previousElementSibling;\n",
       "    if (outputDiv.id !== \"altair-viz-e5673ec5d2c54300902e835fb829f76b\") {\n",
       "      outputDiv = document.getElementById(\"altair-viz-e5673ec5d2c54300902e835fb829f76b\");\n",
       "    }\n",
       "    const paths = {\n",
       "      \"vega\": \"https://cdn.jsdelivr.net/npm//vega@5?noext\",\n",
       "      \"vega-lib\": \"https://cdn.jsdelivr.net/npm//vega-lib?noext\",\n",
       "      \"vega-lite\": \"https://cdn.jsdelivr.net/npm//vega-lite@5.2.0?noext\",\n",
       "      \"vega-embed\": \"https://cdn.jsdelivr.net/npm//vega-embed@6?noext\",\n",
       "    };\n",
       "\n",
       "    function maybeLoadScript(lib, version) {\n",
       "      var key = `${lib.replace(\"-\", \"\")}_version`;\n",
       "      return (VEGA_DEBUG[key] == version) ?\n",
       "        Promise.resolve(paths[lib]) :\n",
       "        new Promise(function(resolve, reject) {\n",
       "          var s = document.createElement('script');\n",
       "          document.getElementsByTagName(\"head\")[0].appendChild(s);\n",
       "          s.async = true;\n",
       "          s.onload = () => {\n",
       "            VEGA_DEBUG[key] = version;\n",
       "            return resolve(paths[lib]);\n",
       "          };\n",
       "          s.onerror = () => reject(`Error loading script: ${paths[lib]}`);\n",
       "          s.src = paths[lib];\n",
       "        });\n",
       "    }\n",
       "\n",
       "    function showError(err) {\n",
       "      outputDiv.innerHTML = `<div class=\"error\" style=\"color:red;\">${err}</div>`;\n",
       "      throw err;\n",
       "    }\n",
       "\n",
       "    function displayChart(vegaEmbed) {\n",
       "      vegaEmbed(outputDiv, spec, embedOpt)\n",
       "        .catch(err => showError(`Javascript Error: ${err.message}<br>This usually means there's a typo in your chart specification. See the javascript console for the full traceback.`));\n",
       "    }\n",
       "\n",
       "    if(typeof define === \"function\" && define.amd) {\n",
       "      requirejs.config({paths});\n",
       "      require([\"vega-embed\"], displayChart, err => showError(`Error loading script: ${err.message}`));\n",
       "    } else {\n",
       "      maybeLoadScript(\"vega\", \"5\")\n",
       "        .then(() => maybeLoadScript(\"vega-lite\", \"5.2.0\"))\n",
       "        .then(() => maybeLoadScript(\"vega-embed\", \"6\"))\n",
       "        .catch(showError)\n",
       "        .then(() => displayChart(vegaEmbed));\n",
       "    }\n",
       "  })({\"config\": {\"view\": {\"continuousWidth\": 400, \"continuousHeight\": 300}}, \"data\": {\"name\": \"data-78793625ad331c69629763c17f6779c5\"}, \"mark\": {\"type\": \"tick\", \"color\": \"black\"}, \"encoding\": {\"color\": {\"condition\": {\"value\": \"white\", \"test\": \"datum.is_present\"}, \"value\": \"black\"}, \"x\": {\"field\": \"time\", \"type\": \"temporal\"}}, \"params\": [{\"name\": \"param_1\", \"select\": {\"type\": \"interval\"}, \"bind\": \"scales\"}], \"$schema\": \"https://vega.github.io/schema/vega-lite/v5.2.0.json\", \"datasets\": {\"data-78793625ad331c69629763c17f6779c5\": [{\"time\": \"2000-06-15T16:30:00\", \"variable\": \"TA\", \"value\": 14.649999618530273, \"is_present\": false}, {\"time\": \"2000-06-15T17:00:00\", \"variable\": \"TA\", \"value\": 14.220000267028809, \"is_present\": false}, {\"time\": \"2000-06-15T17:30:00\", \"variable\": \"TA\", \"value\": 14.109999656677246, \"is_present\": false}, {\"time\": \"2000-06-15T18:00:00\", \"variable\": \"TA\", \"value\": 14.229999542236328, \"is_present\": false}, {\"time\": \"2000-06-15T18:30:00\", \"variable\": \"TA\", \"value\": 14.399999618530273, \"is_present\": false}, {\"time\": \"2000-06-15T19:00:00\", \"variable\": \"TA\", \"value\": 14.09000015258789, \"is_present\": true}, {\"time\": \"2000-06-15T19:30:00\", \"variable\": \"TA\", \"value\": 13.710000038146973, \"is_present\": true}, {\"time\": \"2000-06-15T20:00:00\", \"variable\": \"TA\", \"value\": 13.079999923706055, \"is_present\": true}, {\"time\": \"2000-06-15T20:30:00\", \"variable\": \"TA\", \"value\": 12.40999984741211, \"is_present\": true}, {\"time\": \"2000-06-15T21:00:00\", \"variable\": \"TA\", \"value\": 12.270000457763672, \"is_present\": true}, {\"time\": \"2000-06-15T16:30:00\", \"variable\": \"SW_IN\", \"value\": 468.19000244140625, \"is_present\": true}, {\"time\": \"2000-06-15T17:00:00\", \"variable\": \"SW_IN\", \"value\": 224.8000030517578, \"is_present\": true}, {\"time\": \"2000-06-15T17:30:00\", \"variable\": \"SW_IN\", \"value\": 195.27999877929688, \"is_present\": true}, {\"time\": \"2000-06-15T18:00:00\", \"variable\": \"SW_IN\", \"value\": 244.1699981689453, \"is_present\": true}, {\"time\": \"2000-06-15T18:30:00\", \"variable\": \"SW_IN\", \"value\": 253.9199981689453, \"is_present\": true}, {\"time\": \"2000-06-15T19:00:00\", \"variable\": \"SW_IN\", \"value\": 177.30999755859375, \"is_present\": true}, {\"time\": \"2000-06-15T19:30:00\", \"variable\": \"SW_IN\", \"value\": 97.06999969482422, \"is_present\": true}, {\"time\": \"2000-06-15T20:00:00\", \"variable\": \"SW_IN\", \"value\": 39.709999084472656, \"is_present\": true}, {\"time\": \"2000-06-15T20:30:00\", \"variable\": \"SW_IN\", \"value\": 10.649999618530273, \"is_present\": true}, {\"time\": \"2000-06-15T21:00:00\", \"variable\": \"SW_IN\", \"value\": 0.3199999928474426, \"is_present\": true}, {\"time\": \"2000-06-15T16:30:00\", \"variable\": \"VPD\", \"value\": 6.453999996185303, \"is_present\": false}, {\"time\": \"2000-06-15T17:00:00\", \"variable\": \"VPD\", \"value\": 5.798999786376953, \"is_present\": false}, {\"time\": \"2000-06-15T17:30:00\", \"variable\": \"VPD\", \"value\": 6.577000141143799, \"is_present\": false}, {\"time\": \"2000-06-15T18:00:00\", \"variable\": \"VPD\", \"value\": 6.931000232696533, \"is_present\": false}, {\"time\": \"2000-06-15T18:30:00\", \"variable\": \"VPD\", \"value\": 7.285999774932861, \"is_present\": false}, {\"time\": \"2000-06-15T19:00:00\", \"variable\": \"VPD\", \"value\": 7.250999927520752, \"is_present\": true}, {\"time\": \"2000-06-15T19:30:00\", \"variable\": \"VPD\", \"value\": 6.683000087738037, \"is_present\": true}, {\"time\": \"2000-06-15T20:00:00\", \"variable\": \"VPD\", \"value\": 5.85099983215332, \"is_present\": true}, {\"time\": \"2000-06-15T20:30:00\", \"variable\": \"VPD\", \"value\": 5.254000186920166, \"is_present\": true}, {\"time\": \"2000-06-15T21:00:00\", \"variable\": \"VPD\", \"value\": 5.164000034332275, \"is_present\": true}]}}, {\"mode\": \"vega-lite\"});\n",
       "</script>"
      ],
      "text/plain": [
       "alt.Chart(...)"
      ]
     },
     "execution_count": null,
     "metadata": {},
     "output_type": "execute_result"
    }
   ],
   "source": [
    "plot_rug(m_df.tidy())"
   ]
  },
  {
   "cell_type": "code",
   "execution_count": null,
   "id": "52f438da-c85f-40e7-bdac-c08bce559cc3",
   "metadata": {},
   "outputs": [],
   "source": [
    "def plot_points(df, y_label = \"\", sel = def_selection(), props = {}):\n",
    "    return alt.Chart(df).mark_point(\n",
    "            color='black',\n",
    "            strokeWidth = 1,\n",
    "            fillOpacity = 1\n",
    "        ).encode(\n",
    "            x = alt.X(\"time\"),\n",
    "            y = alt.Y(\"value\", title = y_label, scale=alt.Scale(zero=False)),\n",
    "            fill= alt.Fill(\"is_present\", scale = alt.Scale(range=[\"black\", \"#ffffff00\"]),\n",
    "                           legend = alt.Legend(title =[\"Observed data\"])),\n",
    "            shape = \"is_present\",\n",
    "        )"
   ]
  },
  {
   "cell_type": "code",
   "execution_count": null,
   "id": "530d054b-120d-4883-9692-ff2518adabbf",
   "metadata": {},
   "outputs": [
    {
     "data": {
      "text/html": [
       "\n",
       "<div id=\"altair-viz-e3adc2507c704803942ba3d0e8fb3ded\"></div>\n",
       "<script type=\"text/javascript\">\n",
       "  var VEGA_DEBUG = (typeof VEGA_DEBUG == \"undefined\") ? {} : VEGA_DEBUG;\n",
       "  (function(spec, embedOpt){\n",
       "    let outputDiv = document.currentScript.previousElementSibling;\n",
       "    if (outputDiv.id !== \"altair-viz-e3adc2507c704803942ba3d0e8fb3ded\") {\n",
       "      outputDiv = document.getElementById(\"altair-viz-e3adc2507c704803942ba3d0e8fb3ded\");\n",
       "    }\n",
       "    const paths = {\n",
       "      \"vega\": \"https://cdn.jsdelivr.net/npm//vega@5?noext\",\n",
       "      \"vega-lib\": \"https://cdn.jsdelivr.net/npm//vega-lib?noext\",\n",
       "      \"vega-lite\": \"https://cdn.jsdelivr.net/npm//vega-lite@5.2.0?noext\",\n",
       "      \"vega-embed\": \"https://cdn.jsdelivr.net/npm//vega-embed@6?noext\",\n",
       "    };\n",
       "\n",
       "    function maybeLoadScript(lib, version) {\n",
       "      var key = `${lib.replace(\"-\", \"\")}_version`;\n",
       "      return (VEGA_DEBUG[key] == version) ?\n",
       "        Promise.resolve(paths[lib]) :\n",
       "        new Promise(function(resolve, reject) {\n",
       "          var s = document.createElement('script');\n",
       "          document.getElementsByTagName(\"head\")[0].appendChild(s);\n",
       "          s.async = true;\n",
       "          s.onload = () => {\n",
       "            VEGA_DEBUG[key] = version;\n",
       "            return resolve(paths[lib]);\n",
       "          };\n",
       "          s.onerror = () => reject(`Error loading script: ${paths[lib]}`);\n",
       "          s.src = paths[lib];\n",
       "        });\n",
       "    }\n",
       "\n",
       "    function showError(err) {\n",
       "      outputDiv.innerHTML = `<div class=\"error\" style=\"color:red;\">${err}</div>`;\n",
       "      throw err;\n",
       "    }\n",
       "\n",
       "    function displayChart(vegaEmbed) {\n",
       "      vegaEmbed(outputDiv, spec, embedOpt)\n",
       "        .catch(err => showError(`Javascript Error: ${err.message}<br>This usually means there's a typo in your chart specification. See the javascript console for the full traceback.`));\n",
       "    }\n",
       "\n",
       "    if(typeof define === \"function\" && define.amd) {\n",
       "      requirejs.config({paths});\n",
       "      require([\"vega-embed\"], displayChart, err => showError(`Error loading script: ${err.message}`));\n",
       "    } else {\n",
       "      maybeLoadScript(\"vega\", \"5\")\n",
       "        .then(() => maybeLoadScript(\"vega-lite\", \"5.2.0\"))\n",
       "        .then(() => maybeLoadScript(\"vega-embed\", \"6\"))\n",
       "        .catch(showError)\n",
       "        .then(() => displayChart(vegaEmbed));\n",
       "    }\n",
       "  })({\"config\": {\"view\": {\"continuousWidth\": 400, \"continuousHeight\": 300}}, \"data\": {\"name\": \"data-78793625ad331c69629763c17f6779c5\"}, \"mark\": {\"type\": \"point\", \"color\": \"black\", \"fillOpacity\": 1, \"strokeWidth\": 1}, \"encoding\": {\"fill\": {\"field\": \"is_present\", \"legend\": {\"title\": [\"Observed data\"]}, \"scale\": {\"range\": [\"black\", \"#ffffff00\"]}, \"type\": \"nominal\"}, \"shape\": {\"field\": \"is_present\", \"type\": \"nominal\"}, \"x\": {\"field\": \"time\", \"type\": \"temporal\"}, \"y\": {\"field\": \"value\", \"scale\": {\"zero\": false}, \"title\": \"\", \"type\": \"quantitative\"}}, \"$schema\": \"https://vega.github.io/schema/vega-lite/v5.2.0.json\", \"datasets\": {\"data-78793625ad331c69629763c17f6779c5\": [{\"time\": \"2000-06-15T16:30:00\", \"variable\": \"TA\", \"value\": 14.649999618530273, \"is_present\": false}, {\"time\": \"2000-06-15T17:00:00\", \"variable\": \"TA\", \"value\": 14.220000267028809, \"is_present\": false}, {\"time\": \"2000-06-15T17:30:00\", \"variable\": \"TA\", \"value\": 14.109999656677246, \"is_present\": false}, {\"time\": \"2000-06-15T18:00:00\", \"variable\": \"TA\", \"value\": 14.229999542236328, \"is_present\": false}, {\"time\": \"2000-06-15T18:30:00\", \"variable\": \"TA\", \"value\": 14.399999618530273, \"is_present\": false}, {\"time\": \"2000-06-15T19:00:00\", \"variable\": \"TA\", \"value\": 14.09000015258789, \"is_present\": true}, {\"time\": \"2000-06-15T19:30:00\", \"variable\": \"TA\", \"value\": 13.710000038146973, \"is_present\": true}, {\"time\": \"2000-06-15T20:00:00\", \"variable\": \"TA\", \"value\": 13.079999923706055, \"is_present\": true}, {\"time\": \"2000-06-15T20:30:00\", \"variable\": \"TA\", \"value\": 12.40999984741211, \"is_present\": true}, {\"time\": \"2000-06-15T21:00:00\", \"variable\": \"TA\", \"value\": 12.270000457763672, \"is_present\": true}, {\"time\": \"2000-06-15T16:30:00\", \"variable\": \"SW_IN\", \"value\": 468.19000244140625, \"is_present\": true}, {\"time\": \"2000-06-15T17:00:00\", \"variable\": \"SW_IN\", \"value\": 224.8000030517578, \"is_present\": true}, {\"time\": \"2000-06-15T17:30:00\", \"variable\": \"SW_IN\", \"value\": 195.27999877929688, \"is_present\": true}, {\"time\": \"2000-06-15T18:00:00\", \"variable\": \"SW_IN\", \"value\": 244.1699981689453, \"is_present\": true}, {\"time\": \"2000-06-15T18:30:00\", \"variable\": \"SW_IN\", \"value\": 253.9199981689453, \"is_present\": true}, {\"time\": \"2000-06-15T19:00:00\", \"variable\": \"SW_IN\", \"value\": 177.30999755859375, \"is_present\": true}, {\"time\": \"2000-06-15T19:30:00\", \"variable\": \"SW_IN\", \"value\": 97.06999969482422, \"is_present\": true}, {\"time\": \"2000-06-15T20:00:00\", \"variable\": \"SW_IN\", \"value\": 39.709999084472656, \"is_present\": true}, {\"time\": \"2000-06-15T20:30:00\", \"variable\": \"SW_IN\", \"value\": 10.649999618530273, \"is_present\": true}, {\"time\": \"2000-06-15T21:00:00\", \"variable\": \"SW_IN\", \"value\": 0.3199999928474426, \"is_present\": true}, {\"time\": \"2000-06-15T16:30:00\", \"variable\": \"VPD\", \"value\": 6.453999996185303, \"is_present\": false}, {\"time\": \"2000-06-15T17:00:00\", \"variable\": \"VPD\", \"value\": 5.798999786376953, \"is_present\": false}, {\"time\": \"2000-06-15T17:30:00\", \"variable\": \"VPD\", \"value\": 6.577000141143799, \"is_present\": false}, {\"time\": \"2000-06-15T18:00:00\", \"variable\": \"VPD\", \"value\": 6.931000232696533, \"is_present\": false}, {\"time\": \"2000-06-15T18:30:00\", \"variable\": \"VPD\", \"value\": 7.285999774932861, \"is_present\": false}, {\"time\": \"2000-06-15T19:00:00\", \"variable\": \"VPD\", \"value\": 7.250999927520752, \"is_present\": true}, {\"time\": \"2000-06-15T19:30:00\", \"variable\": \"VPD\", \"value\": 6.683000087738037, \"is_present\": true}, {\"time\": \"2000-06-15T20:00:00\", \"variable\": \"VPD\", \"value\": 5.85099983215332, \"is_present\": true}, {\"time\": \"2000-06-15T20:30:00\", \"variable\": \"VPD\", \"value\": 5.254000186920166, \"is_present\": true}, {\"time\": \"2000-06-15T21:00:00\", \"variable\": \"VPD\", \"value\": 5.164000034332275, \"is_present\": true}]}}, {\"mode\": \"vega-lite\"});\n",
       "</script>"
      ],
      "text/plain": [
       "alt.Chart(...)"
      ]
     },
     "execution_count": null,
     "metadata": {},
     "output_type": "execute_result"
    }
   ],
   "source": [
    "plot_points(m_df.tidy())"
   ]
  },
  {
   "cell_type": "code",
   "execution_count": null,
   "id": "bdefec0f-d6f6-4567-a187-a005d585fde6",
   "metadata": {},
   "outputs": [],
   "source": [
    "df = m_df.tidy()"
   ]
  },
  {
   "cell_type": "code",
   "execution_count": null,
   "id": "d6b0071d-6545-475d-8230-f0855dfe541f",
   "metadata": {},
   "outputs": [],
   "source": [
    "df = df[df.variable==\"TA\"].copy()"
   ]
  },
  {
   "cell_type": "code",
   "execution_count": null,
   "id": "6ed27295-faac-42e7-9f06-449e7b247531",
   "metadata": {},
   "outputs": [],
   "source": [
    "df['row_number'] = df.reset_index().index"
   ]
  },
  {
   "cell_type": "code",
   "execution_count": null,
   "id": "d9b58d08-3aab-4c42-8466-985aeb5abc54",
   "metadata": {},
   "outputs": [
    {
     "data": {
      "text/html": [
       "<div>\n",
       "<style scoped>\n",
       "    .dataframe tbody tr th:only-of-type {\n",
       "        vertical-align: middle;\n",
       "    }\n",
       "\n",
       "    .dataframe tbody tr th {\n",
       "        vertical-align: top;\n",
       "    }\n",
       "\n",
       "    .dataframe thead th {\n",
       "        text-align: right;\n",
       "    }\n",
       "</style>\n",
       "<table border=\"1\" class=\"dataframe\">\n",
       "  <thead>\n",
       "    <tr style=\"text-align: right;\">\n",
       "      <th></th>\n",
       "      <th>time</th>\n",
       "      <th>variable</th>\n",
       "      <th>value</th>\n",
       "      <th>is_present</th>\n",
       "      <th>row_number</th>\n",
       "    </tr>\n",
       "  </thead>\n",
       "  <tbody>\n",
       "    <tr>\n",
       "      <th>0</th>\n",
       "      <td>2000-06-15 16:30:00</td>\n",
       "      <td>TA</td>\n",
       "      <td>14.65</td>\n",
       "      <td>False</td>\n",
       "      <td>0</td>\n",
       "    </tr>\n",
       "    <tr>\n",
       "      <th>1</th>\n",
       "      <td>2000-06-15 17:00:00</td>\n",
       "      <td>TA</td>\n",
       "      <td>14.22</td>\n",
       "      <td>False</td>\n",
       "      <td>1</td>\n",
       "    </tr>\n",
       "    <tr>\n",
       "      <th>2</th>\n",
       "      <td>2000-06-15 17:30:00</td>\n",
       "      <td>TA</td>\n",
       "      <td>14.11</td>\n",
       "      <td>False</td>\n",
       "      <td>2</td>\n",
       "    </tr>\n",
       "    <tr>\n",
       "      <th>3</th>\n",
       "      <td>2000-06-15 18:00:00</td>\n",
       "      <td>TA</td>\n",
       "      <td>14.23</td>\n",
       "      <td>False</td>\n",
       "      <td>3</td>\n",
       "    </tr>\n",
       "    <tr>\n",
       "      <th>4</th>\n",
       "      <td>2000-06-15 18:30:00</td>\n",
       "      <td>TA</td>\n",
       "      <td>14.40</td>\n",
       "      <td>False</td>\n",
       "      <td>4</td>\n",
       "    </tr>\n",
       "    <tr>\n",
       "      <th>5</th>\n",
       "      <td>2000-06-15 19:00:00</td>\n",
       "      <td>TA</td>\n",
       "      <td>14.09</td>\n",
       "      <td>True</td>\n",
       "      <td>5</td>\n",
       "    </tr>\n",
       "    <tr>\n",
       "      <th>6</th>\n",
       "      <td>2000-06-15 19:30:00</td>\n",
       "      <td>TA</td>\n",
       "      <td>13.71</td>\n",
       "      <td>True</td>\n",
       "      <td>6</td>\n",
       "    </tr>\n",
       "    <tr>\n",
       "      <th>7</th>\n",
       "      <td>2000-06-15 20:00:00</td>\n",
       "      <td>TA</td>\n",
       "      <td>13.08</td>\n",
       "      <td>True</td>\n",
       "      <td>7</td>\n",
       "    </tr>\n",
       "    <tr>\n",
       "      <th>8</th>\n",
       "      <td>2000-06-15 20:30:00</td>\n",
       "      <td>TA</td>\n",
       "      <td>12.41</td>\n",
       "      <td>True</td>\n",
       "      <td>8</td>\n",
       "    </tr>\n",
       "    <tr>\n",
       "      <th>9</th>\n",
       "      <td>2000-06-15 21:00:00</td>\n",
       "      <td>TA</td>\n",
       "      <td>12.27</td>\n",
       "      <td>True</td>\n",
       "      <td>9</td>\n",
       "    </tr>\n",
       "  </tbody>\n",
       "</table>\n",
       "</div>"
      ],
      "text/plain": [
       "                 time variable  value  is_present  row_number\n",
       "0 2000-06-15 16:30:00       TA  14.65       False           0\n",
       "1 2000-06-15 17:00:00       TA  14.22       False           1\n",
       "2 2000-06-15 17:30:00       TA  14.11       False           2\n",
       "3 2000-06-15 18:00:00       TA  14.23       False           3\n",
       "4 2000-06-15 18:30:00       TA  14.40       False           4\n",
       "5 2000-06-15 19:00:00       TA  14.09        True           5\n",
       "6 2000-06-15 19:30:00       TA  13.71        True           6\n",
       "7 2000-06-15 20:00:00       TA  13.08        True           7\n",
       "8 2000-06-15 20:30:00       TA  12.41        True           8\n",
       "9 2000-06-15 21:00:00       TA  12.27        True           9"
      ]
     },
     "execution_count": null,
     "metadata": {},
     "output_type": "execute_result"
    }
   ],
   "source": [
    "df"
   ]
  },
  {
   "cell_type": "code",
   "execution_count": null,
   "id": "1e634f1e-0d8e-4e9f-a843-a3c9ded54bae",
   "metadata": {},
   "outputs": [
    {
     "data": {
      "text/html": [
       "<div>\n",
       "<style scoped>\n",
       "    .dataframe tbody tr th:only-of-type {\n",
       "        vertical-align: middle;\n",
       "    }\n",
       "\n",
       "    .dataframe tbody tr th {\n",
       "        vertical-align: top;\n",
       "    }\n",
       "\n",
       "    .dataframe thead th {\n",
       "        text-align: right;\n",
       "    }\n",
       "</style>\n",
       "<table border=\"1\" class=\"dataframe\">\n",
       "  <thead>\n",
       "    <tr style=\"text-align: right;\">\n",
       "      <th></th>\n",
       "      <th>time</th>\n",
       "      <th>variable</th>\n",
       "      <th>value</th>\n",
       "      <th>is_present</th>\n",
       "      <th>row_number</th>\n",
       "    </tr>\n",
       "  </thead>\n",
       "  <tbody>\n",
       "    <tr>\n",
       "      <th>0</th>\n",
       "      <td>2000-06-15 16:30:00</td>\n",
       "      <td>TA</td>\n",
       "      <td>14.65</td>\n",
       "      <td>False</td>\n",
       "      <td>0</td>\n",
       "    </tr>\n",
       "    <tr>\n",
       "      <th>1</th>\n",
       "      <td>2000-06-15 17:00:00</td>\n",
       "      <td>TA</td>\n",
       "      <td>14.22</td>\n",
       "      <td>False</td>\n",
       "      <td>1</td>\n",
       "    </tr>\n",
       "    <tr>\n",
       "      <th>2</th>\n",
       "      <td>2000-06-15 17:30:00</td>\n",
       "      <td>TA</td>\n",
       "      <td>14.11</td>\n",
       "      <td>False</td>\n",
       "      <td>2</td>\n",
       "    </tr>\n",
       "    <tr>\n",
       "      <th>3</th>\n",
       "      <td>2000-06-15 18:00:00</td>\n",
       "      <td>TA</td>\n",
       "      <td>14.23</td>\n",
       "      <td>False</td>\n",
       "      <td>3</td>\n",
       "    </tr>\n",
       "    <tr>\n",
       "      <th>4</th>\n",
       "      <td>2000-06-15 18:30:00</td>\n",
       "      <td>TA</td>\n",
       "      <td>14.40</td>\n",
       "      <td>False</td>\n",
       "      <td>4</td>\n",
       "    </tr>\n",
       "  </tbody>\n",
       "</table>\n",
       "</div>"
      ],
      "text/plain": [
       "                 time variable  value  is_present  row_number\n",
       "0 2000-06-15 16:30:00       TA  14.65       False           0\n",
       "1 2000-06-15 17:00:00       TA  14.22       False           1\n",
       "2 2000-06-15 17:30:00       TA  14.11       False           2\n",
       "3 2000-06-15 18:00:00       TA  14.23       False           3\n",
       "4 2000-06-15 18:30:00       TA  14.40       False           4"
      ]
     },
     "execution_count": null,
     "metadata": {},
     "output_type": "execute_result"
    }
   ],
   "source": [
    "df[~df.is_present]"
   ]
  },
  {
   "cell_type": "markdown",
   "id": "7c114905-568d-46b1-95f5-1e48cf86c084",
   "metadata": {},
   "source": [
    "idea is to replace the rug with a shaded area"
   ]
  },
  {
   "cell_type": "code",
   "execution_count": null,
   "id": "c8bf87ef-4401-4e69-97a4-67781c752b40",
   "metadata": {},
   "outputs": [],
   "source": [
    "def plot_missing_area(df, sel = def_selection(), props={}):\n",
    "    pass"
   ]
  },
  {
   "cell_type": "code",
   "execution_count": null,
   "id": "e7f9912e-eee1-40a6-9eb3-4b010a5278c5",
   "metadata": {},
   "outputs": [],
   "source": [
    "#| exporti\n",
    "def plot_line(df, only_present=True, y_label = \"\", sel = def_selection(), props = {}):\n",
    "    # df = df[df.is_present] if only_present else df\n",
    "    # TODO remove onle_present\n",
    "    return alt.Chart(df).mark_line().encode(\n",
    "        x = \"time\",    \n",
    "        y = alt.Y(\"value\", title = y_label, scale=alt.Scale(zero=False)),\n",
    "        color='variable'\n",
    "    ).add_params(\n",
    "        sel\n",
    "    ).properties(\n",
    "        **props\n",
    "    )#.transform_filter(\n",
    "    #     datum.is_present\n",
    "    # )\n",
    "\n",
    "    "
   ]
  },
  {
   "cell_type": "code",
   "execution_count": null,
   "id": "c4723d86-f673-4cfa-ae8a-58fcc542930a",
   "metadata": {},
   "outputs": [
    {
     "data": {
      "text/html": [
       "\n",
       "<div id=\"altair-viz-049cac6905f74cbeb7c826143553c2aa\"></div>\n",
       "<script type=\"text/javascript\">\n",
       "  var VEGA_DEBUG = (typeof VEGA_DEBUG == \"undefined\") ? {} : VEGA_DEBUG;\n",
       "  (function(spec, embedOpt){\n",
       "    let outputDiv = document.currentScript.previousElementSibling;\n",
       "    if (outputDiv.id !== \"altair-viz-049cac6905f74cbeb7c826143553c2aa\") {\n",
       "      outputDiv = document.getElementById(\"altair-viz-049cac6905f74cbeb7c826143553c2aa\");\n",
       "    }\n",
       "    const paths = {\n",
       "      \"vega\": \"https://cdn.jsdelivr.net/npm//vega@5?noext\",\n",
       "      \"vega-lib\": \"https://cdn.jsdelivr.net/npm//vega-lib?noext\",\n",
       "      \"vega-lite\": \"https://cdn.jsdelivr.net/npm//vega-lite@5.2.0?noext\",\n",
       "      \"vega-embed\": \"https://cdn.jsdelivr.net/npm//vega-embed@6?noext\",\n",
       "    };\n",
       "\n",
       "    function maybeLoadScript(lib, version) {\n",
       "      var key = `${lib.replace(\"-\", \"\")}_version`;\n",
       "      return (VEGA_DEBUG[key] == version) ?\n",
       "        Promise.resolve(paths[lib]) :\n",
       "        new Promise(function(resolve, reject) {\n",
       "          var s = document.createElement('script');\n",
       "          document.getElementsByTagName(\"head\")[0].appendChild(s);\n",
       "          s.async = true;\n",
       "          s.onload = () => {\n",
       "            VEGA_DEBUG[key] = version;\n",
       "            return resolve(paths[lib]);\n",
       "          };\n",
       "          s.onerror = () => reject(`Error loading script: ${paths[lib]}`);\n",
       "          s.src = paths[lib];\n",
       "        });\n",
       "    }\n",
       "\n",
       "    function showError(err) {\n",
       "      outputDiv.innerHTML = `<div class=\"error\" style=\"color:red;\">${err}</div>`;\n",
       "      throw err;\n",
       "    }\n",
       "\n",
       "    function displayChart(vegaEmbed) {\n",
       "      vegaEmbed(outputDiv, spec, embedOpt)\n",
       "        .catch(err => showError(`Javascript Error: ${err.message}<br>This usually means there's a typo in your chart specification. See the javascript console for the full traceback.`));\n",
       "    }\n",
       "\n",
       "    if(typeof define === \"function\" && define.amd) {\n",
       "      requirejs.config({paths});\n",
       "      require([\"vega-embed\"], displayChart, err => showError(`Error loading script: ${err.message}`));\n",
       "    } else {\n",
       "      maybeLoadScript(\"vega\", \"5\")\n",
       "        .then(() => maybeLoadScript(\"vega-lite\", \"5.2.0\"))\n",
       "        .then(() => maybeLoadScript(\"vega-embed\", \"6\"))\n",
       "        .catch(showError)\n",
       "        .then(() => displayChart(vegaEmbed));\n",
       "    }\n",
       "  })({\"config\": {\"view\": {\"continuousWidth\": 400, \"continuousHeight\": 300}}, \"data\": {\"name\": \"data-78793625ad331c69629763c17f6779c5\"}, \"mark\": \"line\", \"encoding\": {\"color\": {\"field\": \"variable\", \"type\": \"nominal\"}, \"x\": {\"field\": \"time\", \"type\": \"temporal\"}, \"y\": {\"field\": \"value\", \"scale\": {\"zero\": false}, \"title\": \"\", \"type\": \"quantitative\"}}, \"params\": [{\"name\": \"param_4\", \"select\": {\"type\": \"interval\"}, \"bind\": \"scales\"}], \"$schema\": \"https://vega.github.io/schema/vega-lite/v5.2.0.json\", \"datasets\": {\"data-78793625ad331c69629763c17f6779c5\": [{\"time\": \"2000-06-15T16:30:00\", \"variable\": \"TA\", \"value\": 14.649999618530273, \"is_present\": false}, {\"time\": \"2000-06-15T17:00:00\", \"variable\": \"TA\", \"value\": 14.220000267028809, \"is_present\": false}, {\"time\": \"2000-06-15T17:30:00\", \"variable\": \"TA\", \"value\": 14.109999656677246, \"is_present\": false}, {\"time\": \"2000-06-15T18:00:00\", \"variable\": \"TA\", \"value\": 14.229999542236328, \"is_present\": false}, {\"time\": \"2000-06-15T18:30:00\", \"variable\": \"TA\", \"value\": 14.399999618530273, \"is_present\": false}, {\"time\": \"2000-06-15T19:00:00\", \"variable\": \"TA\", \"value\": 14.09000015258789, \"is_present\": true}, {\"time\": \"2000-06-15T19:30:00\", \"variable\": \"TA\", \"value\": 13.710000038146973, \"is_present\": true}, {\"time\": \"2000-06-15T20:00:00\", \"variable\": \"TA\", \"value\": 13.079999923706055, \"is_present\": true}, {\"time\": \"2000-06-15T20:30:00\", \"variable\": \"TA\", \"value\": 12.40999984741211, \"is_present\": true}, {\"time\": \"2000-06-15T21:00:00\", \"variable\": \"TA\", \"value\": 12.270000457763672, \"is_present\": true}, {\"time\": \"2000-06-15T16:30:00\", \"variable\": \"SW_IN\", \"value\": 468.19000244140625, \"is_present\": true}, {\"time\": \"2000-06-15T17:00:00\", \"variable\": \"SW_IN\", \"value\": 224.8000030517578, \"is_present\": true}, {\"time\": \"2000-06-15T17:30:00\", \"variable\": \"SW_IN\", \"value\": 195.27999877929688, \"is_present\": true}, {\"time\": \"2000-06-15T18:00:00\", \"variable\": \"SW_IN\", \"value\": 244.1699981689453, \"is_present\": true}, {\"time\": \"2000-06-15T18:30:00\", \"variable\": \"SW_IN\", \"value\": 253.9199981689453, \"is_present\": true}, {\"time\": \"2000-06-15T19:00:00\", \"variable\": \"SW_IN\", \"value\": 177.30999755859375, \"is_present\": true}, {\"time\": \"2000-06-15T19:30:00\", \"variable\": \"SW_IN\", \"value\": 97.06999969482422, \"is_present\": true}, {\"time\": \"2000-06-15T20:00:00\", \"variable\": \"SW_IN\", \"value\": 39.709999084472656, \"is_present\": true}, {\"time\": \"2000-06-15T20:30:00\", \"variable\": \"SW_IN\", \"value\": 10.649999618530273, \"is_present\": true}, {\"time\": \"2000-06-15T21:00:00\", \"variable\": \"SW_IN\", \"value\": 0.3199999928474426, \"is_present\": true}, {\"time\": \"2000-06-15T16:30:00\", \"variable\": \"VPD\", \"value\": 6.453999996185303, \"is_present\": false}, {\"time\": \"2000-06-15T17:00:00\", \"variable\": \"VPD\", \"value\": 5.798999786376953, \"is_present\": false}, {\"time\": \"2000-06-15T17:30:00\", \"variable\": \"VPD\", \"value\": 6.577000141143799, \"is_present\": false}, {\"time\": \"2000-06-15T18:00:00\", \"variable\": \"VPD\", \"value\": 6.931000232696533, \"is_present\": false}, {\"time\": \"2000-06-15T18:30:00\", \"variable\": \"VPD\", \"value\": 7.285999774932861, \"is_present\": false}, {\"time\": \"2000-06-15T19:00:00\", \"variable\": \"VPD\", \"value\": 7.250999927520752, \"is_present\": true}, {\"time\": \"2000-06-15T19:30:00\", \"variable\": \"VPD\", \"value\": 6.683000087738037, \"is_present\": true}, {\"time\": \"2000-06-15T20:00:00\", \"variable\": \"VPD\", \"value\": 5.85099983215332, \"is_present\": true}, {\"time\": \"2000-06-15T20:30:00\", \"variable\": \"VPD\", \"value\": 5.254000186920166, \"is_present\": true}, {\"time\": \"2000-06-15T21:00:00\", \"variable\": \"VPD\", \"value\": 5.164000034332275, \"is_present\": true}]}}, {\"mode\": \"vega-lite\"});\n",
       "</script>"
      ],
      "text/plain": [
       "alt.Chart(...)"
      ]
     },
     "execution_count": null,
     "metadata": {},
     "output_type": "execute_result"
    }
   ],
   "source": [
    "plot_line(m_df.tidy())"
   ]
  },
  {
   "cell_type": "code",
   "execution_count": null,
   "id": "b31874c2-bc64-4c07-b67b-c67ecb0f3598",
   "metadata": {},
   "outputs": [],
   "source": [
    "#| exporti\n",
    "def plot_error(df, y_label = \"\", sel = def_selection(), props = {}):\n",
    "    df.loc[:,'err_low'] = df.value - 2 * df['std']\n",
    "    df.loc[:,'err_high'] = df.value + 2 * df['std']\n",
    "    return alt.Chart(df).mark_errorband().encode(\n",
    "        x = \"time\",    \n",
    "        y = alt.Y(\"err_low:Q\", title = y_label, scale=alt.Scale(zero=False)),\n",
    "        y2 = \"err_high:Q\",\n",
    "        color=alt.Color(\"variable\",\n",
    "                        legend = alt.Legend(title=[\"Line: pred. mean\", \"area: +/- 2 std\"])\n",
    "                       )\n",
    "    ).add_params(\n",
    "        sel\n",
    "    ).properties(\n",
    "        **props\n",
    "    )\n",
    "    "
   ]
  },
  {
   "cell_type": "code",
   "execution_count": null,
   "id": "bbe34b69-dc5c-4b9e-bb24-dffcd7638686",
   "metadata": {},
   "outputs": [
    {
     "data": {
      "text/html": [
       "\n",
       "<div id=\"altair-viz-391e20950d1d42dba603d5356cd7dbf9\"></div>\n",
       "<script type=\"text/javascript\">\n",
       "  var VEGA_DEBUG = (typeof VEGA_DEBUG == \"undefined\") ? {} : VEGA_DEBUG;\n",
       "  (function(spec, embedOpt){\n",
       "    let outputDiv = document.currentScript.previousElementSibling;\n",
       "    if (outputDiv.id !== \"altair-viz-391e20950d1d42dba603d5356cd7dbf9\") {\n",
       "      outputDiv = document.getElementById(\"altair-viz-391e20950d1d42dba603d5356cd7dbf9\");\n",
       "    }\n",
       "    const paths = {\n",
       "      \"vega\": \"https://cdn.jsdelivr.net/npm//vega@5?noext\",\n",
       "      \"vega-lib\": \"https://cdn.jsdelivr.net/npm//vega-lib?noext\",\n",
       "      \"vega-lite\": \"https://cdn.jsdelivr.net/npm//vega-lite@5.2.0?noext\",\n",
       "      \"vega-embed\": \"https://cdn.jsdelivr.net/npm//vega-embed@6?noext\",\n",
       "    };\n",
       "\n",
       "    function maybeLoadScript(lib, version) {\n",
       "      var key = `${lib.replace(\"-\", \"\")}_version`;\n",
       "      return (VEGA_DEBUG[key] == version) ?\n",
       "        Promise.resolve(paths[lib]) :\n",
       "        new Promise(function(resolve, reject) {\n",
       "          var s = document.createElement('script');\n",
       "          document.getElementsByTagName(\"head\")[0].appendChild(s);\n",
       "          s.async = true;\n",
       "          s.onload = () => {\n",
       "            VEGA_DEBUG[key] = version;\n",
       "            return resolve(paths[lib]);\n",
       "          };\n",
       "          s.onerror = () => reject(`Error loading script: ${paths[lib]}`);\n",
       "          s.src = paths[lib];\n",
       "        });\n",
       "    }\n",
       "\n",
       "    function showError(err) {\n",
       "      outputDiv.innerHTML = `<div class=\"error\" style=\"color:red;\">${err}</div>`;\n",
       "      throw err;\n",
       "    }\n",
       "\n",
       "    function displayChart(vegaEmbed) {\n",
       "      vegaEmbed(outputDiv, spec, embedOpt)\n",
       "        .catch(err => showError(`Javascript Error: ${err.message}<br>This usually means there's a typo in your chart specification. See the javascript console for the full traceback.`));\n",
       "    }\n",
       "\n",
       "    if(typeof define === \"function\" && define.amd) {\n",
       "      requirejs.config({paths});\n",
       "      require([\"vega-embed\"], displayChart, err => showError(`Error loading script: ${err.message}`));\n",
       "    } else {\n",
       "      maybeLoadScript(\"vega\", \"5\")\n",
       "        .then(() => maybeLoadScript(\"vega-lite\", \"5.2.0\"))\n",
       "        .then(() => maybeLoadScript(\"vega-embed\", \"6\"))\n",
       "        .catch(showError)\n",
       "        .then(() => displayChart(vegaEmbed));\n",
       "    }\n",
       "  })({\"config\": {\"view\": {\"continuousWidth\": 400, \"continuousHeight\": 300}}, \"data\": {\"name\": \"data-3e9fa0af9a02d4afccf35c1ba0bd0673\"}, \"mark\": \"errorband\", \"encoding\": {\"color\": {\"field\": \"variable\", \"legend\": {\"title\": [\"Line: pred. mean\", \"area: +/- 2 std\"]}, \"type\": \"nominal\"}, \"x\": {\"field\": \"time\", \"type\": \"temporal\"}, \"y\": {\"field\": \"err_low\", \"scale\": {\"zero\": false}, \"title\": \"\", \"type\": \"quantitative\"}, \"y2\": {\"field\": \"err_high\"}}, \"params\": [{\"name\": \"param_5\", \"select\": {\"type\": \"interval\"}, \"bind\": \"scales\"}], \"$schema\": \"https://vega.github.io/schema/vega-lite/v5.2.0.json\", \"datasets\": {\"data-3e9fa0af9a02d4afccf35c1ba0bd0673\": [{\"time\": \"2000-06-15T16:30:00\", \"variable\": \"TA\", \"value\": 14.649999618530273, \"is_present\": false, \"std\": 5, \"err_low\": 4.649999618530273, \"err_high\": 24.649999618530273}, {\"time\": \"2000-06-15T17:00:00\", \"variable\": \"TA\", \"value\": 14.220000267028809, \"is_present\": false, \"std\": 5, \"err_low\": 4.220000267028809, \"err_high\": 24.22000026702881}, {\"time\": \"2000-06-15T17:30:00\", \"variable\": \"TA\", \"value\": 14.109999656677246, \"is_present\": false, \"std\": 5, \"err_low\": 4.109999656677246, \"err_high\": 24.109999656677246}, {\"time\": \"2000-06-15T18:00:00\", \"variable\": \"TA\", \"value\": 14.229999542236328, \"is_present\": false, \"std\": 5, \"err_low\": 4.229999542236328, \"err_high\": 24.229999542236328}, {\"time\": \"2000-06-15T18:30:00\", \"variable\": \"TA\", \"value\": 14.399999618530273, \"is_present\": false, \"std\": 5, \"err_low\": 4.399999618530273, \"err_high\": 24.399999618530273}, {\"time\": \"2000-06-15T19:00:00\", \"variable\": \"TA\", \"value\": 14.09000015258789, \"is_present\": true, \"std\": 5, \"err_low\": 4.090000152587891, \"err_high\": 24.09000015258789}, {\"time\": \"2000-06-15T19:30:00\", \"variable\": \"TA\", \"value\": 13.710000038146973, \"is_present\": true, \"std\": 5, \"err_low\": 3.7100000381469727, \"err_high\": 23.710000038146973}, {\"time\": \"2000-06-15T20:00:00\", \"variable\": \"TA\", \"value\": 13.079999923706055, \"is_present\": true, \"std\": 5, \"err_low\": 3.0799999237060547, \"err_high\": 23.079999923706055}, {\"time\": \"2000-06-15T20:30:00\", \"variable\": \"TA\", \"value\": 12.40999984741211, \"is_present\": true, \"std\": 5, \"err_low\": 2.4099998474121094, \"err_high\": 22.40999984741211}, {\"time\": \"2000-06-15T21:00:00\", \"variable\": \"TA\", \"value\": 12.270000457763672, \"is_present\": true, \"std\": 5, \"err_low\": 2.270000457763672, \"err_high\": 22.270000457763672}, {\"time\": \"2000-06-15T16:30:00\", \"variable\": \"SW_IN\", \"value\": 468.19000244140625, \"is_present\": true, \"std\": 5, \"err_low\": 458.19000244140625, \"err_high\": 478.19000244140625}, {\"time\": \"2000-06-15T17:00:00\", \"variable\": \"SW_IN\", \"value\": 224.8000030517578, \"is_present\": true, \"std\": 5, \"err_low\": 214.8000030517578, \"err_high\": 234.8000030517578}, {\"time\": \"2000-06-15T17:30:00\", \"variable\": \"SW_IN\", \"value\": 195.27999877929688, \"is_present\": true, \"std\": 5, \"err_low\": 185.27999877929688, \"err_high\": 205.27999877929688}, {\"time\": \"2000-06-15T18:00:00\", \"variable\": \"SW_IN\", \"value\": 244.1699981689453, \"is_present\": true, \"std\": 5, \"err_low\": 234.1699981689453, \"err_high\": 254.1699981689453}, {\"time\": \"2000-06-15T18:30:00\", \"variable\": \"SW_IN\", \"value\": 253.9199981689453, \"is_present\": true, \"std\": 5, \"err_low\": 243.9199981689453, \"err_high\": 263.9199981689453}, {\"time\": \"2000-06-15T19:00:00\", \"variable\": \"SW_IN\", \"value\": 177.30999755859375, \"is_present\": true, \"std\": 5, \"err_low\": 167.30999755859375, \"err_high\": 187.30999755859375}, {\"time\": \"2000-06-15T19:30:00\", \"variable\": \"SW_IN\", \"value\": 97.06999969482422, \"is_present\": true, \"std\": 5, \"err_low\": 87.06999969482422, \"err_high\": 107.06999969482422}, {\"time\": \"2000-06-15T20:00:00\", \"variable\": \"SW_IN\", \"value\": 39.709999084472656, \"is_present\": true, \"std\": 5, \"err_low\": 29.709999084472656, \"err_high\": 49.709999084472656}, {\"time\": \"2000-06-15T20:30:00\", \"variable\": \"SW_IN\", \"value\": 10.649999618530273, \"is_present\": true, \"std\": 5, \"err_low\": 0.6499996185302734, \"err_high\": 20.649999618530273}, {\"time\": \"2000-06-15T21:00:00\", \"variable\": \"SW_IN\", \"value\": 0.3199999928474426, \"is_present\": true, \"std\": 5, \"err_low\": -9.680000007152557, \"err_high\": 10.319999992847443}, {\"time\": \"2000-06-15T16:30:00\", \"variable\": \"VPD\", \"value\": 6.453999996185303, \"is_present\": false, \"std\": 5, \"err_low\": -3.5460000038146973, \"err_high\": 16.453999996185303}, {\"time\": \"2000-06-15T17:00:00\", \"variable\": \"VPD\", \"value\": 5.798999786376953, \"is_present\": false, \"std\": 5, \"err_low\": -4.201000213623047, \"err_high\": 15.798999786376953}, {\"time\": \"2000-06-15T17:30:00\", \"variable\": \"VPD\", \"value\": 6.577000141143799, \"is_present\": false, \"std\": 5, \"err_low\": -3.422999858856201, \"err_high\": 16.5770001411438}, {\"time\": \"2000-06-15T18:00:00\", \"variable\": \"VPD\", \"value\": 6.931000232696533, \"is_present\": false, \"std\": 5, \"err_low\": -3.068999767303467, \"err_high\": 16.931000232696533}, {\"time\": \"2000-06-15T18:30:00\", \"variable\": \"VPD\", \"value\": 7.285999774932861, \"is_present\": false, \"std\": 5, \"err_low\": -2.7140002250671387, \"err_high\": 17.28599977493286}, {\"time\": \"2000-06-15T19:00:00\", \"variable\": \"VPD\", \"value\": 7.250999927520752, \"is_present\": true, \"std\": 5, \"err_low\": -2.749000072479248, \"err_high\": 17.250999927520752}, {\"time\": \"2000-06-15T19:30:00\", \"variable\": \"VPD\", \"value\": 6.683000087738037, \"is_present\": true, \"std\": 5, \"err_low\": -3.316999912261963, \"err_high\": 16.683000087738037}, {\"time\": \"2000-06-15T20:00:00\", \"variable\": \"VPD\", \"value\": 5.85099983215332, \"is_present\": true, \"std\": 5, \"err_low\": -4.14900016784668, \"err_high\": 15.85099983215332}, {\"time\": \"2000-06-15T20:30:00\", \"variable\": \"VPD\", \"value\": 5.254000186920166, \"is_present\": true, \"std\": 5, \"err_low\": -4.745999813079834, \"err_high\": 15.254000186920166}, {\"time\": \"2000-06-15T21:00:00\", \"variable\": \"VPD\", \"value\": 5.164000034332275, \"is_present\": true, \"std\": 5, \"err_low\": -4.835999965667725, \"err_high\": 15.164000034332275}]}}, {\"mode\": \"vega-lite\"});\n",
       "</script>"
      ],
      "text/plain": [
       "alt.Chart(...)"
      ]
     },
     "execution_count": null,
     "metadata": {},
     "output_type": "execute_result"
    }
   ],
   "source": [
    "plot_error(m_df.tidy().assign(std=5))"
   ]
  },
  {
   "cell_type": "code",
   "execution_count": null,
   "id": "a26f136e-c919-4083-bad9-e40f2b4996bd",
   "metadata": {},
   "outputs": [],
   "source": [
    "#| exporti\n",
    "def plot_variable(df, variable, title=\"\", y_label=\"\", sel = None, error=False, props = {}):\n",
    "    df = df[df.variable == variable].copy()\n",
    "    sel = ifnone(sel, def_selection())\n",
    "    # rug = plot_rug(df, sel, props)\n",
    "    points = plot_points(df, y_label, sel, props)\n",
    "    line = plot_line(df, True, y_label, sel, props)\n",
    "    if error: line = plot_error(df, y_label, sel, props) + line\n",
    "    \n",
    "    return (points + line).properties(title=title)\n",
    "    \n",
    "    # return alt.VConcatChart(vconcat=[(points + line), rug], spacing=-10).properties(title=title)"
   ]
  },
  {
   "cell_type": "code",
   "execution_count": null,
   "id": "fa1c1f39-0db0-4842-bada-da41eacd9ac6",
   "metadata": {},
   "outputs": [
    {
     "data": {
      "text/html": [
       "\n",
       "<div id=\"altair-viz-314b2919440b41cb98de433ad1f6746e\"></div>\n",
       "<script type=\"text/javascript\">\n",
       "  var VEGA_DEBUG = (typeof VEGA_DEBUG == \"undefined\") ? {} : VEGA_DEBUG;\n",
       "  (function(spec, embedOpt){\n",
       "    let outputDiv = document.currentScript.previousElementSibling;\n",
       "    if (outputDiv.id !== \"altair-viz-314b2919440b41cb98de433ad1f6746e\") {\n",
       "      outputDiv = document.getElementById(\"altair-viz-314b2919440b41cb98de433ad1f6746e\");\n",
       "    }\n",
       "    const paths = {\n",
       "      \"vega\": \"https://cdn.jsdelivr.net/npm//vega@5?noext\",\n",
       "      \"vega-lib\": \"https://cdn.jsdelivr.net/npm//vega-lib?noext\",\n",
       "      \"vega-lite\": \"https://cdn.jsdelivr.net/npm//vega-lite@5.2.0?noext\",\n",
       "      \"vega-embed\": \"https://cdn.jsdelivr.net/npm//vega-embed@6?noext\",\n",
       "    };\n",
       "\n",
       "    function maybeLoadScript(lib, version) {\n",
       "      var key = `${lib.replace(\"-\", \"\")}_version`;\n",
       "      return (VEGA_DEBUG[key] == version) ?\n",
       "        Promise.resolve(paths[lib]) :\n",
       "        new Promise(function(resolve, reject) {\n",
       "          var s = document.createElement('script');\n",
       "          document.getElementsByTagName(\"head\")[0].appendChild(s);\n",
       "          s.async = true;\n",
       "          s.onload = () => {\n",
       "            VEGA_DEBUG[key] = version;\n",
       "            return resolve(paths[lib]);\n",
       "          };\n",
       "          s.onerror = () => reject(`Error loading script: ${paths[lib]}`);\n",
       "          s.src = paths[lib];\n",
       "        });\n",
       "    }\n",
       "\n",
       "    function showError(err) {\n",
       "      outputDiv.innerHTML = `<div class=\"error\" style=\"color:red;\">${err}</div>`;\n",
       "      throw err;\n",
       "    }\n",
       "\n",
       "    function displayChart(vegaEmbed) {\n",
       "      vegaEmbed(outputDiv, spec, embedOpt)\n",
       "        .catch(err => showError(`Javascript Error: ${err.message}<br>This usually means there's a typo in your chart specification. See the javascript console for the full traceback.`));\n",
       "    }\n",
       "\n",
       "    if(typeof define === \"function\" && define.amd) {\n",
       "      requirejs.config({paths});\n",
       "      require([\"vega-embed\"], displayChart, err => showError(`Error loading script: ${err.message}`));\n",
       "    } else {\n",
       "      maybeLoadScript(\"vega\", \"5\")\n",
       "        .then(() => maybeLoadScript(\"vega-lite\", \"5.2.0\"))\n",
       "        .then(() => maybeLoadScript(\"vega-embed\", \"6\"))\n",
       "        .catch(showError)\n",
       "        .then(() => displayChart(vegaEmbed));\n",
       "    }\n",
       "  })({\"config\": {\"view\": {\"continuousWidth\": 400, \"continuousHeight\": 300}}, \"layer\": [{\"mark\": {\"type\": \"point\", \"color\": \"black\", \"fillOpacity\": 1, \"strokeWidth\": 1}, \"encoding\": {\"fill\": {\"field\": \"is_present\", \"legend\": {\"title\": [\"Observed data\"]}, \"scale\": {\"range\": [\"black\", \"#ffffff00\"]}, \"type\": \"nominal\"}, \"shape\": {\"field\": \"is_present\", \"type\": \"nominal\"}, \"x\": {\"field\": \"time\", \"type\": \"temporal\"}, \"y\": {\"field\": \"value\", \"scale\": {\"zero\": false}, \"title\": \"\", \"type\": \"quantitative\"}}}, {\"mark\": \"line\", \"encoding\": {\"color\": {\"field\": \"variable\", \"type\": \"nominal\"}, \"x\": {\"field\": \"time\", \"type\": \"temporal\"}, \"y\": {\"field\": \"value\", \"scale\": {\"zero\": false}, \"title\": \"\", \"type\": \"quantitative\"}}, \"name\": \"view_1\"}], \"data\": {\"name\": \"data-56120284c98ea45ee642dd5b510147c7\"}, \"params\": [{\"name\": \"param_6\", \"select\": {\"type\": \"interval\"}, \"bind\": \"scales\", \"views\": [\"view_1\"]}], \"title\": \"title TA\", \"$schema\": \"https://vega.github.io/schema/vega-lite/v5.2.0.json\", \"datasets\": {\"data-56120284c98ea45ee642dd5b510147c7\": [{\"time\": \"2000-06-15T16:30:00\", \"variable\": \"TA\", \"value\": 14.649999618530273, \"is_present\": false}, {\"time\": \"2000-06-15T17:00:00\", \"variable\": \"TA\", \"value\": 14.220000267028809, \"is_present\": false}, {\"time\": \"2000-06-15T17:30:00\", \"variable\": \"TA\", \"value\": 14.109999656677246, \"is_present\": false}, {\"time\": \"2000-06-15T18:00:00\", \"variable\": \"TA\", \"value\": 14.229999542236328, \"is_present\": false}, {\"time\": \"2000-06-15T18:30:00\", \"variable\": \"TA\", \"value\": 14.399999618530273, \"is_present\": false}, {\"time\": \"2000-06-15T19:00:00\", \"variable\": \"TA\", \"value\": 14.09000015258789, \"is_present\": true}, {\"time\": \"2000-06-15T19:30:00\", \"variable\": \"TA\", \"value\": 13.710000038146973, \"is_present\": true}, {\"time\": \"2000-06-15T20:00:00\", \"variable\": \"TA\", \"value\": 13.079999923706055, \"is_present\": true}, {\"time\": \"2000-06-15T20:30:00\", \"variable\": \"TA\", \"value\": 12.40999984741211, \"is_present\": true}, {\"time\": \"2000-06-15T21:00:00\", \"variable\": \"TA\", \"value\": 12.270000457763672, \"is_present\": true}]}}, {\"mode\": \"vega-lite\"});\n",
       "</script>"
      ],
      "text/plain": [
       "alt.LayerChart(...)"
      ]
     },
     "execution_count": null,
     "metadata": {},
     "output_type": "execute_result"
    }
   ],
   "source": [
    "plot_variable(m_df.tidy(), \"TA\", title=\"title TA\")"
   ]
  },
  {
   "cell_type": "code",
   "execution_count": null,
   "id": "a41576fd-91dc-44d9-bd01-f0877273a835",
   "metadata": {},
   "outputs": [
    {
     "data": {
      "text/html": [
       "\n",
       "<div id=\"altair-viz-92b10967532a4cea81307abdba6e9c2e\"></div>\n",
       "<script type=\"text/javascript\">\n",
       "  var VEGA_DEBUG = (typeof VEGA_DEBUG == \"undefined\") ? {} : VEGA_DEBUG;\n",
       "  (function(spec, embedOpt){\n",
       "    let outputDiv = document.currentScript.previousElementSibling;\n",
       "    if (outputDiv.id !== \"altair-viz-92b10967532a4cea81307abdba6e9c2e\") {\n",
       "      outputDiv = document.getElementById(\"altair-viz-92b10967532a4cea81307abdba6e9c2e\");\n",
       "    }\n",
       "    const paths = {\n",
       "      \"vega\": \"https://cdn.jsdelivr.net/npm//vega@5?noext\",\n",
       "      \"vega-lib\": \"https://cdn.jsdelivr.net/npm//vega-lib?noext\",\n",
       "      \"vega-lite\": \"https://cdn.jsdelivr.net/npm//vega-lite@5.2.0?noext\",\n",
       "      \"vega-embed\": \"https://cdn.jsdelivr.net/npm//vega-embed@6?noext\",\n",
       "    };\n",
       "\n",
       "    function maybeLoadScript(lib, version) {\n",
       "      var key = `${lib.replace(\"-\", \"\")}_version`;\n",
       "      return (VEGA_DEBUG[key] == version) ?\n",
       "        Promise.resolve(paths[lib]) :\n",
       "        new Promise(function(resolve, reject) {\n",
       "          var s = document.createElement('script');\n",
       "          document.getElementsByTagName(\"head\")[0].appendChild(s);\n",
       "          s.async = true;\n",
       "          s.onload = () => {\n",
       "            VEGA_DEBUG[key] = version;\n",
       "            return resolve(paths[lib]);\n",
       "          };\n",
       "          s.onerror = () => reject(`Error loading script: ${paths[lib]}`);\n",
       "          s.src = paths[lib];\n",
       "        });\n",
       "    }\n",
       "\n",
       "    function showError(err) {\n",
       "      outputDiv.innerHTML = `<div class=\"error\" style=\"color:red;\">${err}</div>`;\n",
       "      throw err;\n",
       "    }\n",
       "\n",
       "    function displayChart(vegaEmbed) {\n",
       "      vegaEmbed(outputDiv, spec, embedOpt)\n",
       "        .catch(err => showError(`Javascript Error: ${err.message}<br>This usually means there's a typo in your chart specification. See the javascript console for the full traceback.`));\n",
       "    }\n",
       "\n",
       "    if(typeof define === \"function\" && define.amd) {\n",
       "      requirejs.config({paths});\n",
       "      require([\"vega-embed\"], displayChart, err => showError(`Error loading script: ${err.message}`));\n",
       "    } else {\n",
       "      maybeLoadScript(\"vega\", \"5\")\n",
       "        .then(() => maybeLoadScript(\"vega-lite\", \"5.2.0\"))\n",
       "        .then(() => maybeLoadScript(\"vega-embed\", \"6\"))\n",
       "        .catch(showError)\n",
       "        .then(() => displayChart(vegaEmbed));\n",
       "    }\n",
       "  })({\"config\": {\"view\": {\"continuousWidth\": 400, \"continuousHeight\": 300}}, \"layer\": [{\"mark\": {\"type\": \"point\", \"color\": \"black\", \"fillOpacity\": 1, \"strokeWidth\": 1}, \"encoding\": {\"fill\": {\"field\": \"is_present\", \"legend\": {\"title\": [\"Observed data\"]}, \"scale\": {\"range\": [\"black\", \"#ffffff00\"]}, \"type\": \"nominal\"}, \"shape\": {\"field\": \"is_present\", \"type\": \"nominal\"}, \"x\": {\"field\": \"time\", \"type\": \"temporal\"}, \"y\": {\"field\": \"value\", \"scale\": {\"zero\": false}, \"title\": \"\", \"type\": \"quantitative\"}}}, {\"layer\": [{\"mark\": \"errorband\", \"encoding\": {\"color\": {\"field\": \"variable\", \"legend\": {\"title\": [\"Line: pred. mean\", \"area: +/- 2 std\"]}, \"type\": \"nominal\"}, \"x\": {\"field\": \"time\", \"type\": \"temporal\"}, \"y\": {\"field\": \"err_low\", \"scale\": {\"zero\": false}, \"title\": \"\", \"type\": \"quantitative\"}, \"y2\": {\"field\": \"err_high\"}}, \"name\": \"view_2\"}, {\"mark\": \"line\", \"encoding\": {\"color\": {\"field\": \"variable\", \"type\": \"nominal\"}, \"x\": {\"field\": \"time\", \"type\": \"temporal\"}, \"y\": {\"field\": \"value\", \"scale\": {\"zero\": false}, \"title\": \"\", \"type\": \"quantitative\"}}}]}], \"data\": {\"name\": \"data-fd216a9f02cde58db5f8d533d8c02952\"}, \"params\": [{\"name\": \"param_7\", \"select\": {\"type\": \"interval\"}, \"bind\": \"scales\", \"views\": [\"view_2\"]}], \"title\": \"title TA\", \"$schema\": \"https://vega.github.io/schema/vega-lite/v5.2.0.json\", \"datasets\": {\"data-fd216a9f02cde58db5f8d533d8c02952\": [{\"time\": \"2000-06-15T16:30:00\", \"variable\": \"TA\", \"value\": 14.649999618530273, \"is_present\": false, \"std\": 0.5, \"err_low\": 13.649999618530273, \"err_high\": 15.649999618530273}, {\"time\": \"2000-06-15T17:00:00\", \"variable\": \"TA\", \"value\": 14.220000267028809, \"is_present\": false, \"std\": 0.5, \"err_low\": 13.220000267028809, \"err_high\": 15.220000267028809}, {\"time\": \"2000-06-15T17:30:00\", \"variable\": \"TA\", \"value\": 14.109999656677246, \"is_present\": false, \"std\": 0.5, \"err_low\": 13.109999656677246, \"err_high\": 15.109999656677246}, {\"time\": \"2000-06-15T18:00:00\", \"variable\": \"TA\", \"value\": 14.229999542236328, \"is_present\": false, \"std\": 0.5, \"err_low\": 13.229999542236328, \"err_high\": 15.229999542236328}, {\"time\": \"2000-06-15T18:30:00\", \"variable\": \"TA\", \"value\": 14.399999618530273, \"is_present\": false, \"std\": 0.5, \"err_low\": 13.399999618530273, \"err_high\": 15.399999618530273}, {\"time\": \"2000-06-15T19:00:00\", \"variable\": \"TA\", \"value\": 14.09000015258789, \"is_present\": true, \"std\": 0.5, \"err_low\": 13.09000015258789, \"err_high\": 15.09000015258789}, {\"time\": \"2000-06-15T19:30:00\", \"variable\": \"TA\", \"value\": 13.710000038146973, \"is_present\": true, \"std\": 0.5, \"err_low\": 12.710000038146973, \"err_high\": 14.710000038146973}, {\"time\": \"2000-06-15T20:00:00\", \"variable\": \"TA\", \"value\": 13.079999923706055, \"is_present\": true, \"std\": 0.5, \"err_low\": 12.079999923706055, \"err_high\": 14.079999923706055}, {\"time\": \"2000-06-15T20:30:00\", \"variable\": \"TA\", \"value\": 12.40999984741211, \"is_present\": true, \"std\": 0.5, \"err_low\": 11.40999984741211, \"err_high\": 13.40999984741211}, {\"time\": \"2000-06-15T21:00:00\", \"variable\": \"TA\", \"value\": 12.270000457763672, \"is_present\": true, \"std\": 0.5, \"err_low\": 11.270000457763672, \"err_high\": 13.270000457763672}]}}, {\"mode\": \"vega-lite\"});\n",
       "</script>"
      ],
      "text/plain": [
       "alt.LayerChart(...)"
      ]
     },
     "execution_count": null,
     "metadata": {},
     "output_type": "execute_result"
    }
   ],
   "source": [
    "plot_variable(m_df.tidy().assign(std=.5), \"TA\", title=\"title TA\", error=True)"
   ]
  },
  {
   "cell_type": "code",
   "execution_count": null,
   "id": "df1cf2d7-d9de-48ff-9017-c20e31b7dd21",
   "metadata": {},
   "outputs": [],
   "source": [
    "def facet_variable(df, # tidy dataframe\n",
    "                   n_cols: int = 3,\n",
    "                   bind_interaction: bool =True, # Whether the sub-plots for each variable should be connected for zooming/panning\n",
    "                   props:dict = None, # additional properties for altair plot (eg. size)\n",
    "                   error:bool=False # plot error bar\n",
    "                   ) -> alt.Chart:\n",
    "    \"\"\"Plot all values of the column `variable` in different subplots\"\"\"\n",
    "    props = ifnone(props, {'width': 200, 'height': 150})\n",
    "    vars = df.variable.unique()\n",
    "    plot_list = [alt.hconcat() for _ in range(0, len(vars), n_cols)]\n",
    "    selection_scale = alt.selection_interval(bind=\"scales\", encodings=['x']) if bind_interaction else None\n",
    "    for idx, variable in enumerate(vars):\n",
    "        plot = plot_variable(df,\n",
    "                            variable,\n",
    "                            title = variable,\n",
    "                            y_label = variable,\n",
    "                            sel = selection_scale,\n",
    "                            props=props,\n",
    "                            error=error)\n",
    "        \n",
    "        plot_list[idx // n_cols] |= plot\n",
    "    \n",
    "    plot = alt.vconcat(*plot_list)\n",
    "    \n",
    "    return plot"
   ]
  },
  {
   "cell_type": "code",
   "execution_count": null,
   "id": "1787dc1e-cf5f-479b-9173-eaaf2643fd77",
   "metadata": {},
   "outputs": [],
   "source": [
    "#| export\n",
    "@patch\n",
    "def show(self: MaskedDf, ax=None, ctx=None, \n",
    "        n_cols: int = 3,\n",
    "        bind_interaction: bool =True, # Whether the sub-plots for each variable should be connected for zooming/panning\n",
    "        props:dict = None # additional properties (eg. size) for altair plot\n",
    "       ) -> alt.Chart:\n",
    "    \n",
    "    df = self.tidy()\n",
    "    return facet_variable(df, n_cols, bind_interaction, props)"
   ]
  },
  {
   "cell_type": "code",
   "execution_count": null,
   "id": "4b3200e8-9bdb-4882-a2c7-a241ef1c57c1",
   "metadata": {},
   "outputs": [
    {
     "data": {
      "text/html": [
       "\n",
       "<div id=\"altair-viz-2c2eb1aaa129490b9c4450e71c1da416\"></div>\n",
       "<script type=\"text/javascript\">\n",
       "  var VEGA_DEBUG = (typeof VEGA_DEBUG == \"undefined\") ? {} : VEGA_DEBUG;\n",
       "  (function(spec, embedOpt){\n",
       "    let outputDiv = document.currentScript.previousElementSibling;\n",
       "    if (outputDiv.id !== \"altair-viz-2c2eb1aaa129490b9c4450e71c1da416\") {\n",
       "      outputDiv = document.getElementById(\"altair-viz-2c2eb1aaa129490b9c4450e71c1da416\");\n",
       "    }\n",
       "    const paths = {\n",
       "      \"vega\": \"https://cdn.jsdelivr.net/npm//vega@5?noext\",\n",
       "      \"vega-lib\": \"https://cdn.jsdelivr.net/npm//vega-lib?noext\",\n",
       "      \"vega-lite\": \"https://cdn.jsdelivr.net/npm//vega-lite@5.2.0?noext\",\n",
       "      \"vega-embed\": \"https://cdn.jsdelivr.net/npm//vega-embed@6?noext\",\n",
       "    };\n",
       "\n",
       "    function maybeLoadScript(lib, version) {\n",
       "      var key = `${lib.replace(\"-\", \"\")}_version`;\n",
       "      return (VEGA_DEBUG[key] == version) ?\n",
       "        Promise.resolve(paths[lib]) :\n",
       "        new Promise(function(resolve, reject) {\n",
       "          var s = document.createElement('script');\n",
       "          document.getElementsByTagName(\"head\")[0].appendChild(s);\n",
       "          s.async = true;\n",
       "          s.onload = () => {\n",
       "            VEGA_DEBUG[key] = version;\n",
       "            return resolve(paths[lib]);\n",
       "          };\n",
       "          s.onerror = () => reject(`Error loading script: ${paths[lib]}`);\n",
       "          s.src = paths[lib];\n",
       "        });\n",
       "    }\n",
       "\n",
       "    function showError(err) {\n",
       "      outputDiv.innerHTML = `<div class=\"error\" style=\"color:red;\">${err}</div>`;\n",
       "      throw err;\n",
       "    }\n",
       "\n",
       "    function displayChart(vegaEmbed) {\n",
       "      vegaEmbed(outputDiv, spec, embedOpt)\n",
       "        .catch(err => showError(`Javascript Error: ${err.message}<br>This usually means there's a typo in your chart specification. See the javascript console for the full traceback.`));\n",
       "    }\n",
       "\n",
       "    if(typeof define === \"function\" && define.amd) {\n",
       "      requirejs.config({paths});\n",
       "      require([\"vega-embed\"], displayChart, err => showError(`Error loading script: ${err.message}`));\n",
       "    } else {\n",
       "      maybeLoadScript(\"vega\", \"5\")\n",
       "        .then(() => maybeLoadScript(\"vega-lite\", \"5.2.0\"))\n",
       "        .then(() => maybeLoadScript(\"vega-embed\", \"6\"))\n",
       "        .catch(showError)\n",
       "        .then(() => displayChart(vegaEmbed));\n",
       "    }\n",
       "  })({\"config\": {\"view\": {\"continuousWidth\": 400, \"continuousHeight\": 300}}, \"vconcat\": [{\"hconcat\": [{\"layer\": [{\"mark\": {\"type\": \"point\", \"color\": \"black\", \"fillOpacity\": 1, \"strokeWidth\": 1}, \"encoding\": {\"fill\": {\"field\": \"is_present\", \"legend\": {\"title\": [\"Observed data\"]}, \"scale\": {\"range\": [\"black\", \"#ffffff00\"]}, \"type\": \"nominal\"}, \"shape\": {\"field\": \"is_present\", \"type\": \"nominal\"}, \"x\": {\"field\": \"time\", \"type\": \"temporal\"}, \"y\": {\"field\": \"value\", \"scale\": {\"zero\": false}, \"title\": \"TA\", \"type\": \"quantitative\"}}}, {\"mark\": \"line\", \"encoding\": {\"color\": {\"field\": \"variable\", \"type\": \"nominal\"}, \"x\": {\"field\": \"time\", \"type\": \"temporal\"}, \"y\": {\"field\": \"value\", \"scale\": {\"zero\": false}, \"title\": \"TA\", \"type\": \"quantitative\"}}, \"name\": \"view_3\"}], \"height\": 150, \"title\": \"TA\", \"width\": 200}, {\"layer\": [{\"mark\": {\"type\": \"point\", \"color\": \"black\", \"fillOpacity\": 1, \"strokeWidth\": 1}, \"encoding\": {\"fill\": {\"field\": \"is_present\", \"legend\": {\"title\": [\"Observed data\"]}, \"scale\": {\"range\": [\"black\", \"#ffffff00\"]}, \"type\": \"nominal\"}, \"shape\": {\"field\": \"is_present\", \"type\": \"nominal\"}, \"x\": {\"field\": \"time\", \"type\": \"temporal\"}, \"y\": {\"field\": \"value\", \"scale\": {\"zero\": false}, \"title\": \"SW_IN\", \"type\": \"quantitative\"}}}, {\"mark\": \"line\", \"encoding\": {\"color\": {\"field\": \"variable\", \"type\": \"nominal\"}, \"x\": {\"field\": \"time\", \"type\": \"temporal\"}, \"y\": {\"field\": \"value\", \"scale\": {\"zero\": false}, \"title\": \"SW_IN\", \"type\": \"quantitative\"}}, \"name\": \"view_4\"}], \"data\": {\"name\": \"data-5a1f3fac3d9df47c6d1f6f3a5658ee3a\"}, \"height\": 150, \"title\": \"SW_IN\", \"width\": 200}, {\"layer\": [{\"mark\": {\"type\": \"point\", \"color\": \"black\", \"fillOpacity\": 1, \"strokeWidth\": 1}, \"encoding\": {\"fill\": {\"field\": \"is_present\", \"legend\": {\"title\": [\"Observed data\"]}, \"scale\": {\"range\": [\"black\", \"#ffffff00\"]}, \"type\": \"nominal\"}, \"shape\": {\"field\": \"is_present\", \"type\": \"nominal\"}, \"x\": {\"field\": \"time\", \"type\": \"temporal\"}, \"y\": {\"field\": \"value\", \"scale\": {\"zero\": false}, \"title\": \"VPD\", \"type\": \"quantitative\"}}}, {\"mark\": \"line\", \"encoding\": {\"color\": {\"field\": \"variable\", \"type\": \"nominal\"}, \"x\": {\"field\": \"time\", \"type\": \"temporal\"}, \"y\": {\"field\": \"value\", \"scale\": {\"zero\": false}, \"title\": \"VPD\", \"type\": \"quantitative\"}}, \"name\": \"view_5\"}], \"data\": {\"name\": \"data-d31baa6ca74e0aff36d178089e8b875a\"}, \"height\": 150, \"title\": \"VPD\", \"width\": 200}]}], \"data\": {\"name\": \"data-56120284c98ea45ee642dd5b510147c7\"}, \"params\": [{\"name\": \"param_8\", \"select\": {\"type\": \"interval\", \"encodings\": [\"x\"]}, \"bind\": \"scales\", \"views\": [\"view_3\", \"view_4\", \"view_5\"]}], \"$schema\": \"https://vega.github.io/schema/vega-lite/v5.2.0.json\", \"datasets\": {\"data-56120284c98ea45ee642dd5b510147c7\": [{\"time\": \"2000-06-15T16:30:00\", \"variable\": \"TA\", \"value\": 14.649999618530273, \"is_present\": false}, {\"time\": \"2000-06-15T17:00:00\", \"variable\": \"TA\", \"value\": 14.220000267028809, \"is_present\": false}, {\"time\": \"2000-06-15T17:30:00\", \"variable\": \"TA\", \"value\": 14.109999656677246, \"is_present\": false}, {\"time\": \"2000-06-15T18:00:00\", \"variable\": \"TA\", \"value\": 14.229999542236328, \"is_present\": false}, {\"time\": \"2000-06-15T18:30:00\", \"variable\": \"TA\", \"value\": 14.399999618530273, \"is_present\": false}, {\"time\": \"2000-06-15T19:00:00\", \"variable\": \"TA\", \"value\": 14.09000015258789, \"is_present\": true}, {\"time\": \"2000-06-15T19:30:00\", \"variable\": \"TA\", \"value\": 13.710000038146973, \"is_present\": true}, {\"time\": \"2000-06-15T20:00:00\", \"variable\": \"TA\", \"value\": 13.079999923706055, \"is_present\": true}, {\"time\": \"2000-06-15T20:30:00\", \"variable\": \"TA\", \"value\": 12.40999984741211, \"is_present\": true}, {\"time\": \"2000-06-15T21:00:00\", \"variable\": \"TA\", \"value\": 12.270000457763672, \"is_present\": true}], \"data-5a1f3fac3d9df47c6d1f6f3a5658ee3a\": [{\"time\": \"2000-06-15T16:30:00\", \"variable\": \"SW_IN\", \"value\": 468.19000244140625, \"is_present\": true}, {\"time\": \"2000-06-15T17:00:00\", \"variable\": \"SW_IN\", \"value\": 224.8000030517578, \"is_present\": true}, {\"time\": \"2000-06-15T17:30:00\", \"variable\": \"SW_IN\", \"value\": 195.27999877929688, \"is_present\": true}, {\"time\": \"2000-06-15T18:00:00\", \"variable\": \"SW_IN\", \"value\": 244.1699981689453, \"is_present\": true}, {\"time\": \"2000-06-15T18:30:00\", \"variable\": \"SW_IN\", \"value\": 253.9199981689453, \"is_present\": true}, {\"time\": \"2000-06-15T19:00:00\", \"variable\": \"SW_IN\", \"value\": 177.30999755859375, \"is_present\": true}, {\"time\": \"2000-06-15T19:30:00\", \"variable\": \"SW_IN\", \"value\": 97.06999969482422, \"is_present\": true}, {\"time\": \"2000-06-15T20:00:00\", \"variable\": \"SW_IN\", \"value\": 39.709999084472656, \"is_present\": true}, {\"time\": \"2000-06-15T20:30:00\", \"variable\": \"SW_IN\", \"value\": 10.649999618530273, \"is_present\": true}, {\"time\": \"2000-06-15T21:00:00\", \"variable\": \"SW_IN\", \"value\": 0.3199999928474426, \"is_present\": true}], \"data-d31baa6ca74e0aff36d178089e8b875a\": [{\"time\": \"2000-06-15T16:30:00\", \"variable\": \"VPD\", \"value\": 6.453999996185303, \"is_present\": false}, {\"time\": \"2000-06-15T17:00:00\", \"variable\": \"VPD\", \"value\": 5.798999786376953, \"is_present\": false}, {\"time\": \"2000-06-15T17:30:00\", \"variable\": \"VPD\", \"value\": 6.577000141143799, \"is_present\": false}, {\"time\": \"2000-06-15T18:00:00\", \"variable\": \"VPD\", \"value\": 6.931000232696533, \"is_present\": false}, {\"time\": \"2000-06-15T18:30:00\", \"variable\": \"VPD\", \"value\": 7.285999774932861, \"is_present\": false}, {\"time\": \"2000-06-15T19:00:00\", \"variable\": \"VPD\", \"value\": 7.250999927520752, \"is_present\": true}, {\"time\": \"2000-06-15T19:30:00\", \"variable\": \"VPD\", \"value\": 6.683000087738037, \"is_present\": true}, {\"time\": \"2000-06-15T20:00:00\", \"variable\": \"VPD\", \"value\": 5.85099983215332, \"is_present\": true}, {\"time\": \"2000-06-15T20:30:00\", \"variable\": \"VPD\", \"value\": 5.254000186920166, \"is_present\": true}, {\"time\": \"2000-06-15T21:00:00\", \"variable\": \"VPD\", \"value\": 5.164000034332275, \"is_present\": true}]}}, {\"mode\": \"vega-lite\"});\n",
       "</script>"
      ],
      "text/plain": [
       "alt.VConcatChart(...)"
      ]
     },
     "execution_count": null,
     "metadata": {},
     "output_type": "execute_result"
    }
   ],
   "source": [
    "m_df.show()"
   ]
  },
  {
   "cell_type": "code",
   "execution_count": null,
   "id": "c9284e47-6433-405f-8b0d-a2cd6595bf94",
   "metadata": {},
   "outputs": [
    {
     "data": {
      "text/html": [
       "\n",
       "<div id=\"altair-viz-4f8f1c9835d04381ba2fd0510c123f71\"></div>\n",
       "<script type=\"text/javascript\">\n",
       "  var VEGA_DEBUG = (typeof VEGA_DEBUG == \"undefined\") ? {} : VEGA_DEBUG;\n",
       "  (function(spec, embedOpt){\n",
       "    let outputDiv = document.currentScript.previousElementSibling;\n",
       "    if (outputDiv.id !== \"altair-viz-4f8f1c9835d04381ba2fd0510c123f71\") {\n",
       "      outputDiv = document.getElementById(\"altair-viz-4f8f1c9835d04381ba2fd0510c123f71\");\n",
       "    }\n",
       "    const paths = {\n",
       "      \"vega\": \"https://cdn.jsdelivr.net/npm//vega@5?noext\",\n",
       "      \"vega-lib\": \"https://cdn.jsdelivr.net/npm//vega-lib?noext\",\n",
       "      \"vega-lite\": \"https://cdn.jsdelivr.net/npm//vega-lite@5.2.0?noext\",\n",
       "      \"vega-embed\": \"https://cdn.jsdelivr.net/npm//vega-embed@6?noext\",\n",
       "    };\n",
       "\n",
       "    function maybeLoadScript(lib, version) {\n",
       "      var key = `${lib.replace(\"-\", \"\")}_version`;\n",
       "      return (VEGA_DEBUG[key] == version) ?\n",
       "        Promise.resolve(paths[lib]) :\n",
       "        new Promise(function(resolve, reject) {\n",
       "          var s = document.createElement('script');\n",
       "          document.getElementsByTagName(\"head\")[0].appendChild(s);\n",
       "          s.async = true;\n",
       "          s.onload = () => {\n",
       "            VEGA_DEBUG[key] = version;\n",
       "            return resolve(paths[lib]);\n",
       "          };\n",
       "          s.onerror = () => reject(`Error loading script: ${paths[lib]}`);\n",
       "          s.src = paths[lib];\n",
       "        });\n",
       "    }\n",
       "\n",
       "    function showError(err) {\n",
       "      outputDiv.innerHTML = `<div class=\"error\" style=\"color:red;\">${err}</div>`;\n",
       "      throw err;\n",
       "    }\n",
       "\n",
       "    function displayChart(vegaEmbed) {\n",
       "      vegaEmbed(outputDiv, spec, embedOpt)\n",
       "        .catch(err => showError(`Javascript Error: ${err.message}<br>This usually means there's a typo in your chart specification. See the javascript console for the full traceback.`));\n",
       "    }\n",
       "\n",
       "    if(typeof define === \"function\" && define.amd) {\n",
       "      requirejs.config({paths});\n",
       "      require([\"vega-embed\"], displayChart, err => showError(`Error loading script: ${err.message}`));\n",
       "    } else {\n",
       "      maybeLoadScript(\"vega\", \"5\")\n",
       "        .then(() => maybeLoadScript(\"vega-lite\", \"5.2.0\"))\n",
       "        .then(() => maybeLoadScript(\"vega-embed\", \"6\"))\n",
       "        .catch(showError)\n",
       "        .then(() => displayChart(vegaEmbed));\n",
       "    }\n",
       "  })({\"config\": {\"view\": {\"continuousWidth\": 400, \"continuousHeight\": 300}}, \"vconcat\": [{\"hconcat\": [{\"layer\": [{\"mark\": {\"type\": \"point\", \"color\": \"black\", \"fillOpacity\": 1, \"strokeWidth\": 1}, \"encoding\": {\"fill\": {\"field\": \"is_present\", \"legend\": {\"title\": [\"Observed data\"]}, \"scale\": {\"range\": [\"black\", \"#ffffff00\"]}, \"type\": \"nominal\"}, \"shape\": {\"field\": \"is_present\", \"type\": \"nominal\"}, \"x\": {\"field\": \"time\", \"type\": \"temporal\"}, \"y\": {\"field\": \"value\", \"scale\": {\"zero\": false}, \"title\": \"TA\", \"type\": \"quantitative\"}}}, {\"mark\": \"line\", \"encoding\": {\"color\": {\"field\": \"variable\", \"type\": \"nominal\"}, \"x\": {\"field\": \"time\", \"type\": \"temporal\"}, \"y\": {\"field\": \"value\", \"scale\": {\"zero\": false}, \"title\": \"TA\", \"type\": \"quantitative\"}}, \"name\": \"view_6\"}], \"height\": 150, \"title\": \"TA\", \"width\": 200}, {\"layer\": [{\"mark\": {\"type\": \"point\", \"color\": \"black\", \"fillOpacity\": 1, \"strokeWidth\": 1}, \"encoding\": {\"fill\": {\"field\": \"is_present\", \"legend\": {\"title\": [\"Observed data\"]}, \"scale\": {\"range\": [\"black\", \"#ffffff00\"]}, \"type\": \"nominal\"}, \"shape\": {\"field\": \"is_present\", \"type\": \"nominal\"}, \"x\": {\"field\": \"time\", \"type\": \"temporal\"}, \"y\": {\"field\": \"value\", \"scale\": {\"zero\": false}, \"title\": \"SW_IN\", \"type\": \"quantitative\"}}}, {\"mark\": \"line\", \"encoding\": {\"color\": {\"field\": \"variable\", \"type\": \"nominal\"}, \"x\": {\"field\": \"time\", \"type\": \"temporal\"}, \"y\": {\"field\": \"value\", \"scale\": {\"zero\": false}, \"title\": \"SW_IN\", \"type\": \"quantitative\"}}, \"name\": \"view_7\"}], \"data\": {\"name\": \"data-c927eb5cf250cf0872c3a170980e7a6e\"}, \"height\": 150, \"title\": \"SW_IN\", \"width\": 200}, {\"layer\": [{\"mark\": {\"type\": \"point\", \"color\": \"black\", \"fillOpacity\": 1, \"strokeWidth\": 1}, \"encoding\": {\"fill\": {\"field\": \"is_present\", \"legend\": {\"title\": [\"Observed data\"]}, \"scale\": {\"range\": [\"black\", \"#ffffff00\"]}, \"type\": \"nominal\"}, \"shape\": {\"field\": \"is_present\", \"type\": \"nominal\"}, \"x\": {\"field\": \"time\", \"type\": \"temporal\"}, \"y\": {\"field\": \"value\", \"scale\": {\"zero\": false}, \"title\": \"VPD\", \"type\": \"quantitative\"}}}, {\"mark\": \"line\", \"encoding\": {\"color\": {\"field\": \"variable\", \"type\": \"nominal\"}, \"x\": {\"field\": \"time\", \"type\": \"temporal\"}, \"y\": {\"field\": \"value\", \"scale\": {\"zero\": false}, \"title\": \"VPD\", \"type\": \"quantitative\"}}, \"name\": \"view_8\"}], \"data\": {\"name\": \"data-12861b3dc0b0f8b0a5bdb5fdd3cc307d\"}, \"height\": 150, \"title\": \"VPD\", \"width\": 200}]}], \"data\": {\"name\": \"data-cd838a9cf208b8a9ec8b15ddaf517649\"}, \"params\": [{\"name\": \"param_12\", \"select\": {\"type\": \"interval\", \"encodings\": [\"x\"]}, \"bind\": \"scales\", \"views\": [\"view_6\", \"view_7\", \"view_8\"]}], \"$schema\": \"https://vega.github.io/schema/vega-lite/v5.2.0.json\", \"datasets\": {\"data-cd838a9cf208b8a9ec8b15ddaf517649\": [{\"time\": \"2000-06-15T11:30:00\", \"variable\": \"TA\", \"value\": 15.109999656677246, \"is_present\": false}, {\"time\": \"2000-06-15T12:00:00\", \"variable\": \"TA\", \"value\": 13.1899995803833, \"is_present\": false}, {\"time\": \"2000-06-15T12:30:00\", \"variable\": \"TA\", \"value\": 14.430000305175781, \"is_present\": false}, {\"time\": \"2000-06-15T13:00:00\", \"variable\": \"TA\", \"value\": 14.609999656677246, \"is_present\": false}, {\"time\": \"2000-06-15T13:30:00\", \"variable\": \"TA\", \"value\": 13.529999732971191, \"is_present\": false}, {\"time\": \"2000-06-15T14:00:00\", \"variable\": \"TA\", \"value\": 13.430000305175781, \"is_present\": true}, {\"time\": \"2000-06-15T14:30:00\", \"variable\": \"TA\", \"value\": 13.079999923706055, \"is_present\": true}, {\"time\": \"2000-06-15T15:00:00\", \"variable\": \"TA\", \"value\": 13.369999885559082, \"is_present\": true}, {\"time\": \"2000-06-15T15:30:00\", \"variable\": \"TA\", \"value\": 14.319999694824219, \"is_present\": true}, {\"time\": \"2000-06-15T16:00:00\", \"variable\": \"TA\", \"value\": 15.0, \"is_present\": true}], \"data-c927eb5cf250cf0872c3a170980e7a6e\": [{\"time\": \"2000-06-15T11:30:00\", \"variable\": \"SW_IN\", \"value\": 151.3000030517578, \"is_present\": true}, {\"time\": \"2000-06-15T12:00:00\", \"variable\": \"SW_IN\", \"value\": 697.1300048828125, \"is_present\": true}, {\"time\": \"2000-06-15T12:30:00\", \"variable\": \"SW_IN\", \"value\": 744.6799926757812, \"is_present\": true}, {\"time\": \"2000-06-15T13:00:00\", \"variable\": \"SW_IN\", \"value\": 357.739990234375, \"is_present\": true}, {\"time\": \"2000-06-15T13:30:00\", \"variable\": \"SW_IN\", \"value\": 158.25, \"is_present\": true}, {\"time\": \"2000-06-15T14:00:00\", \"variable\": \"SW_IN\", \"value\": 105.04000091552734, \"is_present\": true}, {\"time\": \"2000-06-15T14:30:00\", \"variable\": \"SW_IN\", \"value\": 142.63999938964844, \"is_present\": true}, {\"time\": \"2000-06-15T15:00:00\", \"variable\": \"SW_IN\", \"value\": 412.42999267578125, \"is_present\": true}, {\"time\": \"2000-06-15T15:30:00\", \"variable\": \"SW_IN\", \"value\": 600.510009765625, \"is_present\": true}, {\"time\": \"2000-06-15T16:00:00\", \"variable\": \"SW_IN\", \"value\": 635.8800048828125, \"is_present\": true}], \"data-12861b3dc0b0f8b0a5bdb5fdd3cc307d\": [{\"time\": \"2000-06-15T11:30:00\", \"variable\": \"VPD\", \"value\": 2.7709999084472656, \"is_present\": false}, {\"time\": \"2000-06-15T12:00:00\", \"variable\": \"VPD\", \"value\": 1.6490000486373901, \"is_present\": false}, {\"time\": \"2000-06-15T12:30:00\", \"variable\": \"VPD\", \"value\": 2.569999933242798, \"is_present\": false}, {\"time\": \"2000-06-15T13:00:00\", \"variable\": \"VPD\", \"value\": 2.7160000801086426, \"is_present\": false}, {\"time\": \"2000-06-15T13:30:00\", \"variable\": \"VPD\", \"value\": 3.0759999752044678, \"is_present\": false}, {\"time\": \"2000-06-15T14:00:00\", \"variable\": \"VPD\", \"value\": 2.809000015258789, \"is_present\": true}, {\"time\": \"2000-06-15T14:30:00\", \"variable\": \"VPD\", \"value\": 2.359999895095825, \"is_present\": true}, {\"time\": \"2000-06-15T15:00:00\", \"variable\": \"VPD\", \"value\": 4.0370001792907715, \"is_present\": true}, {\"time\": \"2000-06-15T15:30:00\", \"variable\": \"VPD\", \"value\": 5.583000183105469, \"is_present\": true}, {\"time\": \"2000-06-15T16:00:00\", \"variable\": \"VPD\", \"value\": 6.328999996185303, \"is_present\": true}]}}, {\"mode\": \"vega-lite\"});\n",
       "</script>"
      ],
      "text/plain": [
       "alt.VConcatChart(...)"
      ]
     },
     "execution_count": null,
     "metadata": {},
     "output_type": "execute_result"
    }
   ],
   "source": [
    "a_gap(blk(799)).show()"
   ]
  },
  {
   "cell_type": "code",
   "execution_count": null,
   "id": "37358f56-f705-4d3c-b39f-ac810447a635",
   "metadata": {},
   "outputs": [],
   "source": [
    "idx = L(*blk(1).columns).argwhere(lambda x: x in ['TA','SW_IN'])"
   ]
  },
  {
   "cell_type": "code",
   "execution_count": null,
   "id": "9126e8d1-3f99-40ba-b4ac-e5ac0f5cfd6c",
   "metadata": {},
   "outputs": [],
   "source": [
    "mask = np.ones_like(blk(1), dtype=bool)"
   ]
  },
  {
   "cell_type": "code",
   "execution_count": null,
   "id": "a9bf7480-1580-490d-8ce9-a0c47ef6c2a3",
   "metadata": {},
   "outputs": [
    {
     "data": {
      "text/plain": [
       "array([[ True,  True,  True],\n",
       "       [ True,  True,  True],\n",
       "       [ True,  True,  True],\n",
       "       [ True,  True,  True],\n",
       "       [ True,  True,  True],\n",
       "       [ True,  True,  True],\n",
       "       [ True,  True,  True],\n",
       "       [ True,  True,  True],\n",
       "       [ True,  True,  True],\n",
       "       [ True,  True,  True]])"
      ]
     },
     "execution_count": null,
     "metadata": {},
     "output_type": "execute_result"
    }
   ],
   "source": [
    "mask"
   ]
  },
  {
   "cell_type": "code",
   "execution_count": null,
   "id": "7ba57b44-2632-4ada-af4d-20b2678e6798",
   "metadata": {},
   "outputs": [],
   "source": [
    "gap = _make_random_gap(2, 10, 2)"
   ]
  },
  {
   "cell_type": "code",
   "execution_count": null,
   "id": "614d77ee-5fa7-49bd-b0e2-2bd9539b3c67",
   "metadata": {},
   "outputs": [
    {
     "data": {
      "text/plain": [
       "array([False, False,  True,  True, False, False, False, False, False,\n",
       "       False])"
      ]
     },
     "execution_count": null,
     "metadata": {},
     "output_type": "execute_result"
    }
   ],
   "source": [
    "gap"
   ]
  },
  {
   "cell_type": "code",
   "execution_count": null,
   "id": "2cfdf0a8-6761-43fb-a716-af7d391bd36c",
   "metadata": {},
   "outputs": [
    {
     "data": {
      "text/plain": [
       "array([[2],\n",
       "       [3]])"
      ]
     },
     "execution_count": null,
     "metadata": {},
     "output_type": "execute_result"
    }
   ],
   "source": [
    "np.argwhere(gap)"
   ]
  },
  {
   "cell_type": "code",
   "execution_count": null,
   "id": "c4892a92-5850-4529-991d-24c9a1cebf14",
   "metadata": {},
   "outputs": [],
   "source": [
    "mask[np.argwhere(gap), idx] = False"
   ]
  },
  {
   "cell_type": "code",
   "execution_count": null,
   "id": "5cf78fa7-3c14-43e6-a370-085f74f48ffa",
   "metadata": {},
   "outputs": [
    {
     "data": {
      "text/plain": [
       "array([[ True,  True,  True],\n",
       "       [ True,  True,  True],\n",
       "       [False, False,  True],\n",
       "       [False, False,  True],\n",
       "       [ True,  True,  True],\n",
       "       [ True,  True,  True],\n",
       "       [ True,  True,  True],\n",
       "       [ True,  True,  True],\n",
       "       [ True,  True,  True],\n",
       "       [ True,  True,  True]])"
      ]
     },
     "execution_count": null,
     "metadata": {},
     "output_type": "execute_result"
    }
   ],
   "source": [
    "mask"
   ]
  },
  {
   "cell_type": "code",
   "execution_count": null,
   "id": "39d845e1-4869-4d99-ad55-d851e44bc5cc",
   "metadata": {},
   "outputs": [
    {
     "data": {
      "text/plain": [
       "array([[False, False,  True],\n",
       "       [False, False,  True]])"
      ]
     },
     "execution_count": null,
     "metadata": {},
     "output_type": "execute_result"
    }
   ],
   "source": [
    "mask[gap]"
   ]
  },
  {
   "cell_type": "markdown",
   "id": "9e70cf47-7a11-4806-93ba-f9bdf56dc671",
   "metadata": {},
   "source": [
    "### 3) To Tensor"
   ]
  },
  {
   "cell_type": "markdown",
   "id": "a632c649-a391-4513-bcad-c5217ce001ef",
   "metadata": {},
   "source": [
    "this needs to handle both the init with a list of items and when the first item is a sequence of list of items"
   ]
  },
  {
   "cell_type": "code",
   "execution_count": null,
   "id": "1c157b15-d2e4-468b-9505-34478c196d34",
   "metadata": {},
   "outputs": [],
   "source": [
    "class MaskedTensor(collections.abc.Sequence):\n",
    "    def __init__(self,*args):\n",
    "        if len(args)==2:\n",
    "            self.data = args[0]\n",
    "            self.mask = args[1]\n",
    "        elif len(args)==1 and len(args[0])==2:\n",
    "            self.data = args[0][0]\n",
    "            self.mask = args[0][1]\n",
    "        else:\n",
    "            raise ValueError(f\"Incorrect number of arguments. got {len(args)} args\")\n",
    "\n",
    "    def __iter__(self): return iter((self.data, self.mask,))\n",
    "    __len__ = 2\n",
    "    def __getitem__(self, key):\n",
    "        if key == 0: return self.data\n",
    "        elif key == 1: return self.mask\n",
    "        else: raise IndexError(\"index bigger than 2\")\n",
    "    __repr__ = basic_repr('data, mask')"
   ]
  },
  {
   "cell_type": "code",
   "execution_count": null,
   "id": "49a73687-9272-44ad-84d5-0b845a63cd98",
   "metadata": {},
   "outputs": [],
   "source": [
    "#| export\n",
    "class MaskedDf2Tensor(Transform):\n",
    "    def setups(self, items):\n",
    "        self.columns = list(items[0].data.columns)\n",
    "    def encodes(self, df: MaskedDf) -> MaskedTensor:\n",
    "        data = torch.tensor(df.data.to_numpy())\n",
    "        mask = torch.tensor(df.mask.to_numpy())\n",
    "        return MaskedTensor(data, mask)\n",
    "        \n",
    "    def decodes(self, x: MaskedTensor) -> MaskedDf:\n",
    "        data = pd.DataFrame(x.data.detach().cpu().numpy(), columns = self.columns)\n",
    "        mask = pd.DataFrame(x.mask.cpu().numpy(), columns = self.columns)\n",
    "        return MaskedDf(data, mask)"
   ]
  },
  {
   "cell_type": "code",
   "execution_count": null,
   "id": "f144e2e3-93b2-4b53-86ac-eeed6b483e61",
   "metadata": {},
   "outputs": [],
   "source": [
    "to_t = MaskedDf2Tensor()"
   ]
  },
  {
   "cell_type": "code",
   "execution_count": null,
   "id": "70d0c5f6-741a-4687-896a-deeb0d58c201",
   "metadata": {},
   "outputs": [],
   "source": [
    "to_t.setup(tfms2)"
   ]
  },
  {
   "cell_type": "code",
   "execution_count": null,
   "id": "2a4f7ca8-df98-42a4-97a7-cd04a61d1304",
   "metadata": {},
   "outputs": [
    {
     "data": {
      "text/plain": [
       "__main__.MaskedTensor(data=tensor([[1.4650e+01, 4.6819e+02, 6.4540e+00],\n",
       "        [1.4220e+01, 2.2480e+02, 5.7990e+00],\n",
       "        [1.4110e+01, 1.9528e+02, 6.5770e+00],\n",
       "        [1.4230e+01, 2.4417e+02, 6.9310e+00],\n",
       "        [1.4400e+01, 2.5392e+02, 7.2860e+00],\n",
       "        [1.4090e+01, 1.7731e+02, 7.2510e+00],\n",
       "        [1.3710e+01, 9.7070e+01, 6.6830e+00],\n",
       "        [1.3080e+01, 3.9710e+01, 5.8510e+00],\n",
       "        [1.2410e+01, 1.0650e+01, 5.2540e+00],\n",
       "        [1.2270e+01, 3.2000e-01, 5.1640e+00]]), mask=tensor([[ True,  True,  True],\n",
       "        [ True,  True,  True],\n",
       "        [ True,  True,  True],\n",
       "        [ True,  True,  True],\n",
       "        [ True,  True,  True],\n",
       "        [False, False,  True],\n",
       "        [False, False,  True],\n",
       "        [ True,  True,  True],\n",
       "        [ True,  True,  True],\n",
       "        [ True,  True,  True]]))"
      ]
     },
     "execution_count": null,
     "metadata": {},
     "output_type": "execute_result"
    }
   ],
   "source": [
    "to_t(tfms2[0])"
   ]
  },
  {
   "cell_type": "code",
   "execution_count": null,
   "id": "786af7c1-edb5-40ef-bbd3-b9f1b1220f11",
   "metadata": {},
   "outputs": [],
   "source": [
    "to_t.decode(to_t(tfms2[0]));"
   ]
  },
  {
   "cell_type": "code",
   "execution_count": null,
   "id": "d2e84c50-5ecd-43a7-881e-80e53bc55aa0",
   "metadata": {},
   "outputs": [
    {
     "data": {
      "text/html": [
       "<p style='font-size: 1.5rem; font-decoration: bold'>Masked Df<p><div style=\"display: flex; column-gap: 20px; flex-wrap: wrap;\" class='table table-striped table-sm'> <div> <p style='font-size: 1.3rem;'>data</p> <style type=\"text/css\">\n",
       "</style>\n",
       "<table id=\"T_5849e\">\n",
       "  <thead>\n",
       "    <tr>\n",
       "      <th id=\"T_5849e_level0_col0\" class=\"col_heading level0 col0\" >TA</th>\n",
       "      <th id=\"T_5849e_level0_col1\" class=\"col_heading level0 col1\" >SW_IN</th>\n",
       "      <th id=\"T_5849e_level0_col2\" class=\"col_heading level0 col2\" >VPD</th>\n",
       "    </tr>\n",
       "  </thead>\n",
       "  <tbody>\n",
       "    <tr>\n",
       "      <td id=\"T_5849e_row0_col0\" class=\"data row0 col0\" >14.6500</td>\n",
       "      <td id=\"T_5849e_row0_col1\" class=\"data row0 col1\" >468.1900</td>\n",
       "      <td id=\"T_5849e_row0_col2\" class=\"data row0 col2\" >6.4540</td>\n",
       "    </tr>\n",
       "    <tr>\n",
       "      <td id=\"T_5849e_row1_col0\" class=\"data row1 col0\" >14.2200</td>\n",
       "      <td id=\"T_5849e_row1_col1\" class=\"data row1 col1\" >224.8000</td>\n",
       "      <td id=\"T_5849e_row1_col2\" class=\"data row1 col2\" >5.7990</td>\n",
       "    </tr>\n",
       "    <tr>\n",
       "      <td id=\"T_5849e_row2_col0\" class=\"data row2 col0\" >14.1100</td>\n",
       "      <td id=\"T_5849e_row2_col1\" class=\"data row2 col1\" >195.2800</td>\n",
       "      <td id=\"T_5849e_row2_col2\" class=\"data row2 col2\" >6.5770</td>\n",
       "    </tr>\n",
       "    <tr>\n",
       "      <td id=\"T_5849e_row3_col0\" class=\"data row3 col0\" >14.2300</td>\n",
       "      <td id=\"T_5849e_row3_col1\" class=\"data row3 col1\" >244.1700</td>\n",
       "      <td id=\"T_5849e_row3_col2\" class=\"data row3 col2\" >6.9310</td>\n",
       "    </tr>\n",
       "    <tr>\n",
       "      <td id=\"T_5849e_row4_col0\" class=\"data row4 col0\" >14.4000</td>\n",
       "      <td id=\"T_5849e_row4_col1\" class=\"data row4 col1\" >253.9200</td>\n",
       "      <td id=\"T_5849e_row4_col2\" class=\"data row4 col2\" >7.2860</td>\n",
       "    </tr>\n",
       "    <tr>\n",
       "      <td id=\"T_5849e_row5_col0\" class=\"data row5 col0\" >14.0900</td>\n",
       "      <td id=\"T_5849e_row5_col1\" class=\"data row5 col1\" >177.3100</td>\n",
       "      <td id=\"T_5849e_row5_col2\" class=\"data row5 col2\" >7.2510</td>\n",
       "    </tr>\n",
       "    <tr>\n",
       "      <td id=\"T_5849e_row6_col0\" class=\"data row6 col0\" >13.7100</td>\n",
       "      <td id=\"T_5849e_row6_col1\" class=\"data row6 col1\" >97.0700</td>\n",
       "      <td id=\"T_5849e_row6_col2\" class=\"data row6 col2\" >6.6830</td>\n",
       "    </tr>\n",
       "    <tr>\n",
       "      <td id=\"T_5849e_row7_col0\" class=\"data row7 col0\" >13.0800</td>\n",
       "      <td id=\"T_5849e_row7_col1\" class=\"data row7 col1\" >39.7100</td>\n",
       "      <td id=\"T_5849e_row7_col2\" class=\"data row7 col2\" >5.8510</td>\n",
       "    </tr>\n",
       "    <tr>\n",
       "      <td id=\"T_5849e_row8_col0\" class=\"data row8 col0\" >12.4100</td>\n",
       "      <td id=\"T_5849e_row8_col1\" class=\"data row8 col1\" >10.6500</td>\n",
       "      <td id=\"T_5849e_row8_col2\" class=\"data row8 col2\" >5.2540</td>\n",
       "    </tr>\n",
       "    <tr>\n",
       "      <td id=\"T_5849e_row9_col0\" class=\"data row9 col0\" >12.2700</td>\n",
       "      <td id=\"T_5849e_row9_col1\" class=\"data row9 col1\" >0.3200</td>\n",
       "      <td id=\"T_5849e_row9_col2\" class=\"data row9 col2\" >5.1640</td>\n",
       "    </tr>\n",
       "  </tbody>\n",
       "</table>\n",
       " </div><div> <p style='font-size: 1.3rem;'>mask</p> <style type=\"text/css\">\n",
       "</style>\n",
       "<table id=\"T_67483\">\n",
       "  <thead>\n",
       "    <tr>\n",
       "      <th id=\"T_67483_level0_col0\" class=\"col_heading level0 col0\" >TA</th>\n",
       "      <th id=\"T_67483_level0_col1\" class=\"col_heading level0 col1\" >SW_IN</th>\n",
       "      <th id=\"T_67483_level0_col2\" class=\"col_heading level0 col2\" >VPD</th>\n",
       "    </tr>\n",
       "  </thead>\n",
       "  <tbody>\n",
       "    <tr>\n",
       "      <td id=\"T_67483_row0_col0\" class=\"data row0 col0\" >True</td>\n",
       "      <td id=\"T_67483_row0_col1\" class=\"data row0 col1\" >True</td>\n",
       "      <td id=\"T_67483_row0_col2\" class=\"data row0 col2\" >True</td>\n",
       "    </tr>\n",
       "    <tr>\n",
       "      <td id=\"T_67483_row1_col0\" class=\"data row1 col0\" >False</td>\n",
       "      <td id=\"T_67483_row1_col1\" class=\"data row1 col1\" >False</td>\n",
       "      <td id=\"T_67483_row1_col2\" class=\"data row1 col2\" >True</td>\n",
       "    </tr>\n",
       "    <tr>\n",
       "      <td id=\"T_67483_row2_col0\" class=\"data row2 col0\" >False</td>\n",
       "      <td id=\"T_67483_row2_col1\" class=\"data row2 col1\" >False</td>\n",
       "      <td id=\"T_67483_row2_col2\" class=\"data row2 col2\" >True</td>\n",
       "    </tr>\n",
       "    <tr>\n",
       "      <td id=\"T_67483_row3_col0\" class=\"data row3 col0\" >True</td>\n",
       "      <td id=\"T_67483_row3_col1\" class=\"data row3 col1\" >True</td>\n",
       "      <td id=\"T_67483_row3_col2\" class=\"data row3 col2\" >True</td>\n",
       "    </tr>\n",
       "    <tr>\n",
       "      <td id=\"T_67483_row4_col0\" class=\"data row4 col0\" >True</td>\n",
       "      <td id=\"T_67483_row4_col1\" class=\"data row4 col1\" >True</td>\n",
       "      <td id=\"T_67483_row4_col2\" class=\"data row4 col2\" >True</td>\n",
       "    </tr>\n",
       "    <tr>\n",
       "      <td id=\"T_67483_row5_col0\" class=\"data row5 col0\" >True</td>\n",
       "      <td id=\"T_67483_row5_col1\" class=\"data row5 col1\" >True</td>\n",
       "      <td id=\"T_67483_row5_col2\" class=\"data row5 col2\" >True</td>\n",
       "    </tr>\n",
       "    <tr>\n",
       "      <td id=\"T_67483_row6_col0\" class=\"data row6 col0\" >True</td>\n",
       "      <td id=\"T_67483_row6_col1\" class=\"data row6 col1\" >True</td>\n",
       "      <td id=\"T_67483_row6_col2\" class=\"data row6 col2\" >True</td>\n",
       "    </tr>\n",
       "    <tr>\n",
       "      <td id=\"T_67483_row7_col0\" class=\"data row7 col0\" >True</td>\n",
       "      <td id=\"T_67483_row7_col1\" class=\"data row7 col1\" >True</td>\n",
       "      <td id=\"T_67483_row7_col2\" class=\"data row7 col2\" >True</td>\n",
       "    </tr>\n",
       "    <tr>\n",
       "      <td id=\"T_67483_row8_col0\" class=\"data row8 col0\" >True</td>\n",
       "      <td id=\"T_67483_row8_col1\" class=\"data row8 col1\" >True</td>\n",
       "      <td id=\"T_67483_row8_col2\" class=\"data row8 col2\" >True</td>\n",
       "    </tr>\n",
       "    <tr>\n",
       "      <td id=\"T_67483_row9_col0\" class=\"data row9 col0\" >True</td>\n",
       "      <td id=\"T_67483_row9_col1\" class=\"data row9 col1\" >True</td>\n",
       "      <td id=\"T_67483_row9_col2\" class=\"data row9 col2\" >True</td>\n",
       "    </tr>\n",
       "  </tbody>\n",
       "</table>\n",
       " </div></div>"
      ],
      "text/plain": [
       "__main__.MaskedDf(data=                        TA       SW_IN    VPD\n",
       "time                                         \n",
       "2000-06-15 16:30:00  14.65  468.190002  6.454\n",
       "2000-06-15 17:00:00  14.22  224.800003  5.799\n",
       "2000-06-15 17:30:00  14.11  195.279999  6.577\n",
       "2000-06-15 18:00:00  14.23  244.169998  6.931\n",
       "2000-06-15 18:30:00  14.40  253.919998  7.286\n",
       "2000-06-15 19:00:00  14.09  177.309998  7.251\n",
       "2000-06-15 19:30:00  13.71   97.070000  6.683\n",
       "2000-06-15 20:00:00  13.08   39.709999  5.851\n",
       "2000-06-15 20:30:00  12.41   10.650000  5.254\n",
       "2000-06-15 21:00:00  12.27    0.320000  5.164, mask=                        TA  SW_IN   VPD\n",
       "time                                   \n",
       "2000-06-15 16:30:00   True   True  True\n",
       "2000-06-15 17:00:00  False  False  True\n",
       "2000-06-15 17:30:00  False  False  True\n",
       "2000-06-15 18:00:00   True   True  True\n",
       "2000-06-15 18:30:00   True   True  True\n",
       "2000-06-15 19:00:00   True   True  True\n",
       "2000-06-15 19:30:00   True   True  True\n",
       "2000-06-15 20:00:00   True   True  True\n",
       "2000-06-15 20:30:00   True   True  True\n",
       "2000-06-15 21:00:00   True   True  True)"
      ]
     },
     "execution_count": null,
     "metadata": {},
     "output_type": "execute_result"
    }
   ],
   "source": [
    "tfms2[0]"
   ]
  },
  {
   "cell_type": "code",
   "execution_count": null,
   "id": "baae314c-ced7-4901-b48f-bee6e879cf7c",
   "metadata": {},
   "outputs": [
    {
     "data": {
      "text/plain": [
       "__main__.MaskedDf2Tensor"
      ]
     },
     "execution_count": null,
     "metadata": {},
     "output_type": "execute_result"
    }
   ],
   "source": [
    "type(MaskedDf2Tensor())"
   ]
  },
  {
   "cell_type": "code",
   "execution_count": null,
   "id": "f2990cbe-babc-4f62-9b6f-2807edfa05b2",
   "metadata": {},
   "outputs": [],
   "source": [
    "tfms3 = TfmdLists([800, 801, 802], [BlockDfTransform(hai, 10), AddGapTransform(['TA','SW_IN'], 2), MaskedDf2Tensor()])"
   ]
  },
  {
   "cell_type": "code",
   "execution_count": null,
   "id": "755add1e-55d4-4408-8db2-ab28d804edd2",
   "metadata": {},
   "outputs": [
    {
     "data": {
      "text/plain": [
       "__main__.MaskedTensor(data=tensor([[1.4650e+01, 4.6819e+02, 6.4540e+00],\n",
       "        [1.4220e+01, 2.2480e+02, 5.7990e+00],\n",
       "        [1.4110e+01, 1.9528e+02, 6.5770e+00],\n",
       "        [1.4230e+01, 2.4417e+02, 6.9310e+00],\n",
       "        [1.4400e+01, 2.5392e+02, 7.2860e+00],\n",
       "        [1.4090e+01, 1.7731e+02, 7.2510e+00],\n",
       "        [1.3710e+01, 9.7070e+01, 6.6830e+00],\n",
       "        [1.3080e+01, 3.9710e+01, 5.8510e+00],\n",
       "        [1.2410e+01, 1.0650e+01, 5.2540e+00],\n",
       "        [1.2270e+01, 3.2000e-01, 5.1640e+00]]), mask=tensor([[ True,  True,  True],\n",
       "        [ True,  True,  True],\n",
       "        [False, False,  True],\n",
       "        [False, False,  True],\n",
       "        [ True,  True,  True],\n",
       "        [ True,  True,  True],\n",
       "        [ True,  True,  True],\n",
       "        [ True,  True,  True],\n",
       "        [ True,  True,  True],\n",
       "        [ True,  True,  True]]))"
      ]
     },
     "execution_count": null,
     "metadata": {},
     "output_type": "execute_result"
    }
   ],
   "source": [
    "tfms3[0]"
   ]
  },
  {
   "cell_type": "code",
   "execution_count": null,
   "id": "324520e5-5979-4b7e-b52f-97e86788c187",
   "metadata": {},
   "outputs": [
    {
     "data": {
      "text/plain": [
       "__main__.MaskedTensor"
      ]
     },
     "execution_count": null,
     "metadata": {},
     "output_type": "execute_result"
    }
   ],
   "source": [
    "type(tfms3[0])"
   ]
  },
  {
   "cell_type": "code",
   "execution_count": null,
   "id": "56477320-5c88-48c8-90a8-ceda644dffb9",
   "metadata": {},
   "outputs": [
    {
     "data": {
      "text/html": [
       "<p style='font-size: 1.5rem; font-decoration: bold'>Masked Df<p><div style=\"display: flex; column-gap: 20px; flex-wrap: wrap;\" class='table table-striped table-sm'> <div> <p style='font-size: 1.3rem;'>data</p> <style type=\"text/css\">\n",
       "</style>\n",
       "<table id=\"T_de84e\">\n",
       "  <thead>\n",
       "    <tr>\n",
       "      <th id=\"T_de84e_level0_col0\" class=\"col_heading level0 col0\" >TA</th>\n",
       "      <th id=\"T_de84e_level0_col1\" class=\"col_heading level0 col1\" >SW_IN</th>\n",
       "      <th id=\"T_de84e_level0_col2\" class=\"col_heading level0 col2\" >VPD</th>\n",
       "    </tr>\n",
       "  </thead>\n",
       "  <tbody>\n",
       "    <tr>\n",
       "      <td id=\"T_de84e_row0_col0\" class=\"data row0 col0\" >14.6500</td>\n",
       "      <td id=\"T_de84e_row0_col1\" class=\"data row0 col1\" >468.1900</td>\n",
       "      <td id=\"T_de84e_row0_col2\" class=\"data row0 col2\" >6.4540</td>\n",
       "    </tr>\n",
       "    <tr>\n",
       "      <td id=\"T_de84e_row1_col0\" class=\"data row1 col0\" >14.2200</td>\n",
       "      <td id=\"T_de84e_row1_col1\" class=\"data row1 col1\" >224.8000</td>\n",
       "      <td id=\"T_de84e_row1_col2\" class=\"data row1 col2\" >5.7990</td>\n",
       "    </tr>\n",
       "    <tr>\n",
       "      <td id=\"T_de84e_row2_col0\" class=\"data row2 col0\" >14.1100</td>\n",
       "      <td id=\"T_de84e_row2_col1\" class=\"data row2 col1\" >195.2800</td>\n",
       "      <td id=\"T_de84e_row2_col2\" class=\"data row2 col2\" >6.5770</td>\n",
       "    </tr>\n",
       "    <tr>\n",
       "      <td id=\"T_de84e_row3_col0\" class=\"data row3 col0\" >14.2300</td>\n",
       "      <td id=\"T_de84e_row3_col1\" class=\"data row3 col1\" >244.1700</td>\n",
       "      <td id=\"T_de84e_row3_col2\" class=\"data row3 col2\" >6.9310</td>\n",
       "    </tr>\n",
       "    <tr>\n",
       "      <td id=\"T_de84e_row4_col0\" class=\"data row4 col0\" >14.4000</td>\n",
       "      <td id=\"T_de84e_row4_col1\" class=\"data row4 col1\" >253.9200</td>\n",
       "      <td id=\"T_de84e_row4_col2\" class=\"data row4 col2\" >7.2860</td>\n",
       "    </tr>\n",
       "    <tr>\n",
       "      <td id=\"T_de84e_row5_col0\" class=\"data row5 col0\" >14.0900</td>\n",
       "      <td id=\"T_de84e_row5_col1\" class=\"data row5 col1\" >177.3100</td>\n",
       "      <td id=\"T_de84e_row5_col2\" class=\"data row5 col2\" >7.2510</td>\n",
       "    </tr>\n",
       "    <tr>\n",
       "      <td id=\"T_de84e_row6_col0\" class=\"data row6 col0\" >13.7100</td>\n",
       "      <td id=\"T_de84e_row6_col1\" class=\"data row6 col1\" >97.0700</td>\n",
       "      <td id=\"T_de84e_row6_col2\" class=\"data row6 col2\" >6.6830</td>\n",
       "    </tr>\n",
       "    <tr>\n",
       "      <td id=\"T_de84e_row7_col0\" class=\"data row7 col0\" >13.0800</td>\n",
       "      <td id=\"T_de84e_row7_col1\" class=\"data row7 col1\" >39.7100</td>\n",
       "      <td id=\"T_de84e_row7_col2\" class=\"data row7 col2\" >5.8510</td>\n",
       "    </tr>\n",
       "    <tr>\n",
       "      <td id=\"T_de84e_row8_col0\" class=\"data row8 col0\" >12.4100</td>\n",
       "      <td id=\"T_de84e_row8_col1\" class=\"data row8 col1\" >10.6500</td>\n",
       "      <td id=\"T_de84e_row8_col2\" class=\"data row8 col2\" >5.2540</td>\n",
       "    </tr>\n",
       "    <tr>\n",
       "      <td id=\"T_de84e_row9_col0\" class=\"data row9 col0\" >12.2700</td>\n",
       "      <td id=\"T_de84e_row9_col1\" class=\"data row9 col1\" >0.3200</td>\n",
       "      <td id=\"T_de84e_row9_col2\" class=\"data row9 col2\" >5.1640</td>\n",
       "    </tr>\n",
       "  </tbody>\n",
       "</table>\n",
       " </div><div> <p style='font-size: 1.3rem;'>mask</p> <style type=\"text/css\">\n",
       "</style>\n",
       "<table id=\"T_81383\">\n",
       "  <thead>\n",
       "    <tr>\n",
       "      <th id=\"T_81383_level0_col0\" class=\"col_heading level0 col0\" >TA</th>\n",
       "      <th id=\"T_81383_level0_col1\" class=\"col_heading level0 col1\" >SW_IN</th>\n",
       "      <th id=\"T_81383_level0_col2\" class=\"col_heading level0 col2\" >VPD</th>\n",
       "    </tr>\n",
       "  </thead>\n",
       "  <tbody>\n",
       "    <tr>\n",
       "      <td id=\"T_81383_row0_col0\" class=\"data row0 col0\" >True</td>\n",
       "      <td id=\"T_81383_row0_col1\" class=\"data row0 col1\" >True</td>\n",
       "      <td id=\"T_81383_row0_col2\" class=\"data row0 col2\" >True</td>\n",
       "    </tr>\n",
       "    <tr>\n",
       "      <td id=\"T_81383_row1_col0\" class=\"data row1 col0\" >True</td>\n",
       "      <td id=\"T_81383_row1_col1\" class=\"data row1 col1\" >True</td>\n",
       "      <td id=\"T_81383_row1_col2\" class=\"data row1 col2\" >True</td>\n",
       "    </tr>\n",
       "    <tr>\n",
       "      <td id=\"T_81383_row2_col0\" class=\"data row2 col0\" >True</td>\n",
       "      <td id=\"T_81383_row2_col1\" class=\"data row2 col1\" >True</td>\n",
       "      <td id=\"T_81383_row2_col2\" class=\"data row2 col2\" >True</td>\n",
       "    </tr>\n",
       "    <tr>\n",
       "      <td id=\"T_81383_row3_col0\" class=\"data row3 col0\" >True</td>\n",
       "      <td id=\"T_81383_row3_col1\" class=\"data row3 col1\" >True</td>\n",
       "      <td id=\"T_81383_row3_col2\" class=\"data row3 col2\" >True</td>\n",
       "    </tr>\n",
       "    <tr>\n",
       "      <td id=\"T_81383_row4_col0\" class=\"data row4 col0\" >True</td>\n",
       "      <td id=\"T_81383_row4_col1\" class=\"data row4 col1\" >True</td>\n",
       "      <td id=\"T_81383_row4_col2\" class=\"data row4 col2\" >True</td>\n",
       "    </tr>\n",
       "    <tr>\n",
       "      <td id=\"T_81383_row5_col0\" class=\"data row5 col0\" >True</td>\n",
       "      <td id=\"T_81383_row5_col1\" class=\"data row5 col1\" >True</td>\n",
       "      <td id=\"T_81383_row5_col2\" class=\"data row5 col2\" >True</td>\n",
       "    </tr>\n",
       "    <tr>\n",
       "      <td id=\"T_81383_row6_col0\" class=\"data row6 col0\" >True</td>\n",
       "      <td id=\"T_81383_row6_col1\" class=\"data row6 col1\" >True</td>\n",
       "      <td id=\"T_81383_row6_col2\" class=\"data row6 col2\" >True</td>\n",
       "    </tr>\n",
       "    <tr>\n",
       "      <td id=\"T_81383_row7_col0\" class=\"data row7 col0\" >False</td>\n",
       "      <td id=\"T_81383_row7_col1\" class=\"data row7 col1\" >False</td>\n",
       "      <td id=\"T_81383_row7_col2\" class=\"data row7 col2\" >True</td>\n",
       "    </tr>\n",
       "    <tr>\n",
       "      <td id=\"T_81383_row8_col0\" class=\"data row8 col0\" >False</td>\n",
       "      <td id=\"T_81383_row8_col1\" class=\"data row8 col1\" >False</td>\n",
       "      <td id=\"T_81383_row8_col2\" class=\"data row8 col2\" >True</td>\n",
       "    </tr>\n",
       "    <tr>\n",
       "      <td id=\"T_81383_row9_col0\" class=\"data row9 col0\" >True</td>\n",
       "      <td id=\"T_81383_row9_col1\" class=\"data row9 col1\" >True</td>\n",
       "      <td id=\"T_81383_row9_col2\" class=\"data row9 col2\" >True</td>\n",
       "    </tr>\n",
       "  </tbody>\n",
       "</table>\n",
       " </div></div>"
      ],
      "text/plain": [
       "__main__.MaskedDf(data=      TA       SW_IN    VPD\n",
       "0  14.65  468.190002  6.454\n",
       "1  14.22  224.800003  5.799\n",
       "2  14.11  195.279999  6.577\n",
       "3  14.23  244.169998  6.931\n",
       "4  14.40  253.919998  7.286\n",
       "5  14.09  177.309998  7.251\n",
       "6  13.71   97.070000  6.683\n",
       "7  13.08   39.709999  5.851\n",
       "8  12.41   10.650000  5.254\n",
       "9  12.27    0.320000  5.164, mask=      TA  SW_IN   VPD\n",
       "0   True   True  True\n",
       "1   True   True  True\n",
       "2   True   True  True\n",
       "3   True   True  True\n",
       "4   True   True  True\n",
       "5   True   True  True\n",
       "6   True   True  True\n",
       "7  False  False  True\n",
       "8  False  False  True\n",
       "9   True   True  True)"
      ]
     },
     "execution_count": null,
     "metadata": {},
     "output_type": "execute_result"
    }
   ],
   "source": [
    "tfms3.decode(tfms3[0])"
   ]
  },
  {
   "cell_type": "markdown",
   "id": "87e120fa-cf84-4e32-8c99-9af24a2755b1",
   "metadata": {},
   "source": [
    "### 4) Normalize"
   ]
  },
  {
   "cell_type": "code",
   "execution_count": null,
   "id": "3ba23250-9b69-43c2-b2f6-db4ef5658e6a",
   "metadata": {},
   "outputs": [],
   "source": [
    "#| export\n",
    "from meteo_imp.utils import *\n",
    "from fastai.torch_core import to_cpu\n",
    "\n",
    "from torch import Tensor"
   ]
  },
  {
   "cell_type": "code",
   "execution_count": null,
   "id": "da858473-9de5-4abf-8a32-eb24bfb6b054",
   "metadata": {},
   "outputs": [
    {
     "data": {
      "text/plain": [
       "<function collections.namedtuple(typename, field_names, *, rename=False, defaults=None, module=None)>"
      ]
     },
     "execution_count": null,
     "metadata": {},
     "output_type": "execute_result"
    }
   ],
   "source": [
    "collections.namedtuple"
   ]
  },
  {
   "cell_type": "code",
   "execution_count": null,
   "id": "0505fab1-5a53-4879-9d0d-7cc918bd5bdf",
   "metadata": {},
   "outputs": [],
   "source": [
    "nt = collections.namedtuple(\"nt\", \"a\")"
   ]
  },
  {
   "cell_type": "code",
   "execution_count": null,
   "id": "6ad97a8b-4da1-4c88-9b49-8ca0f3ce4a13",
   "metadata": {},
   "outputs": [
    {
     "data": {
      "text/plain": [
       "True"
      ]
     },
     "execution_count": null,
     "metadata": {},
     "output_type": "execute_result"
    }
   ],
   "source": [
    "isinstance(nt(1), tuple)"
   ]
  },
  {
   "cell_type": "code",
   "execution_count": null,
   "id": "f1ac4c68-5abf-41c0-b754-889ad3af0999",
   "metadata": {},
   "outputs": [],
   "source": [
    "class NormalsParams(list):\n",
    "    def __init__(self,*args):\n",
    "        if len(args)==2:\n",
    "            self.mean = args[0]\n",
    "            self.std = args[1]\n",
    "        elif isinstance(args[0], Generator):\n",
    "            args = list(args[0])\n",
    "            self.mean = args[0]\n",
    "            self.std = args[1]\n",
    "        elif len(args)==1 and len(args[0])==2:\n",
    "            self.mean = tuple(args[0])[0]\n",
    "            self.std = tuple(args[0])[1]                     \n",
    "        else:\n",
    "            raise ValueError(f\"Incorrect number of arguments. got {len(args)} args\")\n",
    "    def __iter__(self): return iter((self.mean, self.std,))\n",
    "    def __next__(self): return next(self.__iter__())\n",
    "    def __len__(self): return 2\n",
    "    def __getitem__(self, key):\n",
    "        if key == 0: return self.mean\n",
    "        elif key == 1: return self.std\n",
    "        else: raise IndexError(\"index bigger than 2\")\n",
    "    __repr__ = basic_repr('mean, std')"
   ]
  },
  {
   "cell_type": "code",
   "execution_count": null,
   "id": "bd093319-c16b-494c-9431-1c7d5d8869a8",
   "metadata": {},
   "outputs": [
    {
     "data": {
      "text/plain": [
       "__main__.NormalsParams(mean=0, std=1)"
      ]
     },
     "execution_count": null,
     "metadata": {},
     "output_type": "execute_result"
    }
   ],
   "source": [
    "NormalsParams(0,1)"
   ]
  },
  {
   "cell_type": "code",
   "execution_count": null,
   "id": "e75c7ecf-2785-49fc-b1ff-fe98c4e03843",
   "metadata": {},
   "outputs": [],
   "source": [
    "#| export\n",
    "def get_stats(df, device='cpu'):\n",
    "    return torch.tensor(df.mean(axis=0).to_numpy(), device=device), torch.tensor(df.std(axis=0).to_numpy(), device=device)"
   ]
  },
  {
   "cell_type": "code",
   "execution_count": null,
   "id": "975601aa-1325-4ece-989c-0eb60a9d8d85",
   "metadata": {},
   "outputs": [],
   "source": [
    "#| export\n",
    "class NormalizeMasked(Transform):\n",
    "    \"Normalize/denorm MaskedTensor column-wise \"\n",
    "    @property\n",
    "    def name(self): return f\"{super().name} -- {getattr(self,'__stored_args__',{})}\"\n",
    "\n",
    "    def __init__(self, mean=None, std=None): store_attr()\n",
    "\n",
    "    def encodes(self, x:MaskedTensor)-> MaskedTensor:\n",
    "        return MaskedTensor((x.data -self.mean) / self.std, x.mask)\n",
    "\n",
    "    def decodes(self, x:MaskedTensor)->MaskedTensor:\n",
    "        f = to_cpu if x[0].device.type=='cpu' else noop\n",
    "        return MaskedTensor(x[0] * f(self.std) + f(self.mean), x[1])\n",
    "    \n",
    "    def decodes(self, x:NormalsParams):\n",
    "        print(\"decoding\")\n",
    "        f = partial(to_device, device=(x[0].device))\n",
    "        mean = x.mean * f(self.std) + f(self.mean)\n",
    "        std = x.std * f(self.std)\n",
    "        \n",
    "        return NormalsParams(mean, std)"
   ]
  },
  {
   "cell_type": "code",
   "execution_count": null,
   "id": "81c896b6-86c0-407b-8f4b-da4bdc366c27",
   "metadata": {},
   "outputs": [],
   "source": [
    "norm = NormalizeMasked(*get_stats(hai))"
   ]
  },
  {
   "cell_type": "code",
   "execution_count": null,
   "id": "7e8c0fab-da94-400f-8486-0253b05a6a96",
   "metadata": {},
   "outputs": [
    {
     "data": {
      "text/plain": [
       "__main__.MaskedTensor(data=tensor([[1.4650e+01, 4.6819e+02, 6.4540e+00],\n",
       "        [1.4220e+01, 2.2480e+02, 5.7990e+00],\n",
       "        [1.4110e+01, 1.9528e+02, 6.5770e+00],\n",
       "        [1.4230e+01, 2.4417e+02, 6.9310e+00],\n",
       "        [1.4400e+01, 2.5392e+02, 7.2860e+00],\n",
       "        [1.4090e+01, 1.7731e+02, 7.2510e+00],\n",
       "        [1.3710e+01, 9.7070e+01, 6.6830e+00],\n",
       "        [1.3080e+01, 3.9710e+01, 5.8510e+00],\n",
       "        [1.2410e+01, 1.0650e+01, 5.2540e+00],\n",
       "        [1.2270e+01, 3.2000e-01, 5.1640e+00]]), mask=tensor([[ True,  True,  True],\n",
       "        [ True,  True,  True],\n",
       "        [False, False,  True],\n",
       "        [False, False,  True],\n",
       "        [ True,  True,  True],\n",
       "        [ True,  True,  True],\n",
       "        [ True,  True,  True],\n",
       "        [ True,  True,  True],\n",
       "        [ True,  True,  True],\n",
       "        [ True,  True,  True]]))"
      ]
     },
     "execution_count": null,
     "metadata": {},
     "output_type": "execute_result"
    }
   ],
   "source": [
    "tfms3[0]"
   ]
  },
  {
   "cell_type": "code",
   "execution_count": null,
   "id": "bd4747c3-be04-483d-b9e4-730ec7912543",
   "metadata": {},
   "outputs": [],
   "source": [
    "test_close(norm.decode(norm(tfms3[0]))[0], tfms3[0][0], eps=2e-5)"
   ]
  },
  {
   "cell_type": "markdown",
   "id": "9c6f8385-7a2d-46b7-9f8b-a25f8833febf",
   "metadata": {},
   "source": [
    "Test that NormalsParams decode actually works"
   ]
  },
  {
   "cell_type": "code",
   "execution_count": null,
   "id": "cb935fb9-c3bb-456e-bcf4-12ad6f8f5933",
   "metadata": {},
   "outputs": [],
   "source": [
    "Npars = NormalsParams(torch.tensor(1), torch.tensor(.1))"
   ]
  },
  {
   "cell_type": "code",
   "execution_count": null,
   "id": "1b6737ba-596e-47cf-9f79-0c5a83ce6fe8",
   "metadata": {},
   "outputs": [
    {
     "name": "stdout",
     "output_type": "stream",
     "text": [
      "decoding\n"
     ]
    },
    {
     "data": {
      "text/plain": [
       "__main__.NormalsParams(mean=tensor([ 16.2585, 324.9604,   7.7491]), std=tensor([ 0.7925, 20.4003,  0.4368]))"
      ]
     },
     "execution_count": null,
     "metadata": {},
     "output_type": "execute_result"
    }
   ],
   "source": [
    "norm.decode(Npars)"
   ]
  },
  {
   "cell_type": "code",
   "execution_count": null,
   "id": "3ba86749-5fe4-49b6-8ca2-48c225d4cfcd",
   "metadata": {},
   "outputs": [],
   "source": [
    "tfms4 = TfmdLists([800,801,803], [BlockDfTransform(hai, 10), \n",
    "                           AddGapTransform(['TA','SW_IN'], 2),\n",
    "                           MaskedDf2Tensor(),\n",
    "                           NormalizeMasked(*get_stats(hai,device='cpu'), ) ])"
   ]
  },
  {
   "cell_type": "code",
   "execution_count": null,
   "id": "7ecb095d-5e4b-48c6-ad85-93396b8f42af",
   "metadata": {},
   "outputs": [
    {
     "data": {
      "text/plain": [
       "__main__.MaskedTensor(data=tensor([[ 0.7970,  1.7021,  0.7035],\n",
       "        [ 0.7428,  0.5090,  0.5536],\n",
       "        [ 0.7289,  0.3643,  0.7317],\n",
       "        [ 0.7440,  0.6040,  0.8127],\n",
       "        [ 0.7655,  0.6518,  0.8940],\n",
       "        [ 0.7264,  0.2762,  0.8860],\n",
       "        [ 0.6784, -0.1171,  0.7560],\n",
       "        [ 0.5989, -0.3983,  0.5655],\n",
       "        [ 0.5144, -0.5407,  0.4288],\n",
       "        [ 0.4967, -0.5914,  0.4082]]), mask=tensor([[ True,  True,  True],\n",
       "        [ True,  True,  True],\n",
       "        [ True,  True,  True],\n",
       "        [ True,  True,  True],\n",
       "        [False, False,  True],\n",
       "        [False, False,  True],\n",
       "        [ True,  True,  True],\n",
       "        [ True,  True,  True],\n",
       "        [ True,  True,  True],\n",
       "        [ True,  True,  True]]))"
      ]
     },
     "execution_count": null,
     "metadata": {},
     "output_type": "execute_result"
    }
   ],
   "source": [
    "tfms4[0]"
   ]
  },
  {
   "cell_type": "code",
   "execution_count": null,
   "id": "7f1d4c1d-65b1-4804-aa7e-7193cfadf4e1",
   "metadata": {},
   "outputs": [
    {
     "data": {
      "text/html": [
       "<p style='font-size: 1.5rem; font-decoration: bold'>Masked Df<p><div style=\"display: flex; column-gap: 20px; flex-wrap: wrap;\" class='table table-striped table-sm'> <div> <p style='font-size: 1.3rem;'>data</p> <style type=\"text/css\">\n",
       "</style>\n",
       "<table id=\"T_ae403\">\n",
       "  <thead>\n",
       "    <tr>\n",
       "      <th id=\"T_ae403_level0_col0\" class=\"col_heading level0 col0\" >TA</th>\n",
       "      <th id=\"T_ae403_level0_col1\" class=\"col_heading level0 col1\" >SW_IN</th>\n",
       "      <th id=\"T_ae403_level0_col2\" class=\"col_heading level0 col2\" >VPD</th>\n",
       "    </tr>\n",
       "  </thead>\n",
       "  <tbody>\n",
       "    <tr>\n",
       "      <td id=\"T_ae403_row0_col0\" class=\"data row0 col0\" >14.6500</td>\n",
       "      <td id=\"T_ae403_row0_col1\" class=\"data row0 col1\" >468.1900</td>\n",
       "      <td id=\"T_ae403_row0_col2\" class=\"data row0 col2\" >6.4540</td>\n",
       "    </tr>\n",
       "    <tr>\n",
       "      <td id=\"T_ae403_row1_col0\" class=\"data row1 col0\" >14.2200</td>\n",
       "      <td id=\"T_ae403_row1_col1\" class=\"data row1 col1\" >224.8000</td>\n",
       "      <td id=\"T_ae403_row1_col2\" class=\"data row1 col2\" >5.7990</td>\n",
       "    </tr>\n",
       "    <tr>\n",
       "      <td id=\"T_ae403_row2_col0\" class=\"data row2 col0\" >14.1100</td>\n",
       "      <td id=\"T_ae403_row2_col1\" class=\"data row2 col1\" >195.2800</td>\n",
       "      <td id=\"T_ae403_row2_col2\" class=\"data row2 col2\" >6.5770</td>\n",
       "    </tr>\n",
       "    <tr>\n",
       "      <td id=\"T_ae403_row3_col0\" class=\"data row3 col0\" >14.2300</td>\n",
       "      <td id=\"T_ae403_row3_col1\" class=\"data row3 col1\" >244.1700</td>\n",
       "      <td id=\"T_ae403_row3_col2\" class=\"data row3 col2\" >6.9310</td>\n",
       "    </tr>\n",
       "    <tr>\n",
       "      <td id=\"T_ae403_row4_col0\" class=\"data row4 col0\" >14.4000</td>\n",
       "      <td id=\"T_ae403_row4_col1\" class=\"data row4 col1\" >253.9200</td>\n",
       "      <td id=\"T_ae403_row4_col2\" class=\"data row4 col2\" >7.2860</td>\n",
       "    </tr>\n",
       "    <tr>\n",
       "      <td id=\"T_ae403_row5_col0\" class=\"data row5 col0\" >14.0900</td>\n",
       "      <td id=\"T_ae403_row5_col1\" class=\"data row5 col1\" >177.3100</td>\n",
       "      <td id=\"T_ae403_row5_col2\" class=\"data row5 col2\" >7.2510</td>\n",
       "    </tr>\n",
       "    <tr>\n",
       "      <td id=\"T_ae403_row6_col0\" class=\"data row6 col0\" >13.7100</td>\n",
       "      <td id=\"T_ae403_row6_col1\" class=\"data row6 col1\" >97.0700</td>\n",
       "      <td id=\"T_ae403_row6_col2\" class=\"data row6 col2\" >6.6830</td>\n",
       "    </tr>\n",
       "    <tr>\n",
       "      <td id=\"T_ae403_row7_col0\" class=\"data row7 col0\" >13.0800</td>\n",
       "      <td id=\"T_ae403_row7_col1\" class=\"data row7 col1\" >39.7100</td>\n",
       "      <td id=\"T_ae403_row7_col2\" class=\"data row7 col2\" >5.8510</td>\n",
       "    </tr>\n",
       "    <tr>\n",
       "      <td id=\"T_ae403_row8_col0\" class=\"data row8 col0\" >12.4100</td>\n",
       "      <td id=\"T_ae403_row8_col1\" class=\"data row8 col1\" >10.6500</td>\n",
       "      <td id=\"T_ae403_row8_col2\" class=\"data row8 col2\" >5.2540</td>\n",
       "    </tr>\n",
       "    <tr>\n",
       "      <td id=\"T_ae403_row9_col0\" class=\"data row9 col0\" >12.2700</td>\n",
       "      <td id=\"T_ae403_row9_col1\" class=\"data row9 col1\" >0.3200</td>\n",
       "      <td id=\"T_ae403_row9_col2\" class=\"data row9 col2\" >5.1640</td>\n",
       "    </tr>\n",
       "  </tbody>\n",
       "</table>\n",
       " </div><div> <p style='font-size: 1.3rem;'>mask</p> <style type=\"text/css\">\n",
       "</style>\n",
       "<table id=\"T_9f17f\">\n",
       "  <thead>\n",
       "    <tr>\n",
       "      <th id=\"T_9f17f_level0_col0\" class=\"col_heading level0 col0\" >TA</th>\n",
       "      <th id=\"T_9f17f_level0_col1\" class=\"col_heading level0 col1\" >SW_IN</th>\n",
       "      <th id=\"T_9f17f_level0_col2\" class=\"col_heading level0 col2\" >VPD</th>\n",
       "    </tr>\n",
       "  </thead>\n",
       "  <tbody>\n",
       "    <tr>\n",
       "      <td id=\"T_9f17f_row0_col0\" class=\"data row0 col0\" >True</td>\n",
       "      <td id=\"T_9f17f_row0_col1\" class=\"data row0 col1\" >True</td>\n",
       "      <td id=\"T_9f17f_row0_col2\" class=\"data row0 col2\" >True</td>\n",
       "    </tr>\n",
       "    <tr>\n",
       "      <td id=\"T_9f17f_row1_col0\" class=\"data row1 col0\" >True</td>\n",
       "      <td id=\"T_9f17f_row1_col1\" class=\"data row1 col1\" >True</td>\n",
       "      <td id=\"T_9f17f_row1_col2\" class=\"data row1 col2\" >True</td>\n",
       "    </tr>\n",
       "    <tr>\n",
       "      <td id=\"T_9f17f_row2_col0\" class=\"data row2 col0\" >True</td>\n",
       "      <td id=\"T_9f17f_row2_col1\" class=\"data row2 col1\" >True</td>\n",
       "      <td id=\"T_9f17f_row2_col2\" class=\"data row2 col2\" >True</td>\n",
       "    </tr>\n",
       "    <tr>\n",
       "      <td id=\"T_9f17f_row3_col0\" class=\"data row3 col0\" >True</td>\n",
       "      <td id=\"T_9f17f_row3_col1\" class=\"data row3 col1\" >True</td>\n",
       "      <td id=\"T_9f17f_row3_col2\" class=\"data row3 col2\" >True</td>\n",
       "    </tr>\n",
       "    <tr>\n",
       "      <td id=\"T_9f17f_row4_col0\" class=\"data row4 col0\" >True</td>\n",
       "      <td id=\"T_9f17f_row4_col1\" class=\"data row4 col1\" >True</td>\n",
       "      <td id=\"T_9f17f_row4_col2\" class=\"data row4 col2\" >True</td>\n",
       "    </tr>\n",
       "    <tr>\n",
       "      <td id=\"T_9f17f_row5_col0\" class=\"data row5 col0\" >True</td>\n",
       "      <td id=\"T_9f17f_row5_col1\" class=\"data row5 col1\" >True</td>\n",
       "      <td id=\"T_9f17f_row5_col2\" class=\"data row5 col2\" >True</td>\n",
       "    </tr>\n",
       "    <tr>\n",
       "      <td id=\"T_9f17f_row6_col0\" class=\"data row6 col0\" >False</td>\n",
       "      <td id=\"T_9f17f_row6_col1\" class=\"data row6 col1\" >False</td>\n",
       "      <td id=\"T_9f17f_row6_col2\" class=\"data row6 col2\" >True</td>\n",
       "    </tr>\n",
       "    <tr>\n",
       "      <td id=\"T_9f17f_row7_col0\" class=\"data row7 col0\" >False</td>\n",
       "      <td id=\"T_9f17f_row7_col1\" class=\"data row7 col1\" >False</td>\n",
       "      <td id=\"T_9f17f_row7_col2\" class=\"data row7 col2\" >True</td>\n",
       "    </tr>\n",
       "    <tr>\n",
       "      <td id=\"T_9f17f_row8_col0\" class=\"data row8 col0\" >True</td>\n",
       "      <td id=\"T_9f17f_row8_col1\" class=\"data row8 col1\" >True</td>\n",
       "      <td id=\"T_9f17f_row8_col2\" class=\"data row8 col2\" >True</td>\n",
       "    </tr>\n",
       "    <tr>\n",
       "      <td id=\"T_9f17f_row9_col0\" class=\"data row9 col0\" >True</td>\n",
       "      <td id=\"T_9f17f_row9_col1\" class=\"data row9 col1\" >True</td>\n",
       "      <td id=\"T_9f17f_row9_col2\" class=\"data row9 col2\" >True</td>\n",
       "    </tr>\n",
       "  </tbody>\n",
       "</table>\n",
       " </div></div>"
      ],
      "text/plain": [
       "__main__.MaskedDf(data=      TA       SW_IN    VPD\n",
       "0  14.65  468.190002  6.454\n",
       "1  14.22  224.800003  5.799\n",
       "2  14.11  195.279999  6.577\n",
       "3  14.23  244.170013  6.931\n",
       "4  14.40  253.920013  7.286\n",
       "5  14.09  177.309998  7.251\n",
       "6  13.71   97.070000  6.683\n",
       "7  13.08   39.709999  5.851\n",
       "8  12.41   10.650002  5.254\n",
       "9  12.27    0.320007  5.164, mask=      TA  SW_IN   VPD\n",
       "0   True   True  True\n",
       "1   True   True  True\n",
       "2   True   True  True\n",
       "3   True   True  True\n",
       "4   True   True  True\n",
       "5   True   True  True\n",
       "6  False  False  True\n",
       "7  False  False  True\n",
       "8   True   True  True\n",
       "9   True   True  True)"
      ]
     },
     "execution_count": null,
     "metadata": {},
     "output_type": "execute_result"
    }
   ],
   "source": [
    "tfms4.decode(tfms4[0])"
   ]
  },
  {
   "cell_type": "markdown",
   "id": "996ccbf6-0e81-4fd5-97ff-9ee2ab8eb42d",
   "metadata": {},
   "source": [
    "is workinggggggggggggggggg "
   ]
  },
  {
   "cell_type": "markdown",
   "id": "b0054d0c-1aba-4d7e-8bca-be55853b4388",
   "metadata": {},
   "source": [
    "### 5) To Tuple"
   ]
  },
  {
   "cell_type": "markdown",
   "id": "9e74011f-f689-4f39-8e9d-ec88e0487928",
   "metadata": {},
   "source": [
    "Fastai likes to work with tuples ... for now convert to a tuple. Should add a decode step and maybe find a way to mimic a tuple in MaskedTensor"
   ]
  },
  {
   "cell_type": "code",
   "execution_count": null,
   "id": "d1c3ff30-1e9e-4d83-a6ea-66df2924e04a",
   "metadata": {},
   "outputs": [],
   "source": [
    "def to_tuple(x):\n",
    "    return tuple(x)"
   ]
  },
  {
   "cell_type": "markdown",
   "id": "81077302-18db-4010-9c88-ae8d48216353",
   "metadata": {},
   "source": [
    "### Pipeline"
   ]
  },
  {
   "cell_type": "code",
   "execution_count": null,
   "id": "0ad384f0-7912-4d40-9631-1e6e5294fb9f",
   "metadata": {},
   "outputs": [],
   "source": [
    "#| export\n",
    "from fastai.data.transforms import *"
   ]
  },
  {
   "cell_type": "code",
   "execution_count": null,
   "id": "5c19d0b5-b78c-4a5f-a606-8a1cfe832e8d",
   "metadata": {},
   "outputs": [],
   "source": [
    "block_len = 10\n",
    "block_ids = list(range(0, (len(hai) // block_len) - 1))[:10]\n",
    "gap_len = 2"
   ]
  },
  {
   "cell_type": "code",
   "execution_count": null,
   "id": "9a7a2fc4-fa0d-4b22-b7ca-65feed7ffcdc",
   "metadata": {},
   "outputs": [],
   "source": [
    "#| export\n",
    "def imp_pipeline(df,\n",
    "                 block_len,\n",
    "                 gap_len\n",
    "                ):\n",
    "    block_ids = list(range(0, (len(df) // block_len) - 1))\n",
    "    return [BlockDfTransform(df, block_len),\n",
    "            AddGapTransform(['TA','SW_IN'], gap_len),\n",
    "            MaskedDf2Tensor,\n",
    "            NormalizeMasked(*get_stats(df)),\n",
    "            to_tuple\n",
    "           ], block_ids"
   ]
  },
  {
   "cell_type": "code",
   "execution_count": null,
   "id": "ae7c4bad-445a-4e2a-9d30-e0160106b678",
   "metadata": {},
   "outputs": [],
   "source": [
    "pipeline, block_ids = imp_pipeline(hai, block_len, gap_len)"
   ]
  },
  {
   "cell_type": "code",
   "execution_count": null,
   "id": "569ade0e-fb29-4929-9106-3ac010ce5db0",
   "metadata": {},
   "outputs": [
    {
     "data": {
      "text/plain": [
       "[BlockDfTransform:\n",
       " encodes: (int,object) -> encodes\n",
       " decodes: ,\n",
       " AddGapTransform:\n",
       " encodes: (DataFrame,object) -> encodes\n",
       " decodes: ,\n",
       " __main__.MaskedDf2Tensor,\n",
       " NormalizeMasked -- {'mean': tensor([  8.3339, 120.9578,   3.3807]), 'std': tensor([  7.9246, 204.0026,   4.3684])}:\n",
       " encodes: (MaskedTensor,object) -> encodes\n",
       " decodes: (MaskedTensor,object) -> decodes\n",
       " (NormalsParams,object) -> decodes,\n",
       " <function __main__.to_tuple(x)>]"
      ]
     },
     "execution_count": null,
     "metadata": {},
     "output_type": "execute_result"
    }
   ],
   "source": [
    "pipeline"
   ]
  },
  {
   "cell_type": "code",
   "execution_count": null,
   "id": "5cc0fa4f-801d-4d04-a3a7-7012d11e3709",
   "metadata": {},
   "outputs": [],
   "source": [
    "pp = Pipeline(pipeline)"
   ]
  },
  {
   "cell_type": "code",
   "execution_count": null,
   "id": "7b7be91d-d0d2-4b85-9ab5-ece0cbaf6616",
   "metadata": {},
   "outputs": [
    {
     "data": {
      "text/plain": [
       "Pipeline: BlockDfTransform -> AddGapTransform -> MaskedDf2Tensor -> NormalizeMasked -- {'mean': tensor([  8.3339, 120.9578,   3.3807]), 'std': tensor([  7.9246, 204.0026,   4.3684])} -> to_tuple"
      ]
     },
     "execution_count": null,
     "metadata": {},
     "output_type": "execute_result"
    }
   ],
   "source": [
    "pp"
   ]
  },
  {
   "cell_type": "markdown",
   "id": "df9f46c5-7664-492e-8baa-62ed741033e1",
   "metadata": {},
   "source": [
    "### Dataloader"
   ]
  },
  {
   "cell_type": "markdown",
   "id": "b71760f8-6b1f-45be-a804-756a3946a585",
   "metadata": {},
   "source": [
    "random splitter for validation/training set"
   ]
  },
  {
   "cell_type": "code",
   "execution_count": null,
   "id": "322140fc-b896-4e38-b244-dc8525438cfa",
   "metadata": {},
   "outputs": [],
   "source": [
    "reset_seed()"
   ]
  },
  {
   "cell_type": "code",
   "execution_count": null,
   "id": "4aefcbc5-7675-4da8-9fa8-53efd933a5ce",
   "metadata": {},
   "outputs": [],
   "source": [
    "splits = RandomSplitter()(block_ids)"
   ]
  },
  {
   "cell_type": "markdown",
   "id": "ea416657-bd6b-4bd0-9970-1aee94d0b5ea",
   "metadata": {},
   "source": [
    "Repeat twice the pipeline since is the same pipeline both for training data and for labels"
   ]
  },
  {
   "cell_type": "code",
   "execution_count": null,
   "id": "2a2aea15-e568-42df-b1aa-2e72727ead1f",
   "metadata": {},
   "outputs": [],
   "source": [
    "import collections"
   ]
  },
  {
   "cell_type": "code",
   "execution_count": null,
   "id": "ef748c7f-4030-4269-b078-57834442914c",
   "metadata": {},
   "outputs": [],
   "source": [
    "def to_tuple(x):\n",
    "    return tuple(x)"
   ]
  },
  {
   "cell_type": "code",
   "execution_count": null,
   "id": "f610af8b-0ee6-41f4-8387-d5c46754de9c",
   "metadata": {},
   "outputs": [
    {
     "data": {
      "text/plain": [
       "True"
      ]
     },
     "execution_count": null,
     "metadata": {},
     "output_type": "execute_result"
    }
   ],
   "source": [
    "isinstance(tfms4[0], Sequence)"
   ]
  },
  {
   "cell_type": "code",
   "execution_count": null,
   "id": "a367a12b-df12-422d-9eb4-877eaafafc94",
   "metadata": {},
   "outputs": [],
   "source": [
    "ds = Datasets(block_ids, [pipeline, pipeline], splits=splits)"
   ]
  },
  {
   "cell_type": "code",
   "execution_count": null,
   "id": "f6d45118-0145-44ea-a796-a659ed93baa9",
   "metadata": {},
   "outputs": [],
   "source": [
    "dls = ds.dataloaders(bs=1)"
   ]
  },
  {
   "cell_type": "code",
   "execution_count": null,
   "id": "f1ee5a56-067d-4383-9f20-e0c4bc78d4ca",
   "metadata": {},
   "outputs": [
    {
     "data": {
      "text/plain": [
       "device(type='cuda', index=0)"
      ]
     },
     "execution_count": null,
     "metadata": {},
     "output_type": "execute_result"
    }
   ],
   "source": [
    "dls.device"
   ]
  },
  {
   "cell_type": "code",
   "execution_count": null,
   "id": "a7205642-c9ef-4e44-b273-262177d54e2f",
   "metadata": {},
   "outputs": [
    {
     "data": {
      "text/plain": [
       "((tensor([[[ 0.7869, -0.2606, -0.4500],\n",
       "           [ 0.8576,  0.0989, -0.4088],\n",
       "           [ 0.8702, -0.4311, -0.3669],\n",
       "           [ 0.9825, -0.4901, -0.0116],\n",
       "           [ 0.9043, -0.5859, -0.2657],\n",
       "           [ 0.8286, -0.5929, -0.4557],\n",
       "           [ 0.7920, -0.5929, -0.5367],\n",
       "           [ 0.7794, -0.5929, -0.5686],\n",
       "           [ 0.7718, -0.5929, -0.5656],\n",
       "           [ 0.7617, -0.5929, -0.5853]]], device='cuda:0'),\n",
       "  tensor([[[False, False,  True],\n",
       "           [False, False,  True],\n",
       "           [ True,  True,  True],\n",
       "           [ True,  True,  True],\n",
       "           [ True,  True,  True],\n",
       "           [ True,  True,  True],\n",
       "           [ True,  True,  True],\n",
       "           [ True,  True,  True],\n",
       "           [ True,  True,  True],\n",
       "           [ True,  True,  True]]], device='cuda:0')),\n",
       " (tensor([[[ 0.7869, -0.2606, -0.4500],\n",
       "           [ 0.8576,  0.0989, -0.4088],\n",
       "           [ 0.8702, -0.4311, -0.3669],\n",
       "           [ 0.9825, -0.4901, -0.0116],\n",
       "           [ 0.9043, -0.5859, -0.2657],\n",
       "           [ 0.8286, -0.5929, -0.4557],\n",
       "           [ 0.7920, -0.5929, -0.5367],\n",
       "           [ 0.7794, -0.5929, -0.5686],\n",
       "           [ 0.7718, -0.5929, -0.5656],\n",
       "           [ 0.7617, -0.5929, -0.5853]]], device='cuda:0'),\n",
       "  tensor([[[ True,  True,  True],\n",
       "           [False, False,  True],\n",
       "           [False, False,  True],\n",
       "           [ True,  True,  True],\n",
       "           [ True,  True,  True],\n",
       "           [ True,  True,  True],\n",
       "           [ True,  True,  True],\n",
       "           [ True,  True,  True],\n",
       "           [ True,  True,  True],\n",
       "           [ True,  True,  True]]], device='cuda:0')))"
      ]
     },
     "execution_count": null,
     "metadata": {},
     "output_type": "execute_result"
    }
   ],
   "source": [
    "dls.one_batch()"
   ]
  },
  {
   "cell_type": "code",
   "execution_count": null,
   "id": "2223f2ba-79e9-4a58-87ae-a848e8a779a7",
   "metadata": {},
   "outputs": [],
   "source": [
    "@typedispatch\n",
    "def show_batch(x: MaskedDf, y, samples, ctxs=None, max_n=6):\n",
    "    return x"
   ]
  },
  {
   "cell_type": "code",
   "execution_count": null,
   "id": "f81d21cf-c3c3-4926-bb64-067b9928a0b2",
   "metadata": {},
   "outputs": [],
   "source": [
    "# dls.show_batch()"
   ]
  },
  {
   "cell_type": "code",
   "execution_count": null,
   "id": "6bbdab5e-2970-4326-99de-1d1cbdd1b9fa",
   "metadata": {},
   "outputs": [
    {
     "data": {
      "text/plain": [
       "{tuple: [{tuple: [torch.Tensor, torch.Tensor]},\n",
       "  {tuple: [torch.Tensor, torch.Tensor]}]}"
      ]
     },
     "execution_count": null,
     "metadata": {},
     "output_type": "execute_result"
    }
   ],
   "source": [
    "dls._types"
   ]
  },
  {
   "cell_type": "code",
   "execution_count": null,
   "id": "b42bde9b-5c83-42b5-8f35-8de14472c41e",
   "metadata": {},
   "outputs": [
    {
     "data": {
      "text/plain": [
       "fastai.data.core.Datasets"
      ]
     },
     "execution_count": null,
     "metadata": {},
     "output_type": "execute_result"
    }
   ],
   "source": [
    "Datasets"
   ]
  },
  {
   "cell_type": "code",
   "execution_count": null,
   "id": "9ec4f71f-607e-476e-a89e-8d6f2b8bcc19",
   "metadata": {},
   "outputs": [],
   "source": [
    "#| export\n",
    "def make_dataloader(df, block_len, gap_len, bs=10):\n",
    "    pipeline, block_ids = imp_pipeline(df, block_len, gap_len)\n",
    "    \n",
    "    splits = RandomSplitter()(block_ids)\n",
    "    ds = Datasets(block_ids, [pipeline, pipeline], splits=splits)\n",
    "    \n",
    "    return ds.dataloaders(bs=bs)\n",
    "    "
   ]
  },
  {
   "cell_type": "code",
   "execution_count": null,
   "id": "cb1df190-83ba-4056-be7f-82d364e2dc87",
   "metadata": {},
   "outputs": [],
   "source": [
    "dls = make_dataloader(hai, 200, 10)"
   ]
  },
  {
   "cell_type": "code",
   "execution_count": null,
   "id": "3024300b-3f82-436d-ac6d-13ff7861dbf7",
   "metadata": {},
   "outputs": [
    {
     "data": {
      "text/plain": [
       "torch.Size([10, 200, 3])"
      ]
     },
     "execution_count": null,
     "metadata": {},
     "output_type": "execute_result"
    }
   ],
   "source": [
    "dls.one_batch()[0][0].shape"
   ]
  },
  {
   "cell_type": "code",
   "execution_count": null,
   "id": "1a7c86d2-e054-4dd4-89c9-26165e558390",
   "metadata": {},
   "outputs": [],
   "source": [
    "dls = dls.cpu()"
   ]
  },
  {
   "cell_type": "markdown",
   "id": "64bb7e8b-178d-4ab6-a359-5bcc010a8767",
   "metadata": {},
   "source": [
    "## Model"
   ]
  },
  {
   "cell_type": "markdown",
   "id": "e4e0999c-d959-49fa-8e8a-0ed8e53f2f5d",
   "metadata": {},
   "source": [
    "### Forward Function"
   ]
  },
  {
   "cell_type": "markdown",
   "id": "dc64e0a2-b14b-4159-af4f-c6a9fb2a3f05",
   "metadata": {},
   "source": [
    "in order to the a pytorch module we need a forward method to the kalman filter"
   ]
  },
  {
   "cell_type": "code",
   "execution_count": null,
   "id": "42d40fc6-7b8d-4e9c-9f14-70ea54629826",
   "metadata": {},
   "outputs": [],
   "source": [
    "#| export\n",
    "from meteo_imp.kalman.filter import *\n",
    "from torch.distributions import MultivariateNormal"
   ]
  },
  {
   "cell_type": "code",
   "execution_count": null,
   "id": "0ebded29-5194-4ca4-808a-fe115d705495",
   "metadata": {},
   "outputs": [],
   "source": [
    "#| export\n",
    "@patch\n",
    "def _predict_filter(self: KalmanFilter, data, mask):\n",
    "    \"\"\"Predict every obsevation using only the filter step\"\"\"\n",
    "    # use the predicted state not the filtered state!\n",
    "    obs, mask = self._parse_obs(data, mask)\n",
    "    pred_state_mean, pred_state_cov, _, _ = self._filter_all(obs, mask)\n",
    "    mean, cov = self._obs_from_state(ListMNormal(pred_state_mean.squeeze(-1), pred_state_cov))\n",
    "    \n",
    "    return ListNormal(mean, cov2std(cov))"
   ]
  },
  {
   "cell_type": "code",
   "execution_count": null,
   "id": "634980aa-b323-45cc-b2a3-bdd0ee95a4a9",
   "metadata": {},
   "outputs": [],
   "source": [
    "model = KalmanFilter.init_simple(n_dim = hai.shape[-1])"
   ]
  },
  {
   "cell_type": "code",
   "execution_count": null,
   "id": "cbbc44e6-3b50-4972-80b0-b3ff7b8e44b4",
   "metadata": {},
   "outputs": [],
   "source": [
    "model._predict_filter(*dls.one_batch()[0]);"
   ]
  },
  {
   "cell_type": "code",
   "execution_count": null,
   "id": "737a9f2a-ce54-42a3-8490-acb988138ed4",
   "metadata": {},
   "outputs": [],
   "source": [
    "#| export\n",
    "@patch\n",
    "def forward(self: KalmanFilter, masked_data: MaskedTensor):\n",
    "    data, mask = masked_data\n",
    "    assert not data.isnan().any()\n",
    "    use_smooth = self.use_smooth if hasattr(self, 'use_smooth') else True\n",
    "    \n",
    "    mean, std = (self.predict(obs=data, mask=mask, smooth=True) if use_smooth\n",
    "                        else self._predict_filter(data, mask))\n",
    "    return NormalsParams(mean, std) # to have fastai working this needs to be a tuple subclass"
   ]
  },
  {
   "cell_type": "code",
   "execution_count": null,
   "id": "f7ebde2f-19aa-4860-b665-b13865111506",
   "metadata": {},
   "outputs": [],
   "source": [
    "input = dls.one_batch()[0]\n",
    "target = dls.one_batch()[1]"
   ]
  },
  {
   "cell_type": "code",
   "execution_count": null,
   "id": "2d34397d-7720-4127-83d1-f5137c94af46",
   "metadata": {},
   "outputs": [
    {
     "data": {
      "text/plain": [
       "OrderedDict([('trans_matrix',\n",
       "              tensor([[1., 0., 0.],\n",
       "                      [0., 1., 0.],\n",
       "                      [0., 0., 1.]])),\n",
       "             ('trans_off', tensor([0., 0., 0.])),\n",
       "             ('trans_cov_raw',\n",
       "              tensor([[1., 0., 0.],\n",
       "                      [0., 1., 0.],\n",
       "                      [0., 0., 1.]])),\n",
       "             ('obs_matrix',\n",
       "              tensor([[1., 0., 0.],\n",
       "                      [0., 1., 0.],\n",
       "                      [0., 0., 1.]])),\n",
       "             ('obs_off', tensor([0., 0., 0.])),\n",
       "             ('obs_cov_raw',\n",
       "              tensor([[1., 0., 0.],\n",
       "                      [0., 1., 0.],\n",
       "                      [0., 0., 1.]])),\n",
       "             ('init_state_mean', tensor([0., 0., 0.])),\n",
       "             ('init_state_cov_raw',\n",
       "              tensor([[1., 0., 0.],\n",
       "                      [0., 1., 0.],\n",
       "                      [0., 0., 1.]]))])"
      ]
     },
     "execution_count": null,
     "metadata": {},
     "output_type": "execute_result"
    }
   ],
   "source": [
    "model.state_dict()"
   ]
  },
  {
   "cell_type": "code",
   "execution_count": null,
   "id": "5696c62a-e455-4d86-9f10-e00ea93671ac",
   "metadata": {},
   "outputs": [
    {
     "data": {
      "text/plain": [
       "torch.Size([200, 3])"
      ]
     },
     "execution_count": null,
     "metadata": {},
     "output_type": "execute_result"
    }
   ],
   "source": [
    "data = input[0][0]\n",
    "data.shape"
   ]
  },
  {
   "cell_type": "code",
   "execution_count": null,
   "id": "9d1bdfc9-2fa3-4627-94d8-0a9dda444203",
   "metadata": {},
   "outputs": [],
   "source": [
    "mask = input[1][0]"
   ]
  },
  {
   "cell_type": "code",
   "execution_count": null,
   "id": "ec17c709-bfaa-4a0e-a45d-c067671a809c",
   "metadata": {},
   "outputs": [
    {
     "data": {
      "text/plain": [
       "torch.Size([200, 3])"
      ]
     },
     "execution_count": null,
     "metadata": {},
     "output_type": "execute_result"
    }
   ],
   "source": [
    "mask.shape"
   ]
  },
  {
   "cell_type": "code",
   "execution_count": null,
   "id": "26934279-9c81-447b-8506-01b5abd7b72a",
   "metadata": {},
   "outputs": [
    {
     "data": {
      "text/plain": [
       "device(type='cpu')"
      ]
     },
     "execution_count": null,
     "metadata": {},
     "output_type": "execute_result"
    }
   ],
   "source": [
    "data.device"
   ]
  },
  {
   "cell_type": "code",
   "execution_count": null,
   "id": "83e3bbd9-8e03-440a-b13b-8b6aba7ba341",
   "metadata": {},
   "outputs": [
    {
     "data": {
      "text/plain": [
       "torch.device"
      ]
     },
     "execution_count": null,
     "metadata": {},
     "output_type": "execute_result"
    }
   ],
   "source": [
    "torch.device"
   ]
  },
  {
   "cell_type": "code",
   "execution_count": null,
   "id": "3b6b1ed8-048a-4755-8201-57eec8654cdb",
   "metadata": {},
   "outputs": [
    {
     "data": {
      "text/plain": [
       "(torch.Size([200, 3]), torch.Size([200, 3]))"
      ]
     },
     "execution_count": null,
     "metadata": {},
     "output_type": "execute_result"
    }
   ],
   "source": [
    "data.shape, mask.shape"
   ]
  },
  {
   "cell_type": "code",
   "execution_count": null,
   "id": "d3ba1aa7-ef52-4a85-b0c4-3763d621eb70",
   "metadata": {},
   "outputs": [],
   "source": [
    "model.predict(data, mask);"
   ]
  },
  {
   "cell_type": "code",
   "execution_count": null,
   "id": "9ef72fbc-cdef-4146-b294-8fd261c0e2c4",
   "metadata": {},
   "outputs": [],
   "source": [
    "model.use_smooth = True"
   ]
  },
  {
   "cell_type": "code",
   "execution_count": null,
   "id": "5d690cd5-44a1-45d6-9abb-ef4fb0a62314",
   "metadata": {},
   "outputs": [],
   "source": [
    "pred = model(input)"
   ]
  },
  {
   "cell_type": "code",
   "execution_count": null,
   "id": "a7bc7df7-effd-41b0-bb90-6beaa874d1e1",
   "metadata": {},
   "outputs": [
    {
     "data": {
      "text/plain": [
       "torch.Size([10, 200, 3])"
      ]
     },
     "execution_count": null,
     "metadata": {},
     "output_type": "execute_result"
    }
   ],
   "source": [
    "pred[0].shape"
   ]
  },
  {
   "cell_type": "code",
   "execution_count": null,
   "id": "ed03f415-567f-47ab-b019-b7291cee03f0",
   "metadata": {},
   "outputs": [
    {
     "data": {
      "text/plain": [
       "torch.Size([10, 200, 3])"
      ]
     },
     "execution_count": null,
     "metadata": {},
     "output_type": "execute_result"
    }
   ],
   "source": [
    "pred[1].shape"
   ]
  },
  {
   "cell_type": "code",
   "execution_count": null,
   "id": "856e7d79-e0ab-4562-aa6b-bbb68e3928d0",
   "metadata": {},
   "outputs": [],
   "source": [
    "model.use_smooth = False"
   ]
  },
  {
   "cell_type": "code",
   "execution_count": null,
   "id": "f804c6a9-34d6-48de-a5fe-c99142f5c7d5",
   "metadata": {},
   "outputs": [],
   "source": [
    "pred_filt = model(input)"
   ]
  },
  {
   "cell_type": "code",
   "execution_count": null,
   "id": "844f78fa-d55b-42c7-a46d-28831f712e94",
   "metadata": {},
   "outputs": [
    {
     "data": {
      "text/plain": [
       "torch.Size([10, 200, 3])"
      ]
     },
     "execution_count": null,
     "metadata": {},
     "output_type": "execute_result"
    }
   ],
   "source": [
    "pred_filt[1].shape"
   ]
  },
  {
   "cell_type": "code",
   "execution_count": null,
   "id": "5e89cd79-45ce-44dc-b5e1-f46e120e9a13",
   "metadata": {},
   "outputs": [
    {
     "data": {
      "text/plain": [
       "__main__.NormalsParams(mean=tensor([[[-0.0823, -0.0877, -0.4107],\n",
       "         [-0.0963,  0.0131, -0.5504],\n",
       "         [-0.0887,  0.1950, -0.5828],\n",
       "         ...,\n",
       "         [ 0.4090,  2.7141,  0.3547],\n",
       "         [ 0.4871,  3.0159,  0.5083],\n",
       "         [ 0.5392,  3.0718,  0.6512]],\n",
       "\n",
       "        [[-0.5066, -0.1224, -0.3928],\n",
       "         [-0.6953, -0.0966, -0.5470],\n",
       "         [-0.7637, -0.0231, -0.6088],\n",
       "         ...,\n",
       "         [-0.4738,  0.5079, -0.3268],\n",
       "         [-0.4589,  0.5540, -0.3147],\n",
       "         [-0.4455,  0.5257, -0.3078]],\n",
       "\n",
       "        [[-0.1031, -0.0832, -0.0105],\n",
       "         [-0.1309,  0.1104, -0.0090],\n",
       "         [-0.0973,  0.5301,  0.0344],\n",
       "         ...,\n",
       "         [-0.5122, -0.2669, -0.5620],\n",
       "         [-0.4926, -0.2394, -0.5387],\n",
       "         [-0.4832, -0.2535, -0.5367]],\n",
       "\n",
       "        ...,\n",
       "\n",
       "        [[ 0.0852,  0.3574, -0.2978],\n",
       "         [ 0.1487,  0.5134, -0.3731],\n",
       "         [ 0.1835,  0.3665, -0.3654],\n",
       "         ...,\n",
       "         [ 1.1900,  1.7879,  1.2618],\n",
       "         [ 1.1581,  1.0269,  1.1978],\n",
       "         [ 1.1265,  0.6337,  1.1039]],\n",
       "\n",
       "        [[ 0.9713,  0.6738,  0.5463],\n",
       "         [ 1.3358,  0.6201,  0.7361],\n",
       "         [ 1.4745,  0.5064,  0.8249],\n",
       "         ...,\n",
       "         [ 1.8752, -0.1820,  0.8406],\n",
       "         [ 1.8143, -0.3740,  0.7868],\n",
       "         [ 1.7511, -0.4803,  0.7657]],\n",
       "\n",
       "        [[ 0.6898, -0.3664, -0.3398],\n",
       "         [ 0.9367, -0.5063, -0.4659],\n",
       "         [ 0.9825, -0.5595, -0.5982],\n",
       "         ...,\n",
       "         [ 0.9661, -0.5926, -0.7476],\n",
       "         [ 0.9305, -0.5921, -0.7617],\n",
       "         [ 0.9111, -0.5908, -0.7678]]], grad_fn=<SqueezeBackward1>), std=tensor([[[1.1756, 1.1756, 1.1756],\n",
       "         [1.1990, 1.1990, 1.1990],\n",
       "         [1.2024, 1.2024, 1.2024],\n",
       "         ...,\n",
       "         [1.2045, 1.2045, 1.2045],\n",
       "         [1.2133, 1.2133, 1.2133],\n",
       "         [1.2720, 1.2720, 1.2720]],\n",
       "\n",
       "        [[1.1756, 1.1756, 1.1756],\n",
       "         [1.1990, 1.1990, 1.1990],\n",
       "         [1.2024, 1.2024, 1.2024],\n",
       "         ...,\n",
       "         [1.2045, 1.2045, 1.2045],\n",
       "         [1.2133, 1.2133, 1.2133],\n",
       "         [1.2720, 1.2720, 1.2720]],\n",
       "\n",
       "        [[1.1756, 1.1756, 1.1756],\n",
       "         [1.1990, 1.1990, 1.1990],\n",
       "         [1.2024, 1.2024, 1.2024],\n",
       "         ...,\n",
       "         [1.2045, 1.2045, 1.2045],\n",
       "         [1.2133, 1.2133, 1.2133],\n",
       "         [1.2720, 1.2720, 1.2720]],\n",
       "\n",
       "        ...,\n",
       "\n",
       "        [[1.1756, 1.1756, 1.1756],\n",
       "         [1.1990, 1.1990, 1.1990],\n",
       "         [1.2024, 1.2024, 1.2024],\n",
       "         ...,\n",
       "         [1.2045, 1.2045, 1.2045],\n",
       "         [1.2133, 1.2133, 1.2133],\n",
       "         [1.2720, 1.2720, 1.2720]],\n",
       "\n",
       "        [[1.1756, 1.1756, 1.1756],\n",
       "         [1.1990, 1.1990, 1.1990],\n",
       "         [1.2024, 1.2024, 1.2024],\n",
       "         ...,\n",
       "         [1.2045, 1.2045, 1.2045],\n",
       "         [1.2133, 1.2133, 1.2133],\n",
       "         [1.2720, 1.2720, 1.2720]],\n",
       "\n",
       "        [[1.1756, 1.1756, 1.1756],\n",
       "         [1.1990, 1.1990, 1.1990],\n",
       "         [1.2024, 1.2024, 1.2024],\n",
       "         ...,\n",
       "         [1.2045, 1.2045, 1.2045],\n",
       "         [1.2133, 1.2133, 1.2133],\n",
       "         [1.2720, 1.2720, 1.2720]]], grad_fn=<SqrtBackward0>))"
      ]
     },
     "execution_count": null,
     "metadata": {},
     "output_type": "execute_result"
    }
   ],
   "source": [
    "pred"
   ]
  },
  {
   "cell_type": "code",
   "execution_count": null,
   "id": "85d82759-dae4-4d48-a213-150c8fa3d8f2",
   "metadata": {},
   "outputs": [
    {
     "data": {
      "text/plain": [
       "(__main__.NormalsParams, __main__.NormalsParams)"
      ]
     },
     "execution_count": null,
     "metadata": {},
     "output_type": "execute_result"
    }
   ],
   "source": [
    "type(pred), type(pred_filt)"
   ]
  },
  {
   "cell_type": "code",
   "execution_count": null,
   "id": "65bab279-dc65-4259-bd1f-39b5c6028cb8",
   "metadata": {},
   "outputs": [],
   "source": [
    "test_ne(pred, pred_filt)"
   ]
  },
  {
   "cell_type": "markdown",
   "id": "2051bf57-a2e3-4232-861b-fafe814b1825",
   "metadata": {},
   "source": [
    "### Loss Function"
   ]
  },
  {
   "cell_type": "markdown",
   "id": "6e75817f-2abb-4e9f-b54a-edb7ea33dc1b",
   "metadata": {},
   "source": [
    "add support for complete loss (also outside gap) and for filter loss (don't run the smooher)"
   ]
  },
  {
   "cell_type": "markdown",
   "id": "c793e684-8ce9-4393-af4d-0268f3710b7a",
   "metadata": {},
   "source": [
    "There are two ways to compute the loss, one is to do it for all predictions the other is for doing it for only the gap\n",
    "- only_gap"
   ]
  },
  {
   "cell_type": "markdown",
   "id": "2b04cee3-9086-41cb-ac08-6b908626c587",
   "metadata": {},
   "source": [
    "Play around with flatting + diagonal"
   ]
  },
  {
   "cell_type": "code",
   "execution_count": null,
   "id": "559fc5e0-3554-4efa-89a7-08a6dd44f310",
   "metadata": {},
   "outputs": [
    {
     "data": {
      "text/plain": [
       "tensor([[[ 1,  0,  0],\n",
       "         [ 0,  2,  0],\n",
       "         [ 0,  0,  3]],\n",
       "\n",
       "        [[10,  0,  0],\n",
       "         [ 0, 20,  0],\n",
       "         [ 0,  0, 30]]])"
      ]
     },
     "execution_count": null,
     "metadata": {},
     "output_type": "execute_result"
    }
   ],
   "source": [
    "a = torch.diag(torch.tensor([1,2,3]))\n",
    "d = torch.stack([a, a*10])\n",
    "m = torch.stack([a.diag(), a.diag()*10])\n",
    "d"
   ]
  },
  {
   "cell_type": "code",
   "execution_count": null,
   "id": "773c90fa-3672-43a5-b7bf-2de9b068ebe3",
   "metadata": {},
   "outputs": [
    {
     "data": {
      "text/plain": [
       "tensor([ 1,  2,  3, 10, 20, 30])"
      ]
     },
     "execution_count": null,
     "metadata": {},
     "output_type": "execute_result"
    }
   ],
   "source": [
    "m.flatten()"
   ]
  },
  {
   "cell_type": "code",
   "execution_count": null,
   "id": "c5851886-313c-4eac-87a4-4684ff9c438f",
   "metadata": {},
   "outputs": [
    {
     "data": {
      "text/plain": [
       "tensor([[[ 1,  0,  0],\n",
       "         [ 0,  2,  0],\n",
       "         [ 0,  0,  3]],\n",
       "\n",
       "        [[10,  0,  0],\n",
       "         [ 0, 20,  0],\n",
       "         [ 0,  0, 30]]])"
      ]
     },
     "execution_count": null,
     "metadata": {},
     "output_type": "execute_result"
    }
   ],
   "source": [
    "d"
   ]
  },
  {
   "cell_type": "code",
   "execution_count": null,
   "id": "72af60ed-b471-47f3-90be-2be51eb18bb0",
   "metadata": {},
   "outputs": [
    {
     "data": {
      "text/plain": [
       "tensor([ 1,  2,  3, 10, 20, 30])"
      ]
     },
     "execution_count": null,
     "metadata": {},
     "output_type": "execute_result"
    }
   ],
   "source": [
    "torch.diagonal(d, dim1=1, dim2=2).flatten()"
   ]
  },
  {
   "cell_type": "code",
   "execution_count": null,
   "id": "09c58fef-a8d8-48b1-a837-335a67158ed4",
   "metadata": {},
   "outputs": [],
   "source": [
    "means, stds = pred\n",
    "data, mask = target"
   ]
  },
  {
   "cell_type": "code",
   "execution_count": null,
   "id": "5a6bd159-499d-42b3-a8b2-9e54c98a8659",
   "metadata": {},
   "outputs": [
    {
     "data": {
      "text/plain": [
       "tensor(-5930.4453, grad_fn=<SubBackward0>)"
      ]
     },
     "execution_count": null,
     "metadata": {},
     "output_type": "execute_result"
    }
   ],
   "source": [
    "# make a big matrix with all variables and observations and compute ll\n",
    "mask = mask.flatten() \n",
    "obs = data.flatten()[mask]\n",
    "means = data.flatten()[mask]\n",
    "stds = stds.flatten()[mask] # need to support batches\n",
    "\n",
    "MultivariateNormal(means, torch.diag(stds)).log_prob(obs)"
   ]
  },
  {
   "cell_type": "code",
   "execution_count": null,
   "id": "28c38f87-5a72-42bd-847f-fb1e76ec7490",
   "metadata": {},
   "outputs": [],
   "source": [
    "#| export\n",
    "class KalmanLoss():\n",
    "    def __init__(self,\n",
    "                 only_gap:bool=True, # loss for all predictions or only gap\n",
    "                 reduction:str='sum' # one of ['sum', 'mean', 'none']\n",
    "                ):\n",
    "        store_attr()\n",
    "    \n",
    "    def __call__(self, pred: NormalsParams, target: MaskedTensor):\n",
    "        data, mask = target\n",
    "        means, stds = pred        \n",
    "        assert not stds.isnan().any()\n",
    "        losses = torch.empty(data.shape[0], device=data.device, dtype=data.dtype)\n",
    "        for i, (d, m, mean, std) in enumerate(zip(data, mask, means, stds)):\n",
    "            losses[i] = self._loss_batch(d,m,mean, std)\n",
    "        if self.reduction == 'none': return losses\n",
    "        elif self.reduction == 'mean': return losses.mean()\n",
    "        elif self.reduction == 'sum': return losses.sum()\n",
    "    \n",
    "    def _loss_batch(self, data, mask, mean, std):\n",
    "        # make a big vector with all variables and observations and compute ll\n",
    "        mask = mask.flatten() if self.only_gap else torch.fill(mask, True).flatten()\n",
    "        obs = data.flatten()[mask]\n",
    "        mean = data.flatten()[mask]\n",
    "        std = std.flatten()[mask] \n",
    "        \n",
    "        return MultivariateNormal(mean, torch.diag(std)).log_prob(obs)\n",
    "        "
   ]
  },
  {
   "cell_type": "code",
   "execution_count": null,
   "id": "62e1cfdd-e80b-4ddc-9313-fd357c7ba7e2",
   "metadata": {},
   "outputs": [],
   "source": [
    "means, stds = pred"
   ]
  },
  {
   "cell_type": "code",
   "execution_count": null,
   "id": "3dcc340f-387f-4767-9ad5-10c40425e0b0",
   "metadata": {},
   "outputs": [
    {
     "data": {
      "text/plain": [
       "torch.Size([10, 200, 3])"
      ]
     },
     "execution_count": null,
     "metadata": {},
     "output_type": "execute_result"
    }
   ],
   "source": [
    "stds.shape"
   ]
  },
  {
   "cell_type": "code",
   "execution_count": null,
   "id": "43d3532f-a95e-437a-b90e-11ebb4bb2406",
   "metadata": {},
   "outputs": [
    {
     "data": {
      "text/plain": [
       "torch.Size([10, 200, 3])"
      ]
     },
     "execution_count": null,
     "metadata": {},
     "output_type": "execute_result"
    }
   ],
   "source": [
    "means.shape"
   ]
  },
  {
   "cell_type": "code",
   "execution_count": null,
   "id": "b41d785a-ba19-461e-b64d-cc7e12153cb6",
   "metadata": {},
   "outputs": [
    {
     "data": {
      "text/plain": [
       "tensor(False)"
      ]
     },
     "execution_count": null,
     "metadata": {},
     "output_type": "execute_result"
    }
   ],
   "source": [
    "data.isnan().any()"
   ]
  },
  {
   "cell_type": "code",
   "execution_count": null,
   "id": "08aa8d54-0c7a-47c0-8970-ecd4999ffd1e",
   "metadata": {},
   "outputs": [
    {
     "data": {
      "text/plain": [
       "tensor(False)"
      ]
     },
     "execution_count": null,
     "metadata": {},
     "output_type": "execute_result"
    }
   ],
   "source": [
    "mask.isnan().any()"
   ]
  },
  {
   "cell_type": "code",
   "execution_count": null,
   "id": "38b07b67-9543-4800-b566-949c542422bf",
   "metadata": {},
   "outputs": [
    {
     "data": {
      "text/plain": [
       "tensor(False)"
      ]
     },
     "execution_count": null,
     "metadata": {},
     "output_type": "execute_result"
    }
   ],
   "source": [
    "means.isnan().any()"
   ]
  },
  {
   "cell_type": "code",
   "execution_count": null,
   "id": "b473b2be-4392-4cb2-9575-1a7a057cdc1e",
   "metadata": {},
   "outputs": [
    {
     "data": {
      "text/plain": [
       "tensor(0)"
      ]
     },
     "execution_count": null,
     "metadata": {},
     "output_type": "execute_result"
    }
   ],
   "source": [
    "stds.isnan().sum()"
   ]
  },
  {
   "cell_type": "code",
   "execution_count": null,
   "id": "cb6d9dfc-1bb4-4c23-a291-d73cf9aefdfd",
   "metadata": {},
   "outputs": [
    {
     "data": {
      "text/plain": [
       "tensor([[[1.1756, 1.1756, 1.1756],\n",
       "         [1.1990, 1.1990, 1.1990],\n",
       "         [1.2024, 1.2024, 1.2024],\n",
       "         ...,\n",
       "         [1.2045, 1.2045, 1.2045],\n",
       "         [1.2133, 1.2133, 1.2133],\n",
       "         [1.2720, 1.2720, 1.2720]],\n",
       "\n",
       "        [[1.1756, 1.1756, 1.1756],\n",
       "         [1.1990, 1.1990, 1.1990],\n",
       "         [1.2024, 1.2024, 1.2024],\n",
       "         ...,\n",
       "         [1.2045, 1.2045, 1.2045],\n",
       "         [1.2133, 1.2133, 1.2133],\n",
       "         [1.2720, 1.2720, 1.2720]],\n",
       "\n",
       "        [[1.1756, 1.1756, 1.1756],\n",
       "         [1.1990, 1.1990, 1.1990],\n",
       "         [1.2024, 1.2024, 1.2024],\n",
       "         ...,\n",
       "         [1.2045, 1.2045, 1.2045],\n",
       "         [1.2133, 1.2133, 1.2133],\n",
       "         [1.2720, 1.2720, 1.2720]],\n",
       "\n",
       "        ...,\n",
       "\n",
       "        [[1.1756, 1.1756, 1.1756],\n",
       "         [1.1990, 1.1990, 1.1990],\n",
       "         [1.2024, 1.2024, 1.2024],\n",
       "         ...,\n",
       "         [1.2045, 1.2045, 1.2045],\n",
       "         [1.2133, 1.2133, 1.2133],\n",
       "         [1.2720, 1.2720, 1.2720]],\n",
       "\n",
       "        [[1.1756, 1.1756, 1.1756],\n",
       "         [1.1990, 1.1990, 1.1990],\n",
       "         [1.2024, 1.2024, 1.2024],\n",
       "         ...,\n",
       "         [1.2045, 1.2045, 1.2045],\n",
       "         [1.2133, 1.2133, 1.2133],\n",
       "         [1.2720, 1.2720, 1.2720]],\n",
       "\n",
       "        [[1.1756, 1.1756, 1.1756],\n",
       "         [1.1990, 1.1990, 1.1990],\n",
       "         [1.2024, 1.2024, 1.2024],\n",
       "         ...,\n",
       "         [1.2045, 1.2045, 1.2045],\n",
       "         [1.2133, 1.2133, 1.2133],\n",
       "         [1.2720, 1.2720, 1.2720]]], grad_fn=<SqrtBackward0>)"
      ]
     },
     "execution_count": null,
     "metadata": {},
     "output_type": "execute_result"
    }
   ],
   "source": [
    "stds"
   ]
  },
  {
   "cell_type": "code",
   "execution_count": null,
   "id": "51ea7a4b-b7b5-4182-abed-b5542cdaff48",
   "metadata": {},
   "outputs": [
    {
     "data": {
      "text/plain": [
       "(tensor(True),\n",
       " tensor([1.1756, 1.1756, 1.1756,  ..., 2.0096, 2.0096, 2.0096],\n",
       "        grad_fn=<LinalgEighBackward0>))"
      ]
     },
     "execution_count": null,
     "metadata": {},
     "output_type": "execute_result"
    }
   ],
   "source": [
    "is_posdef_eigv(torch.diag(stds.flatten()))"
   ]
  },
  {
   "cell_type": "code",
   "execution_count": null,
   "id": "72fa95ce-9fc1-4b61-855d-a27eb5ba4994",
   "metadata": {},
   "outputs": [
    {
     "data": {
      "text/plain": [
       "tensor(-5930.4453, grad_fn=<SumBackward0>)"
      ]
     },
     "execution_count": null,
     "metadata": {},
     "output_type": "execute_result"
    }
   ],
   "source": [
    "KalmanLoss(only_gap=True)(pred, target)"
   ]
  },
  {
   "cell_type": "code",
   "execution_count": null,
   "id": "83f8aae6-eb06-4772-a611-d62af0395ef3",
   "metadata": {},
   "outputs": [
    {
     "data": {
      "text/plain": [
       "tensor(-6132.7690, grad_fn=<SumBackward0>)"
      ]
     },
     "execution_count": null,
     "metadata": {},
     "output_type": "execute_result"
    }
   ],
   "source": [
    "KalmanLoss(only_gap=False)(pred, target)"
   ]
  },
  {
   "cell_type": "markdown",
   "id": "dbc02d69-7930-47b8-9543-d07998f3baa6",
   "metadata": {},
   "source": [
    "### Metrics"
   ]
  },
  {
   "cell_type": "markdown",
   "id": "6b485cfe-5fce-449b-810c-1884990f103b",
   "metadata": {},
   "source": [
    "Wrapper around fastai metrics to support masked tensors and normal distributions"
   ]
  },
  {
   "cell_type": "code",
   "execution_count": null,
   "id": "dad52498-03b4-4aac-a8d6-bf7dc6f1cab1",
   "metadata": {},
   "outputs": [],
   "source": [
    "#| export\n",
    "def to_msk_metric(metric, name):\n",
    "    def msk_metric(imp, targ):\n",
    "        return metric(imp[0], targ[0]) # first element are the means\n",
    "    msk_metric.__name__ = name\n",
    "    return msk_metric"
   ]
  },
  {
   "cell_type": "code",
   "execution_count": null,
   "id": "6e28f7a2-436a-4e7a-9e76-0ae778015e95",
   "metadata": {},
   "outputs": [],
   "source": [
    "from fastai.metrics import *"
   ]
  },
  {
   "cell_type": "code",
   "execution_count": null,
   "id": "2cf5ca04-9708-44ba-b030-b6a00618717b",
   "metadata": {},
   "outputs": [],
   "source": [
    "msk_rmse = to_msk_metric(rmse, 'rmse')"
   ]
  },
  {
   "cell_type": "code",
   "execution_count": null,
   "id": "5f5aab4a-cde7-4bcb-b883-9c44c6b6e8ff",
   "metadata": {},
   "outputs": [
    {
     "data": {
      "text/plain": [
       "'rmse'"
      ]
     },
     "execution_count": null,
     "metadata": {},
     "output_type": "execute_result"
    }
   ],
   "source": [
    "msk_rmse.__name__"
   ]
  },
  {
   "cell_type": "code",
   "execution_count": null,
   "id": "974d85e7-c02c-4ebe-9d50-7fea96ab5815",
   "metadata": {},
   "outputs": [
    {
     "data": {
      "text/plain": [
       "TensorBase(1.5663)"
      ]
     },
     "execution_count": null,
     "metadata": {},
     "output_type": "execute_result"
    }
   ],
   "source": [
    "msk_rmse(pred, target)"
   ]
  },
  {
   "cell_type": "code",
   "execution_count": null,
   "id": "5a00fcc0-9561-4000-8ea5-71423671d4e4",
   "metadata": {},
   "outputs": [],
   "source": [
    "msk_r2 = to_msk_metric(R2Score(), 'r2')"
   ]
  },
  {
   "cell_type": "code",
   "execution_count": null,
   "id": "a8003a5d-4c63-4174-acb9-75c00d063bac",
   "metadata": {},
   "outputs": [
    {
     "data": {
      "text/plain": [
       "-1.5087013192978587"
      ]
     },
     "execution_count": null,
     "metadata": {},
     "output_type": "execute_result"
    }
   ],
   "source": [
    "msk_r2(pred, target)"
   ]
  },
  {
   "cell_type": "markdown",
   "id": "73470c88-47dc-4187-a208-789f24c23a3e",
   "metadata": {},
   "source": [
    "### Callback"
   ]
  },
  {
   "cell_type": "markdown",
   "id": "96c199ec-b21c-401d-bd3c-16670de8e372",
   "metadata": {},
   "source": [
    "save the model state "
   ]
  },
  {
   "cell_type": "code",
   "execution_count": null,
   "id": "c9f34e5c-1cf5-4c04-b7e0-89e2e33b9aa1",
   "metadata": {},
   "outputs": [],
   "source": [
    "#| export\n",
    "from fastai.callback.all import *"
   ]
  },
  {
   "cell_type": "code",
   "execution_count": null,
   "id": "c6bbe197-91eb-4fb2-ae15-f2d463914902",
   "metadata": {},
   "outputs": [],
   "source": [
    "#| export\n",
    "class SaveParams(Callback):\n",
    "    def __init__(self, param_name):\n",
    "        super().__init__()\n",
    "        self.params = []\n",
    "        self.param_name = param_name\n",
    "    def after_batch(self):\n",
    "        param = getattr(self.model, self.param_name).detach()\n",
    "        self.params.append(param)"
   ]
  },
  {
   "cell_type": "code",
   "execution_count": null,
   "id": "206b2efc-a26e-4ed7-b9a8-df1ce7a605b4",
   "metadata": {},
   "outputs": [],
   "source": [
    "#| export\n",
    "class SaveParams(Callback):\n",
    "    def __init__(self, param_name):\n",
    "        super().__init__()\n",
    "        self.params = []\n",
    "        self.param_name = param_name\n",
    "    def after_batch(self):\n",
    "        param = getattr(self.model, self.param_name).detach()\n",
    "        self.params.append(param)"
   ]
  },
  {
   "cell_type": "code",
   "execution_count": null,
   "id": "c2d2eb9e-eea2-40eb-918a-e8575cb20323",
   "metadata": {},
   "outputs": [],
   "source": [
    "debug_preds = []"
   ]
  },
  {
   "cell_type": "code",
   "execution_count": null,
   "id": "26d2f05f-fd23-4393-b5e8-f9800cc36f78",
   "metadata": {},
   "outputs": [],
   "source": [
    "class DebugPredCallback(Callback):\n",
    "    order = 0\n",
    "    def after_validate(self):\n",
    "        if hasattr(self, 'gather_preds'):\n",
    "            debug_preds.append(self.gather_preds.preds)"
   ]
  },
  {
   "cell_type": "markdown",
   "id": "99617495-ab91-4a00-8371-91011ba551ba",
   "metadata": {},
   "source": [
    "### Learner"
   ]
  },
  {
   "cell_type": "code",
   "execution_count": null,
   "id": "87ad92d0-4b9a-4f10-817d-c213366fe83a",
   "metadata": {},
   "outputs": [],
   "source": [
    "#| export\n",
    "from fastai.learner import * \n",
    "\n",
    "from fastai.tabular.all import *\n",
    "\n",
    "from fastai.tabular.learner import *\n",
    "\n",
    "from fastai.callback.progress import ShowGraphCallback"
   ]
  },
  {
   "cell_type": "code",
   "execution_count": null,
   "id": "8bb68031-bc19-4c2f-b82b-201939013bbc",
   "metadata": {},
   "outputs": [],
   "source": [
    "obs_cov_history = SaveParams('obs_cov')"
   ]
  },
  {
   "cell_type": "code",
   "execution_count": null,
   "id": "fdb75dd6-f0af-4c50-bc80-2436b28b4db3",
   "metadata": {},
   "outputs": [],
   "source": [
    "all_data = CollectDataCallback()"
   ]
  },
  {
   "cell_type": "code",
   "execution_count": null,
   "id": "25efc678-791b-4599-87d3-820ace3f7263",
   "metadata": {},
   "outputs": [],
   "source": [
    "model = KalmanFilter.init_random(n_dim_obs = hai.shape[1], n_dim_state = hai.shape[1]).cuda()"
   ]
  },
  {
   "cell_type": "code",
   "execution_count": null,
   "id": "be28a411-098a-4788-9e98-6b455a43f296",
   "metadata": {},
   "outputs": [],
   "source": [
    "model.use_smooth = False"
   ]
  },
  {
   "cell_type": "code",
   "execution_count": null,
   "id": "cb235adb-78de-430e-8eb4-c279347e4045",
   "metadata": {},
   "outputs": [],
   "source": [
    "# model._set_constraint('obs_cov', model.obs_cov, train=False)"
   ]
  },
  {
   "cell_type": "code",
   "execution_count": null,
   "id": "2cfc46b8-3ffd-4080-92ad-ad52e3d4a9e9",
   "metadata": {},
   "outputs": [],
   "source": [
    "pipeline, block_ids = imp_pipeline(hai[:20000], block_len, gap_len)\n",
    "    \n",
    "splits = RandomSplitter()(block_ids)\n",
    "ds = Datasets(block_ids, [pipeline, pipeline], splits=splits)"
   ]
  },
  {
   "cell_type": "code",
   "execution_count": null,
   "id": "84eb6fff-dbce-4d24-a796-558e03f9e306",
   "metadata": {},
   "outputs": [],
   "source": [
    "dls = ds.dataloaders(bs=10, device='cuda')"
   ]
  },
  {
   "cell_type": "code",
   "execution_count": null,
   "id": "db0f5e59-de01-4c9c-acc0-becfe69866a2",
   "metadata": {},
   "outputs": [
    {
     "data": {
      "text/plain": [
       "device(type='cuda', index=0)"
      ]
     },
     "execution_count": null,
     "metadata": {},
     "output_type": "execute_result"
    }
   ],
   "source": [
    "dls.one_batch()[0][0].device"
   ]
  },
  {
   "cell_type": "code",
   "execution_count": null,
   "id": "5b218c03-1a48-43a2-8822-7f6ee03cf7be",
   "metadata": {},
   "outputs": [],
   "source": [
    "input, target = dls.one_batch()"
   ]
  },
  {
   "cell_type": "code",
   "execution_count": null,
   "id": "e780d5ce-a904-4fc6-a60b-6ab6e28dc05e",
   "metadata": {},
   "outputs": [
    {
     "data": {
      "text/plain": [
       "tensor(-351.0051, device='cuda:0', grad_fn=<SumBackward0>)"
      ]
     },
     "execution_count": null,
     "metadata": {},
     "output_type": "execute_result"
    }
   ],
   "source": [
    "pred = model(input)\n",
    "KalmanLoss()(pred, target)"
   ]
  },
  {
   "cell_type": "code",
   "execution_count": null,
   "id": "c508264f-ca12-4f8f-93cc-9245fa84e7d9",
   "metadata": {},
   "outputs": [],
   "source": [
    "learn = Learner(dls, model, loss_func=KalmanLoss(only_gap=False), cbs = [DebugPredCallback] , metrics = [msk_rmse, msk_r2])"
   ]
  },
  {
   "cell_type": "code",
   "execution_count": null,
   "id": "eef1826f-78e6-4654-a92f-dca07b2ddb7e",
   "metadata": {},
   "outputs": [
    {
     "data": {
      "text/html": [
       "\n",
       "<style>\n",
       "    /* Turns off some styling */\n",
       "    progress {\n",
       "        /* gets rid of default border in Firefox and Opera. */\n",
       "        border: none;\n",
       "        /* Needs to be in here for Safari polyfill so background images work as expected. */\n",
       "        background-size: auto;\n",
       "    }\n",
       "    progress:not([value]), progress:not([value])::-webkit-progress-bar {\n",
       "        background: repeating-linear-gradient(45deg, #7e7e7e, #7e7e7e 10px, #5c5c5c 10px, #5c5c5c 20px);\n",
       "    }\n",
       "    .progress-bar-interrupted, .progress-bar-interrupted::-webkit-progress-bar {\n",
       "        background: #F44336;\n",
       "    }\n",
       "</style>\n"
      ],
      "text/plain": [
       "<IPython.core.display.HTML object>"
      ]
     },
     "metadata": {},
     "output_type": "display_data"
    },
    {
     "data": {
      "text/html": [
       "<table border=\"1\" class=\"dataframe\">\n",
       "  <thead>\n",
       "    <tr style=\"text-align: left;\">\n",
       "      <th>epoch</th>\n",
       "      <th>train_loss</th>\n",
       "      <th>valid_loss</th>\n",
       "      <th>rmse</th>\n",
       "      <th>r2</th>\n",
       "      <th>time</th>\n",
       "    </tr>\n",
       "  </thead>\n",
       "  <tbody>\n",
       "    <tr>\n",
       "      <td>0</td>\n",
       "      <td>-465.879425</td>\n",
       "      <td>-485.078766</td>\n",
       "      <td>3.601483</td>\n",
       "      <td>-12.849337</td>\n",
       "      <td>00:08</td>\n",
       "    </tr>\n",
       "  </tbody>\n",
       "</table>"
      ],
      "text/plain": [
       "<IPython.core.display.HTML object>"
      ]
     },
     "metadata": {},
     "output_type": "display_data"
    }
   ],
   "source": [
    "learn.fit(1, 1e-3)"
   ]
  },
  {
   "cell_type": "markdown",
   "id": "84002608-9491-4335-86fb-d40d3946f2ae",
   "metadata": {},
   "source": [
    "#### Float64"
   ]
  },
  {
   "cell_type": "code",
   "execution_count": null,
   "id": "69191be7-ac68-4616-8e4b-460fb786769f",
   "metadata": {},
   "outputs": [],
   "source": [
    "model64 = KalmanFilter.init_random(hai.shape[1], hai.shape[1], dtype=torch.float64).cuda()"
   ]
  },
  {
   "cell_type": "code",
   "execution_count": null,
   "id": "69e1f814-b1f8-48e1-a098-e37234d4b451",
   "metadata": {},
   "outputs": [],
   "source": [
    "dls64 = make_dataloader(hai64, 200, 10, bs=100)"
   ]
  },
  {
   "cell_type": "code",
   "execution_count": null,
   "id": "a0142fdc-5c85-45d1-a13f-b2f0839b0636",
   "metadata": {},
   "outputs": [],
   "source": [
    "input = dls64.one_batch()[0]\n",
    "target = dls64.one_batch()[1]"
   ]
  },
  {
   "cell_type": "code",
   "execution_count": null,
   "id": "06e93c8b-f74d-4382-8fb2-54d83aec5fcb",
   "metadata": {},
   "outputs": [],
   "source": [
    "data, mask = input"
   ]
  },
  {
   "cell_type": "code",
   "execution_count": null,
   "id": "1cc98d35-4a67-496d-acc7-a9bd5d884a52",
   "metadata": {},
   "outputs": [
    {
     "data": {
      "text/plain": [
       "device(type='cuda', index=0)"
      ]
     },
     "execution_count": null,
     "metadata": {},
     "output_type": "execute_result"
    }
   ],
   "source": [
    "data.device"
   ]
  },
  {
   "cell_type": "code",
   "execution_count": null,
   "id": "2698453f-3e47-428d-8028-da95a55b2228",
   "metadata": {},
   "outputs": [
    {
     "data": {
      "text/plain": [
       "torch.float64"
      ]
     },
     "execution_count": null,
     "metadata": {},
     "output_type": "execute_result"
    }
   ],
   "source": [
    "data.dtype"
   ]
  },
  {
   "cell_type": "code",
   "execution_count": null,
   "id": "59d35c5d-ce51-476d-85ce-8502ae6d17e6",
   "metadata": {},
   "outputs": [],
   "source": [
    "model64.predict(data);"
   ]
  },
  {
   "cell_type": "code",
   "execution_count": null,
   "id": "30e0a335-4e18-42a1-a847-baacdab94ee5",
   "metadata": {},
   "outputs": [],
   "source": [
    "pred = model64(input)"
   ]
  },
  {
   "cell_type": "code",
   "execution_count": null,
   "id": "4931c465-98fa-4a47-bd1d-4abc91cd739f",
   "metadata": {},
   "outputs": [
    {
     "data": {
      "text/plain": [
       "tensor(-54159.9322, device='cuda:0', dtype=torch.float64,\n",
       "       grad_fn=<SumBackward0>)"
      ]
     },
     "execution_count": null,
     "metadata": {},
     "output_type": "execute_result"
    }
   ],
   "source": [
    "KalmanLoss()(pred, target)"
   ]
  },
  {
   "cell_type": "code",
   "execution_count": null,
   "id": "5bfcc6cf-a46d-4e69-a570-47adb86251d9",
   "metadata": {},
   "outputs": [],
   "source": [
    "#| export\n",
    "class Float64Callback(Callback):\n",
    "    order = Recorder.order + 10 # run after Recorder \n",
    "    def before_fit(self):\n",
    "        self.recorder.smooth_loss.val = torch.tensor(0, dtype=torch.float64) # default is a float 32"
   ]
  },
  {
   "cell_type": "code",
   "execution_count": null,
   "id": "ed760e90-eda7-40cb-99c6-9754b39076a7",
   "metadata": {},
   "outputs": [],
   "source": [
    "model64.use_smooth = False"
   ]
  },
  {
   "cell_type": "code",
   "execution_count": null,
   "id": "59fc2923-1419-4036-b05e-c73c34465bb6",
   "metadata": {},
   "outputs": [],
   "source": [
    "learn64 = Learner(dls64, model64, loss_func=KalmanLoss(), cbs = [Float64Callback] )"
   ]
  },
  {
   "cell_type": "code",
   "execution_count": null,
   "id": "8f8f50e9-133a-4dfe-966d-2c5650fa416a",
   "metadata": {},
   "outputs": [
    {
     "data": {
      "text/html": [
       "\n",
       "<style>\n",
       "    /* Turns off some styling */\n",
       "    progress {\n",
       "        /* gets rid of default border in Firefox and Opera. */\n",
       "        border: none;\n",
       "        /* Needs to be in here for Safari polyfill so background images work as expected. */\n",
       "        background-size: auto;\n",
       "    }\n",
       "    progress:not([value]), progress:not([value])::-webkit-progress-bar {\n",
       "        background: repeating-linear-gradient(45deg, #7e7e7e, #7e7e7e 10px, #5c5c5c 10px, #5c5c5c 20px);\n",
       "    }\n",
       "    .progress-bar-interrupted, .progress-bar-interrupted::-webkit-progress-bar {\n",
       "        background: #F44336;\n",
       "    }\n",
       "</style>\n"
      ],
      "text/plain": [
       "<IPython.core.display.HTML object>"
      ]
     },
     "metadata": {},
     "output_type": "display_data"
    },
    {
     "data": {
      "text/html": [
       "<table border=\"1\" class=\"dataframe\">\n",
       "  <thead>\n",
       "    <tr style=\"text-align: left;\">\n",
       "      <th>epoch</th>\n",
       "      <th>train_loss</th>\n",
       "      <th>valid_loss</th>\n",
       "      <th>time</th>\n",
       "    </tr>\n",
       "  </thead>\n",
       "  <tbody>\n",
       "    <tr>\n",
       "      <td>0</td>\n",
       "      <td>-70869.044487</td>\n",
       "      <td>-65195.777042</td>\n",
       "      <td>00:33</td>\n",
       "    </tr>\n",
       "  </tbody>\n",
       "</table>"
      ],
      "text/plain": [
       "<IPython.core.display.HTML object>"
      ]
     },
     "metadata": {},
     "output_type": "display_data"
    }
   ],
   "source": [
    "learn64.fit(1, 1e-3)"
   ]
  },
  {
   "cell_type": "markdown",
   "id": "748bb675-4e1a-4f1d-bf5b-b31bcf8d76e3",
   "metadata": {},
   "source": [
    "### Predictions"
   ]
  },
  {
   "cell_type": "markdown",
   "id": "6fd471c0-9266-4a63-bf13-e28742c3419c",
   "metadata": {},
   "source": [
    "The transformation pipeline is not working properly (there is a problem in `decode_batch` as the `_types` are more nested than the predictions, which results in an error) + the pipeline is anyway not reproducible + the test dataloaders seems that they are actually not deterministic .....\n",
    "soo reimplement everything almost from scratch\n",
    "\n",
    "see https://github.com/mone27/meteo_imp/blob/0335003405ec9bd3e3bd2641bc6d7924f34a0788/lib_nbs/kalman/10_fastai.ipynb for all details"
   ]
  },
  {
   "cell_type": "code",
   "execution_count": null,
   "id": "06b53296-e81d-463a-ab60-2150f99fc724",
   "metadata": {},
   "outputs": [],
   "source": [
    "#| export\n",
    "class NormalsDf:\n",
    "    \"\"\"DataFrames of Normal parameters (mean and std)\"\"\"\n",
    "    def __init__(self, mean, std): store_attr()\n",
    "    def tidy(self, prefix=\"\"):\n",
    "        \"\"\"Tidy version\"\"\"\n",
    "        mean = self.mean.reset_index().melt(\"time\", value_name=prefix + \"mean\")\n",
    "        std = self.std.reset_index().melt(\"time\", value_name=prefix + \"std\")\n",
    "        return pd.merge(mean, std, on=[\"time\", \"variable\"])\n",
    "    __repr__ = basic_repr(\"mean, std\")"
   ]
  },
  {
   "cell_type": "code",
   "execution_count": null,
   "id": "036aa755-553a-439a-9c11-350f4573969d",
   "metadata": {},
   "outputs": [],
   "source": [
    "pipe0, pipe1 = tfms4.fs[0,1], tfms4.fs[2,3] "
   ]
  },
  {
   "cell_type": "code",
   "execution_count": null,
   "id": "5cf9d9b7-ac34-4696-b25f-278d531c0cfa",
   "metadata": {},
   "outputs": [
    {
     "data": {
      "text/plain": [
       "((#2) [BlockDfTransform:\n",
       "encodes: (int,object) -> encodes\n",
       "decodes: ,AddGapTransform:\n",
       "encodes: (DataFrame,object) -> encodes\n",
       "decodes: ],\n",
       " (#2) [MaskedDf2Tensor:\n",
       "encodes: (MaskedDf,object) -> encodes\n",
       "decodes: (MaskedTensor,object) -> decodes\n",
       ",NormalizeMasked -- {'mean': tensor([  8.3339, 120.9578,   3.3807]), 'std': tensor([  7.9246, 204.0026,   4.3684])}:\n",
       "encodes: (MaskedTensor,object) -> encodes\n",
       "decodes: (MaskedTensor,object) -> decodes\n",
       "(NormalsParams,object) -> decodes\n",
       "])"
      ]
     },
     "execution_count": null,
     "metadata": {},
     "output_type": "execute_result"
    }
   ],
   "source": [
    "pipe0, pipe1"
   ]
  },
  {
   "cell_type": "code",
   "execution_count": null,
   "id": "43fc7416-d6a1-4376-8d2b-1948b525fee1",
   "metadata": {},
   "outputs": [],
   "source": [
    "#| export\n",
    "def preds2df(preds, targs):\n",
    "    \"\"\"Final step to decode preds by getting a dataframe\"\"\"\n",
    "    # preds this is a tuple (data, mask)\n",
    "    out = []\n",
    "    for pred, targ in zip(preds, targs):\n",
    "        # convert to dataframe using structure for\n",
    "        mean = pd.DataFrame(pred[0].squeeze(0).detach().cpu().numpy(), columns = targ.data.columns, index=targ.data.index)\n",
    "        std = pd.DataFrame(pred[1].squeeze(0).detach().cpu().numpy(), columns = targ.data.columns, index=targ.data.index)\n",
    "        out.append(NormalsDf(mean, std))\n",
    "    return out"
   ]
  },
  {
   "cell_type": "code",
   "execution_count": null,
   "id": "b45a64ab-60b0-4f48-8df8-6ee40055ba14",
   "metadata": {},
   "outputs": [],
   "source": [
    "#| export\n",
    "def predict_items(items, learn, pipe0, pipe1):\n",
    "    pipe0, pipe1 = Pipeline(pipe0), Pipeline(pipe1)\n",
    "    preds, targs, losses = [], [], []\n",
    "    for item in items:\n",
    "        targ = pipe0(item)\n",
    "        data, mask = pipe1(targ)\n",
    "        input = MaskedTensor(data.cuda().unsqueeze(0), mask.cuda().unsqueeze(0))\n",
    "        pred = model(input)\n",
    "        loss = learn.loss_func(pred, input)\n",
    "        # denormalize\n",
    "        pred = pipe1.decode(pred)\n",
    "        preds.append(pred), targs.append(targ), losses.append(loss)\n",
    "        \n",
    "    return preds2df(preds, targs), targs, losses\n",
    "        "
   ]
  },
  {
   "cell_type": "code",
   "execution_count": null,
   "id": "b69146c1-1df0-407f-8746-5997f297b687",
   "metadata": {},
   "outputs": [
    {
     "name": "stdout",
     "output_type": "stream",
     "text": [
      "decoding\n",
      "decoding\n",
      "decoding\n"
     ]
    }
   ],
   "source": [
    "preds, targs, losses = predict_items([0,1,3], learn, pipe0, pipe1)"
   ]
  },
  {
   "cell_type": "markdown",
   "id": "cccfc6c6-b667-4448-83b1-ac5826e5b76c",
   "metadata": {},
   "source": [
    "this is the same data!!"
   ]
  },
  {
   "cell_type": "code",
   "execution_count": null,
   "id": "0b1c488f-cec4-41c0-985b-08ef798eb689",
   "metadata": {},
   "outputs": [
    {
     "name": "stdout",
     "output_type": "stream",
     "text": [
      "decoding\n",
      "decoding\n"
     ]
    },
    {
     "data": {
      "text/html": [
       "<div>\n",
       "<style scoped>\n",
       "    .dataframe tbody tr th:only-of-type {\n",
       "        vertical-align: middle;\n",
       "    }\n",
       "\n",
       "    .dataframe tbody tr th {\n",
       "        vertical-align: top;\n",
       "    }\n",
       "\n",
       "    .dataframe thead th {\n",
       "        text-align: right;\n",
       "    }\n",
       "</style>\n",
       "<table border=\"1\" class=\"dataframe\">\n",
       "  <thead>\n",
       "    <tr style=\"text-align: right;\">\n",
       "      <th></th>\n",
       "      <th>TA</th>\n",
       "      <th>SW_IN</th>\n",
       "      <th>VPD</th>\n",
       "    </tr>\n",
       "    <tr>\n",
       "      <th>time</th>\n",
       "      <th></th>\n",
       "      <th></th>\n",
       "      <th></th>\n",
       "    </tr>\n",
       "  </thead>\n",
       "  <tbody>\n",
       "    <tr>\n",
       "      <th>2000-01-01 00:30:00</th>\n",
       "      <td>True</td>\n",
       "      <td>True</td>\n",
       "      <td>True</td>\n",
       "    </tr>\n",
       "    <tr>\n",
       "      <th>2000-01-01 01:00:00</th>\n",
       "      <td>True</td>\n",
       "      <td>True</td>\n",
       "      <td>True</td>\n",
       "    </tr>\n",
       "    <tr>\n",
       "      <th>2000-01-01 01:30:00</th>\n",
       "      <td>True</td>\n",
       "      <td>True</td>\n",
       "      <td>True</td>\n",
       "    </tr>\n",
       "    <tr>\n",
       "      <th>2000-01-01 02:00:00</th>\n",
       "      <td>True</td>\n",
       "      <td>True</td>\n",
       "      <td>True</td>\n",
       "    </tr>\n",
       "    <tr>\n",
       "      <th>2000-01-01 02:30:00</th>\n",
       "      <td>True</td>\n",
       "      <td>True</td>\n",
       "      <td>True</td>\n",
       "    </tr>\n",
       "    <tr>\n",
       "      <th>2000-01-01 03:00:00</th>\n",
       "      <td>True</td>\n",
       "      <td>True</td>\n",
       "      <td>True</td>\n",
       "    </tr>\n",
       "    <tr>\n",
       "      <th>2000-01-01 03:30:00</th>\n",
       "      <td>True</td>\n",
       "      <td>True</td>\n",
       "      <td>True</td>\n",
       "    </tr>\n",
       "    <tr>\n",
       "      <th>2000-01-01 04:00:00</th>\n",
       "      <td>True</td>\n",
       "      <td>True</td>\n",
       "      <td>True</td>\n",
       "    </tr>\n",
       "    <tr>\n",
       "      <th>2000-01-01 04:30:00</th>\n",
       "      <td>True</td>\n",
       "      <td>True</td>\n",
       "      <td>True</td>\n",
       "    </tr>\n",
       "    <tr>\n",
       "      <th>2000-01-01 05:00:00</th>\n",
       "      <td>True</td>\n",
       "      <td>True</td>\n",
       "      <td>True</td>\n",
       "    </tr>\n",
       "  </tbody>\n",
       "</table>\n",
       "</div>"
      ],
      "text/plain": [
       "                       TA  SW_IN   VPD\n",
       "time                                  \n",
       "2000-01-01 00:30:00  True   True  True\n",
       "2000-01-01 01:00:00  True   True  True\n",
       "2000-01-01 01:30:00  True   True  True\n",
       "2000-01-01 02:00:00  True   True  True\n",
       "2000-01-01 02:30:00  True   True  True\n",
       "2000-01-01 03:00:00  True   True  True\n",
       "2000-01-01 03:30:00  True   True  True\n",
       "2000-01-01 04:00:00  True   True  True\n",
       "2000-01-01 04:30:00  True   True  True\n",
       "2000-01-01 05:00:00  True   True  True"
      ]
     },
     "execution_count": null,
     "metadata": {},
     "output_type": "execute_result"
    }
   ],
   "source": [
    "predict_items([0], learn, pipe0, pipe1)[1][0].data == predict_items([0], learn, pipe0, pipe1)[1][0].data"
   ]
  },
  {
   "cell_type": "markdown",
   "id": "9a1606c2-ee54-46be-8f57-dd5173134605",
   "metadata": {},
   "source": [
    "#### plot results"
   ]
  },
  {
   "cell_type": "code",
   "execution_count": null,
   "id": "7799bf37-003f-419a-a410-6e7b1c25719c",
   "metadata": {},
   "outputs": [],
   "source": [
    "#| export\n",
    "def plot_result(pred, targ, loss, **kwargs):\n",
    "    df = pd.merge(targ.tidy(), pred.tidy(), on=[\"time\", \"variable\"])\n",
    "    return facet_variable(df, error=True, **kwargs).properties(title=f\"loss: {loss.item():.6f}\")"
   ]
  },
  {
   "cell_type": "code",
   "execution_count": null,
   "id": "f4bd8f4e-a59e-4b1a-8e30-1cb2f0fab6f6",
   "metadata": {},
   "outputs": [
    {
     "data": {
      "text/html": [
       "\n",
       "<div id=\"altair-viz-a1a2b634ce6a4e1d9913320fcc8ece57\"></div>\n",
       "<script type=\"text/javascript\">\n",
       "  var VEGA_DEBUG = (typeof VEGA_DEBUG == \"undefined\") ? {} : VEGA_DEBUG;\n",
       "  (function(spec, embedOpt){\n",
       "    let outputDiv = document.currentScript.previousElementSibling;\n",
       "    if (outputDiv.id !== \"altair-viz-a1a2b634ce6a4e1d9913320fcc8ece57\") {\n",
       "      outputDiv = document.getElementById(\"altair-viz-a1a2b634ce6a4e1d9913320fcc8ece57\");\n",
       "    }\n",
       "    const paths = {\n",
       "      \"vega\": \"https://cdn.jsdelivr.net/npm//vega@5?noext\",\n",
       "      \"vega-lib\": \"https://cdn.jsdelivr.net/npm//vega-lib?noext\",\n",
       "      \"vega-lite\": \"https://cdn.jsdelivr.net/npm//vega-lite@5.2.0?noext\",\n",
       "      \"vega-embed\": \"https://cdn.jsdelivr.net/npm//vega-embed@6?noext\",\n",
       "    };\n",
       "\n",
       "    function maybeLoadScript(lib, version) {\n",
       "      var key = `${lib.replace(\"-\", \"\")}_version`;\n",
       "      return (VEGA_DEBUG[key] == version) ?\n",
       "        Promise.resolve(paths[lib]) :\n",
       "        new Promise(function(resolve, reject) {\n",
       "          var s = document.createElement('script');\n",
       "          document.getElementsByTagName(\"head\")[0].appendChild(s);\n",
       "          s.async = true;\n",
       "          s.onload = () => {\n",
       "            VEGA_DEBUG[key] = version;\n",
       "            return resolve(paths[lib]);\n",
       "          };\n",
       "          s.onerror = () => reject(`Error loading script: ${paths[lib]}`);\n",
       "          s.src = paths[lib];\n",
       "        });\n",
       "    }\n",
       "\n",
       "    function showError(err) {\n",
       "      outputDiv.innerHTML = `<div class=\"error\" style=\"color:red;\">${err}</div>`;\n",
       "      throw err;\n",
       "    }\n",
       "\n",
       "    function displayChart(vegaEmbed) {\n",
       "      vegaEmbed(outputDiv, spec, embedOpt)\n",
       "        .catch(err => showError(`Javascript Error: ${err.message}<br>This usually means there's a typo in your chart specification. See the javascript console for the full traceback.`));\n",
       "    }\n",
       "\n",
       "    if(typeof define === \"function\" && define.amd) {\n",
       "      requirejs.config({paths});\n",
       "      require([\"vega-embed\"], displayChart, err => showError(`Error loading script: ${err.message}`));\n",
       "    } else {\n",
       "      maybeLoadScript(\"vega\", \"5\")\n",
       "        .then(() => maybeLoadScript(\"vega-lite\", \"5.2.0\"))\n",
       "        .then(() => maybeLoadScript(\"vega-embed\", \"6\"))\n",
       "        .catch(showError)\n",
       "        .then(() => displayChart(vegaEmbed));\n",
       "    }\n",
       "  })({\"config\": {\"view\": {\"continuousWidth\": 400, \"continuousHeight\": 300}}, \"vconcat\": [{\"hconcat\": [{\"layer\": [{\"mark\": {\"type\": \"point\", \"color\": \"black\", \"fillOpacity\": 1, \"strokeWidth\": 1}, \"encoding\": {\"fill\": {\"field\": \"is_present\", \"legend\": {\"title\": [\"Observed data\"]}, \"scale\": {\"range\": [\"black\", \"#ffffff00\"]}, \"type\": \"nominal\"}, \"shape\": {\"field\": \"is_present\", \"type\": \"nominal\"}, \"x\": {\"field\": \"time\", \"type\": \"temporal\"}, \"y\": {\"field\": \"value\", \"scale\": {\"zero\": false}, \"title\": \"TA\", \"type\": \"quantitative\"}}}, {\"layer\": [{\"mark\": \"errorband\", \"encoding\": {\"color\": {\"field\": \"variable\", \"legend\": {\"title\": [\"Line: pred. mean\", \"area: +/- 2 std\"]}, \"type\": \"nominal\"}, \"x\": {\"field\": \"time\", \"type\": \"temporal\"}, \"y\": {\"field\": \"err_low\", \"scale\": {\"zero\": false}, \"title\": \"TA\", \"type\": \"quantitative\"}, \"y2\": {\"field\": \"err_high\"}}, \"name\": \"view_9\"}, {\"mark\": \"line\", \"encoding\": {\"color\": {\"field\": \"variable\", \"type\": \"nominal\"}, \"x\": {\"field\": \"time\", \"type\": \"temporal\"}, \"y\": {\"field\": \"value\", \"scale\": {\"zero\": false}, \"title\": \"TA\", \"type\": \"quantitative\"}}}]}], \"height\": 150, \"title\": \"TA\", \"width\": 200}, {\"layer\": [{\"mark\": {\"type\": \"point\", \"color\": \"black\", \"fillOpacity\": 1, \"strokeWidth\": 1}, \"encoding\": {\"fill\": {\"field\": \"is_present\", \"legend\": {\"title\": [\"Observed data\"]}, \"scale\": {\"range\": [\"black\", \"#ffffff00\"]}, \"type\": \"nominal\"}, \"shape\": {\"field\": \"is_present\", \"type\": \"nominal\"}, \"x\": {\"field\": \"time\", \"type\": \"temporal\"}, \"y\": {\"field\": \"value\", \"scale\": {\"zero\": false}, \"title\": \"SW_IN\", \"type\": \"quantitative\"}}}, {\"layer\": [{\"mark\": \"errorband\", \"encoding\": {\"color\": {\"field\": \"variable\", \"legend\": {\"title\": [\"Line: pred. mean\", \"area: +/- 2 std\"]}, \"type\": \"nominal\"}, \"x\": {\"field\": \"time\", \"type\": \"temporal\"}, \"y\": {\"field\": \"err_low\", \"scale\": {\"zero\": false}, \"title\": \"SW_IN\", \"type\": \"quantitative\"}, \"y2\": {\"field\": \"err_high\"}}, \"name\": \"view_10\"}, {\"mark\": \"line\", \"encoding\": {\"color\": {\"field\": \"variable\", \"type\": \"nominal\"}, \"x\": {\"field\": \"time\", \"type\": \"temporal\"}, \"y\": {\"field\": \"value\", \"scale\": {\"zero\": false}, \"title\": \"SW_IN\", \"type\": \"quantitative\"}}}]}], \"data\": {\"name\": \"data-7c15b17e1c9f7b1ff2c3aa7db54e9153\"}, \"height\": 150, \"title\": \"SW_IN\", \"width\": 200}, {\"layer\": [{\"mark\": {\"type\": \"point\", \"color\": \"black\", \"fillOpacity\": 1, \"strokeWidth\": 1}, \"encoding\": {\"fill\": {\"field\": \"is_present\", \"legend\": {\"title\": [\"Observed data\"]}, \"scale\": {\"range\": [\"black\", \"#ffffff00\"]}, \"type\": \"nominal\"}, \"shape\": {\"field\": \"is_present\", \"type\": \"nominal\"}, \"x\": {\"field\": \"time\", \"type\": \"temporal\"}, \"y\": {\"field\": \"value\", \"scale\": {\"zero\": false}, \"title\": \"VPD\", \"type\": \"quantitative\"}}}, {\"layer\": [{\"mark\": \"errorband\", \"encoding\": {\"color\": {\"field\": \"variable\", \"legend\": {\"title\": [\"Line: pred. mean\", \"area: +/- 2 std\"]}, \"type\": \"nominal\"}, \"x\": {\"field\": \"time\", \"type\": \"temporal\"}, \"y\": {\"field\": \"err_low\", \"scale\": {\"zero\": false}, \"title\": \"VPD\", \"type\": \"quantitative\"}, \"y2\": {\"field\": \"err_high\"}}, \"name\": \"view_11\"}, {\"mark\": \"line\", \"encoding\": {\"color\": {\"field\": \"variable\", \"type\": \"nominal\"}, \"x\": {\"field\": \"time\", \"type\": \"temporal\"}, \"y\": {\"field\": \"value\", \"scale\": {\"zero\": false}, \"title\": \"VPD\", \"type\": \"quantitative\"}}}]}], \"data\": {\"name\": \"data-73c11281fcc6172648292dbb463124a0\"}, \"height\": 150, \"title\": \"VPD\", \"width\": 200}]}], \"data\": {\"name\": \"data-70b091b1433ad9de3781f1ee9502f900\"}, \"params\": [{\"name\": \"param_16\", \"select\": {\"type\": \"interval\", \"encodings\": [\"x\"]}, \"bind\": \"scales\", \"views\": [\"view_9\", \"view_10\", \"view_11\"]}], \"title\": \"loss: 1.000000\", \"$schema\": \"https://vega.github.io/schema/vega-lite/v5.2.0.json\", \"datasets\": {\"data-70b091b1433ad9de3781f1ee9502f900\": [{\"time\": \"2000-01-01T00:30:00\", \"variable\": \"TA\", \"value\": -0.6000000238418579, \"is_present\": true, \"mean\": 13.672087669372559, \"std\": 13.46081256866455, \"err_low\": -27.521625518798828, \"err_high\": 26.321624755859375}, {\"time\": \"2000-01-01T01:00:00\", \"variable\": \"TA\", \"value\": -0.6499999761581421, \"is_present\": true, \"mean\": 7.615609169006348, \"std\": 17.64268684387207, \"err_low\": -35.93537521362305, \"err_high\": 34.635372161865234}, {\"time\": \"2000-01-01T01:30:00\", \"variable\": \"TA\", \"value\": -0.5799999833106995, \"is_present\": true, \"mean\": 3.977966785430908, \"std\": 18.539831161499023, \"err_low\": -37.659664154052734, \"err_high\": 36.49966049194336}, {\"time\": \"2000-01-01T02:00:00\", \"variable\": \"TA\", \"value\": -0.5099999904632568, \"is_present\": true, \"mean\": 1.1044721603393555, \"std\": 18.890878677368164, \"err_low\": -38.29175567626953, \"err_high\": 37.271759033203125}, {\"time\": \"2000-01-01T02:30:00\", \"variable\": \"TA\", \"value\": -0.49000000953674316, \"is_present\": false, \"mean\": -1.17144775390625, \"std\": 19.000003814697266, \"err_low\": -38.49000930786133, \"err_high\": 37.510005950927734}, {\"time\": \"2000-01-01T03:00:00\", \"variable\": \"TA\", \"value\": -0.4000000059604645, \"is_present\": false, \"mean\": -7.6313934326171875, \"std\": 37.4072265625, \"err_low\": -75.2144546508789, \"err_high\": 74.4144515991211}, {\"time\": \"2000-01-01T03:30:00\", \"variable\": \"TA\", \"value\": -0.36000001430511475, \"is_present\": true, \"mean\": -20.878704071044922, \"std\": 78.59339904785156, \"err_low\": -157.5467987060547, \"err_high\": 156.82679748535156}, {\"time\": \"2000-01-01T04:00:00\", \"variable\": \"TA\", \"value\": -0.3499999940395355, \"is_present\": true, \"mean\": -5.381496429443359, \"std\": 21.167133331298828, \"err_low\": -42.68426513671875, \"err_high\": 41.98426818847656}, {\"time\": \"2000-01-01T04:30:00\", \"variable\": \"TA\", \"value\": -0.2800000011920929, \"is_present\": true, \"mean\": -6.096301078796387, \"std\": 19.625816345214844, \"err_low\": -39.53163146972656, \"err_high\": 38.97163391113281}, {\"time\": \"2000-01-01T05:00:00\", \"variable\": \"TA\", \"value\": -0.27000001072883606, \"is_present\": true, \"mean\": -5.382109642028809, \"std\": 19.211864471435547, \"err_low\": -38.693729400634766, \"err_high\": 38.15372848510742}], \"data-7c15b17e1c9f7b1ff2c3aa7db54e9153\": [{\"time\": \"2000-01-01T00:30:00\", \"variable\": \"SW_IN\", \"value\": 0.0, \"is_present\": true, \"mean\": 430.2853698730469, \"std\": 552.4110717773438, \"err_low\": -1104.8221435546875, \"err_high\": 1104.8221435546875}, {\"time\": \"2000-01-01T01:00:00\", \"variable\": \"SW_IN\", \"value\": 0.0, \"is_present\": true, \"mean\": 160.25067138671875, \"std\": 750.7225341796875, \"err_low\": -1501.445068359375, \"err_high\": 1501.445068359375}, {\"time\": \"2000-01-01T01:30:00\", \"variable\": \"SW_IN\", \"value\": 0.0, \"is_present\": true, \"mean\": -27.065956115722656, \"std\": 782.6820068359375, \"err_low\": -1565.364013671875, \"err_high\": 1565.364013671875}, {\"time\": \"2000-01-01T02:00:00\", \"variable\": \"SW_IN\", \"value\": 0.0, \"is_present\": true, \"mean\": -122.48181915283203, \"std\": 796.1196899414062, \"err_low\": -1592.2393798828125, \"err_high\": 1592.2393798828125}, {\"time\": \"2000-01-01T02:30:00\", \"variable\": \"SW_IN\", \"value\": 0.0, \"is_present\": false, \"mean\": -219.6881103515625, \"std\": 799.94384765625, \"err_low\": -1599.8876953125, \"err_high\": 1599.8876953125}, {\"time\": \"2000-01-01T03:00:00\", \"variable\": \"SW_IN\", \"value\": 0.0, \"is_present\": false, \"mean\": -476.3343200683594, \"std\": 1560.3160400390625, \"err_low\": -3120.632080078125, \"err_high\": 3120.632080078125}, {\"time\": \"2000-01-01T03:30:00\", \"variable\": \"SW_IN\", \"value\": 0.0, \"is_present\": true, \"mean\": -1033.840576171875, \"std\": 3208.346435546875, \"err_low\": -6416.69287109375, \"err_high\": 6416.69287109375}, {\"time\": \"2000-01-01T04:00:00\", \"variable\": \"SW_IN\", \"value\": 0.0, \"is_present\": true, \"mean\": -388.618408203125, \"std\": 874.8359985351562, \"err_low\": -1749.6719970703125, \"err_high\": 1749.6719970703125}, {\"time\": \"2000-01-01T04:30:00\", \"variable\": \"SW_IN\", \"value\": 0.0, \"is_present\": true, \"mean\": -408.0887145996094, \"std\": 823.57373046875, \"err_low\": -1647.1474609375, \"err_high\": 1647.1474609375}, {\"time\": \"2000-01-01T05:00:00\", \"variable\": \"SW_IN\", \"value\": 0.0, \"is_present\": true, \"mean\": -381.62115478515625, \"std\": 807.4107666015625, \"err_low\": -1614.821533203125, \"err_high\": 1614.821533203125}], \"data-73c11281fcc6172648292dbb463124a0\": [{\"time\": \"2000-01-01T00:30:00\", \"variable\": \"VPD\", \"value\": 0.22200000286102295, \"is_present\": true, \"mean\": 11.109708786010742, \"std\": 13.35595703125, \"err_low\": -26.489913940429688, \"err_high\": 26.933914184570312}, {\"time\": \"2000-01-01T01:00:00\", \"variable\": \"VPD\", \"value\": 0.12200000137090683, \"is_present\": true, \"mean\": 3.9787888526916504, \"std\": 18.1784610748291, \"err_low\": -36.234920501708984, \"err_high\": 36.47892379760742}, {\"time\": \"2000-01-01T01:30:00\", \"variable\": \"VPD\", \"value\": 0.09000000357627869, \"is_present\": true, \"mean\": -0.13459110260009766, \"std\": 18.951292037963867, \"err_low\": -37.812583923339844, \"err_high\": 37.992584228515625}, {\"time\": \"2000-01-01T02:00:00\", \"variable\": \"VPD\", \"value\": 0.10999999940395355, \"is_present\": true, \"mean\": -2.597566843032837, \"std\": 19.26711082458496, \"err_low\": -38.42422103881836, \"err_high\": 38.644222259521484}, {\"time\": \"2000-01-01T02:30:00\", \"variable\": \"VPD\", \"value\": 0.10199999809265137, \"is_present\": true, \"mean\": -4.867453575134277, \"std\": 19.36022186279297, \"err_low\": -38.61844253540039, \"err_high\": 38.822444915771484}, {\"time\": \"2000-01-01T03:00:00\", \"variable\": \"VPD\", \"value\": 0.11100000143051147, \"is_present\": true, \"mean\": -11.272554397583008, \"std\": 37.26483154296875, \"err_low\": -74.41866302490234, \"err_high\": 74.64066314697266}, {\"time\": \"2000-01-01T03:30:00\", \"variable\": \"VPD\", \"value\": 0.10899999737739563, \"is_present\": true, \"mean\": -24.419189453125, \"std\": 76.76251983642578, \"err_low\": -153.41604614257812, \"err_high\": 153.634033203125}, {\"time\": \"2000-01-01T04:00:00\", \"variable\": \"VPD\", \"value\": 0.10700000077486038, \"is_present\": true, \"mean\": -8.908829689025879, \"std\": 21.201860427856445, \"err_low\": -42.296722412109375, \"err_high\": 42.510719299316406}, {\"time\": \"2000-01-01T04:30:00\", \"variable\": \"VPD\", \"value\": 0.12200000137090683, \"is_present\": true, \"mean\": -9.45600414276123, \"std\": 19.920251846313477, \"err_low\": -39.718502044677734, \"err_high\": 39.96250534057617}, {\"time\": \"2000-01-01T05:00:00\", \"variable\": \"VPD\", \"value\": 0.1379999965429306, \"is_present\": true, \"mean\": -8.805734634399414, \"std\": 19.541873931884766, \"err_low\": -38.94574737548828, \"err_high\": 39.22174835205078}]}}, {\"mode\": \"vega-lite\"});\n",
       "</script>"
      ],
      "text/plain": [
       "alt.VConcatChart(...)"
      ]
     },
     "execution_count": null,
     "metadata": {},
     "output_type": "execute_result"
    }
   ],
   "source": [
    "plot_result(preds[0], targs[0], torch.tensor(1))"
   ]
  },
  {
   "cell_type": "code",
   "execution_count": null,
   "id": "15082351-51f0-4139-9426-4ae2c64a94cb",
   "metadata": {},
   "outputs": [],
   "source": [
    "#| export\n",
    "def plot_results(preds, targs, losses):\n",
    "    plots = [plot_result(targ, pred, loss, n_cols=1) for targ, pred, loss in zip(preds, targs, losses)]\n",
    "    return alt.hconcat(*plots)"
   ]
  },
  {
   "cell_type": "code",
   "execution_count": null,
   "id": "6eb4485c-8e03-437e-8ed5-bc61a5c170af",
   "metadata": {},
   "outputs": [
    {
     "data": {
      "text/html": [
       "\n",
       "<div id=\"altair-viz-29407efd38b7445886d9afb3e54bb1c8\"></div>\n",
       "<script type=\"text/javascript\">\n",
       "  var VEGA_DEBUG = (typeof VEGA_DEBUG == \"undefined\") ? {} : VEGA_DEBUG;\n",
       "  (function(spec, embedOpt){\n",
       "    let outputDiv = document.currentScript.previousElementSibling;\n",
       "    if (outputDiv.id !== \"altair-viz-29407efd38b7445886d9afb3e54bb1c8\") {\n",
       "      outputDiv = document.getElementById(\"altair-viz-29407efd38b7445886d9afb3e54bb1c8\");\n",
       "    }\n",
       "    const paths = {\n",
       "      \"vega\": \"https://cdn.jsdelivr.net/npm//vega@5?noext\",\n",
       "      \"vega-lib\": \"https://cdn.jsdelivr.net/npm//vega-lib?noext\",\n",
       "      \"vega-lite\": \"https://cdn.jsdelivr.net/npm//vega-lite@5.2.0?noext\",\n",
       "      \"vega-embed\": \"https://cdn.jsdelivr.net/npm//vega-embed@6?noext\",\n",
       "    };\n",
       "\n",
       "    function maybeLoadScript(lib, version) {\n",
       "      var key = `${lib.replace(\"-\", \"\")}_version`;\n",
       "      return (VEGA_DEBUG[key] == version) ?\n",
       "        Promise.resolve(paths[lib]) :\n",
       "        new Promise(function(resolve, reject) {\n",
       "          var s = document.createElement('script');\n",
       "          document.getElementsByTagName(\"head\")[0].appendChild(s);\n",
       "          s.async = true;\n",
       "          s.onload = () => {\n",
       "            VEGA_DEBUG[key] = version;\n",
       "            return resolve(paths[lib]);\n",
       "          };\n",
       "          s.onerror = () => reject(`Error loading script: ${paths[lib]}`);\n",
       "          s.src = paths[lib];\n",
       "        });\n",
       "    }\n",
       "\n",
       "    function showError(err) {\n",
       "      outputDiv.innerHTML = `<div class=\"error\" style=\"color:red;\">${err}</div>`;\n",
       "      throw err;\n",
       "    }\n",
       "\n",
       "    function displayChart(vegaEmbed) {\n",
       "      vegaEmbed(outputDiv, spec, embedOpt)\n",
       "        .catch(err => showError(`Javascript Error: ${err.message}<br>This usually means there's a typo in your chart specification. See the javascript console for the full traceback.`));\n",
       "    }\n",
       "\n",
       "    if(typeof define === \"function\" && define.amd) {\n",
       "      requirejs.config({paths});\n",
       "      require([\"vega-embed\"], displayChart, err => showError(`Error loading script: ${err.message}`));\n",
       "    } else {\n",
       "      maybeLoadScript(\"vega\", \"5\")\n",
       "        .then(() => maybeLoadScript(\"vega-lite\", \"5.2.0\"))\n",
       "        .then(() => maybeLoadScript(\"vega-embed\", \"6\"))\n",
       "        .catch(showError)\n",
       "        .then(() => displayChart(vegaEmbed));\n",
       "    }\n",
       "  })({\"config\": {\"view\": {\"continuousWidth\": 400, \"continuousHeight\": 300}}, \"hconcat\": [{\"vconcat\": [{\"hconcat\": [{\"layer\": [{\"mark\": {\"type\": \"point\", \"color\": \"black\", \"fillOpacity\": 1, \"strokeWidth\": 1}, \"encoding\": {\"fill\": {\"field\": \"is_present\", \"legend\": {\"title\": [\"Observed data\"]}, \"scale\": {\"range\": [\"black\", \"#ffffff00\"]}, \"type\": \"nominal\"}, \"shape\": {\"field\": \"is_present\", \"type\": \"nominal\"}, \"x\": {\"field\": \"time\", \"type\": \"temporal\"}, \"y\": {\"field\": \"value\", \"scale\": {\"zero\": false}, \"title\": \"TA\", \"type\": \"quantitative\"}}}, {\"layer\": [{\"mark\": \"errorband\", \"encoding\": {\"color\": {\"field\": \"variable\", \"legend\": {\"title\": [\"Line: pred. mean\", \"area: +/- 2 std\"]}, \"type\": \"nominal\"}, \"x\": {\"field\": \"time\", \"type\": \"temporal\"}, \"y\": {\"field\": \"err_low\", \"scale\": {\"zero\": false}, \"title\": \"TA\", \"type\": \"quantitative\"}, \"y2\": {\"field\": \"err_high\"}}, \"name\": \"view_12\"}, {\"mark\": \"line\", \"encoding\": {\"color\": {\"field\": \"variable\", \"type\": \"nominal\"}, \"x\": {\"field\": \"time\", \"type\": \"temporal\"}, \"y\": {\"field\": \"value\", \"scale\": {\"zero\": false}, \"title\": \"TA\", \"type\": \"quantitative\"}}}]}], \"height\": 150, \"title\": \"TA\", \"width\": 200}], \"data\": {\"name\": \"data-70b091b1433ad9de3781f1ee9502f900\"}}, {\"hconcat\": [{\"layer\": [{\"mark\": {\"type\": \"point\", \"color\": \"black\", \"fillOpacity\": 1, \"strokeWidth\": 1}, \"encoding\": {\"fill\": {\"field\": \"is_present\", \"legend\": {\"title\": [\"Observed data\"]}, \"scale\": {\"range\": [\"black\", \"#ffffff00\"]}, \"type\": \"nominal\"}, \"shape\": {\"field\": \"is_present\", \"type\": \"nominal\"}, \"x\": {\"field\": \"time\", \"type\": \"temporal\"}, \"y\": {\"field\": \"value\", \"scale\": {\"zero\": false}, \"title\": \"SW_IN\", \"type\": \"quantitative\"}}}, {\"layer\": [{\"mark\": \"errorband\", \"encoding\": {\"color\": {\"field\": \"variable\", \"legend\": {\"title\": [\"Line: pred. mean\", \"area: +/- 2 std\"]}, \"type\": \"nominal\"}, \"x\": {\"field\": \"time\", \"type\": \"temporal\"}, \"y\": {\"field\": \"err_low\", \"scale\": {\"zero\": false}, \"title\": \"SW_IN\", \"type\": \"quantitative\"}, \"y2\": {\"field\": \"err_high\"}}, \"name\": \"view_13\"}, {\"mark\": \"line\", \"encoding\": {\"color\": {\"field\": \"variable\", \"type\": \"nominal\"}, \"x\": {\"field\": \"time\", \"type\": \"temporal\"}, \"y\": {\"field\": \"value\", \"scale\": {\"zero\": false}, \"title\": \"SW_IN\", \"type\": \"quantitative\"}}}]}], \"height\": 150, \"title\": \"SW_IN\", \"width\": 200}], \"data\": {\"name\": \"data-7c15b17e1c9f7b1ff2c3aa7db54e9153\"}}, {\"hconcat\": [{\"layer\": [{\"mark\": {\"type\": \"point\", \"color\": \"black\", \"fillOpacity\": 1, \"strokeWidth\": 1}, \"encoding\": {\"fill\": {\"field\": \"is_present\", \"legend\": {\"title\": [\"Observed data\"]}, \"scale\": {\"range\": [\"black\", \"#ffffff00\"]}, \"type\": \"nominal\"}, \"shape\": {\"field\": \"is_present\", \"type\": \"nominal\"}, \"x\": {\"field\": \"time\", \"type\": \"temporal\"}, \"y\": {\"field\": \"value\", \"scale\": {\"zero\": false}, \"title\": \"VPD\", \"type\": \"quantitative\"}}}, {\"layer\": [{\"mark\": \"errorband\", \"encoding\": {\"color\": {\"field\": \"variable\", \"legend\": {\"title\": [\"Line: pred. mean\", \"area: +/- 2 std\"]}, \"type\": \"nominal\"}, \"x\": {\"field\": \"time\", \"type\": \"temporal\"}, \"y\": {\"field\": \"err_low\", \"scale\": {\"zero\": false}, \"title\": \"VPD\", \"type\": \"quantitative\"}, \"y2\": {\"field\": \"err_high\"}}, \"name\": \"view_14\"}, {\"mark\": \"line\", \"encoding\": {\"color\": {\"field\": \"variable\", \"type\": \"nominal\"}, \"x\": {\"field\": \"time\", \"type\": \"temporal\"}, \"y\": {\"field\": \"value\", \"scale\": {\"zero\": false}, \"title\": \"VPD\", \"type\": \"quantitative\"}}}]}], \"height\": 150, \"title\": \"VPD\", \"width\": 200}], \"data\": {\"name\": \"data-73c11281fcc6172648292dbb463124a0\"}}], \"title\": \"loss: -48.829117\"}, {\"vconcat\": [{\"hconcat\": [{\"layer\": [{\"mark\": {\"type\": \"point\", \"color\": \"black\", \"fillOpacity\": 1, \"strokeWidth\": 1}, \"encoding\": {\"fill\": {\"field\": \"is_present\", \"legend\": {\"title\": [\"Observed data\"]}, \"scale\": {\"range\": [\"black\", \"#ffffff00\"]}, \"type\": \"nominal\"}, \"shape\": {\"field\": \"is_present\", \"type\": \"nominal\"}, \"x\": {\"field\": \"time\", \"type\": \"temporal\"}, \"y\": {\"field\": \"value\", \"scale\": {\"zero\": false}, \"title\": \"TA\", \"type\": \"quantitative\"}}}, {\"layer\": [{\"mark\": \"errorband\", \"encoding\": {\"color\": {\"field\": \"variable\", \"legend\": {\"title\": [\"Line: pred. mean\", \"area: +/- 2 std\"]}, \"type\": \"nominal\"}, \"x\": {\"field\": \"time\", \"type\": \"temporal\"}, \"y\": {\"field\": \"err_low\", \"scale\": {\"zero\": false}, \"title\": \"TA\", \"type\": \"quantitative\"}, \"y2\": {\"field\": \"err_high\"}}, \"name\": \"view_15\"}, {\"mark\": \"line\", \"encoding\": {\"color\": {\"field\": \"variable\", \"type\": \"nominal\"}, \"x\": {\"field\": \"time\", \"type\": \"temporal\"}, \"y\": {\"field\": \"value\", \"scale\": {\"zero\": false}, \"title\": \"TA\", \"type\": \"quantitative\"}}}]}], \"height\": 150, \"title\": \"TA\", \"width\": 200}], \"data\": {\"name\": \"data-ec4c3ec126120a6d02dfa14bfe58c61b\"}}, {\"hconcat\": [{\"layer\": [{\"mark\": {\"type\": \"point\", \"color\": \"black\", \"fillOpacity\": 1, \"strokeWidth\": 1}, \"encoding\": {\"fill\": {\"field\": \"is_present\", \"legend\": {\"title\": [\"Observed data\"]}, \"scale\": {\"range\": [\"black\", \"#ffffff00\"]}, \"type\": \"nominal\"}, \"shape\": {\"field\": \"is_present\", \"type\": \"nominal\"}, \"x\": {\"field\": \"time\", \"type\": \"temporal\"}, \"y\": {\"field\": \"value\", \"scale\": {\"zero\": false}, \"title\": \"SW_IN\", \"type\": \"quantitative\"}}}, {\"layer\": [{\"mark\": \"errorband\", \"encoding\": {\"color\": {\"field\": \"variable\", \"legend\": {\"title\": [\"Line: pred. mean\", \"area: +/- 2 std\"]}, \"type\": \"nominal\"}, \"x\": {\"field\": \"time\", \"type\": \"temporal\"}, \"y\": {\"field\": \"err_low\", \"scale\": {\"zero\": false}, \"title\": \"SW_IN\", \"type\": \"quantitative\"}, \"y2\": {\"field\": \"err_high\"}}, \"name\": \"view_16\"}, {\"mark\": \"line\", \"encoding\": {\"color\": {\"field\": \"variable\", \"type\": \"nominal\"}, \"x\": {\"field\": \"time\", \"type\": \"temporal\"}, \"y\": {\"field\": \"value\", \"scale\": {\"zero\": false}, \"title\": \"SW_IN\", \"type\": \"quantitative\"}}}]}], \"height\": 150, \"title\": \"SW_IN\", \"width\": 200}], \"data\": {\"name\": \"data-87b527096ab121eca2748c3892b6bfc3\"}}, {\"hconcat\": [{\"layer\": [{\"mark\": {\"type\": \"point\", \"color\": \"black\", \"fillOpacity\": 1, \"strokeWidth\": 1}, \"encoding\": {\"fill\": {\"field\": \"is_present\", \"legend\": {\"title\": [\"Observed data\"]}, \"scale\": {\"range\": [\"black\", \"#ffffff00\"]}, \"type\": \"nominal\"}, \"shape\": {\"field\": \"is_present\", \"type\": \"nominal\"}, \"x\": {\"field\": \"time\", \"type\": \"temporal\"}, \"y\": {\"field\": \"value\", \"scale\": {\"zero\": false}, \"title\": \"VPD\", \"type\": \"quantitative\"}}}, {\"layer\": [{\"mark\": \"errorband\", \"encoding\": {\"color\": {\"field\": \"variable\", \"legend\": {\"title\": [\"Line: pred. mean\", \"area: +/- 2 std\"]}, \"type\": \"nominal\"}, \"x\": {\"field\": \"time\", \"type\": \"temporal\"}, \"y\": {\"field\": \"err_low\", \"scale\": {\"zero\": false}, \"title\": \"VPD\", \"type\": \"quantitative\"}, \"y2\": {\"field\": \"err_high\"}}, \"name\": \"view_17\"}, {\"mark\": \"line\", \"encoding\": {\"color\": {\"field\": \"variable\", \"type\": \"nominal\"}, \"x\": {\"field\": \"time\", \"type\": \"temporal\"}, \"y\": {\"field\": \"value\", \"scale\": {\"zero\": false}, \"title\": \"VPD\", \"type\": \"quantitative\"}}}]}], \"height\": 150, \"title\": \"VPD\", \"width\": 200}], \"data\": {\"name\": \"data-50f65f0526974862c78c16eac506cdf3\"}}], \"title\": \"loss: -48.779083\"}, {\"vconcat\": [{\"hconcat\": [{\"layer\": [{\"mark\": {\"type\": \"point\", \"color\": \"black\", \"fillOpacity\": 1, \"strokeWidth\": 1}, \"encoding\": {\"fill\": {\"field\": \"is_present\", \"legend\": {\"title\": [\"Observed data\"]}, \"scale\": {\"range\": [\"black\", \"#ffffff00\"]}, \"type\": \"nominal\"}, \"shape\": {\"field\": \"is_present\", \"type\": \"nominal\"}, \"x\": {\"field\": \"time\", \"type\": \"temporal\"}, \"y\": {\"field\": \"value\", \"scale\": {\"zero\": false}, \"title\": \"TA\", \"type\": \"quantitative\"}}}, {\"layer\": [{\"mark\": \"errorband\", \"encoding\": {\"color\": {\"field\": \"variable\", \"legend\": {\"title\": [\"Line: pred. mean\", \"area: +/- 2 std\"]}, \"type\": \"nominal\"}, \"x\": {\"field\": \"time\", \"type\": \"temporal\"}, \"y\": {\"field\": \"err_low\", \"scale\": {\"zero\": false}, \"title\": \"TA\", \"type\": \"quantitative\"}, \"y2\": {\"field\": \"err_high\"}}, \"name\": \"view_18\"}, {\"mark\": \"line\", \"encoding\": {\"color\": {\"field\": \"variable\", \"type\": \"nominal\"}, \"x\": {\"field\": \"time\", \"type\": \"temporal\"}, \"y\": {\"field\": \"value\", \"scale\": {\"zero\": false}, \"title\": \"TA\", \"type\": \"quantitative\"}}}]}], \"height\": 150, \"title\": \"TA\", \"width\": 200}], \"data\": {\"name\": \"data-c148fe29ec3b976606f7950b2db90b5d\"}}, {\"hconcat\": [{\"layer\": [{\"mark\": {\"type\": \"point\", \"color\": \"black\", \"fillOpacity\": 1, \"strokeWidth\": 1}, \"encoding\": {\"fill\": {\"field\": \"is_present\", \"legend\": {\"title\": [\"Observed data\"]}, \"scale\": {\"range\": [\"black\", \"#ffffff00\"]}, \"type\": \"nominal\"}, \"shape\": {\"field\": \"is_present\", \"type\": \"nominal\"}, \"x\": {\"field\": \"time\", \"type\": \"temporal\"}, \"y\": {\"field\": \"value\", \"scale\": {\"zero\": false}, \"title\": \"SW_IN\", \"type\": \"quantitative\"}}}, {\"layer\": [{\"mark\": \"errorband\", \"encoding\": {\"color\": {\"field\": \"variable\", \"legend\": {\"title\": [\"Line: pred. mean\", \"area: +/- 2 std\"]}, \"type\": \"nominal\"}, \"x\": {\"field\": \"time\", \"type\": \"temporal\"}, \"y\": {\"field\": \"err_low\", \"scale\": {\"zero\": false}, \"title\": \"SW_IN\", \"type\": \"quantitative\"}, \"y2\": {\"field\": \"err_high\"}}, \"name\": \"view_19\"}, {\"mark\": \"line\", \"encoding\": {\"color\": {\"field\": \"variable\", \"type\": \"nominal\"}, \"x\": {\"field\": \"time\", \"type\": \"temporal\"}, \"y\": {\"field\": \"value\", \"scale\": {\"zero\": false}, \"title\": \"SW_IN\", \"type\": \"quantitative\"}}}]}], \"height\": 150, \"title\": \"SW_IN\", \"width\": 200}], \"data\": {\"name\": \"data-da966047168698ee21334455a76466e2\"}}, {\"hconcat\": [{\"layer\": [{\"mark\": {\"type\": \"point\", \"color\": \"black\", \"fillOpacity\": 1, \"strokeWidth\": 1}, \"encoding\": {\"fill\": {\"field\": \"is_present\", \"legend\": {\"title\": [\"Observed data\"]}, \"scale\": {\"range\": [\"black\", \"#ffffff00\"]}, \"type\": \"nominal\"}, \"shape\": {\"field\": \"is_present\", \"type\": \"nominal\"}, \"x\": {\"field\": \"time\", \"type\": \"temporal\"}, \"y\": {\"field\": \"value\", \"scale\": {\"zero\": false}, \"title\": \"VPD\", \"type\": \"quantitative\"}}}, {\"layer\": [{\"mark\": \"errorband\", \"encoding\": {\"color\": {\"field\": \"variable\", \"legend\": {\"title\": [\"Line: pred. mean\", \"area: +/- 2 std\"]}, \"type\": \"nominal\"}, \"x\": {\"field\": \"time\", \"type\": \"temporal\"}, \"y\": {\"field\": \"err_low\", \"scale\": {\"zero\": false}, \"title\": \"VPD\", \"type\": \"quantitative\"}, \"y2\": {\"field\": \"err_high\"}}, \"name\": \"view_20\"}, {\"mark\": \"line\", \"encoding\": {\"color\": {\"field\": \"variable\", \"type\": \"nominal\"}, \"x\": {\"field\": \"time\", \"type\": \"temporal\"}, \"y\": {\"field\": \"value\", \"scale\": {\"zero\": false}, \"title\": \"VPD\", \"type\": \"quantitative\"}}}]}], \"height\": 150, \"title\": \"VPD\", \"width\": 200}], \"data\": {\"name\": \"data-06dc186b9dfdb0de3297c6835086c757\"}}], \"title\": \"loss: -48.644238\"}], \"params\": [{\"name\": \"param_20\", \"select\": {\"type\": \"interval\", \"encodings\": [\"x\"]}, \"bind\": \"scales\", \"views\": [\"view_12\", \"view_13\", \"view_14\"]}, {\"name\": \"param_24\", \"select\": {\"type\": \"interval\", \"encodings\": [\"x\"]}, \"bind\": \"scales\", \"views\": [\"view_15\", \"view_16\", \"view_17\"]}, {\"name\": \"param_28\", \"select\": {\"type\": \"interval\", \"encodings\": [\"x\"]}, \"bind\": \"scales\", \"views\": [\"view_18\", \"view_19\", \"view_20\"]}], \"$schema\": \"https://vega.github.io/schema/vega-lite/v5.2.0.json\", \"datasets\": {\"data-70b091b1433ad9de3781f1ee9502f900\": [{\"time\": \"2000-01-01T00:30:00\", \"variable\": \"TA\", \"value\": -0.6000000238418579, \"is_present\": true, \"mean\": 13.672087669372559, \"std\": 13.46081256866455, \"err_low\": -27.521625518798828, \"err_high\": 26.321624755859375}, {\"time\": \"2000-01-01T01:00:00\", \"variable\": \"TA\", \"value\": -0.6499999761581421, \"is_present\": true, \"mean\": 7.615609169006348, \"std\": 17.64268684387207, \"err_low\": -35.93537521362305, \"err_high\": 34.635372161865234}, {\"time\": \"2000-01-01T01:30:00\", \"variable\": \"TA\", \"value\": -0.5799999833106995, \"is_present\": true, \"mean\": 3.977966785430908, \"std\": 18.539831161499023, \"err_low\": -37.659664154052734, \"err_high\": 36.49966049194336}, {\"time\": \"2000-01-01T02:00:00\", \"variable\": \"TA\", \"value\": -0.5099999904632568, \"is_present\": true, \"mean\": 1.1044721603393555, \"std\": 18.890878677368164, \"err_low\": -38.29175567626953, \"err_high\": 37.271759033203125}, {\"time\": \"2000-01-01T02:30:00\", \"variable\": \"TA\", \"value\": -0.49000000953674316, \"is_present\": false, \"mean\": -1.17144775390625, \"std\": 19.000003814697266, \"err_low\": -38.49000930786133, \"err_high\": 37.510005950927734}, {\"time\": \"2000-01-01T03:00:00\", \"variable\": \"TA\", \"value\": -0.4000000059604645, \"is_present\": false, \"mean\": -7.6313934326171875, \"std\": 37.4072265625, \"err_low\": -75.2144546508789, \"err_high\": 74.4144515991211}, {\"time\": \"2000-01-01T03:30:00\", \"variable\": \"TA\", \"value\": -0.36000001430511475, \"is_present\": true, \"mean\": -20.878704071044922, \"std\": 78.59339904785156, \"err_low\": -157.5467987060547, \"err_high\": 156.82679748535156}, {\"time\": \"2000-01-01T04:00:00\", \"variable\": \"TA\", \"value\": -0.3499999940395355, \"is_present\": true, \"mean\": -5.381496429443359, \"std\": 21.167133331298828, \"err_low\": -42.68426513671875, \"err_high\": 41.98426818847656}, {\"time\": \"2000-01-01T04:30:00\", \"variable\": \"TA\", \"value\": -0.2800000011920929, \"is_present\": true, \"mean\": -6.096301078796387, \"std\": 19.625816345214844, \"err_low\": -39.53163146972656, \"err_high\": 38.97163391113281}, {\"time\": \"2000-01-01T05:00:00\", \"variable\": \"TA\", \"value\": -0.27000001072883606, \"is_present\": true, \"mean\": -5.382109642028809, \"std\": 19.211864471435547, \"err_low\": -38.693729400634766, \"err_high\": 38.15372848510742}], \"data-7c15b17e1c9f7b1ff2c3aa7db54e9153\": [{\"time\": \"2000-01-01T00:30:00\", \"variable\": \"SW_IN\", \"value\": 0.0, \"is_present\": true, \"mean\": 430.2853698730469, \"std\": 552.4110717773438, \"err_low\": -1104.8221435546875, \"err_high\": 1104.8221435546875}, {\"time\": \"2000-01-01T01:00:00\", \"variable\": \"SW_IN\", \"value\": 0.0, \"is_present\": true, \"mean\": 160.25067138671875, \"std\": 750.7225341796875, \"err_low\": -1501.445068359375, \"err_high\": 1501.445068359375}, {\"time\": \"2000-01-01T01:30:00\", \"variable\": \"SW_IN\", \"value\": 0.0, \"is_present\": true, \"mean\": -27.065956115722656, \"std\": 782.6820068359375, \"err_low\": -1565.364013671875, \"err_high\": 1565.364013671875}, {\"time\": \"2000-01-01T02:00:00\", \"variable\": \"SW_IN\", \"value\": 0.0, \"is_present\": true, \"mean\": -122.48181915283203, \"std\": 796.1196899414062, \"err_low\": -1592.2393798828125, \"err_high\": 1592.2393798828125}, {\"time\": \"2000-01-01T02:30:00\", \"variable\": \"SW_IN\", \"value\": 0.0, \"is_present\": false, \"mean\": -219.6881103515625, \"std\": 799.94384765625, \"err_low\": -1599.8876953125, \"err_high\": 1599.8876953125}, {\"time\": \"2000-01-01T03:00:00\", \"variable\": \"SW_IN\", \"value\": 0.0, \"is_present\": false, \"mean\": -476.3343200683594, \"std\": 1560.3160400390625, \"err_low\": -3120.632080078125, \"err_high\": 3120.632080078125}, {\"time\": \"2000-01-01T03:30:00\", \"variable\": \"SW_IN\", \"value\": 0.0, \"is_present\": true, \"mean\": -1033.840576171875, \"std\": 3208.346435546875, \"err_low\": -6416.69287109375, \"err_high\": 6416.69287109375}, {\"time\": \"2000-01-01T04:00:00\", \"variable\": \"SW_IN\", \"value\": 0.0, \"is_present\": true, \"mean\": -388.618408203125, \"std\": 874.8359985351562, \"err_low\": -1749.6719970703125, \"err_high\": 1749.6719970703125}, {\"time\": \"2000-01-01T04:30:00\", \"variable\": \"SW_IN\", \"value\": 0.0, \"is_present\": true, \"mean\": -408.0887145996094, \"std\": 823.57373046875, \"err_low\": -1647.1474609375, \"err_high\": 1647.1474609375}, {\"time\": \"2000-01-01T05:00:00\", \"variable\": \"SW_IN\", \"value\": 0.0, \"is_present\": true, \"mean\": -381.62115478515625, \"std\": 807.4107666015625, \"err_low\": -1614.821533203125, \"err_high\": 1614.821533203125}], \"data-73c11281fcc6172648292dbb463124a0\": [{\"time\": \"2000-01-01T00:30:00\", \"variable\": \"VPD\", \"value\": 0.22200000286102295, \"is_present\": true, \"mean\": 11.109708786010742, \"std\": 13.35595703125, \"err_low\": -26.489913940429688, \"err_high\": 26.933914184570312}, {\"time\": \"2000-01-01T01:00:00\", \"variable\": \"VPD\", \"value\": 0.12200000137090683, \"is_present\": true, \"mean\": 3.9787888526916504, \"std\": 18.1784610748291, \"err_low\": -36.234920501708984, \"err_high\": 36.47892379760742}, {\"time\": \"2000-01-01T01:30:00\", \"variable\": \"VPD\", \"value\": 0.09000000357627869, \"is_present\": true, \"mean\": -0.13459110260009766, \"std\": 18.951292037963867, \"err_low\": -37.812583923339844, \"err_high\": 37.992584228515625}, {\"time\": \"2000-01-01T02:00:00\", \"variable\": \"VPD\", \"value\": 0.10999999940395355, \"is_present\": true, \"mean\": -2.597566843032837, \"std\": 19.26711082458496, \"err_low\": -38.42422103881836, \"err_high\": 38.644222259521484}, {\"time\": \"2000-01-01T02:30:00\", \"variable\": \"VPD\", \"value\": 0.10199999809265137, \"is_present\": true, \"mean\": -4.867453575134277, \"std\": 19.36022186279297, \"err_low\": -38.61844253540039, \"err_high\": 38.822444915771484}, {\"time\": \"2000-01-01T03:00:00\", \"variable\": \"VPD\", \"value\": 0.11100000143051147, \"is_present\": true, \"mean\": -11.272554397583008, \"std\": 37.26483154296875, \"err_low\": -74.41866302490234, \"err_high\": 74.64066314697266}, {\"time\": \"2000-01-01T03:30:00\", \"variable\": \"VPD\", \"value\": 0.10899999737739563, \"is_present\": true, \"mean\": -24.419189453125, \"std\": 76.76251983642578, \"err_low\": -153.41604614257812, \"err_high\": 153.634033203125}, {\"time\": \"2000-01-01T04:00:00\", \"variable\": \"VPD\", \"value\": 0.10700000077486038, \"is_present\": true, \"mean\": -8.908829689025879, \"std\": 21.201860427856445, \"err_low\": -42.296722412109375, \"err_high\": 42.510719299316406}, {\"time\": \"2000-01-01T04:30:00\", \"variable\": \"VPD\", \"value\": 0.12200000137090683, \"is_present\": true, \"mean\": -9.45600414276123, \"std\": 19.920251846313477, \"err_low\": -39.718502044677734, \"err_high\": 39.96250534057617}, {\"time\": \"2000-01-01T05:00:00\", \"variable\": \"VPD\", \"value\": 0.1379999965429306, \"is_present\": true, \"mean\": -8.805734634399414, \"std\": 19.541873931884766, \"err_low\": -38.94574737548828, \"err_high\": 39.22174835205078}], \"data-ec4c3ec126120a6d02dfa14bfe58c61b\": [{\"time\": \"2000-01-01T05:30:00\", \"variable\": \"TA\", \"value\": -0.23000000417232513, \"is_present\": true, \"mean\": 13.672087669372559, \"std\": 13.46081256866455, \"err_low\": -27.15162467956543, \"err_high\": 26.691625595092773}, {\"time\": \"2000-01-01T06:00:00\", \"variable\": \"TA\", \"value\": -0.23000000417232513, \"is_present\": true, \"mean\": 7.508827209472656, \"std\": 17.64268684387207, \"err_low\": -35.51537322998047, \"err_high\": 35.05537414550781}, {\"time\": \"2000-01-01T06:30:00\", \"variable\": \"TA\", \"value\": -0.2199999988079071, \"is_present\": true, \"mean\": 3.8224081993103027, \"std\": 18.539831161499023, \"err_low\": -37.29966354370117, \"err_high\": 36.85966110229492}, {\"time\": \"2000-01-01T07:00:00\", \"variable\": \"TA\", \"value\": -0.23999999463558197, \"is_present\": true, \"mean\": 1.0086688995361328, \"std\": 18.890878677368164, \"err_low\": -38.021759033203125, \"err_high\": 37.54175567626953}, {\"time\": \"2000-01-01T07:30:00\", \"variable\": \"TA\", \"value\": -0.23000000417232513, \"is_present\": true, \"mean\": -1.2489147186279297, \"std\": 19.000003814697266, \"err_low\": -38.23000717163086, \"err_high\": 37.7700080871582}, {\"time\": \"2000-01-01T08:00:00\", \"variable\": \"TA\", \"value\": -0.2199999988079071, \"is_present\": true, \"mean\": -2.4897193908691406, \"std\": 19.03643035888672, \"err_low\": -38.29286193847656, \"err_high\": 37.85285949707031}, {\"time\": \"2000-01-01T08:30:00\", \"variable\": \"TA\", \"value\": -0.1899999976158142, \"is_present\": false, \"mean\": -3.29512882232666, \"std\": 19.047597885131836, \"err_low\": -38.285194396972656, \"err_high\": 37.90519714355469}, {\"time\": \"2000-01-01T09:00:00\", \"variable\": \"TA\", \"value\": -0.14000000059604645, \"is_present\": false, \"mean\": -12.103025436401367, \"std\": 37.51668167114258, \"err_low\": -75.1733627319336, \"err_high\": 74.89336395263672}, {\"time\": \"2000-01-01T09:30:00\", \"variable\": \"TA\", \"value\": -0.029999999329447746, \"is_present\": true, \"mean\": -30.472944259643555, \"std\": 78.83171081542969, \"err_low\": -157.69342041015625, \"err_high\": 157.6334228515625}, {\"time\": \"2000-01-01T10:00:00\", \"variable\": \"TA\", \"value\": 0.03999999910593033, \"is_present\": true, \"mean\": -5.567352294921875, \"std\": 21.0856990814209, \"err_low\": -42.13139724731445, \"err_high\": 42.21139907836914}], \"data-87b527096ab121eca2748c3892b6bfc3\": [{\"time\": \"2000-01-01T05:30:00\", \"variable\": \"SW_IN\", \"value\": 0.0, \"is_present\": true, \"mean\": 430.2853698730469, \"std\": 552.4110717773438, \"err_low\": -1104.8221435546875, \"err_high\": 1104.8221435546875}, {\"time\": \"2000-01-01T06:00:00\", \"variable\": \"SW_IN\", \"value\": 0.0, \"is_present\": true, \"mean\": 155.57362365722656, \"std\": 750.7225341796875, \"err_low\": -1501.445068359375, \"err_high\": 1501.445068359375}, {\"time\": \"2000-01-01T06:30:00\", \"variable\": \"SW_IN\", \"value\": 0.0, \"is_present\": true, \"mean\": -33.450416564941406, \"std\": 782.6820068359375, \"err_low\": -1565.364013671875, \"err_high\": 1565.364013671875}, {\"time\": \"2000-01-01T07:00:00\", \"variable\": \"SW_IN\", \"value\": 0.0, \"is_present\": true, \"mean\": -126.55023956298828, \"std\": 796.1196899414062, \"err_low\": -1592.2393798828125, \"err_high\": 1592.2393798828125}, {\"time\": \"2000-01-01T07:30:00\", \"variable\": \"SW_IN\", \"value\": 0.0, \"is_present\": true, \"mean\": -223.41009521484375, \"std\": 799.94384765625, \"err_low\": -1599.8876953125, \"err_high\": 1599.8876953125}, {\"time\": \"2000-01-01T08:00:00\", \"variable\": \"SW_IN\", \"value\": 0.0, \"is_present\": true, \"mean\": -267.6772766113281, \"std\": 801.3131103515625, \"err_low\": -1602.626220703125, \"err_high\": 1602.626220703125}, {\"time\": \"2000-01-01T08:30:00\", \"variable\": \"SW_IN\", \"value\": 0.44999998807907104, \"is_present\": false, \"mean\": -301.14581298828125, \"std\": 801.7075805664062, \"err_low\": -1602.9652099609375, \"err_high\": 1603.8651123046875}, {\"time\": \"2000-01-01T09:00:00\", \"variable\": \"SW_IN\", \"value\": 3.700000047683716, \"is_present\": false, \"mean\": -660.130126953125, \"std\": 1564.6771240234375, \"err_low\": -3125.654296875, \"err_high\": 3133.05419921875}, {\"time\": \"2000-01-01T09:30:00\", \"variable\": \"SW_IN\", \"value\": 7.260000228881836, \"is_present\": true, \"mean\": -1422.7474365234375, \"std\": 3217.985107421875, \"err_low\": -6428.71044921875, \"err_high\": 6443.22998046875}, {\"time\": \"2000-01-01T10:00:00\", \"variable\": \"SW_IN\", \"value\": 12.239999771118164, \"is_present\": true, \"mean\": -398.2118225097656, \"std\": 872.228515625, \"err_low\": -1732.217041015625, \"err_high\": 1756.697021484375}], \"data-50f65f0526974862c78c16eac506cdf3\": [{\"time\": \"2000-01-01T05:30:00\", \"variable\": \"VPD\", \"value\": 0.1379999965429306, \"is_present\": true, \"mean\": 11.109708786010742, \"std\": 13.35595703125, \"err_low\": -26.57391357421875, \"err_high\": 26.84991455078125}, {\"time\": \"2000-01-01T06:00:00\", \"variable\": \"VPD\", \"value\": 0.12200000137090683, \"is_present\": true, \"mean\": 3.8639931678771973, \"std\": 18.1784610748291, \"err_low\": -36.234920501708984, \"err_high\": 36.47892379760742}, {\"time\": \"2000-01-01T06:30:00\", \"variable\": \"VPD\", \"value\": 0.09799999743700027, \"is_present\": true, \"mean\": -0.295961856842041, \"std\": 18.951292037963867, \"err_low\": -37.80458450317383, \"err_high\": 38.00058364868164}, {\"time\": \"2000-01-01T07:00:00\", \"variable\": \"VPD\", \"value\": 0.06599999964237213, \"is_present\": true, \"mean\": -2.7016818523406982, \"std\": 19.26711082458496, \"err_low\": -38.46821975708008, \"err_high\": 38.600223541259766}, {\"time\": \"2000-01-01T07:30:00\", \"variable\": \"VPD\", \"value\": 0.04399999976158142, \"is_present\": true, \"mean\": -4.956142425537109, \"std\": 19.36022186279297, \"err_low\": -38.67644500732422, \"err_high\": 38.764442443847656}, {\"time\": \"2000-01-01T08:00:00\", \"variable\": \"VPD\", \"value\": 0.026000000536441803, \"is_present\": true, \"mean\": -6.063875198364258, \"std\": 19.392681121826172, \"err_low\": -38.759361267089844, \"err_high\": 38.811363220214844}, {\"time\": \"2000-01-01T08:30:00\", \"variable\": \"VPD\", \"value\": 0.01600000075995922, \"is_present\": true, \"mean\": -6.852439880371094, \"std\": 19.402265548706055, \"err_low\": -38.78853225708008, \"err_high\": 38.82052993774414}, {\"time\": \"2000-01-01T09:00:00\", \"variable\": \"VPD\", \"value\": 0.009999999776482582, \"is_present\": true, \"mean\": -15.642884254455566, \"std\": 37.368839263916016, \"err_low\": -74.72767639160156, \"err_high\": 74.7476806640625}, {\"time\": \"2000-01-01T09:30:00\", \"variable\": \"VPD\", \"value\": 0.006000000052154064, \"is_present\": true, \"mean\": -33.72915267944336, \"std\": 76.99288177490234, \"err_low\": -153.97976684570312, \"err_high\": 153.99176025390625}, {\"time\": \"2000-01-01T10:00:00\", \"variable\": \"VPD\", \"value\": 0.006000000052154064, \"is_present\": true, \"mean\": -9.11234188079834, \"std\": 21.134706497192383, \"err_low\": -42.26341247558594, \"err_high\": 42.275413513183594}], \"data-c148fe29ec3b976606f7950b2db90b5d\": [{\"time\": \"2000-01-01T15:30:00\", \"variable\": \"TA\", \"value\": 0.5199999809265137, \"is_present\": true, \"mean\": 13.672087669372559, \"std\": 13.46081256866455, \"err_low\": -26.40162467956543, \"err_high\": 27.441625595092773}, {\"time\": \"2000-01-01T16:00:00\", \"variable\": \"TA\", \"value\": 0.5699999928474426, \"is_present\": true, \"mean\": 7.467527389526367, \"std\": 17.64268684387207, \"err_low\": -34.71537399291992, \"err_high\": 35.85537338256836}, {\"time\": \"2000-01-01T16:30:00\", \"variable\": \"TA\", \"value\": 0.7300000190734863, \"is_present\": true, \"mean\": 3.777771472930908, \"std\": 18.539831161499023, \"err_low\": -36.34966278076172, \"err_high\": 37.809661865234375}, {\"time\": \"2000-01-01T17:00:00\", \"variable\": \"TA\", \"value\": 0.7699999809265137, \"is_present\": true, \"mean\": 0.887725830078125, \"std\": 18.890878677368164, \"err_low\": -37.011756896972656, \"err_high\": 38.5517578125}, {\"time\": \"2000-01-01T17:30:00\", \"variable\": \"TA\", \"value\": 0.8399999737739563, \"is_present\": true, \"mean\": -1.3903837203979492, \"std\": 19.000003814697266, \"err_low\": -37.16000747680664, \"err_high\": 38.84000778198242}, {\"time\": \"2000-01-01T18:00:00\", \"variable\": \"TA\", \"value\": 0.9900000095367432, \"is_present\": true, \"mean\": -2.597193717956543, \"std\": 19.03643035888672, \"err_low\": -37.08285903930664, \"err_high\": 39.062862396240234}, {\"time\": \"2000-01-01T18:30:00\", \"variable\": \"TA\", \"value\": 1.350000023841858, \"is_present\": true, \"mean\": -3.373824119567871, \"std\": 19.047597885131836, \"err_low\": -36.74519729614258, \"err_high\": 39.445194244384766}, {\"time\": \"2000-01-01T19:00:00\", \"variable\": \"TA\", \"value\": 1.8600000143051147, \"is_present\": false, \"mean\": -3.789947509765625, \"std\": 19.051128387451172, \"err_low\": -36.24225616455078, \"err_high\": 39.962257385253906}, {\"time\": \"2000-01-01T19:30:00\", \"variable\": \"TA\", \"value\": 2.009999990463257, \"is_present\": false, \"mean\": -13.07402229309082, \"std\": 37.52476119995117, \"err_low\": -73.03952026367188, \"err_high\": 77.05952453613281}, {\"time\": \"2000-01-01T20:00:00\", \"variable\": \"TA\", \"value\": 2.069999933242798, \"is_present\": true, \"mean\": -32.596778869628906, \"std\": 78.84932708740234, \"err_low\": -155.62864685058594, \"err_high\": 159.76866149902344}], \"data-da966047168698ee21334455a76466e2\": [{\"time\": \"2000-01-01T15:30:00\", \"variable\": \"SW_IN\", \"value\": 8.09000015258789, \"is_present\": true, \"mean\": 430.2853698730469, \"std\": 552.4110717773438, \"err_low\": -1096.732177734375, \"err_high\": 1112.912109375}, {\"time\": \"2000-01-01T16:00:00\", \"variable\": \"SW_IN\", \"value\": 6.369999885559082, \"is_present\": true, \"mean\": 152.79029846191406, \"std\": 750.7225341796875, \"err_low\": -1495.0750732421875, \"err_high\": 1507.8150634765625}, {\"time\": \"2000-01-01T16:30:00\", \"variable\": \"SW_IN\", \"value\": 1.7200000286102295, \"is_present\": true, \"mean\": -36.308433532714844, \"std\": 782.6820068359375, \"err_low\": -1563.64404296875, \"err_high\": 1567.083984375}, {\"time\": \"2000-01-01T17:00:00\", \"variable\": \"SW_IN\", \"value\": 0.05999999865889549, \"is_present\": true, \"mean\": -131.97064208984375, \"std\": 796.1196899414062, \"err_low\": -1592.1793212890625, \"err_high\": 1592.2994384765625}, {\"time\": \"2000-01-01T17:30:00\", \"variable\": \"SW_IN\", \"value\": 0.0, \"is_present\": true, \"mean\": -230.01541137695312, \"std\": 799.94384765625, \"err_low\": -1599.8876953125, \"err_high\": 1599.8876953125}, {\"time\": \"2000-01-01T18:00:00\", \"variable\": \"SW_IN\", \"value\": 0.0, \"is_present\": true, \"mean\": -272.8282470703125, \"std\": 801.3131103515625, \"err_low\": -1602.626220703125, \"err_high\": 1602.626220703125}, {\"time\": \"2000-01-01T18:30:00\", \"variable\": \"SW_IN\", \"value\": 0.0, \"is_present\": true, \"mean\": -305.17840576171875, \"std\": 801.7075805664062, \"err_low\": -1603.4151611328125, \"err_high\": 1603.4151611328125}, {\"time\": \"2000-01-01T19:00:00\", \"variable\": \"SW_IN\", \"value\": 0.0, \"is_present\": false, \"mean\": -320.4742126464844, \"std\": 801.836181640625, \"err_low\": -1603.67236328125, \"err_high\": 1603.67236328125}, {\"time\": \"2000-01-01T19:30:00\", \"variable\": \"SW_IN\", \"value\": 0.0, \"is_present\": false, \"mean\": -702.54541015625, \"std\": 1565.0001220703125, \"err_low\": -3130.000244140625, \"err_high\": 3130.000244140625}, {\"time\": \"2000-01-01T20:00:00\", \"variable\": \"SW_IN\", \"value\": 0.0, \"is_present\": true, \"mean\": -1507.6102294921875, \"std\": 3218.69677734375, \"err_low\": -6437.3935546875, \"err_high\": 6437.3935546875}], \"data-06dc186b9dfdb0de3297c6835086c757\": [{\"time\": \"2000-01-01T15:30:00\", \"variable\": \"VPD\", \"value\": 0.0, \"is_present\": true, \"mean\": 11.109708786010742, \"std\": 13.35595703125, \"err_low\": -26.7119140625, \"err_high\": 26.7119140625}, {\"time\": \"2000-01-01T16:00:00\", \"variable\": \"VPD\", \"value\": 0.0, \"is_present\": true, \"mean\": 3.8060264587402344, \"std\": 18.1784610748291, \"err_low\": -36.3569221496582, \"err_high\": 36.3569221496582}, {\"time\": \"2000-01-01T16:30:00\", \"variable\": \"VPD\", \"value\": 0.0, \"is_present\": true, \"mean\": -0.3606736660003662, \"std\": 18.951292037963867, \"err_low\": -37.902584075927734, \"err_high\": 37.902584075927734}, {\"time\": \"2000-01-01T17:00:00\", \"variable\": \"VPD\", \"value\": 0.0, \"is_present\": true, \"mean\": -2.8436100482940674, \"std\": 19.26711082458496, \"err_low\": -38.53422164916992, \"err_high\": 38.53422164916992}, {\"time\": \"2000-01-01T17:30:00\", \"variable\": \"VPD\", \"value\": 0.0, \"is_present\": true, \"mean\": -5.128034591674805, \"std\": 19.36022186279297, \"err_low\": -38.72044372558594, \"err_high\": 38.72044372558594}, {\"time\": \"2000-01-01T18:00:00\", \"variable\": \"VPD\", \"value\": 0.0, \"is_present\": true, \"mean\": -6.204046249389648, \"std\": 19.392681121826172, \"err_low\": -38.785362243652344, \"err_high\": 38.785362243652344}, {\"time\": \"2000-01-01T18:30:00\", \"variable\": \"VPD\", \"value\": 0.0, \"is_present\": true, \"mean\": -6.969440460205078, \"std\": 19.402265548706055, \"err_low\": -38.80453109741211, \"err_high\": 38.80453109741211}, {\"time\": \"2000-01-01T19:00:00\", \"variable\": \"VPD\", \"value\": 0.0020000000949949026, \"is_present\": true, \"mean\": -7.356374740600586, \"std\": 19.405353546142578, \"err_low\": -38.80870819091797, \"err_high\": 38.812705993652344}, {\"time\": \"2000-01-01T19:30:00\", \"variable\": \"VPD\", \"value\": 0.008999999612569809, \"is_present\": true, \"mean\": -16.62888526916504, \"std\": 37.376529693603516, \"err_low\": -74.74405670166016, \"err_high\": 74.7620620727539}, {\"time\": \"2000-01-01T20:00:00\", \"variable\": \"VPD\", \"value\": 0.014000000432133675, \"is_present\": true, \"mean\": -35.77463150024414, \"std\": 77.00989532470703, \"err_low\": -154.0057830810547, \"err_high\": 154.03379821777344}]}}, {\"mode\": \"vega-lite\"});\n",
       "</script>"
      ],
      "text/plain": [
       "alt.HConcatChart(...)"
      ]
     },
     "execution_count": null,
     "metadata": {},
     "output_type": "execute_result"
    }
   ],
   "source": [
    "plot_results(preds, targs, losses)"
   ]
  },
  {
   "cell_type": "markdown",
   "id": "32cb6c99-004e-4235-82d5-1617e79b7097",
   "metadata": {},
   "source": [
    "#### Show Results"
   ]
  },
  {
   "cell_type": "code",
   "execution_count": null,
   "id": "5f6a1a9f-2a79-4b27-960b-4a8a446de9ac",
   "metadata": {},
   "outputs": [
    {
     "data": {
      "text/plain": [
       "[519, 1120, 534]"
      ]
     },
     "execution_count": null,
     "metadata": {},
     "output_type": "execute_result"
    }
   ],
   "source": [
    "random.choices(learn.dls.items, k=3)"
   ]
  },
  {
   "cell_type": "code",
   "execution_count": null,
   "id": "ec86db59-0ee4-46c1-af35-290ba45284c0",
   "metadata": {},
   "outputs": [],
   "source": [
    "#| export\n",
    "def show_results(learn, n=3):\n",
    "    items = random.choices(learn.dls.items, k=3)\n",
    "    pipe0, pipe1 = learn.dls.fs[0][0,1], learn.dls.fs[0][2,3]\n",
    "    return plot_results(*predict_items(items, learn, pipe0, pipe1))\n",
    "    "
   ]
  },
  {
   "cell_type": "code",
   "execution_count": null,
   "id": "38bb0979-c84d-45ff-8b25-6e737816204b",
   "metadata": {},
   "outputs": [
    {
     "name": "stdout",
     "output_type": "stream",
     "text": [
      "decoding\n",
      "decoding\n",
      "decoding\n"
     ]
    },
    {
     "data": {
      "text/html": [
       "\n",
       "<div id=\"altair-viz-20812b99c9e340cda4c8ed4101ac1390\"></div>\n",
       "<script type=\"text/javascript\">\n",
       "  var VEGA_DEBUG = (typeof VEGA_DEBUG == \"undefined\") ? {} : VEGA_DEBUG;\n",
       "  (function(spec, embedOpt){\n",
       "    let outputDiv = document.currentScript.previousElementSibling;\n",
       "    if (outputDiv.id !== \"altair-viz-20812b99c9e340cda4c8ed4101ac1390\") {\n",
       "      outputDiv = document.getElementById(\"altair-viz-20812b99c9e340cda4c8ed4101ac1390\");\n",
       "    }\n",
       "    const paths = {\n",
       "      \"vega\": \"https://cdn.jsdelivr.net/npm//vega@5?noext\",\n",
       "      \"vega-lib\": \"https://cdn.jsdelivr.net/npm//vega-lib?noext\",\n",
       "      \"vega-lite\": \"https://cdn.jsdelivr.net/npm//vega-lite@5.2.0?noext\",\n",
       "      \"vega-embed\": \"https://cdn.jsdelivr.net/npm//vega-embed@6?noext\",\n",
       "    };\n",
       "\n",
       "    function maybeLoadScript(lib, version) {\n",
       "      var key = `${lib.replace(\"-\", \"\")}_version`;\n",
       "      return (VEGA_DEBUG[key] == version) ?\n",
       "        Promise.resolve(paths[lib]) :\n",
       "        new Promise(function(resolve, reject) {\n",
       "          var s = document.createElement('script');\n",
       "          document.getElementsByTagName(\"head\")[0].appendChild(s);\n",
       "          s.async = true;\n",
       "          s.onload = () => {\n",
       "            VEGA_DEBUG[key] = version;\n",
       "            return resolve(paths[lib]);\n",
       "          };\n",
       "          s.onerror = () => reject(`Error loading script: ${paths[lib]}`);\n",
       "          s.src = paths[lib];\n",
       "        });\n",
       "    }\n",
       "\n",
       "    function showError(err) {\n",
       "      outputDiv.innerHTML = `<div class=\"error\" style=\"color:red;\">${err}</div>`;\n",
       "      throw err;\n",
       "    }\n",
       "\n",
       "    function displayChart(vegaEmbed) {\n",
       "      vegaEmbed(outputDiv, spec, embedOpt)\n",
       "        .catch(err => showError(`Javascript Error: ${err.message}<br>This usually means there's a typo in your chart specification. See the javascript console for the full traceback.`));\n",
       "    }\n",
       "\n",
       "    if(typeof define === \"function\" && define.amd) {\n",
       "      requirejs.config({paths});\n",
       "      require([\"vega-embed\"], displayChart, err => showError(`Error loading script: ${err.message}`));\n",
       "    } else {\n",
       "      maybeLoadScript(\"vega\", \"5\")\n",
       "        .then(() => maybeLoadScript(\"vega-lite\", \"5.2.0\"))\n",
       "        .then(() => maybeLoadScript(\"vega-embed\", \"6\"))\n",
       "        .catch(showError)\n",
       "        .then(() => displayChart(vegaEmbed));\n",
       "    }\n",
       "  })({\"config\": {\"view\": {\"continuousWidth\": 400, \"continuousHeight\": 300}}, \"hconcat\": [{\"vconcat\": [{\"hconcat\": [{\"layer\": [{\"mark\": {\"type\": \"point\", \"color\": \"black\", \"fillOpacity\": 1, \"strokeWidth\": 1}, \"encoding\": {\"fill\": {\"field\": \"is_present\", \"legend\": {\"title\": [\"Observed data\"]}, \"scale\": {\"range\": [\"black\", \"#ffffff00\"]}, \"type\": \"nominal\"}, \"shape\": {\"field\": \"is_present\", \"type\": \"nominal\"}, \"x\": {\"field\": \"time\", \"type\": \"temporal\"}, \"y\": {\"field\": \"value\", \"scale\": {\"zero\": false}, \"title\": \"TA\", \"type\": \"quantitative\"}}}, {\"layer\": [{\"mark\": \"errorband\", \"encoding\": {\"color\": {\"field\": \"variable\", \"legend\": {\"title\": [\"Line: pred. mean\", \"area: +/- 2 std\"]}, \"type\": \"nominal\"}, \"x\": {\"field\": \"time\", \"type\": \"temporal\"}, \"y\": {\"field\": \"err_low\", \"scale\": {\"zero\": false}, \"title\": \"TA\", \"type\": \"quantitative\"}, \"y2\": {\"field\": \"err_high\"}}, \"name\": \"view_21\"}, {\"mark\": \"line\", \"encoding\": {\"color\": {\"field\": \"variable\", \"type\": \"nominal\"}, \"x\": {\"field\": \"time\", \"type\": \"temporal\"}, \"y\": {\"field\": \"value\", \"scale\": {\"zero\": false}, \"title\": \"TA\", \"type\": \"quantitative\"}}}]}], \"height\": 150, \"title\": \"TA\", \"width\": 200}], \"data\": {\"name\": \"data-c8925e570d6d9e556a8c45ac4ec1780e\"}}, {\"hconcat\": [{\"layer\": [{\"mark\": {\"type\": \"point\", \"color\": \"black\", \"fillOpacity\": 1, \"strokeWidth\": 1}, \"encoding\": {\"fill\": {\"field\": \"is_present\", \"legend\": {\"title\": [\"Observed data\"]}, \"scale\": {\"range\": [\"black\", \"#ffffff00\"]}, \"type\": \"nominal\"}, \"shape\": {\"field\": \"is_present\", \"type\": \"nominal\"}, \"x\": {\"field\": \"time\", \"type\": \"temporal\"}, \"y\": {\"field\": \"value\", \"scale\": {\"zero\": false}, \"title\": \"SW_IN\", \"type\": \"quantitative\"}}}, {\"layer\": [{\"mark\": \"errorband\", \"encoding\": {\"color\": {\"field\": \"variable\", \"legend\": {\"title\": [\"Line: pred. mean\", \"area: +/- 2 std\"]}, \"type\": \"nominal\"}, \"x\": {\"field\": \"time\", \"type\": \"temporal\"}, \"y\": {\"field\": \"err_low\", \"scale\": {\"zero\": false}, \"title\": \"SW_IN\", \"type\": \"quantitative\"}, \"y2\": {\"field\": \"err_high\"}}, \"name\": \"view_22\"}, {\"mark\": \"line\", \"encoding\": {\"color\": {\"field\": \"variable\", \"type\": \"nominal\"}, \"x\": {\"field\": \"time\", \"type\": \"temporal\"}, \"y\": {\"field\": \"value\", \"scale\": {\"zero\": false}, \"title\": \"SW_IN\", \"type\": \"quantitative\"}}}]}], \"height\": 150, \"title\": \"SW_IN\", \"width\": 200}], \"data\": {\"name\": \"data-83fceecd0c6e0d19d3f0d1b7ccb9f908\"}}, {\"hconcat\": [{\"layer\": [{\"mark\": {\"type\": \"point\", \"color\": \"black\", \"fillOpacity\": 1, \"strokeWidth\": 1}, \"encoding\": {\"fill\": {\"field\": \"is_present\", \"legend\": {\"title\": [\"Observed data\"]}, \"scale\": {\"range\": [\"black\", \"#ffffff00\"]}, \"type\": \"nominal\"}, \"shape\": {\"field\": \"is_present\", \"type\": \"nominal\"}, \"x\": {\"field\": \"time\", \"type\": \"temporal\"}, \"y\": {\"field\": \"value\", \"scale\": {\"zero\": false}, \"title\": \"VPD\", \"type\": \"quantitative\"}}}, {\"layer\": [{\"mark\": \"errorband\", \"encoding\": {\"color\": {\"field\": \"variable\", \"legend\": {\"title\": [\"Line: pred. mean\", \"area: +/- 2 std\"]}, \"type\": \"nominal\"}, \"x\": {\"field\": \"time\", \"type\": \"temporal\"}, \"y\": {\"field\": \"err_low\", \"scale\": {\"zero\": false}, \"title\": \"VPD\", \"type\": \"quantitative\"}, \"y2\": {\"field\": \"err_high\"}}, \"name\": \"view_23\"}, {\"mark\": \"line\", \"encoding\": {\"color\": {\"field\": \"variable\", \"type\": \"nominal\"}, \"x\": {\"field\": \"time\", \"type\": \"temporal\"}, \"y\": {\"field\": \"value\", \"scale\": {\"zero\": false}, \"title\": \"VPD\", \"type\": \"quantitative\"}}}]}], \"height\": 150, \"title\": \"VPD\", \"width\": 200}], \"data\": {\"name\": \"data-c5bbbebd32a1b14b2d318fea3392065b\"}}], \"title\": \"loss: -47.694523\"}, {\"vconcat\": [{\"hconcat\": [{\"layer\": [{\"mark\": {\"type\": \"point\", \"color\": \"black\", \"fillOpacity\": 1, \"strokeWidth\": 1}, \"encoding\": {\"fill\": {\"field\": \"is_present\", \"legend\": {\"title\": [\"Observed data\"]}, \"scale\": {\"range\": [\"black\", \"#ffffff00\"]}, \"type\": \"nominal\"}, \"shape\": {\"field\": \"is_present\", \"type\": \"nominal\"}, \"x\": {\"field\": \"time\", \"type\": \"temporal\"}, \"y\": {\"field\": \"value\", \"scale\": {\"zero\": false}, \"title\": \"TA\", \"type\": \"quantitative\"}}}, {\"layer\": [{\"mark\": \"errorband\", \"encoding\": {\"color\": {\"field\": \"variable\", \"legend\": {\"title\": [\"Line: pred. mean\", \"area: +/- 2 std\"]}, \"type\": \"nominal\"}, \"x\": {\"field\": \"time\", \"type\": \"temporal\"}, \"y\": {\"field\": \"err_low\", \"scale\": {\"zero\": false}, \"title\": \"TA\", \"type\": \"quantitative\"}, \"y2\": {\"field\": \"err_high\"}}, \"name\": \"view_24\"}, {\"mark\": \"line\", \"encoding\": {\"color\": {\"field\": \"variable\", \"type\": \"nominal\"}, \"x\": {\"field\": \"time\", \"type\": \"temporal\"}, \"y\": {\"field\": \"value\", \"scale\": {\"zero\": false}, \"title\": \"TA\", \"type\": \"quantitative\"}}}]}], \"height\": 150, \"title\": \"TA\", \"width\": 200}], \"data\": {\"name\": \"data-86df31df145cf23c550e69b240ab710e\"}}, {\"hconcat\": [{\"layer\": [{\"mark\": {\"type\": \"point\", \"color\": \"black\", \"fillOpacity\": 1, \"strokeWidth\": 1}, \"encoding\": {\"fill\": {\"field\": \"is_present\", \"legend\": {\"title\": [\"Observed data\"]}, \"scale\": {\"range\": [\"black\", \"#ffffff00\"]}, \"type\": \"nominal\"}, \"shape\": {\"field\": \"is_present\", \"type\": \"nominal\"}, \"x\": {\"field\": \"time\", \"type\": \"temporal\"}, \"y\": {\"field\": \"value\", \"scale\": {\"zero\": false}, \"title\": \"SW_IN\", \"type\": \"quantitative\"}}}, {\"layer\": [{\"mark\": \"errorband\", \"encoding\": {\"color\": {\"field\": \"variable\", \"legend\": {\"title\": [\"Line: pred. mean\", \"area: +/- 2 std\"]}, \"type\": \"nominal\"}, \"x\": {\"field\": \"time\", \"type\": \"temporal\"}, \"y\": {\"field\": \"err_low\", \"scale\": {\"zero\": false}, \"title\": \"SW_IN\", \"type\": \"quantitative\"}, \"y2\": {\"field\": \"err_high\"}}, \"name\": \"view_25\"}, {\"mark\": \"line\", \"encoding\": {\"color\": {\"field\": \"variable\", \"type\": \"nominal\"}, \"x\": {\"field\": \"time\", \"type\": \"temporal\"}, \"y\": {\"field\": \"value\", \"scale\": {\"zero\": false}, \"title\": \"SW_IN\", \"type\": \"quantitative\"}}}]}], \"height\": 150, \"title\": \"SW_IN\", \"width\": 200}], \"data\": {\"name\": \"data-24c723ed524f23f39e31f49531894fe2\"}}, {\"hconcat\": [{\"layer\": [{\"mark\": {\"type\": \"point\", \"color\": \"black\", \"fillOpacity\": 1, \"strokeWidth\": 1}, \"encoding\": {\"fill\": {\"field\": \"is_present\", \"legend\": {\"title\": [\"Observed data\"]}, \"scale\": {\"range\": [\"black\", \"#ffffff00\"]}, \"type\": \"nominal\"}, \"shape\": {\"field\": \"is_present\", \"type\": \"nominal\"}, \"x\": {\"field\": \"time\", \"type\": \"temporal\"}, \"y\": {\"field\": \"value\", \"scale\": {\"zero\": false}, \"title\": \"VPD\", \"type\": \"quantitative\"}}}, {\"layer\": [{\"mark\": \"errorband\", \"encoding\": {\"color\": {\"field\": \"variable\", \"legend\": {\"title\": [\"Line: pred. mean\", \"area: +/- 2 std\"]}, \"type\": \"nominal\"}, \"x\": {\"field\": \"time\", \"type\": \"temporal\"}, \"y\": {\"field\": \"err_low\", \"scale\": {\"zero\": false}, \"title\": \"VPD\", \"type\": \"quantitative\"}, \"y2\": {\"field\": \"err_high\"}}, \"name\": \"view_26\"}, {\"mark\": \"line\", \"encoding\": {\"color\": {\"field\": \"variable\", \"type\": \"nominal\"}, \"x\": {\"field\": \"time\", \"type\": \"temporal\"}, \"y\": {\"field\": \"value\", \"scale\": {\"zero\": false}, \"title\": \"VPD\", \"type\": \"quantitative\"}}}]}], \"height\": 150, \"title\": \"VPD\", \"width\": 200}], \"data\": {\"name\": \"data-c0861d5ff29cbabc697f9c6cedc72067\"}}], \"title\": \"loss: -48.779083\"}, {\"vconcat\": [{\"hconcat\": [{\"layer\": [{\"mark\": {\"type\": \"point\", \"color\": \"black\", \"fillOpacity\": 1, \"strokeWidth\": 1}, \"encoding\": {\"fill\": {\"field\": \"is_present\", \"legend\": {\"title\": [\"Observed data\"]}, \"scale\": {\"range\": [\"black\", \"#ffffff00\"]}, \"type\": \"nominal\"}, \"shape\": {\"field\": \"is_present\", \"type\": \"nominal\"}, \"x\": {\"field\": \"time\", \"type\": \"temporal\"}, \"y\": {\"field\": \"value\", \"scale\": {\"zero\": false}, \"title\": \"TA\", \"type\": \"quantitative\"}}}, {\"layer\": [{\"mark\": \"errorband\", \"encoding\": {\"color\": {\"field\": \"variable\", \"legend\": {\"title\": [\"Line: pred. mean\", \"area: +/- 2 std\"]}, \"type\": \"nominal\"}, \"x\": {\"field\": \"time\", \"type\": \"temporal\"}, \"y\": {\"field\": \"err_low\", \"scale\": {\"zero\": false}, \"title\": \"TA\", \"type\": \"quantitative\"}, \"y2\": {\"field\": \"err_high\"}}, \"name\": \"view_27\"}, {\"mark\": \"line\", \"encoding\": {\"color\": {\"field\": \"variable\", \"type\": \"nominal\"}, \"x\": {\"field\": \"time\", \"type\": \"temporal\"}, \"y\": {\"field\": \"value\", \"scale\": {\"zero\": false}, \"title\": \"TA\", \"type\": \"quantitative\"}}}]}], \"height\": 150, \"title\": \"TA\", \"width\": 200}], \"data\": {\"name\": \"data-16ff79a2293060120c38aa7baef2fa53\"}}, {\"hconcat\": [{\"layer\": [{\"mark\": {\"type\": \"point\", \"color\": \"black\", \"fillOpacity\": 1, \"strokeWidth\": 1}, \"encoding\": {\"fill\": {\"field\": \"is_present\", \"legend\": {\"title\": [\"Observed data\"]}, \"scale\": {\"range\": [\"black\", \"#ffffff00\"]}, \"type\": \"nominal\"}, \"shape\": {\"field\": \"is_present\", \"type\": \"nominal\"}, \"x\": {\"field\": \"time\", \"type\": \"temporal\"}, \"y\": {\"field\": \"value\", \"scale\": {\"zero\": false}, \"title\": \"SW_IN\", \"type\": \"quantitative\"}}}, {\"layer\": [{\"mark\": \"errorband\", \"encoding\": {\"color\": {\"field\": \"variable\", \"legend\": {\"title\": [\"Line: pred. mean\", \"area: +/- 2 std\"]}, \"type\": \"nominal\"}, \"x\": {\"field\": \"time\", \"type\": \"temporal\"}, \"y\": {\"field\": \"err_low\", \"scale\": {\"zero\": false}, \"title\": \"SW_IN\", \"type\": \"quantitative\"}, \"y2\": {\"field\": \"err_high\"}}, \"name\": \"view_28\"}, {\"mark\": \"line\", \"encoding\": {\"color\": {\"field\": \"variable\", \"type\": \"nominal\"}, \"x\": {\"field\": \"time\", \"type\": \"temporal\"}, \"y\": {\"field\": \"value\", \"scale\": {\"zero\": false}, \"title\": \"SW_IN\", \"type\": \"quantitative\"}}}]}], \"height\": 150, \"title\": \"SW_IN\", \"width\": 200}], \"data\": {\"name\": \"data-bb4462d2fc67af9e95a76c037e6aa381\"}}, {\"hconcat\": [{\"layer\": [{\"mark\": {\"type\": \"point\", \"color\": \"black\", \"fillOpacity\": 1, \"strokeWidth\": 1}, \"encoding\": {\"fill\": {\"field\": \"is_present\", \"legend\": {\"title\": [\"Observed data\"]}, \"scale\": {\"range\": [\"black\", \"#ffffff00\"]}, \"type\": \"nominal\"}, \"shape\": {\"field\": \"is_present\", \"type\": \"nominal\"}, \"x\": {\"field\": \"time\", \"type\": \"temporal\"}, \"y\": {\"field\": \"value\", \"scale\": {\"zero\": false}, \"title\": \"VPD\", \"type\": \"quantitative\"}}}, {\"layer\": [{\"mark\": \"errorband\", \"encoding\": {\"color\": {\"field\": \"variable\", \"legend\": {\"title\": [\"Line: pred. mean\", \"area: +/- 2 std\"]}, \"type\": \"nominal\"}, \"x\": {\"field\": \"time\", \"type\": \"temporal\"}, \"y\": {\"field\": \"err_low\", \"scale\": {\"zero\": false}, \"title\": \"VPD\", \"type\": \"quantitative\"}, \"y2\": {\"field\": \"err_high\"}}, \"name\": \"view_29\"}, {\"mark\": \"line\", \"encoding\": {\"color\": {\"field\": \"variable\", \"type\": \"nominal\"}, \"x\": {\"field\": \"time\", \"type\": \"temporal\"}, \"y\": {\"field\": \"value\", \"scale\": {\"zero\": false}, \"title\": \"VPD\", \"type\": \"quantitative\"}}}]}], \"height\": 150, \"title\": \"VPD\", \"width\": 200}], \"data\": {\"name\": \"data-08221e3a0cbf4668517f5d194f1ecdab\"}}], \"title\": \"loss: -48.826630\"}], \"params\": [{\"name\": \"param_32\", \"select\": {\"type\": \"interval\", \"encodings\": [\"x\"]}, \"bind\": \"scales\", \"views\": [\"view_21\", \"view_22\", \"view_23\"]}, {\"name\": \"param_36\", \"select\": {\"type\": \"interval\", \"encodings\": [\"x\"]}, \"bind\": \"scales\", \"views\": [\"view_24\", \"view_25\", \"view_26\"]}, {\"name\": \"param_40\", \"select\": {\"type\": \"interval\", \"encodings\": [\"x\"]}, \"bind\": \"scales\", \"views\": [\"view_27\", \"view_28\", \"view_29\"]}], \"$schema\": \"https://vega.github.io/schema/vega-lite/v5.2.0.json\", \"datasets\": {\"data-c8925e570d6d9e556a8c45ac4ec1780e\": [{\"time\": \"2000-10-18T11:30:00\", \"variable\": \"TA\", \"value\": 8.119999885559082, \"is_present\": false, \"mean\": 12.687756538391113, \"std\": 12.094961166381836, \"err_low\": -16.069923400878906, \"err_high\": 32.30992126464844}, {\"time\": \"2000-10-18T12:00:00\", \"variable\": \"TA\", \"value\": 10.079999923706055, \"is_present\": false, \"mean\": 21.071622848510742, \"std\": 22.07245445251465, \"err_low\": -34.064910888671875, \"err_high\": 54.22490692138672}, {\"time\": \"2000-10-18T12:30:00\", \"variable\": \"TA\", \"value\": 10.930000305175781, \"is_present\": true, \"mean\": 40.944183349609375, \"std\": 45.11522674560547, \"err_low\": -79.30045318603516, \"err_high\": 101.16045379638672}, {\"time\": \"2000-10-18T13:00:00\", \"variable\": \"TA\", \"value\": 11.119999885559082, \"is_present\": true, \"mean\": 18.382102966308594, \"std\": 18.833370208740234, \"err_low\": -26.546741485595703, \"err_high\": 48.786739349365234}, {\"time\": \"2000-10-18T13:30:00\", \"variable\": \"TA\", \"value\": 10.109999656677246, \"is_present\": true, \"mean\": 16.76663589477539, \"std\": 17.593595504760742, \"err_low\": -25.077190399169922, \"err_high\": 45.29719161987305}, {\"time\": \"2000-10-18T14:00:00\", \"variable\": \"TA\", \"value\": 10.100000381469727, \"is_present\": true, \"mean\": 16.037458419799805, \"std\": 17.250696182250977, \"err_low\": -24.401391983032227, \"err_high\": 44.60139465332031}, {\"time\": \"2000-10-18T14:30:00\", \"variable\": \"TA\", \"value\": 9.989999771118164, \"is_present\": true, \"mean\": 16.04275894165039, \"std\": 17.162227630615234, \"err_low\": -24.334455490112305, \"err_high\": 44.314453125}, {\"time\": \"2000-10-18T15:00:00\", \"variable\": \"TA\", \"value\": 9.829999923706055, \"is_present\": true, \"mean\": 11.373013496398926, \"std\": 17.131999969482422, \"err_low\": -24.43400001525879, \"err_high\": 44.09400177001953}, {\"time\": \"2000-10-18T15:30:00\", \"variable\": \"TA\", \"value\": 9.899999618530273, \"is_present\": true, \"mean\": 8.321052551269531, \"std\": 17.123306274414062, \"err_low\": -24.34661293029785, \"err_high\": 44.14661407470703}, {\"time\": \"2000-10-18T16:00:00\", \"variable\": \"TA\", \"value\": 10.029999732971191, \"is_present\": true, \"mean\": 7.491441249847412, \"std\": 17.120492935180664, \"err_low\": -24.210987091064453, \"err_high\": 44.2709846496582}], \"data-83fceecd0c6e0d19d3f0d1b7ccb9f908\": [{\"time\": \"2000-10-18T11:30:00\", \"variable\": \"SW_IN\", \"value\": 259.1400146484375, \"is_present\": false, \"mean\": 395.5548400878906, \"std\": 513.365478515625, \"err_low\": -767.5909423828125, \"err_high\": 1285.8709716796875}, {\"time\": \"2000-10-18T12:00:00\", \"variable\": \"SW_IN\", \"value\": 276.0400085449219, \"is_present\": false, \"mean\": 748.3204956054688, \"std\": 964.998779296875, \"err_low\": -1653.95751953125, \"err_high\": 2206.03759765625}, {\"time\": \"2000-10-18T12:30:00\", \"variable\": \"SW_IN\", \"value\": 483.17999267578125, \"is_present\": true, \"mean\": 1514.1107177734375, \"std\": 1921.2464599609375, \"err_low\": -3359.31298828125, \"err_high\": 4325.6728515625}, {\"time\": \"2000-10-18T13:00:00\", \"variable\": \"SW_IN\", \"value\": 364.6300048828125, \"is_present\": true, \"mean\": 550.876220703125, \"std\": 806.0020141601562, \"err_low\": -1247.3740234375, \"err_high\": 1976.634033203125}, {\"time\": \"2000-10-18T13:30:00\", \"variable\": \"SW_IN\", \"value\": 341.489990234375, \"is_present\": true, \"mean\": 527.4537353515625, \"std\": 763.8162841796875, \"err_low\": -1186.142578125, \"err_high\": 1869.12255859375}, {\"time\": \"2000-10-18T14:00:00\", \"variable\": \"SW_IN\", \"value\": 329.1300048828125, \"is_present\": true, \"mean\": 449.43829345703125, \"std\": 749.8901977539062, \"err_low\": -1170.650390625, \"err_high\": 1828.910400390625}, {\"time\": \"2000-10-18T14:30:00\", \"variable\": \"SW_IN\", \"value\": 136.52000427246094, \"is_present\": true, \"mean\": 474.4338073730469, \"std\": 746.8714599609375, \"err_low\": -1357.222900390625, \"err_high\": 1630.262939453125}, {\"time\": \"2000-10-18T15:00:00\", \"variable\": \"SW_IN\", \"value\": 88.91000366210938, \"is_present\": true, \"mean\": 296.50439453125, \"std\": 745.6666259765625, \"err_low\": -1402.4232177734375, \"err_high\": 1580.2432861328125}, {\"time\": \"2000-10-18T15:30:00\", \"variable\": \"SW_IN\", \"value\": 100.37999725341797, \"is_present\": true, \"mean\": 156.5634307861328, \"std\": 745.3603515625, \"err_low\": -1390.3406982421875, \"err_high\": 1591.1007080078125}, {\"time\": \"2000-10-18T16:00:00\", \"variable\": \"SW_IN\", \"value\": 117.58999633789062, \"is_present\": true, \"mean\": 126.92886352539062, \"std\": 745.2517700195312, \"err_low\": -1372.91357421875, \"err_high\": 1608.093505859375}], \"data-c5bbbebd32a1b14b2d318fea3392065b\": [{\"time\": \"2000-10-18T11:30:00\", \"variable\": \"VPD\", \"value\": 2.9010000228881836, \"is_present\": true, \"mean\": 9.28714656829834, \"std\": 11.113764762878418, \"err_low\": -19.32653045654297, \"err_high\": 25.128528594970703}, {\"time\": \"2000-10-18T12:00:00\", \"variable\": \"VPD\", \"value\": 4.882999897003174, \"is_present\": true, \"mean\": 15.975045204162598, \"std\": 20.73334312438965, \"err_low\": -36.58368682861328, \"err_high\": 46.34968566894531}, {\"time\": \"2000-10-18T12:30:00\", \"variable\": \"VPD\", \"value\": 5.190999984741211, \"is_present\": true, \"mean\": 32.94558334350586, \"std\": 41.147178649902344, \"err_low\": -77.10335540771484, \"err_high\": 87.48535919189453}, {\"time\": \"2000-10-18T13:00:00\", \"variable\": \"VPD\", \"value\": 5.433000087738037, \"is_present\": true, \"mean\": 12.769614219665527, \"std\": 17.491615295410156, \"err_low\": -29.550230026245117, \"err_high\": 40.416229248046875}, {\"time\": \"2000-10-18T13:30:00\", \"variable\": \"VPD\", \"value\": 2.9609999656677246, \"is_present\": true, \"mean\": 11.741668701171875, \"std\": 16.542871475219727, \"err_low\": -30.12474250793457, \"err_high\": 36.0467414855957}, {\"time\": \"2000-10-18T14:00:00\", \"variable\": \"VPD\", \"value\": 2.6010000705718994, \"is_present\": true, \"mean\": 10.521193504333496, \"std\": 16.251562118530273, \"err_low\": -29.902124404907227, \"err_high\": 35.1041259765625}, {\"time\": \"2000-10-18T14:30:00\", \"variable\": \"VPD\", \"value\": 2.680000066757202, \"is_present\": true, \"mean\": 10.84535026550293, \"std\": 16.184005737304688, \"err_low\": -29.688011169433594, \"err_high\": 35.048011779785156}, {\"time\": \"2000-10-18T15:00:00\", \"variable\": \"VPD\", \"value\": 2.7119998931884766, \"is_present\": true, \"mean\": 6.645671844482422, \"std\": 16.158639907836914, \"err_low\": -29.60527992248535, \"err_high\": 35.02928161621094}, {\"time\": \"2000-10-18T15:30:00\", \"variable\": \"VPD\", \"value\": 2.822000026702881, \"is_present\": true, \"mean\": 3.696294069290161, \"std\": 16.151874542236328, \"err_low\": -29.481748580932617, \"err_high\": 35.12574768066406}, {\"time\": \"2000-10-18T16:00:00\", \"variable\": \"VPD\", \"value\": 2.8550000190734863, \"is_present\": true, \"mean\": 3.033400058746338, \"std\": 16.14956283569336, \"err_low\": -29.44412612915039, \"err_high\": 35.15412521362305}], \"data-86df31df145cf23c550e69b240ab710e\": [{\"time\": \"2000-03-17T01:30:00\", \"variable\": \"TA\", \"value\": 3.990000009536743, \"is_present\": true, \"mean\": 12.687756538391113, \"std\": 12.094961166381836, \"err_low\": -20.199922561645508, \"err_high\": 28.179922103881836}, {\"time\": \"2000-03-17T02:00:00\", \"variable\": \"TA\", \"value\": 4.230000019073486, \"is_present\": true, \"mean\": 6.704458236694336, \"std\": 15.852505683898926, \"err_low\": -27.475011825561523, \"err_high\": 35.93501281738281}, {\"time\": \"2000-03-17T02:30:00\", \"variable\": \"TA\", \"value\": 4.489999771118164, \"is_present\": true, \"mean\": 2.8608345985412598, \"std\": 16.658618927001953, \"err_low\": -28.827238082885742, \"err_high\": 37.80723571777344}, {\"time\": \"2000-03-17T03:00:00\", \"variable\": \"TA\", \"value\": 4.889999866485596, \"is_present\": true, \"mean\": 0.8054308891296387, \"std\": 16.97404670715332, \"err_low\": -29.058094024658203, \"err_high\": 38.83809280395508}, {\"time\": \"2000-03-17T03:30:00\", \"variable\": \"TA\", \"value\": 4.989999771118164, \"is_present\": true, \"mean\": -0.724031925201416, \"std\": 17.072097778320312, \"err_low\": -29.15419578552246, \"err_high\": 39.134193420410156}, {\"time\": \"2000-03-17T04:00:00\", \"variable\": \"TA\", \"value\": 4.849999904632568, \"is_present\": true, \"mean\": -1.407193660736084, \"std\": 17.104827880859375, \"err_low\": -29.359655380249023, \"err_high\": 39.059654235839844}, {\"time\": \"2000-03-17T04:30:00\", \"variable\": \"TA\", \"value\": 4.800000190734863, \"is_present\": false, \"mean\": -1.9210753440856934, \"std\": 17.114864349365234, \"err_low\": -29.429729461669922, \"err_high\": 39.029727935791016}, {\"time\": \"2000-03-17T05:00:00\", \"variable\": \"TA\", \"value\": 4.860000133514404, \"is_present\": false, \"mean\": -8.921829223632812, \"std\": 33.70991516113281, \"err_low\": -62.55982971191406, \"err_high\": 72.27983093261719}, {\"time\": \"2000-03-17T05:30:00\", \"variable\": \"TA\", \"value\": 4.789999961853027, \"is_present\": true, \"mean\": -23.77006721496582, \"std\": 70.83275604248047, \"err_low\": -136.87551879882812, \"err_high\": 146.45550537109375}, {\"time\": \"2000-03-17T06:00:00\", \"variable\": \"TA\", \"value\": 4.829999923706055, \"is_present\": true, \"mean\": -2.137233257293701, \"std\": 18.9461612701416, \"err_low\": -33.06232452392578, \"err_high\": 42.722320556640625}], \"data-24c723ed524f23f39e31f49531894fe2\": [{\"time\": \"2000-03-17T01:30:00\", \"variable\": \"SW_IN\", \"value\": 0.0, \"is_present\": true, \"mean\": 395.5548400878906, \"std\": 513.365478515625, \"err_low\": -1026.73095703125, \"err_high\": 1026.73095703125}, {\"time\": \"2000-03-17T02:00:00\", \"variable\": \"SW_IN\", \"value\": 0.0, \"is_present\": true, \"mean\": 121.90568542480469, \"std\": 697.659912109375, \"err_low\": -1395.31982421875, \"err_high\": 1395.31982421875}, {\"time\": \"2000-03-17T02:30:00\", \"variable\": \"SW_IN\", \"value\": 0.0, \"is_present\": true, \"mean\": -81.43216705322266, \"std\": 727.3604125976562, \"err_low\": -1454.7208251953125, \"err_high\": 1454.7208251953125}, {\"time\": \"2000-03-17T03:00:00\", \"variable\": \"SW_IN\", \"value\": 0.0, \"is_present\": true, \"mean\": -143.41229248046875, \"std\": 739.8482666015625, \"err_low\": -1479.696533203125, \"err_high\": 1479.696533203125}, {\"time\": \"2000-03-17T03:30:00\", \"variable\": \"SW_IN\", \"value\": 0.0, \"is_present\": true, \"mean\": -213.48117065429688, \"std\": 743.4021606445312, \"err_low\": -1486.8043212890625, \"err_high\": 1486.8043212890625}, {\"time\": \"2000-03-17T04:00:00\", \"variable\": \"SW_IN\", \"value\": 0.0, \"is_present\": true, \"mean\": -237.78475952148438, \"std\": 744.6746215820312, \"err_low\": -1489.3492431640625, \"err_high\": 1489.3492431640625}, {\"time\": \"2000-03-17T04:30:00\", \"variable\": \"SW_IN\", \"value\": 0.0, \"is_present\": false, \"mean\": -261.4026794433594, \"std\": 745.0411987304688, \"err_low\": -1490.0823974609375, \"err_high\": 1490.0823974609375}, {\"time\": \"2000-03-17T05:00:00\", \"variable\": \"SW_IN\", \"value\": 0.0, \"is_present\": false, \"mean\": -559.6360473632812, \"std\": 1454.08251953125, \"err_low\": -2908.1650390625, \"err_high\": 2908.1650390625}, {\"time\": \"2000-03-17T05:30:00\", \"variable\": \"SW_IN\", \"value\": 0.0, \"is_present\": true, \"mean\": -1188.321533203125, \"std\": 2990.53125, \"err_low\": -5981.0625, \"err_high\": 5981.0625}, {\"time\": \"2000-03-17T06:00:00\", \"variable\": \"SW_IN\", \"value\": 0.0, \"is_present\": true, \"mean\": -270.3648986816406, \"std\": 810.5775756835938, \"err_low\": -1621.1551513671875, \"err_high\": 1621.1551513671875}], \"data-c0861d5ff29cbabc697f9c6cedc72067\": [{\"time\": \"2000-03-17T01:30:00\", \"variable\": \"VPD\", \"value\": 0.20600000023841858, \"is_present\": true, \"mean\": 9.28714656829834, \"std\": 11.113764762878418, \"err_low\": -22.021530151367188, \"err_high\": 22.433528900146484}, {\"time\": \"2000-03-17T02:00:00\", \"variable\": \"VPD\", \"value\": 0.2370000034570694, \"is_present\": true, \"mean\": 2.7828381061553955, \"std\": 15.126667976379395, \"err_low\": -30.01633644104004, \"err_high\": 30.49033546447754}, {\"time\": \"2000-03-17T02:30:00\", \"variable\": \"VPD\", \"value\": 0.257999986410141, \"is_present\": true, \"mean\": -1.2303602695465088, \"std\": 15.769756317138672, \"err_low\": -31.281513214111328, \"err_high\": 31.79751205444336}, {\"time\": \"2000-03-17T03:00:00\", \"variable\": \"VPD\", \"value\": 0.5, \"is_present\": true, \"mean\": -2.754650354385376, \"std\": 16.032556533813477, \"err_low\": -31.565113067626953, \"err_high\": 32.56511306762695}, {\"time\": \"2000-03-17T03:30:00\", \"variable\": \"VPD\", \"value\": 0.5120000243186951, \"is_present\": true, \"mean\": -4.214350700378418, \"std\": 16.110034942626953, \"err_low\": -31.708070755004883, \"err_high\": 32.73207092285156}, {\"time\": \"2000-03-17T04:00:00\", \"variable\": \"VPD\", \"value\": 0.39500001072883606, \"is_present\": true, \"mean\": -4.770208358764648, \"std\": 16.137046813964844, \"err_low\": -31.879093170166016, \"err_high\": 32.66909408569336}, {\"time\": \"2000-03-17T04:30:00\", \"variable\": \"VPD\", \"value\": 0.3529999852180481, \"is_present\": true, \"mean\": -5.250236511230469, \"std\": 16.145021438598633, \"err_low\": -31.937042236328125, \"err_high\": 32.643043518066406}, {\"time\": \"2000-03-17T05:00:00\", \"variable\": \"VPD\", \"value\": 0.4779999852180481, \"is_present\": true, \"mean\": -11.674943923950195, \"std\": 31.095375061035156, \"err_low\": -61.71274948120117, \"err_high\": 62.66875076293945}, {\"time\": \"2000-03-17T05:30:00\", \"variable\": \"VPD\", \"value\": 0.44699999690055847, \"is_present\": true, \"mean\": -25.10009002685547, \"std\": 64.06734466552734, \"err_low\": -127.68769073486328, \"err_high\": 128.58169555664062}, {\"time\": \"2000-03-17T06:00:00\", \"variable\": \"VPD\", \"value\": 0.4740000069141388, \"is_present\": true, \"mean\": -5.442668914794922, \"std\": 17.586620330810547, \"err_low\": -34.699241638183594, \"err_high\": 35.647239685058594}], \"data-16ff79a2293060120c38aa7baef2fa53\": [{\"time\": \"2000-01-23T12:30:00\", \"variable\": \"TA\", \"value\": -6.349999904632568, \"is_present\": true, \"mean\": 12.687756538391113, \"std\": 12.094961166381836, \"err_low\": -30.5399227142334, \"err_high\": 17.839921951293945}, {\"time\": \"2000-01-23T13:00:00\", \"variable\": \"TA\", \"value\": -6.789999961853027, \"is_present\": true, \"mean\": 9.594287872314453, \"std\": 15.852505683898926, \"err_low\": -38.49501037597656, \"err_high\": 24.91501235961914}, {\"time\": \"2000-01-23T13:30:00\", \"variable\": \"TA\", \"value\": -7.059999942779541, \"is_present\": true, \"mean\": 12.285707473754883, \"std\": 16.658618927001953, \"err_low\": -40.37723922729492, \"err_high\": 26.257238388061523}, {\"time\": \"2000-01-23T14:00:00\", \"variable\": \"TA\", \"value\": -7.260000228881836, \"is_present\": false, \"mean\": 11.72224235534668, \"std\": 16.97404670715332, \"err_low\": -41.208091735839844, \"err_high\": 26.688093185424805}, {\"time\": \"2000-01-23T14:30:00\", \"variable\": \"TA\", \"value\": -7.159999847412109, \"is_present\": false, \"mean\": 18.755699157714844, \"std\": 33.38975143432617, \"err_low\": -73.93949890136719, \"err_high\": 59.619503021240234}, {\"time\": \"2000-01-23T15:00:00\", \"variable\": \"TA\", \"value\": -7.320000171661377, \"is_present\": true, \"mean\": 36.20494842529297, \"std\": 70.13314819335938, \"err_low\": -147.5863037109375, \"err_high\": 132.9462890625}, {\"time\": \"2000-01-23T15:30:00\", \"variable\": \"TA\", \"value\": -7.539999961853027, \"is_present\": true, \"mean\": -3.7382750511169434, \"std\": 19.123708724975586, \"err_low\": -45.787418365478516, \"err_high\": 30.707416534423828}, {\"time\": \"2000-01-23T16:00:00\", \"variable\": \"TA\", \"value\": -7.570000171661377, \"is_present\": true, \"mean\": -6.138636112213135, \"std\": 17.64984130859375, \"err_low\": -42.86968231201172, \"err_high\": 27.72968292236328}, {\"time\": \"2000-01-23T16:30:00\", \"variable\": \"TA\", \"value\": -7.510000228881836, \"is_present\": true, \"mean\": -4.21789026260376, \"std\": 17.26822853088379, \"err_low\": -42.04645538330078, \"err_high\": 27.026456832885742}, {\"time\": \"2000-01-23T17:00:00\", \"variable\": \"TA\", \"value\": -7.820000171661377, \"is_present\": true, \"mean\": -3.5372605323791504, \"std\": 17.1668758392334, \"err_low\": -42.153751373291016, \"err_high\": 26.513751983642578}], \"data-bb4462d2fc67af9e95a76c037e6aa381\": [{\"time\": \"2000-01-23T12:30:00\", \"variable\": \"SW_IN\", \"value\": 75.52999877929688, \"is_present\": true, \"mean\": 395.5548400878906, \"std\": 513.365478515625, \"err_low\": -951.200927734375, \"err_high\": 1102.260986328125}, {\"time\": \"2000-01-23T13:00:00\", \"variable\": \"SW_IN\", \"value\": 163.6699981689453, \"is_present\": true, \"mean\": 236.69818115234375, \"std\": 697.659912109375, \"err_low\": -1231.6497802734375, \"err_high\": 1558.9898681640625}, {\"time\": \"2000-01-23T13:30:00\", \"variable\": \"SW_IN\", \"value\": 224.7899932861328, \"is_present\": true, \"mean\": 317.05548095703125, \"std\": 727.3604125976562, \"err_low\": -1229.9307861328125, \"err_high\": 1679.5108642578125}, {\"time\": \"2000-01-23T14:00:00\", \"variable\": \"SW_IN\", \"value\": 196.94000244140625, \"is_present\": false, \"mean\": 293.6942443847656, \"std\": 739.8482666015625, \"err_low\": -1282.756591796875, \"err_high\": 1676.636474609375}, {\"time\": \"2000-01-23T14:30:00\", \"variable\": \"SW_IN\", \"value\": 181.5800018310547, \"is_present\": false, \"mean\": 655.8905639648438, \"std\": 1440.7728271484375, \"err_low\": -2699.965576171875, \"err_high\": 3063.125732421875}, {\"time\": \"2000-01-23T15:00:00\", \"variable\": \"SW_IN\", \"value\": 130.94500732421875, \"is_present\": true, \"mean\": 1307.63818359375, \"std\": 2961.345703125, \"err_low\": -5791.74658203125, \"err_high\": 6053.63623046875}, {\"time\": \"2000-01-23T15:30:00\", \"variable\": \"SW_IN\", \"value\": 73.80999755859375, \"is_present\": true, \"mean\": -351.91522216796875, \"std\": 817.6370849609375, \"err_low\": -1561.464111328125, \"err_high\": 1709.084228515625}, {\"time\": \"2000-01-23T16:00:00\", \"variable\": \"SW_IN\", \"value\": 71.44999694824219, \"is_present\": true, \"mean\": -411.1098937988281, \"std\": 765.8407592773438, \"err_low\": -1460.2315673828125, \"err_high\": 1603.1314697265625}, {\"time\": \"2000-01-23T16:30:00\", \"variable\": \"SW_IN\", \"value\": 31.8700008392334, \"is_present\": true, \"mean\": -349.1695861816406, \"std\": 750.58642578125, \"err_low\": -1469.3028564453125, \"err_high\": 1533.0428466796875}, {\"time\": \"2000-01-23T17:00:00\", \"variable\": \"SW_IN\", \"value\": 4.590000152587891, \"is_present\": true, \"mean\": -309.92041015625, \"std\": 747.0377197265625, \"err_low\": -1489.4854736328125, \"err_high\": 1498.6654052734375}], \"data-08221e3a0cbf4668517f5d194f1ecdab\": [{\"time\": \"2000-01-23T12:30:00\", \"variable\": \"VPD\", \"value\": 0.1599999964237213, \"is_present\": true, \"mean\": 9.28714656829834, \"std\": 11.113764762878418, \"err_low\": -22.067529678344727, \"err_high\": 22.387529373168945}, {\"time\": \"2000-01-23T13:00:00\", \"variable\": \"VPD\", \"value\": 0.16899999976158142, \"is_present\": true, \"mean\": 5.621613502502441, \"std\": 15.126667976379395, \"err_low\": -30.084335327148438, \"err_high\": 30.42233657836914}, {\"time\": \"2000-01-23T13:30:00\", \"variable\": \"VPD\", \"value\": 0.16899999976158142, \"is_present\": true, \"mean\": 7.707374572753906, \"std\": 15.769756317138672, \"err_low\": -31.370512008666992, \"err_high\": 31.708513259887695}, {\"time\": \"2000-01-23T14:00:00\", \"variable\": \"VPD\", \"value\": 0.17599999904632568, \"is_present\": true, \"mean\": 7.298744201660156, \"std\": 16.032556533813477, \"err_low\": -31.88911247253418, \"err_high\": 32.241111755371094}, {\"time\": \"2000-01-23T14:30:00\", \"variable\": \"VPD\", \"value\": 0.17399999499320984, \"is_present\": true, \"mean\": 13.898992538452148, \"std\": 30.812347412109375, \"err_low\": -61.4506950378418, \"err_high\": 61.7986946105957}, {\"time\": \"2000-01-23T15:00:00\", \"variable\": \"VPD\", \"value\": 0.1770000010728836, \"is_present\": true, \"mean\": 28.59000587463379, \"std\": 63.44202423095703, \"err_low\": -126.70704650878906, \"err_high\": 127.06105041503906}, {\"time\": \"2000-01-23T15:30:00\", \"variable\": \"VPD\", \"value\": 0.17900000512599945, \"is_present\": true, \"mean\": -6.606496810913086, \"std\": 17.738130569458008, \"err_low\": -35.29726028442383, \"err_high\": 35.6552619934082}, {\"time\": \"2000-01-23T16:00:00\", \"variable\": \"VPD\", \"value\": 0.1809999942779541, \"is_present\": true, \"mean\": -8.27175521850586, \"std\": 16.587217330932617, \"err_low\": -32.99343490600586, \"err_high\": 33.35543441772461}, {\"time\": \"2000-01-23T16:30:00\", \"variable\": \"VPD\", \"value\": 0.18299999833106995, \"is_present\": true, \"mean\": -6.804144859313965, \"std\": 16.2662353515625, \"err_low\": -32.34947204589844, \"err_high\": 32.71546936035156}, {\"time\": \"2000-01-23T17:00:00\", \"variable\": \"VPD\", \"value\": 0.18400000035762787, \"is_present\": true, \"mean\": -6.111004829406738, \"std\": 16.18764877319336, \"err_low\": -32.19129943847656, \"err_high\": 32.559295654296875}]}}, {\"mode\": \"vega-lite\"});\n",
       "</script>"
      ],
      "text/plain": [
       "alt.HConcatChart(...)"
      ]
     },
     "execution_count": null,
     "metadata": {},
     "output_type": "execute_result"
    }
   ],
   "source": [
    "show_results(learn)"
   ]
  },
  {
   "cell_type": "code",
   "execution_count": null,
   "id": "6127a4ef-4559-4d5d-9aea-ce3fb210bf93",
   "metadata": {},
   "outputs": [
    {
     "data": {
      "text/html": [
       "<p style='font-size: 1.5rem; font-decoration: bold'><p><div style=\"display: flex; column-gap: 20px; flex-wrap: wrap;\" class='table table-striped table-sm'> <div> <p style='font-size: 1.3rem;'>trans_matrix (A)</p> <style type=\"text/css\">\n",
       "</style>\n",
       "<table id=\"T_58491\">\n",
       "  <thead>\n",
       "    <tr>\n",
       "      <th id=\"T_58491_level0_col0\" class=\"col_heading level0 col0\" >latent</th>\n",
       "      <th id=\"T_58491_level0_col1\" class=\"col_heading level0 col1\" >z_0</th>\n",
       "      <th id=\"T_58491_level0_col2\" class=\"col_heading level0 col2\" >z_1</th>\n",
       "      <th id=\"T_58491_level0_col3\" class=\"col_heading level0 col3\" >z_2</th>\n",
       "    </tr>\n",
       "  </thead>\n",
       "  <tbody>\n",
       "    <tr>\n",
       "      <td id=\"T_58491_row0_col0\" class=\"data row0 col0\" >z_0</td>\n",
       "      <td id=\"T_58491_row0_col1\" class=\"data row0 col1\" >0.9804</td>\n",
       "      <td id=\"T_58491_row0_col2\" class=\"data row0 col2\" >1.0818</td>\n",
       "      <td id=\"T_58491_row0_col3\" class=\"data row0 col3\" >0.4756</td>\n",
       "    </tr>\n",
       "    <tr>\n",
       "      <td id=\"T_58491_row1_col0\" class=\"data row1 col0\" >z_1</td>\n",
       "      <td id=\"T_58491_row1_col1\" class=\"data row1 col1\" >1.0177</td>\n",
       "      <td id=\"T_58491_row1_col2\" class=\"data row1 col2\" >0.3509</td>\n",
       "      <td id=\"T_58491_row1_col3\" class=\"data row1 col3\" >0.5907</td>\n",
       "    </tr>\n",
       "    <tr>\n",
       "      <td id=\"T_58491_row2_col0\" class=\"data row2 col0\" >z_2</td>\n",
       "      <td id=\"T_58491_row2_col1\" class=\"data row2 col1\" >0.3597</td>\n",
       "      <td id=\"T_58491_row2_col2\" class=\"data row2 col2\" >1.0524</td>\n",
       "      <td id=\"T_58491_row2_col3\" class=\"data row2 col3\" >0.3042</td>\n",
       "    </tr>\n",
       "  </tbody>\n",
       "</table>\n",
       " </div><div> <p style='font-size: 1.3rem;'>trans_cov (Q)</p> <style type=\"text/css\">\n",
       "</style>\n",
       "<table id=\"T_6bdaa\">\n",
       "  <thead>\n",
       "    <tr>\n",
       "      <th id=\"T_6bdaa_level0_col0\" class=\"col_heading level0 col0\" >latent</th>\n",
       "      <th id=\"T_6bdaa_level0_col1\" class=\"col_heading level0 col1\" >z_0</th>\n",
       "      <th id=\"T_6bdaa_level0_col2\" class=\"col_heading level0 col2\" >z_1</th>\n",
       "      <th id=\"T_6bdaa_level0_col3\" class=\"col_heading level0 col3\" >z_2</th>\n",
       "    </tr>\n",
       "  </thead>\n",
       "  <tbody>\n",
       "    <tr>\n",
       "      <td id=\"T_6bdaa_row0_col0\" class=\"data row0 col0\" >z_0</td>\n",
       "      <td id=\"T_6bdaa_row0_col1\" class=\"data row0 col1\" >0.5809</td>\n",
       "      <td id=\"T_6bdaa_row0_col2\" class=\"data row0 col2\" >1.0499</td>\n",
       "      <td id=\"T_6bdaa_row0_col3\" class=\"data row0 col3\" >0.8999</td>\n",
       "    </tr>\n",
       "    <tr>\n",
       "      <td id=\"T_6bdaa_row1_col0\" class=\"data row1 col0\" >z_1</td>\n",
       "      <td id=\"T_6bdaa_row1_col1\" class=\"data row1 col1\" >1.0499</td>\n",
       "      <td id=\"T_6bdaa_row1_col2\" class=\"data row1 col2\" >2.0514</td>\n",
       "      <td id=\"T_6bdaa_row1_col3\" class=\"data row1 col3\" >1.7801</td>\n",
       "    </tr>\n",
       "    <tr>\n",
       "      <td id=\"T_6bdaa_row2_col0\" class=\"data row2 col0\" >z_2</td>\n",
       "      <td id=\"T_6bdaa_row2_col1\" class=\"data row2 col1\" >0.8999</td>\n",
       "      <td id=\"T_6bdaa_row2_col2\" class=\"data row2 col2\" >1.7801</td>\n",
       "      <td id=\"T_6bdaa_row2_col3\" class=\"data row2 col3\" >2.2375</td>\n",
       "    </tr>\n",
       "  </tbody>\n",
       "</table>\n",
       " </div><div> <p style='font-size: 1.3rem;'>trans_off</p> <style type=\"text/css\">\n",
       "</style>\n",
       "<table id=\"T_cfec3\">\n",
       "  <thead>\n",
       "    <tr>\n",
       "      <th id=\"T_cfec3_level0_col0\" class=\"col_heading level0 col0\" >latent</th>\n",
       "      <th id=\"T_cfec3_level0_col1\" class=\"col_heading level0 col1\" >offset</th>\n",
       "    </tr>\n",
       "  </thead>\n",
       "  <tbody>\n",
       "    <tr>\n",
       "      <td id=\"T_cfec3_row0_col0\" class=\"data row0 col0\" >z_0</td>\n",
       "      <td id=\"T_cfec3_row0_col1\" class=\"data row0 col1\" >0.6834</td>\n",
       "    </tr>\n",
       "    <tr>\n",
       "      <td id=\"T_cfec3_row1_col0\" class=\"data row1 col0\" >z_1</td>\n",
       "      <td id=\"T_cfec3_row1_col1\" class=\"data row1 col1\" >0.2509</td>\n",
       "    </tr>\n",
       "    <tr>\n",
       "      <td id=\"T_cfec3_row2_col0\" class=\"data row2 col0\" >z_2</td>\n",
       "      <td id=\"T_cfec3_row2_col1\" class=\"data row2 col1\" >0.7257</td>\n",
       "    </tr>\n",
       "  </tbody>\n",
       "</table>\n",
       " </div><div> <p style='font-size: 1.3rem;'>obs_matrix (H)</p> <style type=\"text/css\">\n",
       "</style>\n",
       "<table id=\"T_65344\">\n",
       "  <thead>\n",
       "    <tr>\n",
       "      <th id=\"T_65344_level0_col0\" class=\"col_heading level0 col0\" >variable</th>\n",
       "      <th id=\"T_65344_level0_col1\" class=\"col_heading level0 col1\" >z_0</th>\n",
       "      <th id=\"T_65344_level0_col2\" class=\"col_heading level0 col2\" >z_1</th>\n",
       "      <th id=\"T_65344_level0_col3\" class=\"col_heading level0 col3\" >z_2</th>\n",
       "    </tr>\n",
       "  </thead>\n",
       "  <tbody>\n",
       "    <tr>\n",
       "      <td id=\"T_65344_row0_col0\" class=\"data row0 col0\" >x_0</td>\n",
       "      <td id=\"T_65344_row0_col1\" class=\"data row0 col1\" >0.3678</td>\n",
       "      <td id=\"T_65344_row0_col2\" class=\"data row0 col2\" >0.4989</td>\n",
       "      <td id=\"T_65344_row0_col3\" class=\"data row0 col3\" >0.2216</td>\n",
       "    </tr>\n",
       "    <tr>\n",
       "      <td id=\"T_65344_row1_col0\" class=\"data row1 col0\" >x_1</td>\n",
       "      <td id=\"T_65344_row1_col1\" class=\"data row1 col1\" >0.2259</td>\n",
       "      <td id=\"T_65344_row1_col2\" class=\"data row1 col2\" >0.6320</td>\n",
       "      <td id=\"T_65344_row1_col3\" class=\"data row1 col3\" >1.0888</td>\n",
       "    </tr>\n",
       "    <tr>\n",
       "      <td id=\"T_65344_row2_col0\" class=\"data row2 col0\" >x_2</td>\n",
       "      <td id=\"T_65344_row2_col1\" class=\"data row2 col1\" >0.1369</td>\n",
       "      <td id=\"T_65344_row2_col2\" class=\"data row2 col2\" >0.9394</td>\n",
       "      <td id=\"T_65344_row2_col3\" class=\"data row2 col3\" >1.1099</td>\n",
       "    </tr>\n",
       "  </tbody>\n",
       "</table>\n",
       " </div><div> <p style='font-size: 1.3rem;'>obs_cov (R)</p> <style type=\"text/css\">\n",
       "</style>\n",
       "<table id=\"T_4aaa6\">\n",
       "  <thead>\n",
       "    <tr>\n",
       "      <th id=\"T_4aaa6_level0_col0\" class=\"col_heading level0 col0\" >variable</th>\n",
       "      <th id=\"T_4aaa6_level0_col1\" class=\"col_heading level0 col1\" >x_0</th>\n",
       "      <th id=\"T_4aaa6_level0_col2\" class=\"col_heading level0 col2\" >x_1</th>\n",
       "      <th id=\"T_4aaa6_level0_col3\" class=\"col_heading level0 col3\" >x_2</th>\n",
       "    </tr>\n",
       "  </thead>\n",
       "  <tbody>\n",
       "    <tr>\n",
       "      <td id=\"T_4aaa6_row0_col0\" class=\"data row0 col0\" >x_0</td>\n",
       "      <td id=\"T_4aaa6_row0_col1\" class=\"data row0 col1\" >1.3505</td>\n",
       "      <td id=\"T_4aaa6_row0_col2\" class=\"data row0 col2\" >1.4013</td>\n",
       "      <td id=\"T_4aaa6_row0_col3\" class=\"data row0 col3\" >1.3313</td>\n",
       "    </tr>\n",
       "    <tr>\n",
       "      <td id=\"T_4aaa6_row1_col0\" class=\"data row1 col0\" >x_1</td>\n",
       "      <td id=\"T_4aaa6_row1_col1\" class=\"data row1 col1\" >1.4013</td>\n",
       "      <td id=\"T_4aaa6_row1_col2\" class=\"data row1 col2\" >1.7134</td>\n",
       "      <td id=\"T_4aaa6_row1_col3\" class=\"data row1 col3\" >1.8388</td>\n",
       "    </tr>\n",
       "    <tr>\n",
       "      <td id=\"T_4aaa6_row2_col0\" class=\"data row2 col0\" >x_2</td>\n",
       "      <td id=\"T_4aaa6_row2_col1\" class=\"data row2 col1\" >1.3313</td>\n",
       "      <td id=\"T_4aaa6_row2_col2\" class=\"data row2 col2\" >1.8388</td>\n",
       "      <td id=\"T_4aaa6_row2_col3\" class=\"data row2 col3\" >2.2246</td>\n",
       "    </tr>\n",
       "  </tbody>\n",
       "</table>\n",
       " </div><div> <p style='font-size: 1.3rem;'>obs_off</p> <style type=\"text/css\">\n",
       "</style>\n",
       "<table id=\"T_60607\">\n",
       "  <thead>\n",
       "    <tr>\n",
       "      <th id=\"T_60607_level0_col0\" class=\"col_heading level0 col0\" >variable</th>\n",
       "      <th id=\"T_60607_level0_col1\" class=\"col_heading level0 col1\" >offset</th>\n",
       "    </tr>\n",
       "  </thead>\n",
       "  <tbody>\n",
       "    <tr>\n",
       "      <td id=\"T_60607_row0_col0\" class=\"data row0 col0\" >x_0</td>\n",
       "      <td id=\"T_60607_row0_col1\" class=\"data row0 col1\" >0.8441</td>\n",
       "    </tr>\n",
       "    <tr>\n",
       "      <td id=\"T_60607_row1_col0\" class=\"data row1 col0\" >x_1</td>\n",
       "      <td id=\"T_60607_row1_col1\" class=\"data row1 col1\" >0.5088</td>\n",
       "    </tr>\n",
       "    <tr>\n",
       "      <td id=\"T_60607_row2_col0\" class=\"data row2 col0\" >x_2</td>\n",
       "      <td id=\"T_60607_row2_col1\" class=\"data row2 col1\" >0.5328</td>\n",
       "    </tr>\n",
       "  </tbody>\n",
       "</table>\n",
       " </div><div> <p style='font-size: 1.3rem;'>init_state_mean</p> <style type=\"text/css\">\n",
       "</style>\n",
       "<table id=\"T_78cef\">\n",
       "  <thead>\n",
       "    <tr>\n",
       "      <th id=\"T_78cef_level0_col0\" class=\"col_heading level0 col0\" >latent</th>\n",
       "      <th id=\"T_78cef_level0_col1\" class=\"col_heading level0 col1\" >mean</th>\n",
       "    </tr>\n",
       "  </thead>\n",
       "  <tbody>\n",
       "    <tr>\n",
       "      <td id=\"T_78cef_row0_col0\" class=\"data row0 col0\" >z_0</td>\n",
       "      <td id=\"T_78cef_row0_col1\" class=\"data row0 col1\" >0.1926</td>\n",
       "    </tr>\n",
       "    <tr>\n",
       "      <td id=\"T_78cef_row1_col0\" class=\"data row1 col0\" >z_1</td>\n",
       "      <td id=\"T_78cef_row1_col1\" class=\"data row1 col1\" >0.8184</td>\n",
       "    </tr>\n",
       "    <tr>\n",
       "      <td id=\"T_78cef_row2_col0\" class=\"data row2 col0\" >z_2</td>\n",
       "      <td id=\"T_78cef_row2_col1\" class=\"data row2 col1\" >0.8776</td>\n",
       "    </tr>\n",
       "  </tbody>\n",
       "</table>\n",
       " </div><div> <p style='font-size: 1.3rem;'>init_state_cov</p> <style type=\"text/css\">\n",
       "</style>\n",
       "<table id=\"T_df4c0\">\n",
       "  <thead>\n",
       "    <tr>\n",
       "      <th id=\"T_df4c0_level0_col0\" class=\"col_heading level0 col0\" >latent</th>\n",
       "      <th id=\"T_df4c0_level0_col1\" class=\"col_heading level0 col1\" >z_0</th>\n",
       "      <th id=\"T_df4c0_level0_col2\" class=\"col_heading level0 col2\" >z_1</th>\n",
       "      <th id=\"T_df4c0_level0_col3\" class=\"col_heading level0 col3\" >z_2</th>\n",
       "    </tr>\n",
       "  </thead>\n",
       "  <tbody>\n",
       "    <tr>\n",
       "      <td id=\"T_df4c0_row0_col0\" class=\"data row0 col0\" >z_0</td>\n",
       "      <td id=\"T_df4c0_row0_col1\" class=\"data row0 col1\" >1.2937</td>\n",
       "      <td id=\"T_df4c0_row0_col2\" class=\"data row0 col2\" >1.1947</td>\n",
       "      <td id=\"T_df4c0_row0_col3\" class=\"data row0 col3\" >0.9287</td>\n",
       "    </tr>\n",
       "    <tr>\n",
       "      <td id=\"T_df4c0_row1_col0\" class=\"data row1 col0\" >z_1</td>\n",
       "      <td id=\"T_df4c0_row1_col1\" class=\"data row1 col1\" >1.1947</td>\n",
       "      <td id=\"T_df4c0_row1_col2\" class=\"data row1 col2\" >1.5637</td>\n",
       "      <td id=\"T_df4c0_row1_col3\" class=\"data row1 col3\" >1.2772</td>\n",
       "    </tr>\n",
       "    <tr>\n",
       "      <td id=\"T_df4c0_row2_col0\" class=\"data row2 col0\" >z_2</td>\n",
       "      <td id=\"T_df4c0_row2_col1\" class=\"data row2 col1\" >0.9287</td>\n",
       "      <td id=\"T_df4c0_row2_col2\" class=\"data row2 col2\" >1.2772</td>\n",
       "      <td id=\"T_df4c0_row2_col3\" class=\"data row2 col3\" >2.0016</td>\n",
       "    </tr>\n",
       "  </tbody>\n",
       "</table>\n",
       " </div></div>"
      ],
      "text/plain": [
       "<IPython.core.display.HTML object>"
      ]
     },
     "metadata": {},
     "output_type": "display_data"
    }
   ],
   "source": [
    "display_as_row(learn.model.get_info())"
   ]
  },
  {
   "cell_type": "markdown",
   "id": "25ee98b3-1618-49fc-86b1-4f4c922a28a4",
   "metadata": {},
   "source": [
    "## Export "
   ]
  },
  {
   "cell_type": "code",
   "execution_count": null,
   "id": "be47bac6-1bac-4b5d-a880-7ddfe17cca68",
   "metadata": {},
   "outputs": [],
   "source": [
    "#| hide\n",
    "from nbdev import nbdev_export\n",
    "nbdev_export()"
   ]
  }
 ],
 "metadata": {
  "kernelspec": {
   "display_name": "data_science",
   "language": "python",
   "name": "data_science"
  },
  "widgets": {
   "application/vnd.jupyter.widget-state+json": {
    "state": {},
    "version_major": 2,
    "version_minor": 0
   }
  }
 },
 "nbformat": 4,
 "nbformat_minor": 5
}
