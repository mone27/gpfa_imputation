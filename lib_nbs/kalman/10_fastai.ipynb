{
 "cells": [
  {
   "cell_type": "markdown",
   "id": "e8af5772-d828-4017-ae3b-5d530ac57586",
   "metadata": {},
   "source": [
    "# Implement Kalman model using FastAI\n",
    "\n",
    "> need to implement custom data preparation pipeline and loss function "
   ]
  },
  {
   "cell_type": "markdown",
   "id": "b0f3603c-74ec-41ba-a9dc-8fb08c2630cc",
   "metadata": {},
   "source": [
    "## Data Preparation"
   ]
  },
  {
   "cell_type": "markdown",
   "id": "df4ecbb3-f6ef-4344-95e7-5b566611d3f2",
   "metadata": {},
   "source": [
    "The aim of the data preparation pipeline is to:\n",
    "- take the original time series and split it into time blocks\n",
    "- for each block generate a random gap (need to figure out the properties of the gap)\n",
    "- split some time blocks for testing\n",
    "\n",
    "the input of the pipeline is:\n",
    "- a dataframe containing all observations\n",
    "\n",
    "the input of the model is:\n",
    "- observed data (potentially containing NaN where data is missing)\n",
    "- missing data mask (which is telling where the data is missing)\n",
    "- the data needs to be standardized"
   ]
  },
  {
   "cell_type": "code",
   "execution_count": null,
   "id": "b87acfa4-b43e-4cbe-9bc2-103a084ec5a2",
   "metadata": {},
   "outputs": [],
   "source": [
    "%load_ext autoreload\n",
    "%autoreload 2"
   ]
  },
  {
   "cell_type": "code",
   "execution_count": null,
   "id": "cca16380-45e6-479a-b8c3-e6f26ed9fdf3",
   "metadata": {},
   "outputs": [],
   "source": [
    "#| hide\n",
    "#| default_exp kalman.fastai"
   ]
  },
  {
   "cell_type": "code",
   "execution_count": null,
   "id": "6c8eade3",
   "metadata": {},
   "outputs": [],
   "source": [
    "#| export\n",
    "from meteo_imp.utils import *\n",
    "from meteo_imp.gaussian import *"
   ]
  },
  {
   "cell_type": "code",
   "execution_count": null,
   "id": "c946534f",
   "metadata": {},
   "outputs": [],
   "source": [
    "reset_seed()"
   ]
  },
  {
   "cell_type": "code",
   "execution_count": null,
   "id": "bd2ec0dd-d8d3-4c64-91a7-909912be8087",
   "metadata": {},
   "outputs": [],
   "source": [
    "import torch"
   ]
  },
  {
   "cell_type": "code",
   "execution_count": null,
   "id": "131e1d0e-56f7-4c46-aadd-a9a9097bfe28",
   "metadata": {},
   "outputs": [],
   "source": [
    "from fastai.tabular.core import *\n",
    "from fastai.data.core import *"
   ]
  },
  {
   "cell_type": "code",
   "execution_count": null,
   "id": "c153595b-be12-4538-a621-bb9ef2b114ac",
   "metadata": {},
   "outputs": [],
   "source": [
    "#| export\n",
    "from fastcore.transform import *\n",
    "from fastcore.basics import *\n",
    "from fastcore.foundation import *\n",
    "from fastcore.all import *\n",
    "from fastai.tabular import *\n",
    "from fastai.torch_core import default_device, to_device\n",
    "\n",
    "from meteo_imp.data import read_fluxnet_csv, hai_path\n",
    "\n",
    "import collections\n",
    "\n",
    "import pandas as pd\n",
    "import numpy as np\n",
    "import matplotlib.pyplot as plt"
   ]
  },
  {
   "cell_type": "code",
   "execution_count": null,
   "id": "d7f48bb9-58ab-4d1a-97d9-b242f6542148",
   "metadata": {},
   "outputs": [],
   "source": [
    "@cache_disk(cache_dir / \"full_hai\")\n",
    "def load_data(dtype=np.float32):\n",
    "    return read_fluxnet_csv(hai_path, None, num_dtype=dtype)\n",
    "\n",
    "hai = load_data()\n",
    "hai64 = load_data(np.float64)"
   ]
  },
  {
   "cell_type": "markdown",
   "id": "d17c4e2b-6175-4674-9437-9e8a75cadb35",
   "metadata": {},
   "source": [
    "### 1) Blocks"
   ]
  },
  {
   "cell_type": "markdown",
   "id": "09346517-48ae-4872-b572-a095b7adcd19",
   "metadata": {},
   "source": [
    "the first step is to transfrom the original dataframe into blocks of a specified `block_len`\n",
    "\n",
    "two different strategies are possible:\n",
    "\n",
    "- contigous blocks\n",
    "- random block in the dataframe"
   ]
  },
  {
   "cell_type": "code",
   "execution_count": null,
   "id": "e4d73d6c-a82f-43c3-a8ff-cd6cfe644fac",
   "metadata": {},
   "outputs": [],
   "source": [
    "#| export\n",
    "class BlockDfTransform(Transform):\n",
    "    \"\"\"divide timeseries DataFrame into blocks\"\"\"\n",
    "    def __init__(self, df, block_len=200): \n",
    "        self.df = df \n",
    "        self.block_len = block_len\n",
    "        self.n = len(df)\n",
    "        \n",
    "    def encodes(self, i:int) -> pd.DataFrame:       \n",
    "        start = i * self.block_len\n",
    "        end = (i+1) * self.block_len\n",
    "        assert end <= self.n \n",
    "        \n",
    "        block = self.df[start:end]\n",
    "        \n",
    "        return block"
   ]
  },
  {
   "cell_type": "code",
   "execution_count": null,
   "id": "4e51eaf9-d972-4960-b5b3-03ddf4b139fa",
   "metadata": {},
   "outputs": [],
   "source": [
    "blk = BlockDfTransform(hai, 10)"
   ]
  },
  {
   "cell_type": "code",
   "execution_count": null,
   "id": "71c4f834-fb0f-4fb3-a13a-da01198a970a",
   "metadata": {},
   "outputs": [
    {
     "data": {
      "text/plain": [
       "BlockDfTransform:\n",
       "encodes: (int,object) -> encodes\n",
       "decodes: "
      ]
     },
     "execution_count": null,
     "metadata": {},
     "output_type": "execute_result"
    }
   ],
   "source": [
    "blk"
   ]
  },
  {
   "cell_type": "code",
   "execution_count": null,
   "id": "db372f33-785c-4e99-8fe0-e439c24b004b",
   "metadata": {},
   "outputs": [
    {
     "data": {
      "text/html": [
       "<div>\n",
       "<style scoped>\n",
       "    .dataframe tbody tr th:only-of-type {\n",
       "        vertical-align: middle;\n",
       "    }\n",
       "\n",
       "    .dataframe tbody tr th {\n",
       "        vertical-align: top;\n",
       "    }\n",
       "\n",
       "    .dataframe thead th {\n",
       "        text-align: right;\n",
       "    }\n",
       "</style>\n",
       "<table border=\"1\" class=\"dataframe\">\n",
       "  <thead>\n",
       "    <tr style=\"text-align: right;\">\n",
       "      <th></th>\n",
       "      <th>TA</th>\n",
       "      <th>SW_IN</th>\n",
       "      <th>VPD</th>\n",
       "    </tr>\n",
       "    <tr>\n",
       "      <th>time</th>\n",
       "      <th></th>\n",
       "      <th></th>\n",
       "      <th></th>\n",
       "    </tr>\n",
       "  </thead>\n",
       "  <tbody>\n",
       "    <tr>\n",
       "      <th>2000-01-01 05:30:00</th>\n",
       "      <td>-0.23</td>\n",
       "      <td>0.00</td>\n",
       "      <td>0.138</td>\n",
       "    </tr>\n",
       "    <tr>\n",
       "      <th>2000-01-01 06:00:00</th>\n",
       "      <td>-0.23</td>\n",
       "      <td>0.00</td>\n",
       "      <td>0.122</td>\n",
       "    </tr>\n",
       "    <tr>\n",
       "      <th>2000-01-01 06:30:00</th>\n",
       "      <td>-0.22</td>\n",
       "      <td>0.00</td>\n",
       "      <td>0.098</td>\n",
       "    </tr>\n",
       "    <tr>\n",
       "      <th>2000-01-01 07:00:00</th>\n",
       "      <td>-0.24</td>\n",
       "      <td>0.00</td>\n",
       "      <td>0.066</td>\n",
       "    </tr>\n",
       "    <tr>\n",
       "      <th>2000-01-01 07:30:00</th>\n",
       "      <td>-0.23</td>\n",
       "      <td>0.00</td>\n",
       "      <td>0.044</td>\n",
       "    </tr>\n",
       "    <tr>\n",
       "      <th>2000-01-01 08:00:00</th>\n",
       "      <td>-0.22</td>\n",
       "      <td>0.00</td>\n",
       "      <td>0.026</td>\n",
       "    </tr>\n",
       "    <tr>\n",
       "      <th>2000-01-01 08:30:00</th>\n",
       "      <td>-0.19</td>\n",
       "      <td>0.45</td>\n",
       "      <td>0.016</td>\n",
       "    </tr>\n",
       "    <tr>\n",
       "      <th>2000-01-01 09:00:00</th>\n",
       "      <td>-0.14</td>\n",
       "      <td>3.70</td>\n",
       "      <td>0.010</td>\n",
       "    </tr>\n",
       "    <tr>\n",
       "      <th>2000-01-01 09:30:00</th>\n",
       "      <td>-0.03</td>\n",
       "      <td>7.26</td>\n",
       "      <td>0.006</td>\n",
       "    </tr>\n",
       "    <tr>\n",
       "      <th>2000-01-01 10:00:00</th>\n",
       "      <td>0.04</td>\n",
       "      <td>12.24</td>\n",
       "      <td>0.006</td>\n",
       "    </tr>\n",
       "  </tbody>\n",
       "</table>\n",
       "</div>"
      ],
      "text/plain": [
       "                       TA  SW_IN    VPD\n",
       "time                                   \n",
       "2000-01-01 05:30:00 -0.23   0.00  0.138\n",
       "2000-01-01 06:00:00 -0.23   0.00  0.122\n",
       "2000-01-01 06:30:00 -0.22   0.00  0.098\n",
       "2000-01-01 07:00:00 -0.24   0.00  0.066\n",
       "2000-01-01 07:30:00 -0.23   0.00  0.044\n",
       "2000-01-01 08:00:00 -0.22   0.00  0.026\n",
       "2000-01-01 08:30:00 -0.19   0.45  0.016\n",
       "2000-01-01 09:00:00 -0.14   3.70  0.010\n",
       "2000-01-01 09:30:00 -0.03   7.26  0.006\n",
       "2000-01-01 10:00:00  0.04  12.24  0.006"
      ]
     },
     "execution_count": null,
     "metadata": {},
     "output_type": "execute_result"
    }
   ],
   "source": [
    "blk(1)"
   ]
  },
  {
   "cell_type": "code",
   "execution_count": null,
   "id": "2342e9e6-0e13-430e-9c4e-25d1c0ec19a3",
   "metadata": {},
   "outputs": [
    {
     "data": {
      "text/plain": [
       "864.0"
      ]
     },
     "execution_count": null,
     "metadata": {},
     "output_type": "execute_result"
    }
   ],
   "source": [
    "180 * 24 * 2 / 10"
   ]
  },
  {
   "cell_type": "markdown",
   "id": "7b7c57e7-4ebb-46b9-a89d-ec980277ae67",
   "metadata": {},
   "source": [
    "we are taking a day in the summer so there is an higher values for the variables"
   ]
  },
  {
   "cell_type": "code",
   "execution_count": null,
   "id": "57479bbb-1a76-44d1-af82-0d3666d2ae7d",
   "metadata": {},
   "outputs": [
    {
     "data": {
      "text/html": [
       "<div>\n",
       "<style scoped>\n",
       "    .dataframe tbody tr th:only-of-type {\n",
       "        vertical-align: middle;\n",
       "    }\n",
       "\n",
       "    .dataframe tbody tr th {\n",
       "        vertical-align: top;\n",
       "    }\n",
       "\n",
       "    .dataframe thead th {\n",
       "        text-align: right;\n",
       "    }\n",
       "</style>\n",
       "<table border=\"1\" class=\"dataframe\">\n",
       "  <thead>\n",
       "    <tr style=\"text-align: right;\">\n",
       "      <th></th>\n",
       "      <th>TA</th>\n",
       "      <th>SW_IN</th>\n",
       "      <th>VPD</th>\n",
       "    </tr>\n",
       "    <tr>\n",
       "      <th>time</th>\n",
       "      <th></th>\n",
       "      <th></th>\n",
       "      <th></th>\n",
       "    </tr>\n",
       "  </thead>\n",
       "  <tbody>\n",
       "    <tr>\n",
       "      <th>2000-06-15 16:30:00</th>\n",
       "      <td>14.65</td>\n",
       "      <td>468.190002</td>\n",
       "      <td>6.454</td>\n",
       "    </tr>\n",
       "    <tr>\n",
       "      <th>2000-06-15 17:00:00</th>\n",
       "      <td>14.22</td>\n",
       "      <td>224.800003</td>\n",
       "      <td>5.799</td>\n",
       "    </tr>\n",
       "    <tr>\n",
       "      <th>2000-06-15 17:30:00</th>\n",
       "      <td>14.11</td>\n",
       "      <td>195.279999</td>\n",
       "      <td>6.577</td>\n",
       "    </tr>\n",
       "    <tr>\n",
       "      <th>2000-06-15 18:00:00</th>\n",
       "      <td>14.23</td>\n",
       "      <td>244.169998</td>\n",
       "      <td>6.931</td>\n",
       "    </tr>\n",
       "    <tr>\n",
       "      <th>2000-06-15 18:30:00</th>\n",
       "      <td>14.40</td>\n",
       "      <td>253.919998</td>\n",
       "      <td>7.286</td>\n",
       "    </tr>\n",
       "    <tr>\n",
       "      <th>2000-06-15 19:00:00</th>\n",
       "      <td>14.09</td>\n",
       "      <td>177.309998</td>\n",
       "      <td>7.251</td>\n",
       "    </tr>\n",
       "    <tr>\n",
       "      <th>2000-06-15 19:30:00</th>\n",
       "      <td>13.71</td>\n",
       "      <td>97.070000</td>\n",
       "      <td>6.683</td>\n",
       "    </tr>\n",
       "    <tr>\n",
       "      <th>2000-06-15 20:00:00</th>\n",
       "      <td>13.08</td>\n",
       "      <td>39.709999</td>\n",
       "      <td>5.851</td>\n",
       "    </tr>\n",
       "    <tr>\n",
       "      <th>2000-06-15 20:30:00</th>\n",
       "      <td>12.41</td>\n",
       "      <td>10.650000</td>\n",
       "      <td>5.254</td>\n",
       "    </tr>\n",
       "    <tr>\n",
       "      <th>2000-06-15 21:00:00</th>\n",
       "      <td>12.27</td>\n",
       "      <td>0.320000</td>\n",
       "      <td>5.164</td>\n",
       "    </tr>\n",
       "  </tbody>\n",
       "</table>\n",
       "</div>"
      ],
      "text/plain": [
       "                        TA       SW_IN    VPD\n",
       "time                                         \n",
       "2000-06-15 16:30:00  14.65  468.190002  6.454\n",
       "2000-06-15 17:00:00  14.22  224.800003  5.799\n",
       "2000-06-15 17:30:00  14.11  195.279999  6.577\n",
       "2000-06-15 18:00:00  14.23  244.169998  6.931\n",
       "2000-06-15 18:30:00  14.40  253.919998  7.286\n",
       "2000-06-15 19:00:00  14.09  177.309998  7.251\n",
       "2000-06-15 19:30:00  13.71   97.070000  6.683\n",
       "2000-06-15 20:00:00  13.08   39.709999  5.851\n",
       "2000-06-15 20:30:00  12.41   10.650000  5.254\n",
       "2000-06-15 21:00:00  12.27    0.320000  5.164"
      ]
     },
     "execution_count": null,
     "metadata": {},
     "output_type": "execute_result"
    }
   ],
   "source": [
    "blk(800)"
   ]
  },
  {
   "cell_type": "code",
   "execution_count": null,
   "id": "0cf65769-4e52-4e14-be29-624cf4d82167",
   "metadata": {},
   "outputs": [],
   "source": [
    "tfms1 = TfmdLists([800,801,802,803], [BlockDfTransform(hai, 10)])"
   ]
  },
  {
   "cell_type": "code",
   "execution_count": null,
   "id": "c8c1ec1e-810f-477f-8bb9-4eaebc2102e3",
   "metadata": {},
   "outputs": [
    {
     "data": {
      "text/html": [
       "<div>\n",
       "<style scoped>\n",
       "    .dataframe tbody tr th:only-of-type {\n",
       "        vertical-align: middle;\n",
       "    }\n",
       "\n",
       "    .dataframe tbody tr th {\n",
       "        vertical-align: top;\n",
       "    }\n",
       "\n",
       "    .dataframe thead th {\n",
       "        text-align: right;\n",
       "    }\n",
       "</style>\n",
       "<table border=\"1\" class=\"dataframe\">\n",
       "  <thead>\n",
       "    <tr style=\"text-align: right;\">\n",
       "      <th></th>\n",
       "      <th>TA</th>\n",
       "      <th>SW_IN</th>\n",
       "      <th>VPD</th>\n",
       "    </tr>\n",
       "    <tr>\n",
       "      <th>time</th>\n",
       "      <th></th>\n",
       "      <th></th>\n",
       "      <th></th>\n",
       "    </tr>\n",
       "  </thead>\n",
       "  <tbody>\n",
       "    <tr>\n",
       "      <th>2000-06-15 16:30:00</th>\n",
       "      <td>14.65</td>\n",
       "      <td>468.190002</td>\n",
       "      <td>6.454</td>\n",
       "    </tr>\n",
       "    <tr>\n",
       "      <th>2000-06-15 17:00:00</th>\n",
       "      <td>14.22</td>\n",
       "      <td>224.800003</td>\n",
       "      <td>5.799</td>\n",
       "    </tr>\n",
       "    <tr>\n",
       "      <th>2000-06-15 17:30:00</th>\n",
       "      <td>14.11</td>\n",
       "      <td>195.279999</td>\n",
       "      <td>6.577</td>\n",
       "    </tr>\n",
       "    <tr>\n",
       "      <th>2000-06-15 18:00:00</th>\n",
       "      <td>14.23</td>\n",
       "      <td>244.169998</td>\n",
       "      <td>6.931</td>\n",
       "    </tr>\n",
       "    <tr>\n",
       "      <th>2000-06-15 18:30:00</th>\n",
       "      <td>14.40</td>\n",
       "      <td>253.919998</td>\n",
       "      <td>7.286</td>\n",
       "    </tr>\n",
       "    <tr>\n",
       "      <th>2000-06-15 19:00:00</th>\n",
       "      <td>14.09</td>\n",
       "      <td>177.309998</td>\n",
       "      <td>7.251</td>\n",
       "    </tr>\n",
       "    <tr>\n",
       "      <th>2000-06-15 19:30:00</th>\n",
       "      <td>13.71</td>\n",
       "      <td>97.070000</td>\n",
       "      <td>6.683</td>\n",
       "    </tr>\n",
       "    <tr>\n",
       "      <th>2000-06-15 20:00:00</th>\n",
       "      <td>13.08</td>\n",
       "      <td>39.709999</td>\n",
       "      <td>5.851</td>\n",
       "    </tr>\n",
       "    <tr>\n",
       "      <th>2000-06-15 20:30:00</th>\n",
       "      <td>12.41</td>\n",
       "      <td>10.650000</td>\n",
       "      <td>5.254</td>\n",
       "    </tr>\n",
       "    <tr>\n",
       "      <th>2000-06-15 21:00:00</th>\n",
       "      <td>12.27</td>\n",
       "      <td>0.320000</td>\n",
       "      <td>5.164</td>\n",
       "    </tr>\n",
       "  </tbody>\n",
       "</table>\n",
       "</div>"
      ],
      "text/plain": [
       "                        TA       SW_IN    VPD\n",
       "time                                         \n",
       "2000-06-15 16:30:00  14.65  468.190002  6.454\n",
       "2000-06-15 17:00:00  14.22  224.800003  5.799\n",
       "2000-06-15 17:30:00  14.11  195.279999  6.577\n",
       "2000-06-15 18:00:00  14.23  244.169998  6.931\n",
       "2000-06-15 18:30:00  14.40  253.919998  7.286\n",
       "2000-06-15 19:00:00  14.09  177.309998  7.251\n",
       "2000-06-15 19:30:00  13.71   97.070000  6.683\n",
       "2000-06-15 20:00:00  13.08   39.709999  5.851\n",
       "2000-06-15 20:30:00  12.41   10.650000  5.254\n",
       "2000-06-15 21:00:00  12.27    0.320000  5.164"
      ]
     },
     "execution_count": null,
     "metadata": {},
     "output_type": "execute_result"
    }
   ],
   "source": [
    "tfms1[0]"
   ]
  },
  {
   "cell_type": "markdown",
   "id": "cc7af1e4-516c-4536-ab92-a5d19eec00fc",
   "metadata": {},
   "source": [
    "### 2) Gaps"
   ]
  },
  {
   "cell_type": "markdown",
   "id": "f2fe95d9-43bb-4174-8b9d-d5e87fdc3930",
   "metadata": {},
   "source": [
    "adds a mask which includes a random gap"
   ]
  },
  {
   "cell_type": "code",
   "execution_count": null,
   "id": "94dcd2e0-9d32-471b-bebd-088d3e487a1f",
   "metadata": {},
   "outputs": [],
   "source": [
    "#| export\n",
    "class MaskedDf:\n",
    "    def __init__(self,*args):\n",
    "        self.data = args[0]\n",
    "        self.mask = args[1]\n",
    "    def __iter__(self): return iter((self.data, self.mask,))\n",
    "    __repr__ = basic_repr(\"data, mask\")\n",
    "    def _repr_html_(self):\n",
    "        return row_dfs({'data': self.data, 'mask': self.mask}, title=\"Masked Df\")"
   ]
  },
  {
   "cell_type": "code",
   "execution_count": null,
   "id": "0c90ac7a-c0e8-4994-9268-8ae6c0739a84",
   "metadata": {},
   "outputs": [],
   "source": [
    "#| exports\n",
    "def _make_random_gap(\n",
    "    gap_length: int, # The length of the gap\n",
    "    total_length: int, # The total number of observations\n",
    "    gap_start: int = None # Optional start of gap\n",
    "): # (total_length) array of bools to indicicate if the data is missing or not\n",
    "    \"Add a continous gap of ginve length at random position\"\n",
    "    if(gap_length >= total_length):\n",
    "        return np.repeat(True, total_length)\n",
    "    gap_start = np.random.randint(total_length - gap_length) if gap_start is None else gap_start\n",
    "    return np.hstack([\n",
    "        np.repeat(False, gap_start),\n",
    "        np.repeat(True, gap_length),\n",
    "        np.repeat(False, total_length - (gap_length + gap_start))\n",
    "    ])"
   ]
  },
  {
   "cell_type": "code",
   "execution_count": null,
   "id": "0302d047-5adc-426e-94c2-1ced768a3a49",
   "metadata": {},
   "outputs": [],
   "source": [
    "#| export\n",
    "from fastcore.basics import *"
   ]
  },
  {
   "cell_type": "code",
   "execution_count": null,
   "id": "c71f35e5-ace8-41a6-806c-d5b14c520e7a",
   "metadata": {},
   "outputs": [],
   "source": [
    "#| export\n",
    "class AddGapTransform(DisplayedTransform):\n",
    "    \"\"\"Adds a random gap to a dataframe\"\"\"\n",
    "    def __init__(self,\n",
    "                variables,\n",
    "                gap_length,\n",
    "                ):\n",
    "        store_attr()\n",
    "    def encodes(self, df: pd.DataFrame):\n",
    "        gap = _make_random_gap(self.gap_length, df.shape[0])\n",
    "        mask = np.ones_like(df, dtype=bool)\n",
    "        col_sel = L(*df.columns).argwhere(lambda x: x in self.variables)\n",
    "        mask[np.argwhere(gap), col_sel] = False\n",
    "        return MaskedDf(df, pd.DataFrame(mask, index=df.index, columns=df.columns))"
   ]
  },
  {
   "cell_type": "code",
   "execution_count": null,
   "id": "47a56595-0fc1-4a7a-a9c6-38497079acb3",
   "metadata": {},
   "outputs": [
    {
     "data": {
      "text/plain": [
       "AddGapTransform:\n",
       "encodes: (DataFrame,object) -> encodes\n",
       "decodes: "
      ]
     },
     "execution_count": null,
     "metadata": {},
     "output_type": "execute_result"
    }
   ],
   "source": [
    "a_gap = AddGapTransform(['TA', 'VPD'], 5)\n",
    "a_gap"
   ]
  },
  {
   "cell_type": "code",
   "execution_count": null,
   "id": "27f2cc9f-4d0a-42a5-90bf-f4ca999918f7",
   "metadata": {},
   "outputs": [
    {
     "data": {
      "text/html": [
       "<p style='font-size: 1.5rem; font-decoration: bold'>Masked Df<p><div style=\"display: flex; column-gap: 20px; flex-wrap: wrap;\" class='table table-striped table-sm'> <div> <p style='font-size: 1.3rem;'>data</p> <style type=\"text/css\">\n",
       "</style>\n",
       "<table id=\"T_33f9d\">\n",
       "  <thead>\n",
       "    <tr>\n",
       "      <th id=\"T_33f9d_level0_col0\" class=\"col_heading level0 col0\" >TA</th>\n",
       "      <th id=\"T_33f9d_level0_col1\" class=\"col_heading level0 col1\" >SW_IN</th>\n",
       "      <th id=\"T_33f9d_level0_col2\" class=\"col_heading level0 col2\" >VPD</th>\n",
       "    </tr>\n",
       "  </thead>\n",
       "  <tbody>\n",
       "    <tr>\n",
       "      <td id=\"T_33f9d_row0_col0\" class=\"data row0 col0\" >14.6500</td>\n",
       "      <td id=\"T_33f9d_row0_col1\" class=\"data row0 col1\" >468.1900</td>\n",
       "      <td id=\"T_33f9d_row0_col2\" class=\"data row0 col2\" >6.4540</td>\n",
       "    </tr>\n",
       "    <tr>\n",
       "      <td id=\"T_33f9d_row1_col0\" class=\"data row1 col0\" >14.2200</td>\n",
       "      <td id=\"T_33f9d_row1_col1\" class=\"data row1 col1\" >224.8000</td>\n",
       "      <td id=\"T_33f9d_row1_col2\" class=\"data row1 col2\" >5.7990</td>\n",
       "    </tr>\n",
       "    <tr>\n",
       "      <td id=\"T_33f9d_row2_col0\" class=\"data row2 col0\" >14.1100</td>\n",
       "      <td id=\"T_33f9d_row2_col1\" class=\"data row2 col1\" >195.2800</td>\n",
       "      <td id=\"T_33f9d_row2_col2\" class=\"data row2 col2\" >6.5770</td>\n",
       "    </tr>\n",
       "    <tr>\n",
       "      <td id=\"T_33f9d_row3_col0\" class=\"data row3 col0\" >14.2300</td>\n",
       "      <td id=\"T_33f9d_row3_col1\" class=\"data row3 col1\" >244.1700</td>\n",
       "      <td id=\"T_33f9d_row3_col2\" class=\"data row3 col2\" >6.9310</td>\n",
       "    </tr>\n",
       "    <tr>\n",
       "      <td id=\"T_33f9d_row4_col0\" class=\"data row4 col0\" >14.4000</td>\n",
       "      <td id=\"T_33f9d_row4_col1\" class=\"data row4 col1\" >253.9200</td>\n",
       "      <td id=\"T_33f9d_row4_col2\" class=\"data row4 col2\" >7.2860</td>\n",
       "    </tr>\n",
       "    <tr>\n",
       "      <td id=\"T_33f9d_row5_col0\" class=\"data row5 col0\" >14.0900</td>\n",
       "      <td id=\"T_33f9d_row5_col1\" class=\"data row5 col1\" >177.3100</td>\n",
       "      <td id=\"T_33f9d_row5_col2\" class=\"data row5 col2\" >7.2510</td>\n",
       "    </tr>\n",
       "    <tr>\n",
       "      <td id=\"T_33f9d_row6_col0\" class=\"data row6 col0\" >13.7100</td>\n",
       "      <td id=\"T_33f9d_row6_col1\" class=\"data row6 col1\" >97.0700</td>\n",
       "      <td id=\"T_33f9d_row6_col2\" class=\"data row6 col2\" >6.6830</td>\n",
       "    </tr>\n",
       "    <tr>\n",
       "      <td id=\"T_33f9d_row7_col0\" class=\"data row7 col0\" >13.0800</td>\n",
       "      <td id=\"T_33f9d_row7_col1\" class=\"data row7 col1\" >39.7100</td>\n",
       "      <td id=\"T_33f9d_row7_col2\" class=\"data row7 col2\" >5.8510</td>\n",
       "    </tr>\n",
       "    <tr>\n",
       "      <td id=\"T_33f9d_row8_col0\" class=\"data row8 col0\" >12.4100</td>\n",
       "      <td id=\"T_33f9d_row8_col1\" class=\"data row8 col1\" >10.6500</td>\n",
       "      <td id=\"T_33f9d_row8_col2\" class=\"data row8 col2\" >5.2540</td>\n",
       "    </tr>\n",
       "    <tr>\n",
       "      <td id=\"T_33f9d_row9_col0\" class=\"data row9 col0\" >12.2700</td>\n",
       "      <td id=\"T_33f9d_row9_col1\" class=\"data row9 col1\" >0.3200</td>\n",
       "      <td id=\"T_33f9d_row9_col2\" class=\"data row9 col2\" >5.1640</td>\n",
       "    </tr>\n",
       "  </tbody>\n",
       "</table>\n",
       " </div><div> <p style='font-size: 1.3rem;'>mask</p> <style type=\"text/css\">\n",
       "</style>\n",
       "<table id=\"T_3f494\">\n",
       "  <thead>\n",
       "    <tr>\n",
       "      <th id=\"T_3f494_level0_col0\" class=\"col_heading level0 col0\" >TA</th>\n",
       "      <th id=\"T_3f494_level0_col1\" class=\"col_heading level0 col1\" >SW_IN</th>\n",
       "      <th id=\"T_3f494_level0_col2\" class=\"col_heading level0 col2\" >VPD</th>\n",
       "    </tr>\n",
       "  </thead>\n",
       "  <tbody>\n",
       "    <tr>\n",
       "      <td id=\"T_3f494_row0_col0\" class=\"data row0 col0\" >True</td>\n",
       "      <td id=\"T_3f494_row0_col1\" class=\"data row0 col1\" >True</td>\n",
       "      <td id=\"T_3f494_row0_col2\" class=\"data row0 col2\" >True</td>\n",
       "    </tr>\n",
       "    <tr>\n",
       "      <td id=\"T_3f494_row1_col0\" class=\"data row1 col0\" >True</td>\n",
       "      <td id=\"T_3f494_row1_col1\" class=\"data row1 col1\" >True</td>\n",
       "      <td id=\"T_3f494_row1_col2\" class=\"data row1 col2\" >True</td>\n",
       "    </tr>\n",
       "    <tr>\n",
       "      <td id=\"T_3f494_row2_col0\" class=\"data row2 col0\" >True</td>\n",
       "      <td id=\"T_3f494_row2_col1\" class=\"data row2 col1\" >True</td>\n",
       "      <td id=\"T_3f494_row2_col2\" class=\"data row2 col2\" >True</td>\n",
       "    </tr>\n",
       "    <tr>\n",
       "      <td id=\"T_3f494_row3_col0\" class=\"data row3 col0\" >False</td>\n",
       "      <td id=\"T_3f494_row3_col1\" class=\"data row3 col1\" >True</td>\n",
       "      <td id=\"T_3f494_row3_col2\" class=\"data row3 col2\" >False</td>\n",
       "    </tr>\n",
       "    <tr>\n",
       "      <td id=\"T_3f494_row4_col0\" class=\"data row4 col0\" >False</td>\n",
       "      <td id=\"T_3f494_row4_col1\" class=\"data row4 col1\" >True</td>\n",
       "      <td id=\"T_3f494_row4_col2\" class=\"data row4 col2\" >False</td>\n",
       "    </tr>\n",
       "    <tr>\n",
       "      <td id=\"T_3f494_row5_col0\" class=\"data row5 col0\" >False</td>\n",
       "      <td id=\"T_3f494_row5_col1\" class=\"data row5 col1\" >True</td>\n",
       "      <td id=\"T_3f494_row5_col2\" class=\"data row5 col2\" >False</td>\n",
       "    </tr>\n",
       "    <tr>\n",
       "      <td id=\"T_3f494_row6_col0\" class=\"data row6 col0\" >False</td>\n",
       "      <td id=\"T_3f494_row6_col1\" class=\"data row6 col1\" >True</td>\n",
       "      <td id=\"T_3f494_row6_col2\" class=\"data row6 col2\" >False</td>\n",
       "    </tr>\n",
       "    <tr>\n",
       "      <td id=\"T_3f494_row7_col0\" class=\"data row7 col0\" >False</td>\n",
       "      <td id=\"T_3f494_row7_col1\" class=\"data row7 col1\" >True</td>\n",
       "      <td id=\"T_3f494_row7_col2\" class=\"data row7 col2\" >False</td>\n",
       "    </tr>\n",
       "    <tr>\n",
       "      <td id=\"T_3f494_row8_col0\" class=\"data row8 col0\" >True</td>\n",
       "      <td id=\"T_3f494_row8_col1\" class=\"data row8 col1\" >True</td>\n",
       "      <td id=\"T_3f494_row8_col2\" class=\"data row8 col2\" >True</td>\n",
       "    </tr>\n",
       "    <tr>\n",
       "      <td id=\"T_3f494_row9_col0\" class=\"data row9 col0\" >True</td>\n",
       "      <td id=\"T_3f494_row9_col1\" class=\"data row9 col1\" >True</td>\n",
       "      <td id=\"T_3f494_row9_col2\" class=\"data row9 col2\" >True</td>\n",
       "    </tr>\n",
       "  </tbody>\n",
       "</table>\n",
       " </div></div>"
      ],
      "text/plain": [
       "__main__.MaskedDf(data=                        TA       SW_IN    VPD\n",
       "time                                         \n",
       "2000-06-15 16:30:00  14.65  468.190002  6.454\n",
       "2000-06-15 17:00:00  14.22  224.800003  5.799\n",
       "2000-06-15 17:30:00  14.11  195.279999  6.577\n",
       "2000-06-15 18:00:00  14.23  244.169998  6.931\n",
       "2000-06-15 18:30:00  14.40  253.919998  7.286\n",
       "2000-06-15 19:00:00  14.09  177.309998  7.251\n",
       "2000-06-15 19:30:00  13.71   97.070000  6.683\n",
       "2000-06-15 20:00:00  13.08   39.709999  5.851\n",
       "2000-06-15 20:30:00  12.41   10.650000  5.254\n",
       "2000-06-15 21:00:00  12.27    0.320000  5.164, mask=                        TA  SW_IN    VPD\n",
       "time                                    \n",
       "2000-06-15 16:30:00   True   True   True\n",
       "2000-06-15 17:00:00   True   True   True\n",
       "2000-06-15 17:30:00   True   True   True\n",
       "2000-06-15 18:00:00  False   True  False\n",
       "2000-06-15 18:30:00  False   True  False\n",
       "2000-06-15 19:00:00  False   True  False\n",
       "2000-06-15 19:30:00  False   True  False\n",
       "2000-06-15 20:00:00  False   True  False\n",
       "2000-06-15 20:30:00   True   True   True\n",
       "2000-06-15 21:00:00   True   True   True)"
      ]
     },
     "execution_count": null,
     "metadata": {},
     "output_type": "execute_result"
    }
   ],
   "source": [
    "a_gap(blk(800))"
   ]
  },
  {
   "cell_type": "code",
   "execution_count": null,
   "id": "2f3cccff-2b4f-4817-9807-4d833f9f8b52",
   "metadata": {},
   "outputs": [],
   "source": [
    "m_df = a_gap(blk(800))"
   ]
  },
  {
   "cell_type": "code",
   "execution_count": null,
   "id": "219da54b-55ed-4543-bbbb-5d144d089bed",
   "metadata": {},
   "outputs": [
    {
     "data": {
      "text/html": [
       "<p style='font-size: 1.5rem; font-decoration: bold'><p><div style=\"display: flex; column-gap: 20px; flex-wrap: wrap;\" class='table table-striped table-sm'> <div> <p style='font-size: 1.3rem;'>data</p> <style type=\"text/css\">\n",
       "</style>\n",
       "<table id=\"T_164b2\">\n",
       "  <thead>\n",
       "    <tr>\n",
       "      <th id=\"T_164b2_level0_col0\" class=\"col_heading level0 col0\" >TA</th>\n",
       "      <th id=\"T_164b2_level0_col1\" class=\"col_heading level0 col1\" >SW_IN</th>\n",
       "      <th id=\"T_164b2_level0_col2\" class=\"col_heading level0 col2\" >VPD</th>\n",
       "    </tr>\n",
       "  </thead>\n",
       "  <tbody>\n",
       "    <tr>\n",
       "      <td id=\"T_164b2_row0_col0\" class=\"data row0 col0\" >14.6500</td>\n",
       "      <td id=\"T_164b2_row0_col1\" class=\"data row0 col1\" >468.1900</td>\n",
       "      <td id=\"T_164b2_row0_col2\" class=\"data row0 col2\" >6.4540</td>\n",
       "    </tr>\n",
       "    <tr>\n",
       "      <td id=\"T_164b2_row1_col0\" class=\"data row1 col0\" >14.2200</td>\n",
       "      <td id=\"T_164b2_row1_col1\" class=\"data row1 col1\" >224.8000</td>\n",
       "      <td id=\"T_164b2_row1_col2\" class=\"data row1 col2\" >5.7990</td>\n",
       "    </tr>\n",
       "    <tr>\n",
       "      <td id=\"T_164b2_row2_col0\" class=\"data row2 col0\" >14.1100</td>\n",
       "      <td id=\"T_164b2_row2_col1\" class=\"data row2 col1\" >195.2800</td>\n",
       "      <td id=\"T_164b2_row2_col2\" class=\"data row2 col2\" >6.5770</td>\n",
       "    </tr>\n",
       "    <tr>\n",
       "      <td id=\"T_164b2_row3_col0\" class=\"data row3 col0\" >14.2300</td>\n",
       "      <td id=\"T_164b2_row3_col1\" class=\"data row3 col1\" >244.1700</td>\n",
       "      <td id=\"T_164b2_row3_col2\" class=\"data row3 col2\" >6.9310</td>\n",
       "    </tr>\n",
       "    <tr>\n",
       "      <td id=\"T_164b2_row4_col0\" class=\"data row4 col0\" >14.4000</td>\n",
       "      <td id=\"T_164b2_row4_col1\" class=\"data row4 col1\" >253.9200</td>\n",
       "      <td id=\"T_164b2_row4_col2\" class=\"data row4 col2\" >7.2860</td>\n",
       "    </tr>\n",
       "    <tr>\n",
       "      <td id=\"T_164b2_row5_col0\" class=\"data row5 col0\" >14.0900</td>\n",
       "      <td id=\"T_164b2_row5_col1\" class=\"data row5 col1\" >177.3100</td>\n",
       "      <td id=\"T_164b2_row5_col2\" class=\"data row5 col2\" >7.2510</td>\n",
       "    </tr>\n",
       "    <tr>\n",
       "      <td id=\"T_164b2_row6_col0\" class=\"data row6 col0\" >13.7100</td>\n",
       "      <td id=\"T_164b2_row6_col1\" class=\"data row6 col1\" >97.0700</td>\n",
       "      <td id=\"T_164b2_row6_col2\" class=\"data row6 col2\" >6.6830</td>\n",
       "    </tr>\n",
       "    <tr>\n",
       "      <td id=\"T_164b2_row7_col0\" class=\"data row7 col0\" >13.0800</td>\n",
       "      <td id=\"T_164b2_row7_col1\" class=\"data row7 col1\" >39.7100</td>\n",
       "      <td id=\"T_164b2_row7_col2\" class=\"data row7 col2\" >5.8510</td>\n",
       "    </tr>\n",
       "    <tr>\n",
       "      <td id=\"T_164b2_row8_col0\" class=\"data row8 col0\" >12.4100</td>\n",
       "      <td id=\"T_164b2_row8_col1\" class=\"data row8 col1\" >10.6500</td>\n",
       "      <td id=\"T_164b2_row8_col2\" class=\"data row8 col2\" >5.2540</td>\n",
       "    </tr>\n",
       "    <tr>\n",
       "      <td id=\"T_164b2_row9_col0\" class=\"data row9 col0\" >12.2700</td>\n",
       "      <td id=\"T_164b2_row9_col1\" class=\"data row9 col1\" >0.3200</td>\n",
       "      <td id=\"T_164b2_row9_col2\" class=\"data row9 col2\" >5.1640</td>\n",
       "    </tr>\n",
       "  </tbody>\n",
       "</table>\n",
       " </div><div> <p style='font-size: 1.3rem;'>mask</p> <style type=\"text/css\">\n",
       "</style>\n",
       "<table id=\"T_e0268\">\n",
       "  <thead>\n",
       "    <tr>\n",
       "      <th id=\"T_e0268_level0_col0\" class=\"col_heading level0 col0\" >TA</th>\n",
       "      <th id=\"T_e0268_level0_col1\" class=\"col_heading level0 col1\" >SW_IN</th>\n",
       "      <th id=\"T_e0268_level0_col2\" class=\"col_heading level0 col2\" >VPD</th>\n",
       "    </tr>\n",
       "  </thead>\n",
       "  <tbody>\n",
       "    <tr>\n",
       "      <td id=\"T_e0268_row0_col0\" class=\"data row0 col0\" >False</td>\n",
       "      <td id=\"T_e0268_row0_col1\" class=\"data row0 col1\" >True</td>\n",
       "      <td id=\"T_e0268_row0_col2\" class=\"data row0 col2\" >False</td>\n",
       "    </tr>\n",
       "    <tr>\n",
       "      <td id=\"T_e0268_row1_col0\" class=\"data row1 col0\" >False</td>\n",
       "      <td id=\"T_e0268_row1_col1\" class=\"data row1 col1\" >True</td>\n",
       "      <td id=\"T_e0268_row1_col2\" class=\"data row1 col2\" >False</td>\n",
       "    </tr>\n",
       "    <tr>\n",
       "      <td id=\"T_e0268_row2_col0\" class=\"data row2 col0\" >False</td>\n",
       "      <td id=\"T_e0268_row2_col1\" class=\"data row2 col1\" >True</td>\n",
       "      <td id=\"T_e0268_row2_col2\" class=\"data row2 col2\" >False</td>\n",
       "    </tr>\n",
       "    <tr>\n",
       "      <td id=\"T_e0268_row3_col0\" class=\"data row3 col0\" >False</td>\n",
       "      <td id=\"T_e0268_row3_col1\" class=\"data row3 col1\" >True</td>\n",
       "      <td id=\"T_e0268_row3_col2\" class=\"data row3 col2\" >False</td>\n",
       "    </tr>\n",
       "    <tr>\n",
       "      <td id=\"T_e0268_row4_col0\" class=\"data row4 col0\" >False</td>\n",
       "      <td id=\"T_e0268_row4_col1\" class=\"data row4 col1\" >True</td>\n",
       "      <td id=\"T_e0268_row4_col2\" class=\"data row4 col2\" >False</td>\n",
       "    </tr>\n",
       "    <tr>\n",
       "      <td id=\"T_e0268_row5_col0\" class=\"data row5 col0\" >True</td>\n",
       "      <td id=\"T_e0268_row5_col1\" class=\"data row5 col1\" >True</td>\n",
       "      <td id=\"T_e0268_row5_col2\" class=\"data row5 col2\" >True</td>\n",
       "    </tr>\n",
       "    <tr>\n",
       "      <td id=\"T_e0268_row6_col0\" class=\"data row6 col0\" >True</td>\n",
       "      <td id=\"T_e0268_row6_col1\" class=\"data row6 col1\" >True</td>\n",
       "      <td id=\"T_e0268_row6_col2\" class=\"data row6 col2\" >True</td>\n",
       "    </tr>\n",
       "    <tr>\n",
       "      <td id=\"T_e0268_row7_col0\" class=\"data row7 col0\" >True</td>\n",
       "      <td id=\"T_e0268_row7_col1\" class=\"data row7 col1\" >True</td>\n",
       "      <td id=\"T_e0268_row7_col2\" class=\"data row7 col2\" >True</td>\n",
       "    </tr>\n",
       "    <tr>\n",
       "      <td id=\"T_e0268_row8_col0\" class=\"data row8 col0\" >True</td>\n",
       "      <td id=\"T_e0268_row8_col1\" class=\"data row8 col1\" >True</td>\n",
       "      <td id=\"T_e0268_row8_col2\" class=\"data row8 col2\" >True</td>\n",
       "    </tr>\n",
       "    <tr>\n",
       "      <td id=\"T_e0268_row9_col0\" class=\"data row9 col0\" >True</td>\n",
       "      <td id=\"T_e0268_row9_col1\" class=\"data row9 col1\" >True</td>\n",
       "      <td id=\"T_e0268_row9_col2\" class=\"data row9 col2\" >True</td>\n",
       "    </tr>\n",
       "  </tbody>\n",
       "</table>\n",
       " </div></div>"
      ],
      "text/plain": [
       "<IPython.core.display.HTML object>"
      ]
     },
     "metadata": {},
     "output_type": "display_data"
    }
   ],
   "source": [
    "display_as_row({'data': m_df.data, 'mask': m_df.mask})"
   ]
  },
  {
   "cell_type": "code",
   "execution_count": null,
   "id": "465aab96-5f68-49c4-94bd-8c4fe4d5e8de",
   "metadata": {},
   "outputs": [],
   "source": [
    "tfms2 = TfmdLists([800,801,802,803], [BlockDfTransform(hai, 10), AddGapTransform(['TA','SW_IN'], 2)])"
   ]
  },
  {
   "cell_type": "code",
   "execution_count": null,
   "id": "3292befc-b05d-441b-9404-7d1aa24d657d",
   "metadata": {},
   "outputs": [
    {
     "data": {
      "text/html": [
       "<p style='font-size: 1.5rem; font-decoration: bold'>Masked Df<p><div style=\"display: flex; column-gap: 20px; flex-wrap: wrap;\" class='table table-striped table-sm'> <div> <p style='font-size: 1.3rem;'>data</p> <style type=\"text/css\">\n",
       "</style>\n",
       "<table id=\"T_c3439\">\n",
       "  <thead>\n",
       "    <tr>\n",
       "      <th id=\"T_c3439_level0_col0\" class=\"col_heading level0 col0\" >TA</th>\n",
       "      <th id=\"T_c3439_level0_col1\" class=\"col_heading level0 col1\" >SW_IN</th>\n",
       "      <th id=\"T_c3439_level0_col2\" class=\"col_heading level0 col2\" >VPD</th>\n",
       "    </tr>\n",
       "  </thead>\n",
       "  <tbody>\n",
       "    <tr>\n",
       "      <td id=\"T_c3439_row0_col0\" class=\"data row0 col0\" >14.6500</td>\n",
       "      <td id=\"T_c3439_row0_col1\" class=\"data row0 col1\" >468.1900</td>\n",
       "      <td id=\"T_c3439_row0_col2\" class=\"data row0 col2\" >6.4540</td>\n",
       "    </tr>\n",
       "    <tr>\n",
       "      <td id=\"T_c3439_row1_col0\" class=\"data row1 col0\" >14.2200</td>\n",
       "      <td id=\"T_c3439_row1_col1\" class=\"data row1 col1\" >224.8000</td>\n",
       "      <td id=\"T_c3439_row1_col2\" class=\"data row1 col2\" >5.7990</td>\n",
       "    </tr>\n",
       "    <tr>\n",
       "      <td id=\"T_c3439_row2_col0\" class=\"data row2 col0\" >14.1100</td>\n",
       "      <td id=\"T_c3439_row2_col1\" class=\"data row2 col1\" >195.2800</td>\n",
       "      <td id=\"T_c3439_row2_col2\" class=\"data row2 col2\" >6.5770</td>\n",
       "    </tr>\n",
       "    <tr>\n",
       "      <td id=\"T_c3439_row3_col0\" class=\"data row3 col0\" >14.2300</td>\n",
       "      <td id=\"T_c3439_row3_col1\" class=\"data row3 col1\" >244.1700</td>\n",
       "      <td id=\"T_c3439_row3_col2\" class=\"data row3 col2\" >6.9310</td>\n",
       "    </tr>\n",
       "    <tr>\n",
       "      <td id=\"T_c3439_row4_col0\" class=\"data row4 col0\" >14.4000</td>\n",
       "      <td id=\"T_c3439_row4_col1\" class=\"data row4 col1\" >253.9200</td>\n",
       "      <td id=\"T_c3439_row4_col2\" class=\"data row4 col2\" >7.2860</td>\n",
       "    </tr>\n",
       "    <tr>\n",
       "      <td id=\"T_c3439_row5_col0\" class=\"data row5 col0\" >14.0900</td>\n",
       "      <td id=\"T_c3439_row5_col1\" class=\"data row5 col1\" >177.3100</td>\n",
       "      <td id=\"T_c3439_row5_col2\" class=\"data row5 col2\" >7.2510</td>\n",
       "    </tr>\n",
       "    <tr>\n",
       "      <td id=\"T_c3439_row6_col0\" class=\"data row6 col0\" >13.7100</td>\n",
       "      <td id=\"T_c3439_row6_col1\" class=\"data row6 col1\" >97.0700</td>\n",
       "      <td id=\"T_c3439_row6_col2\" class=\"data row6 col2\" >6.6830</td>\n",
       "    </tr>\n",
       "    <tr>\n",
       "      <td id=\"T_c3439_row7_col0\" class=\"data row7 col0\" >13.0800</td>\n",
       "      <td id=\"T_c3439_row7_col1\" class=\"data row7 col1\" >39.7100</td>\n",
       "      <td id=\"T_c3439_row7_col2\" class=\"data row7 col2\" >5.8510</td>\n",
       "    </tr>\n",
       "    <tr>\n",
       "      <td id=\"T_c3439_row8_col0\" class=\"data row8 col0\" >12.4100</td>\n",
       "      <td id=\"T_c3439_row8_col1\" class=\"data row8 col1\" >10.6500</td>\n",
       "      <td id=\"T_c3439_row8_col2\" class=\"data row8 col2\" >5.2540</td>\n",
       "    </tr>\n",
       "    <tr>\n",
       "      <td id=\"T_c3439_row9_col0\" class=\"data row9 col0\" >12.2700</td>\n",
       "      <td id=\"T_c3439_row9_col1\" class=\"data row9 col1\" >0.3200</td>\n",
       "      <td id=\"T_c3439_row9_col2\" class=\"data row9 col2\" >5.1640</td>\n",
       "    </tr>\n",
       "  </tbody>\n",
       "</table>\n",
       " </div><div> <p style='font-size: 1.3rem;'>mask</p> <style type=\"text/css\">\n",
       "</style>\n",
       "<table id=\"T_232d6\">\n",
       "  <thead>\n",
       "    <tr>\n",
       "      <th id=\"T_232d6_level0_col0\" class=\"col_heading level0 col0\" >TA</th>\n",
       "      <th id=\"T_232d6_level0_col1\" class=\"col_heading level0 col1\" >SW_IN</th>\n",
       "      <th id=\"T_232d6_level0_col2\" class=\"col_heading level0 col2\" >VPD</th>\n",
       "    </tr>\n",
       "  </thead>\n",
       "  <tbody>\n",
       "    <tr>\n",
       "      <td id=\"T_232d6_row0_col0\" class=\"data row0 col0\" >True</td>\n",
       "      <td id=\"T_232d6_row0_col1\" class=\"data row0 col1\" >True</td>\n",
       "      <td id=\"T_232d6_row0_col2\" class=\"data row0 col2\" >True</td>\n",
       "    </tr>\n",
       "    <tr>\n",
       "      <td id=\"T_232d6_row1_col0\" class=\"data row1 col0\" >True</td>\n",
       "      <td id=\"T_232d6_row1_col1\" class=\"data row1 col1\" >True</td>\n",
       "      <td id=\"T_232d6_row1_col2\" class=\"data row1 col2\" >True</td>\n",
       "    </tr>\n",
       "    <tr>\n",
       "      <td id=\"T_232d6_row2_col0\" class=\"data row2 col0\" >True</td>\n",
       "      <td id=\"T_232d6_row2_col1\" class=\"data row2 col1\" >True</td>\n",
       "      <td id=\"T_232d6_row2_col2\" class=\"data row2 col2\" >True</td>\n",
       "    </tr>\n",
       "    <tr>\n",
       "      <td id=\"T_232d6_row3_col0\" class=\"data row3 col0\" >True</td>\n",
       "      <td id=\"T_232d6_row3_col1\" class=\"data row3 col1\" >True</td>\n",
       "      <td id=\"T_232d6_row3_col2\" class=\"data row3 col2\" >True</td>\n",
       "    </tr>\n",
       "    <tr>\n",
       "      <td id=\"T_232d6_row4_col0\" class=\"data row4 col0\" >True</td>\n",
       "      <td id=\"T_232d6_row4_col1\" class=\"data row4 col1\" >True</td>\n",
       "      <td id=\"T_232d6_row4_col2\" class=\"data row4 col2\" >True</td>\n",
       "    </tr>\n",
       "    <tr>\n",
       "      <td id=\"T_232d6_row5_col0\" class=\"data row5 col0\" >True</td>\n",
       "      <td id=\"T_232d6_row5_col1\" class=\"data row5 col1\" >True</td>\n",
       "      <td id=\"T_232d6_row5_col2\" class=\"data row5 col2\" >True</td>\n",
       "    </tr>\n",
       "    <tr>\n",
       "      <td id=\"T_232d6_row6_col0\" class=\"data row6 col0\" >True</td>\n",
       "      <td id=\"T_232d6_row6_col1\" class=\"data row6 col1\" >True</td>\n",
       "      <td id=\"T_232d6_row6_col2\" class=\"data row6 col2\" >True</td>\n",
       "    </tr>\n",
       "    <tr>\n",
       "      <td id=\"T_232d6_row7_col0\" class=\"data row7 col0\" >False</td>\n",
       "      <td id=\"T_232d6_row7_col1\" class=\"data row7 col1\" >False</td>\n",
       "      <td id=\"T_232d6_row7_col2\" class=\"data row7 col2\" >True</td>\n",
       "    </tr>\n",
       "    <tr>\n",
       "      <td id=\"T_232d6_row8_col0\" class=\"data row8 col0\" >False</td>\n",
       "      <td id=\"T_232d6_row8_col1\" class=\"data row8 col1\" >False</td>\n",
       "      <td id=\"T_232d6_row8_col2\" class=\"data row8 col2\" >True</td>\n",
       "    </tr>\n",
       "    <tr>\n",
       "      <td id=\"T_232d6_row9_col0\" class=\"data row9 col0\" >True</td>\n",
       "      <td id=\"T_232d6_row9_col1\" class=\"data row9 col1\" >True</td>\n",
       "      <td id=\"T_232d6_row9_col2\" class=\"data row9 col2\" >True</td>\n",
       "    </tr>\n",
       "  </tbody>\n",
       "</table>\n",
       " </div></div>"
      ],
      "text/plain": [
       "__main__.MaskedDf(data=                        TA       SW_IN    VPD\n",
       "time                                         \n",
       "2000-06-15 16:30:00  14.65  468.190002  6.454\n",
       "2000-06-15 17:00:00  14.22  224.800003  5.799\n",
       "2000-06-15 17:30:00  14.11  195.279999  6.577\n",
       "2000-06-15 18:00:00  14.23  244.169998  6.931\n",
       "2000-06-15 18:30:00  14.40  253.919998  7.286\n",
       "2000-06-15 19:00:00  14.09  177.309998  7.251\n",
       "2000-06-15 19:30:00  13.71   97.070000  6.683\n",
       "2000-06-15 20:00:00  13.08   39.709999  5.851\n",
       "2000-06-15 20:30:00  12.41   10.650000  5.254\n",
       "2000-06-15 21:00:00  12.27    0.320000  5.164, mask=                        TA  SW_IN   VPD\n",
       "time                                   \n",
       "2000-06-15 16:30:00   True   True  True\n",
       "2000-06-15 17:00:00   True   True  True\n",
       "2000-06-15 17:30:00   True   True  True\n",
       "2000-06-15 18:00:00   True   True  True\n",
       "2000-06-15 18:30:00   True   True  True\n",
       "2000-06-15 19:00:00   True   True  True\n",
       "2000-06-15 19:30:00   True   True  True\n",
       "2000-06-15 20:00:00  False  False  True\n",
       "2000-06-15 20:30:00  False  False  True\n",
       "2000-06-15 21:00:00   True   True  True)"
      ]
     },
     "execution_count": null,
     "metadata": {},
     "output_type": "execute_result"
    }
   ],
   "source": [
    "tfms2[0]"
   ]
  },
  {
   "cell_type": "code",
   "execution_count": null,
   "id": "5952ccff-6433-48ca-8940-6ea872927cdc",
   "metadata": {},
   "outputs": [],
   "source": [
    "#| export\n",
    "@patch\n",
    "def tidy(self: MaskedDf):\n",
    "    data = self.data.reset_index().melt(\"time\")\n",
    "    mask = self.mask.reset_index().melt(\"time\", value_name=\"is_present\")\n",
    "    \n",
    "    return pd.merge(data, mask, on=[\"time\", \"variable\"])"
   ]
  },
  {
   "cell_type": "code",
   "execution_count": null,
   "id": "c601c37c-a032-4edb-a522-50ce0af7b87d",
   "metadata": {},
   "outputs": [
    {
     "data": {
      "text/html": [
       "<div>\n",
       "<style scoped>\n",
       "    .dataframe tbody tr th:only-of-type {\n",
       "        vertical-align: middle;\n",
       "    }\n",
       "\n",
       "    .dataframe tbody tr th {\n",
       "        vertical-align: top;\n",
       "    }\n",
       "\n",
       "    .dataframe thead th {\n",
       "        text-align: right;\n",
       "    }\n",
       "</style>\n",
       "<table border=\"1\" class=\"dataframe\">\n",
       "  <thead>\n",
       "    <tr style=\"text-align: right;\">\n",
       "      <th></th>\n",
       "      <th>time</th>\n",
       "      <th>variable</th>\n",
       "      <th>value</th>\n",
       "      <th>is_present</th>\n",
       "    </tr>\n",
       "  </thead>\n",
       "  <tbody>\n",
       "    <tr>\n",
       "      <th>0</th>\n",
       "      <td>2000-06-15 16:30:00</td>\n",
       "      <td>TA</td>\n",
       "      <td>14.650000</td>\n",
       "      <td>False</td>\n",
       "    </tr>\n",
       "    <tr>\n",
       "      <th>1</th>\n",
       "      <td>2000-06-15 17:00:00</td>\n",
       "      <td>TA</td>\n",
       "      <td>14.220000</td>\n",
       "      <td>False</td>\n",
       "    </tr>\n",
       "    <tr>\n",
       "      <th>2</th>\n",
       "      <td>2000-06-15 17:30:00</td>\n",
       "      <td>TA</td>\n",
       "      <td>14.110000</td>\n",
       "      <td>False</td>\n",
       "    </tr>\n",
       "    <tr>\n",
       "      <th>3</th>\n",
       "      <td>2000-06-15 18:00:00</td>\n",
       "      <td>TA</td>\n",
       "      <td>14.230000</td>\n",
       "      <td>False</td>\n",
       "    </tr>\n",
       "    <tr>\n",
       "      <th>4</th>\n",
       "      <td>2000-06-15 18:30:00</td>\n",
       "      <td>TA</td>\n",
       "      <td>14.400000</td>\n",
       "      <td>False</td>\n",
       "    </tr>\n",
       "    <tr>\n",
       "      <th>5</th>\n",
       "      <td>2000-06-15 19:00:00</td>\n",
       "      <td>TA</td>\n",
       "      <td>14.090000</td>\n",
       "      <td>True</td>\n",
       "    </tr>\n",
       "    <tr>\n",
       "      <th>6</th>\n",
       "      <td>2000-06-15 19:30:00</td>\n",
       "      <td>TA</td>\n",
       "      <td>13.710000</td>\n",
       "      <td>True</td>\n",
       "    </tr>\n",
       "    <tr>\n",
       "      <th>7</th>\n",
       "      <td>2000-06-15 20:00:00</td>\n",
       "      <td>TA</td>\n",
       "      <td>13.080000</td>\n",
       "      <td>True</td>\n",
       "    </tr>\n",
       "    <tr>\n",
       "      <th>8</th>\n",
       "      <td>2000-06-15 20:30:00</td>\n",
       "      <td>TA</td>\n",
       "      <td>12.410000</td>\n",
       "      <td>True</td>\n",
       "    </tr>\n",
       "    <tr>\n",
       "      <th>9</th>\n",
       "      <td>2000-06-15 21:00:00</td>\n",
       "      <td>TA</td>\n",
       "      <td>12.270000</td>\n",
       "      <td>True</td>\n",
       "    </tr>\n",
       "    <tr>\n",
       "      <th>10</th>\n",
       "      <td>2000-06-15 16:30:00</td>\n",
       "      <td>SW_IN</td>\n",
       "      <td>468.190002</td>\n",
       "      <td>True</td>\n",
       "    </tr>\n",
       "    <tr>\n",
       "      <th>11</th>\n",
       "      <td>2000-06-15 17:00:00</td>\n",
       "      <td>SW_IN</td>\n",
       "      <td>224.800003</td>\n",
       "      <td>True</td>\n",
       "    </tr>\n",
       "    <tr>\n",
       "      <th>12</th>\n",
       "      <td>2000-06-15 17:30:00</td>\n",
       "      <td>SW_IN</td>\n",
       "      <td>195.279999</td>\n",
       "      <td>True</td>\n",
       "    </tr>\n",
       "    <tr>\n",
       "      <th>13</th>\n",
       "      <td>2000-06-15 18:00:00</td>\n",
       "      <td>SW_IN</td>\n",
       "      <td>244.169998</td>\n",
       "      <td>True</td>\n",
       "    </tr>\n",
       "    <tr>\n",
       "      <th>14</th>\n",
       "      <td>2000-06-15 18:30:00</td>\n",
       "      <td>SW_IN</td>\n",
       "      <td>253.919998</td>\n",
       "      <td>True</td>\n",
       "    </tr>\n",
       "    <tr>\n",
       "      <th>15</th>\n",
       "      <td>2000-06-15 19:00:00</td>\n",
       "      <td>SW_IN</td>\n",
       "      <td>177.309998</td>\n",
       "      <td>True</td>\n",
       "    </tr>\n",
       "    <tr>\n",
       "      <th>16</th>\n",
       "      <td>2000-06-15 19:30:00</td>\n",
       "      <td>SW_IN</td>\n",
       "      <td>97.070000</td>\n",
       "      <td>True</td>\n",
       "    </tr>\n",
       "    <tr>\n",
       "      <th>17</th>\n",
       "      <td>2000-06-15 20:00:00</td>\n",
       "      <td>SW_IN</td>\n",
       "      <td>39.709999</td>\n",
       "      <td>True</td>\n",
       "    </tr>\n",
       "    <tr>\n",
       "      <th>18</th>\n",
       "      <td>2000-06-15 20:30:00</td>\n",
       "      <td>SW_IN</td>\n",
       "      <td>10.650000</td>\n",
       "      <td>True</td>\n",
       "    </tr>\n",
       "    <tr>\n",
       "      <th>19</th>\n",
       "      <td>2000-06-15 21:00:00</td>\n",
       "      <td>SW_IN</td>\n",
       "      <td>0.320000</td>\n",
       "      <td>True</td>\n",
       "    </tr>\n",
       "    <tr>\n",
       "      <th>20</th>\n",
       "      <td>2000-06-15 16:30:00</td>\n",
       "      <td>VPD</td>\n",
       "      <td>6.454000</td>\n",
       "      <td>False</td>\n",
       "    </tr>\n",
       "    <tr>\n",
       "      <th>21</th>\n",
       "      <td>2000-06-15 17:00:00</td>\n",
       "      <td>VPD</td>\n",
       "      <td>5.799000</td>\n",
       "      <td>False</td>\n",
       "    </tr>\n",
       "    <tr>\n",
       "      <th>22</th>\n",
       "      <td>2000-06-15 17:30:00</td>\n",
       "      <td>VPD</td>\n",
       "      <td>6.577000</td>\n",
       "      <td>False</td>\n",
       "    </tr>\n",
       "    <tr>\n",
       "      <th>23</th>\n",
       "      <td>2000-06-15 18:00:00</td>\n",
       "      <td>VPD</td>\n",
       "      <td>6.931000</td>\n",
       "      <td>False</td>\n",
       "    </tr>\n",
       "    <tr>\n",
       "      <th>24</th>\n",
       "      <td>2000-06-15 18:30:00</td>\n",
       "      <td>VPD</td>\n",
       "      <td>7.286000</td>\n",
       "      <td>False</td>\n",
       "    </tr>\n",
       "    <tr>\n",
       "      <th>25</th>\n",
       "      <td>2000-06-15 19:00:00</td>\n",
       "      <td>VPD</td>\n",
       "      <td>7.251000</td>\n",
       "      <td>True</td>\n",
       "    </tr>\n",
       "    <tr>\n",
       "      <th>26</th>\n",
       "      <td>2000-06-15 19:30:00</td>\n",
       "      <td>VPD</td>\n",
       "      <td>6.683000</td>\n",
       "      <td>True</td>\n",
       "    </tr>\n",
       "    <tr>\n",
       "      <th>27</th>\n",
       "      <td>2000-06-15 20:00:00</td>\n",
       "      <td>VPD</td>\n",
       "      <td>5.851000</td>\n",
       "      <td>True</td>\n",
       "    </tr>\n",
       "    <tr>\n",
       "      <th>28</th>\n",
       "      <td>2000-06-15 20:30:00</td>\n",
       "      <td>VPD</td>\n",
       "      <td>5.254000</td>\n",
       "      <td>True</td>\n",
       "    </tr>\n",
       "    <tr>\n",
       "      <th>29</th>\n",
       "      <td>2000-06-15 21:00:00</td>\n",
       "      <td>VPD</td>\n",
       "      <td>5.164000</td>\n",
       "      <td>True</td>\n",
       "    </tr>\n",
       "  </tbody>\n",
       "</table>\n",
       "</div>"
      ],
      "text/plain": [
       "                  time variable       value  is_present\n",
       "0  2000-06-15 16:30:00       TA   14.650000       False\n",
       "1  2000-06-15 17:00:00       TA   14.220000       False\n",
       "2  2000-06-15 17:30:00       TA   14.110000       False\n",
       "3  2000-06-15 18:00:00       TA   14.230000       False\n",
       "4  2000-06-15 18:30:00       TA   14.400000       False\n",
       "5  2000-06-15 19:00:00       TA   14.090000        True\n",
       "6  2000-06-15 19:30:00       TA   13.710000        True\n",
       "7  2000-06-15 20:00:00       TA   13.080000        True\n",
       "8  2000-06-15 20:30:00       TA   12.410000        True\n",
       "9  2000-06-15 21:00:00       TA   12.270000        True\n",
       "10 2000-06-15 16:30:00    SW_IN  468.190002        True\n",
       "11 2000-06-15 17:00:00    SW_IN  224.800003        True\n",
       "12 2000-06-15 17:30:00    SW_IN  195.279999        True\n",
       "13 2000-06-15 18:00:00    SW_IN  244.169998        True\n",
       "14 2000-06-15 18:30:00    SW_IN  253.919998        True\n",
       "15 2000-06-15 19:00:00    SW_IN  177.309998        True\n",
       "16 2000-06-15 19:30:00    SW_IN   97.070000        True\n",
       "17 2000-06-15 20:00:00    SW_IN   39.709999        True\n",
       "18 2000-06-15 20:30:00    SW_IN   10.650000        True\n",
       "19 2000-06-15 21:00:00    SW_IN    0.320000        True\n",
       "20 2000-06-15 16:30:00      VPD    6.454000       False\n",
       "21 2000-06-15 17:00:00      VPD    5.799000       False\n",
       "22 2000-06-15 17:30:00      VPD    6.577000       False\n",
       "23 2000-06-15 18:00:00      VPD    6.931000       False\n",
       "24 2000-06-15 18:30:00      VPD    7.286000       False\n",
       "25 2000-06-15 19:00:00      VPD    7.251000        True\n",
       "26 2000-06-15 19:30:00      VPD    6.683000        True\n",
       "27 2000-06-15 20:00:00      VPD    5.851000        True\n",
       "28 2000-06-15 20:30:00      VPD    5.254000        True\n",
       "29 2000-06-15 21:00:00      VPD    5.164000        True"
      ]
     },
     "execution_count": null,
     "metadata": {},
     "output_type": "execute_result"
    }
   ],
   "source": [
    "m_df.tidy()"
   ]
  },
  {
   "cell_type": "markdown",
   "id": "9d2c8fbc-f1e1-4938-b4a6-d29d8bd8e6bd",
   "metadata": {},
   "source": [
    "#### Plotting"
   ]
  },
  {
   "cell_type": "code",
   "execution_count": null,
   "id": "f36f4825-52e4-49c7-92f1-14d64429e3ea",
   "metadata": {},
   "outputs": [],
   "source": [
    "#| export\n",
    "import altair as alt\n",
    "from altair import datum"
   ]
  },
  {
   "cell_type": "code",
   "execution_count": null,
   "id": "51544d62-63ca-4e6c-b63e-943cc739fa5b",
   "metadata": {},
   "outputs": [],
   "source": [
    "#| exporti\n",
    "def def_selection():\n",
    "    return alt.selection_interval(bind=\"scales\")"
   ]
  },
  {
   "cell_type": "markdown",
   "id": "fb225f9b-770d-4d41-941d-08c32cd65927",
   "metadata": {},
   "source": [
    "##### Rug"
   ]
  },
  {
   "cell_type": "code",
   "execution_count": null,
   "id": "7f1e483f-f250-4baf-82ee-3958f5cefba8",
   "metadata": {},
   "outputs": [],
   "source": [
    "#| exporti\n",
    "def plot_rug(df, sel = def_selection(), props = {}):\n",
    "    if 'height' in props:\n",
    "        props = props.copy() \n",
    "        props.pop('height') # rug should have default heigth\n",
    "    return alt.Chart(df).mark_tick(\n",
    "            color='black',\n",
    "        ).encode(\n",
    "            x = \"time\",\n",
    "            color = alt.condition(datum.is_present, alt.value('white'), alt.value('black'))\n",
    "        ).add_params(\n",
    "            sel\n",
    "        ).properties(**props) "
   ]
  },
  {
   "cell_type": "code",
   "execution_count": null,
   "id": "f9668bee-f4dd-48e6-92cd-4b96f1f3626e",
   "metadata": {},
   "outputs": [
    {
     "data": {
      "text/html": [
       "\n",
       "<div id=\"altair-viz-9f7d3216da0f4c4680aebfa8657abd20\"></div>\n",
       "<script type=\"text/javascript\">\n",
       "  var VEGA_DEBUG = (typeof VEGA_DEBUG == \"undefined\") ? {} : VEGA_DEBUG;\n",
       "  (function(spec, embedOpt){\n",
       "    let outputDiv = document.currentScript.previousElementSibling;\n",
       "    if (outputDiv.id !== \"altair-viz-9f7d3216da0f4c4680aebfa8657abd20\") {\n",
       "      outputDiv = document.getElementById(\"altair-viz-9f7d3216da0f4c4680aebfa8657abd20\");\n",
       "    }\n",
       "    const paths = {\n",
       "      \"vega\": \"https://cdn.jsdelivr.net/npm//vega@5?noext\",\n",
       "      \"vega-lib\": \"https://cdn.jsdelivr.net/npm//vega-lib?noext\",\n",
       "      \"vega-lite\": \"https://cdn.jsdelivr.net/npm//vega-lite@5.2.0?noext\",\n",
       "      \"vega-embed\": \"https://cdn.jsdelivr.net/npm//vega-embed@6?noext\",\n",
       "    };\n",
       "\n",
       "    function maybeLoadScript(lib, version) {\n",
       "      var key = `${lib.replace(\"-\", \"\")}_version`;\n",
       "      return (VEGA_DEBUG[key] == version) ?\n",
       "        Promise.resolve(paths[lib]) :\n",
       "        new Promise(function(resolve, reject) {\n",
       "          var s = document.createElement('script');\n",
       "          document.getElementsByTagName(\"head\")[0].appendChild(s);\n",
       "          s.async = true;\n",
       "          s.onload = () => {\n",
       "            VEGA_DEBUG[key] = version;\n",
       "            return resolve(paths[lib]);\n",
       "          };\n",
       "          s.onerror = () => reject(`Error loading script: ${paths[lib]}`);\n",
       "          s.src = paths[lib];\n",
       "        });\n",
       "    }\n",
       "\n",
       "    function showError(err) {\n",
       "      outputDiv.innerHTML = `<div class=\"error\" style=\"color:red;\">${err}</div>`;\n",
       "      throw err;\n",
       "    }\n",
       "\n",
       "    function displayChart(vegaEmbed) {\n",
       "      vegaEmbed(outputDiv, spec, embedOpt)\n",
       "        .catch(err => showError(`Javascript Error: ${err.message}<br>This usually means there's a typo in your chart specification. See the javascript console for the full traceback.`));\n",
       "    }\n",
       "\n",
       "    if(typeof define === \"function\" && define.amd) {\n",
       "      requirejs.config({paths});\n",
       "      require([\"vega-embed\"], displayChart, err => showError(`Error loading script: ${err.message}`));\n",
       "    } else {\n",
       "      maybeLoadScript(\"vega\", \"5\")\n",
       "        .then(() => maybeLoadScript(\"vega-lite\", \"5.2.0\"))\n",
       "        .then(() => maybeLoadScript(\"vega-embed\", \"6\"))\n",
       "        .catch(showError)\n",
       "        .then(() => displayChart(vegaEmbed));\n",
       "    }\n",
       "  })({\"config\": {\"view\": {\"continuousWidth\": 400, \"continuousHeight\": 300}}, \"data\": {\"name\": \"data-78793625ad331c69629763c17f6779c5\"}, \"mark\": {\"type\": \"tick\", \"color\": \"black\"}, \"encoding\": {\"color\": {\"condition\": {\"value\": \"white\", \"test\": \"datum.is_present\"}, \"value\": \"black\"}, \"x\": {\"field\": \"time\", \"type\": \"temporal\"}}, \"params\": [{\"name\": \"param_1\", \"select\": {\"type\": \"interval\"}, \"bind\": \"scales\"}], \"$schema\": \"https://vega.github.io/schema/vega-lite/v5.2.0.json\", \"datasets\": {\"data-78793625ad331c69629763c17f6779c5\": [{\"time\": \"2000-06-15T16:30:00\", \"variable\": \"TA\", \"value\": 14.649999618530273, \"is_present\": false}, {\"time\": \"2000-06-15T17:00:00\", \"variable\": \"TA\", \"value\": 14.220000267028809, \"is_present\": false}, {\"time\": \"2000-06-15T17:30:00\", \"variable\": \"TA\", \"value\": 14.109999656677246, \"is_present\": false}, {\"time\": \"2000-06-15T18:00:00\", \"variable\": \"TA\", \"value\": 14.229999542236328, \"is_present\": false}, {\"time\": \"2000-06-15T18:30:00\", \"variable\": \"TA\", \"value\": 14.399999618530273, \"is_present\": false}, {\"time\": \"2000-06-15T19:00:00\", \"variable\": \"TA\", \"value\": 14.09000015258789, \"is_present\": true}, {\"time\": \"2000-06-15T19:30:00\", \"variable\": \"TA\", \"value\": 13.710000038146973, \"is_present\": true}, {\"time\": \"2000-06-15T20:00:00\", \"variable\": \"TA\", \"value\": 13.079999923706055, \"is_present\": true}, {\"time\": \"2000-06-15T20:30:00\", \"variable\": \"TA\", \"value\": 12.40999984741211, \"is_present\": true}, {\"time\": \"2000-06-15T21:00:00\", \"variable\": \"TA\", \"value\": 12.270000457763672, \"is_present\": true}, {\"time\": \"2000-06-15T16:30:00\", \"variable\": \"SW_IN\", \"value\": 468.19000244140625, \"is_present\": true}, {\"time\": \"2000-06-15T17:00:00\", \"variable\": \"SW_IN\", \"value\": 224.8000030517578, \"is_present\": true}, {\"time\": \"2000-06-15T17:30:00\", \"variable\": \"SW_IN\", \"value\": 195.27999877929688, \"is_present\": true}, {\"time\": \"2000-06-15T18:00:00\", \"variable\": \"SW_IN\", \"value\": 244.1699981689453, \"is_present\": true}, {\"time\": \"2000-06-15T18:30:00\", \"variable\": \"SW_IN\", \"value\": 253.9199981689453, \"is_present\": true}, {\"time\": \"2000-06-15T19:00:00\", \"variable\": \"SW_IN\", \"value\": 177.30999755859375, \"is_present\": true}, {\"time\": \"2000-06-15T19:30:00\", \"variable\": \"SW_IN\", \"value\": 97.06999969482422, \"is_present\": true}, {\"time\": \"2000-06-15T20:00:00\", \"variable\": \"SW_IN\", \"value\": 39.709999084472656, \"is_present\": true}, {\"time\": \"2000-06-15T20:30:00\", \"variable\": \"SW_IN\", \"value\": 10.649999618530273, \"is_present\": true}, {\"time\": \"2000-06-15T21:00:00\", \"variable\": \"SW_IN\", \"value\": 0.3199999928474426, \"is_present\": true}, {\"time\": \"2000-06-15T16:30:00\", \"variable\": \"VPD\", \"value\": 6.453999996185303, \"is_present\": false}, {\"time\": \"2000-06-15T17:00:00\", \"variable\": \"VPD\", \"value\": 5.798999786376953, \"is_present\": false}, {\"time\": \"2000-06-15T17:30:00\", \"variable\": \"VPD\", \"value\": 6.577000141143799, \"is_present\": false}, {\"time\": \"2000-06-15T18:00:00\", \"variable\": \"VPD\", \"value\": 6.931000232696533, \"is_present\": false}, {\"time\": \"2000-06-15T18:30:00\", \"variable\": \"VPD\", \"value\": 7.285999774932861, \"is_present\": false}, {\"time\": \"2000-06-15T19:00:00\", \"variable\": \"VPD\", \"value\": 7.250999927520752, \"is_present\": true}, {\"time\": \"2000-06-15T19:30:00\", \"variable\": \"VPD\", \"value\": 6.683000087738037, \"is_present\": true}, {\"time\": \"2000-06-15T20:00:00\", \"variable\": \"VPD\", \"value\": 5.85099983215332, \"is_present\": true}, {\"time\": \"2000-06-15T20:30:00\", \"variable\": \"VPD\", \"value\": 5.254000186920166, \"is_present\": true}, {\"time\": \"2000-06-15T21:00:00\", \"variable\": \"VPD\", \"value\": 5.164000034332275, \"is_present\": true}]}}, {\"mode\": \"vega-lite\"});\n",
       "</script>"
      ],
      "text/plain": [
       "alt.Chart(...)"
      ]
     },
     "execution_count": null,
     "metadata": {},
     "output_type": "execute_result"
    }
   ],
   "source": [
    "plot_rug(m_df.tidy())"
   ]
  },
  {
   "cell_type": "code",
   "execution_count": null,
   "id": "bdefec0f-d6f6-4567-a187-a005d585fde6",
   "metadata": {},
   "outputs": [],
   "source": [
    "df = m_df.tidy()"
   ]
  },
  {
   "cell_type": "code",
   "execution_count": null,
   "id": "d6b0071d-6545-475d-8230-f0855dfe541f",
   "metadata": {},
   "outputs": [],
   "source": [
    "df = df[df.variable==\"TA\"].copy()"
   ]
  },
  {
   "cell_type": "code",
   "execution_count": null,
   "id": "6ed27295-faac-42e7-9f06-449e7b247531",
   "metadata": {},
   "outputs": [],
   "source": [
    "df['row_number'] = df.reset_index().index"
   ]
  },
  {
   "cell_type": "code",
   "execution_count": null,
   "id": "d9b58d08-3aab-4c42-8466-985aeb5abc54",
   "metadata": {},
   "outputs": [
    {
     "data": {
      "text/html": [
       "<div>\n",
       "<style scoped>\n",
       "    .dataframe tbody tr th:only-of-type {\n",
       "        vertical-align: middle;\n",
       "    }\n",
       "\n",
       "    .dataframe tbody tr th {\n",
       "        vertical-align: top;\n",
       "    }\n",
       "\n",
       "    .dataframe thead th {\n",
       "        text-align: right;\n",
       "    }\n",
       "</style>\n",
       "<table border=\"1\" class=\"dataframe\">\n",
       "  <thead>\n",
       "    <tr style=\"text-align: right;\">\n",
       "      <th></th>\n",
       "      <th>time</th>\n",
       "      <th>variable</th>\n",
       "      <th>value</th>\n",
       "      <th>is_present</th>\n",
       "      <th>row_number</th>\n",
       "    </tr>\n",
       "  </thead>\n",
       "  <tbody>\n",
       "    <tr>\n",
       "      <th>0</th>\n",
       "      <td>2000-06-15 16:30:00</td>\n",
       "      <td>TA</td>\n",
       "      <td>14.65</td>\n",
       "      <td>False</td>\n",
       "      <td>0</td>\n",
       "    </tr>\n",
       "    <tr>\n",
       "      <th>1</th>\n",
       "      <td>2000-06-15 17:00:00</td>\n",
       "      <td>TA</td>\n",
       "      <td>14.22</td>\n",
       "      <td>False</td>\n",
       "      <td>1</td>\n",
       "    </tr>\n",
       "    <tr>\n",
       "      <th>2</th>\n",
       "      <td>2000-06-15 17:30:00</td>\n",
       "      <td>TA</td>\n",
       "      <td>14.11</td>\n",
       "      <td>False</td>\n",
       "      <td>2</td>\n",
       "    </tr>\n",
       "    <tr>\n",
       "      <th>3</th>\n",
       "      <td>2000-06-15 18:00:00</td>\n",
       "      <td>TA</td>\n",
       "      <td>14.23</td>\n",
       "      <td>False</td>\n",
       "      <td>3</td>\n",
       "    </tr>\n",
       "    <tr>\n",
       "      <th>4</th>\n",
       "      <td>2000-06-15 18:30:00</td>\n",
       "      <td>TA</td>\n",
       "      <td>14.40</td>\n",
       "      <td>False</td>\n",
       "      <td>4</td>\n",
       "    </tr>\n",
       "    <tr>\n",
       "      <th>5</th>\n",
       "      <td>2000-06-15 19:00:00</td>\n",
       "      <td>TA</td>\n",
       "      <td>14.09</td>\n",
       "      <td>True</td>\n",
       "      <td>5</td>\n",
       "    </tr>\n",
       "    <tr>\n",
       "      <th>6</th>\n",
       "      <td>2000-06-15 19:30:00</td>\n",
       "      <td>TA</td>\n",
       "      <td>13.71</td>\n",
       "      <td>True</td>\n",
       "      <td>6</td>\n",
       "    </tr>\n",
       "    <tr>\n",
       "      <th>7</th>\n",
       "      <td>2000-06-15 20:00:00</td>\n",
       "      <td>TA</td>\n",
       "      <td>13.08</td>\n",
       "      <td>True</td>\n",
       "      <td>7</td>\n",
       "    </tr>\n",
       "    <tr>\n",
       "      <th>8</th>\n",
       "      <td>2000-06-15 20:30:00</td>\n",
       "      <td>TA</td>\n",
       "      <td>12.41</td>\n",
       "      <td>True</td>\n",
       "      <td>8</td>\n",
       "    </tr>\n",
       "    <tr>\n",
       "      <th>9</th>\n",
       "      <td>2000-06-15 21:00:00</td>\n",
       "      <td>TA</td>\n",
       "      <td>12.27</td>\n",
       "      <td>True</td>\n",
       "      <td>9</td>\n",
       "    </tr>\n",
       "  </tbody>\n",
       "</table>\n",
       "</div>"
      ],
      "text/plain": [
       "                 time variable  value  is_present  row_number\n",
       "0 2000-06-15 16:30:00       TA  14.65       False           0\n",
       "1 2000-06-15 17:00:00       TA  14.22       False           1\n",
       "2 2000-06-15 17:30:00       TA  14.11       False           2\n",
       "3 2000-06-15 18:00:00       TA  14.23       False           3\n",
       "4 2000-06-15 18:30:00       TA  14.40       False           4\n",
       "5 2000-06-15 19:00:00       TA  14.09        True           5\n",
       "6 2000-06-15 19:30:00       TA  13.71        True           6\n",
       "7 2000-06-15 20:00:00       TA  13.08        True           7\n",
       "8 2000-06-15 20:30:00       TA  12.41        True           8\n",
       "9 2000-06-15 21:00:00       TA  12.27        True           9"
      ]
     },
     "execution_count": null,
     "metadata": {},
     "output_type": "execute_result"
    }
   ],
   "source": [
    "df"
   ]
  },
  {
   "cell_type": "code",
   "execution_count": null,
   "id": "1e634f1e-0d8e-4e9f-a843-a3c9ded54bae",
   "metadata": {},
   "outputs": [
    {
     "data": {
      "text/html": [
       "<div>\n",
       "<style scoped>\n",
       "    .dataframe tbody tr th:only-of-type {\n",
       "        vertical-align: middle;\n",
       "    }\n",
       "\n",
       "    .dataframe tbody tr th {\n",
       "        vertical-align: top;\n",
       "    }\n",
       "\n",
       "    .dataframe thead th {\n",
       "        text-align: right;\n",
       "    }\n",
       "</style>\n",
       "<table border=\"1\" class=\"dataframe\">\n",
       "  <thead>\n",
       "    <tr style=\"text-align: right;\">\n",
       "      <th></th>\n",
       "      <th>time</th>\n",
       "      <th>variable</th>\n",
       "      <th>value</th>\n",
       "      <th>is_present</th>\n",
       "      <th>row_number</th>\n",
       "    </tr>\n",
       "  </thead>\n",
       "  <tbody>\n",
       "    <tr>\n",
       "      <th>0</th>\n",
       "      <td>2000-06-15 16:30:00</td>\n",
       "      <td>TA</td>\n",
       "      <td>14.65</td>\n",
       "      <td>False</td>\n",
       "      <td>0</td>\n",
       "    </tr>\n",
       "    <tr>\n",
       "      <th>1</th>\n",
       "      <td>2000-06-15 17:00:00</td>\n",
       "      <td>TA</td>\n",
       "      <td>14.22</td>\n",
       "      <td>False</td>\n",
       "      <td>1</td>\n",
       "    </tr>\n",
       "    <tr>\n",
       "      <th>2</th>\n",
       "      <td>2000-06-15 17:30:00</td>\n",
       "      <td>TA</td>\n",
       "      <td>14.11</td>\n",
       "      <td>False</td>\n",
       "      <td>2</td>\n",
       "    </tr>\n",
       "    <tr>\n",
       "      <th>3</th>\n",
       "      <td>2000-06-15 18:00:00</td>\n",
       "      <td>TA</td>\n",
       "      <td>14.23</td>\n",
       "      <td>False</td>\n",
       "      <td>3</td>\n",
       "    </tr>\n",
       "    <tr>\n",
       "      <th>4</th>\n",
       "      <td>2000-06-15 18:30:00</td>\n",
       "      <td>TA</td>\n",
       "      <td>14.40</td>\n",
       "      <td>False</td>\n",
       "      <td>4</td>\n",
       "    </tr>\n",
       "  </tbody>\n",
       "</table>\n",
       "</div>"
      ],
      "text/plain": [
       "                 time variable  value  is_present  row_number\n",
       "0 2000-06-15 16:30:00       TA  14.65       False           0\n",
       "1 2000-06-15 17:00:00       TA  14.22       False           1\n",
       "2 2000-06-15 17:30:00       TA  14.11       False           2\n",
       "3 2000-06-15 18:00:00       TA  14.23       False           3\n",
       "4 2000-06-15 18:30:00       TA  14.40       False           4"
      ]
     },
     "execution_count": null,
     "metadata": {},
     "output_type": "execute_result"
    }
   ],
   "source": [
    "df[~df.is_present]"
   ]
  },
  {
   "cell_type": "markdown",
   "id": "7c114905-568d-46b1-95f5-1e48cf86c084",
   "metadata": {},
   "source": [
    "idea is to replace the rug with a shaded area"
   ]
  },
  {
   "cell_type": "code",
   "execution_count": null,
   "id": "c8bf87ef-4401-4e69-97a4-67781c752b40",
   "metadata": {},
   "outputs": [],
   "source": [
    "def plot_missing_area(df, sel = def_selection(), props={}):\n",
    "    pass"
   ]
  },
  {
   "cell_type": "markdown",
   "id": "9ab60349-4e58-4fd7-bc85-ad85146af0a5",
   "metadata": {},
   "source": [
    "##### Points"
   ]
  },
  {
   "cell_type": "code",
   "execution_count": null,
   "id": "52f438da-c85f-40e7-bdac-c08bce559cc3",
   "metadata": {},
   "outputs": [],
   "source": [
    "#| export\n",
    "def plot_points(df, y = \"value\", y_label = \"\", sel = def_selection(), props = {}):\n",
    "    return alt.Chart(df).mark_point(\n",
    "            color='black',\n",
    "            strokeWidth = 1,\n",
    "            fillOpacity = 1\n",
    "        ).encode(\n",
    "            x = alt.X(\"time\"),\n",
    "            y = alt.Y(y, title = y_label, scale=alt.Scale(zero=False)),\n",
    "            fill= alt.Fill(\"is_present\", scale = alt.Scale(range=[\"black\", \"#ffffff00\"]),\n",
    "                           legend = alt.Legend(title =[\"Observed data\"])),\n",
    "            shape = \"is_present\",\n",
    "        )"
   ]
  },
  {
   "cell_type": "code",
   "execution_count": null,
   "id": "530d054b-120d-4883-9692-ff2518adabbf",
   "metadata": {},
   "outputs": [
    {
     "data": {
      "text/html": [
       "\n",
       "<div id=\"altair-viz-68011eef76054789aed0ff5f206f557f\"></div>\n",
       "<script type=\"text/javascript\">\n",
       "  var VEGA_DEBUG = (typeof VEGA_DEBUG == \"undefined\") ? {} : VEGA_DEBUG;\n",
       "  (function(spec, embedOpt){\n",
       "    let outputDiv = document.currentScript.previousElementSibling;\n",
       "    if (outputDiv.id !== \"altair-viz-68011eef76054789aed0ff5f206f557f\") {\n",
       "      outputDiv = document.getElementById(\"altair-viz-68011eef76054789aed0ff5f206f557f\");\n",
       "    }\n",
       "    const paths = {\n",
       "      \"vega\": \"https://cdn.jsdelivr.net/npm//vega@5?noext\",\n",
       "      \"vega-lib\": \"https://cdn.jsdelivr.net/npm//vega-lib?noext\",\n",
       "      \"vega-lite\": \"https://cdn.jsdelivr.net/npm//vega-lite@5.2.0?noext\",\n",
       "      \"vega-embed\": \"https://cdn.jsdelivr.net/npm//vega-embed@6?noext\",\n",
       "    };\n",
       "\n",
       "    function maybeLoadScript(lib, version) {\n",
       "      var key = `${lib.replace(\"-\", \"\")}_version`;\n",
       "      return (VEGA_DEBUG[key] == version) ?\n",
       "        Promise.resolve(paths[lib]) :\n",
       "        new Promise(function(resolve, reject) {\n",
       "          var s = document.createElement('script');\n",
       "          document.getElementsByTagName(\"head\")[0].appendChild(s);\n",
       "          s.async = true;\n",
       "          s.onload = () => {\n",
       "            VEGA_DEBUG[key] = version;\n",
       "            return resolve(paths[lib]);\n",
       "          };\n",
       "          s.onerror = () => reject(`Error loading script: ${paths[lib]}`);\n",
       "          s.src = paths[lib];\n",
       "        });\n",
       "    }\n",
       "\n",
       "    function showError(err) {\n",
       "      outputDiv.innerHTML = `<div class=\"error\" style=\"color:red;\">${err}</div>`;\n",
       "      throw err;\n",
       "    }\n",
       "\n",
       "    function displayChart(vegaEmbed) {\n",
       "      vegaEmbed(outputDiv, spec, embedOpt)\n",
       "        .catch(err => showError(`Javascript Error: ${err.message}<br>This usually means there's a typo in your chart specification. See the javascript console for the full traceback.`));\n",
       "    }\n",
       "\n",
       "    if(typeof define === \"function\" && define.amd) {\n",
       "      requirejs.config({paths});\n",
       "      require([\"vega-embed\"], displayChart, err => showError(`Error loading script: ${err.message}`));\n",
       "    } else {\n",
       "      maybeLoadScript(\"vega\", \"5\")\n",
       "        .then(() => maybeLoadScript(\"vega-lite\", \"5.2.0\"))\n",
       "        .then(() => maybeLoadScript(\"vega-embed\", \"6\"))\n",
       "        .catch(showError)\n",
       "        .then(() => displayChart(vegaEmbed));\n",
       "    }\n",
       "  })({\"config\": {\"view\": {\"continuousWidth\": 400, \"continuousHeight\": 300}}, \"data\": {\"name\": \"data-78793625ad331c69629763c17f6779c5\"}, \"mark\": {\"type\": \"point\", \"color\": \"black\", \"fillOpacity\": 1, \"strokeWidth\": 1}, \"encoding\": {\"fill\": {\"field\": \"is_present\", \"legend\": {\"title\": [\"Observed data\"]}, \"scale\": {\"range\": [\"black\", \"#ffffff00\"]}, \"type\": \"nominal\"}, \"shape\": {\"field\": \"is_present\", \"type\": \"nominal\"}, \"x\": {\"field\": \"time\", \"type\": \"temporal\"}, \"y\": {\"field\": \"value\", \"scale\": {\"zero\": false}, \"title\": \"\", \"type\": \"quantitative\"}}, \"$schema\": \"https://vega.github.io/schema/vega-lite/v5.2.0.json\", \"datasets\": {\"data-78793625ad331c69629763c17f6779c5\": [{\"time\": \"2000-06-15T16:30:00\", \"variable\": \"TA\", \"value\": 14.649999618530273, \"is_present\": false}, {\"time\": \"2000-06-15T17:00:00\", \"variable\": \"TA\", \"value\": 14.220000267028809, \"is_present\": false}, {\"time\": \"2000-06-15T17:30:00\", \"variable\": \"TA\", \"value\": 14.109999656677246, \"is_present\": false}, {\"time\": \"2000-06-15T18:00:00\", \"variable\": \"TA\", \"value\": 14.229999542236328, \"is_present\": false}, {\"time\": \"2000-06-15T18:30:00\", \"variable\": \"TA\", \"value\": 14.399999618530273, \"is_present\": false}, {\"time\": \"2000-06-15T19:00:00\", \"variable\": \"TA\", \"value\": 14.09000015258789, \"is_present\": true}, {\"time\": \"2000-06-15T19:30:00\", \"variable\": \"TA\", \"value\": 13.710000038146973, \"is_present\": true}, {\"time\": \"2000-06-15T20:00:00\", \"variable\": \"TA\", \"value\": 13.079999923706055, \"is_present\": true}, {\"time\": \"2000-06-15T20:30:00\", \"variable\": \"TA\", \"value\": 12.40999984741211, \"is_present\": true}, {\"time\": \"2000-06-15T21:00:00\", \"variable\": \"TA\", \"value\": 12.270000457763672, \"is_present\": true}, {\"time\": \"2000-06-15T16:30:00\", \"variable\": \"SW_IN\", \"value\": 468.19000244140625, \"is_present\": true}, {\"time\": \"2000-06-15T17:00:00\", \"variable\": \"SW_IN\", \"value\": 224.8000030517578, \"is_present\": true}, {\"time\": \"2000-06-15T17:30:00\", \"variable\": \"SW_IN\", \"value\": 195.27999877929688, \"is_present\": true}, {\"time\": \"2000-06-15T18:00:00\", \"variable\": \"SW_IN\", \"value\": 244.1699981689453, \"is_present\": true}, {\"time\": \"2000-06-15T18:30:00\", \"variable\": \"SW_IN\", \"value\": 253.9199981689453, \"is_present\": true}, {\"time\": \"2000-06-15T19:00:00\", \"variable\": \"SW_IN\", \"value\": 177.30999755859375, \"is_present\": true}, {\"time\": \"2000-06-15T19:30:00\", \"variable\": \"SW_IN\", \"value\": 97.06999969482422, \"is_present\": true}, {\"time\": \"2000-06-15T20:00:00\", \"variable\": \"SW_IN\", \"value\": 39.709999084472656, \"is_present\": true}, {\"time\": \"2000-06-15T20:30:00\", \"variable\": \"SW_IN\", \"value\": 10.649999618530273, \"is_present\": true}, {\"time\": \"2000-06-15T21:00:00\", \"variable\": \"SW_IN\", \"value\": 0.3199999928474426, \"is_present\": true}, {\"time\": \"2000-06-15T16:30:00\", \"variable\": \"VPD\", \"value\": 6.453999996185303, \"is_present\": false}, {\"time\": \"2000-06-15T17:00:00\", \"variable\": \"VPD\", \"value\": 5.798999786376953, \"is_present\": false}, {\"time\": \"2000-06-15T17:30:00\", \"variable\": \"VPD\", \"value\": 6.577000141143799, \"is_present\": false}, {\"time\": \"2000-06-15T18:00:00\", \"variable\": \"VPD\", \"value\": 6.931000232696533, \"is_present\": false}, {\"time\": \"2000-06-15T18:30:00\", \"variable\": \"VPD\", \"value\": 7.285999774932861, \"is_present\": false}, {\"time\": \"2000-06-15T19:00:00\", \"variable\": \"VPD\", \"value\": 7.250999927520752, \"is_present\": true}, {\"time\": \"2000-06-15T19:30:00\", \"variable\": \"VPD\", \"value\": 6.683000087738037, \"is_present\": true}, {\"time\": \"2000-06-15T20:00:00\", \"variable\": \"VPD\", \"value\": 5.85099983215332, \"is_present\": true}, {\"time\": \"2000-06-15T20:30:00\", \"variable\": \"VPD\", \"value\": 5.254000186920166, \"is_present\": true}, {\"time\": \"2000-06-15T21:00:00\", \"variable\": \"VPD\", \"value\": 5.164000034332275, \"is_present\": true}]}}, {\"mode\": \"vega-lite\"});\n",
       "</script>"
      ],
      "text/plain": [
       "alt.Chart(...)"
      ]
     },
     "execution_count": null,
     "metadata": {},
     "output_type": "execute_result"
    }
   ],
   "source": [
    "plot_points(m_df.tidy())"
   ]
  },
  {
   "cell_type": "markdown",
   "id": "ffc03c27-03d9-4a0f-9438-a6aaab415f8b",
   "metadata": {},
   "source": [
    "##### Line"
   ]
  },
  {
   "cell_type": "code",
   "execution_count": null,
   "id": "e7f9912e-eee1-40a6-9eb3-4b010a5278c5",
   "metadata": {},
   "outputs": [],
   "source": [
    "#| exporti\n",
    "def plot_line(df, only_present=True, y=\"value\", y_label = \"\", sel = def_selection(), props = {}):\n",
    "    # df = df[df.is_present] if only_present else df\n",
    "    # TODO remove onle_present\n",
    "    return alt.Chart(df).mark_line().encode(\n",
    "        x = \"time\",    \n",
    "        y = alt.Y(y, title = y_label, scale=alt.Scale(zero=False)),\n",
    "        color='variable'\n",
    "    ).add_params(\n",
    "        sel\n",
    "    ).properties(\n",
    "        **props\n",
    "    )#.transform_filter(\n",
    "    #     datum.is_present\n",
    "    # )\n",
    "\n",
    "    "
   ]
  },
  {
   "cell_type": "code",
   "execution_count": null,
   "id": "c4723d86-f673-4cfa-ae8a-58fcc542930a",
   "metadata": {},
   "outputs": [
    {
     "data": {
      "text/html": [
       "\n",
       "<div id=\"altair-viz-9fb6f96dc3d44eaca1c44eb4781b8931\"></div>\n",
       "<script type=\"text/javascript\">\n",
       "  var VEGA_DEBUG = (typeof VEGA_DEBUG == \"undefined\") ? {} : VEGA_DEBUG;\n",
       "  (function(spec, embedOpt){\n",
       "    let outputDiv = document.currentScript.previousElementSibling;\n",
       "    if (outputDiv.id !== \"altair-viz-9fb6f96dc3d44eaca1c44eb4781b8931\") {\n",
       "      outputDiv = document.getElementById(\"altair-viz-9fb6f96dc3d44eaca1c44eb4781b8931\");\n",
       "    }\n",
       "    const paths = {\n",
       "      \"vega\": \"https://cdn.jsdelivr.net/npm//vega@5?noext\",\n",
       "      \"vega-lib\": \"https://cdn.jsdelivr.net/npm//vega-lib?noext\",\n",
       "      \"vega-lite\": \"https://cdn.jsdelivr.net/npm//vega-lite@5.2.0?noext\",\n",
       "      \"vega-embed\": \"https://cdn.jsdelivr.net/npm//vega-embed@6?noext\",\n",
       "    };\n",
       "\n",
       "    function maybeLoadScript(lib, version) {\n",
       "      var key = `${lib.replace(\"-\", \"\")}_version`;\n",
       "      return (VEGA_DEBUG[key] == version) ?\n",
       "        Promise.resolve(paths[lib]) :\n",
       "        new Promise(function(resolve, reject) {\n",
       "          var s = document.createElement('script');\n",
       "          document.getElementsByTagName(\"head\")[0].appendChild(s);\n",
       "          s.async = true;\n",
       "          s.onload = () => {\n",
       "            VEGA_DEBUG[key] = version;\n",
       "            return resolve(paths[lib]);\n",
       "          };\n",
       "          s.onerror = () => reject(`Error loading script: ${paths[lib]}`);\n",
       "          s.src = paths[lib];\n",
       "        });\n",
       "    }\n",
       "\n",
       "    function showError(err) {\n",
       "      outputDiv.innerHTML = `<div class=\"error\" style=\"color:red;\">${err}</div>`;\n",
       "      throw err;\n",
       "    }\n",
       "\n",
       "    function displayChart(vegaEmbed) {\n",
       "      vegaEmbed(outputDiv, spec, embedOpt)\n",
       "        .catch(err => showError(`Javascript Error: ${err.message}<br>This usually means there's a typo in your chart specification. See the javascript console for the full traceback.`));\n",
       "    }\n",
       "\n",
       "    if(typeof define === \"function\" && define.amd) {\n",
       "      requirejs.config({paths});\n",
       "      require([\"vega-embed\"], displayChart, err => showError(`Error loading script: ${err.message}`));\n",
       "    } else {\n",
       "      maybeLoadScript(\"vega\", \"5\")\n",
       "        .then(() => maybeLoadScript(\"vega-lite\", \"5.2.0\"))\n",
       "        .then(() => maybeLoadScript(\"vega-embed\", \"6\"))\n",
       "        .catch(showError)\n",
       "        .then(() => displayChart(vegaEmbed));\n",
       "    }\n",
       "  })({\"config\": {\"view\": {\"continuousWidth\": 400, \"continuousHeight\": 300}}, \"data\": {\"name\": \"data-78793625ad331c69629763c17f6779c5\"}, \"mark\": \"line\", \"encoding\": {\"color\": {\"field\": \"variable\", \"type\": \"nominal\"}, \"x\": {\"field\": \"time\", \"type\": \"temporal\"}, \"y\": {\"field\": \"value\", \"scale\": {\"zero\": false}, \"title\": \"\", \"type\": \"quantitative\"}}, \"params\": [{\"name\": \"param_56\", \"select\": {\"type\": \"interval\"}, \"bind\": \"scales\"}], \"$schema\": \"https://vega.github.io/schema/vega-lite/v5.2.0.json\", \"datasets\": {\"data-78793625ad331c69629763c17f6779c5\": [{\"time\": \"2000-06-15T16:30:00\", \"variable\": \"TA\", \"value\": 14.649999618530273, \"is_present\": false}, {\"time\": \"2000-06-15T17:00:00\", \"variable\": \"TA\", \"value\": 14.220000267028809, \"is_present\": false}, {\"time\": \"2000-06-15T17:30:00\", \"variable\": \"TA\", \"value\": 14.109999656677246, \"is_present\": false}, {\"time\": \"2000-06-15T18:00:00\", \"variable\": \"TA\", \"value\": 14.229999542236328, \"is_present\": false}, {\"time\": \"2000-06-15T18:30:00\", \"variable\": \"TA\", \"value\": 14.399999618530273, \"is_present\": false}, {\"time\": \"2000-06-15T19:00:00\", \"variable\": \"TA\", \"value\": 14.09000015258789, \"is_present\": true}, {\"time\": \"2000-06-15T19:30:00\", \"variable\": \"TA\", \"value\": 13.710000038146973, \"is_present\": true}, {\"time\": \"2000-06-15T20:00:00\", \"variable\": \"TA\", \"value\": 13.079999923706055, \"is_present\": true}, {\"time\": \"2000-06-15T20:30:00\", \"variable\": \"TA\", \"value\": 12.40999984741211, \"is_present\": true}, {\"time\": \"2000-06-15T21:00:00\", \"variable\": \"TA\", \"value\": 12.270000457763672, \"is_present\": true}, {\"time\": \"2000-06-15T16:30:00\", \"variable\": \"SW_IN\", \"value\": 468.19000244140625, \"is_present\": true}, {\"time\": \"2000-06-15T17:00:00\", \"variable\": \"SW_IN\", \"value\": 224.8000030517578, \"is_present\": true}, {\"time\": \"2000-06-15T17:30:00\", \"variable\": \"SW_IN\", \"value\": 195.27999877929688, \"is_present\": true}, {\"time\": \"2000-06-15T18:00:00\", \"variable\": \"SW_IN\", \"value\": 244.1699981689453, \"is_present\": true}, {\"time\": \"2000-06-15T18:30:00\", \"variable\": \"SW_IN\", \"value\": 253.9199981689453, \"is_present\": true}, {\"time\": \"2000-06-15T19:00:00\", \"variable\": \"SW_IN\", \"value\": 177.30999755859375, \"is_present\": true}, {\"time\": \"2000-06-15T19:30:00\", \"variable\": \"SW_IN\", \"value\": 97.06999969482422, \"is_present\": true}, {\"time\": \"2000-06-15T20:00:00\", \"variable\": \"SW_IN\", \"value\": 39.709999084472656, \"is_present\": true}, {\"time\": \"2000-06-15T20:30:00\", \"variable\": \"SW_IN\", \"value\": 10.649999618530273, \"is_present\": true}, {\"time\": \"2000-06-15T21:00:00\", \"variable\": \"SW_IN\", \"value\": 0.3199999928474426, \"is_present\": true}, {\"time\": \"2000-06-15T16:30:00\", \"variable\": \"VPD\", \"value\": 6.453999996185303, \"is_present\": false}, {\"time\": \"2000-06-15T17:00:00\", \"variable\": \"VPD\", \"value\": 5.798999786376953, \"is_present\": false}, {\"time\": \"2000-06-15T17:30:00\", \"variable\": \"VPD\", \"value\": 6.577000141143799, \"is_present\": false}, {\"time\": \"2000-06-15T18:00:00\", \"variable\": \"VPD\", \"value\": 6.931000232696533, \"is_present\": false}, {\"time\": \"2000-06-15T18:30:00\", \"variable\": \"VPD\", \"value\": 7.285999774932861, \"is_present\": false}, {\"time\": \"2000-06-15T19:00:00\", \"variable\": \"VPD\", \"value\": 7.250999927520752, \"is_present\": true}, {\"time\": \"2000-06-15T19:30:00\", \"variable\": \"VPD\", \"value\": 6.683000087738037, \"is_present\": true}, {\"time\": \"2000-06-15T20:00:00\", \"variable\": \"VPD\", \"value\": 5.85099983215332, \"is_present\": true}, {\"time\": \"2000-06-15T20:30:00\", \"variable\": \"VPD\", \"value\": 5.254000186920166, \"is_present\": true}, {\"time\": \"2000-06-15T21:00:00\", \"variable\": \"VPD\", \"value\": 5.164000034332275, \"is_present\": true}]}}, {\"mode\": \"vega-lite\"});\n",
       "</script>"
      ],
      "text/plain": [
       "alt.Chart(...)"
      ]
     },
     "execution_count": null,
     "metadata": {},
     "output_type": "execute_result"
    }
   ],
   "source": [
    "plot_line(m_df.tidy())"
   ]
  },
  {
   "cell_type": "markdown",
   "id": "78d98d63-401b-4a09-a0f1-665342fef64e",
   "metadata": {},
   "source": [
    "##### Errorband"
   ]
  },
  {
   "cell_type": "code",
   "execution_count": null,
   "id": "b31874c2-bc64-4c07-b67b-c67ecb0f3598",
   "metadata": {},
   "outputs": [],
   "source": [
    "#| exporti\n",
    "def plot_error(df, y = \"value\", y_label = \"\", sel = def_selection(), props = {}):\n",
    "    df.loc[:,'err_low'] = df[y] - 2 * df['std']\n",
    "    df.loc[:,'err_high'] = df[y] + 2 * df['std']\n",
    "    return alt.Chart(df).mark_errorband().encode(\n",
    "        x = \"time\",    \n",
    "        y = alt.Y(\"err_low:Q\", title = y_label, scale=alt.Scale(zero=False)),\n",
    "        y2 = \"err_high:Q\",\n",
    "        color=alt.Color(\"variable\",\n",
    "                        legend = alt.Legend(title=[\"Line: pred. mean\", \"area: +/- 2 std\"])\n",
    "                       )\n",
    "    ).add_params(\n",
    "        sel\n",
    "    ).properties(\n",
    "        **props\n",
    "    )\n",
    "    "
   ]
  },
  {
   "cell_type": "code",
   "execution_count": null,
   "id": "bbe34b69-dc5c-4b9e-bb24-dffcd7638686",
   "metadata": {},
   "outputs": [
    {
     "data": {
      "text/html": [
       "\n",
       "<div id=\"altair-viz-d21d0b3c742f4433b9e5008dd0152624\"></div>\n",
       "<script type=\"text/javascript\">\n",
       "  var VEGA_DEBUG = (typeof VEGA_DEBUG == \"undefined\") ? {} : VEGA_DEBUG;\n",
       "  (function(spec, embedOpt){\n",
       "    let outputDiv = document.currentScript.previousElementSibling;\n",
       "    if (outputDiv.id !== \"altair-viz-d21d0b3c742f4433b9e5008dd0152624\") {\n",
       "      outputDiv = document.getElementById(\"altair-viz-d21d0b3c742f4433b9e5008dd0152624\");\n",
       "    }\n",
       "    const paths = {\n",
       "      \"vega\": \"https://cdn.jsdelivr.net/npm//vega@5?noext\",\n",
       "      \"vega-lib\": \"https://cdn.jsdelivr.net/npm//vega-lib?noext\",\n",
       "      \"vega-lite\": \"https://cdn.jsdelivr.net/npm//vega-lite@5.2.0?noext\",\n",
       "      \"vega-embed\": \"https://cdn.jsdelivr.net/npm//vega-embed@6?noext\",\n",
       "    };\n",
       "\n",
       "    function maybeLoadScript(lib, version) {\n",
       "      var key = `${lib.replace(\"-\", \"\")}_version`;\n",
       "      return (VEGA_DEBUG[key] == version) ?\n",
       "        Promise.resolve(paths[lib]) :\n",
       "        new Promise(function(resolve, reject) {\n",
       "          var s = document.createElement('script');\n",
       "          document.getElementsByTagName(\"head\")[0].appendChild(s);\n",
       "          s.async = true;\n",
       "          s.onload = () => {\n",
       "            VEGA_DEBUG[key] = version;\n",
       "            return resolve(paths[lib]);\n",
       "          };\n",
       "          s.onerror = () => reject(`Error loading script: ${paths[lib]}`);\n",
       "          s.src = paths[lib];\n",
       "        });\n",
       "    }\n",
       "\n",
       "    function showError(err) {\n",
       "      outputDiv.innerHTML = `<div class=\"error\" style=\"color:red;\">${err}</div>`;\n",
       "      throw err;\n",
       "    }\n",
       "\n",
       "    function displayChart(vegaEmbed) {\n",
       "      vegaEmbed(outputDiv, spec, embedOpt)\n",
       "        .catch(err => showError(`Javascript Error: ${err.message}<br>This usually means there's a typo in your chart specification. See the javascript console for the full traceback.`));\n",
       "    }\n",
       "\n",
       "    if(typeof define === \"function\" && define.amd) {\n",
       "      requirejs.config({paths});\n",
       "      require([\"vega-embed\"], displayChart, err => showError(`Error loading script: ${err.message}`));\n",
       "    } else {\n",
       "      maybeLoadScript(\"vega\", \"5\")\n",
       "        .then(() => maybeLoadScript(\"vega-lite\", \"5.2.0\"))\n",
       "        .then(() => maybeLoadScript(\"vega-embed\", \"6\"))\n",
       "        .catch(showError)\n",
       "        .then(() => displayChart(vegaEmbed));\n",
       "    }\n",
       "  })({\"config\": {\"view\": {\"continuousWidth\": 400, \"continuousHeight\": 300}}, \"data\": {\"name\": \"data-3e9fa0af9a02d4afccf35c1ba0bd0673\"}, \"mark\": \"errorband\", \"encoding\": {\"color\": {\"field\": \"variable\", \"legend\": {\"title\": [\"Line: pred. mean\", \"area: +/- 2 std\"]}, \"type\": \"nominal\"}, \"x\": {\"field\": \"time\", \"type\": \"temporal\"}, \"y\": {\"field\": \"err_low\", \"scale\": {\"zero\": false}, \"title\": \"\", \"type\": \"quantitative\"}, \"y2\": {\"field\": \"err_high\"}}, \"params\": [{\"name\": \"param_57\", \"select\": {\"type\": \"interval\"}, \"bind\": \"scales\"}], \"$schema\": \"https://vega.github.io/schema/vega-lite/v5.2.0.json\", \"datasets\": {\"data-3e9fa0af9a02d4afccf35c1ba0bd0673\": [{\"time\": \"2000-06-15T16:30:00\", \"variable\": \"TA\", \"value\": 14.649999618530273, \"is_present\": false, \"std\": 5, \"err_low\": 4.649999618530273, \"err_high\": 24.649999618530273}, {\"time\": \"2000-06-15T17:00:00\", \"variable\": \"TA\", \"value\": 14.220000267028809, \"is_present\": false, \"std\": 5, \"err_low\": 4.220000267028809, \"err_high\": 24.22000026702881}, {\"time\": \"2000-06-15T17:30:00\", \"variable\": \"TA\", \"value\": 14.109999656677246, \"is_present\": false, \"std\": 5, \"err_low\": 4.109999656677246, \"err_high\": 24.109999656677246}, {\"time\": \"2000-06-15T18:00:00\", \"variable\": \"TA\", \"value\": 14.229999542236328, \"is_present\": false, \"std\": 5, \"err_low\": 4.229999542236328, \"err_high\": 24.229999542236328}, {\"time\": \"2000-06-15T18:30:00\", \"variable\": \"TA\", \"value\": 14.399999618530273, \"is_present\": false, \"std\": 5, \"err_low\": 4.399999618530273, \"err_high\": 24.399999618530273}, {\"time\": \"2000-06-15T19:00:00\", \"variable\": \"TA\", \"value\": 14.09000015258789, \"is_present\": true, \"std\": 5, \"err_low\": 4.090000152587891, \"err_high\": 24.09000015258789}, {\"time\": \"2000-06-15T19:30:00\", \"variable\": \"TA\", \"value\": 13.710000038146973, \"is_present\": true, \"std\": 5, \"err_low\": 3.7100000381469727, \"err_high\": 23.710000038146973}, {\"time\": \"2000-06-15T20:00:00\", \"variable\": \"TA\", \"value\": 13.079999923706055, \"is_present\": true, \"std\": 5, \"err_low\": 3.0799999237060547, \"err_high\": 23.079999923706055}, {\"time\": \"2000-06-15T20:30:00\", \"variable\": \"TA\", \"value\": 12.40999984741211, \"is_present\": true, \"std\": 5, \"err_low\": 2.4099998474121094, \"err_high\": 22.40999984741211}, {\"time\": \"2000-06-15T21:00:00\", \"variable\": \"TA\", \"value\": 12.270000457763672, \"is_present\": true, \"std\": 5, \"err_low\": 2.270000457763672, \"err_high\": 22.270000457763672}, {\"time\": \"2000-06-15T16:30:00\", \"variable\": \"SW_IN\", \"value\": 468.19000244140625, \"is_present\": true, \"std\": 5, \"err_low\": 458.19000244140625, \"err_high\": 478.19000244140625}, {\"time\": \"2000-06-15T17:00:00\", \"variable\": \"SW_IN\", \"value\": 224.8000030517578, \"is_present\": true, \"std\": 5, \"err_low\": 214.8000030517578, \"err_high\": 234.8000030517578}, {\"time\": \"2000-06-15T17:30:00\", \"variable\": \"SW_IN\", \"value\": 195.27999877929688, \"is_present\": true, \"std\": 5, \"err_low\": 185.27999877929688, \"err_high\": 205.27999877929688}, {\"time\": \"2000-06-15T18:00:00\", \"variable\": \"SW_IN\", \"value\": 244.1699981689453, \"is_present\": true, \"std\": 5, \"err_low\": 234.1699981689453, \"err_high\": 254.1699981689453}, {\"time\": \"2000-06-15T18:30:00\", \"variable\": \"SW_IN\", \"value\": 253.9199981689453, \"is_present\": true, \"std\": 5, \"err_low\": 243.9199981689453, \"err_high\": 263.9199981689453}, {\"time\": \"2000-06-15T19:00:00\", \"variable\": \"SW_IN\", \"value\": 177.30999755859375, \"is_present\": true, \"std\": 5, \"err_low\": 167.30999755859375, \"err_high\": 187.30999755859375}, {\"time\": \"2000-06-15T19:30:00\", \"variable\": \"SW_IN\", \"value\": 97.06999969482422, \"is_present\": true, \"std\": 5, \"err_low\": 87.06999969482422, \"err_high\": 107.06999969482422}, {\"time\": \"2000-06-15T20:00:00\", \"variable\": \"SW_IN\", \"value\": 39.709999084472656, \"is_present\": true, \"std\": 5, \"err_low\": 29.709999084472656, \"err_high\": 49.709999084472656}, {\"time\": \"2000-06-15T20:30:00\", \"variable\": \"SW_IN\", \"value\": 10.649999618530273, \"is_present\": true, \"std\": 5, \"err_low\": 0.6499996185302734, \"err_high\": 20.649999618530273}, {\"time\": \"2000-06-15T21:00:00\", \"variable\": \"SW_IN\", \"value\": 0.3199999928474426, \"is_present\": true, \"std\": 5, \"err_low\": -9.680000007152557, \"err_high\": 10.319999992847443}, {\"time\": \"2000-06-15T16:30:00\", \"variable\": \"VPD\", \"value\": 6.453999996185303, \"is_present\": false, \"std\": 5, \"err_low\": -3.5460000038146973, \"err_high\": 16.453999996185303}, {\"time\": \"2000-06-15T17:00:00\", \"variable\": \"VPD\", \"value\": 5.798999786376953, \"is_present\": false, \"std\": 5, \"err_low\": -4.201000213623047, \"err_high\": 15.798999786376953}, {\"time\": \"2000-06-15T17:30:00\", \"variable\": \"VPD\", \"value\": 6.577000141143799, \"is_present\": false, \"std\": 5, \"err_low\": -3.422999858856201, \"err_high\": 16.5770001411438}, {\"time\": \"2000-06-15T18:00:00\", \"variable\": \"VPD\", \"value\": 6.931000232696533, \"is_present\": false, \"std\": 5, \"err_low\": -3.068999767303467, \"err_high\": 16.931000232696533}, {\"time\": \"2000-06-15T18:30:00\", \"variable\": \"VPD\", \"value\": 7.285999774932861, \"is_present\": false, \"std\": 5, \"err_low\": -2.7140002250671387, \"err_high\": 17.28599977493286}, {\"time\": \"2000-06-15T19:00:00\", \"variable\": \"VPD\", \"value\": 7.250999927520752, \"is_present\": true, \"std\": 5, \"err_low\": -2.749000072479248, \"err_high\": 17.250999927520752}, {\"time\": \"2000-06-15T19:30:00\", \"variable\": \"VPD\", \"value\": 6.683000087738037, \"is_present\": true, \"std\": 5, \"err_low\": -3.316999912261963, \"err_high\": 16.683000087738037}, {\"time\": \"2000-06-15T20:00:00\", \"variable\": \"VPD\", \"value\": 5.85099983215332, \"is_present\": true, \"std\": 5, \"err_low\": -4.14900016784668, \"err_high\": 15.85099983215332}, {\"time\": \"2000-06-15T20:30:00\", \"variable\": \"VPD\", \"value\": 5.254000186920166, \"is_present\": true, \"std\": 5, \"err_low\": -4.745999813079834, \"err_high\": 15.254000186920166}, {\"time\": \"2000-06-15T21:00:00\", \"variable\": \"VPD\", \"value\": 5.164000034332275, \"is_present\": true, \"std\": 5, \"err_low\": -4.835999965667725, \"err_high\": 15.164000034332275}]}}, {\"mode\": \"vega-lite\"});\n",
       "</script>"
      ],
      "text/plain": [
       "alt.Chart(...)"
      ]
     },
     "execution_count": null,
     "metadata": {},
     "output_type": "execute_result"
    }
   ],
   "source": [
    "plot_error(m_df.tidy().assign(std=5))"
   ]
  },
  {
   "cell_type": "markdown",
   "id": "1fe0fa10-e1d7-44c1-8979-8f06bf243fc0",
   "metadata": {},
   "source": [
    "##### Variable"
   ]
  },
  {
   "cell_type": "code",
   "execution_count": null,
   "id": "a26f136e-c919-4083-bad9-e40f2b4996bd",
   "metadata": {},
   "outputs": [],
   "source": [
    "#| exporti\n",
    "def plot_variable(df, variable, ys=[\"value\", \"value\"], title=\"\", y_label=\"\", sel = None, error=False, props = {}):\n",
    "    df = df[df.variable == variable].copy()\n",
    "    sel = ifnone(sel, def_selection())\n",
    "    # rug = plot_rug(df, sel, props)\n",
    "    points = plot_points(df, ys[0], y_label, sel, props)\n",
    "    line = plot_line(df, True, ys[1], y_label, sel, props)\n",
    "    if error: line = plot_error(df, y=ys[1], y_label=y_label, sel=sel, props=props) + line\n",
    "    \n",
    "    return (points + line).properties(title=title)\n",
    "    \n",
    "    # return alt.VConcatChart(vconcat=[(points + line), rug], spacing=-10).properties(title=title)"
   ]
  },
  {
   "cell_type": "code",
   "execution_count": null,
   "id": "fa1c1f39-0db0-4842-bada-da41eacd9ac6",
   "metadata": {},
   "outputs": [
    {
     "data": {
      "text/html": [
       "\n",
       "<div id=\"altair-viz-84f7936910b24513bedff4867caf9af0\"></div>\n",
       "<script type=\"text/javascript\">\n",
       "  var VEGA_DEBUG = (typeof VEGA_DEBUG == \"undefined\") ? {} : VEGA_DEBUG;\n",
       "  (function(spec, embedOpt){\n",
       "    let outputDiv = document.currentScript.previousElementSibling;\n",
       "    if (outputDiv.id !== \"altair-viz-84f7936910b24513bedff4867caf9af0\") {\n",
       "      outputDiv = document.getElementById(\"altair-viz-84f7936910b24513bedff4867caf9af0\");\n",
       "    }\n",
       "    const paths = {\n",
       "      \"vega\": \"https://cdn.jsdelivr.net/npm//vega@5?noext\",\n",
       "      \"vega-lib\": \"https://cdn.jsdelivr.net/npm//vega-lib?noext\",\n",
       "      \"vega-lite\": \"https://cdn.jsdelivr.net/npm//vega-lite@5.2.0?noext\",\n",
       "      \"vega-embed\": \"https://cdn.jsdelivr.net/npm//vega-embed@6?noext\",\n",
       "    };\n",
       "\n",
       "    function maybeLoadScript(lib, version) {\n",
       "      var key = `${lib.replace(\"-\", \"\")}_version`;\n",
       "      return (VEGA_DEBUG[key] == version) ?\n",
       "        Promise.resolve(paths[lib]) :\n",
       "        new Promise(function(resolve, reject) {\n",
       "          var s = document.createElement('script');\n",
       "          document.getElementsByTagName(\"head\")[0].appendChild(s);\n",
       "          s.async = true;\n",
       "          s.onload = () => {\n",
       "            VEGA_DEBUG[key] = version;\n",
       "            return resolve(paths[lib]);\n",
       "          };\n",
       "          s.onerror = () => reject(`Error loading script: ${paths[lib]}`);\n",
       "          s.src = paths[lib];\n",
       "        });\n",
       "    }\n",
       "\n",
       "    function showError(err) {\n",
       "      outputDiv.innerHTML = `<div class=\"error\" style=\"color:red;\">${err}</div>`;\n",
       "      throw err;\n",
       "    }\n",
       "\n",
       "    function displayChart(vegaEmbed) {\n",
       "      vegaEmbed(outputDiv, spec, embedOpt)\n",
       "        .catch(err => showError(`Javascript Error: ${err.message}<br>This usually means there's a typo in your chart specification. See the javascript console for the full traceback.`));\n",
       "    }\n",
       "\n",
       "    if(typeof define === \"function\" && define.amd) {\n",
       "      requirejs.config({paths});\n",
       "      require([\"vega-embed\"], displayChart, err => showError(`Error loading script: ${err.message}`));\n",
       "    } else {\n",
       "      maybeLoadScript(\"vega\", \"5\")\n",
       "        .then(() => maybeLoadScript(\"vega-lite\", \"5.2.0\"))\n",
       "        .then(() => maybeLoadScript(\"vega-embed\", \"6\"))\n",
       "        .catch(showError)\n",
       "        .then(() => displayChart(vegaEmbed));\n",
       "    }\n",
       "  })({\"config\": {\"view\": {\"continuousWidth\": 400, \"continuousHeight\": 300}}, \"layer\": [{\"mark\": {\"type\": \"point\", \"color\": \"black\", \"fillOpacity\": 1, \"strokeWidth\": 1}, \"encoding\": {\"fill\": {\"field\": \"is_present\", \"legend\": {\"title\": [\"Observed data\"]}, \"scale\": {\"range\": [\"black\", \"#ffffff00\"]}, \"type\": \"nominal\"}, \"shape\": {\"field\": \"is_present\", \"type\": \"nominal\"}, \"x\": {\"field\": \"time\", \"type\": \"temporal\"}, \"y\": {\"field\": \"value\", \"scale\": {\"zero\": false}, \"title\": \"\", \"type\": \"quantitative\"}}}, {\"mark\": \"line\", \"encoding\": {\"color\": {\"field\": \"variable\", \"type\": \"nominal\"}, \"x\": {\"field\": \"time\", \"type\": \"temporal\"}, \"y\": {\"field\": \"value\", \"scale\": {\"zero\": false}, \"title\": \"\", \"type\": \"quantitative\"}}, \"name\": \"view_39\"}], \"data\": {\"name\": \"data-56120284c98ea45ee642dd5b510147c7\"}, \"params\": [{\"name\": \"param_60\", \"select\": {\"type\": \"interval\"}, \"bind\": \"scales\", \"views\": [\"view_39\"]}], \"title\": \"title TA\", \"$schema\": \"https://vega.github.io/schema/vega-lite/v5.2.0.json\", \"datasets\": {\"data-56120284c98ea45ee642dd5b510147c7\": [{\"time\": \"2000-06-15T16:30:00\", \"variable\": \"TA\", \"value\": 14.649999618530273, \"is_present\": false}, {\"time\": \"2000-06-15T17:00:00\", \"variable\": \"TA\", \"value\": 14.220000267028809, \"is_present\": false}, {\"time\": \"2000-06-15T17:30:00\", \"variable\": \"TA\", \"value\": 14.109999656677246, \"is_present\": false}, {\"time\": \"2000-06-15T18:00:00\", \"variable\": \"TA\", \"value\": 14.229999542236328, \"is_present\": false}, {\"time\": \"2000-06-15T18:30:00\", \"variable\": \"TA\", \"value\": 14.399999618530273, \"is_present\": false}, {\"time\": \"2000-06-15T19:00:00\", \"variable\": \"TA\", \"value\": 14.09000015258789, \"is_present\": true}, {\"time\": \"2000-06-15T19:30:00\", \"variable\": \"TA\", \"value\": 13.710000038146973, \"is_present\": true}, {\"time\": \"2000-06-15T20:00:00\", \"variable\": \"TA\", \"value\": 13.079999923706055, \"is_present\": true}, {\"time\": \"2000-06-15T20:30:00\", \"variable\": \"TA\", \"value\": 12.40999984741211, \"is_present\": true}, {\"time\": \"2000-06-15T21:00:00\", \"variable\": \"TA\", \"value\": 12.270000457763672, \"is_present\": true}]}}, {\"mode\": \"vega-lite\"});\n",
       "</script>"
      ],
      "text/plain": [
       "alt.LayerChart(...)"
      ]
     },
     "execution_count": null,
     "metadata": {},
     "output_type": "execute_result"
    }
   ],
   "source": [
    "plot_variable(m_df.tidy(), \"TA\", title=\"title TA\")"
   ]
  },
  {
   "cell_type": "code",
   "execution_count": null,
   "id": "a41576fd-91dc-44d9-bd01-f0877273a835",
   "metadata": {},
   "outputs": [
    {
     "data": {
      "text/html": [
       "\n",
       "<div id=\"altair-viz-6c531853709b4e9482cdd21d9180f8f4\"></div>\n",
       "<script type=\"text/javascript\">\n",
       "  var VEGA_DEBUG = (typeof VEGA_DEBUG == \"undefined\") ? {} : VEGA_DEBUG;\n",
       "  (function(spec, embedOpt){\n",
       "    let outputDiv = document.currentScript.previousElementSibling;\n",
       "    if (outputDiv.id !== \"altair-viz-6c531853709b4e9482cdd21d9180f8f4\") {\n",
       "      outputDiv = document.getElementById(\"altair-viz-6c531853709b4e9482cdd21d9180f8f4\");\n",
       "    }\n",
       "    const paths = {\n",
       "      \"vega\": \"https://cdn.jsdelivr.net/npm//vega@5?noext\",\n",
       "      \"vega-lib\": \"https://cdn.jsdelivr.net/npm//vega-lib?noext\",\n",
       "      \"vega-lite\": \"https://cdn.jsdelivr.net/npm//vega-lite@5.2.0?noext\",\n",
       "      \"vega-embed\": \"https://cdn.jsdelivr.net/npm//vega-embed@6?noext\",\n",
       "    };\n",
       "\n",
       "    function maybeLoadScript(lib, version) {\n",
       "      var key = `${lib.replace(\"-\", \"\")}_version`;\n",
       "      return (VEGA_DEBUG[key] == version) ?\n",
       "        Promise.resolve(paths[lib]) :\n",
       "        new Promise(function(resolve, reject) {\n",
       "          var s = document.createElement('script');\n",
       "          document.getElementsByTagName(\"head\")[0].appendChild(s);\n",
       "          s.async = true;\n",
       "          s.onload = () => {\n",
       "            VEGA_DEBUG[key] = version;\n",
       "            return resolve(paths[lib]);\n",
       "          };\n",
       "          s.onerror = () => reject(`Error loading script: ${paths[lib]}`);\n",
       "          s.src = paths[lib];\n",
       "        });\n",
       "    }\n",
       "\n",
       "    function showError(err) {\n",
       "      outputDiv.innerHTML = `<div class=\"error\" style=\"color:red;\">${err}</div>`;\n",
       "      throw err;\n",
       "    }\n",
       "\n",
       "    function displayChart(vegaEmbed) {\n",
       "      vegaEmbed(outputDiv, spec, embedOpt)\n",
       "        .catch(err => showError(`Javascript Error: ${err.message}<br>This usually means there's a typo in your chart specification. See the javascript console for the full traceback.`));\n",
       "    }\n",
       "\n",
       "    if(typeof define === \"function\" && define.amd) {\n",
       "      requirejs.config({paths});\n",
       "      require([\"vega-embed\"], displayChart, err => showError(`Error loading script: ${err.message}`));\n",
       "    } else {\n",
       "      maybeLoadScript(\"vega\", \"5\")\n",
       "        .then(() => maybeLoadScript(\"vega-lite\", \"5.2.0\"))\n",
       "        .then(() => maybeLoadScript(\"vega-embed\", \"6\"))\n",
       "        .catch(showError)\n",
       "        .then(() => displayChart(vegaEmbed));\n",
       "    }\n",
       "  })({\"config\": {\"view\": {\"continuousWidth\": 400, \"continuousHeight\": 300}}, \"layer\": [{\"mark\": {\"type\": \"point\", \"color\": \"black\", \"fillOpacity\": 1, \"strokeWidth\": 1}, \"encoding\": {\"fill\": {\"field\": \"is_present\", \"legend\": {\"title\": [\"Observed data\"]}, \"scale\": {\"range\": [\"black\", \"#ffffff00\"]}, \"type\": \"nominal\"}, \"shape\": {\"field\": \"is_present\", \"type\": \"nominal\"}, \"x\": {\"field\": \"time\", \"type\": \"temporal\"}, \"y\": {\"field\": \"value\", \"scale\": {\"zero\": false}, \"title\": \"\", \"type\": \"quantitative\"}}}, {\"layer\": [{\"mark\": \"errorband\", \"encoding\": {\"color\": {\"field\": \"variable\", \"legend\": {\"title\": [\"Line: pred. mean\", \"area: +/- 2 std\"]}, \"type\": \"nominal\"}, \"x\": {\"field\": \"time\", \"type\": \"temporal\"}, \"y\": {\"field\": \"err_low\", \"scale\": {\"zero\": false}, \"title\": \"\", \"type\": \"quantitative\"}, \"y2\": {\"field\": \"err_high\"}}, \"name\": \"view_2\"}, {\"mark\": \"line\", \"encoding\": {\"color\": {\"field\": \"variable\", \"type\": \"nominal\"}, \"x\": {\"field\": \"time\", \"type\": \"temporal\"}, \"y\": {\"field\": \"value\", \"scale\": {\"zero\": false}, \"title\": \"\", \"type\": \"quantitative\"}}}]}], \"data\": {\"name\": \"data-fd216a9f02cde58db5f8d533d8c02952\"}, \"params\": [{\"name\": \"param_7\", \"select\": {\"type\": \"interval\"}, \"bind\": \"scales\", \"views\": [\"view_2\"]}], \"title\": \"title TA\", \"$schema\": \"https://vega.github.io/schema/vega-lite/v5.2.0.json\", \"datasets\": {\"data-fd216a9f02cde58db5f8d533d8c02952\": [{\"time\": \"2000-06-15T16:30:00\", \"variable\": \"TA\", \"value\": 14.649999618530273, \"is_present\": false, \"std\": 0.5, \"err_low\": 13.649999618530273, \"err_high\": 15.649999618530273}, {\"time\": \"2000-06-15T17:00:00\", \"variable\": \"TA\", \"value\": 14.220000267028809, \"is_present\": false, \"std\": 0.5, \"err_low\": 13.220000267028809, \"err_high\": 15.220000267028809}, {\"time\": \"2000-06-15T17:30:00\", \"variable\": \"TA\", \"value\": 14.109999656677246, \"is_present\": false, \"std\": 0.5, \"err_low\": 13.109999656677246, \"err_high\": 15.109999656677246}, {\"time\": \"2000-06-15T18:00:00\", \"variable\": \"TA\", \"value\": 14.229999542236328, \"is_present\": false, \"std\": 0.5, \"err_low\": 13.229999542236328, \"err_high\": 15.229999542236328}, {\"time\": \"2000-06-15T18:30:00\", \"variable\": \"TA\", \"value\": 14.399999618530273, \"is_present\": false, \"std\": 0.5, \"err_low\": 13.399999618530273, \"err_high\": 15.399999618530273}, {\"time\": \"2000-06-15T19:00:00\", \"variable\": \"TA\", \"value\": 14.09000015258789, \"is_present\": true, \"std\": 0.5, \"err_low\": 13.09000015258789, \"err_high\": 15.09000015258789}, {\"time\": \"2000-06-15T19:30:00\", \"variable\": \"TA\", \"value\": 13.710000038146973, \"is_present\": true, \"std\": 0.5, \"err_low\": 12.710000038146973, \"err_high\": 14.710000038146973}, {\"time\": \"2000-06-15T20:00:00\", \"variable\": \"TA\", \"value\": 13.079999923706055, \"is_present\": true, \"std\": 0.5, \"err_low\": 12.079999923706055, \"err_high\": 14.079999923706055}, {\"time\": \"2000-06-15T20:30:00\", \"variable\": \"TA\", \"value\": 12.40999984741211, \"is_present\": true, \"std\": 0.5, \"err_low\": 11.40999984741211, \"err_high\": 13.40999984741211}, {\"time\": \"2000-06-15T21:00:00\", \"variable\": \"TA\", \"value\": 12.270000457763672, \"is_present\": true, \"std\": 0.5, \"err_low\": 11.270000457763672, \"err_high\": 13.270000457763672}]}}, {\"mode\": \"vega-lite\"});\n",
       "</script>"
      ],
      "text/plain": [
       "alt.LayerChart(...)"
      ]
     },
     "execution_count": null,
     "metadata": {},
     "output_type": "execute_result"
    }
   ],
   "source": [
    "plot_variable(m_df.tidy().assign(std=.5), \"TA\", title=\"title TA\", error=True)"
   ]
  },
  {
   "cell_type": "markdown",
   "id": "1533116a-d9a2-4a23-9329-9f9357397e34",
   "metadata": {},
   "source": [
    "##### Facet"
   ]
  },
  {
   "cell_type": "code",
   "execution_count": null,
   "id": "df1cf2d7-d9de-48ff-9017-c20e31b7dd21",
   "metadata": {},
   "outputs": [],
   "source": [
    "#| export\n",
    "def facet_variable(df, # tidy dataframe\n",
    "                   n_cols: int = 3,\n",
    "                   bind_interaction: bool =True, # Whether the sub-plots for each variable should be connected for zooming/panning\n",
    "                   error:bool=False, # plot error bar\n",
    "                   ys:list=[\"value\", \"value\"],\n",
    "                   props:dict|None = None, # additional properties for altair plot (eg. size)\n",
    "                   ) -> alt.Chart:\n",
    "    \"\"\"Plot all values of the column `variable` in different subplots\"\"\"\n",
    "    props = ifnone(props, {'width': 200, 'height': 150})\n",
    "    vars = df.variable.unique()\n",
    "    plot_list = [alt.hconcat() for _ in range(0, len(vars), n_cols)]\n",
    "    selection_scale = alt.selection_interval(bind=\"scales\", encodings=['x']) if bind_interaction else None\n",
    "    for idx, variable in enumerate(vars):\n",
    "        plot = plot_variable(df,\n",
    "                            variable,\n",
    "                            ys = ys,\n",
    "                            title = variable,\n",
    "                            y_label = variable,\n",
    "                            sel = selection_scale,\n",
    "                            props=props,\n",
    "                            error=error)\n",
    "        \n",
    "        plot_list[idx // n_cols] |= plot\n",
    "    \n",
    "    plot = alt.vconcat(*plot_list)\n",
    "    \n",
    "    return plot"
   ]
  },
  {
   "cell_type": "markdown",
   "id": "14d74f32-66a2-4002-a3a0-41bd6b5e2957",
   "metadata": {},
   "source": [
    "##### Show"
   ]
  },
  {
   "cell_type": "code",
   "execution_count": null,
   "id": "1787dc1e-cf5f-479b-9173-eaaf2643fd77",
   "metadata": {},
   "outputs": [],
   "source": [
    "#| export\n",
    "@patch\n",
    "def show(self: MaskedDf, ax=None, ctx=None, \n",
    "        n_cols: int = 3,\n",
    "        bind_interaction: bool =True, # Whether the sub-plots for each variable should be connected for zooming/panning\n",
    "        props:dict = None # additional properties (eg. size) for altair plot\n",
    "       ) -> alt.Chart:\n",
    "    \n",
    "    df = self.tidy()\n",
    "    return facet_variable(df, n_cols, bind_interaction, props)"
   ]
  },
  {
   "cell_type": "code",
   "execution_count": null,
   "id": "4b3200e8-9bdb-4882-a2c7-a241ef1c57c1",
   "metadata": {},
   "outputs": [
    {
     "data": {
      "text/html": [
       "\n",
       "<div id=\"altair-viz-f387254a405b4292adf71ccc0c4f90e4\"></div>\n",
       "<script type=\"text/javascript\">\n",
       "  var VEGA_DEBUG = (typeof VEGA_DEBUG == \"undefined\") ? {} : VEGA_DEBUG;\n",
       "  (function(spec, embedOpt){\n",
       "    let outputDiv = document.currentScript.previousElementSibling;\n",
       "    if (outputDiv.id !== \"altair-viz-f387254a405b4292adf71ccc0c4f90e4\") {\n",
       "      outputDiv = document.getElementById(\"altair-viz-f387254a405b4292adf71ccc0c4f90e4\");\n",
       "    }\n",
       "    const paths = {\n",
       "      \"vega\": \"https://cdn.jsdelivr.net/npm//vega@5?noext\",\n",
       "      \"vega-lib\": \"https://cdn.jsdelivr.net/npm//vega-lib?noext\",\n",
       "      \"vega-lite\": \"https://cdn.jsdelivr.net/npm//vega-lite@5.2.0?noext\",\n",
       "      \"vega-embed\": \"https://cdn.jsdelivr.net/npm//vega-embed@6?noext\",\n",
       "    };\n",
       "\n",
       "    function maybeLoadScript(lib, version) {\n",
       "      var key = `${lib.replace(\"-\", \"\")}_version`;\n",
       "      return (VEGA_DEBUG[key] == version) ?\n",
       "        Promise.resolve(paths[lib]) :\n",
       "        new Promise(function(resolve, reject) {\n",
       "          var s = document.createElement('script');\n",
       "          document.getElementsByTagName(\"head\")[0].appendChild(s);\n",
       "          s.async = true;\n",
       "          s.onload = () => {\n",
       "            VEGA_DEBUG[key] = version;\n",
       "            return resolve(paths[lib]);\n",
       "          };\n",
       "          s.onerror = () => reject(`Error loading script: ${paths[lib]}`);\n",
       "          s.src = paths[lib];\n",
       "        });\n",
       "    }\n",
       "\n",
       "    function showError(err) {\n",
       "      outputDiv.innerHTML = `<div class=\"error\" style=\"color:red;\">${err}</div>`;\n",
       "      throw err;\n",
       "    }\n",
       "\n",
       "    function displayChart(vegaEmbed) {\n",
       "      vegaEmbed(outputDiv, spec, embedOpt)\n",
       "        .catch(err => showError(`Javascript Error: ${err.message}<br>This usually means there's a typo in your chart specification. See the javascript console for the full traceback.`));\n",
       "    }\n",
       "\n",
       "    if(typeof define === \"function\" && define.amd) {\n",
       "      requirejs.config({paths});\n",
       "      require([\"vega-embed\"], displayChart, err => showError(`Error loading script: ${err.message}`));\n",
       "    } else {\n",
       "      maybeLoadScript(\"vega\", \"5\")\n",
       "        .then(() => maybeLoadScript(\"vega-lite\", \"5.2.0\"))\n",
       "        .then(() => maybeLoadScript(\"vega-embed\", \"6\"))\n",
       "        .catch(showError)\n",
       "        .then(() => displayChart(vegaEmbed));\n",
       "    }\n",
       "  })({\"config\": {\"view\": {\"continuousWidth\": 400, \"continuousHeight\": 300}}, \"vconcat\": [{\"hconcat\": [{\"layer\": [{\"mark\": {\"type\": \"point\", \"color\": \"black\", \"fillOpacity\": 1, \"strokeWidth\": 1}, \"encoding\": {\"fill\": {\"field\": \"is_present\", \"legend\": {\"title\": [\"Observed data\"]}, \"scale\": {\"range\": [\"black\", \"#ffffff00\"]}, \"type\": \"nominal\"}, \"shape\": {\"field\": \"is_present\", \"type\": \"nominal\"}, \"x\": {\"field\": \"time\", \"type\": \"temporal\"}, \"y\": {\"field\": \"value\", \"scale\": {\"zero\": false}, \"title\": \"TA\", \"type\": \"quantitative\"}}}, {\"mark\": \"line\", \"encoding\": {\"color\": {\"field\": \"variable\", \"type\": \"nominal\"}, \"x\": {\"field\": \"time\", \"type\": \"temporal\"}, \"y\": {\"field\": \"value\", \"scale\": {\"zero\": false}, \"title\": \"TA\", \"type\": \"quantitative\"}}, \"name\": \"view_40\"}], \"height\": 150, \"title\": \"TA\", \"width\": 200}, {\"layer\": [{\"mark\": {\"type\": \"point\", \"color\": \"black\", \"fillOpacity\": 1, \"strokeWidth\": 1}, \"encoding\": {\"fill\": {\"field\": \"is_present\", \"legend\": {\"title\": [\"Observed data\"]}, \"scale\": {\"range\": [\"black\", \"#ffffff00\"]}, \"type\": \"nominal\"}, \"shape\": {\"field\": \"is_present\", \"type\": \"nominal\"}, \"x\": {\"field\": \"time\", \"type\": \"temporal\"}, \"y\": {\"field\": \"value\", \"scale\": {\"zero\": false}, \"title\": \"SW_IN\", \"type\": \"quantitative\"}}}, {\"mark\": \"line\", \"encoding\": {\"color\": {\"field\": \"variable\", \"type\": \"nominal\"}, \"x\": {\"field\": \"time\", \"type\": \"temporal\"}, \"y\": {\"field\": \"value\", \"scale\": {\"zero\": false}, \"title\": \"SW_IN\", \"type\": \"quantitative\"}}, \"name\": \"view_41\"}], \"data\": {\"name\": \"data-5a1f3fac3d9df47c6d1f6f3a5658ee3a\"}, \"height\": 150, \"title\": \"SW_IN\", \"width\": 200}, {\"layer\": [{\"mark\": {\"type\": \"point\", \"color\": \"black\", \"fillOpacity\": 1, \"strokeWidth\": 1}, \"encoding\": {\"fill\": {\"field\": \"is_present\", \"legend\": {\"title\": [\"Observed data\"]}, \"scale\": {\"range\": [\"black\", \"#ffffff00\"]}, \"type\": \"nominal\"}, \"shape\": {\"field\": \"is_present\", \"type\": \"nominal\"}, \"x\": {\"field\": \"time\", \"type\": \"temporal\"}, \"y\": {\"field\": \"value\", \"scale\": {\"zero\": false}, \"title\": \"VPD\", \"type\": \"quantitative\"}}}, {\"mark\": \"line\", \"encoding\": {\"color\": {\"field\": \"variable\", \"type\": \"nominal\"}, \"x\": {\"field\": \"time\", \"type\": \"temporal\"}, \"y\": {\"field\": \"value\", \"scale\": {\"zero\": false}, \"title\": \"VPD\", \"type\": \"quantitative\"}}, \"name\": \"view_42\"}], \"data\": {\"name\": \"data-d31baa6ca74e0aff36d178089e8b875a\"}, \"height\": 150, \"title\": \"VPD\", \"width\": 200}]}], \"data\": {\"name\": \"data-56120284c98ea45ee642dd5b510147c7\"}, \"params\": [{\"name\": \"param_61\", \"select\": {\"type\": \"interval\", \"encodings\": [\"x\"]}, \"bind\": \"scales\", \"views\": [\"view_40\", \"view_41\", \"view_42\"]}], \"$schema\": \"https://vega.github.io/schema/vega-lite/v5.2.0.json\", \"datasets\": {\"data-56120284c98ea45ee642dd5b510147c7\": [{\"time\": \"2000-06-15T16:30:00\", \"variable\": \"TA\", \"value\": 14.649999618530273, \"is_present\": false}, {\"time\": \"2000-06-15T17:00:00\", \"variable\": \"TA\", \"value\": 14.220000267028809, \"is_present\": false}, {\"time\": \"2000-06-15T17:30:00\", \"variable\": \"TA\", \"value\": 14.109999656677246, \"is_present\": false}, {\"time\": \"2000-06-15T18:00:00\", \"variable\": \"TA\", \"value\": 14.229999542236328, \"is_present\": false}, {\"time\": \"2000-06-15T18:30:00\", \"variable\": \"TA\", \"value\": 14.399999618530273, \"is_present\": false}, {\"time\": \"2000-06-15T19:00:00\", \"variable\": \"TA\", \"value\": 14.09000015258789, \"is_present\": true}, {\"time\": \"2000-06-15T19:30:00\", \"variable\": \"TA\", \"value\": 13.710000038146973, \"is_present\": true}, {\"time\": \"2000-06-15T20:00:00\", \"variable\": \"TA\", \"value\": 13.079999923706055, \"is_present\": true}, {\"time\": \"2000-06-15T20:30:00\", \"variable\": \"TA\", \"value\": 12.40999984741211, \"is_present\": true}, {\"time\": \"2000-06-15T21:00:00\", \"variable\": \"TA\", \"value\": 12.270000457763672, \"is_present\": true}], \"data-5a1f3fac3d9df47c6d1f6f3a5658ee3a\": [{\"time\": \"2000-06-15T16:30:00\", \"variable\": \"SW_IN\", \"value\": 468.19000244140625, \"is_present\": true}, {\"time\": \"2000-06-15T17:00:00\", \"variable\": \"SW_IN\", \"value\": 224.8000030517578, \"is_present\": true}, {\"time\": \"2000-06-15T17:30:00\", \"variable\": \"SW_IN\", \"value\": 195.27999877929688, \"is_present\": true}, {\"time\": \"2000-06-15T18:00:00\", \"variable\": \"SW_IN\", \"value\": 244.1699981689453, \"is_present\": true}, {\"time\": \"2000-06-15T18:30:00\", \"variable\": \"SW_IN\", \"value\": 253.9199981689453, \"is_present\": true}, {\"time\": \"2000-06-15T19:00:00\", \"variable\": \"SW_IN\", \"value\": 177.30999755859375, \"is_present\": true}, {\"time\": \"2000-06-15T19:30:00\", \"variable\": \"SW_IN\", \"value\": 97.06999969482422, \"is_present\": true}, {\"time\": \"2000-06-15T20:00:00\", \"variable\": \"SW_IN\", \"value\": 39.709999084472656, \"is_present\": true}, {\"time\": \"2000-06-15T20:30:00\", \"variable\": \"SW_IN\", \"value\": 10.649999618530273, \"is_present\": true}, {\"time\": \"2000-06-15T21:00:00\", \"variable\": \"SW_IN\", \"value\": 0.3199999928474426, \"is_present\": true}], \"data-d31baa6ca74e0aff36d178089e8b875a\": [{\"time\": \"2000-06-15T16:30:00\", \"variable\": \"VPD\", \"value\": 6.453999996185303, \"is_present\": false}, {\"time\": \"2000-06-15T17:00:00\", \"variable\": \"VPD\", \"value\": 5.798999786376953, \"is_present\": false}, {\"time\": \"2000-06-15T17:30:00\", \"variable\": \"VPD\", \"value\": 6.577000141143799, \"is_present\": false}, {\"time\": \"2000-06-15T18:00:00\", \"variable\": \"VPD\", \"value\": 6.931000232696533, \"is_present\": false}, {\"time\": \"2000-06-15T18:30:00\", \"variable\": \"VPD\", \"value\": 7.285999774932861, \"is_present\": false}, {\"time\": \"2000-06-15T19:00:00\", \"variable\": \"VPD\", \"value\": 7.250999927520752, \"is_present\": true}, {\"time\": \"2000-06-15T19:30:00\", \"variable\": \"VPD\", \"value\": 6.683000087738037, \"is_present\": true}, {\"time\": \"2000-06-15T20:00:00\", \"variable\": \"VPD\", \"value\": 5.85099983215332, \"is_present\": true}, {\"time\": \"2000-06-15T20:30:00\", \"variable\": \"VPD\", \"value\": 5.254000186920166, \"is_present\": true}, {\"time\": \"2000-06-15T21:00:00\", \"variable\": \"VPD\", \"value\": 5.164000034332275, \"is_present\": true}]}}, {\"mode\": \"vega-lite\"});\n",
       "</script>"
      ],
      "text/plain": [
       "alt.VConcatChart(...)"
      ]
     },
     "execution_count": null,
     "metadata": {},
     "output_type": "execute_result"
    }
   ],
   "source": [
    "m_df.show()"
   ]
  },
  {
   "cell_type": "code",
   "execution_count": null,
   "id": "c9284e47-6433-405f-8b0d-a2cd6595bf94",
   "metadata": {},
   "outputs": [
    {
     "data": {
      "text/html": [
       "\n",
       "<div id=\"altair-viz-28dc655236a3408d89ad72abcc1de14e\"></div>\n",
       "<script type=\"text/javascript\">\n",
       "  var VEGA_DEBUG = (typeof VEGA_DEBUG == \"undefined\") ? {} : VEGA_DEBUG;\n",
       "  (function(spec, embedOpt){\n",
       "    let outputDiv = document.currentScript.previousElementSibling;\n",
       "    if (outputDiv.id !== \"altair-viz-28dc655236a3408d89ad72abcc1de14e\") {\n",
       "      outputDiv = document.getElementById(\"altair-viz-28dc655236a3408d89ad72abcc1de14e\");\n",
       "    }\n",
       "    const paths = {\n",
       "      \"vega\": \"https://cdn.jsdelivr.net/npm//vega@5?noext\",\n",
       "      \"vega-lib\": \"https://cdn.jsdelivr.net/npm//vega-lib?noext\",\n",
       "      \"vega-lite\": \"https://cdn.jsdelivr.net/npm//vega-lite@5.2.0?noext\",\n",
       "      \"vega-embed\": \"https://cdn.jsdelivr.net/npm//vega-embed@6?noext\",\n",
       "    };\n",
       "\n",
       "    function maybeLoadScript(lib, version) {\n",
       "      var key = `${lib.replace(\"-\", \"\")}_version`;\n",
       "      return (VEGA_DEBUG[key] == version) ?\n",
       "        Promise.resolve(paths[lib]) :\n",
       "        new Promise(function(resolve, reject) {\n",
       "          var s = document.createElement('script');\n",
       "          document.getElementsByTagName(\"head\")[0].appendChild(s);\n",
       "          s.async = true;\n",
       "          s.onload = () => {\n",
       "            VEGA_DEBUG[key] = version;\n",
       "            return resolve(paths[lib]);\n",
       "          };\n",
       "          s.onerror = () => reject(`Error loading script: ${paths[lib]}`);\n",
       "          s.src = paths[lib];\n",
       "        });\n",
       "    }\n",
       "\n",
       "    function showError(err) {\n",
       "      outputDiv.innerHTML = `<div class=\"error\" style=\"color:red;\">${err}</div>`;\n",
       "      throw err;\n",
       "    }\n",
       "\n",
       "    function displayChart(vegaEmbed) {\n",
       "      vegaEmbed(outputDiv, spec, embedOpt)\n",
       "        .catch(err => showError(`Javascript Error: ${err.message}<br>This usually means there's a typo in your chart specification. See the javascript console for the full traceback.`));\n",
       "    }\n",
       "\n",
       "    if(typeof define === \"function\" && define.amd) {\n",
       "      requirejs.config({paths});\n",
       "      require([\"vega-embed\"], displayChart, err => showError(`Error loading script: ${err.message}`));\n",
       "    } else {\n",
       "      maybeLoadScript(\"vega\", \"5\")\n",
       "        .then(() => maybeLoadScript(\"vega-lite\", \"5.2.0\"))\n",
       "        .then(() => maybeLoadScript(\"vega-embed\", \"6\"))\n",
       "        .catch(showError)\n",
       "        .then(() => displayChart(vegaEmbed));\n",
       "    }\n",
       "  })({\"config\": {\"view\": {\"continuousWidth\": 400, \"continuousHeight\": 300}}, \"vconcat\": [{\"hconcat\": [{\"layer\": [{\"mark\": {\"type\": \"point\", \"color\": \"black\", \"fillOpacity\": 1, \"strokeWidth\": 1}, \"encoding\": {\"fill\": {\"field\": \"is_present\", \"legend\": {\"title\": [\"Observed data\"]}, \"scale\": {\"range\": [\"black\", \"#ffffff00\"]}, \"type\": \"nominal\"}, \"shape\": {\"field\": \"is_present\", \"type\": \"nominal\"}, \"x\": {\"field\": \"time\", \"type\": \"temporal\"}, \"y\": {\"field\": \"value\", \"scale\": {\"zero\": false}, \"title\": \"TA\", \"type\": \"quantitative\"}}}, {\"mark\": \"line\", \"encoding\": {\"color\": {\"field\": \"variable\", \"type\": \"nominal\"}, \"x\": {\"field\": \"time\", \"type\": \"temporal\"}, \"y\": {\"field\": \"value\", \"scale\": {\"zero\": false}, \"title\": \"TA\", \"type\": \"quantitative\"}}, \"name\": \"view_43\"}], \"height\": 150, \"title\": \"TA\", \"width\": 200}, {\"layer\": [{\"mark\": {\"type\": \"point\", \"color\": \"black\", \"fillOpacity\": 1, \"strokeWidth\": 1}, \"encoding\": {\"fill\": {\"field\": \"is_present\", \"legend\": {\"title\": [\"Observed data\"]}, \"scale\": {\"range\": [\"black\", \"#ffffff00\"]}, \"type\": \"nominal\"}, \"shape\": {\"field\": \"is_present\", \"type\": \"nominal\"}, \"x\": {\"field\": \"time\", \"type\": \"temporal\"}, \"y\": {\"field\": \"value\", \"scale\": {\"zero\": false}, \"title\": \"SW_IN\", \"type\": \"quantitative\"}}}, {\"mark\": \"line\", \"encoding\": {\"color\": {\"field\": \"variable\", \"type\": \"nominal\"}, \"x\": {\"field\": \"time\", \"type\": \"temporal\"}, \"y\": {\"field\": \"value\", \"scale\": {\"zero\": false}, \"title\": \"SW_IN\", \"type\": \"quantitative\"}}, \"name\": \"view_44\"}], \"data\": {\"name\": \"data-c927eb5cf250cf0872c3a170980e7a6e\"}, \"height\": 150, \"title\": \"SW_IN\", \"width\": 200}, {\"layer\": [{\"mark\": {\"type\": \"point\", \"color\": \"black\", \"fillOpacity\": 1, \"strokeWidth\": 1}, \"encoding\": {\"fill\": {\"field\": \"is_present\", \"legend\": {\"title\": [\"Observed data\"]}, \"scale\": {\"range\": [\"black\", \"#ffffff00\"]}, \"type\": \"nominal\"}, \"shape\": {\"field\": \"is_present\", \"type\": \"nominal\"}, \"x\": {\"field\": \"time\", \"type\": \"temporal\"}, \"y\": {\"field\": \"value\", \"scale\": {\"zero\": false}, \"title\": \"VPD\", \"type\": \"quantitative\"}}}, {\"mark\": \"line\", \"encoding\": {\"color\": {\"field\": \"variable\", \"type\": \"nominal\"}, \"x\": {\"field\": \"time\", \"type\": \"temporal\"}, \"y\": {\"field\": \"value\", \"scale\": {\"zero\": false}, \"title\": \"VPD\", \"type\": \"quantitative\"}}, \"name\": \"view_45\"}], \"data\": {\"name\": \"data-2d15c0d997d750a4629fa2ee390a7799\"}, \"height\": 150, \"title\": \"VPD\", \"width\": 200}]}], \"data\": {\"name\": \"data-7de1e3825a3baffad826ed447ef7400b\"}, \"params\": [{\"name\": \"param_65\", \"select\": {\"type\": \"interval\", \"encodings\": [\"x\"]}, \"bind\": \"scales\", \"views\": [\"view_43\", \"view_44\", \"view_45\"]}], \"$schema\": \"https://vega.github.io/schema/vega-lite/v5.2.0.json\", \"datasets\": {\"data-7de1e3825a3baffad826ed447ef7400b\": [{\"time\": \"2000-06-15T11:30:00\", \"variable\": \"TA\", \"value\": 15.109999656677246, \"is_present\": true}, {\"time\": \"2000-06-15T12:00:00\", \"variable\": \"TA\", \"value\": 13.1899995803833, \"is_present\": false}, {\"time\": \"2000-06-15T12:30:00\", \"variable\": \"TA\", \"value\": 14.430000305175781, \"is_present\": false}, {\"time\": \"2000-06-15T13:00:00\", \"variable\": \"TA\", \"value\": 14.609999656677246, \"is_present\": false}, {\"time\": \"2000-06-15T13:30:00\", \"variable\": \"TA\", \"value\": 13.529999732971191, \"is_present\": false}, {\"time\": \"2000-06-15T14:00:00\", \"variable\": \"TA\", \"value\": 13.430000305175781, \"is_present\": false}, {\"time\": \"2000-06-15T14:30:00\", \"variable\": \"TA\", \"value\": 13.079999923706055, \"is_present\": true}, {\"time\": \"2000-06-15T15:00:00\", \"variable\": \"TA\", \"value\": 13.369999885559082, \"is_present\": true}, {\"time\": \"2000-06-15T15:30:00\", \"variable\": \"TA\", \"value\": 14.319999694824219, \"is_present\": true}, {\"time\": \"2000-06-15T16:00:00\", \"variable\": \"TA\", \"value\": 15.0, \"is_present\": true}], \"data-c927eb5cf250cf0872c3a170980e7a6e\": [{\"time\": \"2000-06-15T11:30:00\", \"variable\": \"SW_IN\", \"value\": 151.3000030517578, \"is_present\": true}, {\"time\": \"2000-06-15T12:00:00\", \"variable\": \"SW_IN\", \"value\": 697.1300048828125, \"is_present\": true}, {\"time\": \"2000-06-15T12:30:00\", \"variable\": \"SW_IN\", \"value\": 744.6799926757812, \"is_present\": true}, {\"time\": \"2000-06-15T13:00:00\", \"variable\": \"SW_IN\", \"value\": 357.739990234375, \"is_present\": true}, {\"time\": \"2000-06-15T13:30:00\", \"variable\": \"SW_IN\", \"value\": 158.25, \"is_present\": true}, {\"time\": \"2000-06-15T14:00:00\", \"variable\": \"SW_IN\", \"value\": 105.04000091552734, \"is_present\": true}, {\"time\": \"2000-06-15T14:30:00\", \"variable\": \"SW_IN\", \"value\": 142.63999938964844, \"is_present\": true}, {\"time\": \"2000-06-15T15:00:00\", \"variable\": \"SW_IN\", \"value\": 412.42999267578125, \"is_present\": true}, {\"time\": \"2000-06-15T15:30:00\", \"variable\": \"SW_IN\", \"value\": 600.510009765625, \"is_present\": true}, {\"time\": \"2000-06-15T16:00:00\", \"variable\": \"SW_IN\", \"value\": 635.8800048828125, \"is_present\": true}], \"data-2d15c0d997d750a4629fa2ee390a7799\": [{\"time\": \"2000-06-15T11:30:00\", \"variable\": \"VPD\", \"value\": 2.7709999084472656, \"is_present\": true}, {\"time\": \"2000-06-15T12:00:00\", \"variable\": \"VPD\", \"value\": 1.6490000486373901, \"is_present\": false}, {\"time\": \"2000-06-15T12:30:00\", \"variable\": \"VPD\", \"value\": 2.569999933242798, \"is_present\": false}, {\"time\": \"2000-06-15T13:00:00\", \"variable\": \"VPD\", \"value\": 2.7160000801086426, \"is_present\": false}, {\"time\": \"2000-06-15T13:30:00\", \"variable\": \"VPD\", \"value\": 3.0759999752044678, \"is_present\": false}, {\"time\": \"2000-06-15T14:00:00\", \"variable\": \"VPD\", \"value\": 2.809000015258789, \"is_present\": false}, {\"time\": \"2000-06-15T14:30:00\", \"variable\": \"VPD\", \"value\": 2.359999895095825, \"is_present\": true}, {\"time\": \"2000-06-15T15:00:00\", \"variable\": \"VPD\", \"value\": 4.0370001792907715, \"is_present\": true}, {\"time\": \"2000-06-15T15:30:00\", \"variable\": \"VPD\", \"value\": 5.583000183105469, \"is_present\": true}, {\"time\": \"2000-06-15T16:00:00\", \"variable\": \"VPD\", \"value\": 6.328999996185303, \"is_present\": true}]}}, {\"mode\": \"vega-lite\"});\n",
       "</script>"
      ],
      "text/plain": [
       "alt.VConcatChart(...)"
      ]
     },
     "execution_count": null,
     "metadata": {},
     "output_type": "execute_result"
    }
   ],
   "source": [
    "a_gap(blk(799)).show()"
   ]
  },
  {
   "cell_type": "code",
   "execution_count": null,
   "id": "37358f56-f705-4d3c-b39f-ac810447a635",
   "metadata": {},
   "outputs": [],
   "source": [
    "idx = L(*blk(1).columns).argwhere(lambda x: x in ['TA','SW_IN'])"
   ]
  },
  {
   "cell_type": "code",
   "execution_count": null,
   "id": "9126e8d1-3f99-40ba-b4ac-e5ac0f5cfd6c",
   "metadata": {},
   "outputs": [],
   "source": [
    "mask = np.ones_like(blk(1), dtype=bool)"
   ]
  },
  {
   "cell_type": "code",
   "execution_count": null,
   "id": "a9bf7480-1580-490d-8ce9-a0c47ef6c2a3",
   "metadata": {},
   "outputs": [
    {
     "data": {
      "text/plain": [
       "array([[ True,  True,  True],\n",
       "       [ True,  True,  True],\n",
       "       [ True,  True,  True],\n",
       "       [ True,  True,  True],\n",
       "       [ True,  True,  True],\n",
       "       [ True,  True,  True],\n",
       "       [ True,  True,  True],\n",
       "       [ True,  True,  True],\n",
       "       [ True,  True,  True],\n",
       "       [ True,  True,  True]])"
      ]
     },
     "execution_count": null,
     "metadata": {},
     "output_type": "execute_result"
    }
   ],
   "source": [
    "mask"
   ]
  },
  {
   "cell_type": "code",
   "execution_count": null,
   "id": "7ba57b44-2632-4ada-af4d-20b2678e6798",
   "metadata": {},
   "outputs": [],
   "source": [
    "gap = _make_random_gap(2, 10, 2)"
   ]
  },
  {
   "cell_type": "code",
   "execution_count": null,
   "id": "614d77ee-5fa7-49bd-b0e2-2bd9539b3c67",
   "metadata": {},
   "outputs": [
    {
     "data": {
      "text/plain": [
       "array([False, False,  True,  True, False, False, False, False, False,\n",
       "       False])"
      ]
     },
     "execution_count": null,
     "metadata": {},
     "output_type": "execute_result"
    }
   ],
   "source": [
    "gap"
   ]
  },
  {
   "cell_type": "code",
   "execution_count": null,
   "id": "2cfdf0a8-6761-43fb-a716-af7d391bd36c",
   "metadata": {},
   "outputs": [
    {
     "data": {
      "text/plain": [
       "array([[2],\n",
       "       [3]])"
      ]
     },
     "execution_count": null,
     "metadata": {},
     "output_type": "execute_result"
    }
   ],
   "source": [
    "np.argwhere(gap)"
   ]
  },
  {
   "cell_type": "code",
   "execution_count": null,
   "id": "c4892a92-5850-4529-991d-24c9a1cebf14",
   "metadata": {},
   "outputs": [],
   "source": [
    "mask[np.argwhere(gap), idx] = False"
   ]
  },
  {
   "cell_type": "code",
   "execution_count": null,
   "id": "5cf78fa7-3c14-43e6-a370-085f74f48ffa",
   "metadata": {},
   "outputs": [
    {
     "data": {
      "text/plain": [
       "array([[ True,  True,  True],\n",
       "       [ True,  True,  True],\n",
       "       [False, False,  True],\n",
       "       [False, False,  True],\n",
       "       [ True,  True,  True],\n",
       "       [ True,  True,  True],\n",
       "       [ True,  True,  True],\n",
       "       [ True,  True,  True],\n",
       "       [ True,  True,  True],\n",
       "       [ True,  True,  True]])"
      ]
     },
     "execution_count": null,
     "metadata": {},
     "output_type": "execute_result"
    }
   ],
   "source": [
    "mask"
   ]
  },
  {
   "cell_type": "code",
   "execution_count": null,
   "id": "39d845e1-4869-4d99-ad55-d851e44bc5cc",
   "metadata": {},
   "outputs": [
    {
     "data": {
      "text/plain": [
       "array([[False, False,  True],\n",
       "       [False, False,  True]])"
      ]
     },
     "execution_count": null,
     "metadata": {},
     "output_type": "execute_result"
    }
   ],
   "source": [
    "mask[gap]"
   ]
  },
  {
   "cell_type": "markdown",
   "id": "9e70cf47-7a11-4806-93ba-f9bdf56dc671",
   "metadata": {},
   "source": [
    "### 3) To Tensor"
   ]
  },
  {
   "cell_type": "markdown",
   "id": "a632c649-a391-4513-bcad-c5217ce001ef",
   "metadata": {},
   "source": [
    "this needs to handle both the init with a list of items and when the first item is a sequence of list of items"
   ]
  },
  {
   "cell_type": "code",
   "execution_count": null,
   "id": "1c157b15-d2e4-468b-9505-34478c196d34",
   "metadata": {},
   "outputs": [],
   "source": [
    "#| export\n",
    "class MaskedTensor(collections.abc.Sequence):\n",
    "    def __init__(self,*args):\n",
    "        if len(args)==2:\n",
    "            self.data = args[0]\n",
    "            self.mask = args[1]\n",
    "        elif len(args)==1 and len(args[0])==2:\n",
    "            self.data = args[0][0]\n",
    "            self.mask = args[0][1]\n",
    "        else:\n",
    "            raise ValueError(f\"Incorrect number of arguments. got {len(args)} args\")\n",
    "\n",
    "    def __iter__(self): return iter((self.data, self.mask,))\n",
    "    __len__ = 2\n",
    "    def __getitem__(self, key):\n",
    "        if key == 0: return self.data\n",
    "        elif key == 1: return self.mask\n",
    "        else: raise IndexError(\"index bigger than 2\")\n",
    "    __repr__ = basic_repr('data, mask')"
   ]
  },
  {
   "cell_type": "code",
   "execution_count": null,
   "id": "49a73687-9272-44ad-84d5-0b845a63cd98",
   "metadata": {},
   "outputs": [],
   "source": [
    "#| export\n",
    "class MaskedDf2Tensor(Transform):\n",
    "    def setups(self, items):\n",
    "        self.columns = list(items[0].data.columns)\n",
    "    def encodes(self, df: MaskedDf) -> MaskedTensor:\n",
    "        data = torch.tensor(df.data.to_numpy())\n",
    "        mask = torch.tensor(df.mask.to_numpy())\n",
    "        return MaskedTensor(data, mask)\n",
    "        \n",
    "    def decodes(self, x: MaskedTensor) -> MaskedDf:\n",
    "        data = pd.DataFrame(x.data.detach().cpu().numpy(), columns = self.columns)\n",
    "        mask = pd.DataFrame(x.mask.cpu().numpy(), columns = self.columns)\n",
    "        return MaskedDf(data, mask)"
   ]
  },
  {
   "cell_type": "code",
   "execution_count": null,
   "id": "f144e2e3-93b2-4b53-86ac-eeed6b483e61",
   "metadata": {},
   "outputs": [],
   "source": [
    "to_t = MaskedDf2Tensor()"
   ]
  },
  {
   "cell_type": "code",
   "execution_count": null,
   "id": "70d0c5f6-741a-4687-896a-deeb0d58c201",
   "metadata": {},
   "outputs": [],
   "source": [
    "to_t.setup(tfms2)"
   ]
  },
  {
   "cell_type": "code",
   "execution_count": null,
   "id": "2a4f7ca8-df98-42a4-97a7-cd04a61d1304",
   "metadata": {},
   "outputs": [
    {
     "data": {
      "text/plain": [
       "__main__.MaskedTensor(data=tensor([[1.4650e+01, 4.6819e+02, 6.4540e+00],\n",
       "        [1.4220e+01, 2.2480e+02, 5.7990e+00],\n",
       "        [1.4110e+01, 1.9528e+02, 6.5770e+00],\n",
       "        [1.4230e+01, 2.4417e+02, 6.9310e+00],\n",
       "        [1.4400e+01, 2.5392e+02, 7.2860e+00],\n",
       "        [1.4090e+01, 1.7731e+02, 7.2510e+00],\n",
       "        [1.3710e+01, 9.7070e+01, 6.6830e+00],\n",
       "        [1.3080e+01, 3.9710e+01, 5.8510e+00],\n",
       "        [1.2410e+01, 1.0650e+01, 5.2540e+00],\n",
       "        [1.2270e+01, 3.2000e-01, 5.1640e+00]]), mask=tensor([[ True,  True,  True],\n",
       "        [ True,  True,  True],\n",
       "        [ True,  True,  True],\n",
       "        [ True,  True,  True],\n",
       "        [ True,  True,  True],\n",
       "        [False, False,  True],\n",
       "        [False, False,  True],\n",
       "        [ True,  True,  True],\n",
       "        [ True,  True,  True],\n",
       "        [ True,  True,  True]]))"
      ]
     },
     "execution_count": null,
     "metadata": {},
     "output_type": "execute_result"
    }
   ],
   "source": [
    "to_t(tfms2[0])"
   ]
  },
  {
   "cell_type": "code",
   "execution_count": null,
   "id": "786af7c1-edb5-40ef-bbd3-b9f1b1220f11",
   "metadata": {},
   "outputs": [],
   "source": [
    "to_t.decode(to_t(tfms2[0]));"
   ]
  },
  {
   "cell_type": "code",
   "execution_count": null,
   "id": "d2e84c50-5ecd-43a7-881e-80e53bc55aa0",
   "metadata": {},
   "outputs": [
    {
     "data": {
      "text/html": [
       "<p style='font-size: 1.5rem; font-decoration: bold'>Masked Df<p><div style=\"display: flex; column-gap: 20px; flex-wrap: wrap;\" class='table table-striped table-sm'> <div> <p style='font-size: 1.3rem;'>data</p> <style type=\"text/css\">\n",
       "</style>\n",
       "<table id=\"T_640d4\">\n",
       "  <thead>\n",
       "    <tr>\n",
       "      <th id=\"T_640d4_level0_col0\" class=\"col_heading level0 col0\" >TA</th>\n",
       "      <th id=\"T_640d4_level0_col1\" class=\"col_heading level0 col1\" >SW_IN</th>\n",
       "      <th id=\"T_640d4_level0_col2\" class=\"col_heading level0 col2\" >VPD</th>\n",
       "    </tr>\n",
       "  </thead>\n",
       "  <tbody>\n",
       "    <tr>\n",
       "      <td id=\"T_640d4_row0_col0\" class=\"data row0 col0\" >14.6500</td>\n",
       "      <td id=\"T_640d4_row0_col1\" class=\"data row0 col1\" >468.1900</td>\n",
       "      <td id=\"T_640d4_row0_col2\" class=\"data row0 col2\" >6.4540</td>\n",
       "    </tr>\n",
       "    <tr>\n",
       "      <td id=\"T_640d4_row1_col0\" class=\"data row1 col0\" >14.2200</td>\n",
       "      <td id=\"T_640d4_row1_col1\" class=\"data row1 col1\" >224.8000</td>\n",
       "      <td id=\"T_640d4_row1_col2\" class=\"data row1 col2\" >5.7990</td>\n",
       "    </tr>\n",
       "    <tr>\n",
       "      <td id=\"T_640d4_row2_col0\" class=\"data row2 col0\" >14.1100</td>\n",
       "      <td id=\"T_640d4_row2_col1\" class=\"data row2 col1\" >195.2800</td>\n",
       "      <td id=\"T_640d4_row2_col2\" class=\"data row2 col2\" >6.5770</td>\n",
       "    </tr>\n",
       "    <tr>\n",
       "      <td id=\"T_640d4_row3_col0\" class=\"data row3 col0\" >14.2300</td>\n",
       "      <td id=\"T_640d4_row3_col1\" class=\"data row3 col1\" >244.1700</td>\n",
       "      <td id=\"T_640d4_row3_col2\" class=\"data row3 col2\" >6.9310</td>\n",
       "    </tr>\n",
       "    <tr>\n",
       "      <td id=\"T_640d4_row4_col0\" class=\"data row4 col0\" >14.4000</td>\n",
       "      <td id=\"T_640d4_row4_col1\" class=\"data row4 col1\" >253.9200</td>\n",
       "      <td id=\"T_640d4_row4_col2\" class=\"data row4 col2\" >7.2860</td>\n",
       "    </tr>\n",
       "    <tr>\n",
       "      <td id=\"T_640d4_row5_col0\" class=\"data row5 col0\" >14.0900</td>\n",
       "      <td id=\"T_640d4_row5_col1\" class=\"data row5 col1\" >177.3100</td>\n",
       "      <td id=\"T_640d4_row5_col2\" class=\"data row5 col2\" >7.2510</td>\n",
       "    </tr>\n",
       "    <tr>\n",
       "      <td id=\"T_640d4_row6_col0\" class=\"data row6 col0\" >13.7100</td>\n",
       "      <td id=\"T_640d4_row6_col1\" class=\"data row6 col1\" >97.0700</td>\n",
       "      <td id=\"T_640d4_row6_col2\" class=\"data row6 col2\" >6.6830</td>\n",
       "    </tr>\n",
       "    <tr>\n",
       "      <td id=\"T_640d4_row7_col0\" class=\"data row7 col0\" >13.0800</td>\n",
       "      <td id=\"T_640d4_row7_col1\" class=\"data row7 col1\" >39.7100</td>\n",
       "      <td id=\"T_640d4_row7_col2\" class=\"data row7 col2\" >5.8510</td>\n",
       "    </tr>\n",
       "    <tr>\n",
       "      <td id=\"T_640d4_row8_col0\" class=\"data row8 col0\" >12.4100</td>\n",
       "      <td id=\"T_640d4_row8_col1\" class=\"data row8 col1\" >10.6500</td>\n",
       "      <td id=\"T_640d4_row8_col2\" class=\"data row8 col2\" >5.2540</td>\n",
       "    </tr>\n",
       "    <tr>\n",
       "      <td id=\"T_640d4_row9_col0\" class=\"data row9 col0\" >12.2700</td>\n",
       "      <td id=\"T_640d4_row9_col1\" class=\"data row9 col1\" >0.3200</td>\n",
       "      <td id=\"T_640d4_row9_col2\" class=\"data row9 col2\" >5.1640</td>\n",
       "    </tr>\n",
       "  </tbody>\n",
       "</table>\n",
       " </div><div> <p style='font-size: 1.3rem;'>mask</p> <style type=\"text/css\">\n",
       "</style>\n",
       "<table id=\"T_0e668\">\n",
       "  <thead>\n",
       "    <tr>\n",
       "      <th id=\"T_0e668_level0_col0\" class=\"col_heading level0 col0\" >TA</th>\n",
       "      <th id=\"T_0e668_level0_col1\" class=\"col_heading level0 col1\" >SW_IN</th>\n",
       "      <th id=\"T_0e668_level0_col2\" class=\"col_heading level0 col2\" >VPD</th>\n",
       "    </tr>\n",
       "  </thead>\n",
       "  <tbody>\n",
       "    <tr>\n",
       "      <td id=\"T_0e668_row0_col0\" class=\"data row0 col0\" >True</td>\n",
       "      <td id=\"T_0e668_row0_col1\" class=\"data row0 col1\" >True</td>\n",
       "      <td id=\"T_0e668_row0_col2\" class=\"data row0 col2\" >True</td>\n",
       "    </tr>\n",
       "    <tr>\n",
       "      <td id=\"T_0e668_row1_col0\" class=\"data row1 col0\" >False</td>\n",
       "      <td id=\"T_0e668_row1_col1\" class=\"data row1 col1\" >False</td>\n",
       "      <td id=\"T_0e668_row1_col2\" class=\"data row1 col2\" >True</td>\n",
       "    </tr>\n",
       "    <tr>\n",
       "      <td id=\"T_0e668_row2_col0\" class=\"data row2 col0\" >False</td>\n",
       "      <td id=\"T_0e668_row2_col1\" class=\"data row2 col1\" >False</td>\n",
       "      <td id=\"T_0e668_row2_col2\" class=\"data row2 col2\" >True</td>\n",
       "    </tr>\n",
       "    <tr>\n",
       "      <td id=\"T_0e668_row3_col0\" class=\"data row3 col0\" >True</td>\n",
       "      <td id=\"T_0e668_row3_col1\" class=\"data row3 col1\" >True</td>\n",
       "      <td id=\"T_0e668_row3_col2\" class=\"data row3 col2\" >True</td>\n",
       "    </tr>\n",
       "    <tr>\n",
       "      <td id=\"T_0e668_row4_col0\" class=\"data row4 col0\" >True</td>\n",
       "      <td id=\"T_0e668_row4_col1\" class=\"data row4 col1\" >True</td>\n",
       "      <td id=\"T_0e668_row4_col2\" class=\"data row4 col2\" >True</td>\n",
       "    </tr>\n",
       "    <tr>\n",
       "      <td id=\"T_0e668_row5_col0\" class=\"data row5 col0\" >True</td>\n",
       "      <td id=\"T_0e668_row5_col1\" class=\"data row5 col1\" >True</td>\n",
       "      <td id=\"T_0e668_row5_col2\" class=\"data row5 col2\" >True</td>\n",
       "    </tr>\n",
       "    <tr>\n",
       "      <td id=\"T_0e668_row6_col0\" class=\"data row6 col0\" >True</td>\n",
       "      <td id=\"T_0e668_row6_col1\" class=\"data row6 col1\" >True</td>\n",
       "      <td id=\"T_0e668_row6_col2\" class=\"data row6 col2\" >True</td>\n",
       "    </tr>\n",
       "    <tr>\n",
       "      <td id=\"T_0e668_row7_col0\" class=\"data row7 col0\" >True</td>\n",
       "      <td id=\"T_0e668_row7_col1\" class=\"data row7 col1\" >True</td>\n",
       "      <td id=\"T_0e668_row7_col2\" class=\"data row7 col2\" >True</td>\n",
       "    </tr>\n",
       "    <tr>\n",
       "      <td id=\"T_0e668_row8_col0\" class=\"data row8 col0\" >True</td>\n",
       "      <td id=\"T_0e668_row8_col1\" class=\"data row8 col1\" >True</td>\n",
       "      <td id=\"T_0e668_row8_col2\" class=\"data row8 col2\" >True</td>\n",
       "    </tr>\n",
       "    <tr>\n",
       "      <td id=\"T_0e668_row9_col0\" class=\"data row9 col0\" >True</td>\n",
       "      <td id=\"T_0e668_row9_col1\" class=\"data row9 col1\" >True</td>\n",
       "      <td id=\"T_0e668_row9_col2\" class=\"data row9 col2\" >True</td>\n",
       "    </tr>\n",
       "  </tbody>\n",
       "</table>\n",
       " </div></div>"
      ],
      "text/plain": [
       "__main__.MaskedDf(data=                        TA       SW_IN    VPD\n",
       "time                                         \n",
       "2000-06-15 16:30:00  14.65  468.190002  6.454\n",
       "2000-06-15 17:00:00  14.22  224.800003  5.799\n",
       "2000-06-15 17:30:00  14.11  195.279999  6.577\n",
       "2000-06-15 18:00:00  14.23  244.169998  6.931\n",
       "2000-06-15 18:30:00  14.40  253.919998  7.286\n",
       "2000-06-15 19:00:00  14.09  177.309998  7.251\n",
       "2000-06-15 19:30:00  13.71   97.070000  6.683\n",
       "2000-06-15 20:00:00  13.08   39.709999  5.851\n",
       "2000-06-15 20:30:00  12.41   10.650000  5.254\n",
       "2000-06-15 21:00:00  12.27    0.320000  5.164, mask=                        TA  SW_IN   VPD\n",
       "time                                   \n",
       "2000-06-15 16:30:00   True   True  True\n",
       "2000-06-15 17:00:00  False  False  True\n",
       "2000-06-15 17:30:00  False  False  True\n",
       "2000-06-15 18:00:00   True   True  True\n",
       "2000-06-15 18:30:00   True   True  True\n",
       "2000-06-15 19:00:00   True   True  True\n",
       "2000-06-15 19:30:00   True   True  True\n",
       "2000-06-15 20:00:00   True   True  True\n",
       "2000-06-15 20:30:00   True   True  True\n",
       "2000-06-15 21:00:00   True   True  True)"
      ]
     },
     "execution_count": null,
     "metadata": {},
     "output_type": "execute_result"
    }
   ],
   "source": [
    "tfms2[0]"
   ]
  },
  {
   "cell_type": "code",
   "execution_count": null,
   "id": "baae314c-ced7-4901-b48f-bee6e879cf7c",
   "metadata": {},
   "outputs": [
    {
     "data": {
      "text/plain": [
       "__main__.MaskedDf2Tensor"
      ]
     },
     "execution_count": null,
     "metadata": {},
     "output_type": "execute_result"
    }
   ],
   "source": [
    "type(MaskedDf2Tensor())"
   ]
  },
  {
   "cell_type": "code",
   "execution_count": null,
   "id": "f2990cbe-babc-4f62-9b6f-2807edfa05b2",
   "metadata": {},
   "outputs": [],
   "source": [
    "tfms3 = TfmdLists([800, 801, 802], [BlockDfTransform(hai, 10), AddGapTransform(['TA','SW_IN'], 2), MaskedDf2Tensor()])"
   ]
  },
  {
   "cell_type": "code",
   "execution_count": null,
   "id": "755add1e-55d4-4408-8db2-ab28d804edd2",
   "metadata": {},
   "outputs": [
    {
     "data": {
      "text/plain": [
       "__main__.MaskedTensor(data=tensor([[1.4650e+01, 4.6819e+02, 6.4540e+00],\n",
       "        [1.4220e+01, 2.2480e+02, 5.7990e+00],\n",
       "        [1.4110e+01, 1.9528e+02, 6.5770e+00],\n",
       "        [1.4230e+01, 2.4417e+02, 6.9310e+00],\n",
       "        [1.4400e+01, 2.5392e+02, 7.2860e+00],\n",
       "        [1.4090e+01, 1.7731e+02, 7.2510e+00],\n",
       "        [1.3710e+01, 9.7070e+01, 6.6830e+00],\n",
       "        [1.3080e+01, 3.9710e+01, 5.8510e+00],\n",
       "        [1.2410e+01, 1.0650e+01, 5.2540e+00],\n",
       "        [1.2270e+01, 3.2000e-01, 5.1640e+00]]), mask=tensor([[ True,  True,  True],\n",
       "        [ True,  True,  True],\n",
       "        [False, False,  True],\n",
       "        [False, False,  True],\n",
       "        [ True,  True,  True],\n",
       "        [ True,  True,  True],\n",
       "        [ True,  True,  True],\n",
       "        [ True,  True,  True],\n",
       "        [ True,  True,  True],\n",
       "        [ True,  True,  True]]))"
      ]
     },
     "execution_count": null,
     "metadata": {},
     "output_type": "execute_result"
    }
   ],
   "source": [
    "tfms3[0]"
   ]
  },
  {
   "cell_type": "code",
   "execution_count": null,
   "id": "324520e5-5979-4b7e-b52f-97e86788c187",
   "metadata": {},
   "outputs": [
    {
     "data": {
      "text/plain": [
       "__main__.MaskedTensor"
      ]
     },
     "execution_count": null,
     "metadata": {},
     "output_type": "execute_result"
    }
   ],
   "source": [
    "type(tfms3[0])"
   ]
  },
  {
   "cell_type": "code",
   "execution_count": null,
   "id": "56477320-5c88-48c8-90a8-ceda644dffb9",
   "metadata": {},
   "outputs": [
    {
     "data": {
      "text/html": [
       "<p style='font-size: 1.5rem; font-decoration: bold'>Masked Df<p><div style=\"display: flex; column-gap: 20px; flex-wrap: wrap;\" class='table table-striped table-sm'> <div> <p style='font-size: 1.3rem;'>data</p> <style type=\"text/css\">\n",
       "</style>\n",
       "<table id=\"T_4236a\">\n",
       "  <thead>\n",
       "    <tr>\n",
       "      <th id=\"T_4236a_level0_col0\" class=\"col_heading level0 col0\" >TA</th>\n",
       "      <th id=\"T_4236a_level0_col1\" class=\"col_heading level0 col1\" >SW_IN</th>\n",
       "      <th id=\"T_4236a_level0_col2\" class=\"col_heading level0 col2\" >VPD</th>\n",
       "    </tr>\n",
       "  </thead>\n",
       "  <tbody>\n",
       "    <tr>\n",
       "      <td id=\"T_4236a_row0_col0\" class=\"data row0 col0\" >14.6500</td>\n",
       "      <td id=\"T_4236a_row0_col1\" class=\"data row0 col1\" >468.1900</td>\n",
       "      <td id=\"T_4236a_row0_col2\" class=\"data row0 col2\" >6.4540</td>\n",
       "    </tr>\n",
       "    <tr>\n",
       "      <td id=\"T_4236a_row1_col0\" class=\"data row1 col0\" >14.2200</td>\n",
       "      <td id=\"T_4236a_row1_col1\" class=\"data row1 col1\" >224.8000</td>\n",
       "      <td id=\"T_4236a_row1_col2\" class=\"data row1 col2\" >5.7990</td>\n",
       "    </tr>\n",
       "    <tr>\n",
       "      <td id=\"T_4236a_row2_col0\" class=\"data row2 col0\" >14.1100</td>\n",
       "      <td id=\"T_4236a_row2_col1\" class=\"data row2 col1\" >195.2800</td>\n",
       "      <td id=\"T_4236a_row2_col2\" class=\"data row2 col2\" >6.5770</td>\n",
       "    </tr>\n",
       "    <tr>\n",
       "      <td id=\"T_4236a_row3_col0\" class=\"data row3 col0\" >14.2300</td>\n",
       "      <td id=\"T_4236a_row3_col1\" class=\"data row3 col1\" >244.1700</td>\n",
       "      <td id=\"T_4236a_row3_col2\" class=\"data row3 col2\" >6.9310</td>\n",
       "    </tr>\n",
       "    <tr>\n",
       "      <td id=\"T_4236a_row4_col0\" class=\"data row4 col0\" >14.4000</td>\n",
       "      <td id=\"T_4236a_row4_col1\" class=\"data row4 col1\" >253.9200</td>\n",
       "      <td id=\"T_4236a_row4_col2\" class=\"data row4 col2\" >7.2860</td>\n",
       "    </tr>\n",
       "    <tr>\n",
       "      <td id=\"T_4236a_row5_col0\" class=\"data row5 col0\" >14.0900</td>\n",
       "      <td id=\"T_4236a_row5_col1\" class=\"data row5 col1\" >177.3100</td>\n",
       "      <td id=\"T_4236a_row5_col2\" class=\"data row5 col2\" >7.2510</td>\n",
       "    </tr>\n",
       "    <tr>\n",
       "      <td id=\"T_4236a_row6_col0\" class=\"data row6 col0\" >13.7100</td>\n",
       "      <td id=\"T_4236a_row6_col1\" class=\"data row6 col1\" >97.0700</td>\n",
       "      <td id=\"T_4236a_row6_col2\" class=\"data row6 col2\" >6.6830</td>\n",
       "    </tr>\n",
       "    <tr>\n",
       "      <td id=\"T_4236a_row7_col0\" class=\"data row7 col0\" >13.0800</td>\n",
       "      <td id=\"T_4236a_row7_col1\" class=\"data row7 col1\" >39.7100</td>\n",
       "      <td id=\"T_4236a_row7_col2\" class=\"data row7 col2\" >5.8510</td>\n",
       "    </tr>\n",
       "    <tr>\n",
       "      <td id=\"T_4236a_row8_col0\" class=\"data row8 col0\" >12.4100</td>\n",
       "      <td id=\"T_4236a_row8_col1\" class=\"data row8 col1\" >10.6500</td>\n",
       "      <td id=\"T_4236a_row8_col2\" class=\"data row8 col2\" >5.2540</td>\n",
       "    </tr>\n",
       "    <tr>\n",
       "      <td id=\"T_4236a_row9_col0\" class=\"data row9 col0\" >12.2700</td>\n",
       "      <td id=\"T_4236a_row9_col1\" class=\"data row9 col1\" >0.3200</td>\n",
       "      <td id=\"T_4236a_row9_col2\" class=\"data row9 col2\" >5.1640</td>\n",
       "    </tr>\n",
       "  </tbody>\n",
       "</table>\n",
       " </div><div> <p style='font-size: 1.3rem;'>mask</p> <style type=\"text/css\">\n",
       "</style>\n",
       "<table id=\"T_48bf6\">\n",
       "  <thead>\n",
       "    <tr>\n",
       "      <th id=\"T_48bf6_level0_col0\" class=\"col_heading level0 col0\" >TA</th>\n",
       "      <th id=\"T_48bf6_level0_col1\" class=\"col_heading level0 col1\" >SW_IN</th>\n",
       "      <th id=\"T_48bf6_level0_col2\" class=\"col_heading level0 col2\" >VPD</th>\n",
       "    </tr>\n",
       "  </thead>\n",
       "  <tbody>\n",
       "    <tr>\n",
       "      <td id=\"T_48bf6_row0_col0\" class=\"data row0 col0\" >True</td>\n",
       "      <td id=\"T_48bf6_row0_col1\" class=\"data row0 col1\" >True</td>\n",
       "      <td id=\"T_48bf6_row0_col2\" class=\"data row0 col2\" >True</td>\n",
       "    </tr>\n",
       "    <tr>\n",
       "      <td id=\"T_48bf6_row1_col0\" class=\"data row1 col0\" >True</td>\n",
       "      <td id=\"T_48bf6_row1_col1\" class=\"data row1 col1\" >True</td>\n",
       "      <td id=\"T_48bf6_row1_col2\" class=\"data row1 col2\" >True</td>\n",
       "    </tr>\n",
       "    <tr>\n",
       "      <td id=\"T_48bf6_row2_col0\" class=\"data row2 col0\" >True</td>\n",
       "      <td id=\"T_48bf6_row2_col1\" class=\"data row2 col1\" >True</td>\n",
       "      <td id=\"T_48bf6_row2_col2\" class=\"data row2 col2\" >True</td>\n",
       "    </tr>\n",
       "    <tr>\n",
       "      <td id=\"T_48bf6_row3_col0\" class=\"data row3 col0\" >True</td>\n",
       "      <td id=\"T_48bf6_row3_col1\" class=\"data row3 col1\" >True</td>\n",
       "      <td id=\"T_48bf6_row3_col2\" class=\"data row3 col2\" >True</td>\n",
       "    </tr>\n",
       "    <tr>\n",
       "      <td id=\"T_48bf6_row4_col0\" class=\"data row4 col0\" >True</td>\n",
       "      <td id=\"T_48bf6_row4_col1\" class=\"data row4 col1\" >True</td>\n",
       "      <td id=\"T_48bf6_row4_col2\" class=\"data row4 col2\" >True</td>\n",
       "    </tr>\n",
       "    <tr>\n",
       "      <td id=\"T_48bf6_row5_col0\" class=\"data row5 col0\" >True</td>\n",
       "      <td id=\"T_48bf6_row5_col1\" class=\"data row5 col1\" >True</td>\n",
       "      <td id=\"T_48bf6_row5_col2\" class=\"data row5 col2\" >True</td>\n",
       "    </tr>\n",
       "    <tr>\n",
       "      <td id=\"T_48bf6_row6_col0\" class=\"data row6 col0\" >True</td>\n",
       "      <td id=\"T_48bf6_row6_col1\" class=\"data row6 col1\" >True</td>\n",
       "      <td id=\"T_48bf6_row6_col2\" class=\"data row6 col2\" >True</td>\n",
       "    </tr>\n",
       "    <tr>\n",
       "      <td id=\"T_48bf6_row7_col0\" class=\"data row7 col0\" >False</td>\n",
       "      <td id=\"T_48bf6_row7_col1\" class=\"data row7 col1\" >False</td>\n",
       "      <td id=\"T_48bf6_row7_col2\" class=\"data row7 col2\" >True</td>\n",
       "    </tr>\n",
       "    <tr>\n",
       "      <td id=\"T_48bf6_row8_col0\" class=\"data row8 col0\" >False</td>\n",
       "      <td id=\"T_48bf6_row8_col1\" class=\"data row8 col1\" >False</td>\n",
       "      <td id=\"T_48bf6_row8_col2\" class=\"data row8 col2\" >True</td>\n",
       "    </tr>\n",
       "    <tr>\n",
       "      <td id=\"T_48bf6_row9_col0\" class=\"data row9 col0\" >True</td>\n",
       "      <td id=\"T_48bf6_row9_col1\" class=\"data row9 col1\" >True</td>\n",
       "      <td id=\"T_48bf6_row9_col2\" class=\"data row9 col2\" >True</td>\n",
       "    </tr>\n",
       "  </tbody>\n",
       "</table>\n",
       " </div></div>"
      ],
      "text/plain": [
       "__main__.MaskedDf(data=      TA       SW_IN    VPD\n",
       "0  14.65  468.190002  6.454\n",
       "1  14.22  224.800003  5.799\n",
       "2  14.11  195.279999  6.577\n",
       "3  14.23  244.169998  6.931\n",
       "4  14.40  253.919998  7.286\n",
       "5  14.09  177.309998  7.251\n",
       "6  13.71   97.070000  6.683\n",
       "7  13.08   39.709999  5.851\n",
       "8  12.41   10.650000  5.254\n",
       "9  12.27    0.320000  5.164, mask=      TA  SW_IN   VPD\n",
       "0   True   True  True\n",
       "1   True   True  True\n",
       "2   True   True  True\n",
       "3   True   True  True\n",
       "4   True   True  True\n",
       "5   True   True  True\n",
       "6   True   True  True\n",
       "7  False  False  True\n",
       "8  False  False  True\n",
       "9   True   True  True)"
      ]
     },
     "execution_count": null,
     "metadata": {},
     "output_type": "execute_result"
    }
   ],
   "source": [
    "tfms3.decode(tfms3[0])"
   ]
  },
  {
   "cell_type": "markdown",
   "id": "87e120fa-cf84-4e32-8c99-9af24a2755b1",
   "metadata": {},
   "source": [
    "### 4) Normalize"
   ]
  },
  {
   "cell_type": "code",
   "execution_count": null,
   "id": "3ba23250-9b69-43c2-b2f6-db4ef5658e6a",
   "metadata": {},
   "outputs": [],
   "source": [
    "#| export\n",
    "from meteo_imp.utils import *\n",
    "from fastai.torch_core import to_cpu\n",
    "\n",
    "from torch import Tensor"
   ]
  },
  {
   "cell_type": "code",
   "execution_count": null,
   "id": "da858473-9de5-4abf-8a32-eb24bfb6b054",
   "metadata": {},
   "outputs": [
    {
     "data": {
      "text/plain": [
       "<function collections.namedtuple(typename, field_names, *, rename=False, defaults=None, module=None)>"
      ]
     },
     "execution_count": null,
     "metadata": {},
     "output_type": "execute_result"
    }
   ],
   "source": [
    "collections.namedtuple"
   ]
  },
  {
   "cell_type": "code",
   "execution_count": null,
   "id": "0505fab1-5a53-4879-9d0d-7cc918bd5bdf",
   "metadata": {},
   "outputs": [],
   "source": [
    "nt = collections.namedtuple(\"nt\", \"a\")"
   ]
  },
  {
   "cell_type": "code",
   "execution_count": null,
   "id": "6ad97a8b-4da1-4c88-9b49-8ca0f3ce4a13",
   "metadata": {},
   "outputs": [
    {
     "data": {
      "text/plain": [
       "True"
      ]
     },
     "execution_count": null,
     "metadata": {},
     "output_type": "execute_result"
    }
   ],
   "source": [
    "isinstance(nt(1), tuple)"
   ]
  },
  {
   "cell_type": "code",
   "execution_count": null,
   "id": "f1ac4c68-5abf-41c0-b754-889ad3af0999",
   "metadata": {},
   "outputs": [],
   "source": [
    "#| export\n",
    "class NormalsParams(list):\n",
    "    def __init__(self,*args):\n",
    "        if len(args)==2:\n",
    "            self.mean = args[0]\n",
    "            self.std = args[1]\n",
    "        elif isinstance(args[0], Generator):\n",
    "            args = list(args[0])\n",
    "            self.mean = args[0]\n",
    "            self.std = args[1]\n",
    "        elif len(args)==1 and len(args[0])==2:\n",
    "            self.mean = tuple(args[0])[0]\n",
    "            self.std = tuple(args[0])[1]                     \n",
    "        else:\n",
    "            raise ValueError(f\"Incorrect number of arguments. got {len(args)} args\")\n",
    "    def __iter__(self): return iter((self.mean, self.std,))\n",
    "    def __next__(self): return next(self.__iter__())\n",
    "    def __len__(self): return 2\n",
    "    def __getitem__(self, key):\n",
    "        if key == 0: return self.mean\n",
    "        elif key == 1: return self.std\n",
    "        else: raise IndexError(\"index bigger than 2\")\n",
    "    __repr__ = basic_repr('mean, std')"
   ]
  },
  {
   "cell_type": "code",
   "execution_count": null,
   "id": "bd093319-c16b-494c-9431-1c7d5d8869a8",
   "metadata": {},
   "outputs": [
    {
     "data": {
      "text/plain": [
       "__main__.NormalsParams(mean=0, std=1)"
      ]
     },
     "execution_count": null,
     "metadata": {},
     "output_type": "execute_result"
    }
   ],
   "source": [
    "NormalsParams(0,1)"
   ]
  },
  {
   "cell_type": "code",
   "execution_count": null,
   "id": "e75c7ecf-2785-49fc-b1ff-fe98c4e03843",
   "metadata": {},
   "outputs": [],
   "source": [
    "#| export\n",
    "def get_stats(df, device='cpu'):\n",
    "    return torch.tensor(df.mean(axis=0).to_numpy(), device=device), torch.tensor(df.std(axis=0).to_numpy(), device=device)"
   ]
  },
  {
   "cell_type": "code",
   "execution_count": null,
   "id": "975601aa-1325-4ece-989c-0eb60a9d8d85",
   "metadata": {},
   "outputs": [],
   "source": [
    "#| export\n",
    "class NormalizeMasked(Transform):\n",
    "    \"Normalize/denorm MaskedTensor column-wise \"\n",
    "    @property\n",
    "    def name(self): return f\"{super().name} -- {getattr(self,'__stored_args__',{})}\"\n",
    "\n",
    "    def __init__(self, mean=None, std=None): store_attr()\n",
    "\n",
    "    def encodes(self, x:MaskedTensor)-> MaskedTensor:\n",
    "        return MaskedTensor((x.data -self.mean) / self.std, x.mask)\n",
    "\n",
    "    def decodes(self, x:MaskedTensor)->MaskedTensor:\n",
    "        f = to_cpu if x[0].device.type=='cpu' else noop\n",
    "        return MaskedTensor(x[0] * f(self.std) + f(self.mean), x[1])\n",
    "    \n",
    "    def decodes(self, x:NormalsParams):\n",
    "        f = partial(to_device, device=(x[0].device))\n",
    "        mean = x.mean * f(self.std) + f(self.mean)\n",
    "        std = x.std * f(self.std)\n",
    "        \n",
    "        return NormalsParams(mean, std)"
   ]
  },
  {
   "cell_type": "code",
   "execution_count": null,
   "id": "81c896b6-86c0-407b-8f4b-da4bdc366c27",
   "metadata": {},
   "outputs": [],
   "source": [
    "norm = NormalizeMasked(*get_stats(hai))"
   ]
  },
  {
   "cell_type": "code",
   "execution_count": null,
   "id": "7e8c0fab-da94-400f-8486-0253b05a6a96",
   "metadata": {},
   "outputs": [
    {
     "data": {
      "text/plain": [
       "__main__.MaskedTensor(data=tensor([[1.4650e+01, 4.6819e+02, 6.4540e+00],\n",
       "        [1.4220e+01, 2.2480e+02, 5.7990e+00],\n",
       "        [1.4110e+01, 1.9528e+02, 6.5770e+00],\n",
       "        [1.4230e+01, 2.4417e+02, 6.9310e+00],\n",
       "        [1.4400e+01, 2.5392e+02, 7.2860e+00],\n",
       "        [1.4090e+01, 1.7731e+02, 7.2510e+00],\n",
       "        [1.3710e+01, 9.7070e+01, 6.6830e+00],\n",
       "        [1.3080e+01, 3.9710e+01, 5.8510e+00],\n",
       "        [1.2410e+01, 1.0650e+01, 5.2540e+00],\n",
       "        [1.2270e+01, 3.2000e-01, 5.1640e+00]]), mask=tensor([[ True,  True,  True],\n",
       "        [ True,  True,  True],\n",
       "        [False, False,  True],\n",
       "        [False, False,  True],\n",
       "        [ True,  True,  True],\n",
       "        [ True,  True,  True],\n",
       "        [ True,  True,  True],\n",
       "        [ True,  True,  True],\n",
       "        [ True,  True,  True],\n",
       "        [ True,  True,  True]]))"
      ]
     },
     "execution_count": null,
     "metadata": {},
     "output_type": "execute_result"
    }
   ],
   "source": [
    "tfms3[0]"
   ]
  },
  {
   "cell_type": "code",
   "execution_count": null,
   "id": "bd4747c3-be04-483d-b9e4-730ec7912543",
   "metadata": {},
   "outputs": [],
   "source": [
    "test_close(norm.decode(norm(tfms3[0]))[0], tfms3[0][0], eps=2e-5)"
   ]
  },
  {
   "cell_type": "markdown",
   "id": "9c6f8385-7a2d-46b7-9f8b-a25f8833febf",
   "metadata": {},
   "source": [
    "Test that NormalsParams decode actually works"
   ]
  },
  {
   "cell_type": "code",
   "execution_count": null,
   "id": "cb935fb9-c3bb-456e-bcf4-12ad6f8f5933",
   "metadata": {},
   "outputs": [],
   "source": [
    "Npars = NormalsParams(torch.tensor(1), torch.tensor(.1))"
   ]
  },
  {
   "cell_type": "code",
   "execution_count": null,
   "id": "1b6737ba-596e-47cf-9f79-0c5a83ce6fe8",
   "metadata": {},
   "outputs": [
    {
     "data": {
      "text/plain": [
       "__main__.NormalsParams(mean=tensor([ 16.2585, 324.9604,   7.7491]), std=tensor([ 0.7925, 20.4003,  0.4368]))"
      ]
     },
     "execution_count": null,
     "metadata": {},
     "output_type": "execute_result"
    }
   ],
   "source": [
    "norm.decode(Npars)"
   ]
  },
  {
   "cell_type": "code",
   "execution_count": null,
   "id": "3ba86749-5fe4-49b6-8ca2-48c225d4cfcd",
   "metadata": {},
   "outputs": [],
   "source": [
    "tfms4 = TfmdLists([800,801,803], [BlockDfTransform(hai, 10), \n",
    "                           AddGapTransform(['TA','SW_IN'], 2),\n",
    "                           MaskedDf2Tensor(),\n",
    "                           NormalizeMasked(*get_stats(hai,device='cpu'), ) ])"
   ]
  },
  {
   "cell_type": "code",
   "execution_count": null,
   "id": "7ecb095d-5e4b-48c6-ad85-93396b8f42af",
   "metadata": {},
   "outputs": [
    {
     "data": {
      "text/plain": [
       "__main__.MaskedTensor(data=tensor([[ 0.7970,  1.7021,  0.7035],\n",
       "        [ 0.7428,  0.5090,  0.5536],\n",
       "        [ 0.7289,  0.3643,  0.7317],\n",
       "        [ 0.7440,  0.6040,  0.8127],\n",
       "        [ 0.7655,  0.6518,  0.8940],\n",
       "        [ 0.7264,  0.2762,  0.8860],\n",
       "        [ 0.6784, -0.1171,  0.7560],\n",
       "        [ 0.5989, -0.3983,  0.5655],\n",
       "        [ 0.5144, -0.5407,  0.4288],\n",
       "        [ 0.4967, -0.5914,  0.4082]]), mask=tensor([[ True,  True,  True],\n",
       "        [ True,  True,  True],\n",
       "        [ True,  True,  True],\n",
       "        [ True,  True,  True],\n",
       "        [False, False,  True],\n",
       "        [False, False,  True],\n",
       "        [ True,  True,  True],\n",
       "        [ True,  True,  True],\n",
       "        [ True,  True,  True],\n",
       "        [ True,  True,  True]]))"
      ]
     },
     "execution_count": null,
     "metadata": {},
     "output_type": "execute_result"
    }
   ],
   "source": [
    "tfms4[0]"
   ]
  },
  {
   "cell_type": "code",
   "execution_count": null,
   "id": "7f1d4c1d-65b1-4804-aa7e-7193cfadf4e1",
   "metadata": {},
   "outputs": [
    {
     "data": {
      "text/html": [
       "<p style='font-size: 1.5rem; font-decoration: bold'>Masked Df<p><div style=\"display: flex; column-gap: 20px; flex-wrap: wrap;\" class='table table-striped table-sm'> <div> <p style='font-size: 1.3rem;'>data</p> <style type=\"text/css\">\n",
       "</style>\n",
       "<table id=\"T_76a86\">\n",
       "  <thead>\n",
       "    <tr>\n",
       "      <th id=\"T_76a86_level0_col0\" class=\"col_heading level0 col0\" >TA</th>\n",
       "      <th id=\"T_76a86_level0_col1\" class=\"col_heading level0 col1\" >SW_IN</th>\n",
       "      <th id=\"T_76a86_level0_col2\" class=\"col_heading level0 col2\" >VPD</th>\n",
       "    </tr>\n",
       "  </thead>\n",
       "  <tbody>\n",
       "    <tr>\n",
       "      <td id=\"T_76a86_row0_col0\" class=\"data row0 col0\" >14.6500</td>\n",
       "      <td id=\"T_76a86_row0_col1\" class=\"data row0 col1\" >468.1900</td>\n",
       "      <td id=\"T_76a86_row0_col2\" class=\"data row0 col2\" >6.4540</td>\n",
       "    </tr>\n",
       "    <tr>\n",
       "      <td id=\"T_76a86_row1_col0\" class=\"data row1 col0\" >14.2200</td>\n",
       "      <td id=\"T_76a86_row1_col1\" class=\"data row1 col1\" >224.8000</td>\n",
       "      <td id=\"T_76a86_row1_col2\" class=\"data row1 col2\" >5.7990</td>\n",
       "    </tr>\n",
       "    <tr>\n",
       "      <td id=\"T_76a86_row2_col0\" class=\"data row2 col0\" >14.1100</td>\n",
       "      <td id=\"T_76a86_row2_col1\" class=\"data row2 col1\" >195.2800</td>\n",
       "      <td id=\"T_76a86_row2_col2\" class=\"data row2 col2\" >6.5770</td>\n",
       "    </tr>\n",
       "    <tr>\n",
       "      <td id=\"T_76a86_row3_col0\" class=\"data row3 col0\" >14.2300</td>\n",
       "      <td id=\"T_76a86_row3_col1\" class=\"data row3 col1\" >244.1700</td>\n",
       "      <td id=\"T_76a86_row3_col2\" class=\"data row3 col2\" >6.9310</td>\n",
       "    </tr>\n",
       "    <tr>\n",
       "      <td id=\"T_76a86_row4_col0\" class=\"data row4 col0\" >14.4000</td>\n",
       "      <td id=\"T_76a86_row4_col1\" class=\"data row4 col1\" >253.9200</td>\n",
       "      <td id=\"T_76a86_row4_col2\" class=\"data row4 col2\" >7.2860</td>\n",
       "    </tr>\n",
       "    <tr>\n",
       "      <td id=\"T_76a86_row5_col0\" class=\"data row5 col0\" >14.0900</td>\n",
       "      <td id=\"T_76a86_row5_col1\" class=\"data row5 col1\" >177.3100</td>\n",
       "      <td id=\"T_76a86_row5_col2\" class=\"data row5 col2\" >7.2510</td>\n",
       "    </tr>\n",
       "    <tr>\n",
       "      <td id=\"T_76a86_row6_col0\" class=\"data row6 col0\" >13.7100</td>\n",
       "      <td id=\"T_76a86_row6_col1\" class=\"data row6 col1\" >97.0700</td>\n",
       "      <td id=\"T_76a86_row6_col2\" class=\"data row6 col2\" >6.6830</td>\n",
       "    </tr>\n",
       "    <tr>\n",
       "      <td id=\"T_76a86_row7_col0\" class=\"data row7 col0\" >13.0800</td>\n",
       "      <td id=\"T_76a86_row7_col1\" class=\"data row7 col1\" >39.7100</td>\n",
       "      <td id=\"T_76a86_row7_col2\" class=\"data row7 col2\" >5.8510</td>\n",
       "    </tr>\n",
       "    <tr>\n",
       "      <td id=\"T_76a86_row8_col0\" class=\"data row8 col0\" >12.4100</td>\n",
       "      <td id=\"T_76a86_row8_col1\" class=\"data row8 col1\" >10.6500</td>\n",
       "      <td id=\"T_76a86_row8_col2\" class=\"data row8 col2\" >5.2540</td>\n",
       "    </tr>\n",
       "    <tr>\n",
       "      <td id=\"T_76a86_row9_col0\" class=\"data row9 col0\" >12.2700</td>\n",
       "      <td id=\"T_76a86_row9_col1\" class=\"data row9 col1\" >0.3200</td>\n",
       "      <td id=\"T_76a86_row9_col2\" class=\"data row9 col2\" >5.1640</td>\n",
       "    </tr>\n",
       "  </tbody>\n",
       "</table>\n",
       " </div><div> <p style='font-size: 1.3rem;'>mask</p> <style type=\"text/css\">\n",
       "</style>\n",
       "<table id=\"T_86646\">\n",
       "  <thead>\n",
       "    <tr>\n",
       "      <th id=\"T_86646_level0_col0\" class=\"col_heading level0 col0\" >TA</th>\n",
       "      <th id=\"T_86646_level0_col1\" class=\"col_heading level0 col1\" >SW_IN</th>\n",
       "      <th id=\"T_86646_level0_col2\" class=\"col_heading level0 col2\" >VPD</th>\n",
       "    </tr>\n",
       "  </thead>\n",
       "  <tbody>\n",
       "    <tr>\n",
       "      <td id=\"T_86646_row0_col0\" class=\"data row0 col0\" >True</td>\n",
       "      <td id=\"T_86646_row0_col1\" class=\"data row0 col1\" >True</td>\n",
       "      <td id=\"T_86646_row0_col2\" class=\"data row0 col2\" >True</td>\n",
       "    </tr>\n",
       "    <tr>\n",
       "      <td id=\"T_86646_row1_col0\" class=\"data row1 col0\" >True</td>\n",
       "      <td id=\"T_86646_row1_col1\" class=\"data row1 col1\" >True</td>\n",
       "      <td id=\"T_86646_row1_col2\" class=\"data row1 col2\" >True</td>\n",
       "    </tr>\n",
       "    <tr>\n",
       "      <td id=\"T_86646_row2_col0\" class=\"data row2 col0\" >True</td>\n",
       "      <td id=\"T_86646_row2_col1\" class=\"data row2 col1\" >True</td>\n",
       "      <td id=\"T_86646_row2_col2\" class=\"data row2 col2\" >True</td>\n",
       "    </tr>\n",
       "    <tr>\n",
       "      <td id=\"T_86646_row3_col0\" class=\"data row3 col0\" >True</td>\n",
       "      <td id=\"T_86646_row3_col1\" class=\"data row3 col1\" >True</td>\n",
       "      <td id=\"T_86646_row3_col2\" class=\"data row3 col2\" >True</td>\n",
       "    </tr>\n",
       "    <tr>\n",
       "      <td id=\"T_86646_row4_col0\" class=\"data row4 col0\" >True</td>\n",
       "      <td id=\"T_86646_row4_col1\" class=\"data row4 col1\" >True</td>\n",
       "      <td id=\"T_86646_row4_col2\" class=\"data row4 col2\" >True</td>\n",
       "    </tr>\n",
       "    <tr>\n",
       "      <td id=\"T_86646_row5_col0\" class=\"data row5 col0\" >True</td>\n",
       "      <td id=\"T_86646_row5_col1\" class=\"data row5 col1\" >True</td>\n",
       "      <td id=\"T_86646_row5_col2\" class=\"data row5 col2\" >True</td>\n",
       "    </tr>\n",
       "    <tr>\n",
       "      <td id=\"T_86646_row6_col0\" class=\"data row6 col0\" >False</td>\n",
       "      <td id=\"T_86646_row6_col1\" class=\"data row6 col1\" >False</td>\n",
       "      <td id=\"T_86646_row6_col2\" class=\"data row6 col2\" >True</td>\n",
       "    </tr>\n",
       "    <tr>\n",
       "      <td id=\"T_86646_row7_col0\" class=\"data row7 col0\" >False</td>\n",
       "      <td id=\"T_86646_row7_col1\" class=\"data row7 col1\" >False</td>\n",
       "      <td id=\"T_86646_row7_col2\" class=\"data row7 col2\" >True</td>\n",
       "    </tr>\n",
       "    <tr>\n",
       "      <td id=\"T_86646_row8_col0\" class=\"data row8 col0\" >True</td>\n",
       "      <td id=\"T_86646_row8_col1\" class=\"data row8 col1\" >True</td>\n",
       "      <td id=\"T_86646_row8_col2\" class=\"data row8 col2\" >True</td>\n",
       "    </tr>\n",
       "    <tr>\n",
       "      <td id=\"T_86646_row9_col0\" class=\"data row9 col0\" >True</td>\n",
       "      <td id=\"T_86646_row9_col1\" class=\"data row9 col1\" >True</td>\n",
       "      <td id=\"T_86646_row9_col2\" class=\"data row9 col2\" >True</td>\n",
       "    </tr>\n",
       "  </tbody>\n",
       "</table>\n",
       " </div></div>"
      ],
      "text/plain": [
       "__main__.MaskedDf(data=      TA       SW_IN    VPD\n",
       "0  14.65  468.190002  6.454\n",
       "1  14.22  224.800003  5.799\n",
       "2  14.11  195.279999  6.577\n",
       "3  14.23  244.170013  6.931\n",
       "4  14.40  253.920013  7.286\n",
       "5  14.09  177.309998  7.251\n",
       "6  13.71   97.070000  6.683\n",
       "7  13.08   39.709999  5.851\n",
       "8  12.41   10.650002  5.254\n",
       "9  12.27    0.320007  5.164, mask=      TA  SW_IN   VPD\n",
       "0   True   True  True\n",
       "1   True   True  True\n",
       "2   True   True  True\n",
       "3   True   True  True\n",
       "4   True   True  True\n",
       "5   True   True  True\n",
       "6  False  False  True\n",
       "7  False  False  True\n",
       "8   True   True  True\n",
       "9   True   True  True)"
      ]
     },
     "execution_count": null,
     "metadata": {},
     "output_type": "execute_result"
    }
   ],
   "source": [
    "tfms4.decode(tfms4[0])"
   ]
  },
  {
   "cell_type": "markdown",
   "id": "996ccbf6-0e81-4fd5-97ff-9ee2ab8eb42d",
   "metadata": {},
   "source": [
    "is workinggggggggggggggggg "
   ]
  },
  {
   "cell_type": "markdown",
   "id": "b0054d0c-1aba-4d7e-8bca-be55853b4388",
   "metadata": {},
   "source": [
    "### 5) To Tuple"
   ]
  },
  {
   "cell_type": "markdown",
   "id": "9e74011f-f689-4f39-8e9d-ec88e0487928",
   "metadata": {},
   "source": [
    "Fastai likes to work with tuples ... for now convert to a tuple. Should add a decode step and maybe find a way to mimic a tuple in MaskedTensor"
   ]
  },
  {
   "cell_type": "code",
   "execution_count": null,
   "id": "d1c3ff30-1e9e-4d83-a6ea-66df2924e04a",
   "metadata": {},
   "outputs": [],
   "source": [
    "#| export\n",
    "def to_tuple(x):\n",
    "    return tuple(x)"
   ]
  },
  {
   "cell_type": "markdown",
   "id": "81077302-18db-4010-9c88-ae8d48216353",
   "metadata": {},
   "source": [
    "### Pipeline"
   ]
  },
  {
   "cell_type": "code",
   "execution_count": null,
   "id": "0ad384f0-7912-4d40-9631-1e6e5294fb9f",
   "metadata": {},
   "outputs": [],
   "source": [
    "#| export\n",
    "from fastai.data.transforms import *"
   ]
  },
  {
   "cell_type": "code",
   "execution_count": null,
   "id": "5c19d0b5-b78c-4a5f-a606-8a1cfe832e8d",
   "metadata": {},
   "outputs": [],
   "source": [
    "block_len = 10\n",
    "block_ids = list(range(0, (len(hai) // block_len) - 1))[:10]\n",
    "gap_len = 2"
   ]
  },
  {
   "cell_type": "code",
   "execution_count": null,
   "id": "9a7a2fc4-fa0d-4b22-b7ca-65feed7ffcdc",
   "metadata": {},
   "outputs": [],
   "source": [
    "#| export\n",
    "def imp_pipeline(df,\n",
    "                 block_len,\n",
    "                 gap_len\n",
    "                ):\n",
    "    block_ids = list(range(0, (len(df) // block_len) - 1))\n",
    "    return [BlockDfTransform(df, block_len),\n",
    "            AddGapTransform(['TA','SW_IN'], gap_len),\n",
    "            MaskedDf2Tensor,\n",
    "            NormalizeMasked(*get_stats(df)),\n",
    "            to_tuple\n",
    "           ], block_ids"
   ]
  },
  {
   "cell_type": "code",
   "execution_count": null,
   "id": "ae7c4bad-445a-4e2a-9d30-e0160106b678",
   "metadata": {},
   "outputs": [],
   "source": [
    "pipeline, block_ids = imp_pipeline(hai, block_len, gap_len)"
   ]
  },
  {
   "cell_type": "code",
   "execution_count": null,
   "id": "569ade0e-fb29-4929-9106-3ac010ce5db0",
   "metadata": {},
   "outputs": [
    {
     "data": {
      "text/plain": [
       "[BlockDfTransform:\n",
       " encodes: (int,object) -> encodes\n",
       " decodes: ,\n",
       " AddGapTransform:\n",
       " encodes: (DataFrame,object) -> encodes\n",
       " decodes: ,\n",
       " __main__.MaskedDf2Tensor,\n",
       " NormalizeMasked -- {'mean': tensor([  8.3339, 120.9578,   3.3807]), 'std': tensor([  7.9246, 204.0026,   4.3684])}:\n",
       " encodes: (MaskedTensor,object) -> encodes\n",
       " decodes: (MaskedTensor,object) -> decodes\n",
       " (NormalsParams,object) -> decodes,\n",
       " <function __main__.to_tuple(x)>]"
      ]
     },
     "execution_count": null,
     "metadata": {},
     "output_type": "execute_result"
    }
   ],
   "source": [
    "pipeline"
   ]
  },
  {
   "cell_type": "code",
   "execution_count": null,
   "id": "5cc0fa4f-801d-4d04-a3a7-7012d11e3709",
   "metadata": {},
   "outputs": [],
   "source": [
    "pp = Pipeline(pipeline)"
   ]
  },
  {
   "cell_type": "code",
   "execution_count": null,
   "id": "7b7be91d-d0d2-4b85-9ab5-ece0cbaf6616",
   "metadata": {},
   "outputs": [
    {
     "data": {
      "text/plain": [
       "Pipeline: BlockDfTransform -> AddGapTransform -> MaskedDf2Tensor -> NormalizeMasked -- {'mean': tensor([  8.3339, 120.9578,   3.3807]), 'std': tensor([  7.9246, 204.0026,   4.3684])} -> to_tuple"
      ]
     },
     "execution_count": null,
     "metadata": {},
     "output_type": "execute_result"
    }
   ],
   "source": [
    "pp"
   ]
  },
  {
   "cell_type": "markdown",
   "id": "df9f46c5-7664-492e-8baa-62ed741033e1",
   "metadata": {},
   "source": [
    "### Dataloader"
   ]
  },
  {
   "cell_type": "markdown",
   "id": "b71760f8-6b1f-45be-a804-756a3946a585",
   "metadata": {},
   "source": [
    "random splitter for validation/training set"
   ]
  },
  {
   "cell_type": "code",
   "execution_count": null,
   "id": "322140fc-b896-4e38-b244-dc8525438cfa",
   "metadata": {},
   "outputs": [],
   "source": [
    "reset_seed()"
   ]
  },
  {
   "cell_type": "code",
   "execution_count": null,
   "id": "4aefcbc5-7675-4da8-9fa8-53efd933a5ce",
   "metadata": {},
   "outputs": [],
   "source": [
    "splits = RandomSplitter()(block_ids)"
   ]
  },
  {
   "cell_type": "markdown",
   "id": "ea416657-bd6b-4bd0-9970-1aee94d0b5ea",
   "metadata": {},
   "source": [
    "Repeat twice the pipeline since is the same pipeline both for training data and for labels"
   ]
  },
  {
   "cell_type": "code",
   "execution_count": null,
   "id": "2a2aea15-e568-42df-b1aa-2e72727ead1f",
   "metadata": {},
   "outputs": [],
   "source": [
    "import collections"
   ]
  },
  {
   "cell_type": "code",
   "execution_count": null,
   "id": "ef748c7f-4030-4269-b078-57834442914c",
   "metadata": {},
   "outputs": [],
   "source": [
    "def to_tuple(x):\n",
    "    return tuple(x)"
   ]
  },
  {
   "cell_type": "code",
   "execution_count": null,
   "id": "f610af8b-0ee6-41f4-8387-d5c46754de9c",
   "metadata": {},
   "outputs": [
    {
     "data": {
      "text/plain": [
       "True"
      ]
     },
     "execution_count": null,
     "metadata": {},
     "output_type": "execute_result"
    }
   ],
   "source": [
    "isinstance(tfms4[0], Sequence)"
   ]
  },
  {
   "cell_type": "code",
   "execution_count": null,
   "id": "a367a12b-df12-422d-9eb4-877eaafafc94",
   "metadata": {},
   "outputs": [],
   "source": [
    "ds = Datasets(block_ids, [pipeline, pipeline], splits=splits)"
   ]
  },
  {
   "cell_type": "code",
   "execution_count": null,
   "id": "f6d45118-0145-44ea-a796-a659ed93baa9",
   "metadata": {},
   "outputs": [],
   "source": [
    "dls = ds.dataloaders(bs=1)"
   ]
  },
  {
   "cell_type": "code",
   "execution_count": null,
   "id": "f1ee5a56-067d-4383-9f20-e0c4bc78d4ca",
   "metadata": {},
   "outputs": [
    {
     "data": {
      "text/plain": [
       "device(type='cuda', index=0)"
      ]
     },
     "execution_count": null,
     "metadata": {},
     "output_type": "execute_result"
    }
   ],
   "source": [
    "dls.device"
   ]
  },
  {
   "cell_type": "code",
   "execution_count": null,
   "id": "a7205642-c9ef-4e44-b273-262177d54e2f",
   "metadata": {},
   "outputs": [
    {
     "data": {
      "text/plain": [
       "((tensor([[[ 0.6809, -0.4015,  0.8095],\n",
       "           [ 0.6506, -0.4144,  0.7445],\n",
       "           [ 0.6380, -0.5090,  0.7070],\n",
       "           [ 0.6077, -0.5796,  0.6046],\n",
       "           [ 0.5825, -0.5929,  0.5275],\n",
       "           [ 0.5674, -0.5929,  0.4774],\n",
       "           [ 0.5295, -0.5929,  0.3698],\n",
       "           [ 0.5080, -0.5929,  0.2986],\n",
       "           [ 0.4702, -0.5929,  0.2132],\n",
       "           [ 0.3970, -0.5929,  0.0195]]], device='cuda:0'),\n",
       "  tensor([[[False, False,  True],\n",
       "           [False, False,  True],\n",
       "           [ True,  True,  True],\n",
       "           [ True,  True,  True],\n",
       "           [ True,  True,  True],\n",
       "           [ True,  True,  True],\n",
       "           [ True,  True,  True],\n",
       "           [ True,  True,  True],\n",
       "           [ True,  True,  True],\n",
       "           [ True,  True,  True]]], device='cuda:0')),\n",
       " (tensor([[[ 0.6809, -0.4015,  0.8095],\n",
       "           [ 0.6506, -0.4144,  0.7445],\n",
       "           [ 0.6380, -0.5090,  0.7070],\n",
       "           [ 0.6077, -0.5796,  0.6046],\n",
       "           [ 0.5825, -0.5929,  0.5275],\n",
       "           [ 0.5674, -0.5929,  0.4774],\n",
       "           [ 0.5295, -0.5929,  0.3698],\n",
       "           [ 0.5080, -0.5929,  0.2986],\n",
       "           [ 0.4702, -0.5929,  0.2132],\n",
       "           [ 0.3970, -0.5929,  0.0195]]], device='cuda:0'),\n",
       "  tensor([[[ True,  True,  True],\n",
       "           [False, False,  True],\n",
       "           [False, False,  True],\n",
       "           [ True,  True,  True],\n",
       "           [ True,  True,  True],\n",
       "           [ True,  True,  True],\n",
       "           [ True,  True,  True],\n",
       "           [ True,  True,  True],\n",
       "           [ True,  True,  True],\n",
       "           [ True,  True,  True]]], device='cuda:0')))"
      ]
     },
     "execution_count": null,
     "metadata": {},
     "output_type": "execute_result"
    }
   ],
   "source": [
    "dls.one_batch()"
   ]
  },
  {
   "cell_type": "code",
   "execution_count": null,
   "id": "2223f2ba-79e9-4a58-87ae-a848e8a779a7",
   "metadata": {},
   "outputs": [],
   "source": [
    "@typedispatch\n",
    "def show_batch(x: MaskedDf, y, samples, ctxs=None, max_n=6):\n",
    "    return x"
   ]
  },
  {
   "cell_type": "code",
   "execution_count": null,
   "id": "f81d21cf-c3c3-4926-bb64-067b9928a0b2",
   "metadata": {},
   "outputs": [],
   "source": [
    "# dls.show_batch()"
   ]
  },
  {
   "cell_type": "code",
   "execution_count": null,
   "id": "6bbdab5e-2970-4326-99de-1d1cbdd1b9fa",
   "metadata": {},
   "outputs": [
    {
     "data": {
      "text/plain": [
       "{tuple: [{tuple: [torch.Tensor, torch.Tensor]},\n",
       "  {tuple: [torch.Tensor, torch.Tensor]}]}"
      ]
     },
     "execution_count": null,
     "metadata": {},
     "output_type": "execute_result"
    }
   ],
   "source": [
    "dls._types"
   ]
  },
  {
   "cell_type": "code",
   "execution_count": null,
   "id": "b42bde9b-5c83-42b5-8f35-8de14472c41e",
   "metadata": {},
   "outputs": [
    {
     "data": {
      "text/plain": [
       "fastai.data.core.Datasets"
      ]
     },
     "execution_count": null,
     "metadata": {},
     "output_type": "execute_result"
    }
   ],
   "source": [
    "Datasets"
   ]
  },
  {
   "cell_type": "code",
   "execution_count": null,
   "id": "9ec4f71f-607e-476e-a89e-8d6f2b8bcc19",
   "metadata": {},
   "outputs": [],
   "source": [
    "#| export\n",
    "def make_dataloader(df, block_len, gap_len, bs=10):\n",
    "    pipeline, block_ids = imp_pipeline(df, block_len, gap_len)\n",
    "    \n",
    "    splits = RandomSplitter()(block_ids)\n",
    "    ds = Datasets(block_ids, [pipeline, pipeline], splits=splits)\n",
    "    \n",
    "    return ds.dataloaders(bs=bs)\n",
    "    "
   ]
  },
  {
   "cell_type": "code",
   "execution_count": null,
   "id": "cb1df190-83ba-4056-be7f-82d364e2dc87",
   "metadata": {},
   "outputs": [],
   "source": [
    "dls = make_dataloader(hai, 200, 10)"
   ]
  },
  {
   "cell_type": "code",
   "execution_count": null,
   "id": "3024300b-3f82-436d-ac6d-13ff7861dbf7",
   "metadata": {},
   "outputs": [
    {
     "data": {
      "text/plain": [
       "torch.Size([10, 200, 3])"
      ]
     },
     "execution_count": null,
     "metadata": {},
     "output_type": "execute_result"
    }
   ],
   "source": [
    "dls.one_batch()[0][0].shape"
   ]
  },
  {
   "cell_type": "code",
   "execution_count": null,
   "id": "1a7c86d2-e054-4dd4-89c9-26165e558390",
   "metadata": {},
   "outputs": [],
   "source": [
    "dls = dls.cpu()"
   ]
  },
  {
   "cell_type": "markdown",
   "id": "64bb7e8b-178d-4ab6-a359-5bcc010a8767",
   "metadata": {},
   "source": [
    "## Model"
   ]
  },
  {
   "cell_type": "markdown",
   "id": "e4e0999c-d959-49fa-8e8a-0ed8e53f2f5d",
   "metadata": {},
   "source": [
    "### Forward Function"
   ]
  },
  {
   "cell_type": "markdown",
   "id": "dc64e0a2-b14b-4159-af4f-c6a9fb2a3f05",
   "metadata": {},
   "source": [
    "in order to the a pytorch module we need a forward method to the kalman filter"
   ]
  },
  {
   "cell_type": "code",
   "execution_count": null,
   "id": "42d40fc6-7b8d-4e9c-9f14-70ea54629826",
   "metadata": {},
   "outputs": [],
   "source": [
    "#| export\n",
    "from meteo_imp.kalman.filter import *\n",
    "from torch.distributions import MultivariateNormal"
   ]
  },
  {
   "cell_type": "code",
   "execution_count": null,
   "id": "0ebded29-5194-4ca4-808a-fe115d705495",
   "metadata": {},
   "outputs": [],
   "source": [
    "#| export\n",
    "@patch\n",
    "def _predict_filter(self: KalmanFilter, data, mask):\n",
    "    \"\"\"Predict every obsevation using only the filter step\"\"\"\n",
    "    # use the predicted state not the filtered state!\n",
    "    obs, mask = self._parse_obs(data, mask)\n",
    "    pred_state_mean, pred_state_cov, _, _ = self._filter_all(obs, mask)\n",
    "    mean, cov = self._obs_from_state(ListMNormal(pred_state_mean.squeeze(-1), pred_state_cov))\n",
    "    \n",
    "    return ListNormal(mean, cov2std(cov))"
   ]
  },
  {
   "cell_type": "code",
   "execution_count": null,
   "id": "634980aa-b323-45cc-b2a3-bdd0ee95a4a9",
   "metadata": {},
   "outputs": [],
   "source": [
    "model = KalmanFilter.init_simple(n_dim = hai.shape[-1])"
   ]
  },
  {
   "cell_type": "code",
   "execution_count": null,
   "id": "cbbc44e6-3b50-4972-80b0-b3ff7b8e44b4",
   "metadata": {},
   "outputs": [],
   "source": [
    "model._predict_filter(*dls.one_batch()[0]);"
   ]
  },
  {
   "cell_type": "code",
   "execution_count": null,
   "id": "737a9f2a-ce54-42a3-8490-acb988138ed4",
   "metadata": {},
   "outputs": [],
   "source": [
    "#| export\n",
    "@patch\n",
    "def forward(self: KalmanFilter, masked_data: MaskedTensor):\n",
    "    data, mask = masked_data\n",
    "    assert not data.isnan().any()\n",
    "    use_smooth = self.use_smooth if hasattr(self, 'use_smooth') else True\n",
    "    \n",
    "    mean, std = (self.predict(obs=data, mask=mask, smooth=True) if use_smooth\n",
    "                        else self._predict_filter(data, mask))\n",
    "    return NormalsParams(mean, std) # to have fastai working this needs to be a tuple subclass"
   ]
  },
  {
   "cell_type": "code",
   "execution_count": null,
   "id": "f7ebde2f-19aa-4860-b665-b13865111506",
   "metadata": {},
   "outputs": [],
   "source": [
    "input = dls.one_batch()[0]\n",
    "target = dls.one_batch()[1]"
   ]
  },
  {
   "cell_type": "code",
   "execution_count": null,
   "id": "2d34397d-7720-4127-83d1-f5137c94af46",
   "metadata": {},
   "outputs": [
    {
     "data": {
      "text/plain": [
       "OrderedDict([('trans_matrix',\n",
       "              tensor([[1., 0., 0.],\n",
       "                      [0., 1., 0.],\n",
       "                      [0., 0., 1.]])),\n",
       "             ('trans_off', tensor([0., 0., 0.])),\n",
       "             ('trans_cov_raw',\n",
       "              tensor([[1., 0., 0.],\n",
       "                      [0., 1., 0.],\n",
       "                      [0., 0., 1.]])),\n",
       "             ('obs_matrix',\n",
       "              tensor([[1., 0., 0.],\n",
       "                      [0., 1., 0.],\n",
       "                      [0., 0., 1.]])),\n",
       "             ('obs_off', tensor([0., 0., 0.])),\n",
       "             ('obs_cov_raw',\n",
       "              tensor([[1., 0., 0.],\n",
       "                      [0., 1., 0.],\n",
       "                      [0., 0., 1.]])),\n",
       "             ('init_state_mean', tensor([0., 0., 0.])),\n",
       "             ('init_state_cov_raw',\n",
       "              tensor([[1., 0., 0.],\n",
       "                      [0., 1., 0.],\n",
       "                      [0., 0., 1.]]))])"
      ]
     },
     "execution_count": null,
     "metadata": {},
     "output_type": "execute_result"
    }
   ],
   "source": [
    "model.state_dict()"
   ]
  },
  {
   "cell_type": "code",
   "execution_count": null,
   "id": "5696c62a-e455-4d86-9f10-e00ea93671ac",
   "metadata": {},
   "outputs": [
    {
     "data": {
      "text/plain": [
       "torch.Size([200, 3])"
      ]
     },
     "execution_count": null,
     "metadata": {},
     "output_type": "execute_result"
    }
   ],
   "source": [
    "data = input[0][0]\n",
    "data.shape"
   ]
  },
  {
   "cell_type": "code",
   "execution_count": null,
   "id": "9d1bdfc9-2fa3-4627-94d8-0a9dda444203",
   "metadata": {},
   "outputs": [],
   "source": [
    "mask = input[1][0]"
   ]
  },
  {
   "cell_type": "code",
   "execution_count": null,
   "id": "ec17c709-bfaa-4a0e-a45d-c067671a809c",
   "metadata": {},
   "outputs": [
    {
     "data": {
      "text/plain": [
       "torch.Size([200, 3])"
      ]
     },
     "execution_count": null,
     "metadata": {},
     "output_type": "execute_result"
    }
   ],
   "source": [
    "mask.shape"
   ]
  },
  {
   "cell_type": "code",
   "execution_count": null,
   "id": "26934279-9c81-447b-8506-01b5abd7b72a",
   "metadata": {},
   "outputs": [
    {
     "data": {
      "text/plain": [
       "device(type='cpu')"
      ]
     },
     "execution_count": null,
     "metadata": {},
     "output_type": "execute_result"
    }
   ],
   "source": [
    "data.device"
   ]
  },
  {
   "cell_type": "code",
   "execution_count": null,
   "id": "83e3bbd9-8e03-440a-b13b-8b6aba7ba341",
   "metadata": {},
   "outputs": [
    {
     "data": {
      "text/plain": [
       "torch.device"
      ]
     },
     "execution_count": null,
     "metadata": {},
     "output_type": "execute_result"
    }
   ],
   "source": [
    "torch.device"
   ]
  },
  {
   "cell_type": "code",
   "execution_count": null,
   "id": "3b6b1ed8-048a-4755-8201-57eec8654cdb",
   "metadata": {},
   "outputs": [
    {
     "data": {
      "text/plain": [
       "(torch.Size([200, 3]), torch.Size([200, 3]))"
      ]
     },
     "execution_count": null,
     "metadata": {},
     "output_type": "execute_result"
    }
   ],
   "source": [
    "data.shape, mask.shape"
   ]
  },
  {
   "cell_type": "code",
   "execution_count": null,
   "id": "d3ba1aa7-ef52-4a85-b0c4-3763d621eb70",
   "metadata": {},
   "outputs": [],
   "source": [
    "model.predict(data.unsqueeze(0), mask.unsqueeze(0));"
   ]
  },
  {
   "cell_type": "code",
   "execution_count": null,
   "id": "9ef72fbc-cdef-4146-b294-8fd261c0e2c4",
   "metadata": {},
   "outputs": [],
   "source": [
    "model.use_smooth = True"
   ]
  },
  {
   "cell_type": "code",
   "execution_count": null,
   "id": "5d690cd5-44a1-45d6-9abb-ef4fb0a62314",
   "metadata": {},
   "outputs": [],
   "source": [
    "pred = model(input)"
   ]
  },
  {
   "cell_type": "code",
   "execution_count": null,
   "id": "a7bc7df7-effd-41b0-bb90-6beaa874d1e1",
   "metadata": {},
   "outputs": [
    {
     "data": {
      "text/plain": [
       "torch.Size([10, 200, 3])"
      ]
     },
     "execution_count": null,
     "metadata": {},
     "output_type": "execute_result"
    }
   ],
   "source": [
    "pred[0].shape"
   ]
  },
  {
   "cell_type": "code",
   "execution_count": null,
   "id": "ed03f415-567f-47ab-b019-b7291cee03f0",
   "metadata": {},
   "outputs": [
    {
     "data": {
      "text/plain": [
       "torch.Size([10, 200, 3])"
      ]
     },
     "execution_count": null,
     "metadata": {},
     "output_type": "execute_result"
    }
   ],
   "source": [
    "pred[1].shape"
   ]
  },
  {
   "cell_type": "code",
   "execution_count": null,
   "id": "856e7d79-e0ab-4562-aa6b-bbb68e3928d0",
   "metadata": {},
   "outputs": [],
   "source": [
    "model.use_smooth = False"
   ]
  },
  {
   "cell_type": "code",
   "execution_count": null,
   "id": "f804c6a9-34d6-48de-a5fe-c99142f5c7d5",
   "metadata": {},
   "outputs": [],
   "source": [
    "pred_filt = model(input)"
   ]
  },
  {
   "cell_type": "code",
   "execution_count": null,
   "id": "844f78fa-d55b-42c7-a46d-28831f712e94",
   "metadata": {},
   "outputs": [
    {
     "data": {
      "text/plain": [
       "torch.Size([10, 200, 3])"
      ]
     },
     "execution_count": null,
     "metadata": {},
     "output_type": "execute_result"
    }
   ],
   "source": [
    "pred_filt[1].shape"
   ]
  },
  {
   "cell_type": "code",
   "execution_count": null,
   "id": "5e89cd79-45ce-44dc-b5e1-f46e120e9a13",
   "metadata": {},
   "outputs": [
    {
     "data": {
      "text/plain": [
       "__main__.NormalsParams(mean=tensor([[[ 0.4305, -0.3543, -0.3944],\n",
       "         [ 0.5966, -0.4733, -0.5362],\n",
       "         [ 0.6621, -0.4939, -0.5718],\n",
       "         ...,\n",
       "         [ 0.4990,  0.9915,  0.1832],\n",
       "         [ 0.5420,  1.3506,  0.2599],\n",
       "         [ 0.5762,  1.6095,  0.3222]],\n",
       "\n",
       "        [[ 0.7207, -0.3664,  0.8051],\n",
       "         [ 0.9751, -0.5064,  1.0454],\n",
       "         [ 1.0404, -0.5599,  1.0553],\n",
       "         ...,\n",
       "         [ 1.4756, -0.5929,  1.4741],\n",
       "         [ 1.4541, -0.5929,  1.4270],\n",
       "         [ 1.4486, -0.5929,  1.4121]],\n",
       "\n",
       "        [[ 0.5692, -0.3595,  1.0573],\n",
       "         [ 0.7680, -0.5038,  1.4338],\n",
       "         [ 0.8193, -0.5589,  1.5195],\n",
       "         ...,\n",
       "         [ 0.8515, -0.5922, -0.4953],\n",
       "         [ 0.8453, -0.5926, -0.4927],\n",
       "         [ 0.8407, -0.5928, -0.4984]],\n",
       "\n",
       "        ...,\n",
       "\n",
       "        [[ 0.6929, -0.3371,  0.0250],\n",
       "         [ 0.9512, -0.4182,  0.0215],\n",
       "         [ 1.0457, -0.3297,  0.0227],\n",
       "         ...,\n",
       "         [ 0.9837,  0.4858,  0.4534],\n",
       "         [ 1.0299,  0.8196,  0.5178],\n",
       "         [ 1.0630,  1.0654,  0.5752]],\n",
       "\n",
       "        [[ 0.7113,  1.2972,  0.3972],\n",
       "         [ 0.9885,  1.4360,  0.6015],\n",
       "         [ 1.1002,  1.1955,  0.7029],\n",
       "         ...,\n",
       "         [ 0.6692, -0.2670, -0.0200],\n",
       "         [ 0.6757, -0.2293, -0.0086],\n",
       "         [ 0.6796, -0.2683, -0.0017]],\n",
       "\n",
       "        [[-0.6103, -0.3610, -0.1874],\n",
       "         [-0.8462, -0.5043, -0.2983],\n",
       "         [-0.9284, -0.5591, -0.3726],\n",
       "         ...,\n",
       "         [-0.3146, -0.5928, -0.6407],\n",
       "         [-0.2702, -0.5929, -0.6281],\n",
       "         [-0.2407, -0.5929, -0.6207]]], grad_fn=<SqueezeBackward1>), std=tensor([[[1.1756, 1.1756, 1.1756],\n",
       "         [1.1990, 1.1990, 1.1990],\n",
       "         [1.2024, 1.2024, 1.2024],\n",
       "         ...,\n",
       "         [1.2045, 1.2045, 1.2045],\n",
       "         [1.2133, 1.2133, 1.2133],\n",
       "         [1.2720, 1.2720, 1.2720]],\n",
       "\n",
       "        [[1.1756, 1.1756, 1.1756],\n",
       "         [1.1990, 1.1990, 1.1990],\n",
       "         [1.2024, 1.2024, 1.2024],\n",
       "         ...,\n",
       "         [1.2045, 1.2045, 1.2045],\n",
       "         [1.2133, 1.2133, 1.2133],\n",
       "         [1.2720, 1.2720, 1.2720]],\n",
       "\n",
       "        [[1.1756, 1.1756, 1.1756],\n",
       "         [1.1990, 1.1990, 1.1990],\n",
       "         [1.2024, 1.2024, 1.2024],\n",
       "         ...,\n",
       "         [1.2045, 1.2045, 1.2045],\n",
       "         [1.2133, 1.2133, 1.2133],\n",
       "         [1.2720, 1.2720, 1.2720]],\n",
       "\n",
       "        ...,\n",
       "\n",
       "        [[1.1756, 1.1756, 1.1756],\n",
       "         [1.1990, 1.1990, 1.1990],\n",
       "         [1.2024, 1.2024, 1.2024],\n",
       "         ...,\n",
       "         [1.2045, 1.2045, 1.2045],\n",
       "         [1.2133, 1.2133, 1.2133],\n",
       "         [1.2720, 1.2720, 1.2720]],\n",
       "\n",
       "        [[1.1756, 1.1756, 1.1756],\n",
       "         [1.1990, 1.1990, 1.1990],\n",
       "         [1.2024, 1.2024, 1.2024],\n",
       "         ...,\n",
       "         [1.2045, 1.2045, 1.2045],\n",
       "         [1.2133, 1.2133, 1.2133],\n",
       "         [1.2720, 1.2720, 1.2720]],\n",
       "\n",
       "        [[1.1756, 1.1756, 1.1756],\n",
       "         [1.1990, 1.1990, 1.1990],\n",
       "         [1.2024, 1.2024, 1.2024],\n",
       "         ...,\n",
       "         [1.2045, 1.2045, 1.2045],\n",
       "         [1.2133, 1.2133, 1.2133],\n",
       "         [1.2720, 1.2720, 1.2720]]], grad_fn=<SqrtBackward0>))"
      ]
     },
     "execution_count": null,
     "metadata": {},
     "output_type": "execute_result"
    }
   ],
   "source": [
    "pred"
   ]
  },
  {
   "cell_type": "code",
   "execution_count": null,
   "id": "85d82759-dae4-4d48-a213-150c8fa3d8f2",
   "metadata": {},
   "outputs": [
    {
     "data": {
      "text/plain": [
       "(__main__.NormalsParams, __main__.NormalsParams)"
      ]
     },
     "execution_count": null,
     "metadata": {},
     "output_type": "execute_result"
    }
   ],
   "source": [
    "type(pred), type(pred_filt)"
   ]
  },
  {
   "cell_type": "code",
   "execution_count": null,
   "id": "65bab279-dc65-4259-bd1f-39b5c6028cb8",
   "metadata": {},
   "outputs": [],
   "source": [
    "test_ne(pred, pred_filt)"
   ]
  },
  {
   "cell_type": "markdown",
   "id": "2051bf57-a2e3-4232-861b-fafe814b1825",
   "metadata": {},
   "source": [
    "### Loss Function"
   ]
  },
  {
   "cell_type": "markdown",
   "id": "6e75817f-2abb-4e9f-b54a-edb7ea33dc1b",
   "metadata": {},
   "source": [
    "add support for complete loss (also outside gap) and for filter loss (don't run the smooher)"
   ]
  },
  {
   "cell_type": "markdown",
   "id": "c793e684-8ce9-4393-af4d-0268f3710b7a",
   "metadata": {},
   "source": [
    "There are two ways to compute the loss, one is to do it for all predictions the other is for doing it for only the gap\n",
    "- only_gap"
   ]
  },
  {
   "cell_type": "markdown",
   "id": "2b04cee3-9086-41cb-ac08-6b908626c587",
   "metadata": {},
   "source": [
    "Play around with flatting + diagonal"
   ]
  },
  {
   "cell_type": "code",
   "execution_count": null,
   "id": "559fc5e0-3554-4efa-89a7-08a6dd44f310",
   "metadata": {},
   "outputs": [
    {
     "data": {
      "text/plain": [
       "tensor([[[ 1,  0,  0],\n",
       "         [ 0,  2,  0],\n",
       "         [ 0,  0,  3]],\n",
       "\n",
       "        [[10,  0,  0],\n",
       "         [ 0, 20,  0],\n",
       "         [ 0,  0, 30]]])"
      ]
     },
     "execution_count": null,
     "metadata": {},
     "output_type": "execute_result"
    }
   ],
   "source": [
    "a = torch.diag(torch.tensor([1,2,3]))\n",
    "d = torch.stack([a, a*10])\n",
    "m = torch.stack([a.diag(), a.diag()*10])\n",
    "d"
   ]
  },
  {
   "cell_type": "code",
   "execution_count": null,
   "id": "773c90fa-3672-43a5-b7bf-2de9b068ebe3",
   "metadata": {},
   "outputs": [
    {
     "data": {
      "text/plain": [
       "tensor([ 1,  2,  3, 10, 20, 30])"
      ]
     },
     "execution_count": null,
     "metadata": {},
     "output_type": "execute_result"
    }
   ],
   "source": [
    "m.flatten()"
   ]
  },
  {
   "cell_type": "code",
   "execution_count": null,
   "id": "c5851886-313c-4eac-87a4-4684ff9c438f",
   "metadata": {},
   "outputs": [
    {
     "data": {
      "text/plain": [
       "tensor([[[ 1,  0,  0],\n",
       "         [ 0,  2,  0],\n",
       "         [ 0,  0,  3]],\n",
       "\n",
       "        [[10,  0,  0],\n",
       "         [ 0, 20,  0],\n",
       "         [ 0,  0, 30]]])"
      ]
     },
     "execution_count": null,
     "metadata": {},
     "output_type": "execute_result"
    }
   ],
   "source": [
    "d"
   ]
  },
  {
   "cell_type": "code",
   "execution_count": null,
   "id": "72af60ed-b471-47f3-90be-2be51eb18bb0",
   "metadata": {},
   "outputs": [
    {
     "data": {
      "text/plain": [
       "tensor([ 1,  2,  3, 10, 20, 30])"
      ]
     },
     "execution_count": null,
     "metadata": {},
     "output_type": "execute_result"
    }
   ],
   "source": [
    "torch.diagonal(d, dim1=1, dim2=2).flatten()"
   ]
  },
  {
   "cell_type": "code",
   "execution_count": null,
   "id": "09c58fef-a8d8-48b1-a837-335a67158ed4",
   "metadata": {},
   "outputs": [],
   "source": [
    "means, stds = pred\n",
    "data, mask = target"
   ]
  },
  {
   "cell_type": "code",
   "execution_count": null,
   "id": "5a6bd159-499d-42b3-a8b2-9e54c98a8659",
   "metadata": {},
   "outputs": [
    {
     "data": {
      "text/plain": [
       "tensor(-5930.4453, grad_fn=<SubBackward0>)"
      ]
     },
     "execution_count": null,
     "metadata": {},
     "output_type": "execute_result"
    }
   ],
   "source": [
    "# make a big matrix with all variables and observations and compute ll\n",
    "mask = mask.flatten() \n",
    "obs = data.flatten()[mask]\n",
    "means = data.flatten()[mask]\n",
    "stds = stds.flatten()[mask] # need to support batches\n",
    "\n",
    "MultivariateNormal(means, torch.diag(stds)).log_prob(obs)"
   ]
  },
  {
   "cell_type": "code",
   "execution_count": null,
   "id": "28c38f87-5a72-42bd-847f-fb1e76ec7490",
   "metadata": {},
   "outputs": [],
   "source": [
    "#| export\n",
    "class KalmanLoss():\n",
    "    def __init__(self,\n",
    "                 only_gap:bool=True, # loss for all predictions or only gap\n",
    "                 reduction:str='sum' # one of ['sum', 'mean', 'none']\n",
    "                ):\n",
    "        store_attr()\n",
    "    \n",
    "    def __call__(self, pred: NormalsParams, target: MaskedTensor):\n",
    "        data, mask = target\n",
    "        means, stds = pred        \n",
    "        assert not stds.isnan().any()\n",
    "        losses = torch.empty(data.shape[0], device=data.device, dtype=data.dtype)\n",
    "        for i, (d, m, mean, std) in enumerate(zip(data, mask, means, stds)):\n",
    "            losses[i] = self._loss_batch(d,m,mean, std)\n",
    "        if self.reduction == 'none': return losses\n",
    "        elif self.reduction == 'mean': return losses.mean()\n",
    "        elif self.reduction == 'sum': return losses.sum()\n",
    "    \n",
    "    def _loss_batch(self, data, mask, mean, std):\n",
    "        # make a big vector with all variables and observations and compute ll\n",
    "        mask = mask.flatten() if self.only_gap else torch.fill(mask, True).flatten()\n",
    "        obs = data.flatten()[mask]\n",
    "        mean = mean.flatten()[mask]\n",
    "        std = std.flatten()[mask] \n",
    "        \n",
    "        return - MultivariateNormal(mean, torch.diag(std)).log_prob(obs)\n",
    "        "
   ]
  },
  {
   "cell_type": "code",
   "execution_count": null,
   "id": "c8654b5f-bb61-416d-966c-3f798249eee6",
   "metadata": {},
   "outputs": [],
   "source": [
    "pred = model(input)"
   ]
  },
  {
   "cell_type": "code",
   "execution_count": null,
   "id": "42ef4ee6-3337-415e-9497-2c1acce5be35",
   "metadata": {},
   "outputs": [],
   "source": [
    "data, mask = input"
   ]
  },
  {
   "cell_type": "code",
   "execution_count": null,
   "id": "7c8039ba-8807-47cb-9d7c-0ea119d01527",
   "metadata": {},
   "outputs": [
    {
     "data": {
      "text/plain": [
       "(torch.Size([10, 200, 3]), torch.Size([10, 200, 3]))"
      ]
     },
     "execution_count": null,
     "metadata": {},
     "output_type": "execute_result"
    }
   ],
   "source": [
    "data.shape, mask.shape"
   ]
  },
  {
   "cell_type": "code",
   "execution_count": null,
   "id": "17310899-b8a2-4cc5-bec8-4f7695eb2fd8",
   "metadata": {},
   "outputs": [
    {
     "data": {
      "text/plain": [
       "torch.Size([10, 200, 3])"
      ]
     },
     "execution_count": null,
     "metadata": {},
     "output_type": "execute_result"
    }
   ],
   "source": [
    "pred.mean.shape"
   ]
  },
  {
   "cell_type": "code",
   "execution_count": null,
   "id": "62e1cfdd-e80b-4ddc-9313-fd357c7ba7e2",
   "metadata": {},
   "outputs": [],
   "source": [
    "means, stds = pred"
   ]
  },
  {
   "cell_type": "code",
   "execution_count": null,
   "id": "3dcc340f-387f-4767-9ad5-10c40425e0b0",
   "metadata": {},
   "outputs": [
    {
     "data": {
      "text/plain": [
       "torch.Size([10, 200, 3])"
      ]
     },
     "execution_count": null,
     "metadata": {},
     "output_type": "execute_result"
    }
   ],
   "source": [
    "stds.shape"
   ]
  },
  {
   "cell_type": "code",
   "execution_count": null,
   "id": "43d3532f-a95e-437a-b90e-11ebb4bb2406",
   "metadata": {},
   "outputs": [
    {
     "data": {
      "text/plain": [
       "torch.Size([10, 200, 3])"
      ]
     },
     "execution_count": null,
     "metadata": {},
     "output_type": "execute_result"
    }
   ],
   "source": [
    "means.shape"
   ]
  },
  {
   "cell_type": "code",
   "execution_count": null,
   "id": "b41d785a-ba19-461e-b64d-cc7e12153cb6",
   "metadata": {},
   "outputs": [
    {
     "data": {
      "text/plain": [
       "tensor(False)"
      ]
     },
     "execution_count": null,
     "metadata": {},
     "output_type": "execute_result"
    }
   ],
   "source": [
    "data.isnan().any()"
   ]
  },
  {
   "cell_type": "code",
   "execution_count": null,
   "id": "08aa8d54-0c7a-47c0-8970-ecd4999ffd1e",
   "metadata": {},
   "outputs": [
    {
     "data": {
      "text/plain": [
       "tensor(False)"
      ]
     },
     "execution_count": null,
     "metadata": {},
     "output_type": "execute_result"
    }
   ],
   "source": [
    "mask.isnan().any()"
   ]
  },
  {
   "cell_type": "code",
   "execution_count": null,
   "id": "38b07b67-9543-4800-b566-949c542422bf",
   "metadata": {},
   "outputs": [
    {
     "data": {
      "text/plain": [
       "tensor(False)"
      ]
     },
     "execution_count": null,
     "metadata": {},
     "output_type": "execute_result"
    }
   ],
   "source": [
    "means.isnan().any()"
   ]
  },
  {
   "cell_type": "code",
   "execution_count": null,
   "id": "b473b2be-4392-4cb2-9575-1a7a057cdc1e",
   "metadata": {},
   "outputs": [
    {
     "data": {
      "text/plain": [
       "tensor(0)"
      ]
     },
     "execution_count": null,
     "metadata": {},
     "output_type": "execute_result"
    }
   ],
   "source": [
    "stds.isnan().sum()"
   ]
  },
  {
   "cell_type": "code",
   "execution_count": null,
   "id": "cb6d9dfc-1bb4-4c23-a291-d73cf9aefdfd",
   "metadata": {},
   "outputs": [
    {
     "data": {
      "text/plain": [
       "torch.Size([10, 200, 3])"
      ]
     },
     "execution_count": null,
     "metadata": {},
     "output_type": "execute_result"
    }
   ],
   "source": [
    "stds.shape"
   ]
  },
  {
   "cell_type": "code",
   "execution_count": null,
   "id": "51ea7a4b-b7b5-4182-abed-b5542cdaff48",
   "metadata": {},
   "outputs": [
    {
     "data": {
      "text/plain": [
       "(tensor(True),\n",
       " tensor([1.4142, 1.4142, 1.4142,  ..., 3.5522, 3.5522, 3.5522],\n",
       "        grad_fn=<LinalgEighBackward0>))"
      ]
     },
     "execution_count": null,
     "metadata": {},
     "output_type": "execute_result"
    }
   ],
   "source": [
    "is_posdef_eigv(torch.diag(stds.flatten()))"
   ]
  },
  {
   "cell_type": "code",
   "execution_count": null,
   "id": "72fa95ce-9fc1-4b61-855d-a27eb5ba4994",
   "metadata": {},
   "outputs": [
    {
     "data": {
      "text/plain": [
       "tensor(-9803.1621, grad_fn=<SumBackward0>)"
      ]
     },
     "execution_count": null,
     "metadata": {},
     "output_type": "execute_result"
    }
   ],
   "source": [
    "KalmanLoss(only_gap=True)(pred, target)"
   ]
  },
  {
   "cell_type": "code",
   "execution_count": null,
   "id": "83f8aae6-eb06-4772-a611-d62af0395ef3",
   "metadata": {},
   "outputs": [
    {
     "data": {
      "text/plain": [
       "tensor(-10169.9268, grad_fn=<SumBackward0>)"
      ]
     },
     "execution_count": null,
     "metadata": {},
     "output_type": "execute_result"
    }
   ],
   "source": [
    "KalmanLoss(only_gap=False)(pred, target)"
   ]
  },
  {
   "cell_type": "code",
   "execution_count": null,
   "id": "c6fa6718-c26b-48a0-bb7d-efedb0f40086",
   "metadata": {},
   "outputs": [
    {
     "data": {
      "text/plain": [
       "(device(type='cpu'), device(type='cpu'))"
      ]
     },
     "execution_count": null,
     "metadata": {},
     "output_type": "execute_result"
    }
   ],
   "source": [
    "pred.mean.device, target[0].device"
   ]
  },
  {
   "cell_type": "code",
   "execution_count": null,
   "id": "0004c085-0e0c-4914-b3fc-ed66a319d1a8",
   "metadata": {},
   "outputs": [
    {
     "data": {
      "text/plain": [
       "(torch.Size([10, 200, 3]), torch.Size([10, 200, 3]))"
      ]
     },
     "execution_count": null,
     "metadata": {},
     "output_type": "execute_result"
    }
   ],
   "source": [
    "pred.mean.shape, target[0].shape"
   ]
  },
  {
   "cell_type": "code",
   "execution_count": null,
   "id": "7a5c8b20-50f2-4a5a-b291-69e91f466480",
   "metadata": {},
   "outputs": [
    {
     "data": {
      "text/plain": [
       "torch.Size([10, 200, 3])"
      ]
     },
     "execution_count": null,
     "metadata": {},
     "output_type": "execute_result"
    }
   ],
   "source": [
    "target[0].shape"
   ]
  },
  {
   "cell_type": "code",
   "execution_count": null,
   "id": "b4ae234a-f1de-401b-9197-ffe5952d6ff0",
   "metadata": {},
   "outputs": [
    {
     "data": {
      "text/plain": [
       "tensor(-1016.9927, grad_fn=<MeanBackward0>)"
      ]
     },
     "execution_count": null,
     "metadata": {},
     "output_type": "execute_result"
    }
   ],
   "source": [
    "KalmanLoss(only_gap=False, reduction='mean')(pred, target)"
   ]
  },
  {
   "cell_type": "markdown",
   "id": "dbc02d69-7930-47b8-9543-d07998f3baa6",
   "metadata": {},
   "source": [
    "### Metrics"
   ]
  },
  {
   "cell_type": "markdown",
   "id": "6b485cfe-5fce-449b-810c-1884990f103b",
   "metadata": {},
   "source": [
    "Wrapper around fastai metrics to support masked tensors and normal distributions"
   ]
  },
  {
   "cell_type": "code",
   "execution_count": null,
   "id": "dad52498-03b4-4aac-a8d6-bf7dc6f1cab1",
   "metadata": {},
   "outputs": [],
   "source": [
    "#| export\n",
    "def to_msk_metric(metric, name):\n",
    "    def msk_metric(imp, targ):\n",
    "        return metric(imp[0], targ[0]) # first element are the means\n",
    "    msk_metric.__name__ = name\n",
    "    return msk_metric"
   ]
  },
  {
   "cell_type": "code",
   "execution_count": null,
   "id": "6e28f7a2-436a-4e7a-9e76-0ae778015e95",
   "metadata": {},
   "outputs": [],
   "source": [
    "#| export\n",
    "from fastai.metrics import *"
   ]
  },
  {
   "cell_type": "code",
   "execution_count": null,
   "id": "2cf5ca04-9708-44ba-b030-b6a00618717b",
   "metadata": {},
   "outputs": [],
   "source": [
    "#| export\n",
    "msk_rmse = to_msk_metric(rmse, 'rmse')"
   ]
  },
  {
   "cell_type": "code",
   "execution_count": null,
   "id": "5f5aab4a-cde7-4bcb-b883-9c44c6b6e8ff",
   "metadata": {},
   "outputs": [
    {
     "data": {
      "text/plain": [
       "'rmse'"
      ]
     },
     "execution_count": null,
     "metadata": {},
     "output_type": "execute_result"
    }
   ],
   "source": [
    "msk_rmse.__name__"
   ]
  },
  {
   "cell_type": "code",
   "execution_count": null,
   "id": "974d85e7-c02c-4ebe-9d50-7fea96ab5815",
   "metadata": {},
   "outputs": [
    {
     "data": {
      "text/plain": [
       "TensorBase(0.8943)"
      ]
     },
     "execution_count": null,
     "metadata": {},
     "output_type": "execute_result"
    }
   ],
   "source": [
    "msk_rmse(pred, target)"
   ]
  },
  {
   "cell_type": "code",
   "execution_count": null,
   "id": "5a00fcc0-9561-4000-8ea5-71423671d4e4",
   "metadata": {},
   "outputs": [],
   "source": [
    "#| export\n",
    "msk_r2 = to_msk_metric(R2Score(), 'r2')"
   ]
  },
  {
   "cell_type": "code",
   "execution_count": null,
   "id": "a8003a5d-4c63-4174-acb9-75c00d063bac",
   "metadata": {},
   "outputs": [
    {
     "data": {
      "text/plain": [
       "-1.0734230220457226"
      ]
     },
     "execution_count": null,
     "metadata": {},
     "output_type": "execute_result"
    }
   ],
   "source": [
    "msk_r2(pred, target)"
   ]
  },
  {
   "cell_type": "markdown",
   "id": "73470c88-47dc-4187-a208-789f24c23a3e",
   "metadata": {},
   "source": [
    "### Callback"
   ]
  },
  {
   "cell_type": "markdown",
   "id": "96c199ec-b21c-401d-bd3c-16670de8e372",
   "metadata": {},
   "source": [
    "save the model state "
   ]
  },
  {
   "cell_type": "code",
   "execution_count": null,
   "id": "c9f34e5c-1cf5-4c04-b7e0-89e2e33b9aa1",
   "metadata": {},
   "outputs": [],
   "source": [
    "#| export\n",
    "from fastai.callback.all import *"
   ]
  },
  {
   "cell_type": "code",
   "execution_count": null,
   "id": "c6bbe197-91eb-4fb2-ae15-f2d463914902",
   "metadata": {},
   "outputs": [],
   "source": [
    "#| export\n",
    "class SaveParams(Callback):\n",
    "    def __init__(self, param_name):\n",
    "        super().__init__()\n",
    "        self.params = []\n",
    "        self.param_name = param_name\n",
    "    def after_batch(self):\n",
    "        param = getattr(self.model, self.param_name).detach()\n",
    "        self.params.append(param)"
   ]
  },
  {
   "cell_type": "code",
   "execution_count": null,
   "id": "206b2efc-a26e-4ed7-b9a8-df1ce7a605b4",
   "metadata": {},
   "outputs": [],
   "source": [
    "#| export\n",
    "class SaveParams(Callback):\n",
    "    def __init__(self, param_name):\n",
    "        super().__init__()\n",
    "        self.params = []\n",
    "        self.param_name = param_name\n",
    "    def after_batch(self):\n",
    "        param = getattr(self.model, self.param_name).detach()\n",
    "        self.params.append(param)"
   ]
  },
  {
   "cell_type": "code",
   "execution_count": null,
   "id": "c2d2eb9e-eea2-40eb-918a-e8575cb20323",
   "metadata": {},
   "outputs": [],
   "source": [
    "debug_preds = []"
   ]
  },
  {
   "cell_type": "code",
   "execution_count": null,
   "id": "26d2f05f-fd23-4393-b5e8-f9800cc36f78",
   "metadata": {},
   "outputs": [],
   "source": [
    "class DebugPredCallback(Callback):\n",
    "    order = 0\n",
    "    def after_validate(self):\n",
    "        if hasattr(self, 'gather_preds'):\n",
    "            debug_preds.append(self.gather_preds.preds)"
   ]
  },
  {
   "cell_type": "markdown",
   "id": "99617495-ab91-4a00-8371-91011ba551ba",
   "metadata": {},
   "source": [
    "### Learner"
   ]
  },
  {
   "cell_type": "code",
   "execution_count": null,
   "id": "87ad92d0-4b9a-4f10-817d-c213366fe83a",
   "metadata": {},
   "outputs": [],
   "source": [
    "#| export\n",
    "from fastai.learner import * \n",
    "\n",
    "from fastai.tabular.all import *\n",
    "\n",
    "from fastai.tabular.learner import *\n",
    "\n",
    "from fastai.callback.progress import ShowGraphCallback"
   ]
  },
  {
   "cell_type": "code",
   "execution_count": null,
   "id": "8bb68031-bc19-4c2f-b82b-201939013bbc",
   "metadata": {},
   "outputs": [],
   "source": [
    "obs_cov_history = SaveParams('obs_cov')"
   ]
  },
  {
   "cell_type": "code",
   "execution_count": null,
   "id": "fdb75dd6-f0af-4c50-bc80-2436b28b4db3",
   "metadata": {},
   "outputs": [],
   "source": [
    "all_data = CollectDataCallback()"
   ]
  },
  {
   "cell_type": "code",
   "execution_count": null,
   "id": "25efc678-791b-4599-87d3-820ace3f7263",
   "metadata": {},
   "outputs": [],
   "source": [
    "model = KalmanFilter.init_random(n_dim_obs = hai.shape[1], n_dim_state = hai.shape[1]).cuda()"
   ]
  },
  {
   "cell_type": "code",
   "execution_count": null,
   "id": "be28a411-098a-4788-9e98-6b455a43f296",
   "metadata": {},
   "outputs": [],
   "source": [
    "model.use_smooth = False"
   ]
  },
  {
   "cell_type": "code",
   "execution_count": null,
   "id": "cb235adb-78de-430e-8eb4-c279347e4045",
   "metadata": {},
   "outputs": [],
   "source": [
    "# model._set_constraint('obs_cov', model.obs_cov, train=False)"
   ]
  },
  {
   "cell_type": "code",
   "execution_count": null,
   "id": "2cfc46b8-3ffd-4080-92ad-ad52e3d4a9e9",
   "metadata": {},
   "outputs": [],
   "source": [
    "pipeline, block_ids = imp_pipeline(hai[:20000], block_len, gap_len)\n",
    "    \n",
    "splits = RandomSplitter()(block_ids)\n",
    "ds = Datasets(block_ids, [pipeline, pipeline], splits=splits)"
   ]
  },
  {
   "cell_type": "code",
   "execution_count": null,
   "id": "84eb6fff-dbce-4d24-a796-558e03f9e306",
   "metadata": {},
   "outputs": [],
   "source": [
    "dls = ds.dataloaders(bs=10, device='cuda')"
   ]
  },
  {
   "cell_type": "code",
   "execution_count": null,
   "id": "db0f5e59-de01-4c9c-acc0-becfe69866a2",
   "metadata": {},
   "outputs": [
    {
     "data": {
      "text/plain": [
       "device(type='cuda', index=0)"
      ]
     },
     "execution_count": null,
     "metadata": {},
     "output_type": "execute_result"
    }
   ],
   "source": [
    "dls.one_batch()[0][0].device"
   ]
  },
  {
   "cell_type": "code",
   "execution_count": null,
   "id": "5b218c03-1a48-43a2-8822-7f6ee03cf7be",
   "metadata": {},
   "outputs": [],
   "source": [
    "input, target = dls.one_batch()"
   ]
  },
  {
   "cell_type": "code",
   "execution_count": null,
   "id": "e780d5ce-a904-4fc6-a60b-6ab6e28dc05e",
   "metadata": {},
   "outputs": [
    {
     "data": {
      "text/plain": [
       "tensor(-1169.3524, device='cuda:0', grad_fn=<SumBackward0>)"
      ]
     },
     "execution_count": null,
     "metadata": {},
     "output_type": "execute_result"
    }
   ],
   "source": [
    "pred = model(input)\n",
    "KalmanLoss()(pred, target)"
   ]
  },
  {
   "cell_type": "code",
   "execution_count": null,
   "id": "c508264f-ca12-4f8f-93cc-9245fa84e7d9",
   "metadata": {},
   "outputs": [],
   "source": [
    "learn = Learner(dls, model, loss_func=KalmanLoss(only_gap=False), cbs = [DebugPredCallback] , metrics = [msk_rmse, msk_r2])"
   ]
  },
  {
   "cell_type": "code",
   "execution_count": null,
   "id": "eef1826f-78e6-4654-a92f-dca07b2ddb7e",
   "metadata": {},
   "outputs": [
    {
     "data": {
      "text/html": [
       "\n",
       "<style>\n",
       "    /* Turns off some styling */\n",
       "    progress {\n",
       "        /* gets rid of default border in Firefox and Opera. */\n",
       "        border: none;\n",
       "        /* Needs to be in here for Safari polyfill so background images work as expected. */\n",
       "        background-size: auto;\n",
       "    }\n",
       "    progress:not([value]), progress:not([value])::-webkit-progress-bar {\n",
       "        background: repeating-linear-gradient(45deg, #7e7e7e, #7e7e7e 10px, #5c5c5c 10px, #5c5c5c 20px);\n",
       "    }\n",
       "    .progress-bar-interrupted, .progress-bar-interrupted::-webkit-progress-bar {\n",
       "        background: #F44336;\n",
       "    }\n",
       "</style>\n"
      ],
      "text/plain": [
       "<IPython.core.display.HTML object>"
      ]
     },
     "metadata": {},
     "output_type": "display_data"
    },
    {
     "data": {
      "text/html": [
       "<table border=\"1\" class=\"dataframe\">\n",
       "  <thead>\n",
       "    <tr style=\"text-align: left;\">\n",
       "      <th>epoch</th>\n",
       "      <th>train_loss</th>\n",
       "      <th>valid_loss</th>\n",
       "      <th>rmse</th>\n",
       "      <th>r2</th>\n",
       "      <th>time</th>\n",
       "    </tr>\n",
       "  </thead>\n",
       "  <tbody>\n",
       "    <tr>\n",
       "      <td>0</td>\n",
       "      <td>-353099.156250</td>\n",
       "      <td>-378935.593750</td>\n",
       "      <td>90.621750</td>\n",
       "      <td>-11517.867397</td>\n",
       "      <td>00:08</td>\n",
       "    </tr>\n",
       "  </tbody>\n",
       "</table>"
      ],
      "text/plain": [
       "<IPython.core.display.HTML object>"
      ]
     },
     "metadata": {},
     "output_type": "display_data"
    }
   ],
   "source": [
    "learn.fit(1, 1e-3)"
   ]
  },
  {
   "cell_type": "markdown",
   "id": "84002608-9491-4335-86fb-d40d3946f2ae",
   "metadata": {},
   "source": [
    "#### Float64"
   ]
  },
  {
   "cell_type": "code",
   "execution_count": null,
   "id": "69191be7-ac68-4616-8e4b-460fb786769f",
   "metadata": {},
   "outputs": [],
   "source": [
    "model64 = KalmanFilter.init_random(hai.shape[1], hai.shape[1], dtype=torch.float64).cuda()"
   ]
  },
  {
   "cell_type": "code",
   "execution_count": null,
   "id": "5bfcc6cf-a46d-4e69-a570-47adb86251d9",
   "metadata": {},
   "outputs": [],
   "source": [
    "#| export\n",
    "class Float64Callback(Callback):\n",
    "    order = Recorder.order + 10 # run after Recorder \n",
    "    def before_fit(self):\n",
    "        self.recorder.smooth_loss.val = torch.tensor(0, dtype=torch.float64) # default is a float 32"
   ]
  },
  {
   "cell_type": "code",
   "execution_count": null,
   "id": "69e1f814-b1f8-48e1-a098-e37234d4b451",
   "metadata": {},
   "outputs": [],
   "source": [
    "dls64 = make_dataloader(hai64, 10, 2, bs=10)"
   ]
  },
  {
   "cell_type": "code",
   "execution_count": null,
   "id": "a0142fdc-5c85-45d1-a13f-b2f0839b0636",
   "metadata": {},
   "outputs": [],
   "source": [
    "input64 = dls64.one_batch()[0]\n",
    "target64 = dls64.one_batch()[1]"
   ]
  },
  {
   "cell_type": "code",
   "execution_count": null,
   "id": "06e93c8b-f74d-4382-8fb2-54d83aec5fcb",
   "metadata": {},
   "outputs": [],
   "source": [
    "data64, mask64 = input64"
   ]
  },
  {
   "cell_type": "code",
   "execution_count": null,
   "id": "1cc98d35-4a67-496d-acc7-a9bd5d884a52",
   "metadata": {},
   "outputs": [
    {
     "data": {
      "text/plain": [
       "(device(type='cuda', index=0), torch.float64)"
      ]
     },
     "execution_count": null,
     "metadata": {},
     "output_type": "execute_result"
    }
   ],
   "source": [
    "data64.device, data64.dtype"
   ]
  },
  {
   "cell_type": "code",
   "execution_count": null,
   "id": "59d35c5d-ce51-476d-85ce-8502ae6d17e6",
   "metadata": {},
   "outputs": [],
   "source": [
    "model64.predict(data64);"
   ]
  },
  {
   "cell_type": "code",
   "execution_count": null,
   "id": "30e0a335-4e18-42a1-a847-baacdab94ee5",
   "metadata": {},
   "outputs": [],
   "source": [
    "pred = model64(input)"
   ]
  },
  {
   "cell_type": "code",
   "execution_count": null,
   "id": "4931c465-98fa-4a47-bd1d-4abc91cd739f",
   "metadata": {},
   "outputs": [
    {
     "data": {
      "text/plain": [
       "tensor(-337.5005, device='cuda:0', grad_fn=<SumBackward0>)"
      ]
     },
     "execution_count": null,
     "metadata": {},
     "output_type": "execute_result"
    }
   ],
   "source": [
    "KalmanLoss()(pred, target)"
   ]
  },
  {
   "cell_type": "code",
   "execution_count": null,
   "id": "ed760e90-eda7-40cb-99c6-9754b39076a7",
   "metadata": {},
   "outputs": [],
   "source": [
    "model64.use_smooth = False"
   ]
  },
  {
   "cell_type": "code",
   "execution_count": null,
   "id": "59fc2923-1419-4036-b05e-c73c34465bb6",
   "metadata": {},
   "outputs": [],
   "source": [
    "learn64 = Learner(dls64, model64, loss_func=KalmanLoss(), cbs = [Float64Callback] )"
   ]
  },
  {
   "cell_type": "code",
   "execution_count": null,
   "id": "8f8f50e9-133a-4dfe-966d-2c5650fa416a",
   "metadata": {},
   "outputs": [
    {
     "data": {
      "text/html": [
       "\n",
       "<style>\n",
       "    /* Turns off some styling */\n",
       "    progress {\n",
       "        /* gets rid of default border in Firefox and Opera. */\n",
       "        border: none;\n",
       "        /* Needs to be in here for Safari polyfill so background images work as expected. */\n",
       "        background-size: auto;\n",
       "    }\n",
       "    progress:not([value]), progress:not([value])::-webkit-progress-bar {\n",
       "        background: repeating-linear-gradient(45deg, #7e7e7e, #7e7e7e 10px, #5c5c5c 10px, #5c5c5c 20px);\n",
       "    }\n",
       "    .progress-bar-interrupted, .progress-bar-interrupted::-webkit-progress-bar {\n",
       "        background: #F44336;\n",
       "    }\n",
       "</style>\n"
      ],
      "text/plain": [
       "<IPython.core.display.HTML object>"
      ]
     },
     "metadata": {},
     "output_type": "display_data"
    },
    {
     "data": {
      "text/html": [
       "<table border=\"1\" class=\"dataframe\">\n",
       "  <thead>\n",
       "    <tr style=\"text-align: left;\">\n",
       "      <th>epoch</th>\n",
       "      <th>train_loss</th>\n",
       "      <th>valid_loss</th>\n",
       "      <th>time</th>\n",
       "    </tr>\n",
       "  </thead>\n",
       "  <tbody>\n",
       "    <tr>\n",
       "      <td>0</td>\n",
       "      <td>-475756578.212976</td>\n",
       "      <td>-503224307.875564</td>\n",
       "      <td>01:33</td>\n",
       "    </tr>\n",
       "  </tbody>\n",
       "</table>"
      ],
      "text/plain": [
       "<IPython.core.display.HTML object>"
      ]
     },
     "metadata": {},
     "output_type": "display_data"
    }
   ],
   "source": [
    "learn64.fit(1, 1e-3)"
   ]
  },
  {
   "cell_type": "markdown",
   "id": "748bb675-4e1a-4f1d-bf5b-b31bcf8d76e3",
   "metadata": {},
   "source": [
    "### Predictions"
   ]
  },
  {
   "cell_type": "markdown",
   "id": "6fd471c0-9266-4a63-bf13-e28742c3419c",
   "metadata": {},
   "source": [
    "The transformation pipeline is not working properly (there is a problem in `decode_batch` as the `_types` are more nested than the predictions, which results in an error) + the pipeline is anyway not reproducible + the test dataloaders seems that they are actually not deterministic .....\n",
    "soo reimplement everything almost from scratch\n",
    "\n",
    "see https://github.com/mone27/meteo_imp/blob/0335003405ec9bd3e3bd2641bc6d7924f34a0788/lib_nbs/kalman/10_fastai.ipynb for all details"
   ]
  },
  {
   "cell_type": "code",
   "execution_count": null,
   "id": "06b53296-e81d-463a-ab60-2150f99fc724",
   "metadata": {},
   "outputs": [],
   "source": [
    "#| export\n",
    "class NormalsDf:\n",
    "    \"\"\"DataFrames of Normal parameters (mean and std)\"\"\"\n",
    "    def __init__(self, mean, std): store_attr()\n",
    "    def tidy(self, prefix=\"\"):\n",
    "        \"\"\"Tidy version\"\"\"\n",
    "        mean = self.mean.reset_index().melt(\"time\", value_name=prefix + \"mean\")\n",
    "        std = self.std.reset_index().melt(\"time\", value_name=prefix + \"std\")\n",
    "        return pd.merge(mean, std, on=[\"time\", \"variable\"])\n",
    "    __repr__ = basic_repr(\"mean, std\")"
   ]
  },
  {
   "cell_type": "code",
   "execution_count": null,
   "id": "036aa755-553a-439a-9c11-350f4573969d",
   "metadata": {},
   "outputs": [],
   "source": [
    "pipe0, pipe1 = tfms4.fs[0,1], tfms4.fs[2,3] "
   ]
  },
  {
   "cell_type": "code",
   "execution_count": null,
   "id": "5cf9d9b7-ac34-4696-b25f-278d531c0cfa",
   "metadata": {},
   "outputs": [
    {
     "data": {
      "text/plain": [
       "((#2) [BlockDfTransform:\n",
       "encodes: (int,object) -> encodes\n",
       "decodes: ,AddGapTransform:\n",
       "encodes: (DataFrame,object) -> encodes\n",
       "decodes: ],\n",
       " (#2) [MaskedDf2Tensor:\n",
       "encodes: (MaskedDf,object) -> encodes\n",
       "decodes: (MaskedTensor,object) -> decodes\n",
       ",NormalizeMasked -- {'mean': tensor([  8.3339, 120.9578,   3.3807]), 'std': tensor([  7.9246, 204.0026,   4.3684])}:\n",
       "encodes: (MaskedTensor,object) -> encodes\n",
       "decodes: (MaskedTensor,object) -> decodes\n",
       "(NormalsParams,object) -> decodes\n",
       "])"
      ]
     },
     "execution_count": null,
     "metadata": {},
     "output_type": "execute_result"
    }
   ],
   "source": [
    "pipe0, pipe1"
   ]
  },
  {
   "cell_type": "code",
   "execution_count": null,
   "id": "43fc7416-d6a1-4376-8d2b-1948b525fee1",
   "metadata": {},
   "outputs": [],
   "source": [
    "#| export\n",
    "def preds2df(preds, targs):\n",
    "    \"\"\"Final step to decode preds by getting a dataframe\"\"\"\n",
    "    # preds this is a tuple (data, mask)\n",
    "    out = []\n",
    "    for pred, targ in zip(preds, targs):\n",
    "        # convert to dataframe using structure for\n",
    "        mean = pd.DataFrame(pred[0].squeeze(0).detach().cpu().numpy(), columns = targ.data.columns, index=targ.data.index)\n",
    "        std = pd.DataFrame(pred[1].squeeze(0).detach().cpu().numpy(), columns = targ.data.columns, index=targ.data.index)\n",
    "        out.append(NormalsDf(mean, std))\n",
    "    return out"
   ]
  },
  {
   "cell_type": "code",
   "execution_count": null,
   "id": "b45a64ab-60b0-4f48-8df8-6ee40055ba14",
   "metadata": {},
   "outputs": [],
   "source": [
    "#| export\n",
    "def predict_items(items, learn, pipe0, pipe1):\n",
    "    pipe0, pipe1 = Pipeline(pipe0), Pipeline(pipe1)\n",
    "    preds, targs, losses = [], [], []\n",
    "    for item in items:\n",
    "        targ = pipe0(item)\n",
    "        data, mask = pipe1(targ)\n",
    "        input = MaskedTensor(data.cuda().unsqueeze(0), mask.cuda().unsqueeze(0))\n",
    "        pred = learn.model(input)\n",
    "        loss = learn.loss_func(pred, input)\n",
    "        # denormalize\n",
    "        pred = pipe1.decode(pred)\n",
    "        preds.append(pred), targs.append(targ), losses.append(loss)\n",
    "        \n",
    "    return preds2df(preds, targs), targs, losses\n",
    "        "
   ]
  },
  {
   "cell_type": "code",
   "execution_count": null,
   "id": "b69146c1-1df0-407f-8746-5997f297b687",
   "metadata": {},
   "outputs": [],
   "source": [
    "preds, targs, losses = predict_items([0,1,3], learn, pipe0, pipe1)"
   ]
  },
  {
   "cell_type": "markdown",
   "id": "cccfc6c6-b667-4448-83b1-ac5826e5b76c",
   "metadata": {},
   "source": [
    "this is the same data!!"
   ]
  },
  {
   "cell_type": "code",
   "execution_count": null,
   "id": "0b1c488f-cec4-41c0-985b-08ef798eb689",
   "metadata": {},
   "outputs": [
    {
     "data": {
      "text/html": [
       "<div>\n",
       "<style scoped>\n",
       "    .dataframe tbody tr th:only-of-type {\n",
       "        vertical-align: middle;\n",
       "    }\n",
       "\n",
       "    .dataframe tbody tr th {\n",
       "        vertical-align: top;\n",
       "    }\n",
       "\n",
       "    .dataframe thead th {\n",
       "        text-align: right;\n",
       "    }\n",
       "</style>\n",
       "<table border=\"1\" class=\"dataframe\">\n",
       "  <thead>\n",
       "    <tr style=\"text-align: right;\">\n",
       "      <th></th>\n",
       "      <th>TA</th>\n",
       "      <th>SW_IN</th>\n",
       "      <th>VPD</th>\n",
       "    </tr>\n",
       "    <tr>\n",
       "      <th>time</th>\n",
       "      <th></th>\n",
       "      <th></th>\n",
       "      <th></th>\n",
       "    </tr>\n",
       "  </thead>\n",
       "  <tbody>\n",
       "    <tr>\n",
       "      <th>2000-01-01 00:30:00</th>\n",
       "      <td>True</td>\n",
       "      <td>True</td>\n",
       "      <td>True</td>\n",
       "    </tr>\n",
       "    <tr>\n",
       "      <th>2000-01-01 01:00:00</th>\n",
       "      <td>True</td>\n",
       "      <td>True</td>\n",
       "      <td>True</td>\n",
       "    </tr>\n",
       "    <tr>\n",
       "      <th>2000-01-01 01:30:00</th>\n",
       "      <td>True</td>\n",
       "      <td>True</td>\n",
       "      <td>True</td>\n",
       "    </tr>\n",
       "    <tr>\n",
       "      <th>2000-01-01 02:00:00</th>\n",
       "      <td>True</td>\n",
       "      <td>True</td>\n",
       "      <td>True</td>\n",
       "    </tr>\n",
       "    <tr>\n",
       "      <th>2000-01-01 02:30:00</th>\n",
       "      <td>True</td>\n",
       "      <td>True</td>\n",
       "      <td>True</td>\n",
       "    </tr>\n",
       "    <tr>\n",
       "      <th>2000-01-01 03:00:00</th>\n",
       "      <td>True</td>\n",
       "      <td>True</td>\n",
       "      <td>True</td>\n",
       "    </tr>\n",
       "    <tr>\n",
       "      <th>2000-01-01 03:30:00</th>\n",
       "      <td>True</td>\n",
       "      <td>True</td>\n",
       "      <td>True</td>\n",
       "    </tr>\n",
       "    <tr>\n",
       "      <th>2000-01-01 04:00:00</th>\n",
       "      <td>True</td>\n",
       "      <td>True</td>\n",
       "      <td>True</td>\n",
       "    </tr>\n",
       "    <tr>\n",
       "      <th>2000-01-01 04:30:00</th>\n",
       "      <td>True</td>\n",
       "      <td>True</td>\n",
       "      <td>True</td>\n",
       "    </tr>\n",
       "    <tr>\n",
       "      <th>2000-01-01 05:00:00</th>\n",
       "      <td>True</td>\n",
       "      <td>True</td>\n",
       "      <td>True</td>\n",
       "    </tr>\n",
       "  </tbody>\n",
       "</table>\n",
       "</div>"
      ],
      "text/plain": [
       "                       TA  SW_IN   VPD\n",
       "time                                  \n",
       "2000-01-01 00:30:00  True   True  True\n",
       "2000-01-01 01:00:00  True   True  True\n",
       "2000-01-01 01:30:00  True   True  True\n",
       "2000-01-01 02:00:00  True   True  True\n",
       "2000-01-01 02:30:00  True   True  True\n",
       "2000-01-01 03:00:00  True   True  True\n",
       "2000-01-01 03:30:00  True   True  True\n",
       "2000-01-01 04:00:00  True   True  True\n",
       "2000-01-01 04:30:00  True   True  True\n",
       "2000-01-01 05:00:00  True   True  True"
      ]
     },
     "execution_count": null,
     "metadata": {},
     "output_type": "execute_result"
    }
   ],
   "source": [
    "predict_items([0], learn, pipe0, pipe1)[1][0].data == predict_items([0], learn, pipe0, pipe1)[1][0].data"
   ]
  },
  {
   "cell_type": "markdown",
   "id": "9a1606c2-ee54-46be-8f57-dd5173134605",
   "metadata": {},
   "source": [
    "#### Plot results"
   ]
  },
  {
   "cell_type": "code",
   "execution_count": null,
   "id": "7799bf37-003f-419a-a410-6e7b1c25719c",
   "metadata": {},
   "outputs": [],
   "source": [
    "#| export\n",
    "def plot_result(pred, targ, loss, **kwargs):\n",
    "    df = pd.merge(targ.tidy(), pred.tidy(), on=[\"time\", \"variable\"])\n",
    "    # return df\n",
    "    return facet_variable(df, ys=[\"value\", \"mean\"], error=True, **kwargs).properties(title=f\"loss: {loss.item():.6f}\")"
   ]
  },
  {
   "cell_type": "code",
   "execution_count": null,
   "id": "7881fd41-e876-42a1-ba94-bfc1efd18700",
   "metadata": {},
   "outputs": [],
   "source": [
    "y = \"mean\""
   ]
  },
  {
   "cell_type": "code",
   "execution_count": null,
   "id": "f4bd8f4e-a59e-4b1a-8e30-1cb2f0fab6f6",
   "metadata": {},
   "outputs": [
    {
     "name": "stdout",
     "output_type": "stream",
     "text": [
      "mean\n",
      "mean\n",
      "mean\n"
     ]
    },
    {
     "data": {
      "text/html": [
       "\n",
       "<div id=\"altair-viz-0c0e7f4c5f54464ebca75d910372a759\"></div>\n",
       "<script type=\"text/javascript\">\n",
       "  var VEGA_DEBUG = (typeof VEGA_DEBUG == \"undefined\") ? {} : VEGA_DEBUG;\n",
       "  (function(spec, embedOpt){\n",
       "    let outputDiv = document.currentScript.previousElementSibling;\n",
       "    if (outputDiv.id !== \"altair-viz-0c0e7f4c5f54464ebca75d910372a759\") {\n",
       "      outputDiv = document.getElementById(\"altair-viz-0c0e7f4c5f54464ebca75d910372a759\");\n",
       "    }\n",
       "    const paths = {\n",
       "      \"vega\": \"https://cdn.jsdelivr.net/npm//vega@5?noext\",\n",
       "      \"vega-lib\": \"https://cdn.jsdelivr.net/npm//vega-lib?noext\",\n",
       "      \"vega-lite\": \"https://cdn.jsdelivr.net/npm//vega-lite@5.2.0?noext\",\n",
       "      \"vega-embed\": \"https://cdn.jsdelivr.net/npm//vega-embed@6?noext\",\n",
       "    };\n",
       "\n",
       "    function maybeLoadScript(lib, version) {\n",
       "      var key = `${lib.replace(\"-\", \"\")}_version`;\n",
       "      return (VEGA_DEBUG[key] == version) ?\n",
       "        Promise.resolve(paths[lib]) :\n",
       "        new Promise(function(resolve, reject) {\n",
       "          var s = document.createElement('script');\n",
       "          document.getElementsByTagName(\"head\")[0].appendChild(s);\n",
       "          s.async = true;\n",
       "          s.onload = () => {\n",
       "            VEGA_DEBUG[key] = version;\n",
       "            return resolve(paths[lib]);\n",
       "          };\n",
       "          s.onerror = () => reject(`Error loading script: ${paths[lib]}`);\n",
       "          s.src = paths[lib];\n",
       "        });\n",
       "    }\n",
       "\n",
       "    function showError(err) {\n",
       "      outputDiv.innerHTML = `<div class=\"error\" style=\"color:red;\">${err}</div>`;\n",
       "      throw err;\n",
       "    }\n",
       "\n",
       "    function displayChart(vegaEmbed) {\n",
       "      vegaEmbed(outputDiv, spec, embedOpt)\n",
       "        .catch(err => showError(`Javascript Error: ${err.message}<br>This usually means there's a typo in your chart specification. See the javascript console for the full traceback.`));\n",
       "    }\n",
       "\n",
       "    if(typeof define === \"function\" && define.amd) {\n",
       "      requirejs.config({paths});\n",
       "      require([\"vega-embed\"], displayChart, err => showError(`Error loading script: ${err.message}`));\n",
       "    } else {\n",
       "      maybeLoadScript(\"vega\", \"5\")\n",
       "        .then(() => maybeLoadScript(\"vega-lite\", \"5.2.0\"))\n",
       "        .then(() => maybeLoadScript(\"vega-embed\", \"6\"))\n",
       "        .catch(showError)\n",
       "        .then(() => displayChart(vegaEmbed));\n",
       "    }\n",
       "  })({\"config\": {\"view\": {\"continuousWidth\": 400, \"continuousHeight\": 300}}, \"vconcat\": [{\"hconcat\": [{\"layer\": [{\"mark\": {\"type\": \"point\", \"color\": \"black\", \"fillOpacity\": 1, \"strokeWidth\": 1}, \"encoding\": {\"fill\": {\"field\": \"is_present\", \"legend\": {\"title\": [\"Observed data\"]}, \"scale\": {\"range\": [\"black\", \"#ffffff00\"]}, \"type\": \"nominal\"}, \"shape\": {\"field\": \"is_present\", \"type\": \"nominal\"}, \"x\": {\"field\": \"time\", \"type\": \"temporal\"}, \"y\": {\"field\": \"value\", \"scale\": {\"zero\": false}, \"title\": \"TA\", \"type\": \"quantitative\"}}}, {\"layer\": [{\"mark\": \"errorband\", \"encoding\": {\"color\": {\"field\": \"variable\", \"legend\": {\"title\": [\"Line: pred. mean\", \"area: +/- 2 std\"]}, \"type\": \"nominal\"}, \"x\": {\"field\": \"time\", \"type\": \"temporal\"}, \"y\": {\"field\": \"err_low\", \"scale\": {\"zero\": false}, \"title\": \"TA\", \"type\": \"quantitative\"}, \"y2\": {\"field\": \"err_high\"}}, \"name\": \"view_49\"}, {\"mark\": \"line\", \"encoding\": {\"color\": {\"field\": \"variable\", \"type\": \"nominal\"}, \"x\": {\"field\": \"time\", \"type\": \"temporal\"}, \"y\": {\"field\": \"mean\", \"scale\": {\"zero\": false}, \"title\": \"TA\", \"type\": \"quantitative\"}}}]}], \"height\": 150, \"title\": \"TA\", \"width\": 200}, {\"layer\": [{\"mark\": {\"type\": \"point\", \"color\": \"black\", \"fillOpacity\": 1, \"strokeWidth\": 1}, \"encoding\": {\"fill\": {\"field\": \"is_present\", \"legend\": {\"title\": [\"Observed data\"]}, \"scale\": {\"range\": [\"black\", \"#ffffff00\"]}, \"type\": \"nominal\"}, \"shape\": {\"field\": \"is_present\", \"type\": \"nominal\"}, \"x\": {\"field\": \"time\", \"type\": \"temporal\"}, \"y\": {\"field\": \"value\", \"scale\": {\"zero\": false}, \"title\": \"SW_IN\", \"type\": \"quantitative\"}}}, {\"layer\": [{\"mark\": \"errorband\", \"encoding\": {\"color\": {\"field\": \"variable\", \"legend\": {\"title\": [\"Line: pred. mean\", \"area: +/- 2 std\"]}, \"type\": \"nominal\"}, \"x\": {\"field\": \"time\", \"type\": \"temporal\"}, \"y\": {\"field\": \"err_low\", \"scale\": {\"zero\": false}, \"title\": \"SW_IN\", \"type\": \"quantitative\"}, \"y2\": {\"field\": \"err_high\"}}, \"name\": \"view_50\"}, {\"mark\": \"line\", \"encoding\": {\"color\": {\"field\": \"variable\", \"type\": \"nominal\"}, \"x\": {\"field\": \"time\", \"type\": \"temporal\"}, \"y\": {\"field\": \"mean\", \"scale\": {\"zero\": false}, \"title\": \"SW_IN\", \"type\": \"quantitative\"}}}]}], \"data\": {\"name\": \"data-e589b2563ad823fbfbc71bba13fc388d\"}, \"height\": 150, \"title\": \"SW_IN\", \"width\": 200}, {\"layer\": [{\"mark\": {\"type\": \"point\", \"color\": \"black\", \"fillOpacity\": 1, \"strokeWidth\": 1}, \"encoding\": {\"fill\": {\"field\": \"is_present\", \"legend\": {\"title\": [\"Observed data\"]}, \"scale\": {\"range\": [\"black\", \"#ffffff00\"]}, \"type\": \"nominal\"}, \"shape\": {\"field\": \"is_present\", \"type\": \"nominal\"}, \"x\": {\"field\": \"time\", \"type\": \"temporal\"}, \"y\": {\"field\": \"value\", \"scale\": {\"zero\": false}, \"title\": \"VPD\", \"type\": \"quantitative\"}}}, {\"layer\": [{\"mark\": \"errorband\", \"encoding\": {\"color\": {\"field\": \"variable\", \"legend\": {\"title\": [\"Line: pred. mean\", \"area: +/- 2 std\"]}, \"type\": \"nominal\"}, \"x\": {\"field\": \"time\", \"type\": \"temporal\"}, \"y\": {\"field\": \"err_low\", \"scale\": {\"zero\": false}, \"title\": \"VPD\", \"type\": \"quantitative\"}, \"y2\": {\"field\": \"err_high\"}}, \"name\": \"view_51\"}, {\"mark\": \"line\", \"encoding\": {\"color\": {\"field\": \"variable\", \"type\": \"nominal\"}, \"x\": {\"field\": \"time\", \"type\": \"temporal\"}, \"y\": {\"field\": \"mean\", \"scale\": {\"zero\": false}, \"title\": \"VPD\", \"type\": \"quantitative\"}}}]}], \"data\": {\"name\": \"data-421b342817acd21dae4b0f3de3bbb562\"}, \"height\": 150, \"title\": \"VPD\", \"width\": 200}]}], \"data\": {\"name\": \"data-0b7c18246d66731c1f30e1f648a99378\"}, \"params\": [{\"name\": \"param_81\", \"select\": {\"type\": \"interval\", \"encodings\": [\"x\"]}, \"bind\": \"scales\", \"views\": [\"view_49\", \"view_50\", \"view_51\"]}], \"title\": \"loss: 1.000000\", \"$schema\": \"https://vega.github.io/schema/vega-lite/v5.2.0.json\", \"datasets\": {\"data-0b7c18246d66731c1f30e1f648a99378\": [{\"time\": \"2000-01-01T00:30:00\", \"variable\": \"TA\", \"value\": -0.6000000238418579, \"is_present\": true, \"mean\": 20.781414031982422, \"std\": 9.719761848449707, \"err_low\": 1.3418903350830078, \"err_high\": 40.22093963623047}, {\"time\": \"2000-01-01T01:00:00\", \"variable\": \"TA\", \"value\": -0.6499999761581421, \"is_present\": true, \"mean\": -148.38612365722656, \"std\": 10.596948623657227, \"err_low\": -169.58001708984375, \"err_high\": -127.19223022460938}, {\"time\": \"2000-01-01T01:30:00\", \"variable\": \"TA\", \"value\": -0.5799999833106995, \"is_present\": true, \"mean\": -273.6077880859375, \"std\": 9.939826965332031, \"err_low\": -293.4874267578125, \"err_high\": -253.72813415527344}, {\"time\": \"2000-01-01T02:00:00\", \"variable\": \"TA\", \"value\": -0.5099999904632568, \"is_present\": true, \"mean\": -287.93475341796875, \"std\": 9.94400405883789, \"err_low\": -307.82275390625, \"err_high\": -268.0467529296875}, {\"time\": \"2000-01-01T02:30:00\", \"variable\": \"TA\", \"value\": -0.49000000953674316, \"is_present\": true, \"mean\": -293.3094177246094, \"std\": 9.937422752380371, \"err_low\": -313.18426513671875, \"err_high\": -273.4345703125}, {\"time\": \"2000-01-01T03:00:00\", \"variable\": \"TA\", \"value\": -0.4000000059604645, \"is_present\": true, \"mean\": -293.699462890625, \"std\": 9.934409141540527, \"err_low\": -313.5682678222656, \"err_high\": -273.8306579589844}, {\"time\": \"2000-01-01T03:30:00\", \"variable\": \"TA\", \"value\": -0.36000001430511475, \"is_present\": false, \"mean\": -293.31671142578125, \"std\": 9.939554214477539, \"err_low\": -313.1958312988281, \"err_high\": -273.4375915527344}, {\"time\": \"2000-01-01T04:00:00\", \"variable\": \"TA\", \"value\": -0.3499999940395355, \"is_present\": false, \"mean\": -567.5921630859375, \"std\": 14.97175121307373, \"err_low\": -597.53564453125, \"err_high\": -537.648681640625}, {\"time\": \"2000-01-01T04:30:00\", \"variable\": \"TA\", \"value\": -0.2800000011920929, \"is_present\": true, \"mean\": -1093.8115234375, \"std\": 26.180858612060547, \"err_low\": -1146.1732177734375, \"err_high\": -1041.4498291015625}, {\"time\": \"2000-01-01T05:00:00\", \"variable\": \"TA\", \"value\": -0.27000001072883606, \"is_present\": true, \"mean\": -264.1253662109375, \"std\": 10.60876178741455, \"err_low\": -285.3428955078125, \"err_high\": -242.9078369140625}], \"data-e589b2563ad823fbfbc71bba13fc388d\": [{\"time\": \"2000-01-01T00:30:00\", \"variable\": \"SW_IN\", \"value\": 0.0, \"is_present\": true, \"mean\": 463.0891418457031, \"std\": 416.4496154785156, \"err_low\": -369.8100891113281, \"err_high\": 1295.9884033203125}, {\"time\": \"2000-01-01T01:00:00\", \"variable\": \"SW_IN\", \"value\": 0.0, \"is_present\": true, \"mean\": -7233.91650390625, \"std\": 486.5350646972656, \"err_low\": -8206.986328125, \"err_high\": -6260.84619140625}, {\"time\": \"2000-01-01T01:30:00\", \"variable\": \"SW_IN\", \"value\": 0.0, \"is_present\": true, \"mean\": -12224.35546875, \"std\": 464.7389831542969, \"err_low\": -13153.8330078125, \"err_high\": -11294.8779296875}, {\"time\": \"2000-01-01T02:00:00\", \"variable\": \"SW_IN\", \"value\": 0.0, \"is_present\": true, \"mean\": -12870.408203125, \"std\": 464.8800354003906, \"err_low\": -13800.16796875, \"err_high\": -11940.6484375}, {\"time\": \"2000-01-01T02:30:00\", \"variable\": \"SW_IN\", \"value\": 0.0, \"is_present\": true, \"mean\": -13080.51171875, \"std\": 464.6015625, \"err_low\": -14009.71484375, \"err_high\": -12151.30859375}, {\"time\": \"2000-01-01T03:00:00\", \"variable\": \"SW_IN\", \"value\": 0.0, \"is_present\": true, \"mean\": -13101.55859375, \"std\": 464.5009765625, \"err_low\": -14030.560546875, \"err_high\": -12172.556640625}, {\"time\": \"2000-01-01T03:30:00\", \"variable\": \"SW_IN\", \"value\": 0.0, \"is_present\": false, \"mean\": -13083.484375, \"std\": 464.73858642578125, \"err_low\": -14012.9619140625, \"err_high\": -12154.0068359375}, {\"time\": \"2000-01-01T04:00:00\", \"variable\": \"SW_IN\", \"value\": 0.0, \"is_present\": false, \"mean\": -25189.212890625, \"std\": 678.0774536132812, \"err_low\": -26545.3671875, \"err_high\": -23833.05859375}, {\"time\": \"2000-01-01T04:30:00\", \"variable\": \"SW_IN\", \"value\": 0.0, \"is_present\": true, \"mean\": -47789.1015625, \"std\": 1145.0150146484375, \"err_low\": -50079.1328125, \"err_high\": -45499.0703125}, {\"time\": \"2000-01-01T05:00:00\", \"variable\": \"SW_IN\", \"value\": 0.0, \"is_present\": true, \"mean\": -11873.794921875, \"std\": 488.07257080078125, \"err_low\": -12849.9404296875, \"err_high\": -10897.6494140625}], \"data-421b342817acd21dae4b0f3de3bbb562\": [{\"time\": \"2000-01-01T00:30:00\", \"variable\": \"VPD\", \"value\": 0.22200000286102295, \"is_present\": true, \"mean\": 13.352357864379883, \"std\": 9.839052200317383, \"err_low\": -6.325746536254883, \"err_high\": 33.03046417236328}, {\"time\": \"2000-01-01T01:00:00\", \"variable\": \"VPD\", \"value\": 0.12200000137090683, \"is_present\": true, \"mean\": -168.601318359375, \"std\": 11.87657642364502, \"err_low\": -192.35447692871094, \"err_high\": -144.84815979003906}, {\"time\": \"2000-01-01T01:30:00\", \"variable\": \"VPD\", \"value\": 0.09000000357627869, \"is_present\": true, \"mean\": -283.6062316894531, \"std\": 11.407477378845215, \"err_low\": -306.4211730957031, \"err_high\": -260.7912902832031}, {\"time\": \"2000-01-01T02:00:00\", \"variable\": \"VPD\", \"value\": 0.10999999940395355, \"is_present\": true, \"mean\": -298.9312744140625, \"std\": 11.410417556762695, \"err_low\": -321.7521057128906, \"err_high\": -276.1104431152344}, {\"time\": \"2000-01-01T02:30:00\", \"variable\": \"VPD\", \"value\": 0.10199999809265137, \"is_present\": true, \"mean\": -303.7626037597656, \"std\": 11.404163360595703, \"err_low\": -326.5709228515625, \"err_high\": -280.95428466796875}, {\"time\": \"2000-01-01T03:00:00\", \"variable\": \"VPD\", \"value\": 0.11100000143051147, \"is_present\": true, \"mean\": -304.2798156738281, \"std\": 11.401996612548828, \"err_low\": -327.08380126953125, \"err_high\": -281.475830078125}, {\"time\": \"2000-01-01T03:30:00\", \"variable\": \"VPD\", \"value\": 0.10899999737739563, \"is_present\": true, \"mean\": -303.85162353515625, \"std\": 11.407413482666016, \"err_low\": -326.66644287109375, \"err_high\": -281.03680419921875}, {\"time\": \"2000-01-01T04:00:00\", \"variable\": \"VPD\", \"value\": 0.10700000077486038, \"is_present\": true, \"mean\": -587.7825317382812, \"std\": 16.254329681396484, \"err_low\": -620.2911987304688, \"err_high\": -555.2738647460938}, {\"time\": \"2000-01-01T04:30:00\", \"variable\": \"VPD\", \"value\": 0.12200000137090683, \"is_present\": true, \"mean\": -1115.6263427734375, \"std\": 26.99294662475586, \"err_low\": -1169.6121826171875, \"err_high\": -1061.6405029296875}, {\"time\": \"2000-01-01T05:00:00\", \"variable\": \"VPD\", \"value\": 0.1379999965429306, \"is_present\": true, \"mean\": -275.7076721191406, \"std\": 11.916023254394531, \"err_low\": -299.53973388671875, \"err_high\": -251.87562561035156}]}}, {\"mode\": \"vega-lite\"});\n",
       "</script>"
      ],
      "text/plain": [
       "alt.VConcatChart(...)"
      ]
     },
     "execution_count": null,
     "metadata": {},
     "output_type": "execute_result"
    }
   ],
   "source": [
    "plot_result(preds[0], targs[0], torch.tensor(1))"
   ]
  },
  {
   "cell_type": "code",
   "execution_count": null,
   "id": "15082351-51f0-4139-9426-4ae2c64a94cb",
   "metadata": {},
   "outputs": [],
   "source": [
    "#| export\n",
    "def plot_results(preds, targs, losses, **kwargs):\n",
    "    plots = [plot_result(targ, pred, loss, n_cols=1, **kwargs) for targ, pred, loss in zip(preds, targs, losses)]\n",
    "    return alt.hconcat(*plots)"
   ]
  },
  {
   "cell_type": "code",
   "execution_count": null,
   "id": "6eb4485c-8e03-437e-8ed5-bc61a5c170af",
   "metadata": {},
   "outputs": [
    {
     "data": {
      "text/html": [
       "\n",
       "<div id=\"altair-viz-4ead3a2ab2314794b5ca2c7e555933b6\"></div>\n",
       "<script type=\"text/javascript\">\n",
       "  var VEGA_DEBUG = (typeof VEGA_DEBUG == \"undefined\") ? {} : VEGA_DEBUG;\n",
       "  (function(spec, embedOpt){\n",
       "    let outputDiv = document.currentScript.previousElementSibling;\n",
       "    if (outputDiv.id !== \"altair-viz-4ead3a2ab2314794b5ca2c7e555933b6\") {\n",
       "      outputDiv = document.getElementById(\"altair-viz-4ead3a2ab2314794b5ca2c7e555933b6\");\n",
       "    }\n",
       "    const paths = {\n",
       "      \"vega\": \"https://cdn.jsdelivr.net/npm//vega@5?noext\",\n",
       "      \"vega-lib\": \"https://cdn.jsdelivr.net/npm//vega-lib?noext\",\n",
       "      \"vega-lite\": \"https://cdn.jsdelivr.net/npm//vega-lite@5.2.0?noext\",\n",
       "      \"vega-embed\": \"https://cdn.jsdelivr.net/npm//vega-embed@6?noext\",\n",
       "    };\n",
       "\n",
       "    function maybeLoadScript(lib, version) {\n",
       "      var key = `${lib.replace(\"-\", \"\")}_version`;\n",
       "      return (VEGA_DEBUG[key] == version) ?\n",
       "        Promise.resolve(paths[lib]) :\n",
       "        new Promise(function(resolve, reject) {\n",
       "          var s = document.createElement('script');\n",
       "          document.getElementsByTagName(\"head\")[0].appendChild(s);\n",
       "          s.async = true;\n",
       "          s.onload = () => {\n",
       "            VEGA_DEBUG[key] = version;\n",
       "            return resolve(paths[lib]);\n",
       "          };\n",
       "          s.onerror = () => reject(`Error loading script: ${paths[lib]}`);\n",
       "          s.src = paths[lib];\n",
       "        });\n",
       "    }\n",
       "\n",
       "    function showError(err) {\n",
       "      outputDiv.innerHTML = `<div class=\"error\" style=\"color:red;\">${err}</div>`;\n",
       "      throw err;\n",
       "    }\n",
       "\n",
       "    function displayChart(vegaEmbed) {\n",
       "      vegaEmbed(outputDiv, spec, embedOpt)\n",
       "        .catch(err => showError(`Javascript Error: ${err.message}<br>This usually means there's a typo in your chart specification. See the javascript console for the full traceback.`));\n",
       "    }\n",
       "\n",
       "    if(typeof define === \"function\" && define.amd) {\n",
       "      requirejs.config({paths});\n",
       "      require([\"vega-embed\"], displayChart, err => showError(`Error loading script: ${err.message}`));\n",
       "    } else {\n",
       "      maybeLoadScript(\"vega\", \"5\")\n",
       "        .then(() => maybeLoadScript(\"vega-lite\", \"5.2.0\"))\n",
       "        .then(() => maybeLoadScript(\"vega-embed\", \"6\"))\n",
       "        .catch(showError)\n",
       "        .then(() => displayChart(vegaEmbed));\n",
       "    }\n",
       "  })({\"config\": {\"view\": {\"continuousWidth\": 400, \"continuousHeight\": 300}}, \"hconcat\": [{\"vconcat\": [{\"hconcat\": [{\"layer\": [{\"mark\": {\"type\": \"point\", \"color\": \"black\", \"fillOpacity\": 1, \"strokeWidth\": 1}, \"encoding\": {\"fill\": {\"field\": \"is_present\", \"legend\": {\"title\": [\"Observed data\"]}, \"scale\": {\"range\": [\"black\", \"#ffffff00\"]}, \"type\": \"nominal\"}, \"shape\": {\"field\": \"is_present\", \"type\": \"nominal\"}, \"x\": {\"field\": \"time\", \"type\": \"temporal\"}, \"y\": {\"field\": \"value\", \"scale\": {\"zero\": false}, \"title\": \"TA\", \"type\": \"quantitative\"}}}, {\"layer\": [{\"mark\": \"errorband\", \"encoding\": {\"color\": {\"field\": \"variable\", \"legend\": {\"title\": [\"Line: pred. mean\", \"area: +/- 2 std\"]}, \"type\": \"nominal\"}, \"x\": {\"field\": \"time\", \"type\": \"temporal\"}, \"y\": {\"field\": \"err_low\", \"scale\": {\"zero\": false}, \"title\": \"TA\", \"type\": \"quantitative\"}, \"y2\": {\"field\": \"err_high\"}}, \"name\": \"view_12\"}, {\"mark\": \"line\", \"encoding\": {\"color\": {\"field\": \"variable\", \"type\": \"nominal\"}, \"x\": {\"field\": \"time\", \"type\": \"temporal\"}, \"y\": {\"field\": \"value\", \"scale\": {\"zero\": false}, \"title\": \"TA\", \"type\": \"quantitative\"}}}]}], \"height\": 150, \"title\": \"TA\", \"width\": 200}], \"data\": {\"name\": \"data-e11fe8c7dc4cf48be10fcbc63ccfee83\"}}, {\"hconcat\": [{\"layer\": [{\"mark\": {\"type\": \"point\", \"color\": \"black\", \"fillOpacity\": 1, \"strokeWidth\": 1}, \"encoding\": {\"fill\": {\"field\": \"is_present\", \"legend\": {\"title\": [\"Observed data\"]}, \"scale\": {\"range\": [\"black\", \"#ffffff00\"]}, \"type\": \"nominal\"}, \"shape\": {\"field\": \"is_present\", \"type\": \"nominal\"}, \"x\": {\"field\": \"time\", \"type\": \"temporal\"}, \"y\": {\"field\": \"value\", \"scale\": {\"zero\": false}, \"title\": \"SW_IN\", \"type\": \"quantitative\"}}}, {\"layer\": [{\"mark\": \"errorband\", \"encoding\": {\"color\": {\"field\": \"variable\", \"legend\": {\"title\": [\"Line: pred. mean\", \"area: +/- 2 std\"]}, \"type\": \"nominal\"}, \"x\": {\"field\": \"time\", \"type\": \"temporal\"}, \"y\": {\"field\": \"err_low\", \"scale\": {\"zero\": false}, \"title\": \"SW_IN\", \"type\": \"quantitative\"}, \"y2\": {\"field\": \"err_high\"}}, \"name\": \"view_13\"}, {\"mark\": \"line\", \"encoding\": {\"color\": {\"field\": \"variable\", \"type\": \"nominal\"}, \"x\": {\"field\": \"time\", \"type\": \"temporal\"}, \"y\": {\"field\": \"value\", \"scale\": {\"zero\": false}, \"title\": \"SW_IN\", \"type\": \"quantitative\"}}}]}], \"height\": 150, \"title\": \"SW_IN\", \"width\": 200}], \"data\": {\"name\": \"data-caad5ec239b52c33a75311f5d3cc9016\"}}, {\"hconcat\": [{\"layer\": [{\"mark\": {\"type\": \"point\", \"color\": \"black\", \"fillOpacity\": 1, \"strokeWidth\": 1}, \"encoding\": {\"fill\": {\"field\": \"is_present\", \"legend\": {\"title\": [\"Observed data\"]}, \"scale\": {\"range\": [\"black\", \"#ffffff00\"]}, \"type\": \"nominal\"}, \"shape\": {\"field\": \"is_present\", \"type\": \"nominal\"}, \"x\": {\"field\": \"time\", \"type\": \"temporal\"}, \"y\": {\"field\": \"value\", \"scale\": {\"zero\": false}, \"title\": \"VPD\", \"type\": \"quantitative\"}}}, {\"layer\": [{\"mark\": \"errorband\", \"encoding\": {\"color\": {\"field\": \"variable\", \"legend\": {\"title\": [\"Line: pred. mean\", \"area: +/- 2 std\"]}, \"type\": \"nominal\"}, \"x\": {\"field\": \"time\", \"type\": \"temporal\"}, \"y\": {\"field\": \"err_low\", \"scale\": {\"zero\": false}, \"title\": \"VPD\", \"type\": \"quantitative\"}, \"y2\": {\"field\": \"err_high\"}}, \"name\": \"view_14\"}, {\"mark\": \"line\", \"encoding\": {\"color\": {\"field\": \"variable\", \"type\": \"nominal\"}, \"x\": {\"field\": \"time\", \"type\": \"temporal\"}, \"y\": {\"field\": \"value\", \"scale\": {\"zero\": false}, \"title\": \"VPD\", \"type\": \"quantitative\"}}}]}], \"height\": 150, \"title\": \"VPD\", \"width\": 200}], \"data\": {\"name\": \"data-5ccf27e1f8aa90cec49f0e620cea071d\"}}], \"title\": \"loss: -33192.714844\"}, {\"vconcat\": [{\"hconcat\": [{\"layer\": [{\"mark\": {\"type\": \"point\", \"color\": \"black\", \"fillOpacity\": 1, \"strokeWidth\": 1}, \"encoding\": {\"fill\": {\"field\": \"is_present\", \"legend\": {\"title\": [\"Observed data\"]}, \"scale\": {\"range\": [\"black\", \"#ffffff00\"]}, \"type\": \"nominal\"}, \"shape\": {\"field\": \"is_present\", \"type\": \"nominal\"}, \"x\": {\"field\": \"time\", \"type\": \"temporal\"}, \"y\": {\"field\": \"value\", \"scale\": {\"zero\": false}, \"title\": \"TA\", \"type\": \"quantitative\"}}}, {\"layer\": [{\"mark\": \"errorband\", \"encoding\": {\"color\": {\"field\": \"variable\", \"legend\": {\"title\": [\"Line: pred. mean\", \"area: +/- 2 std\"]}, \"type\": \"nominal\"}, \"x\": {\"field\": \"time\", \"type\": \"temporal\"}, \"y\": {\"field\": \"err_low\", \"scale\": {\"zero\": false}, \"title\": \"TA\", \"type\": \"quantitative\"}, \"y2\": {\"field\": \"err_high\"}}, \"name\": \"view_15\"}, {\"mark\": \"line\", \"encoding\": {\"color\": {\"field\": \"variable\", \"type\": \"nominal\"}, \"x\": {\"field\": \"time\", \"type\": \"temporal\"}, \"y\": {\"field\": \"value\", \"scale\": {\"zero\": false}, \"title\": \"TA\", \"type\": \"quantitative\"}}}]}], \"height\": 150, \"title\": \"TA\", \"width\": 200}], \"data\": {\"name\": \"data-b65c3c5074e05a1718d48e2e3d5251e2\"}}, {\"hconcat\": [{\"layer\": [{\"mark\": {\"type\": \"point\", \"color\": \"black\", \"fillOpacity\": 1, \"strokeWidth\": 1}, \"encoding\": {\"fill\": {\"field\": \"is_present\", \"legend\": {\"title\": [\"Observed data\"]}, \"scale\": {\"range\": [\"black\", \"#ffffff00\"]}, \"type\": \"nominal\"}, \"shape\": {\"field\": \"is_present\", \"type\": \"nominal\"}, \"x\": {\"field\": \"time\", \"type\": \"temporal\"}, \"y\": {\"field\": \"value\", \"scale\": {\"zero\": false}, \"title\": \"SW_IN\", \"type\": \"quantitative\"}}}, {\"layer\": [{\"mark\": \"errorband\", \"encoding\": {\"color\": {\"field\": \"variable\", \"legend\": {\"title\": [\"Line: pred. mean\", \"area: +/- 2 std\"]}, \"type\": \"nominal\"}, \"x\": {\"field\": \"time\", \"type\": \"temporal\"}, \"y\": {\"field\": \"err_low\", \"scale\": {\"zero\": false}, \"title\": \"SW_IN\", \"type\": \"quantitative\"}, \"y2\": {\"field\": \"err_high\"}}, \"name\": \"view_16\"}, {\"mark\": \"line\", \"encoding\": {\"color\": {\"field\": \"variable\", \"type\": \"nominal\"}, \"x\": {\"field\": \"time\", \"type\": \"temporal\"}, \"y\": {\"field\": \"value\", \"scale\": {\"zero\": false}, \"title\": \"SW_IN\", \"type\": \"quantitative\"}}}]}], \"height\": 150, \"title\": \"SW_IN\", \"width\": 200}], \"data\": {\"name\": \"data-f039c35dc81af8d86e658157cb3c963c\"}}, {\"hconcat\": [{\"layer\": [{\"mark\": {\"type\": \"point\", \"color\": \"black\", \"fillOpacity\": 1, \"strokeWidth\": 1}, \"encoding\": {\"fill\": {\"field\": \"is_present\", \"legend\": {\"title\": [\"Observed data\"]}, \"scale\": {\"range\": [\"black\", \"#ffffff00\"]}, \"type\": \"nominal\"}, \"shape\": {\"field\": \"is_present\", \"type\": \"nominal\"}, \"x\": {\"field\": \"time\", \"type\": \"temporal\"}, \"y\": {\"field\": \"value\", \"scale\": {\"zero\": false}, \"title\": \"VPD\", \"type\": \"quantitative\"}}}, {\"layer\": [{\"mark\": \"errorband\", \"encoding\": {\"color\": {\"field\": \"variable\", \"legend\": {\"title\": [\"Line: pred. mean\", \"area: +/- 2 std\"]}, \"type\": \"nominal\"}, \"x\": {\"field\": \"time\", \"type\": \"temporal\"}, \"y\": {\"field\": \"err_low\", \"scale\": {\"zero\": false}, \"title\": \"VPD\", \"type\": \"quantitative\"}, \"y2\": {\"field\": \"err_high\"}}, \"name\": \"view_17\"}, {\"mark\": \"line\", \"encoding\": {\"color\": {\"field\": \"variable\", \"type\": \"nominal\"}, \"x\": {\"field\": \"time\", \"type\": \"temporal\"}, \"y\": {\"field\": \"value\", \"scale\": {\"zero\": false}, \"title\": \"VPD\", \"type\": \"quantitative\"}}}]}], \"height\": 150, \"title\": \"VPD\", \"width\": 200}], \"data\": {\"name\": \"data-ab3a1c03f22b2d4832051b4ea25ed2db\"}}], \"title\": \"loss: -31364.097656\"}, {\"vconcat\": [{\"hconcat\": [{\"layer\": [{\"mark\": {\"type\": \"point\", \"color\": \"black\", \"fillOpacity\": 1, \"strokeWidth\": 1}, \"encoding\": {\"fill\": {\"field\": \"is_present\", \"legend\": {\"title\": [\"Observed data\"]}, \"scale\": {\"range\": [\"black\", \"#ffffff00\"]}, \"type\": \"nominal\"}, \"shape\": {\"field\": \"is_present\", \"type\": \"nominal\"}, \"x\": {\"field\": \"time\", \"type\": \"temporal\"}, \"y\": {\"field\": \"value\", \"scale\": {\"zero\": false}, \"title\": \"TA\", \"type\": \"quantitative\"}}}, {\"layer\": [{\"mark\": \"errorband\", \"encoding\": {\"color\": {\"field\": \"variable\", \"legend\": {\"title\": [\"Line: pred. mean\", \"area: +/- 2 std\"]}, \"type\": \"nominal\"}, \"x\": {\"field\": \"time\", \"type\": \"temporal\"}, \"y\": {\"field\": \"err_low\", \"scale\": {\"zero\": false}, \"title\": \"TA\", \"type\": \"quantitative\"}, \"y2\": {\"field\": \"err_high\"}}, \"name\": \"view_18\"}, {\"mark\": \"line\", \"encoding\": {\"color\": {\"field\": \"variable\", \"type\": \"nominal\"}, \"x\": {\"field\": \"time\", \"type\": \"temporal\"}, \"y\": {\"field\": \"value\", \"scale\": {\"zero\": false}, \"title\": \"TA\", \"type\": \"quantitative\"}}}]}], \"height\": 150, \"title\": \"TA\", \"width\": 200}], \"data\": {\"name\": \"data-b66e3de69699c9a588f5026ca11e39ef\"}}, {\"hconcat\": [{\"layer\": [{\"mark\": {\"type\": \"point\", \"color\": \"black\", \"fillOpacity\": 1, \"strokeWidth\": 1}, \"encoding\": {\"fill\": {\"field\": \"is_present\", \"legend\": {\"title\": [\"Observed data\"]}, \"scale\": {\"range\": [\"black\", \"#ffffff00\"]}, \"type\": \"nominal\"}, \"shape\": {\"field\": \"is_present\", \"type\": \"nominal\"}, \"x\": {\"field\": \"time\", \"type\": \"temporal\"}, \"y\": {\"field\": \"value\", \"scale\": {\"zero\": false}, \"title\": \"SW_IN\", \"type\": \"quantitative\"}}}, {\"layer\": [{\"mark\": \"errorband\", \"encoding\": {\"color\": {\"field\": \"variable\", \"legend\": {\"title\": [\"Line: pred. mean\", \"area: +/- 2 std\"]}, \"type\": \"nominal\"}, \"x\": {\"field\": \"time\", \"type\": \"temporal\"}, \"y\": {\"field\": \"err_low\", \"scale\": {\"zero\": false}, \"title\": \"SW_IN\", \"type\": \"quantitative\"}, \"y2\": {\"field\": \"err_high\"}}, \"name\": \"view_19\"}, {\"mark\": \"line\", \"encoding\": {\"color\": {\"field\": \"variable\", \"type\": \"nominal\"}, \"x\": {\"field\": \"time\", \"type\": \"temporal\"}, \"y\": {\"field\": \"value\", \"scale\": {\"zero\": false}, \"title\": \"SW_IN\", \"type\": \"quantitative\"}}}]}], \"height\": 150, \"title\": \"SW_IN\", \"width\": 200}], \"data\": {\"name\": \"data-0f380efcac7ab6e99b9dd7c0d22e4032\"}}, {\"hconcat\": [{\"layer\": [{\"mark\": {\"type\": \"point\", \"color\": \"black\", \"fillOpacity\": 1, \"strokeWidth\": 1}, \"encoding\": {\"fill\": {\"field\": \"is_present\", \"legend\": {\"title\": [\"Observed data\"]}, \"scale\": {\"range\": [\"black\", \"#ffffff00\"]}, \"type\": \"nominal\"}, \"shape\": {\"field\": \"is_present\", \"type\": \"nominal\"}, \"x\": {\"field\": \"time\", \"type\": \"temporal\"}, \"y\": {\"field\": \"value\", \"scale\": {\"zero\": false}, \"title\": \"VPD\", \"type\": \"quantitative\"}}}, {\"layer\": [{\"mark\": \"errorband\", \"encoding\": {\"color\": {\"field\": \"variable\", \"legend\": {\"title\": [\"Line: pred. mean\", \"area: +/- 2 std\"]}, \"type\": \"nominal\"}, \"x\": {\"field\": \"time\", \"type\": \"temporal\"}, \"y\": {\"field\": \"err_low\", \"scale\": {\"zero\": false}, \"title\": \"VPD\", \"type\": \"quantitative\"}, \"y2\": {\"field\": \"err_high\"}}, \"name\": \"view_20\"}, {\"mark\": \"line\", \"encoding\": {\"color\": {\"field\": \"variable\", \"type\": \"nominal\"}, \"x\": {\"field\": \"time\", \"type\": \"temporal\"}, \"y\": {\"field\": \"value\", \"scale\": {\"zero\": false}, \"title\": \"VPD\", \"type\": \"quantitative\"}}}]}], \"height\": 150, \"title\": \"VPD\", \"width\": 200}], \"data\": {\"name\": \"data-7156d1132522e477dcf3dbb7c1b84b39\"}}], \"title\": \"loss: -17224.687500\"}], \"params\": [{\"name\": \"param_20\", \"select\": {\"type\": \"interval\", \"encodings\": [\"x\"]}, \"bind\": \"scales\", \"views\": [\"view_12\", \"view_13\", \"view_14\"]}, {\"name\": \"param_24\", \"select\": {\"type\": \"interval\", \"encodings\": [\"x\"]}, \"bind\": \"scales\", \"views\": [\"view_15\", \"view_16\", \"view_17\"]}, {\"name\": \"param_28\", \"select\": {\"type\": \"interval\", \"encodings\": [\"x\"]}, \"bind\": \"scales\", \"views\": [\"view_18\", \"view_19\", \"view_20\"]}], \"$schema\": \"https://vega.github.io/schema/vega-lite/v5.2.0.json\", \"datasets\": {\"data-e11fe8c7dc4cf48be10fcbc63ccfee83\": [{\"time\": \"2000-01-01T00:30:00\", \"variable\": \"TA\", \"value\": -0.6000000238418579, \"is_present\": true, \"mean\": 20.781414031982422, \"std\": 9.719761848449707, \"err_low\": -20.03952407836914, \"err_high\": 18.839523315429688}, {\"time\": \"2000-01-01T01:00:00\", \"variable\": \"TA\", \"value\": -0.6499999761581421, \"is_present\": true, \"mean\": -148.38612365722656, \"std\": 10.596948623657227, \"err_low\": -21.843896865844727, \"err_high\": 20.54389762878418}, {\"time\": \"2000-01-01T01:30:00\", \"variable\": \"TA\", \"value\": -0.5799999833106995, \"is_present\": true, \"mean\": -273.6077880859375, \"std\": 9.939826965332031, \"err_low\": -20.459653854370117, \"err_high\": 19.299654006958008}, {\"time\": \"2000-01-01T02:00:00\", \"variable\": \"TA\", \"value\": -0.5099999904632568, \"is_present\": true, \"mean\": -287.93475341796875, \"std\": 9.94400405883789, \"err_low\": -20.398008346557617, \"err_high\": 19.378007888793945}, {\"time\": \"2000-01-01T02:30:00\", \"variable\": \"TA\", \"value\": -0.49000000953674316, \"is_present\": true, \"mean\": -293.3094177246094, \"std\": 9.937422752380371, \"err_low\": -20.364845275878906, \"err_high\": 19.384845733642578}, {\"time\": \"2000-01-01T03:00:00\", \"variable\": \"TA\", \"value\": -0.4000000059604645, \"is_present\": true, \"mean\": -293.699462890625, \"std\": 9.934409141540527, \"err_low\": -20.268817901611328, \"err_high\": 19.46881866455078}, {\"time\": \"2000-01-01T03:30:00\", \"variable\": \"TA\", \"value\": -0.36000001430511475, \"is_present\": false, \"mean\": -293.31671142578125, \"std\": 9.939554214477539, \"err_low\": -20.23910903930664, \"err_high\": 19.519107818603516}, {\"time\": \"2000-01-01T04:00:00\", \"variable\": \"TA\", \"value\": -0.3499999940395355, \"is_present\": false, \"mean\": -567.5921630859375, \"std\": 14.97175121307373, \"err_low\": -30.293502807617188, \"err_high\": 29.593502044677734}, {\"time\": \"2000-01-01T04:30:00\", \"variable\": \"TA\", \"value\": -0.2800000011920929, \"is_present\": true, \"mean\": -1093.8115234375, \"std\": 26.180858612060547, \"err_low\": -52.64171600341797, \"err_high\": 52.08171844482422}, {\"time\": \"2000-01-01T05:00:00\", \"variable\": \"TA\", \"value\": -0.27000001072883606, \"is_present\": true, \"mean\": -264.1253662109375, \"std\": 10.60876178741455, \"err_low\": -21.487524032592773, \"err_high\": 20.94752311706543}], \"data-caad5ec239b52c33a75311f5d3cc9016\": [{\"time\": \"2000-01-01T00:30:00\", \"variable\": \"SW_IN\", \"value\": 0.0, \"is_present\": true, \"mean\": 463.0891418457031, \"std\": 416.4496154785156, \"err_low\": -832.8992309570312, \"err_high\": 832.8992309570312}, {\"time\": \"2000-01-01T01:00:00\", \"variable\": \"SW_IN\", \"value\": 0.0, \"is_present\": true, \"mean\": -7233.91650390625, \"std\": 486.5350646972656, \"err_low\": -973.0701293945312, \"err_high\": 973.0701293945312}, {\"time\": \"2000-01-01T01:30:00\", \"variable\": \"SW_IN\", \"value\": 0.0, \"is_present\": true, \"mean\": -12224.35546875, \"std\": 464.7389831542969, \"err_low\": -929.4779663085938, \"err_high\": 929.4779663085938}, {\"time\": \"2000-01-01T02:00:00\", \"variable\": \"SW_IN\", \"value\": 0.0, \"is_present\": true, \"mean\": -12870.408203125, \"std\": 464.8800354003906, \"err_low\": -929.7600708007812, \"err_high\": 929.7600708007812}, {\"time\": \"2000-01-01T02:30:00\", \"variable\": \"SW_IN\", \"value\": 0.0, \"is_present\": true, \"mean\": -13080.51171875, \"std\": 464.6015625, \"err_low\": -929.203125, \"err_high\": 929.203125}, {\"time\": \"2000-01-01T03:00:00\", \"variable\": \"SW_IN\", \"value\": 0.0, \"is_present\": true, \"mean\": -13101.55859375, \"std\": 464.5009765625, \"err_low\": -929.001953125, \"err_high\": 929.001953125}, {\"time\": \"2000-01-01T03:30:00\", \"variable\": \"SW_IN\", \"value\": 0.0, \"is_present\": false, \"mean\": -13083.484375, \"std\": 464.73858642578125, \"err_low\": -929.4771728515625, \"err_high\": 929.4771728515625}, {\"time\": \"2000-01-01T04:00:00\", \"variable\": \"SW_IN\", \"value\": 0.0, \"is_present\": false, \"mean\": -25189.212890625, \"std\": 678.0774536132812, \"err_low\": -1356.1549072265625, \"err_high\": 1356.1549072265625}, {\"time\": \"2000-01-01T04:30:00\", \"variable\": \"SW_IN\", \"value\": 0.0, \"is_present\": true, \"mean\": -47789.1015625, \"std\": 1145.0150146484375, \"err_low\": -2290.030029296875, \"err_high\": 2290.030029296875}, {\"time\": \"2000-01-01T05:00:00\", \"variable\": \"SW_IN\", \"value\": 0.0, \"is_present\": true, \"mean\": -11873.794921875, \"std\": 488.07257080078125, \"err_low\": -976.1451416015625, \"err_high\": 976.1451416015625}], \"data-5ccf27e1f8aa90cec49f0e620cea071d\": [{\"time\": \"2000-01-01T00:30:00\", \"variable\": \"VPD\", \"value\": 0.22200000286102295, \"is_present\": true, \"mean\": 13.352357864379883, \"std\": 9.839052200317383, \"err_low\": -19.456104278564453, \"err_high\": 19.900104522705078}, {\"time\": \"2000-01-01T01:00:00\", \"variable\": \"VPD\", \"value\": 0.12200000137090683, \"is_present\": true, \"mean\": -168.601318359375, \"std\": 11.87657642364502, \"err_low\": -23.631153106689453, \"err_high\": 23.875152587890625}, {\"time\": \"2000-01-01T01:30:00\", \"variable\": \"VPD\", \"value\": 0.09000000357627869, \"is_present\": true, \"mean\": -283.6062316894531, \"std\": 11.407477378845215, \"err_low\": -22.72495460510254, \"err_high\": 22.90495491027832}, {\"time\": \"2000-01-01T02:00:00\", \"variable\": \"VPD\", \"value\": 0.10999999940395355, \"is_present\": true, \"mean\": -298.9312744140625, \"std\": 11.410417556762695, \"err_low\": -22.710834503173828, \"err_high\": 22.930835723876953}, {\"time\": \"2000-01-01T02:30:00\", \"variable\": \"VPD\", \"value\": 0.10199999809265137, \"is_present\": true, \"mean\": -303.7626037597656, \"std\": 11.404163360595703, \"err_low\": -22.706327438354492, \"err_high\": 22.91032600402832}, {\"time\": \"2000-01-01T03:00:00\", \"variable\": \"VPD\", \"value\": 0.11100000143051147, \"is_present\": true, \"mean\": -304.2798156738281, \"std\": 11.401996612548828, \"err_low\": -22.6929931640625, \"err_high\": 22.914993286132812}, {\"time\": \"2000-01-01T03:30:00\", \"variable\": \"VPD\", \"value\": 0.10899999737739563, \"is_present\": true, \"mean\": -303.85162353515625, \"std\": 11.407413482666016, \"err_low\": -22.705827713012695, \"err_high\": 22.923826217651367}, {\"time\": \"2000-01-01T04:00:00\", \"variable\": \"VPD\", \"value\": 0.10700000077486038, \"is_present\": true, \"mean\": -587.7825317382812, \"std\": 16.254329681396484, \"err_low\": -32.40166091918945, \"err_high\": 32.615657806396484}, {\"time\": \"2000-01-01T04:30:00\", \"variable\": \"VPD\", \"value\": 0.12200000137090683, \"is_present\": true, \"mean\": -1115.6263427734375, \"std\": 26.99294662475586, \"err_low\": -53.8638916015625, \"err_high\": 54.10789489746094}, {\"time\": \"2000-01-01T05:00:00\", \"variable\": \"VPD\", \"value\": 0.1379999965429306, \"is_present\": true, \"mean\": -275.7076721191406, \"std\": 11.916023254394531, \"err_low\": -23.694046020507812, \"err_high\": 23.970046997070312}], \"data-b65c3c5074e05a1718d48e2e3d5251e2\": [{\"time\": \"2000-01-01T05:30:00\", \"variable\": \"TA\", \"value\": -0.23000000417232513, \"is_present\": true, \"mean\": 20.781414031982422, \"std\": 9.719761848449707, \"err_low\": -19.669523239135742, \"err_high\": 19.209524154663086}, {\"time\": \"2000-01-01T06:00:00\", \"variable\": \"TA\", \"value\": -0.23000000417232513, \"is_present\": true, \"mean\": -146.904296875, \"std\": 10.596948623657227, \"err_low\": -21.42389678955078, \"err_high\": 20.963897705078125}, {\"time\": \"2000-01-01T06:30:00\", \"variable\": \"TA\", \"value\": -0.2199999988079071, \"is_present\": true, \"mean\": -268.1272277832031, \"std\": 9.939826965332031, \"err_low\": -20.099653244018555, \"err_high\": 19.65965461730957}, {\"time\": \"2000-01-01T07:00:00\", \"variable\": \"TA\", \"value\": -0.23999999463558197, \"is_present\": false, \"mean\": -280.949951171875, \"std\": 9.94400405883789, \"err_low\": -20.128007888793945, \"err_high\": 19.648008346557617}, {\"time\": \"2000-01-01T07:30:00\", \"variable\": \"TA\", \"value\": -0.23000000417232513, \"is_present\": false, \"mean\": -544.4052734375, \"std\": 14.981888771057129, \"err_low\": -30.193777084350586, \"err_high\": 29.73377799987793}, {\"time\": \"2000-01-01T08:00:00\", \"variable\": \"TA\", \"value\": -0.2199999988079071, \"is_present\": true, \"mean\": -1049.3887939453125, \"std\": 26.20234489440918, \"err_low\": -52.624691009521484, \"err_high\": 52.184688568115234}, {\"time\": \"2000-01-01T08:30:00\", \"variable\": \"TA\", \"value\": -0.1899999976158142, \"is_present\": true, \"mean\": -267.2822265625, \"std\": 10.613080024719238, \"err_low\": -21.416160583496094, \"err_high\": 21.03615951538086}, {\"time\": \"2000-01-01T09:00:00\", \"variable\": \"TA\", \"value\": -0.14000000059604645, \"is_present\": true, \"mean\": -281.9591979980469, \"std\": 9.976262092590332, \"err_low\": -20.0925235748291, \"err_high\": 19.812524795532227}, {\"time\": \"2000-01-01T09:30:00\", \"variable\": \"TA\", \"value\": -0.029999999329447746, \"is_present\": true, \"mean\": -291.3287658691406, \"std\": 9.944252967834473, \"err_low\": -19.918506622314453, \"err_high\": 19.858505249023438}, {\"time\": \"2000-01-01T10:00:00\", \"variable\": \"TA\", \"value\": 0.03999999910593033, \"is_present\": true, \"mean\": -297.40478515625, \"std\": 9.93850326538086, \"err_low\": -19.837005615234375, \"err_high\": 19.917007446289062}], \"data-f039c35dc81af8d86e658157cb3c963c\": [{\"time\": \"2000-01-01T05:30:00\", \"variable\": \"SW_IN\", \"value\": 0.0, \"is_present\": true, \"mean\": 463.0891418457031, \"std\": 416.4496154785156, \"err_low\": -832.8992309570312, \"err_high\": 832.8992309570312}, {\"time\": \"2000-01-01T06:00:00\", \"variable\": \"SW_IN\", \"value\": 0.0, \"is_present\": true, \"mean\": -7165.994140625, \"std\": 486.5350646972656, \"err_low\": -973.0701293945312, \"err_high\": 973.0701293945312}, {\"time\": \"2000-01-01T06:30:00\", \"variable\": \"SW_IN\", \"value\": 0.0, \"is_present\": true, \"mean\": -11983.4892578125, \"std\": 464.7389831542969, \"err_low\": -929.4779663085938, \"err_high\": 929.4779663085938}, {\"time\": \"2000-01-01T07:00:00\", \"variable\": \"SW_IN\", \"value\": 0.0, \"is_present\": false, \"mean\": -12571.7646484375, \"std\": 464.8800354003906, \"err_low\": -929.7600708007812, \"err_high\": 929.7600708007812}, {\"time\": \"2000-01-01T07:30:00\", \"variable\": \"SW_IN\", \"value\": 0.0, \"is_present\": false, \"mean\": -24164.6796875, \"std\": 678.5303955078125, \"err_low\": -1357.060791015625, \"err_high\": 1357.060791015625}, {\"time\": \"2000-01-01T08:00:00\", \"variable\": \"SW_IN\", \"value\": 0.0, \"is_present\": true, \"mean\": -45879.0234375, \"std\": 1145.9112548828125, \"err_low\": -2291.822509765625, \"err_high\": 2291.822509765625}, {\"time\": \"2000-01-01T08:30:00\", \"variable\": \"SW_IN\", \"value\": 0.44999998807907104, \"is_present\": true, \"mean\": -12012.423828125, \"std\": 488.5043640136719, \"err_low\": -976.5587158203125, \"err_high\": 977.458740234375}, {\"time\": \"2000-01-01T09:00:00\", \"variable\": \"SW_IN\", \"value\": 3.700000047683716, \"is_present\": true, \"mean\": -12593.779296875, \"std\": 465.9860534667969, \"err_low\": -928.2720947265625, \"err_high\": 935.672119140625}, {\"time\": \"2000-01-01T09:30:00\", \"variable\": \"SW_IN\", \"value\": 7.260000228881836, \"is_present\": true, \"mean\": -13009.8515625, \"std\": 464.9170837402344, \"err_low\": -922.5741577148438, \"err_high\": 937.0941772460938}, {\"time\": \"2000-01-01T10:00:00\", \"variable\": \"SW_IN\", \"value\": 12.239999771118164, \"is_present\": true, \"mean\": -13263.9130859375, \"std\": 464.6466064453125, \"err_low\": -917.05322265625, \"err_high\": 941.533203125}], \"data-ab3a1c03f22b2d4832051b4ea25ed2db\": [{\"time\": \"2000-01-01T05:30:00\", \"variable\": \"VPD\", \"value\": 0.1379999965429306, \"is_present\": true, \"mean\": 13.352357864379883, \"std\": 9.839052200317383, \"err_low\": -19.540103912353516, \"err_high\": 19.816104888916016}, {\"time\": \"2000-01-01T06:00:00\", \"variable\": \"VPD\", \"value\": 0.12200000137090683, \"is_present\": true, \"mean\": -166.9966278076172, \"std\": 11.87657642364502, \"err_low\": -23.631153106689453, \"err_high\": 23.875152587890625}, {\"time\": \"2000-01-01T06:30:00\", \"variable\": \"VPD\", \"value\": 0.09799999743700027, \"is_present\": true, \"mean\": -277.95623779296875, \"std\": 11.407477378845215, \"err_low\": -22.716955184936523, \"err_high\": 22.912954330444336}, {\"time\": \"2000-01-01T07:00:00\", \"variable\": \"VPD\", \"value\": 0.06599999964237213, \"is_present\": true, \"mean\": -291.95892333984375, \"std\": 11.410417556762695, \"err_low\": -22.75483512878418, \"err_high\": 22.8868350982666}, {\"time\": \"2000-01-01T07:30:00\", \"variable\": \"VPD\", \"value\": 0.04399999976158142, \"is_present\": true, \"mean\": -563.7301635742188, \"std\": 16.264806747436523, \"err_low\": -32.48561477661133, \"err_high\": 32.573612213134766}, {\"time\": \"2000-01-01T08:00:00\", \"variable\": \"VPD\", \"value\": 0.026000000536441803, \"is_present\": true, \"mean\": -1071.0050048828125, \"std\": 27.013643264770508, \"err_low\": -54.001285552978516, \"err_high\": 54.053287506103516}, {\"time\": \"2000-01-01T08:30:00\", \"variable\": \"VPD\", \"value\": 0.01600000075995922, \"is_present\": true, \"mean\": -278.9546203613281, \"std\": 11.92660140991211, \"err_low\": -23.837202072143555, \"err_high\": 23.869203567504883}, {\"time\": \"2000-01-01T09:00:00\", \"variable\": \"VPD\", \"value\": 0.009999999776482582, \"is_present\": true, \"mean\": -292.3470153808594, \"std\": 11.4345121383667, \"err_low\": -22.859024047851562, \"err_high\": 22.879024505615234}, {\"time\": \"2000-01-01T09:30:00\", \"variable\": \"VPD\", \"value\": 0.006000000052154064, \"is_present\": true, \"mean\": -302.1646728515625, \"std\": 11.411365509033203, \"err_low\": -22.816730499267578, \"err_high\": 22.828731536865234}, {\"time\": \"2000-01-01T10:00:00\", \"variable\": \"VPD\", \"value\": 0.006000000052154064, \"is_present\": true, \"mean\": -308.080322265625, \"std\": 11.405182838439941, \"err_low\": -22.804365158081055, \"err_high\": 22.81636619567871}], \"data-b66e3de69699c9a588f5026ca11e39ef\": [{\"time\": \"2000-01-01T15:30:00\", \"variable\": \"TA\", \"value\": 0.5199999809265137, \"is_present\": true, \"mean\": 20.781414031982422, \"std\": 9.719761848449707, \"err_low\": -18.919523239135742, \"err_high\": 19.959524154663086}, {\"time\": \"2000-01-01T16:00:00\", \"variable\": \"TA\", \"value\": 0.5699999928474426, \"is_present\": false, \"mean\": -149.2494354248047, \"std\": 10.596948623657227, \"err_low\": -20.623897552490234, \"err_high\": 21.763896942138672}, {\"time\": \"2000-01-01T16:30:00\", \"variable\": \"TA\", \"value\": 0.7300000190734863, \"is_present\": false, \"mean\": -299.0109558105469, \"std\": 16.452390670776367, \"err_low\": -32.174781799316406, \"err_high\": 33.63478088378906}, {\"time\": \"2000-01-01T17:00:00\", \"variable\": \"TA\", \"value\": 0.7699999809265137, \"is_present\": true, \"mean\": -578.1576538085938, \"std\": 29.284324645996094, \"err_low\": -57.798648834228516, \"err_high\": 59.33864974975586}, {\"time\": \"2000-01-01T17:30:00\", \"variable\": \"TA\", \"value\": 0.8399999737739563, \"is_present\": true, \"mean\": -269.2680358886719, \"std\": 10.551128387451172, \"err_low\": -20.262256622314453, \"err_high\": 21.942256927490234}, {\"time\": \"2000-01-01T18:00:00\", \"variable\": \"TA\", \"value\": 0.9900000095367432, \"is_present\": true, \"mean\": -267.1496887207031, \"std\": 9.928688049316406, \"err_low\": -18.86737632751465, \"err_high\": 20.847375869750977}, {\"time\": \"2000-01-01T18:30:00\", \"variable\": \"TA\", \"value\": 1.350000023841858, \"is_present\": true, \"mean\": -269.79754638671875, \"std\": 9.939447402954102, \"err_low\": -18.528894424438477, \"err_high\": 21.22889518737793}, {\"time\": \"2000-01-01T19:00:00\", \"variable\": \"TA\", \"value\": 1.8600000143051147, \"is_present\": true, \"mean\": -267.64031982421875, \"std\": 9.936251640319824, \"err_low\": -18.012502670288086, \"err_high\": 21.73250389099121}, {\"time\": \"2000-01-01T19:30:00\", \"variable\": \"TA\", \"value\": 2.009999990463257, \"is_present\": true, \"mean\": -260.1736145019531, \"std\": 9.937599182128906, \"err_low\": -17.865198135375977, \"err_high\": 21.88519859313965}, {\"time\": \"2000-01-01T20:00:00\", \"variable\": \"TA\", \"value\": 2.069999933242798, \"is_present\": true, \"mean\": -254.9087371826172, \"std\": 9.941226959228516, \"err_low\": -17.812454223632812, \"err_high\": 21.95245361328125}], \"data-0f380efcac7ab6e99b9dd7c0d22e4032\": [{\"time\": \"2000-01-01T15:30:00\", \"variable\": \"SW_IN\", \"value\": 8.09000015258789, \"is_present\": true, \"mean\": 463.0891418457031, \"std\": 416.4496154785156, \"err_low\": -824.8092041015625, \"err_high\": 840.9892578125}, {\"time\": \"2000-01-01T16:00:00\", \"variable\": \"SW_IN\", \"value\": 6.369999885559082, \"is_present\": false, \"mean\": -7270.88916015625, \"std\": 486.5350646972656, \"err_low\": -966.7001342773438, \"err_high\": 979.4401245117188}, {\"time\": \"2000-01-01T16:30:00\", \"variable\": \"SW_IN\", \"value\": 1.7200000286102295, \"is_present\": false, \"mean\": -13226.736328125, \"std\": 743.8946533203125, \"err_low\": -1486.0693359375, \"err_high\": 1489.50927734375}, {\"time\": \"2000-01-01T17:00:00\", \"variable\": \"SW_IN\", \"value\": 0.05999999865889549, \"is_present\": true, \"mean\": -25680.892578125, \"std\": 1275.10595703125, \"err_low\": -2550.15185546875, \"err_high\": 2550.27197265625}, {\"time\": \"2000-01-01T17:30:00\", \"variable\": \"SW_IN\", \"value\": 0.0, \"is_present\": true, \"mean\": -12004.1953125, \"std\": 485.33740234375, \"err_low\": -970.6748046875, \"err_high\": 970.6748046875}, {\"time\": \"2000-01-01T18:00:00\", \"variable\": \"SW_IN\", \"value\": 0.0, \"is_present\": true, \"mean\": -11956.6103515625, \"std\": 464.4346923828125, \"err_low\": -928.869384765625, \"err_high\": 928.869384765625}, {\"time\": \"2000-01-01T18:30:00\", \"variable\": \"SW_IN\", \"value\": 0.0, \"is_present\": true, \"mean\": -12079.1796875, \"std\": 464.68402099609375, \"err_low\": -929.3680419921875, \"err_high\": 929.3680419921875}, {\"time\": \"2000-01-01T19:00:00\", \"variable\": \"SW_IN\", \"value\": 0.0, \"is_present\": true, \"mean\": -11974.041015625, \"std\": 464.58056640625, \"err_low\": -929.1611328125, \"err_high\": 929.1611328125}, {\"time\": \"2000-01-01T19:30:00\", \"variable\": \"SW_IN\", \"value\": 0.0, \"is_present\": true, \"mean\": -11651.689453125, \"std\": 464.6243896484375, \"err_low\": -929.248779296875, \"err_high\": 929.248779296875}, {\"time\": \"2000-01-01T20:00:00\", \"variable\": \"SW_IN\", \"value\": 0.0, \"is_present\": true, \"mean\": -11432.6416015625, \"std\": 464.79388427734375, \"err_low\": -929.5877685546875, \"err_high\": 929.5877685546875}], \"data-7156d1132522e477dcf3dbb7c1b84b39\": [{\"time\": \"2000-01-01T15:30:00\", \"variable\": \"VPD\", \"value\": 0.0, \"is_present\": true, \"mean\": 13.352357864379883, \"std\": 9.839052200317383, \"err_low\": -19.678104400634766, \"err_high\": 19.678104400634766}, {\"time\": \"2000-01-01T16:00:00\", \"variable\": \"VPD\", \"value\": 0.0, \"is_present\": true, \"mean\": -169.46365356445312, \"std\": 11.87657642364502, \"err_low\": -23.75315284729004, \"err_high\": 23.75315284729004}, {\"time\": \"2000-01-01T16:30:00\", \"variable\": \"VPD\", \"value\": 0.0, \"is_present\": true, \"mean\": -306.5470886230469, \"std\": 17.77806282043457, \"err_low\": -35.55612564086914, \"err_high\": 35.55612564086914}, {\"time\": \"2000-01-01T17:00:00\", \"variable\": \"VPD\", \"value\": 0.0, \"is_present\": true, \"mean\": -599.4336547851562, \"std\": 30.001543045043945, \"err_low\": -60.00308609008789, \"err_high\": 60.00308609008789}, {\"time\": \"2000-01-01T17:30:00\", \"variable\": \"VPD\", \"value\": 0.0, \"is_present\": true, \"mean\": -278.3432922363281, \"std\": 11.853055000305176, \"err_low\": -23.70611000061035, \"err_high\": 23.70611000061035}, {\"time\": \"2000-01-01T18:00:00\", \"variable\": \"VPD\", \"value\": 0.0, \"is_present\": true, \"mean\": -277.4642028808594, \"std\": 11.40123462677002, \"err_low\": -22.80246925354004, \"err_high\": 22.80246925354004}, {\"time\": \"2000-01-01T18:30:00\", \"variable\": \"VPD\", \"value\": 0.0, \"is_present\": true, \"mean\": -280.4012756347656, \"std\": 11.406007766723633, \"err_low\": -22.812015533447266, \"err_high\": 22.812015533447266}, {\"time\": \"2000-01-01T19:00:00\", \"variable\": \"VPD\", \"value\": 0.0020000000949949026, \"is_present\": true, \"mean\": -277.8943786621094, \"std\": 11.403796195983887, \"err_low\": -22.805591583251953, \"err_high\": 22.809593200683594}, {\"time\": \"2000-01-01T19:30:00\", \"variable\": \"VPD\", \"value\": 0.008999999612569809, \"is_present\": true, \"mean\": -270.360107421875, \"std\": 11.404725074768066, \"err_low\": -22.80044937133789, \"err_high\": 22.818450927734375}, {\"time\": \"2000-01-01T20:00:00\", \"variable\": \"VPD\", \"value\": 0.014000000432133675, \"is_present\": true, \"mean\": -265.2678527832031, \"std\": 11.408601760864258, \"err_low\": -22.803203582763672, \"err_high\": 22.83120346069336}]}}, {\"mode\": \"vega-lite\"});\n",
       "</script>"
      ],
      "text/plain": [
       "alt.HConcatChart(...)"
      ]
     },
     "execution_count": null,
     "metadata": {},
     "output_type": "execute_result"
    }
   ],
   "source": [
    "plot_results(preds, targs, losses)"
   ]
  },
  {
   "cell_type": "markdown",
   "id": "32cb6c99-004e-4235-82d5-1617e79b7097",
   "metadata": {},
   "source": [
    "#### Show Results"
   ]
  },
  {
   "cell_type": "code",
   "execution_count": null,
   "id": "5f6a1a9f-2a79-4b27-960b-4a8a446de9ac",
   "metadata": {},
   "outputs": [
    {
     "data": {
      "text/plain": [
       "[1046, 462, 1143]"
      ]
     },
     "execution_count": null,
     "metadata": {},
     "output_type": "execute_result"
    }
   ],
   "source": [
    "random.choices(learn.dls.items, k=3)"
   ]
  },
  {
   "cell_type": "code",
   "execution_count": null,
   "id": "5b86232f-ada2-443c-b00c-8f7379608085",
   "metadata": {},
   "outputs": [],
   "source": [
    "#|export\n",
    "def get_results(learn, n=3, items=None):\n",
    "    items = ifnone(items, random.choices(learn.dls.items, k=3))\n",
    "    pipe0, pipe1 = learn.dls.fs[0][0,1], learn.dls.fs[0][2,3]\n",
    "    return predict_items(items, learn, pipe0, pipe1)"
   ]
  },
  {
   "cell_type": "code",
   "execution_count": null,
   "id": "ec86db59-0ee4-46c1-af35-290ba45284c0",
   "metadata": {},
   "outputs": [],
   "source": [
    "#| export\n",
    "def show_results(learn, n=3, items=None, **kwargs):\n",
    "    return plot_results(*get_results(learn,n,items), **kwargs)\n",
    "    "
   ]
  },
  {
   "cell_type": "code",
   "execution_count": null,
   "id": "25bc78ec-1348-4af5-ad48-89575654ff01",
   "metadata": {},
   "outputs": [],
   "source": [
    "learn.model.use_smooth = False"
   ]
  },
  {
   "cell_type": "code",
   "execution_count": null,
   "id": "38bb0979-c84d-45ff-8b25-6e737816204b",
   "metadata": {},
   "outputs": [
    {
     "data": {
      "text/html": [
       "\n",
       "<div id=\"altair-viz-f335f76f71d54d9ba620a04fc7c5a0f5\"></div>\n",
       "<script type=\"text/javascript\">\n",
       "  var VEGA_DEBUG = (typeof VEGA_DEBUG == \"undefined\") ? {} : VEGA_DEBUG;\n",
       "  (function(spec, embedOpt){\n",
       "    let outputDiv = document.currentScript.previousElementSibling;\n",
       "    if (outputDiv.id !== \"altair-viz-f335f76f71d54d9ba620a04fc7c5a0f5\") {\n",
       "      outputDiv = document.getElementById(\"altair-viz-f335f76f71d54d9ba620a04fc7c5a0f5\");\n",
       "    }\n",
       "    const paths = {\n",
       "      \"vega\": \"https://cdn.jsdelivr.net/npm//vega@5?noext\",\n",
       "      \"vega-lib\": \"https://cdn.jsdelivr.net/npm//vega-lib?noext\",\n",
       "      \"vega-lite\": \"https://cdn.jsdelivr.net/npm//vega-lite@5.2.0?noext\",\n",
       "      \"vega-embed\": \"https://cdn.jsdelivr.net/npm//vega-embed@6?noext\",\n",
       "    };\n",
       "\n",
       "    function maybeLoadScript(lib, version) {\n",
       "      var key = `${lib.replace(\"-\", \"\")}_version`;\n",
       "      return (VEGA_DEBUG[key] == version) ?\n",
       "        Promise.resolve(paths[lib]) :\n",
       "        new Promise(function(resolve, reject) {\n",
       "          var s = document.createElement('script');\n",
       "          document.getElementsByTagName(\"head\")[0].appendChild(s);\n",
       "          s.async = true;\n",
       "          s.onload = () => {\n",
       "            VEGA_DEBUG[key] = version;\n",
       "            return resolve(paths[lib]);\n",
       "          };\n",
       "          s.onerror = () => reject(`Error loading script: ${paths[lib]}`);\n",
       "          s.src = paths[lib];\n",
       "        });\n",
       "    }\n",
       "\n",
       "    function showError(err) {\n",
       "      outputDiv.innerHTML = `<div class=\"error\" style=\"color:red;\">${err}</div>`;\n",
       "      throw err;\n",
       "    }\n",
       "\n",
       "    function displayChart(vegaEmbed) {\n",
       "      vegaEmbed(outputDiv, spec, embedOpt)\n",
       "        .catch(err => showError(`Javascript Error: ${err.message}<br>This usually means there's a typo in your chart specification. See the javascript console for the full traceback.`));\n",
       "    }\n",
       "\n",
       "    if(typeof define === \"function\" && define.amd) {\n",
       "      requirejs.config({paths});\n",
       "      require([\"vega-embed\"], displayChart, err => showError(`Error loading script: ${err.message}`));\n",
       "    } else {\n",
       "      maybeLoadScript(\"vega\", \"5\")\n",
       "        .then(() => maybeLoadScript(\"vega-lite\", \"5.2.0\"))\n",
       "        .then(() => maybeLoadScript(\"vega-embed\", \"6\"))\n",
       "        .catch(showError)\n",
       "        .then(() => displayChart(vegaEmbed));\n",
       "    }\n",
       "  })({\"config\": {\"view\": {\"continuousWidth\": 400, \"continuousHeight\": 300}}, \"hconcat\": [{\"vconcat\": [{\"hconcat\": [{\"layer\": [{\"mark\": {\"type\": \"point\", \"color\": \"black\", \"fillOpacity\": 1, \"strokeWidth\": 1}, \"encoding\": {\"fill\": {\"field\": \"is_present\", \"legend\": {\"title\": [\"Observed data\"]}, \"scale\": {\"range\": [\"black\", \"#ffffff00\"]}, \"type\": \"nominal\"}, \"shape\": {\"field\": \"is_present\", \"type\": \"nominal\"}, \"x\": {\"field\": \"time\", \"type\": \"temporal\"}, \"y\": {\"field\": \"value\", \"scale\": {\"zero\": false}, \"title\": \"TA\", \"type\": \"quantitative\"}}}, {\"layer\": [{\"mark\": \"errorband\", \"encoding\": {\"color\": {\"field\": \"variable\", \"legend\": {\"title\": [\"Line: pred. mean\", \"area: +/- 2 std\"]}, \"type\": \"nominal\"}, \"x\": {\"field\": \"time\", \"type\": \"temporal\"}, \"y\": {\"field\": \"err_low\", \"scale\": {\"zero\": false}, \"title\": \"TA\", \"type\": \"quantitative\"}, \"y2\": {\"field\": \"err_high\"}}, \"name\": \"view_21\"}, {\"mark\": \"line\", \"encoding\": {\"color\": {\"field\": \"variable\", \"type\": \"nominal\"}, \"x\": {\"field\": \"time\", \"type\": \"temporal\"}, \"y\": {\"field\": \"value\", \"scale\": {\"zero\": false}, \"title\": \"TA\", \"type\": \"quantitative\"}}}]}], \"height\": 150, \"title\": \"TA\", \"width\": 200}], \"data\": {\"name\": \"data-568ed1d825b771e08180502dcfddd830\"}}, {\"hconcat\": [{\"layer\": [{\"mark\": {\"type\": \"point\", \"color\": \"black\", \"fillOpacity\": 1, \"strokeWidth\": 1}, \"encoding\": {\"fill\": {\"field\": \"is_present\", \"legend\": {\"title\": [\"Observed data\"]}, \"scale\": {\"range\": [\"black\", \"#ffffff00\"]}, \"type\": \"nominal\"}, \"shape\": {\"field\": \"is_present\", \"type\": \"nominal\"}, \"x\": {\"field\": \"time\", \"type\": \"temporal\"}, \"y\": {\"field\": \"value\", \"scale\": {\"zero\": false}, \"title\": \"SW_IN\", \"type\": \"quantitative\"}}}, {\"layer\": [{\"mark\": \"errorband\", \"encoding\": {\"color\": {\"field\": \"variable\", \"legend\": {\"title\": [\"Line: pred. mean\", \"area: +/- 2 std\"]}, \"type\": \"nominal\"}, \"x\": {\"field\": \"time\", \"type\": \"temporal\"}, \"y\": {\"field\": \"err_low\", \"scale\": {\"zero\": false}, \"title\": \"SW_IN\", \"type\": \"quantitative\"}, \"y2\": {\"field\": \"err_high\"}}, \"name\": \"view_22\"}, {\"mark\": \"line\", \"encoding\": {\"color\": {\"field\": \"variable\", \"type\": \"nominal\"}, \"x\": {\"field\": \"time\", \"type\": \"temporal\"}, \"y\": {\"field\": \"value\", \"scale\": {\"zero\": false}, \"title\": \"SW_IN\", \"type\": \"quantitative\"}}}]}], \"height\": 150, \"title\": \"SW_IN\", \"width\": 200}], \"data\": {\"name\": \"data-7d78aa5c5627c5594016bb44117370a1\"}}, {\"hconcat\": [{\"layer\": [{\"mark\": {\"type\": \"point\", \"color\": \"black\", \"fillOpacity\": 1, \"strokeWidth\": 1}, \"encoding\": {\"fill\": {\"field\": \"is_present\", \"legend\": {\"title\": [\"Observed data\"]}, \"scale\": {\"range\": [\"black\", \"#ffffff00\"]}, \"type\": \"nominal\"}, \"shape\": {\"field\": \"is_present\", \"type\": \"nominal\"}, \"x\": {\"field\": \"time\", \"type\": \"temporal\"}, \"y\": {\"field\": \"value\", \"scale\": {\"zero\": false}, \"title\": \"VPD\", \"type\": \"quantitative\"}}}, {\"layer\": [{\"mark\": \"errorband\", \"encoding\": {\"color\": {\"field\": \"variable\", \"legend\": {\"title\": [\"Line: pred. mean\", \"area: +/- 2 std\"]}, \"type\": \"nominal\"}, \"x\": {\"field\": \"time\", \"type\": \"temporal\"}, \"y\": {\"field\": \"err_low\", \"scale\": {\"zero\": false}, \"title\": \"VPD\", \"type\": \"quantitative\"}, \"y2\": {\"field\": \"err_high\"}}, \"name\": \"view_23\"}, {\"mark\": \"line\", \"encoding\": {\"color\": {\"field\": \"variable\", \"type\": \"nominal\"}, \"x\": {\"field\": \"time\", \"type\": \"temporal\"}, \"y\": {\"field\": \"value\", \"scale\": {\"zero\": false}, \"title\": \"VPD\", \"type\": \"quantitative\"}}}]}], \"height\": 150, \"title\": \"VPD\", \"width\": 200}], \"data\": {\"name\": \"data-896e2614373aecf01fd64cc5ca33e8a3\"}}], \"title\": \"loss: -22953.242188\"}, {\"vconcat\": [{\"hconcat\": [{\"layer\": [{\"mark\": {\"type\": \"point\", \"color\": \"black\", \"fillOpacity\": 1, \"strokeWidth\": 1}, \"encoding\": {\"fill\": {\"field\": \"is_present\", \"legend\": {\"title\": [\"Observed data\"]}, \"scale\": {\"range\": [\"black\", \"#ffffff00\"]}, \"type\": \"nominal\"}, \"shape\": {\"field\": \"is_present\", \"type\": \"nominal\"}, \"x\": {\"field\": \"time\", \"type\": \"temporal\"}, \"y\": {\"field\": \"value\", \"scale\": {\"zero\": false}, \"title\": \"TA\", \"type\": \"quantitative\"}}}, {\"layer\": [{\"mark\": \"errorband\", \"encoding\": {\"color\": {\"field\": \"variable\", \"legend\": {\"title\": [\"Line: pred. mean\", \"area: +/- 2 std\"]}, \"type\": \"nominal\"}, \"x\": {\"field\": \"time\", \"type\": \"temporal\"}, \"y\": {\"field\": \"err_low\", \"scale\": {\"zero\": false}, \"title\": \"TA\", \"type\": \"quantitative\"}, \"y2\": {\"field\": \"err_high\"}}, \"name\": \"view_24\"}, {\"mark\": \"line\", \"encoding\": {\"color\": {\"field\": \"variable\", \"type\": \"nominal\"}, \"x\": {\"field\": \"time\", \"type\": \"temporal\"}, \"y\": {\"field\": \"value\", \"scale\": {\"zero\": false}, \"title\": \"TA\", \"type\": \"quantitative\"}}}]}], \"height\": 150, \"title\": \"TA\", \"width\": 200}], \"data\": {\"name\": \"data-4fe3aa6e1c1f686ada08065a15d6b5a4\"}}, {\"hconcat\": [{\"layer\": [{\"mark\": {\"type\": \"point\", \"color\": \"black\", \"fillOpacity\": 1, \"strokeWidth\": 1}, \"encoding\": {\"fill\": {\"field\": \"is_present\", \"legend\": {\"title\": [\"Observed data\"]}, \"scale\": {\"range\": [\"black\", \"#ffffff00\"]}, \"type\": \"nominal\"}, \"shape\": {\"field\": \"is_present\", \"type\": \"nominal\"}, \"x\": {\"field\": \"time\", \"type\": \"temporal\"}, \"y\": {\"field\": \"value\", \"scale\": {\"zero\": false}, \"title\": \"SW_IN\", \"type\": \"quantitative\"}}}, {\"layer\": [{\"mark\": \"errorband\", \"encoding\": {\"color\": {\"field\": \"variable\", \"legend\": {\"title\": [\"Line: pred. mean\", \"area: +/- 2 std\"]}, \"type\": \"nominal\"}, \"x\": {\"field\": \"time\", \"type\": \"temporal\"}, \"y\": {\"field\": \"err_low\", \"scale\": {\"zero\": false}, \"title\": \"SW_IN\", \"type\": \"quantitative\"}, \"y2\": {\"field\": \"err_high\"}}, \"name\": \"view_25\"}, {\"mark\": \"line\", \"encoding\": {\"color\": {\"field\": \"variable\", \"type\": \"nominal\"}, \"x\": {\"field\": \"time\", \"type\": \"temporal\"}, \"y\": {\"field\": \"value\", \"scale\": {\"zero\": false}, \"title\": \"SW_IN\", \"type\": \"quantitative\"}}}]}], \"height\": 150, \"title\": \"SW_IN\", \"width\": 200}], \"data\": {\"name\": \"data-cb4f986b4d0d84aeee756ff42aa5e8fb\"}}, {\"hconcat\": [{\"layer\": [{\"mark\": {\"type\": \"point\", \"color\": \"black\", \"fillOpacity\": 1, \"strokeWidth\": 1}, \"encoding\": {\"fill\": {\"field\": \"is_present\", \"legend\": {\"title\": [\"Observed data\"]}, \"scale\": {\"range\": [\"black\", \"#ffffff00\"]}, \"type\": \"nominal\"}, \"shape\": {\"field\": \"is_present\", \"type\": \"nominal\"}, \"x\": {\"field\": \"time\", \"type\": \"temporal\"}, \"y\": {\"field\": \"value\", \"scale\": {\"zero\": false}, \"title\": \"VPD\", \"type\": \"quantitative\"}}}, {\"layer\": [{\"mark\": \"errorband\", \"encoding\": {\"color\": {\"field\": \"variable\", \"legend\": {\"title\": [\"Line: pred. mean\", \"area: +/- 2 std\"]}, \"type\": \"nominal\"}, \"x\": {\"field\": \"time\", \"type\": \"temporal\"}, \"y\": {\"field\": \"err_low\", \"scale\": {\"zero\": false}, \"title\": \"VPD\", \"type\": \"quantitative\"}, \"y2\": {\"field\": \"err_high\"}}, \"name\": \"view_26\"}, {\"mark\": \"line\", \"encoding\": {\"color\": {\"field\": \"variable\", \"type\": \"nominal\"}, \"x\": {\"field\": \"time\", \"type\": \"temporal\"}, \"y\": {\"field\": \"value\", \"scale\": {\"zero\": false}, \"title\": \"VPD\", \"type\": \"quantitative\"}}}]}], \"height\": 150, \"title\": \"VPD\", \"width\": 200}], \"data\": {\"name\": \"data-021ff0bcae535a95d81d31401567b82f\"}}], \"title\": \"loss: -290.736786\"}, {\"vconcat\": [{\"hconcat\": [{\"layer\": [{\"mark\": {\"type\": \"point\", \"color\": \"black\", \"fillOpacity\": 1, \"strokeWidth\": 1}, \"encoding\": {\"fill\": {\"field\": \"is_present\", \"legend\": {\"title\": [\"Observed data\"]}, \"scale\": {\"range\": [\"black\", \"#ffffff00\"]}, \"type\": \"nominal\"}, \"shape\": {\"field\": \"is_present\", \"type\": \"nominal\"}, \"x\": {\"field\": \"time\", \"type\": \"temporal\"}, \"y\": {\"field\": \"value\", \"scale\": {\"zero\": false}, \"title\": \"TA\", \"type\": \"quantitative\"}}}, {\"layer\": [{\"mark\": \"errorband\", \"encoding\": {\"color\": {\"field\": \"variable\", \"legend\": {\"title\": [\"Line: pred. mean\", \"area: +/- 2 std\"]}, \"type\": \"nominal\"}, \"x\": {\"field\": \"time\", \"type\": \"temporal\"}, \"y\": {\"field\": \"err_low\", \"scale\": {\"zero\": false}, \"title\": \"TA\", \"type\": \"quantitative\"}, \"y2\": {\"field\": \"err_high\"}}, \"name\": \"view_27\"}, {\"mark\": \"line\", \"encoding\": {\"color\": {\"field\": \"variable\", \"type\": \"nominal\"}, \"x\": {\"field\": \"time\", \"type\": \"temporal\"}, \"y\": {\"field\": \"value\", \"scale\": {\"zero\": false}, \"title\": \"TA\", \"type\": \"quantitative\"}}}]}], \"height\": 150, \"title\": \"TA\", \"width\": 200}], \"data\": {\"name\": \"data-fa7e333732ec3e737958177687cf8bb4\"}}, {\"hconcat\": [{\"layer\": [{\"mark\": {\"type\": \"point\", \"color\": \"black\", \"fillOpacity\": 1, \"strokeWidth\": 1}, \"encoding\": {\"fill\": {\"field\": \"is_present\", \"legend\": {\"title\": [\"Observed data\"]}, \"scale\": {\"range\": [\"black\", \"#ffffff00\"]}, \"type\": \"nominal\"}, \"shape\": {\"field\": \"is_present\", \"type\": \"nominal\"}, \"x\": {\"field\": \"time\", \"type\": \"temporal\"}, \"y\": {\"field\": \"value\", \"scale\": {\"zero\": false}, \"title\": \"SW_IN\", \"type\": \"quantitative\"}}}, {\"layer\": [{\"mark\": \"errorband\", \"encoding\": {\"color\": {\"field\": \"variable\", \"legend\": {\"title\": [\"Line: pred. mean\", \"area: +/- 2 std\"]}, \"type\": \"nominal\"}, \"x\": {\"field\": \"time\", \"type\": \"temporal\"}, \"y\": {\"field\": \"err_low\", \"scale\": {\"zero\": false}, \"title\": \"SW_IN\", \"type\": \"quantitative\"}, \"y2\": {\"field\": \"err_high\"}}, \"name\": \"view_28\"}, {\"mark\": \"line\", \"encoding\": {\"color\": {\"field\": \"variable\", \"type\": \"nominal\"}, \"x\": {\"field\": \"time\", \"type\": \"temporal\"}, \"y\": {\"field\": \"value\", \"scale\": {\"zero\": false}, \"title\": \"SW_IN\", \"type\": \"quantitative\"}}}]}], \"height\": 150, \"title\": \"SW_IN\", \"width\": 200}], \"data\": {\"name\": \"data-3ef8eb7092ee71ac238c2f9a55cf1d09\"}}, {\"hconcat\": [{\"layer\": [{\"mark\": {\"type\": \"point\", \"color\": \"black\", \"fillOpacity\": 1, \"strokeWidth\": 1}, \"encoding\": {\"fill\": {\"field\": \"is_present\", \"legend\": {\"title\": [\"Observed data\"]}, \"scale\": {\"range\": [\"black\", \"#ffffff00\"]}, \"type\": \"nominal\"}, \"shape\": {\"field\": \"is_present\", \"type\": \"nominal\"}, \"x\": {\"field\": \"time\", \"type\": \"temporal\"}, \"y\": {\"field\": \"value\", \"scale\": {\"zero\": false}, \"title\": \"VPD\", \"type\": \"quantitative\"}}}, {\"layer\": [{\"mark\": \"errorband\", \"encoding\": {\"color\": {\"field\": \"variable\", \"legend\": {\"title\": [\"Line: pred. mean\", \"area: +/- 2 std\"]}, \"type\": \"nominal\"}, \"x\": {\"field\": \"time\", \"type\": \"temporal\"}, \"y\": {\"field\": \"err_low\", \"scale\": {\"zero\": false}, \"title\": \"VPD\", \"type\": \"quantitative\"}, \"y2\": {\"field\": \"err_high\"}}, \"name\": \"view_29\"}, {\"mark\": \"line\", \"encoding\": {\"color\": {\"field\": \"variable\", \"type\": \"nominal\"}, \"x\": {\"field\": \"time\", \"type\": \"temporal\"}, \"y\": {\"field\": \"value\", \"scale\": {\"zero\": false}, \"title\": \"VPD\", \"type\": \"quantitative\"}}}]}], \"height\": 150, \"title\": \"VPD\", \"width\": 200}], \"data\": {\"name\": \"data-a28bfd3607b1e00a5396ec7a34a7fd2d\"}}], \"title\": \"loss: -6750.373535\"}], \"params\": [{\"name\": \"param_32\", \"select\": {\"type\": \"interval\", \"encodings\": [\"x\"]}, \"bind\": \"scales\", \"views\": [\"view_21\", \"view_22\", \"view_23\"]}, {\"name\": \"param_36\", \"select\": {\"type\": \"interval\", \"encodings\": [\"x\"]}, \"bind\": \"scales\", \"views\": [\"view_24\", \"view_25\", \"view_26\"]}, {\"name\": \"param_40\", \"select\": {\"type\": \"interval\", \"encodings\": [\"x\"]}, \"bind\": \"scales\", \"views\": [\"view_27\", \"view_28\", \"view_29\"]}], \"$schema\": \"https://vega.github.io/schema/vega-lite/v5.2.0.json\", \"datasets\": {\"data-568ed1d825b771e08180502dcfddd830\": [{\"time\": \"2000-12-19T03:30:00\", \"variable\": \"TA\", \"value\": -0.9399999976158142, \"is_present\": true, \"mean\": 19.07571029663086, \"std\": 8.73351001739502, \"err_low\": -18.407020568847656, \"err_high\": 16.527019500732422}, {\"time\": \"2000-12-19T04:00:00\", \"variable\": \"TA\", \"value\": -0.9700000286102295, \"is_present\": false, \"mean\": -146.65142822265625, \"std\": 9.521690368652344, \"err_low\": -20.01338005065918, \"err_high\": 18.073381423950195}, {\"time\": \"2000-12-19T04:30:00\", \"variable\": \"TA\", \"value\": -0.8199999928474426, \"is_present\": false, \"mean\": -293.28424072265625, \"std\": 14.782987594604492, \"err_low\": -30.385974884033203, \"err_high\": 28.745975494384766}, {\"time\": \"2000-12-19T05:00:00\", \"variable\": \"TA\", \"value\": -0.5899999737739563, \"is_present\": true, \"mean\": -566.5355834960938, \"std\": 26.312881469726562, \"err_low\": -53.215763092041016, \"err_high\": 52.035762786865234}, {\"time\": \"2000-12-19T05:30:00\", \"variable\": \"TA\", \"value\": -0.75, \"is_present\": true, \"mean\": -272.8945617675781, \"std\": 9.48051929473877, \"err_low\": -19.71103858947754, \"err_high\": 18.21103858947754}, {\"time\": \"2000-12-19T06:00:00\", \"variable\": \"TA\", \"value\": -1.0199999809265137, \"is_present\": true, \"mean\": -274.63104248046875, \"std\": 8.921236991882324, \"err_low\": -18.86247444152832, \"err_high\": 16.822473526000977}, {\"time\": \"2000-12-19T06:30:00\", \"variable\": \"TA\", \"value\": -1.0700000524520874, \"is_present\": true, \"mean\": -283.3438415527344, \"std\": 8.930904388427734, \"err_low\": -18.931808471679688, \"err_high\": 16.79180908203125}, {\"time\": \"2000-12-19T07:00:00\", \"variable\": \"TA\", \"value\": -1.0299999713897705, \"is_present\": true, \"mean\": -288.73992919921875, \"std\": 8.928032875061035, \"err_low\": -18.886066436767578, \"err_high\": 16.826065063476562}, {\"time\": \"2000-12-19T07:30:00\", \"variable\": \"TA\", \"value\": -1.0099999904632568, \"is_present\": true, \"mean\": -289.6515808105469, \"std\": 8.929244041442871, \"err_low\": -18.868488311767578, \"err_high\": 16.848487854003906}, {\"time\": \"2000-12-19T08:00:00\", \"variable\": \"TA\", \"value\": -1.0099999904632568, \"is_present\": true, \"mean\": -289.97021484375, \"std\": 8.932503700256348, \"err_low\": -18.87500762939453, \"err_high\": 16.85500717163086}], \"data-7d78aa5c5627c5594016bb44117370a1\": [{\"time\": \"2000-12-19T03:30:00\", \"variable\": \"SW_IN\", \"value\": 0.0, \"is_present\": true, \"mean\": 426.03997802734375, \"std\": 387.0140686035156, \"err_low\": -774.0281372070312, \"err_high\": 774.0281372070312}, {\"time\": \"2000-12-19T04:00:00\", \"variable\": \"SW_IN\", \"value\": 0.0, \"is_present\": false, \"mean\": -7370.93701171875, \"std\": 452.145751953125, \"err_low\": -904.29150390625, \"err_high\": 904.29150390625}, {\"time\": \"2000-12-19T04:30:00\", \"variable\": \"SW_IN\", \"value\": 0.0, \"is_present\": false, \"mean\": -13396.279296875, \"std\": 691.3146362304688, \"err_low\": -1382.6292724609375, \"err_high\": 1382.6292724609375}, {\"time\": \"2000-12-19T05:00:00\", \"variable\": \"SW_IN\", \"value\": 0.0, \"is_present\": true, \"mean\": -26009.107421875, \"std\": 1184.978759765625, \"err_low\": -2369.95751953125, \"err_high\": 2369.95751953125}, {\"time\": \"2000-12-19T05:30:00\", \"variable\": \"SW_IN\", \"value\": 0.0, \"is_present\": true, \"mean\": -12552.5244140625, \"std\": 451.0327453613281, \"err_low\": -902.0654907226562, \"err_high\": 902.0654907226562}, {\"time\": \"2000-12-19T06:00:00\", \"variable\": \"SW_IN\", \"value\": 0.0, \"is_present\": true, \"mean\": -12674.62890625, \"std\": 431.60748291015625, \"err_low\": -863.2149658203125, \"err_high\": 863.2149658203125}, {\"time\": \"2000-12-19T06:30:00\", \"variable\": \"SW_IN\", \"value\": 0.0, \"is_present\": true, \"mean\": -13074.0859375, \"std\": 431.83917236328125, \"err_low\": -863.6783447265625, \"err_high\": 863.6783447265625}, {\"time\": \"2000-12-19T07:00:00\", \"variable\": \"SW_IN\", \"value\": 0.0, \"is_present\": true, \"mean\": -13300.8544921875, \"std\": 431.7430419921875, \"err_low\": -863.486083984375, \"err_high\": 863.486083984375}, {\"time\": \"2000-12-19T07:30:00\", \"variable\": \"SW_IN\", \"value\": 0.0, \"is_present\": true, \"mean\": -13340.91796875, \"std\": 431.78375244140625, \"err_low\": -863.5675048828125, \"err_high\": 863.5675048828125}, {\"time\": \"2000-12-19T08:00:00\", \"variable\": \"SW_IN\", \"value\": 0.0, \"is_present\": true, \"mean\": -13355.7685546875, \"std\": 431.9412841796875, \"err_low\": -863.882568359375, \"err_high\": 863.882568359375}], \"data-896e2614373aecf01fd64cc5ca33e8a3\": [{\"time\": \"2000-12-19T03:30:00\", \"variable\": \"VPD\", \"value\": 0.11999999731779099, \"is_present\": true, \"mean\": 11.153300285339355, \"std\": 8.187275886535645, \"err_low\": -16.25455093383789, \"err_high\": 16.494552612304688}, {\"time\": \"2000-12-19T04:00:00\", \"variable\": \"VPD\", \"value\": 0.11999999731779099, \"is_present\": true, \"mean\": -153.85243225097656, \"std\": 9.882741928100586, \"err_low\": -19.645483016967773, \"err_high\": 19.88548469543457}, {\"time\": \"2000-12-19T04:30:00\", \"variable\": \"VPD\", \"value\": 0.11500000208616257, \"is_present\": true, \"mean\": -278.00555419921875, \"std\": 14.793489456176758, \"err_low\": -29.47197914123535, \"err_high\": 29.70197868347168}, {\"time\": \"2000-12-19T05:00:00\", \"variable\": \"VPD\", \"value\": 0.11699999868869781, \"is_present\": true, \"mean\": -543.615234375, \"std\": 24.96489715576172, \"err_low\": -49.81279373168945, \"err_high\": 50.04679489135742}, {\"time\": \"2000-12-19T05:30:00\", \"variable\": \"VPD\", \"value\": 0.11599999666213989, \"is_present\": true, \"mean\": -260.7052307128906, \"std\": 9.863168716430664, \"err_low\": -19.61033821105957, \"err_high\": 19.842336654663086}, {\"time\": \"2000-12-19T06:00:00\", \"variable\": \"VPD\", \"value\": 0.10899999737739563, \"is_present\": true, \"mean\": -263.47491455078125, \"std\": 9.487200736999512, \"err_low\": -18.865402221679688, \"err_high\": 19.08340072631836}, {\"time\": \"2000-12-19T06:30:00\", \"variable\": \"VPD\", \"value\": 0.10199999809265137, \"is_present\": true, \"mean\": -271.9096374511719, \"std\": 9.491171836853027, \"err_low\": -18.88034439086914, \"err_high\": 19.08434295654297}, {\"time\": \"2000-12-19T07:00:00\", \"variable\": \"VPD\", \"value\": 0.09799999743700027, \"is_present\": true, \"mean\": -276.60797119140625, \"std\": 9.489331245422363, \"err_low\": -18.88066291809082, \"err_high\": 19.076662063598633}, {\"time\": \"2000-12-19T07:30:00\", \"variable\": \"VPD\", \"value\": 0.09600000083446503, \"is_present\": true, \"mean\": -277.4502258300781, \"std\": 9.490104675292969, \"err_low\": -18.88420867919922, \"err_high\": 19.076210021972656}, {\"time\": \"2000-12-19T08:00:00\", \"variable\": \"VPD\", \"value\": 0.09600000083446503, \"is_present\": true, \"mean\": -277.76434326171875, \"std\": 9.493330001831055, \"err_low\": -18.89065933227539, \"err_high\": 19.082660675048828}], \"data-4fe3aa6e1c1f686ada08065a15d6b5a4\": [{\"time\": \"2000-09-28T01:30:00\", \"variable\": \"TA\", \"value\": 14.010000228881836, \"is_present\": true, \"mean\": 19.07571029663086, \"std\": 8.73351001739502, \"err_low\": -3.457019805908203, \"err_high\": 31.477020263671875}, {\"time\": \"2000-09-28T02:00:00\", \"variable\": \"TA\", \"value\": 14.069999694824219, \"is_present\": true, \"mean\": 26.21902084350586, \"std\": 9.521690368652344, \"err_low\": -4.973381042480469, \"err_high\": 33.113380432128906}, {\"time\": \"2000-09-28T02:30:00\", \"variable\": \"TA\", \"value\": 14.170000076293945, \"is_present\": true, \"mean\": 43.09665298461914, \"std\": 8.931245803833008, \"err_low\": -3.6924915313720703, \"err_high\": 32.032493591308594}, {\"time\": \"2000-09-28T03:00:00\", \"variable\": \"TA\", \"value\": 14.0, \"is_present\": true, \"mean\": 47.5060920715332, \"std\": 8.934998512268066, \"err_low\": -3.869997024536133, \"err_high\": 31.869997024536133}, {\"time\": \"2000-09-28T03:30:00\", \"variable\": \"TA\", \"value\": 13.979999542236328, \"is_present\": true, \"mean\": 44.116477966308594, \"std\": 8.929085731506348, \"err_low\": -3.878171920776367, \"err_high\": 31.838171005249023}, {\"time\": \"2000-09-28T04:00:00\", \"variable\": \"TA\", \"value\": 13.699999809265137, \"is_present\": true, \"mean\": 38.45564651489258, \"std\": 8.926377296447754, \"err_low\": -4.152754783630371, \"err_high\": 31.552753448486328}, {\"time\": \"2000-09-28T04:30:00\", \"variable\": \"TA\", \"value\": 13.930000305175781, \"is_present\": true, \"mean\": 28.13037109375, \"std\": 8.931000709533691, \"err_low\": -3.9320011138916016, \"err_high\": 31.792001724243164}, {\"time\": \"2000-09-28T05:00:00\", \"variable\": \"TA\", \"value\": 13.880000114440918, \"is_present\": false, \"mean\": 29.362857818603516, \"std\": 8.931939125061035, \"err_low\": -3.9838781356811523, \"err_high\": 31.743877410888672}, {\"time\": \"2000-09-28T05:30:00\", \"variable\": \"TA\", \"value\": 14.010000228881836, \"is_present\": false, \"mean\": 45.93040466308594, \"std\": 13.454289436340332, \"err_low\": -12.898578643798828, \"err_high\": 40.9185791015625}, {\"time\": \"2000-09-28T06:00:00\", \"variable\": \"TA\", \"value\": 14.039999961853027, \"is_present\": true, \"mean\": 77.35734558105469, \"std\": 23.52825355529785, \"err_low\": -33.01650619506836, \"err_high\": 61.09650802612305}], \"data-cb4f986b4d0d84aeee756ff42aa5e8fb\": [{\"time\": \"2000-09-28T01:30:00\", \"variable\": \"SW_IN\", \"value\": 0.0, \"is_present\": true, \"mean\": 426.03997802734375, \"std\": 387.0140686035156, \"err_low\": -774.0281372070312, \"err_high\": 774.0281372070312}, {\"time\": \"2000-09-28T02:00:00\", \"variable\": \"SW_IN\", \"value\": 0.0, \"is_present\": true, \"mean\": 747.6859130859375, \"std\": 452.145751953125, \"err_low\": -904.29150390625, \"err_high\": 904.29150390625}, {\"time\": \"2000-09-28T02:30:00\", \"variable\": \"SW_IN\", \"value\": 0.0, \"is_present\": true, \"mean\": 1433.2098388671875, \"std\": 431.8902587890625, \"err_low\": -863.780517578125, \"err_high\": 863.780517578125}, {\"time\": \"2000-09-28T03:00:00\", \"variable\": \"SW_IN\", \"value\": 0.0, \"is_present\": true, \"mean\": 1643.2039794921875, \"std\": 432.0213317871094, \"err_low\": -864.0426635742188, \"err_high\": 864.0426635742188}, {\"time\": \"2000-09-28T03:30:00\", \"variable\": \"SW_IN\", \"value\": 0.0, \"is_present\": true, \"mean\": 1469.3602294921875, \"std\": 431.7625732421875, \"err_low\": -863.525146484375, \"err_high\": 863.525146484375}, {\"time\": \"2000-09-28T04:00:00\", \"variable\": \"SW_IN\", \"value\": 0.0, \"is_present\": true, \"mean\": 1230.7412109375, \"std\": 431.6690979003906, \"err_low\": -863.3381958007812, \"err_high\": 863.3381958007812}, {\"time\": \"2000-09-28T04:30:00\", \"variable\": \"SW_IN\", \"value\": 0.0, \"is_present\": true, \"mean\": 755.3905029296875, \"std\": 431.889892578125, \"err_low\": -863.77978515625, \"err_high\": 863.77978515625}, {\"time\": \"2000-09-28T05:00:00\", \"variable\": \"SW_IN\", \"value\": 0.0, \"is_present\": false, \"mean\": 845.1849365234375, \"std\": 431.89666748046875, \"err_low\": -863.7933349609375, \"err_high\": 863.7933349609375}, {\"time\": \"2000-09-28T05:30:00\", \"variable\": \"SW_IN\", \"value\": 0.0, \"is_present\": false, \"mean\": 1569.829345703125, \"std\": 630.25390625, \"err_low\": -1260.5078125, \"err_high\": 1260.5078125}, {\"time\": \"2000-09-28T06:00:00\", \"variable\": \"SW_IN\", \"value\": 0.0, \"is_present\": true, \"mean\": 2987.352294921875, \"std\": 1064.2335205078125, \"err_low\": -2128.467041015625, \"err_high\": 2128.467041015625}], \"data-021ff0bcae535a95d81d31401567b82f\": [{\"time\": \"2000-09-28T01:30:00\", \"variable\": \"VPD\", \"value\": 1.2319999933242798, \"is_present\": true, \"mean\": 11.153300285339355, \"std\": 8.187275886535645, \"err_low\": -15.14255142211914, \"err_high\": 17.606552124023438}, {\"time\": \"2000-09-28T02:00:00\", \"variable\": \"VPD\", \"value\": 1.194000005722046, \"is_present\": true, \"mean\": 17.600616455078125, \"std\": 9.882741928100586, \"err_low\": -18.571483612060547, \"err_high\": 20.959484100341797}, {\"time\": \"2000-09-28T02:30:00\", \"variable\": \"VPD\", \"value\": 1.2890000343322754, \"is_present\": true, \"mean\": 31.70066261291504, \"std\": 9.492395401000977, \"err_low\": -17.695791244506836, \"err_high\": 20.27379035949707}, {\"time\": \"2000-09-28T03:00:00\", \"variable\": \"VPD\", \"value\": 1.1080000400543213, \"is_present\": true, \"mean\": 36.15609359741211, \"std\": 9.494841575622559, \"err_low\": -17.881683349609375, \"err_high\": 20.09768295288086}, {\"time\": \"2000-09-28T03:30:00\", \"variable\": \"VPD\", \"value\": 1.059000015258789, \"is_present\": true, \"mean\": 32.437896728515625, \"std\": 9.48963737487793, \"err_low\": -17.92027473449707, \"err_high\": 20.03827476501465}, {\"time\": \"2000-09-28T04:00:00\", \"variable\": \"VPD\", \"value\": 0.8309999704360962, \"is_present\": true, \"mean\": 27.495967864990234, \"std\": 9.487833976745605, \"err_low\": -18.144668579101562, \"err_high\": 19.80666732788086}, {\"time\": \"2000-09-28T04:30:00\", \"variable\": \"VPD\", \"value\": 1.0390000343322754, \"is_present\": true, \"mean\": 17.489639282226562, \"std\": 9.492341041564941, \"err_low\": -17.945682525634766, \"err_high\": 20.023681640625}, {\"time\": \"2000-09-28T05:00:00\", \"variable\": \"VPD\", \"value\": 1.1150000095367432, \"is_present\": true, \"mean\": 19.48920249938965, \"std\": 9.492371559143066, \"err_low\": -17.86974334716797, \"err_high\": 20.099742889404297}, {\"time\": \"2000-09-28T05:30:00\", \"variable\": \"VPD\", \"value\": 1.2369999885559082, \"is_present\": true, \"mean\": 34.58951187133789, \"std\": 13.527811050415039, \"err_low\": -25.818622589111328, \"err_high\": 28.292621612548828}, {\"time\": \"2000-09-28T06:00:00\", \"variable\": \"VPD\", \"value\": 1.3309999704360962, \"is_present\": true, \"mean\": 64.31781005859375, \"std\": 22.464420318603516, \"err_low\": -43.59783935546875, \"err_high\": 46.25984191894531}], \"data-fa7e333732ec3e737958177687cf8bb4\": [{\"time\": \"2000-10-17T10:30:00\", \"variable\": \"TA\", \"value\": 10.460000038146973, \"is_present\": false, \"mean\": 19.07571029663086, \"std\": 8.73351001739502, \"err_low\": -7.007019996643066, \"err_high\": 27.927021026611328}, {\"time\": \"2000-10-17T11:00:00\", \"variable\": \"TA\", \"value\": 10.15999984741211, \"is_present\": false, \"mean\": 25.490163803100586, \"std\": 13.456191062927246, \"err_low\": -16.752382278442383, \"err_high\": 37.07238006591797}, {\"time\": \"2000-10-17T11:30:00\", \"variable\": \"TA\", \"value\": 10.399999618530273, \"is_present\": true, \"mean\": 38.70755386352539, \"std\": 23.377582550048828, \"err_low\": -36.35516357421875, \"err_high\": 57.15516662597656}, {\"time\": \"2000-10-17T12:00:00\", \"variable\": \"TA\", \"value\": 10.430000305175781, \"is_present\": true, \"mean\": -166.9179229736328, \"std\": 9.636713027954102, \"err_low\": -8.843425750732422, \"err_high\": 29.703426361083984}, {\"time\": \"2000-10-17T12:30:00\", \"variable\": \"TA\", \"value\": 10.630000114440918, \"is_present\": true, \"mean\": -142.69363403320312, \"std\": 8.919102668762207, \"err_low\": -7.208205223083496, \"err_high\": 28.468204498291016}, {\"time\": \"2000-10-17T13:00:00\", \"variable\": \"TA\", \"value\": 10.899999618530273, \"is_present\": true, \"mean\": -168.9970245361328, \"std\": 8.929347038269043, \"err_low\": -6.9586944580078125, \"err_high\": 28.75869369506836}, {\"time\": \"2000-10-17T13:30:00\", \"variable\": \"TA\", \"value\": 11.15999984741211, \"is_present\": true, \"mean\": -220.05067443847656, \"std\": 8.930416107177734, \"err_low\": -6.700832366943359, \"err_high\": 29.020832061767578}, {\"time\": \"2000-10-17T14:00:00\", \"variable\": \"TA\", \"value\": 10.8100004196167, \"is_present\": true, \"mean\": -209.880859375, \"std\": 8.930230140686035, \"err_low\": -7.050459861755371, \"err_high\": 28.670459747314453}, {\"time\": \"2000-10-17T14:30:00\", \"variable\": \"TA\", \"value\": 10.430000305175781, \"is_present\": true, \"mean\": -99.95895385742188, \"std\": 8.926085472106934, \"err_low\": -7.422170639038086, \"err_high\": 28.28217124938965}, {\"time\": \"2000-10-17T15:00:00\", \"variable\": \"TA\", \"value\": 10.050000190734863, \"is_present\": true, \"mean\": -45.56036376953125, \"std\": 8.925995826721191, \"err_low\": -7.8019914627075195, \"err_high\": 27.901992797851562}], \"data-3ef8eb7092ee71ac238c2f9a55cf1d09\": [{\"time\": \"2000-10-17T10:30:00\", \"variable\": \"SW_IN\", \"value\": 238.8800048828125, \"is_present\": false, \"mean\": 426.03997802734375, \"std\": 387.0140686035156, \"err_low\": -535.1481323242188, \"err_high\": 1012.9081420898438}, {\"time\": \"2000-10-17T11:00:00\", \"variable\": \"SW_IN\", \"value\": 84.69999694824219, \"is_present\": false, \"mean\": 679.3577880859375, \"std\": 619.5482788085938, \"err_low\": -1154.3966064453125, \"err_high\": 1323.7965087890625}, {\"time\": \"2000-10-17T11:30:00\", \"variable\": \"SW_IN\", \"value\": 160.47999572753906, \"is_present\": true, \"mean\": 1238.1650390625, \"std\": 1066.5347900390625, \"err_low\": -1972.589599609375, \"err_high\": 2293.549560546875}, {\"time\": \"2000-10-17T12:00:00\", \"variable\": \"SW_IN\", \"value\": 108.86000061035156, \"is_present\": true, \"mean\": -7964.52392578125, \"std\": 456.6365661621094, \"err_low\": -804.4131469726562, \"err_high\": 1022.1331176757812}, {\"time\": \"2000-10-17T12:30:00\", \"variable\": \"SW_IN\", \"value\": 193.6300048828125, \"is_present\": true, \"mean\": -6687.38427734375, \"std\": 431.5096740722656, \"err_low\": -669.3893432617188, \"err_high\": 1056.6494140625}, {\"time\": \"2000-10-17T13:00:00\", \"variable\": \"SW_IN\", \"value\": 222.30999755859375, \"is_present\": true, \"mean\": -8117.99951171875, \"std\": 431.7867126464844, \"err_low\": -641.263427734375, \"err_high\": 1085.8834228515625}, {\"time\": \"2000-10-17T13:30:00\", \"variable\": \"SW_IN\", \"value\": 207.4600067138672, \"is_present\": true, \"mean\": -10252.900390625, \"std\": 431.84722900390625, \"err_low\": -656.2344360351562, \"err_high\": 1071.1544189453125}, {\"time\": \"2000-10-17T14:00:00\", \"variable\": \"SW_IN\", \"value\": 59.08000183105469, \"is_present\": true, \"mean\": -9763.970703125, \"std\": 431.8232116699219, \"err_low\": -804.56640625, \"err_high\": 922.7264404296875}, {\"time\": \"2000-10-17T14:30:00\", \"variable\": \"SW_IN\", \"value\": 58.0, \"is_present\": true, \"mean\": -4725.552734375, \"std\": 431.66204833984375, \"err_low\": -805.3240966796875, \"err_high\": 921.3240966796875}, {\"time\": \"2000-10-17T15:00:00\", \"variable\": \"SW_IN\", \"value\": 76.61000061035156, \"is_present\": true, \"mean\": -2546.42138671875, \"std\": 431.6522216796875, \"err_low\": -786.6944580078125, \"err_high\": 939.9144287109375}], \"data-a28bfd3607b1e00a5396ec7a34a7fd2d\": [{\"time\": \"2000-10-17T10:30:00\", \"variable\": \"VPD\", \"value\": 2.009999990463257, \"is_present\": true, \"mean\": 11.153300285339355, \"std\": 8.187275886535645, \"err_low\": -14.364551544189453, \"err_high\": 18.384552001953125}, {\"time\": \"2000-10-17T11:00:00\", \"variable\": \"VPD\", \"value\": 1.7719999551773071, \"is_present\": true, \"mean\": 16.029443740844727, \"std\": 13.272482872009277, \"err_low\": -24.772966384887695, \"err_high\": 28.316965103149414}, {\"time\": \"2000-10-17T11:30:00\", \"variable\": \"VPD\", \"value\": 2.055999994277954, \"is_present\": true, \"mean\": 27.611797332763672, \"std\": 22.5463924407959, \"err_low\": -43.03678512573242, \"err_high\": 47.14878463745117}, {\"time\": \"2000-10-17T12:00:00\", \"variable\": \"VPD\", \"value\": 2.5160000324249268, \"is_present\": true, \"mean\": -165.15402221679688, \"std\": 9.972493171691895, \"err_low\": -17.428985595703125, \"err_high\": 22.460987091064453}, {\"time\": \"2000-10-17T12:30:00\", \"variable\": \"VPD\", \"value\": 2.7160000801086426, \"is_present\": true, \"mean\": -137.71896362304688, \"std\": 9.485231399536133, \"err_low\": -16.25446319580078, \"err_high\": 21.68646240234375}, {\"time\": \"2000-10-17T13:00:00\", \"variable\": \"VPD\", \"value\": 2.986999988555908, \"is_present\": true, \"mean\": -168.6394500732422, \"std\": 9.490166664123535, \"err_low\": -15.99333381652832, \"err_high\": 21.96733283996582}, {\"time\": \"2000-10-17T13:30:00\", \"variable\": \"VPD\", \"value\": 3.260999917984009, \"is_present\": true, \"mean\": -212.779541015625, \"std\": 9.491427421569824, \"err_low\": -15.721855163574219, \"err_high\": 22.243854522705078}, {\"time\": \"2000-10-17T14:00:00\", \"variable\": \"VPD\", \"value\": 2.9010000228881836, \"is_present\": true, \"mean\": -202.47767639160156, \"std\": 9.490893363952637, \"err_low\": -16.080787658691406, \"err_high\": 21.88278579711914}, {\"time\": \"2000-10-17T14:30:00\", \"variable\": \"VPD\", \"value\": 2.436000108718872, \"is_present\": true, \"mean\": -96.55625915527344, \"std\": 9.48771858215332, \"err_low\": -16.53943634033203, \"err_high\": 21.41143798828125}, {\"time\": \"2000-10-17T15:00:00\", \"variable\": \"VPD\", \"value\": 1.8279999494552612, \"is_present\": true, \"mean\": -51.79391860961914, \"std\": 9.487494468688965, \"err_low\": -17.146989822387695, \"err_high\": 20.802988052368164}]}}, {\"mode\": \"vega-lite\"});\n",
       "</script>"
      ],
      "text/plain": [
       "alt.HConcatChart(...)"
      ]
     },
     "execution_count": null,
     "metadata": {},
     "output_type": "execute_result"
    }
   ],
   "source": [
    "show_results(learn)"
   ]
  },
  {
   "cell_type": "code",
   "execution_count": null,
   "id": "4b36ddaf-759c-4b42-be6e-4ad2843088c0",
   "metadata": {},
   "outputs": [
    {
     "data": {
      "text/html": [
       "\n",
       "<div id=\"altair-viz-609169872b48425fac3986752f66d079\"></div>\n",
       "<script type=\"text/javascript\">\n",
       "  var VEGA_DEBUG = (typeof VEGA_DEBUG == \"undefined\") ? {} : VEGA_DEBUG;\n",
       "  (function(spec, embedOpt){\n",
       "    let outputDiv = document.currentScript.previousElementSibling;\n",
       "    if (outputDiv.id !== \"altair-viz-609169872b48425fac3986752f66d079\") {\n",
       "      outputDiv = document.getElementById(\"altair-viz-609169872b48425fac3986752f66d079\");\n",
       "    }\n",
       "    const paths = {\n",
       "      \"vega\": \"https://cdn.jsdelivr.net/npm//vega@5?noext\",\n",
       "      \"vega-lib\": \"https://cdn.jsdelivr.net/npm//vega-lib?noext\",\n",
       "      \"vega-lite\": \"https://cdn.jsdelivr.net/npm//vega-lite@5.2.0?noext\",\n",
       "      \"vega-embed\": \"https://cdn.jsdelivr.net/npm//vega-embed@6?noext\",\n",
       "    };\n",
       "\n",
       "    function maybeLoadScript(lib, version) {\n",
       "      var key = `${lib.replace(\"-\", \"\")}_version`;\n",
       "      return (VEGA_DEBUG[key] == version) ?\n",
       "        Promise.resolve(paths[lib]) :\n",
       "        new Promise(function(resolve, reject) {\n",
       "          var s = document.createElement('script');\n",
       "          document.getElementsByTagName(\"head\")[0].appendChild(s);\n",
       "          s.async = true;\n",
       "          s.onload = () => {\n",
       "            VEGA_DEBUG[key] = version;\n",
       "            return resolve(paths[lib]);\n",
       "          };\n",
       "          s.onerror = () => reject(`Error loading script: ${paths[lib]}`);\n",
       "          s.src = paths[lib];\n",
       "        });\n",
       "    }\n",
       "\n",
       "    function showError(err) {\n",
       "      outputDiv.innerHTML = `<div class=\"error\" style=\"color:red;\">${err}</div>`;\n",
       "      throw err;\n",
       "    }\n",
       "\n",
       "    function displayChart(vegaEmbed) {\n",
       "      vegaEmbed(outputDiv, spec, embedOpt)\n",
       "        .catch(err => showError(`Javascript Error: ${err.message}<br>This usually means there's a typo in your chart specification. See the javascript console for the full traceback.`));\n",
       "    }\n",
       "\n",
       "    if(typeof define === \"function\" && define.amd) {\n",
       "      requirejs.config({paths});\n",
       "      require([\"vega-embed\"], displayChart, err => showError(`Error loading script: ${err.message}`));\n",
       "    } else {\n",
       "      maybeLoadScript(\"vega\", \"5\")\n",
       "        .then(() => maybeLoadScript(\"vega-lite\", \"5.2.0\"))\n",
       "        .then(() => maybeLoadScript(\"vega-embed\", \"6\"))\n",
       "        .catch(showError)\n",
       "        .then(() => displayChart(vegaEmbed));\n",
       "    }\n",
       "  })({\"config\": {\"view\": {\"continuousWidth\": 400, \"continuousHeight\": 300}}, \"hconcat\": [{\"vconcat\": [{\"hconcat\": [{\"layer\": [{\"mark\": {\"type\": \"point\", \"color\": \"black\", \"fillOpacity\": 1, \"strokeWidth\": 1}, \"encoding\": {\"fill\": {\"field\": \"is_present\", \"legend\": {\"title\": [\"Observed data\"]}, \"scale\": {\"range\": [\"black\", \"#ffffff00\"]}, \"type\": \"nominal\"}, \"shape\": {\"field\": \"is_present\", \"type\": \"nominal\"}, \"x\": {\"field\": \"time\", \"type\": \"temporal\"}, \"y\": {\"field\": \"value\", \"scale\": {\"zero\": false}, \"title\": \"TA\", \"type\": \"quantitative\"}}}, {\"layer\": [{\"mark\": \"errorband\", \"encoding\": {\"color\": {\"field\": \"variable\", \"legend\": {\"title\": [\"Line: pred. mean\", \"area: +/- 2 std\"]}, \"type\": \"nominal\"}, \"x\": {\"field\": \"time\", \"type\": \"temporal\"}, \"y\": {\"field\": \"err_low\", \"scale\": {\"zero\": false}, \"title\": \"TA\", \"type\": \"quantitative\"}, \"y2\": {\"field\": \"err_high\"}}, \"name\": \"view_30\"}, {\"mark\": \"line\", \"encoding\": {\"color\": {\"field\": \"variable\", \"type\": \"nominal\"}, \"x\": {\"field\": \"time\", \"type\": \"temporal\"}, \"y\": {\"field\": \"value\", \"scale\": {\"zero\": false}, \"title\": \"TA\", \"type\": \"quantitative\"}}}]}], \"height\": 150, \"title\": \"TA\", \"width\": 200}], \"data\": {\"name\": \"data-98f79dc8cbfed0fcb4cb86a92e20c203\"}}, {\"hconcat\": [{\"layer\": [{\"mark\": {\"type\": \"point\", \"color\": \"black\", \"fillOpacity\": 1, \"strokeWidth\": 1}, \"encoding\": {\"fill\": {\"field\": \"is_present\", \"legend\": {\"title\": [\"Observed data\"]}, \"scale\": {\"range\": [\"black\", \"#ffffff00\"]}, \"type\": \"nominal\"}, \"shape\": {\"field\": \"is_present\", \"type\": \"nominal\"}, \"x\": {\"field\": \"time\", \"type\": \"temporal\"}, \"y\": {\"field\": \"value\", \"scale\": {\"zero\": false}, \"title\": \"SW_IN\", \"type\": \"quantitative\"}}}, {\"layer\": [{\"mark\": \"errorband\", \"encoding\": {\"color\": {\"field\": \"variable\", \"legend\": {\"title\": [\"Line: pred. mean\", \"area: +/- 2 std\"]}, \"type\": \"nominal\"}, \"x\": {\"field\": \"time\", \"type\": \"temporal\"}, \"y\": {\"field\": \"err_low\", \"scale\": {\"zero\": false}, \"title\": \"SW_IN\", \"type\": \"quantitative\"}, \"y2\": {\"field\": \"err_high\"}}, \"name\": \"view_31\"}, {\"mark\": \"line\", \"encoding\": {\"color\": {\"field\": \"variable\", \"type\": \"nominal\"}, \"x\": {\"field\": \"time\", \"type\": \"temporal\"}, \"y\": {\"field\": \"value\", \"scale\": {\"zero\": false}, \"title\": \"SW_IN\", \"type\": \"quantitative\"}}}]}], \"height\": 150, \"title\": \"SW_IN\", \"width\": 200}], \"data\": {\"name\": \"data-d8f701be62ecbaa96ab224c85aa071c4\"}}, {\"hconcat\": [{\"layer\": [{\"mark\": {\"type\": \"point\", \"color\": \"black\", \"fillOpacity\": 1, \"strokeWidth\": 1}, \"encoding\": {\"fill\": {\"field\": \"is_present\", \"legend\": {\"title\": [\"Observed data\"]}, \"scale\": {\"range\": [\"black\", \"#ffffff00\"]}, \"type\": \"nominal\"}, \"shape\": {\"field\": \"is_present\", \"type\": \"nominal\"}, \"x\": {\"field\": \"time\", \"type\": \"temporal\"}, \"y\": {\"field\": \"value\", \"scale\": {\"zero\": false}, \"title\": \"VPD\", \"type\": \"quantitative\"}}}, {\"layer\": [{\"mark\": \"errorband\", \"encoding\": {\"color\": {\"field\": \"variable\", \"legend\": {\"title\": [\"Line: pred. mean\", \"area: +/- 2 std\"]}, \"type\": \"nominal\"}, \"x\": {\"field\": \"time\", \"type\": \"temporal\"}, \"y\": {\"field\": \"err_low\", \"scale\": {\"zero\": false}, \"title\": \"VPD\", \"type\": \"quantitative\"}, \"y2\": {\"field\": \"err_high\"}}, \"name\": \"view_32\"}, {\"mark\": \"line\", \"encoding\": {\"color\": {\"field\": \"variable\", \"type\": \"nominal\"}, \"x\": {\"field\": \"time\", \"type\": \"temporal\"}, \"y\": {\"field\": \"value\", \"scale\": {\"zero\": false}, \"title\": \"VPD\", \"type\": \"quantitative\"}}}]}], \"height\": 150, \"title\": \"VPD\", \"width\": 200}], \"data\": {\"name\": \"data-28d7af5caba716146ecaac5110e9d337\"}}], \"title\": \"loss: -36434.675781\"}, {\"vconcat\": [{\"hconcat\": [{\"layer\": [{\"mark\": {\"type\": \"point\", \"color\": \"black\", \"fillOpacity\": 1, \"strokeWidth\": 1}, \"encoding\": {\"fill\": {\"field\": \"is_present\", \"legend\": {\"title\": [\"Observed data\"]}, \"scale\": {\"range\": [\"black\", \"#ffffff00\"]}, \"type\": \"nominal\"}, \"shape\": {\"field\": \"is_present\", \"type\": \"nominal\"}, \"x\": {\"field\": \"time\", \"type\": \"temporal\"}, \"y\": {\"field\": \"value\", \"scale\": {\"zero\": false}, \"title\": \"TA\", \"type\": \"quantitative\"}}}, {\"layer\": [{\"mark\": \"errorband\", \"encoding\": {\"color\": {\"field\": \"variable\", \"legend\": {\"title\": [\"Line: pred. mean\", \"area: +/- 2 std\"]}, \"type\": \"nominal\"}, \"x\": {\"field\": \"time\", \"type\": \"temporal\"}, \"y\": {\"field\": \"err_low\", \"scale\": {\"zero\": false}, \"title\": \"TA\", \"type\": \"quantitative\"}, \"y2\": {\"field\": \"err_high\"}}, \"name\": \"view_33\"}, {\"mark\": \"line\", \"encoding\": {\"color\": {\"field\": \"variable\", \"type\": \"nominal\"}, \"x\": {\"field\": \"time\", \"type\": \"temporal\"}, \"y\": {\"field\": \"value\", \"scale\": {\"zero\": false}, \"title\": \"TA\", \"type\": \"quantitative\"}}}]}], \"height\": 150, \"title\": \"TA\", \"width\": 200}], \"data\": {\"name\": \"data-d29e32b90fb51418b8452203fb8d8017\"}}, {\"hconcat\": [{\"layer\": [{\"mark\": {\"type\": \"point\", \"color\": \"black\", \"fillOpacity\": 1, \"strokeWidth\": 1}, \"encoding\": {\"fill\": {\"field\": \"is_present\", \"legend\": {\"title\": [\"Observed data\"]}, \"scale\": {\"range\": [\"black\", \"#ffffff00\"]}, \"type\": \"nominal\"}, \"shape\": {\"field\": \"is_present\", \"type\": \"nominal\"}, \"x\": {\"field\": \"time\", \"type\": \"temporal\"}, \"y\": {\"field\": \"value\", \"scale\": {\"zero\": false}, \"title\": \"SW_IN\", \"type\": \"quantitative\"}}}, {\"layer\": [{\"mark\": \"errorband\", \"encoding\": {\"color\": {\"field\": \"variable\", \"legend\": {\"title\": [\"Line: pred. mean\", \"area: +/- 2 std\"]}, \"type\": \"nominal\"}, \"x\": {\"field\": \"time\", \"type\": \"temporal\"}, \"y\": {\"field\": \"err_low\", \"scale\": {\"zero\": false}, \"title\": \"SW_IN\", \"type\": \"quantitative\"}, \"y2\": {\"field\": \"err_high\"}}, \"name\": \"view_34\"}, {\"mark\": \"line\", \"encoding\": {\"color\": {\"field\": \"variable\", \"type\": \"nominal\"}, \"x\": {\"field\": \"time\", \"type\": \"temporal\"}, \"y\": {\"field\": \"value\", \"scale\": {\"zero\": false}, \"title\": \"SW_IN\", \"type\": \"quantitative\"}}}]}], \"height\": 150, \"title\": \"SW_IN\", \"width\": 200}], \"data\": {\"name\": \"data-ed57f06386ca5ccb5d8a599f91a087c9\"}}, {\"hconcat\": [{\"layer\": [{\"mark\": {\"type\": \"point\", \"color\": \"black\", \"fillOpacity\": 1, \"strokeWidth\": 1}, \"encoding\": {\"fill\": {\"field\": \"is_present\", \"legend\": {\"title\": [\"Observed data\"]}, \"scale\": {\"range\": [\"black\", \"#ffffff00\"]}, \"type\": \"nominal\"}, \"shape\": {\"field\": \"is_present\", \"type\": \"nominal\"}, \"x\": {\"field\": \"time\", \"type\": \"temporal\"}, \"y\": {\"field\": \"value\", \"scale\": {\"zero\": false}, \"title\": \"VPD\", \"type\": \"quantitative\"}}}, {\"layer\": [{\"mark\": \"errorband\", \"encoding\": {\"color\": {\"field\": \"variable\", \"legend\": {\"title\": [\"Line: pred. mean\", \"area: +/- 2 std\"]}, \"type\": \"nominal\"}, \"x\": {\"field\": \"time\", \"type\": \"temporal\"}, \"y\": {\"field\": \"err_low\", \"scale\": {\"zero\": false}, \"title\": \"VPD\", \"type\": \"quantitative\"}, \"y2\": {\"field\": \"err_high\"}}, \"name\": \"view_35\"}, {\"mark\": \"line\", \"encoding\": {\"color\": {\"field\": \"variable\", \"type\": \"nominal\"}, \"x\": {\"field\": \"time\", \"type\": \"temporal\"}, \"y\": {\"field\": \"value\", \"scale\": {\"zero\": false}, \"title\": \"VPD\", \"type\": \"quantitative\"}}}]}], \"height\": 150, \"title\": \"VPD\", \"width\": 200}], \"data\": {\"name\": \"data-dfbaae86c85027022400ba837d30a3f2\"}}], \"title\": \"loss: -44768.039062\"}, {\"vconcat\": [{\"hconcat\": [{\"layer\": [{\"mark\": {\"type\": \"point\", \"color\": \"black\", \"fillOpacity\": 1, \"strokeWidth\": 1}, \"encoding\": {\"fill\": {\"field\": \"is_present\", \"legend\": {\"title\": [\"Observed data\"]}, \"scale\": {\"range\": [\"black\", \"#ffffff00\"]}, \"type\": \"nominal\"}, \"shape\": {\"field\": \"is_present\", \"type\": \"nominal\"}, \"x\": {\"field\": \"time\", \"type\": \"temporal\"}, \"y\": {\"field\": \"value\", \"scale\": {\"zero\": false}, \"title\": \"TA\", \"type\": \"quantitative\"}}}, {\"layer\": [{\"mark\": \"errorband\", \"encoding\": {\"color\": {\"field\": \"variable\", \"legend\": {\"title\": [\"Line: pred. mean\", \"area: +/- 2 std\"]}, \"type\": \"nominal\"}, \"x\": {\"field\": \"time\", \"type\": \"temporal\"}, \"y\": {\"field\": \"err_low\", \"scale\": {\"zero\": false}, \"title\": \"TA\", \"type\": \"quantitative\"}, \"y2\": {\"field\": \"err_high\"}}, \"name\": \"view_36\"}, {\"mark\": \"line\", \"encoding\": {\"color\": {\"field\": \"variable\", \"type\": \"nominal\"}, \"x\": {\"field\": \"time\", \"type\": \"temporal\"}, \"y\": {\"field\": \"value\", \"scale\": {\"zero\": false}, \"title\": \"TA\", \"type\": \"quantitative\"}}}]}], \"height\": 150, \"title\": \"TA\", \"width\": 200}], \"data\": {\"name\": \"data-520068efbcad15bb1da0bd746350ba85\"}}, {\"hconcat\": [{\"layer\": [{\"mark\": {\"type\": \"point\", \"color\": \"black\", \"fillOpacity\": 1, \"strokeWidth\": 1}, \"encoding\": {\"fill\": {\"field\": \"is_present\", \"legend\": {\"title\": [\"Observed data\"]}, \"scale\": {\"range\": [\"black\", \"#ffffff00\"]}, \"type\": \"nominal\"}, \"shape\": {\"field\": \"is_present\", \"type\": \"nominal\"}, \"x\": {\"field\": \"time\", \"type\": \"temporal\"}, \"y\": {\"field\": \"value\", \"scale\": {\"zero\": false}, \"title\": \"SW_IN\", \"type\": \"quantitative\"}}}, {\"layer\": [{\"mark\": \"errorband\", \"encoding\": {\"color\": {\"field\": \"variable\", \"legend\": {\"title\": [\"Line: pred. mean\", \"area: +/- 2 std\"]}, \"type\": \"nominal\"}, \"x\": {\"field\": \"time\", \"type\": \"temporal\"}, \"y\": {\"field\": \"err_low\", \"scale\": {\"zero\": false}, \"title\": \"SW_IN\", \"type\": \"quantitative\"}, \"y2\": {\"field\": \"err_high\"}}, \"name\": \"view_37\"}, {\"mark\": \"line\", \"encoding\": {\"color\": {\"field\": \"variable\", \"type\": \"nominal\"}, \"x\": {\"field\": \"time\", \"type\": \"temporal\"}, \"y\": {\"field\": \"value\", \"scale\": {\"zero\": false}, \"title\": \"SW_IN\", \"type\": \"quantitative\"}}}]}], \"height\": 150, \"title\": \"SW_IN\", \"width\": 200}], \"data\": {\"name\": \"data-5c228d5f67448c70676cbacf53603d17\"}}, {\"hconcat\": [{\"layer\": [{\"mark\": {\"type\": \"point\", \"color\": \"black\", \"fillOpacity\": 1, \"strokeWidth\": 1}, \"encoding\": {\"fill\": {\"field\": \"is_present\", \"legend\": {\"title\": [\"Observed data\"]}, \"scale\": {\"range\": [\"black\", \"#ffffff00\"]}, \"type\": \"nominal\"}, \"shape\": {\"field\": \"is_present\", \"type\": \"nominal\"}, \"x\": {\"field\": \"time\", \"type\": \"temporal\"}, \"y\": {\"field\": \"value\", \"scale\": {\"zero\": false}, \"title\": \"VPD\", \"type\": \"quantitative\"}}}, {\"layer\": [{\"mark\": \"errorband\", \"encoding\": {\"color\": {\"field\": \"variable\", \"legend\": {\"title\": [\"Line: pred. mean\", \"area: +/- 2 std\"]}, \"type\": \"nominal\"}, \"x\": {\"field\": \"time\", \"type\": \"temporal\"}, \"y\": {\"field\": \"err_low\", \"scale\": {\"zero\": false}, \"title\": \"VPD\", \"type\": \"quantitative\"}, \"y2\": {\"field\": \"err_high\"}}, \"name\": \"view_38\"}, {\"mark\": \"line\", \"encoding\": {\"color\": {\"field\": \"variable\", \"type\": \"nominal\"}, \"x\": {\"field\": \"time\", \"type\": \"temporal\"}, \"y\": {\"field\": \"value\", \"scale\": {\"zero\": false}, \"title\": \"VPD\", \"type\": \"quantitative\"}}}]}], \"height\": 150, \"title\": \"VPD\", \"width\": 200}], \"data\": {\"name\": \"data-1854be0da40e5a2c80f84d802417ef36\"}}], \"title\": \"loss: -32573.283203\"}], \"params\": [{\"name\": \"param_44\", \"select\": {\"type\": \"interval\", \"encodings\": [\"x\"]}, \"bind\": \"scales\", \"views\": [\"view_30\", \"view_31\", \"view_32\"]}, {\"name\": \"param_48\", \"select\": {\"type\": \"interval\", \"encodings\": [\"x\"]}, \"bind\": \"scales\", \"views\": [\"view_33\", \"view_34\", \"view_35\"]}, {\"name\": \"param_52\", \"select\": {\"type\": \"interval\", \"encodings\": [\"x\"]}, \"bind\": \"scales\", \"views\": [\"view_36\", \"view_37\", \"view_38\"]}], \"$schema\": \"https://vega.github.io/schema/vega-lite/v5.2.0.json\", \"datasets\": {\"data-98f79dc8cbfed0fcb4cb86a92e20c203\": [{\"time\": \"2000-01-01T05:30:00\", \"variable\": \"TA\", \"value\": -0.23000000417232513, \"is_present\": true, \"mean\": 19.07571029663086, \"std\": 8.73351001739502, \"err_low\": -17.697019577026367, \"err_high\": 17.23702049255371}, {\"time\": \"2000-01-01T06:00:00\", \"variable\": \"TA\", \"value\": -0.23000000417232513, \"is_present\": true, \"mean\": -139.36595153808594, \"std\": 9.521690368652344, \"err_low\": -19.273380279541016, \"err_high\": 18.81338119506836}, {\"time\": \"2000-01-01T06:30:00\", \"variable\": \"TA\", \"value\": -0.2199999988079071, \"is_present\": true, \"mean\": -254.52972412109375, \"std\": 8.931245803833008, \"err_low\": -18.082490921020508, \"err_high\": 17.642492294311523}, {\"time\": \"2000-01-01T07:00:00\", \"variable\": \"TA\", \"value\": -0.23999999463558197, \"is_present\": true, \"mean\": -266.790771484375, \"std\": 8.934998512268066, \"err_low\": -18.109996795654297, \"err_high\": 17.62999725341797}, {\"time\": \"2000-01-01T07:30:00\", \"variable\": \"TA\", \"value\": -0.23000000417232513, \"is_present\": true, \"mean\": -274.20208740234375, \"std\": 8.929085731506348, \"err_low\": -18.088171005249023, \"err_high\": 17.628171920776367}, {\"time\": \"2000-01-01T08:00:00\", \"variable\": \"TA\", \"value\": -0.2199999988079071, \"is_present\": false, \"mean\": -276.491455078125, \"std\": 8.926377296447754, \"err_low\": -18.07275390625, \"err_high\": 17.632755279541016}, {\"time\": \"2000-01-01T08:30:00\", \"variable\": \"TA\", \"value\": -0.1899999976158142, \"is_present\": false, \"mean\": -534.961669921875, \"std\": 13.440957069396973, \"err_low\": -27.071914672851562, \"err_high\": 26.691913604736328}, {\"time\": \"2000-01-01T09:00:00\", \"variable\": \"TA\", \"value\": -0.14000000059604645, \"is_present\": true, \"mean\": -1030.7928466796875, \"std\": 23.500511169433594, \"err_low\": -47.141021728515625, \"err_high\": 46.86102294921875}, {\"time\": \"2000-01-01T09:30:00\", \"variable\": \"TA\", \"value\": -0.029999999329447746, \"is_present\": true, \"mean\": -258.82342529296875, \"std\": 9.597160339355469, \"err_low\": -19.224321365356445, \"err_high\": 19.16431999206543}, {\"time\": \"2000-01-01T10:00:00\", \"variable\": \"TA\", \"value\": 0.03999999910593033, \"is_present\": true, \"mean\": -273.7153015136719, \"std\": 8.969844818115234, \"err_low\": -17.899688720703125, \"err_high\": 17.979690551757812}], \"data-d8f701be62ecbaa96ab224c85aa071c4\": [{\"time\": \"2000-01-01T05:30:00\", \"variable\": \"SW_IN\", \"value\": 0.0, \"is_present\": true, \"mean\": 426.03997802734375, \"std\": 387.0140686035156, \"err_low\": -774.0281372070312, \"err_high\": 774.0281372070312}, {\"time\": \"2000-01-01T06:00:00\", \"variable\": \"SW_IN\", \"value\": 0.0, \"is_present\": true, \"mean\": -7028.5673828125, \"std\": 452.145751953125, \"err_low\": -904.29150390625, \"err_high\": 904.29150390625}, {\"time\": \"2000-01-01T06:30:00\", \"variable\": \"SW_IN\", \"value\": 0.0, \"is_present\": true, \"mean\": -11762.099609375, \"std\": 431.8902587890625, \"err_low\": -863.780517578125, \"err_high\": 863.780517578125}, {\"time\": \"2000-01-01T07:00:00\", \"variable\": \"SW_IN\", \"value\": 0.0, \"is_present\": true, \"mean\": -12343.6953125, \"std\": 432.0213317871094, \"err_low\": -864.0426635742188, \"err_high\": 864.0426635742188}, {\"time\": \"2000-01-01T07:30:00\", \"variable\": \"SW_IN\", \"value\": 0.0, \"is_present\": true, \"mean\": -12654.9111328125, \"std\": 431.7625732421875, \"err_low\": -863.525146484375, \"err_high\": 863.525146484375}, {\"time\": \"2000-01-01T08:00:00\", \"variable\": \"SW_IN\", \"value\": 0.0, \"is_present\": false, \"mean\": -12757.625, \"std\": 431.6690979003906, \"err_low\": -863.3381958007812, \"err_high\": 863.3381958007812}, {\"time\": \"2000-01-01T08:30:00\", \"variable\": \"SW_IN\", \"value\": 0.44999998807907104, \"is_present\": false, \"mean\": -24552.271484375, \"std\": 629.6784057617188, \"err_low\": -1258.9068603515625, \"err_high\": 1259.8067626953125}, {\"time\": \"2000-01-01T09:00:00\", \"variable\": \"SW_IN\", \"value\": 3.700000047683716, \"is_present\": true, \"mean\": -46580.28125, \"std\": 1063.006103515625, \"err_low\": -2122.312255859375, \"err_high\": 2129.712158203125}, {\"time\": \"2000-01-01T09:30:00\", \"variable\": \"SW_IN\", \"value\": 7.260000228881836, \"is_present\": true, \"mean\": -12019.619140625, \"std\": 456.4454650878906, \"err_low\": -905.6309204101562, \"err_high\": 920.1509399414062}, {\"time\": \"2000-01-01T10:00:00\", \"variable\": \"SW_IN\", \"value\": 12.239999771118164, \"is_present\": true, \"mean\": -12632.9560546875, \"std\": 433.2485656738281, \"err_low\": -854.2571411132812, \"err_high\": 878.7371215820312}], \"data-28d7af5caba716146ecaac5110e9d337\": [{\"time\": \"2000-01-01T05:30:00\", \"variable\": \"VPD\", \"value\": 0.1379999965429306, \"is_present\": true, \"mean\": 11.153300285339355, \"std\": 8.187275886535645, \"err_low\": -16.23655128479004, \"err_high\": 16.51255226135254}, {\"time\": \"2000-01-01T06:00:00\", \"variable\": \"VPD\", \"value\": 0.12200000137090683, \"is_present\": true, \"mean\": -146.62127685546875, \"std\": 9.882741928100586, \"err_low\": -19.643484115600586, \"err_high\": 19.887483596801758}, {\"time\": \"2000-01-01T06:30:00\", \"variable\": \"VPD\", \"value\": 0.09799999743700027, \"is_present\": true, \"mean\": -244.24383544921875, \"std\": 9.492395401000977, \"err_low\": -18.886791229248047, \"err_high\": 19.08279037475586}, {\"time\": \"2000-01-01T07:00:00\", \"variable\": \"VPD\", \"value\": 0.06599999964237213, \"is_present\": true, \"mean\": -256.6382751464844, \"std\": 9.494841575622559, \"err_low\": -18.923683166503906, \"err_high\": 19.055683135986328}, {\"time\": \"2000-01-01T07:30:00\", \"variable\": \"VPD\", \"value\": 0.04399999976158142, \"is_present\": true, \"mean\": -263.08642578125, \"std\": 9.48963737487793, \"err_low\": -18.935274124145508, \"err_high\": 19.02327537536621}, {\"time\": \"2000-01-01T08:00:00\", \"variable\": \"VPD\", \"value\": 0.026000000536441803, \"is_present\": true, \"mean\": -265.2464294433594, \"std\": 9.487833976745605, \"err_low\": -18.949668884277344, \"err_high\": 19.001667022705078}, {\"time\": \"2000-01-01T08:30:00\", \"variable\": \"VPD\", \"value\": 0.01600000075995922, \"is_present\": true, \"mean\": -512.9349365234375, \"std\": 13.516029357910156, \"err_low\": -27.01605796813965, \"err_high\": 27.048059463500977}, {\"time\": \"2000-01-01T09:00:00\", \"variable\": \"VPD\", \"value\": 0.009999999776482582, \"is_present\": true, \"mean\": -973.6253051757812, \"std\": 22.438920974731445, \"err_low\": -44.86784362792969, \"err_high\": 44.887840270996094}, {\"time\": \"2000-01-01T09:30:00\", \"variable\": \"VPD\", \"value\": 0.006000000052154064, \"is_present\": true, \"mean\": -249.92584228515625, \"std\": 9.973566055297852, \"err_low\": -19.941131591796875, \"err_high\": 19.95313262939453}, {\"time\": \"2000-01-01T10:00:00\", \"variable\": \"VPD\", \"value\": 0.006000000052154064, \"is_present\": true, \"mean\": -262.58770751953125, \"std\": 9.5187406539917, \"err_low\": -19.03148078918457, \"err_high\": 19.043481826782227}], \"data-d29e32b90fb51418b8452203fb8d8017\": [{\"time\": \"2000-01-01T10:30:00\", \"variable\": \"TA\", \"value\": 0.10000000149011612, \"is_present\": true, \"mean\": 19.07571029663086, \"std\": 8.73351001739502, \"err_low\": -17.367019653320312, \"err_high\": 17.567020416259766}, {\"time\": \"2000-01-01T11:00:00\", \"variable\": \"TA\", \"value\": 0.18000000715255737, \"is_present\": true, \"mean\": -151.82733154296875, \"std\": 9.521690368652344, \"err_low\": -18.863380432128906, \"err_high\": 19.22338104248047}, {\"time\": \"2000-01-01T11:30:00\", \"variable\": \"TA\", \"value\": 0.20999999344348907, \"is_present\": true, \"mean\": -281.5771484375, \"std\": 8.931245803833008, \"err_low\": -17.65249252319336, \"err_high\": 18.072490692138672}, {\"time\": \"2000-01-01T12:00:00\", \"variable\": \"TA\", \"value\": 0.23000000417232513, \"is_present\": true, \"mean\": -314.24530029296875, \"std\": 8.934998512268066, \"err_low\": -17.639997482299805, \"err_high\": 18.09999656677246}, {\"time\": \"2000-01-01T12:30:00\", \"variable\": \"TA\", \"value\": 0.33000001311302185, \"is_present\": true, \"mean\": -313.3352355957031, \"std\": 8.929085731506348, \"err_low\": -17.52817153930664, \"err_high\": 18.18817138671875}, {\"time\": \"2000-01-01T13:00:00\", \"variable\": \"TA\", \"value\": 0.4099999964237213, \"is_present\": true, \"mean\": -299.6491394042969, \"std\": 8.926377296447754, \"err_low\": -17.4427547454834, \"err_high\": 18.262754440307617}, {\"time\": \"2000-01-01T13:30:00\", \"variable\": \"TA\", \"value\": 0.4399999976158142, \"is_present\": true, \"mean\": -298.2962341308594, \"std\": 8.931000709533691, \"err_low\": -17.422000885009766, \"err_high\": 18.302001953125}, {\"time\": \"2000-01-01T14:00:00\", \"variable\": \"TA\", \"value\": 0.47999998927116394, \"is_present\": false, \"mean\": -303.3424377441406, \"std\": 8.931939125061035, \"err_low\": -17.383878707885742, \"err_high\": 18.3438777923584}, {\"time\": \"2000-01-01T14:30:00\", \"variable\": \"TA\", \"value\": 0.49000000953674316, \"is_present\": false, \"mean\": -586.0726928710938, \"std\": 13.454289436340332, \"err_low\": -26.4185791015625, \"err_high\": 27.398578643798828}, {\"time\": \"2000-01-01T15:00:00\", \"variable\": \"TA\", \"value\": 0.5099999904632568, \"is_present\": true, \"mean\": -1128.221435546875, \"std\": 23.52825355529785, \"err_low\": -46.5465087890625, \"err_high\": 47.566505432128906}], \"data-ed57f06386ca5ccb5d8a599f91a087c9\": [{\"time\": \"2000-01-01T10:30:00\", \"variable\": \"SW_IN\", \"value\": 16.510000228881836, \"is_present\": true, \"mean\": 426.03997802734375, \"std\": 387.0140686035156, \"err_low\": -757.5181274414062, \"err_high\": 790.5381469726562}, {\"time\": \"2000-01-01T11:00:00\", \"variable\": \"SW_IN\", \"value\": 24.729999542236328, \"is_present\": true, \"mean\": -7611.8330078125, \"std\": 452.145751953125, \"err_low\": -879.5615234375, \"err_high\": 929.021484375}, {\"time\": \"2000-01-01T11:30:00\", \"variable\": \"SW_IN\", \"value\": 47.41999816894531, \"is_present\": true, \"mean\": -12971.9140625, \"std\": 431.8902587890625, \"err_low\": -816.3605346679688, \"err_high\": 911.2005004882812}, {\"time\": \"2000-01-01T12:00:00\", \"variable\": \"SW_IN\", \"value\": 22.049999237060547, \"is_present\": true, \"mean\": -14482.4619140625, \"std\": 432.0213317871094, \"err_low\": -841.99267578125, \"err_high\": 886.0926513671875}, {\"time\": \"2000-01-01T12:30:00\", \"variable\": \"SW_IN\", \"value\": 18.860000610351562, \"is_present\": true, \"mean\": -14350.1220703125, \"std\": 431.7625732421875, \"err_low\": -844.6651611328125, \"err_high\": 882.3851318359375}, {\"time\": \"2000-01-01T13:00:00\", \"variable\": \"SW_IN\", \"value\": 21.100000381469727, \"is_present\": true, \"mean\": -13784.1318359375, \"std\": 431.6690979003906, \"err_low\": -842.2382202148438, \"err_high\": 884.4381713867188}, {\"time\": \"2000-01-01T13:30:00\", \"variable\": \"SW_IN\", \"value\": 28.8700008392334, \"is_present\": true, \"mean\": -13725.15625, \"std\": 431.889892578125, \"err_low\": -834.9097900390625, \"err_high\": 892.6497802734375}, {\"time\": \"2000-01-01T14:00:00\", \"variable\": \"SW_IN\", \"value\": 24.219999313354492, \"is_present\": false, \"mean\": -13960.57421875, \"std\": 431.89666748046875, \"err_low\": -839.5733642578125, \"err_high\": 888.0133056640625}, {\"time\": \"2000-01-01T14:30:00\", \"variable\": \"SW_IN\", \"value\": 24.350000381469727, \"is_present\": false, \"mean\": -26844.0390625, \"std\": 630.25390625, \"err_low\": -1236.1578369140625, \"err_high\": 1284.8577880859375}, {\"time\": \"2000-01-01T15:00:00\", \"variable\": \"SW_IN\", \"value\": 15.680000305175781, \"is_present\": true, \"mean\": -50942.76953125, \"std\": 1064.2335205078125, \"err_low\": -2112.787109375, \"err_high\": 2144.14697265625}], \"data-dfbaae86c85027022400ba837d30a3f2\": [{\"time\": \"2000-01-01T10:30:00\", \"variable\": \"VPD\", \"value\": 0.006000000052154064, \"is_present\": true, \"mean\": 11.153300285339355, \"std\": 8.187275886535645, \"err_low\": -16.36855125427246, \"err_high\": 16.380552291870117}, {\"time\": \"2000-01-01T11:00:00\", \"variable\": \"VPD\", \"value\": 0.010999999940395355, \"is_present\": true, \"mean\": -158.93130493164062, \"std\": 9.882741928100586, \"err_low\": -19.754484176635742, \"err_high\": 19.7764835357666}, {\"time\": \"2000-01-01T11:30:00\", \"variable\": \"VPD\", \"value\": 0.01899999938905239, \"is_present\": true, \"mean\": -269.5823669433594, \"std\": 9.492395401000977, \"err_low\": -18.965791702270508, \"err_high\": 19.0037899017334}, {\"time\": \"2000-01-01T12:00:00\", \"variable\": \"VPD\", \"value\": 0.014000000432133675, \"is_present\": true, \"mean\": -301.49151611328125, \"std\": 9.494841575622559, \"err_low\": -18.975683212280273, \"err_high\": 19.00368309020996}, {\"time\": \"2000-01-01T12:30:00\", \"variable\": \"VPD\", \"value\": 0.00800000037997961, \"is_present\": true, \"mean\": -298.4079284667969, \"std\": 9.48963737487793, \"err_low\": -18.971275329589844, \"err_high\": 18.987274169921875}, {\"time\": \"2000-01-01T13:00:00\", \"variable\": \"VPD\", \"value\": 0.006000000052154064, \"is_present\": true, \"mean\": -286.73895263671875, \"std\": 9.487833976745605, \"err_low\": -18.969667434692383, \"err_high\": 18.98166847229004}, {\"time\": \"2000-01-01T13:30:00\", \"variable\": \"VPD\", \"value\": 0.0, \"is_present\": true, \"mean\": -285.49462890625, \"std\": 9.492341041564941, \"err_low\": -18.984682083129883, \"err_high\": 18.984682083129883}, {\"time\": \"2000-01-01T14:00:00\", \"variable\": \"VPD\", \"value\": 0.0, \"is_present\": true, \"mean\": -290.45672607421875, \"std\": 9.492371559143066, \"err_low\": -18.984743118286133, \"err_high\": 18.984743118286133}, {\"time\": \"2000-01-01T14:30:00\", \"variable\": \"VPD\", \"value\": 0.0, \"is_present\": true, \"mean\": -560.9456176757812, \"std\": 13.527811050415039, \"err_low\": -27.055622100830078, \"err_high\": 27.055622100830078}, {\"time\": \"2000-01-01T15:00:00\", \"variable\": \"VPD\", \"value\": 0.0, \"is_present\": true, \"mean\": -1064.99267578125, \"std\": 22.464420318603516, \"err_low\": -44.92884063720703, \"err_high\": 44.92884063720703}], \"data-520068efbcad15bb1da0bd746350ba85\": [{\"time\": \"2000-01-01T15:30:00\", \"variable\": \"TA\", \"value\": 0.5199999809265137, \"is_present\": true, \"mean\": 19.07571029663086, \"std\": 8.73351001739502, \"err_low\": -16.947019577026367, \"err_high\": 17.98702049255371}, {\"time\": \"2000-01-01T16:00:00\", \"variable\": \"TA\", \"value\": 0.5699999928474426, \"is_present\": true, \"mean\": -141.77842712402344, \"std\": 9.521690368652344, \"err_low\": -18.47338104248047, \"err_high\": 19.613380432128906}, {\"time\": \"2000-01-01T16:30:00\", \"variable\": \"TA\", \"value\": 0.7300000190734863, \"is_present\": true, \"mean\": -256.22406005859375, \"std\": 8.931245803833008, \"err_low\": -17.132492065429688, \"err_high\": 18.592491149902344}, {\"time\": \"2000-01-01T17:00:00\", \"variable\": \"TA\", \"value\": 0.7699999809265137, \"is_present\": true, \"mean\": -261.47576904296875, \"std\": 8.934998512268066, \"err_low\": -17.09999656677246, \"err_high\": 18.639997482299805}, {\"time\": \"2000-01-01T17:30:00\", \"variable\": \"TA\", \"value\": 0.8399999737739563, \"is_present\": true, \"mean\": -262.18359375, \"std\": 8.929085731506348, \"err_low\": -17.018171310424805, \"err_high\": 18.698171615600586}, {\"time\": \"2000-01-01T18:00:00\", \"variable\": \"TA\", \"value\": 0.9900000095367432, \"is_present\": true, \"mean\": -260.72357177734375, \"std\": 8.926377296447754, \"err_low\": -16.862754821777344, \"err_high\": 18.842754364013672}, {\"time\": \"2000-01-01T18:30:00\", \"variable\": \"TA\", \"value\": 1.350000023841858, \"is_present\": false, \"mean\": -259.04852294921875, \"std\": 8.931000709533691, \"err_low\": -16.512001037597656, \"err_high\": 19.21200180053711}, {\"time\": \"2000-01-01T19:00:00\", \"variable\": \"TA\", \"value\": 1.8600000143051147, \"is_present\": false, \"mean\": -501.78643798828125, \"std\": 13.452587127685547, \"err_low\": -25.04517364501953, \"err_high\": 28.765174865722656}, {\"time\": \"2000-01-01T19:30:00\", \"variable\": \"TA\", \"value\": 2.009999990463257, \"is_present\": true, \"mean\": -967.532958984375, \"std\": 23.524320602416992, \"err_low\": -45.03864288330078, \"err_high\": 49.05863952636719}, {\"time\": \"2000-01-01T20:00:00\", \"variable\": \"TA\", \"value\": 2.069999933242798, \"is_present\": true, \"mean\": -218.54214477539062, \"std\": 9.532303810119629, \"err_low\": -16.99460792541504, \"err_high\": 21.134607315063477}], \"data-5c228d5f67448c70676cbacf53603d17\": [{\"time\": \"2000-01-01T15:30:00\", \"variable\": \"SW_IN\", \"value\": 8.09000015258789, \"is_present\": true, \"mean\": 426.03997802734375, \"std\": 387.0140686035156, \"err_low\": -765.9381103515625, \"err_high\": 782.1181640625}, {\"time\": \"2000-01-01T16:00:00\", \"variable\": \"SW_IN\", \"value\": 6.369999885559082, \"is_present\": true, \"mean\": -7140.171875, \"std\": 452.145751953125, \"err_low\": -897.9215087890625, \"err_high\": 910.6614990234375}, {\"time\": \"2000-01-01T16:30:00\", \"variable\": \"SW_IN\", \"value\": 1.7200000286102295, \"is_present\": true, \"mean\": -11831.4951171875, \"std\": 431.8902587890625, \"err_low\": -862.060546875, \"err_high\": 865.50048828125}, {\"time\": \"2000-01-01T17:00:00\", \"variable\": \"SW_IN\", \"value\": 0.05999999865889549, \"is_present\": true, \"mean\": -12097.1328125, \"std\": 432.0213317871094, \"err_low\": -863.982666015625, \"err_high\": 864.1026611328125}, {\"time\": \"2000-01-01T17:30:00\", \"variable\": \"SW_IN\", \"value\": 0.0, \"is_present\": true, \"mean\": -12116.1630859375, \"std\": 431.7625732421875, \"err_low\": -863.525146484375, \"err_high\": 863.525146484375}, {\"time\": \"2000-01-01T18:00:00\", \"variable\": \"SW_IN\", \"value\": 0.0, \"is_present\": true, \"mean\": -12054.4365234375, \"std\": 431.6690979003906, \"err_low\": -863.3381958007812, \"err_high\": 863.3381958007812}, {\"time\": \"2000-01-01T18:30:00\", \"variable\": \"SW_IN\", \"value\": 0.0, \"is_present\": false, \"mean\": -11979.51171875, \"std\": 431.889892578125, \"err_low\": -863.77978515625, \"err_high\": 863.77978515625}, {\"time\": \"2000-01-01T19:00:00\", \"variable\": \"SW_IN\", \"value\": 0.0, \"is_present\": false, \"mean\": -23062.861328125, \"std\": 630.1495361328125, \"err_low\": -1260.299072265625, \"err_high\": 1260.299072265625}, {\"time\": \"2000-01-01T19:30:00\", \"variable\": \"SW_IN\", \"value\": 0.0, \"is_present\": true, \"mean\": -43748.9921875, \"std\": 1064.0830078125, \"err_low\": -2128.166015625, \"err_high\": 2128.166015625}, {\"time\": \"2000-01-01T20:00:00\", \"variable\": \"SW_IN\", \"value\": 0.0, \"is_present\": true, \"mean\": -10214.8486328125, \"std\": 453.5745849609375, \"err_low\": -907.149169921875, \"err_high\": 907.149169921875}], \"data-1854be0da40e5a2c80f84d802417ef36\": [{\"time\": \"2000-01-01T15:30:00\", \"variable\": \"VPD\", \"value\": 0.0, \"is_present\": true, \"mean\": 11.153300285339355, \"std\": 8.187275886535645, \"err_low\": -16.37455177307129, \"err_high\": 16.37455177307129}, {\"time\": \"2000-01-01T16:00:00\", \"variable\": \"VPD\", \"value\": 0.0, \"is_present\": true, \"mean\": -148.9716339111328, \"std\": 9.882741928100586, \"err_low\": -19.765483856201172, \"err_high\": 19.765483856201172}, {\"time\": \"2000-01-01T16:30:00\", \"variable\": \"VPD\", \"value\": 0.0, \"is_present\": true, \"mean\": -245.67337036132812, \"std\": 9.492395401000977, \"err_low\": -18.984790802001953, \"err_high\": 18.984790802001953}, {\"time\": \"2000-01-01T17:00:00\", \"variable\": \"VPD\", \"value\": 0.0, \"is_present\": true, \"mean\": -251.4462890625, \"std\": 9.494841575622559, \"err_low\": -18.989683151245117, \"err_high\": 18.989683151245117}, {\"time\": \"2000-01-01T17:30:00\", \"variable\": \"VPD\", \"value\": 0.0, \"is_present\": true, \"mean\": -251.80055236816406, \"std\": 9.48963737487793, \"err_low\": -18.97927474975586, \"err_high\": 18.97927474975586}, {\"time\": \"2000-01-01T18:00:00\", \"variable\": \"VPD\", \"value\": 0.0, \"is_present\": true, \"mean\": -250.52381896972656, \"std\": 9.487833976745605, \"err_low\": -18.97566795349121, \"err_high\": 18.97566795349121}, {\"time\": \"2000-01-01T18:30:00\", \"variable\": \"VPD\", \"value\": 0.0, \"is_present\": true, \"mean\": -248.95440673828125, \"std\": 9.492341041564941, \"err_low\": -18.984682083129883, \"err_high\": 18.984682083129883}, {\"time\": \"2000-01-01T19:00:00\", \"variable\": \"VPD\", \"value\": 0.0020000000949949026, \"is_present\": true, \"mean\": -481.725830078125, \"std\": 13.525559425354004, \"err_low\": -27.049118041992188, \"err_high\": 27.053119659423828}, {\"time\": \"2000-01-01T19:30:00\", \"variable\": \"VPD\", \"value\": 0.008999999612569809, \"is_present\": true, \"mean\": -914.3319702148438, \"std\": 22.461381912231445, \"err_low\": -44.91376495361328, \"err_high\": 44.9317626953125}, {\"time\": \"2000-01-01T20:00:00\", \"variable\": \"VPD\", \"value\": 0.014000000432133675, \"is_present\": true, \"mean\": -212.11082458496094, \"std\": 9.915565490722656, \"err_low\": -19.81713104248047, \"err_high\": 19.845130920410156}]}}, {\"mode\": \"vega-lite\"});\n",
       "</script>"
      ],
      "text/plain": [
       "alt.HConcatChart(...)"
      ]
     },
     "execution_count": null,
     "metadata": {},
     "output_type": "execute_result"
    }
   ],
   "source": [
    "show_results(learn, items=[1,2,3])"
   ]
  },
  {
   "cell_type": "code",
   "execution_count": null,
   "id": "6127a4ef-4559-4d5d-9aea-ce3fb210bf93",
   "metadata": {},
   "outputs": [
    {
     "data": {
      "text/html": [
       "<p style='font-size: 1.5rem; font-decoration: bold'><p><div style=\"display: flex; column-gap: 20px; flex-wrap: wrap;\" class='table table-striped table-sm'> <div> <p style='font-size: 1.3rem;'>trans_matrix (A)</p> <style type=\"text/css\">\n",
       "</style>\n",
       "<table id=\"T_34f61\">\n",
       "  <thead>\n",
       "    <tr>\n",
       "      <th id=\"T_34f61_level0_col0\" class=\"col_heading level0 col0\" >latent</th>\n",
       "      <th id=\"T_34f61_level0_col1\" class=\"col_heading level0 col1\" >z_0</th>\n",
       "      <th id=\"T_34f61_level0_col2\" class=\"col_heading level0 col2\" >z_1</th>\n",
       "      <th id=\"T_34f61_level0_col3\" class=\"col_heading level0 col3\" >z_2</th>\n",
       "    </tr>\n",
       "  </thead>\n",
       "  <tbody>\n",
       "    <tr>\n",
       "      <td id=\"T_34f61_row0_col0\" class=\"data row0 col0\" >z_0</td>\n",
       "      <td id=\"T_34f61_row0_col1\" class=\"data row0 col1\" >0.9243</td>\n",
       "      <td id=\"T_34f61_row0_col2\" class=\"data row0 col2\" >1.0221</td>\n",
       "      <td id=\"T_34f61_row0_col3\" class=\"data row0 col3\" >0.4038</td>\n",
       "    </tr>\n",
       "    <tr>\n",
       "      <td id=\"T_34f61_row1_col0\" class=\"data row1 col0\" >z_1</td>\n",
       "      <td id=\"T_34f61_row1_col1\" class=\"data row1 col1\" >0.9677</td>\n",
       "      <td id=\"T_34f61_row1_col2\" class=\"data row1 col2\" >0.2878</td>\n",
       "      <td id=\"T_34f61_row1_col3\" class=\"data row1 col3\" >0.5475</td>\n",
       "    </tr>\n",
       "    <tr>\n",
       "      <td id=\"T_34f61_row2_col0\" class=\"data row2 col0\" >z_2</td>\n",
       "      <td id=\"T_34f61_row2_col1\" class=\"data row2 col1\" >0.2767</td>\n",
       "      <td id=\"T_34f61_row2_col2\" class=\"data row2 col2\" >0.8683</td>\n",
       "      <td id=\"T_34f61_row2_col3\" class=\"data row2 col3\" >-0.0010</td>\n",
       "    </tr>\n",
       "  </tbody>\n",
       "</table>\n",
       " </div><div> <p style='font-size: 1.3rem;'>trans_cov (Q)</p> <style type=\"text/css\">\n",
       "</style>\n",
       "<table id=\"T_4109e\">\n",
       "  <thead>\n",
       "    <tr>\n",
       "      <th id=\"T_4109e_level0_col0\" class=\"col_heading level0 col0\" >latent</th>\n",
       "      <th id=\"T_4109e_level0_col1\" class=\"col_heading level0 col1\" >z_0</th>\n",
       "      <th id=\"T_4109e_level0_col2\" class=\"col_heading level0 col2\" >z_1</th>\n",
       "      <th id=\"T_4109e_level0_col3\" class=\"col_heading level0 col3\" >z_2</th>\n",
       "    </tr>\n",
       "  </thead>\n",
       "  <tbody>\n",
       "    <tr>\n",
       "      <td id=\"T_4109e_row0_col0\" class=\"data row0 col0\" >z_0</td>\n",
       "      <td id=\"T_4109e_row0_col1\" class=\"data row0 col1\" >0.2138</td>\n",
       "      <td id=\"T_4109e_row0_col2\" class=\"data row0 col2\" >0.4934</td>\n",
       "      <td id=\"T_4109e_row0_col3\" class=\"data row0 col3\" >0.5771</td>\n",
       "    </tr>\n",
       "    <tr>\n",
       "      <td id=\"T_4109e_row1_col0\" class=\"data row1 col0\" >z_1</td>\n",
       "      <td id=\"T_4109e_row1_col1\" class=\"data row1 col1\" >0.4934</td>\n",
       "      <td id=\"T_4109e_row1_col2\" class=\"data row1 col2\" >1.3030</td>\n",
       "      <td id=\"T_4109e_row1_col3\" class=\"data row1 col3\" >1.4334</td>\n",
       "    </tr>\n",
       "    <tr>\n",
       "      <td id=\"T_4109e_row2_col0\" class=\"data row2 col0\" >z_2</td>\n",
       "      <td id=\"T_4109e_row2_col1\" class=\"data row2 col1\" >0.5771</td>\n",
       "      <td id=\"T_4109e_row2_col2\" class=\"data row2 col2\" >1.4334</td>\n",
       "      <td id=\"T_4109e_row2_col3\" class=\"data row2 col3\" >1.6345</td>\n",
       "    </tr>\n",
       "  </tbody>\n",
       "</table>\n",
       " </div><div> <p style='font-size: 1.3rem;'>trans_off</p> <style type=\"text/css\">\n",
       "</style>\n",
       "<table id=\"T_a5211\">\n",
       "  <thead>\n",
       "    <tr>\n",
       "      <th id=\"T_a5211_level0_col0\" class=\"col_heading level0 col0\" >latent</th>\n",
       "      <th id=\"T_a5211_level0_col1\" class=\"col_heading level0 col1\" >offset</th>\n",
       "    </tr>\n",
       "  </thead>\n",
       "  <tbody>\n",
       "    <tr>\n",
       "      <td id=\"T_a5211_row0_col0\" class=\"data row0 col0\" >z_0</td>\n",
       "      <td id=\"T_a5211_row0_col1\" class=\"data row0 col1\" >0.7556</td>\n",
       "    </tr>\n",
       "    <tr>\n",
       "      <td id=\"T_a5211_row1_col0\" class=\"data row1 col0\" >z_1</td>\n",
       "      <td id=\"T_a5211_row1_col1\" class=\"data row1 col1\" >0.3794</td>\n",
       "    </tr>\n",
       "    <tr>\n",
       "      <td id=\"T_a5211_row2_col0\" class=\"data row2 col0\" >z_2</td>\n",
       "      <td id=\"T_a5211_row2_col1\" class=\"data row2 col1\" >0.5790</td>\n",
       "    </tr>\n",
       "  </tbody>\n",
       "</table>\n",
       " </div><div> <p style='font-size: 1.3rem;'>obs_matrix (H)</p> <style type=\"text/css\">\n",
       "</style>\n",
       "<table id=\"T_78baa\">\n",
       "  <thead>\n",
       "    <tr>\n",
       "      <th id=\"T_78baa_level0_col0\" class=\"col_heading level0 col0\" >variable</th>\n",
       "      <th id=\"T_78baa_level0_col1\" class=\"col_heading level0 col1\" >z_0</th>\n",
       "      <th id=\"T_78baa_level0_col2\" class=\"col_heading level0 col2\" >z_1</th>\n",
       "      <th id=\"T_78baa_level0_col3\" class=\"col_heading level0 col3\" >z_2</th>\n",
       "    </tr>\n",
       "  </thead>\n",
       "  <tbody>\n",
       "    <tr>\n",
       "      <td id=\"T_78baa_row0_col0\" class=\"data row0 col0\" >x_0</td>\n",
       "      <td id=\"T_78baa_row0_col1\" class=\"data row0 col1\" >0.3084</td>\n",
       "      <td id=\"T_78baa_row0_col2\" class=\"data row0 col2\" >0.3628</td>\n",
       "      <td id=\"T_78baa_row0_col3\" class=\"data row0 col3\" >0.1764</td>\n",
       "    </tr>\n",
       "    <tr>\n",
       "      <td id=\"T_78baa_row1_col0\" class=\"data row1 col0\" >x_1</td>\n",
       "      <td id=\"T_78baa_row1_col1\" class=\"data row1 col1\" >0.2250</td>\n",
       "      <td id=\"T_78baa_row1_col2\" class=\"data row1 col2\" >0.6507</td>\n",
       "      <td id=\"T_78baa_row1_col3\" class=\"data row1 col3\" >0.8294</td>\n",
       "    </tr>\n",
       "    <tr>\n",
       "      <td id=\"T_78baa_row2_col0\" class=\"data row2 col0\" >x_2</td>\n",
       "      <td id=\"T_78baa_row2_col1\" class=\"data row2 col1\" >0.1083</td>\n",
       "      <td id=\"T_78baa_row2_col2\" class=\"data row2 col2\" >0.7747</td>\n",
       "      <td id=\"T_78baa_row2_col3\" class=\"data row2 col3\" >1.0856</td>\n",
       "    </tr>\n",
       "  </tbody>\n",
       "</table>\n",
       " </div><div> <p style='font-size: 1.3rem;'>obs_cov (R)</p> <style type=\"text/css\">\n",
       "</style>\n",
       "<table id=\"T_3f180\">\n",
       "  <thead>\n",
       "    <tr>\n",
       "      <th id=\"T_3f180_level0_col0\" class=\"col_heading level0 col0\" >variable</th>\n",
       "      <th id=\"T_3f180_level0_col1\" class=\"col_heading level0 col1\" >x_0</th>\n",
       "      <th id=\"T_3f180_level0_col2\" class=\"col_heading level0 col2\" >x_1</th>\n",
       "      <th id=\"T_3f180_level0_col3\" class=\"col_heading level0 col3\" >x_2</th>\n",
       "    </tr>\n",
       "  </thead>\n",
       "  <tbody>\n",
       "    <tr>\n",
       "      <td id=\"T_3f180_row0_col0\" class=\"data row0 col0\" >x_0</td>\n",
       "      <td id=\"T_3f180_row0_col1\" class=\"data row0 col1\" >0.9237</td>\n",
       "      <td id=\"T_3f180_row0_col2\" class=\"data row0 col2\" >1.0905</td>\n",
       "      <td id=\"T_3f180_row0_col3\" class=\"data row0 col3\" >0.9283</td>\n",
       "    </tr>\n",
       "    <tr>\n",
       "      <td id=\"T_3f180_row1_col0\" class=\"data row1 col0\" >x_1</td>\n",
       "      <td id=\"T_3f180_row1_col1\" class=\"data row1 col1\" >1.0905</td>\n",
       "      <td id=\"T_3f180_row1_col2\" class=\"data row1 col2\" >1.4736</td>\n",
       "      <td id=\"T_3f180_row1_col3\" class=\"data row1 col3\" >1.3702</td>\n",
       "    </tr>\n",
       "    <tr>\n",
       "      <td id=\"T_3f180_row2_col0\" class=\"data row2 col0\" >x_2</td>\n",
       "      <td id=\"T_3f180_row2_col1\" class=\"data row2 col1\" >0.9283</td>\n",
       "      <td id=\"T_3f180_row2_col2\" class=\"data row2 col2\" >1.3702</td>\n",
       "      <td id=\"T_3f180_row2_col3\" class=\"data row2 col3\" >1.3371</td>\n",
       "    </tr>\n",
       "  </tbody>\n",
       "</table>\n",
       " </div><div> <p style='font-size: 1.3rem;'>obs_off</p> <style type=\"text/css\">\n",
       "</style>\n",
       "<table id=\"T_856d9\">\n",
       "  <thead>\n",
       "    <tr>\n",
       "      <th id=\"T_856d9_level0_col0\" class=\"col_heading level0 col0\" >variable</th>\n",
       "      <th id=\"T_856d9_level0_col1\" class=\"col_heading level0 col1\" >offset</th>\n",
       "    </tr>\n",
       "  </thead>\n",
       "  <tbody>\n",
       "    <tr>\n",
       "      <td id=\"T_856d9_row0_col0\" class=\"data row0 col0\" >x_0</td>\n",
       "      <td id=\"T_856d9_row0_col1\" class=\"data row0 col1\" >0.9935</td>\n",
       "    </tr>\n",
       "    <tr>\n",
       "      <td id=\"T_856d9_row1_col0\" class=\"data row1 col0\" >x_1</td>\n",
       "      <td id=\"T_856d9_row1_col1\" class=\"data row1 col1\" >0.3561</td>\n",
       "    </tr>\n",
       "    <tr>\n",
       "      <td id=\"T_856d9_row2_col0\" class=\"data row2 col0\" >x_2</td>\n",
       "      <td id=\"T_856d9_row2_col1\" class=\"data row2 col1\" >0.6849</td>\n",
       "    </tr>\n",
       "  </tbody>\n",
       "</table>\n",
       " </div><div> <p style='font-size: 1.3rem;'>init_state_mean</p> <style type=\"text/css\">\n",
       "</style>\n",
       "<table id=\"T_d10c0\">\n",
       "  <thead>\n",
       "    <tr>\n",
       "      <th id=\"T_d10c0_level0_col0\" class=\"col_heading level0 col0\" >latent</th>\n",
       "      <th id=\"T_d10c0_level0_col1\" class=\"col_heading level0 col1\" >mean</th>\n",
       "    </tr>\n",
       "  </thead>\n",
       "  <tbody>\n",
       "    <tr>\n",
       "      <td id=\"T_d10c0_row0_col0\" class=\"data row0 col0\" >z_0</td>\n",
       "      <td id=\"T_d10c0_row0_col1\" class=\"data row0 col1\" >0.3058</td>\n",
       "    </tr>\n",
       "    <tr>\n",
       "      <td id=\"T_d10c0_row1_col0\" class=\"data row1 col0\" >z_1</td>\n",
       "      <td id=\"T_d10c0_row1_col1\" class=\"data row1 col1\" >0.9651</td>\n",
       "    </tr>\n",
       "    <tr>\n",
       "      <td id=\"T_d10c0_row2_col0\" class=\"data row2 col0\" >z_2</td>\n",
       "      <td id=\"T_d10c0_row2_col1\" class=\"data row2 col1\" >0.7525</td>\n",
       "    </tr>\n",
       "  </tbody>\n",
       "</table>\n",
       " </div><div> <p style='font-size: 1.3rem;'>init_state_cov</p> <style type=\"text/css\">\n",
       "</style>\n",
       "<table id=\"T_9cbf6\">\n",
       "  <thead>\n",
       "    <tr>\n",
       "      <th id=\"T_9cbf6_level0_col0\" class=\"col_heading level0 col0\" >latent</th>\n",
       "      <th id=\"T_9cbf6_level0_col1\" class=\"col_heading level0 col1\" >z_0</th>\n",
       "      <th id=\"T_9cbf6_level0_col2\" class=\"col_heading level0 col2\" >z_1</th>\n",
       "      <th id=\"T_9cbf6_level0_col3\" class=\"col_heading level0 col3\" >z_2</th>\n",
       "    </tr>\n",
       "  </thead>\n",
       "  <tbody>\n",
       "    <tr>\n",
       "      <td id=\"T_9cbf6_row0_col0\" class=\"data row0 col0\" >z_0</td>\n",
       "      <td id=\"T_9cbf6_row0_col1\" class=\"data row0 col1\" >0.9615</td>\n",
       "      <td id=\"T_9cbf6_row0_col2\" class=\"data row0 col2\" >0.6602</td>\n",
       "      <td id=\"T_9cbf6_row0_col3\" class=\"data row0 col3\" >0.8786</td>\n",
       "    </tr>\n",
       "    <tr>\n",
       "      <td id=\"T_9cbf6_row1_col0\" class=\"data row1 col0\" >z_1</td>\n",
       "      <td id=\"T_9cbf6_row1_col1\" class=\"data row1 col1\" >0.6602</td>\n",
       "      <td id=\"T_9cbf6_row1_col2\" class=\"data row1 col2\" >0.7610</td>\n",
       "      <td id=\"T_9cbf6_row1_col3\" class=\"data row1 col3\" >0.8122</td>\n",
       "    </tr>\n",
       "    <tr>\n",
       "      <td id=\"T_9cbf6_row2_col0\" class=\"data row2 col0\" >z_2</td>\n",
       "      <td id=\"T_9cbf6_row2_col1\" class=\"data row2 col1\" >0.8786</td>\n",
       "      <td id=\"T_9cbf6_row2_col2\" class=\"data row2 col2\" >0.8122</td>\n",
       "      <td id=\"T_9cbf6_row2_col3\" class=\"data row2 col3\" >1.3442</td>\n",
       "    </tr>\n",
       "  </tbody>\n",
       "</table>\n",
       " </div></div>"
      ],
      "text/plain": [
       "<IPython.core.display.HTML object>"
      ]
     },
     "metadata": {},
     "output_type": "display_data"
    }
   ],
   "source": [
    "display_as_row(learn.model.get_info())"
   ]
  },
  {
   "cell_type": "code",
   "execution_count": null,
   "id": "c9bea97c-c708-45af-8b06-a058f0e6c1f8",
   "metadata": {},
   "outputs": [],
   "source": [
    "from ipywidgets import IntSlider, interactive"
   ]
  },
  {
   "cell_type": "code",
   "execution_count": null,
   "id": "76c54f23-5dcd-4a66-a0b0-063afaf38986",
   "metadata": {},
   "outputs": [],
   "source": [
    "def interact_result(learn,):\n",
    "    ..."
   ]
  },
  {
   "cell_type": "markdown",
   "id": "25ee98b3-1618-49fc-86b1-4f4c922a28a4",
   "metadata": {},
   "source": [
    "## Export "
   ]
  },
  {
   "cell_type": "code",
   "execution_count": null,
   "id": "be47bac6-1bac-4b5d-a880-7ddfe17cca68",
   "metadata": {},
   "outputs": [],
   "source": [
    "#| hide\n",
    "from nbdev import nbdev_export\n",
    "nbdev_export()"
   ]
  },
  {
   "cell_type": "code",
   "execution_count": null,
   "id": "e1f3ee5f-a3bd-4612-b6f9-a151577f7b63",
   "metadata": {},
   "outputs": [],
   "source": [
    "#| hide\n",
    "from nbdev import nbdev_export\n",
    "nbdev_export()"
   ]
  }
 ],
 "metadata": {
  "kernelspec": {
   "display_name": "data_science",
   "language": "python",
   "name": "data_science"
  },
  "widgets": {
   "application/vnd.jupyter.widget-state+json": {
    "state": {},
    "version_major": 2,
    "version_minor": 0
   }
  }
 },
 "nbformat": 4,
 "nbformat_minor": 5
}
