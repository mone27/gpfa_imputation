{
 "cells": [
  {
   "cell_type": "markdown",
   "id": "79a8a2d5-9f8d-483e-bbff-1e7b0f5c9a95",
   "metadata": {},
   "source": [
    "# [OLD] PyKalman Filter Models\n",
    "> Models that use Kalman filters that can be used for imputation"
   ]
  },
  {
   "cell_type": "code",
   "execution_count": null,
   "id": "3584a2e7-bb3c-4935-b11a-d50e96f68a87",
   "metadata": {},
   "outputs": [],
   "source": [
    "%load_ext autoreload\n",
    "%autoreload 2"
   ]
  },
  {
   "cell_type": "markdown",
   "id": "5d59a5ed-ce6d-4725-b667-ae36254aa8a7",
   "metadata": {},
   "source": [
    "## Introduction\n",
    "\n",
    "[TODO] add proper introduction here\n",
    "\n",
    "The models uses a latent state variable $x$ that is modelled over time, to impute gaps in $y$\n",
    "\n",
    "### Equations\n",
    "\n",
    "The equations of the model are:\n",
    "\n",
    "$$\\begin{align} p(x_t | x_{t-1}) & = \\mathcal{N}(x_t, Ax_{t-1}, Q) \\\\\n",
    "p(y_t | x_t) & = \\mathcal{N}(Hx_t, T) \\end{align}$$\n",
    "\n",
    "The Kalman filter has 3 steps:\n",
    "\n",
    "- filter (updating the state at time t with observations till time t-1)\n",
    "- update (update the state at time t using the observation at time t)\n",
    "- smooth (update the state using the observations at time t+1)\n",
    "\n",
    "In case of missing data the update step is skipped.\n",
    "\n",
    "After smoothing the whole dataset the missing data ($y_t$) can be imputed from the state ($x_t$) using this formula:\n",
    "$$p(y_t) = \\mathcal{N}(Hx_x, R + HP^s_tH)$$"
   ]
  },
  {
   "cell_type": "markdown",
   "id": "5757dfe3-3e22-4f0c-99c8-966db42fe59d",
   "metadata": {},
   "source": [
    "## Kalman Filter Model\n",
    "\n",
    "general kalman filter model implemented used `pykalman`\n"
   ]
  },
  {
   "cell_type": "code",
   "execution_count": null,
   "id": "8861e95d-28c8-48c3-b492-85164209c096",
   "metadata": {},
   "outputs": [],
   "source": [
    "#| hide\n",
    "#| default_exp old.kalman.model"
   ]
  },
  {
   "cell_type": "code",
   "execution_count": null,
   "id": "be6a6e24-d39e-428a-98df-5597438e9eea",
   "metadata": {},
   "outputs": [],
   "source": [
    "#| export\n",
    "import pandas as pd\n",
    "from fastcore.basics import store_attr\n",
    "import numpy as np\n",
    "\n",
    "import pykalman\n",
    "from numpy.ma import MaskedArray\n",
    "import numpy as np\n",
    "from fastcore.meta import delegates\n",
    "from fastcore.basics import patch\n",
    "from typing import Collection\n",
    "from collections import namedtuple\n",
    "from meteo_imp.results import ImputationResult, _plot_error_bar\n",
    "from meteo_imp.utils import *\n",
    "import altair as alt"
   ]
  },
  {
   "cell_type": "markdown",
   "id": "d5919de4-4b16-4591-ab06-f1110038eb18",
   "metadata": {},
   "source": [
    "#### PyKalman\n",
    "\n",
    "examples from [pykalman lib](https://pykalman.github.io)"
   ]
  },
  {
   "cell_type": "code",
   "execution_count": null,
   "id": "2ac87bf5-da01-4aab-a46e-0c61d0ac95ab",
   "metadata": {},
   "outputs": [],
   "source": [
    "kf = pykalman.KalmanFilter(transition_matrices = [[1, 1], [0, 1]], observation_matrices = [[0.1, 0.5], [-0.3, 0.0]])\n",
    "measurements = np.asarray([[1,0], [0,0], [0,1]])\n",
    "(smoothed_state_means, smoothed_state_covariances) = kf.smooth(measurements)"
   ]
  },
  {
   "cell_type": "code",
   "execution_count": null,
   "id": "c6b4d8d4-ca3d-4e9d-99b3-52c893a266b3",
   "metadata": {},
   "outputs": [
    {
     "data": {
      "text/plain": [
       "<pykalman.standard.KalmanFilter>"
      ]
     },
     "execution_count": null,
     "metadata": {},
     "output_type": "execute_result"
    }
   ],
   "source": [
    "kf.em(measurements)"
   ]
  },
  {
   "cell_type": "code",
   "execution_count": null,
   "id": "82532679-8979-4820-aec9-47bf116dc067",
   "metadata": {},
   "outputs": [
    {
     "data": {
      "text/plain": [
       "array([[-0.10923868,  0.0935127 ],\n",
       "       [-0.23121289, -0.07957144],\n",
       "       [-0.5533711 , -0.0415223 ]])"
      ]
     },
     "execution_count": null,
     "metadata": {},
     "output_type": "execute_result"
    }
   ],
   "source": [
    "smoothed_state_means"
   ]
  },
  {
   "cell_type": "code",
   "execution_count": null,
   "id": "ede55968-3abf-417c-b413-c8acda1b568f",
   "metadata": {},
   "outputs": [
    {
     "data": {
      "text/plain": [
       "array([[[ 0.83148067, -0.12300405],\n",
       "        [-0.12300405,  0.53081415]],\n",
       "\n",
       "       [[ 1.60960449,  0.01009906],\n",
       "        [ 0.01009906,  0.80412661]],\n",
       "\n",
       "       [[ 2.87663094,  0.45474213],\n",
       "        [ 0.45474213,  1.27365905]]])"
      ]
     },
     "execution_count": null,
     "metadata": {},
     "output_type": "execute_result"
    }
   ],
   "source": [
    "smoothed_state_covariances"
   ]
  },
  {
   "cell_type": "code",
   "execution_count": null,
   "id": "a1613142-636b-4705-9227-95f939184afd",
   "metadata": {},
   "outputs": [
    {
     "data": {
      "text/plain": [
       "(3, 2, 2)"
      ]
     },
     "execution_count": null,
     "metadata": {},
     "output_type": "execute_result"
    }
   ],
   "source": [
    "smoothed_state_covariances.shape"
   ]
  },
  {
   "cell_type": "code",
   "execution_count": null,
   "id": "000ac5bc-8cd1-4e71-afbe-77924cf095c6",
   "metadata": {},
   "outputs": [],
   "source": [
    "#| export\n",
    "# this is just a duplicate of NormParam, but with a better name\n",
    "ListNormal = namedtuple('ListNormal', ['mean', 'cov'])"
   ]
  },
  {
   "cell_type": "markdown",
   "id": "2c75c7c2-b1fb-481b-b49f-912abbf3fe7d",
   "metadata": {},
   "source": [
    "support is not limited for models matrices that don't change over time"
   ]
  },
  {
   "cell_type": "code",
   "execution_count": null,
   "id": "9151d751-38b0-4401-a1a7-556b39ad4e01",
   "metadata": {},
   "outputs": [],
   "source": [
    "#| export\n",
    "class KalmanModel():\n",
    "    \"Base Model for Kalman filter that wraps `pykalman.KalmanFilter`. Doesn't support parameters that change over time\"\n",
    "    _var_names = None\n",
    "    @delegates(pykalman.KalmanFilter)\n",
    "    def __init__(self,\n",
    "                 data: MaskedArray, # numpy array of observations\n",
    "                 **kwargs):\n",
    "        self.data = data\n",
    "        self.n_obs = data.shape[0]\n",
    "        self.n_features = data.shape[1]\n",
    "        \n",
    "        self.model = pykalman.KalmanFilter(**kwargs)\n",
    "    \n",
    "    def fit(self, n_iter: int=5, em_vars=None, smooth=True):\n",
    "        \"fit parameters using EM and calc state using smoother\"\n",
    "        self.model.em(self.data, n_iter=n_iter, em_vars=em_vars)\n",
    "        mean, cov = self.model.smooth(self.data) if smooth else self.model.filter(self.data)\n",
    "        self.state = ListNormal(mean, cov)\n",
    "        return self\n",
    "    \n",
    "    def _obs_from_state(self, state_mean, state_cov):\n",
    "        mean = self.model.observation_matrices @ state_mean\n",
    "        cov = self.model.observation_matrices @ state_cov @ self.model.observation_matrices.T + self.model.observation_covariance\n",
    "        return mean, cov\n",
    "    def predict(self,\n",
    "                times: np.ndarray # times for predictions (indices of the training data)\n",
    "               ):\n",
    "        \"Predicts observed varibles values at the given times\"\n",
    "        # predicting outside the training data is not supported (yet)\n",
    "        assert times.max() < self.n_obs\n",
    "        means = np.empty((times.shape[0], self.n_features,))\n",
    "        covs = np.empty((times.shape[0], self.n_features, self.n_features,)) \n",
    "        for i, t in enumerate(times):\n",
    "            mean, cov = self._obs_from_state(self.state.mean[t], self.state.cov[t])\n",
    "            means[i] = mean\n",
    "            covs[i] = cov\n",
    "        return ListNormal(means, covs)\n",
    "    \n",
    "    @property\n",
    "    def latent_names(self):\n",
    "        return [f\"z_{i}\" for i in range(self.model.transition_matrices.shape[0])]\n",
    "    \n",
    "    @property\n",
    "    def var_names(self):\n",
    "        return self._var_names if self._var_names is not None else [f\"x_{i}\" for i in range(self.n_features)]\n",
    "    \n",
    "    @var_names.setter\n",
    "    def var_names(self, var_names):\n",
    "        self._var_names = var_names\n",
    "    "
   ]
  },
  {
   "cell_type": "code",
   "execution_count": null,
   "id": "7450371e-3f4e-489c-b34b-94703095a198",
   "metadata": {},
   "outputs": [],
   "source": [
    "X = np.hstack([np.arange(0,3.), np.arange(3., 0, -1)]).reshape(6, 1)"
   ]
  },
  {
   "cell_type": "code",
   "execution_count": null,
   "id": "abef62bd-9a6e-4895-8360-f1d86a21afce",
   "metadata": {},
   "outputs": [
    {
     "data": {
      "text/plain": [
       "array([[0.],\n",
       "       [1.],\n",
       "       [2.],\n",
       "       [3.],\n",
       "       [2.],\n",
       "       [1.]])"
      ]
     },
     "execution_count": null,
     "metadata": {},
     "output_type": "execute_result"
    }
   ],
   "source": [
    "X"
   ]
  },
  {
   "cell_type": "code",
   "execution_count": null,
   "id": "0450aa5f-b6b7-406e-a0bc-7eb61f8b5945",
   "metadata": {},
   "outputs": [
    {
     "data": {
      "text/plain": [
       "(6, 1)"
      ]
     },
     "execution_count": null,
     "metadata": {},
     "output_type": "execute_result"
    }
   ],
   "source": [
    "X.shape"
   ]
  },
  {
   "cell_type": "code",
   "execution_count": null,
   "id": "6767ae47-5952-41c5-9022-c13392561211",
   "metadata": {},
   "outputs": [],
   "source": [
    "k = KalmanModel(X)"
   ]
  },
  {
   "cell_type": "code",
   "execution_count": null,
   "id": "129bbfb1-f710-40de-9a98-521e420d86d9",
   "metadata": {},
   "outputs": [
    {
     "data": {
      "text/plain": [
       "<__main__.KalmanModel>"
      ]
     },
     "execution_count": null,
     "metadata": {},
     "output_type": "execute_result"
    }
   ],
   "source": [
    "k.fit(10)"
   ]
  },
  {
   "cell_type": "code",
   "execution_count": null,
   "id": "18bee9e5-360f-4cc8-9672-b28c9354d878",
   "metadata": {},
   "outputs": [],
   "source": [
    "T = np.arange(0,X.shape[0])"
   ]
  },
  {
   "cell_type": "code",
   "execution_count": null,
   "id": "aafdb374-d571-49a3-a8bd-dbcb7d675ae1",
   "metadata": {},
   "outputs": [
    {
     "data": {
      "text/plain": [
       "array([0, 1, 2, 3, 4, 5])"
      ]
     },
     "execution_count": null,
     "metadata": {},
     "output_type": "execute_result"
    }
   ],
   "source": [
    "T"
   ]
  },
  {
   "cell_type": "code",
   "execution_count": null,
   "id": "f1e95d13-59d5-4d3f-9512-1aece5b572aa",
   "metadata": {},
   "outputs": [
    {
     "data": {
      "text/plain": [
       "ListNormal(mean=array([[0.21296793],\n",
       "       [1.01950281],\n",
       "       [1.98157689],\n",
       "       [2.79672264],\n",
       "       [1.99068721],\n",
       "       [1.1103803 ]]), cov=array([[[0.12474143]],\n",
       "\n",
       "       [[0.19659773]],\n",
       "\n",
       "       [[0.19733477]],\n",
       "\n",
       "       [[0.19734326]],\n",
       "\n",
       "       [[0.19743451]],\n",
       "\n",
       "       [[0.20632342]]]))"
      ]
     },
     "execution_count": null,
     "metadata": {},
     "output_type": "execute_result"
    }
   ],
   "source": [
    "k.predict(T)"
   ]
  },
  {
   "cell_type": "markdown",
   "id": "0966d43e-f024-4dd0-8f8d-850fd8b3d05b",
   "metadata": {},
   "source": [
    "#### Get Info"
   ]
  },
  {
   "cell_type": "code",
   "execution_count": null,
   "id": "e93db5c3-e503-4f4b-8440-b5c5227f2d9b",
   "metadata": {},
   "outputs": [],
   "source": [
    "#| export\n",
    "def _array2df(x, row_names, col_names, row_var):\n",
    "    df = pd.DataFrame(x, columns=col_names)\n",
    "    if row_names is not None: df.insert(0, row_var, row_names)\n",
    "    return df"
   ]
  },
  {
   "cell_type": "code",
   "execution_count": null,
   "id": "6b105910-c37c-41a4-be43-e52cca23b514",
   "metadata": {},
   "outputs": [],
   "source": [
    "#| export\n",
    "@patch\n",
    "def get_info(self: KalmanModel, var_names=None):\n",
    "    out = {}\n",
    "    if var_names is not None: self.var_names = var_names \n",
    "    # latent names can use the updated var_names name\n",
    "    latent_names = self.latent_names\n",
    "    out['A'] = _array2df(self.model.transition_matrices, latent_names, latent_names, 'latent')\n",
    "    out['H'] = _array2df(self.model.observation_matrices, var_names, latent_names, 'variable')\n",
    "    out['R'] = _array2df(self.model.observation_covariance, var_names, var_names, 'variable')\n",
    "    out['Q'] = _array2df(self.model.transition_covariance, latent_names, latent_names, 'latent')\n",
    "    return out"
   ]
  },
  {
   "cell_type": "code",
   "execution_count": null,
   "id": "44427c87-ef2c-4624-ab56-408316a71a5e",
   "metadata": {},
   "outputs": [
    {
     "data": {
      "text/html": [
       "<p style='font-size: 1.5rem; font-decoration: bold'><p><div style=\"display: flex; column-gap: 20px; flex-wrap: wrap;\" class='table table-striped table-sm'> <div> <p style='font-size: 1.3rem;'>A</p> <style type=\"text/css\">\n",
       "</style>\n",
       "<table id=\"T_48527\">\n",
       "  <thead>\n",
       "    <tr>\n",
       "      <th id=\"T_48527_level0_col0\" class=\"col_heading level0 col0\" >latent</th>\n",
       "      <th id=\"T_48527_level0_col1\" class=\"col_heading level0 col1\" >z_0</th>\n",
       "    </tr>\n",
       "  </thead>\n",
       "  <tbody>\n",
       "    <tr>\n",
       "      <td id=\"T_48527_row0_col0\" class=\"data row0 col0\" >z_0</td>\n",
       "      <td id=\"T_48527_row0_col1\" class=\"data row0 col1\" >1.0000</td>\n",
       "    </tr>\n",
       "  </tbody>\n",
       "</table>\n",
       " </div><div> <p style='font-size: 1.3rem;'>H</p> <style type=\"text/css\">\n",
       "</style>\n",
       "<table id=\"T_6c114\">\n",
       "  <thead>\n",
       "    <tr>\n",
       "      <th id=\"T_6c114_level0_col0\" class=\"col_heading level0 col0\" >z_0</th>\n",
       "    </tr>\n",
       "  </thead>\n",
       "  <tbody>\n",
       "    <tr>\n",
       "      <td id=\"T_6c114_row0_col0\" class=\"data row0 col0\" >1.0000</td>\n",
       "    </tr>\n",
       "  </tbody>\n",
       "</table>\n",
       " </div><div> <p style='font-size: 1.3rem;'>R</p> <style type=\"text/css\">\n",
       "</style>\n",
       "<table id=\"T_c1c82\">\n",
       "  <thead>\n",
       "    <tr>\n",
       "      <th id=\"T_c1c82_level0_col0\" class=\"col_heading level0 col0\" >0</th>\n",
       "    </tr>\n",
       "  </thead>\n",
       "  <tbody>\n",
       "    <tr>\n",
       "      <td id=\"T_c1c82_row0_col0\" class=\"data row0 col0\" >0.1087</td>\n",
       "    </tr>\n",
       "  </tbody>\n",
       "</table>\n",
       " </div><div> <p style='font-size: 1.3rem;'>Q</p> <style type=\"text/css\">\n",
       "</style>\n",
       "<table id=\"T_5ebf7\">\n",
       "  <thead>\n",
       "    <tr>\n",
       "      <th id=\"T_5ebf7_level0_col0\" class=\"col_heading level0 col0\" >latent</th>\n",
       "      <th id=\"T_5ebf7_level0_col1\" class=\"col_heading level0 col1\" >z_0</th>\n",
       "    </tr>\n",
       "  </thead>\n",
       "  <tbody>\n",
       "    <tr>\n",
       "      <td id=\"T_5ebf7_row0_col0\" class=\"data row0 col0\" >z_0</td>\n",
       "      <td id=\"T_5ebf7_row0_col1\" class=\"data row0 col1\" >0.8666</td>\n",
       "    </tr>\n",
       "  </tbody>\n",
       "</table>\n",
       " </div></div>"
      ],
      "text/plain": [
       "<IPython.core.display.HTML object>"
      ]
     },
     "metadata": {},
     "output_type": "display_data"
    }
   ],
   "source": [
    "display_as_row(k.get_info())"
   ]
  },
  {
   "cell_type": "markdown",
   "id": "99b8643e-8f4c-4552-8d92-d5cb6eab0b22",
   "metadata": {},
   "source": [
    " shit numpy arrays..."
   ]
  },
  {
   "cell_type": "code",
   "execution_count": null,
   "id": "06866f6d-b457-4c59-adea-11dc491bf916",
   "metadata": {},
   "outputs": [],
   "source": [
    "#| export\n",
    "def _shift_1d(a, shift):\n",
    "    a = np.roll(a, shift, axis=0)\n",
    "    if shift> 0: a[:shift, :] = np.nan\n",
    "    else: a[shift:, :] = np.nan \n",
    "    \n",
    "    return a"
   ]
  },
  {
   "cell_type": "code",
   "execution_count": null,
   "id": "2c73ae6c-484b-4f6b-9d4e-ea5a33e526d1",
   "metadata": {},
   "outputs": [
    {
     "data": {
      "text/plain": [
       "array([[[nan, nan, nan],\n",
       "        [nan, nan, nan]],\n",
       "\n",
       "       [[nan, nan, nan],\n",
       "        [nan, nan, nan]],\n",
       "\n",
       "       [[ 0.,  0.,  0.],\n",
       "        [ 0.,  0.,  0.]],\n",
       "\n",
       "       [[ 1.,  2.,  3.],\n",
       "        [ 1.,  2.,  3.]]])"
      ]
     },
     "execution_count": null,
     "metadata": {},
     "output_type": "execute_result"
    }
   ],
   "source": [
    "_shift_1d(np.stack([np.vstack([np.arange(1, 4.)*i]*2) for i in range(4)]),2)"
   ]
  },
  {
   "cell_type": "code",
   "execution_count": null,
   "id": "826b4f5e-9188-498e-86ba-40390c05dfbd",
   "metadata": {},
   "outputs": [
    {
     "data": {
      "text/plain": [
       "array([[ 1.,  2.,  3.],\n",
       "       [ 2.,  4.,  6.],\n",
       "       [ 3.,  6.,  9.],\n",
       "       [nan, nan, nan]])"
      ]
     },
     "execution_count": null,
     "metadata": {},
     "output_type": "execute_result"
    }
   ],
   "source": [
    "_shift_1d(np.vstack([np.arange(1, 4.)*i for i in range(4)]),-1)"
   ]
  },
  {
   "cell_type": "markdown",
   "id": "e43e36cf-4390-43f0-b998-2eb9d032e05f",
   "metadata": {},
   "source": [
    "## Local Level Model\n",
    "\n",
    "Local level models is a model that uses Kalman filter, where the design matrix (`A`) and the Transition matrix (`H`) are identity matrix. This means that the state of model is equal to the observations and the changes in the state are only from the process noise.\n"
   ]
  },
  {
   "cell_type": "code",
   "execution_count": null,
   "id": "88e9405b-a6da-4391-ad8b-7e19465dd1e2",
   "metadata": {},
   "outputs": [],
   "source": [
    "#| export\n",
    "class LocalLevelModel(KalmanModel):\n",
    "    \"Local level model using a kalman filter\"\n",
    "    def __init__(self, data):\n",
    "        transition_matrices = observation_matrices = np.eye(data.shape[1])\n",
    "        # init with cov of transition of data\n",
    "        transition_covariance = np.diag(np.nanvar(data - _shift_1d(data, -1), axis=0))\n",
    "        em_vars = ['transition_covariance', 'observation_covariance']\n",
    "        \n",
    "        super().__init__(data, transition_matrices=transition_matrices, observation_matrices = observation_matrices, transition_covariance=transition_covariance, em_vars=em_vars )\n",
    "        "
   ]
  },
  {
   "cell_type": "code",
   "execution_count": null,
   "id": "83067671-9b7a-41d8-9e69-901380ff27da",
   "metadata": {},
   "outputs": [],
   "source": [
    "ll = LocalLevelModel(X)"
   ]
  },
  {
   "cell_type": "code",
   "execution_count": null,
   "id": "c733651b-86e9-48f8-8026-a042a9a594c2",
   "metadata": {},
   "outputs": [
    {
     "data": {
      "text/plain": [
       "<__main__.LocalLevelModel>"
      ]
     },
     "execution_count": null,
     "metadata": {},
     "output_type": "execute_result"
    }
   ],
   "source": [
    "ll.fit()"
   ]
  },
  {
   "cell_type": "code",
   "execution_count": null,
   "id": "8134aed9-772c-460a-818b-09a8be45c8e7",
   "metadata": {},
   "outputs": [
    {
     "data": {
      "text/plain": [
       "ListNormal(mean=array([[1.22847659],\n",
       "       [2.59752825]]), cov=array([[[0.45973462]],\n",
       "\n",
       "       [[0.42588627]]]))"
      ]
     },
     "execution_count": null,
     "metadata": {},
     "output_type": "execute_result"
    }
   ],
   "source": [
    "ll.predict(np.array([5, 3]))"
   ]
  },
  {
   "cell_type": "code",
   "execution_count": null,
   "id": "d0a4166e-3856-420a-9b95-2ef0d5f560b4",
   "metadata": {},
   "outputs": [],
   "source": [
    "ll2 = LocalLevelModel(np.hstack([X, X*2]))"
   ]
  },
  {
   "cell_type": "code",
   "execution_count": null,
   "id": "986dd426-b883-4bb2-b49e-bc1b81749db4",
   "metadata": {},
   "outputs": [
    {
     "data": {
      "text/plain": [
       "<__main__.LocalLevelModel>"
      ]
     },
     "execution_count": null,
     "metadata": {},
     "output_type": "execute_result"
    }
   ],
   "source": [
    "ll2.fit()"
   ]
  },
  {
   "cell_type": "code",
   "execution_count": null,
   "id": "c6280226-8d7e-4447-a163-c649ca49e85a",
   "metadata": {},
   "outputs": [
    {
     "data": {
      "text/plain": [
       "ListNormal(mean=array([[1.10135575, 2.18600305],\n",
       "       [2.81259028, 5.65372346]]), cov=array([[[0.25086027, 0.35069288],\n",
       "        [0.35069288, 0.77948375]],\n",
       "\n",
       "       [[0.23700609, 0.33877014],\n",
       "        [0.33877014, 0.74905336]]]))"
      ]
     },
     "execution_count": null,
     "metadata": {},
     "output_type": "execute_result"
    }
   ],
   "source": [
    "ll2.predict(np.array([5, 3]))"
   ]
  },
  {
   "cell_type": "code",
   "execution_count": null,
   "id": "cc362ed9-1696-4200-8cff-8842ea5863b0",
   "metadata": {},
   "outputs": [
    {
     "data": {
      "text/plain": [
       "{'A':   latent  z_0  z_1\n",
       " 0    z_0  1.0  0.0\n",
       " 1    z_1  0.0  1.0,\n",
       " 'H':    z_0  z_1\n",
       " 0  1.0  0.0\n",
       " 1  0.0  1.0,\n",
       " 'R':           0         1\n",
       " 0  0.136841  0.181315\n",
       " 1  0.181315  0.408279,\n",
       " 'Q':   latent       z_0       z_1\n",
       " 0    z_0  0.960236  1.852132\n",
       " 1    z_1  1.852132  3.847645}"
      ]
     },
     "execution_count": null,
     "metadata": {},
     "output_type": "execute_result"
    }
   ],
   "source": [
    "ll2.get_info()"
   ]
  },
  {
   "cell_type": "markdown",
   "id": "820d2038-a1d3-4c8f-a5cd-23da3a4f6ebd",
   "metadata": {},
   "source": [
    "**Warning** this implementation of the EM algorithm may actually result in matrices that aren't correct for multivariate variables"
   ]
  },
  {
   "cell_type": "markdown",
   "id": "bcd20ca8-6fa6-472b-84c0-663c97a4ee4f",
   "metadata": {},
   "source": [
    "## Local slope Model\n",
    "\n",
    "Local slope models are an extentions of local level model that in the state variable keep track of also the slope\n",
    "\n",
    "The transition matrix (`A`) is:\n",
    "\n",
    "$$A = \\left[\\begin{array}{cc}1 & 1 \\\\ 0 & 1\\end{array}\\right]$$\n",
    "\n",
    "the state $x \\in \\mathbb{R}^(2N) \\times 1$ where the upper half keep track of the level and the lower half of the slope. $A \\in \\mathbb{R}^2N \\times 2N$\n",
    "\n",
    "hence the observation matrix (`H`) is:\n",
    "\n",
    "$$A = \\left[\\begin{array}{cc}1 & 0 end{array}\\right]$$\n",
    "\n",
    "For the multivariate case the 1 are replaced with an identiy matrix\n"
   ]
  },
  {
   "cell_type": "code",
   "execution_count": null,
   "id": "177faac6-d295-46c4-9588-db4ca987a6e0",
   "metadata": {},
   "outputs": [],
   "source": [
    "n_features = 2\n",
    "Zero = np.zeros((n_features, n_features), dtype=np.float32)\n",
    "I = np.eye(n_features)\n",
    "\n",
    "A = np.vstack([np.hstack([I   , I]),\n",
    "               np.hstack([Zero, I])])\n",
    "H = np.hstack([I, Zero])"
   ]
  },
  {
   "cell_type": "code",
   "execution_count": null,
   "id": "253470fe-22e5-43b9-a8cd-cdbdbd3cea95",
   "metadata": {},
   "outputs": [
    {
     "data": {
      "text/plain": [
       "(4, 4)"
      ]
     },
     "execution_count": null,
     "metadata": {},
     "output_type": "execute_result"
    }
   ],
   "source": [
    "A.shape"
   ]
  },
  {
   "cell_type": "code",
   "execution_count": null,
   "id": "aaf500f7-d926-4363-ae01-3639734e51ec",
   "metadata": {},
   "outputs": [
    {
     "data": {
      "text/plain": [
       "(2, 2)"
      ]
     },
     "execution_count": null,
     "metadata": {},
     "output_type": "execute_result"
    }
   ],
   "source": [
    "I.shape"
   ]
  },
  {
   "cell_type": "code",
   "execution_count": null,
   "id": "25ce48c4-7d86-48f3-92ba-474e62d17120",
   "metadata": {},
   "outputs": [
    {
     "data": {
      "text/plain": [
       "(2, 2)"
      ]
     },
     "execution_count": null,
     "metadata": {},
     "output_type": "execute_result"
    }
   ],
   "source": [
    "Zero.shape"
   ]
  },
  {
   "cell_type": "code",
   "execution_count": null,
   "id": "da622e54-73ef-43a0-9e01-ee824c986ec8",
   "metadata": {},
   "outputs": [
    {
     "data": {
      "text/plain": [
       "(2, 4)"
      ]
     },
     "execution_count": null,
     "metadata": {},
     "output_type": "execute_result"
    }
   ],
   "source": [
    "H.shape"
   ]
  },
  {
   "cell_type": "code",
   "execution_count": null,
   "id": "285ce053-22c9-43e8-bae5-06adc16e242d",
   "metadata": {},
   "outputs": [],
   "source": [
    "#| export\n",
    "def _init_local_slope(n_features):\n",
    "    Zero = np.zeros((n_features, n_features), dtype=np.float32)\n",
    "    I = np.eye(n_features)\n",
    "\n",
    "    A = np.vstack([np.hstack([I   , I]),\n",
    "                   np.hstack([Zero, I])])\n",
    "    H = np.hstack([I, Zero])\n",
    "    return A, H"
   ]
  },
  {
   "cell_type": "code",
   "execution_count": null,
   "id": "5d1834a1-13bc-444b-9e77-bf4f926ce4cb",
   "metadata": {},
   "outputs": [],
   "source": [
    "A, H = _init_local_slope(2)"
   ]
  },
  {
   "cell_type": "code",
   "execution_count": null,
   "id": "bd36e1bd-066e-442e-b05d-565db9158761",
   "metadata": {},
   "outputs": [],
   "source": [
    "#| export\n",
    "class LocalSlopeModel(KalmanModel):\n",
    "    \"Local slope model using a kalman filter\"\n",
    "    # @classmethod\n",
    "    def __init__(self, data):\n",
    "        A, H = _init_local_slope(data.shape[1])\n",
    "        em_vars = ['transition_covariance', 'observation_covariance']\n",
    "        \n",
    "        super().__init__(data, transition_matrices=A, observation_matrices = H, em_vars=em_vars )\n",
    "    \n",
    "    @property\n",
    "    def latent_names(self):\n",
    "        return [f\"level_{var}\" for var in self.var_names] + [f\"slope_{var}\" for var in self.var_names] "
   ]
  },
  {
   "cell_type": "code",
   "execution_count": null,
   "id": "0a694717-294d-466a-b27d-7266624641b4",
   "metadata": {},
   "outputs": [],
   "source": [
    "ls = LocalSlopeModel(X)"
   ]
  },
  {
   "cell_type": "code",
   "execution_count": null,
   "id": "faa24c5c-5454-47fb-aff8-21f136412032",
   "metadata": {},
   "outputs": [
    {
     "data": {
      "text/plain": [
       "<pykalman.standard.KalmanFilter>"
      ]
     },
     "execution_count": null,
     "metadata": {},
     "output_type": "execute_result"
    }
   ],
   "source": [
    "ls.model"
   ]
  },
  {
   "cell_type": "code",
   "execution_count": null,
   "id": "de35d60f-edcf-4cb5-ade7-d07b21404e40",
   "metadata": {},
   "outputs": [
    {
     "data": {
      "text/plain": [
       "<__main__.LocalSlopeModel>"
      ]
     },
     "execution_count": null,
     "metadata": {},
     "output_type": "execute_result"
    }
   ],
   "source": [
    "ls.fit()"
   ]
  },
  {
   "cell_type": "code",
   "execution_count": null,
   "id": "aa1d16d7-ffb2-403e-ab64-0727f9e4e960",
   "metadata": {},
   "outputs": [
    {
     "data": {
      "text/plain": [
       "ListNormal(mean=array([[2.716141  ],\n",
       "       [2.01802129]]), cov=array([[[0.32816569]],\n",
       "\n",
       "       [[0.32739003]]]))"
      ]
     },
     "execution_count": null,
     "metadata": {},
     "output_type": "execute_result"
    }
   ],
   "source": [
    "ls.predict(np.array([3, 2]))"
   ]
  },
  {
   "cell_type": "code",
   "execution_count": null,
   "id": "31a83b57-23ab-482e-8c31-74cfb0504681",
   "metadata": {},
   "outputs": [],
   "source": [
    "X = np.array([[1, 2],\n",
    "              [2, 3],\n",
    "              [4, 5],\n",
    "              [6, 7]])"
   ]
  },
  {
   "cell_type": "code",
   "execution_count": null,
   "id": "4f2cfbe2-e711-4f14-a991-7496a5f8b8d3",
   "metadata": {},
   "outputs": [
    {
     "data": {
      "text/plain": [
       "(4, 2)"
      ]
     },
     "execution_count": null,
     "metadata": {},
     "output_type": "execute_result"
    }
   ],
   "source": [
    "X.shape"
   ]
  },
  {
   "cell_type": "code",
   "execution_count": null,
   "id": "0ee2976d-432e-4207-a4ad-4e9af4bee993",
   "metadata": {},
   "outputs": [
    {
     "data": {
      "text/plain": [
       "(4, 2)"
      ]
     },
     "execution_count": null,
     "metadata": {},
     "output_type": "execute_result"
    }
   ],
   "source": [
    "(A @ X).shape"
   ]
  },
  {
   "cell_type": "code",
   "execution_count": null,
   "id": "2724c577-5a2b-4603-80bc-ff542a89c23f",
   "metadata": {},
   "outputs": [
    {
     "data": {
      "text/plain": [
       "(2, 4)"
      ]
     },
     "execution_count": null,
     "metadata": {},
     "output_type": "execute_result"
    }
   ],
   "source": [
    "H.shape"
   ]
  },
  {
   "cell_type": "code",
   "execution_count": null,
   "id": "b654da05-96d0-46c5-a48a-5edb8781fe30",
   "metadata": {},
   "outputs": [
    {
     "data": {
      "text/plain": [
       "array([[1., 2.],\n",
       "       [2., 3.]])"
      ]
     },
     "execution_count": null,
     "metadata": {},
     "output_type": "execute_result"
    }
   ],
   "source": [
    "H @ X"
   ]
  },
  {
   "cell_type": "code",
   "execution_count": null,
   "id": "8cd6f1b2-339a-429e-9624-b6bab5e7976c",
   "metadata": {},
   "outputs": [],
   "source": [
    "ls2 = LocalSlopeModel(np.hstack([X, X*2]))"
   ]
  },
  {
   "cell_type": "code",
   "execution_count": null,
   "id": "e7f9b7ee-c226-43ea-a5d6-73fd9609576f",
   "metadata": {},
   "outputs": [
    {
     "data": {
      "text/plain": [
       "<__main__.LocalSlopeModel>"
      ]
     },
     "execution_count": null,
     "metadata": {},
     "output_type": "execute_result"
    }
   ],
   "source": [
    "ls2.fit()"
   ]
  },
  {
   "cell_type": "code",
   "execution_count": null,
   "id": "e96f335d-30e9-4815-be1b-af34c1152d81",
   "metadata": {},
   "outputs": [
    {
     "data": {
      "text/plain": [
       "ListNormal(mean=array([[1.76475393, 2.53536399, 3.52950785, 5.07072797],\n",
       "       [3.88624563, 4.80683778, 7.77249127, 9.61367556]]), cov=array([[[0.62753041, 0.7826417 , 0.83204436, 1.56528339],\n",
       "        [0.7826417 , 1.707989  , 1.56528339, 2.99296154],\n",
       "        [0.83204436, 1.56528339, 1.87559695, 3.13056678],\n",
       "        [1.56528339, 2.99296154, 3.13056678, 6.19743131]],\n",
       "\n",
       "       [[0.66321396, 0.84217581, 0.90182172, 1.68435163],\n",
       "        [0.84217581, 1.81191923, 1.68435163, 3.19923227],\n",
       "        [0.90182172, 1.68435163, 2.01594655, 3.36870325],\n",
       "        [1.68435163, 3.19923227, 3.36870325, 6.61076763]]]))"
      ]
     },
     "execution_count": null,
     "metadata": {},
     "output_type": "execute_result"
    }
   ],
   "source": [
    "ls2.predict(np.array([1, 2]))"
   ]
  },
  {
   "cell_type": "code",
   "execution_count": null,
   "id": "2cc483cd-75ee-40b1-a1df-d968e332aee3",
   "metadata": {},
   "outputs": [
    {
     "data": {
      "text/html": [
       "<p style='font-size: 1.5rem; font-decoration: bold'><p><div style=\"display: flex; column-gap: 20px; flex-wrap: wrap;\" class='table table-striped table-sm'> <div> <p style='font-size: 1.3rem;'>A</p> <style type=\"text/css\">\n",
       "</style>\n",
       "<table id=\"T_fac96\">\n",
       "  <thead>\n",
       "    <tr>\n",
       "      <th id=\"T_fac96_level0_col0\" class=\"col_heading level0 col0\" >latent</th>\n",
       "      <th id=\"T_fac96_level0_col1\" class=\"col_heading level0 col1\" >level_x_0</th>\n",
       "      <th id=\"T_fac96_level0_col2\" class=\"col_heading level0 col2\" >level_x_1</th>\n",
       "      <th id=\"T_fac96_level0_col3\" class=\"col_heading level0 col3\" >level_x_2</th>\n",
       "      <th id=\"T_fac96_level0_col4\" class=\"col_heading level0 col4\" >level_x_3</th>\n",
       "      <th id=\"T_fac96_level0_col5\" class=\"col_heading level0 col5\" >slope_x_0</th>\n",
       "      <th id=\"T_fac96_level0_col6\" class=\"col_heading level0 col6\" >slope_x_1</th>\n",
       "      <th id=\"T_fac96_level0_col7\" class=\"col_heading level0 col7\" >slope_x_2</th>\n",
       "      <th id=\"T_fac96_level0_col8\" class=\"col_heading level0 col8\" >slope_x_3</th>\n",
       "    </tr>\n",
       "  </thead>\n",
       "  <tbody>\n",
       "    <tr>\n",
       "      <td id=\"T_fac96_row0_col0\" class=\"data row0 col0\" >level_x_0</td>\n",
       "      <td id=\"T_fac96_row0_col1\" class=\"data row0 col1\" >1.0000</td>\n",
       "      <td id=\"T_fac96_row0_col2\" class=\"data row0 col2\" >0.0000</td>\n",
       "      <td id=\"T_fac96_row0_col3\" class=\"data row0 col3\" >0.0000</td>\n",
       "      <td id=\"T_fac96_row0_col4\" class=\"data row0 col4\" >0.0000</td>\n",
       "      <td id=\"T_fac96_row0_col5\" class=\"data row0 col5\" >1.0000</td>\n",
       "      <td id=\"T_fac96_row0_col6\" class=\"data row0 col6\" >0.0000</td>\n",
       "      <td id=\"T_fac96_row0_col7\" class=\"data row0 col7\" >0.0000</td>\n",
       "      <td id=\"T_fac96_row0_col8\" class=\"data row0 col8\" >0.0000</td>\n",
       "    </tr>\n",
       "    <tr>\n",
       "      <td id=\"T_fac96_row1_col0\" class=\"data row1 col0\" >level_x_1</td>\n",
       "      <td id=\"T_fac96_row1_col1\" class=\"data row1 col1\" >0.0000</td>\n",
       "      <td id=\"T_fac96_row1_col2\" class=\"data row1 col2\" >1.0000</td>\n",
       "      <td id=\"T_fac96_row1_col3\" class=\"data row1 col3\" >0.0000</td>\n",
       "      <td id=\"T_fac96_row1_col4\" class=\"data row1 col4\" >0.0000</td>\n",
       "      <td id=\"T_fac96_row1_col5\" class=\"data row1 col5\" >0.0000</td>\n",
       "      <td id=\"T_fac96_row1_col6\" class=\"data row1 col6\" >1.0000</td>\n",
       "      <td id=\"T_fac96_row1_col7\" class=\"data row1 col7\" >0.0000</td>\n",
       "      <td id=\"T_fac96_row1_col8\" class=\"data row1 col8\" >0.0000</td>\n",
       "    </tr>\n",
       "    <tr>\n",
       "      <td id=\"T_fac96_row2_col0\" class=\"data row2 col0\" >level_x_2</td>\n",
       "      <td id=\"T_fac96_row2_col1\" class=\"data row2 col1\" >0.0000</td>\n",
       "      <td id=\"T_fac96_row2_col2\" class=\"data row2 col2\" >0.0000</td>\n",
       "      <td id=\"T_fac96_row2_col3\" class=\"data row2 col3\" >1.0000</td>\n",
       "      <td id=\"T_fac96_row2_col4\" class=\"data row2 col4\" >0.0000</td>\n",
       "      <td id=\"T_fac96_row2_col5\" class=\"data row2 col5\" >0.0000</td>\n",
       "      <td id=\"T_fac96_row2_col6\" class=\"data row2 col6\" >0.0000</td>\n",
       "      <td id=\"T_fac96_row2_col7\" class=\"data row2 col7\" >1.0000</td>\n",
       "      <td id=\"T_fac96_row2_col8\" class=\"data row2 col8\" >0.0000</td>\n",
       "    </tr>\n",
       "    <tr>\n",
       "      <td id=\"T_fac96_row3_col0\" class=\"data row3 col0\" >level_x_3</td>\n",
       "      <td id=\"T_fac96_row3_col1\" class=\"data row3 col1\" >0.0000</td>\n",
       "      <td id=\"T_fac96_row3_col2\" class=\"data row3 col2\" >0.0000</td>\n",
       "      <td id=\"T_fac96_row3_col3\" class=\"data row3 col3\" >0.0000</td>\n",
       "      <td id=\"T_fac96_row3_col4\" class=\"data row3 col4\" >1.0000</td>\n",
       "      <td id=\"T_fac96_row3_col5\" class=\"data row3 col5\" >0.0000</td>\n",
       "      <td id=\"T_fac96_row3_col6\" class=\"data row3 col6\" >0.0000</td>\n",
       "      <td id=\"T_fac96_row3_col7\" class=\"data row3 col7\" >0.0000</td>\n",
       "      <td id=\"T_fac96_row3_col8\" class=\"data row3 col8\" >1.0000</td>\n",
       "    </tr>\n",
       "    <tr>\n",
       "      <td id=\"T_fac96_row4_col0\" class=\"data row4 col0\" >slope_x_0</td>\n",
       "      <td id=\"T_fac96_row4_col1\" class=\"data row4 col1\" >0.0000</td>\n",
       "      <td id=\"T_fac96_row4_col2\" class=\"data row4 col2\" >0.0000</td>\n",
       "      <td id=\"T_fac96_row4_col3\" class=\"data row4 col3\" >0.0000</td>\n",
       "      <td id=\"T_fac96_row4_col4\" class=\"data row4 col4\" >0.0000</td>\n",
       "      <td id=\"T_fac96_row4_col5\" class=\"data row4 col5\" >1.0000</td>\n",
       "      <td id=\"T_fac96_row4_col6\" class=\"data row4 col6\" >0.0000</td>\n",
       "      <td id=\"T_fac96_row4_col7\" class=\"data row4 col7\" >0.0000</td>\n",
       "      <td id=\"T_fac96_row4_col8\" class=\"data row4 col8\" >0.0000</td>\n",
       "    </tr>\n",
       "    <tr>\n",
       "      <td id=\"T_fac96_row5_col0\" class=\"data row5 col0\" >slope_x_1</td>\n",
       "      <td id=\"T_fac96_row5_col1\" class=\"data row5 col1\" >0.0000</td>\n",
       "      <td id=\"T_fac96_row5_col2\" class=\"data row5 col2\" >0.0000</td>\n",
       "      <td id=\"T_fac96_row5_col3\" class=\"data row5 col3\" >0.0000</td>\n",
       "      <td id=\"T_fac96_row5_col4\" class=\"data row5 col4\" >0.0000</td>\n",
       "      <td id=\"T_fac96_row5_col5\" class=\"data row5 col5\" >0.0000</td>\n",
       "      <td id=\"T_fac96_row5_col6\" class=\"data row5 col6\" >1.0000</td>\n",
       "      <td id=\"T_fac96_row5_col7\" class=\"data row5 col7\" >0.0000</td>\n",
       "      <td id=\"T_fac96_row5_col8\" class=\"data row5 col8\" >0.0000</td>\n",
       "    </tr>\n",
       "    <tr>\n",
       "      <td id=\"T_fac96_row6_col0\" class=\"data row6 col0\" >slope_x_2</td>\n",
       "      <td id=\"T_fac96_row6_col1\" class=\"data row6 col1\" >0.0000</td>\n",
       "      <td id=\"T_fac96_row6_col2\" class=\"data row6 col2\" >0.0000</td>\n",
       "      <td id=\"T_fac96_row6_col3\" class=\"data row6 col3\" >0.0000</td>\n",
       "      <td id=\"T_fac96_row6_col4\" class=\"data row6 col4\" >0.0000</td>\n",
       "      <td id=\"T_fac96_row6_col5\" class=\"data row6 col5\" >0.0000</td>\n",
       "      <td id=\"T_fac96_row6_col6\" class=\"data row6 col6\" >0.0000</td>\n",
       "      <td id=\"T_fac96_row6_col7\" class=\"data row6 col7\" >1.0000</td>\n",
       "      <td id=\"T_fac96_row6_col8\" class=\"data row6 col8\" >0.0000</td>\n",
       "    </tr>\n",
       "    <tr>\n",
       "      <td id=\"T_fac96_row7_col0\" class=\"data row7 col0\" >slope_x_3</td>\n",
       "      <td id=\"T_fac96_row7_col1\" class=\"data row7 col1\" >0.0000</td>\n",
       "      <td id=\"T_fac96_row7_col2\" class=\"data row7 col2\" >0.0000</td>\n",
       "      <td id=\"T_fac96_row7_col3\" class=\"data row7 col3\" >0.0000</td>\n",
       "      <td id=\"T_fac96_row7_col4\" class=\"data row7 col4\" >0.0000</td>\n",
       "      <td id=\"T_fac96_row7_col5\" class=\"data row7 col5\" >0.0000</td>\n",
       "      <td id=\"T_fac96_row7_col6\" class=\"data row7 col6\" >0.0000</td>\n",
       "      <td id=\"T_fac96_row7_col7\" class=\"data row7 col7\" >0.0000</td>\n",
       "      <td id=\"T_fac96_row7_col8\" class=\"data row7 col8\" >1.0000</td>\n",
       "    </tr>\n",
       "  </tbody>\n",
       "</table>\n",
       " </div><div> <p style='font-size: 1.3rem;'>H</p> <style type=\"text/css\">\n",
       "</style>\n",
       "<table id=\"T_19bcf\">\n",
       "  <thead>\n",
       "    <tr>\n",
       "      <th id=\"T_19bcf_level0_col0\" class=\"col_heading level0 col0\" >level_x_0</th>\n",
       "      <th id=\"T_19bcf_level0_col1\" class=\"col_heading level0 col1\" >level_x_1</th>\n",
       "      <th id=\"T_19bcf_level0_col2\" class=\"col_heading level0 col2\" >level_x_2</th>\n",
       "      <th id=\"T_19bcf_level0_col3\" class=\"col_heading level0 col3\" >level_x_3</th>\n",
       "      <th id=\"T_19bcf_level0_col4\" class=\"col_heading level0 col4\" >slope_x_0</th>\n",
       "      <th id=\"T_19bcf_level0_col5\" class=\"col_heading level0 col5\" >slope_x_1</th>\n",
       "      <th id=\"T_19bcf_level0_col6\" class=\"col_heading level0 col6\" >slope_x_2</th>\n",
       "      <th id=\"T_19bcf_level0_col7\" class=\"col_heading level0 col7\" >slope_x_3</th>\n",
       "    </tr>\n",
       "  </thead>\n",
       "  <tbody>\n",
       "    <tr>\n",
       "      <td id=\"T_19bcf_row0_col0\" class=\"data row0 col0\" >1.0000</td>\n",
       "      <td id=\"T_19bcf_row0_col1\" class=\"data row0 col1\" >0.0000</td>\n",
       "      <td id=\"T_19bcf_row0_col2\" class=\"data row0 col2\" >0.0000</td>\n",
       "      <td id=\"T_19bcf_row0_col3\" class=\"data row0 col3\" >0.0000</td>\n",
       "      <td id=\"T_19bcf_row0_col4\" class=\"data row0 col4\" >0.0000</td>\n",
       "      <td id=\"T_19bcf_row0_col5\" class=\"data row0 col5\" >0.0000</td>\n",
       "      <td id=\"T_19bcf_row0_col6\" class=\"data row0 col6\" >0.0000</td>\n",
       "      <td id=\"T_19bcf_row0_col7\" class=\"data row0 col7\" >0.0000</td>\n",
       "    </tr>\n",
       "    <tr>\n",
       "      <td id=\"T_19bcf_row1_col0\" class=\"data row1 col0\" >0.0000</td>\n",
       "      <td id=\"T_19bcf_row1_col1\" class=\"data row1 col1\" >1.0000</td>\n",
       "      <td id=\"T_19bcf_row1_col2\" class=\"data row1 col2\" >0.0000</td>\n",
       "      <td id=\"T_19bcf_row1_col3\" class=\"data row1 col3\" >0.0000</td>\n",
       "      <td id=\"T_19bcf_row1_col4\" class=\"data row1 col4\" >0.0000</td>\n",
       "      <td id=\"T_19bcf_row1_col5\" class=\"data row1 col5\" >0.0000</td>\n",
       "      <td id=\"T_19bcf_row1_col6\" class=\"data row1 col6\" >0.0000</td>\n",
       "      <td id=\"T_19bcf_row1_col7\" class=\"data row1 col7\" >0.0000</td>\n",
       "    </tr>\n",
       "    <tr>\n",
       "      <td id=\"T_19bcf_row2_col0\" class=\"data row2 col0\" >0.0000</td>\n",
       "      <td id=\"T_19bcf_row2_col1\" class=\"data row2 col1\" >0.0000</td>\n",
       "      <td id=\"T_19bcf_row2_col2\" class=\"data row2 col2\" >1.0000</td>\n",
       "      <td id=\"T_19bcf_row2_col3\" class=\"data row2 col3\" >0.0000</td>\n",
       "      <td id=\"T_19bcf_row2_col4\" class=\"data row2 col4\" >0.0000</td>\n",
       "      <td id=\"T_19bcf_row2_col5\" class=\"data row2 col5\" >0.0000</td>\n",
       "      <td id=\"T_19bcf_row2_col6\" class=\"data row2 col6\" >0.0000</td>\n",
       "      <td id=\"T_19bcf_row2_col7\" class=\"data row2 col7\" >0.0000</td>\n",
       "    </tr>\n",
       "    <tr>\n",
       "      <td id=\"T_19bcf_row3_col0\" class=\"data row3 col0\" >0.0000</td>\n",
       "      <td id=\"T_19bcf_row3_col1\" class=\"data row3 col1\" >0.0000</td>\n",
       "      <td id=\"T_19bcf_row3_col2\" class=\"data row3 col2\" >0.0000</td>\n",
       "      <td id=\"T_19bcf_row3_col3\" class=\"data row3 col3\" >1.0000</td>\n",
       "      <td id=\"T_19bcf_row3_col4\" class=\"data row3 col4\" >0.0000</td>\n",
       "      <td id=\"T_19bcf_row3_col5\" class=\"data row3 col5\" >0.0000</td>\n",
       "      <td id=\"T_19bcf_row3_col6\" class=\"data row3 col6\" >0.0000</td>\n",
       "      <td id=\"T_19bcf_row3_col7\" class=\"data row3 col7\" >0.0000</td>\n",
       "    </tr>\n",
       "  </tbody>\n",
       "</table>\n",
       " </div><div> <p style='font-size: 1.3rem;'>R</p> <style type=\"text/css\">\n",
       "</style>\n",
       "<table id=\"T_17d01\">\n",
       "  <thead>\n",
       "    <tr>\n",
       "      <th id=\"T_17d01_level0_col0\" class=\"col_heading level0 col0\" >0</th>\n",
       "      <th id=\"T_17d01_level0_col1\" class=\"col_heading level0 col1\" >1</th>\n",
       "      <th id=\"T_17d01_level0_col2\" class=\"col_heading level0 col2\" >2</th>\n",
       "      <th id=\"T_17d01_level0_col3\" class=\"col_heading level0 col3\" >3</th>\n",
       "    </tr>\n",
       "  </thead>\n",
       "  <tbody>\n",
       "    <tr>\n",
       "      <td id=\"T_17d01_row0_col0\" class=\"data row0 col0\" >0.4218</td>\n",
       "      <td id=\"T_17d01_row0_col1\" class=\"data row0 col1\" >0.5610</td>\n",
       "      <td id=\"T_17d01_row0_col2\" class=\"data row0 col2\" >0.5865</td>\n",
       "      <td id=\"T_17d01_row0_col3\" class=\"data row0 col3\" >1.1220</td>\n",
       "    </tr>\n",
       "    <tr>\n",
       "      <td id=\"T_17d01_row1_col0\" class=\"data row1 col0\" >0.5610</td>\n",
       "      <td id=\"T_17d01_row1_col1\" class=\"data row1 col1\" >1.2150</td>\n",
       "      <td id=\"T_17d01_row1_col2\" class=\"data row1 col2\" >1.1220</td>\n",
       "      <td id=\"T_17d01_row1_col3\" class=\"data row1 col3\" >2.1728</td>\n",
       "    </tr>\n",
       "    <tr>\n",
       "      <td id=\"T_17d01_row2_col0\" class=\"data row2 col0\" >0.5865</td>\n",
       "      <td id=\"T_17d01_row2_col1\" class=\"data row2 col1\" >1.1220</td>\n",
       "      <td id=\"T_17d01_row2_col2\" class=\"data row2 col2\" >1.3015</td>\n",
       "      <td id=\"T_17d01_row2_col3\" class=\"data row2 col3\" >2.2439</td>\n",
       "    </tr>\n",
       "    <tr>\n",
       "      <td id=\"T_17d01_row3_col0\" class=\"data row3 col0\" >1.1220</td>\n",
       "      <td id=\"T_17d01_row3_col1\" class=\"data row3 col1\" >2.1728</td>\n",
       "      <td id=\"T_17d01_row3_col2\" class=\"data row3 col2\" >2.2439</td>\n",
       "      <td id=\"T_17d01_row3_col3\" class=\"data row3 col3\" >4.4742</td>\n",
       "    </tr>\n",
       "  </tbody>\n",
       "</table>\n",
       " </div><div> <p style='font-size: 1.3rem;'>Q</p> <style type=\"text/css\">\n",
       "</style>\n",
       "<table id=\"T_7246d\">\n",
       "  <thead>\n",
       "    <tr>\n",
       "      <th id=\"T_7246d_level0_col0\" class=\"col_heading level0 col0\" >latent</th>\n",
       "      <th id=\"T_7246d_level0_col1\" class=\"col_heading level0 col1\" >level_x_0</th>\n",
       "      <th id=\"T_7246d_level0_col2\" class=\"col_heading level0 col2\" >level_x_1</th>\n",
       "      <th id=\"T_7246d_level0_col3\" class=\"col_heading level0 col3\" >level_x_2</th>\n",
       "      <th id=\"T_7246d_level0_col4\" class=\"col_heading level0 col4\" >level_x_3</th>\n",
       "      <th id=\"T_7246d_level0_col5\" class=\"col_heading level0 col5\" >slope_x_0</th>\n",
       "      <th id=\"T_7246d_level0_col6\" class=\"col_heading level0 col6\" >slope_x_1</th>\n",
       "      <th id=\"T_7246d_level0_col7\" class=\"col_heading level0 col7\" >slope_x_2</th>\n",
       "      <th id=\"T_7246d_level0_col8\" class=\"col_heading level0 col8\" >slope_x_3</th>\n",
       "    </tr>\n",
       "  </thead>\n",
       "  <tbody>\n",
       "    <tr>\n",
       "      <td id=\"T_7246d_row0_col0\" class=\"data row0 col0\" >level_x_0</td>\n",
       "      <td id=\"T_7246d_row0_col1\" class=\"data row0 col1\" >1.4877</td>\n",
       "      <td id=\"T_7246d_row0_col2\" class=\"data row0 col2\" >1.6293</td>\n",
       "      <td id=\"T_7246d_row0_col3\" class=\"data row0 col3\" >2.4502</td>\n",
       "      <td id=\"T_7246d_row0_col4\" class=\"data row0 col4\" >3.2585</td>\n",
       "      <td id=\"T_7246d_row0_col5\" class=\"data row0 col5\" >1.3881</td>\n",
       "      <td id=\"T_7246d_row0_col6\" class=\"data row0 col6\" >1.2723</td>\n",
       "      <td id=\"T_7246d_row0_col7\" class=\"data row0 col7\" >2.6069</td>\n",
       "      <td id=\"T_7246d_row0_col8\" class=\"data row0 col8\" >2.5446</td>\n",
       "    </tr>\n",
       "    <tr>\n",
       "      <td id=\"T_7246d_row1_col0\" class=\"data row1 col0\" >level_x_1</td>\n",
       "      <td id=\"T_7246d_row1_col1\" class=\"data row1 col1\" >1.6293</td>\n",
       "      <td id=\"T_7246d_row1_col2\" class=\"data row1 col2\" >2.4422</td>\n",
       "      <td id=\"T_7246d_row1_col3\" class=\"data row1 col3\" >3.2585</td>\n",
       "      <td id=\"T_7246d_row1_col4\" class=\"data row1 col4\" >4.3593</td>\n",
       "      <td id=\"T_7246d_row1_col5\" class=\"data row1 col5\" >1.7377</td>\n",
       "      <td id=\"T_7246d_row1_col6\" class=\"data row1 col6\" >1.7777</td>\n",
       "      <td id=\"T_7246d_row1_col7\" class=\"data row1 col7\" >3.4754</td>\n",
       "      <td id=\"T_7246d_row1_col8\" class=\"data row1 col8\" >3.3860</td>\n",
       "    </tr>\n",
       "    <tr>\n",
       "      <td id=\"T_7246d_row2_col0\" class=\"data row2 col0\" >level_x_2</td>\n",
       "      <td id=\"T_7246d_row2_col1\" class=\"data row2 col1\" >2.4502</td>\n",
       "      <td id=\"T_7246d_row2_col2\" class=\"data row2 col2\" >3.2585</td>\n",
       "      <td id=\"T_7246d_row2_col3\" class=\"data row2 col3\" >5.1629</td>\n",
       "      <td id=\"T_7246d_row2_col4\" class=\"data row2 col4\" >6.5170</td>\n",
       "      <td id=\"T_7246d_row2_col5\" class=\"data row2 col5\" >2.6069</td>\n",
       "      <td id=\"T_7246d_row2_col6\" class=\"data row2 col6\" >2.5446</td>\n",
       "      <td id=\"T_7246d_row2_col7\" class=\"data row2 col7\" >5.2985</td>\n",
       "      <td id=\"T_7246d_row2_col8\" class=\"data row2 col8\" >5.0892</td>\n",
       "    </tr>\n",
       "    <tr>\n",
       "      <td id=\"T_7246d_row3_col0\" class=\"data row3 col0\" >level_x_3</td>\n",
       "      <td id=\"T_7246d_row3_col1\" class=\"data row3 col1\" >3.2585</td>\n",
       "      <td id=\"T_7246d_row3_col2\" class=\"data row3 col2\" >4.3593</td>\n",
       "      <td id=\"T_7246d_row3_col3\" class=\"data row3 col3\" >6.5170</td>\n",
       "      <td id=\"T_7246d_row3_col4\" class=\"data row3 col4\" >8.9812</td>\n",
       "      <td id=\"T_7246d_row3_col5\" class=\"data row3 col5\" >3.4754</td>\n",
       "      <td id=\"T_7246d_row3_col6\" class=\"data row3 col6\" >3.3860</td>\n",
       "      <td id=\"T_7246d_row3_col7\" class=\"data row3 col7\" >6.9508</td>\n",
       "      <td id=\"T_7246d_row3_col8\" class=\"data row3 col8\" >6.8566</td>\n",
       "    </tr>\n",
       "    <tr>\n",
       "      <td id=\"T_7246d_row4_col0\" class=\"data row4 col0\" >slope_x_0</td>\n",
       "      <td id=\"T_7246d_row4_col1\" class=\"data row4 col1\" >1.3881</td>\n",
       "      <td id=\"T_7246d_row4_col2\" class=\"data row4 col2\" >1.7377</td>\n",
       "      <td id=\"T_7246d_row4_col3\" class=\"data row4 col3\" >2.6069</td>\n",
       "      <td id=\"T_7246d_row4_col4\" class=\"data row4 col4\" >3.4754</td>\n",
       "      <td id=\"T_7246d_row4_col5\" class=\"data row4 col5\" >1.8250</td>\n",
       "      <td id=\"T_7246d_row4_col6\" class=\"data row4 col6\" >1.4320</td>\n",
       "      <td id=\"T_7246d_row4_col7\" class=\"data row4 col7\" >2.9129</td>\n",
       "      <td id=\"T_7246d_row4_col8\" class=\"data row4 col8\" >2.8640</td>\n",
       "    </tr>\n",
       "    <tr>\n",
       "      <td id=\"T_7246d_row5_col0\" class=\"data row5 col0\" >slope_x_1</td>\n",
       "      <td id=\"T_7246d_row5_col1\" class=\"data row5 col1\" >1.2723</td>\n",
       "      <td id=\"T_7246d_row5_col2\" class=\"data row5 col2\" >1.7777</td>\n",
       "      <td id=\"T_7246d_row5_col3\" class=\"data row5 col3\" >2.5446</td>\n",
       "      <td id=\"T_7246d_row5_col4\" class=\"data row5 col4\" >3.3860</td>\n",
       "      <td id=\"T_7246d_row5_col5\" class=\"data row5 col5\" >1.4320</td>\n",
       "      <td id=\"T_7246d_row5_col6\" class=\"data row5 col6\" >1.7896</td>\n",
       "      <td id=\"T_7246d_row5_col7\" class=\"data row5 col7\" >2.8640</td>\n",
       "      <td id=\"T_7246d_row5_col8\" class=\"data row5 col8\" >2.8421</td>\n",
       "    </tr>\n",
       "    <tr>\n",
       "      <td id=\"T_7246d_row6_col0\" class=\"data row6 col0\" >slope_x_2</td>\n",
       "      <td id=\"T_7246d_row6_col1\" class=\"data row6 col1\" >2.6069</td>\n",
       "      <td id=\"T_7246d_row6_col2\" class=\"data row6 col2\" >3.4754</td>\n",
       "      <td id=\"T_7246d_row6_col3\" class=\"data row6 col3\" >5.2985</td>\n",
       "      <td id=\"T_7246d_row6_col4\" class=\"data row6 col4\" >6.9508</td>\n",
       "      <td id=\"T_7246d_row6_col5\" class=\"data row6 col5\" >2.9129</td>\n",
       "      <td id=\"T_7246d_row6_col6\" class=\"data row6 col6\" >2.8640</td>\n",
       "      <td id=\"T_7246d_row6_col7\" class=\"data row6 col7\" >6.1944</td>\n",
       "      <td id=\"T_7246d_row6_col8\" class=\"data row6 col8\" >5.7279</td>\n",
       "    </tr>\n",
       "    <tr>\n",
       "      <td id=\"T_7246d_row7_col0\" class=\"data row7 col0\" >slope_x_3</td>\n",
       "      <td id=\"T_7246d_row7_col1\" class=\"data row7 col1\" >2.5446</td>\n",
       "      <td id=\"T_7246d_row7_col2\" class=\"data row7 col2\" >3.3860</td>\n",
       "      <td id=\"T_7246d_row7_col3\" class=\"data row7 col3\" >5.0892</td>\n",
       "      <td id=\"T_7246d_row7_col4\" class=\"data row7 col4\" >6.8566</td>\n",
       "      <td id=\"T_7246d_row7_col5\" class=\"data row7 col5\" >2.8640</td>\n",
       "      <td id=\"T_7246d_row7_col6\" class=\"data row7 col6\" >2.8421</td>\n",
       "      <td id=\"T_7246d_row7_col7\" class=\"data row7 col7\" >5.7279</td>\n",
       "      <td id=\"T_7246d_row7_col8\" class=\"data row7 col8\" >6.0527</td>\n",
       "    </tr>\n",
       "  </tbody>\n",
       "</table>\n",
       " </div></div>"
      ],
      "text/plain": [
       "<IPython.core.display.HTML object>"
      ]
     },
     "metadata": {},
     "output_type": "display_data"
    }
   ],
   "source": [
    "display_as_row(ls2.get_info())"
   ]
  },
  {
   "cell_type": "markdown",
   "id": "eaa155bb-62bf-439a-a1ae-3e5e346ad744",
   "metadata": {},
   "source": [
    "### State"
   ]
  },
  {
   "cell_type": "code",
   "execution_count": null,
   "id": "21e031e1-8773-462a-b53f-885abe05410f",
   "metadata": {},
   "outputs": [],
   "source": [
    "#| export\n",
    "def _cov2std(x):\n",
    "    \"convert cov of array of covariances to array of stddev\"\n",
    "    return np.diagonal(np.sqrt(x), axis1=1, axis2=2)"
   ]
  },
  {
   "cell_type": "code",
   "execution_count": null,
   "id": "b2cae8cf-2991-46c0-9fc5-f54d27614e67",
   "metadata": {},
   "outputs": [],
   "source": [
    "#| export\n",
    "@patch\n",
    "def plot_state(self: KalmanModel, n_cols = 2, bind_interaction = True, properties={}):\n",
    "\n",
    "    s_mean, s_cov = self.state\n",
    "    s_std = _cov2std(s_cov)\n",
    "    \n",
    "    time = np.arange(self.n_obs)\n",
    "    \n",
    "    mean = _array2df(s_mean, time, self.latent_names, 'time').melt('time', value_name='mean')\n",
    "    std = _array2df(s_std, time, self.latent_names, 'time').melt('time', value_name='std' )\n",
    "    \n",
    "    state = pd.merge(mean, std, on=['time', 'variable'])\n",
    "    \n",
    "    plot_list = [alt.hconcat() for _ in range(0, len(self.latent_names), n_cols)]\n",
    "    selection_scale = alt.selection_interval(bind=\"scales\", encodings=['x']) if bind_interaction else None\n",
    "    for idx, variable in enumerate(self.latent_names):\n",
    "        data = state[state.variable == variable]\n",
    "        plot_list[idx // n_cols] |= _plot_error_bar(data,\n",
    "                                                   variable,\n",
    "                                                   y_label = variable,\n",
    "                                                   sel = selection_scale, properties=properties)\n",
    "    \n",
    "    plot = alt.vconcat(*plot_list)\n",
    "    \n",
    "    return plot\n"
   ]
  },
  {
   "cell_type": "code",
   "execution_count": null,
   "id": "b6590609-dab1-4c7b-a1f6-a3c37b1c8b33",
   "metadata": {},
   "outputs": [
    {
     "name": "stderr",
     "output_type": "stream",
     "text": [
      "/tmp/ipykernel_84377/4282844104.py:4: RuntimeWarning: invalid value encountered in sqrt\n",
      "  return np.diagonal(np.sqrt(x), axis1=1, axis2=2)\n",
      "/home/simone/.local/lib/python3.10/site-packages/altair/utils/core.py:317: FutureWarning: iteritems is deprecated and will be removed in a future version. Use .items instead.\n",
      "  for col_name, dtype in df.dtypes.iteritems():\n"
     ]
    },
    {
     "data": {
      "text/html": [
       "\n",
       "<div id=\"altair-viz-234b741af0aa46d7b96f95e63ca36709\"></div>\n",
       "<script type=\"text/javascript\">\n",
       "  var VEGA_DEBUG = (typeof VEGA_DEBUG == \"undefined\") ? {} : VEGA_DEBUG;\n",
       "  (function(spec, embedOpt){\n",
       "    let outputDiv = document.currentScript.previousElementSibling;\n",
       "    if (outputDiv.id !== \"altair-viz-234b741af0aa46d7b96f95e63ca36709\") {\n",
       "      outputDiv = document.getElementById(\"altair-viz-234b741af0aa46d7b96f95e63ca36709\");\n",
       "    }\n",
       "    const paths = {\n",
       "      \"vega\": \"https://cdn.jsdelivr.net/npm//vega@5?noext\",\n",
       "      \"vega-lib\": \"https://cdn.jsdelivr.net/npm//vega-lib?noext\",\n",
       "      \"vega-lite\": \"https://cdn.jsdelivr.net/npm//vega-lite@4.17.0?noext\",\n",
       "      \"vega-embed\": \"https://cdn.jsdelivr.net/npm//vega-embed@6?noext\",\n",
       "    };\n",
       "\n",
       "    function maybeLoadScript(lib, version) {\n",
       "      var key = `${lib.replace(\"-\", \"\")}_version`;\n",
       "      return (VEGA_DEBUG[key] == version) ?\n",
       "        Promise.resolve(paths[lib]) :\n",
       "        new Promise(function(resolve, reject) {\n",
       "          var s = document.createElement('script');\n",
       "          document.getElementsByTagName(\"head\")[0].appendChild(s);\n",
       "          s.async = true;\n",
       "          s.onload = () => {\n",
       "            VEGA_DEBUG[key] = version;\n",
       "            return resolve(paths[lib]);\n",
       "          };\n",
       "          s.onerror = () => reject(`Error loading script: ${paths[lib]}`);\n",
       "          s.src = paths[lib];\n",
       "        });\n",
       "    }\n",
       "\n",
       "    function showError(err) {\n",
       "      outputDiv.innerHTML = `<div class=\"error\" style=\"color:red;\">${err}</div>`;\n",
       "      throw err;\n",
       "    }\n",
       "\n",
       "    function displayChart(vegaEmbed) {\n",
       "      vegaEmbed(outputDiv, spec, embedOpt)\n",
       "        .catch(err => showError(`Javascript Error: ${err.message}<br>This usually means there's a typo in your chart specification. See the javascript console for the full traceback.`));\n",
       "    }\n",
       "\n",
       "    if(typeof define === \"function\" && define.amd) {\n",
       "      requirejs.config({paths});\n",
       "      require([\"vega-embed\"], displayChart, err => showError(`Error loading script: ${err.message}`));\n",
       "    } else {\n",
       "      maybeLoadScript(\"vega\", \"5\")\n",
       "        .then(() => maybeLoadScript(\"vega-lite\", \"4.17.0\"))\n",
       "        .then(() => maybeLoadScript(\"vega-embed\", \"6\"))\n",
       "        .catch(showError)\n",
       "        .then(() => displayChart(vegaEmbed));\n",
       "    }\n",
       "  })({\"config\": {\"view\": {\"continuousWidth\": 400, \"continuousHeight\": 300}}, \"vconcat\": [{\"hconcat\": [{\"layer\": [{\"mark\": \"errorband\", \"encoding\": {\"color\": {\"field\": \"variable\", \"legend\": {\"title\": [\"Line: pred. mean\", \"area: +/- 2 std\", \"(variable)\"]}, \"type\": \"nominal\"}, \"tooltip\": [{\"field\": \"std\", \"format\": \".4\", \"type\": \"quantitative\"}, {\"field\": \"mean\", \"format\": \".4\", \"type\": \"quantitative\"}], \"x\": {\"field\": \"time\", \"type\": \"quantitative\"}, \"y\": {\"field\": \"err_low\", \"scale\": {\"zero\": false}, \"title\": \"level_x_0\", \"type\": \"quantitative\"}, \"y2\": {\"field\": \"err_high\"}}, \"transform\": [{\"calculate\": \"datum.mean - 2 * datum.std\", \"as\": \"err_low\"}, {\"calculate\": \"datum.mean + 2 * datum.std\", \"as\": \"err_high\"}]}, {\"mark\": \"line\", \"encoding\": {\"color\": {\"field\": \"variable\", \"type\": \"nominal\"}, \"x\": {\"field\": \"time\", \"type\": \"quantitative\"}, \"y\": {\"field\": \"mean\", \"scale\": {\"zero\": false}, \"title\": \"level_x_0\", \"type\": \"quantitative\"}}, \"selection\": {\"selector001\": {\"type\": \"interval\", \"bind\": \"scales\", \"encodings\": [\"x\"]}}, \"title\": \"level_x_0\"}]}, {\"layer\": [{\"mark\": \"errorband\", \"encoding\": {\"color\": {\"field\": \"variable\", \"legend\": {\"title\": [\"Line: pred. mean\", \"area: +/- 2 std\", \"(variable)\"]}, \"type\": \"nominal\"}, \"tooltip\": [{\"field\": \"std\", \"format\": \".4\", \"type\": \"quantitative\"}, {\"field\": \"mean\", \"format\": \".4\", \"type\": \"quantitative\"}], \"x\": {\"field\": \"time\", \"type\": \"quantitative\"}, \"y\": {\"field\": \"err_low\", \"scale\": {\"zero\": false}, \"title\": \"slope_x_0\", \"type\": \"quantitative\"}, \"y2\": {\"field\": \"err_high\"}}, \"transform\": [{\"calculate\": \"datum.mean - 2 * datum.std\", \"as\": \"err_low\"}, {\"calculate\": \"datum.mean + 2 * datum.std\", \"as\": \"err_high\"}]}, {\"mark\": \"line\", \"encoding\": {\"color\": {\"field\": \"variable\", \"type\": \"nominal\"}, \"x\": {\"field\": \"time\", \"type\": \"quantitative\"}, \"y\": {\"field\": \"mean\", \"scale\": {\"zero\": false}, \"title\": \"slope_x_0\", \"type\": \"quantitative\"}}, \"selection\": {\"selector001\": {\"type\": \"interval\", \"bind\": \"scales\", \"encodings\": [\"x\"]}}, \"title\": \"slope_x_0\"}], \"data\": {\"name\": \"data-d32e61608ee83ebf513972a8fe497b31\"}}]}], \"data\": {\"name\": \"data-028d7d23e63572d7dd83f70e230eb0a1\"}, \"$schema\": \"https://vega.github.io/schema/vega-lite/v4.17.0.json\", \"datasets\": {\"data-028d7d23e63572d7dd83f70e230eb0a1\": [{\"time\": 0, \"variable\": \"level_x_0\", \"mean\": 0.09025659293286604, \"std\": 0.3783442783271548}, {\"time\": 1, \"variable\": \"level_x_0\", \"mean\": 1.0148717518352897, \"std\": 0.36337751145119584}, {\"time\": 2, \"variable\": \"level_x_0\", \"mean\": 2.018021293049617, \"std\": 0.3654325523769347}, {\"time\": 3, \"variable\": \"level_x_0\", \"mean\": 2.7161410047747157, \"std\": 0.36649231328364734}, {\"time\": 4, \"variable\": \"level_x_0\", \"mean\": 2.0381862467714313, \"std\": 0.36677514494900787}, {\"time\": 5, \"variable\": \"level_x_0\", \"mean\": 1.1050269534874837, \"std\": 0.4182119465620155}], \"data-d32e61608ee83ebf513972a8fe497b31\": [{\"time\": 0, \"variable\": \"slope_x_0\", \"mean\": 0.6333942658489421, \"std\": 0.5692944885329597}, {\"time\": 1, \"variable\": \"slope_x_0\", \"mean\": 0.7414227465055917, \"std\": 0.5395556250566368}, {\"time\": 2, \"variable\": \"slope_x_0\", \"mean\": 0.46769148458443516, \"std\": 0.534295311388348}, {\"time\": 3, \"variable\": \"slope_x_0\", \"mean\": -0.24336546986092533, \"std\": 0.5423616163231968}, {\"time\": 4, \"variable\": \"slope_x_0\", \"mean\": -0.6574924199366793, \"std\": 0.6226356202774561}, {\"time\": 5, \"variable\": \"slope_x_0\", \"mean\": -0.7161864371366489, \"std\": 0.9430880363205013}]}}, {\"mode\": \"vega-lite\"});\n",
       "</script>"
      ],
      "text/plain": [
       "alt.VConcatChart(...)"
      ]
     },
     "execution_count": null,
     "metadata": {},
     "output_type": "execute_result"
    }
   ],
   "source": [
    "ls.plot_state()"
   ]
  },
  {
   "cell_type": "markdown",
   "id": "a62027a8-b85f-4ef5-ac31-4a37fabce49f",
   "metadata": {},
   "source": [
    "## Export "
   ]
  },
  {
   "cell_type": "code",
   "execution_count": null,
   "id": "be47bac6-1bac-4b5d-a880-7ddfe17cca68",
   "metadata": {},
   "outputs": [],
   "source": [
    "#| hide\n",
    "from nbdev import nbdev_export\n",
    "nbdev_export()"
   ]
  }
 ],
 "metadata": {
  "kernelspec": {
   "display_name": "data_science",
   "language": "python",
   "name": "data_science"
  },
  "widgets": {
   "application/vnd.jupyter.widget-state+json": {
    "state": {},
    "version_major": 2,
    "version_minor": 0
   }
  }
 },
 "nbformat": 4,
 "nbformat_minor": 5
}
