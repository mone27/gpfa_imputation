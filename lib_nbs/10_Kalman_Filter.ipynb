{
 "cells": [
  {
   "cell_type": "markdown",
   "id": "22e19739-7ce6-4689-8f05-5391807270f2",
   "metadata": {},
   "source": [
    "# Kalman Filter\n",
    "> Implementation of Kalman filters using pytorch and parameter optimizations with gradient descend"
   ]
  },
  {
   "cell_type": "code",
   "execution_count": null,
   "id": "33b5e640-1b40-4822-8912-f6aef392b22f",
   "metadata": {},
   "outputs": [],
   "source": [
    "#| hide\n",
    "%load_ext autoreload\n",
    "%autoreload 2"
   ]
  },
  {
   "cell_type": "code",
   "execution_count": null,
   "id": "378ab6cd-754e-4199-a102-c7a3109c6c78",
   "metadata": {},
   "outputs": [],
   "source": [
    "#| hide\n",
    "#| default_exp kalman.filter"
   ]
  },
  {
   "cell_type": "code",
   "execution_count": null,
   "id": "c89a8e7f-95e3-4c02-9716-948d5e0dcfca",
   "metadata": {},
   "outputs": [],
   "source": [
    "#| export\n",
    "from fastcore.test import *\n",
    "from fastcore.basics import *\n",
    "from meteo_imp.utils import *\n",
    "from meteo_imp.gaussian import *\n",
    "from typing import *\n",
    "from functools import partial\n",
    "\n",
    "import numpy as np\n",
    "import pandas as pd\n",
    "import torch\n",
    "from torch import Tensor\n",
    "from torch.distributions import MultivariateNormal"
   ]
  },
  {
   "cell_type": "markdown",
   "id": "ce900cd1-288d-4215-b317-d815f2850215",
   "metadata": {},
   "source": [
    "## Introduction\n",
    "\n",
    "The models uses a latent state variable $x$ that is modelled over time, to impute gaps in $y$\n",
    "\n",
    "The assumption of the model is that the state variable at time $x_t$ depends only on the last state $x_{t-1}$ and not on the previous states.\n",
    "\n",
    "### Equations\n",
    "\n",
    "The equations of the model are:\n",
    "\n",
    "$$\\begin{align} p(x_t | x_{t-1}) & = \\mathcal{N}(Ax_{t-1} + b, Q) \\\\\n",
    "p(y_t | x_t) & = \\mathcal{N}(Hx_t + d, R) \\end{align}$$\n",
    "\n",
    "\n",
    "where:\n",
    "\n",
    "- $A$ is the `A`\n",
    "- $b$ is the `bset`\n",
    "- $Q$ is the `Q`\n",
    "- $H$ is the `obs_trans` \n",
    "- $d$ is the `d`\n",
    "- $R$ is the `R`\n",
    "\n",
    "in addition the model has also the parameters of the initial state that are used to initialize the filter:\n",
    "\n",
    "- `m0`\n",
    "- `P0`\n",
    "\n",
    "The Kalman filter has 3 steps:\n",
    "\n",
    "- filter (updating the state at time t with observations till time t-1)\n",
    "- update (update the state at time t using the observation at time t)\n",
    "- smooth (update the state using the observations at time t+1)\n",
    "\n",
    "In case of missing data the update step is skipped.\n",
    "\n",
    "After smoothing the missing data at time t ($y_t$) can be imputed from the state ($x_t$) using this formula:\n",
    "$$p(y_t|x_t) = \\mathcal{N}(Hx_t + d, R + HP^s_tH^T)$$"
   ]
  },
  {
   "cell_type": "markdown",
   "id": "6cab259c-2315-4019-bb1e-61f3b1504bd5",
   "metadata": {},
   "source": [
    "The Kalman Filter is an algorithm designed to estimate $P(x_t | y_{0:t})$.  As all state transitions and obss are linear with Gaussian distributed noise, these distributions can be represented exactly as Gaussian distributions with mean `ms[t]` and covs `Ps[t]`.\n",
    "Similarly, the Kalman Smoother is an algorithm designed to estimate $P(x_t | y_{0:t-1})$\n",
    "\n"
   ]
  },
  {
   "cell_type": "markdown",
   "id": "68d33ff3-5e3e-40ad-b21c-71d2358a7d7b",
   "metadata": {},
   "source": [
    "# Kalman Filter Base"
   ]
  },
  {
   "cell_type": "markdown",
   "id": "a6f10e3e-8852-4c06-b4fc-8fbbfcd0644b",
   "metadata": {},
   "source": [
    "### Utils"
   ]
  },
  {
   "cell_type": "code",
   "execution_count": null,
   "id": "cc631604-4ada-4bde-9a09-5cfdffba7d61",
   "metadata": {},
   "outputs": [],
   "source": [
    "#| export\n",
    "def _add_batch_dim(x):\n",
    "    \"\"\"make x 3 dimensional by adding empty dims in the correct place\"\"\"\n",
    "    if x.dim() == 1: return x.unsqueeze(0).unsqueeze(-1)\n",
    "    elif x.dim() == 2: return x.unsqueeze(0)\n",
    "    else: return x"
   ]
  },
  {
   "cell_type": "code",
   "execution_count": null,
   "id": "0a5c6909-1e71-4ae0-9b83-b73aae350b97",
   "metadata": {},
   "outputs": [],
   "source": [
    "#| export\n",
    "def _add_batch_dims_iter(*xs):\n",
    "    \"\"\"vectorize `add_batch_dim`\"\"\"\n",
    "    return [_add_batch_dim(x) for x in xs]"
   ]
  },
  {
   "cell_type": "code",
   "execution_count": null,
   "id": "c95101b4-39c7-4c7f-ba9e-ee02bbf3a67f",
   "metadata": {},
   "outputs": [
    {
     "data": {
      "text/html": [
       "<div style=\"display: flex; column-gap: 20px; flex-wrap: wrap;\" class='table table-striped table-sm'> <div><p style='font-size: 1.2rem;'>#0</p> <pre>tensor([[[1.],\n",
       "         [1.]]])\n",
       "</pre> </div><div><p style='font-size: 1.2rem;'>#1</p> <pre>tensor([[[1., 1.],\n",
       "         [1., 1.]]])\n",
       "</pre> </div><div><p style='font-size: 1.2rem;'>#2</p> <pre>tensor([[[1., 1.],\n",
       "         [1., 1.]],\n",
       "\n",
       "        [[1., 1.],\n",
       "         [1., 1.]]])\n",
       "</pre> </div></div>"
      ],
      "text/plain": [
       "<IPython.core.display.HTML object>"
      ]
     },
     "metadata": {},
     "output_type": "display_data"
    }
   ],
   "source": [
    "show_as_row(_add_batch_dim(torch.ones(2)), _add_batch_dim(torch.ones(2,2)), _add_batch_dim(torch.ones(2,2,2)))"
   ]
  },
  {
   "cell_type": "code",
   "execution_count": null,
   "id": "3b46bd82-9e0f-4ba4-850e-67f111f2fe36",
   "metadata": {},
   "outputs": [
    {
     "data": {
      "text/html": [
       "<div style=\"display: flex; column-gap: 20px; flex-wrap: wrap;\" class='table table-striped table-sm'> <div><p style='font-size: 1.2rem;'>#0</p> <pre>torch.Size([1, 2, 1])\n",
       "</pre> </div><div><p style='font-size: 1.2rem;'>#1</p> <pre>torch.Size([1, 2, 2])\n",
       "</pre> </div><div><p style='font-size: 1.2rem;'>#2</p> <pre>torch.Size([2, 2, 2])\n",
       "</pre> </div></div>"
      ],
      "text/plain": [
       "<IPython.core.display.HTML object>"
      ]
     },
     "metadata": {},
     "output_type": "display_data"
    }
   ],
   "source": [
    "show_as_row(_add_batch_dim(torch.ones(2)).shape, _add_batch_dim(torch.ones(2,2)).shape, _add_batch_dim(torch.ones(2,2,2)).shape)"
   ]
  },
  {
   "cell_type": "code",
   "execution_count": null,
   "id": "9b512cf8-6893-4c84-8b97-43718efbd1e9",
   "metadata": {},
   "outputs": [],
   "source": [
    "#| export\n",
    "def _check_same_size(\n",
    "    os: Sequence[tuple[Tensor, int]], # sequences of tensors and the dimension to check\n",
    "    size=None, # Optional size of the common dimension\n",
    ")-> int: # size of common dimension\n",
    "    \"\"\"Check that all args have the same size at the given dimension, raise `ValueError` if not \"\"\"\n",
    "    size = ifnone(size, os[0][0].shape[os[0][1]])\n",
    "    if not all([size == x.shape[dim] for x, dim in os]):\n",
    "        raise ValueError(\"All parameters must have the same size at the given dimension\")\n",
    "    return size"
   ]
  },
  {
   "cell_type": "markdown",
   "id": "c2368005-5b3d-422b-9bd2-54590ece4b39",
   "metadata": {},
   "source": [
    "## Kalman Filter Base"
   ]
  },
  {
   "cell_type": "code",
   "execution_count": null,
   "id": "4768434a-a51c-48a3-8813-afd59949ef51",
   "metadata": {},
   "outputs": [],
   "source": [
    "#| export\n",
    "class KalmanFilterBase(torch.nn.Module):\n",
    "    \"\"\"Base class for handling Kalman Filter implementation in PyTorch\"\"\"\n",
    "    \n",
    "    params_constr = {\n",
    "        #name constraint\n",
    "        'A':  None        ,\n",
    "        'b':  None        ,\n",
    "        'Q':  PosDef(),\n",
    "        'B':  None        ,\n",
    "        'H':  None        ,\n",
    "        'd':  None        ,\n",
    "        'R':  PosDef(),\n",
    "        'm0': None       ,\n",
    "        'P0': PosDef()   ,\n",
    "        }\n",
    "    \n",
    "    def __init__(self,\n",
    "            A: Tensor,                             # [n_dim_state,n_dim_state] $A$, state transition matrix \n",
    "            H: Tensor,                             # [n_dim_obs, n_dim_state] $H$, observation matrix\n",
    "            B: Tensor,                             # [n_dim_state, n_dim_contr] $B$ control matrix\n",
    "            Q: Tensor,                             # [n_dim_state, n_dim_state] $Q$, state trans covariance matrix\n",
    "            R: Tensor,                             # [n_dim_obs, n_dim_obs] $R$, observations covariance matrix\n",
    "            b: Tensor,                             # [n_dim_state] $b$, state transition offset\n",
    "            d: Tensor,                             # [n_dim_obs] $d$, observations offset\n",
    "            m0: Tensor,                            # [n_dim_state] $m_0$\n",
    "            P0: Tensor,                            # [n_dim_state, n_dim_state] $P_0$\n",
    "    \n",
    "            n_dim_state: int = None,               # Number of dimensions for state - default infered from parameters\n",
    "            n_dim_obs: int = None,                 # Number of dimensions for observations - default  infered from parameters\n",
    "            n_dim_contr: int = None,               # Number of dimensions for control - default infered from parameters\n",
    "            \n",
    "            var_names: Iterable[str]|None = None,  # Names of variables for printing \n",
    "            contr_names: Iterable[str]|None = None,# Names of control variables for printing\n",
    "    \n",
    "            cov_checker: CheckPosDef|None = None,  # Check covariance at every step\n",
    "            use_conditional: bool = False,         # Use conditional distribution for gaps that don't have all variables missing\n",
    "            use_control: bool = True,              # Use the control in the filter\n",
    "            use_smooth: bool = True,               # Use smoother for predictions (otherwise is filter only)\n",
    "            pred_only_gap: bool = False,           # it True predictions are only for the gap\n",
    "            pred_std: bool = False,                # return only stds and not covariances\n",
    "                ):\n",
    "        \n",
    "        super().__init__()\n",
    "        store_attr(\"var_names, contr_names, use_conditional, use_control, use_smooth, cov_checker, pred_only_gap, pred_std\")\n",
    "        \n",
    "        A, H, B, Q, R, b, d, m0, P0 = _add_batch_dims_iter(A, H, B, Q, R, b, d, m0, P0)\n",
    "        \n",
    "        self._check_params(A, H, B, Q, R, b, d, m0, P0, n_dim_state, n_dim_obs, n_dim_contr)\n",
    "        self._init_params(A=A, H=H, B=B, Q=Q, R=R, b=b, d=d, m0=m0, P0=P0)\n",
    "\n",
    "    \n",
    "    def _check_params(self, A, H, B, Q, R, b, d, m0, P0, n_dim_state, n_dim_obs, n_dim_contr):\n",
    "        \"\"\"Checks that the parameters are dimensions are consistent and sets n_dim\"\"\"\n",
    "        self.n_dim_state = _check_same_size(\n",
    "            [(A,  -2),\n",
    "             (b,  -2),\n",
    "             (Q,  -2),\n",
    "             (m0, -2),\n",
    "             (P0, -2),\n",
    "             (H,  -1)],\n",
    "            n_dim_state\n",
    "        )\n",
    "        self.n_dim_obs = _check_same_size(\n",
    "            [(H, -2),\n",
    "             (d, -2),\n",
    "             (R, -2)],\n",
    "            n_dim_obs\n",
    "        )\n",
    "        \n",
    "        self.n_dim_contr = _check_same_size([(B, -1)], n_dim_contr)\n",
    "        \n",
    "        \n",
    "    def _init_params(self, **params):\n",
    "        for name, value in params.items():\n",
    "            if (constraint := self.params_constr[name]) is not None:\n",
    "                name, value = self._init_constraint(name, value, constraint)\n",
    "            self._init_param(name, value, train=True)    \n",
    "    \n",
    "    def _init_param(self, param_name, value, train):\n",
    "        self.register_parameter(param_name, torch.nn.Parameter(value, requires_grad=train))\n",
    "    \n",
    "    ### === Constraints utils\n",
    "    def _init_constraint(self, param_name, value, constraint):\n",
    "        name = f\"{param_name}_raw\"\n",
    "        value = constraint.inverse_transform(value)\n",
    "        setattr(self, param_name + \"_constraint\", constraint)\n",
    "        return name, value\n",
    "    \n",
    "    def _get_constraint(self, param_name):\n",
    "        \"\"\"get the original value\"\"\"\n",
    "        constraint = getattr(self, param_name + \"_constraint\")\n",
    "        raw_value = getattr(self, f\"{param_name}_raw\")\n",
    "        return constraint.transform(raw_value)\n",
    "    \n",
    "    def _get_constraint_cho_fact(self, param_name):\n",
    "        \"\"\"get the original value\"\"\"\n",
    "        constraint = getattr(self, param_name + \"_constraint\")\n",
    "        raw_value = getattr(self, f\"{param_name}_raw\")\n",
    "        return constraint.transform_cho_factor(raw_value)\n",
    "\n",
    "    def _set_constraint(self, value, param_name, train=True):\n",
    "            \"\"\"set the transformed value\"\"\"\n",
    "            constraint = getattr(self, param_name + \"_constraint\")\n",
    "            raw_value = constraint.inverse_transform(value)\n",
    "            self._init_param(f\"{param_name}_raw\", raw_value, train)\n",
    "            \n",
    "               \n",
    "    @property\n",
    "    def Q_C(self): return self._get_constraint_cho_fact('Q')\n",
    "    @property\n",
    "    def Q(self): return self._get_constraint('Q')\n",
    "    @Q.setter\n",
    "    def Q(self, value): self._set_constraint(value, 'Q')\n",
    "\n",
    "    @property\n",
    "    def R_C(self): return self._get_constraint_cho_fact('R')\n",
    "    @property\n",
    "    def R(self): return self._get_constraint('R')\n",
    "    @R.setter\n",
    "    def R(self, value): self._set_constraint(value, 'R')\n",
    "    \n",
    "    @property\n",
    "    def P0_C(self): return self._get_constraint_cho_fact('P0')\n",
    "    @property\n",
    "    def P0(self): return self._get_constraint('P0')\n",
    "    @P0.setter\n",
    "    def P0(self, value): self._set_constraint(value, 'P0')\n",
    "\n",
    "\n",
    "    ### === Utility Func    \n",
    "    def _parse_obs(self, obs, mask, control):\n",
    "        \"\"\"maybe get mask from `nan`\"\"\"\n",
    "        # if mask is None: mask = ~torch.isnan(obs)\n",
    "        return _add_batch_dim(obs).unsqueeze(-1), _add_batch_dim(mask), _add_batch_dim(control).unsqueeze(-1)\n",
    "    def __repr__(self):\n",
    "        return f\"\"\"Kalman Filter\n",
    "        N dim obs: {self.n_dim_obs},\n",
    "        N dim state: {self.n_dim_state},\n",
    "        N dim contr: {self.n_dim_contr}\"\"\""
   ]
  },
  {
   "cell_type": "markdown",
   "id": "29f90bd9-3d5e-42b7-8730-8e08f40309c6",
   "metadata": {},
   "source": [
    "### Constructors"
   ]
  },
  {
   "cell_type": "markdown",
   "id": "eb5af4ff-9ddb-4558-9751-4541c50a682a",
   "metadata": {},
   "source": [
    "Giving all the parameters manually to the `KalmanFilterBase` init method is not convenient, hence we are having some methods that help initize the class"
   ]
  },
  {
   "cell_type": "markdown",
   "id": "eeb4f841-91fe-4c82-b5d4-96eabf93b878",
   "metadata": {},
   "source": [
    "due to a bug in fastcore cannot subclass after creating class methods"
   ]
  },
  {
   "cell_type": "code",
   "execution_count": null,
   "id": "49f4962c-efed-4486-8c85-93c818a1650b",
   "metadata": {},
   "outputs": [],
   "source": [
    "#| export\n",
    "class KalmanFilter(KalmanFilterBase):\n",
    "    pass"
   ]
  },
  {
   "cell_type": "code",
   "execution_count": null,
   "id": "7528b5e2-94e9-4f01-9778-f286539d7c98",
   "metadata": {},
   "outputs": [],
   "source": [
    "#| export\n",
    "class KalmanFilterSR(KalmanFilterBase):\n",
    "    pass"
   ]
  },
  {
   "cell_type": "code",
   "execution_count": null,
   "id": "117f3aa0-8311-4587-96dc-a2f9fc42d8cc",
   "metadata": {},
   "outputs": [],
   "source": [
    "#| export\n",
    "filter_classes = [KalmanFilterBase, KalmanFilter, KalmanFilterSR]"
   ]
  },
  {
   "cell_type": "markdown",
   "id": "b2aaf4c0-f7ad-4456-84dd-0e9350dcfe49",
   "metadata": {},
   "source": [
    "#### Random parameters"
   ]
  },
  {
   "cell_type": "code",
   "execution_count": null,
   "id": "8d0ca6d4-7547-4557-bc83-4f70500a78e8",
   "metadata": {},
   "outputs": [],
   "source": [
    "#| export\n",
    "#| include: false\n",
    "@patch_to(filter_classes, cls_method=True)\n",
    "def init_random(cls,\n",
    "                n_dim_obs,\n",
    "                n_dim_state,\n",
    "                n_dim_contr,\n",
    "                dtype=torch.float64,\n",
    "                seed:int|None = 27,\n",
    "                **kwargs):\n",
    "    \"\"\"kalman filter with random parameters\"\"\"\n",
    "    if seed is not None: torch.manual_seed(seed)\n",
    "    return cls(\n",
    "        A  = torch.rand(n_dim_state, n_dim_state, dtype=dtype),\n",
    "        b  = torch.rand(n_dim_state, dtype=dtype),        \n",
    "        Q  = to_posdef(torch.rand(n_dim_state, n_dim_state, dtype=dtype)),        \n",
    "        B  = torch.rand(n_dim_state, n_dim_contr, dtype=dtype),\n",
    "        H  = torch.rand(n_dim_obs, n_dim_state, dtype=dtype),\n",
    "        d  = torch.rand(n_dim_obs, dtype=dtype),          \n",
    "        R  = to_posdef(torch.rand(n_dim_obs, n_dim_obs, dtype=dtype)),            \n",
    "        m0 = torch.rand(n_dim_state, dtype=dtype),        \n",
    "        P0 = to_posdef(torch.rand(n_dim_state, n_dim_state, dtype=dtype)),\n",
    "        **kwargs) \n",
    "        "
   ]
  },
  {
   "cell_type": "code",
   "execution_count": null,
   "id": "86fe692e-2586-4c0f-a4b0-d6009d3a14c3",
   "metadata": {},
   "outputs": [
    {
     "data": {
      "text/plain": [
       "Kalman Filter\n",
       "        N dim obs: 3,\n",
       "        N dim state: 4,\n",
       "        N dim contr: 3"
      ]
     },
     "execution_count": null,
     "metadata": {},
     "output_type": "execute_result"
    }
   ],
   "source": [
    "kB = KalmanFilterBase.init_random(3,4, 3, dtype=torch.float64)\n",
    "kB"
   ]
  },
  {
   "cell_type": "code",
   "execution_count": null,
   "id": "20dd791e-fb04-4608-99d3-aac96b09b5ba",
   "metadata": {},
   "outputs": [
    {
     "data": {
      "text/plain": [
       "tensor([[[1.5725, 0.3829, 0.0843, 0.3637],\n",
       "         [0.3829, 1.4430, 0.3358, 1.1988],\n",
       "         [0.0843, 0.3358, 1.7816, 0.7411],\n",
       "         [0.3637, 1.1988, 0.7411, 1.6773]]], dtype=torch.float64,\n",
       "       grad_fn=<UnsafeViewBackward0>)"
      ]
     },
     "execution_count": null,
     "metadata": {},
     "output_type": "execute_result"
    }
   ],
   "source": [
    "kB.Q"
   ]
  },
  {
   "cell_type": "code",
   "execution_count": null,
   "id": "fcfe1062-e3ed-4c11-bc9b-54519155ccd2",
   "metadata": {},
   "outputs": [
    {
     "data": {
      "text/plain": [
       "tensor([[[1.2540, 0.0000, 0.0000, 0.0000],\n",
       "         [0.3053, 1.1618, 0.0000, 0.0000],\n",
       "         [0.0672, 0.2714, 1.3052, 0.0000],\n",
       "         [0.2901, 0.9556, 0.3542, 0.7446]]], dtype=torch.float64,\n",
       "       grad_fn=<DiagonalScatterBackward0>)"
      ]
     },
     "execution_count": null,
     "metadata": {},
     "output_type": "execute_result"
    }
   ],
   "source": [
    "kB.Q_C"
   ]
  },
  {
   "cell_type": "code",
   "execution_count": null,
   "id": "7a2f8494-5a3f-476e-915d-6d24426ae566",
   "metadata": {},
   "outputs": [],
   "source": [
    "test_close(kB.Q_C @ kB.Q_C.mT, kB.Q, eps=2e-5)"
   ]
  },
  {
   "cell_type": "code",
   "execution_count": null,
   "id": "1a04324e-6a7f-4744-8113-a2d61c798397",
   "metadata": {},
   "outputs": [],
   "source": [
    "kB.P0 = to_posdef(torch.rand(1,3,3))"
   ]
  },
  {
   "cell_type": "markdown",
   "id": "93f416ff-a54e-4b29-99f7-fc04c3500285",
   "metadata": {},
   "source": [
    "check that assigment works :)"
   ]
  },
  {
   "cell_type": "code",
   "execution_count": null,
   "id": "d6aff8c3-a5bb-4911-a792-b28e54ff88ab",
   "metadata": {},
   "outputs": [],
   "source": [
    "kB.P0 = to_posdef(torch.rand(4, 4, dtype=torch.float64))"
   ]
  },
  {
   "cell_type": "code",
   "execution_count": null,
   "id": "d5a5e4bf-3989-4986-8718-6864db9f4cbe",
   "metadata": {},
   "outputs": [
    {
     "data": {
      "text/plain": [
       "tensor([[0.9349, 0.0000, 0.0000, 0.0000],\n",
       "        [0.3928, 1.0748, 0.0000, 0.0000],\n",
       "        [0.7406, 0.7533, 0.8326, 0.0000],\n",
       "        [0.5903, 0.0391, 0.8217, 0.9638]], dtype=torch.float64,\n",
       "       grad_fn=<DiagonalScatterBackward0>)"
      ]
     },
     "execution_count": null,
     "metadata": {},
     "output_type": "execute_result"
    }
   ],
   "source": [
    "kB.P0_C"
   ]
  },
  {
   "cell_type": "code",
   "execution_count": null,
   "id": "252ddcba-69b0-467e-a9ff-fe1c7042dcfb",
   "metadata": {},
   "outputs": [
    {
     "data": {
      "text/plain": [
       "Kalman Filter\n",
       "        N dim obs: 3,\n",
       "        N dim state: 4,\n",
       "        N dim contr: 3"
      ]
     },
     "execution_count": null,
     "metadata": {},
     "output_type": "execute_result"
    }
   ],
   "source": [
    "kB = KalmanFilterBase.init_random(3,4, 3, dtype=torch.float64)\n",
    "kB"
   ]
  },
  {
   "cell_type": "code",
   "execution_count": null,
   "id": "3aedc286-3762-4382-96b9-7a3105170ef5",
   "metadata": {},
   "outputs": [
    {
     "data": {
      "text/plain": [
       "[('A',\n",
       "  Parameter containing:\n",
       "  tensor([[[0.1751, 0.5375, 0.7676, 0.7450],\n",
       "           [0.1204, 0.4777, 0.5823, 0.3786],\n",
       "           [0.8484, 0.2317, 0.3969, 0.7088],\n",
       "           [0.0270, 0.6178, 0.6097, 0.9128]]], dtype=torch.float64,\n",
       "         requires_grad=True)),\n",
       " ('H',\n",
       "  Parameter containing:\n",
       "  tensor([[[0.4984, 0.1597, 0.4458, 0.7349],\n",
       "           [0.1070, 0.9531, 0.1942, 0.6683],\n",
       "           [0.9186, 0.7123, 0.1806, 0.5045]]], dtype=torch.float64,\n",
       "         requires_grad=True)),\n",
       " ('B',\n",
       "  Parameter containing:\n",
       "  tensor([[[0.2827, 0.1138, 0.9378],\n",
       "           [0.5594, 0.9364, 0.5136],\n",
       "           [0.8592, 0.7647, 0.5183],\n",
       "           [0.2376, 0.5618, 0.5096]]], dtype=torch.float64, requires_grad=True)),\n",
       " ('Q_raw',\n",
       "  Parameter containing:\n",
       "  tensor([[[0.4590, 0.0000, 0.0000, 0.0000],\n",
       "           [0.5348, 0.5296, 0.0000, 0.0000],\n",
       "           [0.0025, 0.0749, 0.4603, 0.0000],\n",
       "           [0.0588, 0.5416, 0.9309, 0.5859]]], dtype=torch.float64,\n",
       "         requires_grad=True)),\n",
       " ('R_raw',\n",
       "  Parameter containing:\n",
       "  tensor([[[0.1393, 0.0000, 0.0000],\n",
       "           [0.0249, 0.7613, 0.0000],\n",
       "           [0.7829, 0.4311, 0.9199]]], dtype=torch.float64, requires_grad=True)),\n",
       " ('b',\n",
       "  Parameter containing:\n",
       "  tensor([[[0.4661],\n",
       "           [0.3918],\n",
       "           [0.0571],\n",
       "           [0.9529]]], dtype=torch.float64, requires_grad=True)),\n",
       " ('d',\n",
       "  Parameter containing:\n",
       "  tensor([[[0.9334],\n",
       "           [0.5645],\n",
       "           [0.0695]]], dtype=torch.float64, requires_grad=True)),\n",
       " ('m0',\n",
       "  Parameter containing:\n",
       "  tensor([[[0.8234],\n",
       "           [0.3850],\n",
       "           [0.3380],\n",
       "           [0.4376]]], dtype=torch.float64, requires_grad=True)),\n",
       " ('P0_raw',\n",
       "  Parameter containing:\n",
       "  tensor([[[0.4467, 0.0000, 0.0000, 0.0000],\n",
       "           [0.4818, 0.9502, 0.0000, 0.0000],\n",
       "           [0.4770, 0.3478, 0.9812, 0.0000],\n",
       "           [0.2460, 0.9602, 0.6476, 0.2647]]], dtype=torch.float64,\n",
       "         requires_grad=True))]"
      ]
     },
     "execution_count": null,
     "metadata": {},
     "output_type": "execute_result"
    }
   ],
   "source": [
    "list(kB.named_parameters())"
   ]
  },
  {
   "cell_type": "code",
   "execution_count": null,
   "id": "2cd8e103-c832-496f-9df5-e6927f02b303",
   "metadata": {},
   "outputs": [
    {
     "data": {
      "text/plain": [
       "OrderedDict([('A',\n",
       "              tensor([[[0.1751, 0.5375, 0.7676, 0.7450],\n",
       "                       [0.1204, 0.4777, 0.5823, 0.3786],\n",
       "                       [0.8484, 0.2317, 0.3969, 0.7088],\n",
       "                       [0.0270, 0.6178, 0.6097, 0.9128]]], dtype=torch.float64)),\n",
       "             ('H',\n",
       "              tensor([[[0.4984, 0.1597, 0.4458, 0.7349],\n",
       "                       [0.1070, 0.9531, 0.1942, 0.6683],\n",
       "                       [0.9186, 0.7123, 0.1806, 0.5045]]], dtype=torch.float64)),\n",
       "             ('B',\n",
       "              tensor([[[0.2827, 0.1138, 0.9378],\n",
       "                       [0.5594, 0.9364, 0.5136],\n",
       "                       [0.8592, 0.7647, 0.5183],\n",
       "                       [0.2376, 0.5618, 0.5096]]], dtype=torch.float64)),\n",
       "             ('Q_raw',\n",
       "              tensor([[[0.4590, 0.0000, 0.0000, 0.0000],\n",
       "                       [0.5348, 0.5296, 0.0000, 0.0000],\n",
       "                       [0.0025, 0.0749, 0.4603, 0.0000],\n",
       "                       [0.0588, 0.5416, 0.9309, 0.5859]]], dtype=torch.float64)),\n",
       "             ('R_raw',\n",
       "              tensor([[[0.1393, 0.0000, 0.0000],\n",
       "                       [0.0249, 0.7613, 0.0000],\n",
       "                       [0.7829, 0.4311, 0.9199]]], dtype=torch.float64)),\n",
       "             ('b',\n",
       "              tensor([[[0.4661],\n",
       "                       [0.3918],\n",
       "                       [0.0571],\n",
       "                       [0.9529]]], dtype=torch.float64)),\n",
       "             ('d',\n",
       "              tensor([[[0.9334],\n",
       "                       [0.5645],\n",
       "                       [0.0695]]], dtype=torch.float64)),\n",
       "             ('m0',\n",
       "              tensor([[[0.8234],\n",
       "                       [0.3850],\n",
       "                       [0.3380],\n",
       "                       [0.4376]]], dtype=torch.float64)),\n",
       "             ('P0_raw',\n",
       "              tensor([[[0.4467, 0.0000, 0.0000, 0.0000],\n",
       "                       [0.4818, 0.9502, 0.0000, 0.0000],\n",
       "                       [0.4770, 0.3478, 0.9812, 0.0000],\n",
       "                       [0.2460, 0.9602, 0.6476, 0.2647]]], dtype=torch.float64))])"
      ]
     },
     "execution_count": null,
     "metadata": {},
     "output_type": "execute_result"
    }
   ],
   "source": [
    "kB.state_dict()"
   ]
  },
  {
   "cell_type": "markdown",
   "id": "65b9d440-03db-4f0a-8520-dc7b4967a276",
   "metadata": {},
   "source": [
    "#### From filter"
   ]
  },
  {
   "cell_type": "code",
   "execution_count": null,
   "id": "33df5439-2cfd-4451-817b-db36b496a92c",
   "metadata": {},
   "outputs": [],
   "source": [
    "#| export\n",
    "@patch(cls_method=True)\n",
    "def init_from(cls: KalmanFilter|KalmanFilterBase|KalmanFilterSR, o: filter_classes # Other filter\n",
    "             ):\n",
    "    \"\"\"Initialize Filter by copying all parameters from another one\"\"\"\n",
    "    return cls(o.A, o.H, o.B, o.Q, o.R, o.b, o.d, o.m0, o.P0,\n",
    "               o.n_dim_state, o.n_dim_obs, o.n_dim_contr,\n",
    "               o.var_names, o.contr_names, o.cov_checker,\n",
    "               o.use_conditional, o.use_control, o.use_smooth, o.pred_only_gap, o.pred_std)"
   ]
  },
  {
   "cell_type": "code",
   "execution_count": null,
   "id": "87460dcb-84e1-43f1-830a-1c7a090bd97a",
   "metadata": {},
   "outputs": [],
   "source": [
    "k1 = KalmanFilter.init_random(3,4,3)\n",
    "k2 = KalmanFilterSR.init_from(k1)\n",
    "for p1, p2 in zip(k1.parameters(), k2.parameters()):\n",
    "    test_close(p1,p2, eps=1e-3) #noise added by contraints\n",
    "                "
   ]
  },
  {
   "cell_type": "markdown",
   "id": "aa3e33bd-a4ab-495e-82b8-bd8e5dbd1dc9",
   "metadata": {},
   "source": [
    "### Get Info"
   ]
  },
  {
   "cell_type": "code",
   "execution_count": null,
   "id": "fcedaf90-f76f-4dfa-8ad3-ec0bab7d327c",
   "metadata": {},
   "outputs": [],
   "source": [
    "#| export\n",
    "@patch\n",
    "def get_info(self: KalmanFilterBase):\n",
    "    out = {}\n",
    "    var_names = ifnone(self.var_names, [f\"y_{i}\" for i in range(self.n_dim_obs)])\n",
    "    latent_names = [f\"x_{i}\" for i in range(self.n_dim_state)]\n",
    "    contr_names = ifnone(self.contr_names, [f\"c_{i}\" for i in range(self.n_dim_contr)])\n",
    "    out['$A$'] = array2df(self.A[0] , latent_names, latent_names, 'state')\n",
    "    out['$Q$']    = array2df(self.Q[0] , latent_names, latent_names, 'state')\n",
    "    out['$b$']        = array2df(self.b[0] , latent_names, ['offset'],   'state')\n",
    "    out['$H$']   = array2df(self.H[0] , var_names,    latent_names, 'variable')\n",
    "    out['$R$']      = array2df(self.R[0] , var_names,    var_names,    'variable')\n",
    "    out['$d$']          = array2df(self.d[0] , var_names,    ['offset'],   'variable')\n",
    "    out['$B$'] = array2df(self.B[0] , latent_names, contr_names,  'state')\n",
    "    out['$m_0$']  = array2df(self.m0[0], latent_names, ['mean'],     'state')\n",
    "    out['$P_0$']   = array2df(self.P0[0], latent_names, latent_names, 'state')\n",
    "\n",
    "    return out"
   ]
  },
  {
   "cell_type": "code",
   "execution_count": null,
   "id": "bce86fa8-b17d-4004-a8d8-db1d5e50fff7",
   "metadata": {},
   "outputs": [],
   "source": [
    "#| export\n",
    "@patch\n",
    "def _repr_html_(self: filter_classes):\n",
    "    title = f\"Kalman Filter ({self.n_dim_obs} obs, {self.n_dim_state} state, {self.n_dim_contr} contr)\"\n",
    "    return row_dfs(self.get_info(), title , hide_idx=True)"
   ]
  },
  {
   "cell_type": "code",
   "execution_count": null,
   "id": "b2a5b8c2-a939-4b50-a3c4-508516be076d",
   "metadata": {},
   "outputs": [
    {
     "data": {
      "text/html": [
       "<p style='font-size: 1.5rem; font-decoration: bold'>Kalman Filter (3 obs, 4 state, 3 contr)<p><div style=\"display: flex; column-gap: 20px; flex-wrap: wrap;\" class='table table-striped table-sm'> <div> <p style='font-size: 1.3rem;'>$A$</p> <style type=\"text/css\">\n",
       "</style>\n",
       "<table id=\"T_26020\">\n",
       "  <thead>\n",
       "    <tr>\n",
       "      <th id=\"T_26020_level0_col0\" class=\"col_heading level0 col0\" >state</th>\n",
       "      <th id=\"T_26020_level0_col1\" class=\"col_heading level0 col1\" >x_0</th>\n",
       "      <th id=\"T_26020_level0_col2\" class=\"col_heading level0 col2\" >x_1</th>\n",
       "      <th id=\"T_26020_level0_col3\" class=\"col_heading level0 col3\" >x_2</th>\n",
       "      <th id=\"T_26020_level0_col4\" class=\"col_heading level0 col4\" >x_3</th>\n",
       "    </tr>\n",
       "  </thead>\n",
       "  <tbody>\n",
       "    <tr>\n",
       "      <td id=\"T_26020_row0_col0\" class=\"data row0 col0\" >x_0</td>\n",
       "      <td id=\"T_26020_row0_col1\" class=\"data row0 col1\" >0.1751</td>\n",
       "      <td id=\"T_26020_row0_col2\" class=\"data row0 col2\" >0.5375</td>\n",
       "      <td id=\"T_26020_row0_col3\" class=\"data row0 col3\" >0.7676</td>\n",
       "      <td id=\"T_26020_row0_col4\" class=\"data row0 col4\" >0.7450</td>\n",
       "    </tr>\n",
       "    <tr>\n",
       "      <td id=\"T_26020_row1_col0\" class=\"data row1 col0\" >x_1</td>\n",
       "      <td id=\"T_26020_row1_col1\" class=\"data row1 col1\" >0.1204</td>\n",
       "      <td id=\"T_26020_row1_col2\" class=\"data row1 col2\" >0.4777</td>\n",
       "      <td id=\"T_26020_row1_col3\" class=\"data row1 col3\" >0.5823</td>\n",
       "      <td id=\"T_26020_row1_col4\" class=\"data row1 col4\" >0.3786</td>\n",
       "    </tr>\n",
       "    <tr>\n",
       "      <td id=\"T_26020_row2_col0\" class=\"data row2 col0\" >x_2</td>\n",
       "      <td id=\"T_26020_row2_col1\" class=\"data row2 col1\" >0.8484</td>\n",
       "      <td id=\"T_26020_row2_col2\" class=\"data row2 col2\" >0.2317</td>\n",
       "      <td id=\"T_26020_row2_col3\" class=\"data row2 col3\" >0.3969</td>\n",
       "      <td id=\"T_26020_row2_col4\" class=\"data row2 col4\" >0.7088</td>\n",
       "    </tr>\n",
       "    <tr>\n",
       "      <td id=\"T_26020_row3_col0\" class=\"data row3 col0\" >x_3</td>\n",
       "      <td id=\"T_26020_row3_col1\" class=\"data row3 col1\" >0.0270</td>\n",
       "      <td id=\"T_26020_row3_col2\" class=\"data row3 col2\" >0.6178</td>\n",
       "      <td id=\"T_26020_row3_col3\" class=\"data row3 col3\" >0.6097</td>\n",
       "      <td id=\"T_26020_row3_col4\" class=\"data row3 col4\" >0.9128</td>\n",
       "    </tr>\n",
       "  </tbody>\n",
       "</table>\n",
       " </div><div> <p style='font-size: 1.3rem;'>$Q$</p> <style type=\"text/css\">\n",
       "</style>\n",
       "<table id=\"T_db001\">\n",
       "  <thead>\n",
       "    <tr>\n",
       "      <th id=\"T_db001_level0_col0\" class=\"col_heading level0 col0\" >state</th>\n",
       "      <th id=\"T_db001_level0_col1\" class=\"col_heading level0 col1\" >x_0</th>\n",
       "      <th id=\"T_db001_level0_col2\" class=\"col_heading level0 col2\" >x_1</th>\n",
       "      <th id=\"T_db001_level0_col3\" class=\"col_heading level0 col3\" >x_2</th>\n",
       "      <th id=\"T_db001_level0_col4\" class=\"col_heading level0 col4\" >x_3</th>\n",
       "    </tr>\n",
       "  </thead>\n",
       "  <tbody>\n",
       "    <tr>\n",
       "      <td id=\"T_db001_row0_col0\" class=\"data row0 col0\" >x_0</td>\n",
       "      <td id=\"T_db001_row0_col1\" class=\"data row0 col1\" >0.9002</td>\n",
       "      <td id=\"T_db001_row0_col2\" class=\"data row0 col2\" >0.5074</td>\n",
       "      <td id=\"T_db001_row0_col3\" class=\"data row0 col3\" >0.0024</td>\n",
       "      <td id=\"T_db001_row0_col4\" class=\"data row0 col4\" >0.0558</td>\n",
       "    </tr>\n",
       "    <tr>\n",
       "      <td id=\"T_db001_row1_col0\" class=\"data row1 col0\" >x_1</td>\n",
       "      <td id=\"T_db001_row1_col1\" class=\"data row1 col1\" >0.5074</td>\n",
       "      <td id=\"T_db001_row1_col2\" class=\"data row1 col2\" >1.2712</td>\n",
       "      <td id=\"T_db001_row1_col3\" class=\"data row1 col3\" >0.0756</td>\n",
       "      <td id=\"T_db001_row1_col4\" class=\"data row1 col4\" >0.5690</td>\n",
       "    </tr>\n",
       "    <tr>\n",
       "      <td id=\"T_db001_row2_col0\" class=\"data row2 col0\" >x_2</td>\n",
       "      <td id=\"T_db001_row2_col1\" class=\"data row2 col1\" >0.0024</td>\n",
       "      <td id=\"T_db001_row2_col2\" class=\"data row2 col2\" >0.0756</td>\n",
       "      <td id=\"T_db001_row2_col3\" class=\"data row2 col3\" >0.9072</td>\n",
       "      <td id=\"T_db001_row2_col4\" class=\"data row2 col4\" >0.9246</td>\n",
       "    </tr>\n",
       "    <tr>\n",
       "      <td id=\"T_db001_row3_col0\" class=\"data row3 col0\" >x_3</td>\n",
       "      <td id=\"T_db001_row3_col1\" class=\"data row3 col1\" >0.0558</td>\n",
       "      <td id=\"T_db001_row3_col2\" class=\"data row3 col2\" >0.5690</td>\n",
       "      <td id=\"T_db001_row3_col3\" class=\"data row3 col3\" >0.9246</td>\n",
       "      <td id=\"T_db001_row3_col4\" class=\"data row3 col4\" >2.2208</td>\n",
       "    </tr>\n",
       "  </tbody>\n",
       "</table>\n",
       " </div><div> <p style='font-size: 1.3rem;'>$b$</p> <style type=\"text/css\">\n",
       "</style>\n",
       "<table id=\"T_1d151\">\n",
       "  <thead>\n",
       "    <tr>\n",
       "      <th id=\"T_1d151_level0_col0\" class=\"col_heading level0 col0\" >state</th>\n",
       "      <th id=\"T_1d151_level0_col1\" class=\"col_heading level0 col1\" >offset</th>\n",
       "    </tr>\n",
       "  </thead>\n",
       "  <tbody>\n",
       "    <tr>\n",
       "      <td id=\"T_1d151_row0_col0\" class=\"data row0 col0\" >x_0</td>\n",
       "      <td id=\"T_1d151_row0_col1\" class=\"data row0 col1\" >0.4661</td>\n",
       "    </tr>\n",
       "    <tr>\n",
       "      <td id=\"T_1d151_row1_col0\" class=\"data row1 col0\" >x_1</td>\n",
       "      <td id=\"T_1d151_row1_col1\" class=\"data row1 col1\" >0.3918</td>\n",
       "    </tr>\n",
       "    <tr>\n",
       "      <td id=\"T_1d151_row2_col0\" class=\"data row2 col0\" >x_2</td>\n",
       "      <td id=\"T_1d151_row2_col1\" class=\"data row2 col1\" >0.0571</td>\n",
       "    </tr>\n",
       "    <tr>\n",
       "      <td id=\"T_1d151_row3_col0\" class=\"data row3 col0\" >x_3</td>\n",
       "      <td id=\"T_1d151_row3_col1\" class=\"data row3 col1\" >0.9529</td>\n",
       "    </tr>\n",
       "  </tbody>\n",
       "</table>\n",
       " </div><div> <p style='font-size: 1.3rem;'>$H$</p> <style type=\"text/css\">\n",
       "</style>\n",
       "<table id=\"T_ddc60\">\n",
       "  <thead>\n",
       "    <tr>\n",
       "      <th id=\"T_ddc60_level0_col0\" class=\"col_heading level0 col0\" >variable</th>\n",
       "      <th id=\"T_ddc60_level0_col1\" class=\"col_heading level0 col1\" >x_0</th>\n",
       "      <th id=\"T_ddc60_level0_col2\" class=\"col_heading level0 col2\" >x_1</th>\n",
       "      <th id=\"T_ddc60_level0_col3\" class=\"col_heading level0 col3\" >x_2</th>\n",
       "      <th id=\"T_ddc60_level0_col4\" class=\"col_heading level0 col4\" >x_3</th>\n",
       "    </tr>\n",
       "  </thead>\n",
       "  <tbody>\n",
       "    <tr>\n",
       "      <td id=\"T_ddc60_row0_col0\" class=\"data row0 col0\" >y_0</td>\n",
       "      <td id=\"T_ddc60_row0_col1\" class=\"data row0 col1\" >0.4984</td>\n",
       "      <td id=\"T_ddc60_row0_col2\" class=\"data row0 col2\" >0.1597</td>\n",
       "      <td id=\"T_ddc60_row0_col3\" class=\"data row0 col3\" >0.4458</td>\n",
       "      <td id=\"T_ddc60_row0_col4\" class=\"data row0 col4\" >0.7349</td>\n",
       "    </tr>\n",
       "    <tr>\n",
       "      <td id=\"T_ddc60_row1_col0\" class=\"data row1 col0\" >y_1</td>\n",
       "      <td id=\"T_ddc60_row1_col1\" class=\"data row1 col1\" >0.1070</td>\n",
       "      <td id=\"T_ddc60_row1_col2\" class=\"data row1 col2\" >0.9531</td>\n",
       "      <td id=\"T_ddc60_row1_col3\" class=\"data row1 col3\" >0.1942</td>\n",
       "      <td id=\"T_ddc60_row1_col4\" class=\"data row1 col4\" >0.6683</td>\n",
       "    </tr>\n",
       "    <tr>\n",
       "      <td id=\"T_ddc60_row2_col0\" class=\"data row2 col0\" >y_2</td>\n",
       "      <td id=\"T_ddc60_row2_col1\" class=\"data row2 col1\" >0.9186</td>\n",
       "      <td id=\"T_ddc60_row2_col2\" class=\"data row2 col2\" >0.7123</td>\n",
       "      <td id=\"T_ddc60_row2_col3\" class=\"data row2 col3\" >0.1806</td>\n",
       "      <td id=\"T_ddc60_row2_col4\" class=\"data row2 col4\" >0.5045</td>\n",
       "    </tr>\n",
       "  </tbody>\n",
       "</table>\n",
       " </div><div> <p style='font-size: 1.3rem;'>$R$</p> <style type=\"text/css\">\n",
       "</style>\n",
       "<table id=\"T_47653\">\n",
       "  <thead>\n",
       "    <tr>\n",
       "      <th id=\"T_47653_level0_col0\" class=\"col_heading level0 col0\" >variable</th>\n",
       "      <th id=\"T_47653_level0_col1\" class=\"col_heading level0 col1\" >y_0</th>\n",
       "      <th id=\"T_47653_level0_col2\" class=\"col_heading level0 col2\" >y_1</th>\n",
       "      <th id=\"T_47653_level0_col3\" class=\"col_heading level0 col3\" >y_2</th>\n",
       "    </tr>\n",
       "  </thead>\n",
       "  <tbody>\n",
       "    <tr>\n",
       "      <td id=\"T_47653_row0_col0\" class=\"data row0 col0\" >y_0</td>\n",
       "      <td id=\"T_47653_row0_col1\" class=\"data row0 col1\" >0.5856</td>\n",
       "      <td id=\"T_47653_row0_col2\" class=\"data row0 col2\" >0.0190</td>\n",
       "      <td id=\"T_47653_row0_col3\" class=\"data row0 col3\" >0.5991</td>\n",
       "    </tr>\n",
       "    <tr>\n",
       "      <td id=\"T_47653_row1_col0\" class=\"data row1 col0\" >y_1</td>\n",
       "      <td id=\"T_47653_row1_col1\" class=\"data row1 col1\" >0.0190</td>\n",
       "      <td id=\"T_47653_row1_col2\" class=\"data row1 col2\" >1.3107</td>\n",
       "      <td id=\"T_47653_row1_col3\" class=\"data row1 col3\" >0.5130</td>\n",
       "    </tr>\n",
       "    <tr>\n",
       "      <td id=\"T_47653_row2_col0\" class=\"data row2 col0\" >y_2</td>\n",
       "      <td id=\"T_47653_row2_col1\" class=\"data row2 col1\" >0.5991</td>\n",
       "      <td id=\"T_47653_row2_col2\" class=\"data row2 col2\" >0.5130</td>\n",
       "      <td id=\"T_47653_row2_col3\" class=\"data row2 col3\" >2.3748</td>\n",
       "    </tr>\n",
       "  </tbody>\n",
       "</table>\n",
       " </div><div> <p style='font-size: 1.3rem;'>$d$</p> <style type=\"text/css\">\n",
       "</style>\n",
       "<table id=\"T_31d59\">\n",
       "  <thead>\n",
       "    <tr>\n",
       "      <th id=\"T_31d59_level0_col0\" class=\"col_heading level0 col0\" >variable</th>\n",
       "      <th id=\"T_31d59_level0_col1\" class=\"col_heading level0 col1\" >offset</th>\n",
       "    </tr>\n",
       "  </thead>\n",
       "  <tbody>\n",
       "    <tr>\n",
       "      <td id=\"T_31d59_row0_col0\" class=\"data row0 col0\" >y_0</td>\n",
       "      <td id=\"T_31d59_row0_col1\" class=\"data row0 col1\" >0.9334</td>\n",
       "    </tr>\n",
       "    <tr>\n",
       "      <td id=\"T_31d59_row1_col0\" class=\"data row1 col0\" >y_1</td>\n",
       "      <td id=\"T_31d59_row1_col1\" class=\"data row1 col1\" >0.5645</td>\n",
       "    </tr>\n",
       "    <tr>\n",
       "      <td id=\"T_31d59_row2_col0\" class=\"data row2 col0\" >y_2</td>\n",
       "      <td id=\"T_31d59_row2_col1\" class=\"data row2 col1\" >0.0695</td>\n",
       "    </tr>\n",
       "  </tbody>\n",
       "</table>\n",
       " </div><div> <p style='font-size: 1.3rem;'>$B$</p> <style type=\"text/css\">\n",
       "</style>\n",
       "<table id=\"T_62060\">\n",
       "  <thead>\n",
       "    <tr>\n",
       "      <th id=\"T_62060_level0_col0\" class=\"col_heading level0 col0\" >state</th>\n",
       "      <th id=\"T_62060_level0_col1\" class=\"col_heading level0 col1\" >c_0</th>\n",
       "      <th id=\"T_62060_level0_col2\" class=\"col_heading level0 col2\" >c_1</th>\n",
       "      <th id=\"T_62060_level0_col3\" class=\"col_heading level0 col3\" >c_2</th>\n",
       "    </tr>\n",
       "  </thead>\n",
       "  <tbody>\n",
       "    <tr>\n",
       "      <td id=\"T_62060_row0_col0\" class=\"data row0 col0\" >x_0</td>\n",
       "      <td id=\"T_62060_row0_col1\" class=\"data row0 col1\" >0.2827</td>\n",
       "      <td id=\"T_62060_row0_col2\" class=\"data row0 col2\" >0.1138</td>\n",
       "      <td id=\"T_62060_row0_col3\" class=\"data row0 col3\" >0.9378</td>\n",
       "    </tr>\n",
       "    <tr>\n",
       "      <td id=\"T_62060_row1_col0\" class=\"data row1 col0\" >x_1</td>\n",
       "      <td id=\"T_62060_row1_col1\" class=\"data row1 col1\" >0.5594</td>\n",
       "      <td id=\"T_62060_row1_col2\" class=\"data row1 col2\" >0.9364</td>\n",
       "      <td id=\"T_62060_row1_col3\" class=\"data row1 col3\" >0.5136</td>\n",
       "    </tr>\n",
       "    <tr>\n",
       "      <td id=\"T_62060_row2_col0\" class=\"data row2 col0\" >x_2</td>\n",
       "      <td id=\"T_62060_row2_col1\" class=\"data row2 col1\" >0.8592</td>\n",
       "      <td id=\"T_62060_row2_col2\" class=\"data row2 col2\" >0.7647</td>\n",
       "      <td id=\"T_62060_row2_col3\" class=\"data row2 col3\" >0.5183</td>\n",
       "    </tr>\n",
       "    <tr>\n",
       "      <td id=\"T_62060_row3_col0\" class=\"data row3 col0\" >x_3</td>\n",
       "      <td id=\"T_62060_row3_col1\" class=\"data row3 col1\" >0.2376</td>\n",
       "      <td id=\"T_62060_row3_col2\" class=\"data row3 col2\" >0.5618</td>\n",
       "      <td id=\"T_62060_row3_col3\" class=\"data row3 col3\" >0.5096</td>\n",
       "    </tr>\n",
       "  </tbody>\n",
       "</table>\n",
       " </div><div> <p style='font-size: 1.3rem;'>$m_0$</p> <style type=\"text/css\">\n",
       "</style>\n",
       "<table id=\"T_9c8d4\">\n",
       "  <thead>\n",
       "    <tr>\n",
       "      <th id=\"T_9c8d4_level0_col0\" class=\"col_heading level0 col0\" >state</th>\n",
       "      <th id=\"T_9c8d4_level0_col1\" class=\"col_heading level0 col1\" >mean</th>\n",
       "    </tr>\n",
       "  </thead>\n",
       "  <tbody>\n",
       "    <tr>\n",
       "      <td id=\"T_9c8d4_row0_col0\" class=\"data row0 col0\" >x_0</td>\n",
       "      <td id=\"T_9c8d4_row0_col1\" class=\"data row0 col1\" >0.8234</td>\n",
       "    </tr>\n",
       "    <tr>\n",
       "      <td id=\"T_9c8d4_row1_col0\" class=\"data row1 col0\" >x_1</td>\n",
       "      <td id=\"T_9c8d4_row1_col1\" class=\"data row1 col1\" >0.3850</td>\n",
       "    </tr>\n",
       "    <tr>\n",
       "      <td id=\"T_9c8d4_row2_col0\" class=\"data row2 col0\" >x_2</td>\n",
       "      <td id=\"T_9c8d4_row2_col1\" class=\"data row2 col1\" >0.3380</td>\n",
       "    </tr>\n",
       "    <tr>\n",
       "      <td id=\"T_9c8d4_row3_col0\" class=\"data row3 col0\" >x_3</td>\n",
       "      <td id=\"T_9c8d4_row3_col1\" class=\"data row3 col1\" >0.4376</td>\n",
       "    </tr>\n",
       "  </tbody>\n",
       "</table>\n",
       " </div><div> <p style='font-size: 1.3rem;'>$P_0$</p> <style type=\"text/css\">\n",
       "</style>\n",
       "<table id=\"T_adee1\">\n",
       "  <thead>\n",
       "    <tr>\n",
       "      <th id=\"T_adee1_level0_col0\" class=\"col_heading level0 col0\" >state</th>\n",
       "      <th id=\"T_adee1_level0_col1\" class=\"col_heading level0 col1\" >x_0</th>\n",
       "      <th id=\"T_adee1_level0_col2\" class=\"col_heading level0 col2\" >x_1</th>\n",
       "      <th id=\"T_adee1_level0_col3\" class=\"col_heading level0 col3\" >x_2</th>\n",
       "      <th id=\"T_adee1_level0_col4\" class=\"col_heading level0 col4\" >x_3</th>\n",
       "    </tr>\n",
       "  </thead>\n",
       "  <tbody>\n",
       "    <tr>\n",
       "      <td id=\"T_adee1_row0_col0\" class=\"data row0 col0\" >x_0</td>\n",
       "      <td id=\"T_adee1_row0_col1\" class=\"data row0 col1\" >0.8860</td>\n",
       "      <td id=\"T_adee1_row0_col2\" class=\"data row0 col2\" >0.4535</td>\n",
       "      <td id=\"T_adee1_row0_col3\" class=\"data row0 col3\" >0.4490</td>\n",
       "      <td id=\"T_adee1_row0_col4\" class=\"data row0 col4\" >0.2316</td>\n",
       "    </tr>\n",
       "    <tr>\n",
       "      <td id=\"T_adee1_row1_col0\" class=\"data row1 col0\" >x_1</td>\n",
       "      <td id=\"T_adee1_row1_col1\" class=\"data row1 col1\" >0.4535</td>\n",
       "      <td id=\"T_adee1_row1_col2\" class=\"data row1 col2\" >1.8632</td>\n",
       "      <td id=\"T_adee1_row1_col3\" class=\"data row1 col3\" >0.6740</td>\n",
       "      <td id=\"T_adee1_row1_col4\" class=\"data row1 col4\" >1.3448</td>\n",
       "    </tr>\n",
       "    <tr>\n",
       "      <td id=\"T_adee1_row2_col0\" class=\"data row2 col0\" >x_2</td>\n",
       "      <td id=\"T_adee1_row2_col1\" class=\"data row2 col1\" >0.4490</td>\n",
       "      <td id=\"T_adee1_row2_col2\" class=\"data row2 col2\" >0.6740</td>\n",
       "      <td id=\"T_adee1_row2_col3\" class=\"data row2 col3\" >2.0374</td>\n",
       "      <td id=\"T_adee1_row2_col4\" class=\"data row2 col4\" >1.2929</td>\n",
       "    </tr>\n",
       "    <tr>\n",
       "      <td id=\"T_adee1_row3_col0\" class=\"data row3 col0\" >x_3</td>\n",
       "      <td id=\"T_adee1_row3_col1\" class=\"data row3 col1\" >0.2316</td>\n",
       "      <td id=\"T_adee1_row3_col2\" class=\"data row3 col2\" >1.3448</td>\n",
       "      <td id=\"T_adee1_row3_col3\" class=\"data row3 col3\" >1.2929</td>\n",
       "      <td id=\"T_adee1_row3_col4\" class=\"data row3 col4\" >2.0978</td>\n",
       "    </tr>\n",
       "  </tbody>\n",
       "</table>\n",
       " </div></div>"
      ],
      "text/plain": [
       "Kalman Filter\n",
       "        N dim obs: 3,\n",
       "        N dim state: 4,\n",
       "        N dim contr: 3"
      ]
     },
     "execution_count": null,
     "metadata": {},
     "output_type": "execute_result"
    }
   ],
   "source": [
    "kB"
   ]
  },
  {
   "cell_type": "markdown",
   "id": "68162da7-0e27-4771-90dd-fe3eede49aaa",
   "metadata": {},
   "source": [
    "### Test data"
   ]
  },
  {
   "cell_type": "code",
   "execution_count": null,
   "id": "e8053cda-a75e-422e-866c-12edd329561f",
   "metadata": {},
   "outputs": [],
   "source": [
    "#| exporti\n",
    "def get_test_data(n_obs = 10, n_dim_obs=3, n_dim_contr = 3, p_missing=.3, gap_len=None, bs=2, dtype=torch.float64, device='cpu'):\n",
    "    data = torch.rand(bs, n_obs, n_dim_obs, dtype=dtype, device=device)\n",
    "    mask = torch.rand(bs, n_obs, n_dim_obs, device=device)\n",
    "    if gap_len is not None:\n",
    "        mask[:, n_obs//2-gap_len//2,n_obs//2+gap_len//2, :] = False\n",
    "    else:\n",
    "        mask = mask > p_missing\n",
    "    control = torch.rand(bs, n_obs, n_dim_contr, dtype=dtype, device=device)\n",
    "    data[~mask] = torch.nan # ensure that the missing data cannot be used\n",
    "    return data, mask, control"
   ]
  },
  {
   "cell_type": "code",
   "execution_count": null,
   "id": "f96a5d04-10b9-47bb-95d0-533ee11344cb",
   "metadata": {},
   "outputs": [
    {
     "data": {
      "text/html": [
       "<div style=\"display: flex; column-gap: 20px; flex-wrap: wrap;\" class='table table-striped table-sm'> <div><p style='font-size: 1.2rem;'>data</p> <pre>tensor([[[0.8775,    nan,    nan],\n",
       "         [0.6706,    nan, 0.9272],\n",
       "         [   nan, 0.4967,    nan],\n",
       "         [   nan,    nan,    nan],\n",
       "         [   nan,    nan, 0.4760],\n",
       "         [0.7606, 0.7759, 0.5243],\n",
       "         [0.3714, 0.0426, 0.2343],\n",
       "         [0.9991, 0.1775,    nan],\n",
       "         [0.6734,    nan, 0.6468],\n",
       "         [0.5825, 0.4599, 0.7960]],\n",
       "\n",
       "        [[0.9038, 0.9735, 0.6428],\n",
       "         [0.3725, 0.2052,    nan],\n",
       "         [0.4448, 0.5775, 0.7237],\n",
       "         [0.5927,    nan, 0.6441],\n",
       "         [   nan, 0.9132, 0.0329],\n",
       "         [0.4856, 0.9927, 0.5895],\n",
       "         [0.2611, 0.9413, 0.1371],\n",
       "         [0.8726, 0.5590, 0.8451],\n",
       "         [0.1253, 0.9434, 0.0462],\n",
       "         [0.2360, 0.0239, 0.8950]]], dtype=torch.float64)\n",
       "</pre> </div><div><p style='font-size: 1.2rem;'>mask</p> <pre>tensor([[[ True, False, False],\n",
       "         [ True, False,  True],\n",
       "         [False,  True, False],\n",
       "         [False, False, False],\n",
       "         [False, False,  True],\n",
       "         [ True,  True,  True],\n",
       "         [ True,  True,  True],\n",
       "         [ True,  True, False],\n",
       "         [ True, False,  True],\n",
       "         [ True,  True,  True]],\n",
       "\n",
       "        [[ True,  True,  True],\n",
       "         [ True,  True, False],\n",
       "         [ True,  True,  True],\n",
       "         [ True, False,  True],\n",
       "         [False,  True,  True],\n",
       "         [ True,  True,  True],\n",
       "         [ True,  True,  True],\n",
       "         [ True,  True,  True],\n",
       "         [ True,  True,  True],\n",
       "         [ True,  True,  True]]])\n",
       "</pre> </div><div><p style='font-size: 1.2rem;'>control</p> <pre>tensor([[[0.9201, 0.6883, 0.5342],\n",
       "         [0.7847, 0.3137, 0.1778],\n",
       "         [0.5838, 0.9799, 0.3611],\n",
       "         [0.3155, 0.7475, 0.5450],\n",
       "         [0.5641, 0.2493, 0.8323],\n",
       "         [0.9723, 0.1883, 0.3605],\n",
       "         [0.5344, 0.3443, 0.7696],\n",
       "         [0.3410, 0.7553, 0.3177],\n",
       "         [0.0315, 0.5209, 0.6514],\n",
       "         [0.3131, 0.4510, 0.3550]],\n",
       "\n",
       "        [[0.4790, 0.0676, 0.3606],\n",
       "         [0.7299, 0.6713, 0.3134],\n",
       "         [0.7460, 0.1291, 0.4653],\n",
       "         [0.5693, 0.9906, 0.8288],\n",
       "         [0.9039, 0.5240, 0.6277],\n",
       "         [0.3574, 0.0076, 0.6530],\n",
       "         [0.8667, 0.9368, 0.8667],\n",
       "         [0.6749, 0.3526, 0.6618],\n",
       "         [0.0837, 0.7188, 0.7247],\n",
       "         [0.3211, 0.4898, 0.9030]]], dtype=torch.float64)\n",
       "</pre> </div></div>"
      ],
      "text/plain": [
       "<IPython.core.display.HTML object>"
      ]
     },
     "metadata": {},
     "output_type": "display_data"
    }
   ],
   "source": [
    "reset_seed()\n",
    "data, mask, control = get_test_data()\n",
    "show_as_row(data, mask, control)"
   ]
  },
  {
   "cell_type": "markdown",
   "id": "9675c2e7-4a33-432a-88a4-866ca1c9f3f3",
   "metadata": {},
   "source": [
    "# Standard Kalman Filter"
   ]
  },
  {
   "cell_type": "code",
   "execution_count": null,
   "id": "225ca819-5bce-42ad-a36e-92029da96d00",
   "metadata": {},
   "outputs": [],
   "source": [
    "k = KalmanFilter.init_random(3,4,3)"
   ]
  },
  {
   "cell_type": "markdown",
   "id": "82b38261-acb1-45f5-a12b-7668b5f78bfb",
   "metadata": {},
   "source": [
    "## Filter"
   ]
  },
  {
   "cell_type": "markdown",
   "id": "a7ca368e-9a56-46b2-bbcb-42e561107a88",
   "metadata": {},
   "source": [
    "### Filter predict"
   ]
  },
  {
   "cell_type": "markdown",
   "id": "282a138c-0eab-4e6e-8847-274fe2bcb874",
   "metadata": {},
   "source": [
    "Probability of state at time `t` given state a time `t-1` \n",
    "\n",
    "$p(x_t) = \\mathcal{N}(x_t; m_t^-, P_t^-)$ where:\n",
    "\n",
    "- predicted state mean: $m_t^- = Am_{t-1} + B c_t + b$  \n",
    "\n",
    "- predicted state covariance: $P_t^- = AP_{t-1}A^T + Q$"
   ]
  },
  {
   "cell_type": "code",
   "execution_count": null,
   "id": "3ccd3c49-06f9-43c9-ab7d-28f6631652cc",
   "metadata": {},
   "outputs": [],
   "source": [
    "A, Q, b, B, m_pr,P_pr= (k.A, k.Q, k.b, k.B,torch.concat([k.m0]*2), torch.concat([k.P0]*2))"
   ]
  },
  {
   "cell_type": "code",
   "execution_count": null,
   "id": "17fc2cbd-f915-4c4c-a153-ee0dee631a0d",
   "metadata": {},
   "outputs": [
    {
     "data": {
      "text/plain": [
       "(torch.Size([2, 4, 1]), torch.Size([2, 4, 4]), torch.Size([1, 4, 4]))"
      ]
     },
     "execution_count": null,
     "metadata": {},
     "output_type": "execute_result"
    }
   ],
   "source": [
    "m_pr.shape, P_pr.shape, A.shape"
   ]
  },
  {
   "cell_type": "markdown",
   "id": "523cbc7b-26d6-4db1-a187-4fd77eb1e119",
   "metadata": {},
   "source": [
    "#### Covariance"
   ]
  },
  {
   "cell_type": "markdown",
   "id": "3b8cc0d2-f247-4626-875e-ea28b170cb6b",
   "metadata": {},
   "source": [
    "implement $P_t^- = AP_{t-1}A^T + Q$"
   ]
  },
  {
   "cell_type": "code",
   "execution_count": null,
   "id": "c474d943-8d33-4e13-aba4-39d5282b699c",
   "metadata": {},
   "outputs": [],
   "source": [
    "#| export\n",
    "def _filter_predict_cov_stand(A, Q, P_pr):\n",
    "    \"\"\"Standard - Kalman Filter predict covariance\"\"\"\n",
    "    return A @ P_pr @ A.mT + Q"
   ]
  },
  {
   "cell_type": "code",
   "execution_count": null,
   "id": "d2a9c86d-5ca0-461b-95b5-7f92d01f28bd",
   "metadata": {},
   "outputs": [
    {
     "data": {
      "text/plain": [
       "tensor([[[6.2873, 3.7655, 4.8718, 5.8589],\n",
       "         [3.7655, 4.8551, 4.7314, 5.1009],\n",
       "         [4.8718, 4.7314, 5.9373, 6.0160],\n",
       "         [5.8589, 5.1009, 6.0160, 8.5954]],\n",
       "\n",
       "        [[6.2873, 3.7655, 4.8718, 5.8589],\n",
       "         [3.7655, 4.8551, 4.7314, 5.1009],\n",
       "         [4.8718, 4.7314, 5.9373, 6.0160],\n",
       "         [5.8589, 5.1009, 6.0160, 8.5954]]], dtype=torch.float64,\n",
       "       grad_fn=<AddBackward0>)"
      ]
     },
     "execution_count": null,
     "metadata": {},
     "output_type": "execute_result"
    }
   ],
   "source": [
    "P_m = _filter_predict_cov_stand(A, Q, P_pr)\n",
    "P_m"
   ]
  },
  {
   "cell_type": "markdown",
   "id": "99b62845-9d3d-4526-8d6b-b13b1708982e",
   "metadata": {},
   "source": [
    "#### Mean"
   ]
  },
  {
   "cell_type": "code",
   "execution_count": null,
   "id": "44ba4e1f-7e45-4a79-bb3f-dc9e2de6f38b",
   "metadata": {},
   "outputs": [],
   "source": [
    "#| export\n",
    "def _filter_predict_mean(\n",
    "    A,      # transition matrix\n",
    "    B,      # control matrix\n",
    "    b,      # transition offset\n",
    "    m_pr,   # Mean previous time step $m_{t-1}$\n",
    "    control, # control variable\n",
    "):\n",
    "    return A @ m_pr + B @ control + b"
   ]
  },
  {
   "cell_type": "markdown",
   "id": "5d787f69-e898-49ee-8d26-040823e52305",
   "metadata": {},
   "source": [
    "#### Predict"
   ]
  },
  {
   "cell_type": "code",
   "execution_count": null,
   "id": "78bfcb80-3f86-4031-8b35-8d1f5d93ca6b",
   "metadata": {},
   "outputs": [],
   "source": [
    "#| export\n",
    "def _filter_predict_mean(\n",
    "    A,      # transition matrix\n",
    "    B,      # control matrix\n",
    "    b,      # transition offset\n",
    "    m_pr,   # Mean previous time step $m_{t-1}$\n",
    "    control, # control variable\n",
    "):\n",
    "    return A @ m_pr + B @ control + b"
   ]
  },
  {
   "cell_type": "code",
   "execution_count": null,
   "id": "935e06ec-05cf-4521-ad9d-26f3be41eb1c",
   "metadata": {},
   "outputs": [],
   "source": [
    "#| export\n",
    "def _filter_predict(A,\n",
    "                    Q,\n",
    "                    b,\n",
    "                    B, #[n_dim_state, n_dim_contr]\n",
    "                    m_pr,\n",
    "                    P_pr,\n",
    "                    control, #[n_batches, n_dim_contr]\n",
    "                    ):\n",
    "    \"\"\"Calculate the state at time `t` given the state at time `t-1`\"\"\"\n",
    "    m_m = _filter_predict_mean(A, B, b, m_pr, control)\n",
    "    P_m = _filter_predict_cov_stand(A, Q, P_pr)\n",
    "    return (m_m, P_m)"
   ]
  },
  {
   "cell_type": "code",
   "execution_count": null,
   "id": "4b0bd994-e8c4-4605-8a84-2e24f7db3644",
   "metadata": {},
   "outputs": [
    {
     "data": {
      "text/plain": [
       "torch.Size([1, 4, 3])"
      ]
     },
     "execution_count": null,
     "metadata": {},
     "output_type": "execute_result"
    }
   ],
   "source": [
    "B.shape"
   ]
  },
  {
   "cell_type": "code",
   "execution_count": null,
   "id": "49527e9b-a280-4063-b3bf-17b4f4f5ba1b",
   "metadata": {},
   "outputs": [
    {
     "data": {
      "text/plain": [
       "torch.Size([2, 10, 3])"
      ]
     },
     "execution_count": null,
     "metadata": {},
     "output_type": "execute_result"
    }
   ],
   "source": [
    "control.shape"
   ]
  },
  {
   "cell_type": "code",
   "execution_count": null,
   "id": "cf8af9a6-0666-4ac4-8850-e3b892399409",
   "metadata": {},
   "outputs": [
    {
     "data": {
      "text/plain": [
       "torch.Size([4, 3])"
      ]
     },
     "execution_count": null,
     "metadata": {},
     "output_type": "execute_result"
    }
   ],
   "source": [
    "B[0].shape"
   ]
  },
  {
   "cell_type": "code",
   "execution_count": null,
   "id": "1ee39e3e-6dc9-4abe-b342-11d198610c92",
   "metadata": {},
   "outputs": [
    {
     "data": {
      "text/plain": [
       "tensor([[0.7217],\n",
       "        [0.9572],\n",
       "        [0.5742],\n",
       "        [1.2138]], dtype=torch.float64, grad_fn=<MmBackward0>)"
      ]
     },
     "execution_count": null,
     "metadata": {},
     "output_type": "execute_result"
    }
   ],
   "source": [
    "B[0] @ control[0, 0].unsqueeze(-1)"
   ]
  },
  {
   "cell_type": "code",
   "execution_count": null,
   "id": "27363d30-7799-4ac7-ac81-b6d58e46b633",
   "metadata": {},
   "outputs": [],
   "source": [
    "m_m, P_m = _filter_predict(\n",
    "    A, Q, b, B,\n",
    "    m_pr,P_pr, control[:, 0, :].unsqueeze(-1))"
   ]
  },
  {
   "cell_type": "code",
   "execution_count": null,
   "id": "85cf0029-c23b-4091-8761-3bd689621331",
   "metadata": {},
   "outputs": [
    {
     "data": {
      "text/html": [
       "<div style=\"display: flex; column-gap: 20px; flex-wrap: wrap;\" class='table table-striped table-sm'> <div><p style='font-size: 1.2rem;'>m_m</p> <pre>tensor([[[2.4986],\n",
       "         [2.2429],\n",
       "         [1.8833],\n",
       "         [3.6164]],\n",
       "\n",
       "        [[2.1377],\n",
       "         [1.5964],\n",
       "         [1.5371],\n",
       "         [2.8315]]], dtype=torch.float64, grad_fn=<AddBackward0>)\n",
       "</pre> </div><div><p style='font-size: 1.2rem;'>P_m</p> <pre>tensor([[[6.2873, 3.7655, 4.8718, 5.8589],\n",
       "         [3.7655, 4.8551, 4.7314, 5.1009],\n",
       "         [4.8718, 4.7314, 5.9373, 6.0160],\n",
       "         [5.8589, 5.1009, 6.0160, 8.5954]],\n",
       "\n",
       "        [[6.2873, 3.7655, 4.8718, 5.8589],\n",
       "         [3.7655, 4.8551, 4.7314, 5.1009],\n",
       "         [4.8718, 4.7314, 5.9373, 6.0160],\n",
       "         [5.8589, 5.1009, 6.0160, 8.5954]]], dtype=torch.float64,\n",
       "       grad_fn=<AddBackward0>)\n",
       "</pre> </div></div>"
      ],
      "text/plain": [
       "<IPython.core.display.HTML object>"
      ]
     },
     "metadata": {},
     "output_type": "display_data"
    }
   ],
   "source": [
    "show_as_row(m_m, P_m)"
   ]
  },
  {
   "cell_type": "code",
   "execution_count": null,
   "id": "64cab28f-86a6-4bdd-b591-fc51153b891f",
   "metadata": {},
   "outputs": [
    {
     "data": {
      "text/plain": [
       "(torch.Size([2, 4, 1]), torch.Size([2, 4, 4]))"
      ]
     },
     "execution_count": null,
     "metadata": {},
     "output_type": "execute_result"
    }
   ],
   "source": [
    "(m_m.shape, P_m.shape,)"
   ]
  },
  {
   "cell_type": "markdown",
   "id": "99e62fe3-a580-4f1d-aa20-8c5de1d90cb6",
   "metadata": {},
   "source": [
    "### Filter update"
   ]
  },
  {
   "cell_type": "markdown",
   "id": "834a0734-30f7-481e-bad8-94aeae770a2a",
   "metadata": {},
   "source": [
    "Probability of state at time `t` given the observations at time `t`\n",
    "\n",
    "$p(x_t|y_t) = \\mathcal{N}(x_t; m_t, P_t)$ where:\n",
    "\n",
    "- predicted obs mean: $z_t = Hm_t^- + d$  \n",
    "\n",
    "- prediced obs covariance: $S_t = HP_t^-H^T + R$\n",
    "\n",
    "- kalman gain$K_t = P_t^-H^TS_t^{-1}$ \n",
    "\n",
    "- corrected state mean: $m_t = m_t^- + K_t(y_t - z_t)$ \n",
    "\n",
    "- corrected state covariance: $P_t = (I-K_tH)P_t^-$ \n",
    "\n",
    "if the observation are missing this step is skipped and the corrected state is equal to the predicted state\n"
   ]
  },
  {
   "cell_type": "markdown",
   "id": "9ab7f69a-c12e-4136-8ae2-fad9918f3a68",
   "metadata": {},
   "source": [
    "Need to figure out the Nans for the gradients ..."
   ]
  },
  {
   "cell_type": "markdown",
   "id": "007ec970-3cc7-4058-a55a-42b257f66193",
   "metadata": {},
   "source": [
    "#### Kalman Gain"
   ]
  },
  {
   "cell_type": "markdown",
   "id": "ed14326a-f23a-4201-822a-2a52d9a03023",
   "metadata": {},
   "source": [
    "Don't compute the inverse of the matrix, but use `cholesky_solve` to invert the matrix"
   ]
  },
  {
   "cell_type": "code",
   "execution_count": null,
   "id": "540e9524-be2c-4fa6-9396-017e3ed03864",
   "metadata": {},
   "outputs": [],
   "source": [
    "H, d, R, obs = k.H, k.d, k.R, data[:,0,:].unsqueeze(-1)"
   ]
  },
  {
   "cell_type": "code",
   "execution_count": null,
   "id": "2f96f4e9-f73f-4802-9e68-51bd45d8ccbf",
   "metadata": {},
   "outputs": [],
   "source": [
    "#| export\n",
    "def _filter_update_k_gain(H, R,P_m):\n",
    "    \"kalman gain for filter update\"\n",
    "    S = H @ P_m @ H.mT + R\n",
    "    S_C = torch.linalg.cholesky(S)\n",
    "    return torch.cholesky_solve(H @ P_m.mT, S_C).mT"
   ]
  },
  {
   "cell_type": "code",
   "execution_count": null,
   "id": "e6844478-8325-41cc-b69f-6f7fd5641746",
   "metadata": {},
   "outputs": [
    {
     "data": {
      "text/plain": [
       "tensor([[[ 0.1177,  0.2313,  0.0612],\n",
       "         [-0.5573,  0.6582,  0.0288],\n",
       "         [-0.3189,  0.5919, -0.0174],\n",
       "         [ 0.3269,  0.3056, -0.0378]],\n",
       "\n",
       "        [[ 0.1177,  0.2313,  0.0612],\n",
       "         [-0.5573,  0.6582,  0.0288],\n",
       "         [-0.3189,  0.5919, -0.0174],\n",
       "         [ 0.3269,  0.3056, -0.0378]]], dtype=torch.float64,\n",
       "       grad_fn=<TransposeBackward0>)"
      ]
     },
     "execution_count": null,
     "metadata": {},
     "output_type": "execute_result"
    }
   ],
   "source": [
    "K = _filter_update_k_gain(H, R, P_m)\n",
    "K"
   ]
  },
  {
   "cell_type": "code",
   "execution_count": null,
   "id": "3fe01138-b90d-498e-913a-b21a9274a36c",
   "metadata": {},
   "outputs": [],
   "source": [
    "test_close(_filter_update_k_gain(H, R, P_m), P_m @ H.mT @ torch.inverse(H @ P_m @ H.mT + R))"
   ]
  },
  {
   "cell_type": "markdown",
   "id": "e145507c-ed69-4e44-be67-67804835add1",
   "metadata": {},
   "source": [
    "#### Covariance"
   ]
  },
  {
   "cell_type": "code",
   "execution_count": null,
   "id": "c504b0fd-06c1-4c17-83a1-16e44947fda9",
   "metadata": {},
   "outputs": [],
   "source": [
    "#| export\n",
    "def _filter_update_cov(H, K, P_m):\n",
    "    return (eye_like(P_m) - K @ H) @ P_m"
   ]
  },
  {
   "cell_type": "code",
   "execution_count": null,
   "id": "f2794f3f-b365-44f8-8f74-e02203c125f1",
   "metadata": {},
   "outputs": [
    {
     "data": {
      "text/plain": [
       "tensor([[[ 2.1074, -0.2158,  0.3602,  0.1911],\n",
       "         [-0.2158,  0.4808,  0.0472, -0.1503],\n",
       "         [ 0.3602,  0.0472,  0.8035, -0.0177],\n",
       "         [ 0.1911, -0.1503, -0.0177,  0.8448]],\n",
       "\n",
       "        [[ 2.1074, -0.2158,  0.3602,  0.1911],\n",
       "         [-0.2158,  0.4808,  0.0472, -0.1503],\n",
       "         [ 0.3602,  0.0472,  0.8035, -0.0177],\n",
       "         [ 0.1911, -0.1503, -0.0177,  0.8448]]], dtype=torch.float64,\n",
       "       grad_fn=<UnsafeViewBackward0>)"
      ]
     },
     "execution_count": null,
     "metadata": {},
     "output_type": "execute_result"
    }
   ],
   "source": [
    "P = _filter_update_cov(H, K, P_m)\n",
    "P"
   ]
  },
  {
   "cell_type": "markdown",
   "id": "9806221b-924c-48ce-9c7f-93de3e04480d",
   "metadata": {},
   "source": [
    "#### Mean"
   ]
  },
  {
   "cell_type": "code",
   "execution_count": null,
   "id": "4c064cc0-5879-4c9c-b339-b5b58da4b55e",
   "metadata": {},
   "outputs": [
    {
     "data": {
      "text/plain": [
       "tensor([[[-3.3343],\n",
       "         [    nan],\n",
       "         [    nan]],\n",
       "\n",
       "        [[-2.4181],\n",
       "         [-5.0754],\n",
       "         [-3.9145]]], dtype=torch.float64, grad_fn=<SubBackward0>)"
      ]
     },
     "execution_count": null,
     "metadata": {},
     "output_type": "execute_result"
    }
   ],
   "source": [
    "z = H @ m_m + d; z\n",
    "(obs - z)"
   ]
  },
  {
   "cell_type": "code",
   "execution_count": null,
   "id": "1d10de1f-34ff-4a67-98d3-119bd227182b",
   "metadata": {},
   "outputs": [],
   "source": [
    "#| export\n",
    "def _filter_update_mean(H, d, K, m_m, y):\n",
    "    z = H @ m_m + d\n",
    "    return m_m + K @ (y - z)"
   ]
  },
  {
   "cell_type": "code",
   "execution_count": null,
   "id": "a4dbbf45-c8d1-4c24-96c6-4257e24efe69",
   "metadata": {},
   "outputs": [
    {
     "data": {
      "text/plain": [
       "tensor([[[    nan],\n",
       "         [    nan],\n",
       "         [    nan],\n",
       "         [    nan]],\n",
       "\n",
       "        [[ 0.4396],\n",
       "         [-0.5094],\n",
       "         [-0.6276],\n",
       "         [ 0.6379]]], dtype=torch.float64, grad_fn=<AddBackward0>)"
      ]
     },
     "execution_count": null,
     "metadata": {},
     "output_type": "execute_result"
    }
   ],
   "source": [
    "m = _filter_update_mean(H, d, K, m_m, obs)\n",
    "m"
   ]
  },
  {
   "cell_type": "code",
   "execution_count": null,
   "id": "8002128f-e761-4955-9593-274d86f5deed",
   "metadata": {},
   "outputs": [],
   "source": [
    "#| export\n",
    "def _filter_update(\n",
    "    H, # [1, n_dim_obs, n_dim_state]\n",
    "    d, # [1, n_dim_obs, 1]\n",
    "    R, # [1, n_dim_obs, n_dim_obs]\n",
    "    m_m, # [n_batches, n_dim_state, 1]\n",
    "    P_m, # [n_batches, n_dim_state, n_dim_state]\n",
    "    obs # # [n_batches, n_dim_obs, 1]\n",
    ") -> Tuple: # Filtered state (mean, covariance) [n_batches, n_dim_state]\n",
    "    \"Filter update state at `t` with obs at `t`\"\n",
    "    K = _filter_update_k_gain(H, R, P_m)\n",
    "    m = _filter_update_mean(H, d, K, m_m, obs)\n",
    "    P = _filter_update_cov(H, K, P_m)\n",
    "    return m, P"
   ]
  },
  {
   "cell_type": "code",
   "execution_count": null,
   "id": "20114b3e-6153-46bd-b6b8-62f2f236de29",
   "metadata": {},
   "outputs": [
    {
     "data": {
      "text/html": [
       "<div style=\"display: flex; column-gap: 20px; flex-wrap: wrap;\" class='table table-striped table-sm'> <div><p style='font-size: 1.2rem;'>m</p> <pre>tensor([[[    nan],\n",
       "         [    nan],\n",
       "         [    nan],\n",
       "         [    nan]],\n",
       "\n",
       "        [[ 0.4396],\n",
       "         [-0.5094],\n",
       "         [-0.6276],\n",
       "         [ 0.6379]]], dtype=torch.float64, grad_fn=<AddBackward0>)\n",
       "</pre> </div><div><p style='font-size: 1.2rem;'>P</p> <pre>tensor([[[ 2.1074, -0.2158,  0.3602,  0.1911],\n",
       "         [-0.2158,  0.4808,  0.0472, -0.1503],\n",
       "         [ 0.3602,  0.0472,  0.8035, -0.0177],\n",
       "         [ 0.1911, -0.1503, -0.0177,  0.8448]],\n",
       "\n",
       "        [[ 2.1074, -0.2158,  0.3602,  0.1911],\n",
       "         [-0.2158,  0.4808,  0.0472, -0.1503],\n",
       "         [ 0.3602,  0.0472,  0.8035, -0.0177],\n",
       "         [ 0.1911, -0.1503, -0.0177,  0.8448]]], dtype=torch.float64,\n",
       "       grad_fn=<UnsafeViewBackward0>)\n",
       "</pre> </div></div>"
      ],
      "text/plain": [
       "<IPython.core.display.HTML object>"
      ]
     },
     "metadata": {},
     "output_type": "display_data"
    },
    {
     "data": {
      "text/plain": [
       "(torch.Size([2, 4, 1]), torch.Size([2, 4, 4]))"
      ]
     },
     "execution_count": null,
     "metadata": {},
     "output_type": "execute_result"
    }
   ],
   "source": [
    "m, P = _filter_update(H, d, R, m_m, P_m, obs)\n",
    "show_as_row(m, P)\n",
    "m.shape, P.shape"
   ]
  },
  {
   "cell_type": "markdown",
   "id": "33d489fd-d298-4f67-9a52-0992c5a290c3",
   "metadata": {},
   "source": [
    "there are `nan` in the output because there are `nan` in the observations\n",
    "\n",
    "The next functions adds the support for missing obsevations by also using a mask"
   ]
  },
  {
   "cell_type": "markdown",
   "id": "324e6fe3-8338-45ca-8012-8d1c1ecf55fd",
   "metadata": {},
   "source": [
    "#### Missing observations\n",
    "\n",
    "If all the observations at time $t$ are missing the correct step is skipped and the filtered state at time $t$ () is the same of the filtered state.\n",
    "\n",
    "If only some observations are missing a variation of equation can be used.\n",
    "\n",
    "$y^{ng}_t$ is a vector containing the observations that are not missing at time $t$. \n",
    "\n",
    "It can be expressed as a linear transformation of $y_t$\n",
    "\n",
    "$$ y^{ng}_t = My_t$$\n",
    "\n",
    "where $M$ is a mask matrix that is used to select the subset of $y_t$ that is observed. $M \\in \\mathbb{R}^{n_{ng} \\times n}$ and is made of columns which are made of all zeros but for an entry 1 at row corresponding to the non-missing observation.\n",
    "hence:\n",
    "\n",
    "$$ p(y^{ng}_t) = \\mathcal{N}(M\\mu_{y_t},  M\\Sigma_{y_t}M^T)$$\n",
    "\n",
    "from which you can derive\n",
    "\n",
    "$$ p(y^{ng}_t|x_t) = p(MHx_t + Mb, MRM^T) $${#eq-filter-correct}\n",
    "\n",
    "Then the posterior $p(x_t|y_t^{ng})$ can be computed similarly of equation @filter_correct as:\n",
    "\n",
    "$$ p(x_t|y^{ng}_t) = \\mathcal{N}(x_t; m_t, P_t) $${#eq-filter_correct_missing}\n",
    "    \n",
    "where:\n",
    "\n",
    "*  predicted obs mean: $z_t = MHm_t^- + Md$\n",
    "*  predicted obs covariance: $S_t = MHP_t^-(MH)^T + MRM^T$\n",
    "*  Kalman gain $K_t = P_t^-(MH)^TS_t^{-1}$\n",
    "*  corrected state mean: $m_t = m_t^- + K_t(My_t - z_t)$\n",
    "*  corrected state covariance: $P_t = (I-K_tMH)P_t^-$\n"
   ]
  },
  {
   "cell_type": "markdown",
   "id": "db040ca7-a9fa-4cb2-84a0-ec41d75dfa5c",
   "metadata": {},
   "source": [
    "##### Details implementation "
   ]
  },
  {
   "cell_type": "markdown",
   "id": "2d5295da-4c5d-4b37-8078-0be02e053526",
   "metadata": {},
   "source": [
    "For the implementation the matrix multiplication $MH$ can be replaced with `H[m]` where `m` is the mask for the rows for `H` and $MRM^T$ with `R[m][:,m]`"
   ]
  },
  {
   "cell_type": "code",
   "execution_count": null,
   "id": "f32ec6d7-ace9-432b-8e6c-f6dfdb2ec994",
   "metadata": {},
   "outputs": [],
   "source": [
    "H, R, d,obs, mm = k.H, k.R, k.d, data[:,0,:].unsqueeze(-1), mask[:,0,:].unsqueeze(-1)"
   ]
  },
  {
   "cell_type": "code",
   "execution_count": null,
   "id": "e8d2e4f7-27bf-49aa-acee-d69f7fe90bae",
   "metadata": {},
   "outputs": [
    {
     "data": {
      "text/html": [
       "<div style=\"display: flex; column-gap: 20px; flex-wrap: wrap;\" class='table table-striped table-sm'> <div><p style='font-size: 1.2rem;'>m</p> <pre>tensor([False,  True,  True])\n",
       "</pre> </div><div><p style='font-size: 1.2rem;'>M</p> <pre>tensor([[[0., 1., 0.],\n",
       "         [0., 0., 1.]]], dtype=torch.float64)\n",
       "</pre> </div><div><p style='font-size: 1.2rem;'>H</p> <pre>Parameter containing:\n",
       "tensor([[[0.1349, 0.0519, 0.1180, 0.9767],\n",
       "         [0.1679, 0.8635, 0.3753, 0.9760],\n",
       "         [0.2125, 0.8049, 0.2124, 0.6794]]], dtype=torch.float64,\n",
       "       requires_grad=True)\n",
       "</pre> </div><div><p style='font-size: 1.2rem;'>R</p> <pre>tensor([[[1.6259, 1.1183, 0.8535],\n",
       "         [1.1183, 1.2831, 0.9935],\n",
       "         [0.8535, 0.9935, 2.4550]]], dtype=torch.float64,\n",
       "       grad_fn=<UnsafeViewBackward0>)\n",
       "</pre> </div></div>"
      ],
      "text/plain": [
       "<IPython.core.display.HTML object>"
      ]
     },
     "metadata": {},
     "output_type": "display_data"
    }
   ],
   "source": [
    "m = torch.tensor([False,True,True]) # mask batch\n",
    "M = torch.tensor([[[0,1,0], # mask matrix\n",
    "                  [0,0,1]]], dtype=torch.float64)\n",
    "show_as_row(m, M, H, R)"
   ]
  },
  {
   "cell_type": "code",
   "execution_count": null,
   "id": "554f9ab2-8eac-4275-a285-cb6a6aabd4ce",
   "metadata": {},
   "outputs": [
    {
     "data": {
      "text/plain": [
       "tensor([[[1., 0.],\n",
       "         [0., 1.]]], dtype=torch.float64)"
      ]
     },
     "execution_count": null,
     "metadata": {},
     "output_type": "execute_result"
    }
   ],
   "source": [
    "M @ M.mT"
   ]
  },
  {
   "cell_type": "code",
   "execution_count": null,
   "id": "79fc5a87-5836-4c12-b8b8-35af30c716f0",
   "metadata": {},
   "outputs": [
    {
     "data": {
      "text/plain": [
       "(tensor([[[0.1679, 0.8635, 0.3753, 0.9760],\n",
       "          [0.2125, 0.8049, 0.2124, 0.6794]]], dtype=torch.float64,\n",
       "        grad_fn=<UnsafeViewBackward0>),\n",
       " tensor([[[0.1679, 0.8635, 0.3753, 0.9760],\n",
       "          [0.2125, 0.8049, 0.2124, 0.6794]]], dtype=torch.float64,\n",
       "        grad_fn=<IndexBackward0>))"
      ]
     },
     "execution_count": null,
     "metadata": {},
     "output_type": "execute_result"
    }
   ],
   "source": [
    "M @ H, H[:, m]"
   ]
  },
  {
   "cell_type": "code",
   "execution_count": null,
   "id": "856ff123-f0c9-4f5e-af22-b1a7c2f5dcc6",
   "metadata": {},
   "outputs": [
    {
     "data": {
      "text/plain": [
       "(tensor([[[1.2831, 0.9935],\n",
       "          [0.9935, 2.4550]]], dtype=torch.float64,\n",
       "        grad_fn=<UnsafeViewBackward0>),\n",
       " tensor([[[1.2831, 0.9935],\n",
       "          [0.9935, 2.4550]]], dtype=torch.float64, grad_fn=<IndexBackward0>))"
      ]
     },
     "execution_count": null,
     "metadata": {},
     "output_type": "execute_result"
    }
   ],
   "source": [
    "M @ R @ M.mT, R[:,m][:,:,m]"
   ]
  },
  {
   "cell_type": "markdown",
   "id": "d7b52ab7-be5c-4d32-b2bb-bf67da274774",
   "metadata": {},
   "source": [
    "By using partially missing observations `_filter_update` cannot be easily batched as the shape of the intermediate variables depends on the number of observed variables. So the idea is to divide the batch in blocks that share the same number of variables missing."
   ]
  },
  {
   "cell_type": "code",
   "execution_count": null,
   "id": "6b16750b-899c-4067-b7a5-106084f734d8",
   "metadata": {},
   "outputs": [
    {
     "data": {
      "text/plain": [
       "(tensor([[ True, False,  True],\n",
       "         [ True,  True, False]]),\n",
       " tensor([0, 1]))"
      ]
     },
     "execution_count": null,
     "metadata": {},
     "output_type": "execute_result"
    }
   ],
   "source": [
    "mask_values, indices = torch.unique(mask[:,1,:], dim=0, return_inverse=True)\n",
    "mask_values, indices"
   ]
  },
  {
   "cell_type": "markdown",
   "id": "4cd3f38f-d3c3-4977-8fda-9ade9a3ee5b8",
   "metadata": {},
   "source": [
    "##### Update mask"
   ]
  },
  {
   "cell_type": "code",
   "execution_count": null,
   "id": "127c225a-b66d-4a35-aff7-fb4516129606",
   "metadata": {},
   "outputs": [],
   "source": [
    "mm = mask[0,0,:]"
   ]
  },
  {
   "cell_type": "code",
   "execution_count": null,
   "id": "d64b0b22-9477-442f-ae65-1f9f69c810d8",
   "metadata": {},
   "outputs": [],
   "source": [
    "#| export\n",
    "def _filter_update_mask(\n",
    "        H, # [1, n_dim_obs, n_dim_state]\n",
    "        d, # [1, n_dim_obs, 1]\n",
    "        R, # [1, n_dim_obs, n_dim_obs]\n",
    "        m_m, # [n_batches, n_dim_state, 1]\n",
    "        P_m, # [n_batches, n_dim_state, n_dim_state]\n",
    "        obs, # [n_batches, n_dim_obs, 1] observations\n",
    "        mask # [n_dim_obs] mask must be the same across batches\n",
    "                       ):\n",
    "    \"\"\"Update state at time `t` given observations at time `t` assuming that all observations have the same mask\"\"\"\n",
    "    if (~mask).all(): return (m_m, P_m) # all data is missing\n",
    "    H_m, d_m, R_m, obs_m, = H[:, mask,:], d[:, mask,:], R[:, mask,:][:, :,mask], obs[:, mask] # _m for masked\n",
    "    return _filter_update(H_m, d_m, R_m, m_m, P_m, obs_m)"
   ]
  },
  {
   "cell_type": "code",
   "execution_count": null,
   "id": "93a93332-4acf-4c8d-bec0-761f881be8a6",
   "metadata": {},
   "outputs": [
    {
     "data": {
      "text/plain": [
       "(torch.Size([1, 1, 4]),\n",
       " torch.Size([1, 1, 1]),\n",
       " torch.Size([1, 1, 1]),\n",
       " torch.Size([2, 1, 1]))"
      ]
     },
     "execution_count": null,
     "metadata": {},
     "output_type": "execute_result"
    }
   ],
   "source": [
    "H[:, mm].shape, d[:, mm].shape, R[:, mm][:, :,mm].shape, obs[:, mm].shape"
   ]
  },
  {
   "cell_type": "code",
   "execution_count": null,
   "id": "f1953c2f-e4d8-4a72-914e-b2ef36785382",
   "metadata": {},
   "outputs": [
    {
     "data": {
      "text/html": [
       "<div style=\"display: flex; column-gap: 20px; flex-wrap: wrap;\" class='table table-striped table-sm'> <div><p style='font-size: 1.2rem;'>#0</p> <pre>tensor([[[0.7184],\n",
       "         [0.7151],\n",
       "         [0.0696],\n",
       "         [1.1526]],\n",
       "\n",
       "        [[0.8467],\n",
       "         [0.4883],\n",
       "         [0.2217],\n",
       "         [1.0446]]], dtype=torch.float64, grad_fn=<AddBackward0>)\n",
       "</pre> </div><div><p style='font-size: 1.2rem;'>#1</p> <pre>tensor([[[2.3679, 0.4016, 0.8785, 0.4342],\n",
       "         [0.4016, 1.9680, 1.3041, 0.4451],\n",
       "         [0.8785, 1.3041, 1.8687, 0.4890],\n",
       "         [0.4342, 0.4451, 0.4890, 1.0874]],\n",
       "\n",
       "        [[2.3679, 0.4016, 0.8785, 0.4342],\n",
       "         [0.4016, 1.9680, 1.3041, 0.4451],\n",
       "         [0.8785, 1.3041, 1.8687, 0.4890],\n",
       "         [0.4342, 0.4451, 0.4890, 1.0874]]], dtype=torch.float64,\n",
       "       grad_fn=<UnsafeViewBackward0>)\n",
       "</pre> </div></div>"
      ],
      "text/plain": [
       "<IPython.core.display.HTML object>"
      ]
     },
     "metadata": {},
     "output_type": "display_data"
    }
   ],
   "source": [
    "show_as_row(*_filter_update_mask(H, d, R, m_m, P_m, obs, mask[0, 0, :] ))"
   ]
  },
  {
   "cell_type": "code",
   "execution_count": null,
   "id": "10551bc9-1f18-43e3-8e67-8b2703de8bf5",
   "metadata": {},
   "outputs": [
    {
     "data": {
      "text/plain": [
       "(torch.Size([2, 4, 1]), torch.Size([2, 4, 4]))"
      ]
     },
     "execution_count": null,
     "metadata": {},
     "output_type": "execute_result"
    }
   ],
   "source": [
    "m, P = _filter_update_mask(H, d, R, m_m, P_m, obs, mask[0, 0, :] )\n",
    "m.shape, P.shape"
   ]
  },
  {
   "cell_type": "markdown",
   "id": "c1fba5ee-bb8f-4f96-909b-6d3668b4959b",
   "metadata": {},
   "source": [
    "##### Update mask batch"
   ]
  },
  {
   "cell_type": "code",
   "execution_count": null,
   "id": "23b11e2a",
   "metadata": {},
   "outputs": [],
   "source": [
    "#| export\n",
    "def _filter_update_mask_batch(\n",
    "        H, # [1, n_dim_obs, n_dim_state]\n",
    "        d, # [1, n_dim_obs, 1]\n",
    "        R, # [1, n_dim_obs, n_dim_obs]\n",
    "        m_m, # [n_batches, n_dim_state, 1]\n",
    "        P_m, # [n_batches, n_dim_state, n_dim_state]\n",
    "        obs, # [n_batches, n_dim_obs, 1] observations\n",
    "        mask # [n_batches, n_dim_obs] mask must be the same across batches\n",
    "                       ):\n",
    "    \"\"\"Support batches with different masks when update state at time `t` given observations at time `t`\"\"\"\n",
    "    \n",
    "    ms, Ps= torch.empty_like(m_m), torch.empty_like(P_m)\n",
    "    \n",
    "    # find the unique values of the mask and make a sub-batches with it\n",
    "    mask_values, indices = torch.unique(mask, return_inverse=True, dim=0)  \n",
    "    for i, mask_v in enumerate(mask_values):\n",
    "        idx_select = indices == i \n",
    "        m, P = _filter_update_mask(\n",
    "            H, d, R,\n",
    "            m_m[idx_select], P_m[idx_select],\n",
    "            obs[idx_select],\n",
    "            mask_v,\n",
    "        )\n",
    "        ms[idx_select], Ps[idx_select] = m, P\n",
    "    \n",
    "    return ms, Ps"
   ]
  },
  {
   "cell_type": "code",
   "execution_count": null,
   "id": "e0c7eb97-ec2b-4da0-80a4-b18cc53a3a82",
   "metadata": {},
   "outputs": [
    {
     "data": {
      "text/html": [
       "<div style=\"display: flex; column-gap: 20px; flex-wrap: wrap;\" class='table table-striped table-sm'> <div><p style='font-size: 1.2rem;'>m</p> <pre>tensor([[[ 0.7184],\n",
       "         [ 0.7151],\n",
       "         [ 0.0696],\n",
       "         [ 1.1526]],\n",
       "\n",
       "        [[ 0.4396],\n",
       "         [-0.5094],\n",
       "         [-0.6276],\n",
       "         [ 0.6379]]], dtype=torch.float64, grad_fn=<IndexPutBackward0>)\n",
       "</pre> </div><div><p style='font-size: 1.2rem;'>P</p> <pre>tensor([[[ 2.3679,  0.4016,  0.8785,  0.4342],\n",
       "         [ 0.4016,  1.9680,  1.3041,  0.4451],\n",
       "         [ 0.8785,  1.3041,  1.8687,  0.4890],\n",
       "         [ 0.4342,  0.4451,  0.4890,  1.0874]],\n",
       "\n",
       "        [[ 2.1074, -0.2158,  0.3602,  0.1911],\n",
       "         [-0.2158,  0.4808,  0.0472, -0.1503],\n",
       "         [ 0.3602,  0.0472,  0.8035, -0.0177],\n",
       "         [ 0.1911, -0.1503, -0.0177,  0.8448]]], dtype=torch.float64,\n",
       "       grad_fn=<IndexPutBackward0>)\n",
       "</pre> </div></div>"
      ],
      "text/plain": [
       "<IPython.core.display.HTML object>"
      ]
     },
     "metadata": {},
     "output_type": "display_data"
    },
    {
     "data": {
      "text/plain": [
       "(torch.Size([2, 4, 1]), torch.Size([2, 4, 4]))"
      ]
     },
     "execution_count": null,
     "metadata": {},
     "output_type": "execute_result"
    }
   ],
   "source": [
    "m, P = _filter_update_mask_batch(H, d, R, m_m, P_m, obs, mask[:,0,:] )\n",
    "show_as_row(m, P)\n",
    "m.shape, P.shape"
   ]
  },
  {
   "cell_type": "code",
   "execution_count": null,
   "id": "d4ee11fd-ec1c-495e-9e41-cd70717206a1",
   "metadata": {},
   "outputs": [
    {
     "data": {
      "text/plain": [
       "tensor([[[-1.1769, -2.7620, -0.9158, -2.4954],\n",
       "         [-2.0431,  0.8269,  0.5074, -1.5867],\n",
       "         [ 0.1472,  0.0285,  0.1012,  0.0356]]], dtype=torch.float64)"
      ]
     },
     "execution_count": null,
     "metadata": {},
     "output_type": "execute_result"
    }
   ],
   "source": [
    "m.sum().backward(retain_graph=True) # check that pytorch can compute gradients with the whole batch and gradients aren't nan\n",
    "H.grad"
   ]
  },
  {
   "cell_type": "markdown",
   "id": "173294f6-f74b-4a93-9ba6-c4695284d125",
   "metadata": {},
   "source": [
    "### Filter All"
   ]
  },
  {
   "cell_type": "markdown",
   "id": "1e345bda-8a17-44be-bd6f-15f5608ac220",
   "metadata": {},
   "source": [
    "The resursive version of the kalman filter is apperently breaking pytorch gradients calculations so a workaround is needed.\n",
    "During the loop the states are saved in a python list and then at the end they are combined back into a tensor.\n",
    "The last line of the function does:\n",
    "\n",
    "- convert lists to tensors\n",
    "- correct order dimensions"
   ]
  },
  {
   "cell_type": "code",
   "execution_count": null,
   "id": "49b44fc6-a9f5-4873-8610-c889c9a1b6b8",
   "metadata": {},
   "outputs": [],
   "source": [
    "#| export\n",
    "def _times2batch(x):\n",
    "    \"\"\"Permutes `x` so that the first dimension is the number of batches and not the times\"\"\"\n",
    "    return x.permute(1,0,-2,-1)"
   ]
  },
  {
   "cell_type": "code",
   "execution_count": null,
   "id": "2f045ed4-40bc-4451-b836-5bc4e5b4d4b9",
   "metadata": {},
   "outputs": [],
   "source": [
    "#| export\n",
    "@patch\n",
    "def _filter_all(self: KalmanFilter,\n",
    "            obs: Tensor, # `([n_batches], n_obs, [self.n_dim_obs])` where `n_batches` and `n_dim_obs` dimensions can be omitted if 1\n",
    "            mask: Tensor, # `([n_batches], n_obs, [self.n_dim_obs])` where `n_batches` and `n_dim_obs` dimensions can be omitted if 1\n",
    "            control: Tensor, # ([n_batches], n_obs, [self.n_dim_contr]) \n",
    "            \n",
    "           ) ->Tuple[ListMNormal, ListMNormal]: # (Filtered state, predicted state) with shape (n_batches, n_obs, self.n_dim_state)\n",
    "    \"\"\"Filter observations using kalman filter \"\"\"\n",
    "    obs, mask, control = self._parse_obs(obs, mask, control)\n",
    "    n_obs = obs.shape[1]\n",
    "    bs = obs.shape[0]\n",
    "    # lists are mutable so need to copy them\n",
    "    m_ms, P_ms, ms, Ps = [[None for _ in range(n_obs)].copy() for _ in range(4)] \n",
    "\n",
    "    for t in range(n_obs):\n",
    "        # --- Predict\n",
    "        if t == 0:\n",
    "            m_ms[t], P_ms[t] = self.m0.expand(bs, -1, -1), self.P0.expand(bs, -1, -1)\n",
    "        else:\n",
    "            m_ms[t], P_ms[t] = _filter_predict(self.A, self.Q, self.b,\n",
    "                                               self.B if self.use_control else torch.zeros_like(self.B), # maybe disable control\n",
    "                                               ms[t - 1], Ps[t - 1], control[:,t,:])\n",
    "        \n",
    "        # --- Update\n",
    "        ms[t], Ps[t] = _filter_update_mask_batch(self.H, self.d, self.R, m_ms[t], P_ms[t], obs[:,t,:], mask[:,t,:])\n",
    "        \n",
    "        if self.cov_checker is not None:\n",
    "            self.cov_checker.check(P_ms[t], t=t, name=\"filter_predict\")\n",
    "            self.cov_checker.check(Ps[t], t=t, name=\"filter_update\")\n",
    "    \n",
    "    m_ms, P_ms, ms, Ps = list(maps(torch.stack, _times2batch, (m_ms, P_ms, ms, Ps,))) # reorder dimensions and convert to tensor\n",
    "    return ListMNormal(ms, Ps), ListMNormal(m_ms, P_ms) "
   ]
  },
  {
   "cell_type": "code",
   "execution_count": null,
   "id": "1fdc67a7-1a3f-4920-810d-03c968cdf86a",
   "metadata": {},
   "outputs": [],
   "source": [
    "filt_state, pred_state  = k._filter_all(data, mask, control)"
   ]
  },
  {
   "cell_type": "code",
   "execution_count": null,
   "id": "231da1ac-af45-47fd-9dfc-66521e7a3722",
   "metadata": {},
   "outputs": [],
   "source": [
    "(ms, Ps), (m_ms, P_ms) = filt_state, pred_state"
   ]
  },
  {
   "cell_type": "markdown",
   "id": "a90a2d45-baed-4c3b-9a3a-2994e5a7a278",
   "metadata": {},
   "source": [
    "Predictions at time `0` for both batches"
   ]
  },
  {
   "cell_type": "code",
   "execution_count": null,
   "id": "fef85013-d727-4bdd-ba84-a31ba313d3a7",
   "metadata": {},
   "outputs": [
    {
     "data": {
      "text/html": [
       "<div style=\"display: flex; column-gap: 20px; flex-wrap: wrap;\" class='table table-striped table-sm'> <div><p style='font-size: 1.2rem;'>#0</p> <pre>torch.Size([2, 10, 4, 1])\n",
       "</pre> </div><div><p style='font-size: 1.2rem;'>#1</p> <pre>torch.Size([2, 10, 4, 4])\n",
       "</pre> </div><div><p style='font-size: 1.2rem;'>#2</p> <pre>torch.Size([2, 10, 4, 1])\n",
       "</pre> </div><div><p style='font-size: 1.2rem;'>#3</p> <pre>torch.Size([2, 10, 4, 4])\n",
       "</pre> </div></div>"
      ],
      "text/plain": [
       "<IPython.core.display.HTML object>"
      ]
     },
     "metadata": {},
     "output_type": "display_data"
    }
   ],
   "source": [
    "show_as_row(*map(Self.shape(), (m_ms, P_ms, ms, Ps,)))"
   ]
  },
  {
   "cell_type": "code",
   "execution_count": null,
   "id": "f93a4e7d-8a82-4c8a-be3f-7c6f63278258",
   "metadata": {},
   "outputs": [
    {
     "data": {
      "text/html": [
       "<div style=\"display: flex; column-gap: 20px; flex-wrap: wrap;\" class='table table-striped table-sm'> <div><p style='font-size: 1.2rem;'>#0</p> <pre>tensor([[0.6498],\n",
       "        [0.3257],\n",
       "        [0.8462],\n",
       "        [0.7727]], dtype=torch.float64, grad_fn=<SelectBackward0>)\n",
       "</pre> </div><div><p style='font-size: 1.2rem;'>#1</p> <pre>tensor([[0.7511, 0.6229, 0.6414, 0.4561],\n",
       "        [0.6229, 1.2138, 0.6974, 0.9224],\n",
       "        [0.6414, 0.6974, 1.4388, 1.4051],\n",
       "        [0.4561, 0.9224, 1.4051, 3.1638]], dtype=torch.float64,\n",
       "       grad_fn=<SelectBackward0>)\n",
       "</pre> </div><div><p style='font-size: 1.2rem;'>#2</p> <pre>tensor([[0.6392],\n",
       "        [0.3073],\n",
       "        [0.8191],\n",
       "        [0.7180]], dtype=torch.float64, grad_fn=<SelectBackward0>)\n",
       "</pre> </div><div><p style='font-size: 1.2rem;'>#3</p> <pre>tensor([[0.6695, 0.4821, 0.4340, 0.0368],\n",
       "        [0.4821, 0.9707, 0.3394, 0.1987],\n",
       "        [0.4340, 0.3394, 0.9115, 0.3391],\n",
       "        [0.0368, 0.1987, 0.3391, 1.0092]], dtype=torch.float64,\n",
       "       grad_fn=<SelectBackward0>)\n",
       "</pre> </div></div>"
      ],
      "text/plain": [
       "<IPython.core.display.HTML object>"
      ]
     },
     "metadata": {},
     "output_type": "display_data"
    }
   ],
   "source": [
    "show_as_row(*map(lambda x:x[0][0], (m_ms, P_ms, ms, Ps,)))"
   ]
  },
  {
   "cell_type": "markdown",
   "id": "9f928bd5-604f-4a0d-9379-46aba21e31d8",
   "metadata": {},
   "source": [
    "### Filter"
   ]
  },
  {
   "cell_type": "markdown",
   "id": "745027b0-63f0-459f-ad1f-b29c23454dac",
   "metadata": {},
   "source": [
    "The filter methods wraps `_filter_all` but in addition:\n",
    "\n",
    "- returns only filtered state\n",
    "- remove last dimensions from mean"
   ]
  },
  {
   "cell_type": "code",
   "execution_count": null,
   "id": "4d970ee1-3e3f-4707-9f97-3874ad7643b1",
   "metadata": {},
   "outputs": [],
   "source": [
    "#| export\n",
    "@patch\n",
    "def filter(self: KalmanFilter,\n",
    "            obs: Tensor, # `([n_batches], n_obs, [self.n_dim_obs])` where `n_batches` and `n_dim_obs` dimensions can be omitted if 1\n",
    "            mask: Tensor, # `([n_batches], n_obs, [self.n_dim_obs])` where `n_batches` and `n_dim_obs` dimensions can be omitted if 1\n",
    "            control: Tensor, # ([n_batches], n_obs, [self.n_dim_contr])\n",
    "          ) -> ListMNormal: # Filtered state (n_batches, n_obs, self.n_dim_state)\n",
    "    \"\"\"Filter observation\"\"\"\n",
    "    filt_state, _ = self._filter_all(obs, mask, control)\n",
    "    return filt_state"
   ]
  },
  {
   "cell_type": "code",
   "execution_count": null,
   "id": "78611868-2c0b-4e56-aa24-102530648002",
   "metadata": {},
   "outputs": [
    {
     "data": {
      "text/plain": [
       "(torch.Size([2, 10, 4, 1]), torch.Size([2, 10, 4, 4]))"
      ]
     },
     "execution_count": null,
     "metadata": {},
     "output_type": "execute_result"
    }
   ],
   "source": [
    "filt = k.filter(data, mask, control)\n",
    "filt.mean.shape, filt.cov.shape"
   ]
  },
  {
   "cell_type": "markdown",
   "id": "f8d2f1bf-34cd-4e87-a239-2662f6689a53",
   "metadata": {},
   "source": [
    "## Smooth"
   ]
  },
  {
   "cell_type": "markdown",
   "id": "ff2a1878-4e69-4ead-a7b8-cf7dbae5d13e",
   "metadata": {},
   "source": [
    "### Smooth update step"
   ]
  },
  {
   "cell_type": "markdown",
   "id": "8a2e8c24-b7ce-4e7a-9bfa-82c9dd246080",
   "metadata": {},
   "source": [
    "compute the probability of the state at time `t` given all the observations\n",
    "\n",
    "$p(x_t|Y) = \\mathcal{N}(x_t; m_t^s, P_t^s)$ where:\n",
    "\n",
    "- Kalman smoothing gain: $G_t = P_tA^T(P_{t+1}^-)^{-1}$\n",
    "- smoothed mean: $m_t^s = m_t + G_t(m_{t+1}^s - m_{t+1}^-)$\n",
    "- smoothed covariance: $P_t^s = P_t + G_t(P_{t+1}^s - P_{t+1}^-)G_t^T$"
   ]
  },
  {
   "cell_type": "code",
   "execution_count": null,
   "id": "132ddc16-ab0a-4897-8a75-b29092c13b9f",
   "metadata": {},
   "outputs": [],
   "source": [
    "#| export\n",
    "def _smooth_gain(A, P, P_m):\n",
    "    S_C = torch.linalg.cholesky(P_m)\n",
    "    return torch.cholesky_solve(A @ P, S_C).mT"
   ]
  },
  {
   "cell_type": "code",
   "execution_count": null,
   "id": "db8899ef-fa22-4a9f-a4fc-19ebd20ba99a",
   "metadata": {},
   "outputs": [],
   "source": [
    "test_close(_smooth_gain(A, filt_state.cov, pred_state.cov), filt_state.cov @ A.mT @ torch.inverse(pred_state.cov))"
   ]
  },
  {
   "cell_type": "code",
   "execution_count": null,
   "id": "1150e768-834a-413b-bf5e-701c1928723f",
   "metadata": {},
   "outputs": [
    {
     "data": {
      "text/plain": [
       "torch.Size([2, 4, 4])"
      ]
     },
     "execution_count": null,
     "metadata": {},
     "output_type": "execute_result"
    }
   ],
   "source": [
    "K_p = _smooth_gain(A, filt_state[:,0].cov, pred_state[:,0].cov)\n",
    "K_p.shape"
   ]
  },
  {
   "cell_type": "code",
   "execution_count": null,
   "id": "a70f34f0-b035-4bf3-96af-45346ed98a90",
   "metadata": {},
   "outputs": [],
   "source": [
    "#| export\n",
    "def _smooth_mean(K_p,                # [n_dim_state, n_dim_state]\n",
    "               m,         # [n_dim_state] filtered state at time `t`\n",
    "               m_m,         # [n_dim_state] state before filtering at time `t + 1` (= using the observation until time t)\n",
    "               next_m_p): # [n_dim_state] smoothed state at time  `t+1`\n",
    "    return m + K_p @ (next_m_p - m_m)"
   ]
  },
  {
   "cell_type": "code",
   "execution_count": null,
   "id": "790bb7fe-b604-4fb9-b652-b816569f72a4",
   "metadata": {},
   "outputs": [
    {
     "data": {
      "text/plain": [
       "tensor([[[ 0.6254],\n",
       "         [ 0.2922],\n",
       "         [ 0.7965],\n",
       "         [ 0.6964]],\n",
       "\n",
       "        [[-0.1829],\n",
       "         [-0.7088],\n",
       "         [-0.0211],\n",
       "         [ 0.2570]]], dtype=torch.float64, grad_fn=<AddBackward0>)"
      ]
     },
     "execution_count": null,
     "metadata": {},
     "output_type": "execute_result"
    }
   ],
   "source": [
    "_smooth_mean(K_p, filt_state[:,0].mean, pred_state[:,0].mean, filt_state[:,0].mean)"
   ]
  },
  {
   "cell_type": "code",
   "execution_count": null,
   "id": "af71c9eb-0dfd-444f-ab18-bb27dbe5cfcd",
   "metadata": {},
   "outputs": [],
   "source": [
    "#| export\n",
    "def _smooth_cov(K_p, P, P_m, next_P_p):\n",
    "    P_p = P + K_p @ (next_P_p - P_m) @ K_p.mT \n",
    "    return (P_p + P_p.mT) / 2 # force symmetric to improve num stability "
   ]
  },
  {
   "cell_type": "code",
   "execution_count": null,
   "id": "9ab70d31-144b-4704-9533-52b0116c88b5",
   "metadata": {},
   "outputs": [
    {
     "data": {
      "text/plain": [
       "tensor([[[ 0.5327,  0.3321,  0.2094, -0.1773],\n",
       "         [ 0.3321,  0.8061,  0.0930, -0.0363],\n",
       "         [ 0.2094,  0.0930,  0.5427, -0.0125],\n",
       "         [-0.1773, -0.0363, -0.0125,  0.6738]],\n",
       "\n",
       "        [[ 0.3342,  0.0671,  0.0652, -0.2001],\n",
       "         [ 0.0671,  0.3478, -0.1115, -0.1245],\n",
       "         [ 0.0652, -0.1115,  0.4549, -0.0025],\n",
       "         [-0.2001, -0.1245, -0.0025,  0.6981]]], dtype=torch.float64,\n",
       "       grad_fn=<DivBackward0>)"
      ]
     },
     "execution_count": null,
     "metadata": {},
     "output_type": "execute_result"
    }
   ],
   "source": [
    "_smooth_cov(K_p, filt_state[:,0].cov, pred_state[:,0].cov, filt_state[:,0].cov)"
   ]
  },
  {
   "cell_type": "code",
   "execution_count": null,
   "id": "57d5c739-3863-40a5-8b96-1ee12c476ca9",
   "metadata": {},
   "outputs": [],
   "source": [
    "#| export\n",
    "def _smooth_update(A,                # [n_dim_state, n_dim_state]\n",
    "                   filt_state: MNormal,         # [n_dim_state] filtered state at time `t`\n",
    "                   pred_state: MNormal,         # [n_dim_state] state before filtering at time `t + 1` (= using the observation until time t)\n",
    "                   next_smoothed_state: Normal, # [n_dim_state] smoothed state at time  `t+1`\n",
    "                   ) -> MNormal:                # mean and cov of smoothed state at time `t`\n",
    "    \"\"\"Correct a pred state with a Kalman Smoother update\"\"\"\n",
    "    smooth_gain = _smooth_gain(A, filt_state.cov, pred_state.cov)\n",
    "\n",
    "    m_p = _smooth_mean(smooth_gain, filt_state.mean, pred_state.mean, next_smoothed_state.mean)\n",
    "    P_p = _smooth_cov(smooth_gain,  filt_state.cov, pred_state.cov, next_smoothed_state.cov)\n",
    "    \n",
    "    return MNormal(m_p, P_p)"
   ]
  },
  {
   "cell_type": "code",
   "execution_count": null,
   "id": "8a7f46d1-5d5e-48fa-92d7-cb37e715d2d7",
   "metadata": {},
   "outputs": [
    {
     "data": {
      "text/html": [
       "<div style=\"display: flex; column-gap: 20px; flex-wrap: wrap;\" class='table table-striped table-sm'> <div><p style='font-size: 1.2rem;'>#0</p> <pre>tensor([[[ 0.6254],\n",
       "         [ 0.2922],\n",
       "         [ 0.7965],\n",
       "         [ 0.6964]],\n",
       "\n",
       "        [[-0.1829],\n",
       "         [-0.7088],\n",
       "         [-0.0211],\n",
       "         [ 0.2570]]], dtype=torch.float64, grad_fn=<AddBackward0>)\n",
       "</pre> </div><div><p style='font-size: 1.2rem;'>#1</p> <pre>tensor([[[ 0.5327,  0.3321,  0.2094, -0.1773],\n",
       "         [ 0.3321,  0.8061,  0.0930, -0.0363],\n",
       "         [ 0.2094,  0.0930,  0.5427, -0.0125],\n",
       "         [-0.1773, -0.0363, -0.0125,  0.6738]],\n",
       "\n",
       "        [[ 0.3342,  0.0671,  0.0652, -0.2001],\n",
       "         [ 0.0671,  0.3478, -0.1115, -0.1245],\n",
       "         [ 0.0652, -0.1115,  0.4549, -0.0025],\n",
       "         [-0.2001, -0.1245, -0.0025,  0.6981]]], dtype=torch.float64,\n",
       "       grad_fn=<DivBackward0>)\n",
       "</pre> </div></div>"
      ],
      "text/plain": [
       "<IPython.core.display.HTML object>"
      ]
     },
     "metadata": {},
     "output_type": "display_data"
    }
   ],
   "source": [
    "show_as_row(*_smooth_update(A, filt_state[:, 0], pred_state[:, 0], filt_state[:, 0]))"
   ]
  },
  {
   "cell_type": "code",
   "execution_count": null,
   "id": "4718e339-fc4f-4794-a3d2-d72ef59d16ca",
   "metadata": {},
   "outputs": [
    {
     "data": {
      "text/html": [
       "<div style=\"display: flex; column-gap: 20px; flex-wrap: wrap;\" class='table table-striped table-sm'> <div><p style='font-size: 1.2rem;'>#0</p> <pre>torch.Size([2, 4, 1])\n",
       "</pre> </div><div><p style='font-size: 1.2rem;'>#1</p> <pre>torch.Size([2, 4, 4])\n",
       "</pre> </div></div>"
      ],
      "text/plain": [
       "<IPython.core.display.HTML object>"
      ]
     },
     "metadata": {},
     "output_type": "display_data"
    }
   ],
   "source": [
    "show_as_row(*map(Self.shape(), _smooth_update(A, MNormal(m_m, P_m), MNormal(m_m, P_m), MNormal(m_m, P_m))))"
   ]
  },
  {
   "cell_type": "markdown",
   "id": "78cf23fc-5a11-48e2-b37d-5c640e23d79f",
   "metadata": {},
   "source": [
    "### Smooth"
   ]
  },
  {
   "cell_type": "code",
   "execution_count": null,
   "id": "7c46309f-70f9-419f-91fc-607ec3e79d77",
   "metadata": {},
   "outputs": [],
   "source": [
    "#| export\n",
    "def _smooth(A, # `[n_dim_state, n_dim_state]`\n",
    "            filt_state: ListMNormal, # `[n_timesteps, n_dim_state]`\n",
    "                # `ms[t]` is the state estimate for time t given obs from times `[0...t]`\n",
    "            pred_state: ListMNormal, # `[n_timesteps, n_dim_state]`\n",
    "                # `m_ms[t]` is the state estimate for time t given obs from times `[0...t-1]`\n",
    "            cov_checker = None\n",
    "           ) -> ListMNormal: # `[n_timesteps, n_dim_state]` Smoothed state \n",
    "    \"\"\"Apply the Kalman Smoother\"\"\"\n",
    "    n_obs = pred_state.mean.shape[1]\n",
    "\n",
    "    smoothed_state = ListMNormal(torch.zeros_like(filt_state.mean), torch.zeros_like(filt_state.cov))\n",
    "    # For the last timestep cannot use the smoother\n",
    "    smoothed_state.mean[:,-1] = filt_state.mean[:,-1]\n",
    "    smoothed_state.cov[:,-1] = filt_state.cov[:,-1]\n",
    "\n",
    "    for t in reversed(range(n_obs - 1)):\n",
    "        (smoothed_state.mean[:,t], smoothed_state.cov[:,t]) = (\n",
    "            _smooth_update(\n",
    "                A,\n",
    "                filt_state[:,t],\n",
    "                pred_state[:,t + 1],\n",
    "                smoothed_state[:,t+1],\n",
    "            )\n",
    "        )\n",
    "        if cov_checker is not None:\n",
    "            cov_checker.check(smoothed_state.cov[:,t], name=\"smooth\", t=t)\n",
    "    return smoothed_state"
   ]
  },
  {
   "cell_type": "code",
   "execution_count": null,
   "id": "5475b7ee-c9df-4aca-b490-2f4a2b331d4e",
   "metadata": {},
   "outputs": [],
   "source": [
    "smooth_state = _smooth(k.A,  filt_state, pred_state)"
   ]
  },
  {
   "cell_type": "code",
   "execution_count": null,
   "id": "2dd198a6-1513-406f-904f-28088d02e0ad",
   "metadata": {},
   "outputs": [
    {
     "data": {
      "text/html": [
       "<div style=\"display: flex; column-gap: 20px; flex-wrap: wrap;\" class='table table-striped table-sm'> <div><p style='font-size: 1.2rem;'>#0</p> <pre>tensor([[-0.0785],\n",
       "        [-0.5839],\n",
       "        [-0.0959],\n",
       "        [ 0.0031]], dtype=torch.float64, grad_fn=<SelectBackward0>)\n",
       "</pre> </div><div><p style='font-size: 1.2rem;'>#1</p> <pre>tensor([[ 0.4578,  0.2300,  0.1755, -0.1481],\n",
       "        [ 0.2300,  0.6676,  0.0346, -0.0171],\n",
       "        [ 0.1755,  0.0346,  0.5665,  0.0642],\n",
       "        [-0.1481, -0.0171,  0.0642,  0.7652]], dtype=torch.float64,\n",
       "       grad_fn=<SelectBackward0>)\n",
       "</pre> </div></div>"
      ],
      "text/plain": [
       "<IPython.core.display.HTML object>"
      ]
     },
     "metadata": {},
     "output_type": "display_data"
    }
   ],
   "source": [
    "show_as_row(smooth_state.mean[0][0], smooth_state.cov[0][0])"
   ]
  },
  {
   "cell_type": "code",
   "execution_count": null,
   "id": "90c7a3d7-5f9c-4a4d-9980-f33fa60e7226",
   "metadata": {},
   "outputs": [
    {
     "data": {
      "text/html": [
       "<div style=\"display: flex; column-gap: 20px; flex-wrap: wrap;\" class='table table-striped table-sm'> <div><p style='font-size: 1.2rem;'>#0</p> <pre>torch.Size([2, 10, 4, 1])\n",
       "</pre> </div><div><p style='font-size: 1.2rem;'>#1</p> <pre>torch.Size([2, 10, 4, 4])\n",
       "</pre> </div></div>"
      ],
      "text/plain": [
       "<IPython.core.display.HTML object>"
      ]
     },
     "metadata": {},
     "output_type": "display_data"
    }
   ],
   "source": [
    "show_as_row(smooth_state.mean.shape, smooth_state.cov.shape)"
   ]
  },
  {
   "cell_type": "markdown",
   "id": "bc0299de-69cf-4351-ba84-12871662230b",
   "metadata": {},
   "source": [
    "### KalmanFilter method"
   ]
  },
  {
   "cell_type": "code",
   "execution_count": null,
   "id": "808bcd96-9e98-4e4f-9b85-cdfb98cb9709",
   "metadata": {},
   "outputs": [],
   "source": [
    "#| export\n",
    "@patch\n",
    "def smooth(self: KalmanFilter,\n",
    "           obs: Tensor,\n",
    "           mask: Tensor,\n",
    "           control: Tensor\n",
    "          ) -> ListMNormal: # `[n_timesteps, n_dim_state]` smoothed state\n",
    "        \n",
    "    \"\"\"Kalman Filter Smoothing\"\"\"\n",
    "\n",
    "    filt_state, pred_state = self._filter_all(obs, mask, control)\n",
    "\n",
    "    smoothed_state = _smooth(self.A,\n",
    "                   filt_state, pred_state,\n",
    "                   self.cov_checker)\n",
    "    return smoothed_state"
   ]
  },
  {
   "cell_type": "code",
   "execution_count": null,
   "id": "bc63fe46-f267-4538-a72b-997747df2391",
   "metadata": {},
   "outputs": [],
   "source": [
    "smoothed_state = k.smooth(data, mask, control)"
   ]
  },
  {
   "cell_type": "code",
   "execution_count": null,
   "id": "70f1c935-c1a8-4528-ab93-7f7711b8d521",
   "metadata": {},
   "outputs": [
    {
     "data": {
      "text/html": [
       "<div style=\"display: flex; column-gap: 20px; flex-wrap: wrap;\" class='table table-striped table-sm'> <div><p style='font-size: 1.2rem;'>#0</p> <pre>torch.Size([2, 10, 4, 1])\n",
       "</pre> </div><div><p style='font-size: 1.2rem;'>#1</p> <pre>torch.Size([2, 10, 4, 4])\n",
       "</pre> </div></div>"
      ],
      "text/plain": [
       "<IPython.core.display.HTML object>"
      ]
     },
     "metadata": {},
     "output_type": "display_data"
    }
   ],
   "source": [
    "show_as_row(smoothed_state.mean.shape, smoothed_state.cov.shape)"
   ]
  },
  {
   "cell_type": "code",
   "execution_count": null,
   "id": "fb682c63-7440-4c6d-bd14-3c1ae36f06c8",
   "metadata": {},
   "outputs": [
    {
     "data": {
      "text/plain": [
       "tensor([[[-4.9495, -5.2939, -7.8642,  0.2546],\n",
       "         [ 0.2445,  8.3747, 13.5693, -7.4543],\n",
       "         [-5.4811, -5.2497, -6.6092, -1.5187],\n",
       "         [-1.5874,  2.1945,  3.6410, -2.3143]]], dtype=torch.float64)"
      ]
     },
     "execution_count": null,
     "metadata": {},
     "output_type": "execute_result"
    }
   ],
   "source": [
    "smoothed_state.mean.sum().backward(retain_graph=True)\n",
    "A.grad"
   ]
  },
  {
   "cell_type": "markdown",
   "id": "7e0600dd-9baf-4796-b3f5-4ae1c2239453",
   "metadata": {},
   "source": [
    "## Predict"
   ]
  },
  {
   "cell_type": "markdown",
   "id": "105a85b5-6806-4dc2-9d34-1ff68a9b2b27",
   "metadata": {},
   "source": [
    "The prediction at time t ($y_t$) are computed rom the state ($x_t$) using this formula:\n",
    "$$p(y_t|x_t) = \\mathcal{N}(Hx_t + d, R + HP^s_tH^T)$$\n",
    "\n",
    "this works both if the state was filtered or smoother"
   ]
  },
  {
   "cell_type": "markdown",
   "id": "25b398c8-3d47-4c50-8197-e692faf7df51",
   "metadata": {},
   "source": [
    "This add the supports for conditional predictions, which means that at the time (t) when we are making the predictions some of the variables have been actually observed. Since the model prediction is a normal distribution we can condition on the observed values and thus improve the predictions. See `conditional_gaussian`"
   ]
  },
  {
   "cell_type": "markdown",
   "id": "1e20b5fd-4dd0-4cb9-be84-d1d3702c5695",
   "metadata": {},
   "source": [
    "In order to have conditional predictions that make sense it's not possible to return the full covariance matrix for the predictions but only the standard deviations"
   ]
  },
  {
   "cell_type": "code",
   "execution_count": null,
   "id": "cd8b3350-34f3-45f1-b7a6-0159fbc8e5e0",
   "metadata": {},
   "outputs": [],
   "source": [
    "test_m = torch.tensor(\n",
    "    [[True, True, True,],\n",
    "    [False, True, True],\n",
    "    [False, False, False]]\n",
    ")"
   ]
  },
  {
   "cell_type": "code",
   "execution_count": null,
   "id": "82e30d14-d0c1-433a-a3e5-d31b4e9378f9",
   "metadata": {},
   "outputs": [
    {
     "data": {
      "text/plain": [
       "tensor([False,  True, False])"
      ]
     },
     "execution_count": null,
     "metadata": {},
     "output_type": "execute_result"
    }
   ],
   "source": [
    "torch.logical_xor(test_m.all(-1), test_m.any(-1))"
   ]
  },
  {
   "cell_type": "code",
   "execution_count": null,
   "id": "d39b3aa0-093a-435a-9116-e1c3f1e47f5c",
   "metadata": {},
   "outputs": [],
   "source": [
    "A = torch.rand(2,2,3,3)"
   ]
  },
  {
   "cell_type": "code",
   "execution_count": null,
   "id": "e1f0a861-e123-41da-94aa-fcb0f57382d7",
   "metadata": {},
   "outputs": [
    {
     "data": {
      "text/plain": [
       "torch.Size([2, 2, 3, 3])"
      ]
     },
     "execution_count": null,
     "metadata": {},
     "output_type": "execute_result"
    }
   ],
   "source": [
    "(A @ A).shape"
   ]
  },
  {
   "cell_type": "markdown",
   "id": "f72c1932-14c6-4c37-809d-b1b2a6c7a765",
   "metadata": {},
   "source": [
    "predict can be vectorized across both the batch and the timesteps, except for timesteps that require conditional predictions"
   ]
  },
  {
   "cell_type": "code",
   "execution_count": null,
   "id": "9f4db221-10b7-4d7a-81ec-3fb92a1f32cb",
   "metadata": {},
   "outputs": [],
   "source": [
    "#| export\n",
    "@patch\n",
    "def _obs_from_state(self: KalmanFilter, state: ListMNormal):\n",
    "\n",
    "    mean = self.H @ state.mean + self.d\n",
    "    cov = self.H @ state.cov @ self.H.mT + self.R\n",
    "    \n",
    "    if self.cov_checker is not None:\n",
    "        for c in cov: # this is batched and for all timestamps\n",
    "            self.cov_checker.check(c, caller='predict')\n",
    "    \n",
    "    return ListMNormal(mean.squeeze(-1), cov)"
   ]
  },
  {
   "cell_type": "code",
   "execution_count": null,
   "id": "21402787-cf5f-4498-8ff4-fc6d865006a6",
   "metadata": {},
   "outputs": [
    {
     "data": {
      "text/plain": [
       "(torch.Size([2, 10, 4, 1]), torch.Size([2, 10, 4, 4]))"
      ]
     },
     "execution_count": null,
     "metadata": {},
     "output_type": "execute_result"
    }
   ],
   "source": [
    "smoothed_state.mean.shape, smoothed_state.cov.shape"
   ]
  },
  {
   "cell_type": "code",
   "execution_count": null,
   "id": "e0987627-8ccc-4fa5-8ab0-f95d871ba199",
   "metadata": {},
   "outputs": [
    {
     "data": {
      "text/plain": [
       "torch.Size([2, 10, 3, 1])"
      ]
     },
     "execution_count": null,
     "metadata": {},
     "output_type": "execute_result"
    }
   ],
   "source": [
    "(k.H @ smoothed_state.mean).shape"
   ]
  },
  {
   "cell_type": "code",
   "execution_count": null,
   "id": "5ac36f65-dde3-45ed-b6f0-e7ed0931f0a7",
   "metadata": {},
   "outputs": [
    {
     "data": {
      "text/plain": [
       "torch.Size([2, 10, 3])"
      ]
     },
     "execution_count": null,
     "metadata": {},
     "output_type": "execute_result"
    }
   ],
   "source": [
    "pred_obs0 = k._obs_from_state(smoothed_state)\n",
    "pred_obs0.mean.shape"
   ]
  },
  {
   "cell_type": "code",
   "execution_count": null,
   "id": "2950683a-cadc-45e2-aed3-639a56e6b324",
   "metadata": {},
   "outputs": [
    {
     "data": {
      "text/plain": [
       "torch.Size([2, 10, 3, 3])"
      ]
     },
     "execution_count": null,
     "metadata": {},
     "output_type": "execute_result"
    }
   ],
   "source": [
    "pred_obs0.cov.shape"
   ]
  },
  {
   "cell_type": "code",
   "execution_count": null,
   "id": "40e3da4c-e63f-40f0-b3dc-7cf1a19f5832",
   "metadata": {},
   "outputs": [],
   "source": [
    "#| export\n",
    "@patch\n",
    "def predict(self: KalmanFilter, obs, mask, control, smooth=True):\n",
    "    \"\"\"Predicted observations at all times \"\"\"\n",
    "    if self.use_conditional and self.pred_only_gap:\n",
    "        raise ValueError(\"Kalman Filter predict cannot have conditional predictions and all predictions at the same time\")\n",
    "    \n",
    "    state = self.smooth(obs, mask, control) if smooth else self.filter(obs, mask, control)\n",
    "    obs, mask, control = self._parse_obs(obs, mask, control)\n",
    "    \n",
    "    pred_obs = self._obs_from_state(state)\n",
    "    pred_mean, pred_std = pred_obs.mean, cov2std(pred_obs.cov)\n",
    "    \n",
    "    if self.use_conditional:\n",
    "        # conditional predictions are slow, do only if some obs are missing \n",
    "        mask = mask.squeeze(0)\n",
    "        cond_mask = torch.logical_xor(mask.all(-1), mask.any(-1))\n",
    "        # there may be no conditional prediction to do\n",
    "        if cond_mask.any():\n",
    "            # this cannot be batched so returns a list\n",
    "            cond_preds = cond_gaussian_batched(pred_obs[cond_mask], obs[cond_mask].squeeze(-1), mask[cond_mask])\n",
    "\n",
    "            for i, c_pred in enumerate(cond_preds):\n",
    "                m = ~mask[cond_mask][i]\n",
    "                pred_mean[cond_mask][i][m] = c_pred.mean\n",
    "                pred_std [cond_mask][i][m] = cov2std(c_pred.cov)\n",
    "    \n",
    "    return ListNormal(pred_mean, pred_std)"
   ]
  },
  {
   "cell_type": "code",
   "execution_count": null,
   "id": "d8a1d554-5ac8-44ef-b849-00512f68deda",
   "metadata": {},
   "outputs": [],
   "source": [
    "pred = k.predict(data, mask, control)"
   ]
  },
  {
   "cell_type": "code",
   "execution_count": null,
   "id": "b81dcc01-850c-409b-9de2-5a0643bc9f97",
   "metadata": {},
   "outputs": [
    {
     "data": {
      "text/plain": [
       "(torch.Size([2, 10, 3]), torch.Size([2, 10, 3]))"
      ]
     },
     "execution_count": null,
     "metadata": {},
     "output_type": "execute_result"
    }
   ],
   "source": [
    "pred.mean.shape, pred.std.shape"
   ]
  },
  {
   "cell_type": "markdown",
   "id": "c783f1a6-7a9c-4dc6-8788-b119ed310f64",
   "metadata": {},
   "source": [
    "Gradients ..."
   ]
  },
  {
   "cell_type": "code",
   "execution_count": null,
   "id": "9bcf8a74-78e4-40dc-98fc-b33378fcc161",
   "metadata": {},
   "outputs": [],
   "source": [
    "def get_grad_mask(x):\n",
    "    \"filter gradient after sub the masks value with x\"\n",
    "    d = data.clone()\n",
    "    d[~mask] = x\n",
    "    k.predict(data, mask, control).mean.sum().backward(retain_graph=True)\n",
    "    grad = k.R_raw.grad.clone()\n",
    "    k.zero_grad() \n",
    "    return grad"
   ]
  },
  {
   "cell_type": "code",
   "execution_count": null,
   "id": "35cf6cbe-8c4d-41e7-8cc5-994e0c6f1eb3",
   "metadata": {},
   "outputs": [
    {
     "data": {
      "text/plain": [
       "tensor([[[ -2.5082,   0.0000,   0.0000],\n",
       "         [-11.7667,  -0.1206,   0.0000],\n",
       "         [ -7.6345,  -8.3390,  -4.0905]]], dtype=torch.float64)"
      ]
     },
     "execution_count": null,
     "metadata": {},
     "output_type": "execute_result"
    }
   ],
   "source": [
    "get_grad_mask(10)"
   ]
  },
  {
   "cell_type": "code",
   "execution_count": null,
   "id": "236be332-4ed5-45f1-84f3-64e181a78040",
   "metadata": {},
   "outputs": [],
   "source": [
    "test_close(get_grad_mask(1), get_grad_mask(10))"
   ]
  },
  {
   "cell_type": "code",
   "execution_count": null,
   "id": "2fd17686-362e-44e1-a5ab-f0822496e96b",
   "metadata": {},
   "outputs": [],
   "source": [
    "#| export\n",
    "@patch\n",
    "def predict(self: KalmanFilter, obs, mask, control, smooth=True):\n",
    "    \"\"\"Predicted observations at all times \"\"\"\n",
    "    state = self.smooth(obs, mask, control) if smooth else self.filter(obs, mask, control)\n",
    "    obs, mask, control = self._parse_obs(obs, mask, control)\n",
    "    \n",
    "    pred_obs = self._obs_from_state(state)\n",
    "    pred_mean, pred_std = pred_obs.mean, cov2std(pred_obs.cov)\n",
    "    \n",
    "    if self.use_conditional:\n",
    "        # conditional predictions are slow, do only if some obs are missing \n",
    "        mask = mask.squeeze(0)\n",
    "        cond_mask = torch.logical_xor(mask.all(-1), mask.any(-1))\n",
    "        # this cannot be batched so returns a list\n",
    "        cond_preds = cond_gaussian_batched(\n",
    "            pred_obs[cond_mask], obs[cond_mask].squeeze(-1), mask[cond_mask])\n",
    "        \n",
    "        for i, c_pred in enumerate(cond_preds):\n",
    "            m = ~mask[cond_mask][i]\n",
    "            pred_mean[cond_mask][i][m] = c_pred.mean\n",
    "            pred_std [cond_mask][i][m] = cov2std(c_pred.cov)\n",
    "    \n",
    "    return ListNormal(pred_mean, pred_std)"
   ]
  },
  {
   "cell_type": "code",
   "execution_count": null,
   "id": "be89b3b8-1ff2-4177-be49-2c06579608b7",
   "metadata": {},
   "outputs": [],
   "source": [
    "@patch\n",
    "def predict_times(self: KalmanFilter, times, obs, mask=None, smooth=True, check_args=None):\n",
    "    \"\"\"Predicted observations at specific times \"\"\"\n",
    "    state = self.smooth(obs, mask, check_args) if smooth else self.filter(obs, mask, check_args)\n",
    "    obs, mask = self._parse_obs(obs, mask)\n",
    "    times = array1d(times)\n",
    "    \n",
    "    n_timesteps = obs.shape[0]\n",
    "    n_features = obs.shape[1] if len(obs.shape) > 1 else 1\n",
    "    \n",
    "    if times.max() > n_timesteps or times.min() < 0:\n",
    "        raise ValueError(f\"provided times range from {times.min()} to {times.max()}, which is outside allowed range : 0 to {n_timesteps}\")\n",
    "\n",
    "    means = torch.empty((times.shape[0], n_features), dtype=obs.dtype, device=obs.device)\n",
    "    stds = torch.empty((times.shape[0], n_features), dtype=obs.dtype, device=obs.device) \n",
    "    for i, t in enumerate(times):\n",
    "        mean, std = self._obs_from_state(\n",
    "            state.mean[t],\n",
    "            state.cov[t],\n",
    "            {'t': t, **check_args} if check_args is not None else None\n",
    "        )\n",
    "        \n",
    "        means[i], stds[i] = _get_cond_pred(ListNormal(mean, std), obs[t], mask[t])\n",
    "    \n",
    "    return ListNormal(means, stds)  "
   ]
  },
  {
   "cell_type": "markdown",
   "id": "1aa536fc-6d71-4bc9-9ff3-2d3fa29540c0",
   "metadata": {},
   "source": [
    "# Numerical Stable Kalman Filter (Square Root Filter)"
   ]
  },
  {
   "cell_type": "code",
   "execution_count": null,
   "id": "e58fbd6c-b54c-4bb3-b034-2ec68eba10fe",
   "metadata": {},
   "outputs": [],
   "source": [
    "kSR = KalmanFilterSR.init_random(3,4,3)"
   ]
  },
  {
   "cell_type": "markdown",
   "id": "cfe43da6-ffa9-4354-a16f-d8da7795a37d",
   "metadata": {},
   "source": [
    "## Filter "
   ]
  },
  {
   "cell_type": "markdown",
   "id": "deab232e-e6e9-42e0-a198-2d6dc9164956",
   "metadata": {},
   "source": [
    "### Filter predict"
   ]
  },
  {
   "cell_type": "markdown",
   "id": "a748cd9c-9686-46d7-bbe3-ad2ed9742e83",
   "metadata": {},
   "source": [
    "#### Covariance"
   ]
  },
  {
   "cell_type": "markdown",
   "id": "d60db3ae-2363-4e45-a7cb-3ab9572d2f5e",
   "metadata": {},
   "source": [
    "Implement the numerical stable version of the covariance update"
   ]
  },
  {
   "cell_type": "code",
   "execution_count": null,
   "id": "6d02f212-3afb-4f62-af2b-97944c3b51a3",
   "metadata": {},
   "outputs": [],
   "source": [
    "A, Q, b, B, m_pr,P_pr= (k.A, k.Q, k.b, k.B,torch.concat([k.m0]*2), torch.concat([k.P0]*2))"
   ]
  },
  {
   "cell_type": "code",
   "execution_count": null,
   "id": "e1d03e2f-dcd6-4dcf-9adc-23ccde561c87",
   "metadata": {},
   "outputs": [],
   "source": [
    "Q_C = kSR.Q_C"
   ]
  },
  {
   "cell_type": "code",
   "execution_count": null,
   "id": "ec6f8838-4498-4d9e-a6ac-a1d8035a86a2",
   "metadata": {},
   "outputs": [
    {
     "data": {
      "text/plain": [
       "tensor([[[1.9504, 2.3535, 2.1727, 2.2936],\n",
       "         [2.3535, 5.8436, 5.0464, 6.0831],\n",
       "         [2.1727, 5.0464, 6.2940, 6.0969],\n",
       "         [2.2936, 6.0831, 6.0969, 8.1538]],\n",
       "\n",
       "        [[1.9504, 2.3535, 2.1727, 2.2936],\n",
       "         [2.3535, 5.8436, 5.0464, 6.0831],\n",
       "         [2.1727, 5.0464, 6.2940, 6.0969],\n",
       "         [2.2936, 6.0831, 6.0969, 8.1538]]], dtype=torch.float64,\n",
       "       grad_fn=<AddBackward0>)"
      ]
     },
     "execution_count": null,
     "metadata": {},
     "output_type": "execute_result"
    }
   ],
   "source": [
    "_filter_predict_cov_stand(kSR.A, kSR.Q_C @ kSR.Q_C.mT, P_pr)"
   ]
  },
  {
   "cell_type": "code",
   "execution_count": null,
   "id": "efc39c39-d0f5-429d-ae86-30e4fad731a1",
   "metadata": {},
   "outputs": [],
   "source": [
    "P_pr_C = torch.linalg.cholesky(P_pr)"
   ]
  },
  {
   "cell_type": "markdown",
   "id": "dd440d3d-5f4d-428b-831e-40c517ef715e",
   "metadata": {},
   "source": [
    "$$W = \\begin{bmatrix}AC_{t-1}&C_Q\\end{bmatrix}$$"
   ]
  },
  {
   "cell_type": "code",
   "execution_count": null,
   "id": "2be4f5eb-8506-46fa-9f7c-ce86b81b6d67",
   "metadata": {},
   "outputs": [
    {
     "data": {
      "text/plain": [
       "torch.Size([2, 4, 8])"
      ]
     },
     "execution_count": null,
     "metadata": {},
     "output_type": "execute_result"
    }
   ],
   "source": [
    "W = torch.concat([A @ P_pr_C, Q_C.expand_as(P_pr_C)], dim=-1)\n",
    "W.shape"
   ]
  },
  {
   "cell_type": "code",
   "execution_count": null,
   "id": "88b63c6d-005b-4fc2-a318-fd3c123506da",
   "metadata": {},
   "outputs": [],
   "source": [
    "P_m_C = torch.linalg.qr(W.mT).R.mT"
   ]
  },
  {
   "cell_type": "code",
   "execution_count": null,
   "id": "88e644f5-7c57-4630-a23f-da2a015cb63d",
   "metadata": {},
   "outputs": [
    {
     "data": {
      "text/plain": [
       "tensor([[[-2.5709,  0.0000,  0.0000,  0.0000],\n",
       "         [-1.7904,  1.1590,  0.0000,  0.0000],\n",
       "         [-1.9907,  1.3402,  1.2995,  0.0000],\n",
       "         [-2.2985,  0.5614,  0.8125, -1.0728]],\n",
       "\n",
       "        [[-2.5709,  0.0000,  0.0000,  0.0000],\n",
       "         [-1.7904,  1.1590,  0.0000,  0.0000],\n",
       "         [-1.9907,  1.3402,  1.2995,  0.0000],\n",
       "         [-2.2985,  0.5614,  0.8125, -1.0728]]], dtype=torch.float64,\n",
       "       grad_fn=<TransposeBackward0>)"
      ]
     },
     "execution_count": null,
     "metadata": {},
     "output_type": "execute_result"
    }
   ],
   "source": [
    "P_m_C"
   ]
  },
  {
   "cell_type": "code",
   "execution_count": null,
   "id": "6049b8ac-e0bd-40ec-b703-76260fe3db84",
   "metadata": {},
   "outputs": [
    {
     "data": {
      "text/plain": [
       "tensor([[[6.6096, 4.6031, 5.1178, 5.9093],\n",
       "         [4.6031, 4.5489, 5.1174, 4.7660],\n",
       "         [5.1178, 5.1174, 7.4476, 6.3838],\n",
       "         [5.9093, 4.7660, 6.3838, 7.4094]],\n",
       "\n",
       "        [[6.6096, 4.6031, 5.1178, 5.9093],\n",
       "         [4.6031, 4.5489, 5.1174, 4.7660],\n",
       "         [5.1178, 5.1174, 7.4476, 6.3838],\n",
       "         [5.9093, 4.7660, 6.3838, 7.4094]]], dtype=torch.float64,\n",
       "       grad_fn=<UnsafeViewBackward0>)"
      ]
     },
     "execution_count": null,
     "metadata": {},
     "output_type": "execute_result"
    }
   ],
   "source": [
    "P_m_C @ P_m_C.mT"
   ]
  },
  {
   "cell_type": "code",
   "execution_count": null,
   "id": "812d8193-d26b-435b-a4ed-5729828280a1",
   "metadata": {},
   "outputs": [],
   "source": [
    "P_m = _filter_predict_cov_stand(A, Q_C @ Q_C.mT, P_pr)"
   ]
  },
  {
   "cell_type": "code",
   "execution_count": null,
   "id": "c6103e3f-89a1-4299-a176-026e57811199",
   "metadata": {},
   "outputs": [],
   "source": [
    "test_close(P_m, P_m_C @ P_m_C.mT)"
   ]
  },
  {
   "cell_type": "code",
   "execution_count": null,
   "id": "954a8581-5127-46c3-9d83-6d4dbe20ae6c",
   "metadata": {},
   "outputs": [
    {
     "data": {
      "text/plain": [
       "tensor(8.8818e-16, dtype=torch.float64, grad_fn=<MaxBackward1>)"
      ]
     },
     "execution_count": null,
     "metadata": {},
     "output_type": "execute_result"
    }
   ],
   "source": [
    "(P_m - P_m_C @ P_m_C.mT).max()"
   ]
  },
  {
   "cell_type": "code",
   "execution_count": null,
   "id": "191aadb1-b178-4da7-bee4-7b17a6548c95",
   "metadata": {},
   "outputs": [],
   "source": [
    "test_P_m_C = torch.linalg.cholesky(P_m)"
   ]
  },
  {
   "cell_type": "code",
   "execution_count": null,
   "id": "b584b7b0-cab6-40f1-ae72-125ae4a80be5",
   "metadata": {},
   "outputs": [
    {
     "data": {
      "text/plain": [
       "tensor(8.8818e-16, dtype=torch.float64, grad_fn=<MaxBackward1>)"
      ]
     },
     "execution_count": null,
     "metadata": {},
     "output_type": "execute_result"
    }
   ],
   "source": [
    "(test_P_m_C @ test_P_m_C.mT - P_m_C @ P_m_C.mT).max()"
   ]
  },
  {
   "cell_type": "code",
   "execution_count": null,
   "id": "79d151b2-a31b-4940-84e8-2333b958c579",
   "metadata": {},
   "outputs": [
    {
     "data": {
      "text/plain": [
       "tensor(5.1418, dtype=torch.float64, grad_fn=<MaxBackward1>)"
      ]
     },
     "execution_count": null,
     "metadata": {},
     "output_type": "execute_result"
    }
   ],
   "source": [
    "(test_P_m_C - P_m_C).max()"
   ]
  },
  {
   "cell_type": "markdown",
   "id": "61f7fa55-6ed8-4303-89cd-029a27fccec4",
   "metadata": {},
   "source": [
    "Cholesky decomposition is not unique! but the solution is correct"
   ]
  },
  {
   "cell_type": "code",
   "execution_count": null,
   "id": "005de2dd-92a5-482c-a102-dfb02d73dac3",
   "metadata": {},
   "outputs": [],
   "source": [
    "#| export\n",
    "def _filter_predict_cov_SR(A, # transition covariance $A_t$\n",
    "                        Q_C, # Cholesky Factor of transition covariance $Q_t$\n",
    "                        P_pr_C # Cholesky Factor of previous state covariance $P_{t-1}$\n",
    "                       ):\n",
    "    \"\"\"Numerical stable Kalman filter predict for covariance\"\"\"\n",
    "    W = torch.concat([A @ P_pr_C, Q_C.expand_as(P_pr_C)], dim=-1)\n",
    "    return torch.linalg.qr(W.mT).R.mT "
   ]
  },
  {
   "cell_type": "code",
   "execution_count": null,
   "id": "ef5fcf5f-7d35-4834-a289-33c6bf75a80e",
   "metadata": {},
   "outputs": [],
   "source": [
    "P_m_C = _filter_predict_cov_SR(A, Q_C, P_pr_C)\n",
    "test_close(P_m_C @ P_m_C.mT, _filter_predict_cov_stand(A, Q_C @ Q_C.mT, P_pr))"
   ]
  },
  {
   "cell_type": "code",
   "execution_count": null,
   "id": "31137cd5-16d5-4b1c-93b4-3a6aa936cc1e",
   "metadata": {},
   "outputs": [],
   "source": [
    "def fuzz_filter_predict_cov_SR(n=10):\n",
    "    for _ in range(n):\n",
    "        kSR = KalmanFilterSR.init_random(5,10,4)\n",
    "        A, Q_C, b, B, m_pr,P_pr = (kSR.A.unsqueeze(0), kSR.Q_C.unsqueeze(0), kSR.b.unsqueeze(-1),\n",
    "                                                  kSR.B.unsqueeze(0),\n",
    "                                                  torch.stack([kSR.m0]*2).unsqueeze(-1),\n",
    "                                                  torch.stack([kSR.P0]*2))\n",
    "        P_pr_C = torch.linalg.cholesky(P_pr)\n",
    "        P_m_C = _filter_predict_cov_SR(A, Q_C, P_pr_C)\n",
    "        test_close(P_m_C @ P_m_C.mT, _filter_predict_cov_stand(A, Q_C @ Q_C.mT, P_pr), eps=5e-13) "
   ]
  },
  {
   "cell_type": "code",
   "execution_count": null,
   "id": "53176109-e89b-4426-b156-e86ab259c191",
   "metadata": {},
   "outputs": [],
   "source": [
    "fuzz_filter_predict_cov_SR()"
   ]
  },
  {
   "cell_type": "markdown",
   "id": "2df16d8f-bf91-4011-94b7-c07dc2866716",
   "metadata": {},
   "source": [
    "#### Predict"
   ]
  },
  {
   "cell_type": "code",
   "execution_count": null,
   "id": "960a1a8d-c350-4a2a-9ff0-dbd05923e22f",
   "metadata": {},
   "outputs": [],
   "source": [
    "#| export\n",
    "def _filter_predict_SR(A, Q_C, b, B, m_pr, P_pr_C,control) -> Tuple: # predicted state\n",
    "    \"\"\"Calculate the state at time `t` given the state at time `t-1`\"\"\"\n",
    "    m_m = _filter_predict_mean(A, B, b, m_pr, control)\n",
    "    P_m_C = _filter_predict_cov_SR(A, Q_C, P_pr_C)\n",
    "    return (m_m, P_m_C)"
   ]
  },
  {
   "cell_type": "code",
   "execution_count": null,
   "id": "3d7562a3-4c64-4f0d-a75c-81c1f63e8acf",
   "metadata": {},
   "outputs": [
    {
     "data": {
      "text/html": [
       "<div style=\"display: flex; column-gap: 20px; flex-wrap: wrap;\" class='table table-striped table-sm'> <div><p style='font-size: 1.2rem;'>m_m</p> <pre>tensor([[[1.9549],\n",
       "         [2.4811],\n",
       "         [3.3275],\n",
       "         [3.5545]],\n",
       "\n",
       "        [[1.1647],\n",
       "         [2.3109],\n",
       "         [2.4892],\n",
       "         [2.8133]]], dtype=torch.float64, grad_fn=<AddBackward0>)\n",
       "</pre> </div><div><p style='font-size: 1.2rem;'>P_m_C</p> <pre>tensor([[[-1.3966,  0.0000,  0.0000,  0.0000],\n",
       "         [-1.6852, -1.7331,  0.0000,  0.0000],\n",
       "         [-1.5557, -1.3991,  1.3843,  0.0000],\n",
       "         [-1.6423, -1.9130,  0.6253, -1.1858]],\n",
       "\n",
       "        [[-1.3966,  0.0000,  0.0000,  0.0000],\n",
       "         [-1.6852, -1.7331,  0.0000,  0.0000],\n",
       "         [-1.5557, -1.3991,  1.3843,  0.0000],\n",
       "         [-1.6423, -1.9130,  0.6253, -1.1858]]], dtype=torch.float64,\n",
       "       grad_fn=<TransposeBackward0>)\n",
       "</pre> </div></div>"
      ],
      "text/plain": [
       "<IPython.core.display.HTML object>"
      ]
     },
     "metadata": {},
     "output_type": "display_data"
    }
   ],
   "source": [
    "m_m, P_m_C = _filter_predict_SR(kSR.A, kSR.Q_C, kSR.b, kSR.B, m_pr, P_pr_C, control[:,0].unsqueeze(-1)) \n",
    "show_as_row(m_m, P_m_C)"
   ]
  },
  {
   "cell_type": "code",
   "execution_count": null,
   "id": "c55114d5-35ed-41ed-9ee6-38a70aa6d4bc",
   "metadata": {},
   "outputs": [
    {
     "data": {
      "text/plain": [
       "tensor(True)"
      ]
     },
     "execution_count": null,
     "metadata": {},
     "output_type": "execute_result"
    }
   ],
   "source": [
    "is_posdef(P_m_C @ P_m_C.mT).all()"
   ]
  },
  {
   "cell_type": "markdown",
   "id": "10589a9e-c02f-46e5-962f-d36ff1ec9de4",
   "metadata": {},
   "source": [
    "### Filter Update"
   ]
  },
  {
   "cell_type": "code",
   "execution_count": null,
   "id": "9500e5a1-00be-4500-a1ff-8164cd60a1ea",
   "metadata": {},
   "outputs": [],
   "source": [
    "def is_sr(x_C, x): return torch.allclose(x_C @ x_C.mT, x)"
   ]
  },
  {
   "cell_type": "code",
   "execution_count": null,
   "id": "565fb2cc-7c21-4e97-8a4b-c3503b021a39",
   "metadata": {},
   "outputs": [],
   "source": [
    "#| export\n",
    "def cat_2d(x): # matrix as list of list of Tensor\n",
    "    return torch.cat([torch.cat(row, dim=-1) for row in x], dim=-2)"
   ]
  },
  {
   "cell_type": "code",
   "execution_count": null,
   "id": "be6ae980-830d-40c5-ad36-89c01965fcaf",
   "metadata": {},
   "outputs": [],
   "source": [
    "x = [[]]"
   ]
  },
  {
   "cell_type": "markdown",
   "id": "75ae21d2-fec8-47d9-bed6-5f5bb69d2c03",
   "metadata": {},
   "source": [
    "#### Example calculations"
   ]
  },
  {
   "cell_type": "code",
   "execution_count": null,
   "id": "af269e79-cd8f-4a05-b80e-975f42f42389",
   "metadata": {},
   "outputs": [],
   "source": [
    "H, R, R_C, obs = kSR.H, kSR.R, kSR.R_C, data[:,0,:].unsqueeze(-1)\n",
    "P_m = P_m_C @ P_m_C.mT\n",
    "\n",
    "# use standard filter to compute expected result\n",
    "S = H @ P_m @ H.mT + R\n",
    "S_C = torch.linalg.cholesky(S)\n",
    "K = _filter_update_k_gain(H, R, P_m)\n",
    "K_bar = K @ S_C\n",
    "P_stand = _filter_update_cov(H, K, P_m)\n",
    "P_C_stand = torch.linalg.cholesky(P_stand)"
   ]
  },
  {
   "cell_type": "code",
   "execution_count": null,
   "id": "6540d303-2030-42d5-84f3-1b1c3753a233",
   "metadata": {},
   "outputs": [],
   "source": [
    "assert all([is_sr(R_C, R), is_sr(S_C, S)])"
   ]
  },
  {
   "cell_type": "markdown",
   "id": "4af1432b-25c3-4534-b367-3760310dc7e3",
   "metadata": {},
   "source": [
    "$$M = \\begin{bmatrix} R^{1/2} & H(P^-)^{1/2} \\\\ 0 & (P^-)^{1/2} \\end{bmatrix}$$"
   ]
  },
  {
   "cell_type": "code",
   "execution_count": null,
   "id": "7265d1a3-cfec-4045-b027-0dd484aa17a6",
   "metadata": {},
   "outputs": [],
   "source": [
    "M = cat_2d([[R_C.expand(2,-1,-1)              , H @ P_m_C], \n",
    "            [torch.zeros_like((H @ P_m_C).mT),  P_m_C]])"
   ]
  },
  {
   "cell_type": "code",
   "execution_count": null,
   "id": "b765f54e-11db-4613-bb94-8b2c3cc0616c",
   "metadata": {},
   "outputs": [
    {
     "data": {
      "text/plain": [
       "tensor([[ 1.2478,  0.0000,  0.0000, -1.2662, -1.1753,  0.7242, -0.3448],\n",
       "        [ 0.3190,  1.2801,  0.0000, -2.1349, -1.5926,  1.0952, -0.3843],\n",
       "        [ 0.0341,  0.9601,  0.7766, -3.2461, -2.1290,  0.8250, -0.5179],\n",
       "        [ 0.0000,  0.0000,  0.0000, -1.3966,  0.0000,  0.0000,  0.0000],\n",
       "        [ 0.0000,  0.0000,  0.0000, -1.6852, -1.7331,  0.0000,  0.0000],\n",
       "        [ 0.0000,  0.0000,  0.0000, -1.5557, -1.3991,  1.3843,  0.0000],\n",
       "        [ 0.0000,  0.0000,  0.0000, -1.6423, -1.9130,  0.6253, -1.1858]],\n",
       "       dtype=torch.float64, grad_fn=<SelectBackward0>)"
      ]
     },
     "execution_count": null,
     "metadata": {},
     "output_type": "execute_result"
    }
   ],
   "source": [
    "M[0]"
   ]
  },
  {
   "cell_type": "markdown",
   "id": "df7ded99-3a74-4cb6-9a55-478775789d9c",
   "metadata": {},
   "source": [
    "$$V = \\begin{bmatrix} S^{1/2} & 0 \\\\ \\bar{K} & P^{1/2} \\end{bmatrix}$$"
   ]
  },
  {
   "cell_type": "code",
   "execution_count": null,
   "id": "1eeaebfe-7d86-49b9-a132-c1c1bbdb2219",
   "metadata": {},
   "outputs": [],
   "source": [
    "# V from standard filter\n",
    "V_stand = cat_2d([[S_C,   torch.zeros_like(K_bar.mT)],\n",
    "                  [K_bar, P_C_stand]])"
   ]
  },
  {
   "cell_type": "code",
   "execution_count": null,
   "id": "086b6f7a-078e-43d9-a843-587f73d11503",
   "metadata": {},
   "outputs": [
    {
     "data": {
      "text/plain": [
       "tensor([[ 2.2770,  0.0000,  0.0000,  0.0000,  0.0000,  0.0000,  0.0000],\n",
       "        [ 2.5904,  1.8631,  0.0000,  0.0000,  0.0000,  0.0000,  0.0000],\n",
       "        [ 3.2634,  2.2593,  1.3379,  0.0000,  0.0000,  0.0000,  0.0000],\n",
       "        [ 0.7766,  0.5205,  0.6151,  0.8355,  0.0000,  0.0000,  0.0000],\n",
       "        [ 1.8316,  0.8659,  0.9168, -0.1000,  0.9427,  0.0000,  0.0000],\n",
       "        [ 2.0275,  0.9734,  0.2654, -0.0859,  0.2527,  1.0461,  0.0000],\n",
       "        [ 2.2790,  0.9606,  0.6923, -0.4813,  0.4183,  0.2013,  1.0540]],\n",
       "       dtype=torch.float64, grad_fn=<SelectBackward0>)"
      ]
     },
     "execution_count": null,
     "metadata": {},
     "output_type": "execute_result"
    }
   ],
   "source": [
    "V_stand[0]"
   ]
  },
  {
   "cell_type": "code",
   "execution_count": null,
   "id": "5f6f1137-8165-4358-bf46-7b661e3b4bdf",
   "metadata": {},
   "outputs": [],
   "source": [
    "test_close(M @ M.mT, V_stand @ V_stand.mT)"
   ]
  },
  {
   "cell_type": "code",
   "execution_count": null,
   "id": "67a38332-ea75-4bf1-aa21-60e0102faddf",
   "metadata": {},
   "outputs": [],
   "source": [
    "V_sr = torch.linalg.qr(M.mT).R.mT"
   ]
  },
  {
   "cell_type": "code",
   "execution_count": null,
   "id": "d86331ab-6cf7-4f8a-b38f-0236b49f49c6",
   "metadata": {},
   "outputs": [
    {
     "data": {
      "text/plain": [
       "tensor([[-2.2770,  0.0000,  0.0000,  0.0000,  0.0000,  0.0000,  0.0000],\n",
       "        [-2.5904, -1.8631,  0.0000,  0.0000,  0.0000,  0.0000,  0.0000],\n",
       "        [-3.2634, -2.2593, -1.3379,  0.0000,  0.0000,  0.0000,  0.0000],\n",
       "        [-0.7766, -0.5205, -0.6151,  0.8355,  0.0000,  0.0000,  0.0000],\n",
       "        [-1.8316, -0.8659, -0.9168, -0.1000,  0.9427,  0.0000,  0.0000],\n",
       "        [-2.0275, -0.9734, -0.2654, -0.0859,  0.2527, -1.0461,  0.0000],\n",
       "        [-2.2790, -0.9606, -0.6923, -0.4813,  0.4183, -0.2013, -1.0540]],\n",
       "       dtype=torch.float64, grad_fn=<SelectBackward0>)"
      ]
     },
     "execution_count": null,
     "metadata": {},
     "output_type": "execute_result"
    }
   ],
   "source": [
    "V_sr[0]"
   ]
  },
  {
   "cell_type": "code",
   "execution_count": null,
   "id": "8b892933-b40c-4a0b-ba83-42a5dfea4766",
   "metadata": {},
   "outputs": [],
   "source": [
    "test_close(V_sr @ V_sr.mT, V_stand @ V_stand.mT)"
   ]
  },
  {
   "cell_type": "code",
   "execution_count": null,
   "id": "5509d4b1-8564-47ab-87dd-d17cabb15994",
   "metadata": {},
   "outputs": [
    {
     "data": {
      "text/plain": [
       "tensor([[[ 0.8355,  0.0000,  0.0000,  0.0000],\n",
       "         [-0.1000,  0.9427,  0.0000,  0.0000],\n",
       "         [-0.0859,  0.2527, -1.0461,  0.0000],\n",
       "         [-0.4813,  0.4183, -0.2013, -1.0540]],\n",
       "\n",
       "        [[ 0.8355,  0.0000,  0.0000,  0.0000],\n",
       "         [-0.1000,  0.9427,  0.0000,  0.0000],\n",
       "         [-0.0859,  0.2527, -1.0461,  0.0000],\n",
       "         [-0.4813,  0.4183, -0.2013, -1.0540]]], dtype=torch.float64,\n",
       "       grad_fn=<SliceBackward0>)"
      ]
     },
     "execution_count": null,
     "metadata": {},
     "output_type": "execute_result"
    }
   ],
   "source": [
    "n_dim_obs = R_C.shape[-1]\n",
    "P_C = V_sr[:, n_dim_obs:, n_dim_obs:]\n",
    "P_C"
   ]
  },
  {
   "cell_type": "code",
   "execution_count": null,
   "id": "e605b1c6-e9f8-4160-8df4-9ca658f17683",
   "metadata": {},
   "outputs": [
    {
     "data": {
      "text/plain": [
       "True"
      ]
     },
     "execution_count": null,
     "metadata": {},
     "output_type": "execute_result"
    }
   ],
   "source": [
    "is_sr(P_C, P_stand)"
   ]
  },
  {
   "cell_type": "markdown",
   "id": "46f3d96d-d799-4d27-9771-54dc8e555b74",
   "metadata": {},
   "source": [
    "$P_C$ computed with the QR decomposition is not the same from the cholesky decomposition, but that's okay! They are all valid square roots of the posterior covariance"
   ]
  },
  {
   "cell_type": "code",
   "execution_count": null,
   "id": "f1d91bb0-dff7-4c41-a4bd-f15a4b524403",
   "metadata": {},
   "outputs": [
    {
     "data": {
      "text/plain": [
       "tensor(False)"
      ]
     },
     "execution_count": null,
     "metadata": {},
     "output_type": "execute_result"
    }
   ],
   "source": [
    "(P_C == P_C_stand).all()"
   ]
  },
  {
   "cell_type": "code",
   "execution_count": null,
   "id": "93c639d2-aa7f-47a8-9039-8d5206b98938",
   "metadata": {},
   "outputs": [
    {
     "data": {
      "text/plain": [
       "torch.Size([2, 3, 4])"
      ]
     },
     "execution_count": null,
     "metadata": {},
     "output_type": "execute_result"
    }
   ],
   "source": [
    "(H @ P_m_C).shape"
   ]
  },
  {
   "cell_type": "markdown",
   "id": "b0819466-f20c-441c-8bfe-93b5a1d718c9",
   "metadata": {},
   "source": [
    "#### Covariance"
   ]
  },
  {
   "cell_type": "code",
   "execution_count": null,
   "id": "ff1a3f28-db5b-48e2-88fc-cac9f9eb6410",
   "metadata": {},
   "outputs": [],
   "source": [
    "#| export\n",
    "def tensor_info(x): return {'dtype': x.dtype, 'device': x.device}"
   ]
  },
  {
   "cell_type": "code",
   "execution_count": null,
   "id": "63f7a429-db4d-403e-879a-00d86b7a9356",
   "metadata": {},
   "outputs": [],
   "source": [
    "#| export\n",
    "def _filter_update_cov_SR(\n",
    "    H,\n",
    "    R_C,\n",
    "    P_m_C\n",
    ") -> Tuple: # (P_C, S_C) Square roots of filtered covariance and S\n",
    "    \"\"\"Covariance measurement update for Square root Filter\"\"\"\n",
    "    bs,n, k = P_m_C.shape[0], R_C.shape[-1], H.shape[-1] # batch size, dim observations, dim_state\n",
    "    zeros = partial(torch.zeros, **tensor_info(H))\n",
    "    \n",
    "    M = cat_2d([[R_C.expand(bs,-1,-1),   H @ P_m_C], \n",
    "                [zeros(bs, k, n),        P_m_C    ]])\n",
    "\n",
    "    V = torch.linalg.qr(M.mT).R.mT\n",
    "\n",
    "    P_C = V[:, n:, n:]\n",
    "    S_C = V[:, :n, :n]\n",
    "    return P_C, S_C"
   ]
  },
  {
   "cell_type": "code",
   "execution_count": null,
   "id": "d3b58dcc-e68b-43f5-8c97-359d762080e0",
   "metadata": {},
   "outputs": [],
   "source": [
    "P_C, S_C = _filter_update_cov_SR(kSR.H, kSR.R_C, P_m_C) "
   ]
  },
  {
   "cell_type": "code",
   "execution_count": null,
   "id": "58a330b1-7dba-4f97-b224-ba2b2381ebeb",
   "metadata": {},
   "outputs": [],
   "source": [
    "def fuzz_filter_update_cov_SR(n=10):\n",
    "    errs = []\n",
    "    for _ in range(n):\n",
    "        kSR = KalmanFilterSR.init_random(5,10,4)\n",
    "        H, R_C, P_m = (kSR.H, kSR.R_C, torch.cat([kSR.P0]*5))\n",
    "        R = R_C @ R_C.mT\n",
    "        P_m_C = torch.linalg.cholesky(P_m)\n",
    "        P_C, _ = _filter_update_cov_SR(H, R_C, P_m_C)\n",
    "        K = _filter_update_k_gain(H, R, P_m)\n",
    "        P_stand = _filter_update_cov(H, K, P_m)\n",
    "        errs.append((P_C @ P_C.mT -  P_stand).abs().max().item())\n",
    "    return torch.tensor(errs)"
   ]
  },
  {
   "cell_type": "code",
   "execution_count": null,
   "id": "1052ca56-ce91-4776-b87e-cfa6612f9f9f",
   "metadata": {},
   "outputs": [
    {
     "data": {
      "text/plain": [
       "(tensor(2.8588e-15), tensor(1.0214e-14))"
      ]
     },
     "execution_count": null,
     "metadata": {},
     "output_type": "execute_result"
    }
   ],
   "source": [
    "err = fuzz_filter_update_cov_SR(100)\n",
    "assert err.max() < torch.tensor(1e-10)\n",
    "err.median(), err.max()"
   ]
  },
  {
   "cell_type": "markdown",
   "id": "c120df82-76d8-4e6c-9de4-dc0bc60a6db0",
   "metadata": {},
   "source": [
    "#### Kalman Gain"
   ]
  },
  {
   "cell_type": "markdown",
   "id": "92a64ad7-9a78-4087-837a-c5df737bf3eb",
   "metadata": {},
   "source": [
    "Don't compute the inverse of the matrix, but use `cholesky_solve` to invert the matrix"
   ]
  },
  {
   "cell_type": "code",
   "execution_count": null,
   "id": "74a6d3f0-1886-4140-ab66-7fb88a89985e",
   "metadata": {},
   "outputs": [],
   "source": [
    "#| export\n",
    "def _filter_update_k_gain_SR(\n",
    "    H,\n",
    "    P_m_C, # square root of $P^-$\n",
    "    S_C # square root of S = (HPH^T +R)\n",
    "):\n",
    "    \"\"\"kalman gain for filter update for SR filter\"\"\"\n",
    "    return torch.cholesky_solve(H @ P_m_C @ P_m_C.mT, S_C).mT"
   ]
  },
  {
   "cell_type": "code",
   "execution_count": null,
   "id": "b05716d5-849d-4a18-80bf-c1157d52b9c4",
   "metadata": {},
   "outputs": [],
   "source": [
    "S = kSR.H @ P_m_C @ P_m_C.mT @ kSR.H.mT + kSR.R"
   ]
  },
  {
   "cell_type": "code",
   "execution_count": null,
   "id": "90694cb3-8e0e-4374-b189-1bd0d440ec3c",
   "metadata": {},
   "outputs": [],
   "source": [
    "test_close(kSR.R, kSR.R_C @ kSR.R_C.mT)"
   ]
  },
  {
   "cell_type": "code",
   "execution_count": null,
   "id": "5fcef35e-396f-4d88-b34c-0aabd7afd89f",
   "metadata": {},
   "outputs": [],
   "source": [
    "test_close(S_C @ S_C.mT, S)"
   ]
  },
  {
   "cell_type": "code",
   "execution_count": null,
   "id": "63d813c7-c2eb-4e8f-8699-b87984e4db63",
   "metadata": {},
   "outputs": [
    {
     "data": {
      "text/plain": [
       "tensor([[[-0.0014, -0.2782,  0.4598],\n",
       "         [ 0.2389, -0.3662,  0.6852],\n",
       "         [ 0.2854,  0.2819,  0.1984],\n",
       "         [ 0.3866, -0.1119,  0.5174]],\n",
       "\n",
       "        [[-0.0014, -0.2782,  0.4598],\n",
       "         [ 0.2389, -0.3662,  0.6852],\n",
       "         [ 0.2854,  0.2819,  0.1984],\n",
       "         [ 0.3866, -0.1119,  0.5174]]], dtype=torch.float64,\n",
       "       grad_fn=<TransposeBackward0>)"
      ]
     },
     "execution_count": null,
     "metadata": {},
     "output_type": "execute_result"
    }
   ],
   "source": [
    "_filter_update_k_gain_SR(H, P_m_C, S_C)"
   ]
  },
  {
   "cell_type": "code",
   "execution_count": null,
   "id": "73c8a306-5915-4f05-adfd-7c73a7cac234",
   "metadata": {},
   "outputs": [],
   "source": [
    "test_close(_filter_update_k_gain(H, R, P_m), _filter_update_k_gain_SR(H, P_m_C, S_C))"
   ]
  },
  {
   "cell_type": "code",
   "execution_count": null,
   "id": "69b84a91-6e63-4227-9665-e85b34d6774f",
   "metadata": {},
   "outputs": [],
   "source": [
    "def fuzz_kalman_gain_SR(n=10):\n",
    "    errs = []\n",
    "    for _ in range(n):\n",
    "        kSR = KalmanFilterSR.init_random(5,10,4)\n",
    "        H, R_C, P_m = (kSR.H, kSR.R_C, torch.cat([kSR.P0]*5))\n",
    "        R = R_C @ R_C.mT\n",
    "        P_m_C = torch.linalg.cholesky(P_m)\n",
    "        P_C, S_C = _filter_update_cov_SR(H, R_C, P_m_C)\n",
    "        K_stand = _filter_update_k_gain(H, R, P_m)\n",
    "        K = _filter_update_k_gain_SR(H, P_m_C, S_C)\n",
    "        errs.append((K_stand - K).abs().max().item())\n",
    "    return torch.tensor(errs)"
   ]
  },
  {
   "cell_type": "code",
   "execution_count": null,
   "id": "37063bd6-0e6b-49b4-a7b6-05fef0434380",
   "metadata": {},
   "outputs": [
    {
     "data": {
      "text/plain": [
       "(tensor(4.5797e-15), tensor(2.5202e-14))"
      ]
     },
     "execution_count": null,
     "metadata": {},
     "output_type": "execute_result"
    }
   ],
   "source": [
    "err = fuzz_kalman_gain_SR(100)\n",
    "assert err.max() < torch.tensor(1e-10)\n",
    "err.median(), err.max()"
   ]
  },
  {
   "cell_type": "markdown",
   "id": "6b43f600-c598-4bc1-bc7a-3e084f05a78f",
   "metadata": {},
   "source": [
    "#### Measurement update"
   ]
  },
  {
   "cell_type": "code",
   "execution_count": null,
   "id": "ca242d8f-9d70-4eb3-9ed8-019513d499ff",
   "metadata": {},
   "outputs": [],
   "source": [
    "#| export\n",
    "def _filter_update_SR(\n",
    "    H, # [1, n_dim_obs, n_dim_state]\n",
    "    d, # [1, n_dim_obs, 1]\n",
    "    R_C, # [1, n_dim_obs, n_dim_obs]\n",
    "    m_m, # [n_batches, n_dim_state, 1]\n",
    "    P_m_C, # [n_batches, n_dim_state, n_dim_state] square root predicted covariance\n",
    "    obs # # [n_batches, n_dim_obs, 1]\n",
    ") -> Tuple: # Filtered state (mean, chol_covariance) [n_batches, n_dim_state]\n",
    "    \"Filter update state at `t` with obs at `t`\"\n",
    "    P_C, S_C = _filter_update_cov_SR(H, R_C, P_m_C)\n",
    "    K = _filter_update_k_gain_SR(H, P_m_C, S_C)\n",
    "    m = _filter_update_mean(H, d, K, m_m, obs)\n",
    "    return m, P_C"
   ]
  },
  {
   "cell_type": "code",
   "execution_count": null,
   "id": "92dabe20-adaa-4b1d-b195-09c9550e05ea",
   "metadata": {},
   "outputs": [
    {
     "data": {
      "text/html": [
       "<div style=\"display: flex; column-gap: 20px; flex-wrap: wrap;\" class='table table-striped table-sm'> <div><p style='font-size: 1.2rem;'>m</p> <pre>tensor([[[   nan],\n",
       "         [   nan],\n",
       "         [   nan],\n",
       "         [   nan]],\n",
       "\n",
       "        [[0.1197],\n",
       "         [0.3457],\n",
       "         [0.5033],\n",
       "         [0.6044]]], dtype=torch.float64, grad_fn=<AddBackward0>)\n",
       "</pre> </div><div><p style='font-size: 1.2rem;'>P_C</p> <pre>tensor([[[ 0.8355,  0.0000,  0.0000,  0.0000],\n",
       "         [-0.1000,  0.9427,  0.0000,  0.0000],\n",
       "         [-0.0859,  0.2527, -1.0461,  0.0000],\n",
       "         [-0.4813,  0.4183, -0.2013, -1.0540]],\n",
       "\n",
       "        [[ 0.8355,  0.0000,  0.0000,  0.0000],\n",
       "         [-0.1000,  0.9427,  0.0000,  0.0000],\n",
       "         [-0.0859,  0.2527, -1.0461,  0.0000],\n",
       "         [-0.4813,  0.4183, -0.2013, -1.0540]]], dtype=torch.float64,\n",
       "       grad_fn=<SliceBackward0>)\n",
       "</pre> </div></div>"
      ],
      "text/plain": [
       "<IPython.core.display.HTML object>"
      ]
     },
     "metadata": {},
     "output_type": "display_data"
    },
    {
     "data": {
      "text/plain": [
       "(torch.Size([2, 4, 1]), torch.Size([2, 4, 4]))"
      ]
     },
     "execution_count": null,
     "metadata": {},
     "output_type": "execute_result"
    }
   ],
   "source": [
    "m, P_C = _filter_update_SR(H, d, R_C, m_m, P_m_C, obs)\n",
    "show_as_row(m, P_C)\n",
    "m.shape, P_C.shape"
   ]
  },
  {
   "cell_type": "code",
   "execution_count": null,
   "id": "460ee0db-538e-42ee-9cab-7eeafcac6708",
   "metadata": {},
   "outputs": [
    {
     "data": {
      "text/plain": [
       "torch.Size([1, 1, 5])"
      ]
     },
     "execution_count": null,
     "metadata": {},
     "output_type": "execute_result"
    }
   ],
   "source": [
    "get_test_data(1, 5,4, bs=1)[1].shape"
   ]
  },
  {
   "cell_type": "code",
   "execution_count": null,
   "id": "6a211039-a0b6-4ab0-acf7-d9340d2d1e9d",
   "metadata": {},
   "outputs": [
    {
     "data": {
      "text/plain": [
       "(mean    1.049161e-14\n",
       " cov     2.740863e-15\n",
       " dtype: float64,\n",
       " mean    5.573320e-14\n",
       " cov     1.099121e-14\n",
       " dtype: float64)"
      ]
     },
     "execution_count": null,
     "metadata": {},
     "output_type": "execute_result"
    }
   ],
   "source": [
    "def fuzz_filter_update_SR(n=10):\n",
    "    errs = {'mean': [], 'cov': []}\n",
    "    for _ in range(n):\n",
    "        kSR = KalmanFilterSR.init_random(5,10,4)\n",
    "        H, d, R, R_C, m_m, P_m = (kSR.H, kSR.d, kSR.R, kSR.R_C, torch.cat([kSR.m0]*5), torch.cat([kSR.P0]*5))\n",
    "        obs = torch.randn_like(H @ m_m)\n",
    "        P_m_C = torch.linalg.cholesky(P_m)\n",
    "        mSR, P_m_C = _filter_update_SR(H, d, R_C, m_m, P_m_C, obs)\n",
    "        m, P_C = _filter_update(H, d, R, m_m, P_m, obs)\n",
    "        errs['mean'].append((mSR - m).abs().max().item())\n",
    "        errs['cov'].append((P_C - P_m_C @ P_m_C.mT).abs().max().item())\n",
    "    return pd.DataFrame(errs)\n",
    "\n",
    "err = fuzz_filter_update_SR(100)\n",
    "\n",
    "err.median(), err.max()"
   ]
  },
  {
   "cell_type": "markdown",
   "id": "f066a877-4bf5-43c6-8589-ed11e543ee03",
   "metadata": {},
   "source": [
    "#### Missing observations"
   ]
  },
  {
   "cell_type": "markdown",
   "id": "f62c2c4c-009e-4e11-a876-82d95847a9d3",
   "metadata": {},
   "source": [
    "##### Update mask"
   ]
  },
  {
   "cell_type": "markdown",
   "id": "ffb3c9ec-95ed-4a74-88df-8baffedb2ce6",
   "metadata": {},
   "source": [
    "Here need to compute the square root of $R$, because cannot apply the mask to $R^{1/2}$"
   ]
  },
  {
   "cell_type": "code",
   "execution_count": null,
   "id": "ee41dd95-b2b2-4931-bc32-9a87068d1691",
   "metadata": {},
   "outputs": [
    {
     "data": {
      "text/plain": [
       "tensor([[[1.5571, 0.3980, 0.0426],\n",
       "         [0.3980, 1.7403, 1.2398],\n",
       "         [0.0426, 1.2398, 1.5260]]], dtype=torch.float64,\n",
       "       grad_fn=<UnsafeViewBackward0>)"
      ]
     },
     "execution_count": null,
     "metadata": {},
     "output_type": "execute_result"
    }
   ],
   "source": [
    "R"
   ]
  },
  {
   "cell_type": "code",
   "execution_count": null,
   "id": "d5427bf7-67a7-461a-8c77-5f5c64effc78",
   "metadata": {},
   "outputs": [
    {
     "data": {
      "text/plain": [
       "tensor([True])"
      ]
     },
     "execution_count": null,
     "metadata": {},
     "output_type": "execute_result"
    }
   ],
   "source": [
    "is_posdef(R)"
   ]
  },
  {
   "cell_type": "code",
   "execution_count": null,
   "id": "6630c31b-174d-46b8-82ed-4029eff009f1",
   "metadata": {},
   "outputs": [],
   "source": [
    "R_m = torch.tensor([[1.5571,  0.0426], [0.0426, 1.5259]])"
   ]
  },
  {
   "cell_type": "code",
   "execution_count": null,
   "id": "c98bb0e6-504d-40d2-b1c2-f8c4aa5ef923",
   "metadata": {},
   "outputs": [
    {
     "data": {
      "text/plain": [
       "tensor([[1.5571, 0.0426],\n",
       "        [0.0426, 1.5259]])"
      ]
     },
     "execution_count": null,
     "metadata": {},
     "output_type": "execute_result"
    }
   ],
   "source": [
    "R_m"
   ]
  },
  {
   "cell_type": "code",
   "execution_count": null,
   "id": "5f839776-086a-4d57-82a3-435e174b383a",
   "metadata": {},
   "outputs": [
    {
     "data": {
      "text/plain": [
       "tensor(True)"
      ]
     },
     "execution_count": null,
     "metadata": {},
     "output_type": "execute_result"
    }
   ],
   "source": [
    "is_posdef(R_m)"
   ]
  },
  {
   "cell_type": "code",
   "execution_count": null,
   "id": "9648073c-60d8-489c-9f19-beffb549bcaf",
   "metadata": {},
   "outputs": [],
   "source": [
    "m = [True, False, True]"
   ]
  },
  {
   "cell_type": "code",
   "execution_count": null,
   "id": "2ce55240-3adb-4d1d-8a5c-54ef8ec49787",
   "metadata": {},
   "outputs": [
    {
     "data": {
      "text/plain": [
       "tensor([True])"
      ]
     },
     "execution_count": null,
     "metadata": {},
     "output_type": "execute_result"
    }
   ],
   "source": [
    "is_posdef(R[:, m,:][:, :, m])"
   ]
  },
  {
   "cell_type": "code",
   "execution_count": null,
   "id": "0b405fd0-fa0e-409b-979f-0b8a94f21393",
   "metadata": {},
   "outputs": [],
   "source": [
    "#| export\n",
    "def _filter_update_mask_SR(\n",
    "        H, # [1, n_dim_obs, n_dim_state]\n",
    "        d, # [1, n_dim_obs, 1]\n",
    "        R, # [1, n_dim_obs, n_dim_obs]\n",
    "        m_m, # [n_batches, n_dim_state, 1]\n",
    "        P_m_C, # [n_batches, n_dim_state, n_dim_state]\n",
    "        obs, # [n_batches, n_dim_obs, 1] observations\n",
    "        mask # [n_dim_obs] mask must be the same across batches\n",
    "                       ):\n",
    "    \"\"\"SR Filter Update state at time `t` given observations at time `t` assuming that all observations have the same mask\"\"\"\n",
    "    if (~mask).all(): return (m_m, P_m_C) # all data is missing\n",
    "    H_m, d_m, R_m, obs_m, = H[:, mask,:], d[:, mask,:], R[:, mask,:][:, :,mask], obs[:, mask] # _m for masked\n",
    "    R_C_m = torch.linalg.cholesky(R_m)\n",
    "    return _filter_update_SR(H_m, d_m, R_C_m, m_m, P_m_C, obs_m)"
   ]
  },
  {
   "cell_type": "code",
   "execution_count": null,
   "id": "c0f502e7-cc9b-4d4b-97e7-c7461434d62f",
   "metadata": {},
   "outputs": [],
   "source": [
    "H_m, d_m, R_m, R_C_m, obs_m, = H[:, m,:], d[:, m,:], R[:, m,:][:, :,m], R_C[:, m,:][:, :,m], obs[:, m]"
   ]
  },
  {
   "cell_type": "code",
   "execution_count": null,
   "id": "1265764b-ea0f-4d11-a8bf-15d5955c2110",
   "metadata": {},
   "outputs": [],
   "source": [
    "R2 = R_m\n",
    "R2_C_m = torch.linalg.cholesky(R_m) "
   ]
  },
  {
   "cell_type": "code",
   "execution_count": null,
   "id": "68c19a46-bb4c-44fc-b344-15a7d0513b34",
   "metadata": {},
   "outputs": [
    {
     "data": {
      "text/plain": [
       "False"
      ]
     },
     "execution_count": null,
     "metadata": {},
     "output_type": "execute_result"
    }
   ],
   "source": [
    "is_sr(R_C_m, R_m)"
   ]
  },
  {
   "cell_type": "code",
   "execution_count": null,
   "id": "60d34bf2-612f-42a9-90d9-8cccb5a1e84d",
   "metadata": {},
   "outputs": [
    {
     "data": {
      "text/plain": [
       "tensor([[[    nan],\n",
       "         [    nan],\n",
       "         [    nan],\n",
       "         [    nan]],\n",
       "\n",
       "        [[-0.1152],\n",
       "         [-0.1834],\n",
       "         [-0.1472],\n",
       "         [-0.1785]]], dtype=torch.float64, grad_fn=<SubBackward0>)"
      ]
     },
     "execution_count": null,
     "metadata": {},
     "output_type": "execute_result"
    }
   ],
   "source": [
    "_filter_update_SR(H_m, d_m, R_C_m, m_m, P_m_C, obs_m)[0] - _filter_update(H_m, d_m, R_m, m_m, P_m_C @ P_m_C.mT, obs_m)[0]"
   ]
  },
  {
   "cell_type": "code",
   "execution_count": null,
   "id": "5d3071d2-1b71-4491-9717-5fa58ff4dbbe",
   "metadata": {},
   "outputs": [
    {
     "data": {
      "text/plain": [
       "tensor([[[        nan],\n",
       "         [        nan],\n",
       "         [        nan],\n",
       "         [        nan]],\n",
       "\n",
       "        [[-4.4409e-16],\n",
       "         [-4.4409e-16],\n",
       "         [ 0.0000e+00],\n",
       "         [-8.8818e-16]]], dtype=torch.float64, grad_fn=<SubBackward0>)"
      ]
     },
     "execution_count": null,
     "metadata": {},
     "output_type": "execute_result"
    }
   ],
   "source": [
    "_filter_update_SR(H_m, d_m, R2_C_m, m_m, P_m_C, obs_m)[0] - _filter_update(H_m, d_m, R_m, m_m, P_m_C @ P_m_C.mT, obs_m)[0]"
   ]
  },
  {
   "cell_type": "code",
   "execution_count": null,
   "id": "c5a39eca-0453-487e-8476-3a097e0ce417",
   "metadata": {},
   "outputs": [
    {
     "data": {
      "text/html": [
       "<div style=\"display: flex; column-gap: 20px; flex-wrap: wrap;\" class='table table-striped table-sm'> <div><p style='font-size: 1.2rem;'>#0</p> <pre>tensor([[[1.3313],\n",
       "         [1.0104],\n",
       "         [1.6996],\n",
       "         [1.7246]],\n",
       "\n",
       "        [[0.7732],\n",
       "         [1.3875],\n",
       "         [1.4670],\n",
       "         [1.6642]]], dtype=torch.float64, grad_fn=<AddBackward0>)\n",
       "</pre> </div><div><p style='font-size: 1.2rem;'>#1</p> <pre>tensor([[[ 1.1441,  0.0000,  0.0000,  0.0000],\n",
       "         [ 0.7349,  1.3175,  0.0000,  0.0000],\n",
       "         [ 0.4355,  0.5900, -1.1768,  0.0000],\n",
       "         [ 0.3596,  1.0472, -0.3473, -1.1330]],\n",
       "\n",
       "        [[ 1.1441,  0.0000,  0.0000,  0.0000],\n",
       "         [ 0.7349,  1.3175,  0.0000,  0.0000],\n",
       "         [ 0.4355,  0.5900, -1.1768,  0.0000],\n",
       "         [ 0.3596,  1.0472, -0.3473, -1.1330]]], dtype=torch.float64,\n",
       "       grad_fn=<SliceBackward0>)\n",
       "</pre> </div></div>"
      ],
      "text/plain": [
       "<IPython.core.display.HTML object>"
      ]
     },
     "metadata": {},
     "output_type": "display_data"
    }
   ],
   "source": [
    "show_as_row(*_filter_update_mask_SR(H, d, R_C, m_m, P_m_C, obs, mask[0, 0, :] ))"
   ]
  },
  {
   "cell_type": "code",
   "execution_count": null,
   "id": "a7e3dda6-fa52-4452-9e62-a3c2b9b55035",
   "metadata": {},
   "outputs": [
    {
     "data": {
      "text/plain": [
       "(torch.Size([2, 4, 1]), torch.Size([2, 4, 4]))"
      ]
     },
     "execution_count": null,
     "metadata": {},
     "output_type": "execute_result"
    }
   ],
   "source": [
    "m, P_C = _filter_update_mask_SR(H, d, R_C, m_m, P_m_C, obs, mask[0, 0, :] )\n",
    "m.shape, P_C.shape"
   ]
  },
  {
   "cell_type": "code",
   "execution_count": null,
   "id": "cb187ff3-6dba-4893-9629-8b2583459a61",
   "metadata": {},
   "outputs": [
    {
     "data": {
      "text/plain": [
       "torch.Size([3])"
      ]
     },
     "execution_count": null,
     "metadata": {},
     "output_type": "execute_result"
    }
   ],
   "source": [
    "mask[0,0].shape"
   ]
  },
  {
   "cell_type": "code",
   "execution_count": null,
   "id": "60d502a8-38f4-40c3-a83d-2d3bbbf30972",
   "metadata": {},
   "outputs": [
    {
     "data": {
      "text/plain": [
       "(mean    3.996803e-15\n",
       " cov     1.970646e-15\n",
       " dtype: float64,\n",
       " mean    3.996803e-15\n",
       " cov     7.827072e-15\n",
       " dtype: float64)"
      ]
     },
     "execution_count": null,
     "metadata": {},
     "output_type": "execute_result"
    }
   ],
   "source": [
    "def fuzz_filter_update_SR(n=10):\n",
    "    errs = {'mean': [], 'cov': []}\n",
    "    for _ in range(n):\n",
    "        kSR = KalmanFilterSR.init_random(5,10,4)\n",
    "        H, d, R, R_C, m_m, P_m = (kSR.H, kSR.d, kSR.R, kSR.R_C, torch.cat([kSR.m0]*5), torch.cat([kSR.P0]*5))\n",
    "        obs, mask, _  = get_test_data(1, 5, 4, bs=5)\n",
    "        obs, mask = obs[:,0].unsqueeze(-1), mask[0,0]\n",
    "        \n",
    "        P_m_C = torch.linalg.cholesky(P_m)\n",
    "        mSR, P_m_C = _filter_update_mask_SR(H, d, R, m_m, P_m_C, obs, mask)\n",
    "        m, P_C = _filter_update_mask(H, d, R, m_m, P_m, obs, mask)\n",
    "        errs['mean'].append((mSR - m).abs().max().item())\n",
    "        errs['cov'].append((P_C - P_m_C @ P_m_C.mT).abs().max().item())\n",
    "    return pd.DataFrame(errs)\n",
    "\n",
    "err = fuzz_filter_update_SR(100)\n",
    "\n",
    "err.median(), err.max()"
   ]
  },
  {
   "cell_type": "markdown",
   "id": "cfef4da5-9f92-48ea-871b-862cc16bc61c",
   "metadata": {},
   "source": [
    "##### Update mask batch"
   ]
  },
  {
   "cell_type": "code",
   "execution_count": null,
   "id": "de32f1f8-d62d-42a1-a9a0-4ddec01b5f98",
   "metadata": {},
   "outputs": [],
   "source": [
    "#| export\n",
    "def _filter_update_mask_batch_SR(\n",
    "        H, # [1, n_dim_obs, n_dim_state]\n",
    "        d, # [1, n_dim_obs, 1]\n",
    "        R, # [1, n_dim_obs, n_dim_obs]\n",
    "        m_m, # [n_batches, n_dim_state, 1]\n",
    "        P_m_C, # [n_batches, n_dim_state, n_dim_state]\n",
    "        obs, # [n_batches, n_dim_obs, 1] observations\n",
    "        mask # [n_batches, n_dim_obs] mask must be the same across batches\n",
    "                       ):\n",
    "    \"\"\"Support batches with different masks when update state at time `t` given observations at time `t`\"\"\"\n",
    "    \n",
    "    ms, P_Cs= torch.empty_like(m_m), torch.empty_like(P_m_C)\n",
    "    \n",
    "    # find the unique values of the mask and make a sub-batches with it\n",
    "    mask_values, indices = torch.unique(mask, return_inverse=True, dim=0)  \n",
    "    for i, mask_v in enumerate(mask_values):\n",
    "        idx_select = indices == i \n",
    "        m, P_C = _filter_update_mask_SR(\n",
    "            H, d, R,\n",
    "            m_m[idx_select], P_m_C[idx_select],\n",
    "            obs[idx_select],\n",
    "            mask_v,\n",
    "        )\n",
    "        ms[idx_select], P_Cs[idx_select] = m, P_C\n",
    "    \n",
    "    return ms, P_Cs"
   ]
  },
  {
   "cell_type": "code",
   "execution_count": null,
   "id": "bf4c11d2-d377-4d0e-aad2-b6f56f907555",
   "metadata": {},
   "outputs": [
    {
     "data": {
      "text/html": [
       "<div style=\"display: flex; column-gap: 20px; flex-wrap: wrap;\" class='table table-striped table-sm'> <div><p style='font-size: 1.2rem;'>m</p> <pre>tensor([[[1.3685],\n",
       "         [1.0982],\n",
       "         [1.7967],\n",
       "         [1.8337]],\n",
       "\n",
       "        [[0.1197],\n",
       "         [0.3457],\n",
       "         [0.5033],\n",
       "         [0.6044]]], dtype=torch.float64, grad_fn=<IndexPutBackward0>)\n",
       "</pre> </div><div><p style='font-size: 1.2rem;'>P_C</p> <pre>tensor([[[ 1.1607,  0.0000,  0.0000,  0.0000],\n",
       "         [ 0.8022,  1.3585,  0.0000,  0.0000],\n",
       "         [ 0.5153,  0.6769, -1.2081,  0.0000],\n",
       "         [ 0.4512,  1.1387, -0.3915, -1.1430]],\n",
       "\n",
       "        [[ 0.8355,  0.0000,  0.0000,  0.0000],\n",
       "         [-0.1000,  0.9427,  0.0000,  0.0000],\n",
       "         [-0.0859,  0.2527, -1.0461,  0.0000],\n",
       "         [-0.4813,  0.4183, -0.2013, -1.0540]]], dtype=torch.float64,\n",
       "       grad_fn=<IndexPutBackward0>)\n",
       "</pre> </div></div>"
      ],
      "text/plain": [
       "<IPython.core.display.HTML object>"
      ]
     },
     "metadata": {},
     "output_type": "display_data"
    },
    {
     "data": {
      "text/plain": [
       "(torch.Size([2, 4, 1]), torch.Size([2, 4, 4]))"
      ]
     },
     "execution_count": null,
     "metadata": {},
     "output_type": "execute_result"
    }
   ],
   "source": [
    "m, P_C = _filter_update_mask_batch_SR(H, d, R, m_m, P_m_C, obs, mask[:,0,:] )\n",
    "show_as_row(m, P_C)\n",
    "m.shape, P_C.shape"
   ]
  },
  {
   "cell_type": "code",
   "execution_count": null,
   "id": "5f617085-e438-4fb5-bc77-9f2b9b2c6c91",
   "metadata": {},
   "outputs": [
    {
     "data": {
      "text/plain": [
       "tensor([[[-5.3359, -5.2561, -7.0879, -7.6131],\n",
       "         [ 0.0176, -0.2548, -0.2340, -0.2578],\n",
       "         [-0.2513, -0.9494, -1.2821, -1.5227]]], dtype=torch.float64)"
      ]
     },
     "execution_count": null,
     "metadata": {},
     "output_type": "execute_result"
    }
   ],
   "source": [
    "m.sum().backward(retain_graph=True) # check that pytorch can compute gradients with the whole batch and gradients aren't nan\n",
    "H.grad"
   ]
  },
  {
   "cell_type": "markdown",
   "id": "19dddf17-6f11-44da-87b2-6a1b6c4c9928",
   "metadata": {},
   "source": [
    "### Filter All"
   ]
  },
  {
   "cell_type": "markdown",
   "id": "f615f362-ba9b-441e-80b3-462885b8acc6",
   "metadata": {},
   "source": [
    "The resursive version of the kalman filter is apperently breaking pytorch gradients calculations so a workaround is needed.\n",
    "During the loop the states are saved in a python list and then at the end they are combined back into a tensor.\n",
    "The last line of the function does:\n",
    "\n",
    "- convert lists to tensors\n",
    "- correct order dimensions"
   ]
  },
  {
   "cell_type": "code",
   "execution_count": null,
   "id": "8106c607-eef1-4a7b-8d53-41c0c9cd6f12",
   "metadata": {},
   "outputs": [],
   "source": [
    "#| export\n",
    "@patch\n",
    "def _filter_all(self: KalmanFilterSR,\n",
    "            obs: Tensor, # `([n_batches], n_obs, [self.n_dim_obs])` where `n_batches` and `n_dim_obs` dimensions can be omitted if 1\n",
    "            mask: Tensor, # `([n_batches], n_obs, [self.n_dim_obs])` where `n_batches` and `n_dim_obs` dimensions can be omitted if 1\n",
    "            control: Tensor, # ([n_batches], n_obs, [self.n_dim_contr]) \n",
    "            \n",
    "           ) ->Tuple[ListMNormal, ListMNormal]: # (Filtered state, predicted state) with shape (n_batches, n_obs, self.n_dim_state)\n",
    "    \"\"\"Filter observations using kalman filter \"\"\"\n",
    "    obs, mask, control = self._parse_obs(obs, mask, control)\n",
    "    bs, n_obs = obs.shape[0], obs.shape[1]\n",
    "    # lists are mutable so need to copy them\n",
    "    m_ms, P_m_Cs, ms, P_Cs = [[None for _ in range(n_obs)].copy() for _ in range(4)] \n",
    "\n",
    "    for t in range(n_obs):\n",
    "        # Predict\n",
    "        if t == 0:\n",
    "            m_ms[t], P_m_Cs[t] = self.m0.expand(bs, -1, -1), self.P0_C.expand(bs, -1, -1)\n",
    "        else:\n",
    "            m_ms[t], P_m_Cs[t] = _filter_predict_SR(self.A, self.Q_C, self.b,\n",
    "                                                    self.B if self.use_control else torch.zeros_like(self.B),\n",
    "                                                    ms[t - 1], P_Cs[t - 1], control[:,t,:])\n",
    "        \n",
    "        # Update\n",
    "        ms[t], P_Cs[t] = _filter_update_mask_batch_SR(self.H, self.d, self.R, m_ms[t], P_m_Cs[t], obs[:,t,:], mask[:,t,:])\n",
    "        \n",
    "        if self.cov_checker is not None:\n",
    "            self.cov_checker.check(P_m_Cs[t] @ P_m_Cs[t].mT, t=t, name=\"filter_predict\", type=\"SR\")\n",
    "            self.cov_checker.check(P_Cs[t] @ P_Cs[t].mT, t=t, name=\"filter_update\", type=\"SR\")\n",
    "    \n",
    "    m_ms, P_m_Cs, ms, P_Cs = list(maps(torch.stack, _times2batch, (m_ms, P_m_Cs, ms, P_Cs,))) # reorder dimensions and convert to tensor\n",
    "    return ListMNormal(ms, P_Cs), ListMNormal(m_ms, P_m_Cs) "
   ]
  },
  {
   "cell_type": "code",
   "execution_count": null,
   "id": "1992d247-19f8-4a9f-abf0-2c16a181a588",
   "metadata": {},
   "outputs": [],
   "source": [
    "filt_stateSR, pred_stateSR  = kSR._filter_all(data, mask, control)"
   ]
  },
  {
   "cell_type": "code",
   "execution_count": null,
   "id": "5cd2ac76-d92a-42f5-9a70-4afd111e588c",
   "metadata": {},
   "outputs": [],
   "source": [
    "(ms, P_Cs), (m_ms, P_m_Cs) = filt_stateSR, pred_stateSR"
   ]
  },
  {
   "cell_type": "markdown",
   "id": "5ed3a9a7-1157-46a6-857f-8babbdf20e84",
   "metadata": {},
   "source": [
    "Predictions at time `0` for both batches"
   ]
  },
  {
   "cell_type": "code",
   "execution_count": null,
   "id": "2c37c392-b96a-4742-a4a4-643e466465ff",
   "metadata": {},
   "outputs": [
    {
     "data": {
      "text/html": [
       "<div style=\"display: flex; column-gap: 20px; flex-wrap: wrap;\" class='table table-striped table-sm'> <div><p style='font-size: 1.2rem;'>#0</p> <pre>torch.Size([2, 10, 4, 1])\n",
       "</pre> </div><div><p style='font-size: 1.2rem;'>#1</p> <pre>torch.Size([2, 10, 4, 4])\n",
       "</pre> </div><div><p style='font-size: 1.2rem;'>#2</p> <pre>torch.Size([2, 10, 4, 1])\n",
       "</pre> </div><div><p style='font-size: 1.2rem;'>#3</p> <pre>torch.Size([2, 10, 4, 4])\n",
       "</pre> </div></div>"
      ],
      "text/plain": [
       "<IPython.core.display.HTML object>"
      ]
     },
     "metadata": {},
     "output_type": "display_data"
    }
   ],
   "source": [
    "show_as_row(*map(Self.shape(), (m_ms, P_m_Cs, ms, P_Cs,)))"
   ]
  },
  {
   "cell_type": "code",
   "execution_count": null,
   "id": "408f99d3-09fb-44f5-8e45-62e7d181457f",
   "metadata": {},
   "outputs": [
    {
     "data": {
      "text/html": [
       "<div style=\"display: flex; column-gap: 20px; flex-wrap: wrap;\" class='table table-striped table-sm'> <div><p style='font-size: 1.2rem;'>#0</p> <pre>tensor([[0.4499],\n",
       "        [0.8575],\n",
       "        [0.2647],\n",
       "        [0.4293]], dtype=torch.float64, grad_fn=<SelectBackward0>)\n",
       "</pre> </div><div><p style='font-size: 1.2rem;'>#1</p> <pre>tensor([[1.2562, 0.0000, 0.0000, 0.0000],\n",
       "        [0.3804, 0.9666, 0.0000, 0.0000],\n",
       "        [0.9536, 0.7909, 1.2431, 0.0000],\n",
       "        [0.4487, 0.4993, 0.4600, 1.2599]], dtype=torch.float64,\n",
       "       grad_fn=<SelectBackward0>)\n",
       "</pre> </div><div><p style='font-size: 1.2rem;'>#2</p> <pre>tensor([[0.5189],\n",
       "        [0.9208],\n",
       "        [0.4203],\n",
       "        [0.5421]], dtype=torch.float64, grad_fn=<SelectBackward0>)\n",
       "</pre> </div><div><p style='font-size: 1.2rem;'>#3</p> <pre>tensor([[-1.1638,  0.0000,  0.0000,  0.0000],\n",
       "        [-0.2344, -0.9142,  0.0000,  0.0000],\n",
       "        [-0.5963, -0.5742, -1.1218,  0.0000],\n",
       "        [-0.1702, -0.3039, -0.2622,  1.2088]], dtype=torch.float64,\n",
       "       grad_fn=<SelectBackward0>)\n",
       "</pre> </div></div>"
      ],
      "text/plain": [
       "<IPython.core.display.HTML object>"
      ]
     },
     "metadata": {},
     "output_type": "display_data"
    }
   ],
   "source": [
    "show_as_row(*map(lambda x:x[0][0], (m_ms, P_m_Cs, ms, P_Cs,)))"
   ]
  },
  {
   "cell_type": "markdown",
   "id": "1905920f-99ec-4a53-b475-4200139fc116",
   "metadata": {},
   "source": [
    "### Filter"
   ]
  },
  {
   "cell_type": "markdown",
   "id": "05f2dda9-3d40-402f-9fdf-f452183ee8dd",
   "metadata": {},
   "source": [
    "The filter methods wraps `_filter_all` but in addition:\n",
    "\n",
    "- returns only filtered state\n",
    "- remove last dimensions from mean"
   ]
  },
  {
   "cell_type": "code",
   "execution_count": null,
   "id": "5153d8d7-2b7d-4a8d-bb6e-7e416a0475a1",
   "metadata": {},
   "outputs": [],
   "source": [
    "#| export\n",
    "@patch\n",
    "def filter(self: KalmanFilterSR,\n",
    "            obs: Tensor, # `([n_batches], n_obs, [self.n_dim_obs])` where `n_batches` and `n_dim_obs` dimensions can be omitted if 1\n",
    "            mask: Tensor, # `([n_batches], n_obs, [self.n_dim_obs])` where `n_batches` and `n_dim_obs` dimensions can be omitted if 1\n",
    "            control: Tensor, # ([n_batches], n_obs, [self.n_dim_contr])\n",
    "          ) -> ListMNormal: # Filtered state (n_batches, n_obs, self.n_dim_state)\n",
    "    \"\"\"Filter observation\"\"\"\n",
    "    filt_state, _ = self._filter_all(obs, mask, control)\n",
    "    return filt_state"
   ]
  },
  {
   "cell_type": "code",
   "execution_count": null,
   "id": "96acc28c-ca12-41a8-b26a-acc39d145e38",
   "metadata": {},
   "outputs": [
    {
     "data": {
      "text/plain": [
       "(torch.Size([2, 10, 4, 1]), torch.Size([2, 10, 4, 4]))"
      ]
     },
     "execution_count": null,
     "metadata": {},
     "output_type": "execute_result"
    }
   ],
   "source": [
    "filtSR = kSR.filter(data, mask, control)\n",
    "filtSR.mean.shape, filtSR.cov.shape"
   ]
  },
  {
   "cell_type": "code",
   "execution_count": null,
   "id": "f9ae1073-ad8e-40fd-ae6a-3829ec573e65",
   "metadata": {},
   "outputs": [
    {
     "data": {
      "text/plain": [
       "(mean    8.108847e-12\n",
       " cov     8.149592e-12\n",
       " dtype: float64,\n",
       " mean    4.446576e-11\n",
       " cov     1.261309e-10\n",
       " dtype: float64)"
      ]
     },
     "execution_count": null,
     "metadata": {},
     "output_type": "execute_result"
    }
   ],
   "source": [
    "def fuzz_filter_SR(n=10):\n",
    "    errs = {'mean': [], 'cov': []}\n",
    "    for _ in range(n):\n",
    "        kSR = KalmanFilterSR.init_random(5,10,4)\n",
    "        k = KalmanFilter.init_from(kSR)\n",
    "        dat = get_test_data(20, 5, 4)\n",
    "        mean, cov = k.filter(*dat)\n",
    "        meanSR, covSR = kSR.filter(*dat)\n",
    "        covSR = covSR @ covSR.mT\n",
    "        errs['mean'].append((meanSR - mean).abs().max().item())\n",
    "        errs['cov'].append((covSR - cov).abs().max().item())\n",
    "    return pd.DataFrame(errs)\n",
    "\n",
    "err = fuzz_filter_SR(10)\n",
    "\n",
    "err.median(), err.max()"
   ]
  },
  {
   "cell_type": "markdown",
   "id": "cd9cee1a-612b-42df-ab48-a7bf7d84d8f4",
   "metadata": {},
   "source": [
    "## Smooth"
   ]
  },
  {
   "cell_type": "markdown",
   "id": "65f3d28e-b6f2-4d85-8396-45e43f311171",
   "metadata": {},
   "source": [
    "### Smooth update step"
   ]
  },
  {
   "cell_type": "markdown",
   "id": "738b2433-8b08-45f9-9923-d04d7d108f87",
   "metadata": {},
   "source": [
    "compute the probability of the state at time `t` given all the observations\n",
    "\n",
    "$p(x_t|Y) = \\mathcal{N}(x_t; m_t^s, P_t^s)$ where:\n",
    "\n",
    "- Kalman smoothing gain: $G_t = P_tA^T(P_{t+1}^-)^{-1}$\n",
    "- smoothed mean: $m_t^s = m_t + G_t(m_{t+1}^s - m_{t+1}^-)$\n",
    "- smoothed covariance: $P_t^s = P_t + G_t(P_{t+1}^s - P_{t+1}^-)G_t^T$"
   ]
  },
  {
   "cell_type": "code",
   "execution_count": null,
   "id": "30cca443-1faf-4ac7-8b60-fcab10afdd75",
   "metadata": {},
   "outputs": [],
   "source": [
    "filt_state = ListMNormal(filt_stateSR.mean, filt_stateSR.cov @ filt_stateSR.cov.mT)\n",
    "pred_state = ListMNormal(pred_stateSR.mean, pred_stateSR.cov @ pred_stateSR.cov.mT)"
   ]
  },
  {
   "cell_type": "code",
   "execution_count": null,
   "id": "5e1af355-4d3a-4373-8cf3-06c44254d0dd",
   "metadata": {},
   "outputs": [],
   "source": [
    "#| export\n",
    "def _smooth_gain_SR(A, P_C, P_m_C):\n",
    "    return torch.cholesky_solve(A @ P_C @ P_C.mT, P_m_C).mT"
   ]
  },
  {
   "cell_type": "code",
   "execution_count": null,
   "id": "20d5296e-a8a9-43b3-9c18-af261812741d",
   "metadata": {},
   "outputs": [],
   "source": [
    "K_p = _smooth_gain_SR(kSR.A, filt_stateSR[:, 0].cov, pred_stateSR[:, 0].cov)"
   ]
  },
  {
   "cell_type": "code",
   "execution_count": null,
   "id": "a7c39e73-afcd-4429-94db-b025bafb24f4",
   "metadata": {},
   "outputs": [],
   "source": [
    "test_close(\n",
    "    _smooth_gain_SR(kSR.A, filt_stateSR[:, 0].cov, pred_stateSR[:, 0].cov),\n",
    "    _smooth_gain(kSR.A, filt_state[:, 0].cov, pred_state[:, 0].cov)\n",
    ")"
   ]
  },
  {
   "cell_type": "code",
   "execution_count": null,
   "id": "e3389b57-350d-4371-b02a-e3d696dc7411",
   "metadata": {},
   "outputs": [],
   "source": [
    "test_close(filt_state[0,0].cov, filt_stateSR[0,0].cov @ filt_stateSR[0,0].cov.mT)"
   ]
  },
  {
   "cell_type": "code",
   "execution_count": null,
   "id": "b17b1db3-1b08-4b6f-a3e4-22660cde3637",
   "metadata": {},
   "outputs": [],
   "source": [
    "test_close(pred_state[0,0].cov, pred_stateSR[0,0].cov @ pred_stateSR[0,0].cov.mT)"
   ]
  },
  {
   "cell_type": "code",
   "execution_count": null,
   "id": "21771874-876b-4b85-bb8a-f40be83e2183",
   "metadata": {},
   "outputs": [
    {
     "data": {
      "text/plain": [
       "(K    1.920686e-14\n",
       " dtype: float64,\n",
       " K    4.352074e-14\n",
       " dtype: float64)"
      ]
     },
     "execution_count": null,
     "metadata": {},
     "output_type": "execute_result"
    }
   ],
   "source": [
    "def fuzz_gain_SR(n=10):\n",
    "    errs = {'K': []}\n",
    "    for _ in range(n):\n",
    "        kSR = KalmanFilterSR.init_random(5,10,4)\n",
    "        k = KalmanFilter.init_from(kSR)\n",
    "        dat = get_test_data(2, 5, 4)\n",
    "        (_, f_cov), (_, p_cov) = k._filter_all(*dat)\n",
    "        (_, f_covSR), (_, p_covSR) = kSR._filter_all(*dat)\n",
    "        K = _smooth_gain(k.A, f_cov[:, 0], p_cov[:, 0])\n",
    "        K_SR = _smooth_gain_SR(k.A, f_covSR[:, 0], p_covSR[:, 0])\n",
    "        errs['K'].append((K - K_SR).abs().max().item())\n",
    "    return pd.DataFrame(errs)\n",
    "\n",
    "err = fuzz_gain_SR(10)\n",
    "\n",
    "err.median(), err.max()"
   ]
  },
  {
   "cell_type": "code",
   "execution_count": null,
   "id": "73745ff6-16cf-4125-92cc-086de5060d78",
   "metadata": {},
   "outputs": [],
   "source": [
    "#| export\n",
    "def _smooth_update_SR(A,                # [n_dim_state, n_dim_state]\n",
    "                   filt_stateSR: MNormal,         # [n_dim_state] filtered state at time `t`\n",
    "                   pred_stateSR: MNormal,         # [n_dim_state] state before filtering at time `t + 1` (= using the observation until time t)\n",
    "                   next_smoothed_state: Normal, # [n_dim_state] smoothed state at time  `t+1`\n",
    "                   ) -> MNormal:                # mean and cov of smoothed state at time `t`\n",
    "    \"\"\"Correct a pred state with a Kalman Smoother update\"\"\"\n",
    "    # for now use standard smoother\n",
    "    smooth_gain = _smooth_gain_SR(A, filt_stateSR.cov, pred_stateSR.cov)\n",
    "    \n",
    "    # Convert to full covariance matrix only the filter output\n",
    "    filt_state_cov, pred_state_cov = map(lambda x: x @ x.mT, [filt_stateSR.cov, pred_stateSR.cov])\n",
    "    \n",
    "    m_p = _smooth_mean(smooth_gain, filt_stateSR.mean, pred_stateSR.mean, next_smoothed_state.mean)\n",
    "    P_p = _smooth_cov(smooth_gain,  filt_state_cov, pred_state_cov, next_smoothed_state.cov)\n",
    "    \n",
    "    return MNormal(m_p, P_p)"
   ]
  },
  {
   "cell_type": "code",
   "execution_count": null,
   "id": "f68dd213-d0ad-4502-864f-3c125c4ab2b5",
   "metadata": {},
   "outputs": [],
   "source": [
    "m_p, P_p = _smooth_update_SR(kSR.A, filt_stateSR[:, 0, :], pred_stateSR[:, 0, :], filt_stateSR[:, 0, :])"
   ]
  },
  {
   "cell_type": "code",
   "execution_count": null,
   "id": "5125c738-7f60-476a-ae3e-5e89b27a21bc",
   "metadata": {},
   "outputs": [],
   "source": [
    "test_close(filt_state[:, 0, :].mean, filt_stateSR[:, 0, :].mean)"
   ]
  },
  {
   "cell_type": "code",
   "execution_count": null,
   "id": "c3f67d60-1581-48bc-9cc0-fa23f2f7636a",
   "metadata": {},
   "outputs": [
    {
     "data": {
      "text/plain": [
       "MultiNormal(mean=tensor([[[0.6325],\n",
       "         [0.9899],\n",
       "         [0.5680],\n",
       "         [0.6284]]], dtype=torch.float64, grad_fn=<AddBackward0>), cov=tensor([[[ 0.7480, -0.0959, -0.0944, -0.2622],\n",
       "         [-0.0959,  0.6667,  0.1856,  0.0380],\n",
       "         [-0.0944,  0.1856,  0.9192, -0.0280],\n",
       "         [-0.2622,  0.0380, -0.0280,  1.3021]]], dtype=torch.float64,\n",
       "       grad_fn=<DivBackward0>))"
      ]
     },
     "execution_count": null,
     "metadata": {},
     "output_type": "execute_result"
    }
   ],
   "source": [
    "_smooth_update(kSR.A, filt_state[0,0],  pred_state[0,0] , filt_state[0,0] )"
   ]
  },
  {
   "cell_type": "code",
   "execution_count": null,
   "id": "9c97a7ff-cc32-4a62-bdc3-50cc686aba97",
   "metadata": {},
   "outputs": [
    {
     "data": {
      "text/plain": [
       "MultiNormal(mean=tensor([[[0.6325],\n",
       "         [0.9899],\n",
       "         [0.5680],\n",
       "         [0.6284]]], dtype=torch.float64, grad_fn=<AddBackward0>), cov=tensor([[[-1.8502, -2.4971, -5.2813, -3.0804],\n",
       "         [-2.4971, -1.6908, -4.8194, -2.8887],\n",
       "         [-5.2813, -4.8194, -9.7933, -6.0797],\n",
       "         [-3.0804, -2.8887, -6.0797, -2.6434]]], dtype=torch.float64,\n",
       "       grad_fn=<DivBackward0>))"
      ]
     },
     "execution_count": null,
     "metadata": {},
     "output_type": "execute_result"
    }
   ],
   "source": [
    "_smooth_update_SR(kSR.A, filt_stateSR[0,0],  pred_stateSR[0,0], filt_stateSR[0,0])"
   ]
  },
  {
   "cell_type": "code",
   "execution_count": null,
   "id": "c0432127-e924-4c67-a130-9af9004cf824",
   "metadata": {},
   "outputs": [],
   "source": [
    "test_close((filt_stateSR.mean, pred_stateSR.mean), (filt_state.mean, pred_state.mean))"
   ]
  },
  {
   "cell_type": "code",
   "execution_count": null,
   "id": "b466fa6c-4b9f-4a56-a375-9791663a69ef",
   "metadata": {},
   "outputs": [],
   "source": [
    "test_close(\n",
    "    _smooth_update_SR(kSR.A, filt_stateSR[:, 0], pred_stateSR[:, 0], filt_state[:, 0]),\n",
    "    _smooth_update(kSR.A, filt_state[:, 0], pred_state[:, 0], filt_state[:, 0])\n",
    ")"
   ]
  },
  {
   "cell_type": "code",
   "execution_count": null,
   "id": "8888631a-2503-40be-a22a-635a46d8a137",
   "metadata": {},
   "outputs": [
    {
     "data": {
      "text/plain": [
       "(mean    1.154632e-14\n",
       " cov     2.771117e-13\n",
       " dtype: float64,\n",
       " mean    3.375078e-14\n",
       " cov     8.242296e-13\n",
       " dtype: float64)"
      ]
     },
     "execution_count": null,
     "metadata": {},
     "output_type": "execute_result"
    }
   ],
   "source": [
    "def fuzz_update_SR(n=10):\n",
    "    errs = {'mean': [], 'cov': []}\n",
    "    for _ in range(n):\n",
    "        kSR = KalmanFilterSR.init_random(5,10,4)\n",
    "        k = KalmanFilter.init_from(kSR)\n",
    "        dat = get_test_data(2, 5, 4)\n",
    "        f_state, p_state = k._filter_all(*dat)\n",
    "        f_stateSR, p_stateSR = kSR._filter_all(*dat)\n",
    "        mean, cov = _smooth_update(k.A, f_state[:, 0], p_state[:, 0], f_state[:, 1])\n",
    "        meanSR, covSR = _smooth_update_SR(k.A, f_stateSR[:, 0], p_stateSR[:, 0], f_state[:, 1])\n",
    "        errs['mean'].append((meanSR - mean).abs().max().item())\n",
    "        errs['cov'].append((covSR - cov).abs().max().item())\n",
    "    return pd.DataFrame(errs)\n",
    "\n",
    "err = fuzz_update_SR(10)\n",
    "\n",
    "err.median(), err.max()"
   ]
  },
  {
   "cell_type": "markdown",
   "id": "73cda2b3-2b4d-4ce7-98fa-ed0c2c62fe03",
   "metadata": {},
   "source": [
    "### Smooth"
   ]
  },
  {
   "cell_type": "code",
   "execution_count": null,
   "id": "b46875d0-a62f-47ac-bf19-d7c8a7b6a718",
   "metadata": {},
   "outputs": [],
   "source": [
    "#| export\n",
    "def _smooth_SR(A, # `[n_dim_state, n_dim_state]`\n",
    "            filt_stateSR: ListMNormal, # `[n_timesteps, n_dim_state]`\n",
    "                # `ms[t]` is the state estimate for time t given obs from times `[0...t]`\n",
    "            pred_stateSR: ListMNormal, # `[n_timesteps, n_dim_state]`\n",
    "                # `m_ms[t]` is the state estimate for time t given obs from times `[0...t-1]`\n",
    "            until=0, # iteration where to stop the smoother\n",
    "            cov_checker = None\n",
    "           ) -> ListMNormal: # `[n_timesteps, n_dim_state]` Smoothed state \n",
    "    \"\"\"Apply the Kalman Smoother\"\"\"\n",
    "    n_obs = pred_stateSR.mean.shape[1]\n",
    "\n",
    "    smoothed_state = ListMNormal(torch.zeros_like(filt_stateSR.mean), torch.zeros_like(filt_stateSR.cov))\n",
    "    \n",
    "    # For the last timestep cannot use the smoother\n",
    "    smoothed_state.mean[:,-1] = filt_stateSR.mean[:,-1]\n",
    "    smoothed_state.cov[:,-1] = filt_stateSR.cov[:,-1] @ filt_stateSR.cov[:,-1].mT\n",
    "    \n",
    "    for t in reversed(range(until, n_obs - 1)):\n",
    "        (smoothed_state.mean[:,t], smoothed_state.cov[:,t]) = (\n",
    "            _smooth_update_SR(\n",
    "                A,\n",
    "                filt_stateSR[:,t],\n",
    "                pred_stateSR[:,t + 1],\n",
    "                smoothed_state[:,t+1],\n",
    "            )\n",
    "        )\n",
    "        if cov_checker is not None:\n",
    "            cov_checker.check(smoothed_state.cov[:,t], name=\"smooth\", t=t)\n",
    "    return smoothed_state"
   ]
  },
  {
   "cell_type": "code",
   "execution_count": null,
   "id": "4d56dee4-d881-4f3c-b937-eb147a21880d",
   "metadata": {},
   "outputs": [],
   "source": [
    "smooth_state = _smooth_SR(kSR.A,  filt_stateSR, pred_stateSR)"
   ]
  },
  {
   "cell_type": "code",
   "execution_count": null,
   "id": "e941d44d-3167-4d61-ae4b-4086513e77d3",
   "metadata": {},
   "outputs": [
    {
     "data": {
      "text/plain": [
       "True"
      ]
     },
     "execution_count": null,
     "metadata": {},
     "output_type": "execute_result"
    }
   ],
   "source": [
    "is_sr(filt_stateSR.cov, filt_state.cov)"
   ]
  },
  {
   "cell_type": "code",
   "execution_count": null,
   "id": "918b4661-05bb-455b-a72c-b0ae2a6f1a29",
   "metadata": {},
   "outputs": [
    {
     "data": {
      "text/plain": [
       "(tensor(0., dtype=torch.float64, grad_fn=<MedianBackward0>),\n",
       " tensor(3.5527e-15, dtype=torch.float64, grad_fn=<MaxBackward1>))"
      ]
     },
     "execution_count": null,
     "metadata": {},
     "output_type": "execute_result"
    }
   ],
   "source": [
    "s_mean, s_cov =  _smooth(kSR.A,  filt_state, pred_state)\n",
    "s_meanSR, s_covSR =  _smooth_SR(kSR.A,  filt_stateSR, pred_stateSR)\n",
    "test_close(s_cov, s_covSR)\n",
    "(s_cov - s_covSR).median(), (s_cov - s_covSR).max()"
   ]
  },
  {
   "cell_type": "code",
   "execution_count": null,
   "id": "a0935103-7610-4e02-b2f1-59b9c1300e25",
   "metadata": {},
   "outputs": [
    {
     "data": {
      "text/html": [
       "<div style=\"display: flex; column-gap: 20px; flex-wrap: wrap;\" class='table table-striped table-sm'> <div><p style='font-size: 1.2rem;'>#0</p> <pre>tensor([[-0.3279],\n",
       "        [ 0.4029],\n",
       "        [-0.7501],\n",
       "        [-0.0098]], dtype=torch.float64, grad_fn=<SelectBackward0>)\n",
       "</pre> </div><div><p style='font-size: 1.2rem;'>#1</p> <pre>tensor([[ 0.9163, -0.0046,  0.0978, -0.1494],\n",
       "        [-0.0046,  0.7132,  0.2841,  0.0932],\n",
       "        [ 0.0978,  0.2841,  1.1262,  0.0916],\n",
       "        [-0.1494,  0.0932,  0.0916,  1.3623]], dtype=torch.float64,\n",
       "       grad_fn=<SelectBackward0>)\n",
       "</pre> </div></div>"
      ],
      "text/plain": [
       "<IPython.core.display.HTML object>"
      ]
     },
     "metadata": {},
     "output_type": "display_data"
    }
   ],
   "source": [
    "show_as_row(smooth_state.mean[0][0], smooth_state.cov[0][0])"
   ]
  },
  {
   "cell_type": "code",
   "execution_count": null,
   "id": "43a293ba-e015-414d-bd71-2426f700e582",
   "metadata": {},
   "outputs": [
    {
     "data": {
      "text/html": [
       "<div style=\"display: flex; column-gap: 20px; flex-wrap: wrap;\" class='table table-striped table-sm'> <div><p style='font-size: 1.2rem;'>#0</p> <pre>torch.Size([2, 10, 4, 1])\n",
       "</pre> </div><div><p style='font-size: 1.2rem;'>#1</p> <pre>torch.Size([2, 10, 4, 4])\n",
       "</pre> </div></div>"
      ],
      "text/plain": [
       "<IPython.core.display.HTML object>"
      ]
     },
     "metadata": {},
     "output_type": "display_data"
    }
   ],
   "source": [
    "show_as_row(smooth_state.mean.shape, smooth_state.cov.shape)"
   ]
  },
  {
   "cell_type": "markdown",
   "id": "0b58d653-b1a1-4d21-984d-a5256d58ce3a",
   "metadata": {},
   "source": [
    "### KalmanFilter method"
   ]
  },
  {
   "cell_type": "code",
   "execution_count": null,
   "id": "f9b51d99-f42f-4970-ba46-2254d7e631b3",
   "metadata": {},
   "outputs": [
    {
     "data": {
      "text/plain": [
       "tensor([[[ True, False, False],\n",
       "         [ True, False,  True],\n",
       "         [False,  True, False],\n",
       "         [False, False, False],\n",
       "         [False, False,  True],\n",
       "         [ True,  True,  True],\n",
       "         [ True,  True,  True],\n",
       "         [ True,  True, False],\n",
       "         [ True, False,  True],\n",
       "         [ True,  True,  True]],\n",
       "\n",
       "        [[ True,  True,  True],\n",
       "         [ True,  True, False],\n",
       "         [ True,  True,  True],\n",
       "         [ True, False,  True],\n",
       "         [False,  True,  True],\n",
       "         [ True,  True,  True],\n",
       "         [ True,  True,  True],\n",
       "         [ True,  True,  True],\n",
       "         [ True,  True,  True],\n",
       "         [ True,  True,  True]]])"
      ]
     },
     "execution_count": null,
     "metadata": {},
     "output_type": "execute_result"
    }
   ],
   "source": [
    "mask"
   ]
  },
  {
   "cell_type": "code",
   "execution_count": null,
   "id": "cb3676c9-ab2d-4e55-bfe6-f4fb669eafe3",
   "metadata": {},
   "outputs": [
    {
     "data": {
      "text/plain": [
       "tensor(0)"
      ]
     },
     "execution_count": null,
     "metadata": {},
     "output_type": "execute_result"
    }
   ],
   "source": [
    "torch.argwhere((~mask).any(-1).any(0)).min()"
   ]
  },
  {
   "cell_type": "code",
   "execution_count": null,
   "id": "0652d439-82fb-4ea2-88a9-31768e6d523c",
   "metadata": {},
   "outputs": [
    {
     "data": {
      "text/plain": [
       "tensor([], size=(1, 2, 0))"
      ]
     },
     "execution_count": null,
     "metadata": {},
     "output_type": "execute_result"
    }
   ],
   "source": [
    "torch.ones(1,2,0)"
   ]
  },
  {
   "cell_type": "code",
   "execution_count": null,
   "id": "e46f9628-d381-47c4-afdc-376cd29c6e45",
   "metadata": {},
   "outputs": [],
   "source": [
    "#| export\n",
    "@patch\n",
    "def smooth(self: KalmanFilterSR,\n",
    "           obs: Tensor,\n",
    "           mask: Tensor,\n",
    "           control: Tensor\n",
    "          ) -> ListMNormal: # `[n_timesteps, n_dim_state]` smoothed state\n",
    "        \n",
    "    \"\"\"Kalman Filter Smoothing\"\"\"\n",
    "\n",
    "    filt_stateSR, pred_stateSR = self._filter_all(obs, mask, control)\n",
    "    # run smoother until there is a gap\n",
    "    # if self.pred_only_gap:\n",
    "    #     gap_idx = torch.argwhere((~mask).any(-1).any(0))\n",
    "    #     # no data to predict       \n",
    "    #     if gap_idx.numel() == 0: return ListMNormal(torch.zeros(0), torch.zeros(0))\n",
    "    #     until = gap_idx.min()\n",
    "    # else:\n",
    "    #     until = 0\n",
    "    until = 0\n",
    "        \n",
    "    smoothed_state = _smooth_SR(self.A,\n",
    "                   filt_stateSR, pred_stateSR,\n",
    "                    until=until,\n",
    "                   cov_checker = self.cov_checker)\n",
    "    return smoothed_state"
   ]
  },
  {
   "cell_type": "code",
   "execution_count": null,
   "id": "c0dfa5b9-ca0d-4dad-beb0-d06900f449ba",
   "metadata": {},
   "outputs": [],
   "source": [
    "smoothed_state = kSR.smooth(data, mask, control)"
   ]
  },
  {
   "cell_type": "code",
   "execution_count": null,
   "id": "4cce03bc-a932-4801-9c8c-e088188a7060",
   "metadata": {},
   "outputs": [
    {
     "data": {
      "text/html": [
       "<div style=\"display: flex; column-gap: 20px; flex-wrap: wrap;\" class='table table-striped table-sm'> <div><p style='font-size: 1.2rem;'>#0</p> <pre>torch.Size([2, 10, 4, 1])\n",
       "</pre> </div><div><p style='font-size: 1.2rem;'>#1</p> <pre>torch.Size([2, 10, 4, 4])\n",
       "</pre> </div></div>"
      ],
      "text/plain": [
       "<IPython.core.display.HTML object>"
      ]
     },
     "metadata": {},
     "output_type": "display_data"
    }
   ],
   "source": [
    "show_as_row(smoothed_state.mean.shape, smoothed_state.cov.shape)"
   ]
  },
  {
   "cell_type": "code",
   "execution_count": null,
   "id": "c9cf16af-34f0-4184-b289-2adc0682df0f",
   "metadata": {},
   "outputs": [
    {
     "data": {
      "text/plain": [
       "tensor(False)"
      ]
     },
     "execution_count": null,
     "metadata": {},
     "output_type": "execute_result"
    }
   ],
   "source": [
    "smoothed_state.cov.isnan().any()"
   ]
  },
  {
   "cell_type": "code",
   "execution_count": null,
   "id": "987bdc6a-c97a-4452-84a4-27978aa369d6",
   "metadata": {},
   "outputs": [
    {
     "data": {
      "text/plain": [
       "tensor([[[0., 0., 0., 0.],\n",
       "         [0., 0., 0., 0.],\n",
       "         [0., 0., 0., 0.],\n",
       "         [0., 0., 0., 0.]]], dtype=torch.float64)"
      ]
     },
     "execution_count": null,
     "metadata": {},
     "output_type": "execute_result"
    }
   ],
   "source": [
    "smoothed_state.mean.sum().backward(retain_graph=True)\n",
    "A.grad"
   ]
  },
  {
   "cell_type": "code",
   "execution_count": null,
   "id": "c6ce76fa-c6cc-4708-9d04-43a55d5823d6",
   "metadata": {},
   "outputs": [],
   "source": [
    "smoothed_state_stand = k.smooth(data, mask, control)"
   ]
  },
  {
   "cell_type": "code",
   "execution_count": null,
   "id": "8684cd96-0a7f-4afc-b787-2c2168a15187",
   "metadata": {},
   "outputs": [
    {
     "data": {
      "text/plain": [
       "tensor(0.6755, dtype=torch.float64, grad_fn=<MaxBackward1>)"
      ]
     },
     "execution_count": null,
     "metadata": {},
     "output_type": "execute_result"
    }
   ],
   "source": [
    "(smoothed_state.mean - smoothed_state_stand.mean).max()\n",
    "(smoothed_state.cov - smoothed_state_stand.cov).max()"
   ]
  },
  {
   "cell_type": "code",
   "execution_count": null,
   "id": "11531d2f-bb73-4e71-9b3f-fa67fe656c08",
   "metadata": {},
   "outputs": [
    {
     "data": {
      "text/plain": [
       "(mean    9.733464e-12\n",
       " cov     8.838374e-12\n",
       " dtype: float64,\n",
       " mean    4.984400e-09\n",
       " cov     4.896766e-09\n",
       " dtype: float64)"
      ]
     },
     "execution_count": null,
     "metadata": {},
     "output_type": "execute_result"
    }
   ],
   "source": [
    "def fuzz_smooth_SR(n=10):\n",
    "    errs = {'mean': [], 'cov': []}\n",
    "    for _ in range(n):\n",
    "        kSR = KalmanFilterSR.init_random(5,10,4)\n",
    "        k = KalmanFilter.init_from(kSR)\n",
    "        dat = get_test_data(20, 5, 4)\n",
    "        mean, cov = k.smooth(*dat)\n",
    "        meanSR, covSR = kSR.smooth(*dat)\n",
    "        errs['mean'].append((meanSR - mean).abs().max().item())\n",
    "        errs['cov'].append((covSR - cov).abs().max().item())\n",
    "    return pd.DataFrame(errs)\n",
    "\n",
    "err = fuzz_smooth_SR(10)\n",
    "\n",
    "err.median(), err.max()"
   ]
  },
  {
   "cell_type": "markdown",
   "id": "602df367-9405-4440-9015-21d0aeaa4c1b",
   "metadata": {},
   "source": [
    "## Predict"
   ]
  },
  {
   "cell_type": "markdown",
   "id": "f67a6097-b588-4e87-9016-cc5cabf7c209",
   "metadata": {},
   "source": [
    "predict can be vectorized across both the batch and the timesteps, except for timesteps that require conditional predictions"
   ]
  },
  {
   "cell_type": "markdown",
   "id": "6432d9c6-44e6-43ba-9238-2159db23747a",
   "metadata": {},
   "source": [
    "### Obs from State"
   ]
  },
  {
   "cell_type": "code",
   "execution_count": null,
   "id": "9b4c7eb7-4f04-4a5d-8c3f-713994f721f7",
   "metadata": {},
   "outputs": [],
   "source": [
    "#| export\n",
    "@patch\n",
    "def _obs_from_state(self: KalmanFilterSR, state: ListMNormal):\n",
    "    \n",
    "    mean = self.H @ state.mean + self.d\n",
    "    \n",
    "    if (self.use_sr_pred if hasattr(self, 'use_sr_pred') else False):\n",
    "        HP = self.H @ state.cov\n",
    "        W = torch.cat([HP, self.R_C.expand(*HP.shape[:-2], -1, -1)], dim=-1)\n",
    "        cov = torch.linalg.qr(W.mT).R.mT\n",
    "    else: # actually compute the covariance matrix\n",
    "        cov = self.H @ state.cov @ self.H.mT + self.R\n",
    "    \n",
    "    if self.cov_checker is not None:\n",
    "        for c in cov: # this is batched and for all timestamps\n",
    "            self.cov_checker.check(c, caller='predict')\n",
    "    \n",
    "    return ListMNormal(mean, cov)"
   ]
  },
  {
   "cell_type": "code",
   "execution_count": null,
   "id": "2e856787-c2b4-4536-b124-01a89565281b",
   "metadata": {},
   "outputs": [
    {
     "data": {
      "text/plain": [
       "(torch.Size([2, 10, 4, 1]), torch.Size([2, 10, 4, 4]))"
      ]
     },
     "execution_count": null,
     "metadata": {},
     "output_type": "execute_result"
    }
   ],
   "source": [
    "smoothed_state.mean.shape, smoothed_state.cov.shape"
   ]
  },
  {
   "cell_type": "code",
   "execution_count": null,
   "id": "524bb6bd-ca5c-42ce-ba15-a02eea764d14",
   "metadata": {},
   "outputs": [
    {
     "data": {
      "text/plain": [
       "(torch.Size([2, 10, 3, 1]), torch.Size([2, 10, 3, 3]))"
      ]
     },
     "execution_count": null,
     "metadata": {},
     "output_type": "execute_result"
    }
   ],
   "source": [
    "pred_obs0 = kSR._obs_from_state(smoothed_state)\n",
    "pred_obs0.mean.shape, pred_obs0.cov.shape"
   ]
  },
  {
   "cell_type": "code",
   "execution_count": null,
   "id": "8fc5960e-4a92-4aba-88a7-a2698574aac4",
   "metadata": {},
   "outputs": [
    {
     "data": {
      "text/plain": [
       "tensor(False)"
      ]
     },
     "execution_count": null,
     "metadata": {},
     "output_type": "execute_result"
    }
   ],
   "source": [
    "pred_obs0.cov.isnan().any()"
   ]
  },
  {
   "cell_type": "code",
   "execution_count": null,
   "id": "10d9669b-de4c-42a9-8335-0431c07ce518",
   "metadata": {},
   "outputs": [],
   "source": [
    "gap_mask = ~mask.all(-1)"
   ]
  },
  {
   "cell_type": "code",
   "execution_count": null,
   "id": "ce2add5e-4407-4d7c-bc17-617b36c59aa0",
   "metadata": {},
   "outputs": [
    {
     "data": {
      "text/plain": [
       "torch.Size([2, 10])"
      ]
     },
     "execution_count": null,
     "metadata": {},
     "output_type": "execute_result"
    }
   ],
   "source": [
    "gap_mask.shape"
   ]
  },
  {
   "cell_type": "markdown",
   "id": "87303593-c15b-426f-852c-cf5b32e68499",
   "metadata": {},
   "source": [
    "Predict has various modes:\n",
    "\n",
    "- `pred_only_gap` is True, returns predictions only where the mask is False\n",
    "    - `use_conditional` returns a list (for each batch) of list (for each time stamp) of Tensors of shape [1, gap_len] \n",
    "    - `use_conditional` is False, returns a list (for each batch) of Tensor of shape [n_times_gap, n_dim_obs] "
   ]
  },
  {
   "cell_type": "markdown",
   "id": "ca7460c8-c5d9-4c69-ab45-b72d05e3725a",
   "metadata": {},
   "source": [
    "### Masked Batch"
   ]
  },
  {
   "cell_type": "code",
   "execution_count": null,
   "id": "47cbf787-be09-4d7d-9244-565b1808cf31",
   "metadata": {},
   "outputs": [],
   "source": [
    "#| export\n",
    "def _masked2batch(x: Tensor, # (`n_time_missing` for every `batch`, n, [n])\n",
    "                  mask: Tensor, # (`n_batch`, `n_times`, `n`)\n",
    "                 ) -> list[list[Tensor]]: \n",
    "    \"\"\"transform a flattened masked prediction, into a prediction with a batch shape and select only predictions where the mask is false\"\"\"\n",
    "    batches = []\n",
    "    n_prev = 0\n",
    "    gap_mask = ~mask.all(-1)\n",
    "    for i, n in enumerate(gap_mask.sum(-1)):\n",
    "        batch = x[n_prev:n_prev+n]\n",
    "        mask_batch = mask[i][gap_mask[i]]\n",
    "        assert  (mask_batch == mask[gap_mask][n_prev:n_prev+n]).all() # sanity check that the function is working\n",
    "        times = []\n",
    "        for t_pred, t_mask in zip(batch, mask_batch):\n",
    "            times.append(t_pred[~t_mask] if t_pred.dim() == 1 else t_pred[~t_mask, :][:,~t_mask])\n",
    "        batches.append(times)\n",
    "        n_prev += n\n",
    "    return batches"
   ]
  },
  {
   "cell_type": "code",
   "execution_count": null,
   "id": "1a5df0cb-3644-40a0-bd87-ecf5214fdb96",
   "metadata": {},
   "outputs": [],
   "source": [
    "gap_mask = ~mask.all(-1)"
   ]
  },
  {
   "cell_type": "code",
   "execution_count": null,
   "id": "926edd8d-f8f2-47e7-a6e3-cd77a6f2413b",
   "metadata": {},
   "outputs": [],
   "source": [
    "from pprint import pp"
   ]
  },
  {
   "cell_type": "code",
   "execution_count": null,
   "id": "d697e374-61bd-4dbf-bfe5-f386acc65479",
   "metadata": {},
   "outputs": [
    {
     "name": "stdout",
     "output_type": "stream",
     "text": [
      "[tensor([False, False]),\n",
      " tensor([False]),\n",
      " tensor([False, False]),\n",
      " tensor([False, False, False]),\n",
      " tensor([False, False]),\n",
      " tensor([False]),\n",
      " tensor([False])]\n"
     ]
    }
   ],
   "source": [
    "pp(_masked2batch(mask[gap_mask], mask)[0])"
   ]
  },
  {
   "cell_type": "code",
   "execution_count": null,
   "id": "3a268980-78b7-42cd-99cb-a5c7f6065af6",
   "metadata": {},
   "outputs": [
    {
     "data": {
      "text/plain": [
       "'[tensor([False, False]), tensor([False]), tensor([False, False]), tensor([False, False, False]), tensor([False, False]), tensor([False]), tensor([False])]'"
      ]
     },
     "execution_count": null,
     "metadata": {},
     "output_type": "execute_result"
    }
   ],
   "source": [
    "str(_masked2batch(mask[gap_mask], mask)[0])"
   ]
  },
  {
   "cell_type": "code",
   "execution_count": null,
   "id": "8ce3ddf9-db84-4c21-89b5-2b5d3a87c586",
   "metadata": {},
   "outputs": [
    {
     "data": {
      "text/html": [
       "<div style=\"display: flex; column-gap: 20px; flex-wrap: wrap;\" class='table table-striped table-sm'> <div><p style='font-size: 1.2rem;'>all_mask</p> <pre>tensor([[ True, False, False],\n",
       "        [ True, False,  True],\n",
       "        [False,  True, False],\n",
       "        [False, False, False],\n",
       "        [False, False,  True],\n",
       "        [ True,  True,  True],\n",
       "        [ True,  True,  True],\n",
       "        [ True,  True, False],\n",
       "        [ True, False,  True],\n",
       "        [ True,  True,  True]])\n",
       "</pre> </div><div><p style='font-size: 1.2rem;'>only_gap</p> <pre>[tensor([False, False]),\n",
       " tensor([False]),\n",
       " tensor([False, False]),\n",
       " tensor([False, False, False]),\n",
       " tensor([False, False]),\n",
       " tensor([False]),\n",
       " tensor([False])]\n",
       "</pre> </div></div>"
      ],
      "text/plain": [
       "<IPython.core.display.HTML object>"
      ]
     },
     "metadata": {},
     "output_type": "display_data"
    }
   ],
   "source": [
    "show_as_row(all_mask = mask[0] , only_gap=_masked2batch(mask[gap_mask], mask)[0])"
   ]
  },
  {
   "cell_type": "markdown",
   "id": "28dac7ae-acdd-4143-abe5-b752622824b8",
   "metadata": {},
   "source": [
    "### Predict"
   ]
  },
  {
   "cell_type": "code",
   "execution_count": null,
   "id": "f33b1636-50b8-47f2-ae51-af5ca6912ea3",
   "metadata": {},
   "outputs": [],
   "source": [
    "#| export\n",
    "@patch\n",
    "def predict(self: KalmanFilterSR, obs, mask, control, smooth=True):\n",
    "    \"\"\"Predicted observations at all times \"\"\"\n",
    "    if self.use_conditional and not self.pred_only_gap:\n",
    "        raise ValueError(\"Kalman Filter predict cannot have conditional predictions and all predictions at the same time\")\n",
    "        \n",
    "    state = self.smooth(obs, mask, control) if smooth else self.filter(obs, mask, control)\n",
    "    self.use_sr_pred = not smooth\n",
    "    if not smooth:\n",
    "        state = ListMNormal(state.mean, state.cov @ state.cov.mT) # convert to actual covariance\n",
    "    \n",
    "    if self.pred_only_gap:\n",
    "        gap_mask = ~mask.all(-1)\n",
    "        # this destroy batches! so need to do some magic after\n",
    "        state = state[gap_mask]\n",
    "    pred_obs = self._obs_from_state(state)\n",
    "    pred_obs.mean.squeeze_(-1)\n",
    "    pred_mean, pred_cov = pred_obs.mean, pred_obs.cov\n",
    "    if self.use_sr_pred:\n",
    "        pred_cov = pred_cov @ pred_cov.mT\n",
    "    # pred_std = cov2std(pred_cov)\n",
    "    \n",
    "    if self.use_conditional:\n",
    "        obs, mask, control = self._parse_obs(obs, mask, control)\n",
    "        # conditional predictions are slow, do only if some obs are missing \n",
    "        # cond_mask = torch.logical_xor(mask.all(-1), mask.any(-1))\n",
    "        cond_mask = mask[gap_mask]\n",
    "        if cond_mask.any():\n",
    "            # this cannot be batched so returns a list\n",
    "            cond_preds = cond_gaussian_batched(\n",
    "                pred_obs, obs[gap_mask].squeeze(-1), cond_mask)\n",
    "\n",
    "            for i, c_pred in enumerate(cond_preds):\n",
    "                m = ~cond_mask[i]\n",
    "                pred_mean[i][m] = c_pred.mean\n",
    "                pred_cov[i][m,:][:,m]= c_pred.cov\n",
    "    \n",
    "    if self.pred_only_gap:\n",
    "        pred_mean = _masked2batch(pred_mean, mask)\n",
    "        pred_cov =  _masked2batch(pred_cov, mask)\n",
    "    return ListMNormal(pred_mean, pred_cov) if not self.pred_std else ListNormal(pred_mean, cov2std(pred_cov))"
   ]
  },
  {
   "cell_type": "markdown",
   "id": "bc58f8eb-021c-44e5-b299-bde16f564e35",
   "metadata": {},
   "source": [
    "### Exploration"
   ]
  },
  {
   "cell_type": "code",
   "execution_count": null,
   "id": "e6335a87-4fd3-44f5-9094-300046f62085",
   "metadata": {},
   "outputs": [],
   "source": [
    "#| export\n",
    "from fastai.learner import replacing_yield\n",
    "from fastcore.xtras import ContextManagers\n",
    "from contextlib import contextmanager"
   ]
  },
  {
   "cell_type": "code",
   "execution_count": null,
   "id": "e401987a-7d82-4fe9-84de-3e80a818a259",
   "metadata": {},
   "outputs": [],
   "source": [
    "#| export\n",
    "@contextmanager\n",
    "def replacing_ctx(*args): return replacing_yield(*args)\n",
    "\n",
    "def with_settings(k, **kwargs):\n",
    "    return ContextManagers([replacing_ctx(k, attr, v) for attr,v in kwargs.items()])"
   ]
  },
  {
   "cell_type": "code",
   "execution_count": null,
   "id": "538c491e-cff6-4780-8787-7e0375528232",
   "metadata": {},
   "outputs": [
    {
     "data": {
      "text/html": [
       "<div style=\"display: flex; column-gap: 20px; flex-wrap: wrap;\" class='table table-striped table-sm'> <div><p style='font-size: 1.2rem;'>mean</p> <pre>torch.Size([2, 10, 3])\n",
       "</pre> </div><div><p style='font-size: 1.2rem;'>cov</p> <pre>torch.Size([2, 10, 3, 3])\n",
       "</pre> </div></div>"
      ],
      "text/plain": [
       "<IPython.core.display.HTML object>"
      ]
     },
     "metadata": {},
     "output_type": "display_data"
    }
   ],
   "source": [
    "with with_settings(kSR, use_conditional=False, pred_only_gap=False):\n",
    "    pred_mean, pred_cov = kSR.predict(data, mask, control)\n",
    "show_as_row(mean= pred_mean.shape, cov = pred_cov.shape)"
   ]
  },
  {
   "cell_type": "code",
   "execution_count": null,
   "id": "72000bbc-1efb-4f13-9320-5961c7023c9e",
   "metadata": {},
   "outputs": [
    {
     "data": {
      "text/html": [
       "<div style=\"display: flex; column-gap: 20px; flex-wrap: wrap;\" class='table table-striped table-sm'> <div><p style='font-size: 1.2rem;'>mean</p> <pre>[tensor([-0.3666,  0.3765], dtype=torch.float64, grad_fn=<IndexBackward0>),\n",
       " tensor([-0.0844], dtype=torch.float64, grad_fn=<IndexBackward0>),\n",
       " tensor([0.1625, 0.3119], dtype=torch.float64, grad_fn=<IndexBackward0>),\n",
       " tensor([-0.1102, -0.5474, -0.1901], dtype=torch.float64,\n",
       "       grad_fn=<IndexBackward0>),\n",
       " tensor([-0.1439, -0.4996], dtype=torch.float64, grad_fn=<IndexBackward0>),\n",
       " tensor([0.4966], dtype=torch.float64, grad_fn=<IndexBackward0>),\n",
       " tensor([0.0202], dtype=torch.float64, grad_fn=<IndexBackward0>)]\n",
       "</pre> </div><div><p style='font-size: 1.2rem;'>cov</p> <pre>[tensor([[2.5518, 2.1682],\n",
       "        [2.1682, 2.8766]], dtype=torch.float64, grad_fn=<IndexBackward0>),\n",
       " tensor([[2.3344]], dtype=torch.float64, grad_fn=<IndexBackward0>),\n",
       " tensor([[1.9095, 0.5371],\n",
       "        [0.5371, 3.0221]], dtype=torch.float64, grad_fn=<IndexBackward0>),\n",
       " tensor([[2.0929, 1.1465, 0.8395],\n",
       "        [1.1465, 2.8696, 2.5367],\n",
       "        [0.8395, 2.5367, 3.5092]], dtype=torch.float64,\n",
       "       grad_fn=<IndexBackward0>),\n",
       " tensor([[1.9076, 0.8393],\n",
       "        [0.8393, 2.3729]], dtype=torch.float64, grad_fn=<IndexBackward0>),\n",
       " tensor([[2.7991]], dtype=torch.float64, grad_fn=<IndexBackward0>),\n",
       " tensor([[2.2841]], dtype=torch.float64, grad_fn=<IndexBackward0>)]\n",
       "</pre> </div></div>"
      ],
      "text/plain": [
       "<IPython.core.display.HTML object>"
      ]
     },
     "metadata": {},
     "output_type": "display_data"
    }
   ],
   "source": [
    "with with_settings(kSR, use_conditional=False, pred_only_gap=True):\n",
    "    pred_mean, pred_cov = kSR.predict(data, mask, control)\n",
    "show_as_row(mean= pred_mean[0], cov = pred_cov[0])"
   ]
  },
  {
   "cell_type": "code",
   "execution_count": null,
   "id": "177d4c21-4f26-491b-a184-556a16c8f057",
   "metadata": {},
   "outputs": [
    {
     "data": {
      "text/html": [
       "<div style=\"display: flex; column-gap: 20px; flex-wrap: wrap;\" class='table table-striped table-sm'> <div><p style='font-size: 1.2rem;'>mean</p> <pre>[tensor([0.0292, 0.6235], dtype=torch.float64, grad_fn=<IndexBackward0>),\n",
       " tensor([0.4156], dtype=torch.float64, grad_fn=<IndexBackward0>),\n",
       " tensor([0.3672, 0.7999], dtype=torch.float64, grad_fn=<IndexBackward0>),\n",
       " tensor([-0.1102, -0.5474, -0.1901], dtype=torch.float64,\n",
       "       grad_fn=<IndexBackward0>),\n",
       " tensor([-0.0686, -0.1575], dtype=torch.float64, grad_fn=<IndexBackward0>),\n",
       " tensor([0.4823], dtype=torch.float64, grad_fn=<IndexBackward0>),\n",
       " tensor([0.1720], dtype=torch.float64, grad_fn=<IndexBackward0>)]\n",
       "</pre> </div><div><p style='font-size: 1.2rem;'>cov</p> <pre>[tensor([[2.5518, 2.1682],\n",
       "        [2.1682, 2.8766]], dtype=torch.float64, grad_fn=<IndexBackward0>),\n",
       " tensor([[2.3344]], dtype=torch.float64, grad_fn=<IndexBackward0>),\n",
       " tensor([[1.9095, 0.5371],\n",
       "        [0.5371, 3.0221]], dtype=torch.float64, grad_fn=<IndexBackward0>),\n",
       " tensor([[2.0929, 1.1465, 0.8395],\n",
       "        [1.1465, 2.8696, 2.5367],\n",
       "        [0.8395, 2.5367, 3.5092]], dtype=torch.float64,\n",
       "       grad_fn=<IndexBackward0>),\n",
       " tensor([[1.9076, 0.8393],\n",
       "        [0.8393, 2.3729]], dtype=torch.float64, grad_fn=<IndexBackward0>),\n",
       " tensor([[2.7991]], dtype=torch.float64, grad_fn=<IndexBackward0>),\n",
       " tensor([[2.2841]], dtype=torch.float64, grad_fn=<IndexBackward0>)]\n",
       "</pre> </div></div>"
      ],
      "text/plain": [
       "<IPython.core.display.HTML object>"
      ]
     },
     "metadata": {},
     "output_type": "display_data"
    }
   ],
   "source": [
    "with with_settings(kSR, use_conditional=True, pred_only_gap=True):\n",
    "    pred_mean, pred_cov = kSR.predict(data, mask, control)\n",
    "show_as_row(mean= pred_mean[0], cov = pred_cov[0])"
   ]
  },
  {
   "cell_type": "code",
   "execution_count": null,
   "id": "a345ec87-c1cd-40ca-93f7-c48655d1ea9e",
   "metadata": {},
   "outputs": [],
   "source": [
    "with with_settings(kSR, use_conditional = True, pred_only_gap = False):\n",
    "    test_fail(kSR.predict, [data, mask, control]) # this params combination is invalid"
   ]
  },
  {
   "cell_type": "markdown",
   "id": "b11fab29-0053-485b-a718-757e0387e1c2",
   "metadata": {},
   "source": [
    "#### Gap only prediction"
   ]
  },
  {
   "cell_type": "markdown",
   "id": "ad00aca2-4dee-4f09-9530-742f7d4d79d0",
   "metadata": {},
   "source": [
    "copy paste from other notebook to make visualization easier"
   ]
  },
  {
   "cell_type": "code",
   "execution_count": null,
   "id": "ef6c1796-45a1-4a34-b489-d2e4332fd8e3",
   "metadata": {},
   "outputs": [],
   "source": [
    "#| export\n",
    "def buffer_pred_single(preds: list[Tensor],\n",
    "                masks: Tensor) -> Tensor:\n",
    "    \"\"\"For predictions are for gaps only add buffer of `Nan` so they have same shape of targets\"\"\"\n",
    "    all_pred = torch.empty(masks.shape, dtype=preds[0][0].dtype).fill_(torch.nan)\n",
    "    i_p = 0\n",
    "    for i, (mask) in enumerate(masks.cpu()):\n",
    "        if not mask.all():\n",
    "            all_pred[i][~mask] = preds[i_p].detach().cpu()\n",
    "            i_p += 1\n",
    "    assert i_p == len(preds)\n",
    "    return all_pred"
   ]
  },
  {
   "cell_type": "code",
   "execution_count": null,
   "id": "34b723e7-52cd-4571-8531-df4b4a17f053",
   "metadata": {},
   "outputs": [],
   "source": [
    "#| export\n",
    "def buffer_pred(preds: list[list[Tensor]],\n",
    "                masks: Tensor) -> Tensor:\n",
    "    \"\"\"For predictions are for gaps only add buffer of `Nan` so they have same shape of targets\"\"\"\n",
    "    return torch.stack([buffer_pred_single(pred, mask) for pred, mask in zip(preds, masks)])"
   ]
  },
  {
   "cell_type": "code",
   "execution_count": null,
   "id": "a7359de1-5843-4ecd-b584-e877917fa2fe",
   "metadata": {},
   "outputs": [],
   "source": [
    "with with_settings(kSR, use_conditional=False, pred_only_gap=True):\n",
    "    pred_m_gap, _ = kSR.predict(data, mask, control)\n",
    "    \n",
    "with with_settings(kSR, use_conditional=False, pred_only_gap=False):\n",
    "    pred_m, _ = kSR.predict(data, mask, control)"
   ]
  },
  {
   "cell_type": "markdown",
   "id": "775ec795-41a8-4321-8587-75d00f430354",
   "metadata": {},
   "source": [
    "soooooooo this is a problem!!! those should be the same"
   ]
  },
  {
   "cell_type": "code",
   "execution_count": null,
   "id": "5b230979-d23b-4b80-8187-8029eeb776af",
   "metadata": {},
   "outputs": [
    {
     "data": {
      "text/html": [
       "<div style=\"display: flex; column-gap: 20px; flex-wrap: wrap;\" class='table table-striped table-sm'> <div><p style='font-size: 1.2rem;'>gap</p> <pre>tensor([[[    nan, -0.3666,  0.3765],\n",
       "         [    nan, -0.0844,     nan],\n",
       "         [ 0.1625,     nan,  0.3119],\n",
       "         [-0.1102, -0.5474, -0.1901],\n",
       "         [-0.1439, -0.4996,     nan],\n",
       "         [    nan,     nan,     nan],\n",
       "         [    nan,     nan,     nan],\n",
       "         [    nan,     nan,  0.4966],\n",
       "         [    nan,  0.0202,     nan],\n",
       "         [    nan,     nan,     nan]],\n",
       "\n",
       "        [[    nan,     nan,     nan],\n",
       "         [    nan,     nan,  0.2059],\n",
       "         [    nan,     nan,     nan],\n",
       "         [    nan, -0.3611,     nan],\n",
       "         [ 0.1032,     nan,     nan],\n",
       "         [    nan,     nan,     nan],\n",
       "         [    nan,     nan,     nan],\n",
       "         [    nan,     nan,     nan],\n",
       "         [    nan,     nan,     nan],\n",
       "         [    nan,     nan,     nan]]], dtype=torch.float64)\n",
       "</pre> </div><div><p style='font-size: 1.2rem;'>no_gap</p> <pre>tensor([[[ 0.0322, -0.3666,  0.3765],\n",
       "         [ 0.1475, -0.0844,  0.4320],\n",
       "         [ 0.1625, -0.0796,  0.3119],\n",
       "         [-0.1102, -0.5474, -0.1901],\n",
       "         [-0.1439, -0.4996,  0.0158],\n",
       "         [ 0.1736, -0.0500,  0.1638],\n",
       "         [ 0.0998, -0.2115,  0.2026],\n",
       "         [ 0.2642,  0.0727,  0.4966],\n",
       "         [ 0.2667,  0.0202,  0.5999],\n",
       "         [ 0.5621,  0.4854,  1.0911]],\n",
       "\n",
       "        [[ 0.0523, -0.3558,  0.1773],\n",
       "         [ 0.0572, -0.2074,  0.2059],\n",
       "         [ 0.0361, -0.2809,  0.0575],\n",
       "         [-0.0671, -0.3611,  0.1202],\n",
       "         [ 0.1032, -0.2193, -0.1928],\n",
       "         [-0.1298, -0.5874, -0.3787],\n",
       "         [ 0.0450, -0.2554, -0.2029],\n",
       "         [ 0.0938, -0.0932,  0.3782],\n",
       "         [ 0.2229, -0.1440, -0.1133],\n",
       "         [ 0.3722,  0.3017,  1.1004]]], dtype=torch.float64,\n",
       "       grad_fn=<SqueezeBackward3>)\n",
       "</pre> </div></div>"
      ],
      "text/plain": [
       "<IPython.core.display.HTML object>"
      ]
     },
     "metadata": {},
     "output_type": "display_data"
    }
   ],
   "source": [
    "show_as_row(gap = buffer_pred(pred_m_gap, mask), no_gap = pred_m) "
   ]
  },
  {
   "cell_type": "code",
   "execution_count": null,
   "id": "9b0c3d81-172d-4266-990b-90ee7739637d",
   "metadata": {},
   "outputs": [],
   "source": [
    "state = kSR.smooth(data, mask, control)"
   ]
  },
  {
   "cell_type": "code",
   "execution_count": null,
   "id": "4fdbec63-e3aa-414e-a35c-73e35fb25fdd",
   "metadata": {},
   "outputs": [
    {
     "data": {
      "text/plain": [
       "torch.Size([2, 10, 4, 1])"
      ]
     },
     "execution_count": null,
     "metadata": {},
     "output_type": "execute_result"
    }
   ],
   "source": [
    "state.mean.shape"
   ]
  },
  {
   "cell_type": "code",
   "execution_count": null,
   "id": "769124f3-2bc4-4bc6-975d-d302c6635ca3",
   "metadata": {},
   "outputs": [],
   "source": [
    "gap_mask = ~mask.all(-1)\n",
    "# this destroy batches! so need to do some magic after\n",
    "state_gap = state[gap_mask]"
   ]
  },
  {
   "cell_type": "code",
   "execution_count": null,
   "id": "386088f4-8d2d-413d-b478-5bf9656252b6",
   "metadata": {},
   "outputs": [
    {
     "data": {
      "text/plain": [
       "torch.Size([10, 4, 1])"
      ]
     },
     "execution_count": null,
     "metadata": {},
     "output_type": "execute_result"
    }
   ],
   "source": [
    "state_gap.mean.shape"
   ]
  },
  {
   "cell_type": "code",
   "execution_count": null,
   "id": "476c1b87-5f59-4208-960c-f9c619f05dc5",
   "metadata": {},
   "outputs": [
    {
     "data": {
      "text/plain": [
       "tensor([[[ 0.0322, -0.3666,  0.3765],\n",
       "         [ 0.1475, -0.0844,  0.4320],\n",
       "         [ 0.1625, -0.0796,  0.3119],\n",
       "         [-0.1102, -0.5474, -0.1901],\n",
       "         [-0.1439, -0.4996,  0.0158],\n",
       "         [ 0.1736, -0.0500,  0.1638],\n",
       "         [ 0.0998, -0.2115,  0.2026],\n",
       "         [ 0.2642,  0.0727,  0.4966],\n",
       "         [ 0.2667,  0.0202,  0.5999],\n",
       "         [ 0.5621,  0.4854,  1.0911]],\n",
       "\n",
       "        [[ 0.0523, -0.3558,  0.1773],\n",
       "         [ 0.0572, -0.2074,  0.2059],\n",
       "         [ 0.0361, -0.2809,  0.0575],\n",
       "         [-0.0671, -0.3611,  0.1202],\n",
       "         [ 0.1032, -0.2193, -0.1928],\n",
       "         [-0.1298, -0.5874, -0.3787],\n",
       "         [ 0.0450, -0.2554, -0.2029],\n",
       "         [ 0.0938, -0.0932,  0.3782],\n",
       "         [ 0.2229, -0.1440, -0.1133],\n",
       "         [ 0.3722,  0.3017,  1.1004]]], dtype=torch.float64,\n",
       "       grad_fn=<SqueezeBackward3>)"
      ]
     },
     "execution_count": null,
     "metadata": {},
     "output_type": "execute_result"
    }
   ],
   "source": [
    "pred_obs = kSR._obs_from_state(state)\n",
    "pred_obs.mean.squeeze_(-1)"
   ]
  },
  {
   "cell_type": "code",
   "execution_count": null,
   "id": "de3939b2-6c5a-4e5b-ad59-f9e5b8066d27",
   "metadata": {},
   "outputs": [
    {
     "data": {
      "text/plain": [
       "tensor([[ 0.0322, -0.3666,  0.3765],\n",
       "        [ 0.1475, -0.0844,  0.4320],\n",
       "        [ 0.1625, -0.0796,  0.3119],\n",
       "        [-0.1102, -0.5474, -0.1901],\n",
       "        [-0.1439, -0.4996,  0.0158],\n",
       "        [ 0.2642,  0.0727,  0.4966],\n",
       "        [ 0.2667,  0.0202,  0.5999],\n",
       "        [ 0.0572, -0.2074,  0.2059],\n",
       "        [-0.0671, -0.3611,  0.1202],\n",
       "        [ 0.1032, -0.2193, -0.1928]], dtype=torch.float64,\n",
       "       grad_fn=<SqueezeBackward3>)"
      ]
     },
     "execution_count": null,
     "metadata": {},
     "output_type": "execute_result"
    }
   ],
   "source": [
    "pred_obs_gap = kSR._obs_from_state(state_gap)\n",
    "pred_obs_gap.mean.squeeze_(-1)"
   ]
  },
  {
   "cell_type": "code",
   "execution_count": null,
   "id": "0727d063-1420-4836-bc28-7344fe03f4d1",
   "metadata": {},
   "outputs": [
    {
     "data": {
      "text/plain": [
       "tensor(True)"
      ]
     },
     "execution_count": null,
     "metadata": {},
     "output_type": "execute_result"
    }
   ],
   "source": [
    "(pred_obs[gap_mask].mean == pred_obs_gap.mean).all() # so far good"
   ]
  },
  {
   "cell_type": "code",
   "execution_count": null,
   "id": "f2066bd6-078c-4cfa-a9d0-09146eb734cb",
   "metadata": {},
   "outputs": [
    {
     "data": {
      "text/plain": [
       "torch.Size([2, 10, 3])"
      ]
     },
     "execution_count": null,
     "metadata": {},
     "output_type": "execute_result"
    }
   ],
   "source": [
    "pred_obs.mean.shape"
   ]
  },
  {
   "cell_type": "code",
   "execution_count": null,
   "id": "8360ff90-bacf-445b-82a7-f9e0ab4b68f7",
   "metadata": {},
   "outputs": [
    {
     "data": {
      "text/plain": [
       "torch.Size([2, 10, 3])"
      ]
     },
     "execution_count": null,
     "metadata": {},
     "output_type": "execute_result"
    }
   ],
   "source": [
    "mask.shape"
   ]
  },
  {
   "cell_type": "code",
   "execution_count": null,
   "id": "b2f6a24f-6fab-426c-954a-dd16fe6653d2",
   "metadata": {},
   "outputs": [
    {
     "data": {
      "text/html": [
       "<div style=\"display: flex; column-gap: 20px; flex-wrap: wrap;\" class='table table-striped table-sm'> <div><p style='font-size: 1.2rem;'>pred</p> <pre>tensor([[[    nan, -0.3666,  0.3765],\n",
       "         [    nan, -0.0844,     nan],\n",
       "         [ 0.1625,     nan,  0.3119],\n",
       "         [-0.1102, -0.5474, -0.1901],\n",
       "         [-0.1439, -0.4996,     nan],\n",
       "         [    nan,     nan,     nan],\n",
       "         [    nan,     nan,     nan],\n",
       "         [    nan,     nan,  0.4966],\n",
       "         [    nan,  0.0202,     nan],\n",
       "         [    nan,     nan,     nan]],\n",
       "\n",
       "        [[    nan,     nan,     nan],\n",
       "         [    nan,     nan,  0.2059],\n",
       "         [    nan,     nan,     nan],\n",
       "         [    nan, -0.3611,     nan],\n",
       "         [ 0.1032,     nan,     nan],\n",
       "         [    nan,     nan,     nan],\n",
       "         [    nan,     nan,     nan],\n",
       "         [    nan,     nan,     nan],\n",
       "         [    nan,     nan,     nan],\n",
       "         [    nan,     nan,     nan]]], dtype=torch.float64)\n",
       "</pre> </div><div><p style='font-size: 1.2rem;'>mask</p> <pre>tensor([[[ True, False, False],\n",
       "         [ True, False,  True],\n",
       "         [False,  True, False],\n",
       "         [False, False, False],\n",
       "         [False, False,  True],\n",
       "         [ True,  True,  True],\n",
       "         [ True,  True,  True],\n",
       "         [ True,  True, False],\n",
       "         [ True, False,  True],\n",
       "         [ True,  True,  True]],\n",
       "\n",
       "        [[ True,  True,  True],\n",
       "         [ True,  True, False],\n",
       "         [ True,  True,  True],\n",
       "         [ True, False,  True],\n",
       "         [False,  True,  True],\n",
       "         [ True,  True,  True],\n",
       "         [ True,  True,  True],\n",
       "         [ True,  True,  True],\n",
       "         [ True,  True,  True],\n",
       "         [ True,  True,  True]]])\n",
       "</pre> </div><div><p style='font-size: 1.2rem;'>all</p> <pre>tensor([[[ 0.0322, -0.3666,  0.3765],\n",
       "         [ 0.1475, -0.0844,  0.4320],\n",
       "         [ 0.1625, -0.0796,  0.3119],\n",
       "         [-0.1102, -0.5474, -0.1901],\n",
       "         [-0.1439, -0.4996,  0.0158],\n",
       "         [ 0.1736, -0.0500,  0.1638],\n",
       "         [ 0.0998, -0.2115,  0.2026],\n",
       "         [ 0.2642,  0.0727,  0.4966],\n",
       "         [ 0.2667,  0.0202,  0.5999],\n",
       "         [ 0.5621,  0.4854,  1.0911]],\n",
       "\n",
       "        [[ 0.0523, -0.3558,  0.1773],\n",
       "         [ 0.0572, -0.2074,  0.2059],\n",
       "         [ 0.0361, -0.2809,  0.0575],\n",
       "         [-0.0671, -0.3611,  0.1202],\n",
       "         [ 0.1032, -0.2193, -0.1928],\n",
       "         [-0.1298, -0.5874, -0.3787],\n",
       "         [ 0.0450, -0.2554, -0.2029],\n",
       "         [ 0.0938, -0.0932,  0.3782],\n",
       "         [ 0.2229, -0.1440, -0.1133],\n",
       "         [ 0.3722,  0.3017,  1.1004]]], dtype=torch.float64,\n",
       "       grad_fn=<SqueezeBackward3>)\n",
       "</pre> </div></div>"
      ],
      "text/plain": [
       "<IPython.core.display.HTML object>"
      ]
     },
     "metadata": {},
     "output_type": "display_data"
    }
   ],
   "source": [
    "show_as_row(pred = buffer_pred(_masked2batch(pred_obs_gap.mean, mask), mask), mask = mask, all = pred_obs.mean)"
   ]
  },
  {
   "cell_type": "code",
   "execution_count": null,
   "id": "a6b92fee-246f-4827-89c3-ae6cb74e2859",
   "metadata": {},
   "outputs": [],
   "source": [
    "pred_gap_buff = buffer_pred(_masked2batch(pred_obs_gap.mean, mask), mask)\n",
    "mask_na = ~pred_gap_buff.isnan()"
   ]
  },
  {
   "cell_type": "code",
   "execution_count": null,
   "id": "0182110c-d30c-4013-bbb2-5c5b6cc36b4c",
   "metadata": {},
   "outputs": [],
   "source": [
    "test_close(pred_gap_buff[mask_na], pred_obs.mean[mask_na])"
   ]
  },
  {
   "cell_type": "code",
   "execution_count": null,
   "id": "9086ca15-24a3-4047-b9f9-23b283fd24cc",
   "metadata": {},
   "outputs": [],
   "source": [
    "with with_settings(kSR, use_conditional=False, pred_only_gap=True):\n",
    "    pred_gap_buff = buffer_pred(kSR.predict(data, mask, control).mean, mask)\n",
    "mask_na = ~pred_gap_buff.isnan()\n",
    "with with_settings(kSR, use_conditional=False, pred_only_gap=False):\n",
    "    pred_ng = kSR.predict(data, mask, control).mean"
   ]
  },
  {
   "cell_type": "code",
   "execution_count": null,
   "id": "e2cb396a-8feb-4836-8d6f-47786d4e7be8",
   "metadata": {},
   "outputs": [],
   "source": [
    "test_close(pred_gap_buff[mask_na], pred_ng[mask_na])"
   ]
  },
  {
   "cell_type": "code",
   "execution_count": null,
   "id": "3ce6e886-b27c-46b7-8e33-770d28d74b89",
   "metadata": {},
   "outputs": [
    {
     "data": {
      "text/html": [
       "<div style=\"display: flex; column-gap: 20px; flex-wrap: wrap;\" class='table table-striped table-sm'> <div><p style='font-size: 1.2rem;'>pred</p> <pre>tensor([[[    nan, -0.3666,  0.3765],\n",
       "         [    nan, -0.0844,     nan],\n",
       "         [ 0.1625,     nan,  0.3119],\n",
       "         [-0.1102, -0.5474, -0.1901],\n",
       "         [-0.1439, -0.4996,     nan],\n",
       "         [    nan,     nan,     nan],\n",
       "         [    nan,     nan,     nan],\n",
       "         [    nan,     nan,  0.4966],\n",
       "         [    nan,  0.0202,     nan],\n",
       "         [    nan,     nan,     nan]],\n",
       "\n",
       "        [[    nan,     nan,     nan],\n",
       "         [    nan,     nan,  0.2059],\n",
       "         [    nan,     nan,     nan],\n",
       "         [    nan, -0.3611,     nan],\n",
       "         [ 0.1032,     nan,     nan],\n",
       "         [    nan,     nan,     nan],\n",
       "         [    nan,     nan,     nan],\n",
       "         [    nan,     nan,     nan],\n",
       "         [    nan,     nan,     nan],\n",
       "         [    nan,     nan,     nan]]], dtype=torch.float64)\n",
       "</pre> </div><div><p style='font-size: 1.2rem;'>mask</p> <pre>tensor([[[ True, False, False],\n",
       "         [ True, False,  True],\n",
       "         [False,  True, False],\n",
       "         [False, False, False],\n",
       "         [False, False,  True],\n",
       "         [ True,  True,  True],\n",
       "         [ True,  True,  True],\n",
       "         [ True,  True, False],\n",
       "         [ True, False,  True],\n",
       "         [ True,  True,  True]],\n",
       "\n",
       "        [[ True,  True,  True],\n",
       "         [ True,  True, False],\n",
       "         [ True,  True,  True],\n",
       "         [ True, False,  True],\n",
       "         [False,  True,  True],\n",
       "         [ True,  True,  True],\n",
       "         [ True,  True,  True],\n",
       "         [ True,  True,  True],\n",
       "         [ True,  True,  True],\n",
       "         [ True,  True,  True]]])\n",
       "</pre> </div><div><p style='font-size: 1.2rem;'>all</p> <pre>tensor([[[ 0.0322, -0.3666,  0.3765],\n",
       "         [ 0.1475, -0.0844,  0.4320],\n",
       "         [ 0.1625, -0.0796,  0.3119],\n",
       "         [-0.1102, -0.5474, -0.1901],\n",
       "         [-0.1439, -0.4996,  0.0158],\n",
       "         [ 0.1736, -0.0500,  0.1638],\n",
       "         [ 0.0998, -0.2115,  0.2026],\n",
       "         [ 0.2642,  0.0727,  0.4966],\n",
       "         [ 0.2667,  0.0202,  0.5999],\n",
       "         [ 0.5621,  0.4854,  1.0911]],\n",
       "\n",
       "        [[ 0.0523, -0.3558,  0.1773],\n",
       "         [ 0.0572, -0.2074,  0.2059],\n",
       "         [ 0.0361, -0.2809,  0.0575],\n",
       "         [-0.0671, -0.3611,  0.1202],\n",
       "         [ 0.1032, -0.2193, -0.1928],\n",
       "         [-0.1298, -0.5874, -0.3787],\n",
       "         [ 0.0450, -0.2554, -0.2029],\n",
       "         [ 0.0938, -0.0932,  0.3782],\n",
       "         [ 0.2229, -0.1440, -0.1133],\n",
       "         [ 0.3722,  0.3017,  1.1004]]], dtype=torch.float64,\n",
       "       grad_fn=<SqueezeBackward3>)\n",
       "</pre> </div></div>"
      ],
      "text/plain": [
       "<IPython.core.display.HTML object>"
      ]
     },
     "metadata": {},
     "output_type": "display_data"
    }
   ],
   "source": [
    "show_as_row(pred = pred_gap_buff, mask = mask, all = pred_ng)"
   ]
  },
  {
   "cell_type": "markdown",
   "id": "ba9b64b5-a3f7-42e6-98d3-bc4e6c32566b",
   "metadata": {},
   "source": [
    "#### Conditional"
   ]
  },
  {
   "cell_type": "code",
   "execution_count": null,
   "id": "048833c1-4cd8-4670-8bbc-c149760ceb1f",
   "metadata": {},
   "outputs": [],
   "source": [
    "with with_settings(kSR, use_conditional=False, pred_only_gap=True):\n",
    "    pred_gap = buffer_pred(kSR.predict(data, mask, control).mean, mask)\n",
    "with with_settings(kSR, use_conditional=True, pred_only_gap=True):\n",
    "    pred_gap_cond = buffer_pred(kSR.predict(data, mask, control).mean, mask)"
   ]
  },
  {
   "cell_type": "code",
   "execution_count": null,
   "id": "80fbaf0c-c087-439e-8318-bc65a19a9102",
   "metadata": {},
   "outputs": [
    {
     "data": {
      "text/html": [
       "<div style=\"display: flex; column-gap: 20px; flex-wrap: wrap;\" class='table table-striped table-sm'> <div><p style='font-size: 1.2rem;'>no_conditional</p> <pre>tensor([[[    nan, -0.3666,  0.3765],\n",
       "         [    nan, -0.0844,     nan],\n",
       "         [ 0.1625,     nan,  0.3119],\n",
       "         [-0.1102, -0.5474, -0.1901],\n",
       "         [-0.1439, -0.4996,     nan],\n",
       "         [    nan,     nan,     nan],\n",
       "         [    nan,     nan,     nan],\n",
       "         [    nan,     nan,  0.4966],\n",
       "         [    nan,  0.0202,     nan],\n",
       "         [    nan,     nan,     nan]],\n",
       "\n",
       "        [[    nan,     nan,     nan],\n",
       "         [    nan,     nan,  0.2059],\n",
       "         [    nan,     nan,     nan],\n",
       "         [    nan, -0.3611,     nan],\n",
       "         [ 0.1032,     nan,     nan],\n",
       "         [    nan,     nan,     nan],\n",
       "         [    nan,     nan,     nan],\n",
       "         [    nan,     nan,     nan],\n",
       "         [    nan,     nan,     nan],\n",
       "         [    nan,     nan,     nan]]], dtype=torch.float64)\n",
       "</pre> </div><div><p style='font-size: 1.2rem;'>conditional</p> <pre>tensor([[[    nan,  0.0292,  0.6235],\n",
       "         [    nan,  0.4156,     nan],\n",
       "         [ 0.3672,     nan,  0.7999],\n",
       "         [-0.1102, -0.5474, -0.1901],\n",
       "         [-0.0686, -0.1575,     nan],\n",
       "         [    nan,     nan,     nan],\n",
       "         [    nan,     nan,     nan],\n",
       "         [    nan,     nan,  0.4823],\n",
       "         [    nan,  0.1720,     nan],\n",
       "         [    nan,     nan,     nan]],\n",
       "\n",
       "        [[    nan,     nan,     nan],\n",
       "         [    nan,     nan,  0.5191],\n",
       "         [    nan,     nan,     nan],\n",
       "         [    nan,  0.2014,     nan],\n",
       "         [ 0.6513,     nan,     nan],\n",
       "         [    nan,     nan,     nan],\n",
       "         [    nan,     nan,     nan],\n",
       "         [    nan,     nan,     nan],\n",
       "         [    nan,     nan,     nan],\n",
       "         [    nan,     nan,     nan]]], dtype=torch.float64)\n",
       "</pre> </div></div>"
      ],
      "text/plain": [
       "<IPython.core.display.HTML object>"
      ]
     },
     "metadata": {},
     "output_type": "display_data"
    }
   ],
   "source": [
    "show_as_row(no_conditional = pred_gap, conditional = pred_gap_cond)"
   ]
  },
  {
   "cell_type": "code",
   "execution_count": null,
   "id": "87e8bd70-a153-457b-a530-8784429799fe",
   "metadata": {},
   "outputs": [],
   "source": []
  },
  {
   "cell_type": "code",
   "execution_count": null,
   "id": "23a93bd5-f163-41ee-bb3c-797785104b63",
   "metadata": {},
   "outputs": [
    {
     "data": {
      "text/plain": [
       "tensor([[ True, False, False],\n",
       "        [ True, False,  True],\n",
       "        [False,  True, False],\n",
       "        [False, False, False],\n",
       "        [False, False,  True],\n",
       "        [ True,  True, False],\n",
       "        [ True, False,  True],\n",
       "        [ True,  True, False],\n",
       "        [ True, False,  True],\n",
       "        [False,  True,  True]])"
      ]
     },
     "execution_count": null,
     "metadata": {},
     "output_type": "execute_result"
    }
   ],
   "source": [
    "mask[gap_mask]"
   ]
  },
  {
   "cell_type": "code",
   "execution_count": null,
   "id": "56e031ab-696a-4c36-872e-2d6e724620e2",
   "metadata": {},
   "outputs": [
    {
     "data": {
      "text/plain": [
       "tensor([[0.8775,    nan,    nan],\n",
       "        [0.6706,    nan, 0.9272],\n",
       "        [   nan, 0.4967,    nan],\n",
       "        [   nan,    nan,    nan],\n",
       "        [   nan,    nan, 0.4760],\n",
       "        [0.9991, 0.1775,    nan],\n",
       "        [0.6734,    nan, 0.6468],\n",
       "        [0.3725, 0.2052,    nan],\n",
       "        [0.5927,    nan, 0.6441],\n",
       "        [   nan, 0.9132, 0.0329]], dtype=torch.float64)"
      ]
     },
     "execution_count": null,
     "metadata": {},
     "output_type": "execute_result"
    }
   ],
   "source": [
    "data[gap_mask]"
   ]
  },
  {
   "cell_type": "code",
   "execution_count": null,
   "id": "e4189fcb-c76d-4750-9eb7-7e8614e83b06",
   "metadata": {},
   "outputs": [
    {
     "data": {
      "text/plain": [
       "tensor([[0.8775,    nan,    nan],\n",
       "        [0.6706,    nan, 0.9272],\n",
       "        [   nan, 0.4967,    nan],\n",
       "        [   nan,    nan,    nan],\n",
       "        [   nan,    nan, 0.4760],\n",
       "        [0.9991, 0.1775,    nan],\n",
       "        [0.6734,    nan, 0.6468],\n",
       "        [0.3725, 0.2052,    nan],\n",
       "        [0.5927,    nan, 0.6441],\n",
       "        [   nan, 0.9132, 0.0329]], dtype=torch.float64)"
      ]
     },
     "execution_count": null,
     "metadata": {},
     "output_type": "execute_result"
    }
   ],
   "source": [
    "data[gap_mask]"
   ]
  },
  {
   "cell_type": "code",
   "execution_count": null,
   "id": "8e73e6e4-c51c-494c-8747-febcb9f9969f",
   "metadata": {},
   "outputs": [],
   "source": [
    "assert is_posdef(pred_cov[0][0]).all()"
   ]
  },
  {
   "cell_type": "code",
   "execution_count": null,
   "id": "318a9359-521b-4895-a5be-e4cc4b96646e",
   "metadata": {},
   "outputs": [],
   "source": [
    "state = kSR.smooth(data, mask, control)\n",
    "assert not state.cov.isnan().any()\n",
    "kSR.use_sr_pred = False\n",
    "pred_obs = kSR._obs_from_state(state)\n",
    "assert not pred_obs.cov.isnan().any()"
   ]
  },
  {
   "cell_type": "code",
   "execution_count": null,
   "id": "2167116c-7100-47b4-9272-26bad49dd66a",
   "metadata": {},
   "outputs": [
    {
     "data": {
      "text/plain": [
       "tensor(False)"
      ]
     },
     "execution_count": null,
     "metadata": {},
     "output_type": "execute_result"
    }
   ],
   "source": [
    "cov2std(pred_obs.cov).isnan().any()"
   ]
  },
  {
   "cell_type": "code",
   "execution_count": null,
   "id": "e67ab856-1402-4fff-b069-d68eeb8221a9",
   "metadata": {},
   "outputs": [],
   "source": [
    "assert not kSR.predict(data, mask, control).cov.isnan().any()"
   ]
  },
  {
   "cell_type": "code",
   "execution_count": null,
   "id": "a0ccb098-68fc-483d-bc9f-6cf7c5b2117a",
   "metadata": {},
   "outputs": [],
   "source": [
    "assert not kSR.predict(data, mask, control, smooth=False).cov.isnan().any()"
   ]
  },
  {
   "cell_type": "code",
   "execution_count": null,
   "id": "4900419b-2634-47da-a860-b2867517cce5",
   "metadata": {},
   "outputs": [],
   "source": [
    "#| export\n",
    "@patch\n",
    "def _predict_filter(self: KalmanFilterSR, data, mask, control):\n",
    "    \"\"\"Predict every obsevation using only the filter step\"\"\"\n",
    "    # use the predicted state not the filtered state!\n",
    "    self.use_sr_pred = True\n",
    "    filt_state, pred_state = self._filter_all(data, mask, control)\n",
    "    mean, cov = self._obs_from_state(pred_state)\n",
    "            \n",
    "    return ListNormal(mean.squeeze(-1), cov @ cov.mT) # convert to actual covariances"
   ]
  },
  {
   "cell_type": "code",
   "execution_count": null,
   "id": "42fa20ba-321a-45e8-aa2e-e60785fe2545",
   "metadata": {},
   "outputs": [
    {
     "data": {
      "text/plain": [
       "torch.Size([2, 10, 3, 3])"
      ]
     },
     "execution_count": null,
     "metadata": {},
     "output_type": "execute_result"
    }
   ],
   "source": [
    "kSR._predict_filter(data, mask, control).std.shape"
   ]
  },
  {
   "cell_type": "code",
   "execution_count": null,
   "id": "bb4c9cd2-1382-49d2-b848-1528bfbba5ab",
   "metadata": {},
   "outputs": [],
   "source": [
    "kSR.use_conditional = False"
   ]
  },
  {
   "cell_type": "code",
   "execution_count": null,
   "id": "ddc1da38-77b6-4fa2-af2f-922c6784e4d7",
   "metadata": {},
   "outputs": [],
   "source": [
    "pred = kSR.predict(data, mask, control, smooth=True)"
   ]
  },
  {
   "cell_type": "code",
   "execution_count": null,
   "id": "3cbc17ce-01a0-4e29-a999-1a806f7d577f",
   "metadata": {},
   "outputs": [
    {
     "ename": "AttributeError",
     "evalue": "'ListMultiNormal' object has no attribute 'std'",
     "output_type": "error",
     "traceback": [
      "\u001b[0;31m---------------------------------------------------------------------------\u001b[0m",
      "\u001b[0;31mAttributeError\u001b[0m                            Traceback (most recent call last)",
      "Input \u001b[0;32mIn [282]\u001b[0m, in \u001b[0;36m<cell line: 1>\u001b[0;34m()\u001b[0m\n\u001b[0;32m----> 1\u001b[0m pred\u001b[38;5;241m.\u001b[39mmean\u001b[38;5;241m.\u001b[39mshape, \u001b[43mpred\u001b[49m\u001b[38;5;241;43m.\u001b[39;49m\u001b[43mstd\u001b[49m\u001b[38;5;241m.\u001b[39mshape\n",
      "\u001b[0;31mAttributeError\u001b[0m: 'ListMultiNormal' object has no attribute 'std'"
     ]
    }
   ],
   "source": [
    "pred.mean.shape, pred.std.shape"
   ]
  },
  {
   "cell_type": "code",
   "execution_count": null,
   "id": "d29511c8-7226-4dbb-9603-66bf976e1a99",
   "metadata": {},
   "outputs": [],
   "source": [
    "filt_state, pred_state = kSR._filter_all(data, mask, control)\n",
    "mean, cov = kSR._obs_from_state(pred_state)"
   ]
  },
  {
   "cell_type": "code",
   "execution_count": null,
   "id": "5c47b978-60a9-484b-aaab-5207f1bda2aa",
   "metadata": {},
   "outputs": [],
   "source": [
    "is_posdef(cov @ cov.mT)"
   ]
  },
  {
   "cell_type": "code",
   "execution_count": null,
   "id": "658a1367-9932-4450-add0-4488f0a4b128",
   "metadata": {},
   "outputs": [],
   "source": [
    "pred"
   ]
  },
  {
   "cell_type": "markdown",
   "id": "9f14c898-d2ae-4bc0-b09f-88fa1bc6d267",
   "metadata": {},
   "source": [
    "## Debug nan"
   ]
  },
  {
   "cell_type": "code",
   "execution_count": null,
   "id": "48e8dfb8-66ae-456f-a643-4788914c4ba2",
   "metadata": {},
   "outputs": [],
   "source": [
    "import polars as pl\n",
    "import altair as alt"
   ]
  },
  {
   "cell_type": "code",
   "execution_count": null,
   "id": "115c57c9-d536-4fcc-8660-27f9a4cfc2f6",
   "metadata": {},
   "outputs": [],
   "source": [
    "kSR.predict(*get_test_data(200)).cov.isnan().any()"
   ]
  },
  {
   "cell_type": "code",
   "execution_count": null,
   "id": "4155b2e8-7cb1-4a1b-acf1-07b8777b04aa",
   "metadata": {},
   "outputs": [],
   "source": [
    "data.shape"
   ]
  },
  {
   "cell_type": "code",
   "execution_count": null,
   "id": "6a54c1e6-8bf3-461f-bd88-8e2fef622a70",
   "metadata": {},
   "outputs": [],
   "source": [
    "reset_seed()"
   ]
  },
  {
   "cell_type": "markdown",
   "id": "96ebbee1-3804-41c4-99c0-79f6f209e435",
   "metadata": {},
   "source": [
    "### SR Filter"
   ]
  },
  {
   "cell_type": "code",
   "execution_count": null,
   "id": "f3610c40-8bd1-4ec0-ac7c-1d5d32548a32",
   "metadata": {},
   "outputs": [],
   "source": [
    "nan = [{'nan':kSR.predict(*get_test_data(n), smooth=smooth).cov.isnan().any().item(), 'n': n, 'rep': rep, 'smooth': smooth}\n",
    "       for n in [10, 20, 30, 40, 50, 55, 60, 70, 100, 150, 200] for rep in range(10) for smooth in [True, False]]"
   ]
  },
  {
   "cell_type": "code",
   "execution_count": null,
   "id": "2dbc0988-0aa4-42c0-8817-7e5da5750454",
   "metadata": {},
   "outputs": [],
   "source": [
    "nan_df = pl.DataFrame(nan).groupby(['nan', 'n', 'smooth']).count().to_pandas()"
   ]
  },
  {
   "cell_type": "code",
   "execution_count": null,
   "id": "80c8946e-2007-4fd5-aff5-f46408136122",
   "metadata": {},
   "outputs": [],
   "source": [
    "alt.Chart(nan_df).mark_line().encode(x='n:Q', y='count', color='nan', column='smooth')"
   ]
  },
  {
   "cell_type": "markdown",
   "id": "eeb2712d-05fa-4e53-a4ab-25c49e76586f",
   "metadata": {},
   "source": [
    "### Standard Filter"
   ]
  },
  {
   "cell_type": "code",
   "execution_count": null,
   "id": "5638e4aa-223f-4a9a-84f7-2fdaf1e23e44",
   "metadata": {},
   "outputs": [],
   "source": [
    "k = KalmanFilter.init_from(kSR)"
   ]
  },
  {
   "cell_type": "code",
   "execution_count": null,
   "id": "7dc4f3bb-ca2d-480e-b43d-083fdf4ae34c",
   "metadata": {},
   "outputs": [],
   "source": [
    "nan = [{'nan':k.predict(*get_test_data(n), smooth=smooth).std.isnan().any().item(), 'n': n, 'rep': rep, 'smooth': smooth}\n",
    "       for n in [10, 20, 30, 40, 50, 55, 60, 70, 100, 150, 200] for rep in range(10) for smooth in [True, False]]"
   ]
  },
  {
   "cell_type": "code",
   "execution_count": null,
   "id": "11815c91-6336-4e33-92eb-d19728de94ab",
   "metadata": {},
   "outputs": [],
   "source": [
    "nan_df = pl.DataFrame(nan).groupby(['nan', 'n', 'smooth']).count().to_pandas()"
   ]
  },
  {
   "cell_type": "code",
   "execution_count": null,
   "id": "79f5ecc5-8816-466d-84c2-7804e2919a36",
   "metadata": {},
   "outputs": [],
   "source": [
    "alt.Chart(nan_df).mark_line().encode(x='n:Q', y='count', color='nan', column='smooth')"
   ]
  },
  {
   "cell_type": "markdown",
   "id": "9e8ed408-5e13-4f54-8a70-fb9c5fb65b63",
   "metadata": {},
   "source": [
    "so the standard filter is working better than the SR for the smoothing (with this parameter setting), so there is a way to make the sr smoother not that bad"
   ]
  },
  {
   "cell_type": "markdown",
   "id": "21142c18-b36e-4cfb-aba1-68eb63d6d1b6",
   "metadata": {},
   "source": [
    "But I just want to see how we have nan"
   ]
  },
  {
   "cell_type": "markdown",
   "id": "dc1a3615-3070-4090-9d9b-9de13e303f3a",
   "metadata": {},
   "source": [
    "So the problem is that we have a negative number on the diagonal ... so is not positive definite and even the standard deviation is nan"
   ]
  },
  {
   "cell_type": "code",
   "execution_count": null,
   "id": "4c206675-3d11-4865-866f-e944e19e2f23",
   "metadata": {},
   "outputs": [],
   "source": [
    "for i in range(20):\n",
    "    dat = get_test_data(10)\n",
    "    pred = kSR.predict(*dat)\n",
    "    if pred.cov.isnan().any():\n",
    "        print(i)\n",
    "        break"
   ]
  },
  {
   "cell_type": "code",
   "execution_count": null,
   "id": "008109b8-54f4-4e5b-ad4b-25d6ab429f05",
   "metadata": {},
   "outputs": [],
   "source": [
    "k = KalmanFilter.init_from(kSR)"
   ]
  },
  {
   "cell_type": "code",
   "execution_count": null,
   "id": "c8b4b5b6-89e6-49ad-aacf-ec2e48484c34",
   "metadata": {},
   "outputs": [],
   "source": [
    "for p1, p2 in zip(k.parameters(), kSR.parameters()):\n",
    "    test_close(p1,p2)                "
   ]
  },
  {
   "cell_type": "code",
   "execution_count": null,
   "id": "c3427cb8-10c5-4856-b56d-086ed75cac4d",
   "metadata": {},
   "outputs": [],
   "source": [
    "f_state_stand = k.filter(*dat)\n",
    "s_state_stand = k.smooth(*dat)\n",
    "pred_stand = k.predict(*dat)"
   ]
  },
  {
   "cell_type": "code",
   "execution_count": null,
   "id": "806dac85-1abf-4f0e-9838-96cc972e3b19",
   "metadata": {},
   "outputs": [],
   "source": [
    "pred_stand[1, -1].std"
   ]
  },
  {
   "cell_type": "code",
   "execution_count": null,
   "id": "75249f1d-54de-406c-a4a8-7be7a95af298",
   "metadata": {},
   "outputs": [],
   "source": [
    "(f_state_stand.mean - filt_state.mean).mean()"
   ]
  },
  {
   "cell_type": "code",
   "execution_count": null,
   "id": "ae1c18b3-34d8-4b6a-af44-efd4eab47101",
   "metadata": {},
   "outputs": [],
   "source": [
    "filt_state = kSR.filter(*dat)"
   ]
  },
  {
   "cell_type": "code",
   "execution_count": null,
   "id": "71dd3367-e966-4a42-b479-42fac0b29cc8",
   "metadata": {},
   "outputs": [],
   "source": [
    "s_state = kSR.smooth(*dat)"
   ]
  },
  {
   "cell_type": "code",
   "execution_count": null,
   "id": "6680f36c-0e50-4c35-8612-fed9d0f0d6a2",
   "metadata": {},
   "outputs": [],
   "source": [
    "is_posdef(s_state.cov)"
   ]
  },
  {
   "cell_type": "code",
   "execution_count": null,
   "id": "e4b67c4c-9145-44e2-bbe4-06e57ecc36d9",
   "metadata": {},
   "outputs": [],
   "source": [
    "is_posdef(s_state[1, -1].cov)"
   ]
  },
  {
   "cell_type": "code",
   "execution_count": null,
   "id": "faca650c-cb0d-4fa1-aa9a-f2210dddf096",
   "metadata": {},
   "outputs": [],
   "source": [
    "filt_state[1,-1].cov"
   ]
  },
  {
   "cell_type": "code",
   "execution_count": null,
   "id": "753b2538-fed5-444d-a3f6-d53d22e66b31",
   "metadata": {},
   "outputs": [],
   "source": []
  },
  {
   "cell_type": "code",
   "execution_count": null,
   "id": "3fc22592-87ea-4bf9-ad61-a2bac8c37d10",
   "metadata": {},
   "outputs": [],
   "source": [
    "kSR.H @ s_state[1, -1].cov @ kSR.H.mT"
   ]
  },
  {
   "cell_type": "code",
   "execution_count": null,
   "id": "4074e5ef-f5f6-4115-8103-8a8be53923c9",
   "metadata": {},
   "outputs": [],
   "source": [
    "kSR.use_sr_pred = False\n",
    "pred_obs = kSR._obs_from_state(s_state)\n",
    "pred_obs[1,-1].cov"
   ]
  },
  {
   "cell_type": "code",
   "execution_count": null,
   "id": "9222f047-93ff-464b-8c21-a87e4e705152",
   "metadata": {},
   "outputs": [],
   "source": [
    "kSR.predict(*dat)."
   ]
  },
  {
   "cell_type": "code",
   "execution_count": null,
   "id": "9a72671b-0369-45ba-9464-18191a6f4a64",
   "metadata": {},
   "outputs": [],
   "source": [
    "pred.std[1,-1]"
   ]
  },
  {
   "cell_type": "markdown",
   "id": "edfa3b42-ae74-4b05-adb9-a85a800f64a9",
   "metadata": {},
   "source": [
    "## Additional"
   ]
  },
  {
   "cell_type": "markdown",
   "id": "1cafd50f-a16c-4d5e-b80d-9cafae21e069",
   "metadata": {},
   "source": [
    "### Constructors"
   ]
  },
  {
   "cell_type": "markdown",
   "id": "baa68b6a-7e0f-4a33-aa13-a814390ebf3d",
   "metadata": {},
   "source": [
    "#### Simple parameters"
   ]
  },
  {
   "cell_type": "code",
   "execution_count": null,
   "id": "81636a78-9bcf-4d7f-98c6-95e9180fe787",
   "metadata": {},
   "outputs": [],
   "source": [
    "#| export\n",
    "@patch(cls_method=True)\n",
    "def init_simple(cls: KalmanFilter|KalmanFilterSR,\n",
    "                n_dim, # n_dim_obs and n_dim_state\n",
    "                dtype=torch.float64):\n",
    "    \"\"\"Simplest version of kalman filter parameters\"\"\"\n",
    "    return cls(\n",
    "        A =     torch.eye(n_dim, dtype=dtype),\n",
    "        b =        torch.zeros(n_dim, dtype=dtype),        \n",
    "        Q =        torch.eye(n_dim, dtype=dtype),        \n",
    "        H =       torch.eye(n_dim, dtype=dtype),\n",
    "        d =          torch.zeros(n_dim, dtype=dtype),          \n",
    "        R =          torch.eye(n_dim, dtype=dtype),            \n",
    "        B =     torch.eye(n_dim, dtype=dtype),\n",
    "        m0 =  torch.zeros(n_dim, dtype=dtype),        \n",
    "        P0 =   torch.eye(n_dim, dtype=dtype),\n",
    "    )"
   ]
  },
  {
   "cell_type": "code",
   "execution_count": null,
   "id": "d8fa3ea9-92f5-4477-b06a-320df4263da9",
   "metadata": {},
   "outputs": [],
   "source": [
    "KalmanFilter.init_simple(2).state_dict()"
   ]
  },
  {
   "cell_type": "markdown",
   "id": "fb60e878-9e22-43b1-90a0-cf16077407e7",
   "metadata": {},
   "source": [
    "#### Local slope"
   ]
  },
  {
   "cell_type": "markdown",
   "id": "b1f67b01-c514-4be0-ba53-febf6645a787",
   "metadata": {},
   "source": [
    "Local slope models are an extentions of local level model that in the state variable keep track of also the slope\n",
    "\n",
    "Given $n$ as the number of dimensions of the observations\n",
    "\n",
    "The transition matrix (`A`) is:\n",
    "\n",
    "$$A = \\left[\\begin{array}{cc}I & I \\\\ 0 & I\\end{array}\\right]$$\n",
    "\n",
    "where:\n",
    "\n",
    "- $I \\in \\mathbb{R}^{n \\times n}$\n",
    "- $A \\in \\mathbb{R}^{2n \\times 2n}$\n",
    "\n",
    "the state $x \\in \\mathbb{R}^{2N \\times 1}$ where the upper half keep track of the level and the lower half of the slope. $A \\in \\mathbb{R}^2N \\times 2N$\n",
    "\n",
    "the observation matrix (`H`) is:\n",
    "\n",
    "$$H = \\left[\\begin{array}{cc}I & 0 \\end{array}\\right]$$\n",
    "\n",
    "For the multivariate case the 1 are replaced with an identiy matrix\n"
   ]
  },
  {
   "cell_type": "markdown",
   "id": "0e54802f-f56f-4fb9-8c1f-68104f98b478",
   "metadata": {},
   "source": [
    "assuming that the control has the same dimensions of the observations then if we are doing a local slope model we have $B \\in \\mathbb{R}^{state \\times contr}$:\n",
    "$$ B = \\begin{bmatrix} -I & I \\\\ 0 & 0 \\end{bmatrix}$$"
   ]
  },
  {
   "cell_type": "code",
   "execution_count": null,
   "id": "979f844f-54ee-404d-998e-e91ab56e6cd9",
   "metadata": {},
   "outputs": [],
   "source": [
    "#| export\n",
    "from torch import hstack, eye, vstack, ones, zeros, tensor\n",
    "from functools import partial\n",
    "from sklearn.decomposition import PCA"
   ]
  },
  {
   "cell_type": "code",
   "execution_count": null,
   "id": "42a6a6a4-afbe-4a36-9ffb-b3fc60377df1",
   "metadata": {},
   "outputs": [],
   "source": [
    "#| exporti\n",
    "def set_dtype(*args, dtype=torch.float64):\n",
    "    return [partial(arg, dtype=dtype) for arg in args] \n",
    "\n",
    "eye, ones, zeros, tensor = set_dtype(eye, ones, zeros, tensor)"
   ]
  },
  {
   "cell_type": "code",
   "execution_count": null,
   "id": "b86efcad-d257-46bd-b2d9-82436e405171",
   "metadata": {},
   "outputs": [],
   "source": [
    "#| export\n",
    "@patch(cls_method=True)\n",
    "def init_local_slope_pca(cls: KalmanFilter|KalmanFilterSR,\n",
    "                n_dim_obs, # n_dim_obs and n_dim_contr\n",
    "                n_dim_state: int, # n_dim_state\n",
    "                n_dim_contr:int, #n dim control\n",
    "                df_pca: pd.DataFrame|None = None, # dataframe for PCA init, None no PCA init,\n",
    "                pca_contr:int = False,\n",
    "                **kwargs\n",
    "            ):\n",
    "    \"\"\"Local Slope + PCA init\"\"\"\n",
    "    \n",
    "    if df_pca is not None:\n",
    "        comp = PCA(n_dim_state).fit(df_pca).components_\n",
    "        H = tensor(comp.T) # transform state -> obs \n",
    "        if pca_contr:\n",
    "            if n_dim_obs != n_dim_contr:\n",
    "                raise ValueError(\"n dim obs and n dim contr must be the same for pca of control\")\n",
    "            else:\n",
    "                B = torch.tensor(comp)\n",
    "        else:\n",
    "            B = eye(n_dim_contr)\n",
    "    else:\n",
    "        H, B = eye(n_dim_obs), eye(n_dim_contr)\n",
    "        \n",
    "    return cls(\n",
    "        A =     vstack([hstack([eye(n_dim_state),                eye(n_dim_state)]),\n",
    "                                   hstack([zeros(n_dim_state, n_dim_state), eye(n_dim_state)])]),\n",
    "        b =        zeros(n_dim_state * 2),        \n",
    "        Q =        eye(n_dim_state * 2)*.1,        \n",
    "        H =       hstack([H, zeros(n_dim_obs, n_dim_state)]),\n",
    "        d =          zeros(n_dim_obs),          \n",
    "        R =          eye(n_dim_obs)*.01,            \n",
    "        B =     vstack([hstack([-B,                  B]),\n",
    "                        hstack([ zeros(2 * n_dim_state-n_dim_contr,n_dim_contr), zeros(2 * n_dim_state-n_dim_contr, n_dim_contr)])]),\n",
    "        m0 =  zeros(n_dim_state * 2),        \n",
    "        P0 =   eye(n_dim_state * 2) * 3,\n",
    "        **kwargs\n",
    "    ) "
   ]
  },
  {
   "cell_type": "code",
   "execution_count": null,
   "id": "892f9873-ca47-404b-a5f1-855d4c94220b",
   "metadata": {},
   "outputs": [],
   "source": [
    "KalmanFilter.init_local_slope_pca(2,2,pd.DataFrame([[1,2], [2,4]])).state_dict()"
   ]
  },
  {
   "cell_type": "markdown",
   "id": "0fdd2ea0-ff4e-4d2f-add0-81120b131cf3",
   "metadata": {},
   "source": [
    "## Export"
   ]
  },
  {
   "cell_type": "code",
   "execution_count": null,
   "id": "12c41b65-9eb8-4d70-b4fc-05113783e636",
   "metadata": {},
   "outputs": [],
   "source": [
    "#| hide\n",
    "from nbdev import nbdev_export\n",
    "nbdev_export()"
   ]
  }
 ],
 "metadata": {
  "kernelspec": {
   "display_name": "data_science",
   "language": "python",
   "name": "data_science"
  },
  "widgets": {
   "application/vnd.jupyter.widget-state+json": {
    "state": {},
    "version_major": 2,
    "version_minor": 0
   }
  }
 },
 "nbformat": 4,
 "nbformat_minor": 5
}
