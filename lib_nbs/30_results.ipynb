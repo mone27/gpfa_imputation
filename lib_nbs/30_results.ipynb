{
 "cells": [
  {
   "cell_type": "markdown",
   "id": "7282ac57-cfb8-4bfa-b570-3c7939355edf",
   "metadata": {},
   "source": [
    "# Results\n",
    "> code for plotting results and comparing with MDS and ERA gap filling"
   ]
  },
  {
   "cell_type": "code",
   "execution_count": null,
   "id": "524ee392-eedb-491e-a983-e4c3bc78b6fb",
   "metadata": {},
   "outputs": [],
   "source": [
    "#| hide\n",
    "#| default_exp kalman.results"
   ]
  },
  {
   "cell_type": "code",
   "execution_count": null,
   "id": "0af65d6f-ec5a-4365-9145-52c42221f4fa",
   "metadata": {},
   "outputs": [
    {
     "name": "stdout",
     "output_type": "stream",
     "text": [
      "The autoreload extension is already loaded. To reload it, use:\n",
      "  %reload_ext autoreload\n"
     ]
    }
   ],
   "source": [
    "%load_ext autoreload\n",
    "%autoreload 2"
   ]
  },
  {
   "cell_type": "code",
   "execution_count": null,
   "id": "068708d3-b9d4-41d6-ad07-31d175379c63",
   "metadata": {},
   "outputs": [],
   "source": [
    "import altair as alt"
   ]
  },
  {
   "cell_type": "code",
   "execution_count": null,
   "id": "944f5ec0-bea6-415b-b896-50a2c8992d7a",
   "metadata": {},
   "outputs": [],
   "source": [
    "import altair"
   ]
  },
  {
   "cell_type": "code",
   "execution_count": null,
   "id": "8223d7fb-4f51-4170-a7bf-9bdac1bba2c2",
   "metadata": {},
   "outputs": [],
   "source": [
    "#| export\n",
    "from fastcore.test import *\n",
    "from fastcore.basics import *\n",
    "from meteo_imp.utils import *\n",
    "from meteo_imp.gaussian import *\n",
    "from meteo_imp.data_preparation import MeteoDataTest\n",
    "from meteo_imp.kalman.filter import *\n",
    "from meteo_imp.kalman.filter import get_test_data\n",
    "from meteo_imp.data import *\n",
    "from meteo_imp.kalman.fastai import *\n",
    "from meteo_imp.kalman.fastai import _n_tuple\n",
    "from fastcore.transform import *\n",
    "from fastai.learner import *\n",
    "from pyprojroot import here\n",
    "\n",
    "import pykalman\n",
    "from typing import *\n",
    "\n",
    "import numpy as np\n",
    "import pandas as pd\n",
    "from pandas.api.types import CategoricalDtype\n",
    "import torch\n",
    "from torch import Tensor\n",
    "from torch.distributions import MultivariateNormal\n",
    "\n",
    "from timeit import timeit\n",
    "import polars as pl\n",
    "import altair as alt\n",
    "\n",
    "from tqdm.auto import tqdm\n",
    "\n",
    "import io\n",
    "from contextlib import redirect_stderr\n",
    "import random\n",
    "\n",
    "from dataclasses import dataclass\n",
    "from functools import partial\n",
    "from itertools import zip_longest"
   ]
  },
  {
   "cell_type": "markdown",
   "id": "2747b923-e9c8-470d-b5e1-67e618855a4d",
   "metadata": {},
   "source": [
    "load data for testing"
   ]
  },
  {
   "cell_type": "code",
   "execution_count": null,
   "id": "a3ae4d31-d44b-4ffd-8781-98fabe1ca7c6",
   "metadata": {},
   "outputs": [],
   "source": [
    "reset_seed()"
   ]
  },
  {
   "cell_type": "code",
   "execution_count": null,
   "id": "bb5bd0dc-fcc8-4758-8503-44c6a89af6bf",
   "metadata": {},
   "outputs": [],
   "source": [
    "hai = pd.read_parquet(hai_big_path)\n",
    "hai_era = pd.read_parquet(hai_era_big_path)"
   ]
  },
  {
   "cell_type": "code",
   "execution_count": null,
   "id": "620424c0-b449-44c0-a137-d495e7d35423",
   "metadata": {},
   "outputs": [],
   "source": [
    "dls = imp_dataloader(hai, hai_era, var_sel = 'TA', gap_len=5, block_len=100, control_lags = [1], n_rep=1, bs=1).cpu()"
   ]
  },
  {
   "cell_type": "code",
   "execution_count": null,
   "id": "130633f8-2f43-4b1a-bb12-6d768d384c7d",
   "metadata": {},
   "outputs": [],
   "source": [
    "item = MeteoImpItem(1,2, 'TA', gap_len=10)\n",
    "items = [item]"
   ]
  },
  {
   "cell_type": "code",
   "execution_count": null,
   "id": "24aeb4ac-4369-4536-bcf7-4b957c845128",
   "metadata": {},
   "outputs": [],
   "source": [
    "targ = orig_target(dls, items)[0]"
   ]
  },
  {
   "cell_type": "code",
   "execution_count": null,
   "id": "19a4caf9-96a2-45cd-8db5-99dd7c89c4c9",
   "metadata": {},
   "outputs": [],
   "source": [
    "input, _ = one_batch_with_items(dls, items)"
   ]
  },
  {
   "cell_type": "markdown",
   "id": "e384bd59-b0ab-4242-85df-38aacf147ada",
   "metadata": {},
   "source": [
    "## Imputation Methods"
   ]
  },
  {
   "cell_type": "markdown",
   "id": "c5750314-e727-43d6-bf1c-e53930550246",
   "metadata": {},
   "source": [
    "### Kalman Filter\n",
    "\n",
    "take a `MeteoImp Df` and gap fill it using the given model"
   ]
  },
  {
   "cell_type": "code",
   "execution_count": null,
   "id": "a75a4363-67cc-4e07-afaf-c2e53afa090f",
   "metadata": {},
   "outputs": [],
   "source": [
    "model = torch.load(here(\"analysis/results/trained_13feb/1_gap_varying_12-336_v1.pickle\"))"
   ]
  },
  {
   "cell_type": "code",
   "execution_count": null,
   "id": "62e0e07e-9b9e-4808-bebc-182f2e971897",
   "metadata": {},
   "outputs": [],
   "source": [
    "preds, targs = predict_items(model, dls=dls, items = items)\n",
    "preds[0].mean[targs[0].mask] = targs[0].data[targs[0].mask]"
   ]
  },
  {
   "cell_type": "markdown",
   "id": "39477d7b-a0ba-44b9-82d2-66f0a7022609",
   "metadata": {},
   "source": [
    "#### KalmanImputation"
   ]
  },
  {
   "cell_type": "code",
   "execution_count": null,
   "id": "fc0ad7e7-973c-4ed6-a7bb-18fa470a3262",
   "metadata": {},
   "outputs": [
    {
     "data": {
      "text/plain": [
       "<function meteo_imp.kalman.fastai._n_tuple(x, n, unsqueeze=True)>"
      ]
     },
     "execution_count": null,
     "metadata": {},
     "output_type": "execute_result"
    }
   ],
   "source": [
    "_n_tuple"
   ]
  },
  {
   "cell_type": "code",
   "execution_count": null,
   "id": "14acb19f-5c4b-456c-87ca-47056713acef",
   "metadata": {},
   "outputs": [
    {
     "data": {
      "text/plain": [
       "torch.Size([1, 100, 9])"
      ]
     },
     "execution_count": null,
     "metadata": {},
     "output_type": "execute_result"
    }
   ],
   "source": [
    "input[1].shape"
   ]
  },
  {
   "cell_type": "code",
   "execution_count": null,
   "id": "c7c1c382-8b7d-4e55-be61-8b532d8b1a49",
   "metadata": {},
   "outputs": [],
   "source": [
    "preds_raw = model(input)"
   ]
  },
  {
   "cell_type": "code",
   "execution_count": null,
   "id": "289fbd87-a633-4838-80a0-1e7061ada19c",
   "metadata": {},
   "outputs": [
    {
     "data": {
      "text/plain": [
       "10"
      ]
     },
     "execution_count": null,
     "metadata": {},
     "output_type": "execute_result"
    }
   ],
   "source": [
    "len(preds_raw.mean[0])"
   ]
  },
  {
   "cell_type": "code",
   "execution_count": null,
   "id": "cd58fc7b-14a8-4241-b711-b703ddc56053",
   "metadata": {},
   "outputs": [],
   "source": [
    "#| export\n",
    "def _extract_var(preds, var_idx, max_len):\n",
    "    \"extract prediction only from one var\"\n",
    "    preds_new = []\n",
    "    for b_pred in preds:\n",
    "        b_pred_new = []\n",
    "        for pred in b_pred:\n",
    "            if len(pred) == 1: pred_new = pred\n",
    "            elif len(pred) == max_len: pred_new = pred[var_idx:var_idx+1] if pred.dim() == 1 else pred[var_idx:var_idx+1, var_idx:var_idx+1]\n",
    "            else: raise ValueError(\"supports only gaps for 1 or all variables\")\n",
    "            b_pred_new.append(pred_new)\n",
    "        preds_new.append(b_pred_new)\n",
    "    return preds_new\n",
    "         "
   ]
  },
  {
   "cell_type": "code",
   "execution_count": null,
   "id": "dfc8b120-3784-4d8c-b40b-09f80c998b0f",
   "metadata": {},
   "outputs": [
    {
     "data": {
      "text/plain": [
       "[[tensor([-0.7555], dtype=torch.float64, grad_fn=<IndexBackward0>),\n",
       "  tensor([-0.7765], dtype=torch.float64, grad_fn=<IndexBackward0>),\n",
       "  tensor([-0.8153], dtype=torch.float64, grad_fn=<IndexBackward0>),\n",
       "  tensor([-0.8653], dtype=torch.float64, grad_fn=<IndexBackward0>),\n",
       "  tensor([-0.8660], dtype=torch.float64, grad_fn=<IndexBackward0>),\n",
       "  tensor([-0.8712], dtype=torch.float64, grad_fn=<IndexBackward0>),\n",
       "  tensor([-0.8551], dtype=torch.float64, grad_fn=<IndexBackward0>),\n",
       "  tensor([-0.8420], dtype=torch.float64, grad_fn=<IndexBackward0>),\n",
       "  tensor([-0.8442], dtype=torch.float64, grad_fn=<IndexBackward0>),\n",
       "  tensor([-0.8536], dtype=torch.float64, grad_fn=<IndexBackward0>)]]"
      ]
     },
     "execution_count": null,
     "metadata": {},
     "output_type": "execute_result"
    }
   ],
   "source": [
    "_extract_var(preds_raw.mean, 1, 7)"
   ]
  },
  {
   "cell_type": "code",
   "execution_count": null,
   "id": "c27bc192-1b5a-4296-8056-ecae7867cad8",
   "metadata": {},
   "outputs": [
    {
     "data": {
      "text/plain": [
       "[[tensor([[0.0227]], dtype=torch.float64, grad_fn=<IndexBackward0>),\n",
       "  tensor([[0.0307]], dtype=torch.float64, grad_fn=<IndexBackward0>),\n",
       "  tensor([[0.0359]], dtype=torch.float64, grad_fn=<IndexBackward0>),\n",
       "  tensor([[0.0392]], dtype=torch.float64, grad_fn=<IndexBackward0>),\n",
       "  tensor([[0.0409]], dtype=torch.float64, grad_fn=<IndexBackward0>),\n",
       "  tensor([[0.0409]], dtype=torch.float64, grad_fn=<IndexBackward0>),\n",
       "  tensor([[0.0393]], dtype=torch.float64, grad_fn=<IndexBackward0>),\n",
       "  tensor([[0.0361]], dtype=torch.float64, grad_fn=<IndexBackward0>),\n",
       "  tensor([[0.0310]], dtype=torch.float64, grad_fn=<IndexBackward0>),\n",
       "  tensor([[0.0230]], dtype=torch.float64, grad_fn=<IndexBackward0>)]]"
      ]
     },
     "execution_count": null,
     "metadata": {},
     "output_type": "execute_result"
    }
   ],
   "source": [
    "_extract_var(preds_raw.cov, 1, 7)"
   ]
  },
  {
   "cell_type": "code",
   "execution_count": null,
   "id": "3333b9fd-490f-40ce-99d0-33228b2603bb",
   "metadata": {},
   "outputs": [],
   "source": [
    "items_all = [MeteoImpItem(1,2, list(hai.columns), gap_len=3)] * 3"
   ]
  },
  {
   "cell_type": "code",
   "execution_count": null,
   "id": "199ced43-4ebf-43b9-bd38-3e93349e0826",
   "metadata": {},
   "outputs": [],
   "source": [
    "input_all, _ = one_batch_with_items(dls, items_all)"
   ]
  },
  {
   "cell_type": "code",
   "execution_count": null,
   "id": "b19b6a6a-dbba-46ea-8a89-1ef5f936b00a",
   "metadata": {},
   "outputs": [],
   "source": [
    "preds_raw_all = model(input_all)"
   ]
  },
  {
   "cell_type": "code",
   "execution_count": null,
   "id": "0b06b23d-124c-40d0-a1fc-05e9923cf92e",
   "metadata": {},
   "outputs": [
    {
     "data": {
      "text/plain": [
       "[[tensor([-0.5650], dtype=torch.float64, grad_fn=<SliceBackward0>),\n",
       "  tensor([-0.5887], dtype=torch.float64, grad_fn=<SliceBackward0>),\n",
       "  tensor([-0.6259], dtype=torch.float64, grad_fn=<SliceBackward0>)],\n",
       " [tensor([-0.5650], dtype=torch.float64, grad_fn=<SliceBackward0>),\n",
       "  tensor([-0.5887], dtype=torch.float64, grad_fn=<SliceBackward0>),\n",
       "  tensor([-0.6259], dtype=torch.float64, grad_fn=<SliceBackward0>)],\n",
       " [tensor([-0.5650], dtype=torch.float64, grad_fn=<SliceBackward0>),\n",
       "  tensor([-0.5887], dtype=torch.float64, grad_fn=<SliceBackward0>),\n",
       "  tensor([-0.6259], dtype=torch.float64, grad_fn=<SliceBackward0>)]]"
      ]
     },
     "execution_count": null,
     "metadata": {},
     "output_type": "execute_result"
    }
   ],
   "source": [
    "_extract_var(preds_raw_all.mean, 3, 9)"
   ]
  },
  {
   "cell_type": "code",
   "execution_count": null,
   "id": "2ece5d37-4c76-4b59-84c3-bc2495d36eb7",
   "metadata": {},
   "outputs": [
    {
     "data": {
      "text/plain": [
       "torch.Size([3, 100, 9])"
      ]
     },
     "execution_count": null,
     "metadata": {},
     "output_type": "execute_result"
    }
   ],
   "source": [
    "buffer_pred(preds_raw_all.mean, input_all[1]).shape"
   ]
  },
  {
   "cell_type": "code",
   "execution_count": null,
   "id": "6e50161d-29ec-46bb-9204-22347fde6afe",
   "metadata": {},
   "outputs": [
    {
     "data": {
      "text/plain": [
       "[[tensor([[0.1189]], dtype=torch.float64, grad_fn=<SliceBackward0>),\n",
       "  tensor([[0.1717]], dtype=torch.float64, grad_fn=<SliceBackward0>),\n",
       "  tensor([[0.1251]], dtype=torch.float64, grad_fn=<SliceBackward0>)],\n",
       " [tensor([[0.1189]], dtype=torch.float64, grad_fn=<SliceBackward0>),\n",
       "  tensor([[0.1717]], dtype=torch.float64, grad_fn=<SliceBackward0>),\n",
       "  tensor([[0.1251]], dtype=torch.float64, grad_fn=<SliceBackward0>)],\n",
       " [tensor([[0.1189]], dtype=torch.float64, grad_fn=<SliceBackward0>),\n",
       "  tensor([[0.1717]], dtype=torch.float64, grad_fn=<SliceBackward0>),\n",
       "  tensor([[0.1251]], dtype=torch.float64, grad_fn=<SliceBackward0>)]]"
      ]
     },
     "execution_count": null,
     "metadata": {},
     "output_type": "execute_result"
    }
   ],
   "source": [
    "_extract_var(preds_raw_all.cov, 3, 9)"
   ]
  },
  {
   "cell_type": "code",
   "execution_count": null,
   "id": "4ff0b51c-7ff4-43f1-ab51-0a708e45be1e",
   "metadata": {},
   "outputs": [],
   "source": [
    "#| export\n",
    "class PredictLossVar:\n",
    "    \"\"\"loss (negative log likelihood) for only for one variable for each batch\"\"\"\n",
    "    def __init__(self, only_gap:bool, var: int):\n",
    "        self.loss_func = KalmanLoss(only_gap)\n",
    "        self.var = var\n",
    "    def __call__(self, preds, targs):\n",
    "        sel_idx = [idx for idx in range(targs[1].shape[-1]) if idx != self.var]\n",
    "        mask_new = targs[1].clone()\n",
    "        mask_new[:, :, sel_idx] = True # make all other variables present\n",
    "        targs_new = (targs[0], mask_new, targs[2])\n",
    "        preds_new = (_extract_var(preds.mean, self.var, targs[1].shape[-1]), _extract_var(preds.cov, self.var, targs[1].shape[-1])) \n",
    "        # return preds_new\n",
    "        # return self.loss_func(preds_new, targs_new)\n",
    "        losses = []\n",
    "        for i in range(len(preds_new[0])):\n",
    "            losses.append(self.loss_func(_n_tuple(preds_new, i), _n_tuple(targs_new, i)))\n",
    "        return losses"
   ]
  },
  {
   "cell_type": "code",
   "execution_count": null,
   "id": "c125befb-d2d1-40fb-a1bc-f661fd7c40e8",
   "metadata": {},
   "outputs": [
    {
     "data": {
      "text/plain": [
       "[tensor(-0.2252, dtype=torch.float64, grad_fn=<MeanBackward0>),\n",
       " tensor(-0.2252, dtype=torch.float64, grad_fn=<MeanBackward0>),\n",
       " tensor(-0.2252, dtype=torch.float64, grad_fn=<MeanBackward0>)]"
      ]
     },
     "execution_count": null,
     "metadata": {},
     "output_type": "execute_result"
    }
   ],
   "source": [
    "PredictLossVar(True, 3)(preds_raw_all, input_all)"
   ]
  },
  {
   "cell_type": "code",
   "execution_count": null,
   "id": "f1a3520e-00f8-432e-aa00-2015e7da4090",
   "metadata": {},
   "outputs": [
    {
     "data": {
      "text/plain": [
       "torch.Size([3, 100, 9])"
      ]
     },
     "execution_count": null,
     "metadata": {},
     "output_type": "execute_result"
    }
   ],
   "source": [
    "input_all[1].shape"
   ]
  },
  {
   "cell_type": "code",
   "execution_count": null,
   "id": "630cf2c5-ce67-494b-b0e1-7b789421322c",
   "metadata": {},
   "outputs": [],
   "source": [
    "#| export\n",
    "class PredictLikelihoodVar:\n",
    "    \"\"\"mean between timesteps of Likelihood for only for one variable for each batch\"\"\"\n",
    "    def __init__(self, only_gap:bool, var: int):\n",
    "        self.loss_func = KalmanLoss(only_gap, reduction_inbatch='none', reduction = 'none')\n",
    "        self.var = var\n",
    "    def __call__(self, preds, targs):\n",
    "        sel_idx = [idx for idx in range(targs[1].shape[-1]) if idx != self.var]\n",
    "        mask_new = targs[1].clone()\n",
    "        mask_new[:, :, sel_idx] = True # make all other variables present\n",
    "        targs_new = (targs[0], mask_new, targs[2])\n",
    "        preds_new = (_extract_var(preds.mean, self.var, targs[1].shape[-1]), _extract_var(preds.cov, self.var, targs[1].shape[-1])) \n",
    "        # return preds_new\n",
    "        # return self.loss_func(preds_new, targs_new)\n",
    "        likelihoods = []\n",
    "        for i in range(len(preds_new[0])):\n",
    "            loss = self.loss_func(_n_tuple(preds_new, i), _n_tuple(targs_new, i))[0]\n",
    "            lh = (torch.exp(-loss[0])).mean()\n",
    "            likelihoods.append(lh)\n",
    "        return likelihoods"
   ]
  },
  {
   "cell_type": "code",
   "execution_count": null,
   "id": "d2ae5947-be32-4312-8601-808575ce72a9",
   "metadata": {},
   "outputs": [
    {
     "data": {
      "text/plain": [
       "[tensor(1.1569, dtype=torch.float64, grad_fn=<MeanBackward0>),\n",
       " tensor(1.1569, dtype=torch.float64, grad_fn=<MeanBackward0>),\n",
       " tensor(1.1569, dtype=torch.float64, grad_fn=<MeanBackward0>)]"
      ]
     },
     "execution_count": null,
     "metadata": {},
     "output_type": "execute_result"
    }
   ],
   "source": [
    "PredictLikelihoodVar(True, 3)(preds_raw_all, input_all)"
   ]
  },
  {
   "cell_type": "code",
   "execution_count": null,
   "id": "0b443cb4-a2e6-4c7d-9dc2-79f8cb554d36",
   "metadata": {},
   "outputs": [],
   "source": [
    "#| export\n",
    "class MultiMetrics():\n",
    "    def __init__(self, **metrics): self.metrics = metrics\n",
    "    def __call__(self, preds, targs): return {name: metric(preds, targs) for name, metric in self.metrics.items()}"
   ]
  },
  {
   "cell_type": "code",
   "execution_count": null,
   "id": "ec22b1cf-d9a4-4da6-9d2e-af44860cc269",
   "metadata": {},
   "outputs": [],
   "source": [
    "#| export\n",
    "class KalmanImputation:\n",
    "    name = \"KalmanFilter\"\n",
    "    def __init__(self, model): store_attr()\n",
    "    def __call__(self, item, dls):\n",
    "        pred, targ = predict_items(self.model, dls=dls, items = [item])\n",
    "        pred[0].mean[targ[0].mask] = targ[0].data[targ[0].mask]\n",
    "        return pred[0].mean\n",
    "    def preds_all(self, items, dls):\n",
    "        return predict_items(self.model, dls=dls, items = items)\n",
    "    def preds_all_loss(self, items, dls, var):\n",
    "        return predict_items(self.model, dls=dls, items = items, metric_fn = PredictLossVar(only_gap=self.model.pred_only_gap, var = var))\n",
    "    def preds_all_metrics(self, items, dls, metrics):\n",
    "        return predict_items(self.model, dls=dls, items = items, metric_fn = metrics)"
   ]
  },
  {
   "cell_type": "code",
   "execution_count": null,
   "id": "ddc9d6dc-6daf-4190-a500-5724765f2ef6",
   "metadata": {},
   "outputs": [],
   "source": [
    "k_imp = KalmanImputation(model)"
   ]
  },
  {
   "cell_type": "code",
   "execution_count": null,
   "id": "ce04cc7d-73c8-44b6-8863-0b70dba7832e",
   "metadata": {},
   "outputs": [],
   "source": [
    "pred = k_imp(item, dls=dls)"
   ]
  },
  {
   "cell_type": "code",
   "execution_count": null,
   "id": "4c4559d1-0a8b-4e19-becb-33b8a7b0a1b8",
   "metadata": {},
   "outputs": [
    {
     "data": {
      "text/html": [
       "<p style='font-size: 1.5rem; font-decoration: bold'><p><div style=\"display: flex; column-gap: 20px; flex-wrap: wrap;\" class='table table-striped table-sm'> <div> <p style='font-size: 1.3rem;'>pred</p> <style type=\"text/css\">\n",
       "</style>\n",
       "<table id=\"T_f1c5e\">\n",
       "  <thead>\n",
       "    <tr>\n",
       "      <th class=\"blank level0\" >&nbsp;</th>\n",
       "      <th id=\"T_f1c5e_level0_col0\" class=\"col_heading level0 col0\" >TA</th>\n",
       "      <th id=\"T_f1c5e_level0_col1\" class=\"col_heading level0 col1\" >SW_IN</th>\n",
       "      <th id=\"T_f1c5e_level0_col2\" class=\"col_heading level0 col2\" >LW_IN</th>\n",
       "      <th id=\"T_f1c5e_level0_col3\" class=\"col_heading level0 col3\" >VPD</th>\n",
       "      <th id=\"T_f1c5e_level0_col4\" class=\"col_heading level0 col4\" >WS</th>\n",
       "      <th id=\"T_f1c5e_level0_col5\" class=\"col_heading level0 col5\" >PA</th>\n",
       "      <th id=\"T_f1c5e_level0_col6\" class=\"col_heading level0 col6\" >P</th>\n",
       "      <th id=\"T_f1c5e_level0_col7\" class=\"col_heading level0 col7\" >SWC</th>\n",
       "      <th id=\"T_f1c5e_level0_col8\" class=\"col_heading level0 col8\" >TS</th>\n",
       "    </tr>\n",
       "    <tr>\n",
       "      <th class=\"index_name level0\" >time</th>\n",
       "      <th class=\"blank col0\" >&nbsp;</th>\n",
       "      <th class=\"blank col1\" >&nbsp;</th>\n",
       "      <th class=\"blank col2\" >&nbsp;</th>\n",
       "      <th class=\"blank col3\" >&nbsp;</th>\n",
       "      <th class=\"blank col4\" >&nbsp;</th>\n",
       "      <th class=\"blank col5\" >&nbsp;</th>\n",
       "      <th class=\"blank col6\" >&nbsp;</th>\n",
       "      <th class=\"blank col7\" >&nbsp;</th>\n",
       "      <th class=\"blank col8\" >&nbsp;</th>\n",
       "    </tr>\n",
       "  </thead>\n",
       "  <tbody>\n",
       "    <tr>\n",
       "      <th id=\"T_f1c5e_level0_row0\" class=\"row_heading level0 row0\" >2000-01-04 02:30:00</th>\n",
       "      <td id=\"T_f1c5e_row0_col0\" class=\"data row0 col0\" >2.3467</td>\n",
       "      <td id=\"T_f1c5e_row0_col1\" class=\"data row0 col1\" >0.0000</td>\n",
       "      <td id=\"T_f1c5e_row0_col2\" class=\"data row0 col2\" >304.7310</td>\n",
       "      <td id=\"T_f1c5e_row0_col3\" class=\"data row0 col3\" >0.9520</td>\n",
       "      <td id=\"T_f1c5e_row0_col4\" class=\"data row0 col4\" >5.3900</td>\n",
       "      <td id=\"T_f1c5e_row0_col5\" class=\"data row0 col5\" >96.3000</td>\n",
       "      <td id=\"T_f1c5e_row0_col6\" class=\"data row0 col6\" >0.0000</td>\n",
       "      <td id=\"T_f1c5e_row0_col7\" class=\"data row0 col7\" >43.0800</td>\n",
       "      <td id=\"T_f1c5e_row0_col8\" class=\"data row0 col8\" >1.3100</td>\n",
       "    </tr>\n",
       "    <tr>\n",
       "      <th id=\"T_f1c5e_level0_row1\" class=\"row_heading level0 row1\" >2000-01-04 03:00:00</th>\n",
       "      <td id=\"T_f1c5e_row1_col0\" class=\"data row1 col0\" >2.1803</td>\n",
       "      <td id=\"T_f1c5e_row1_col1\" class=\"data row1 col1\" >0.0000</td>\n",
       "      <td id=\"T_f1c5e_row1_col2\" class=\"data row1 col2\" >304.7310</td>\n",
       "      <td id=\"T_f1c5e_row1_col3\" class=\"data row1 col3\" >0.9710</td>\n",
       "      <td id=\"T_f1c5e_row1_col4\" class=\"data row1 col4\" >5.5900</td>\n",
       "      <td id=\"T_f1c5e_row1_col5\" class=\"data row1 col5\" >96.3000</td>\n",
       "      <td id=\"T_f1c5e_row1_col6\" class=\"data row1 col6\" >0.0000</td>\n",
       "      <td id=\"T_f1c5e_row1_col7\" class=\"data row1 col7\" >43.0800</td>\n",
       "      <td id=\"T_f1c5e_row1_col8\" class=\"data row1 col8\" >1.3100</td>\n",
       "    </tr>\n",
       "    <tr>\n",
       "      <th id=\"T_f1c5e_level0_row2\" class=\"row_heading level0 row2\" >2000-01-04 03:30:00</th>\n",
       "      <td id=\"T_f1c5e_row2_col0\" class=\"data row2 col0\" >1.8728</td>\n",
       "      <td id=\"T_f1c5e_row2_col1\" class=\"data row2 col1\" >0.0000</td>\n",
       "      <td id=\"T_f1c5e_row2_col2\" class=\"data row2 col2\" >304.7310</td>\n",
       "      <td id=\"T_f1c5e_row2_col3\" class=\"data row2 col3\" >0.9580</td>\n",
       "      <td id=\"T_f1c5e_row2_col4\" class=\"data row2 col4\" >5.6700</td>\n",
       "      <td id=\"T_f1c5e_row2_col5\" class=\"data row2 col5\" >96.2900</td>\n",
       "      <td id=\"T_f1c5e_row2_col6\" class=\"data row2 col6\" >0.0000</td>\n",
       "      <td id=\"T_f1c5e_row2_col7\" class=\"data row2 col7\" >43.0800</td>\n",
       "      <td id=\"T_f1c5e_row2_col8\" class=\"data row2 col8\" >1.3100</td>\n",
       "    </tr>\n",
       "    <tr>\n",
       "      <th id=\"T_f1c5e_level0_row3\" class=\"row_heading level0 row3\" >2000-01-04 04:00:00</th>\n",
       "      <td id=\"T_f1c5e_row3_col0\" class=\"data row3 col0\" >1.4769</td>\n",
       "      <td id=\"T_f1c5e_row3_col1\" class=\"data row3 col1\" >0.0000</td>\n",
       "      <td id=\"T_f1c5e_row3_col2\" class=\"data row3 col2\" >304.7310</td>\n",
       "      <td id=\"T_f1c5e_row3_col3\" class=\"data row3 col3\" >0.9380</td>\n",
       "      <td id=\"T_f1c5e_row3_col4\" class=\"data row3 col4\" >6.6100</td>\n",
       "      <td id=\"T_f1c5e_row3_col5\" class=\"data row3 col5\" >96.2600</td>\n",
       "      <td id=\"T_f1c5e_row3_col6\" class=\"data row3 col6\" >0.0000</td>\n",
       "      <td id=\"T_f1c5e_row3_col7\" class=\"data row3 col7\" >43.0800</td>\n",
       "      <td id=\"T_f1c5e_row3_col8\" class=\"data row3 col8\" >1.3100</td>\n",
       "    </tr>\n",
       "    <tr>\n",
       "      <th id=\"T_f1c5e_level0_row4\" class=\"row_heading level0 row4\" >2000-01-04 04:30:00</th>\n",
       "      <td id=\"T_f1c5e_row4_col0\" class=\"data row4 col0\" >1.4710</td>\n",
       "      <td id=\"T_f1c5e_row4_col1\" class=\"data row4 col1\" >0.0000</td>\n",
       "      <td id=\"T_f1c5e_row4_col2\" class=\"data row4 col2\" >315.0050</td>\n",
       "      <td id=\"T_f1c5e_row4_col3\" class=\"data row4 col3\" >0.7850</td>\n",
       "      <td id=\"T_f1c5e_row4_col4\" class=\"data row4 col4\" >6.6500</td>\n",
       "      <td id=\"T_f1c5e_row4_col5\" class=\"data row4 col5\" >96.2600</td>\n",
       "      <td id=\"T_f1c5e_row4_col6\" class=\"data row4 col6\" >0.0000</td>\n",
       "      <td id=\"T_f1c5e_row4_col7\" class=\"data row4 col7\" >43.0800</td>\n",
       "      <td id=\"T_f1c5e_row4_col8\" class=\"data row4 col8\" >1.3100</td>\n",
       "    </tr>\n",
       "    <tr>\n",
       "      <th id=\"T_f1c5e_level0_row5\" class=\"row_heading level0 row5\" >2000-01-04 05:00:00</th>\n",
       "      <td id=\"T_f1c5e_row5_col0\" class=\"data row5 col0\" >1.4303</td>\n",
       "      <td id=\"T_f1c5e_row5_col1\" class=\"data row5 col1\" >0.0000</td>\n",
       "      <td id=\"T_f1c5e_row5_col2\" class=\"data row5 col2\" >315.0050</td>\n",
       "      <td id=\"T_f1c5e_row5_col3\" class=\"data row5 col3\" >0.5290</td>\n",
       "      <td id=\"T_f1c5e_row5_col4\" class=\"data row5 col4\" >6.1200</td>\n",
       "      <td id=\"T_f1c5e_row5_col5\" class=\"data row5 col5\" >96.2700</td>\n",
       "      <td id=\"T_f1c5e_row5_col6\" class=\"data row5 col6\" >0.0000</td>\n",
       "      <td id=\"T_f1c5e_row5_col7\" class=\"data row5 col7\" >43.0800</td>\n",
       "      <td id=\"T_f1c5e_row5_col8\" class=\"data row5 col8\" >1.3000</td>\n",
       "    </tr>\n",
       "    <tr>\n",
       "      <th id=\"T_f1c5e_level0_row6\" class=\"row_heading level0 row6\" >2000-01-04 05:30:00</th>\n",
       "      <td id=\"T_f1c5e_row6_col0\" class=\"data row6 col0\" >1.5573</td>\n",
       "      <td id=\"T_f1c5e_row6_col1\" class=\"data row6 col1\" >0.0000</td>\n",
       "      <td id=\"T_f1c5e_row6_col2\" class=\"data row6 col2\" >315.0050</td>\n",
       "      <td id=\"T_f1c5e_row6_col3\" class=\"data row6 col3\" >0.4500</td>\n",
       "      <td id=\"T_f1c5e_row6_col4\" class=\"data row6 col4\" >5.5800</td>\n",
       "      <td id=\"T_f1c5e_row6_col5\" class=\"data row6 col5\" >96.2600</td>\n",
       "      <td id=\"T_f1c5e_row6_col6\" class=\"data row6 col6\" >0.2900</td>\n",
       "      <td id=\"T_f1c5e_row6_col7\" class=\"data row6 col7\" >43.1300</td>\n",
       "      <td id=\"T_f1c5e_row6_col8\" class=\"data row6 col8\" >1.3000</td>\n",
       "    </tr>\n",
       "    <tr>\n",
       "      <th id=\"T_f1c5e_level0_row7\" class=\"row_heading level0 row7\" >2000-01-04 06:00:00</th>\n",
       "      <td id=\"T_f1c5e_row7_col0\" class=\"data row7 col0\" >1.6616</td>\n",
       "      <td id=\"T_f1c5e_row7_col1\" class=\"data row7 col1\" >0.0000</td>\n",
       "      <td id=\"T_f1c5e_row7_col2\" class=\"data row7 col2\" >315.0050</td>\n",
       "      <td id=\"T_f1c5e_row7_col3\" class=\"data row7 col3\" >0.4990</td>\n",
       "      <td id=\"T_f1c5e_row7_col4\" class=\"data row7 col4\" >4.7000</td>\n",
       "      <td id=\"T_f1c5e_row7_col5\" class=\"data row7 col5\" >96.2500</td>\n",
       "      <td id=\"T_f1c5e_row7_col6\" class=\"data row7 col6\" >0.0000</td>\n",
       "      <td id=\"T_f1c5e_row7_col7\" class=\"data row7 col7\" >43.1300</td>\n",
       "      <td id=\"T_f1c5e_row7_col8\" class=\"data row7 col8\" >1.2900</td>\n",
       "    </tr>\n",
       "    <tr>\n",
       "      <th id=\"T_f1c5e_level0_row8\" class=\"row_heading level0 row8\" >2000-01-04 06:30:00</th>\n",
       "      <td id=\"T_f1c5e_row8_col0\" class=\"data row8 col0\" >1.6438</td>\n",
       "      <td id=\"T_f1c5e_row8_col1\" class=\"data row8 col1\" >0.0000</td>\n",
       "      <td id=\"T_f1c5e_row8_col2\" class=\"data row8 col2\" >315.0050</td>\n",
       "      <td id=\"T_f1c5e_row8_col3\" class=\"data row8 col3\" >0.3820</td>\n",
       "      <td id=\"T_f1c5e_row8_col4\" class=\"data row8 col4\" >5.0700</td>\n",
       "      <td id=\"T_f1c5e_row8_col5\" class=\"data row8 col5\" >96.2300</td>\n",
       "      <td id=\"T_f1c5e_row8_col6\" class=\"data row8 col6\" >0.0000</td>\n",
       "      <td id=\"T_f1c5e_row8_col7\" class=\"data row8 col7\" >43.1300</td>\n",
       "      <td id=\"T_f1c5e_row8_col8\" class=\"data row8 col8\" >1.2900</td>\n",
       "    </tr>\n",
       "    <tr>\n",
       "      <th id=\"T_f1c5e_level0_row9\" class=\"row_heading level0 row9\" >2000-01-04 07:00:00</th>\n",
       "      <td id=\"T_f1c5e_row9_col0\" class=\"data row9 col0\" >1.5697</td>\n",
       "      <td id=\"T_f1c5e_row9_col1\" class=\"data row9 col1\" >0.0000</td>\n",
       "      <td id=\"T_f1c5e_row9_col2\" class=\"data row9 col2\" >315.0050</td>\n",
       "      <td id=\"T_f1c5e_row9_col3\" class=\"data row9 col3\" >0.3130</td>\n",
       "      <td id=\"T_f1c5e_row9_col4\" class=\"data row9 col4\" >5.2300</td>\n",
       "      <td id=\"T_f1c5e_row9_col5\" class=\"data row9 col5\" >96.2400</td>\n",
       "      <td id=\"T_f1c5e_row9_col6\" class=\"data row9 col6\" >0.0000</td>\n",
       "      <td id=\"T_f1c5e_row9_col7\" class=\"data row9 col7\" >43.1300</td>\n",
       "      <td id=\"T_f1c5e_row9_col8\" class=\"data row9 col8\" >1.2900</td>\n",
       "    </tr>\n",
       "  </tbody>\n",
       "</table>\n",
       " </div><div> <p style='font-size: 1.3rem;'>data</p> <style type=\"text/css\">\n",
       "</style>\n",
       "<table id=\"T_296c4\">\n",
       "  <thead>\n",
       "    <tr>\n",
       "      <th class=\"blank level0\" >&nbsp;</th>\n",
       "      <th id=\"T_296c4_level0_col0\" class=\"col_heading level0 col0\" >TA</th>\n",
       "      <th id=\"T_296c4_level0_col1\" class=\"col_heading level0 col1\" >SW_IN</th>\n",
       "      <th id=\"T_296c4_level0_col2\" class=\"col_heading level0 col2\" >LW_IN</th>\n",
       "      <th id=\"T_296c4_level0_col3\" class=\"col_heading level0 col3\" >VPD</th>\n",
       "      <th id=\"T_296c4_level0_col4\" class=\"col_heading level0 col4\" >WS</th>\n",
       "      <th id=\"T_296c4_level0_col5\" class=\"col_heading level0 col5\" >PA</th>\n",
       "      <th id=\"T_296c4_level0_col6\" class=\"col_heading level0 col6\" >P</th>\n",
       "      <th id=\"T_296c4_level0_col7\" class=\"col_heading level0 col7\" >SWC</th>\n",
       "      <th id=\"T_296c4_level0_col8\" class=\"col_heading level0 col8\" >TS</th>\n",
       "    </tr>\n",
       "    <tr>\n",
       "      <th class=\"index_name level0\" >time</th>\n",
       "      <th class=\"blank col0\" >&nbsp;</th>\n",
       "      <th class=\"blank col1\" >&nbsp;</th>\n",
       "      <th class=\"blank col2\" >&nbsp;</th>\n",
       "      <th class=\"blank col3\" >&nbsp;</th>\n",
       "      <th class=\"blank col4\" >&nbsp;</th>\n",
       "      <th class=\"blank col5\" >&nbsp;</th>\n",
       "      <th class=\"blank col6\" >&nbsp;</th>\n",
       "      <th class=\"blank col7\" >&nbsp;</th>\n",
       "      <th class=\"blank col8\" >&nbsp;</th>\n",
       "    </tr>\n",
       "  </thead>\n",
       "  <tbody>\n",
       "    <tr>\n",
       "      <th id=\"T_296c4_level0_row0\" class=\"row_heading level0 row0\" >2000-01-04 02:30:00</th>\n",
       "      <td id=\"T_296c4_row0_col0\" class=\"data row0 col0\" >2.1900</td>\n",
       "      <td id=\"T_296c4_row0_col1\" class=\"data row0 col1\" >0.0000</td>\n",
       "      <td id=\"T_296c4_row0_col2\" class=\"data row0 col2\" >304.7310</td>\n",
       "      <td id=\"T_296c4_row0_col3\" class=\"data row0 col3\" >0.9520</td>\n",
       "      <td id=\"T_296c4_row0_col4\" class=\"data row0 col4\" >5.3900</td>\n",
       "      <td id=\"T_296c4_row0_col5\" class=\"data row0 col5\" >96.3000</td>\n",
       "      <td id=\"T_296c4_row0_col6\" class=\"data row0 col6\" >0.0000</td>\n",
       "      <td id=\"T_296c4_row0_col7\" class=\"data row0 col7\" >43.0800</td>\n",
       "      <td id=\"T_296c4_row0_col8\" class=\"data row0 col8\" >1.3100</td>\n",
       "    </tr>\n",
       "    <tr>\n",
       "      <th id=\"T_296c4_level0_row1\" class=\"row_heading level0 row1\" >2000-01-04 03:00:00</th>\n",
       "      <td id=\"T_296c4_row1_col0\" class=\"data row1 col0\" >2.2700</td>\n",
       "      <td id=\"T_296c4_row1_col1\" class=\"data row1 col1\" >0.0000</td>\n",
       "      <td id=\"T_296c4_row1_col2\" class=\"data row1 col2\" >304.7310</td>\n",
       "      <td id=\"T_296c4_row1_col3\" class=\"data row1 col3\" >0.9710</td>\n",
       "      <td id=\"T_296c4_row1_col4\" class=\"data row1 col4\" >5.5900</td>\n",
       "      <td id=\"T_296c4_row1_col5\" class=\"data row1 col5\" >96.3000</td>\n",
       "      <td id=\"T_296c4_row1_col6\" class=\"data row1 col6\" >0.0000</td>\n",
       "      <td id=\"T_296c4_row1_col7\" class=\"data row1 col7\" >43.0800</td>\n",
       "      <td id=\"T_296c4_row1_col8\" class=\"data row1 col8\" >1.3100</td>\n",
       "    </tr>\n",
       "    <tr>\n",
       "      <th id=\"T_296c4_level0_row2\" class=\"row_heading level0 row2\" >2000-01-04 03:30:00</th>\n",
       "      <td id=\"T_296c4_row2_col0\" class=\"data row2 col0\" >2.3200</td>\n",
       "      <td id=\"T_296c4_row2_col1\" class=\"data row2 col1\" >0.0000</td>\n",
       "      <td id=\"T_296c4_row2_col2\" class=\"data row2 col2\" >304.7310</td>\n",
       "      <td id=\"T_296c4_row2_col3\" class=\"data row2 col3\" >0.9580</td>\n",
       "      <td id=\"T_296c4_row2_col4\" class=\"data row2 col4\" >5.6700</td>\n",
       "      <td id=\"T_296c4_row2_col5\" class=\"data row2 col5\" >96.2900</td>\n",
       "      <td id=\"T_296c4_row2_col6\" class=\"data row2 col6\" >0.0000</td>\n",
       "      <td id=\"T_296c4_row2_col7\" class=\"data row2 col7\" >43.0800</td>\n",
       "      <td id=\"T_296c4_row2_col8\" class=\"data row2 col8\" >1.3100</td>\n",
       "    </tr>\n",
       "    <tr>\n",
       "      <th id=\"T_296c4_level0_row3\" class=\"row_heading level0 row3\" >2000-01-04 04:00:00</th>\n",
       "      <td id=\"T_296c4_row3_col0\" class=\"data row3 col0\" >2.3400</td>\n",
       "      <td id=\"T_296c4_row3_col1\" class=\"data row3 col1\" >0.0000</td>\n",
       "      <td id=\"T_296c4_row3_col2\" class=\"data row3 col2\" >304.7310</td>\n",
       "      <td id=\"T_296c4_row3_col3\" class=\"data row3 col3\" >0.9380</td>\n",
       "      <td id=\"T_296c4_row3_col4\" class=\"data row3 col4\" >6.6100</td>\n",
       "      <td id=\"T_296c4_row3_col5\" class=\"data row3 col5\" >96.2600</td>\n",
       "      <td id=\"T_296c4_row3_col6\" class=\"data row3 col6\" >0.0000</td>\n",
       "      <td id=\"T_296c4_row3_col7\" class=\"data row3 col7\" >43.0800</td>\n",
       "      <td id=\"T_296c4_row3_col8\" class=\"data row3 col8\" >1.3100</td>\n",
       "    </tr>\n",
       "    <tr>\n",
       "      <th id=\"T_296c4_level0_row4\" class=\"row_heading level0 row4\" >2000-01-04 04:30:00</th>\n",
       "      <td id=\"T_296c4_row4_col0\" class=\"data row4 col0\" >2.2400</td>\n",
       "      <td id=\"T_296c4_row4_col1\" class=\"data row4 col1\" >0.0000</td>\n",
       "      <td id=\"T_296c4_row4_col2\" class=\"data row4 col2\" >315.0050</td>\n",
       "      <td id=\"T_296c4_row4_col3\" class=\"data row4 col3\" >0.7850</td>\n",
       "      <td id=\"T_296c4_row4_col4\" class=\"data row4 col4\" >6.6500</td>\n",
       "      <td id=\"T_296c4_row4_col5\" class=\"data row4 col5\" >96.2600</td>\n",
       "      <td id=\"T_296c4_row4_col6\" class=\"data row4 col6\" >0.0000</td>\n",
       "      <td id=\"T_296c4_row4_col7\" class=\"data row4 col7\" >43.0800</td>\n",
       "      <td id=\"T_296c4_row4_col8\" class=\"data row4 col8\" >1.3100</td>\n",
       "    </tr>\n",
       "    <tr>\n",
       "      <th id=\"T_296c4_level0_row5\" class=\"row_heading level0 row5\" >2000-01-04 05:00:00</th>\n",
       "      <td id=\"T_296c4_row5_col0\" class=\"data row5 col0\" >2.0000</td>\n",
       "      <td id=\"T_296c4_row5_col1\" class=\"data row5 col1\" >0.0000</td>\n",
       "      <td id=\"T_296c4_row5_col2\" class=\"data row5 col2\" >315.0050</td>\n",
       "      <td id=\"T_296c4_row5_col3\" class=\"data row5 col3\" >0.5290</td>\n",
       "      <td id=\"T_296c4_row5_col4\" class=\"data row5 col4\" >6.1200</td>\n",
       "      <td id=\"T_296c4_row5_col5\" class=\"data row5 col5\" >96.2700</td>\n",
       "      <td id=\"T_296c4_row5_col6\" class=\"data row5 col6\" >0.0000</td>\n",
       "      <td id=\"T_296c4_row5_col7\" class=\"data row5 col7\" >43.0800</td>\n",
       "      <td id=\"T_296c4_row5_col8\" class=\"data row5 col8\" >1.3000</td>\n",
       "    </tr>\n",
       "    <tr>\n",
       "      <th id=\"T_296c4_level0_row6\" class=\"row_heading level0 row6\" >2000-01-04 05:30:00</th>\n",
       "      <td id=\"T_296c4_row6_col0\" class=\"data row6 col0\" >1.9400</td>\n",
       "      <td id=\"T_296c4_row6_col1\" class=\"data row6 col1\" >0.0000</td>\n",
       "      <td id=\"T_296c4_row6_col2\" class=\"data row6 col2\" >315.0050</td>\n",
       "      <td id=\"T_296c4_row6_col3\" class=\"data row6 col3\" >0.4500</td>\n",
       "      <td id=\"T_296c4_row6_col4\" class=\"data row6 col4\" >5.5800</td>\n",
       "      <td id=\"T_296c4_row6_col5\" class=\"data row6 col5\" >96.2600</td>\n",
       "      <td id=\"T_296c4_row6_col6\" class=\"data row6 col6\" >0.2900</td>\n",
       "      <td id=\"T_296c4_row6_col7\" class=\"data row6 col7\" >43.1300</td>\n",
       "      <td id=\"T_296c4_row6_col8\" class=\"data row6 col8\" >1.3000</td>\n",
       "    </tr>\n",
       "    <tr>\n",
       "      <th id=\"T_296c4_level0_row7\" class=\"row_heading level0 row7\" >2000-01-04 06:00:00</th>\n",
       "      <td id=\"T_296c4_row7_col0\" class=\"data row7 col0\" >2.0700</td>\n",
       "      <td id=\"T_296c4_row7_col1\" class=\"data row7 col1\" >0.0000</td>\n",
       "      <td id=\"T_296c4_row7_col2\" class=\"data row7 col2\" >315.0050</td>\n",
       "      <td id=\"T_296c4_row7_col3\" class=\"data row7 col3\" >0.4990</td>\n",
       "      <td id=\"T_296c4_row7_col4\" class=\"data row7 col4\" >4.7000</td>\n",
       "      <td id=\"T_296c4_row7_col5\" class=\"data row7 col5\" >96.2500</td>\n",
       "      <td id=\"T_296c4_row7_col6\" class=\"data row7 col6\" >0.0000</td>\n",
       "      <td id=\"T_296c4_row7_col7\" class=\"data row7 col7\" >43.1300</td>\n",
       "      <td id=\"T_296c4_row7_col8\" class=\"data row7 col8\" >1.2900</td>\n",
       "    </tr>\n",
       "    <tr>\n",
       "      <th id=\"T_296c4_level0_row8\" class=\"row_heading level0 row8\" >2000-01-04 06:30:00</th>\n",
       "      <td id=\"T_296c4_row8_col0\" class=\"data row8 col0\" >2.0400</td>\n",
       "      <td id=\"T_296c4_row8_col1\" class=\"data row8 col1\" >0.0000</td>\n",
       "      <td id=\"T_296c4_row8_col2\" class=\"data row8 col2\" >315.0050</td>\n",
       "      <td id=\"T_296c4_row8_col3\" class=\"data row8 col3\" >0.3820</td>\n",
       "      <td id=\"T_296c4_row8_col4\" class=\"data row8 col4\" >5.0700</td>\n",
       "      <td id=\"T_296c4_row8_col5\" class=\"data row8 col5\" >96.2300</td>\n",
       "      <td id=\"T_296c4_row8_col6\" class=\"data row8 col6\" >0.0000</td>\n",
       "      <td id=\"T_296c4_row8_col7\" class=\"data row8 col7\" >43.1300</td>\n",
       "      <td id=\"T_296c4_row8_col8\" class=\"data row8 col8\" >1.2900</td>\n",
       "    </tr>\n",
       "    <tr>\n",
       "      <th id=\"T_296c4_level0_row9\" class=\"row_heading level0 row9\" >2000-01-04 07:00:00</th>\n",
       "      <td id=\"T_296c4_row9_col0\" class=\"data row9 col0\" >2.0300</td>\n",
       "      <td id=\"T_296c4_row9_col1\" class=\"data row9 col1\" >0.0000</td>\n",
       "      <td id=\"T_296c4_row9_col2\" class=\"data row9 col2\" >315.0050</td>\n",
       "      <td id=\"T_296c4_row9_col3\" class=\"data row9 col3\" >0.3130</td>\n",
       "      <td id=\"T_296c4_row9_col4\" class=\"data row9 col4\" >5.2300</td>\n",
       "      <td id=\"T_296c4_row9_col5\" class=\"data row9 col5\" >96.2400</td>\n",
       "      <td id=\"T_296c4_row9_col6\" class=\"data row9 col6\" >0.0000</td>\n",
       "      <td id=\"T_296c4_row9_col7\" class=\"data row9 col7\" >43.1300</td>\n",
       "      <td id=\"T_296c4_row9_col8\" class=\"data row9 col8\" >1.2900</td>\n",
       "    </tr>\n",
       "  </tbody>\n",
       "</table>\n",
       " </div><div> <p style='font-size: 1.3rem;'>mask</p> <style type=\"text/css\">\n",
       "</style>\n",
       "<table id=\"T_614f4\">\n",
       "  <thead>\n",
       "    <tr>\n",
       "      <th class=\"blank level0\" >&nbsp;</th>\n",
       "      <th id=\"T_614f4_level0_col0\" class=\"col_heading level0 col0\" >TA</th>\n",
       "      <th id=\"T_614f4_level0_col1\" class=\"col_heading level0 col1\" >SW_IN</th>\n",
       "      <th id=\"T_614f4_level0_col2\" class=\"col_heading level0 col2\" >LW_IN</th>\n",
       "      <th id=\"T_614f4_level0_col3\" class=\"col_heading level0 col3\" >VPD</th>\n",
       "      <th id=\"T_614f4_level0_col4\" class=\"col_heading level0 col4\" >WS</th>\n",
       "      <th id=\"T_614f4_level0_col5\" class=\"col_heading level0 col5\" >PA</th>\n",
       "      <th id=\"T_614f4_level0_col6\" class=\"col_heading level0 col6\" >P</th>\n",
       "      <th id=\"T_614f4_level0_col7\" class=\"col_heading level0 col7\" >SWC</th>\n",
       "      <th id=\"T_614f4_level0_col8\" class=\"col_heading level0 col8\" >TS</th>\n",
       "    </tr>\n",
       "    <tr>\n",
       "      <th class=\"index_name level0\" >time</th>\n",
       "      <th class=\"blank col0\" >&nbsp;</th>\n",
       "      <th class=\"blank col1\" >&nbsp;</th>\n",
       "      <th class=\"blank col2\" >&nbsp;</th>\n",
       "      <th class=\"blank col3\" >&nbsp;</th>\n",
       "      <th class=\"blank col4\" >&nbsp;</th>\n",
       "      <th class=\"blank col5\" >&nbsp;</th>\n",
       "      <th class=\"blank col6\" >&nbsp;</th>\n",
       "      <th class=\"blank col7\" >&nbsp;</th>\n",
       "      <th class=\"blank col8\" >&nbsp;</th>\n",
       "    </tr>\n",
       "  </thead>\n",
       "  <tbody>\n",
       "    <tr>\n",
       "      <th id=\"T_614f4_level0_row0\" class=\"row_heading level0 row0\" >2000-01-04 02:30:00</th>\n",
       "      <td id=\"T_614f4_row0_col0\" class=\"data row0 col0\" >False</td>\n",
       "      <td id=\"T_614f4_row0_col1\" class=\"data row0 col1\" >True</td>\n",
       "      <td id=\"T_614f4_row0_col2\" class=\"data row0 col2\" >True</td>\n",
       "      <td id=\"T_614f4_row0_col3\" class=\"data row0 col3\" >True</td>\n",
       "      <td id=\"T_614f4_row0_col4\" class=\"data row0 col4\" >True</td>\n",
       "      <td id=\"T_614f4_row0_col5\" class=\"data row0 col5\" >True</td>\n",
       "      <td id=\"T_614f4_row0_col6\" class=\"data row0 col6\" >True</td>\n",
       "      <td id=\"T_614f4_row0_col7\" class=\"data row0 col7\" >True</td>\n",
       "      <td id=\"T_614f4_row0_col8\" class=\"data row0 col8\" >True</td>\n",
       "    </tr>\n",
       "    <tr>\n",
       "      <th id=\"T_614f4_level0_row1\" class=\"row_heading level0 row1\" >2000-01-04 03:00:00</th>\n",
       "      <td id=\"T_614f4_row1_col0\" class=\"data row1 col0\" >False</td>\n",
       "      <td id=\"T_614f4_row1_col1\" class=\"data row1 col1\" >True</td>\n",
       "      <td id=\"T_614f4_row1_col2\" class=\"data row1 col2\" >True</td>\n",
       "      <td id=\"T_614f4_row1_col3\" class=\"data row1 col3\" >True</td>\n",
       "      <td id=\"T_614f4_row1_col4\" class=\"data row1 col4\" >True</td>\n",
       "      <td id=\"T_614f4_row1_col5\" class=\"data row1 col5\" >True</td>\n",
       "      <td id=\"T_614f4_row1_col6\" class=\"data row1 col6\" >True</td>\n",
       "      <td id=\"T_614f4_row1_col7\" class=\"data row1 col7\" >True</td>\n",
       "      <td id=\"T_614f4_row1_col8\" class=\"data row1 col8\" >True</td>\n",
       "    </tr>\n",
       "    <tr>\n",
       "      <th id=\"T_614f4_level0_row2\" class=\"row_heading level0 row2\" >2000-01-04 03:30:00</th>\n",
       "      <td id=\"T_614f4_row2_col0\" class=\"data row2 col0\" >False</td>\n",
       "      <td id=\"T_614f4_row2_col1\" class=\"data row2 col1\" >True</td>\n",
       "      <td id=\"T_614f4_row2_col2\" class=\"data row2 col2\" >True</td>\n",
       "      <td id=\"T_614f4_row2_col3\" class=\"data row2 col3\" >True</td>\n",
       "      <td id=\"T_614f4_row2_col4\" class=\"data row2 col4\" >True</td>\n",
       "      <td id=\"T_614f4_row2_col5\" class=\"data row2 col5\" >True</td>\n",
       "      <td id=\"T_614f4_row2_col6\" class=\"data row2 col6\" >True</td>\n",
       "      <td id=\"T_614f4_row2_col7\" class=\"data row2 col7\" >True</td>\n",
       "      <td id=\"T_614f4_row2_col8\" class=\"data row2 col8\" >True</td>\n",
       "    </tr>\n",
       "    <tr>\n",
       "      <th id=\"T_614f4_level0_row3\" class=\"row_heading level0 row3\" >2000-01-04 04:00:00</th>\n",
       "      <td id=\"T_614f4_row3_col0\" class=\"data row3 col0\" >False</td>\n",
       "      <td id=\"T_614f4_row3_col1\" class=\"data row3 col1\" >True</td>\n",
       "      <td id=\"T_614f4_row3_col2\" class=\"data row3 col2\" >True</td>\n",
       "      <td id=\"T_614f4_row3_col3\" class=\"data row3 col3\" >True</td>\n",
       "      <td id=\"T_614f4_row3_col4\" class=\"data row3 col4\" >True</td>\n",
       "      <td id=\"T_614f4_row3_col5\" class=\"data row3 col5\" >True</td>\n",
       "      <td id=\"T_614f4_row3_col6\" class=\"data row3 col6\" >True</td>\n",
       "      <td id=\"T_614f4_row3_col7\" class=\"data row3 col7\" >True</td>\n",
       "      <td id=\"T_614f4_row3_col8\" class=\"data row3 col8\" >True</td>\n",
       "    </tr>\n",
       "    <tr>\n",
       "      <th id=\"T_614f4_level0_row4\" class=\"row_heading level0 row4\" >2000-01-04 04:30:00</th>\n",
       "      <td id=\"T_614f4_row4_col0\" class=\"data row4 col0\" >False</td>\n",
       "      <td id=\"T_614f4_row4_col1\" class=\"data row4 col1\" >True</td>\n",
       "      <td id=\"T_614f4_row4_col2\" class=\"data row4 col2\" >True</td>\n",
       "      <td id=\"T_614f4_row4_col3\" class=\"data row4 col3\" >True</td>\n",
       "      <td id=\"T_614f4_row4_col4\" class=\"data row4 col4\" >True</td>\n",
       "      <td id=\"T_614f4_row4_col5\" class=\"data row4 col5\" >True</td>\n",
       "      <td id=\"T_614f4_row4_col6\" class=\"data row4 col6\" >True</td>\n",
       "      <td id=\"T_614f4_row4_col7\" class=\"data row4 col7\" >True</td>\n",
       "      <td id=\"T_614f4_row4_col8\" class=\"data row4 col8\" >True</td>\n",
       "    </tr>\n",
       "    <tr>\n",
       "      <th id=\"T_614f4_level0_row5\" class=\"row_heading level0 row5\" >2000-01-04 05:00:00</th>\n",
       "      <td id=\"T_614f4_row5_col0\" class=\"data row5 col0\" >False</td>\n",
       "      <td id=\"T_614f4_row5_col1\" class=\"data row5 col1\" >True</td>\n",
       "      <td id=\"T_614f4_row5_col2\" class=\"data row5 col2\" >True</td>\n",
       "      <td id=\"T_614f4_row5_col3\" class=\"data row5 col3\" >True</td>\n",
       "      <td id=\"T_614f4_row5_col4\" class=\"data row5 col4\" >True</td>\n",
       "      <td id=\"T_614f4_row5_col5\" class=\"data row5 col5\" >True</td>\n",
       "      <td id=\"T_614f4_row5_col6\" class=\"data row5 col6\" >True</td>\n",
       "      <td id=\"T_614f4_row5_col7\" class=\"data row5 col7\" >True</td>\n",
       "      <td id=\"T_614f4_row5_col8\" class=\"data row5 col8\" >True</td>\n",
       "    </tr>\n",
       "    <tr>\n",
       "      <th id=\"T_614f4_level0_row6\" class=\"row_heading level0 row6\" >2000-01-04 05:30:00</th>\n",
       "      <td id=\"T_614f4_row6_col0\" class=\"data row6 col0\" >False</td>\n",
       "      <td id=\"T_614f4_row6_col1\" class=\"data row6 col1\" >True</td>\n",
       "      <td id=\"T_614f4_row6_col2\" class=\"data row6 col2\" >True</td>\n",
       "      <td id=\"T_614f4_row6_col3\" class=\"data row6 col3\" >True</td>\n",
       "      <td id=\"T_614f4_row6_col4\" class=\"data row6 col4\" >True</td>\n",
       "      <td id=\"T_614f4_row6_col5\" class=\"data row6 col5\" >True</td>\n",
       "      <td id=\"T_614f4_row6_col6\" class=\"data row6 col6\" >True</td>\n",
       "      <td id=\"T_614f4_row6_col7\" class=\"data row6 col7\" >True</td>\n",
       "      <td id=\"T_614f4_row6_col8\" class=\"data row6 col8\" >True</td>\n",
       "    </tr>\n",
       "    <tr>\n",
       "      <th id=\"T_614f4_level0_row7\" class=\"row_heading level0 row7\" >2000-01-04 06:00:00</th>\n",
       "      <td id=\"T_614f4_row7_col0\" class=\"data row7 col0\" >False</td>\n",
       "      <td id=\"T_614f4_row7_col1\" class=\"data row7 col1\" >True</td>\n",
       "      <td id=\"T_614f4_row7_col2\" class=\"data row7 col2\" >True</td>\n",
       "      <td id=\"T_614f4_row7_col3\" class=\"data row7 col3\" >True</td>\n",
       "      <td id=\"T_614f4_row7_col4\" class=\"data row7 col4\" >True</td>\n",
       "      <td id=\"T_614f4_row7_col5\" class=\"data row7 col5\" >True</td>\n",
       "      <td id=\"T_614f4_row7_col6\" class=\"data row7 col6\" >True</td>\n",
       "      <td id=\"T_614f4_row7_col7\" class=\"data row7 col7\" >True</td>\n",
       "      <td id=\"T_614f4_row7_col8\" class=\"data row7 col8\" >True</td>\n",
       "    </tr>\n",
       "    <tr>\n",
       "      <th id=\"T_614f4_level0_row8\" class=\"row_heading level0 row8\" >2000-01-04 06:30:00</th>\n",
       "      <td id=\"T_614f4_row8_col0\" class=\"data row8 col0\" >False</td>\n",
       "      <td id=\"T_614f4_row8_col1\" class=\"data row8 col1\" >True</td>\n",
       "      <td id=\"T_614f4_row8_col2\" class=\"data row8 col2\" >True</td>\n",
       "      <td id=\"T_614f4_row8_col3\" class=\"data row8 col3\" >True</td>\n",
       "      <td id=\"T_614f4_row8_col4\" class=\"data row8 col4\" >True</td>\n",
       "      <td id=\"T_614f4_row8_col5\" class=\"data row8 col5\" >True</td>\n",
       "      <td id=\"T_614f4_row8_col6\" class=\"data row8 col6\" >True</td>\n",
       "      <td id=\"T_614f4_row8_col7\" class=\"data row8 col7\" >True</td>\n",
       "      <td id=\"T_614f4_row8_col8\" class=\"data row8 col8\" >True</td>\n",
       "    </tr>\n",
       "    <tr>\n",
       "      <th id=\"T_614f4_level0_row9\" class=\"row_heading level0 row9\" >2000-01-04 07:00:00</th>\n",
       "      <td id=\"T_614f4_row9_col0\" class=\"data row9 col0\" >False</td>\n",
       "      <td id=\"T_614f4_row9_col1\" class=\"data row9 col1\" >True</td>\n",
       "      <td id=\"T_614f4_row9_col2\" class=\"data row9 col2\" >True</td>\n",
       "      <td id=\"T_614f4_row9_col3\" class=\"data row9 col3\" >True</td>\n",
       "      <td id=\"T_614f4_row9_col4\" class=\"data row9 col4\" >True</td>\n",
       "      <td id=\"T_614f4_row9_col5\" class=\"data row9 col5\" >True</td>\n",
       "      <td id=\"T_614f4_row9_col6\" class=\"data row9 col6\" >True</td>\n",
       "      <td id=\"T_614f4_row9_col7\" class=\"data row9 col7\" >True</td>\n",
       "      <td id=\"T_614f4_row9_col8\" class=\"data row9 col8\" >True</td>\n",
       "    </tr>\n",
       "  </tbody>\n",
       "</table>\n",
       " </div></div>"
      ],
      "text/plain": [
       "<IPython.core.display.HTML object>"
      ]
     },
     "metadata": {},
     "output_type": "display_data"
    }
   ],
   "source": [
    "display_as_row({'pred': pred[45:55],'data': targ.data[45:55], 'mask': targ.mask[45:55]}, hide_idx=False)"
   ]
  },
  {
   "cell_type": "markdown",
   "id": "9c47ee67-4b84-4bb3-9c73-80a4e9cdf561",
   "metadata": {},
   "source": [
    "#### Kalman Imputation - Specialized Variables"
   ]
  },
  {
   "cell_type": "code",
   "execution_count": null,
   "id": "b9184b9f-6db1-4140-8404-fecbad70e2e3",
   "metadata": {},
   "outputs": [],
   "source": [
    "#| export\n",
    "class KalmanImputationVar:\n",
    "    name = \"KalmanFilter\"\n",
    "    def __init__(self, models # dataframe with 2 columns `model` and `var`\n",
    "                ): store_attr()\n",
    "    def __call__(self, var, item, dls):\n",
    "        model = self._select_model(var)\n",
    "        pred, targ = predict_items(model, dls=dls, items = [item])\n",
    "        pred[0].mean[targ[0].mask] = targ[0].data[targ[0].mask]\n",
    "        return pred[0].mean\n",
    "    def _select_model(self, var):\n",
    "        return self.models[self.models['var'] == var].model.iloc[0]\n",
    "    def preds_all(self, var:str, items:list, dls):\n",
    "        model = self._select_model(var)\n",
    "        return predict_items(model, dls=dls, items = items)"
   ]
  },
  {
   "cell_type": "code",
   "execution_count": null,
   "id": "2903e18c-fbbb-4e1a-8122-03d90e0f30c0",
   "metadata": {},
   "outputs": [],
   "source": [
    "k_impVar = KalmanImputationVar(pd.DataFrame({'model': [model], 'var': 'TA'}))"
   ]
  },
  {
   "cell_type": "code",
   "execution_count": null,
   "id": "3e2b6c75-f0d0-4cc8-8874-ef614a745d15",
   "metadata": {},
   "outputs": [],
   "source": [
    "pred = k_impVar(var= 'TA', item=item, dls=dls)"
   ]
  },
  {
   "cell_type": "code",
   "execution_count": null,
   "id": "bba5c909-c4d8-4276-b411-f8801cfe9b96",
   "metadata": {},
   "outputs": [
    {
     "data": {
      "text/html": [
       "<p style='font-size: 1.5rem; font-decoration: bold'><p><div style=\"display: flex; column-gap: 20px; flex-wrap: wrap;\" class='table table-striped table-sm'> <div> <p style='font-size: 1.3rem;'>pred</p> <style type=\"text/css\">\n",
       "</style>\n",
       "<table id=\"T_aa267\">\n",
       "  <thead>\n",
       "    <tr>\n",
       "      <th class=\"blank level0\" >&nbsp;</th>\n",
       "      <th id=\"T_aa267_level0_col0\" class=\"col_heading level0 col0\" >TA</th>\n",
       "      <th id=\"T_aa267_level0_col1\" class=\"col_heading level0 col1\" >SW_IN</th>\n",
       "      <th id=\"T_aa267_level0_col2\" class=\"col_heading level0 col2\" >LW_IN</th>\n",
       "      <th id=\"T_aa267_level0_col3\" class=\"col_heading level0 col3\" >VPD</th>\n",
       "      <th id=\"T_aa267_level0_col4\" class=\"col_heading level0 col4\" >WS</th>\n",
       "      <th id=\"T_aa267_level0_col5\" class=\"col_heading level0 col5\" >PA</th>\n",
       "      <th id=\"T_aa267_level0_col6\" class=\"col_heading level0 col6\" >P</th>\n",
       "      <th id=\"T_aa267_level0_col7\" class=\"col_heading level0 col7\" >SWC</th>\n",
       "      <th id=\"T_aa267_level0_col8\" class=\"col_heading level0 col8\" >TS</th>\n",
       "    </tr>\n",
       "    <tr>\n",
       "      <th class=\"index_name level0\" >time</th>\n",
       "      <th class=\"blank col0\" >&nbsp;</th>\n",
       "      <th class=\"blank col1\" >&nbsp;</th>\n",
       "      <th class=\"blank col2\" >&nbsp;</th>\n",
       "      <th class=\"blank col3\" >&nbsp;</th>\n",
       "      <th class=\"blank col4\" >&nbsp;</th>\n",
       "      <th class=\"blank col5\" >&nbsp;</th>\n",
       "      <th class=\"blank col6\" >&nbsp;</th>\n",
       "      <th class=\"blank col7\" >&nbsp;</th>\n",
       "      <th class=\"blank col8\" >&nbsp;</th>\n",
       "    </tr>\n",
       "  </thead>\n",
       "  <tbody>\n",
       "    <tr>\n",
       "      <th id=\"T_aa267_level0_row0\" class=\"row_heading level0 row0\" >2000-01-04 02:30:00</th>\n",
       "      <td id=\"T_aa267_row0_col0\" class=\"data row0 col0\" >2.3467</td>\n",
       "      <td id=\"T_aa267_row0_col1\" class=\"data row0 col1\" >0.0000</td>\n",
       "      <td id=\"T_aa267_row0_col2\" class=\"data row0 col2\" >304.7310</td>\n",
       "      <td id=\"T_aa267_row0_col3\" class=\"data row0 col3\" >0.9520</td>\n",
       "      <td id=\"T_aa267_row0_col4\" class=\"data row0 col4\" >5.3900</td>\n",
       "      <td id=\"T_aa267_row0_col5\" class=\"data row0 col5\" >96.3000</td>\n",
       "      <td id=\"T_aa267_row0_col6\" class=\"data row0 col6\" >0.0000</td>\n",
       "      <td id=\"T_aa267_row0_col7\" class=\"data row0 col7\" >43.0800</td>\n",
       "      <td id=\"T_aa267_row0_col8\" class=\"data row0 col8\" >1.3100</td>\n",
       "    </tr>\n",
       "    <tr>\n",
       "      <th id=\"T_aa267_level0_row1\" class=\"row_heading level0 row1\" >2000-01-04 03:00:00</th>\n",
       "      <td id=\"T_aa267_row1_col0\" class=\"data row1 col0\" >2.1803</td>\n",
       "      <td id=\"T_aa267_row1_col1\" class=\"data row1 col1\" >0.0000</td>\n",
       "      <td id=\"T_aa267_row1_col2\" class=\"data row1 col2\" >304.7310</td>\n",
       "      <td id=\"T_aa267_row1_col3\" class=\"data row1 col3\" >0.9710</td>\n",
       "      <td id=\"T_aa267_row1_col4\" class=\"data row1 col4\" >5.5900</td>\n",
       "      <td id=\"T_aa267_row1_col5\" class=\"data row1 col5\" >96.3000</td>\n",
       "      <td id=\"T_aa267_row1_col6\" class=\"data row1 col6\" >0.0000</td>\n",
       "      <td id=\"T_aa267_row1_col7\" class=\"data row1 col7\" >43.0800</td>\n",
       "      <td id=\"T_aa267_row1_col8\" class=\"data row1 col8\" >1.3100</td>\n",
       "    </tr>\n",
       "    <tr>\n",
       "      <th id=\"T_aa267_level0_row2\" class=\"row_heading level0 row2\" >2000-01-04 03:30:00</th>\n",
       "      <td id=\"T_aa267_row2_col0\" class=\"data row2 col0\" >1.8728</td>\n",
       "      <td id=\"T_aa267_row2_col1\" class=\"data row2 col1\" >0.0000</td>\n",
       "      <td id=\"T_aa267_row2_col2\" class=\"data row2 col2\" >304.7310</td>\n",
       "      <td id=\"T_aa267_row2_col3\" class=\"data row2 col3\" >0.9580</td>\n",
       "      <td id=\"T_aa267_row2_col4\" class=\"data row2 col4\" >5.6700</td>\n",
       "      <td id=\"T_aa267_row2_col5\" class=\"data row2 col5\" >96.2900</td>\n",
       "      <td id=\"T_aa267_row2_col6\" class=\"data row2 col6\" >0.0000</td>\n",
       "      <td id=\"T_aa267_row2_col7\" class=\"data row2 col7\" >43.0800</td>\n",
       "      <td id=\"T_aa267_row2_col8\" class=\"data row2 col8\" >1.3100</td>\n",
       "    </tr>\n",
       "    <tr>\n",
       "      <th id=\"T_aa267_level0_row3\" class=\"row_heading level0 row3\" >2000-01-04 04:00:00</th>\n",
       "      <td id=\"T_aa267_row3_col0\" class=\"data row3 col0\" >1.4769</td>\n",
       "      <td id=\"T_aa267_row3_col1\" class=\"data row3 col1\" >0.0000</td>\n",
       "      <td id=\"T_aa267_row3_col2\" class=\"data row3 col2\" >304.7310</td>\n",
       "      <td id=\"T_aa267_row3_col3\" class=\"data row3 col3\" >0.9380</td>\n",
       "      <td id=\"T_aa267_row3_col4\" class=\"data row3 col4\" >6.6100</td>\n",
       "      <td id=\"T_aa267_row3_col5\" class=\"data row3 col5\" >96.2600</td>\n",
       "      <td id=\"T_aa267_row3_col6\" class=\"data row3 col6\" >0.0000</td>\n",
       "      <td id=\"T_aa267_row3_col7\" class=\"data row3 col7\" >43.0800</td>\n",
       "      <td id=\"T_aa267_row3_col8\" class=\"data row3 col8\" >1.3100</td>\n",
       "    </tr>\n",
       "    <tr>\n",
       "      <th id=\"T_aa267_level0_row4\" class=\"row_heading level0 row4\" >2000-01-04 04:30:00</th>\n",
       "      <td id=\"T_aa267_row4_col0\" class=\"data row4 col0\" >1.4710</td>\n",
       "      <td id=\"T_aa267_row4_col1\" class=\"data row4 col1\" >0.0000</td>\n",
       "      <td id=\"T_aa267_row4_col2\" class=\"data row4 col2\" >315.0050</td>\n",
       "      <td id=\"T_aa267_row4_col3\" class=\"data row4 col3\" >0.7850</td>\n",
       "      <td id=\"T_aa267_row4_col4\" class=\"data row4 col4\" >6.6500</td>\n",
       "      <td id=\"T_aa267_row4_col5\" class=\"data row4 col5\" >96.2600</td>\n",
       "      <td id=\"T_aa267_row4_col6\" class=\"data row4 col6\" >0.0000</td>\n",
       "      <td id=\"T_aa267_row4_col7\" class=\"data row4 col7\" >43.0800</td>\n",
       "      <td id=\"T_aa267_row4_col8\" class=\"data row4 col8\" >1.3100</td>\n",
       "    </tr>\n",
       "    <tr>\n",
       "      <th id=\"T_aa267_level0_row5\" class=\"row_heading level0 row5\" >2000-01-04 05:00:00</th>\n",
       "      <td id=\"T_aa267_row5_col0\" class=\"data row5 col0\" >1.4303</td>\n",
       "      <td id=\"T_aa267_row5_col1\" class=\"data row5 col1\" >0.0000</td>\n",
       "      <td id=\"T_aa267_row5_col2\" class=\"data row5 col2\" >315.0050</td>\n",
       "      <td id=\"T_aa267_row5_col3\" class=\"data row5 col3\" >0.5290</td>\n",
       "      <td id=\"T_aa267_row5_col4\" class=\"data row5 col4\" >6.1200</td>\n",
       "      <td id=\"T_aa267_row5_col5\" class=\"data row5 col5\" >96.2700</td>\n",
       "      <td id=\"T_aa267_row5_col6\" class=\"data row5 col6\" >0.0000</td>\n",
       "      <td id=\"T_aa267_row5_col7\" class=\"data row5 col7\" >43.0800</td>\n",
       "      <td id=\"T_aa267_row5_col8\" class=\"data row5 col8\" >1.3000</td>\n",
       "    </tr>\n",
       "    <tr>\n",
       "      <th id=\"T_aa267_level0_row6\" class=\"row_heading level0 row6\" >2000-01-04 05:30:00</th>\n",
       "      <td id=\"T_aa267_row6_col0\" class=\"data row6 col0\" >1.5573</td>\n",
       "      <td id=\"T_aa267_row6_col1\" class=\"data row6 col1\" >0.0000</td>\n",
       "      <td id=\"T_aa267_row6_col2\" class=\"data row6 col2\" >315.0050</td>\n",
       "      <td id=\"T_aa267_row6_col3\" class=\"data row6 col3\" >0.4500</td>\n",
       "      <td id=\"T_aa267_row6_col4\" class=\"data row6 col4\" >5.5800</td>\n",
       "      <td id=\"T_aa267_row6_col5\" class=\"data row6 col5\" >96.2600</td>\n",
       "      <td id=\"T_aa267_row6_col6\" class=\"data row6 col6\" >0.2900</td>\n",
       "      <td id=\"T_aa267_row6_col7\" class=\"data row6 col7\" >43.1300</td>\n",
       "      <td id=\"T_aa267_row6_col8\" class=\"data row6 col8\" >1.3000</td>\n",
       "    </tr>\n",
       "    <tr>\n",
       "      <th id=\"T_aa267_level0_row7\" class=\"row_heading level0 row7\" >2000-01-04 06:00:00</th>\n",
       "      <td id=\"T_aa267_row7_col0\" class=\"data row7 col0\" >1.6616</td>\n",
       "      <td id=\"T_aa267_row7_col1\" class=\"data row7 col1\" >0.0000</td>\n",
       "      <td id=\"T_aa267_row7_col2\" class=\"data row7 col2\" >315.0050</td>\n",
       "      <td id=\"T_aa267_row7_col3\" class=\"data row7 col3\" >0.4990</td>\n",
       "      <td id=\"T_aa267_row7_col4\" class=\"data row7 col4\" >4.7000</td>\n",
       "      <td id=\"T_aa267_row7_col5\" class=\"data row7 col5\" >96.2500</td>\n",
       "      <td id=\"T_aa267_row7_col6\" class=\"data row7 col6\" >0.0000</td>\n",
       "      <td id=\"T_aa267_row7_col7\" class=\"data row7 col7\" >43.1300</td>\n",
       "      <td id=\"T_aa267_row7_col8\" class=\"data row7 col8\" >1.2900</td>\n",
       "    </tr>\n",
       "    <tr>\n",
       "      <th id=\"T_aa267_level0_row8\" class=\"row_heading level0 row8\" >2000-01-04 06:30:00</th>\n",
       "      <td id=\"T_aa267_row8_col0\" class=\"data row8 col0\" >1.6438</td>\n",
       "      <td id=\"T_aa267_row8_col1\" class=\"data row8 col1\" >0.0000</td>\n",
       "      <td id=\"T_aa267_row8_col2\" class=\"data row8 col2\" >315.0050</td>\n",
       "      <td id=\"T_aa267_row8_col3\" class=\"data row8 col3\" >0.3820</td>\n",
       "      <td id=\"T_aa267_row8_col4\" class=\"data row8 col4\" >5.0700</td>\n",
       "      <td id=\"T_aa267_row8_col5\" class=\"data row8 col5\" >96.2300</td>\n",
       "      <td id=\"T_aa267_row8_col6\" class=\"data row8 col6\" >0.0000</td>\n",
       "      <td id=\"T_aa267_row8_col7\" class=\"data row8 col7\" >43.1300</td>\n",
       "      <td id=\"T_aa267_row8_col8\" class=\"data row8 col8\" >1.2900</td>\n",
       "    </tr>\n",
       "    <tr>\n",
       "      <th id=\"T_aa267_level0_row9\" class=\"row_heading level0 row9\" >2000-01-04 07:00:00</th>\n",
       "      <td id=\"T_aa267_row9_col0\" class=\"data row9 col0\" >1.5697</td>\n",
       "      <td id=\"T_aa267_row9_col1\" class=\"data row9 col1\" >0.0000</td>\n",
       "      <td id=\"T_aa267_row9_col2\" class=\"data row9 col2\" >315.0050</td>\n",
       "      <td id=\"T_aa267_row9_col3\" class=\"data row9 col3\" >0.3130</td>\n",
       "      <td id=\"T_aa267_row9_col4\" class=\"data row9 col4\" >5.2300</td>\n",
       "      <td id=\"T_aa267_row9_col5\" class=\"data row9 col5\" >96.2400</td>\n",
       "      <td id=\"T_aa267_row9_col6\" class=\"data row9 col6\" >0.0000</td>\n",
       "      <td id=\"T_aa267_row9_col7\" class=\"data row9 col7\" >43.1300</td>\n",
       "      <td id=\"T_aa267_row9_col8\" class=\"data row9 col8\" >1.2900</td>\n",
       "    </tr>\n",
       "  </tbody>\n",
       "</table>\n",
       " </div><div> <p style='font-size: 1.3rem;'>data</p> <style type=\"text/css\">\n",
       "</style>\n",
       "<table id=\"T_b4e98\">\n",
       "  <thead>\n",
       "    <tr>\n",
       "      <th class=\"blank level0\" >&nbsp;</th>\n",
       "      <th id=\"T_b4e98_level0_col0\" class=\"col_heading level0 col0\" >TA</th>\n",
       "      <th id=\"T_b4e98_level0_col1\" class=\"col_heading level0 col1\" >SW_IN</th>\n",
       "      <th id=\"T_b4e98_level0_col2\" class=\"col_heading level0 col2\" >LW_IN</th>\n",
       "      <th id=\"T_b4e98_level0_col3\" class=\"col_heading level0 col3\" >VPD</th>\n",
       "      <th id=\"T_b4e98_level0_col4\" class=\"col_heading level0 col4\" >WS</th>\n",
       "      <th id=\"T_b4e98_level0_col5\" class=\"col_heading level0 col5\" >PA</th>\n",
       "      <th id=\"T_b4e98_level0_col6\" class=\"col_heading level0 col6\" >P</th>\n",
       "      <th id=\"T_b4e98_level0_col7\" class=\"col_heading level0 col7\" >SWC</th>\n",
       "      <th id=\"T_b4e98_level0_col8\" class=\"col_heading level0 col8\" >TS</th>\n",
       "    </tr>\n",
       "    <tr>\n",
       "      <th class=\"index_name level0\" >time</th>\n",
       "      <th class=\"blank col0\" >&nbsp;</th>\n",
       "      <th class=\"blank col1\" >&nbsp;</th>\n",
       "      <th class=\"blank col2\" >&nbsp;</th>\n",
       "      <th class=\"blank col3\" >&nbsp;</th>\n",
       "      <th class=\"blank col4\" >&nbsp;</th>\n",
       "      <th class=\"blank col5\" >&nbsp;</th>\n",
       "      <th class=\"blank col6\" >&nbsp;</th>\n",
       "      <th class=\"blank col7\" >&nbsp;</th>\n",
       "      <th class=\"blank col8\" >&nbsp;</th>\n",
       "    </tr>\n",
       "  </thead>\n",
       "  <tbody>\n",
       "    <tr>\n",
       "      <th id=\"T_b4e98_level0_row0\" class=\"row_heading level0 row0\" >2000-01-04 02:30:00</th>\n",
       "      <td id=\"T_b4e98_row0_col0\" class=\"data row0 col0\" >2.1900</td>\n",
       "      <td id=\"T_b4e98_row0_col1\" class=\"data row0 col1\" >0.0000</td>\n",
       "      <td id=\"T_b4e98_row0_col2\" class=\"data row0 col2\" >304.7310</td>\n",
       "      <td id=\"T_b4e98_row0_col3\" class=\"data row0 col3\" >0.9520</td>\n",
       "      <td id=\"T_b4e98_row0_col4\" class=\"data row0 col4\" >5.3900</td>\n",
       "      <td id=\"T_b4e98_row0_col5\" class=\"data row0 col5\" >96.3000</td>\n",
       "      <td id=\"T_b4e98_row0_col6\" class=\"data row0 col6\" >0.0000</td>\n",
       "      <td id=\"T_b4e98_row0_col7\" class=\"data row0 col7\" >43.0800</td>\n",
       "      <td id=\"T_b4e98_row0_col8\" class=\"data row0 col8\" >1.3100</td>\n",
       "    </tr>\n",
       "    <tr>\n",
       "      <th id=\"T_b4e98_level0_row1\" class=\"row_heading level0 row1\" >2000-01-04 03:00:00</th>\n",
       "      <td id=\"T_b4e98_row1_col0\" class=\"data row1 col0\" >2.2700</td>\n",
       "      <td id=\"T_b4e98_row1_col1\" class=\"data row1 col1\" >0.0000</td>\n",
       "      <td id=\"T_b4e98_row1_col2\" class=\"data row1 col2\" >304.7310</td>\n",
       "      <td id=\"T_b4e98_row1_col3\" class=\"data row1 col3\" >0.9710</td>\n",
       "      <td id=\"T_b4e98_row1_col4\" class=\"data row1 col4\" >5.5900</td>\n",
       "      <td id=\"T_b4e98_row1_col5\" class=\"data row1 col5\" >96.3000</td>\n",
       "      <td id=\"T_b4e98_row1_col6\" class=\"data row1 col6\" >0.0000</td>\n",
       "      <td id=\"T_b4e98_row1_col7\" class=\"data row1 col7\" >43.0800</td>\n",
       "      <td id=\"T_b4e98_row1_col8\" class=\"data row1 col8\" >1.3100</td>\n",
       "    </tr>\n",
       "    <tr>\n",
       "      <th id=\"T_b4e98_level0_row2\" class=\"row_heading level0 row2\" >2000-01-04 03:30:00</th>\n",
       "      <td id=\"T_b4e98_row2_col0\" class=\"data row2 col0\" >2.3200</td>\n",
       "      <td id=\"T_b4e98_row2_col1\" class=\"data row2 col1\" >0.0000</td>\n",
       "      <td id=\"T_b4e98_row2_col2\" class=\"data row2 col2\" >304.7310</td>\n",
       "      <td id=\"T_b4e98_row2_col3\" class=\"data row2 col3\" >0.9580</td>\n",
       "      <td id=\"T_b4e98_row2_col4\" class=\"data row2 col4\" >5.6700</td>\n",
       "      <td id=\"T_b4e98_row2_col5\" class=\"data row2 col5\" >96.2900</td>\n",
       "      <td id=\"T_b4e98_row2_col6\" class=\"data row2 col6\" >0.0000</td>\n",
       "      <td id=\"T_b4e98_row2_col7\" class=\"data row2 col7\" >43.0800</td>\n",
       "      <td id=\"T_b4e98_row2_col8\" class=\"data row2 col8\" >1.3100</td>\n",
       "    </tr>\n",
       "    <tr>\n",
       "      <th id=\"T_b4e98_level0_row3\" class=\"row_heading level0 row3\" >2000-01-04 04:00:00</th>\n",
       "      <td id=\"T_b4e98_row3_col0\" class=\"data row3 col0\" >2.3400</td>\n",
       "      <td id=\"T_b4e98_row3_col1\" class=\"data row3 col1\" >0.0000</td>\n",
       "      <td id=\"T_b4e98_row3_col2\" class=\"data row3 col2\" >304.7310</td>\n",
       "      <td id=\"T_b4e98_row3_col3\" class=\"data row3 col3\" >0.9380</td>\n",
       "      <td id=\"T_b4e98_row3_col4\" class=\"data row3 col4\" >6.6100</td>\n",
       "      <td id=\"T_b4e98_row3_col5\" class=\"data row3 col5\" >96.2600</td>\n",
       "      <td id=\"T_b4e98_row3_col6\" class=\"data row3 col6\" >0.0000</td>\n",
       "      <td id=\"T_b4e98_row3_col7\" class=\"data row3 col7\" >43.0800</td>\n",
       "      <td id=\"T_b4e98_row3_col8\" class=\"data row3 col8\" >1.3100</td>\n",
       "    </tr>\n",
       "    <tr>\n",
       "      <th id=\"T_b4e98_level0_row4\" class=\"row_heading level0 row4\" >2000-01-04 04:30:00</th>\n",
       "      <td id=\"T_b4e98_row4_col0\" class=\"data row4 col0\" >2.2400</td>\n",
       "      <td id=\"T_b4e98_row4_col1\" class=\"data row4 col1\" >0.0000</td>\n",
       "      <td id=\"T_b4e98_row4_col2\" class=\"data row4 col2\" >315.0050</td>\n",
       "      <td id=\"T_b4e98_row4_col3\" class=\"data row4 col3\" >0.7850</td>\n",
       "      <td id=\"T_b4e98_row4_col4\" class=\"data row4 col4\" >6.6500</td>\n",
       "      <td id=\"T_b4e98_row4_col5\" class=\"data row4 col5\" >96.2600</td>\n",
       "      <td id=\"T_b4e98_row4_col6\" class=\"data row4 col6\" >0.0000</td>\n",
       "      <td id=\"T_b4e98_row4_col7\" class=\"data row4 col7\" >43.0800</td>\n",
       "      <td id=\"T_b4e98_row4_col8\" class=\"data row4 col8\" >1.3100</td>\n",
       "    </tr>\n",
       "    <tr>\n",
       "      <th id=\"T_b4e98_level0_row5\" class=\"row_heading level0 row5\" >2000-01-04 05:00:00</th>\n",
       "      <td id=\"T_b4e98_row5_col0\" class=\"data row5 col0\" >2.0000</td>\n",
       "      <td id=\"T_b4e98_row5_col1\" class=\"data row5 col1\" >0.0000</td>\n",
       "      <td id=\"T_b4e98_row5_col2\" class=\"data row5 col2\" >315.0050</td>\n",
       "      <td id=\"T_b4e98_row5_col3\" class=\"data row5 col3\" >0.5290</td>\n",
       "      <td id=\"T_b4e98_row5_col4\" class=\"data row5 col4\" >6.1200</td>\n",
       "      <td id=\"T_b4e98_row5_col5\" class=\"data row5 col5\" >96.2700</td>\n",
       "      <td id=\"T_b4e98_row5_col6\" class=\"data row5 col6\" >0.0000</td>\n",
       "      <td id=\"T_b4e98_row5_col7\" class=\"data row5 col7\" >43.0800</td>\n",
       "      <td id=\"T_b4e98_row5_col8\" class=\"data row5 col8\" >1.3000</td>\n",
       "    </tr>\n",
       "    <tr>\n",
       "      <th id=\"T_b4e98_level0_row6\" class=\"row_heading level0 row6\" >2000-01-04 05:30:00</th>\n",
       "      <td id=\"T_b4e98_row6_col0\" class=\"data row6 col0\" >1.9400</td>\n",
       "      <td id=\"T_b4e98_row6_col1\" class=\"data row6 col1\" >0.0000</td>\n",
       "      <td id=\"T_b4e98_row6_col2\" class=\"data row6 col2\" >315.0050</td>\n",
       "      <td id=\"T_b4e98_row6_col3\" class=\"data row6 col3\" >0.4500</td>\n",
       "      <td id=\"T_b4e98_row6_col4\" class=\"data row6 col4\" >5.5800</td>\n",
       "      <td id=\"T_b4e98_row6_col5\" class=\"data row6 col5\" >96.2600</td>\n",
       "      <td id=\"T_b4e98_row6_col6\" class=\"data row6 col6\" >0.2900</td>\n",
       "      <td id=\"T_b4e98_row6_col7\" class=\"data row6 col7\" >43.1300</td>\n",
       "      <td id=\"T_b4e98_row6_col8\" class=\"data row6 col8\" >1.3000</td>\n",
       "    </tr>\n",
       "    <tr>\n",
       "      <th id=\"T_b4e98_level0_row7\" class=\"row_heading level0 row7\" >2000-01-04 06:00:00</th>\n",
       "      <td id=\"T_b4e98_row7_col0\" class=\"data row7 col0\" >2.0700</td>\n",
       "      <td id=\"T_b4e98_row7_col1\" class=\"data row7 col1\" >0.0000</td>\n",
       "      <td id=\"T_b4e98_row7_col2\" class=\"data row7 col2\" >315.0050</td>\n",
       "      <td id=\"T_b4e98_row7_col3\" class=\"data row7 col3\" >0.4990</td>\n",
       "      <td id=\"T_b4e98_row7_col4\" class=\"data row7 col4\" >4.7000</td>\n",
       "      <td id=\"T_b4e98_row7_col5\" class=\"data row7 col5\" >96.2500</td>\n",
       "      <td id=\"T_b4e98_row7_col6\" class=\"data row7 col6\" >0.0000</td>\n",
       "      <td id=\"T_b4e98_row7_col7\" class=\"data row7 col7\" >43.1300</td>\n",
       "      <td id=\"T_b4e98_row7_col8\" class=\"data row7 col8\" >1.2900</td>\n",
       "    </tr>\n",
       "    <tr>\n",
       "      <th id=\"T_b4e98_level0_row8\" class=\"row_heading level0 row8\" >2000-01-04 06:30:00</th>\n",
       "      <td id=\"T_b4e98_row8_col0\" class=\"data row8 col0\" >2.0400</td>\n",
       "      <td id=\"T_b4e98_row8_col1\" class=\"data row8 col1\" >0.0000</td>\n",
       "      <td id=\"T_b4e98_row8_col2\" class=\"data row8 col2\" >315.0050</td>\n",
       "      <td id=\"T_b4e98_row8_col3\" class=\"data row8 col3\" >0.3820</td>\n",
       "      <td id=\"T_b4e98_row8_col4\" class=\"data row8 col4\" >5.0700</td>\n",
       "      <td id=\"T_b4e98_row8_col5\" class=\"data row8 col5\" >96.2300</td>\n",
       "      <td id=\"T_b4e98_row8_col6\" class=\"data row8 col6\" >0.0000</td>\n",
       "      <td id=\"T_b4e98_row8_col7\" class=\"data row8 col7\" >43.1300</td>\n",
       "      <td id=\"T_b4e98_row8_col8\" class=\"data row8 col8\" >1.2900</td>\n",
       "    </tr>\n",
       "    <tr>\n",
       "      <th id=\"T_b4e98_level0_row9\" class=\"row_heading level0 row9\" >2000-01-04 07:00:00</th>\n",
       "      <td id=\"T_b4e98_row9_col0\" class=\"data row9 col0\" >2.0300</td>\n",
       "      <td id=\"T_b4e98_row9_col1\" class=\"data row9 col1\" >0.0000</td>\n",
       "      <td id=\"T_b4e98_row9_col2\" class=\"data row9 col2\" >315.0050</td>\n",
       "      <td id=\"T_b4e98_row9_col3\" class=\"data row9 col3\" >0.3130</td>\n",
       "      <td id=\"T_b4e98_row9_col4\" class=\"data row9 col4\" >5.2300</td>\n",
       "      <td id=\"T_b4e98_row9_col5\" class=\"data row9 col5\" >96.2400</td>\n",
       "      <td id=\"T_b4e98_row9_col6\" class=\"data row9 col6\" >0.0000</td>\n",
       "      <td id=\"T_b4e98_row9_col7\" class=\"data row9 col7\" >43.1300</td>\n",
       "      <td id=\"T_b4e98_row9_col8\" class=\"data row9 col8\" >1.2900</td>\n",
       "    </tr>\n",
       "  </tbody>\n",
       "</table>\n",
       " </div><div> <p style='font-size: 1.3rem;'>mask</p> <style type=\"text/css\">\n",
       "</style>\n",
       "<table id=\"T_83932\">\n",
       "  <thead>\n",
       "    <tr>\n",
       "      <th class=\"blank level0\" >&nbsp;</th>\n",
       "      <th id=\"T_83932_level0_col0\" class=\"col_heading level0 col0\" >TA</th>\n",
       "      <th id=\"T_83932_level0_col1\" class=\"col_heading level0 col1\" >SW_IN</th>\n",
       "      <th id=\"T_83932_level0_col2\" class=\"col_heading level0 col2\" >LW_IN</th>\n",
       "      <th id=\"T_83932_level0_col3\" class=\"col_heading level0 col3\" >VPD</th>\n",
       "      <th id=\"T_83932_level0_col4\" class=\"col_heading level0 col4\" >WS</th>\n",
       "      <th id=\"T_83932_level0_col5\" class=\"col_heading level0 col5\" >PA</th>\n",
       "      <th id=\"T_83932_level0_col6\" class=\"col_heading level0 col6\" >P</th>\n",
       "      <th id=\"T_83932_level0_col7\" class=\"col_heading level0 col7\" >SWC</th>\n",
       "      <th id=\"T_83932_level0_col8\" class=\"col_heading level0 col8\" >TS</th>\n",
       "    </tr>\n",
       "    <tr>\n",
       "      <th class=\"index_name level0\" >time</th>\n",
       "      <th class=\"blank col0\" >&nbsp;</th>\n",
       "      <th class=\"blank col1\" >&nbsp;</th>\n",
       "      <th class=\"blank col2\" >&nbsp;</th>\n",
       "      <th class=\"blank col3\" >&nbsp;</th>\n",
       "      <th class=\"blank col4\" >&nbsp;</th>\n",
       "      <th class=\"blank col5\" >&nbsp;</th>\n",
       "      <th class=\"blank col6\" >&nbsp;</th>\n",
       "      <th class=\"blank col7\" >&nbsp;</th>\n",
       "      <th class=\"blank col8\" >&nbsp;</th>\n",
       "    </tr>\n",
       "  </thead>\n",
       "  <tbody>\n",
       "    <tr>\n",
       "      <th id=\"T_83932_level0_row0\" class=\"row_heading level0 row0\" >2000-01-04 02:30:00</th>\n",
       "      <td id=\"T_83932_row0_col0\" class=\"data row0 col0\" >False</td>\n",
       "      <td id=\"T_83932_row0_col1\" class=\"data row0 col1\" >True</td>\n",
       "      <td id=\"T_83932_row0_col2\" class=\"data row0 col2\" >True</td>\n",
       "      <td id=\"T_83932_row0_col3\" class=\"data row0 col3\" >True</td>\n",
       "      <td id=\"T_83932_row0_col4\" class=\"data row0 col4\" >True</td>\n",
       "      <td id=\"T_83932_row0_col5\" class=\"data row0 col5\" >True</td>\n",
       "      <td id=\"T_83932_row0_col6\" class=\"data row0 col6\" >True</td>\n",
       "      <td id=\"T_83932_row0_col7\" class=\"data row0 col7\" >True</td>\n",
       "      <td id=\"T_83932_row0_col8\" class=\"data row0 col8\" >True</td>\n",
       "    </tr>\n",
       "    <tr>\n",
       "      <th id=\"T_83932_level0_row1\" class=\"row_heading level0 row1\" >2000-01-04 03:00:00</th>\n",
       "      <td id=\"T_83932_row1_col0\" class=\"data row1 col0\" >False</td>\n",
       "      <td id=\"T_83932_row1_col1\" class=\"data row1 col1\" >True</td>\n",
       "      <td id=\"T_83932_row1_col2\" class=\"data row1 col2\" >True</td>\n",
       "      <td id=\"T_83932_row1_col3\" class=\"data row1 col3\" >True</td>\n",
       "      <td id=\"T_83932_row1_col4\" class=\"data row1 col4\" >True</td>\n",
       "      <td id=\"T_83932_row1_col5\" class=\"data row1 col5\" >True</td>\n",
       "      <td id=\"T_83932_row1_col6\" class=\"data row1 col6\" >True</td>\n",
       "      <td id=\"T_83932_row1_col7\" class=\"data row1 col7\" >True</td>\n",
       "      <td id=\"T_83932_row1_col8\" class=\"data row1 col8\" >True</td>\n",
       "    </tr>\n",
       "    <tr>\n",
       "      <th id=\"T_83932_level0_row2\" class=\"row_heading level0 row2\" >2000-01-04 03:30:00</th>\n",
       "      <td id=\"T_83932_row2_col0\" class=\"data row2 col0\" >False</td>\n",
       "      <td id=\"T_83932_row2_col1\" class=\"data row2 col1\" >True</td>\n",
       "      <td id=\"T_83932_row2_col2\" class=\"data row2 col2\" >True</td>\n",
       "      <td id=\"T_83932_row2_col3\" class=\"data row2 col3\" >True</td>\n",
       "      <td id=\"T_83932_row2_col4\" class=\"data row2 col4\" >True</td>\n",
       "      <td id=\"T_83932_row2_col5\" class=\"data row2 col5\" >True</td>\n",
       "      <td id=\"T_83932_row2_col6\" class=\"data row2 col6\" >True</td>\n",
       "      <td id=\"T_83932_row2_col7\" class=\"data row2 col7\" >True</td>\n",
       "      <td id=\"T_83932_row2_col8\" class=\"data row2 col8\" >True</td>\n",
       "    </tr>\n",
       "    <tr>\n",
       "      <th id=\"T_83932_level0_row3\" class=\"row_heading level0 row3\" >2000-01-04 04:00:00</th>\n",
       "      <td id=\"T_83932_row3_col0\" class=\"data row3 col0\" >False</td>\n",
       "      <td id=\"T_83932_row3_col1\" class=\"data row3 col1\" >True</td>\n",
       "      <td id=\"T_83932_row3_col2\" class=\"data row3 col2\" >True</td>\n",
       "      <td id=\"T_83932_row3_col3\" class=\"data row3 col3\" >True</td>\n",
       "      <td id=\"T_83932_row3_col4\" class=\"data row3 col4\" >True</td>\n",
       "      <td id=\"T_83932_row3_col5\" class=\"data row3 col5\" >True</td>\n",
       "      <td id=\"T_83932_row3_col6\" class=\"data row3 col6\" >True</td>\n",
       "      <td id=\"T_83932_row3_col7\" class=\"data row3 col7\" >True</td>\n",
       "      <td id=\"T_83932_row3_col8\" class=\"data row3 col8\" >True</td>\n",
       "    </tr>\n",
       "    <tr>\n",
       "      <th id=\"T_83932_level0_row4\" class=\"row_heading level0 row4\" >2000-01-04 04:30:00</th>\n",
       "      <td id=\"T_83932_row4_col0\" class=\"data row4 col0\" >False</td>\n",
       "      <td id=\"T_83932_row4_col1\" class=\"data row4 col1\" >True</td>\n",
       "      <td id=\"T_83932_row4_col2\" class=\"data row4 col2\" >True</td>\n",
       "      <td id=\"T_83932_row4_col3\" class=\"data row4 col3\" >True</td>\n",
       "      <td id=\"T_83932_row4_col4\" class=\"data row4 col4\" >True</td>\n",
       "      <td id=\"T_83932_row4_col5\" class=\"data row4 col5\" >True</td>\n",
       "      <td id=\"T_83932_row4_col6\" class=\"data row4 col6\" >True</td>\n",
       "      <td id=\"T_83932_row4_col7\" class=\"data row4 col7\" >True</td>\n",
       "      <td id=\"T_83932_row4_col8\" class=\"data row4 col8\" >True</td>\n",
       "    </tr>\n",
       "    <tr>\n",
       "      <th id=\"T_83932_level0_row5\" class=\"row_heading level0 row5\" >2000-01-04 05:00:00</th>\n",
       "      <td id=\"T_83932_row5_col0\" class=\"data row5 col0\" >False</td>\n",
       "      <td id=\"T_83932_row5_col1\" class=\"data row5 col1\" >True</td>\n",
       "      <td id=\"T_83932_row5_col2\" class=\"data row5 col2\" >True</td>\n",
       "      <td id=\"T_83932_row5_col3\" class=\"data row5 col3\" >True</td>\n",
       "      <td id=\"T_83932_row5_col4\" class=\"data row5 col4\" >True</td>\n",
       "      <td id=\"T_83932_row5_col5\" class=\"data row5 col5\" >True</td>\n",
       "      <td id=\"T_83932_row5_col6\" class=\"data row5 col6\" >True</td>\n",
       "      <td id=\"T_83932_row5_col7\" class=\"data row5 col7\" >True</td>\n",
       "      <td id=\"T_83932_row5_col8\" class=\"data row5 col8\" >True</td>\n",
       "    </tr>\n",
       "    <tr>\n",
       "      <th id=\"T_83932_level0_row6\" class=\"row_heading level0 row6\" >2000-01-04 05:30:00</th>\n",
       "      <td id=\"T_83932_row6_col0\" class=\"data row6 col0\" >False</td>\n",
       "      <td id=\"T_83932_row6_col1\" class=\"data row6 col1\" >True</td>\n",
       "      <td id=\"T_83932_row6_col2\" class=\"data row6 col2\" >True</td>\n",
       "      <td id=\"T_83932_row6_col3\" class=\"data row6 col3\" >True</td>\n",
       "      <td id=\"T_83932_row6_col4\" class=\"data row6 col4\" >True</td>\n",
       "      <td id=\"T_83932_row6_col5\" class=\"data row6 col5\" >True</td>\n",
       "      <td id=\"T_83932_row6_col6\" class=\"data row6 col6\" >True</td>\n",
       "      <td id=\"T_83932_row6_col7\" class=\"data row6 col7\" >True</td>\n",
       "      <td id=\"T_83932_row6_col8\" class=\"data row6 col8\" >True</td>\n",
       "    </tr>\n",
       "    <tr>\n",
       "      <th id=\"T_83932_level0_row7\" class=\"row_heading level0 row7\" >2000-01-04 06:00:00</th>\n",
       "      <td id=\"T_83932_row7_col0\" class=\"data row7 col0\" >False</td>\n",
       "      <td id=\"T_83932_row7_col1\" class=\"data row7 col1\" >True</td>\n",
       "      <td id=\"T_83932_row7_col2\" class=\"data row7 col2\" >True</td>\n",
       "      <td id=\"T_83932_row7_col3\" class=\"data row7 col3\" >True</td>\n",
       "      <td id=\"T_83932_row7_col4\" class=\"data row7 col4\" >True</td>\n",
       "      <td id=\"T_83932_row7_col5\" class=\"data row7 col5\" >True</td>\n",
       "      <td id=\"T_83932_row7_col6\" class=\"data row7 col6\" >True</td>\n",
       "      <td id=\"T_83932_row7_col7\" class=\"data row7 col7\" >True</td>\n",
       "      <td id=\"T_83932_row7_col8\" class=\"data row7 col8\" >True</td>\n",
       "    </tr>\n",
       "    <tr>\n",
       "      <th id=\"T_83932_level0_row8\" class=\"row_heading level0 row8\" >2000-01-04 06:30:00</th>\n",
       "      <td id=\"T_83932_row8_col0\" class=\"data row8 col0\" >False</td>\n",
       "      <td id=\"T_83932_row8_col1\" class=\"data row8 col1\" >True</td>\n",
       "      <td id=\"T_83932_row8_col2\" class=\"data row8 col2\" >True</td>\n",
       "      <td id=\"T_83932_row8_col3\" class=\"data row8 col3\" >True</td>\n",
       "      <td id=\"T_83932_row8_col4\" class=\"data row8 col4\" >True</td>\n",
       "      <td id=\"T_83932_row8_col5\" class=\"data row8 col5\" >True</td>\n",
       "      <td id=\"T_83932_row8_col6\" class=\"data row8 col6\" >True</td>\n",
       "      <td id=\"T_83932_row8_col7\" class=\"data row8 col7\" >True</td>\n",
       "      <td id=\"T_83932_row8_col8\" class=\"data row8 col8\" >True</td>\n",
       "    </tr>\n",
       "    <tr>\n",
       "      <th id=\"T_83932_level0_row9\" class=\"row_heading level0 row9\" >2000-01-04 07:00:00</th>\n",
       "      <td id=\"T_83932_row9_col0\" class=\"data row9 col0\" >False</td>\n",
       "      <td id=\"T_83932_row9_col1\" class=\"data row9 col1\" >True</td>\n",
       "      <td id=\"T_83932_row9_col2\" class=\"data row9 col2\" >True</td>\n",
       "      <td id=\"T_83932_row9_col3\" class=\"data row9 col3\" >True</td>\n",
       "      <td id=\"T_83932_row9_col4\" class=\"data row9 col4\" >True</td>\n",
       "      <td id=\"T_83932_row9_col5\" class=\"data row9 col5\" >True</td>\n",
       "      <td id=\"T_83932_row9_col6\" class=\"data row9 col6\" >True</td>\n",
       "      <td id=\"T_83932_row9_col7\" class=\"data row9 col7\" >True</td>\n",
       "      <td id=\"T_83932_row9_col8\" class=\"data row9 col8\" >True</td>\n",
       "    </tr>\n",
       "  </tbody>\n",
       "</table>\n",
       " </div></div>"
      ],
      "text/plain": [
       "<IPython.core.display.HTML object>"
      ]
     },
     "metadata": {},
     "output_type": "display_data"
    }
   ],
   "source": [
    "display_as_row({'pred': pred[45:55],'data': targ.data[45:55], 'mask': targ.mask[45:55]}, hide_idx=False)"
   ]
  },
  {
   "cell_type": "markdown",
   "id": "15426a29-71ee-4f20-861c-9d7be253154a",
   "metadata": {},
   "source": [
    "### MDS"
   ]
  },
  {
   "cell_type": "markdown",
   "id": "dde92540-7749-4056-9926-98e337beba81",
   "metadata": {},
   "source": [
    "Need to call R from python"
   ]
  },
  {
   "cell_type": "code",
   "execution_count": null,
   "id": "62712f16-a8c3-4574-bbfe-70af9d240a2e",
   "metadata": {},
   "outputs": [],
   "source": [
    "#| export\n",
    "import rpy2.robjects\n",
    "from rpy2.robjects import r\n",
    "import rpy2.robjects as ro\n",
    "from rpy2.robjects.packages import importr\n",
    "from rpy2.robjects import pandas2ri"
   ]
  },
  {
   "cell_type": "code",
   "execution_count": null,
   "id": "772d60f9-e65e-4c87-af29-e0f1c024f817",
   "metadata": {},
   "outputs": [
    {
     "name": "stdout",
     "output_type": "stream",
     "text": [
      "[1] \"here::here(\\\"R/REddyProc_tools.R\\\")\"\n"
     ]
    },
    {
     "data": {
      "text/html": [
       "\n",
       "        <span>StrVector with 1 elements.</span>\n",
       "        <table>\n",
       "        <tbody>\n",
       "          <tr>\n",
       "          \n",
       "            <td>\n",
       "            'here::here(\"R/REddyProc_tools.R\")'\n",
       "            </td>\n",
       "          \n",
       "          </tr>\n",
       "        </tbody>\n",
       "        </table>\n",
       "        "
      ],
      "text/plain": [
       "<rpy2.robjects.vectors.StrVector object> [RTYPES.STRSXP]\n",
       "R classes: ('character',)\n",
       "['here::here(\"R/REddyProc_tools.R\")']"
      ]
     },
     "execution_count": null,
     "metadata": {},
     "output_type": "execute_result"
    }
   ],
   "source": [
    "r.print('here::here(\"R/REddyProc_tools.R\")')"
   ]
  },
  {
   "cell_type": "code",
   "execution_count": null,
   "id": "8d91ab42-5d3a-4f59-b063-860299be2ff5",
   "metadata": {},
   "outputs": [],
   "source": [
    "#| export\n",
    "path_r = str(here(\"R/REddyProc_tools.R\"))\n",
    "\n",
    "r.source(path_r);"
   ]
  },
  {
   "cell_type": "code",
   "execution_count": null,
   "id": "b789ee98-32d2-4b3f-9afe-d629d95ca43f",
   "metadata": {},
   "outputs": [],
   "source": [
    "#| export\n",
    "def importr_install(pkg):\n",
    "    try:\n",
    "        importr(pkg)\n",
    "    except:\n",
    "        utils = importr('utils')\n",
    "        utils.chooseCRANmirror(ind=1)\n",
    "        utils.install_packages(pkg)\n",
    "        importr(pkg) "
   ]
  },
  {
   "cell_type": "code",
   "execution_count": null,
   "id": "002ab9a8-5e5e-4519-b25e-2e5e8b4b3273",
   "metadata": {},
   "outputs": [],
   "source": [
    "#| export\n",
    "def setupR():\n",
    "    importr_install('tidyverse')\n",
    "    importr_install('REddyProc')\n",
    "    importr('lubridate')\n",
    "    path_r = str(here(\"R/REddyProc_tools.R\"))\n",
    "    r.source(path_r) # R functions\n",
    "    r(\"\"\"toR_timestamp <- function(x){\n",
    "   x$TIMESTAMP_END = as_datetime(x$TIMESTAMP_END) \n",
    "    x\n",
    "     }\"\"\")"
   ]
  },
  {
   "cell_type": "code",
   "execution_count": null,
   "id": "e05f2b0e-b123-4220-a644-d5ca15e90c7d",
   "metadata": {},
   "outputs": [],
   "source": [
    "#| export\n",
    "def pd2R(x):\n",
    "    with ro.default_converter + pandas2ri.converter:\n",
    "        return ro.conversion.py2rpy(x) \n",
    "\n",
    "def R2pd(x):\n",
    "    with ro.default_converter + pandas2ri.converter:\n",
    "        return ro.conversion.rpy2py(x) "
   ]
  },
  {
   "cell_type": "code",
   "execution_count": null,
   "id": "4c5934c1-a4d7-49ae-988d-998ace0bc3e1",
   "metadata": {},
   "outputs": [],
   "source": [
    "#| export\n",
    "setupR() #start the R process and load depenencies"
   ]
  },
  {
   "cell_type": "markdown",
   "id": "48afc4c4-1199-410d-a822-005e776c6edb",
   "metadata": {},
   "source": [
    "#### Experiment"
   ]
  },
  {
   "cell_type": "markdown",
   "id": "04b78361-7f3b-4ed7-acaa-eb679ad08468",
   "metadata": {},
   "source": [
    "The time series needs to be at least 90 days long, we we add 45 days before and after the gap"
   ]
  },
  {
   "cell_type": "markdown",
   "id": "26ef1cce-13a2-40db-87ad-cd03e1ebf664",
   "metadata": {},
   "source": [
    "There is a problem with conversions of timestamps between R and Python, so convert to string in Python and then back to datetime in R"
   ]
  },
  {
   "cell_type": "code",
   "execution_count": null,
   "id": "52b6d28f-c241-4b9d-8b05-789fa3388b98",
   "metadata": {},
   "outputs": [],
   "source": [
    "#| export\n",
    "def add_buffer(index, inner_index, n):\n",
    "    \"\"\"Adds  a buffer of after and after index so length is at least \"\"\"\n",
    "    start = int(np.argwhere(index == inner_index[0]).squeeze())\n",
    "    end = int(np.argwhere(index == inner_index[-1]).squeeze())\n",
    "    start = start - n //2\n",
    "    end = end + n//2\n",
    "    if start < 0:\n",
    "        end += -start\n",
    "        start = 0\n",
    "    if end > len(index):\n",
    "        start -= end - len(index)\n",
    "        end = len(index)\n",
    "    \n",
    "    index = index[start:end]\n",
    "    \n",
    "    assert len(index) > n\n",
    "    \n",
    "    return index"
   ]
  },
  {
   "cell_type": "code",
   "execution_count": null,
   "id": "1d07a0c7-3464-4f68-8d96-389f3021e7c6",
   "metadata": {},
   "outputs": [],
   "source": [
    "add_buffer(hai.index, hai.index[:100], 50)\n",
    "add_buffer(hai.index, hai.index[-50:], 50);"
   ]
  },
  {
   "cell_type": "code",
   "execution_count": null,
   "id": "64ce30ae-7903-4d1c-8b93-6df8648d385c",
   "metadata": {},
   "outputs": [],
   "source": [
    "#| export\n",
    "def item2REddy(item, var, df):\n",
    "    \" Add context around item for supporting REddyProc\"\n",
    "    index = add_buffer(df.index, item.data.index, 90 * 24 * 2)\n",
    "    REddy_df = df.loc[index].assign(gap = (~item.mask[var]).astype(int)).fillna({'gap': 0})\n",
    "    return REddy_df.reset_index().astype({'time': str}).rename(columns={'time': 'TIMESTAMP_END'})"
   ]
  },
  {
   "cell_type": "code",
   "execution_count": null,
   "id": "4bd9ea90-b53e-4eb8-9841-062e69af670a",
   "metadata": {},
   "outputs": [
    {
     "name": "stderr",
     "output_type": "stream",
     "text": [
      "R[write to console]: New sEddyProc class for site 'ID'\n",
      "\n",
      "R[write to console]: Initialized variable 'TA' with 10 real gaps for gap filling.\n",
      "\n",
      "R[write to console]: Limited MDS algorithm for gap filling of 'TA.gap_0' with LUT(SW_IN only) and MDC.\n",
      "\n",
      "R[write to console]: Look up table with window size of 7 days with SW_IN\n",
      "\n",
      "R[write to console]: 10\n",
      "\n",
      "R[write to console]: Finished gap filling of 'TA' in 0 seconds. Artificial gaps filled: 4419, real gaps filled: 10, unfilled (long) gaps: 0.\n",
      "\n"
     ]
    }
   ],
   "source": [
    "REddy_df = item2REddy(targ, 'TA', hai)\n",
    "\n",
    "REddy_df_r = r.toR_timestamp(pd2R(REddy_df))\n",
    "\n",
    "filled = R2pd(r.fill_gaps_EProc(REddy_df_r, \"TA\"))"
   ]
  },
  {
   "cell_type": "code",
   "execution_count": null,
   "id": "e3b08771-7958-4eeb-9054-4311571f8fd7",
   "metadata": {},
   "outputs": [
    {
     "data": {
      "text/html": [
       "<div>\n",
       "<style scoped>\n",
       "    .dataframe tbody tr th:only-of-type {\n",
       "        vertical-align: middle;\n",
       "    }\n",
       "\n",
       "    .dataframe tbody tr th {\n",
       "        vertical-align: top;\n",
       "    }\n",
       "\n",
       "    .dataframe thead th {\n",
       "        text-align: right;\n",
       "    }\n",
       "</style>\n",
       "<table border=\"1\" class=\"dataframe\">\n",
       "  <thead>\n",
       "    <tr style=\"text-align: right;\">\n",
       "      <th></th>\n",
       "      <th>TA_orig</th>\n",
       "      <th>TA_f</th>\n",
       "      <th>TA_fqc</th>\n",
       "      <th>TA_fall</th>\n",
       "      <th>TA_fall_qc</th>\n",
       "      <th>TA_fnum</th>\n",
       "      <th>TA_fsd</th>\n",
       "      <th>TA_fmeth</th>\n",
       "      <th>TA_fwin</th>\n",
       "    </tr>\n",
       "  </thead>\n",
       "  <tbody>\n",
       "    <tr>\n",
       "      <th>1</th>\n",
       "      <td>-0.60</td>\n",
       "      <td>-0.60</td>\n",
       "      <td>0.0</td>\n",
       "      <td>-0.60</td>\n",
       "      <td>NaN</td>\n",
       "      <td>NaN</td>\n",
       "      <td>NaN</td>\n",
       "      <td>NaN</td>\n",
       "      <td>NaN</td>\n",
       "    </tr>\n",
       "    <tr>\n",
       "      <th>2</th>\n",
       "      <td>-0.65</td>\n",
       "      <td>-0.65</td>\n",
       "      <td>0.0</td>\n",
       "      <td>-0.65</td>\n",
       "      <td>NaN</td>\n",
       "      <td>NaN</td>\n",
       "      <td>NaN</td>\n",
       "      <td>NaN</td>\n",
       "      <td>NaN</td>\n",
       "    </tr>\n",
       "    <tr>\n",
       "      <th>3</th>\n",
       "      <td>-0.58</td>\n",
       "      <td>-0.58</td>\n",
       "      <td>0.0</td>\n",
       "      <td>-0.58</td>\n",
       "      <td>NaN</td>\n",
       "      <td>NaN</td>\n",
       "      <td>NaN</td>\n",
       "      <td>NaN</td>\n",
       "      <td>NaN</td>\n",
       "    </tr>\n",
       "    <tr>\n",
       "      <th>4</th>\n",
       "      <td>-0.51</td>\n",
       "      <td>-0.51</td>\n",
       "      <td>0.0</td>\n",
       "      <td>-0.51</td>\n",
       "      <td>NaN</td>\n",
       "      <td>NaN</td>\n",
       "      <td>NaN</td>\n",
       "      <td>NaN</td>\n",
       "      <td>NaN</td>\n",
       "    </tr>\n",
       "    <tr>\n",
       "      <th>5</th>\n",
       "      <td>-0.49</td>\n",
       "      <td>-0.49</td>\n",
       "      <td>0.0</td>\n",
       "      <td>-0.49</td>\n",
       "      <td>NaN</td>\n",
       "      <td>NaN</td>\n",
       "      <td>NaN</td>\n",
       "      <td>NaN</td>\n",
       "      <td>NaN</td>\n",
       "    </tr>\n",
       "    <tr>\n",
       "      <th>...</th>\n",
       "      <td>...</td>\n",
       "      <td>...</td>\n",
       "      <td>...</td>\n",
       "      <td>...</td>\n",
       "      <td>...</td>\n",
       "      <td>...</td>\n",
       "      <td>...</td>\n",
       "      <td>...</td>\n",
       "      <td>...</td>\n",
       "    </tr>\n",
       "    <tr>\n",
       "      <th>4415</th>\n",
       "      <td>3.30</td>\n",
       "      <td>3.30</td>\n",
       "      <td>0.0</td>\n",
       "      <td>3.30</td>\n",
       "      <td>NaN</td>\n",
       "      <td>NaN</td>\n",
       "      <td>NaN</td>\n",
       "      <td>NaN</td>\n",
       "      <td>NaN</td>\n",
       "    </tr>\n",
       "    <tr>\n",
       "      <th>4416</th>\n",
       "      <td>3.10</td>\n",
       "      <td>3.10</td>\n",
       "      <td>0.0</td>\n",
       "      <td>3.10</td>\n",
       "      <td>NaN</td>\n",
       "      <td>NaN</td>\n",
       "      <td>NaN</td>\n",
       "      <td>NaN</td>\n",
       "      <td>NaN</td>\n",
       "    </tr>\n",
       "    <tr>\n",
       "      <th>4417</th>\n",
       "      <td>3.05</td>\n",
       "      <td>3.05</td>\n",
       "      <td>0.0</td>\n",
       "      <td>3.05</td>\n",
       "      <td>NaN</td>\n",
       "      <td>NaN</td>\n",
       "      <td>NaN</td>\n",
       "      <td>NaN</td>\n",
       "      <td>NaN</td>\n",
       "    </tr>\n",
       "    <tr>\n",
       "      <th>4418</th>\n",
       "      <td>3.05</td>\n",
       "      <td>3.05</td>\n",
       "      <td>0.0</td>\n",
       "      <td>3.05</td>\n",
       "      <td>NaN</td>\n",
       "      <td>NaN</td>\n",
       "      <td>NaN</td>\n",
       "      <td>NaN</td>\n",
       "      <td>NaN</td>\n",
       "    </tr>\n",
       "    <tr>\n",
       "      <th>4419</th>\n",
       "      <td>3.05</td>\n",
       "      <td>3.05</td>\n",
       "      <td>0.0</td>\n",
       "      <td>3.05</td>\n",
       "      <td>NaN</td>\n",
       "      <td>NaN</td>\n",
       "      <td>NaN</td>\n",
       "      <td>NaN</td>\n",
       "      <td>NaN</td>\n",
       "    </tr>\n",
       "  </tbody>\n",
       "</table>\n",
       "<p>4419 rows × 9 columns</p>\n",
       "</div>"
      ],
      "text/plain": [
       "      TA_orig  TA_f  TA_fqc  TA_fall  TA_fall_qc  TA_fnum  TA_fsd  TA_fmeth  \\\n",
       "1       -0.60 -0.60     0.0    -0.60         NaN      NaN     NaN       NaN   \n",
       "2       -0.65 -0.65     0.0    -0.65         NaN      NaN     NaN       NaN   \n",
       "3       -0.58 -0.58     0.0    -0.58         NaN      NaN     NaN       NaN   \n",
       "4       -0.51 -0.51     0.0    -0.51         NaN      NaN     NaN       NaN   \n",
       "5       -0.49 -0.49     0.0    -0.49         NaN      NaN     NaN       NaN   \n",
       "...       ...   ...     ...      ...         ...      ...     ...       ...   \n",
       "4415     3.30  3.30     0.0     3.30         NaN      NaN     NaN       NaN   \n",
       "4416     3.10  3.10     0.0     3.10         NaN      NaN     NaN       NaN   \n",
       "4417     3.05  3.05     0.0     3.05         NaN      NaN     NaN       NaN   \n",
       "4418     3.05  3.05     0.0     3.05         NaN      NaN     NaN       NaN   \n",
       "4419     3.05  3.05     0.0     3.05         NaN      NaN     NaN       NaN   \n",
       "\n",
       "      TA_fwin  \n",
       "1         NaN  \n",
       "2         NaN  \n",
       "3         NaN  \n",
       "4         NaN  \n",
       "5         NaN  \n",
       "...       ...  \n",
       "4415      NaN  \n",
       "4416      NaN  \n",
       "4417      NaN  \n",
       "4418      NaN  \n",
       "4419      NaN  \n",
       "\n",
       "[4419 rows x 9 columns]"
      ]
     },
     "execution_count": null,
     "metadata": {},
     "output_type": "execute_result"
    }
   ],
   "source": [
    "filled"
   ]
  },
  {
   "cell_type": "code",
   "execution_count": null,
   "id": "3631bbb3-271f-4d9b-bd1d-c9e672fa5b69",
   "metadata": {},
   "outputs": [
    {
     "data": {
      "text/html": [
       "<div>\n",
       "<style scoped>\n",
       "    .dataframe tbody tr th:only-of-type {\n",
       "        vertical-align: middle;\n",
       "    }\n",
       "\n",
       "    .dataframe tbody tr th {\n",
       "        vertical-align: top;\n",
       "    }\n",
       "\n",
       "    .dataframe thead th {\n",
       "        text-align: right;\n",
       "    }\n",
       "</style>\n",
       "<table border=\"1\" class=\"dataframe\">\n",
       "  <thead>\n",
       "    <tr style=\"text-align: right;\">\n",
       "      <th></th>\n",
       "      <th>TA</th>\n",
       "      <th>SW_IN</th>\n",
       "      <th>LW_IN</th>\n",
       "      <th>VPD</th>\n",
       "      <th>WS</th>\n",
       "      <th>PA</th>\n",
       "      <th>P</th>\n",
       "      <th>SWC</th>\n",
       "      <th>TS</th>\n",
       "      <th>gap</th>\n",
       "    </tr>\n",
       "    <tr>\n",
       "      <th>TIMESTAMP_END</th>\n",
       "      <th></th>\n",
       "      <th></th>\n",
       "      <th></th>\n",
       "      <th></th>\n",
       "      <th></th>\n",
       "      <th></th>\n",
       "      <th></th>\n",
       "      <th></th>\n",
       "      <th></th>\n",
       "      <th></th>\n",
       "    </tr>\n",
       "  </thead>\n",
       "  <tbody>\n",
       "    <tr>\n",
       "      <th>2000-01-01 00:30:00</th>\n",
       "      <td>-0.60</td>\n",
       "      <td>0.0</td>\n",
       "      <td>302.475</td>\n",
       "      <td>0.222</td>\n",
       "      <td>2.05</td>\n",
       "      <td>96.63</td>\n",
       "      <td>0.0</td>\n",
       "      <td>43.00</td>\n",
       "      <td>1.44</td>\n",
       "      <td>0.0</td>\n",
       "    </tr>\n",
       "    <tr>\n",
       "      <th>2000-01-01 01:00:00</th>\n",
       "      <td>-0.65</td>\n",
       "      <td>0.0</td>\n",
       "      <td>302.475</td>\n",
       "      <td>0.122</td>\n",
       "      <td>2.53</td>\n",
       "      <td>96.58</td>\n",
       "      <td>0.0</td>\n",
       "      <td>43.00</td>\n",
       "      <td>1.43</td>\n",
       "      <td>0.0</td>\n",
       "    </tr>\n",
       "    <tr>\n",
       "      <th>2000-01-01 01:30:00</th>\n",
       "      <td>-0.58</td>\n",
       "      <td>0.0</td>\n",
       "      <td>301.677</td>\n",
       "      <td>0.090</td>\n",
       "      <td>3.15</td>\n",
       "      <td>96.56</td>\n",
       "      <td>0.0</td>\n",
       "      <td>43.00</td>\n",
       "      <td>1.43</td>\n",
       "      <td>0.0</td>\n",
       "    </tr>\n",
       "    <tr>\n",
       "      <th>2000-01-01 02:00:00</th>\n",
       "      <td>-0.51</td>\n",
       "      <td>0.0</td>\n",
       "      <td>301.677</td>\n",
       "      <td>0.110</td>\n",
       "      <td>3.12</td>\n",
       "      <td>96.56</td>\n",
       "      <td>0.0</td>\n",
       "      <td>43.00</td>\n",
       "      <td>1.45</td>\n",
       "      <td>0.0</td>\n",
       "    </tr>\n",
       "    <tr>\n",
       "      <th>2000-01-01 02:30:00</th>\n",
       "      <td>-0.49</td>\n",
       "      <td>0.0</td>\n",
       "      <td>301.677</td>\n",
       "      <td>0.102</td>\n",
       "      <td>3.04</td>\n",
       "      <td>96.57</td>\n",
       "      <td>0.0</td>\n",
       "      <td>43.00</td>\n",
       "      <td>1.44</td>\n",
       "      <td>0.0</td>\n",
       "    </tr>\n",
       "    <tr>\n",
       "      <th>...</th>\n",
       "      <td>...</td>\n",
       "      <td>...</td>\n",
       "      <td>...</td>\n",
       "      <td>...</td>\n",
       "      <td>...</td>\n",
       "      <td>...</td>\n",
       "      <td>...</td>\n",
       "      <td>...</td>\n",
       "      <td>...</td>\n",
       "      <td>...</td>\n",
       "    </tr>\n",
       "    <tr>\n",
       "      <th>2000-04-01 23:30:00</th>\n",
       "      <td>3.30</td>\n",
       "      <td>0.0</td>\n",
       "      <td>283.856</td>\n",
       "      <td>1.092</td>\n",
       "      <td>2.50</td>\n",
       "      <td>95.06</td>\n",
       "      <td>0.0</td>\n",
       "      <td>44.96</td>\n",
       "      <td>4.32</td>\n",
       "      <td>0.0</td>\n",
       "    </tr>\n",
       "    <tr>\n",
       "      <th>2000-04-02 00:00:00</th>\n",
       "      <td>3.10</td>\n",
       "      <td>0.0</td>\n",
       "      <td>283.856</td>\n",
       "      <td>1.013</td>\n",
       "      <td>2.09</td>\n",
       "      <td>95.04</td>\n",
       "      <td>0.0</td>\n",
       "      <td>44.96</td>\n",
       "      <td>4.22</td>\n",
       "      <td>0.0</td>\n",
       "    </tr>\n",
       "    <tr>\n",
       "      <th>2000-04-02 00:30:00</th>\n",
       "      <td>3.05</td>\n",
       "      <td>0.0</td>\n",
       "      <td>283.856</td>\n",
       "      <td>0.964</td>\n",
       "      <td>2.42</td>\n",
       "      <td>95.04</td>\n",
       "      <td>0.0</td>\n",
       "      <td>44.96</td>\n",
       "      <td>4.13</td>\n",
       "      <td>0.0</td>\n",
       "    </tr>\n",
       "    <tr>\n",
       "      <th>2000-04-02 01:00:00</th>\n",
       "      <td>3.05</td>\n",
       "      <td>0.0</td>\n",
       "      <td>283.856</td>\n",
       "      <td>0.933</td>\n",
       "      <td>3.04</td>\n",
       "      <td>95.04</td>\n",
       "      <td>0.0</td>\n",
       "      <td>44.96</td>\n",
       "      <td>4.04</td>\n",
       "      <td>0.0</td>\n",
       "    </tr>\n",
       "    <tr>\n",
       "      <th>2000-04-02 01:30:00</th>\n",
       "      <td>3.05</td>\n",
       "      <td>0.0</td>\n",
       "      <td>251.387</td>\n",
       "      <td>0.930</td>\n",
       "      <td>2.96</td>\n",
       "      <td>95.03</td>\n",
       "      <td>0.0</td>\n",
       "      <td>44.95</td>\n",
       "      <td>3.94</td>\n",
       "      <td>0.0</td>\n",
       "    </tr>\n",
       "  </tbody>\n",
       "</table>\n",
       "<p>4419 rows × 10 columns</p>\n",
       "</div>"
      ],
      "text/plain": [
       "                       TA  SW_IN    LW_IN    VPD    WS     PA    P    SWC  \\\n",
       "TIMESTAMP_END                                                               \n",
       "2000-01-01 00:30:00 -0.60    0.0  302.475  0.222  2.05  96.63  0.0  43.00   \n",
       "2000-01-01 01:00:00 -0.65    0.0  302.475  0.122  2.53  96.58  0.0  43.00   \n",
       "2000-01-01 01:30:00 -0.58    0.0  301.677  0.090  3.15  96.56  0.0  43.00   \n",
       "2000-01-01 02:00:00 -0.51    0.0  301.677  0.110  3.12  96.56  0.0  43.00   \n",
       "2000-01-01 02:30:00 -0.49    0.0  301.677  0.102  3.04  96.57  0.0  43.00   \n",
       "...                   ...    ...      ...    ...   ...    ...  ...    ...   \n",
       "2000-04-01 23:30:00  3.30    0.0  283.856  1.092  2.50  95.06  0.0  44.96   \n",
       "2000-04-02 00:00:00  3.10    0.0  283.856  1.013  2.09  95.04  0.0  44.96   \n",
       "2000-04-02 00:30:00  3.05    0.0  283.856  0.964  2.42  95.04  0.0  44.96   \n",
       "2000-04-02 01:00:00  3.05    0.0  283.856  0.933  3.04  95.04  0.0  44.96   \n",
       "2000-04-02 01:30:00  3.05    0.0  251.387  0.930  2.96  95.03  0.0  44.95   \n",
       "\n",
       "                       TS  gap  \n",
       "TIMESTAMP_END                   \n",
       "2000-01-01 00:30:00  1.44  0.0  \n",
       "2000-01-01 01:00:00  1.43  0.0  \n",
       "2000-01-01 01:30:00  1.43  0.0  \n",
       "2000-01-01 02:00:00  1.45  0.0  \n",
       "2000-01-01 02:30:00  1.44  0.0  \n",
       "...                   ...  ...  \n",
       "2000-04-01 23:30:00  4.32  0.0  \n",
       "2000-04-02 00:00:00  4.22  0.0  \n",
       "2000-04-02 00:30:00  4.13  0.0  \n",
       "2000-04-02 01:00:00  4.04  0.0  \n",
       "2000-04-02 01:30:00  3.94  0.0  \n",
       "\n",
       "[4419 rows x 10 columns]"
      ]
     },
     "execution_count": null,
     "metadata": {},
     "output_type": "execute_result"
    }
   ],
   "source": [
    "REddy_df.set_index(\"TIMESTAMP_END\") "
   ]
  },
  {
   "cell_type": "code",
   "execution_count": null,
   "id": "a31fc470-d062-40c8-bde6-456da43a87b0",
   "metadata": {},
   "outputs": [],
   "source": [
    "filled = filled.set_index(pd.to_datetime(REddy_df.TIMESTAMP_END))\n",
    "\n",
    "filled_item = filled.loc[targ.data.index]\n",
    "\n",
    "pred = targ.data.copy()\n",
    "pred.loc[~targ.mask[\"TA\"], \"TA\"] = filled_item[\"TA_f\"][~targ.mask[\"TA\"]]"
   ]
  },
  {
   "cell_type": "code",
   "execution_count": null,
   "id": "2f8b323a-b6e0-49ac-b98c-89f8e4e105fd",
   "metadata": {},
   "outputs": [
    {
     "data": {
      "text/plain": [
       "(                           TA  SW_IN    LW_IN    VPD    WS     PA     P  \\\n",
       " time                                                                      \n",
       " 2000-01-04 02:30:00  1.853612    0.0  304.731  0.952  5.39  96.30  0.00   \n",
       " 2000-01-04 03:00:00  1.837083    0.0  304.731  0.971  5.59  96.30  0.00   \n",
       " 2000-01-04 03:30:00  1.823985    0.0  304.731  0.958  5.67  96.29  0.00   \n",
       " 2000-01-04 04:00:00  1.809805    0.0  304.731  0.938  6.61  96.26  0.00   \n",
       " 2000-01-04 04:30:00  1.794282    0.0  315.005  0.785  6.65  96.26  0.00   \n",
       " 2000-01-04 05:00:00  1.783447    0.0  315.005  0.529  6.12  96.27  0.00   \n",
       " 2000-01-04 05:30:00  1.771525    0.0  315.005  0.450  5.58  96.26  0.29   \n",
       " 2000-01-04 06:00:00  1.760362    0.0  315.005  0.499  4.70  96.25  0.00   \n",
       " 2000-01-04 06:30:00  1.748410    0.0  315.005  0.382  5.07  96.23  0.00   \n",
       " 2000-01-04 07:00:00  1.737933    0.0  315.005  0.313  5.23  96.24  0.00   \n",
       " \n",
       "                        SWC    TS  \n",
       " time                              \n",
       " 2000-01-04 02:30:00  43.08  1.31  \n",
       " 2000-01-04 03:00:00  43.08  1.31  \n",
       " 2000-01-04 03:30:00  43.08  1.31  \n",
       " 2000-01-04 04:00:00  43.08  1.31  \n",
       " 2000-01-04 04:30:00  43.08  1.31  \n",
       " 2000-01-04 05:00:00  43.08  1.30  \n",
       " 2000-01-04 05:30:00  43.13  1.30  \n",
       " 2000-01-04 06:00:00  43.13  1.29  \n",
       " 2000-01-04 06:30:00  43.13  1.29  \n",
       " 2000-01-04 07:00:00  43.13  1.29  ,\n",
       "                        TA  SW_IN    LW_IN    VPD    WS     PA     P    SWC  \\\n",
       " time                                                                         \n",
       " 2000-01-04 02:30:00  2.19    0.0  304.731  0.952  5.39  96.30  0.00  43.08   \n",
       " 2000-01-04 03:00:00  2.27    0.0  304.731  0.971  5.59  96.30  0.00  43.08   \n",
       " 2000-01-04 03:30:00  2.32    0.0  304.731  0.958  5.67  96.29  0.00  43.08   \n",
       " 2000-01-04 04:00:00  2.34    0.0  304.731  0.938  6.61  96.26  0.00  43.08   \n",
       " 2000-01-04 04:30:00  2.24    0.0  315.005  0.785  6.65  96.26  0.00  43.08   \n",
       " 2000-01-04 05:00:00  2.00    0.0  315.005  0.529  6.12  96.27  0.00  43.08   \n",
       " 2000-01-04 05:30:00  1.94    0.0  315.005  0.450  5.58  96.26  0.29  43.13   \n",
       " 2000-01-04 06:00:00  2.07    0.0  315.005  0.499  4.70  96.25  0.00  43.13   \n",
       " 2000-01-04 06:30:00  2.04    0.0  315.005  0.382  5.07  96.23  0.00  43.13   \n",
       " 2000-01-04 07:00:00  2.03    0.0  315.005  0.313  5.23  96.24  0.00  43.13   \n",
       " \n",
       "                        TS  \n",
       " time                       \n",
       " 2000-01-04 02:30:00  1.31  \n",
       " 2000-01-04 03:00:00  1.31  \n",
       " 2000-01-04 03:30:00  1.31  \n",
       " 2000-01-04 04:00:00  1.31  \n",
       " 2000-01-04 04:30:00  1.31  \n",
       " 2000-01-04 05:00:00  1.30  \n",
       " 2000-01-04 05:30:00  1.30  \n",
       " 2000-01-04 06:00:00  1.29  \n",
       " 2000-01-04 06:30:00  1.29  \n",
       " 2000-01-04 07:00:00  1.29  )"
      ]
     },
     "execution_count": null,
     "metadata": {},
     "output_type": "execute_result"
    }
   ],
   "source": [
    "pred[45:55], targ.data[45:55]"
   ]
  },
  {
   "cell_type": "code",
   "execution_count": null,
   "id": "75b45729-e810-4847-b8b6-6719b57c9498",
   "metadata": {},
   "outputs": [],
   "source": [
    "#| export\n",
    "def gap_fill_item(item, REddy_df, var, filled):\n",
    "    \n",
    "    filled = filled.set_index(pd.to_datetime(REddy_df.TIMESTAMP_END))\n",
    "    filled_item = filled.loc[item.data.index]\n",
    "\n",
    "    pred = item.data.copy()\n",
    "    pred.loc[~item.mask[var], var] = filled_item[f\"{var}_f\"][~item.mask[var]]\n",
    "    return pred"
   ]
  },
  {
   "cell_type": "code",
   "execution_count": null,
   "id": "803038c7-774b-40df-84f6-69a2085015cc",
   "metadata": {},
   "outputs": [
    {
     "data": {
      "text/html": [
       "<div>\n",
       "<style scoped>\n",
       "    .dataframe tbody tr th:only-of-type {\n",
       "        vertical-align: middle;\n",
       "    }\n",
       "\n",
       "    .dataframe tbody tr th {\n",
       "        vertical-align: top;\n",
       "    }\n",
       "\n",
       "    .dataframe thead th {\n",
       "        text-align: right;\n",
       "    }\n",
       "</style>\n",
       "<table border=\"1\" class=\"dataframe\">\n",
       "  <thead>\n",
       "    <tr style=\"text-align: right;\">\n",
       "      <th></th>\n",
       "      <th>TA</th>\n",
       "      <th>SW_IN</th>\n",
       "      <th>LW_IN</th>\n",
       "      <th>VPD</th>\n",
       "      <th>WS</th>\n",
       "      <th>PA</th>\n",
       "      <th>P</th>\n",
       "      <th>SWC</th>\n",
       "      <th>TS</th>\n",
       "    </tr>\n",
       "    <tr>\n",
       "      <th>time</th>\n",
       "      <th></th>\n",
       "      <th></th>\n",
       "      <th></th>\n",
       "      <th></th>\n",
       "      <th></th>\n",
       "      <th></th>\n",
       "      <th></th>\n",
       "      <th></th>\n",
       "      <th></th>\n",
       "    </tr>\n",
       "  </thead>\n",
       "  <tbody>\n",
       "    <tr>\n",
       "      <th>2000-01-03 04:00:00</th>\n",
       "      <td>0.81</td>\n",
       "      <td>0.0</td>\n",
       "      <td>304.148</td>\n",
       "      <td>0.000</td>\n",
       "      <td>3.53</td>\n",
       "      <td>97.00</td>\n",
       "      <td>0.0</td>\n",
       "      <td>43.09</td>\n",
       "      <td>1.37</td>\n",
       "    </tr>\n",
       "    <tr>\n",
       "      <th>2000-01-03 04:30:00</th>\n",
       "      <td>0.95</td>\n",
       "      <td>0.0</td>\n",
       "      <td>304.382</td>\n",
       "      <td>0.000</td>\n",
       "      <td>3.99</td>\n",
       "      <td>96.98</td>\n",
       "      <td>0.0</td>\n",
       "      <td>43.09</td>\n",
       "      <td>1.37</td>\n",
       "    </tr>\n",
       "    <tr>\n",
       "      <th>2000-01-03 05:00:00</th>\n",
       "      <td>1.09</td>\n",
       "      <td>0.0</td>\n",
       "      <td>304.382</td>\n",
       "      <td>0.000</td>\n",
       "      <td>3.61</td>\n",
       "      <td>96.96</td>\n",
       "      <td>0.0</td>\n",
       "      <td>43.09</td>\n",
       "      <td>1.37</td>\n",
       "    </tr>\n",
       "    <tr>\n",
       "      <th>2000-01-03 05:30:00</th>\n",
       "      <td>1.18</td>\n",
       "      <td>0.0</td>\n",
       "      <td>304.382</td>\n",
       "      <td>0.009</td>\n",
       "      <td>3.90</td>\n",
       "      <td>96.93</td>\n",
       "      <td>0.0</td>\n",
       "      <td>43.09</td>\n",
       "      <td>1.37</td>\n",
       "    </tr>\n",
       "    <tr>\n",
       "      <th>2000-01-03 06:00:00</th>\n",
       "      <td>1.35</td>\n",
       "      <td>0.0</td>\n",
       "      <td>304.382</td>\n",
       "      <td>0.061</td>\n",
       "      <td>4.17</td>\n",
       "      <td>96.91</td>\n",
       "      <td>0.0</td>\n",
       "      <td>43.09</td>\n",
       "      <td>1.38</td>\n",
       "    </tr>\n",
       "    <tr>\n",
       "      <th>...</th>\n",
       "      <td>...</td>\n",
       "      <td>...</td>\n",
       "      <td>...</td>\n",
       "      <td>...</td>\n",
       "      <td>...</td>\n",
       "      <td>...</td>\n",
       "      <td>...</td>\n",
       "      <td>...</td>\n",
       "      <td>...</td>\n",
       "    </tr>\n",
       "    <tr>\n",
       "      <th>2000-01-05 03:30:00</th>\n",
       "      <td>4.62</td>\n",
       "      <td>0.0</td>\n",
       "      <td>330.202</td>\n",
       "      <td>1.162</td>\n",
       "      <td>6.53</td>\n",
       "      <td>95.91</td>\n",
       "      <td>0.0</td>\n",
       "      <td>44.12</td>\n",
       "      <td>1.82</td>\n",
       "    </tr>\n",
       "    <tr>\n",
       "      <th>2000-01-05 04:00:00</th>\n",
       "      <td>4.51</td>\n",
       "      <td>0.0</td>\n",
       "      <td>330.202</td>\n",
       "      <td>1.636</td>\n",
       "      <td>5.76</td>\n",
       "      <td>95.94</td>\n",
       "      <td>0.0</td>\n",
       "      <td>44.12</td>\n",
       "      <td>1.85</td>\n",
       "    </tr>\n",
       "    <tr>\n",
       "      <th>2000-01-05 04:30:00</th>\n",
       "      <td>4.11</td>\n",
       "      <td>0.0</td>\n",
       "      <td>299.320</td>\n",
       "      <td>1.746</td>\n",
       "      <td>5.79</td>\n",
       "      <td>95.98</td>\n",
       "      <td>0.0</td>\n",
       "      <td>44.12</td>\n",
       "      <td>1.85</td>\n",
       "    </tr>\n",
       "    <tr>\n",
       "      <th>2000-01-05 05:00:00</th>\n",
       "      <td>3.77</td>\n",
       "      <td>0.0</td>\n",
       "      <td>299.320</td>\n",
       "      <td>2.065</td>\n",
       "      <td>6.00</td>\n",
       "      <td>96.03</td>\n",
       "      <td>0.0</td>\n",
       "      <td>44.12</td>\n",
       "      <td>1.83</td>\n",
       "    </tr>\n",
       "    <tr>\n",
       "      <th>2000-01-05 05:30:00</th>\n",
       "      <td>3.36</td>\n",
       "      <td>0.0</td>\n",
       "      <td>299.320</td>\n",
       "      <td>1.911</td>\n",
       "      <td>4.76</td>\n",
       "      <td>96.10</td>\n",
       "      <td>0.0</td>\n",
       "      <td>44.11</td>\n",
       "      <td>1.81</td>\n",
       "    </tr>\n",
       "  </tbody>\n",
       "</table>\n",
       "<p>100 rows × 9 columns</p>\n",
       "</div>"
      ],
      "text/plain": [
       "                       TA  SW_IN    LW_IN    VPD    WS     PA    P    SWC  \\\n",
       "time                                                                        \n",
       "2000-01-03 04:00:00  0.81    0.0  304.148  0.000  3.53  97.00  0.0  43.09   \n",
       "2000-01-03 04:30:00  0.95    0.0  304.382  0.000  3.99  96.98  0.0  43.09   \n",
       "2000-01-03 05:00:00  1.09    0.0  304.382  0.000  3.61  96.96  0.0  43.09   \n",
       "2000-01-03 05:30:00  1.18    0.0  304.382  0.009  3.90  96.93  0.0  43.09   \n",
       "2000-01-03 06:00:00  1.35    0.0  304.382  0.061  4.17  96.91  0.0  43.09   \n",
       "...                   ...    ...      ...    ...   ...    ...  ...    ...   \n",
       "2000-01-05 03:30:00  4.62    0.0  330.202  1.162  6.53  95.91  0.0  44.12   \n",
       "2000-01-05 04:00:00  4.51    0.0  330.202  1.636  5.76  95.94  0.0  44.12   \n",
       "2000-01-05 04:30:00  4.11    0.0  299.320  1.746  5.79  95.98  0.0  44.12   \n",
       "2000-01-05 05:00:00  3.77    0.0  299.320  2.065  6.00  96.03  0.0  44.12   \n",
       "2000-01-05 05:30:00  3.36    0.0  299.320  1.911  4.76  96.10  0.0  44.11   \n",
       "\n",
       "                       TS  \n",
       "time                       \n",
       "2000-01-03 04:00:00  1.37  \n",
       "2000-01-03 04:30:00  1.37  \n",
       "2000-01-03 05:00:00  1.37  \n",
       "2000-01-03 05:30:00  1.37  \n",
       "2000-01-03 06:00:00  1.38  \n",
       "...                   ...  \n",
       "2000-01-05 03:30:00  1.82  \n",
       "2000-01-05 04:00:00  1.85  \n",
       "2000-01-05 04:30:00  1.85  \n",
       "2000-01-05 05:00:00  1.83  \n",
       "2000-01-05 05:30:00  1.81  \n",
       "\n",
       "[100 rows x 9 columns]"
      ]
     },
     "execution_count": null,
     "metadata": {},
     "output_type": "execute_result"
    }
   ],
   "source": [
    "gap_fill_item(targ, REddy_df, \"TA\", filled)\n"
   ]
  },
  {
   "cell_type": "markdown",
   "id": "12065264-440e-4516-b7f3-c5c8fc648238",
   "metadata": {},
   "source": [
    "#### MDSImputation"
   ]
  },
  {
   "cell_type": "code",
   "execution_count": null,
   "id": "e0ea7b1c-6c13-470e-a0ee-72b5463b1e07",
   "metadata": {},
   "outputs": [],
   "source": [
    "#| export\n",
    "class MDSImputation:\n",
    "    name = \"MDS\"\n",
    "    def __init__(self, var, df):\n",
    "        store_attr()\n",
    "        self.out = io.StringIO()\n",
    "    def __call__(self, item):\n",
    "        REddy_df = item2REddy(item, self.var, self.df)\n",
    "        REddy_df_r = r.toR_timestamp(pd2R(REddy_df))\n",
    "        with redirect_stderr(self.out):\n",
    "            filled = R2pd(r.fill_gaps_EProc(REddy_df_r, self.var))\n",
    "        return gap_fill_item(item, REddy_df, self.var, filled)"
   ]
  },
  {
   "cell_type": "code",
   "execution_count": null,
   "id": "e5223797-081d-4451-affd-e02a4698b351",
   "metadata": {},
   "outputs": [],
   "source": [
    "mds_imp = MDSImputation('TA', hai)"
   ]
  },
  {
   "cell_type": "code",
   "execution_count": null,
   "id": "bed10b9e-3c27-4d44-9e68-ab73a068cb84",
   "metadata": {},
   "outputs": [
    {
     "data": {
      "text/html": [
       "<div>\n",
       "<style scoped>\n",
       "    .dataframe tbody tr th:only-of-type {\n",
       "        vertical-align: middle;\n",
       "    }\n",
       "\n",
       "    .dataframe tbody tr th {\n",
       "        vertical-align: top;\n",
       "    }\n",
       "\n",
       "    .dataframe thead th {\n",
       "        text-align: right;\n",
       "    }\n",
       "</style>\n",
       "<table border=\"1\" class=\"dataframe\">\n",
       "  <thead>\n",
       "    <tr style=\"text-align: right;\">\n",
       "      <th></th>\n",
       "      <th>TA</th>\n",
       "      <th>SW_IN</th>\n",
       "      <th>LW_IN</th>\n",
       "      <th>VPD</th>\n",
       "      <th>WS</th>\n",
       "      <th>PA</th>\n",
       "      <th>P</th>\n",
       "      <th>SWC</th>\n",
       "      <th>TS</th>\n",
       "    </tr>\n",
       "    <tr>\n",
       "      <th>time</th>\n",
       "      <th></th>\n",
       "      <th></th>\n",
       "      <th></th>\n",
       "      <th></th>\n",
       "      <th></th>\n",
       "      <th></th>\n",
       "      <th></th>\n",
       "      <th></th>\n",
       "      <th></th>\n",
       "    </tr>\n",
       "  </thead>\n",
       "  <tbody>\n",
       "    <tr>\n",
       "      <th>2000-01-03 04:00:00</th>\n",
       "      <td>0.81</td>\n",
       "      <td>0.0</td>\n",
       "      <td>304.148</td>\n",
       "      <td>0.000</td>\n",
       "      <td>3.53</td>\n",
       "      <td>97.00</td>\n",
       "      <td>0.0</td>\n",
       "      <td>43.09</td>\n",
       "      <td>1.37</td>\n",
       "    </tr>\n",
       "    <tr>\n",
       "      <th>2000-01-03 04:30:00</th>\n",
       "      <td>0.95</td>\n",
       "      <td>0.0</td>\n",
       "      <td>304.382</td>\n",
       "      <td>0.000</td>\n",
       "      <td>3.99</td>\n",
       "      <td>96.98</td>\n",
       "      <td>0.0</td>\n",
       "      <td>43.09</td>\n",
       "      <td>1.37</td>\n",
       "    </tr>\n",
       "    <tr>\n",
       "      <th>2000-01-03 05:00:00</th>\n",
       "      <td>1.09</td>\n",
       "      <td>0.0</td>\n",
       "      <td>304.382</td>\n",
       "      <td>0.000</td>\n",
       "      <td>3.61</td>\n",
       "      <td>96.96</td>\n",
       "      <td>0.0</td>\n",
       "      <td>43.09</td>\n",
       "      <td>1.37</td>\n",
       "    </tr>\n",
       "    <tr>\n",
       "      <th>2000-01-03 05:30:00</th>\n",
       "      <td>1.18</td>\n",
       "      <td>0.0</td>\n",
       "      <td>304.382</td>\n",
       "      <td>0.009</td>\n",
       "      <td>3.90</td>\n",
       "      <td>96.93</td>\n",
       "      <td>0.0</td>\n",
       "      <td>43.09</td>\n",
       "      <td>1.37</td>\n",
       "    </tr>\n",
       "    <tr>\n",
       "      <th>2000-01-03 06:00:00</th>\n",
       "      <td>1.35</td>\n",
       "      <td>0.0</td>\n",
       "      <td>304.382</td>\n",
       "      <td>0.061</td>\n",
       "      <td>4.17</td>\n",
       "      <td>96.91</td>\n",
       "      <td>0.0</td>\n",
       "      <td>43.09</td>\n",
       "      <td>1.38</td>\n",
       "    </tr>\n",
       "    <tr>\n",
       "      <th>...</th>\n",
       "      <td>...</td>\n",
       "      <td>...</td>\n",
       "      <td>...</td>\n",
       "      <td>...</td>\n",
       "      <td>...</td>\n",
       "      <td>...</td>\n",
       "      <td>...</td>\n",
       "      <td>...</td>\n",
       "      <td>...</td>\n",
       "    </tr>\n",
       "    <tr>\n",
       "      <th>2000-01-05 03:30:00</th>\n",
       "      <td>4.62</td>\n",
       "      <td>0.0</td>\n",
       "      <td>330.202</td>\n",
       "      <td>1.162</td>\n",
       "      <td>6.53</td>\n",
       "      <td>95.91</td>\n",
       "      <td>0.0</td>\n",
       "      <td>44.12</td>\n",
       "      <td>1.82</td>\n",
       "    </tr>\n",
       "    <tr>\n",
       "      <th>2000-01-05 04:00:00</th>\n",
       "      <td>4.51</td>\n",
       "      <td>0.0</td>\n",
       "      <td>330.202</td>\n",
       "      <td>1.636</td>\n",
       "      <td>5.76</td>\n",
       "      <td>95.94</td>\n",
       "      <td>0.0</td>\n",
       "      <td>44.12</td>\n",
       "      <td>1.85</td>\n",
       "    </tr>\n",
       "    <tr>\n",
       "      <th>2000-01-05 04:30:00</th>\n",
       "      <td>4.11</td>\n",
       "      <td>0.0</td>\n",
       "      <td>299.320</td>\n",
       "      <td>1.746</td>\n",
       "      <td>5.79</td>\n",
       "      <td>95.98</td>\n",
       "      <td>0.0</td>\n",
       "      <td>44.12</td>\n",
       "      <td>1.85</td>\n",
       "    </tr>\n",
       "    <tr>\n",
       "      <th>2000-01-05 05:00:00</th>\n",
       "      <td>3.77</td>\n",
       "      <td>0.0</td>\n",
       "      <td>299.320</td>\n",
       "      <td>2.065</td>\n",
       "      <td>6.00</td>\n",
       "      <td>96.03</td>\n",
       "      <td>0.0</td>\n",
       "      <td>44.12</td>\n",
       "      <td>1.83</td>\n",
       "    </tr>\n",
       "    <tr>\n",
       "      <th>2000-01-05 05:30:00</th>\n",
       "      <td>3.36</td>\n",
       "      <td>0.0</td>\n",
       "      <td>299.320</td>\n",
       "      <td>1.911</td>\n",
       "      <td>4.76</td>\n",
       "      <td>96.10</td>\n",
       "      <td>0.0</td>\n",
       "      <td>44.11</td>\n",
       "      <td>1.81</td>\n",
       "    </tr>\n",
       "  </tbody>\n",
       "</table>\n",
       "<p>100 rows × 9 columns</p>\n",
       "</div>"
      ],
      "text/plain": [
       "                       TA  SW_IN    LW_IN    VPD    WS     PA    P    SWC  \\\n",
       "time                                                                        \n",
       "2000-01-03 04:00:00  0.81    0.0  304.148  0.000  3.53  97.00  0.0  43.09   \n",
       "2000-01-03 04:30:00  0.95    0.0  304.382  0.000  3.99  96.98  0.0  43.09   \n",
       "2000-01-03 05:00:00  1.09    0.0  304.382  0.000  3.61  96.96  0.0  43.09   \n",
       "2000-01-03 05:30:00  1.18    0.0  304.382  0.009  3.90  96.93  0.0  43.09   \n",
       "2000-01-03 06:00:00  1.35    0.0  304.382  0.061  4.17  96.91  0.0  43.09   \n",
       "...                   ...    ...      ...    ...   ...    ...  ...    ...   \n",
       "2000-01-05 03:30:00  4.62    0.0  330.202  1.162  6.53  95.91  0.0  44.12   \n",
       "2000-01-05 04:00:00  4.51    0.0  330.202  1.636  5.76  95.94  0.0  44.12   \n",
       "2000-01-05 04:30:00  4.11    0.0  299.320  1.746  5.79  95.98  0.0  44.12   \n",
       "2000-01-05 05:00:00  3.77    0.0  299.320  2.065  6.00  96.03  0.0  44.12   \n",
       "2000-01-05 05:30:00  3.36    0.0  299.320  1.911  4.76  96.10  0.0  44.11   \n",
       "\n",
       "                       TS  \n",
       "time                       \n",
       "2000-01-03 04:00:00  1.37  \n",
       "2000-01-03 04:30:00  1.37  \n",
       "2000-01-03 05:00:00  1.37  \n",
       "2000-01-03 05:30:00  1.37  \n",
       "2000-01-03 06:00:00  1.38  \n",
       "...                   ...  \n",
       "2000-01-05 03:30:00  1.82  \n",
       "2000-01-05 04:00:00  1.85  \n",
       "2000-01-05 04:30:00  1.85  \n",
       "2000-01-05 05:00:00  1.83  \n",
       "2000-01-05 05:30:00  1.81  \n",
       "\n",
       "[100 rows x 9 columns]"
      ]
     },
     "execution_count": null,
     "metadata": {},
     "output_type": "execute_result"
    }
   ],
   "source": [
    "mds_imp(targ)"
   ]
  },
  {
   "cell_type": "markdown",
   "id": "8d1e07ad-3ebe-41ff-9a7c-321146fd9a45",
   "metadata": {},
   "source": [
    "### ERA Imputation"
   ]
  },
  {
   "cell_type": "code",
   "execution_count": null,
   "id": "65a56b61-4374-48be-b85e-f49ce0ec9ae5",
   "metadata": {},
   "outputs": [],
   "source": [
    "#| export\n",
    "class ERAImputation:\n",
    "    name = \"ERA\"\n",
    "    def __call__(self, item):\n",
    "        pred = item.control.copy()\n",
    "        names = [col for col in pred.columns if not col.endswith(\"_lag_1\")]\n",
    "        pred = pred.filter(names)\n",
    "        pred = pred.rename(columns=lambda x: x.replace(\"_ERA\", \"\"))\n",
    "        # columns that cannot be predicted get a NA        \n",
    "        for col in item.data.columns:\n",
    "            if col not in pred.columns:\n",
    "                pred[col] = np.nan \n",
    "        return pred"
   ]
  },
  {
   "cell_type": "code",
   "execution_count": null,
   "id": "0f962a74-3955-4f94-8fd3-4b0ed1cac92e",
   "metadata": {},
   "outputs": [
    {
     "data": {
      "text/plain": [
       "Index(['TA', 'SW_IN', 'LW_IN', 'VPD', 'WS', 'PA', 'P', 'SWC', 'TS'], dtype='object')"
      ]
     },
     "execution_count": null,
     "metadata": {},
     "output_type": "execute_result"
    }
   ],
   "source": [
    "targ.data.columns"
   ]
  },
  {
   "cell_type": "code",
   "execution_count": null,
   "id": "8733c3fe-4235-41cd-9104-8a6842f7e960",
   "metadata": {},
   "outputs": [],
   "source": [
    "era_imp = ERAImputation()"
   ]
  },
  {
   "cell_type": "code",
   "execution_count": null,
   "id": "a87f92a0-f300-4b99-88cb-4703f7fd7c73",
   "metadata": {},
   "outputs": [
    {
     "data": {
      "text/html": [
       "<div>\n",
       "<style scoped>\n",
       "    .dataframe tbody tr th:only-of-type {\n",
       "        vertical-align: middle;\n",
       "    }\n",
       "\n",
       "    .dataframe tbody tr th {\n",
       "        vertical-align: top;\n",
       "    }\n",
       "\n",
       "    .dataframe thead th {\n",
       "        text-align: right;\n",
       "    }\n",
       "</style>\n",
       "<table border=\"1\" class=\"dataframe\">\n",
       "  <thead>\n",
       "    <tr style=\"text-align: right;\">\n",
       "      <th></th>\n",
       "      <th>TA</th>\n",
       "      <th>SW_IN</th>\n",
       "      <th>VPD</th>\n",
       "      <th>PA</th>\n",
       "      <th>P</th>\n",
       "      <th>WS</th>\n",
       "      <th>LW_IN</th>\n",
       "      <th>SWC</th>\n",
       "      <th>TS</th>\n",
       "    </tr>\n",
       "    <tr>\n",
       "      <th>time</th>\n",
       "      <th></th>\n",
       "      <th></th>\n",
       "      <th></th>\n",
       "      <th></th>\n",
       "      <th></th>\n",
       "      <th></th>\n",
       "      <th></th>\n",
       "      <th></th>\n",
       "      <th></th>\n",
       "    </tr>\n",
       "  </thead>\n",
       "  <tbody>\n",
       "    <tr>\n",
       "      <th>2000-01-03 04:00:00</th>\n",
       "      <td>1.702</td>\n",
       "      <td>0.0</td>\n",
       "      <td>0.693</td>\n",
       "      <td>97.016</td>\n",
       "      <td>0.000</td>\n",
       "      <td>2.948</td>\n",
       "      <td>304.148</td>\n",
       "      <td>NaN</td>\n",
       "      <td>NaN</td>\n",
       "    </tr>\n",
       "    <tr>\n",
       "      <th>2000-01-03 04:30:00</th>\n",
       "      <td>1.762</td>\n",
       "      <td>0.0</td>\n",
       "      <td>0.691</td>\n",
       "      <td>97.002</td>\n",
       "      <td>0.026</td>\n",
       "      <td>2.989</td>\n",
       "      <td>304.382</td>\n",
       "      <td>NaN</td>\n",
       "      <td>NaN</td>\n",
       "    </tr>\n",
       "    <tr>\n",
       "      <th>2000-01-03 05:00:00</th>\n",
       "      <td>1.736</td>\n",
       "      <td>0.0</td>\n",
       "      <td>0.697</td>\n",
       "      <td>96.988</td>\n",
       "      <td>0.000</td>\n",
       "      <td>3.015</td>\n",
       "      <td>304.382</td>\n",
       "      <td>NaN</td>\n",
       "      <td>NaN</td>\n",
       "    </tr>\n",
       "    <tr>\n",
       "      <th>2000-01-03 05:30:00</th>\n",
       "      <td>1.711</td>\n",
       "      <td>0.0</td>\n",
       "      <td>0.703</td>\n",
       "      <td>96.974</td>\n",
       "      <td>0.000</td>\n",
       "      <td>3.041</td>\n",
       "      <td>304.382</td>\n",
       "      <td>NaN</td>\n",
       "      <td>NaN</td>\n",
       "    </tr>\n",
       "    <tr>\n",
       "      <th>2000-01-03 06:00:00</th>\n",
       "      <td>1.686</td>\n",
       "      <td>0.0</td>\n",
       "      <td>0.709</td>\n",
       "      <td>96.960</td>\n",
       "      <td>0.000</td>\n",
       "      <td>3.066</td>\n",
       "      <td>304.382</td>\n",
       "      <td>NaN</td>\n",
       "      <td>NaN</td>\n",
       "    </tr>\n",
       "    <tr>\n",
       "      <th>...</th>\n",
       "      <td>...</td>\n",
       "      <td>...</td>\n",
       "      <td>...</td>\n",
       "      <td>...</td>\n",
       "      <td>...</td>\n",
       "      <td>...</td>\n",
       "      <td>...</td>\n",
       "      <td>...</td>\n",
       "      <td>...</td>\n",
       "    </tr>\n",
       "    <tr>\n",
       "      <th>2000-01-05 03:30:00</th>\n",
       "      <td>4.945</td>\n",
       "      <td>0.0</td>\n",
       "      <td>0.774</td>\n",
       "      <td>95.910</td>\n",
       "      <td>0.252</td>\n",
       "      <td>6.107</td>\n",
       "      <td>330.202</td>\n",
       "      <td>NaN</td>\n",
       "      <td>NaN</td>\n",
       "    </tr>\n",
       "    <tr>\n",
       "      <th>2000-01-05 04:00:00</th>\n",
       "      <td>4.789</td>\n",
       "      <td>0.0</td>\n",
       "      <td>0.758</td>\n",
       "      <td>95.926</td>\n",
       "      <td>0.252</td>\n",
       "      <td>6.189</td>\n",
       "      <td>330.202</td>\n",
       "      <td>NaN</td>\n",
       "      <td>NaN</td>\n",
       "    </tr>\n",
       "    <tr>\n",
       "      <th>2000-01-05 04:30:00</th>\n",
       "      <td>4.632</td>\n",
       "      <td>0.0</td>\n",
       "      <td>0.741</td>\n",
       "      <td>95.942</td>\n",
       "      <td>0.044</td>\n",
       "      <td>6.270</td>\n",
       "      <td>299.320</td>\n",
       "      <td>NaN</td>\n",
       "      <td>NaN</td>\n",
       "    </tr>\n",
       "    <tr>\n",
       "      <th>2000-01-05 05:00:00</th>\n",
       "      <td>4.251</td>\n",
       "      <td>0.0</td>\n",
       "      <td>0.766</td>\n",
       "      <td>95.988</td>\n",
       "      <td>0.000</td>\n",
       "      <td>5.923</td>\n",
       "      <td>299.320</td>\n",
       "      <td>NaN</td>\n",
       "      <td>NaN</td>\n",
       "    </tr>\n",
       "    <tr>\n",
       "      <th>2000-01-05 05:30:00</th>\n",
       "      <td>3.869</td>\n",
       "      <td>0.0</td>\n",
       "      <td>0.790</td>\n",
       "      <td>96.035</td>\n",
       "      <td>0.000</td>\n",
       "      <td>5.576</td>\n",
       "      <td>299.320</td>\n",
       "      <td>NaN</td>\n",
       "      <td>NaN</td>\n",
       "    </tr>\n",
       "  </tbody>\n",
       "</table>\n",
       "<p>100 rows × 9 columns</p>\n",
       "</div>"
      ],
      "text/plain": [
       "                        TA  SW_IN    VPD      PA      P     WS    LW_IN  SWC  \\\n",
       "time                                                                           \n",
       "2000-01-03 04:00:00  1.702    0.0  0.693  97.016  0.000  2.948  304.148  NaN   \n",
       "2000-01-03 04:30:00  1.762    0.0  0.691  97.002  0.026  2.989  304.382  NaN   \n",
       "2000-01-03 05:00:00  1.736    0.0  0.697  96.988  0.000  3.015  304.382  NaN   \n",
       "2000-01-03 05:30:00  1.711    0.0  0.703  96.974  0.000  3.041  304.382  NaN   \n",
       "2000-01-03 06:00:00  1.686    0.0  0.709  96.960  0.000  3.066  304.382  NaN   \n",
       "...                    ...    ...    ...     ...    ...    ...      ...  ...   \n",
       "2000-01-05 03:30:00  4.945    0.0  0.774  95.910  0.252  6.107  330.202  NaN   \n",
       "2000-01-05 04:00:00  4.789    0.0  0.758  95.926  0.252  6.189  330.202  NaN   \n",
       "2000-01-05 04:30:00  4.632    0.0  0.741  95.942  0.044  6.270  299.320  NaN   \n",
       "2000-01-05 05:00:00  4.251    0.0  0.766  95.988  0.000  5.923  299.320  NaN   \n",
       "2000-01-05 05:30:00  3.869    0.0  0.790  96.035  0.000  5.576  299.320  NaN   \n",
       "\n",
       "                     TS  \n",
       "time                     \n",
       "2000-01-03 04:00:00 NaN  \n",
       "2000-01-03 04:30:00 NaN  \n",
       "2000-01-03 05:00:00 NaN  \n",
       "2000-01-03 05:30:00 NaN  \n",
       "2000-01-03 06:00:00 NaN  \n",
       "...                  ..  \n",
       "2000-01-05 03:30:00 NaN  \n",
       "2000-01-05 04:00:00 NaN  \n",
       "2000-01-05 04:30:00 NaN  \n",
       "2000-01-05 05:00:00 NaN  \n",
       "2000-01-05 05:30:00 NaN  \n",
       "\n",
       "[100 rows x 9 columns]"
      ]
     },
     "execution_count": null,
     "metadata": {},
     "output_type": "execute_result"
    }
   ],
   "source": [
    "era_imp(targ)"
   ]
  },
  {
   "cell_type": "markdown",
   "id": "85d1831e-f355-4ef9-9ff1-5acea97828a6",
   "metadata": {},
   "source": [
    "$\\sigma$"
   ]
  },
  {
   "cell_type": "markdown",
   "id": "7c735435-abde-47a0-8c08-5b1a28b61150",
   "metadata": {},
   "source": [
    "## Metrics"
   ]
  },
  {
   "cell_type": "code",
   "execution_count": null,
   "id": "1ce23800-40ac-452c-94c3-98d4376bec90",
   "metadata": {},
   "outputs": [],
   "source": [
    "#| export\n",
    "class MaskedMetric:\n",
    "    def __init__(self, metric): store_attr()\n",
    "    def __call__(self, targ, pred):\n",
    "        if isinstance(pred, NormalsDf): pred = pred.mean\n",
    "        row_sel, col_sel = ~targ.mask.all(1), ~targ.mask.all(0)\n",
    "        assert not targ.mask.loc[row_sel,col_sel].any().all() # gap is a rectangle\n",
    "        data, pred = targ.data.loc[row_sel,col_sel], pred.loc[row_sel,col_sel]\n",
    "        return self.metric(data, pred) if not np.isnan(pred).all().all() else np.array([np.nan])"
   ]
  },
  {
   "cell_type": "code",
   "execution_count": null,
   "id": "419b95ea-534a-4986-826f-844fe836797c",
   "metadata": {},
   "outputs": [],
   "source": [
    "#| export\n",
    "from sklearn.metrics import mean_squared_error"
   ]
  },
  {
   "cell_type": "code",
   "execution_count": null,
   "id": "659a0552-8c11-4699-95d2-3df749b1d75f",
   "metadata": {},
   "outputs": [],
   "source": [
    "#| export\n",
    "def rmse(y_true, y_pred):\n",
    "    return np.sqrt(mean_squared_error(y_true, y_pred, multioutput='raw_values'))"
   ]
  },
  {
   "cell_type": "code",
   "execution_count": null,
   "id": "585447ff-7e86-4726-8c16-a7838dd8bf71",
   "metadata": {},
   "outputs": [],
   "source": [
    "#| export\n",
    "def normalize(x, mean, std): return (x - mean) / std \n",
    "class NormalizedMetric:\n",
    "    def __init__(self, metric: MaskedMetric, mean, std):\n",
    "        self.mean = np.array(mean)\n",
    "        self.std = np.array(std)\n",
    "        self.metric = metric\n",
    "    def __call__(self, targ, pred, var:int|None = None):\n",
    "        targ = targ.copy()\n",
    "        norm_conf = (self.mean if var is None else self.mean[var], self.std if var is None else self.std[var])\n",
    "        targ.data = normalize(targ.data, *norm_conf)\n",
    "        if isinstance(pred, NormalsDf): pred = pred.mean\n",
    "        pred = normalize(pred, *norm_conf)\n",
    "        return self.metric(targ, pred)"
   ]
  },
  {
   "cell_type": "code",
   "execution_count": null,
   "id": "123a9b56-9099-4e13-9913-8a4e26c37b33",
   "metadata": {},
   "outputs": [],
   "source": [
    "#| export\n",
    "rmse_mask = MaskedMetric(rmse)"
   ]
  },
  {
   "cell_type": "code",
   "execution_count": null,
   "id": "037f5d19-e262-48a9-97a1-595da525de23",
   "metadata": {},
   "outputs": [
    {
     "data": {
      "text/plain": [
       "array([0.3698457])"
      ]
     },
     "execution_count": null,
     "metadata": {},
     "output_type": "execute_result"
    }
   ],
   "source": [
    "rmse_mask(targ, pred)"
   ]
  },
  {
   "cell_type": "markdown",
   "id": "54d93837-573f-4739-84ac-230821f225d4",
   "metadata": {},
   "source": [
    "### Validation Imputations"
   ]
  },
  {
   "cell_type": "markdown",
   "id": "92973203-3377-4ba8-8b1d-3d51ab04e79d",
   "metadata": {},
   "source": [
    "checks that the values of the imputation makes sense"
   ]
  },
  {
   "cell_type": "markdown",
   "id": "7b05868f-0c38-4fa3-b3aa-63cf7515655a",
   "metadata": {},
   "source": [
    "this is the average error for ERA"
   ]
  },
  {
   "cell_type": "code",
   "execution_count": null,
   "id": "33903fdd-463c-47a5-83e2-6555356af78b",
   "metadata": {},
   "outputs": [
    {
     "data": {
      "text/plain": [
       "1.8708585984196093"
      ]
     },
     "execution_count": null,
     "metadata": {},
     "output_type": "execute_result"
    }
   ],
   "source": [
    "np.sqrt((hai['TA'] - hai_era.loc[hai.index]['TA_ERA']).pow(2).mean())"
   ]
  },
  {
   "cell_type": "code",
   "execution_count": null,
   "id": "1ceaeac1-b5fe-410f-97ec-9705af5acbaa",
   "metadata": {},
   "outputs": [
    {
     "data": {
      "text/plain": [
       "array([0.29919709])"
      ]
     },
     "execution_count": null,
     "metadata": {},
     "output_type": "execute_result"
    }
   ],
   "source": [
    "rmse_mask(targ, ERAImputation()(targ))"
   ]
  },
  {
   "cell_type": "code",
   "execution_count": null,
   "id": "7c5b0dde-79fb-4dff-9472-1f1921ef87e4",
   "metadata": {},
   "outputs": [],
   "source": [
    "err_era = []\n",
    "for _ in range(100):\n",
    "    items = random.choices(dls.items, k = 1)\n",
    "    targ = orig_target(dls, items)[0]\n",
    "    err_era.append(rmse_mask(targ, ERAImputation()(targ)))"
   ]
  },
  {
   "cell_type": "code",
   "execution_count": null,
   "id": "7dc7da10-5f74-424e-a947-4d3564f42cdd",
   "metadata": {},
   "outputs": [
    {
     "data": {
      "text/plain": [
       "1.3839633283333717"
      ]
     },
     "execution_count": null,
     "metadata": {},
     "output_type": "execute_result"
    }
   ],
   "source": [
    "np.array(err_era).mean()"
   ]
  },
  {
   "cell_type": "markdown",
   "id": "3ce3f5b0-530b-42e9-940d-7f69cc53ede3",
   "metadata": {},
   "source": [
    "## Comparison"
   ]
  },
  {
   "cell_type": "markdown",
   "id": "b31ab7f7-9945-4831-bdf6-2052e0e5ab72",
   "metadata": {},
   "source": [
    "Take a variable to be filled, makes an artificial gap of given len, tries to fill with 3 methods and return metrics for each of them, repeat `n_rep` times"
   ]
  },
  {
   "cell_type": "code",
   "execution_count": null,
   "id": "5b0e9e1a-6e20-4877-ac71-16fc848d5036",
   "metadata": {},
   "outputs": [],
   "source": [
    "#| export\n",
    "import random\n",
    "import polars as pl\n",
    "from tqdm.auto import tqdm"
   ]
  },
  {
   "cell_type": "markdown",
   "id": "73aa5545-09e7-4f00-8902-bdf7f2b593d2",
   "metadata": {},
   "source": [
    "### prep visualization"
   ]
  },
  {
   "cell_type": "code",
   "execution_count": null,
   "id": "09cfff05-30dd-436f-b13b-a20260583f7e",
   "metadata": {},
   "outputs": [],
   "source": [
    "#| export\n",
    "var_type = CategoricalDtype(categories=['TA', 'SW_IN', 'LW_IN', 'VPD', 'WS', 'PA', 'P', 'SWC', 'TS'], ordered=True)\n",
    "\n",
    "method_type = CategoricalDtype(categories=[\"KalmanFilter\", \"ERA\", \"MDS\"], ordered=True)"
   ]
  },
  {
   "cell_type": "code",
   "execution_count": null,
   "id": "c53ac74b-cb6f-4eef-936c-dbccaadc4747",
   "metadata": {},
   "outputs": [],
   "source": [
    "#| export\n",
    "def _as_category(df: pd.DataFrame):\n",
    "    df = df.assign(\n",
    "        var = df['var'].astype(var_type),\n",
    "        gap_len = df['gap_len'].astype(\"category\"))\n",
    "    if 'method' in df.columns: df = df.assign(method = df['method'].astype(method_type))\n",
    "    return df.sort_values(['var', 'gap_len', 'method'] if 'method' in df.columns else ['var', 'gap_len'] )"
   ]
  },
  {
   "cell_type": "code",
   "execution_count": null,
   "id": "f3a821e1-29c4-4f3c-a0c0-5c255403b6b5",
   "metadata": {},
   "outputs": [],
   "source": [
    "#| export\n",
    "def gaplen2hours(x):\n",
    "    return x.assign(gap_len = (x.gap_len / 2))#.map(lambda x: f\"{int(x) if round(x) == x else x} h\")) "
   ]
  },
  {
   "cell_type": "code",
   "execution_count": null,
   "id": "329fc8ba-8a58-47d4-bf31-c59d0a0bb5f6",
   "metadata": {},
   "outputs": [],
   "source": [
    "#| export\n",
    "def prep_df(df): return _as_category(gaplen2hours(df)) # what a bad name"
   ]
  },
  {
   "cell_type": "markdown",
   "id": "7f22742d-b6a3-43d8-88a8-feded66f1e60",
   "metadata": {},
   "source": [
    "### Aggregation"
   ]
  },
  {
   "cell_type": "code",
   "execution_count": null,
   "id": "0e8eec0a-75cf-4697-b070-592042d369fb",
   "metadata": {},
   "outputs": [
    {
     "data": {
      "text/plain": [
       "7.924610764367695"
      ]
     },
     "execution_count": null,
     "metadata": {},
     "output_type": "execute_result"
    }
   ],
   "source": [
    "hai.std(axis=0)['TA']"
   ]
  },
  {
   "cell_type": "code",
   "execution_count": null,
   "id": "eef5a6a6-bcb0-4763-bc00-33277c0bba7a",
   "metadata": {},
   "outputs": [
    {
     "data": {
      "text/plain": [
       "(tensor([8.3339e+00, 1.2096e+02, 3.1150e+02, 3.3807e+00, 3.1800e+00, 9.5962e+01,\n",
       "         4.3427e-02, 3.4843e+01, 7.9349e+00], dtype=torch.float64),\n",
       " tensor([  7.9246, 204.0026,  41.9557,   4.3684,   1.6254,   0.8552,   0.2803,\n",
       "           8.9131,   5.6586], dtype=torch.float64))"
      ]
     },
     "execution_count": null,
     "metadata": {},
     "output_type": "execute_result"
    }
   ],
   "source": [
    "get_stats(hai)"
   ]
  },
  {
   "cell_type": "markdown",
   "id": "ac23fdbf-ea74-417b-9b59-65f3024ade9e",
   "metadata": {},
   "source": [
    "$$ \\text{RMSE}_\\text{stand} = \\frac{1}{\\sigma}\\text{RMSE}$$"
   ]
  },
  {
   "cell_type": "code",
   "execution_count": null,
   "id": "9471fb52-0e6b-4a01-829f-30da7fb10c2f",
   "metadata": {},
   "outputs": [],
   "source": [
    "#| export\n",
    "def timeseriesAgg(targ, pred, *args): return {'pred': [pred], 'targ': [targ]}\n",
    "\n",
    "class RMSEAgg:\n",
    "    \"\"\"Aggregate to rmse and normalized rmse\"\"\"\n",
    "    def __init__(self, df):\n",
    "        self.std = df.std(axis=0)\n",
    "    def __call__(self, targ, pred, var):\n",
    "        rmse = rmse_mask(targ, pred).item()\n",
    "        rmse_stand = rmse / self.std[var]\n",
    "        return {'rmse': rmse,'rmse_stand': rmse_stand,}"
   ]
  },
  {
   "cell_type": "markdown",
   "id": "eaff22ca-c79b-45ed-9dd0-3583b6a4fe23",
   "metadata": {},
   "source": [
    "### Imp Methods"
   ]
  },
  {
   "cell_type": "code",
   "execution_count": null,
   "id": "88665ed6-24d7-42cf-9168-ead86dc8beba",
   "metadata": {},
   "outputs": [],
   "source": [
    "#| export\n",
    "class ImpComparison():\n",
    "    def __init__(self, models: pd.DataFrame, df, control, block_len, rmse=True, time_series = False):\n",
    "        store_attr()\n",
    "        self.k_imp = KalmanImputationVar(models)\n",
    "        self.era_imp = ERAImputation()\n",
    "        self.mds_imp = MDSImputation(\"\", df)\n",
    "        self.methods = [self.k_imp, self.era_imp, self.mds_imp]\n",
    "        aggrs = []\n",
    "        if rmse: aggrs.append(RMSEAgg(df))\n",
    "        if time_series: aggrs.append(timeseriesAgg) \n",
    "        self.aggrs = aggrs\n",
    "        \n",
    "    def _compare_single(self, gap_len, var, n_rep):\n",
    "        \"\"\"Compares `n_rep` times the imputation methods, for gap in `var` with len `gap_len`\"\"\"\n",
    "        dls = imp_dataloader(self.df, self.control, var_sel = var, gap_len=gap_len, block_len=self.block_len, control_lags = [1], n_rep=1, bs=1).cpu()\n",
    "        self.mds_imp.var = var\n",
    "        \n",
    "        outs = []\n",
    "        for i in tqdm(range(n_rep), leave=False):\n",
    "            item = random.choice(dls.items)\n",
    "            pred_k, targ = self.k_imp.preds_all(var = var, items = [item], dls=dls)\n",
    "            pred_k, targ = pred_k[0], targ[0]\n",
    "            for imp in self.methods:\n",
    "                pred = imp(targ) if imp is not self.k_imp else pred_k\n",
    "                out = {\n",
    "                    'method': imp.name,\n",
    "                    'var': var,\n",
    "                    'gap_len': gap_len,\n",
    "                    'idx_rep': i,\n",
    "                }\n",
    "                for aggr in self.aggrs:\n",
    "                    out = out | aggr(targ, pred, var)\n",
    "                outs.append(out)\n",
    "        return pd.DataFrame(outs)\n",
    "    \n",
    "    def compare(self, gap_len, var, n_rep, raw=False):\n",
    "        \"\"\"Compare imputation performance for all combination of parameters\"\"\"\n",
    "        arg_sets = list(product_dict(gap_len=tuplify(gap_len), var=tuplify(var)))\n",
    "        out = []\n",
    "        for arg_set in tqdm(arg_sets):\n",
    "            out.append(self._compare_single(**arg_set, n_rep=n_rep))\n",
    "        return prep_df(pd.concat(out)) if not raw else pd.concat(out)\n",
    "        "
   ]
  },
  {
   "cell_type": "code",
   "execution_count": null,
   "id": "7057b768-c434-4d17-9d96-c74eff9f02af",
   "metadata": {},
   "outputs": [],
   "source": [
    "base_path = here(\"analysis/results/trained_14feb\")"
   ]
  },
  {
   "cell_type": "code",
   "execution_count": null,
   "id": "3d99a266-9c9e-46a6-ac9f-6841d2652bb8",
   "metadata": {},
   "outputs": [],
   "source": [
    "#| export\n",
    "def l_model(x): return torch.load(base_path / x)"
   ]
  },
  {
   "cell_type": "code",
   "execution_count": null,
   "id": "b34d7665-39fb-437d-8e62-cc4508edf221",
   "metadata": {},
   "outputs": [],
   "source": [
    "models_var = [\n",
    "    {'var': 'TA',    'model': l_model(\"TA_specialized_gap_12-336_v2.pickle.pickle\")},\n",
    "    {'var': 'SW_IN', 'model': l_model(\"SW_IN_specialized_gap_12-336_v2.pickle.pickle\")},\n",
    "    {'var': 'LW_IN', 'model': l_model(\"LW_IN_specialized_gap_12-336_v1.pickle\")},\n",
    "    {'var': 'VPD',   'model': l_model(\"VPD_specialized_gap_12-336_v1.pickle\")},\n",
    "    {'var': 'WS',    'model': l_model(\"VPD_specialized_gap_12-336_v1.pickle\")},\n",
    "    {'var': 'PA',    'model': l_model(\"VPD_specialized_gap_12-336_v3.pickle.pickle\")},\n",
    "    {'var': 'P',     'model': l_model(\"P_specialized_gap_12-336_v1.pickle\")},\n",
    "    {'var': 'TS',    'model': l_model(\"TS_specialized_gap_12-336_v2.pickle.pickle\")},\n",
    "    {'var': 'SWC',   'model': l_model(\"SWC_specialized_gap_12-336_v2.pickle.pickle\")},\n",
    "]\n",
    "models_var = pd.DataFrame.from_records(models_var)"
   ]
  },
  {
   "cell_type": "code",
   "execution_count": null,
   "id": "24f432d5-0df1-4f3a-8b77-4a20f82d26b8",
   "metadata": {},
   "outputs": [],
   "source": [
    "comp = ImpComparison(models = models_var, df = hai, control = hai_era, block_len = 100)"
   ]
  },
  {
   "cell_type": "code",
   "execution_count": null,
   "id": "571e91c8-25a4-4a62-b397-3db6cd311cae",
   "metadata": {},
   "outputs": [
    {
     "data": {
      "application/vnd.jupyter.widget-view+json": {
       "model_id": "67e15417f55f441e95de5b5e9a33c393",
       "version_major": 2,
       "version_minor": 0
      },
      "text/plain": [
       "  0%|          | 0/8 [00:00<?, ?it/s]"
      ]
     },
     "metadata": {},
     "output_type": "display_data"
    },
    {
     "data": {
      "application/vnd.jupyter.widget-view+json": {
       "model_id": "",
       "version_major": 2,
       "version_minor": 0
      },
      "text/plain": [
       "  0%|          | 0/5 [00:00<?, ?it/s]"
      ]
     },
     "metadata": {},
     "output_type": "display_data"
    },
    {
     "data": {
      "application/vnd.jupyter.widget-view+json": {
       "model_id": "",
       "version_major": 2,
       "version_minor": 0
      },
      "text/plain": [
       "  0%|          | 0/5 [00:00<?, ?it/s]"
      ]
     },
     "metadata": {},
     "output_type": "display_data"
    },
    {
     "data": {
      "application/vnd.jupyter.widget-view+json": {
       "model_id": "",
       "version_major": 2,
       "version_minor": 0
      },
      "text/plain": [
       "  0%|          | 0/5 [00:00<?, ?it/s]"
      ]
     },
     "metadata": {},
     "output_type": "display_data"
    },
    {
     "data": {
      "application/vnd.jupyter.widget-view+json": {
       "model_id": "",
       "version_major": 2,
       "version_minor": 0
      },
      "text/plain": [
       "  0%|          | 0/5 [00:00<?, ?it/s]"
      ]
     },
     "metadata": {},
     "output_type": "display_data"
    },
    {
     "data": {
      "application/vnd.jupyter.widget-view+json": {
       "model_id": "",
       "version_major": 2,
       "version_minor": 0
      },
      "text/plain": [
       "  0%|          | 0/5 [00:00<?, ?it/s]"
      ]
     },
     "metadata": {},
     "output_type": "display_data"
    },
    {
     "data": {
      "application/vnd.jupyter.widget-view+json": {
       "model_id": "",
       "version_major": 2,
       "version_minor": 0
      },
      "text/plain": [
       "  0%|          | 0/5 [00:00<?, ?it/s]"
      ]
     },
     "metadata": {},
     "output_type": "display_data"
    },
    {
     "data": {
      "application/vnd.jupyter.widget-view+json": {
       "model_id": "",
       "version_major": 2,
       "version_minor": 0
      },
      "text/plain": [
       "  0%|          | 0/5 [00:00<?, ?it/s]"
      ]
     },
     "metadata": {},
     "output_type": "display_data"
    },
    {
     "data": {
      "application/vnd.jupyter.widget-view+json": {
       "model_id": "",
       "version_major": 2,
       "version_minor": 0
      },
      "text/plain": [
       "  0%|          | 0/5 [00:00<?, ?it/s]"
      ]
     },
     "metadata": {},
     "output_type": "display_data"
    }
   ],
   "source": [
    "data_results = comp.compare(gap_len = [5,10,20, 45], var=[\"TA\", \"SW_IN\"], n_rep=5) "
   ]
  },
  {
   "cell_type": "code",
   "execution_count": null,
   "id": "5c70e615-e7a0-4408-9f06-e0a4d75a2b14",
   "metadata": {},
   "outputs": [
    {
     "data": {
      "text/html": [
       "<div>\n",
       "<style scoped>\n",
       "    .dataframe tbody tr th:only-of-type {\n",
       "        vertical-align: middle;\n",
       "    }\n",
       "\n",
       "    .dataframe tbody tr th {\n",
       "        vertical-align: top;\n",
       "    }\n",
       "\n",
       "    .dataframe thead th {\n",
       "        text-align: right;\n",
       "    }\n",
       "</style>\n",
       "<table border=\"1\" class=\"dataframe\">\n",
       "  <thead>\n",
       "    <tr style=\"text-align: right;\">\n",
       "      <th></th>\n",
       "      <th>method</th>\n",
       "      <th>var</th>\n",
       "      <th>gap_len</th>\n",
       "      <th>idx_rep</th>\n",
       "      <th>rmse</th>\n",
       "      <th>rmse_stand</th>\n",
       "    </tr>\n",
       "  </thead>\n",
       "  <tbody>\n",
       "    <tr>\n",
       "      <th>0</th>\n",
       "      <td>KalmanFilter</td>\n",
       "      <td>TA</td>\n",
       "      <td>2.5</td>\n",
       "      <td>0</td>\n",
       "      <td>0.458599</td>\n",
       "      <td>0.057870</td>\n",
       "    </tr>\n",
       "    <tr>\n",
       "      <th>3</th>\n",
       "      <td>KalmanFilter</td>\n",
       "      <td>TA</td>\n",
       "      <td>2.5</td>\n",
       "      <td>1</td>\n",
       "      <td>0.156532</td>\n",
       "      <td>0.019753</td>\n",
       "    </tr>\n",
       "    <tr>\n",
       "      <th>6</th>\n",
       "      <td>KalmanFilter</td>\n",
       "      <td>TA</td>\n",
       "      <td>2.5</td>\n",
       "      <td>2</td>\n",
       "      <td>0.174399</td>\n",
       "      <td>0.022007</td>\n",
       "    </tr>\n",
       "    <tr>\n",
       "      <th>9</th>\n",
       "      <td>KalmanFilter</td>\n",
       "      <td>TA</td>\n",
       "      <td>2.5</td>\n",
       "      <td>3</td>\n",
       "      <td>0.361323</td>\n",
       "      <td>0.045595</td>\n",
       "    </tr>\n",
       "    <tr>\n",
       "      <th>12</th>\n",
       "      <td>KalmanFilter</td>\n",
       "      <td>TA</td>\n",
       "      <td>2.5</td>\n",
       "      <td>4</td>\n",
       "      <td>0.655402</td>\n",
       "      <td>0.082705</td>\n",
       "    </tr>\n",
       "  </tbody>\n",
       "</table>\n",
       "</div>"
      ],
      "text/plain": [
       "          method var gap_len  idx_rep      rmse  rmse_stand\n",
       "0   KalmanFilter  TA     2.5        0  0.458599    0.057870\n",
       "3   KalmanFilter  TA     2.5        1  0.156532    0.019753\n",
       "6   KalmanFilter  TA     2.5        2  0.174399    0.022007\n",
       "9   KalmanFilter  TA     2.5        3  0.361323    0.045595\n",
       "12  KalmanFilter  TA     2.5        4  0.655402    0.082705"
      ]
     },
     "execution_count": null,
     "metadata": {},
     "output_type": "execute_result"
    }
   ],
   "source": [
    "data_results.head()"
   ]
  },
  {
   "cell_type": "code",
   "execution_count": null,
   "id": "7709904f-4d83-4ac7-8004-a635635a3014",
   "metadata": {},
   "outputs": [
    {
     "data": {
      "text/plain": [
       "Index(['method', 'var', 'gap_len', 'idx_rep', 'rmse', 'rmse_stand'], dtype='object')"
      ]
     },
     "execution_count": null,
     "metadata": {},
     "output_type": "execute_result"
    }
   ],
   "source": [
    "data_results.columns"
   ]
  },
  {
   "cell_type": "markdown",
   "id": "a7e94fd3-08b1-4a60-a3dd-855a4ec32235",
   "metadata": {},
   "source": [
    "### Kalman Filters"
   ]
  },
  {
   "cell_type": "code",
   "execution_count": null,
   "id": "330057e2-ed5a-45e5-99f8-c0a30d391e1d",
   "metadata": {},
   "outputs": [],
   "source": [
    "#| export\n",
    "class KalmanImpComparison():\n",
    "    \"\"\"Compare different Kalman filters\"\"\"\n",
    "    def __init__(self,\n",
    "                 models: pd.DataFrame, # model, gap_single_var, \n",
    "                 df: pd.DataFrame,\n",
    "                 control: pd.DataFrame,\n",
    "                 block_len:int,\n",
    "                 rmse:bool=True,\n",
    "                 time_series:bool = False):\n",
    "        store_attr()\n",
    "        self.imps = models.assign(imp = models.model.map(lambda model: KalmanImputation(model)))\n",
    "        self.columns = list(df.columns)\n",
    "        aggrs = []\n",
    "        if rmse: aggrs.append(RMSEAgg(df))\n",
    "        if time_series: aggrs.append(timeseriesAgg) \n",
    "        self.aggrs = aggrs\n",
    "        \n",
    "    def _compare_single(self, n_rep:int, gap_len:int, var:list[str]):\n",
    "        \"\"\"Compares `n_rep` times the imputation methods, for gap in `var` with len `gap_len`\"\"\"\n",
    "        outs = []\n",
    "        imps = imps = self.imps[self.imps['var'] == var] if 'var' in self.imps.columns else self.imps\n",
    "        \n",
    "       \n",
    "        dls = imp_dataloader(self.df, self.control,\n",
    "                                 var_sel = var,\n",
    "                                 gap_len=gap_len, block_len=self.block_len, control_lags = [1], n_rep=1, bs=1,\n",
    "                                 shifts = gen_shifts(50),\n",
    "                                ).cpu()\n",
    "\n",
    "        items_orig = random.choices(dls.items, k=n_rep)\n",
    "             \n",
    "        for (_,imp) in imps.iterrows():\n",
    "            \n",
    "            if not ( imp.gap_single_var if hasattr(imp, 'gap_single_var') else True):\n",
    "                items = [MeteoImpItem(i = i.i, shift = i.shift, var_sel = self.columns, gap_len = i.gap_len) for i in items_orig]\n",
    "            else:\n",
    "                items = items_orig.copy()\n",
    "            \n",
    "\n",
    "            var_idx = _index_var(self.df, [var])[0]\n",
    "            metrics_fn = MultiMetrics(loss = PredictLossVar(only_gap=True, var = var_idx), likelihood = PredictLikelihoodVar(only_gap=True, var = var_idx) )\n",
    "\n",
    "            for i in range(n_rep):\n",
    "                pred, targ, metric = imp.imp.preds_all_metrics(items = [items[i]], dls=dls, metrics=metrics_fn)\n",
    "                pred, targ = pred[0], targ[0]\n",
    "                pred = pred.mean.iloc[:, [var_idx]]\n",
    "                targ = MeteoImpDf(targ.data.iloc[:, [var_idx]], targ.mask.iloc[:, [var_idx]], targ.control.iloc[:, [var_idx]])\n",
    "                out = {\n",
    "                    'var': var,\n",
    "                    'loss': metric['loss'][0].item(),\n",
    "                    'likelihood': metric['likelihood'][0].item(),\n",
    "                    'gap_len': gap_len,\n",
    "                    'idx_rep': i,\n",
    "                } | imp.drop(index=[\"model\", \"imp\"]).to_dict()\n",
    "                for aggr in self.aggrs:\n",
    "                    out = out | aggr(targ, pred, var)\n",
    "                outs.append(out)\n",
    "        return pd.DataFrame(outs)\n",
    "    \n",
    "    def compare(self, n_rep:int, gap_len:list[int], var:list[list[str]]):\n",
    "        \"\"\"Compare imputation performance for all combination of parameters\"\"\"\n",
    "        arg_sets = list(product_dict(gap_len=tuplify(gap_len), var=tuplify(var)))\n",
    "        out = []\n",
    "        for arg_set in tqdm(arg_sets):\n",
    "            out.append(self._compare_single(**arg_set, n_rep=n_rep))\n",
    "        return prep_df(pd.concat(out))\n",
    "        "
   ]
  },
  {
   "cell_type": "code",
   "execution_count": null,
   "id": "928cc7b0-7707-4901-bc06-c1ff93a9ae10",
   "metadata": {},
   "outputs": [],
   "source": [
    "models = pd.DataFrame(columns = [\"use_control\", \"gap_single_var\"])"
   ]
  },
  {
   "cell_type": "code",
   "execution_count": null,
   "id": "8fb9a63d-3325-4653-a16a-f84bb8b5e838",
   "metadata": {},
   "outputs": [],
   "source": [
    "base_path = here(\"analysis/results/trained_13feb\")"
   ]
  },
  {
   "cell_type": "code",
   "execution_count": null,
   "id": "6e1c0178-5cdd-446c-b63e-00119f1c293a",
   "metadata": {},
   "outputs": [],
   "source": [
    "#| export\n",
    "def l_model(x): return torch.load(base_path / x)"
   ]
  },
  {
   "cell_type": "code",
   "execution_count": null,
   "id": "b8c1411d-a0f1-42d4-8270-869fde721082",
   "metadata": {},
   "outputs": [],
   "source": [
    "models = [\n",
    "    {'use_control': True,  'gap_single_var': True,  'model': l_model(\"1_gap_varying_12-336_v1.pickle\")},\n",
    "    {'use_control': True,  'gap_single_var': False, 'model': l_model(\"All_gap_all_30_v1.pickle\")},\n",
    "    {'use_control': False, 'gap_single_var': False, 'model': l_model(\"1_gap_varying_336_no_control_v1.pickle\")},\n",
    "    {'use_control': False, 'gap_single_var': True,  'model': l_model(\"1_gap_varying_336_no_control_v1.pickle\")},\n",
    "]\n",
    "models = pd.DataFrame.from_records(models)"
   ]
  },
  {
   "cell_type": "code",
   "execution_count": null,
   "id": "dc270464-2bf0-4e30-9df2-96b4d5f474d9",
   "metadata": {},
   "outputs": [],
   "source": [
    "kcomp = KalmanImpComparison(models, hai, hai_era, 100)"
   ]
  },
  {
   "cell_type": "code",
   "execution_count": null,
   "id": "3e618f9d-159b-413e-bc2e-b544806d0906",
   "metadata": {},
   "outputs": [],
   "source": [
    "#| export\n",
    "from meteo_imp.kalman.fastai import _index_var"
   ]
  },
  {
   "cell_type": "code",
   "execution_count": null,
   "id": "48f45340-e2c0-4123-bee5-d44bb31be0b0",
   "metadata": {},
   "outputs": [
    {
     "data": {
      "text/html": [
       "<div>\n",
       "<style scoped>\n",
       "    .dataframe tbody tr th:only-of-type {\n",
       "        vertical-align: middle;\n",
       "    }\n",
       "\n",
       "    .dataframe tbody tr th {\n",
       "        vertical-align: top;\n",
       "    }\n",
       "\n",
       "    .dataframe thead th {\n",
       "        text-align: right;\n",
       "    }\n",
       "</style>\n",
       "<table border=\"1\" class=\"dataframe\">\n",
       "  <thead>\n",
       "    <tr style=\"text-align: right;\">\n",
       "      <th></th>\n",
       "      <th>use_control</th>\n",
       "      <th>gap_single_var</th>\n",
       "      <th>model</th>\n",
       "    </tr>\n",
       "  </thead>\n",
       "  <tbody>\n",
       "    <tr>\n",
       "      <th>0</th>\n",
       "      <td>True</td>\n",
       "      <td>True</td>\n",
       "      <td>Kalman Filter\\n        N dim obs: 9,\\n        N dim state: 18,\\n        N dim contr: 14</td>\n",
       "    </tr>\n",
       "    <tr>\n",
       "      <th>1</th>\n",
       "      <td>True</td>\n",
       "      <td>False</td>\n",
       "      <td>Kalman Filter\\n        N dim obs: 9,\\n        N dim state: 18,\\n        N dim contr: 14</td>\n",
       "    </tr>\n",
       "    <tr>\n",
       "      <th>2</th>\n",
       "      <td>False</td>\n",
       "      <td>False</td>\n",
       "      <td>Kalman Filter\\n        N dim obs: 9,\\n        N dim state: 18,\\n        N dim contr: 14</td>\n",
       "    </tr>\n",
       "    <tr>\n",
       "      <th>3</th>\n",
       "      <td>False</td>\n",
       "      <td>True</td>\n",
       "      <td>Kalman Filter\\n        N dim obs: 9,\\n        N dim state: 18,\\n        N dim contr: 14</td>\n",
       "    </tr>\n",
       "  </tbody>\n",
       "</table>\n",
       "</div>"
      ],
      "text/plain": [
       "   use_control  gap_single_var  \\\n",
       "0         True            True   \n",
       "1         True           False   \n",
       "2        False           False   \n",
       "3        False            True   \n",
       "\n",
       "                                                                                     model  \n",
       "0  Kalman Filter\\n        N dim obs: 9,\\n        N dim state: 18,\\n        N dim contr: 14  \n",
       "1  Kalman Filter\\n        N dim obs: 9,\\n        N dim state: 18,\\n        N dim contr: 14  \n",
       "2  Kalman Filter\\n        N dim obs: 9,\\n        N dim state: 18,\\n        N dim contr: 14  \n",
       "3  Kalman Filter\\n        N dim obs: 9,\\n        N dim state: 18,\\n        N dim contr: 14  "
      ]
     },
     "execution_count": null,
     "metadata": {},
     "output_type": "execute_result"
    }
   ],
   "source": [
    "models"
   ]
  },
  {
   "cell_type": "code",
   "execution_count": null,
   "id": "0362b1ad-3081-43fb-aef3-4dedab3e2d58",
   "metadata": {},
   "outputs": [
    {
     "data": {
      "application/vnd.jupyter.widget-view+json": {
       "model_id": "8728496b95684f1c9a727b4011830616",
       "version_major": 2,
       "version_minor": 0
      },
      "text/plain": [
       "  0%|          | 0/27 [00:00<?, ?it/s]"
      ]
     },
     "metadata": {},
     "output_type": "display_data"
    }
   ],
   "source": [
    "k_results = kcomp.compare(n_rep =3, gap_len = [6, 12, 24], var = list(hai.columns))"
   ]
  },
  {
   "cell_type": "code",
   "execution_count": null,
   "id": "e8a8e2d2-8dfc-4819-b321-73ab44f3875d",
   "metadata": {},
   "outputs": [
    {
     "data": {
      "text/html": [
       "<div>\n",
       "<style scoped>\n",
       "    .dataframe tbody tr th:only-of-type {\n",
       "        vertical-align: middle;\n",
       "    }\n",
       "\n",
       "    .dataframe tbody tr th {\n",
       "        vertical-align: top;\n",
       "    }\n",
       "\n",
       "    .dataframe thead th {\n",
       "        text-align: right;\n",
       "    }\n",
       "</style>\n",
       "<table border=\"1\" class=\"dataframe\">\n",
       "  <thead>\n",
       "    <tr style=\"text-align: right;\">\n",
       "      <th></th>\n",
       "      <th>var</th>\n",
       "      <th>loss</th>\n",
       "      <th>likelihood</th>\n",
       "      <th>gap_len</th>\n",
       "      <th>gap_idx</th>\n",
       "      <th>use_control</th>\n",
       "      <th>gap_single_var</th>\n",
       "      <th>rmse</th>\n",
       "      <th>rmse_stand</th>\n",
       "    </tr>\n",
       "  </thead>\n",
       "  <tbody>\n",
       "    <tr>\n",
       "      <th>0</th>\n",
       "      <td>TA</td>\n",
       "      <td>-5.280393</td>\n",
       "      <td>2.671731</td>\n",
       "      <td>3.0</td>\n",
       "      <td>0</td>\n",
       "      <td>True</td>\n",
       "      <td>True</td>\n",
       "      <td>0.131880</td>\n",
       "      <td>0.016642</td>\n",
       "    </tr>\n",
       "    <tr>\n",
       "      <th>1</th>\n",
       "      <td>TA</td>\n",
       "      <td>-4.566644</td>\n",
       "      <td>2.487593</td>\n",
       "      <td>3.0</td>\n",
       "      <td>1</td>\n",
       "      <td>True</td>\n",
       "      <td>True</td>\n",
       "      <td>0.663002</td>\n",
       "      <td>0.083664</td>\n",
       "    </tr>\n",
       "    <tr>\n",
       "      <th>2</th>\n",
       "      <td>TA</td>\n",
       "      <td>-5.032340</td>\n",
       "      <td>2.686779</td>\n",
       "      <td>3.0</td>\n",
       "      <td>2</td>\n",
       "      <td>True</td>\n",
       "      <td>True</td>\n",
       "      <td>0.390265</td>\n",
       "      <td>0.049247</td>\n",
       "    </tr>\n",
       "    <tr>\n",
       "      <th>3</th>\n",
       "      <td>TA</td>\n",
       "      <td>-6.865580</td>\n",
       "      <td>4.571592</td>\n",
       "      <td>3.0</td>\n",
       "      <td>0</td>\n",
       "      <td>True</td>\n",
       "      <td>False</td>\n",
       "      <td>0.599223</td>\n",
       "      <td>0.075615</td>\n",
       "    </tr>\n",
       "    <tr>\n",
       "      <th>4</th>\n",
       "      <td>TA</td>\n",
       "      <td>-8.085504</td>\n",
       "      <td>4.509787</td>\n",
       "      <td>3.0</td>\n",
       "      <td>1</td>\n",
       "      <td>True</td>\n",
       "      <td>False</td>\n",
       "      <td>0.146722</td>\n",
       "      <td>0.018515</td>\n",
       "    </tr>\n",
       "    <tr>\n",
       "      <th>...</th>\n",
       "      <td>...</td>\n",
       "      <td>...</td>\n",
       "      <td>...</td>\n",
       "      <td>...</td>\n",
       "      <td>...</td>\n",
       "      <td>...</td>\n",
       "      <td>...</td>\n",
       "      <td>...</td>\n",
       "      <td>...</td>\n",
       "    </tr>\n",
       "    <tr>\n",
       "      <th>7</th>\n",
       "      <td>TS</td>\n",
       "      <td>34.731586</td>\n",
       "      <td>0.887256</td>\n",
       "      <td>12.0</td>\n",
       "      <td>1</td>\n",
       "      <td>False</td>\n",
       "      <td>False</td>\n",
       "      <td>2.722457</td>\n",
       "      <td>0.481115</td>\n",
       "    </tr>\n",
       "    <tr>\n",
       "      <th>8</th>\n",
       "      <td>TS</td>\n",
       "      <td>66.913388</td>\n",
       "      <td>0.769370</td>\n",
       "      <td>12.0</td>\n",
       "      <td>2</td>\n",
       "      <td>False</td>\n",
       "      <td>False</td>\n",
       "      <td>20.535604</td>\n",
       "      <td>3.629069</td>\n",
       "    </tr>\n",
       "    <tr>\n",
       "      <th>9</th>\n",
       "      <td>TS</td>\n",
       "      <td>7.724566</td>\n",
       "      <td>1.516849</td>\n",
       "      <td>12.0</td>\n",
       "      <td>0</td>\n",
       "      <td>False</td>\n",
       "      <td>True</td>\n",
       "      <td>1.946988</td>\n",
       "      <td>0.344073</td>\n",
       "    </tr>\n",
       "    <tr>\n",
       "      <th>10</th>\n",
       "      <td>TS</td>\n",
       "      <td>-0.383060</td>\n",
       "      <td>1.612699</td>\n",
       "      <td>12.0</td>\n",
       "      <td>1</td>\n",
       "      <td>False</td>\n",
       "      <td>True</td>\n",
       "      <td>0.809863</td>\n",
       "      <td>0.143120</td>\n",
       "    </tr>\n",
       "    <tr>\n",
       "      <th>11</th>\n",
       "      <td>TS</td>\n",
       "      <td>11.871315</td>\n",
       "      <td>1.390741</td>\n",
       "      <td>12.0</td>\n",
       "      <td>2</td>\n",
       "      <td>False</td>\n",
       "      <td>True</td>\n",
       "      <td>2.392871</td>\n",
       "      <td>0.422870</td>\n",
       "    </tr>\n",
       "  </tbody>\n",
       "</table>\n",
       "<p>324 rows × 9 columns</p>\n",
       "</div>"
      ],
      "text/plain": [
       "   var       loss  likelihood gap_len  gap_idx  use_control  gap_single_var  \\\n",
       "0   TA  -5.280393    2.671731     3.0        0         True            True   \n",
       "1   TA  -4.566644    2.487593     3.0        1         True            True   \n",
       "2   TA  -5.032340    2.686779     3.0        2         True            True   \n",
       "3   TA  -6.865580    4.571592     3.0        0         True           False   \n",
       "4   TA  -8.085504    4.509787     3.0        1         True           False   \n",
       "..  ..        ...         ...     ...      ...          ...             ...   \n",
       "7   TS  34.731586    0.887256    12.0        1        False           False   \n",
       "8   TS  66.913388    0.769370    12.0        2        False           False   \n",
       "9   TS   7.724566    1.516849    12.0        0        False            True   \n",
       "10  TS  -0.383060    1.612699    12.0        1        False            True   \n",
       "11  TS  11.871315    1.390741    12.0        2        False            True   \n",
       "\n",
       "         rmse  rmse_stand  \n",
       "0    0.131880    0.016642  \n",
       "1    0.663002    0.083664  \n",
       "2    0.390265    0.049247  \n",
       "3    0.599223    0.075615  \n",
       "4    0.146722    0.018515  \n",
       "..        ...         ...  \n",
       "7    2.722457    0.481115  \n",
       "8   20.535604    3.629069  \n",
       "9    1.946988    0.344073  \n",
       "10   0.809863    0.143120  \n",
       "11   2.392871    0.422870  \n",
       "\n",
       "[324 rows x 9 columns]"
      ]
     },
     "execution_count": null,
     "metadata": {},
     "output_type": "execute_result"
    }
   ],
   "source": [
    "k_results"
   ]
  },
  {
   "cell_type": "markdown",
   "id": "17c70a6e-99ec-4a59-ade1-f5bc6ad5df6d",
   "metadata": {},
   "source": [
    "## Plotting"
   ]
  },
  {
   "cell_type": "code",
   "execution_count": null,
   "id": "7cc52a80-eb0a-460a-939d-e0f67c999ec1",
   "metadata": {},
   "outputs": [],
   "source": [
    "#| export\n",
    "import altair as alt"
   ]
  },
  {
   "cell_type": "code",
   "execution_count": null,
   "id": "92940ebd-b6c6-462e-969c-6989a620b9e4",
   "metadata": {},
   "outputs": [],
   "source": [
    "#| export\n",
    "def facet_wrap(data: pd.DataFrame, # full dataset\n",
    "               plot_fn,# function that makes the plot, takes 2 arguments: data and y_label\n",
    "               col: str, # column to facet\n",
    "               y_labels: list[str]|None =None, # custom labels y axis \n",
    "               n_cols=3,\n",
    "               y_resolve='independent'\n",
    "              ):\n",
    "    col_vals = data[col].unique()\n",
    "    plot_list = [alt.hconcat() for _ in range(0, len(col_vals), n_cols)]\n",
    "    for i, col_v in enumerate(col_vals):\n",
    "        plot = plot_fn(data[data[col]==col_v].copy(),\n",
    "                       y_labels[i] if y_labels is not None else col_v\n",
    "                      ).properties(title=str(col_v))\n",
    "        plot_list[i // n_cols] |= plot\n",
    "    return alt.vconcat(*plot_list).resolve_scale(xOffset='independent')#.resolve_scale(\n",
    "        #y=y_resolve\n",
    "    #)\n",
    "    "
   ]
  },
  {
   "cell_type": "code",
   "execution_count": null,
   "id": "4a876831-e0c2-45c7-81ca-9d0283c4d694",
   "metadata": {},
   "outputs": [],
   "source": [
    "#| export\n",
    "def facet_grid(data: pd.DataFrame, # full dataset\n",
    "               plot_fn,# function that makes the plot, takes 2 arguments: data and y_label\n",
    "               col: str, # column to facet,\n",
    "               row: str,\n",
    "               y_labels: list[str]|None = None, # custom labels y axis\n",
    "              ):\n",
    "    row_vals = data[row].unique()\n",
    "    n_cols = len(data[col].unique())\n",
    "    plots = []\n",
    "    for row_val, y_label in zip_longest(row_vals, listify(y_labels)):\n",
    "        plot = facet_wrap(data[data[row]==row_val].copy(), plot_fn, col, y_label, n_cols=n_cols).properties(title=row_val)\n",
    "        plots.append(plot)\n",
    "    return alt.vconcat(*plots)"
   ]
  },
  {
   "cell_type": "code",
   "execution_count": null,
   "id": "468a80e2-095c-4e1e-aa06-16d51da99934",
   "metadata": {},
   "outputs": [],
   "source": [
    "from itertools import product"
   ]
  },
  {
   "cell_type": "code",
   "execution_count": null,
   "id": "b0ebb815-43d5-474e-b7ef-bdcf29e128b5",
   "metadata": {},
   "outputs": [],
   "source": [
    "test_data = pd.DataFrame(list(product(['0','1'], ['a', 'b'])), columns = ['row', 'col'])\n",
    "test_data['text'] = test_data.row + test_data.col"
   ]
  },
  {
   "cell_type": "code",
   "execution_count": null,
   "id": "c7f56662-5038-4dce-9cd0-37577c7600f8",
   "metadata": {},
   "outputs": [],
   "source": [
    "def test_plot(data, *args): return alt.Chart(data).mark_text().encode(text='text')"
   ]
  },
  {
   "cell_type": "code",
   "execution_count": null,
   "id": "dc57443f-93ec-4168-8af6-2461c6f325c7",
   "metadata": {},
   "outputs": [
    {
     "data": {
      "text/html": [
       "\n",
       "<div id=\"altair-viz-a4974491e82b4b17b4f742852d0c4166\"></div>\n",
       "<script type=\"text/javascript\">\n",
       "  var VEGA_DEBUG = (typeof VEGA_DEBUG == \"undefined\") ? {} : VEGA_DEBUG;\n",
       "  (function(spec, embedOpt){\n",
       "    let outputDiv = document.currentScript.previousElementSibling;\n",
       "    if (outputDiv.id !== \"altair-viz-a4974491e82b4b17b4f742852d0c4166\") {\n",
       "      outputDiv = document.getElementById(\"altair-viz-a4974491e82b4b17b4f742852d0c4166\");\n",
       "    }\n",
       "    const paths = {\n",
       "      \"vega\": \"https://cdn.jsdelivr.net/npm/vega@5?noext\",\n",
       "      \"vega-lib\": \"https://cdn.jsdelivr.net/npm/vega-lib?noext\",\n",
       "      \"vega-lite\": \"https://cdn.jsdelivr.net/npm/vega-lite@5.2.0?noext\",\n",
       "      \"vega-embed\": \"https://cdn.jsdelivr.net/npm/vega-embed@6?noext\",\n",
       "    };\n",
       "\n",
       "    function maybeLoadScript(lib, version) {\n",
       "      var key = `${lib.replace(\"-\", \"\")}_version`;\n",
       "      return (VEGA_DEBUG[key] == version) ?\n",
       "        Promise.resolve(paths[lib]) :\n",
       "        new Promise(function(resolve, reject) {\n",
       "          var s = document.createElement('script');\n",
       "          document.getElementsByTagName(\"head\")[0].appendChild(s);\n",
       "          s.async = true;\n",
       "          s.onload = () => {\n",
       "            VEGA_DEBUG[key] = version;\n",
       "            return resolve(paths[lib]);\n",
       "          };\n",
       "          s.onerror = () => reject(`Error loading script: ${paths[lib]}`);\n",
       "          s.src = paths[lib];\n",
       "        });\n",
       "    }\n",
       "\n",
       "    function showError(err) {\n",
       "      outputDiv.innerHTML = `<div class=\"error\" style=\"color:red;\">${err}</div>`;\n",
       "      throw err;\n",
       "    }\n",
       "\n",
       "    function displayChart(vegaEmbed) {\n",
       "      vegaEmbed(outputDiv, spec, embedOpt)\n",
       "        .catch(err => showError(`Javascript Error: ${err.message}<br>This usually means there's a typo in your chart specification. See the javascript console for the full traceback.`));\n",
       "    }\n",
       "\n",
       "    if(typeof define === \"function\" && define.amd) {\n",
       "      requirejs.config({paths});\n",
       "      require([\"vega-embed\"], displayChart, err => showError(`Error loading script: ${err.message}`));\n",
       "    } else {\n",
       "      maybeLoadScript(\"vega\", \"5\")\n",
       "        .then(() => maybeLoadScript(\"vega-lite\", \"5.2.0\"))\n",
       "        .then(() => maybeLoadScript(\"vega-embed\", \"6\"))\n",
       "        .catch(showError)\n",
       "        .then(() => displayChart(vegaEmbed));\n",
       "    }\n",
       "  })({\"config\": {\"view\": {\"continuousWidth\": 300, \"continuousHeight\": 300}}, \"vconcat\": [{\"hconcat\": [{\"mark\": \"text\", \"encoding\": {\"text\": {\"field\": \"text\", \"type\": \"nominal\"}}, \"title\": \"0\"}, {\"data\": {\"name\": \"data-3b4bb4407d10d355deeefbc25d1c7fb8\"}, \"mark\": \"text\", \"encoding\": {\"text\": {\"field\": \"text\", \"type\": \"nominal\"}}, \"title\": \"1\"}]}], \"data\": {\"name\": \"data-8c79f6f2a7e784a5debf560bf3815208\"}, \"resolve\": {\"scale\": {\"xOffset\": \"independent\"}}, \"$schema\": \"https://vega.github.io/schema/vega-lite/v5.2.0.json\", \"datasets\": {\"data-8c79f6f2a7e784a5debf560bf3815208\": [{\"row\": \"0\", \"col\": \"a\", \"text\": \"0a\"}, {\"row\": \"0\", \"col\": \"b\", \"text\": \"0b\"}], \"data-3b4bb4407d10d355deeefbc25d1c7fb8\": [{\"row\": \"1\", \"col\": \"a\", \"text\": \"1a\"}, {\"row\": \"1\", \"col\": \"b\", \"text\": \"1b\"}]}}, {\"mode\": \"vega-lite\"});\n",
       "</script>"
      ],
      "text/plain": [
       "alt.VConcatChart(...)"
      ]
     },
     "execution_count": null,
     "metadata": {},
     "output_type": "execute_result"
    }
   ],
   "source": [
    "facet_wrap(test_data, test_plot, col = 'row')"
   ]
  },
  {
   "cell_type": "code",
   "execution_count": null,
   "id": "ddef1493-119e-48ce-ba2e-56888959ffb3",
   "metadata": {},
   "outputs": [
    {
     "data": {
      "text/html": [
       "\n",
       "<div id=\"altair-viz-e9bb600b6aba4f4399e1d84e0b699ca5\"></div>\n",
       "<script type=\"text/javascript\">\n",
       "  var VEGA_DEBUG = (typeof VEGA_DEBUG == \"undefined\") ? {} : VEGA_DEBUG;\n",
       "  (function(spec, embedOpt){\n",
       "    let outputDiv = document.currentScript.previousElementSibling;\n",
       "    if (outputDiv.id !== \"altair-viz-e9bb600b6aba4f4399e1d84e0b699ca5\") {\n",
       "      outputDiv = document.getElementById(\"altair-viz-e9bb600b6aba4f4399e1d84e0b699ca5\");\n",
       "    }\n",
       "    const paths = {\n",
       "      \"vega\": \"https://cdn.jsdelivr.net/npm/vega@5?noext\",\n",
       "      \"vega-lib\": \"https://cdn.jsdelivr.net/npm/vega-lib?noext\",\n",
       "      \"vega-lite\": \"https://cdn.jsdelivr.net/npm/vega-lite@5.2.0?noext\",\n",
       "      \"vega-embed\": \"https://cdn.jsdelivr.net/npm/vega-embed@6?noext\",\n",
       "    };\n",
       "\n",
       "    function maybeLoadScript(lib, version) {\n",
       "      var key = `${lib.replace(\"-\", \"\")}_version`;\n",
       "      return (VEGA_DEBUG[key] == version) ?\n",
       "        Promise.resolve(paths[lib]) :\n",
       "        new Promise(function(resolve, reject) {\n",
       "          var s = document.createElement('script');\n",
       "          document.getElementsByTagName(\"head\")[0].appendChild(s);\n",
       "          s.async = true;\n",
       "          s.onload = () => {\n",
       "            VEGA_DEBUG[key] = version;\n",
       "            return resolve(paths[lib]);\n",
       "          };\n",
       "          s.onerror = () => reject(`Error loading script: ${paths[lib]}`);\n",
       "          s.src = paths[lib];\n",
       "        });\n",
       "    }\n",
       "\n",
       "    function showError(err) {\n",
       "      outputDiv.innerHTML = `<div class=\"error\" style=\"color:red;\">${err}</div>`;\n",
       "      throw err;\n",
       "    }\n",
       "\n",
       "    function displayChart(vegaEmbed) {\n",
       "      vegaEmbed(outputDiv, spec, embedOpt)\n",
       "        .catch(err => showError(`Javascript Error: ${err.message}<br>This usually means there's a typo in your chart specification. See the javascript console for the full traceback.`));\n",
       "    }\n",
       "\n",
       "    if(typeof define === \"function\" && define.amd) {\n",
       "      requirejs.config({paths});\n",
       "      require([\"vega-embed\"], displayChart, err => showError(`Error loading script: ${err.message}`));\n",
       "    } else {\n",
       "      maybeLoadScript(\"vega\", \"5\")\n",
       "        .then(() => maybeLoadScript(\"vega-lite\", \"5.2.0\"))\n",
       "        .then(() => maybeLoadScript(\"vega-embed\", \"6\"))\n",
       "        .catch(showError)\n",
       "        .then(() => displayChart(vegaEmbed));\n",
       "    }\n",
       "  })({\"config\": {\"view\": {\"continuousWidth\": 300, \"continuousHeight\": 300}}, \"vconcat\": [{\"vconcat\": [{\"hconcat\": [{\"mark\": \"text\", \"encoding\": {\"text\": {\"field\": \"text\", \"type\": \"nominal\"}}, \"title\": \"a\"}, {\"data\": {\"name\": \"data-f20217130d2fd3a8bd411768620867f4\"}, \"mark\": \"text\", \"encoding\": {\"text\": {\"field\": \"text\", \"type\": \"nominal\"}}, \"title\": \"b\"}]}], \"data\": {\"name\": \"data-bcec33718fc2d0107d4dd3cd1ef4de05\"}, \"resolve\": {\"scale\": {\"xOffset\": \"independent\"}}, \"title\": \"0\"}, {\"vconcat\": [{\"hconcat\": [{\"mark\": \"text\", \"encoding\": {\"text\": {\"field\": \"text\", \"type\": \"nominal\"}}, \"title\": \"a\"}, {\"data\": {\"name\": \"data-93362acdbb1f83408b5ea74a7702b071\"}, \"mark\": \"text\", \"encoding\": {\"text\": {\"field\": \"text\", \"type\": \"nominal\"}}, \"title\": \"b\"}]}], \"data\": {\"name\": \"data-3fa31d7f1c047be528e8fc3c5f4071c1\"}, \"resolve\": {\"scale\": {\"xOffset\": \"independent\"}}, \"title\": \"1\"}], \"$schema\": \"https://vega.github.io/schema/vega-lite/v5.2.0.json\", \"datasets\": {\"data-bcec33718fc2d0107d4dd3cd1ef4de05\": [{\"row\": \"0\", \"col\": \"a\", \"text\": \"0a\"}], \"data-f20217130d2fd3a8bd411768620867f4\": [{\"row\": \"0\", \"col\": \"b\", \"text\": \"0b\"}], \"data-3fa31d7f1c047be528e8fc3c5f4071c1\": [{\"row\": \"1\", \"col\": \"a\", \"text\": \"1a\"}], \"data-93362acdbb1f83408b5ea74a7702b071\": [{\"row\": \"1\", \"col\": \"b\", \"text\": \"1b\"}]}}, {\"mode\": \"vega-lite\"});\n",
       "</script>"
      ],
      "text/plain": [
       "alt.VConcatChart(...)"
      ]
     },
     "execution_count": null,
     "metadata": {},
     "output_type": "execute_result"
    }
   ],
   "source": [
    "facet_grid(test_data, test_plot, col = 'col', row='row')"
   ]
  },
  {
   "cell_type": "code",
   "execution_count": null,
   "id": "62e4f19f-97c7-4d8c-ab03-bd21a5f0fdf2",
   "metadata": {},
   "outputs": [],
   "source": [
    "#| export\n",
    "method_scale = alt.Scale(domain=[\"KalmanFilter\", \"ERA\", \"MDS\"], scheme='dark2')\n",
    "meteo_scale = alt.Scale(domain = ['TA', 'SW_IN', 'LW_IN', 'VPD', 'WS', 'PA', 'P', 'SWC', 'TS'], scheme='dark2')"
   ]
  },
  {
   "cell_type": "markdown",
   "id": "2779adda-8017-4903-b6fd-57cffacdf1c3",
   "metadata": {},
   "source": [
    "### The Plot "
   ]
  },
  {
   "cell_type": "code",
   "execution_count": null,
   "id": "641a5dcb-46a5-4848-843d-ccc85c0cbd13",
   "metadata": {},
   "outputs": [],
   "source": [
    "def remove_outliers(data, var, groupby):\n",
    "    \"\"\"Simple but maybe computationally inefficent to remove outliers from boxplot \"\"\""
   ]
  },
  {
   "cell_type": "code",
   "execution_count": null,
   "id": "c90441d1-2163-4f60-b261-be9569dad45f",
   "metadata": {},
   "outputs": [],
   "source": [
    "def custom_box_plot(data, x, y, color, xoffset):\n",
    "    \"\"\"Boxplot for altair without outliers\"\"\"\n",
    "    bar = alt.Chart(data).mark_bar().encode(\n",
    "            x=x,\n",
    "            y='q1:Q',\n",
    "            y2='q2:Q',\n",
    "            color=color,\n",
    "            xoffset=xoffset\n",
    "        ).transform_aggregate(\n",
    "            q1=f'q1({y})',\n",
    "            q3=f'q1({y})',\n",
    "            groupby=[color, xoffset]\n",
    "    )\n",
    "    \n",
    "    return bar"
   ]
  },
  {
   "cell_type": "code",
   "execution_count": null,
   "id": "f6e9507c-3ec8-431c-a1c0-29ab39ccd39f",
   "metadata": {},
   "outputs": [],
   "source": [
    "# custom_box_plot(data_results, 'gap_len', 'rmse', 'method', 'method')"
   ]
  },
  {
   "cell_type": "code",
   "execution_count": null,
   "id": "f47f3d2b-8fa3-44be-9f56-0944cf09c3c2",
   "metadata": {},
   "outputs": [],
   "source": [
    "#| export\n",
    "def _the_plot(data, y_label='rmse', y = 'rmse'):\n",
    "    # don't include ERA in xOffset scale if is always missing\n",
    "    xoffset_domain = [\"KalmanFilter\", \"ERA\", \"MDS\"] # if not data.query(\"method == 'ERA'\")[y].isna().all() else [\"KalmanFilter\", \"MDS\"]\n",
    "    return alt.Chart(data).mark_boxplot(extent=\"min-max\").encode(\n",
    "        x = alt.X('gap_len:N', title='gap_len [h]', axis=alt.Axis(labelAngle=0)),\n",
    "        y = alt.Y(y, title=y_label, axis=alt.Axis(grid=True)),\n",
    "        color=alt.Color('method:N', scale=method_scale),\n",
    "        xOffset=alt.XOffset('method', scale=alt.Scale(domain=xoffset_domain)),\n",
    "        # column=alt.Column('var')\n",
    "    ).properties(width=250, height=200)"
   ]
  },
  {
   "cell_type": "code",
   "execution_count": null,
   "id": "71c77295-9285-438c-a11e-d2b3b0ed319a",
   "metadata": {},
   "outputs": [],
   "source": [
    "#| export\n",
    "def the_plot(data):\n",
    "     return facet_wrap(data, _the_plot, \"var\", y_labels = [f\"rmse {var} [{units_big[var]}]\" for var in data['var'].unique()]).configure_legend(orient=\"bottom\")"
   ]
  },
  {
   "cell_type": "code",
   "execution_count": null,
   "id": "023aa1d6-9635-4108-b1e6-6b8ffa67db27",
   "metadata": {},
   "outputs": [
    {
     "data": {
      "text/html": [
       "\n",
       "<div id=\"altair-viz-94dcdf1bc1474debad07aa639ed97a47\"></div>\n",
       "<script type=\"text/javascript\">\n",
       "  var VEGA_DEBUG = (typeof VEGA_DEBUG == \"undefined\") ? {} : VEGA_DEBUG;\n",
       "  (function(spec, embedOpt){\n",
       "    let outputDiv = document.currentScript.previousElementSibling;\n",
       "    if (outputDiv.id !== \"altair-viz-94dcdf1bc1474debad07aa639ed97a47\") {\n",
       "      outputDiv = document.getElementById(\"altair-viz-94dcdf1bc1474debad07aa639ed97a47\");\n",
       "    }\n",
       "    const paths = {\n",
       "      \"vega\": \"https://cdn.jsdelivr.net/npm/vega@5?noext\",\n",
       "      \"vega-lib\": \"https://cdn.jsdelivr.net/npm/vega-lib?noext\",\n",
       "      \"vega-lite\": \"https://cdn.jsdelivr.net/npm/vega-lite@5.2.0?noext\",\n",
       "      \"vega-embed\": \"https://cdn.jsdelivr.net/npm/vega-embed@6?noext\",\n",
       "    };\n",
       "\n",
       "    function maybeLoadScript(lib, version) {\n",
       "      var key = `${lib.replace(\"-\", \"\")}_version`;\n",
       "      return (VEGA_DEBUG[key] == version) ?\n",
       "        Promise.resolve(paths[lib]) :\n",
       "        new Promise(function(resolve, reject) {\n",
       "          var s = document.createElement('script');\n",
       "          document.getElementsByTagName(\"head\")[0].appendChild(s);\n",
       "          s.async = true;\n",
       "          s.onload = () => {\n",
       "            VEGA_DEBUG[key] = version;\n",
       "            return resolve(paths[lib]);\n",
       "          };\n",
       "          s.onerror = () => reject(`Error loading script: ${paths[lib]}`);\n",
       "          s.src = paths[lib];\n",
       "        });\n",
       "    }\n",
       "\n",
       "    function showError(err) {\n",
       "      outputDiv.innerHTML = `<div class=\"error\" style=\"color:red;\">${err}</div>`;\n",
       "      throw err;\n",
       "    }\n",
       "\n",
       "    function displayChart(vegaEmbed) {\n",
       "      vegaEmbed(outputDiv, spec, embedOpt)\n",
       "        .catch(err => showError(`Javascript Error: ${err.message}<br>This usually means there's a typo in your chart specification. See the javascript console for the full traceback.`));\n",
       "    }\n",
       "\n",
       "    if(typeof define === \"function\" && define.amd) {\n",
       "      requirejs.config({paths});\n",
       "      require([\"vega-embed\"], displayChart, err => showError(`Error loading script: ${err.message}`));\n",
       "    } else {\n",
       "      maybeLoadScript(\"vega\", \"5\")\n",
       "        .then(() => maybeLoadScript(\"vega-lite\", \"5.2.0\"))\n",
       "        .then(() => maybeLoadScript(\"vega-embed\", \"6\"))\n",
       "        .catch(showError)\n",
       "        .then(() => displayChart(vegaEmbed));\n",
       "    }\n",
       "  })({\"config\": {\"view\": {\"continuousWidth\": 300, \"continuousHeight\": 300}, \"legend\": {\"orient\": \"bottom\"}}, \"vconcat\": [{\"hconcat\": [{\"mark\": {\"type\": \"boxplot\", \"extent\": \"min-max\"}, \"encoding\": {\"color\": {\"field\": \"method\", \"scale\": {\"domain\": [\"KalmanFilter\", \"ERA\", \"MDS\"], \"scheme\": \"dark2\"}, \"type\": \"nominal\"}, \"x\": {\"axis\": {\"labelAngle\": 0}, \"field\": \"gap_len\", \"title\": \"gap_len [h]\", \"type\": \"nominal\"}, \"xOffset\": {\"field\": \"method\", \"scale\": {\"domain\": [\"KalmanFilter\", \"ERA\", \"MDS\"]}, \"sort\": [\"KalmanFilter\", \"ERA\", \"MDS\"], \"type\": \"ordinal\"}, \"y\": {\"axis\": {\"grid\": true}, \"field\": \"rmse\", \"title\": \"rmse TA [\\u00b0C]\", \"type\": \"quantitative\"}}, \"height\": 200, \"title\": \"TA\", \"width\": 250}, {\"data\": {\"name\": \"data-90166fd4a71f41e3483e1d308ae1df3f\"}, \"mark\": {\"type\": \"boxplot\", \"extent\": \"min-max\"}, \"encoding\": {\"color\": {\"field\": \"method\", \"scale\": {\"domain\": [\"KalmanFilter\", \"ERA\", \"MDS\"], \"scheme\": \"dark2\"}, \"type\": \"nominal\"}, \"x\": {\"axis\": {\"labelAngle\": 0}, \"field\": \"gap_len\", \"title\": \"gap_len [h]\", \"type\": \"nominal\"}, \"xOffset\": {\"field\": \"method\", \"scale\": {\"domain\": [\"KalmanFilter\", \"ERA\", \"MDS\"]}, \"sort\": [\"KalmanFilter\", \"ERA\", \"MDS\"], \"type\": \"ordinal\"}, \"y\": {\"axis\": {\"grid\": true}, \"field\": \"rmse\", \"title\": \"rmse SW_IN [W m-2]\", \"type\": \"quantitative\"}}, \"height\": 200, \"title\": \"SW_IN\", \"width\": 250}]}], \"data\": {\"name\": \"data-57b235acc3e0da4b249c35ef8dd6de1f\"}, \"resolve\": {\"scale\": {\"xOffset\": \"independent\"}}, \"$schema\": \"https://vega.github.io/schema/vega-lite/v5.2.0.json\", \"datasets\": {\"data-57b235acc3e0da4b249c35ef8dd6de1f\": [{\"method\": \"KalmanFilter\", \"var\": \"TA\", \"gap_len\": 2.5, \"idx_rep\": 0, \"rmse\": 0.45859917867745875, \"rmse_stand\": 0.05787024654125715}, {\"method\": \"KalmanFilter\", \"var\": \"TA\", \"gap_len\": 2.5, \"idx_rep\": 1, \"rmse\": 0.1565318544722203, \"rmse_stand\": 0.019752623709425807}, {\"method\": \"KalmanFilter\", \"var\": \"TA\", \"gap_len\": 2.5, \"idx_rep\": 2, \"rmse\": 0.17439920963505967, \"rmse_stand\": 0.022007290303673988}, {\"method\": \"KalmanFilter\", \"var\": \"TA\", \"gap_len\": 2.5, \"idx_rep\": 3, \"rmse\": 0.36132286304577765, \"rmse_stand\": 0.04559502968529807}, {\"method\": \"KalmanFilter\", \"var\": \"TA\", \"gap_len\": 2.5, \"idx_rep\": 4, \"rmse\": 0.6554024098455221, \"rmse_stand\": 0.08270468157155182}, {\"method\": \"ERA\", \"var\": \"TA\", \"gap_len\": 2.5, \"idx_rep\": 0, \"rmse\": 1.4494880475533438, \"rmse_stand\": 0.18290968359869958}, {\"method\": \"ERA\", \"var\": \"TA\", \"gap_len\": 2.5, \"idx_rep\": 1, \"rmse\": 2.161609585470975, \"rmse_stand\": 0.2727717044716518}, {\"method\": \"ERA\", \"var\": \"TA\", \"gap_len\": 2.5, \"idx_rep\": 2, \"rmse\": 3.079831748651215, \"rmse_stand\": 0.3886413907544082}, {\"method\": \"ERA\", \"var\": \"TA\", \"gap_len\": 2.5, \"idx_rep\": 3, \"rmse\": 0.2689706303669617, \"rmse_stand\": 0.03394117873604142}, {\"method\": \"ERA\", \"var\": \"TA\", \"gap_len\": 2.5, \"idx_rep\": 4, \"rmse\": 0.9925782588793692, \"rmse_stand\": 0.12525261976807855}, {\"method\": \"MDS\", \"var\": \"TA\", \"gap_len\": 2.5, \"idx_rep\": 0, \"rmse\": 3.836379180880156, \"rmse_stand\": 0.4841094780490788}, {\"method\": \"MDS\", \"var\": \"TA\", \"gap_len\": 2.5, \"idx_rep\": 1, \"rmse\": 1.4774830321552226, \"rmse_stand\": 0.1864423472757291}, {\"method\": \"MDS\", \"var\": \"TA\", \"gap_len\": 2.5, \"idx_rep\": 2, \"rmse\": 1.9375648552665787, \"rmse_stand\": 0.24449968747722806}, {\"method\": \"MDS\", \"var\": \"TA\", \"gap_len\": 2.5, \"idx_rep\": 3, \"rmse\": 5.648068036692516, \"rmse_stand\": 0.712724978504755}, {\"method\": \"MDS\", \"var\": \"TA\", \"gap_len\": 2.5, \"idx_rep\": 4, \"rmse\": 0.3964013964302305, \"rmse_stand\": 0.05002156045475621}, {\"method\": \"KalmanFilter\", \"var\": \"TA\", \"gap_len\": 5.0, \"idx_rep\": 0, \"rmse\": 0.2688583185422039, \"rmse_stand\": 0.033927006200872516}, {\"method\": \"KalmanFilter\", \"var\": \"TA\", \"gap_len\": 5.0, \"idx_rep\": 1, \"rmse\": 1.2202396323108624, \"rmse_stand\": 0.15398101794444732}, {\"method\": \"KalmanFilter\", \"var\": \"TA\", \"gap_len\": 5.0, \"idx_rep\": 2, \"rmse\": 0.5364031724956462, \"rmse_stand\": 0.06768826740456896}, {\"method\": \"KalmanFilter\", \"var\": \"TA\", \"gap_len\": 5.0, \"idx_rep\": 3, \"rmse\": 0.8466554501787661, \"rmse_stand\": 0.10683874266552962}, {\"method\": \"KalmanFilter\", \"var\": \"TA\", \"gap_len\": 5.0, \"idx_rep\": 4, \"rmse\": 0.22290406604227006, \"rmse_stand\": 0.02812807753846262}, {\"method\": \"ERA\", \"var\": \"TA\", \"gap_len\": 5.0, \"idx_rep\": 0, \"rmse\": 0.6161552564086423, \"rmse_stand\": 0.07775211612652692}, {\"method\": \"ERA\", \"var\": \"TA\", \"gap_len\": 5.0, \"idx_rep\": 1, \"rmse\": 2.699802622415201, \"rmse_stand\": 0.34068583337299324}, {\"method\": \"ERA\", \"var\": \"TA\", \"gap_len\": 5.0, \"idx_rep\": 2, \"rmse\": 2.47888904552019, \"rmse_stand\": 0.31280893399412035}, {\"method\": \"ERA\", \"var\": \"TA\", \"gap_len\": 5.0, \"idx_rep\": 3, \"rmse\": 1.092673418730409, \"rmse_stand\": 0.13788354421689927}, {\"method\": \"ERA\", \"var\": \"TA\", \"gap_len\": 5.0, \"idx_rep\": 4, \"rmse\": 0.4736103883995789, \"rmse_stand\": 0.05976449853273876}, {\"method\": \"MDS\", \"var\": \"TA\", \"gap_len\": 5.0, \"idx_rep\": 0, \"rmse\": 0.37018423676457685, \"rmse_stand\": 0.04671323901851145}, {\"method\": \"MDS\", \"var\": \"TA\", \"gap_len\": 5.0, \"idx_rep\": 1, \"rmse\": 2.5049789719717106, \"rmse_stand\": 0.31610119997755914}, {\"method\": \"MDS\", \"var\": \"TA\", \"gap_len\": 5.0, \"idx_rep\": 2, \"rmse\": 1.3607584787271558, \"rmse_stand\": 0.1717129735690849}, {\"method\": \"MDS\", \"var\": \"TA\", \"gap_len\": 5.0, \"idx_rep\": 3, \"rmse\": 3.518030450205353, \"rmse_stand\": 0.44393731816127335}, {\"method\": \"MDS\", \"var\": \"TA\", \"gap_len\": 5.0, \"idx_rep\": 4, \"rmse\": 0.3487218153797257, \"rmse_stand\": 0.0440049140265314}, {\"method\": \"KalmanFilter\", \"var\": \"TA\", \"gap_len\": 10.0, \"idx_rep\": 0, \"rmse\": 0.3093641609454863, \"rmse_stand\": 0.03903840455313145}, {\"method\": \"KalmanFilter\", \"var\": \"TA\", \"gap_len\": 10.0, \"idx_rep\": 1, \"rmse\": 1.128727890568843, \"rmse_stand\": 0.14243322784307175}, {\"method\": \"KalmanFilter\", \"var\": \"TA\", \"gap_len\": 10.0, \"idx_rep\": 2, \"rmse\": 0.23575566323259534, \"rmse_stand\": 0.029749809832004575}, {\"method\": \"KalmanFilter\", \"var\": \"TA\", \"gap_len\": 10.0, \"idx_rep\": 3, \"rmse\": 0.7054704330482424, \"rmse_stand\": 0.08902272351600249}, {\"method\": \"KalmanFilter\", \"var\": \"TA\", \"gap_len\": 10.0, \"idx_rep\": 4, \"rmse\": 0.6711296732361712, \"rmse_stand\": 0.08468929177617732}, {\"method\": \"ERA\", \"var\": \"TA\", \"gap_len\": 10.0, \"idx_rep\": 0, \"rmse\": 0.6373100109052111, \"rmse_stand\": 0.0804216168913707}, {\"method\": \"ERA\", \"var\": \"TA\", \"gap_len\": 10.0, \"idx_rep\": 1, \"rmse\": 3.3073337448766793, \"rmse_stand\": 0.417349677254536}, {\"method\": \"ERA\", \"var\": \"TA\", \"gap_len\": 10.0, \"idx_rep\": 2, \"rmse\": 0.5084344598864242, \"rmse_stand\": 0.06415891896830497}, {\"method\": \"ERA\", \"var\": \"TA\", \"gap_len\": 10.0, \"idx_rep\": 3, \"rmse\": 1.0420521100213753, \"rmse_stand\": 0.13149568363746894}, {\"method\": \"ERA\", \"var\": \"TA\", \"gap_len\": 10.0, \"idx_rep\": 4, \"rmse\": 1.3107373306654544, \"rmse_stand\": 0.16540084675944816}, {\"method\": \"MDS\", \"var\": \"TA\", \"gap_len\": 10.0, \"idx_rep\": 0, \"rmse\": 1.909987068089248, \"rmse_stand\": 0.24101966959403665}, {\"method\": \"MDS\", \"var\": \"TA\", \"gap_len\": 10.0, \"idx_rep\": 1, \"rmse\": 0.9628557873659838, \"rmse_stand\": 0.12150196596347405}, {\"method\": \"MDS\", \"var\": \"TA\", \"gap_len\": 10.0, \"idx_rep\": 2, \"rmse\": 1.2267196441453094, \"rmse_stand\": 0.15479872521451082}, {\"method\": \"MDS\", \"var\": \"TA\", \"gap_len\": 10.0, \"idx_rep\": 3, \"rmse\": 2.680745456962698, \"rmse_stand\": 0.33828102561408196}, {\"method\": \"MDS\", \"var\": \"TA\", \"gap_len\": 10.0, \"idx_rep\": 4, \"rmse\": 1.3269395749489976, \"rmse_stand\": 0.16744539440542153}, {\"method\": \"KalmanFilter\", \"var\": \"TA\", \"gap_len\": 22.5, \"idx_rep\": 0, \"rmse\": 0.5864129798979331, \"rmse_stand\": 0.07399896314588557}, {\"method\": \"KalmanFilter\", \"var\": \"TA\", \"gap_len\": 22.5, \"idx_rep\": 1, \"rmse\": 0.2843142695520981, \"rmse_stand\": 0.03587737972324039}, {\"method\": \"KalmanFilter\", \"var\": \"TA\", \"gap_len\": 22.5, \"idx_rep\": 2, \"rmse\": 0.7435215897867138, \"rmse_stand\": 0.09382436713862241}, {\"method\": \"KalmanFilter\", \"var\": \"TA\", \"gap_len\": 22.5, \"idx_rep\": 3, \"rmse\": 0.5667248001907798, \"rmse_stand\": 0.07151452822629564}, {\"method\": \"KalmanFilter\", \"var\": \"TA\", \"gap_len\": 22.5, \"idx_rep\": 4, \"rmse\": 0.3841439659959281, \"rmse_stand\": 0.048474805566879976}, {\"method\": \"ERA\", \"var\": \"TA\", \"gap_len\": 22.5, \"idx_rep\": 0, \"rmse\": 1.667383605799484, \"rmse_stand\": 0.21040574173014598}, {\"method\": \"ERA\", \"var\": \"TA\", \"gap_len\": 22.5, \"idx_rep\": 1, \"rmse\": 1.3032615922284283, \"rmse_stand\": 0.16445748958276005}, {\"method\": \"ERA\", \"var\": \"TA\", \"gap_len\": 22.5, \"idx_rep\": 2, \"rmse\": 2.108127357527423, \"rmse_stand\": 0.26602282688841067}, {\"method\": \"ERA\", \"var\": \"TA\", \"gap_len\": 22.5, \"idx_rep\": 3, \"rmse\": 0.9962245284628918, \"rmse_stand\": 0.12571273947514577}, {\"method\": \"ERA\", \"var\": \"TA\", \"gap_len\": 22.5, \"idx_rep\": 4, \"rmse\": 0.7051317607369562, \"rmse_stand\": 0.08897998674048677}, {\"method\": \"MDS\", \"var\": \"TA\", \"gap_len\": 22.5, \"idx_rep\": 0, \"rmse\": 2.285323794678169, \"rmse_stand\": 0.28838309699120157}, {\"method\": \"MDS\", \"var\": \"TA\", \"gap_len\": 22.5, \"idx_rep\": 1, \"rmse\": 2.0471406981319173, \"rmse_stand\": 0.25832697138094185}, {\"method\": \"MDS\", \"var\": \"TA\", \"gap_len\": 22.5, \"idx_rep\": 2, \"rmse\": 2.372916288158608, \"rmse_stand\": 0.29943632043459023}, {\"method\": \"MDS\", \"var\": \"TA\", \"gap_len\": 22.5, \"idx_rep\": 3, \"rmse\": 1.880445459034662, \"rmse_stand\": 0.2372918386717386}, {\"method\": \"MDS\", \"var\": \"TA\", \"gap_len\": 22.5, \"idx_rep\": 4, \"rmse\": 2.030413253818859, \"rmse_stand\": 0.2562161491828004}], \"data-90166fd4a71f41e3483e1d308ae1df3f\": [{\"method\": \"KalmanFilter\", \"var\": \"SW_IN\", \"gap_len\": 2.5, \"idx_rep\": 0, \"rmse\": 190.09913902131657, \"rmse_stand\": 0.9318468267638063}, {\"method\": \"KalmanFilter\", \"var\": \"SW_IN\", \"gap_len\": 2.5, \"idx_rep\": 1, \"rmse\": 49.21839339415338, \"rmse_stand\": 0.24126360560534468}, {\"method\": \"KalmanFilter\", \"var\": \"SW_IN\", \"gap_len\": 2.5, \"idx_rep\": 2, \"rmse\": 26.177013703672745, \"rmse_stand\": 0.12831708380954235}, {\"method\": \"KalmanFilter\", \"var\": \"SW_IN\", \"gap_len\": 2.5, \"idx_rep\": 3, \"rmse\": 10.297807264588364, \"rmse_stand\": 0.05047881369444763}, {\"method\": \"KalmanFilter\", \"var\": \"SW_IN\", \"gap_len\": 2.5, \"idx_rep\": 4, \"rmse\": 5.383079865402994, \"rmse_stand\": 0.026387315148383866}, {\"method\": \"ERA\", \"var\": \"SW_IN\", \"gap_len\": 2.5, \"idx_rep\": 0, \"rmse\": 226.71763952943755, \"rmse_stand\": 1.1113470268963015}, {\"method\": \"ERA\", \"var\": \"SW_IN\", \"gap_len\": 2.5, \"idx_rep\": 1, \"rmse\": 106.967430378597, \"rmse_stand\": 0.5243435666176098}, {\"method\": \"ERA\", \"var\": \"SW_IN\", \"gap_len\": 2.5, \"idx_rep\": 2, \"rmse\": 0.0, \"rmse_stand\": 0.0}, {\"method\": \"ERA\", \"var\": \"SW_IN\", \"gap_len\": 2.5, \"idx_rep\": 3, \"rmse\": 20.03160425427779, \"rmse_stand\": 0.09819290584605954}, {\"method\": \"ERA\", \"var\": \"SW_IN\", \"gap_len\": 2.5, \"idx_rep\": 4, \"rmse\": 0.0, \"rmse_stand\": 0.0}, {\"method\": \"MDS\", \"var\": \"SW_IN\", \"gap_len\": 2.5, \"idx_rep\": 0, \"rmse\": 203.68295492825962, \"rmse_stand\": 0.9984333237537226}, {\"method\": \"MDS\", \"var\": \"SW_IN\", \"gap_len\": 2.5, \"idx_rep\": 1, \"rmse\": 56.693166616168064, \"rmse_stand\": 0.2779041908471979}, {\"method\": \"MDS\", \"var\": \"SW_IN\", \"gap_len\": 2.5, \"idx_rep\": 2, \"rmse\": 0.0, \"rmse_stand\": 0.0}, {\"method\": \"MDS\", \"var\": \"SW_IN\", \"gap_len\": 2.5, \"idx_rep\": 3, \"rmse\": 7.710506345616034, \"rmse_stand\": 0.037796125263349085}, {\"method\": \"MDS\", \"var\": \"SW_IN\", \"gap_len\": 2.5, \"idx_rep\": 4, \"rmse\": 0.0, \"rmse_stand\": 0.0}, {\"method\": \"KalmanFilter\", \"var\": \"SW_IN\", \"gap_len\": 5.0, \"idx_rep\": 0, \"rmse\": 47.70346067201218, \"rmse_stand\": 0.2338375580327166}, {\"method\": \"KalmanFilter\", \"var\": \"SW_IN\", \"gap_len\": 5.0, \"idx_rep\": 1, \"rmse\": 29.676779166986936, \"rmse_stand\": 0.1454725815050958}, {\"method\": \"KalmanFilter\", \"var\": \"SW_IN\", \"gap_len\": 5.0, \"idx_rep\": 2, \"rmse\": 32.89706145333922, \"rmse_stand\": 0.16125808082545082}, {\"method\": \"KalmanFilter\", \"var\": \"SW_IN\", \"gap_len\": 5.0, \"idx_rep\": 3, \"rmse\": 51.410734516408716, \"rmse_stand\": 0.2520102409056148}, {\"method\": \"KalmanFilter\", \"var\": \"SW_IN\", \"gap_len\": 5.0, \"idx_rep\": 4, \"rmse\": 21.583705190775863, \"rmse_stand\": 0.10580114826072233}, {\"method\": \"ERA\", \"var\": \"SW_IN\", \"gap_len\": 5.0, \"idx_rep\": 0, \"rmse\": 0.3225523213371747, \"rmse_stand\": 0.0015811189816574696}, {\"method\": \"ERA\", \"var\": \"SW_IN\", \"gap_len\": 5.0, \"idx_rep\": 1, \"rmse\": 59.8714043805555, \"rmse_stand\": 0.29348359215691777}, {\"method\": \"ERA\", \"var\": \"SW_IN\", \"gap_len\": 5.0, \"idx_rep\": 2, \"rmse\": 0.0, \"rmse_stand\": 0.0}, {\"method\": \"ERA\", \"var\": \"SW_IN\", \"gap_len\": 5.0, \"idx_rep\": 3, \"rmse\": 0.0, \"rmse_stand\": 0.0}, {\"method\": \"ERA\", \"var\": \"SW_IN\", \"gap_len\": 5.0, \"idx_rep\": 4, \"rmse\": 13.338528093459189, \"rmse_stand\": 0.06538412084126305}, {\"method\": \"MDS\", \"var\": \"SW_IN\", \"gap_len\": 5.0, \"idx_rep\": 0, \"rmse\": 5.924459982644022, \"rmse_stand\": 0.02904110593839633}, {\"method\": \"MDS\", \"var\": \"SW_IN\", \"gap_len\": 5.0, \"idx_rep\": 1, \"rmse\": 39.57447171991995, \"rmse_stand\": 0.19399007319505107}, {\"method\": \"MDS\", \"var\": \"SW_IN\", \"gap_len\": 5.0, \"idx_rep\": 2, \"rmse\": 0.0, \"rmse_stand\": 0.0}, {\"method\": \"MDS\", \"var\": \"SW_IN\", \"gap_len\": 5.0, \"idx_rep\": 3, \"rmse\": 0.0, \"rmse_stand\": 0.0}, {\"method\": \"MDS\", \"var\": \"SW_IN\", \"gap_len\": 5.0, \"idx_rep\": 4, \"rmse\": 17.4763607256079, \"rmse_stand\": 0.08566735951240262}, {\"method\": \"KalmanFilter\", \"var\": \"SW_IN\", \"gap_len\": 10.0, \"idx_rep\": 0, \"rmse\": 113.96809836865074, \"rmse_stand\": 0.5586601357790674}, {\"method\": \"KalmanFilter\", \"var\": \"SW_IN\", \"gap_len\": 10.0, \"idx_rep\": 1, \"rmse\": 114.14234927322714, \"rmse_stand\": 0.559514296157311}, {\"method\": \"KalmanFilter\", \"var\": \"SW_IN\", \"gap_len\": 10.0, \"idx_rep\": 2, \"rmse\": 24.311262989267203, \"rmse_stand\": 0.11917136178417244}, {\"method\": \"KalmanFilter\", \"var\": \"SW_IN\", \"gap_len\": 10.0, \"idx_rep\": 3, \"rmse\": 70.71423825946418, \"rmse_stand\": 0.34663407140267155}, {\"method\": \"KalmanFilter\", \"var\": \"SW_IN\", \"gap_len\": 10.0, \"idx_rep\": 4, \"rmse\": 65.94746344490703, \"rmse_stand\": 0.32326782152005307}, {\"method\": \"ERA\", \"var\": \"SW_IN\", \"gap_len\": 10.0, \"idx_rep\": 0, \"rmse\": 128.36896992575737, \"rmse_stand\": 0.6292517572467384}, {\"method\": \"ERA\", \"var\": \"SW_IN\", \"gap_len\": 10.0, \"idx_rep\": 1, \"rmse\": 202.27108194697533, \"rmse_stand\": 0.9915124646473813}, {\"method\": \"ERA\", \"var\": \"SW_IN\", \"gap_len\": 10.0, \"idx_rep\": 2, \"rmse\": 8.929423209256019, \"rmse_stand\": 0.04377113292156075}, {\"method\": \"ERA\", \"var\": \"SW_IN\", \"gap_len\": 10.0, \"idx_rep\": 3, \"rmse\": 63.874882284823045, \"rmse_stand\": 0.31310823748838557}, {\"method\": \"ERA\", \"var\": \"SW_IN\", \"gap_len\": 10.0, \"idx_rep\": 4, \"rmse\": 63.59749815519475, \"rmse_stand\": 0.31174852843173495}, {\"method\": \"MDS\", \"var\": \"SW_IN\", \"gap_len\": 10.0, \"idx_rep\": 0, \"rmse\": 197.7548021609146, \"rmse_stand\": 0.9693741161567746}, {\"method\": \"MDS\", \"var\": \"SW_IN\", \"gap_len\": 10.0, \"idx_rep\": 1, \"rmse\": 126.35930456701931, \"rmse_stand\": 0.6194005801344254}, {\"method\": \"MDS\", \"var\": \"SW_IN\", \"gap_len\": 10.0, \"idx_rep\": 2, \"rmse\": 11.69406587379872, \"rmse_stand\": 0.057323132722049426}, {\"method\": \"MDS\", \"var\": \"SW_IN\", \"gap_len\": 10.0, \"idx_rep\": 3, \"rmse\": 75.86027950442896, \"rmse_stand\": 0.37185944711559565}, {\"method\": \"MDS\", \"var\": \"SW_IN\", \"gap_len\": 10.0, \"idx_rep\": 4, \"rmse\": 93.75999514125422, \"rmse_stand\": 0.4596020497492653}, {\"method\": \"KalmanFilter\", \"var\": \"SW_IN\", \"gap_len\": 22.5, \"idx_rep\": 0, \"rmse\": 123.92483025030573, \"rmse_stand\": 0.6074670323101339}, {\"method\": \"KalmanFilter\", \"var\": \"SW_IN\", \"gap_len\": 22.5, \"idx_rep\": 1, \"rmse\": 66.1532423186051, \"rmse_stand\": 0.32427652882645003}, {\"method\": \"KalmanFilter\", \"var\": \"SW_IN\", \"gap_len\": 22.5, \"idx_rep\": 2, \"rmse\": 34.1542955804012, \"rmse_stand\": 0.16742091584844634}, {\"method\": \"KalmanFilter\", \"var\": \"SW_IN\", \"gap_len\": 22.5, \"idx_rep\": 3, \"rmse\": 52.67158213966747, \"rmse_stand\": 0.2581907889229028}, {\"method\": \"KalmanFilter\", \"var\": \"SW_IN\", \"gap_len\": 22.5, \"idx_rep\": 4, \"rmse\": 27.97643102886275, \"rmse_stand\": 0.13713764624414704}, {\"method\": \"ERA\", \"var\": \"SW_IN\", \"gap_len\": 22.5, \"idx_rep\": 0, \"rmse\": 166.69426640676306, \"rmse_stand\": 0.8171184992765513}, {\"method\": \"ERA\", \"var\": \"SW_IN\", \"gap_len\": 22.5, \"idx_rep\": 1, \"rmse\": 106.04031443936782, \"rmse_stand\": 0.5197989376915632}, {\"method\": \"ERA\", \"var\": \"SW_IN\", \"gap_len\": 22.5, \"idx_rep\": 2, \"rmse\": 34.402950433873485, \"rmse_stand\": 0.1686397968878896}, {\"method\": \"ERA\", \"var\": \"SW_IN\", \"gap_len\": 22.5, \"idx_rep\": 3, \"rmse\": 70.29130814877944, \"rmse_stand\": 0.3445609106108163}, {\"method\": \"ERA\", \"var\": \"SW_IN\", \"gap_len\": 22.5, \"idx_rep\": 4, \"rmse\": 38.020916921259705, \"rmse_stand\": 0.1863747040945477}, {\"method\": \"MDS\", \"var\": \"SW_IN\", \"gap_len\": 22.5, \"idx_rep\": 0, \"rmse\": 187.9939061991956, \"rmse_stand\": 0.921527187574528}, {\"method\": \"MDS\", \"var\": \"SW_IN\", \"gap_len\": 22.5, \"idx_rep\": 1, \"rmse\": 106.93530013475957, \"rmse_stand\": 0.5241860673994798}, {\"method\": \"MDS\", \"var\": \"SW_IN\", \"gap_len\": 22.5, \"idx_rep\": 2, \"rmse\": 29.948687926633866, \"rmse_stand\": 0.14680545084974791}, {\"method\": \"MDS\", \"var\": \"SW_IN\", \"gap_len\": 22.5, \"idx_rep\": 3, \"rmse\": 170.95760776247306, \"rmse_stand\": 0.8380169690654323}, {\"method\": \"MDS\", \"var\": \"SW_IN\", \"gap_len\": 22.5, \"idx_rep\": 4, \"rmse\": 73.08215120668197, \"rmse_stand\": 0.35824134209983344}]}}, {\"mode\": \"vega-lite\"});\n",
       "</script>"
      ],
      "text/plain": [
       "alt.VConcatChart(...)"
      ]
     },
     "execution_count": null,
     "metadata": {},
     "output_type": "execute_result"
    }
   ],
   "source": [
    "the_plot(data_results)"
   ]
  },
  {
   "cell_type": "code",
   "execution_count": null,
   "id": "cb51b2b7-bd59-4d95-9f2c-6b04a502ca3a",
   "metadata": {},
   "outputs": [],
   "source": [
    "#| export\n",
    "def the_plot_stand(data):\n",
    "    # data = data.query(\"method == 'KalmanFilter'\")\n",
    "    return alt.Chart(data).mark_boxplot(extent=\"min-max\").encode(\n",
    "        x = alt.X('var', title='gap_len [h]', axis=alt.Axis(labelAngle=0)),\n",
    "        y = alt.Y('rmse_stand', title=\"RMSE Standardized\", axis=alt.Axis(grid=True)),\n",
    "        color=alt.Color('method', scale=method_scale),\n",
    "        xOffset=alt.XOffset('method:N', scale= alt.Scale(domain=method_scale.domain)),\n",
    "    ).properties(width=500, height=300).configure_legend(orient=\"bottom\")"
   ]
  },
  {
   "cell_type": "code",
   "execution_count": null,
   "id": "cd9ca711-f4d8-4d7e-a1a8-2dd33c804e76",
   "metadata": {},
   "outputs": [],
   "source": [
    "#| export\n",
    "def the_plot_stand2(data):\n",
    "     return _the_plot(data, y='rmse_stand', y_label=\"RMSE Standardized\").facet(alt.Row('var',sort=list(var_type.categories)) , columns=3)"
   ]
  },
  {
   "cell_type": "code",
   "execution_count": null,
   "id": "fd057079-1b1d-4e09-9a14-93f8c4aca9ae",
   "metadata": {},
   "outputs": [
    {
     "data": {
      "text/plain": [
       "{'TA': '#1B9E77',\n",
       " 'SW_IN': '#D95F02',\n",
       " 'LW_IN': '#7570B3',\n",
       " 'VPD': '#E7298A',\n",
       " 'WS': '#66A61E',\n",
       " 'PA': '#E6AB02',\n",
       " 'SWC': '#A6761D',\n",
       " 'TS': '#666666'}"
      ]
     },
     "execution_count": null,
     "metadata": {},
     "output_type": "execute_result"
    }
   ],
   "source": [
    "dict(zip(scale_meteo.domain, scale_meteo.range))"
   ]
  },
  {
   "cell_type": "code",
   "execution_count": null,
   "id": "10eb1cca-b973-42d4-a6ec-4fd27c315105",
   "metadata": {},
   "outputs": [
    {
     "data": {
      "text/html": [
       "\n",
       "<div id=\"altair-viz-5364a3b2fc54439dbd094cae44332f1d\"></div>\n",
       "<script type=\"text/javascript\">\n",
       "  var VEGA_DEBUG = (typeof VEGA_DEBUG == \"undefined\") ? {} : VEGA_DEBUG;\n",
       "  (function(spec, embedOpt){\n",
       "    let outputDiv = document.currentScript.previousElementSibling;\n",
       "    if (outputDiv.id !== \"altair-viz-5364a3b2fc54439dbd094cae44332f1d\") {\n",
       "      outputDiv = document.getElementById(\"altair-viz-5364a3b2fc54439dbd094cae44332f1d\");\n",
       "    }\n",
       "    const paths = {\n",
       "      \"vega\": \"https://cdn.jsdelivr.net/npm/vega@5?noext\",\n",
       "      \"vega-lib\": \"https://cdn.jsdelivr.net/npm/vega-lib?noext\",\n",
       "      \"vega-lite\": \"https://cdn.jsdelivr.net/npm/vega-lite@5.2.0?noext\",\n",
       "      \"vega-embed\": \"https://cdn.jsdelivr.net/npm/vega-embed@6?noext\",\n",
       "    };\n",
       "\n",
       "    function maybeLoadScript(lib, version) {\n",
       "      var key = `${lib.replace(\"-\", \"\")}_version`;\n",
       "      return (VEGA_DEBUG[key] == version) ?\n",
       "        Promise.resolve(paths[lib]) :\n",
       "        new Promise(function(resolve, reject) {\n",
       "          var s = document.createElement('script');\n",
       "          document.getElementsByTagName(\"head\")[0].appendChild(s);\n",
       "          s.async = true;\n",
       "          s.onload = () => {\n",
       "            VEGA_DEBUG[key] = version;\n",
       "            return resolve(paths[lib]);\n",
       "          };\n",
       "          s.onerror = () => reject(`Error loading script: ${paths[lib]}`);\n",
       "          s.src = paths[lib];\n",
       "        });\n",
       "    }\n",
       "\n",
       "    function showError(err) {\n",
       "      outputDiv.innerHTML = `<div class=\"error\" style=\"color:red;\">${err}</div>`;\n",
       "      throw err;\n",
       "    }\n",
       "\n",
       "    function displayChart(vegaEmbed) {\n",
       "      vegaEmbed(outputDiv, spec, embedOpt)\n",
       "        .catch(err => showError(`Javascript Error: ${err.message}<br>This usually means there's a typo in your chart specification. See the javascript console for the full traceback.`));\n",
       "    }\n",
       "\n",
       "    if(typeof define === \"function\" && define.amd) {\n",
       "      requirejs.config({paths});\n",
       "      require([\"vega-embed\"], displayChart, err => showError(`Error loading script: ${err.message}`));\n",
       "    } else {\n",
       "      maybeLoadScript(\"vega\", \"5\")\n",
       "        .then(() => maybeLoadScript(\"vega-lite\", \"5.2.0\"))\n",
       "        .then(() => maybeLoadScript(\"vega-embed\", \"6\"))\n",
       "        .catch(showError)\n",
       "        .then(() => displayChart(vegaEmbed));\n",
       "    }\n",
       "  })({\"config\": {\"view\": {\"continuousWidth\": 300, \"continuousHeight\": 300}, \"legend\": {\"orient\": \"bottom\"}}, \"data\": {\"name\": \"data-4df2c5234880b2411871d564e0b16182\"}, \"mark\": {\"type\": \"boxplot\", \"extent\": \"min-max\"}, \"encoding\": {\"color\": {\"field\": \"method\", \"scale\": {\"domain\": [\"KalmanFilter\", \"ERA\", \"MDS\"], \"scheme\": \"dark2\"}, \"sort\": [\"KalmanFilter\", \"ERA\", \"MDS\"], \"type\": \"ordinal\"}, \"x\": {\"axis\": {\"labelAngle\": 0}, \"field\": \"var\", \"sort\": [\"TA\", \"SW_IN\", \"LW_IN\", \"VPD\", \"WS\", \"PA\", \"P\", \"SWC\", \"TS\"], \"title\": \"gap_len [h]\", \"type\": \"ordinal\"}, \"xOffset\": {\"field\": \"method\", \"scale\": {\"domain\": [\"KalmanFilter\", \"ERA\", \"MDS\"]}, \"type\": \"nominal\"}, \"y\": {\"axis\": {\"grid\": true}, \"field\": \"rmse_stand\", \"title\": \"RMSE Standardized\", \"type\": \"quantitative\"}}, \"height\": 300, \"width\": 500, \"$schema\": \"https://vega.github.io/schema/vega-lite/v5.2.0.json\", \"datasets\": {\"data-4df2c5234880b2411871d564e0b16182\": [{\"method\": \"KalmanFilter\", \"var\": \"TA\", \"gap_len\": 2.5, \"idx_rep\": 0, \"rmse\": 0.45859917867745875, \"rmse_stand\": 0.05787024654125715}, {\"method\": \"KalmanFilter\", \"var\": \"TA\", \"gap_len\": 2.5, \"idx_rep\": 1, \"rmse\": 0.1565318544722203, \"rmse_stand\": 0.019752623709425807}, {\"method\": \"KalmanFilter\", \"var\": \"TA\", \"gap_len\": 2.5, \"idx_rep\": 2, \"rmse\": 0.17439920963505967, \"rmse_stand\": 0.022007290303673988}, {\"method\": \"KalmanFilter\", \"var\": \"TA\", \"gap_len\": 2.5, \"idx_rep\": 3, \"rmse\": 0.36132286304577765, \"rmse_stand\": 0.04559502968529807}, {\"method\": \"KalmanFilter\", \"var\": \"TA\", \"gap_len\": 2.5, \"idx_rep\": 4, \"rmse\": 0.6554024098455221, \"rmse_stand\": 0.08270468157155182}, {\"method\": \"ERA\", \"var\": \"TA\", \"gap_len\": 2.5, \"idx_rep\": 0, \"rmse\": 1.4494880475533438, \"rmse_stand\": 0.18290968359869958}, {\"method\": \"ERA\", \"var\": \"TA\", \"gap_len\": 2.5, \"idx_rep\": 1, \"rmse\": 2.161609585470975, \"rmse_stand\": 0.2727717044716518}, {\"method\": \"ERA\", \"var\": \"TA\", \"gap_len\": 2.5, \"idx_rep\": 2, \"rmse\": 3.079831748651215, \"rmse_stand\": 0.3886413907544082}, {\"method\": \"ERA\", \"var\": \"TA\", \"gap_len\": 2.5, \"idx_rep\": 3, \"rmse\": 0.2689706303669617, \"rmse_stand\": 0.03394117873604142}, {\"method\": \"ERA\", \"var\": \"TA\", \"gap_len\": 2.5, \"idx_rep\": 4, \"rmse\": 0.9925782588793692, \"rmse_stand\": 0.12525261976807855}, {\"method\": \"MDS\", \"var\": \"TA\", \"gap_len\": 2.5, \"idx_rep\": 0, \"rmse\": 3.836379180880156, \"rmse_stand\": 0.4841094780490788}, {\"method\": \"MDS\", \"var\": \"TA\", \"gap_len\": 2.5, \"idx_rep\": 1, \"rmse\": 1.4774830321552226, \"rmse_stand\": 0.1864423472757291}, {\"method\": \"MDS\", \"var\": \"TA\", \"gap_len\": 2.5, \"idx_rep\": 2, \"rmse\": 1.9375648552665787, \"rmse_stand\": 0.24449968747722806}, {\"method\": \"MDS\", \"var\": \"TA\", \"gap_len\": 2.5, \"idx_rep\": 3, \"rmse\": 5.648068036692516, \"rmse_stand\": 0.712724978504755}, {\"method\": \"MDS\", \"var\": \"TA\", \"gap_len\": 2.5, \"idx_rep\": 4, \"rmse\": 0.3964013964302305, \"rmse_stand\": 0.05002156045475621}, {\"method\": \"KalmanFilter\", \"var\": \"TA\", \"gap_len\": 5.0, \"idx_rep\": 0, \"rmse\": 0.2688583185422039, \"rmse_stand\": 0.033927006200872516}, {\"method\": \"KalmanFilter\", \"var\": \"TA\", \"gap_len\": 5.0, \"idx_rep\": 1, \"rmse\": 1.2202396323108624, \"rmse_stand\": 0.15398101794444732}, {\"method\": \"KalmanFilter\", \"var\": \"TA\", \"gap_len\": 5.0, \"idx_rep\": 2, \"rmse\": 0.5364031724956462, \"rmse_stand\": 0.06768826740456896}, {\"method\": \"KalmanFilter\", \"var\": \"TA\", \"gap_len\": 5.0, \"idx_rep\": 3, \"rmse\": 0.8466554501787661, \"rmse_stand\": 0.10683874266552962}, {\"method\": \"KalmanFilter\", \"var\": \"TA\", \"gap_len\": 5.0, \"idx_rep\": 4, \"rmse\": 0.22290406604227006, \"rmse_stand\": 0.02812807753846262}, {\"method\": \"ERA\", \"var\": \"TA\", \"gap_len\": 5.0, \"idx_rep\": 0, \"rmse\": 0.6161552564086423, \"rmse_stand\": 0.07775211612652692}, {\"method\": \"ERA\", \"var\": \"TA\", \"gap_len\": 5.0, \"idx_rep\": 1, \"rmse\": 2.699802622415201, \"rmse_stand\": 0.34068583337299324}, {\"method\": \"ERA\", \"var\": \"TA\", \"gap_len\": 5.0, \"idx_rep\": 2, \"rmse\": 2.47888904552019, \"rmse_stand\": 0.31280893399412035}, {\"method\": \"ERA\", \"var\": \"TA\", \"gap_len\": 5.0, \"idx_rep\": 3, \"rmse\": 1.092673418730409, \"rmse_stand\": 0.13788354421689927}, {\"method\": \"ERA\", \"var\": \"TA\", \"gap_len\": 5.0, \"idx_rep\": 4, \"rmse\": 0.4736103883995789, \"rmse_stand\": 0.05976449853273876}, {\"method\": \"MDS\", \"var\": \"TA\", \"gap_len\": 5.0, \"idx_rep\": 0, \"rmse\": 0.37018423676457685, \"rmse_stand\": 0.04671323901851145}, {\"method\": \"MDS\", \"var\": \"TA\", \"gap_len\": 5.0, \"idx_rep\": 1, \"rmse\": 2.5049789719717106, \"rmse_stand\": 0.31610119997755914}, {\"method\": \"MDS\", \"var\": \"TA\", \"gap_len\": 5.0, \"idx_rep\": 2, \"rmse\": 1.3607584787271558, \"rmse_stand\": 0.1717129735690849}, {\"method\": \"MDS\", \"var\": \"TA\", \"gap_len\": 5.0, \"idx_rep\": 3, \"rmse\": 3.518030450205353, \"rmse_stand\": 0.44393731816127335}, {\"method\": \"MDS\", \"var\": \"TA\", \"gap_len\": 5.0, \"idx_rep\": 4, \"rmse\": 0.3487218153797257, \"rmse_stand\": 0.0440049140265314}, {\"method\": \"KalmanFilter\", \"var\": \"TA\", \"gap_len\": 10.0, \"idx_rep\": 0, \"rmse\": 0.3093641609454863, \"rmse_stand\": 0.03903840455313145}, {\"method\": \"KalmanFilter\", \"var\": \"TA\", \"gap_len\": 10.0, \"idx_rep\": 1, \"rmse\": 1.128727890568843, \"rmse_stand\": 0.14243322784307175}, {\"method\": \"KalmanFilter\", \"var\": \"TA\", \"gap_len\": 10.0, \"idx_rep\": 2, \"rmse\": 0.23575566323259534, \"rmse_stand\": 0.029749809832004575}, {\"method\": \"KalmanFilter\", \"var\": \"TA\", \"gap_len\": 10.0, \"idx_rep\": 3, \"rmse\": 0.7054704330482424, \"rmse_stand\": 0.08902272351600249}, {\"method\": \"KalmanFilter\", \"var\": \"TA\", \"gap_len\": 10.0, \"idx_rep\": 4, \"rmse\": 0.6711296732361712, \"rmse_stand\": 0.08468929177617732}, {\"method\": \"ERA\", \"var\": \"TA\", \"gap_len\": 10.0, \"idx_rep\": 0, \"rmse\": 0.6373100109052111, \"rmse_stand\": 0.0804216168913707}, {\"method\": \"ERA\", \"var\": \"TA\", \"gap_len\": 10.0, \"idx_rep\": 1, \"rmse\": 3.3073337448766793, \"rmse_stand\": 0.417349677254536}, {\"method\": \"ERA\", \"var\": \"TA\", \"gap_len\": 10.0, \"idx_rep\": 2, \"rmse\": 0.5084344598864242, \"rmse_stand\": 0.06415891896830497}, {\"method\": \"ERA\", \"var\": \"TA\", \"gap_len\": 10.0, \"idx_rep\": 3, \"rmse\": 1.0420521100213753, \"rmse_stand\": 0.13149568363746894}, {\"method\": \"ERA\", \"var\": \"TA\", \"gap_len\": 10.0, \"idx_rep\": 4, \"rmse\": 1.3107373306654544, \"rmse_stand\": 0.16540084675944816}, {\"method\": \"MDS\", \"var\": \"TA\", \"gap_len\": 10.0, \"idx_rep\": 0, \"rmse\": 1.909987068089248, \"rmse_stand\": 0.24101966959403665}, {\"method\": \"MDS\", \"var\": \"TA\", \"gap_len\": 10.0, \"idx_rep\": 1, \"rmse\": 0.9628557873659838, \"rmse_stand\": 0.12150196596347405}, {\"method\": \"MDS\", \"var\": \"TA\", \"gap_len\": 10.0, \"idx_rep\": 2, \"rmse\": 1.2267196441453094, \"rmse_stand\": 0.15479872521451082}, {\"method\": \"MDS\", \"var\": \"TA\", \"gap_len\": 10.0, \"idx_rep\": 3, \"rmse\": 2.680745456962698, \"rmse_stand\": 0.33828102561408196}, {\"method\": \"MDS\", \"var\": \"TA\", \"gap_len\": 10.0, \"idx_rep\": 4, \"rmse\": 1.3269395749489976, \"rmse_stand\": 0.16744539440542153}, {\"method\": \"KalmanFilter\", \"var\": \"TA\", \"gap_len\": 22.5, \"idx_rep\": 0, \"rmse\": 0.5864129798979331, \"rmse_stand\": 0.07399896314588557}, {\"method\": \"KalmanFilter\", \"var\": \"TA\", \"gap_len\": 22.5, \"idx_rep\": 1, \"rmse\": 0.2843142695520981, \"rmse_stand\": 0.03587737972324039}, {\"method\": \"KalmanFilter\", \"var\": \"TA\", \"gap_len\": 22.5, \"idx_rep\": 2, \"rmse\": 0.7435215897867138, \"rmse_stand\": 0.09382436713862241}, {\"method\": \"KalmanFilter\", \"var\": \"TA\", \"gap_len\": 22.5, \"idx_rep\": 3, \"rmse\": 0.5667248001907798, \"rmse_stand\": 0.07151452822629564}, {\"method\": \"KalmanFilter\", \"var\": \"TA\", \"gap_len\": 22.5, \"idx_rep\": 4, \"rmse\": 0.3841439659959281, \"rmse_stand\": 0.048474805566879976}, {\"method\": \"ERA\", \"var\": \"TA\", \"gap_len\": 22.5, \"idx_rep\": 0, \"rmse\": 1.667383605799484, \"rmse_stand\": 0.21040574173014598}, {\"method\": \"ERA\", \"var\": \"TA\", \"gap_len\": 22.5, \"idx_rep\": 1, \"rmse\": 1.3032615922284283, \"rmse_stand\": 0.16445748958276005}, {\"method\": \"ERA\", \"var\": \"TA\", \"gap_len\": 22.5, \"idx_rep\": 2, \"rmse\": 2.108127357527423, \"rmse_stand\": 0.26602282688841067}, {\"method\": \"ERA\", \"var\": \"TA\", \"gap_len\": 22.5, \"idx_rep\": 3, \"rmse\": 0.9962245284628918, \"rmse_stand\": 0.12571273947514577}, {\"method\": \"ERA\", \"var\": \"TA\", \"gap_len\": 22.5, \"idx_rep\": 4, \"rmse\": 0.7051317607369562, \"rmse_stand\": 0.08897998674048677}, {\"method\": \"MDS\", \"var\": \"TA\", \"gap_len\": 22.5, \"idx_rep\": 0, \"rmse\": 2.285323794678169, \"rmse_stand\": 0.28838309699120157}, {\"method\": \"MDS\", \"var\": \"TA\", \"gap_len\": 22.5, \"idx_rep\": 1, \"rmse\": 2.0471406981319173, \"rmse_stand\": 0.25832697138094185}, {\"method\": \"MDS\", \"var\": \"TA\", \"gap_len\": 22.5, \"idx_rep\": 2, \"rmse\": 2.372916288158608, \"rmse_stand\": 0.29943632043459023}, {\"method\": \"MDS\", \"var\": \"TA\", \"gap_len\": 22.5, \"idx_rep\": 3, \"rmse\": 1.880445459034662, \"rmse_stand\": 0.2372918386717386}, {\"method\": \"MDS\", \"var\": \"TA\", \"gap_len\": 22.5, \"idx_rep\": 4, \"rmse\": 2.030413253818859, \"rmse_stand\": 0.2562161491828004}, {\"method\": \"KalmanFilter\", \"var\": \"SW_IN\", \"gap_len\": 2.5, \"idx_rep\": 0, \"rmse\": 190.09913902131657, \"rmse_stand\": 0.9318468267638063}, {\"method\": \"KalmanFilter\", \"var\": \"SW_IN\", \"gap_len\": 2.5, \"idx_rep\": 1, \"rmse\": 49.21839339415338, \"rmse_stand\": 0.24126360560534468}, {\"method\": \"KalmanFilter\", \"var\": \"SW_IN\", \"gap_len\": 2.5, \"idx_rep\": 2, \"rmse\": 26.177013703672745, \"rmse_stand\": 0.12831708380954235}, {\"method\": \"KalmanFilter\", \"var\": \"SW_IN\", \"gap_len\": 2.5, \"idx_rep\": 3, \"rmse\": 10.297807264588364, \"rmse_stand\": 0.05047881369444763}, {\"method\": \"KalmanFilter\", \"var\": \"SW_IN\", \"gap_len\": 2.5, \"idx_rep\": 4, \"rmse\": 5.383079865402994, \"rmse_stand\": 0.026387315148383866}, {\"method\": \"ERA\", \"var\": \"SW_IN\", \"gap_len\": 2.5, \"idx_rep\": 0, \"rmse\": 226.71763952943755, \"rmse_stand\": 1.1113470268963015}, {\"method\": \"ERA\", \"var\": \"SW_IN\", \"gap_len\": 2.5, \"idx_rep\": 1, \"rmse\": 106.967430378597, \"rmse_stand\": 0.5243435666176098}, {\"method\": \"ERA\", \"var\": \"SW_IN\", \"gap_len\": 2.5, \"idx_rep\": 2, \"rmse\": 0.0, \"rmse_stand\": 0.0}, {\"method\": \"ERA\", \"var\": \"SW_IN\", \"gap_len\": 2.5, \"idx_rep\": 3, \"rmse\": 20.03160425427779, \"rmse_stand\": 0.09819290584605954}, {\"method\": \"ERA\", \"var\": \"SW_IN\", \"gap_len\": 2.5, \"idx_rep\": 4, \"rmse\": 0.0, \"rmse_stand\": 0.0}, {\"method\": \"MDS\", \"var\": \"SW_IN\", \"gap_len\": 2.5, \"idx_rep\": 0, \"rmse\": 203.68295492825962, \"rmse_stand\": 0.9984333237537226}, {\"method\": \"MDS\", \"var\": \"SW_IN\", \"gap_len\": 2.5, \"idx_rep\": 1, \"rmse\": 56.693166616168064, \"rmse_stand\": 0.2779041908471979}, {\"method\": \"MDS\", \"var\": \"SW_IN\", \"gap_len\": 2.5, \"idx_rep\": 2, \"rmse\": 0.0, \"rmse_stand\": 0.0}, {\"method\": \"MDS\", \"var\": \"SW_IN\", \"gap_len\": 2.5, \"idx_rep\": 3, \"rmse\": 7.710506345616034, \"rmse_stand\": 0.037796125263349085}, {\"method\": \"MDS\", \"var\": \"SW_IN\", \"gap_len\": 2.5, \"idx_rep\": 4, \"rmse\": 0.0, \"rmse_stand\": 0.0}, {\"method\": \"KalmanFilter\", \"var\": \"SW_IN\", \"gap_len\": 5.0, \"idx_rep\": 0, \"rmse\": 47.70346067201218, \"rmse_stand\": 0.2338375580327166}, {\"method\": \"KalmanFilter\", \"var\": \"SW_IN\", \"gap_len\": 5.0, \"idx_rep\": 1, \"rmse\": 29.676779166986936, \"rmse_stand\": 0.1454725815050958}, {\"method\": \"KalmanFilter\", \"var\": \"SW_IN\", \"gap_len\": 5.0, \"idx_rep\": 2, \"rmse\": 32.89706145333922, \"rmse_stand\": 0.16125808082545082}, {\"method\": \"KalmanFilter\", \"var\": \"SW_IN\", \"gap_len\": 5.0, \"idx_rep\": 3, \"rmse\": 51.410734516408716, \"rmse_stand\": 0.2520102409056148}, {\"method\": \"KalmanFilter\", \"var\": \"SW_IN\", \"gap_len\": 5.0, \"idx_rep\": 4, \"rmse\": 21.583705190775863, \"rmse_stand\": 0.10580114826072233}, {\"method\": \"ERA\", \"var\": \"SW_IN\", \"gap_len\": 5.0, \"idx_rep\": 0, \"rmse\": 0.3225523213371747, \"rmse_stand\": 0.0015811189816574696}, {\"method\": \"ERA\", \"var\": \"SW_IN\", \"gap_len\": 5.0, \"idx_rep\": 1, \"rmse\": 59.8714043805555, \"rmse_stand\": 0.29348359215691777}, {\"method\": \"ERA\", \"var\": \"SW_IN\", \"gap_len\": 5.0, \"idx_rep\": 2, \"rmse\": 0.0, \"rmse_stand\": 0.0}, {\"method\": \"ERA\", \"var\": \"SW_IN\", \"gap_len\": 5.0, \"idx_rep\": 3, \"rmse\": 0.0, \"rmse_stand\": 0.0}, {\"method\": \"ERA\", \"var\": \"SW_IN\", \"gap_len\": 5.0, \"idx_rep\": 4, \"rmse\": 13.338528093459189, \"rmse_stand\": 0.06538412084126305}, {\"method\": \"MDS\", \"var\": \"SW_IN\", \"gap_len\": 5.0, \"idx_rep\": 0, \"rmse\": 5.924459982644022, \"rmse_stand\": 0.02904110593839633}, {\"method\": \"MDS\", \"var\": \"SW_IN\", \"gap_len\": 5.0, \"idx_rep\": 1, \"rmse\": 39.57447171991995, \"rmse_stand\": 0.19399007319505107}, {\"method\": \"MDS\", \"var\": \"SW_IN\", \"gap_len\": 5.0, \"idx_rep\": 2, \"rmse\": 0.0, \"rmse_stand\": 0.0}, {\"method\": \"MDS\", \"var\": \"SW_IN\", \"gap_len\": 5.0, \"idx_rep\": 3, \"rmse\": 0.0, \"rmse_stand\": 0.0}, {\"method\": \"MDS\", \"var\": \"SW_IN\", \"gap_len\": 5.0, \"idx_rep\": 4, \"rmse\": 17.4763607256079, \"rmse_stand\": 0.08566735951240262}, {\"method\": \"KalmanFilter\", \"var\": \"SW_IN\", \"gap_len\": 10.0, \"idx_rep\": 0, \"rmse\": 113.96809836865074, \"rmse_stand\": 0.5586601357790674}, {\"method\": \"KalmanFilter\", \"var\": \"SW_IN\", \"gap_len\": 10.0, \"idx_rep\": 1, \"rmse\": 114.14234927322714, \"rmse_stand\": 0.559514296157311}, {\"method\": \"KalmanFilter\", \"var\": \"SW_IN\", \"gap_len\": 10.0, \"idx_rep\": 2, \"rmse\": 24.311262989267203, \"rmse_stand\": 0.11917136178417244}, {\"method\": \"KalmanFilter\", \"var\": \"SW_IN\", \"gap_len\": 10.0, \"idx_rep\": 3, \"rmse\": 70.71423825946418, \"rmse_stand\": 0.34663407140267155}, {\"method\": \"KalmanFilter\", \"var\": \"SW_IN\", \"gap_len\": 10.0, \"idx_rep\": 4, \"rmse\": 65.94746344490703, \"rmse_stand\": 0.32326782152005307}, {\"method\": \"ERA\", \"var\": \"SW_IN\", \"gap_len\": 10.0, \"idx_rep\": 0, \"rmse\": 128.36896992575737, \"rmse_stand\": 0.6292517572467384}, {\"method\": \"ERA\", \"var\": \"SW_IN\", \"gap_len\": 10.0, \"idx_rep\": 1, \"rmse\": 202.27108194697533, \"rmse_stand\": 0.9915124646473813}, {\"method\": \"ERA\", \"var\": \"SW_IN\", \"gap_len\": 10.0, \"idx_rep\": 2, \"rmse\": 8.929423209256019, \"rmse_stand\": 0.04377113292156075}, {\"method\": \"ERA\", \"var\": \"SW_IN\", \"gap_len\": 10.0, \"idx_rep\": 3, \"rmse\": 63.874882284823045, \"rmse_stand\": 0.31310823748838557}, {\"method\": \"ERA\", \"var\": \"SW_IN\", \"gap_len\": 10.0, \"idx_rep\": 4, \"rmse\": 63.59749815519475, \"rmse_stand\": 0.31174852843173495}, {\"method\": \"MDS\", \"var\": \"SW_IN\", \"gap_len\": 10.0, \"idx_rep\": 0, \"rmse\": 197.7548021609146, \"rmse_stand\": 0.9693741161567746}, {\"method\": \"MDS\", \"var\": \"SW_IN\", \"gap_len\": 10.0, \"idx_rep\": 1, \"rmse\": 126.35930456701931, \"rmse_stand\": 0.6194005801344254}, {\"method\": \"MDS\", \"var\": \"SW_IN\", \"gap_len\": 10.0, \"idx_rep\": 2, \"rmse\": 11.69406587379872, \"rmse_stand\": 0.057323132722049426}, {\"method\": \"MDS\", \"var\": \"SW_IN\", \"gap_len\": 10.0, \"idx_rep\": 3, \"rmse\": 75.86027950442896, \"rmse_stand\": 0.37185944711559565}, {\"method\": \"MDS\", \"var\": \"SW_IN\", \"gap_len\": 10.0, \"idx_rep\": 4, \"rmse\": 93.75999514125422, \"rmse_stand\": 0.4596020497492653}, {\"method\": \"KalmanFilter\", \"var\": \"SW_IN\", \"gap_len\": 22.5, \"idx_rep\": 0, \"rmse\": 123.92483025030573, \"rmse_stand\": 0.6074670323101339}, {\"method\": \"KalmanFilter\", \"var\": \"SW_IN\", \"gap_len\": 22.5, \"idx_rep\": 1, \"rmse\": 66.1532423186051, \"rmse_stand\": 0.32427652882645003}, {\"method\": \"KalmanFilter\", \"var\": \"SW_IN\", \"gap_len\": 22.5, \"idx_rep\": 2, \"rmse\": 34.1542955804012, \"rmse_stand\": 0.16742091584844634}, {\"method\": \"KalmanFilter\", \"var\": \"SW_IN\", \"gap_len\": 22.5, \"idx_rep\": 3, \"rmse\": 52.67158213966747, \"rmse_stand\": 0.2581907889229028}, {\"method\": \"KalmanFilter\", \"var\": \"SW_IN\", \"gap_len\": 22.5, \"idx_rep\": 4, \"rmse\": 27.97643102886275, \"rmse_stand\": 0.13713764624414704}, {\"method\": \"ERA\", \"var\": \"SW_IN\", \"gap_len\": 22.5, \"idx_rep\": 0, \"rmse\": 166.69426640676306, \"rmse_stand\": 0.8171184992765513}, {\"method\": \"ERA\", \"var\": \"SW_IN\", \"gap_len\": 22.5, \"idx_rep\": 1, \"rmse\": 106.04031443936782, \"rmse_stand\": 0.5197989376915632}, {\"method\": \"ERA\", \"var\": \"SW_IN\", \"gap_len\": 22.5, \"idx_rep\": 2, \"rmse\": 34.402950433873485, \"rmse_stand\": 0.1686397968878896}, {\"method\": \"ERA\", \"var\": \"SW_IN\", \"gap_len\": 22.5, \"idx_rep\": 3, \"rmse\": 70.29130814877944, \"rmse_stand\": 0.3445609106108163}, {\"method\": \"ERA\", \"var\": \"SW_IN\", \"gap_len\": 22.5, \"idx_rep\": 4, \"rmse\": 38.020916921259705, \"rmse_stand\": 0.1863747040945477}, {\"method\": \"MDS\", \"var\": \"SW_IN\", \"gap_len\": 22.5, \"idx_rep\": 0, \"rmse\": 187.9939061991956, \"rmse_stand\": 0.921527187574528}, {\"method\": \"MDS\", \"var\": \"SW_IN\", \"gap_len\": 22.5, \"idx_rep\": 1, \"rmse\": 106.93530013475957, \"rmse_stand\": 0.5241860673994798}, {\"method\": \"MDS\", \"var\": \"SW_IN\", \"gap_len\": 22.5, \"idx_rep\": 2, \"rmse\": 29.948687926633866, \"rmse_stand\": 0.14680545084974791}, {\"method\": \"MDS\", \"var\": \"SW_IN\", \"gap_len\": 22.5, \"idx_rep\": 3, \"rmse\": 170.95760776247306, \"rmse_stand\": 0.8380169690654323}, {\"method\": \"MDS\", \"var\": \"SW_IN\", \"gap_len\": 22.5, \"idx_rep\": 4, \"rmse\": 73.08215120668197, \"rmse_stand\": 0.35824134209983344}]}}, {\"mode\": \"vega-lite\"});\n",
       "</script>"
      ],
      "text/plain": [
       "alt.Chart(...)"
      ]
     },
     "execution_count": null,
     "metadata": {},
     "output_type": "execute_result"
    }
   ],
   "source": [
    "the_plot_stand(data_results)"
   ]
  },
  {
   "cell_type": "code",
   "execution_count": null,
   "id": "f3ca9f9c-9250-4f27-9a6f-c8c35d4cf6bb",
   "metadata": {},
   "outputs": [
    {
     "data": {
      "text/html": [
       "\n",
       "<div id=\"altair-viz-cfe161ef477f49168bfddeb04182ad45\"></div>\n",
       "<script type=\"text/javascript\">\n",
       "  var VEGA_DEBUG = (typeof VEGA_DEBUG == \"undefined\") ? {} : VEGA_DEBUG;\n",
       "  (function(spec, embedOpt){\n",
       "    let outputDiv = document.currentScript.previousElementSibling;\n",
       "    if (outputDiv.id !== \"altair-viz-cfe161ef477f49168bfddeb04182ad45\") {\n",
       "      outputDiv = document.getElementById(\"altair-viz-cfe161ef477f49168bfddeb04182ad45\");\n",
       "    }\n",
       "    const paths = {\n",
       "      \"vega\": \"https://cdn.jsdelivr.net/npm/vega@5?noext\",\n",
       "      \"vega-lib\": \"https://cdn.jsdelivr.net/npm/vega-lib?noext\",\n",
       "      \"vega-lite\": \"https://cdn.jsdelivr.net/npm/vega-lite@5.2.0?noext\",\n",
       "      \"vega-embed\": \"https://cdn.jsdelivr.net/npm/vega-embed@6?noext\",\n",
       "    };\n",
       "\n",
       "    function maybeLoadScript(lib, version) {\n",
       "      var key = `${lib.replace(\"-\", \"\")}_version`;\n",
       "      return (VEGA_DEBUG[key] == version) ?\n",
       "        Promise.resolve(paths[lib]) :\n",
       "        new Promise(function(resolve, reject) {\n",
       "          var s = document.createElement('script');\n",
       "          document.getElementsByTagName(\"head\")[0].appendChild(s);\n",
       "          s.async = true;\n",
       "          s.onload = () => {\n",
       "            VEGA_DEBUG[key] = version;\n",
       "            return resolve(paths[lib]);\n",
       "          };\n",
       "          s.onerror = () => reject(`Error loading script: ${paths[lib]}`);\n",
       "          s.src = paths[lib];\n",
       "        });\n",
       "    }\n",
       "\n",
       "    function showError(err) {\n",
       "      outputDiv.innerHTML = `<div class=\"error\" style=\"color:red;\">${err}</div>`;\n",
       "      throw err;\n",
       "    }\n",
       "\n",
       "    function displayChart(vegaEmbed) {\n",
       "      vegaEmbed(outputDiv, spec, embedOpt)\n",
       "        .catch(err => showError(`Javascript Error: ${err.message}<br>This usually means there's a typo in your chart specification. See the javascript console for the full traceback.`));\n",
       "    }\n",
       "\n",
       "    if(typeof define === \"function\" && define.amd) {\n",
       "      requirejs.config({paths});\n",
       "      require([\"vega-embed\"], displayChart, err => showError(`Error loading script: ${err.message}`));\n",
       "    } else {\n",
       "      maybeLoadScript(\"vega\", \"5\")\n",
       "        .then(() => maybeLoadScript(\"vega-lite\", \"5.2.0\"))\n",
       "        .then(() => maybeLoadScript(\"vega-embed\", \"6\"))\n",
       "        .catch(showError)\n",
       "        .then(() => displayChart(vegaEmbed));\n",
       "    }\n",
       "  })({\"config\": {\"view\": {\"continuousWidth\": 300, \"continuousHeight\": 300}}, \"data\": {\"name\": \"data-4df2c5234880b2411871d564e0b16182\"}, \"facet\": {\"field\": \"var\", \"sort\": [\"TA\", \"SW_IN\", \"LW_IN\", \"VPD\", \"WS\", \"PA\", \"P\", \"SWC\", \"TS\"], \"type\": \"ordinal\"}, \"spec\": {\"mark\": {\"type\": \"boxplot\", \"extent\": \"min-max\"}, \"encoding\": {\"color\": {\"field\": \"method\", \"scale\": {\"domain\": [\"KalmanFilter\", \"ERA\", \"MDS\"], \"scheme\": \"dark2\"}, \"type\": \"nominal\"}, \"x\": {\"axis\": {\"labelAngle\": 0}, \"field\": \"gap_len\", \"title\": \"gap_len [h]\", \"type\": \"nominal\"}, \"xOffset\": {\"field\": \"method\", \"scale\": {\"domain\": [\"KalmanFilter\", \"ERA\", \"MDS\"]}, \"sort\": [\"KalmanFilter\", \"ERA\", \"MDS\"], \"type\": \"ordinal\"}, \"y\": {\"axis\": {\"grid\": true}, \"field\": \"rmse_stand\", \"title\": \"RMSE Standardized\", \"type\": \"quantitative\"}}, \"height\": 200, \"width\": 250}, \"columns\": 3, \"$schema\": \"https://vega.github.io/schema/vega-lite/v5.2.0.json\", \"datasets\": {\"data-4df2c5234880b2411871d564e0b16182\": [{\"method\": \"KalmanFilter\", \"var\": \"TA\", \"gap_len\": 2.5, \"idx_rep\": 0, \"rmse\": 0.45859917867745875, \"rmse_stand\": 0.05787024654125715}, {\"method\": \"KalmanFilter\", \"var\": \"TA\", \"gap_len\": 2.5, \"idx_rep\": 1, \"rmse\": 0.1565318544722203, \"rmse_stand\": 0.019752623709425807}, {\"method\": \"KalmanFilter\", \"var\": \"TA\", \"gap_len\": 2.5, \"idx_rep\": 2, \"rmse\": 0.17439920963505967, \"rmse_stand\": 0.022007290303673988}, {\"method\": \"KalmanFilter\", \"var\": \"TA\", \"gap_len\": 2.5, \"idx_rep\": 3, \"rmse\": 0.36132286304577765, \"rmse_stand\": 0.04559502968529807}, {\"method\": \"KalmanFilter\", \"var\": \"TA\", \"gap_len\": 2.5, \"idx_rep\": 4, \"rmse\": 0.6554024098455221, \"rmse_stand\": 0.08270468157155182}, {\"method\": \"ERA\", \"var\": \"TA\", \"gap_len\": 2.5, \"idx_rep\": 0, \"rmse\": 1.4494880475533438, \"rmse_stand\": 0.18290968359869958}, {\"method\": \"ERA\", \"var\": \"TA\", \"gap_len\": 2.5, \"idx_rep\": 1, \"rmse\": 2.161609585470975, \"rmse_stand\": 0.2727717044716518}, {\"method\": \"ERA\", \"var\": \"TA\", \"gap_len\": 2.5, \"idx_rep\": 2, \"rmse\": 3.079831748651215, \"rmse_stand\": 0.3886413907544082}, {\"method\": \"ERA\", \"var\": \"TA\", \"gap_len\": 2.5, \"idx_rep\": 3, \"rmse\": 0.2689706303669617, \"rmse_stand\": 0.03394117873604142}, {\"method\": \"ERA\", \"var\": \"TA\", \"gap_len\": 2.5, \"idx_rep\": 4, \"rmse\": 0.9925782588793692, \"rmse_stand\": 0.12525261976807855}, {\"method\": \"MDS\", \"var\": \"TA\", \"gap_len\": 2.5, \"idx_rep\": 0, \"rmse\": 3.836379180880156, \"rmse_stand\": 0.4841094780490788}, {\"method\": \"MDS\", \"var\": \"TA\", \"gap_len\": 2.5, \"idx_rep\": 1, \"rmse\": 1.4774830321552226, \"rmse_stand\": 0.1864423472757291}, {\"method\": \"MDS\", \"var\": \"TA\", \"gap_len\": 2.5, \"idx_rep\": 2, \"rmse\": 1.9375648552665787, \"rmse_stand\": 0.24449968747722806}, {\"method\": \"MDS\", \"var\": \"TA\", \"gap_len\": 2.5, \"idx_rep\": 3, \"rmse\": 5.648068036692516, \"rmse_stand\": 0.712724978504755}, {\"method\": \"MDS\", \"var\": \"TA\", \"gap_len\": 2.5, \"idx_rep\": 4, \"rmse\": 0.3964013964302305, \"rmse_stand\": 0.05002156045475621}, {\"method\": \"KalmanFilter\", \"var\": \"TA\", \"gap_len\": 5.0, \"idx_rep\": 0, \"rmse\": 0.2688583185422039, \"rmse_stand\": 0.033927006200872516}, {\"method\": \"KalmanFilter\", \"var\": \"TA\", \"gap_len\": 5.0, \"idx_rep\": 1, \"rmse\": 1.2202396323108624, \"rmse_stand\": 0.15398101794444732}, {\"method\": \"KalmanFilter\", \"var\": \"TA\", \"gap_len\": 5.0, \"idx_rep\": 2, \"rmse\": 0.5364031724956462, \"rmse_stand\": 0.06768826740456896}, {\"method\": \"KalmanFilter\", \"var\": \"TA\", \"gap_len\": 5.0, \"idx_rep\": 3, \"rmse\": 0.8466554501787661, \"rmse_stand\": 0.10683874266552962}, {\"method\": \"KalmanFilter\", \"var\": \"TA\", \"gap_len\": 5.0, \"idx_rep\": 4, \"rmse\": 0.22290406604227006, \"rmse_stand\": 0.02812807753846262}, {\"method\": \"ERA\", \"var\": \"TA\", \"gap_len\": 5.0, \"idx_rep\": 0, \"rmse\": 0.6161552564086423, \"rmse_stand\": 0.07775211612652692}, {\"method\": \"ERA\", \"var\": \"TA\", \"gap_len\": 5.0, \"idx_rep\": 1, \"rmse\": 2.699802622415201, \"rmse_stand\": 0.34068583337299324}, {\"method\": \"ERA\", \"var\": \"TA\", \"gap_len\": 5.0, \"idx_rep\": 2, \"rmse\": 2.47888904552019, \"rmse_stand\": 0.31280893399412035}, {\"method\": \"ERA\", \"var\": \"TA\", \"gap_len\": 5.0, \"idx_rep\": 3, \"rmse\": 1.092673418730409, \"rmse_stand\": 0.13788354421689927}, {\"method\": \"ERA\", \"var\": \"TA\", \"gap_len\": 5.0, \"idx_rep\": 4, \"rmse\": 0.4736103883995789, \"rmse_stand\": 0.05976449853273876}, {\"method\": \"MDS\", \"var\": \"TA\", \"gap_len\": 5.0, \"idx_rep\": 0, \"rmse\": 0.37018423676457685, \"rmse_stand\": 0.04671323901851145}, {\"method\": \"MDS\", \"var\": \"TA\", \"gap_len\": 5.0, \"idx_rep\": 1, \"rmse\": 2.5049789719717106, \"rmse_stand\": 0.31610119997755914}, {\"method\": \"MDS\", \"var\": \"TA\", \"gap_len\": 5.0, \"idx_rep\": 2, \"rmse\": 1.3607584787271558, \"rmse_stand\": 0.1717129735690849}, {\"method\": \"MDS\", \"var\": \"TA\", \"gap_len\": 5.0, \"idx_rep\": 3, \"rmse\": 3.518030450205353, \"rmse_stand\": 0.44393731816127335}, {\"method\": \"MDS\", \"var\": \"TA\", \"gap_len\": 5.0, \"idx_rep\": 4, \"rmse\": 0.3487218153797257, \"rmse_stand\": 0.0440049140265314}, {\"method\": \"KalmanFilter\", \"var\": \"TA\", \"gap_len\": 10.0, \"idx_rep\": 0, \"rmse\": 0.3093641609454863, \"rmse_stand\": 0.03903840455313145}, {\"method\": \"KalmanFilter\", \"var\": \"TA\", \"gap_len\": 10.0, \"idx_rep\": 1, \"rmse\": 1.128727890568843, \"rmse_stand\": 0.14243322784307175}, {\"method\": \"KalmanFilter\", \"var\": \"TA\", \"gap_len\": 10.0, \"idx_rep\": 2, \"rmse\": 0.23575566323259534, \"rmse_stand\": 0.029749809832004575}, {\"method\": \"KalmanFilter\", \"var\": \"TA\", \"gap_len\": 10.0, \"idx_rep\": 3, \"rmse\": 0.7054704330482424, \"rmse_stand\": 0.08902272351600249}, {\"method\": \"KalmanFilter\", \"var\": \"TA\", \"gap_len\": 10.0, \"idx_rep\": 4, \"rmse\": 0.6711296732361712, \"rmse_stand\": 0.08468929177617732}, {\"method\": \"ERA\", \"var\": \"TA\", \"gap_len\": 10.0, \"idx_rep\": 0, \"rmse\": 0.6373100109052111, \"rmse_stand\": 0.0804216168913707}, {\"method\": \"ERA\", \"var\": \"TA\", \"gap_len\": 10.0, \"idx_rep\": 1, \"rmse\": 3.3073337448766793, \"rmse_stand\": 0.417349677254536}, {\"method\": \"ERA\", \"var\": \"TA\", \"gap_len\": 10.0, \"idx_rep\": 2, \"rmse\": 0.5084344598864242, \"rmse_stand\": 0.06415891896830497}, {\"method\": \"ERA\", \"var\": \"TA\", \"gap_len\": 10.0, \"idx_rep\": 3, \"rmse\": 1.0420521100213753, \"rmse_stand\": 0.13149568363746894}, {\"method\": \"ERA\", \"var\": \"TA\", \"gap_len\": 10.0, \"idx_rep\": 4, \"rmse\": 1.3107373306654544, \"rmse_stand\": 0.16540084675944816}, {\"method\": \"MDS\", \"var\": \"TA\", \"gap_len\": 10.0, \"idx_rep\": 0, \"rmse\": 1.909987068089248, \"rmse_stand\": 0.24101966959403665}, {\"method\": \"MDS\", \"var\": \"TA\", \"gap_len\": 10.0, \"idx_rep\": 1, \"rmse\": 0.9628557873659838, \"rmse_stand\": 0.12150196596347405}, {\"method\": \"MDS\", \"var\": \"TA\", \"gap_len\": 10.0, \"idx_rep\": 2, \"rmse\": 1.2267196441453094, \"rmse_stand\": 0.15479872521451082}, {\"method\": \"MDS\", \"var\": \"TA\", \"gap_len\": 10.0, \"idx_rep\": 3, \"rmse\": 2.680745456962698, \"rmse_stand\": 0.33828102561408196}, {\"method\": \"MDS\", \"var\": \"TA\", \"gap_len\": 10.0, \"idx_rep\": 4, \"rmse\": 1.3269395749489976, \"rmse_stand\": 0.16744539440542153}, {\"method\": \"KalmanFilter\", \"var\": \"TA\", \"gap_len\": 22.5, \"idx_rep\": 0, \"rmse\": 0.5864129798979331, \"rmse_stand\": 0.07399896314588557}, {\"method\": \"KalmanFilter\", \"var\": \"TA\", \"gap_len\": 22.5, \"idx_rep\": 1, \"rmse\": 0.2843142695520981, \"rmse_stand\": 0.03587737972324039}, {\"method\": \"KalmanFilter\", \"var\": \"TA\", \"gap_len\": 22.5, \"idx_rep\": 2, \"rmse\": 0.7435215897867138, \"rmse_stand\": 0.09382436713862241}, {\"method\": \"KalmanFilter\", \"var\": \"TA\", \"gap_len\": 22.5, \"idx_rep\": 3, \"rmse\": 0.5667248001907798, \"rmse_stand\": 0.07151452822629564}, {\"method\": \"KalmanFilter\", \"var\": \"TA\", \"gap_len\": 22.5, \"idx_rep\": 4, \"rmse\": 0.3841439659959281, \"rmse_stand\": 0.048474805566879976}, {\"method\": \"ERA\", \"var\": \"TA\", \"gap_len\": 22.5, \"idx_rep\": 0, \"rmse\": 1.667383605799484, \"rmse_stand\": 0.21040574173014598}, {\"method\": \"ERA\", \"var\": \"TA\", \"gap_len\": 22.5, \"idx_rep\": 1, \"rmse\": 1.3032615922284283, \"rmse_stand\": 0.16445748958276005}, {\"method\": \"ERA\", \"var\": \"TA\", \"gap_len\": 22.5, \"idx_rep\": 2, \"rmse\": 2.108127357527423, \"rmse_stand\": 0.26602282688841067}, {\"method\": \"ERA\", \"var\": \"TA\", \"gap_len\": 22.5, \"idx_rep\": 3, \"rmse\": 0.9962245284628918, \"rmse_stand\": 0.12571273947514577}, {\"method\": \"ERA\", \"var\": \"TA\", \"gap_len\": 22.5, \"idx_rep\": 4, \"rmse\": 0.7051317607369562, \"rmse_stand\": 0.08897998674048677}, {\"method\": \"MDS\", \"var\": \"TA\", \"gap_len\": 22.5, \"idx_rep\": 0, \"rmse\": 2.285323794678169, \"rmse_stand\": 0.28838309699120157}, {\"method\": \"MDS\", \"var\": \"TA\", \"gap_len\": 22.5, \"idx_rep\": 1, \"rmse\": 2.0471406981319173, \"rmse_stand\": 0.25832697138094185}, {\"method\": \"MDS\", \"var\": \"TA\", \"gap_len\": 22.5, \"idx_rep\": 2, \"rmse\": 2.372916288158608, \"rmse_stand\": 0.29943632043459023}, {\"method\": \"MDS\", \"var\": \"TA\", \"gap_len\": 22.5, \"idx_rep\": 3, \"rmse\": 1.880445459034662, \"rmse_stand\": 0.2372918386717386}, {\"method\": \"MDS\", \"var\": \"TA\", \"gap_len\": 22.5, \"idx_rep\": 4, \"rmse\": 2.030413253818859, \"rmse_stand\": 0.2562161491828004}, {\"method\": \"KalmanFilter\", \"var\": \"SW_IN\", \"gap_len\": 2.5, \"idx_rep\": 0, \"rmse\": 190.09913902131657, \"rmse_stand\": 0.9318468267638063}, {\"method\": \"KalmanFilter\", \"var\": \"SW_IN\", \"gap_len\": 2.5, \"idx_rep\": 1, \"rmse\": 49.21839339415338, \"rmse_stand\": 0.24126360560534468}, {\"method\": \"KalmanFilter\", \"var\": \"SW_IN\", \"gap_len\": 2.5, \"idx_rep\": 2, \"rmse\": 26.177013703672745, \"rmse_stand\": 0.12831708380954235}, {\"method\": \"KalmanFilter\", \"var\": \"SW_IN\", \"gap_len\": 2.5, \"idx_rep\": 3, \"rmse\": 10.297807264588364, \"rmse_stand\": 0.05047881369444763}, {\"method\": \"KalmanFilter\", \"var\": \"SW_IN\", \"gap_len\": 2.5, \"idx_rep\": 4, \"rmse\": 5.383079865402994, \"rmse_stand\": 0.026387315148383866}, {\"method\": \"ERA\", \"var\": \"SW_IN\", \"gap_len\": 2.5, \"idx_rep\": 0, \"rmse\": 226.71763952943755, \"rmse_stand\": 1.1113470268963015}, {\"method\": \"ERA\", \"var\": \"SW_IN\", \"gap_len\": 2.5, \"idx_rep\": 1, \"rmse\": 106.967430378597, \"rmse_stand\": 0.5243435666176098}, {\"method\": \"ERA\", \"var\": \"SW_IN\", \"gap_len\": 2.5, \"idx_rep\": 2, \"rmse\": 0.0, \"rmse_stand\": 0.0}, {\"method\": \"ERA\", \"var\": \"SW_IN\", \"gap_len\": 2.5, \"idx_rep\": 3, \"rmse\": 20.03160425427779, \"rmse_stand\": 0.09819290584605954}, {\"method\": \"ERA\", \"var\": \"SW_IN\", \"gap_len\": 2.5, \"idx_rep\": 4, \"rmse\": 0.0, \"rmse_stand\": 0.0}, {\"method\": \"MDS\", \"var\": \"SW_IN\", \"gap_len\": 2.5, \"idx_rep\": 0, \"rmse\": 203.68295492825962, \"rmse_stand\": 0.9984333237537226}, {\"method\": \"MDS\", \"var\": \"SW_IN\", \"gap_len\": 2.5, \"idx_rep\": 1, \"rmse\": 56.693166616168064, \"rmse_stand\": 0.2779041908471979}, {\"method\": \"MDS\", \"var\": \"SW_IN\", \"gap_len\": 2.5, \"idx_rep\": 2, \"rmse\": 0.0, \"rmse_stand\": 0.0}, {\"method\": \"MDS\", \"var\": \"SW_IN\", \"gap_len\": 2.5, \"idx_rep\": 3, \"rmse\": 7.710506345616034, \"rmse_stand\": 0.037796125263349085}, {\"method\": \"MDS\", \"var\": \"SW_IN\", \"gap_len\": 2.5, \"idx_rep\": 4, \"rmse\": 0.0, \"rmse_stand\": 0.0}, {\"method\": \"KalmanFilter\", \"var\": \"SW_IN\", \"gap_len\": 5.0, \"idx_rep\": 0, \"rmse\": 47.70346067201218, \"rmse_stand\": 0.2338375580327166}, {\"method\": \"KalmanFilter\", \"var\": \"SW_IN\", \"gap_len\": 5.0, \"idx_rep\": 1, \"rmse\": 29.676779166986936, \"rmse_stand\": 0.1454725815050958}, {\"method\": \"KalmanFilter\", \"var\": \"SW_IN\", \"gap_len\": 5.0, \"idx_rep\": 2, \"rmse\": 32.89706145333922, \"rmse_stand\": 0.16125808082545082}, {\"method\": \"KalmanFilter\", \"var\": \"SW_IN\", \"gap_len\": 5.0, \"idx_rep\": 3, \"rmse\": 51.410734516408716, \"rmse_stand\": 0.2520102409056148}, {\"method\": \"KalmanFilter\", \"var\": \"SW_IN\", \"gap_len\": 5.0, \"idx_rep\": 4, \"rmse\": 21.583705190775863, \"rmse_stand\": 0.10580114826072233}, {\"method\": \"ERA\", \"var\": \"SW_IN\", \"gap_len\": 5.0, \"idx_rep\": 0, \"rmse\": 0.3225523213371747, \"rmse_stand\": 0.0015811189816574696}, {\"method\": \"ERA\", \"var\": \"SW_IN\", \"gap_len\": 5.0, \"idx_rep\": 1, \"rmse\": 59.8714043805555, \"rmse_stand\": 0.29348359215691777}, {\"method\": \"ERA\", \"var\": \"SW_IN\", \"gap_len\": 5.0, \"idx_rep\": 2, \"rmse\": 0.0, \"rmse_stand\": 0.0}, {\"method\": \"ERA\", \"var\": \"SW_IN\", \"gap_len\": 5.0, \"idx_rep\": 3, \"rmse\": 0.0, \"rmse_stand\": 0.0}, {\"method\": \"ERA\", \"var\": \"SW_IN\", \"gap_len\": 5.0, \"idx_rep\": 4, \"rmse\": 13.338528093459189, \"rmse_stand\": 0.06538412084126305}, {\"method\": \"MDS\", \"var\": \"SW_IN\", \"gap_len\": 5.0, \"idx_rep\": 0, \"rmse\": 5.924459982644022, \"rmse_stand\": 0.02904110593839633}, {\"method\": \"MDS\", \"var\": \"SW_IN\", \"gap_len\": 5.0, \"idx_rep\": 1, \"rmse\": 39.57447171991995, \"rmse_stand\": 0.19399007319505107}, {\"method\": \"MDS\", \"var\": \"SW_IN\", \"gap_len\": 5.0, \"idx_rep\": 2, \"rmse\": 0.0, \"rmse_stand\": 0.0}, {\"method\": \"MDS\", \"var\": \"SW_IN\", \"gap_len\": 5.0, \"idx_rep\": 3, \"rmse\": 0.0, \"rmse_stand\": 0.0}, {\"method\": \"MDS\", \"var\": \"SW_IN\", \"gap_len\": 5.0, \"idx_rep\": 4, \"rmse\": 17.4763607256079, \"rmse_stand\": 0.08566735951240262}, {\"method\": \"KalmanFilter\", \"var\": \"SW_IN\", \"gap_len\": 10.0, \"idx_rep\": 0, \"rmse\": 113.96809836865074, \"rmse_stand\": 0.5586601357790674}, {\"method\": \"KalmanFilter\", \"var\": \"SW_IN\", \"gap_len\": 10.0, \"idx_rep\": 1, \"rmse\": 114.14234927322714, \"rmse_stand\": 0.559514296157311}, {\"method\": \"KalmanFilter\", \"var\": \"SW_IN\", \"gap_len\": 10.0, \"idx_rep\": 2, \"rmse\": 24.311262989267203, \"rmse_stand\": 0.11917136178417244}, {\"method\": \"KalmanFilter\", \"var\": \"SW_IN\", \"gap_len\": 10.0, \"idx_rep\": 3, \"rmse\": 70.71423825946418, \"rmse_stand\": 0.34663407140267155}, {\"method\": \"KalmanFilter\", \"var\": \"SW_IN\", \"gap_len\": 10.0, \"idx_rep\": 4, \"rmse\": 65.94746344490703, \"rmse_stand\": 0.32326782152005307}, {\"method\": \"ERA\", \"var\": \"SW_IN\", \"gap_len\": 10.0, \"idx_rep\": 0, \"rmse\": 128.36896992575737, \"rmse_stand\": 0.6292517572467384}, {\"method\": \"ERA\", \"var\": \"SW_IN\", \"gap_len\": 10.0, \"idx_rep\": 1, \"rmse\": 202.27108194697533, \"rmse_stand\": 0.9915124646473813}, {\"method\": \"ERA\", \"var\": \"SW_IN\", \"gap_len\": 10.0, \"idx_rep\": 2, \"rmse\": 8.929423209256019, \"rmse_stand\": 0.04377113292156075}, {\"method\": \"ERA\", \"var\": \"SW_IN\", \"gap_len\": 10.0, \"idx_rep\": 3, \"rmse\": 63.874882284823045, \"rmse_stand\": 0.31310823748838557}, {\"method\": \"ERA\", \"var\": \"SW_IN\", \"gap_len\": 10.0, \"idx_rep\": 4, \"rmse\": 63.59749815519475, \"rmse_stand\": 0.31174852843173495}, {\"method\": \"MDS\", \"var\": \"SW_IN\", \"gap_len\": 10.0, \"idx_rep\": 0, \"rmse\": 197.7548021609146, \"rmse_stand\": 0.9693741161567746}, {\"method\": \"MDS\", \"var\": \"SW_IN\", \"gap_len\": 10.0, \"idx_rep\": 1, \"rmse\": 126.35930456701931, \"rmse_stand\": 0.6194005801344254}, {\"method\": \"MDS\", \"var\": \"SW_IN\", \"gap_len\": 10.0, \"idx_rep\": 2, \"rmse\": 11.69406587379872, \"rmse_stand\": 0.057323132722049426}, {\"method\": \"MDS\", \"var\": \"SW_IN\", \"gap_len\": 10.0, \"idx_rep\": 3, \"rmse\": 75.86027950442896, \"rmse_stand\": 0.37185944711559565}, {\"method\": \"MDS\", \"var\": \"SW_IN\", \"gap_len\": 10.0, \"idx_rep\": 4, \"rmse\": 93.75999514125422, \"rmse_stand\": 0.4596020497492653}, {\"method\": \"KalmanFilter\", \"var\": \"SW_IN\", \"gap_len\": 22.5, \"idx_rep\": 0, \"rmse\": 123.92483025030573, \"rmse_stand\": 0.6074670323101339}, {\"method\": \"KalmanFilter\", \"var\": \"SW_IN\", \"gap_len\": 22.5, \"idx_rep\": 1, \"rmse\": 66.1532423186051, \"rmse_stand\": 0.32427652882645003}, {\"method\": \"KalmanFilter\", \"var\": \"SW_IN\", \"gap_len\": 22.5, \"idx_rep\": 2, \"rmse\": 34.1542955804012, \"rmse_stand\": 0.16742091584844634}, {\"method\": \"KalmanFilter\", \"var\": \"SW_IN\", \"gap_len\": 22.5, \"idx_rep\": 3, \"rmse\": 52.67158213966747, \"rmse_stand\": 0.2581907889229028}, {\"method\": \"KalmanFilter\", \"var\": \"SW_IN\", \"gap_len\": 22.5, \"idx_rep\": 4, \"rmse\": 27.97643102886275, \"rmse_stand\": 0.13713764624414704}, {\"method\": \"ERA\", \"var\": \"SW_IN\", \"gap_len\": 22.5, \"idx_rep\": 0, \"rmse\": 166.69426640676306, \"rmse_stand\": 0.8171184992765513}, {\"method\": \"ERA\", \"var\": \"SW_IN\", \"gap_len\": 22.5, \"idx_rep\": 1, \"rmse\": 106.04031443936782, \"rmse_stand\": 0.5197989376915632}, {\"method\": \"ERA\", \"var\": \"SW_IN\", \"gap_len\": 22.5, \"idx_rep\": 2, \"rmse\": 34.402950433873485, \"rmse_stand\": 0.1686397968878896}, {\"method\": \"ERA\", \"var\": \"SW_IN\", \"gap_len\": 22.5, \"idx_rep\": 3, \"rmse\": 70.29130814877944, \"rmse_stand\": 0.3445609106108163}, {\"method\": \"ERA\", \"var\": \"SW_IN\", \"gap_len\": 22.5, \"idx_rep\": 4, \"rmse\": 38.020916921259705, \"rmse_stand\": 0.1863747040945477}, {\"method\": \"MDS\", \"var\": \"SW_IN\", \"gap_len\": 22.5, \"idx_rep\": 0, \"rmse\": 187.9939061991956, \"rmse_stand\": 0.921527187574528}, {\"method\": \"MDS\", \"var\": \"SW_IN\", \"gap_len\": 22.5, \"idx_rep\": 1, \"rmse\": 106.93530013475957, \"rmse_stand\": 0.5241860673994798}, {\"method\": \"MDS\", \"var\": \"SW_IN\", \"gap_len\": 22.5, \"idx_rep\": 2, \"rmse\": 29.948687926633866, \"rmse_stand\": 0.14680545084974791}, {\"method\": \"MDS\", \"var\": \"SW_IN\", \"gap_len\": 22.5, \"idx_rep\": 3, \"rmse\": 170.95760776247306, \"rmse_stand\": 0.8380169690654323}, {\"method\": \"MDS\", \"var\": \"SW_IN\", \"gap_len\": 22.5, \"idx_rep\": 4, \"rmse\": 73.08215120668197, \"rmse_stand\": 0.35824134209983344}]}}, {\"mode\": \"vega-lite\"});\n",
       "</script>"
      ],
      "text/plain": [
       "alt.FacetChart(...)"
      ]
     },
     "execution_count": null,
     "metadata": {},
     "output_type": "execute_result"
    }
   ],
   "source": [
    "the_plot_stand2(data_results)"
   ]
  },
  {
   "cell_type": "code",
   "execution_count": null,
   "id": "46417fe9-5ffb-4a2a-874e-8716ae4f993f",
   "metadata": {},
   "outputs": [
    {
     "data": {
      "text/plain": [
       "Color({\n",
       "  shorthand: 'color'\n",
       "})"
      ]
     },
     "execution_count": null,
     "metadata": {},
     "output_type": "execute_result"
    }
   ],
   "source": [
    "alt.Color('color')"
   ]
  },
  {
   "cell_type": "code",
   "execution_count": null,
   "id": "f5b44527-fc09-4fd9-83e8-7a681e661ee8",
   "metadata": {},
   "outputs": [],
   "source": [
    "x = alt.X('gap_len'); color = alt.Color('method'); xOffset = alt.XOffset('method'); y = alt.Y('rmse_stand')"
   ]
  },
  {
   "cell_type": "code",
   "execution_count": null,
   "id": "e81da799-546b-466c-836f-a812e41dae80",
   "metadata": {},
   "outputs": [
    {
     "data": {
      "text/plain": [
       "MultiIndex([('rmse_stand',     'median'),\n",
       "            ('rmse_stand', '<lambda_0>'),\n",
       "            ('rmse_stand', '<lambda_1>')],\n",
       "           )"
      ]
     },
     "execution_count": null,
     "metadata": {},
     "output_type": "execute_result"
    }
   ],
   "source": [
    "data_results.groupby([x.shorthand, color.shorthand, xOffset.shorthand]).agg({y.shorthand: ['median', lambda x: x.quantile(.25), lambda x: x.quantile(.75)]}).columns"
   ]
  },
  {
   "cell_type": "code",
   "execution_count": null,
   "id": "584d2d99-ad7c-4fff-ba10-027c64474d12",
   "metadata": {},
   "outputs": [
    {
     "data": {
      "text/html": [
       "<div>\n",
       "<style scoped>\n",
       "    .dataframe tbody tr th:only-of-type {\n",
       "        vertical-align: middle;\n",
       "    }\n",
       "\n",
       "    .dataframe tbody tr th {\n",
       "        vertical-align: top;\n",
       "    }\n",
       "\n",
       "    .dataframe thead th {\n",
       "        text-align: right;\n",
       "    }\n",
       "</style>\n",
       "<table border=\"1\" class=\"dataframe\">\n",
       "  <thead>\n",
       "    <tr style=\"text-align: right;\">\n",
       "      <th></th>\n",
       "      <th>method</th>\n",
       "      <th>var</th>\n",
       "      <th>gap_len</th>\n",
       "      <th>idx_rep</th>\n",
       "      <th>rmse</th>\n",
       "      <th>rmse_stand</th>\n",
       "    </tr>\n",
       "  </thead>\n",
       "  <tbody>\n",
       "    <tr>\n",
       "      <th>0</th>\n",
       "      <td>KalmanFilter</td>\n",
       "      <td>TA</td>\n",
       "      <td>2.5</td>\n",
       "      <td>0</td>\n",
       "      <td>0.458599</td>\n",
       "      <td>0.057870</td>\n",
       "    </tr>\n",
       "    <tr>\n",
       "      <th>3</th>\n",
       "      <td>KalmanFilter</td>\n",
       "      <td>TA</td>\n",
       "      <td>2.5</td>\n",
       "      <td>1</td>\n",
       "      <td>0.156532</td>\n",
       "      <td>0.019753</td>\n",
       "    </tr>\n",
       "    <tr>\n",
       "      <th>6</th>\n",
       "      <td>KalmanFilter</td>\n",
       "      <td>TA</td>\n",
       "      <td>2.5</td>\n",
       "      <td>2</td>\n",
       "      <td>0.174399</td>\n",
       "      <td>0.022007</td>\n",
       "    </tr>\n",
       "    <tr>\n",
       "      <th>9</th>\n",
       "      <td>KalmanFilter</td>\n",
       "      <td>TA</td>\n",
       "      <td>2.5</td>\n",
       "      <td>3</td>\n",
       "      <td>0.361323</td>\n",
       "      <td>0.045595</td>\n",
       "    </tr>\n",
       "    <tr>\n",
       "      <th>12</th>\n",
       "      <td>KalmanFilter</td>\n",
       "      <td>TA</td>\n",
       "      <td>2.5</td>\n",
       "      <td>4</td>\n",
       "      <td>0.655402</td>\n",
       "      <td>0.082705</td>\n",
       "    </tr>\n",
       "    <tr>\n",
       "      <th>...</th>\n",
       "      <td>...</td>\n",
       "      <td>...</td>\n",
       "      <td>...</td>\n",
       "      <td>...</td>\n",
       "      <td>...</td>\n",
       "      <td>...</td>\n",
       "    </tr>\n",
       "    <tr>\n",
       "      <th>2</th>\n",
       "      <td>MDS</td>\n",
       "      <td>SW_IN</td>\n",
       "      <td>22.5</td>\n",
       "      <td>0</td>\n",
       "      <td>187.993906</td>\n",
       "      <td>0.921527</td>\n",
       "    </tr>\n",
       "    <tr>\n",
       "      <th>5</th>\n",
       "      <td>MDS</td>\n",
       "      <td>SW_IN</td>\n",
       "      <td>22.5</td>\n",
       "      <td>1</td>\n",
       "      <td>106.935300</td>\n",
       "      <td>0.524186</td>\n",
       "    </tr>\n",
       "    <tr>\n",
       "      <th>8</th>\n",
       "      <td>MDS</td>\n",
       "      <td>SW_IN</td>\n",
       "      <td>22.5</td>\n",
       "      <td>2</td>\n",
       "      <td>29.948688</td>\n",
       "      <td>0.146805</td>\n",
       "    </tr>\n",
       "    <tr>\n",
       "      <th>11</th>\n",
       "      <td>MDS</td>\n",
       "      <td>SW_IN</td>\n",
       "      <td>22.5</td>\n",
       "      <td>3</td>\n",
       "      <td>170.957608</td>\n",
       "      <td>0.838017</td>\n",
       "    </tr>\n",
       "    <tr>\n",
       "      <th>14</th>\n",
       "      <td>MDS</td>\n",
       "      <td>SW_IN</td>\n",
       "      <td>22.5</td>\n",
       "      <td>4</td>\n",
       "      <td>73.082151</td>\n",
       "      <td>0.358241</td>\n",
       "    </tr>\n",
       "  </tbody>\n",
       "</table>\n",
       "<p>120 rows × 6 columns</p>\n",
       "</div>"
      ],
      "text/plain": [
       "          method    var gap_len  idx_rep        rmse  rmse_stand\n",
       "0   KalmanFilter     TA     2.5        0    0.458599    0.057870\n",
       "3   KalmanFilter     TA     2.5        1    0.156532    0.019753\n",
       "6   KalmanFilter     TA     2.5        2    0.174399    0.022007\n",
       "9   KalmanFilter     TA     2.5        3    0.361323    0.045595\n",
       "12  KalmanFilter     TA     2.5        4    0.655402    0.082705\n",
       "..           ...    ...     ...      ...         ...         ...\n",
       "2            MDS  SW_IN    22.5        0  187.993906    0.921527\n",
       "5            MDS  SW_IN    22.5        1  106.935300    0.524186\n",
       "8            MDS  SW_IN    22.5        2   29.948688    0.146805\n",
       "11           MDS  SW_IN    22.5        3  170.957608    0.838017\n",
       "14           MDS  SW_IN    22.5        4   73.082151    0.358241\n",
       "\n",
       "[120 rows x 6 columns]"
      ]
     },
     "execution_count": null,
     "metadata": {},
     "output_type": "execute_result"
    }
   ],
   "source": [
    "data_results"
   ]
  },
  {
   "cell_type": "code",
   "execution_count": null,
   "id": "e62077fd-2f97-4561-99b5-95221c52003d",
   "metadata": {},
   "outputs": [
    {
     "data": {
      "text/html": [
       "<div>\n",
       "<style scoped>\n",
       "    .dataframe tbody tr th:only-of-type {\n",
       "        vertical-align: middle;\n",
       "    }\n",
       "\n",
       "    .dataframe tbody tr th {\n",
       "        vertical-align: top;\n",
       "    }\n",
       "\n",
       "    .dataframe thead th {\n",
       "        text-align: right;\n",
       "    }\n",
       "</style>\n",
       "<table border=\"1\" class=\"dataframe\">\n",
       "  <thead>\n",
       "    <tr style=\"text-align: right;\">\n",
       "      <th></th>\n",
       "      <th>gap_len</th>\n",
       "      <th>method</th>\n",
       "      <th>var</th>\n",
       "      <th>median</th>\n",
       "      <th>q1</th>\n",
       "      <th>q3</th>\n",
       "    </tr>\n",
       "  </thead>\n",
       "  <tbody>\n",
       "    <tr>\n",
       "      <th>0</th>\n",
       "      <td>2.5</td>\n",
       "      <td>KalmanFilter</td>\n",
       "      <td>TA</td>\n",
       "      <td>0.045595</td>\n",
       "      <td>0.022007</td>\n",
       "      <td>0.057870</td>\n",
       "    </tr>\n",
       "    <tr>\n",
       "      <th>1</th>\n",
       "      <td>2.5</td>\n",
       "      <td>KalmanFilter</td>\n",
       "      <td>SW_IN</td>\n",
       "      <td>0.128317</td>\n",
       "      <td>0.050479</td>\n",
       "      <td>0.241264</td>\n",
       "    </tr>\n",
       "    <tr>\n",
       "      <th>2</th>\n",
       "      <td>2.5</td>\n",
       "      <td>KalmanFilter</td>\n",
       "      <td>LW_IN</td>\n",
       "      <td>NaN</td>\n",
       "      <td>NaN</td>\n",
       "      <td>NaN</td>\n",
       "    </tr>\n",
       "    <tr>\n",
       "      <th>3</th>\n",
       "      <td>2.5</td>\n",
       "      <td>KalmanFilter</td>\n",
       "      <td>VPD</td>\n",
       "      <td>NaN</td>\n",
       "      <td>NaN</td>\n",
       "      <td>NaN</td>\n",
       "    </tr>\n",
       "    <tr>\n",
       "      <th>4</th>\n",
       "      <td>2.5</td>\n",
       "      <td>KalmanFilter</td>\n",
       "      <td>WS</td>\n",
       "      <td>NaN</td>\n",
       "      <td>NaN</td>\n",
       "      <td>NaN</td>\n",
       "    </tr>\n",
       "    <tr>\n",
       "      <th>...</th>\n",
       "      <td>...</td>\n",
       "      <td>...</td>\n",
       "      <td>...</td>\n",
       "      <td>...</td>\n",
       "      <td>...</td>\n",
       "      <td>...</td>\n",
       "    </tr>\n",
       "    <tr>\n",
       "      <th>103</th>\n",
       "      <td>22.5</td>\n",
       "      <td>MDS</td>\n",
       "      <td>WS</td>\n",
       "      <td>NaN</td>\n",
       "      <td>NaN</td>\n",
       "      <td>NaN</td>\n",
       "    </tr>\n",
       "    <tr>\n",
       "      <th>104</th>\n",
       "      <td>22.5</td>\n",
       "      <td>MDS</td>\n",
       "      <td>PA</td>\n",
       "      <td>NaN</td>\n",
       "      <td>NaN</td>\n",
       "      <td>NaN</td>\n",
       "    </tr>\n",
       "    <tr>\n",
       "      <th>105</th>\n",
       "      <td>22.5</td>\n",
       "      <td>MDS</td>\n",
       "      <td>P</td>\n",
       "      <td>NaN</td>\n",
       "      <td>NaN</td>\n",
       "      <td>NaN</td>\n",
       "    </tr>\n",
       "    <tr>\n",
       "      <th>106</th>\n",
       "      <td>22.5</td>\n",
       "      <td>MDS</td>\n",
       "      <td>SWC</td>\n",
       "      <td>NaN</td>\n",
       "      <td>NaN</td>\n",
       "      <td>NaN</td>\n",
       "    </tr>\n",
       "    <tr>\n",
       "      <th>107</th>\n",
       "      <td>22.5</td>\n",
       "      <td>MDS</td>\n",
       "      <td>TS</td>\n",
       "      <td>NaN</td>\n",
       "      <td>NaN</td>\n",
       "      <td>NaN</td>\n",
       "    </tr>\n",
       "  </tbody>\n",
       "</table>\n",
       "<p>108 rows × 6 columns</p>\n",
       "</div>"
      ],
      "text/plain": [
       "    gap_len        method    var    median        q1        q3\n",
       "0       2.5  KalmanFilter     TA  0.045595  0.022007  0.057870\n",
       "1       2.5  KalmanFilter  SW_IN  0.128317  0.050479  0.241264\n",
       "2       2.5  KalmanFilter  LW_IN       NaN       NaN       NaN\n",
       "3       2.5  KalmanFilter    VPD       NaN       NaN       NaN\n",
       "4       2.5  KalmanFilter     WS       NaN       NaN       NaN\n",
       "..      ...           ...    ...       ...       ...       ...\n",
       "103    22.5           MDS     WS       NaN       NaN       NaN\n",
       "104    22.5           MDS     PA       NaN       NaN       NaN\n",
       "105    22.5           MDS      P       NaN       NaN       NaN\n",
       "106    22.5           MDS    SWC       NaN       NaN       NaN\n",
       "107    22.5           MDS     TS       NaN       NaN       NaN\n",
       "\n",
       "[108 rows x 6 columns]"
      ]
     },
     "execution_count": null,
     "metadata": {},
     "output_type": "execute_result"
    }
   ],
   "source": [
    "data_results.groupby(['gap_len', 'method', 'var']).agg(\n",
    "        median = pd.NamedAgg(y.shorthand, 'median'),\n",
    "        q1 = pd.NamedAgg(y.shorthand,lambda x: x.quantile(.25)),\n",
    "        q3 = pd.NamedAgg(y.shorthand,lambda x: x.quantile(.75))).reset_index()"
   ]
  },
  {
   "cell_type": "code",
   "execution_count": null,
   "id": "5669d5e4-fc70-457b-a1a1-71ce0150473f",
   "metadata": {},
   "outputs": [],
   "source": [
    "#| export\n",
    "def custom_boxplot_nooutlier(data: pd.DataFrame,x:alt.X,y:alt.Y, color:alt.Color, xOffset:alt.XOffset):\n",
    "    data = data.groupby(['var', 'method']).agg(\n",
    "        median = pd.NamedAgg(y.shorthand, 'median'),\n",
    "        q1 = pd.NamedAgg(y.shorthand,lambda x: x.quantile(.25)),\n",
    "        q3 = pd.NamedAgg(y.shorthand,lambda x: x.quantile(.75))).reset_index().astype({'var': str})\n",
    "    y_label= 'RMSE Standaridized'\n",
    "    bar = alt.Chart(data).mark_bar(size=14).encode(alt.Y('q1', title=y_label), alt.Y2('q3', title=y_label), x, color, xOffset)\n",
    "    tick = alt.Chart(data).mark_tick(color='white', size=14).encode(alt.Y('median'), x, xOffset)\n",
    "    return bar + tick"
   ]
  },
  {
   "cell_type": "code",
   "execution_count": null,
   "id": "941b3ce4-705c-41d5-9375-87bb7ce4a383",
   "metadata": {},
   "outputs": [],
   "source": [
    "#| export\n",
    "def the_plot_stand3(data):\n",
    "    return custom_boxplot_nooutlier(data,\n",
    "                                    alt.X('var:N', title='variable',axis=alt.Axis(labelAngle=0), scale=alt.Scale(domain=meteo_scale.domain)),\n",
    "                                    alt.Y('rmse_stand'),\n",
    "                                    alt.Color('method:N', scale=method_scale),\n",
    "                                    alt.XOffset('method', )).properties(width=600)"
   ]
  },
  {
   "cell_type": "code",
   "execution_count": null,
   "id": "b0b0c69e-bfb7-4c65-bd7e-9bb08d2dea6b",
   "metadata": {},
   "outputs": [
    {
     "data": {
      "text/html": [
       "\n",
       "<div id=\"altair-viz-daa959db8620457d81c513f4ad285bef\"></div>\n",
       "<script type=\"text/javascript\">\n",
       "  var VEGA_DEBUG = (typeof VEGA_DEBUG == \"undefined\") ? {} : VEGA_DEBUG;\n",
       "  (function(spec, embedOpt){\n",
       "    let outputDiv = document.currentScript.previousElementSibling;\n",
       "    if (outputDiv.id !== \"altair-viz-daa959db8620457d81c513f4ad285bef\") {\n",
       "      outputDiv = document.getElementById(\"altair-viz-daa959db8620457d81c513f4ad285bef\");\n",
       "    }\n",
       "    const paths = {\n",
       "      \"vega\": \"https://cdn.jsdelivr.net/npm/vega@5?noext\",\n",
       "      \"vega-lib\": \"https://cdn.jsdelivr.net/npm/vega-lib?noext\",\n",
       "      \"vega-lite\": \"https://cdn.jsdelivr.net/npm/vega-lite@5.2.0?noext\",\n",
       "      \"vega-embed\": \"https://cdn.jsdelivr.net/npm/vega-embed@6?noext\",\n",
       "    };\n",
       "\n",
       "    function maybeLoadScript(lib, version) {\n",
       "      var key = `${lib.replace(\"-\", \"\")}_version`;\n",
       "      return (VEGA_DEBUG[key] == version) ?\n",
       "        Promise.resolve(paths[lib]) :\n",
       "        new Promise(function(resolve, reject) {\n",
       "          var s = document.createElement('script');\n",
       "          document.getElementsByTagName(\"head\")[0].appendChild(s);\n",
       "          s.async = true;\n",
       "          s.onload = () => {\n",
       "            VEGA_DEBUG[key] = version;\n",
       "            return resolve(paths[lib]);\n",
       "          };\n",
       "          s.onerror = () => reject(`Error loading script: ${paths[lib]}`);\n",
       "          s.src = paths[lib];\n",
       "        });\n",
       "    }\n",
       "\n",
       "    function showError(err) {\n",
       "      outputDiv.innerHTML = `<div class=\"error\" style=\"color:red;\">${err}</div>`;\n",
       "      throw err;\n",
       "    }\n",
       "\n",
       "    function displayChart(vegaEmbed) {\n",
       "      vegaEmbed(outputDiv, spec, embedOpt)\n",
       "        .catch(err => showError(`Javascript Error: ${err.message}<br>This usually means there's a typo in your chart specification. See the javascript console for the full traceback.`));\n",
       "    }\n",
       "\n",
       "    if(typeof define === \"function\" && define.amd) {\n",
       "      requirejs.config({paths});\n",
       "      require([\"vega-embed\"], displayChart, err => showError(`Error loading script: ${err.message}`));\n",
       "    } else {\n",
       "      maybeLoadScript(\"vega\", \"5\")\n",
       "        .then(() => maybeLoadScript(\"vega-lite\", \"5.2.0\"))\n",
       "        .then(() => maybeLoadScript(\"vega-embed\", \"6\"))\n",
       "        .catch(showError)\n",
       "        .then(() => displayChart(vegaEmbed));\n",
       "    }\n",
       "  })({\"config\": {\"view\": {\"continuousWidth\": 300, \"continuousHeight\": 300}}, \"layer\": [{\"mark\": {\"type\": \"bar\", \"size\": 14}, \"encoding\": {\"color\": {\"field\": \"method\", \"scale\": {\"domain\": [\"KalmanFilter\", \"ERA\", \"MDS\"], \"scheme\": \"dark2\"}, \"type\": \"nominal\"}, \"x\": {\"axis\": {\"labelAngle\": 0}, \"field\": \"var\", \"scale\": {\"domain\": [\"TA\", \"SW_IN\", \"LW_IN\", \"VPD\", \"WS\", \"PA\", \"P\"]}, \"title\": \"variable\", \"type\": \"nominal\"}, \"xOffset\": {\"field\": \"method\", \"sort\": [\"KalmanFilter\", \"ERA\", \"MDS\"], \"type\": \"ordinal\"}, \"y\": {\"field\": \"q1\", \"title\": \"RMSE Standaridized\", \"type\": \"quantitative\"}, \"y2\": {\"field\": \"q3\", \"title\": \"RMSE Standaridized\"}}}, {\"mark\": {\"type\": \"tick\", \"color\": \"white\", \"size\": 14}, \"encoding\": {\"x\": {\"axis\": {\"labelAngle\": 0}, \"field\": \"var\", \"scale\": {\"domain\": [\"TA\", \"SW_IN\", \"LW_IN\", \"VPD\", \"WS\", \"PA\", \"P\"]}, \"title\": \"variable\", \"type\": \"nominal\"}, \"xOffset\": {\"field\": \"method\", \"sort\": [\"KalmanFilter\", \"ERA\", \"MDS\"], \"type\": \"ordinal\"}, \"y\": {\"field\": \"median\", \"type\": \"quantitative\"}}}], \"data\": {\"name\": \"data-e66e52270383a9b9a60ebff9cfe754d8\"}, \"width\": 600, \"$schema\": \"https://vega.github.io/schema/vega-lite/v5.2.0.json\", \"datasets\": {\"data-e66e52270383a9b9a60ebff9cfe754d8\": [{\"var\": \"TA\", \"method\": \"KalmanFilter\", \"median\": 0.06277925697291306, \"q1\": 0.03538978634264842, \"q3\": 0.0857726497111336}, {\"var\": \"TA\", \"method\": \"ERA\", \"median\": 0.15117051689982966, \"q1\": 0.08684039427820775, \"q3\": 0.26771004628422096}, {\"var\": \"TA\", \"method\": \"MDS\", \"median\": 0.24275967853563235, \"q1\": 0.16428372710769384, \"q3\": 0.30360254032033246}, {\"var\": \"SW_IN\", \"method\": \"KalmanFilter\", \"median\": 0.23755058181903066, \"q1\": 0.13493250563549586, \"q3\": 0.3298659144705054}, {\"var\": \"SW_IN\", \"method\": \"ERA\", \"median\": 0.23992914812573274, \"q1\": 0.033223629436584926, \"q3\": 0.5209350949230749}, {\"var\": \"SW_IN\", \"method\": \"MDS\", \"median\": 0.2359471320211245, \"q1\": 0.035607370432110895, \"q3\": 0.5479896955832162}, {\"var\": \"LW_IN\", \"method\": \"KalmanFilter\", \"median\": null, \"q1\": null, \"q3\": null}, {\"var\": \"LW_IN\", \"method\": \"ERA\", \"median\": null, \"q1\": null, \"q3\": null}, {\"var\": \"LW_IN\", \"method\": \"MDS\", \"median\": null, \"q1\": null, \"q3\": null}, {\"var\": \"VPD\", \"method\": \"KalmanFilter\", \"median\": null, \"q1\": null, \"q3\": null}, {\"var\": \"VPD\", \"method\": \"ERA\", \"median\": null, \"q1\": null, \"q3\": null}, {\"var\": \"VPD\", \"method\": \"MDS\", \"median\": null, \"q1\": null, \"q3\": null}, {\"var\": \"WS\", \"method\": \"KalmanFilter\", \"median\": null, \"q1\": null, \"q3\": null}, {\"var\": \"WS\", \"method\": \"ERA\", \"median\": null, \"q1\": null, \"q3\": null}, {\"var\": \"WS\", \"method\": \"MDS\", \"median\": null, \"q1\": null, \"q3\": null}, {\"var\": \"PA\", \"method\": \"KalmanFilter\", \"median\": null, \"q1\": null, \"q3\": null}, {\"var\": \"PA\", \"method\": \"ERA\", \"median\": null, \"q1\": null, \"q3\": null}, {\"var\": \"PA\", \"method\": \"MDS\", \"median\": null, \"q1\": null, \"q3\": null}, {\"var\": \"P\", \"method\": \"KalmanFilter\", \"median\": null, \"q1\": null, \"q3\": null}, {\"var\": \"P\", \"method\": \"ERA\", \"median\": null, \"q1\": null, \"q3\": null}, {\"var\": \"P\", \"method\": \"MDS\", \"median\": null, \"q1\": null, \"q3\": null}, {\"var\": \"SWC\", \"method\": \"KalmanFilter\", \"median\": null, \"q1\": null, \"q3\": null}, {\"var\": \"SWC\", \"method\": \"ERA\", \"median\": null, \"q1\": null, \"q3\": null}, {\"var\": \"SWC\", \"method\": \"MDS\", \"median\": null, \"q1\": null, \"q3\": null}, {\"var\": \"TS\", \"method\": \"KalmanFilter\", \"median\": null, \"q1\": null, \"q3\": null}, {\"var\": \"TS\", \"method\": \"ERA\", \"median\": null, \"q1\": null, \"q3\": null}, {\"var\": \"TS\", \"method\": \"MDS\", \"median\": null, \"q1\": null, \"q3\": null}]}}, {\"mode\": \"vega-lite\"});\n",
       "</script>"
      ],
      "text/plain": [
       "alt.LayerChart(...)"
      ]
     },
     "execution_count": null,
     "metadata": {},
     "output_type": "execute_result"
    }
   ],
   "source": [
    "the_plot_stand3(data_results)"
   ]
  },
  {
   "cell_type": "markdown",
   "id": "6eace117-127a-48a2-b424-1332d107d679",
   "metadata": {},
   "source": [
    "violin plots don't work"
   ]
  },
  {
   "cell_type": "code",
   "execution_count": null,
   "id": "ac3b7ac3-f5c1-48b6-8b7f-903dd043be53",
   "metadata": {},
   "outputs": [],
   "source": [
    "def _the_plot_violin(data, y_label):\n",
    "        return alt.Chart(data).mark_area(orient='horizontal').encode(\n",
    "        x = alt.X('density:Q', title='gap_len [h]', axis=alt.Axis(labelAngle=0)),\n",
    "        y = alt.Y('rmse', title=y_label, scale=alt.Scale(domainMin=-.2 *data['rmse'].mean())),\n",
    "        color=alt.Color('method:N', scale=alt.Scale(domain=[\"KalmanFilter\", \"ERA\", \"MDS\"], scheme='dark2')),\n",
    "        xOffset=alt.XOffset('method', scale=alt.Scale(domain=[\"KalmanFilter\", \"ERA\", \"MDS\"])),\n",
    "        column=alt.Column('gap_len')\n",
    "    ).transform_density(\n",
    "    'rmse',\n",
    "    as_=['rmse', 'density'],\n",
    "    groupby=['method', 'gap_len']\n",
    ").properties(width=250, height=200)"
   ]
  },
  {
   "cell_type": "code",
   "execution_count": null,
   "id": "7dc1394d-5108-44a1-87a9-9771a67b7083",
   "metadata": {},
   "outputs": [
    {
     "data": {
      "text/html": [
       "\n",
       "<div id=\"altair-viz-66c7f28b8395407da72b44aec2e2ff27\"></div>\n",
       "<script type=\"text/javascript\">\n",
       "  var VEGA_DEBUG = (typeof VEGA_DEBUG == \"undefined\") ? {} : VEGA_DEBUG;\n",
       "  (function(spec, embedOpt){\n",
       "    let outputDiv = document.currentScript.previousElementSibling;\n",
       "    if (outputDiv.id !== \"altair-viz-66c7f28b8395407da72b44aec2e2ff27\") {\n",
       "      outputDiv = document.getElementById(\"altair-viz-66c7f28b8395407da72b44aec2e2ff27\");\n",
       "    }\n",
       "    const paths = {\n",
       "      \"vega\": \"https://cdn.jsdelivr.net/npm/vega@5?noext\",\n",
       "      \"vega-lib\": \"https://cdn.jsdelivr.net/npm/vega-lib?noext\",\n",
       "      \"vega-lite\": \"https://cdn.jsdelivr.net/npm/vega-lite@5.2.0?noext\",\n",
       "      \"vega-embed\": \"https://cdn.jsdelivr.net/npm/vega-embed@6?noext\",\n",
       "    };\n",
       "\n",
       "    function maybeLoadScript(lib, version) {\n",
       "      var key = `${lib.replace(\"-\", \"\")}_version`;\n",
       "      return (VEGA_DEBUG[key] == version) ?\n",
       "        Promise.resolve(paths[lib]) :\n",
       "        new Promise(function(resolve, reject) {\n",
       "          var s = document.createElement('script');\n",
       "          document.getElementsByTagName(\"head\")[0].appendChild(s);\n",
       "          s.async = true;\n",
       "          s.onload = () => {\n",
       "            VEGA_DEBUG[key] = version;\n",
       "            return resolve(paths[lib]);\n",
       "          };\n",
       "          s.onerror = () => reject(`Error loading script: ${paths[lib]}`);\n",
       "          s.src = paths[lib];\n",
       "        });\n",
       "    }\n",
       "\n",
       "    function showError(err) {\n",
       "      outputDiv.innerHTML = `<div class=\"error\" style=\"color:red;\">${err}</div>`;\n",
       "      throw err;\n",
       "    }\n",
       "\n",
       "    function displayChart(vegaEmbed) {\n",
       "      vegaEmbed(outputDiv, spec, embedOpt)\n",
       "        .catch(err => showError(`Javascript Error: ${err.message}<br>This usually means there's a typo in your chart specification. See the javascript console for the full traceback.`));\n",
       "    }\n",
       "\n",
       "    if(typeof define === \"function\" && define.amd) {\n",
       "      requirejs.config({paths});\n",
       "      require([\"vega-embed\"], displayChart, err => showError(`Error loading script: ${err.message}`));\n",
       "    } else {\n",
       "      maybeLoadScript(\"vega\", \"5\")\n",
       "        .then(() => maybeLoadScript(\"vega-lite\", \"5.2.0\"))\n",
       "        .then(() => maybeLoadScript(\"vega-embed\", \"6\"))\n",
       "        .catch(showError)\n",
       "        .then(() => displayChart(vegaEmbed));\n",
       "    }\n",
       "  })({\"config\": {\"view\": {\"continuousWidth\": 300, \"continuousHeight\": 300}}, \"vconcat\": [{\"hconcat\": [{\"mark\": {\"type\": \"area\", \"orient\": \"horizontal\"}, \"encoding\": {\"color\": {\"field\": \"method\", \"scale\": {\"domain\": [\"KalmanFilter\", \"ERA\", \"MDS\"], \"scheme\": \"dark2\"}, \"type\": \"nominal\"}, \"column\": {\"field\": \"gap_len\", \"type\": \"nominal\"}, \"x\": {\"axis\": {\"labelAngle\": 0}, \"field\": \"density\", \"title\": \"gap_len [h]\", \"type\": \"quantitative\"}, \"xOffset\": {\"field\": \"method\", \"scale\": {\"domain\": [\"KalmanFilter\", \"ERA\", \"MDS\"]}, \"sort\": [\"KalmanFilter\", \"ERA\", \"MDS\"], \"type\": \"ordinal\"}, \"y\": {\"field\": \"rmse\", \"scale\": {\"domainMin\": -0.26512848188338156}, \"title\": \"RMSE TA [\\u00b0C]\", \"type\": \"quantitative\"}}, \"height\": 200, \"title\": \"TA\", \"transform\": [{\"density\": \"rmse\", \"groupby\": [\"method\", \"gap_len\"], \"as\": [\"rmse\", \"density\"]}], \"width\": 250}, {\"data\": {\"name\": \"data-90166fd4a71f41e3483e1d308ae1df3f\"}, \"mark\": {\"type\": \"area\", \"orient\": \"horizontal\"}, \"encoding\": {\"color\": {\"field\": \"method\", \"scale\": {\"domain\": [\"KalmanFilter\", \"ERA\", \"MDS\"], \"scheme\": \"dark2\"}, \"type\": \"nominal\"}, \"column\": {\"field\": \"gap_len\", \"type\": \"nominal\"}, \"x\": {\"axis\": {\"labelAngle\": 0}, \"field\": \"density\", \"title\": \"gap_len [h]\", \"type\": \"quantitative\"}, \"xOffset\": {\"field\": \"method\", \"scale\": {\"domain\": [\"KalmanFilter\", \"ERA\", \"MDS\"]}, \"sort\": [\"KalmanFilter\", \"ERA\", \"MDS\"], \"type\": \"ordinal\"}, \"y\": {\"field\": \"rmse\", \"scale\": {\"domainMin\": -12.911865865090348}, \"title\": \"RMSE SW_IN [W m-2]\", \"type\": \"quantitative\"}}, \"height\": 200, \"title\": \"SW_IN\", \"transform\": [{\"density\": \"rmse\", \"groupby\": [\"method\", \"gap_len\"], \"as\": [\"rmse\", \"density\"]}], \"width\": 250}]}], \"data\": {\"name\": \"data-57b235acc3e0da4b249c35ef8dd6de1f\"}, \"resolve\": {\"scale\": {\"xOffset\": \"independent\"}}, \"$schema\": \"https://vega.github.io/schema/vega-lite/v5.2.0.json\", \"datasets\": {\"data-57b235acc3e0da4b249c35ef8dd6de1f\": [{\"method\": \"KalmanFilter\", \"var\": \"TA\", \"gap_len\": 2.5, \"idx_rep\": 0, \"rmse\": 0.45859917867745875, \"rmse_stand\": 0.05787024654125715}, {\"method\": \"KalmanFilter\", \"var\": \"TA\", \"gap_len\": 2.5, \"idx_rep\": 1, \"rmse\": 0.1565318544722203, \"rmse_stand\": 0.019752623709425807}, {\"method\": \"KalmanFilter\", \"var\": \"TA\", \"gap_len\": 2.5, \"idx_rep\": 2, \"rmse\": 0.17439920963505967, \"rmse_stand\": 0.022007290303673988}, {\"method\": \"KalmanFilter\", \"var\": \"TA\", \"gap_len\": 2.5, \"idx_rep\": 3, \"rmse\": 0.36132286304577765, \"rmse_stand\": 0.04559502968529807}, {\"method\": \"KalmanFilter\", \"var\": \"TA\", \"gap_len\": 2.5, \"idx_rep\": 4, \"rmse\": 0.6554024098455221, \"rmse_stand\": 0.08270468157155182}, {\"method\": \"ERA\", \"var\": \"TA\", \"gap_len\": 2.5, \"idx_rep\": 0, \"rmse\": 1.4494880475533438, \"rmse_stand\": 0.18290968359869958}, {\"method\": \"ERA\", \"var\": \"TA\", \"gap_len\": 2.5, \"idx_rep\": 1, \"rmse\": 2.161609585470975, \"rmse_stand\": 0.2727717044716518}, {\"method\": \"ERA\", \"var\": \"TA\", \"gap_len\": 2.5, \"idx_rep\": 2, \"rmse\": 3.079831748651215, \"rmse_stand\": 0.3886413907544082}, {\"method\": \"ERA\", \"var\": \"TA\", \"gap_len\": 2.5, \"idx_rep\": 3, \"rmse\": 0.2689706303669617, \"rmse_stand\": 0.03394117873604142}, {\"method\": \"ERA\", \"var\": \"TA\", \"gap_len\": 2.5, \"idx_rep\": 4, \"rmse\": 0.9925782588793692, \"rmse_stand\": 0.12525261976807855}, {\"method\": \"MDS\", \"var\": \"TA\", \"gap_len\": 2.5, \"idx_rep\": 0, \"rmse\": 3.836379180880156, \"rmse_stand\": 0.4841094780490788}, {\"method\": \"MDS\", \"var\": \"TA\", \"gap_len\": 2.5, \"idx_rep\": 1, \"rmse\": 1.4774830321552226, \"rmse_stand\": 0.1864423472757291}, {\"method\": \"MDS\", \"var\": \"TA\", \"gap_len\": 2.5, \"idx_rep\": 2, \"rmse\": 1.9375648552665787, \"rmse_stand\": 0.24449968747722806}, {\"method\": \"MDS\", \"var\": \"TA\", \"gap_len\": 2.5, \"idx_rep\": 3, \"rmse\": 5.648068036692516, \"rmse_stand\": 0.712724978504755}, {\"method\": \"MDS\", \"var\": \"TA\", \"gap_len\": 2.5, \"idx_rep\": 4, \"rmse\": 0.3964013964302305, \"rmse_stand\": 0.05002156045475621}, {\"method\": \"KalmanFilter\", \"var\": \"TA\", \"gap_len\": 5.0, \"idx_rep\": 0, \"rmse\": 0.2688583185422039, \"rmse_stand\": 0.033927006200872516}, {\"method\": \"KalmanFilter\", \"var\": \"TA\", \"gap_len\": 5.0, \"idx_rep\": 1, \"rmse\": 1.2202396323108624, \"rmse_stand\": 0.15398101794444732}, {\"method\": \"KalmanFilter\", \"var\": \"TA\", \"gap_len\": 5.0, \"idx_rep\": 2, \"rmse\": 0.5364031724956462, \"rmse_stand\": 0.06768826740456896}, {\"method\": \"KalmanFilter\", \"var\": \"TA\", \"gap_len\": 5.0, \"idx_rep\": 3, \"rmse\": 0.8466554501787661, \"rmse_stand\": 0.10683874266552962}, {\"method\": \"KalmanFilter\", \"var\": \"TA\", \"gap_len\": 5.0, \"idx_rep\": 4, \"rmse\": 0.22290406604227006, \"rmse_stand\": 0.02812807753846262}, {\"method\": \"ERA\", \"var\": \"TA\", \"gap_len\": 5.0, \"idx_rep\": 0, \"rmse\": 0.6161552564086423, \"rmse_stand\": 0.07775211612652692}, {\"method\": \"ERA\", \"var\": \"TA\", \"gap_len\": 5.0, \"idx_rep\": 1, \"rmse\": 2.699802622415201, \"rmse_stand\": 0.34068583337299324}, {\"method\": \"ERA\", \"var\": \"TA\", \"gap_len\": 5.0, \"idx_rep\": 2, \"rmse\": 2.47888904552019, \"rmse_stand\": 0.31280893399412035}, {\"method\": \"ERA\", \"var\": \"TA\", \"gap_len\": 5.0, \"idx_rep\": 3, \"rmse\": 1.092673418730409, \"rmse_stand\": 0.13788354421689927}, {\"method\": \"ERA\", \"var\": \"TA\", \"gap_len\": 5.0, \"idx_rep\": 4, \"rmse\": 0.4736103883995789, \"rmse_stand\": 0.05976449853273876}, {\"method\": \"MDS\", \"var\": \"TA\", \"gap_len\": 5.0, \"idx_rep\": 0, \"rmse\": 0.37018423676457685, \"rmse_stand\": 0.04671323901851145}, {\"method\": \"MDS\", \"var\": \"TA\", \"gap_len\": 5.0, \"idx_rep\": 1, \"rmse\": 2.5049789719717106, \"rmse_stand\": 0.31610119997755914}, {\"method\": \"MDS\", \"var\": \"TA\", \"gap_len\": 5.0, \"idx_rep\": 2, \"rmse\": 1.3607584787271558, \"rmse_stand\": 0.1717129735690849}, {\"method\": \"MDS\", \"var\": \"TA\", \"gap_len\": 5.0, \"idx_rep\": 3, \"rmse\": 3.518030450205353, \"rmse_stand\": 0.44393731816127335}, {\"method\": \"MDS\", \"var\": \"TA\", \"gap_len\": 5.0, \"idx_rep\": 4, \"rmse\": 0.3487218153797257, \"rmse_stand\": 0.0440049140265314}, {\"method\": \"KalmanFilter\", \"var\": \"TA\", \"gap_len\": 10.0, \"idx_rep\": 0, \"rmse\": 0.3093641609454863, \"rmse_stand\": 0.03903840455313145}, {\"method\": \"KalmanFilter\", \"var\": \"TA\", \"gap_len\": 10.0, \"idx_rep\": 1, \"rmse\": 1.128727890568843, \"rmse_stand\": 0.14243322784307175}, {\"method\": \"KalmanFilter\", \"var\": \"TA\", \"gap_len\": 10.0, \"idx_rep\": 2, \"rmse\": 0.23575566323259534, \"rmse_stand\": 0.029749809832004575}, {\"method\": \"KalmanFilter\", \"var\": \"TA\", \"gap_len\": 10.0, \"idx_rep\": 3, \"rmse\": 0.7054704330482424, \"rmse_stand\": 0.08902272351600249}, {\"method\": \"KalmanFilter\", \"var\": \"TA\", \"gap_len\": 10.0, \"idx_rep\": 4, \"rmse\": 0.6711296732361712, \"rmse_stand\": 0.08468929177617732}, {\"method\": \"ERA\", \"var\": \"TA\", \"gap_len\": 10.0, \"idx_rep\": 0, \"rmse\": 0.6373100109052111, \"rmse_stand\": 0.0804216168913707}, {\"method\": \"ERA\", \"var\": \"TA\", \"gap_len\": 10.0, \"idx_rep\": 1, \"rmse\": 3.3073337448766793, \"rmse_stand\": 0.417349677254536}, {\"method\": \"ERA\", \"var\": \"TA\", \"gap_len\": 10.0, \"idx_rep\": 2, \"rmse\": 0.5084344598864242, \"rmse_stand\": 0.06415891896830497}, {\"method\": \"ERA\", \"var\": \"TA\", \"gap_len\": 10.0, \"idx_rep\": 3, \"rmse\": 1.0420521100213753, \"rmse_stand\": 0.13149568363746894}, {\"method\": \"ERA\", \"var\": \"TA\", \"gap_len\": 10.0, \"idx_rep\": 4, \"rmse\": 1.3107373306654544, \"rmse_stand\": 0.16540084675944816}, {\"method\": \"MDS\", \"var\": \"TA\", \"gap_len\": 10.0, \"idx_rep\": 0, \"rmse\": 1.909987068089248, \"rmse_stand\": 0.24101966959403665}, {\"method\": \"MDS\", \"var\": \"TA\", \"gap_len\": 10.0, \"idx_rep\": 1, \"rmse\": 0.9628557873659838, \"rmse_stand\": 0.12150196596347405}, {\"method\": \"MDS\", \"var\": \"TA\", \"gap_len\": 10.0, \"idx_rep\": 2, \"rmse\": 1.2267196441453094, \"rmse_stand\": 0.15479872521451082}, {\"method\": \"MDS\", \"var\": \"TA\", \"gap_len\": 10.0, \"idx_rep\": 3, \"rmse\": 2.680745456962698, \"rmse_stand\": 0.33828102561408196}, {\"method\": \"MDS\", \"var\": \"TA\", \"gap_len\": 10.0, \"idx_rep\": 4, \"rmse\": 1.3269395749489976, \"rmse_stand\": 0.16744539440542153}, {\"method\": \"KalmanFilter\", \"var\": \"TA\", \"gap_len\": 22.5, \"idx_rep\": 0, \"rmse\": 0.5864129798979331, \"rmse_stand\": 0.07399896314588557}, {\"method\": \"KalmanFilter\", \"var\": \"TA\", \"gap_len\": 22.5, \"idx_rep\": 1, \"rmse\": 0.2843142695520981, \"rmse_stand\": 0.03587737972324039}, {\"method\": \"KalmanFilter\", \"var\": \"TA\", \"gap_len\": 22.5, \"idx_rep\": 2, \"rmse\": 0.7435215897867138, \"rmse_stand\": 0.09382436713862241}, {\"method\": \"KalmanFilter\", \"var\": \"TA\", \"gap_len\": 22.5, \"idx_rep\": 3, \"rmse\": 0.5667248001907798, \"rmse_stand\": 0.07151452822629564}, {\"method\": \"KalmanFilter\", \"var\": \"TA\", \"gap_len\": 22.5, \"idx_rep\": 4, \"rmse\": 0.3841439659959281, \"rmse_stand\": 0.048474805566879976}, {\"method\": \"ERA\", \"var\": \"TA\", \"gap_len\": 22.5, \"idx_rep\": 0, \"rmse\": 1.667383605799484, \"rmse_stand\": 0.21040574173014598}, {\"method\": \"ERA\", \"var\": \"TA\", \"gap_len\": 22.5, \"idx_rep\": 1, \"rmse\": 1.3032615922284283, \"rmse_stand\": 0.16445748958276005}, {\"method\": \"ERA\", \"var\": \"TA\", \"gap_len\": 22.5, \"idx_rep\": 2, \"rmse\": 2.108127357527423, \"rmse_stand\": 0.26602282688841067}, {\"method\": \"ERA\", \"var\": \"TA\", \"gap_len\": 22.5, \"idx_rep\": 3, \"rmse\": 0.9962245284628918, \"rmse_stand\": 0.12571273947514577}, {\"method\": \"ERA\", \"var\": \"TA\", \"gap_len\": 22.5, \"idx_rep\": 4, \"rmse\": 0.7051317607369562, \"rmse_stand\": 0.08897998674048677}, {\"method\": \"MDS\", \"var\": \"TA\", \"gap_len\": 22.5, \"idx_rep\": 0, \"rmse\": 2.285323794678169, \"rmse_stand\": 0.28838309699120157}, {\"method\": \"MDS\", \"var\": \"TA\", \"gap_len\": 22.5, \"idx_rep\": 1, \"rmse\": 2.0471406981319173, \"rmse_stand\": 0.25832697138094185}, {\"method\": \"MDS\", \"var\": \"TA\", \"gap_len\": 22.5, \"idx_rep\": 2, \"rmse\": 2.372916288158608, \"rmse_stand\": 0.29943632043459023}, {\"method\": \"MDS\", \"var\": \"TA\", \"gap_len\": 22.5, \"idx_rep\": 3, \"rmse\": 1.880445459034662, \"rmse_stand\": 0.2372918386717386}, {\"method\": \"MDS\", \"var\": \"TA\", \"gap_len\": 22.5, \"idx_rep\": 4, \"rmse\": 2.030413253818859, \"rmse_stand\": 0.2562161491828004}], \"data-90166fd4a71f41e3483e1d308ae1df3f\": [{\"method\": \"KalmanFilter\", \"var\": \"SW_IN\", \"gap_len\": 2.5, \"idx_rep\": 0, \"rmse\": 190.09913902131657, \"rmse_stand\": 0.9318468267638063}, {\"method\": \"KalmanFilter\", \"var\": \"SW_IN\", \"gap_len\": 2.5, \"idx_rep\": 1, \"rmse\": 49.21839339415338, \"rmse_stand\": 0.24126360560534468}, {\"method\": \"KalmanFilter\", \"var\": \"SW_IN\", \"gap_len\": 2.5, \"idx_rep\": 2, \"rmse\": 26.177013703672745, \"rmse_stand\": 0.12831708380954235}, {\"method\": \"KalmanFilter\", \"var\": \"SW_IN\", \"gap_len\": 2.5, \"idx_rep\": 3, \"rmse\": 10.297807264588364, \"rmse_stand\": 0.05047881369444763}, {\"method\": \"KalmanFilter\", \"var\": \"SW_IN\", \"gap_len\": 2.5, \"idx_rep\": 4, \"rmse\": 5.383079865402994, \"rmse_stand\": 0.026387315148383866}, {\"method\": \"ERA\", \"var\": \"SW_IN\", \"gap_len\": 2.5, \"idx_rep\": 0, \"rmse\": 226.71763952943755, \"rmse_stand\": 1.1113470268963015}, {\"method\": \"ERA\", \"var\": \"SW_IN\", \"gap_len\": 2.5, \"idx_rep\": 1, \"rmse\": 106.967430378597, \"rmse_stand\": 0.5243435666176098}, {\"method\": \"ERA\", \"var\": \"SW_IN\", \"gap_len\": 2.5, \"idx_rep\": 2, \"rmse\": 0.0, \"rmse_stand\": 0.0}, {\"method\": \"ERA\", \"var\": \"SW_IN\", \"gap_len\": 2.5, \"idx_rep\": 3, \"rmse\": 20.03160425427779, \"rmse_stand\": 0.09819290584605954}, {\"method\": \"ERA\", \"var\": \"SW_IN\", \"gap_len\": 2.5, \"idx_rep\": 4, \"rmse\": 0.0, \"rmse_stand\": 0.0}, {\"method\": \"MDS\", \"var\": \"SW_IN\", \"gap_len\": 2.5, \"idx_rep\": 0, \"rmse\": 203.68295492825962, \"rmse_stand\": 0.9984333237537226}, {\"method\": \"MDS\", \"var\": \"SW_IN\", \"gap_len\": 2.5, \"idx_rep\": 1, \"rmse\": 56.693166616168064, \"rmse_stand\": 0.2779041908471979}, {\"method\": \"MDS\", \"var\": \"SW_IN\", \"gap_len\": 2.5, \"idx_rep\": 2, \"rmse\": 0.0, \"rmse_stand\": 0.0}, {\"method\": \"MDS\", \"var\": \"SW_IN\", \"gap_len\": 2.5, \"idx_rep\": 3, \"rmse\": 7.710506345616034, \"rmse_stand\": 0.037796125263349085}, {\"method\": \"MDS\", \"var\": \"SW_IN\", \"gap_len\": 2.5, \"idx_rep\": 4, \"rmse\": 0.0, \"rmse_stand\": 0.0}, {\"method\": \"KalmanFilter\", \"var\": \"SW_IN\", \"gap_len\": 5.0, \"idx_rep\": 0, \"rmse\": 47.70346067201218, \"rmse_stand\": 0.2338375580327166}, {\"method\": \"KalmanFilter\", \"var\": \"SW_IN\", \"gap_len\": 5.0, \"idx_rep\": 1, \"rmse\": 29.676779166986936, \"rmse_stand\": 0.1454725815050958}, {\"method\": \"KalmanFilter\", \"var\": \"SW_IN\", \"gap_len\": 5.0, \"idx_rep\": 2, \"rmse\": 32.89706145333922, \"rmse_stand\": 0.16125808082545082}, {\"method\": \"KalmanFilter\", \"var\": \"SW_IN\", \"gap_len\": 5.0, \"idx_rep\": 3, \"rmse\": 51.410734516408716, \"rmse_stand\": 0.2520102409056148}, {\"method\": \"KalmanFilter\", \"var\": \"SW_IN\", \"gap_len\": 5.0, \"idx_rep\": 4, \"rmse\": 21.583705190775863, \"rmse_stand\": 0.10580114826072233}, {\"method\": \"ERA\", \"var\": \"SW_IN\", \"gap_len\": 5.0, \"idx_rep\": 0, \"rmse\": 0.3225523213371747, \"rmse_stand\": 0.0015811189816574696}, {\"method\": \"ERA\", \"var\": \"SW_IN\", \"gap_len\": 5.0, \"idx_rep\": 1, \"rmse\": 59.8714043805555, \"rmse_stand\": 0.29348359215691777}, {\"method\": \"ERA\", \"var\": \"SW_IN\", \"gap_len\": 5.0, \"idx_rep\": 2, \"rmse\": 0.0, \"rmse_stand\": 0.0}, {\"method\": \"ERA\", \"var\": \"SW_IN\", \"gap_len\": 5.0, \"idx_rep\": 3, \"rmse\": 0.0, \"rmse_stand\": 0.0}, {\"method\": \"ERA\", \"var\": \"SW_IN\", \"gap_len\": 5.0, \"idx_rep\": 4, \"rmse\": 13.338528093459189, \"rmse_stand\": 0.06538412084126305}, {\"method\": \"MDS\", \"var\": \"SW_IN\", \"gap_len\": 5.0, \"idx_rep\": 0, \"rmse\": 5.924459982644022, \"rmse_stand\": 0.02904110593839633}, {\"method\": \"MDS\", \"var\": \"SW_IN\", \"gap_len\": 5.0, \"idx_rep\": 1, \"rmse\": 39.57447171991995, \"rmse_stand\": 0.19399007319505107}, {\"method\": \"MDS\", \"var\": \"SW_IN\", \"gap_len\": 5.0, \"idx_rep\": 2, \"rmse\": 0.0, \"rmse_stand\": 0.0}, {\"method\": \"MDS\", \"var\": \"SW_IN\", \"gap_len\": 5.0, \"idx_rep\": 3, \"rmse\": 0.0, \"rmse_stand\": 0.0}, {\"method\": \"MDS\", \"var\": \"SW_IN\", \"gap_len\": 5.0, \"idx_rep\": 4, \"rmse\": 17.4763607256079, \"rmse_stand\": 0.08566735951240262}, {\"method\": \"KalmanFilter\", \"var\": \"SW_IN\", \"gap_len\": 10.0, \"idx_rep\": 0, \"rmse\": 113.96809836865074, \"rmse_stand\": 0.5586601357790674}, {\"method\": \"KalmanFilter\", \"var\": \"SW_IN\", \"gap_len\": 10.0, \"idx_rep\": 1, \"rmse\": 114.14234927322714, \"rmse_stand\": 0.559514296157311}, {\"method\": \"KalmanFilter\", \"var\": \"SW_IN\", \"gap_len\": 10.0, \"idx_rep\": 2, \"rmse\": 24.311262989267203, \"rmse_stand\": 0.11917136178417244}, {\"method\": \"KalmanFilter\", \"var\": \"SW_IN\", \"gap_len\": 10.0, \"idx_rep\": 3, \"rmse\": 70.71423825946418, \"rmse_stand\": 0.34663407140267155}, {\"method\": \"KalmanFilter\", \"var\": \"SW_IN\", \"gap_len\": 10.0, \"idx_rep\": 4, \"rmse\": 65.94746344490703, \"rmse_stand\": 0.32326782152005307}, {\"method\": \"ERA\", \"var\": \"SW_IN\", \"gap_len\": 10.0, \"idx_rep\": 0, \"rmse\": 128.36896992575737, \"rmse_stand\": 0.6292517572467384}, {\"method\": \"ERA\", \"var\": \"SW_IN\", \"gap_len\": 10.0, \"idx_rep\": 1, \"rmse\": 202.27108194697533, \"rmse_stand\": 0.9915124646473813}, {\"method\": \"ERA\", \"var\": \"SW_IN\", \"gap_len\": 10.0, \"idx_rep\": 2, \"rmse\": 8.929423209256019, \"rmse_stand\": 0.04377113292156075}, {\"method\": \"ERA\", \"var\": \"SW_IN\", \"gap_len\": 10.0, \"idx_rep\": 3, \"rmse\": 63.874882284823045, \"rmse_stand\": 0.31310823748838557}, {\"method\": \"ERA\", \"var\": \"SW_IN\", \"gap_len\": 10.0, \"idx_rep\": 4, \"rmse\": 63.59749815519475, \"rmse_stand\": 0.31174852843173495}, {\"method\": \"MDS\", \"var\": \"SW_IN\", \"gap_len\": 10.0, \"idx_rep\": 0, \"rmse\": 197.7548021609146, \"rmse_stand\": 0.9693741161567746}, {\"method\": \"MDS\", \"var\": \"SW_IN\", \"gap_len\": 10.0, \"idx_rep\": 1, \"rmse\": 126.35930456701931, \"rmse_stand\": 0.6194005801344254}, {\"method\": \"MDS\", \"var\": \"SW_IN\", \"gap_len\": 10.0, \"idx_rep\": 2, \"rmse\": 11.69406587379872, \"rmse_stand\": 0.057323132722049426}, {\"method\": \"MDS\", \"var\": \"SW_IN\", \"gap_len\": 10.0, \"idx_rep\": 3, \"rmse\": 75.86027950442896, \"rmse_stand\": 0.37185944711559565}, {\"method\": \"MDS\", \"var\": \"SW_IN\", \"gap_len\": 10.0, \"idx_rep\": 4, \"rmse\": 93.75999514125422, \"rmse_stand\": 0.4596020497492653}, {\"method\": \"KalmanFilter\", \"var\": \"SW_IN\", \"gap_len\": 22.5, \"idx_rep\": 0, \"rmse\": 123.92483025030573, \"rmse_stand\": 0.6074670323101339}, {\"method\": \"KalmanFilter\", \"var\": \"SW_IN\", \"gap_len\": 22.5, \"idx_rep\": 1, \"rmse\": 66.1532423186051, \"rmse_stand\": 0.32427652882645003}, {\"method\": \"KalmanFilter\", \"var\": \"SW_IN\", \"gap_len\": 22.5, \"idx_rep\": 2, \"rmse\": 34.1542955804012, \"rmse_stand\": 0.16742091584844634}, {\"method\": \"KalmanFilter\", \"var\": \"SW_IN\", \"gap_len\": 22.5, \"idx_rep\": 3, \"rmse\": 52.67158213966747, \"rmse_stand\": 0.2581907889229028}, {\"method\": \"KalmanFilter\", \"var\": \"SW_IN\", \"gap_len\": 22.5, \"idx_rep\": 4, \"rmse\": 27.97643102886275, \"rmse_stand\": 0.13713764624414704}, {\"method\": \"ERA\", \"var\": \"SW_IN\", \"gap_len\": 22.5, \"idx_rep\": 0, \"rmse\": 166.69426640676306, \"rmse_stand\": 0.8171184992765513}, {\"method\": \"ERA\", \"var\": \"SW_IN\", \"gap_len\": 22.5, \"idx_rep\": 1, \"rmse\": 106.04031443936782, \"rmse_stand\": 0.5197989376915632}, {\"method\": \"ERA\", \"var\": \"SW_IN\", \"gap_len\": 22.5, \"idx_rep\": 2, \"rmse\": 34.402950433873485, \"rmse_stand\": 0.1686397968878896}, {\"method\": \"ERA\", \"var\": \"SW_IN\", \"gap_len\": 22.5, \"idx_rep\": 3, \"rmse\": 70.29130814877944, \"rmse_stand\": 0.3445609106108163}, {\"method\": \"ERA\", \"var\": \"SW_IN\", \"gap_len\": 22.5, \"idx_rep\": 4, \"rmse\": 38.020916921259705, \"rmse_stand\": 0.1863747040945477}, {\"method\": \"MDS\", \"var\": \"SW_IN\", \"gap_len\": 22.5, \"idx_rep\": 0, \"rmse\": 187.9939061991956, \"rmse_stand\": 0.921527187574528}, {\"method\": \"MDS\", \"var\": \"SW_IN\", \"gap_len\": 22.5, \"idx_rep\": 1, \"rmse\": 106.93530013475957, \"rmse_stand\": 0.5241860673994798}, {\"method\": \"MDS\", \"var\": \"SW_IN\", \"gap_len\": 22.5, \"idx_rep\": 2, \"rmse\": 29.948687926633866, \"rmse_stand\": 0.14680545084974791}, {\"method\": \"MDS\", \"var\": \"SW_IN\", \"gap_len\": 22.5, \"idx_rep\": 3, \"rmse\": 170.95760776247306, \"rmse_stand\": 0.8380169690654323}, {\"method\": \"MDS\", \"var\": \"SW_IN\", \"gap_len\": 22.5, \"idx_rep\": 4, \"rmse\": 73.08215120668197, \"rmse_stand\": 0.35824134209983344}]}}, {\"mode\": \"vega-lite\"});\n",
       "</script>"
      ],
      "text/plain": [
       "alt.VConcatChart(...)"
      ]
     },
     "execution_count": null,
     "metadata": {},
     "output_type": "execute_result"
    }
   ],
   "source": [
    "facet_wrap(data_results, _the_plot_violin, \"var\", y_labels = [f\"RMSE {var} [{units_big[var]}]\" for var in data_results['var'].unique()])"
   ]
  },
  {
   "cell_type": "markdown",
   "id": "2402facb-566a-42f3-8cff-e83dc6e64a00",
   "metadata": {},
   "source": [
    "### Gap Length"
   ]
  },
  {
   "cell_type": "code",
   "execution_count": null,
   "id": "cf17e7e0-acc1-43b3-b5ec-1cd487a6cc1d",
   "metadata": {},
   "outputs": [
    {
     "data": {
      "application/vnd.jupyter.widget-view+json": {
       "model_id": "b90833a54d784f82a1db6e76007b68a1",
       "version_major": 2,
       "version_minor": 0
      },
      "text/plain": [
       "  0%|          | 0/21 [00:00<?, ?it/s]"
      ]
     },
     "metadata": {},
     "output_type": "display_data"
    },
    {
     "data": {
      "application/vnd.jupyter.widget-view+json": {
       "model_id": "",
       "version_major": 2,
       "version_minor": 0
      },
      "text/plain": [
       "  0%|          | 0/5 [00:00<?, ?it/s]"
      ]
     },
     "metadata": {},
     "output_type": "display_data"
    },
    {
     "data": {
      "application/vnd.jupyter.widget-view+json": {
       "model_id": "",
       "version_major": 2,
       "version_minor": 0
      },
      "text/plain": [
       "  0%|          | 0/5 [00:00<?, ?it/s]"
      ]
     },
     "metadata": {},
     "output_type": "display_data"
    },
    {
     "data": {
      "application/vnd.jupyter.widget-view+json": {
       "model_id": "",
       "version_major": 2,
       "version_minor": 0
      },
      "text/plain": [
       "  0%|          | 0/5 [00:00<?, ?it/s]"
      ]
     },
     "metadata": {},
     "output_type": "display_data"
    },
    {
     "data": {
      "application/vnd.jupyter.widget-view+json": {
       "model_id": "",
       "version_major": 2,
       "version_minor": 0
      },
      "text/plain": [
       "  0%|          | 0/5 [00:00<?, ?it/s]"
      ]
     },
     "metadata": {},
     "output_type": "display_data"
    },
    {
     "data": {
      "application/vnd.jupyter.widget-view+json": {
       "model_id": "",
       "version_major": 2,
       "version_minor": 0
      },
      "text/plain": [
       "  0%|          | 0/5 [00:00<?, ?it/s]"
      ]
     },
     "metadata": {},
     "output_type": "display_data"
    },
    {
     "data": {
      "application/vnd.jupyter.widget-view+json": {
       "model_id": "",
       "version_major": 2,
       "version_minor": 0
      },
      "text/plain": [
       "  0%|          | 0/5 [00:00<?, ?it/s]"
      ]
     },
     "metadata": {},
     "output_type": "display_data"
    },
    {
     "data": {
      "application/vnd.jupyter.widget-view+json": {
       "model_id": "",
       "version_major": 2,
       "version_minor": 0
      },
      "text/plain": [
       "  0%|          | 0/5 [00:00<?, ?it/s]"
      ]
     },
     "metadata": {},
     "output_type": "display_data"
    },
    {
     "data": {
      "application/vnd.jupyter.widget-view+json": {
       "model_id": "",
       "version_major": 2,
       "version_minor": 0
      },
      "text/plain": [
       "  0%|          | 0/5 [00:00<?, ?it/s]"
      ]
     },
     "metadata": {},
     "output_type": "display_data"
    },
    {
     "data": {
      "application/vnd.jupyter.widget-view+json": {
       "model_id": "",
       "version_major": 2,
       "version_minor": 0
      },
      "text/plain": [
       "  0%|          | 0/5 [00:00<?, ?it/s]"
      ]
     },
     "metadata": {},
     "output_type": "display_data"
    },
    {
     "data": {
      "application/vnd.jupyter.widget-view+json": {
       "model_id": "",
       "version_major": 2,
       "version_minor": 0
      },
      "text/plain": [
       "  0%|          | 0/5 [00:00<?, ?it/s]"
      ]
     },
     "metadata": {},
     "output_type": "display_data"
    },
    {
     "data": {
      "application/vnd.jupyter.widget-view+json": {
       "model_id": "",
       "version_major": 2,
       "version_minor": 0
      },
      "text/plain": [
       "  0%|          | 0/5 [00:00<?, ?it/s]"
      ]
     },
     "metadata": {},
     "output_type": "display_data"
    },
    {
     "data": {
      "application/vnd.jupyter.widget-view+json": {
       "model_id": "",
       "version_major": 2,
       "version_minor": 0
      },
      "text/plain": [
       "  0%|          | 0/5 [00:00<?, ?it/s]"
      ]
     },
     "metadata": {},
     "output_type": "display_data"
    },
    {
     "data": {
      "application/vnd.jupyter.widget-view+json": {
       "model_id": "",
       "version_major": 2,
       "version_minor": 0
      },
      "text/plain": [
       "  0%|          | 0/5 [00:00<?, ?it/s]"
      ]
     },
     "metadata": {},
     "output_type": "display_data"
    },
    {
     "data": {
      "application/vnd.jupyter.widget-view+json": {
       "model_id": "",
       "version_major": 2,
       "version_minor": 0
      },
      "text/plain": [
       "  0%|          | 0/5 [00:00<?, ?it/s]"
      ]
     },
     "metadata": {},
     "output_type": "display_data"
    },
    {
     "data": {
      "application/vnd.jupyter.widget-view+json": {
       "model_id": "",
       "version_major": 2,
       "version_minor": 0
      },
      "text/plain": [
       "  0%|          | 0/5 [00:00<?, ?it/s]"
      ]
     },
     "metadata": {},
     "output_type": "display_data"
    },
    {
     "data": {
      "application/vnd.jupyter.widget-view+json": {
       "model_id": "",
       "version_major": 2,
       "version_minor": 0
      },
      "text/plain": [
       "  0%|          | 0/5 [00:00<?, ?it/s]"
      ]
     },
     "metadata": {},
     "output_type": "display_data"
    },
    {
     "data": {
      "application/vnd.jupyter.widget-view+json": {
       "model_id": "",
       "version_major": 2,
       "version_minor": 0
      },
      "text/plain": [
       "  0%|          | 0/5 [00:00<?, ?it/s]"
      ]
     },
     "metadata": {},
     "output_type": "display_data"
    },
    {
     "data": {
      "application/vnd.jupyter.widget-view+json": {
       "model_id": "",
       "version_major": 2,
       "version_minor": 0
      },
      "text/plain": [
       "  0%|          | 0/5 [00:00<?, ?it/s]"
      ]
     },
     "metadata": {},
     "output_type": "display_data"
    },
    {
     "data": {
      "application/vnd.jupyter.widget-view+json": {
       "model_id": "",
       "version_major": 2,
       "version_minor": 0
      },
      "text/plain": [
       "  0%|          | 0/5 [00:00<?, ?it/s]"
      ]
     },
     "metadata": {},
     "output_type": "display_data"
    },
    {
     "data": {
      "application/vnd.jupyter.widget-view+json": {
       "model_id": "",
       "version_major": 2,
       "version_minor": 0
      },
      "text/plain": [
       "  0%|          | 0/5 [00:00<?, ?it/s]"
      ]
     },
     "metadata": {},
     "output_type": "display_data"
    },
    {
     "data": {
      "application/vnd.jupyter.widget-view+json": {
       "model_id": "",
       "version_major": 2,
       "version_minor": 0
      },
      "text/plain": [
       "  0%|          | 0/5 [00:00<?, ?it/s]"
      ]
     },
     "metadata": {},
     "output_type": "display_data"
    }
   ],
   "source": [
    "# 18,20,25,30,40,50,60,70\n",
    "gap_len = ImpComparison(models_var, hai, hai_era, block_len=100).compare(gap_len = range(2,30,4), var=['TA', 'SW_IN', 'VPD'], n_rep=5)"
   ]
  },
  {
   "cell_type": "code",
   "execution_count": null,
   "id": "096a78dc-3465-42f0-b3ba-182651c10f5e",
   "metadata": {},
   "outputs": [],
   "source": [
    "#| export\n",
    "def agg_gap_len(data):\n",
    "    return pl.from_pandas(data).groupby(['var', 'gap_len']).agg([\n",
    "        pl.col(\"rmse\").median().alias(\"median\"),\n",
    "        pl.col(\"rmse\").quantile(.25).alias(\"Q1\"),\n",
    "        pl.col(\"rmse\").quantile(.75).alias(\"Q3\"),\n",
    "        pl.col(\"rmse\").min().alias(\"min\"),\n",
    "        pl.col(\"rmse\").max().alias(\"max\"),\n",
    "    ]).to_pandas() "
   ]
  },
  {
   "cell_type": "code",
   "execution_count": null,
   "id": "65511be0-7826-4a8b-96f7-3ce94d4c1238",
   "metadata": {},
   "outputs": [],
   "source": [
    "gap_len_agg = agg_gap_len(gap_len)\n",
    "# ).with_column(\n",
    "#     (pl.col(\"Q3\") - pl.col(\"Q1\")).alias(\"IRQ\")\n",
    "# ).with_columns([\n",
    "#     (pl.col(\"Q1\") - 1.5 * pl.col(\"IRQ\")).alias(\"min\"),\n",
    "#     (pl.col(\"Q3\") + 1.5 * pl.col(\"IRQ\")).alias(\"max\"),\n",
    "# ])"
   ]
  },
  {
   "cell_type": "code",
   "execution_count": null,
   "id": "df03e561-e199-44c9-ad54-23124700b7cc",
   "metadata": {},
   "outputs": [],
   "source": [
    "#| export\n",
    "def _get_era_rmse(df, control):\n",
    "    \"\"\"Average RMSE for ERA\"\"\"\n",
    "    names = [col for col in control.columns if not col.endswith(\"_lag_1\")]\n",
    "    control = control.copy().filter(names)\n",
    "    control = control.rename(columns=lambda x: x.replace(\"_ERA\", \"\")).loc[df.index]\n",
    "    rmse_df = np.sqrt((df[control.columns] - control).pow(2).mean(axis=0))\n",
    "    rmse_df = rmse_df.to_frame().reset_index()\n",
    "    rmse_df.columns = [\"var\", \"era_rmse\"] \n",
    "    return rmse_df"
   ]
  },
  {
   "cell_type": "code",
   "execution_count": null,
   "id": "85c5a611-28a6-4086-8aed-a6d820263f5b",
   "metadata": {},
   "outputs": [],
   "source": [
    "rmse_df = _get_era_rmse(hai, hai_era)"
   ]
  },
  {
   "cell_type": "code",
   "execution_count": null,
   "id": "a83b6ebd-6ab3-441c-9311-6a88fa2b3266",
   "metadata": {},
   "outputs": [],
   "source": [
    "gap_len_agg = pd.merge(gap_len_agg, rmse_df, on='var')"
   ]
  },
  {
   "cell_type": "code",
   "execution_count": null,
   "id": "b819ce10-dcd0-4a5b-945b-5e371b4c754b",
   "metadata": {},
   "outputs": [],
   "source": [
    "#| export\n",
    "def _plot_gap_len(data, y_label):\n",
    "    median = alt.Chart(data).mark_line().encode(\n",
    "        x = alt.X('gap_len', title=\"gap_len [h]\", axis=alt.Axis(labelAngle=0)),\n",
    "        y = alt.Y('median', title=y_label),\n",
    "        color=alt.Color('var', scale=meteo_scale)\n",
    "    ).properties(height=150, width=200)\n",
    "    Qs = alt.Chart(data).mark_errorband().encode(x = 'gap_len', y = alt.Y('Q1', title=y_label), y2= 'Q3', color='var')\n",
    "    # min = alt.Chart(gap_len_agg).mark_point().encode(x = 'gap_len', y = 'min', color='var')\n",
    "    # max = alt.Chart(gap_len_agg).mark_point().encode(x = 'gap_len', y = 'max', color='var')\n",
    "    plot = (median + Qs)\n",
    "    if not np.isnan(data.era_rmse.iloc[0]): plot += alt.Chart().mark_rule(strokeDash=[2,4]).encode(y=alt.datum(data.era_rmse.iloc[0]))\n",
    "\n",
    "    return plot"
   ]
  },
  {
   "cell_type": "code",
   "execution_count": null,
   "id": "825755f7-5d7d-4883-9f40-24dd302aca47",
   "metadata": {},
   "outputs": [
    {
     "name": "stderr",
     "output_type": "stream",
     "text": [
      "/tmp/ipykernel_101448/837074991.py:1: UserWarning: Boolean Series key will be reindexed to match DataFrame index.\n",
      "  _plot_gap_len(gap_len_agg[gap_len_agg['var'] == 'TA'][gap_len_agg['method'] == 'ERA'], \"label\")\n"
     ]
    },
    {
     "data": {
      "text/html": [
       "\n",
       "<div id=\"altair-viz-88f20e87e36c404f91e173c1125478eb\"></div>\n",
       "<script type=\"text/javascript\">\n",
       "  var VEGA_DEBUG = (typeof VEGA_DEBUG == \"undefined\") ? {} : VEGA_DEBUG;\n",
       "  (function(spec, embedOpt){\n",
       "    let outputDiv = document.currentScript.previousElementSibling;\n",
       "    if (outputDiv.id !== \"altair-viz-88f20e87e36c404f91e173c1125478eb\") {\n",
       "      outputDiv = document.getElementById(\"altair-viz-88f20e87e36c404f91e173c1125478eb\");\n",
       "    }\n",
       "    const paths = {\n",
       "      \"vega\": \"https://cdn.jsdelivr.net/npm/vega@5?noext\",\n",
       "      \"vega-lib\": \"https://cdn.jsdelivr.net/npm/vega-lib?noext\",\n",
       "      \"vega-lite\": \"https://cdn.jsdelivr.net/npm/vega-lite@5.2.0?noext\",\n",
       "      \"vega-embed\": \"https://cdn.jsdelivr.net/npm/vega-embed@6?noext\",\n",
       "    };\n",
       "\n",
       "    function maybeLoadScript(lib, version) {\n",
       "      var key = `${lib.replace(\"-\", \"\")}_version`;\n",
       "      return (VEGA_DEBUG[key] == version) ?\n",
       "        Promise.resolve(paths[lib]) :\n",
       "        new Promise(function(resolve, reject) {\n",
       "          var s = document.createElement('script');\n",
       "          document.getElementsByTagName(\"head\")[0].appendChild(s);\n",
       "          s.async = true;\n",
       "          s.onload = () => {\n",
       "            VEGA_DEBUG[key] = version;\n",
       "            return resolve(paths[lib]);\n",
       "          };\n",
       "          s.onerror = () => reject(`Error loading script: ${paths[lib]}`);\n",
       "          s.src = paths[lib];\n",
       "        });\n",
       "    }\n",
       "\n",
       "    function showError(err) {\n",
       "      outputDiv.innerHTML = `<div class=\"error\" style=\"color:red;\">${err}</div>`;\n",
       "      throw err;\n",
       "    }\n",
       "\n",
       "    function displayChart(vegaEmbed) {\n",
       "      vegaEmbed(outputDiv, spec, embedOpt)\n",
       "        .catch(err => showError(`Javascript Error: ${err.message}<br>This usually means there's a typo in your chart specification. See the javascript console for the full traceback.`));\n",
       "    }\n",
       "\n",
       "    if(typeof define === \"function\" && define.amd) {\n",
       "      requirejs.config({paths});\n",
       "      require([\"vega-embed\"], displayChart, err => showError(`Error loading script: ${err.message}`));\n",
       "    } else {\n",
       "      maybeLoadScript(\"vega\", \"5\")\n",
       "        .then(() => maybeLoadScript(\"vega-lite\", \"5.2.0\"))\n",
       "        .then(() => maybeLoadScript(\"vega-embed\", \"6\"))\n",
       "        .catch(showError)\n",
       "        .then(() => displayChart(vegaEmbed));\n",
       "    }\n",
       "  })({\"config\": {\"view\": {\"continuousWidth\": 300, \"continuousHeight\": 300}}, \"layer\": [{\"mark\": \"line\", \"encoding\": {\"color\": {\"field\": \"var\", \"scale\": {\"domain\": [\"TA\", \"SW_IN\", \"LW_IN\", \"VPD\", \"WS\", \"PA\", \"SWC\", \"TS\", \"P\"], \"range\": [\"#1B9E77\", \"#D95F02\", \"#7570B3\", \"#E7298A\", \"#66A61E\", \"#E6AB02\", \"#A6761D\", \"#666666\"]}, \"type\": \"nominal\"}, \"x\": {\"axis\": {\"labelAngle\": 0}, \"field\": \"gap_len\", \"title\": \"gap_len [h]\", \"type\": \"quantitative\"}, \"y\": {\"field\": \"median\", \"title\": \"label\", \"type\": \"quantitative\"}}}, {\"mark\": \"errorband\", \"encoding\": {\"color\": {\"field\": \"var\", \"type\": \"nominal\"}, \"x\": {\"field\": \"gap_len\", \"type\": \"quantitative\"}, \"y\": {\"field\": \"Q1\", \"title\": \"label\", \"type\": \"quantitative\"}, \"y2\": {\"field\": \"Q3\"}}}, {\"mark\": {\"type\": \"rule\", \"strokeDash\": [2, 4]}, \"encoding\": {\"y\": {\"datum\": 1.8708585984196093}}}], \"data\": {\"name\": \"data-cdc86819f3bcdfceeda47bc569e7489f\"}, \"height\": 150, \"width\": 200, \"$schema\": \"https://vega.github.io/schema/vega-lite/v5.2.0.json\", \"datasets\": {\"data-cdc86819f3bcdfceeda47bc569e7489f\": [{\"var\": \"TA\", \"gap_len\": 2, \"method\": \"ERA\", \"median\": 1.1272286813242478, \"Q1\": 0.5001884644811393, \"Q3\": 1.1903589794679585, \"min\": 0.4842354799062128, \"max\": 3.9334707956205803, \"era_rmse\": 1.8708585984196093}, {\"var\": \"TA\", \"gap_len\": 14, \"method\": \"ERA\", \"median\": 1.315567422391244, \"Q1\": 0.9636018739233397, \"Q3\": 2.088141415572368, \"min\": 0.3690604867188344, \"max\": 2.093863517178574, \"era_rmse\": 1.8708585984196093}, {\"var\": \"TA\", \"gap_len\": 10, \"method\": \"ERA\", \"median\": 1.0020153192441719, \"Q1\": 0.9573586579751605, \"Q3\": 2.579533872621176, \"min\": 0.8493437466656242, \"max\": 4.742076950029386, \"era_rmse\": 1.8708585984196093}, {\"var\": \"TA\", \"gap_len\": 6, \"method\": \"ERA\", \"median\": 0.9954016777160867, \"Q1\": 0.9729612873422387, \"Q3\": 1.1076475823413632, \"min\": 0.37736233693008303, \"max\": 1.1754862114603188, \"era_rmse\": 1.8708585984196093}, {\"var\": \"TA\", \"gap_len\": 22, \"method\": \"ERA\", \"median\": 1.0205632134891365, \"Q1\": 0.7101659537165815, \"Q3\": 1.1481187973059552, \"min\": 0.20299608146688236, \"max\": 1.6575730478898685, \"era_rmse\": 1.8708585984196093}, {\"var\": \"TA\", \"gap_len\": 26, \"method\": \"ERA\", \"median\": 1.4376500724339112, \"Q1\": 0.5602046672697124, \"Q3\": 1.4994901569430963, \"min\": 0.5262598802288291, \"max\": 3.97848791338155, \"era_rmse\": 1.8708585984196093}, {\"var\": \"TA\", \"gap_len\": 18, \"method\": \"ERA\", \"median\": 2.353258379354039, \"Q1\": 2.0901267638324925, \"Q3\": 3.038045524858229, \"min\": 1.7848961532195022, \"max\": 6.661518991774908, \"era_rmse\": 1.8708585984196093}]}}, {\"mode\": \"vega-lite\"});\n",
       "</script>"
      ],
      "text/plain": [
       "alt.LayerChart(...)"
      ]
     },
     "execution_count": null,
     "metadata": {},
     "output_type": "execute_result"
    }
   ],
   "source": [
    "_plot_gap_len(gap_len_agg[gap_len_agg['var'] == 'TA'][gap_len_agg['method'] == 'ERA'], \"label\")"
   ]
  },
  {
   "cell_type": "code",
   "execution_count": null,
   "id": "222775f5-399f-4176-91d9-6b7f2444b107",
   "metadata": {},
   "outputs": [
    {
     "data": {
      "text/html": [
       "\n",
       "<div id=\"altair-viz-f312fa4691344ea094d6bc1c35089687\"></div>\n",
       "<script type=\"text/javascript\">\n",
       "  var VEGA_DEBUG = (typeof VEGA_DEBUG == \"undefined\") ? {} : VEGA_DEBUG;\n",
       "  (function(spec, embedOpt){\n",
       "    let outputDiv = document.currentScript.previousElementSibling;\n",
       "    if (outputDiv.id !== \"altair-viz-f312fa4691344ea094d6bc1c35089687\") {\n",
       "      outputDiv = document.getElementById(\"altair-viz-f312fa4691344ea094d6bc1c35089687\");\n",
       "    }\n",
       "    const paths = {\n",
       "      \"vega\": \"https://cdn.jsdelivr.net/npm/vega@5?noext\",\n",
       "      \"vega-lib\": \"https://cdn.jsdelivr.net/npm/vega-lib?noext\",\n",
       "      \"vega-lite\": \"https://cdn.jsdelivr.net/npm/vega-lite@5.2.0?noext\",\n",
       "      \"vega-embed\": \"https://cdn.jsdelivr.net/npm/vega-embed@6?noext\",\n",
       "    };\n",
       "\n",
       "    function maybeLoadScript(lib, version) {\n",
       "      var key = `${lib.replace(\"-\", \"\")}_version`;\n",
       "      return (VEGA_DEBUG[key] == version) ?\n",
       "        Promise.resolve(paths[lib]) :\n",
       "        new Promise(function(resolve, reject) {\n",
       "          var s = document.createElement('script');\n",
       "          document.getElementsByTagName(\"head\")[0].appendChild(s);\n",
       "          s.async = true;\n",
       "          s.onload = () => {\n",
       "            VEGA_DEBUG[key] = version;\n",
       "            return resolve(paths[lib]);\n",
       "          };\n",
       "          s.onerror = () => reject(`Error loading script: ${paths[lib]}`);\n",
       "          s.src = paths[lib];\n",
       "        });\n",
       "    }\n",
       "\n",
       "    function showError(err) {\n",
       "      outputDiv.innerHTML = `<div class=\"error\" style=\"color:red;\">${err}</div>`;\n",
       "      throw err;\n",
       "    }\n",
       "\n",
       "    function displayChart(vegaEmbed) {\n",
       "      vegaEmbed(outputDiv, spec, embedOpt)\n",
       "        .catch(err => showError(`Javascript Error: ${err.message}<br>This usually means there's a typo in your chart specification. See the javascript console for the full traceback.`));\n",
       "    }\n",
       "\n",
       "    if(typeof define === \"function\" && define.amd) {\n",
       "      requirejs.config({paths});\n",
       "      require([\"vega-embed\"], displayChart, err => showError(`Error loading script: ${err.message}`));\n",
       "    } else {\n",
       "      maybeLoadScript(\"vega\", \"5\")\n",
       "        .then(() => maybeLoadScript(\"vega-lite\", \"5.2.0\"))\n",
       "        .then(() => maybeLoadScript(\"vega-embed\", \"6\"))\n",
       "        .catch(showError)\n",
       "        .then(() => displayChart(vegaEmbed));\n",
       "    }\n",
       "  })({\"config\": {\"view\": {\"continuousWidth\": 300, \"continuousHeight\": 300}}, \"vconcat\": [{\"hconcat\": [{\"layer\": [{\"mark\": \"line\", \"encoding\": {\"color\": {\"field\": \"var\", \"scale\": {\"domain\": [\"TA\", \"SW_IN\", \"LW_IN\", \"VPD\", \"WS\", \"PA\", \"SWC\", \"TS\", \"P\"], \"range\": [\"#1B9E77\", \"#D95F02\", \"#7570B3\", \"#E7298A\", \"#66A61E\", \"#E6AB02\", \"#A6761D\", \"#666666\"]}, \"type\": \"nominal\"}, \"x\": {\"axis\": {\"labelAngle\": 0}, \"field\": \"gap_len\", \"title\": \"gap_len [h]\", \"type\": \"quantitative\"}, \"y\": {\"field\": \"median\", \"title\": \"VPD\", \"type\": \"quantitative\"}}}, {\"mark\": \"errorband\", \"encoding\": {\"color\": {\"field\": \"var\", \"type\": \"nominal\"}, \"x\": {\"field\": \"gap_len\", \"type\": \"quantitative\"}, \"y\": {\"field\": \"Q1\", \"title\": \"VPD\", \"type\": \"quantitative\"}, \"y2\": {\"field\": \"Q3\"}}}, {\"mark\": {\"type\": \"rule\", \"strokeDash\": [2, 4]}, \"encoding\": {\"y\": {\"datum\": 2.0213771447538154}}}], \"height\": 150, \"title\": \"VPD\", \"width\": 200}, {\"layer\": [{\"mark\": \"line\", \"encoding\": {\"color\": {\"field\": \"var\", \"scale\": {\"domain\": [\"TA\", \"SW_IN\", \"LW_IN\", \"VPD\", \"WS\", \"PA\", \"SWC\", \"TS\", \"P\"], \"range\": [\"#1B9E77\", \"#D95F02\", \"#7570B3\", \"#E7298A\", \"#66A61E\", \"#E6AB02\", \"#A6761D\", \"#666666\"]}, \"type\": \"nominal\"}, \"x\": {\"axis\": {\"labelAngle\": 0}, \"field\": \"gap_len\", \"title\": \"gap_len [h]\", \"type\": \"quantitative\"}, \"y\": {\"field\": \"median\", \"title\": \"SW_IN\", \"type\": \"quantitative\"}}}, {\"mark\": \"errorband\", \"encoding\": {\"color\": {\"field\": \"var\", \"type\": \"nominal\"}, \"x\": {\"field\": \"gap_len\", \"type\": \"quantitative\"}, \"y\": {\"field\": \"Q1\", \"title\": \"SW_IN\", \"type\": \"quantitative\"}, \"y2\": {\"field\": \"Q3\"}}}, {\"mark\": {\"type\": \"rule\", \"strokeDash\": [2, 4]}, \"encoding\": {\"y\": {\"datum\": 76.32033545126399}}}], \"data\": {\"name\": \"data-9f8a93ae4081e96a3dc7a3cd16d982b5\"}, \"height\": 150, \"title\": \"SW_IN\", \"width\": 200}, {\"layer\": [{\"mark\": \"line\", \"encoding\": {\"color\": {\"field\": \"var\", \"scale\": {\"domain\": [\"TA\", \"SW_IN\", \"LW_IN\", \"VPD\", \"WS\", \"PA\", \"SWC\", \"TS\", \"P\"], \"range\": [\"#1B9E77\", \"#D95F02\", \"#7570B3\", \"#E7298A\", \"#66A61E\", \"#E6AB02\", \"#A6761D\", \"#666666\"]}, \"type\": \"nominal\"}, \"x\": {\"axis\": {\"labelAngle\": 0}, \"field\": \"gap_len\", \"title\": \"gap_len [h]\", \"type\": \"quantitative\"}, \"y\": {\"field\": \"median\", \"title\": \"TA\", \"type\": \"quantitative\"}}}, {\"mark\": \"errorband\", \"encoding\": {\"color\": {\"field\": \"var\", \"type\": \"nominal\"}, \"x\": {\"field\": \"gap_len\", \"type\": \"quantitative\"}, \"y\": {\"field\": \"Q1\", \"title\": \"TA\", \"type\": \"quantitative\"}, \"y2\": {\"field\": \"Q3\"}}}, {\"mark\": {\"type\": \"rule\", \"strokeDash\": [2, 4]}, \"encoding\": {\"y\": {\"datum\": 1.8708585984196093}}}], \"data\": {\"name\": \"data-6dc3363b6c91e917022d9587ccfcfb63\"}, \"height\": 150, \"title\": \"TA\", \"width\": 200}]}], \"data\": {\"name\": \"data-0ef3bf655015f66e5714edc84c840040\"}, \"resolve\": {\"scale\": {\"xOffset\": \"independent\"}}, \"$schema\": \"https://vega.github.io/schema/vega-lite/v5.2.0.json\", \"datasets\": {\"data-0ef3bf655015f66e5714edc84c840040\": [{\"var\": \"VPD\", \"gap_len\": 10, \"method\": \"KalmanFilter\", \"median\": 0.3605661614639632, \"Q1\": 0.35136619972907635, \"Q3\": 0.46395317947519515, \"min\": 0.23891963838031047, \"max\": 0.6037027150064932, \"era_rmse\": 2.0213771447538154}, {\"var\": \"VPD\", \"gap_len\": 14, \"method\": \"KalmanFilter\", \"median\": 0.5989348637219304, \"Q1\": 0.4974370905305588, \"Q3\": 0.6396483574456444, \"min\": 0.1741143220417429, \"max\": 0.7561332312011135, \"era_rmse\": 2.0213771447538154}, {\"var\": \"VPD\", \"gap_len\": 6, \"method\": \"KalmanFilter\", \"median\": 0.42878041927386534, \"Q1\": 0.25940467647244375, \"Q3\": 0.5525450786158211, \"min\": 0.1359355072347983, \"max\": 0.6294939419450126, \"era_rmse\": 2.0213771447538154}, {\"var\": \"VPD\", \"gap_len\": 2, \"method\": \"KalmanFilter\", \"median\": 0.12290399691893641, \"Q1\": 0.12103198074144896, \"Q3\": 0.25881270973549364, \"min\": 0.08189984655453901, \"max\": 0.36648715046172, \"era_rmse\": 2.0213771447538154}, {\"var\": \"VPD\", \"gap_len\": 18, \"method\": \"KalmanFilter\", \"median\": 1.2729181205749251, \"Q1\": 0.4615642436161817, \"Q3\": 1.2858047791512703, \"min\": 0.37659925548446826, \"max\": 1.370339444032966, \"era_rmse\": 2.0213771447538154}, {\"var\": \"VPD\", \"gap_len\": 26, \"method\": \"KalmanFilter\", \"median\": 0.6891155781736783, \"Q1\": 0.40355494985861373, \"Q3\": 0.747372292492185, \"min\": 0.3578558644499335, \"max\": 0.7552564943103787, \"era_rmse\": 2.0213771447538154}, {\"var\": \"VPD\", \"gap_len\": 22, \"method\": \"KalmanFilter\", \"median\": 0.40850307196296454, \"Q1\": 0.31315145906517605, \"Q3\": 0.46334184032259135, \"min\": 0.22236475773067021, \"max\": 0.8185222889851576, \"era_rmse\": 2.0213771447538154}], \"data-9f8a93ae4081e96a3dc7a3cd16d982b5\": [{\"var\": \"SW_IN\", \"gap_len\": 6, \"method\": \"KalmanFilter\", \"median\": 22.114842695507893, \"Q1\": 16.12927660367226, \"Q3\": 58.09095845016319, \"min\": 6.670707494377743, \"max\": 62.4200319457178, \"era_rmse\": 76.32033545126399}, {\"var\": \"SW_IN\", \"gap_len\": 18, \"method\": \"KalmanFilter\", \"median\": 31.454074618774648, \"Q1\": 21.643733797447247, \"Q3\": 34.49859919766036, \"min\": 14.837164492269796, \"max\": 69.02923777254661, \"era_rmse\": 76.32033545126399}, {\"var\": \"SW_IN\", \"gap_len\": 10, \"method\": \"KalmanFilter\", \"median\": 40.49848532315204, \"Q1\": 18.73688822775988, \"Q3\": 74.3515057514631, \"min\": 8.615819800200308, \"max\": 88.80409272117284, \"era_rmse\": 76.32033545126399}, {\"var\": \"SW_IN\", \"gap_len\": 2, \"method\": \"KalmanFilter\", \"median\": 7.388243066122261, \"Q1\": 4.447138308763487, \"Q3\": 7.92672620005313, \"min\": 4.0286246763603994, \"max\": 18.03763045579744, \"era_rmse\": 76.32033545126399}, {\"var\": \"SW_IN\", \"gap_len\": 26, \"method\": \"KalmanFilter\", \"median\": 40.10247526138136, \"Q1\": 38.45375541586152, \"Q3\": 48.8113959815118, \"min\": 22.114619148773254, \"max\": 89.02236493471096, \"era_rmse\": 76.32033545126399}, {\"var\": \"SW_IN\", \"gap_len\": 22, \"method\": \"KalmanFilter\", \"median\": 36.86766878598706, \"Q1\": 33.539661404425594, \"Q3\": 39.70374220742256, \"min\": 24.932832865127057, \"max\": 131.6906200706711, \"era_rmse\": 76.32033545126399}, {\"var\": \"SW_IN\", \"gap_len\": 14, \"method\": \"KalmanFilter\", \"median\": 18.28202697614254, \"Q1\": 17.135357047047794, \"Q3\": 35.03887303603277, \"min\": 16.594718954256525, \"max\": 61.833408888830526, \"era_rmse\": 76.32033545126399}], \"data-6dc3363b6c91e917022d9587ccfcfb63\": [{\"var\": \"TA\", \"gap_len\": 18, \"method\": \"KalmanFilter\", \"median\": 0.7892692799387534, \"Q1\": 0.7694960591813025, \"Q3\": 1.0142957738540772, \"min\": 0.5899143919884873, \"max\": 1.858187490178607, \"era_rmse\": 1.8708585984196093}, {\"var\": \"TA\", \"gap_len\": 22, \"method\": \"KalmanFilter\", \"median\": 0.40609455540121386, \"Q1\": 0.32694332937780296, \"Q3\": 0.43710392559254363, \"min\": 0.31137162752144654, \"max\": 1.2928167651580846, \"era_rmse\": 1.8708585984196093}, {\"var\": \"TA\", \"gap_len\": 26, \"method\": \"KalmanFilter\", \"median\": 0.33690196567190084, \"Q1\": 0.33417968196446857, \"Q3\": 0.8502822431395163, \"min\": 0.3310707608222629, \"max\": 0.8553908535145169, \"era_rmse\": 1.8708585984196093}, {\"var\": \"TA\", \"gap_len\": 6, \"method\": \"KalmanFilter\", \"median\": 0.5544092640092761, \"Q1\": 0.4321611165108127, \"Q3\": 0.5993793665554448, \"min\": 0.4070976095313098, \"max\": 0.6143150802531336, \"era_rmse\": 1.8708585984196093}, {\"var\": \"TA\", \"gap_len\": 2, \"method\": \"KalmanFilter\", \"median\": 0.1673359958759639, \"Q1\": 0.12606306889599694, \"Q3\": 0.1886831137945215, \"min\": 0.045003115202803375, \"max\": 0.5227324501653158, \"era_rmse\": 1.8708585984196093}, {\"var\": \"TA\", \"gap_len\": 14, \"method\": \"KalmanFilter\", \"median\": 0.3034634378073511, \"Q1\": 0.2733425312914704, \"Q3\": 0.5061523217015034, \"min\": 0.20807946562886648, \"max\": 0.9533692973963396, \"era_rmse\": 1.8708585984196093}, {\"var\": \"TA\", \"gap_len\": 10, \"method\": \"KalmanFilter\", \"median\": 0.3181738723488461, \"Q1\": 0.1914495993388031, \"Q3\": 0.5098087165163488, \"min\": 0.15014943720841942, \"max\": 1.4308844527863829, \"era_rmse\": 1.8708585984196093}]}}, {\"mode\": \"vega-lite\"});\n",
       "</script>"
      ],
      "text/plain": [
       "alt.VConcatChart(...)"
      ]
     },
     "execution_count": null,
     "metadata": {},
     "output_type": "execute_result"
    }
   ],
   "source": [
    "facet_wrap(gap_len_agg[gap_len_agg.method == 'KalmanFilter'], _plot_gap_len, 'var')"
   ]
  },
  {
   "cell_type": "code",
   "execution_count": null,
   "id": "607ee7d3-8aeb-45d9-baeb-516c4463a739",
   "metadata": {},
   "outputs": [],
   "source": [
    "#| export\n",
    "def plot_gap_len(data, df, control):\n",
    "    data = agg_gap_len(data.astype({'var': str, 'gap_len': str}))\n",
    "    data = pd.merge(data, _get_era_rmse(df, control), on='var', how='left')\n",
    "    # data = data[data.method == 'KalmanFilter']\n",
    "    data = data.astype({'gap_len' : float, 'var': var_type}).sort_values(['var'])\n",
    "    return facet_wrap(data, _plot_gap_len, 'var', y_labels = [f\"RMSE {var} [{units_big[var]}]\" for var in data['var'].unique()]).configure_legend(orient=\"bottom\")"
   ]
  },
  {
   "cell_type": "code",
   "execution_count": null,
   "id": "7710014d-ce54-4c70-8a8a-b3435c144fa4",
   "metadata": {},
   "outputs": [
    {
     "ename": "ValueError",
     "evalue": "median encoding field is specified without a type; the type cannot be inferred because it does not match any column in the data.",
     "output_type": "error",
     "traceback": [
      "\u001b[0;31m---------------------------------------------------------------------------\u001b[0m",
      "\u001b[0;31mValueError\u001b[0m                                Traceback (most recent call last)",
      "File \u001b[0;32m~/development/altair/altair/vegalite/v5/api.py:559\u001b[0m, in \u001b[0;36mTopLevelMixin.to_dict\u001b[0;34m(self, *args, **kwargs)\u001b[0m\n\u001b[1;32m    556\u001b[0m context[\u001b[38;5;124m\"\u001b[39m\u001b[38;5;124mtop_level\u001b[39m\u001b[38;5;124m\"\u001b[39m] \u001b[38;5;241m=\u001b[39m \u001b[38;5;28;01mFalse\u001b[39;00m\n\u001b[1;32m    557\u001b[0m kwargs[\u001b[38;5;124m\"\u001b[39m\u001b[38;5;124mcontext\u001b[39m\u001b[38;5;124m\"\u001b[39m] \u001b[38;5;241m=\u001b[39m context\n\u001b[0;32m--> 559\u001b[0m dct \u001b[38;5;241m=\u001b[39m \u001b[38;5;28;43msuper\u001b[39;49m\u001b[43m(\u001b[49m\u001b[43mTopLevelMixin\u001b[49m\u001b[43m,\u001b[49m\u001b[43m \u001b[49m\u001b[43mcopy\u001b[49m\u001b[43m)\u001b[49m\u001b[38;5;241;43m.\u001b[39;49m\u001b[43mto_dict\u001b[49m\u001b[43m(\u001b[49m\u001b[38;5;241;43m*\u001b[39;49m\u001b[43margs\u001b[49m\u001b[43m,\u001b[49m\u001b[43m \u001b[49m\u001b[38;5;241;43m*\u001b[39;49m\u001b[38;5;241;43m*\u001b[39;49m\u001b[43mkwargs\u001b[49m\u001b[43m)\u001b[49m\n\u001b[1;32m    561\u001b[0m \u001b[38;5;66;03m# TODO: following entries are added after validation. Should they be validated?\u001b[39;00m\n\u001b[1;32m    562\u001b[0m \u001b[38;5;28;01mif\u001b[39;00m is_top_level:\n\u001b[1;32m    563\u001b[0m     \u001b[38;5;66;03m# since this is top-level we add $schema if it's missing\u001b[39;00m\n",
      "File \u001b[0;32m~/development/altair/altair/utils/schemapi.py:409\u001b[0m, in \u001b[0;36mSchemaBase.to_dict\u001b[0;34m(self, validate, ignore, context)\u001b[0m\n\u001b[1;32m    399\u001b[0m     kwds\u001b[38;5;241m.\u001b[39mupdate(\n\u001b[1;32m    400\u001b[0m         {\n\u001b[1;32m    401\u001b[0m             k: v\n\u001b[0;32m   (...)\u001b[0m\n\u001b[1;32m    404\u001b[0m         }\n\u001b[1;32m    405\u001b[0m     )\n\u001b[1;32m    406\u001b[0m     kwds \u001b[38;5;241m=\u001b[39m {\n\u001b[1;32m    407\u001b[0m         k: v \u001b[38;5;28;01mfor\u001b[39;00m k, v \u001b[38;5;129;01min\u001b[39;00m kwds\u001b[38;5;241m.\u001b[39mitems() \u001b[38;5;28;01mif\u001b[39;00m k \u001b[38;5;129;01mnot\u001b[39;00m \u001b[38;5;129;01min\u001b[39;00m \u001b[38;5;28mlist\u001b[39m(ignore) \u001b[38;5;241m+\u001b[39m [\u001b[38;5;124m\"\u001b[39m\u001b[38;5;124mshorthand\u001b[39m\u001b[38;5;124m\"\u001b[39m]\n\u001b[1;32m    408\u001b[0m     }\n\u001b[0;32m--> 409\u001b[0m     result \u001b[38;5;241m=\u001b[39m \u001b[43m_todict\u001b[49m\u001b[43m(\u001b[49m\n\u001b[1;32m    410\u001b[0m \u001b[43m        \u001b[49m\u001b[43mkwds\u001b[49m\u001b[43m,\u001b[49m\n\u001b[1;32m    411\u001b[0m \u001b[43m        \u001b[49m\u001b[43mcontext\u001b[49m\u001b[38;5;241;43m=\u001b[39;49m\u001b[43mcontext\u001b[49m\u001b[43m,\u001b[49m\n\u001b[1;32m    412\u001b[0m \u001b[43m    \u001b[49m\u001b[43m)\u001b[49m\n\u001b[1;32m    413\u001b[0m \u001b[38;5;28;01melse\u001b[39;00m:\n\u001b[1;32m    414\u001b[0m     \u001b[38;5;28;01mraise\u001b[39;00m \u001b[38;5;167;01mValueError\u001b[39;00m(\n\u001b[1;32m    415\u001b[0m         \u001b[38;5;124m\"\u001b[39m\u001b[38;5;132;01m{}\u001b[39;00m\u001b[38;5;124m instance has both a value and properties : \u001b[39m\u001b[38;5;124m\"\u001b[39m\n\u001b[1;32m    416\u001b[0m         \u001b[38;5;124m\"\u001b[39m\u001b[38;5;124mcannot serialize to dict\u001b[39m\u001b[38;5;124m\"\u001b[39m\u001b[38;5;241m.\u001b[39mformat(\u001b[38;5;28mself\u001b[39m\u001b[38;5;241m.\u001b[39m\u001b[38;5;18m__class__\u001b[39m)\n\u001b[1;32m    417\u001b[0m     )\n",
      "File \u001b[0;32m~/development/altair/altair/utils/schemapi.py:133\u001b[0m, in \u001b[0;36m_todict\u001b[0;34m(obj, context)\u001b[0m\n\u001b[1;32m    131\u001b[0m     \u001b[38;5;28;01mreturn\u001b[39;00m [_todict(v, context) \u001b[38;5;28;01mfor\u001b[39;00m v \u001b[38;5;129;01min\u001b[39;00m obj]\n\u001b[1;32m    132\u001b[0m \u001b[38;5;28;01melif\u001b[39;00m \u001b[38;5;28misinstance\u001b[39m(obj, \u001b[38;5;28mdict\u001b[39m):\n\u001b[0;32m--> 133\u001b[0m     \u001b[38;5;28;01mreturn\u001b[39;00m {k: _todict(v, context) \u001b[38;5;28;01mfor\u001b[39;00m k, v \u001b[38;5;129;01min\u001b[39;00m obj\u001b[38;5;241m.\u001b[39mitems() \u001b[38;5;28;01mif\u001b[39;00m v \u001b[38;5;129;01mis\u001b[39;00m \u001b[38;5;129;01mnot\u001b[39;00m Undefined}\n\u001b[1;32m    134\u001b[0m \u001b[38;5;28;01melif\u001b[39;00m \u001b[38;5;28mhasattr\u001b[39m(obj, \u001b[38;5;124m\"\u001b[39m\u001b[38;5;124mto_dict\u001b[39m\u001b[38;5;124m\"\u001b[39m):\n\u001b[1;32m    135\u001b[0m     \u001b[38;5;28;01mreturn\u001b[39;00m obj\u001b[38;5;241m.\u001b[39mto_dict()\n",
      "File \u001b[0;32m~/development/altair/altair/utils/schemapi.py:133\u001b[0m, in \u001b[0;36m<dictcomp>\u001b[0;34m(.0)\u001b[0m\n\u001b[1;32m    131\u001b[0m     \u001b[38;5;28;01mreturn\u001b[39;00m [_todict(v, context) \u001b[38;5;28;01mfor\u001b[39;00m v \u001b[38;5;129;01min\u001b[39;00m obj]\n\u001b[1;32m    132\u001b[0m \u001b[38;5;28;01melif\u001b[39;00m \u001b[38;5;28misinstance\u001b[39m(obj, \u001b[38;5;28mdict\u001b[39m):\n\u001b[0;32m--> 133\u001b[0m     \u001b[38;5;28;01mreturn\u001b[39;00m {k: \u001b[43m_todict\u001b[49m\u001b[43m(\u001b[49m\u001b[43mv\u001b[49m\u001b[43m,\u001b[49m\u001b[43m \u001b[49m\u001b[43mcontext\u001b[49m\u001b[43m)\u001b[49m \u001b[38;5;28;01mfor\u001b[39;00m k, v \u001b[38;5;129;01min\u001b[39;00m obj\u001b[38;5;241m.\u001b[39mitems() \u001b[38;5;28;01mif\u001b[39;00m v \u001b[38;5;129;01mis\u001b[39;00m \u001b[38;5;129;01mnot\u001b[39;00m Undefined}\n\u001b[1;32m    134\u001b[0m \u001b[38;5;28;01melif\u001b[39;00m \u001b[38;5;28mhasattr\u001b[39m(obj, \u001b[38;5;124m\"\u001b[39m\u001b[38;5;124mto_dict\u001b[39m\u001b[38;5;124m\"\u001b[39m):\n\u001b[1;32m    135\u001b[0m     \u001b[38;5;28;01mreturn\u001b[39;00m obj\u001b[38;5;241m.\u001b[39mto_dict()\n",
      "File \u001b[0;32m~/development/altair/altair/utils/schemapi.py:131\u001b[0m, in \u001b[0;36m_todict\u001b[0;34m(obj, context)\u001b[0m\n\u001b[1;32m    129\u001b[0m     \u001b[38;5;28;01mreturn\u001b[39;00m obj\u001b[38;5;241m.\u001b[39mto_dict(validate\u001b[38;5;241m=\u001b[39m\u001b[38;5;28;01mFalse\u001b[39;00m, context\u001b[38;5;241m=\u001b[39mcontext)\n\u001b[1;32m    130\u001b[0m \u001b[38;5;28;01melif\u001b[39;00m \u001b[38;5;28misinstance\u001b[39m(obj, (\u001b[38;5;28mlist\u001b[39m, \u001b[38;5;28mtuple\u001b[39m, np\u001b[38;5;241m.\u001b[39mndarray)):\n\u001b[0;32m--> 131\u001b[0m     \u001b[38;5;28;01mreturn\u001b[39;00m [_todict(v, context) \u001b[38;5;28;01mfor\u001b[39;00m v \u001b[38;5;129;01min\u001b[39;00m obj]\n\u001b[1;32m    132\u001b[0m \u001b[38;5;28;01melif\u001b[39;00m \u001b[38;5;28misinstance\u001b[39m(obj, \u001b[38;5;28mdict\u001b[39m):\n\u001b[1;32m    133\u001b[0m     \u001b[38;5;28;01mreturn\u001b[39;00m {k: _todict(v, context) \u001b[38;5;28;01mfor\u001b[39;00m k, v \u001b[38;5;129;01min\u001b[39;00m obj\u001b[38;5;241m.\u001b[39mitems() \u001b[38;5;28;01mif\u001b[39;00m v \u001b[38;5;129;01mis\u001b[39;00m \u001b[38;5;129;01mnot\u001b[39;00m Undefined}\n",
      "File \u001b[0;32m~/development/altair/altair/utils/schemapi.py:131\u001b[0m, in \u001b[0;36m<listcomp>\u001b[0;34m(.0)\u001b[0m\n\u001b[1;32m    129\u001b[0m     \u001b[38;5;28;01mreturn\u001b[39;00m obj\u001b[38;5;241m.\u001b[39mto_dict(validate\u001b[38;5;241m=\u001b[39m\u001b[38;5;28;01mFalse\u001b[39;00m, context\u001b[38;5;241m=\u001b[39mcontext)\n\u001b[1;32m    130\u001b[0m \u001b[38;5;28;01melif\u001b[39;00m \u001b[38;5;28misinstance\u001b[39m(obj, (\u001b[38;5;28mlist\u001b[39m, \u001b[38;5;28mtuple\u001b[39m, np\u001b[38;5;241m.\u001b[39mndarray)):\n\u001b[0;32m--> 131\u001b[0m     \u001b[38;5;28;01mreturn\u001b[39;00m [\u001b[43m_todict\u001b[49m\u001b[43m(\u001b[49m\u001b[43mv\u001b[49m\u001b[43m,\u001b[49m\u001b[43m \u001b[49m\u001b[43mcontext\u001b[49m\u001b[43m)\u001b[49m \u001b[38;5;28;01mfor\u001b[39;00m v \u001b[38;5;129;01min\u001b[39;00m obj]\n\u001b[1;32m    132\u001b[0m \u001b[38;5;28;01melif\u001b[39;00m \u001b[38;5;28misinstance\u001b[39m(obj, \u001b[38;5;28mdict\u001b[39m):\n\u001b[1;32m    133\u001b[0m     \u001b[38;5;28;01mreturn\u001b[39;00m {k: _todict(v, context) \u001b[38;5;28;01mfor\u001b[39;00m k, v \u001b[38;5;129;01min\u001b[39;00m obj\u001b[38;5;241m.\u001b[39mitems() \u001b[38;5;28;01mif\u001b[39;00m v \u001b[38;5;129;01mis\u001b[39;00m \u001b[38;5;129;01mnot\u001b[39;00m Undefined}\n",
      "File \u001b[0;32m~/development/altair/altair/utils/schemapi.py:129\u001b[0m, in \u001b[0;36m_todict\u001b[0;34m(obj, context)\u001b[0m\n\u001b[1;32m    127\u001b[0m \u001b[38;5;124;03m\"\"\"Convert an object to a dict representation.\"\"\"\u001b[39;00m\n\u001b[1;32m    128\u001b[0m \u001b[38;5;28;01mif\u001b[39;00m \u001b[38;5;28misinstance\u001b[39m(obj, SchemaBase):\n\u001b[0;32m--> 129\u001b[0m     \u001b[38;5;28;01mreturn\u001b[39;00m \u001b[43mobj\u001b[49m\u001b[38;5;241;43m.\u001b[39;49m\u001b[43mto_dict\u001b[49m\u001b[43m(\u001b[49m\u001b[43mvalidate\u001b[49m\u001b[38;5;241;43m=\u001b[39;49m\u001b[38;5;28;43;01mFalse\u001b[39;49;00m\u001b[43m,\u001b[49m\u001b[43m \u001b[49m\u001b[43mcontext\u001b[49m\u001b[38;5;241;43m=\u001b[39;49m\u001b[43mcontext\u001b[49m\u001b[43m)\u001b[49m\n\u001b[1;32m    130\u001b[0m \u001b[38;5;28;01melif\u001b[39;00m \u001b[38;5;28misinstance\u001b[39m(obj, (\u001b[38;5;28mlist\u001b[39m, \u001b[38;5;28mtuple\u001b[39m, np\u001b[38;5;241m.\u001b[39mndarray)):\n\u001b[1;32m    131\u001b[0m     \u001b[38;5;28;01mreturn\u001b[39;00m [_todict(v, context) \u001b[38;5;28;01mfor\u001b[39;00m v \u001b[38;5;129;01min\u001b[39;00m obj]\n",
      "File \u001b[0;32m~/development/altair/altair/vegalite/v5/api.py:559\u001b[0m, in \u001b[0;36mTopLevelMixin.to_dict\u001b[0;34m(self, *args, **kwargs)\u001b[0m\n\u001b[1;32m    556\u001b[0m context[\u001b[38;5;124m\"\u001b[39m\u001b[38;5;124mtop_level\u001b[39m\u001b[38;5;124m\"\u001b[39m] \u001b[38;5;241m=\u001b[39m \u001b[38;5;28;01mFalse\u001b[39;00m\n\u001b[1;32m    557\u001b[0m kwargs[\u001b[38;5;124m\"\u001b[39m\u001b[38;5;124mcontext\u001b[39m\u001b[38;5;124m\"\u001b[39m] \u001b[38;5;241m=\u001b[39m context\n\u001b[0;32m--> 559\u001b[0m dct \u001b[38;5;241m=\u001b[39m \u001b[38;5;28;43msuper\u001b[39;49m\u001b[43m(\u001b[49m\u001b[43mTopLevelMixin\u001b[49m\u001b[43m,\u001b[49m\u001b[43m \u001b[49m\u001b[43mcopy\u001b[49m\u001b[43m)\u001b[49m\u001b[38;5;241;43m.\u001b[39;49m\u001b[43mto_dict\u001b[49m\u001b[43m(\u001b[49m\u001b[38;5;241;43m*\u001b[39;49m\u001b[43margs\u001b[49m\u001b[43m,\u001b[49m\u001b[43m \u001b[49m\u001b[38;5;241;43m*\u001b[39;49m\u001b[38;5;241;43m*\u001b[39;49m\u001b[43mkwargs\u001b[49m\u001b[43m)\u001b[49m\n\u001b[1;32m    561\u001b[0m \u001b[38;5;66;03m# TODO: following entries are added after validation. Should they be validated?\u001b[39;00m\n\u001b[1;32m    562\u001b[0m \u001b[38;5;28;01mif\u001b[39;00m is_top_level:\n\u001b[1;32m    563\u001b[0m     \u001b[38;5;66;03m# since this is top-level we add $schema if it's missing\u001b[39;00m\n",
      "File \u001b[0;32m~/development/altair/altair/utils/schemapi.py:409\u001b[0m, in \u001b[0;36mSchemaBase.to_dict\u001b[0;34m(self, validate, ignore, context)\u001b[0m\n\u001b[1;32m    399\u001b[0m     kwds\u001b[38;5;241m.\u001b[39mupdate(\n\u001b[1;32m    400\u001b[0m         {\n\u001b[1;32m    401\u001b[0m             k: v\n\u001b[0;32m   (...)\u001b[0m\n\u001b[1;32m    404\u001b[0m         }\n\u001b[1;32m    405\u001b[0m     )\n\u001b[1;32m    406\u001b[0m     kwds \u001b[38;5;241m=\u001b[39m {\n\u001b[1;32m    407\u001b[0m         k: v \u001b[38;5;28;01mfor\u001b[39;00m k, v \u001b[38;5;129;01min\u001b[39;00m kwds\u001b[38;5;241m.\u001b[39mitems() \u001b[38;5;28;01mif\u001b[39;00m k \u001b[38;5;129;01mnot\u001b[39;00m \u001b[38;5;129;01min\u001b[39;00m \u001b[38;5;28mlist\u001b[39m(ignore) \u001b[38;5;241m+\u001b[39m [\u001b[38;5;124m\"\u001b[39m\u001b[38;5;124mshorthand\u001b[39m\u001b[38;5;124m\"\u001b[39m]\n\u001b[1;32m    408\u001b[0m     }\n\u001b[0;32m--> 409\u001b[0m     result \u001b[38;5;241m=\u001b[39m \u001b[43m_todict\u001b[49m\u001b[43m(\u001b[49m\n\u001b[1;32m    410\u001b[0m \u001b[43m        \u001b[49m\u001b[43mkwds\u001b[49m\u001b[43m,\u001b[49m\n\u001b[1;32m    411\u001b[0m \u001b[43m        \u001b[49m\u001b[43mcontext\u001b[49m\u001b[38;5;241;43m=\u001b[39;49m\u001b[43mcontext\u001b[49m\u001b[43m,\u001b[49m\n\u001b[1;32m    412\u001b[0m \u001b[43m    \u001b[49m\u001b[43m)\u001b[49m\n\u001b[1;32m    413\u001b[0m \u001b[38;5;28;01melse\u001b[39;00m:\n\u001b[1;32m    414\u001b[0m     \u001b[38;5;28;01mraise\u001b[39;00m \u001b[38;5;167;01mValueError\u001b[39;00m(\n\u001b[1;32m    415\u001b[0m         \u001b[38;5;124m\"\u001b[39m\u001b[38;5;132;01m{}\u001b[39;00m\u001b[38;5;124m instance has both a value and properties : \u001b[39m\u001b[38;5;124m\"\u001b[39m\n\u001b[1;32m    416\u001b[0m         \u001b[38;5;124m\"\u001b[39m\u001b[38;5;124mcannot serialize to dict\u001b[39m\u001b[38;5;124m\"\u001b[39m\u001b[38;5;241m.\u001b[39mformat(\u001b[38;5;28mself\u001b[39m\u001b[38;5;241m.\u001b[39m\u001b[38;5;18m__class__\u001b[39m)\n\u001b[1;32m    417\u001b[0m     )\n",
      "File \u001b[0;32m~/development/altair/altair/utils/schemapi.py:133\u001b[0m, in \u001b[0;36m_todict\u001b[0;34m(obj, context)\u001b[0m\n\u001b[1;32m    131\u001b[0m     \u001b[38;5;28;01mreturn\u001b[39;00m [_todict(v, context) \u001b[38;5;28;01mfor\u001b[39;00m v \u001b[38;5;129;01min\u001b[39;00m obj]\n\u001b[1;32m    132\u001b[0m \u001b[38;5;28;01melif\u001b[39;00m \u001b[38;5;28misinstance\u001b[39m(obj, \u001b[38;5;28mdict\u001b[39m):\n\u001b[0;32m--> 133\u001b[0m     \u001b[38;5;28;01mreturn\u001b[39;00m {k: _todict(v, context) \u001b[38;5;28;01mfor\u001b[39;00m k, v \u001b[38;5;129;01min\u001b[39;00m obj\u001b[38;5;241m.\u001b[39mitems() \u001b[38;5;28;01mif\u001b[39;00m v \u001b[38;5;129;01mis\u001b[39;00m \u001b[38;5;129;01mnot\u001b[39;00m Undefined}\n\u001b[1;32m    134\u001b[0m \u001b[38;5;28;01melif\u001b[39;00m \u001b[38;5;28mhasattr\u001b[39m(obj, \u001b[38;5;124m\"\u001b[39m\u001b[38;5;124mto_dict\u001b[39m\u001b[38;5;124m\"\u001b[39m):\n\u001b[1;32m    135\u001b[0m     \u001b[38;5;28;01mreturn\u001b[39;00m obj\u001b[38;5;241m.\u001b[39mto_dict()\n",
      "File \u001b[0;32m~/development/altair/altair/utils/schemapi.py:133\u001b[0m, in \u001b[0;36m<dictcomp>\u001b[0;34m(.0)\u001b[0m\n\u001b[1;32m    131\u001b[0m     \u001b[38;5;28;01mreturn\u001b[39;00m [_todict(v, context) \u001b[38;5;28;01mfor\u001b[39;00m v \u001b[38;5;129;01min\u001b[39;00m obj]\n\u001b[1;32m    132\u001b[0m \u001b[38;5;28;01melif\u001b[39;00m \u001b[38;5;28misinstance\u001b[39m(obj, \u001b[38;5;28mdict\u001b[39m):\n\u001b[0;32m--> 133\u001b[0m     \u001b[38;5;28;01mreturn\u001b[39;00m {k: \u001b[43m_todict\u001b[49m\u001b[43m(\u001b[49m\u001b[43mv\u001b[49m\u001b[43m,\u001b[49m\u001b[43m \u001b[49m\u001b[43mcontext\u001b[49m\u001b[43m)\u001b[49m \u001b[38;5;28;01mfor\u001b[39;00m k, v \u001b[38;5;129;01min\u001b[39;00m obj\u001b[38;5;241m.\u001b[39mitems() \u001b[38;5;28;01mif\u001b[39;00m v \u001b[38;5;129;01mis\u001b[39;00m \u001b[38;5;129;01mnot\u001b[39;00m Undefined}\n\u001b[1;32m    134\u001b[0m \u001b[38;5;28;01melif\u001b[39;00m \u001b[38;5;28mhasattr\u001b[39m(obj, \u001b[38;5;124m\"\u001b[39m\u001b[38;5;124mto_dict\u001b[39m\u001b[38;5;124m\"\u001b[39m):\n\u001b[1;32m    135\u001b[0m     \u001b[38;5;28;01mreturn\u001b[39;00m obj\u001b[38;5;241m.\u001b[39mto_dict()\n",
      "File \u001b[0;32m~/development/altair/altair/utils/schemapi.py:131\u001b[0m, in \u001b[0;36m_todict\u001b[0;34m(obj, context)\u001b[0m\n\u001b[1;32m    129\u001b[0m     \u001b[38;5;28;01mreturn\u001b[39;00m obj\u001b[38;5;241m.\u001b[39mto_dict(validate\u001b[38;5;241m=\u001b[39m\u001b[38;5;28;01mFalse\u001b[39;00m, context\u001b[38;5;241m=\u001b[39mcontext)\n\u001b[1;32m    130\u001b[0m \u001b[38;5;28;01melif\u001b[39;00m \u001b[38;5;28misinstance\u001b[39m(obj, (\u001b[38;5;28mlist\u001b[39m, \u001b[38;5;28mtuple\u001b[39m, np\u001b[38;5;241m.\u001b[39mndarray)):\n\u001b[0;32m--> 131\u001b[0m     \u001b[38;5;28;01mreturn\u001b[39;00m [_todict(v, context) \u001b[38;5;28;01mfor\u001b[39;00m v \u001b[38;5;129;01min\u001b[39;00m obj]\n\u001b[1;32m    132\u001b[0m \u001b[38;5;28;01melif\u001b[39;00m \u001b[38;5;28misinstance\u001b[39m(obj, \u001b[38;5;28mdict\u001b[39m):\n\u001b[1;32m    133\u001b[0m     \u001b[38;5;28;01mreturn\u001b[39;00m {k: _todict(v, context) \u001b[38;5;28;01mfor\u001b[39;00m k, v \u001b[38;5;129;01min\u001b[39;00m obj\u001b[38;5;241m.\u001b[39mitems() \u001b[38;5;28;01mif\u001b[39;00m v \u001b[38;5;129;01mis\u001b[39;00m \u001b[38;5;129;01mnot\u001b[39;00m Undefined}\n",
      "File \u001b[0;32m~/development/altair/altair/utils/schemapi.py:131\u001b[0m, in \u001b[0;36m<listcomp>\u001b[0;34m(.0)\u001b[0m\n\u001b[1;32m    129\u001b[0m     \u001b[38;5;28;01mreturn\u001b[39;00m obj\u001b[38;5;241m.\u001b[39mto_dict(validate\u001b[38;5;241m=\u001b[39m\u001b[38;5;28;01mFalse\u001b[39;00m, context\u001b[38;5;241m=\u001b[39mcontext)\n\u001b[1;32m    130\u001b[0m \u001b[38;5;28;01melif\u001b[39;00m \u001b[38;5;28misinstance\u001b[39m(obj, (\u001b[38;5;28mlist\u001b[39m, \u001b[38;5;28mtuple\u001b[39m, np\u001b[38;5;241m.\u001b[39mndarray)):\n\u001b[0;32m--> 131\u001b[0m     \u001b[38;5;28;01mreturn\u001b[39;00m [\u001b[43m_todict\u001b[49m\u001b[43m(\u001b[49m\u001b[43mv\u001b[49m\u001b[43m,\u001b[49m\u001b[43m \u001b[49m\u001b[43mcontext\u001b[49m\u001b[43m)\u001b[49m \u001b[38;5;28;01mfor\u001b[39;00m v \u001b[38;5;129;01min\u001b[39;00m obj]\n\u001b[1;32m    132\u001b[0m \u001b[38;5;28;01melif\u001b[39;00m \u001b[38;5;28misinstance\u001b[39m(obj, \u001b[38;5;28mdict\u001b[39m):\n\u001b[1;32m    133\u001b[0m     \u001b[38;5;28;01mreturn\u001b[39;00m {k: _todict(v, context) \u001b[38;5;28;01mfor\u001b[39;00m k, v \u001b[38;5;129;01min\u001b[39;00m obj\u001b[38;5;241m.\u001b[39mitems() \u001b[38;5;28;01mif\u001b[39;00m v \u001b[38;5;129;01mis\u001b[39;00m \u001b[38;5;129;01mnot\u001b[39;00m Undefined}\n",
      "File \u001b[0;32m~/development/altair/altair/utils/schemapi.py:129\u001b[0m, in \u001b[0;36m_todict\u001b[0;34m(obj, context)\u001b[0m\n\u001b[1;32m    127\u001b[0m \u001b[38;5;124;03m\"\"\"Convert an object to a dict representation.\"\"\"\u001b[39;00m\n\u001b[1;32m    128\u001b[0m \u001b[38;5;28;01mif\u001b[39;00m \u001b[38;5;28misinstance\u001b[39m(obj, SchemaBase):\n\u001b[0;32m--> 129\u001b[0m     \u001b[38;5;28;01mreturn\u001b[39;00m \u001b[43mobj\u001b[49m\u001b[38;5;241;43m.\u001b[39;49m\u001b[43mto_dict\u001b[49m\u001b[43m(\u001b[49m\u001b[43mvalidate\u001b[49m\u001b[38;5;241;43m=\u001b[39;49m\u001b[38;5;28;43;01mFalse\u001b[39;49;00m\u001b[43m,\u001b[49m\u001b[43m \u001b[49m\u001b[43mcontext\u001b[49m\u001b[38;5;241;43m=\u001b[39;49m\u001b[43mcontext\u001b[49m\u001b[43m)\u001b[49m\n\u001b[1;32m    130\u001b[0m \u001b[38;5;28;01melif\u001b[39;00m \u001b[38;5;28misinstance\u001b[39m(obj, (\u001b[38;5;28mlist\u001b[39m, \u001b[38;5;28mtuple\u001b[39m, np\u001b[38;5;241m.\u001b[39mndarray)):\n\u001b[1;32m    131\u001b[0m     \u001b[38;5;28;01mreturn\u001b[39;00m [_todict(v, context) \u001b[38;5;28;01mfor\u001b[39;00m v \u001b[38;5;129;01min\u001b[39;00m obj]\n",
      "File \u001b[0;32m~/development/altair/altair/vegalite/v5/api.py:559\u001b[0m, in \u001b[0;36mTopLevelMixin.to_dict\u001b[0;34m(self, *args, **kwargs)\u001b[0m\n\u001b[1;32m    556\u001b[0m context[\u001b[38;5;124m\"\u001b[39m\u001b[38;5;124mtop_level\u001b[39m\u001b[38;5;124m\"\u001b[39m] \u001b[38;5;241m=\u001b[39m \u001b[38;5;28;01mFalse\u001b[39;00m\n\u001b[1;32m    557\u001b[0m kwargs[\u001b[38;5;124m\"\u001b[39m\u001b[38;5;124mcontext\u001b[39m\u001b[38;5;124m\"\u001b[39m] \u001b[38;5;241m=\u001b[39m context\n\u001b[0;32m--> 559\u001b[0m dct \u001b[38;5;241m=\u001b[39m \u001b[38;5;28;43msuper\u001b[39;49m\u001b[43m(\u001b[49m\u001b[43mTopLevelMixin\u001b[49m\u001b[43m,\u001b[49m\u001b[43m \u001b[49m\u001b[43mcopy\u001b[49m\u001b[43m)\u001b[49m\u001b[38;5;241;43m.\u001b[39;49m\u001b[43mto_dict\u001b[49m\u001b[43m(\u001b[49m\u001b[38;5;241;43m*\u001b[39;49m\u001b[43margs\u001b[49m\u001b[43m,\u001b[49m\u001b[43m \u001b[49m\u001b[38;5;241;43m*\u001b[39;49m\u001b[38;5;241;43m*\u001b[39;49m\u001b[43mkwargs\u001b[49m\u001b[43m)\u001b[49m\n\u001b[1;32m    561\u001b[0m \u001b[38;5;66;03m# TODO: following entries are added after validation. Should they be validated?\u001b[39;00m\n\u001b[1;32m    562\u001b[0m \u001b[38;5;28;01mif\u001b[39;00m is_top_level:\n\u001b[1;32m    563\u001b[0m     \u001b[38;5;66;03m# since this is top-level we add $schema if it's missing\u001b[39;00m\n",
      "File \u001b[0;32m~/development/altair/altair/utils/schemapi.py:409\u001b[0m, in \u001b[0;36mSchemaBase.to_dict\u001b[0;34m(self, validate, ignore, context)\u001b[0m\n\u001b[1;32m    399\u001b[0m     kwds\u001b[38;5;241m.\u001b[39mupdate(\n\u001b[1;32m    400\u001b[0m         {\n\u001b[1;32m    401\u001b[0m             k: v\n\u001b[0;32m   (...)\u001b[0m\n\u001b[1;32m    404\u001b[0m         }\n\u001b[1;32m    405\u001b[0m     )\n\u001b[1;32m    406\u001b[0m     kwds \u001b[38;5;241m=\u001b[39m {\n\u001b[1;32m    407\u001b[0m         k: v \u001b[38;5;28;01mfor\u001b[39;00m k, v \u001b[38;5;129;01min\u001b[39;00m kwds\u001b[38;5;241m.\u001b[39mitems() \u001b[38;5;28;01mif\u001b[39;00m k \u001b[38;5;129;01mnot\u001b[39;00m \u001b[38;5;129;01min\u001b[39;00m \u001b[38;5;28mlist\u001b[39m(ignore) \u001b[38;5;241m+\u001b[39m [\u001b[38;5;124m\"\u001b[39m\u001b[38;5;124mshorthand\u001b[39m\u001b[38;5;124m\"\u001b[39m]\n\u001b[1;32m    408\u001b[0m     }\n\u001b[0;32m--> 409\u001b[0m     result \u001b[38;5;241m=\u001b[39m \u001b[43m_todict\u001b[49m\u001b[43m(\u001b[49m\n\u001b[1;32m    410\u001b[0m \u001b[43m        \u001b[49m\u001b[43mkwds\u001b[49m\u001b[43m,\u001b[49m\n\u001b[1;32m    411\u001b[0m \u001b[43m        \u001b[49m\u001b[43mcontext\u001b[49m\u001b[38;5;241;43m=\u001b[39;49m\u001b[43mcontext\u001b[49m\u001b[43m,\u001b[49m\n\u001b[1;32m    412\u001b[0m \u001b[43m    \u001b[49m\u001b[43m)\u001b[49m\n\u001b[1;32m    413\u001b[0m \u001b[38;5;28;01melse\u001b[39;00m:\n\u001b[1;32m    414\u001b[0m     \u001b[38;5;28;01mraise\u001b[39;00m \u001b[38;5;167;01mValueError\u001b[39;00m(\n\u001b[1;32m    415\u001b[0m         \u001b[38;5;124m\"\u001b[39m\u001b[38;5;132;01m{}\u001b[39;00m\u001b[38;5;124m instance has both a value and properties : \u001b[39m\u001b[38;5;124m\"\u001b[39m\n\u001b[1;32m    416\u001b[0m         \u001b[38;5;124m\"\u001b[39m\u001b[38;5;124mcannot serialize to dict\u001b[39m\u001b[38;5;124m\"\u001b[39m\u001b[38;5;241m.\u001b[39mformat(\u001b[38;5;28mself\u001b[39m\u001b[38;5;241m.\u001b[39m\u001b[38;5;18m__class__\u001b[39m)\n\u001b[1;32m    417\u001b[0m     )\n",
      "File \u001b[0;32m~/development/altair/altair/utils/schemapi.py:133\u001b[0m, in \u001b[0;36m_todict\u001b[0;34m(obj, context)\u001b[0m\n\u001b[1;32m    131\u001b[0m     \u001b[38;5;28;01mreturn\u001b[39;00m [_todict(v, context) \u001b[38;5;28;01mfor\u001b[39;00m v \u001b[38;5;129;01min\u001b[39;00m obj]\n\u001b[1;32m    132\u001b[0m \u001b[38;5;28;01melif\u001b[39;00m \u001b[38;5;28misinstance\u001b[39m(obj, \u001b[38;5;28mdict\u001b[39m):\n\u001b[0;32m--> 133\u001b[0m     \u001b[38;5;28;01mreturn\u001b[39;00m {k: _todict(v, context) \u001b[38;5;28;01mfor\u001b[39;00m k, v \u001b[38;5;129;01min\u001b[39;00m obj\u001b[38;5;241m.\u001b[39mitems() \u001b[38;5;28;01mif\u001b[39;00m v \u001b[38;5;129;01mis\u001b[39;00m \u001b[38;5;129;01mnot\u001b[39;00m Undefined}\n\u001b[1;32m    134\u001b[0m \u001b[38;5;28;01melif\u001b[39;00m \u001b[38;5;28mhasattr\u001b[39m(obj, \u001b[38;5;124m\"\u001b[39m\u001b[38;5;124mto_dict\u001b[39m\u001b[38;5;124m\"\u001b[39m):\n\u001b[1;32m    135\u001b[0m     \u001b[38;5;28;01mreturn\u001b[39;00m obj\u001b[38;5;241m.\u001b[39mto_dict()\n",
      "File \u001b[0;32m~/development/altair/altair/utils/schemapi.py:133\u001b[0m, in \u001b[0;36m<dictcomp>\u001b[0;34m(.0)\u001b[0m\n\u001b[1;32m    131\u001b[0m     \u001b[38;5;28;01mreturn\u001b[39;00m [_todict(v, context) \u001b[38;5;28;01mfor\u001b[39;00m v \u001b[38;5;129;01min\u001b[39;00m obj]\n\u001b[1;32m    132\u001b[0m \u001b[38;5;28;01melif\u001b[39;00m \u001b[38;5;28misinstance\u001b[39m(obj, \u001b[38;5;28mdict\u001b[39m):\n\u001b[0;32m--> 133\u001b[0m     \u001b[38;5;28;01mreturn\u001b[39;00m {k: \u001b[43m_todict\u001b[49m\u001b[43m(\u001b[49m\u001b[43mv\u001b[49m\u001b[43m,\u001b[49m\u001b[43m \u001b[49m\u001b[43mcontext\u001b[49m\u001b[43m)\u001b[49m \u001b[38;5;28;01mfor\u001b[39;00m k, v \u001b[38;5;129;01min\u001b[39;00m obj\u001b[38;5;241m.\u001b[39mitems() \u001b[38;5;28;01mif\u001b[39;00m v \u001b[38;5;129;01mis\u001b[39;00m \u001b[38;5;129;01mnot\u001b[39;00m Undefined}\n\u001b[1;32m    134\u001b[0m \u001b[38;5;28;01melif\u001b[39;00m \u001b[38;5;28mhasattr\u001b[39m(obj, \u001b[38;5;124m\"\u001b[39m\u001b[38;5;124mto_dict\u001b[39m\u001b[38;5;124m\"\u001b[39m):\n\u001b[1;32m    135\u001b[0m     \u001b[38;5;28;01mreturn\u001b[39;00m obj\u001b[38;5;241m.\u001b[39mto_dict()\n",
      "File \u001b[0;32m~/development/altair/altair/utils/schemapi.py:131\u001b[0m, in \u001b[0;36m_todict\u001b[0;34m(obj, context)\u001b[0m\n\u001b[1;32m    129\u001b[0m     \u001b[38;5;28;01mreturn\u001b[39;00m obj\u001b[38;5;241m.\u001b[39mto_dict(validate\u001b[38;5;241m=\u001b[39m\u001b[38;5;28;01mFalse\u001b[39;00m, context\u001b[38;5;241m=\u001b[39mcontext)\n\u001b[1;32m    130\u001b[0m \u001b[38;5;28;01melif\u001b[39;00m \u001b[38;5;28misinstance\u001b[39m(obj, (\u001b[38;5;28mlist\u001b[39m, \u001b[38;5;28mtuple\u001b[39m, np\u001b[38;5;241m.\u001b[39mndarray)):\n\u001b[0;32m--> 131\u001b[0m     \u001b[38;5;28;01mreturn\u001b[39;00m [_todict(v, context) \u001b[38;5;28;01mfor\u001b[39;00m v \u001b[38;5;129;01min\u001b[39;00m obj]\n\u001b[1;32m    132\u001b[0m \u001b[38;5;28;01melif\u001b[39;00m \u001b[38;5;28misinstance\u001b[39m(obj, \u001b[38;5;28mdict\u001b[39m):\n\u001b[1;32m    133\u001b[0m     \u001b[38;5;28;01mreturn\u001b[39;00m {k: _todict(v, context) \u001b[38;5;28;01mfor\u001b[39;00m k, v \u001b[38;5;129;01min\u001b[39;00m obj\u001b[38;5;241m.\u001b[39mitems() \u001b[38;5;28;01mif\u001b[39;00m v \u001b[38;5;129;01mis\u001b[39;00m \u001b[38;5;129;01mnot\u001b[39;00m Undefined}\n",
      "File \u001b[0;32m~/development/altair/altair/utils/schemapi.py:131\u001b[0m, in \u001b[0;36m<listcomp>\u001b[0;34m(.0)\u001b[0m\n\u001b[1;32m    129\u001b[0m     \u001b[38;5;28;01mreturn\u001b[39;00m obj\u001b[38;5;241m.\u001b[39mto_dict(validate\u001b[38;5;241m=\u001b[39m\u001b[38;5;28;01mFalse\u001b[39;00m, context\u001b[38;5;241m=\u001b[39mcontext)\n\u001b[1;32m    130\u001b[0m \u001b[38;5;28;01melif\u001b[39;00m \u001b[38;5;28misinstance\u001b[39m(obj, (\u001b[38;5;28mlist\u001b[39m, \u001b[38;5;28mtuple\u001b[39m, np\u001b[38;5;241m.\u001b[39mndarray)):\n\u001b[0;32m--> 131\u001b[0m     \u001b[38;5;28;01mreturn\u001b[39;00m [\u001b[43m_todict\u001b[49m\u001b[43m(\u001b[49m\u001b[43mv\u001b[49m\u001b[43m,\u001b[49m\u001b[43m \u001b[49m\u001b[43mcontext\u001b[49m\u001b[43m)\u001b[49m \u001b[38;5;28;01mfor\u001b[39;00m v \u001b[38;5;129;01min\u001b[39;00m obj]\n\u001b[1;32m    132\u001b[0m \u001b[38;5;28;01melif\u001b[39;00m \u001b[38;5;28misinstance\u001b[39m(obj, \u001b[38;5;28mdict\u001b[39m):\n\u001b[1;32m    133\u001b[0m     \u001b[38;5;28;01mreturn\u001b[39;00m {k: _todict(v, context) \u001b[38;5;28;01mfor\u001b[39;00m k, v \u001b[38;5;129;01min\u001b[39;00m obj\u001b[38;5;241m.\u001b[39mitems() \u001b[38;5;28;01mif\u001b[39;00m v \u001b[38;5;129;01mis\u001b[39;00m \u001b[38;5;129;01mnot\u001b[39;00m Undefined}\n",
      "File \u001b[0;32m~/development/altair/altair/utils/schemapi.py:129\u001b[0m, in \u001b[0;36m_todict\u001b[0;34m(obj, context)\u001b[0m\n\u001b[1;32m    127\u001b[0m \u001b[38;5;124;03m\"\"\"Convert an object to a dict representation.\"\"\"\u001b[39;00m\n\u001b[1;32m    128\u001b[0m \u001b[38;5;28;01mif\u001b[39;00m \u001b[38;5;28misinstance\u001b[39m(obj, SchemaBase):\n\u001b[0;32m--> 129\u001b[0m     \u001b[38;5;28;01mreturn\u001b[39;00m \u001b[43mobj\u001b[49m\u001b[38;5;241;43m.\u001b[39;49m\u001b[43mto_dict\u001b[49m\u001b[43m(\u001b[49m\u001b[43mvalidate\u001b[49m\u001b[38;5;241;43m=\u001b[39;49m\u001b[38;5;28;43;01mFalse\u001b[39;49;00m\u001b[43m,\u001b[49m\u001b[43m \u001b[49m\u001b[43mcontext\u001b[49m\u001b[38;5;241;43m=\u001b[39;49m\u001b[43mcontext\u001b[49m\u001b[43m)\u001b[49m\n\u001b[1;32m    130\u001b[0m \u001b[38;5;28;01melif\u001b[39;00m \u001b[38;5;28misinstance\u001b[39m(obj, (\u001b[38;5;28mlist\u001b[39m, \u001b[38;5;28mtuple\u001b[39m, np\u001b[38;5;241m.\u001b[39mndarray)):\n\u001b[1;32m    131\u001b[0m     \u001b[38;5;28;01mreturn\u001b[39;00m [_todict(v, context) \u001b[38;5;28;01mfor\u001b[39;00m v \u001b[38;5;129;01min\u001b[39;00m obj]\n",
      "File \u001b[0;32m~/development/altair/altair/vegalite/v5/api.py:2194\u001b[0m, in \u001b[0;36mChart.to_dict\u001b[0;34m(self, *args, **kwargs)\u001b[0m\n\u001b[1;32m   2192\u001b[0m     copy\u001b[38;5;241m.\u001b[39mdata \u001b[38;5;241m=\u001b[39m core\u001b[38;5;241m.\u001b[39mInlineData(values\u001b[38;5;241m=\u001b[39m[{}])\n\u001b[1;32m   2193\u001b[0m     \u001b[38;5;28;01mreturn\u001b[39;00m \u001b[38;5;28msuper\u001b[39m(Chart, copy)\u001b[38;5;241m.\u001b[39mto_dict(\u001b[38;5;241m*\u001b[39margs, \u001b[38;5;241m*\u001b[39m\u001b[38;5;241m*\u001b[39mkwargs)\n\u001b[0;32m-> 2194\u001b[0m \u001b[38;5;28;01mreturn\u001b[39;00m \u001b[38;5;28;43msuper\u001b[39;49m\u001b[43m(\u001b[49m\u001b[43m)\u001b[49m\u001b[38;5;241;43m.\u001b[39;49m\u001b[43mto_dict\u001b[49m\u001b[43m(\u001b[49m\u001b[38;5;241;43m*\u001b[39;49m\u001b[43margs\u001b[49m\u001b[43m,\u001b[49m\u001b[43m \u001b[49m\u001b[38;5;241;43m*\u001b[39;49m\u001b[38;5;241;43m*\u001b[39;49m\u001b[43mkwargs\u001b[49m\u001b[43m)\u001b[49m\n",
      "File \u001b[0;32m~/development/altair/altair/vegalite/v5/api.py:559\u001b[0m, in \u001b[0;36mTopLevelMixin.to_dict\u001b[0;34m(self, *args, **kwargs)\u001b[0m\n\u001b[1;32m    556\u001b[0m context[\u001b[38;5;124m\"\u001b[39m\u001b[38;5;124mtop_level\u001b[39m\u001b[38;5;124m\"\u001b[39m] \u001b[38;5;241m=\u001b[39m \u001b[38;5;28;01mFalse\u001b[39;00m\n\u001b[1;32m    557\u001b[0m kwargs[\u001b[38;5;124m\"\u001b[39m\u001b[38;5;124mcontext\u001b[39m\u001b[38;5;124m\"\u001b[39m] \u001b[38;5;241m=\u001b[39m context\n\u001b[0;32m--> 559\u001b[0m dct \u001b[38;5;241m=\u001b[39m \u001b[38;5;28;43msuper\u001b[39;49m\u001b[43m(\u001b[49m\u001b[43mTopLevelMixin\u001b[49m\u001b[43m,\u001b[49m\u001b[43m \u001b[49m\u001b[43mcopy\u001b[49m\u001b[43m)\u001b[49m\u001b[38;5;241;43m.\u001b[39;49m\u001b[43mto_dict\u001b[49m\u001b[43m(\u001b[49m\u001b[38;5;241;43m*\u001b[39;49m\u001b[43margs\u001b[49m\u001b[43m,\u001b[49m\u001b[43m \u001b[49m\u001b[38;5;241;43m*\u001b[39;49m\u001b[38;5;241;43m*\u001b[39;49m\u001b[43mkwargs\u001b[49m\u001b[43m)\u001b[49m\n\u001b[1;32m    561\u001b[0m \u001b[38;5;66;03m# TODO: following entries are added after validation. Should they be validated?\u001b[39;00m\n\u001b[1;32m    562\u001b[0m \u001b[38;5;28;01mif\u001b[39;00m is_top_level:\n\u001b[1;32m    563\u001b[0m     \u001b[38;5;66;03m# since this is top-level we add $schema if it's missing\u001b[39;00m\n",
      "File \u001b[0;32m~/development/altair/altair/utils/schemapi.py:409\u001b[0m, in \u001b[0;36mSchemaBase.to_dict\u001b[0;34m(self, validate, ignore, context)\u001b[0m\n\u001b[1;32m    399\u001b[0m     kwds\u001b[38;5;241m.\u001b[39mupdate(\n\u001b[1;32m    400\u001b[0m         {\n\u001b[1;32m    401\u001b[0m             k: v\n\u001b[0;32m   (...)\u001b[0m\n\u001b[1;32m    404\u001b[0m         }\n\u001b[1;32m    405\u001b[0m     )\n\u001b[1;32m    406\u001b[0m     kwds \u001b[38;5;241m=\u001b[39m {\n\u001b[1;32m    407\u001b[0m         k: v \u001b[38;5;28;01mfor\u001b[39;00m k, v \u001b[38;5;129;01min\u001b[39;00m kwds\u001b[38;5;241m.\u001b[39mitems() \u001b[38;5;28;01mif\u001b[39;00m k \u001b[38;5;129;01mnot\u001b[39;00m \u001b[38;5;129;01min\u001b[39;00m \u001b[38;5;28mlist\u001b[39m(ignore) \u001b[38;5;241m+\u001b[39m [\u001b[38;5;124m\"\u001b[39m\u001b[38;5;124mshorthand\u001b[39m\u001b[38;5;124m\"\u001b[39m]\n\u001b[1;32m    408\u001b[0m     }\n\u001b[0;32m--> 409\u001b[0m     result \u001b[38;5;241m=\u001b[39m \u001b[43m_todict\u001b[49m\u001b[43m(\u001b[49m\n\u001b[1;32m    410\u001b[0m \u001b[43m        \u001b[49m\u001b[43mkwds\u001b[49m\u001b[43m,\u001b[49m\n\u001b[1;32m    411\u001b[0m \u001b[43m        \u001b[49m\u001b[43mcontext\u001b[49m\u001b[38;5;241;43m=\u001b[39;49m\u001b[43mcontext\u001b[49m\u001b[43m,\u001b[49m\n\u001b[1;32m    412\u001b[0m \u001b[43m    \u001b[49m\u001b[43m)\u001b[49m\n\u001b[1;32m    413\u001b[0m \u001b[38;5;28;01melse\u001b[39;00m:\n\u001b[1;32m    414\u001b[0m     \u001b[38;5;28;01mraise\u001b[39;00m \u001b[38;5;167;01mValueError\u001b[39;00m(\n\u001b[1;32m    415\u001b[0m         \u001b[38;5;124m\"\u001b[39m\u001b[38;5;132;01m{}\u001b[39;00m\u001b[38;5;124m instance has both a value and properties : \u001b[39m\u001b[38;5;124m\"\u001b[39m\n\u001b[1;32m    416\u001b[0m         \u001b[38;5;124m\"\u001b[39m\u001b[38;5;124mcannot serialize to dict\u001b[39m\u001b[38;5;124m\"\u001b[39m\u001b[38;5;241m.\u001b[39mformat(\u001b[38;5;28mself\u001b[39m\u001b[38;5;241m.\u001b[39m\u001b[38;5;18m__class__\u001b[39m)\n\u001b[1;32m    417\u001b[0m     )\n",
      "File \u001b[0;32m~/development/altair/altair/utils/schemapi.py:133\u001b[0m, in \u001b[0;36m_todict\u001b[0;34m(obj, context)\u001b[0m\n\u001b[1;32m    131\u001b[0m     \u001b[38;5;28;01mreturn\u001b[39;00m [_todict(v, context) \u001b[38;5;28;01mfor\u001b[39;00m v \u001b[38;5;129;01min\u001b[39;00m obj]\n\u001b[1;32m    132\u001b[0m \u001b[38;5;28;01melif\u001b[39;00m \u001b[38;5;28misinstance\u001b[39m(obj, \u001b[38;5;28mdict\u001b[39m):\n\u001b[0;32m--> 133\u001b[0m     \u001b[38;5;28;01mreturn\u001b[39;00m {k: _todict(v, context) \u001b[38;5;28;01mfor\u001b[39;00m k, v \u001b[38;5;129;01min\u001b[39;00m obj\u001b[38;5;241m.\u001b[39mitems() \u001b[38;5;28;01mif\u001b[39;00m v \u001b[38;5;129;01mis\u001b[39;00m \u001b[38;5;129;01mnot\u001b[39;00m Undefined}\n\u001b[1;32m    134\u001b[0m \u001b[38;5;28;01melif\u001b[39;00m \u001b[38;5;28mhasattr\u001b[39m(obj, \u001b[38;5;124m\"\u001b[39m\u001b[38;5;124mto_dict\u001b[39m\u001b[38;5;124m\"\u001b[39m):\n\u001b[1;32m    135\u001b[0m     \u001b[38;5;28;01mreturn\u001b[39;00m obj\u001b[38;5;241m.\u001b[39mto_dict()\n",
      "File \u001b[0;32m~/development/altair/altair/utils/schemapi.py:133\u001b[0m, in \u001b[0;36m<dictcomp>\u001b[0;34m(.0)\u001b[0m\n\u001b[1;32m    131\u001b[0m     \u001b[38;5;28;01mreturn\u001b[39;00m [_todict(v, context) \u001b[38;5;28;01mfor\u001b[39;00m v \u001b[38;5;129;01min\u001b[39;00m obj]\n\u001b[1;32m    132\u001b[0m \u001b[38;5;28;01melif\u001b[39;00m \u001b[38;5;28misinstance\u001b[39m(obj, \u001b[38;5;28mdict\u001b[39m):\n\u001b[0;32m--> 133\u001b[0m     \u001b[38;5;28;01mreturn\u001b[39;00m {k: \u001b[43m_todict\u001b[49m\u001b[43m(\u001b[49m\u001b[43mv\u001b[49m\u001b[43m,\u001b[49m\u001b[43m \u001b[49m\u001b[43mcontext\u001b[49m\u001b[43m)\u001b[49m \u001b[38;5;28;01mfor\u001b[39;00m k, v \u001b[38;5;129;01min\u001b[39;00m obj\u001b[38;5;241m.\u001b[39mitems() \u001b[38;5;28;01mif\u001b[39;00m v \u001b[38;5;129;01mis\u001b[39;00m \u001b[38;5;129;01mnot\u001b[39;00m Undefined}\n\u001b[1;32m    134\u001b[0m \u001b[38;5;28;01melif\u001b[39;00m \u001b[38;5;28mhasattr\u001b[39m(obj, \u001b[38;5;124m\"\u001b[39m\u001b[38;5;124mto_dict\u001b[39m\u001b[38;5;124m\"\u001b[39m):\n\u001b[1;32m    135\u001b[0m     \u001b[38;5;28;01mreturn\u001b[39;00m obj\u001b[38;5;241m.\u001b[39mto_dict()\n",
      "File \u001b[0;32m~/development/altair/altair/utils/schemapi.py:129\u001b[0m, in \u001b[0;36m_todict\u001b[0;34m(obj, context)\u001b[0m\n\u001b[1;32m    127\u001b[0m \u001b[38;5;124;03m\"\"\"Convert an object to a dict representation.\"\"\"\u001b[39;00m\n\u001b[1;32m    128\u001b[0m \u001b[38;5;28;01mif\u001b[39;00m \u001b[38;5;28misinstance\u001b[39m(obj, SchemaBase):\n\u001b[0;32m--> 129\u001b[0m     \u001b[38;5;28;01mreturn\u001b[39;00m \u001b[43mobj\u001b[49m\u001b[38;5;241;43m.\u001b[39;49m\u001b[43mto_dict\u001b[49m\u001b[43m(\u001b[49m\u001b[43mvalidate\u001b[49m\u001b[38;5;241;43m=\u001b[39;49m\u001b[38;5;28;43;01mFalse\u001b[39;49;00m\u001b[43m,\u001b[49m\u001b[43m \u001b[49m\u001b[43mcontext\u001b[49m\u001b[38;5;241;43m=\u001b[39;49m\u001b[43mcontext\u001b[49m\u001b[43m)\u001b[49m\n\u001b[1;32m    130\u001b[0m \u001b[38;5;28;01melif\u001b[39;00m \u001b[38;5;28misinstance\u001b[39m(obj, (\u001b[38;5;28mlist\u001b[39m, \u001b[38;5;28mtuple\u001b[39m, np\u001b[38;5;241m.\u001b[39mndarray)):\n\u001b[1;32m    131\u001b[0m     \u001b[38;5;28;01mreturn\u001b[39;00m [_todict(v, context) \u001b[38;5;28;01mfor\u001b[39;00m v \u001b[38;5;129;01min\u001b[39;00m obj]\n",
      "File \u001b[0;32m~/development/altair/altair/utils/schemapi.py:409\u001b[0m, in \u001b[0;36mSchemaBase.to_dict\u001b[0;34m(self, validate, ignore, context)\u001b[0m\n\u001b[1;32m    399\u001b[0m     kwds\u001b[38;5;241m.\u001b[39mupdate(\n\u001b[1;32m    400\u001b[0m         {\n\u001b[1;32m    401\u001b[0m             k: v\n\u001b[0;32m   (...)\u001b[0m\n\u001b[1;32m    404\u001b[0m         }\n\u001b[1;32m    405\u001b[0m     )\n\u001b[1;32m    406\u001b[0m     kwds \u001b[38;5;241m=\u001b[39m {\n\u001b[1;32m    407\u001b[0m         k: v \u001b[38;5;28;01mfor\u001b[39;00m k, v \u001b[38;5;129;01min\u001b[39;00m kwds\u001b[38;5;241m.\u001b[39mitems() \u001b[38;5;28;01mif\u001b[39;00m k \u001b[38;5;129;01mnot\u001b[39;00m \u001b[38;5;129;01min\u001b[39;00m \u001b[38;5;28mlist\u001b[39m(ignore) \u001b[38;5;241m+\u001b[39m [\u001b[38;5;124m\"\u001b[39m\u001b[38;5;124mshorthand\u001b[39m\u001b[38;5;124m\"\u001b[39m]\n\u001b[1;32m    408\u001b[0m     }\n\u001b[0;32m--> 409\u001b[0m     result \u001b[38;5;241m=\u001b[39m \u001b[43m_todict\u001b[49m\u001b[43m(\u001b[49m\n\u001b[1;32m    410\u001b[0m \u001b[43m        \u001b[49m\u001b[43mkwds\u001b[49m\u001b[43m,\u001b[49m\n\u001b[1;32m    411\u001b[0m \u001b[43m        \u001b[49m\u001b[43mcontext\u001b[49m\u001b[38;5;241;43m=\u001b[39;49m\u001b[43mcontext\u001b[49m\u001b[43m,\u001b[49m\n\u001b[1;32m    412\u001b[0m \u001b[43m    \u001b[49m\u001b[43m)\u001b[49m\n\u001b[1;32m    413\u001b[0m \u001b[38;5;28;01melse\u001b[39;00m:\n\u001b[1;32m    414\u001b[0m     \u001b[38;5;28;01mraise\u001b[39;00m \u001b[38;5;167;01mValueError\u001b[39;00m(\n\u001b[1;32m    415\u001b[0m         \u001b[38;5;124m\"\u001b[39m\u001b[38;5;132;01m{}\u001b[39;00m\u001b[38;5;124m instance has both a value and properties : \u001b[39m\u001b[38;5;124m\"\u001b[39m\n\u001b[1;32m    416\u001b[0m         \u001b[38;5;124m\"\u001b[39m\u001b[38;5;124mcannot serialize to dict\u001b[39m\u001b[38;5;124m\"\u001b[39m\u001b[38;5;241m.\u001b[39mformat(\u001b[38;5;28mself\u001b[39m\u001b[38;5;241m.\u001b[39m\u001b[38;5;18m__class__\u001b[39m)\n\u001b[1;32m    417\u001b[0m     )\n",
      "File \u001b[0;32m~/development/altair/altair/utils/schemapi.py:133\u001b[0m, in \u001b[0;36m_todict\u001b[0;34m(obj, context)\u001b[0m\n\u001b[1;32m    131\u001b[0m     \u001b[38;5;28;01mreturn\u001b[39;00m [_todict(v, context) \u001b[38;5;28;01mfor\u001b[39;00m v \u001b[38;5;129;01min\u001b[39;00m obj]\n\u001b[1;32m    132\u001b[0m \u001b[38;5;28;01melif\u001b[39;00m \u001b[38;5;28misinstance\u001b[39m(obj, \u001b[38;5;28mdict\u001b[39m):\n\u001b[0;32m--> 133\u001b[0m     \u001b[38;5;28;01mreturn\u001b[39;00m {k: _todict(v, context) \u001b[38;5;28;01mfor\u001b[39;00m k, v \u001b[38;5;129;01min\u001b[39;00m obj\u001b[38;5;241m.\u001b[39mitems() \u001b[38;5;28;01mif\u001b[39;00m v \u001b[38;5;129;01mis\u001b[39;00m \u001b[38;5;129;01mnot\u001b[39;00m Undefined}\n\u001b[1;32m    134\u001b[0m \u001b[38;5;28;01melif\u001b[39;00m \u001b[38;5;28mhasattr\u001b[39m(obj, \u001b[38;5;124m\"\u001b[39m\u001b[38;5;124mto_dict\u001b[39m\u001b[38;5;124m\"\u001b[39m):\n\u001b[1;32m    135\u001b[0m     \u001b[38;5;28;01mreturn\u001b[39;00m obj\u001b[38;5;241m.\u001b[39mto_dict()\n",
      "File \u001b[0;32m~/development/altair/altair/utils/schemapi.py:133\u001b[0m, in \u001b[0;36m<dictcomp>\u001b[0;34m(.0)\u001b[0m\n\u001b[1;32m    131\u001b[0m     \u001b[38;5;28;01mreturn\u001b[39;00m [_todict(v, context) \u001b[38;5;28;01mfor\u001b[39;00m v \u001b[38;5;129;01min\u001b[39;00m obj]\n\u001b[1;32m    132\u001b[0m \u001b[38;5;28;01melif\u001b[39;00m \u001b[38;5;28misinstance\u001b[39m(obj, \u001b[38;5;28mdict\u001b[39m):\n\u001b[0;32m--> 133\u001b[0m     \u001b[38;5;28;01mreturn\u001b[39;00m {k: \u001b[43m_todict\u001b[49m\u001b[43m(\u001b[49m\u001b[43mv\u001b[49m\u001b[43m,\u001b[49m\u001b[43m \u001b[49m\u001b[43mcontext\u001b[49m\u001b[43m)\u001b[49m \u001b[38;5;28;01mfor\u001b[39;00m k, v \u001b[38;5;129;01min\u001b[39;00m obj\u001b[38;5;241m.\u001b[39mitems() \u001b[38;5;28;01mif\u001b[39;00m v \u001b[38;5;129;01mis\u001b[39;00m \u001b[38;5;129;01mnot\u001b[39;00m Undefined}\n\u001b[1;32m    134\u001b[0m \u001b[38;5;28;01melif\u001b[39;00m \u001b[38;5;28mhasattr\u001b[39m(obj, \u001b[38;5;124m\"\u001b[39m\u001b[38;5;124mto_dict\u001b[39m\u001b[38;5;124m\"\u001b[39m):\n\u001b[1;32m    135\u001b[0m     \u001b[38;5;28;01mreturn\u001b[39;00m obj\u001b[38;5;241m.\u001b[39mto_dict()\n",
      "File \u001b[0;32m~/development/altair/altair/utils/schemapi.py:129\u001b[0m, in \u001b[0;36m_todict\u001b[0;34m(obj, context)\u001b[0m\n\u001b[1;32m    127\u001b[0m \u001b[38;5;124;03m\"\"\"Convert an object to a dict representation.\"\"\"\u001b[39;00m\n\u001b[1;32m    128\u001b[0m \u001b[38;5;28;01mif\u001b[39;00m \u001b[38;5;28misinstance\u001b[39m(obj, SchemaBase):\n\u001b[0;32m--> 129\u001b[0m     \u001b[38;5;28;01mreturn\u001b[39;00m \u001b[43mobj\u001b[49m\u001b[38;5;241;43m.\u001b[39;49m\u001b[43mto_dict\u001b[49m\u001b[43m(\u001b[49m\u001b[43mvalidate\u001b[49m\u001b[38;5;241;43m=\u001b[39;49m\u001b[38;5;28;43;01mFalse\u001b[39;49;00m\u001b[43m,\u001b[49m\u001b[43m \u001b[49m\u001b[43mcontext\u001b[49m\u001b[38;5;241;43m=\u001b[39;49m\u001b[43mcontext\u001b[49m\u001b[43m)\u001b[49m\n\u001b[1;32m    130\u001b[0m \u001b[38;5;28;01melif\u001b[39;00m \u001b[38;5;28misinstance\u001b[39m(obj, (\u001b[38;5;28mlist\u001b[39m, \u001b[38;5;28mtuple\u001b[39m, np\u001b[38;5;241m.\u001b[39mndarray)):\n\u001b[1;32m    131\u001b[0m     \u001b[38;5;28;01mreturn\u001b[39;00m [_todict(v, context) \u001b[38;5;28;01mfor\u001b[39;00m v \u001b[38;5;129;01min\u001b[39;00m obj]\n",
      "File \u001b[0;32m~/development/altair/altair/vegalite/v5/schema/channels.py:41\u001b[0m, in \u001b[0;36mFieldChannelMixin.to_dict\u001b[0;34m(self, validate, ignore, context)\u001b[0m\n\u001b[1;32m     39\u001b[0m \u001b[38;5;28;01melif\u001b[39;00m \u001b[38;5;129;01mnot\u001b[39;00m (type_in_shorthand \u001b[38;5;129;01mor\u001b[39;00m type_defined_explicitly):\n\u001b[1;32m     40\u001b[0m     \u001b[38;5;28;01mif\u001b[39;00m \u001b[38;5;28misinstance\u001b[39m(context\u001b[38;5;241m.\u001b[39mget(\u001b[38;5;124m'\u001b[39m\u001b[38;5;124mdata\u001b[39m\u001b[38;5;124m'\u001b[39m, \u001b[38;5;28;01mNone\u001b[39;00m), pd\u001b[38;5;241m.\u001b[39mDataFrame):\n\u001b[0;32m---> 41\u001b[0m         \u001b[38;5;28;01mraise\u001b[39;00m \u001b[38;5;167;01mValueError\u001b[39;00m(\u001b[38;5;124m\"\u001b[39m\u001b[38;5;132;01m{}\u001b[39;00m\u001b[38;5;124m encoding field is specified without a type; \u001b[39m\u001b[38;5;124m\"\u001b[39m\n\u001b[1;32m     42\u001b[0m                          \u001b[38;5;124m\"\u001b[39m\u001b[38;5;124mthe type cannot be inferred because it does not \u001b[39m\u001b[38;5;124m\"\u001b[39m\n\u001b[1;32m     43\u001b[0m                          \u001b[38;5;124m\"\u001b[39m\u001b[38;5;124mmatch any column in the data.\u001b[39m\u001b[38;5;124m\"\u001b[39m\u001b[38;5;241m.\u001b[39mformat(shorthand))\n\u001b[1;32m     44\u001b[0m     \u001b[38;5;28;01melse\u001b[39;00m:\n\u001b[1;32m     45\u001b[0m         \u001b[38;5;28;01mraise\u001b[39;00m \u001b[38;5;167;01mValueError\u001b[39;00m(\u001b[38;5;124m\"\u001b[39m\u001b[38;5;132;01m{}\u001b[39;00m\u001b[38;5;124m encoding field is specified without a type; \u001b[39m\u001b[38;5;124m\"\u001b[39m\n\u001b[1;32m     46\u001b[0m                          \u001b[38;5;124m\"\u001b[39m\u001b[38;5;124mthe type cannot be automatically inferred because \u001b[39m\u001b[38;5;124m\"\u001b[39m\n\u001b[1;32m     47\u001b[0m                          \u001b[38;5;124m\"\u001b[39m\u001b[38;5;124mthe data is not specified as a pandas.DataFrame.\u001b[39m\u001b[38;5;124m\"\u001b[39m\n\u001b[1;32m     48\u001b[0m                          \u001b[38;5;124m\"\u001b[39m\u001b[38;5;124m\"\u001b[39m\u001b[38;5;241m.\u001b[39mformat(shorthand))\n",
      "\u001b[0;31mValueError\u001b[0m: median encoding field is specified without a type; the type cannot be inferred because it does not match any column in the data."
     ]
    },
    {
     "data": {
      "text/plain": [
       "alt.VConcatChart(...)"
      ]
     },
     "execution_count": null,
     "metadata": {},
     "output_type": "execute_result"
    }
   ],
   "source": [
    "plot_gap_len(gap_len, hai, hai_era)"
   ]
  },
  {
   "cell_type": "markdown",
   "id": "bc79b2fc-6c1e-4eee-854d-051a3982e9c9",
   "metadata": {},
   "source": [
    "we actually don't care of different methods"
   ]
  },
  {
   "cell_type": "code",
   "execution_count": null,
   "id": "3095e040-82dc-4fed-a9ee-655ea863c473",
   "metadata": {},
   "outputs": [
    {
     "data": {
      "text/html": [
       "\n",
       "<div id=\"altair-viz-73fc15ac5977498097514710712bf92d\"></div>\n",
       "<script type=\"text/javascript\">\n",
       "  var VEGA_DEBUG = (typeof VEGA_DEBUG == \"undefined\") ? {} : VEGA_DEBUG;\n",
       "  (function(spec, embedOpt){\n",
       "    let outputDiv = document.currentScript.previousElementSibling;\n",
       "    if (outputDiv.id !== \"altair-viz-73fc15ac5977498097514710712bf92d\") {\n",
       "      outputDiv = document.getElementById(\"altair-viz-73fc15ac5977498097514710712bf92d\");\n",
       "    }\n",
       "    const paths = {\n",
       "      \"vega\": \"https://cdn.jsdelivr.net/npm/vega@5?noext\",\n",
       "      \"vega-lib\": \"https://cdn.jsdelivr.net/npm/vega-lib?noext\",\n",
       "      \"vega-lite\": \"https://cdn.jsdelivr.net/npm/vega-lite@5.2.0?noext\",\n",
       "      \"vega-embed\": \"https://cdn.jsdelivr.net/npm/vega-embed@6?noext\",\n",
       "    };\n",
       "\n",
       "    function maybeLoadScript(lib, version) {\n",
       "      var key = `${lib.replace(\"-\", \"\")}_version`;\n",
       "      return (VEGA_DEBUG[key] == version) ?\n",
       "        Promise.resolve(paths[lib]) :\n",
       "        new Promise(function(resolve, reject) {\n",
       "          var s = document.createElement('script');\n",
       "          document.getElementsByTagName(\"head\")[0].appendChild(s);\n",
       "          s.async = true;\n",
       "          s.onload = () => {\n",
       "            VEGA_DEBUG[key] = version;\n",
       "            return resolve(paths[lib]);\n",
       "          };\n",
       "          s.onerror = () => reject(`Error loading script: ${paths[lib]}`);\n",
       "          s.src = paths[lib];\n",
       "        });\n",
       "    }\n",
       "\n",
       "    function showError(err) {\n",
       "      outputDiv.innerHTML = `<div class=\"error\" style=\"color:red;\">${err}</div>`;\n",
       "      throw err;\n",
       "    }\n",
       "\n",
       "    function displayChart(vegaEmbed) {\n",
       "      vegaEmbed(outputDiv, spec, embedOpt)\n",
       "        .catch(err => showError(`Javascript Error: ${err.message}<br>This usually means there's a typo in your chart specification. See the javascript console for the full traceback.`));\n",
       "    }\n",
       "\n",
       "    if(typeof define === \"function\" && define.amd) {\n",
       "      requirejs.config({paths});\n",
       "      require([\"vega-embed\"], displayChart, err => showError(`Error loading script: ${err.message}`));\n",
       "    } else {\n",
       "      maybeLoadScript(\"vega\", \"5\")\n",
       "        .then(() => maybeLoadScript(\"vega-lite\", \"5.2.0\"))\n",
       "        .then(() => maybeLoadScript(\"vega-embed\", \"6\"))\n",
       "        .catch(showError)\n",
       "        .then(() => displayChart(vegaEmbed));\n",
       "    }\n",
       "  })({\"config\": {\"view\": {\"continuousWidth\": 300, \"continuousHeight\": 300}}, \"data\": {\"name\": \"data-3e79937d693199519bb3989173166804\"}, \"facet\": {\"column\": {\"field\": \"method\", \"type\": \"nominal\"}, \"row\": {\"field\": \"var\", \"type\": \"nominal\"}}, \"spec\": {\"layer\": [{\"mark\": \"line\", \"encoding\": {\"color\": {\"field\": \"var\", \"scale\": {\"domain\": [\"TA\", \"SW_IN\", \"LW_IN\", \"VPD\", \"WS\", \"PA\", \"SWC\", \"TS\", \"P\"], \"range\": [\"#1B9E77\", \"#D95F02\", \"#7570B3\", \"#E7298A\", \"#66A61E\", \"#E6AB02\", \"#A6761D\", \"#666666\"]}, \"type\": \"nominal\"}, \"x\": {\"axis\": {\"labelAngle\": 0}, \"field\": \"gap_len\", \"title\": \"gap_len [h]\", \"type\": \"quantitative\"}, \"y\": {\"field\": \"median\", \"title\": \"\", \"type\": \"quantitative\"}}}, {\"mark\": \"errorband\", \"encoding\": {\"color\": {\"field\": \"var\", \"type\": \"nominal\"}, \"x\": {\"field\": \"gap_len\", \"type\": \"quantitative\"}, \"y\": {\"field\": \"Q1\", \"title\": \"\", \"type\": \"quantitative\"}, \"y2\": {\"field\": \"Q3\"}}}, {\"mark\": {\"type\": \"rule\", \"strokeDash\": [2, 4]}, \"encoding\": {\"y\": {\"datum\": 2.0213771447538154}}}], \"height\": 150, \"width\": 200}, \"resolve\": {\"scale\": {\"y\": \"independent\"}}, \"$schema\": \"https://vega.github.io/schema/vega-lite/v5.2.0.json\", \"datasets\": {\"data-3e79937d693199519bb3989173166804\": [{\"var\": \"VPD\", \"gap_len\": 22, \"method\": \"MDS\", \"median\": 0.7364909241812936, \"Q1\": 0.6531645602744988, \"Q3\": 0.8704569263929876, \"min\": 0.4269233536623631, \"max\": 2.8840375431562766, \"era_rmse\": 2.0213771447538154}, {\"var\": \"VPD\", \"gap_len\": 10, \"method\": \"KalmanFilter\", \"median\": 0.3605661614639632, \"Q1\": 0.35136619972907635, \"Q3\": 0.46395317947519515, \"min\": 0.23891963838031047, \"max\": 0.6037027150064932, \"era_rmse\": 2.0213771447538154}, {\"var\": \"VPD\", \"gap_len\": 14, \"method\": \"KalmanFilter\", \"median\": 0.5989348637219304, \"Q1\": 0.4974370905305588, \"Q3\": 0.6396483574456444, \"min\": 0.1741143220417429, \"max\": 0.7561332312011135, \"era_rmse\": 2.0213771447538154}, {\"var\": \"VPD\", \"gap_len\": 26, \"method\": \"MDS\", \"median\": 1.6652676895217595, \"Q1\": 1.4118046963772772, \"Q3\": 3.5168436800820255, \"min\": 0.2889748094996143, \"max\": 4.163432024859298, \"era_rmse\": 2.0213771447538154}, {\"var\": \"VPD\", \"gap_len\": 14, \"method\": \"ERA\", \"median\": 0.5344805221628086, \"Q1\": 0.42910255184512713, \"Q3\": 1.6027728873959117, \"min\": 0.42127781807258735, \"max\": 2.0552305744820245, \"era_rmse\": 2.0213771447538154}, {\"var\": \"VPD\", \"gap_len\": 10, \"method\": \"ERA\", \"median\": 0.4741866721028756, \"Q1\": 0.278025358555654, \"Q3\": 1.9470279145405183, \"min\": 0.0, \"max\": 2.695353947072629, \"era_rmse\": 2.0213771447538154}, {\"var\": \"VPD\", \"gap_len\": 6, \"method\": \"KalmanFilter\", \"median\": 0.42878041927386534, \"Q1\": 0.25940467647244375, \"Q3\": 0.5525450786158211, \"min\": 0.1359355072347983, \"max\": 0.6294939419450126, \"era_rmse\": 2.0213771447538154}, {\"var\": \"VPD\", \"gap_len\": 2, \"method\": \"MDS\", \"median\": 1.1393854307899365, \"Q1\": 0.7472213197792535, \"Q3\": 1.3657808888095249, \"min\": 0.5398347133440518, \"max\": 1.5736705493911207, \"era_rmse\": 2.0213771447538154}, {\"var\": \"VPD\", \"gap_len\": 18, \"method\": \"MDS\", \"median\": 3.4977834683171127, \"Q1\": 2.0818117616288543, \"Q3\": 4.507851317191385, \"min\": 1.8403246060370253, \"max\": 5.208939043826832, \"era_rmse\": 2.0213771447538154}, {\"var\": \"VPD\", \"gap_len\": 2, \"method\": \"KalmanFilter\", \"median\": 0.12290399691893641, \"Q1\": 0.12103198074144896, \"Q3\": 0.25881270973549364, \"min\": 0.08189984655453901, \"max\": 0.36648715046172, \"era_rmse\": 2.0213771447538154}, {\"var\": \"VPD\", \"gap_len\": 6, \"method\": \"MDS\", \"median\": 1.186525020121122, \"Q1\": 0.42953858914076304, \"Q3\": 4.500579155770977, \"min\": 0.08602796277986377, \"max\": 9.349075064848995, \"era_rmse\": 2.0213771447538154}, {\"var\": \"VPD\", \"gap_len\": 18, \"method\": \"KalmanFilter\", \"median\": 1.2729181205749251, \"Q1\": 0.4615642436161817, \"Q3\": 1.2858047791512703, \"min\": 0.37659925548446826, \"max\": 1.370339444032966, \"era_rmse\": 2.0213771447538154}, {\"var\": \"VPD\", \"gap_len\": 22, \"method\": \"ERA\", \"median\": 0.39300242886133546, \"Q1\": 0.3273686412482529, \"Q3\": 0.4916517152323473, \"min\": 0.24738183588790982, \"max\": 0.6214973853525049, \"era_rmse\": 2.0213771447538154}, {\"var\": \"VPD\", \"gap_len\": 26, \"method\": \"ERA\", \"median\": 0.5747599498921268, \"Q1\": 0.5628745932197576, \"Q3\": 1.1717935628113656, \"min\": 0.3632710367671034, \"max\": 1.638260381295683, \"era_rmse\": 2.0213771447538154}, {\"var\": \"VPD\", \"gap_len\": 26, \"method\": \"KalmanFilter\", \"median\": 0.6891155781736783, \"Q1\": 0.40355494985861373, \"Q3\": 0.747372292492185, \"min\": 0.3578558644499335, \"max\": 0.7552564943103787, \"era_rmse\": 2.0213771447538154}, {\"var\": \"VPD\", \"gap_len\": 14, \"method\": \"MDS\", \"median\": 1.0659684951815511, \"Q1\": 0.7055164290235848, \"Q3\": 1.3834101113466666, \"min\": 0.33770685514072807, \"max\": 3.2759150939987065, \"era_rmse\": 2.0213771447538154}, {\"var\": \"VPD\", \"gap_len\": 22, \"method\": \"KalmanFilter\", \"median\": 0.40850307196296454, \"Q1\": 0.31315145906517605, \"Q3\": 0.46334184032259135, \"min\": 0.22236475773067021, \"max\": 0.8185222889851576, \"era_rmse\": 2.0213771447538154}, {\"var\": \"VPD\", \"gap_len\": 10, \"method\": \"MDS\", \"median\": 1.6567363637127752, \"Q1\": 0.4299250761296341, \"Q3\": 2.350358755435643, \"min\": 0.04734071885495621, \"max\": 3.903995070308658, \"era_rmse\": 2.0213771447538154}, {\"var\": \"VPD\", \"gap_len\": 18, \"method\": \"ERA\", \"median\": 1.4571880455178048, \"Q1\": 1.2445275319484812, \"Q3\": 1.5447404312699269, \"min\": 1.0135333958209984, \"max\": 4.087458725581622, \"era_rmse\": 2.0213771447538154}, {\"var\": \"VPD\", \"gap_len\": 2, \"method\": \"ERA\", \"median\": 1.2070149129153294, \"Q1\": 0.5595270324121973, \"Q3\": 1.950452255247485, \"min\": 0.031384709652950406, \"max\": 4.907029447639376, \"era_rmse\": 2.0213771447538154}, {\"var\": \"VPD\", \"gap_len\": 6, \"method\": \"ERA\", \"median\": 1.0116697418953808, \"Q1\": 0.5647934725779562, \"Q3\": 1.424642879227399, \"min\": 0.5322715472388131, \"max\": 4.595073793386421, \"era_rmse\": 2.0213771447538154}, {\"var\": \"SW_IN\", \"gap_len\": 2, \"method\": \"ERA\", \"median\": 0.0, \"Q1\": 0.0, \"Q3\": 0.0, \"min\": 0.0, \"max\": 12.361634378188011, \"era_rmse\": 76.32033545126399}, {\"var\": \"SW_IN\", \"gap_len\": 26, \"method\": \"ERA\", \"median\": 64.19621378423162, \"Q1\": 45.76997638148329, \"Q3\": 74.84294226167633, \"min\": 21.267570432829995, \"max\": 131.58849123235547, \"era_rmse\": 76.32033545126399}, {\"var\": \"SW_IN\", \"gap_len\": 22, \"method\": \"ERA\", \"median\": 42.46023435735863, \"Q1\": 0.0, \"Q3\": 52.644670622097074, \"min\": 0.0, \"max\": 153.91079943147707, \"era_rmse\": 76.32033545126399}, {\"var\": \"SW_IN\", \"gap_len\": 10, \"method\": \"ERA\", \"median\": 21.30681625912234, \"Q1\": 0.9157101069661728, \"Q3\": 61.83232935770737, \"min\": 0.0, \"max\": 107.84787972973785, \"era_rmse\": 76.32033545126399}, {\"var\": \"SW_IN\", \"gap_len\": 18, \"method\": \"MDS\", \"median\": 5.595650943840907, \"Q1\": 0.0, \"Q3\": 128.15504004392943, \"min\": 0.0, \"max\": 157.28959506052942, \"era_rmse\": 76.32033545126399}, {\"var\": \"SW_IN\", \"gap_len\": 14, \"method\": \"ERA\", \"median\": 0.0, \"Q1\": 0.0, \"Q3\": 8.253610495673133, \"min\": 0.0, \"max\": 84.28448573729331, \"era_rmse\": 76.32033545126399}, {\"var\": \"SW_IN\", \"gap_len\": 6, \"method\": \"MDS\", \"median\": 9.526603251764447, \"Q1\": 0.0, \"Q3\": 185.1428202945792, \"min\": 0.0, \"max\": 313.32136438304457, \"era_rmse\": 76.32033545126399}, {\"var\": \"SW_IN\", \"gap_len\": 6, \"method\": \"KalmanFilter\", \"median\": 22.114842695507893, \"Q1\": 16.12927660367226, \"Q3\": 58.09095845016319, \"min\": 6.670707494377743, \"max\": 62.4200319457178, \"era_rmse\": 76.32033545126399}, {\"var\": \"SW_IN\", \"gap_len\": 18, \"method\": \"KalmanFilter\", \"median\": 31.454074618774648, \"Q1\": 21.643733797447247, \"Q3\": 34.49859919766036, \"min\": 14.837164492269796, \"max\": 69.02923777254661, \"era_rmse\": 76.32033545126399}, {\"var\": \"SW_IN\", \"gap_len\": 26, \"method\": \"MDS\", \"median\": 35.273075689721786, \"Q1\": 20.36580041318005, \"Q3\": 119.58139008302992, \"min\": 13.386830127469654, \"max\": 221.87387940134087, \"era_rmse\": 76.32033545126399}, {\"var\": \"SW_IN\", \"gap_len\": 2, \"method\": \"MDS\", \"median\": 4.579968461803106, \"Q1\": 0.0, \"Q3\": 18.13302588587404, \"min\": 0.0, \"max\": 25.813305892719576, \"era_rmse\": 76.32033545126399}, {\"var\": \"SW_IN\", \"gap_len\": 22, \"method\": \"MDS\", \"median\": 35.64888354719587, \"Q1\": 4.645037175376651, \"Q3\": 60.719796726577606, \"min\": 1.0552593987131798, \"max\": 147.63684011449465, \"era_rmse\": 76.32033545126399}, {\"var\": \"SW_IN\", \"gap_len\": 10, \"method\": \"MDS\", \"median\": 18.404955960486244, \"Q1\": 5.410294064661893, \"Q3\": 70.80075896079057, \"min\": 0.0, \"max\": 165.86506629652186, \"era_rmse\": 76.32033545126399}, {\"var\": \"SW_IN\", \"gap_len\": 10, \"method\": \"KalmanFilter\", \"median\": 40.49848532315204, \"Q1\": 18.73688822775988, \"Q3\": 74.3515057514631, \"min\": 8.615819800200308, \"max\": 88.80409272117284, \"era_rmse\": 76.32033545126399}, {\"var\": \"SW_IN\", \"gap_len\": 2, \"method\": \"KalmanFilter\", \"median\": 7.388243066122261, \"Q1\": 4.447138308763487, \"Q3\": 7.92672620005313, \"min\": 4.0286246763603994, \"max\": 18.03763045579744, \"era_rmse\": 76.32033545126399}, {\"var\": \"SW_IN\", \"gap_len\": 26, \"method\": \"KalmanFilter\", \"median\": 40.10247526138136, \"Q1\": 38.45375541586152, \"Q3\": 48.8113959815118, \"min\": 22.114619148773254, \"max\": 89.02236493471096, \"era_rmse\": 76.32033545126399}, {\"var\": \"SW_IN\", \"gap_len\": 22, \"method\": \"KalmanFilter\", \"median\": 36.86766878598706, \"Q1\": 33.539661404425594, \"Q3\": 39.70374220742256, \"min\": 24.932832865127057, \"max\": 131.6906200706711, \"era_rmse\": 76.32033545126399}, {\"var\": \"SW_IN\", \"gap_len\": 18, \"method\": \"ERA\", \"median\": 27.264476316873086, \"Q1\": 0.0, \"Q3\": 32.31752539515776, \"min\": 0.0, \"max\": 115.96314023046769, \"era_rmse\": 76.32033545126399}, {\"var\": \"SW_IN\", \"gap_len\": 14, \"method\": \"MDS\", \"median\": 0.5410703842517032, \"Q1\": 0.0, \"Q3\": 52.26411146034226, \"min\": 0.0, \"max\": 75.58556304001937, \"era_rmse\": 76.32033545126399}, {\"var\": \"SW_IN\", \"gap_len\": 6, \"method\": \"ERA\", \"median\": 0.1824869858373468, \"Q1\": 0.0, \"Q3\": 65.76345308249356, \"min\": 0.0, \"max\": 185.07142284759507, \"era_rmse\": 76.32033545126399}, {\"var\": \"SW_IN\", \"gap_len\": 14, \"method\": \"KalmanFilter\", \"median\": 18.28202697614254, \"Q1\": 17.135357047047794, \"Q3\": 35.03887303603277, \"min\": 16.594718954256525, \"max\": 61.833408888830526, \"era_rmse\": 76.32033545126399}, {\"var\": \"TA\", \"gap_len\": 18, \"method\": \"KalmanFilter\", \"median\": 0.7892692799387534, \"Q1\": 0.7694960591813025, \"Q3\": 1.0142957738540772, \"min\": 0.5899143919884873, \"max\": 1.858187490178607, \"era_rmse\": 1.8708585984196093}, {\"var\": \"TA\", \"gap_len\": 6, \"method\": \"MDS\", \"median\": 1.4784348297436394, \"Q1\": 1.2030200948826912, \"Q3\": 2.659855998058391, \"min\": 0.45425585899267634, \"max\": 3.9193036888042823, \"era_rmse\": 1.8708585984196093}, {\"var\": \"TA\", \"gap_len\": 22, \"method\": \"KalmanFilter\", \"median\": 0.40609455540121386, \"Q1\": 0.32694332937780296, \"Q3\": 0.43710392559254363, \"min\": 0.31137162752144654, \"max\": 1.2928167651580846, \"era_rmse\": 1.8708585984196093}, {\"var\": \"TA\", \"gap_len\": 26, \"method\": \"KalmanFilter\", \"median\": 0.33690196567190084, \"Q1\": 0.33417968196446857, \"Q3\": 0.8502822431395163, \"min\": 0.3310707608222629, \"max\": 0.8553908535145169, \"era_rmse\": 1.8708585984196093}, {\"var\": \"TA\", \"gap_len\": 22, \"method\": \"MDS\", \"median\": 1.9591780059590524, \"Q1\": 1.7085379115401504, \"Q3\": 2.729915541007495, \"min\": 1.5000233539608567, \"max\": 6.550038918965228, \"era_rmse\": 1.8708585984196093}, {\"var\": \"TA\", \"gap_len\": 6, \"method\": \"KalmanFilter\", \"median\": 0.5544092640092761, \"Q1\": 0.4321611165108127, \"Q3\": 0.5993793665554448, \"min\": 0.4070976095313098, \"max\": 0.6143150802531336, \"era_rmse\": 1.8708585984196093}, {\"var\": \"TA\", \"gap_len\": 2, \"method\": \"ERA\", \"median\": 1.1272286813242478, \"Q1\": 0.5001884644811393, \"Q3\": 1.1903589794679585, \"min\": 0.4842354799062128, \"max\": 3.9334707956205803, \"era_rmse\": 1.8708585984196093}, {\"var\": \"TA\", \"gap_len\": 26, \"method\": \"MDS\", \"median\": 2.248410233429836, \"Q1\": 1.216354841994922, \"Q3\": 4.829910313073221, \"min\": 1.187838773265977, \"max\": 5.709268731368027, \"era_rmse\": 1.8708585984196093}, {\"var\": \"TA\", \"gap_len\": 18, \"method\": \"MDS\", \"median\": 1.9656731993647245, \"Q1\": 0.6776875603588415, \"Q3\": 2.278252112045248, \"min\": 0.43569497398567264, \"max\": 3.5663566393150137, \"era_rmse\": 1.8708585984196093}, {\"var\": \"TA\", \"gap_len\": 14, \"method\": \"ERA\", \"median\": 1.315567422391244, \"Q1\": 0.9636018739233397, \"Q3\": 2.088141415572368, \"min\": 0.3690604867188344, \"max\": 2.093863517178574, \"era_rmse\": 1.8708585984196093}, {\"var\": \"TA\", \"gap_len\": 10, \"method\": \"ERA\", \"median\": 1.0020153192441719, \"Q1\": 0.9573586579751605, \"Q3\": 2.579533872621176, \"min\": 0.8493437466656242, \"max\": 4.742076950029386, \"era_rmse\": 1.8708585984196093}, {\"var\": \"TA\", \"gap_len\": 6, \"method\": \"ERA\", \"median\": 0.9954016777160867, \"Q1\": 0.9729612873422387, \"Q3\": 1.1076475823413632, \"min\": 0.37736233693008303, \"max\": 1.1754862114603188, \"era_rmse\": 1.8708585984196093}, {\"var\": \"TA\", \"gap_len\": 2, \"method\": \"KalmanFilter\", \"median\": 0.1673359958759639, \"Q1\": 0.12606306889599694, \"Q3\": 0.1886831137945215, \"min\": 0.045003115202803375, \"max\": 0.5227324501653158, \"era_rmse\": 1.8708585984196093}, {\"var\": \"TA\", \"gap_len\": 22, \"method\": \"ERA\", \"median\": 1.0205632134891365, \"Q1\": 0.7101659537165815, \"Q3\": 1.1481187973059552, \"min\": 0.20299608146688236, \"max\": 1.6575730478898685, \"era_rmse\": 1.8708585984196093}, {\"var\": \"TA\", \"gap_len\": 2, \"method\": \"MDS\", \"median\": 1.8686678758884967, \"Q1\": 1.523412760309911, \"Q3\": 4.263428711517779, \"min\": 0.6114568293919607, \"max\": 8.930648206227916, \"era_rmse\": 1.8708585984196093}, {\"var\": \"TA\", \"gap_len\": 26, \"method\": \"ERA\", \"median\": 1.4376500724339112, \"Q1\": 0.5602046672697124, \"Q3\": 1.4994901569430963, \"min\": 0.5262598802288291, \"max\": 3.97848791338155, \"era_rmse\": 1.8708585984196093}, {\"var\": \"TA\", \"gap_len\": 18, \"method\": \"ERA\", \"median\": 2.353258379354039, \"Q1\": 2.0901267638324925, \"Q3\": 3.038045524858229, \"min\": 1.7848961532195022, \"max\": 6.661518991774908, \"era_rmse\": 1.8708585984196093}, {\"var\": \"TA\", \"gap_len\": 14, \"method\": \"MDS\", \"median\": 1.3680522020637007, \"Q1\": 0.7465366309432685, \"Q3\": 1.5336247709294406, \"min\": 0.7457362757985674, \"max\": 3.8304106139580067, \"era_rmse\": 1.8708585984196093}, {\"var\": \"TA\", \"gap_len\": 10, \"method\": \"MDS\", \"median\": 3.0698345919704098, \"Q1\": 2.5246630358453506, \"Q3\": 3.877640204541465, \"min\": 0.6895645982156486, \"max\": 5.116988136477713, \"era_rmse\": 1.8708585984196093}, {\"var\": \"TA\", \"gap_len\": 14, \"method\": \"KalmanFilter\", \"median\": 0.3034634378073511, \"Q1\": 0.2733425312914704, \"Q3\": 0.5061523217015034, \"min\": 0.20807946562886648, \"max\": 0.9533692973963396, \"era_rmse\": 1.8708585984196093}, {\"var\": \"TA\", \"gap_len\": 10, \"method\": \"KalmanFilter\", \"median\": 0.3181738723488461, \"Q1\": 0.1914495993388031, \"Q3\": 0.5098087165163488, \"min\": 0.15014943720841942, \"max\": 1.4308844527863829, \"era_rmse\": 1.8708585984196093}]}}, {\"mode\": \"vega-lite\"});\n",
       "</script>"
      ],
      "text/plain": [
       "alt.FacetChart(...)"
      ]
     },
     "execution_count": null,
     "metadata": {},
     "output_type": "execute_result"
    }
   ],
   "source": [
    "_plot_gap_len(gap_len_agg, y_label=\"\").facet(column='method', row='var').resolve_scale(y='independent')"
   ]
  },
  {
   "cell_type": "markdown",
   "id": "24b45a21-ac94-44f7-9bcf-a17ae6f05310",
   "metadata": {},
   "source": [
    "### Control"
   ]
  },
  {
   "cell_type": "code",
   "execution_count": null,
   "id": "44bb3102-4371-49e4-b95b-26d1197e5d21",
   "metadata": {},
   "outputs": [],
   "source": [
    "#| export\n",
    "from functools import partial\n",
    "def _plot_compare(data, y_label='rmse', compare:str=\"\", y = \"rmse_stand\", scale_domain=None):\n",
    "    domain = ifnone(scale_domain, data[compare].unique())\n",
    "    return alt.Chart(data).mark_boxplot(extent=\"min-max\").encode(\n",
    "        x = alt.X('gap_len:N', title='gap length [h]', axis=alt.Axis(labelAngle=0)),\n",
    "        y = alt.Y(y, title=y_label, scale= alt.Scale(zero=False)),\n",
    "        color=alt.Color(compare, scale=alt.Scale(domain = domain, scheme='accent')),\n",
    "        xOffset=alt.XOffset(compare, scale=alt.Scale(domain = domain)),\n",
    "        # column=alt.Column('var')\n",
    "    ).properties(width=250, height=200)"
   ]
  },
  {
   "cell_type": "code",
   "execution_count": null,
   "id": "0e407fed-a2f2-49c4-ad4d-6379c8860ba7",
   "metadata": {},
   "outputs": [],
   "source": [
    "#| export\n",
    "def plot_compare(data, compare, scale_domain=None):\n",
    "     return facet_wrap(data, partial(_plot_compare, compare=compare, scale_domain=scale_domain),\n",
    "                       \"var\", y_labels = [f\"Standardized RMSE\" for var in data['var'].unique()]\n",
    "                      ).configure_legend(orient=\"bottom\")"
   ]
  },
  {
   "cell_type": "code",
   "execution_count": null,
   "id": "42492b6f-5c93-4019-a8d2-6f4dda93d412",
   "metadata": {},
   "outputs": [],
   "source": [
    "#| export\n",
    "def plot_control(data):\n",
    "     return facet_wrap(data, partial(_plot_compare, compare='use_control'), \"var\", y_labels = [f\"RMSE {var} [{units_big[var]}]\" for var in data['var'].unique()])"
   ]
  },
  {
   "cell_type": "code",
   "execution_count": null,
   "id": "318c8ade-732d-4735-92a5-7760ee0c4f49",
   "metadata": {},
   "outputs": [
    {
     "ename": "SchemaValidationError",
     "evalue": "Invalid specification\n\n        altair.vegalite.v5.schema.core.Scale->0, validating 'type'\n\n        True is not of type 'null'\n        True is not of type 'string'\n        True is not of type 'number'\n        True is not of type 'boolean'\n        True is not of type 'object'\n        True is not of type 'object'\n        ",
     "output_type": "error",
     "traceback": [
      "\u001b[0;31m---------------------------------------------------------------------------\u001b[0m",
      "\u001b[0;31mSchemaValidationError\u001b[0m                     Traceback (most recent call last)",
      "Input \u001b[0;32mIn [146]\u001b[0m, in \u001b[0;36m<cell line: 1>\u001b[0;34m()\u001b[0m\n\u001b[0;32m----> 1\u001b[0m \u001b[43mplot_control\u001b[49m\u001b[43m(\u001b[49m\u001b[43mk_results\u001b[49m\u001b[43m)\u001b[49m\n",
      "Input \u001b[0;32mIn [145]\u001b[0m, in \u001b[0;36mplot_control\u001b[0;34m(data)\u001b[0m\n\u001b[1;32m      2\u001b[0m \u001b[38;5;28;01mdef\u001b[39;00m \u001b[38;5;21mplot_control\u001b[39m(data):\n\u001b[0;32m----> 3\u001b[0m      \u001b[38;5;28;01mreturn\u001b[39;00m \u001b[43mfacet_wrap\u001b[49m\u001b[43m(\u001b[49m\u001b[43mdata\u001b[49m\u001b[43m,\u001b[49m\u001b[43m \u001b[49m\u001b[43mpartial\u001b[49m\u001b[43m(\u001b[49m\u001b[43m_plot_compare\u001b[49m\u001b[43m,\u001b[49m\u001b[43m \u001b[49m\u001b[43mcompare\u001b[49m\u001b[38;5;241;43m=\u001b[39;49m\u001b[38;5;124;43m'\u001b[39;49m\u001b[38;5;124;43muse_control\u001b[39;49m\u001b[38;5;124;43m'\u001b[39;49m\u001b[43m)\u001b[49m\u001b[43m,\u001b[49m\u001b[43m \u001b[49m\u001b[38;5;124;43m\"\u001b[39;49m\u001b[38;5;124;43mvar\u001b[39;49m\u001b[38;5;124;43m\"\u001b[39;49m\u001b[43m,\u001b[49m\u001b[43m \u001b[49m\u001b[43my_labels\u001b[49m\u001b[43m \u001b[49m\u001b[38;5;241;43m=\u001b[39;49m\u001b[43m \u001b[49m\u001b[43m[\u001b[49m\u001b[38;5;124;43mf\u001b[39;49m\u001b[38;5;124;43m\"\u001b[39;49m\u001b[38;5;124;43mRMSE \u001b[39;49m\u001b[38;5;132;43;01m{\u001b[39;49;00m\u001b[43mvar\u001b[49m\u001b[38;5;132;43;01m}\u001b[39;49;00m\u001b[38;5;124;43m [\u001b[39;49m\u001b[38;5;132;43;01m{\u001b[39;49;00m\u001b[43munits_big\u001b[49m\u001b[43m[\u001b[49m\u001b[43mvar\u001b[49m\u001b[43m]\u001b[49m\u001b[38;5;132;43;01m}\u001b[39;49;00m\u001b[38;5;124;43m]\u001b[39;49m\u001b[38;5;124;43m\"\u001b[39;49m\u001b[43m \u001b[49m\u001b[38;5;28;43;01mfor\u001b[39;49;00m\u001b[43m \u001b[49m\u001b[43mvar\u001b[49m\u001b[43m \u001b[49m\u001b[38;5;129;43;01min\u001b[39;49;00m\u001b[43m \u001b[49m\u001b[43mdata\u001b[49m\u001b[43m[\u001b[49m\u001b[38;5;124;43m'\u001b[39;49m\u001b[38;5;124;43mvar\u001b[39;49m\u001b[38;5;124;43m'\u001b[39;49m\u001b[43m]\u001b[49m\u001b[38;5;241;43m.\u001b[39;49m\u001b[43munique\u001b[49m\u001b[43m(\u001b[49m\u001b[43m)\u001b[49m\u001b[43m]\u001b[49m\u001b[43m)\u001b[49m\n",
      "Input \u001b[0;32mIn [102]\u001b[0m, in \u001b[0;36mfacet_wrap\u001b[0;34m(data, plot_fn, col, y_labels, n_cols, y_resolve)\u001b[0m\n\u001b[1;32m     10\u001b[0m plot_list \u001b[38;5;241m=\u001b[39m [alt\u001b[38;5;241m.\u001b[39mhconcat() \u001b[38;5;28;01mfor\u001b[39;00m _ \u001b[38;5;129;01min\u001b[39;00m \u001b[38;5;28mrange\u001b[39m(\u001b[38;5;241m0\u001b[39m, \u001b[38;5;28mlen\u001b[39m(col_vals), n_cols)]\n\u001b[1;32m     11\u001b[0m \u001b[38;5;28;01mfor\u001b[39;00m i, col_v \u001b[38;5;129;01min\u001b[39;00m \u001b[38;5;28menumerate\u001b[39m(col_vals):\n\u001b[0;32m---> 12\u001b[0m     plot \u001b[38;5;241m=\u001b[39m \u001b[43mplot_fn\u001b[49m\u001b[43m(\u001b[49m\u001b[43mdata\u001b[49m\u001b[43m[\u001b[49m\u001b[43mdata\u001b[49m\u001b[43m[\u001b[49m\u001b[43mcol\u001b[49m\u001b[43m]\u001b[49m\u001b[38;5;241;43m==\u001b[39;49m\u001b[43mcol_v\u001b[49m\u001b[43m]\u001b[49m\u001b[38;5;241;43m.\u001b[39;49m\u001b[43mcopy\u001b[49m\u001b[43m(\u001b[49m\u001b[43m)\u001b[49m\u001b[43m,\u001b[49m\n\u001b[1;32m     13\u001b[0m \u001b[43m                   \u001b[49m\u001b[43my_labels\u001b[49m\u001b[43m[\u001b[49m\u001b[43mi\u001b[49m\u001b[43m]\u001b[49m\u001b[43m \u001b[49m\u001b[38;5;28;43;01mif\u001b[39;49;00m\u001b[43m \u001b[49m\u001b[43my_labels\u001b[49m\u001b[43m \u001b[49m\u001b[38;5;129;43;01mis\u001b[39;49;00m\u001b[43m \u001b[49m\u001b[38;5;129;43;01mnot\u001b[39;49;00m\u001b[43m \u001b[49m\u001b[38;5;28;43;01mNone\u001b[39;49;00m\u001b[43m \u001b[49m\u001b[38;5;28;43;01melse\u001b[39;49;00m\u001b[43m \u001b[49m\u001b[43mcol_v\u001b[49m\n\u001b[1;32m     14\u001b[0m \u001b[43m                  \u001b[49m\u001b[43m)\u001b[49m\u001b[38;5;241m.\u001b[39mproperties(title\u001b[38;5;241m=\u001b[39m\u001b[38;5;28mstr\u001b[39m(col_v))\n\u001b[1;32m     15\u001b[0m     plot_list[i \u001b[38;5;241m/\u001b[39m\u001b[38;5;241m/\u001b[39m n_cols] \u001b[38;5;241m|\u001b[39m\u001b[38;5;241m=\u001b[39m plot\n\u001b[1;32m     16\u001b[0m \u001b[38;5;28;01mreturn\u001b[39;00m alt\u001b[38;5;241m.\u001b[39mvconcat(\u001b[38;5;241m*\u001b[39mplot_list)\u001b[38;5;241m.\u001b[39mresolve_scale(xOffset\u001b[38;5;241m=\u001b[39m\u001b[38;5;124m'\u001b[39m\u001b[38;5;124mindependent\u001b[39m\u001b[38;5;124m'\u001b[39m)\n",
      "Input \u001b[0;32mIn [143]\u001b[0m, in \u001b[0;36m_plot_compare\u001b[0;34m(data, y_label, compare, y, scale_domain)\u001b[0m\n\u001b[1;32m      3\u001b[0m \u001b[38;5;28;01mdef\u001b[39;00m \u001b[38;5;21m_plot_compare\u001b[39m(data, y_label\u001b[38;5;241m=\u001b[39m\u001b[38;5;124m'\u001b[39m\u001b[38;5;124mrmse_stand\u001b[39m\u001b[38;5;124m'\u001b[39m, compare:\u001b[38;5;28mstr\u001b[39m\u001b[38;5;241m=\u001b[39m\u001b[38;5;124m\"\u001b[39m\u001b[38;5;124m\"\u001b[39m, y \u001b[38;5;241m=\u001b[39m \u001b[38;5;124m\"\u001b[39m\u001b[38;5;124mrmse\u001b[39m\u001b[38;5;124m\"\u001b[39m, scale_domain\u001b[38;5;241m=\u001b[39m\u001b[38;5;28;01mNone\u001b[39;00m):\n\u001b[1;32m      4\u001b[0m     domain \u001b[38;5;241m=\u001b[39m ifnone(scale_domain, data[compare]\u001b[38;5;241m.\u001b[39munique())\n\u001b[1;32m      5\u001b[0m     \u001b[38;5;28;01mreturn\u001b[39;00m alt\u001b[38;5;241m.\u001b[39mChart(data)\u001b[38;5;241m.\u001b[39mmark_boxplot(extent\u001b[38;5;241m=\u001b[39m\u001b[38;5;124m\"\u001b[39m\u001b[38;5;124mmin-max\u001b[39m\u001b[38;5;124m\"\u001b[39m)\u001b[38;5;241m.\u001b[39mencode(\n\u001b[1;32m      6\u001b[0m         x \u001b[38;5;241m=\u001b[39m alt\u001b[38;5;241m.\u001b[39mX(\u001b[38;5;124m'\u001b[39m\u001b[38;5;124mgap_len:N\u001b[39m\u001b[38;5;124m'\u001b[39m, title\u001b[38;5;241m=\u001b[39m\u001b[38;5;124m'\u001b[39m\u001b[38;5;124mgap_length [h]\u001b[39m\u001b[38;5;124m'\u001b[39m, axis\u001b[38;5;241m=\u001b[39malt\u001b[38;5;241m.\u001b[39mAxis(labelAngle\u001b[38;5;241m=\u001b[39m\u001b[38;5;241m0\u001b[39m)),\n\u001b[1;32m      7\u001b[0m         y \u001b[38;5;241m=\u001b[39m alt\u001b[38;5;241m.\u001b[39mY(y, title\u001b[38;5;241m=\u001b[39my_label, scale\u001b[38;5;241m=\u001b[39m alt\u001b[38;5;241m.\u001b[39mScale(zero\u001b[38;5;241m=\u001b[39m\u001b[38;5;28;01mFalse\u001b[39;00m)),\n\u001b[0;32m----> 8\u001b[0m         color\u001b[38;5;241m=\u001b[39malt\u001b[38;5;241m.\u001b[39mColor(compare, scale\u001b[38;5;241m=\u001b[39m\u001b[43malt\u001b[49m\u001b[38;5;241;43m.\u001b[39;49m\u001b[43mScale\u001b[49m\u001b[43m(\u001b[49m\u001b[43mdomain\u001b[49m\u001b[43m \u001b[49m\u001b[38;5;241;43m=\u001b[39;49m\u001b[43m \u001b[49m\u001b[43mdomain\u001b[49m\u001b[43m,\u001b[49m\u001b[43m \u001b[49m\u001b[43mscheme\u001b[49m\u001b[38;5;241;43m=\u001b[39;49m\u001b[38;5;124;43m'\u001b[39;49m\u001b[38;5;124;43maccent\u001b[39;49m\u001b[38;5;124;43m'\u001b[39;49m\u001b[43m)\u001b[49m),\n\u001b[1;32m      9\u001b[0m         xOffset\u001b[38;5;241m=\u001b[39malt\u001b[38;5;241m.\u001b[39mXOffset(compare, scale\u001b[38;5;241m=\u001b[39malt\u001b[38;5;241m.\u001b[39mScale(domain \u001b[38;5;241m=\u001b[39m domain)),\n\u001b[1;32m     10\u001b[0m         \u001b[38;5;66;03m# column=alt.Column('var')\u001b[39;00m\n\u001b[1;32m     11\u001b[0m     )\u001b[38;5;241m.\u001b[39mproperties(width\u001b[38;5;241m=\u001b[39m\u001b[38;5;241m250\u001b[39m, height\u001b[38;5;241m=\u001b[39m\u001b[38;5;241m200\u001b[39m)\n",
      "File \u001b[0;32m~/development/altair/altair/vegalite/v5/schema/core.py:13291\u001b[0m, in \u001b[0;36mScale.__init__\u001b[0;34m(self, align, base, bins, clamp, constant, domain, domainMax, domainMid, domainMin, exponent, interpolate, nice, padding, paddingInner, paddingOuter, range, rangeMax, rangeMin, reverse, round, scheme, type, zero, **kwds)\u001b[0m\n\u001b[1;32m  13285\u001b[0m \u001b[38;5;28;01mdef\u001b[39;00m \u001b[38;5;21m__init__\u001b[39m(\u001b[38;5;28mself\u001b[39m, align\u001b[38;5;241m=\u001b[39mUndefined, base\u001b[38;5;241m=\u001b[39mUndefined, bins\u001b[38;5;241m=\u001b[39mUndefined, clamp\u001b[38;5;241m=\u001b[39mUndefined,\n\u001b[1;32m  13286\u001b[0m              constant\u001b[38;5;241m=\u001b[39mUndefined, domain\u001b[38;5;241m=\u001b[39mUndefined, domainMax\u001b[38;5;241m=\u001b[39mUndefined, domainMid\u001b[38;5;241m=\u001b[39mUndefined,\n\u001b[1;32m  13287\u001b[0m              domainMin\u001b[38;5;241m=\u001b[39mUndefined, exponent\u001b[38;5;241m=\u001b[39mUndefined, interpolate\u001b[38;5;241m=\u001b[39mUndefined, nice\u001b[38;5;241m=\u001b[39mUndefined,\n\u001b[1;32m  13288\u001b[0m              padding\u001b[38;5;241m=\u001b[39mUndefined, paddingInner\u001b[38;5;241m=\u001b[39mUndefined, paddingOuter\u001b[38;5;241m=\u001b[39mUndefined, \u001b[38;5;28mrange\u001b[39m\u001b[38;5;241m=\u001b[39mUndefined,\n\u001b[1;32m  13289\u001b[0m              rangeMax\u001b[38;5;241m=\u001b[39mUndefined, rangeMin\u001b[38;5;241m=\u001b[39mUndefined, reverse\u001b[38;5;241m=\u001b[39mUndefined, \u001b[38;5;28mround\u001b[39m\u001b[38;5;241m=\u001b[39mUndefined,\n\u001b[1;32m  13290\u001b[0m              scheme\u001b[38;5;241m=\u001b[39mUndefined, \u001b[38;5;28mtype\u001b[39m\u001b[38;5;241m=\u001b[39mUndefined, zero\u001b[38;5;241m=\u001b[39mUndefined, \u001b[38;5;241m*\u001b[39m\u001b[38;5;241m*\u001b[39mkwds):\n\u001b[0;32m> 13291\u001b[0m     \u001b[38;5;28;43msuper\u001b[39;49m\u001b[43m(\u001b[49m\u001b[43mScale\u001b[49m\u001b[43m,\u001b[49m\u001b[43m \u001b[49m\u001b[38;5;28;43mself\u001b[39;49m\u001b[43m)\u001b[49m\u001b[38;5;241;43m.\u001b[39;49m\u001b[38;5;21;43m__init__\u001b[39;49m\u001b[43m(\u001b[49m\u001b[43malign\u001b[49m\u001b[38;5;241;43m=\u001b[39;49m\u001b[43malign\u001b[49m\u001b[43m,\u001b[49m\u001b[43m \u001b[49m\u001b[43mbase\u001b[49m\u001b[38;5;241;43m=\u001b[39;49m\u001b[43mbase\u001b[49m\u001b[43m,\u001b[49m\u001b[43m \u001b[49m\u001b[43mbins\u001b[49m\u001b[38;5;241;43m=\u001b[39;49m\u001b[43mbins\u001b[49m\u001b[43m,\u001b[49m\u001b[43m \u001b[49m\u001b[43mclamp\u001b[49m\u001b[38;5;241;43m=\u001b[39;49m\u001b[43mclamp\u001b[49m\u001b[43m,\u001b[49m\u001b[43m \u001b[49m\u001b[43mconstant\u001b[49m\u001b[38;5;241;43m=\u001b[39;49m\u001b[43mconstant\u001b[49m\u001b[43m,\u001b[49m\n\u001b[1;32m  13292\u001b[0m \u001b[43m                                \u001b[49m\u001b[43mdomain\u001b[49m\u001b[38;5;241;43m=\u001b[39;49m\u001b[43mdomain\u001b[49m\u001b[43m,\u001b[49m\u001b[43m \u001b[49m\u001b[43mdomainMax\u001b[49m\u001b[38;5;241;43m=\u001b[39;49m\u001b[43mdomainMax\u001b[49m\u001b[43m,\u001b[49m\u001b[43m \u001b[49m\u001b[43mdomainMid\u001b[49m\u001b[38;5;241;43m=\u001b[39;49m\u001b[43mdomainMid\u001b[49m\u001b[43m,\u001b[49m\n\u001b[1;32m  13293\u001b[0m \u001b[43m                                \u001b[49m\u001b[43mdomainMin\u001b[49m\u001b[38;5;241;43m=\u001b[39;49m\u001b[43mdomainMin\u001b[49m\u001b[43m,\u001b[49m\u001b[43m \u001b[49m\u001b[43mexponent\u001b[49m\u001b[38;5;241;43m=\u001b[39;49m\u001b[43mexponent\u001b[49m\u001b[43m,\u001b[49m\u001b[43m \u001b[49m\u001b[43minterpolate\u001b[49m\u001b[38;5;241;43m=\u001b[39;49m\u001b[43minterpolate\u001b[49m\u001b[43m,\u001b[49m\n\u001b[1;32m  13294\u001b[0m \u001b[43m                                \u001b[49m\u001b[43mnice\u001b[49m\u001b[38;5;241;43m=\u001b[39;49m\u001b[43mnice\u001b[49m\u001b[43m,\u001b[49m\u001b[43m \u001b[49m\u001b[43mpadding\u001b[49m\u001b[38;5;241;43m=\u001b[39;49m\u001b[43mpadding\u001b[49m\u001b[43m,\u001b[49m\u001b[43m \u001b[49m\u001b[43mpaddingInner\u001b[49m\u001b[38;5;241;43m=\u001b[39;49m\u001b[43mpaddingInner\u001b[49m\u001b[43m,\u001b[49m\n\u001b[1;32m  13295\u001b[0m \u001b[43m                                \u001b[49m\u001b[43mpaddingOuter\u001b[49m\u001b[38;5;241;43m=\u001b[39;49m\u001b[43mpaddingOuter\u001b[49m\u001b[43m,\u001b[49m\u001b[43m \u001b[49m\u001b[38;5;28;43mrange\u001b[39;49m\u001b[38;5;241;43m=\u001b[39;49m\u001b[38;5;28;43mrange\u001b[39;49m\u001b[43m,\u001b[49m\u001b[43m \u001b[49m\u001b[43mrangeMax\u001b[49m\u001b[38;5;241;43m=\u001b[39;49m\u001b[43mrangeMax\u001b[49m\u001b[43m,\u001b[49m\n\u001b[1;32m  13296\u001b[0m \u001b[43m                                \u001b[49m\u001b[43mrangeMin\u001b[49m\u001b[38;5;241;43m=\u001b[39;49m\u001b[43mrangeMin\u001b[49m\u001b[43m,\u001b[49m\u001b[43m \u001b[49m\u001b[43mreverse\u001b[49m\u001b[38;5;241;43m=\u001b[39;49m\u001b[43mreverse\u001b[49m\u001b[43m,\u001b[49m\u001b[43m \u001b[49m\u001b[38;5;28;43mround\u001b[39;49m\u001b[38;5;241;43m=\u001b[39;49m\u001b[38;5;28;43mround\u001b[39;49m\u001b[43m,\u001b[49m\u001b[43m \u001b[49m\u001b[43mscheme\u001b[49m\u001b[38;5;241;43m=\u001b[39;49m\u001b[43mscheme\u001b[49m\u001b[43m,\u001b[49m\n\u001b[1;32m  13297\u001b[0m \u001b[43m                                \u001b[49m\u001b[38;5;28;43mtype\u001b[39;49m\u001b[38;5;241;43m=\u001b[39;49m\u001b[38;5;28;43mtype\u001b[39;49m\u001b[43m,\u001b[49m\u001b[43m \u001b[49m\u001b[43mzero\u001b[49m\u001b[38;5;241;43m=\u001b[39;49m\u001b[43mzero\u001b[49m\u001b[43m,\u001b[49m\u001b[43m \u001b[49m\u001b[38;5;241;43m*\u001b[39;49m\u001b[38;5;241;43m*\u001b[39;49m\u001b[43mkwds\u001b[49m\u001b[43m)\u001b[49m\n",
      "File \u001b[0;32m~/development/altair/altair/utils/schemapi.py:239\u001b[0m, in \u001b[0;36mSchemaBase.__init__\u001b[0;34m(self, *args, **kwds)\u001b[0m\n\u001b[1;32m    236\u001b[0m \u001b[38;5;28mobject\u001b[39m\u001b[38;5;241m.\u001b[39m\u001b[38;5;21m__setattr__\u001b[39m(\u001b[38;5;28mself\u001b[39m, \u001b[38;5;124m\"\u001b[39m\u001b[38;5;124m_kwds\u001b[39m\u001b[38;5;124m\"\u001b[39m, kwds)\n\u001b[1;32m    238\u001b[0m \u001b[38;5;28;01mif\u001b[39;00m DEBUG_MODE \u001b[38;5;129;01mand\u001b[39;00m \u001b[38;5;28mself\u001b[39m\u001b[38;5;241m.\u001b[39m_class_is_valid_at_instantiation:\n\u001b[0;32m--> 239\u001b[0m     \u001b[38;5;28;43mself\u001b[39;49m\u001b[38;5;241;43m.\u001b[39;49m\u001b[43mto_dict\u001b[49m\u001b[43m(\u001b[49m\u001b[43mvalidate\u001b[49m\u001b[38;5;241;43m=\u001b[39;49m\u001b[38;5;28;43;01mTrue\u001b[39;49;00m\u001b[43m)\u001b[49m\n",
      "File \u001b[0;32m~/development/altair/altair/utils/schemapi.py:422\u001b[0m, in \u001b[0;36mSchemaBase.to_dict\u001b[0;34m(self, validate, ignore, context)\u001b[0m\n\u001b[1;32m    420\u001b[0m         \u001b[38;5;28mself\u001b[39m\u001b[38;5;241m.\u001b[39mvalidate(result)\n\u001b[1;32m    421\u001b[0m     \u001b[38;5;28;01mexcept\u001b[39;00m jsonschema\u001b[38;5;241m.\u001b[39mValidationError \u001b[38;5;28;01mas\u001b[39;00m err:\n\u001b[0;32m--> 422\u001b[0m         \u001b[38;5;28;01mraise\u001b[39;00m SchemaValidationError(\u001b[38;5;28mself\u001b[39m, err)\n\u001b[1;32m    423\u001b[0m \u001b[38;5;28;01mreturn\u001b[39;00m result\n",
      "\u001b[0;31mSchemaValidationError\u001b[0m: Invalid specification\n\n        altair.vegalite.v5.schema.core.Scale->0, validating 'type'\n\n        True is not of type 'null'\n        True is not of type 'string'\n        True is not of type 'number'\n        True is not of type 'boolean'\n        True is not of type 'object'\n        True is not of type 'object'\n        "
     ]
    }
   ],
   "source": [
    "plot_control(k_results)"
   ]
  },
  {
   "cell_type": "code",
   "execution_count": null,
   "id": "ad323fd5-843e-4a98-adb1-fc85d86409bb",
   "metadata": {},
   "outputs": [],
   "source": [
    "#| export\n",
    "def plot_control_loss(data):\n",
    "     return facet_wrap(data, partial(_plot_compare, compare='use_control', y='loss'), \"var\", y_labels = [f\"nll\" for var in data['var'].unique()])"
   ]
  },
  {
   "cell_type": "code",
   "execution_count": null,
   "id": "eee78266-1be8-4704-9488-790909f68f94",
   "metadata": {},
   "outputs": [],
   "source": [
    "plot_control_loss(k_results)"
   ]
  },
  {
   "cell_type": "code",
   "execution_count": null,
   "id": "ca0f42d4-d185-4883-8566-ee0f48573f66",
   "metadata": {},
   "outputs": [],
   "source": [
    "#| export\n",
    "def plot_control_lh(data):\n",
    "     return facet_wrap(data, partial(_plot_compare, compare='use_control', y='likelihood'), \"var\", y_labels = [f\"likelihood\" for var in data['var'].unique()])"
   ]
  },
  {
   "cell_type": "code",
   "execution_count": null,
   "id": "1722df58-970d-40d1-b8eb-8c83010607d8",
   "metadata": {},
   "outputs": [],
   "source": [
    "plot_control_lh(k_results)"
   ]
  },
  {
   "cell_type": "markdown",
   "id": "82b9ff52-67b0-4156-b2b8-4358ae1f3b60",
   "metadata": {},
   "source": [
    "### Gap Multiple variables"
   ]
  },
  {
   "cell_type": "code",
   "execution_count": null,
   "id": "a10acac1-5606-422c-80b2-9539f929c022",
   "metadata": {},
   "outputs": [],
   "source": [
    "#| export\n",
    "def plot_other_var(data):\n",
    "     return facet_wrap(data, partial(_plot_compare, compare='gap_single_var', y='rmse'), \"var\", y_labels = [f\"rmse {var} [{units_big[var]}]\" for var in data['var'].unique()])"
   ]
  },
  {
   "cell_type": "code",
   "execution_count": null,
   "id": "a9e5ce2a-f799-426e-a967-90db51731655",
   "metadata": {},
   "outputs": [],
   "source": [
    "plot_other_var(k_results)"
   ]
  },
  {
   "cell_type": "markdown",
   "id": "4fea8fed-fdab-40e3-bea5-ebabec8f886c",
   "metadata": {},
   "source": [
    "### Single var vs Generic"
   ]
  },
  {
   "cell_type": "code",
   "execution_count": null,
   "id": "8f945d64-678b-4f9a-8ea7-5954781efd40",
   "metadata": {},
   "outputs": [],
   "source": [
    "base_path = here(\"analysis/results/trained_14feb\")"
   ]
  },
  {
   "cell_type": "code",
   "execution_count": null,
   "id": "23058c3f-9304-4a80-a947-3ec2a2e49b5a",
   "metadata": {},
   "outputs": [],
   "source": [
    "#| export\n",
    "def l_model(x): return torch.load(base_path / x)"
   ]
  },
  {
   "cell_type": "code",
   "execution_count": null,
   "id": "28ff2545-bb0e-4305-9547-1988077a0068",
   "metadata": {},
   "outputs": [],
   "source": [
    "models_generic = [\n",
    "    {'type': 'Generic',  'var': 'TA', 'model': l_model(\"1_gap_varying_12-336_v1.pickle\")},\n",
    "    {'type': 'Generic',  'var': 'SW_IN', 'model': l_model(\"1_gap_varying_12-336_v1.pickle\")},\n",
    "    {'type': 'Only one var', 'var': 'TA',    'model': l_model(\"TA_specialized_gap_12-336_v2.pickle.pickle\")},\n",
    "    {'type': 'Only one var', 'var': 'SW_IN', 'model': l_model(\"SW_IN_specialized_gap_12-336_v2.pickle.pickle\")},\n",
    "]\n",
    "models_generic = pd.DataFrame.from_records(models_generic)"
   ]
  },
  {
   "cell_type": "code",
   "execution_count": null,
   "id": "d216848b-d64e-4521-9437-0edac59ff832",
   "metadata": {},
   "outputs": [],
   "source": [
    "@dataclass\n",
    "class Col:\n",
    "    col_name: str"
   ]
  },
  {
   "cell_type": "code",
   "execution_count": null,
   "id": "32a51df2-42a5-46a5-b769-528fe9dbbcb4",
   "metadata": {},
   "outputs": [],
   "source": [
    "# dream_models_TA = [\n",
    "#     Col('type'),  Col('model'),\n",
    "#     'only TA',  l_model(\"trained_4_feb_All_gap_varying_12_v2.pickle\"),\n",
    "#     'generic',  l_model(\"trained_4_feb_TA_gap_12_v1.pickle\"),\n",
    "# ]"
   ]
  },
  {
   "cell_type": "code",
   "execution_count": null,
   "id": "73a777dd-df24-4f9e-a7fa-adbb56d2ad26",
   "metadata": {},
   "outputs": [],
   "source": [
    "# tribble ... not for now"
   ]
  },
  {
   "cell_type": "code",
   "execution_count": null,
   "id": "44509285-ab68-4fd3-97e0-02d2435c3a86",
   "metadata": {},
   "outputs": [],
   "source": [
    "comp_generic = KalmanImpComparison(models_generic, hai, hai_era, 100)"
   ]
  },
  {
   "cell_type": "code",
   "execution_count": null,
   "id": "4673529d-d644-407c-90f9-cbeefa73948d",
   "metadata": {},
   "outputs": [],
   "source": [
    "k_results_generic = comp_generic.compare(n_rep =3, gap_len = [6, 12, 24], var = ['TA', 'SW_IN'])"
   ]
  },
  {
   "cell_type": "code",
   "execution_count": null,
   "id": "992218c8-1017-446a-a8b6-968c995bd948",
   "metadata": {},
   "outputs": [],
   "source": [
    "k_results_generic"
   ]
  },
  {
   "cell_type": "code",
   "execution_count": null,
   "id": "81bf067b-b6a8-42fc-b3e9-ddce11698324",
   "metadata": {},
   "outputs": [],
   "source": [
    "#| export\n",
    "def plot_generic(data):\n",
    "     return facet_wrap(data, partial(_plot_compare, compare='type', y='rmse'), \"var\", y_labels = [f\"rmse {var} [{units_big[var]}]\" for var in data['var'].unique()])"
   ]
  },
  {
   "cell_type": "code",
   "execution_count": null,
   "id": "3065380c-551b-40b4-ac64-dff97bcbb549",
   "metadata": {},
   "outputs": [],
   "source": [
    "_plot_compare(k_results_generic, compare='type')"
   ]
  },
  {
   "cell_type": "code",
   "execution_count": null,
   "id": "82943e19-5bdd-4278-9647-da1055456766",
   "metadata": {},
   "outputs": [],
   "source": [
    "plot_generic(k_results_generic)"
   ]
  },
  {
   "cell_type": "markdown",
   "id": "6a1aeee0-bdc3-4075-9fc7-e28c01712674",
   "metadata": {},
   "source": [
    "### Short gaps vs Generic"
   ]
  },
  {
   "cell_type": "code",
   "execution_count": null,
   "id": "93c25049-ee8c-4740-b195-3931ab5e35b3",
   "metadata": {},
   "outputs": [],
   "source": [
    "# models_short_gap = [\n",
    "#     {'type': 'Short gap',  'var': 'TA', 'model': l_model(\"trained_4_feb_All_gap_varying_12_v2.pickle\")},\n",
    "#     {'type': 'Long gap',  'var': 'TA', 'model': l_model(\"trained_4_feb_TA_gap_12_v1.pickle\")},\n",
    "# ]\n",
    "# models_short_gap = pd.DataFrame.from_records(models_short_gap)"
   ]
  },
  {
   "cell_type": "markdown",
   "id": "e4640281-fc34-47f6-ba02-431f451f6a77",
   "metadata": {},
   "source": [
    "### Timeseries"
   ]
  },
  {
   "cell_type": "code",
   "execution_count": null,
   "id": "1b04545e-b7f7-4396-9df6-f7f98e3aead4",
   "metadata": {},
   "outputs": [],
   "source": [
    "comp_ts = ImpComparison(models = models_var, df = hai, control = hai_era, block_len = 100, rmse=False, time_series = True)"
   ]
  },
  {
   "cell_type": "code",
   "execution_count": null,
   "id": "f52ccef7-5d4e-45f2-8b42-df2e7a11ce5c",
   "metadata": {},
   "outputs": [],
   "source": [
    "res_ts = comp_ts.compare(gap_len = [5,10,20], var=[\"TA\", 'SW_IN'], n_rep=5) "
   ]
  },
  {
   "cell_type": "code",
   "execution_count": null,
   "id": "d0d48a46-def6-49b1-9dce-62e2590ddbd4",
   "metadata": {},
   "outputs": [],
   "source": [
    "res_ts.columns"
   ]
  },
  {
   "cell_type": "code",
   "execution_count": null,
   "id": "e0f19b09-1213-436f-a033-c97b2621ed6c",
   "metadata": {},
   "outputs": [],
   "source": [
    "test_ts = res_ts.query('method == \"KalmanFilter\" and var == \"TA\"')"
   ]
  },
  {
   "cell_type": "code",
   "execution_count": null,
   "id": "2dd08cc9-a1e0-49a8-ab64-56b1d9e1987e",
   "metadata": {},
   "outputs": [],
   "source": [
    "row_res = test_ts.iloc[0]"
   ]
  },
  {
   "cell_type": "code",
   "execution_count": null,
   "id": "7e968b35-2102-44ea-97fe-ea749269003f",
   "metadata": {},
   "outputs": [],
   "source": [
    "pred_all = row_res.pred[0]\n",
    "targ =  row_res.targ[0]\n",
    "var = row_res['var']"
   ]
  },
  {
   "cell_type": "code",
   "execution_count": null,
   "id": "4db9c6d4-306c-4f07-916e-b13b68e30885",
   "metadata": {},
   "outputs": [],
   "source": [
    "type(pred_all)"
   ]
  },
  {
   "cell_type": "code",
   "execution_count": null,
   "id": "fead6f42-f792-457b-a7f1-726a247c19f0",
   "metadata": {},
   "outputs": [],
   "source": [
    "targ.mask[var]"
   ]
  },
  {
   "cell_type": "code",
   "execution_count": null,
   "id": "c07e5b56-4608-4d19-bde9-a93a92580453",
   "metadata": {},
   "outputs": [],
   "source": [
    "list(row_res.index)"
   ]
  },
  {
   "cell_type": "code",
   "execution_count": null,
   "id": "7d00387c-80ed-45fb-9ce5-b3a9dcebec02",
   "metadata": {},
   "outputs": [],
   "source": [
    "np.argmin(row_res.targ[0].mask['TA'])"
   ]
  },
  {
   "cell_type": "code",
   "execution_count": null,
   "id": "b5d90b70-aa78-40e8-ad70-cca5f4a98a75",
   "metadata": {},
   "outputs": [],
   "source": [
    "row_res.targ[0].mask['TA'].index[47]"
   ]
  },
  {
   "cell_type": "code",
   "execution_count": null,
   "id": "7f18caf5-3812-4ab6-bf7b-32f0d1fa0423",
   "metadata": {},
   "outputs": [],
   "source": [
    "#| export\n",
    "def unnest_predictions(row_res: pd.Series, ctx_len:int=50):\n",
    "    pred = row_res.pred[0]\n",
    "    targ =  row_res.targ[0]\n",
    "    var = row_res['var']\n",
    "    if isinstance(pred, NormalsDf):\n",
    "        mean = pred.mean[var]\n",
    "        std = pred.std[var]\n",
    "    else:\n",
    "        mean = pred[var]\n",
    "        std = np.nan\n",
    "    \n",
    "    \n",
    "    measurement = targ.data[var]\n",
    "    is_present = targ.mask[var]\n",
    "    \n",
    "    gap_len = (~is_present).sum()\n",
    "    gap_start = np.argmin(is_present)\n",
    "    ctx_start = is_present.index[gap_start - (ctx_len - gap_len) //2]\n",
    "    ctx_end = is_present.index[gap_start + gap_len + (ctx_len - gap_len) //2]\n",
    "    \n",
    "    is_present = is_present[ctx_start:ctx_end]\n",
    "    measurement = measurement[ctx_start:ctx_end]\n",
    "    mean = mean[ctx_start:ctx_end]\n",
    "    if type(std) != float: std = std[ctx_start:ctx_end] \n",
    "    \n",
    "    mean[is_present] = np.nan # plot only predictions in gap\n",
    "    \n",
    "    other_cols = {name: row_res[name] for name in list(row_res.index) if name not in ['pred', 'targ']}\n",
    "    \n",
    "    out =  pd.DataFrame({'mean': mean, 'std': std, 'measurement': measurement, 'is_present': is_present} | other_cols)\n",
    "    return out.reset_index()\n",
    "    "
   ]
  },
  {
   "cell_type": "code",
   "execution_count": null,
   "id": "bea3c3ae-d84b-42bd-9bb1-34274545468d",
   "metadata": {},
   "outputs": [],
   "source": [
    "unnest_predictions(row_res)"
   ]
  },
  {
   "cell_type": "code",
   "execution_count": null,
   "id": "dd54d034-79b7-4aea-895e-5e688e0b41d9",
   "metadata": {},
   "outputs": [],
   "source": [
    "res_ts_plot = pd.concat([unnest_predictions(row) for _,row in res_ts.iterrows()])"
   ]
  },
  {
   "cell_type": "code",
   "execution_count": null,
   "id": "3224a5b8-f24e-4ada-842a-5c53757aacb4",
   "metadata": {},
   "outputs": [],
   "source": [
    "#| export\n",
    "from meteo_imp.kalman.fastai import def_selection, plot_points, plot_line, plot_error"
   ]
  },
  {
   "cell_type": "code",
   "execution_count": null,
   "id": "162c408a-902c-4eb4-bf00-9f100f380aca",
   "metadata": {},
   "outputs": [],
   "source": [
    "plot_points(res_ts_plot.query('var == \"TA\" and method == \"KalmanFilter\" and idx_rep == 0 and gap_len==2.5'), y= \"measurement\")"
   ]
  },
  {
   "cell_type": "code",
   "execution_count": null,
   "id": "7e91a874-7e53-4cb2-9714-276ea5f52fa8",
   "metadata": {},
   "outputs": [],
   "source": [
    "plot_missing_area(res_ts_plot.query('var == \"TA\" and method == \"KalmanFilter\" and idx_rep == 0 and gap_len==2.5'))"
   ]
  },
  {
   "cell_type": "code",
   "execution_count": null,
   "id": "8ce2a857-7c60-4f5a-abe5-4dbe6ce3e7f5",
   "metadata": {},
   "outputs": [],
   "source": [
    "plot_line(res_ts_plot.query('var == \"TA\" and idx_rep == 0 and gap_len==2.5'), y= \"mean\", color='method', scale=alt.Scale())"
   ]
  },
  {
   "cell_type": "code",
   "execution_count": null,
   "id": "a02c7b88-c0a2-452c-9ad4-912fd0cdb09c",
   "metadata": {},
   "outputs": [],
   "source": [
    "plot_error(res_ts_plot.query('var == \"TA\" and idx_rep == 0 and gap_len==2.5').copy(), y= \"mean\", color='method', scale=alt.Scale())"
   ]
  },
  {
   "cell_type": "code",
   "execution_count": null,
   "id": "58d68e1b-88cd-4392-b478-f2919931c2a5",
   "metadata": {},
   "outputs": [],
   "source": [
    "#| export\n",
    "def _plot_timeseries(data_plot, y_label=\"\", scale_color=method_scale, compare = 'method'):\n",
    "    \"\"\"data for one variable and one gap\"\"\"\n",
    "    data_measure = data_plot[data_plot[compare] == data_plot[compare].unique()[0]]\n",
    "    points = plot_points(data_measure, y= \"measurement\", y_label=y_label)\n",
    "    miss_area = plot_missing_area(data_measure)\n",
    "    err_band = plot_error(data_plot, y= \"mean\", color=compare, scale=scale_color, y_label=y_label)\n",
    "    line = plot_line(data_plot, y= \"mean\", color=compare, scale=scale_color, y_label=y_label, props={'height': 200, 'width': 300})\n",
    "    return (points + miss_area  + err_band + line)"
   ]
  },
  {
   "cell_type": "code",
   "execution_count": null,
   "id": "133bf247-f3f4-4e89-9869-dac2e5aade74",
   "metadata": {},
   "outputs": [],
   "source": [
    "_plot_timeseries(res_ts_plot.query('var == \"TA\" and idx_rep == 0 and gap_len==2.5').copy(), \"TA\")"
   ]
  },
  {
   "cell_type": "code",
   "execution_count": null,
   "id": "9ffc3940-7267-4bee-9132-233870a280ce",
   "metadata": {},
   "outputs": [],
   "source": [
    "_plot_timeseries(res_ts_plot.query('var == \"SW_IN\" and idx_rep == 0 and gap_len==10').copy(), \"SW_IN\")"
   ]
  },
  {
   "cell_type": "code",
   "execution_count": null,
   "id": "229b1517-81ae-4900-83df-d10397f561c0",
   "metadata": {},
   "outputs": [],
   "source": [
    "data_ts = pd.concat([unnest_predictions(row) for _,row in res_ts.iterrows()])"
   ]
  },
  {
   "cell_type": "code",
   "execution_count": null,
   "id": "815153bd-2588-45a0-b544-572523f8d035",
   "metadata": {},
   "outputs": [],
   "source": [
    "#| export\n",
    "def plot_timeseries(data, idx_rep:int|None=None, gap_len:int|None = None, max_idx:int = 3,\n",
    "                    ctx_len={6.: 50, 12.: 50, 168.: 336+48},\n",
    "                    scale_color=method_scale, compare='method'):\n",
    "    \n",
    "    if idx_rep == 'random': idx_rep = int(data['idx_rep'].sample())\n",
    "    if gap_len is None and idx_rep is not None:\n",
    "        data_plot = data.query(f'idx_rep == {idx_rep}').copy()\n",
    "        facet_var = 'gap_len'\n",
    "    elif gap_len is not None and idx_rep is None:\n",
    "        data_plot = data.query(f'gap_len == {gap_len} and idx_rep < {max_idx}').copy()\n",
    "        facet_var = 'idx_rep'\n",
    "    else:\n",
    "        raise ValueError(f\"One and only one of idx_rep, gap_len should be None. got {idx_rep}, {gap_len}\")\n",
    "    data_plot = pd.concat([unnest_predictions(row, ctx_len[row.gap_len]) for _, row in data_plot.iterrows()])\n",
    "    data_plot = data_plot.astype({'idx_rep': str, 'gap_len': str})\n",
    "    data_plot = data_plot.assign(gap_len = data_plot.gap_len.map(lambda x: f\"gap {x} h\"))\n",
    "    y_labels = [[f\"rmse {var} [{units_big[var]}]\" for _ in data_plot[facet_var].unique()] for var in data_plot['var'].unique()]\n",
    "    return facet_grid(data_plot, partial(_plot_timeseries, scale_color=scale_color, compare=compare),\n",
    "                      row=\"var\", col=facet_var, y_labels=y_labels).configure_legend(orient=\"bottom\")\n",
    "        \n",
    "    "
   ]
  },
  {
   "cell_type": "code",
   "execution_count": null,
   "id": "80b11069-0f7a-40ac-b726-004246857608",
   "metadata": {},
   "outputs": [],
   "source": [
    "plot_timeseries(res_ts, idx_rep='random')"
   ]
  },
  {
   "cell_type": "markdown",
   "id": "a63be8af-4fdb-4f8e-94a7-edf4985a0e32",
   "metadata": {},
   "source": [
    "### Scatter plot"
   ]
  },
  {
   "cell_type": "code",
   "execution_count": null,
   "id": "e7f9912e-eee1-40a6-9eb3-4b010a5278c5",
   "metadata": {},
   "outputs": [],
   "source": [
    "#| export\n",
    "def _plot_scatter(df, only_present=True, x = \"value\", y=\"mean\", x_label=\"\", y_label = \"\", color = 'method', scale=method_scale, props = {}):\n",
    "    # df = df[df.is_present] if only_present else df\n",
    "    # TODO remove onle_present\n",
    "    return alt.Chart(df).mark_point().encode(\n",
    "        x = alt.X(x, title=x_label),    \n",
    "        y = alt.Y(y, title = y_label),\n",
    "        color=alt.Color(color, scale= scale),\n",
    "        shape = color\n",
    "    ).properties(\n",
    "        **props\n",
    "    )\n",
    "\n",
    "    "
   ]
  },
  {
   "cell_type": "code",
   "execution_count": null,
   "id": "15171d9e-d88a-4072-9693-1dc03eb06d72",
   "metadata": {},
   "outputs": [],
   "source": [
    "data_ts.query('var == \"TA\" and gap_len==2.5').copy()"
   ]
  },
  {
   "cell_type": "code",
   "execution_count": null,
   "id": "3f80c578-fa4b-415b-8651-1a4b0fc9d801",
   "metadata": {},
   "outputs": [],
   "source": [
    "_plot_scatter(data_ts.query('var == \"TA\" and gap_len==10 and idx_rep ==0').copy(), x=\"measurement\", y= \"mean\", color='method', scale=alt.Scale())"
   ]
  },
  {
   "cell_type": "markdown",
   "id": "a69c4261-536d-4590-ac51-46dbe4dac96e",
   "metadata": {},
   "source": [
    "## Table"
   ]
  },
  {
   "cell_type": "markdown",
   "id": "2aa0273c-55a5-4645-abbc-d9f3e26104f6",
   "metadata": {},
   "source": [
    "### The Table"
   ]
  },
  {
   "cell_type": "markdown",
   "id": "0d78adfa-6352-428c-8cb5-b27d9ecb8fbe",
   "metadata": {},
   "source": [
    "A table where in the rows there is "
   ]
  },
  {
   "cell_type": "code",
   "execution_count": null,
   "id": "ad57b609-26e2-4625-98f0-c2ce7ae4639f",
   "metadata": {},
   "outputs": [
    {
     "ename": "NameError",
     "evalue": "name 'data_results' is not defined",
     "output_type": "error",
     "traceback": [
      "\u001b[0;31m---------------------------------------------------------------------------\u001b[0m",
      "\u001b[0;31mNameError\u001b[0m                                 Traceback (most recent call last)",
      "Input \u001b[0;32mIn [97]\u001b[0m, in \u001b[0;36m<cell line: 1>\u001b[0;34m()\u001b[0m\n\u001b[0;32m----> 1\u001b[0m t \u001b[38;5;241m=\u001b[39m \u001b[43mdata_results\u001b[49m\u001b[38;5;241m.\u001b[39mgroupby([\u001b[38;5;124m'\u001b[39m\u001b[38;5;124mmethod\u001b[39m\u001b[38;5;124m'\u001b[39m, \u001b[38;5;124m'\u001b[39m\u001b[38;5;124mvar\u001b[39m\u001b[38;5;124m'\u001b[39m, \u001b[38;5;124m'\u001b[39m\u001b[38;5;124mgap_len\u001b[39m\u001b[38;5;124m'\u001b[39m])\u001b[38;5;241m.\u001b[39magg({\u001b[38;5;124m'\u001b[39m\u001b[38;5;124mrmse\u001b[39m\u001b[38;5;124m'\u001b[39m: [\u001b[38;5;124m'\u001b[39m\u001b[38;5;124mmean\u001b[39m\u001b[38;5;124m'\u001b[39m, \u001b[38;5;124m'\u001b[39m\u001b[38;5;124mstd\u001b[39m\u001b[38;5;124m'\u001b[39m]})\u001b[38;5;241m.\u001b[39munstack(level\u001b[38;5;241m=\u001b[39m\u001b[38;5;241m0\u001b[39m)\n\u001b[1;32m      3\u001b[0m t_idx \u001b[38;5;241m=\u001b[39m t\u001b[38;5;241m.\u001b[39mcolumns\u001b[38;5;241m.\u001b[39mdroplevel()\n\u001b[1;32m      4\u001b[0m t_idx\u001b[38;5;241m.\u001b[39mnames \u001b[38;5;241m=\u001b[39m [\u001b[38;5;124m'\u001b[39m\u001b[38;5;124mRMSE\u001b[39m\u001b[38;5;124m'\u001b[39m, \u001b[38;5;28;01mNone\u001b[39;00m]\n",
      "\u001b[0;31mNameError\u001b[0m: name 'data_results' is not defined"
     ]
    }
   ],
   "source": [
    "t = data_results.groupby(['method', 'var', 'gap_len']).agg({'rmse': ['mean', 'std']}).unstack(level=0)\n",
    "\n",
    "t_idx = t.columns.droplevel()\n",
    "t_idx.names = ['RMSE', None]\n",
    "\n",
    "t2 = t.copy()\n",
    "t2.columns = t_idx\n",
    "\n",
    "t2 = t2.sort_index(axis=1, level=1).swaplevel(axis=1)\n",
    "t2"
   ]
  },
  {
   "cell_type": "code",
   "execution_count": null,
   "id": "f9a07996-0c5e-462d-96ea-a3cca5e232cd",
   "metadata": {},
   "outputs": [
    {
     "ename": "NameError",
     "evalue": "name 't2' is not defined",
     "output_type": "error",
     "traceback": [
      "\u001b[0;31m---------------------------------------------------------------------------\u001b[0m",
      "\u001b[0;31mNameError\u001b[0m                                 Traceback (most recent call last)",
      "Input \u001b[0;32mIn [98]\u001b[0m, in \u001b[0;36m<cell line: 1>\u001b[0;34m()\u001b[0m\n\u001b[0;32m----> 1\u001b[0m row \u001b[38;5;241m=\u001b[39m \u001b[43mt2\u001b[49m\u001b[38;5;241m.\u001b[39miloc[\u001b[38;5;241m0\u001b[39m]\n",
      "\u001b[0;31mNameError\u001b[0m: name 't2' is not defined"
     ]
    }
   ],
   "source": [
    "row = t2.iloc[0]"
   ]
  },
  {
   "cell_type": "code",
   "execution_count": null,
   "id": "bb7a333b-a634-495d-b34f-8b823ee42fff",
   "metadata": {},
   "outputs": [
    {
     "ename": "NameError",
     "evalue": "name 'row' is not defined",
     "output_type": "error",
     "traceback": [
      "\u001b[0;31m---------------------------------------------------------------------------\u001b[0m",
      "\u001b[0;31mNameError\u001b[0m                                 Traceback (most recent call last)",
      "Input \u001b[0;32mIn [99]\u001b[0m, in \u001b[0;36m<cell line: 1>\u001b[0;34m()\u001b[0m\n\u001b[0;32m----> 1\u001b[0m \u001b[43mrow\u001b[49m\n",
      "\u001b[0;31mNameError\u001b[0m: name 'row' is not defined"
     ]
    }
   ],
   "source": [
    "row"
   ]
  },
  {
   "cell_type": "code",
   "execution_count": null,
   "id": "3b6a55ac-b4c6-4168-ae7a-bf14555db707",
   "metadata": {},
   "outputs": [
    {
     "ename": "NameError",
     "evalue": "name 'row' is not defined",
     "output_type": "error",
     "traceback": [
      "\u001b[0;31m---------------------------------------------------------------------------\u001b[0m",
      "\u001b[0;31mNameError\u001b[0m                                 Traceback (most recent call last)",
      "Input \u001b[0;32mIn [100]\u001b[0m, in \u001b[0;36m<cell line: 1>\u001b[0;34m()\u001b[0m\n\u001b[0;32m----> 1\u001b[0m np\u001b[38;5;241m.\u001b[39margmin(\u001b[43mrow\u001b[49m\u001b[38;5;241m.\u001b[39miloc[[\u001b[38;5;241m0\u001b[39m,\u001b[38;5;241m2\u001b[39m,\u001b[38;5;241m4\u001b[39m]]) \u001b[38;5;241m*\u001b[39m \u001b[38;5;241m2\u001b[39m\n",
      "\u001b[0;31mNameError\u001b[0m: name 'row' is not defined"
     ]
    }
   ],
   "source": [
    "np.argmin(row.iloc[[0,2,4]]) * 2"
   ]
  },
  {
   "cell_type": "code",
   "execution_count": null,
   "id": "7fcdfeec-1b5d-4fd6-942d-46716c5ec644",
   "metadata": {},
   "outputs": [],
   "source": [
    "#| export\n",
    "def highlight_min_method(row, props, cols): \n",
    "    # select even columns that are the mean\n",
    "    return np.where(row == np.min(row.iloc[cols]), props, '')\n",
    "\n",
    "def style_the_table(style, cols=[0,2,4]):\n",
    "    return (style.apply(highlight_min_method, props=\"font-weight: bold\", cols=cols, axis=1)\n",
    "                .format_index(precision=0).format(precision=3, na_rep='-'))"
   ]
  },
  {
   "cell_type": "code",
   "execution_count": null,
   "id": "e11ac40e-c68d-44fa-8225-df9dabd81f36",
   "metadata": {},
   "outputs": [],
   "source": [
    "# #| export\n",
    "# renames_table_latex = {name: f\"\\parbox{{2.1cm}}{{{val}}}\" for name, val in \n",
    "#                  {'SW_IN': \"Shortwave radiation incoming \\\\textbf{SW IN} [\\si{W/m^2}]\",\n",
    "#                'LW_IN': 'Longwave radiation incoming \\\\textbf{LW IN} [$W/m^2$]',\n",
    "#                'TA': \"Air Temperature \\\\textbf{TA} [$°C$]\",\n",
    "#                'VPD': \"Vapuour Pressure Deficit \\\\textbf{VPD} [$hPa$]\",\n",
    "#                'PA': \"Air Pressure \\\\textbf{PA} [$hPa$]\",\n",
    "#                'P': \"Precipitation \\\\textbf{P} [$mm$]\",\n",
    "#                'WS': \"Wind Speed \\\\textbf{WS} [$m/s$]\",\n",
    "#           }.items()}"
   ]
  },
  {
   "cell_type": "code",
   "execution_count": null,
   "id": "86277b37-b171-454a-91fb-696522bb3f88",
   "metadata": {},
   "outputs": [],
   "source": [
    "#| export\n",
    "renames_table_latex = {name: f\"\\\\parbox{{2.1cm}}{{{val}}}\" for name, val in \n",
    "                 {'SW_IN': \"\\\\textbf{SW\\\\_IN} [\\\\si{W/m^2}]\",\n",
    "               'LW_IN': '\\\\textbf{LW\\\\_IN} [\\\\si{W/m^2}]',\n",
    "               'TA': \"\\\\textbf{TA} [\\\\si{°C}]\",\n",
    "               'VPD': \"\\\\textbf{VPD} [\\\\si{hPa}]\",\n",
    "               'PA': \"\\\\textbf{PA} [\\\\si{hPa}]\",\n",
    "               'P': \"\\\\textbf{P} [\\\\si{mm}]\",\n",
    "               'WS': \"\\\\textbf{WS} [\\\\si{m/s}]\",\n",
    "               'TS': \"\\\\textbf{TS} [\\\\si{°C}]\",\n",
    "               'SWC': \"\\\\textbf{SWC} [\\\\si{\\%}]\",\n",
    "          }.items()}"
   ]
  },
  {
   "cell_type": "code",
   "execution_count": null,
   "id": "6d434621-5570-429b-a7a0-7d0fdb23b07b",
   "metadata": {},
   "outputs": [],
   "source": [
    "#| export\n",
    "renames_table_latex_stand = {name: f\"\\\\parbox{{2.1cm}}{{{val}}}\" for name, val in \n",
    "                 {'SW_IN': \"\\\\textbf{SW\\\\_IN}\",\n",
    "               'LW_IN': '\\\\textbf{LW\\\\_IN}',\n",
    "               'TA': \"\\\\textbf{TA}\",\n",
    "               'VPD': \"\\\\textbf{VPD}\",\n",
    "               'PA': \"\\\\textbf{PA}\",\n",
    "               'P': \"\\\\textbf{P}\",\n",
    "               'WS': \"\\\\textbf{WS}\",\n",
    "               'TS': \"\\\\textbf{TS}\",\n",
    "               'SWC': \"\\\\textbf{SWC}\",\n",
    "          }.items()}"
   ]
  },
  {
   "cell_type": "code",
   "execution_count": null,
   "id": "e6567959-69e1-4132-9a55-8e42fa41d305",
   "metadata": {},
   "outputs": [],
   "source": [
    "t2.style.pipe(style_the_table)"
   ]
  },
  {
   "cell_type": "code",
   "execution_count": null,
   "id": "ac03c7df-cce8-400f-a320-0e4c91af979f",
   "metadata": {},
   "outputs": [],
   "source": [
    "t3 = t2.rename(index = renames_table_latex).style.apply(highlight_min_method, props=\"font-weight: bold\", axis=1).format_index(precision=0).format(precision=3)"
   ]
  },
  {
   "cell_type": "code",
   "execution_count": null,
   "id": "3d82f769-f90e-497b-8f11-59ea99e1156f",
   "metadata": {},
   "outputs": [],
   "source": [
    "t3"
   ]
  },
  {
   "cell_type": "code",
   "execution_count": null,
   "id": "888e2403-7375-4475-a7c6-1abac27e0383",
   "metadata": {},
   "outputs": [],
   "source": [
    "print(t3.to_latex(convert_css=True, hrules=True, clines=\"skip-last;data\", column_format=\"p{2.1cm}c|rr|rr|rr\", caption=\"caption\", label=\"table\"))"
   ]
  },
  {
   "cell_type": "code",
   "execution_count": null,
   "id": "27261018-affb-45e3-84f3-08292d14ce68",
   "metadata": {},
   "outputs": [],
   "source": [
    "#| export\n",
    "def the_table(data, y='rmse', y_name=\"RMSE\"):\n",
    "    data = data.groupby(['method', 'var', 'gap_len']).agg({y: ['mean', 'std']}).unstack(level=0)\n",
    "\n",
    "    data_cols = data.columns.droplevel()\n",
    "    data_cols.names = [y_name, None]\n",
    "    data.columns = data_cols\n",
    "    data.index.names = [\"Variable\", \"Gap [$h$]\"]\n",
    "    return data.sort_index(axis=1, level=1).swaplevel(axis=1)   "
   ]
  },
  {
   "cell_type": "code",
   "execution_count": null,
   "id": "34a99931-a96e-4f2b-8dd5-b52e0be0bd72",
   "metadata": {},
   "outputs": [],
   "source": [
    "the_table(data_results)"
   ]
  },
  {
   "cell_type": "code",
   "execution_count": null,
   "id": "bdce6ce8-1241-4a07-8073-ee34c9dfc8a7",
   "metadata": {},
   "outputs": [],
   "source": [
    "#| export\n",
    "def the_table_latex(table, file, caption=\"\", label=\"\", stand=False):\n",
    "    renames = renames_table_latex if not stand else renames_table_latex_stand\n",
    "    styled = table.rename(index = renames).style.pipe(style_the_table).format(na_rep=\"-\", precision=3)\n",
    "    latex = styled.to_latex(convert_css=True, hrules=True, clines=\"skip-last;data\",\n",
    "                            column_format=\"p{2.1cm}c|rr|rr|rr\", caption=caption, label=label, position_float=\"centering\")\n",
    "    with open(file, 'w') as f:\n",
    "        f.write(latex)\n",
    "    return file"
   ]
  },
  {
   "cell_type": "code",
   "execution_count": null,
   "id": "764de351-9c8d-488c-8b11-f7ea62b98ca2",
   "metadata": {},
   "outputs": [],
   "source": [
    "the_table_latex(the_table(data_results), \"test_table.tex\")"
   ]
  },
  {
   "cell_type": "markdown",
   "id": "72aba897-9de0-4a67-a8dc-9122717731b2",
   "metadata": {},
   "source": [
    "### Table compare"
   ]
  },
  {
   "cell_type": "code",
   "execution_count": null,
   "id": "00612633-cb2a-4c36-9c36-66a5779f1d4d",
   "metadata": {},
   "outputs": [],
   "source": [
    "#| export\n",
    "err_type = CategoricalDtype(categories=[\"std\", \"mean\", \"diff.\"], ordered=True)\n",
    "def table_compare(data, compare:str, y = 'rmse_stand', compare_ascending=True):\n",
    "    data = data.groupby([compare, 'var', 'gap_len']).agg({y: ['mean', 'std']}).unstack(level=0).droplevel(level=0, axis=1)\n",
    "    \n",
    "    data[\"diff.\"] = (data.iloc[:, 0] - data.iloc[:, 1])\n",
    "    \n",
    "    data_cols = data.columns\n",
    "    data_cols.names = ['RMSE Standardized', compare]\n",
    "    # support custom sorting order\n",
    "    data.columns = pd.MultiIndex.from_frame(data_cols.to_frame().astype({'RMSE Standardized': err_type}))\n",
    "    data.index.names = [\"Variable\", \"Gap [$h$]\"]\n",
    "    return data.sort_index(axis=1, level=1, ascending=False).swaplevel(axis=1) "
   ]
  },
  {
   "cell_type": "code",
   "execution_count": null,
   "id": "221e26ab-e61c-4995-9fe6-1effc4f7cd2b",
   "metadata": {},
   "outputs": [
    {
     "data": {
      "text/html": [
       "<div>\n",
       "<style scoped>\n",
       "    .dataframe tbody tr th:only-of-type {\n",
       "        vertical-align: middle;\n",
       "    }\n",
       "\n",
       "    .dataframe tbody tr th {\n",
       "        vertical-align: top;\n",
       "    }\n",
       "\n",
       "    .dataframe thead tr th {\n",
       "        text-align: left;\n",
       "    }\n",
       "\n",
       "    .dataframe thead tr:last-of-type th {\n",
       "        text-align: right;\n",
       "    }\n",
       "</style>\n",
       "<table border=\"1\" class=\"dataframe\">\n",
       "  <thead>\n",
       "    <tr>\n",
       "      <th></th>\n",
       "      <th>use_control</th>\n",
       "      <th colspan=\"2\" halign=\"left\">False</th>\n",
       "      <th colspan=\"2\" halign=\"left\">True</th>\n",
       "      <th></th>\n",
       "    </tr>\n",
       "    <tr>\n",
       "      <th></th>\n",
       "      <th>RMSE Standardized</th>\n",
       "      <th>mean</th>\n",
       "      <th>std</th>\n",
       "      <th>mean</th>\n",
       "      <th>std</th>\n",
       "      <th>diff.</th>\n",
       "    </tr>\n",
       "    <tr>\n",
       "      <th>Variable</th>\n",
       "      <th>Gap [$h$]</th>\n",
       "      <th></th>\n",
       "      <th></th>\n",
       "      <th></th>\n",
       "      <th></th>\n",
       "      <th></th>\n",
       "    </tr>\n",
       "  </thead>\n",
       "  <tbody>\n",
       "    <tr>\n",
       "      <th rowspan=\"3\" valign=\"top\">TA</th>\n",
       "      <th>3.0</th>\n",
       "      <td>0.071531</td>\n",
       "      <td>0.080346</td>\n",
       "      <td>0.042377</td>\n",
       "      <td>0.031936</td>\n",
       "      <td>0.029154</td>\n",
       "    </tr>\n",
       "    <tr>\n",
       "      <th>6.0</th>\n",
       "      <td>0.254662</td>\n",
       "      <td>0.154330</td>\n",
       "      <td>0.079730</td>\n",
       "      <td>0.044252</td>\n",
       "      <td>0.174932</td>\n",
       "    </tr>\n",
       "    <tr>\n",
       "      <th>12.0</th>\n",
       "      <td>0.518039</td>\n",
       "      <td>0.435547</td>\n",
       "      <td>0.127106</td>\n",
       "      <td>0.091420</td>\n",
       "      <td>0.390933</td>\n",
       "    </tr>\n",
       "    <tr>\n",
       "      <th rowspan=\"3\" valign=\"top\">SW_IN</th>\n",
       "      <th>3.0</th>\n",
       "      <td>0.126355</td>\n",
       "      <td>0.103091</td>\n",
       "      <td>0.302880</td>\n",
       "      <td>0.222587</td>\n",
       "      <td>0.176525</td>\n",
       "    </tr>\n",
       "    <tr>\n",
       "      <th>6.0</th>\n",
       "      <td>0.531083</td>\n",
       "      <td>0.468922</td>\n",
       "      <td>0.259730</td>\n",
       "      <td>0.144197</td>\n",
       "      <td>0.271353</td>\n",
       "    </tr>\n",
       "    <tr>\n",
       "      <th>12.0</th>\n",
       "      <td>0.651510</td>\n",
       "      <td>0.359853</td>\n",
       "      <td>0.309855</td>\n",
       "      <td>0.252639</td>\n",
       "      <td>0.341655</td>\n",
       "    </tr>\n",
       "    <tr>\n",
       "      <th rowspan=\"3\" valign=\"top\">LW_IN</th>\n",
       "      <th>3.0</th>\n",
       "      <td>0.117033</td>\n",
       "      <td>0.081575</td>\n",
       "      <td>0.218013</td>\n",
       "      <td>0.157215</td>\n",
       "      <td>0.100980</td>\n",
       "    </tr>\n",
       "    <tr>\n",
       "      <th>6.0</th>\n",
       "      <td>0.260864</td>\n",
       "      <td>0.127380</td>\n",
       "      <td>0.210059</td>\n",
       "      <td>0.164418</td>\n",
       "      <td>0.050804</td>\n",
       "    </tr>\n",
       "    <tr>\n",
       "      <th>12.0</th>\n",
       "      <td>0.648803</td>\n",
       "      <td>0.225924</td>\n",
       "      <td>0.531998</td>\n",
       "      <td>0.237676</td>\n",
       "      <td>0.116805</td>\n",
       "    </tr>\n",
       "    <tr>\n",
       "      <th rowspan=\"3\" valign=\"top\">VPD</th>\n",
       "      <th>3.0</th>\n",
       "      <td>0.080883</td>\n",
       "      <td>0.040920</td>\n",
       "      <td>0.061606</td>\n",
       "      <td>0.016222</td>\n",
       "      <td>0.019277</td>\n",
       "    </tr>\n",
       "    <tr>\n",
       "      <th>6.0</th>\n",
       "      <td>0.206404</td>\n",
       "      <td>0.118284</td>\n",
       "      <td>0.079571</td>\n",
       "      <td>0.051189</td>\n",
       "      <td>0.126833</td>\n",
       "    </tr>\n",
       "    <tr>\n",
       "      <th>12.0</th>\n",
       "      <td>0.386051</td>\n",
       "      <td>0.262311</td>\n",
       "      <td>0.250002</td>\n",
       "      <td>0.192650</td>\n",
       "      <td>0.136050</td>\n",
       "    </tr>\n",
       "    <tr>\n",
       "      <th rowspan=\"3\" valign=\"top\">WS</th>\n",
       "      <th>3.0</th>\n",
       "      <td>0.300485</td>\n",
       "      <td>0.158529</td>\n",
       "      <td>0.502712</td>\n",
       "      <td>0.560973</td>\n",
       "      <td>0.202226</td>\n",
       "    </tr>\n",
       "    <tr>\n",
       "      <th>6.0</th>\n",
       "      <td>0.533166</td>\n",
       "      <td>0.333133</td>\n",
       "      <td>0.456949</td>\n",
       "      <td>0.250417</td>\n",
       "      <td>0.076217</td>\n",
       "    </tr>\n",
       "    <tr>\n",
       "      <th>12.0</th>\n",
       "      <td>0.576789</td>\n",
       "      <td>0.276542</td>\n",
       "      <td>0.572316</td>\n",
       "      <td>0.360507</td>\n",
       "      <td>0.004473</td>\n",
       "    </tr>\n",
       "    <tr>\n",
       "      <th rowspan=\"3\" valign=\"top\">PA</th>\n",
       "      <th>3.0</th>\n",
       "      <td>0.053446</td>\n",
       "      <td>0.045544</td>\n",
       "      <td>0.034332</td>\n",
       "      <td>0.014184</td>\n",
       "      <td>0.019114</td>\n",
       "    </tr>\n",
       "    <tr>\n",
       "      <th>6.0</th>\n",
       "      <td>0.154374</td>\n",
       "      <td>0.070122</td>\n",
       "      <td>0.104465</td>\n",
       "      <td>0.080144</td>\n",
       "      <td>0.049909</td>\n",
       "    </tr>\n",
       "    <tr>\n",
       "      <th>12.0</th>\n",
       "      <td>0.388000</td>\n",
       "      <td>0.335828</td>\n",
       "      <td>0.080165</td>\n",
       "      <td>0.059638</td>\n",
       "      <td>0.307834</td>\n",
       "    </tr>\n",
       "    <tr>\n",
       "      <th rowspan=\"3\" valign=\"top\">P</th>\n",
       "      <th>3.0</th>\n",
       "      <td>0.057974</td>\n",
       "      <td>0.046056</td>\n",
       "      <td>0.471970</td>\n",
       "      <td>0.828965</td>\n",
       "      <td>0.413996</td>\n",
       "    </tr>\n",
       "    <tr>\n",
       "      <th>6.0</th>\n",
       "      <td>0.453741</td>\n",
       "      <td>0.447474</td>\n",
       "      <td>0.252101</td>\n",
       "      <td>0.107018</td>\n",
       "      <td>0.201640</td>\n",
       "    </tr>\n",
       "    <tr>\n",
       "      <th>12.0</th>\n",
       "      <td>0.452073</td>\n",
       "      <td>0.504036</td>\n",
       "      <td>0.436604</td>\n",
       "      <td>0.381016</td>\n",
       "      <td>0.015469</td>\n",
       "    </tr>\n",
       "    <tr>\n",
       "      <th rowspan=\"3\" valign=\"top\">SWC</th>\n",
       "      <th>3.0</th>\n",
       "      <td>0.057809</td>\n",
       "      <td>0.039351</td>\n",
       "      <td>0.037269</td>\n",
       "      <td>0.029069</td>\n",
       "      <td>0.020541</td>\n",
       "    </tr>\n",
       "    <tr>\n",
       "      <th>6.0</th>\n",
       "      <td>0.260036</td>\n",
       "      <td>0.172584</td>\n",
       "      <td>0.039388</td>\n",
       "      <td>0.030187</td>\n",
       "      <td>0.220648</td>\n",
       "    </tr>\n",
       "    <tr>\n",
       "      <th>12.0</th>\n",
       "      <td>0.383962</td>\n",
       "      <td>0.195432</td>\n",
       "      <td>0.270892</td>\n",
       "      <td>0.302199</td>\n",
       "      <td>0.113070</td>\n",
       "    </tr>\n",
       "    <tr>\n",
       "      <th rowspan=\"3\" valign=\"top\">TS</th>\n",
       "      <th>3.0</th>\n",
       "      <td>0.120985</td>\n",
       "      <td>0.071894</td>\n",
       "      <td>0.059529</td>\n",
       "      <td>0.015747</td>\n",
       "      <td>0.061456</td>\n",
       "    </tr>\n",
       "    <tr>\n",
       "      <th>6.0</th>\n",
       "      <td>0.422910</td>\n",
       "      <td>0.397447</td>\n",
       "      <td>0.213845</td>\n",
       "      <td>0.156284</td>\n",
       "      <td>0.209065</td>\n",
       "    </tr>\n",
       "    <tr>\n",
       "      <th>12.0</th>\n",
       "      <td>0.887094</td>\n",
       "      <td>1.348264</td>\n",
       "      <td>0.246851</td>\n",
       "      <td>0.171585</td>\n",
       "      <td>0.640243</td>\n",
       "    </tr>\n",
       "  </tbody>\n",
       "</table>\n",
       "</div>"
      ],
      "text/plain": [
       "use_control            False                True                    \n",
       "RMSE Standardized       mean       std      mean       std     diff.\n",
       "Variable Gap [$h$]                                                  \n",
       "TA       3.0        0.071531  0.080346  0.042377  0.031936  0.029154\n",
       "         6.0        0.254662  0.154330  0.079730  0.044252  0.174932\n",
       "         12.0       0.518039  0.435547  0.127106  0.091420  0.390933\n",
       "SW_IN    3.0        0.126355  0.103091  0.302880  0.222587  0.176525\n",
       "         6.0        0.531083  0.468922  0.259730  0.144197  0.271353\n",
       "         12.0       0.651510  0.359853  0.309855  0.252639  0.341655\n",
       "LW_IN    3.0        0.117033  0.081575  0.218013  0.157215  0.100980\n",
       "         6.0        0.260864  0.127380  0.210059  0.164418  0.050804\n",
       "         12.0       0.648803  0.225924  0.531998  0.237676  0.116805\n",
       "VPD      3.0        0.080883  0.040920  0.061606  0.016222  0.019277\n",
       "         6.0        0.206404  0.118284  0.079571  0.051189  0.126833\n",
       "         12.0       0.386051  0.262311  0.250002  0.192650  0.136050\n",
       "WS       3.0        0.300485  0.158529  0.502712  0.560973  0.202226\n",
       "         6.0        0.533166  0.333133  0.456949  0.250417  0.076217\n",
       "         12.0       0.576789  0.276542  0.572316  0.360507  0.004473\n",
       "PA       3.0        0.053446  0.045544  0.034332  0.014184  0.019114\n",
       "         6.0        0.154374  0.070122  0.104465  0.080144  0.049909\n",
       "         12.0       0.388000  0.335828  0.080165  0.059638  0.307834\n",
       "P        3.0        0.057974  0.046056  0.471970  0.828965  0.413996\n",
       "         6.0        0.453741  0.447474  0.252101  0.107018  0.201640\n",
       "         12.0       0.452073  0.504036  0.436604  0.381016  0.015469\n",
       "SWC      3.0        0.057809  0.039351  0.037269  0.029069  0.020541\n",
       "         6.0        0.260036  0.172584  0.039388  0.030187  0.220648\n",
       "         12.0       0.383962  0.195432  0.270892  0.302199  0.113070\n",
       "TS       3.0        0.120985  0.071894  0.059529  0.015747  0.061456\n",
       "         6.0        0.422910  0.397447  0.213845  0.156284  0.209065\n",
       "         12.0       0.887094  1.348264  0.246851  0.171585  0.640243"
      ]
     },
     "execution_count": null,
     "metadata": {},
     "output_type": "execute_result"
    }
   ],
   "source": [
    "table_compare(k_results, 'use_control')"
   ]
  },
  {
   "cell_type": "code",
   "execution_count": null,
   "id": "7d1ee4bf-c10d-4c42-8ec3-ec2b1d5f66f7",
   "metadata": {},
   "outputs": [
    {
     "data": {
      "text/html": [
       "<div>\n",
       "<style scoped>\n",
       "    .dataframe tbody tr th:only-of-type {\n",
       "        vertical-align: middle;\n",
       "    }\n",
       "\n",
       "    .dataframe tbody tr th {\n",
       "        vertical-align: top;\n",
       "    }\n",
       "\n",
       "    .dataframe thead tr th {\n",
       "        text-align: left;\n",
       "    }\n",
       "\n",
       "    .dataframe thead tr:last-of-type th {\n",
       "        text-align: right;\n",
       "    }\n",
       "</style>\n",
       "<table border=\"1\" class=\"dataframe\">\n",
       "  <thead>\n",
       "    <tr>\n",
       "      <th></th>\n",
       "      <th>RMSE Standardized</th>\n",
       "      <th>mean</th>\n",
       "      <th>std</th>\n",
       "      <th>mean</th>\n",
       "      <th>std</th>\n",
       "      <th>diff.</th>\n",
       "    </tr>\n",
       "    <tr>\n",
       "      <th></th>\n",
       "      <th>use_control</th>\n",
       "      <th>False</th>\n",
       "      <th>False</th>\n",
       "      <th>True</th>\n",
       "      <th>True</th>\n",
       "      <th></th>\n",
       "    </tr>\n",
       "    <tr>\n",
       "      <th>Variable</th>\n",
       "      <th>Gap [$h$]</th>\n",
       "      <th></th>\n",
       "      <th></th>\n",
       "      <th></th>\n",
       "      <th></th>\n",
       "      <th></th>\n",
       "    </tr>\n",
       "  </thead>\n",
       "  <tbody>\n",
       "    <tr>\n",
       "      <th rowspan=\"3\" valign=\"top\">TA</th>\n",
       "      <th>3.0</th>\n",
       "      <td>0.071531</td>\n",
       "      <td>0.080346</td>\n",
       "      <td>0.042377</td>\n",
       "      <td>0.031936</td>\n",
       "      <td>0.029154</td>\n",
       "    </tr>\n",
       "    <tr>\n",
       "      <th>6.0</th>\n",
       "      <td>0.254662</td>\n",
       "      <td>0.154330</td>\n",
       "      <td>0.079730</td>\n",
       "      <td>0.044252</td>\n",
       "      <td>0.174932</td>\n",
       "    </tr>\n",
       "    <tr>\n",
       "      <th>12.0</th>\n",
       "      <td>0.518039</td>\n",
       "      <td>0.435547</td>\n",
       "      <td>0.127106</td>\n",
       "      <td>0.091420</td>\n",
       "      <td>0.390933</td>\n",
       "    </tr>\n",
       "    <tr>\n",
       "      <th rowspan=\"3\" valign=\"top\">SW_IN</th>\n",
       "      <th>3.0</th>\n",
       "      <td>0.126355</td>\n",
       "      <td>0.103091</td>\n",
       "      <td>0.302880</td>\n",
       "      <td>0.222587</td>\n",
       "      <td>0.176525</td>\n",
       "    </tr>\n",
       "    <tr>\n",
       "      <th>6.0</th>\n",
       "      <td>0.531083</td>\n",
       "      <td>0.468922</td>\n",
       "      <td>0.259730</td>\n",
       "      <td>0.144197</td>\n",
       "      <td>0.271353</td>\n",
       "    </tr>\n",
       "    <tr>\n",
       "      <th>12.0</th>\n",
       "      <td>0.651510</td>\n",
       "      <td>0.359853</td>\n",
       "      <td>0.309855</td>\n",
       "      <td>0.252639</td>\n",
       "      <td>0.341655</td>\n",
       "    </tr>\n",
       "    <tr>\n",
       "      <th rowspan=\"3\" valign=\"top\">LW_IN</th>\n",
       "      <th>3.0</th>\n",
       "      <td>0.117033</td>\n",
       "      <td>0.081575</td>\n",
       "      <td>0.218013</td>\n",
       "      <td>0.157215</td>\n",
       "      <td>0.100980</td>\n",
       "    </tr>\n",
       "    <tr>\n",
       "      <th>6.0</th>\n",
       "      <td>0.260864</td>\n",
       "      <td>0.127380</td>\n",
       "      <td>0.210059</td>\n",
       "      <td>0.164418</td>\n",
       "      <td>0.050804</td>\n",
       "    </tr>\n",
       "    <tr>\n",
       "      <th>12.0</th>\n",
       "      <td>0.648803</td>\n",
       "      <td>0.225924</td>\n",
       "      <td>0.531998</td>\n",
       "      <td>0.237676</td>\n",
       "      <td>0.116805</td>\n",
       "    </tr>\n",
       "    <tr>\n",
       "      <th rowspan=\"3\" valign=\"top\">VPD</th>\n",
       "      <th>3.0</th>\n",
       "      <td>0.080883</td>\n",
       "      <td>0.040920</td>\n",
       "      <td>0.061606</td>\n",
       "      <td>0.016222</td>\n",
       "      <td>0.019277</td>\n",
       "    </tr>\n",
       "    <tr>\n",
       "      <th>6.0</th>\n",
       "      <td>0.206404</td>\n",
       "      <td>0.118284</td>\n",
       "      <td>0.079571</td>\n",
       "      <td>0.051189</td>\n",
       "      <td>0.126833</td>\n",
       "    </tr>\n",
       "    <tr>\n",
       "      <th>12.0</th>\n",
       "      <td>0.386051</td>\n",
       "      <td>0.262311</td>\n",
       "      <td>0.250002</td>\n",
       "      <td>0.192650</td>\n",
       "      <td>0.136050</td>\n",
       "    </tr>\n",
       "    <tr>\n",
       "      <th rowspan=\"3\" valign=\"top\">WS</th>\n",
       "      <th>3.0</th>\n",
       "      <td>0.300485</td>\n",
       "      <td>0.158529</td>\n",
       "      <td>0.502712</td>\n",
       "      <td>0.560973</td>\n",
       "      <td>0.202226</td>\n",
       "    </tr>\n",
       "    <tr>\n",
       "      <th>6.0</th>\n",
       "      <td>0.533166</td>\n",
       "      <td>0.333133</td>\n",
       "      <td>0.456949</td>\n",
       "      <td>0.250417</td>\n",
       "      <td>0.076217</td>\n",
       "    </tr>\n",
       "    <tr>\n",
       "      <th>12.0</th>\n",
       "      <td>0.576789</td>\n",
       "      <td>0.276542</td>\n",
       "      <td>0.572316</td>\n",
       "      <td>0.360507</td>\n",
       "      <td>0.004473</td>\n",
       "    </tr>\n",
       "    <tr>\n",
       "      <th rowspan=\"3\" valign=\"top\">PA</th>\n",
       "      <th>3.0</th>\n",
       "      <td>0.053446</td>\n",
       "      <td>0.045544</td>\n",
       "      <td>0.034332</td>\n",
       "      <td>0.014184</td>\n",
       "      <td>0.019114</td>\n",
       "    </tr>\n",
       "    <tr>\n",
       "      <th>6.0</th>\n",
       "      <td>0.154374</td>\n",
       "      <td>0.070122</td>\n",
       "      <td>0.104465</td>\n",
       "      <td>0.080144</td>\n",
       "      <td>0.049909</td>\n",
       "    </tr>\n",
       "    <tr>\n",
       "      <th>12.0</th>\n",
       "      <td>0.388000</td>\n",
       "      <td>0.335828</td>\n",
       "      <td>0.080165</td>\n",
       "      <td>0.059638</td>\n",
       "      <td>0.307834</td>\n",
       "    </tr>\n",
       "    <tr>\n",
       "      <th rowspan=\"3\" valign=\"top\">P</th>\n",
       "      <th>3.0</th>\n",
       "      <td>0.057974</td>\n",
       "      <td>0.046056</td>\n",
       "      <td>0.471970</td>\n",
       "      <td>0.828965</td>\n",
       "      <td>0.413996</td>\n",
       "    </tr>\n",
       "    <tr>\n",
       "      <th>6.0</th>\n",
       "      <td>0.453741</td>\n",
       "      <td>0.447474</td>\n",
       "      <td>0.252101</td>\n",
       "      <td>0.107018</td>\n",
       "      <td>0.201640</td>\n",
       "    </tr>\n",
       "    <tr>\n",
       "      <th>12.0</th>\n",
       "      <td>0.452073</td>\n",
       "      <td>0.504036</td>\n",
       "      <td>0.436604</td>\n",
       "      <td>0.381016</td>\n",
       "      <td>0.015469</td>\n",
       "    </tr>\n",
       "    <tr>\n",
       "      <th rowspan=\"3\" valign=\"top\">SWC</th>\n",
       "      <th>3.0</th>\n",
       "      <td>0.057809</td>\n",
       "      <td>0.039351</td>\n",
       "      <td>0.037269</td>\n",
       "      <td>0.029069</td>\n",
       "      <td>0.020541</td>\n",
       "    </tr>\n",
       "    <tr>\n",
       "      <th>6.0</th>\n",
       "      <td>0.260036</td>\n",
       "      <td>0.172584</td>\n",
       "      <td>0.039388</td>\n",
       "      <td>0.030187</td>\n",
       "      <td>0.220648</td>\n",
       "    </tr>\n",
       "    <tr>\n",
       "      <th>12.0</th>\n",
       "      <td>0.383962</td>\n",
       "      <td>0.195432</td>\n",
       "      <td>0.270892</td>\n",
       "      <td>0.302199</td>\n",
       "      <td>0.113070</td>\n",
       "    </tr>\n",
       "    <tr>\n",
       "      <th rowspan=\"3\" valign=\"top\">TS</th>\n",
       "      <th>3.0</th>\n",
       "      <td>0.120985</td>\n",
       "      <td>0.071894</td>\n",
       "      <td>0.059529</td>\n",
       "      <td>0.015747</td>\n",
       "      <td>0.061456</td>\n",
       "    </tr>\n",
       "    <tr>\n",
       "      <th>6.0</th>\n",
       "      <td>0.422910</td>\n",
       "      <td>0.397447</td>\n",
       "      <td>0.213845</td>\n",
       "      <td>0.156284</td>\n",
       "      <td>0.209065</td>\n",
       "    </tr>\n",
       "    <tr>\n",
       "      <th>12.0</th>\n",
       "      <td>0.887094</td>\n",
       "      <td>1.348264</td>\n",
       "      <td>0.246851</td>\n",
       "      <td>0.171585</td>\n",
       "      <td>0.640243</td>\n",
       "    </tr>\n",
       "  </tbody>\n",
       "</table>\n",
       "</div>"
      ],
      "text/plain": [
       "RMSE Standardized       mean       std      mean       std     diff.\n",
       "use_control            False     False      True      True          \n",
       "Variable Gap [$h$]                                                  \n",
       "TA       3.0        0.071531  0.080346  0.042377  0.031936  0.029154\n",
       "         6.0        0.254662  0.154330  0.079730  0.044252  0.174932\n",
       "         12.0       0.518039  0.435547  0.127106  0.091420  0.390933\n",
       "SW_IN    3.0        0.126355  0.103091  0.302880  0.222587  0.176525\n",
       "         6.0        0.531083  0.468922  0.259730  0.144197  0.271353\n",
       "         12.0       0.651510  0.359853  0.309855  0.252639  0.341655\n",
       "LW_IN    3.0        0.117033  0.081575  0.218013  0.157215  0.100980\n",
       "         6.0        0.260864  0.127380  0.210059  0.164418  0.050804\n",
       "         12.0       0.648803  0.225924  0.531998  0.237676  0.116805\n",
       "VPD      3.0        0.080883  0.040920  0.061606  0.016222  0.019277\n",
       "         6.0        0.206404  0.118284  0.079571  0.051189  0.126833\n",
       "         12.0       0.386051  0.262311  0.250002  0.192650  0.136050\n",
       "WS       3.0        0.300485  0.158529  0.502712  0.560973  0.202226\n",
       "         6.0        0.533166  0.333133  0.456949  0.250417  0.076217\n",
       "         12.0       0.576789  0.276542  0.572316  0.360507  0.004473\n",
       "PA       3.0        0.053446  0.045544  0.034332  0.014184  0.019114\n",
       "         6.0        0.154374  0.070122  0.104465  0.080144  0.049909\n",
       "         12.0       0.388000  0.335828  0.080165  0.059638  0.307834\n",
       "P        3.0        0.057974  0.046056  0.471970  0.828965  0.413996\n",
       "         6.0        0.453741  0.447474  0.252101  0.107018  0.201640\n",
       "         12.0       0.452073  0.504036  0.436604  0.381016  0.015469\n",
       "SWC      3.0        0.057809  0.039351  0.037269  0.029069  0.020541\n",
       "         6.0        0.260036  0.172584  0.039388  0.030187  0.220648\n",
       "         12.0       0.383962  0.195432  0.270892  0.302199  0.113070\n",
       "TS       3.0        0.120985  0.071894  0.059529  0.015747  0.061456\n",
       "         6.0        0.422910  0.397447  0.213845  0.156284  0.209065\n",
       "         12.0       0.887094  1.348264  0.246851  0.171585  0.640243"
      ]
     },
     "execution_count": null,
     "metadata": {},
     "output_type": "execute_result"
    }
   ],
   "source": [
    "d"
   ]
  },
  {
   "cell_type": "code",
   "execution_count": null,
   "id": "cd70710d-4b4b-4df6-8b42-c7e2b269ef4a",
   "metadata": {},
   "outputs": [
    {
     "data": {
      "text/plain": [
       "MultiIndex([('mean', False),\n",
       "            ( 'std', False),\n",
       "            ('mean',  True),\n",
       "            ( 'std',  True),\n",
       "            (    '',    '')],\n",
       "           names=['RMSE Standardized', 'use_control'])"
      ]
     },
     "execution_count": null,
     "metadata": {},
     "output_type": "execute_result"
    }
   ],
   "source": [
    "d.columns"
   ]
  },
  {
   "cell_type": "code",
   "execution_count": null,
   "id": "e876ed1e-a34c-4745-92e0-f96c757380e8",
   "metadata": {},
   "outputs": [
    {
     "data": {
      "text/plain": [
       "MultiIndex([('rmse_stand', 'mean', False),\n",
       "            ('rmse_stand', 'mean',  True),\n",
       "            ('rmse_stand',  'std', False),\n",
       "            ('rmse_stand',  'std',  True)],\n",
       "           names=[None, None, 'use_control'])"
      ]
     },
     "execution_count": null,
     "metadata": {},
     "output_type": "execute_result"
    }
   ],
   "source": [
    "d.columns"
   ]
  },
  {
   "cell_type": "code",
   "execution_count": null,
   "id": "e1133a8d-8130-4e1d-802d-3a7cccbad32a",
   "metadata": {},
   "outputs": [
    {
     "data": {
      "text/html": [
       "<div>\n",
       "<style scoped>\n",
       "    .dataframe tbody tr th:only-of-type {\n",
       "        vertical-align: middle;\n",
       "    }\n",
       "\n",
       "    .dataframe tbody tr th {\n",
       "        vertical-align: top;\n",
       "    }\n",
       "\n",
       "    .dataframe thead tr th {\n",
       "        text-align: left;\n",
       "    }\n",
       "\n",
       "    .dataframe thead tr:last-of-type th {\n",
       "        text-align: right;\n",
       "    }\n",
       "</style>\n",
       "<table border=\"1\" class=\"dataframe\">\n",
       "  <thead>\n",
       "    <tr>\n",
       "      <th></th>\n",
       "      <th></th>\n",
       "      <th colspan=\"2\" halign=\"left\">rmse_stand</th>\n",
       "    </tr>\n",
       "    <tr>\n",
       "      <th></th>\n",
       "      <th></th>\n",
       "      <th colspan=\"2\" halign=\"left\">mean</th>\n",
       "    </tr>\n",
       "    <tr>\n",
       "      <th></th>\n",
       "      <th>use_control</th>\n",
       "      <th>False</th>\n",
       "      <th>True</th>\n",
       "    </tr>\n",
       "    <tr>\n",
       "      <th>var</th>\n",
       "      <th>gap_len</th>\n",
       "      <th></th>\n",
       "      <th></th>\n",
       "    </tr>\n",
       "  </thead>\n",
       "  <tbody>\n",
       "    <tr>\n",
       "      <th rowspan=\"3\" valign=\"top\">TA</th>\n",
       "      <th>3.0</th>\n",
       "      <td>0.071531</td>\n",
       "      <td>0.042377</td>\n",
       "    </tr>\n",
       "    <tr>\n",
       "      <th>6.0</th>\n",
       "      <td>0.254662</td>\n",
       "      <td>0.079730</td>\n",
       "    </tr>\n",
       "    <tr>\n",
       "      <th>12.0</th>\n",
       "      <td>0.518039</td>\n",
       "      <td>0.127106</td>\n",
       "    </tr>\n",
       "    <tr>\n",
       "      <th rowspan=\"3\" valign=\"top\">SW_IN</th>\n",
       "      <th>3.0</th>\n",
       "      <td>0.126355</td>\n",
       "      <td>0.302880</td>\n",
       "    </tr>\n",
       "    <tr>\n",
       "      <th>6.0</th>\n",
       "      <td>0.531083</td>\n",
       "      <td>0.259730</td>\n",
       "    </tr>\n",
       "    <tr>\n",
       "      <th>12.0</th>\n",
       "      <td>0.651510</td>\n",
       "      <td>0.309855</td>\n",
       "    </tr>\n",
       "    <tr>\n",
       "      <th rowspan=\"3\" valign=\"top\">LW_IN</th>\n",
       "      <th>3.0</th>\n",
       "      <td>0.117033</td>\n",
       "      <td>0.218013</td>\n",
       "    </tr>\n",
       "    <tr>\n",
       "      <th>6.0</th>\n",
       "      <td>0.260864</td>\n",
       "      <td>0.210059</td>\n",
       "    </tr>\n",
       "    <tr>\n",
       "      <th>12.0</th>\n",
       "      <td>0.648803</td>\n",
       "      <td>0.531998</td>\n",
       "    </tr>\n",
       "    <tr>\n",
       "      <th rowspan=\"3\" valign=\"top\">VPD</th>\n",
       "      <th>3.0</th>\n",
       "      <td>0.080883</td>\n",
       "      <td>0.061606</td>\n",
       "    </tr>\n",
       "    <tr>\n",
       "      <th>6.0</th>\n",
       "      <td>0.206404</td>\n",
       "      <td>0.079571</td>\n",
       "    </tr>\n",
       "    <tr>\n",
       "      <th>12.0</th>\n",
       "      <td>0.386051</td>\n",
       "      <td>0.250002</td>\n",
       "    </tr>\n",
       "    <tr>\n",
       "      <th rowspan=\"3\" valign=\"top\">WS</th>\n",
       "      <th>3.0</th>\n",
       "      <td>0.300485</td>\n",
       "      <td>0.502712</td>\n",
       "    </tr>\n",
       "    <tr>\n",
       "      <th>6.0</th>\n",
       "      <td>0.533166</td>\n",
       "      <td>0.456949</td>\n",
       "    </tr>\n",
       "    <tr>\n",
       "      <th>12.0</th>\n",
       "      <td>0.576789</td>\n",
       "      <td>0.572316</td>\n",
       "    </tr>\n",
       "    <tr>\n",
       "      <th rowspan=\"3\" valign=\"top\">PA</th>\n",
       "      <th>3.0</th>\n",
       "      <td>0.053446</td>\n",
       "      <td>0.034332</td>\n",
       "    </tr>\n",
       "    <tr>\n",
       "      <th>6.0</th>\n",
       "      <td>0.154374</td>\n",
       "      <td>0.104465</td>\n",
       "    </tr>\n",
       "    <tr>\n",
       "      <th>12.0</th>\n",
       "      <td>0.388000</td>\n",
       "      <td>0.080165</td>\n",
       "    </tr>\n",
       "    <tr>\n",
       "      <th rowspan=\"3\" valign=\"top\">P</th>\n",
       "      <th>3.0</th>\n",
       "      <td>0.057974</td>\n",
       "      <td>0.471970</td>\n",
       "    </tr>\n",
       "    <tr>\n",
       "      <th>6.0</th>\n",
       "      <td>0.453741</td>\n",
       "      <td>0.252101</td>\n",
       "    </tr>\n",
       "    <tr>\n",
       "      <th>12.0</th>\n",
       "      <td>0.452073</td>\n",
       "      <td>0.436604</td>\n",
       "    </tr>\n",
       "    <tr>\n",
       "      <th rowspan=\"3\" valign=\"top\">SWC</th>\n",
       "      <th>3.0</th>\n",
       "      <td>0.057809</td>\n",
       "      <td>0.037269</td>\n",
       "    </tr>\n",
       "    <tr>\n",
       "      <th>6.0</th>\n",
       "      <td>0.260036</td>\n",
       "      <td>0.039388</td>\n",
       "    </tr>\n",
       "    <tr>\n",
       "      <th>12.0</th>\n",
       "      <td>0.383962</td>\n",
       "      <td>0.270892</td>\n",
       "    </tr>\n",
       "    <tr>\n",
       "      <th rowspan=\"3\" valign=\"top\">TS</th>\n",
       "      <th>3.0</th>\n",
       "      <td>0.120985</td>\n",
       "      <td>0.059529</td>\n",
       "    </tr>\n",
       "    <tr>\n",
       "      <th>6.0</th>\n",
       "      <td>0.422910</td>\n",
       "      <td>0.213845</td>\n",
       "    </tr>\n",
       "    <tr>\n",
       "      <th>12.0</th>\n",
       "      <td>0.887094</td>\n",
       "      <td>0.246851</td>\n",
       "    </tr>\n",
       "  </tbody>\n",
       "</table>\n",
       "</div>"
      ],
      "text/plain": [
       "              rmse_stand          \n",
       "                    mean          \n",
       "use_control        False     True \n",
       "var   gap_len                     \n",
       "TA    3.0       0.071531  0.042377\n",
       "      6.0       0.254662  0.079730\n",
       "      12.0      0.518039  0.127106\n",
       "SW_IN 3.0       0.126355  0.302880\n",
       "      6.0       0.531083  0.259730\n",
       "      12.0      0.651510  0.309855\n",
       "LW_IN 3.0       0.117033  0.218013\n",
       "      6.0       0.260864  0.210059\n",
       "      12.0      0.648803  0.531998\n",
       "VPD   3.0       0.080883  0.061606\n",
       "      6.0       0.206404  0.079571\n",
       "      12.0      0.386051  0.250002\n",
       "WS    3.0       0.300485  0.502712\n",
       "      6.0       0.533166  0.456949\n",
       "      12.0      0.576789  0.572316\n",
       "PA    3.0       0.053446  0.034332\n",
       "      6.0       0.154374  0.104465\n",
       "      12.0      0.388000  0.080165\n",
       "P     3.0       0.057974  0.471970\n",
       "      6.0       0.453741  0.252101\n",
       "      12.0      0.452073  0.436604\n",
       "SWC   3.0       0.057809  0.037269\n",
       "      6.0       0.260036  0.039388\n",
       "      12.0      0.383962  0.270892\n",
       "TS    3.0       0.120985  0.059529\n",
       "      6.0       0.422910  0.213845\n",
       "      12.0      0.887094  0.246851"
      ]
     },
     "execution_count": null,
     "metadata": {},
     "output_type": "execute_result"
    }
   ],
   "source": [
    "d.iloc[:, 0] - "
   ]
  },
  {
   "cell_type": "code",
   "execution_count": null,
   "id": "d52ce3be-e76e-4b4b-8d00-c3c293db523d",
   "metadata": {},
   "outputs": [],
   "source": [
    "#| export\n",
    "def table_compare_latex(table, file, caption=\"\", label=\"\"):\n",
    "    styled = table.rename(index = renames_table_latex_stand).style.pipe(partial(style_the_table, cols=[0,2]))\n",
    "    latex = styled.to_latex(convert_css=True, hrules=True, clines=\"skip-last;data\",\n",
    "                            column_format=\"p{2.1cm}c|rr|rr|r\", caption=caption, label=label, position_float=\"centering\")\n",
    "    with open(file, 'w') as f:\n",
    "        f.write(latex)\n",
    "    return file"
   ]
  },
  {
   "cell_type": "markdown",
   "id": "5d5e3d40-71f3-47e1-ab17-f5ad6fa89520",
   "metadata": {},
   "source": [
    "### Table gap single"
   ]
  },
  {
   "cell_type": "code",
   "execution_count": null,
   "id": "73679538-c521-436d-b587-e8505126118a",
   "metadata": {},
   "outputs": [],
   "source": [
    "#| export\n",
    "def table_compare3(data, compare:str, y = 'rmse_stand', compare_ascending=True):\n",
    "    data = data.groupby([compare, 'var', 'gap_len']).agg({y: ['mean', 'std']}).unstack(level=0).droplevel(level=0, axis=1)\n",
    "    \n",
    "    data_cols = data.columns\n",
    "    data_cols.names = ['RMSE Standardized', compare]\n",
    "    data.index.names = [\"Variable\", \"Gap [$h$]\"]\n",
    "    return data.sort_index(axis=1, level=1, ascending=True).swaplevel(axis=1) "
   ]
  },
  {
   "cell_type": "code",
   "execution_count": null,
   "id": "51d890c4-a55b-442f-9f03-658a644e94f0",
   "metadata": {},
   "outputs": [],
   "source": [
    "#| export\n",
    "def table_compare3_latex(table, file, caption=\"\", label=\"\"):\n",
    "    styled = table.rename(index = renames_table_latex_stand).style.pipe(partial(style_the_table, cols=[0,2,4]))\n",
    "    latex = styled.to_latex(convert_css=True, hrules=True, clines=\"skip-last;data\",\n",
    "                            column_format=\"p{2.1cm}c|rr|rr|rr\", caption=caption, label=label, position_float=\"centering\")\n",
    "    with open(file, 'w') as f:\n",
    "        f.write(latex)\n",
    "    return file"
   ]
  },
  {
   "cell_type": "code",
   "execution_count": null,
   "id": "b633b9f4-8d66-46d2-a8b2-24a6d845e018",
   "metadata": {},
   "outputs": [],
   "source": []
  },
  {
   "cell_type": "markdown",
   "id": "27a03917-5f5e-4f37-9842-fbc5a4a2af2f",
   "metadata": {},
   "source": [
    "### Gap len table"
   ]
  },
  {
   "cell_type": "code",
   "execution_count": null,
   "id": "991c41f2-09fe-4c1a-a04e-1de77af2a4f5",
   "metadata": {},
   "outputs": [],
   "source": [
    "g = gap_len.groupby(['var', 'gap_len']).agg({'rmse': ['mean']})"
   ]
  },
  {
   "cell_type": "code",
   "execution_count": null,
   "id": "9c7f6696-0097-4960-a581-81028304ff7f",
   "metadata": {},
   "outputs": [],
   "source": [
    "g"
   ]
  },
  {
   "cell_type": "code",
   "execution_count": null,
   "id": "fa7d523d-b93a-4b10-bafb-de6b26afc419",
   "metadata": {},
   "outputs": [],
   "source": [
    "(g.droplevel(level=0, axis=1)\n",
    " .reset_index()\n",
    " .melt(id_vars=['var', 'gap_len'], var_name='rmse')\n",
    " .pivot(index = ['var', 'rmse'], columns=['gap_len'])\n",
    " .droplevel(level=0, axis=1)\n",
    ")"
   ]
  },
  {
   "cell_type": "code",
   "execution_count": null,
   "id": "b2ccfd83-39dd-4b61-86ec-4b1f69d19b6c",
   "metadata": {},
   "outputs": [],
   "source": [
    "g.columns "
   ]
  },
  {
   "cell_type": "code",
   "execution_count": null,
   "id": "644fd0d2-34c4-4884-b685-b911c104f918",
   "metadata": {},
   "outputs": [],
   "source": []
  },
  {
   "cell_type": "code",
   "execution_count": null,
   "id": "e9c4efc2-f96b-47af-95ad-5f2d6b57e3b4",
   "metadata": {},
   "outputs": [],
   "source": [
    "#| export\n",
    "def table_gap_len(data, y = 'rmse'):\n",
    "    t = (data\n",
    "         .groupby(['var', 'gap_len']).agg({y: ['mean', 'std']})\n",
    "        .droplevel(level=0, axis=1)\n",
    "         .reset_index()\n",
    "         .melt(id_vars=['var', 'gap_len'], var_name='rmse')\n",
    "         .pivot(index = ['var', y], columns=['gap_len'])\n",
    "         .droplevel(level=0, axis=1)\n",
    "        ) \n",
    "    \n",
    "    t.columns.names = [\"Gap [$h$]\"]\n",
    "    t.index.names = (\"Variable\", \"RMSE\")\n",
    "    \n",
    "    return t.sort_index(axis=1, level=1)"
   ]
  },
  {
   "cell_type": "code",
   "execution_count": null,
   "id": "b5174489-bf83-4b40-a70e-3c8177b8c28b",
   "metadata": {},
   "outputs": [
    {
     "ename": "NameError",
     "evalue": "name 'gap_len' is not defined",
     "output_type": "error",
     "traceback": [
      "\u001b[0;31m---------------------------------------------------------------------------\u001b[0m",
      "\u001b[0;31mNameError\u001b[0m                                 Traceback (most recent call last)",
      "Input \u001b[0;32mIn [2]\u001b[0m, in \u001b[0;36m<cell line: 1>\u001b[0;34m()\u001b[0m\n\u001b[0;32m----> 1\u001b[0m table_gap_len(\u001b[43mgap_len\u001b[49m)\n",
      "\u001b[0;31mNameError\u001b[0m: name 'gap_len' is not defined"
     ]
    }
   ],
   "source": [
    "table_gap_len(gap_len)"
   ]
  },
  {
   "cell_type": "code",
   "execution_count": null,
   "id": "3b92cc95-fde7-4363-9c26-8d3ad8ccafc1",
   "metadata": {},
   "outputs": [],
   "source": [
    "#| export\n",
    "def table_gap_len_latex(table, file, caption=\"\", label=\"\"):\n",
    "    table.columns = [f\"{col:.0f}\" for col in list(table.columns)]\n",
    "    styled = table.rename(index = renames_table_latex_stand).style.format(precision=3, na_rep='-')\n",
    "    table_cols = 'c' * len(table.columns)\n",
    "    latex = styled.to_latex(convert_css=True, hrules=True, clines=\"skip-last;data\",\n",
    "                            column_format=\"p{2.1cm}l|\" + table_cols, caption=caption, label=label, position_float=\"centering\")\n",
    "    with open(file, 'w') as f:\n",
    "        f.write(latex)\n",
    "    return file"
   ]
  },
  {
   "cell_type": "code",
   "execution_count": null,
   "id": "f943aead-e6fd-4881-acd3-4f88e9a40c50",
   "metadata": {},
   "outputs": [
    {
     "data": {
      "text/plain": [
       "['1', '3', '5', '7', '9', '11', '13']"
      ]
     },
     "execution_count": null,
     "metadata": {},
     "output_type": "execute_result"
    }
   ],
   "source": [
    "[f\"{col:.0f}\" for col in list(table_gap_len(gap_len).columns)]"
   ]
  },
  {
   "cell_type": "code",
   "execution_count": null,
   "id": "deafca3e-84c4-438d-9013-29eac6a6088d",
   "metadata": {},
   "outputs": [
    {
     "data": {
      "text/html": [
       "<style type=\"text/css\">\n",
       "#T_cf270_row0_col2, #T_cf270_row1_col0, #T_cf270_row3_col0 {\n",
       "  font-weight: bold;\n",
       "}\n",
       "</style>\n",
       "<table id=\"T_cf270\">\n",
       "  <thead>\n",
       "    <tr>\n",
       "      <th class=\"blank\" >&nbsp;</th>\n",
       "      <th class=\"blank level0\" >&nbsp;</th>\n",
       "      <th id=\"T_cf270_level0_col0\" class=\"col_heading level0 col0\" >1</th>\n",
       "      <th id=\"T_cf270_level0_col1\" class=\"col_heading level0 col1\" >3</th>\n",
       "      <th id=\"T_cf270_level0_col2\" class=\"col_heading level0 col2\" >5</th>\n",
       "      <th id=\"T_cf270_level0_col3\" class=\"col_heading level0 col3\" >7</th>\n",
       "      <th id=\"T_cf270_level0_col4\" class=\"col_heading level0 col4\" >9</th>\n",
       "      <th id=\"T_cf270_level0_col5\" class=\"col_heading level0 col5\" >11</th>\n",
       "      <th id=\"T_cf270_level0_col6\" class=\"col_heading level0 col6\" >13</th>\n",
       "    </tr>\n",
       "    <tr>\n",
       "      <th class=\"index_name level0\" >Variable</th>\n",
       "      <th class=\"index_name level1\" >RMSE</th>\n",
       "      <th class=\"blank col0\" >&nbsp;</th>\n",
       "      <th class=\"blank col1\" >&nbsp;</th>\n",
       "      <th class=\"blank col2\" >&nbsp;</th>\n",
       "      <th class=\"blank col3\" >&nbsp;</th>\n",
       "      <th class=\"blank col4\" >&nbsp;</th>\n",
       "      <th class=\"blank col5\" >&nbsp;</th>\n",
       "      <th class=\"blank col6\" >&nbsp;</th>\n",
       "    </tr>\n",
       "  </thead>\n",
       "  <tbody>\n",
       "    <tr>\n",
       "      <th id=\"T_cf270_level0_row0\" class=\"row_heading level0 row0\" >\\parbox{2.1cm}{\\textbf{TA} [\\si{°C}]}</th>\n",
       "      <th id=\"T_cf270_level1_row0\" class=\"row_heading level1 row0\" >mean</th>\n",
       "      <td id=\"T_cf270_row0_col0\" class=\"data row0 col0\" >1.452</td>\n",
       "      <td id=\"T_cf270_row0_col1\" class=\"data row0 col1\" >1.617</td>\n",
       "      <td id=\"T_cf270_row0_col2\" class=\"data row0 col2\" >1.169</td>\n",
       "      <td id=\"T_cf270_row0_col3\" class=\"data row0 col3\" >1.900</td>\n",
       "      <td id=\"T_cf270_row0_col4\" class=\"data row0 col4\" >1.600</td>\n",
       "      <td id=\"T_cf270_row0_col5\" class=\"data row0 col5\" >1.656</td>\n",
       "      <td id=\"T_cf270_row0_col6\" class=\"data row0 col6\" >0.980</td>\n",
       "    </tr>\n",
       "    <tr>\n",
       "      <th id=\"T_cf270_level0_row1\" class=\"row_heading level0 row1\" >\\parbox{2.1cm}{\\textbf{SW\\_IN} [\\si{W/m^2}]}</th>\n",
       "      <th id=\"T_cf270_level1_row1\" class=\"row_heading level1 row1\" >mean</th>\n",
       "      <td id=\"T_cf270_row1_col0\" class=\"data row1 col0\" >32.173</td>\n",
       "      <td id=\"T_cf270_row1_col1\" class=\"data row1 col1\" >47.047</td>\n",
       "      <td id=\"T_cf270_row1_col2\" class=\"data row1 col2\" >61.438</td>\n",
       "      <td id=\"T_cf270_row1_col3\" class=\"data row1 col3\" >33.085</td>\n",
       "      <td id=\"T_cf270_row1_col4\" class=\"data row1 col4\" >48.179</td>\n",
       "      <td id=\"T_cf270_row1_col5\" class=\"data row1 col5\" >40.442</td>\n",
       "      <td id=\"T_cf270_row1_col6\" class=\"data row1 col6\" >48.532</td>\n",
       "    </tr>\n",
       "    <tr>\n",
       "      <th id=\"T_cf270_level0_row2\" class=\"row_heading level0 row2\" >\\parbox{2.1cm}{\\textbf{LW\\_IN} [\\si{W/m^2}]}</th>\n",
       "      <th id=\"T_cf270_level1_row2\" class=\"row_heading level1 row2\" >mean</th>\n",
       "      <td id=\"T_cf270_row2_col0\" class=\"data row2 col0\" >-</td>\n",
       "      <td id=\"T_cf270_row2_col1\" class=\"data row2 col1\" >-</td>\n",
       "      <td id=\"T_cf270_row2_col2\" class=\"data row2 col2\" >-</td>\n",
       "      <td id=\"T_cf270_row2_col3\" class=\"data row2 col3\" >-</td>\n",
       "      <td id=\"T_cf270_row2_col4\" class=\"data row2 col4\" >-</td>\n",
       "      <td id=\"T_cf270_row2_col5\" class=\"data row2 col5\" >-</td>\n",
       "      <td id=\"T_cf270_row2_col6\" class=\"data row2 col6\" >-</td>\n",
       "    </tr>\n",
       "    <tr>\n",
       "      <th id=\"T_cf270_level0_row3\" class=\"row_heading level0 row3\" >\\parbox{2.1cm}{\\textbf{VPD} [\\si{hPa}]}</th>\n",
       "      <th id=\"T_cf270_level1_row3\" class=\"row_heading level1 row3\" >mean</th>\n",
       "      <td id=\"T_cf270_row3_col0\" class=\"data row3 col0\" >1.162</td>\n",
       "      <td id=\"T_cf270_row3_col1\" class=\"data row3 col1\" >0.725</td>\n",
       "      <td id=\"T_cf270_row3_col2\" class=\"data row3 col2\" >1.526</td>\n",
       "      <td id=\"T_cf270_row3_col3\" class=\"data row3 col3\" >1.711</td>\n",
       "      <td id=\"T_cf270_row3_col4\" class=\"data row3 col4\" >2.078</td>\n",
       "      <td id=\"T_cf270_row3_col5\" class=\"data row3 col5\" >1.284</td>\n",
       "      <td id=\"T_cf270_row3_col6\" class=\"data row3 col6\" >1.759</td>\n",
       "    </tr>\n",
       "    <tr>\n",
       "      <th id=\"T_cf270_level0_row4\" class=\"row_heading level0 row4\" >\\parbox{2.1cm}{\\textbf{WS} [\\si{m/s}]}</th>\n",
       "      <th id=\"T_cf270_level1_row4\" class=\"row_heading level1 row4\" >mean</th>\n",
       "      <td id=\"T_cf270_row4_col0\" class=\"data row4 col0\" >-</td>\n",
       "      <td id=\"T_cf270_row4_col1\" class=\"data row4 col1\" >-</td>\n",
       "      <td id=\"T_cf270_row4_col2\" class=\"data row4 col2\" >-</td>\n",
       "      <td id=\"T_cf270_row4_col3\" class=\"data row4 col3\" >-</td>\n",
       "      <td id=\"T_cf270_row4_col4\" class=\"data row4 col4\" >-</td>\n",
       "      <td id=\"T_cf270_row4_col5\" class=\"data row4 col5\" >-</td>\n",
       "      <td id=\"T_cf270_row4_col6\" class=\"data row4 col6\" >-</td>\n",
       "    </tr>\n",
       "    <tr>\n",
       "      <th id=\"T_cf270_level0_row5\" class=\"row_heading level0 row5\" >\\parbox{2.1cm}{\\textbf{PA} [\\si{hPa}]}</th>\n",
       "      <th id=\"T_cf270_level1_row5\" class=\"row_heading level1 row5\" >mean</th>\n",
       "      <td id=\"T_cf270_row5_col0\" class=\"data row5 col0\" >-</td>\n",
       "      <td id=\"T_cf270_row5_col1\" class=\"data row5 col1\" >-</td>\n",
       "      <td id=\"T_cf270_row5_col2\" class=\"data row5 col2\" >-</td>\n",
       "      <td id=\"T_cf270_row5_col3\" class=\"data row5 col3\" >-</td>\n",
       "      <td id=\"T_cf270_row5_col4\" class=\"data row5 col4\" >-</td>\n",
       "      <td id=\"T_cf270_row5_col5\" class=\"data row5 col5\" >-</td>\n",
       "      <td id=\"T_cf270_row5_col6\" class=\"data row5 col6\" >-</td>\n",
       "    </tr>\n",
       "    <tr>\n",
       "      <th id=\"T_cf270_level0_row6\" class=\"row_heading level0 row6\" >\\parbox{2.1cm}{\\textbf{P} [\\si{mm}]}</th>\n",
       "      <th id=\"T_cf270_level1_row6\" class=\"row_heading level1 row6\" >mean</th>\n",
       "      <td id=\"T_cf270_row6_col0\" class=\"data row6 col0\" >-</td>\n",
       "      <td id=\"T_cf270_row6_col1\" class=\"data row6 col1\" >-</td>\n",
       "      <td id=\"T_cf270_row6_col2\" class=\"data row6 col2\" >-</td>\n",
       "      <td id=\"T_cf270_row6_col3\" class=\"data row6 col3\" >-</td>\n",
       "      <td id=\"T_cf270_row6_col4\" class=\"data row6 col4\" >-</td>\n",
       "      <td id=\"T_cf270_row6_col5\" class=\"data row6 col5\" >-</td>\n",
       "      <td id=\"T_cf270_row6_col6\" class=\"data row6 col6\" >-</td>\n",
       "    </tr>\n",
       "    <tr>\n",
       "      <th id=\"T_cf270_level0_row7\" class=\"row_heading level0 row7\" >\\parbox{2.1cm}{\\textbf{SWC} [\\si{\\%}]}</th>\n",
       "      <th id=\"T_cf270_level1_row7\" class=\"row_heading level1 row7\" >mean</th>\n",
       "      <td id=\"T_cf270_row7_col0\" class=\"data row7 col0\" >-</td>\n",
       "      <td id=\"T_cf270_row7_col1\" class=\"data row7 col1\" >-</td>\n",
       "      <td id=\"T_cf270_row7_col2\" class=\"data row7 col2\" >-</td>\n",
       "      <td id=\"T_cf270_row7_col3\" class=\"data row7 col3\" >-</td>\n",
       "      <td id=\"T_cf270_row7_col4\" class=\"data row7 col4\" >-</td>\n",
       "      <td id=\"T_cf270_row7_col5\" class=\"data row7 col5\" >-</td>\n",
       "      <td id=\"T_cf270_row7_col6\" class=\"data row7 col6\" >-</td>\n",
       "    </tr>\n",
       "    <tr>\n",
       "      <th id=\"T_cf270_level0_row8\" class=\"row_heading level0 row8\" >\\parbox{2.1cm}{\\textbf{TS} [\\si{°C}]}</th>\n",
       "      <th id=\"T_cf270_level1_row8\" class=\"row_heading level1 row8\" >mean</th>\n",
       "      <td id=\"T_cf270_row8_col0\" class=\"data row8 col0\" >-</td>\n",
       "      <td id=\"T_cf270_row8_col1\" class=\"data row8 col1\" >-</td>\n",
       "      <td id=\"T_cf270_row8_col2\" class=\"data row8 col2\" >-</td>\n",
       "      <td id=\"T_cf270_row8_col3\" class=\"data row8 col3\" >-</td>\n",
       "      <td id=\"T_cf270_row8_col4\" class=\"data row8 col4\" >-</td>\n",
       "      <td id=\"T_cf270_row8_col5\" class=\"data row8 col5\" >-</td>\n",
       "      <td id=\"T_cf270_row8_col6\" class=\"data row8 col6\" >-</td>\n",
       "    </tr>\n",
       "  </tbody>\n",
       "</table>\n"
      ],
      "text/plain": [
       "<pandas.io.formats.style.Styler>"
      ]
     },
     "execution_count": null,
     "metadata": {},
     "output_type": "execute_result"
    }
   ],
   "source": [
    "table_gap_len_latex(table_gap_len(gap_len), \"\")"
   ]
  },
  {
   "cell_type": "code",
   "execution_count": null,
   "id": "067ae3d9-d072-49d3-abda-a780f73b3dcd",
   "metadata": {},
   "outputs": [],
   "source": []
  }
 ],
 "metadata": {
  "kernelspec": {
   "display_name": "data_science",
   "language": "python",
   "name": "data_science"
  }
 },
 "nbformat": 4,
 "nbformat_minor": 5
}
