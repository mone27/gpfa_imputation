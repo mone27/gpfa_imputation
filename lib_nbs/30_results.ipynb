{
 "cells": [
  {
   "cell_type": "markdown",
   "id": "7282ac57-cfb8-4bfa-b570-3c7939355edf",
   "metadata": {},
   "source": [
    "# Results\n",
    "> code for plotting results and comparing with MDS and ERA gap filling"
   ]
  },
  {
   "cell_type": "code",
   "execution_count": null,
   "id": "524ee392-eedb-491e-a983-e4c3bc78b6fb",
   "metadata": {},
   "outputs": [],
   "source": [
    "#| hide\n",
    "#| default_exp kalman.results"
   ]
  },
  {
   "cell_type": "code",
   "execution_count": null,
   "id": "0af65d6f-ec5a-4365-9145-52c42221f4fa",
   "metadata": {},
   "outputs": [],
   "source": [
    "%load_ext autoreload\n",
    "%autoreload 2"
   ]
  },
  {
   "cell_type": "code",
   "execution_count": null,
   "id": "068708d3-b9d4-41d6-ad07-31d175379c63",
   "metadata": {},
   "outputs": [],
   "source": [
    "import altair as alt"
   ]
  },
  {
   "cell_type": "code",
   "execution_count": null,
   "id": "944f5ec0-bea6-415b-b896-50a2c8992d7a",
   "metadata": {},
   "outputs": [],
   "source": [
    "import altair"
   ]
  },
  {
   "cell_type": "code",
   "execution_count": null,
   "id": "8223d7fb-4f51-4170-a7bf-9bdac1bba2c2",
   "metadata": {},
   "outputs": [],
   "source": [
    "#| export\n",
    "from fastcore.test import *\n",
    "from fastcore.basics import *\n",
    "from meteo_imp.utils import *\n",
    "from meteo_imp.gaussian import *\n",
    "from meteo_imp.data_preparation import MeteoDataTest\n",
    "from meteo_imp.kalman.filter import *\n",
    "from meteo_imp.kalman.filter import get_test_data\n",
    "from meteo_imp.data import *\n",
    "from meteo_imp.kalman.fastai import *\n",
    "from meteo_imp.kalman.fastai import _n_tuple\n",
    "from fastcore.transform import *\n",
    "from fastai.learner import *\n",
    "from pyprojroot import here\n",
    "\n",
    "import pykalman\n",
    "from typing import *\n",
    "\n",
    "import numpy as np\n",
    "import pandas as pd\n",
    "from pandas.api.types import CategoricalDtype\n",
    "import torch\n",
    "from torch import Tensor\n",
    "from torch.distributions import MultivariateNormal\n",
    "\n",
    "from timeit import timeit\n",
    "import polars as pl\n",
    "import altair as alt\n",
    "\n",
    "from tqdm.auto import tqdm\n",
    "\n",
    "import io\n",
    "from contextlib import redirect_stderr\n",
    "import random\n",
    "\n",
    "from dataclasses import dataclass\n",
    "from functools import partial\n",
    "from itertools import zip_longest"
   ]
  },
  {
   "cell_type": "markdown",
   "id": "2747b923-e9c8-470d-b5e1-67e618855a4d",
   "metadata": {},
   "source": [
    "load data for testing"
   ]
  },
  {
   "cell_type": "code",
   "execution_count": null,
   "id": "a3ae4d31-d44b-4ffd-8781-98fabe1ca7c6",
   "metadata": {},
   "outputs": [],
   "source": [
    "reset_seed()"
   ]
  },
  {
   "cell_type": "code",
   "execution_count": null,
   "id": "bb5bd0dc-fcc8-4758-8503-44c6a89af6bf",
   "metadata": {},
   "outputs": [],
   "source": [
    "hai = pd.read_parquet(hai_big_path)\n",
    "hai_era = pd.read_parquet(hai_era_big_path)"
   ]
  },
  {
   "cell_type": "code",
   "execution_count": null,
   "id": "620424c0-b449-44c0-a137-d495e7d35423",
   "metadata": {},
   "outputs": [],
   "source": [
    "dls = imp_dataloader(hai, hai_era, var_sel = 'TA', gap_len=5, block_len=100, control_lags = [1], n_rep=1, bs=1).cpu()"
   ]
  },
  {
   "cell_type": "code",
   "execution_count": null,
   "id": "130633f8-2f43-4b1a-bb12-6d768d384c7d",
   "metadata": {},
   "outputs": [],
   "source": [
    "item = MeteoImpItem(1,2, 'TA', gap_len=10)\n",
    "items = [item]"
   ]
  },
  {
   "cell_type": "code",
   "execution_count": null,
   "id": "24aeb4ac-4369-4536-bcf7-4b957c845128",
   "metadata": {},
   "outputs": [],
   "source": [
    "targ = orig_target(dls, items)[0]"
   ]
  },
  {
   "cell_type": "code",
   "execution_count": null,
   "id": "19a4caf9-96a2-45cd-8db5-99dd7c89c4c9",
   "metadata": {},
   "outputs": [],
   "source": [
    "input, _ = one_batch_with_items(dls, items)"
   ]
  },
  {
   "cell_type": "markdown",
   "id": "e384bd59-b0ab-4242-85df-38aacf147ada",
   "metadata": {},
   "source": [
    "## Imputation Methods"
   ]
  },
  {
   "cell_type": "markdown",
   "id": "c5750314-e727-43d6-bf1c-e53930550246",
   "metadata": {},
   "source": [
    "### Kalman Filter\n",
    "\n",
    "take a `MeteoImp Df` and gap fill it using the given model"
   ]
  },
  {
   "cell_type": "code",
   "execution_count": null,
   "id": "a75a4363-67cc-4e07-afaf-c2e53afa090f",
   "metadata": {},
   "outputs": [],
   "source": [
    "model = torch.load(here(\"analysis/results/trained_3_feb_TA_gap_5_v3.pickle\"))"
   ]
  },
  {
   "cell_type": "code",
   "execution_count": null,
   "id": "62e0e07e-9b9e-4808-bebc-182f2e971897",
   "metadata": {},
   "outputs": [],
   "source": [
    "preds, targs = predict_items(model, dls=dls, items = items)\n",
    "preds[0].mean[targs[0].mask] = targs[0].data[targs[0].mask]"
   ]
  },
  {
   "cell_type": "markdown",
   "id": "39477d7b-a0ba-44b9-82d2-66f0a7022609",
   "metadata": {},
   "source": [
    "#### KalmanImputation"
   ]
  },
  {
   "cell_type": "code",
   "execution_count": null,
   "id": "fc0ad7e7-973c-4ed6-a7bb-18fa470a3262",
   "metadata": {},
   "outputs": [
    {
     "data": {
      "text/plain": [
       "<function meteo_imp.kalman.fastai._n_tuple(x, n, unsqueeze=True)>"
      ]
     },
     "execution_count": null,
     "metadata": {},
     "output_type": "execute_result"
    }
   ],
   "source": [
    "_n_tuple"
   ]
  },
  {
   "cell_type": "code",
   "execution_count": null,
   "id": "14acb19f-5c4b-456c-87ca-47056713acef",
   "metadata": {},
   "outputs": [
    {
     "data": {
      "text/plain": [
       "torch.Size([1, 100, 7])"
      ]
     },
     "execution_count": null,
     "metadata": {},
     "output_type": "execute_result"
    }
   ],
   "source": [
    "input[1].shape"
   ]
  },
  {
   "cell_type": "code",
   "execution_count": null,
   "id": "c7c1c382-8b7d-4e55-be61-8b532d8b1a49",
   "metadata": {},
   "outputs": [],
   "source": [
    "preds_raw = model(input)"
   ]
  },
  {
   "cell_type": "code",
   "execution_count": null,
   "id": "289fbd87-a633-4838-80a0-1e7061ada19c",
   "metadata": {},
   "outputs": [
    {
     "data": {
      "text/plain": [
       "10"
      ]
     },
     "execution_count": null,
     "metadata": {},
     "output_type": "execute_result"
    }
   ],
   "source": [
    "len(preds_raw.mean[0])"
   ]
  },
  {
   "cell_type": "code",
   "execution_count": null,
   "id": "cd58fc7b-14a8-4241-b711-b703ddc56053",
   "metadata": {},
   "outputs": [],
   "source": [
    "#| export\n",
    "def _extract_var(preds, var_idx, max_len):\n",
    "    \"extract prediction only from one var\"\n",
    "    preds_new = []\n",
    "    for b_pred in preds:\n",
    "        b_pred_new = []\n",
    "        for pred in b_pred:\n",
    "            if len(pred) == 1: pred_new = pred\n",
    "            elif len(pred) == max_len: pred_new = pred[var_idx:var_idx+1] if pred.dim() == 1 else pred[var_idx:var_idx+1, var_idx:var_idx+1]\n",
    "            else: raise ValueError(\"supports only gaps for 1 or all variables\")\n",
    "            b_pred_new.append(pred_new)\n",
    "        preds_new.append(b_pred_new)\n",
    "    return preds_new\n",
    "         "
   ]
  },
  {
   "cell_type": "code",
   "execution_count": null,
   "id": "dfc8b120-3784-4d8c-b40b-09f80c998b0f",
   "metadata": {},
   "outputs": [
    {
     "data": {
      "text/plain": [
       "[[tensor([-0.7651], dtype=torch.float64, grad_fn=<IndexBackward0>),\n",
       "  tensor([-0.7536], dtype=torch.float64, grad_fn=<IndexBackward0>),\n",
       "  tensor([-0.7642], dtype=torch.float64, grad_fn=<IndexBackward0>),\n",
       "  tensor([-0.7819], dtype=torch.float64, grad_fn=<IndexBackward0>),\n",
       "  tensor([-0.7939], dtype=torch.float64, grad_fn=<IndexBackward0>),\n",
       "  tensor([-0.7920], dtype=torch.float64, grad_fn=<IndexBackward0>),\n",
       "  tensor([-0.7896], dtype=torch.float64, grad_fn=<IndexBackward0>),\n",
       "  tensor([-0.7849], dtype=torch.float64, grad_fn=<IndexBackward0>),\n",
       "  tensor([-0.7896], dtype=torch.float64, grad_fn=<IndexBackward0>),\n",
       "  tensor([-0.7914], dtype=torch.float64, grad_fn=<IndexBackward0>)]]"
      ]
     },
     "execution_count": null,
     "metadata": {},
     "output_type": "execute_result"
    }
   ],
   "source": [
    "_extract_var(preds_raw.mean, 1, 7)"
   ]
  },
  {
   "cell_type": "code",
   "execution_count": null,
   "id": "c27bc192-1b5a-4296-8056-ecae7867cad8",
   "metadata": {},
   "outputs": [
    {
     "data": {
      "text/plain": [
       "[[tensor([[0.0023]], dtype=torch.float64, grad_fn=<IndexBackward0>),\n",
       "  tensor([[0.0026]], dtype=torch.float64, grad_fn=<IndexBackward0>),\n",
       "  tensor([[0.0028]], dtype=torch.float64, grad_fn=<IndexBackward0>),\n",
       "  tensor([[0.0030]], dtype=torch.float64, grad_fn=<IndexBackward0>),\n",
       "  tensor([[0.0032]], dtype=torch.float64, grad_fn=<IndexBackward0>),\n",
       "  tensor([[0.0031]], dtype=torch.float64, grad_fn=<IndexBackward0>),\n",
       "  tensor([[0.0030]], dtype=torch.float64, grad_fn=<IndexBackward0>),\n",
       "  tensor([[0.0027]], dtype=torch.float64, grad_fn=<IndexBackward0>),\n",
       "  tensor([[0.0024]], dtype=torch.float64, grad_fn=<IndexBackward0>),\n",
       "  tensor([[0.0022]], dtype=torch.float64, grad_fn=<IndexBackward0>)]]"
      ]
     },
     "execution_count": null,
     "metadata": {},
     "output_type": "execute_result"
    }
   ],
   "source": [
    "_extract_var(preds_raw.cov, 1, 7)"
   ]
  },
  {
   "cell_type": "code",
   "execution_count": null,
   "id": "3333b9fd-490f-40ce-99d0-33228b2603bb",
   "metadata": {},
   "outputs": [],
   "source": [
    "items_all = [MeteoImpItem(1,2, list(hai.columns), gap_len=3)] * 3"
   ]
  },
  {
   "cell_type": "code",
   "execution_count": null,
   "id": "199ced43-4ebf-43b9-bd38-3e93349e0826",
   "metadata": {},
   "outputs": [],
   "source": [
    "input_all, _ = one_batch_with_items(dls, items_all)"
   ]
  },
  {
   "cell_type": "code",
   "execution_count": null,
   "id": "b19b6a6a-dbba-46ea-8a89-1ef5f936b00a",
   "metadata": {},
   "outputs": [],
   "source": [
    "preds_raw_all = model(input_all)"
   ]
  },
  {
   "cell_type": "code",
   "execution_count": null,
   "id": "0b06b23d-124c-40d0-a1fc-05e9923cf92e",
   "metadata": {},
   "outputs": [
    {
     "data": {
      "text/plain": [
       "[[tensor([-0.2380], dtype=torch.float64, grad_fn=<SliceBackward0>),\n",
       "  tensor([-0.3759], dtype=torch.float64, grad_fn=<SliceBackward0>),\n",
       "  tensor([-0.1551], dtype=torch.float64, grad_fn=<SliceBackward0>)],\n",
       " [tensor([-0.2380], dtype=torch.float64, grad_fn=<SliceBackward0>),\n",
       "  tensor([-0.3759], dtype=torch.float64, grad_fn=<SliceBackward0>),\n",
       "  tensor([-0.1551], dtype=torch.float64, grad_fn=<SliceBackward0>)],\n",
       " [tensor([-0.2380], dtype=torch.float64, grad_fn=<SliceBackward0>),\n",
       "  tensor([-0.3759], dtype=torch.float64, grad_fn=<SliceBackward0>),\n",
       "  tensor([-0.1551], dtype=torch.float64, grad_fn=<SliceBackward0>)]]"
      ]
     },
     "execution_count": null,
     "metadata": {},
     "output_type": "execute_result"
    }
   ],
   "source": [
    "_extract_var(preds_raw_all.mean, 3, 7)"
   ]
  },
  {
   "cell_type": "code",
   "execution_count": null,
   "id": "2ece5d37-4c76-4b59-84c3-bc2495d36eb7",
   "metadata": {},
   "outputs": [
    {
     "data": {
      "text/plain": [
       "torch.Size([3, 100, 7])"
      ]
     },
     "execution_count": null,
     "metadata": {},
     "output_type": "execute_result"
    }
   ],
   "source": [
    "buffer_pred(preds_raw_all.mean, input_all[1]).shape"
   ]
  },
  {
   "cell_type": "code",
   "execution_count": null,
   "id": "6e50161d-29ec-46bb-9204-22347fde6afe",
   "metadata": {},
   "outputs": [
    {
     "data": {
      "text/plain": [
       "[[tensor([[0.3465]], dtype=torch.float64, grad_fn=<SliceBackward0>),\n",
       "  tensor([[0.4154]], dtype=torch.float64, grad_fn=<SliceBackward0>),\n",
       "  tensor([[0.3706]], dtype=torch.float64, grad_fn=<SliceBackward0>)],\n",
       " [tensor([[0.3465]], dtype=torch.float64, grad_fn=<SliceBackward0>),\n",
       "  tensor([[0.4154]], dtype=torch.float64, grad_fn=<SliceBackward0>),\n",
       "  tensor([[0.3706]], dtype=torch.float64, grad_fn=<SliceBackward0>)],\n",
       " [tensor([[0.3465]], dtype=torch.float64, grad_fn=<SliceBackward0>),\n",
       "  tensor([[0.4154]], dtype=torch.float64, grad_fn=<SliceBackward0>),\n",
       "  tensor([[0.3706]], dtype=torch.float64, grad_fn=<SliceBackward0>)]]"
      ]
     },
     "execution_count": null,
     "metadata": {},
     "output_type": "execute_result"
    }
   ],
   "source": [
    "_extract_var(preds_raw_all.cov, 3, 7)"
   ]
  },
  {
   "cell_type": "code",
   "execution_count": null,
   "id": "4ff0b51c-7ff4-43f1-ab51-0a708e45be1e",
   "metadata": {},
   "outputs": [],
   "source": [
    "#| export\n",
    "class PredictLossVar:\n",
    "    \"\"\"loss (negative log likelihood) for only for one variable for each batch\"\"\"\n",
    "    def __init__(self, only_gap:bool, var: int):\n",
    "        self.loss_func = KalmanLoss(only_gap)\n",
    "        self.var = var\n",
    "    def __call__(self, preds, targs):\n",
    "        sel_idx = [idx for idx in range(targs[1].shape[-1]) if idx != self.var]\n",
    "        mask_new = targs[1].clone()\n",
    "        mask_new[:, :, sel_idx] = True # make all other variables present\n",
    "        targs_new = (targs[0], mask_new, targs[2])\n",
    "        preds_new = (_extract_var(preds.mean, self.var, targs[1].shape[-1]), _extract_var(preds.cov, self.var, targs[1].shape[-1])) \n",
    "        # return preds_new\n",
    "        # return self.loss_func(preds_new, targs_new)\n",
    "        losses = []\n",
    "        for i in range(len(preds_new[0])):\n",
    "            losses.append(self.loss_func(_n_tuple(preds_new, i), _n_tuple(targs_new, i)))\n",
    "        return losses"
   ]
  },
  {
   "cell_type": "code",
   "execution_count": null,
   "id": "c125befb-d2d1-40fb-a1bc-f661fd7c40e8",
   "metadata": {},
   "outputs": [
    {
     "data": {
      "text/plain": [
       "[tensor(2.8207, dtype=torch.float64, grad_fn=<MeanBackward0>),\n",
       " tensor(2.8207, dtype=torch.float64, grad_fn=<MeanBackward0>),\n",
       " tensor(2.8207, dtype=torch.float64, grad_fn=<MeanBackward0>)]"
      ]
     },
     "execution_count": null,
     "metadata": {},
     "output_type": "execute_result"
    }
   ],
   "source": [
    "PredictLossVar(True, 3)(preds_raw_all, input_all)"
   ]
  },
  {
   "cell_type": "code",
   "execution_count": null,
   "id": "f1a3520e-00f8-432e-aa00-2015e7da4090",
   "metadata": {},
   "outputs": [
    {
     "data": {
      "text/plain": [
       "torch.Size([3, 100, 7])"
      ]
     },
     "execution_count": null,
     "metadata": {},
     "output_type": "execute_result"
    }
   ],
   "source": [
    "input_all[1].shape"
   ]
  },
  {
   "cell_type": "code",
   "execution_count": null,
   "id": "630cf2c5-ce67-494b-b0e1-7b789421322c",
   "metadata": {},
   "outputs": [],
   "source": [
    "#| export\n",
    "class PredictLikelihoodVar:\n",
    "    \"\"\"mean between timesteps of Likelihood for only for one variable for each batch\"\"\"\n",
    "    def __init__(self, only_gap:bool, var: int):\n",
    "        self.loss_func = KalmanLoss(only_gap, reduction_inbatch='none', reduction = 'none')\n",
    "        self.var = var\n",
    "    def __call__(self, preds, targs):\n",
    "        sel_idx = [idx for idx in range(targs[1].shape[-1]) if idx != self.var]\n",
    "        mask_new = targs[1].clone()\n",
    "        mask_new[:, :, sel_idx] = True # make all other variables present\n",
    "        targs_new = (targs[0], mask_new, targs[2])\n",
    "        preds_new = (_extract_var(preds.mean, self.var, targs[1].shape[-1]), _extract_var(preds.cov, self.var, targs[1].shape[-1])) \n",
    "        # return preds_new\n",
    "        # return self.loss_func(preds_new, targs_new)\n",
    "        likelihoods = []\n",
    "        for i in range(len(preds_new[0])):\n",
    "            loss = self.loss_func(_n_tuple(preds_new, i), _n_tuple(targs_new, i))[0]\n",
    "            lh = (torch.exp(-loss[0])).mean()\n",
    "            likelihoods.append(lh)\n",
    "        return likelihoods"
   ]
  },
  {
   "cell_type": "code",
   "execution_count": null,
   "id": "d2ae5947-be32-4312-8601-808575ce72a9",
   "metadata": {},
   "outputs": [
    {
     "data": {
      "text/plain": [
       "[tensor(0.3884, dtype=torch.float64, grad_fn=<MeanBackward0>),\n",
       " tensor(0.3884, dtype=torch.float64, grad_fn=<MeanBackward0>),\n",
       " tensor(0.3884, dtype=torch.float64, grad_fn=<MeanBackward0>)]"
      ]
     },
     "execution_count": null,
     "metadata": {},
     "output_type": "execute_result"
    }
   ],
   "source": [
    "PredictLikelihoodVar(True, 3)(preds_raw_all, input_all)"
   ]
  },
  {
   "cell_type": "code",
   "execution_count": null,
   "id": "0b443cb4-a2e6-4c7d-9dc2-79f8cb554d36",
   "metadata": {},
   "outputs": [],
   "source": [
    "#| export\n",
    "class MultiMetrics():\n",
    "    def __init__(self, **metrics): self.metrics = metrics\n",
    "    def __call__(self, preds, targs): return {name: metric(preds, targs) for name, metric in self.metrics.items()}"
   ]
  },
  {
   "cell_type": "code",
   "execution_count": null,
   "id": "ec22b1cf-d9a4-4da6-9d2e-af44860cc269",
   "metadata": {},
   "outputs": [],
   "source": [
    "#| export\n",
    "class KalmanImputation:\n",
    "    name = \"KalmanFilter\"\n",
    "    def __init__(self, model): store_attr()\n",
    "    def __call__(self, item, dls):\n",
    "        pred, targ = predict_items(self.model, dls=dls, items = [item])\n",
    "        pred[0].mean[targ[0].mask] = targ[0].data[targ[0].mask]\n",
    "        return pred[0].mean\n",
    "    def preds_all(self, items, dls):\n",
    "        return predict_items(self.model, dls=dls, items = items)\n",
    "    def preds_all_loss(self, items, dls, var):\n",
    "        return predict_items(self.model, dls=dls, items = items, metric_fn = PredictLossVar(only_gap=self.model.pred_only_gap, var = var))\n",
    "    def preds_all_metrics(self, items, dls, metrics):\n",
    "        return predict_items(self.model, dls=dls, items = items, metric_fn = metrics)"
   ]
  },
  {
   "cell_type": "code",
   "execution_count": null,
   "id": "ddc9d6dc-6daf-4190-a500-5724765f2ef6",
   "metadata": {},
   "outputs": [],
   "source": [
    "k_imp = KalmanImputation(model)"
   ]
  },
  {
   "cell_type": "code",
   "execution_count": null,
   "id": "ce04cc7d-73c8-44b6-8863-0b70dba7832e",
   "metadata": {},
   "outputs": [],
   "source": [
    "pred = k_imp(item, dls=dls)"
   ]
  },
  {
   "cell_type": "code",
   "execution_count": null,
   "id": "4c4559d1-0a8b-4e19-becb-33b8a7b0a1b8",
   "metadata": {},
   "outputs": [
    {
     "data": {
      "text/html": [
       "<p style='font-size: 1.5rem; font-decoration: bold'><p><div style=\"display: flex; column-gap: 20px; flex-wrap: wrap;\" class='table table-striped table-sm'> <div> <p style='font-size: 1.3rem;'>pred</p> <style type=\"text/css\">\n",
       "</style>\n",
       "<table id=\"T_e1a4b\">\n",
       "  <thead>\n",
       "    <tr>\n",
       "      <th class=\"blank level0\" >&nbsp;</th>\n",
       "      <th id=\"T_e1a4b_level0_col0\" class=\"col_heading level0 col0\" >TA</th>\n",
       "      <th id=\"T_e1a4b_level0_col1\" class=\"col_heading level0 col1\" >SW_IN</th>\n",
       "      <th id=\"T_e1a4b_level0_col2\" class=\"col_heading level0 col2\" >VPD</th>\n",
       "      <th id=\"T_e1a4b_level0_col3\" class=\"col_heading level0 col3\" >PA</th>\n",
       "      <th id=\"T_e1a4b_level0_col4\" class=\"col_heading level0 col4\" >P</th>\n",
       "      <th id=\"T_e1a4b_level0_col5\" class=\"col_heading level0 col5\" >WS</th>\n",
       "      <th id=\"T_e1a4b_level0_col6\" class=\"col_heading level0 col6\" >LW_IN</th>\n",
       "    </tr>\n",
       "    <tr>\n",
       "      <th class=\"index_name level0\" >time</th>\n",
       "      <th class=\"blank col0\" >&nbsp;</th>\n",
       "      <th class=\"blank col1\" >&nbsp;</th>\n",
       "      <th class=\"blank col2\" >&nbsp;</th>\n",
       "      <th class=\"blank col3\" >&nbsp;</th>\n",
       "      <th class=\"blank col4\" >&nbsp;</th>\n",
       "      <th class=\"blank col5\" >&nbsp;</th>\n",
       "      <th class=\"blank col6\" >&nbsp;</th>\n",
       "    </tr>\n",
       "  </thead>\n",
       "  <tbody>\n",
       "    <tr>\n",
       "      <th id=\"T_e1a4b_level0_row0\" class=\"row_heading level0 row0\" >2000-01-04 02:30:00</th>\n",
       "      <td id=\"T_e1a4b_row0_col0\" class=\"data row0 col0\" >2.1900</td>\n",
       "      <td id=\"T_e1a4b_row0_col1\" class=\"data row0 col1\" >0.0000</td>\n",
       "      <td id=\"T_e1a4b_row0_col2\" class=\"data row0 col2\" >0.9520</td>\n",
       "      <td id=\"T_e1a4b_row0_col3\" class=\"data row0 col3\" >96.3000</td>\n",
       "      <td id=\"T_e1a4b_row0_col4\" class=\"data row0 col4\" >0.0000</td>\n",
       "      <td id=\"T_e1a4b_row0_col5\" class=\"data row0 col5\" >5.3900</td>\n",
       "      <td id=\"T_e1a4b_row0_col6\" class=\"data row0 col6\" >304.7310</td>\n",
       "    </tr>\n",
       "    <tr>\n",
       "      <th id=\"T_e1a4b_level0_row1\" class=\"row_heading level0 row1\" >2000-01-04 03:00:00</th>\n",
       "      <td id=\"T_e1a4b_row1_col0\" class=\"data row1 col0\" >2.2700</td>\n",
       "      <td id=\"T_e1a4b_row1_col1\" class=\"data row1 col1\" >0.0000</td>\n",
       "      <td id=\"T_e1a4b_row1_col2\" class=\"data row1 col2\" >0.9710</td>\n",
       "      <td id=\"T_e1a4b_row1_col3\" class=\"data row1 col3\" >96.3000</td>\n",
       "      <td id=\"T_e1a4b_row1_col4\" class=\"data row1 col4\" >0.0000</td>\n",
       "      <td id=\"T_e1a4b_row1_col5\" class=\"data row1 col5\" >5.5900</td>\n",
       "      <td id=\"T_e1a4b_row1_col6\" class=\"data row1 col6\" >304.7310</td>\n",
       "    </tr>\n",
       "    <tr>\n",
       "      <th id=\"T_e1a4b_level0_row2\" class=\"row_heading level0 row2\" >2000-01-04 03:30:00</th>\n",
       "      <td id=\"T_e1a4b_row2_col0\" class=\"data row2 col0\" >2.2709</td>\n",
       "      <td id=\"T_e1a4b_row2_col1\" class=\"data row2 col1\" >0.0000</td>\n",
       "      <td id=\"T_e1a4b_row2_col2\" class=\"data row2 col2\" >0.9580</td>\n",
       "      <td id=\"T_e1a4b_row2_col3\" class=\"data row2 col3\" >96.2900</td>\n",
       "      <td id=\"T_e1a4b_row2_col4\" class=\"data row2 col4\" >0.0000</td>\n",
       "      <td id=\"T_e1a4b_row2_col5\" class=\"data row2 col5\" >5.6700</td>\n",
       "      <td id=\"T_e1a4b_row2_col6\" class=\"data row2 col6\" >304.7310</td>\n",
       "    </tr>\n",
       "    <tr>\n",
       "      <th id=\"T_e1a4b_level0_row3\" class=\"row_heading level0 row3\" >2000-01-04 04:00:00</th>\n",
       "      <td id=\"T_e1a4b_row3_col0\" class=\"data row3 col0\" >2.3617</td>\n",
       "      <td id=\"T_e1a4b_row3_col1\" class=\"data row3 col1\" >0.0000</td>\n",
       "      <td id=\"T_e1a4b_row3_col2\" class=\"data row3 col2\" >0.9380</td>\n",
       "      <td id=\"T_e1a4b_row3_col3\" class=\"data row3 col3\" >96.2600</td>\n",
       "      <td id=\"T_e1a4b_row3_col4\" class=\"data row3 col4\" >0.0000</td>\n",
       "      <td id=\"T_e1a4b_row3_col5\" class=\"data row3 col5\" >6.6100</td>\n",
       "      <td id=\"T_e1a4b_row3_col6\" class=\"data row3 col6\" >304.7310</td>\n",
       "    </tr>\n",
       "    <tr>\n",
       "      <th id=\"T_e1a4b_level0_row4\" class=\"row_heading level0 row4\" >2000-01-04 04:30:00</th>\n",
       "      <td id=\"T_e1a4b_row4_col0\" class=\"data row4 col0\" >2.2777</td>\n",
       "      <td id=\"T_e1a4b_row4_col1\" class=\"data row4 col1\" >0.0000</td>\n",
       "      <td id=\"T_e1a4b_row4_col2\" class=\"data row4 col2\" >0.7850</td>\n",
       "      <td id=\"T_e1a4b_row4_col3\" class=\"data row4 col3\" >96.2600</td>\n",
       "      <td id=\"T_e1a4b_row4_col4\" class=\"data row4 col4\" >0.0000</td>\n",
       "      <td id=\"T_e1a4b_row4_col5\" class=\"data row4 col5\" >6.6500</td>\n",
       "      <td id=\"T_e1a4b_row4_col6\" class=\"data row4 col6\" >315.0050</td>\n",
       "    </tr>\n",
       "    <tr>\n",
       "      <th id=\"T_e1a4b_level0_row5\" class=\"row_heading level0 row5\" >2000-01-04 05:00:00</th>\n",
       "      <td id=\"T_e1a4b_row5_col0\" class=\"data row5 col0\" >2.1375</td>\n",
       "      <td id=\"T_e1a4b_row5_col1\" class=\"data row5 col1\" >0.0000</td>\n",
       "      <td id=\"T_e1a4b_row5_col2\" class=\"data row5 col2\" >0.5290</td>\n",
       "      <td id=\"T_e1a4b_row5_col3\" class=\"data row5 col3\" >96.2700</td>\n",
       "      <td id=\"T_e1a4b_row5_col4\" class=\"data row5 col4\" >0.0000</td>\n",
       "      <td id=\"T_e1a4b_row5_col5\" class=\"data row5 col5\" >6.1200</td>\n",
       "      <td id=\"T_e1a4b_row5_col6\" class=\"data row5 col6\" >315.0050</td>\n",
       "    </tr>\n",
       "    <tr>\n",
       "      <th id=\"T_e1a4b_level0_row6\" class=\"row_heading level0 row6\" >2000-01-04 05:30:00</th>\n",
       "      <td id=\"T_e1a4b_row6_col0\" class=\"data row6 col0\" >2.0426</td>\n",
       "      <td id=\"T_e1a4b_row6_col1\" class=\"data row6 col1\" >0.0000</td>\n",
       "      <td id=\"T_e1a4b_row6_col2\" class=\"data row6 col2\" >0.4500</td>\n",
       "      <td id=\"T_e1a4b_row6_col3\" class=\"data row6 col3\" >96.2600</td>\n",
       "      <td id=\"T_e1a4b_row6_col4\" class=\"data row6 col4\" >0.2900</td>\n",
       "      <td id=\"T_e1a4b_row6_col5\" class=\"data row6 col5\" >5.5800</td>\n",
       "      <td id=\"T_e1a4b_row6_col6\" class=\"data row6 col6\" >315.0050</td>\n",
       "    </tr>\n",
       "    <tr>\n",
       "      <th id=\"T_e1a4b_level0_row7\" class=\"row_heading level0 row7\" >2000-01-04 06:00:00</th>\n",
       "      <td id=\"T_e1a4b_row7_col0\" class=\"data row7 col0\" >2.0579</td>\n",
       "      <td id=\"T_e1a4b_row7_col1\" class=\"data row7 col1\" >0.0000</td>\n",
       "      <td id=\"T_e1a4b_row7_col2\" class=\"data row7 col2\" >0.4990</td>\n",
       "      <td id=\"T_e1a4b_row7_col3\" class=\"data row7 col3\" >96.2500</td>\n",
       "      <td id=\"T_e1a4b_row7_col4\" class=\"data row7 col4\" >0.0000</td>\n",
       "      <td id=\"T_e1a4b_row7_col5\" class=\"data row7 col5\" >4.7000</td>\n",
       "      <td id=\"T_e1a4b_row7_col6\" class=\"data row7 col6\" >315.0050</td>\n",
       "    </tr>\n",
       "    <tr>\n",
       "      <th id=\"T_e1a4b_level0_row8\" class=\"row_heading level0 row8\" >2000-01-04 06:30:00</th>\n",
       "      <td id=\"T_e1a4b_row8_col0\" class=\"data row8 col0\" >2.0764</td>\n",
       "      <td id=\"T_e1a4b_row8_col1\" class=\"data row8 col1\" >0.0000</td>\n",
       "      <td id=\"T_e1a4b_row8_col2\" class=\"data row8 col2\" >0.3820</td>\n",
       "      <td id=\"T_e1a4b_row8_col3\" class=\"data row8 col3\" >96.2300</td>\n",
       "      <td id=\"T_e1a4b_row8_col4\" class=\"data row8 col4\" >0.0000</td>\n",
       "      <td id=\"T_e1a4b_row8_col5\" class=\"data row8 col5\" >5.0700</td>\n",
       "      <td id=\"T_e1a4b_row8_col6\" class=\"data row8 col6\" >315.0050</td>\n",
       "    </tr>\n",
       "    <tr>\n",
       "      <th id=\"T_e1a4b_level0_row9\" class=\"row_heading level0 row9\" >2000-01-04 07:00:00</th>\n",
       "      <td id=\"T_e1a4b_row9_col0\" class=\"data row9 col0\" >2.1136</td>\n",
       "      <td id=\"T_e1a4b_row9_col1\" class=\"data row9 col1\" >0.0000</td>\n",
       "      <td id=\"T_e1a4b_row9_col2\" class=\"data row9 col2\" >0.3130</td>\n",
       "      <td id=\"T_e1a4b_row9_col3\" class=\"data row9 col3\" >96.2400</td>\n",
       "      <td id=\"T_e1a4b_row9_col4\" class=\"data row9 col4\" >0.0000</td>\n",
       "      <td id=\"T_e1a4b_row9_col5\" class=\"data row9 col5\" >5.2300</td>\n",
       "      <td id=\"T_e1a4b_row9_col6\" class=\"data row9 col6\" >315.0050</td>\n",
       "    </tr>\n",
       "  </tbody>\n",
       "</table>\n",
       " </div><div> <p style='font-size: 1.3rem;'>data</p> <style type=\"text/css\">\n",
       "</style>\n",
       "<table id=\"T_646c4\">\n",
       "  <thead>\n",
       "    <tr>\n",
       "      <th class=\"blank level0\" >&nbsp;</th>\n",
       "      <th id=\"T_646c4_level0_col0\" class=\"col_heading level0 col0\" >TA</th>\n",
       "      <th id=\"T_646c4_level0_col1\" class=\"col_heading level0 col1\" >SW_IN</th>\n",
       "      <th id=\"T_646c4_level0_col2\" class=\"col_heading level0 col2\" >VPD</th>\n",
       "      <th id=\"T_646c4_level0_col3\" class=\"col_heading level0 col3\" >PA</th>\n",
       "      <th id=\"T_646c4_level0_col4\" class=\"col_heading level0 col4\" >P</th>\n",
       "      <th id=\"T_646c4_level0_col5\" class=\"col_heading level0 col5\" >WS</th>\n",
       "      <th id=\"T_646c4_level0_col6\" class=\"col_heading level0 col6\" >LW_IN</th>\n",
       "    </tr>\n",
       "    <tr>\n",
       "      <th class=\"index_name level0\" >time</th>\n",
       "      <th class=\"blank col0\" >&nbsp;</th>\n",
       "      <th class=\"blank col1\" >&nbsp;</th>\n",
       "      <th class=\"blank col2\" >&nbsp;</th>\n",
       "      <th class=\"blank col3\" >&nbsp;</th>\n",
       "      <th class=\"blank col4\" >&nbsp;</th>\n",
       "      <th class=\"blank col5\" >&nbsp;</th>\n",
       "      <th class=\"blank col6\" >&nbsp;</th>\n",
       "    </tr>\n",
       "  </thead>\n",
       "  <tbody>\n",
       "    <tr>\n",
       "      <th id=\"T_646c4_level0_row0\" class=\"row_heading level0 row0\" >2000-01-04 02:30:00</th>\n",
       "      <td id=\"T_646c4_row0_col0\" class=\"data row0 col0\" >2.1900</td>\n",
       "      <td id=\"T_646c4_row0_col1\" class=\"data row0 col1\" >0.0000</td>\n",
       "      <td id=\"T_646c4_row0_col2\" class=\"data row0 col2\" >0.9520</td>\n",
       "      <td id=\"T_646c4_row0_col3\" class=\"data row0 col3\" >96.3000</td>\n",
       "      <td id=\"T_646c4_row0_col4\" class=\"data row0 col4\" >0.0000</td>\n",
       "      <td id=\"T_646c4_row0_col5\" class=\"data row0 col5\" >5.3900</td>\n",
       "      <td id=\"T_646c4_row0_col6\" class=\"data row0 col6\" >304.7310</td>\n",
       "    </tr>\n",
       "    <tr>\n",
       "      <th id=\"T_646c4_level0_row1\" class=\"row_heading level0 row1\" >2000-01-04 03:00:00</th>\n",
       "      <td id=\"T_646c4_row1_col0\" class=\"data row1 col0\" >2.2700</td>\n",
       "      <td id=\"T_646c4_row1_col1\" class=\"data row1 col1\" >0.0000</td>\n",
       "      <td id=\"T_646c4_row1_col2\" class=\"data row1 col2\" >0.9710</td>\n",
       "      <td id=\"T_646c4_row1_col3\" class=\"data row1 col3\" >96.3000</td>\n",
       "      <td id=\"T_646c4_row1_col4\" class=\"data row1 col4\" >0.0000</td>\n",
       "      <td id=\"T_646c4_row1_col5\" class=\"data row1 col5\" >5.5900</td>\n",
       "      <td id=\"T_646c4_row1_col6\" class=\"data row1 col6\" >304.7310</td>\n",
       "    </tr>\n",
       "    <tr>\n",
       "      <th id=\"T_646c4_level0_row2\" class=\"row_heading level0 row2\" >2000-01-04 03:30:00</th>\n",
       "      <td id=\"T_646c4_row2_col0\" class=\"data row2 col0\" >2.3200</td>\n",
       "      <td id=\"T_646c4_row2_col1\" class=\"data row2 col1\" >0.0000</td>\n",
       "      <td id=\"T_646c4_row2_col2\" class=\"data row2 col2\" >0.9580</td>\n",
       "      <td id=\"T_646c4_row2_col3\" class=\"data row2 col3\" >96.2900</td>\n",
       "      <td id=\"T_646c4_row2_col4\" class=\"data row2 col4\" >0.0000</td>\n",
       "      <td id=\"T_646c4_row2_col5\" class=\"data row2 col5\" >5.6700</td>\n",
       "      <td id=\"T_646c4_row2_col6\" class=\"data row2 col6\" >304.7310</td>\n",
       "    </tr>\n",
       "    <tr>\n",
       "      <th id=\"T_646c4_level0_row3\" class=\"row_heading level0 row3\" >2000-01-04 04:00:00</th>\n",
       "      <td id=\"T_646c4_row3_col0\" class=\"data row3 col0\" >2.3400</td>\n",
       "      <td id=\"T_646c4_row3_col1\" class=\"data row3 col1\" >0.0000</td>\n",
       "      <td id=\"T_646c4_row3_col2\" class=\"data row3 col2\" >0.9380</td>\n",
       "      <td id=\"T_646c4_row3_col3\" class=\"data row3 col3\" >96.2600</td>\n",
       "      <td id=\"T_646c4_row3_col4\" class=\"data row3 col4\" >0.0000</td>\n",
       "      <td id=\"T_646c4_row3_col5\" class=\"data row3 col5\" >6.6100</td>\n",
       "      <td id=\"T_646c4_row3_col6\" class=\"data row3 col6\" >304.7310</td>\n",
       "    </tr>\n",
       "    <tr>\n",
       "      <th id=\"T_646c4_level0_row4\" class=\"row_heading level0 row4\" >2000-01-04 04:30:00</th>\n",
       "      <td id=\"T_646c4_row4_col0\" class=\"data row4 col0\" >2.2400</td>\n",
       "      <td id=\"T_646c4_row4_col1\" class=\"data row4 col1\" >0.0000</td>\n",
       "      <td id=\"T_646c4_row4_col2\" class=\"data row4 col2\" >0.7850</td>\n",
       "      <td id=\"T_646c4_row4_col3\" class=\"data row4 col3\" >96.2600</td>\n",
       "      <td id=\"T_646c4_row4_col4\" class=\"data row4 col4\" >0.0000</td>\n",
       "      <td id=\"T_646c4_row4_col5\" class=\"data row4 col5\" >6.6500</td>\n",
       "      <td id=\"T_646c4_row4_col6\" class=\"data row4 col6\" >315.0050</td>\n",
       "    </tr>\n",
       "    <tr>\n",
       "      <th id=\"T_646c4_level0_row5\" class=\"row_heading level0 row5\" >2000-01-04 05:00:00</th>\n",
       "      <td id=\"T_646c4_row5_col0\" class=\"data row5 col0\" >2.0000</td>\n",
       "      <td id=\"T_646c4_row5_col1\" class=\"data row5 col1\" >0.0000</td>\n",
       "      <td id=\"T_646c4_row5_col2\" class=\"data row5 col2\" >0.5290</td>\n",
       "      <td id=\"T_646c4_row5_col3\" class=\"data row5 col3\" >96.2700</td>\n",
       "      <td id=\"T_646c4_row5_col4\" class=\"data row5 col4\" >0.0000</td>\n",
       "      <td id=\"T_646c4_row5_col5\" class=\"data row5 col5\" >6.1200</td>\n",
       "      <td id=\"T_646c4_row5_col6\" class=\"data row5 col6\" >315.0050</td>\n",
       "    </tr>\n",
       "    <tr>\n",
       "      <th id=\"T_646c4_level0_row6\" class=\"row_heading level0 row6\" >2000-01-04 05:30:00</th>\n",
       "      <td id=\"T_646c4_row6_col0\" class=\"data row6 col0\" >1.9400</td>\n",
       "      <td id=\"T_646c4_row6_col1\" class=\"data row6 col1\" >0.0000</td>\n",
       "      <td id=\"T_646c4_row6_col2\" class=\"data row6 col2\" >0.4500</td>\n",
       "      <td id=\"T_646c4_row6_col3\" class=\"data row6 col3\" >96.2600</td>\n",
       "      <td id=\"T_646c4_row6_col4\" class=\"data row6 col4\" >0.2900</td>\n",
       "      <td id=\"T_646c4_row6_col5\" class=\"data row6 col5\" >5.5800</td>\n",
       "      <td id=\"T_646c4_row6_col6\" class=\"data row6 col6\" >315.0050</td>\n",
       "    </tr>\n",
       "    <tr>\n",
       "      <th id=\"T_646c4_level0_row7\" class=\"row_heading level0 row7\" >2000-01-04 06:00:00</th>\n",
       "      <td id=\"T_646c4_row7_col0\" class=\"data row7 col0\" >2.0700</td>\n",
       "      <td id=\"T_646c4_row7_col1\" class=\"data row7 col1\" >0.0000</td>\n",
       "      <td id=\"T_646c4_row7_col2\" class=\"data row7 col2\" >0.4990</td>\n",
       "      <td id=\"T_646c4_row7_col3\" class=\"data row7 col3\" >96.2500</td>\n",
       "      <td id=\"T_646c4_row7_col4\" class=\"data row7 col4\" >0.0000</td>\n",
       "      <td id=\"T_646c4_row7_col5\" class=\"data row7 col5\" >4.7000</td>\n",
       "      <td id=\"T_646c4_row7_col6\" class=\"data row7 col6\" >315.0050</td>\n",
       "    </tr>\n",
       "    <tr>\n",
       "      <th id=\"T_646c4_level0_row8\" class=\"row_heading level0 row8\" >2000-01-04 06:30:00</th>\n",
       "      <td id=\"T_646c4_row8_col0\" class=\"data row8 col0\" >2.0400</td>\n",
       "      <td id=\"T_646c4_row8_col1\" class=\"data row8 col1\" >0.0000</td>\n",
       "      <td id=\"T_646c4_row8_col2\" class=\"data row8 col2\" >0.3820</td>\n",
       "      <td id=\"T_646c4_row8_col3\" class=\"data row8 col3\" >96.2300</td>\n",
       "      <td id=\"T_646c4_row8_col4\" class=\"data row8 col4\" >0.0000</td>\n",
       "      <td id=\"T_646c4_row8_col5\" class=\"data row8 col5\" >5.0700</td>\n",
       "      <td id=\"T_646c4_row8_col6\" class=\"data row8 col6\" >315.0050</td>\n",
       "    </tr>\n",
       "    <tr>\n",
       "      <th id=\"T_646c4_level0_row9\" class=\"row_heading level0 row9\" >2000-01-04 07:00:00</th>\n",
       "      <td id=\"T_646c4_row9_col0\" class=\"data row9 col0\" >2.0300</td>\n",
       "      <td id=\"T_646c4_row9_col1\" class=\"data row9 col1\" >0.0000</td>\n",
       "      <td id=\"T_646c4_row9_col2\" class=\"data row9 col2\" >0.3130</td>\n",
       "      <td id=\"T_646c4_row9_col3\" class=\"data row9 col3\" >96.2400</td>\n",
       "      <td id=\"T_646c4_row9_col4\" class=\"data row9 col4\" >0.0000</td>\n",
       "      <td id=\"T_646c4_row9_col5\" class=\"data row9 col5\" >5.2300</td>\n",
       "      <td id=\"T_646c4_row9_col6\" class=\"data row9 col6\" >315.0050</td>\n",
       "    </tr>\n",
       "  </tbody>\n",
       "</table>\n",
       " </div><div> <p style='font-size: 1.3rem;'>mask</p> <style type=\"text/css\">\n",
       "</style>\n",
       "<table id=\"T_d3bf6\">\n",
       "  <thead>\n",
       "    <tr>\n",
       "      <th class=\"blank level0\" >&nbsp;</th>\n",
       "      <th id=\"T_d3bf6_level0_col0\" class=\"col_heading level0 col0\" >TA</th>\n",
       "      <th id=\"T_d3bf6_level0_col1\" class=\"col_heading level0 col1\" >SW_IN</th>\n",
       "      <th id=\"T_d3bf6_level0_col2\" class=\"col_heading level0 col2\" >VPD</th>\n",
       "      <th id=\"T_d3bf6_level0_col3\" class=\"col_heading level0 col3\" >PA</th>\n",
       "      <th id=\"T_d3bf6_level0_col4\" class=\"col_heading level0 col4\" >P</th>\n",
       "      <th id=\"T_d3bf6_level0_col5\" class=\"col_heading level0 col5\" >WS</th>\n",
       "      <th id=\"T_d3bf6_level0_col6\" class=\"col_heading level0 col6\" >LW_IN</th>\n",
       "    </tr>\n",
       "    <tr>\n",
       "      <th class=\"index_name level0\" >time</th>\n",
       "      <th class=\"blank col0\" >&nbsp;</th>\n",
       "      <th class=\"blank col1\" >&nbsp;</th>\n",
       "      <th class=\"blank col2\" >&nbsp;</th>\n",
       "      <th class=\"blank col3\" >&nbsp;</th>\n",
       "      <th class=\"blank col4\" >&nbsp;</th>\n",
       "      <th class=\"blank col5\" >&nbsp;</th>\n",
       "      <th class=\"blank col6\" >&nbsp;</th>\n",
       "    </tr>\n",
       "  </thead>\n",
       "  <tbody>\n",
       "    <tr>\n",
       "      <th id=\"T_d3bf6_level0_row0\" class=\"row_heading level0 row0\" >2000-01-04 02:30:00</th>\n",
       "      <td id=\"T_d3bf6_row0_col0\" class=\"data row0 col0\" >True</td>\n",
       "      <td id=\"T_d3bf6_row0_col1\" class=\"data row0 col1\" >True</td>\n",
       "      <td id=\"T_d3bf6_row0_col2\" class=\"data row0 col2\" >True</td>\n",
       "      <td id=\"T_d3bf6_row0_col3\" class=\"data row0 col3\" >True</td>\n",
       "      <td id=\"T_d3bf6_row0_col4\" class=\"data row0 col4\" >True</td>\n",
       "      <td id=\"T_d3bf6_row0_col5\" class=\"data row0 col5\" >True</td>\n",
       "      <td id=\"T_d3bf6_row0_col6\" class=\"data row0 col6\" >True</td>\n",
       "    </tr>\n",
       "    <tr>\n",
       "      <th id=\"T_d3bf6_level0_row1\" class=\"row_heading level0 row1\" >2000-01-04 03:00:00</th>\n",
       "      <td id=\"T_d3bf6_row1_col0\" class=\"data row1 col0\" >True</td>\n",
       "      <td id=\"T_d3bf6_row1_col1\" class=\"data row1 col1\" >True</td>\n",
       "      <td id=\"T_d3bf6_row1_col2\" class=\"data row1 col2\" >True</td>\n",
       "      <td id=\"T_d3bf6_row1_col3\" class=\"data row1 col3\" >True</td>\n",
       "      <td id=\"T_d3bf6_row1_col4\" class=\"data row1 col4\" >True</td>\n",
       "      <td id=\"T_d3bf6_row1_col5\" class=\"data row1 col5\" >True</td>\n",
       "      <td id=\"T_d3bf6_row1_col6\" class=\"data row1 col6\" >True</td>\n",
       "    </tr>\n",
       "    <tr>\n",
       "      <th id=\"T_d3bf6_level0_row2\" class=\"row_heading level0 row2\" >2000-01-04 03:30:00</th>\n",
       "      <td id=\"T_d3bf6_row2_col0\" class=\"data row2 col0\" >False</td>\n",
       "      <td id=\"T_d3bf6_row2_col1\" class=\"data row2 col1\" >True</td>\n",
       "      <td id=\"T_d3bf6_row2_col2\" class=\"data row2 col2\" >True</td>\n",
       "      <td id=\"T_d3bf6_row2_col3\" class=\"data row2 col3\" >True</td>\n",
       "      <td id=\"T_d3bf6_row2_col4\" class=\"data row2 col4\" >True</td>\n",
       "      <td id=\"T_d3bf6_row2_col5\" class=\"data row2 col5\" >True</td>\n",
       "      <td id=\"T_d3bf6_row2_col6\" class=\"data row2 col6\" >True</td>\n",
       "    </tr>\n",
       "    <tr>\n",
       "      <th id=\"T_d3bf6_level0_row3\" class=\"row_heading level0 row3\" >2000-01-04 04:00:00</th>\n",
       "      <td id=\"T_d3bf6_row3_col0\" class=\"data row3 col0\" >False</td>\n",
       "      <td id=\"T_d3bf6_row3_col1\" class=\"data row3 col1\" >True</td>\n",
       "      <td id=\"T_d3bf6_row3_col2\" class=\"data row3 col2\" >True</td>\n",
       "      <td id=\"T_d3bf6_row3_col3\" class=\"data row3 col3\" >True</td>\n",
       "      <td id=\"T_d3bf6_row3_col4\" class=\"data row3 col4\" >True</td>\n",
       "      <td id=\"T_d3bf6_row3_col5\" class=\"data row3 col5\" >True</td>\n",
       "      <td id=\"T_d3bf6_row3_col6\" class=\"data row3 col6\" >True</td>\n",
       "    </tr>\n",
       "    <tr>\n",
       "      <th id=\"T_d3bf6_level0_row4\" class=\"row_heading level0 row4\" >2000-01-04 04:30:00</th>\n",
       "      <td id=\"T_d3bf6_row4_col0\" class=\"data row4 col0\" >False</td>\n",
       "      <td id=\"T_d3bf6_row4_col1\" class=\"data row4 col1\" >True</td>\n",
       "      <td id=\"T_d3bf6_row4_col2\" class=\"data row4 col2\" >True</td>\n",
       "      <td id=\"T_d3bf6_row4_col3\" class=\"data row4 col3\" >True</td>\n",
       "      <td id=\"T_d3bf6_row4_col4\" class=\"data row4 col4\" >True</td>\n",
       "      <td id=\"T_d3bf6_row4_col5\" class=\"data row4 col5\" >True</td>\n",
       "      <td id=\"T_d3bf6_row4_col6\" class=\"data row4 col6\" >True</td>\n",
       "    </tr>\n",
       "    <tr>\n",
       "      <th id=\"T_d3bf6_level0_row5\" class=\"row_heading level0 row5\" >2000-01-04 05:00:00</th>\n",
       "      <td id=\"T_d3bf6_row5_col0\" class=\"data row5 col0\" >False</td>\n",
       "      <td id=\"T_d3bf6_row5_col1\" class=\"data row5 col1\" >True</td>\n",
       "      <td id=\"T_d3bf6_row5_col2\" class=\"data row5 col2\" >True</td>\n",
       "      <td id=\"T_d3bf6_row5_col3\" class=\"data row5 col3\" >True</td>\n",
       "      <td id=\"T_d3bf6_row5_col4\" class=\"data row5 col4\" >True</td>\n",
       "      <td id=\"T_d3bf6_row5_col5\" class=\"data row5 col5\" >True</td>\n",
       "      <td id=\"T_d3bf6_row5_col6\" class=\"data row5 col6\" >True</td>\n",
       "    </tr>\n",
       "    <tr>\n",
       "      <th id=\"T_d3bf6_level0_row6\" class=\"row_heading level0 row6\" >2000-01-04 05:30:00</th>\n",
       "      <td id=\"T_d3bf6_row6_col0\" class=\"data row6 col0\" >False</td>\n",
       "      <td id=\"T_d3bf6_row6_col1\" class=\"data row6 col1\" >True</td>\n",
       "      <td id=\"T_d3bf6_row6_col2\" class=\"data row6 col2\" >True</td>\n",
       "      <td id=\"T_d3bf6_row6_col3\" class=\"data row6 col3\" >True</td>\n",
       "      <td id=\"T_d3bf6_row6_col4\" class=\"data row6 col4\" >True</td>\n",
       "      <td id=\"T_d3bf6_row6_col5\" class=\"data row6 col5\" >True</td>\n",
       "      <td id=\"T_d3bf6_row6_col6\" class=\"data row6 col6\" >True</td>\n",
       "    </tr>\n",
       "    <tr>\n",
       "      <th id=\"T_d3bf6_level0_row7\" class=\"row_heading level0 row7\" >2000-01-04 06:00:00</th>\n",
       "      <td id=\"T_d3bf6_row7_col0\" class=\"data row7 col0\" >False</td>\n",
       "      <td id=\"T_d3bf6_row7_col1\" class=\"data row7 col1\" >True</td>\n",
       "      <td id=\"T_d3bf6_row7_col2\" class=\"data row7 col2\" >True</td>\n",
       "      <td id=\"T_d3bf6_row7_col3\" class=\"data row7 col3\" >True</td>\n",
       "      <td id=\"T_d3bf6_row7_col4\" class=\"data row7 col4\" >True</td>\n",
       "      <td id=\"T_d3bf6_row7_col5\" class=\"data row7 col5\" >True</td>\n",
       "      <td id=\"T_d3bf6_row7_col6\" class=\"data row7 col6\" >True</td>\n",
       "    </tr>\n",
       "    <tr>\n",
       "      <th id=\"T_d3bf6_level0_row8\" class=\"row_heading level0 row8\" >2000-01-04 06:30:00</th>\n",
       "      <td id=\"T_d3bf6_row8_col0\" class=\"data row8 col0\" >False</td>\n",
       "      <td id=\"T_d3bf6_row8_col1\" class=\"data row8 col1\" >True</td>\n",
       "      <td id=\"T_d3bf6_row8_col2\" class=\"data row8 col2\" >True</td>\n",
       "      <td id=\"T_d3bf6_row8_col3\" class=\"data row8 col3\" >True</td>\n",
       "      <td id=\"T_d3bf6_row8_col4\" class=\"data row8 col4\" >True</td>\n",
       "      <td id=\"T_d3bf6_row8_col5\" class=\"data row8 col5\" >True</td>\n",
       "      <td id=\"T_d3bf6_row8_col6\" class=\"data row8 col6\" >True</td>\n",
       "    </tr>\n",
       "    <tr>\n",
       "      <th id=\"T_d3bf6_level0_row9\" class=\"row_heading level0 row9\" >2000-01-04 07:00:00</th>\n",
       "      <td id=\"T_d3bf6_row9_col0\" class=\"data row9 col0\" >False</td>\n",
       "      <td id=\"T_d3bf6_row9_col1\" class=\"data row9 col1\" >True</td>\n",
       "      <td id=\"T_d3bf6_row9_col2\" class=\"data row9 col2\" >True</td>\n",
       "      <td id=\"T_d3bf6_row9_col3\" class=\"data row9 col3\" >True</td>\n",
       "      <td id=\"T_d3bf6_row9_col4\" class=\"data row9 col4\" >True</td>\n",
       "      <td id=\"T_d3bf6_row9_col5\" class=\"data row9 col5\" >True</td>\n",
       "      <td id=\"T_d3bf6_row9_col6\" class=\"data row9 col6\" >True</td>\n",
       "    </tr>\n",
       "  </tbody>\n",
       "</table>\n",
       " </div></div>"
      ],
      "text/plain": [
       "<IPython.core.display.HTML object>"
      ]
     },
     "metadata": {},
     "output_type": "display_data"
    }
   ],
   "source": [
    "display_as_row({'pred': pred[45:55],'data': targ.data[45:55], 'mask': targ.mask[45:55]}, hide_idx=False)"
   ]
  },
  {
   "cell_type": "markdown",
   "id": "15426a29-71ee-4f20-861c-9d7be253154a",
   "metadata": {},
   "source": [
    "### MDS"
   ]
  },
  {
   "cell_type": "markdown",
   "id": "dde92540-7749-4056-9926-98e337beba81",
   "metadata": {},
   "source": [
    "Need to call R from python"
   ]
  },
  {
   "cell_type": "code",
   "execution_count": null,
   "id": "62712f16-a8c3-4574-bbfe-70af9d240a2e",
   "metadata": {},
   "outputs": [],
   "source": [
    "#| export\n",
    "import rpy2.robjects\n",
    "from rpy2.robjects import r\n",
    "import rpy2.robjects as ro\n",
    "from rpy2.robjects.packages import importr\n",
    "from rpy2.robjects import pandas2ri"
   ]
  },
  {
   "cell_type": "code",
   "execution_count": null,
   "id": "772d60f9-e65e-4c87-af29-e0f1c024f817",
   "metadata": {},
   "outputs": [
    {
     "name": "stdout",
     "output_type": "stream",
     "text": [
      "[1] \"here::here(\\\"R/REddyProc_tools.R\\\")\"\n"
     ]
    },
    {
     "data": {
      "text/html": [
       "\n",
       "        <span>StrVector with 1 elements.</span>\n",
       "        <table>\n",
       "        <tbody>\n",
       "          <tr>\n",
       "          \n",
       "            <td>\n",
       "            'here::here(\"R/REddyProc_tools.R\")'\n",
       "            </td>\n",
       "          \n",
       "          </tr>\n",
       "        </tbody>\n",
       "        </table>\n",
       "        "
      ],
      "text/plain": [
       "<rpy2.robjects.vectors.StrVector object> [RTYPES.STRSXP]\n",
       "R classes: ('character',)\n",
       "['here::here(\"R/REddyProc_tools.R\")']"
      ]
     },
     "execution_count": null,
     "metadata": {},
     "output_type": "execute_result"
    }
   ],
   "source": [
    "r.print('here::here(\"R/REddyProc_tools.R\")')"
   ]
  },
  {
   "cell_type": "code",
   "execution_count": null,
   "id": "8d91ab42-5d3a-4f59-b063-860299be2ff5",
   "metadata": {},
   "outputs": [],
   "source": [
    "#| export\n",
    "path_r = str(here(\"R/REddyProc_tools.R\"))\n",
    "\n",
    "r.source(path_r);"
   ]
  },
  {
   "cell_type": "code",
   "execution_count": null,
   "id": "b789ee98-32d2-4b3f-9afe-d629d95ca43f",
   "metadata": {},
   "outputs": [],
   "source": [
    "#| export\n",
    "def importr_install(pkg):\n",
    "    try:\n",
    "        importr(pkg)\n",
    "    except:\n",
    "        utils = importr('utils')\n",
    "        utils.chooseCRANmirror(ind=1)\n",
    "        utils.install_packages(pkg)\n",
    "        importr(pkg) "
   ]
  },
  {
   "cell_type": "code",
   "execution_count": null,
   "id": "002ab9a8-5e5e-4519-b25e-2e5e8b4b3273",
   "metadata": {},
   "outputs": [],
   "source": [
    "#| export\n",
    "def setupR():\n",
    "    importr_install('tidyverse')\n",
    "    importr_install('REddyProc')\n",
    "    importr('lubridate')\n",
    "    path_r = str(here(\"R/REddyProc_tools.R\"))\n",
    "    r.source(path_r) # R functions\n",
    "    r(\"\"\"toR_timestamp <- function(x){\n",
    "   x$TIMESTAMP_END = as_datetime(x$TIMESTAMP_END) \n",
    "    x\n",
    "     }\"\"\")"
   ]
  },
  {
   "cell_type": "code",
   "execution_count": null,
   "id": "e05f2b0e-b123-4220-a644-d5ca15e90c7d",
   "metadata": {},
   "outputs": [],
   "source": [
    "#| export\n",
    "def pd2R(x):\n",
    "    with ro.default_converter + pandas2ri.converter:\n",
    "        return ro.conversion.py2rpy(x) \n",
    "\n",
    "def R2pd(x):\n",
    "    with ro.default_converter + pandas2ri.converter:\n",
    "        return ro.conversion.rpy2py(x) "
   ]
  },
  {
   "cell_type": "code",
   "execution_count": null,
   "id": "4c5934c1-a4d7-49ae-988d-998ace0bc3e1",
   "metadata": {},
   "outputs": [],
   "source": [
    "#| export\n",
    "setupR() #start the R process and load depenencies"
   ]
  },
  {
   "cell_type": "markdown",
   "id": "48afc4c4-1199-410d-a822-005e776c6edb",
   "metadata": {},
   "source": [
    "#### Experiment"
   ]
  },
  {
   "cell_type": "markdown",
   "id": "04b78361-7f3b-4ed7-acaa-eb679ad08468",
   "metadata": {},
   "source": [
    "The time series needs to be at least 90 days long, we we add 45 days before and after the gap"
   ]
  },
  {
   "cell_type": "markdown",
   "id": "26ef1cce-13a2-40db-87ad-cd03e1ebf664",
   "metadata": {},
   "source": [
    "There is a problem with conversions of timestamps between R and Python, so convert to string in Python and then back to datetime in R"
   ]
  },
  {
   "cell_type": "code",
   "execution_count": null,
   "id": "52b6d28f-c241-4b9d-8b05-789fa3388b98",
   "metadata": {},
   "outputs": [],
   "source": [
    "#| export\n",
    "def add_buffer(index, inner_index, n):\n",
    "    \"\"\"Adds  a buffer of after and after index so length is at least \"\"\"\n",
    "    start = int(np.argwhere(index == inner_index[0]).squeeze())\n",
    "    end = int(np.argwhere(index == inner_index[-1]).squeeze())\n",
    "    start = start - n //2\n",
    "    end = end + n//2\n",
    "    if start < 0:\n",
    "        end += -start\n",
    "        start = 0\n",
    "    if end > len(index):\n",
    "        start -= end - len(index)\n",
    "        end = len(index)\n",
    "    \n",
    "    index = index[start:end]\n",
    "    \n",
    "    assert len(index) > n\n",
    "    \n",
    "    return index"
   ]
  },
  {
   "cell_type": "code",
   "execution_count": null,
   "id": "1d07a0c7-3464-4f68-8d96-389f3021e7c6",
   "metadata": {},
   "outputs": [],
   "source": [
    "add_buffer(hai.index, hai.index[:100], 50)\n",
    "add_buffer(hai.index, hai.index[-50:], 50);"
   ]
  },
  {
   "cell_type": "code",
   "execution_count": null,
   "id": "64ce30ae-7903-4d1c-8b93-6df8648d385c",
   "metadata": {},
   "outputs": [],
   "source": [
    "#| export\n",
    "def item2REddy(item, var, df):\n",
    "    \" Add context around item for supporting REddyProc\"\n",
    "    index = add_buffer(df.index, item.data.index, 90 * 24 * 2)\n",
    "    REddy_df = df.loc[index].assign(gap = (~item.mask[var]).astype(int)).fillna({'gap': 0})\n",
    "    return REddy_df.reset_index().astype({'time': str}).rename(columns={'time': 'TIMESTAMP_END'})"
   ]
  },
  {
   "cell_type": "code",
   "execution_count": null,
   "id": "4bd9ea90-b53e-4eb8-9841-062e69af670a",
   "metadata": {},
   "outputs": [
    {
     "name": "stderr",
     "output_type": "stream",
     "text": [
      "R[write to console]: New sEddyProc class for site 'ID'\n",
      "\n",
      "R[write to console]: Initialized variable 'TA' with 10 real gaps for gap filling.\n",
      "\n",
      "R[write to console]: Limited MDS algorithm for gap filling of 'TA.gap_0' with LUT(SW_IN only) and MDC.\n",
      "\n",
      "R[write to console]: Look up table with window size of 7 days with SW_IN\n",
      "\n",
      "R[write to console]: 10\n",
      "\n",
      "R[write to console]: Finished gap filling of 'TA' in 0 seconds. Artificial gaps filled: 4419, real gaps filled: 10, unfilled (long) gaps: 0.\n",
      "\n"
     ]
    }
   ],
   "source": [
    "REddy_df = item2REddy(targ, 'TA', hai)\n",
    "\n",
    "REddy_df_r = r.toR_timestamp(pd2R(REddy_df))\n",
    "\n",
    "filled = R2pd(r.fill_gaps_EProc(REddy_df_r, \"TA\"))"
   ]
  },
  {
   "cell_type": "code",
   "execution_count": null,
   "id": "e3b08771-7958-4eeb-9054-4311571f8fd7",
   "metadata": {},
   "outputs": [
    {
     "data": {
      "text/html": [
       "<div>\n",
       "<style scoped>\n",
       "    .dataframe tbody tr th:only-of-type {\n",
       "        vertical-align: middle;\n",
       "    }\n",
       "\n",
       "    .dataframe tbody tr th {\n",
       "        vertical-align: top;\n",
       "    }\n",
       "\n",
       "    .dataframe thead th {\n",
       "        text-align: right;\n",
       "    }\n",
       "</style>\n",
       "<table border=\"1\" class=\"dataframe\">\n",
       "  <thead>\n",
       "    <tr style=\"text-align: right;\">\n",
       "      <th></th>\n",
       "      <th>TA_orig</th>\n",
       "      <th>TA_f</th>\n",
       "      <th>TA_fqc</th>\n",
       "      <th>TA_fall</th>\n",
       "      <th>TA_fall_qc</th>\n",
       "      <th>TA_fnum</th>\n",
       "      <th>TA_fsd</th>\n",
       "      <th>TA_fmeth</th>\n",
       "      <th>TA_fwin</th>\n",
       "    </tr>\n",
       "  </thead>\n",
       "  <tbody>\n",
       "    <tr>\n",
       "      <th>1</th>\n",
       "      <td>-0.60</td>\n",
       "      <td>-0.60</td>\n",
       "      <td>0.0</td>\n",
       "      <td>-0.60</td>\n",
       "      <td>NaN</td>\n",
       "      <td>NaN</td>\n",
       "      <td>NaN</td>\n",
       "      <td>NaN</td>\n",
       "      <td>NaN</td>\n",
       "    </tr>\n",
       "    <tr>\n",
       "      <th>2</th>\n",
       "      <td>-0.65</td>\n",
       "      <td>-0.65</td>\n",
       "      <td>0.0</td>\n",
       "      <td>-0.65</td>\n",
       "      <td>NaN</td>\n",
       "      <td>NaN</td>\n",
       "      <td>NaN</td>\n",
       "      <td>NaN</td>\n",
       "      <td>NaN</td>\n",
       "    </tr>\n",
       "    <tr>\n",
       "      <th>3</th>\n",
       "      <td>-0.58</td>\n",
       "      <td>-0.58</td>\n",
       "      <td>0.0</td>\n",
       "      <td>-0.58</td>\n",
       "      <td>NaN</td>\n",
       "      <td>NaN</td>\n",
       "      <td>NaN</td>\n",
       "      <td>NaN</td>\n",
       "      <td>NaN</td>\n",
       "    </tr>\n",
       "    <tr>\n",
       "      <th>4</th>\n",
       "      <td>-0.51</td>\n",
       "      <td>-0.51</td>\n",
       "      <td>0.0</td>\n",
       "      <td>-0.51</td>\n",
       "      <td>NaN</td>\n",
       "      <td>NaN</td>\n",
       "      <td>NaN</td>\n",
       "      <td>NaN</td>\n",
       "      <td>NaN</td>\n",
       "    </tr>\n",
       "    <tr>\n",
       "      <th>5</th>\n",
       "      <td>-0.49</td>\n",
       "      <td>-0.49</td>\n",
       "      <td>0.0</td>\n",
       "      <td>-0.49</td>\n",
       "      <td>NaN</td>\n",
       "      <td>NaN</td>\n",
       "      <td>NaN</td>\n",
       "      <td>NaN</td>\n",
       "      <td>NaN</td>\n",
       "    </tr>\n",
       "    <tr>\n",
       "      <th>...</th>\n",
       "      <td>...</td>\n",
       "      <td>...</td>\n",
       "      <td>...</td>\n",
       "      <td>...</td>\n",
       "      <td>...</td>\n",
       "      <td>...</td>\n",
       "      <td>...</td>\n",
       "      <td>...</td>\n",
       "      <td>...</td>\n",
       "    </tr>\n",
       "    <tr>\n",
       "      <th>4415</th>\n",
       "      <td>3.30</td>\n",
       "      <td>3.30</td>\n",
       "      <td>0.0</td>\n",
       "      <td>3.30</td>\n",
       "      <td>NaN</td>\n",
       "      <td>NaN</td>\n",
       "      <td>NaN</td>\n",
       "      <td>NaN</td>\n",
       "      <td>NaN</td>\n",
       "    </tr>\n",
       "    <tr>\n",
       "      <th>4416</th>\n",
       "      <td>3.10</td>\n",
       "      <td>3.10</td>\n",
       "      <td>0.0</td>\n",
       "      <td>3.10</td>\n",
       "      <td>NaN</td>\n",
       "      <td>NaN</td>\n",
       "      <td>NaN</td>\n",
       "      <td>NaN</td>\n",
       "      <td>NaN</td>\n",
       "    </tr>\n",
       "    <tr>\n",
       "      <th>4417</th>\n",
       "      <td>3.05</td>\n",
       "      <td>3.05</td>\n",
       "      <td>0.0</td>\n",
       "      <td>3.05</td>\n",
       "      <td>NaN</td>\n",
       "      <td>NaN</td>\n",
       "      <td>NaN</td>\n",
       "      <td>NaN</td>\n",
       "      <td>NaN</td>\n",
       "    </tr>\n",
       "    <tr>\n",
       "      <th>4418</th>\n",
       "      <td>3.05</td>\n",
       "      <td>3.05</td>\n",
       "      <td>0.0</td>\n",
       "      <td>3.05</td>\n",
       "      <td>NaN</td>\n",
       "      <td>NaN</td>\n",
       "      <td>NaN</td>\n",
       "      <td>NaN</td>\n",
       "      <td>NaN</td>\n",
       "    </tr>\n",
       "    <tr>\n",
       "      <th>4419</th>\n",
       "      <td>3.05</td>\n",
       "      <td>3.05</td>\n",
       "      <td>0.0</td>\n",
       "      <td>3.05</td>\n",
       "      <td>NaN</td>\n",
       "      <td>NaN</td>\n",
       "      <td>NaN</td>\n",
       "      <td>NaN</td>\n",
       "      <td>NaN</td>\n",
       "    </tr>\n",
       "  </tbody>\n",
       "</table>\n",
       "<p>4419 rows × 9 columns</p>\n",
       "</div>"
      ],
      "text/plain": [
       "      TA_orig  TA_f  TA_fqc  TA_fall  TA_fall_qc  TA_fnum  TA_fsd  TA_fmeth  \\\n",
       "1       -0.60 -0.60     0.0    -0.60         NaN      NaN     NaN       NaN   \n",
       "2       -0.65 -0.65     0.0    -0.65         NaN      NaN     NaN       NaN   \n",
       "3       -0.58 -0.58     0.0    -0.58         NaN      NaN     NaN       NaN   \n",
       "4       -0.51 -0.51     0.0    -0.51         NaN      NaN     NaN       NaN   \n",
       "5       -0.49 -0.49     0.0    -0.49         NaN      NaN     NaN       NaN   \n",
       "...       ...   ...     ...      ...         ...      ...     ...       ...   \n",
       "4415     3.30  3.30     0.0     3.30         NaN      NaN     NaN       NaN   \n",
       "4416     3.10  3.10     0.0     3.10         NaN      NaN     NaN       NaN   \n",
       "4417     3.05  3.05     0.0     3.05         NaN      NaN     NaN       NaN   \n",
       "4418     3.05  3.05     0.0     3.05         NaN      NaN     NaN       NaN   \n",
       "4419     3.05  3.05     0.0     3.05         NaN      NaN     NaN       NaN   \n",
       "\n",
       "      TA_fwin  \n",
       "1         NaN  \n",
       "2         NaN  \n",
       "3         NaN  \n",
       "4         NaN  \n",
       "5         NaN  \n",
       "...       ...  \n",
       "4415      NaN  \n",
       "4416      NaN  \n",
       "4417      NaN  \n",
       "4418      NaN  \n",
       "4419      NaN  \n",
       "\n",
       "[4419 rows x 9 columns]"
      ]
     },
     "execution_count": null,
     "metadata": {},
     "output_type": "execute_result"
    }
   ],
   "source": [
    "filled"
   ]
  },
  {
   "cell_type": "code",
   "execution_count": null,
   "id": "3631bbb3-271f-4d9b-bd1d-c9e672fa5b69",
   "metadata": {},
   "outputs": [
    {
     "data": {
      "text/html": [
       "<div>\n",
       "<style scoped>\n",
       "    .dataframe tbody tr th:only-of-type {\n",
       "        vertical-align: middle;\n",
       "    }\n",
       "\n",
       "    .dataframe tbody tr th {\n",
       "        vertical-align: top;\n",
       "    }\n",
       "\n",
       "    .dataframe thead th {\n",
       "        text-align: right;\n",
       "    }\n",
       "</style>\n",
       "<table border=\"1\" class=\"dataframe\">\n",
       "  <thead>\n",
       "    <tr style=\"text-align: right;\">\n",
       "      <th></th>\n",
       "      <th>TA</th>\n",
       "      <th>SW_IN</th>\n",
       "      <th>VPD</th>\n",
       "      <th>PA</th>\n",
       "      <th>P</th>\n",
       "      <th>WS</th>\n",
       "      <th>LW_IN</th>\n",
       "      <th>gap</th>\n",
       "    </tr>\n",
       "    <tr>\n",
       "      <th>TIMESTAMP_END</th>\n",
       "      <th></th>\n",
       "      <th></th>\n",
       "      <th></th>\n",
       "      <th></th>\n",
       "      <th></th>\n",
       "      <th></th>\n",
       "      <th></th>\n",
       "      <th></th>\n",
       "    </tr>\n",
       "  </thead>\n",
       "  <tbody>\n",
       "    <tr>\n",
       "      <th>2000-01-01 00:30:00</th>\n",
       "      <td>-0.60</td>\n",
       "      <td>0.0</td>\n",
       "      <td>0.222</td>\n",
       "      <td>96.63</td>\n",
       "      <td>0.0</td>\n",
       "      <td>2.05</td>\n",
       "      <td>302.475</td>\n",
       "      <td>0.0</td>\n",
       "    </tr>\n",
       "    <tr>\n",
       "      <th>2000-01-01 01:00:00</th>\n",
       "      <td>-0.65</td>\n",
       "      <td>0.0</td>\n",
       "      <td>0.122</td>\n",
       "      <td>96.58</td>\n",
       "      <td>0.0</td>\n",
       "      <td>2.53</td>\n",
       "      <td>302.475</td>\n",
       "      <td>0.0</td>\n",
       "    </tr>\n",
       "    <tr>\n",
       "      <th>2000-01-01 01:30:00</th>\n",
       "      <td>-0.58</td>\n",
       "      <td>0.0</td>\n",
       "      <td>0.090</td>\n",
       "      <td>96.56</td>\n",
       "      <td>0.0</td>\n",
       "      <td>3.15</td>\n",
       "      <td>301.677</td>\n",
       "      <td>0.0</td>\n",
       "    </tr>\n",
       "    <tr>\n",
       "      <th>2000-01-01 02:00:00</th>\n",
       "      <td>-0.51</td>\n",
       "      <td>0.0</td>\n",
       "      <td>0.110</td>\n",
       "      <td>96.56</td>\n",
       "      <td>0.0</td>\n",
       "      <td>3.12</td>\n",
       "      <td>301.677</td>\n",
       "      <td>0.0</td>\n",
       "    </tr>\n",
       "    <tr>\n",
       "      <th>2000-01-01 02:30:00</th>\n",
       "      <td>-0.49</td>\n",
       "      <td>0.0</td>\n",
       "      <td>0.102</td>\n",
       "      <td>96.57</td>\n",
       "      <td>0.0</td>\n",
       "      <td>3.04</td>\n",
       "      <td>301.677</td>\n",
       "      <td>0.0</td>\n",
       "    </tr>\n",
       "    <tr>\n",
       "      <th>...</th>\n",
       "      <td>...</td>\n",
       "      <td>...</td>\n",
       "      <td>...</td>\n",
       "      <td>...</td>\n",
       "      <td>...</td>\n",
       "      <td>...</td>\n",
       "      <td>...</td>\n",
       "      <td>...</td>\n",
       "    </tr>\n",
       "    <tr>\n",
       "      <th>2000-04-01 23:30:00</th>\n",
       "      <td>3.30</td>\n",
       "      <td>0.0</td>\n",
       "      <td>1.092</td>\n",
       "      <td>95.06</td>\n",
       "      <td>0.0</td>\n",
       "      <td>2.50</td>\n",
       "      <td>283.856</td>\n",
       "      <td>0.0</td>\n",
       "    </tr>\n",
       "    <tr>\n",
       "      <th>2000-04-02 00:00:00</th>\n",
       "      <td>3.10</td>\n",
       "      <td>0.0</td>\n",
       "      <td>1.013</td>\n",
       "      <td>95.04</td>\n",
       "      <td>0.0</td>\n",
       "      <td>2.09</td>\n",
       "      <td>283.856</td>\n",
       "      <td>0.0</td>\n",
       "    </tr>\n",
       "    <tr>\n",
       "      <th>2000-04-02 00:30:00</th>\n",
       "      <td>3.05</td>\n",
       "      <td>0.0</td>\n",
       "      <td>0.964</td>\n",
       "      <td>95.04</td>\n",
       "      <td>0.0</td>\n",
       "      <td>2.42</td>\n",
       "      <td>283.856</td>\n",
       "      <td>0.0</td>\n",
       "    </tr>\n",
       "    <tr>\n",
       "      <th>2000-04-02 01:00:00</th>\n",
       "      <td>3.05</td>\n",
       "      <td>0.0</td>\n",
       "      <td>0.933</td>\n",
       "      <td>95.04</td>\n",
       "      <td>0.0</td>\n",
       "      <td>3.04</td>\n",
       "      <td>283.856</td>\n",
       "      <td>0.0</td>\n",
       "    </tr>\n",
       "    <tr>\n",
       "      <th>2000-04-02 01:30:00</th>\n",
       "      <td>3.05</td>\n",
       "      <td>0.0</td>\n",
       "      <td>0.930</td>\n",
       "      <td>95.03</td>\n",
       "      <td>0.0</td>\n",
       "      <td>2.96</td>\n",
       "      <td>251.387</td>\n",
       "      <td>0.0</td>\n",
       "    </tr>\n",
       "  </tbody>\n",
       "</table>\n",
       "<p>4419 rows × 8 columns</p>\n",
       "</div>"
      ],
      "text/plain": [
       "                       TA  SW_IN    VPD     PA    P    WS    LW_IN  gap\n",
       "TIMESTAMP_END                                                          \n",
       "2000-01-01 00:30:00 -0.60    0.0  0.222  96.63  0.0  2.05  302.475  0.0\n",
       "2000-01-01 01:00:00 -0.65    0.0  0.122  96.58  0.0  2.53  302.475  0.0\n",
       "2000-01-01 01:30:00 -0.58    0.0  0.090  96.56  0.0  3.15  301.677  0.0\n",
       "2000-01-01 02:00:00 -0.51    0.0  0.110  96.56  0.0  3.12  301.677  0.0\n",
       "2000-01-01 02:30:00 -0.49    0.0  0.102  96.57  0.0  3.04  301.677  0.0\n",
       "...                   ...    ...    ...    ...  ...   ...      ...  ...\n",
       "2000-04-01 23:30:00  3.30    0.0  1.092  95.06  0.0  2.50  283.856  0.0\n",
       "2000-04-02 00:00:00  3.10    0.0  1.013  95.04  0.0  2.09  283.856  0.0\n",
       "2000-04-02 00:30:00  3.05    0.0  0.964  95.04  0.0  2.42  283.856  0.0\n",
       "2000-04-02 01:00:00  3.05    0.0  0.933  95.04  0.0  3.04  283.856  0.0\n",
       "2000-04-02 01:30:00  3.05    0.0  0.930  95.03  0.0  2.96  251.387  0.0\n",
       "\n",
       "[4419 rows x 8 columns]"
      ]
     },
     "execution_count": null,
     "metadata": {},
     "output_type": "execute_result"
    }
   ],
   "source": [
    "REddy_df.set_index(\"TIMESTAMP_END\") "
   ]
  },
  {
   "cell_type": "code",
   "execution_count": null,
   "id": "a31fc470-d062-40c8-bde6-456da43a87b0",
   "metadata": {},
   "outputs": [],
   "source": [
    "filled = filled.set_index(pd.to_datetime(REddy_df.TIMESTAMP_END))\n",
    "\n",
    "filled_item = filled.loc[targ.data.index]\n",
    "\n",
    "pred = targ.data.copy()\n",
    "pred.loc[~targ.mask[\"TA\"], \"TA\"] = filled_item[\"TA_f\"][~targ.mask[\"TA\"]]"
   ]
  },
  {
   "cell_type": "code",
   "execution_count": null,
   "id": "2f8b323a-b6e0-49ac-b98c-89f8e4e105fd",
   "metadata": {},
   "outputs": [
    {
     "data": {
      "text/plain": [
       "(                           TA  SW_IN    VPD     PA     P    WS    LW_IN\n",
       " time                                                                   \n",
       " 2000-01-04 02:30:00  2.190000    0.0  0.952  96.30  0.00  5.39  304.731\n",
       " 2000-01-04 03:00:00  2.270000    0.0  0.971  96.30  0.00  5.59  304.731\n",
       " 2000-01-04 03:30:00  1.824743    0.0  0.958  96.29  0.00  5.67  304.731\n",
       " 2000-01-04 04:00:00  1.810561    0.0  0.938  96.26  0.00  6.61  304.731\n",
       " 2000-01-04 04:30:00  1.795036    0.0  0.785  96.26  0.00  6.65  315.005\n",
       " 2000-01-04 05:00:00  1.784199    0.0  0.529  96.27  0.00  6.12  315.005\n",
       " 2000-01-04 05:30:00  1.772276    0.0  0.450  96.26  0.29  5.58  315.005\n",
       " 2000-01-04 06:00:00  1.761111    0.0  0.499  96.25  0.00  4.70  315.005\n",
       " 2000-01-04 06:30:00  1.749157    0.0  0.382  96.23  0.00  5.07  315.005\n",
       " 2000-01-04 07:00:00  1.738678    0.0  0.313  96.24  0.00  5.23  315.005,\n",
       "                        TA  SW_IN    VPD     PA     P    WS    LW_IN\n",
       " time                                                               \n",
       " 2000-01-04 02:30:00  2.19    0.0  0.952  96.30  0.00  5.39  304.731\n",
       " 2000-01-04 03:00:00  2.27    0.0  0.971  96.30  0.00  5.59  304.731\n",
       " 2000-01-04 03:30:00  2.32    0.0  0.958  96.29  0.00  5.67  304.731\n",
       " 2000-01-04 04:00:00  2.34    0.0  0.938  96.26  0.00  6.61  304.731\n",
       " 2000-01-04 04:30:00  2.24    0.0  0.785  96.26  0.00  6.65  315.005\n",
       " 2000-01-04 05:00:00  2.00    0.0  0.529  96.27  0.00  6.12  315.005\n",
       " 2000-01-04 05:30:00  1.94    0.0  0.450  96.26  0.29  5.58  315.005\n",
       " 2000-01-04 06:00:00  2.07    0.0  0.499  96.25  0.00  4.70  315.005\n",
       " 2000-01-04 06:30:00  2.04    0.0  0.382  96.23  0.00  5.07  315.005\n",
       " 2000-01-04 07:00:00  2.03    0.0  0.313  96.24  0.00  5.23  315.005)"
      ]
     },
     "execution_count": null,
     "metadata": {},
     "output_type": "execute_result"
    }
   ],
   "source": [
    "pred[45:55], targ.data[45:55]"
   ]
  },
  {
   "cell_type": "code",
   "execution_count": null,
   "id": "75b45729-e810-4847-b8b6-6719b57c9498",
   "metadata": {},
   "outputs": [],
   "source": [
    "#| export\n",
    "def gap_fill_item(item, REddy_df, var, filled):\n",
    "    \n",
    "    filled = filled.set_index(pd.to_datetime(REddy_df.TIMESTAMP_END))\n",
    "    filled_item = filled.loc[item.data.index]\n",
    "\n",
    "    pred = item.data.copy()\n",
    "    pred.loc[~item.mask[var], var] = filled_item[f\"{var}_f\"][~item.mask[var]]\n",
    "    return pred"
   ]
  },
  {
   "cell_type": "code",
   "execution_count": null,
   "id": "803038c7-774b-40df-84f6-69a2085015cc",
   "metadata": {},
   "outputs": [
    {
     "data": {
      "text/html": [
       "<div>\n",
       "<style scoped>\n",
       "    .dataframe tbody tr th:only-of-type {\n",
       "        vertical-align: middle;\n",
       "    }\n",
       "\n",
       "    .dataframe tbody tr th {\n",
       "        vertical-align: top;\n",
       "    }\n",
       "\n",
       "    .dataframe thead th {\n",
       "        text-align: right;\n",
       "    }\n",
       "</style>\n",
       "<table border=\"1\" class=\"dataframe\">\n",
       "  <thead>\n",
       "    <tr style=\"text-align: right;\">\n",
       "      <th></th>\n",
       "      <th>TA</th>\n",
       "      <th>SW_IN</th>\n",
       "      <th>VPD</th>\n",
       "      <th>PA</th>\n",
       "      <th>P</th>\n",
       "      <th>WS</th>\n",
       "      <th>LW_IN</th>\n",
       "    </tr>\n",
       "    <tr>\n",
       "      <th>time</th>\n",
       "      <th></th>\n",
       "      <th></th>\n",
       "      <th></th>\n",
       "      <th></th>\n",
       "      <th></th>\n",
       "      <th></th>\n",
       "      <th></th>\n",
       "    </tr>\n",
       "  </thead>\n",
       "  <tbody>\n",
       "    <tr>\n",
       "      <th>2000-01-03 04:00:00</th>\n",
       "      <td>0.81</td>\n",
       "      <td>0.0</td>\n",
       "      <td>0.000</td>\n",
       "      <td>97.00</td>\n",
       "      <td>0.0</td>\n",
       "      <td>3.53</td>\n",
       "      <td>304.148</td>\n",
       "    </tr>\n",
       "    <tr>\n",
       "      <th>2000-01-03 04:30:00</th>\n",
       "      <td>0.95</td>\n",
       "      <td>0.0</td>\n",
       "      <td>0.000</td>\n",
       "      <td>96.98</td>\n",
       "      <td>0.0</td>\n",
       "      <td>3.99</td>\n",
       "      <td>304.382</td>\n",
       "    </tr>\n",
       "    <tr>\n",
       "      <th>2000-01-03 05:00:00</th>\n",
       "      <td>1.09</td>\n",
       "      <td>0.0</td>\n",
       "      <td>0.000</td>\n",
       "      <td>96.96</td>\n",
       "      <td>0.0</td>\n",
       "      <td>3.61</td>\n",
       "      <td>304.382</td>\n",
       "    </tr>\n",
       "    <tr>\n",
       "      <th>2000-01-03 05:30:00</th>\n",
       "      <td>1.18</td>\n",
       "      <td>0.0</td>\n",
       "      <td>0.009</td>\n",
       "      <td>96.93</td>\n",
       "      <td>0.0</td>\n",
       "      <td>3.90</td>\n",
       "      <td>304.382</td>\n",
       "    </tr>\n",
       "    <tr>\n",
       "      <th>2000-01-03 06:00:00</th>\n",
       "      <td>1.35</td>\n",
       "      <td>0.0</td>\n",
       "      <td>0.061</td>\n",
       "      <td>96.91</td>\n",
       "      <td>0.0</td>\n",
       "      <td>4.17</td>\n",
       "      <td>304.382</td>\n",
       "    </tr>\n",
       "    <tr>\n",
       "      <th>...</th>\n",
       "      <td>...</td>\n",
       "      <td>...</td>\n",
       "      <td>...</td>\n",
       "      <td>...</td>\n",
       "      <td>...</td>\n",
       "      <td>...</td>\n",
       "      <td>...</td>\n",
       "    </tr>\n",
       "    <tr>\n",
       "      <th>2000-01-05 03:30:00</th>\n",
       "      <td>4.62</td>\n",
       "      <td>0.0</td>\n",
       "      <td>1.162</td>\n",
       "      <td>95.91</td>\n",
       "      <td>0.0</td>\n",
       "      <td>6.53</td>\n",
       "      <td>330.202</td>\n",
       "    </tr>\n",
       "    <tr>\n",
       "      <th>2000-01-05 04:00:00</th>\n",
       "      <td>4.51</td>\n",
       "      <td>0.0</td>\n",
       "      <td>1.636</td>\n",
       "      <td>95.94</td>\n",
       "      <td>0.0</td>\n",
       "      <td>5.76</td>\n",
       "      <td>330.202</td>\n",
       "    </tr>\n",
       "    <tr>\n",
       "      <th>2000-01-05 04:30:00</th>\n",
       "      <td>4.11</td>\n",
       "      <td>0.0</td>\n",
       "      <td>1.746</td>\n",
       "      <td>95.98</td>\n",
       "      <td>0.0</td>\n",
       "      <td>5.79</td>\n",
       "      <td>299.320</td>\n",
       "    </tr>\n",
       "    <tr>\n",
       "      <th>2000-01-05 05:00:00</th>\n",
       "      <td>3.77</td>\n",
       "      <td>0.0</td>\n",
       "      <td>2.065</td>\n",
       "      <td>96.03</td>\n",
       "      <td>0.0</td>\n",
       "      <td>6.00</td>\n",
       "      <td>299.320</td>\n",
       "    </tr>\n",
       "    <tr>\n",
       "      <th>2000-01-05 05:30:00</th>\n",
       "      <td>3.36</td>\n",
       "      <td>0.0</td>\n",
       "      <td>1.911</td>\n",
       "      <td>96.10</td>\n",
       "      <td>0.0</td>\n",
       "      <td>4.76</td>\n",
       "      <td>299.320</td>\n",
       "    </tr>\n",
       "  </tbody>\n",
       "</table>\n",
       "<p>100 rows × 7 columns</p>\n",
       "</div>"
      ],
      "text/plain": [
       "                       TA  SW_IN    VPD     PA    P    WS    LW_IN\n",
       "time                                                              \n",
       "2000-01-03 04:00:00  0.81    0.0  0.000  97.00  0.0  3.53  304.148\n",
       "2000-01-03 04:30:00  0.95    0.0  0.000  96.98  0.0  3.99  304.382\n",
       "2000-01-03 05:00:00  1.09    0.0  0.000  96.96  0.0  3.61  304.382\n",
       "2000-01-03 05:30:00  1.18    0.0  0.009  96.93  0.0  3.90  304.382\n",
       "2000-01-03 06:00:00  1.35    0.0  0.061  96.91  0.0  4.17  304.382\n",
       "...                   ...    ...    ...    ...  ...   ...      ...\n",
       "2000-01-05 03:30:00  4.62    0.0  1.162  95.91  0.0  6.53  330.202\n",
       "2000-01-05 04:00:00  4.51    0.0  1.636  95.94  0.0  5.76  330.202\n",
       "2000-01-05 04:30:00  4.11    0.0  1.746  95.98  0.0  5.79  299.320\n",
       "2000-01-05 05:00:00  3.77    0.0  2.065  96.03  0.0  6.00  299.320\n",
       "2000-01-05 05:30:00  3.36    0.0  1.911  96.10  0.0  4.76  299.320\n",
       "\n",
       "[100 rows x 7 columns]"
      ]
     },
     "execution_count": null,
     "metadata": {},
     "output_type": "execute_result"
    }
   ],
   "source": [
    "gap_fill_item(targ, REddy_df, \"TA\", filled)\n"
   ]
  },
  {
   "cell_type": "markdown",
   "id": "12065264-440e-4516-b7f3-c5c8fc648238",
   "metadata": {},
   "source": [
    "#### MDSImputation"
   ]
  },
  {
   "cell_type": "code",
   "execution_count": null,
   "id": "e0ea7b1c-6c13-470e-a0ee-72b5463b1e07",
   "metadata": {},
   "outputs": [],
   "source": [
    "#| export\n",
    "class MDSImputation:\n",
    "    name = \"MDS\"\n",
    "    def __init__(self, var, df):\n",
    "        store_attr()\n",
    "        self.out = io.StringIO()\n",
    "    def __call__(self, item):\n",
    "        REddy_df = item2REddy(item, self.var, self.df)\n",
    "        REddy_df_r = r.toR_timestamp(pd2R(REddy_df))\n",
    "        with redirect_stderr(self.out):\n",
    "            filled = R2pd(r.fill_gaps_EProc(REddy_df_r, self.var))\n",
    "        return gap_fill_item(item, REddy_df, self.var, filled)"
   ]
  },
  {
   "cell_type": "code",
   "execution_count": null,
   "id": "e5223797-081d-4451-affd-e02a4698b351",
   "metadata": {},
   "outputs": [],
   "source": [
    "mds_imp = MDSImputation('TA', hai)"
   ]
  },
  {
   "cell_type": "code",
   "execution_count": null,
   "id": "bed10b9e-3c27-4d44-9e68-ab73a068cb84",
   "metadata": {},
   "outputs": [
    {
     "data": {
      "text/html": [
       "<div>\n",
       "<style scoped>\n",
       "    .dataframe tbody tr th:only-of-type {\n",
       "        vertical-align: middle;\n",
       "    }\n",
       "\n",
       "    .dataframe tbody tr th {\n",
       "        vertical-align: top;\n",
       "    }\n",
       "\n",
       "    .dataframe thead th {\n",
       "        text-align: right;\n",
       "    }\n",
       "</style>\n",
       "<table border=\"1\" class=\"dataframe\">\n",
       "  <thead>\n",
       "    <tr style=\"text-align: right;\">\n",
       "      <th></th>\n",
       "      <th>TA</th>\n",
       "      <th>SW_IN</th>\n",
       "      <th>VPD</th>\n",
       "      <th>PA</th>\n",
       "      <th>P</th>\n",
       "      <th>WS</th>\n",
       "      <th>LW_IN</th>\n",
       "    </tr>\n",
       "    <tr>\n",
       "      <th>time</th>\n",
       "      <th></th>\n",
       "      <th></th>\n",
       "      <th></th>\n",
       "      <th></th>\n",
       "      <th></th>\n",
       "      <th></th>\n",
       "      <th></th>\n",
       "    </tr>\n",
       "  </thead>\n",
       "  <tbody>\n",
       "    <tr>\n",
       "      <th>2000-01-03 04:00:00</th>\n",
       "      <td>0.81</td>\n",
       "      <td>0.0</td>\n",
       "      <td>0.000</td>\n",
       "      <td>97.00</td>\n",
       "      <td>0.0</td>\n",
       "      <td>3.53</td>\n",
       "      <td>304.148</td>\n",
       "    </tr>\n",
       "    <tr>\n",
       "      <th>2000-01-03 04:30:00</th>\n",
       "      <td>0.95</td>\n",
       "      <td>0.0</td>\n",
       "      <td>0.000</td>\n",
       "      <td>96.98</td>\n",
       "      <td>0.0</td>\n",
       "      <td>3.99</td>\n",
       "      <td>304.382</td>\n",
       "    </tr>\n",
       "    <tr>\n",
       "      <th>2000-01-03 05:00:00</th>\n",
       "      <td>1.09</td>\n",
       "      <td>0.0</td>\n",
       "      <td>0.000</td>\n",
       "      <td>96.96</td>\n",
       "      <td>0.0</td>\n",
       "      <td>3.61</td>\n",
       "      <td>304.382</td>\n",
       "    </tr>\n",
       "    <tr>\n",
       "      <th>2000-01-03 05:30:00</th>\n",
       "      <td>1.18</td>\n",
       "      <td>0.0</td>\n",
       "      <td>0.009</td>\n",
       "      <td>96.93</td>\n",
       "      <td>0.0</td>\n",
       "      <td>3.90</td>\n",
       "      <td>304.382</td>\n",
       "    </tr>\n",
       "    <tr>\n",
       "      <th>2000-01-03 06:00:00</th>\n",
       "      <td>1.35</td>\n",
       "      <td>0.0</td>\n",
       "      <td>0.061</td>\n",
       "      <td>96.91</td>\n",
       "      <td>0.0</td>\n",
       "      <td>4.17</td>\n",
       "      <td>304.382</td>\n",
       "    </tr>\n",
       "    <tr>\n",
       "      <th>...</th>\n",
       "      <td>...</td>\n",
       "      <td>...</td>\n",
       "      <td>...</td>\n",
       "      <td>...</td>\n",
       "      <td>...</td>\n",
       "      <td>...</td>\n",
       "      <td>...</td>\n",
       "    </tr>\n",
       "    <tr>\n",
       "      <th>2000-01-05 03:30:00</th>\n",
       "      <td>4.62</td>\n",
       "      <td>0.0</td>\n",
       "      <td>1.162</td>\n",
       "      <td>95.91</td>\n",
       "      <td>0.0</td>\n",
       "      <td>6.53</td>\n",
       "      <td>330.202</td>\n",
       "    </tr>\n",
       "    <tr>\n",
       "      <th>2000-01-05 04:00:00</th>\n",
       "      <td>4.51</td>\n",
       "      <td>0.0</td>\n",
       "      <td>1.636</td>\n",
       "      <td>95.94</td>\n",
       "      <td>0.0</td>\n",
       "      <td>5.76</td>\n",
       "      <td>330.202</td>\n",
       "    </tr>\n",
       "    <tr>\n",
       "      <th>2000-01-05 04:30:00</th>\n",
       "      <td>4.11</td>\n",
       "      <td>0.0</td>\n",
       "      <td>1.746</td>\n",
       "      <td>95.98</td>\n",
       "      <td>0.0</td>\n",
       "      <td>5.79</td>\n",
       "      <td>299.320</td>\n",
       "    </tr>\n",
       "    <tr>\n",
       "      <th>2000-01-05 05:00:00</th>\n",
       "      <td>3.77</td>\n",
       "      <td>0.0</td>\n",
       "      <td>2.065</td>\n",
       "      <td>96.03</td>\n",
       "      <td>0.0</td>\n",
       "      <td>6.00</td>\n",
       "      <td>299.320</td>\n",
       "    </tr>\n",
       "    <tr>\n",
       "      <th>2000-01-05 05:30:00</th>\n",
       "      <td>3.36</td>\n",
       "      <td>0.0</td>\n",
       "      <td>1.911</td>\n",
       "      <td>96.10</td>\n",
       "      <td>0.0</td>\n",
       "      <td>4.76</td>\n",
       "      <td>299.320</td>\n",
       "    </tr>\n",
       "  </tbody>\n",
       "</table>\n",
       "<p>100 rows × 7 columns</p>\n",
       "</div>"
      ],
      "text/plain": [
       "                       TA  SW_IN    VPD     PA    P    WS    LW_IN\n",
       "time                                                              \n",
       "2000-01-03 04:00:00  0.81    0.0  0.000  97.00  0.0  3.53  304.148\n",
       "2000-01-03 04:30:00  0.95    0.0  0.000  96.98  0.0  3.99  304.382\n",
       "2000-01-03 05:00:00  1.09    0.0  0.000  96.96  0.0  3.61  304.382\n",
       "2000-01-03 05:30:00  1.18    0.0  0.009  96.93  0.0  3.90  304.382\n",
       "2000-01-03 06:00:00  1.35    0.0  0.061  96.91  0.0  4.17  304.382\n",
       "...                   ...    ...    ...    ...  ...   ...      ...\n",
       "2000-01-05 03:30:00  4.62    0.0  1.162  95.91  0.0  6.53  330.202\n",
       "2000-01-05 04:00:00  4.51    0.0  1.636  95.94  0.0  5.76  330.202\n",
       "2000-01-05 04:30:00  4.11    0.0  1.746  95.98  0.0  5.79  299.320\n",
       "2000-01-05 05:00:00  3.77    0.0  2.065  96.03  0.0  6.00  299.320\n",
       "2000-01-05 05:30:00  3.36    0.0  1.911  96.10  0.0  4.76  299.320\n",
       "\n",
       "[100 rows x 7 columns]"
      ]
     },
     "execution_count": null,
     "metadata": {},
     "output_type": "execute_result"
    }
   ],
   "source": [
    "mds_imp(targ)"
   ]
  },
  {
   "cell_type": "markdown",
   "id": "8d1e07ad-3ebe-41ff-9a7c-321146fd9a45",
   "metadata": {},
   "source": [
    "### ERA Imputation"
   ]
  },
  {
   "cell_type": "code",
   "execution_count": null,
   "id": "65a56b61-4374-48be-b85e-f49ce0ec9ae5",
   "metadata": {},
   "outputs": [],
   "source": [
    "#| export\n",
    "class ERAImputation:\n",
    "    name = \"ERA\"\n",
    "    def __call__(self, item):\n",
    "        pred = item.control.copy()\n",
    "        names = [col for col in pred.columns if not col.endswith(\"_lag_1\")]\n",
    "        pred = pred.filter(names)\n",
    "        return pred.rename(columns=lambda x: x.replace(\"_ERA\", \"\"))"
   ]
  },
  {
   "cell_type": "code",
   "execution_count": null,
   "id": "8733c3fe-4235-41cd-9104-8a6842f7e960",
   "metadata": {},
   "outputs": [],
   "source": [
    "era_imp = ERAImputation()"
   ]
  },
  {
   "cell_type": "code",
   "execution_count": null,
   "id": "a87f92a0-f300-4b99-88cb-4703f7fd7c73",
   "metadata": {},
   "outputs": [
    {
     "data": {
      "text/html": [
       "<div>\n",
       "<style scoped>\n",
       "    .dataframe tbody tr th:only-of-type {\n",
       "        vertical-align: middle;\n",
       "    }\n",
       "\n",
       "    .dataframe tbody tr th {\n",
       "        vertical-align: top;\n",
       "    }\n",
       "\n",
       "    .dataframe thead th {\n",
       "        text-align: right;\n",
       "    }\n",
       "</style>\n",
       "<table border=\"1\" class=\"dataframe\">\n",
       "  <thead>\n",
       "    <tr style=\"text-align: right;\">\n",
       "      <th></th>\n",
       "      <th>TA</th>\n",
       "      <th>SW_IN</th>\n",
       "      <th>VPD</th>\n",
       "      <th>PA</th>\n",
       "      <th>P</th>\n",
       "      <th>WS</th>\n",
       "      <th>LW_IN</th>\n",
       "    </tr>\n",
       "    <tr>\n",
       "      <th>time</th>\n",
       "      <th></th>\n",
       "      <th></th>\n",
       "      <th></th>\n",
       "      <th></th>\n",
       "      <th></th>\n",
       "      <th></th>\n",
       "      <th></th>\n",
       "    </tr>\n",
       "  </thead>\n",
       "  <tbody>\n",
       "    <tr>\n",
       "      <th>2000-01-03 04:00:00</th>\n",
       "      <td>1.702</td>\n",
       "      <td>0.0</td>\n",
       "      <td>0.693</td>\n",
       "      <td>97.016</td>\n",
       "      <td>0.000</td>\n",
       "      <td>2.948</td>\n",
       "      <td>304.148</td>\n",
       "    </tr>\n",
       "    <tr>\n",
       "      <th>2000-01-03 04:30:00</th>\n",
       "      <td>1.762</td>\n",
       "      <td>0.0</td>\n",
       "      <td>0.691</td>\n",
       "      <td>97.002</td>\n",
       "      <td>0.026</td>\n",
       "      <td>2.989</td>\n",
       "      <td>304.382</td>\n",
       "    </tr>\n",
       "    <tr>\n",
       "      <th>2000-01-03 05:00:00</th>\n",
       "      <td>1.736</td>\n",
       "      <td>0.0</td>\n",
       "      <td>0.697</td>\n",
       "      <td>96.988</td>\n",
       "      <td>0.000</td>\n",
       "      <td>3.015</td>\n",
       "      <td>304.382</td>\n",
       "    </tr>\n",
       "    <tr>\n",
       "      <th>2000-01-03 05:30:00</th>\n",
       "      <td>1.711</td>\n",
       "      <td>0.0</td>\n",
       "      <td>0.703</td>\n",
       "      <td>96.974</td>\n",
       "      <td>0.000</td>\n",
       "      <td>3.041</td>\n",
       "      <td>304.382</td>\n",
       "    </tr>\n",
       "    <tr>\n",
       "      <th>2000-01-03 06:00:00</th>\n",
       "      <td>1.686</td>\n",
       "      <td>0.0</td>\n",
       "      <td>0.709</td>\n",
       "      <td>96.960</td>\n",
       "      <td>0.000</td>\n",
       "      <td>3.066</td>\n",
       "      <td>304.382</td>\n",
       "    </tr>\n",
       "    <tr>\n",
       "      <th>...</th>\n",
       "      <td>...</td>\n",
       "      <td>...</td>\n",
       "      <td>...</td>\n",
       "      <td>...</td>\n",
       "      <td>...</td>\n",
       "      <td>...</td>\n",
       "      <td>...</td>\n",
       "    </tr>\n",
       "    <tr>\n",
       "      <th>2000-01-05 03:30:00</th>\n",
       "      <td>4.945</td>\n",
       "      <td>0.0</td>\n",
       "      <td>0.774</td>\n",
       "      <td>95.910</td>\n",
       "      <td>0.252</td>\n",
       "      <td>6.107</td>\n",
       "      <td>330.202</td>\n",
       "    </tr>\n",
       "    <tr>\n",
       "      <th>2000-01-05 04:00:00</th>\n",
       "      <td>4.789</td>\n",
       "      <td>0.0</td>\n",
       "      <td>0.758</td>\n",
       "      <td>95.926</td>\n",
       "      <td>0.252</td>\n",
       "      <td>6.189</td>\n",
       "      <td>330.202</td>\n",
       "    </tr>\n",
       "    <tr>\n",
       "      <th>2000-01-05 04:30:00</th>\n",
       "      <td>4.632</td>\n",
       "      <td>0.0</td>\n",
       "      <td>0.741</td>\n",
       "      <td>95.942</td>\n",
       "      <td>0.044</td>\n",
       "      <td>6.270</td>\n",
       "      <td>299.320</td>\n",
       "    </tr>\n",
       "    <tr>\n",
       "      <th>2000-01-05 05:00:00</th>\n",
       "      <td>4.251</td>\n",
       "      <td>0.0</td>\n",
       "      <td>0.766</td>\n",
       "      <td>95.988</td>\n",
       "      <td>0.000</td>\n",
       "      <td>5.923</td>\n",
       "      <td>299.320</td>\n",
       "    </tr>\n",
       "    <tr>\n",
       "      <th>2000-01-05 05:30:00</th>\n",
       "      <td>3.869</td>\n",
       "      <td>0.0</td>\n",
       "      <td>0.790</td>\n",
       "      <td>96.035</td>\n",
       "      <td>0.000</td>\n",
       "      <td>5.576</td>\n",
       "      <td>299.320</td>\n",
       "    </tr>\n",
       "  </tbody>\n",
       "</table>\n",
       "<p>100 rows × 7 columns</p>\n",
       "</div>"
      ],
      "text/plain": [
       "                        TA  SW_IN    VPD      PA      P     WS    LW_IN\n",
       "time                                                                   \n",
       "2000-01-03 04:00:00  1.702    0.0  0.693  97.016  0.000  2.948  304.148\n",
       "2000-01-03 04:30:00  1.762    0.0  0.691  97.002  0.026  2.989  304.382\n",
       "2000-01-03 05:00:00  1.736    0.0  0.697  96.988  0.000  3.015  304.382\n",
       "2000-01-03 05:30:00  1.711    0.0  0.703  96.974  0.000  3.041  304.382\n",
       "2000-01-03 06:00:00  1.686    0.0  0.709  96.960  0.000  3.066  304.382\n",
       "...                    ...    ...    ...     ...    ...    ...      ...\n",
       "2000-01-05 03:30:00  4.945    0.0  0.774  95.910  0.252  6.107  330.202\n",
       "2000-01-05 04:00:00  4.789    0.0  0.758  95.926  0.252  6.189  330.202\n",
       "2000-01-05 04:30:00  4.632    0.0  0.741  95.942  0.044  6.270  299.320\n",
       "2000-01-05 05:00:00  4.251    0.0  0.766  95.988  0.000  5.923  299.320\n",
       "2000-01-05 05:30:00  3.869    0.0  0.790  96.035  0.000  5.576  299.320\n",
       "\n",
       "[100 rows x 7 columns]"
      ]
     },
     "execution_count": null,
     "metadata": {},
     "output_type": "execute_result"
    }
   ],
   "source": [
    "era_imp(targ)"
   ]
  },
  {
   "cell_type": "code",
   "execution_count": null,
   "id": "5a464461-791b-4bdd-bb08-9e2810ac3da1",
   "metadata": {},
   "outputs": [],
   "source": [
    "#| export\n",
    "class MaskedMetric:\n",
    "    def __init__(self, metric): store_attr()\n",
    "    def __call__(self, targ, pred):\n",
    "        if isinstance(pred, NormalsDf): pred = pred.mean\n",
    "        row_sel, col_sel = ~targ.mask.all(1), ~targ.mask.all(0)\n",
    "        data, mask, pred = targ.data.to_numpy(), targ.mask.to_numpy(), pred.to_numpy()\n",
    "        assert not mask[:, col_sel][row_sel, :].any() # gap is a rectangle\n",
    "        return self.metric(data[:, col_sel][row_sel, :], pred[:, col_sel][row_sel, :])   "
   ]
  },
  {
   "cell_type": "code",
   "execution_count": null,
   "id": "419b95ea-534a-4986-826f-844fe836797c",
   "metadata": {},
   "outputs": [],
   "source": [
    "#| export\n",
    "from sklearn.metrics import mean_squared_error"
   ]
  },
  {
   "cell_type": "code",
   "execution_count": null,
   "id": "659a0552-8c11-4699-95d2-3df749b1d75f",
   "metadata": {},
   "outputs": [],
   "source": [
    "#| export\n",
    "def rmse(y_true, y_pred):\n",
    "    return np.sqrt(mean_squared_error(y_true, y_pred, multioutput='raw_values'))"
   ]
  },
  {
   "cell_type": "code",
   "execution_count": null,
   "id": "585447ff-7e86-4726-8c16-a7838dd8bf71",
   "metadata": {},
   "outputs": [],
   "source": [
    "#| export\n",
    "def normalize(x, mean, std): return (x - mean) / std \n",
    "class NormalizedMetric:\n",
    "    def __init__(self, metric: MaskedMetric, mean, std):\n",
    "        self.mean = np.array(mean)\n",
    "        self.std = np.array(std)\n",
    "        self.metric = metric\n",
    "    def __call__(self, targ, pred, var:int|None = None):\n",
    "        targ = targ.copy()\n",
    "        norm_conf = (self.mean if var is None else self.mean[var], self.std if var is None else self.std[var])\n",
    "        targ.data = normalize(targ.data, *norm_conf)\n",
    "        if isinstance(pred, NormalsDf): pred = pred.mean\n",
    "        pred = normalize(pred, *norm_conf)\n",
    "        return self.metric(targ, pred)"
   ]
  },
  {
   "cell_type": "code",
   "execution_count": null,
   "id": "123a9b56-9099-4e13-9913-8a4e26c37b33",
   "metadata": {},
   "outputs": [],
   "source": [
    "#| export\n",
    "rmse_mask = MaskedMetric(rmse)"
   ]
  },
  {
   "cell_type": "code",
   "execution_count": null,
   "id": "037f5d19-e262-48a9-97a1-595da525de23",
   "metadata": {},
   "outputs": [
    {
     "data": {
      "text/plain": [
       "array([0.36204141])"
      ]
     },
     "execution_count": null,
     "metadata": {},
     "output_type": "execute_result"
    }
   ],
   "source": [
    "rmse_mask(targ, pred)"
   ]
  },
  {
   "cell_type": "markdown",
   "id": "54d93837-573f-4739-84ac-230821f225d4",
   "metadata": {},
   "source": [
    "### Validation Imputations"
   ]
  },
  {
   "cell_type": "markdown",
   "id": "92973203-3377-4ba8-8b1d-3d51ab04e79d",
   "metadata": {},
   "source": [
    "checks that the values of the imputation makes sense"
   ]
  },
  {
   "cell_type": "markdown",
   "id": "7b05868f-0c38-4fa3-b3aa-63cf7515655a",
   "metadata": {},
   "source": [
    "this is the average error for ERA"
   ]
  },
  {
   "cell_type": "code",
   "execution_count": null,
   "id": "33903fdd-463c-47a5-83e2-6555356af78b",
   "metadata": {},
   "outputs": [
    {
     "data": {
      "text/plain": [
       "1.8708585984196093"
      ]
     },
     "execution_count": null,
     "metadata": {},
     "output_type": "execute_result"
    }
   ],
   "source": [
    "np.sqrt((hai['TA'] - hai_era.loc[hai.index]['TA_ERA']).pow(2).mean())"
   ]
  },
  {
   "cell_type": "code",
   "execution_count": null,
   "id": "1ceaeac1-b5fe-410f-97ec-9705af5acbaa",
   "metadata": {},
   "outputs": [
    {
     "data": {
      "text/plain": [
       "array([0.33606264])"
      ]
     },
     "execution_count": null,
     "metadata": {},
     "output_type": "execute_result"
    }
   ],
   "source": [
    "rmse_mask(targ, ERAImputation()(targ))"
   ]
  },
  {
   "cell_type": "code",
   "execution_count": null,
   "id": "7c5b0dde-79fb-4dff-9472-1f1921ef87e4",
   "metadata": {},
   "outputs": [],
   "source": [
    "err_era = []\n",
    "for _ in range(100):\n",
    "    items = random.choices(dls.items, k = 1)\n",
    "    targ = orig_target(dls, items)[0]\n",
    "    err_era.append(rmse_mask(targ, ERAImputation()(targ)))"
   ]
  },
  {
   "cell_type": "code",
   "execution_count": null,
   "id": "7dc7da10-5f74-424e-a947-4d3564f42cdd",
   "metadata": {},
   "outputs": [
    {
     "data": {
      "text/plain": [
       "1.3775115057344045"
      ]
     },
     "execution_count": null,
     "metadata": {},
     "output_type": "execute_result"
    }
   ],
   "source": [
    "np.array(err_era).mean()"
   ]
  },
  {
   "cell_type": "markdown",
   "id": "3ce3f5b0-530b-42e9-940d-7f69cc53ede3",
   "metadata": {},
   "source": [
    "## Comparison"
   ]
  },
  {
   "cell_type": "markdown",
   "id": "b31ab7f7-9945-4831-bdf6-2052e0e5ab72",
   "metadata": {},
   "source": [
    "Take a variable to be filled, makes an artificial gap of given len, tries to fill with 3 methods and return metrics for each of them, repeat `n_rep` times"
   ]
  },
  {
   "cell_type": "code",
   "execution_count": null,
   "id": "5b0e9e1a-6e20-4877-ac71-16fc848d5036",
   "metadata": {},
   "outputs": [],
   "source": [
    "#| export\n",
    "import random\n",
    "import polars as pl\n",
    "from tqdm.auto import tqdm"
   ]
  },
  {
   "cell_type": "markdown",
   "id": "73aa5545-09e7-4f00-8902-bdf7f2b593d2",
   "metadata": {},
   "source": [
    "### prep visualization"
   ]
  },
  {
   "cell_type": "code",
   "execution_count": null,
   "id": "09cfff05-30dd-436f-b13b-a20260583f7e",
   "metadata": {},
   "outputs": [],
   "source": [
    "#| export\n",
    "var_type = CategoricalDtype(categories=['TA', 'SW_IN', 'LW_IN', 'VPD', 'WS', 'PA', 'P'], ordered=True)\n",
    "\n",
    "method_type = CategoricalDtype(categories=[\"KalmanFilter\", \"ERA\", \"MDS\"], ordered=True)"
   ]
  },
  {
   "cell_type": "code",
   "execution_count": null,
   "id": "c53ac74b-cb6f-4eef-936c-dbccaadc4747",
   "metadata": {},
   "outputs": [],
   "source": [
    "#| export\n",
    "def _as_category(df: pd.DataFrame):\n",
    "    df = df.assign(\n",
    "        var = df['var'].astype(var_type),\n",
    "        method = df['method'].astype(method_type),\n",
    "        gap_len = df['gap_len'].astype(\"category\"))\n",
    "    return df.sort_values(['var', 'gap_len', 'method'])"
   ]
  },
  {
   "cell_type": "code",
   "execution_count": null,
   "id": "f3a821e1-29c4-4f3c-a0c0-5c255403b6b5",
   "metadata": {},
   "outputs": [],
   "source": [
    "#| export\n",
    "def gaplen2hours(x):\n",
    "    return x.assign(gap_len = (x.gap_len / 2))#.map(lambda x: f\"{int(x) if round(x) == x else x} h\")) "
   ]
  },
  {
   "cell_type": "code",
   "execution_count": null,
   "id": "329fc8ba-8a58-47d4-bf31-c59d0a0bb5f6",
   "metadata": {},
   "outputs": [],
   "source": [
    "#| export\n",
    "def prep_df(df): return _as_category(gaplen2hours(df)) # what a bad name"
   ]
  },
  {
   "cell_type": "markdown",
   "id": "7f22742d-b6a3-43d8-88a8-feded66f1e60",
   "metadata": {},
   "source": [
    "### Aggregation"
   ]
  },
  {
   "cell_type": "code",
   "execution_count": null,
   "id": "9471fb52-0e6b-4a01-829f-30da7fb10c2f",
   "metadata": {},
   "outputs": [],
   "source": [
    "#| export\n",
    "def timeseriesAgg(targ, pred, *args): return {'pred': [pred], 'targ': [targ]}\n",
    "\n",
    "class RMSEAgg:\n",
    "    \"\"\"Aggregate to rmse and normalized rmse\"\"\"\n",
    "    def __init__(self, df):\n",
    "        self.rmse_norm = NormalizedMetric(MaskedMetric(rmse), *get_stats(df))\n",
    "    def __call__(self, targ, pred, var = None):\n",
    "        return {'rmse': rmse_mask(targ, pred).item(),\n",
    "                'rmse_norm': self.rmse_norm(targ, pred, var).item(),}"
   ]
  },
  {
   "cell_type": "markdown",
   "id": "eaff22ca-c79b-45ed-9dd0-3583b6a4fe23",
   "metadata": {},
   "source": [
    "### Imp Methods"
   ]
  },
  {
   "cell_type": "code",
   "execution_count": null,
   "id": "88665ed6-24d7-42cf-9168-ead86dc8beba",
   "metadata": {},
   "outputs": [],
   "source": [
    "#| export\n",
    "class ImpComparison():\n",
    "    def __init__(self, model, df, control, block_len, rmse=True, time_series = False):\n",
    "        store_attr()\n",
    "        self.k_imp = KalmanImputation(model)\n",
    "        self.era_imp = ERAImputation()\n",
    "        self.mds_imp = MDSImputation(\"\", df)\n",
    "        self.methods = [self.k_imp, self.era_imp, self.mds_imp]\n",
    "        aggrs = []\n",
    "        if rmse: aggrs.append(RMSEAgg(df))\n",
    "        if time_series: aggrs.append(timeseriesAgg) \n",
    "        self.aggrs = aggrs\n",
    "        \n",
    "    def _compare_single(self, gap_len, var, n_rep):\n",
    "        \"\"\"Compares `n_rep` times the imputation methods, for gap in `var` with len `gap_len`\"\"\"\n",
    "        dls = imp_dataloader(self.df, self.control, var_sel = var, gap_len=gap_len, block_len=self.block_len, control_lags = [1], n_rep=1, bs=1).cpu()\n",
    "        items = random.choices(dls.items, k=n_rep)\n",
    "        preds_k, targs = self.k_imp.preds_all(items = items, dls=dls)\n",
    "        self.mds_imp.var = var\n",
    "        \n",
    "        outs = []\n",
    "        for i in tqdm(range(len(targs)), leave=False):\n",
    "            for imp in self.methods:\n",
    "                pred = imp(targs[i]) if imp is not self.k_imp else preds_k[i]\n",
    "                out = {\n",
    "                    'method': imp.name,\n",
    "                    'var': var,\n",
    "                    'gap_len': gap_len,\n",
    "                    'idx_rep': i,\n",
    "                }\n",
    "                for aggr in self.aggrs:\n",
    "                    out = out | aggr(targs[i], pred)\n",
    "                outs.append(out)\n",
    "        return pd.DataFrame(outs)\n",
    "    \n",
    "    def compare(self, gap_len, var, n_rep, raw=False):\n",
    "        \"\"\"Compare imputation performance for all combination of parameters\"\"\"\n",
    "        arg_sets = list(product_dict(gap_len=tuplify(gap_len), var=tuplify(var)))\n",
    "        out = []\n",
    "        for arg_set in tqdm(arg_sets):\n",
    "            out.append(self._compare_single(**arg_set, n_rep=n_rep))\n",
    "        return prep_df(pd.concat(out)) if not raw else pd.concat(out)\n",
    "        "
   ]
  },
  {
   "cell_type": "code",
   "execution_count": null,
   "id": "24f432d5-0df1-4f3a-8b77-4a20f82d26b8",
   "metadata": {},
   "outputs": [],
   "source": [
    "comp = ImpComparison(model = model, df = hai, control = hai_era, block_len = 100)"
   ]
  },
  {
   "cell_type": "code",
   "execution_count": null,
   "id": "571e91c8-25a4-4a62-b397-3db6cd311cae",
   "metadata": {},
   "outputs": [
    {
     "data": {
      "application/vnd.jupyter.widget-view+json": {
       "model_id": "7979044d4aea4a6193599a29bbd116ff",
       "version_major": 2,
       "version_minor": 0
      },
      "text/plain": [
       "  0%|          | 0/8 [00:00<?, ?it/s]"
      ]
     },
     "metadata": {},
     "output_type": "display_data"
    },
    {
     "data": {
      "application/vnd.jupyter.widget-view+json": {
       "model_id": "",
       "version_major": 2,
       "version_minor": 0
      },
      "text/plain": [
       "  0%|          | 0/5 [00:00<?, ?it/s]"
      ]
     },
     "metadata": {},
     "output_type": "display_data"
    },
    {
     "data": {
      "application/vnd.jupyter.widget-view+json": {
       "model_id": "",
       "version_major": 2,
       "version_minor": 0
      },
      "text/plain": [
       "  0%|          | 0/5 [00:00<?, ?it/s]"
      ]
     },
     "metadata": {},
     "output_type": "display_data"
    },
    {
     "data": {
      "application/vnd.jupyter.widget-view+json": {
       "model_id": "",
       "version_major": 2,
       "version_minor": 0
      },
      "text/plain": [
       "  0%|          | 0/5 [00:00<?, ?it/s]"
      ]
     },
     "metadata": {},
     "output_type": "display_data"
    },
    {
     "data": {
      "application/vnd.jupyter.widget-view+json": {
       "model_id": "",
       "version_major": 2,
       "version_minor": 0
      },
      "text/plain": [
       "  0%|          | 0/5 [00:00<?, ?it/s]"
      ]
     },
     "metadata": {},
     "output_type": "display_data"
    },
    {
     "data": {
      "application/vnd.jupyter.widget-view+json": {
       "model_id": "",
       "version_major": 2,
       "version_minor": 0
      },
      "text/plain": [
       "  0%|          | 0/5 [00:00<?, ?it/s]"
      ]
     },
     "metadata": {},
     "output_type": "display_data"
    },
    {
     "data": {
      "application/vnd.jupyter.widget-view+json": {
       "model_id": "",
       "version_major": 2,
       "version_minor": 0
      },
      "text/plain": [
       "  0%|          | 0/5 [00:00<?, ?it/s]"
      ]
     },
     "metadata": {},
     "output_type": "display_data"
    },
    {
     "data": {
      "application/vnd.jupyter.widget-view+json": {
       "model_id": "",
       "version_major": 2,
       "version_minor": 0
      },
      "text/plain": [
       "  0%|          | 0/5 [00:00<?, ?it/s]"
      ]
     },
     "metadata": {},
     "output_type": "display_data"
    },
    {
     "data": {
      "application/vnd.jupyter.widget-view+json": {
       "model_id": "",
       "version_major": 2,
       "version_minor": 0
      },
      "text/plain": [
       "  0%|          | 0/5 [00:00<?, ?it/s]"
      ]
     },
     "metadata": {},
     "output_type": "display_data"
    }
   ],
   "source": [
    "data_results = comp.compare(gap_len = [5,10,20, 45], var=[\"TA\", \"SW_IN\"], n_rep=5) "
   ]
  },
  {
   "cell_type": "code",
   "execution_count": null,
   "id": "5c70e615-e7a0-4408-9f06-e0a4d75a2b14",
   "metadata": {},
   "outputs": [
    {
     "data": {
      "text/html": [
       "<div>\n",
       "<style scoped>\n",
       "    .dataframe tbody tr th:only-of-type {\n",
       "        vertical-align: middle;\n",
       "    }\n",
       "\n",
       "    .dataframe tbody tr th {\n",
       "        vertical-align: top;\n",
       "    }\n",
       "\n",
       "    .dataframe thead th {\n",
       "        text-align: right;\n",
       "    }\n",
       "</style>\n",
       "<table border=\"1\" class=\"dataframe\">\n",
       "  <thead>\n",
       "    <tr style=\"text-align: right;\">\n",
       "      <th></th>\n",
       "      <th>method</th>\n",
       "      <th>var</th>\n",
       "      <th>gap_len</th>\n",
       "      <th>idx_rep</th>\n",
       "      <th>rmse</th>\n",
       "      <th>rmse_norm</th>\n",
       "    </tr>\n",
       "  </thead>\n",
       "  <tbody>\n",
       "    <tr>\n",
       "      <th>0</th>\n",
       "      <td>KalmanFilter</td>\n",
       "      <td>TA</td>\n",
       "      <td>2.5</td>\n",
       "      <td>0</td>\n",
       "      <td>0.218275</td>\n",
       "      <td>0.027544</td>\n",
       "    </tr>\n",
       "    <tr>\n",
       "      <th>3</th>\n",
       "      <td>KalmanFilter</td>\n",
       "      <td>TA</td>\n",
       "      <td>2.5</td>\n",
       "      <td>1</td>\n",
       "      <td>0.258895</td>\n",
       "      <td>0.032670</td>\n",
       "    </tr>\n",
       "    <tr>\n",
       "      <th>6</th>\n",
       "      <td>KalmanFilter</td>\n",
       "      <td>TA</td>\n",
       "      <td>2.5</td>\n",
       "      <td>2</td>\n",
       "      <td>0.092771</td>\n",
       "      <td>0.011707</td>\n",
       "    </tr>\n",
       "    <tr>\n",
       "      <th>9</th>\n",
       "      <td>KalmanFilter</td>\n",
       "      <td>TA</td>\n",
       "      <td>2.5</td>\n",
       "      <td>3</td>\n",
       "      <td>0.075469</td>\n",
       "      <td>0.009523</td>\n",
       "    </tr>\n",
       "    <tr>\n",
       "      <th>12</th>\n",
       "      <td>KalmanFilter</td>\n",
       "      <td>TA</td>\n",
       "      <td>2.5</td>\n",
       "      <td>4</td>\n",
       "      <td>0.220622</td>\n",
       "      <td>0.027840</td>\n",
       "    </tr>\n",
       "  </tbody>\n",
       "</table>\n",
       "</div>"
      ],
      "text/plain": [
       "          method var gap_len  idx_rep      rmse  rmse_norm\n",
       "0   KalmanFilter  TA     2.5        0  0.218275   0.027544\n",
       "3   KalmanFilter  TA     2.5        1  0.258895   0.032670\n",
       "6   KalmanFilter  TA     2.5        2  0.092771   0.011707\n",
       "9   KalmanFilter  TA     2.5        3  0.075469   0.009523\n",
       "12  KalmanFilter  TA     2.5        4  0.220622   0.027840"
      ]
     },
     "execution_count": null,
     "metadata": {},
     "output_type": "execute_result"
    }
   ],
   "source": [
    "data_results.head()"
   ]
  },
  {
   "cell_type": "code",
   "execution_count": null,
   "id": "7709904f-4d83-4ac7-8004-a635635a3014",
   "metadata": {},
   "outputs": [
    {
     "data": {
      "text/plain": [
       "Index(['method', 'var', 'gap_len', 'idx_rep', 'rmse', 'rmse_norm'], dtype='object')"
      ]
     },
     "execution_count": null,
     "metadata": {},
     "output_type": "execute_result"
    }
   ],
   "source": [
    "data_results.columns"
   ]
  },
  {
   "cell_type": "markdown",
   "id": "a7e94fd3-08b1-4a60-a3dd-855a4ec32235",
   "metadata": {},
   "source": [
    "### Kalman Filters"
   ]
  },
  {
   "cell_type": "code",
   "execution_count": null,
   "id": "330057e2-ed5a-45e5-99f8-c0a30d391e1d",
   "metadata": {},
   "outputs": [],
   "source": [
    "#| export\n",
    "class KalmanImpComparison():\n",
    "    \"\"\"Compare different Kalman filters\"\"\"\n",
    "    def __init__(self,\n",
    "                 models: pd.DataFrame, # model, gap_single_var, \n",
    "                 df: pd.DataFrame,\n",
    "                 control: pd.DataFrame,\n",
    "                 block_len:int,\n",
    "                 rmse:bool=True,\n",
    "                 time_series:bool = False):\n",
    "        store_attr()\n",
    "        self.imps = models.assign(imp = models.model.map(lambda model: KalmanImputation(model)))\n",
    "        self.columns = list(df.columns)\n",
    "        aggrs = []\n",
    "        if rmse: aggrs.append(RMSEAgg(df))\n",
    "        if time_series: aggrs.append(timeseriesAgg) \n",
    "        self.aggrs = aggrs\n",
    "        \n",
    "    def _compare_single(self, n_rep:int, gap_len:int, var:list[str]):\n",
    "        \"\"\"Compares `n_rep` times the imputation methods, for gap in `var` with len `gap_len`\"\"\"\n",
    "        outs = []\n",
    "        imps = imps = self.imps[self.imps['var'] == var] if 'var' in self.imps.columns else self.imps\n",
    "             \n",
    "        for (_,imp) in imps.iterrows():\n",
    "            gap_single_var = imp.gap_single_var if hasattr(imp, 'gap_single_var') else True\n",
    "            dls = imp_dataloader(self.df, self.control,\n",
    "                                 var_sel = var if gap_single_var else self.columns,\n",
    "                                 gap_len=gap_len, block_len=self.block_len, control_lags = [1], n_rep=1, bs=1).cpu()\n",
    "\n",
    "            items = random.choices(dls.items, k=n_rep)\n",
    "            var_idx = _index_var(self.df, [var])[0]\n",
    "            metrics_fn = MultiMetrics(loss = PredictLossVar(only_gap=True, var = var_idx), likelihood = PredictLikelihoodVar(only_gap=True, var = var_idx) )\n",
    "            preds, targs, metrics = imp.imp.preds_all_metrics(items = items, dls=dls, metrics=metrics_fn)\n",
    "                        \n",
    "            for i in range(len(preds)):\n",
    "                pred = preds[i].mean.iloc[:, [var_idx]]\n",
    "                targ = MeteoImpDf(targs[i].data.iloc[:, [var_idx]], targs[1].mask.iloc[:, [var_idx]], targs[i].control.iloc[:, [var_idx]])\n",
    "                out = {\n",
    "                    'var': var,\n",
    "                    'loss': metrics['loss'][i].item(),\n",
    "                    'likelihood': metrics['likelihood'][i].item(),\n",
    "                    'gap_len': gap_len,\n",
    "                    'gap_idx': i,\n",
    "                } | imp.drop(index=[\"model\", \"imp\"]).to_dict()\n",
    "                for aggr in self.aggrs:\n",
    "                    out = out | aggr(targ, pred, var_idx)\n",
    "                outs.append(out)\n",
    "        return pd.DataFrame(outs)\n",
    "    \n",
    "    def compare(self, n_rep:int, gap_len:list[int], var:list[list[str]]):\n",
    "        \"\"\"Compare imputation performance for all combination of parameters\"\"\"\n",
    "        arg_sets = list(product_dict(gap_len=tuplify(gap_len), var=tuplify(var)))\n",
    "        out = []\n",
    "        for arg_set in tqdm(arg_sets):\n",
    "            out.append(self._compare_single(**arg_set, n_rep=n_rep))\n",
    "        return pd.concat(out)\n",
    "        "
   ]
  },
  {
   "cell_type": "code",
   "execution_count": null,
   "id": "8fb9a63d-3325-4653-a16a-f84bb8b5e838",
   "metadata": {},
   "outputs": [],
   "source": [
    "base_path = here(\"analysis/results/\")"
   ]
  },
  {
   "cell_type": "code",
   "execution_count": null,
   "id": "928cc7b0-7707-4901-bc06-c1ff93a9ae10",
   "metadata": {},
   "outputs": [],
   "source": [
    "models = pd.DataFrame(columns = [\"use_control\", \"gap_single_var\"])"
   ]
  },
  {
   "cell_type": "code",
   "execution_count": null,
   "id": "6e1c0178-5cdd-446c-b63e-00119f1c293a",
   "metadata": {},
   "outputs": [],
   "source": [
    "#| export\n",
    "def l_model(x): return torch.load(base_path / x)"
   ]
  },
  {
   "cell_type": "code",
   "execution_count": null,
   "id": "b8c1411d-a0f1-42d4-8270-869fde721082",
   "metadata": {},
   "outputs": [],
   "source": [
    "models = [\n",
    "    {'use_control': True,  'gap_single_var': True,  'model': l_model(\"trained_4_feb_All_gap_varying_12_v2.pickle\")},\n",
    "    {'use_control': True,  'gap_single_var': False, 'model': l_model(\"trained_4_feb_All_gap_all_12_v1.pickle\")},\n",
    "    {'use_control': False, 'gap_single_var': False, 'model': l_model(\"trained_4_feb_All_gap_all_24_no_control_v1.pickle\")},\n",
    "    {'use_control': False, 'gap_single_var': True,  'model': l_model(\"trained_4_feb_All_gap_varying_24_no_control_v1.pickle\")},\n",
    "]\n",
    "models = pd.DataFrame.from_records(models)"
   ]
  },
  {
   "cell_type": "code",
   "execution_count": null,
   "id": "dc270464-2bf0-4e30-9df2-96b4d5f474d9",
   "metadata": {},
   "outputs": [],
   "source": [
    "kcomp = KalmanImpComparison(models, hai, hai_era, 100)"
   ]
  },
  {
   "cell_type": "code",
   "execution_count": null,
   "id": "3e618f9d-159b-413e-bc2e-b544806d0906",
   "metadata": {},
   "outputs": [],
   "source": [
    "#| export\n",
    "from meteo_imp.kalman.fastai import _index_var"
   ]
  },
  {
   "cell_type": "code",
   "execution_count": null,
   "id": "48f45340-e2c0-4123-bee5-d44bb31be0b0",
   "metadata": {},
   "outputs": [
    {
     "data": {
      "text/html": [
       "<div>\n",
       "<style scoped>\n",
       "    .dataframe tbody tr th:only-of-type {\n",
       "        vertical-align: middle;\n",
       "    }\n",
       "\n",
       "    .dataframe tbody tr th {\n",
       "        vertical-align: top;\n",
       "    }\n",
       "\n",
       "    .dataframe thead th {\n",
       "        text-align: right;\n",
       "    }\n",
       "</style>\n",
       "<table border=\"1\" class=\"dataframe\">\n",
       "  <thead>\n",
       "    <tr style=\"text-align: right;\">\n",
       "      <th></th>\n",
       "      <th>use_control</th>\n",
       "      <th>gap_single_var</th>\n",
       "      <th>model</th>\n",
       "    </tr>\n",
       "  </thead>\n",
       "  <tbody>\n",
       "    <tr>\n",
       "      <th>0</th>\n",
       "      <td>True</td>\n",
       "      <td>True</td>\n",
       "      <td>Kalman Filter\\n        N dim obs: 7,\\n        N dim state: 14,\\n        N dim contr: 14</td>\n",
       "    </tr>\n",
       "    <tr>\n",
       "      <th>1</th>\n",
       "      <td>True</td>\n",
       "      <td>False</td>\n",
       "      <td>Kalman Filter\\n        N dim obs: 7,\\n        N dim state: 14,\\n        N dim contr: 14</td>\n",
       "    </tr>\n",
       "    <tr>\n",
       "      <th>2</th>\n",
       "      <td>False</td>\n",
       "      <td>False</td>\n",
       "      <td>Kalman Filter\\n        N dim obs: 7,\\n        N dim state: 14,\\n        N dim contr: 14</td>\n",
       "    </tr>\n",
       "    <tr>\n",
       "      <th>3</th>\n",
       "      <td>False</td>\n",
       "      <td>True</td>\n",
       "      <td>Kalman Filter\\n        N dim obs: 7,\\n        N dim state: 14,\\n        N dim contr: 14</td>\n",
       "    </tr>\n",
       "  </tbody>\n",
       "</table>\n",
       "</div>"
      ],
      "text/plain": [
       "   use_control  gap_single_var  \\\n",
       "0         True            True   \n",
       "1         True           False   \n",
       "2        False           False   \n",
       "3        False            True   \n",
       "\n",
       "                                                                                     model  \n",
       "0  Kalman Filter\\n        N dim obs: 7,\\n        N dim state: 14,\\n        N dim contr: 14  \n",
       "1  Kalman Filter\\n        N dim obs: 7,\\n        N dim state: 14,\\n        N dim contr: 14  \n",
       "2  Kalman Filter\\n        N dim obs: 7,\\n        N dim state: 14,\\n        N dim contr: 14  \n",
       "3  Kalman Filter\\n        N dim obs: 7,\\n        N dim state: 14,\\n        N dim contr: 14  "
      ]
     },
     "execution_count": null,
     "metadata": {},
     "output_type": "execute_result"
    }
   ],
   "source": [
    "models"
   ]
  },
  {
   "cell_type": "code",
   "execution_count": null,
   "id": "0362b1ad-3081-43fb-aef3-4dedab3e2d58",
   "metadata": {},
   "outputs": [
    {
     "data": {
      "application/vnd.jupyter.widget-view+json": {
       "model_id": "23256cc20a8c4cd2b7de3d905c425310",
       "version_major": 2,
       "version_minor": 0
      },
      "text/plain": [
       "  0%|          | 0/21 [00:00<?, ?it/s]"
      ]
     },
     "metadata": {},
     "output_type": "display_data"
    }
   ],
   "source": [
    "k_results = kcomp.compare(n_rep =3, gap_len = [6, 12, 24], var = list(hai.columns))"
   ]
  },
  {
   "cell_type": "code",
   "execution_count": null,
   "id": "e8a8e2d2-8dfc-4819-b321-73ab44f3875d",
   "metadata": {},
   "outputs": [
    {
     "data": {
      "text/html": [
       "<div>\n",
       "<style scoped>\n",
       "    .dataframe tbody tr th:only-of-type {\n",
       "        vertical-align: middle;\n",
       "    }\n",
       "\n",
       "    .dataframe tbody tr th {\n",
       "        vertical-align: top;\n",
       "    }\n",
       "\n",
       "    .dataframe thead th {\n",
       "        text-align: right;\n",
       "    }\n",
       "</style>\n",
       "<table border=\"1\" class=\"dataframe\">\n",
       "  <thead>\n",
       "    <tr style=\"text-align: right;\">\n",
       "      <th></th>\n",
       "      <th>var</th>\n",
       "      <th>loss</th>\n",
       "      <th>likelihood</th>\n",
       "      <th>gap_len</th>\n",
       "      <th>gap_idx</th>\n",
       "      <th>use_control</th>\n",
       "      <th>gap_single_var</th>\n",
       "      <th>rmse</th>\n",
       "      <th>rmse_norm</th>\n",
       "    </tr>\n",
       "  </thead>\n",
       "  <tbody>\n",
       "    <tr>\n",
       "      <th>0</th>\n",
       "      <td>TA</td>\n",
       "      <td>-11.457446</td>\n",
       "      <td>6.843349</td>\n",
       "      <td>6</td>\n",
       "      <td>0</td>\n",
       "      <td>True</td>\n",
       "      <td>True</td>\n",
       "      <td>0.098333</td>\n",
       "      <td>0.012409</td>\n",
       "    </tr>\n",
       "    <tr>\n",
       "      <th>1</th>\n",
       "      <td>TA</td>\n",
       "      <td>-11.403846</td>\n",
       "      <td>7.502936</td>\n",
       "      <td>6</td>\n",
       "      <td>1</td>\n",
       "      <td>True</td>\n",
       "      <td>True</td>\n",
       "      <td>0.123192</td>\n",
       "      <td>0.015546</td>\n",
       "    </tr>\n",
       "    <tr>\n",
       "      <th>2</th>\n",
       "      <td>TA</td>\n",
       "      <td>-11.095445</td>\n",
       "      <td>7.511064</td>\n",
       "      <td>6</td>\n",
       "      <td>2</td>\n",
       "      <td>True</td>\n",
       "      <td>True</td>\n",
       "      <td>0.190937</td>\n",
       "      <td>0.024094</td>\n",
       "    </tr>\n",
       "    <tr>\n",
       "      <th>3</th>\n",
       "      <td>TA</td>\n",
       "      <td>-7.359724</td>\n",
       "      <td>6.149930</td>\n",
       "      <td>6</td>\n",
       "      <td>0</td>\n",
       "      <td>True</td>\n",
       "      <td>False</td>\n",
       "      <td>0.536632</td>\n",
       "      <td>0.067717</td>\n",
       "    </tr>\n",
       "    <tr>\n",
       "      <th>4</th>\n",
       "      <td>TA</td>\n",
       "      <td>-10.105530</td>\n",
       "      <td>6.301454</td>\n",
       "      <td>6</td>\n",
       "      <td>1</td>\n",
       "      <td>True</td>\n",
       "      <td>False</td>\n",
       "      <td>0.111838</td>\n",
       "      <td>0.014113</td>\n",
       "    </tr>\n",
       "    <tr>\n",
       "      <th>...</th>\n",
       "      <td>...</td>\n",
       "      <td>...</td>\n",
       "      <td>...</td>\n",
       "      <td>...</td>\n",
       "      <td>...</td>\n",
       "      <td>...</td>\n",
       "      <td>...</td>\n",
       "      <td>...</td>\n",
       "      <td>...</td>\n",
       "    </tr>\n",
       "    <tr>\n",
       "      <th>7</th>\n",
       "      <td>LW_IN</td>\n",
       "      <td>28.498815</td>\n",
       "      <td>1.750842</td>\n",
       "      <td>24</td>\n",
       "      <td>1</td>\n",
       "      <td>False</td>\n",
       "      <td>False</td>\n",
       "      <td>34.109709</td>\n",
       "      <td>0.812993</td>\n",
       "    </tr>\n",
       "    <tr>\n",
       "      <th>8</th>\n",
       "      <td>LW_IN</td>\n",
       "      <td>18.994283</td>\n",
       "      <td>1.731181</td>\n",
       "      <td>24</td>\n",
       "      <td>2</td>\n",
       "      <td>False</td>\n",
       "      <td>False</td>\n",
       "      <td>25.973278</td>\n",
       "      <td>0.619064</td>\n",
       "    </tr>\n",
       "    <tr>\n",
       "      <th>9</th>\n",
       "      <td>LW_IN</td>\n",
       "      <td>17.397637</td>\n",
       "      <td>1.490525</td>\n",
       "      <td>24</td>\n",
       "      <td>0</td>\n",
       "      <td>False</td>\n",
       "      <td>True</td>\n",
       "      <td>23.222192</td>\n",
       "      <td>0.553493</td>\n",
       "    </tr>\n",
       "    <tr>\n",
       "      <th>10</th>\n",
       "      <td>LW_IN</td>\n",
       "      <td>15.005159</td>\n",
       "      <td>1.179538</td>\n",
       "      <td>24</td>\n",
       "      <td>1</td>\n",
       "      <td>False</td>\n",
       "      <td>True</td>\n",
       "      <td>22.517218</td>\n",
       "      <td>0.536690</td>\n",
       "    </tr>\n",
       "    <tr>\n",
       "      <th>11</th>\n",
       "      <td>LW_IN</td>\n",
       "      <td>24.960952</td>\n",
       "      <td>1.730221</td>\n",
       "      <td>24</td>\n",
       "      <td>2</td>\n",
       "      <td>False</td>\n",
       "      <td>True</td>\n",
       "      <td>26.666184</td>\n",
       "      <td>0.635579</td>\n",
       "    </tr>\n",
       "  </tbody>\n",
       "</table>\n",
       "<p>252 rows × 9 columns</p>\n",
       "</div>"
      ],
      "text/plain": [
       "      var       loss  likelihood  gap_len  gap_idx  use_control  \\\n",
       "0      TA -11.457446    6.843349        6        0         True   \n",
       "1      TA -11.403846    7.502936        6        1         True   \n",
       "2      TA -11.095445    7.511064        6        2         True   \n",
       "3      TA  -7.359724    6.149930        6        0         True   \n",
       "4      TA -10.105530    6.301454        6        1         True   \n",
       "..    ...        ...         ...      ...      ...          ...   \n",
       "7   LW_IN  28.498815    1.750842       24        1        False   \n",
       "8   LW_IN  18.994283    1.731181       24        2        False   \n",
       "9   LW_IN  17.397637    1.490525       24        0        False   \n",
       "10  LW_IN  15.005159    1.179538       24        1        False   \n",
       "11  LW_IN  24.960952    1.730221       24        2        False   \n",
       "\n",
       "    gap_single_var       rmse  rmse_norm  \n",
       "0             True   0.098333   0.012409  \n",
       "1             True   0.123192   0.015546  \n",
       "2             True   0.190937   0.024094  \n",
       "3            False   0.536632   0.067717  \n",
       "4            False   0.111838   0.014113  \n",
       "..             ...        ...        ...  \n",
       "7            False  34.109709   0.812993  \n",
       "8            False  25.973278   0.619064  \n",
       "9             True  23.222192   0.553493  \n",
       "10            True  22.517218   0.536690  \n",
       "11            True  26.666184   0.635579  \n",
       "\n",
       "[252 rows x 9 columns]"
      ]
     },
     "execution_count": null,
     "metadata": {},
     "output_type": "execute_result"
    }
   ],
   "source": [
    "k_results"
   ]
  },
  {
   "cell_type": "markdown",
   "id": "17c70a6e-99ec-4a59-ade1-f5bc6ad5df6d",
   "metadata": {},
   "source": [
    "## Plotting"
   ]
  },
  {
   "cell_type": "code",
   "execution_count": null,
   "id": "7cc52a80-eb0a-460a-939d-e0f67c999ec1",
   "metadata": {},
   "outputs": [],
   "source": [
    "#| export\n",
    "import altair as alt"
   ]
  },
  {
   "cell_type": "code",
   "execution_count": null,
   "id": "92940ebd-b6c6-462e-969c-6989a620b9e4",
   "metadata": {},
   "outputs": [],
   "source": [
    "#| export\n",
    "def facet_wrap(data: pd.DataFrame, # full dataset\n",
    "               plot_fn,# function that makes the plot, takes 2 arguments: data and y_label\n",
    "               col: str, # column to facet\n",
    "               y_labels: list[str]|None =None, # custom labels y axis \n",
    "               n_cols=3,\n",
    "               y_resolve='independent'\n",
    "              ):\n",
    "    col_vals = data[col].unique()\n",
    "    plot_list = [alt.hconcat() for _ in range(0, len(col_vals), n_cols)]\n",
    "    for i, col_v in enumerate(col_vals):\n",
    "        plot = plot_fn(data[data[col]==col_v].copy(),\n",
    "                       y_labels[i] if y_labels is not None else col_v\n",
    "                      ).properties(title=str(col_v))\n",
    "        plot_list[i // n_cols] |= plot\n",
    "    return alt.vconcat(*plot_list)#.resolve_scale(\n",
    "        #y=y_resolve\n",
    "    #)\n",
    "    "
   ]
  },
  {
   "cell_type": "code",
   "execution_count": null,
   "id": "4a876831-e0c2-45c7-81ca-9d0283c4d694",
   "metadata": {},
   "outputs": [],
   "source": [
    "#| export\n",
    "def facet_grid(data: pd.DataFrame, # full dataset\n",
    "               plot_fn,# function that makes the plot, takes 2 arguments: data and y_label\n",
    "               col: str, # column to facet,\n",
    "               row: str,\n",
    "               y_labels: list[str]|None = None, # custom labels y axis\n",
    "              ):\n",
    "    row_vals = data[row].unique()\n",
    "    n_cols = len(data[col].unique())\n",
    "    plots = []\n",
    "    for row_val, y_label in zip_longest(row_vals, listify(y_labels)):\n",
    "        plot = facet_wrap(data[data[row]==row_val].copy(), plot_fn, col, y_label, n_cols=n_cols).properties(title=row_val)\n",
    "        plots.append(plot)\n",
    "    return alt.vconcat(*plots)    "
   ]
  },
  {
   "cell_type": "code",
   "execution_count": null,
   "id": "468a80e2-095c-4e1e-aa06-16d51da99934",
   "metadata": {},
   "outputs": [],
   "source": [
    "from itertools import product"
   ]
  },
  {
   "cell_type": "code",
   "execution_count": null,
   "id": "b0ebb815-43d5-474e-b7ef-bdcf29e128b5",
   "metadata": {},
   "outputs": [],
   "source": [
    "test_data = pd.DataFrame(list(product(['0','1'], ['a', 'b'])), columns = ['row', 'col'])\n",
    "test_data['text'] = test_data.row + test_data.col"
   ]
  },
  {
   "cell_type": "code",
   "execution_count": null,
   "id": "c7f56662-5038-4dce-9cd0-37577c7600f8",
   "metadata": {},
   "outputs": [],
   "source": [
    "def test_plot(data, *args): return alt.Chart(data).mark_text().encode(text='text')"
   ]
  },
  {
   "cell_type": "code",
   "execution_count": null,
   "id": "dc57443f-93ec-4168-8af6-2461c6f325c7",
   "metadata": {},
   "outputs": [
    {
     "data": {
      "text/html": [
       "\n",
       "<div id=\"altair-viz-c65b013b94fe485896f3fd09acc86ec6\"></div>\n",
       "<script type=\"text/javascript\">\n",
       "  var VEGA_DEBUG = (typeof VEGA_DEBUG == \"undefined\") ? {} : VEGA_DEBUG;\n",
       "  (function(spec, embedOpt){\n",
       "    let outputDiv = document.currentScript.previousElementSibling;\n",
       "    if (outputDiv.id !== \"altair-viz-c65b013b94fe485896f3fd09acc86ec6\") {\n",
       "      outputDiv = document.getElementById(\"altair-viz-c65b013b94fe485896f3fd09acc86ec6\");\n",
       "    }\n",
       "    const paths = {\n",
       "      \"vega\": \"https://cdn.jsdelivr.net/npm/vega@5?noext\",\n",
       "      \"vega-lib\": \"https://cdn.jsdelivr.net/npm/vega-lib?noext\",\n",
       "      \"vega-lite\": \"https://cdn.jsdelivr.net/npm/vega-lite@5.2.0?noext\",\n",
       "      \"vega-embed\": \"https://cdn.jsdelivr.net/npm/vega-embed@6?noext\",\n",
       "    };\n",
       "\n",
       "    function maybeLoadScript(lib, version) {\n",
       "      var key = `${lib.replace(\"-\", \"\")}_version`;\n",
       "      return (VEGA_DEBUG[key] == version) ?\n",
       "        Promise.resolve(paths[lib]) :\n",
       "        new Promise(function(resolve, reject) {\n",
       "          var s = document.createElement('script');\n",
       "          document.getElementsByTagName(\"head\")[0].appendChild(s);\n",
       "          s.async = true;\n",
       "          s.onload = () => {\n",
       "            VEGA_DEBUG[key] = version;\n",
       "            return resolve(paths[lib]);\n",
       "          };\n",
       "          s.onerror = () => reject(`Error loading script: ${paths[lib]}`);\n",
       "          s.src = paths[lib];\n",
       "        });\n",
       "    }\n",
       "\n",
       "    function showError(err) {\n",
       "      outputDiv.innerHTML = `<div class=\"error\" style=\"color:red;\">${err}</div>`;\n",
       "      throw err;\n",
       "    }\n",
       "\n",
       "    function displayChart(vegaEmbed) {\n",
       "      vegaEmbed(outputDiv, spec, embedOpt)\n",
       "        .catch(err => showError(`Javascript Error: ${err.message}<br>This usually means there's a typo in your chart specification. See the javascript console for the full traceback.`));\n",
       "    }\n",
       "\n",
       "    if(typeof define === \"function\" && define.amd) {\n",
       "      requirejs.config({paths});\n",
       "      require([\"vega-embed\"], displayChart, err => showError(`Error loading script: ${err.message}`));\n",
       "    } else {\n",
       "      maybeLoadScript(\"vega\", \"5\")\n",
       "        .then(() => maybeLoadScript(\"vega-lite\", \"5.2.0\"))\n",
       "        .then(() => maybeLoadScript(\"vega-embed\", \"6\"))\n",
       "        .catch(showError)\n",
       "        .then(() => displayChart(vegaEmbed));\n",
       "    }\n",
       "  })({\"config\": {\"view\": {\"continuousWidth\": 300, \"continuousHeight\": 300}}, \"vconcat\": [{\"hconcat\": [{\"mark\": \"text\", \"encoding\": {\"text\": {\"field\": \"text\", \"type\": \"nominal\"}}, \"title\": \"0\"}, {\"data\": {\"name\": \"data-3b4bb4407d10d355deeefbc25d1c7fb8\"}, \"mark\": \"text\", \"encoding\": {\"text\": {\"field\": \"text\", \"type\": \"nominal\"}}, \"title\": \"1\"}]}], \"data\": {\"name\": \"data-8c79f6f2a7e784a5debf560bf3815208\"}, \"$schema\": \"https://vega.github.io/schema/vega-lite/v5.2.0.json\", \"datasets\": {\"data-8c79f6f2a7e784a5debf560bf3815208\": [{\"row\": \"0\", \"col\": \"a\", \"text\": \"0a\"}, {\"row\": \"0\", \"col\": \"b\", \"text\": \"0b\"}], \"data-3b4bb4407d10d355deeefbc25d1c7fb8\": [{\"row\": \"1\", \"col\": \"a\", \"text\": \"1a\"}, {\"row\": \"1\", \"col\": \"b\", \"text\": \"1b\"}]}}, {\"mode\": \"vega-lite\"});\n",
       "</script>"
      ],
      "text/plain": [
       "alt.VConcatChart(...)"
      ]
     },
     "execution_count": null,
     "metadata": {},
     "output_type": "execute_result"
    }
   ],
   "source": [
    "facet_wrap(test_data, test_plot, col = 'row')"
   ]
  },
  {
   "cell_type": "code",
   "execution_count": null,
   "id": "ddef1493-119e-48ce-ba2e-56888959ffb3",
   "metadata": {},
   "outputs": [
    {
     "data": {
      "text/html": [
       "\n",
       "<div id=\"altair-viz-3bccb04cd3344655a6191c448d2065dc\"></div>\n",
       "<script type=\"text/javascript\">\n",
       "  var VEGA_DEBUG = (typeof VEGA_DEBUG == \"undefined\") ? {} : VEGA_DEBUG;\n",
       "  (function(spec, embedOpt){\n",
       "    let outputDiv = document.currentScript.previousElementSibling;\n",
       "    if (outputDiv.id !== \"altair-viz-3bccb04cd3344655a6191c448d2065dc\") {\n",
       "      outputDiv = document.getElementById(\"altair-viz-3bccb04cd3344655a6191c448d2065dc\");\n",
       "    }\n",
       "    const paths = {\n",
       "      \"vega\": \"https://cdn.jsdelivr.net/npm/vega@5?noext\",\n",
       "      \"vega-lib\": \"https://cdn.jsdelivr.net/npm/vega-lib?noext\",\n",
       "      \"vega-lite\": \"https://cdn.jsdelivr.net/npm/vega-lite@5.2.0?noext\",\n",
       "      \"vega-embed\": \"https://cdn.jsdelivr.net/npm/vega-embed@6?noext\",\n",
       "    };\n",
       "\n",
       "    function maybeLoadScript(lib, version) {\n",
       "      var key = `${lib.replace(\"-\", \"\")}_version`;\n",
       "      return (VEGA_DEBUG[key] == version) ?\n",
       "        Promise.resolve(paths[lib]) :\n",
       "        new Promise(function(resolve, reject) {\n",
       "          var s = document.createElement('script');\n",
       "          document.getElementsByTagName(\"head\")[0].appendChild(s);\n",
       "          s.async = true;\n",
       "          s.onload = () => {\n",
       "            VEGA_DEBUG[key] = version;\n",
       "            return resolve(paths[lib]);\n",
       "          };\n",
       "          s.onerror = () => reject(`Error loading script: ${paths[lib]}`);\n",
       "          s.src = paths[lib];\n",
       "        });\n",
       "    }\n",
       "\n",
       "    function showError(err) {\n",
       "      outputDiv.innerHTML = `<div class=\"error\" style=\"color:red;\">${err}</div>`;\n",
       "      throw err;\n",
       "    }\n",
       "\n",
       "    function displayChart(vegaEmbed) {\n",
       "      vegaEmbed(outputDiv, spec, embedOpt)\n",
       "        .catch(err => showError(`Javascript Error: ${err.message}<br>This usually means there's a typo in your chart specification. See the javascript console for the full traceback.`));\n",
       "    }\n",
       "\n",
       "    if(typeof define === \"function\" && define.amd) {\n",
       "      requirejs.config({paths});\n",
       "      require([\"vega-embed\"], displayChart, err => showError(`Error loading script: ${err.message}`));\n",
       "    } else {\n",
       "      maybeLoadScript(\"vega\", \"5\")\n",
       "        .then(() => maybeLoadScript(\"vega-lite\", \"5.2.0\"))\n",
       "        .then(() => maybeLoadScript(\"vega-embed\", \"6\"))\n",
       "        .catch(showError)\n",
       "        .then(() => displayChart(vegaEmbed));\n",
       "    }\n",
       "  })({\"config\": {\"view\": {\"continuousWidth\": 300, \"continuousHeight\": 300}}, \"vconcat\": [{\"vconcat\": [{\"hconcat\": [{\"mark\": \"text\", \"encoding\": {\"text\": {\"field\": \"text\", \"type\": \"nominal\"}}, \"title\": \"a\"}, {\"data\": {\"name\": \"data-f20217130d2fd3a8bd411768620867f4\"}, \"mark\": \"text\", \"encoding\": {\"text\": {\"field\": \"text\", \"type\": \"nominal\"}}, \"title\": \"b\"}]}], \"data\": {\"name\": \"data-bcec33718fc2d0107d4dd3cd1ef4de05\"}, \"title\": \"0\"}, {\"vconcat\": [{\"hconcat\": [{\"mark\": \"text\", \"encoding\": {\"text\": {\"field\": \"text\", \"type\": \"nominal\"}}, \"title\": \"a\"}, {\"data\": {\"name\": \"data-93362acdbb1f83408b5ea74a7702b071\"}, \"mark\": \"text\", \"encoding\": {\"text\": {\"field\": \"text\", \"type\": \"nominal\"}}, \"title\": \"b\"}]}], \"data\": {\"name\": \"data-3fa31d7f1c047be528e8fc3c5f4071c1\"}, \"title\": \"1\"}], \"$schema\": \"https://vega.github.io/schema/vega-lite/v5.2.0.json\", \"datasets\": {\"data-bcec33718fc2d0107d4dd3cd1ef4de05\": [{\"row\": \"0\", \"col\": \"a\", \"text\": \"0a\"}], \"data-f20217130d2fd3a8bd411768620867f4\": [{\"row\": \"0\", \"col\": \"b\", \"text\": \"0b\"}], \"data-3fa31d7f1c047be528e8fc3c5f4071c1\": [{\"row\": \"1\", \"col\": \"a\", \"text\": \"1a\"}], \"data-93362acdbb1f83408b5ea74a7702b071\": [{\"row\": \"1\", \"col\": \"b\", \"text\": \"1b\"}]}}, {\"mode\": \"vega-lite\"});\n",
       "</script>"
      ],
      "text/plain": [
       "alt.VConcatChart(...)"
      ]
     },
     "execution_count": null,
     "metadata": {},
     "output_type": "execute_result"
    }
   ],
   "source": [
    "facet_grid(test_data, test_plot, col = 'col', row='row')"
   ]
  },
  {
   "cell_type": "code",
   "execution_count": null,
   "id": "62e4f19f-97c7-4d8c-ab03-bd21a5f0fdf2",
   "metadata": {},
   "outputs": [],
   "source": [
    "#| export\n",
    "method_scale = alt.Scale(domain=[\"KalmanFilter\", \"ERA\", \"MDS\"], scheme='dark2')\n",
    "meteo_scale = alt.Scale(domain = ['TA', 'SW_IN', 'LW_IN', 'VPD', 'WS', 'PA', 'P'], scheme='set2')"
   ]
  },
  {
   "cell_type": "markdown",
   "id": "2779adda-8017-4903-b6fd-57cffacdf1c3",
   "metadata": {},
   "source": [
    "### The Plot "
   ]
  },
  {
   "cell_type": "code",
   "execution_count": null,
   "id": "641a5dcb-46a5-4848-843d-ccc85c0cbd13",
   "metadata": {},
   "outputs": [],
   "source": [
    "def remove_outliers(data, var, groupby):\n",
    "    \"\"\"Simple but maybe computationally inefficent to remove outliers from boxplot \"\"\""
   ]
  },
  {
   "cell_type": "code",
   "execution_count": null,
   "id": "c90441d1-2163-4f60-b261-be9569dad45f",
   "metadata": {},
   "outputs": [],
   "source": [
    "def custom_box_plot(data, x, y, color, xoffset):\n",
    "    \"\"\"Boxplot for altair without outliers\"\"\"\n",
    "    bar = alt.Chart(data).mark_bar().encode(\n",
    "            x=x,\n",
    "            y='q1:Q',\n",
    "            y2='q2:Q',\n",
    "            color=color,\n",
    "            xoffset=xoffset\n",
    "        ).transform_aggregate(\n",
    "            q1=f'q1({y})',\n",
    "            q3=f'q1({y})',\n",
    "            groupby=[color, xoffset]\n",
    "    )\n",
    "    \n",
    "    return bar"
   ]
  },
  {
   "cell_type": "code",
   "execution_count": null,
   "id": "f6e9507c-3ec8-431c-a1c0-29ab39ccd39f",
   "metadata": {},
   "outputs": [],
   "source": [
    "# custom_box_plot(data_results, 'gap_len', 'rmse', 'method', 'method')"
   ]
  },
  {
   "cell_type": "code",
   "execution_count": null,
   "id": "f47f3d2b-8fa3-44be-9f56-0944cf09c3c2",
   "metadata": {},
   "outputs": [],
   "source": [
    "#| export\n",
    "def _the_plot(data, y_label='rmse', y = 'rmse'):\n",
    "    return alt.Chart(data).mark_boxplot(extent=\"min-max\").encode(\n",
    "        x = alt.X('gap_len:N', title='gap_len [h]', axis=alt.Axis(labelAngle=0)),\n",
    "        y = alt.Y(y, title=y_label, axis=alt.Axis(grid=True)),\n",
    "        color=alt.Color('method:N', scale=method_scale),\n",
    "        xOffset=alt.XOffset('method', scale=alt.Scale(domain=[\"KalmanFilter\", \"ERA\", \"MDS\"])),\n",
    "        # column=alt.Column('var')\n",
    "    ).properties(width=250, height=200)"
   ]
  },
  {
   "cell_type": "code",
   "execution_count": null,
   "id": "71c77295-9285-438c-a11e-d2b3b0ed319a",
   "metadata": {},
   "outputs": [],
   "source": [
    "#| export\n",
    "def the_plot(data):\n",
    "     return facet_wrap(data, _the_plot, \"var\", y_labels = [f\"rmse {var} [{units_big[var]}]\" for var in data['var'].unique()])"
   ]
  },
  {
   "cell_type": "code",
   "execution_count": null,
   "id": "023aa1d6-9635-4108-b1e6-6b8ffa67db27",
   "metadata": {},
   "outputs": [
    {
     "data": {
      "text/html": [
       "\n",
       "<div id=\"altair-viz-50206ecc655f4a70a7ff4dda489dc12a\"></div>\n",
       "<script type=\"text/javascript\">\n",
       "  var VEGA_DEBUG = (typeof VEGA_DEBUG == \"undefined\") ? {} : VEGA_DEBUG;\n",
       "  (function(spec, embedOpt){\n",
       "    let outputDiv = document.currentScript.previousElementSibling;\n",
       "    if (outputDiv.id !== \"altair-viz-50206ecc655f4a70a7ff4dda489dc12a\") {\n",
       "      outputDiv = document.getElementById(\"altair-viz-50206ecc655f4a70a7ff4dda489dc12a\");\n",
       "    }\n",
       "    const paths = {\n",
       "      \"vega\": \"https://cdn.jsdelivr.net/npm/vega@5?noext\",\n",
       "      \"vega-lib\": \"https://cdn.jsdelivr.net/npm/vega-lib?noext\",\n",
       "      \"vega-lite\": \"https://cdn.jsdelivr.net/npm/vega-lite@5.2.0?noext\",\n",
       "      \"vega-embed\": \"https://cdn.jsdelivr.net/npm/vega-embed@6?noext\",\n",
       "    };\n",
       "\n",
       "    function maybeLoadScript(lib, version) {\n",
       "      var key = `${lib.replace(\"-\", \"\")}_version`;\n",
       "      return (VEGA_DEBUG[key] == version) ?\n",
       "        Promise.resolve(paths[lib]) :\n",
       "        new Promise(function(resolve, reject) {\n",
       "          var s = document.createElement('script');\n",
       "          document.getElementsByTagName(\"head\")[0].appendChild(s);\n",
       "          s.async = true;\n",
       "          s.onload = () => {\n",
       "            VEGA_DEBUG[key] = version;\n",
       "            return resolve(paths[lib]);\n",
       "          };\n",
       "          s.onerror = () => reject(`Error loading script: ${paths[lib]}`);\n",
       "          s.src = paths[lib];\n",
       "        });\n",
       "    }\n",
       "\n",
       "    function showError(err) {\n",
       "      outputDiv.innerHTML = `<div class=\"error\" style=\"color:red;\">${err}</div>`;\n",
       "      throw err;\n",
       "    }\n",
       "\n",
       "    function displayChart(vegaEmbed) {\n",
       "      vegaEmbed(outputDiv, spec, embedOpt)\n",
       "        .catch(err => showError(`Javascript Error: ${err.message}<br>This usually means there's a typo in your chart specification. See the javascript console for the full traceback.`));\n",
       "    }\n",
       "\n",
       "    if(typeof define === \"function\" && define.amd) {\n",
       "      requirejs.config({paths});\n",
       "      require([\"vega-embed\"], displayChart, err => showError(`Error loading script: ${err.message}`));\n",
       "    } else {\n",
       "      maybeLoadScript(\"vega\", \"5\")\n",
       "        .then(() => maybeLoadScript(\"vega-lite\", \"5.2.0\"))\n",
       "        .then(() => maybeLoadScript(\"vega-embed\", \"6\"))\n",
       "        .catch(showError)\n",
       "        .then(() => displayChart(vegaEmbed));\n",
       "    }\n",
       "  })({\"config\": {\"view\": {\"continuousWidth\": 300, \"continuousHeight\": 300}}, \"vconcat\": [{\"hconcat\": [{\"mark\": {\"type\": \"boxplot\", \"extent\": \"min-max\"}, \"encoding\": {\"color\": {\"field\": \"method\", \"scale\": {\"domain\": [\"KalmanFilter\", \"ERA\", \"MDS\"], \"scheme\": \"dark2\"}, \"type\": \"nominal\"}, \"x\": {\"axis\": {\"labelAngle\": 0}, \"field\": \"gap_len\", \"title\": \"gap_len [h]\", \"type\": \"nominal\"}, \"xOffset\": {\"field\": \"method\", \"scale\": {\"domain\": [\"KalmanFilter\", \"ERA\", \"MDS\"]}, \"sort\": [\"KalmanFilter\", \"ERA\", \"MDS\"], \"type\": \"ordinal\"}, \"y\": {\"axis\": {\"grid\": true}, \"field\": \"rmse\", \"title\": \"rmse TA [\\u00b0C]\", \"type\": \"quantitative\"}}, \"height\": 200, \"title\": \"TA\", \"width\": 250}, {\"data\": {\"name\": \"data-57ce7da0db3172255a98cee41d2e4fe8\"}, \"mark\": {\"type\": \"boxplot\", \"extent\": \"min-max\"}, \"encoding\": {\"color\": {\"field\": \"method\", \"scale\": {\"domain\": [\"KalmanFilter\", \"ERA\", \"MDS\"], \"scheme\": \"dark2\"}, \"type\": \"nominal\"}, \"x\": {\"axis\": {\"labelAngle\": 0}, \"field\": \"gap_len\", \"title\": \"gap_len [h]\", \"type\": \"nominal\"}, \"xOffset\": {\"field\": \"method\", \"scale\": {\"domain\": [\"KalmanFilter\", \"ERA\", \"MDS\"]}, \"sort\": [\"KalmanFilter\", \"ERA\", \"MDS\"], \"type\": \"ordinal\"}, \"y\": {\"axis\": {\"grid\": true}, \"field\": \"rmse\", \"title\": \"rmse SW_IN [W m-2]\", \"type\": \"quantitative\"}}, \"height\": 200, \"title\": \"SW_IN\", \"width\": 250}]}], \"data\": {\"name\": \"data-70835c2fdde45976e5a2b7b8b050794b\"}, \"$schema\": \"https://vega.github.io/schema/vega-lite/v5.2.0.json\", \"datasets\": {\"data-70835c2fdde45976e5a2b7b8b050794b\": [{\"method\": \"KalmanFilter\", \"var\": \"TA\", \"gap_len\": 2.5, \"idx_rep\": 0, \"rmse\": 0.21827485140200586, \"rmse_norm\": 0.02754392081734267}, {\"method\": \"KalmanFilter\", \"var\": \"TA\", \"gap_len\": 2.5, \"idx_rep\": 1, \"rmse\": 0.2588952154861276, \"rmse_norm\": 0.03266977056466004}, {\"method\": \"KalmanFilter\", \"var\": \"TA\", \"gap_len\": 2.5, \"idx_rep\": 2, \"rmse\": 0.09277075304475633, \"rmse_norm\": 0.011706663683961853}, {\"method\": \"KalmanFilter\", \"var\": \"TA\", \"gap_len\": 2.5, \"idx_rep\": 3, \"rmse\": 0.07546909822259201, \"rmse_norm\": 0.009523382342251065}, {\"method\": \"KalmanFilter\", \"var\": \"TA\", \"gap_len\": 2.5, \"idx_rep\": 4, \"rmse\": 0.22062231467057408, \"rmse_norm\": 0.02784014524253772}, {\"method\": \"ERA\", \"var\": \"TA\", \"gap_len\": 2.5, \"idx_rep\": 0, \"rmse\": 1.3124766664592555, \"rmse_norm\": 0.16562033208756313}, {\"method\": \"ERA\", \"var\": \"TA\", \"gap_len\": 2.5, \"idx_rep\": 1, \"rmse\": 1.6085195678013982, \"rmse_norm\": 0.202977738040329}, {\"method\": \"ERA\", \"var\": \"TA\", \"gap_len\": 2.5, \"idx_rep\": 2, \"rmse\": 3.6546490939623735, \"rmse_norm\": 0.4611771104765394}, {\"method\": \"ERA\", \"var\": \"TA\", \"gap_len\": 2.5, \"idx_rep\": 3, \"rmse\": 0.6885711292234088, \"rmse_norm\": 0.0868902145099047}, {\"method\": \"ERA\", \"var\": \"TA\", \"gap_len\": 2.5, \"idx_rep\": 4, \"rmse\": 2.9776153210245275, \"rmse_norm\": 0.3757427853003342}, {\"method\": \"MDS\", \"var\": \"TA\", \"gap_len\": 2.5, \"idx_rep\": 0, \"rmse\": 3.533486923820946, \"rmse_norm\": 0.44588775763081695}, {\"method\": \"MDS\", \"var\": \"TA\", \"gap_len\": 2.5, \"idx_rep\": 1, \"rmse\": 4.999345809432867, \"rmse_norm\": 0.6308632635828602}, {\"method\": \"MDS\", \"var\": \"TA\", \"gap_len\": 2.5, \"idx_rep\": 2, \"rmse\": 1.798172136090133, \"rmse_norm\": 0.22690983690649563}, {\"method\": \"MDS\", \"var\": \"TA\", \"gap_len\": 2.5, \"idx_rep\": 3, \"rmse\": 2.541324452888777, \"rmse_norm\": 0.3206876057958096}, {\"method\": \"MDS\", \"var\": \"TA\", \"gap_len\": 2.5, \"idx_rep\": 4, \"rmse\": 3.392243673220649, \"rmse_norm\": 0.42806439004847663}, {\"method\": \"KalmanFilter\", \"var\": \"TA\", \"gap_len\": 5.0, \"idx_rep\": 0, \"rmse\": 0.7557668402758659, \"rmse_norm\": 0.09536958504941391}, {\"method\": \"KalmanFilter\", \"var\": \"TA\", \"gap_len\": 5.0, \"idx_rep\": 1, \"rmse\": 0.2534937616281092, \"rmse_norm\": 0.03198816562296299}, {\"method\": \"KalmanFilter\", \"var\": \"TA\", \"gap_len\": 5.0, \"idx_rep\": 2, \"rmse\": 0.29698671939519045, \"rmse_norm\": 0.03747650556296906}, {\"method\": \"KalmanFilter\", \"var\": \"TA\", \"gap_len\": 5.0, \"idx_rep\": 3, \"rmse\": 0.2996631362498825, \"rmse_norm\": 0.037814240365885356}, {\"method\": \"KalmanFilter\", \"var\": \"TA\", \"gap_len\": 5.0, \"idx_rep\": 4, \"rmse\": 0.37067943899975, \"rmse_norm\": 0.04677572817411762}, {\"method\": \"ERA\", \"var\": \"TA\", \"gap_len\": 5.0, \"idx_rep\": 0, \"rmse\": 0.7428108776801803, \"rmse_norm\": 0.09373468297271624}, {\"method\": \"ERA\", \"var\": \"TA\", \"gap_len\": 5.0, \"idx_rep\": 1, \"rmse\": 1.1564829008679722, \"rmse_norm\": 0.14593560936367933}, {\"method\": \"ERA\", \"var\": \"TA\", \"gap_len\": 5.0, \"idx_rep\": 2, \"rmse\": 0.7556730112952296, \"rmse_norm\": 0.09535774484887585}, {\"method\": \"ERA\", \"var\": \"TA\", \"gap_len\": 5.0, \"idx_rep\": 3, \"rmse\": 0.9921576991587578, \"rmse_norm\": 0.12519954968891425}, {\"method\": \"ERA\", \"var\": \"TA\", \"gap_len\": 5.0, \"idx_rep\": 4, \"rmse\": 0.4907731655255816, \"rmse_norm\": 0.061930255014201976}, {\"method\": \"MDS\", \"var\": \"TA\", \"gap_len\": 5.0, \"idx_rep\": 0, \"rmse\": 2.3194756263320198, \"rmse_norm\": 0.2926926880448608}, {\"method\": \"MDS\", \"var\": \"TA\", \"gap_len\": 5.0, \"idx_rep\": 1, \"rmse\": 2.6689311551902013, \"rmse_norm\": 0.3367901887611707}, {\"method\": \"MDS\", \"var\": \"TA\", \"gap_len\": 5.0, \"idx_rep\": 2, \"rmse\": 3.8302383625401784, \"rmse_norm\": 0.4833345733222007}, {\"method\": \"MDS\", \"var\": \"TA\", \"gap_len\": 5.0, \"idx_rep\": 3, \"rmse\": 4.158790049834242, \"rmse_norm\": 0.5247942357666159}, {\"method\": \"MDS\", \"var\": \"TA\", \"gap_len\": 5.0, \"idx_rep\": 4, \"rmse\": 1.4312901393723287, \"rmse_norm\": 0.180613304795738}, {\"method\": \"KalmanFilter\", \"var\": \"TA\", \"gap_len\": 10.0, \"idx_rep\": 0, \"rmse\": 1.2136831088596065, \"rmse_norm\": 0.15315365573749368}, {\"method\": \"KalmanFilter\", \"var\": \"TA\", \"gap_len\": 10.0, \"idx_rep\": 1, \"rmse\": 0.4085841326055893, \"rmse_norm\": 0.05155888973661032}, {\"method\": \"KalmanFilter\", \"var\": \"TA\", \"gap_len\": 10.0, \"idx_rep\": 2, \"rmse\": 0.8069300583887423, \"rmse_norm\": 0.10182582872297419}, {\"method\": \"KalmanFilter\", \"var\": \"TA\", \"gap_len\": 10.0, \"idx_rep\": 3, \"rmse\": 0.9503059919042384, \"rmse_norm\": 0.11991831777747423}, {\"method\": \"KalmanFilter\", \"var\": \"TA\", \"gap_len\": 10.0, \"idx_rep\": 4, \"rmse\": 0.5034127845661044, \"rmse_norm\": 0.06352523796243155}, {\"method\": \"ERA\", \"var\": \"TA\", \"gap_len\": 10.0, \"idx_rep\": 0, \"rmse\": 0.7116045601315383, \"rmse_norm\": 0.08979678387880005}, {\"method\": \"ERA\", \"var\": \"TA\", \"gap_len\": 10.0, \"idx_rep\": 1, \"rmse\": 1.4444163007942, \"rmse_norm\": 0.1822696841198673}, {\"method\": \"ERA\", \"var\": \"TA\", \"gap_len\": 10.0, \"idx_rep\": 2, \"rmse\": 2.0328676666226944, \"rmse_norm\": 0.25652586948034123}, {\"method\": \"ERA\", \"var\": \"TA\", \"gap_len\": 10.0, \"idx_rep\": 3, \"rmse\": 1.6906993966994843, \"rmse_norm\": 0.2133479418700996}, {\"method\": \"ERA\", \"var\": \"TA\", \"gap_len\": 10.0, \"idx_rep\": 4, \"rmse\": 1.116478750357569, \"rmse_norm\": 0.14088751909150113}, {\"method\": \"MDS\", \"var\": \"TA\", \"gap_len\": 10.0, \"idx_rep\": 0, \"rmse\": 4.15131259410814, \"rmse_norm\": 0.5238506618866565}, {\"method\": \"MDS\", \"var\": \"TA\", \"gap_len\": 10.0, \"idx_rep\": 1, \"rmse\": 2.0354096559121606, \"rmse_norm\": 0.2568466409813083}, {\"method\": \"MDS\", \"var\": \"TA\", \"gap_len\": 10.0, \"idx_rep\": 2, \"rmse\": 1.8642627495041368, \"rmse_norm\": 0.23524975609989932}, {\"method\": \"MDS\", \"var\": \"TA\", \"gap_len\": 10.0, \"idx_rep\": 3, \"rmse\": 3.9558903551473867, \"rmse_norm\": 0.4991904931072066}, {\"method\": \"MDS\", \"var\": \"TA\", \"gap_len\": 10.0, \"idx_rep\": 4, \"rmse\": 2.3728173623574103, \"rmse_norm\": 0.29942383707053116}, {\"method\": \"KalmanFilter\", \"var\": \"TA\", \"gap_len\": 22.5, \"idx_rep\": 0, \"rmse\": 1.5616152824501275, \"rmse_norm\": 0.19705892552752136}, {\"method\": \"KalmanFilter\", \"var\": \"TA\", \"gap_len\": 22.5, \"idx_rep\": 1, \"rmse\": 0.438919034764805, \"rmse_norm\": 0.055386825651849714}, {\"method\": \"KalmanFilter\", \"var\": \"TA\", \"gap_len\": 22.5, \"idx_rep\": 2, \"rmse\": 0.779441162106242, \"rmse_norm\": 0.09835702790740582}, {\"method\": \"KalmanFilter\", \"var\": \"TA\", \"gap_len\": 22.5, \"idx_rep\": 3, \"rmse\": 0.59044482914689, \"rmse_norm\": 0.07450773882823022}, {\"method\": \"KalmanFilter\", \"var\": \"TA\", \"gap_len\": 22.5, \"idx_rep\": 4, \"rmse\": 0.5896388099427091, \"rmse_norm\": 0.07440602793943742}, {\"method\": \"ERA\", \"var\": \"TA\", \"gap_len\": 22.5, \"idx_rep\": 0, \"rmse\": 1.2438795672322047, \"rmse_norm\": 0.15696412154716777}, {\"method\": \"ERA\", \"var\": \"TA\", \"gap_len\": 22.5, \"idx_rep\": 1, \"rmse\": 0.9254256197976031, \"rmse_norm\": 0.11677868444450253}, {\"method\": \"ERA\", \"var\": \"TA\", \"gap_len\": 22.5, \"idx_rep\": 2, \"rmse\": 1.4556320963760037, \"rmse_norm\": 0.18368499597748367}, {\"method\": \"ERA\", \"var\": \"TA\", \"gap_len\": 22.5, \"idx_rep\": 3, \"rmse\": 0.8016010229534392, \"rmse_norm\": 0.10115336220143034}, {\"method\": \"ERA\", \"var\": \"TA\", \"gap_len\": 22.5, \"idx_rep\": 4, \"rmse\": 2.0069263121057093, \"rmse_norm\": 0.25325235166497695}, {\"method\": \"MDS\", \"var\": \"TA\", \"gap_len\": 22.5, \"idx_rep\": 0, \"rmse\": 2.0047327372781236, \"rmse_norm\": 0.2529755462933556}, {\"method\": \"MDS\", \"var\": \"TA\", \"gap_len\": 22.5, \"idx_rep\": 1, \"rmse\": 2.2897667167875544, \"rmse_norm\": 0.2889437456137639}, {\"method\": \"MDS\", \"var\": \"TA\", \"gap_len\": 22.5, \"idx_rep\": 2, \"rmse\": 2.541502865472911, \"rmse_norm\": 0.32071011953048245}, {\"method\": \"MDS\", \"var\": \"TA\", \"gap_len\": 22.5, \"idx_rep\": 3, \"rmse\": 0.6008310935100136, \"rmse_norm\": 0.07581837283562204}, {\"method\": \"MDS\", \"var\": \"TA\", \"gap_len\": 22.5, \"idx_rep\": 4, \"rmse\": 2.8096819844686967, \"rmse_norm\": 0.35455141810903584}], \"data-57ce7da0db3172255a98cee41d2e4fe8\": [{\"method\": \"KalmanFilter\", \"var\": \"SW_IN\", \"gap_len\": 2.5, \"idx_rep\": 0, \"rmse\": 14.662781150311423, \"rmse_norm\": 0.07187547590585198}, {\"method\": \"KalmanFilter\", \"var\": \"SW_IN\", \"gap_len\": 2.5, \"idx_rep\": 1, \"rmse\": 51.0474390257893, \"rmse_norm\": 0.25022940301305946}, {\"method\": \"KalmanFilter\", \"var\": \"SW_IN\", \"gap_len\": 2.5, \"idx_rep\": 2, \"rmse\": 51.0474390257893, \"rmse_norm\": 0.25022940301305946}, {\"method\": \"KalmanFilter\", \"var\": \"SW_IN\", \"gap_len\": 2.5, \"idx_rep\": 3, \"rmse\": 30.38469193306595, \"rmse_norm\": 0.1489426985613458}, {\"method\": \"KalmanFilter\", \"var\": \"SW_IN\", \"gap_len\": 2.5, \"idx_rep\": 4, \"rmse\": 138.42143724372934, \"rmse_norm\": 0.6785279392411695}, {\"method\": \"ERA\", \"var\": \"SW_IN\", \"gap_len\": 2.5, \"idx_rep\": 0, \"rmse\": 0.0, \"rmse_norm\": 0.0}, {\"method\": \"ERA\", \"var\": \"SW_IN\", \"gap_len\": 2.5, \"idx_rep\": 1, \"rmse\": 32.736280149094526, \"rmse_norm\": 0.1604699470709546}, {\"method\": \"ERA\", \"var\": \"SW_IN\", \"gap_len\": 2.5, \"idx_rep\": 2, \"rmse\": 32.736280149094526, \"rmse_norm\": 0.1604699470709546}, {\"method\": \"ERA\", \"var\": \"SW_IN\", \"gap_len\": 2.5, \"idx_rep\": 3, \"rmse\": 0.0, \"rmse_norm\": 0.0}, {\"method\": \"ERA\", \"var\": \"SW_IN\", \"gap_len\": 2.5, \"idx_rep\": 4, \"rmse\": 0.0, \"rmse_norm\": 0.0}, {\"method\": \"MDS\", \"var\": \"SW_IN\", \"gap_len\": 2.5, \"idx_rep\": 0, \"rmse\": 0.0, \"rmse_norm\": 0.0}, {\"method\": \"MDS\", \"var\": \"SW_IN\", \"gap_len\": 2.5, \"idx_rep\": 1, \"rmse\": 63.21612848367465, \"rmse_norm\": 0.30987909272540015}, {\"method\": \"MDS\", \"var\": \"SW_IN\", \"gap_len\": 2.5, \"idx_rep\": 2, \"rmse\": 63.21612848367465, \"rmse_norm\": 0.30987909272540015}, {\"method\": \"MDS\", \"var\": \"SW_IN\", \"gap_len\": 2.5, \"idx_rep\": 3, \"rmse\": 0.0, \"rmse_norm\": 0.0}, {\"method\": \"MDS\", \"var\": \"SW_IN\", \"gap_len\": 2.5, \"idx_rep\": 4, \"rmse\": 1.4333195735773652, \"rmse_norm\": 0.007025988140991758}, {\"method\": \"KalmanFilter\", \"var\": \"SW_IN\", \"gap_len\": 5.0, \"idx_rep\": 0, \"rmse\": 242.95881325366256, \"rmse_norm\": 1.1909596241745126}, {\"method\": \"KalmanFilter\", \"var\": \"SW_IN\", \"gap_len\": 5.0, \"idx_rep\": 1, \"rmse\": 154.28505369790292, \"rmse_norm\": 0.7562897888209414}, {\"method\": \"KalmanFilter\", \"var\": \"SW_IN\", \"gap_len\": 5.0, \"idx_rep\": 2, \"rmse\": 42.6893425169812, \"rmse_norm\": 0.20925885601523683}, {\"method\": \"KalmanFilter\", \"var\": \"SW_IN\", \"gap_len\": 5.0, \"idx_rep\": 3, \"rmse\": 49.64597231656434, \"rmse_norm\": 0.24335955440390844}, {\"method\": \"KalmanFilter\", \"var\": \"SW_IN\", \"gap_len\": 5.0, \"idx_rep\": 4, \"rmse\": 48.22256259820155, \"rmse_norm\": 0.23638214337474855}, {\"method\": \"ERA\", \"var\": \"SW_IN\", \"gap_len\": 5.0, \"idx_rep\": 0, \"rmse\": 107.33970930601592, \"rmse_norm\": 0.5261684404122642}, {\"method\": \"ERA\", \"var\": \"SW_IN\", \"gap_len\": 5.0, \"idx_rep\": 1, \"rmse\": 40.52671987960536, \"rmse_norm\": 0.1986578977336726}, {\"method\": \"ERA\", \"var\": \"SW_IN\", \"gap_len\": 5.0, \"idx_rep\": 2, \"rmse\": 22.862790973544765, \"rmse_norm\": 0.11207109789841246}, {\"method\": \"ERA\", \"var\": \"SW_IN\", \"gap_len\": 5.0, \"idx_rep\": 3, \"rmse\": 0.0, \"rmse_norm\": 0.0}, {\"method\": \"ERA\", \"var\": \"SW_IN\", \"gap_len\": 5.0, \"idx_rep\": 4, \"rmse\": 0.0, \"rmse_norm\": 0.0}, {\"method\": \"MDS\", \"var\": \"SW_IN\", \"gap_len\": 5.0, \"idx_rep\": 0, \"rmse\": 112.2641576116036, \"rmse_norm\": 0.5503075898621189}, {\"method\": \"MDS\", \"var\": \"SW_IN\", \"gap_len\": 5.0, \"idx_rep\": 1, \"rmse\": 67.4184859127446, \"rmse_norm\": 0.33047862545009615}, {\"method\": \"MDS\", \"var\": \"SW_IN\", \"gap_len\": 5.0, \"idx_rep\": 2, \"rmse\": 33.37887291221923, \"rmse_norm\": 0.163619872053792}, {\"method\": \"MDS\", \"var\": \"SW_IN\", \"gap_len\": 5.0, \"idx_rep\": 3, \"rmse\": 0.0, \"rmse_norm\": 0.0}, {\"method\": \"MDS\", \"var\": \"SW_IN\", \"gap_len\": 5.0, \"idx_rep\": 4, \"rmse\": 0.21977829738170235, \"rmse_norm\": 0.0010773310708352163}, {\"method\": \"KalmanFilter\", \"var\": \"SW_IN\", \"gap_len\": 10.0, \"idx_rep\": 0, \"rmse\": 410.14873391362795, \"rmse_norm\": 2.010507770662495}, {\"method\": \"KalmanFilter\", \"var\": \"SW_IN\", \"gap_len\": 10.0, \"idx_rep\": 1, \"rmse\": 97.33930009622411, \"rmse_norm\": 0.4771474420192147}, {\"method\": \"KalmanFilter\", \"var\": \"SW_IN\", \"gap_len\": 10.0, \"idx_rep\": 2, \"rmse\": 267.94593238377917, \"rmse_norm\": 1.3134439646678038}, {\"method\": \"KalmanFilter\", \"var\": \"SW_IN\", \"gap_len\": 10.0, \"idx_rep\": 3, \"rmse\": 154.67108049930167, \"rmse_norm\": 0.7581820533087299}, {\"method\": \"KalmanFilter\", \"var\": \"SW_IN\", \"gap_len\": 10.0, \"idx_rep\": 4, \"rmse\": 78.5713222062797, \"rmse_norm\": 0.38514870529922957}, {\"method\": \"ERA\", \"var\": \"SW_IN\", \"gap_len\": 10.0, \"idx_rep\": 0, \"rmse\": 37.86428164246616, \"rmse_norm\": 0.18560689373909597}, {\"method\": \"ERA\", \"var\": \"SW_IN\", \"gap_len\": 10.0, \"idx_rep\": 1, \"rmse\": 72.04623972595655, \"rmse_norm\": 0.3531634083906548}, {\"method\": \"ERA\", \"var\": \"SW_IN\", \"gap_len\": 10.0, \"idx_rep\": 2, \"rmse\": 98.6644726902749, \"rmse_norm\": 0.48364330456250654}, {\"method\": \"ERA\", \"var\": \"SW_IN\", \"gap_len\": 10.0, \"idx_rep\": 3, \"rmse\": 100.34352067348445, \"rmse_norm\": 0.49187382861008017}, {\"method\": \"ERA\", \"var\": \"SW_IN\", \"gap_len\": 10.0, \"idx_rep\": 4, \"rmse\": 33.184237225676895, \"rmse_norm\": 0.16266578752814298}, {\"method\": \"MDS\", \"var\": \"SW_IN\", \"gap_len\": 10.0, \"idx_rep\": 0, \"rmse\": 136.7578532781966, \"rmse_norm\": 0.670373218250229}, {\"method\": \"MDS\", \"var\": \"SW_IN\", \"gap_len\": 10.0, \"idx_rep\": 1, \"rmse\": 108.09854530831944, \"rmse_norm\": 0.5298881780419091}, {\"method\": \"MDS\", \"var\": \"SW_IN\", \"gap_len\": 10.0, \"idx_rep\": 2, \"rmse\": 143.1269134490089, \"rmse_norm\": 0.7015937095170184}, {\"method\": \"MDS\", \"var\": \"SW_IN\", \"gap_len\": 10.0, \"idx_rep\": 3, \"rmse\": 125.98175324558967, \"rmse_norm\": 0.6175498615955306}, {\"method\": \"MDS\", \"var\": \"SW_IN\", \"gap_len\": 10.0, \"idx_rep\": 4, \"rmse\": 87.546353374195, \"rmse_norm\": 0.429143403839081}, {\"method\": \"KalmanFilter\", \"var\": \"SW_IN\", \"gap_len\": 22.5, \"idx_rep\": 0, \"rmse\": 186.81666092246593, \"rmse_norm\": 0.9157564498368876}, {\"method\": \"KalmanFilter\", \"var\": \"SW_IN\", \"gap_len\": 22.5, \"idx_rep\": 1, \"rmse\": 142.24280595614934, \"rmse_norm\": 0.6972599036619225}, {\"method\": \"KalmanFilter\", \"var\": \"SW_IN\", \"gap_len\": 22.5, \"idx_rep\": 2, \"rmse\": 199.7266693403644, \"rmse_norm\": 0.9790400104024289}, {\"method\": \"KalmanFilter\", \"var\": \"SW_IN\", \"gap_len\": 22.5, \"idx_rep\": 3, \"rmse\": 143.97858755663404, \"rmse_norm\": 0.7057685301853982}, {\"method\": \"KalmanFilter\", \"var\": \"SW_IN\", \"gap_len\": 22.5, \"idx_rep\": 4, \"rmse\": 511.5552190763478, \"rmse_norm\": 2.5075921441038465}, {\"method\": \"ERA\", \"var\": \"SW_IN\", \"gap_len\": 22.5, \"idx_rep\": 0, \"rmse\": 37.4531821069096, \"rmse_norm\": 0.18359172523457418}, {\"method\": \"ERA\", \"var\": \"SW_IN\", \"gap_len\": 22.5, \"idx_rep\": 1, \"rmse\": 55.12003577446025, \"rmse_norm\": 0.27019286195598535}, {\"method\": \"ERA\", \"var\": \"SW_IN\", \"gap_len\": 22.5, \"idx_rep\": 2, \"rmse\": 67.09481782075275, \"rmse_norm\": 0.32889203707310466}, {\"method\": \"ERA\", \"var\": \"SW_IN\", \"gap_len\": 22.5, \"idx_rep\": 3, \"rmse\": 13.044154849331303, \"rmse_norm\": 0.06394113285700932}, {\"method\": \"ERA\", \"var\": \"SW_IN\", \"gap_len\": 22.5, \"idx_rep\": 4, \"rmse\": 77.25579320442218, \"rmse_norm\": 0.3787001146732654}, {\"method\": \"MDS\", \"var\": \"SW_IN\", \"gap_len\": 22.5, \"idx_rep\": 0, \"rmse\": 25.94583394959477, \"rmse_norm\": 0.12718386394669257}, {\"method\": \"MDS\", \"var\": \"SW_IN\", \"gap_len\": 22.5, \"idx_rep\": 1, \"rmse\": 55.38487637360379, \"rmse_norm\": 0.2714910838899756}, {\"method\": \"MDS\", \"var\": \"SW_IN\", \"gap_len\": 22.5, \"idx_rep\": 2, \"rmse\": 105.62120370676145, \"rmse_norm\": 0.517744499106241}, {\"method\": \"MDS\", \"var\": \"SW_IN\", \"gap_len\": 22.5, \"idx_rep\": 3, \"rmse\": 46.50526556166636, \"rmse_norm\": 0.22796412632141116}, {\"method\": \"MDS\", \"var\": \"SW_IN\", \"gap_len\": 22.5, \"idx_rep\": 4, \"rmse\": 172.61601846812604, \"rmse_norm\": 0.8461463312576543}]}}, {\"mode\": \"vega-lite\"});\n",
       "</script>"
      ],
      "text/plain": [
       "alt.VConcatChart(...)"
      ]
     },
     "execution_count": null,
     "metadata": {},
     "output_type": "execute_result"
    }
   ],
   "source": [
    "the_plot(data_results)"
   ]
  },
  {
   "cell_type": "code",
   "execution_count": null,
   "id": "cb51b2b7-bd59-4d95-9f2c-6b04a502ca3a",
   "metadata": {},
   "outputs": [],
   "source": [
    "#| export\n",
    "def the_plot_stand(data):\n",
    "    # data = data.query(\"method == 'KalmanFilter'\")\n",
    "    return alt.Chart(data).mark_boxplot(extent=\"min-max\").encode(\n",
    "        x = alt.X('var', title='gap_len [h]', axis=alt.Axis(labelAngle=0)),\n",
    "        y = alt.Y('rmse_norm', title=\"RMSE Standardized\", axis=alt.Axis(grid=True)),\n",
    "        color=alt.Color('method', scale=method_scale),\n",
    "        xOffset=alt.XOffset('method:N', scale= alt.Scale(domain=method_scale.domain)),\n",
    "    ).properties(width=500, height=300)"
   ]
  },
  {
   "cell_type": "code",
   "execution_count": null,
   "id": "cd9ca711-f4d8-4d7e-a1a8-2dd33c804e76",
   "metadata": {},
   "outputs": [],
   "source": [
    "#| export\n",
    "def the_plot_stand2(data):\n",
    "     return _the_plot(data, y='rmse_norm', y_label=\"RMSE Standardized\").facet(alt.Row('var',sort=list(var_type.categories)) , columns=3)"
   ]
  },
  {
   "cell_type": "code",
   "execution_count": null,
   "id": "fd057079-1b1d-4e09-9a14-93f8c4aca9ae",
   "metadata": {},
   "outputs": [
    {
     "data": {
      "text/plain": [
       "{'TA': '#1B9E77',\n",
       " 'SW_IN': '#D95F02',\n",
       " 'LW_IN': '#7570B3',\n",
       " 'VPD': '#E7298A',\n",
       " 'WS': '#66A61E',\n",
       " 'PA': '#E6AB02',\n",
       " 'P': '#A6761D'}"
      ]
     },
     "execution_count": null,
     "metadata": {},
     "output_type": "execute_result"
    }
   ],
   "source": [
    "dict(zip(scale_meteo.domain, scale_meteo.range))"
   ]
  },
  {
   "cell_type": "code",
   "execution_count": null,
   "id": "10eb1cca-b973-42d4-a6ec-4fd27c315105",
   "metadata": {},
   "outputs": [
    {
     "data": {
      "text/html": [
       "\n",
       "<div id=\"altair-viz-60b0a34c156340fca12677674718890f\"></div>\n",
       "<script type=\"text/javascript\">\n",
       "  var VEGA_DEBUG = (typeof VEGA_DEBUG == \"undefined\") ? {} : VEGA_DEBUG;\n",
       "  (function(spec, embedOpt){\n",
       "    let outputDiv = document.currentScript.previousElementSibling;\n",
       "    if (outputDiv.id !== \"altair-viz-60b0a34c156340fca12677674718890f\") {\n",
       "      outputDiv = document.getElementById(\"altair-viz-60b0a34c156340fca12677674718890f\");\n",
       "    }\n",
       "    const paths = {\n",
       "      \"vega\": \"https://cdn.jsdelivr.net/npm/vega@5?noext\",\n",
       "      \"vega-lib\": \"https://cdn.jsdelivr.net/npm/vega-lib?noext\",\n",
       "      \"vega-lite\": \"https://cdn.jsdelivr.net/npm/vega-lite@5.2.0?noext\",\n",
       "      \"vega-embed\": \"https://cdn.jsdelivr.net/npm/vega-embed@6?noext\",\n",
       "    };\n",
       "\n",
       "    function maybeLoadScript(lib, version) {\n",
       "      var key = `${lib.replace(\"-\", \"\")}_version`;\n",
       "      return (VEGA_DEBUG[key] == version) ?\n",
       "        Promise.resolve(paths[lib]) :\n",
       "        new Promise(function(resolve, reject) {\n",
       "          var s = document.createElement('script');\n",
       "          document.getElementsByTagName(\"head\")[0].appendChild(s);\n",
       "          s.async = true;\n",
       "          s.onload = () => {\n",
       "            VEGA_DEBUG[key] = version;\n",
       "            return resolve(paths[lib]);\n",
       "          };\n",
       "          s.onerror = () => reject(`Error loading script: ${paths[lib]}`);\n",
       "          s.src = paths[lib];\n",
       "        });\n",
       "    }\n",
       "\n",
       "    function showError(err) {\n",
       "      outputDiv.innerHTML = `<div class=\"error\" style=\"color:red;\">${err}</div>`;\n",
       "      throw err;\n",
       "    }\n",
       "\n",
       "    function displayChart(vegaEmbed) {\n",
       "      vegaEmbed(outputDiv, spec, embedOpt)\n",
       "        .catch(err => showError(`Javascript Error: ${err.message}<br>This usually means there's a typo in your chart specification. See the javascript console for the full traceback.`));\n",
       "    }\n",
       "\n",
       "    if(typeof define === \"function\" && define.amd) {\n",
       "      requirejs.config({paths});\n",
       "      require([\"vega-embed\"], displayChart, err => showError(`Error loading script: ${err.message}`));\n",
       "    } else {\n",
       "      maybeLoadScript(\"vega\", \"5\")\n",
       "        .then(() => maybeLoadScript(\"vega-lite\", \"5.2.0\"))\n",
       "        .then(() => maybeLoadScript(\"vega-embed\", \"6\"))\n",
       "        .catch(showError)\n",
       "        .then(() => displayChart(vegaEmbed));\n",
       "    }\n",
       "  })({\"config\": {\"view\": {\"continuousWidth\": 300, \"continuousHeight\": 300}}, \"data\": {\"name\": \"data-9a5b4a35b5363ec98063dcc5ec299212\"}, \"mark\": {\"type\": \"boxplot\", \"extent\": \"min-max\"}, \"encoding\": {\"color\": {\"field\": \"method\", \"scale\": {\"domain\": [\"KalmanFilter\", \"ERA\", \"MDS\"], \"scheme\": \"dark2\"}, \"sort\": [\"KalmanFilter\", \"ERA\", \"MDS\"], \"type\": \"ordinal\"}, \"x\": {\"axis\": {\"labelAngle\": 0}, \"field\": \"var\", \"sort\": [\"TA\", \"SW_IN\", \"LW_IN\", \"VPD\", \"WS\", \"PA\", \"P\"], \"title\": \"gap_len [h]\", \"type\": \"ordinal\"}, \"xOffset\": {\"field\": \"method\", \"scale\": {\"domain\": [\"KalmanFilter\", \"ERA\", \"MDS\"]}, \"type\": \"nominal\"}, \"y\": {\"axis\": {\"grid\": true}, \"field\": \"rmse_norm\", \"title\": \"RMSE Standardized\", \"type\": \"quantitative\"}}, \"height\": 300, \"width\": 500, \"$schema\": \"https://vega.github.io/schema/vega-lite/v5.2.0.json\", \"datasets\": {\"data-9a5b4a35b5363ec98063dcc5ec299212\": [{\"method\": \"KalmanFilter\", \"var\": \"TA\", \"gap_len\": 2.5, \"idx_rep\": 0, \"rmse\": 0.21827485140200586, \"rmse_norm\": 0.02754392081734267}, {\"method\": \"KalmanFilter\", \"var\": \"TA\", \"gap_len\": 2.5, \"idx_rep\": 1, \"rmse\": 0.2588952154861276, \"rmse_norm\": 0.03266977056466004}, {\"method\": \"KalmanFilter\", \"var\": \"TA\", \"gap_len\": 2.5, \"idx_rep\": 2, \"rmse\": 0.09277075304475633, \"rmse_norm\": 0.011706663683961853}, {\"method\": \"KalmanFilter\", \"var\": \"TA\", \"gap_len\": 2.5, \"idx_rep\": 3, \"rmse\": 0.07546909822259201, \"rmse_norm\": 0.009523382342251065}, {\"method\": \"KalmanFilter\", \"var\": \"TA\", \"gap_len\": 2.5, \"idx_rep\": 4, \"rmse\": 0.22062231467057408, \"rmse_norm\": 0.02784014524253772}, {\"method\": \"ERA\", \"var\": \"TA\", \"gap_len\": 2.5, \"idx_rep\": 0, \"rmse\": 1.3124766664592555, \"rmse_norm\": 0.16562033208756313}, {\"method\": \"ERA\", \"var\": \"TA\", \"gap_len\": 2.5, \"idx_rep\": 1, \"rmse\": 1.6085195678013982, \"rmse_norm\": 0.202977738040329}, {\"method\": \"ERA\", \"var\": \"TA\", \"gap_len\": 2.5, \"idx_rep\": 2, \"rmse\": 3.6546490939623735, \"rmse_norm\": 0.4611771104765394}, {\"method\": \"ERA\", \"var\": \"TA\", \"gap_len\": 2.5, \"idx_rep\": 3, \"rmse\": 0.6885711292234088, \"rmse_norm\": 0.0868902145099047}, {\"method\": \"ERA\", \"var\": \"TA\", \"gap_len\": 2.5, \"idx_rep\": 4, \"rmse\": 2.9776153210245275, \"rmse_norm\": 0.3757427853003342}, {\"method\": \"MDS\", \"var\": \"TA\", \"gap_len\": 2.5, \"idx_rep\": 0, \"rmse\": 3.533486923820946, \"rmse_norm\": 0.44588775763081695}, {\"method\": \"MDS\", \"var\": \"TA\", \"gap_len\": 2.5, \"idx_rep\": 1, \"rmse\": 4.999345809432867, \"rmse_norm\": 0.6308632635828602}, {\"method\": \"MDS\", \"var\": \"TA\", \"gap_len\": 2.5, \"idx_rep\": 2, \"rmse\": 1.798172136090133, \"rmse_norm\": 0.22690983690649563}, {\"method\": \"MDS\", \"var\": \"TA\", \"gap_len\": 2.5, \"idx_rep\": 3, \"rmse\": 2.541324452888777, \"rmse_norm\": 0.3206876057958096}, {\"method\": \"MDS\", \"var\": \"TA\", \"gap_len\": 2.5, \"idx_rep\": 4, \"rmse\": 3.392243673220649, \"rmse_norm\": 0.42806439004847663}, {\"method\": \"KalmanFilter\", \"var\": \"TA\", \"gap_len\": 5.0, \"idx_rep\": 0, \"rmse\": 0.7557668402758659, \"rmse_norm\": 0.09536958504941391}, {\"method\": \"KalmanFilter\", \"var\": \"TA\", \"gap_len\": 5.0, \"idx_rep\": 1, \"rmse\": 0.2534937616281092, \"rmse_norm\": 0.03198816562296299}, {\"method\": \"KalmanFilter\", \"var\": \"TA\", \"gap_len\": 5.0, \"idx_rep\": 2, \"rmse\": 0.29698671939519045, \"rmse_norm\": 0.03747650556296906}, {\"method\": \"KalmanFilter\", \"var\": \"TA\", \"gap_len\": 5.0, \"idx_rep\": 3, \"rmse\": 0.2996631362498825, \"rmse_norm\": 0.037814240365885356}, {\"method\": \"KalmanFilter\", \"var\": \"TA\", \"gap_len\": 5.0, \"idx_rep\": 4, \"rmse\": 0.37067943899975, \"rmse_norm\": 0.04677572817411762}, {\"method\": \"ERA\", \"var\": \"TA\", \"gap_len\": 5.0, \"idx_rep\": 0, \"rmse\": 0.7428108776801803, \"rmse_norm\": 0.09373468297271624}, {\"method\": \"ERA\", \"var\": \"TA\", \"gap_len\": 5.0, \"idx_rep\": 1, \"rmse\": 1.1564829008679722, \"rmse_norm\": 0.14593560936367933}, {\"method\": \"ERA\", \"var\": \"TA\", \"gap_len\": 5.0, \"idx_rep\": 2, \"rmse\": 0.7556730112952296, \"rmse_norm\": 0.09535774484887585}, {\"method\": \"ERA\", \"var\": \"TA\", \"gap_len\": 5.0, \"idx_rep\": 3, \"rmse\": 0.9921576991587578, \"rmse_norm\": 0.12519954968891425}, {\"method\": \"ERA\", \"var\": \"TA\", \"gap_len\": 5.0, \"idx_rep\": 4, \"rmse\": 0.4907731655255816, \"rmse_norm\": 0.061930255014201976}, {\"method\": \"MDS\", \"var\": \"TA\", \"gap_len\": 5.0, \"idx_rep\": 0, \"rmse\": 2.3194756263320198, \"rmse_norm\": 0.2926926880448608}, {\"method\": \"MDS\", \"var\": \"TA\", \"gap_len\": 5.0, \"idx_rep\": 1, \"rmse\": 2.6689311551902013, \"rmse_norm\": 0.3367901887611707}, {\"method\": \"MDS\", \"var\": \"TA\", \"gap_len\": 5.0, \"idx_rep\": 2, \"rmse\": 3.8302383625401784, \"rmse_norm\": 0.4833345733222007}, {\"method\": \"MDS\", \"var\": \"TA\", \"gap_len\": 5.0, \"idx_rep\": 3, \"rmse\": 4.158790049834242, \"rmse_norm\": 0.5247942357666159}, {\"method\": \"MDS\", \"var\": \"TA\", \"gap_len\": 5.0, \"idx_rep\": 4, \"rmse\": 1.4312901393723287, \"rmse_norm\": 0.180613304795738}, {\"method\": \"KalmanFilter\", \"var\": \"TA\", \"gap_len\": 10.0, \"idx_rep\": 0, \"rmse\": 1.2136831088596065, \"rmse_norm\": 0.15315365573749368}, {\"method\": \"KalmanFilter\", \"var\": \"TA\", \"gap_len\": 10.0, \"idx_rep\": 1, \"rmse\": 0.4085841326055893, \"rmse_norm\": 0.05155888973661032}, {\"method\": \"KalmanFilter\", \"var\": \"TA\", \"gap_len\": 10.0, \"idx_rep\": 2, \"rmse\": 0.8069300583887423, \"rmse_norm\": 0.10182582872297419}, {\"method\": \"KalmanFilter\", \"var\": \"TA\", \"gap_len\": 10.0, \"idx_rep\": 3, \"rmse\": 0.9503059919042384, \"rmse_norm\": 0.11991831777747423}, {\"method\": \"KalmanFilter\", \"var\": \"TA\", \"gap_len\": 10.0, \"idx_rep\": 4, \"rmse\": 0.5034127845661044, \"rmse_norm\": 0.06352523796243155}, {\"method\": \"ERA\", \"var\": \"TA\", \"gap_len\": 10.0, \"idx_rep\": 0, \"rmse\": 0.7116045601315383, \"rmse_norm\": 0.08979678387880005}, {\"method\": \"ERA\", \"var\": \"TA\", \"gap_len\": 10.0, \"idx_rep\": 1, \"rmse\": 1.4444163007942, \"rmse_norm\": 0.1822696841198673}, {\"method\": \"ERA\", \"var\": \"TA\", \"gap_len\": 10.0, \"idx_rep\": 2, \"rmse\": 2.0328676666226944, \"rmse_norm\": 0.25652586948034123}, {\"method\": \"ERA\", \"var\": \"TA\", \"gap_len\": 10.0, \"idx_rep\": 3, \"rmse\": 1.6906993966994843, \"rmse_norm\": 0.2133479418700996}, {\"method\": \"ERA\", \"var\": \"TA\", \"gap_len\": 10.0, \"idx_rep\": 4, \"rmse\": 1.116478750357569, \"rmse_norm\": 0.14088751909150113}, {\"method\": \"MDS\", \"var\": \"TA\", \"gap_len\": 10.0, \"idx_rep\": 0, \"rmse\": 4.15131259410814, \"rmse_norm\": 0.5238506618866565}, {\"method\": \"MDS\", \"var\": \"TA\", \"gap_len\": 10.0, \"idx_rep\": 1, \"rmse\": 2.0354096559121606, \"rmse_norm\": 0.2568466409813083}, {\"method\": \"MDS\", \"var\": \"TA\", \"gap_len\": 10.0, \"idx_rep\": 2, \"rmse\": 1.8642627495041368, \"rmse_norm\": 0.23524975609989932}, {\"method\": \"MDS\", \"var\": \"TA\", \"gap_len\": 10.0, \"idx_rep\": 3, \"rmse\": 3.9558903551473867, \"rmse_norm\": 0.4991904931072066}, {\"method\": \"MDS\", \"var\": \"TA\", \"gap_len\": 10.0, \"idx_rep\": 4, \"rmse\": 2.3728173623574103, \"rmse_norm\": 0.29942383707053116}, {\"method\": \"KalmanFilter\", \"var\": \"TA\", \"gap_len\": 22.5, \"idx_rep\": 0, \"rmse\": 1.5616152824501275, \"rmse_norm\": 0.19705892552752136}, {\"method\": \"KalmanFilter\", \"var\": \"TA\", \"gap_len\": 22.5, \"idx_rep\": 1, \"rmse\": 0.438919034764805, \"rmse_norm\": 0.055386825651849714}, {\"method\": \"KalmanFilter\", \"var\": \"TA\", \"gap_len\": 22.5, \"idx_rep\": 2, \"rmse\": 0.779441162106242, \"rmse_norm\": 0.09835702790740582}, {\"method\": \"KalmanFilter\", \"var\": \"TA\", \"gap_len\": 22.5, \"idx_rep\": 3, \"rmse\": 0.59044482914689, \"rmse_norm\": 0.07450773882823022}, {\"method\": \"KalmanFilter\", \"var\": \"TA\", \"gap_len\": 22.5, \"idx_rep\": 4, \"rmse\": 0.5896388099427091, \"rmse_norm\": 0.07440602793943742}, {\"method\": \"ERA\", \"var\": \"TA\", \"gap_len\": 22.5, \"idx_rep\": 0, \"rmse\": 1.2438795672322047, \"rmse_norm\": 0.15696412154716777}, {\"method\": \"ERA\", \"var\": \"TA\", \"gap_len\": 22.5, \"idx_rep\": 1, \"rmse\": 0.9254256197976031, \"rmse_norm\": 0.11677868444450253}, {\"method\": \"ERA\", \"var\": \"TA\", \"gap_len\": 22.5, \"idx_rep\": 2, \"rmse\": 1.4556320963760037, \"rmse_norm\": 0.18368499597748367}, {\"method\": \"ERA\", \"var\": \"TA\", \"gap_len\": 22.5, \"idx_rep\": 3, \"rmse\": 0.8016010229534392, \"rmse_norm\": 0.10115336220143034}, {\"method\": \"ERA\", \"var\": \"TA\", \"gap_len\": 22.5, \"idx_rep\": 4, \"rmse\": 2.0069263121057093, \"rmse_norm\": 0.25325235166497695}, {\"method\": \"MDS\", \"var\": \"TA\", \"gap_len\": 22.5, \"idx_rep\": 0, \"rmse\": 2.0047327372781236, \"rmse_norm\": 0.2529755462933556}, {\"method\": \"MDS\", \"var\": \"TA\", \"gap_len\": 22.5, \"idx_rep\": 1, \"rmse\": 2.2897667167875544, \"rmse_norm\": 0.2889437456137639}, {\"method\": \"MDS\", \"var\": \"TA\", \"gap_len\": 22.5, \"idx_rep\": 2, \"rmse\": 2.541502865472911, \"rmse_norm\": 0.32071011953048245}, {\"method\": \"MDS\", \"var\": \"TA\", \"gap_len\": 22.5, \"idx_rep\": 3, \"rmse\": 0.6008310935100136, \"rmse_norm\": 0.07581837283562204}, {\"method\": \"MDS\", \"var\": \"TA\", \"gap_len\": 22.5, \"idx_rep\": 4, \"rmse\": 2.8096819844686967, \"rmse_norm\": 0.35455141810903584}, {\"method\": \"KalmanFilter\", \"var\": \"SW_IN\", \"gap_len\": 2.5, \"idx_rep\": 0, \"rmse\": 14.662781150311423, \"rmse_norm\": 0.07187547590585198}, {\"method\": \"KalmanFilter\", \"var\": \"SW_IN\", \"gap_len\": 2.5, \"idx_rep\": 1, \"rmse\": 51.0474390257893, \"rmse_norm\": 0.25022940301305946}, {\"method\": \"KalmanFilter\", \"var\": \"SW_IN\", \"gap_len\": 2.5, \"idx_rep\": 2, \"rmse\": 51.0474390257893, \"rmse_norm\": 0.25022940301305946}, {\"method\": \"KalmanFilter\", \"var\": \"SW_IN\", \"gap_len\": 2.5, \"idx_rep\": 3, \"rmse\": 30.38469193306595, \"rmse_norm\": 0.1489426985613458}, {\"method\": \"KalmanFilter\", \"var\": \"SW_IN\", \"gap_len\": 2.5, \"idx_rep\": 4, \"rmse\": 138.42143724372934, \"rmse_norm\": 0.6785279392411695}, {\"method\": \"ERA\", \"var\": \"SW_IN\", \"gap_len\": 2.5, \"idx_rep\": 0, \"rmse\": 0.0, \"rmse_norm\": 0.0}, {\"method\": \"ERA\", \"var\": \"SW_IN\", \"gap_len\": 2.5, \"idx_rep\": 1, \"rmse\": 32.736280149094526, \"rmse_norm\": 0.1604699470709546}, {\"method\": \"ERA\", \"var\": \"SW_IN\", \"gap_len\": 2.5, \"idx_rep\": 2, \"rmse\": 32.736280149094526, \"rmse_norm\": 0.1604699470709546}, {\"method\": \"ERA\", \"var\": \"SW_IN\", \"gap_len\": 2.5, \"idx_rep\": 3, \"rmse\": 0.0, \"rmse_norm\": 0.0}, {\"method\": \"ERA\", \"var\": \"SW_IN\", \"gap_len\": 2.5, \"idx_rep\": 4, \"rmse\": 0.0, \"rmse_norm\": 0.0}, {\"method\": \"MDS\", \"var\": \"SW_IN\", \"gap_len\": 2.5, \"idx_rep\": 0, \"rmse\": 0.0, \"rmse_norm\": 0.0}, {\"method\": \"MDS\", \"var\": \"SW_IN\", \"gap_len\": 2.5, \"idx_rep\": 1, \"rmse\": 63.21612848367465, \"rmse_norm\": 0.30987909272540015}, {\"method\": \"MDS\", \"var\": \"SW_IN\", \"gap_len\": 2.5, \"idx_rep\": 2, \"rmse\": 63.21612848367465, \"rmse_norm\": 0.30987909272540015}, {\"method\": \"MDS\", \"var\": \"SW_IN\", \"gap_len\": 2.5, \"idx_rep\": 3, \"rmse\": 0.0, \"rmse_norm\": 0.0}, {\"method\": \"MDS\", \"var\": \"SW_IN\", \"gap_len\": 2.5, \"idx_rep\": 4, \"rmse\": 1.4333195735773652, \"rmse_norm\": 0.007025988140991758}, {\"method\": \"KalmanFilter\", \"var\": \"SW_IN\", \"gap_len\": 5.0, \"idx_rep\": 0, \"rmse\": 242.95881325366256, \"rmse_norm\": 1.1909596241745126}, {\"method\": \"KalmanFilter\", \"var\": \"SW_IN\", \"gap_len\": 5.0, \"idx_rep\": 1, \"rmse\": 154.28505369790292, \"rmse_norm\": 0.7562897888209414}, {\"method\": \"KalmanFilter\", \"var\": \"SW_IN\", \"gap_len\": 5.0, \"idx_rep\": 2, \"rmse\": 42.6893425169812, \"rmse_norm\": 0.20925885601523683}, {\"method\": \"KalmanFilter\", \"var\": \"SW_IN\", \"gap_len\": 5.0, \"idx_rep\": 3, \"rmse\": 49.64597231656434, \"rmse_norm\": 0.24335955440390844}, {\"method\": \"KalmanFilter\", \"var\": \"SW_IN\", \"gap_len\": 5.0, \"idx_rep\": 4, \"rmse\": 48.22256259820155, \"rmse_norm\": 0.23638214337474855}, {\"method\": \"ERA\", \"var\": \"SW_IN\", \"gap_len\": 5.0, \"idx_rep\": 0, \"rmse\": 107.33970930601592, \"rmse_norm\": 0.5261684404122642}, {\"method\": \"ERA\", \"var\": \"SW_IN\", \"gap_len\": 5.0, \"idx_rep\": 1, \"rmse\": 40.52671987960536, \"rmse_norm\": 0.1986578977336726}, {\"method\": \"ERA\", \"var\": \"SW_IN\", \"gap_len\": 5.0, \"idx_rep\": 2, \"rmse\": 22.862790973544765, \"rmse_norm\": 0.11207109789841246}, {\"method\": \"ERA\", \"var\": \"SW_IN\", \"gap_len\": 5.0, \"idx_rep\": 3, \"rmse\": 0.0, \"rmse_norm\": 0.0}, {\"method\": \"ERA\", \"var\": \"SW_IN\", \"gap_len\": 5.0, \"idx_rep\": 4, \"rmse\": 0.0, \"rmse_norm\": 0.0}, {\"method\": \"MDS\", \"var\": \"SW_IN\", \"gap_len\": 5.0, \"idx_rep\": 0, \"rmse\": 112.2641576116036, \"rmse_norm\": 0.5503075898621189}, {\"method\": \"MDS\", \"var\": \"SW_IN\", \"gap_len\": 5.0, \"idx_rep\": 1, \"rmse\": 67.4184859127446, \"rmse_norm\": 0.33047862545009615}, {\"method\": \"MDS\", \"var\": \"SW_IN\", \"gap_len\": 5.0, \"idx_rep\": 2, \"rmse\": 33.37887291221923, \"rmse_norm\": 0.163619872053792}, {\"method\": \"MDS\", \"var\": \"SW_IN\", \"gap_len\": 5.0, \"idx_rep\": 3, \"rmse\": 0.0, \"rmse_norm\": 0.0}, {\"method\": \"MDS\", \"var\": \"SW_IN\", \"gap_len\": 5.0, \"idx_rep\": 4, \"rmse\": 0.21977829738170235, \"rmse_norm\": 0.0010773310708352163}, {\"method\": \"KalmanFilter\", \"var\": \"SW_IN\", \"gap_len\": 10.0, \"idx_rep\": 0, \"rmse\": 410.14873391362795, \"rmse_norm\": 2.010507770662495}, {\"method\": \"KalmanFilter\", \"var\": \"SW_IN\", \"gap_len\": 10.0, \"idx_rep\": 1, \"rmse\": 97.33930009622411, \"rmse_norm\": 0.4771474420192147}, {\"method\": \"KalmanFilter\", \"var\": \"SW_IN\", \"gap_len\": 10.0, \"idx_rep\": 2, \"rmse\": 267.94593238377917, \"rmse_norm\": 1.3134439646678038}, {\"method\": \"KalmanFilter\", \"var\": \"SW_IN\", \"gap_len\": 10.0, \"idx_rep\": 3, \"rmse\": 154.67108049930167, \"rmse_norm\": 0.7581820533087299}, {\"method\": \"KalmanFilter\", \"var\": \"SW_IN\", \"gap_len\": 10.0, \"idx_rep\": 4, \"rmse\": 78.5713222062797, \"rmse_norm\": 0.38514870529922957}, {\"method\": \"ERA\", \"var\": \"SW_IN\", \"gap_len\": 10.0, \"idx_rep\": 0, \"rmse\": 37.86428164246616, \"rmse_norm\": 0.18560689373909597}, {\"method\": \"ERA\", \"var\": \"SW_IN\", \"gap_len\": 10.0, \"idx_rep\": 1, \"rmse\": 72.04623972595655, \"rmse_norm\": 0.3531634083906548}, {\"method\": \"ERA\", \"var\": \"SW_IN\", \"gap_len\": 10.0, \"idx_rep\": 2, \"rmse\": 98.6644726902749, \"rmse_norm\": 0.48364330456250654}, {\"method\": \"ERA\", \"var\": \"SW_IN\", \"gap_len\": 10.0, \"idx_rep\": 3, \"rmse\": 100.34352067348445, \"rmse_norm\": 0.49187382861008017}, {\"method\": \"ERA\", \"var\": \"SW_IN\", \"gap_len\": 10.0, \"idx_rep\": 4, \"rmse\": 33.184237225676895, \"rmse_norm\": 0.16266578752814298}, {\"method\": \"MDS\", \"var\": \"SW_IN\", \"gap_len\": 10.0, \"idx_rep\": 0, \"rmse\": 136.7578532781966, \"rmse_norm\": 0.670373218250229}, {\"method\": \"MDS\", \"var\": \"SW_IN\", \"gap_len\": 10.0, \"idx_rep\": 1, \"rmse\": 108.09854530831944, \"rmse_norm\": 0.5298881780419091}, {\"method\": \"MDS\", \"var\": \"SW_IN\", \"gap_len\": 10.0, \"idx_rep\": 2, \"rmse\": 143.1269134490089, \"rmse_norm\": 0.7015937095170184}, {\"method\": \"MDS\", \"var\": \"SW_IN\", \"gap_len\": 10.0, \"idx_rep\": 3, \"rmse\": 125.98175324558967, \"rmse_norm\": 0.6175498615955306}, {\"method\": \"MDS\", \"var\": \"SW_IN\", \"gap_len\": 10.0, \"idx_rep\": 4, \"rmse\": 87.546353374195, \"rmse_norm\": 0.429143403839081}, {\"method\": \"KalmanFilter\", \"var\": \"SW_IN\", \"gap_len\": 22.5, \"idx_rep\": 0, \"rmse\": 186.81666092246593, \"rmse_norm\": 0.9157564498368876}, {\"method\": \"KalmanFilter\", \"var\": \"SW_IN\", \"gap_len\": 22.5, \"idx_rep\": 1, \"rmse\": 142.24280595614934, \"rmse_norm\": 0.6972599036619225}, {\"method\": \"KalmanFilter\", \"var\": \"SW_IN\", \"gap_len\": 22.5, \"idx_rep\": 2, \"rmse\": 199.7266693403644, \"rmse_norm\": 0.9790400104024289}, {\"method\": \"KalmanFilter\", \"var\": \"SW_IN\", \"gap_len\": 22.5, \"idx_rep\": 3, \"rmse\": 143.97858755663404, \"rmse_norm\": 0.7057685301853982}, {\"method\": \"KalmanFilter\", \"var\": \"SW_IN\", \"gap_len\": 22.5, \"idx_rep\": 4, \"rmse\": 511.5552190763478, \"rmse_norm\": 2.5075921441038465}, {\"method\": \"ERA\", \"var\": \"SW_IN\", \"gap_len\": 22.5, \"idx_rep\": 0, \"rmse\": 37.4531821069096, \"rmse_norm\": 0.18359172523457418}, {\"method\": \"ERA\", \"var\": \"SW_IN\", \"gap_len\": 22.5, \"idx_rep\": 1, \"rmse\": 55.12003577446025, \"rmse_norm\": 0.27019286195598535}, {\"method\": \"ERA\", \"var\": \"SW_IN\", \"gap_len\": 22.5, \"idx_rep\": 2, \"rmse\": 67.09481782075275, \"rmse_norm\": 0.32889203707310466}, {\"method\": \"ERA\", \"var\": \"SW_IN\", \"gap_len\": 22.5, \"idx_rep\": 3, \"rmse\": 13.044154849331303, \"rmse_norm\": 0.06394113285700932}, {\"method\": \"ERA\", \"var\": \"SW_IN\", \"gap_len\": 22.5, \"idx_rep\": 4, \"rmse\": 77.25579320442218, \"rmse_norm\": 0.3787001146732654}, {\"method\": \"MDS\", \"var\": \"SW_IN\", \"gap_len\": 22.5, \"idx_rep\": 0, \"rmse\": 25.94583394959477, \"rmse_norm\": 0.12718386394669257}, {\"method\": \"MDS\", \"var\": \"SW_IN\", \"gap_len\": 22.5, \"idx_rep\": 1, \"rmse\": 55.38487637360379, \"rmse_norm\": 0.2714910838899756}, {\"method\": \"MDS\", \"var\": \"SW_IN\", \"gap_len\": 22.5, \"idx_rep\": 2, \"rmse\": 105.62120370676145, \"rmse_norm\": 0.517744499106241}, {\"method\": \"MDS\", \"var\": \"SW_IN\", \"gap_len\": 22.5, \"idx_rep\": 3, \"rmse\": 46.50526556166636, \"rmse_norm\": 0.22796412632141116}, {\"method\": \"MDS\", \"var\": \"SW_IN\", \"gap_len\": 22.5, \"idx_rep\": 4, \"rmse\": 172.61601846812604, \"rmse_norm\": 0.8461463312576543}]}}, {\"mode\": \"vega-lite\"});\n",
       "</script>"
      ],
      "text/plain": [
       "alt.Chart(...)"
      ]
     },
     "execution_count": null,
     "metadata": {},
     "output_type": "execute_result"
    }
   ],
   "source": [
    "the_plot_stand(data_results)"
   ]
  },
  {
   "cell_type": "code",
   "execution_count": null,
   "id": "f3ca9f9c-9250-4f27-9a6f-c8c35d4cf6bb",
   "metadata": {},
   "outputs": [
    {
     "data": {
      "text/html": [
       "\n",
       "<div id=\"altair-viz-11fbfc705ec645e18739073ac2e4d7e6\"></div>\n",
       "<script type=\"text/javascript\">\n",
       "  var VEGA_DEBUG = (typeof VEGA_DEBUG == \"undefined\") ? {} : VEGA_DEBUG;\n",
       "  (function(spec, embedOpt){\n",
       "    let outputDiv = document.currentScript.previousElementSibling;\n",
       "    if (outputDiv.id !== \"altair-viz-11fbfc705ec645e18739073ac2e4d7e6\") {\n",
       "      outputDiv = document.getElementById(\"altair-viz-11fbfc705ec645e18739073ac2e4d7e6\");\n",
       "    }\n",
       "    const paths = {\n",
       "      \"vega\": \"https://cdn.jsdelivr.net/npm/vega@5?noext\",\n",
       "      \"vega-lib\": \"https://cdn.jsdelivr.net/npm/vega-lib?noext\",\n",
       "      \"vega-lite\": \"https://cdn.jsdelivr.net/npm/vega-lite@5.2.0?noext\",\n",
       "      \"vega-embed\": \"https://cdn.jsdelivr.net/npm/vega-embed@6?noext\",\n",
       "    };\n",
       "\n",
       "    function maybeLoadScript(lib, version) {\n",
       "      var key = `${lib.replace(\"-\", \"\")}_version`;\n",
       "      return (VEGA_DEBUG[key] == version) ?\n",
       "        Promise.resolve(paths[lib]) :\n",
       "        new Promise(function(resolve, reject) {\n",
       "          var s = document.createElement('script');\n",
       "          document.getElementsByTagName(\"head\")[0].appendChild(s);\n",
       "          s.async = true;\n",
       "          s.onload = () => {\n",
       "            VEGA_DEBUG[key] = version;\n",
       "            return resolve(paths[lib]);\n",
       "          };\n",
       "          s.onerror = () => reject(`Error loading script: ${paths[lib]}`);\n",
       "          s.src = paths[lib];\n",
       "        });\n",
       "    }\n",
       "\n",
       "    function showError(err) {\n",
       "      outputDiv.innerHTML = `<div class=\"error\" style=\"color:red;\">${err}</div>`;\n",
       "      throw err;\n",
       "    }\n",
       "\n",
       "    function displayChart(vegaEmbed) {\n",
       "      vegaEmbed(outputDiv, spec, embedOpt)\n",
       "        .catch(err => showError(`Javascript Error: ${err.message}<br>This usually means there's a typo in your chart specification. See the javascript console for the full traceback.`));\n",
       "    }\n",
       "\n",
       "    if(typeof define === \"function\" && define.amd) {\n",
       "      requirejs.config({paths});\n",
       "      require([\"vega-embed\"], displayChart, err => showError(`Error loading script: ${err.message}`));\n",
       "    } else {\n",
       "      maybeLoadScript(\"vega\", \"5\")\n",
       "        .then(() => maybeLoadScript(\"vega-lite\", \"5.2.0\"))\n",
       "        .then(() => maybeLoadScript(\"vega-embed\", \"6\"))\n",
       "        .catch(showError)\n",
       "        .then(() => displayChart(vegaEmbed));\n",
       "    }\n",
       "  })({\"config\": {\"view\": {\"continuousWidth\": 300, \"continuousHeight\": 300}}, \"data\": {\"name\": \"data-9a5b4a35b5363ec98063dcc5ec299212\"}, \"facet\": {\"field\": \"var\", \"sort\": [\"TA\", \"SW_IN\", \"LW_IN\", \"VPD\", \"WS\", \"PA\", \"P\"], \"type\": \"ordinal\"}, \"spec\": {\"mark\": {\"type\": \"boxplot\", \"extent\": \"min-max\"}, \"encoding\": {\"color\": {\"field\": \"method\", \"scale\": {\"domain\": [\"KalmanFilter\", \"ERA\", \"MDS\"], \"scheme\": \"dark2\"}, \"type\": \"nominal\"}, \"x\": {\"axis\": {\"labelAngle\": 0}, \"field\": \"gap_len\", \"title\": \"gap_len [h]\", \"type\": \"nominal\"}, \"xOffset\": {\"field\": \"method\", \"scale\": {\"domain\": [\"KalmanFilter\", \"ERA\", \"MDS\"]}, \"sort\": [\"KalmanFilter\", \"ERA\", \"MDS\"], \"type\": \"ordinal\"}, \"y\": {\"axis\": {\"grid\": true}, \"field\": \"rmse_norm\", \"title\": \"RMSE Standardized\", \"type\": \"quantitative\"}}, \"height\": 200, \"width\": 250}, \"columns\": 3, \"$schema\": \"https://vega.github.io/schema/vega-lite/v5.2.0.json\", \"datasets\": {\"data-9a5b4a35b5363ec98063dcc5ec299212\": [{\"method\": \"KalmanFilter\", \"var\": \"TA\", \"gap_len\": 2.5, \"idx_rep\": 0, \"rmse\": 0.21827485140200586, \"rmse_norm\": 0.02754392081734267}, {\"method\": \"KalmanFilter\", \"var\": \"TA\", \"gap_len\": 2.5, \"idx_rep\": 1, \"rmse\": 0.2588952154861276, \"rmse_norm\": 0.03266977056466004}, {\"method\": \"KalmanFilter\", \"var\": \"TA\", \"gap_len\": 2.5, \"idx_rep\": 2, \"rmse\": 0.09277075304475633, \"rmse_norm\": 0.011706663683961853}, {\"method\": \"KalmanFilter\", \"var\": \"TA\", \"gap_len\": 2.5, \"idx_rep\": 3, \"rmse\": 0.07546909822259201, \"rmse_norm\": 0.009523382342251065}, {\"method\": \"KalmanFilter\", \"var\": \"TA\", \"gap_len\": 2.5, \"idx_rep\": 4, \"rmse\": 0.22062231467057408, \"rmse_norm\": 0.02784014524253772}, {\"method\": \"ERA\", \"var\": \"TA\", \"gap_len\": 2.5, \"idx_rep\": 0, \"rmse\": 1.3124766664592555, \"rmse_norm\": 0.16562033208756313}, {\"method\": \"ERA\", \"var\": \"TA\", \"gap_len\": 2.5, \"idx_rep\": 1, \"rmse\": 1.6085195678013982, \"rmse_norm\": 0.202977738040329}, {\"method\": \"ERA\", \"var\": \"TA\", \"gap_len\": 2.5, \"idx_rep\": 2, \"rmse\": 3.6546490939623735, \"rmse_norm\": 0.4611771104765394}, {\"method\": \"ERA\", \"var\": \"TA\", \"gap_len\": 2.5, \"idx_rep\": 3, \"rmse\": 0.6885711292234088, \"rmse_norm\": 0.0868902145099047}, {\"method\": \"ERA\", \"var\": \"TA\", \"gap_len\": 2.5, \"idx_rep\": 4, \"rmse\": 2.9776153210245275, \"rmse_norm\": 0.3757427853003342}, {\"method\": \"MDS\", \"var\": \"TA\", \"gap_len\": 2.5, \"idx_rep\": 0, \"rmse\": 3.533486923820946, \"rmse_norm\": 0.44588775763081695}, {\"method\": \"MDS\", \"var\": \"TA\", \"gap_len\": 2.5, \"idx_rep\": 1, \"rmse\": 4.999345809432867, \"rmse_norm\": 0.6308632635828602}, {\"method\": \"MDS\", \"var\": \"TA\", \"gap_len\": 2.5, \"idx_rep\": 2, \"rmse\": 1.798172136090133, \"rmse_norm\": 0.22690983690649563}, {\"method\": \"MDS\", \"var\": \"TA\", \"gap_len\": 2.5, \"idx_rep\": 3, \"rmse\": 2.541324452888777, \"rmse_norm\": 0.3206876057958096}, {\"method\": \"MDS\", \"var\": \"TA\", \"gap_len\": 2.5, \"idx_rep\": 4, \"rmse\": 3.392243673220649, \"rmse_norm\": 0.42806439004847663}, {\"method\": \"KalmanFilter\", \"var\": \"TA\", \"gap_len\": 5.0, \"idx_rep\": 0, \"rmse\": 0.7557668402758659, \"rmse_norm\": 0.09536958504941391}, {\"method\": \"KalmanFilter\", \"var\": \"TA\", \"gap_len\": 5.0, \"idx_rep\": 1, \"rmse\": 0.2534937616281092, \"rmse_norm\": 0.03198816562296299}, {\"method\": \"KalmanFilter\", \"var\": \"TA\", \"gap_len\": 5.0, \"idx_rep\": 2, \"rmse\": 0.29698671939519045, \"rmse_norm\": 0.03747650556296906}, {\"method\": \"KalmanFilter\", \"var\": \"TA\", \"gap_len\": 5.0, \"idx_rep\": 3, \"rmse\": 0.2996631362498825, \"rmse_norm\": 0.037814240365885356}, {\"method\": \"KalmanFilter\", \"var\": \"TA\", \"gap_len\": 5.0, \"idx_rep\": 4, \"rmse\": 0.37067943899975, \"rmse_norm\": 0.04677572817411762}, {\"method\": \"ERA\", \"var\": \"TA\", \"gap_len\": 5.0, \"idx_rep\": 0, \"rmse\": 0.7428108776801803, \"rmse_norm\": 0.09373468297271624}, {\"method\": \"ERA\", \"var\": \"TA\", \"gap_len\": 5.0, \"idx_rep\": 1, \"rmse\": 1.1564829008679722, \"rmse_norm\": 0.14593560936367933}, {\"method\": \"ERA\", \"var\": \"TA\", \"gap_len\": 5.0, \"idx_rep\": 2, \"rmse\": 0.7556730112952296, \"rmse_norm\": 0.09535774484887585}, {\"method\": \"ERA\", \"var\": \"TA\", \"gap_len\": 5.0, \"idx_rep\": 3, \"rmse\": 0.9921576991587578, \"rmse_norm\": 0.12519954968891425}, {\"method\": \"ERA\", \"var\": \"TA\", \"gap_len\": 5.0, \"idx_rep\": 4, \"rmse\": 0.4907731655255816, \"rmse_norm\": 0.061930255014201976}, {\"method\": \"MDS\", \"var\": \"TA\", \"gap_len\": 5.0, \"idx_rep\": 0, \"rmse\": 2.3194756263320198, \"rmse_norm\": 0.2926926880448608}, {\"method\": \"MDS\", \"var\": \"TA\", \"gap_len\": 5.0, \"idx_rep\": 1, \"rmse\": 2.6689311551902013, \"rmse_norm\": 0.3367901887611707}, {\"method\": \"MDS\", \"var\": \"TA\", \"gap_len\": 5.0, \"idx_rep\": 2, \"rmse\": 3.8302383625401784, \"rmse_norm\": 0.4833345733222007}, {\"method\": \"MDS\", \"var\": \"TA\", \"gap_len\": 5.0, \"idx_rep\": 3, \"rmse\": 4.158790049834242, \"rmse_norm\": 0.5247942357666159}, {\"method\": \"MDS\", \"var\": \"TA\", \"gap_len\": 5.0, \"idx_rep\": 4, \"rmse\": 1.4312901393723287, \"rmse_norm\": 0.180613304795738}, {\"method\": \"KalmanFilter\", \"var\": \"TA\", \"gap_len\": 10.0, \"idx_rep\": 0, \"rmse\": 1.2136831088596065, \"rmse_norm\": 0.15315365573749368}, {\"method\": \"KalmanFilter\", \"var\": \"TA\", \"gap_len\": 10.0, \"idx_rep\": 1, \"rmse\": 0.4085841326055893, \"rmse_norm\": 0.05155888973661032}, {\"method\": \"KalmanFilter\", \"var\": \"TA\", \"gap_len\": 10.0, \"idx_rep\": 2, \"rmse\": 0.8069300583887423, \"rmse_norm\": 0.10182582872297419}, {\"method\": \"KalmanFilter\", \"var\": \"TA\", \"gap_len\": 10.0, \"idx_rep\": 3, \"rmse\": 0.9503059919042384, \"rmse_norm\": 0.11991831777747423}, {\"method\": \"KalmanFilter\", \"var\": \"TA\", \"gap_len\": 10.0, \"idx_rep\": 4, \"rmse\": 0.5034127845661044, \"rmse_norm\": 0.06352523796243155}, {\"method\": \"ERA\", \"var\": \"TA\", \"gap_len\": 10.0, \"idx_rep\": 0, \"rmse\": 0.7116045601315383, \"rmse_norm\": 0.08979678387880005}, {\"method\": \"ERA\", \"var\": \"TA\", \"gap_len\": 10.0, \"idx_rep\": 1, \"rmse\": 1.4444163007942, \"rmse_norm\": 0.1822696841198673}, {\"method\": \"ERA\", \"var\": \"TA\", \"gap_len\": 10.0, \"idx_rep\": 2, \"rmse\": 2.0328676666226944, \"rmse_norm\": 0.25652586948034123}, {\"method\": \"ERA\", \"var\": \"TA\", \"gap_len\": 10.0, \"idx_rep\": 3, \"rmse\": 1.6906993966994843, \"rmse_norm\": 0.2133479418700996}, {\"method\": \"ERA\", \"var\": \"TA\", \"gap_len\": 10.0, \"idx_rep\": 4, \"rmse\": 1.116478750357569, \"rmse_norm\": 0.14088751909150113}, {\"method\": \"MDS\", \"var\": \"TA\", \"gap_len\": 10.0, \"idx_rep\": 0, \"rmse\": 4.15131259410814, \"rmse_norm\": 0.5238506618866565}, {\"method\": \"MDS\", \"var\": \"TA\", \"gap_len\": 10.0, \"idx_rep\": 1, \"rmse\": 2.0354096559121606, \"rmse_norm\": 0.2568466409813083}, {\"method\": \"MDS\", \"var\": \"TA\", \"gap_len\": 10.0, \"idx_rep\": 2, \"rmse\": 1.8642627495041368, \"rmse_norm\": 0.23524975609989932}, {\"method\": \"MDS\", \"var\": \"TA\", \"gap_len\": 10.0, \"idx_rep\": 3, \"rmse\": 3.9558903551473867, \"rmse_norm\": 0.4991904931072066}, {\"method\": \"MDS\", \"var\": \"TA\", \"gap_len\": 10.0, \"idx_rep\": 4, \"rmse\": 2.3728173623574103, \"rmse_norm\": 0.29942383707053116}, {\"method\": \"KalmanFilter\", \"var\": \"TA\", \"gap_len\": 22.5, \"idx_rep\": 0, \"rmse\": 1.5616152824501275, \"rmse_norm\": 0.19705892552752136}, {\"method\": \"KalmanFilter\", \"var\": \"TA\", \"gap_len\": 22.5, \"idx_rep\": 1, \"rmse\": 0.438919034764805, \"rmse_norm\": 0.055386825651849714}, {\"method\": \"KalmanFilter\", \"var\": \"TA\", \"gap_len\": 22.5, \"idx_rep\": 2, \"rmse\": 0.779441162106242, \"rmse_norm\": 0.09835702790740582}, {\"method\": \"KalmanFilter\", \"var\": \"TA\", \"gap_len\": 22.5, \"idx_rep\": 3, \"rmse\": 0.59044482914689, \"rmse_norm\": 0.07450773882823022}, {\"method\": \"KalmanFilter\", \"var\": \"TA\", \"gap_len\": 22.5, \"idx_rep\": 4, \"rmse\": 0.5896388099427091, \"rmse_norm\": 0.07440602793943742}, {\"method\": \"ERA\", \"var\": \"TA\", \"gap_len\": 22.5, \"idx_rep\": 0, \"rmse\": 1.2438795672322047, \"rmse_norm\": 0.15696412154716777}, {\"method\": \"ERA\", \"var\": \"TA\", \"gap_len\": 22.5, \"idx_rep\": 1, \"rmse\": 0.9254256197976031, \"rmse_norm\": 0.11677868444450253}, {\"method\": \"ERA\", \"var\": \"TA\", \"gap_len\": 22.5, \"idx_rep\": 2, \"rmse\": 1.4556320963760037, \"rmse_norm\": 0.18368499597748367}, {\"method\": \"ERA\", \"var\": \"TA\", \"gap_len\": 22.5, \"idx_rep\": 3, \"rmse\": 0.8016010229534392, \"rmse_norm\": 0.10115336220143034}, {\"method\": \"ERA\", \"var\": \"TA\", \"gap_len\": 22.5, \"idx_rep\": 4, \"rmse\": 2.0069263121057093, \"rmse_norm\": 0.25325235166497695}, {\"method\": \"MDS\", \"var\": \"TA\", \"gap_len\": 22.5, \"idx_rep\": 0, \"rmse\": 2.0047327372781236, \"rmse_norm\": 0.2529755462933556}, {\"method\": \"MDS\", \"var\": \"TA\", \"gap_len\": 22.5, \"idx_rep\": 1, \"rmse\": 2.2897667167875544, \"rmse_norm\": 0.2889437456137639}, {\"method\": \"MDS\", \"var\": \"TA\", \"gap_len\": 22.5, \"idx_rep\": 2, \"rmse\": 2.541502865472911, \"rmse_norm\": 0.32071011953048245}, {\"method\": \"MDS\", \"var\": \"TA\", \"gap_len\": 22.5, \"idx_rep\": 3, \"rmse\": 0.6008310935100136, \"rmse_norm\": 0.07581837283562204}, {\"method\": \"MDS\", \"var\": \"TA\", \"gap_len\": 22.5, \"idx_rep\": 4, \"rmse\": 2.8096819844686967, \"rmse_norm\": 0.35455141810903584}, {\"method\": \"KalmanFilter\", \"var\": \"SW_IN\", \"gap_len\": 2.5, \"idx_rep\": 0, \"rmse\": 14.662781150311423, \"rmse_norm\": 0.07187547590585198}, {\"method\": \"KalmanFilter\", \"var\": \"SW_IN\", \"gap_len\": 2.5, \"idx_rep\": 1, \"rmse\": 51.0474390257893, \"rmse_norm\": 0.25022940301305946}, {\"method\": \"KalmanFilter\", \"var\": \"SW_IN\", \"gap_len\": 2.5, \"idx_rep\": 2, \"rmse\": 51.0474390257893, \"rmse_norm\": 0.25022940301305946}, {\"method\": \"KalmanFilter\", \"var\": \"SW_IN\", \"gap_len\": 2.5, \"idx_rep\": 3, \"rmse\": 30.38469193306595, \"rmse_norm\": 0.1489426985613458}, {\"method\": \"KalmanFilter\", \"var\": \"SW_IN\", \"gap_len\": 2.5, \"idx_rep\": 4, \"rmse\": 138.42143724372934, \"rmse_norm\": 0.6785279392411695}, {\"method\": \"ERA\", \"var\": \"SW_IN\", \"gap_len\": 2.5, \"idx_rep\": 0, \"rmse\": 0.0, \"rmse_norm\": 0.0}, {\"method\": \"ERA\", \"var\": \"SW_IN\", \"gap_len\": 2.5, \"idx_rep\": 1, \"rmse\": 32.736280149094526, \"rmse_norm\": 0.1604699470709546}, {\"method\": \"ERA\", \"var\": \"SW_IN\", \"gap_len\": 2.5, \"idx_rep\": 2, \"rmse\": 32.736280149094526, \"rmse_norm\": 0.1604699470709546}, {\"method\": \"ERA\", \"var\": \"SW_IN\", \"gap_len\": 2.5, \"idx_rep\": 3, \"rmse\": 0.0, \"rmse_norm\": 0.0}, {\"method\": \"ERA\", \"var\": \"SW_IN\", \"gap_len\": 2.5, \"idx_rep\": 4, \"rmse\": 0.0, \"rmse_norm\": 0.0}, {\"method\": \"MDS\", \"var\": \"SW_IN\", \"gap_len\": 2.5, \"idx_rep\": 0, \"rmse\": 0.0, \"rmse_norm\": 0.0}, {\"method\": \"MDS\", \"var\": \"SW_IN\", \"gap_len\": 2.5, \"idx_rep\": 1, \"rmse\": 63.21612848367465, \"rmse_norm\": 0.30987909272540015}, {\"method\": \"MDS\", \"var\": \"SW_IN\", \"gap_len\": 2.5, \"idx_rep\": 2, \"rmse\": 63.21612848367465, \"rmse_norm\": 0.30987909272540015}, {\"method\": \"MDS\", \"var\": \"SW_IN\", \"gap_len\": 2.5, \"idx_rep\": 3, \"rmse\": 0.0, \"rmse_norm\": 0.0}, {\"method\": \"MDS\", \"var\": \"SW_IN\", \"gap_len\": 2.5, \"idx_rep\": 4, \"rmse\": 1.4333195735773652, \"rmse_norm\": 0.007025988140991758}, {\"method\": \"KalmanFilter\", \"var\": \"SW_IN\", \"gap_len\": 5.0, \"idx_rep\": 0, \"rmse\": 242.95881325366256, \"rmse_norm\": 1.1909596241745126}, {\"method\": \"KalmanFilter\", \"var\": \"SW_IN\", \"gap_len\": 5.0, \"idx_rep\": 1, \"rmse\": 154.28505369790292, \"rmse_norm\": 0.7562897888209414}, {\"method\": \"KalmanFilter\", \"var\": \"SW_IN\", \"gap_len\": 5.0, \"idx_rep\": 2, \"rmse\": 42.6893425169812, \"rmse_norm\": 0.20925885601523683}, {\"method\": \"KalmanFilter\", \"var\": \"SW_IN\", \"gap_len\": 5.0, \"idx_rep\": 3, \"rmse\": 49.64597231656434, \"rmse_norm\": 0.24335955440390844}, {\"method\": \"KalmanFilter\", \"var\": \"SW_IN\", \"gap_len\": 5.0, \"idx_rep\": 4, \"rmse\": 48.22256259820155, \"rmse_norm\": 0.23638214337474855}, {\"method\": \"ERA\", \"var\": \"SW_IN\", \"gap_len\": 5.0, \"idx_rep\": 0, \"rmse\": 107.33970930601592, \"rmse_norm\": 0.5261684404122642}, {\"method\": \"ERA\", \"var\": \"SW_IN\", \"gap_len\": 5.0, \"idx_rep\": 1, \"rmse\": 40.52671987960536, \"rmse_norm\": 0.1986578977336726}, {\"method\": \"ERA\", \"var\": \"SW_IN\", \"gap_len\": 5.0, \"idx_rep\": 2, \"rmse\": 22.862790973544765, \"rmse_norm\": 0.11207109789841246}, {\"method\": \"ERA\", \"var\": \"SW_IN\", \"gap_len\": 5.0, \"idx_rep\": 3, \"rmse\": 0.0, \"rmse_norm\": 0.0}, {\"method\": \"ERA\", \"var\": \"SW_IN\", \"gap_len\": 5.0, \"idx_rep\": 4, \"rmse\": 0.0, \"rmse_norm\": 0.0}, {\"method\": \"MDS\", \"var\": \"SW_IN\", \"gap_len\": 5.0, \"idx_rep\": 0, \"rmse\": 112.2641576116036, \"rmse_norm\": 0.5503075898621189}, {\"method\": \"MDS\", \"var\": \"SW_IN\", \"gap_len\": 5.0, \"idx_rep\": 1, \"rmse\": 67.4184859127446, \"rmse_norm\": 0.33047862545009615}, {\"method\": \"MDS\", \"var\": \"SW_IN\", \"gap_len\": 5.0, \"idx_rep\": 2, \"rmse\": 33.37887291221923, \"rmse_norm\": 0.163619872053792}, {\"method\": \"MDS\", \"var\": \"SW_IN\", \"gap_len\": 5.0, \"idx_rep\": 3, \"rmse\": 0.0, \"rmse_norm\": 0.0}, {\"method\": \"MDS\", \"var\": \"SW_IN\", \"gap_len\": 5.0, \"idx_rep\": 4, \"rmse\": 0.21977829738170235, \"rmse_norm\": 0.0010773310708352163}, {\"method\": \"KalmanFilter\", \"var\": \"SW_IN\", \"gap_len\": 10.0, \"idx_rep\": 0, \"rmse\": 410.14873391362795, \"rmse_norm\": 2.010507770662495}, {\"method\": \"KalmanFilter\", \"var\": \"SW_IN\", \"gap_len\": 10.0, \"idx_rep\": 1, \"rmse\": 97.33930009622411, \"rmse_norm\": 0.4771474420192147}, {\"method\": \"KalmanFilter\", \"var\": \"SW_IN\", \"gap_len\": 10.0, \"idx_rep\": 2, \"rmse\": 267.94593238377917, \"rmse_norm\": 1.3134439646678038}, {\"method\": \"KalmanFilter\", \"var\": \"SW_IN\", \"gap_len\": 10.0, \"idx_rep\": 3, \"rmse\": 154.67108049930167, \"rmse_norm\": 0.7581820533087299}, {\"method\": \"KalmanFilter\", \"var\": \"SW_IN\", \"gap_len\": 10.0, \"idx_rep\": 4, \"rmse\": 78.5713222062797, \"rmse_norm\": 0.38514870529922957}, {\"method\": \"ERA\", \"var\": \"SW_IN\", \"gap_len\": 10.0, \"idx_rep\": 0, \"rmse\": 37.86428164246616, \"rmse_norm\": 0.18560689373909597}, {\"method\": \"ERA\", \"var\": \"SW_IN\", \"gap_len\": 10.0, \"idx_rep\": 1, \"rmse\": 72.04623972595655, \"rmse_norm\": 0.3531634083906548}, {\"method\": \"ERA\", \"var\": \"SW_IN\", \"gap_len\": 10.0, \"idx_rep\": 2, \"rmse\": 98.6644726902749, \"rmse_norm\": 0.48364330456250654}, {\"method\": \"ERA\", \"var\": \"SW_IN\", \"gap_len\": 10.0, \"idx_rep\": 3, \"rmse\": 100.34352067348445, \"rmse_norm\": 0.49187382861008017}, {\"method\": \"ERA\", \"var\": \"SW_IN\", \"gap_len\": 10.0, \"idx_rep\": 4, \"rmse\": 33.184237225676895, \"rmse_norm\": 0.16266578752814298}, {\"method\": \"MDS\", \"var\": \"SW_IN\", \"gap_len\": 10.0, \"idx_rep\": 0, \"rmse\": 136.7578532781966, \"rmse_norm\": 0.670373218250229}, {\"method\": \"MDS\", \"var\": \"SW_IN\", \"gap_len\": 10.0, \"idx_rep\": 1, \"rmse\": 108.09854530831944, \"rmse_norm\": 0.5298881780419091}, {\"method\": \"MDS\", \"var\": \"SW_IN\", \"gap_len\": 10.0, \"idx_rep\": 2, \"rmse\": 143.1269134490089, \"rmse_norm\": 0.7015937095170184}, {\"method\": \"MDS\", \"var\": \"SW_IN\", \"gap_len\": 10.0, \"idx_rep\": 3, \"rmse\": 125.98175324558967, \"rmse_norm\": 0.6175498615955306}, {\"method\": \"MDS\", \"var\": \"SW_IN\", \"gap_len\": 10.0, \"idx_rep\": 4, \"rmse\": 87.546353374195, \"rmse_norm\": 0.429143403839081}, {\"method\": \"KalmanFilter\", \"var\": \"SW_IN\", \"gap_len\": 22.5, \"idx_rep\": 0, \"rmse\": 186.81666092246593, \"rmse_norm\": 0.9157564498368876}, {\"method\": \"KalmanFilter\", \"var\": \"SW_IN\", \"gap_len\": 22.5, \"idx_rep\": 1, \"rmse\": 142.24280595614934, \"rmse_norm\": 0.6972599036619225}, {\"method\": \"KalmanFilter\", \"var\": \"SW_IN\", \"gap_len\": 22.5, \"idx_rep\": 2, \"rmse\": 199.7266693403644, \"rmse_norm\": 0.9790400104024289}, {\"method\": \"KalmanFilter\", \"var\": \"SW_IN\", \"gap_len\": 22.5, \"idx_rep\": 3, \"rmse\": 143.97858755663404, \"rmse_norm\": 0.7057685301853982}, {\"method\": \"KalmanFilter\", \"var\": \"SW_IN\", \"gap_len\": 22.5, \"idx_rep\": 4, \"rmse\": 511.5552190763478, \"rmse_norm\": 2.5075921441038465}, {\"method\": \"ERA\", \"var\": \"SW_IN\", \"gap_len\": 22.5, \"idx_rep\": 0, \"rmse\": 37.4531821069096, \"rmse_norm\": 0.18359172523457418}, {\"method\": \"ERA\", \"var\": \"SW_IN\", \"gap_len\": 22.5, \"idx_rep\": 1, \"rmse\": 55.12003577446025, \"rmse_norm\": 0.27019286195598535}, {\"method\": \"ERA\", \"var\": \"SW_IN\", \"gap_len\": 22.5, \"idx_rep\": 2, \"rmse\": 67.09481782075275, \"rmse_norm\": 0.32889203707310466}, {\"method\": \"ERA\", \"var\": \"SW_IN\", \"gap_len\": 22.5, \"idx_rep\": 3, \"rmse\": 13.044154849331303, \"rmse_norm\": 0.06394113285700932}, {\"method\": \"ERA\", \"var\": \"SW_IN\", \"gap_len\": 22.5, \"idx_rep\": 4, \"rmse\": 77.25579320442218, \"rmse_norm\": 0.3787001146732654}, {\"method\": \"MDS\", \"var\": \"SW_IN\", \"gap_len\": 22.5, \"idx_rep\": 0, \"rmse\": 25.94583394959477, \"rmse_norm\": 0.12718386394669257}, {\"method\": \"MDS\", \"var\": \"SW_IN\", \"gap_len\": 22.5, \"idx_rep\": 1, \"rmse\": 55.38487637360379, \"rmse_norm\": 0.2714910838899756}, {\"method\": \"MDS\", \"var\": \"SW_IN\", \"gap_len\": 22.5, \"idx_rep\": 2, \"rmse\": 105.62120370676145, \"rmse_norm\": 0.517744499106241}, {\"method\": \"MDS\", \"var\": \"SW_IN\", \"gap_len\": 22.5, \"idx_rep\": 3, \"rmse\": 46.50526556166636, \"rmse_norm\": 0.22796412632141116}, {\"method\": \"MDS\", \"var\": \"SW_IN\", \"gap_len\": 22.5, \"idx_rep\": 4, \"rmse\": 172.61601846812604, \"rmse_norm\": 0.8461463312576543}]}}, {\"mode\": \"vega-lite\"});\n",
       "</script>"
      ],
      "text/plain": [
       "alt.FacetChart(...)"
      ]
     },
     "execution_count": null,
     "metadata": {},
     "output_type": "execute_result"
    }
   ],
   "source": [
    "the_plot_stand2(data_results)"
   ]
  },
  {
   "cell_type": "code",
   "execution_count": null,
   "id": "46417fe9-5ffb-4a2a-874e-8716ae4f993f",
   "metadata": {},
   "outputs": [
    {
     "data": {
      "text/plain": [
       "Color({\n",
       "  shorthand: 'color'\n",
       "})"
      ]
     },
     "execution_count": null,
     "metadata": {},
     "output_type": "execute_result"
    }
   ],
   "source": [
    "alt.Color('color')"
   ]
  },
  {
   "cell_type": "code",
   "execution_count": null,
   "id": "f5b44527-fc09-4fd9-83e8-7a681e661ee8",
   "metadata": {},
   "outputs": [],
   "source": [
    "x = alt.X('gap_len'); color = alt.Color('method'); xOffset = alt.XOffset('method'); y = alt.Y('rmse_norm')"
   ]
  },
  {
   "cell_type": "code",
   "execution_count": null,
   "id": "e81da799-546b-466c-836f-a812e41dae80",
   "metadata": {},
   "outputs": [
    {
     "data": {
      "text/plain": [
       "MultiIndex([('rmse_norm',     'median'),\n",
       "            ('rmse_norm', '<lambda_0>'),\n",
       "            ('rmse_norm', '<lambda_1>')],\n",
       "           )"
      ]
     },
     "execution_count": null,
     "metadata": {},
     "output_type": "execute_result"
    }
   ],
   "source": [
    "data_results.groupby([x.shorthand, color.shorthand, xOffset.shorthand]).agg({y.shorthand: ['median', lambda x: x.quantile(.25), lambda x: x.quantile(.75)]}).columns"
   ]
  },
  {
   "cell_type": "code",
   "execution_count": null,
   "id": "584d2d99-ad7c-4fff-ba10-027c64474d12",
   "metadata": {},
   "outputs": [
    {
     "data": {
      "text/html": [
       "<div>\n",
       "<style scoped>\n",
       "    .dataframe tbody tr th:only-of-type {\n",
       "        vertical-align: middle;\n",
       "    }\n",
       "\n",
       "    .dataframe tbody tr th {\n",
       "        vertical-align: top;\n",
       "    }\n",
       "\n",
       "    .dataframe thead th {\n",
       "        text-align: right;\n",
       "    }\n",
       "</style>\n",
       "<table border=\"1\" class=\"dataframe\">\n",
       "  <thead>\n",
       "    <tr style=\"text-align: right;\">\n",
       "      <th></th>\n",
       "      <th>method</th>\n",
       "      <th>var</th>\n",
       "      <th>gap_len</th>\n",
       "      <th>idx_rep</th>\n",
       "      <th>rmse</th>\n",
       "      <th>rmse_norm</th>\n",
       "    </tr>\n",
       "  </thead>\n",
       "  <tbody>\n",
       "    <tr>\n",
       "      <th>0</th>\n",
       "      <td>KalmanFilter</td>\n",
       "      <td>TA</td>\n",
       "      <td>2.5</td>\n",
       "      <td>0</td>\n",
       "      <td>0.218275</td>\n",
       "      <td>0.027544</td>\n",
       "    </tr>\n",
       "    <tr>\n",
       "      <th>3</th>\n",
       "      <td>KalmanFilter</td>\n",
       "      <td>TA</td>\n",
       "      <td>2.5</td>\n",
       "      <td>1</td>\n",
       "      <td>0.258895</td>\n",
       "      <td>0.032670</td>\n",
       "    </tr>\n",
       "    <tr>\n",
       "      <th>6</th>\n",
       "      <td>KalmanFilter</td>\n",
       "      <td>TA</td>\n",
       "      <td>2.5</td>\n",
       "      <td>2</td>\n",
       "      <td>0.092771</td>\n",
       "      <td>0.011707</td>\n",
       "    </tr>\n",
       "    <tr>\n",
       "      <th>9</th>\n",
       "      <td>KalmanFilter</td>\n",
       "      <td>TA</td>\n",
       "      <td>2.5</td>\n",
       "      <td>3</td>\n",
       "      <td>0.075469</td>\n",
       "      <td>0.009523</td>\n",
       "    </tr>\n",
       "    <tr>\n",
       "      <th>12</th>\n",
       "      <td>KalmanFilter</td>\n",
       "      <td>TA</td>\n",
       "      <td>2.5</td>\n",
       "      <td>4</td>\n",
       "      <td>0.220622</td>\n",
       "      <td>0.027840</td>\n",
       "    </tr>\n",
       "    <tr>\n",
       "      <th>...</th>\n",
       "      <td>...</td>\n",
       "      <td>...</td>\n",
       "      <td>...</td>\n",
       "      <td>...</td>\n",
       "      <td>...</td>\n",
       "      <td>...</td>\n",
       "    </tr>\n",
       "    <tr>\n",
       "      <th>2</th>\n",
       "      <td>MDS</td>\n",
       "      <td>SW_IN</td>\n",
       "      <td>22.5</td>\n",
       "      <td>0</td>\n",
       "      <td>25.945834</td>\n",
       "      <td>0.127184</td>\n",
       "    </tr>\n",
       "    <tr>\n",
       "      <th>5</th>\n",
       "      <td>MDS</td>\n",
       "      <td>SW_IN</td>\n",
       "      <td>22.5</td>\n",
       "      <td>1</td>\n",
       "      <td>55.384876</td>\n",
       "      <td>0.271491</td>\n",
       "    </tr>\n",
       "    <tr>\n",
       "      <th>8</th>\n",
       "      <td>MDS</td>\n",
       "      <td>SW_IN</td>\n",
       "      <td>22.5</td>\n",
       "      <td>2</td>\n",
       "      <td>105.621204</td>\n",
       "      <td>0.517744</td>\n",
       "    </tr>\n",
       "    <tr>\n",
       "      <th>11</th>\n",
       "      <td>MDS</td>\n",
       "      <td>SW_IN</td>\n",
       "      <td>22.5</td>\n",
       "      <td>3</td>\n",
       "      <td>46.505266</td>\n",
       "      <td>0.227964</td>\n",
       "    </tr>\n",
       "    <tr>\n",
       "      <th>14</th>\n",
       "      <td>MDS</td>\n",
       "      <td>SW_IN</td>\n",
       "      <td>22.5</td>\n",
       "      <td>4</td>\n",
       "      <td>172.616018</td>\n",
       "      <td>0.846146</td>\n",
       "    </tr>\n",
       "  </tbody>\n",
       "</table>\n",
       "<p>120 rows × 6 columns</p>\n",
       "</div>"
      ],
      "text/plain": [
       "          method    var gap_len  idx_rep        rmse  rmse_norm\n",
       "0   KalmanFilter     TA     2.5        0    0.218275   0.027544\n",
       "3   KalmanFilter     TA     2.5        1    0.258895   0.032670\n",
       "6   KalmanFilter     TA     2.5        2    0.092771   0.011707\n",
       "9   KalmanFilter     TA     2.5        3    0.075469   0.009523\n",
       "12  KalmanFilter     TA     2.5        4    0.220622   0.027840\n",
       "..           ...    ...     ...      ...         ...        ...\n",
       "2            MDS  SW_IN    22.5        0   25.945834   0.127184\n",
       "5            MDS  SW_IN    22.5        1   55.384876   0.271491\n",
       "8            MDS  SW_IN    22.5        2  105.621204   0.517744\n",
       "11           MDS  SW_IN    22.5        3   46.505266   0.227964\n",
       "14           MDS  SW_IN    22.5        4  172.616018   0.846146\n",
       "\n",
       "[120 rows x 6 columns]"
      ]
     },
     "execution_count": null,
     "metadata": {},
     "output_type": "execute_result"
    }
   ],
   "source": [
    "data_results"
   ]
  },
  {
   "cell_type": "code",
   "execution_count": null,
   "id": "e62077fd-2f97-4561-99b5-95221c52003d",
   "metadata": {},
   "outputs": [
    {
     "data": {
      "text/html": [
       "<div>\n",
       "<style scoped>\n",
       "    .dataframe tbody tr th:only-of-type {\n",
       "        vertical-align: middle;\n",
       "    }\n",
       "\n",
       "    .dataframe tbody tr th {\n",
       "        vertical-align: top;\n",
       "    }\n",
       "\n",
       "    .dataframe thead th {\n",
       "        text-align: right;\n",
       "    }\n",
       "</style>\n",
       "<table border=\"1\" class=\"dataframe\">\n",
       "  <thead>\n",
       "    <tr style=\"text-align: right;\">\n",
       "      <th></th>\n",
       "      <th>gap_len</th>\n",
       "      <th>method</th>\n",
       "      <th>var</th>\n",
       "      <th>median</th>\n",
       "      <th>q1</th>\n",
       "      <th>q3</th>\n",
       "    </tr>\n",
       "  </thead>\n",
       "  <tbody>\n",
       "    <tr>\n",
       "      <th>0</th>\n",
       "      <td>2.5</td>\n",
       "      <td>KalmanFilter</td>\n",
       "      <td>TA</td>\n",
       "      <td>0.027544</td>\n",
       "      <td>0.011707</td>\n",
       "      <td>0.027840</td>\n",
       "    </tr>\n",
       "    <tr>\n",
       "      <th>1</th>\n",
       "      <td>2.5</td>\n",
       "      <td>KalmanFilter</td>\n",
       "      <td>SW_IN</td>\n",
       "      <td>0.250229</td>\n",
       "      <td>0.148943</td>\n",
       "      <td>0.250229</td>\n",
       "    </tr>\n",
       "    <tr>\n",
       "      <th>2</th>\n",
       "      <td>2.5</td>\n",
       "      <td>KalmanFilter</td>\n",
       "      <td>LW_IN</td>\n",
       "      <td>NaN</td>\n",
       "      <td>NaN</td>\n",
       "      <td>NaN</td>\n",
       "    </tr>\n",
       "    <tr>\n",
       "      <th>3</th>\n",
       "      <td>2.5</td>\n",
       "      <td>KalmanFilter</td>\n",
       "      <td>VPD</td>\n",
       "      <td>NaN</td>\n",
       "      <td>NaN</td>\n",
       "      <td>NaN</td>\n",
       "    </tr>\n",
       "    <tr>\n",
       "      <th>4</th>\n",
       "      <td>2.5</td>\n",
       "      <td>KalmanFilter</td>\n",
       "      <td>WS</td>\n",
       "      <td>NaN</td>\n",
       "      <td>NaN</td>\n",
       "      <td>NaN</td>\n",
       "    </tr>\n",
       "    <tr>\n",
       "      <th>...</th>\n",
       "      <td>...</td>\n",
       "      <td>...</td>\n",
       "      <td>...</td>\n",
       "      <td>...</td>\n",
       "      <td>...</td>\n",
       "      <td>...</td>\n",
       "    </tr>\n",
       "    <tr>\n",
       "      <th>79</th>\n",
       "      <td>22.5</td>\n",
       "      <td>MDS</td>\n",
       "      <td>LW_IN</td>\n",
       "      <td>NaN</td>\n",
       "      <td>NaN</td>\n",
       "      <td>NaN</td>\n",
       "    </tr>\n",
       "    <tr>\n",
       "      <th>80</th>\n",
       "      <td>22.5</td>\n",
       "      <td>MDS</td>\n",
       "      <td>VPD</td>\n",
       "      <td>NaN</td>\n",
       "      <td>NaN</td>\n",
       "      <td>NaN</td>\n",
       "    </tr>\n",
       "    <tr>\n",
       "      <th>81</th>\n",
       "      <td>22.5</td>\n",
       "      <td>MDS</td>\n",
       "      <td>WS</td>\n",
       "      <td>NaN</td>\n",
       "      <td>NaN</td>\n",
       "      <td>NaN</td>\n",
       "    </tr>\n",
       "    <tr>\n",
       "      <th>82</th>\n",
       "      <td>22.5</td>\n",
       "      <td>MDS</td>\n",
       "      <td>PA</td>\n",
       "      <td>NaN</td>\n",
       "      <td>NaN</td>\n",
       "      <td>NaN</td>\n",
       "    </tr>\n",
       "    <tr>\n",
       "      <th>83</th>\n",
       "      <td>22.5</td>\n",
       "      <td>MDS</td>\n",
       "      <td>P</td>\n",
       "      <td>NaN</td>\n",
       "      <td>NaN</td>\n",
       "      <td>NaN</td>\n",
       "    </tr>\n",
       "  </tbody>\n",
       "</table>\n",
       "<p>84 rows × 6 columns</p>\n",
       "</div>"
      ],
      "text/plain": [
       "   gap_len        method    var    median        q1        q3\n",
       "0      2.5  KalmanFilter     TA  0.027544  0.011707  0.027840\n",
       "1      2.5  KalmanFilter  SW_IN  0.250229  0.148943  0.250229\n",
       "2      2.5  KalmanFilter  LW_IN       NaN       NaN       NaN\n",
       "3      2.5  KalmanFilter    VPD       NaN       NaN       NaN\n",
       "4      2.5  KalmanFilter     WS       NaN       NaN       NaN\n",
       "..     ...           ...    ...       ...       ...       ...\n",
       "79    22.5           MDS  LW_IN       NaN       NaN       NaN\n",
       "80    22.5           MDS    VPD       NaN       NaN       NaN\n",
       "81    22.5           MDS     WS       NaN       NaN       NaN\n",
       "82    22.5           MDS     PA       NaN       NaN       NaN\n",
       "83    22.5           MDS      P       NaN       NaN       NaN\n",
       "\n",
       "[84 rows x 6 columns]"
      ]
     },
     "execution_count": null,
     "metadata": {},
     "output_type": "execute_result"
    }
   ],
   "source": [
    "data_results.groupby(['gap_len', 'method', 'var']).agg(\n",
    "        median = pd.NamedAgg(y.shorthand, 'median'),\n",
    "        q1 = pd.NamedAgg(y.shorthand,lambda x: x.quantile(.25)),\n",
    "        q3 = pd.NamedAgg(y.shorthand,lambda x: x.quantile(.75))).reset_index()"
   ]
  },
  {
   "cell_type": "code",
   "execution_count": null,
   "id": "5669d5e4-fc70-457b-a1a1-71ce0150473f",
   "metadata": {},
   "outputs": [],
   "source": [
    "#| export\n",
    "def custom_boxplot_nooutlier(data: pd.DataFrame,x:alt.X,y:alt.Y, color:alt.Color, xOffset:alt.XOffset):\n",
    "    data = data.groupby(['var', 'method']).agg(\n",
    "        median = pd.NamedAgg(y.shorthand, 'median'),\n",
    "        q1 = pd.NamedAgg(y.shorthand,lambda x: x.quantile(.25)),\n",
    "        q3 = pd.NamedAgg(y.shorthand,lambda x: x.quantile(.75))).reset_index().astype({'var': str})\n",
    "    y_label= 'RMSE Standaridized'\n",
    "    bar = alt.Chart(data).mark_bar(size=14).encode(alt.Y('q1', title=y_label), alt.Y2('q3', title=y_label), x, color, xOffset)\n",
    "    tick = alt.Chart(data).mark_tick(color='white', size=14).encode(alt.Y('median'), x, xOffset)\n",
    "    return bar + tick"
   ]
  },
  {
   "cell_type": "code",
   "execution_count": null,
   "id": "941b3ce4-705c-41d5-9375-87bb7ce4a383",
   "metadata": {},
   "outputs": [],
   "source": [
    "#| export\n",
    "def the_plot_stand3(data):\n",
    "    return custom_boxplot_nooutlier(data,\n",
    "                                    alt.X('var:N', title='variable',axis=alt.Axis(labelAngle=0), scale=alt.Scale(domain=meteo_scale.domain)),\n",
    "                                    alt.Y('rmse_norm'),\n",
    "                                    alt.Color('method:N', scale=method_scale),\n",
    "                                    alt.XOffset('method', )).properties(width=600)"
   ]
  },
  {
   "cell_type": "code",
   "execution_count": null,
   "id": "b0b0c69e-bfb7-4c65-bd7e-9bb08d2dea6b",
   "metadata": {},
   "outputs": [
    {
     "data": {
      "text/html": [
       "\n",
       "<div id=\"altair-viz-762ea54363ff45b392fb4d247f3de9eb\"></div>\n",
       "<script type=\"text/javascript\">\n",
       "  var VEGA_DEBUG = (typeof VEGA_DEBUG == \"undefined\") ? {} : VEGA_DEBUG;\n",
       "  (function(spec, embedOpt){\n",
       "    let outputDiv = document.currentScript.previousElementSibling;\n",
       "    if (outputDiv.id !== \"altair-viz-762ea54363ff45b392fb4d247f3de9eb\") {\n",
       "      outputDiv = document.getElementById(\"altair-viz-762ea54363ff45b392fb4d247f3de9eb\");\n",
       "    }\n",
       "    const paths = {\n",
       "      \"vega\": \"https://cdn.jsdelivr.net/npm/vega@5?noext\",\n",
       "      \"vega-lib\": \"https://cdn.jsdelivr.net/npm/vega-lib?noext\",\n",
       "      \"vega-lite\": \"https://cdn.jsdelivr.net/npm/vega-lite@5.2.0?noext\",\n",
       "      \"vega-embed\": \"https://cdn.jsdelivr.net/npm/vega-embed@6?noext\",\n",
       "    };\n",
       "\n",
       "    function maybeLoadScript(lib, version) {\n",
       "      var key = `${lib.replace(\"-\", \"\")}_version`;\n",
       "      return (VEGA_DEBUG[key] == version) ?\n",
       "        Promise.resolve(paths[lib]) :\n",
       "        new Promise(function(resolve, reject) {\n",
       "          var s = document.createElement('script');\n",
       "          document.getElementsByTagName(\"head\")[0].appendChild(s);\n",
       "          s.async = true;\n",
       "          s.onload = () => {\n",
       "            VEGA_DEBUG[key] = version;\n",
       "            return resolve(paths[lib]);\n",
       "          };\n",
       "          s.onerror = () => reject(`Error loading script: ${paths[lib]}`);\n",
       "          s.src = paths[lib];\n",
       "        });\n",
       "    }\n",
       "\n",
       "    function showError(err) {\n",
       "      outputDiv.innerHTML = `<div class=\"error\" style=\"color:red;\">${err}</div>`;\n",
       "      throw err;\n",
       "    }\n",
       "\n",
       "    function displayChart(vegaEmbed) {\n",
       "      vegaEmbed(outputDiv, spec, embedOpt)\n",
       "        .catch(err => showError(`Javascript Error: ${err.message}<br>This usually means there's a typo in your chart specification. See the javascript console for the full traceback.`));\n",
       "    }\n",
       "\n",
       "    if(typeof define === \"function\" && define.amd) {\n",
       "      requirejs.config({paths});\n",
       "      require([\"vega-embed\"], displayChart, err => showError(`Error loading script: ${err.message}`));\n",
       "    } else {\n",
       "      maybeLoadScript(\"vega\", \"5\")\n",
       "        .then(() => maybeLoadScript(\"vega-lite\", \"5.2.0\"))\n",
       "        .then(() => maybeLoadScript(\"vega-embed\", \"6\"))\n",
       "        .catch(showError)\n",
       "        .then(() => displayChart(vegaEmbed));\n",
       "    }\n",
       "  })({\"config\": {\"view\": {\"continuousWidth\": 300, \"continuousHeight\": 300}}, \"layer\": [{\"mark\": {\"type\": \"bar\", \"size\": 14}, \"encoding\": {\"color\": {\"field\": \"method\", \"scale\": {\"domain\": [\"KalmanFilter\", \"ERA\", \"MDS\"], \"scheme\": \"dark2\"}, \"type\": \"nominal\"}, \"x\": {\"axis\": {\"labelAngle\": 0}, \"field\": \"var\", \"scale\": {\"domain\": [\"TA\", \"SW_IN\", \"LW_IN\", \"VPD\", \"WS\", \"PA\", \"P\"]}, \"title\": \"variable\", \"type\": \"nominal\"}, \"xOffset\": {\"field\": \"method\", \"sort\": [\"KalmanFilter\", \"ERA\", \"MDS\"], \"type\": \"ordinal\"}, \"y\": {\"field\": \"q1\", \"title\": \"RMSE Standaridized\", \"type\": \"quantitative\"}, \"y2\": {\"field\": \"q3\", \"title\": \"RMSE Standaridized\"}}}, {\"mark\": {\"type\": \"tick\", \"color\": \"white\", \"size\": 14}, \"encoding\": {\"x\": {\"axis\": {\"labelAngle\": 0}, \"field\": \"var\", \"scale\": {\"domain\": [\"TA\", \"SW_IN\", \"LW_IN\", \"VPD\", \"WS\", \"PA\", \"P\"]}, \"title\": \"variable\", \"type\": \"nominal\"}, \"xOffset\": {\"field\": \"method\", \"sort\": [\"KalmanFilter\", \"ERA\", \"MDS\"], \"type\": \"ordinal\"}, \"y\": {\"field\": \"median\", \"type\": \"quantitative\"}}}], \"data\": {\"name\": \"data-578e268aefa2343de35959394b6ed8ab\"}, \"$schema\": \"https://vega.github.io/schema/vega-lite/v5.2.0.json\", \"datasets\": {\"data-578e268aefa2343de35959394b6ed8ab\": [{\"var\": \"TA\", \"method\": \"KalmanFilter\", \"median\": 0.05347285769423002, \"q1\": 0.03249936932923578, \"q3\": 0.09611644576391189}, {\"var\": \"TA\", \"method\": \"ERA\", \"median\": 0.15144986545542355, \"q1\": 0.09970445786329171, \"q3\": 0.20557028899777166}, {\"var\": \"TA\", \"method\": \"MDS\", \"median\": 0.32069886266314607, \"q1\": 0.25587886730932013, \"q3\": 0.45524946155366286}, {\"var\": \"SW_IN\", \"method\": \"KalmanFilter\", \"median\": 0.687893921451546, \"q1\": 0.24851194086077172, \"q3\": 0.931577339978273}, {\"var\": \"SW_IN\", \"method\": \"ERA\", \"median\": 0.17312875638135858, \"q1\": 0.047955849642756995, \"q3\": 0.3349598799024922}, {\"var\": \"SW_IN\", \"method\": \"MDS\", \"median\": 0.30987909272540015, \"q1\": 0.09714439499526736, \"q3\": 0.5349930309969616}, {\"var\": \"LW_IN\", \"method\": \"KalmanFilter\", \"median\": null, \"q1\": null, \"q3\": null}, {\"var\": \"LW_IN\", \"method\": \"ERA\", \"median\": null, \"q1\": null, \"q3\": null}, {\"var\": \"LW_IN\", \"method\": \"MDS\", \"median\": null, \"q1\": null, \"q3\": null}, {\"var\": \"VPD\", \"method\": \"KalmanFilter\", \"median\": null, \"q1\": null, \"q3\": null}, {\"var\": \"VPD\", \"method\": \"ERA\", \"median\": null, \"q1\": null, \"q3\": null}, {\"var\": \"VPD\", \"method\": \"MDS\", \"median\": null, \"q1\": null, \"q3\": null}, {\"var\": \"WS\", \"method\": \"KalmanFilter\", \"median\": null, \"q1\": null, \"q3\": null}, {\"var\": \"WS\", \"method\": \"ERA\", \"median\": null, \"q1\": null, \"q3\": null}, {\"var\": \"WS\", \"method\": \"MDS\", \"median\": null, \"q1\": null, \"q3\": null}, {\"var\": \"PA\", \"method\": \"KalmanFilter\", \"median\": null, \"q1\": null, \"q3\": null}, {\"var\": \"PA\", \"method\": \"ERA\", \"median\": null, \"q1\": null, \"q3\": null}, {\"var\": \"PA\", \"method\": \"MDS\", \"median\": null, \"q1\": null, \"q3\": null}, {\"var\": \"P\", \"method\": \"KalmanFilter\", \"median\": null, \"q1\": null, \"q3\": null}, {\"var\": \"P\", \"method\": \"ERA\", \"median\": null, \"q1\": null, \"q3\": null}, {\"var\": \"P\", \"method\": \"MDS\", \"median\": null, \"q1\": null, \"q3\": null}]}}, {\"mode\": \"vega-lite\"});\n",
       "</script>"
      ],
      "text/plain": [
       "alt.LayerChart(...)"
      ]
     },
     "execution_count": null,
     "metadata": {},
     "output_type": "execute_result"
    }
   ],
   "source": [
    "the_plot_stand3(data_results)"
   ]
  },
  {
   "cell_type": "markdown",
   "id": "6eace117-127a-48a2-b424-1332d107d679",
   "metadata": {},
   "source": [
    "violin plots don't work"
   ]
  },
  {
   "cell_type": "code",
   "execution_count": null,
   "id": "ac3b7ac3-f5c1-48b6-8b7f-903dd043be53",
   "metadata": {},
   "outputs": [],
   "source": [
    "def _the_plot_violin(data, y_label):\n",
    "        return alt.Chart(data).mark_area(orient='horizontal').encode(\n",
    "        x = alt.X('density:Q', title='gap_len [h]', axis=alt.Axis(labelAngle=0)),\n",
    "        y = alt.Y('rmse', title=y_label, scale=alt.Scale(domainMin=-.2 *data['rmse'].mean())),\n",
    "        color=alt.Color('method:N', scale=alt.Scale(domain=[\"KalmanFilter\", \"ERA\", \"MDS\"], scheme='dark2')),\n",
    "        xOffset=alt.XOffset('method', scale=alt.Scale(domain=[\"KalmanFilter\", \"ERA\", \"MDS\"])),\n",
    "        column=alt.Column('gap_len')\n",
    "    ).transform_density(\n",
    "    'rmse',\n",
    "    as_=['rmse', 'density'],\n",
    "    groupby=['method', 'gap_len']\n",
    ").properties(width=250, height=200)"
   ]
  },
  {
   "cell_type": "code",
   "execution_count": null,
   "id": "7dc1394d-5108-44a1-87a9-9771a67b7083",
   "metadata": {},
   "outputs": [],
   "source": [
    "facet_wrap(data_results, _the_plot_violin, \"var\", y_labels = [f\"RMSE {var} [{units_big[var]}]\" for var in data_results['var'].unique()])"
   ]
  },
  {
   "cell_type": "markdown",
   "id": "2402facb-566a-42f3-8cff-e83dc6e64a00",
   "metadata": {},
   "source": [
    "### Gap Length"
   ]
  },
  {
   "cell_type": "code",
   "execution_count": null,
   "id": "cf17e7e0-acc1-43b3-b5ec-1cd487a6cc1d",
   "metadata": {},
   "outputs": [],
   "source": [
    "# 18,20,25,30,40,50,60,70\n",
    "gap_len = ImpComparison(model, hai, hai_era, block_len=100).compare(gap_len = range(2,30,4), var=['TA', 'SW_IN', 'VPD'], n_rep=5, raw=True)"
   ]
  },
  {
   "cell_type": "code",
   "execution_count": null,
   "id": "096a78dc-3465-42f0-b3ba-182651c10f5e",
   "metadata": {},
   "outputs": [],
   "source": [
    "#| export\n",
    "def agg_gap_len(data):\n",
    "    return pl.from_pandas(data).groupby(['var', 'gap_len', 'method']).agg([\n",
    "        pl.col(\"rmse\").median().alias(\"median\"),\n",
    "        pl.col(\"rmse\").quantile(.25).alias(\"Q1\"),\n",
    "        pl.col(\"rmse\").quantile(.75).alias(\"Q3\"),\n",
    "        pl.col(\"rmse\").min().alias(\"min\"),\n",
    "        pl.col(\"rmse\").max().alias(\"max\"),\n",
    "    ]).to_pandas() "
   ]
  },
  {
   "cell_type": "code",
   "execution_count": null,
   "id": "65511be0-7826-4a8b-96f7-3ce94d4c1238",
   "metadata": {},
   "outputs": [],
   "source": [
    "gap_len_agg = agg_gap_len(gap_len)\n",
    "# ).with_column(\n",
    "#     (pl.col(\"Q3\") - pl.col(\"Q1\")).alias(\"IRQ\")\n",
    "# ).with_columns([\n",
    "#     (pl.col(\"Q1\") - 1.5 * pl.col(\"IRQ\")).alias(\"min\"),\n",
    "#     (pl.col(\"Q3\") + 1.5 * pl.col(\"IRQ\")).alias(\"max\"),\n",
    "# ])"
   ]
  },
  {
   "cell_type": "code",
   "execution_count": null,
   "id": "b819ce10-dcd0-4a5b-945b-5e371b4c754b",
   "metadata": {},
   "outputs": [],
   "source": [
    "#| export\n",
    "def _plot_gap_len(data, y_label):\n",
    "    median = alt.Chart(data).mark_line().encode(\n",
    "        x = alt.X('gap_len', title=\"gap_len [h]\", axis=alt.Axis(labelAngle=0)),\n",
    "        y = alt.Y('median', title=y_label),\n",
    "        color=alt.Color('var', scale=meteo_scale)\n",
    "    ).properties(height=150, width=200)\n",
    "    Qs = alt.Chart(data).mark_errorband().encode(x = 'gap_len', y = alt.Y('Q1', title=y_label), y2= 'Q3', color='var')\n",
    "    # min = alt.Chart(gap_len_agg).mark_point().encode(x = 'gap_len', y = 'min', color='var')\n",
    "    # max = alt.Chart(gap_len_agg).mark_point().encode(x = 'gap_len', y = 'max', color='var')\n",
    "\n",
    "    return (median + Qs ) #+ min + max)"
   ]
  },
  {
   "cell_type": "code",
   "execution_count": null,
   "id": "825755f7-5d7d-4883-9f40-24dd302aca47",
   "metadata": {},
   "outputs": [],
   "source": [
    "_plot_gap_len(gap_len_agg[gap_len_agg['var'] == 'TA'][gap_len_agg['method'] == 'ERA'], \"label\")"
   ]
  },
  {
   "cell_type": "code",
   "execution_count": null,
   "id": "222775f5-399f-4176-91d9-6b7f2444b107",
   "metadata": {},
   "outputs": [],
   "source": [
    "facet_wrap(gap_len_agg[gap_len_agg.method == 'KalmanFilter'], _plot_gap_len, 'var')"
   ]
  },
  {
   "cell_type": "code",
   "execution_count": null,
   "id": "607ee7d3-8aeb-45d9-baeb-516c4463a739",
   "metadata": {},
   "outputs": [],
   "source": [
    "#| export\n",
    "def plot_gap_len(data):\n",
    "    data = prep_df(agg_gap_len(data))\n",
    "    data = data[data.method == 'KalmanFilter']\n",
    "    data = data.astype({'gap_len' : float})\n",
    "    return facet_wrap(data, _plot_gap_len, 'var', y_labels = [f\"RMSE {var} [{units_big[var]}]\" for var in data['var'].unique()])"
   ]
  },
  {
   "cell_type": "code",
   "execution_count": null,
   "id": "7710014d-ce54-4c70-8a8a-b3435c144fa4",
   "metadata": {},
   "outputs": [],
   "source": [
    "plot_gap_len(gap_len)"
   ]
  },
  {
   "cell_type": "markdown",
   "id": "bc79b2fc-6c1e-4eee-854d-051a3982e9c9",
   "metadata": {},
   "source": [
    "we actually don't care of different methods"
   ]
  },
  {
   "cell_type": "code",
   "execution_count": null,
   "id": "3095e040-82dc-4fed-a9ee-655ea863c473",
   "metadata": {},
   "outputs": [],
   "source": [
    "_plot_gap_len(gap_len_agg, y_label=\"\").facet(column='method', row='var').resolve_scale(y='independent')"
   ]
  },
  {
   "cell_type": "markdown",
   "id": "24b45a21-ac94-44f7-9bcf-a17ae6f05310",
   "metadata": {},
   "source": [
    "### Control"
   ]
  },
  {
   "cell_type": "code",
   "execution_count": null,
   "id": "44bb3102-4371-49e4-b95b-26d1197e5d21",
   "metadata": {},
   "outputs": [],
   "source": [
    "#| export\n",
    "from functools import partial\n",
    "def _plot_compare(data, y_label='rmse', compare:str=\"\", y = \"rmse\"):\n",
    "    domain = [True, False] if data[compare].dtype ==bool else data[compare].unique()\n",
    "    return alt.Chart(data).mark_boxplot().encode(\n",
    "        x = alt.X('gap_len:N', title='gap_len [h]', axis=alt.Axis(labelAngle=0)),\n",
    "        y = alt.Y(y, title=y_label, scale= alt.Scale(zero=False)),\n",
    "        color=alt.Color(compare, scale=alt.Scale(domain = domain, scheme='accent')),\n",
    "        xOffset=alt.XOffset(compare, scale=alt.Scale(domain = domain)),\n",
    "        # column=alt.Column('var')\n",
    "    ).properties(width=250, height=200)"
   ]
  },
  {
   "cell_type": "code",
   "execution_count": null,
   "id": "0e407fed-a2f2-49c4-ad4d-6379c8860ba7",
   "metadata": {},
   "outputs": [],
   "source": [
    "#| export\n",
    "def plot_control(data):\n",
    "     return facet_wrap(data, partial(_plot_compare, compare='use_control'), \"var\", y_labels = [f\"RMSE {var} [{units_big[var]}]\" for var in data['var'].unique()])"
   ]
  },
  {
   "cell_type": "code",
   "execution_count": null,
   "id": "318c8ade-732d-4735-92a5-7760ee0c4f49",
   "metadata": {},
   "outputs": [],
   "source": [
    "plot_control(k_results)"
   ]
  },
  {
   "cell_type": "code",
   "execution_count": null,
   "id": "ad323fd5-843e-4a98-adb1-fc85d86409bb",
   "metadata": {},
   "outputs": [],
   "source": [
    "#| export\n",
    "def plot_control_loss(data):\n",
    "     return facet_wrap(data, partial(_plot_compare, compare='use_control', y='loss'), \"var\", y_labels = [f\"nll\" for var in data['var'].unique()])"
   ]
  },
  {
   "cell_type": "code",
   "execution_count": null,
   "id": "eee78266-1be8-4704-9488-790909f68f94",
   "metadata": {},
   "outputs": [],
   "source": [
    "plot_control_loss(k_results)"
   ]
  },
  {
   "cell_type": "code",
   "execution_count": null,
   "id": "ca0f42d4-d185-4883-8566-ee0f48573f66",
   "metadata": {},
   "outputs": [],
   "source": [
    "#| export\n",
    "def plot_control_lh(data):\n",
    "     return facet_wrap(data, partial(_plot_compare, compare='use_control', y='likelihood'), \"var\", y_labels = [f\"likelihood\" for var in data['var'].unique()])"
   ]
  },
  {
   "cell_type": "code",
   "execution_count": null,
   "id": "1722df58-970d-40d1-b8eb-8c83010607d8",
   "metadata": {},
   "outputs": [],
   "source": [
    "plot_control_lh(k_results)"
   ]
  },
  {
   "cell_type": "markdown",
   "id": "82b9ff52-67b0-4156-b2b8-4358ae1f3b60",
   "metadata": {},
   "source": [
    "### Gap Multiple variables"
   ]
  },
  {
   "cell_type": "code",
   "execution_count": null,
   "id": "a10acac1-5606-422c-80b2-9539f929c022",
   "metadata": {},
   "outputs": [],
   "source": [
    "#| export\n",
    "def plot_other_var(data):\n",
    "     return facet_wrap(data, partial(_plot_compare, compare='gap_single_var', y='rmse'), \"var\", y_labels = [f\"rmse {var} [{units_big[var]}]\" for var in data['var'].unique()])"
   ]
  },
  {
   "cell_type": "code",
   "execution_count": null,
   "id": "a9e5ce2a-f799-426e-a967-90db51731655",
   "metadata": {},
   "outputs": [],
   "source": [
    "plot_other_var(k_results)"
   ]
  },
  {
   "cell_type": "markdown",
   "id": "4fea8fed-fdab-40e3-bea5-ebabec8f886c",
   "metadata": {},
   "source": [
    "### Single var vs Generic"
   ]
  },
  {
   "cell_type": "code",
   "execution_count": null,
   "id": "28ff2545-bb0e-4305-9547-1988077a0068",
   "metadata": {},
   "outputs": [],
   "source": [
    "models_generic = [\n",
    "    {'type': 'Generic',  'var': 'TA', 'model': l_model(\"trained_4_feb_All_gap_varying_12_v2.pickle\")},\n",
    "    {'type': 'Only one var',  'var': 'TA', 'model': l_model(\"trained_4_feb_TA_gap_12_v1.pickle\")},\n",
    "    {'type': 'Generic',  'var': 'SW_IN', 'model': l_model(\"trained_4_feb_All_gap_varying_12_v2.pickle\")},\n",
    "    {'type': 'Only one var',  'var': 'SW_IN', 'model': l_model(\"trained_4_feb_SW_IN_gap_12_v1.pickle\")},\n",
    "]\n",
    "models_generic = pd.DataFrame.from_records(models_generic)"
   ]
  },
  {
   "cell_type": "code",
   "execution_count": null,
   "id": "d216848b-d64e-4521-9437-0edac59ff832",
   "metadata": {},
   "outputs": [],
   "source": [
    "@dataclass\n",
    "class Col:\n",
    "    col_name: str"
   ]
  },
  {
   "cell_type": "code",
   "execution_count": null,
   "id": "32a51df2-42a5-46a5-b769-528fe9dbbcb4",
   "metadata": {},
   "outputs": [],
   "source": [
    "dream_models_TA = [\n",
    "    Col('type'),  Col('model'),\n",
    "    'only TA',  l_model(\"trained_4_feb_All_gap_varying_12_v2.pickle\"),\n",
    "    'generic',  l_model(\"trained_4_feb_TA_gap_12_v1.pickle\"),\n",
    "]"
   ]
  },
  {
   "cell_type": "code",
   "execution_count": null,
   "id": "73a777dd-df24-4f9e-a7fa-adbb56d2ad26",
   "metadata": {},
   "outputs": [],
   "source": [
    "# tribble ... not for now"
   ]
  },
  {
   "cell_type": "code",
   "execution_count": null,
   "id": "44509285-ab68-4fd3-97e0-02d2435c3a86",
   "metadata": {},
   "outputs": [],
   "source": [
    "comp_generic = KalmanImpComparison(models_generic, hai, hai_era, 100)"
   ]
  },
  {
   "cell_type": "code",
   "execution_count": null,
   "id": "4673529d-d644-407c-90f9-cbeefa73948d",
   "metadata": {},
   "outputs": [],
   "source": [
    "k_results_generic = comp_generic.compare(n_rep =3, gap_len = [6, 12, 24], var = ['TA', 'SW_IN'])"
   ]
  },
  {
   "cell_type": "code",
   "execution_count": null,
   "id": "992218c8-1017-446a-a8b6-968c995bd948",
   "metadata": {},
   "outputs": [],
   "source": [
    "k_results_generic"
   ]
  },
  {
   "cell_type": "code",
   "execution_count": null,
   "id": "81bf067b-b6a8-42fc-b3e9-ddce11698324",
   "metadata": {},
   "outputs": [],
   "source": [
    "#| export\n",
    "def plot_generic(data):\n",
    "     return facet_wrap(data, partial(_plot_compare, compare='type', y='rmse'), \"var\", y_labels = [f\"rmse {var} [{units_big[var]}]\" for var in data['var'].unique()])"
   ]
  },
  {
   "cell_type": "code",
   "execution_count": null,
   "id": "3065380c-551b-40b4-ac64-dff97bcbb549",
   "metadata": {},
   "outputs": [],
   "source": [
    "_plot_compare(k_results_generic, compare='type')"
   ]
  },
  {
   "cell_type": "code",
   "execution_count": null,
   "id": "82943e19-5bdd-4278-9647-da1055456766",
   "metadata": {},
   "outputs": [],
   "source": [
    "plot_generic(k_results_generic)"
   ]
  },
  {
   "cell_type": "markdown",
   "id": "6a1aeee0-bdc3-4075-9fc7-e28c01712674",
   "metadata": {},
   "source": [
    "### Short gaps vs Generic"
   ]
  },
  {
   "cell_type": "code",
   "execution_count": null,
   "id": "93c25049-ee8c-4740-b195-3931ab5e35b3",
   "metadata": {},
   "outputs": [],
   "source": [
    "models_short_gap = [\n",
    "    {'type': 'Short gap',  'var': 'TA', 'model': l_model(\"trained_4_feb_All_gap_varying_12_v2.pickle\")},\n",
    "    {'type': 'Long gap',  'var': 'TA', 'model': l_model(\"trained_4_feb_TA_gap_12_v1.pickle\")},\n",
    "]\n",
    "models_short_gap = pd.DataFrame.from_records(models_short_gap)"
   ]
  },
  {
   "cell_type": "code",
   "execution_count": null,
   "id": "203a55db-003d-47b9-bf40-455f1296c425",
   "metadata": {},
   "outputs": [],
   "source": []
  },
  {
   "cell_type": "markdown",
   "id": "e4640281-fc34-47f6-ba02-431f451f6a77",
   "metadata": {},
   "source": [
    "### Timeseries"
   ]
  },
  {
   "cell_type": "code",
   "execution_count": null,
   "id": "1b04545e-b7f7-4396-9df6-f7f98e3aead4",
   "metadata": {},
   "outputs": [],
   "source": [
    "comp_ts = ImpComparison(model = model, df = hai, control = hai_era, block_len = 100, rmse=False, time_series = True)"
   ]
  },
  {
   "cell_type": "code",
   "execution_count": null,
   "id": "f52ccef7-5d4e-45f2-8b42-df2e7a11ce5c",
   "metadata": {},
   "outputs": [],
   "source": [
    "res_ts = comp_ts.compare(gap_len = [5,10,20], var=[\"TA\", 'SW_IN'], n_rep=5) "
   ]
  },
  {
   "cell_type": "code",
   "execution_count": null,
   "id": "d0d48a46-def6-49b1-9dce-62e2590ddbd4",
   "metadata": {},
   "outputs": [],
   "source": [
    "res_ts.columns"
   ]
  },
  {
   "cell_type": "code",
   "execution_count": null,
   "id": "e0f19b09-1213-436f-a033-c97b2621ed6c",
   "metadata": {},
   "outputs": [],
   "source": [
    "test_ts = res_ts.query('method == \"KalmanFilter\" and var == \"TA\"')"
   ]
  },
  {
   "cell_type": "code",
   "execution_count": null,
   "id": "2dd08cc9-a1e0-49a8-ab64-56b1d9e1987e",
   "metadata": {},
   "outputs": [],
   "source": [
    "row_res = test_ts.iloc[0]"
   ]
  },
  {
   "cell_type": "code",
   "execution_count": null,
   "id": "7e968b35-2102-44ea-97fe-ea749269003f",
   "metadata": {},
   "outputs": [],
   "source": [
    "pred_all = row_res.pred[0]\n",
    "targ =  row_res.targ[0]\n",
    "var = row_res['var']"
   ]
  },
  {
   "cell_type": "code",
   "execution_count": null,
   "id": "4db9c6d4-306c-4f07-916e-b13b68e30885",
   "metadata": {},
   "outputs": [],
   "source": [
    "type(pred_all)"
   ]
  },
  {
   "cell_type": "code",
   "execution_count": null,
   "id": "fead6f42-f792-457b-a7f1-726a247c19f0",
   "metadata": {},
   "outputs": [],
   "source": [
    "targ.mask[var]"
   ]
  },
  {
   "cell_type": "code",
   "execution_count": null,
   "id": "c07e5b56-4608-4d19-bde9-a93a92580453",
   "metadata": {},
   "outputs": [],
   "source": [
    "list(row_res.index)"
   ]
  },
  {
   "cell_type": "code",
   "execution_count": null,
   "id": "7d00387c-80ed-45fb-9ce5-b3a9dcebec02",
   "metadata": {},
   "outputs": [],
   "source": [
    "np.argmin(row_res.targ[0].mask['TA'])"
   ]
  },
  {
   "cell_type": "code",
   "execution_count": null,
   "id": "b5d90b70-aa78-40e8-ad70-cca5f4a98a75",
   "metadata": {},
   "outputs": [],
   "source": [
    "row_res.targ[0].mask['TA'].index[47]"
   ]
  },
  {
   "cell_type": "code",
   "execution_count": null,
   "id": "7f18caf5-3812-4ab6-bf7b-32f0d1fa0423",
   "metadata": {},
   "outputs": [],
   "source": [
    "#| export\n",
    "def unnest_predictions(row_res: pd.Series, ctx_len:int=50):\n",
    "    pred = row_res.pred[0]\n",
    "    targ =  row_res.targ[0]\n",
    "    var = row_res['var']\n",
    "    if isinstance(pred, NormalsDf):\n",
    "        mean = pred.mean[var]\n",
    "        std = pred.std[var]\n",
    "    else:\n",
    "        mean = pred[var]\n",
    "        std = np.nan\n",
    "    \n",
    "    \n",
    "    measurement = targ.data[var]\n",
    "    is_present = targ.mask[var]\n",
    "    \n",
    "    gap_len = (~is_present).sum()\n",
    "    gap_start = np.argmin(is_present)\n",
    "    ctx_start = is_present.index[gap_start - (ctx_len - gap_len) //2]\n",
    "    ctx_end = is_present.index[gap_start + gap_len + (ctx_len - gap_len) //2]\n",
    "    \n",
    "    is_present = is_present[ctx_start:ctx_end]\n",
    "    measurement = measurement[ctx_start:ctx_end]\n",
    "    mean = mean[ctx_start:ctx_end]\n",
    "    if type(std) != float: std = std[ctx_start:ctx_end] \n",
    "    \n",
    "    mean[is_present] = np.nan # plot only predictions in gap\n",
    "    \n",
    "    other_cols = {name: row_res[name] for name in list(row_res.index) if name not in ['pred', 'targ']}\n",
    "    \n",
    "    out =  pd.DataFrame({'mean': mean, 'std': std, 'measurement': measurement, 'is_present': is_present} | other_cols)\n",
    "    return out.reset_index()\n",
    "    "
   ]
  },
  {
   "cell_type": "code",
   "execution_count": null,
   "id": "bea3c3ae-d84b-42bd-9bb1-34274545468d",
   "metadata": {},
   "outputs": [],
   "source": [
    "unnest_predictions(row_res)"
   ]
  },
  {
   "cell_type": "code",
   "execution_count": null,
   "id": "dd54d034-79b7-4aea-895e-5e688e0b41d9",
   "metadata": {},
   "outputs": [],
   "source": [
    "res_ts_plot = pd.concat([unnest_predictions(row) for _,row in res_ts.iterrows()])"
   ]
  },
  {
   "cell_type": "code",
   "execution_count": null,
   "id": "3224a5b8-f24e-4ada-842a-5c53757aacb4",
   "metadata": {},
   "outputs": [],
   "source": [
    "#| export\n",
    "from meteo_imp.kalman.fastai import def_selection, plot_points, plot_line, plot_error"
   ]
  },
  {
   "cell_type": "code",
   "execution_count": null,
   "id": "162c408a-902c-4eb4-bf00-9f100f380aca",
   "metadata": {},
   "outputs": [],
   "source": [
    "plot_points(res_ts_plot.query('var == \"TA\" and method == \"KalmanFilter\" and idx_rep == 0 and gap_len==2.5'), y= \"measurement\")"
   ]
  },
  {
   "cell_type": "code",
   "execution_count": null,
   "id": "7e91a874-7e53-4cb2-9714-276ea5f52fa8",
   "metadata": {},
   "outputs": [],
   "source": [
    "plot_missing_area(res_ts_plot.query('var == \"TA\" and method == \"KalmanFilter\" and idx_rep == 0 and gap_len==2.5'))"
   ]
  },
  {
   "cell_type": "code",
   "execution_count": null,
   "id": "8ce2a857-7c60-4f5a-abe5-4dbe6ce3e7f5",
   "metadata": {},
   "outputs": [],
   "source": [
    "plot_line(res_ts_plot.query('var == \"TA\" and idx_rep == 0 and gap_len==2.5'), y= \"mean\", color='method', scale=alt.Scale())"
   ]
  },
  {
   "cell_type": "code",
   "execution_count": null,
   "id": "a02c7b88-c0a2-452c-9ad4-912fd0cdb09c",
   "metadata": {},
   "outputs": [],
   "source": [
    "plot_error(res_ts_plot.query('var == \"TA\" and idx_rep == 0 and gap_len==2.5').copy(), y= \"mean\", color='method', scale=alt.Scale())"
   ]
  },
  {
   "cell_type": "code",
   "execution_count": null,
   "id": "58d68e1b-88cd-4392-b478-f2919931c2a5",
   "metadata": {},
   "outputs": [],
   "source": [
    "#| export\n",
    "def _plot_timeseries(data_plot, y_label=\"\"):\n",
    "    \"\"\"data for one variable and one gap\"\"\"\n",
    "    data_measure = data_plot[data_plot.method == data_plot.method.unique()[0]]\n",
    "    points = plot_points(data_measure, y= \"measurement\", y_label=y_label)\n",
    "    miss_area = plot_missing_area(data_measure)\n",
    "    err_band = plot_error(data_plot, y= \"mean\", color='method', scale=method_scale, y_label=y_label)\n",
    "    line = plot_line(data_plot, y= \"mean\", color='method', scale=method_scale, y_label=y_label, props={'height': 200, 'width': 300})\n",
    "    return (points + miss_area  + err_band + line)"
   ]
  },
  {
   "cell_type": "code",
   "execution_count": null,
   "id": "133bf247-f3f4-4e89-9869-dac2e5aade74",
   "metadata": {},
   "outputs": [],
   "source": [
    "_plot_timeseries(res_ts_plot.query('var == \"TA\" and idx_rep == 0 and gap_len==2.5').copy(), \"TA\")"
   ]
  },
  {
   "cell_type": "code",
   "execution_count": null,
   "id": "9ffc3940-7267-4bee-9132-233870a280ce",
   "metadata": {},
   "outputs": [],
   "source": [
    "_plot_timeseries(res_ts_plot.query('var == \"SW_IN\" and idx_rep == 0 and gap_len==10').copy(), \"SW_IN\")"
   ]
  },
  {
   "cell_type": "code",
   "execution_count": null,
   "id": "229b1517-81ae-4900-83df-d10397f561c0",
   "metadata": {},
   "outputs": [],
   "source": [
    "data_ts = pd.concat([unnest_predictions(row) for _,row in res_ts.iterrows()])"
   ]
  },
  {
   "cell_type": "code",
   "execution_count": null,
   "id": "815153bd-2588-45a0-b544-572523f8d035",
   "metadata": {},
   "outputs": [],
   "source": [
    "#| export\n",
    "def plot_timeseries(data, idx_rep:int|None=None, gap_len:int|None = None, max_idx:int =3):\n",
    "    data_plot = pd.concat([unnest_predictions(row) for _,row in data.iterrows()])\n",
    "    if idx_rep == 'random': idx_rep = int(data_plot['idx_rep'].sample())\n",
    "    if gap_len is None and idx_rep is not None:\n",
    "        data_plot = data_plot.query(f'idx_rep == {idx_rep}').copy()\n",
    "        facet_var = 'gap_len'\n",
    "    elif gap_len is not None and idx_rep is None:\n",
    "        data_plot = data_plot.query(f'gap_len == {gap_len} and idx_rep < {max_idx}').copy()\n",
    "        facet_var = 'idx_rep'\n",
    "    else:\n",
    "        raise ValueError(f\"One and only one of idx_rep, gap_len should be None. got {idx_rep}, {gap_len}\")\n",
    "    data_plot = data_plot.astype({'idx_rep': str, 'gap_len': str})\n",
    "    data_plot = data_plot.assign(gap_len = data_plot.gap_len.map(lambda x: f\"gap {x} h\"))\n",
    "    y_labels = [[f\"rmse {var} [{units_big[var]}]\" for _ in data_plot[facet_var].unique()] for var in data_plot['var'].unique()]\n",
    "    return facet_grid(data_plot, _plot_timeseries, row=\"var\", col=facet_var, y_labels=y_labels)\n",
    "        \n",
    "    "
   ]
  },
  {
   "cell_type": "code",
   "execution_count": null,
   "id": "80b11069-0f7a-40ac-b726-004246857608",
   "metadata": {},
   "outputs": [],
   "source": [
    "plot_timeseries(res_ts, idx_rep='random')"
   ]
  },
  {
   "cell_type": "markdown",
   "id": "a63be8af-4fdb-4f8e-94a7-edf4985a0e32",
   "metadata": {},
   "source": [
    "### Scatter plot"
   ]
  },
  {
   "cell_type": "code",
   "execution_count": null,
   "id": "e7f9912e-eee1-40a6-9eb3-4b010a5278c5",
   "metadata": {},
   "outputs": [],
   "source": [
    "#| export\n",
    "def _plot_scatter(df, only_present=True, x = \"value\", y=\"mean\", x_label=\"\", y_label = \"\", color = 'method', scale=method_scale, props = {}):\n",
    "    # df = df[df.is_present] if only_present else df\n",
    "    # TODO remove onle_present\n",
    "    return alt.Chart(df).mark_point().encode(\n",
    "        x = alt.X(x, title=x_label),    \n",
    "        y = alt.Y(y, title = y_label),\n",
    "        color=alt.Color(color, scale= scale),\n",
    "        shape = color\n",
    "    ).properties(\n",
    "        **props\n",
    "    )\n",
    "\n",
    "    "
   ]
  },
  {
   "cell_type": "code",
   "execution_count": null,
   "id": "15171d9e-d88a-4072-9693-1dc03eb06d72",
   "metadata": {},
   "outputs": [],
   "source": [
    "data_ts.query('var == \"TA\" and gap_len==2.5').copy()"
   ]
  },
  {
   "cell_type": "code",
   "execution_count": null,
   "id": "3f80c578-fa4b-415b-8651-1a4b0fc9d801",
   "metadata": {},
   "outputs": [],
   "source": [
    "_plot_scatter(data_ts.query('var == \"TA\" and gap_len==10 and idx_rep ==0').copy(), x=\"measurement\", y= \"mean\", color='method', scale=alt.Scale())"
   ]
  },
  {
   "cell_type": "markdown",
   "id": "a69c4261-536d-4590-ac51-46dbe4dac96e",
   "metadata": {},
   "source": [
    "## Table"
   ]
  },
  {
   "cell_type": "markdown",
   "id": "2aa0273c-55a5-4645-abbc-d9f3e26104f6",
   "metadata": {},
   "source": [
    "### The Table"
   ]
  },
  {
   "cell_type": "markdown",
   "id": "0d78adfa-6352-428c-8cb5-b27d9ecb8fbe",
   "metadata": {},
   "source": [
    "A table where in the rows there is "
   ]
  },
  {
   "cell_type": "code",
   "execution_count": null,
   "id": "ad57b609-26e2-4625-98f0-c2ce7ae4639f",
   "metadata": {},
   "outputs": [],
   "source": [
    "t = data_results.groupby(['method', 'var', 'gap_len']).agg({'rmse': ['mean', 'std']}).unstack(level=0)\n",
    "\n",
    "t_idx = t.columns.droplevel()\n",
    "t_idx.names = ['RMSE', None]\n",
    "\n",
    "t2 = t.copy()\n",
    "t2.columns = t_idx\n",
    "\n",
    "t2 = t2.sort_index(axis=1, level=1).swaplevel(axis=1)\n",
    "t2"
   ]
  },
  {
   "cell_type": "code",
   "execution_count": null,
   "id": "f9a07996-0c5e-462d-96ea-a3cca5e232cd",
   "metadata": {},
   "outputs": [],
   "source": [
    "row = t2.iloc[0]"
   ]
  },
  {
   "cell_type": "code",
   "execution_count": null,
   "id": "bb7a333b-a634-495d-b34f-8b823ee42fff",
   "metadata": {},
   "outputs": [],
   "source": [
    "row"
   ]
  },
  {
   "cell_type": "code",
   "execution_count": null,
   "id": "3b6a55ac-b4c6-4168-ae7a-bf14555db707",
   "metadata": {},
   "outputs": [],
   "source": [
    "np.argmin(row.iloc[[0,2,4]]) * 2"
   ]
  },
  {
   "cell_type": "code",
   "execution_count": null,
   "id": "7fcdfeec-1b5d-4fd6-942d-46716c5ec644",
   "metadata": {},
   "outputs": [],
   "source": [
    "#| export\n",
    "def highlight_min_method(row, props): \n",
    "    return np.where(row == np.min(row.iloc[[0,2,4]]), props, '')\n",
    "\n",
    "def style_the_table(style): return style.apply(highlight_min_method, props=\"font-weight: bold\", axis=1).format_index(precision=0).format(precision=3)"
   ]
  },
  {
   "cell_type": "code",
   "execution_count": null,
   "id": "e11ac40e-c68d-44fa-8225-df9dabd81f36",
   "metadata": {},
   "outputs": [],
   "source": [
    "#| export\n",
    "renames_table_latex = {name: f\"\\parbox{{2.1cm}}{{{val}}}\" for name, val in \n",
    "                 {'SW_IN': \"Shortwave radiation incoming \\\\textbf{SW IN} [$W/m^2$]\",\n",
    "               'LW_IN': 'Longwave radiation incoming \\\\textbf{LW IN} [$W/m^2$]',\n",
    "               'TA': \"Air Temperature \\\\textbf{TA} [$°C$]\",\n",
    "               'VPD': \"Vapuour Pressure Deficit \\\\textbf{VPD} [$hPa$]\",\n",
    "               'PA': \"Air Pressure \\\\textbf{PA} [$hPa$]\",\n",
    "               'P': \"Precipitation \\\\textbf{P} [$mm$]\",\n",
    "               'WS': \"Wind Speed \\\\textbf{WS} [$m/s$]\",\n",
    "          }.items()}"
   ]
  },
  {
   "cell_type": "code",
   "execution_count": null,
   "id": "86277b37-b171-454a-91fb-696522bb3f88",
   "metadata": {},
   "outputs": [],
   "source": [
    "#| export\n",
    "renames_table_latex = {name: f\"\\parbox{{2.1cm}}{{{val}}}\" for name, val in \n",
    "                 {'SW_IN': \"\\\\textbf{SW IN} [$W/m^2$]\",\n",
    "               'LW_IN': '\\\\textbf{LW IN} [$W/m^2$]',\n",
    "               'TA': \"\\\\textbf{TA} [$°C$]\",\n",
    "               'VPD': \"\\\\textbf{VPD} [$hPa$]\",\n",
    "               'PA': \"\\\\textbf{PA} [$hPa$]\",\n",
    "               'P': \"\\\\textbf{P} [$mm$]\",\n",
    "               'WS': \"\\\\textbf{WS} [$m/s$]\",\n",
    "          }.items()}"
   ]
  },
  {
   "cell_type": "code",
   "execution_count": null,
   "id": "e6567959-69e1-4132-9a55-8e42fa41d305",
   "metadata": {},
   "outputs": [],
   "source": [
    "t2.style.pipe(style_table)"
   ]
  },
  {
   "cell_type": "code",
   "execution_count": null,
   "id": "ac03c7df-cce8-400f-a320-0e4c91af979f",
   "metadata": {},
   "outputs": [],
   "source": [
    "t3 = t2.rename(index = renames_table).style.apply(highlight_min_method, props=\"font-weight: bold\", axis=1).format_index(precision=0).format(precision=3)"
   ]
  },
  {
   "cell_type": "code",
   "execution_count": null,
   "id": "3d82f769-f90e-497b-8f11-59ea99e1156f",
   "metadata": {},
   "outputs": [],
   "source": [
    "t3"
   ]
  },
  {
   "cell_type": "code",
   "execution_count": null,
   "id": "888e2403-7375-4475-a7c6-1abac27e0383",
   "metadata": {},
   "outputs": [],
   "source": [
    "print(t3.to_latex(convert_css=True, hrules=True, clines=\"skip-last;data\", column_format=\"p{2.1cm}c|rr|rr|rr\", caption=\"caption\", label=\"table\"))"
   ]
  },
  {
   "cell_type": "code",
   "execution_count": null,
   "id": "27261018-affb-45e3-84f3-08292d14ce68",
   "metadata": {},
   "outputs": [],
   "source": [
    "#| export\n",
    "def the_table(data, y='rmse', y_name=\"RMSE\"):\n",
    "    data = data.groupby(['method', 'var', 'gap_len']).agg({y: ['mean', 'std']}).unstack(level=0)\n",
    "\n",
    "    data_cols = data.columns.droplevel()\n",
    "    data_cols.names = [y_name, None]\n",
    "    data.columns = data_cols\n",
    "    data.index.names = [\"Variable\", \"Gap [$h$]\"]\n",
    "    return data.sort_index(axis=1, level=1).swaplevel(axis=1)   "
   ]
  },
  {
   "cell_type": "code",
   "execution_count": null,
   "id": "34a99931-a96e-4f2b-8dd5-b52e0be0bd72",
   "metadata": {},
   "outputs": [],
   "source": [
    "the_table(data_results)"
   ]
  },
  {
   "cell_type": "code",
   "execution_count": null,
   "id": "bdce6ce8-1241-4a07-8073-ee34c9dfc8a7",
   "metadata": {},
   "outputs": [],
   "source": [
    "#| export\n",
    "def the_table_latex(table, file, caption=\"\", label=\"\"):\n",
    "    styled = table.rename(index = renames_table_latex).style.pipe(style_the_table)\n",
    "    latex = styled.to_latex(convert_css=True, hrules=True, clines=\"skip-last;data\", column_format=\"p{2.1cm}c|rr|rr|rr\", caption=caption, label=label)\n",
    "    with open(file, 'w') as f:\n",
    "        f.write(latex)\n",
    "    return file"
   ]
  },
  {
   "cell_type": "code",
   "execution_count": null,
   "id": "764de351-9c8d-488c-8b11-f7ea62b98ca2",
   "metadata": {},
   "outputs": [],
   "source": [
    "the_table_latex(the_table(data_results), \"test_table.tex\")"
   ]
  },
  {
   "cell_type": "code",
   "execution_count": null,
   "id": "00612633-cb2a-4c36-9c36-66a5779f1d4d",
   "metadata": {},
   "outputs": [],
   "source": [
    "#| export\n",
    "def table_compare(data, compare:str):\n",
    "    data = data.groupby([compare, 'var', 'gap_len']).agg({'rmse': ['mean', 'std']}).unstack(level=0)\n",
    "\n",
    "    data_cols = data.columns.droplevel()\n",
    "    data_cols.names = ['RMSE', compare]\n",
    "    data.columns = data_cols\n",
    "    data.index.names = [\"Variable\", \"Gap [$h$]\"]\n",
    "    return data.sort_index(axis=1, level=1).swaplevel(axis=1)   "
   ]
  },
  {
   "cell_type": "code",
   "execution_count": null,
   "id": "d52ce3be-e76e-4b4b-8d00-c3c293db523d",
   "metadata": {},
   "outputs": [],
   "source": [
    "#| export\n",
    "def table_compare_latex(table, file, caption=\"\", label=\"\"):\n",
    "    styled = table.rename(index = renames_table_latex).style.pipe(style_the_table)\n",
    "    latex = styled.to_latex(convert_css=True, hrules=True, clines=\"skip-last;data\", column_format=\"p{2.1cm}c|rr|rr\", caption=caption, label=label)\n",
    "    with open(file, 'w') as f:\n",
    "        f.write(latex)\n",
    "    return file"
   ]
  }
 ],
 "metadata": {
  "kernelspec": {
   "display_name": "data_science",
   "language": "python",
   "name": "data_science"
  }
 },
 "nbformat": 4,
 "nbformat_minor": 5
}
