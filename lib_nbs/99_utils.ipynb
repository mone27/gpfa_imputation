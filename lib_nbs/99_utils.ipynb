{
 "cells": [
  {
   "cell_type": "code",
   "execution_count": null,
   "id": "6d3771de-c994-4c9a-83b8-aa784cbb4e57",
   "metadata": {},
   "outputs": [],
   "source": [
    "#| hide\n",
    "#| default_exp utils"
   ]
  },
  {
   "cell_type": "markdown",
   "id": "3004b16d-474c-4a92-b8f3-748bc34e0c77",
   "metadata": {},
   "source": [
    "# Utils"
   ]
  },
  {
   "cell_type": "markdown",
   "id": "e53dc532-4a11-4ccf-abd7-c73133f3c5fa",
   "metadata": {},
   "source": [
    "## Disk Cache"
   ]
  },
  {
   "cell_type": "code",
   "execution_count": null,
   "id": "20ca689d-fc65-408b-9284-7bb3b6ac6fd8",
   "metadata": {},
   "outputs": [],
   "source": [
    "#| export\n",
    "# dill is an improved version of pickle, using it to support namedtuples\n",
    "import dill\n",
    "from pathlib import Path\n",
    "import inspect\n",
    "import hashlib\n",
    "from pyprojroot import here"
   ]
  },
  {
   "cell_type": "code",
   "execution_count": null,
   "id": "f8de9aae-c64f-4627-ab67-b619f6271e5b",
   "metadata": {},
   "outputs": [
    {
     "data": {
      "text/plain": [
       "\"def a():\\n    # comment\\n    return 'a'\\n\""
      ]
     },
     "execution_count": null,
     "metadata": {},
     "output_type": "execute_result"
    }
   ],
   "source": [
    "#| hide\n",
    "def a():\n",
    "    # comment\n",
    "    return 'a'\n",
    "inspect.getsource(a)"
   ]
  },
  {
   "cell_type": "code",
   "execution_count": null,
   "id": "fb5ed769-13a0-4eaf-b36a-cbb43302ffa6",
   "metadata": {},
   "outputs": [],
   "source": [
    "#| export\n",
    "cache_dir = here(\".cache\")"
   ]
  },
  {
   "cell_type": "code",
   "execution_count": null,
   "id": "427b4774-5e73-422d-be6b-acc5d704b2e8",
   "metadata": {},
   "outputs": [],
   "source": [
    "#| export\n",
    "# inspired from https://gist.github.com/shantanuo/c6a376309d6bac6bd55bf77e3961b5fb\n",
    "def cache_disk(base_file, rm_cache=False):\n",
    "    \"Decorator to cache function output to disk\"\n",
    "    base_file = Path(base_file)\n",
    "    def decorator(original_func):\n",
    "        \n",
    "        f_hash = hashlib.md5(inspect.getsource(original_func).encode()).hexdigest()\n",
    "        filename = base_file.parent / (base_file.stem + f_hash + \".pickle\")\n",
    "        \n",
    "        if rm_cache: filename.unlink()\n",
    "        \n",
    "        try:\n",
    "            cache = dill.load(open(filename, 'rb'))\n",
    "        except (IOError, ValueError):\n",
    "            cache = {}\n",
    "\n",
    "        def save_data():\n",
    "            dill.dump(cache, open(filename, \"wb\"))  \n",
    "\n",
    "        def new_func(*args):\n",
    "            if tuple(args) not in cache:\n",
    "                cache[tuple(args)] = original_func(*args)\n",
    "                save_data()\n",
    "            return cache[args]\n",
    "\n",
    "        return new_func\n",
    "\n",
    "    return decorator"
   ]
  },
  {
   "cell_type": "code",
   "execution_count": null,
   "id": "8f652b8a-226d-44a0-81f2-223d7718ece0",
   "metadata": {},
   "outputs": [],
   "source": [
    "import time\n",
    "from tempfile import tempdir"
   ]
  },
  {
   "cell_type": "code",
   "execution_count": null,
   "id": "4750f384",
   "metadata": {},
   "outputs": [],
   "source": [
    "cp = Path(tempdir) / \"test_cache\""
   ]
  },
  {
   "cell_type": "code",
   "execution_count": null,
   "id": "e7bdb2bd-7716-484a-a93d-3e59ec308d5d",
   "metadata": {},
   "outputs": [],
   "source": [
    "@cache_disk(cp)\n",
    "def slow_add(a,b):\n",
    "    time.sleep(1)\n",
    "    return a + b "
   ]
  },
  {
   "cell_type": "markdown",
   "id": "bb6a0a98-a619-4c7e-a3ff-e7ea765c5ee4",
   "metadata": {},
   "source": [
    "this time is the first time so not from the cache"
   ]
  },
  {
   "cell_type": "code",
   "execution_count": null,
   "id": "aeb6d0a6-5105-465c-85bf-18ce2d326818",
   "metadata": {},
   "outputs": [
    {
     "name": "stdout",
     "output_type": "stream",
     "text": [
      "CPU times: user 3 µs, sys: 1 µs, total: 4 µs\n",
      "Wall time: 5.48 µs\n"
     ]
    },
    {
     "data": {
      "text/plain": [
       "3"
      ]
     },
     "execution_count": null,
     "metadata": {},
     "output_type": "execute_result"
    }
   ],
   "source": [
    "%time slow_add(1,2)"
   ]
  },
  {
   "cell_type": "markdown",
   "id": "c4119f4a-b10a-4dcb-b319-846138ac5983",
   "metadata": {},
   "source": [
    "now is much faster beacuse of the cache"
   ]
  },
  {
   "cell_type": "code",
   "execution_count": null,
   "id": "6ac6fd2c-fe90-49c5-8c3a-ec5606c60073",
   "metadata": {},
   "outputs": [
    {
     "name": "stdout",
     "output_type": "stream",
     "text": [
      "CPU times: user 3 µs, sys: 0 ns, total: 3 µs\n",
      "Wall time: 5.01 µs\n"
     ]
    },
    {
     "data": {
      "text/plain": [
       "3"
      ]
     },
     "execution_count": null,
     "metadata": {},
     "output_type": "execute_result"
    }
   ],
   "source": [
    "%time slow_add(1,2)"
   ]
  },
  {
   "cell_type": "markdown",
   "id": "55418c6b-aabb-4b3b-bfe0-3222ae79cb30",
   "metadata": {},
   "source": [
    "adding comments change the hash, so the function is still cached"
   ]
  },
  {
   "cell_type": "code",
   "execution_count": null,
   "id": "cda81b4e-4c66-43d2-abf4-3444ee21a572",
   "metadata": {},
   "outputs": [],
   "source": [
    "@cache_disk(cp)\n",
    "def slow_add(a,b):\n",
    "    time.sleep(1)\n",
    "    # this is a comment\n",
    "    return a + b "
   ]
  },
  {
   "cell_type": "code",
   "execution_count": null,
   "id": "9b3cbe0f-6056-4a38-b9bc-5fc77487d80e",
   "metadata": {},
   "outputs": [
    {
     "name": "stdout",
     "output_type": "stream",
     "text": [
      "CPU times: user 3 µs, sys: 0 ns, total: 3 µs\n",
      "Wall time: 4.77 µs\n"
     ]
    },
    {
     "data": {
      "text/plain": [
       "3"
      ]
     },
     "execution_count": null,
     "metadata": {},
     "output_type": "execute_result"
    }
   ],
   "source": [
    "%time slow_add(1,2)"
   ]
  },
  {
   "cell_type": "code",
   "execution_count": null,
   "id": "b38de960-6b9a-48f5-83a6-3951b025ea70",
   "metadata": {},
   "outputs": [
    {
     "name": "stdout",
     "output_type": "stream",
     "text": [
      "CPU times: user 5 µs, sys: 1 µs, total: 6 µs\n",
      "Wall time: 7.39 µs\n"
     ]
    },
    {
     "data": {
      "text/plain": [
       "3"
      ]
     },
     "execution_count": null,
     "metadata": {},
     "output_type": "execute_result"
    }
   ],
   "source": [
    "%time slow_add(1,2)"
   ]
  },
  {
   "cell_type": "code",
   "execution_count": null,
   "id": "2298bd66",
   "metadata": {},
   "outputs": [],
   "source": [
    "#| export\n",
    "import torch\n",
    "import numpy as np"
   ]
  },
  {
   "cell_type": "code",
   "execution_count": null,
   "id": "e72f3014",
   "metadata": {},
   "outputs": [],
   "source": [
    "#| export\n",
    "def reset_seed(seed=27):\n",
    "    torch.manual_seed(seed)\n",
    "    np.random.seed(seed)"
   ]
  },
  {
   "cell_type": "code",
   "execution_count": null,
   "id": "9a3dbe5d-f9af-407e-a78e-62347f4c81f8",
   "metadata": {},
   "outputs": [],
   "source": [
    "#| export\n",
    "def reset_seed(seed=27):\n",
    "    torch.manual_seed(seed)\n",
    "    np.random.seed(seed)"
   ]
  },
  {
   "cell_type": "markdown",
   "id": "c35c60c4-3542-4e47-a4de-0ad1358f3852",
   "metadata": {},
   "source": [
    "## Testing"
   ]
  },
  {
   "cell_type": "code",
   "execution_count": null,
   "id": "26dfc0c9-7bf1-48fd-9c87-7508af0398a5",
   "metadata": {},
   "outputs": [],
   "source": [
    "#| export\n",
    "from typing import Generator, Iterable\n",
    "from functools import partial\n",
    "from fastcore.test import test\n",
    "from fastcore.basics import patch"
   ]
  },
  {
   "cell_type": "code",
   "execution_count": null,
   "id": "8a641c57-5bd3-437a-8200-2c467db04c1a",
   "metadata": {},
   "outputs": [],
   "source": [
    "#| exporti\n",
    "def is_close(a,b,eps=1e-5):\n",
    "    \"Is `a` within `eps` of `b`\"\n",
    "    if hasattr(a, '__array__') or hasattr(b,'__array__'):\n",
    "        a = torch.as_tensor(a)\n",
    "        b = torch.as_tensor(b)\n",
    "        return (abs(a-b)<eps).all()\n",
    "    if isinstance(a, (Iterable,Generator)) or isinstance(b, (Iterable,Generator)):\n",
    "        return all(is_close(a_, b_, eps) for a_,b_ in zip(a,b))\n",
    "    return abs(a-b)<eps"
   ]
  },
  {
   "cell_type": "code",
   "execution_count": null,
   "id": "4a6ccfc4-20dc-4b53-a568-e635bf1373bb",
   "metadata": {},
   "outputs": [],
   "source": [
    "#| export\n",
    "def test_close(a,b,eps=1e-5):\n",
    "    \"`test` that `a` is within `eps` of `b`\"\n",
    "    test(a,b,partial(is_close,eps=eps),'close')"
   ]
  },
  {
   "cell_type": "markdown",
   "id": "f5f4fb42-2c6d-479a-a1e6-6a63b7fb6610",
   "metadata": {},
   "source": [
    "## Standard Scaler"
   ]
  },
  {
   "cell_type": "markdown",
   "id": "d006b7d2-b5a4-4f79-b9a6-85e1c404b8d2",
   "metadata": {},
   "source": [
    "make a standard scaler that can also inverse transfor standard deviations. see `Standardizer` for details of implementation"
   ]
  },
  {
   "cell_type": "code",
   "execution_count": null,
   "id": "785f76d5-e918-401d-9dd4-303564910e68",
   "metadata": {},
   "outputs": [],
   "source": [
    "#| export\n",
    "from collections import namedtuple\n",
    "from fastcore.basics import patch\n",
    "from sklearn.preprocessing import StandardScaler"
   ]
  },
  {
   "cell_type": "code",
   "execution_count": null,
   "id": "652816c5-dcaf-41e1-95dd-21884a6db06b",
   "metadata": {},
   "outputs": [],
   "source": [
    "reset_seed()\n",
    "xx = np.random.random((4, 10))"
   ]
  },
  {
   "cell_type": "code",
   "execution_count": null,
   "id": "a48b52ed-bcd2-4968-8df1-5c233940293c",
   "metadata": {},
   "outputs": [],
   "source": [
    "s = StandardScaler().fit(xx)"
   ]
  },
  {
   "cell_type": "code",
   "execution_count": null,
   "id": "5d406c8e-5b8e-420f-8405-2657211bd014",
   "metadata": {},
   "outputs": [
    {
     "data": {
      "text/plain": [
       "array([[ 0.07263978,  0.63279488, -0.9975139 ,  0.50899177,  0.15537652,\n",
       "         1.45555506,  1.56629646, -1.60237369,  1.51674974,  1.29584745],\n",
       "       [ 1.58579521,  0.83086419, -0.68281902,  0.51578245, -0.62395756,\n",
       "        -1.19720248, -0.43000476,  1.1539719 , -0.74724819, -0.85525414],\n",
       "       [-1.05809926, -1.69049694,  0.0895118 , -1.72684476, -1.08418417,\n",
       "         0.32617669, -1.16657374,  0.2345773 ,  0.26525847,  0.64349108],\n",
       "       [-0.60033573,  0.22683787,  1.59082112,  0.70207053,  1.55276521,\n",
       "        -0.58452927,  0.03028204,  0.21382449, -1.03476002, -1.08408439]])"
      ]
     },
     "execution_count": null,
     "metadata": {},
     "output_type": "execute_result"
    }
   ],
   "source": [
    "s.transform(xx)"
   ]
  },
  {
   "cell_type": "code",
   "execution_count": null,
   "id": "e4563ae7-7e1b-4476-a219-8c4499cec918",
   "metadata": {},
   "outputs": [
    {
     "data": {
      "text/plain": [
       "array([0.40358703, 0.6758362 , 0.77934606, 0.70748673, 0.34417949,\n",
       "       0.62067044, 0.48500116, 0.54921643, 0.34604713, 0.3660338 ])"
      ]
     },
     "execution_count": null,
     "metadata": {},
     "output_type": "execute_result"
    }
   ],
   "source": [
    "s.mean_"
   ]
  },
  {
   "cell_type": "code",
   "execution_count": null,
   "id": "ff43d619-87a6-40eb-8d5b-4ceec5d5c3d9",
   "metadata": {},
   "outputs": [
    {
     "data": {
      "text/plain": [
       "array([0.30471427, 0.21926148, 0.04405831, 0.31536161, 0.25229864,\n",
       "       0.24649441, 0.26061043, 0.21187396, 0.26093989, 0.22927816])"
      ]
     },
     "execution_count": null,
     "metadata": {},
     "output_type": "execute_result"
    }
   ],
   "source": [
    "s.scale_"
   ]
  },
  {
   "cell_type": "code",
   "execution_count": null,
   "id": "634d9319-46d9-495e-b375-23e80efa0afa",
   "metadata": {},
   "outputs": [],
   "source": [
    "#| export\n",
    "@patch\n",
    "def inverse_transform_std(self: StandardScaler, \n",
    "                         x_std # standard deviations\n",
    "                        ):\n",
    "    return x_std * self.scale_"
   ]
  },
  {
   "cell_type": "markdown",
   "id": "b6a0648b-cdc6-4e22-a5ea-d4df8810f777",
   "metadata": {},
   "source": [
    "## Info visualization"
   ]
  },
  {
   "cell_type": "code",
   "execution_count": null,
   "id": "0b1a9f8e-c877-464a-a5ad-f2aee44445c2",
   "metadata": {},
   "outputs": [],
   "source": [
    "#| export\n",
    "from torch import Tensor\n",
    "from typing import Collection\n",
    "import pandas as pd\n",
    "\n",
    "from IPython.display import HTML\n",
    "from IPython.display import display\n",
    "from typing import Iterable\n",
    "\n",
    "from fastcore.basics import *"
   ]
  },
  {
   "cell_type": "code",
   "execution_count": null,
   "id": "25a23dba-b2b5-415a-90e5-e96c60033370",
   "metadata": {},
   "outputs": [],
   "source": [
    "#| export\n",
    "def array2df(x: Tensor, # 2d tensor\n",
    "             row_names: Collection[str]|None=None, # names for the row\n",
    "             col_names: Collection[str]|None=None, # names for the columns\n",
    "             row_var: str = '' # name of the first column (the one with row names). This should describe the values of `row_name`\n",
    "            ):\n",
    "    df = pd.DataFrame(x.detach().cpu().numpy(), columns=col_names)\n",
    "    if row_names is not None: df.insert(0, row_var, row_names)\n",
    "    return df"
   ]
  },
  {
   "cell_type": "code",
   "execution_count": null,
   "id": "6aee116d-d16e-4906-882b-2d6ff8deeda2",
   "metadata": {},
   "outputs": [],
   "source": [
    "import numpy as np"
   ]
  },
  {
   "cell_type": "code",
   "execution_count": null,
   "id": "32a5c904-9875-40d3-a98e-415fa4f9cc9e",
   "metadata": {},
   "outputs": [],
   "source": [
    "a = np.random.rand(2,3,3)"
   ]
  },
  {
   "cell_type": "code",
   "execution_count": null,
   "id": "9bd57c27-13c3-4e9b-885c-5fdaa8c9d28a",
   "metadata": {},
   "outputs": [
    {
     "data": {
      "text/html": [
       "<pre> array([[[0.96646567, 0.58332229, 0.09242191],\n",
       "        [0.0136295 , 0.83693011, 0.9147879 ],\n",
       "        [0.70458626, 0.3870066 , 0.7056939 ]],\n",
       "\n",
       "       [[0.92331116, 0.28815289, 0.68401985],\n",
       "        [0.5202925 , 0.87736578, 0.92388931],\n",
       "        [0.48923016, 0.59621396, 0.26427542]]]) </pre>"
      ],
      "text/plain": [
       "<IPython.core.display.HTML object>"
      ]
     },
     "metadata": {},
     "output_type": "display_data"
    }
   ],
   "source": [
    "display(HTML(f\"<pre> {repr(a)} </pre>\"))"
   ]
  },
  {
   "cell_type": "code",
   "execution_count": null,
   "id": "052f360c-ea4a-49cf-9069-927489836d28",
   "metadata": {},
   "outputs": [
    {
     "data": {
      "text/plain": [
       "array([[[0.96646567, 0.58332229, 0.09242191],\n",
       "        [0.0136295 , 0.83693011, 0.9147879 ],\n",
       "        [0.70458626, 0.3870066 , 0.7056939 ]],\n",
       "\n",
       "       [[0.92331116, 0.28815289, 0.68401985],\n",
       "        [0.5202925 , 0.87736578, 0.92388931],\n",
       "        [0.48923016, 0.59621396, 0.26427542]]])"
      ]
     },
     "execution_count": null,
     "metadata": {},
     "output_type": "execute_result"
    }
   ],
   "source": [
    "a"
   ]
  },
  {
   "cell_type": "code",
   "execution_count": null,
   "id": "1f186a78-8cac-4e9f-8256-1a81ee082435",
   "metadata": {},
   "outputs": [],
   "source": [
    "#| export\n",
    "import inspect"
   ]
  },
  {
   "cell_type": "code",
   "execution_count": null,
   "id": "0d802aa6-719e-4788-b8bd-30744b6cfcb4",
   "metadata": {},
   "outputs": [],
   "source": [
    "#| export\n",
    "# inspired from https://stackoverflow.com/questions/18425225/ \n",
    "def maybe_retrieve_callers_name(args):\n",
    "    \"\"\"Tries to retrieve the argument name in the call frame, if there are multiple matches name is ''\"\"\"\n",
    "    names = []\n",
    "    for arg in args:\n",
    "        callers_local_vars = inspect.currentframe().f_back.f_back.f_locals.items()\n",
    "        var_names = [var_name for var_name, var_val in callers_local_vars if var_val is arg and not var_name.startswith(\"_\")]\n",
    "        names.append(var_names[0] if len(var_names)==1 else '')\n",
    "    return names\n",
    "\n",
    "def retrieve_names(*args):\n",
    "    \"\"\"Tries to retrieve the argument name in the call frame, if there are multiple matches name is ''\"\"\"\n",
    "    names = []\n",
    "    for arg in args:\n",
    "        callers_local_vars = inspect.currentframe().f_back.f_locals.items()\n",
    "        var_names = [var_name for var_name, var_val in callers_local_vars if var_val is arg]\n",
    "        names.append(var_names)\n",
    "    return names"
   ]
  },
  {
   "cell_type": "code",
   "execution_count": null,
   "id": "174f0a77-bf50-4635-9e46-47dea850f58b",
   "metadata": {},
   "outputs": [
    {
     "name": "stdout",
     "output_type": "stream",
     "text": [
      "['x', 'y']\n"
     ]
    }
   ],
   "source": [
    "x, y, z = 1, 2, 3\n",
    "\n",
    "def func(*args):\n",
    "    return maybe_retrieve_callers_name(args)\n",
    "\n",
    "print(func(x,y))"
   ]
  },
  {
   "cell_type": "code",
   "execution_count": null,
   "id": "8be2ae26-c22c-41a3-a386-050f567e5076",
   "metadata": {},
   "outputs": [
    {
     "data": {
      "text/plain": [
       "[['_', 'a', '_32'], ['_', 'a', '_32']]"
      ]
     },
     "execution_count": null,
     "metadata": {},
     "output_type": "execute_result"
    }
   ],
   "source": [
    "retrieve_names(a,a)"
   ]
  },
  {
   "cell_type": "code",
   "execution_count": null,
   "id": "1a092a90-fa30-4049-9dbc-f6895a54da14",
   "metadata": {},
   "outputs": [],
   "source": [
    "#| export\n",
    "def show_as_row(*os: Iterable, names: Iterable[str]=None, **kwargs):\n",
    "    \"\"\"Shows a interable of tensors on a row\"\"\"\n",
    "    if names is None: names = maybe_retrieve_callers_name(os)\n",
    "    kwargs.update(dict(zip(names, os)))\n",
    "    columns = [f\"<div><p style='font-size: 1.2rem;'>{title}</p> <pre>{repr(o)}</pre> </div>\" for title, o in kwargs.items()]\n",
    "    out = f\"<div style=\\\"display: flex; column-gap: 20px; flex-wrap: wrap;\\\" class='table table-striped table-sm'> {''.join(columns)}</div>\"\n",
    "    display(HTML(out))"
   ]
  },
  {
   "cell_type": "code",
   "execution_count": null,
   "id": "3dfa7b92-8b33-498b-9602-1b9b3bb40ab6",
   "metadata": {},
   "outputs": [
    {
     "data": {
      "text/html": [
       "<div style=\"display: flex; column-gap: 20px; flex-wrap: wrap;\" class='table table-striped table-sm'> <div><p style='font-size: 1.2rem;'>a</p> <pre>array([[[0.96646567, 0.58332229, 0.09242191],\n",
       "        [0.0136295 , 0.83693011, 0.9147879 ],\n",
       "        [0.70458626, 0.3870066 , 0.7056939 ]],\n",
       "\n",
       "       [[0.92331116, 0.28815289, 0.68401985],\n",
       "        [0.5202925 , 0.87736578, 0.92388931],\n",
       "        [0.48923016, 0.59621396, 0.26427542]]])</pre> </div></div>"
      ],
      "text/plain": [
       "<IPython.core.display.HTML object>"
      ]
     },
     "metadata": {},
     "output_type": "display_data"
    }
   ],
   "source": [
    "show_as_row(a,a)"
   ]
  },
  {
   "cell_type": "code",
   "execution_count": null,
   "id": "2889d3f8-0b80-436b-b15b-ee0dcd50a252",
   "metadata": {},
   "outputs": [
    {
     "data": {
      "text/plain": [
       "['a', 'a']"
      ]
     },
     "execution_count": null,
     "metadata": {},
     "output_type": "execute_result"
    }
   ],
   "source": [
    "func(a,a)"
   ]
  },
  {
   "cell_type": "code",
   "execution_count": null,
   "id": "d5dea1b9-d2b6-4f54-abf0-f659c1d9aa56",
   "metadata": {},
   "outputs": [
    {
     "data": {
      "text/html": [
       "<div style=\"display: flex; column-gap: 20px; flex-wrap: wrap;\" class='table table-striped table-sm'> <div><p style='font-size: 1.2rem;'>b</p> <pre>array([[[0.96646567, 0.58332229, 0.09242191],\n",
       "        [0.0136295 , 0.83693011, 0.9147879 ],\n",
       "        [0.70458626, 0.3870066 , 0.7056939 ]],\n",
       "\n",
       "       [[0.92331116, 0.28815289, 0.68401985],\n",
       "        [0.5202925 , 0.87736578, 0.92388931],\n",
       "        [0.48923016, 0.59621396, 0.26427542]]])</pre> </div></div>"
      ],
      "text/plain": [
       "<IPython.core.display.HTML object>"
      ]
     },
     "metadata": {},
     "output_type": "display_data"
    }
   ],
   "source": [
    "show_as_row(a, names='b')"
   ]
  },
  {
   "cell_type": "code",
   "execution_count": null,
   "id": "c97a5e2e-fe0f-4486-9d27-7a036a87d8b5",
   "metadata": {},
   "outputs": [
    {
     "data": {
      "text/html": [
       "<div style=\"display: flex; column-gap: 20px; flex-wrap: wrap;\" class='table table-striped table-sm'> <div><p style='font-size: 1.2rem;'>c</p> <pre>array([[[0.96646567, 0.58332229, 0.09242191],\n",
       "        [0.0136295 , 0.83693011, 0.9147879 ],\n",
       "        [0.70458626, 0.3870066 , 0.7056939 ]],\n",
       "\n",
       "       [[0.92331116, 0.28815289, 0.68401985],\n",
       "        [0.5202925 , 0.87736578, 0.92388931],\n",
       "        [0.48923016, 0.59621396, 0.26427542]]])</pre> </div></div>"
      ],
      "text/plain": [
       "<IPython.core.display.HTML object>"
      ]
     },
     "metadata": {},
     "output_type": "display_data"
    }
   ],
   "source": [
    "show_as_row(c=a)"
   ]
  },
  {
   "cell_type": "code",
   "execution_count": null,
   "id": "0afffc91-aae3-4c95-8ec5-0bf587562e44",
   "metadata": {},
   "outputs": [],
   "source": [
    "#| export\n",
    "def _style_df(df):\n",
    "    \"\"\"style dataframe for better printing \"\"\"\n",
    "    return df.style.hide(axis=\"index\").format(precision = 4)\n",
    "\n",
    "def row_dfs(dfs: dict[str, pd.DataFrame], title=\"\", styler=_style_df):\n",
    "    out = []\n",
    "    for df_title, df in dfs.items():\n",
    "        df_html = _style_df(df).to_html()\n",
    "        out.append(f\"<div> <p style='font-size: 1.3rem;'>{df_title}</p> {df_html} </div>\")\n",
    "    out = f\"<div style=\\\"display: flex; column-gap: 20px; flex-wrap: wrap;\\\" class='table table-striped table-sm'> {''.join(out)}</div>\"\n",
    "    return f\"<p style='font-size: 1.5rem; font-decoration: bold'>{title}<p>\" + \"\".join(out)\n",
    "def display_as_row(dfs: dict[str, pd.DataFrame], title=\"\", styler=_style_df):\n",
    "    \"\"\"display multiple dataframes in the same row\"\"\"\n",
    "    display(HTML(row_dfs(dfs, title, styler)))"
   ]
  },
  {
   "cell_type": "code",
   "execution_count": null,
   "id": "773c7ac9-8dfa-4b5d-abb0-cab154bfdb75",
   "metadata": {},
   "outputs": [],
   "source": [
    "a = HTML(pd.DataFrame([1,2]).to_html(notebook=True))"
   ]
  },
  {
   "cell_type": "code",
   "execution_count": null,
   "id": "7e79af28-30f5-4950-9287-931ff04822b1",
   "metadata": {},
   "outputs": [],
   "source": [
    "display_as_row({\"test\": pd.DataFrame([1,2])}, \"hello\")"
   ]
  },
  {
   "cell_type": "code",
   "execution_count": null,
   "id": "8933050d-b763-4f8e-9697-9357bbdd3f8d",
   "metadata": {},
   "outputs": [],
   "source": [
    "display_as_row({f\"test{i}\": pd.DataFrame([1,2]) for i in range(10)})"
   ]
  },
  {
   "cell_type": "markdown",
   "id": "39c8f5e6-96ef-41f7-8d5f-7c16e91f4101",
   "metadata": {},
   "source": [
    "## Tensor shapes"
   ]
  },
  {
   "cell_type": "code",
   "execution_count": null,
   "id": "254b846a-c853-49f4-8742-672af033e8f4",
   "metadata": {},
   "outputs": [],
   "source": [
    "#| export\n",
    "def array1d(X):\n",
    "    \"\"\"Returns at least 1-d array with data from X\"\"\"\n",
    "    return torch.atleast_1d(torch.as_tensor(X))\n",
    "\n",
    "def array2d(X):\n",
    "    \"\"\"Returns at least 2-d array with data from X\"\"\"\n",
    "    return torch.atleast_2d(torch.as_tensor(X))\n"
   ]
  },
  {
   "cell_type": "code",
   "execution_count": null,
   "id": "9d96e07e-b703-4716-b12f-e3d0c4391467",
   "metadata": {},
   "outputs": [],
   "source": [
    "#| export\n",
    "def determine_dimensionality(variables, default):\n",
    "    \"\"\"Derive the dimensionality of the state space\n",
    "\n",
    "    Parameters\n",
    "    ----------\n",
    "    variables : list of ({None, array}, conversion function, index)\n",
    "        variables, functions to convert them to arrays, and indices in those\n",
    "        arrays to derive dimensionality from.\n",
    "        \n",
    "    Returns\n",
    "    -------\n",
    "    dim : int\n",
    "        dimensionality of state space as derived from variables or default.\n",
    "    \"\"\"\n",
    "    # gather possible values based on the variables\n",
    "    candidates = []\n",
    "    for (v, converter, idx) in variables:\n",
    "        if v is not None:\n",
    "            v = converter(v)\n",
    "            candidates.append(v.shape[idx])\n",
    "    \n",
    "     # also use the manually specified default\n",
    "    if default is not None:\n",
    "        candidates.append(default)\n",
    "    \n",
    "    # ensure consistency of all derived values\n",
    "    if len(candidates) == 0:\n",
    "        return 1\n",
    "    else:\n",
    "        if not torch.all(torch.tensor(candidates) == candidates[0]):\n",
    "            raise ValueError(\n",
    "                \"The shape of all \" +\n",
    "                \"parameters is not consistent.  \" +\n",
    "                \"Please re-check their values.\"\n",
    "            )\n",
    "        return candidates[0]\n",
    "\n",
    "\n",
    "def last_dims(X: Tensor, t: int, ndims: int=2):\n",
    "    \"\"\"Extract the final dimensions of `X`\n",
    "\n",
    "    Extract the final `ndim` dimensions at index `t` if `X` has >= `ndim` + 1\n",
    "    dimensions, otherwise return `X`.\n",
    "\n",
    "    Parameters\n",
    "    ----------\n",
    "    X : Tensor with at least dimension `ndims`\n",
    "    t : int\n",
    "        index to use for the `ndims` + 1th dimension\n",
    "    ndims : int, optional\n",
    "        number of dimensions in the array desired\n",
    "\n",
    "    Returns\n",
    "    -------\n",
    "    Y : array with dimension `ndims`\n",
    "        the final `ndims` dimensions indexed by `t`\n",
    "    \"\"\"\n",
    "    if len(X.shape) == ndims + 1:\n",
    "        return X[t]\n",
    "    elif len(X.shape) == ndims:\n",
    "        return X\n",
    "    else:\n",
    "        raise ValueError((\"X only has %d dimensions when %d\" +\n",
    "                \" or more are required\") % (len(X.shape), ndims))"
   ]
  },
  {
   "cell_type": "markdown",
   "id": "627934ed-c68a-457e-8805-6b5525f78072",
   "metadata": {},
   "source": [
    "## Export"
   ]
  },
  {
   "cell_type": "code",
   "execution_count": null,
   "id": "9f176125-e730-4bb9-8057-9e1bd9e5eaf8",
   "metadata": {},
   "outputs": [],
   "source": [
    "#| hide\n",
    "from nbdev import nbdev_export\n",
    "nbdev_export()"
   ]
  }
 ],
 "metadata": {
  "kernelspec": {
   "display_name": "data_science",
   "language": "python",
   "name": "data_science"
  },
  "widgets": {
   "application/vnd.jupyter.widget-state+json": {
    "state": {},
    "version_major": 2,
    "version_minor": 0
   }
  }
 },
 "nbformat": 4,
 "nbformat_minor": 5
}
