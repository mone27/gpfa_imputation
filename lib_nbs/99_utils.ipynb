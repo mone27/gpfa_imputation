{
 "cells": [
  {
   "cell_type": "code",
   "execution_count": null,
   "id": "6d3771de-c994-4c9a-83b8-aa784cbb4e57",
   "metadata": {},
   "outputs": [],
   "source": [
    "#| hide\n",
    "#| default_exp utils"
   ]
  },
  {
   "cell_type": "markdown",
   "id": "3004b16d-474c-4a92-b8f3-748bc34e0c77",
   "metadata": {},
   "source": [
    "# Utils"
   ]
  },
  {
   "cell_type": "markdown",
   "id": "e53dc532-4a11-4ccf-abd7-c73133f3c5fa",
   "metadata": {},
   "source": [
    "## Disk Cache"
   ]
  },
  {
   "cell_type": "code",
   "execution_count": null,
   "id": "20ca689d-fc65-408b-9284-7bb3b6ac6fd8",
   "metadata": {},
   "outputs": [],
   "source": [
    "#| export\n",
    "# dill is an improved version of pickle, using it to support namedtuples\n",
    "import dill\n",
    "from pathlib import Path\n",
    "import inspect\n",
    "import hashlib"
   ]
  },
  {
   "cell_type": "code",
   "execution_count": null,
   "id": "f8de9aae-c64f-4627-ab67-b619f6271e5b",
   "metadata": {},
   "outputs": [
    {
     "data": {
      "text/plain": [
       "\"def a():\\n    # comment\\n    return 'a'\\n\""
      ]
     },
     "execution_count": null,
     "metadata": {},
     "output_type": "execute_result"
    }
   ],
   "source": [
    "#| hide\n",
    "def a():\n",
    "    # comment\n",
    "    return 'a'\n",
    "inspect.getsource(a)"
   ]
  },
  {
   "cell_type": "code",
   "execution_count": null,
   "id": "427b4774-5e73-422d-be6b-acc5d704b2e8",
   "metadata": {},
   "outputs": [],
   "source": [
    "#| export\n",
    "# inspired from https://gist.github.com/shantanuo/c6a376309d6bac6bd55bf77e3961b5fb\n",
    "def cache_disk(base_file, rm_cache=False):\n",
    "    \"Decorator to cache function output to disk\"\n",
    "    base_file = Path(base_file)\n",
    "    def decorator(original_func):\n",
    "        \n",
    "        f_hash = hashlib.md5(inspect.getsource(original_func).encode()).hexdigest()\n",
    "        filename = base_file.parent / (base_file.stem + f_hash + \".pickle\")\n",
    "        \n",
    "        if rm_cache: filename.unlink()\n",
    "        \n",
    "        try:\n",
    "            cache = dill.load(open(filename, 'rb'))\n",
    "        except (IOError, ValueError):\n",
    "            cache = {}\n",
    "\n",
    "        def save_data():\n",
    "            dill.dump(cache, open(filename, \"wb\"))  \n",
    "\n",
    "        def new_func(*args):\n",
    "            if tuple(args) not in cache:\n",
    "                cache[tuple(args)] = original_func(*args)\n",
    "                save_data()\n",
    "            return cache[args]\n",
    "\n",
    "        return new_func\n",
    "\n",
    "    return decorator"
   ]
  },
  {
   "cell_type": "code",
   "execution_count": null,
   "id": "8f652b8a-226d-44a0-81f2-223d7718ece0",
   "metadata": {},
   "outputs": [],
   "source": [
    "import time\n",
    "from tempfile import tempdir"
   ]
  },
  {
   "cell_type": "code",
   "execution_count": null,
   "id": "4750f384",
   "metadata": {},
   "outputs": [],
   "source": [
    "cp = Path(tempdir) / \"test_cache\""
   ]
  },
  {
   "cell_type": "code",
   "execution_count": null,
   "id": "e7bdb2bd-7716-484a-a93d-3e59ec308d5d",
   "metadata": {},
   "outputs": [],
   "source": [
    "@cache_disk(cp)\n",
    "def slow_add(a,b):\n",
    "    time.sleep(1)\n",
    "    return a + b "
   ]
  },
  {
   "cell_type": "markdown",
   "id": "bb6a0a98-a619-4c7e-a3ff-e7ea765c5ee4",
   "metadata": {},
   "source": [
    "this time is the first time so not from the cache"
   ]
  },
  {
   "cell_type": "code",
   "execution_count": null,
   "id": "aeb6d0a6-5105-465c-85bf-18ce2d326818",
   "metadata": {},
   "outputs": [
    {
     "name": "stdout",
     "output_type": "stream",
     "text": [
      "CPU times: user 3.58 ms, sys: 88 µs, total: 3.67 ms\n",
      "Wall time: 1 s\n"
     ]
    },
    {
     "data": {
      "text/plain": [
       "3"
      ]
     },
     "execution_count": null,
     "metadata": {},
     "output_type": "execute_result"
    }
   ],
   "source": [
    "%time slow_add(1,2)"
   ]
  },
  {
   "cell_type": "markdown",
   "id": "c4119f4a-b10a-4dcb-b319-846138ac5983",
   "metadata": {},
   "source": [
    "now is much faster beacuse of the cache"
   ]
  },
  {
   "cell_type": "code",
   "execution_count": null,
   "id": "6ac6fd2c-fe90-49c5-8c3a-ec5606c60073",
   "metadata": {},
   "outputs": [
    {
     "name": "stdout",
     "output_type": "stream",
     "text": [
      "CPU times: user 2 µs, sys: 1 µs, total: 3 µs\n",
      "Wall time: 4.05 µs\n"
     ]
    },
    {
     "data": {
      "text/plain": [
       "3"
      ]
     },
     "execution_count": null,
     "metadata": {},
     "output_type": "execute_result"
    }
   ],
   "source": [
    "%time slow_add(1,2)"
   ]
  },
  {
   "cell_type": "markdown",
   "id": "55418c6b-aabb-4b3b-bfe0-3222ae79cb30",
   "metadata": {},
   "source": [
    "adding comments change the hash, so the function is still cached"
   ]
  },
  {
   "cell_type": "code",
   "execution_count": null,
   "id": "cda81b4e-4c66-43d2-abf4-3444ee21a572",
   "metadata": {},
   "outputs": [],
   "source": [
    "@cache_disk(cp)\n",
    "def slow_add(a,b):\n",
    "    time.sleep(1)\n",
    "    # this is a comment\n",
    "    return a + b "
   ]
  },
  {
   "cell_type": "code",
   "execution_count": null,
   "id": "9b3cbe0f-6056-4a38-b9bc-5fc77487d80e",
   "metadata": {},
   "outputs": [
    {
     "name": "stdout",
     "output_type": "stream",
     "text": [
      "CPU times: user 45 µs, sys: 976 µs, total: 1.02 ms\n",
      "Wall time: 1 s\n"
     ]
    },
    {
     "data": {
      "text/plain": [
       "3"
      ]
     },
     "execution_count": null,
     "metadata": {},
     "output_type": "execute_result"
    }
   ],
   "source": [
    "%time slow_add(1,2)"
   ]
  },
  {
   "cell_type": "code",
   "execution_count": null,
   "id": "b38de960-6b9a-48f5-83a6-3951b025ea70",
   "metadata": {},
   "outputs": [
    {
     "name": "stdout",
     "output_type": "stream",
     "text": [
      "CPU times: user 2 µs, sys: 0 ns, total: 2 µs\n",
      "Wall time: 4.05 µs\n"
     ]
    },
    {
     "data": {
      "text/plain": [
       "3"
      ]
     },
     "execution_count": null,
     "metadata": {},
     "output_type": "execute_result"
    }
   ],
   "source": [
    "%time slow_add(1,2)"
   ]
  },
  {
   "cell_type": "code",
   "execution_count": null,
   "id": "2298bd66",
   "metadata": {},
   "outputs": [],
   "source": [
    "#| export\n",
    "import torch\n",
    "import numpy as np"
   ]
  },
  {
   "cell_type": "code",
   "execution_count": null,
   "id": "e72f3014",
   "metadata": {},
   "outputs": [],
   "source": [
    "#| export\n",
    "def reset_seed(seed=27):\n",
    "    torch.manual_seed(seed)\n",
    "    np.random.seed(seed)"
   ]
  },
  {
   "cell_type": "code",
   "execution_count": null,
   "id": "9a3dbe5d-f9af-407e-a78e-62347f4c81f8",
   "metadata": {},
   "outputs": [],
   "source": [
    "#| export\n",
    "def reset_seed(seed=27):\n",
    "    torch.manual_seed(seed)\n",
    "    np.random.seed(seed)"
   ]
  },
  {
   "cell_type": "markdown",
   "id": "8835c8b4-ddf2-4d1c-a342-49d92be2dadb",
   "metadata": {},
   "source": [
    "## Render Docstring\n",
    "\n",
    "renders a ReStructured text docstring in a notebook cell\n",
    "\n"
   ]
  },
  {
   "cell_type": "code",
   "execution_count": null,
   "id": "6e876a00-b0c1-49f0-828c-10869fb2bc2b",
   "metadata": {},
   "outputs": [],
   "source": [
    "#| export\n",
    "# from IPython.core.magic import register_cell_magic, register_line_magic\n",
    "from IPython.display import HTML\n",
    "import docutils.core"
   ]
  },
  {
   "cell_type": "code",
   "execution_count": null,
   "id": "c2f1c59a-39c2-4972-996a-03e5e7a1ad7d",
   "metadata": {},
   "outputs": [],
   "source": [
    "def rstdoc(obj):\n",
    "    \"Render `__doc__` as ReStructuredText\"\n",
    "    html = docutils.core.publish_parts(obj.__doc__, writer_name='html5')['fragment']\n",
    "    return HTML(html)"
   ]
  },
  {
   "cell_type": "code",
   "execution_count": null,
   "id": "9c8d7bda-e905-4422-9558-e1f23c132aad",
   "metadata": {},
   "outputs": [
    {
     "data": {
      "text/html": [
       "<blockquote>\n",
       "<p>Set up &amp; run a <cite>Publisher</cite>, and return a dictionary of document parts.\n",
       "Dictionary keys are the names of parts, and values are Unicode strings;\n",
       "encoding is up to the client.  For programmatic use with string I/O.</p>\n",
       "<p>For encoded string input, be sure to set the 'input_encoding' setting to\n",
       "the desired encoding.  Set it to 'unicode' for unencoded Unicode string\n",
       "input.  Here's how:</p>\n",
       "<pre class=\"literal-block\">publish_parts(..., settings_overrides={'input_encoding': 'unicode'})</pre>\n",
       "<p>Parameters: see <cite>publish_programmatically</cite>.</p>\n",
       "</blockquote>\n"
      ],
      "text/plain": [
       "<IPython.core.display.HTML object>"
      ]
     },
     "execution_count": null,
     "metadata": {},
     "output_type": "execute_result"
    }
   ],
   "source": [
    "rstdoc(docutils.core.publish_parts)"
   ]
  },
  {
   "cell_type": "code",
   "execution_count": null,
   "id": "9f176125-e730-4bb9-8057-9e1bd9e5eaf8",
   "metadata": {},
   "outputs": [],
   "source": [
    "#| hide\n",
    "from nbdev import nbdev_export\n",
    "nbdev_export()"
   ]
  }
 ],
 "metadata": {
  "kernelspec": {
   "display_name": "data_science",
   "language": "python",
   "name": "data_science"
  },
  "widgets": {
   "application/vnd.jupyter.widget-state+json": {
    "state": {},
    "version_major": 2,
    "version_minor": 0
   }
  }
 },
 "nbformat": 4,
 "nbformat_minor": 5
}
