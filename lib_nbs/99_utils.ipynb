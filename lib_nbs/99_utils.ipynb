{
 "cells": [
  {
   "cell_type": "code",
   "execution_count": null,
   "id": "6d3771de-c994-4c9a-83b8-aa784cbb4e57",
   "metadata": {},
   "outputs": [],
   "source": [
    "#| hide\n",
    "#| default_exp utils"
   ]
  },
  {
   "cell_type": "code",
   "execution_count": null,
   "id": "20ca689d-fc65-408b-9284-7bb3b6ac6fd8",
   "metadata": {},
   "outputs": [],
   "source": [
    "#| export\n",
    "# dill is an improved version of pickle, using it to support namedtuples\n",
    "import dill\n",
    "from pathlib import Path"
   ]
  },
  {
   "cell_type": "code",
   "execution_count": null,
   "id": "427b4774-5e73-422d-be6b-acc5d704b2e8",
   "metadata": {},
   "outputs": [],
   "source": [
    "#| export\n",
    "# inspired from https://gist.github.com/shantanuo/c6a376309d6bac6bd55bf77e3961b5fb\n",
    "def cache_disk(base_file):\n",
    "    base_file = Path(base_file)\n",
    "    def decorator(original_func):\n",
    "        \n",
    "        # take the hash of the function content\n",
    "        filename = base_file.parent / (base_file.stem + str(hash(original_func.__code__.co_code)) + \".pickle\")\n",
    "        \n",
    "        try:\n",
    "            cache = dill.load(open(filename, 'rb'))\n",
    "        except (IOError, ValueError):\n",
    "            cache = {}\n",
    "\n",
    "        def save_data():\n",
    "            dill.dump(cache, open(filename, \"wb\"))  \n",
    "\n",
    "        def new_func(*args):\n",
    "            if tuple(args) not in cache:\n",
    "                cache[tuple(args)] = original_func(*args)\n",
    "                save_data()\n",
    "            return cache[args]\n",
    "\n",
    "        return new_func\n",
    "\n",
    "    return decorator"
   ]
  },
  {
   "cell_type": "code",
   "execution_count": null,
   "id": "8f652b8a-226d-44a0-81f2-223d7718ece0",
   "metadata": {},
   "outputs": [],
   "source": [
    "import time\n",
    "from tempfile import tempdir"
   ]
  },
  {
   "cell_type": "code",
   "execution_count": null,
   "id": "e7bdb2bd-7716-484a-a93d-3e59ec308d5d",
   "metadata": {},
   "outputs": [],
   "source": [
    "@cache_disk(Path(tempdir) / \"test_cache\")\n",
    "def slow_add(a,b):\n",
    "    time.sleep(1)\n",
    "    return a + b "
   ]
  },
  {
   "cell_type": "markdown",
   "id": "bb6a0a98-a619-4c7e-a3ff-e7ea765c5ee4",
   "metadata": {},
   "source": [
    "this time is the first time so not from the cache"
   ]
  },
  {
   "cell_type": "code",
   "execution_count": null,
   "id": "aeb6d0a6-5105-465c-85bf-18ce2d326818",
   "metadata": {},
   "outputs": [
    {
     "name": "stdout",
     "output_type": "stream",
     "text": [
      "CPU times: user 0 ns, sys: 1.43 ms, total: 1.43 ms\n",
      "Wall time: 1 s\n"
     ]
    },
    {
     "data": {
      "text/plain": [
       "3"
      ]
     },
     "execution_count": null,
     "metadata": {},
     "output_type": "execute_result"
    }
   ],
   "source": [
    "%time slow_add(1,2)"
   ]
  },
  {
   "cell_type": "markdown",
   "id": "c4119f4a-b10a-4dcb-b319-846138ac5983",
   "metadata": {},
   "source": [
    "now is much faster beacuse of the cache"
   ]
  },
  {
   "cell_type": "code",
   "execution_count": null,
   "id": "6ac6fd2c-fe90-49c5-8c3a-ec5606c60073",
   "metadata": {},
   "outputs": [
    {
     "name": "stdout",
     "output_type": "stream",
     "text": [
      "CPU times: user 2 µs, sys: 1 µs, total: 3 µs\n",
      "Wall time: 5.48 µs\n"
     ]
    },
    {
     "data": {
      "text/plain": [
       "3"
      ]
     },
     "execution_count": null,
     "metadata": {},
     "output_type": "execute_result"
    }
   ],
   "source": [
    "%time slow_add(1,2)"
   ]
  },
  {
   "cell_type": "markdown",
   "id": "55418c6b-aabb-4b3b-bfe0-3222ae79cb30",
   "metadata": {},
   "source": [
    "adding comments doesn't change the hash, so the function is still cached"
   ]
  },
  {
   "cell_type": "code",
   "execution_count": null,
   "id": "cda81b4e-4c66-43d2-abf4-3444ee21a572",
   "metadata": {},
   "outputs": [],
   "source": [
    "@cache_disk(\"test_cache\")\n",
    "def slow_add(a,b):\n",
    "    time.sleep(1)\n",
    "    # this is a comment\n",
    "    return a + b "
   ]
  },
  {
   "cell_type": "code",
   "execution_count": null,
   "id": "9b3cbe0f-6056-4a38-b9bc-5fc77487d80e",
   "metadata": {},
   "outputs": [
    {
     "name": "stdout",
     "output_type": "stream",
     "text": [
      "CPU times: user 2 µs, sys: 1e+03 ns, total: 3 µs\n",
      "Wall time: 5.25 µs\n"
     ]
    },
    {
     "data": {
      "text/plain": [
       "3"
      ]
     },
     "execution_count": null,
     "metadata": {},
     "output_type": "execute_result"
    }
   ],
   "source": [
    "%time slow_add(1,2)"
   ]
  },
  {
   "cell_type": "markdown",
   "id": "8335a835-aba3-4f20-85f2-195706360ab2",
   "metadata": {},
   "source": [
    "while changing the code changes the hash, so there is no cache"
   ]
  },
  {
   "cell_type": "code",
   "execution_count": null,
   "id": "e0e09b8d-b82e-41cd-b1ed-ace487e60906",
   "metadata": {},
   "outputs": [],
   "source": [
    "@cache_disk(\"test_cache\")\n",
    "def slow_add(a,b):\n",
    "    time.sleep(1)\n",
    "    return b + a "
   ]
  },
  {
   "cell_type": "code",
   "execution_count": null,
   "id": "b38de960-6b9a-48f5-83a6-3951b025ea70",
   "metadata": {},
   "outputs": [
    {
     "name": "stdout",
     "output_type": "stream",
     "text": [
      "CPU times: user 1.13 ms, sys: 56 µs, total: 1.19 ms\n",
      "Wall time: 1 s\n"
     ]
    },
    {
     "data": {
      "text/plain": [
       "3"
      ]
     },
     "execution_count": null,
     "metadata": {},
     "output_type": "execute_result"
    }
   ],
   "source": [
    "%time slow_add(1,2)"
   ]
  },
  {
   "cell_type": "code",
   "execution_count": null,
   "id": "9f176125-e730-4bb9-8057-9e1bd9e5eaf8",
   "metadata": {},
   "outputs": [],
   "source": [
    "#| hide\n",
    "from nbdev import nbdev_export\n",
    "nbdev_export()"
   ]
  }
 ],
 "metadata": {
  "kernelspec": {
   "display_name": "data_science",
   "language": "python",
   "name": "data_science"
  },
  "widgets": {
   "application/vnd.jupyter.widget-state+json": {
    "state": {},
    "version_major": 2,
    "version_minor": 0
   }
  }
 },
 "nbformat": 4,
 "nbformat_minor": 5
}
