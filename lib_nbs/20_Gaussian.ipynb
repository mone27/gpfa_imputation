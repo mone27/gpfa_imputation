{
 "cells": [
  {
   "cell_type": "markdown",
   "id": "db561d06-4f9a-4208-9d2b-4eecbed9d5f2",
   "metadata": {},
   "source": [
    "# Gaussian Distributions Utils\n",
    "> Functions to help work with gaussian distributions"
   ]
  },
  {
   "cell_type": "code",
   "execution_count": null,
   "id": "d653f259-ff61-423a-9df2-a76806b43bd4",
   "metadata": {},
   "outputs": [],
   "source": [
    "#| hide\n",
    "#| default_exp gaussian"
   ]
  },
  {
   "cell_type": "code",
   "execution_count": null,
   "id": "9ff53fd5-f8e9-476b-b3e6-510e8f00ba98",
   "metadata": {},
   "outputs": [],
   "source": [
    "from fastcore.test import *"
   ]
  },
  {
   "cell_type": "markdown",
   "id": "4b6052be-4b7f-4ce4-888f-7993a968854f",
   "metadata": {},
   "source": [
    "## Normal Parameters"
   ]
  },
  {
   "cell_type": "code",
   "execution_count": null,
   "id": "b2258941-42a0-4758-9c41-f9e3d98f3a95",
   "metadata": {},
   "outputs": [],
   "source": [
    "#| export\n",
    "from collections import namedtuple\n",
    "from fastcore.basics import patch"
   ]
  },
  {
   "cell_type": "markdown",
   "id": "d8fcce88-e590-4c16-93fe-d699e4707404",
   "metadata": {},
   "source": [
    "### Normal"
   ]
  },
  {
   "cell_type": "code",
   "execution_count": null,
   "id": "30757497-c034-40ab-a82b-aa5044131ff1",
   "metadata": {},
   "outputs": [],
   "source": [
    "import torch"
   ]
  },
  {
   "cell_type": "code",
   "execution_count": null,
   "id": "b4cc15e7-8075-492e-8485-c787ffd37439",
   "metadata": {},
   "outputs": [],
   "source": [
    "#| export\n",
    "ListNormal = namedtuple('ListNormal', ['mean', 'std'])"
   ]
  },
  {
   "cell_type": "code",
   "execution_count": null,
   "id": "b7971df6-3a32-4170-a645-a92fe20a0191",
   "metadata": {},
   "outputs": [],
   "source": [
    "#| export\n",
    "Normal = namedtuple('Normal', ['mean', 'std'])"
   ]
  },
  {
   "cell_type": "code",
   "execution_count": null,
   "id": "85c9cf5b-e990-4fa2-9b3b-b35b3dfca131",
   "metadata": {},
   "outputs": [],
   "source": [
    "#| export\n",
    "@patch\n",
    "def __getitem__(self: ListNormal, n:int\n",
    "           )->Normal:\n",
    "    \"\"\"Get the mean and cov for the nth Normal distribution in the list \"\"\"\n",
    "    return Normal(self.mean[n], self.std[n])"
   ]
  },
  {
   "cell_type": "code",
   "execution_count": null,
   "id": "b85e124b-fb20-4fb7-ba43-5c102f988582",
   "metadata": {},
   "outputs": [],
   "source": [
    "#| export\n",
    "@patch\n",
    "def detach(self: ListNormal)->ListNormal:\n",
    "    \"\"\"Detach both mean and cov at once \"\"\"\n",
    "    return ListNormal(self.mean.detach(), self.std.detach())"
   ]
  },
  {
   "cell_type": "code",
   "execution_count": null,
   "id": "4ada4239-da90-418a-b037-0b4784e2f5ff",
   "metadata": {},
   "outputs": [
    {
     "data": {
      "text/plain": [
       "Normal(mean=tensor(0.8288), std=tensor(0.8127))"
      ]
     },
     "execution_count": null,
     "metadata": {},
     "output_type": "execute_result"
    }
   ],
   "source": [
    "ListNormal(torch.rand(10), torch.rand(10))[1]"
   ]
  },
  {
   "cell_type": "markdown",
   "id": "0f7a2bf8-bb5f-41b9-8135-3cca47338cc7",
   "metadata": {},
   "source": [
    "### Multivariate Normal"
   ]
  },
  {
   "cell_type": "code",
   "execution_count": null,
   "id": "b6fa7b27-afec-41e7-b718-c1981a19ec79",
   "metadata": {},
   "outputs": [],
   "source": [
    "#| export\n",
    "ListMNormal = namedtuple('ListMultiNormal', ['mean', 'cov'])"
   ]
  },
  {
   "cell_type": "code",
   "execution_count": null,
   "id": "aeabc21e-bd9f-412c-bf23-bc38dcaf2d67",
   "metadata": {},
   "outputs": [],
   "source": [
    "#| export\n",
    "MNormal = namedtuple('MultiNormal', ['mean', 'cov'])"
   ]
  },
  {
   "cell_type": "code",
   "execution_count": null,
   "id": "0746ca6e-ba58-496a-ad0d-42cdba514b4a",
   "metadata": {},
   "outputs": [],
   "source": [
    "#| export\n",
    "@patch\n",
    "def __getitem__(self: ListMNormal, n:int\n",
    "           )->Normal:\n",
    "    \"\"\"Get the mean and cov for the nth Normal distribution in the list \"\"\"\n",
    "    return MNormal(self.mean[n], self.cov[n])\n",
    "@patch\n",
    "def __setitem__(self: ListMNormal, idx, value)->Normal:\n",
    "    \"\"\"set the mean and cov for the nth Normal distribution in the list \"\"\"\n",
    "    self.mean[idx], self.cov[idx] = value"
   ]
  },
  {
   "cell_type": "code",
   "execution_count": null,
   "id": "09b7c5d4-1e17-4663-9ccc-51464a8d1e58",
   "metadata": {},
   "outputs": [],
   "source": [
    "#| export\n",
    "@patch\n",
    "def detach(self: ListMNormal)->ListMNormal:\n",
    "    \"\"\"Detach both mean and cov at once \"\"\"\n",
    "    return ListMNormal(self.mean.detach(), self.cov.detach())"
   ]
  },
  {
   "cell_type": "code",
   "execution_count": null,
   "id": "635d5f79-eeb3-4f3a-832f-763ccad5dafa",
   "metadata": {},
   "outputs": [
    {
     "data": {
      "text/plain": [
       "MultiNormal(mean=tensor([0.5525, 0.8355, 0.6809, 0.4615, 0.2613, 0.2542, 0.8745, 0.1663, 0.7594,\n",
       "        0.9829]), cov=tensor([[0.8970, 0.3792, 0.4856, 0.4547, 0.5250, 0.3540, 0.6135, 0.1249, 0.9350,\n",
       "         0.5199],\n",
       "        [0.6439, 0.2499, 0.2646, 0.5759, 0.0825, 0.7846, 0.7053, 0.7155, 0.5080,\n",
       "         0.9545],\n",
       "        [0.7253, 0.7372, 0.0291, 0.1926, 0.9085, 0.6373, 0.6138, 0.5850, 0.1298,\n",
       "         0.7790],\n",
       "        [0.6195, 0.4928, 0.2752, 0.9113, 0.6431, 0.9983, 0.4997, 0.5400, 0.4034,\n",
       "         0.1039],\n",
       "        [0.7134, 0.6939, 0.4348, 0.9082, 0.3838, 0.3346, 0.2036, 0.7074, 0.7747,\n",
       "         0.5095],\n",
       "        [0.5271, 0.4253, 0.1755, 0.1011, 0.1805, 0.0845, 0.8968, 0.7160, 0.9273,\n",
       "         0.8917],\n",
       "        [0.1423, 0.3399, 0.1476, 0.3554, 0.9244, 0.9693, 0.1446, 0.3901, 0.2852,\n",
       "         0.2318],\n",
       "        [0.0128, 0.5210, 0.3184, 0.9317, 0.0466, 0.9699, 0.3329, 0.4150, 0.4741,\n",
       "         0.6318],\n",
       "        [0.3606, 0.7720, 0.4114, 0.5597, 0.1642, 0.2645, 0.0797, 0.3353, 0.9760,\n",
       "         0.2957],\n",
       "        [0.9924, 0.8546, 0.7210, 0.4284, 0.6930, 0.0329, 0.2804, 0.0682, 0.3791,\n",
       "         0.7075]]))"
      ]
     },
     "execution_count": null,
     "metadata": {},
     "output_type": "execute_result"
    }
   ],
   "source": [
    "ListMNormal(torch.rand(2,10), torch.rand(2,10,10))[1]"
   ]
  },
  {
   "cell_type": "markdown",
   "id": "cdc544ed-4507-434e-9827-6bbdbee90ce1",
   "metadata": {},
   "source": [
    "## Positive Definite"
   ]
  },
  {
   "cell_type": "markdown",
   "id": "9b23aa12-f51c-4d74-8453-957f50722804",
   "metadata": {},
   "source": [
    "The covariance matrices need to be [positive definite](https://en.wikipedia.org/wiki/Definite_matrix)\n",
    "Those are utilities functions to check is a matrix is positive definite and to make any matrix positive definite"
   ]
  },
  {
   "cell_type": "code",
   "execution_count": null,
   "id": "f25a3cb5-5beb-4ebc-b615-4ecc991335f7",
   "metadata": {},
   "outputs": [],
   "source": [
    "#| export\n",
    "import pandas as pd\n",
    "from torch import Tensor"
   ]
  },
  {
   "cell_type": "code",
   "execution_count": null,
   "id": "746bc2a9-5945-486d-b322-7227572217e5",
   "metadata": {},
   "outputs": [],
   "source": [
    "A = torch.rand(3,3) # random matrix used for testing"
   ]
  },
  {
   "cell_type": "markdown",
   "id": "e710542c-2904-43b0-ac20-c6c911e5b200",
   "metadata": {},
   "source": [
    "#### Symmetry"
   ]
  },
  {
   "cell_type": "code",
   "execution_count": null,
   "id": "f2d49fc6-7528-443d-9f2f-a6e8eca2f402",
   "metadata": {},
   "outputs": [],
   "source": [
    "#| export\n",
    "def is_symmetric(value, atol=1e-5):\n",
    "    return torch.isclose(value, value.mT, atol=atol).all().item()"
   ]
  },
  {
   "cell_type": "code",
   "execution_count": null,
   "id": "ecb1bbfb-84a9-46c4-8b83-3df3fac13038",
   "metadata": {},
   "outputs": [
    {
     "data": {
      "text/plain": [
       "False"
      ]
     },
     "execution_count": null,
     "metadata": {},
     "output_type": "execute_result"
    }
   ],
   "source": [
    "is_symmetric(A)"
   ]
  },
  {
   "cell_type": "code",
   "execution_count": null,
   "id": "d4007148-6ccb-44df-b5cc-8bb62b0c7881",
   "metadata": {},
   "outputs": [],
   "source": [
    "#| export\n",
    "def symmetric_upto(value, start=-8):\n",
    "    for exp in torch.arange(start, 3):\n",
    "        if is_symmetric(value, atol=10**exp):\n",
    "            return exp.item()\n",
    "    return exp.item()"
   ]
  },
  {
   "cell_type": "code",
   "execution_count": null,
   "id": "9ab33109-419b-4ee7-9f6e-6984800c23fd",
   "metadata": {},
   "outputs": [
    {
     "data": {
      "text/plain": [
       "0"
      ]
     },
     "execution_count": null,
     "metadata": {},
     "output_type": "execute_result"
    }
   ],
   "source": [
    "symmetric_upto(A)"
   ]
  },
  {
   "cell_type": "markdown",
   "id": "f7997394-8c9b-44a6-91c9-14e176db6f49",
   "metadata": {},
   "source": [
    "#### is posdef"
   ]
  },
  {
   "cell_type": "markdown",
   "id": "524f81b2-645b-4b26-9e78-0c805147bbf7",
   "metadata": {},
   "source": [
    "Default pytorch check (uses symmetry + cholesky decomposition)"
   ]
  },
  {
   "cell_type": "code",
   "execution_count": null,
   "id": "5c42898d-229d-4f06-88ba-f7654759b3f8",
   "metadata": {},
   "outputs": [],
   "source": [
    "#| export\n",
    "def is_posdef(cov):\n",
    "    return torch.distributions.constraints.positive_definite.check(cov).item()"
   ]
  },
  {
   "cell_type": "code",
   "execution_count": null,
   "id": "006aa954-db02-43fe-81fd-c5fd1d067827",
   "metadata": {},
   "outputs": [
    {
     "data": {
      "text/plain": [
       "False"
      ]
     },
     "execution_count": null,
     "metadata": {},
     "output_type": "execute_result"
    }
   ],
   "source": [
    "is_posdef(A)"
   ]
  },
  {
   "cell_type": "markdown",
   "id": "d731bd6c-3404-47dd-bb9e-55e20d0152a5",
   "metadata": {},
   "source": [
    "check if it is pos definite using eigenvalues. Positive definite matrix have all positive eigenvalues"
   ]
  },
  {
   "cell_type": "code",
   "execution_count": null,
   "id": "574f44cc-fbc0-45b6-a739-5b1ef2ea5567",
   "metadata": {},
   "outputs": [
    {
     "data": {
      "text/plain": [
       "tensor([0.1237, 0.4340, 1.1856])"
      ]
     },
     "execution_count": null,
     "metadata": {},
     "output_type": "execute_result"
    }
   ],
   "source": [
    "torch.linalg.eigvalsh(A)"
   ]
  },
  {
   "cell_type": "code",
   "execution_count": null,
   "id": "48d1eec9-41ff-4a30-bed4-31015e54761f",
   "metadata": {},
   "outputs": [],
   "source": [
    "#| export\n",
    "def is_posdef_eigv(cov):\n",
    "    eigv = torch.linalg.eigvalsh(cov)\n",
    "    if (eigv < 0).any():\n",
    "        return False, eigv\n",
    "    return True, eigv"
   ]
  },
  {
   "cell_type": "code",
   "execution_count": null,
   "id": "a63ca037-3a4e-4d4c-89df-446975ac7550",
   "metadata": {},
   "outputs": [
    {
     "data": {
      "text/plain": [
       "(True, tensor([0.1237, 0.4340, 1.1856]))"
      ]
     },
     "execution_count": null,
     "metadata": {},
     "output_type": "execute_result"
    }
   ],
   "source": [
    "is_posdef_eigv(A)"
   ]
  },
  {
   "cell_type": "markdown",
   "id": "a079a9b4-9437-42b6-a599-dd44421cdfbe",
   "metadata": {},
   "source": [
    "### Pytorch constraint"
   ]
  },
  {
   "cell_type": "markdown",
   "id": "2f7ea674-a6cb-4a8e-8e07-7be024e60adc",
   "metadata": {},
   "source": [
    "Note that `is_posdef` and `is_posdef_eigv` can return different values, in general `is_posdef_eigv` is more tollerant"
   ]
  },
  {
   "cell_type": "markdown",
   "id": "71fbdcfb-b5f9-4cf4-a334-4201f993e490",
   "metadata": {},
   "source": [
    "transform any matrix $A$ into a positive definite matrix ($PD$) using the following formula\n",
    "\n",
    "$PD = CC^T$ where $C$ is the lower triangular matrix of $A$\n",
    "\n",
    "the inverse transformation uses cholesky decomposition\n",
    "\n",
    "\n",
    "The API inspired by gpytorch constraints"
   ]
  },
  {
   "cell_type": "code",
   "execution_count": null,
   "id": "592ac59f-6383-451e-a0c1-85aecea8f0d6",
   "metadata": {},
   "outputs": [],
   "source": [
    "#| export\n",
    "class PosDef():\n",
    "    \"\"\" Positive Definite Constraint for PyTorch parameters\"\"\"\n",
    "    def transform(self,\n",
    "                  raw # square matrix\n",
    "                 ):\n",
    "        \"\"\"transform any matrix into a positive definite one\"\"\"\n",
    "        C = torch.tril(raw)\n",
    "        return C @ C.mT\n",
    "    \n",
    "    def inverse_transform(self,\n",
    "                          value # a positive definite matrix\n",
    "                         ):\n",
    "        \"\"\"tranform positive definite matrix into a matrix that can be back_transformed using `transform`\"\"\"\n",
    "        return torch.linalg.cholesky(value)\n",
    "\n",
    "to_posdef = PosDef().transform"
   ]
  },
  {
   "cell_type": "code",
   "execution_count": null,
   "id": "a5b019e8-8be4-4b79-bcb1-d05439616f71",
   "metadata": {},
   "outputs": [],
   "source": [
    "constraint = PosDef()\n",
    "\n",
    "posdef = constraint.transform(A)"
   ]
  },
  {
   "cell_type": "code",
   "execution_count": null,
   "id": "70cadac3-318d-4c0f-b603-a9b4c1088b17",
   "metadata": {},
   "outputs": [
    {
     "data": {
      "text/plain": [
       "tensor([[0.6099, 0.4402, 0.0249],\n",
       "        [0.4237, 0.6002, 0.7070],\n",
       "        [0.3168, 0.1285, 0.5331]])"
      ]
     },
     "execution_count": null,
     "metadata": {},
     "output_type": "execute_result"
    }
   ],
   "source": [
    "A"
   ]
  },
  {
   "cell_type": "code",
   "execution_count": null,
   "id": "1286cd59-83d6-415e-a044-96297de2a1f7",
   "metadata": {},
   "outputs": [
    {
     "data": {
      "text/plain": [
       "tensor([[0.3720, 0.2584, 0.1932],\n",
       "        [0.2584, 0.5398, 0.2113],\n",
       "        [0.1932, 0.2113, 0.4011]])"
      ]
     },
     "execution_count": null,
     "metadata": {},
     "output_type": "execute_result"
    }
   ],
   "source": [
    "posdef"
   ]
  },
  {
   "cell_type": "code",
   "execution_count": null,
   "id": "b22bcc0d-2a72-42ea-90fc-03c501a31c1d",
   "metadata": {},
   "outputs": [],
   "source": [
    "test_eq(is_posdef(posdef), True)"
   ]
  },
  {
   "cell_type": "code",
   "execution_count": null,
   "id": "71698826-ba86-4033-8dc5-2c8ce2985076",
   "metadata": {},
   "outputs": [
    {
     "data": {
      "text/plain": [
       "tensor([[0.6099, 0.0000, 0.0000],\n",
       "        [0.4237, 0.6002, 0.0000],\n",
       "        [0.3168, 0.1285, 0.5331]])"
      ]
     },
     "execution_count": null,
     "metadata": {},
     "output_type": "execute_result"
    }
   ],
   "source": [
    "constraint.inverse_transform(posdef)"
   ]
  },
  {
   "cell_type": "code",
   "execution_count": null,
   "id": "9ec8fa94-ae91-4092-b16c-fd5da27a2f26",
   "metadata": {},
   "outputs": [],
   "source": [
    "test_close(posdef, constraint.transform(constraint.inverse_transform(posdef)))"
   ]
  },
  {
   "cell_type": "code",
   "execution_count": null,
   "id": "304a3e48-1f37-4e65-889c-f7c6d462047d",
   "metadata": {},
   "outputs": [
    {
     "data": {
      "text/plain": [
       "True"
      ]
     },
     "execution_count": null,
     "metadata": {},
     "output_type": "execute_result"
    }
   ],
   "source": [
    "is_symmetric(posdef)"
   ]
  },
  {
   "cell_type": "code",
   "execution_count": null,
   "id": "6a509720-fbef-42d6-aefe-89049c989c1a",
   "metadata": {},
   "outputs": [
    {
     "data": {
      "text/plain": [
       "-8"
      ]
     },
     "execution_count": null,
     "metadata": {},
     "output_type": "execute_result"
    }
   ],
   "source": [
    "symmetric_upto(posdef)"
   ]
  },
  {
   "cell_type": "code",
   "execution_count": null,
   "id": "07865bff-4a88-4afe-af2e-0f99acd37fa1",
   "metadata": {},
   "outputs": [
    {
     "data": {
      "text/plain": [
       "(True, tensor([0.1719, 0.2482, 0.8927]))"
      ]
     },
     "execution_count": null,
     "metadata": {},
     "output_type": "execute_result"
    }
   ],
   "source": [
    "is_posdef_eigv(posdef)"
   ]
  },
  {
   "cell_type": "markdown",
   "id": "9f4ad5b8-53f6-4684-b94e-064c5e3c0eca",
   "metadata": {},
   "source": [
    "#### Check pos def"
   ]
  },
  {
   "cell_type": "markdown",
   "id": "4b52acf1-61f9-499b-9698-5c9c1a2d3f36",
   "metadata": {},
   "source": [
    "This is to help finding matrices that aren't positive definite and debug the issues.\n",
    "Returns a detailed dataframe row with info about the matrix and optionally logs everything to a global object"
   ]
  },
  {
   "cell_type": "code",
   "execution_count": null,
   "id": "003af30e-57e8-4a98-bde6-316ad1ef83bd",
   "metadata": {},
   "outputs": [],
   "source": [
    "#| export\n",
    "from warnings import warn\n",
    "from fastcore.basics import store_attr"
   ]
  },
  {
   "cell_type": "code",
   "execution_count": null,
   "id": "fee8dfa1-84ca-41b2-9021-4563801486ef",
   "metadata": {},
   "outputs": [],
   "source": [
    "#| export\n",
    "class CheckPosDef():\n",
    "    def __init__(self,\n",
    "                do_check:bool = False, # set to True to actually check matrix\n",
    "                use_log:bool = True, # keep internal log\n",
    "                warning:bool = True, # show a warning if a matrix is not pos def \n",
    "                ):\n",
    "        store_attr()\n",
    "        self.log = pd.DataFrame()\n",
    "        self.extra_args = {}\n",
    "    def add_args(self, **kwargs):\n",
    "        \"\"\"Add an extra argument to the next call of check_posdef \"\"\"\n",
    "        self.extra_args = {**kwargs, **self.extra_args}\n",
    "        return self\n",
    "    \n",
    "    def check(self,\n",
    "              x: Tensor, # (batch of) square matrix\n",
    "              **extra_args\n",
    "             ) -> pd.DataFrame:\n",
    "        \n",
    "        if not self.do_check: return\n",
    "        \n",
    "        self.add_args(**extra_args)\n",
    "        \n",
    "        x = x if x.dim() > 2 else [x]\n",
    "        infos = pd.concat([*map(self._check_matrix, x)])\n",
    "        \n",
    "        if self.use_log: self.log = pd.concat([self.log, infos])\n",
    "        if self.warning and (~infos['is_pd_eigv'].all() or ~infos['is_pd_chol'].all()):\n",
    "             warn(\"Matrix is not positive definite\")\n",
    "        \n",
    "        self.extra_args = {} \n",
    "        return infos\n",
    "    \n",
    "    def _check_matrix(self,\n",
    "                     x: Tensor # square matrix\n",
    "                    ) -> pd.DataFrame:\n",
    "        \n",
    "        x = x.detach().cpu().clone() # free GPU memory and ensure that there is a copy\n",
    "        sym_upto = symmetric_upto(x)\n",
    "\n",
    "        is_pd_eigv, eigv = is_posdef_eigv(x)\n",
    "        is_pd_chol = torch.linalg.cholesky_ex(x).info.eq(0).all().item() # skip pytorch too strict symmetry check\n",
    "        is_sym = is_symmetric(x)\n",
    "\n",
    "        info = pd.DataFrame({\n",
    "            'is_pd_eigv': is_pd_eigv,\n",
    "            'is_pd_chol': is_pd_chol,\n",
    "            'is_sym': is_sym,\n",
    "            'sym_upto': sym_upto,\n",
    "            'eigv': [eigv.detach().numpy()],\n",
    "            'matrix': [x.detach().numpy()],\n",
    "            **self.extra_args\n",
    "        })\n",
    "\n",
    "        return info"
   ]
  },
  {
   "cell_type": "code",
   "execution_count": null,
   "id": "47c69aef-a901-4f5f-997e-a6b899de425f",
   "metadata": {},
   "outputs": [
    {
     "data": {
      "text/html": [
       "<div>\n",
       "<style scoped>\n",
       "    .dataframe tbody tr th:only-of-type {\n",
       "        vertical-align: middle;\n",
       "    }\n",
       "\n",
       "    .dataframe tbody tr th {\n",
       "        vertical-align: top;\n",
       "    }\n",
       "\n",
       "    .dataframe thead th {\n",
       "        text-align: right;\n",
       "    }\n",
       "</style>\n",
       "<table border=\"1\" class=\"dataframe\">\n",
       "  <thead>\n",
       "    <tr style=\"text-align: right;\">\n",
       "      <th></th>\n",
       "      <th>is_pd_eigv</th>\n",
       "      <th>is_pd_chol</th>\n",
       "      <th>is_sym</th>\n",
       "      <th>sym_upto</th>\n",
       "      <th>eigv</th>\n",
       "      <th>matrix</th>\n",
       "    </tr>\n",
       "  </thead>\n",
       "  <tbody>\n",
       "    <tr>\n",
       "      <th>0</th>\n",
       "      <td>True</td>\n",
       "      <td>True</td>\n",
       "      <td>False</td>\n",
       "      <td>0</td>\n",
       "      <td>[0.123707384, 0.43397072, 1.1855843]</td>\n",
       "      <td>[[0.6098797, 0.4402153, 0.024890661], [0.42369...</td>\n",
       "    </tr>\n",
       "  </tbody>\n",
       "</table>\n",
       "</div>"
      ],
      "text/plain": [
       "   is_pd_eigv  is_pd_chol  is_sym  sym_upto  \\\n",
       "0        True        True   False         0   \n",
       "\n",
       "                                   eigv  \\\n",
       "0  [0.123707384, 0.43397072, 1.1855843]   \n",
       "\n",
       "                                              matrix  \n",
       "0  [[0.6098797, 0.4402153, 0.024890661], [0.42369...  "
      ]
     },
     "execution_count": null,
     "metadata": {},
     "output_type": "execute_result"
    }
   ],
   "source": [
    "CheckPosDef(True).check(A)"
   ]
  },
  {
   "cell_type": "code",
   "execution_count": null,
   "id": "bc3ab88c-337c-4af0-80fb-93d486d6ceef",
   "metadata": {},
   "outputs": [
    {
     "data": {
      "text/html": [
       "<div>\n",
       "<style scoped>\n",
       "    .dataframe tbody tr th:only-of-type {\n",
       "        vertical-align: middle;\n",
       "    }\n",
       "\n",
       "    .dataframe tbody tr th {\n",
       "        vertical-align: top;\n",
       "    }\n",
       "\n",
       "    .dataframe thead th {\n",
       "        text-align: right;\n",
       "    }\n",
       "</style>\n",
       "<table border=\"1\" class=\"dataframe\">\n",
       "  <thead>\n",
       "    <tr style=\"text-align: right;\">\n",
       "      <th></th>\n",
       "      <th>is_pd_eigv</th>\n",
       "      <th>is_pd_chol</th>\n",
       "      <th>is_sym</th>\n",
       "      <th>sym_upto</th>\n",
       "      <th>eigv</th>\n",
       "      <th>matrix</th>\n",
       "      <th>my_arg</th>\n",
       "    </tr>\n",
       "  </thead>\n",
       "  <tbody>\n",
       "    <tr>\n",
       "      <th>0</th>\n",
       "      <td>True</td>\n",
       "      <td>True</td>\n",
       "      <td>False</td>\n",
       "      <td>0</td>\n",
       "      <td>[0.123707384, 0.43397072, 1.1855843]</td>\n",
       "      <td>[[0.6098797, 0.4402153, 0.024890661], [0.42369...</td>\n",
       "      <td>my arg</td>\n",
       "    </tr>\n",
       "  </tbody>\n",
       "</table>\n",
       "</div>"
      ],
      "text/plain": [
       "   is_pd_eigv  is_pd_chol  is_sym  sym_upto  \\\n",
       "0        True        True   False         0   \n",
       "\n",
       "                                   eigv  \\\n",
       "0  [0.123707384, 0.43397072, 1.1855843]   \n",
       "\n",
       "                                              matrix  my_arg  \n",
       "0  [[0.6098797, 0.4402153, 0.024890661], [0.42369...  my arg  "
      ]
     },
     "execution_count": null,
     "metadata": {},
     "output_type": "execute_result"
    }
   ],
   "source": [
    "checker = CheckPosDef(True)\n",
    "\n",
    "checker.check(A, my_arg=\"my arg\") # this will be another col in the log"
   ]
  },
  {
   "cell_type": "code",
   "execution_count": null,
   "id": "314b2588-a373-476c-a090-c3b172aa5f4e",
   "metadata": {},
   "outputs": [
    {
     "data": {
      "text/html": [
       "<div>\n",
       "<style scoped>\n",
       "    .dataframe tbody tr th:only-of-type {\n",
       "        vertical-align: middle;\n",
       "    }\n",
       "\n",
       "    .dataframe tbody tr th {\n",
       "        vertical-align: top;\n",
       "    }\n",
       "\n",
       "    .dataframe thead th {\n",
       "        text-align: right;\n",
       "    }\n",
       "</style>\n",
       "<table border=\"1\" class=\"dataframe\">\n",
       "  <thead>\n",
       "    <tr style=\"text-align: right;\">\n",
       "      <th></th>\n",
       "      <th>is_pd_eigv</th>\n",
       "      <th>is_pd_chol</th>\n",
       "      <th>is_sym</th>\n",
       "      <th>sym_upto</th>\n",
       "      <th>eigv</th>\n",
       "      <th>matrix</th>\n",
       "      <th>my_arg</th>\n",
       "    </tr>\n",
       "  </thead>\n",
       "  <tbody>\n",
       "    <tr>\n",
       "      <th>0</th>\n",
       "      <td>True</td>\n",
       "      <td>True</td>\n",
       "      <td>False</td>\n",
       "      <td>0</td>\n",
       "      <td>[0.123707384, 0.43397072, 1.1855843]</td>\n",
       "      <td>[[0.6098797, 0.4402153, 0.024890661], [0.42369...</td>\n",
       "      <td>my arg</td>\n",
       "    </tr>\n",
       "  </tbody>\n",
       "</table>\n",
       "</div>"
      ],
      "text/plain": [
       "   is_pd_eigv  is_pd_chol  is_sym  sym_upto  \\\n",
       "0        True        True   False         0   \n",
       "\n",
       "                                   eigv  \\\n",
       "0  [0.123707384, 0.43397072, 1.1855843]   \n",
       "\n",
       "                                              matrix  my_arg  \n",
       "0  [[0.6098797, 0.4402153, 0.024890661], [0.42369...  my arg  "
      ]
     },
     "execution_count": null,
     "metadata": {},
     "output_type": "execute_result"
    }
   ],
   "source": [
    "checker.log"
   ]
  },
  {
   "cell_type": "code",
   "execution_count": null,
   "id": "f5262fb1-2759-4f07-8c20-38955be2f5c6",
   "metadata": {},
   "outputs": [
    {
     "data": {
      "text/html": [
       "<div>\n",
       "<style scoped>\n",
       "    .dataframe tbody tr th:only-of-type {\n",
       "        vertical-align: middle;\n",
       "    }\n",
       "\n",
       "    .dataframe tbody tr th {\n",
       "        vertical-align: top;\n",
       "    }\n",
       "\n",
       "    .dataframe thead th {\n",
       "        text-align: right;\n",
       "    }\n",
       "</style>\n",
       "<table border=\"1\" class=\"dataframe\">\n",
       "  <thead>\n",
       "    <tr style=\"text-align: right;\">\n",
       "      <th></th>\n",
       "      <th>is_pd_eigv</th>\n",
       "      <th>is_pd_chol</th>\n",
       "      <th>is_sym</th>\n",
       "      <th>sym_upto</th>\n",
       "      <th>eigv</th>\n",
       "      <th>matrix</th>\n",
       "      <th>my_arg</th>\n",
       "      <th>show</th>\n",
       "    </tr>\n",
       "  </thead>\n",
       "  <tbody>\n",
       "    <tr>\n",
       "      <th>0</th>\n",
       "      <td>True</td>\n",
       "      <td>True</td>\n",
       "      <td>False</td>\n",
       "      <td>0</td>\n",
       "      <td>[0.123707384, 0.43397072, 1.1855843]</td>\n",
       "      <td>[[0.6098797, 0.4402153, 0.024890661], [0.42369...</td>\n",
       "      <td>my arg</td>\n",
       "      <td>NaN</td>\n",
       "    </tr>\n",
       "    <tr>\n",
       "      <th>0</th>\n",
       "      <td>True</td>\n",
       "      <td>True</td>\n",
       "      <td>True</td>\n",
       "      <td>-8</td>\n",
       "      <td>[0.17188226, 0.24823612, 0.89274585]</td>\n",
       "      <td>[[0.37195322, 0.25839996, 0.19320545], [0.2583...</td>\n",
       "      <td>NaN</td>\n",
       "      <td>only once</td>\n",
       "    </tr>\n",
       "    <tr>\n",
       "      <th>0</th>\n",
       "      <td>True</td>\n",
       "      <td>True</td>\n",
       "      <td>False</td>\n",
       "      <td>0</td>\n",
       "      <td>[0.123707384, 0.43397072, 1.1855843]</td>\n",
       "      <td>[[0.6098797, 0.4402153, 0.024890661], [0.42369...</td>\n",
       "      <td>NaN</td>\n",
       "      <td>NaN</td>\n",
       "    </tr>\n",
       "  </tbody>\n",
       "</table>\n",
       "</div>"
      ],
      "text/plain": [
       "   is_pd_eigv  is_pd_chol  is_sym  sym_upto  \\\n",
       "0        True        True   False         0   \n",
       "0        True        True    True        -8   \n",
       "0        True        True   False         0   \n",
       "\n",
       "                                   eigv  \\\n",
       "0  [0.123707384, 0.43397072, 1.1855843]   \n",
       "0  [0.17188226, 0.24823612, 0.89274585]   \n",
       "0  [0.123707384, 0.43397072, 1.1855843]   \n",
       "\n",
       "                                              matrix  my_arg       show  \n",
       "0  [[0.6098797, 0.4402153, 0.024890661], [0.42369...  my arg        NaN  \n",
       "0  [[0.37195322, 0.25839996, 0.19320545], [0.2583...     NaN  only once  \n",
       "0  [[0.6098797, 0.4402153, 0.024890661], [0.42369...     NaN        NaN  "
      ]
     },
     "execution_count": null,
     "metadata": {},
     "output_type": "execute_result"
    }
   ],
   "source": [
    "checker.add_args(show=\"only once\")\n",
    "checker.check(posdef)\n",
    "checker.check(A)\n",
    "checker.log"
   ]
  },
  {
   "cell_type": "code",
   "execution_count": null,
   "id": "e40f4a5e-e54c-4442-bc3d-9aba46173e12",
   "metadata": {},
   "outputs": [],
   "source": [
    "B = torch.rand(2,3,3) # a batch of matrices"
   ]
  },
  {
   "cell_type": "code",
   "execution_count": null,
   "id": "77365d7a-ecb7-4a86-b013-73f599aaa87d",
   "metadata": {},
   "outputs": [
    {
     "name": "stderr",
     "output_type": "stream",
     "text": [
      "/tmp/ipykernel_38128/4164403042.py:30: UserWarning: Matrix is not positive definite\n",
      "  warn(\"Matrix is not positive definite\")\n"
     ]
    },
    {
     "data": {
      "text/html": [
       "<div>\n",
       "<style scoped>\n",
       "    .dataframe tbody tr th:only-of-type {\n",
       "        vertical-align: middle;\n",
       "    }\n",
       "\n",
       "    .dataframe tbody tr th {\n",
       "        vertical-align: top;\n",
       "    }\n",
       "\n",
       "    .dataframe thead th {\n",
       "        text-align: right;\n",
       "    }\n",
       "</style>\n",
       "<table border=\"1\" class=\"dataframe\">\n",
       "  <thead>\n",
       "    <tr style=\"text-align: right;\">\n",
       "      <th></th>\n",
       "      <th>is_pd_eigv</th>\n",
       "      <th>is_pd_chol</th>\n",
       "      <th>is_sym</th>\n",
       "      <th>sym_upto</th>\n",
       "      <th>eigv</th>\n",
       "      <th>matrix</th>\n",
       "    </tr>\n",
       "  </thead>\n",
       "  <tbody>\n",
       "    <tr>\n",
       "      <th>0</th>\n",
       "      <td>False</td>\n",
       "      <td>False</td>\n",
       "      <td>False</td>\n",
       "      <td>0</td>\n",
       "      <td>[-0.029349297, 0.76472014, 1.1787026]</td>\n",
       "      <td>[[0.15079308, 0.33835346, 0.36433917], [0.3684...</td>\n",
       "    </tr>\n",
       "    <tr>\n",
       "      <th>0</th>\n",
       "      <td>False</td>\n",
       "      <td>False</td>\n",
       "      <td>False</td>\n",
       "      <td>0</td>\n",
       "      <td>[-0.2295478, 0.36021793, 0.8472092]</td>\n",
       "      <td>[[0.47898299, 0.31957358, 0.80752444], [0.0928...</td>\n",
       "    </tr>\n",
       "  </tbody>\n",
       "</table>\n",
       "</div>"
      ],
      "text/plain": [
       "   is_pd_eigv  is_pd_chol  is_sym  sym_upto  \\\n",
       "0       False       False   False         0   \n",
       "0       False       False   False         0   \n",
       "\n",
       "                                    eigv  \\\n",
       "0  [-0.029349297, 0.76472014, 1.1787026]   \n",
       "0    [-0.2295478, 0.36021793, 0.8472092]   \n",
       "\n",
       "                                              matrix  \n",
       "0  [[0.15079308, 0.33835346, 0.36433917], [0.3684...  \n",
       "0  [[0.47898299, 0.31957358, 0.80752444], [0.0928...  "
      ]
     },
     "execution_count": null,
     "metadata": {},
     "output_type": "execute_result"
    }
   ],
   "source": [
    "checker.check(B)"
   ]
  },
  {
   "cell_type": "code",
   "execution_count": null,
   "id": "f0181633-4a80-4737-a164-1a263d4fbed3",
   "metadata": {},
   "outputs": [],
   "source": [
    "test_close(B[0] @ A, (B @ A)[0]) # example batched matrix multiplication"
   ]
  },
  {
   "cell_type": "markdown",
   "id": "15e36928-2ce7-4c0d-ac60-093d59ecd7fa",
   "metadata": {},
   "source": [
    "## Conditional Predictions"
   ]
  },
  {
   "cell_type": "markdown",
   "id": "1d7d9bb7-e7b1-4984-9bc1-5001ad92d216",
   "metadata": {},
   "source": [
    "Therefore we need to compute the conditional distribution of a normal ^[https://cs.nyu.edu/~roweis/notes/gaussid.pdf eq, 5a, 5d]\n",
    "\n",
    "$$ X = \\left[\\begin{array}{c} x \\\\ o \\end{array} \\right] $$\n",
    "\n",
    "$$ p(X) = N\\left(\\left[ \\begin{array}{c} \\mu_x \\\\ \\mu_o \\end{array} \\right], \\left[\\begin{array}{cc} \\Sigma_{xx} & \\Sigma_{xo} \\\\ \\Sigma_{ox} & \\Sigma_{oo} \\end{array} \\right]\\right)$$\n",
    "\n",
    "where $x$ is a vector of variable that need to predicted and $o$ is a vector of the variables that have been observed\n",
    "\n",
    "\n",
    "then the conditional distribution is:\n",
    "\n",
    "$$p(x|o) = N(\\mu_x + \\Sigma_{xo}\\Sigma_{oo}^{-1}(o - \\mu_o), \\Sigma_{xx} - \\Sigma_{xo}\\Sigma_{oo}^{-1}\\Sigma_{ox})$$"
   ]
  },
  {
   "cell_type": "code",
   "execution_count": null,
   "id": "8ef2b518-bc6a-481c-83cb-a6b8db9e2c89",
   "metadata": {},
   "outputs": [],
   "source": [
    "#| export\n",
    "import torch\n",
    "from torch.distributions import MultivariateNormal\n",
    "from torch.linalg import cholesky\n",
    "from torch import cholesky_inverse\n",
    "from torch import Tensor\n",
    "\n",
    "from fastcore.test import *\n",
    "from meteo_imp.utils import *\n",
    "from typing import List"
   ]
  },
  {
   "cell_type": "code",
   "execution_count": null,
   "id": "fccdfddc-01e9-45a1-b2f7-173652fcdb3f",
   "metadata": {},
   "outputs": [],
   "source": [
    "#| export\n",
    "def conditional_guassian(\n",
    "                         μ: Tensor, # mean with shape `[n_vars]`\n",
    "                         Σ: Tensor, # cov with shape `[n_vars, n_vars] `\n",
    "                         obs: Tensor, # Observations with shape `[n_obs]`, where `n_obs = sum(idx)`\n",
    "                         mask: Tensor # Boolean tensor specifying for each variable is observed (True) or not (False). Shape `[n_vars]`\n",
    "                        ) -> ListMNormal: # Distribution conditioned on observations. shape `[n_vars - n_obs]`\n",
    "    assert μ.shape[0] == mask.shape[0]\n",
    "    assert obs.shape[0] == sum(mask)\n",
    "    \n",
    "    μ_x = μ[~mask]\n",
    "    μ_o = μ[mask]\n",
    "    # the double square brackets `:][:` are needed to keep the dimensionality even for empty tensors \n",
    "    Σ_xx = Σ[~mask,:][:, ~mask]\n",
    "    Σ_xo = Σ[~mask,:][:,  mask]\n",
    "    Σ_ox = Σ[ mask,:][:, ~mask]\n",
    "    Σ_oo = Σ[ mask,:][:,  mask]\n",
    "    \n",
    "    Σ_oo_inv = cholesky_inverse(cholesky(Σ_oo))\n",
    "    \n",
    "    \n",
    "    mean = μ_x + Σ_xo@Σ_oo_inv@(obs - μ_o)\n",
    "    cov = Σ_xx - Σ_xo@Σ_oo_inv@Σ_ox\n",
    "    \n",
    "    return ListMNormal(mean, cov)\n",
    "    "
   ]
  },
  {
   "cell_type": "code",
   "execution_count": null,
   "id": "08dadc5c-067f-4ce5-a82a-8e85d48588e8",
   "metadata": {},
   "outputs": [],
   "source": [
    "# example distribution with only 2 variables\n",
    "μ = torch.tensor([.5, 1.])\n",
    "Σ = torch.tensor([[1., .5], [.5 ,1.]])\n",
    "\n",
    "\n",
    "mask = torch.tensor([True, False]) # second variable is the observed one\n",
    "\n",
    "obs = torch.tensor([5.]) # value of second variable\n",
    "\n",
    "gauss_cond = conditional_guassian(μ, Σ, obs, mask)\n",
    "\n",
    "# hardcoded values to test that the code is working, see also for alternative implementation https://python.quantecon.org/multivariate_normal.html\n",
    "test_close(3.25, gauss_cond.mean.item())\n",
    "test_close(.75, gauss_cond.cov.item())"
   ]
  },
  {
   "cell_type": "markdown",
   "id": "1fac5e7e-83cb-4c01-9cd6-0170d2ebc9b7",
   "metadata": {},
   "source": [
    "### Batches"
   ]
  },
  {
   "cell_type": "markdown",
   "id": "96599546-f572-4f4d-8d3f-11d532bf05ca",
   "metadata": {},
   "source": [
    "cannot have proper batch support, or at least not in a straigthforward way as the shape of the output would be different for the different batches.\n",
    "\n",
    "so using a for-loop to temporarly fix the situation"
   ]
  },
  {
   "cell_type": "code",
   "execution_count": null,
   "id": "66c0d2a2-ca4f-413b-82cc-34cfb9afc1a5",
   "metadata": {},
   "outputs": [],
   "source": [
    "#| export\n",
    "def cond_gaussian_batched(dist: ListMNormal,\n",
    "                         obs, # this needs to have the same shape of the mask !!! \n",
    "                         mask\n",
    "                         ) -> List[ListMNormal]: # lists of distributions for element in the batch\n",
    "    return [conditional_guassian(dist.mean[i], dist.cov[i], obs[i][mask[i]], mask[i]) for i in range(obs.shape[0])]\n",
    "        "
   ]
  },
  {
   "cell_type": "code",
   "execution_count": null,
   "id": "74093424-2daf-4fe4-b3b6-26d957275737",
   "metadata": {},
   "outputs": [],
   "source": [
    "reset_seed(10)\n",
    "mean = torch.rand(2,3) # batch\n",
    "cov = to_posdef(torch.rand(2,3,3))\n",
    "mask = torch.rand(2,3) > .3\n",
    "obs = torch.rand(2,3)"
   ]
  },
  {
   "cell_type": "code",
   "execution_count": null,
   "id": "e048dfef-2a23-4302-adbe-a9ece3ba91a2",
   "metadata": {},
   "outputs": [
    {
     "data": {
      "text/plain": [
       "[ListMultiNormal(mean=tensor([0.4581, 0.4829, 0.3125]), cov=tensor([[0.4814, 0.2292, 0.4885],\n",
       "         [0.2292, 0.4094, 0.5379],\n",
       "         [0.4885, 0.5379, 1.2905]])),\n",
       " ListMultiNormal(mean=tensor([-0.3978, -1.0285]), cov=tensor([[0.6654, 0.2320],\n",
       "         [0.2320, 0.1665]]))]"
      ]
     },
     "execution_count": null,
     "metadata": {},
     "output_type": "execute_result"
    }
   ],
   "source": [
    "conditional_gaussian_batched(mean, cov, obs, mask)"
   ]
  },
  {
   "cell_type": "code",
   "execution_count": null,
   "id": "4ba70bc9-2207-4be8-a09f-7084a2bb1010",
   "metadata": {},
   "outputs": [
    {
     "data": {
      "text/plain": [
       "(torch.Size([2, 3]), torch.Size([2, 3]))"
      ]
     },
     "execution_count": null,
     "metadata": {},
     "output_type": "execute_result"
    }
   ],
   "source": [
    "mask.shape, obs.shape"
   ]
  },
  {
   "cell_type": "code",
   "execution_count": null,
   "id": "c0764a21-3b16-4439-8c45-f42fd64af274",
   "metadata": {},
   "outputs": [],
   "source": [
    "assert mean.shape == mask.shape\n",
    "assert mean.dim() == 2"
   ]
  },
  {
   "cell_type": "code",
   "execution_count": null,
   "id": "f212db6c-5c87-4877-b4e3-ce5d6c15b2eb",
   "metadata": {},
   "outputs": [
    {
     "data": {
      "text/plain": [
       "torch.Size([2, 3])"
      ]
     },
     "execution_count": null,
     "metadata": {},
     "output_type": "execute_result"
    }
   ],
   "source": [
    "obs.shape"
   ]
  },
  {
   "cell_type": "code",
   "execution_count": null,
   "id": "a5cdfdd0-f81a-4089-956b-94f47cb719bd",
   "metadata": {},
   "outputs": [],
   "source": [
    "mean_x = mean[~mask]\n",
    "mean_o = mean[mask]"
   ]
  },
  {
   "cell_type": "code",
   "execution_count": null,
   "id": "a0bf1c6b-b5b1-4251-badb-85b3d8ba5125",
   "metadata": {},
   "outputs": [
    {
     "data": {
      "text/plain": [
       "tensor([[False, False, False],\n",
       "        [False, False,  True]])"
      ]
     },
     "execution_count": null,
     "metadata": {},
     "output_type": "execute_result"
    }
   ],
   "source": [
    "mask"
   ]
  },
  {
   "cell_type": "code",
   "execution_count": null,
   "id": "558f9f16-efb7-4b7d-ab7a-8b98e0509b9f",
   "metadata": {},
   "outputs": [
    {
     "data": {
      "text/plain": [
       "tensor([0.4581, 0.4829, 0.3125, 0.6150, 0.2139])"
      ]
     },
     "execution_count": null,
     "metadata": {},
     "output_type": "execute_result"
    }
   ],
   "source": [
    "mean_x"
   ]
  },
  {
   "cell_type": "code",
   "execution_count": null,
   "id": "d4b093ce-62c6-467a-a8e4-1911926788ec",
   "metadata": {},
   "outputs": [
    {
     "data": {
      "text/plain": [
       "torch.Size([2, 3, 3])"
      ]
     },
     "execution_count": null,
     "metadata": {},
     "output_type": "execute_result"
    }
   ],
   "source": [
    "cov.shape"
   ]
  },
  {
   "cell_type": "code",
   "execution_count": null,
   "id": "95bdaad6-92c2-4056-a28c-164d46266ab4",
   "metadata": {},
   "outputs": [
    {
     "data": {
      "text/plain": [
       "tensor([[0.4814, 0.2292, 0.4885],\n",
       "        [0.2292, 0.4094, 0.5379],\n",
       "        [0.4885, 0.5379, 1.2905],\n",
       "        [0.9701, 0.6057, 0.0567],\n",
       "        [0.6057, 0.6250, 0.0695]])"
      ]
     },
     "execution_count": null,
     "metadata": {},
     "output_type": "execute_result"
    }
   ],
   "source": [
    "cov[~mask]"
   ]
  },
  {
   "cell_type": "code",
   "execution_count": null,
   "id": "9785c54d-a5da-462a-be6c-99b87e5ab98d",
   "metadata": {},
   "outputs": [
    {
     "data": {
      "text/plain": [
       "tensor([[[0.4814, 0.2292, 0.4885],\n",
       "         [0.2292, 0.4094, 0.5379],\n",
       "         [0.4885, 0.5379, 1.2905]],\n",
       "\n",
       "        [[0.9701, 0.6057, 0.0567],\n",
       "         [0.6057, 0.6250, 0.0695],\n",
       "         [0.0567, 0.0695, 0.0105]]])"
      ]
     },
     "execution_count": null,
     "metadata": {},
     "output_type": "execute_result"
    }
   ],
   "source": [
    "cov"
   ]
  },
  {
   "cell_type": "code",
   "execution_count": null,
   "id": "422d0d8c-6b22-46a7-89ae-036f839296da",
   "metadata": {},
   "outputs": [
    {
     "data": {
      "text/plain": [
       "tensor([0.4814, 0.4094, 1.2905])"
      ]
     },
     "execution_count": null,
     "metadata": {},
     "output_type": "execute_result"
    }
   ],
   "source": [
    "cov[0][~mask[0], ~mask[0]]"
   ]
  },
  {
   "cell_type": "code",
   "execution_count": null,
   "id": "cefc1642-f457-4a47-863d-edab440c2246",
   "metadata": {},
   "outputs": [
    {
     "data": {
      "text/plain": [
       "torch.Size([0, 0])"
      ]
     },
     "execution_count": null,
     "metadata": {},
     "output_type": "execute_result"
    }
   ],
   "source": [
    "cov[0][mask[0],:][:, mask[0]].shape"
   ]
  },
  {
   "cell_type": "markdown",
   "id": "9c6ee528-b358-496e-8173-78e7801f16de",
   "metadata": {},
   "source": [
    "### Performance\n",
    "\n",
    "analysis of the performance of inverting a positive definite matrix"
   ]
  },
  {
   "cell_type": "markdown",
   "id": "a0509e73-399a-4db8-bc94-42234457d5a1",
   "metadata": {},
   "source": [
    "Use `cholesky` decomposition and `cholesky_solve` to improve performance of matrix inversion\n",
    "\n",
    "see the [Probabilist machine learning course from uni Tübigen](https://uni-tuebingen.de/en/180804), specifically the code from the [Gaussian Regression Notebook](https://uni-tuebingen.de/fileadmin/Uni_Tuebingen/Fakultaeten/MatNat/Fachbereiche/Informatik/Lehrstuehle/MethMaschLern/Probabilistic_ML/Notebook_Vorlesung_7___9/Gaussian_Linear_Regression.ipynb) for details"
   ]
  },
  {
   "cell_type": "markdown",
   "id": "6b6a796f-84cc-4fdd-9a0e-000634949fe3",
   "metadata": {},
   "source": [
    "This is the direct implementation of the equations"
   ]
  },
  {
   "cell_type": "code",
   "execution_count": null,
   "id": "6e091217-11b7-4251-af9a-93c6969cbb0a",
   "metadata": {},
   "outputs": [],
   "source": [
    "def _conditional_guassian_base(\n",
    "                         μ: Tensor, # mean with shape `[n_vars]`\n",
    "                         Σ: Tensor, # cov with shape `[n_vars, n_vars] `\n",
    "                         obs: Tensor, # Observations with shape `[n_vars]`\n",
    "                         idx: Tensor # Boolean tensor specifying for each variable is observed (True) or not (False). Shape `[n_vars]`\n",
    "                        ) -> ListNormal: # Distribution conditioned on observations\n",
    "    μ_x = μ[~idx]\n",
    "    μ_o = μ[idx]\n",
    "    \n",
    "    Σ_xx = Σ[~idx,:][:, ~idx]\n",
    "    Σ_xo = Σ[~idx,:][:, idx]\n",
    "    Σ_ox = Σ[idx,:][:, ~idx]\n",
    "    Σ_oo = Σ[idx,:][:, idx]\n",
    "    \n",
    "    Σ_oo_inv = torch.linalg.inv(Σ_oo)\n",
    "    \n",
    "    mean = μ_x + Σ_xo@Σ_oo_inv@(obs - μ_o)\n",
    "    cov = Σ_xx - Σ_xo@Σ_oo_inv@Σ_ox\n",
    "    \n",
    "    return ListNormal(mean, cov)\n",
    "    "
   ]
  },
  {
   "cell_type": "markdown",
   "id": "88285fc6-28a3-46dd-8d25-99e4302df022",
   "metadata": {},
   "source": [
    " faster version"
   ]
  },
  {
   "cell_type": "code",
   "execution_count": null,
   "id": "8f4ce09d-576e-41e9-ac0d-c5b1ad2563ed",
   "metadata": {},
   "outputs": [],
   "source": [
    "n_var = 5\n",
    "mean = torch.rand(n_var, dtype=torch.float64)\n",
    "cov = to_posdef(torch.rand(n_var, n_var, dtype=torch.float64))\n",
    "dist = MultivariateNormal(mean, cov)\n",
    "idx = torch.rand(n_var, dtype=torch.float64) > .5\n",
    "obs = torch.rand(n_var, dtype=torch.float64)[idx]"
   ]
  },
  {
   "cell_type": "code",
   "execution_count": null,
   "id": "cb728f7f-5bc8-4f56-a0b8-2919ab508cb3",
   "metadata": {},
   "outputs": [
    {
     "data": {
      "text/plain": [
       "tensor([[ 9.6648, -0.2920,  1.4796,  1.7772, -6.8714],\n",
       "        [-0.2920,  1.6547, -0.3568, -0.7395,  0.5746],\n",
       "        [ 1.4796, -0.3568,  5.0445,  0.1818, -5.9583],\n",
       "        [ 1.7772, -0.7395,  0.1818,  1.4627, -1.5800],\n",
       "        [-6.8714,  0.5746, -5.9583, -1.5800, 10.9719]], dtype=torch.float64)"
      ]
     },
     "execution_count": null,
     "metadata": {},
     "output_type": "execute_result"
    }
   ],
   "source": [
    "torch.linalg.inv(cov) "
   ]
  },
  {
   "cell_type": "code",
   "execution_count": null,
   "id": "b39e5b98-ee21-4939-9139-a3cf7e9b3bb8",
   "metadata": {},
   "outputs": [
    {
     "data": {
      "text/plain": [
       "tensor(7.9936e-15, dtype=torch.float64)"
      ]
     },
     "execution_count": null,
     "metadata": {},
     "output_type": "execute_result"
    }
   ],
   "source": [
    "(torch.linalg.inv(cov) - cholesky_inverse(torch.linalg.cholesky(cov))).max()"
   ]
  },
  {
   "cell_type": "code",
   "execution_count": null,
   "id": "70ab7b97-68e9-410c-b9ef-2920096006b8",
   "metadata": {},
   "outputs": [],
   "source": [
    "test_close(torch.linalg.inv(cov), cholesky_inverse(torch.linalg.cholesky(cov)), eps=1e-2)"
   ]
  },
  {
   "cell_type": "code",
   "execution_count": null,
   "id": "441a6527-2f74-4c74-babe-753a31da37b1",
   "metadata": {},
   "outputs": [],
   "source": [
    "reset_seed()\n",
    "A = to_posdef(torch.rand(1000, 1000, dtype=torch.float64)) + torch.eye(1000) * 1e-3 # noise to ensure is positive definite"
   ]
  },
  {
   "cell_type": "code",
   "execution_count": null,
   "id": "e2c09d18-2d9b-476d-8d54-48d936735efa",
   "metadata": {},
   "outputs": [
    {
     "data": {
      "text/plain": [
       "True"
      ]
     },
     "execution_count": null,
     "metadata": {},
     "output_type": "execute_result"
    }
   ],
   "source": [
    "is_symmetric(A)"
   ]
  },
  {
   "cell_type": "code",
   "execution_count": null,
   "id": "2585ccaa-33b4-43de-b3a1-4ddbcc48aee5",
   "metadata": {},
   "outputs": [
    {
     "data": {
      "text/plain": [
       "True"
      ]
     },
     "execution_count": null,
     "metadata": {},
     "output_type": "execute_result"
    }
   ],
   "source": [
    "is_posdef(A)"
   ]
  },
  {
   "cell_type": "code",
   "execution_count": null,
   "id": "8fa60488-e695-4f33-8166-3a54c0de0c50",
   "metadata": {},
   "outputs": [
    {
     "name": "stdout",
     "output_type": "stream",
     "text": [
      "16 ms ± 689 µs per loop (mean ± std. dev. of 7 runs, 10 loops each)\n"
     ]
    }
   ],
   "source": [
    "%timeit torch.linalg.inv(A)"
   ]
  },
  {
   "cell_type": "code",
   "execution_count": null,
   "id": "5727ea1d-9585-4906-956f-6c4a13e0d984",
   "metadata": {},
   "outputs": [
    {
     "name": "stdout",
     "output_type": "stream",
     "text": [
      "9.74 ms ± 143 µs per loop (mean ± std. dev. of 7 runs, 100 loops each)\n"
     ]
    }
   ],
   "source": [
    "%timeit cholesky_inverse(torch.linalg.cholesky(A))"
   ]
  },
  {
   "cell_type": "markdown",
   "id": "91eeb54b-2ada-4813-9386-2780b6138a1c",
   "metadata": {},
   "source": [
    "The second version is way faster"
   ]
  },
  {
   "cell_type": "code",
   "execution_count": null,
   "id": "22841f3c-1f54-4cc7-9122-738c1fa54a4d",
   "metadata": {},
   "outputs": [],
   "source": [
    "test_close(conditional_guassian(mean, cov, obs, idx).mean, _conditional_guassian_base(mean, cov, obs, idx).mean)"
   ]
  },
  {
   "cell_type": "code",
   "execution_count": null,
   "id": "ccc7deb2-b82f-408f-bed7-71df9e22b4e7",
   "metadata": {},
   "outputs": [],
   "source": [
    "B = to_posdef(torch.rand(n_var, n_var, dtype=torch.float64))"
   ]
  },
  {
   "cell_type": "code",
   "execution_count": null,
   "id": "0c1f9184-eac2-4b22-b160-d34db2262e65",
   "metadata": {},
   "outputs": [
    {
     "data": {
      "text/plain": [
       "tensor([[-3.7817e-01,  6.0855e-02, -3.5677e-01, -9.8335e-02,  6.4587e-01],\n",
       "        [-1.2011e+00,  1.5680e-01, -1.1038e+00, -2.7579e-01,  2.0130e+00],\n",
       "        [-2.6674e+00,  1.5877e-02, -9.0071e-01, -4.3940e-01,  2.9151e+00],\n",
       "        [-7.7354e+00, -2.2823e-02, -7.3321e+00, -6.3090e-01,  1.2912e+01],\n",
       "        [-1.6419e+01,  7.5170e-01, -1.4601e+01, -2.4740e+00,  2.6638e+01]],\n",
       "       dtype=torch.float64)"
      ]
     },
     "execution_count": null,
     "metadata": {},
     "output_type": "execute_result"
    }
   ],
   "source": [
    "B @ torch.inverse(cov)"
   ]
  },
  {
   "cell_type": "code",
   "execution_count": null,
   "id": "922ea127-688b-45f2-855b-799304282959",
   "metadata": {},
   "outputs": [
    {
     "data": {
      "text/plain": [
       "tensor([[ 1.3082e+04, -9.3404e+02,  2.4098e+00,  8.5058e-01, -1.5294e-02],\n",
       "        [-6.2772e+02,  3.6820e+02, -2.3551e+00, -2.3026e-02, -9.6162e-02],\n",
       "        [ 4.9489e+00, -1.5093e+00,  3.5311e+00, -3.0811e-01, -1.6152e-02],\n",
       "        [ 2.5098e-01,  4.9503e-01,  6.9657e-02,  8.1607e-01, -4.3506e-02],\n",
       "        [ 8.3257e-03, -3.8040e-01, -5.2151e-02, -1.1511e-01,  3.3907e-02]],\n",
       "       dtype=torch.float64)"
      ]
     },
     "execution_count": null,
     "metadata": {},
     "output_type": "execute_result"
    }
   ],
   "source": [
    "torch.cholesky_solve(cholesky(cov), B)"
   ]
  },
  {
   "cell_type": "markdown",
   "id": "f88dd5e0-9c9f-4d39-a9b6-b546658870a1",
   "metadata": {},
   "source": [
    "## Helper"
   ]
  },
  {
   "cell_type": "markdown",
   "id": "f4b18aaf-0dd6-4cea-a88f-83bd8ed966df",
   "metadata": {},
   "source": [
    "### cov2std"
   ]
  },
  {
   "cell_type": "code",
   "execution_count": null,
   "id": "d945e732-9e78-453e-9e7f-a5c3caba2bf5",
   "metadata": {},
   "outputs": [],
   "source": [
    "x = torch.stack([torch.eye(3)*i for i in  range(1,4)])"
   ]
  },
  {
   "cell_type": "code",
   "execution_count": null,
   "id": "695f8643-24bb-4c08-9d45-28f71d2087fc",
   "metadata": {},
   "outputs": [
    {
     "data": {
      "text/plain": [
       "tensor([[[1., 0., 0.],\n",
       "         [0., 1., 0.],\n",
       "         [0., 0., 1.]],\n",
       "\n",
       "        [[2., 0., 0.],\n",
       "         [0., 2., 0.],\n",
       "         [0., 0., 2.]],\n",
       "\n",
       "        [[3., 0., 0.],\n",
       "         [0., 3., 0.],\n",
       "         [0., 0., 3.]]])"
      ]
     },
     "execution_count": null,
     "metadata": {},
     "output_type": "execute_result"
    }
   ],
   "source": [
    "x"
   ]
  },
  {
   "cell_type": "code",
   "execution_count": null,
   "id": "703285a8-7aff-4766-81a5-f2edf0de1d7d",
   "metadata": {},
   "outputs": [
    {
     "data": {
      "text/plain": [
       "tensor([[1., 1., 1.],\n",
       "        [2., 2., 2.],\n",
       "        [3., 3., 3.]])"
      ]
     },
     "execution_count": null,
     "metadata": {},
     "output_type": "execute_result"
    }
   ],
   "source": [
    "torch.diagonal(x, dim1=1, dim2=2)"
   ]
  },
  {
   "cell_type": "code",
   "execution_count": null,
   "id": "1b1f666c-de1e-4d76-944a-36d5ed29b4c4",
   "metadata": {},
   "outputs": [],
   "source": [
    "#| export\n",
    "def cov2std(x):\n",
    "    \"convert cov of array of covariances to array of stddev\"\n",
    "    return torch.sqrt(torch.diagonal(x, dim1=-2, dim2=-1))"
   ]
  },
  {
   "cell_type": "markdown",
   "id": "26346ea1-ce63-4315-b39c-04d8eb859c20",
   "metadata": {},
   "source": [
    "## Export"
   ]
  },
  {
   "cell_type": "code",
   "execution_count": null,
   "id": "12c41b65-9eb8-4d70-b4fc-05113783e636",
   "metadata": {},
   "outputs": [],
   "source": [
    "#| hide\n",
    "from nbdev import nbdev_export\n",
    "nbdev_export()"
   ]
  }
 ],
 "metadata": {
  "kernelspec": {
   "display_name": "data_science",
   "language": "python",
   "name": "data_science"
  },
  "widgets": {
   "application/vnd.jupyter.widget-state+json": {
    "state": {},
    "version_major": 2,
    "version_minor": 0
   }
  }
 },
 "nbformat": 4,
 "nbformat_minor": 5
}
