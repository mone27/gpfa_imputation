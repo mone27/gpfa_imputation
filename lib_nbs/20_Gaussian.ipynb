{
 "cells": [
  {
   "cell_type": "markdown",
   "id": "db561d06-4f9a-4208-9d2b-4eecbed9d5f2",
   "metadata": {},
   "source": [
    "# Gaussian Distributions Utils\n",
    "> tools to work with gaussian distributions"
   ]
  },
  {
   "cell_type": "code",
   "execution_count": null,
   "id": "d653f259-ff61-423a-9df2-a76806b43bd4",
   "metadata": {},
   "outputs": [],
   "source": [
    "#| hide\n",
    "#| default_exp gaussian"
   ]
  },
  {
   "cell_type": "code",
   "execution_count": null,
   "id": "9ff53fd5-f8e9-476b-b3e6-510e8f00ba98",
   "metadata": {},
   "outputs": [],
   "source": [
    "from fastcore.test import *"
   ]
  },
  {
   "cell_type": "code",
   "execution_count": null,
   "id": "19ef62f7-ce93-4c23-9131-bf3b8d6b01be",
   "metadata": {},
   "outputs": [],
   "source": [
    "import altair as alt"
   ]
  },
  {
   "cell_type": "markdown",
   "id": "4b6052be-4b7f-4ce4-888f-7993a968854f",
   "metadata": {},
   "source": [
    "## Normal Parameters"
   ]
  },
  {
   "cell_type": "code",
   "execution_count": null,
   "id": "b2258941-42a0-4758-9c41-f9e3d98f3a95",
   "metadata": {},
   "outputs": [],
   "source": [
    "#| export\n",
    "from collections import namedtuple\n",
    "from fastcore.basics import patch"
   ]
  },
  {
   "cell_type": "markdown",
   "id": "d8fcce88-e590-4c16-93fe-d699e4707404",
   "metadata": {},
   "source": [
    "### Normal"
   ]
  },
  {
   "cell_type": "code",
   "execution_count": null,
   "id": "30757497-c034-40ab-a82b-aa5044131ff1",
   "metadata": {},
   "outputs": [],
   "source": [
    "import torch"
   ]
  },
  {
   "cell_type": "code",
   "execution_count": null,
   "id": "b4cc15e7-8075-492e-8485-c787ffd37439",
   "metadata": {},
   "outputs": [],
   "source": [
    "#| export\n",
    "ListNormal = namedtuple('ListNormal', ['mean', 'std'])"
   ]
  },
  {
   "cell_type": "code",
   "execution_count": null,
   "id": "b7971df6-3a32-4170-a645-a92fe20a0191",
   "metadata": {},
   "outputs": [],
   "source": [
    "#| export\n",
    "Normal = namedtuple('Normal', ['mean', 'std'])"
   ]
  },
  {
   "cell_type": "code",
   "execution_count": null,
   "id": "85c9cf5b-e990-4fa2-9b3b-b35b3dfca131",
   "metadata": {},
   "outputs": [],
   "source": [
    "#| export\n",
    "@patch\n",
    "def __getitem__(self: ListNormal, n:int\n",
    "           )->Normal:\n",
    "    \"\"\"Get the mean and cov for the nth Normal distribution in the list \"\"\"\n",
    "    return Normal(self.mean[n], self.std[n])"
   ]
  },
  {
   "cell_type": "code",
   "execution_count": null,
   "id": "b85e124b-fb20-4fb7-ba43-5c102f988582",
   "metadata": {},
   "outputs": [],
   "source": [
    "#| export\n",
    "@patch\n",
    "def detach(self: ListNormal)->ListNormal:\n",
    "    \"\"\"Detach both mean and cov at once \"\"\"\n",
    "    return ListNormal(self.mean.detach(), self.std.detach())"
   ]
  },
  {
   "cell_type": "code",
   "execution_count": null,
   "id": "4ada4239-da90-418a-b037-0b4784e2f5ff",
   "metadata": {},
   "outputs": [
    {
     "data": {
      "text/plain": [
       "Normal(mean=tensor(0.7191), std=tensor(0.3329))"
      ]
     },
     "execution_count": null,
     "metadata": {},
     "output_type": "execute_result"
    }
   ],
   "source": [
    "ListNormal(torch.rand(10), torch.rand(10))[1]"
   ]
  },
  {
   "cell_type": "markdown",
   "id": "0f7a2bf8-bb5f-41b9-8135-3cca47338cc7",
   "metadata": {},
   "source": [
    "### Multivariate Normal"
   ]
  },
  {
   "cell_type": "code",
   "execution_count": null,
   "id": "b6fa7b27-afec-41e7-b718-c1981a19ec79",
   "metadata": {},
   "outputs": [],
   "source": [
    "#| export\n",
    "ListMNormal = namedtuple('ListMultiNormal', ['mean', 'cov'])"
   ]
  },
  {
   "cell_type": "code",
   "execution_count": null,
   "id": "aeabc21e-bd9f-412c-bf23-bc38dcaf2d67",
   "metadata": {},
   "outputs": [],
   "source": [
    "#| export\n",
    "MNormal = namedtuple('MultiNormal', ['mean', 'cov'])"
   ]
  },
  {
   "cell_type": "code",
   "execution_count": null,
   "id": "0746ca6e-ba58-496a-ad0d-42cdba514b4a",
   "metadata": {},
   "outputs": [],
   "source": [
    "#| export\n",
    "@patch\n",
    "def __getitem__(self: ListMNormal, n:int\n",
    "           )->Normal:\n",
    "    \"\"\"Get the mean and cov for the nth Normal distribution in the list \"\"\"\n",
    "    return MNormal(self.mean[n], self.cov[n])\n",
    "@patch\n",
    "def __setitem__(self: ListMNormal, idx, value)->Normal:\n",
    "    \"\"\"set the mean and cov for the nth Normal distribution in the list \"\"\"\n",
    "    self.mean[idx], self.cov[idx] = value"
   ]
  },
  {
   "cell_type": "code",
   "execution_count": null,
   "id": "09b7c5d4-1e17-4663-9ccc-51464a8d1e58",
   "metadata": {},
   "outputs": [],
   "source": [
    "#| export\n",
    "@patch\n",
    "def detach(self: ListMNormal)->ListMNormal:\n",
    "    \"\"\"Detach both mean and cov at once \"\"\"\n",
    "    return ListMNormal(self.mean.detach(), self.cov.detach())"
   ]
  },
  {
   "cell_type": "code",
   "execution_count": null,
   "id": "635d5f79-eeb3-4f3a-832f-763ccad5dafa",
   "metadata": {},
   "outputs": [
    {
     "data": {
      "text/plain": [
       "MultiNormal(mean=tensor([0.4603, 0.2562, 0.9757, 0.4384, 0.2227, 0.9217, 0.5756, 0.7677, 0.2445,\n",
       "        0.0505]), cov=tensor([[0.3070, 0.8379, 0.5412, 0.2473, 0.0986, 0.3410, 0.6259, 0.2769, 0.3988,\n",
       "         0.8348],\n",
       "        [0.4373, 0.2388, 0.8108, 0.4122, 0.1916, 0.3167, 0.3724, 0.5700, 0.4922,\n",
       "         0.8885],\n",
       "        [0.1416, 0.7021, 0.0625, 0.8088, 0.5036, 0.2329, 0.9845, 0.4233, 0.0777,\n",
       "         0.2951],\n",
       "        [0.5988, 0.6714, 0.3424, 0.6573, 0.1094, 0.3303, 0.0663, 0.5161, 0.9875,\n",
       "         0.6968],\n",
       "        [0.3469, 0.9743, 0.0018, 0.7009, 0.0562, 0.5635, 0.9524, 0.6972, 0.9011,\n",
       "         0.0044],\n",
       "        [0.5025, 0.3612, 0.4677, 0.9149, 0.2311, 0.7340, 0.7727, 0.5780, 0.6749,\n",
       "         0.8674],\n",
       "        [0.5830, 0.4016, 0.9420, 0.9235, 0.0139, 0.6486, 0.6129, 0.5584, 0.0152,\n",
       "         0.7531],\n",
       "        [0.5737, 0.4675, 0.0965, 0.9241, 0.6210, 0.4801, 0.8736, 0.4575, 0.9544,\n",
       "         0.0306],\n",
       "        [0.9546, 0.1408, 0.1523, 0.0251, 0.5824, 0.2517, 0.5247, 0.2154, 0.8175,\n",
       "         0.7563],\n",
       "        [0.1510, 0.1254, 0.4520, 0.3219, 0.2857, 0.6993, 0.3685, 0.6098, 0.7424,\n",
       "         0.2902]]))"
      ]
     },
     "execution_count": null,
     "metadata": {},
     "output_type": "execute_result"
    }
   ],
   "source": [
    "ListMNormal(torch.rand(2,10), torch.rand(2,10,10))[1]"
   ]
  },
  {
   "cell_type": "markdown",
   "id": "cdc544ed-4507-434e-9827-6bbdbee90ce1",
   "metadata": {},
   "source": [
    "## Positive Definite"
   ]
  },
  {
   "cell_type": "markdown",
   "id": "9b23aa12-f51c-4d74-8453-957f50722804",
   "metadata": {},
   "source": [
    "The covariance matrices need to be [positive definite](https://en.wikipedia.org/wiki/Definite_matrix)\n",
    "Those are utilities functions to check is a matrix is positive definite and to make any matrix positive definite"
   ]
  },
  {
   "cell_type": "markdown",
   "id": "0183b9f2-4571-42e3-9c94-acd4c9aee3a4",
   "metadata": {},
   "source": [
    "#### Other libraries"
   ]
  },
  {
   "cell_type": "markdown",
   "id": "47a92de1-901d-4368-902b-c24cde0cf5b4",
   "metadata": {},
   "source": [
    "Most libraries that implement Kalman Filters use manually specified parameters, which often don't have the issue of the positive definite constraint (eg. `pykalman`)\n",
    "\n",
    "From `statsmodels` statespace models:\n",
    ">Cholesky decomposition [...] requires that the matrix be positive definite. While this\n",
    "          should generally be true, it may not be in every case. [source](https://www.statsmodels.org/stable/generated/statsmodels.tsa.statespace.kalman_filter.KalmanFilter.set_inversion_method.html#statsmodels.tsa.statespace.kalman_filter.KalmanFilter.set_inversion_method)\n",
    "\n",
    "which seems to mean that they take into account the fact that during the filter calculations may not be positive definite\n",
    "\n"
   ]
  },
  {
   "cell_type": "code",
   "execution_count": null,
   "id": "f25a3cb5-5beb-4ebc-b615-4ecc991335f7",
   "metadata": {},
   "outputs": [],
   "source": [
    "#| export\n",
    "import pandas as pd\n",
    "from torch import Tensor"
   ]
  },
  {
   "cell_type": "code",
   "execution_count": null,
   "id": "746bc2a9-5945-486d-b322-7227572217e5",
   "metadata": {},
   "outputs": [],
   "source": [
    "A = torch.rand(2,3,3) # batched random matrix used for testing"
   ]
  },
  {
   "cell_type": "markdown",
   "id": "e710542c-2904-43b0-ac20-c6c911e5b200",
   "metadata": {},
   "source": [
    "#### Symmetry"
   ]
  },
  {
   "cell_type": "code",
   "execution_count": null,
   "id": "f2d49fc6-7528-443d-9f2f-a6e8eca2f402",
   "metadata": {},
   "outputs": [],
   "source": [
    "#| export\n",
    "def is_symmetric(value, atol=1e-5):\n",
    "    return torch.isclose(value, value.mT, atol=atol).all(-1).all(-1)"
   ]
  },
  {
   "cell_type": "code",
   "execution_count": null,
   "id": "ecb1bbfb-84a9-46c4-8b83-3df3fac13038",
   "metadata": {},
   "outputs": [
    {
     "data": {
      "text/plain": [
       "tensor([False, False])"
      ]
     },
     "execution_count": null,
     "metadata": {},
     "output_type": "execute_result"
    }
   ],
   "source": [
    "is_symmetric(A)"
   ]
  },
  {
   "cell_type": "code",
   "execution_count": null,
   "id": "d4007148-6ccb-44df-b5cc-8bb62b0c7881",
   "metadata": {},
   "outputs": [],
   "source": [
    "#| export\n",
    "def symmetric_upto(value, start=-8):\n",
    "    for exp in torch.arange(start, 3):\n",
    "        if is_symmetric(value, atol=10**exp):\n",
    "            return exp.item()\n",
    "    return exp.item()\n",
    "\n",
    "def symmetric_upto_batched(value, start=-8):\n",
    "    return torch.tensor([symmetric_upto(v) for v in value])"
   ]
  },
  {
   "cell_type": "code",
   "execution_count": null,
   "id": "9ab33109-419b-4ee7-9f6e-6984800c23fd",
   "metadata": {},
   "outputs": [
    {
     "data": {
      "text/plain": [
       "tensor([0, 0])"
      ]
     },
     "execution_count": null,
     "metadata": {},
     "output_type": "execute_result"
    }
   ],
   "source": [
    "symmetric_upto_batched(A)"
   ]
  },
  {
   "cell_type": "markdown",
   "id": "f7997394-8c9b-44a6-91c9-14e176db6f49",
   "metadata": {},
   "source": [
    "#### is posdef"
   ]
  },
  {
   "cell_type": "markdown",
   "id": "524f81b2-645b-4b26-9e78-0c805147bbf7",
   "metadata": {},
   "source": [
    "Default pytorch check (uses symmetry + cholesky decomposition)"
   ]
  },
  {
   "cell_type": "code",
   "execution_count": null,
   "id": "5c42898d-229d-4f06-88ba-f7654759b3f8",
   "metadata": {},
   "outputs": [],
   "source": [
    "#| export\n",
    "def is_posdef(cov):\n",
    "    return torch.distributions.constraints.positive_definite.check(cov)"
   ]
  },
  {
   "cell_type": "code",
   "execution_count": null,
   "id": "006aa954-db02-43fe-81fd-c5fd1d067827",
   "metadata": {},
   "outputs": [
    {
     "data": {
      "text/plain": [
       "tensor([False, False])"
      ]
     },
     "execution_count": null,
     "metadata": {},
     "output_type": "execute_result"
    }
   ],
   "source": [
    "is_posdef(A)"
   ]
  },
  {
   "cell_type": "markdown",
   "id": "d731bd6c-3404-47dd-bb9e-55e20d0152a5",
   "metadata": {},
   "source": [
    "check if it is pos definite using eigenvalues. Positive definite matrix have all positive eigenvalues"
   ]
  },
  {
   "cell_type": "code",
   "execution_count": null,
   "id": "574f44cc-fbc0-45b6-a739-5b1ef2ea5567",
   "metadata": {},
   "outputs": [
    {
     "data": {
      "text/plain": [
       "tensor([[-0.6106,  0.1669,  1.1203],\n",
       "        [-0.6198,  0.0409,  1.1183]])"
      ]
     },
     "execution_count": null,
     "metadata": {},
     "output_type": "execute_result"
    }
   ],
   "source": [
    "torch.linalg.eigvalsh(A)"
   ]
  },
  {
   "cell_type": "code",
   "execution_count": null,
   "id": "48d1eec9-41ff-4a30-bed4-31015e54761f",
   "metadata": {},
   "outputs": [],
   "source": [
    "#| export\n",
    "def is_posdef_eigv(cov):\n",
    "    try:\n",
    "        eigv = torch.linalg.eigvalsh(cov)\n",
    "        return eigv.ge(0).all(-1), eigv\n",
    "    except torch._C._LinAlgError:\n",
    "        return torch.tensor(False), torch.tensor(torch.nan)"
   ]
  },
  {
   "cell_type": "code",
   "execution_count": null,
   "id": "a63ca037-3a4e-4d4c-89df-446975ac7550",
   "metadata": {},
   "outputs": [
    {
     "data": {
      "text/plain": [
       "(tensor([False, False]),\n",
       " tensor([[-0.6239,  0.0300,  1.6272],\n",
       "         [-0.8267,  0.0572,  1.2181]]))"
      ]
     },
     "execution_count": null,
     "metadata": {},
     "output_type": "execute_result"
    }
   ],
   "source": [
    "is_posdef_eigv(A)"
   ]
  },
  {
   "cell_type": "markdown",
   "id": "a079a9b4-9437-42b6-a599-dd44421cdfbe",
   "metadata": {},
   "source": [
    "### Pytorch constraint"
   ]
  },
  {
   "cell_type": "markdown",
   "id": "2f7ea674-a6cb-4a8e-8e07-7be024e60adc",
   "metadata": {},
   "source": [
    "Note that `is_posdef` and `is_posdef_eigv` can return different values, in general `is_posdef_eigv` is more tollerant"
   ]
  },
  {
   "cell_type": "markdown",
   "id": "71fbdcfb-b5f9-4cf4-a334-4201f993e490",
   "metadata": {},
   "source": [
    "transform any matrix $A$ into a positive definite matrix ($PD$) using the following formula\n",
    "\n",
    "$PD = AA^T + aI$ \n",
    "\n",
    "where $AA^T$ is a positive semi-definite matrix and $a$ is a small positive number that is added on the diagonal to ensure that the resulting matrix is positive definite (not semi-definite)\n",
    "\n",
    "the inverse transformation uses cholesky decomposition\n",
    "\n",
    "\n",
    "Another approach would be to multiple to lower triangular matrix, but they'd require a positive diagonal, which is harderd to obtain see [https://en.wikipedia.org/wiki/Definite_matrix#Cholesky_decomposition](https://en.wikipedia.org/wiki/Definite_matrix#Cholesky_decomposition)\n",
    "\n",
    "The API inspired by gpytorch constraints"
   ]
  },
  {
   "cell_type": "code",
   "execution_count": null,
   "id": "303e0cf9-eb63-49e0-b2e6-2425ba0b3206",
   "metadata": {},
   "outputs": [],
   "source": [
    "#| export\n",
    "from fastcore.foundation import docs\n",
    "from fastcore.basics import store_attr"
   ]
  },
  {
   "cell_type": "code",
   "execution_count": null,
   "id": "90876b7e-932b-4053-a2da-00ac7194db47",
   "metadata": {},
   "outputs": [],
   "source": [
    "from meteo_imp.utils import *"
   ]
  },
  {
   "cell_type": "code",
   "execution_count": null,
   "id": "592ac59f-6383-451e-a0c1-85aecea8f0d6",
   "metadata": {},
   "outputs": [],
   "source": [
    "#| export\n",
    "@docs\n",
    "class PosDef(): \n",
    "    def __init__(self, noise=1e-5): store_attr()\n",
    "    def transform(self,raw): return raw @ raw.mT + self.noise * torch.eye(raw.shape[-1], device=raw.device, dtype=raw.dtype)\n",
    "    def inverse_transform(self, value): return torch.linalg.cholesky(value)\n",
    "    \n",
    "    _docs = {'cls_doc': \"Positive Definite Constraint for PyTorch parameters\",\n",
    "             'transform':\"transform any square matrix into a positive definite one\",\n",
    "             'inverse_transform': \"tranform positive definite matrix into a matrix that can be back_transformed using `transform`\"}\n",
    "\n",
    "to_posdef = PosDef().transform"
   ]
  },
  {
   "cell_type": "code",
   "execution_count": null,
   "id": "a5b019e8-8be4-4b79-bcb1-d05439616f71",
   "metadata": {},
   "outputs": [],
   "source": [
    "constraint = PosDef()\n",
    "\n",
    "posdef = constraint.transform(A)"
   ]
  },
  {
   "cell_type": "code",
   "execution_count": null,
   "id": "ef997e87-f0bb-4456-88fa-255e538ae2f0",
   "metadata": {},
   "outputs": [
    {
     "data": {
      "text/plain": [
       "1e-05"
      ]
     },
     "execution_count": null,
     "metadata": {},
     "output_type": "execute_result"
    }
   ],
   "source": [
    "constraint.noise"
   ]
  },
  {
   "cell_type": "code",
   "execution_count": null,
   "id": "70cadac3-318d-4c0f-b603-a9b4c1088b17",
   "metadata": {},
   "outputs": [
    {
     "data": {
      "text/plain": [
       "tensor([[[0.7120, 0.4982, 0.9647],\n",
       "         [0.6660, 0.1624, 0.1867],\n",
       "         [0.8817, 0.1374, 0.1590]],\n",
       "\n",
       "        [[0.3167, 0.3531, 0.2127],\n",
       "         [0.9612, 0.0621, 0.5501],\n",
       "         [0.0620, 0.3209, 0.0697]]])"
      ]
     },
     "execution_count": null,
     "metadata": {},
     "output_type": "execute_result"
    }
   ],
   "source": [
    "A"
   ]
  },
  {
   "cell_type": "code",
   "execution_count": null,
   "id": "1286cd59-83d6-415e-a044-96297de2a1f7",
   "metadata": {},
   "outputs": [
    {
     "data": {
      "text/plain": [
       "tensor([[[1.6858, 0.7352, 0.8495],\n",
       "         [0.7352, 0.5048, 0.6392],\n",
       "         [0.8495, 0.6392, 0.8215]],\n",
       "\n",
       "        [[0.2703, 0.4434, 0.1478],\n",
       "         [0.4434, 1.2303, 0.1179],\n",
       "         [0.1478, 0.1179, 0.1117]]])"
      ]
     },
     "execution_count": null,
     "metadata": {},
     "output_type": "execute_result"
    }
   ],
   "source": [
    "posdef"
   ]
  },
  {
   "cell_type": "code",
   "execution_count": null,
   "id": "7e0ce3c3-4299-4e64-afa8-de6b9be5a5fa",
   "metadata": {},
   "outputs": [
    {
     "data": {
      "text/html": [
       "<div style=\"display: flex; column-gap: 20px; flex-wrap: wrap;\" class='table table-striped table-sm'> <div><p style='font-size: 1.2rem;'>#0</p> <pre>tensor([[ True,  True],\n",
       "        [False, False]])</pre> </div><div><p style='font-size: 1.2rem;'>#1</p> <pre>(tensor([[ True,  True],\n",
       "        [False, False]]), tensor([[[ 4.3795e-04,  3.7046e-01,  2.6412e+00],\n",
       "         [ 1.6886e-05,  1.8801e-01,  1.4242e+00]],\n",
       "\n",
       "        [[-6.2390e-01,  2.9978e-02,  1.6272e+00],\n",
       "         [-8.2671e-01,  5.7246e-02,  1.2181e+00]]]))</pre> </div><div><p style='font-size: 1.2rem;'>#2</p> <pre>tensor([[ True,  True],\n",
       "        [False, False]])</pre> </div></div>"
      ],
      "text/plain": [
       "<IPython.core.display.HTML object>"
      ]
     },
     "metadata": {},
     "output_type": "display_data"
    }
   ],
   "source": [
    "show_as_row(is_posdef(torch.stack([posdef,A])), is_posdef_eigv(torch.stack([posdef,A])), is_symmetric(torch.stack([posdef,A])))"
   ]
  },
  {
   "cell_type": "code",
   "execution_count": null,
   "id": "b22bcc0d-2a72-42ea-90fc-03c501a31c1d",
   "metadata": {},
   "outputs": [],
   "source": [
    "test_eq(is_posdef(posdef).all(), True)"
   ]
  },
  {
   "cell_type": "code",
   "execution_count": null,
   "id": "71698826-ba86-4033-8dc5-2c8ce2985076",
   "metadata": {},
   "outputs": [
    {
     "data": {
      "text/plain": [
       "tensor([[[ 1.2984,  0.0000,  0.0000],\n",
       "         [ 0.5662,  0.4292,  0.0000],\n",
       "         [ 0.6543,  0.6261,  0.0372]],\n",
       "\n",
       "        [[ 0.5199,  0.0000,  0.0000],\n",
       "         [ 0.8528,  0.7092,  0.0000],\n",
       "         [ 0.2843, -0.1756,  0.0058]]])"
      ]
     },
     "execution_count": null,
     "metadata": {},
     "output_type": "execute_result"
    }
   ],
   "source": [
    "constraint.inverse_transform(posdef)"
   ]
  },
  {
   "cell_type": "code",
   "execution_count": null,
   "id": "9ec8fa94-ae91-4092-b16c-fd5da27a2f26",
   "metadata": {},
   "outputs": [],
   "source": [
    "test_close(posdef, constraint.transform(constraint.inverse_transform(posdef)), eps=2e-5)"
   ]
  },
  {
   "cell_type": "code",
   "execution_count": null,
   "id": "6a509720-fbef-42d6-aefe-89049c989c1a",
   "metadata": {},
   "outputs": [
    {
     "data": {
      "text/plain": [
       "-8"
      ]
     },
     "execution_count": null,
     "metadata": {},
     "output_type": "execute_result"
    }
   ],
   "source": [
    "symmetric_upto(posdef[0])"
   ]
  },
  {
   "cell_type": "code",
   "execution_count": null,
   "id": "e43cf917-6b01-4c0e-8b3e-a58ca4439e09",
   "metadata": {},
   "outputs": [],
   "source": [
    "reset_seed()"
   ]
  },
  {
   "cell_type": "markdown",
   "id": "b142782e-0349-42ec-947c-52090cc70244",
   "metadata": {},
   "source": [
    "### Fuzzer"
   ]
  },
  {
   "cell_type": "code",
   "execution_count": null,
   "id": "060caa8d-afea-4c35-998d-fd25c28303c5",
   "metadata": {},
   "outputs": [],
   "source": [
    "run_fuzzer = True # temporly disable for performance reasons"
   ]
  },
  {
   "cell_type": "code",
   "execution_count": null,
   "id": "8287758e-2485-412c-8fe3-defb4e6c30f8",
   "metadata": {},
   "outputs": [],
   "source": [
    "def random_posdef(bs=10,n=100,noise=1e-5,n_range=(0,1), **kwargs):\n",
    "    A = torch.rand(bs,n,n, **kwargs)  * (n_range[1]-n_range[0]) + n_range[0]\n",
    "    return PosDef(noise).transform(A)"
   ]
  },
  {
   "cell_type": "code",
   "execution_count": null,
   "id": "06ddcbdc-a18e-4420-9ce8-dc7a713d60e5",
   "metadata": {},
   "outputs": [],
   "source": [
    "# fuzzer\n",
    "def fuzz_posdef(bs=10,n=100,noise=1e-5,n_range=(0,1), **kwargs):\n",
    "    posdef = random_posdef(bs, n, noise, **kwargs)\n",
    "    return pd.DataFrame(\n",
    "        {'n': [n], 'noise': f\"{noise:.0e}\", 'range': str(n_range), 'n_samples': bs,\n",
    "         'posdef': is_posdef(posdef).sum().item() / bs,\n",
    "         'sym': is_symmetric(posdef).sum().item() / bs, \n",
    "         'posdef_eigv': is_posdef_eigv(posdef)[0].sum().item() / bs\n",
    "    })"
   ]
  },
  {
   "cell_type": "code",
   "execution_count": null,
   "id": "24629c37-72e1-42ee-9a94-acd37d8572ae",
   "metadata": {},
   "outputs": [
    {
     "data": {
      "text/html": [
       "<div>\n",
       "<style scoped>\n",
       "    .dataframe tbody tr th:only-of-type {\n",
       "        vertical-align: middle;\n",
       "    }\n",
       "\n",
       "    .dataframe tbody tr th {\n",
       "        vertical-align: top;\n",
       "    }\n",
       "\n",
       "    .dataframe thead th {\n",
       "        text-align: right;\n",
       "    }\n",
       "</style>\n",
       "<table border=\"1\" class=\"dataframe\">\n",
       "  <thead>\n",
       "    <tr style=\"text-align: right;\">\n",
       "      <th></th>\n",
       "      <th>n</th>\n",
       "      <th>noise</th>\n",
       "      <th>range</th>\n",
       "      <th>n_samples</th>\n",
       "      <th>posdef</th>\n",
       "      <th>sym</th>\n",
       "      <th>posdef_eigv</th>\n",
       "    </tr>\n",
       "  </thead>\n",
       "  <tbody>\n",
       "    <tr>\n",
       "      <th>0</th>\n",
       "      <td>100</td>\n",
       "      <td>1e-05</td>\n",
       "      <td>(0, 1)</td>\n",
       "      <td>10</td>\n",
       "      <td>1.0</td>\n",
       "      <td>1.0</td>\n",
       "      <td>1.0</td>\n",
       "    </tr>\n",
       "  </tbody>\n",
       "</table>\n",
       "</div>"
      ],
      "text/plain": [
       "     n  noise   range  n_samples  posdef  sym  posdef_eigv\n",
       "0  100  1e-05  (0, 1)         10     1.0  1.0          1.0"
      ]
     },
     "execution_count": null,
     "metadata": {},
     "output_type": "execute_result"
    }
   ],
   "source": [
    "fuzz_posdef()"
   ]
  },
  {
   "cell_type": "code",
   "execution_count": null,
   "id": "1a6bfbbc-b739-46bf-810f-dafb48538369",
   "metadata": {},
   "outputs": [],
   "source": [
    "n_min, n_max = -1, 1\n",
    "A = torch.rand(2,100,100)  * (n_max-n_min) + n_min"
   ]
  },
  {
   "cell_type": "code",
   "execution_count": null,
   "id": "8306aa34-1887-4082-95c7-7462705a33a9",
   "metadata": {},
   "outputs": [
    {
     "data": {
      "text/plain": [
       "tensor([True, True])"
      ]
     },
     "execution_count": null,
     "metadata": {},
     "output_type": "execute_result"
    }
   ],
   "source": [
    "is_posdef(to_posdef(A))"
   ]
  },
  {
   "cell_type": "code",
   "execution_count": null,
   "id": "d4804a9d-b7a2-44a5-8058-014c9fe5b487",
   "metadata": {},
   "outputs": [],
   "source": [
    "ma = torch.tensor([[1, 7],\n",
    "                   [-3, 4]])"
   ]
  },
  {
   "cell_type": "code",
   "execution_count": null,
   "id": "00559b80-7766-4930-82ca-d69b5d83b3ae",
   "metadata": {},
   "outputs": [
    {
     "data": {
      "text/plain": [
       "tensor(True)"
      ]
     },
     "execution_count": null,
     "metadata": {},
     "output_type": "execute_result"
    }
   ],
   "source": [
    "is_posdef(to_posdef(ma))"
   ]
  },
  {
   "cell_type": "code",
   "execution_count": null,
   "id": "40d5f410-3494-4916-aae9-b3d5fc0eab7d",
   "metadata": {},
   "outputs": [
    {
     "ename": "KeyboardInterrupt",
     "evalue": "",
     "output_type": "error",
     "traceback": [
      "\u001b[0;31m---------------------------------------------------------------------------\u001b[0m",
      "\u001b[0;31mKeyboardInterrupt\u001b[0m                         Traceback (most recent call last)",
      "Input \u001b[0;32mIn [48]\u001b[0m, in \u001b[0;36m<cell line: 1>\u001b[0;34m()\u001b[0m\n\u001b[0;32m----> 1\u001b[0m \u001b[43mfuzz_posdef\u001b[49m\u001b[43m(\u001b[49m\u001b[43mdevice\u001b[49m\u001b[38;5;241;43m=\u001b[39;49m\u001b[38;5;124;43m'\u001b[39;49m\u001b[38;5;124;43mcuda\u001b[39;49m\u001b[38;5;124;43m'\u001b[39;49m\u001b[43m)\u001b[49m\n",
      "Input \u001b[0;32mIn [42]\u001b[0m, in \u001b[0;36mfuzz_posdef\u001b[0;34m(bs, n, noise, n_range, **kwargs)\u001b[0m\n\u001b[1;32m      2\u001b[0m \u001b[38;5;28;01mdef\u001b[39;00m \u001b[38;5;21mfuzz_posdef\u001b[39m(bs\u001b[38;5;241m=\u001b[39m\u001b[38;5;241m10\u001b[39m,n\u001b[38;5;241m=\u001b[39m\u001b[38;5;241m100\u001b[39m,noise\u001b[38;5;241m=\u001b[39m\u001b[38;5;241m1e-5\u001b[39m,n_range\u001b[38;5;241m=\u001b[39m(\u001b[38;5;241m0\u001b[39m,\u001b[38;5;241m1\u001b[39m), \u001b[38;5;241m*\u001b[39m\u001b[38;5;241m*\u001b[39mkwargs):\n\u001b[0;32m----> 3\u001b[0m     posdef \u001b[38;5;241m=\u001b[39m \u001b[43mrandom_posdef\u001b[49m\u001b[43m(\u001b[49m\u001b[43mbs\u001b[49m\u001b[43m,\u001b[49m\u001b[43m \u001b[49m\u001b[43mn\u001b[49m\u001b[43m,\u001b[49m\u001b[43m \u001b[49m\u001b[43mnoise\u001b[49m\u001b[43m,\u001b[49m\u001b[43m \u001b[49m\u001b[38;5;241;43m*\u001b[39;49m\u001b[38;5;241;43m*\u001b[39;49m\u001b[43mkwargs\u001b[49m\u001b[43m)\u001b[49m\n\u001b[1;32m      4\u001b[0m     \u001b[38;5;28;01mreturn\u001b[39;00m pd\u001b[38;5;241m.\u001b[39mDataFrame(\n\u001b[1;32m      5\u001b[0m         {\u001b[38;5;124m'\u001b[39m\u001b[38;5;124mn\u001b[39m\u001b[38;5;124m'\u001b[39m: [n], \u001b[38;5;124m'\u001b[39m\u001b[38;5;124mnoise\u001b[39m\u001b[38;5;124m'\u001b[39m: \u001b[38;5;124mf\u001b[39m\u001b[38;5;124m\"\u001b[39m\u001b[38;5;132;01m{\u001b[39;00mnoise\u001b[38;5;132;01m:\u001b[39;00m\u001b[38;5;124m.0e\u001b[39m\u001b[38;5;132;01m}\u001b[39;00m\u001b[38;5;124m\"\u001b[39m, \u001b[38;5;124m'\u001b[39m\u001b[38;5;124mrange\u001b[39m\u001b[38;5;124m'\u001b[39m: \u001b[38;5;28mstr\u001b[39m(n_range), \u001b[38;5;124m'\u001b[39m\u001b[38;5;124mn_samples\u001b[39m\u001b[38;5;124m'\u001b[39m: bs,\n\u001b[1;32m      6\u001b[0m          \u001b[38;5;124m'\u001b[39m\u001b[38;5;124mposdef\u001b[39m\u001b[38;5;124m'\u001b[39m: is_posdef(posdef)\u001b[38;5;241m.\u001b[39msum()\u001b[38;5;241m.\u001b[39mitem() \u001b[38;5;241m/\u001b[39m bs,\n\u001b[1;32m      7\u001b[0m          \u001b[38;5;124m'\u001b[39m\u001b[38;5;124msym\u001b[39m\u001b[38;5;124m'\u001b[39m: is_symmetric(posdef)\u001b[38;5;241m.\u001b[39msum()\u001b[38;5;241m.\u001b[39mitem() \u001b[38;5;241m/\u001b[39m bs, \n\u001b[1;32m      8\u001b[0m          \u001b[38;5;124m'\u001b[39m\u001b[38;5;124mposdef_eigv\u001b[39m\u001b[38;5;124m'\u001b[39m: is_posdef_eigv(posdef)[\u001b[38;5;241m0\u001b[39m]\u001b[38;5;241m.\u001b[39msum()\u001b[38;5;241m.\u001b[39mitem() \u001b[38;5;241m/\u001b[39m bs\n\u001b[1;32m      9\u001b[0m     })\n",
      "Input \u001b[0;32mIn [41]\u001b[0m, in \u001b[0;36mrandom_posdef\u001b[0;34m(bs, n, noise, n_range, **kwargs)\u001b[0m\n\u001b[1;32m      1\u001b[0m \u001b[38;5;28;01mdef\u001b[39;00m \u001b[38;5;21mrandom_posdef\u001b[39m(bs\u001b[38;5;241m=\u001b[39m\u001b[38;5;241m10\u001b[39m,n\u001b[38;5;241m=\u001b[39m\u001b[38;5;241m100\u001b[39m,noise\u001b[38;5;241m=\u001b[39m\u001b[38;5;241m1e-5\u001b[39m,n_range\u001b[38;5;241m=\u001b[39m(\u001b[38;5;241m0\u001b[39m,\u001b[38;5;241m1\u001b[39m), \u001b[38;5;241m*\u001b[39m\u001b[38;5;241m*\u001b[39mkwargs):\n\u001b[1;32m      2\u001b[0m     A \u001b[38;5;241m=\u001b[39m torch\u001b[38;5;241m.\u001b[39mrand(bs,n,n, \u001b[38;5;241m*\u001b[39m\u001b[38;5;241m*\u001b[39mkwargs)  \u001b[38;5;241m*\u001b[39m (n_range[\u001b[38;5;241m1\u001b[39m]\u001b[38;5;241m-\u001b[39mn_range[\u001b[38;5;241m0\u001b[39m]) \u001b[38;5;241m+\u001b[39m n_range[\u001b[38;5;241m0\u001b[39m]\n\u001b[0;32m----> 3\u001b[0m     \u001b[38;5;28;01mreturn\u001b[39;00m \u001b[43mPosDef\u001b[49m\u001b[43m(\u001b[49m\u001b[43mnoise\u001b[49m\u001b[43m)\u001b[49m\u001b[38;5;241;43m.\u001b[39;49m\u001b[43mtransform\u001b[49m\u001b[43m(\u001b[49m\u001b[43mA\u001b[49m\u001b[43m)\u001b[49m\n",
      "Input \u001b[0;32mIn [29]\u001b[0m, in \u001b[0;36mPosDef.transform\u001b[0;34m(self, raw)\u001b[0m\n\u001b[0;32m----> 5\u001b[0m \u001b[38;5;28;01mdef\u001b[39;00m \u001b[38;5;21mtransform\u001b[39m(\u001b[38;5;28mself\u001b[39m,raw): \u001b[38;5;28;01mreturn\u001b[39;00m raw \u001b[38;5;241m@\u001b[39m raw\u001b[38;5;241m.\u001b[39mmT \u001b[38;5;241m+\u001b[39m \u001b[38;5;28mself\u001b[39m\u001b[38;5;241m.\u001b[39mnoise \u001b[38;5;241m*\u001b[39m \u001b[43mtorch\u001b[49m\u001b[38;5;241;43m.\u001b[39;49m\u001b[43meye\u001b[49m\u001b[43m(\u001b[49m\u001b[43mraw\u001b[49m\u001b[38;5;241;43m.\u001b[39;49m\u001b[43mshape\u001b[49m\u001b[43m[\u001b[49m\u001b[38;5;241;43m-\u001b[39;49m\u001b[38;5;241;43m1\u001b[39;49m\u001b[43m]\u001b[49m\u001b[43m,\u001b[49m\u001b[43m \u001b[49m\u001b[43mdevice\u001b[49m\u001b[38;5;241;43m=\u001b[39;49m\u001b[43mraw\u001b[49m\u001b[38;5;241;43m.\u001b[39;49m\u001b[43mdevice\u001b[49m\u001b[43m,\u001b[49m\u001b[43m \u001b[49m\u001b[43mdtype\u001b[49m\u001b[38;5;241;43m=\u001b[39;49m\u001b[43mraw\u001b[49m\u001b[38;5;241;43m.\u001b[39;49m\u001b[43mdtype\u001b[49m\u001b[43m)\u001b[49m\n",
      "\u001b[0;31mKeyboardInterrupt\u001b[0m: "
     ]
    }
   ],
   "source": [
    "fuzz_posdef(device='cuda')"
   ]
  },
  {
   "cell_type": "code",
   "execution_count": null,
   "id": "c4c6879d-b247-4ba2-be64-6ff2b1276972",
   "metadata": {},
   "outputs": [],
   "source": [
    "# %time fuzz_posdef(bs=100, device='cuda')"
   ]
  },
  {
   "cell_type": "code",
   "execution_count": null,
   "id": "f02d6f9a-2acc-44d4-ba21-b56812e30664",
   "metadata": {},
   "outputs": [],
   "source": [
    "rate_posdef = pd.concat([fuzz_posdef(n=n, noise=noise, bs=100, n_range=n_range, device='cuda') \n",
    "               for n in [10, 100]\n",
    "               for noise in [1e-2, 1e-5, 1e-7]\n",
    "               for n_range in [(-1,1),(0,1)]])"
   ]
  },
  {
   "cell_type": "code",
   "execution_count": null,
   "id": "a28de030-790d-470c-a6e9-a4317ec1823f",
   "metadata": {},
   "outputs": [],
   "source": [
    "import altair as alt\n",
    "from altair import datum"
   ]
  },
  {
   "cell_type": "code",
   "execution_count": null,
   "id": "2620c43a-732c-429f-ab01-bfa3751528eb",
   "metadata": {},
   "outputs": [],
   "source": [
    "rate_posdef.head()"
   ]
  },
  {
   "cell_type": "code",
   "execution_count": null,
   "id": "e571117f-5f32-4eba-a1d6-ade0dbf2147d",
   "metadata": {},
   "outputs": [],
   "source": [
    "def _plot_var(df, var, x='n:N', row='range', column='noise:N', y_domain=(0,1), height=70, width=50):\n",
    "    bar = alt.Chart(df).mark_bar().encode(\n",
    "        x = alt.X('n:N'),\n",
    "        y = alt.Y(var, scale=alt.Scale(domain=y_domain)),\n",
    "        color = 'n:N',\n",
    "    ).properties(height=height, width=width, ) \n",
    "    \n",
    "    text = alt.Chart(df).mark_text(dy=10, color='white').encode(\n",
    "        x = alt.X('n:N'),\n",
    "        y = alt.Y(var),\n",
    "        text = alt.Text(var, format=\".2f\")\n",
    "    )\n",
    "    \n",
    "    return (bar + text).facet(\n",
    "        column=column,\n",
    "        row=row).properties(title=var, )\n",
    "    "
   ]
  },
  {
   "cell_type": "code",
   "execution_count": null,
   "id": "be6af11a-0524-4037-aa1a-b42fb3ff3339",
   "metadata": {},
   "outputs": [],
   "source": [
    "def _plot_var_box(df, var, x='n:N', row='range', column='noise:N', height=70, width=50, title=''):\n",
    "    box = alt.Chart(df).mark_boxplot().encode(\n",
    "        x = alt.X(x),\n",
    "        y = alt.Y(var),\n",
    "        color = x,\n",
    "    ).properties(height=height, width=width) \n",
    "\n",
    "    # text = alt.Chart(df).mark_text(dy=10, color='white').encode(\n",
    "    #     x = alt.X('n:N'),\n",
    "    #     y = alt.Y(var),\n",
    "    #     text = alt.Text(var, format=\".2f\")\n",
    "    # )\n",
    "    \n",
    "    return (box).facet(\n",
    "        column=column,\n",
    "        row=row).properties(title=title)\n"
   ]
  },
  {
   "cell_type": "code",
   "execution_count": null,
   "id": "b71d58a7-d96a-4e12-9840-2ad6bd2d2070",
   "metadata": {},
   "outputs": [],
   "source": [
    "from IPython import display\n",
    "import vl_convert as vlc\n",
    "from functools import partial"
   ]
  },
  {
   "cell_type": "markdown",
   "id": "90d36eec-460f-45fb-abe1-d7de2cc63b32",
   "metadata": {},
   "source": [
    "#### Generation of Random positive definite matrices "
   ]
  },
  {
   "cell_type": "code",
   "execution_count": null,
   "id": "0bc00e33-7144-48f7-8e0b-57011722349d",
   "metadata": {},
   "outputs": [],
   "source": [
    "def plot_posdef_simulation(n_s, noise_s, range_s, bs=100, **kwargs):\n",
    "    if not run_fuzzer: return\n",
    "    rate_posdef = pd.concat([fuzz_posdef(n=n, noise=noise, bs=bs, n_range=range, device='cuda', **kwargs) \n",
    "               for n in n_s for noise in noise_s for range in range_s])\n",
    "    \n",
    "    vl_spec = alt.hconcat(*[_plot_var(rate_posdef, var) for var in ['posdef', 'posdef_eigv']]).to_json()\n",
    "    # workaround for bug in vegalite see https://github.com/altair-viz/altair/issues/2742\n",
    "    svg = vlc.vegalite_to_svg(vl_spec, vl_version='v5.3')\n",
    "    display.display(display.HTML(svg))"
   ]
  },
  {
   "cell_type": "code",
   "execution_count": null,
   "id": "0e99a4f3-7920-46cb-8f63-7fcaa5c2c5fb",
   "metadata": {},
   "outputs": [],
   "source": [
    "plot_posdef_simulation(n_s = [10, 100], noise_s = [1e-2, 1e-5, 1e-7], range_s = [(-1, 1)], bs=1000)"
   ]
  },
  {
   "cell_type": "markdown",
   "id": "4d78d9e8-c90f-4e68-b7cc-68abeefc0aa2",
   "metadata": {},
   "source": [
    "Let's go big by using a matrix `1000x1000`"
   ]
  },
  {
   "cell_type": "code",
   "execution_count": null,
   "id": "ccdf14a2-44c1-4c14-9930-03ab8e6589b1",
   "metadata": {},
   "outputs": [],
   "source": [
    "plot_posdef_simulation(n_s = [1000], noise_s = [1e-3, 1e-4, 1e-5], range_s = [(-.1, 1)], bs=100)"
   ]
  },
  {
   "cell_type": "markdown",
   "id": "048a9025-1eb5-4a77-b2c1-65f4ccd85879",
   "metadata": {},
   "source": [
    "for a standard noise on the diagonal less than half of the random matrices that are 1000 in size are positive definite.\n",
    "\n",
    "Let's have a look at one of such matrices"
   ]
  },
  {
   "cell_type": "code",
   "execution_count": null,
   "id": "cbc4ca82-51e9-4fbe-8b79-44a35e06c58c",
   "metadata": {},
   "outputs": [],
   "source": [
    "posdef = random_posdef(100, 1000)\n",
    "not_pd = posdef[torch.argwhere(~is_posdef_eigv(posdef)[0])[0]]"
   ]
  },
  {
   "cell_type": "markdown",
   "id": "7b8eddae-0c95-404d-bfef-c00e37ea5833",
   "metadata": {},
   "source": [
    "This should be positive definite but actually it's not ..."
   ]
  },
  {
   "cell_type": "code",
   "execution_count": null,
   "id": "443e4c05-c0d0-4f4e-81fc-c46202690070",
   "metadata": {},
   "outputs": [],
   "source": [
    "not_pd"
   ]
  },
  {
   "cell_type": "markdown",
   "id": "6f53a294-3e76-4d03-ac24-974f65690989",
   "metadata": {},
   "source": [
    "trying with `float64` (for memory constraint on the GPU only using a `700x700` matrix)"
   ]
  },
  {
   "cell_type": "code",
   "execution_count": null,
   "id": "94f869aa-7f49-4585-8988-1bb0879d2d70",
   "metadata": {},
   "outputs": [],
   "source": [
    "plot_posdef_simulation(n_s = [700], noise_s = [1e-3, 1e-4, 1e-5], range_s = [(-.1, 1)], bs=100)"
   ]
  },
  {
   "cell_type": "code",
   "execution_count": null,
   "id": "07dbda42-2bd4-4d39-9bbf-21214158045b",
   "metadata": {},
   "outputs": [],
   "source": [
    "plot_posdef_simulation(n_s = [700], noise_s = [1e-4, 1e-5], range_s = [(-.1, 1)], bs=100, dtype=torch.float64)"
   ]
  },
  {
   "cell_type": "markdown",
   "id": "35c2ba82-c6e1-4b22-afe8-73f4e5e8770c",
   "metadata": {},
   "source": [
    "All matrices now are positive definite"
   ]
  },
  {
   "cell_type": "markdown",
   "id": "9d48fc97-1307-4739-ac5e-b7027e69c131",
   "metadata": {},
   "source": [
    "#### Multiplication"
   ]
  },
  {
   "cell_type": "markdown",
   "id": "e9815c56-0c4b-4091-a687-6441c8d1f699",
   "metadata": {},
   "source": [
    "check is multiplication of matrices is not breaking the positive definite constraint\n",
    "\n",
    "If $A$ and $B$ are both positive definite matrices $ABA$ is also positive definite\n",
    "[https://en.wikipedia.org/wiki/Definite_matrix#Multiplication](https://en.wikipedia.org/wiki/Definite_matrix#Multiplication)"
   ]
  },
  {
   "cell_type": "code",
   "execution_count": null,
   "id": "1114b967-94c3-4f71-982b-f6e1542c2e09",
   "metadata": {},
   "outputs": [],
   "source": [
    "def fuzz_op(op, # operation that takes 2 pos def matrices and return one pos def matrix\n",
    "            fn_check = is_posdef,\n",
    "                  n=100, # size of matrix\n",
    "                  max_t=1000, # number of multiplications\n",
    "                  noise=1e-5, # noise to add on diagonal\n",
    "                  bs=10, # batch size\n",
    "                  n_range=(0,1), # range of random numbers\n",
    "                  **kwargs):\n",
    "    pd1 = random_posdef(bs, n, noise, n_range, **kwargs)\n",
    "    pd2 = random_posdef(bs, n, noise, n_range,**kwargs)\n",
    "    stop_times = torch.zeros(bs, **kwargs)\n",
    "    \n",
    "    for t in torch.arange(max_t):\n",
    "        pd1 = op(pd1, pd2)\n",
    "        check = fn_check(pd1)\n",
    "        stop_times[torch.logical_and(stop_times == 0, ~check)] = t\n",
    "        if not check.any(): break\n",
    "         \n",
    "    stop_times[stop_times == 0] = t\n",
    "    return pd.DataFrame(\n",
    "        {'n': [n], 'noise': f\"{noise:.0e}\", 'range': str(n_range), 'n_samples': bs, 'last_t': t.item(),\n",
    "         'mean_stop': stop_times.mean().item(),\n",
    "         'std_stop': stop_times.std().item(),\n",
    "         'stop_times': [stop_times.cpu().numpy()]})"
   ]
  },
  {
   "cell_type": "code",
   "execution_count": null,
   "id": "f5793ab8-8265-43c0-9add-586ab05bd382",
   "metadata": {},
   "outputs": [],
   "source": [
    "fuzz_multiply = partial(fuzz_op, lambda pd1, pd2: pd2 @ pd1 @ pd2)\n",
    "fuzz_multiply_eigv = partial(fuzz_multiply, fn_check = lambda pd1: is_posdef_eigv(pd1)[0])"
   ]
  },
  {
   "cell_type": "code",
   "execution_count": null,
   "id": "42b8fed4-a73b-467c-aae9-f817c7634700",
   "metadata": {},
   "outputs": [],
   "source": [
    "def plot_multiply_simulation(n_s, noise_s, max_mult=1000, bs=100, **kwargs):\n",
    "    mult = pd.concat([fuzz_multiply(n=n, noise=noise, bs=bs, device='cuda', **kwargs) \n",
    "               for n in n_s for noise in noise_s]).explode('stop_times')\n",
    "    \n",
    "    mult_eigv = pd.concat([fuzz_multiply(n=n, noise=noise, bs=bs, device='cuda', **kwargs) \n",
    "               for n in n_s for noise in noise_s]).explode('stop_times')\n",
    "    \n",
    "    vl_spec = alt.hconcat(*[_plot_var_box(df, 'stop_times') for df in [mult, mult_eigv]]).to_json()\n",
    "    # workaround for bug in vegalite see https://github.com/altair-viz/altair/issues/2742\n",
    "    svg = vlc.vegalite_to_svg(vl_spec, vl_version='v5.3')\n",
    "    display.display(display.HTML(svg))\n",
    "    return (mult, mult_eigv)"
   ]
  },
  {
   "cell_type": "code",
   "execution_count": null,
   "id": "b7ea0a4e-b77e-4ba2-84b0-90efdb81359f",
   "metadata": {},
   "outputs": [],
   "source": [
    "plot_multiply_simulation(n_s=[2,3,10, 100], noise_s=[1e-3, 1e-4, 1e-5], bs=100);"
   ]
  },
  {
   "cell_type": "markdown",
   "id": "89d89f8c-79f0-4e49-b7d4-2930448713fe",
   "metadata": {},
   "source": [
    "#### Addition"
   ]
  },
  {
   "cell_type": "markdown",
   "id": "697c23fe-119f-4ca1-b298-63d605f75f2b",
   "metadata": {},
   "source": [
    "check is multiplication of matrices is not breaking the positive definite constraint\n",
    "\n",
    "If $A$ and $B$ are both positive definite matrices $A+B$ is also positive definite\n",
    "[https://en.wikipedia.org/wiki/Definite_matrix#Addition](https://en.wikipedia.org/wiki/Definite_matrix#Addition)"
   ]
  },
  {
   "cell_type": "code",
   "execution_count": null,
   "id": "9f04cf5f-86b6-444a-a0da-7d329b58b4cf",
   "metadata": {},
   "outputs": [],
   "source": [
    "pd1 = random_posdef(10, 100)\n",
    "pd2 = random_posdef(10, 100)"
   ]
  },
  {
   "cell_type": "code",
   "execution_count": null,
   "id": "2334f19b-096b-490e-9770-978e9b3f02f9",
   "metadata": {},
   "outputs": [],
   "source": [
    "is_posdef(pd1 + pd2).all()"
   ]
  },
  {
   "cell_type": "code",
   "execution_count": null,
   "id": "208f2386-894e-47aa-87e3-627d40e61762",
   "metadata": {},
   "outputs": [],
   "source": [
    "fuzz_add = partial(fuzz_op, lambda pd1, pd2: pd1 + pd2)"
   ]
  },
  {
   "cell_type": "code",
   "execution_count": null,
   "id": "7c4c4c1b-371d-45d7-a7a3-4d3caaa83e97",
   "metadata": {},
   "outputs": [],
   "source": [
    "%time fuzz_add(max_t=1e5, device='cuda')"
   ]
  },
  {
   "cell_type": "code",
   "execution_count": null,
   "id": "22dc7451-8cd7-43d8-b3a1-a2b77acc9efd",
   "metadata": {},
   "outputs": [],
   "source": [
    "def plot_add_simulation(n_s, noise_s, max_ts=[1000], bs=100, **kwargs):\n",
    "    add = pd.concat([fuzz_add(n=n, noise=noise, bs=bs, max_t=max_t, device='cuda', **kwargs) \n",
    "               for n in n_s for noise in noise_s for max_t in max_ts]).explode('stop_times')\n",
    "    \n",
    "    vl_spec = _plot_var_box(add, var='stop_times', height=150, width=150).to_json()\n",
    "\n",
    "    svg = vlc.vegalite_to_svg(vl_spec, vl_version='v5.3')\n",
    "    display.display(display.HTML(svg))"
   ]
  },
  {
   "cell_type": "code",
   "execution_count": null,
   "id": "ead18cdf-01dc-4256-9edc-0947fbab2fcc",
   "metadata": {},
   "outputs": [],
   "source": [
    "cache_disk(\"add_plot\")(lambda: plot_add_simulation(n_s=[50, 100, 150], noise_s=[1e-3, 1e-4, 1e-5], bs=100, max_ts=[1e5]))()"
   ]
  },
  {
   "cell_type": "markdown",
   "id": "13e7c6e4-6707-4641-9f29-9f483e85bd2b",
   "metadata": {},
   "source": [
    "#### Numpy posdef"
   ]
  },
  {
   "cell_type": "code",
   "execution_count": null,
   "id": "0cdda91a-508e-4097-8d7e-9395ae07808a",
   "metadata": {},
   "outputs": [],
   "source": [
    "import numpy as np"
   ]
  },
  {
   "cell_type": "code",
   "execution_count": null,
   "id": "c43e22e7-fda4-456b-9944-6c8fd206a6b1",
   "metadata": {},
   "outputs": [],
   "source": [
    "arr = np.random.rand(2,3,3)"
   ]
  },
  {
   "cell_type": "code",
   "execution_count": null,
   "id": "05848135-ecc3-4ea7-a2c1-cfbe1566a341",
   "metadata": {},
   "outputs": [],
   "source": [
    "arr.shape"
   ]
  },
  {
   "cell_type": "code",
   "execution_count": null,
   "id": "07fa0dfb-4bf4-4bd5-8cef-7d6ff13307d5",
   "metadata": {},
   "outputs": [],
   "source": [
    "arr.transpose(0,2,1) == np.moveaxis(arr, -1, -2)"
   ]
  },
  {
   "cell_type": "code",
   "execution_count": null,
   "id": "9ae3f922-c019-42e5-aa77-a5caa810e09a",
   "metadata": {},
   "outputs": [],
   "source": [
    "def to_posdef_np(x, noise=1e-5):\n",
    "    return x @ np.moveaxis(x, -1, -2) + (noise * np.eye(x.shape[-1], dtype=arr.dtype))"
   ]
  },
  {
   "cell_type": "code",
   "execution_count": null,
   "id": "cf766e9d-a585-45db-a284-9ea4919b1835",
   "metadata": {},
   "outputs": [],
   "source": [
    "to_posdef_np(arr)"
   ]
  },
  {
   "cell_type": "code",
   "execution_count": null,
   "id": "aeb68222-0768-49a6-93f3-028d70145925",
   "metadata": {},
   "outputs": [],
   "source": [
    "# fuzzer\n",
    "def fuzz_posdef_np(n=100, noise=1e-5, bs=10, range=(0,1), dtype=np.float32):\n",
    "    A = np.random.rand(bs,n,n).astype(dtype)  * (range[1]-range[0]) + range[0]\n",
    "    posdef = torch.from_numpy(to_posdef_np(A, noise))\n",
    "    return pd.DataFrame(\n",
    "        {'n': [n], 'noise': f\"{noise:.0e}\", 'range': str(range), 'n_samples': bs,\n",
    "         'posdef': is_posdef(posdef).sum().item() / bs,\n",
    "         'sym': is_symmetric(posdef).sum().item() / bs, \n",
    "         'posdef_eigv': is_posdef_eigv(posdef)[0].sum().item() / bs\n",
    "    })"
   ]
  },
  {
   "cell_type": "code",
   "execution_count": null,
   "id": "0b3da3c4-a116-43c9-803d-dd4342b3f644",
   "metadata": {},
   "outputs": [],
   "source": [
    "fuzz_posdef_np(n=1000, dtype=np.float32)"
   ]
  },
  {
   "cell_type": "markdown",
   "id": "9f4ad5b8-53f6-4684-b94e-064c5e3c0eca",
   "metadata": {},
   "source": [
    "### Checker Positive Definite"
   ]
  },
  {
   "cell_type": "markdown",
   "id": "4b52acf1-61f9-499b-9698-5c9c1a2d3f36",
   "metadata": {},
   "source": [
    "This is to help finding matrices that aren't positive definite and debug the issues.\n",
    "Returns a detailed dataframe row with info about the matrix and optionally logs everything to a global object"
   ]
  },
  {
   "cell_type": "code",
   "execution_count": null,
   "id": "003af30e-57e8-4a98-bde6-316ad1ef83bd",
   "metadata": {},
   "outputs": [],
   "source": [
    "#| export\n",
    "from warnings import warn\n",
    "from fastcore.basics import store_attr"
   ]
  },
  {
   "cell_type": "code",
   "execution_count": null,
   "id": "fee8dfa1-84ca-41b2-9021-4563801486ef",
   "metadata": {},
   "outputs": [],
   "source": [
    "#| export\n",
    "class CheckPosDef():\n",
    "    def __init__(self,\n",
    "                do_check:bool = False, # set to True to actually check matrix\n",
    "                use_log:bool = True, # keep internal log\n",
    "                warning:bool = True, # show a warning if a matrix is not pos def \n",
    "                ):\n",
    "        store_attr()\n",
    "        self.log = pd.DataFrame()\n",
    "        self.extra_args = {}\n",
    "    def add_args(self, **kwargs):\n",
    "        \"\"\"Add an extra argument to the next call of check_posdef \"\"\"\n",
    "        self.extra_args = {**kwargs, **self.extra_args}\n",
    "        return self\n",
    "    \n",
    "    def check(self,\n",
    "              x: Tensor, # (batch of) square matrix\n",
    "              **extra_args\n",
    "             ) -> pd.DataFrame:\n",
    "        \n",
    "        if not self.do_check: return\n",
    "        \n",
    "        self.add_args(**extra_args)\n",
    "        \n",
    "        x = x if x.dim() > 2 else [x]\n",
    "        infos = pd.concat([*map(self._check_matrix, x, range(len(x)))])\n",
    "        \n",
    "        if self.use_log: self.log = pd.concat([self.log, infos])\n",
    "        if self.warning and (~infos['is_pd_eigv'].all() or ~infos['is_pd_chol'].all()):\n",
    "             warn(\"Matrix is not positive definite\")\n",
    "        \n",
    "        self.extra_args = {} \n",
    "        return infos\n",
    "    \n",
    "    def _check_matrix(self,\n",
    "                     x: Tensor, # square matrix\n",
    "                     batch_n = 0,\n",
    "                    ) -> pd.DataFrame:\n",
    "        \n",
    "        x = x.detach().clone() # ensure that there is a copy\n",
    "        sym_upto = symmetric_upto(x)\n",
    "\n",
    "        is_pd_eigv, eigv = is_posdef_eigv(x)\n",
    "        is_pd_chol = torch.linalg.cholesky_ex(x).info.eq(0).all().item() # skip pytorch too strict symmetry check\n",
    "        is_sym = is_symmetric(x).item()\n",
    "\n",
    "        info = pd.DataFrame({\n",
    "            'is_pd_eigv': is_pd_eigv.item(),\n",
    "            'is_pd_chol': is_pd_chol,\n",
    "            'is_sym': is_sym,\n",
    "            'sym_upto': sym_upto,\n",
    "            'eigv': [eigv.cpu().numpy()],\n",
    "            'matrix': [x.cpu().numpy()],\n",
    "            'batch_n': batch_n,\n",
    "            **self.extra_args\n",
    "        })\n",
    "\n",
    "        return info"
   ]
  },
  {
   "cell_type": "code",
   "execution_count": null,
   "id": "47c69aef-a901-4f5f-997e-a6b899de425f",
   "metadata": {},
   "outputs": [
    {
     "name": "stderr",
     "output_type": "stream",
     "text": [
      "/tmp/ipykernel_29407/53702758.py:30: UserWarning: Matrix is not positive definite\n",
      "  warn(\"Matrix is not positive definite\")\n"
     ]
    },
    {
     "data": {
      "text/html": [
       "<div>\n",
       "<style scoped>\n",
       "    .dataframe tbody tr th:only-of-type {\n",
       "        vertical-align: middle;\n",
       "    }\n",
       "\n",
       "    .dataframe tbody tr th {\n",
       "        vertical-align: top;\n",
       "    }\n",
       "\n",
       "    .dataframe thead th {\n",
       "        text-align: right;\n",
       "    }\n",
       "</style>\n",
       "<table border=\"1\" class=\"dataframe\">\n",
       "  <thead>\n",
       "    <tr style=\"text-align: right;\">\n",
       "      <th></th>\n",
       "      <th>is_pd_eigv</th>\n",
       "      <th>is_pd_chol</th>\n",
       "      <th>is_sym</th>\n",
       "      <th>eigv</th>\n",
       "      <th>matrix</th>\n",
       "    </tr>\n",
       "  </thead>\n",
       "  <tbody>\n",
       "    <tr>\n",
       "      <th>0</th>\n",
       "      <td>False</td>\n",
       "      <td>False</td>\n",
       "      <td>False</td>\n",
       "      <td>[-0.62389994, 0.029978056, 1.6272488]</td>\n",
       "      <td>[[0.7119788, 0.49824256, 0.964695], [0.6660003...</td>\n",
       "    </tr>\n",
       "    <tr>\n",
       "      <th>0</th>\n",
       "      <td>False</td>\n",
       "      <td>False</td>\n",
       "      <td>False</td>\n",
       "      <td>[-0.8267139, 0.05724566, 1.2180507]</td>\n",
       "      <td>[[0.3167084, 0.3531289, 0.21273518], [0.961167...</td>\n",
       "    </tr>\n",
       "  </tbody>\n",
       "</table>\n",
       "</div>"
      ],
      "text/plain": [
       "   is_pd_eigv  is_pd_chol  is_sym                                   eigv  \\\n",
       "0       False       False   False  [-0.62389994, 0.029978056, 1.6272488]   \n",
       "0       False       False   False    [-0.8267139, 0.05724566, 1.2180507]   \n",
       "\n",
       "                                              matrix  \n",
       "0  [[0.7119788, 0.49824256, 0.964695], [0.6660003...  \n",
       "0  [[0.3167084, 0.3531289, 0.21273518], [0.961167...  "
      ]
     },
     "execution_count": null,
     "metadata": {},
     "output_type": "execute_result"
    }
   ],
   "source": [
    "CheckPosDef(True).check(A)"
   ]
  },
  {
   "cell_type": "code",
   "execution_count": null,
   "id": "3daf1626-a01e-46f9-8387-378fe1a20faf",
   "metadata": {},
   "outputs": [
    {
     "name": "stderr",
     "output_type": "stream",
     "text": [
      "/tmp/ipykernel_29407/53702758.py:30: UserWarning: Matrix is not positive definite\n",
      "  warn(\"Matrix is not positive definite\")\n"
     ]
    },
    {
     "data": {
      "text/html": [
       "<div>\n",
       "<style scoped>\n",
       "    .dataframe tbody tr th:only-of-type {\n",
       "        vertical-align: middle;\n",
       "    }\n",
       "\n",
       "    .dataframe tbody tr th {\n",
       "        vertical-align: top;\n",
       "    }\n",
       "\n",
       "    .dataframe thead th {\n",
       "        text-align: right;\n",
       "    }\n",
       "</style>\n",
       "<table border=\"1\" class=\"dataframe\">\n",
       "  <thead>\n",
       "    <tr style=\"text-align: right;\">\n",
       "      <th></th>\n",
       "      <th>is_pd_eigv</th>\n",
       "      <th>is_pd_chol</th>\n",
       "      <th>is_sym</th>\n",
       "      <th>eigv</th>\n",
       "      <th>matrix</th>\n",
       "    </tr>\n",
       "  </thead>\n",
       "  <tbody>\n",
       "    <tr>\n",
       "      <th>0</th>\n",
       "      <td>False</td>\n",
       "      <td>False</td>\n",
       "      <td>False</td>\n",
       "      <td>[-0.62389994, 0.029978056, 1.6272488]</td>\n",
       "      <td>[[0.7119788, 0.49824256, 0.964695], [0.6660003...</td>\n",
       "    </tr>\n",
       "  </tbody>\n",
       "</table>\n",
       "</div>"
      ],
      "text/plain": [
       "   is_pd_eigv  is_pd_chol  is_sym                                   eigv  \\\n",
       "0       False       False   False  [-0.62389994, 0.029978056, 1.6272488]   \n",
       "\n",
       "                                              matrix  \n",
       "0  [[0.7119788, 0.49824256, 0.964695], [0.6660003...  "
      ]
     },
     "execution_count": null,
     "metadata": {},
     "output_type": "execute_result"
    }
   ],
   "source": [
    "CheckPosDef(True).check(A[0])"
   ]
  },
  {
   "cell_type": "code",
   "execution_count": null,
   "id": "bc3ab88c-337c-4af0-80fb-93d486d6ceef",
   "metadata": {},
   "outputs": [
    {
     "name": "stderr",
     "output_type": "stream",
     "text": [
      "/tmp/ipykernel_29407/53702758.py:30: UserWarning: Matrix is not positive definite\n",
      "  warn(\"Matrix is not positive definite\")\n"
     ]
    },
    {
     "data": {
      "text/html": [
       "<div>\n",
       "<style scoped>\n",
       "    .dataframe tbody tr th:only-of-type {\n",
       "        vertical-align: middle;\n",
       "    }\n",
       "\n",
       "    .dataframe tbody tr th {\n",
       "        vertical-align: top;\n",
       "    }\n",
       "\n",
       "    .dataframe thead th {\n",
       "        text-align: right;\n",
       "    }\n",
       "</style>\n",
       "<table border=\"1\" class=\"dataframe\">\n",
       "  <thead>\n",
       "    <tr style=\"text-align: right;\">\n",
       "      <th></th>\n",
       "      <th>is_pd_eigv</th>\n",
       "      <th>is_pd_chol</th>\n",
       "      <th>is_sym</th>\n",
       "      <th>eigv</th>\n",
       "      <th>matrix</th>\n",
       "      <th>my_arg</th>\n",
       "    </tr>\n",
       "  </thead>\n",
       "  <tbody>\n",
       "    <tr>\n",
       "      <th>0</th>\n",
       "      <td>False</td>\n",
       "      <td>False</td>\n",
       "      <td>False</td>\n",
       "      <td>[-0.62389994, 0.029978056, 1.6272488]</td>\n",
       "      <td>[[0.7119788, 0.49824256, 0.964695], [0.6660003...</td>\n",
       "      <td>my arg</td>\n",
       "    </tr>\n",
       "    <tr>\n",
       "      <th>0</th>\n",
       "      <td>False</td>\n",
       "      <td>False</td>\n",
       "      <td>False</td>\n",
       "      <td>[-0.8267139, 0.05724566, 1.2180507]</td>\n",
       "      <td>[[0.3167084, 0.3531289, 0.21273518], [0.961167...</td>\n",
       "      <td>my arg</td>\n",
       "    </tr>\n",
       "  </tbody>\n",
       "</table>\n",
       "</div>"
      ],
      "text/plain": [
       "   is_pd_eigv  is_pd_chol  is_sym                                   eigv  \\\n",
       "0       False       False   False  [-0.62389994, 0.029978056, 1.6272488]   \n",
       "0       False       False   False    [-0.8267139, 0.05724566, 1.2180507]   \n",
       "\n",
       "                                              matrix  my_arg  \n",
       "0  [[0.7119788, 0.49824256, 0.964695], [0.6660003...  my arg  \n",
       "0  [[0.3167084, 0.3531289, 0.21273518], [0.961167...  my arg  "
      ]
     },
     "execution_count": null,
     "metadata": {},
     "output_type": "execute_result"
    }
   ],
   "source": [
    "checker = CheckPosDef(True)\n",
    "\n",
    "checker.check(A, my_arg=\"my arg\") # this will be another col in the log"
   ]
  },
  {
   "cell_type": "code",
   "execution_count": null,
   "id": "314b2588-a373-476c-a090-c3b172aa5f4e",
   "metadata": {},
   "outputs": [
    {
     "data": {
      "text/html": [
       "<div>\n",
       "<style scoped>\n",
       "    .dataframe tbody tr th:only-of-type {\n",
       "        vertical-align: middle;\n",
       "    }\n",
       "\n",
       "    .dataframe tbody tr th {\n",
       "        vertical-align: top;\n",
       "    }\n",
       "\n",
       "    .dataframe thead th {\n",
       "        text-align: right;\n",
       "    }\n",
       "</style>\n",
       "<table border=\"1\" class=\"dataframe\">\n",
       "  <thead>\n",
       "    <tr style=\"text-align: right;\">\n",
       "      <th></th>\n",
       "      <th>is_pd_eigv</th>\n",
       "      <th>is_pd_chol</th>\n",
       "      <th>is_sym</th>\n",
       "      <th>eigv</th>\n",
       "      <th>matrix</th>\n",
       "      <th>my_arg</th>\n",
       "    </tr>\n",
       "  </thead>\n",
       "  <tbody>\n",
       "    <tr>\n",
       "      <th>0</th>\n",
       "      <td>False</td>\n",
       "      <td>False</td>\n",
       "      <td>False</td>\n",
       "      <td>[-0.62389994, 0.029978056, 1.6272488]</td>\n",
       "      <td>[[0.7119788, 0.49824256, 0.964695], [0.6660003...</td>\n",
       "      <td>my arg</td>\n",
       "    </tr>\n",
       "    <tr>\n",
       "      <th>0</th>\n",
       "      <td>False</td>\n",
       "      <td>False</td>\n",
       "      <td>False</td>\n",
       "      <td>[-0.8267139, 0.05724566, 1.2180507]</td>\n",
       "      <td>[[0.3167084, 0.3531289, 0.21273518], [0.961167...</td>\n",
       "      <td>my arg</td>\n",
       "    </tr>\n",
       "  </tbody>\n",
       "</table>\n",
       "</div>"
      ],
      "text/plain": [
       "   is_pd_eigv  is_pd_chol  is_sym                                   eigv  \\\n",
       "0       False       False   False  [-0.62389994, 0.029978056, 1.6272488]   \n",
       "0       False       False   False    [-0.8267139, 0.05724566, 1.2180507]   \n",
       "\n",
       "                                              matrix  my_arg  \n",
       "0  [[0.7119788, 0.49824256, 0.964695], [0.6660003...  my arg  \n",
       "0  [[0.3167084, 0.3531289, 0.21273518], [0.961167...  my arg  "
      ]
     },
     "execution_count": null,
     "metadata": {},
     "output_type": "execute_result"
    }
   ],
   "source": [
    "checker.log"
   ]
  },
  {
   "cell_type": "code",
   "execution_count": null,
   "id": "f5262fb1-2759-4f07-8c20-38955be2f5c6",
   "metadata": {},
   "outputs": [
    {
     "name": "stderr",
     "output_type": "stream",
     "text": [
      "/tmp/ipykernel_29407/53702758.py:30: UserWarning: Matrix is not positive definite\n",
      "  warn(\"Matrix is not positive definite\")\n"
     ]
    },
    {
     "data": {
      "text/html": [
       "<div>\n",
       "<style scoped>\n",
       "    .dataframe tbody tr th:only-of-type {\n",
       "        vertical-align: middle;\n",
       "    }\n",
       "\n",
       "    .dataframe tbody tr th {\n",
       "        vertical-align: top;\n",
       "    }\n",
       "\n",
       "    .dataframe thead th {\n",
       "        text-align: right;\n",
       "    }\n",
       "</style>\n",
       "<table border=\"1\" class=\"dataframe\">\n",
       "  <thead>\n",
       "    <tr style=\"text-align: right;\">\n",
       "      <th></th>\n",
       "      <th>is_pd_eigv</th>\n",
       "      <th>is_pd_chol</th>\n",
       "      <th>is_sym</th>\n",
       "      <th>eigv</th>\n",
       "      <th>matrix</th>\n",
       "      <th>my_arg</th>\n",
       "      <th>show</th>\n",
       "    </tr>\n",
       "  </thead>\n",
       "  <tbody>\n",
       "    <tr>\n",
       "      <th>0</th>\n",
       "      <td>False</td>\n",
       "      <td>False</td>\n",
       "      <td>False</td>\n",
       "      <td>[-0.62389994, 0.029978056, 1.6272488]</td>\n",
       "      <td>[[0.7119788, 0.49824256, 0.964695], [0.6660003...</td>\n",
       "      <td>my arg</td>\n",
       "      <td>NaN</td>\n",
       "    </tr>\n",
       "    <tr>\n",
       "      <th>0</th>\n",
       "      <td>False</td>\n",
       "      <td>False</td>\n",
       "      <td>False</td>\n",
       "      <td>[-0.8267139, 0.05724566, 1.2180507]</td>\n",
       "      <td>[[0.3167084, 0.3531289, 0.21273518], [0.961167...</td>\n",
       "      <td>my arg</td>\n",
       "      <td>NaN</td>\n",
       "    </tr>\n",
       "    <tr>\n",
       "      <th>0</th>\n",
       "      <td>True</td>\n",
       "      <td>True</td>\n",
       "      <td>True</td>\n",
       "      <td>[0.00043795342, 0.37046388, 2.6411798]</td>\n",
       "      <td>[[1.6858058, 0.73517776, 0.8495334], [0.735177...</td>\n",
       "      <td>NaN</td>\n",
       "      <td>only once</td>\n",
       "    </tr>\n",
       "    <tr>\n",
       "      <th>0</th>\n",
       "      <td>True</td>\n",
       "      <td>True</td>\n",
       "      <td>True</td>\n",
       "      <td>[1.6886237e-05, 0.18801452, 1.4242249]</td>\n",
       "      <td>[[0.2702705, 0.44336805, 0.14780542], [0.44336...</td>\n",
       "      <td>NaN</td>\n",
       "      <td>only once</td>\n",
       "    </tr>\n",
       "    <tr>\n",
       "      <th>0</th>\n",
       "      <td>False</td>\n",
       "      <td>False</td>\n",
       "      <td>False</td>\n",
       "      <td>[-0.62389994, 0.029978056, 1.6272488]</td>\n",
       "      <td>[[0.7119788, 0.49824256, 0.964695], [0.6660003...</td>\n",
       "      <td>NaN</td>\n",
       "      <td>NaN</td>\n",
       "    </tr>\n",
       "    <tr>\n",
       "      <th>0</th>\n",
       "      <td>False</td>\n",
       "      <td>False</td>\n",
       "      <td>False</td>\n",
       "      <td>[-0.8267139, 0.05724566, 1.2180507]</td>\n",
       "      <td>[[0.3167084, 0.3531289, 0.21273518], [0.961167...</td>\n",
       "      <td>NaN</td>\n",
       "      <td>NaN</td>\n",
       "    </tr>\n",
       "  </tbody>\n",
       "</table>\n",
       "</div>"
      ],
      "text/plain": [
       "   is_pd_eigv  is_pd_chol  is_sym                                    eigv  \\\n",
       "0       False       False   False   [-0.62389994, 0.029978056, 1.6272488]   \n",
       "0       False       False   False     [-0.8267139, 0.05724566, 1.2180507]   \n",
       "0        True        True    True  [0.00043795342, 0.37046388, 2.6411798]   \n",
       "0        True        True    True  [1.6886237e-05, 0.18801452, 1.4242249]   \n",
       "0       False       False   False   [-0.62389994, 0.029978056, 1.6272488]   \n",
       "0       False       False   False     [-0.8267139, 0.05724566, 1.2180507]   \n",
       "\n",
       "                                              matrix  my_arg       show  \n",
       "0  [[0.7119788, 0.49824256, 0.964695], [0.6660003...  my arg        NaN  \n",
       "0  [[0.3167084, 0.3531289, 0.21273518], [0.961167...  my arg        NaN  \n",
       "0  [[1.6858058, 0.73517776, 0.8495334], [0.735177...     NaN  only once  \n",
       "0  [[0.2702705, 0.44336805, 0.14780542], [0.44336...     NaN  only once  \n",
       "0  [[0.7119788, 0.49824256, 0.964695], [0.6660003...     NaN        NaN  \n",
       "0  [[0.3167084, 0.3531289, 0.21273518], [0.961167...     NaN        NaN  "
      ]
     },
     "execution_count": null,
     "metadata": {},
     "output_type": "execute_result"
    }
   ],
   "source": [
    "checker.add_args(show=\"only once\")\n",
    "checker.check(posdef)\n",
    "checker.check(A)\n",
    "checker.log"
   ]
  },
  {
   "cell_type": "code",
   "execution_count": null,
   "id": "e40f4a5e-e54c-4442-bc3d-9aba46173e12",
   "metadata": {},
   "outputs": [],
   "source": [
    "B = torch.rand(2,3,3) # a batch of matrices"
   ]
  },
  {
   "cell_type": "code",
   "execution_count": null,
   "id": "f831347b-f86e-48a1-8d53-95a689242b34",
   "metadata": {},
   "outputs": [
    {
     "data": {
      "text/plain": [
       "torch.Size([2])"
      ]
     },
     "execution_count": null,
     "metadata": {},
     "output_type": "execute_result"
    }
   ],
   "source": [
    "is_symmetric(B).shape"
   ]
  },
  {
   "cell_type": "code",
   "execution_count": null,
   "id": "77365d7a-ecb7-4a86-b013-73f599aaa87d",
   "metadata": {},
   "outputs": [
    {
     "name": "stderr",
     "output_type": "stream",
     "text": [
      "/tmp/ipykernel_29407/53702758.py:30: UserWarning: Matrix is not positive definite\n",
      "  warn(\"Matrix is not positive definite\")\n"
     ]
    },
    {
     "data": {
      "text/html": [
       "<div>\n",
       "<style scoped>\n",
       "    .dataframe tbody tr th:only-of-type {\n",
       "        vertical-align: middle;\n",
       "    }\n",
       "\n",
       "    .dataframe tbody tr th {\n",
       "        vertical-align: top;\n",
       "    }\n",
       "\n",
       "    .dataframe thead th {\n",
       "        text-align: right;\n",
       "    }\n",
       "</style>\n",
       "<table border=\"1\" class=\"dataframe\">\n",
       "  <thead>\n",
       "    <tr style=\"text-align: right;\">\n",
       "      <th></th>\n",
       "      <th>is_pd_eigv</th>\n",
       "      <th>is_pd_chol</th>\n",
       "      <th>is_sym</th>\n",
       "      <th>eigv</th>\n",
       "      <th>matrix</th>\n",
       "    </tr>\n",
       "  </thead>\n",
       "  <tbody>\n",
       "    <tr>\n",
       "      <th>0</th>\n",
       "      <td>False</td>\n",
       "      <td>False</td>\n",
       "      <td>False</td>\n",
       "      <td>[-0.30987626, -0.012034075, 1.2929032]</td>\n",
       "      <td>[[0.6150076, 0.7986615, 0.5860322], [0.3124973...</td>\n",
       "    </tr>\n",
       "    <tr>\n",
       "      <th>0</th>\n",
       "      <td>False</td>\n",
       "      <td>False</td>\n",
       "      <td>False</td>\n",
       "      <td>[-0.32521826, -0.022067621, 1.461368]</td>\n",
       "      <td>[[0.3013246, 0.8972247, 0.42320126], [0.572971...</td>\n",
       "    </tr>\n",
       "  </tbody>\n",
       "</table>\n",
       "</div>"
      ],
      "text/plain": [
       "   is_pd_eigv  is_pd_chol  is_sym                                    eigv  \\\n",
       "0       False       False   False  [-0.30987626, -0.012034075, 1.2929032]   \n",
       "0       False       False   False   [-0.32521826, -0.022067621, 1.461368]   \n",
       "\n",
       "                                              matrix  \n",
       "0  [[0.6150076, 0.7986615, 0.5860322], [0.3124973...  \n",
       "0  [[0.3013246, 0.8972247, 0.42320126], [0.572971...  "
      ]
     },
     "execution_count": null,
     "metadata": {},
     "output_type": "execute_result"
    }
   ],
   "source": [
    "checker.check(B)"
   ]
  },
  {
   "cell_type": "code",
   "execution_count": null,
   "id": "f0181633-4a80-4737-a164-1a263d4fbed3",
   "metadata": {},
   "outputs": [],
   "source": [
    "test_close(B[0] @ A, (B @ A)[0]) # example batched matrix multiplication"
   ]
  },
  {
   "cell_type": "markdown",
   "id": "cad4e791-5fbd-4651-acf9-4855c942c4a5",
   "metadata": {},
   "source": [
    "### Diagonal Positive Definite Contraint"
   ]
  },
  {
   "cell_type": "markdown",
   "id": "5391d57f-982b-4dc2-bfd5-951dae6fe55a",
   "metadata": {},
   "source": [
    "this is a simpler contraint that make the matrix diagonal and positive definite, by forcing it to have positive numbers on the diagonal.\n",
    "\n",
    "given a random vector $a$ it is transformed into a diagonal positive definite matrix using:\n",
    "\n",
    "$A_{diag\\ pos\\ def} = e^a I$\n",
    "\n",
    "the inverse transformation is the log of the diagonal"
   ]
  },
  {
   "cell_type": "code",
   "execution_count": null,
   "id": "0118fbf3-e101-45c7-a999-2edc0da1d553",
   "metadata": {},
   "outputs": [],
   "source": [
    "#| export\n",
    "@docs\n",
    "class DiagPosDef(): \n",
    "    def transform(self,raw): return torch.diag(torch.exp(raw))\n",
    "    def inverse_transform(self, value): return torch.log(torch.diag(value))\n",
    "    \n",
    "    _docs = {'cls_doc': \"Diagonal Positive Definite Constraint for PyTorch parameters\",\n",
    "             'transform':\"transform any vector into a diagonal positive definite matrix\",\n",
    "             'inverse_transform': \"tranform diagonal positive definite matrix into a vector that can be back transformed using `transform`\"}\n",
    "\n",
    "to_diagposdef = DiagPosDef().transform"
   ]
  },
  {
   "cell_type": "code",
   "execution_count": null,
   "id": "7e513369-1471-4cac-9070-a2aa5d207348",
   "metadata": {},
   "outputs": [],
   "source": [
    "dpd_const = DiagPosDef()\n",
    "a = torch.rand(3)"
   ]
  },
  {
   "cell_type": "code",
   "execution_count": null,
   "id": "07c8d2ee-f400-47d4-9f38-823e782be5b2",
   "metadata": {},
   "outputs": [
    {
     "data": {
      "text/plain": [
       "tensor([[1.1899, 0.0000, 0.0000],\n",
       "        [0.0000, 2.0571, 0.0000],\n",
       "        [0.0000, 0.0000, 1.4777]])"
      ]
     },
     "execution_count": null,
     "metadata": {},
     "output_type": "execute_result"
    }
   ],
   "source": [
    "dpd_const.transform(a)"
   ]
  },
  {
   "cell_type": "code",
   "execution_count": null,
   "id": "c924e47f-5342-4e5c-b2a9-e34a60240ab8",
   "metadata": {},
   "outputs": [],
   "source": [
    "test_close(a, dpd_const.inverse_transform(dpd_const.transform(a)))"
   ]
  },
  {
   "cell_type": "markdown",
   "id": "15e36928-2ce7-4c0d-ac60-093d59ecd7fa",
   "metadata": {},
   "source": [
    "## Conditional Predictions"
   ]
  },
  {
   "cell_type": "markdown",
   "id": "1d7d9bb7-e7b1-4984-9bc1-5001ad92d216",
   "metadata": {},
   "source": [
    "Therefore we need to compute the conditional distribution of a normal ^[https://cs.nyu.edu/~roweis/notes/gaussid.pdf eq, 5a, 5d]\n",
    "\n",
    "$$ X = \\left[\\begin{array}{c} x \\\\ o \\end{array} \\right] $$\n",
    "\n",
    "$$ p(X) = N\\left(\\left[ \\begin{array}{c} \\mu_x \\\\ \\mu_o \\end{array} \\right], \\left[\\begin{array}{cc} \\Sigma_{xx} & \\Sigma_{xo} \\\\ \\Sigma_{ox} & \\Sigma_{oo} \\end{array} \\right]\\right)$$\n",
    "\n",
    "where $x$ is a vector of variable that need to predicted and $o$ is a vector of the variables that have been observed\n",
    "\n",
    "\n",
    "then the conditional distribution is:\n",
    "\n",
    "$$p(x|o) = N(\\mu_x + \\Sigma_{xo}\\Sigma_{oo}^{-1}(o - \\mu_o), \\Sigma_{xx} - \\Sigma_{xo}\\Sigma_{oo}^{-1}\\Sigma_{ox})$$"
   ]
  },
  {
   "cell_type": "code",
   "execution_count": null,
   "id": "8ef2b518-bc6a-481c-83cb-a6b8db9e2c89",
   "metadata": {},
   "outputs": [],
   "source": [
    "#| export\n",
    "import torch\n",
    "from torch.distributions import MultivariateNormal\n",
    "from torch.linalg import cholesky\n",
    "from torch import cholesky_inverse\n",
    "from torch import Tensor\n",
    "\n",
    "from fastcore.test import *\n",
    "from meteo_imp.utils import *\n",
    "from typing import List"
   ]
  },
  {
   "cell_type": "code",
   "execution_count": null,
   "id": "fccdfddc-01e9-45a1-b2f7-173652fcdb3f",
   "metadata": {},
   "outputs": [],
   "source": [
    "#| export\n",
    "def conditional_guassian(\n",
    "                         μ: Tensor, # mean with shape `[n_vars]`\n",
    "                         Σ: Tensor, # cov with shape `[n_vars, n_vars] `\n",
    "                         obs: Tensor, # Observations with shape `[n_obs]`, where `n_obs = sum(idx)`\n",
    "                         mask: Tensor # Boolean tensor specifying for each variable is observed (True) or not (False). Shape `[n_vars]`\n",
    "                        ) -> ListMNormal: # Distribution conditioned on observations. shape `[n_vars - n_obs]`\n",
    "    assert μ.shape[0] == mask.shape[0]\n",
    "    assert obs.shape[0] == sum(mask)\n",
    "    \n",
    "    μ_x = μ[~mask]\n",
    "    μ_o = μ[mask]\n",
    "    # the double square brackets `:][:` are needed to keep the dimensionality even for empty tensors \n",
    "    Σ_xx = Σ[~mask,:][:, ~mask]\n",
    "    Σ_xo = Σ[~mask,:][:,  mask]\n",
    "    Σ_ox = Σ[ mask,:][:, ~mask]\n",
    "    Σ_oo = Σ[ mask,:][:,  mask]\n",
    "    \n",
    "    Σ_oo_inv = torch.inverse(Σ_oo) # cholesky_inverse(cholesky(Σ_oo))\n",
    "    \n",
    "    \n",
    "    mean = μ_x + Σ_xo@Σ_oo_inv@(obs - μ_o)\n",
    "    cov = Σ_xx - Σ_xo@Σ_oo_inv@Σ_ox\n",
    "    \n",
    "    return ListMNormal(mean, cov)\n",
    "    "
   ]
  },
  {
   "cell_type": "code",
   "execution_count": null,
   "id": "08dadc5c-067f-4ce5-a82a-8e85d48588e8",
   "metadata": {},
   "outputs": [],
   "source": [
    "# example distribution with only 2 variables\n",
    "μ = torch.tensor([.5, 1.])\n",
    "Σ = torch.tensor([[1., .5], [.5 ,1.]])\n",
    "\n",
    "\n",
    "mask = torch.tensor([True, False]) # second variable is the observed one\n",
    "\n",
    "obs = torch.tensor([5.]) # value of second variable\n",
    "\n",
    "gauss_cond = conditional_guassian(μ, Σ, obs, mask)\n",
    "\n",
    "# hardcoded values to test that the code is working, see also for alternative implementation https://python.quantecon.org/multivariate_normal.html\n",
    "test_close(3.25, gauss_cond.mean.item())\n",
    "test_close(.75, gauss_cond.cov.item())"
   ]
  },
  {
   "cell_type": "markdown",
   "id": "1fac5e7e-83cb-4c01-9cd6-0170d2ebc9b7",
   "metadata": {},
   "source": [
    "### Batches"
   ]
  },
  {
   "cell_type": "markdown",
   "id": "96599546-f572-4f4d-8d3f-11d532bf05ca",
   "metadata": {},
   "source": [
    "cannot have proper batch support, or at least not in a straigthforward way as the shape of the output would be different for the different batches.\n",
    "\n",
    "so using a for-loop to temporarly fix the situation"
   ]
  },
  {
   "cell_type": "code",
   "execution_count": null,
   "id": "66c0d2a2-ca4f-413b-82cc-34cfb9afc1a5",
   "metadata": {},
   "outputs": [],
   "source": [
    "#| export\n",
    "def cond_gaussian_batched(dist: ListMNormal,\n",
    "                         obs, # this needs to have the same shape of the mask !!! \n",
    "                         mask\n",
    "                         ) -> List[ListMNormal]: # lists of distributions for element in the batch\n",
    "    return [conditional_guassian(dist.mean[i], dist.cov[i], obs[i][mask[i]], mask[i]) for i in range(obs.shape[0])]\n",
    "        "
   ]
  },
  {
   "cell_type": "code",
   "execution_count": null,
   "id": "74093424-2daf-4fe4-b3b6-26d957275737",
   "metadata": {},
   "outputs": [],
   "source": [
    "reset_seed(10)\n",
    "mean = torch.rand(2,3) # batch\n",
    "cov = to_posdef(torch.rand(2,3,3))\n",
    "mask = torch.rand(2,3) > .3\n",
    "obs = torch.rand(2,3)"
   ]
  },
  {
   "cell_type": "code",
   "execution_count": null,
   "id": "e048dfef-2a23-4302-adbe-a9ece3ba91a2",
   "metadata": {},
   "outputs": [],
   "source": [
    "conditional_gaussian_batched(mean, cov, obs, mask)"
   ]
  },
  {
   "cell_type": "code",
   "execution_count": null,
   "id": "4ba70bc9-2207-4be8-a09f-7084a2bb1010",
   "metadata": {},
   "outputs": [],
   "source": [
    "mask.shape, obs.shape"
   ]
  },
  {
   "cell_type": "code",
   "execution_count": null,
   "id": "c0764a21-3b16-4439-8c45-f42fd64af274",
   "metadata": {},
   "outputs": [],
   "source": [
    "assert mean.shape == mask.shape\n",
    "assert mean.dim() == 2"
   ]
  },
  {
   "cell_type": "code",
   "execution_count": null,
   "id": "f212db6c-5c87-4877-b4e3-ce5d6c15b2eb",
   "metadata": {},
   "outputs": [],
   "source": [
    "obs.shape"
   ]
  },
  {
   "cell_type": "code",
   "execution_count": null,
   "id": "a5cdfdd0-f81a-4089-956b-94f47cb719bd",
   "metadata": {},
   "outputs": [],
   "source": [
    "mean_x = mean[~mask]\n",
    "mean_o = mean[mask]"
   ]
  },
  {
   "cell_type": "code",
   "execution_count": null,
   "id": "a0bf1c6b-b5b1-4251-badb-85b3d8ba5125",
   "metadata": {},
   "outputs": [],
   "source": [
    "mask"
   ]
  },
  {
   "cell_type": "code",
   "execution_count": null,
   "id": "558f9f16-efb7-4b7d-ab7a-8b98e0509b9f",
   "metadata": {},
   "outputs": [],
   "source": [
    "mean_x"
   ]
  },
  {
   "cell_type": "code",
   "execution_count": null,
   "id": "d4b093ce-62c6-467a-a8e4-1911926788ec",
   "metadata": {},
   "outputs": [],
   "source": [
    "cov.shape"
   ]
  },
  {
   "cell_type": "code",
   "execution_count": null,
   "id": "95bdaad6-92c2-4056-a28c-164d46266ab4",
   "metadata": {},
   "outputs": [],
   "source": [
    "cov[~mask]"
   ]
  },
  {
   "cell_type": "code",
   "execution_count": null,
   "id": "9785c54d-a5da-462a-be6c-99b87e5ab98d",
   "metadata": {},
   "outputs": [],
   "source": [
    "cov"
   ]
  },
  {
   "cell_type": "code",
   "execution_count": null,
   "id": "422d0d8c-6b22-46a7-89ae-036f839296da",
   "metadata": {},
   "outputs": [],
   "source": [
    "cov[0][~mask[0], ~mask[0]]"
   ]
  },
  {
   "cell_type": "code",
   "execution_count": null,
   "id": "cefc1642-f457-4a47-863d-edab440c2246",
   "metadata": {},
   "outputs": [],
   "source": [
    "cov[0][mask[0],:][:, mask[0]].shape"
   ]
  },
  {
   "cell_type": "markdown",
   "id": "9c6ee528-b358-496e-8173-78e7801f16de",
   "metadata": {},
   "source": [
    "### Performance\n",
    "\n",
    "analysis of the performance of inverting a positive definite matrix"
   ]
  },
  {
   "cell_type": "markdown",
   "id": "a0509e73-399a-4db8-bc94-42234457d5a1",
   "metadata": {},
   "source": [
    "Use `cholesky` decomposition and `cholesky_solve` to improve performance of matrix inversion\n",
    "\n",
    "see the [Probabilist machine learning course from uni Tübigen](https://uni-tuebingen.de/en/180804), specifically the code from the [Gaussian Regression Notebook](https://uni-tuebingen.de/fileadmin/Uni_Tuebingen/Fakultaeten/MatNat/Fachbereiche/Informatik/Lehrstuehle/MethMaschLern/Probabilistic_ML/Notebook_Vorlesung_7___9/Gaussian_Linear_Regression.ipynb) for details"
   ]
  },
  {
   "cell_type": "markdown",
   "id": "6b6a796f-84cc-4fdd-9a0e-000634949fe3",
   "metadata": {},
   "source": [
    "This is the direct implementation of the equations"
   ]
  },
  {
   "cell_type": "code",
   "execution_count": null,
   "id": "6e091217-11b7-4251-af9a-93c6969cbb0a",
   "metadata": {},
   "outputs": [],
   "source": [
    "def _conditional_guassian_base(\n",
    "                         μ: Tensor, # mean with shape `[n_vars]`\n",
    "                         Σ: Tensor, # cov with shape `[n_vars, n_vars] `\n",
    "                         obs: Tensor, # Observations with shape `[n_vars]`\n",
    "                         idx: Tensor # Boolean tensor specifying for each variable is observed (True) or not (False). Shape `[n_vars]`\n",
    "                        ) -> ListNormal: # Distribution conditioned on observations\n",
    "    μ_x = μ[~idx]\n",
    "    μ_o = μ[idx]\n",
    "    \n",
    "    Σ_xx = Σ[~idx,:][:, ~idx]\n",
    "    Σ_xo = Σ[~idx,:][:, idx]\n",
    "    Σ_ox = Σ[idx,:][:, ~idx]\n",
    "    Σ_oo = Σ[idx,:][:, idx]\n",
    "    \n",
    "    Σ_oo_inv = torch.linalg.inv(Σ_oo)\n",
    "    \n",
    "    mean = μ_x + Σ_xo@Σ_oo_inv@(obs - μ_o)\n",
    "    cov = Σ_xx - Σ_xo@Σ_oo_inv@Σ_ox\n",
    "    \n",
    "    return ListNormal(mean, cov)\n",
    "    "
   ]
  },
  {
   "cell_type": "markdown",
   "id": "88285fc6-28a3-46dd-8d25-99e4302df022",
   "metadata": {},
   "source": [
    " faster version"
   ]
  },
  {
   "cell_type": "code",
   "execution_count": null,
   "id": "8f4ce09d-576e-41e9-ac0d-c5b1ad2563ed",
   "metadata": {},
   "outputs": [],
   "source": [
    "n_var = 5\n",
    "mean = torch.rand(n_var, dtype=torch.float64)\n",
    "cov = to_posdef(torch.rand(n_var, n_var, dtype=torch.float64))\n",
    "dist = MultivariateNormal(mean, cov)\n",
    "idx = torch.rand(n_var, dtype=torch.float64) > .5\n",
    "obs = torch.rand(n_var, dtype=torch.float64)[idx]"
   ]
  },
  {
   "cell_type": "code",
   "execution_count": null,
   "id": "cb728f7f-5bc8-4f56-a0b8-2919ab508cb3",
   "metadata": {},
   "outputs": [],
   "source": [
    "torch.linalg.inv(cov) "
   ]
  },
  {
   "cell_type": "code",
   "execution_count": null,
   "id": "b39e5b98-ee21-4939-9139-a3cf7e9b3bb8",
   "metadata": {},
   "outputs": [],
   "source": [
    "(torch.linalg.inv(cov) - cholesky_inverse(torch.linalg.cholesky(cov))).max()"
   ]
  },
  {
   "cell_type": "code",
   "execution_count": null,
   "id": "70ab7b97-68e9-410c-b9ef-2920096006b8",
   "metadata": {},
   "outputs": [],
   "source": [
    "test_close(torch.linalg.inv(cov), cholesky_inverse(torch.linalg.cholesky(cov)), eps=1e-2)"
   ]
  },
  {
   "cell_type": "code",
   "execution_count": null,
   "id": "441a6527-2f74-4c74-babe-753a31da37b1",
   "metadata": {},
   "outputs": [],
   "source": [
    "reset_seed()\n",
    "A = to_posdef(torch.rand(1000, 1000, dtype=torch.float64)) + torch.eye(1000) * 1e-3 # noise to ensure is positive definite"
   ]
  },
  {
   "cell_type": "code",
   "execution_count": null,
   "id": "e2c09d18-2d9b-476d-8d54-48d936735efa",
   "metadata": {},
   "outputs": [],
   "source": [
    "is_symmetric(A)"
   ]
  },
  {
   "cell_type": "code",
   "execution_count": null,
   "id": "2585ccaa-33b4-43de-b3a1-4ddbcc48aee5",
   "metadata": {},
   "outputs": [],
   "source": [
    "is_posdef(A)"
   ]
  },
  {
   "cell_type": "code",
   "execution_count": null,
   "id": "8fa60488-e695-4f33-8166-3a54c0de0c50",
   "metadata": {},
   "outputs": [],
   "source": [
    "%timeit torch.linalg.inv(A)"
   ]
  },
  {
   "cell_type": "code",
   "execution_count": null,
   "id": "5727ea1d-9585-4906-956f-6c4a13e0d984",
   "metadata": {},
   "outputs": [],
   "source": [
    "%timeit cholesky_inverse(torch.linalg.cholesky(A))"
   ]
  },
  {
   "cell_type": "markdown",
   "id": "91eeb54b-2ada-4813-9386-2780b6138a1c",
   "metadata": {},
   "source": [
    "The second version is way faster"
   ]
  },
  {
   "cell_type": "code",
   "execution_count": null,
   "id": "22841f3c-1f54-4cc7-9122-738c1fa54a4d",
   "metadata": {},
   "outputs": [],
   "source": [
    "test_close(conditional_guassian(mean, cov, obs, idx).mean, _conditional_guassian_base(mean, cov, obs, idx).mean)"
   ]
  },
  {
   "cell_type": "code",
   "execution_count": null,
   "id": "ccc7deb2-b82f-408f-bed7-71df9e22b4e7",
   "metadata": {},
   "outputs": [],
   "source": [
    "B = to_posdef(torch.rand(n_var, n_var, dtype=torch.float64))"
   ]
  },
  {
   "cell_type": "code",
   "execution_count": null,
   "id": "0c1f9184-eac2-4b22-b160-d34db2262e65",
   "metadata": {},
   "outputs": [],
   "source": [
    "B @ torch.inverse(cov)"
   ]
  },
  {
   "cell_type": "code",
   "execution_count": null,
   "id": "922ea127-688b-45f2-855b-799304282959",
   "metadata": {},
   "outputs": [],
   "source": [
    "torch.cholesky_solve(cholesky(cov), B)"
   ]
  },
  {
   "cell_type": "markdown",
   "id": "f88dd5e0-9c9f-4d39-a9b6-b546658870a1",
   "metadata": {},
   "source": [
    "## Helper"
   ]
  },
  {
   "cell_type": "markdown",
   "id": "f4b18aaf-0dd6-4cea-a88f-83bd8ed966df",
   "metadata": {},
   "source": [
    "### cov2std"
   ]
  },
  {
   "cell_type": "code",
   "execution_count": null,
   "id": "d945e732-9e78-453e-9e7f-a5c3caba2bf5",
   "metadata": {},
   "outputs": [],
   "source": [
    "x = torch.stack([torch.eye(3)*i for i in  range(1,4)])"
   ]
  },
  {
   "cell_type": "code",
   "execution_count": null,
   "id": "695f8643-24bb-4c08-9d45-28f71d2087fc",
   "metadata": {},
   "outputs": [],
   "source": [
    "x"
   ]
  },
  {
   "cell_type": "code",
   "execution_count": null,
   "id": "703285a8-7aff-4766-81a5-f2edf0de1d7d",
   "metadata": {},
   "outputs": [],
   "source": [
    "torch.diagonal(x, dim1=1, dim2=2)"
   ]
  },
  {
   "cell_type": "code",
   "execution_count": null,
   "id": "1b1f666c-de1e-4d76-944a-36d5ed29b4c4",
   "metadata": {},
   "outputs": [],
   "source": [
    "#| export\n",
    "def cov2std(x):\n",
    "    \"convert cov of array of covariances to array of stddev\"\n",
    "    return torch.sqrt(torch.diagonal(x, dim1=-2, dim2=-1))"
   ]
  },
  {
   "cell_type": "markdown",
   "id": "26346ea1-ce63-4315-b39c-04d8eb859c20",
   "metadata": {},
   "source": [
    "## Export"
   ]
  },
  {
   "cell_type": "code",
   "execution_count": null,
   "id": "12c41b65-9eb8-4d70-b4fc-05113783e636",
   "metadata": {},
   "outputs": [],
   "source": [
    "#| hide\n",
    "from nbdev import nbdev_export\n",
    "nbdev_export()"
   ]
  }
 ],
 "metadata": {
  "kernelspec": {
   "display_name": "data_science",
   "language": "python",
   "name": "data_science"
  },
  "widgets": {
   "application/vnd.jupyter.widget-state+json": {
    "state": {},
    "version_major": 2,
    "version_minor": 0
   }
  }
 },
 "nbformat": 4,
 "nbformat_minor": 5
}
