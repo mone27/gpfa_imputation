{
 "cells": [
  {
   "cell_type": "markdown",
   "id": "db561d06-4f9a-4208-9d2b-4eecbed9d5f2",
   "metadata": {},
   "source": [
    "# Gaussian Distributions Utilities"
   ]
  },
  {
   "cell_type": "code",
   "execution_count": null,
   "id": "d653f259-ff61-423a-9df2-a76806b43bd4",
   "metadata": {},
   "outputs": [],
   "source": [
    "#| hide\n",
    "#| default_exp gaussian"
   ]
  },
  {
   "cell_type": "markdown",
   "id": "4b6052be-4b7f-4ce4-888f-7993a968854f",
   "metadata": {},
   "source": [
    "## Normal Parameters"
   ]
  },
  {
   "cell_type": "code",
   "execution_count": null,
   "id": "b2258941-42a0-4758-9c41-f9e3d98f3a95",
   "metadata": {},
   "outputs": [],
   "source": [
    "#| export\n",
    "from collections import namedtuple\n",
    "from fastcore.basics import patch"
   ]
  },
  {
   "cell_type": "markdown",
   "id": "d8fcce88-e590-4c16-93fe-d699e4707404",
   "metadata": {},
   "source": [
    "### Normal"
   ]
  },
  {
   "cell_type": "code",
   "execution_count": null,
   "id": "30757497-c034-40ab-a82b-aa5044131ff1",
   "metadata": {},
   "outputs": [],
   "source": [
    "import torch"
   ]
  },
  {
   "cell_type": "code",
   "execution_count": null,
   "id": "b4cc15e7-8075-492e-8485-c787ffd37439",
   "metadata": {},
   "outputs": [],
   "source": [
    "#| export\n",
    "ListNormal = namedtuple('ListNormal', ['mean', 'std'])"
   ]
  },
  {
   "cell_type": "code",
   "execution_count": null,
   "id": "b7971df6-3a32-4170-a645-a92fe20a0191",
   "metadata": {},
   "outputs": [],
   "source": [
    "#| export\n",
    "Normal = namedtuple('Normal', ['mean', 'std'])"
   ]
  },
  {
   "cell_type": "code",
   "execution_count": null,
   "id": "85c9cf5b-e990-4fa2-9b3b-b35b3dfca131",
   "metadata": {},
   "outputs": [],
   "source": [
    "#| export\n",
    "@patch\n",
    "def __getitem__(self: ListNormal, n:int\n",
    "           )->Normal:\n",
    "    \"\"\"Get the mean and cov for the nth Normal distribution in the list \"\"\"\n",
    "    return Normal(self.mean[n], self.std[n])"
   ]
  },
  {
   "cell_type": "code",
   "execution_count": null,
   "id": "b85e124b-fb20-4fb7-ba43-5c102f988582",
   "metadata": {},
   "outputs": [],
   "source": [
    "#| export\n",
    "@patch\n",
    "def detach(self: ListNormal)->ListNormal:\n",
    "    \"\"\"Detach both mean and cov at once \"\"\"\n",
    "    return ListNormal(self.mean.detach(), self.std.detach())"
   ]
  },
  {
   "cell_type": "code",
   "execution_count": null,
   "id": "4ada4239-da90-418a-b037-0b4784e2f5ff",
   "metadata": {},
   "outputs": [
    {
     "data": {
      "text/plain": [
       "Normal(mean=tensor(0.7015), std=tensor(0.1506))"
      ]
     },
     "execution_count": null,
     "metadata": {},
     "output_type": "execute_result"
    }
   ],
   "source": [
    "ListNormal(torch.rand(10), torch.rand(10))[1]"
   ]
  },
  {
   "cell_type": "markdown",
   "id": "0f7a2bf8-bb5f-41b9-8135-3cca47338cc7",
   "metadata": {},
   "source": [
    "### Multivariate Normal"
   ]
  },
  {
   "cell_type": "code",
   "execution_count": null,
   "id": "b6fa7b27-afec-41e7-b718-c1981a19ec79",
   "metadata": {},
   "outputs": [],
   "source": [
    "#| export\n",
    "ListMNormal = namedtuple('ListMultiNormal', ['mean', 'cov'])"
   ]
  },
  {
   "cell_type": "code",
   "execution_count": null,
   "id": "aeabc21e-bd9f-412c-bf23-bc38dcaf2d67",
   "metadata": {},
   "outputs": [],
   "source": [
    "#| export\n",
    "MNormal = namedtuple('MultiNormal', ['mean', 'cov'])"
   ]
  },
  {
   "cell_type": "code",
   "execution_count": null,
   "id": "0746ca6e-ba58-496a-ad0d-42cdba514b4a",
   "metadata": {},
   "outputs": [],
   "source": [
    "#| export\n",
    "@patch\n",
    "def __getitem__(self: ListMNormal, n:int\n",
    "           )->Normal:\n",
    "    \"\"\"Get the mean and cov for the nth Normal distribution in the list \"\"\"\n",
    "    return MNormal(self.mean[n], self.cov[n])"
   ]
  },
  {
   "cell_type": "code",
   "execution_count": null,
   "id": "09b7c5d4-1e17-4663-9ccc-51464a8d1e58",
   "metadata": {},
   "outputs": [],
   "source": [
    "#| export\n",
    "@patch\n",
    "def detach(self: ListMNormal)->ListMNormal:\n",
    "    \"\"\"Detach both mean and cov at once \"\"\"\n",
    "    return ListMNormal(self.mean.detach(), self.cov.detach())"
   ]
  },
  {
   "cell_type": "code",
   "execution_count": null,
   "id": "635d5f79-eeb3-4f3a-832f-763ccad5dafa",
   "metadata": {},
   "outputs": [
    {
     "data": {
      "text/plain": [
       "MultiNormal(mean=tensor([0.2230, 0.6219, 0.0614, 0.4108, 0.0269, 0.8821, 0.0538, 0.4934, 0.6936,\n",
       "        0.7251]), cov=tensor([[0.6778, 0.9081, 0.1468, 0.2159, 0.9794, 0.1789, 0.1370, 0.0231, 0.2010,\n",
       "         0.4429],\n",
       "        [0.4284, 0.9975, 0.5105, 0.8471, 0.9617, 0.2563, 0.7764, 0.2269, 0.3718,\n",
       "         0.5055],\n",
       "        [0.9956, 0.4071, 0.2768, 0.2514, 0.9048, 0.5803, 0.9003, 0.5310, 0.5541,\n",
       "         0.2492],\n",
       "        [0.0716, 0.7444, 0.7611, 0.6266, 0.6688, 0.6224, 0.0499, 0.5091, 0.2171,\n",
       "         0.2908],\n",
       "        [0.8675, 0.2983, 0.2988, 0.4142, 0.8150, 0.7652, 0.0637, 0.6526, 0.8359,\n",
       "         0.8151],\n",
       "        [0.7582, 0.4173, 0.8226, 0.8180, 0.1584, 0.3182, 0.3375, 0.9921, 0.3909,\n",
       "         0.2029],\n",
       "        [0.0842, 0.0666, 0.3392, 0.4647, 0.3287, 0.3195, 0.3058, 0.8487, 0.0657,\n",
       "         0.9835],\n",
       "        [0.6502, 0.6589, 0.3418, 0.0751, 0.3161, 0.5982, 0.0325, 0.8544, 0.7457,\n",
       "         0.4674],\n",
       "        [0.5499, 0.7042, 0.1712, 0.4583, 0.4671, 0.3013, 0.6306, 0.8924, 0.9835,\n",
       "         0.8284],\n",
       "        [0.2322, 0.0791, 0.8578, 0.0079, 0.9971, 0.3862, 0.1565, 0.7726, 0.6914,\n",
       "         0.9672]]))"
      ]
     },
     "execution_count": null,
     "metadata": {},
     "output_type": "execute_result"
    }
   ],
   "source": [
    "ListMNormal(torch.rand(2,10), torch.rand(2,10,10))[1]"
   ]
  },
  {
   "cell_type": "markdown",
   "id": "15e36928-2ce7-4c0d-ac60-093d59ecd7fa",
   "metadata": {},
   "source": [
    "### Conditional Predictions"
   ]
  },
  {
   "cell_type": "markdown",
   "id": "beac4839-c045-4a25-bbe4-76cff50fcec3",
   "metadata": {},
   "source": [
    "This add the supports for conditional predictions, which means that at the time (t) when we are making the predictions some of the variables have been actually observed. Since the model prediction is a normal distribution we can condition on the observed values and thus improve the predictions."
   ]
  },
  {
   "cell_type": "markdown",
   "id": "1d7d9bb7-e7b1-4984-9bc1-5001ad92d216",
   "metadata": {},
   "source": [
    "Therefore we need to compute the conditional distribution of a normal ^[https://cs.nyu.edu/~roweis/notes/gaussid.pdf eq, 5a, 5d]\n",
    "\n",
    "$$ X = \\left[\\begin{array}{c} x \\\\ o \\end{array} \\right] $$\n",
    "\n",
    "$$ p(X) = N\\left(\\left[ \\begin{array}{c} \\mu_x \\\\ \\mu_o \\end{array} \\right], \\left[\\begin{array}{cc} \\Sigma_{xx} & \\Sigma_{xo} \\\\ \\Sigma_{ox} & \\Sigma_{oo} \\end{array} \\right]\\right)$$\n",
    "\n",
    "where $x$ is a vector of variable that need to predicted and $o$ is a vector of the variables that have been observed\n",
    "\n",
    "\n",
    "then the conditional distribution is:\n",
    "\n",
    "$$p(x|o) = N(\\mu_x + \\Sigma_{xo}\\Sigma_{oo}^{-1}(o - \\mu_o), \\Sigma_{xx} - \\Sigma_{xo}\\Sigma_{oo}^{-1}\\Sigma_{ox})$$"
   ]
  },
  {
   "cell_type": "code",
   "execution_count": null,
   "id": "8ef2b518-bc6a-481c-83cb-a6b8db9e2c89",
   "metadata": {},
   "outputs": [],
   "source": [
    "#| export\n",
    "import torch\n",
    "from torch.distributions import MultivariateNormal\n",
    "from torch.linalg import cholesky\n",
    "from torch import cholesky_inverse\n",
    "from torch import Tensor\n",
    "\n",
    "from fastcore.test import *\n",
    "from meteo_imp.utils import *"
   ]
  },
  {
   "cell_type": "markdown",
   "id": "6b6a796f-84cc-4fdd-9a0e-000634949fe3",
   "metadata": {},
   "source": [
    "This is the direct implementation of the equations"
   ]
  },
  {
   "cell_type": "code",
   "execution_count": null,
   "id": "6e091217-11b7-4251-af9a-93c6969cbb0a",
   "metadata": {},
   "outputs": [],
   "source": [
    "def _conditional_guassian_base(\n",
    "                         μ: Tensor, # mean with shape `[n_vars]`\n",
    "                         Σ: Tensor, # cov with shape `[n_vars, n_vars] `\n",
    "                         obs: Tensor, # Observations with shape `[n_vars]`\n",
    "                         idx: Tensor # Boolean tensor specifying for each variable is observed (True) or not (False). Shape `[n_vars]`\n",
    "                        ) -> ListNormal: # Distribution conditioned on observations\n",
    "    μ_x = μ[~idx]\n",
    "    μ_o = μ[idx]\n",
    "    \n",
    "    Σ_xx = Σ[~idx,:][:, ~idx]\n",
    "    Σ_xo = Σ[~idx,:][:, idx]\n",
    "    Σ_ox = Σ[idx,:][:, ~idx]\n",
    "    Σ_oo = Σ[idx,:][:, idx]\n",
    "    \n",
    "    Σ_oo_inv = torch.linalg.inv(Σ_oo)\n",
    "    \n",
    "    mean = μ_x + Σ_xo@Σ_oo_inv@(obs - μ_o)\n",
    "    cov = Σ_xx - Σ_xo@Σ_oo_inv@Σ_ox\n",
    "    \n",
    "    return ListNormal(mean, cov)\n",
    "    "
   ]
  },
  {
   "cell_type": "markdown",
   "id": "88285fc6-28a3-46dd-8d25-99e4302df022",
   "metadata": {},
   "source": [
    " faster version"
   ]
  },
  {
   "cell_type": "code",
   "execution_count": null,
   "id": "fccdfddc-01e9-45a1-b2f7-173652fcdb3f",
   "metadata": {},
   "outputs": [],
   "source": [
    "#| export\n",
    "def conditional_guassian(\n",
    "                         μ: Tensor, # mean with shape `[n_vars]`\n",
    "                         Σ: Tensor, # cov with shape `[n_vars, n_vars] `\n",
    "                         obs: Tensor, # Observations with shape `[n_obs]`, where `n_obs = sum(idx)`\n",
    "                         idx: Tensor # Boolean tensor specifying for each variable is observed (True) or not (False). Shape `[n_vars]`\n",
    "                        ) -> ListNormal: # Distribution conditioned on observations. shape `[n_vars - n_obs]`\n",
    "    assert μ.shape[0] == idx.shape[0]\n",
    "    assert obs.shape[0] == sum(idx)\n",
    "    \n",
    "    μ_x = μ[~idx]\n",
    "    μ_o = μ[idx]\n",
    "    \n",
    "    Σ_xx = Σ[~idx,:][:, ~idx]\n",
    "    Σ_xo = Σ[~idx,:][:, idx]\n",
    "    Σ_ox = Σ[idx,:][:, ~idx]\n",
    "    Σ_oo = Σ[idx,:][:, idx]\n",
    "    \n",
    "    Σ_oo_inv = cholesky_inverse(cholesky(Σ_oo))\n",
    "    \n",
    "    \n",
    "    mean = μ_x + Σ_xo@Σ_oo_inv@(obs - μ_o)\n",
    "    cov = Σ_xx - Σ_xo@Σ_oo_inv@Σ_ox\n",
    "    \n",
    "    return ListNormal(mean, cov)\n",
    "    "
   ]
  },
  {
   "cell_type": "code",
   "execution_count": null,
   "id": "08dadc5c-067f-4ce5-a82a-8e85d48588e8",
   "metadata": {},
   "outputs": [],
   "source": [
    "# example distribution with only 2 variables\n",
    "μ = torch.tensor([.5, 1.])\n",
    "Σ = torch.tensor([[1., .5], [.5 ,1.]])\n",
    "\n",
    "\n",
    "idx = torch.tensor([True, False]) # second variable is the observed one\n",
    "\n",
    "obs = torch.tensor(5.) # value of second variable\n",
    "\n",
    "gauss_cond = conditional_guassian(μ, Σ, obs, idx)\n",
    "\n",
    "# hardcoded values to test that the code is working, see also for alternative implementation https://python.quantecon.org/multivariate_normal.html\n",
    "test_close(3.25, gauss_cond.mean.item())\n",
    "test_close(.75, gauss_cond.cov.item())"
   ]
  },
  {
   "cell_type": "markdown",
   "id": "9c6ee528-b358-496e-8173-78e7801f16de",
   "metadata": {},
   "source": [
    "## Improvements"
   ]
  },
  {
   "cell_type": "markdown",
   "id": "a0509e73-399a-4db8-bc94-42234457d5a1",
   "metadata": {},
   "source": [
    "Use `cholesky` decomposition and `cholesky_solve` to improve performance of matrix inversion\n",
    "\n",
    "see the [Probabilist machine learning course from uni Tübigen](https://uni-tuebingen.de/en/180804), specifically the code from the [Gaussian Regression Notebook](https://uni-tuebingen.de/fileadmin/Uni_Tuebingen/Fakultaeten/MatNat/Fachbereiche/Informatik/Lehrstuehle/MethMaschLern/Probabilistic_ML/Notebook_Vorlesung_7___9/Gaussian_Linear_Regression.ipynb) for details"
   ]
  },
  {
   "cell_type": "code",
   "execution_count": null,
   "id": "018490c6-5b05-4e27-9535-ed4f9e4257d7",
   "metadata": {},
   "outputs": [],
   "source": [
    "#| export\n",
    "def to_posdef(A):\n",
    "    return A @ A.mT + 1e-3"
   ]
  },
  {
   "cell_type": "code",
   "execution_count": null,
   "id": "8f4ce09d-576e-41e9-ac0d-c5b1ad2563ed",
   "metadata": {},
   "outputs": [],
   "source": [
    "n_var = 5\n",
    "mean = torch.rand(n_var)\n",
    "cov = to_posdef(torch.rand(n_var, n_var))\n",
    "dist = MultivariateNormal(mean, cov)\n",
    "idx = torch.rand(n_var) > .5\n",
    "obs = torch.rand(n_var)[idx]"
   ]
  },
  {
   "cell_type": "code",
   "execution_count": null,
   "id": "cb728f7f-5bc8-4f56-a0b8-2919ab508cb3",
   "metadata": {},
   "outputs": [],
   "source": [
    "torch.linalg.inv(cov) "
   ]
  },
  {
   "cell_type": "code",
   "execution_count": null,
   "id": "70ab7b97-68e9-410c-b9ef-2920096006b8",
   "metadata": {},
   "outputs": [],
   "source": [
    "test_close(torch.linalg.inv(cov), cholesky_inverse(torch.linalg.cholesky(cov)), eps=2e-3)"
   ]
  },
  {
   "cell_type": "code",
   "execution_count": null,
   "id": "441a6527-2f74-4c74-babe-753a31da37b1",
   "metadata": {},
   "outputs": [],
   "source": [
    "A = to_posdef(torch.rand(2000, 2000)) "
   ]
  },
  {
   "cell_type": "code",
   "execution_count": null,
   "id": "8fa60488-e695-4f33-8166-3a54c0de0c50",
   "metadata": {},
   "outputs": [],
   "source": [
    "%timeit torch.linalg.inv(A)"
   ]
  },
  {
   "cell_type": "code",
   "execution_count": null,
   "id": "5727ea1d-9585-4906-956f-6c4a13e0d984",
   "metadata": {},
   "outputs": [],
   "source": [
    "%timeit cholesky_inverse(torch.linalg.cholesky(A))"
   ]
  },
  {
   "cell_type": "markdown",
   "id": "91eeb54b-2ada-4813-9386-2780b6138a1c",
   "metadata": {},
   "source": [
    "The second version is a bit faster"
   ]
  },
  {
   "cell_type": "code",
   "execution_count": null,
   "id": "22841f3c-1f54-4cc7-9122-738c1fa54a4d",
   "metadata": {},
   "outputs": [],
   "source": [
    "test_close(conditional_guassian(dist, obs, idx).mean, _conditional_guassian_base(dist, obs, idx).mean)"
   ]
  },
  {
   "cell_type": "code",
   "execution_count": null,
   "id": "ccc7deb2-b82f-408f-bed7-71df9e22b4e7",
   "metadata": {},
   "outputs": [],
   "source": [
    "B = to_posdef(torch.rand(n_var, n_var))"
   ]
  },
  {
   "cell_type": "code",
   "execution_count": null,
   "id": "0c1f9184-eac2-4b22-b160-d34db2262e65",
   "metadata": {},
   "outputs": [],
   "source": [
    "B @ torch.inverse(cov)"
   ]
  },
  {
   "cell_type": "code",
   "execution_count": null,
   "id": "922ea127-688b-45f2-855b-799304282959",
   "metadata": {},
   "outputs": [],
   "source": [
    "torch.cholesky_solve(cholesky(cov), B)"
   ]
  },
  {
   "cell_type": "markdown",
   "id": "f88dd5e0-9c9f-4d39-a9b6-b546658870a1",
   "metadata": {},
   "source": [
    "## Helper"
   ]
  },
  {
   "cell_type": "markdown",
   "id": "f4b18aaf-0dd6-4cea-a88f-83bd8ed966df",
   "metadata": {},
   "source": [
    "### cov2std"
   ]
  },
  {
   "cell_type": "code",
   "execution_count": null,
   "id": "d945e732-9e78-453e-9e7f-a5c3caba2bf5",
   "metadata": {},
   "outputs": [],
   "source": [
    "x = torch.stack([torch.eye(3)*i for i in  range(1,4)])"
   ]
  },
  {
   "cell_type": "code",
   "execution_count": null,
   "id": "695f8643-24bb-4c08-9d45-28f71d2087fc",
   "metadata": {},
   "outputs": [],
   "source": [
    "x"
   ]
  },
  {
   "cell_type": "code",
   "execution_count": null,
   "id": "703285a8-7aff-4766-81a5-f2edf0de1d7d",
   "metadata": {},
   "outputs": [],
   "source": [
    "torch.diagonal(x, dim1=1, dim2=2)"
   ]
  },
  {
   "cell_type": "code",
   "execution_count": null,
   "id": "1b1f666c-de1e-4d76-944a-36d5ed29b4c4",
   "metadata": {},
   "outputs": [],
   "source": [
    "#| export\n",
    "def cov2std(x):\n",
    "    \"convert cov of array of covariances to array of stddev\"\n",
    "    return torch.diagonal(torch.sqrt(x), dim1=1, dim2=2)"
   ]
  },
  {
   "cell_type": "markdown",
   "id": "26346ea1-ce63-4315-b39c-04d8eb859c20",
   "metadata": {},
   "source": [
    "## Export"
   ]
  },
  {
   "cell_type": "code",
   "execution_count": null,
   "id": "12c41b65-9eb8-4d70-b4fc-05113783e636",
   "metadata": {},
   "outputs": [],
   "source": [
    "#| hide\n",
    "from nbdev import nbdev_export\n",
    "nbdev_export()"
   ]
  }
 ],
 "metadata": {
  "kernelspec": {
   "display_name": "data_science",
   "language": "python",
   "name": "data_science"
  },
  "widgets": {
   "application/vnd.jupyter.widget-state+json": {
    "state": {},
    "version_major": 2,
    "version_minor": 0
   }
  }
 },
 "nbformat": 4,
 "nbformat_minor": 5
}
