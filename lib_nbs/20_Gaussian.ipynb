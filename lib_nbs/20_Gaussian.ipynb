{
 "cells": [
  {
   "cell_type": "markdown",
   "id": "db561d06-4f9a-4208-9d2b-4eecbed9d5f2",
   "metadata": {},
   "source": [
    "# Gaussian Distributions Utils\n",
    "> tools to work with gaussian distributions"
   ]
  },
  {
   "cell_type": "code",
   "execution_count": null,
   "id": "d653f259-ff61-423a-9df2-a76806b43bd4",
   "metadata": {},
   "outputs": [],
   "source": [
    "#| hide\n",
    "#| default_exp gaussian"
   ]
  },
  {
   "cell_type": "code",
   "execution_count": null,
   "id": "9ff53fd5-f8e9-476b-b3e6-510e8f00ba98",
   "metadata": {},
   "outputs": [],
   "source": [
    "from fastcore.test import *"
   ]
  },
  {
   "cell_type": "code",
   "execution_count": null,
   "id": "19ef62f7-ce93-4c23-9131-bf3b8d6b01be",
   "metadata": {},
   "outputs": [],
   "source": [
    "import altair as alt"
   ]
  },
  {
   "cell_type": "markdown",
   "id": "4b6052be-4b7f-4ce4-888f-7993a968854f",
   "metadata": {},
   "source": [
    "## Normal Parameters"
   ]
  },
  {
   "cell_type": "code",
   "execution_count": null,
   "id": "b2258941-42a0-4758-9c41-f9e3d98f3a95",
   "metadata": {},
   "outputs": [],
   "source": [
    "#| export\n",
    "from collections import namedtuple\n",
    "from dataclasses import dataclass\n",
    "from fastcore.basics import patch\n",
    "from torch import Tensor"
   ]
  },
  {
   "cell_type": "markdown",
   "id": "d8fcce88-e590-4c16-93fe-d699e4707404",
   "metadata": {},
   "source": [
    "### Normal"
   ]
  },
  {
   "cell_type": "code",
   "execution_count": null,
   "id": "30757497-c034-40ab-a82b-aa5044131ff1",
   "metadata": {},
   "outputs": [],
   "source": [
    "import torch"
   ]
  },
  {
   "cell_type": "code",
   "execution_count": null,
   "id": "b4cc15e7-8075-492e-8485-c787ffd37439",
   "metadata": {},
   "outputs": [],
   "source": [
    "#| export\n",
    "ListNormal = namedtuple('ListNormal', ['mean', 'std'])\n",
    "\n",
    "# class ListNormal:\n",
    "#     mean: Tensor\n",
    "#     std: Tensor"
   ]
  },
  {
   "cell_type": "code",
   "execution_count": null,
   "id": "b7971df6-3a32-4170-a645-a92fe20a0191",
   "metadata": {},
   "outputs": [],
   "source": [
    "#| export\n",
    "Normal = namedtuple('Normal', ['mean', 'std'])\n",
    "# @dataclass()\n",
    "# class Normal:\n",
    "#     mean: Tensor\n",
    "#     std: Tensor"
   ]
  },
  {
   "cell_type": "code",
   "execution_count": null,
   "id": "85c9cf5b-e990-4fa2-9b3b-b35b3dfca131",
   "metadata": {},
   "outputs": [],
   "source": [
    "#| export\n",
    "@patch\n",
    "def __getitem__(self: ListNormal, n:int\n",
    "           )->Normal:\n",
    "    \"\"\"Get the mean and cov for the nth Normal distribution in the list \"\"\"\n",
    "    return Normal(self.mean[n], self.std[n])"
   ]
  },
  {
   "cell_type": "code",
   "execution_count": null,
   "id": "b85e124b-fb20-4fb7-ba43-5c102f988582",
   "metadata": {},
   "outputs": [],
   "source": [
    "#| export\n",
    "@patch\n",
    "def detach(self: ListNormal)->ListNormal:\n",
    "    \"\"\"Detach both mean and cov at once \"\"\"\n",
    "    return ListNormal(self.mean.detach(), self.std.detach())"
   ]
  },
  {
   "cell_type": "code",
   "execution_count": null,
   "id": "4ada4239-da90-418a-b037-0b4784e2f5ff",
   "metadata": {},
   "outputs": [],
   "source": [
    "ln = ListNormal(torch.rand(10), torch.rand(10))"
   ]
  },
  {
   "cell_type": "code",
   "execution_count": null,
   "id": "08968d2d-3872-4792-8d83-14896c58b7f7",
   "metadata": {},
   "outputs": [
    {
     "data": {
      "text/plain": [
       "Normal(mean=tensor(0.6659), std=tensor(0.7099))"
      ]
     },
     "execution_count": null,
     "metadata": {},
     "output_type": "execute_result"
    }
   ],
   "source": [
    "ln[5]"
   ]
  },
  {
   "cell_type": "markdown",
   "id": "0f7a2bf8-bb5f-41b9-8135-3cca47338cc7",
   "metadata": {},
   "source": [
    "### Multivariate Normal"
   ]
  },
  {
   "cell_type": "code",
   "execution_count": null,
   "id": "b6fa7b27-afec-41e7-b718-c1981a19ec79",
   "metadata": {},
   "outputs": [],
   "source": [
    "#| export\n",
    "ListMNormal = namedtuple('ListMultiNormal', ['mean', 'cov'])\n",
    "# @dataclass()\n",
    "# class ListMNormal:\n",
    "#     mean: Tensor\n",
    "#     cov: Tensor"
   ]
  },
  {
   "cell_type": "code",
   "execution_count": null,
   "id": "aeabc21e-bd9f-412c-bf23-bc38dcaf2d67",
   "metadata": {},
   "outputs": [],
   "source": [
    "#| export\n",
    "MNormal = namedtuple('MultiNormal', ['mean', 'cov'])\n",
    "# @dataclass()\n",
    "# class MNormal:\n",
    "#     mean: Tensor\n",
    "#     cov: Tensor"
   ]
  },
  {
   "cell_type": "code",
   "execution_count": null,
   "id": "0746ca6e-ba58-496a-ad0d-42cdba514b4a",
   "metadata": {},
   "outputs": [],
   "source": [
    "#| export\n",
    "@patch\n",
    "def __getitem__(self: ListMNormal, n:int\n",
    "           )->Normal:\n",
    "    \"\"\"Get the mean and cov for the nth Normal distribution in the list \"\"\"\n",
    "    return MNormal(self.mean[n], self.cov[n])\n",
    "@patch\n",
    "def __setitem__(self: ListMNormal, idx, value)->Normal:\n",
    "    \"\"\"set the mean and cov for the nth Normal distribution in the list \"\"\"\n",
    "    self.mean[idx], self.cov[idx] = value"
   ]
  },
  {
   "cell_type": "code",
   "execution_count": null,
   "id": "09b7c5d4-1e17-4663-9ccc-51464a8d1e58",
   "metadata": {},
   "outputs": [],
   "source": [
    "#| export\n",
    "@patch\n",
    "def detach(self: ListMNormal)->ListMNormal:\n",
    "    \"\"\"Detach both mean and cov at once \"\"\"\n",
    "    return ListMNormal(self.mean.detach(), self.cov.detach())"
   ]
  },
  {
   "cell_type": "code",
   "execution_count": null,
   "id": "635d5f79-eeb3-4f3a-832f-763ccad5dafa",
   "metadata": {},
   "outputs": [
    {
     "data": {
      "text/plain": [
       "MultiNormal(mean=tensor([0.6145, 0.9545, 0.9506, 0.3708, 0.8807, 0.3148, 0.8657, 0.8969, 0.5861,\n",
       "        0.1759]), cov=tensor([[0.4695, 0.6334, 0.8019, 0.1890, 0.1260, 0.7271, 0.3380, 0.4822, 0.3967,\n",
       "         0.6806],\n",
       "        [0.4955, 0.5878, 0.1718, 0.1387, 0.7825, 0.9125, 0.8619, 0.6222, 0.2173,\n",
       "         0.5443],\n",
       "        [0.7097, 0.3823, 0.4766, 0.0937, 0.4554, 0.9178, 0.2110, 0.0275, 0.5144,\n",
       "         0.2217],\n",
       "        [0.3205, 0.6029, 0.0214, 0.4978, 0.6771, 0.8186, 0.5360, 0.1226, 0.3451,\n",
       "         0.0198],\n",
       "        [0.9501, 0.9777, 0.0515, 0.2082, 0.2785, 0.2175, 0.4271, 0.3827, 0.2398,\n",
       "         0.9729],\n",
       "        [0.1488, 0.8439, 0.2854, 0.7357, 0.9889, 0.2667, 0.0230, 0.1091, 0.1631,\n",
       "         0.8153],\n",
       "        [0.7805, 0.6039, 0.0336, 0.8994, 0.1771, 0.6934, 0.4101, 0.1552, 0.7183,\n",
       "         0.2132],\n",
       "        [0.8785, 0.0896, 0.9429, 0.4760, 0.5316, 0.7215, 0.3914, 0.2091, 0.2201,\n",
       "         0.9366],\n",
       "        [0.0676, 0.6766, 0.8490, 0.7209, 0.3308, 0.3180, 0.7028, 0.9616, 0.9841,\n",
       "         0.8715],\n",
       "        [0.6783, 0.5790, 0.3388, 0.9589, 0.4841, 0.8711, 0.5336, 0.9447, 0.1063,\n",
       "         0.8518]]))"
      ]
     },
     "execution_count": null,
     "metadata": {},
     "output_type": "execute_result"
    }
   ],
   "source": [
    "ListMNormal(torch.rand(2,10), torch.rand(2,10,10))[1]"
   ]
  },
  {
   "cell_type": "markdown",
   "id": "cdc544ed-4507-434e-9827-6bbdbee90ce1",
   "metadata": {},
   "source": [
    "## Positive Definite"
   ]
  },
  {
   "cell_type": "markdown",
   "id": "9b23aa12-f51c-4d74-8453-957f50722804",
   "metadata": {},
   "source": [
    "The covariance matrices need to be [positive definite](https://en.wikipedia.org/wiki/Definite_matrix)\n",
    "Those are utilities functions to check is a matrix is positive definite and to make any matrix positive definite"
   ]
  },
  {
   "cell_type": "markdown",
   "id": "0183b9f2-4571-42e3-9c94-acd4c9aee3a4",
   "metadata": {},
   "source": [
    "#### Other libraries"
   ]
  },
  {
   "cell_type": "markdown",
   "id": "47a92de1-901d-4368-902b-c24cde0cf5b4",
   "metadata": {},
   "source": [
    "Most libraries that implement Kalman Filters use manually specified parameters, which often don't have the issue of the positive definite constraint (eg. `pykalman`)\n",
    "\n",
    "From `statsmodels` statespace models:\n",
    ">Cholesky decomposition [...] requires that the matrix be positive definite. While this\n",
    "          should generally be true, it may not be in every case. [source](https://www.statsmodels.org/stable/generated/statsmodels.tsa.statespace.kalman_filter.KalmanFilter.set_inversion_method.html#statsmodels.tsa.statespace.kalman_filter.KalmanFilter.set_inversion_method)\n",
    "\n",
    "which seems to mean that they take into account the fact that during the filter calculations may not be positive definite\n",
    "\n"
   ]
  },
  {
   "cell_type": "code",
   "execution_count": null,
   "id": "f25a3cb5-5beb-4ebc-b615-4ecc991335f7",
   "metadata": {},
   "outputs": [],
   "source": [
    "#| export\n",
    "import pandas as pd\n",
    "from torch import Tensor\n",
    "import torch"
   ]
  },
  {
   "cell_type": "code",
   "execution_count": null,
   "id": "746bc2a9-5945-486d-b322-7227572217e5",
   "metadata": {},
   "outputs": [],
   "source": [
    "A = torch.rand(2,3,3) # batched random matrix used for testing"
   ]
  },
  {
   "cell_type": "markdown",
   "id": "e710542c-2904-43b0-ac20-c6c911e5b200",
   "metadata": {},
   "source": [
    "#### Symmetry"
   ]
  },
  {
   "cell_type": "code",
   "execution_count": null,
   "id": "f2d49fc6-7528-443d-9f2f-a6e8eca2f402",
   "metadata": {},
   "outputs": [],
   "source": [
    "#| export\n",
    "def is_symmetric(value, atol=1e-5):\n",
    "    return torch.isclose(value, value.mT, atol=atol).all(-1).all(-1)"
   ]
  },
  {
   "cell_type": "code",
   "execution_count": null,
   "id": "ecb1bbfb-84a9-46c4-8b83-3df3fac13038",
   "metadata": {},
   "outputs": [
    {
     "data": {
      "text/plain": [
       "tensor([False, False])"
      ]
     },
     "execution_count": null,
     "metadata": {},
     "output_type": "execute_result"
    }
   ],
   "source": [
    "is_symmetric(A)"
   ]
  },
  {
   "cell_type": "code",
   "execution_count": null,
   "id": "d4007148-6ccb-44df-b5cc-8bb62b0c7881",
   "metadata": {},
   "outputs": [],
   "source": [
    "#| export\n",
    "def symmetric_upto(value, start=-8):\n",
    "    for exp in torch.arange(start, 3):\n",
    "        if is_symmetric(value, atol=10**exp):\n",
    "            return exp.item()\n",
    "    return exp.item()\n",
    "\n",
    "def symmetric_upto_batched(value, start=-8):\n",
    "    return torch.tensor([symmetric_upto(v) for v in value])"
   ]
  },
  {
   "cell_type": "code",
   "execution_count": null,
   "id": "9ab33109-419b-4ee7-9f6e-6984800c23fd",
   "metadata": {},
   "outputs": [
    {
     "data": {
      "text/plain": [
       "tensor([0, 0])"
      ]
     },
     "execution_count": null,
     "metadata": {},
     "output_type": "execute_result"
    }
   ],
   "source": [
    "symmetric_upto_batched(A)"
   ]
  },
  {
   "cell_type": "markdown",
   "id": "f7997394-8c9b-44a6-91c9-14e176db6f49",
   "metadata": {},
   "source": [
    "#### is posdef"
   ]
  },
  {
   "cell_type": "markdown",
   "id": "524f81b2-645b-4b26-9e78-0c805147bbf7",
   "metadata": {},
   "source": [
    "Default pytorch check (uses symmetry + cholesky decomposition)"
   ]
  },
  {
   "cell_type": "code",
   "execution_count": null,
   "id": "5c42898d-229d-4f06-88ba-f7654759b3f8",
   "metadata": {},
   "outputs": [],
   "source": [
    "#| export\n",
    "def is_posdef(cov):\n",
    "    return torch.distributions.constraints.positive_definite.check(cov)"
   ]
  },
  {
   "cell_type": "code",
   "execution_count": null,
   "id": "006aa954-db02-43fe-81fd-c5fd1d067827",
   "metadata": {},
   "outputs": [
    {
     "data": {
      "text/plain": [
       "tensor([False, False])"
      ]
     },
     "execution_count": null,
     "metadata": {},
     "output_type": "execute_result"
    }
   ],
   "source": [
    "is_posdef(A)"
   ]
  },
  {
   "cell_type": "markdown",
   "id": "d731bd6c-3404-47dd-bb9e-55e20d0152a5",
   "metadata": {},
   "source": [
    "check if it is pos definite using eigenvalues. Positive definite matrix have all positive eigenvalues"
   ]
  },
  {
   "cell_type": "code",
   "execution_count": null,
   "id": "574f44cc-fbc0-45b6-a739-5b1ef2ea5567",
   "metadata": {},
   "outputs": [
    {
     "data": {
      "text/plain": [
       "tensor([[-0.7223,  0.3265,  1.4477],\n",
       "        [-0.8472,  0.4187,  1.3116]])"
      ]
     },
     "execution_count": null,
     "metadata": {},
     "output_type": "execute_result"
    }
   ],
   "source": [
    "torch.linalg.eigvalsh(A)"
   ]
  },
  {
   "cell_type": "code",
   "execution_count": null,
   "id": "48d1eec9-41ff-4a30-bed4-31015e54761f",
   "metadata": {},
   "outputs": [],
   "source": [
    "#| export\n",
    "def is_posdef_eigv(cov):\n",
    "    try:\n",
    "        eigv = torch.linalg.eigvalsh(cov)\n",
    "        return eigv.ge(0).all(-1), eigv\n",
    "    except torch._C._LinAlgError:\n",
    "        return torch.tensor(False), torch.tensor(torch.nan)"
   ]
  },
  {
   "cell_type": "code",
   "execution_count": null,
   "id": "a63ca037-3a4e-4d4c-89df-446975ac7550",
   "metadata": {},
   "outputs": [
    {
     "data": {
      "text/plain": [
       "(tensor([False, False]),\n",
       " tensor([[-0.7223,  0.3265,  1.4477],\n",
       "         [-0.8472,  0.4187,  1.3116]]))"
      ]
     },
     "execution_count": null,
     "metadata": {},
     "output_type": "execute_result"
    }
   ],
   "source": [
    "is_posdef_eigv(A)"
   ]
  },
  {
   "cell_type": "markdown",
   "id": "2f7ea674-a6cb-4a8e-8e07-7be024e60adc",
   "metadata": {},
   "source": [
    "Note that `is_posdef` and `is_posdef_eigv` can return different values, in general `is_posdef_eigv` is more tollerant"
   ]
  },
  {
   "cell_type": "markdown",
   "id": "a079a9b4-9437-42b6-a599-dd44421cdfbe",
   "metadata": {},
   "source": [
    "### Pytorch constraint"
   ]
  },
  {
   "cell_type": "markdown",
   "id": "71fbdcfb-b5f9-4cf4-a334-4201f993e490",
   "metadata": {},
   "source": [
    "transform any matrix $A$ into a positive definite matrix ($PD$) using the following formula\n",
    "\n",
    "$PD = AA^T + aI$ \n",
    "\n",
    "where $AA^T$ is a positive semi-definite matrix and $a$ is a small positive number that is added on the diagonal to ensure that the resulting matrix is positive definite (not semi-definite)\n",
    "\n",
    "the inverse transformation uses cholesky decomposition\n",
    "\n",
    "\n",
    "Another approach would be to multiple to lower triangular matrix, but they'd require a positive diagonal, which is harderd to obtain see [https://en.wikipedia.org/wiki/Definite_matrix#Cholesky_decomposition](https://en.wikipedia.org/wiki/Definite_matrix#Cholesky_decomposition)\n",
    "\n",
    "The API inspired by gpytorch constraints"
   ]
  },
  {
   "cell_type": "code",
   "execution_count": null,
   "id": "303e0cf9-eb63-49e0-b2e6-2425ba0b3206",
   "metadata": {},
   "outputs": [],
   "source": [
    "#| export\n",
    "from fastcore.foundation import docs\n",
    "from fastcore.basics import store_attr"
   ]
  },
  {
   "cell_type": "code",
   "execution_count": null,
   "id": "90876b7e-932b-4053-a2da-00ac7194db47",
   "metadata": {},
   "outputs": [],
   "source": [
    "from meteo_imp.utils import *"
   ]
  },
  {
   "cell_type": "code",
   "execution_count": null,
   "id": "dbb397a5-02e6-475b-b2b3-9a44bc7b6443",
   "metadata": {},
   "outputs": [],
   "source": [
    "#| export\n",
    "def inv_softplus(x):\n",
    "    return x + torch.log(-torch.expm1(-x))\n",
    "softplus = torch.nn.Softplus()"
   ]
  },
  {
   "cell_type": "code",
   "execution_count": null,
   "id": "b39415c0-730a-42f4-bee9-4b3a68f940af",
   "metadata": {},
   "outputs": [],
   "source": [
    "#| export\n",
    "def batch_diagonal(x): return torch.diagonal(x, dim1=-2, dim2=-1)\n",
    "def batch_diag_scatter(input, src): return torch.diagonal_scatter(input, src, dim1=-2, dim2=-1)\n",
    "def batch_diag_embed(x): return torch.diagonal_embed(x, dim1=-2, dim2=-1)"
   ]
  },
  {
   "cell_type": "code",
   "execution_count": null,
   "id": "592ac59f-6383-451e-a0c1-85aecea8f0d6",
   "metadata": {},
   "outputs": [],
   "source": [
    "#| export\n",
    "@docs\n",
    "class PosDef(): \n",
    "    def __init__(self, min_diag: float=1e-5 # min value for diagonal to ensure num stability\n",
    "                ): store_attr()\n",
    "    def transform_triangular(self, raw): return torch.tril(raw)\n",
    "    def transform_pos_diag(self, raw):\n",
    "        diag = softplus(batch_diagonal(raw)) + self.min_diag\n",
    "        return batch_diag_scatter(raw, diag)\n",
    "    def transform_cho_factor(self, raw):\n",
    "        return self.transform_pos_diag(self.transform_triangular(raw))\n",
    "    def transform(self,raw):\n",
    "        cho_factor = self.transform_cho_factor(raw)\n",
    "        return cho_factor @ cho_factor.mT \n",
    "    def inverse_transform(self, value): \n",
    "        cho_factor = torch.linalg.cholesky(value)\n",
    "        return batch_diag_scatter(cho_factor, inv_softplus(batch_diagonal(cho_factor) - self.min_diag))\n",
    "    \n",
    "    _docs = {'cls_doc': \"Positive Definite Constraint for PyTorch parameters\",\n",
    "             'transform_triangular': \"transform to lower triangular matrix\",\n",
    "             'transform_pos_diag': \"transform to matrix with positive diagonal\",\n",
    "             'transform_cho_factor': \"trasform to Choleksy factor (lower triangular matrix with positive diagonal)\",\n",
    "             'transform':\"transform any square matrix into a positive definite one\",\n",
    "             'inverse_transform': \"tranform positive definite matrix into a matrix that can be back transformed using `transform`\"}\n",
    "\n",
    "to_posdef = PosDef().transform"
   ]
  },
  {
   "cell_type": "code",
   "execution_count": null,
   "id": "a5b019e8-8be4-4b79-bcb1-d05439616f71",
   "metadata": {},
   "outputs": [],
   "source": [
    "constraint = PosDef()\n",
    "\n",
    "posdef = constraint.transform(A)"
   ]
  },
  {
   "cell_type": "code",
   "execution_count": null,
   "id": "ce104ecb-62dd-4d05-ac51-4bd1b60c1155",
   "metadata": {},
   "outputs": [
    {
     "data": {
      "text/html": [
       "<div style=\"display: flex; column-gap: 20px; flex-wrap: wrap;\" class='table table-striped table-sm'> <div><p style='font-size: 1.2rem;'>A</p> <pre>tensor([[[-0.9735,  0.3181, -0.4068],\n",
       "         [-0.2076, -0.6221,  0.8390],\n",
       "         [ 1.0047,  0.2603, -0.3212]],\n",
       "\n",
       "        [[ 0.1770, -1.1430,  0.0895],\n",
       "         [-0.5059,  0.2040,  0.4183],\n",
       "         [ 1.3645,  0.6840, -0.1320]]])</pre> </div><div><p style='font-size: 1.2rem;'>triang</p> <pre>tensor([[[-0.9735,  0.0000,  0.0000],\n",
       "         [-0.2076, -0.6221,  0.0000],\n",
       "         [ 1.0047,  0.2603, -0.3212]],\n",
       "\n",
       "        [[ 0.1770,  0.0000,  0.0000],\n",
       "         [-0.5059,  0.2040,  0.0000],\n",
       "         [ 1.3645,  0.6840, -0.1320]]])</pre> </div><div><p style='font-size: 1.2rem;'>p_diag</p> <pre>tensor([[[ 0.3205,  0.0000,  0.0000],\n",
       "         [-0.2076,  0.4297,  0.0000],\n",
       "         [ 1.0047,  0.2603,  0.5454]],\n",
       "\n",
       "        [[ 0.7856,  0.0000,  0.0000],\n",
       "         [-0.5059,  0.8003,  0.0000],\n",
       "         [ 1.3645,  0.6840,  0.6293]]])</pre> </div><div><p style='font-size: 1.2rem;'>cho_fact</p> <pre>tensor([[[ 0.3205,  0.0000,  0.0000],\n",
       "         [-0.2076,  0.4297,  0.0000],\n",
       "         [ 1.0047,  0.2603,  0.5454]],\n",
       "\n",
       "        [[ 0.7856,  0.0000,  0.0000],\n",
       "         [-0.5059,  0.8003,  0.0000],\n",
       "         [ 1.3645,  0.6840,  0.6293]]])</pre> </div><div><p style='font-size: 1.2rem;'>posdef</p> <pre>tensor([[[ 0.1027, -0.0665,  0.3220],\n",
       "         [-0.0665,  0.2278, -0.0967],\n",
       "         [ 0.3220, -0.0967,  1.3746]],\n",
       "\n",
       "        [[ 0.6171, -0.3974,  1.0719],\n",
       "         [-0.3974,  0.8965, -0.1430],\n",
       "         [ 1.0719, -0.1430,  2.7258]]])</pre> </div></div>"
      ],
      "text/plain": [
       "<IPython.core.display.HTML object>"
      ]
     },
     "metadata": {},
     "output_type": "display_data"
    }
   ],
   "source": [
    "A = torch.randn(2, 3,3)\n",
    "triang = constraint.transform_triangular(A)\n",
    "p_diag = constraint.transform_pos_diag(triang)\n",
    "cho_fact = constraint.transform_cho_factor(A)\n",
    "posdef = constraint.transform(A)\n",
    "show_as_row(A, triang, p_diag, cho_fact, posdef)"
   ]
  },
  {
   "cell_type": "code",
   "execution_count": null,
   "id": "7e0ce3c3-4299-4e64-afa8-de6b9be5a5fa",
   "metadata": {},
   "outputs": [
    {
     "data": {
      "text/html": [
       "<div style=\"display: flex; column-gap: 20px; flex-wrap: wrap;\" class='table table-striped table-sm'> <div><p style='font-size: 1.2rem;'>#0</p> <pre>tensor([[ True,  True],\n",
       "        [False, False]])</pre> </div><div><p style='font-size: 1.2rem;'>#1</p> <pre>(tensor([[ True,  True],\n",
       "        [False, False]]), tensor([[[ 0.0170,  0.2269,  1.4612],\n",
       "         [ 0.0498,  0.9789,  3.2107]],\n",
       "\n",
       "        [[-1.7920, -0.5417,  0.4168],\n",
       "         [-1.7235,  0.5702,  1.4023]]]))</pre> </div><div><p style='font-size: 1.2rem;'>#2</p> <pre>tensor([[ True,  True],\n",
       "        [False, False]])</pre> </div></div>"
      ],
      "text/plain": [
       "<IPython.core.display.HTML object>"
      ]
     },
     "metadata": {},
     "output_type": "display_data"
    }
   ],
   "source": [
    "show_as_row(is_posdef(torch.stack([posdef,A])), is_posdef_eigv(torch.stack([posdef,A])), is_symmetric(torch.stack([posdef,A])))"
   ]
  },
  {
   "cell_type": "code",
   "execution_count": null,
   "id": "b22bcc0d-2a72-42ea-90fc-03c501a31c1d",
   "metadata": {},
   "outputs": [],
   "source": [
    "test_eq(is_posdef(posdef).all(), True)"
   ]
  },
  {
   "cell_type": "code",
   "execution_count": null,
   "id": "9ec8fa94-ae91-4092-b16c-fd5da27a2f26",
   "metadata": {},
   "outputs": [],
   "source": [
    "test_close(posdef, constraint.transform(constraint.inverse_transform(posdef)))"
   ]
  },
  {
   "cell_type": "code",
   "execution_count": null,
   "id": "6a509720-fbef-42d6-aefe-89049c989c1a",
   "metadata": {},
   "outputs": [
    {
     "data": {
      "text/plain": [
       "-8"
      ]
     },
     "execution_count": null,
     "metadata": {},
     "output_type": "execute_result"
    }
   ],
   "source": [
    "symmetric_upto(posdef[0])"
   ]
  },
  {
   "cell_type": "code",
   "execution_count": null,
   "id": "aecb417c-5b7e-400b-87ee-32e55c0308cb",
   "metadata": {},
   "outputs": [
    {
     "data": {
      "text/plain": [
       "tensor(False)"
      ]
     },
     "execution_count": null,
     "metadata": {},
     "output_type": "execute_result"
    }
   ],
   "source": [
    "is_posdef_eigv(to_posdef(torch.rand(1000, 1000)))[0]"
   ]
  },
  {
   "cell_type": "markdown",
   "id": "b142782e-0349-42ec-947c-52090cc70244",
   "metadata": {},
   "source": [
    "### Fuzzer"
   ]
  },
  {
   "cell_type": "code",
   "execution_count": null,
   "id": "060caa8d-afea-4c35-998d-fd25c28303c5",
   "metadata": {},
   "outputs": [],
   "source": [
    "run_fuzzer = True # temporly disable for performance reasons"
   ]
  },
  {
   "cell_type": "code",
   "execution_count": null,
   "id": "8287758e-2485-412c-8fe3-defb4e6c30f8",
   "metadata": {},
   "outputs": [],
   "source": [
    "def random_posdef(bs=10,n=100,n_range=(0,1), **kwargs):\n",
    "    A = torch.rand(bs,n,n, **kwargs)  * (n_range[1]-n_range[0]) + n_range[0]\n",
    "    return PosDef().transform(A)"
   ]
  },
  {
   "cell_type": "code",
   "execution_count": null,
   "id": "06ddcbdc-a18e-4420-9ce8-dc7a713d60e5",
   "metadata": {},
   "outputs": [],
   "source": [
    "# fuzzer\n",
    "def fuzz_posdef(bs=10,n=100,n_range=(0,1), **kwargs):\n",
    "    posdef = random_posdef(bs, n, **kwargs)\n",
    "    return pd.DataFrame(\n",
    "        {'n': [n], 'range': str(n_range), 'n_samples': bs,\n",
    "         'posdef': is_posdef(posdef).sum().item() / bs,\n",
    "         'sym': is_symmetric(posdef).sum().item() / bs, \n",
    "         'posdef_eigv': is_posdef_eigv(posdef)[0].sum().item() / bs\n",
    "    })"
   ]
  },
  {
   "cell_type": "code",
   "execution_count": null,
   "id": "24629c37-72e1-42ee-9a94-acd37d8572ae",
   "metadata": {},
   "outputs": [
    {
     "data": {
      "text/html": [
       "<div>\n",
       "<style scoped>\n",
       "    .dataframe tbody tr th:only-of-type {\n",
       "        vertical-align: middle;\n",
       "    }\n",
       "\n",
       "    .dataframe tbody tr th {\n",
       "        vertical-align: top;\n",
       "    }\n",
       "\n",
       "    .dataframe thead th {\n",
       "        text-align: right;\n",
       "    }\n",
       "</style>\n",
       "<table border=\"1\" class=\"dataframe\">\n",
       "  <thead>\n",
       "    <tr style=\"text-align: right;\">\n",
       "      <th></th>\n",
       "      <th>n</th>\n",
       "      <th>range</th>\n",
       "      <th>n_samples</th>\n",
       "      <th>posdef</th>\n",
       "      <th>sym</th>\n",
       "      <th>posdef_eigv</th>\n",
       "    </tr>\n",
       "  </thead>\n",
       "  <tbody>\n",
       "    <tr>\n",
       "      <th>0</th>\n",
       "      <td>100</td>\n",
       "      <td>(0, 1)</td>\n",
       "      <td>10</td>\n",
       "      <td>0.9</td>\n",
       "      <td>1.0</td>\n",
       "      <td>0.8</td>\n",
       "    </tr>\n",
       "  </tbody>\n",
       "</table>\n",
       "</div>"
      ],
      "text/plain": [
       "     n   range  n_samples  posdef  sym  posdef_eigv\n",
       "0  100  (0, 1)         10     0.9  1.0          0.8"
      ]
     },
     "execution_count": null,
     "metadata": {},
     "output_type": "execute_result"
    }
   ],
   "source": [
    "fuzz_posdef()"
   ]
  },
  {
   "cell_type": "code",
   "execution_count": null,
   "id": "1a6bfbbc-b739-46bf-810f-dafb48538369",
   "metadata": {},
   "outputs": [],
   "source": [
    "n_min, n_max = -1, 1\n",
    "A = torch.rand(2,100,100)  * (n_max-n_min) + n_min"
   ]
  },
  {
   "cell_type": "code",
   "execution_count": null,
   "id": "8306aa34-1887-4082-95c7-7462705a33a9",
   "metadata": {},
   "outputs": [
    {
     "data": {
      "text/plain": [
       "tensor([False, False])"
      ]
     },
     "execution_count": null,
     "metadata": {},
     "output_type": "execute_result"
    }
   ],
   "source": [
    "is_posdef(to_posdef(A))"
   ]
  },
  {
   "cell_type": "code",
   "execution_count": null,
   "id": "d4804a9d-b7a2-44a5-8058-014c9fe5b487",
   "metadata": {},
   "outputs": [],
   "source": [
    "ma = torch.tensor([[1., 7],\n",
    "                   [-3, 4]])"
   ]
  },
  {
   "cell_type": "code",
   "execution_count": null,
   "id": "00559b80-7766-4930-82ca-d69b5d83b3ae",
   "metadata": {},
   "outputs": [
    {
     "data": {
      "text/plain": [
       "tensor(True)"
      ]
     },
     "execution_count": null,
     "metadata": {},
     "output_type": "execute_result"
    }
   ],
   "source": [
    "is_posdef(to_posdef(ma))"
   ]
  },
  {
   "cell_type": "code",
   "execution_count": null,
   "id": "40d5f410-3494-4916-aae9-b3d5fc0eab7d",
   "metadata": {},
   "outputs": [
    {
     "data": {
      "text/html": [
       "<div>\n",
       "<style scoped>\n",
       "    .dataframe tbody tr th:only-of-type {\n",
       "        vertical-align: middle;\n",
       "    }\n",
       "\n",
       "    .dataframe tbody tr th {\n",
       "        vertical-align: top;\n",
       "    }\n",
       "\n",
       "    .dataframe thead th {\n",
       "        text-align: right;\n",
       "    }\n",
       "</style>\n",
       "<table border=\"1\" class=\"dataframe\">\n",
       "  <thead>\n",
       "    <tr style=\"text-align: right;\">\n",
       "      <th></th>\n",
       "      <th>n</th>\n",
       "      <th>range</th>\n",
       "      <th>n_samples</th>\n",
       "      <th>posdef</th>\n",
       "      <th>sym</th>\n",
       "      <th>posdef_eigv</th>\n",
       "    </tr>\n",
       "  </thead>\n",
       "  <tbody>\n",
       "    <tr>\n",
       "      <th>0</th>\n",
       "      <td>100</td>\n",
       "      <td>(0, 1)</td>\n",
       "      <td>10</td>\n",
       "      <td>1.0</td>\n",
       "      <td>1.0</td>\n",
       "      <td>1.0</td>\n",
       "    </tr>\n",
       "  </tbody>\n",
       "</table>\n",
       "</div>"
      ],
      "text/plain": [
       "     n   range  n_samples  posdef  sym  posdef_eigv\n",
       "0  100  (0, 1)         10     1.0  1.0          1.0"
      ]
     },
     "execution_count": null,
     "metadata": {},
     "output_type": "execute_result"
    }
   ],
   "source": [
    "fuzz_posdef(device='cuda')"
   ]
  },
  {
   "cell_type": "code",
   "execution_count": null,
   "id": "c4c6879d-b247-4ba2-be64-6ff2b1276972",
   "metadata": {},
   "outputs": [],
   "source": [
    "# %time fuzz_posdef(bs=100, device='cuda')"
   ]
  },
  {
   "cell_type": "code",
   "execution_count": null,
   "id": "f02d6f9a-2acc-44d4-ba21-b56812e30664",
   "metadata": {},
   "outputs": [],
   "source": [
    "rate_posdef = pd.concat([fuzz_posdef(n=n, bs=100, n_range=n_range, device='cuda') \n",
    "               for n in [10, 100]\n",
    "               for n_range in [(-1,1),(0,1)]])"
   ]
  },
  {
   "cell_type": "code",
   "execution_count": null,
   "id": "a28de030-790d-470c-a6e9-a4317ec1823f",
   "metadata": {},
   "outputs": [],
   "source": [
    "import altair as alt\n",
    "from altair import datum"
   ]
  },
  {
   "cell_type": "code",
   "execution_count": null,
   "id": "2620c43a-732c-429f-ab01-bfa3751528eb",
   "metadata": {},
   "outputs": [
    {
     "data": {
      "text/html": [
       "<div>\n",
       "<style scoped>\n",
       "    .dataframe tbody tr th:only-of-type {\n",
       "        vertical-align: middle;\n",
       "    }\n",
       "\n",
       "    .dataframe tbody tr th {\n",
       "        vertical-align: top;\n",
       "    }\n",
       "\n",
       "    .dataframe thead th {\n",
       "        text-align: right;\n",
       "    }\n",
       "</style>\n",
       "<table border=\"1\" class=\"dataframe\">\n",
       "  <thead>\n",
       "    <tr style=\"text-align: right;\">\n",
       "      <th></th>\n",
       "      <th>n</th>\n",
       "      <th>range</th>\n",
       "      <th>n_samples</th>\n",
       "      <th>posdef</th>\n",
       "      <th>sym</th>\n",
       "      <th>posdef_eigv</th>\n",
       "    </tr>\n",
       "  </thead>\n",
       "  <tbody>\n",
       "    <tr>\n",
       "      <th>0</th>\n",
       "      <td>10</td>\n",
       "      <td>(-1, 1)</td>\n",
       "      <td>100</td>\n",
       "      <td>1.00</td>\n",
       "      <td>1.0</td>\n",
       "      <td>1.00</td>\n",
       "    </tr>\n",
       "    <tr>\n",
       "      <th>0</th>\n",
       "      <td>10</td>\n",
       "      <td>(0, 1)</td>\n",
       "      <td>100</td>\n",
       "      <td>1.00</td>\n",
       "      <td>1.0</td>\n",
       "      <td>1.00</td>\n",
       "    </tr>\n",
       "    <tr>\n",
       "      <th>0</th>\n",
       "      <td>100</td>\n",
       "      <td>(-1, 1)</td>\n",
       "      <td>100</td>\n",
       "      <td>0.96</td>\n",
       "      <td>1.0</td>\n",
       "      <td>0.98</td>\n",
       "    </tr>\n",
       "    <tr>\n",
       "      <th>0</th>\n",
       "      <td>100</td>\n",
       "      <td>(0, 1)</td>\n",
       "      <td>100</td>\n",
       "      <td>1.00</td>\n",
       "      <td>1.0</td>\n",
       "      <td>1.00</td>\n",
       "    </tr>\n",
       "  </tbody>\n",
       "</table>\n",
       "</div>"
      ],
      "text/plain": [
       "     n    range  n_samples  posdef  sym  posdef_eigv\n",
       "0   10  (-1, 1)        100    1.00  1.0         1.00\n",
       "0   10   (0, 1)        100    1.00  1.0         1.00\n",
       "0  100  (-1, 1)        100    0.96  1.0         0.98\n",
       "0  100   (0, 1)        100    1.00  1.0         1.00"
      ]
     },
     "execution_count": null,
     "metadata": {},
     "output_type": "execute_result"
    }
   ],
   "source": [
    "rate_posdef.head()"
   ]
  },
  {
   "cell_type": "code",
   "execution_count": null,
   "id": "e571117f-5f32-4eba-a1d6-ade0dbf2147d",
   "metadata": {},
   "outputs": [],
   "source": [
    "def _plot_var(df, var, x='n:N', row='range', y_domain=(0,1), height=70, width=50):\n",
    "    bar = alt.Chart(df).mark_bar().encode(\n",
    "        x = alt.X('n:N'),\n",
    "        y = alt.Y(var, scale=alt.Scale(domain=y_domain)),\n",
    "        color = 'n:N',\n",
    "    ).properties(height=height, width=width, ) \n",
    "    \n",
    "    text = alt.Chart(df).mark_text(dy=10, color='white').encode(\n",
    "        x = alt.X('n:N'),\n",
    "        y = alt.Y(var),\n",
    "        text = alt.Text(var, format=\".2f\")\n",
    "    )\n",
    "    \n",
    "    return (bar + text).facet(\n",
    "        row=row).properties(title=var, )\n",
    "    "
   ]
  },
  {
   "cell_type": "code",
   "execution_count": null,
   "id": "be6af11a-0524-4037-aa1a-b42fb3ff3339",
   "metadata": {},
   "outputs": [],
   "source": [
    "def _plot_var_box(df, var, x='n:N', row='range', column='noise:N', height=70, width=50, title=''):\n",
    "    box = alt.Chart(df).mark_boxplot().encode(\n",
    "        x = alt.X(x),\n",
    "        y = alt.Y(var),\n",
    "        color = x,\n",
    "    ).properties(height=height, width=width) \n",
    "\n",
    "    # text = alt.Chart(df).mark_text(dy=10, color='white').encode(\n",
    "    #     x = alt.X('n:N'),\n",
    "    #     y = alt.Y(var),\n",
    "    #     text = alt.Text(var, format=\".2f\")\n",
    "    # )\n",
    "    \n",
    "    return (box).facet(\n",
    "        column=column,\n",
    "        row=row).properties(title=title)\n"
   ]
  },
  {
   "cell_type": "code",
   "execution_count": null,
   "id": "b71d58a7-d96a-4e12-9840-2ad6bd2d2070",
   "metadata": {},
   "outputs": [],
   "source": [
    "from IPython import display\n",
    "import vl_convert as vlc\n",
    "from functools import partial"
   ]
  },
  {
   "cell_type": "markdown",
   "id": "90d36eec-460f-45fb-abe1-d7de2cc63b32",
   "metadata": {},
   "source": [
    "#### Generation of Random positive definite matrices "
   ]
  },
  {
   "cell_type": "code",
   "execution_count": null,
   "id": "0bc00e33-7144-48f7-8e0b-57011722349d",
   "metadata": {},
   "outputs": [],
   "source": [
    "def plot_posdef_simulation(n_s, range_s, bs=100, **kwargs):\n",
    "    if not run_fuzzer: return\n",
    "    rate_posdef = pd.concat([fuzz_posdef(n=n, bs=bs, n_range=range, device='cuda', **kwargs) \n",
    "               for n in n_s for range in range_s])\n",
    "    \n",
    "    print(rate_posdef)\n",
    "    vl_spec = alt.hconcat(*[_plot_var(rate_posdef, var) for var in ['posdef', 'posdef_eigv']]).to_json()\n",
    "    # workaround for bug in vegalite see https://github.com/altair-viz/altair/issues/2742\n",
    "    svg = vlc.vegalite_to_svg(vl_spec, vl_version='v5.3')\n",
    "    display.display(display.HTML(svg))"
   ]
  },
  {
   "cell_type": "code",
   "execution_count": null,
   "id": "0e99a4f3-7920-46cb-8f63-7fcaa5c2c5fb",
   "metadata": {},
   "outputs": [
    {
     "name": "stdout",
     "output_type": "stream",
     "text": [
      "     n    range  n_samples  posdef  sym  posdef_eigv\n",
      "0   10  (-1, 1)       1000   1.000  1.0        1.000\n",
      "0  100  (-1, 1)       1000   0.989  1.0        0.999\n"
     ]
    },
    {
     "data": {
      "text/html": [
       "<svg xmlns=\"http://www.w3.org/2000/svg\" xmlns:xlink=\"http://www.w3.org/1999/xlink\" version=\"1.1\" class=\"marks\" width=\"359\" height=\"142\" viewBox=\"0 0 359 142\"><rect width=\"359\" height=\"142\" fill=\"white\"/><g fill=\"none\" stroke-miterlimit=\"10\" transform=\"translate(93,27)\"><g class=\"mark-group role-frame root\" role=\"graphics-object\" aria-roledescription=\"group mark container\"><g transform=\"translate(0,0)\"><path class=\"background\" aria-hidden=\"true\" d=\"M0,0h0v0h0Z\"/><g><g class=\"mark-group role-scope concat_0_group\" role=\"graphics-object\" aria-roledescription=\"group mark container\"><g transform=\"translate(0,0)\"><path class=\"background\" aria-hidden=\"true\" d=\"M0,0h0v0h0Z\"/><g><g class=\"mark-group role-row-title row-title\" role=\"graphics-object\" aria-roledescription=\"group mark container\"><g transform=\"translate(-67,35)\"><path class=\"background\" aria-hidden=\"true\" d=\"M0,0h0v0h0Z\"/><g><g class=\"mark-group role-title\"><g transform=\"translate(-21.000000000000004,0)\"><path class=\"background\" aria-hidden=\"true\" d=\"M0,0h0v0h0Z\" pointer-events=\"none\"/><g><g class=\"mark-text role-title-text\" role=\"graphics-symbol\" aria-roledescription=\"title\" aria-label=\"Title text 'range'\" pointer-events=\"none\"><text text-anchor=\"middle\" transform=\"translate(0,0) rotate(-90) translate(0,9)\" font-family=\"sans-serif\" font-size=\"11px\" font-weight=\"bold\" fill=\"#000\" opacity=\"1\">range</text></g></g><path class=\"foreground\" aria-hidden=\"true\" d=\"\" pointer-events=\"none\" display=\"none\"/></g></g></g><path class=\"foreground\" aria-hidden=\"true\" d=\"\" display=\"none\"/></g></g><g class=\"mark-group role-row-header concat_0_row_header\" role=\"graphics-object\" aria-roledescription=\"group mark container\"><g transform=\"translate(-1,0)\"><path class=\"background\" aria-hidden=\"true\" d=\"M0,0h0v70h0Z\"/><g><g class=\"mark-group role-axis\" role=\"graphics-symbol\" aria-roledescription=\"axis\" aria-label=\"Y-axis titled 'posdef' for a linear scale with values from 0.0 to 1.0\"><g transform=\"translate(0.5,0.5)\"><path class=\"background\" aria-hidden=\"true\" d=\"M0,0h0v0h0Z\" pointer-events=\"none\"/><g><g class=\"mark-rule role-axis-tick\" pointer-events=\"none\"><line transform=\"translate(0,70)\" x2=\"-5\" y2=\"0\" stroke=\"#888\" stroke-width=\"1\" opacity=\"1\"/><line transform=\"translate(0,35)\" x2=\"-5\" y2=\"0\" stroke=\"#888\" stroke-width=\"1\" opacity=\"1\"/><line transform=\"translate(0,0)\" x2=\"-5\" y2=\"0\" stroke=\"#888\" stroke-width=\"1\" opacity=\"1\"/></g><g class=\"mark-text role-axis-label\" pointer-events=\"none\"><text text-anchor=\"end\" transform=\"translate(-7,73)\" font-family=\"sans-serif\" font-size=\"10px\" fill=\"#000\" opacity=\"1\">0.0</text><text text-anchor=\"end\" transform=\"translate(-7,38)\" font-family=\"sans-serif\" font-size=\"10px\" fill=\"#000\" opacity=\"1\">0.5</text><text text-anchor=\"end\" transform=\"translate(-7,3)\" font-family=\"sans-serif\" font-size=\"10px\" fill=\"#000\" opacity=\"1\">1.0</text></g><g class=\"mark-rule role-axis-domain\" pointer-events=\"none\"><line transform=\"translate(0,70)\" x2=\"0\" y2=\"-70\" stroke=\"#888\" stroke-width=\"1\" opacity=\"1\"/></g><g class=\"mark-text role-axis-title\" pointer-events=\"none\"><text text-anchor=\"middle\" transform=\"translate(-24.9013671875,35) rotate(-90) translate(0,-2)\" font-family=\"sans-serif\" font-size=\"11px\" font-weight=\"bold\" fill=\"#000\" opacity=\"1\">posdef</text></g></g><path class=\"foreground\" aria-hidden=\"true\" d=\"\" pointer-events=\"none\" display=\"none\"/></g></g><g class=\"mark-group role-title\"><g transform=\"translate(-55.9013671875,35)\"><path class=\"background\" aria-hidden=\"true\" d=\"M0,0h0v0h0Z\" pointer-events=\"none\"/><g><g class=\"mark-text role-title-text\" role=\"graphics-symbol\" aria-roledescription=\"title\" aria-label=\"Title text '(-1, 1)'\" pointer-events=\"none\"><text text-anchor=\"middle\" transform=\"translate(0,0) rotate(-90) translate(0,8)\" font-family=\"sans-serif\" font-size=\"10px\" fill=\"#000\" opacity=\"1\">(-1, 1)</text></g></g><path class=\"foreground\" aria-hidden=\"true\" d=\"\" pointer-events=\"none\" display=\"none\"/></g></g></g><path class=\"foreground\" aria-hidden=\"true\" d=\"\" display=\"none\"/></g></g><g class=\"mark-group role-column-footer concat_0_column_footer\" role=\"graphics-object\" aria-roledescription=\"group mark container\"><g transform=\"translate(0,71)\"><path class=\"background\" aria-hidden=\"true\" d=\"M0,0h50v0h-50Z\"/><g><g class=\"mark-group role-axis\" role=\"graphics-symbol\" aria-roledescription=\"axis\" aria-label=\"X-axis titled 'n' for a discrete scale with 2 values: 10, 100\"><g transform=\"translate(0.5,0.5)\"><path class=\"background\" aria-hidden=\"true\" d=\"M0,0h0v0h0Z\" pointer-events=\"none\"/><g><g class=\"mark-rule role-axis-tick\" pointer-events=\"none\"><line transform=\"translate(12,0)\" x2=\"0\" y2=\"5\" stroke=\"#888\" stroke-width=\"1\" opacity=\"1\"/><line transform=\"translate(37,0)\" x2=\"0\" y2=\"5\" stroke=\"#888\" stroke-width=\"1\" opacity=\"1\"/></g><g class=\"mark-text role-axis-label\" pointer-events=\"none\"><text text-anchor=\"end\" transform=\"translate(12,7) rotate(270) translate(0,3)\" font-family=\"sans-serif\" font-size=\"10px\" fill=\"#000\" opacity=\"1\">10</text><text text-anchor=\"end\" transform=\"translate(37,7) rotate(270) translate(0,3)\" font-family=\"sans-serif\" font-size=\"10px\" fill=\"#000\" opacity=\"1\">100</text></g><g class=\"mark-rule role-axis-domain\" pointer-events=\"none\"><line transform=\"translate(0,0)\" x2=\"50\" y2=\"0\" stroke=\"#888\" stroke-width=\"1\" opacity=\"1\"/></g><g class=\"mark-text role-axis-title\" pointer-events=\"none\"><text text-anchor=\"middle\" transform=\"translate(25,36.6845703125)\" font-family=\"sans-serif\" font-size=\"11px\" font-weight=\"bold\" fill=\"#000\" opacity=\"1\">n</text></g></g><path class=\"foreground\" aria-hidden=\"true\" d=\"\" pointer-events=\"none\" display=\"none\"/></g></g></g><path class=\"foreground\" aria-hidden=\"true\" d=\"\" display=\"none\"/></g></g><g class=\"mark-group role-scope concat_0_cell\" role=\"graphics-object\" aria-roledescription=\"group mark container\"><g transform=\"translate(0,0)\"><path class=\"background\" aria-hidden=\"true\" d=\"M0.5,0.5h50v70h-50Z\" stroke=\"#ddd\"/><g><g class=\"mark-group role-axis\" aria-hidden=\"true\"><g transform=\"translate(0.5,0.5)\"><path class=\"background\" aria-hidden=\"true\" d=\"M0,0h0v0h0Z\" pointer-events=\"none\"/><g><g class=\"mark-rule role-axis-grid\" pointer-events=\"none\"><line transform=\"translate(0,70)\" x2=\"50\" y2=\"0\" stroke=\"#ddd\" stroke-width=\"1\" opacity=\"1\"/><line transform=\"translate(0,35)\" x2=\"50\" y2=\"0\" stroke=\"#ddd\" stroke-width=\"1\" opacity=\"1\"/><line transform=\"translate(0,0)\" x2=\"50\" y2=\"0\" stroke=\"#ddd\" stroke-width=\"1\" opacity=\"1\"/></g></g><path class=\"foreground\" aria-hidden=\"true\" d=\"\" pointer-events=\"none\" display=\"none\"/></g></g><g class=\"mark-rect role-mark concat_0_child_layer_0_marks\" role=\"graphics-object\" aria-roledescription=\"rect mark container\"><path aria-label=\"n: 10; posdef: 1\" role=\"graphics-symbol\" aria-roledescription=\"bar\" d=\"M1.25,0h22.5v70h-22.5Z\" fill=\"#4c78a8\"/><path aria-label=\"n: 100; posdef: 0.989\" role=\"graphics-symbol\" aria-roledescription=\"bar\" d=\"M26.25,0.7700000000000007h22.5v69.23h-22.5Z\" fill=\"#f58518\"/></g><g class=\"mark-text role-mark concat_0_child_layer_1_marks\" role=\"graphics-object\" aria-roledescription=\"text mark container\"><text aria-label=\"n: 10; posdef: 1\" role=\"graphics-symbol\" aria-roledescription=\"text mark\" text-anchor=\"middle\" transform=\"translate(12.5,13)\" font-family=\"sans-serif\" font-size=\"11px\" fill=\"white\">1.00</text><text aria-label=\"n: 100; posdef: 0.989\" role=\"graphics-symbol\" aria-roledescription=\"text mark\" text-anchor=\"middle\" transform=\"translate(37.5,13.770000000000001)\" font-family=\"sans-serif\" font-size=\"11px\" fill=\"white\">0.99</text></g></g><path class=\"foreground\" aria-hidden=\"true\" d=\"\" display=\"none\"/></g></g><g class=\"mark-group role-title\"><g transform=\"translate(-88,-22)\"><path class=\"background\" aria-hidden=\"true\" d=\"M0,0h0v0h0Z\" pointer-events=\"none\"/><g><g class=\"mark-text role-title-text\" role=\"graphics-symbol\" aria-roledescription=\"title\" aria-label=\"Title text 'posdef'\" pointer-events=\"none\"><text text-anchor=\"start\" transform=\"translate(0,10)\" font-family=\"sans-serif\" font-size=\"13px\" font-weight=\"bold\" fill=\"#000\" opacity=\"1\">posdef</text></g></g><path class=\"foreground\" aria-hidden=\"true\" d=\"\" pointer-events=\"none\" display=\"none\"/></g></g></g><path class=\"foreground\" aria-hidden=\"true\" d=\"\" display=\"none\"/></g></g><g class=\"mark-group role-scope concat_1_group\" role=\"graphics-object\" aria-roledescription=\"group mark container\"><g transform=\"translate(159,0)\"><path class=\"background\" aria-hidden=\"true\" d=\"M0,0h0v0h0Z\"/><g><g class=\"mark-group role-row-title row-title\" role=\"graphics-object\" aria-roledescription=\"group mark container\"><g transform=\"translate(-67,35)\"><path class=\"background\" aria-hidden=\"true\" d=\"M0,0h0v0h0Z\"/><g><g class=\"mark-group role-title\"><g transform=\"translate(-21.000000000000004,0)\"><path class=\"background\" aria-hidden=\"true\" d=\"M0,0h0v0h0Z\" pointer-events=\"none\"/><g><g class=\"mark-text role-title-text\" role=\"graphics-symbol\" aria-roledescription=\"title\" aria-label=\"Title text 'range'\" pointer-events=\"none\"><text text-anchor=\"middle\" transform=\"translate(0,0) rotate(-90) translate(0,9)\" font-family=\"sans-serif\" font-size=\"11px\" font-weight=\"bold\" fill=\"#000\" opacity=\"1\">range</text></g></g><path class=\"foreground\" aria-hidden=\"true\" d=\"\" pointer-events=\"none\" display=\"none\"/></g></g></g><path class=\"foreground\" aria-hidden=\"true\" d=\"\" display=\"none\"/></g></g><g class=\"mark-group role-row-header concat_1_row_header\" role=\"graphics-object\" aria-roledescription=\"group mark container\"><g transform=\"translate(-1,0)\"><path class=\"background\" aria-hidden=\"true\" d=\"M0,0h0v70h0Z\"/><g><g class=\"mark-group role-axis\" role=\"graphics-symbol\" aria-roledescription=\"axis\" aria-label=\"Y-axis titled 'posdef_eigv' for a linear scale with values from 0.0 to 1.0\"><g transform=\"translate(0.5,0.5)\"><path class=\"background\" aria-hidden=\"true\" d=\"M0,0h0v0h0Z\" pointer-events=\"none\"/><g><g class=\"mark-rule role-axis-tick\" pointer-events=\"none\"><line transform=\"translate(0,70)\" x2=\"-5\" y2=\"0\" stroke=\"#888\" stroke-width=\"1\" opacity=\"1\"/><line transform=\"translate(0,35)\" x2=\"-5\" y2=\"0\" stroke=\"#888\" stroke-width=\"1\" opacity=\"1\"/><line transform=\"translate(0,0)\" x2=\"-5\" y2=\"0\" stroke=\"#888\" stroke-width=\"1\" opacity=\"1\"/></g><g class=\"mark-text role-axis-label\" pointer-events=\"none\"><text text-anchor=\"end\" transform=\"translate(-7,73)\" font-family=\"sans-serif\" font-size=\"10px\" fill=\"#000\" opacity=\"1\">0.0</text><text text-anchor=\"end\" transform=\"translate(-7,38)\" font-family=\"sans-serif\" font-size=\"10px\" fill=\"#000\" opacity=\"1\">0.5</text><text text-anchor=\"end\" transform=\"translate(-7,3)\" font-family=\"sans-serif\" font-size=\"10px\" fill=\"#000\" opacity=\"1\">1.0</text></g><g class=\"mark-rule role-axis-domain\" pointer-events=\"none\"><line transform=\"translate(0,70)\" x2=\"0\" y2=\"-70\" stroke=\"#888\" stroke-width=\"1\" opacity=\"1\"/></g><g class=\"mark-text role-axis-title\" pointer-events=\"none\"><text text-anchor=\"middle\" transform=\"translate(-24.9013671875,35) rotate(-90) translate(0,-2)\" font-family=\"sans-serif\" font-size=\"11px\" font-weight=\"bold\" fill=\"#000\" opacity=\"1\">posdef_eigv</text></g></g><path class=\"foreground\" aria-hidden=\"true\" d=\"\" pointer-events=\"none\" display=\"none\"/></g></g><g class=\"mark-group role-title\"><g transform=\"translate(-55.9013671875,35)\"><path class=\"background\" aria-hidden=\"true\" d=\"M0,0h0v0h0Z\" pointer-events=\"none\"/><g><g class=\"mark-text role-title-text\" role=\"graphics-symbol\" aria-roledescription=\"title\" aria-label=\"Title text '(-1, 1)'\" pointer-events=\"none\"><text text-anchor=\"middle\" transform=\"translate(0,0) rotate(-90) translate(0,8)\" font-family=\"sans-serif\" font-size=\"10px\" fill=\"#000\" opacity=\"1\">(-1, 1)</text></g></g><path class=\"foreground\" aria-hidden=\"true\" d=\"\" pointer-events=\"none\" display=\"none\"/></g></g></g><path class=\"foreground\" aria-hidden=\"true\" d=\"\" display=\"none\"/></g></g><g class=\"mark-group role-column-footer concat_1_column_footer\" role=\"graphics-object\" aria-roledescription=\"group mark container\"><g transform=\"translate(0,71)\"><path class=\"background\" aria-hidden=\"true\" d=\"M0,0h50v0h-50Z\"/><g><g class=\"mark-group role-axis\" role=\"graphics-symbol\" aria-roledescription=\"axis\" aria-label=\"X-axis titled 'n' for a discrete scale with 2 values: 10, 100\"><g transform=\"translate(0.5,0.5)\"><path class=\"background\" aria-hidden=\"true\" d=\"M0,0h0v0h0Z\" pointer-events=\"none\"/><g><g class=\"mark-rule role-axis-tick\" pointer-events=\"none\"><line transform=\"translate(12,0)\" x2=\"0\" y2=\"5\" stroke=\"#888\" stroke-width=\"1\" opacity=\"1\"/><line transform=\"translate(37,0)\" x2=\"0\" y2=\"5\" stroke=\"#888\" stroke-width=\"1\" opacity=\"1\"/></g><g class=\"mark-text role-axis-label\" pointer-events=\"none\"><text text-anchor=\"end\" transform=\"translate(12,7) rotate(270) translate(0,3)\" font-family=\"sans-serif\" font-size=\"10px\" fill=\"#000\" opacity=\"1\">10</text><text text-anchor=\"end\" transform=\"translate(37,7) rotate(270) translate(0,3)\" font-family=\"sans-serif\" font-size=\"10px\" fill=\"#000\" opacity=\"1\">100</text></g><g class=\"mark-rule role-axis-domain\" pointer-events=\"none\"><line transform=\"translate(0,0)\" x2=\"50\" y2=\"0\" stroke=\"#888\" stroke-width=\"1\" opacity=\"1\"/></g><g class=\"mark-text role-axis-title\" pointer-events=\"none\"><text text-anchor=\"middle\" transform=\"translate(25,36.6845703125)\" font-family=\"sans-serif\" font-size=\"11px\" font-weight=\"bold\" fill=\"#000\" opacity=\"1\">n</text></g></g><path class=\"foreground\" aria-hidden=\"true\" d=\"\" pointer-events=\"none\" display=\"none\"/></g></g></g><path class=\"foreground\" aria-hidden=\"true\" d=\"\" display=\"none\"/></g></g><g class=\"mark-group role-scope concat_1_cell\" role=\"graphics-object\" aria-roledescription=\"group mark container\"><g transform=\"translate(0,0)\"><path class=\"background\" aria-hidden=\"true\" d=\"M0.5,0.5h50v70h-50Z\" stroke=\"#ddd\"/><g><g class=\"mark-group role-axis\" aria-hidden=\"true\"><g transform=\"translate(0.5,0.5)\"><path class=\"background\" aria-hidden=\"true\" d=\"M0,0h0v0h0Z\" pointer-events=\"none\"/><g><g class=\"mark-rule role-axis-grid\" pointer-events=\"none\"><line transform=\"translate(0,70)\" x2=\"50\" y2=\"0\" stroke=\"#ddd\" stroke-width=\"1\" opacity=\"1\"/><line transform=\"translate(0,35)\" x2=\"50\" y2=\"0\" stroke=\"#ddd\" stroke-width=\"1\" opacity=\"1\"/><line transform=\"translate(0,0)\" x2=\"50\" y2=\"0\" stroke=\"#ddd\" stroke-width=\"1\" opacity=\"1\"/></g></g><path class=\"foreground\" aria-hidden=\"true\" d=\"\" pointer-events=\"none\" display=\"none\"/></g></g><g class=\"mark-rect role-mark concat_1_child_layer_0_marks\" role=\"graphics-object\" aria-roledescription=\"rect mark container\"><path aria-label=\"n: 10; posdef_eigv: 1\" role=\"graphics-symbol\" aria-roledescription=\"bar\" d=\"M1.25,0h22.5v70h-22.5Z\" fill=\"#4c78a8\"/><path aria-label=\"n: 100; posdef_eigv: 0.999\" role=\"graphics-symbol\" aria-roledescription=\"bar\" d=\"M26.25,0.07000000000000006h22.5v69.93h-22.5Z\" fill=\"#f58518\"/></g><g class=\"mark-text role-mark concat_1_child_layer_1_marks\" role=\"graphics-object\" aria-roledescription=\"text mark container\"><text aria-label=\"n: 10; posdef_eigv: 1\" role=\"graphics-symbol\" aria-roledescription=\"text mark\" text-anchor=\"middle\" transform=\"translate(12.5,13)\" font-family=\"sans-serif\" font-size=\"11px\" fill=\"white\">1.00</text><text aria-label=\"n: 100; posdef_eigv: 0.999\" role=\"graphics-symbol\" aria-roledescription=\"text mark\" text-anchor=\"middle\" transform=\"translate(37.5,13.07)\" font-family=\"sans-serif\" font-size=\"11px\" fill=\"white\">1.00</text></g></g><path class=\"foreground\" aria-hidden=\"true\" d=\"\" display=\"none\"/></g></g><g class=\"mark-group role-title\"><g transform=\"translate(-88,-22)\"><path class=\"background\" aria-hidden=\"true\" d=\"M0,0h0v0h0Z\" pointer-events=\"none\"/><g><g class=\"mark-text role-title-text\" role=\"graphics-symbol\" aria-roledescription=\"title\" aria-label=\"Title text 'posdef_eigv'\" pointer-events=\"none\"><text text-anchor=\"start\" transform=\"translate(0,10)\" font-family=\"sans-serif\" font-size=\"13px\" font-weight=\"bold\" fill=\"#000\" opacity=\"1\">posdef_eigv</text></g></g><path class=\"foreground\" aria-hidden=\"true\" d=\"\" pointer-events=\"none\" display=\"none\"/></g></g></g><path class=\"foreground\" aria-hidden=\"true\" d=\"\" display=\"none\"/></g></g><g class=\"mark-group role-legend\" role=\"graphics-symbol\" aria-roledescription=\"legend\" aria-label=\"Symbol legend titled 'n' for fill color with 2 values: 10, 100\"><g transform=\"translate(228,0)\"><path class=\"background\" aria-hidden=\"true\" d=\"M0,0h33v40h-33Z\" pointer-events=\"none\"/><g><g class=\"mark-group role-legend-entry\"><g transform=\"translate(0,16)\"><path class=\"background\" aria-hidden=\"true\" d=\"M0,0h0v0h0Z\" pointer-events=\"none\"/><g><g class=\"mark-group role-scope\" role=\"graphics-object\" aria-roledescription=\"group mark container\"><g transform=\"translate(0,0)\"><path class=\"background\" aria-hidden=\"true\" d=\"M0,0h32.6845703125v11h-32.6845703125Z\" pointer-events=\"none\" opacity=\"1\"/><g><g class=\"mark-symbol role-legend-symbol\" pointer-events=\"none\"><path transform=\"translate(6,6)\" d=\"M-5,-5h10v10h-10Z\" fill=\"#4c78a8\" stroke-width=\"1.5\" opacity=\"1\"/></g><g class=\"mark-text role-legend-label\" pointer-events=\"none\"><text text-anchor=\"start\" transform=\"translate(16,9)\" font-family=\"sans-serif\" font-size=\"10px\" fill=\"#000\" opacity=\"1\">10</text></g></g><path class=\"foreground\" aria-hidden=\"true\" d=\"\" pointer-events=\"none\" display=\"none\"/></g><g transform=\"translate(0,13)\"><path class=\"background\" aria-hidden=\"true\" d=\"M0,0h32.6845703125v11h-32.6845703125Z\" pointer-events=\"none\" opacity=\"1\"/><g><g class=\"mark-symbol role-legend-symbol\" pointer-events=\"none\"><path transform=\"translate(6,6)\" d=\"M-5,-5h10v10h-10Z\" fill=\"#f58518\" stroke-width=\"1.5\" opacity=\"1\"/></g><g class=\"mark-text role-legend-label\" pointer-events=\"none\"><text text-anchor=\"start\" transform=\"translate(16,9)\" font-family=\"sans-serif\" font-size=\"10px\" fill=\"#000\" opacity=\"1\">100</text></g></g><path class=\"foreground\" aria-hidden=\"true\" d=\"\" pointer-events=\"none\" display=\"none\"/></g></g></g><path class=\"foreground\" aria-hidden=\"true\" d=\"\" pointer-events=\"none\" display=\"none\"/></g></g><g class=\"mark-text role-legend-title\" pointer-events=\"none\"><text text-anchor=\"start\" transform=\"translate(0,9)\" font-family=\"sans-serif\" font-size=\"11px\" font-weight=\"bold\" fill=\"#000\" opacity=\"1\">n</text></g></g><path class=\"foreground\" aria-hidden=\"true\" d=\"\" pointer-events=\"none\" display=\"none\"/></g></g></g><path class=\"foreground\" aria-hidden=\"true\" d=\"\" display=\"none\"/></g></g></g></svg>"
      ],
      "text/plain": [
       "<IPython.core.display.HTML object>"
      ]
     },
     "metadata": {},
     "output_type": "display_data"
    }
   ],
   "source": [
    "plot_posdef_simulation(n_s = [10, 100], range_s = [(-1, 1)], bs=1000)"
   ]
  },
  {
   "cell_type": "markdown",
   "id": "4d78d9e8-c90f-4e68-b7cc-68abeefc0aa2",
   "metadata": {},
   "source": [
    "Let's go big by using a matrix `1000x1000`"
   ]
  },
  {
   "cell_type": "code",
   "execution_count": null,
   "id": "ccdf14a2-44c1-4c14-9930-03ab8e6589b1",
   "metadata": {},
   "outputs": [
    {
     "name": "stdout",
     "output_type": "stream",
     "text": [
      "      n     range  n_samples  posdef  sym  posdef_eigv\n",
      "0  1000  (10, 20)        100     0.0  1.0          0.0\n"
     ]
    },
    {
     "data": {
      "text/html": [
       "<svg xmlns=\"http://www.w3.org/2000/svg\" xmlns:xlink=\"http://www.w3.org/1999/xlink\" version=\"1.1\" class=\"marks\" width=\"365\" height=\"163\" viewBox=\"0 0 365 163\"><rect width=\"365\" height=\"163\" fill=\"white\"/><g fill=\"none\" stroke-miterlimit=\"10\" transform=\"translate(93,27)\"><g class=\"mark-group role-frame root\" role=\"graphics-object\" aria-roledescription=\"group mark container\"><g transform=\"translate(0,0)\"><path class=\"background\" aria-hidden=\"true\" d=\"M0,0h0v0h0Z\"/><g><g class=\"mark-group role-scope concat_0_group\" role=\"graphics-object\" aria-roledescription=\"group mark container\"><g transform=\"translate(0,0)\"><path class=\"background\" aria-hidden=\"true\" d=\"M0,0h0v0h0Z\"/><g><g class=\"mark-group role-row-title row-title\" role=\"graphics-object\" aria-roledescription=\"group mark container\"><g transform=\"translate(-67,43)\"><path class=\"background\" aria-hidden=\"true\" d=\"M0,0h0v0h0Z\"/><g><g class=\"mark-group role-title\"><g transform=\"translate(-21.000000000000004,0)\"><path class=\"background\" aria-hidden=\"true\" d=\"M0,0h0v0h0Z\" pointer-events=\"none\"/><g><g class=\"mark-text role-title-text\" role=\"graphics-symbol\" aria-roledescription=\"title\" aria-label=\"Title text 'range'\" pointer-events=\"none\"><text text-anchor=\"middle\" transform=\"translate(0,0) rotate(-90) translate(0,9)\" font-family=\"sans-serif\" font-size=\"11px\" font-weight=\"bold\" fill=\"#000\" opacity=\"1\">range</text></g></g><path class=\"foreground\" aria-hidden=\"true\" d=\"\" pointer-events=\"none\" display=\"none\"/></g></g></g><path class=\"foreground\" aria-hidden=\"true\" d=\"\" display=\"none\"/></g></g><g class=\"mark-group role-row-header concat_0_row_header\" role=\"graphics-object\" aria-roledescription=\"group mark container\"><g transform=\"translate(-1,0)\"><path class=\"background\" aria-hidden=\"true\" d=\"M0,0h0v70h0Z\"/><g><g class=\"mark-group role-axis\" role=\"graphics-symbol\" aria-roledescription=\"axis\" aria-label=\"Y-axis titled 'posdef' for a linear scale with values from 0.0 to 1.0\"><g transform=\"translate(0.5,0.5)\"><path class=\"background\" aria-hidden=\"true\" d=\"M0,0h0v0h0Z\" pointer-events=\"none\"/><g><g class=\"mark-rule role-axis-tick\" pointer-events=\"none\"><line transform=\"translate(0,70)\" x2=\"-5\" y2=\"0\" stroke=\"#888\" stroke-width=\"1\" opacity=\"1\"/><line transform=\"translate(0,35)\" x2=\"-5\" y2=\"0\" stroke=\"#888\" stroke-width=\"1\" opacity=\"1\"/><line transform=\"translate(0,0)\" x2=\"-5\" y2=\"0\" stroke=\"#888\" stroke-width=\"1\" opacity=\"1\"/></g><g class=\"mark-text role-axis-label\" pointer-events=\"none\"><text text-anchor=\"end\" transform=\"translate(-7,73)\" font-family=\"sans-serif\" font-size=\"10px\" fill=\"#000\" opacity=\"1\">0.0</text><text text-anchor=\"end\" transform=\"translate(-7,38)\" font-family=\"sans-serif\" font-size=\"10px\" fill=\"#000\" opacity=\"1\">0.5</text><text text-anchor=\"end\" transform=\"translate(-7,3)\" font-family=\"sans-serif\" font-size=\"10px\" fill=\"#000\" opacity=\"1\">1.0</text></g><g class=\"mark-rule role-axis-domain\" pointer-events=\"none\"><line transform=\"translate(0,70)\" x2=\"0\" y2=\"-70\" stroke=\"#888\" stroke-width=\"1\" opacity=\"1\"/></g><g class=\"mark-text role-axis-title\" pointer-events=\"none\"><text text-anchor=\"middle\" transform=\"translate(-24.9013671875,35) rotate(-90) translate(0,-2)\" font-family=\"sans-serif\" font-size=\"11px\" font-weight=\"bold\" fill=\"#000\" opacity=\"1\">posdef</text></g></g><path class=\"foreground\" aria-hidden=\"true\" d=\"\" pointer-events=\"none\" display=\"none\"/></g></g><g class=\"mark-group role-title\"><g transform=\"translate(-55.9013671875,35)\"><path class=\"background\" aria-hidden=\"true\" d=\"M0,0h0v0h0Z\" pointer-events=\"none\"/><g><g class=\"mark-text role-title-text\" role=\"graphics-symbol\" aria-roledescription=\"title\" aria-label=\"Title text '(10, 20)'\" pointer-events=\"none\"><text text-anchor=\"middle\" transform=\"translate(0,0) rotate(-90) translate(0,8)\" font-family=\"sans-serif\" font-size=\"10px\" fill=\"#000\" opacity=\"1\">(10, 20)</text></g></g><path class=\"foreground\" aria-hidden=\"true\" d=\"\" pointer-events=\"none\" display=\"none\"/></g></g></g><path class=\"foreground\" aria-hidden=\"true\" d=\"\" display=\"none\"/></g></g><g class=\"mark-group role-column-footer concat_0_column_footer\" role=\"graphics-object\" aria-roledescription=\"group mark container\"><g transform=\"translate(0,86)\"><path class=\"background\" aria-hidden=\"true\" d=\"M0,0h50v0h-50Z\"/><g><g class=\"mark-group role-axis\" role=\"graphics-symbol\" aria-roledescription=\"axis\" aria-label=\"X-axis titled 'n' for a discrete scale with 1 value: 1000\"><g transform=\"translate(0.5,0.5)\"><path class=\"background\" aria-hidden=\"true\" d=\"M0,0h0v0h0Z\" pointer-events=\"none\"/><g><g class=\"mark-rule role-axis-tick\" pointer-events=\"none\"><line transform=\"translate(25,0)\" x2=\"0\" y2=\"5\" stroke=\"#888\" stroke-width=\"1\" opacity=\"1\"/></g><g class=\"mark-text role-axis-label\" pointer-events=\"none\"><text text-anchor=\"end\" transform=\"translate(24.5,7) rotate(270) translate(0,3)\" font-family=\"sans-serif\" font-size=\"10px\" fill=\"#000\" opacity=\"1\">1000</text></g><g class=\"mark-rule role-axis-domain\" pointer-events=\"none\"><line transform=\"translate(0,0)\" x2=\"50\" y2=\"0\" stroke=\"#888\" stroke-width=\"1\" opacity=\"1\"/></g><g class=\"mark-text role-axis-title\" pointer-events=\"none\"><text text-anchor=\"middle\" transform=\"translate(25,42.24609375)\" font-family=\"sans-serif\" font-size=\"11px\" font-weight=\"bold\" fill=\"#000\" opacity=\"1\">n</text></g></g><path class=\"foreground\" aria-hidden=\"true\" d=\"\" pointer-events=\"none\" display=\"none\"/></g></g></g><path class=\"foreground\" aria-hidden=\"true\" d=\"\" display=\"none\"/></g></g><g class=\"mark-group role-scope concat_0_cell\" role=\"graphics-object\" aria-roledescription=\"group mark container\"><g transform=\"translate(0,0)\"><path class=\"background\" aria-hidden=\"true\" d=\"M0.5,0.5h50v70h-50Z\" stroke=\"#ddd\"/><g><g class=\"mark-group role-axis\" aria-hidden=\"true\"><g transform=\"translate(0.5,0.5)\"><path class=\"background\" aria-hidden=\"true\" d=\"M0,0h0v0h0Z\" pointer-events=\"none\"/><g><g class=\"mark-rule role-axis-grid\" pointer-events=\"none\"><line transform=\"translate(0,70)\" x2=\"50\" y2=\"0\" stroke=\"#ddd\" stroke-width=\"1\" opacity=\"1\"/><line transform=\"translate(0,35)\" x2=\"50\" y2=\"0\" stroke=\"#ddd\" stroke-width=\"1\" opacity=\"1\"/><line transform=\"translate(0,0)\" x2=\"50\" y2=\"0\" stroke=\"#ddd\" stroke-width=\"1\" opacity=\"1\"/></g></g><path class=\"foreground\" aria-hidden=\"true\" d=\"\" pointer-events=\"none\" display=\"none\"/></g></g><g class=\"mark-rect role-mark concat_0_child_layer_0_marks\" role=\"graphics-object\" aria-roledescription=\"rect mark container\"><path aria-label=\"n: 1000; posdef: 0\" role=\"graphics-symbol\" aria-roledescription=\"bar\" d=\"M2.5,70h45v0h-45Z\" fill=\"#4c78a8\"/></g><g class=\"mark-text role-mark concat_0_child_layer_1_marks\" role=\"graphics-object\" aria-roledescription=\"text mark container\"><text aria-label=\"n: 1000; posdef: 0\" role=\"graphics-symbol\" aria-roledescription=\"text mark\" text-anchor=\"middle\" transform=\"translate(25,83)\" font-family=\"sans-serif\" font-size=\"11px\" fill=\"white\">0.00</text></g></g><path class=\"foreground\" aria-hidden=\"true\" d=\"\" display=\"none\"/></g></g><g class=\"mark-group role-title\"><g transform=\"translate(-88,-22)\"><path class=\"background\" aria-hidden=\"true\" d=\"M0,0h0v0h0Z\" pointer-events=\"none\"/><g><g class=\"mark-text role-title-text\" role=\"graphics-symbol\" aria-roledescription=\"title\" aria-label=\"Title text 'posdef'\" pointer-events=\"none\"><text text-anchor=\"start\" transform=\"translate(0,10)\" font-family=\"sans-serif\" font-size=\"13px\" font-weight=\"bold\" fill=\"#000\" opacity=\"1\">posdef</text></g></g><path class=\"foreground\" aria-hidden=\"true\" d=\"\" pointer-events=\"none\" display=\"none\"/></g></g></g><path class=\"foreground\" aria-hidden=\"true\" d=\"\" display=\"none\"/></g></g><g class=\"mark-group role-scope concat_1_group\" role=\"graphics-object\" aria-roledescription=\"group mark container\"><g transform=\"translate(159,0)\"><path class=\"background\" aria-hidden=\"true\" d=\"M0,0h0v0h0Z\"/><g><g class=\"mark-group role-row-title row-title\" role=\"graphics-object\" aria-roledescription=\"group mark container\"><g transform=\"translate(-67,43)\"><path class=\"background\" aria-hidden=\"true\" d=\"M0,0h0v0h0Z\"/><g><g class=\"mark-group role-title\"><g transform=\"translate(-21.000000000000004,0)\"><path class=\"background\" aria-hidden=\"true\" d=\"M0,0h0v0h0Z\" pointer-events=\"none\"/><g><g class=\"mark-text role-title-text\" role=\"graphics-symbol\" aria-roledescription=\"title\" aria-label=\"Title text 'range'\" pointer-events=\"none\"><text text-anchor=\"middle\" transform=\"translate(0,0) rotate(-90) translate(0,9)\" font-family=\"sans-serif\" font-size=\"11px\" font-weight=\"bold\" fill=\"#000\" opacity=\"1\">range</text></g></g><path class=\"foreground\" aria-hidden=\"true\" d=\"\" pointer-events=\"none\" display=\"none\"/></g></g></g><path class=\"foreground\" aria-hidden=\"true\" d=\"\" display=\"none\"/></g></g><g class=\"mark-group role-row-header concat_1_row_header\" role=\"graphics-object\" aria-roledescription=\"group mark container\"><g transform=\"translate(-1,0)\"><path class=\"background\" aria-hidden=\"true\" d=\"M0,0h0v70h0Z\"/><g><g class=\"mark-group role-axis\" role=\"graphics-symbol\" aria-roledescription=\"axis\" aria-label=\"Y-axis titled 'posdef_eigv' for a linear scale with values from 0.0 to 1.0\"><g transform=\"translate(0.5,0.5)\"><path class=\"background\" aria-hidden=\"true\" d=\"M0,0h0v0h0Z\" pointer-events=\"none\"/><g><g class=\"mark-rule role-axis-tick\" pointer-events=\"none\"><line transform=\"translate(0,70)\" x2=\"-5\" y2=\"0\" stroke=\"#888\" stroke-width=\"1\" opacity=\"1\"/><line transform=\"translate(0,35)\" x2=\"-5\" y2=\"0\" stroke=\"#888\" stroke-width=\"1\" opacity=\"1\"/><line transform=\"translate(0,0)\" x2=\"-5\" y2=\"0\" stroke=\"#888\" stroke-width=\"1\" opacity=\"1\"/></g><g class=\"mark-text role-axis-label\" pointer-events=\"none\"><text text-anchor=\"end\" transform=\"translate(-7,73)\" font-family=\"sans-serif\" font-size=\"10px\" fill=\"#000\" opacity=\"1\">0.0</text><text text-anchor=\"end\" transform=\"translate(-7,38)\" font-family=\"sans-serif\" font-size=\"10px\" fill=\"#000\" opacity=\"1\">0.5</text><text text-anchor=\"end\" transform=\"translate(-7,3)\" font-family=\"sans-serif\" font-size=\"10px\" fill=\"#000\" opacity=\"1\">1.0</text></g><g class=\"mark-rule role-axis-domain\" pointer-events=\"none\"><line transform=\"translate(0,70)\" x2=\"0\" y2=\"-70\" stroke=\"#888\" stroke-width=\"1\" opacity=\"1\"/></g><g class=\"mark-text role-axis-title\" pointer-events=\"none\"><text text-anchor=\"middle\" transform=\"translate(-24.9013671875,35) rotate(-90) translate(0,-2)\" font-family=\"sans-serif\" font-size=\"11px\" font-weight=\"bold\" fill=\"#000\" opacity=\"1\">posdef_eigv</text></g></g><path class=\"foreground\" aria-hidden=\"true\" d=\"\" pointer-events=\"none\" display=\"none\"/></g></g><g class=\"mark-group role-title\"><g transform=\"translate(-55.9013671875,35)\"><path class=\"background\" aria-hidden=\"true\" d=\"M0,0h0v0h0Z\" pointer-events=\"none\"/><g><g class=\"mark-text role-title-text\" role=\"graphics-symbol\" aria-roledescription=\"title\" aria-label=\"Title text '(10, 20)'\" pointer-events=\"none\"><text text-anchor=\"middle\" transform=\"translate(0,0) rotate(-90) translate(0,8)\" font-family=\"sans-serif\" font-size=\"10px\" fill=\"#000\" opacity=\"1\">(10, 20)</text></g></g><path class=\"foreground\" aria-hidden=\"true\" d=\"\" pointer-events=\"none\" display=\"none\"/></g></g></g><path class=\"foreground\" aria-hidden=\"true\" d=\"\" display=\"none\"/></g></g><g class=\"mark-group role-column-footer concat_1_column_footer\" role=\"graphics-object\" aria-roledescription=\"group mark container\"><g transform=\"translate(0,86)\"><path class=\"background\" aria-hidden=\"true\" d=\"M0,0h50v0h-50Z\"/><g><g class=\"mark-group role-axis\" role=\"graphics-symbol\" aria-roledescription=\"axis\" aria-label=\"X-axis titled 'n' for a discrete scale with 1 value: 1000\"><g transform=\"translate(0.5,0.5)\"><path class=\"background\" aria-hidden=\"true\" d=\"M0,0h0v0h0Z\" pointer-events=\"none\"/><g><g class=\"mark-rule role-axis-tick\" pointer-events=\"none\"><line transform=\"translate(25,0)\" x2=\"0\" y2=\"5\" stroke=\"#888\" stroke-width=\"1\" opacity=\"1\"/></g><g class=\"mark-text role-axis-label\" pointer-events=\"none\"><text text-anchor=\"end\" transform=\"translate(24.5,7) rotate(270) translate(0,3)\" font-family=\"sans-serif\" font-size=\"10px\" fill=\"#000\" opacity=\"1\">1000</text></g><g class=\"mark-rule role-axis-domain\" pointer-events=\"none\"><line transform=\"translate(0,0)\" x2=\"50\" y2=\"0\" stroke=\"#888\" stroke-width=\"1\" opacity=\"1\"/></g><g class=\"mark-text role-axis-title\" pointer-events=\"none\"><text text-anchor=\"middle\" transform=\"translate(25,42.24609375)\" font-family=\"sans-serif\" font-size=\"11px\" font-weight=\"bold\" fill=\"#000\" opacity=\"1\">n</text></g></g><path class=\"foreground\" aria-hidden=\"true\" d=\"\" pointer-events=\"none\" display=\"none\"/></g></g></g><path class=\"foreground\" aria-hidden=\"true\" d=\"\" display=\"none\"/></g></g><g class=\"mark-group role-scope concat_1_cell\" role=\"graphics-object\" aria-roledescription=\"group mark container\"><g transform=\"translate(0,0)\"><path class=\"background\" aria-hidden=\"true\" d=\"M0.5,0.5h50v70h-50Z\" stroke=\"#ddd\"/><g><g class=\"mark-group role-axis\" aria-hidden=\"true\"><g transform=\"translate(0.5,0.5)\"><path class=\"background\" aria-hidden=\"true\" d=\"M0,0h0v0h0Z\" pointer-events=\"none\"/><g><g class=\"mark-rule role-axis-grid\" pointer-events=\"none\"><line transform=\"translate(0,70)\" x2=\"50\" y2=\"0\" stroke=\"#ddd\" stroke-width=\"1\" opacity=\"1\"/><line transform=\"translate(0,35)\" x2=\"50\" y2=\"0\" stroke=\"#ddd\" stroke-width=\"1\" opacity=\"1\"/><line transform=\"translate(0,0)\" x2=\"50\" y2=\"0\" stroke=\"#ddd\" stroke-width=\"1\" opacity=\"1\"/></g></g><path class=\"foreground\" aria-hidden=\"true\" d=\"\" pointer-events=\"none\" display=\"none\"/></g></g><g class=\"mark-rect role-mark concat_1_child_layer_0_marks\" role=\"graphics-object\" aria-roledescription=\"rect mark container\"><path aria-label=\"n: 1000; posdef_eigv: 0\" role=\"graphics-symbol\" aria-roledescription=\"bar\" d=\"M2.5,70h45v0h-45Z\" fill=\"#4c78a8\"/></g><g class=\"mark-text role-mark concat_1_child_layer_1_marks\" role=\"graphics-object\" aria-roledescription=\"text mark container\"><text aria-label=\"n: 1000; posdef_eigv: 0\" role=\"graphics-symbol\" aria-roledescription=\"text mark\" text-anchor=\"middle\" transform=\"translate(25,83)\" font-family=\"sans-serif\" font-size=\"11px\" fill=\"white\">0.00</text></g></g><path class=\"foreground\" aria-hidden=\"true\" d=\"\" display=\"none\"/></g></g><g class=\"mark-group role-title\"><g transform=\"translate(-88,-22)\"><path class=\"background\" aria-hidden=\"true\" d=\"M0,0h0v0h0Z\" pointer-events=\"none\"/><g><g class=\"mark-text role-title-text\" role=\"graphics-symbol\" aria-roledescription=\"title\" aria-label=\"Title text 'posdef_eigv'\" pointer-events=\"none\"><text text-anchor=\"start\" transform=\"translate(0,10)\" font-family=\"sans-serif\" font-size=\"13px\" font-weight=\"bold\" fill=\"#000\" opacity=\"1\">posdef_eigv</text></g></g><path class=\"foreground\" aria-hidden=\"true\" d=\"\" pointer-events=\"none\" display=\"none\"/></g></g></g><path class=\"foreground\" aria-hidden=\"true\" d=\"\" display=\"none\"/></g></g><g class=\"mark-group role-legend\" role=\"graphics-symbol\" aria-roledescription=\"legend\" aria-label=\"Symbol legend titled 'n' for fill color with 1 value: 1000\"><g transform=\"translate(228,0)\"><path class=\"background\" aria-hidden=\"true\" d=\"M0,0h39v27h-39Z\" pointer-events=\"none\"/><g><g class=\"mark-group role-legend-entry\"><g transform=\"translate(0,16)\"><path class=\"background\" aria-hidden=\"true\" d=\"M0,0h0v0h0Z\" pointer-events=\"none\"/><g><g class=\"mark-group role-scope\" role=\"graphics-object\" aria-roledescription=\"group mark container\"><g transform=\"translate(0,0)\"><path class=\"background\" aria-hidden=\"true\" d=\"M0,0h38.24609375v11h-38.24609375Z\" pointer-events=\"none\" opacity=\"1\"/><g><g class=\"mark-symbol role-legend-symbol\" pointer-events=\"none\"><path transform=\"translate(6,6)\" d=\"M-5,-5h10v10h-10Z\" fill=\"#4c78a8\" stroke-width=\"1.5\" opacity=\"1\"/></g><g class=\"mark-text role-legend-label\" pointer-events=\"none\"><text text-anchor=\"start\" transform=\"translate(16,9)\" font-family=\"sans-serif\" font-size=\"10px\" fill=\"#000\" opacity=\"1\">1000</text></g></g><path class=\"foreground\" aria-hidden=\"true\" d=\"\" pointer-events=\"none\" display=\"none\"/></g></g></g><path class=\"foreground\" aria-hidden=\"true\" d=\"\" pointer-events=\"none\" display=\"none\"/></g></g><g class=\"mark-text role-legend-title\" pointer-events=\"none\"><text text-anchor=\"start\" transform=\"translate(0,9)\" font-family=\"sans-serif\" font-size=\"11px\" font-weight=\"bold\" fill=\"#000\" opacity=\"1\">n</text></g></g><path class=\"foreground\" aria-hidden=\"true\" d=\"\" pointer-events=\"none\" display=\"none\"/></g></g></g><path class=\"foreground\" aria-hidden=\"true\" d=\"\" display=\"none\"/></g></g></g></svg>"
      ],
      "text/plain": [
       "<IPython.core.display.HTML object>"
      ]
     },
     "metadata": {},
     "output_type": "display_data"
    }
   ],
   "source": [
    "plot_posdef_simulation(n_s = [1000], range_s = [(10, 20)], bs=100)"
   ]
  },
  {
   "cell_type": "markdown",
   "id": "048a9025-1eb5-4a77-b2c1-65f4ccd85879",
   "metadata": {},
   "source": [
    "for a standard noise on the diagonal less than half of the random matrices that are 1000 in size are positive definite.\n",
    "\n",
    "Let's have a look at one of such matrices"
   ]
  },
  {
   "cell_type": "code",
   "execution_count": null,
   "id": "cbc4ca82-51e9-4fbe-8b79-44a35e06c58c",
   "metadata": {},
   "outputs": [],
   "source": [
    "posdef = random_posdef(100, 1000)\n",
    "not_pd = posdef[torch.argwhere(~is_posdef_eigv(posdef)[0])[0]]"
   ]
  },
  {
   "cell_type": "markdown",
   "id": "7b8eddae-0c95-404d-bfef-c00e37ea5833",
   "metadata": {},
   "source": [
    "This should be positive definite but actually it's not ..."
   ]
  },
  {
   "cell_type": "code",
   "execution_count": null,
   "id": "443e4c05-c0d0-4f4e-81fc-c46202690070",
   "metadata": {},
   "outputs": [
    {
     "data": {
      "text/plain": [
       "tensor([[[7.8163e-01, 2.2600e-01, 4.9864e-01,  ..., 4.9707e-02,\n",
       "          2.2801e-02, 5.4999e-01],\n",
       "         [2.2600e-01, 1.4331e+00, 2.3493e-01,  ..., 9.0204e-01,\n",
       "          4.1434e-01, 1.0401e+00],\n",
       "         [4.9864e-01, 2.3493e-01, 1.4841e+00,  ..., 9.4301e-01,\n",
       "          3.6869e-01, 1.0390e+00],\n",
       "         ...,\n",
       "         [4.9707e-02, 9.0204e-01, 9.4301e-01,  ..., 3.4198e+02,\n",
       "          2.5398e+02, 2.4810e+02],\n",
       "         [2.2801e-02, 4.1434e-01, 3.6869e-01,  ..., 2.5398e+02,\n",
       "          3.3169e+02, 2.4080e+02],\n",
       "         [5.4999e-01, 1.0401e+00, 1.0390e+00,  ..., 2.4810e+02,\n",
       "          2.4080e+02, 3.2264e+02]]])"
      ]
     },
     "execution_count": null,
     "metadata": {},
     "output_type": "execute_result"
    }
   ],
   "source": [
    "not_pd"
   ]
  },
  {
   "cell_type": "markdown",
   "id": "6f53a294-3e76-4d03-ac24-974f65690989",
   "metadata": {},
   "source": [
    "trying with `float64` (for memory constraint on the GPU only using a `700x700` matrix)"
   ]
  },
  {
   "cell_type": "code",
   "execution_count": null,
   "id": "94f869aa-7f49-4585-8988-1bb0879d2d70",
   "metadata": {},
   "outputs": [
    {
     "name": "stdout",
     "output_type": "stream",
     "text": [
      "     n      range  n_samples  posdef  sym  posdef_eigv\n",
      "0  700  (-0.1, 1)        100     0.0  1.0          0.0\n"
     ]
    },
    {
     "data": {
      "text/html": [
       "<svg xmlns=\"http://www.w3.org/2000/svg\" xmlns:xlink=\"http://www.w3.org/1999/xlink\" version=\"1.1\" class=\"marks\" width=\"359\" height=\"157\" viewBox=\"0 0 359 157\"><rect width=\"359\" height=\"157\" fill=\"white\"/><g fill=\"none\" stroke-miterlimit=\"10\" transform=\"translate(93,27)\"><g class=\"mark-group role-frame root\" role=\"graphics-object\" aria-roledescription=\"group mark container\"><g transform=\"translate(0,0)\"><path class=\"background\" aria-hidden=\"true\" d=\"M0,0h0v0h0Z\"/><g><g class=\"mark-group role-scope concat_0_group\" role=\"graphics-object\" aria-roledescription=\"group mark container\"><g transform=\"translate(0,0)\"><path class=\"background\" aria-hidden=\"true\" d=\"M0,0h0v0h0Z\"/><g><g class=\"mark-group role-row-title row-title\" role=\"graphics-object\" aria-roledescription=\"group mark container\"><g transform=\"translate(-67,43)\"><path class=\"background\" aria-hidden=\"true\" d=\"M0,0h0v0h0Z\"/><g><g class=\"mark-group role-title\"><g transform=\"translate(-21.000000000000004,0)\"><path class=\"background\" aria-hidden=\"true\" d=\"M0,0h0v0h0Z\" pointer-events=\"none\"/><g><g class=\"mark-text role-title-text\" role=\"graphics-symbol\" aria-roledescription=\"title\" aria-label=\"Title text 'range'\" pointer-events=\"none\"><text text-anchor=\"middle\" transform=\"translate(0,0) rotate(-90) translate(0,9)\" font-family=\"sans-serif\" font-size=\"11px\" font-weight=\"bold\" fill=\"#000\" opacity=\"1\">range</text></g></g><path class=\"foreground\" aria-hidden=\"true\" d=\"\" pointer-events=\"none\" display=\"none\"/></g></g></g><path class=\"foreground\" aria-hidden=\"true\" d=\"\" display=\"none\"/></g></g><g class=\"mark-group role-row-header concat_0_row_header\" role=\"graphics-object\" aria-roledescription=\"group mark container\"><g transform=\"translate(-1,0)\"><path class=\"background\" aria-hidden=\"true\" d=\"M0,0h0v70h0Z\"/><g><g class=\"mark-group role-axis\" role=\"graphics-symbol\" aria-roledescription=\"axis\" aria-label=\"Y-axis titled 'posdef' for a linear scale with values from 0.0 to 1.0\"><g transform=\"translate(0.5,0.5)\"><path class=\"background\" aria-hidden=\"true\" d=\"M0,0h0v0h0Z\" pointer-events=\"none\"/><g><g class=\"mark-rule role-axis-tick\" pointer-events=\"none\"><line transform=\"translate(0,70)\" x2=\"-5\" y2=\"0\" stroke=\"#888\" stroke-width=\"1\" opacity=\"1\"/><line transform=\"translate(0,35)\" x2=\"-5\" y2=\"0\" stroke=\"#888\" stroke-width=\"1\" opacity=\"1\"/><line transform=\"translate(0,0)\" x2=\"-5\" y2=\"0\" stroke=\"#888\" stroke-width=\"1\" opacity=\"1\"/></g><g class=\"mark-text role-axis-label\" pointer-events=\"none\"><text text-anchor=\"end\" transform=\"translate(-7,73)\" font-family=\"sans-serif\" font-size=\"10px\" fill=\"#000\" opacity=\"1\">0.0</text><text text-anchor=\"end\" transform=\"translate(-7,38)\" font-family=\"sans-serif\" font-size=\"10px\" fill=\"#000\" opacity=\"1\">0.5</text><text text-anchor=\"end\" transform=\"translate(-7,3)\" font-family=\"sans-serif\" font-size=\"10px\" fill=\"#000\" opacity=\"1\">1.0</text></g><g class=\"mark-rule role-axis-domain\" pointer-events=\"none\"><line transform=\"translate(0,70)\" x2=\"0\" y2=\"-70\" stroke=\"#888\" stroke-width=\"1\" opacity=\"1\"/></g><g class=\"mark-text role-axis-title\" pointer-events=\"none\"><text text-anchor=\"middle\" transform=\"translate(-24.9013671875,35) rotate(-90) translate(0,-2)\" font-family=\"sans-serif\" font-size=\"11px\" font-weight=\"bold\" fill=\"#000\" opacity=\"1\">posdef</text></g></g><path class=\"foreground\" aria-hidden=\"true\" d=\"\" pointer-events=\"none\" display=\"none\"/></g></g><g class=\"mark-group role-title\"><g transform=\"translate(-55.9013671875,35)\"><path class=\"background\" aria-hidden=\"true\" d=\"M0,0h0v0h0Z\" pointer-events=\"none\"/><g><g class=\"mark-text role-title-text\" role=\"graphics-symbol\" aria-roledescription=\"title\" aria-label=\"Title text '(-0.1, 1)'\" pointer-events=\"none\"><text text-anchor=\"middle\" transform=\"translate(0,0) rotate(-90) translate(0,8)\" font-family=\"sans-serif\" font-size=\"10px\" fill=\"#000\" opacity=\"1\">(-0.1, 1)</text></g></g><path class=\"foreground\" aria-hidden=\"true\" d=\"\" pointer-events=\"none\" display=\"none\"/></g></g></g><path class=\"foreground\" aria-hidden=\"true\" d=\"\" display=\"none\"/></g></g><g class=\"mark-group role-column-footer concat_0_column_footer\" role=\"graphics-object\" aria-roledescription=\"group mark container\"><g transform=\"translate(0,86)\"><path class=\"background\" aria-hidden=\"true\" d=\"M0,0h50v0h-50Z\"/><g><g class=\"mark-group role-axis\" role=\"graphics-symbol\" aria-roledescription=\"axis\" aria-label=\"X-axis titled 'n' for a discrete scale with 1 value: 700\"><g transform=\"translate(0.5,0.5)\"><path class=\"background\" aria-hidden=\"true\" d=\"M0,0h0v0h0Z\" pointer-events=\"none\"/><g><g class=\"mark-rule role-axis-tick\" pointer-events=\"none\"><line transform=\"translate(25,0)\" x2=\"0\" y2=\"5\" stroke=\"#888\" stroke-width=\"1\" opacity=\"1\"/></g><g class=\"mark-text role-axis-label\" pointer-events=\"none\"><text text-anchor=\"end\" transform=\"translate(24.5,7) rotate(270) translate(0,3)\" font-family=\"sans-serif\" font-size=\"10px\" fill=\"#000\" opacity=\"1\">700</text></g><g class=\"mark-rule role-axis-domain\" pointer-events=\"none\"><line transform=\"translate(0,0)\" x2=\"50\" y2=\"0\" stroke=\"#888\" stroke-width=\"1\" opacity=\"1\"/></g><g class=\"mark-text role-axis-title\" pointer-events=\"none\"><text text-anchor=\"middle\" transform=\"translate(25,36.6845703125)\" font-family=\"sans-serif\" font-size=\"11px\" font-weight=\"bold\" fill=\"#000\" opacity=\"1\">n</text></g></g><path class=\"foreground\" aria-hidden=\"true\" d=\"\" pointer-events=\"none\" display=\"none\"/></g></g></g><path class=\"foreground\" aria-hidden=\"true\" d=\"\" display=\"none\"/></g></g><g class=\"mark-group role-scope concat_0_cell\" role=\"graphics-object\" aria-roledescription=\"group mark container\"><g transform=\"translate(0,0)\"><path class=\"background\" aria-hidden=\"true\" d=\"M0.5,0.5h50v70h-50Z\" stroke=\"#ddd\"/><g><g class=\"mark-group role-axis\" aria-hidden=\"true\"><g transform=\"translate(0.5,0.5)\"><path class=\"background\" aria-hidden=\"true\" d=\"M0,0h0v0h0Z\" pointer-events=\"none\"/><g><g class=\"mark-rule role-axis-grid\" pointer-events=\"none\"><line transform=\"translate(0,70)\" x2=\"50\" y2=\"0\" stroke=\"#ddd\" stroke-width=\"1\" opacity=\"1\"/><line transform=\"translate(0,35)\" x2=\"50\" y2=\"0\" stroke=\"#ddd\" stroke-width=\"1\" opacity=\"1\"/><line transform=\"translate(0,0)\" x2=\"50\" y2=\"0\" stroke=\"#ddd\" stroke-width=\"1\" opacity=\"1\"/></g></g><path class=\"foreground\" aria-hidden=\"true\" d=\"\" pointer-events=\"none\" display=\"none\"/></g></g><g class=\"mark-rect role-mark concat_0_child_layer_0_marks\" role=\"graphics-object\" aria-roledescription=\"rect mark container\"><path aria-label=\"n: 700; posdef: 0\" role=\"graphics-symbol\" aria-roledescription=\"bar\" d=\"M2.5,70h45v0h-45Z\" fill=\"#4c78a8\"/></g><g class=\"mark-text role-mark concat_0_child_layer_1_marks\" role=\"graphics-object\" aria-roledescription=\"text mark container\"><text aria-label=\"n: 700; posdef: 0\" role=\"graphics-symbol\" aria-roledescription=\"text mark\" text-anchor=\"middle\" transform=\"translate(25,83)\" font-family=\"sans-serif\" font-size=\"11px\" fill=\"white\">0.00</text></g></g><path class=\"foreground\" aria-hidden=\"true\" d=\"\" display=\"none\"/></g></g><g class=\"mark-group role-title\"><g transform=\"translate(-88,-22)\"><path class=\"background\" aria-hidden=\"true\" d=\"M0,0h0v0h0Z\" pointer-events=\"none\"/><g><g class=\"mark-text role-title-text\" role=\"graphics-symbol\" aria-roledescription=\"title\" aria-label=\"Title text 'posdef'\" pointer-events=\"none\"><text text-anchor=\"start\" transform=\"translate(0,10)\" font-family=\"sans-serif\" font-size=\"13px\" font-weight=\"bold\" fill=\"#000\" opacity=\"1\">posdef</text></g></g><path class=\"foreground\" aria-hidden=\"true\" d=\"\" pointer-events=\"none\" display=\"none\"/></g></g></g><path class=\"foreground\" aria-hidden=\"true\" d=\"\" display=\"none\"/></g></g><g class=\"mark-group role-scope concat_1_group\" role=\"graphics-object\" aria-roledescription=\"group mark container\"><g transform=\"translate(159,0)\"><path class=\"background\" aria-hidden=\"true\" d=\"M0,0h0v0h0Z\"/><g><g class=\"mark-group role-row-title row-title\" role=\"graphics-object\" aria-roledescription=\"group mark container\"><g transform=\"translate(-67,43)\"><path class=\"background\" aria-hidden=\"true\" d=\"M0,0h0v0h0Z\"/><g><g class=\"mark-group role-title\"><g transform=\"translate(-21.000000000000004,0)\"><path class=\"background\" aria-hidden=\"true\" d=\"M0,0h0v0h0Z\" pointer-events=\"none\"/><g><g class=\"mark-text role-title-text\" role=\"graphics-symbol\" aria-roledescription=\"title\" aria-label=\"Title text 'range'\" pointer-events=\"none\"><text text-anchor=\"middle\" transform=\"translate(0,0) rotate(-90) translate(0,9)\" font-family=\"sans-serif\" font-size=\"11px\" font-weight=\"bold\" fill=\"#000\" opacity=\"1\">range</text></g></g><path class=\"foreground\" aria-hidden=\"true\" d=\"\" pointer-events=\"none\" display=\"none\"/></g></g></g><path class=\"foreground\" aria-hidden=\"true\" d=\"\" display=\"none\"/></g></g><g class=\"mark-group role-row-header concat_1_row_header\" role=\"graphics-object\" aria-roledescription=\"group mark container\"><g transform=\"translate(-1,0)\"><path class=\"background\" aria-hidden=\"true\" d=\"M0,0h0v70h0Z\"/><g><g class=\"mark-group role-axis\" role=\"graphics-symbol\" aria-roledescription=\"axis\" aria-label=\"Y-axis titled 'posdef_eigv' for a linear scale with values from 0.0 to 1.0\"><g transform=\"translate(0.5,0.5)\"><path class=\"background\" aria-hidden=\"true\" d=\"M0,0h0v0h0Z\" pointer-events=\"none\"/><g><g class=\"mark-rule role-axis-tick\" pointer-events=\"none\"><line transform=\"translate(0,70)\" x2=\"-5\" y2=\"0\" stroke=\"#888\" stroke-width=\"1\" opacity=\"1\"/><line transform=\"translate(0,35)\" x2=\"-5\" y2=\"0\" stroke=\"#888\" stroke-width=\"1\" opacity=\"1\"/><line transform=\"translate(0,0)\" x2=\"-5\" y2=\"0\" stroke=\"#888\" stroke-width=\"1\" opacity=\"1\"/></g><g class=\"mark-text role-axis-label\" pointer-events=\"none\"><text text-anchor=\"end\" transform=\"translate(-7,73)\" font-family=\"sans-serif\" font-size=\"10px\" fill=\"#000\" opacity=\"1\">0.0</text><text text-anchor=\"end\" transform=\"translate(-7,38)\" font-family=\"sans-serif\" font-size=\"10px\" fill=\"#000\" opacity=\"1\">0.5</text><text text-anchor=\"end\" transform=\"translate(-7,3)\" font-family=\"sans-serif\" font-size=\"10px\" fill=\"#000\" opacity=\"1\">1.0</text></g><g class=\"mark-rule role-axis-domain\" pointer-events=\"none\"><line transform=\"translate(0,70)\" x2=\"0\" y2=\"-70\" stroke=\"#888\" stroke-width=\"1\" opacity=\"1\"/></g><g class=\"mark-text role-axis-title\" pointer-events=\"none\"><text text-anchor=\"middle\" transform=\"translate(-24.9013671875,35) rotate(-90) translate(0,-2)\" font-family=\"sans-serif\" font-size=\"11px\" font-weight=\"bold\" fill=\"#000\" opacity=\"1\">posdef_eigv</text></g></g><path class=\"foreground\" aria-hidden=\"true\" d=\"\" pointer-events=\"none\" display=\"none\"/></g></g><g class=\"mark-group role-title\"><g transform=\"translate(-55.9013671875,35)\"><path class=\"background\" aria-hidden=\"true\" d=\"M0,0h0v0h0Z\" pointer-events=\"none\"/><g><g class=\"mark-text role-title-text\" role=\"graphics-symbol\" aria-roledescription=\"title\" aria-label=\"Title text '(-0.1, 1)'\" pointer-events=\"none\"><text text-anchor=\"middle\" transform=\"translate(0,0) rotate(-90) translate(0,8)\" font-family=\"sans-serif\" font-size=\"10px\" fill=\"#000\" opacity=\"1\">(-0.1, 1)</text></g></g><path class=\"foreground\" aria-hidden=\"true\" d=\"\" pointer-events=\"none\" display=\"none\"/></g></g></g><path class=\"foreground\" aria-hidden=\"true\" d=\"\" display=\"none\"/></g></g><g class=\"mark-group role-column-footer concat_1_column_footer\" role=\"graphics-object\" aria-roledescription=\"group mark container\"><g transform=\"translate(0,86)\"><path class=\"background\" aria-hidden=\"true\" d=\"M0,0h50v0h-50Z\"/><g><g class=\"mark-group role-axis\" role=\"graphics-symbol\" aria-roledescription=\"axis\" aria-label=\"X-axis titled 'n' for a discrete scale with 1 value: 700\"><g transform=\"translate(0.5,0.5)\"><path class=\"background\" aria-hidden=\"true\" d=\"M0,0h0v0h0Z\" pointer-events=\"none\"/><g><g class=\"mark-rule role-axis-tick\" pointer-events=\"none\"><line transform=\"translate(25,0)\" x2=\"0\" y2=\"5\" stroke=\"#888\" stroke-width=\"1\" opacity=\"1\"/></g><g class=\"mark-text role-axis-label\" pointer-events=\"none\"><text text-anchor=\"end\" transform=\"translate(24.5,7) rotate(270) translate(0,3)\" font-family=\"sans-serif\" font-size=\"10px\" fill=\"#000\" opacity=\"1\">700</text></g><g class=\"mark-rule role-axis-domain\" pointer-events=\"none\"><line transform=\"translate(0,0)\" x2=\"50\" y2=\"0\" stroke=\"#888\" stroke-width=\"1\" opacity=\"1\"/></g><g class=\"mark-text role-axis-title\" pointer-events=\"none\"><text text-anchor=\"middle\" transform=\"translate(25,36.6845703125)\" font-family=\"sans-serif\" font-size=\"11px\" font-weight=\"bold\" fill=\"#000\" opacity=\"1\">n</text></g></g><path class=\"foreground\" aria-hidden=\"true\" d=\"\" pointer-events=\"none\" display=\"none\"/></g></g></g><path class=\"foreground\" aria-hidden=\"true\" d=\"\" display=\"none\"/></g></g><g class=\"mark-group role-scope concat_1_cell\" role=\"graphics-object\" aria-roledescription=\"group mark container\"><g transform=\"translate(0,0)\"><path class=\"background\" aria-hidden=\"true\" d=\"M0.5,0.5h50v70h-50Z\" stroke=\"#ddd\"/><g><g class=\"mark-group role-axis\" aria-hidden=\"true\"><g transform=\"translate(0.5,0.5)\"><path class=\"background\" aria-hidden=\"true\" d=\"M0,0h0v0h0Z\" pointer-events=\"none\"/><g><g class=\"mark-rule role-axis-grid\" pointer-events=\"none\"><line transform=\"translate(0,70)\" x2=\"50\" y2=\"0\" stroke=\"#ddd\" stroke-width=\"1\" opacity=\"1\"/><line transform=\"translate(0,35)\" x2=\"50\" y2=\"0\" stroke=\"#ddd\" stroke-width=\"1\" opacity=\"1\"/><line transform=\"translate(0,0)\" x2=\"50\" y2=\"0\" stroke=\"#ddd\" stroke-width=\"1\" opacity=\"1\"/></g></g><path class=\"foreground\" aria-hidden=\"true\" d=\"\" pointer-events=\"none\" display=\"none\"/></g></g><g class=\"mark-rect role-mark concat_1_child_layer_0_marks\" role=\"graphics-object\" aria-roledescription=\"rect mark container\"><path aria-label=\"n: 700; posdef_eigv: 0\" role=\"graphics-symbol\" aria-roledescription=\"bar\" d=\"M2.5,70h45v0h-45Z\" fill=\"#4c78a8\"/></g><g class=\"mark-text role-mark concat_1_child_layer_1_marks\" role=\"graphics-object\" aria-roledescription=\"text mark container\"><text aria-label=\"n: 700; posdef_eigv: 0\" role=\"graphics-symbol\" aria-roledescription=\"text mark\" text-anchor=\"middle\" transform=\"translate(25,83)\" font-family=\"sans-serif\" font-size=\"11px\" fill=\"white\">0.00</text></g></g><path class=\"foreground\" aria-hidden=\"true\" d=\"\" display=\"none\"/></g></g><g class=\"mark-group role-title\"><g transform=\"translate(-88,-22)\"><path class=\"background\" aria-hidden=\"true\" d=\"M0,0h0v0h0Z\" pointer-events=\"none\"/><g><g class=\"mark-text role-title-text\" role=\"graphics-symbol\" aria-roledescription=\"title\" aria-label=\"Title text 'posdef_eigv'\" pointer-events=\"none\"><text text-anchor=\"start\" transform=\"translate(0,10)\" font-family=\"sans-serif\" font-size=\"13px\" font-weight=\"bold\" fill=\"#000\" opacity=\"1\">posdef_eigv</text></g></g><path class=\"foreground\" aria-hidden=\"true\" d=\"\" pointer-events=\"none\" display=\"none\"/></g></g></g><path class=\"foreground\" aria-hidden=\"true\" d=\"\" display=\"none\"/></g></g><g class=\"mark-group role-legend\" role=\"graphics-symbol\" aria-roledescription=\"legend\" aria-label=\"Symbol legend titled 'n' for fill color with 1 value: 700\"><g transform=\"translate(228,0)\"><path class=\"background\" aria-hidden=\"true\" d=\"M0,0h33v27h-33Z\" pointer-events=\"none\"/><g><g class=\"mark-group role-legend-entry\"><g transform=\"translate(0,16)\"><path class=\"background\" aria-hidden=\"true\" d=\"M0,0h0v0h0Z\" pointer-events=\"none\"/><g><g class=\"mark-group role-scope\" role=\"graphics-object\" aria-roledescription=\"group mark container\"><g transform=\"translate(0,0)\"><path class=\"background\" aria-hidden=\"true\" d=\"M0,0h32.6845703125v11h-32.6845703125Z\" pointer-events=\"none\" opacity=\"1\"/><g><g class=\"mark-symbol role-legend-symbol\" pointer-events=\"none\"><path transform=\"translate(6,6)\" d=\"M-5,-5h10v10h-10Z\" fill=\"#4c78a8\" stroke-width=\"1.5\" opacity=\"1\"/></g><g class=\"mark-text role-legend-label\" pointer-events=\"none\"><text text-anchor=\"start\" transform=\"translate(16,9)\" font-family=\"sans-serif\" font-size=\"10px\" fill=\"#000\" opacity=\"1\">700</text></g></g><path class=\"foreground\" aria-hidden=\"true\" d=\"\" pointer-events=\"none\" display=\"none\"/></g></g></g><path class=\"foreground\" aria-hidden=\"true\" d=\"\" pointer-events=\"none\" display=\"none\"/></g></g><g class=\"mark-text role-legend-title\" pointer-events=\"none\"><text text-anchor=\"start\" transform=\"translate(0,9)\" font-family=\"sans-serif\" font-size=\"11px\" font-weight=\"bold\" fill=\"#000\" opacity=\"1\">n</text></g></g><path class=\"foreground\" aria-hidden=\"true\" d=\"\" pointer-events=\"none\" display=\"none\"/></g></g></g><path class=\"foreground\" aria-hidden=\"true\" d=\"\" display=\"none\"/></g></g></g></svg>"
      ],
      "text/plain": [
       "<IPython.core.display.HTML object>"
      ]
     },
     "metadata": {},
     "output_type": "display_data"
    }
   ],
   "source": [
    "plot_posdef_simulation(n_s = [700], range_s = [(-.1, 1)], bs=100)"
   ]
  },
  {
   "cell_type": "code",
   "execution_count": null,
   "id": "07dbda42-2bd4-4d39-9bbf-21214158045b",
   "metadata": {},
   "outputs": [
    {
     "name": "stdout",
     "output_type": "stream",
     "text": [
      "     n      range  n_samples  posdef  sym  posdef_eigv\n",
      "0  700  (-0.1, 1)        100     0.0  1.0          0.0\n"
     ]
    },
    {
     "data": {
      "text/html": [
       "<svg xmlns=\"http://www.w3.org/2000/svg\" xmlns:xlink=\"http://www.w3.org/1999/xlink\" version=\"1.1\" class=\"marks\" width=\"359\" height=\"157\" viewBox=\"0 0 359 157\"><rect width=\"359\" height=\"157\" fill=\"white\"/><g fill=\"none\" stroke-miterlimit=\"10\" transform=\"translate(93,27)\"><g class=\"mark-group role-frame root\" role=\"graphics-object\" aria-roledescription=\"group mark container\"><g transform=\"translate(0,0)\"><path class=\"background\" aria-hidden=\"true\" d=\"M0,0h0v0h0Z\"/><g><g class=\"mark-group role-scope concat_0_group\" role=\"graphics-object\" aria-roledescription=\"group mark container\"><g transform=\"translate(0,0)\"><path class=\"background\" aria-hidden=\"true\" d=\"M0,0h0v0h0Z\"/><g><g class=\"mark-group role-row-title row-title\" role=\"graphics-object\" aria-roledescription=\"group mark container\"><g transform=\"translate(-67,43)\"><path class=\"background\" aria-hidden=\"true\" d=\"M0,0h0v0h0Z\"/><g><g class=\"mark-group role-title\"><g transform=\"translate(-21.000000000000004,0)\"><path class=\"background\" aria-hidden=\"true\" d=\"M0,0h0v0h0Z\" pointer-events=\"none\"/><g><g class=\"mark-text role-title-text\" role=\"graphics-symbol\" aria-roledescription=\"title\" aria-label=\"Title text 'range'\" pointer-events=\"none\"><text text-anchor=\"middle\" transform=\"translate(0,0) rotate(-90) translate(0,9)\" font-family=\"sans-serif\" font-size=\"11px\" font-weight=\"bold\" fill=\"#000\" opacity=\"1\">range</text></g></g><path class=\"foreground\" aria-hidden=\"true\" d=\"\" pointer-events=\"none\" display=\"none\"/></g></g></g><path class=\"foreground\" aria-hidden=\"true\" d=\"\" display=\"none\"/></g></g><g class=\"mark-group role-row-header concat_0_row_header\" role=\"graphics-object\" aria-roledescription=\"group mark container\"><g transform=\"translate(-1,0)\"><path class=\"background\" aria-hidden=\"true\" d=\"M0,0h0v70h0Z\"/><g><g class=\"mark-group role-axis\" role=\"graphics-symbol\" aria-roledescription=\"axis\" aria-label=\"Y-axis titled 'posdef' for a linear scale with values from 0.0 to 1.0\"><g transform=\"translate(0.5,0.5)\"><path class=\"background\" aria-hidden=\"true\" d=\"M0,0h0v0h0Z\" pointer-events=\"none\"/><g><g class=\"mark-rule role-axis-tick\" pointer-events=\"none\"><line transform=\"translate(0,70)\" x2=\"-5\" y2=\"0\" stroke=\"#888\" stroke-width=\"1\" opacity=\"1\"/><line transform=\"translate(0,35)\" x2=\"-5\" y2=\"0\" stroke=\"#888\" stroke-width=\"1\" opacity=\"1\"/><line transform=\"translate(0,0)\" x2=\"-5\" y2=\"0\" stroke=\"#888\" stroke-width=\"1\" opacity=\"1\"/></g><g class=\"mark-text role-axis-label\" pointer-events=\"none\"><text text-anchor=\"end\" transform=\"translate(-7,73)\" font-family=\"sans-serif\" font-size=\"10px\" fill=\"#000\" opacity=\"1\">0.0</text><text text-anchor=\"end\" transform=\"translate(-7,38)\" font-family=\"sans-serif\" font-size=\"10px\" fill=\"#000\" opacity=\"1\">0.5</text><text text-anchor=\"end\" transform=\"translate(-7,3)\" font-family=\"sans-serif\" font-size=\"10px\" fill=\"#000\" opacity=\"1\">1.0</text></g><g class=\"mark-rule role-axis-domain\" pointer-events=\"none\"><line transform=\"translate(0,70)\" x2=\"0\" y2=\"-70\" stroke=\"#888\" stroke-width=\"1\" opacity=\"1\"/></g><g class=\"mark-text role-axis-title\" pointer-events=\"none\"><text text-anchor=\"middle\" transform=\"translate(-24.9013671875,35) rotate(-90) translate(0,-2)\" font-family=\"sans-serif\" font-size=\"11px\" font-weight=\"bold\" fill=\"#000\" opacity=\"1\">posdef</text></g></g><path class=\"foreground\" aria-hidden=\"true\" d=\"\" pointer-events=\"none\" display=\"none\"/></g></g><g class=\"mark-group role-title\"><g transform=\"translate(-55.9013671875,35)\"><path class=\"background\" aria-hidden=\"true\" d=\"M0,0h0v0h0Z\" pointer-events=\"none\"/><g><g class=\"mark-text role-title-text\" role=\"graphics-symbol\" aria-roledescription=\"title\" aria-label=\"Title text '(-0.1, 1)'\" pointer-events=\"none\"><text text-anchor=\"middle\" transform=\"translate(0,0) rotate(-90) translate(0,8)\" font-family=\"sans-serif\" font-size=\"10px\" fill=\"#000\" opacity=\"1\">(-0.1, 1)</text></g></g><path class=\"foreground\" aria-hidden=\"true\" d=\"\" pointer-events=\"none\" display=\"none\"/></g></g></g><path class=\"foreground\" aria-hidden=\"true\" d=\"\" display=\"none\"/></g></g><g class=\"mark-group role-column-footer concat_0_column_footer\" role=\"graphics-object\" aria-roledescription=\"group mark container\"><g transform=\"translate(0,86)\"><path class=\"background\" aria-hidden=\"true\" d=\"M0,0h50v0h-50Z\"/><g><g class=\"mark-group role-axis\" role=\"graphics-symbol\" aria-roledescription=\"axis\" aria-label=\"X-axis titled 'n' for a discrete scale with 1 value: 700\"><g transform=\"translate(0.5,0.5)\"><path class=\"background\" aria-hidden=\"true\" d=\"M0,0h0v0h0Z\" pointer-events=\"none\"/><g><g class=\"mark-rule role-axis-tick\" pointer-events=\"none\"><line transform=\"translate(25,0)\" x2=\"0\" y2=\"5\" stroke=\"#888\" stroke-width=\"1\" opacity=\"1\"/></g><g class=\"mark-text role-axis-label\" pointer-events=\"none\"><text text-anchor=\"end\" transform=\"translate(24.5,7) rotate(270) translate(0,3)\" font-family=\"sans-serif\" font-size=\"10px\" fill=\"#000\" opacity=\"1\">700</text></g><g class=\"mark-rule role-axis-domain\" pointer-events=\"none\"><line transform=\"translate(0,0)\" x2=\"50\" y2=\"0\" stroke=\"#888\" stroke-width=\"1\" opacity=\"1\"/></g><g class=\"mark-text role-axis-title\" pointer-events=\"none\"><text text-anchor=\"middle\" transform=\"translate(25,36.6845703125)\" font-family=\"sans-serif\" font-size=\"11px\" font-weight=\"bold\" fill=\"#000\" opacity=\"1\">n</text></g></g><path class=\"foreground\" aria-hidden=\"true\" d=\"\" pointer-events=\"none\" display=\"none\"/></g></g></g><path class=\"foreground\" aria-hidden=\"true\" d=\"\" display=\"none\"/></g></g><g class=\"mark-group role-scope concat_0_cell\" role=\"graphics-object\" aria-roledescription=\"group mark container\"><g transform=\"translate(0,0)\"><path class=\"background\" aria-hidden=\"true\" d=\"M0.5,0.5h50v70h-50Z\" stroke=\"#ddd\"/><g><g class=\"mark-group role-axis\" aria-hidden=\"true\"><g transform=\"translate(0.5,0.5)\"><path class=\"background\" aria-hidden=\"true\" d=\"M0,0h0v0h0Z\" pointer-events=\"none\"/><g><g class=\"mark-rule role-axis-grid\" pointer-events=\"none\"><line transform=\"translate(0,70)\" x2=\"50\" y2=\"0\" stroke=\"#ddd\" stroke-width=\"1\" opacity=\"1\"/><line transform=\"translate(0,35)\" x2=\"50\" y2=\"0\" stroke=\"#ddd\" stroke-width=\"1\" opacity=\"1\"/><line transform=\"translate(0,0)\" x2=\"50\" y2=\"0\" stroke=\"#ddd\" stroke-width=\"1\" opacity=\"1\"/></g></g><path class=\"foreground\" aria-hidden=\"true\" d=\"\" pointer-events=\"none\" display=\"none\"/></g></g><g class=\"mark-rect role-mark concat_0_child_layer_0_marks\" role=\"graphics-object\" aria-roledescription=\"rect mark container\"><path aria-label=\"n: 700; posdef: 0\" role=\"graphics-symbol\" aria-roledescription=\"bar\" d=\"M2.5,70h45v0h-45Z\" fill=\"#4c78a8\"/></g><g class=\"mark-text role-mark concat_0_child_layer_1_marks\" role=\"graphics-object\" aria-roledescription=\"text mark container\"><text aria-label=\"n: 700; posdef: 0\" role=\"graphics-symbol\" aria-roledescription=\"text mark\" text-anchor=\"middle\" transform=\"translate(25,83)\" font-family=\"sans-serif\" font-size=\"11px\" fill=\"white\">0.00</text></g></g><path class=\"foreground\" aria-hidden=\"true\" d=\"\" display=\"none\"/></g></g><g class=\"mark-group role-title\"><g transform=\"translate(-88,-22)\"><path class=\"background\" aria-hidden=\"true\" d=\"M0,0h0v0h0Z\" pointer-events=\"none\"/><g><g class=\"mark-text role-title-text\" role=\"graphics-symbol\" aria-roledescription=\"title\" aria-label=\"Title text 'posdef'\" pointer-events=\"none\"><text text-anchor=\"start\" transform=\"translate(0,10)\" font-family=\"sans-serif\" font-size=\"13px\" font-weight=\"bold\" fill=\"#000\" opacity=\"1\">posdef</text></g></g><path class=\"foreground\" aria-hidden=\"true\" d=\"\" pointer-events=\"none\" display=\"none\"/></g></g></g><path class=\"foreground\" aria-hidden=\"true\" d=\"\" display=\"none\"/></g></g><g class=\"mark-group role-scope concat_1_group\" role=\"graphics-object\" aria-roledescription=\"group mark container\"><g transform=\"translate(159,0)\"><path class=\"background\" aria-hidden=\"true\" d=\"M0,0h0v0h0Z\"/><g><g class=\"mark-group role-row-title row-title\" role=\"graphics-object\" aria-roledescription=\"group mark container\"><g transform=\"translate(-67,43)\"><path class=\"background\" aria-hidden=\"true\" d=\"M0,0h0v0h0Z\"/><g><g class=\"mark-group role-title\"><g transform=\"translate(-21.000000000000004,0)\"><path class=\"background\" aria-hidden=\"true\" d=\"M0,0h0v0h0Z\" pointer-events=\"none\"/><g><g class=\"mark-text role-title-text\" role=\"graphics-symbol\" aria-roledescription=\"title\" aria-label=\"Title text 'range'\" pointer-events=\"none\"><text text-anchor=\"middle\" transform=\"translate(0,0) rotate(-90) translate(0,9)\" font-family=\"sans-serif\" font-size=\"11px\" font-weight=\"bold\" fill=\"#000\" opacity=\"1\">range</text></g></g><path class=\"foreground\" aria-hidden=\"true\" d=\"\" pointer-events=\"none\" display=\"none\"/></g></g></g><path class=\"foreground\" aria-hidden=\"true\" d=\"\" display=\"none\"/></g></g><g class=\"mark-group role-row-header concat_1_row_header\" role=\"graphics-object\" aria-roledescription=\"group mark container\"><g transform=\"translate(-1,0)\"><path class=\"background\" aria-hidden=\"true\" d=\"M0,0h0v70h0Z\"/><g><g class=\"mark-group role-axis\" role=\"graphics-symbol\" aria-roledescription=\"axis\" aria-label=\"Y-axis titled 'posdef_eigv' for a linear scale with values from 0.0 to 1.0\"><g transform=\"translate(0.5,0.5)\"><path class=\"background\" aria-hidden=\"true\" d=\"M0,0h0v0h0Z\" pointer-events=\"none\"/><g><g class=\"mark-rule role-axis-tick\" pointer-events=\"none\"><line transform=\"translate(0,70)\" x2=\"-5\" y2=\"0\" stroke=\"#888\" stroke-width=\"1\" opacity=\"1\"/><line transform=\"translate(0,35)\" x2=\"-5\" y2=\"0\" stroke=\"#888\" stroke-width=\"1\" opacity=\"1\"/><line transform=\"translate(0,0)\" x2=\"-5\" y2=\"0\" stroke=\"#888\" stroke-width=\"1\" opacity=\"1\"/></g><g class=\"mark-text role-axis-label\" pointer-events=\"none\"><text text-anchor=\"end\" transform=\"translate(-7,73)\" font-family=\"sans-serif\" font-size=\"10px\" fill=\"#000\" opacity=\"1\">0.0</text><text text-anchor=\"end\" transform=\"translate(-7,38)\" font-family=\"sans-serif\" font-size=\"10px\" fill=\"#000\" opacity=\"1\">0.5</text><text text-anchor=\"end\" transform=\"translate(-7,3)\" font-family=\"sans-serif\" font-size=\"10px\" fill=\"#000\" opacity=\"1\">1.0</text></g><g class=\"mark-rule role-axis-domain\" pointer-events=\"none\"><line transform=\"translate(0,70)\" x2=\"0\" y2=\"-70\" stroke=\"#888\" stroke-width=\"1\" opacity=\"1\"/></g><g class=\"mark-text role-axis-title\" pointer-events=\"none\"><text text-anchor=\"middle\" transform=\"translate(-24.9013671875,35) rotate(-90) translate(0,-2)\" font-family=\"sans-serif\" font-size=\"11px\" font-weight=\"bold\" fill=\"#000\" opacity=\"1\">posdef_eigv</text></g></g><path class=\"foreground\" aria-hidden=\"true\" d=\"\" pointer-events=\"none\" display=\"none\"/></g></g><g class=\"mark-group role-title\"><g transform=\"translate(-55.9013671875,35)\"><path class=\"background\" aria-hidden=\"true\" d=\"M0,0h0v0h0Z\" pointer-events=\"none\"/><g><g class=\"mark-text role-title-text\" role=\"graphics-symbol\" aria-roledescription=\"title\" aria-label=\"Title text '(-0.1, 1)'\" pointer-events=\"none\"><text text-anchor=\"middle\" transform=\"translate(0,0) rotate(-90) translate(0,8)\" font-family=\"sans-serif\" font-size=\"10px\" fill=\"#000\" opacity=\"1\">(-0.1, 1)</text></g></g><path class=\"foreground\" aria-hidden=\"true\" d=\"\" pointer-events=\"none\" display=\"none\"/></g></g></g><path class=\"foreground\" aria-hidden=\"true\" d=\"\" display=\"none\"/></g></g><g class=\"mark-group role-column-footer concat_1_column_footer\" role=\"graphics-object\" aria-roledescription=\"group mark container\"><g transform=\"translate(0,86)\"><path class=\"background\" aria-hidden=\"true\" d=\"M0,0h50v0h-50Z\"/><g><g class=\"mark-group role-axis\" role=\"graphics-symbol\" aria-roledescription=\"axis\" aria-label=\"X-axis titled 'n' for a discrete scale with 1 value: 700\"><g transform=\"translate(0.5,0.5)\"><path class=\"background\" aria-hidden=\"true\" d=\"M0,0h0v0h0Z\" pointer-events=\"none\"/><g><g class=\"mark-rule role-axis-tick\" pointer-events=\"none\"><line transform=\"translate(25,0)\" x2=\"0\" y2=\"5\" stroke=\"#888\" stroke-width=\"1\" opacity=\"1\"/></g><g class=\"mark-text role-axis-label\" pointer-events=\"none\"><text text-anchor=\"end\" transform=\"translate(24.5,7) rotate(270) translate(0,3)\" font-family=\"sans-serif\" font-size=\"10px\" fill=\"#000\" opacity=\"1\">700</text></g><g class=\"mark-rule role-axis-domain\" pointer-events=\"none\"><line transform=\"translate(0,0)\" x2=\"50\" y2=\"0\" stroke=\"#888\" stroke-width=\"1\" opacity=\"1\"/></g><g class=\"mark-text role-axis-title\" pointer-events=\"none\"><text text-anchor=\"middle\" transform=\"translate(25,36.6845703125)\" font-family=\"sans-serif\" font-size=\"11px\" font-weight=\"bold\" fill=\"#000\" opacity=\"1\">n</text></g></g><path class=\"foreground\" aria-hidden=\"true\" d=\"\" pointer-events=\"none\" display=\"none\"/></g></g></g><path class=\"foreground\" aria-hidden=\"true\" d=\"\" display=\"none\"/></g></g><g class=\"mark-group role-scope concat_1_cell\" role=\"graphics-object\" aria-roledescription=\"group mark container\"><g transform=\"translate(0,0)\"><path class=\"background\" aria-hidden=\"true\" d=\"M0.5,0.5h50v70h-50Z\" stroke=\"#ddd\"/><g><g class=\"mark-group role-axis\" aria-hidden=\"true\"><g transform=\"translate(0.5,0.5)\"><path class=\"background\" aria-hidden=\"true\" d=\"M0,0h0v0h0Z\" pointer-events=\"none\"/><g><g class=\"mark-rule role-axis-grid\" pointer-events=\"none\"><line transform=\"translate(0,70)\" x2=\"50\" y2=\"0\" stroke=\"#ddd\" stroke-width=\"1\" opacity=\"1\"/><line transform=\"translate(0,35)\" x2=\"50\" y2=\"0\" stroke=\"#ddd\" stroke-width=\"1\" opacity=\"1\"/><line transform=\"translate(0,0)\" x2=\"50\" y2=\"0\" stroke=\"#ddd\" stroke-width=\"1\" opacity=\"1\"/></g></g><path class=\"foreground\" aria-hidden=\"true\" d=\"\" pointer-events=\"none\" display=\"none\"/></g></g><g class=\"mark-rect role-mark concat_1_child_layer_0_marks\" role=\"graphics-object\" aria-roledescription=\"rect mark container\"><path aria-label=\"n: 700; posdef_eigv: 0\" role=\"graphics-symbol\" aria-roledescription=\"bar\" d=\"M2.5,70h45v0h-45Z\" fill=\"#4c78a8\"/></g><g class=\"mark-text role-mark concat_1_child_layer_1_marks\" role=\"graphics-object\" aria-roledescription=\"text mark container\"><text aria-label=\"n: 700; posdef_eigv: 0\" role=\"graphics-symbol\" aria-roledescription=\"text mark\" text-anchor=\"middle\" transform=\"translate(25,83)\" font-family=\"sans-serif\" font-size=\"11px\" fill=\"white\">0.00</text></g></g><path class=\"foreground\" aria-hidden=\"true\" d=\"\" display=\"none\"/></g></g><g class=\"mark-group role-title\"><g transform=\"translate(-88,-22)\"><path class=\"background\" aria-hidden=\"true\" d=\"M0,0h0v0h0Z\" pointer-events=\"none\"/><g><g class=\"mark-text role-title-text\" role=\"graphics-symbol\" aria-roledescription=\"title\" aria-label=\"Title text 'posdef_eigv'\" pointer-events=\"none\"><text text-anchor=\"start\" transform=\"translate(0,10)\" font-family=\"sans-serif\" font-size=\"13px\" font-weight=\"bold\" fill=\"#000\" opacity=\"1\">posdef_eigv</text></g></g><path class=\"foreground\" aria-hidden=\"true\" d=\"\" pointer-events=\"none\" display=\"none\"/></g></g></g><path class=\"foreground\" aria-hidden=\"true\" d=\"\" display=\"none\"/></g></g><g class=\"mark-group role-legend\" role=\"graphics-symbol\" aria-roledescription=\"legend\" aria-label=\"Symbol legend titled 'n' for fill color with 1 value: 700\"><g transform=\"translate(228,0)\"><path class=\"background\" aria-hidden=\"true\" d=\"M0,0h33v27h-33Z\" pointer-events=\"none\"/><g><g class=\"mark-group role-legend-entry\"><g transform=\"translate(0,16)\"><path class=\"background\" aria-hidden=\"true\" d=\"M0,0h0v0h0Z\" pointer-events=\"none\"/><g><g class=\"mark-group role-scope\" role=\"graphics-object\" aria-roledescription=\"group mark container\"><g transform=\"translate(0,0)\"><path class=\"background\" aria-hidden=\"true\" d=\"M0,0h32.6845703125v11h-32.6845703125Z\" pointer-events=\"none\" opacity=\"1\"/><g><g class=\"mark-symbol role-legend-symbol\" pointer-events=\"none\"><path transform=\"translate(6,6)\" d=\"M-5,-5h10v10h-10Z\" fill=\"#4c78a8\" stroke-width=\"1.5\" opacity=\"1\"/></g><g class=\"mark-text role-legend-label\" pointer-events=\"none\"><text text-anchor=\"start\" transform=\"translate(16,9)\" font-family=\"sans-serif\" font-size=\"10px\" fill=\"#000\" opacity=\"1\">700</text></g></g><path class=\"foreground\" aria-hidden=\"true\" d=\"\" pointer-events=\"none\" display=\"none\"/></g></g></g><path class=\"foreground\" aria-hidden=\"true\" d=\"\" pointer-events=\"none\" display=\"none\"/></g></g><g class=\"mark-text role-legend-title\" pointer-events=\"none\"><text text-anchor=\"start\" transform=\"translate(0,9)\" font-family=\"sans-serif\" font-size=\"11px\" font-weight=\"bold\" fill=\"#000\" opacity=\"1\">n</text></g></g><path class=\"foreground\" aria-hidden=\"true\" d=\"\" pointer-events=\"none\" display=\"none\"/></g></g></g><path class=\"foreground\" aria-hidden=\"true\" d=\"\" display=\"none\"/></g></g></g></svg>"
      ],
      "text/plain": [
       "<IPython.core.display.HTML object>"
      ]
     },
     "metadata": {},
     "output_type": "display_data"
    }
   ],
   "source": [
    "plot_posdef_simulation(n_s = [700], range_s = [(-.1, 1)], bs=100, dtype=torch.float64)"
   ]
  },
  {
   "cell_type": "markdown",
   "id": "35c2ba82-c6e1-4b22-afe8-73f4e5e8770c",
   "metadata": {},
   "source": [
    "All matrices now are positive definite"
   ]
  },
  {
   "cell_type": "markdown",
   "id": "9d48fc97-1307-4739-ac5e-b7027e69c131",
   "metadata": {},
   "source": [
    "#### Multiplication"
   ]
  },
  {
   "cell_type": "markdown",
   "id": "e9815c56-0c4b-4091-a687-6441c8d1f699",
   "metadata": {},
   "source": [
    "check is multiplication of matrices is not breaking the positive definite constraint\n",
    "\n",
    "If $A$ and $B$ are both positive definite matrices $ABA$ is also positive definite\n",
    "[https://en.wikipedia.org/wiki/Definite_matrix#Multiplication](https://en.wikipedia.org/wiki/Definite_matrix#Multiplication)"
   ]
  },
  {
   "cell_type": "code",
   "execution_count": null,
   "id": "1114b967-94c3-4f71-982b-f6e1542c2e09",
   "metadata": {},
   "outputs": [],
   "source": [
    "def fuzz_op(op, # operation that takes 2 pos def matrices and return one pos def matrix\n",
    "            fn_check = is_posdef,\n",
    "                  n=100, # size of matrix\n",
    "                  max_t=1000, # number of multiplications\n",
    "                  noise=1e-5, # noise to add on diagonal\n",
    "                  bs=10, # batch size\n",
    "                  n_range=(0,1), # range of random numbers\n",
    "                  **kwargs):\n",
    "    pd1 = random_posdef(bs, n, noise, n_range, **kwargs)\n",
    "    pd2 = random_posdef(bs, n, noise, n_range,**kwargs)\n",
    "    stop_times = torch.zeros(bs, **kwargs)\n",
    "    \n",
    "    for t in torch.arange(max_t):\n",
    "        pd1 = op(pd1, pd2)\n",
    "        check = fn_check(pd1)\n",
    "        stop_times[torch.logical_and(stop_times == 0, ~check)] = t\n",
    "        if not check.any(): break\n",
    "         \n",
    "    stop_times[stop_times == 0] = t\n",
    "    return pd.DataFrame(\n",
    "        {'n': [n], 'noise': f\"{noise:.0e}\", 'range': str(n_range), 'n_samples': bs, 'last_t': t.item(),\n",
    "         'mean_stop': stop_times.mean().item(),\n",
    "         'std_stop': stop_times.std().item(),\n",
    "         'stop_times': [stop_times.cpu().numpy()]})"
   ]
  },
  {
   "cell_type": "code",
   "execution_count": null,
   "id": "f5793ab8-8265-43c0-9add-586ab05bd382",
   "metadata": {},
   "outputs": [],
   "source": [
    "fuzz_multiply = partial(fuzz_op, lambda pd1, pd2: pd2 @ pd1 @ pd2)\n",
    "fuzz_multiply_eigv = partial(fuzz_multiply, fn_check = lambda pd1: is_posdef_eigv(pd1)[0])"
   ]
  },
  {
   "cell_type": "code",
   "execution_count": null,
   "id": "42b8fed4-a73b-467c-aae9-f817c7634700",
   "metadata": {},
   "outputs": [],
   "source": [
    "def plot_multiply_simulation(n_s, noise_s, max_mult=1000, bs=100, **kwargs):\n",
    "    mult = pd.concat([fuzz_multiply(n=n, noise=noise, bs=bs, device='cuda', **kwargs) \n",
    "               for n in n_s for noise in noise_s]).explode('stop_times')\n",
    "    \n",
    "    mult_eigv = pd.concat([fuzz_multiply(n=n, noise=noise, bs=bs, device='cuda', **kwargs) \n",
    "               for n in n_s for noise in noise_s]).explode('stop_times')\n",
    "    \n",
    "    vl_spec = alt.hconcat(*[_plot_var_box(df, 'stop_times') for df in [mult, mult_eigv]]).to_json()\n",
    "    # workaround for bug in vegalite see https://github.com/altair-viz/altair/issues/2742\n",
    "    svg = vlc.vegalite_to_svg(vl_spec, vl_version='v5.3')\n",
    "    display.display(display.HTML(svg))\n",
    "    return (mult, mult_eigv)"
   ]
  },
  {
   "cell_type": "code",
   "execution_count": null,
   "id": "b7ea0a4e-b77e-4ba2-84b0-90efdb81359f",
   "metadata": {},
   "outputs": [],
   "source": [
    "plot_multiply_simulation(n_s=[2,3,10, 100], noise_s=[1e-3, 1e-4, 1e-5], bs=100);"
   ]
  },
  {
   "cell_type": "markdown",
   "id": "89d89f8c-79f0-4e49-b7d4-2930448713fe",
   "metadata": {},
   "source": [
    "#### Addition"
   ]
  },
  {
   "cell_type": "markdown",
   "id": "697c23fe-119f-4ca1-b298-63d605f75f2b",
   "metadata": {},
   "source": [
    "check is multiplication of matrices is not breaking the positive definite constraint\n",
    "\n",
    "If $A$ and $B$ are both positive definite matrices $A+B$ is also positive definite\n",
    "[https://en.wikipedia.org/wiki/Definite_matrix#Addition](https://en.wikipedia.org/wiki/Definite_matrix#Addition)"
   ]
  },
  {
   "cell_type": "code",
   "execution_count": null,
   "id": "9f04cf5f-86b6-444a-a0da-7d329b58b4cf",
   "metadata": {},
   "outputs": [],
   "source": [
    "pd1 = random_posdef(10, 100)\n",
    "pd2 = random_posdef(10, 100)"
   ]
  },
  {
   "cell_type": "code",
   "execution_count": null,
   "id": "2334f19b-096b-490e-9770-978e9b3f02f9",
   "metadata": {},
   "outputs": [],
   "source": [
    "is_posdef(pd1 + pd2).all()"
   ]
  },
  {
   "cell_type": "code",
   "execution_count": null,
   "id": "208f2386-894e-47aa-87e3-627d40e61762",
   "metadata": {},
   "outputs": [],
   "source": [
    "fuzz_add = partial(fuzz_op, lambda pd1, pd2: pd1 + pd2)"
   ]
  },
  {
   "cell_type": "code",
   "execution_count": null,
   "id": "7c4c4c1b-371d-45d7-a7a3-4d3caaa83e97",
   "metadata": {},
   "outputs": [],
   "source": [
    "%time fuzz_add(max_t=1e5, device='cuda')"
   ]
  },
  {
   "cell_type": "code",
   "execution_count": null,
   "id": "22dc7451-8cd7-43d8-b3a1-a2b77acc9efd",
   "metadata": {},
   "outputs": [],
   "source": [
    "def plot_add_simulation(n_s, noise_s, max_ts=[1000], bs=100, **kwargs):\n",
    "    add = pd.concat([fuzz_add(n=n, noise=noise, bs=bs, max_t=max_t, device='cuda', **kwargs) \n",
    "               for n in n_s for noise in noise_s for max_t in max_ts]).explode('stop_times')\n",
    "    \n",
    "    vl_spec = _plot_var_box(add, var='stop_times', height=150, width=150).to_json()\n",
    "\n",
    "    svg = vlc.vegalite_to_svg(vl_spec, vl_version='v5.3')\n",
    "    display.display(display.HTML(svg))"
   ]
  },
  {
   "cell_type": "code",
   "execution_count": null,
   "id": "ead18cdf-01dc-4256-9edc-0947fbab2fcc",
   "metadata": {},
   "outputs": [],
   "source": [
    "cache_disk(\"add_plot\")(lambda: plot_add_simulation(n_s=[50, 100, 150], noise_s=[1e-3, 1e-4, 1e-5], bs=100, max_ts=[1e5]))()"
   ]
  },
  {
   "cell_type": "markdown",
   "id": "13e7c6e4-6707-4641-9f29-9f483e85bd2b",
   "metadata": {},
   "source": [
    "#### Numpy posdef"
   ]
  },
  {
   "cell_type": "code",
   "execution_count": null,
   "id": "0cdda91a-508e-4097-8d7e-9395ae07808a",
   "metadata": {},
   "outputs": [],
   "source": [
    "import numpy as np"
   ]
  },
  {
   "cell_type": "code",
   "execution_count": null,
   "id": "c43e22e7-fda4-456b-9944-6c8fd206a6b1",
   "metadata": {},
   "outputs": [],
   "source": [
    "arr = np.random.rand(2,3,3)"
   ]
  },
  {
   "cell_type": "code",
   "execution_count": null,
   "id": "05848135-ecc3-4ea7-a2c1-cfbe1566a341",
   "metadata": {},
   "outputs": [],
   "source": [
    "arr.shape"
   ]
  },
  {
   "cell_type": "code",
   "execution_count": null,
   "id": "07fa0dfb-4bf4-4bd5-8cef-7d6ff13307d5",
   "metadata": {},
   "outputs": [],
   "source": [
    "arr.transpose(0,2,1) == np.moveaxis(arr, -1, -2)"
   ]
  },
  {
   "cell_type": "code",
   "execution_count": null,
   "id": "9ae3f922-c019-42e5-aa77-a5caa810e09a",
   "metadata": {},
   "outputs": [],
   "source": [
    "def to_posdef_np(x, noise=1e-5):\n",
    "    return x @ np.moveaxis(x, -1, -2) + (noise * np.eye(x.shape[-1], dtype=arr.dtype))"
   ]
  },
  {
   "cell_type": "code",
   "execution_count": null,
   "id": "cf766e9d-a585-45db-a284-9ea4919b1835",
   "metadata": {},
   "outputs": [],
   "source": [
    "to_posdef_np(arr)"
   ]
  },
  {
   "cell_type": "code",
   "execution_count": null,
   "id": "aeb68222-0768-49a6-93f3-028d70145925",
   "metadata": {},
   "outputs": [],
   "source": [
    "# fuzzer\n",
    "def fuzz_posdef_np(n=100, noise=1e-5, bs=10, range=(0,1), dtype=np.float32):\n",
    "    A = np.random.rand(bs,n,n).astype(dtype)  * (range[1]-range[0]) + range[0]\n",
    "    posdef = torch.from_numpy(to_posdef_np(A, noise))\n",
    "    return pd.DataFrame(\n",
    "        {'n': [n], 'noise': f\"{noise:.0e}\", 'range': str(range), 'n_samples': bs,\n",
    "         'posdef': is_posdef(posdef).sum().item() / bs,\n",
    "         'sym': is_symmetric(posdef).sum().item() / bs, \n",
    "         'posdef_eigv': is_posdef_eigv(posdef)[0].sum().item() / bs\n",
    "    })"
   ]
  },
  {
   "cell_type": "code",
   "execution_count": null,
   "id": "0b3da3c4-a116-43c9-803d-dd4342b3f644",
   "metadata": {},
   "outputs": [],
   "source": [
    "fuzz_posdef_np(n=1000, dtype=np.float32)"
   ]
  },
  {
   "cell_type": "markdown",
   "id": "9f4ad5b8-53f6-4684-b94e-064c5e3c0eca",
   "metadata": {},
   "source": [
    "### Checker Positive Definite"
   ]
  },
  {
   "cell_type": "markdown",
   "id": "4b52acf1-61f9-499b-9698-5c9c1a2d3f36",
   "metadata": {},
   "source": [
    "This is to help finding matrices that aren't positive definite and debug the issues.\n",
    "Returns a detailed dataframe row with info about the matrix and optionally logs everything to a global object"
   ]
  },
  {
   "cell_type": "code",
   "execution_count": null,
   "id": "003af30e-57e8-4a98-bde6-316ad1ef83bd",
   "metadata": {},
   "outputs": [],
   "source": [
    "#| export\n",
    "from warnings import warn\n",
    "from fastcore.basics import store_attr"
   ]
  },
  {
   "cell_type": "code",
   "execution_count": null,
   "id": "fee8dfa1-84ca-41b2-9021-4563801486ef",
   "metadata": {},
   "outputs": [],
   "source": [
    "#| export\n",
    "class CheckPosDef():\n",
    "    def __init__(self,\n",
    "                do_check:bool = False, # set to True to actually check matrix\n",
    "                use_log:bool = True, # keep internal log\n",
    "                warning:bool = True, # show a warning if a matrix is not pos def \n",
    "                ):\n",
    "        store_attr()\n",
    "        self.log = pd.DataFrame()\n",
    "        self.extra_args = {}\n",
    "    def add_args(self, **kwargs):\n",
    "        \"\"\"Add an extra argument to the next call of check_posdef \"\"\"\n",
    "        self.extra_args = {**kwargs, **self.extra_args}\n",
    "        return self\n",
    "    \n",
    "    def check(self,\n",
    "              x: Tensor, # (batch of) square matrix\n",
    "              **extra_args\n",
    "             ) -> pd.DataFrame:\n",
    "        \n",
    "        if not self.do_check: return\n",
    "        \n",
    "        self.add_args(**extra_args)\n",
    "        \n",
    "        x = x if x.dim() > 2 else [x]\n",
    "        infos = pd.concat([*map(self._check_matrix, x, range(len(x)))])\n",
    "        \n",
    "        if self.use_log: self.log = pd.concat([self.log, infos])\n",
    "        if self.warning and (~infos['is_pd_eigv'].all() or ~infos['is_pd_chol'].all()):\n",
    "             warn(\"Matrix is not positive definite\")\n",
    "        \n",
    "        self.extra_args = {} \n",
    "        return infos\n",
    "    \n",
    "    def _check_matrix(self,\n",
    "                     x: Tensor, # square matrix\n",
    "                     batch_n = 0,\n",
    "                    ) -> pd.DataFrame:\n",
    "        \n",
    "        x = x.detach().clone() # ensure that there is a copy\n",
    "        sym_upto = symmetric_upto(x)\n",
    "\n",
    "        is_pd_eigv, eigv = is_posdef_eigv(x)\n",
    "        is_pd_chol = torch.linalg.cholesky_ex(x).info.eq(0).all().item() # skip pytorch too strict symmetry check\n",
    "        is_sym = is_symmetric(x).item()\n",
    "\n",
    "        info = pd.DataFrame({\n",
    "            'is_pd_eigv': is_pd_eigv.item(),\n",
    "            'is_pd_chol': is_pd_chol,\n",
    "            'is_sym': is_sym,\n",
    "            'sym_upto': sym_upto,\n",
    "            'eigv': [eigv.cpu().numpy()],\n",
    "            'matrix': [x.cpu().numpy()],\n",
    "            'batch_n': batch_n,\n",
    "            **self.extra_args\n",
    "        })\n",
    "\n",
    "        return info"
   ]
  },
  {
   "cell_type": "code",
   "execution_count": null,
   "id": "47c69aef-a901-4f5f-997e-a6b899de425f",
   "metadata": {},
   "outputs": [],
   "source": [
    "CheckPosDef(True).check(A)"
   ]
  },
  {
   "cell_type": "code",
   "execution_count": null,
   "id": "3daf1626-a01e-46f9-8387-378fe1a20faf",
   "metadata": {},
   "outputs": [],
   "source": [
    "CheckPosDef(True).check(A[0])"
   ]
  },
  {
   "cell_type": "code",
   "execution_count": null,
   "id": "bc3ab88c-337c-4af0-80fb-93d486d6ceef",
   "metadata": {},
   "outputs": [],
   "source": [
    "checker = CheckPosDef(True)\n",
    "\n",
    "checker.check(A, my_arg=\"my arg\") # this will be another col in the log"
   ]
  },
  {
   "cell_type": "code",
   "execution_count": null,
   "id": "314b2588-a373-476c-a090-c3b172aa5f4e",
   "metadata": {},
   "outputs": [],
   "source": [
    "checker.log"
   ]
  },
  {
   "cell_type": "code",
   "execution_count": null,
   "id": "f5262fb1-2759-4f07-8c20-38955be2f5c6",
   "metadata": {},
   "outputs": [],
   "source": [
    "checker.add_args(show=\"only once\")\n",
    "checker.check(posdef)\n",
    "checker.check(A)\n",
    "checker.log"
   ]
  },
  {
   "cell_type": "code",
   "execution_count": null,
   "id": "e40f4a5e-e54c-4442-bc3d-9aba46173e12",
   "metadata": {},
   "outputs": [],
   "source": [
    "B = torch.rand(2,3,3) # a batch of matrices"
   ]
  },
  {
   "cell_type": "code",
   "execution_count": null,
   "id": "f831347b-f86e-48a1-8d53-95a689242b34",
   "metadata": {},
   "outputs": [],
   "source": [
    "is_symmetric(B).shape"
   ]
  },
  {
   "cell_type": "code",
   "execution_count": null,
   "id": "77365d7a-ecb7-4a86-b013-73f599aaa87d",
   "metadata": {},
   "outputs": [],
   "source": [
    "checker.check(B)"
   ]
  },
  {
   "cell_type": "code",
   "execution_count": null,
   "id": "f0181633-4a80-4737-a164-1a263d4fbed3",
   "metadata": {},
   "outputs": [],
   "source": [
    "test_close(B[0] @ A, (B @ A)[0]) # example batched matrix multiplication"
   ]
  },
  {
   "cell_type": "markdown",
   "id": "cad4e791-5fbd-4651-acf9-4855c942c4a5",
   "metadata": {},
   "source": [
    "### Diagonal Positive Definite Contraint"
   ]
  },
  {
   "cell_type": "markdown",
   "id": "5391d57f-982b-4dc2-bfd5-951dae6fe55a",
   "metadata": {},
   "source": [
    "this is a simpler contraint that make the matrix diagonal and positive definite, by forcing it to have positive numbers on the diagonal.\n",
    "\n",
    "given a vector matrix $a$ it is transformed into a diagonal positive definite matrix using:\n",
    "\n",
    "$A_{diag\\ pos\\ def} = a^2 I$\n",
    "\n",
    "the inverse transformation is the square root of the diagonal"
   ]
  },
  {
   "cell_type": "code",
   "execution_count": null,
   "id": "631c8ab9-d26d-4cec-bfbc-5ff2e7f6080b",
   "metadata": {},
   "outputs": [],
   "source": [
    "from meteo_imp.utils import *"
   ]
  },
  {
   "cell_type": "code",
   "execution_count": null,
   "id": "0118fbf3-e101-45c7-a999-2edc0da1d553",
   "metadata": {},
   "outputs": [],
   "source": [
    "#| export\n",
    "@docs\n",
    "class DiagPosDef(): \n",
    "    def transform(self,raw): return torch.diag_embed(raw.pow(2), dim1=-2, dim2=-1)\n",
    "    def inverse_transform(self, value):\n",
    "        if not is_diagonal(value): warn(\"Only diagonal of parameter considered\")\n",
    "        return torch.sqrt(torch.diagonal(value, dim1=-2, dim2=-1))\n",
    "    \n",
    "    _docs = {'cls_doc': \"Diagonal Positive Definite Constraint for PyTorch parameters\",\n",
    "             'transform':\"transform any vector into a diagonal positive definite matrix\",\n",
    "             'inverse_transform': \"tranform diagonal positive definite matrix into a vector that can be back transformed using `transform`\"}\n",
    "\n",
    "def to_diagposdef(x): return DiagPosDef().transform(torch.diagonal(x, dim1=-2, dim2=-1))"
   ]
  },
  {
   "cell_type": "code",
   "execution_count": null,
   "id": "be33939a-1d27-4ce4-8fa1-4e804b00f82a",
   "metadata": {},
   "outputs": [
    {
     "data": {
      "text/plain": [
       "tensor([[0.0008, 0.0000, 0.0000],\n",
       "        [0.0000, 0.5319, 0.0000],\n",
       "        [0.0000, 0.0000, 0.4327]])"
      ]
     },
     "execution_count": null,
     "metadata": {},
     "output_type": "execute_result"
    }
   ],
   "source": [
    "DiagPosDef().transform(torch.rand(3))"
   ]
  },
  {
   "cell_type": "code",
   "execution_count": null,
   "id": "1d5dc52f-9398-47ef-a8b4-651daf5be93e",
   "metadata": {},
   "outputs": [
    {
     "data": {
      "text/plain": [
       "tensor([[[0.2185, 0.0000, 0.0000],\n",
       "         [0.0000, 0.0034, 0.0000],\n",
       "         [0.0000, 0.0000, 0.3096]],\n",
       "\n",
       "        [[0.8915, 0.0000, 0.0000],\n",
       "         [0.0000, 0.0632, 0.0000],\n",
       "         [0.0000, 0.0000, 0.7199]]])"
      ]
     },
     "execution_count": null,
     "metadata": {},
     "output_type": "execute_result"
    }
   ],
   "source": [
    "DiagPosDef().transform(torch.rand(2, 3))"
   ]
  },
  {
   "cell_type": "code",
   "execution_count": null,
   "id": "3adf9de7-c2cb-4dbd-b9c4-fa2649560a92",
   "metadata": {},
   "outputs": [],
   "source": [
    "v = -1.2 * torch.ones(2,3)"
   ]
  },
  {
   "cell_type": "code",
   "execution_count": null,
   "id": "ef7c202f-f863-4cb4-b862-83cb30f20cce",
   "metadata": {},
   "outputs": [
    {
     "data": {
      "text/plain": [
       "tensor([[-1.2000, -1.2000, -1.2000],\n",
       "        [-1.2000, -1.2000, -1.2000]])"
      ]
     },
     "execution_count": null,
     "metadata": {},
     "output_type": "execute_result"
    }
   ],
   "source": [
    "DiagPosDef().inverse_transform(DiagPosDef().transform(v))"
   ]
  },
  {
   "cell_type": "code",
   "execution_count": null,
   "id": "2f73ad5d-843b-4d23-b5c4-a02250163453",
   "metadata": {},
   "outputs": [
    {
     "data": {
      "text/plain": [
       "tensor([[2.3585, 0.0000, 0.0000],\n",
       "        [0.0000, 1.0629, 0.0000],\n",
       "        [0.0000, 0.0000, 2.3738]])"
      ]
     },
     "execution_count": null,
     "metadata": {},
     "output_type": "execute_result"
    }
   ],
   "source": [
    "to_diagposdef(torch.rand(3,3))"
   ]
  },
  {
   "cell_type": "code",
   "execution_count": null,
   "id": "7e513369-1471-4cac-9070-a2aa5d207348",
   "metadata": {},
   "outputs": [],
   "source": [
    "dpd_const = DiagPosDef()\n",
    "a = torch.rand(3)"
   ]
  },
  {
   "cell_type": "code",
   "execution_count": null,
   "id": "07c8d2ee-f400-47d4-9f38-823e782be5b2",
   "metadata": {},
   "outputs": [
    {
     "data": {
      "text/plain": [
       "tensor([[1.1899, 0.0000, 0.0000],\n",
       "        [0.0000, 2.0571, 0.0000],\n",
       "        [0.0000, 0.0000, 1.4777]])"
      ]
     },
     "execution_count": null,
     "metadata": {},
     "output_type": "execute_result"
    }
   ],
   "source": [
    "dpd_const.transform(a)"
   ]
  },
  {
   "cell_type": "code",
   "execution_count": null,
   "id": "c924e47f-5342-4e5c-b2a9-e34a60240ab8",
   "metadata": {},
   "outputs": [],
   "source": [
    "test_close(a, dpd_const.inverse_transform(dpd_const.transform(a)))"
   ]
  },
  {
   "cell_type": "markdown",
   "id": "15e36928-2ce7-4c0d-ac60-093d59ecd7fa",
   "metadata": {},
   "source": [
    "## Conditional Predictions"
   ]
  },
  {
   "cell_type": "markdown",
   "id": "1d7d9bb7-e7b1-4984-9bc1-5001ad92d216",
   "metadata": {},
   "source": [
    "Therefore we need to compute the conditional distribution of a normal ^[https://cs.nyu.edu/~roweis/notes/gaussid.pdf eq, 5a, 5d]\n",
    "\n",
    "$$ X = \\left[\\begin{array}{c} x \\\\ o \\end{array} \\right] $$\n",
    "\n",
    "$$ p(X) = N\\left(\\left[ \\begin{array}{c} \\mu_x \\\\ \\mu_o \\end{array} \\right], \\left[\\begin{array}{cc} \\Sigma_{xx} & \\Sigma_{xo} \\\\ \\Sigma_{ox} & \\Sigma_{oo} \\end{array} \\right]\\right)$$\n",
    "\n",
    "where $x$ is a vector of variable that need to predicted and $o$ is a vector of the variables that have been observed\n",
    "\n",
    "\n",
    "then the conditional distribution is:\n",
    "\n",
    "$$p(x|o) = N(\\mu_x + \\Sigma_{xo}\\Sigma_{oo}^{-1}(o - \\mu_o), \\Sigma_{xx} - \\Sigma_{xo}\\Sigma_{oo}^{-1}\\Sigma_{ox})$$"
   ]
  },
  {
   "cell_type": "code",
   "execution_count": null,
   "id": "8ef2b518-bc6a-481c-83cb-a6b8db9e2c89",
   "metadata": {},
   "outputs": [],
   "source": [
    "#| export\n",
    "import torch\n",
    "from torch.distributions import MultivariateNormal\n",
    "from torch.linalg import cholesky\n",
    "from torch import cholesky_inverse\n",
    "from torch import Tensor\n",
    "\n",
    "from fastcore.test import *\n",
    "from meteo_imp.utils import *\n",
    "from typing import List"
   ]
  },
  {
   "cell_type": "code",
   "execution_count": null,
   "id": "fccdfddc-01e9-45a1-b2f7-173652fcdb3f",
   "metadata": {},
   "outputs": [],
   "source": [
    "#| export\n",
    "def conditional_guassian(\n",
    "                         μ: Tensor, # mean with shape `[n_vars]`\n",
    "                         Σ: Tensor, # cov with shape `[n_vars, n_vars] `\n",
    "                         obs: Tensor, # Observations with shape `[n_obs]`, where `n_obs = sum(idx)`\n",
    "                         mask: Tensor # Boolean tensor specifying for each variable is observed (True) or not (False). Shape `[n_vars]`\n",
    "                        ) -> ListMNormal: # Distribution conditioned on observations. shape `[n_vars - n_obs]`\n",
    "    assert μ.shape[0] == mask.shape[0]\n",
    "    assert obs.shape[0] == sum(mask)\n",
    "    \n",
    "    μ_x = μ[~mask]\n",
    "    μ_o = μ[mask]\n",
    "    # the double square brackets `:][:` are needed to keep the dimensionality even for empty tensors \n",
    "    Σ_xx = Σ[~mask,:][:, ~mask]\n",
    "    Σ_xo = Σ[~mask,:][:,  mask]\n",
    "    Σ_ox = Σ[ mask,:][:, ~mask]\n",
    "    Σ_oo = Σ[ mask,:][:,  mask]\n",
    "    \n",
    "    Σ_oo_inv = torch.inverse(Σ_oo) # cholesky_inverse(cholesky(Σ_oo))\n",
    "    \n",
    "    \n",
    "    mean = μ_x + Σ_xo@Σ_oo_inv@(obs - μ_o)\n",
    "    cov = Σ_xx - Σ_xo@Σ_oo_inv@Σ_ox\n",
    "    \n",
    "    return ListMNormal(mean, cov)\n",
    "    "
   ]
  },
  {
   "cell_type": "code",
   "execution_count": null,
   "id": "08dadc5c-067f-4ce5-a82a-8e85d48588e8",
   "metadata": {},
   "outputs": [],
   "source": [
    "# example distribution with only 2 variables\n",
    "μ = torch.tensor([.5, 1.])\n",
    "Σ = torch.tensor([[1., .5], [.5 ,1.]])\n",
    "\n",
    "\n",
    "mask = torch.tensor([True, False]) # second variable is the observed one\n",
    "\n",
    "obs = torch.tensor([5.]) # value of second variable\n",
    "\n",
    "gauss_cond = conditional_guassian(μ, Σ, obs, mask)\n",
    "\n",
    "# hardcoded values to test that the code is working, see also for alternative implementation https://python.quantecon.org/multivariate_normal.html\n",
    "test_close(3.25, gauss_cond.mean.item())\n",
    "test_close(.75, gauss_cond.cov.item())"
   ]
  },
  {
   "cell_type": "markdown",
   "id": "1fac5e7e-83cb-4c01-9cd6-0170d2ebc9b7",
   "metadata": {},
   "source": [
    "### Batches"
   ]
  },
  {
   "cell_type": "markdown",
   "id": "96599546-f572-4f4d-8d3f-11d532bf05ca",
   "metadata": {},
   "source": [
    "cannot have proper batch support, or at least not in a straigthforward way as the shape of the output would be different for the different batches.\n",
    "\n",
    "so using a for-loop to temporarly fix the situation"
   ]
  },
  {
   "cell_type": "code",
   "execution_count": null,
   "id": "66c0d2a2-ca4f-413b-82cc-34cfb9afc1a5",
   "metadata": {},
   "outputs": [],
   "source": [
    "#| export\n",
    "def cond_gaussian_batched(dist: ListMNormal,\n",
    "                         obs, # this needs to have the same shape of the mask !!! \n",
    "                         mask\n",
    "                         ) -> List[ListMNormal]: # lists of distributions for element in the batch\n",
    "    return [conditional_guassian(dist.mean[i], dist.cov[i], obs[i][mask[i]], mask[i]) for i in range(obs.shape[0])]\n",
    "        "
   ]
  },
  {
   "cell_type": "code",
   "execution_count": null,
   "id": "74093424-2daf-4fe4-b3b6-26d957275737",
   "metadata": {},
   "outputs": [],
   "source": [
    "reset_seed(10)\n",
    "mean = torch.rand(2,3) # batch\n",
    "cov = to_posdef(torch.rand(2,3,3))\n",
    "mask = torch.rand(2,3) > .3\n",
    "obs = torch.rand(2,3)"
   ]
  },
  {
   "cell_type": "code",
   "execution_count": null,
   "id": "e048dfef-2a23-4302-adbe-a9ece3ba91a2",
   "metadata": {},
   "outputs": [],
   "source": [
    "conditional_gaussian_batched(mean, cov, obs, mask)"
   ]
  },
  {
   "cell_type": "code",
   "execution_count": null,
   "id": "4ba70bc9-2207-4be8-a09f-7084a2bb1010",
   "metadata": {},
   "outputs": [],
   "source": [
    "mask.shape, obs.shape"
   ]
  },
  {
   "cell_type": "code",
   "execution_count": null,
   "id": "c0764a21-3b16-4439-8c45-f42fd64af274",
   "metadata": {},
   "outputs": [],
   "source": [
    "assert mean.shape == mask.shape\n",
    "assert mean.dim() == 2"
   ]
  },
  {
   "cell_type": "code",
   "execution_count": null,
   "id": "f212db6c-5c87-4877-b4e3-ce5d6c15b2eb",
   "metadata": {},
   "outputs": [],
   "source": [
    "obs.shape"
   ]
  },
  {
   "cell_type": "code",
   "execution_count": null,
   "id": "a5cdfdd0-f81a-4089-956b-94f47cb719bd",
   "metadata": {},
   "outputs": [],
   "source": [
    "mean_x = mean[~mask]\n",
    "mean_o = mean[mask]"
   ]
  },
  {
   "cell_type": "code",
   "execution_count": null,
   "id": "a0bf1c6b-b5b1-4251-badb-85b3d8ba5125",
   "metadata": {},
   "outputs": [],
   "source": [
    "mask"
   ]
  },
  {
   "cell_type": "code",
   "execution_count": null,
   "id": "558f9f16-efb7-4b7d-ab7a-8b98e0509b9f",
   "metadata": {},
   "outputs": [],
   "source": [
    "mean_x"
   ]
  },
  {
   "cell_type": "code",
   "execution_count": null,
   "id": "d4b093ce-62c6-467a-a8e4-1911926788ec",
   "metadata": {},
   "outputs": [],
   "source": [
    "cov.shape"
   ]
  },
  {
   "cell_type": "code",
   "execution_count": null,
   "id": "95bdaad6-92c2-4056-a28c-164d46266ab4",
   "metadata": {},
   "outputs": [],
   "source": [
    "cov[~mask]"
   ]
  },
  {
   "cell_type": "code",
   "execution_count": null,
   "id": "9785c54d-a5da-462a-be6c-99b87e5ab98d",
   "metadata": {},
   "outputs": [],
   "source": [
    "cov"
   ]
  },
  {
   "cell_type": "code",
   "execution_count": null,
   "id": "422d0d8c-6b22-46a7-89ae-036f839296da",
   "metadata": {},
   "outputs": [],
   "source": [
    "cov[0][~mask[0], ~mask[0]]"
   ]
  },
  {
   "cell_type": "code",
   "execution_count": null,
   "id": "cefc1642-f457-4a47-863d-edab440c2246",
   "metadata": {},
   "outputs": [],
   "source": [
    "cov[0][mask[0],:][:, mask[0]].shape"
   ]
  },
  {
   "cell_type": "markdown",
   "id": "9c6ee528-b358-496e-8173-78e7801f16de",
   "metadata": {},
   "source": [
    "### Performance\n",
    "\n",
    "analysis of the performance of inverting a positive definite matrix"
   ]
  },
  {
   "cell_type": "markdown",
   "id": "a0509e73-399a-4db8-bc94-42234457d5a1",
   "metadata": {},
   "source": [
    "Use `cholesky` decomposition and `cholesky_solve` to improve performance of matrix inversion\n",
    "\n",
    "see the [Probabilist machine learning course from uni Tübigen](https://uni-tuebingen.de/en/180804), specifically the code from the [Gaussian Regression Notebook](https://uni-tuebingen.de/fileadmin/Uni_Tuebingen/Fakultaeten/MatNat/Fachbereiche/Informatik/Lehrstuehle/MethMaschLern/Probabilistic_ML/Notebook_Vorlesung_7___9/Gaussian_Linear_Regression.ipynb) for details"
   ]
  },
  {
   "cell_type": "markdown",
   "id": "6b6a796f-84cc-4fdd-9a0e-000634949fe3",
   "metadata": {},
   "source": [
    "This is the direct implementation of the equations"
   ]
  },
  {
   "cell_type": "code",
   "execution_count": null,
   "id": "6e091217-11b7-4251-af9a-93c6969cbb0a",
   "metadata": {},
   "outputs": [],
   "source": [
    "def _conditional_guassian_base(\n",
    "                         μ: Tensor, # mean with shape `[n_vars]`\n",
    "                         Σ: Tensor, # cov with shape `[n_vars, n_vars] `\n",
    "                         obs: Tensor, # Observations with shape `[n_vars]`\n",
    "                         idx: Tensor # Boolean tensor specifying for each variable is observed (True) or not (False). Shape `[n_vars]`\n",
    "                        ) -> ListNormal: # Distribution conditioned on observations\n",
    "    μ_x = μ[~idx]\n",
    "    μ_o = μ[idx]\n",
    "    \n",
    "    Σ_xx = Σ[~idx,:][:, ~idx]\n",
    "    Σ_xo = Σ[~idx,:][:, idx]\n",
    "    Σ_ox = Σ[idx,:][:, ~idx]\n",
    "    Σ_oo = Σ[idx,:][:, idx]\n",
    "    \n",
    "    Σ_oo_inv = torch.linalg.inv(Σ_oo)\n",
    "    \n",
    "    mean = μ_x + Σ_xo@Σ_oo_inv@(obs - μ_o)\n",
    "    cov = Σ_xx - Σ_xo@Σ_oo_inv@Σ_ox\n",
    "    \n",
    "    return ListNormal(mean, cov)\n",
    "    "
   ]
  },
  {
   "cell_type": "markdown",
   "id": "88285fc6-28a3-46dd-8d25-99e4302df022",
   "metadata": {},
   "source": [
    " faster version"
   ]
  },
  {
   "cell_type": "code",
   "execution_count": null,
   "id": "8f4ce09d-576e-41e9-ac0d-c5b1ad2563ed",
   "metadata": {},
   "outputs": [],
   "source": [
    "n_var = 5\n",
    "mean = torch.rand(n_var, dtype=torch.float64)\n",
    "cov = to_posdef(torch.rand(n_var, n_var, dtype=torch.float64))\n",
    "dist = MultivariateNormal(mean, cov)\n",
    "idx = torch.rand(n_var, dtype=torch.float64) > .5\n",
    "obs = torch.rand(n_var, dtype=torch.float64)[idx]"
   ]
  },
  {
   "cell_type": "code",
   "execution_count": null,
   "id": "cb728f7f-5bc8-4f56-a0b8-2919ab508cb3",
   "metadata": {},
   "outputs": [],
   "source": [
    "torch.linalg.inv(cov) "
   ]
  },
  {
   "cell_type": "code",
   "execution_count": null,
   "id": "b39e5b98-ee21-4939-9139-a3cf7e9b3bb8",
   "metadata": {},
   "outputs": [],
   "source": [
    "(torch.linalg.inv(cov) - cholesky_inverse(torch.linalg.cholesky(cov))).max()"
   ]
  },
  {
   "cell_type": "code",
   "execution_count": null,
   "id": "70ab7b97-68e9-410c-b9ef-2920096006b8",
   "metadata": {},
   "outputs": [],
   "source": [
    "test_close(torch.linalg.inv(cov), cholesky_inverse(torch.linalg.cholesky(cov)), eps=1e-2)"
   ]
  },
  {
   "cell_type": "code",
   "execution_count": null,
   "id": "441a6527-2f74-4c74-babe-753a31da37b1",
   "metadata": {},
   "outputs": [],
   "source": [
    "reset_seed()\n",
    "A = to_posdef(torch.rand(1000, 1000, dtype=torch.float64)) + torch.eye(1000) * 1e-3 # noise to ensure is positive definite"
   ]
  },
  {
   "cell_type": "code",
   "execution_count": null,
   "id": "e2c09d18-2d9b-476d-8d54-48d936735efa",
   "metadata": {},
   "outputs": [],
   "source": [
    "is_symmetric(A)"
   ]
  },
  {
   "cell_type": "code",
   "execution_count": null,
   "id": "2585ccaa-33b4-43de-b3a1-4ddbcc48aee5",
   "metadata": {},
   "outputs": [],
   "source": [
    "is_posdef(A)"
   ]
  },
  {
   "cell_type": "code",
   "execution_count": null,
   "id": "8fa60488-e695-4f33-8166-3a54c0de0c50",
   "metadata": {},
   "outputs": [],
   "source": [
    "%timeit torch.linalg.inv(A)"
   ]
  },
  {
   "cell_type": "code",
   "execution_count": null,
   "id": "5727ea1d-9585-4906-956f-6c4a13e0d984",
   "metadata": {},
   "outputs": [],
   "source": [
    "%timeit cholesky_inverse(torch.linalg.cholesky(A))"
   ]
  },
  {
   "cell_type": "markdown",
   "id": "91eeb54b-2ada-4813-9386-2780b6138a1c",
   "metadata": {},
   "source": [
    "The second version is way faster"
   ]
  },
  {
   "cell_type": "code",
   "execution_count": null,
   "id": "22841f3c-1f54-4cc7-9122-738c1fa54a4d",
   "metadata": {},
   "outputs": [],
   "source": [
    "test_close(conditional_guassian(mean, cov, obs, idx).mean, _conditional_guassian_base(mean, cov, obs, idx).mean)"
   ]
  },
  {
   "cell_type": "code",
   "execution_count": null,
   "id": "ccc7deb2-b82f-408f-bed7-71df9e22b4e7",
   "metadata": {},
   "outputs": [],
   "source": [
    "B = to_posdef(torch.rand(n_var, n_var, dtype=torch.float64))"
   ]
  },
  {
   "cell_type": "code",
   "execution_count": null,
   "id": "0c1f9184-eac2-4b22-b160-d34db2262e65",
   "metadata": {},
   "outputs": [],
   "source": [
    "B @ torch.inverse(cov)"
   ]
  },
  {
   "cell_type": "code",
   "execution_count": null,
   "id": "922ea127-688b-45f2-855b-799304282959",
   "metadata": {},
   "outputs": [],
   "source": [
    "torch.cholesky_solve(cholesky(cov), B)"
   ]
  },
  {
   "cell_type": "markdown",
   "id": "f88dd5e0-9c9f-4d39-a9b6-b546658870a1",
   "metadata": {},
   "source": [
    "## Helper"
   ]
  },
  {
   "cell_type": "markdown",
   "id": "f4b18aaf-0dd6-4cea-a88f-83bd8ed966df",
   "metadata": {},
   "source": [
    "### cov2std"
   ]
  },
  {
   "cell_type": "code",
   "execution_count": null,
   "id": "d945e732-9e78-453e-9e7f-a5c3caba2bf5",
   "metadata": {},
   "outputs": [],
   "source": [
    "x = torch.stack([torch.eye(3)*i for i in  range(1,4)])"
   ]
  },
  {
   "cell_type": "code",
   "execution_count": null,
   "id": "695f8643-24bb-4c08-9d45-28f71d2087fc",
   "metadata": {},
   "outputs": [],
   "source": [
    "x"
   ]
  },
  {
   "cell_type": "code",
   "execution_count": null,
   "id": "703285a8-7aff-4766-81a5-f2edf0de1d7d",
   "metadata": {},
   "outputs": [],
   "source": [
    "torch.diagonal(x, dim1=1, dim2=2)"
   ]
  },
  {
   "cell_type": "code",
   "execution_count": null,
   "id": "1b1f666c-de1e-4d76-944a-36d5ed29b4c4",
   "metadata": {},
   "outputs": [],
   "source": [
    "#| export\n",
    "def cov2std(x):\n",
    "    \"convert cov of array of covariances to array of stddev\"\n",
    "    return torch.sqrt(torch.diagonal(x, dim1=-2, dim2=-1))"
   ]
  },
  {
   "cell_type": "markdown",
   "id": "26346ea1-ce63-4315-b39c-04d8eb859c20",
   "metadata": {},
   "source": [
    "## Export"
   ]
  },
  {
   "cell_type": "code",
   "execution_count": null,
   "id": "12c41b65-9eb8-4d70-b4fc-05113783e636",
   "metadata": {},
   "outputs": [],
   "source": [
    "#| hide\n",
    "from nbdev import nbdev_export\n",
    "nbdev_export()"
   ]
  }
 ],
 "metadata": {
  "kernelspec": {
   "display_name": "data_science",
   "language": "python",
   "name": "data_science"
  },
  "widgets": {
   "application/vnd.jupyter.widget-state+json": {
    "state": {},
    "version_major": 2,
    "version_minor": 0
   }
  }
 },
 "nbformat": 4,
 "nbformat_minor": 5
}
