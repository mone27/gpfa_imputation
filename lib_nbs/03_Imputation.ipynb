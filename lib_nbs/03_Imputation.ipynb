{
 "cells": [
  {
   "cell_type": "raw",
   "id": "d1bb0b48",
   "metadata": {},
   "source": [
    "---\n",
    "description: Impute time series using GPFA Leaner\n",
    "output-file: imputation.html\n",
    "title: Imputation time series\n",
    "\n",
    "---\n",
    "\n"
   ]
  },
  {
   "cell_type": "markdown",
   "id": "00e93a35-c0f5-40f1-b111-7d58a767574f",
   "metadata": {},
   "source": [
    "the goal of this notebook is to be able to:\n",
    "\n",
    "- take a timeseries that contains gaps\n",
    "- train a GPFA Learner using the available data\n",
    "- impute the gap, by using the predictions of the learner\n",
    "- to improve the imputation by conditioning the distribution on the other observation at the same time stamp"
   ]
  },
  {
   "cell_type": "code",
   "execution_count": null,
   "id": "abcc8b0e-193c-4819-8a27-dafe166f4dfe",
   "metadata": {},
   "outputs": [],
   "source": [
    "%load_ext autoreload\n",
    "%autoreload 2"
   ]
  },
  {
   "cell_type": "code",
   "execution_count": null,
   "id": "d9b18213-e77e-46e4-8aaf-b45f2754cf12",
   "metadata": {},
   "outputs": [],
   "source": [
    "#| hide\n",
    "#| default_exp imputation"
   ]
  },
  {
   "cell_type": "code",
   "execution_count": null,
   "id": "2e18aed6",
   "metadata": {},
   "outputs": [],
   "source": [
    "#| export\n",
    "from gpfa_imputation.learner import *\n",
    "from gpfa_imputation.data_preparation import *\n",
    "\n",
    "import torch\n",
    "\n",
    "import pandas as pd\n",
    "import numpy as np\n",
    "import sklearn\n",
    "from sklearn.metrics import mean_squared_error, r2_score\n",
    "\n",
    "from fastcore.foundation import patch, patch_to\n",
    "from fastcore.meta import delegates\n",
    "\n",
    "import matplotlib.pyplot as plt\n",
    "import altair as alt\n",
    "from altair import datum\n",
    "\n",
    "from functools import lru_cache"
   ]
  },
  {
   "cell_type": "code",
   "execution_count": null,
   "id": "1071598e",
   "metadata": {},
   "outputs": [],
   "source": [
    "torch.manual_seed(277); # set seed for reproducibility of examples"
   ]
  },
  {
   "cell_type": "markdown",
   "id": "5739f7a8",
   "metadata": {},
   "source": [
    "## GPFA Imputation"
   ]
  },
  {
   "cell_type": "markdown",
   "id": "9718ca7e",
   "metadata": {},
   "source": [
    "This is the core class that does the imputation using a GPFA\n",
    "\n",
    "The inputs is:\n",
    "\n",
    "- a dataframe containing the observed data, where the row with missing data have been removed\n",
    "- a vector of times where the data is missing\n",
    "\n",
    "it returns:\n",
    "\n",
    "- a complete dataframe with the prediction of the model"
   ]
  },
  {
   "cell_type": "markdown",
   "id": "0c443423",
   "metadata": {},
   "source": [
    "The goal is that `GPFAImputation` takes as imput a dataframe containing missing values and then it imputes them using GPFALearner.\n",
    "Therefore it needs to divide the dataframe in 3 sections:\n",
    "\n",
    "- training data (rows with no NAs)\n",
    "- times to be imputed (rows with some NAs)\n",
    "- observations (variables in the pred rows that are not missing) for conditional predictions"
   ]
  },
  {
   "cell_type": "code",
   "execution_count": null,
   "id": "b2e1b4b5",
   "metadata": {},
   "outputs": [],
   "source": [
    "t_df = pd.DataFrame([\n",
    "    [1., 3., 4.],\n",
    "    [2., 6., np.nan],\n",
    "    [np.nan, np.nan, np.nan],\n",
    "    [np.nan, 8., np.nan],\n",
    "    [3., 4., 5.]\n",
    "]\n",
    ")"
   ]
  },
  {
   "cell_type": "code",
   "execution_count": null,
   "id": "bc87d59d",
   "metadata": {},
   "outputs": [
    {
     "name": "stderr",
     "output_type": "stream",
     "text": [
      "/tmp/ipykernel_53395/3664883938.py:1: FutureWarning: In a future version of pandas all arguments of DataFrame.any and Series.any will be keyword-only.\n",
      "  train_idx = ~t_df.isna().any(1)\n"
     ]
    }
   ],
   "source": [
    "train_idx = ~t_df.isna().any(1)"
   ]
  },
  {
   "cell_type": "code",
   "execution_count": null,
   "id": "f77f250d",
   "metadata": {},
   "outputs": [
    {
     "data": {
      "text/html": [
       "<div>\n",
       "<style scoped>\n",
       "    .dataframe tbody tr th:only-of-type {\n",
       "        vertical-align: middle;\n",
       "    }\n",
       "\n",
       "    .dataframe tbody tr th {\n",
       "        vertical-align: top;\n",
       "    }\n",
       "\n",
       "    .dataframe thead th {\n",
       "        text-align: right;\n",
       "    }\n",
       "</style>\n",
       "<table border=\"1\" class=\"dataframe\">\n",
       "  <thead>\n",
       "    <tr style=\"text-align: right;\">\n",
       "      <th></th>\n",
       "      <th>0</th>\n",
       "      <th>1</th>\n",
       "      <th>2</th>\n",
       "    </tr>\n",
       "  </thead>\n",
       "  <tbody>\n",
       "    <tr>\n",
       "      <th>0</th>\n",
       "      <td>1.0</td>\n",
       "      <td>3.0</td>\n",
       "      <td>4.0</td>\n",
       "    </tr>\n",
       "    <tr>\n",
       "      <th>4</th>\n",
       "      <td>3.0</td>\n",
       "      <td>4.0</td>\n",
       "      <td>5.0</td>\n",
       "    </tr>\n",
       "  </tbody>\n",
       "</table>\n",
       "</div>"
      ],
      "text/plain": [
       "     0    1    2\n",
       "0  1.0  3.0  4.0\n",
       "4  3.0  4.0  5.0"
      ]
     },
     "execution_count": null,
     "metadata": {},
     "output_type": "execute_result"
    }
   ],
   "source": [
    "t_df[train_idx]"
   ]
  },
  {
   "cell_type": "code",
   "execution_count": null,
   "id": "e2bfebc1",
   "metadata": {},
   "outputs": [],
   "source": [
    "pred_data = t_df[~train_idx].to_numpy() "
   ]
  },
  {
   "cell_type": "code",
   "execution_count": null,
   "id": "b8bb2bdd",
   "metadata": {},
   "outputs": [
    {
     "data": {
      "text/plain": [
       "array([[ 2.,  6., nan],\n",
       "       [nan, nan, nan],\n",
       "       [nan,  8., nan]])"
      ]
     },
     "execution_count": null,
     "metadata": {},
     "output_type": "execute_result"
    }
   ],
   "source": [
    "pred_data"
   ]
  },
  {
   "cell_type": "code",
   "execution_count": null,
   "id": "998471b0",
   "metadata": {},
   "outputs": [],
   "source": [
    "idx_cond = ~t_df[~train_idx].isna()"
   ]
  },
  {
   "cell_type": "code",
   "execution_count": null,
   "id": "59f7bca4",
   "metadata": {},
   "outputs": [
    {
     "data": {
      "text/html": [
       "<div>\n",
       "<style scoped>\n",
       "    .dataframe tbody tr th:only-of-type {\n",
       "        vertical-align: middle;\n",
       "    }\n",
       "\n",
       "    .dataframe tbody tr th {\n",
       "        vertical-align: top;\n",
       "    }\n",
       "\n",
       "    .dataframe thead th {\n",
       "        text-align: right;\n",
       "    }\n",
       "</style>\n",
       "<table border=\"1\" class=\"dataframe\">\n",
       "  <thead>\n",
       "    <tr style=\"text-align: right;\">\n",
       "      <th></th>\n",
       "      <th>0</th>\n",
       "      <th>1</th>\n",
       "      <th>2</th>\n",
       "    </tr>\n",
       "  </thead>\n",
       "  <tbody>\n",
       "    <tr>\n",
       "      <th>1</th>\n",
       "      <td>True</td>\n",
       "      <td>True</td>\n",
       "      <td>False</td>\n",
       "    </tr>\n",
       "    <tr>\n",
       "      <th>2</th>\n",
       "      <td>False</td>\n",
       "      <td>False</td>\n",
       "      <td>False</td>\n",
       "    </tr>\n",
       "    <tr>\n",
       "      <th>3</th>\n",
       "      <td>False</td>\n",
       "      <td>True</td>\n",
       "      <td>False</td>\n",
       "    </tr>\n",
       "  </tbody>\n",
       "</table>\n",
       "</div>"
      ],
      "text/plain": [
       "       0      1      2\n",
       "1   True   True  False\n",
       "2  False  False  False\n",
       "3  False   True  False"
      ]
     },
     "execution_count": null,
     "metadata": {},
     "output_type": "execute_result"
    }
   ],
   "source": [
    "idx_cond"
   ]
  },
  {
   "cell_type": "code",
   "execution_count": null,
   "id": "0e747440-b67f-453b-a52e-0bfbb6e67c5e",
   "metadata": {},
   "outputs": [
    {
     "data": {
      "text/plain": [
       "tensor([True, True, True, True, True, True])"
      ]
     },
     "execution_count": null,
     "metadata": {},
     "output_type": "execute_result"
    }
   ],
   "source": [
    "idx_cond = idx_cond.to_numpy().flatten() # learner needs a 1D index\n",
    "\n",
    "pred_data.flatten()[idx_cond]\n",
    "\n",
    "train_idx = t_df.isna().any(axis=1)\n",
    "\n",
    "torch.tensor(~t_df[~train_idx].isna().to_numpy().flatten())"
   ]
  },
  {
   "cell_type": "markdown",
   "id": "94de0357",
   "metadata": {},
   "source": [
    "Implement this into a function"
   ]
  },
  {
   "cell_type": "code",
   "execution_count": null,
   "id": "32e6f05d",
   "metadata": {},
   "outputs": [],
   "source": [
    "#| exports\n",
    "class GPFAImputation:\n",
    "    def __init__(\n",
    "        self,\n",
    "        data: pd.DataFrame , #observed data with missing data as NA\n",
    "        complete_data: pd.DataFrame = None, # Optional complete dataframe (for testing)\n",
    "        latent_dims = 1,\n",
    "        cuda = True, # Use GPU?\n",
    "        units = None # Dict of unit for each column. Used for plotting\n",
    "    ):\n",
    "        self.data = data\n",
    "        self.data_complete = complete_data # TODO polish this, is this tidy or wide? check has required cols\n",
    "        self.units=units\n",
    "        self.latent_dims = latent_dims\n",
    "        \n",
    "        \n",
    "        device = 'cuda' if cuda else 'cpu'\n",
    "        \n",
    "        self.T = torch.arange(0, len(data), dtype=torch.float32, device=device) # time is encoded with a increase of 1\n",
    "        \n",
    "        # Training data\n",
    "        self.train_idx = ~self.data.isna().any(axis=1)\n",
    "        self.train_data = torch.tensor(self.data[self.train_idx].to_numpy().astype(np.float32), device=device)\n",
    "        self.train_T = self.T[self.train_idx]\n",
    "        \n",
    "        self.learner = GPFALearner(X = self.train_data, T = self.train_T, latent_dims=latent_dims)\n",
    "        \n",
    "\n",
    "        # Prediction data\n",
    "        self.pred_T = self.T[~self.train_idx]\n",
    "        self.cond_idx = torch.tensor(~self.data[~self.train_idx].isna().to_numpy().flatten(), device=device) # conditional obsevations\n",
    "        self.cond_obs = torch.tensor(self.data[~self.train_idx].to_numpy().astype(np.float32).flatten()[self.cond_idx.cpu()], device=device)\n",
    "        \n",
    "        if cuda: self.learner.cuda()\n",
    "        \n",
    "        \n",
    "    @lru_cache\n",
    "    def impute(self,\n",
    "               add_time = True, # add column with time?\n",
    "               tidy = True, # tidy data?\n",
    "               ret_self = False, # return the impute object instead of the imputed data\n",
    "               ):\n",
    "        \n",
    "        if not hasattr(self, \"pred\"):\n",
    "            self.learner.train()\n",
    "            self.pred = self.learner.predict(self.pred_T, obs = self.cond_obs, idx = self.cond_idx)\n",
    "            if ret_self: return self # TODO refactor this\n",
    "        \n",
    "        if tidy: return self._impute_tidy(add_time)\n",
    "        else: return self._impute_wide(add_time)\n",
    "        \n",
    "        \n",
    "    def _impute_wide(self, add_time):\n",
    "        \"\"\" Impute in wide format\"\"\"\n",
    "        \n",
    "        imp_data = self.data.copy()\n",
    "        for col_idx, col_name in enumerate(imp_data.columns):\n",
    "            imp_data.loc[~self.train_idx, col_name] = self.pred.mean[:, col_idx].cpu().numpy()\n",
    "            imp_data.loc[~self.train_idx, col_name + \"_std\"] = self.pred.std[:, col_idx].cpu().numpy()\n",
    "        \n",
    "        idx_vars = []\n",
    "        if add_time:\n",
    "            imp_data[\"time\"] = self.T.cpu()\n",
    "            idx_vars.append(\"time\")\n",
    "        \n",
    "        return imp_data \n",
    "    \n",
    "    def _impute_tidy(self, add_time):\n",
    "        \"\"\" transform the pred output into a tidy dataframe suitable for plotting\"\"\"\n",
    "        feature_names = self.data.columns\n",
    "\n",
    "        pred_mean = pd.DataFrame(self.pred.mean.cpu(), columns = feature_names).assign(time = self.pred_T.cpu()).melt(\"time\", value_name=\"mean\")\n",
    "        pred_std = pd.DataFrame(self.pred.std.cpu(), columns = feature_names).assign(time = self.pred_T.cpu()).melt(\"time\", value_name=\"std\")\n",
    "        \n",
    "        pred = pd.merge(pred_mean, pred_std, on=['time', 'variable'])  \n",
    "        \n",
    "        train_data = self.data[self.train_idx].assign(time = self.train_T.cpu()).melt(\"time\", value_name = \"mean\")\n",
    "               \n",
    "        imp_data = pd.concat((train_data, pred))\n",
    "        \n",
    "        self.pred_wide = imp_data\n",
    "        \n",
    "        return imp_data\n",
    "    "
   ]
  },
  {
   "cell_type": "code",
   "execution_count": null,
   "id": "4105167e",
   "metadata": {},
   "outputs": [],
   "source": [
    "fd = GPFADataTest.generate(2, 10, Lambda=[1,2.]).add_random_missing()"
   ]
  },
  {
   "cell_type": "code",
   "execution_count": null,
   "id": "991133e4-4029-47b0-afe0-5b2cce2e3353",
   "metadata": {},
   "outputs": [
    {
     "data": {
      "text/html": [
       "<div>\n",
       "<style scoped>\n",
       "    .dataframe tbody tr th:only-of-type {\n",
       "        vertical-align: middle;\n",
       "    }\n",
       "\n",
       "    .dataframe tbody tr th {\n",
       "        vertical-align: top;\n",
       "    }\n",
       "\n",
       "    .dataframe thead th {\n",
       "        text-align: right;\n",
       "    }\n",
       "</style>\n",
       "<table border=\"1\" class=\"dataframe\">\n",
       "  <thead>\n",
       "    <tr style=\"text-align: right;\">\n",
       "      <th></th>\n",
       "      <th>x0</th>\n",
       "      <th>x1</th>\n",
       "    </tr>\n",
       "  </thead>\n",
       "  <tbody>\n",
       "    <tr>\n",
       "      <th>0</th>\n",
       "      <td>-0.024085</td>\n",
       "      <td>0.089268</td>\n",
       "    </tr>\n",
       "    <tr>\n",
       "      <th>1</th>\n",
       "      <td>-0.133942</td>\n",
       "      <td>0.258532</td>\n",
       "    </tr>\n",
       "    <tr>\n",
       "      <th>2</th>\n",
       "      <td>-0.604650</td>\n",
       "      <td>-0.603501</td>\n",
       "    </tr>\n",
       "    <tr>\n",
       "      <th>3</th>\n",
       "      <td>NaN</td>\n",
       "      <td>NaN</td>\n",
       "    </tr>\n",
       "    <tr>\n",
       "      <th>4</th>\n",
       "      <td>-0.478994</td>\n",
       "      <td>-1.161096</td>\n",
       "    </tr>\n",
       "    <tr>\n",
       "      <th>5</th>\n",
       "      <td>NaN</td>\n",
       "      <td>NaN</td>\n",
       "    </tr>\n",
       "    <tr>\n",
       "      <th>6</th>\n",
       "      <td>-0.594717</td>\n",
       "      <td>-1.284512</td>\n",
       "    </tr>\n",
       "    <tr>\n",
       "      <th>7</th>\n",
       "      <td>NaN</td>\n",
       "      <td>1.251743</td>\n",
       "    </tr>\n",
       "    <tr>\n",
       "      <th>8</th>\n",
       "      <td>NaN</td>\n",
       "      <td>-2.001107</td>\n",
       "    </tr>\n",
       "    <tr>\n",
       "      <th>9</th>\n",
       "      <td>NaN</td>\n",
       "      <td>NaN</td>\n",
       "    </tr>\n",
       "  </tbody>\n",
       "</table>\n",
       "</div>"
      ],
      "text/plain": [
       "         x0        x1\n",
       "0 -0.024085  0.089268\n",
       "1 -0.133942  0.258532\n",
       "2 -0.604650 -0.603501\n",
       "3       NaN       NaN\n",
       "4 -0.478994 -1.161096\n",
       "5       NaN       NaN\n",
       "6 -0.594717 -1.284512\n",
       "7       NaN  1.251743\n",
       "8       NaN -2.001107\n",
       "9       NaN       NaN"
      ]
     },
     "execution_count": null,
     "metadata": {},
     "output_type": "execute_result"
    }
   ],
   "source": [
    "fd.data"
   ]
  },
  {
   "cell_type": "code",
   "execution_count": null,
   "id": "7227151c",
   "metadata": {},
   "outputs": [],
   "source": [
    "imp = GPFAImputation(fd.data, fd.tidy_df(complete=True, is_missing=True))"
   ]
  },
  {
   "cell_type": "code",
   "execution_count": null,
   "id": "4205f980",
   "metadata": {},
   "outputs": [
    {
     "data": {
      "text/plain": [
       "<__main__.GPFAImputation>"
      ]
     },
     "execution_count": null,
     "metadata": {},
     "output_type": "execute_result"
    }
   ],
   "source": [
    "imp"
   ]
  },
  {
   "cell_type": "markdown",
   "id": "95f1a5cf-8fd8-4608-99ba-a8ba8eb94723",
   "metadata": {},
   "source": [
    "Tidy"
   ]
  },
  {
   "cell_type": "code",
   "execution_count": null,
   "id": "33f9d67f-620e-4f50-b323-074822936bd6",
   "metadata": {},
   "outputs": [
    {
     "data": {
      "application/vnd.jupyter.widget-view+json": {
       "model_id": "18409b3316f2443a93b0c12e3a85c56c",
       "version_major": 2,
       "version_minor": 0
      },
      "text/plain": [
       "  0%|          | 0/100 [00:00<?, ?it/s]"
      ]
     },
     "metadata": {},
     "output_type": "display_data"
    },
    {
     "name": "stderr",
     "output_type": "stream",
     "text": [
      "/home/simone/anaconda3/envs/data-science/lib/python3.10/site-packages/gpytorch/lazy/triangular_lazy_tensor.py:136: UserWarning: torch.triangular_solve is deprecated in favor of torch.linalg.solve_triangularand will be removed in a future PyTorch release.\n",
      "torch.linalg.solve_triangular has its arguments reversed and does not return a copy of one of the inputs.\n",
      "X = torch.triangular_solve(B, A).solution\n",
      "should be replaced with\n",
      "X = torch.linalg.solve_triangular(A, B). (Triggered internally at  ../aten/src/ATen/native/BatchLinearAlgebra.cpp:2183.)\n",
      "  res = torch.triangular_solve(right_tensor, self.evaluate(), upper=self.upper).solution\n",
      "/home/simone/anaconda3/envs/data-science/lib/python3.10/site-packages/torch/autograd/__init__.py:173: UserWarning: operator() profile_node %840 : int[] = prim::profile_ivalue(%838)\n",
      " does not have profile information (Triggered internally at  ../torch/csrc/jit/codegen/cuda/graph_fuser.cpp:104.)\n",
      "  Variable._execution_engine.run_backward(  # Calls into the C++ engine to run the backward pass\n"
     ]
    },
    {
     "data": {
      "text/html": [
       "<div>\n",
       "<style scoped>\n",
       "    .dataframe tbody tr th:only-of-type {\n",
       "        vertical-align: middle;\n",
       "    }\n",
       "\n",
       "    .dataframe tbody tr th {\n",
       "        vertical-align: top;\n",
       "    }\n",
       "\n",
       "    .dataframe thead th {\n",
       "        text-align: right;\n",
       "    }\n",
       "</style>\n",
       "<table border=\"1\" class=\"dataframe\">\n",
       "  <thead>\n",
       "    <tr style=\"text-align: right;\">\n",
       "      <th></th>\n",
       "      <th>time</th>\n",
       "      <th>variable</th>\n",
       "      <th>mean</th>\n",
       "      <th>std</th>\n",
       "    </tr>\n",
       "  </thead>\n",
       "  <tbody>\n",
       "    <tr>\n",
       "      <th>0</th>\n",
       "      <td>0.0</td>\n",
       "      <td>x0</td>\n",
       "      <td>-0.024085</td>\n",
       "      <td>NaN</td>\n",
       "    </tr>\n",
       "    <tr>\n",
       "      <th>1</th>\n",
       "      <td>1.0</td>\n",
       "      <td>x0</td>\n",
       "      <td>-0.133942</td>\n",
       "      <td>NaN</td>\n",
       "    </tr>\n",
       "    <tr>\n",
       "      <th>2</th>\n",
       "      <td>2.0</td>\n",
       "      <td>x0</td>\n",
       "      <td>-0.604650</td>\n",
       "      <td>NaN</td>\n",
       "    </tr>\n",
       "    <tr>\n",
       "      <th>3</th>\n",
       "      <td>4.0</td>\n",
       "      <td>x0</td>\n",
       "      <td>-0.478994</td>\n",
       "      <td>NaN</td>\n",
       "    </tr>\n",
       "    <tr>\n",
       "      <th>4</th>\n",
       "      <td>6.0</td>\n",
       "      <td>x0</td>\n",
       "      <td>-0.594717</td>\n",
       "      <td>NaN</td>\n",
       "    </tr>\n",
       "    <tr>\n",
       "      <th>5</th>\n",
       "      <td>0.0</td>\n",
       "      <td>x1</td>\n",
       "      <td>0.089268</td>\n",
       "      <td>NaN</td>\n",
       "    </tr>\n",
       "    <tr>\n",
       "      <th>6</th>\n",
       "      <td>1.0</td>\n",
       "      <td>x1</td>\n",
       "      <td>0.258532</td>\n",
       "      <td>NaN</td>\n",
       "    </tr>\n",
       "    <tr>\n",
       "      <th>7</th>\n",
       "      <td>2.0</td>\n",
       "      <td>x1</td>\n",
       "      <td>-0.603501</td>\n",
       "      <td>NaN</td>\n",
       "    </tr>\n",
       "    <tr>\n",
       "      <th>8</th>\n",
       "      <td>4.0</td>\n",
       "      <td>x1</td>\n",
       "      <td>-1.161096</td>\n",
       "      <td>NaN</td>\n",
       "    </tr>\n",
       "    <tr>\n",
       "      <th>9</th>\n",
       "      <td>6.0</td>\n",
       "      <td>x1</td>\n",
       "      <td>-1.284512</td>\n",
       "      <td>NaN</td>\n",
       "    </tr>\n",
       "    <tr>\n",
       "      <th>0</th>\n",
       "      <td>3.0</td>\n",
       "      <td>x0</td>\n",
       "      <td>-0.471591</td>\n",
       "      <td>0.149200</td>\n",
       "    </tr>\n",
       "    <tr>\n",
       "      <th>1</th>\n",
       "      <td>5.0</td>\n",
       "      <td>x0</td>\n",
       "      <td>-0.992677</td>\n",
       "      <td>0.149305</td>\n",
       "    </tr>\n",
       "    <tr>\n",
       "      <th>2</th>\n",
       "      <td>7.0</td>\n",
       "      <td>x0</td>\n",
       "      <td>0.123035</td>\n",
       "      <td>0.123644</td>\n",
       "    </tr>\n",
       "    <tr>\n",
       "      <th>3</th>\n",
       "      <td>8.0</td>\n",
       "      <td>x0</td>\n",
       "      <td>-0.784389</td>\n",
       "      <td>0.123953</td>\n",
       "    </tr>\n",
       "    <tr>\n",
       "      <th>4</th>\n",
       "      <td>9.0</td>\n",
       "      <td>x0</td>\n",
       "      <td>-1.274740</td>\n",
       "      <td>0.183295</td>\n",
       "    </tr>\n",
       "    <tr>\n",
       "      <th>5</th>\n",
       "      <td>3.0</td>\n",
       "      <td>x1</td>\n",
       "      <td>-0.846165</td>\n",
       "      <td>0.291451</td>\n",
       "    </tr>\n",
       "    <tr>\n",
       "      <th>6</th>\n",
       "      <td>5.0</td>\n",
       "      <td>x1</td>\n",
       "      <td>-2.374261</td>\n",
       "      <td>0.291914</td>\n",
       "    </tr>\n",
       "    <tr>\n",
       "      <th>7</th>\n",
       "      <td>7.0</td>\n",
       "      <td>x1</td>\n",
       "      <td>1.251743</td>\n",
       "      <td>0.000000</td>\n",
       "    </tr>\n",
       "    <tr>\n",
       "      <th>8</th>\n",
       "      <td>8.0</td>\n",
       "      <td>x1</td>\n",
       "      <td>-2.001107</td>\n",
       "      <td>0.000000</td>\n",
       "    </tr>\n",
       "    <tr>\n",
       "      <th>9</th>\n",
       "      <td>9.0</td>\n",
       "      <td>x1</td>\n",
       "      <td>-3.201419</td>\n",
       "      <td>0.427122</td>\n",
       "    </tr>\n",
       "  </tbody>\n",
       "</table>\n",
       "</div>"
      ],
      "text/plain": [
       "   time variable      mean       std\n",
       "0   0.0       x0 -0.024085       NaN\n",
       "1   1.0       x0 -0.133942       NaN\n",
       "2   2.0       x0 -0.604650       NaN\n",
       "3   4.0       x0 -0.478994       NaN\n",
       "4   6.0       x0 -0.594717       NaN\n",
       "5   0.0       x1  0.089268       NaN\n",
       "6   1.0       x1  0.258532       NaN\n",
       "7   2.0       x1 -0.603501       NaN\n",
       "8   4.0       x1 -1.161096       NaN\n",
       "9   6.0       x1 -1.284512       NaN\n",
       "0   3.0       x0 -0.471591  0.149200\n",
       "1   5.0       x0 -0.992677  0.149305\n",
       "2   7.0       x0  0.123035  0.123644\n",
       "3   8.0       x0 -0.784389  0.123953\n",
       "4   9.0       x0 -1.274740  0.183295\n",
       "5   3.0       x1 -0.846165  0.291451\n",
       "6   5.0       x1 -2.374261  0.291914\n",
       "7   7.0       x1  1.251743  0.000000\n",
       "8   8.0       x1 -2.001107  0.000000\n",
       "9   9.0       x1 -3.201419  0.427122"
      ]
     },
     "execution_count": null,
     "metadata": {},
     "output_type": "execute_result"
    }
   ],
   "source": [
    "imp.impute()"
   ]
  },
  {
   "cell_type": "markdown",
   "id": "e24cab0b-b622-4da4-9092-19fddef93b82",
   "metadata": {},
   "source": [
    "wide"
   ]
  },
  {
   "cell_type": "code",
   "execution_count": null,
   "id": "fa5c3610",
   "metadata": {},
   "outputs": [
    {
     "data": {
      "text/html": [
       "<div>\n",
       "<style scoped>\n",
       "    .dataframe tbody tr th:only-of-type {\n",
       "        vertical-align: middle;\n",
       "    }\n",
       "\n",
       "    .dataframe tbody tr th {\n",
       "        vertical-align: top;\n",
       "    }\n",
       "\n",
       "    .dataframe thead th {\n",
       "        text-align: right;\n",
       "    }\n",
       "</style>\n",
       "<table border=\"1\" class=\"dataframe\">\n",
       "  <thead>\n",
       "    <tr style=\"text-align: right;\">\n",
       "      <th></th>\n",
       "      <th>x0</th>\n",
       "      <th>x1</th>\n",
       "      <th>x0_std</th>\n",
       "      <th>x1_std</th>\n",
       "      <th>time</th>\n",
       "    </tr>\n",
       "  </thead>\n",
       "  <tbody>\n",
       "    <tr>\n",
       "      <th>0</th>\n",
       "      <td>-0.024085</td>\n",
       "      <td>0.089268</td>\n",
       "      <td>NaN</td>\n",
       "      <td>NaN</td>\n",
       "      <td>0.0</td>\n",
       "    </tr>\n",
       "    <tr>\n",
       "      <th>1</th>\n",
       "      <td>-0.133942</td>\n",
       "      <td>0.258532</td>\n",
       "      <td>NaN</td>\n",
       "      <td>NaN</td>\n",
       "      <td>1.0</td>\n",
       "    </tr>\n",
       "    <tr>\n",
       "      <th>2</th>\n",
       "      <td>-0.604650</td>\n",
       "      <td>-0.603501</td>\n",
       "      <td>NaN</td>\n",
       "      <td>NaN</td>\n",
       "      <td>2.0</td>\n",
       "    </tr>\n",
       "    <tr>\n",
       "      <th>3</th>\n",
       "      <td>-0.471591</td>\n",
       "      <td>-0.846165</td>\n",
       "      <td>0.149200</td>\n",
       "      <td>0.291451</td>\n",
       "      <td>3.0</td>\n",
       "    </tr>\n",
       "    <tr>\n",
       "      <th>4</th>\n",
       "      <td>-0.478994</td>\n",
       "      <td>-1.161096</td>\n",
       "      <td>NaN</td>\n",
       "      <td>NaN</td>\n",
       "      <td>4.0</td>\n",
       "    </tr>\n",
       "    <tr>\n",
       "      <th>5</th>\n",
       "      <td>-0.992677</td>\n",
       "      <td>-2.374261</td>\n",
       "      <td>0.149305</td>\n",
       "      <td>0.291914</td>\n",
       "      <td>5.0</td>\n",
       "    </tr>\n",
       "    <tr>\n",
       "      <th>6</th>\n",
       "      <td>-0.594717</td>\n",
       "      <td>-1.284512</td>\n",
       "      <td>NaN</td>\n",
       "      <td>NaN</td>\n",
       "      <td>6.0</td>\n",
       "    </tr>\n",
       "    <tr>\n",
       "      <th>7</th>\n",
       "      <td>0.123035</td>\n",
       "      <td>1.251743</td>\n",
       "      <td>0.123644</td>\n",
       "      <td>0.000000</td>\n",
       "      <td>7.0</td>\n",
       "    </tr>\n",
       "    <tr>\n",
       "      <th>8</th>\n",
       "      <td>-0.784389</td>\n",
       "      <td>-2.001107</td>\n",
       "      <td>0.123953</td>\n",
       "      <td>0.000000</td>\n",
       "      <td>8.0</td>\n",
       "    </tr>\n",
       "    <tr>\n",
       "      <th>9</th>\n",
       "      <td>-1.274740</td>\n",
       "      <td>-3.201419</td>\n",
       "      <td>0.183295</td>\n",
       "      <td>0.427122</td>\n",
       "      <td>9.0</td>\n",
       "    </tr>\n",
       "  </tbody>\n",
       "</table>\n",
       "</div>"
      ],
      "text/plain": [
       "         x0        x1    x0_std    x1_std  time\n",
       "0 -0.024085  0.089268       NaN       NaN   0.0\n",
       "1 -0.133942  0.258532       NaN       NaN   1.0\n",
       "2 -0.604650 -0.603501       NaN       NaN   2.0\n",
       "3 -0.471591 -0.846165  0.149200  0.291451   3.0\n",
       "4 -0.478994 -1.161096       NaN       NaN   4.0\n",
       "5 -0.992677 -2.374261  0.149305  0.291914   5.0\n",
       "6 -0.594717 -1.284512       NaN       NaN   6.0\n",
       "7  0.123035  1.251743  0.123644  0.000000   7.0\n",
       "8 -0.784389 -2.001107  0.123953  0.000000   8.0\n",
       "9 -1.274740 -3.201419  0.183295  0.427122   9.0"
      ]
     },
     "execution_count": null,
     "metadata": {},
     "output_type": "execute_result"
    }
   ],
   "source": [
    "imp.impute(tidy=False)"
   ]
  },
  {
   "cell_type": "markdown",
   "id": "0e4b7834",
   "metadata": {},
   "source": [
    "### CPU \n",
    "\n",
    "check that the CPU support is still working"
   ]
  },
  {
   "cell_type": "code",
   "execution_count": null,
   "id": "30628594",
   "metadata": {},
   "outputs": [],
   "source": [
    "imp_cpu = GPFAImputation(fd.data, fd.tidy_df(complete=True, is_missing=True), cuda=False)"
   ]
  },
  {
   "cell_type": "code",
   "execution_count": null,
   "id": "8b992dfc-2086-4434-9ac8-cda460fdf046",
   "metadata": {},
   "outputs": [
    {
     "data": {
      "application/vnd.jupyter.widget-view+json": {
       "model_id": "882933bdbc8e401582ea1ca22a57232c",
       "version_major": 2,
       "version_minor": 0
      },
      "text/plain": [
       "  0%|          | 0/100 [00:00<?, ?it/s]"
      ]
     },
     "metadata": {},
     "output_type": "display_data"
    },
    {
     "data": {
      "text/html": [
       "<div>\n",
       "<style scoped>\n",
       "    .dataframe tbody tr th:only-of-type {\n",
       "        vertical-align: middle;\n",
       "    }\n",
       "\n",
       "    .dataframe tbody tr th {\n",
       "        vertical-align: top;\n",
       "    }\n",
       "\n",
       "    .dataframe thead th {\n",
       "        text-align: right;\n",
       "    }\n",
       "</style>\n",
       "<table border=\"1\" class=\"dataframe\">\n",
       "  <thead>\n",
       "    <tr style=\"text-align: right;\">\n",
       "      <th></th>\n",
       "      <th>time</th>\n",
       "      <th>variable</th>\n",
       "      <th>mean</th>\n",
       "      <th>std</th>\n",
       "    </tr>\n",
       "  </thead>\n",
       "  <tbody>\n",
       "    <tr>\n",
       "      <th>0</th>\n",
       "      <td>0.0</td>\n",
       "      <td>x0</td>\n",
       "      <td>-0.024085</td>\n",
       "      <td>NaN</td>\n",
       "    </tr>\n",
       "    <tr>\n",
       "      <th>1</th>\n",
       "      <td>1.0</td>\n",
       "      <td>x0</td>\n",
       "      <td>-0.133942</td>\n",
       "      <td>NaN</td>\n",
       "    </tr>\n",
       "    <tr>\n",
       "      <th>2</th>\n",
       "      <td>2.0</td>\n",
       "      <td>x0</td>\n",
       "      <td>-0.604650</td>\n",
       "      <td>NaN</td>\n",
       "    </tr>\n",
       "    <tr>\n",
       "      <th>3</th>\n",
       "      <td>4.0</td>\n",
       "      <td>x0</td>\n",
       "      <td>-0.478994</td>\n",
       "      <td>NaN</td>\n",
       "    </tr>\n",
       "    <tr>\n",
       "      <th>4</th>\n",
       "      <td>6.0</td>\n",
       "      <td>x0</td>\n",
       "      <td>-0.594717</td>\n",
       "      <td>NaN</td>\n",
       "    </tr>\n",
       "    <tr>\n",
       "      <th>5</th>\n",
       "      <td>0.0</td>\n",
       "      <td>x1</td>\n",
       "      <td>0.089268</td>\n",
       "      <td>NaN</td>\n",
       "    </tr>\n",
       "    <tr>\n",
       "      <th>6</th>\n",
       "      <td>1.0</td>\n",
       "      <td>x1</td>\n",
       "      <td>0.258532</td>\n",
       "      <td>NaN</td>\n",
       "    </tr>\n",
       "    <tr>\n",
       "      <th>7</th>\n",
       "      <td>2.0</td>\n",
       "      <td>x1</td>\n",
       "      <td>-0.603501</td>\n",
       "      <td>NaN</td>\n",
       "    </tr>\n",
       "    <tr>\n",
       "      <th>8</th>\n",
       "      <td>4.0</td>\n",
       "      <td>x1</td>\n",
       "      <td>-1.161096</td>\n",
       "      <td>NaN</td>\n",
       "    </tr>\n",
       "    <tr>\n",
       "      <th>9</th>\n",
       "      <td>6.0</td>\n",
       "      <td>x1</td>\n",
       "      <td>-1.284512</td>\n",
       "      <td>NaN</td>\n",
       "    </tr>\n",
       "    <tr>\n",
       "      <th>0</th>\n",
       "      <td>3.0</td>\n",
       "      <td>x0</td>\n",
       "      <td>-0.470950</td>\n",
       "      <td>0.149094</td>\n",
       "    </tr>\n",
       "    <tr>\n",
       "      <th>1</th>\n",
       "      <td>5.0</td>\n",
       "      <td>x0</td>\n",
       "      <td>-0.995350</td>\n",
       "      <td>0.149195</td>\n",
       "    </tr>\n",
       "    <tr>\n",
       "      <th>2</th>\n",
       "      <td>7.0</td>\n",
       "      <td>x0</td>\n",
       "      <td>0.125105</td>\n",
       "      <td>0.123631</td>\n",
       "    </tr>\n",
       "    <tr>\n",
       "      <th>3</th>\n",
       "      <td>8.0</td>\n",
       "      <td>x0</td>\n",
       "      <td>-0.785748</td>\n",
       "      <td>0.123927</td>\n",
       "    </tr>\n",
       "    <tr>\n",
       "      <th>4</th>\n",
       "      <td>9.0</td>\n",
       "      <td>x0</td>\n",
       "      <td>-1.279065</td>\n",
       "      <td>0.183126</td>\n",
       "    </tr>\n",
       "    <tr>\n",
       "      <th>5</th>\n",
       "      <td>3.0</td>\n",
       "      <td>x1</td>\n",
       "      <td>-0.844499</td>\n",
       "      <td>0.290119</td>\n",
       "    </tr>\n",
       "    <tr>\n",
       "      <th>6</th>\n",
       "      <td>5.0</td>\n",
       "      <td>x1</td>\n",
       "      <td>-2.383397</td>\n",
       "      <td>0.290565</td>\n",
       "    </tr>\n",
       "    <tr>\n",
       "      <th>7</th>\n",
       "      <td>7.0</td>\n",
       "      <td>x1</td>\n",
       "      <td>1.251743</td>\n",
       "      <td>0.000000</td>\n",
       "    </tr>\n",
       "    <tr>\n",
       "      <th>8</th>\n",
       "      <td>8.0</td>\n",
       "      <td>x1</td>\n",
       "      <td>-2.001107</td>\n",
       "      <td>0.000000</td>\n",
       "    </tr>\n",
       "    <tr>\n",
       "      <th>9</th>\n",
       "      <td>9.0</td>\n",
       "      <td>x1</td>\n",
       "      <td>-3.215984</td>\n",
       "      <td>0.426067</td>\n",
       "    </tr>\n",
       "  </tbody>\n",
       "</table>\n",
       "</div>"
      ],
      "text/plain": [
       "   time variable      mean       std\n",
       "0   0.0       x0 -0.024085       NaN\n",
       "1   1.0       x0 -0.133942       NaN\n",
       "2   2.0       x0 -0.604650       NaN\n",
       "3   4.0       x0 -0.478994       NaN\n",
       "4   6.0       x0 -0.594717       NaN\n",
       "5   0.0       x1  0.089268       NaN\n",
       "6   1.0       x1  0.258532       NaN\n",
       "7   2.0       x1 -0.603501       NaN\n",
       "8   4.0       x1 -1.161096       NaN\n",
       "9   6.0       x1 -1.284512       NaN\n",
       "0   3.0       x0 -0.470950  0.149094\n",
       "1   5.0       x0 -0.995350  0.149195\n",
       "2   7.0       x0  0.125105  0.123631\n",
       "3   8.0       x0 -0.785748  0.123927\n",
       "4   9.0       x0 -1.279065  0.183126\n",
       "5   3.0       x1 -0.844499  0.290119\n",
       "6   5.0       x1 -2.383397  0.290565\n",
       "7   7.0       x1  1.251743  0.000000\n",
       "8   8.0       x1 -2.001107  0.000000\n",
       "9   9.0       x1 -3.215984  0.426067"
      ]
     },
     "execution_count": null,
     "metadata": {},
     "output_type": "execute_result"
    }
   ],
   "source": [
    "imp_cpu.impute()"
   ]
  },
  {
   "cell_type": "markdown",
   "id": "ec0852c8",
   "metadata": {},
   "source": [
    "### Repr\n",
    "\n",
    "add `__repr__` and `__str__` to imputation objects"
   ]
  },
  {
   "cell_type": "code",
   "execution_count": null,
   "id": "7842fded",
   "metadata": {},
   "outputs": [],
   "source": [
    "#| exports\n",
    "@patch\n",
    "def __repr__(self: GPFAImputation):\n",
    "    return f\"\"\"GPFA Imputation:\n",
    "    N obs: {self.data.shape[0]}\n",
    "    N features {self.data.shape[1]} ({', '.join(self.data.columns)})\n",
    "    N missing observations {(~self.cond_idx).sum()}\"\"\"\n",
    "\n",
    "@patch\n",
    "def __str__(self: GPFAImputation):\n",
    "    return self.__repr__()"
   ]
  },
  {
   "cell_type": "code",
   "execution_count": null,
   "id": "fb089a3d",
   "metadata": {},
   "outputs": [
    {
     "data": {
      "text/plain": [
       "GPFA Imputation:\n",
       "    N obs: 10\n",
       "    N features 2 (x0, x1)\n",
       "    N missing observations 8"
      ]
     },
     "execution_count": null,
     "metadata": {},
     "output_type": "execute_result"
    }
   ],
   "source": [
    "imp"
   ]
  },
  {
   "cell_type": "code",
   "execution_count": null,
   "id": "f2605a62",
   "metadata": {},
   "outputs": [
    {
     "data": {
      "text/plain": [
       "'GPFA Imputation:\\n    N obs: 10\\n    N features 2 (x0, x1)\\n    N missing observations 8'"
      ]
     },
     "execution_count": null,
     "metadata": {},
     "output_type": "execute_result"
    }
   ],
   "source": [
    "str(imp)"
   ]
  },
  {
   "cell_type": "markdown",
   "id": "9a1441eb-f6d9-4cab-a47d-7a8ad2b359ef",
   "metadata": {},
   "source": [
    "### From GPFADataTest\n",
    "\n",
    "make constrution from a `GPFADataTest` easier"
   ]
  },
  {
   "cell_type": "code",
   "execution_count": null,
   "id": "937d10a4-d464-4b3f-b88e-6be58bfa1ebd",
   "metadata": {},
   "outputs": [],
   "source": [
    "#| export\n",
    "@patch_to(GPFADataTest)\n",
    "def to_imp(self, **kwargs):\n",
    "    \"Makes GPFAImputation object from data\"\n",
    "    return GPFAImputation(self.data, self.tidy_df(complete=True, is_missing=True), **kwargs)"
   ]
  },
  {
   "cell_type": "code",
   "execution_count": null,
   "id": "c50e412e-85de-407e-9d33-93c5f966ae56",
   "metadata": {},
   "outputs": [
    {
     "data": {
      "text/plain": [
       "GPFA Imputation:\n",
       "    N obs: 10\n",
       "    N features 2 (x0, x1)\n",
       "    N missing observations 8"
      ]
     },
     "execution_count": null,
     "metadata": {},
     "output_type": "execute_result"
    }
   ],
   "source": [
    "fd.to_imp()"
   ]
  },
  {
   "cell_type": "markdown",
   "id": "c572505d-0025-4ba9-8d9f-052dc1d6b3c1",
   "metadata": {},
   "source": [
    "## Results"
   ]
  },
  {
   "cell_type": "markdown",
   "id": "335942e1",
   "metadata": {},
   "source": [
    "### Metrics"
   ]
  },
  {
   "cell_type": "code",
   "execution_count": null,
   "id": "2916f88d-bded-4a1c-9c51-0dde5a9998f0",
   "metadata": {},
   "outputs": [],
   "source": [
    "# class GPFAResults:\n",
    "    # def __init__(data_imputed, data_complete, units, latent_dims)"
   ]
  },
  {
   "cell_type": "code",
   "execution_count": null,
   "id": "f2f1ed73",
   "metadata": {},
   "outputs": [],
   "source": [
    "#| exports\n",
    "@patch\n",
    "def compute_metric(self: GPFAImputation,\n",
    "                   metric, # function that takes as argument true and pred and returns the metric\n",
    "                   metric_name = 'metric'):\n",
    "    pred = self.impute(tidy=True, add_time=True)\n",
    "    \n",
    "    df = pd.merge(pred, self.data_complete, on = ['time','variable'])\n",
    "    \n",
    "    vars = []\n",
    "    \n",
    "    for var in df.variable.unique():\n",
    "        df_var = df[(df.variable == var) & (df.is_missing == True)]\n",
    "        vars.append({'variable': var,\n",
    "                      metric_name: metric(df_var['value'], df_var['mean'])})\n",
    "    \n",
    "    return pd.DataFrame(vars)"
   ]
  },
  {
   "cell_type": "code",
   "execution_count": null,
   "id": "af35b7ec",
   "metadata": {},
   "outputs": [],
   "source": [
    "#| exports\n",
    "@patch\n",
    "def rmse(self: GPFAImputation):\n",
    "    \n",
    "    return self.compute_metric(lambda x, y: np.sqrt(mean_squared_error(x,y)), \"rmse\")\n",
    "    "
   ]
  },
  {
   "cell_type": "code",
   "execution_count": null,
   "id": "dd1edbfd",
   "metadata": {},
   "outputs": [
    {
     "data": {
      "text/html": [
       "<div>\n",
       "<style scoped>\n",
       "    .dataframe tbody tr th:only-of-type {\n",
       "        vertical-align: middle;\n",
       "    }\n",
       "\n",
       "    .dataframe tbody tr th {\n",
       "        vertical-align: top;\n",
       "    }\n",
       "\n",
       "    .dataframe thead th {\n",
       "        text-align: right;\n",
       "    }\n",
       "</style>\n",
       "<table border=\"1\" class=\"dataframe\">\n",
       "  <thead>\n",
       "    <tr style=\"text-align: right;\">\n",
       "      <th></th>\n",
       "      <th>variable</th>\n",
       "      <th>rmse</th>\n",
       "    </tr>\n",
       "  </thead>\n",
       "  <tbody>\n",
       "    <tr>\n",
       "      <th>0</th>\n",
       "      <td>x0</td>\n",
       "      <td>1.299482</td>\n",
       "    </tr>\n",
       "    <tr>\n",
       "      <th>1</th>\n",
       "      <td>x1</td>\n",
       "      <td>3.729565</td>\n",
       "    </tr>\n",
       "  </tbody>\n",
       "</table>\n",
       "</div>"
      ],
      "text/plain": [
       "  variable      rmse\n",
       "0       x0  1.299482\n",
       "1       x1  3.729565"
      ]
     },
     "execution_count": null,
     "metadata": {},
     "output_type": "execute_result"
    }
   ],
   "source": [
    "imp.rmse()"
   ]
  },
  {
   "cell_type": "code",
   "execution_count": null,
   "id": "864cdfc6",
   "metadata": {},
   "outputs": [],
   "source": [
    "#| exports\n",
    "@patch\n",
    "def r2(self: GPFAImputation):\n",
    "    return self.compute_metric(r2_score, \"r2\")"
   ]
  },
  {
   "cell_type": "code",
   "execution_count": null,
   "id": "a7853079",
   "metadata": {},
   "outputs": [
    {
     "data": {
      "text/html": [
       "<div>\n",
       "<style scoped>\n",
       "    .dataframe tbody tr th:only-of-type {\n",
       "        vertical-align: middle;\n",
       "    }\n",
       "\n",
       "    .dataframe tbody tr th {\n",
       "        vertical-align: top;\n",
       "    }\n",
       "\n",
       "    .dataframe thead th {\n",
       "        text-align: right;\n",
       "    }\n",
       "</style>\n",
       "<table border=\"1\" class=\"dataframe\">\n",
       "  <thead>\n",
       "    <tr style=\"text-align: right;\">\n",
       "      <th></th>\n",
       "      <th>variable</th>\n",
       "      <th>r2</th>\n",
       "    </tr>\n",
       "  </thead>\n",
       "  <tbody>\n",
       "    <tr>\n",
       "      <th>0</th>\n",
       "      <td>x0</td>\n",
       "      <td>-1.736135</td>\n",
       "    </tr>\n",
       "    <tr>\n",
       "      <th>1</th>\n",
       "      <td>x1</td>\n",
       "      <td>-81.135962</td>\n",
       "    </tr>\n",
       "  </tbody>\n",
       "</table>\n",
       "</div>"
      ],
      "text/plain": [
       "  variable         r2\n",
       "0       x0  -1.736135\n",
       "1       x1 -81.135962"
      ]
     },
     "execution_count": null,
     "metadata": {},
     "output_type": "execute_result"
    }
   ],
   "source": [
    "imp.r2()"
   ]
  },
  {
   "cell_type": "markdown",
   "id": "f88f5272",
   "metadata": {},
   "source": [
    "### Prediction plot"
   ]
  },
  {
   "cell_type": "code",
   "execution_count": null,
   "id": "b78e2dd1",
   "metadata": {},
   "outputs": [],
   "source": [
    "#| exports\n",
    "def _plot_variable(imp, complete, variable, y_label=\"\", sel=None, properties = {}):\n",
    "    \n",
    "    imp = imp[imp.variable == variable]\n",
    "\n",
    "    \n",
    "    error = alt.Chart(imp).mark_errorband().encode(\n",
    "        x = \"time\",    \n",
    "        y = alt.Y(\"err_low:Q\", title = y_label, scale=alt.Scale(zero=False)),\n",
    "        y2 = \"err_high:Q\",\n",
    "        color=alt.Color(\"variable\",\n",
    "                        legend = alt.Legend(title=[\"Line: pred. mean\", \"area: +/- 2 std\", \"(variable)\"])\n",
    "                       ),\n",
    "        tooltip = alt.Tooltip(['std', 'mean'], format=\".4\")\n",
    "    ).transform_calculate(\n",
    "        err_low = \"datum.mean - 2 * datum.std\",\n",
    "        err_high = \"datum.mean + 2 * datum.std\"\n",
    "    ).properties( **properties)\n",
    "\n",
    "    pred = alt.Chart(imp).mark_line().encode(\n",
    "        x = \"time\",    \n",
    "        y = alt.Y(\"mean:Q\", title = y_label, scale=alt.Scale(zero=False)),\n",
    "        color=\"variable\",\n",
    "    ).add_selection(\n",
    "        sel if sel is not None else alt.selection_interval(bind=\"scales\")\n",
    "    ).properties(title = variable)\n",
    "\n",
    "    base_plot = error + pred\n",
    "    \n",
    "    if complete is not None:\n",
    "\n",
    "        complete = complete[complete.variable == variable]\n",
    "        truth_plt = alt.Chart(complete).mark_point(\n",
    "            color='black',\n",
    "            strokeWidth = 1,\n",
    "            fillOpacity = 1\n",
    "        ).encode(\n",
    "            x = \"time\",\n",
    "            y = alt.Y(\"value\", title = y_label, scale=alt.Scale(zero=False)),\n",
    "            fill= alt.Fill(\"is_missing\", scale = alt.Scale(range=[\"#ffffff00\", \"black\"]),\n",
    "                           legend = alt.Legend(title =[\"Observed data\",\"(is missing)\"])),\n",
    "            shape = \"is_missing\",\n",
    "        )\n",
    "\n",
    "        base_plot = truth_plt + base_plot\n",
    "        \n",
    "    return base_plot\n",
    "    "
   ]
  },
  {
   "cell_type": "code",
   "execution_count": null,
   "id": "59fc4c4a",
   "metadata": {},
   "outputs": [
    {
     "name": "stderr",
     "output_type": "stream",
     "text": [
      "/home/simone/.local/lib/python3.10/site-packages/altair/utils/core.py:317: FutureWarning: iteritems is deprecated and will be removed in a future version. Use .items instead.\n",
      "  for col_name, dtype in df.dtypes.iteritems():\n"
     ]
    },
    {
     "data": {
      "text/html": [
       "\n",
       "<div id=\"altair-viz-2d2b1bc8418349cfb6cb11e5df029baf\"></div>\n",
       "<script type=\"text/javascript\">\n",
       "  var VEGA_DEBUG = (typeof VEGA_DEBUG == \"undefined\") ? {} : VEGA_DEBUG;\n",
       "  (function(spec, embedOpt){\n",
       "    let outputDiv = document.currentScript.previousElementSibling;\n",
       "    if (outputDiv.id !== \"altair-viz-2d2b1bc8418349cfb6cb11e5df029baf\") {\n",
       "      outputDiv = document.getElementById(\"altair-viz-2d2b1bc8418349cfb6cb11e5df029baf\");\n",
       "    }\n",
       "    const paths = {\n",
       "      \"vega\": \"https://cdn.jsdelivr.net/npm//vega@5?noext\",\n",
       "      \"vega-lib\": \"https://cdn.jsdelivr.net/npm//vega-lib?noext\",\n",
       "      \"vega-lite\": \"https://cdn.jsdelivr.net/npm//vega-lite@4.17.0?noext\",\n",
       "      \"vega-embed\": \"https://cdn.jsdelivr.net/npm//vega-embed@6?noext\",\n",
       "    };\n",
       "\n",
       "    function maybeLoadScript(lib, version) {\n",
       "      var key = `${lib.replace(\"-\", \"\")}_version`;\n",
       "      return (VEGA_DEBUG[key] == version) ?\n",
       "        Promise.resolve(paths[lib]) :\n",
       "        new Promise(function(resolve, reject) {\n",
       "          var s = document.createElement('script');\n",
       "          document.getElementsByTagName(\"head\")[0].appendChild(s);\n",
       "          s.async = true;\n",
       "          s.onload = () => {\n",
       "            VEGA_DEBUG[key] = version;\n",
       "            return resolve(paths[lib]);\n",
       "          };\n",
       "          s.onerror = () => reject(`Error loading script: ${paths[lib]}`);\n",
       "          s.src = paths[lib];\n",
       "        });\n",
       "    }\n",
       "\n",
       "    function showError(err) {\n",
       "      outputDiv.innerHTML = `<div class=\"error\" style=\"color:red;\">${err}</div>`;\n",
       "      throw err;\n",
       "    }\n",
       "\n",
       "    function displayChart(vegaEmbed) {\n",
       "      vegaEmbed(outputDiv, spec, embedOpt)\n",
       "        .catch(err => showError(`Javascript Error: ${err.message}<br>This usually means there's a typo in your chart specification. See the javascript console for the full traceback.`));\n",
       "    }\n",
       "\n",
       "    if(typeof define === \"function\" && define.amd) {\n",
       "      requirejs.config({paths});\n",
       "      require([\"vega-embed\"], displayChart, err => showError(`Error loading script: ${err.message}`));\n",
       "    } else {\n",
       "      maybeLoadScript(\"vega\", \"5\")\n",
       "        .then(() => maybeLoadScript(\"vega-lite\", \"4.17.0\"))\n",
       "        .then(() => maybeLoadScript(\"vega-embed\", \"6\"))\n",
       "        .catch(showError)\n",
       "        .then(() => displayChart(vegaEmbed));\n",
       "    }\n",
       "  })({\"config\": {\"view\": {\"continuousWidth\": 400, \"continuousHeight\": 300}}, \"layer\": [{\"mark\": \"errorband\", \"encoding\": {\"color\": {\"field\": \"variable\", \"legend\": {\"title\": [\"Line: pred. mean\", \"area: +/- 2 std\", \"(variable)\"]}, \"type\": \"nominal\"}, \"tooltip\": [{\"field\": \"std\", \"format\": \".4\", \"type\": \"quantitative\"}, {\"field\": \"mean\", \"format\": \".4\", \"type\": \"quantitative\"}], \"x\": {\"field\": \"time\", \"type\": \"quantitative\"}, \"y\": {\"field\": \"err_low\", \"scale\": {\"zero\": false}, \"title\": \"\", \"type\": \"quantitative\"}, \"y2\": {\"field\": \"err_high\"}}, \"transform\": [{\"calculate\": \"datum.mean - 2 * datum.std\", \"as\": \"err_low\"}, {\"calculate\": \"datum.mean + 2 * datum.std\", \"as\": \"err_high\"}]}, {\"mark\": \"line\", \"encoding\": {\"color\": {\"field\": \"variable\", \"type\": \"nominal\"}, \"x\": {\"field\": \"time\", \"type\": \"quantitative\"}, \"y\": {\"field\": \"mean\", \"scale\": {\"zero\": false}, \"title\": \"\", \"type\": \"quantitative\"}}, \"selection\": {\"selector001\": {\"type\": \"interval\", \"bind\": \"scales\"}}, \"title\": \"x1\"}], \"data\": {\"name\": \"data-3099b88d31b8c59158afc18d19021234\"}, \"$schema\": \"https://vega.github.io/schema/vega-lite/v4.17.0.json\", \"datasets\": {\"data-3099b88d31b8c59158afc18d19021234\": [{\"time\": 0.0, \"variable\": \"x1\", \"mean\": 0.08926843851804733, \"std\": null}, {\"time\": 1.0, \"variable\": \"x1\", \"mean\": 0.25853198766708374, \"std\": null}, {\"time\": 2.0, \"variable\": \"x1\", \"mean\": -0.6035014390945435, \"std\": null}, {\"time\": 4.0, \"variable\": \"x1\", \"mean\": -1.161096453666687, \"std\": null}, {\"time\": 6.0, \"variable\": \"x1\", \"mean\": -1.2845115661621094, \"std\": null}, {\"time\": 3.0, \"variable\": \"x1\", \"mean\": -0.8461650609970093, \"std\": 0.2914511561393738}, {\"time\": 5.0, \"variable\": \"x1\", \"mean\": -2.374260902404785, \"std\": 0.29191380739212036}, {\"time\": 7.0, \"variable\": \"x1\", \"mean\": 1.2517428398132324, \"std\": 0.0}, {\"time\": 8.0, \"variable\": \"x1\", \"mean\": -2.0011069774627686, \"std\": 0.0}, {\"time\": 9.0, \"variable\": \"x1\", \"mean\": -3.20141863822937, \"std\": 0.42712244391441345}]}}, {\"mode\": \"vega-lite\"});\n",
       "</script>"
      ],
      "text/plain": [
       "alt.LayerChart(...)"
      ]
     },
     "execution_count": null,
     "metadata": {},
     "output_type": "execute_result"
    }
   ],
   "source": [
    "imp_d = imp.impute(tidy=True, add_time=True)\n",
    "\n",
    "_plot_variable(imp_d, None, \"x1\")"
   ]
  },
  {
   "cell_type": "code",
   "execution_count": null,
   "id": "b336eba3",
   "metadata": {},
   "outputs": [],
   "source": [
    "#| exports\n",
    "@patch()\n",
    "def plot_pred(\n",
    "    self: GPFAImputation,\n",
    "    complete = True, # Optional true data to be plotted agaist predictions\n",
    "    units: dict = None, # Optional dict where keys are col name and value the unit (y axis labels)\n",
    "    n_cols: int = 2,\n",
    "    bind_interaction: bool =True, # Whether the sub-plots for each variable should be connected for zooming/panning\n",
    "    properties:dict = {} # addtional properties (eg. size) for altair plot\n",
    "):\n",
    "    \"Plot the prediction for each variable, optionally including true values\"\n",
    "    imp = self._impute_tidy(add_time=True) if hasattr(self, \"pred\") else self.impute(tidy=True, add_time=True)\n",
    "    \n",
    "   \n",
    "    plot_list = [alt.hconcat() for _ in range(0, imp.shape[0], n_cols)]\n",
    "    selection_scale = alt.selection_interval(bind=\"scales\", encodings=['x']) if bind_interaction else None\n",
    "    for idx, variable in enumerate(pd.unique(imp.variable)):\n",
    "        plot_list[idx // n_cols] |= _plot_variable(imp,\n",
    "                                                   self.data_complete if complete else None,\n",
    "                                                   variable,\n",
    "                                                   y_label = f\"{variable} [{units[variable]}]\" if units is not None else variable,\n",
    "                                                   sel = selection_scale, properties=properties)\n",
    "    \n",
    "    plot = alt.vconcat(*plot_list)\n",
    "    \n",
    "    return plot"
   ]
  },
  {
   "cell_type": "code",
   "execution_count": null,
   "id": "0fe0dd9a",
   "metadata": {},
   "outputs": [
    {
     "name": "stderr",
     "output_type": "stream",
     "text": [
      "/home/simone/.local/lib/python3.10/site-packages/altair/utils/core.py:317: FutureWarning: iteritems is deprecated and will be removed in a future version. Use .items instead.\n",
      "  for col_name, dtype in df.dtypes.iteritems():\n"
     ]
    },
    {
     "data": {
      "text/html": [
       "\n",
       "<div id=\"altair-viz-8084e56bd3104284bcff24b20980a718\"></div>\n",
       "<script type=\"text/javascript\">\n",
       "  var VEGA_DEBUG = (typeof VEGA_DEBUG == \"undefined\") ? {} : VEGA_DEBUG;\n",
       "  (function(spec, embedOpt){\n",
       "    let outputDiv = document.currentScript.previousElementSibling;\n",
       "    if (outputDiv.id !== \"altair-viz-8084e56bd3104284bcff24b20980a718\") {\n",
       "      outputDiv = document.getElementById(\"altair-viz-8084e56bd3104284bcff24b20980a718\");\n",
       "    }\n",
       "    const paths = {\n",
       "      \"vega\": \"https://cdn.jsdelivr.net/npm//vega@5?noext\",\n",
       "      \"vega-lib\": \"https://cdn.jsdelivr.net/npm//vega-lib?noext\",\n",
       "      \"vega-lite\": \"https://cdn.jsdelivr.net/npm//vega-lite@4.17.0?noext\",\n",
       "      \"vega-embed\": \"https://cdn.jsdelivr.net/npm//vega-embed@6?noext\",\n",
       "    };\n",
       "\n",
       "    function maybeLoadScript(lib, version) {\n",
       "      var key = `${lib.replace(\"-\", \"\")}_version`;\n",
       "      return (VEGA_DEBUG[key] == version) ?\n",
       "        Promise.resolve(paths[lib]) :\n",
       "        new Promise(function(resolve, reject) {\n",
       "          var s = document.createElement('script');\n",
       "          document.getElementsByTagName(\"head\")[0].appendChild(s);\n",
       "          s.async = true;\n",
       "          s.onload = () => {\n",
       "            VEGA_DEBUG[key] = version;\n",
       "            return resolve(paths[lib]);\n",
       "          };\n",
       "          s.onerror = () => reject(`Error loading script: ${paths[lib]}`);\n",
       "          s.src = paths[lib];\n",
       "        });\n",
       "    }\n",
       "\n",
       "    function showError(err) {\n",
       "      outputDiv.innerHTML = `<div class=\"error\" style=\"color:red;\">${err}</div>`;\n",
       "      throw err;\n",
       "    }\n",
       "\n",
       "    function displayChart(vegaEmbed) {\n",
       "      vegaEmbed(outputDiv, spec, embedOpt)\n",
       "        .catch(err => showError(`Javascript Error: ${err.message}<br>This usually means there's a typo in your chart specification. See the javascript console for the full traceback.`));\n",
       "    }\n",
       "\n",
       "    if(typeof define === \"function\" && define.amd) {\n",
       "      requirejs.config({paths});\n",
       "      require([\"vega-embed\"], displayChart, err => showError(`Error loading script: ${err.message}`));\n",
       "    } else {\n",
       "      maybeLoadScript(\"vega\", \"5\")\n",
       "        .then(() => maybeLoadScript(\"vega-lite\", \"4.17.0\"))\n",
       "        .then(() => maybeLoadScript(\"vega-embed\", \"6\"))\n",
       "        .catch(showError)\n",
       "        .then(() => displayChart(vegaEmbed));\n",
       "    }\n",
       "  })({\"config\": {\"view\": {\"continuousWidth\": 400, \"continuousHeight\": 300}}, \"vconcat\": [{\"hconcat\": [{\"layer\": [{\"data\": {\"name\": \"data-0e934a8a657b6c7406713e274118184b\"}, \"mark\": {\"type\": \"point\", \"color\": \"black\", \"fillOpacity\": 1, \"strokeWidth\": 1}, \"encoding\": {\"fill\": {\"field\": \"is_missing\", \"legend\": {\"title\": [\"Observed data\", \"(is missing)\"]}, \"scale\": {\"range\": [\"#ffffff00\", \"black\"]}, \"type\": \"nominal\"}, \"shape\": {\"field\": \"is_missing\", \"type\": \"nominal\"}, \"x\": {\"field\": \"time\", \"type\": \"quantitative\"}, \"y\": {\"field\": \"value\", \"scale\": {\"zero\": false}, \"title\": \"x0 [x0 units]\", \"type\": \"quantitative\"}}}, {\"layer\": [{\"mark\": \"errorband\", \"encoding\": {\"color\": {\"field\": \"variable\", \"legend\": {\"title\": [\"Line: pred. mean\", \"area: +/- 2 std\", \"(variable)\"]}, \"type\": \"nominal\"}, \"tooltip\": [{\"field\": \"std\", \"format\": \".4\", \"type\": \"quantitative\"}, {\"field\": \"mean\", \"format\": \".4\", \"type\": \"quantitative\"}], \"x\": {\"field\": \"time\", \"type\": \"quantitative\"}, \"y\": {\"field\": \"err_low\", \"scale\": {\"zero\": false}, \"title\": \"x0 [x0 units]\", \"type\": \"quantitative\"}, \"y2\": {\"field\": \"err_high\"}}, \"transform\": [{\"calculate\": \"datum.mean - 2 * datum.std\", \"as\": \"err_low\"}, {\"calculate\": \"datum.mean + 2 * datum.std\", \"as\": \"err_high\"}]}, {\"mark\": \"line\", \"encoding\": {\"color\": {\"field\": \"variable\", \"type\": \"nominal\"}, \"x\": {\"field\": \"time\", \"type\": \"quantitative\"}, \"y\": {\"field\": \"mean\", \"scale\": {\"zero\": false}, \"title\": \"x0 [x0 units]\", \"type\": \"quantitative\"}}, \"selection\": {\"selector002\": {\"type\": \"interval\", \"bind\": \"scales\", \"encodings\": [\"x\"]}}, \"title\": \"x0\"}], \"data\": {\"name\": \"data-dd8acc063ceb172da8cc27083ea80483\"}}]}, {\"layer\": [{\"data\": {\"name\": \"data-70447e524ed7988fc2a61e8cbcae3690\"}, \"mark\": {\"type\": \"point\", \"color\": \"black\", \"fillOpacity\": 1, \"strokeWidth\": 1}, \"encoding\": {\"fill\": {\"field\": \"is_missing\", \"legend\": {\"title\": [\"Observed data\", \"(is missing)\"]}, \"scale\": {\"range\": [\"#ffffff00\", \"black\"]}, \"type\": \"nominal\"}, \"shape\": {\"field\": \"is_missing\", \"type\": \"nominal\"}, \"x\": {\"field\": \"time\", \"type\": \"quantitative\"}, \"y\": {\"field\": \"value\", \"scale\": {\"zero\": false}, \"title\": \"x1 [x1 unitssss]\", \"type\": \"quantitative\"}}}, {\"layer\": [{\"mark\": \"errorband\", \"encoding\": {\"color\": {\"field\": \"variable\", \"legend\": {\"title\": [\"Line: pred. mean\", \"area: +/- 2 std\", \"(variable)\"]}, \"type\": \"nominal\"}, \"tooltip\": [{\"field\": \"std\", \"format\": \".4\", \"type\": \"quantitative\"}, {\"field\": \"mean\", \"format\": \".4\", \"type\": \"quantitative\"}], \"x\": {\"field\": \"time\", \"type\": \"quantitative\"}, \"y\": {\"field\": \"err_low\", \"scale\": {\"zero\": false}, \"title\": \"x1 [x1 unitssss]\", \"type\": \"quantitative\"}, \"y2\": {\"field\": \"err_high\"}}, \"transform\": [{\"calculate\": \"datum.mean - 2 * datum.std\", \"as\": \"err_low\"}, {\"calculate\": \"datum.mean + 2 * datum.std\", \"as\": \"err_high\"}]}, {\"mark\": \"line\", \"encoding\": {\"color\": {\"field\": \"variable\", \"type\": \"nominal\"}, \"x\": {\"field\": \"time\", \"type\": \"quantitative\"}, \"y\": {\"field\": \"mean\", \"scale\": {\"zero\": false}, \"title\": \"x1 [x1 unitssss]\", \"type\": \"quantitative\"}}, \"selection\": {\"selector002\": {\"type\": \"interval\", \"bind\": \"scales\", \"encodings\": [\"x\"]}}, \"title\": \"x1\"}], \"data\": {\"name\": \"data-3099b88d31b8c59158afc18d19021234\"}}]}]}, {\"hconcat\": []}, {\"hconcat\": []}, {\"hconcat\": []}, {\"hconcat\": []}, {\"hconcat\": []}, {\"hconcat\": []}, {\"hconcat\": []}, {\"hconcat\": []}, {\"hconcat\": []}], \"$schema\": \"https://vega.github.io/schema/vega-lite/v4.17.0.json\", \"datasets\": {\"data-0e934a8a657b6c7406713e274118184b\": [{\"time\": 0.0, \"variable\": \"x0\", \"value\": -0.024084506556391716, \"is_missing\": false}, {\"time\": 1.0, \"variable\": \"x0\", \"value\": -0.133942112326622, \"is_missing\": false}, {\"time\": 2.0, \"variable\": \"x0\", \"value\": -0.6046499013900757, \"is_missing\": false}, {\"time\": 3.0, \"variable\": \"x0\", \"value\": 0.37177565693855286, \"is_missing\": true}, {\"time\": 4.0, \"variable\": \"x0\", \"value\": -0.4789939522743225, \"is_missing\": false}, {\"time\": 5.0, \"variable\": \"x0\", \"value\": 0.6516996622085571, \"is_missing\": true}, {\"time\": 6.0, \"variable\": \"x0\", \"value\": -0.5947169661521912, \"is_missing\": false}, {\"time\": 7.0, \"variable\": \"x0\", \"value\": 0.6358321309089661, \"is_missing\": true}, {\"time\": 8.0, \"variable\": \"x0\", \"value\": -1.3010709285736084, \"is_missing\": true}, {\"time\": 9.0, \"variable\": \"x0\", \"value\": 0.8461343050003052, \"is_missing\": true}], \"data-dd8acc063ceb172da8cc27083ea80483\": [{\"time\": 0.0, \"variable\": \"x0\", \"mean\": -0.024084506556391716, \"std\": null}, {\"time\": 1.0, \"variable\": \"x0\", \"mean\": -0.133942112326622, \"std\": null}, {\"time\": 2.0, \"variable\": \"x0\", \"mean\": -0.6046499013900757, \"std\": null}, {\"time\": 4.0, \"variable\": \"x0\", \"mean\": -0.4789939522743225, \"std\": null}, {\"time\": 6.0, \"variable\": \"x0\", \"mean\": -0.5947169661521912, \"std\": null}, {\"time\": 3.0, \"variable\": \"x0\", \"mean\": -0.47159138321876526, \"std\": 0.1491996794939041}, {\"time\": 5.0, \"variable\": \"x0\", \"mean\": -0.992676854133606, \"std\": 0.14930477738380432}, {\"time\": 7.0, \"variable\": \"x0\", \"mean\": 0.12303540110588074, \"std\": 0.12364351004362106}, {\"time\": 8.0, \"variable\": \"x0\", \"mean\": -0.784388542175293, \"std\": 0.12395325303077698}, {\"time\": 9.0, \"variable\": \"x0\", \"mean\": -1.274740219116211, \"std\": 0.18329475820064545}], \"data-70447e524ed7988fc2a61e8cbcae3690\": [{\"time\": 0.0, \"variable\": \"x1\", \"value\": 0.08926843851804733, \"is_missing\": false}, {\"time\": 1.0, \"variable\": \"x1\", \"value\": 0.25853198766708374, \"is_missing\": false}, {\"time\": 2.0, \"variable\": \"x1\", \"value\": -0.6035014390945435, \"is_missing\": false}, {\"time\": 3.0, \"variable\": \"x1\", \"value\": 0.8580458760261536, \"is_missing\": true}, {\"time\": 4.0, \"variable\": \"x1\", \"value\": -1.161096453666687, \"is_missing\": false}, {\"time\": 5.0, \"variable\": \"x1\", \"value\": 1.2603576183319092, \"is_missing\": true}, {\"time\": 6.0, \"variable\": \"x1\", \"value\": -1.2845115661621094, \"is_missing\": false}, {\"time\": 7.0, \"variable\": \"x1\", \"value\": 1.2517428398132324, \"is_missing\": false}, {\"time\": 8.0, \"variable\": \"x1\", \"value\": -2.0011069774627686, \"is_missing\": false}, {\"time\": 9.0, \"variable\": \"x1\", \"value\": 1.8596267700195312, \"is_missing\": true}], \"data-3099b88d31b8c59158afc18d19021234\": [{\"time\": 0.0, \"variable\": \"x1\", \"mean\": 0.08926843851804733, \"std\": null}, {\"time\": 1.0, \"variable\": \"x1\", \"mean\": 0.25853198766708374, \"std\": null}, {\"time\": 2.0, \"variable\": \"x1\", \"mean\": -0.6035014390945435, \"std\": null}, {\"time\": 4.0, \"variable\": \"x1\", \"mean\": -1.161096453666687, \"std\": null}, {\"time\": 6.0, \"variable\": \"x1\", \"mean\": -1.2845115661621094, \"std\": null}, {\"time\": 3.0, \"variable\": \"x1\", \"mean\": -0.8461650609970093, \"std\": 0.2914511561393738}, {\"time\": 5.0, \"variable\": \"x1\", \"mean\": -2.374260902404785, \"std\": 0.29191380739212036}, {\"time\": 7.0, \"variable\": \"x1\", \"mean\": 1.2517428398132324, \"std\": 0.0}, {\"time\": 8.0, \"variable\": \"x1\", \"mean\": -2.0011069774627686, \"std\": 0.0}, {\"time\": 9.0, \"variable\": \"x1\", \"mean\": -3.20141863822937, \"std\": 0.42712244391441345}]}}, {\"mode\": \"vega-lite\"});\n",
       "</script>"
      ],
      "text/plain": [
       "alt.VConcatChart(...)"
      ]
     },
     "execution_count": null,
     "metadata": {},
     "output_type": "execute_result"
    }
   ],
   "source": [
    "imp.plot_pred(units = {'x0': 'x0 units', 'x1': 'x1 unitssss'})"
   ]
  },
  {
   "cell_type": "markdown",
   "id": "7469601c",
   "metadata": {},
   "source": [
    "The code is running correctly and as expected around the missing data point the error is band is wider"
   ]
  },
  {
   "cell_type": "markdown",
   "id": "d5987da5-d06f-424e-bb5e-8392e3620753",
   "metadata": {},
   "source": [
    "### Display results\n",
    "\n",
    "show the prediction plot, metrics and model parameters in one convinient view"
   ]
  },
  {
   "cell_type": "code",
   "execution_count": null,
   "id": "bf90e525-1f50-4749-8225-661ee9b07f4f",
   "metadata": {},
   "outputs": [],
   "source": [
    "#| export\n",
    "from IPython.display import HTML\n",
    "\n",
    "from ipywidgets import HBox, VBox, interact, widgets\n",
    "from ipywidgets.widgets import Output"
   ]
  },
  {
   "cell_type": "code",
   "execution_count": null,
   "id": "118fb2ba-02f9-4062-81ae-84f51fd44237",
   "metadata": {},
   "outputs": [],
   "source": [
    "#| export\n",
    "def _to_widget(x, title=\"\"):\n",
    "    \"\"\"Convert an object into a output widget\"\"\"\n",
    "    out = Output()\n",
    "    with out:\n",
    "        display(HTML(f\"<h4>{title}</h4>\"))\n",
    "        display(x)\n",
    "    return out\n",
    "\n",
    "def _plot_to_widget(x, title=\"\"):\n",
    "    \"\"\"Convert an matplotlib plot into a output widget\"\"\"\n",
    "    out = Output()\n",
    "    with out:\n",
    "        display(HTML(f\"<h4>{title}</h4>\"))\n",
    "        plt.show(x)\n",
    "    return out\n",
    "\n",
    "def _style_df(df):\n",
    "    \"\"\"style dataframe for better printing \"\"\"\n",
    "    return df.style.hide(axis=\"index\").format(precision = 4)"
   ]
  },
  {
   "cell_type": "code",
   "execution_count": null,
   "id": "ad45aa39-5ed8-4d27-b6be-23feaf3737f9",
   "metadata": {},
   "outputs": [],
   "source": [
    "#| exports\n",
    "@patch \n",
    "def display_results(self: GPFAImputation):\n",
    "    plot = self.plot_pred(units=self.units, properties =  {'height': 150 , 'width': 300})\n",
    "    \n",
    "    r2 = self.r2()\n",
    "    \n",
    "    variables = pd.DataFrame({'variable': self.data.columns})\n",
    "    latent_names = [f\"z{i}\" for i in range(self.latent_dims)]\n",
    "    \n",
    "    Lambda = pd.concat([\n",
    "        variables,\n",
    "        pd.DataFrame(\n",
    "            self.learner.model.covar_module.Lambda.detach().cpu().numpy(),\n",
    "            columns=latent_names)\n",
    "    ], axis=1)\n",
    "    \n",
    "    \n",
    "    lengthscale = pd.DataFrame({\n",
    "        'latent': latent_names,\n",
    "        'lengthscale': [self.learner.model.covar_module.latent_kernels[i].lengthscale.detach().item() for i in range(self.latent_dims)]\n",
    "    })\n",
    "    \n",
    "    loss = plt.plot(self.learner.losses)\n",
    "    \n",
    "    \n",
    "    metrics =  [_to_widget(_style_df(df), title=title) for df, title in zip([r2, Lambda, lengthscale], [\"r2\", \"Λ\", \"Lengthscale\"])]\n",
    "    metrics.append(_plot_to_widget(loss, title=\"Loss\"))\n",
    "    \n",
    "    # use ipywidget layout\n",
    "    bottom = HBox(metrics)\n",
    "    \n",
    "    return VBox([_to_widget(plot), bottom])\n",
    "        "
   ]
  },
  {
   "cell_type": "code",
   "execution_count": null,
   "id": "d5eeea25-9bd5-4969-b1c4-0628bf90372e",
   "metadata": {},
   "outputs": [
    {
     "data": {
      "application/vnd.jupyter.widget-view+json": {
       "model_id": "fccd07505b42401e900679674f49de36",
       "version_major": 2,
       "version_minor": 0
      },
      "text/plain": [
       "VBox(children=(Output(), HBox(children=(Output(), Output(), Output(), Output()))))"
      ]
     },
     "execution_count": null,
     "metadata": {},
     "output_type": "execute_result"
    }
   ],
   "source": [
    "imp.display_results()"
   ]
  },
  {
   "cell_type": "code",
   "execution_count": null,
   "id": "e47b560b-8061-4e54-82c0-bc74e89166ec",
   "metadata": {},
   "outputs": [
    {
     "data": {
      "application/vnd.jupyter.widget-view+json": {
       "model_id": "8b4458e20ec145cd8991386bd2af9cc4",
       "version_major": 2,
       "version_minor": 0
      },
      "text/plain": [
       "  0%|          | 0/100 [00:00<?, ?it/s]"
      ]
     },
     "metadata": {},
     "output_type": "display_data"
    },
    {
     "data": {
      "application/vnd.jupyter.widget-view+json": {
       "model_id": "7b29d191b47d4c38960d542c6f40dd01",
       "version_major": 2,
       "version_minor": 0
      },
      "text/plain": [
       "VBox(children=(Output(), HBox(children=(Output(), Output(), Output(), Output()))))"
      ]
     },
     "execution_count": null,
     "metadata": {},
     "output_type": "execute_result"
    }
   ],
   "source": [
    "fd.to_imp(latent_dims=2).display_results()"
   ]
  },
  {
   "cell_type": "markdown",
   "id": "0b3229ff-a75c-49f6-9ef8-d795add8d661",
   "metadata": {},
   "source": [
    "## Export "
   ]
  },
  {
   "cell_type": "code",
   "execution_count": null,
   "id": "58580804-365d-447a-9a5e-3463f4846b74",
   "metadata": {},
   "outputs": [],
   "source": [
    "#| hide\n",
    "from nbdev import nbdev_export\n",
    "nbdev_export()"
   ]
  }
 ],
 "metadata": {
  "kernelspec": {
   "display_name": "data_science",
   "language": "python",
   "name": "data_science"
  },
  "widgets": {
   "application/vnd.jupyter.widget-state+json": {
    "state": {
     "030d2b727fbb43e293ead2edd6b76f3e": {
      "model_module": "@jupyter-widgets/base",
      "model_module_version": "2.0.0",
      "model_name": "LayoutModel",
      "state": {}
     },
     "03e4b2ff5b4042aa9852421510fbf68b": {
      "model_module": "@jupyter-widgets/controls",
      "model_module_version": "2.0.0",
      "model_name": "HTMLStyleModel",
      "state": {
       "description_width": "",
       "font_size": null,
       "text_color": null
      }
     },
     "04e267cf355e48e1aa402b68ee0b182c": {
      "model_module": "@jupyter-widgets/controls",
      "model_module_version": "2.0.0",
      "model_name": "HBoxModel",
      "state": {
       "children": [
        "IPY_MODEL_5e7b4f8cc63e4305b1681d381b8041c2",
        "IPY_MODEL_6c6c330a51134d7991afa372dd25410b",
        "IPY_MODEL_a25d3c1cb2f54c53b5c1a4b658406708",
        "IPY_MODEL_bd2c101a88d34a9cbe0d5e19f2bc47a6"
       ],
       "layout": "IPY_MODEL_ba1849862eab4a359229ece379812139"
      }
     },
     "074338cb81cc43898173bd48b43a44bf": {
      "model_module": "@jupyter-widgets/base",
      "model_module_version": "2.0.0",
      "model_name": "LayoutModel",
      "state": {}
     },
     "07cb75dd13fb47babbbabec827a7dcd9": {
      "model_module": "@jupyter-widgets/controls",
      "model_module_version": "2.0.0",
      "model_name": "HTMLModel",
      "state": {
       "layout": "IPY_MODEL_1ebe95ee0ba04bd3901a852f0896e199",
       "style": "IPY_MODEL_dd153b3e06e74f17b8724489c5bb746b",
       "value": "100%"
      }
     },
     "0af1974afc4c42b993a20cc3811052d1": {
      "model_module": "@jupyter-widgets/base",
      "model_module_version": "2.0.0",
      "model_name": "LayoutModel",
      "state": {}
     },
     "141b114128c049bb94324f8ef8d64623": {
      "model_module": "@jupyter-widgets/base",
      "model_module_version": "2.0.0",
      "model_name": "LayoutModel",
      "state": {}
     },
     "16d3a8b1263a4081a18fb4a4c7af7a14": {
      "model_module": "@jupyter-widgets/base",
      "model_module_version": "2.0.0",
      "model_name": "LayoutModel",
      "state": {}
     },
     "18409b3316f2443a93b0c12e3a85c56c": {
      "model_module": "@jupyter-widgets/controls",
      "model_module_version": "2.0.0",
      "model_name": "HBoxModel",
      "state": {
       "children": [
        "IPY_MODEL_495fd8627f4c40d3aa2251cc4108722d",
        "IPY_MODEL_799c140eaa4746b0b8b4dc12754e2ce6",
        "IPY_MODEL_3b528b76332d4df4bd33b280de75b5bc"
       ],
       "layout": "IPY_MODEL_ec6d184350904f67a0e49a7d64dc4bfa"
      }
     },
     "1ebe95ee0ba04bd3901a852f0896e199": {
      "model_module": "@jupyter-widgets/base",
      "model_module_version": "2.0.0",
      "model_name": "LayoutModel",
      "state": {}
     },
     "244afecaebee4c4e8ab53818b66cc237": {
      "model_module": "@jupyter-widgets/output",
      "model_module_version": "1.0.0",
      "model_name": "OutputModel",
      "state": {
       "layout": "IPY_MODEL_e0b28c90f3424fdfab7012b1ae39e5b9",
       "outputs": [
        {
         "data": {
          "text/html": "<h4></h4>",
          "text/plain": "<IPython.core.display.HTML object>"
         },
         "metadata": {},
         "output_type": "display_data"
        },
        {
         "name": "stderr",
         "output_type": "stream",
         "text": "/home/simone/.local/lib/python3.10/site-packages/altair/utils/core.py:317: FutureWarning: iteritems is deprecated and will be removed in a future version. Use .items instead.\n  for col_name, dtype in df.dtypes.iteritems():\n"
        },
        {
         "data": {
          "text/html": "\n<div id=\"altair-viz-3b7cce5483f546f88f4c8aa9dc5cadbd\"></div>\n<script type=\"text/javascript\">\n  var VEGA_DEBUG = (typeof VEGA_DEBUG == \"undefined\") ? {} : VEGA_DEBUG;\n  (function(spec, embedOpt){\n    let outputDiv = document.currentScript.previousElementSibling;\n    if (outputDiv.id !== \"altair-viz-3b7cce5483f546f88f4c8aa9dc5cadbd\") {\n      outputDiv = document.getElementById(\"altair-viz-3b7cce5483f546f88f4c8aa9dc5cadbd\");\n    }\n    const paths = {\n      \"vega\": \"https://cdn.jsdelivr.net/npm//vega@5?noext\",\n      \"vega-lib\": \"https://cdn.jsdelivr.net/npm//vega-lib?noext\",\n      \"vega-lite\": \"https://cdn.jsdelivr.net/npm//vega-lite@4.17.0?noext\",\n      \"vega-embed\": \"https://cdn.jsdelivr.net/npm//vega-embed@6?noext\",\n    };\n\n    function maybeLoadScript(lib, version) {\n      var key = `${lib.replace(\"-\", \"\")}_version`;\n      return (VEGA_DEBUG[key] == version) ?\n        Promise.resolve(paths[lib]) :\n        new Promise(function(resolve, reject) {\n          var s = document.createElement('script');\n          document.getElementsByTagName(\"head\")[0].appendChild(s);\n          s.async = true;\n          s.onload = () => {\n            VEGA_DEBUG[key] = version;\n            return resolve(paths[lib]);\n          };\n          s.onerror = () => reject(`Error loading script: ${paths[lib]}`);\n          s.src = paths[lib];\n        });\n    }\n\n    function showError(err) {\n      outputDiv.innerHTML = `<div class=\"error\" style=\"color:red;\">${err}</div>`;\n      throw err;\n    }\n\n    function displayChart(vegaEmbed) {\n      vegaEmbed(outputDiv, spec, embedOpt)\n        .catch(err => showError(`Javascript Error: ${err.message}<br>This usually means there's a typo in your chart specification. See the javascript console for the full traceback.`));\n    }\n\n    if(typeof define === \"function\" && define.amd) {\n      requirejs.config({paths});\n      require([\"vega-embed\"], displayChart, err => showError(`Error loading script: ${err.message}`));\n    } else {\n      maybeLoadScript(\"vega\", \"5\")\n        .then(() => maybeLoadScript(\"vega-lite\", \"4.17.0\"))\n        .then(() => maybeLoadScript(\"vega-embed\", \"6\"))\n        .catch(showError)\n        .then(() => displayChart(vegaEmbed));\n    }\n  })({\"config\": {\"view\": {\"continuousWidth\": 400, \"continuousHeight\": 300}}, \"vconcat\": [{\"hconcat\": [{\"layer\": [{\"data\": {\"name\": \"data-0e934a8a657b6c7406713e274118184b\"}, \"mark\": {\"type\": \"point\", \"color\": \"black\", \"fillOpacity\": 1, \"strokeWidth\": 1}, \"encoding\": {\"fill\": {\"field\": \"is_missing\", \"legend\": {\"title\": [\"Observed data\", \"(is missing)\"]}, \"scale\": {\"range\": [\"#ffffff00\", \"black\"]}, \"type\": \"nominal\"}, \"shape\": {\"field\": \"is_missing\", \"type\": \"nominal\"}, \"x\": {\"field\": \"time\", \"type\": \"quantitative\"}, \"y\": {\"field\": \"value\", \"scale\": {\"zero\": false}, \"title\": \"x0\", \"type\": \"quantitative\"}}}, {\"layer\": [{\"mark\": \"errorband\", \"encoding\": {\"color\": {\"field\": \"variable\", \"legend\": {\"title\": [\"Line: pred. mean\", \"area: +/- 2 std\", \"(variable)\"]}, \"type\": \"nominal\"}, \"tooltip\": [{\"field\": \"std\", \"format\": \".4\", \"type\": \"quantitative\"}, {\"field\": \"mean\", \"format\": \".4\", \"type\": \"quantitative\"}], \"x\": {\"field\": \"time\", \"type\": \"quantitative\"}, \"y\": {\"field\": \"err_low\", \"scale\": {\"zero\": false}, \"title\": \"x0\", \"type\": \"quantitative\"}, \"y2\": {\"field\": \"err_high\"}}, \"height\": 150, \"transform\": [{\"calculate\": \"datum.mean - 2 * datum.std\", \"as\": \"err_low\"}, {\"calculate\": \"datum.mean + 2 * datum.std\", \"as\": \"err_high\"}], \"width\": 300}, {\"mark\": \"line\", \"encoding\": {\"color\": {\"field\": \"variable\", \"type\": \"nominal\"}, \"x\": {\"field\": \"time\", \"type\": \"quantitative\"}, \"y\": {\"field\": \"mean\", \"scale\": {\"zero\": false}, \"title\": \"x0\", \"type\": \"quantitative\"}}, \"selection\": {\"selector003\": {\"type\": \"interval\", \"bind\": \"scales\", \"encodings\": [\"x\"]}}, \"title\": \"x0\"}], \"data\": {\"name\": \"data-dd8acc063ceb172da8cc27083ea80483\"}}]}, {\"layer\": [{\"data\": {\"name\": \"data-70447e524ed7988fc2a61e8cbcae3690\"}, \"mark\": {\"type\": \"point\", \"color\": \"black\", \"fillOpacity\": 1, \"strokeWidth\": 1}, \"encoding\": {\"fill\": {\"field\": \"is_missing\", \"legend\": {\"title\": [\"Observed data\", \"(is missing)\"]}, \"scale\": {\"range\": [\"#ffffff00\", \"black\"]}, \"type\": \"nominal\"}, \"shape\": {\"field\": \"is_missing\", \"type\": \"nominal\"}, \"x\": {\"field\": \"time\", \"type\": \"quantitative\"}, \"y\": {\"field\": \"value\", \"scale\": {\"zero\": false}, \"title\": \"x1\", \"type\": \"quantitative\"}}}, {\"layer\": [{\"mark\": \"errorband\", \"encoding\": {\"color\": {\"field\": \"variable\", \"legend\": {\"title\": [\"Line: pred. mean\", \"area: +/- 2 std\", \"(variable)\"]}, \"type\": \"nominal\"}, \"tooltip\": [{\"field\": \"std\", \"format\": \".4\", \"type\": \"quantitative\"}, {\"field\": \"mean\", \"format\": \".4\", \"type\": \"quantitative\"}], \"x\": {\"field\": \"time\", \"type\": \"quantitative\"}, \"y\": {\"field\": \"err_low\", \"scale\": {\"zero\": false}, \"title\": \"x1\", \"type\": \"quantitative\"}, \"y2\": {\"field\": \"err_high\"}}, \"height\": 150, \"transform\": [{\"calculate\": \"datum.mean - 2 * datum.std\", \"as\": \"err_low\"}, {\"calculate\": \"datum.mean + 2 * datum.std\", \"as\": \"err_high\"}], \"width\": 300}, {\"mark\": \"line\", \"encoding\": {\"color\": {\"field\": \"variable\", \"type\": \"nominal\"}, \"x\": {\"field\": \"time\", \"type\": \"quantitative\"}, \"y\": {\"field\": \"mean\", \"scale\": {\"zero\": false}, \"title\": \"x1\", \"type\": \"quantitative\"}}, \"selection\": {\"selector003\": {\"type\": \"interval\", \"bind\": \"scales\", \"encodings\": [\"x\"]}}, \"title\": \"x1\"}], \"data\": {\"name\": \"data-3099b88d31b8c59158afc18d19021234\"}}]}]}, {\"hconcat\": []}, {\"hconcat\": []}, {\"hconcat\": []}, {\"hconcat\": []}, {\"hconcat\": []}, {\"hconcat\": []}, {\"hconcat\": []}, {\"hconcat\": []}, {\"hconcat\": []}], \"$schema\": \"https://vega.github.io/schema/vega-lite/v4.17.0.json\", \"datasets\": {\"data-0e934a8a657b6c7406713e274118184b\": [{\"time\": 0.0, \"variable\": \"x0\", \"value\": -0.024084506556391716, \"is_missing\": false}, {\"time\": 1.0, \"variable\": \"x0\", \"value\": -0.133942112326622, \"is_missing\": false}, {\"time\": 2.0, \"variable\": \"x0\", \"value\": -0.6046499013900757, \"is_missing\": false}, {\"time\": 3.0, \"variable\": \"x0\", \"value\": 0.37177565693855286, \"is_missing\": true}, {\"time\": 4.0, \"variable\": \"x0\", \"value\": -0.4789939522743225, \"is_missing\": false}, {\"time\": 5.0, \"variable\": \"x0\", \"value\": 0.6516996622085571, \"is_missing\": true}, {\"time\": 6.0, \"variable\": \"x0\", \"value\": -0.5947169661521912, \"is_missing\": false}, {\"time\": 7.0, \"variable\": \"x0\", \"value\": 0.6358321309089661, \"is_missing\": true}, {\"time\": 8.0, \"variable\": \"x0\", \"value\": -1.3010709285736084, \"is_missing\": true}, {\"time\": 9.0, \"variable\": \"x0\", \"value\": 0.8461343050003052, \"is_missing\": true}], \"data-dd8acc063ceb172da8cc27083ea80483\": [{\"time\": 0.0, \"variable\": \"x0\", \"mean\": -0.024084506556391716, \"std\": null}, {\"time\": 1.0, \"variable\": \"x0\", \"mean\": -0.133942112326622, \"std\": null}, {\"time\": 2.0, \"variable\": \"x0\", \"mean\": -0.6046499013900757, \"std\": null}, {\"time\": 4.0, \"variable\": \"x0\", \"mean\": -0.4789939522743225, \"std\": null}, {\"time\": 6.0, \"variable\": \"x0\", \"mean\": -0.5947169661521912, \"std\": null}, {\"time\": 3.0, \"variable\": \"x0\", \"mean\": -0.47159138321876526, \"std\": 0.1491996794939041}, {\"time\": 5.0, \"variable\": \"x0\", \"mean\": -0.992676854133606, \"std\": 0.14930477738380432}, {\"time\": 7.0, \"variable\": \"x0\", \"mean\": 0.12303540110588074, \"std\": 0.12364351004362106}, {\"time\": 8.0, \"variable\": \"x0\", \"mean\": -0.784388542175293, \"std\": 0.12395325303077698}, {\"time\": 9.0, \"variable\": \"x0\", \"mean\": -1.274740219116211, \"std\": 0.18329475820064545}], \"data-70447e524ed7988fc2a61e8cbcae3690\": [{\"time\": 0.0, \"variable\": \"x1\", \"value\": 0.08926843851804733, \"is_missing\": false}, {\"time\": 1.0, \"variable\": \"x1\", \"value\": 0.25853198766708374, \"is_missing\": false}, {\"time\": 2.0, \"variable\": \"x1\", \"value\": -0.6035014390945435, \"is_missing\": false}, {\"time\": 3.0, \"variable\": \"x1\", \"value\": 0.8580458760261536, \"is_missing\": true}, {\"time\": 4.0, \"variable\": \"x1\", \"value\": -1.161096453666687, \"is_missing\": false}, {\"time\": 5.0, \"variable\": \"x1\", \"value\": 1.2603576183319092, \"is_missing\": true}, {\"time\": 6.0, \"variable\": \"x1\", \"value\": -1.2845115661621094, \"is_missing\": false}, {\"time\": 7.0, \"variable\": \"x1\", \"value\": 1.2517428398132324, \"is_missing\": false}, {\"time\": 8.0, \"variable\": \"x1\", \"value\": -2.0011069774627686, \"is_missing\": false}, {\"time\": 9.0, \"variable\": \"x1\", \"value\": 1.8596267700195312, \"is_missing\": true}], \"data-3099b88d31b8c59158afc18d19021234\": [{\"time\": 0.0, \"variable\": \"x1\", \"mean\": 0.08926843851804733, \"std\": null}, {\"time\": 1.0, \"variable\": \"x1\", \"mean\": 0.25853198766708374, \"std\": null}, {\"time\": 2.0, \"variable\": \"x1\", \"mean\": -0.6035014390945435, \"std\": null}, {\"time\": 4.0, \"variable\": \"x1\", \"mean\": -1.161096453666687, \"std\": null}, {\"time\": 6.0, \"variable\": \"x1\", \"mean\": -1.2845115661621094, \"std\": null}, {\"time\": 3.0, \"variable\": \"x1\", \"mean\": -0.8461650609970093, \"std\": 0.2914511561393738}, {\"time\": 5.0, \"variable\": \"x1\", \"mean\": -2.374260902404785, \"std\": 0.29191380739212036}, {\"time\": 7.0, \"variable\": \"x1\", \"mean\": 1.2517428398132324, \"std\": 0.0}, {\"time\": 8.0, \"variable\": \"x1\", \"mean\": -2.0011069774627686, \"std\": 0.0}, {\"time\": 9.0, \"variable\": \"x1\", \"mean\": -3.20141863822937, \"std\": 0.42712244391441345}]}}, {\"mode\": \"vega-lite\"});\n</script>",
          "text/plain": "alt.VConcatChart(...)"
         },
         "metadata": {},
         "output_type": "display_data"
        }
       ]
      }
     },
     "28737f2579e045de8cef6b10eb0ca4cf": {
      "model_module": "@jupyter-widgets/base",
      "model_module_version": "2.0.0",
      "model_name": "LayoutModel",
      "state": {}
     },
     "305baadb228c4a44bf5ffddb4ccda30f": {
      "model_module": "@jupyter-widgets/controls",
      "model_module_version": "2.0.0",
      "model_name": "FloatProgressModel",
      "state": {
       "bar_style": "success",
       "layout": "IPY_MODEL_ab7a8b484c404009bdc09ee65f775a3c",
       "style": "IPY_MODEL_91c4b280c2124702ae5fbc6bbba1343a",
       "value": 100
      }
     },
     "312e314abf9b488c89a7da475111d59a": {
      "model_module": "@jupyter-widgets/base",
      "model_module_version": "2.0.0",
      "model_name": "LayoutModel",
      "state": {}
     },
     "31bb7fcb385747f98497d621b5285e1f": {
      "model_module": "@jupyter-widgets/controls",
      "model_module_version": "2.0.0",
      "model_name": "HTMLModel",
      "state": {
       "layout": "IPY_MODEL_415ccc6354d548848010a29904bb252b",
       "style": "IPY_MODEL_03e4b2ff5b4042aa9852421510fbf68b",
       "value": "100%"
      }
     },
     "36dec13ea0ee46058a31da323f7deff6": {
      "model_module": "@jupyter-widgets/base",
      "model_module_version": "2.0.0",
      "model_name": "LayoutModel",
      "state": {}
     },
     "3a7deac9fa3745028581aa00fa691f51": {
      "model_module": "@jupyter-widgets/controls",
      "model_module_version": "2.0.0",
      "model_name": "ProgressStyleModel",
      "state": {
       "description_width": ""
      }
     },
     "3ad0f5aac4704a34b35a9732b5ab08a3": {
      "model_module": "@jupyter-widgets/controls",
      "model_module_version": "2.0.0",
      "model_name": "HBoxModel",
      "state": {
       "children": [
        "IPY_MODEL_4a7e36aa143a46e994857d36f0d22fbe",
        "IPY_MODEL_8e37fa04843d48b58b7cd9c7c04204df",
        "IPY_MODEL_dfb734ce6f534d8989d1f5c401d87e46",
        "IPY_MODEL_cfaa463cc43f41cd8b2260c82adf974c"
       ],
       "layout": "IPY_MODEL_daa3ac31332c4449a75611c47802c44a"
      }
     },
     "3b528b76332d4df4bd33b280de75b5bc": {
      "model_module": "@jupyter-widgets/controls",
      "model_module_version": "2.0.0",
      "model_name": "HTMLModel",
      "state": {
       "layout": "IPY_MODEL_0af1974afc4c42b993a20cc3811052d1",
       "style": "IPY_MODEL_dc954226d98944d18e17fabd65a7ff53",
       "value": " 100/100 [00:02&lt;00:00, 78.11it/s]"
      }
     },
     "400efbb2160348be9a46d722e6d0806b": {
      "model_module": "@jupyter-widgets/controls",
      "model_module_version": "2.0.0",
      "model_name": "HTMLStyleModel",
      "state": {
       "description_width": "",
       "font_size": null,
       "text_color": null
      }
     },
     "415ccc6354d548848010a29904bb252b": {
      "model_module": "@jupyter-widgets/base",
      "model_module_version": "2.0.0",
      "model_name": "LayoutModel",
      "state": {}
     },
     "495fd8627f4c40d3aa2251cc4108722d": {
      "model_module": "@jupyter-widgets/controls",
      "model_module_version": "2.0.0",
      "model_name": "HTMLModel",
      "state": {
       "layout": "IPY_MODEL_56b1291fad5745b2a8cd29c0f08fb4b5",
       "style": "IPY_MODEL_e9da754268a148ddb23051e303b7e023",
       "value": "100%"
      }
     },
     "4a7e36aa143a46e994857d36f0d22fbe": {
      "model_module": "@jupyter-widgets/output",
      "model_module_version": "1.0.0",
      "model_name": "OutputModel",
      "state": {
       "layout": "IPY_MODEL_16d3a8b1263a4081a18fb4a4c7af7a14",
       "outputs": [
        {
         "data": {
          "text/html": "<h4>r2</h4>",
          "text/plain": "<IPython.core.display.HTML object>"
         },
         "metadata": {},
         "output_type": "display_data"
        },
        {
         "data": {
          "text/html": "<style type=\"text/css\">\n</style>\n<table id=\"T_6ce68\">\n  <thead>\n    <tr>\n      <th id=\"T_6ce68_level0_col0\" class=\"col_heading level0 col0\" >variable</th>\n      <th id=\"T_6ce68_level0_col1\" class=\"col_heading level0 col1\" >r2</th>\n    </tr>\n  </thead>\n  <tbody>\n    <tr>\n      <td id=\"T_6ce68_row0_col0\" class=\"data row0 col0\" >x0</td>\n      <td id=\"T_6ce68_row0_col1\" class=\"data row0 col1\" >-1.7361</td>\n    </tr>\n    <tr>\n      <td id=\"T_6ce68_row1_col0\" class=\"data row1 col0\" >x1</td>\n      <td id=\"T_6ce68_row1_col1\" class=\"data row1 col1\" >-81.1360</td>\n    </tr>\n  </tbody>\n</table>\n",
          "text/plain": "<pandas.io.formats.style.Styler at 0x7f731da6a020>"
         },
         "metadata": {},
         "output_type": "display_data"
        }
       ]
      }
     },
     "4fcb5a58babc40fda1897442565e757e": {
      "model_module": "@jupyter-widgets/base",
      "model_module_version": "2.0.0",
      "model_name": "LayoutModel",
      "state": {}
     },
     "538c3d75a1a342649636570a04da6b81": {
      "model_module": "@jupyter-widgets/base",
      "model_module_version": "2.0.0",
      "model_name": "LayoutModel",
      "state": {}
     },
     "56b1291fad5745b2a8cd29c0f08fb4b5": {
      "model_module": "@jupyter-widgets/base",
      "model_module_version": "2.0.0",
      "model_name": "LayoutModel",
      "state": {}
     },
     "56b882a3df864757a5c51f0292638f14": {
      "model_module": "@jupyter-widgets/controls",
      "model_module_version": "2.0.0",
      "model_name": "FloatProgressModel",
      "state": {
       "bar_style": "success",
       "layout": "IPY_MODEL_030d2b727fbb43e293ead2edd6b76f3e",
       "style": "IPY_MODEL_674df8bdf58a4d76a0dbab2e153aae6f",
       "value": 100
      }
     },
     "5e7b4f8cc63e4305b1681d381b8041c2": {
      "model_module": "@jupyter-widgets/output",
      "model_module_version": "1.0.0",
      "model_name": "OutputModel",
      "state": {
       "layout": "IPY_MODEL_924ad0af256f481098680f3ab4480317",
       "outputs": [
        {
         "data": {
          "text/html": "<h4>r2</h4>",
          "text/plain": "<IPython.core.display.HTML object>"
         },
         "metadata": {},
         "output_type": "display_data"
        },
        {
         "data": {
          "text/html": "<style type=\"text/css\">\n</style>\n<table id=\"T_6fa90\">\n  <thead>\n    <tr>\n      <th id=\"T_6fa90_level0_col0\" class=\"col_heading level0 col0\" >variable</th>\n      <th id=\"T_6fa90_level0_col1\" class=\"col_heading level0 col1\" >r2</th>\n    </tr>\n  </thead>\n  <tbody>\n    <tr>\n      <td id=\"T_6fa90_row0_col0\" class=\"data row0 col0\" >x0</td>\n      <td id=\"T_6fa90_row0_col1\" class=\"data row0 col1\" >-0.3884</td>\n    </tr>\n    <tr>\n      <td id=\"T_6fa90_row1_col0\" class=\"data row1 col0\" >x1</td>\n      <td id=\"T_6fa90_row1_col1\" class=\"data row1 col1\" >-36.6112</td>\n    </tr>\n  </tbody>\n</table>\n",
          "text/plain": "<pandas.io.formats.style.Styler at 0x7f731d76e9b0>"
         },
         "metadata": {},
         "output_type": "display_data"
        }
       ]
      }
     },
     "674df8bdf58a4d76a0dbab2e153aae6f": {
      "model_module": "@jupyter-widgets/controls",
      "model_module_version": "2.0.0",
      "model_name": "ProgressStyleModel",
      "state": {
       "description_width": ""
      }
     },
     "6c6c330a51134d7991afa372dd25410b": {
      "model_module": "@jupyter-widgets/output",
      "model_module_version": "1.0.0",
      "model_name": "OutputModel",
      "state": {
       "layout": "IPY_MODEL_89e429cf85b743fb8ff5cdd364b6ec95",
       "outputs": [
        {
         "data": {
          "text/html": "<h4>Λ</h4>",
          "text/plain": "<IPython.core.display.HTML object>"
         },
         "metadata": {},
         "output_type": "display_data"
        },
        {
         "data": {
          "text/html": "<style type=\"text/css\">\n</style>\n<table id=\"T_cf36c\">\n  <thead>\n    <tr>\n      <th id=\"T_cf36c_level0_col0\" class=\"col_heading level0 col0\" >variable</th>\n      <th id=\"T_cf36c_level0_col1\" class=\"col_heading level0 col1\" >z0</th>\n      <th id=\"T_cf36c_level0_col2\" class=\"col_heading level0 col2\" >z1</th>\n    </tr>\n  </thead>\n  <tbody>\n    <tr>\n      <td id=\"T_cf36c_row0_col0\" class=\"data row0 col0\" >x0</td>\n      <td id=\"T_cf36c_row0_col1\" class=\"data row0 col1\" >0.6248</td>\n      <td id=\"T_cf36c_row0_col2\" class=\"data row0 col2\" >0.5804</td>\n    </tr>\n    <tr>\n      <td id=\"T_cf36c_row1_col0\" class=\"data row1 col0\" >x1</td>\n      <td id=\"T_cf36c_row1_col1\" class=\"data row1 col1\" >0.8221</td>\n      <td id=\"T_cf36c_row1_col2\" class=\"data row1 col2\" >0.3106</td>\n    </tr>\n  </tbody>\n</table>\n",
          "text/plain": "<pandas.io.formats.style.Styler at 0x7f731d76e9b0>"
         },
         "metadata": {},
         "output_type": "display_data"
        }
       ]
      }
     },
     "6ff227ad4032425d90d4632781766d05": {
      "model_module": "@jupyter-widgets/output",
      "model_module_version": "1.0.0",
      "model_name": "OutputModel",
      "state": {
       "layout": "IPY_MODEL_bf4a2a3518ee4f0d92483c0eccc25d4a",
       "outputs": [
        {
         "data": {
          "text/html": "<h4></h4>",
          "text/plain": "<IPython.core.display.HTML object>"
         },
         "metadata": {},
         "output_type": "display_data"
        },
        {
         "name": "stderr",
         "output_type": "stream",
         "text": "/home/simone/.local/lib/python3.10/site-packages/altair/utils/core.py:317: FutureWarning: iteritems is deprecated and will be removed in a future version. Use .items instead.\n  for col_name, dtype in df.dtypes.iteritems():\n"
        },
        {
         "data": {
          "text/html": "\n<div id=\"altair-viz-8a530483f6364cf7a24ad11dce5b0dc6\"></div>\n<script type=\"text/javascript\">\n  var VEGA_DEBUG = (typeof VEGA_DEBUG == \"undefined\") ? {} : VEGA_DEBUG;\n  (function(spec, embedOpt){\n    let outputDiv = document.currentScript.previousElementSibling;\n    if (outputDiv.id !== \"altair-viz-8a530483f6364cf7a24ad11dce5b0dc6\") {\n      outputDiv = document.getElementById(\"altair-viz-8a530483f6364cf7a24ad11dce5b0dc6\");\n    }\n    const paths = {\n      \"vega\": \"https://cdn.jsdelivr.net/npm//vega@5?noext\",\n      \"vega-lib\": \"https://cdn.jsdelivr.net/npm//vega-lib?noext\",\n      \"vega-lite\": \"https://cdn.jsdelivr.net/npm//vega-lite@4.17.0?noext\",\n      \"vega-embed\": \"https://cdn.jsdelivr.net/npm//vega-embed@6?noext\",\n    };\n\n    function maybeLoadScript(lib, version) {\n      var key = `${lib.replace(\"-\", \"\")}_version`;\n      return (VEGA_DEBUG[key] == version) ?\n        Promise.resolve(paths[lib]) :\n        new Promise(function(resolve, reject) {\n          var s = document.createElement('script');\n          document.getElementsByTagName(\"head\")[0].appendChild(s);\n          s.async = true;\n          s.onload = () => {\n            VEGA_DEBUG[key] = version;\n            return resolve(paths[lib]);\n          };\n          s.onerror = () => reject(`Error loading script: ${paths[lib]}`);\n          s.src = paths[lib];\n        });\n    }\n\n    function showError(err) {\n      outputDiv.innerHTML = `<div class=\"error\" style=\"color:red;\">${err}</div>`;\n      throw err;\n    }\n\n    function displayChart(vegaEmbed) {\n      vegaEmbed(outputDiv, spec, embedOpt)\n        .catch(err => showError(`Javascript Error: ${err.message}<br>This usually means there's a typo in your chart specification. See the javascript console for the full traceback.`));\n    }\n\n    if(typeof define === \"function\" && define.amd) {\n      requirejs.config({paths});\n      require([\"vega-embed\"], displayChart, err => showError(`Error loading script: ${err.message}`));\n    } else {\n      maybeLoadScript(\"vega\", \"5\")\n        .then(() => maybeLoadScript(\"vega-lite\", \"4.17.0\"))\n        .then(() => maybeLoadScript(\"vega-embed\", \"6\"))\n        .catch(showError)\n        .then(() => displayChart(vegaEmbed));\n    }\n  })({\"config\": {\"view\": {\"continuousWidth\": 400, \"continuousHeight\": 300}}, \"vconcat\": [{\"hconcat\": [{\"layer\": [{\"data\": {\"name\": \"data-0e934a8a657b6c7406713e274118184b\"}, \"mark\": {\"type\": \"point\", \"color\": \"black\", \"fillOpacity\": 1, \"strokeWidth\": 1}, \"encoding\": {\"fill\": {\"field\": \"is_missing\", \"legend\": {\"title\": [\"Observed data\", \"(is missing)\"]}, \"scale\": {\"range\": [\"#ffffff00\", \"black\"]}, \"type\": \"nominal\"}, \"shape\": {\"field\": \"is_missing\", \"type\": \"nominal\"}, \"x\": {\"field\": \"time\", \"type\": \"quantitative\"}, \"y\": {\"field\": \"value\", \"scale\": {\"zero\": false}, \"title\": \"x0\", \"type\": \"quantitative\"}}}, {\"layer\": [{\"mark\": \"errorband\", \"encoding\": {\"color\": {\"field\": \"variable\", \"legend\": {\"title\": [\"Line: pred. mean\", \"area: +/- 2 std\", \"(variable)\"]}, \"type\": \"nominal\"}, \"tooltip\": [{\"field\": \"std\", \"format\": \".4\", \"type\": \"quantitative\"}, {\"field\": \"mean\", \"format\": \".4\", \"type\": \"quantitative\"}], \"x\": {\"field\": \"time\", \"type\": \"quantitative\"}, \"y\": {\"field\": \"err_low\", \"scale\": {\"zero\": false}, \"title\": \"x0\", \"type\": \"quantitative\"}, \"y2\": {\"field\": \"err_high\"}}, \"height\": 150, \"transform\": [{\"calculate\": \"datum.mean - 2 * datum.std\", \"as\": \"err_low\"}, {\"calculate\": \"datum.mean + 2 * datum.std\", \"as\": \"err_high\"}], \"width\": 300}, {\"mark\": \"line\", \"encoding\": {\"color\": {\"field\": \"variable\", \"type\": \"nominal\"}, \"x\": {\"field\": \"time\", \"type\": \"quantitative\"}, \"y\": {\"field\": \"mean\", \"scale\": {\"zero\": false}, \"title\": \"x0\", \"type\": \"quantitative\"}}, \"selection\": {\"selector004\": {\"type\": \"interval\", \"bind\": \"scales\", \"encodings\": [\"x\"]}}, \"title\": \"x0\"}], \"data\": {\"name\": \"data-a74e83328272725693936102b852574a\"}}]}, {\"layer\": [{\"data\": {\"name\": \"data-70447e524ed7988fc2a61e8cbcae3690\"}, \"mark\": {\"type\": \"point\", \"color\": \"black\", \"fillOpacity\": 1, \"strokeWidth\": 1}, \"encoding\": {\"fill\": {\"field\": \"is_missing\", \"legend\": {\"title\": [\"Observed data\", \"(is missing)\"]}, \"scale\": {\"range\": [\"#ffffff00\", \"black\"]}, \"type\": \"nominal\"}, \"shape\": {\"field\": \"is_missing\", \"type\": \"nominal\"}, \"x\": {\"field\": \"time\", \"type\": \"quantitative\"}, \"y\": {\"field\": \"value\", \"scale\": {\"zero\": false}, \"title\": \"x1\", \"type\": \"quantitative\"}}}, {\"layer\": [{\"mark\": \"errorband\", \"encoding\": {\"color\": {\"field\": \"variable\", \"legend\": {\"title\": [\"Line: pred. mean\", \"area: +/- 2 std\", \"(variable)\"]}, \"type\": \"nominal\"}, \"tooltip\": [{\"field\": \"std\", \"format\": \".4\", \"type\": \"quantitative\"}, {\"field\": \"mean\", \"format\": \".4\", \"type\": \"quantitative\"}], \"x\": {\"field\": \"time\", \"type\": \"quantitative\"}, \"y\": {\"field\": \"err_low\", \"scale\": {\"zero\": false}, \"title\": \"x1\", \"type\": \"quantitative\"}, \"y2\": {\"field\": \"err_high\"}}, \"height\": 150, \"transform\": [{\"calculate\": \"datum.mean - 2 * datum.std\", \"as\": \"err_low\"}, {\"calculate\": \"datum.mean + 2 * datum.std\", \"as\": \"err_high\"}], \"width\": 300}, {\"mark\": \"line\", \"encoding\": {\"color\": {\"field\": \"variable\", \"type\": \"nominal\"}, \"x\": {\"field\": \"time\", \"type\": \"quantitative\"}, \"y\": {\"field\": \"mean\", \"scale\": {\"zero\": false}, \"title\": \"x1\", \"type\": \"quantitative\"}}, \"selection\": {\"selector004\": {\"type\": \"interval\", \"bind\": \"scales\", \"encodings\": [\"x\"]}}, \"title\": \"x1\"}], \"data\": {\"name\": \"data-0457d24bbc241ba665e9869642e9e000\"}}]}]}, {\"hconcat\": []}, {\"hconcat\": []}, {\"hconcat\": []}, {\"hconcat\": []}, {\"hconcat\": []}, {\"hconcat\": []}, {\"hconcat\": []}, {\"hconcat\": []}, {\"hconcat\": []}], \"$schema\": \"https://vega.github.io/schema/vega-lite/v4.17.0.json\", \"datasets\": {\"data-0e934a8a657b6c7406713e274118184b\": [{\"time\": 0.0, \"variable\": \"x0\", \"value\": -0.024084506556391716, \"is_missing\": false}, {\"time\": 1.0, \"variable\": \"x0\", \"value\": -0.133942112326622, \"is_missing\": false}, {\"time\": 2.0, \"variable\": \"x0\", \"value\": -0.6046499013900757, \"is_missing\": false}, {\"time\": 3.0, \"variable\": \"x0\", \"value\": 0.37177565693855286, \"is_missing\": true}, {\"time\": 4.0, \"variable\": \"x0\", \"value\": -0.4789939522743225, \"is_missing\": false}, {\"time\": 5.0, \"variable\": \"x0\", \"value\": 0.6516996622085571, \"is_missing\": true}, {\"time\": 6.0, \"variable\": \"x0\", \"value\": -0.5947169661521912, \"is_missing\": false}, {\"time\": 7.0, \"variable\": \"x0\", \"value\": 0.6358321309089661, \"is_missing\": true}, {\"time\": 8.0, \"variable\": \"x0\", \"value\": -1.3010709285736084, \"is_missing\": true}, {\"time\": 9.0, \"variable\": \"x0\", \"value\": 0.8461343050003052, \"is_missing\": true}], \"data-a74e83328272725693936102b852574a\": [{\"time\": 0.0, \"variable\": \"x0\", \"mean\": -0.024084506556391716, \"std\": null}, {\"time\": 1.0, \"variable\": \"x0\", \"mean\": -0.133942112326622, \"std\": null}, {\"time\": 2.0, \"variable\": \"x0\", \"mean\": -0.6046499013900757, \"std\": null}, {\"time\": 4.0, \"variable\": \"x0\", \"mean\": -0.4789939522743225, \"std\": null}, {\"time\": 6.0, \"variable\": \"x0\", \"mean\": -0.5947169661521912, \"std\": null}, {\"time\": 3.0, \"variable\": \"x0\", \"mean\": -0.45933958888053894, \"std\": 0.18301567435264587}, {\"time\": 5.0, \"variable\": \"x0\", \"mean\": -0.5101540088653564, \"std\": 0.18306845426559448}, {\"time\": 7.0, \"variable\": \"x0\", \"mean\": 0.5939167737960815, \"std\": 0.116519033908844}, {\"time\": 8.0, \"variable\": \"x0\", \"mean\": -1.0643839836120605, \"std\": 0.12072537839412689}, {\"time\": 9.0, \"variable\": \"x0\", \"mean\": -0.6323926448822021, \"std\": 0.1993926763534546}], \"data-70447e524ed7988fc2a61e8cbcae3690\": [{\"time\": 0.0, \"variable\": \"x1\", \"value\": 0.08926843851804733, \"is_missing\": false}, {\"time\": 1.0, \"variable\": \"x1\", \"value\": 0.25853198766708374, \"is_missing\": false}, {\"time\": 2.0, \"variable\": \"x1\", \"value\": -0.6035014390945435, \"is_missing\": false}, {\"time\": 3.0, \"variable\": \"x1\", \"value\": 0.8580458760261536, \"is_missing\": true}, {\"time\": 4.0, \"variable\": \"x1\", \"value\": -1.161096453666687, \"is_missing\": false}, {\"time\": 5.0, \"variable\": \"x1\", \"value\": 1.2603576183319092, \"is_missing\": true}, {\"time\": 6.0, \"variable\": \"x1\", \"value\": -1.2845115661621094, \"is_missing\": false}, {\"time\": 7.0, \"variable\": \"x1\", \"value\": 1.2517428398132324, \"is_missing\": false}, {\"time\": 8.0, \"variable\": \"x1\", \"value\": -2.0011069774627686, \"is_missing\": false}, {\"time\": 9.0, \"variable\": \"x1\", \"value\": 1.8596267700195312, \"is_missing\": true}], \"data-0457d24bbc241ba665e9869642e9e000\": [{\"time\": 0.0, \"variable\": \"x1\", \"mean\": 0.08926843851804733, \"std\": null}, {\"time\": 1.0, \"variable\": \"x1\", \"mean\": 0.25853198766708374, \"std\": null}, {\"time\": 2.0, \"variable\": \"x1\", \"mean\": -0.6035014390945435, \"std\": null}, {\"time\": 4.0, \"variable\": \"x1\", \"mean\": -1.161096453666687, \"std\": null}, {\"time\": 6.0, \"variable\": \"x1\", \"mean\": -1.2845115661621094, \"std\": null}, {\"time\": 3.0, \"variable\": \"x1\", \"mean\": -0.8550868034362793, \"std\": 0.31093743443489075}, {\"time\": 5.0, \"variable\": \"x1\", \"mean\": -1.0288569927215576, \"std\": 0.3113003075122833}, {\"time\": 7.0, \"variable\": \"x1\", \"mean\": 1.2517428398132324, \"std\": 0.0}, {\"time\": 8.0, \"variable\": \"x1\", \"mean\": -2.0011069774627686, \"std\": 0.0}, {\"time\": 9.0, \"variable\": \"x1\", \"mean\": -1.4468765258789062, \"std\": 0.4122137427330017}]}}, {\"mode\": \"vega-lite\"});\n</script>",
          "text/plain": "alt.VConcatChart(...)"
         },
         "metadata": {},
         "output_type": "display_data"
        }
       ]
      }
     },
     "73289724a7b943b1871c213fd7aeb5af": {
      "model_module": "@jupyter-widgets/base",
      "model_module_version": "2.0.0",
      "model_name": "LayoutModel",
      "state": {}
     },
     "799c140eaa4746b0b8b4dc12754e2ce6": {
      "model_module": "@jupyter-widgets/controls",
      "model_module_version": "2.0.0",
      "model_name": "FloatProgressModel",
      "state": {
       "bar_style": "success",
       "layout": "IPY_MODEL_074338cb81cc43898173bd48b43a44bf",
       "style": "IPY_MODEL_3a7deac9fa3745028581aa00fa691f51",
       "value": 100
      }
     },
     "7b29d191b47d4c38960d542c6f40dd01": {
      "model_module": "@jupyter-widgets/controls",
      "model_module_version": "2.0.0",
      "model_name": "VBoxModel",
      "state": {
       "children": [
        "IPY_MODEL_6ff227ad4032425d90d4632781766d05",
        "IPY_MODEL_04e267cf355e48e1aa402b68ee0b182c"
       ],
       "layout": "IPY_MODEL_538c3d75a1a342649636570a04da6b81"
      }
     },
     "875093c704e942b2bed68ed29a5377ab": {
      "model_module": "@jupyter-widgets/base",
      "model_module_version": "2.0.0",
      "model_name": "LayoutModel",
      "state": {}
     },
     "882933bdbc8e401582ea1ca22a57232c": {
      "model_module": "@jupyter-widgets/controls",
      "model_module_version": "2.0.0",
      "model_name": "HBoxModel",
      "state": {
       "children": [
        "IPY_MODEL_31bb7fcb385747f98497d621b5285e1f",
        "IPY_MODEL_56b882a3df864757a5c51f0292638f14",
        "IPY_MODEL_9e411bb24aa745178b22a212afba8b4d"
       ],
       "layout": "IPY_MODEL_73289724a7b943b1871c213fd7aeb5af"
      }
     },
     "89e429cf85b743fb8ff5cdd364b6ec95": {
      "model_module": "@jupyter-widgets/base",
      "model_module_version": "2.0.0",
      "model_name": "LayoutModel",
      "state": {}
     },
     "8b4458e20ec145cd8991386bd2af9cc4": {
      "model_module": "@jupyter-widgets/controls",
      "model_module_version": "2.0.0",
      "model_name": "HBoxModel",
      "state": {
       "children": [
        "IPY_MODEL_07cb75dd13fb47babbbabec827a7dcd9",
        "IPY_MODEL_305baadb228c4a44bf5ffddb4ccda30f",
        "IPY_MODEL_a4e0495ae9fa4201a1d0335930111518"
       ],
       "layout": "IPY_MODEL_d5d53d61921a46eeb91b035fa3137038"
      }
     },
     "8e37fa04843d48b58b7cd9c7c04204df": {
      "model_module": "@jupyter-widgets/output",
      "model_module_version": "1.0.0",
      "model_name": "OutputModel",
      "state": {
       "layout": "IPY_MODEL_312e314abf9b488c89a7da475111d59a",
       "outputs": [
        {
         "data": {
          "text/html": "<h4>Λ</h4>",
          "text/plain": "<IPython.core.display.HTML object>"
         },
         "metadata": {},
         "output_type": "display_data"
        },
        {
         "data": {
          "text/html": "<style type=\"text/css\">\n</style>\n<table id=\"T_00c26\">\n  <thead>\n    <tr>\n      <th id=\"T_00c26_level0_col0\" class=\"col_heading level0 col0\" >variable</th>\n      <th id=\"T_00c26_level0_col1\" class=\"col_heading level0 col1\" >z0</th>\n    </tr>\n  </thead>\n  <tbody>\n    <tr>\n      <td id=\"T_00c26_row0_col0\" class=\"data row0 col0\" >x0</td>\n      <td id=\"T_00c26_row0_col1\" class=\"data row0 col1\" >0.7770</td>\n    </tr>\n    <tr>\n      <td id=\"T_00c26_row1_col0\" class=\"data row1 col0\" >x1</td>\n      <td id=\"T_00c26_row1_col1\" class=\"data row1 col1\" >0.8766</td>\n    </tr>\n  </tbody>\n</table>\n",
          "text/plain": "<pandas.io.formats.style.Styler at 0x7f731da6a020>"
         },
         "metadata": {},
         "output_type": "display_data"
        }
       ]
      }
     },
     "91c4b280c2124702ae5fbc6bbba1343a": {
      "model_module": "@jupyter-widgets/controls",
      "model_module_version": "2.0.0",
      "model_name": "ProgressStyleModel",
      "state": {
       "description_width": ""
      }
     },
     "924ad0af256f481098680f3ab4480317": {
      "model_module": "@jupyter-widgets/base",
      "model_module_version": "2.0.0",
      "model_name": "LayoutModel",
      "state": {}
     },
     "9a676df6a0c04685822035b0f52a82fb": {
      "model_module": "@jupyter-widgets/base",
      "model_module_version": "2.0.0",
      "model_name": "LayoutModel",
      "state": {}
     },
     "9e411bb24aa745178b22a212afba8b4d": {
      "model_module": "@jupyter-widgets/controls",
      "model_module_version": "2.0.0",
      "model_name": "HTMLModel",
      "state": {
       "layout": "IPY_MODEL_ccd140bc900b404294bc9d2d58c524f0",
       "style": "IPY_MODEL_400efbb2160348be9a46d722e6d0806b",
       "value": " 100/100 [00:00&lt;00:00, 170.89it/s]"
      }
     },
     "a25d3c1cb2f54c53b5c1a4b658406708": {
      "model_module": "@jupyter-widgets/output",
      "model_module_version": "1.0.0",
      "model_name": "OutputModel",
      "state": {
       "layout": "IPY_MODEL_9a676df6a0c04685822035b0f52a82fb",
       "outputs": [
        {
         "data": {
          "text/html": "<h4>Lengthscale</h4>",
          "text/plain": "<IPython.core.display.HTML object>"
         },
         "metadata": {},
         "output_type": "display_data"
        },
        {
         "data": {
          "text/html": "<style type=\"text/css\">\n</style>\n<table id=\"T_47796\">\n  <thead>\n    <tr>\n      <th id=\"T_47796_level0_col0\" class=\"col_heading level0 col0\" >latent</th>\n      <th id=\"T_47796_level0_col1\" class=\"col_heading level0 col1\" >lengthscale</th>\n    </tr>\n  </thead>\n  <tbody>\n    <tr>\n      <td id=\"T_47796_row0_col0\" class=\"data row0 col0\" >z0</td>\n      <td id=\"T_47796_row0_col1\" class=\"data row0 col1\" >2.0403</td>\n    </tr>\n    <tr>\n      <td id=\"T_47796_row1_col0\" class=\"data row1 col0\" >z1</td>\n      <td id=\"T_47796_row1_col1\" class=\"data row1 col1\" >0.1488</td>\n    </tr>\n  </tbody>\n</table>\n",
          "text/plain": "<pandas.io.formats.style.Styler at 0x7f731d76e9b0>"
         },
         "metadata": {},
         "output_type": "display_data"
        }
       ]
      }
     },
     "a4e0495ae9fa4201a1d0335930111518": {
      "model_module": "@jupyter-widgets/controls",
      "model_module_version": "2.0.0",
      "model_name": "HTMLModel",
      "state": {
       "layout": "IPY_MODEL_141b114128c049bb94324f8ef8d64623",
       "style": "IPY_MODEL_a6ae2a79766e4fd9a013b4cc00a54204",
       "value": " 100/100 [00:01&lt;00:00, 76.77it/s]"
      }
     },
     "a6ae2a79766e4fd9a013b4cc00a54204": {
      "model_module": "@jupyter-widgets/controls",
      "model_module_version": "2.0.0",
      "model_name": "HTMLStyleModel",
      "state": {
       "description_width": "",
       "font_size": null,
       "text_color": null
      }
     },
     "ab7a8b484c404009bdc09ee65f775a3c": {
      "model_module": "@jupyter-widgets/base",
      "model_module_version": "2.0.0",
      "model_name": "LayoutModel",
      "state": {}
     },
     "ba1849862eab4a359229ece379812139": {
      "model_module": "@jupyter-widgets/base",
      "model_module_version": "2.0.0",
      "model_name": "LayoutModel",
      "state": {}
     },
     "bd2c101a88d34a9cbe0d5e19f2bc47a6": {
      "model_module": "@jupyter-widgets/output",
      "model_module_version": "1.0.0",
      "model_name": "OutputModel",
      "state": {
       "layout": "IPY_MODEL_36dec13ea0ee46058a31da323f7deff6",
       "outputs": [
        {
         "data": {
          "text/html": "<h4>Loss</h4>",
          "text/plain": "<IPython.core.display.HTML object>"
         },
         "metadata": {},
         "output_type": "display_data"
        },
        {
         "data": {
          "image/png": "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\n",
          "text/plain": "<Figure size 432x288 with 1 Axes>"
         },
         "metadata": {
          "needs_background": "light"
         },
         "output_type": "display_data"
        }
       ]
      }
     },
     "bf4a2a3518ee4f0d92483c0eccc25d4a": {
      "model_module": "@jupyter-widgets/base",
      "model_module_version": "2.0.0",
      "model_name": "LayoutModel",
      "state": {}
     },
     "ccd140bc900b404294bc9d2d58c524f0": {
      "model_module": "@jupyter-widgets/base",
      "model_module_version": "2.0.0",
      "model_name": "LayoutModel",
      "state": {}
     },
     "cfaa463cc43f41cd8b2260c82adf974c": {
      "model_module": "@jupyter-widgets/output",
      "model_module_version": "1.0.0",
      "model_name": "OutputModel",
      "state": {
       "layout": "IPY_MODEL_4fcb5a58babc40fda1897442565e757e",
       "outputs": [
        {
         "data": {
          "text/html": "<h4>Loss</h4>",
          "text/plain": "<IPython.core.display.HTML object>"
         },
         "metadata": {},
         "output_type": "display_data"
        },
        {
         "data": {
          "image/png": "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\n",
          "text/plain": "<Figure size 432x288 with 1 Axes>"
         },
         "metadata": {
          "needs_background": "light"
         },
         "output_type": "display_data"
        }
       ]
      }
     },
     "d5d53d61921a46eeb91b035fa3137038": {
      "model_module": "@jupyter-widgets/base",
      "model_module_version": "2.0.0",
      "model_name": "LayoutModel",
      "state": {}
     },
     "daa3ac31332c4449a75611c47802c44a": {
      "model_module": "@jupyter-widgets/base",
      "model_module_version": "2.0.0",
      "model_name": "LayoutModel",
      "state": {}
     },
     "dc954226d98944d18e17fabd65a7ff53": {
      "model_module": "@jupyter-widgets/controls",
      "model_module_version": "2.0.0",
      "model_name": "HTMLStyleModel",
      "state": {
       "description_width": "",
       "font_size": null,
       "text_color": null
      }
     },
     "dd153b3e06e74f17b8724489c5bb746b": {
      "model_module": "@jupyter-widgets/controls",
      "model_module_version": "2.0.0",
      "model_name": "HTMLStyleModel",
      "state": {
       "description_width": "",
       "font_size": null,
       "text_color": null
      }
     },
     "dfb734ce6f534d8989d1f5c401d87e46": {
      "model_module": "@jupyter-widgets/output",
      "model_module_version": "1.0.0",
      "model_name": "OutputModel",
      "state": {
       "layout": "IPY_MODEL_875093c704e942b2bed68ed29a5377ab",
       "outputs": [
        {
         "data": {
          "text/html": "<h4>Lengthscale</h4>",
          "text/plain": "<IPython.core.display.HTML object>"
         },
         "metadata": {},
         "output_type": "display_data"
        },
        {
         "data": {
          "text/html": "<style type=\"text/css\">\n</style>\n<table id=\"T_2e8d6\">\n  <thead>\n    <tr>\n      <th id=\"T_2e8d6_level0_col0\" class=\"col_heading level0 col0\" >latent</th>\n      <th id=\"T_2e8d6_level0_col1\" class=\"col_heading level0 col1\" >lengthscale</th>\n    </tr>\n  </thead>\n  <tbody>\n    <tr>\n      <td id=\"T_2e8d6_row0_col0\" class=\"data row0 col0\" >z0</td>\n      <td id=\"T_2e8d6_row0_col1\" class=\"data row0 col1\" >1.1289</td>\n    </tr>\n  </tbody>\n</table>\n",
          "text/plain": "<pandas.io.formats.style.Styler at 0x7f731da6a020>"
         },
         "metadata": {},
         "output_type": "display_data"
        }
       ]
      }
     },
     "e0b28c90f3424fdfab7012b1ae39e5b9": {
      "model_module": "@jupyter-widgets/base",
      "model_module_version": "2.0.0",
      "model_name": "LayoutModel",
      "state": {}
     },
     "e9da754268a148ddb23051e303b7e023": {
      "model_module": "@jupyter-widgets/controls",
      "model_module_version": "2.0.0",
      "model_name": "HTMLStyleModel",
      "state": {
       "description_width": "",
       "font_size": null,
       "text_color": null
      }
     },
     "ec6d184350904f67a0e49a7d64dc4bfa": {
      "model_module": "@jupyter-widgets/base",
      "model_module_version": "2.0.0",
      "model_name": "LayoutModel",
      "state": {}
     },
     "fccd07505b42401e900679674f49de36": {
      "model_module": "@jupyter-widgets/controls",
      "model_module_version": "2.0.0",
      "model_name": "VBoxModel",
      "state": {
       "children": [
        "IPY_MODEL_244afecaebee4c4e8ab53818b66cc237",
        "IPY_MODEL_3ad0f5aac4704a34b35a9732b5ab08a3"
       ],
       "layout": "IPY_MODEL_28737f2579e045de8cef6b10eb0ca4cf"
      }
     }
    },
    "version_major": 2,
    "version_minor": 0
   }
  }
 },
 "nbformat": 4,
 "nbformat_minor": 5
}
