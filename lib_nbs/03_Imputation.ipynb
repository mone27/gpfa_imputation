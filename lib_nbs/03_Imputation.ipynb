{
 "cells": [
  {
   "cell_type": "raw",
   "id": "d1bb0b48",
   "metadata": {},
   "source": [
    "---\n",
    "description: Impute time series using GPFA Leaner\n",
    "output-file: imputation.html\n",
    "title: Imputation time series\n",
    "\n",
    "---\n",
    "\n"
   ]
  },
  {
   "cell_type": "markdown",
   "id": "00e93a35-c0f5-40f1-b111-7d58a767574f",
   "metadata": {},
   "source": [
    "the goal of this notebook is to be able to:\n",
    "\n",
    "- take a timeseries that contains gaps\n",
    "- train a GPFA Learner using the available data\n",
    "- impute the gap, by using the predictions of the learner\n",
    "- to improve the imputation by conditioning the distribution on the other observation at the same time stamp"
   ]
  },
  {
   "cell_type": "code",
   "execution_count": null,
   "id": "abcc8b0e-193c-4819-8a27-dafe166f4dfe",
   "metadata": {},
   "outputs": [],
   "source": [
    "%load_ext autoreload\n",
    "%autoreload 2"
   ]
  },
  {
   "cell_type": "code",
   "execution_count": null,
   "id": "d9b18213-e77e-46e4-8aaf-b45f2754cf12",
   "metadata": {},
   "outputs": [],
   "source": [
    "#| hide\n",
    "#| default_exp imputation"
   ]
  },
  {
   "cell_type": "code",
   "execution_count": null,
   "id": "2e18aed6",
   "metadata": {},
   "outputs": [],
   "source": [
    "#| export\n",
    "from gpfa_imputation.learner import *\n",
    "from gpfa_imputation.data_preparation import *\n",
    "\n",
    "import torch\n",
    "\n",
    "import pandas as pd\n",
    "import numpy as np\n",
    "import sklearn\n",
    "from sklearn.metrics import mean_squared_error, r2_score\n",
    "\n",
    "from fastcore.foundation import patch\n",
    "\n",
    "import matplotlib.pyplot as plt\n",
    "import altair as alt\n",
    "from altair import datum\n",
    "\n",
    "from functools import lru_cache"
   ]
  },
  {
   "cell_type": "code",
   "execution_count": null,
   "id": "1071598e",
   "metadata": {},
   "outputs": [],
   "source": [
    "torch.manual_seed(277); # set seed for reproducibility of examples"
   ]
  },
  {
   "cell_type": "markdown",
   "id": "5739f7a8",
   "metadata": {},
   "source": [
    "## GPFA Imputation"
   ]
  },
  {
   "cell_type": "markdown",
   "id": "9718ca7e",
   "metadata": {},
   "source": [
    "This is the core class that does the imputation using a GPFA\n",
    "\n",
    "The inputs is:\n",
    "\n",
    "- a dataframe containing the observed data, where the row with missing data have been removed\n",
    "- a vector of times where the data is missing\n",
    "\n",
    "it returns:\n",
    "\n",
    "- a complete dataframe with the prediction of the model"
   ]
  },
  {
   "cell_type": "markdown",
   "id": "0c443423",
   "metadata": {},
   "source": [
    "The goal is that `GPFAImputation` takes as imput a dataframe containing missing values and then it imputes them using GPFALearner.\n",
    "Therefore it needs to divide the dataframe in 3 sections:\n",
    "\n",
    "- training data (rows with no NAs)\n",
    "- times to be imputed (rows with some NAs)\n",
    "- observations (variables in the pred rows that are not missing) for conditional predictions"
   ]
  },
  {
   "cell_type": "code",
   "execution_count": null,
   "id": "b2e1b4b5",
   "metadata": {},
   "outputs": [],
   "source": [
    "t_df = pd.DataFrame([\n",
    "    [1., 3., 4.],\n",
    "    [2., 6., np.nan],\n",
    "    [np.nan, np.nan, np.nan],\n",
    "    [np.nan, 8., np.nan],\n",
    "    [3., 4., 5.]\n",
    "]\n",
    ")"
   ]
  },
  {
   "cell_type": "code",
   "execution_count": null,
   "id": "bc87d59d",
   "metadata": {},
   "outputs": [
    {
     "name": "stderr",
     "output_type": "stream",
     "text": [
      "/tmp/ipykernel_84412/3664883938.py:1: FutureWarning: In a future version of pandas all arguments of DataFrame.any and Series.any will be keyword-only.\n",
      "  train_idx = ~t_df.isna().any(1)\n"
     ]
    }
   ],
   "source": [
    "train_idx = ~t_df.isna().any(1)"
   ]
  },
  {
   "cell_type": "code",
   "execution_count": null,
   "id": "f77f250d",
   "metadata": {},
   "outputs": [
    {
     "data": {
      "text/html": [
       "<div>\n",
       "<style scoped>\n",
       "    .dataframe tbody tr th:only-of-type {\n",
       "        vertical-align: middle;\n",
       "    }\n",
       "\n",
       "    .dataframe tbody tr th {\n",
       "        vertical-align: top;\n",
       "    }\n",
       "\n",
       "    .dataframe thead th {\n",
       "        text-align: right;\n",
       "    }\n",
       "</style>\n",
       "<table border=\"1\" class=\"dataframe\">\n",
       "  <thead>\n",
       "    <tr style=\"text-align: right;\">\n",
       "      <th></th>\n",
       "      <th>0</th>\n",
       "      <th>1</th>\n",
       "      <th>2</th>\n",
       "    </tr>\n",
       "  </thead>\n",
       "  <tbody>\n",
       "    <tr>\n",
       "      <th>0</th>\n",
       "      <td>1.0</td>\n",
       "      <td>3.0</td>\n",
       "      <td>4.0</td>\n",
       "    </tr>\n",
       "    <tr>\n",
       "      <th>4</th>\n",
       "      <td>3.0</td>\n",
       "      <td>4.0</td>\n",
       "      <td>5.0</td>\n",
       "    </tr>\n",
       "  </tbody>\n",
       "</table>\n",
       "</div>"
      ],
      "text/plain": [
       "     0    1    2\n",
       "0  1.0  3.0  4.0\n",
       "4  3.0  4.0  5.0"
      ]
     },
     "execution_count": null,
     "metadata": {},
     "output_type": "execute_result"
    }
   ],
   "source": [
    "t_df[train_idx]"
   ]
  },
  {
   "cell_type": "code",
   "execution_count": null,
   "id": "e2bfebc1",
   "metadata": {},
   "outputs": [],
   "source": [
    "pred_data = t_df[~train_idx].to_numpy() "
   ]
  },
  {
   "cell_type": "code",
   "execution_count": null,
   "id": "b8bb2bdd",
   "metadata": {},
   "outputs": [
    {
     "data": {
      "text/plain": [
       "array([[ 2.,  6., nan],\n",
       "       [nan, nan, nan],\n",
       "       [nan,  8., nan]])"
      ]
     },
     "execution_count": null,
     "metadata": {},
     "output_type": "execute_result"
    }
   ],
   "source": [
    "pred_data"
   ]
  },
  {
   "cell_type": "code",
   "execution_count": null,
   "id": "998471b0",
   "metadata": {},
   "outputs": [],
   "source": [
    "idx_cond = ~t_df[~train_idx].isna()"
   ]
  },
  {
   "cell_type": "code",
   "execution_count": null,
   "id": "59f7bca4",
   "metadata": {},
   "outputs": [
    {
     "data": {
      "text/html": [
       "<div>\n",
       "<style scoped>\n",
       "    .dataframe tbody tr th:only-of-type {\n",
       "        vertical-align: middle;\n",
       "    }\n",
       "\n",
       "    .dataframe tbody tr th {\n",
       "        vertical-align: top;\n",
       "    }\n",
       "\n",
       "    .dataframe thead th {\n",
       "        text-align: right;\n",
       "    }\n",
       "</style>\n",
       "<table border=\"1\" class=\"dataframe\">\n",
       "  <thead>\n",
       "    <tr style=\"text-align: right;\">\n",
       "      <th></th>\n",
       "      <th>0</th>\n",
       "      <th>1</th>\n",
       "      <th>2</th>\n",
       "    </tr>\n",
       "  </thead>\n",
       "  <tbody>\n",
       "    <tr>\n",
       "      <th>1</th>\n",
       "      <td>True</td>\n",
       "      <td>True</td>\n",
       "      <td>False</td>\n",
       "    </tr>\n",
       "    <tr>\n",
       "      <th>2</th>\n",
       "      <td>False</td>\n",
       "      <td>False</td>\n",
       "      <td>False</td>\n",
       "    </tr>\n",
       "    <tr>\n",
       "      <th>3</th>\n",
       "      <td>False</td>\n",
       "      <td>True</td>\n",
       "      <td>False</td>\n",
       "    </tr>\n",
       "  </tbody>\n",
       "</table>\n",
       "</div>"
      ],
      "text/plain": [
       "       0      1      2\n",
       "1   True   True  False\n",
       "2  False  False  False\n",
       "3  False   True  False"
      ]
     },
     "execution_count": null,
     "metadata": {},
     "output_type": "execute_result"
    }
   ],
   "source": [
    "idx_cond"
   ]
  },
  {
   "cell_type": "code",
   "execution_count": null,
   "id": "0e747440-b67f-453b-a52e-0bfbb6e67c5e",
   "metadata": {},
   "outputs": [
    {
     "data": {
      "text/plain": [
       "tensor([True, True, True, True, True, True])"
      ]
     },
     "execution_count": null,
     "metadata": {},
     "output_type": "execute_result"
    }
   ],
   "source": [
    "idx_cond = idx_cond.to_numpy().flatten() # learner needs a 1D index\n",
    "\n",
    "pred_data.flatten()[idx_cond]\n",
    "\n",
    "train_idx = t_df.isna().any(axis=1)\n",
    "\n",
    "torch.tensor(~t_df[~train_idx].isna().to_numpy().flatten())"
   ]
  },
  {
   "cell_type": "markdown",
   "id": "94de0357",
   "metadata": {},
   "source": [
    "Implement this into a function"
   ]
  },
  {
   "cell_type": "code",
   "execution_count": null,
   "id": "32e6f05d",
   "metadata": {},
   "outputs": [],
   "source": [
    "#| exports\n",
    "class GPFAImputation:\n",
    "    def __init__(\n",
    "        self,\n",
    "        data: pd.DataFrame , #observed data with missing data as NA\n",
    "        complete_data: pd.DataFrame = None, # Optional complete dataframe (for testing)\n",
    "        latent_dims = 1,\n",
    "        cuda = True # Use GPU?\n",
    "    ):\n",
    "        self.data = data\n",
    "        self.data_complete = complete_data # TODO polish this, is this tidy or wide? check has required cols\n",
    "        \n",
    "        device = 'cuda' if cuda else 'cpu'\n",
    "        \n",
    "        self.T = torch.arange(0, len(data), dtype=torch.float32, device=device) # time is encoded with a increase of 1\n",
    "        \n",
    "        # Training data\n",
    "        self.train_idx = ~self.data.isna().any(axis=1)\n",
    "        self.train_data = torch.tensor(self.data[self.train_idx].to_numpy().astype(np.float32), device=device)\n",
    "        self.train_T = self.T[self.train_idx]\n",
    "        \n",
    "        self.learner = GPFALearner(X = self.train_data, T = self.train_T, latent_dims=latent_dims)\n",
    "        \n",
    "\n",
    "        # Prediction data\n",
    "        self.pred_T = self.T[~self.train_idx]\n",
    "        self.cond_idx = torch.tensor(~self.data[~self.train_idx].isna().to_numpy().flatten(), device=device) # conditional obsevations\n",
    "        self.cond_obs = torch.tensor(self.data[~self.train_idx].to_numpy().astype(np.float32).flatten()[self.cond_idx.cpu()], device=device)\n",
    "        \n",
    "        if cuda: self.learner.cuda()\n",
    "        \n",
    "        \n",
    "    @lru_cache\n",
    "    def impute(self,\n",
    "               add_time = True, # add column with time?\n",
    "               tidy = True # tidy data?\n",
    "               ):\n",
    "        \n",
    "        if not hasattr(self, \"pred\"):\n",
    "            self.learner.train()\n",
    "            self.pred = self.learner.predict(self.pred_T, obs = self.cond_obs, idx = self.cond_idx)\n",
    "        \n",
    "        if tidy: return self._impute_tidy(add_time)\n",
    "        else: return self._impute_wide(add_time)\n",
    "        \n",
    "        \n",
    "    def _impute_wide(self, add_time):\n",
    "        \"\"\" Impute in wide format\"\"\"\n",
    "        \n",
    "        imp_data = self.data.copy()\n",
    "        for col_idx, col_name in enumerate(imp_data.columns):\n",
    "            imp_data.loc[~self.train_idx, col_name] = self.pred.mean[:, col_idx].cpu().numpy()\n",
    "            imp_data.loc[~self.train_idx, col_name + \"_std\"] = self.pred.std[:, col_idx].cpu().numpy()\n",
    "        \n",
    "        idx_vars = []\n",
    "        if add_time:\n",
    "            imp_data[\"time\"] = self.T.cpu()\n",
    "            idx_vars.append(\"time\")\n",
    "        \n",
    "        return imp_data \n",
    "    \n",
    "    def _impute_tidy(self, add_time):\n",
    "        \"\"\" transform the pred output into a tidy dataframe suitable for plotting\"\"\"\n",
    "        feature_names = self.data.columns\n",
    "\n",
    "        pred_mean = pd.DataFrame(self.pred.mean.cpu(), columns = feature_names).assign(time = self.pred_T.cpu()).melt(\"time\", value_name=\"mean\")\n",
    "        pred_std = pd.DataFrame(self.pred.std.cpu(), columns = feature_names).assign(time = self.pred_T.cpu()).melt(\"time\", value_name=\"std\")\n",
    "        \n",
    "        pred = pd.merge(pred_mean, pred_std, on=['time', 'variable'])  \n",
    "        \n",
    "        train_data = self.data[self.train_idx].assign(time = self.train_T.cpu()).melt(\"time\", value_name = \"mean\")\n",
    "               \n",
    "        imp_data = pd.concat((train_data, pred))\n",
    "        \n",
    "        self.pred_wide = imp_data\n",
    "        \n",
    "        return imp_data\n",
    "    "
   ]
  },
  {
   "cell_type": "code",
   "execution_count": null,
   "id": "4105167e",
   "metadata": {},
   "outputs": [],
   "source": [
    "fd = GPFADataTest.generate(2, 10, Lambda=[1,2.]).add_random_missing()"
   ]
  },
  {
   "cell_type": "code",
   "execution_count": null,
   "id": "a5d5890e",
   "metadata": {},
   "outputs": [
    {
     "data": {
      "text/plain": [
       "0     True\n",
       "1     True\n",
       "2     True\n",
       "3    False\n",
       "4     True\n",
       "5    False\n",
       "6     True\n",
       "7    False\n",
       "8    False\n",
       "9    False\n",
       "dtype: bool"
      ]
     },
     "execution_count": null,
     "metadata": {},
     "output_type": "execute_result"
    }
   ],
   "source": [
    "~fd.data.isna().any(axis=1)"
   ]
  },
  {
   "cell_type": "code",
   "execution_count": null,
   "id": "991133e4-4029-47b0-afe0-5b2cce2e3353",
   "metadata": {},
   "outputs": [
    {
     "data": {
      "text/html": [
       "<div>\n",
       "<style scoped>\n",
       "    .dataframe tbody tr th:only-of-type {\n",
       "        vertical-align: middle;\n",
       "    }\n",
       "\n",
       "    .dataframe tbody tr th {\n",
       "        vertical-align: top;\n",
       "    }\n",
       "\n",
       "    .dataframe thead th {\n",
       "        text-align: right;\n",
       "    }\n",
       "</style>\n",
       "<table border=\"1\" class=\"dataframe\">\n",
       "  <thead>\n",
       "    <tr style=\"text-align: right;\">\n",
       "      <th></th>\n",
       "      <th>x0</th>\n",
       "      <th>x1</th>\n",
       "    </tr>\n",
       "  </thead>\n",
       "  <tbody>\n",
       "    <tr>\n",
       "      <th>0</th>\n",
       "      <td>-0.024085</td>\n",
       "      <td>0.089268</td>\n",
       "    </tr>\n",
       "    <tr>\n",
       "      <th>1</th>\n",
       "      <td>-0.133942</td>\n",
       "      <td>0.258532</td>\n",
       "    </tr>\n",
       "    <tr>\n",
       "      <th>2</th>\n",
       "      <td>-0.604650</td>\n",
       "      <td>-0.603501</td>\n",
       "    </tr>\n",
       "    <tr>\n",
       "      <th>3</th>\n",
       "      <td>NaN</td>\n",
       "      <td>NaN</td>\n",
       "    </tr>\n",
       "    <tr>\n",
       "      <th>4</th>\n",
       "      <td>-0.478994</td>\n",
       "      <td>-1.161096</td>\n",
       "    </tr>\n",
       "    <tr>\n",
       "      <th>5</th>\n",
       "      <td>NaN</td>\n",
       "      <td>NaN</td>\n",
       "    </tr>\n",
       "    <tr>\n",
       "      <th>6</th>\n",
       "      <td>-0.594717</td>\n",
       "      <td>-1.284512</td>\n",
       "    </tr>\n",
       "    <tr>\n",
       "      <th>7</th>\n",
       "      <td>NaN</td>\n",
       "      <td>1.251743</td>\n",
       "    </tr>\n",
       "    <tr>\n",
       "      <th>8</th>\n",
       "      <td>NaN</td>\n",
       "      <td>-2.001107</td>\n",
       "    </tr>\n",
       "    <tr>\n",
       "      <th>9</th>\n",
       "      <td>NaN</td>\n",
       "      <td>NaN</td>\n",
       "    </tr>\n",
       "  </tbody>\n",
       "</table>\n",
       "</div>"
      ],
      "text/plain": [
       "         x0        x1\n",
       "0 -0.024085  0.089268\n",
       "1 -0.133942  0.258532\n",
       "2 -0.604650 -0.603501\n",
       "3       NaN       NaN\n",
       "4 -0.478994 -1.161096\n",
       "5       NaN       NaN\n",
       "6 -0.594717 -1.284512\n",
       "7       NaN  1.251743\n",
       "8       NaN -2.001107\n",
       "9       NaN       NaN"
      ]
     },
     "execution_count": null,
     "metadata": {},
     "output_type": "execute_result"
    }
   ],
   "source": [
    "fd.data"
   ]
  },
  {
   "cell_type": "code",
   "execution_count": null,
   "id": "7227151c",
   "metadata": {},
   "outputs": [],
   "source": [
    "imp = GPFAImputation(fd.data, fd.tidy_df(complete=True, is_missing=True))"
   ]
  },
  {
   "cell_type": "code",
   "execution_count": null,
   "id": "4205f980",
   "metadata": {},
   "outputs": [
    {
     "data": {
      "text/plain": [
       "<__main__.GPFAImputation>"
      ]
     },
     "execution_count": null,
     "metadata": {},
     "output_type": "execute_result"
    }
   ],
   "source": [
    "imp"
   ]
  },
  {
   "cell_type": "code",
   "execution_count": null,
   "id": "e93898a3",
   "metadata": {},
   "outputs": [
    {
     "data": {
      "text/plain": [
       "device(type='cuda', index=0)"
      ]
     },
     "execution_count": null,
     "metadata": {},
     "output_type": "execute_result"
    }
   ],
   "source": [
    "next(imp.learner.model.parameters()).device"
   ]
  },
  {
   "cell_type": "code",
   "execution_count": null,
   "id": "b0d1a3b8",
   "metadata": {},
   "outputs": [],
   "source": [
    "imp.learner.cuda()"
   ]
  },
  {
   "cell_type": "code",
   "execution_count": null,
   "id": "a08fae59",
   "metadata": {},
   "outputs": [
    {
     "data": {
      "application/vnd.jupyter.widget-view+json": {
       "model_id": "668698faf7e34899b0ff375657f50cb4",
       "version_major": 2,
       "version_minor": 0
      },
      "text/plain": [
       "  0%|          | 0/100 [00:00<?, ?it/s]"
      ]
     },
     "metadata": {},
     "output_type": "display_data"
    },
    {
     "name": "stderr",
     "output_type": "stream",
     "text": [
      "/home/simone/anaconda3/envs/data-science/lib/python3.10/site-packages/gpytorch/lazy/triangular_lazy_tensor.py:136: UserWarning: torch.triangular_solve is deprecated in favor of torch.linalg.solve_triangularand will be removed in a future PyTorch release.\n",
      "torch.linalg.solve_triangular has its arguments reversed and does not return a copy of one of the inputs.\n",
      "X = torch.triangular_solve(B, A).solution\n",
      "should be replaced with\n",
      "X = torch.linalg.solve_triangular(A, B). (Triggered internally at  ../aten/src/ATen/native/BatchLinearAlgebra.cpp:2183.)\n",
      "  res = torch.triangular_solve(right_tensor, self.evaluate(), upper=self.upper).solution\n",
      "/home/simone/anaconda3/envs/data-science/lib/python3.10/site-packages/torch/autograd/__init__.py:173: UserWarning: operator() profile_node %840 : int[] = prim::profile_ivalue(%838)\n",
      " does not have profile information (Triggered internally at  ../torch/csrc/jit/codegen/cuda/graph_fuser.cpp:104.)\n",
      "  Variable._execution_engine.run_backward(  # Calls into the C++ engine to run the backward pass\n"
     ]
    },
    {
     "data": {
      "text/html": [
       "<div>\n",
       "<style scoped>\n",
       "    .dataframe tbody tr th:only-of-type {\n",
       "        vertical-align: middle;\n",
       "    }\n",
       "\n",
       "    .dataframe tbody tr th {\n",
       "        vertical-align: top;\n",
       "    }\n",
       "\n",
       "    .dataframe thead th {\n",
       "        text-align: right;\n",
       "    }\n",
       "</style>\n",
       "<table border=\"1\" class=\"dataframe\">\n",
       "  <thead>\n",
       "    <tr style=\"text-align: right;\">\n",
       "      <th></th>\n",
       "      <th>time</th>\n",
       "      <th>variable</th>\n",
       "      <th>mean</th>\n",
       "      <th>std</th>\n",
       "    </tr>\n",
       "  </thead>\n",
       "  <tbody>\n",
       "    <tr>\n",
       "      <th>0</th>\n",
       "      <td>0.0</td>\n",
       "      <td>x0</td>\n",
       "      <td>-0.024085</td>\n",
       "      <td>NaN</td>\n",
       "    </tr>\n",
       "    <tr>\n",
       "      <th>1</th>\n",
       "      <td>1.0</td>\n",
       "      <td>x0</td>\n",
       "      <td>-0.133942</td>\n",
       "      <td>NaN</td>\n",
       "    </tr>\n",
       "    <tr>\n",
       "      <th>2</th>\n",
       "      <td>2.0</td>\n",
       "      <td>x0</td>\n",
       "      <td>-0.604650</td>\n",
       "      <td>NaN</td>\n",
       "    </tr>\n",
       "    <tr>\n",
       "      <th>3</th>\n",
       "      <td>4.0</td>\n",
       "      <td>x0</td>\n",
       "      <td>-0.478994</td>\n",
       "      <td>NaN</td>\n",
       "    </tr>\n",
       "    <tr>\n",
       "      <th>4</th>\n",
       "      <td>6.0</td>\n",
       "      <td>x0</td>\n",
       "      <td>-0.594717</td>\n",
       "      <td>NaN</td>\n",
       "    </tr>\n",
       "    <tr>\n",
       "      <th>5</th>\n",
       "      <td>0.0</td>\n",
       "      <td>x1</td>\n",
       "      <td>0.089268</td>\n",
       "      <td>NaN</td>\n",
       "    </tr>\n",
       "    <tr>\n",
       "      <th>6</th>\n",
       "      <td>1.0</td>\n",
       "      <td>x1</td>\n",
       "      <td>0.258532</td>\n",
       "      <td>NaN</td>\n",
       "    </tr>\n",
       "    <tr>\n",
       "      <th>7</th>\n",
       "      <td>2.0</td>\n",
       "      <td>x1</td>\n",
       "      <td>-0.603501</td>\n",
       "      <td>NaN</td>\n",
       "    </tr>\n",
       "    <tr>\n",
       "      <th>8</th>\n",
       "      <td>4.0</td>\n",
       "      <td>x1</td>\n",
       "      <td>-1.161096</td>\n",
       "      <td>NaN</td>\n",
       "    </tr>\n",
       "    <tr>\n",
       "      <th>9</th>\n",
       "      <td>6.0</td>\n",
       "      <td>x1</td>\n",
       "      <td>-1.284512</td>\n",
       "      <td>NaN</td>\n",
       "    </tr>\n",
       "    <tr>\n",
       "      <th>0</th>\n",
       "      <td>3.0</td>\n",
       "      <td>x0</td>\n",
       "      <td>-0.471621</td>\n",
       "      <td>0.148920</td>\n",
       "    </tr>\n",
       "    <tr>\n",
       "      <th>1</th>\n",
       "      <td>5.0</td>\n",
       "      <td>x0</td>\n",
       "      <td>-0.993036</td>\n",
       "      <td>0.149029</td>\n",
       "    </tr>\n",
       "    <tr>\n",
       "      <th>2</th>\n",
       "      <td>7.0</td>\n",
       "      <td>x0</td>\n",
       "      <td>0.122521</td>\n",
       "      <td>0.123280</td>\n",
       "    </tr>\n",
       "    <tr>\n",
       "      <th>3</th>\n",
       "      <td>8.0</td>\n",
       "      <td>x0</td>\n",
       "      <td>-0.784288</td>\n",
       "      <td>0.123601</td>\n",
       "    </tr>\n",
       "    <tr>\n",
       "      <th>4</th>\n",
       "      <td>9.0</td>\n",
       "      <td>x0</td>\n",
       "      <td>-1.277274</td>\n",
       "      <td>0.183350</td>\n",
       "    </tr>\n",
       "    <tr>\n",
       "      <th>5</th>\n",
       "      <td>3.0</td>\n",
       "      <td>x1</td>\n",
       "      <td>-0.845578</td>\n",
       "      <td>0.291696</td>\n",
       "    </tr>\n",
       "    <tr>\n",
       "      <th>6</th>\n",
       "      <td>5.0</td>\n",
       "      <td>x1</td>\n",
       "      <td>-2.371276</td>\n",
       "      <td>0.292175</td>\n",
       "    </tr>\n",
       "    <tr>\n",
       "      <th>7</th>\n",
       "      <td>7.0</td>\n",
       "      <td>x1</td>\n",
       "      <td>1.251743</td>\n",
       "      <td>0.000000</td>\n",
       "    </tr>\n",
       "    <tr>\n",
       "      <th>8</th>\n",
       "      <td>8.0</td>\n",
       "      <td>x1</td>\n",
       "      <td>-2.001107</td>\n",
       "      <td>0.000000</td>\n",
       "    </tr>\n",
       "    <tr>\n",
       "      <th>9</th>\n",
       "      <td>9.0</td>\n",
       "      <td>x1</td>\n",
       "      <td>-3.202976</td>\n",
       "      <td>0.427827</td>\n",
       "    </tr>\n",
       "  </tbody>\n",
       "</table>\n",
       "</div>"
      ],
      "text/plain": [
       "   time variable      mean       std\n",
       "0   0.0       x0 -0.024085       NaN\n",
       "1   1.0       x0 -0.133942       NaN\n",
       "2   2.0       x0 -0.604650       NaN\n",
       "3   4.0       x0 -0.478994       NaN\n",
       "4   6.0       x0 -0.594717       NaN\n",
       "5   0.0       x1  0.089268       NaN\n",
       "6   1.0       x1  0.258532       NaN\n",
       "7   2.0       x1 -0.603501       NaN\n",
       "8   4.0       x1 -1.161096       NaN\n",
       "9   6.0       x1 -1.284512       NaN\n",
       "0   3.0       x0 -0.471621  0.148920\n",
       "1   5.0       x0 -0.993036  0.149029\n",
       "2   7.0       x0  0.122521  0.123280\n",
       "3   8.0       x0 -0.784288  0.123601\n",
       "4   9.0       x0 -1.277274  0.183350\n",
       "5   3.0       x1 -0.845578  0.291696\n",
       "6   5.0       x1 -2.371276  0.292175\n",
       "7   7.0       x1  1.251743  0.000000\n",
       "8   8.0       x1 -2.001107  0.000000\n",
       "9   9.0       x1 -3.202976  0.427827"
      ]
     },
     "execution_count": null,
     "metadata": {},
     "output_type": "execute_result"
    }
   ],
   "source": [
    "pred = imp.impute()\n",
    "pred"
   ]
  },
  {
   "cell_type": "code",
   "execution_count": null,
   "id": "fa5c3610",
   "metadata": {},
   "outputs": [
    {
     "data": {
      "text/html": [
       "<div>\n",
       "<style scoped>\n",
       "    .dataframe tbody tr th:only-of-type {\n",
       "        vertical-align: middle;\n",
       "    }\n",
       "\n",
       "    .dataframe tbody tr th {\n",
       "        vertical-align: top;\n",
       "    }\n",
       "\n",
       "    .dataframe thead th {\n",
       "        text-align: right;\n",
       "    }\n",
       "</style>\n",
       "<table border=\"1\" class=\"dataframe\">\n",
       "  <thead>\n",
       "    <tr style=\"text-align: right;\">\n",
       "      <th></th>\n",
       "      <th>x0</th>\n",
       "      <th>x1</th>\n",
       "      <th>x0_std</th>\n",
       "      <th>x1_std</th>\n",
       "      <th>time</th>\n",
       "    </tr>\n",
       "  </thead>\n",
       "  <tbody>\n",
       "    <tr>\n",
       "      <th>0</th>\n",
       "      <td>-0.024085</td>\n",
       "      <td>0.089268</td>\n",
       "      <td>NaN</td>\n",
       "      <td>NaN</td>\n",
       "      <td>0.0</td>\n",
       "    </tr>\n",
       "    <tr>\n",
       "      <th>1</th>\n",
       "      <td>-0.133942</td>\n",
       "      <td>0.258532</td>\n",
       "      <td>NaN</td>\n",
       "      <td>NaN</td>\n",
       "      <td>1.0</td>\n",
       "    </tr>\n",
       "    <tr>\n",
       "      <th>2</th>\n",
       "      <td>-0.604650</td>\n",
       "      <td>-0.603501</td>\n",
       "      <td>NaN</td>\n",
       "      <td>NaN</td>\n",
       "      <td>2.0</td>\n",
       "    </tr>\n",
       "    <tr>\n",
       "      <th>3</th>\n",
       "      <td>-0.471621</td>\n",
       "      <td>-0.845578</td>\n",
       "      <td>0.148920</td>\n",
       "      <td>0.291696</td>\n",
       "      <td>3.0</td>\n",
       "    </tr>\n",
       "    <tr>\n",
       "      <th>4</th>\n",
       "      <td>-0.478994</td>\n",
       "      <td>-1.161096</td>\n",
       "      <td>NaN</td>\n",
       "      <td>NaN</td>\n",
       "      <td>4.0</td>\n",
       "    </tr>\n",
       "    <tr>\n",
       "      <th>5</th>\n",
       "      <td>-0.993036</td>\n",
       "      <td>-2.371276</td>\n",
       "      <td>0.149029</td>\n",
       "      <td>0.292175</td>\n",
       "      <td>5.0</td>\n",
       "    </tr>\n",
       "    <tr>\n",
       "      <th>6</th>\n",
       "      <td>-0.594717</td>\n",
       "      <td>-1.284512</td>\n",
       "      <td>NaN</td>\n",
       "      <td>NaN</td>\n",
       "      <td>6.0</td>\n",
       "    </tr>\n",
       "    <tr>\n",
       "      <th>7</th>\n",
       "      <td>0.122521</td>\n",
       "      <td>1.251743</td>\n",
       "      <td>0.123280</td>\n",
       "      <td>0.000000</td>\n",
       "      <td>7.0</td>\n",
       "    </tr>\n",
       "    <tr>\n",
       "      <th>8</th>\n",
       "      <td>-0.784288</td>\n",
       "      <td>-2.001107</td>\n",
       "      <td>0.123601</td>\n",
       "      <td>0.000000</td>\n",
       "      <td>8.0</td>\n",
       "    </tr>\n",
       "    <tr>\n",
       "      <th>9</th>\n",
       "      <td>-1.277274</td>\n",
       "      <td>-3.202976</td>\n",
       "      <td>0.183350</td>\n",
       "      <td>0.427827</td>\n",
       "      <td>9.0</td>\n",
       "    </tr>\n",
       "  </tbody>\n",
       "</table>\n",
       "</div>"
      ],
      "text/plain": [
       "         x0        x1    x0_std    x1_std  time\n",
       "0 -0.024085  0.089268       NaN       NaN   0.0\n",
       "1 -0.133942  0.258532       NaN       NaN   1.0\n",
       "2 -0.604650 -0.603501       NaN       NaN   2.0\n",
       "3 -0.471621 -0.845578  0.148920  0.291696   3.0\n",
       "4 -0.478994 -1.161096       NaN       NaN   4.0\n",
       "5 -0.993036 -2.371276  0.149029  0.292175   5.0\n",
       "6 -0.594717 -1.284512       NaN       NaN   6.0\n",
       "7  0.122521  1.251743  0.123280  0.000000   7.0\n",
       "8 -0.784288 -2.001107  0.123601  0.000000   8.0\n",
       "9 -1.277274 -3.202976  0.183350  0.427827   9.0"
      ]
     },
     "execution_count": null,
     "metadata": {},
     "output_type": "execute_result"
    }
   ],
   "source": [
    "imp.impute(tidy=False)"
   ]
  },
  {
   "cell_type": "markdown",
   "id": "f88f5272",
   "metadata": {},
   "source": [
    "### Prediction plot"
   ]
  },
  {
   "cell_type": "code",
   "execution_count": null,
   "id": "b78e2dd1",
   "metadata": {},
   "outputs": [],
   "source": [
    "#| exports\n",
    "def _plot_variable(imp, complete, variable, y_label=\"\", sel=None, properties = {}):\n",
    "    \n",
    "    imp = imp[imp.variable == variable]\n",
    "\n",
    "    \n",
    "    error = alt.Chart(imp).mark_errorband().encode(\n",
    "        x = \"time\",    \n",
    "        y = alt.Y(\"err_low:Q\", title = y_label, scale=alt.Scale(zero=False)),\n",
    "        y2 = \"err_high:Q\",\n",
    "        color=alt.Color(\"variable\",\n",
    "                        legend = alt.Legend(title=[\"Line: pred. mean\", \"area: +/- 2 std\", \"(variable)\"])\n",
    "                       ),\n",
    "        tooltip = alt.Tooltip(['std', 'mean'], format=\".4\")\n",
    "    ).transform_calculate(\n",
    "        err_low = \"datum.mean - 2 * datum.std\",\n",
    "        err_high = \"datum.mean + 2 * datum.std\"\n",
    "    ).properties( **properties)\n",
    "\n",
    "    pred = alt.Chart(imp).mark_line().encode(\n",
    "        x = \"time\",    \n",
    "        y = alt.Y(\"mean:Q\", title = y_label, scale=alt.Scale(zero=False)),\n",
    "        color=\"variable\",\n",
    "    ).add_selection(\n",
    "        sel if sel is not None else alt.selection_interval(bind=\"scales\")\n",
    "    ).properties(title = variable)\n",
    "\n",
    "    base_plot = error + pred\n",
    "    \n",
    "    if complete is not None:\n",
    "\n",
    "        complete = complete[complete.variable == variable]\n",
    "        truth_plt = alt.Chart(complete).mark_point(\n",
    "            color='black',\n",
    "            strokeWidth = 1,\n",
    "            fillOpacity = 1\n",
    "        ).encode(\n",
    "            x = \"time\",\n",
    "            y = alt.Y(\"value\", title = y_label, scale=alt.Scale(zero=False)),\n",
    "            fill= alt.Fill(\"is_missing\", scale = alt.Scale(range=[\"#ffffff00\", \"black\"]),\n",
    "                           legend = alt.Legend(title =[\"Observed data\",\"(is missing)\"])),\n",
    "            shape = \"is_missing\",\n",
    "        )\n",
    "\n",
    "        base_plot = truth_plt + base_plot\n",
    "        \n",
    "    return base_plot\n",
    "    "
   ]
  },
  {
   "cell_type": "code",
   "execution_count": null,
   "id": "59fc4c4a",
   "metadata": {},
   "outputs": [
    {
     "name": "stderr",
     "output_type": "stream",
     "text": [
      "/home/simone/.local/lib/python3.10/site-packages/altair/utils/core.py:317: FutureWarning: iteritems is deprecated and will be removed in a future version. Use .items instead.\n",
      "  for col_name, dtype in df.dtypes.iteritems():\n"
     ]
    },
    {
     "data": {
      "text/html": [
       "\n",
       "<div id=\"altair-viz-63096e59bc4d469a8acbfd518b0d025b\"></div>\n",
       "<script type=\"text/javascript\">\n",
       "  var VEGA_DEBUG = (typeof VEGA_DEBUG == \"undefined\") ? {} : VEGA_DEBUG;\n",
       "  (function(spec, embedOpt){\n",
       "    let outputDiv = document.currentScript.previousElementSibling;\n",
       "    if (outputDiv.id !== \"altair-viz-63096e59bc4d469a8acbfd518b0d025b\") {\n",
       "      outputDiv = document.getElementById(\"altair-viz-63096e59bc4d469a8acbfd518b0d025b\");\n",
       "    }\n",
       "    const paths = {\n",
       "      \"vega\": \"https://cdn.jsdelivr.net/npm//vega@5?noext\",\n",
       "      \"vega-lib\": \"https://cdn.jsdelivr.net/npm//vega-lib?noext\",\n",
       "      \"vega-lite\": \"https://cdn.jsdelivr.net/npm//vega-lite@4.17.0?noext\",\n",
       "      \"vega-embed\": \"https://cdn.jsdelivr.net/npm//vega-embed@6?noext\",\n",
       "    };\n",
       "\n",
       "    function maybeLoadScript(lib, version) {\n",
       "      var key = `${lib.replace(\"-\", \"\")}_version`;\n",
       "      return (VEGA_DEBUG[key] == version) ?\n",
       "        Promise.resolve(paths[lib]) :\n",
       "        new Promise(function(resolve, reject) {\n",
       "          var s = document.createElement('script');\n",
       "          document.getElementsByTagName(\"head\")[0].appendChild(s);\n",
       "          s.async = true;\n",
       "          s.onload = () => {\n",
       "            VEGA_DEBUG[key] = version;\n",
       "            return resolve(paths[lib]);\n",
       "          };\n",
       "          s.onerror = () => reject(`Error loading script: ${paths[lib]}`);\n",
       "          s.src = paths[lib];\n",
       "        });\n",
       "    }\n",
       "\n",
       "    function showError(err) {\n",
       "      outputDiv.innerHTML = `<div class=\"error\" style=\"color:red;\">${err}</div>`;\n",
       "      throw err;\n",
       "    }\n",
       "\n",
       "    function displayChart(vegaEmbed) {\n",
       "      vegaEmbed(outputDiv, spec, embedOpt)\n",
       "        .catch(err => showError(`Javascript Error: ${err.message}<br>This usually means there's a typo in your chart specification. See the javascript console for the full traceback.`));\n",
       "    }\n",
       "\n",
       "    if(typeof define === \"function\" && define.amd) {\n",
       "      requirejs.config({paths});\n",
       "      require([\"vega-embed\"], displayChart, err => showError(`Error loading script: ${err.message}`));\n",
       "    } else {\n",
       "      maybeLoadScript(\"vega\", \"5\")\n",
       "        .then(() => maybeLoadScript(\"vega-lite\", \"4.17.0\"))\n",
       "        .then(() => maybeLoadScript(\"vega-embed\", \"6\"))\n",
       "        .catch(showError)\n",
       "        .then(() => displayChart(vegaEmbed));\n",
       "    }\n",
       "  })({\"config\": {\"view\": {\"continuousWidth\": 400, \"continuousHeight\": 300}}, \"layer\": [{\"mark\": \"errorband\", \"encoding\": {\"color\": {\"field\": \"variable\", \"legend\": {\"title\": [\"Line: pred. mean\", \"area: +/- 2 std\", \"(variable)\"]}, \"type\": \"nominal\"}, \"tooltip\": [{\"field\": \"std\", \"format\": \".4\", \"type\": \"quantitative\"}, {\"field\": \"mean\", \"format\": \".4\", \"type\": \"quantitative\"}], \"x\": {\"field\": \"time\", \"type\": \"quantitative\"}, \"y\": {\"field\": \"err_low\", \"scale\": {\"zero\": false}, \"title\": \"\", \"type\": \"quantitative\"}, \"y2\": {\"field\": \"err_high\"}}, \"transform\": [{\"calculate\": \"datum.mean - 2 * datum.std\", \"as\": \"err_low\"}, {\"calculate\": \"datum.mean + 2 * datum.std\", \"as\": \"err_high\"}]}, {\"mark\": \"line\", \"encoding\": {\"color\": {\"field\": \"variable\", \"type\": \"nominal\"}, \"x\": {\"field\": \"time\", \"type\": \"quantitative\"}, \"y\": {\"field\": \"mean\", \"scale\": {\"zero\": false}, \"title\": \"\", \"type\": \"quantitative\"}}, \"selection\": {\"selector001\": {\"type\": \"interval\", \"bind\": \"scales\"}}, \"title\": \"x1\"}], \"data\": {\"name\": \"data-875b79d60ac91bea77b43f3c9db7b7f0\"}, \"$schema\": \"https://vega.github.io/schema/vega-lite/v4.17.0.json\", \"datasets\": {\"data-875b79d60ac91bea77b43f3c9db7b7f0\": [{\"time\": 0.0, \"variable\": \"x1\", \"mean\": 0.08926843851804733, \"std\": null}, {\"time\": 1.0, \"variable\": \"x1\", \"mean\": 0.25853198766708374, \"std\": null}, {\"time\": 2.0, \"variable\": \"x1\", \"mean\": -0.6035014390945435, \"std\": null}, {\"time\": 4.0, \"variable\": \"x1\", \"mean\": -1.161096453666687, \"std\": null}, {\"time\": 6.0, \"variable\": \"x1\", \"mean\": -1.2845115661621094, \"std\": null}, {\"time\": 3.0, \"variable\": \"x1\", \"mean\": -0.8455778360366821, \"std\": 0.29169586300849915}, {\"time\": 5.0, \"variable\": \"x1\", \"mean\": -2.3712761402130127, \"std\": 0.2921750843524933}, {\"time\": 7.0, \"variable\": \"x1\", \"mean\": 1.2517428398132324, \"std\": 0.0}, {\"time\": 8.0, \"variable\": \"x1\", \"mean\": -2.0011069774627686, \"std\": 0.0}, {\"time\": 9.0, \"variable\": \"x1\", \"mean\": -3.2029762268066406, \"std\": 0.42782682180404663}]}}, {\"mode\": \"vega-lite\"});\n",
       "</script>"
      ],
      "text/plain": [
       "alt.LayerChart(...)"
      ]
     },
     "execution_count": null,
     "metadata": {},
     "output_type": "execute_result"
    }
   ],
   "source": [
    "imp_d = imp.impute(tidy=True, add_time=True)\n",
    "\n",
    "_plot_variable(imp_d, None, \"x1\")"
   ]
  },
  {
   "cell_type": "code",
   "execution_count": null,
   "id": "b336eba3",
   "metadata": {},
   "outputs": [],
   "source": [
    "#| exports\n",
    "@patch()\n",
    "def plot_pred(\n",
    "    self: GPFAImputation,\n",
    "    complete = True, # Optional true data to be plotted agaist predictions\n",
    "    units: dict = None, # Optional dict where keys are col name and value the unit (y axis labels)\n",
    "    n_cols: int = 2,\n",
    "    bind_interaction: bool =True, # Whether the sub-plots for each variable should be connected for zooming/panning\n",
    "    properties:dict = {} # addtional properties (eg. size) for altair plot\n",
    "):\n",
    "    \"Plot the prediction for each variable, optionally including true values\"\n",
    "    imp = self._impute_tidy(add_time=True) if hasattr(self, \"pred\") else self.impute(tidy=True, add_time=True)\n",
    "    \n",
    "   \n",
    "    plot_list = [alt.hconcat() for _ in range(0, imp.shape[0], n_cols)]\n",
    "    selection_scale = alt.selection_interval(bind=\"scales\", encodings=['x']) if bind_interaction else None\n",
    "    for idx, variable in enumerate(pd.unique(imp.variable)):\n",
    "        plot_list[idx // n_cols] |= _plot_variable(imp,\n",
    "                                                   self.data_complete if complete else None,\n",
    "                                                   variable,\n",
    "                                                   y_label = f\"{variable} [{units[variable]}]\" if units is not None else variable,\n",
    "                                                   sel = selection_scale, properties=properties)\n",
    "    \n",
    "    plot = alt.vconcat(*plot_list)\n",
    "    \n",
    "    return plot"
   ]
  },
  {
   "cell_type": "code",
   "execution_count": null,
   "id": "0fe0dd9a",
   "metadata": {},
   "outputs": [
    {
     "name": "stderr",
     "output_type": "stream",
     "text": [
      "/home/simone/.local/lib/python3.10/site-packages/altair/utils/core.py:317: FutureWarning: iteritems is deprecated and will be removed in a future version. Use .items instead.\n",
      "  for col_name, dtype in df.dtypes.iteritems():\n"
     ]
    },
    {
     "data": {
      "text/html": [
       "\n",
       "<div id=\"altair-viz-f666386a4dc44e99a5d453f69924cc5e\"></div>\n",
       "<script type=\"text/javascript\">\n",
       "  var VEGA_DEBUG = (typeof VEGA_DEBUG == \"undefined\") ? {} : VEGA_DEBUG;\n",
       "  (function(spec, embedOpt){\n",
       "    let outputDiv = document.currentScript.previousElementSibling;\n",
       "    if (outputDiv.id !== \"altair-viz-f666386a4dc44e99a5d453f69924cc5e\") {\n",
       "      outputDiv = document.getElementById(\"altair-viz-f666386a4dc44e99a5d453f69924cc5e\");\n",
       "    }\n",
       "    const paths = {\n",
       "      \"vega\": \"https://cdn.jsdelivr.net/npm//vega@5?noext\",\n",
       "      \"vega-lib\": \"https://cdn.jsdelivr.net/npm//vega-lib?noext\",\n",
       "      \"vega-lite\": \"https://cdn.jsdelivr.net/npm//vega-lite@4.17.0?noext\",\n",
       "      \"vega-embed\": \"https://cdn.jsdelivr.net/npm//vega-embed@6?noext\",\n",
       "    };\n",
       "\n",
       "    function maybeLoadScript(lib, version) {\n",
       "      var key = `${lib.replace(\"-\", \"\")}_version`;\n",
       "      return (VEGA_DEBUG[key] == version) ?\n",
       "        Promise.resolve(paths[lib]) :\n",
       "        new Promise(function(resolve, reject) {\n",
       "          var s = document.createElement('script');\n",
       "          document.getElementsByTagName(\"head\")[0].appendChild(s);\n",
       "          s.async = true;\n",
       "          s.onload = () => {\n",
       "            VEGA_DEBUG[key] = version;\n",
       "            return resolve(paths[lib]);\n",
       "          };\n",
       "          s.onerror = () => reject(`Error loading script: ${paths[lib]}`);\n",
       "          s.src = paths[lib];\n",
       "        });\n",
       "    }\n",
       "\n",
       "    function showError(err) {\n",
       "      outputDiv.innerHTML = `<div class=\"error\" style=\"color:red;\">${err}</div>`;\n",
       "      throw err;\n",
       "    }\n",
       "\n",
       "    function displayChart(vegaEmbed) {\n",
       "      vegaEmbed(outputDiv, spec, embedOpt)\n",
       "        .catch(err => showError(`Javascript Error: ${err.message}<br>This usually means there's a typo in your chart specification. See the javascript console for the full traceback.`));\n",
       "    }\n",
       "\n",
       "    if(typeof define === \"function\" && define.amd) {\n",
       "      requirejs.config({paths});\n",
       "      require([\"vega-embed\"], displayChart, err => showError(`Error loading script: ${err.message}`));\n",
       "    } else {\n",
       "      maybeLoadScript(\"vega\", \"5\")\n",
       "        .then(() => maybeLoadScript(\"vega-lite\", \"4.17.0\"))\n",
       "        .then(() => maybeLoadScript(\"vega-embed\", \"6\"))\n",
       "        .catch(showError)\n",
       "        .then(() => displayChart(vegaEmbed));\n",
       "    }\n",
       "  })({\"config\": {\"view\": {\"continuousWidth\": 400, \"continuousHeight\": 300}}, \"vconcat\": [{\"hconcat\": [{\"layer\": [{\"data\": {\"name\": \"data-0e934a8a657b6c7406713e274118184b\"}, \"mark\": {\"type\": \"point\", \"color\": \"black\", \"fillOpacity\": 1, \"strokeWidth\": 1}, \"encoding\": {\"fill\": {\"field\": \"is_missing\", \"legend\": {\"title\": [\"Observed data\", \"(is missing)\"]}, \"scale\": {\"range\": [\"#ffffff00\", \"black\"]}, \"type\": \"nominal\"}, \"shape\": {\"field\": \"is_missing\", \"type\": \"nominal\"}, \"x\": {\"field\": \"time\", \"type\": \"quantitative\"}, \"y\": {\"field\": \"value\", \"scale\": {\"zero\": false}, \"title\": \"x0 [x0 units]\", \"type\": \"quantitative\"}}}, {\"layer\": [{\"mark\": \"errorband\", \"encoding\": {\"color\": {\"field\": \"variable\", \"legend\": {\"title\": [\"Line: pred. mean\", \"area: +/- 2 std\", \"(variable)\"]}, \"type\": \"nominal\"}, \"tooltip\": [{\"field\": \"std\", \"format\": \".4\", \"type\": \"quantitative\"}, {\"field\": \"mean\", \"format\": \".4\", \"type\": \"quantitative\"}], \"x\": {\"field\": \"time\", \"type\": \"quantitative\"}, \"y\": {\"field\": \"err_low\", \"scale\": {\"zero\": false}, \"title\": \"x0 [x0 units]\", \"type\": \"quantitative\"}, \"y2\": {\"field\": \"err_high\"}}, \"transform\": [{\"calculate\": \"datum.mean - 2 * datum.std\", \"as\": \"err_low\"}, {\"calculate\": \"datum.mean + 2 * datum.std\", \"as\": \"err_high\"}]}, {\"mark\": \"line\", \"encoding\": {\"color\": {\"field\": \"variable\", \"type\": \"nominal\"}, \"x\": {\"field\": \"time\", \"type\": \"quantitative\"}, \"y\": {\"field\": \"mean\", \"scale\": {\"zero\": false}, \"title\": \"x0 [x0 units]\", \"type\": \"quantitative\"}}, \"selection\": {\"selector002\": {\"type\": \"interval\", \"bind\": \"scales\", \"encodings\": [\"x\"]}}, \"title\": \"x0\"}], \"data\": {\"name\": \"data-ee6932152e7453064b75fa6e8f264b4c\"}}]}, {\"layer\": [{\"data\": {\"name\": \"data-70447e524ed7988fc2a61e8cbcae3690\"}, \"mark\": {\"type\": \"point\", \"color\": \"black\", \"fillOpacity\": 1, \"strokeWidth\": 1}, \"encoding\": {\"fill\": {\"field\": \"is_missing\", \"legend\": {\"title\": [\"Observed data\", \"(is missing)\"]}, \"scale\": {\"range\": [\"#ffffff00\", \"black\"]}, \"type\": \"nominal\"}, \"shape\": {\"field\": \"is_missing\", \"type\": \"nominal\"}, \"x\": {\"field\": \"time\", \"type\": \"quantitative\"}, \"y\": {\"field\": \"value\", \"scale\": {\"zero\": false}, \"title\": \"x1 [x1 unitssss]\", \"type\": \"quantitative\"}}}, {\"layer\": [{\"mark\": \"errorband\", \"encoding\": {\"color\": {\"field\": \"variable\", \"legend\": {\"title\": [\"Line: pred. mean\", \"area: +/- 2 std\", \"(variable)\"]}, \"type\": \"nominal\"}, \"tooltip\": [{\"field\": \"std\", \"format\": \".4\", \"type\": \"quantitative\"}, {\"field\": \"mean\", \"format\": \".4\", \"type\": \"quantitative\"}], \"x\": {\"field\": \"time\", \"type\": \"quantitative\"}, \"y\": {\"field\": \"err_low\", \"scale\": {\"zero\": false}, \"title\": \"x1 [x1 unitssss]\", \"type\": \"quantitative\"}, \"y2\": {\"field\": \"err_high\"}}, \"transform\": [{\"calculate\": \"datum.mean - 2 * datum.std\", \"as\": \"err_low\"}, {\"calculate\": \"datum.mean + 2 * datum.std\", \"as\": \"err_high\"}]}, {\"mark\": \"line\", \"encoding\": {\"color\": {\"field\": \"variable\", \"type\": \"nominal\"}, \"x\": {\"field\": \"time\", \"type\": \"quantitative\"}, \"y\": {\"field\": \"mean\", \"scale\": {\"zero\": false}, \"title\": \"x1 [x1 unitssss]\", \"type\": \"quantitative\"}}, \"selection\": {\"selector002\": {\"type\": \"interval\", \"bind\": \"scales\", \"encodings\": [\"x\"]}}, \"title\": \"x1\"}], \"data\": {\"name\": \"data-875b79d60ac91bea77b43f3c9db7b7f0\"}}]}]}, {\"hconcat\": []}, {\"hconcat\": []}, {\"hconcat\": []}, {\"hconcat\": []}, {\"hconcat\": []}, {\"hconcat\": []}, {\"hconcat\": []}, {\"hconcat\": []}, {\"hconcat\": []}], \"$schema\": \"https://vega.github.io/schema/vega-lite/v4.17.0.json\", \"datasets\": {\"data-0e934a8a657b6c7406713e274118184b\": [{\"time\": 0.0, \"variable\": \"x0\", \"value\": -0.024084506556391716, \"is_missing\": false}, {\"time\": 1.0, \"variable\": \"x0\", \"value\": -0.133942112326622, \"is_missing\": false}, {\"time\": 2.0, \"variable\": \"x0\", \"value\": -0.6046499013900757, \"is_missing\": false}, {\"time\": 3.0, \"variable\": \"x0\", \"value\": 0.37177565693855286, \"is_missing\": true}, {\"time\": 4.0, \"variable\": \"x0\", \"value\": -0.4789939522743225, \"is_missing\": false}, {\"time\": 5.0, \"variable\": \"x0\", \"value\": 0.6516996622085571, \"is_missing\": true}, {\"time\": 6.0, \"variable\": \"x0\", \"value\": -0.5947169661521912, \"is_missing\": false}, {\"time\": 7.0, \"variable\": \"x0\", \"value\": 0.6358321309089661, \"is_missing\": true}, {\"time\": 8.0, \"variable\": \"x0\", \"value\": -1.3010709285736084, \"is_missing\": true}, {\"time\": 9.0, \"variable\": \"x0\", \"value\": 0.8461343050003052, \"is_missing\": true}], \"data-ee6932152e7453064b75fa6e8f264b4c\": [{\"time\": 0.0, \"variable\": \"x0\", \"mean\": -0.024084506556391716, \"std\": null}, {\"time\": 1.0, \"variable\": \"x0\", \"mean\": -0.133942112326622, \"std\": null}, {\"time\": 2.0, \"variable\": \"x0\", \"mean\": -0.6046499013900757, \"std\": null}, {\"time\": 4.0, \"variable\": \"x0\", \"mean\": -0.4789939522743225, \"std\": null}, {\"time\": 6.0, \"variable\": \"x0\", \"mean\": -0.5947169661521912, \"std\": null}, {\"time\": 3.0, \"variable\": \"x0\", \"mean\": -0.4716208577156067, \"std\": 0.14891979098320007}, {\"time\": 5.0, \"variable\": \"x0\", \"mean\": -0.9930363297462463, \"std\": 0.14902947843074799}, {\"time\": 7.0, \"variable\": \"x0\", \"mean\": 0.12252116203308105, \"std\": 0.12327951937913895}, {\"time\": 8.0, \"variable\": \"x0\", \"mean\": -0.7842875719070435, \"std\": 0.12360088527202606}, {\"time\": 9.0, \"variable\": \"x0\", \"mean\": -1.2772743701934814, \"std\": 0.1833501011133194}], \"data-70447e524ed7988fc2a61e8cbcae3690\": [{\"time\": 0.0, \"variable\": \"x1\", \"value\": 0.08926843851804733, \"is_missing\": false}, {\"time\": 1.0, \"variable\": \"x1\", \"value\": 0.25853198766708374, \"is_missing\": false}, {\"time\": 2.0, \"variable\": \"x1\", \"value\": -0.6035014390945435, \"is_missing\": false}, {\"time\": 3.0, \"variable\": \"x1\", \"value\": 0.8580458760261536, \"is_missing\": true}, {\"time\": 4.0, \"variable\": \"x1\", \"value\": -1.161096453666687, \"is_missing\": false}, {\"time\": 5.0, \"variable\": \"x1\", \"value\": 1.2603576183319092, \"is_missing\": true}, {\"time\": 6.0, \"variable\": \"x1\", \"value\": -1.2845115661621094, \"is_missing\": false}, {\"time\": 7.0, \"variable\": \"x1\", \"value\": 1.2517428398132324, \"is_missing\": false}, {\"time\": 8.0, \"variable\": \"x1\", \"value\": -2.0011069774627686, \"is_missing\": false}, {\"time\": 9.0, \"variable\": \"x1\", \"value\": 1.8596267700195312, \"is_missing\": true}], \"data-875b79d60ac91bea77b43f3c9db7b7f0\": [{\"time\": 0.0, \"variable\": \"x1\", \"mean\": 0.08926843851804733, \"std\": null}, {\"time\": 1.0, \"variable\": \"x1\", \"mean\": 0.25853198766708374, \"std\": null}, {\"time\": 2.0, \"variable\": \"x1\", \"mean\": -0.6035014390945435, \"std\": null}, {\"time\": 4.0, \"variable\": \"x1\", \"mean\": -1.161096453666687, \"std\": null}, {\"time\": 6.0, \"variable\": \"x1\", \"mean\": -1.2845115661621094, \"std\": null}, {\"time\": 3.0, \"variable\": \"x1\", \"mean\": -0.8455778360366821, \"std\": 0.29169586300849915}, {\"time\": 5.0, \"variable\": \"x1\", \"mean\": -2.3712761402130127, \"std\": 0.2921750843524933}, {\"time\": 7.0, \"variable\": \"x1\", \"mean\": 1.2517428398132324, \"std\": 0.0}, {\"time\": 8.0, \"variable\": \"x1\", \"mean\": -2.0011069774627686, \"std\": 0.0}, {\"time\": 9.0, \"variable\": \"x1\", \"mean\": -3.2029762268066406, \"std\": 0.42782682180404663}]}}, {\"mode\": \"vega-lite\"});\n",
       "</script>"
      ],
      "text/plain": [
       "alt.VConcatChart(...)"
      ]
     },
     "execution_count": null,
     "metadata": {},
     "output_type": "execute_result"
    }
   ],
   "source": [
    "imp.plot_pred(units = {'x0': 'x0 units', 'x1': 'x1 unitssss'})"
   ]
  },
  {
   "cell_type": "markdown",
   "id": "7469601c",
   "metadata": {},
   "source": [
    "The code is running correctly and as expected around the missing data point the error is band is wider"
   ]
  },
  {
   "cell_type": "markdown",
   "id": "ec0852c8",
   "metadata": {},
   "source": [
    "### Repr\n",
    "\n",
    "add `__repr__` and `__str__` to imputation objects"
   ]
  },
  {
   "cell_type": "code",
   "execution_count": null,
   "id": "8ef14f73",
   "metadata": {},
   "outputs": [
    {
     "data": {
      "text/html": [
       "<div>\n",
       "<style scoped>\n",
       "    .dataframe tbody tr th:only-of-type {\n",
       "        vertical-align: middle;\n",
       "    }\n",
       "\n",
       "    .dataframe tbody tr th {\n",
       "        vertical-align: top;\n",
       "    }\n",
       "\n",
       "    .dataframe thead th {\n",
       "        text-align: right;\n",
       "    }\n",
       "</style>\n",
       "<table border=\"1\" class=\"dataframe\">\n",
       "  <thead>\n",
       "    <tr style=\"text-align: right;\">\n",
       "      <th></th>\n",
       "      <th>x0</th>\n",
       "      <th>x1</th>\n",
       "    </tr>\n",
       "  </thead>\n",
       "  <tbody>\n",
       "    <tr>\n",
       "      <th>0</th>\n",
       "      <td>-0.024085</td>\n",
       "      <td>0.089268</td>\n",
       "    </tr>\n",
       "    <tr>\n",
       "      <th>1</th>\n",
       "      <td>-0.133942</td>\n",
       "      <td>0.258532</td>\n",
       "    </tr>\n",
       "    <tr>\n",
       "      <th>2</th>\n",
       "      <td>-0.604650</td>\n",
       "      <td>-0.603501</td>\n",
       "    </tr>\n",
       "    <tr>\n",
       "      <th>3</th>\n",
       "      <td>NaN</td>\n",
       "      <td>NaN</td>\n",
       "    </tr>\n",
       "    <tr>\n",
       "      <th>4</th>\n",
       "      <td>-0.478994</td>\n",
       "      <td>-1.161096</td>\n",
       "    </tr>\n",
       "    <tr>\n",
       "      <th>5</th>\n",
       "      <td>NaN</td>\n",
       "      <td>NaN</td>\n",
       "    </tr>\n",
       "    <tr>\n",
       "      <th>6</th>\n",
       "      <td>-0.594717</td>\n",
       "      <td>-1.284512</td>\n",
       "    </tr>\n",
       "    <tr>\n",
       "      <th>7</th>\n",
       "      <td>NaN</td>\n",
       "      <td>1.251743</td>\n",
       "    </tr>\n",
       "    <tr>\n",
       "      <th>8</th>\n",
       "      <td>NaN</td>\n",
       "      <td>-2.001107</td>\n",
       "    </tr>\n",
       "    <tr>\n",
       "      <th>9</th>\n",
       "      <td>NaN</td>\n",
       "      <td>NaN</td>\n",
       "    </tr>\n",
       "  </tbody>\n",
       "</table>\n",
       "</div>"
      ],
      "text/plain": [
       "         x0        x1\n",
       "0 -0.024085  0.089268\n",
       "1 -0.133942  0.258532\n",
       "2 -0.604650 -0.603501\n",
       "3       NaN       NaN\n",
       "4 -0.478994 -1.161096\n",
       "5       NaN       NaN\n",
       "6 -0.594717 -1.284512\n",
       "7       NaN  1.251743\n",
       "8       NaN -2.001107\n",
       "9       NaN       NaN"
      ]
     },
     "execution_count": null,
     "metadata": {},
     "output_type": "execute_result"
    }
   ],
   "source": [
    "imp.data"
   ]
  },
  {
   "cell_type": "code",
   "execution_count": null,
   "id": "7842fded",
   "metadata": {},
   "outputs": [],
   "source": [
    "#| exports\n",
    "@patch\n",
    "def __repr__(self: GPFAImputation):\n",
    "    return f\"\"\"GPFA Imputation:\n",
    "    N obs: {self.data.shape[0]}\n",
    "    N features {self.data.shape[1]} ({', '.join(self.data.columns)})\n",
    "    N missing observations {(~self.cond_idx).sum()}\"\"\"\n",
    "\n",
    "@patch\n",
    "def __str__(self: GPFAImputation):\n",
    "    return self.__repr__()"
   ]
  },
  {
   "cell_type": "code",
   "execution_count": null,
   "id": "fb089a3d",
   "metadata": {},
   "outputs": [
    {
     "data": {
      "text/plain": [
       "GPFA Imputation:\n",
       "    N obs: 10\n",
       "    N features 2 (x0, x1)\n",
       "    N missing observations 8"
      ]
     },
     "execution_count": null,
     "metadata": {},
     "output_type": "execute_result"
    }
   ],
   "source": [
    "imp"
   ]
  },
  {
   "cell_type": "code",
   "execution_count": null,
   "id": "f2605a62",
   "metadata": {},
   "outputs": [
    {
     "data": {
      "text/plain": [
       "'GPFA Imputation:\\n    N obs: 10\\n    N features 2 (x0, x1)\\n    N missing observations 8'"
      ]
     },
     "execution_count": null,
     "metadata": {},
     "output_type": "execute_result"
    }
   ],
   "source": [
    "str(imp)"
   ]
  },
  {
   "cell_type": "markdown",
   "id": "335942e1",
   "metadata": {},
   "source": [
    "### Metrics"
   ]
  },
  {
   "cell_type": "code",
   "execution_count": null,
   "id": "f2f1ed73",
   "metadata": {},
   "outputs": [],
   "source": [
    "#| exports\n",
    "@patch\n",
    "def compute_metric(self: GPFAImputation,\n",
    "                   metric, # function that takes as argument true and pred and returns the metric\n",
    "                   metric_name = 'metric'):\n",
    "    pred = self.impute(tidy=True, add_time=True)\n",
    "    \n",
    "    df = pd.merge(pred, self.data_complete, on = ['time','variable'])\n",
    "    \n",
    "    vars = []\n",
    "    \n",
    "    for var in df.variable.unique():\n",
    "        df_var = df[df.variable == var]\n",
    "        vars.append({'variable': var,\n",
    "                      metric_name: metric(df_var['value'], df_var['mean'])})\n",
    "    \n",
    "    return pd.DataFrame(vars)"
   ]
  },
  {
   "cell_type": "code",
   "execution_count": null,
   "id": "af35b7ec",
   "metadata": {},
   "outputs": [],
   "source": [
    "#| exports\n",
    "@patch\n",
    "def rmse(self: GPFAImputation):\n",
    "    \n",
    "    return self.compute_metric(lambda x, y: np.sqrt(mean_squared_error(x,y)), \"rmse\")\n",
    "    "
   ]
  },
  {
   "cell_type": "code",
   "execution_count": null,
   "id": "dd1edbfd",
   "metadata": {},
   "outputs": [
    {
     "data": {
      "text/html": [
       "<div>\n",
       "<style scoped>\n",
       "    .dataframe tbody tr th:only-of-type {\n",
       "        vertical-align: middle;\n",
       "    }\n",
       "\n",
       "    .dataframe tbody tr th {\n",
       "        vertical-align: top;\n",
       "    }\n",
       "\n",
       "    .dataframe thead th {\n",
       "        text-align: right;\n",
       "    }\n",
       "</style>\n",
       "<table border=\"1\" class=\"dataframe\">\n",
       "  <thead>\n",
       "    <tr style=\"text-align: right;\">\n",
       "      <th></th>\n",
       "      <th>variable</th>\n",
       "      <th>rmse</th>\n",
       "    </tr>\n",
       "  </thead>\n",
       "  <tbody>\n",
       "    <tr>\n",
       "      <th>0</th>\n",
       "      <td>x0</td>\n",
       "      <td>0.919559</td>\n",
       "    </tr>\n",
       "    <tr>\n",
       "      <th>1</th>\n",
       "      <td>x1</td>\n",
       "      <td>2.042573</td>\n",
       "    </tr>\n",
       "  </tbody>\n",
       "</table>\n",
       "</div>"
      ],
      "text/plain": [
       "  variable      rmse\n",
       "0       x0  0.919559\n",
       "1       x1  2.042573"
      ]
     },
     "execution_count": null,
     "metadata": {},
     "output_type": "execute_result"
    }
   ],
   "source": [
    "imp.rmse()"
   ]
  },
  {
   "cell_type": "code",
   "execution_count": null,
   "id": "864cdfc6",
   "metadata": {},
   "outputs": [],
   "source": [
    "#| exports\n",
    "@patch\n",
    "def r2(self: GPFAImputation):\n",
    "    return self.compute_metric(r2_score, \"r2\")"
   ]
  },
  {
   "cell_type": "code",
   "execution_count": null,
   "id": "a7853079",
   "metadata": {},
   "outputs": [
    {
     "data": {
      "text/html": [
       "<div>\n",
       "<style scoped>\n",
       "    .dataframe tbody tr th:only-of-type {\n",
       "        vertical-align: middle;\n",
       "    }\n",
       "\n",
       "    .dataframe tbody tr th {\n",
       "        vertical-align: top;\n",
       "    }\n",
       "\n",
       "    .dataframe thead th {\n",
       "        text-align: right;\n",
       "    }\n",
       "</style>\n",
       "<table border=\"1\" class=\"dataframe\">\n",
       "  <thead>\n",
       "    <tr style=\"text-align: right;\">\n",
       "      <th></th>\n",
       "      <th>variable</th>\n",
       "      <th>r2</th>\n",
       "    </tr>\n",
       "  </thead>\n",
       "  <tbody>\n",
       "    <tr>\n",
       "      <th>0</th>\n",
       "      <td>x0</td>\n",
       "      <td>-0.965005</td>\n",
       "    </tr>\n",
       "    <tr>\n",
       "      <th>1</th>\n",
       "      <td>x1</td>\n",
       "      <td>-1.825945</td>\n",
       "    </tr>\n",
       "  </tbody>\n",
       "</table>\n",
       "</div>"
      ],
      "text/plain": [
       "  variable        r2\n",
       "0       x0 -0.965005\n",
       "1       x1 -1.825945"
      ]
     },
     "execution_count": null,
     "metadata": {},
     "output_type": "execute_result"
    }
   ],
   "source": [
    "imp.r2()"
   ]
  },
  {
   "cell_type": "markdown",
   "id": "0e4b7834",
   "metadata": {},
   "source": [
    "## CPU \n",
    "\n",
    "check that the CPU support is still working"
   ]
  },
  {
   "cell_type": "code",
   "execution_count": null,
   "id": "30628594",
   "metadata": {},
   "outputs": [],
   "source": [
    "imp_cpu = GPFAImputation(fd.data, fd.tidy_df(complete=True, is_missing=True), cuda=False)"
   ]
  },
  {
   "cell_type": "code",
   "execution_count": null,
   "id": "8b992dfc-2086-4434-9ac8-cda460fdf046",
   "metadata": {},
   "outputs": [
    {
     "data": {
      "application/vnd.jupyter.widget-view+json": {
       "model_id": "380ae38148e7468584cdc5abbc2b36a4",
       "version_major": 2,
       "version_minor": 0
      },
      "text/plain": [
       "  0%|          | 0/100 [00:00<?, ?it/s]"
      ]
     },
     "metadata": {},
     "output_type": "display_data"
    },
    {
     "data": {
      "text/html": [
       "<div>\n",
       "<style scoped>\n",
       "    .dataframe tbody tr th:only-of-type {\n",
       "        vertical-align: middle;\n",
       "    }\n",
       "\n",
       "    .dataframe tbody tr th {\n",
       "        vertical-align: top;\n",
       "    }\n",
       "\n",
       "    .dataframe thead th {\n",
       "        text-align: right;\n",
       "    }\n",
       "</style>\n",
       "<table border=\"1\" class=\"dataframe\">\n",
       "  <thead>\n",
       "    <tr style=\"text-align: right;\">\n",
       "      <th></th>\n",
       "      <th>time</th>\n",
       "      <th>variable</th>\n",
       "      <th>mean</th>\n",
       "      <th>std</th>\n",
       "    </tr>\n",
       "  </thead>\n",
       "  <tbody>\n",
       "    <tr>\n",
       "      <th>0</th>\n",
       "      <td>0.0</td>\n",
       "      <td>x0</td>\n",
       "      <td>-0.024085</td>\n",
       "      <td>NaN</td>\n",
       "    </tr>\n",
       "    <tr>\n",
       "      <th>1</th>\n",
       "      <td>1.0</td>\n",
       "      <td>x0</td>\n",
       "      <td>-0.133942</td>\n",
       "      <td>NaN</td>\n",
       "    </tr>\n",
       "    <tr>\n",
       "      <th>2</th>\n",
       "      <td>2.0</td>\n",
       "      <td>x0</td>\n",
       "      <td>-0.604650</td>\n",
       "      <td>NaN</td>\n",
       "    </tr>\n",
       "    <tr>\n",
       "      <th>3</th>\n",
       "      <td>4.0</td>\n",
       "      <td>x0</td>\n",
       "      <td>-0.478994</td>\n",
       "      <td>NaN</td>\n",
       "    </tr>\n",
       "    <tr>\n",
       "      <th>4</th>\n",
       "      <td>6.0</td>\n",
       "      <td>x0</td>\n",
       "      <td>-0.594717</td>\n",
       "      <td>NaN</td>\n",
       "    </tr>\n",
       "    <tr>\n",
       "      <th>5</th>\n",
       "      <td>0.0</td>\n",
       "      <td>x1</td>\n",
       "      <td>0.089268</td>\n",
       "      <td>NaN</td>\n",
       "    </tr>\n",
       "    <tr>\n",
       "      <th>6</th>\n",
       "      <td>1.0</td>\n",
       "      <td>x1</td>\n",
       "      <td>0.258532</td>\n",
       "      <td>NaN</td>\n",
       "    </tr>\n",
       "    <tr>\n",
       "      <th>7</th>\n",
       "      <td>2.0</td>\n",
       "      <td>x1</td>\n",
       "      <td>-0.603501</td>\n",
       "      <td>NaN</td>\n",
       "    </tr>\n",
       "    <tr>\n",
       "      <th>8</th>\n",
       "      <td>4.0</td>\n",
       "      <td>x1</td>\n",
       "      <td>-1.161096</td>\n",
       "      <td>NaN</td>\n",
       "    </tr>\n",
       "    <tr>\n",
       "      <th>9</th>\n",
       "      <td>6.0</td>\n",
       "      <td>x1</td>\n",
       "      <td>-1.284512</td>\n",
       "      <td>NaN</td>\n",
       "    </tr>\n",
       "    <tr>\n",
       "      <th>0</th>\n",
       "      <td>3.0</td>\n",
       "      <td>x0</td>\n",
       "      <td>-0.471621</td>\n",
       "      <td>0.148920</td>\n",
       "    </tr>\n",
       "    <tr>\n",
       "      <th>1</th>\n",
       "      <td>5.0</td>\n",
       "      <td>x0</td>\n",
       "      <td>-0.993036</td>\n",
       "      <td>0.149029</td>\n",
       "    </tr>\n",
       "    <tr>\n",
       "      <th>2</th>\n",
       "      <td>7.0</td>\n",
       "      <td>x0</td>\n",
       "      <td>0.122522</td>\n",
       "      <td>0.123280</td>\n",
       "    </tr>\n",
       "    <tr>\n",
       "      <th>3</th>\n",
       "      <td>8.0</td>\n",
       "      <td>x0</td>\n",
       "      <td>-0.784288</td>\n",
       "      <td>0.123601</td>\n",
       "    </tr>\n",
       "    <tr>\n",
       "      <th>4</th>\n",
       "      <td>9.0</td>\n",
       "      <td>x0</td>\n",
       "      <td>-1.277274</td>\n",
       "      <td>0.183350</td>\n",
       "    </tr>\n",
       "    <tr>\n",
       "      <th>5</th>\n",
       "      <td>3.0</td>\n",
       "      <td>x1</td>\n",
       "      <td>-0.845577</td>\n",
       "      <td>0.291696</td>\n",
       "    </tr>\n",
       "    <tr>\n",
       "      <th>6</th>\n",
       "      <td>5.0</td>\n",
       "      <td>x1</td>\n",
       "      <td>-2.371276</td>\n",
       "      <td>0.292175</td>\n",
       "    </tr>\n",
       "    <tr>\n",
       "      <th>7</th>\n",
       "      <td>7.0</td>\n",
       "      <td>x1</td>\n",
       "      <td>1.251743</td>\n",
       "      <td>0.000000</td>\n",
       "    </tr>\n",
       "    <tr>\n",
       "      <th>8</th>\n",
       "      <td>8.0</td>\n",
       "      <td>x1</td>\n",
       "      <td>-2.001107</td>\n",
       "      <td>0.000000</td>\n",
       "    </tr>\n",
       "    <tr>\n",
       "      <th>9</th>\n",
       "      <td>9.0</td>\n",
       "      <td>x1</td>\n",
       "      <td>-3.202976</td>\n",
       "      <td>0.427827</td>\n",
       "    </tr>\n",
       "  </tbody>\n",
       "</table>\n",
       "</div>"
      ],
      "text/plain": [
       "   time variable      mean       std\n",
       "0   0.0       x0 -0.024085       NaN\n",
       "1   1.0       x0 -0.133942       NaN\n",
       "2   2.0       x0 -0.604650       NaN\n",
       "3   4.0       x0 -0.478994       NaN\n",
       "4   6.0       x0 -0.594717       NaN\n",
       "5   0.0       x1  0.089268       NaN\n",
       "6   1.0       x1  0.258532       NaN\n",
       "7   2.0       x1 -0.603501       NaN\n",
       "8   4.0       x1 -1.161096       NaN\n",
       "9   6.0       x1 -1.284512       NaN\n",
       "0   3.0       x0 -0.471621  0.148920\n",
       "1   5.0       x0 -0.993036  0.149029\n",
       "2   7.0       x0  0.122522  0.123280\n",
       "3   8.0       x0 -0.784288  0.123601\n",
       "4   9.0       x0 -1.277274  0.183350\n",
       "5   3.0       x1 -0.845577  0.291696\n",
       "6   5.0       x1 -2.371276  0.292175\n",
       "7   7.0       x1  1.251743  0.000000\n",
       "8   8.0       x1 -2.001107  0.000000\n",
       "9   9.0       x1 -3.202976  0.427827"
      ]
     },
     "execution_count": null,
     "metadata": {},
     "output_type": "execute_result"
    }
   ],
   "source": [
    "imp_cpu.impute()"
   ]
  },
  {
   "cell_type": "code",
   "execution_count": null,
   "id": "58580804-365d-447a-9a5e-3463f4846b74",
   "metadata": {},
   "outputs": [],
   "source": [
    "#| hide\n",
    "from nbdev import nbdev_export\n",
    "nbdev_export()"
   ]
  }
 ],
 "metadata": {
  "kernelspec": {
   "display_name": "data_science",
   "language": "python",
   "name": "data_science"
  }
 },
 "nbformat": 4,
 "nbformat_minor": 5
}
