{
 "cells": [
  {
   "cell_type": "code",
   "execution_count": null,
   "id": "910de00b-dedd-4710-b53d-b891eeab7c80",
   "metadata": {},
   "outputs": [],
   "source": [
    "#| hide\n",
    "#| default_exp simple_gp_imputation"
   ]
  },
  {
   "cell_type": "markdown",
   "id": "86e6fca7-ccd7-4af6-b817-e4e2c77515d6",
   "metadata": {},
   "source": [
    "# Simple GP Imputation\n",
    "\n",
    "> Imputation using a different Gaussian Processes for each variable"
   ]
  },
  {
   "cell_type": "code",
   "execution_count": null,
   "id": "3116f056-2ce3-44c4-b665-a7620eca76eb",
   "metadata": {},
   "outputs": [],
   "source": [
    "#| hide\n",
    "#| export\n",
    "from gpfa_imputation.data_preparation import *\n",
    "from gpfa_imputation.learner import NormParam\n",
    "from gpfa_imputation.imputation import GPFAResult\n",
    "import gpytorch\n",
    "import torch\n",
    "from torch import Tensor\n",
    "from tqdm.auto import tqdm\n",
    "\n",
    "import pandas as pd\n",
    "import numpy as np\n",
    "import matplotlib.pyplot as plt"
   ]
  },
  {
   "cell_type": "markdown",
   "id": "dd1f34fb-9f5e-43f4-8094-a2ecf15840b5",
   "metadata": {},
   "source": [
    "## GP"
   ]
  },
  {
   "cell_type": "code",
   "execution_count": null,
   "id": "aacc14e6-c6d8-4fbc-9672-51fb06f7bb06",
   "metadata": {},
   "outputs": [],
   "source": [
    "#| export\n",
    "class SimpleGP(gpytorch.models.ExactGP):\n",
    "    \"Exact GP implemnetation using GPyTorch\"\n",
    "    def __init__(self, train_x, train_y, likelihood):\n",
    "        super().__init__(train_x, train_y, likelihood)\n",
    "        self.mean_module = gpytorch.means.ConstantMean()\n",
    "        self.covar_module = gpytorch.kernels.ScaleKernel(gpytorch.kernels.RBFKernel())\n",
    "\n",
    "    def forward(self, x, **params):\n",
    "        mean_x = self.mean_module(x)\n",
    "        covar_x = self.covar_module(x, **params)\n",
    "        return gpytorch.distributions.MultivariateNormal(mean_x, covar_x)"
   ]
  },
  {
   "cell_type": "markdown",
   "id": "87517080-2248-4f2c-9b57-5a12c67659df",
   "metadata": {},
   "source": [
    "## Learner"
   ]
  },
  {
   "cell_type": "code",
   "execution_count": null,
   "id": "daa11e43-c06c-4823-a2cc-48e8935c693e",
   "metadata": {},
   "outputs": [],
   "source": [
    "#| export\n",
    "class SimpleGPLearner():\n",
    "    \"Learner for a simple GP process. It handles only 1 dimensional time series\"\n",
    "    def __init__(self,\n",
    "                 X: Tensor, # (n_obs) Univariate time series\n",
    "                 T: Tensor = None, # (n_obs) Vector of time of observations.\n",
    "                 # If none each observation are considered to be at the same distance\n",
    "                ):\n",
    "        self.prepare_X(X)\n",
    "        if T is None: self.default_time(X)\n",
    "        else: self.T = T\n",
    "        self.T = self.T.to(X.device) # to support GPUs\n",
    "        \n",
    "        self.likelihood = gpytorch.likelihoods.GaussianLikelihood()\n",
    "        self.model = SimpleGP(self.T, self.X, self.likelihood)\n",
    "                \n",
    "    def prepare_X(self, X):\n",
    "        self.norm = Normalizer(X)\n",
    "        self.X = self.norm.normalize(X)\n",
    "        \n",
    "    def default_time(self, X):\n",
    "        self.T = torch.arange(X.shape[0])\n",
    "        \n",
    "    \n",
    "    def train(self, n_iter=100, lr=0.1):\n",
    "        # need to enable training mode\n",
    "        self.model.train()\n",
    "        self.likelihood.train()\n",
    "        \n",
    "        # Use the adam optimizer\n",
    "        optimizer = torch.optim.Adam(self.model.parameters(), lr=lr) \n",
    "        \n",
    "        # create new losses\n",
    "        if not hasattr(self, 'losses'):\n",
    "            self.losses = torch.zeros(n_iter)\n",
    "            loss_offset = 0\n",
    "        # append to previous losses\n",
    "        else:\n",
    "            loss_offset = self.losses.shape[0]\n",
    "            self.losses = torch.concat([self.losses, torch.zeros(n_iter)])\n",
    "            \n",
    "        # \"Loss\" for GPs - the marginal log likelihood\n",
    "        mll = gpytorch.mlls.ExactMarginalLogLikelihood(self.likelihood, self.model)\n",
    "        for i in tqdm(range(n_iter)):\n",
    "            # Zero gradients from previous iteration\n",
    "            optimizer.zero_grad()\n",
    "            # Output from model\n",
    "            output = self.model(self.T)\n",
    "            # Calc loss and backprop gradients\n",
    "            loss = -mll(output, self.X)\n",
    "            self.losses[i + loss_offset] = loss.detach()\n",
    "            loss.backward()\n",
    "            self.printer(i)\n",
    "\n",
    "            optimizer.step()\n",
    "        \n",
    "        \n",
    "    def printer(self, i):\n",
    "        pass\n",
    "    \n",
    "    @torch.no_grad() # don't calc gradients on predictions\n",
    "    def predict_raw(self, T):\n",
    "        self.model.eval()\n",
    "        self.likelihood.eval()\n",
    "        return self.likelihood(self.model(T))\n",
    "\n",
    "    @torch.no_grad() # needed because raw output still has gradients attached\n",
    "    def prediction_from_raw(self, raw_mean, raw_std):\n",
    "        \"\"\" Takes a raw prediction and produces and final prediction, by reshaping and reversing normalization\"\"\"\n",
    "        pred_mean = self.norm.reverse_normalize(raw_mean)\n",
    "        pred_std = self.norm.reverse_normalize_std(raw_std)\n",
    "\n",
    "        #remove pytorch gradients\n",
    "        return NormParam(pred_mean.detach(), pred_std.detach())\n",
    "\n",
    "    def predict(self, T):\n",
    "        pred_raw = self.predict_raw(T)\n",
    "        return self.prediction_from_raw(pred_raw.mean, pred_raw.stddev)"
   ]
  },
  {
   "cell_type": "code",
   "execution_count": null,
   "id": "30ec8725-5ff2-4f75-b300-bb17a71c176e",
   "metadata": {},
   "outputs": [],
   "source": [
    "X = torch.tensor([1.,2,3,4])"
   ]
  },
  {
   "cell_type": "code",
   "execution_count": null,
   "id": "81f77c94-4fa9-4094-99b3-720656972212",
   "metadata": {},
   "outputs": [],
   "source": [
    "l = SimpleGPLearner(X)"
   ]
  },
  {
   "cell_type": "code",
   "execution_count": null,
   "id": "6e7dfc04-5902-4e8e-ba2c-21d283e650b2",
   "metadata": {},
   "outputs": [
    {
     "data": {
      "application/vnd.jupyter.widget-view+json": {
       "model_id": "d2f6ee130c44463bb7907b9a423cd078",
       "version_major": 2,
       "version_minor": 0
      },
      "text/plain": [
       "  0%|          | 0/100 [00:00<?, ?it/s]"
      ]
     },
     "metadata": {},
     "output_type": "display_data"
    },
    {
     "name": "stderr",
     "output_type": "stream",
     "text": [
      "/home/simone/anaconda3/envs/data-science/lib/python3.10/site-packages/gpytorch/lazy/triangular_lazy_tensor.py:136: UserWarning: torch.triangular_solve is deprecated in favor of torch.linalg.solve_triangularand will be removed in a future PyTorch release.\n",
      "torch.linalg.solve_triangular has its arguments reversed and does not return a copy of one of the inputs.\n",
      "X = torch.triangular_solve(B, A).solution\n",
      "should be replaced with\n",
      "X = torch.linalg.solve_triangular(A, B). (Triggered internally at  ../aten/src/ATen/native/BatchLinearAlgebra.cpp:2183.)\n",
      "  res = torch.triangular_solve(right_tensor, self.evaluate(), upper=self.upper).solution\n"
     ]
    }
   ],
   "source": [
    "l.train()"
   ]
  },
  {
   "cell_type": "code",
   "execution_count": null,
   "id": "68aa6252-cd22-497a-8e79-c3cb04d38e0d",
   "metadata": {},
   "outputs": [
    {
     "data": {
      "text/plain": [
       "NormalParameters(mean=tensor([5.5955, 6.4173]), std=tensor([0.1980, 0.6468]))"
      ]
     },
     "execution_count": null,
     "metadata": {},
     "output_type": "execute_result"
    }
   ],
   "source": [
    "l.predict(torch.tensor([5, 7]))"
   ]
  },
  {
   "cell_type": "markdown",
   "id": "a83303db-b94c-4438-801d-7d5cb9688ae7",
   "metadata": {},
   "source": [
    "Imputation"
   ]
  },
  {
   "cell_type": "markdown",
   "id": "c666bb3e-8d11-4580-a31e-c99b47d91d1d",
   "metadata": {},
   "source": [
    "The imputation using simple GPs make a separate GP process for each variable, which are completely independent"
   ]
  },
  {
   "cell_type": "code",
   "execution_count": null,
   "id": "d0098223-2f12-4c30-a7a8-27fc3a868631",
   "metadata": {},
   "outputs": [],
   "source": [
    "#| export\n",
    "class SimpleGPImputationExplorer:\n",
    "    def __init__(\n",
    "        self,\n",
    "        data: pd.DataFrame , #observed data with missing data as NA\n",
    "        cuda = False, # Use GPU?\n",
    "    ):\n",
    "        self.data = data\n",
    "        \n",
    "        device = 'cuda' if cuda else 'cpu'\n",
    "        \n",
    "        self.T = torch.arange(0, len(data), dtype=torch.float32, device=device) # time is encoded with a increase of 1\n",
    "        \n",
    "        # Training data\n",
    "        self.train_idx = ~self.data.isna().any(axis=1)\n",
    "        self.train_data = torch.tensor(self.data[self.train_idx].to_numpy().astype(np.float32), device=device)\n",
    "        self.train_T = self.T[self.train_idx]\n",
    "        \n",
    "        self.learners = []\n",
    "        \n",
    "        for i in range(self.data.shape[1]):\n",
    "            self.make_var_learner(i)\n",
    "        \n",
    "                       \n",
    "        # if cuda: self.learner.cuda()\n",
    "        \n",
    "    def make_var_learner(self, i):\n",
    "        # get only the ith column from the data\n",
    "        x = self.train_data[:,i]\n",
    "        learner = SimpleGPLearner(x, self.train_T)\n",
    "        self.learners.append(learner)\n",
    "\n",
    "        \n",
    "    def fit(self):\n",
    "        \"Fit learners to training data\"\n",
    "        \n",
    "        for learner in self.learners:\n",
    "            learner.train()\n",
    "            \n",
    "        return self\n",
    "\n",
    "    def predict(self):\n",
    "        \n",
    "        # return always tidy df\n",
    "        \n",
    "        preds = []\n",
    "        \n",
    "        for learner, feature_name in zip(self.learners, self.data.columns):\n",
    "            pred = learner.predict(self.T)\n",
    "            pred_mean = pd.DataFrame(pred.mean.cpu(), columns = [\"mean\"]).assign(time = self.T.cpu())\n",
    "            pred_std = pd.DataFrame(pred.std.cpu(), columns = [\"std\"]).assign(time = self.T.cpu())\n",
    "            \n",
    "            pred = pd.merge(pred_mean, pred_std, on='time').assign(variable = feature_name)\n",
    "            preds.append(pred)\n",
    "                    \n",
    "        \n",
    "        return pd.concat(preds)\n",
    "    \n",
    "    def fit_predict(self):\n",
    "        self.fit()\n",
    "        return self.predict()\n",
    "    \n",
    "    def to_result(self, data_complete, units=None):\n",
    "        # small hack set learner as None\n",
    "        return GPFAResult(self.predict(), data_complete, learner=None, units=units)\n",
    "    \n",
    "    def __repr__(self):\n",
    "        return f\"\"\"Simple GP Imputation Explorer:\n",
    "    N obs: {self.data.shape[0]}\n",
    "    N features {self.data.shape[1]} ({', '.join(self.data.columns)})\n",
    "    N missing observations {self.data.isna().to_numpy().flatten().sum()}\"\"\"\n",
    "\n",
    "    def __str__(self):\n",
    "        return self.__repr__()"
   ]
  },
  {
   "cell_type": "code",
   "execution_count": null,
   "id": "c88ab2a7-6ed7-4a3f-b4c4-c827994d11fa",
   "metadata": {},
   "outputs": [],
   "source": [
    "fd = GPFADataTest.generate(2, 7).add_gap(3, [\"x1\"]).add_gap(2, [\"x0\"])"
   ]
  },
  {
   "cell_type": "code",
   "execution_count": null,
   "id": "42d3f5b7-41f6-4e6b-8788-f8d84725100d",
   "metadata": {},
   "outputs": [],
   "source": [
    "gp_imp = SimpleGPImputationExplorer(fd.data)"
   ]
  },
  {
   "cell_type": "code",
   "execution_count": null,
   "id": "2b51fcdf-426b-4278-9efd-4dd2f489c223",
   "metadata": {},
   "outputs": [
    {
     "data": {
      "text/plain": [
       "Simple GP Imputation Explorer:\n",
       "    N obs: 7\n",
       "    N features 2 (x0, x1)\n",
       "    N missing observations 5"
      ]
     },
     "execution_count": null,
     "metadata": {},
     "output_type": "execute_result"
    }
   ],
   "source": [
    "gp_imp"
   ]
  },
  {
   "cell_type": "code",
   "execution_count": null,
   "id": "563d2711-9a40-4b69-8fd2-93e5cbd5c0bf",
   "metadata": {},
   "outputs": [
    {
     "data": {
      "application/vnd.jupyter.widget-view+json": {
       "model_id": "1cc971fb2f4b40b38c77371b0730479a",
       "version_major": 2,
       "version_minor": 0
      },
      "text/plain": [
       "  0%|          | 0/100 [00:00<?, ?it/s]"
      ]
     },
     "metadata": {},
     "output_type": "display_data"
    },
    {
     "data": {
      "application/vnd.jupyter.widget-view+json": {
       "model_id": "e4c4fec51c15458c9405dbc251cce843",
       "version_major": 2,
       "version_minor": 0
      },
      "text/plain": [
       "  0%|          | 0/100 [00:00<?, ?it/s]"
      ]
     },
     "metadata": {},
     "output_type": "display_data"
    },
    {
     "data": {
      "text/plain": [
       "Simple GP Imputation Explorer:\n",
       "    N obs: 7\n",
       "    N features 2 (x0, x1)\n",
       "    N missing observations 5"
      ]
     },
     "execution_count": null,
     "metadata": {},
     "output_type": "execute_result"
    }
   ],
   "source": [
    "gp_imp.fit()"
   ]
  },
  {
   "cell_type": "code",
   "execution_count": null,
   "id": "84e6dbfa-5e92-4d39-a349-0e9447f8f6e8",
   "metadata": {},
   "outputs": [
    {
     "data": {
      "text/plain": [
       "NormalParameters(mean=tensor([-0.1743]), std=tensor([0.1310]))"
      ]
     },
     "execution_count": null,
     "metadata": {},
     "output_type": "execute_result"
    }
   ],
   "source": [
    "gp_imp.learners[0].predict(torch.tensor([3.]))"
   ]
  },
  {
   "cell_type": "code",
   "execution_count": null,
   "id": "c97e701c-0346-435b-9403-8c5e1d8c3e63",
   "metadata": {},
   "outputs": [
    {
     "data": {
      "text/html": [
       "<div>\n",
       "<style scoped>\n",
       "    .dataframe tbody tr th:only-of-type {\n",
       "        vertical-align: middle;\n",
       "    }\n",
       "\n",
       "    .dataframe tbody tr th {\n",
       "        vertical-align: top;\n",
       "    }\n",
       "\n",
       "    .dataframe thead th {\n",
       "        text-align: right;\n",
       "    }\n",
       "</style>\n",
       "<table border=\"1\" class=\"dataframe\">\n",
       "  <thead>\n",
       "    <tr style=\"text-align: right;\">\n",
       "      <th></th>\n",
       "      <th>x0</th>\n",
       "      <th>x1</th>\n",
       "    </tr>\n",
       "  </thead>\n",
       "  <tbody>\n",
       "    <tr>\n",
       "      <th>0</th>\n",
       "      <td>0.036745</td>\n",
       "      <td>0.001946</td>\n",
       "    </tr>\n",
       "    <tr>\n",
       "      <th>1</th>\n",
       "      <td>-0.315458</td>\n",
       "      <td>-0.072469</td>\n",
       "    </tr>\n",
       "    <tr>\n",
       "      <th>2</th>\n",
       "      <td>-0.178399</td>\n",
       "      <td>-0.108125</td>\n",
       "    </tr>\n",
       "    <tr>\n",
       "      <th>3</th>\n",
       "      <td>NaN</td>\n",
       "      <td>NaN</td>\n",
       "    </tr>\n",
       "    <tr>\n",
       "      <th>4</th>\n",
       "      <td>NaN</td>\n",
       "      <td>NaN</td>\n",
       "    </tr>\n",
       "    <tr>\n",
       "      <th>5</th>\n",
       "      <td>0.415067</td>\n",
       "      <td>NaN</td>\n",
       "    </tr>\n",
       "    <tr>\n",
       "      <th>6</th>\n",
       "      <td>-0.239938</td>\n",
       "      <td>-0.531049</td>\n",
       "    </tr>\n",
       "  </tbody>\n",
       "</table>\n",
       "</div>"
      ],
      "text/plain": [
       "         x0        x1\n",
       "0  0.036745  0.001946\n",
       "1 -0.315458 -0.072469\n",
       "2 -0.178399 -0.108125\n",
       "3       NaN       NaN\n",
       "4       NaN       NaN\n",
       "5  0.415067       NaN\n",
       "6 -0.239938 -0.531049"
      ]
     },
     "execution_count": null,
     "metadata": {},
     "output_type": "execute_result"
    }
   ],
   "source": [
    "gp_imp.data"
   ]
  },
  {
   "cell_type": "code",
   "execution_count": null,
   "id": "ff4525eb-9cec-4851-8b1a-c7c6974ab716",
   "metadata": {},
   "outputs": [
    {
     "data": {
      "text/plain": [
       "tensor([[ 0.0367,  0.0019],\n",
       "        [-0.3155, -0.0725],\n",
       "        [-0.1784, -0.1081],\n",
       "        [-0.2399, -0.5310]])"
      ]
     },
     "execution_count": null,
     "metadata": {},
     "output_type": "execute_result"
    }
   ],
   "source": [
    "gp_imp.train_data"
   ]
  },
  {
   "cell_type": "code",
   "execution_count": null,
   "id": "5910546b-76b9-4c19-9905-9b7b0a6135c0",
   "metadata": {},
   "outputs": [
    {
     "data": {
      "text/html": [
       "<div>\n",
       "<style scoped>\n",
       "    .dataframe tbody tr th:only-of-type {\n",
       "        vertical-align: middle;\n",
       "    }\n",
       "\n",
       "    .dataframe tbody tr th {\n",
       "        vertical-align: top;\n",
       "    }\n",
       "\n",
       "    .dataframe thead th {\n",
       "        text-align: right;\n",
       "    }\n",
       "</style>\n",
       "<table border=\"1\" class=\"dataframe\">\n",
       "  <thead>\n",
       "    <tr style=\"text-align: right;\">\n",
       "      <th></th>\n",
       "      <th>mean</th>\n",
       "      <th>time</th>\n",
       "      <th>std</th>\n",
       "      <th>variable</th>\n",
       "    </tr>\n",
       "  </thead>\n",
       "  <tbody>\n",
       "    <tr>\n",
       "      <th>0</th>\n",
       "      <td>-0.082341</td>\n",
       "      <td>0.0</td>\n",
       "      <td>0.117911</td>\n",
       "      <td>x0</td>\n",
       "    </tr>\n",
       "    <tr>\n",
       "      <th>1</th>\n",
       "      <td>-0.235815</td>\n",
       "      <td>1.0</td>\n",
       "      <td>0.117911</td>\n",
       "      <td>x0</td>\n",
       "    </tr>\n",
       "    <tr>\n",
       "      <th>2</th>\n",
       "      <td>-0.176091</td>\n",
       "      <td>2.0</td>\n",
       "      <td>0.117911</td>\n",
       "      <td>x0</td>\n",
       "    </tr>\n",
       "    <tr>\n",
       "      <th>3</th>\n",
       "      <td>-0.174308</td>\n",
       "      <td>3.0</td>\n",
       "      <td>0.131003</td>\n",
       "      <td>x0</td>\n",
       "    </tr>\n",
       "    <tr>\n",
       "      <th>4</th>\n",
       "      <td>-0.174308</td>\n",
       "      <td>4.0</td>\n",
       "      <td>0.131003</td>\n",
       "      <td>x0</td>\n",
       "    </tr>\n",
       "    <tr>\n",
       "      <th>5</th>\n",
       "      <td>-0.174308</td>\n",
       "      <td>5.0</td>\n",
       "      <td>0.131003</td>\n",
       "      <td>x0</td>\n",
       "    </tr>\n",
       "    <tr>\n",
       "      <th>6</th>\n",
       "      <td>-0.202907</td>\n",
       "      <td>6.0</td>\n",
       "      <td>0.117911</td>\n",
       "      <td>x0</td>\n",
       "    </tr>\n",
       "    <tr>\n",
       "      <th>0</th>\n",
       "      <td>-0.006813</td>\n",
       "      <td>0.0</td>\n",
       "      <td>0.033960</td>\n",
       "      <td>x1</td>\n",
       "    </tr>\n",
       "    <tr>\n",
       "      <th>1</th>\n",
       "      <td>-0.052788</td>\n",
       "      <td>1.0</td>\n",
       "      <td>0.029690</td>\n",
       "      <td>x1</td>\n",
       "    </tr>\n",
       "    <tr>\n",
       "      <th>2</th>\n",
       "      <td>-0.124542</td>\n",
       "      <td>2.0</td>\n",
       "      <td>0.032953</td>\n",
       "      <td>x1</td>\n",
       "    </tr>\n",
       "    <tr>\n",
       "      <th>3</th>\n",
       "      <td>-0.217196</td>\n",
       "      <td>3.0</td>\n",
       "      <td>0.037809</td>\n",
       "      <td>x1</td>\n",
       "    </tr>\n",
       "    <tr>\n",
       "      <th>4</th>\n",
       "      <td>-0.322260</td>\n",
       "      <td>4.0</td>\n",
       "      <td>0.039923</td>\n",
       "      <td>x1</td>\n",
       "    </tr>\n",
       "    <tr>\n",
       "      <th>5</th>\n",
       "      <td>-0.428851</td>\n",
       "      <td>5.0</td>\n",
       "      <td>0.037243</td>\n",
       "      <td>x1</td>\n",
       "    </tr>\n",
       "    <tr>\n",
       "      <th>6</th>\n",
       "      <td>-0.525556</td>\n",
       "      <td>6.0</td>\n",
       "      <td>0.035637</td>\n",
       "      <td>x1</td>\n",
       "    </tr>\n",
       "  </tbody>\n",
       "</table>\n",
       "</div>"
      ],
      "text/plain": [
       "       mean  time       std variable\n",
       "0 -0.082341   0.0  0.117911       x0\n",
       "1 -0.235815   1.0  0.117911       x0\n",
       "2 -0.176091   2.0  0.117911       x0\n",
       "3 -0.174308   3.0  0.131003       x0\n",
       "4 -0.174308   4.0  0.131003       x0\n",
       "5 -0.174308   5.0  0.131003       x0\n",
       "6 -0.202907   6.0  0.117911       x0\n",
       "0 -0.006813   0.0  0.033960       x1\n",
       "1 -0.052788   1.0  0.029690       x1\n",
       "2 -0.124542   2.0  0.032953       x1\n",
       "3 -0.217196   3.0  0.037809       x1\n",
       "4 -0.322260   4.0  0.039923       x1\n",
       "5 -0.428851   5.0  0.037243       x1\n",
       "6 -0.525556   6.0  0.035637       x1"
      ]
     },
     "execution_count": null,
     "metadata": {},
     "output_type": "execute_result"
    }
   ],
   "source": [
    "gp_imp.predict()"
   ]
  },
  {
   "cell_type": "code",
   "execution_count": null,
   "id": "2d912112-8c62-4008-9c69-b854cf895898",
   "metadata": {},
   "outputs": [
    {
     "data": {
      "image/png": "[encoded data removed]",
      "text/plain": [
       "<Figure size 432x288 with 1 Axes>"
      ]
     },
     "metadata": {
      "needs_background": "light"
     },
     "output_type": "display_data"
    }
   ],
   "source": [
    "#| hide\n",
    "def plot_losses(self: SimpleGPImputationExplorer):\n",
    "    for l in self.learners:\n",
    "        plt.plot(l.losses)\n",
    "\n",
    "plot_losses(gp_imp)"
   ]
  },
  {
   "cell_type": "code",
   "execution_count": null,
   "id": "9ef7eb65-4291-4130-a876-504011f4dc2f",
   "metadata": {},
   "outputs": [
    {
     "data": {
      "text/html": [
       "<div>\n",
       "<style scoped>\n",
       "    .dataframe tbody tr th:only-of-type {\n",
       "        vertical-align: middle;\n",
       "    }\n",
       "\n",
       "    .dataframe tbody tr th {\n",
       "        vertical-align: top;\n",
       "    }\n",
       "\n",
       "    .dataframe thead th {\n",
       "        text-align: right;\n",
       "    }\n",
       "</style>\n",
       "<table border=\"1\" class=\"dataframe\">\n",
       "  <thead>\n",
       "    <tr style=\"text-align: right;\">\n",
       "      <th></th>\n",
       "      <th>time</th>\n",
       "      <th>variable</th>\n",
       "      <th>value</th>\n",
       "      <th>is_missing</th>\n",
       "    </tr>\n",
       "  </thead>\n",
       "  <tbody>\n",
       "    <tr>\n",
       "      <th>0</th>\n",
       "      <td>0.0</td>\n",
       "      <td>x0</td>\n",
       "      <td>0.036745</td>\n",
       "      <td>False</td>\n",
       "    </tr>\n",
       "    <tr>\n",
       "      <th>1</th>\n",
       "      <td>1.0</td>\n",
       "      <td>x0</td>\n",
       "      <td>-0.315458</td>\n",
       "      <td>False</td>\n",
       "    </tr>\n",
       "    <tr>\n",
       "      <th>2</th>\n",
       "      <td>2.0</td>\n",
       "      <td>x0</td>\n",
       "      <td>-0.178399</td>\n",
       "      <td>False</td>\n",
       "    </tr>\n",
       "    <tr>\n",
       "      <th>3</th>\n",
       "      <td>3.0</td>\n",
       "      <td>x0</td>\n",
       "      <td>-0.074237</td>\n",
       "      <td>True</td>\n",
       "    </tr>\n",
       "    <tr>\n",
       "      <th>4</th>\n",
       "      <td>4.0</td>\n",
       "      <td>x0</td>\n",
       "      <td>-0.081575</td>\n",
       "      <td>True</td>\n",
       "    </tr>\n",
       "    <tr>\n",
       "      <th>5</th>\n",
       "      <td>5.0</td>\n",
       "      <td>x0</td>\n",
       "      <td>0.415067</td>\n",
       "      <td>False</td>\n",
       "    </tr>\n",
       "    <tr>\n",
       "      <th>6</th>\n",
       "      <td>6.0</td>\n",
       "      <td>x0</td>\n",
       "      <td>-0.239938</td>\n",
       "      <td>False</td>\n",
       "    </tr>\n",
       "    <tr>\n",
       "      <th>7</th>\n",
       "      <td>0.0</td>\n",
       "      <td>x1</td>\n",
       "      <td>0.001946</td>\n",
       "      <td>False</td>\n",
       "    </tr>\n",
       "    <tr>\n",
       "      <th>8</th>\n",
       "      <td>1.0</td>\n",
       "      <td>x1</td>\n",
       "      <td>-0.072469</td>\n",
       "      <td>False</td>\n",
       "    </tr>\n",
       "    <tr>\n",
       "      <th>9</th>\n",
       "      <td>2.0</td>\n",
       "      <td>x1</td>\n",
       "      <td>-0.108125</td>\n",
       "      <td>False</td>\n",
       "    </tr>\n",
       "    <tr>\n",
       "      <th>10</th>\n",
       "      <td>3.0</td>\n",
       "      <td>x1</td>\n",
       "      <td>-0.035662</td>\n",
       "      <td>True</td>\n",
       "    </tr>\n",
       "    <tr>\n",
       "      <th>11</th>\n",
       "      <td>4.0</td>\n",
       "      <td>x1</td>\n",
       "      <td>-0.144949</td>\n",
       "      <td>True</td>\n",
       "    </tr>\n",
       "    <tr>\n",
       "      <th>12</th>\n",
       "      <td>5.0</td>\n",
       "      <td>x1</td>\n",
       "      <td>0.813706</td>\n",
       "      <td>True</td>\n",
       "    </tr>\n",
       "    <tr>\n",
       "      <th>13</th>\n",
       "      <td>6.0</td>\n",
       "      <td>x1</td>\n",
       "      <td>-0.531049</td>\n",
       "      <td>False</td>\n",
       "    </tr>\n",
       "  </tbody>\n",
       "</table>\n",
       "</div>"
      ],
      "text/plain": [
       "    time variable     value  is_missing\n",
       "0    0.0       x0  0.036745       False\n",
       "1    1.0       x0 -0.315458       False\n",
       "2    2.0       x0 -0.178399       False\n",
       "3    3.0       x0 -0.074237        True\n",
       "4    4.0       x0 -0.081575        True\n",
       "5    5.0       x0  0.415067       False\n",
       "6    6.0       x0 -0.239938       False\n",
       "7    0.0       x1  0.001946       False\n",
       "8    1.0       x1 -0.072469       False\n",
       "9    2.0       x1 -0.108125       False\n",
       "10   3.0       x1 -0.035662        True\n",
       "11   4.0       x1 -0.144949        True\n",
       "12   5.0       x1  0.813706        True\n",
       "13   6.0       x1 -0.531049       False"
      ]
     },
     "execution_count": null,
     "metadata": {},
     "output_type": "execute_result"
    }
   ],
   "source": [
    "fd.data_compl_tidy"
   ]
  },
  {
   "cell_type": "code",
   "execution_count": null,
   "id": "d941a31a-3c89-4763-919a-111779ffb714",
   "metadata": {},
   "outputs": [
    {
     "name": "stderr",
     "output_type": "stream",
     "text": [
      "/home/simone/.local/lib/python3.10/site-packages/altair/utils/core.py:317: FutureWarning: iteritems is deprecated and will be removed in a future version. Use .items instead.\n",
      "  for col_name, dtype in df.dtypes.iteritems():\n"
     ]
    },
    {
     "data": {
      "text/html": [
       "\n",
       "<div id=\"altair-viz-6ba0010e41ff491bbc473fa443149a82\"></div>\n",
       "<script type=\"text/javascript\">\n",
       "  var VEGA_DEBUG = (typeof VEGA_DEBUG == \"undefined\") ? {} : VEGA_DEBUG;\n",
       "  (function(spec, embedOpt){\n",
       "    let outputDiv = document.currentScript.previousElementSibling;\n",
       "    if (outputDiv.id !== \"altair-viz-6ba0010e41ff491bbc473fa443149a82\") {\n",
       "      outputDiv = document.getElementById(\"altair-viz-6ba0010e41ff491bbc473fa443149a82\");\n",
       "    }\n",
       "    const paths = {\n",
       "      \"vega\": \"https://cdn.jsdelivr.net/npm//vega@5?noext\",\n",
       "      \"vega-lib\": \"https://cdn.jsdelivr.net/npm//vega-lib?noext\",\n",
       "      \"vega-lite\": \"https://cdn.jsdelivr.net/npm//vega-lite@4.17.0?noext\",\n",
       "      \"vega-embed\": \"https://cdn.jsdelivr.net/npm//vega-embed@6?noext\",\n",
       "    };\n",
       "\n",
       "    function maybeLoadScript(lib, version) {\n",
       "      var key = `${lib.replace(\"-\", \"\")}_version`;\n",
       "      return (VEGA_DEBUG[key] == version) ?\n",
       "        Promise.resolve(paths[lib]) :\n",
       "        new Promise(function(resolve, reject) {\n",
       "          var s = document.createElement('script');\n",
       "          document.getElementsByTagName(\"head\")[0].appendChild(s);\n",
       "          s.async = true;\n",
       "          s.onload = () => {\n",
       "            VEGA_DEBUG[key] = version;\n",
       "            return resolve(paths[lib]);\n",
       "          };\n",
       "          s.onerror = () => reject(`Error loading script: ${paths[lib]}`);\n",
       "          s.src = paths[lib];\n",
       "        });\n",
       "    }\n",
       "\n",
       "    function showError(err) {\n",
       "      outputDiv.innerHTML = `<div class=\"error\" style=\"color:red;\">${err}</div>`;\n",
       "      throw err;\n",
       "    }\n",
       "\n",
       "    function displayChart(vegaEmbed) {\n",
       "      vegaEmbed(outputDiv, spec, embedOpt)\n",
       "        .catch(err => showError(`Javascript Error: ${err.message}<br>This usually means there's a typo in your chart specification. See the javascript console for the full traceback.`));\n",
       "    }\n",
       "\n",
       "    if(typeof define === \"function\" && define.amd) {\n",
       "      requirejs.config({paths});\n",
       "      require([\"vega-embed\"], displayChart, err => showError(`Error loading script: ${err.message}`));\n",
       "    } else {\n",
       "      maybeLoadScript(\"vega\", \"5\")\n",
       "        .then(() => maybeLoadScript(\"vega-lite\", \"4.17.0\"))\n",
       "        .then(() => maybeLoadScript(\"vega-embed\", \"6\"))\n",
       "        .catch(showError)\n",
       "        .then(() => displayChart(vegaEmbed));\n",
       "    }\n",
       "  })({\"config\": {\"view\": {\"continuousWidth\": 400, \"continuousHeight\": 300}}, \"vconcat\": [{\"hconcat\": [{\"layer\": [{\"data\": {\"name\": \"data-dc8776920b6ab998688f97638134136d\"}, \"mark\": {\"type\": \"point\", \"color\": \"black\", \"fillOpacity\": 1, \"strokeWidth\": 1}, \"encoding\": {\"fill\": {\"field\": \"is_missing\", \"legend\": {\"title\": [\"Observed data\", \"(is missing)\"]}, \"scale\": {\"range\": [\"#ffffff00\", \"black\"]}, \"type\": \"nominal\"}, \"shape\": {\"field\": \"is_missing\", \"type\": \"nominal\"}, \"x\": {\"field\": \"time\", \"type\": \"quantitative\"}, \"y\": {\"field\": \"value\", \"scale\": {\"zero\": false}, \"title\": \"x0\", \"type\": \"quantitative\"}}}, {\"layer\": [{\"mark\": \"errorband\", \"encoding\": {\"color\": {\"field\": \"variable\", \"legend\": {\"title\": [\"Line: pred. mean\", \"area: +/- 2 std\", \"(variable)\"]}, \"type\": \"nominal\"}, \"tooltip\": [{\"field\": \"std\", \"format\": \".4\", \"type\": \"quantitative\"}, {\"field\": \"mean\", \"format\": \".4\", \"type\": \"quantitative\"}], \"x\": {\"field\": \"time\", \"type\": \"quantitative\"}, \"y\": {\"field\": \"err_low\", \"scale\": {\"zero\": false}, \"title\": \"x0\", \"type\": \"quantitative\"}, \"y2\": {\"field\": \"err_high\"}}, \"height\": 150, \"transform\": [{\"calculate\": \"datum.mean - 2 * datum.std\", \"as\": \"err_low\"}, {\"calculate\": \"datum.mean + 2 * datum.std\", \"as\": \"err_high\"}], \"width\": 300}, {\"mark\": \"line\", \"encoding\": {\"color\": {\"field\": \"variable\", \"type\": \"nominal\"}, \"x\": {\"field\": \"time\", \"type\": \"quantitative\"}, \"y\": {\"field\": \"mean\", \"scale\": {\"zero\": false}, \"title\": \"x0\", \"type\": \"quantitative\"}}, \"selection\": {\"selector001\": {\"type\": \"interval\", \"bind\": \"scales\", \"encodings\": [\"x\"]}}, \"title\": \"x0\"}], \"data\": {\"name\": \"data-2f8810d900a3e586e6b0103718237082\"}}]}, {\"layer\": [{\"data\": {\"name\": \"data-155e75f9be4298b5cde48fef2ac1e34d\"}, \"mark\": {\"type\": \"point\", \"color\": \"black\", \"fillOpacity\": 1, \"strokeWidth\": 1}, \"encoding\": {\"fill\": {\"field\": \"is_missing\", \"legend\": {\"title\": [\"Observed data\", \"(is missing)\"]}, \"scale\": {\"range\": [\"#ffffff00\", \"black\"]}, \"type\": \"nominal\"}, \"shape\": {\"field\": \"is_missing\", \"type\": \"nominal\"}, \"x\": {\"field\": \"time\", \"type\": \"quantitative\"}, \"y\": {\"field\": \"value\", \"scale\": {\"zero\": false}, \"title\": \"x1\", \"type\": \"quantitative\"}}}, {\"layer\": [{\"mark\": \"errorband\", \"encoding\": {\"color\": {\"field\": \"variable\", \"legend\": {\"title\": [\"Line: pred. mean\", \"area: +/- 2 std\", \"(variable)\"]}, \"type\": \"nominal\"}, \"tooltip\": [{\"field\": \"std\", \"format\": \".4\", \"type\": \"quantitative\"}, {\"field\": \"mean\", \"format\": \".4\", \"type\": \"quantitative\"}], \"x\": {\"field\": \"time\", \"type\": \"quantitative\"}, \"y\": {\"field\": \"err_low\", \"scale\": {\"zero\": false}, \"title\": \"x1\", \"type\": \"quantitative\"}, \"y2\": {\"field\": \"err_high\"}}, \"height\": 150, \"transform\": [{\"calculate\": \"datum.mean - 2 * datum.std\", \"as\": \"err_low\"}, {\"calculate\": \"datum.mean + 2 * datum.std\", \"as\": \"err_high\"}], \"width\": 300}, {\"mark\": \"line\", \"encoding\": {\"color\": {\"field\": \"variable\", \"type\": \"nominal\"}, \"x\": {\"field\": \"time\", \"type\": \"quantitative\"}, \"y\": {\"field\": \"mean\", \"scale\": {\"zero\": false}, \"title\": \"x1\", \"type\": \"quantitative\"}}, \"selection\": {\"selector001\": {\"type\": \"interval\", \"bind\": \"scales\", \"encodings\": [\"x\"]}}, \"title\": \"x1\"}], \"data\": {\"name\": \"data-ed96708fefeb7999fea2571db8cf4547\"}}]}]}, {\"hconcat\": []}, {\"hconcat\": []}, {\"hconcat\": []}, {\"hconcat\": []}, {\"hconcat\": []}, {\"hconcat\": []}], \"$schema\": \"https://vega.github.io/schema/vega-lite/v4.17.0.json\", \"datasets\": {\"data-dc8776920b6ab998688f97638134136d\": [{\"time\": 0.0, \"variable\": \"x0\", \"value\": 0.036745358258485794, \"is_missing\": false}, {\"time\": 1.0, \"variable\": \"x0\", \"value\": -0.3154575824737549, \"is_missing\": false}, {\"time\": 2.0, \"variable\": \"x0\", \"value\": -0.178398996591568, \"is_missing\": false}, {\"time\": 3.0, \"variable\": \"x0\", \"value\": -0.07423673570156097, \"is_missing\": true}, {\"time\": 4.0, \"variable\": \"x0\", \"value\": -0.08157516270875931, \"is_missing\": true}, {\"time\": 5.0, \"variable\": \"x0\", \"value\": 0.415066659450531, \"is_missing\": false}, {\"time\": 6.0, \"variable\": \"x0\", \"value\": -0.2399376928806305, \"is_missing\": false}], \"data-2f8810d900a3e586e6b0103718237082\": [{\"mean\": -0.08234092593193054, \"time\": 0.0, \"std\": 0.11791135370731354, \"variable\": \"x0\"}, {\"mean\": -0.23581455647945404, \"time\": 1.0, \"std\": 0.11791135370731354, \"variable\": \"x0\"}, {\"mean\": -0.176090806722641, \"time\": 2.0, \"std\": 0.11791135370731354, \"variable\": \"x0\"}, {\"mean\": -0.17430825531482697, \"time\": 3.0, \"std\": 0.1310029923915863, \"variable\": \"x0\"}, {\"mean\": -0.17430825531482697, \"time\": 4.0, \"std\": 0.1310029923915863, \"variable\": \"x0\"}, {\"mean\": -0.17430825531482697, \"time\": 5.0, \"std\": 0.1310029923915863, \"variable\": \"x0\"}, {\"mean\": -0.2029065042734146, \"time\": 6.0, \"std\": 0.11791135370731354, \"variable\": \"x0\"}], \"data-155e75f9be4298b5cde48fef2ac1e34d\": [{\"time\": 0.0, \"variable\": \"x1\", \"value\": 0.0019457766320556402, \"is_missing\": false}, {\"time\": 1.0, \"variable\": \"x1\", \"value\": -0.0724688172340393, \"is_missing\": false}, {\"time\": 2.0, \"variable\": \"x1\", \"value\": -0.10812515020370483, \"is_missing\": false}, {\"time\": 3.0, \"variable\": \"x1\", \"value\": -0.035661935806274414, \"is_missing\": true}, {\"time\": 4.0, \"variable\": \"x1\", \"value\": -0.14494939148426056, \"is_missing\": true}, {\"time\": 5.0, \"variable\": \"x1\", \"value\": 0.8137056827545166, \"is_missing\": true}, {\"time\": 6.0, \"variable\": \"x1\", \"value\": -0.5310490131378174, \"is_missing\": false}], \"data-ed96708fefeb7999fea2571db8cf4547\": [{\"mean\": -0.006812572479248047, \"time\": 0.0, \"std\": 0.03395964205265045, \"variable\": \"x1\"}, {\"mean\": -0.052787505090236664, \"time\": 1.0, \"std\": 0.02969031222164631, \"variable\": \"x1\"}, {\"mean\": -0.12454159557819366, \"time\": 2.0, \"std\": 0.032953403890132904, \"variable\": \"x1\"}, {\"mean\": -0.21719588339328766, \"time\": 3.0, \"std\": 0.03780868276953697, \"variable\": \"x1\"}, {\"mean\": -0.32226037979125977, \"time\": 4.0, \"std\": 0.03992285951972008, \"variable\": \"x1\"}, {\"mean\": -0.42885130643844604, \"time\": 5.0, \"std\": 0.037243496626615524, \"variable\": \"x1\"}, {\"mean\": -0.525556206703186, \"time\": 6.0, \"std\": 0.03563714399933815, \"variable\": \"x1\"}]}}, {\"mode\": \"vega-lite\"});\n",
       "</script>"
      ],
      "text/plain": [
       "alt.VConcatChart(...)"
      ]
     },
     "metadata": {},
     "output_type": "display_data"
    },
    {
     "data": {
      "text/html": [
       "<div style=\"display: flex; gap: 20px;\"> <div> <p style='font-size: 1.3rem; font-decoration: bold'>r2<p> <style type=\"text/css\">\n",
       "</style>\n",
       "<table id=\"T_21ce0\">\n",
       "  <thead>\n",
       "    <tr>\n",
       "      <th id=\"T_21ce0_level0_col0\" class=\"col_heading level0 col0\" >variable</th>\n",
       "      <th id=\"T_21ce0_level0_col1\" class=\"col_heading level0 col1\" >r2</th>\n",
       "    </tr>\n",
       "  </thead>\n",
       "  <tbody>\n",
       "    <tr>\n",
       "      <td id=\"T_21ce0_row0_col0\" class=\"data row0 col0\" >x0</td>\n",
       "      <td id=\"T_21ce0_row0_col1\" class=\"data row0 col1\" >-690.2857</td>\n",
       "    </tr>\n",
       "    <tr>\n",
       "      <td id=\"T_21ce0_row1_col0\" class=\"data row1 col0\" >x1</td>\n",
       "      <td id=\"T_21ce0_row1_col1\" class=\"data row1 col1\" >-1.9200</td>\n",
       "    </tr>\n",
       "  </tbody>\n",
       "</table>\n",
       " </div></div>"
      ],
      "text/plain": [
       "<IPython.core.display.HTML object>"
      ]
     },
     "metadata": {},
     "output_type": "display_data"
    }
   ],
   "source": [
    "gp_imp.to_result(fd.data_compl_tidy).display_results()"
   ]
  },
  {
   "cell_type": "code",
   "execution_count": null,
   "id": "9f176125-e730-4bb9-8057-9e1bd9e5eaf8",
   "metadata": {},
   "outputs": [],
   "source": [
    "#| hide\n",
    "from nbdev import nbdev_export\n",
    "nbdev_export()"
   ]
  }
 ],
 "metadata": {
  "kernelspec": {
   "display_name": "data_science",
   "language": "python",
   "name": "data_science"
  },
  "widgets": {
   "application/vnd.jupyter.widget-state+json": {
    "state": {
     "065eb81c16d24b2294b0d78fd3cdba21": {
      "model_module": "@jupyter-widgets/base",
      "model_module_version": "2.0.0",
      "model_name": "LayoutModel",
      "state": {}
     },
     "0af8aa5b4af04c97be70a400e6bf0442": {
      "model_module": "@jupyter-widgets/controls",
      "model_module_version": "2.0.0",
      "model_name": "HTMLStyleModel",
      "state": {
       "description_width": "",
       "font_size": null,
       "text_color": null
      }
     },
     "1cc971fb2f4b40b38c77371b0730479a": {
      "model_module": "@jupyter-widgets/controls",
      "model_module_version": "2.0.0",
      "model_name": "HBoxModel",
      "state": {
       "children": [
        "IPY_MODEL_9d4f725b766b458f99e27388a842a0ff",
        "IPY_MODEL_e40393ea24e248b9864e675a05fc5b9f",
        "IPY_MODEL_29b0eba971ca4dc9b7175cf474155d7a"
       ],
       "layout": "IPY_MODEL_065eb81c16d24b2294b0d78fd3cdba21"
      }
     },
     "29b0eba971ca4dc9b7175cf474155d7a": {
      "model_module": "@jupyter-widgets/controls",
      "model_module_version": "2.0.0",
      "model_name": "HTMLModel",
      "state": {
       "layout": "IPY_MODEL_60de71999eab4081840eb14111154d82",
       "style": "IPY_MODEL_3389a328e6ee4acf843981c930d69ca4",
       "value": " 100/100 [00:00&lt;00:00, 435.86it/s]"
      }
     },
     "2be6b31409164bffb151f342338eac61": {
      "model_module": "@jupyter-widgets/controls",
      "model_module_version": "2.0.0",
      "model_name": "HTMLModel",
      "state": {
       "layout": "IPY_MODEL_68074f3135844b1586d915ef215f644f",
       "style": "IPY_MODEL_0af8aa5b4af04c97be70a400e6bf0442",
       "value": " 100/100 [00:00&lt;00:00, 376.04it/s]"
      }
     },
     "305c256753384d8bb250a85777a89cec": {
      "model_module": "@jupyter-widgets/controls",
      "model_module_version": "2.0.0",
      "model_name": "ProgressStyleModel",
      "state": {
       "description_width": ""
      }
     },
     "3389a328e6ee4acf843981c930d69ca4": {
      "model_module": "@jupyter-widgets/controls",
      "model_module_version": "2.0.0",
      "model_name": "HTMLStyleModel",
      "state": {
       "description_width": "",
       "font_size": null,
       "text_color": null
      }
     },
     "389d966b8eda474e9b559ad7df95844f": {
      "model_module": "@jupyter-widgets/base",
      "model_module_version": "2.0.0",
      "model_name": "LayoutModel",
      "state": {}
     },
     "4bfca7a42a4549d399be5375b7079310": {
      "model_module": "@jupyter-widgets/controls",
      "model_module_version": "2.0.0",
      "model_name": "HTMLModel",
      "state": {
       "layout": "IPY_MODEL_a38f13dfebb044f4afe4c2d4ae329d64",
       "style": "IPY_MODEL_6128508a95d542a9900be99dd378edd1",
       "value": "100%"
      }
     },
     "4e31eefa6f2245779d66ac63b5266684": {
      "model_module": "@jupyter-widgets/controls",
      "model_module_version": "2.0.0",
      "model_name": "HTMLStyleModel",
      "state": {
       "description_width": "",
       "font_size": null,
       "text_color": null
      }
     },
     "4eebaa32a8eb4b1696e427de7d032853": {
      "model_module": "@jupyter-widgets/controls",
      "model_module_version": "2.0.0",
      "model_name": "ProgressStyleModel",
      "state": {
       "description_width": ""
      }
     },
     "60de71999eab4081840eb14111154d82": {
      "model_module": "@jupyter-widgets/base",
      "model_module_version": "2.0.0",
      "model_name": "LayoutModel",
      "state": {}
     },
     "6128508a95d542a9900be99dd378edd1": {
      "model_module": "@jupyter-widgets/controls",
      "model_module_version": "2.0.0",
      "model_name": "HTMLStyleModel",
      "state": {
       "description_width": "",
       "font_size": null,
       "text_color": null
      }
     },
     "678a4cdf495a495789cc734af52d3a05": {
      "model_module": "@jupyter-widgets/base",
      "model_module_version": "2.0.0",
      "model_name": "LayoutModel",
      "state": {}
     },
     "67ea1868be1b4a8fbf190ab6fd65bc9b": {
      "model_module": "@jupyter-widgets/base",
      "model_module_version": "2.0.0",
      "model_name": "LayoutModel",
      "state": {}
     },
     "68074f3135844b1586d915ef215f644f": {
      "model_module": "@jupyter-widgets/base",
      "model_module_version": "2.0.0",
      "model_name": "LayoutModel",
      "state": {}
     },
     "7c1181b4ce3d41cd96fba599a532a93a": {
      "model_module": "@jupyter-widgets/controls",
      "model_module_version": "2.0.0",
      "model_name": "ProgressStyleModel",
      "state": {
       "description_width": ""
      }
     },
     "830290bcfda24e53b4fcad64c49e9a12": {
      "model_module": "@jupyter-widgets/controls",
      "model_module_version": "2.0.0",
      "model_name": "HTMLStyleModel",
      "state": {
       "description_width": "",
       "font_size": null,
       "text_color": null
      }
     },
     "9d4f725b766b458f99e27388a842a0ff": {
      "model_module": "@jupyter-widgets/controls",
      "model_module_version": "2.0.0",
      "model_name": "HTMLModel",
      "state": {
       "layout": "IPY_MODEL_bf27884dccee48d6a1f5cb559c39c9cd",
       "style": "IPY_MODEL_e55630a9c36a4d75bd94edf8799c440a",
       "value": "100%"
      }
     },
     "a38f13dfebb044f4afe4c2d4ae329d64": {
      "model_module": "@jupyter-widgets/base",
      "model_module_version": "2.0.0",
      "model_name": "LayoutModel",
      "state": {}
     },
     "ac0a9efeee0d4b8aafb5fbf3ab324f8d": {
      "model_module": "@jupyter-widgets/base",
      "model_module_version": "2.0.0",
      "model_name": "LayoutModel",
      "state": {}
     },
     "aed1617e75764aa3b487f585ee4f8108": {
      "model_module": "@jupyter-widgets/controls",
      "model_module_version": "2.0.0",
      "model_name": "FloatProgressModel",
      "state": {
       "bar_style": "success",
       "layout": "IPY_MODEL_d8fc4c6d9f2e40f198240d4be4345c0f",
       "style": "IPY_MODEL_4eebaa32a8eb4b1696e427de7d032853",
       "value": 100
      }
     },
     "b1f3daac89ae4bca955cf16a50d70aea": {
      "model_module": "@jupyter-widgets/base",
      "model_module_version": "2.0.0",
      "model_name": "LayoutModel",
      "state": {}
     },
     "b298c0e1a40c43ebb5fdcc028e0e94a5": {
      "model_module": "@jupyter-widgets/controls",
      "model_module_version": "2.0.0",
      "model_name": "FloatProgressModel",
      "state": {
       "bar_style": "success",
       "layout": "IPY_MODEL_389d966b8eda474e9b559ad7df95844f",
       "style": "IPY_MODEL_305c256753384d8bb250a85777a89cec",
       "value": 100
      }
     },
     "bf27884dccee48d6a1f5cb559c39c9cd": {
      "model_module": "@jupyter-widgets/base",
      "model_module_version": "2.0.0",
      "model_name": "LayoutModel",
      "state": {}
     },
     "c2392d1f866643038839657630b6bc8d": {
      "model_module": "@jupyter-widgets/base",
      "model_module_version": "2.0.0",
      "model_name": "LayoutModel",
      "state": {}
     },
     "d2f6ee130c44463bb7907b9a423cd078": {
      "model_module": "@jupyter-widgets/controls",
      "model_module_version": "2.0.0",
      "model_name": "HBoxModel",
      "state": {
       "children": [
        "IPY_MODEL_4bfca7a42a4549d399be5375b7079310",
        "IPY_MODEL_b298c0e1a40c43ebb5fdcc028e0e94a5",
        "IPY_MODEL_2be6b31409164bffb151f342338eac61"
       ],
       "layout": "IPY_MODEL_678a4cdf495a495789cc734af52d3a05"
      }
     },
     "d8fc4c6d9f2e40f198240d4be4345c0f": {
      "model_module": "@jupyter-widgets/base",
      "model_module_version": "2.0.0",
      "model_name": "LayoutModel",
      "state": {}
     },
     "e40393ea24e248b9864e675a05fc5b9f": {
      "model_module": "@jupyter-widgets/controls",
      "model_module_version": "2.0.0",
      "model_name": "FloatProgressModel",
      "state": {
       "bar_style": "success",
       "layout": "IPY_MODEL_b1f3daac89ae4bca955cf16a50d70aea",
       "style": "IPY_MODEL_7c1181b4ce3d41cd96fba599a532a93a",
       "value": 100
      }
     },
     "e4c4fec51c15458c9405dbc251cce843": {
      "model_module": "@jupyter-widgets/controls",
      "model_module_version": "2.0.0",
      "model_name": "HBoxModel",
      "state": {
       "children": [
        "IPY_MODEL_f68e4738e3ab4ea8952728aba913bcaf",
        "IPY_MODEL_aed1617e75764aa3b487f585ee4f8108",
        "IPY_MODEL_e4fece02eaea454694e566be11abdd90"
       ],
       "layout": "IPY_MODEL_c2392d1f866643038839657630b6bc8d"
      }
     },
     "e4fece02eaea454694e566be11abdd90": {
      "model_module": "@jupyter-widgets/controls",
      "model_module_version": "2.0.0",
      "model_name": "HTMLModel",
      "state": {
       "layout": "IPY_MODEL_ac0a9efeee0d4b8aafb5fbf3ab324f8d",
       "style": "IPY_MODEL_830290bcfda24e53b4fcad64c49e9a12",
       "value": " 100/100 [00:00&lt;00:00, 464.48it/s]"
      }
     },
     "e55630a9c36a4d75bd94edf8799c440a": {
      "model_module": "@jupyter-widgets/controls",
      "model_module_version": "2.0.0",
      "model_name": "HTMLStyleModel",
      "state": {
       "description_width": "",
       "font_size": null,
       "text_color": null
      }
     },
     "f68e4738e3ab4ea8952728aba913bcaf": {
      "model_module": "@jupyter-widgets/controls",
      "model_module_version": "2.0.0",
      "model_name": "HTMLModel",
      "state": {
       "layout": "IPY_MODEL_67ea1868be1b4a8fbf190ab6fd65bc9b",
       "style": "IPY_MODEL_4e31eefa6f2245779d66ac63b5266684",
       "value": "100%"
      }
     }
    },
    "version_major": 2,
    "version_minor": 0
   }
  }
 },
 "nbformat": 4,
 "nbformat_minor": 5
}
