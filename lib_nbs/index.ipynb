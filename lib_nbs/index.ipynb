{
 "cells": [
  {
   "cell_type": "raw",
   "metadata": {},
   "source": [
    "---\n",
    "description: Library to use Gaussian Processes Factor Analysis (GPFA) to impute time\n",
    "  series\n",
    "output-file: index.html\n",
    "title: GPFA Imputation\n",
    "\n",
    "---\n",
    "\n"
   ]
  },
  {
   "cell_type": "markdown",
   "metadata": {},
   "source": [
    "This is developed by me, Simone Massaro, as part of my master thesis"
   ]
  }
 ],
 "metadata": {
  "kernelspec": {
   "display_name": "data_science",
   "language": "python",
   "name": "data_science"
  }
 },
 "nbformat": 4,
 "nbformat_minor": 4
}
