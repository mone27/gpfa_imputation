{
 "cells": [
  {
   "cell_type": "raw",
   "metadata": {
    "pycharm": {
     "name": "#%% raw\n"
    }
   },
   "source": [
    "---\n",
    "description: Library to impute meteo time series\n",
    "  series\n",
    "output-file: index.html\n",
    "title: GPFA Imputation\n",
    "\n",
    "---\n",
    "\n"
   ]
  },
  {
   "cell_type": "markdown",
   "metadata": {
    "pycharm": {
     "name": "#%% md\n"
    }
   },
   "source": [
    "This is developed by Simone Massaro as a master thesis in Ecosystem Analysis and Modelling at the University of Göttingen, Germany\n",
    "\n",
    "The aim is to impute gaps into the meteorological time series for Eddy-Covariance applications.\n",
    "\n",
    "Models developed:\n",
    "- Gaussian Processes Factor Analysis (GPFA)\n",
    "- space state models (Kalman Filter)"
   ]
  }
 ],
 "metadata": {
  "kernelspec": {
   "display_name": "data_science",
   "language": "python",
   "name": "data_science"
  }
 },
 "nbformat": 4,
 "nbformat_minor": 4
}