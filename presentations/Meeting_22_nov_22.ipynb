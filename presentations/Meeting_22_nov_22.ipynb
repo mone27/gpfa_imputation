{
 "cells": [
  {
   "cell_type": "markdown",
   "id": "7c4b8a2b-b0cb-4993-a42a-0836e6ce0589",
   "metadata": {},
   "source": [
    "# Kalman Filter Simple"
   ]
  },
  {
   "cell_type": "code",
   "execution_count": null,
   "id": "b39fcbd6-c95a-44d4-871b-5a370e26766a",
   "metadata": {},
   "outputs": [],
   "source": [
    "%load_ext autoreload\n",
    "%autoreload 2"
   ]
  },
  {
   "cell_type": "code",
   "execution_count": null,
   "id": "8380d29c-3a56-4a83-ab73-6cc19959966e",
   "metadata": {},
   "outputs": [],
   "source": [
    "from meteo_imp.data import hai, units\n",
    "from meteo_imp.data_preparation import MeteoDataTest\n",
    "from meteo_imp.old.kalman.imputation import KalmanImputation\n",
    "from meteo_imp.old.kalman.model import *\n",
    "from ipywidgets import interact, interact_manual, IntSlider"
   ]
  },
  {
   "cell_type": "code",
   "execution_count": null,
   "id": "0e3fb507-bb5d-4d0e-b2e7-ce6190e1c894",
   "metadata": {},
   "outputs": [],
   "source": [
    "def gap2res(var_sel, gap_len, gap_start, model, n_iter):\n",
    "    data = MeteoDataTest(hai).add_gap(gap_len, var_sel, gap_start)\n",
    "    return KalmanImputation(data.data, model).fit(n_iter=n_iter).to_result(data.data_compl_tidy, var_names= data.data.columns, units=units, pred_all=True)"
   ]
  },
  {
   "cell_type": "markdown",
   "id": "3a26a74f-15a1-4f55-a6c5-91545be044e9",
   "metadata": {},
   "source": [
    "## Introduction\n",
    "\n",
    "The models uses a latent state variable $x$ that is modelled over time, to impute gaps in $y$\n",
    "\n",
    "### Equations\n",
    "\n",
    "The equations of the model are:\n",
    "\n",
    "$$\\begin{align} p(x_t | x_{t-1}) & = \\mathcal{N}(Ax_{t-1}, Q) \\\\\n",
    "p(y_t | x_t) & = \\mathcal{N}(Hx_t, T) \\end{align}$$\n",
    "\n",
    "The Kalman filter has 3 steps:\n",
    "\n",
    "- filter (updating the state at time t with observations till time t-1)\n",
    "- update (update the state at time t using the observation at time t)\n",
    "- smooth (update the state using the observations at time t+1)\n",
    "\n",
    "In case of missing data the update step is skipped.\n",
    "\n",
    "After smoothing the whole dataset the missing data ($y_t$) can be imputed from the state ($x_t$) using this formula:\n",
    "$$p(y_t) = \\mathcal{N}(Hx_x, R + HP^s_tH)$$"
   ]
  },
  {
   "cell_type": "markdown",
   "id": "5850fe00-2a41-4090-90ea-56b9ea76088a",
   "metadata": {},
   "source": [
    "## Local Level Model\n",
    "\n",
    "local level models is a model that uses Kalman filter, where the design matrix (`A`) and the Transition matrix (`H`) are identity matrix. This means that the state of model is equal to the observations and the changes in the state are only from the process noise.\n",
    "$$A = I$$\n",
    "$$H = I$$"
   ]
  },
  {
   "cell_type": "code",
   "execution_count": null,
   "id": "5c2e65a6-0763-40c7-af3e-7219ea09153a",
   "metadata": {},
   "outputs": [
    {
     "data": {
      "application/vnd.jupyter.widget-view+json": {
       "model_id": "96deb2fd91ab4ea287d87d73c1fd1dca",
       "version_major": 2,
       "version_minor": 0
      },
      "text/plain": [
       "interactive(children=(Checkbox(value=True, description='TA'), Checkbox(value=True, description='SW_IN'), Check…"
      ]
     },
     "metadata": {},
     "output_type": "display_data"
    }
   ],
   "source": [
    "#| include: false\n",
    "@interact_manual(TA=True, SW_IN=True, VPD=True,\n",
    "          gap_len=IntSlider(10, 1,100, continous_update=False),\n",
    "          gap_start=IntSlider(30, 1,100),\n",
    "          n_iter = IntSlider(10, 5, 15))\n",
    "def show_diff_gaps_res(TA, SW_IN, VPD, gap_len, gap_start, n_iter):\n",
    "    var_sel = []\n",
    "    if TA: var_sel.append('TA')\n",
    "    if SW_IN: var_sel.append('SW_IN')\n",
    "    if VPD: var_sel.append('VPD')\n",
    "    var_sel = (*var_sel,)\n",
    "    gap2res(var_sel, gap_len, gap_start, LocalLevelModel, n_iter).display_results()\n",
    "    "
   ]
  },
  {
   "cell_type": "markdown",
   "id": "c19cfeca-c5e9-4d71-bf21-02ea7a780202",
   "metadata": {},
   "source": [
    "### Comments:\n",
    "\n",
    "it basically makes a linear interpolation between the first and the last observation. It works okay for short gaps, but not for long gaps.\n",
    "\n",
    "The error increases when away from the observations as expected"
   ]
  },
  {
   "cell_type": "markdown",
   "id": "8d3d401d-52b4-4fa1-8357-6568555c5000",
   "metadata": {},
   "source": [
    "## Local Slope Model "
   ]
  },
  {
   "cell_type": "markdown",
   "id": "a74b9020-14f8-42fc-aa25-92d2644b3026",
   "metadata": {},
   "source": [
    "Local slope models are an extentions of local level model that in the state variable keep track of also the slope\n",
    "\n",
    "The transition matrix (`A`) is:\n",
    "\n",
    "$$A = \\left[\\begin{array}{cc}I & I \\\\ 0 & I\\end{array}\\right]$$\n",
    "\n",
    "the state $x \\in \\mathbb{R}^{(2N) \\times 1}$ where the upper half keep track of the level and the lower half of the slope. $A \\in \\mathbb{R}^{2N \\times 2N}$\n",
    "\n",
    "hence the observation matrix (`H`) is:\n",
    "\n",
    "$$H = \\left[\\begin{array}{cc}I & 0 \\end{array}\\right]$$\n",
    "\n",
    "For the multivariate case the 1 are replaced with an identiy matrix\n"
   ]
  },
  {
   "cell_type": "code",
   "execution_count": null,
   "id": "42cda269-f9c6-4aea-8297-a59c4adafc12",
   "metadata": {},
   "outputs": [
    {
     "data": {
      "application/vnd.jupyter.widget-view+json": {
       "model_id": "13960d7002cc4897975be6c57a044168",
       "version_major": 2,
       "version_minor": 0
      },
      "text/plain": [
       "interactive(children=(Checkbox(value=True, description='TA'), Checkbox(value=True, description='SW_IN'), Check…"
      ]
     },
     "metadata": {},
     "output_type": "display_data"
    }
   ],
   "source": [
    "#| include: false\n",
    "@interact_manual(TA=True, SW_IN=True, VPD=True,\n",
    "          gap_len=IntSlider(11, 1,100),\n",
    "          gap_start=IntSlider(63, 1,100),\n",
    "          n_iter = (10, 15))\n",
    "def show_diff_gaps_res(TA, SW_IN, VPD, gap_len, gap_start, n_iter):\n",
    "    var_sel = []\n",
    "    if TA: var_sel.append('TA')\n",
    "    if SW_IN: var_sel.append('SW_IN')\n",
    "    if VPD: var_sel.append('VPD')\n",
    "    var_sel = (*var_sel,)\n",
    "    gap2res(var_sel, gap_len, gap_start, LocalSlopeModel, n_iter).display_results()\n",
    "    "
   ]
  },
  {
   "cell_type": "code",
   "execution_count": null,
   "id": "c41077f8-a48b-4375-ab3f-a9f740907cd5",
   "metadata": {},
   "outputs": [
    {
     "data": {
      "application/vnd.jupyter.widget-view+json": {
       "model_id": "8fd01b678ddc4873a5ee8cfecab6f2a4",
       "version_major": 2,
       "version_minor": 0
      },
      "text/plain": [
       "interactive(children=(Checkbox(value=True, description='TA'), Checkbox(value=True, description='SW_IN'), Check…"
      ]
     },
     "metadata": {},
     "output_type": "display_data"
    }
   ],
   "source": [
    "#| include: false\n",
    "@interact_manual(TA=True, SW_IN=True, VPD=True,\n",
    "          gap_len=IntSlider(11, 1,100),\n",
    "          gap_start=IntSlider(63, 1,100),\n",
    "          n_iter = (10, 15))\n",
    "def show_diff_gaps_res(TA, SW_IN, VPD, gap_len, gap_start, n_iter):\n",
    "    var_sel = []\n",
    "    if TA: var_sel.append('TA')\n",
    "    if SW_IN: var_sel.append('SW_IN')\n",
    "    if VPD: var_sel.append('VPD')\n",
    "    var_sel = (*var_sel,)\n",
    "    gap2res(var_sel, gap_len, gap_start, LocalSlopeModel, n_iter).display_results()\n",
    "    "
   ]
  },
  {
   "cell_type": "markdown",
   "id": "24eeafdf-815f-45a5-bde7-f400ead5a9e0",
   "metadata": {},
   "source": [
    "### Comment\n",
    "\n",
    "the addition of the slope helps with following the pattern in the data, but is still not enough for long gaps.\n",
    "\n",
    "For all short gaps (<200 obs missing) this is the average gap len:\n",
    "\n",
    "|    | variable   |   gap_len |\n",
    "|---:|:-----------|----------:|\n",
    "|  0 | TA   |  11.3392  |\n",
    "|  1 | VPD   |   9.64244 |\n",
    "|  2 | SW_IN |   5.72689 |"
   ]
  },
  {
   "cell_type": "markdown",
   "id": "091bc88b-3949-490b-8551-1494f1aca661",
   "metadata": {},
   "source": [
    "## Next Steps"
   ]
  },
  {
   "cell_type": "markdown",
   "id": "3a121460-69c5-4365-9e01-1e5972b60a4a",
   "metadata": {},
   "source": [
    "the way forward consists on 3 parallel ways:\n",
    "\n",
    "- implement a Factor Analysis (so takes into account correlation between variables) + conditional guassian \n",
    "- add ERA5 data\n",
    "- more complex state\n",
    "\n",
    "implementation:\n",
    "\n",
    "- solve issue with negative covariances\n",
    "- consider re-implement EM with gradient descend\n",
    "- initialization of parameters \n"
   ]
  },
  {
   "cell_type": "markdown",
   "id": "c1a6b0eb-0d1c-4c2c-8349-a0607dbec5e5",
   "metadata": {},
   "source": [
    "## ERA Data"
   ]
  },
  {
   "cell_type": "markdown",
   "id": "cb6a8b6d-d483-420f-aabf-7dcad205f9e8",
   "metadata": {},
   "source": [
    "ERA5 data has a frequency of 1 hours while our meteo data has a frequency of half an hour.\n",
    "Since we are interested in the change of the state the idea is to numerically compute the slope of the ERA observations"
   ]
  },
  {
   "cell_type": "markdown",
   "id": "9e1916f8-dc74-4aa4-a080-97a4b9ebb6db",
   "metadata": {},
   "source": [
    "$e_t$ is the observation at time $t$ from the ERA5 dataset, which are available only for odds values of $t$\n",
    "\n",
    "we compute the slope of $e$\n",
    "\n",
    "$$s_t = \\begin{cases}\n",
    " (e_{t} - e_{t-2})/2 & \\text{if }t\\ mod\\ 2 = 0  \\\\\n",
    " (e_{t+1} - e_{t-1})/2 & \\text{if }t\\ mod\\ 2 = 1\n",
    "\\end{cases}$$"
   ]
  },
  {
   "cell_type": "markdown",
   "id": "5225b253-d453-41e7-9ad5-2f37de6e922c",
   "metadata": {},
   "source": [
    "then the model equation becomes:\n",
    "\n",
    "$$p(x_t | x_{t-1}) = \\mathcal{N}(Ax_{t-1} + Bs_t , Q)$$\n",
    "\n",
    "where:\n",
    "- B is the control input matrix $B \\in \\mathbb{R}^{k \\times k}$\n",
    "- $x_t \\in \\mathbb{R}^k$ "
   ]
  },
  {
   "cell_type": "markdown",
   "id": "6e62a318-95d6-43cd-b263-bfe7f634177b",
   "metadata": {},
   "source": [
    "additions:\n",
    "\n",
    "- if $H \\ne I$ then the ERA5 observations needs to be transformed into the latent variables using $H^{-1}$ (which needs to be invertible)\n",
    "- include uncertanties in the ERA5 measurements\n",
    "- add a bias term for the ERA5 slope"
   ]
  }
 ],
 "metadata": {
  "kernelspec": {
   "display_name": "data_science",
   "language": "python",
   "name": "data_science"
  },
  "widgets": {
   "application/vnd.jupyter.widget-state+json": {
    "state": {
     "0451569083324baeadf6a4f06db348ed": {
      "model_module": "@jupyter-widgets/base",
      "model_module_version": "2.0.0",
      "model_name": "LayoutModel",
      "state": {}
     },
     "04d0fd31e51e4148a4cbb05eaf2816c9": {
      "model_module": "@jupyter-widgets/controls",
      "model_module_version": "2.0.0",
      "model_name": "CheckboxModel",
      "state": {
       "description": "TA",
       "disabled": false,
       "layout": "IPY_MODEL_05a6883c0d0a423d825fdac2872421ce",
       "style": "IPY_MODEL_b7bce0a87fb24a708b1ffd6a6a48c4c8",
       "value": true
      }
     },
     "05a6883c0d0a423d825fdac2872421ce": {
      "model_module": "@jupyter-widgets/base",
      "model_module_version": "2.0.0",
      "model_name": "LayoutModel",
      "state": {}
     },
     "0736a1afc85247ca9d8ae7b584fd4a7d": {
      "model_module": "@jupyter-widgets/controls",
      "model_module_version": "2.0.0",
      "model_name": "CheckboxStyleModel",
      "state": {
       "description_width": ""
      }
     },
     "0b5f5ab7d195418384be62690f5ff6ed": {
      "model_module": "@jupyter-widgets/base",
      "model_module_version": "2.0.0",
      "model_name": "LayoutModel",
      "state": {}
     },
     "13960d7002cc4897975be6c57a044168": {
      "model_module": "@jupyter-widgets/controls",
      "model_module_version": "2.0.0",
      "model_name": "VBoxModel",
      "state": {
       "_dom_classes": [
        "widget-interact"
       ],
       "children": [
        "IPY_MODEL_8f569e695bfc4f1cb825fc0aacff84c6",
        "IPY_MODEL_e1d9c87760964bad913775ec5a059a53",
        "IPY_MODEL_5eb00cf8c03e46aeb0d76a8082eca323",
        "IPY_MODEL_baf0122e18b54f6abf211f7f9c4615c6",
        "IPY_MODEL_288ba5423e38445cadce45e56bede083",
        "IPY_MODEL_67827cbae02147bf8ffb7e7c5b61cfb6",
        "IPY_MODEL_d97e8d2ee1ea4d92aaabde82de2f5580",
        "IPY_MODEL_3183577a266f45249756dfaa098dc7c4"
       ],
       "layout": "IPY_MODEL_cf1690d5c65749bd8ca7a943dc49f372"
      }
     },
     "18e6d6c175ae4116a8bb435a06c25da0": {
      "model_module": "@jupyter-widgets/controls",
      "model_module_version": "2.0.0",
      "model_name": "CheckboxStyleModel",
      "state": {
       "description_width": ""
      }
     },
     "214460b538234cd7932267551efbc296": {
      "model_module": "@jupyter-widgets/base",
      "model_module_version": "2.0.0",
      "model_name": "LayoutModel",
      "state": {}
     },
     "2210e9fe58014c6b880cf58dee66f3bb": {
      "model_module": "@jupyter-widgets/controls",
      "model_module_version": "2.0.0",
      "model_name": "ButtonModel",
      "state": {
       "description": "Run Interact",
       "layout": "IPY_MODEL_0b5f5ab7d195418384be62690f5ff6ed",
       "style": "IPY_MODEL_cd1915bdd3624c1a80b02181b0574fff",
       "tooltip": null
      }
     },
     "2778e18c2f5345ba8dda318abe6f59ee": {
      "model_module": "@jupyter-widgets/base",
      "model_module_version": "2.0.0",
      "model_name": "LayoutModel",
      "state": {}
     },
     "288ba5423e38445cadce45e56bede083": {
      "model_module": "@jupyter-widgets/controls",
      "model_module_version": "2.0.0",
      "model_name": "IntSliderModel",
      "state": {
       "behavior": "drag-tap",
       "description": "gap_start",
       "layout": "IPY_MODEL_69f94c992b924f5e839a3a6ea5261d74",
       "min": 1,
       "style": "IPY_MODEL_aac93c29871f4283bf7fdcaf30effd34",
       "value": 63
      }
     },
     "2cb85ea9b15a4b949224f85c48e6b3b8": {
      "model_module": "@jupyter-widgets/base",
      "model_module_version": "2.0.0",
      "model_name": "LayoutModel",
      "state": {}
     },
     "2cc7be303a9f4420b9c489b97885e8ee": {
      "model_module": "@jupyter-widgets/base",
      "model_module_version": "2.0.0",
      "model_name": "LayoutModel",
      "state": {}
     },
     "2d1f119729874f01a040e4784d257246": {
      "model_module": "@jupyter-widgets/controls",
      "model_module_version": "2.0.0",
      "model_name": "SliderStyleModel",
      "state": {
       "description_width": ""
      }
     },
     "3091826355884e8193798c5f9fb07fb8": {
      "model_module": "@jupyter-widgets/base",
      "model_module_version": "2.0.0",
      "model_name": "LayoutModel",
      "state": {}
     },
     "30e5a46741fd4ecfa4a201a7bf44acb2": {
      "model_module": "@jupyter-widgets/controls",
      "model_module_version": "2.0.0",
      "model_name": "IntSliderModel",
      "state": {
       "behavior": "drag-tap",
       "description": "n_iter",
       "layout": "IPY_MODEL_4a928b0bf81c4408a0dfa65226724bac",
       "max": 15,
       "min": 10,
       "style": "IPY_MODEL_6fa977a8227e47419320456b63e85af1",
       "value": 12
      }
     },
     "3183577a266f45249756dfaa098dc7c4": {
      "model_module": "@jupyter-widgets/output",
      "model_module_version": "1.0.0",
      "model_name": "OutputModel",
      "state": {
       "layout": "IPY_MODEL_91f4944d94e1489788c58cf550ca5360"
      }
     },
     "3514ffc409ee428e817e1f7d946c02ed": {
      "model_module": "@jupyter-widgets/controls",
      "model_module_version": "2.0.0",
      "model_name": "CheckboxModel",
      "state": {
       "description": "SW_IN",
       "disabled": false,
       "layout": "IPY_MODEL_2778e18c2f5345ba8dda318abe6f59ee",
       "style": "IPY_MODEL_f03b5637d19d4bf58ecd7424f61f177a",
       "value": true
      }
     },
     "35629ee2743b4df39eb03985f040343f": {
      "model_module": "@jupyter-widgets/controls",
      "model_module_version": "2.0.0",
      "model_name": "CheckboxModel",
      "state": {
       "description": "TA",
       "disabled": false,
       "layout": "IPY_MODEL_60ca499d1dc94f708a95a57287c50d22",
       "style": "IPY_MODEL_0736a1afc85247ca9d8ae7b584fd4a7d",
       "value": true
      }
     },
     "374568c0814c42d39bb64c972265efc7": {
      "model_module": "@jupyter-widgets/controls",
      "model_module_version": "2.0.0",
      "model_name": "CheckboxStyleModel",
      "state": {
       "description_width": ""
      }
     },
     "39ebd8d011234535b22275ffd21697e2": {
      "model_module": "@jupyter-widgets/controls",
      "model_module_version": "2.0.0",
      "model_name": "SliderStyleModel",
      "state": {
       "description_width": ""
      }
     },
     "418e3a5f53a84309beb468339b22a7d2": {
      "model_module": "@jupyter-widgets/base",
      "model_module_version": "2.0.0",
      "model_name": "LayoutModel",
      "state": {}
     },
     "4234d0ffcf4349ebb80e95df02655dbb": {
      "model_module": "@jupyter-widgets/output",
      "model_module_version": "1.0.0",
      "model_name": "OutputModel",
      "state": {
       "layout": "IPY_MODEL_bf4c7cf8d6e548d8b54be1b1ddd12929",
       "outputs": [
        {
         "name": "stderr",
         "output_type": "stream",
         "text": "/home/simone/.local/lib/python3.10/site-packages/altair/utils/core.py:317: FutureWarning: iteritems is deprecated and will be removed in a future version. Use .items instead.\n  for col_name, dtype in df.dtypes.iteritems():\n"
        },
        {
         "data": {
          "text/html": "\n<div id=\"altair-viz-ba649ba9fc164e4d8752420bf72ed23a\"></div>\n<script type=\"text/javascript\">\n  var VEGA_DEBUG = (typeof VEGA_DEBUG == \"undefined\") ? {} : VEGA_DEBUG;\n  (function(spec, embedOpt){\n    let outputDiv = document.currentScript.previousElementSibling;\n    if (outputDiv.id !== \"altair-viz-ba649ba9fc164e4d8752420bf72ed23a\") {\n      outputDiv = document.getElementById(\"altair-viz-ba649ba9fc164e4d8752420bf72ed23a\");\n    }\n    const paths = {\n      \"vega\": \"https://cdn.jsdelivr.net/npm//vega@5?noext\",\n      \"vega-lib\": \"https://cdn.jsdelivr.net/npm//vega-lib?noext\",\n      \"vega-lite\": \"https://cdn.jsdelivr.net/npm//vega-lite@4.17.0?noext\",\n      \"vega-embed\": \"https://cdn.jsdelivr.net/npm//vega-embed@6?noext\",\n    };\n\n    function maybeLoadScript(lib, version) {\n      var key = `${lib.replace(\"-\", \"\")}_version`;\n      return (VEGA_DEBUG[key] == version) ?\n        Promise.resolve(paths[lib]) :\n        new Promise(function(resolve, reject) {\n          var s = document.createElement('script');\n          document.getElementsByTagName(\"head\")[0].appendChild(s);\n          s.async = true;\n          s.onload = () => {\n            VEGA_DEBUG[key] = version;\n            return resolve(paths[lib]);\n          };\n          s.onerror = () => reject(`Error loading script: ${paths[lib]}`);\n          s.src = paths[lib];\n        });\n    }\n\n    function showError(err) {\n      outputDiv.innerHTML = `<div class=\"error\" style=\"color:red;\">${err}</div>`;\n      throw err;\n    }\n\n    function displayChart(vegaEmbed) {\n      vegaEmbed(outputDiv, spec, embedOpt)\n        .catch(err => showError(`Javascript Error: ${err.message}<br>This usually means there's a typo in your chart specification. See the javascript console for the full traceback.`));\n    }\n\n    if(typeof define === \"function\" && define.amd) {\n      requirejs.config({paths});\n      require([\"vega-embed\"], displayChart, err => showError(`Error loading script: ${err.message}`));\n    } else {\n      maybeLoadScript(\"vega\", \"5\")\n        .then(() => maybeLoadScript(\"vega-lite\", \"4.17.0\"))\n        .then(() => maybeLoadScript(\"vega-embed\", \"6\"))\n        .catch(showError)\n        .then(() => displayChart(vegaEmbed));\n    }\n  })({\"config\": {\"view\": {\"continuousWidth\": 400, \"continuousHeight\": 300}}, \"vconcat\": [{\"hconcat\": [{\"vconcat\": [{\"layer\": [{\"data\": {\"name\": \"data-e5b6525578184f9b067648dcd0ca5d24\"}, \"mark\": {\"type\": \"point\", \"color\": \"black\", \"fillOpacity\": 1, \"strokeWidth\": 1}, \"encoding\": {\"fill\": {\"field\": \"is_missing\", \"legend\": {\"title\": [\"Observed data\", \"(is missing)\"]}, \"scale\": {\"range\": [\"#ffffff00\", \"black\"]}, \"type\": \"nominal\"}, \"shape\": {\"field\": \"is_missing\", \"type\": \"nominal\"}, \"x\": {\"axis\": {\"domain\": false, \"labels\": false, \"ticks\": false, \"title\": null}, \"field\": \"time\", \"type\": \"quantitative\"}, \"y\": {\"field\": \"value\", \"scale\": {\"zero\": false}, \"title\": \"TA [\\u00b0C]\", \"type\": \"quantitative\"}}}, {\"layer\": [{\"mark\": \"errorband\", \"encoding\": {\"color\": {\"field\": \"variable\", \"legend\": {\"title\": [\"Line: pred. mean\", \"area: +/- 2 std\", \"(variable)\"]}, \"type\": \"nominal\"}, \"tooltip\": [{\"field\": \"std\", \"format\": \".4\", \"type\": \"quantitative\"}, {\"field\": \"mean\", \"format\": \".4\", \"type\": \"quantitative\"}], \"x\": {\"field\": \"time\", \"type\": \"quantitative\"}, \"y\": {\"field\": \"err_low\", \"scale\": {\"zero\": false}, \"title\": \"TA [\\u00b0C]\", \"type\": \"quantitative\"}, \"y2\": {\"field\": \"err_high\"}}, \"height\": 200, \"transform\": [{\"calculate\": \"datum.mean - 2 * datum.std\", \"as\": \"err_low\"}, {\"calculate\": \"datum.mean + 2 * datum.std\", \"as\": \"err_high\"}], \"width\": 350}, {\"mark\": \"line\", \"encoding\": {\"color\": {\"field\": \"variable\", \"type\": \"nominal\"}, \"x\": {\"field\": \"time\", \"type\": \"quantitative\"}, \"y\": {\"field\": \"mean\", \"scale\": {\"zero\": false}, \"title\": \"TA [\\u00b0C]\", \"type\": \"quantitative\"}}, \"selection\": {\"selector002\": {\"type\": \"interval\", \"bind\": \"scales\", \"encodings\": [\"x\"]}}, \"title\": \"TA\"}], \"data\": {\"name\": \"data-a7d99a24bf24dc9479b86720963b2fff\"}}]}, {\"data\": {\"name\": \"data-e5b6525578184f9b067648dcd0ca5d24\"}, \"mark\": {\"type\": \"tick\", \"color\": \"black\"}, \"encoding\": {\"color\": {\"condition\": {\"value\": \"black\", \"test\": \"datum.is_missing\"}, \"value\": \"white\"}, \"x\": {\"field\": \"time\", \"type\": \"quantitative\"}}, \"selection\": {\"selector002\": {\"type\": \"interval\", \"bind\": \"scales\", \"encodings\": [\"x\"]}}, \"width\": 350}], \"spacing\": -10}, {\"vconcat\": [{\"layer\": [{\"data\": {\"name\": \"data-56ce8c7f57e47271218cbfca938aecda\"}, \"mark\": {\"type\": \"point\", \"color\": \"black\", \"fillOpacity\": 1, \"strokeWidth\": 1}, \"encoding\": {\"fill\": {\"field\": \"is_missing\", \"legend\": {\"title\": [\"Observed data\", \"(is missing)\"]}, \"scale\": {\"range\": [\"#ffffff00\", \"black\"]}, \"type\": \"nominal\"}, \"shape\": {\"field\": \"is_missing\", \"type\": \"nominal\"}, \"x\": {\"axis\": {\"domain\": false, \"labels\": false, \"ticks\": false, \"title\": null}, \"field\": \"time\", \"type\": \"quantitative\"}, \"y\": {\"field\": \"value\", \"scale\": {\"zero\": false}, \"title\": \"SW_IN [W m-2]\", \"type\": \"quantitative\"}}}, {\"layer\": [{\"mark\": \"errorband\", \"encoding\": {\"color\": {\"field\": \"variable\", \"legend\": {\"title\": [\"Line: pred. mean\", \"area: +/- 2 std\", \"(variable)\"]}, \"type\": \"nominal\"}, \"tooltip\": [{\"field\": \"std\", \"format\": \".4\", \"type\": \"quantitative\"}, {\"field\": \"mean\", \"format\": \".4\", \"type\": \"quantitative\"}], \"x\": {\"field\": \"time\", \"type\": \"quantitative\"}, \"y\": {\"field\": \"err_low\", \"scale\": {\"zero\": false}, \"title\": \"SW_IN [W m-2]\", \"type\": \"quantitative\"}, \"y2\": {\"field\": \"err_high\"}}, \"height\": 200, \"transform\": [{\"calculate\": \"datum.mean - 2 * datum.std\", \"as\": \"err_low\"}, {\"calculate\": \"datum.mean + 2 * datum.std\", \"as\": \"err_high\"}], \"width\": 350}, {\"mark\": \"line\", \"encoding\": {\"color\": {\"field\": \"variable\", \"type\": \"nominal\"}, \"x\": {\"field\": \"time\", \"type\": \"quantitative\"}, \"y\": {\"field\": \"mean\", \"scale\": {\"zero\": false}, \"title\": \"SW_IN [W m-2]\", \"type\": \"quantitative\"}}, \"selection\": {\"selector002\": {\"type\": \"interval\", \"bind\": \"scales\", \"encodings\": [\"x\"]}}, \"title\": \"SW_IN\"}], \"data\": {\"name\": \"data-c1f7adee25800ce816b86c182ca540ba\"}}]}, {\"data\": {\"name\": \"data-56ce8c7f57e47271218cbfca938aecda\"}, \"mark\": {\"type\": \"tick\", \"color\": \"black\"}, \"encoding\": {\"color\": {\"condition\": {\"value\": \"black\", \"test\": \"datum.is_missing\"}, \"value\": \"white\"}, \"x\": {\"field\": \"time\", \"type\": \"quantitative\"}}, \"selection\": {\"selector002\": {\"type\": \"interval\", \"bind\": \"scales\", \"encodings\": [\"x\"]}}, \"width\": 350}], \"spacing\": -10}]}, {\"hconcat\": [{\"vconcat\": [{\"layer\": [{\"data\": {\"name\": \"data-b81d453e6a0e63188b098175c0a635c7\"}, \"mark\": {\"type\": \"point\", \"color\": \"black\", \"fillOpacity\": 1, \"strokeWidth\": 1}, \"encoding\": {\"fill\": {\"field\": \"is_missing\", \"legend\": {\"title\": [\"Observed data\", \"(is missing)\"]}, \"scale\": {\"range\": [\"#ffffff00\", \"black\"]}, \"type\": \"nominal\"}, \"shape\": {\"field\": \"is_missing\", \"type\": \"nominal\"}, \"x\": {\"axis\": {\"domain\": false, \"labels\": false, \"ticks\": false, \"title\": null}, \"field\": \"time\", \"type\": \"quantitative\"}, \"y\": {\"field\": \"value\", \"scale\": {\"zero\": false}, \"title\": \"VPD [hPa]\", \"type\": \"quantitative\"}}}, {\"layer\": [{\"mark\": \"errorband\", \"encoding\": {\"color\": {\"field\": \"variable\", \"legend\": {\"title\": [\"Line: pred. mean\", \"area: +/- 2 std\", \"(variable)\"]}, \"type\": \"nominal\"}, \"tooltip\": [{\"field\": \"std\", \"format\": \".4\", \"type\": \"quantitative\"}, {\"field\": \"mean\", \"format\": \".4\", \"type\": \"quantitative\"}], \"x\": {\"field\": \"time\", \"type\": \"quantitative\"}, \"y\": {\"field\": \"err_low\", \"scale\": {\"zero\": false}, \"title\": \"VPD [hPa]\", \"type\": \"quantitative\"}, \"y2\": {\"field\": \"err_high\"}}, \"height\": 200, \"transform\": [{\"calculate\": \"datum.mean - 2 * datum.std\", \"as\": \"err_low\"}, {\"calculate\": \"datum.mean + 2 * datum.std\", \"as\": \"err_high\"}], \"width\": 350}, {\"mark\": \"line\", \"encoding\": {\"color\": {\"field\": \"variable\", \"type\": \"nominal\"}, \"x\": {\"field\": \"time\", \"type\": \"quantitative\"}, \"y\": {\"field\": \"mean\", \"scale\": {\"zero\": false}, \"title\": \"VPD [hPa]\", \"type\": \"quantitative\"}}, \"selection\": {\"selector002\": {\"type\": \"interval\", \"bind\": \"scales\", \"encodings\": [\"x\"]}}, \"title\": \"VPD\"}], \"data\": {\"name\": \"data-65bd5955cc5a65f7e4c8408af9d05c50\"}}]}, {\"data\": {\"name\": \"data-b81d453e6a0e63188b098175c0a635c7\"}, \"mark\": {\"type\": \"tick\", \"color\": \"black\"}, \"encoding\": {\"color\": {\"condition\": {\"value\": \"black\", \"test\": \"datum.is_missing\"}, \"value\": \"white\"}, \"x\": {\"field\": \"time\", \"type\": \"quantitative\"}}, \"selection\": {\"selector002\": {\"type\": \"interval\", \"bind\": \"scales\", \"encodings\": [\"x\"]}}, \"width\": 350}], \"spacing\": -10}]}, {\"hconcat\": []}, {\"hconcat\": []}, {\"hconcat\": []}, {\"hconcat\": []}, {\"hconcat\": []}, {\"hconcat\": []}, {\"hconcat\": []}, {\"hconcat\": []}, {\"hconcat\": []}, {\"hconcat\": []}, {\"hconcat\": []}, {\"hconcat\": []}, {\"hconcat\": []}, {\"hconcat\": []}, {\"hconcat\": []}, {\"hconcat\": []}, {\"hconcat\": []}, {\"hconcat\": []}, {\"hconcat\": []}, {\"hconcat\": []}, {\"hconcat\": []}, {\"hconcat\": []}, {\"hconcat\": []}, {\"hconcat\": []}, {\"hconcat\": []}, {\"hconcat\": []}, {\"hconcat\": []}, {\"hconcat\": []}, {\"hconcat\": []}, {\"hconcat\": []}, {\"hconcat\": []}, {\"hconcat\": []}, {\"hconcat\": []}, {\"hconcat\": []}, {\"hconcat\": []}, {\"hconcat\": []}, {\"hconcat\": []}, {\"hconcat\": []}, {\"hconcat\": []}, {\"hconcat\": []}, {\"hconcat\": []}, {\"hconcat\": []}, {\"hconcat\": []}, {\"hconcat\": []}, {\"hconcat\": []}, {\"hconcat\": []}, {\"hconcat\": []}, {\"hconcat\": []}, {\"hconcat\": []}, {\"hconcat\": []}, {\"hconcat\": []}, {\"hconcat\": []}, {\"hconcat\": []}, {\"hconcat\": []}, {\"hconcat\": []}, {\"hconcat\": []}, {\"hconcat\": []}, {\"hconcat\": []}, {\"hconcat\": []}, {\"hconcat\": []}, {\"hconcat\": []}, {\"hconcat\": []}, {\"hconcat\": []}, {\"hconcat\": []}, {\"hconcat\": []}, {\"hconcat\": []}, {\"hconcat\": []}, {\"hconcat\": []}, {\"hconcat\": []}, {\"hconcat\": []}, {\"hconcat\": []}, {\"hconcat\": []}, {\"hconcat\": []}, {\"hconcat\": []}, {\"hconcat\": []}, {\"hconcat\": []}, {\"hconcat\": []}, {\"hconcat\": []}, {\"hconcat\": []}, {\"hconcat\": []}, {\"hconcat\": []}, {\"hconcat\": []}, {\"hconcat\": []}, {\"hconcat\": []}, {\"hconcat\": []}, {\"hconcat\": []}, {\"hconcat\": []}, {\"hconcat\": []}, {\"hconcat\": []}, {\"hconcat\": []}, {\"hconcat\": []}, {\"hconcat\": []}, {\"hconcat\": []}, {\"hconcat\": []}, {\"hconcat\": []}, {\"hconcat\": []}, {\"hconcat\": []}, {\"hconcat\": []}, {\"hconcat\": []}, {\"hconcat\": []}, {\"hconcat\": []}, {\"hconcat\": []}, {\"hconcat\": []}, {\"hconcat\": []}, {\"hconcat\": []}, {\"hconcat\": []}, {\"hconcat\": []}, {\"hconcat\": []}, {\"hconcat\": []}, {\"hconcat\": []}, {\"hconcat\": []}, {\"hconcat\": []}, {\"hconcat\": []}, {\"hconcat\": []}, {\"hconcat\": []}, {\"hconcat\": []}, {\"hconcat\": []}, {\"hconcat\": []}, {\"hconcat\": []}, {\"hconcat\": []}, {\"hconcat\": []}, {\"hconcat\": []}, {\"hconcat\": []}, {\"hconcat\": []}, {\"hconcat\": []}, {\"hconcat\": []}, {\"hconcat\": []}, {\"hconcat\": []}, {\"hconcat\": []}, {\"hconcat\": []}, {\"hconcat\": []}, {\"hconcat\": []}, {\"hconcat\": []}, {\"hconcat\": []}, {\"hconcat\": []}, {\"hconcat\": []}, {\"hconcat\": []}, {\"hconcat\": []}, {\"hconcat\": []}, {\"hconcat\": []}, {\"hconcat\": []}, {\"hconcat\": []}, {\"hconcat\": []}, {\"hconcat\": []}, {\"hconcat\": []}, {\"hconcat\": []}, {\"hconcat\": []}, {\"hconcat\": []}, {\"hconcat\": []}, {\"hconcat\": []}, {\"hconcat\": []}, {\"hconcat\": []}, {\"hconcat\": []}, {\"hconcat\": []}, {\"hconcat\": []}, {\"hconcat\": []}, {\"hconcat\": []}, {\"hconcat\": []}, {\"hconcat\": []}, {\"hconcat\": []}, {\"hconcat\": []}, {\"hconcat\": []}, {\"hconcat\": []}, {\"hconcat\": []}, {\"hconcat\": []}, {\"hconcat\": []}, {\"hconcat\": []}, {\"hconcat\": []}, {\"hconcat\": []}, {\"hconcat\": []}, {\"hconcat\": []}, {\"hconcat\": []}, {\"hconcat\": []}, {\"hconcat\": []}, {\"hconcat\": []}, {\"hconcat\": []}, {\"hconcat\": []}, {\"hconcat\": []}, {\"hconcat\": []}, {\"hconcat\": []}, {\"hconcat\": []}, {\"hconcat\": []}, {\"hconcat\": []}, {\"hconcat\": []}, {\"hconcat\": []}, {\"hconcat\": []}, {\"hconcat\": []}, {\"hconcat\": []}, {\"hconcat\": []}, {\"hconcat\": []}, {\"hconcat\": []}, {\"hconcat\": []}, {\"hconcat\": []}, {\"hconcat\": []}, {\"hconcat\": []}, {\"hconcat\": []}, {\"hconcat\": []}, {\"hconcat\": []}, {\"hconcat\": []}, {\"hconcat\": []}, {\"hconcat\": []}, {\"hconcat\": []}, {\"hconcat\": []}, {\"hconcat\": []}, {\"hconcat\": []}, {\"hconcat\": []}, {\"hconcat\": []}, {\"hconcat\": []}, {\"hconcat\": []}, {\"hconcat\": []}, {\"hconcat\": []}, {\"hconcat\": []}, {\"hconcat\": []}, {\"hconcat\": []}, {\"hconcat\": []}, {\"hconcat\": []}, {\"hconcat\": []}, {\"hconcat\": []}, {\"hconcat\": []}, {\"hconcat\": []}, {\"hconcat\": []}, {\"hconcat\": []}, {\"hconcat\": []}, {\"hconcat\": []}, {\"hconcat\": []}, {\"hconcat\": []}, {\"hconcat\": []}, {\"hconcat\": []}, {\"hconcat\": []}, {\"hconcat\": []}, {\"hconcat\": []}, {\"hconcat\": []}, {\"hconcat\": []}, {\"hconcat\": []}, {\"hconcat\": []}, {\"hconcat\": []}, {\"hconcat\": []}, {\"hconcat\": []}, {\"hconcat\": []}, {\"hconcat\": []}, {\"hconcat\": []}, {\"hconcat\": []}, {\"hconcat\": []}, {\"hconcat\": []}, {\"hconcat\": []}, {\"hconcat\": []}, {\"hconcat\": []}, {\"hconcat\": []}, {\"hconcat\": []}, {\"hconcat\": []}, {\"hconcat\": []}, {\"hconcat\": []}, {\"hconcat\": []}, {\"hconcat\": []}, {\"hconcat\": []}, {\"hconcat\": []}, {\"hconcat\": []}, {\"hconcat\": []}, {\"hconcat\": []}, {\"hconcat\": []}, {\"hconcat\": []}, {\"hconcat\": []}, {\"hconcat\": []}, {\"hconcat\": []}, {\"hconcat\": []}, {\"hconcat\": []}, {\"hconcat\": []}, {\"hconcat\": []}, {\"hconcat\": []}, {\"hconcat\": []}, {\"hconcat\": []}, {\"hconcat\": []}, {\"hconcat\": []}, {\"hconcat\": []}, {\"hconcat\": []}, {\"hconcat\": []}, {\"hconcat\": []}, {\"hconcat\": []}, {\"hconcat\": []}, {\"hconcat\": []}, {\"hconcat\": []}, {\"hconcat\": []}, {\"hconcat\": []}, {\"hconcat\": []}, {\"hconcat\": []}, {\"hconcat\": []}, {\"hconcat\": []}, {\"hconcat\": []}, {\"hconcat\": []}, {\"hconcat\": []}, {\"hconcat\": []}, {\"hconcat\": []}, {\"hconcat\": []}, {\"hconcat\": []}, {\"hconcat\": []}, {\"hconcat\": []}, {\"hconcat\": []}, {\"hconcat\": []}], \"$schema\": \"https://vega.github.io/schema/vega-lite/v4.17.0.json\", \"datasets\": {\"data-e5b6525578184f9b067648dcd0ca5d24\": [{\"time\": 0.0, \"variable\": \"TA\", \"value\": -0.6000000238418579, \"is_missing\": false}, {\"time\": 1.0, \"variable\": \"TA\", \"value\": -0.6499999761581421, \"is_missing\": false}, {\"time\": 2.0, \"variable\": \"TA\", \"value\": -0.5799999833106995, \"is_missing\": false}, {\"time\": 3.0, \"variable\": \"TA\", \"value\": -0.5099999904632568, \"is_missing\": false}, {\"time\": 4.0, \"variable\": \"TA\", \"value\": -0.49000000953674316, \"is_missing\": false}, {\"time\": 5.0, \"variable\": \"TA\", \"value\": -0.4000000059604645, \"is_missing\": false}, {\"time\": 6.0, \"variable\": \"TA\", \"value\": -0.36000001430511475, \"is_missing\": false}, {\"time\": 7.0, \"variable\": \"TA\", \"value\": -0.3499999940395355, \"is_missing\": false}, {\"time\": 8.0, \"variable\": \"TA\", \"value\": -0.2800000011920929, \"is_missing\": false}, {\"time\": 9.0, \"variable\": \"TA\", \"value\": -0.27000001072883606, \"is_missing\": false}, {\"time\": 10.0, \"variable\": \"TA\", \"value\": -0.23000000417232513, \"is_missing\": false}, {\"time\": 11.0, \"variable\": \"TA\", \"value\": -0.23000000417232513, \"is_missing\": false}, {\"time\": 12.0, \"variable\": \"TA\", \"value\": -0.2199999988079071, \"is_missing\": false}, {\"time\": 13.0, \"variable\": \"TA\", \"value\": -0.23999999463558197, \"is_missing\": false}, {\"time\": 14.0, \"variable\": \"TA\", \"value\": -0.23000000417232513, \"is_missing\": false}, {\"time\": 15.0, \"variable\": \"TA\", \"value\": -0.2199999988079071, \"is_missing\": false}, {\"time\": 16.0, \"variable\": \"TA\", \"value\": -0.1899999976158142, \"is_missing\": false}, {\"time\": 17.0, \"variable\": \"TA\", \"value\": -0.14000000059604645, \"is_missing\": false}, {\"time\": 18.0, \"variable\": \"TA\", \"value\": -0.029999999329447746, \"is_missing\": false}, {\"time\": 19.0, \"variable\": \"TA\", \"value\": 0.03999999910593033, \"is_missing\": false}, {\"time\": 20.0, \"variable\": \"TA\", \"value\": 0.10000000149011612, \"is_missing\": false}, {\"time\": 21.0, \"variable\": \"TA\", \"value\": 0.18000000715255737, \"is_missing\": false}, {\"time\": 22.0, \"variable\": \"TA\", \"value\": 0.20999999344348907, \"is_missing\": false}, {\"time\": 23.0, \"variable\": \"TA\", \"value\": 0.23000000417232513, \"is_missing\": false}, {\"time\": 24.0, \"variable\": \"TA\", \"value\": 0.33000001311302185, \"is_missing\": false}, {\"time\": 25.0, \"variable\": \"TA\", \"value\": 0.4099999964237213, \"is_missing\": false}, {\"time\": 26.0, \"variable\": \"TA\", \"value\": 0.4399999976158142, \"is_missing\": false}, {\"time\": 27.0, \"variable\": \"TA\", \"value\": 0.47999998927116394, \"is_missing\": false}, {\"time\": 28.0, \"variable\": \"TA\", \"value\": 0.49000000953674316, \"is_missing\": false}, {\"time\": 29.0, \"variable\": \"TA\", \"value\": 0.5099999904632568, \"is_missing\": false}, {\"time\": 30.0, \"variable\": \"TA\", \"value\": 0.5199999809265137, \"is_missing\": true}, {\"time\": 31.0, \"variable\": \"TA\", \"value\": 0.5699999928474426, \"is_missing\": true}, {\"time\": 32.0, \"variable\": \"TA\", \"value\": 0.7300000190734863, \"is_missing\": true}, {\"time\": 33.0, \"variable\": \"TA\", \"value\": 0.7699999809265137, \"is_missing\": true}, {\"time\": 34.0, \"variable\": \"TA\", \"value\": 0.8399999737739563, \"is_missing\": true}, {\"time\": 35.0, \"variable\": \"TA\", \"value\": 0.9900000095367432, \"is_missing\": true}, {\"time\": 36.0, \"variable\": \"TA\", \"value\": 1.350000023841858, \"is_missing\": true}, {\"time\": 37.0, \"variable\": \"TA\", \"value\": 1.8600000143051147, \"is_missing\": true}, {\"time\": 38.0, \"variable\": \"TA\", \"value\": 2.009999990463257, \"is_missing\": true}, {\"time\": 39.0, \"variable\": \"TA\", \"value\": 2.069999933242798, \"is_missing\": true}, {\"time\": 40.0, \"variable\": \"TA\", \"value\": 2.0, \"is_missing\": false}, {\"time\": 41.0, \"variable\": \"TA\", \"value\": 2.190000057220459, \"is_missing\": false}, {\"time\": 42.0, \"variable\": \"TA\", \"value\": 2.259999990463257, \"is_missing\": false}, {\"time\": 43.0, \"variable\": \"TA\", \"value\": 2.5299999713897705, \"is_missing\": false}, {\"time\": 44.0, \"variable\": \"TA\", \"value\": 2.5899999141693115, \"is_missing\": false}, {\"time\": 45.0, \"variable\": \"TA\", \"value\": 2.5999999046325684, \"is_missing\": false}, {\"time\": 46.0, \"variable\": \"TA\", \"value\": 2.5299999713897705, \"is_missing\": false}, {\"time\": 47.0, \"variable\": \"TA\", \"value\": 2.299999952316284, \"is_missing\": false}, {\"time\": 48.0, \"variable\": \"TA\", \"value\": 2.0799999237060547, \"is_missing\": false}, {\"time\": 49.0, \"variable\": \"TA\", \"value\": 1.9299999475479126, \"is_missing\": false}, {\"time\": 50.0, \"variable\": \"TA\", \"value\": 1.840000033378601, \"is_missing\": false}, {\"time\": 51.0, \"variable\": \"TA\", \"value\": 1.850000023841858, \"is_missing\": false}, {\"time\": 52.0, \"variable\": \"TA\", \"value\": 1.590000033378601, \"is_missing\": false}, {\"time\": 53.0, \"variable\": \"TA\", \"value\": 1.4299999475479126, \"is_missing\": false}, {\"time\": 54.0, \"variable\": \"TA\", \"value\": 1.3300000429153442, \"is_missing\": false}, {\"time\": 55.0, \"variable\": \"TA\", \"value\": 1.2300000190734863, \"is_missing\": false}, {\"time\": 56.0, \"variable\": \"TA\", \"value\": 1.0399999618530273, \"is_missing\": false}, {\"time\": 57.0, \"variable\": \"TA\", \"value\": 0.9399999976158142, \"is_missing\": false}, {\"time\": 58.0, \"variable\": \"TA\", \"value\": 0.8100000023841858, \"is_missing\": false}, {\"time\": 59.0, \"variable\": \"TA\", \"value\": 0.7900000214576721, \"is_missing\": false}, {\"time\": 60.0, \"variable\": \"TA\", \"value\": 0.6800000071525574, \"is_missing\": false}, {\"time\": 61.0, \"variable\": \"TA\", \"value\": 0.6499999761581421, \"is_missing\": false}, {\"time\": 62.0, \"variable\": \"TA\", \"value\": 0.5799999833106995, \"is_missing\": false}, {\"time\": 63.0, \"variable\": \"TA\", \"value\": 0.49000000953674316, \"is_missing\": false}, {\"time\": 64.0, \"variable\": \"TA\", \"value\": 0.5699999928474426, \"is_missing\": false}, {\"time\": 65.0, \"variable\": \"TA\", \"value\": 0.25, \"is_missing\": false}, {\"time\": 66.0, \"variable\": \"TA\", \"value\": 0.3499999940395355, \"is_missing\": false}, {\"time\": 67.0, \"variable\": \"TA\", \"value\": 0.27000001072883606, \"is_missing\": false}, {\"time\": 68.0, \"variable\": \"TA\", \"value\": 0.3499999940395355, \"is_missing\": false}, {\"time\": 69.0, \"variable\": \"TA\", \"value\": 0.5699999928474426, \"is_missing\": false}, {\"time\": 70.0, \"variable\": \"TA\", \"value\": 0.6299999952316284, \"is_missing\": false}, {\"time\": 71.0, \"variable\": \"TA\", \"value\": 0.7300000190734863, \"is_missing\": false}, {\"time\": 72.0, \"variable\": \"TA\", \"value\": 0.7799999713897705, \"is_missing\": false}, {\"time\": 73.0, \"variable\": \"TA\", \"value\": 1.0499999523162842, \"is_missing\": false}, {\"time\": 74.0, \"variable\": \"TA\", \"value\": 1.190000057220459, \"is_missing\": false}, {\"time\": 75.0, \"variable\": \"TA\", \"value\": 1.409999966621399, \"is_missing\": false}, {\"time\": 76.0, \"variable\": \"TA\", \"value\": 1.5399999618530273, \"is_missing\": false}, {\"time\": 77.0, \"variable\": \"TA\", \"value\": 1.0800000429153442, \"is_missing\": false}, {\"time\": 78.0, \"variable\": \"TA\", \"value\": 0.6200000047683716, \"is_missing\": false}, {\"time\": 79.0, \"variable\": \"TA\", \"value\": 0.5699999928474426, \"is_missing\": false}, {\"time\": 80.0, \"variable\": \"TA\", \"value\": 0.5299999713897705, \"is_missing\": false}, {\"time\": 81.0, \"variable\": \"TA\", \"value\": 0.5699999928474426, \"is_missing\": false}, {\"time\": 82.0, \"variable\": \"TA\", \"value\": 0.5099999904632568, \"is_missing\": false}, {\"time\": 83.0, \"variable\": \"TA\", \"value\": 0.38999998569488525, \"is_missing\": false}, {\"time\": 84.0, \"variable\": \"TA\", \"value\": 0.3499999940395355, \"is_missing\": false}, {\"time\": 85.0, \"variable\": \"TA\", \"value\": 0.4000000059604645, \"is_missing\": false}, {\"time\": 86.0, \"variable\": \"TA\", \"value\": 0.6600000262260437, \"is_missing\": false}, {\"time\": 87.0, \"variable\": \"TA\", \"value\": 0.7599999904632568, \"is_missing\": false}, {\"time\": 88.0, \"variable\": \"TA\", \"value\": 0.8100000023841858, \"is_missing\": false}, {\"time\": 89.0, \"variable\": \"TA\", \"value\": 0.9399999976158142, \"is_missing\": false}, {\"time\": 90.0, \"variable\": \"TA\", \"value\": 0.9700000286102295, \"is_missing\": false}, {\"time\": 91.0, \"variable\": \"TA\", \"value\": 0.8500000238418579, \"is_missing\": false}, {\"time\": 92.0, \"variable\": \"TA\", \"value\": 0.7699999809265137, \"is_missing\": false}, {\"time\": 93.0, \"variable\": \"TA\", \"value\": 0.6299999952316284, \"is_missing\": false}, {\"time\": 94.0, \"variable\": \"TA\", \"value\": 0.5199999809265137, \"is_missing\": false}, {\"time\": 95.0, \"variable\": \"TA\", \"value\": 0.47999998927116394, \"is_missing\": false}, {\"time\": 96.0, \"variable\": \"TA\", \"value\": 0.4099999964237213, \"is_missing\": false}, {\"time\": 97.0, \"variable\": \"TA\", \"value\": 0.28999999165534973, \"is_missing\": false}, {\"time\": 98.0, \"variable\": \"TA\", \"value\": 0.3100000023841858, \"is_missing\": false}, {\"time\": 99.0, \"variable\": \"TA\", \"value\": 0.41999998688697815, \"is_missing\": false}, {\"time\": 100.0, \"variable\": \"TA\", \"value\": 0.5099999904632568, \"is_missing\": false}, {\"time\": 101.0, \"variable\": \"TA\", \"value\": 0.5699999928474426, \"is_missing\": false}, {\"time\": 102.0, \"variable\": \"TA\", \"value\": 0.6499999761581421, \"is_missing\": false}, {\"time\": 103.0, \"variable\": \"TA\", \"value\": 0.8100000023841858, \"is_missing\": false}, {\"time\": 104.0, \"variable\": \"TA\", \"value\": 0.949999988079071, \"is_missing\": false}, {\"time\": 105.0, \"variable\": \"TA\", \"value\": 1.090000033378601, \"is_missing\": false}, {\"time\": 106.0, \"variable\": \"TA\", \"value\": 1.1799999475479126, \"is_missing\": false}, {\"time\": 107.0, \"variable\": \"TA\", \"value\": 1.350000023841858, \"is_missing\": false}, {\"time\": 108.0, \"variable\": \"TA\", \"value\": 1.4199999570846558, \"is_missing\": false}, {\"time\": 109.0, \"variable\": \"TA\", \"value\": 1.4199999570846558, \"is_missing\": false}, {\"time\": 110.0, \"variable\": \"TA\", \"value\": 1.5700000524520874, \"is_missing\": false}, {\"time\": 111.0, \"variable\": \"TA\", \"value\": 1.6699999570846558, \"is_missing\": false}, {\"time\": 112.0, \"variable\": \"TA\", \"value\": 1.7999999523162842, \"is_missing\": false}, {\"time\": 113.0, \"variable\": \"TA\", \"value\": 1.8600000143051147, \"is_missing\": false}, {\"time\": 114.0, \"variable\": \"TA\", \"value\": 1.909999966621399, \"is_missing\": false}, {\"time\": 115.0, \"variable\": \"TA\", \"value\": 1.9500000476837158, \"is_missing\": false}, {\"time\": 116.0, \"variable\": \"TA\", \"value\": 1.9900000095367432, \"is_missing\": false}, {\"time\": 117.0, \"variable\": \"TA\", \"value\": 2.0999999046325684, \"is_missing\": false}, {\"time\": 118.0, \"variable\": \"TA\", \"value\": 2.319999933242798, \"is_missing\": false}, {\"time\": 119.0, \"variable\": \"TA\", \"value\": 2.5299999713897705, \"is_missing\": false}, {\"time\": 120.0, \"variable\": \"TA\", \"value\": 2.4800000190734863, \"is_missing\": false}, {\"time\": 121.0, \"variable\": \"TA\", \"value\": 2.390000104904175, \"is_missing\": false}, {\"time\": 122.0, \"variable\": \"TA\", \"value\": 2.5199999809265137, \"is_missing\": false}, {\"time\": 123.0, \"variable\": \"TA\", \"value\": 2.680000066757202, \"is_missing\": false}, {\"time\": 124.0, \"variable\": \"TA\", \"value\": 2.700000047683716, \"is_missing\": false}, {\"time\": 125.0, \"variable\": \"TA\", \"value\": 2.700000047683716, \"is_missing\": false}, {\"time\": 126.0, \"variable\": \"TA\", \"value\": 2.609999895095825, \"is_missing\": false}, {\"time\": 127.0, \"variable\": \"TA\", \"value\": 2.450000047683716, \"is_missing\": false}, {\"time\": 128.0, \"variable\": \"TA\", \"value\": 2.359999895095825, \"is_missing\": false}, {\"time\": 129.0, \"variable\": \"TA\", \"value\": 2.3299999237060547, \"is_missing\": false}, {\"time\": 130.0, \"variable\": \"TA\", \"value\": 2.2200000286102295, \"is_missing\": false}, {\"time\": 131.0, \"variable\": \"TA\", \"value\": 2.069999933242798, \"is_missing\": false}, {\"time\": 132.0, \"variable\": \"TA\", \"value\": 1.9600000381469727, \"is_missing\": false}, {\"time\": 133.0, \"variable\": \"TA\", \"value\": 2.009999990463257, \"is_missing\": false}, {\"time\": 134.0, \"variable\": \"TA\", \"value\": 2.009999990463257, \"is_missing\": false}, {\"time\": 135.0, \"variable\": \"TA\", \"value\": 2.059999942779541, \"is_missing\": false}, {\"time\": 136.0, \"variable\": \"TA\", \"value\": 2.140000104904175, \"is_missing\": false}, {\"time\": 137.0, \"variable\": \"TA\", \"value\": 2.109999895095825, \"is_missing\": false}, {\"time\": 138.0, \"variable\": \"TA\", \"value\": 2.0999999046325684, \"is_missing\": false}, {\"time\": 139.0, \"variable\": \"TA\", \"value\": 2.069999933242798, \"is_missing\": false}, {\"time\": 140.0, \"variable\": \"TA\", \"value\": 2.0899999141693115, \"is_missing\": false}, {\"time\": 141.0, \"variable\": \"TA\", \"value\": 2.109999895095825, \"is_missing\": false}, {\"time\": 142.0, \"variable\": \"TA\", \"value\": 2.0999999046325684, \"is_missing\": false}, {\"time\": 143.0, \"variable\": \"TA\", \"value\": 2.0999999046325684, \"is_missing\": false}, {\"time\": 144.0, \"variable\": \"TA\", \"value\": 2.009999990463257, \"is_missing\": false}, {\"time\": 145.0, \"variable\": \"TA\", \"value\": 2.049999952316284, \"is_missing\": false}, {\"time\": 146.0, \"variable\": \"TA\", \"value\": 2.130000114440918, \"is_missing\": false}, {\"time\": 147.0, \"variable\": \"TA\", \"value\": 2.0999999046325684, \"is_missing\": false}, {\"time\": 148.0, \"variable\": \"TA\", \"value\": 2.190000057220459, \"is_missing\": false}, {\"time\": 149.0, \"variable\": \"TA\", \"value\": 2.2699999809265137, \"is_missing\": false}, {\"time\": 150.0, \"variable\": \"TA\", \"value\": 2.319999933242798, \"is_missing\": false}, {\"time\": 151.0, \"variable\": \"TA\", \"value\": 2.3399999141693115, \"is_missing\": false}, {\"time\": 152.0, \"variable\": \"TA\", \"value\": 2.240000009536743, \"is_missing\": false}, {\"time\": 153.0, \"variable\": \"TA\", \"value\": 2.0, \"is_missing\": false}, {\"time\": 154.0, \"variable\": \"TA\", \"value\": 1.940000057220459, \"is_missing\": false}, {\"time\": 155.0, \"variable\": \"TA\", \"value\": 2.069999933242798, \"is_missing\": false}, {\"time\": 156.0, \"variable\": \"TA\", \"value\": 2.0399999618530273, \"is_missing\": false}, {\"time\": 157.0, \"variable\": \"TA\", \"value\": 2.0299999713897705, \"is_missing\": false}, {\"time\": 158.0, \"variable\": \"TA\", \"value\": 2.069999933242798, \"is_missing\": false}, {\"time\": 159.0, \"variable\": \"TA\", \"value\": 2.0799999237060547, \"is_missing\": false}, {\"time\": 160.0, \"variable\": \"TA\", \"value\": 1.940000057220459, \"is_missing\": false}, {\"time\": 161.0, \"variable\": \"TA\", \"value\": 1.9199999570846558, \"is_missing\": false}, {\"time\": 162.0, \"variable\": \"TA\", \"value\": 1.9600000381469727, \"is_missing\": false}, {\"time\": 163.0, \"variable\": \"TA\", \"value\": 2.0199999809265137, \"is_missing\": false}, {\"time\": 164.0, \"variable\": \"TA\", \"value\": 2.059999942779541, \"is_missing\": false}, {\"time\": 165.0, \"variable\": \"TA\", \"value\": 2.109999895095825, \"is_missing\": false}, {\"time\": 166.0, \"variable\": \"TA\", \"value\": 2.259999990463257, \"is_missing\": false}, {\"time\": 167.0, \"variable\": \"TA\", \"value\": 2.319999933242798, \"is_missing\": false}, {\"time\": 168.0, \"variable\": \"TA\", \"value\": 2.3399999141693115, \"is_missing\": false}, {\"time\": 169.0, \"variable\": \"TA\", \"value\": 2.309999942779541, \"is_missing\": false}, {\"time\": 170.0, \"variable\": \"TA\", \"value\": 2.359999895095825, \"is_missing\": false}, {\"time\": 171.0, \"variable\": \"TA\", \"value\": 2.450000047683716, \"is_missing\": false}, {\"time\": 172.0, \"variable\": \"TA\", \"value\": 2.5399999618530273, \"is_missing\": false}, {\"time\": 173.0, \"variable\": \"TA\", \"value\": 2.5899999141693115, \"is_missing\": false}, {\"time\": 174.0, \"variable\": \"TA\", \"value\": 2.700000047683716, \"is_missing\": false}, {\"time\": 175.0, \"variable\": \"TA\", \"value\": 2.9000000953674316, \"is_missing\": false}, {\"time\": 176.0, \"variable\": \"TA\", \"value\": 3.0399999618530273, \"is_missing\": false}, {\"time\": 177.0, \"variable\": \"TA\", \"value\": 3.1600000858306885, \"is_missing\": false}, {\"time\": 178.0, \"variable\": \"TA\", \"value\": 3.3299999237060547, \"is_missing\": false}, {\"time\": 179.0, \"variable\": \"TA\", \"value\": 3.390000104904175, \"is_missing\": false}, {\"time\": 180.0, \"variable\": \"TA\", \"value\": 3.690000057220459, \"is_missing\": false}, {\"time\": 181.0, \"variable\": \"TA\", \"value\": 4.050000190734863, \"is_missing\": false}, {\"time\": 182.0, \"variable\": \"TA\", \"value\": 4.21999979019165, \"is_missing\": false}, {\"time\": 183.0, \"variable\": \"TA\", \"value\": 4.190000057220459, \"is_missing\": false}, {\"time\": 184.0, \"variable\": \"TA\", \"value\": 4.21999979019165, \"is_missing\": false}, {\"time\": 185.0, \"variable\": \"TA\", \"value\": 4.360000133514404, \"is_missing\": false}, {\"time\": 186.0, \"variable\": \"TA\", \"value\": 4.489999771118164, \"is_missing\": false}, {\"time\": 187.0, \"variable\": \"TA\", \"value\": 4.639999866485596, \"is_missing\": false}, {\"time\": 188.0, \"variable\": \"TA\", \"value\": 4.730000019073486, \"is_missing\": false}, {\"time\": 189.0, \"variable\": \"TA\", \"value\": 4.820000171661377, \"is_missing\": false}, {\"time\": 190.0, \"variable\": \"TA\", \"value\": 4.820000171661377, \"is_missing\": false}, {\"time\": 191.0, \"variable\": \"TA\", \"value\": 4.670000076293945, \"is_missing\": false}, {\"time\": 192.0, \"variable\": \"TA\", \"value\": 4.590000152587891, \"is_missing\": false}, {\"time\": 193.0, \"variable\": \"TA\", \"value\": 4.449999809265137, \"is_missing\": false}, {\"time\": 194.0, \"variable\": \"TA\", \"value\": 4.550000190734863, \"is_missing\": false}, {\"time\": 195.0, \"variable\": \"TA\", \"value\": 4.739999771118164, \"is_missing\": false}, {\"time\": 196.0, \"variable\": \"TA\", \"value\": 4.75, \"is_missing\": false}, {\"time\": 197.0, \"variable\": \"TA\", \"value\": 4.760000228881836, \"is_missing\": false}, {\"time\": 198.0, \"variable\": \"TA\", \"value\": 4.619999885559082, \"is_missing\": false}, {\"time\": 199.0, \"variable\": \"TA\", \"value\": 4.510000228881836, \"is_missing\": false}], \"data-a7d99a24bf24dc9479b86720963b2fff\": [{\"time\": 0, \"variable\": \"TA\", \"mean\": -0.5965112447738647, \"std\": 0.1156921312212944}, {\"time\": 1, \"variable\": \"TA\", \"mean\": -0.6223236322402954, \"std\": 0.11120757460594177}, {\"time\": 2, \"variable\": \"TA\", \"mean\": -0.5763764381408691, \"std\": 0.11095374822616577}, {\"time\": 3, \"variable\": \"TA\", \"mean\": -0.5176664590835571, \"std\": 0.11093953996896744}, {\"time\": 4, \"variable\": \"TA\", \"mean\": -0.4784545302391052, \"std\": 0.11093874275684357}, {\"time\": 5, \"variable\": \"TA\", \"mean\": -0.41009315848350525, \"std\": 0.11093869805335999}, {\"time\": 6, \"variable\": \"TA\", \"mean\": -0.36696118116378784, \"std\": 0.11093869060277939}, {\"time\": 7, \"variable\": \"TA\", \"mean\": -0.3407596945762634, \"std\": 0.11093869060277939}, {\"time\": 8, \"variable\": \"TA\", \"mean\": -0.2907733917236328, \"std\": 0.11093869060277939}, {\"time\": 9, \"variable\": \"TA\", \"mean\": -0.26722368597984314, \"std\": 0.11093869060277939}, {\"time\": 10, \"variable\": \"TA\", \"mean\": -0.23815317451953888, \"std\": 0.11093869060277939}, {\"time\": 11, \"variable\": \"TA\", \"mean\": -0.23058447241783142, \"std\": 0.11093869060277939}, {\"time\": 12, \"variable\": \"TA\", \"mean\": -0.22538936138153076, \"std\": 0.11093869060277939}, {\"time\": 13, \"variable\": \"TA\", \"mean\": -0.23399558663368225, \"std\": 0.11093869060277939}, {\"time\": 14, \"variable\": \"TA\", \"mean\": -0.2272515892982483, \"std\": 0.11093869060277939}, {\"time\": 15, \"variable\": \"TA\", \"mean\": -0.21317733824253082, \"std\": 0.11093869060277939}, {\"time\": 16, \"variable\": \"TA\", \"mean\": -0.18127453327178955, \"std\": 0.11093869060277939}, {\"time\": 17, \"variable\": \"TA\", \"mean\": -0.1263020932674408, \"std\": 0.11093869060277939}, {\"time\": 18, \"variable\": \"TA\", \"mean\": -0.036975450813770294, \"std\": 0.11093869060277939}, {\"time\": 19, \"variable\": \"TA\", \"mean\": 0.036232177168130875, \"std\": 0.11093869060277939}, {\"time\": 20, \"variable\": \"TA\", \"mean\": 0.10058485716581345, \"std\": 0.11093869060277939}, {\"time\": 21, \"variable\": \"TA\", \"mean\": 0.1688714474439621, \"std\": 0.11093869060277939}, {\"time\": 22, \"variable\": \"TA\", \"mean\": 0.21289929747581482, \"std\": 0.11093869060277939}, {\"time\": 23, \"variable\": \"TA\", \"mean\": 0.24624060094356537, \"std\": 0.11093869060277939}, {\"time\": 24, \"variable\": \"TA\", \"mean\": 0.3254271447658539, \"std\": 0.11093869805335999}, {\"time\": 25, \"variable\": \"TA\", \"mean\": 0.39712873101234436, \"std\": 0.11093873530626297}, {\"time\": 26, \"variable\": \"TA\", \"mean\": 0.43913698196411133, \"std\": 0.11093943566083908}, {\"time\": 27, \"variable\": \"TA\", \"mean\": 0.47507405281066895, \"std\": 0.11095190793275833}, {\"time\": 28, \"variable\": \"TA\", \"mean\": 0.4995730519294739, \"std\": 0.11117520928382874}, {\"time\": 29, \"variable\": \"TA\", \"mean\": 0.5447269082069397, \"std\": 0.11514172703027725}, {\"time\": 30, \"variable\": \"TA\", \"mean\": 0.6779168248176575, \"std\": 0.17226697504520416}, {\"time\": 31, \"variable\": \"TA\", \"mean\": 0.81110680103302, \"std\": 0.20690709352493286}, {\"time\": 32, \"variable\": \"TA\", \"mean\": 0.9442967772483826, \"std\": 0.22948098182678223}, {\"time\": 33, \"variable\": \"TA\", \"mean\": 1.0774867534637451, \"std\": 0.24336975812911987}, {\"time\": 34, \"variable\": \"TA\", \"mean\": 1.210676670074463, \"std\": 0.2500250041484833}, {\"time\": 35, \"variable\": \"TA\", \"mean\": 1.3438665866851807, \"std\": 0.2500250041484833}, {\"time\": 36, \"variable\": \"TA\", \"mean\": 1.477056622505188, \"std\": 0.24336975812911987}, {\"time\": 37, \"variable\": \"TA\", \"mean\": 1.6102465391159058, \"std\": 0.22948098182678223}, {\"time\": 38, \"variable\": \"TA\", \"mean\": 1.743436574935913, \"std\": 0.20690709352493286}, {\"time\": 39, \"variable\": \"TA\", \"mean\": 1.8766264915466309, \"std\": 0.17226697504520416}, {\"time\": 40, \"variable\": \"TA\", \"mean\": 2.0098164081573486, \"std\": 0.11514172703027725}, {\"time\": 41, \"variable\": \"TA\", \"mean\": 2.170682430267334, \"std\": 0.11117520928382874}, {\"time\": 42, \"variable\": \"TA\", \"mean\": 2.2879831790924072, \"std\": 0.11095190793275833}, {\"time\": 43, \"variable\": \"TA\", \"mean\": 2.48309063911438, \"std\": 0.11093943566083908}, {\"time\": 44, \"variable\": \"TA\", \"mean\": 2.5618722438812256, \"std\": 0.11093873530626297}, {\"time\": 45, \"variable\": \"TA\", \"mean\": 2.5698695182800293, \"std\": 0.11093869805335999}, {\"time\": 46, \"variable\": \"TA\", \"mean\": 2.4869635105133057, \"std\": 0.11093869060277939}, {\"time\": 47, \"variable\": \"TA\", \"mean\": 2.298166275024414, \"std\": 0.11093869060277939}, {\"time\": 48, \"variable\": \"TA\", \"mean\": 2.0969343185424805, \"std\": 0.11093869060277939}, {\"time\": 49, \"variable\": \"TA\", \"mean\": 1.9485245943069458, \"std\": 0.11093869060277939}, {\"time\": 50, \"variable\": \"TA\", \"mean\": 1.8563743829727173, \"std\": 0.11093869060277939}, {\"time\": 51, \"variable\": \"TA\", \"mean\": 1.7984471321105957, \"std\": 0.11093869060277939}, {\"time\": 52, \"variable\": \"TA\", \"mean\": 1.605473518371582, \"std\": 0.11093869060277939}, {\"time\": 53, \"variable\": \"TA\", \"mean\": 1.4447263479232788, \"std\": 0.11093869060277939}, {\"time\": 54, \"variable\": \"TA\", \"mean\": 1.3283157348632812, \"std\": 0.11093869060277939}, {\"time\": 55, \"variable\": \"TA\", \"mean\": 1.213428020477295, \"std\": 0.11093869060277939}, {\"time\": 56, \"variable\": \"TA\", \"mean\": 1.0580381155014038, \"std\": 0.11093869060277939}, {\"time\": 57, \"variable\": \"TA\", \"mean\": 0.943710207939148, \"std\": 0.11093869060277939}, {\"time\": 58, \"variable\": \"TA\", \"mean\": 0.8336318731307983, \"std\": 0.11093869060277939}, {\"time\": 59, \"variable\": \"TA\", \"mean\": 0.7775391936302185, \"std\": 0.11093869060277939}, {\"time\": 60, \"variable\": \"TA\", \"mean\": 0.6927007436752319, \"std\": 0.11093869060277939}, {\"time\": 61, \"variable\": \"TA\", \"mean\": 0.6427048444747925, \"std\": 0.11093869060277939}, {\"time\": 62, \"variable\": \"TA\", \"mean\": 0.5773833990097046, \"std\": 0.11093869060277939}, {\"time\": 63, \"variable\": \"TA\", \"mean\": 0.5097077488899231, \"std\": 0.11093869060277939}, {\"time\": 64, \"variable\": \"TA\", \"mean\": 0.5019655227661133, \"std\": 0.11093869060277939}, {\"time\": 65, \"variable\": \"TA\", \"mean\": 0.32497209310531616, \"std\": 0.11093869060277939}, {\"time\": 66, \"variable\": \"TA\", \"mean\": 0.335369735956192, \"std\": 0.11093869060277939}, {\"time\": 67, \"variable\": \"TA\", \"mean\": 0.3067982792854309, \"std\": 0.11093869060277939}, {\"time\": 68, \"variable\": \"TA\", \"mean\": 0.3865309953689575, \"std\": 0.11093869060277939}, {\"time\": 69, \"variable\": \"TA\", \"mean\": 0.544523298740387, \"std\": 0.11093869060277939}, {\"time\": 70, \"variable\": \"TA\", \"mean\": 0.6398282647132874, \"std\": 0.11093869060277939}, {\"time\": 71, \"variable\": \"TA\", \"mean\": 0.7316901087760925, \"std\": 0.11093869060277939}, {\"time\": 72, \"variable\": \"TA\", \"mean\": 0.8220771551132202, \"std\": 0.11093869060277939}, {\"time\": 73, \"variable\": \"TA\", \"mean\": 1.032651662826538, \"std\": 0.11093869060277939}, {\"time\": 74, \"variable\": \"TA\", \"mean\": 1.194952130317688, \"std\": 0.11093869060277939}, {\"time\": 75, \"variable\": \"TA\", \"mean\": 1.362080454826355, \"std\": 0.11093869060277939}, {\"time\": 76, \"variable\": \"TA\", \"mean\": 1.3934706449508667, \"std\": 0.11093869060277939}, {\"time\": 77, \"variable\": \"TA\", \"mean\": 1.06645667552948, \"std\": 0.11093869060277939}, {\"time\": 78, \"variable\": \"TA\", \"mean\": 0.7131259441375732, \"std\": 0.11093869060277939}, {\"time\": 79, \"variable\": \"TA\", \"mean\": 0.5958836674690247, \"std\": 0.11093869060277939}, {\"time\": 80, \"variable\": \"TA\", \"mean\": 0.547849714756012, \"std\": 0.11093869060277939}, {\"time\": 81, \"variable\": \"TA\", \"mean\": 0.5478368997573853, \"std\": 0.11093869060277939}, {\"time\": 82, \"variable\": \"TA\", \"mean\": 0.49599573016166687, \"std\": 0.11093869060277939}, {\"time\": 83, \"variable\": \"TA\", \"mean\": 0.41249385476112366, \"std\": 0.11093869060277939}, {\"time\": 84, \"variable\": \"TA\", \"mean\": 0.3869256377220154, \"std\": 0.11093869060277939}, {\"time\": 85, \"variable\": \"TA\", \"mean\": 0.44883066415786743, \"std\": 0.11093869060277939}, {\"time\": 86, \"variable\": \"TA\", \"mean\": 0.6328206658363342, \"std\": 0.11093869060277939}, {\"time\": 87, \"variable\": \"TA\", \"mean\": 0.7443540096282959, \"std\": 0.11093869060277939}, {\"time\": 88, \"variable\": \"TA\", \"mean\": 0.8172246217727661, \"std\": 0.11093869060277939}, {\"time\": 89, \"variable\": \"TA\", \"mean\": 0.910323977470398, \"std\": 0.11093869060277939}, {\"time\": 90, \"variable\": \"TA\", \"mean\": 0.9298906326293945, \"std\": 0.11093869060277939}, {\"time\": 91, \"variable\": \"TA\", \"mean\": 0.8472808599472046, \"std\": 0.11093869060277939}, {\"time\": 92, \"variable\": \"TA\", \"mean\": 0.7576065063476562, \"std\": 0.11093869060277939}, {\"time\": 93, \"variable\": \"TA\", \"mean\": 0.6374984383583069, \"std\": 0.11093869060277939}, {\"time\": 94, \"variable\": \"TA\", \"mean\": 0.5361188054084778, \"std\": 0.11093869060277939}, {\"time\": 95, \"variable\": \"TA\", \"mean\": 0.47579729557037354, \"std\": 0.11093869060277939}, {\"time\": 96, \"variable\": \"TA\", \"mean\": 0.4060775935649872, \"std\": 0.11093869060277939}, {\"time\": 97, \"variable\": \"TA\", \"mean\": 0.3269020617008209, \"std\": 0.11093869060277939}, {\"time\": 98, \"variable\": \"TA\", \"mean\": 0.33862942457199097, \"std\": 0.11093869060277939}, {\"time\": 99, \"variable\": \"TA\", \"mean\": 0.42086154222488403, \"std\": 0.11093869060277939}, {\"time\": 100, \"variable\": \"TA\", \"mean\": 0.5052176713943481, \"std\": 0.11093869060277939}, {\"time\": 101, \"variable\": \"TA\", \"mean\": 0.5778189897537231, \"std\": 0.11093869060277939}, {\"time\": 102, \"variable\": \"TA\", \"mean\": 0.6695706248283386, \"std\": 0.11093869060277939}, {\"time\": 103, \"variable\": \"TA\", \"mean\": 0.8093327879905701, \"std\": 0.11093869060277939}, {\"time\": 104, \"variable\": \"TA\", \"mean\": 0.947512686252594, \"std\": 0.11093869060277939}, {\"time\": 105, \"variable\": \"TA\", \"mean\": 1.0799728631973267, \"std\": 0.11093869060277939}, {\"time\": 106, \"variable\": \"TA\", \"mean\": 1.1893579959869385, \"std\": 0.11093869060277939}, {\"time\": 107, \"variable\": \"TA\", \"mean\": 1.3256484270095825, \"std\": 0.11093869060277939}, {\"time\": 108, \"variable\": \"TA\", \"mean\": 1.4060810804367065, \"std\": 0.11093869060277939}, {\"time\": 109, \"variable\": \"TA\", \"mean\": 1.4489532709121704, \"std\": 0.11093869060277939}, {\"time\": 110, \"variable\": \"TA\", \"mean\": 1.5654274225234985, \"std\": 0.11093869060277939}, {\"time\": 111, \"variable\": \"TA\", \"mean\": 1.671162486076355, \"std\": 0.11093869060277939}, {\"time\": 112, \"variable\": \"TA\", \"mean\": 1.782585620880127, \"std\": 0.11093869060277939}, {\"time\": 113, \"variable\": \"TA\", \"mean\": 1.8529187440872192, \"std\": 0.11093869060277939}, {\"time\": 114, \"variable\": \"TA\", \"mean\": 1.9072206020355225, \"std\": 0.11093869060277939}, {\"time\": 115, \"variable\": \"TA\", \"mean\": 1.9534214735031128, \"std\": 0.11093869060277939}, {\"time\": 116, \"variable\": \"TA\", \"mean\": 2.0154502391815186, \"std\": 0.11093869060277939}, {\"time\": 117, \"variable\": \"TA\", \"mean\": 2.127385139465332, \"std\": 0.11093869060277939}, {\"time\": 118, \"variable\": \"TA\", \"mean\": 2.3099377155303955, \"std\": 0.11093869060277939}, {\"time\": 119, \"variable\": \"TA\", \"mean\": 2.4694950580596924, \"std\": 0.11093869060277939}, {\"time\": 120, \"variable\": \"TA\", \"mean\": 2.4704291820526123, \"std\": 0.11093869060277939}, {\"time\": 121, \"variable\": \"TA\", \"mean\": 2.4396157264709473, \"std\": 0.11093869060277939}, {\"time\": 122, \"variable\": \"TA\", \"mean\": 2.531393527984619, \"std\": 0.11093869060277939}, {\"time\": 123, \"variable\": \"TA\", \"mean\": 2.6487841606140137, \"std\": 0.11093869060277939}, {\"time\": 124, \"variable\": \"TA\", \"mean\": 2.6832525730133057, \"std\": 0.11093869060277939}, {\"time\": 125, \"variable\": \"TA\", \"mean\": 2.6700069904327393, \"std\": 0.11093869060277939}, {\"time\": 126, \"variable\": \"TA\", \"mean\": 2.5908968448638916, \"std\": 0.11093869060277939}, {\"time\": 127, \"variable\": \"TA\", \"mean\": 2.463212013244629, \"std\": 0.11093869060277939}, {\"time\": 128, \"variable\": \"TA\", \"mean\": 2.3718972206115723, \"std\": 0.11093869060277939}, {\"time\": 129, \"variable\": \"TA\", \"mean\": 2.3132646083831787, \"std\": 0.11093869060277939}, {\"time\": 130, \"variable\": \"TA\", \"mean\": 2.2107889652252197, \"std\": 0.11093869060277939}, {\"time\": 131, \"variable\": \"TA\", \"mean\": 2.084524154663086, \"std\": 0.11093869060277939}, {\"time\": 132, \"variable\": \"TA\", \"mean\": 1.9976935386657715, \"std\": 0.11093869060277939}, {\"time\": 133, \"variable\": \"TA\", \"mean\": 2.0097124576568604, \"std\": 0.11093869060277939}, {\"time\": 134, \"variable\": \"TA\", \"mean\": 2.022073984146118, \"std\": 0.11093869060277939}, {\"time\": 135, \"variable\": \"TA\", \"mean\": 2.0643470287323, \"std\": 0.11093869060277939}, {\"time\": 136, \"variable\": \"TA\", \"mean\": 2.1167068481445312, \"std\": 0.11093869060277939}, {\"time\": 137, \"variable\": \"TA\", \"mean\": 2.1084349155426025, \"std\": 0.11093869060277939}, {\"time\": 138, \"variable\": \"TA\", \"mean\": 2.097609758377075, \"std\": 0.11093869060277939}, {\"time\": 139, \"variable\": \"TA\", \"mean\": 2.0803515911102295, \"std\": 0.11093869060277939}, {\"time\": 140, \"variable\": \"TA\", \"mean\": 2.0904815196990967, \"std\": 0.11093869060277939}, {\"time\": 141, \"variable\": \"TA\", \"mean\": 2.102689027786255, \"std\": 0.11093869060277939}, {\"time\": 142, \"variable\": \"TA\", \"mean\": 2.097036123275757, \"std\": 0.11093869060277939}, {\"time\": 143, \"variable\": \"TA\", \"mean\": 2.085153102874756, \"std\": 0.11093869060277939}, {\"time\": 144, \"variable\": \"TA\", \"mean\": 2.0365281105041504, \"std\": 0.11093869060277939}, {\"time\": 145, \"variable\": \"TA\", \"mean\": 2.0599617958068848, \"std\": 0.11093869060277939}, {\"time\": 146, \"variable\": \"TA\", \"mean\": 2.1132965087890625, \"std\": 0.11093869060277939}, {\"time\": 147, \"variable\": \"TA\", \"mean\": 2.1240739822387695, \"std\": 0.11093869060277939}, {\"time\": 148, \"variable\": \"TA\", \"mean\": 2.1932175159454346, \"std\": 0.11093869060277939}, {\"time\": 149, \"variable\": \"TA\", \"mean\": 2.26157808303833, \"std\": 0.11093869060277939}, {\"time\": 150, \"variable\": \"TA\", \"mean\": 2.3044803142547607, \"std\": 0.11093869060277939}, {\"time\": 151, \"variable\": \"TA\", \"mean\": 2.3054983615875244, \"std\": 0.11093869060277939}, {\"time\": 152, \"variable\": \"TA\", \"mean\": 2.2115015983581543, \"std\": 0.11093869060277939}, {\"time\": 153, \"variable\": \"TA\", \"mean\": 2.041468620300293, \"std\": 0.11093869060277939}, {\"time\": 154, \"variable\": \"TA\", \"mean\": 1.9846259355545044, \"std\": 0.11093869060277939}, {\"time\": 155, \"variable\": \"TA\", \"mean\": 2.0459444522857666, \"std\": 0.11093869060277939}, {\"time\": 156, \"variable\": \"TA\", \"mean\": 2.040393352508545, \"std\": 0.11093869060277939}, {\"time\": 157, \"variable\": \"TA\", \"mean\": 2.0379445552825928, \"std\": 0.11093869060277939}, {\"time\": 158, \"variable\": \"TA\", \"mean\": 2.05907940864563, \"std\": 0.11093869060277939}, {\"time\": 159, \"variable\": \"TA\", \"mean\": 2.050265312194824, \"std\": 0.11093869060277939}, {\"time\": 160, \"variable\": \"TA\", \"mean\": 1.9631503820419312, \"std\": 0.11093869060277939}, {\"time\": 161, \"variable\": \"TA\", \"mean\": 1.9394012689590454, \"std\": 0.11093869060277939}, {\"time\": 162, \"variable\": \"TA\", \"mean\": 1.9682191610336304, \"std\": 0.11093869060277939}, {\"time\": 163, \"variable\": \"TA\", \"mean\": 2.0188539028167725, \"std\": 0.11093869060277939}, {\"time\": 164, \"variable\": \"TA\", \"mean\": 2.065958261489868, \"std\": 0.11093869060277939}, {\"time\": 165, \"variable\": \"TA\", \"mean\": 2.1291403770446777, \"std\": 0.11093869060277939}, {\"time\": 166, \"variable\": \"TA\", \"mean\": 2.2411327362060547, \"std\": 0.11093869060277939}, {\"time\": 167, \"variable\": \"TA\", \"mean\": 2.3051724433898926, \"std\": 0.11093869060277939}, {\"time\": 168, \"variable\": \"TA\", \"mean\": 2.330266237258911, \"std\": 0.11093869060277939}, {\"time\": 169, \"variable\": \"TA\", \"mean\": 2.3276894092559814, \"std\": 0.11093869060277939}, {\"time\": 170, \"variable\": \"TA\", \"mean\": 2.37373948097229, \"std\": 0.11093869060277939}, {\"time\": 171, \"variable\": \"TA\", \"mean\": 2.453434467315674, \"std\": 0.11093869060277939}, {\"time\": 172, \"variable\": \"TA\", \"mean\": 2.536252021789551, \"std\": 0.11093869060277939}, {\"time\": 173, \"variable\": \"TA\", \"mean\": 2.606313943862915, \"std\": 0.11093869060277939}, {\"time\": 174, \"variable\": \"TA\", \"mean\": 2.7210488319396973, \"std\": 0.11093869060277939}, {\"time\": 175, \"variable\": \"TA\", \"mean\": 2.8895819187164307, \"std\": 0.11093869060277939}, {\"time\": 176, \"variable\": \"TA\", \"mean\": 3.0348637104034424, \"std\": 0.11093869060277939}, {\"time\": 177, \"variable\": \"TA\", \"mean\": 3.1677358150482178, \"std\": 0.11093869060277939}, {\"time\": 178, \"variable\": \"TA\", \"mean\": 3.3199663162231445, \"std\": 0.11093869060277939}, {\"time\": 179, \"variable\": \"TA\", \"mean\": 3.4437661170959473, \"std\": 0.11093869060277939}, {\"time\": 180, \"variable\": \"TA\", \"mean\": 3.7022173404693604, \"std\": 0.11093869060277939}, {\"time\": 181, \"variable\": \"TA\", \"mean\": 3.9989447593688965, \"std\": 0.11093869060277939}, {\"time\": 182, \"variable\": \"TA\", \"mean\": 4.16739559173584, \"std\": 0.11093869060277939}, {\"time\": 183, \"variable\": \"TA\", \"mean\": 4.1976447105407715, \"std\": 0.11093869060277939}, {\"time\": 184, \"variable\": \"TA\", \"mean\": 4.246496200561523, \"std\": 0.11093869060277939}, {\"time\": 185, \"variable\": \"TA\", \"mean\": 4.363989353179932, \"std\": 0.11093869060277939}, {\"time\": 186, \"variable\": \"TA\", \"mean\": 4.490973472595215, \"std\": 0.11093869060277939}, {\"time\": 187, \"variable\": \"TA\", \"mean\": 4.624320030212402, \"std\": 0.11093869060277939}, {\"time\": 188, \"variable\": \"TA\", \"mean\": 4.717869758605957, \"std\": 0.11093869060277939}, {\"time\": 189, \"variable\": \"TA\", \"mean\": 4.7861008644104, \"std\": 0.11093869060277939}, {\"time\": 190, \"variable\": \"TA\", \"mean\": 4.77583646774292, \"std\": 0.11093869060277939}, {\"time\": 191, \"variable\": \"TA\", \"mean\": 4.678330421447754, \"std\": 0.11093869060277939}, {\"time\": 192, \"variable\": \"TA\", \"mean\": 4.598819732666016, \"std\": 0.11093869060277939}, {\"time\": 193, \"variable\": \"TA\", \"mean\": 4.512024879455566, \"std\": 0.11093869060277939}, {\"time\": 194, \"variable\": \"TA\", \"mean\": 4.575379848480225, \"std\": 0.11093869805335999}, {\"time\": 195, \"variable\": \"TA\", \"mean\": 4.7036662101745605, \"std\": 0.11093874275684357}, {\"time\": 196, \"variable\": \"TA\", \"mean\": 4.731332302093506, \"std\": 0.11093956232070923}, {\"time\": 197, \"variable\": \"TA\", \"mean\": 4.7172627449035645, \"std\": 0.11095404624938965}, {\"time\": 198, \"variable\": \"TA\", \"mean\": 4.623768329620361, \"std\": 0.11121343821287155}, {\"time\": 199, \"variable\": \"TA\", \"mean\": 4.552779197692871, \"std\": 0.1158059760928154}], \"data-56ce8c7f57e47271218cbfca938aecda\": [{\"time\": 0.0, \"variable\": \"SW_IN\", \"value\": 0.0, \"is_missing\": false}, {\"time\": 1.0, \"variable\": \"SW_IN\", \"value\": 0.0, \"is_missing\": false}, {\"time\": 2.0, \"variable\": \"SW_IN\", \"value\": 0.0, \"is_missing\": false}, {\"time\": 3.0, \"variable\": \"SW_IN\", \"value\": 0.0, \"is_missing\": false}, {\"time\": 4.0, \"variable\": \"SW_IN\", \"value\": 0.0, \"is_missing\": false}, {\"time\": 5.0, \"variable\": \"SW_IN\", \"value\": 0.0, \"is_missing\": false}, {\"time\": 6.0, \"variable\": \"SW_IN\", \"value\": 0.0, \"is_missing\": false}, {\"time\": 7.0, \"variable\": \"SW_IN\", \"value\": 0.0, \"is_missing\": false}, {\"time\": 8.0, \"variable\": \"SW_IN\", \"value\": 0.0, \"is_missing\": false}, {\"time\": 9.0, \"variable\": \"SW_IN\", \"value\": 0.0, \"is_missing\": false}, {\"time\": 10.0, \"variable\": \"SW_IN\", \"value\": 0.0, \"is_missing\": false}, {\"time\": 11.0, \"variable\": \"SW_IN\", \"value\": 0.0, \"is_missing\": false}, {\"time\": 12.0, \"variable\": \"SW_IN\", \"value\": 0.0, \"is_missing\": false}, {\"time\": 13.0, \"variable\": \"SW_IN\", \"value\": 0.0, \"is_missing\": false}, {\"time\": 14.0, \"variable\": \"SW_IN\", \"value\": 0.0, \"is_missing\": false}, {\"time\": 15.0, \"variable\": \"SW_IN\", \"value\": 0.0, \"is_missing\": false}, {\"time\": 16.0, \"variable\": \"SW_IN\", \"value\": 0.44999998807907104, \"is_missing\": false}, {\"time\": 17.0, \"variable\": \"SW_IN\", \"value\": 3.700000047683716, \"is_missing\": false}, {\"time\": 18.0, \"variable\": \"SW_IN\", \"value\": 7.260000228881836, \"is_missing\": false}, {\"time\": 19.0, \"variable\": \"SW_IN\", \"value\": 12.239999771118164, \"is_missing\": false}, {\"time\": 20.0, \"variable\": \"SW_IN\", \"value\": 16.510000228881836, \"is_missing\": false}, {\"time\": 21.0, \"variable\": \"SW_IN\", \"value\": 24.729999542236328, \"is_missing\": false}, {\"time\": 22.0, \"variable\": \"SW_IN\", \"value\": 47.41999816894531, \"is_missing\": false}, {\"time\": 23.0, \"variable\": \"SW_IN\", \"value\": 22.049999237060547, \"is_missing\": false}, {\"time\": 24.0, \"variable\": \"SW_IN\", \"value\": 18.860000610351562, \"is_missing\": false}, {\"time\": 25.0, \"variable\": \"SW_IN\", \"value\": 21.100000381469727, \"is_missing\": false}, {\"time\": 26.0, \"variable\": \"SW_IN\", \"value\": 28.8700008392334, \"is_missing\": false}, {\"time\": 27.0, \"variable\": \"SW_IN\", \"value\": 24.219999313354492, \"is_missing\": false}, {\"time\": 28.0, \"variable\": \"SW_IN\", \"value\": 24.350000381469727, \"is_missing\": false}, {\"time\": 29.0, \"variable\": \"SW_IN\", \"value\": 15.680000305175781, \"is_missing\": false}, {\"time\": 30.0, \"variable\": \"SW_IN\", \"value\": 8.09000015258789, \"is_missing\": true}, {\"time\": 31.0, \"variable\": \"SW_IN\", \"value\": 6.369999885559082, \"is_missing\": true}, {\"time\": 32.0, \"variable\": \"SW_IN\", \"value\": 1.7200000286102295, \"is_missing\": true}, {\"time\": 33.0, \"variable\": \"SW_IN\", \"value\": 0.05999999865889549, \"is_missing\": true}, {\"time\": 34.0, \"variable\": \"SW_IN\", \"value\": 0.0, \"is_missing\": true}, {\"time\": 35.0, \"variable\": \"SW_IN\", \"value\": 0.0, \"is_missing\": true}, {\"time\": 36.0, \"variable\": \"SW_IN\", \"value\": 0.0, \"is_missing\": true}, {\"time\": 37.0, \"variable\": \"SW_IN\", \"value\": 0.0, \"is_missing\": true}, {\"time\": 38.0, \"variable\": \"SW_IN\", \"value\": 0.0, \"is_missing\": true}, {\"time\": 39.0, \"variable\": \"SW_IN\", \"value\": 0.0, \"is_missing\": true}, {\"time\": 40.0, \"variable\": \"SW_IN\", \"value\": 0.0, \"is_missing\": false}, {\"time\": 41.0, \"variable\": \"SW_IN\", \"value\": 0.0, \"is_missing\": false}, {\"time\": 42.0, \"variable\": \"SW_IN\", \"value\": 0.0, \"is_missing\": false}, {\"time\": 43.0, \"variable\": \"SW_IN\", \"value\": 0.0, \"is_missing\": false}, {\"time\": 44.0, \"variable\": \"SW_IN\", \"value\": 0.0, \"is_missing\": false}, {\"time\": 45.0, \"variable\": \"SW_IN\", \"value\": 0.0, \"is_missing\": false}, {\"time\": 46.0, \"variable\": \"SW_IN\", \"value\": 0.0, \"is_missing\": false}, {\"time\": 47.0, \"variable\": \"SW_IN\", \"value\": 0.0, \"is_missing\": false}, {\"time\": 48.0, \"variable\": \"SW_IN\", \"value\": 0.0, \"is_missing\": false}, {\"time\": 49.0, \"variable\": \"SW_IN\", \"value\": 0.0, \"is_missing\": false}, {\"time\": 50.0, \"variable\": \"SW_IN\", \"value\": 0.0, \"is_missing\": false}, {\"time\": 51.0, \"variable\": \"SW_IN\", \"value\": 0.0, \"is_missing\": false}, {\"time\": 52.0, \"variable\": \"SW_IN\", \"value\": 0.0, \"is_missing\": false}, {\"time\": 53.0, \"variable\": \"SW_IN\", \"value\": 0.0, \"is_missing\": false}, {\"time\": 54.0, \"variable\": \"SW_IN\", \"value\": 0.0, \"is_missing\": false}, {\"time\": 55.0, \"variable\": \"SW_IN\", \"value\": 0.0, \"is_missing\": false}, {\"time\": 56.0, \"variable\": \"SW_IN\", \"value\": 0.0, \"is_missing\": false}, {\"time\": 57.0, \"variable\": \"SW_IN\", \"value\": 0.0, \"is_missing\": false}, {\"time\": 58.0, \"variable\": \"SW_IN\", \"value\": 0.0, \"is_missing\": false}, {\"time\": 59.0, \"variable\": \"SW_IN\", \"value\": 0.0, \"is_missing\": false}, {\"time\": 60.0, \"variable\": \"SW_IN\", \"value\": 0.0, \"is_missing\": false}, {\"time\": 61.0, \"variable\": \"SW_IN\", \"value\": 0.0, \"is_missing\": false}, {\"time\": 62.0, \"variable\": \"SW_IN\", \"value\": 0.0, \"is_missing\": false}, {\"time\": 63.0, \"variable\": \"SW_IN\", \"value\": 0.0, \"is_missing\": false}, {\"time\": 64.0, \"variable\": \"SW_IN\", \"value\": 4.269999980926514, \"is_missing\": false}, {\"time\": 65.0, \"variable\": \"SW_IN\", \"value\": 23.899999618530273, \"is_missing\": false}, {\"time\": 66.0, \"variable\": \"SW_IN\", \"value\": 50.61000061035156, \"is_missing\": false}, {\"time\": 67.0, \"variable\": \"SW_IN\", \"value\": 61.7599983215332, \"is_missing\": false}, {\"time\": 68.0, \"variable\": \"SW_IN\", \"value\": 125.23999786376953, \"is_missing\": false}, {\"time\": 69.0, \"variable\": \"SW_IN\", \"value\": 138.42999267578125, \"is_missing\": false}, {\"time\": 70.0, \"variable\": \"SW_IN\", \"value\": 177.5, \"is_missing\": false}, {\"time\": 71.0, \"variable\": \"SW_IN\", \"value\": 148.05999755859375, \"is_missing\": false}, {\"time\": 72.0, \"variable\": \"SW_IN\", \"value\": 122.37000274658203, \"is_missing\": false}, {\"time\": 73.0, \"variable\": \"SW_IN\", \"value\": 130.2100067138672, \"is_missing\": false}, {\"time\": 74.0, \"variable\": \"SW_IN\", \"value\": 124.7300033569336, \"is_missing\": false}, {\"time\": 75.0, \"variable\": \"SW_IN\", \"value\": 110.6500015258789, \"is_missing\": false}, {\"time\": 76.0, \"variable\": \"SW_IN\", \"value\": 57.810001373291016, \"is_missing\": false}, {\"time\": 77.0, \"variable\": \"SW_IN\", \"value\": 31.8700008392334, \"is_missing\": false}, {\"time\": 78.0, \"variable\": \"SW_IN\", \"value\": 19.889999389648438, \"is_missing\": false}, {\"time\": 79.0, \"variable\": \"SW_IN\", \"value\": 8.800000190734863, \"is_missing\": false}, {\"time\": 80.0, \"variable\": \"SW_IN\", \"value\": 1.7799999713897705, \"is_missing\": false}, {\"time\": 81.0, \"variable\": \"SW_IN\", \"value\": 0.05999999865889549, \"is_missing\": false}, {\"time\": 82.0, \"variable\": \"SW_IN\", \"value\": 0.0, \"is_missing\": false}, {\"time\": 83.0, \"variable\": \"SW_IN\", \"value\": 0.0, \"is_missing\": false}, {\"time\": 84.0, \"variable\": \"SW_IN\", \"value\": 0.0, \"is_missing\": false}, {\"time\": 85.0, \"variable\": \"SW_IN\", \"value\": 0.0, \"is_missing\": false}, {\"time\": 86.0, \"variable\": \"SW_IN\", \"value\": 0.0, \"is_missing\": false}, {\"time\": 87.0, \"variable\": \"SW_IN\", \"value\": 0.0, \"is_missing\": false}, {\"time\": 88.0, \"variable\": \"SW_IN\", \"value\": 0.0, \"is_missing\": false}, {\"time\": 89.0, \"variable\": \"SW_IN\", \"value\": 0.0, \"is_missing\": false}, {\"time\": 90.0, \"variable\": \"SW_IN\", \"value\": 0.0, \"is_missing\": false}, {\"time\": 91.0, \"variable\": \"SW_IN\", \"value\": 0.0, \"is_missing\": false}, {\"time\": 92.0, \"variable\": \"SW_IN\", \"value\": 0.0, \"is_missing\": false}, {\"time\": 93.0, \"variable\": \"SW_IN\", \"value\": 0.0, \"is_missing\": false}, {\"time\": 94.0, \"variable\": \"SW_IN\", \"value\": 0.0, \"is_missing\": false}, {\"time\": 95.0, \"variable\": \"SW_IN\", \"value\": 0.0, \"is_missing\": false}, {\"time\": 96.0, \"variable\": \"SW_IN\", \"value\": 0.0, \"is_missing\": false}, {\"time\": 97.0, \"variable\": \"SW_IN\", \"value\": 0.0, \"is_missing\": false}, {\"time\": 98.0, \"variable\": \"SW_IN\", \"value\": 0.0, \"is_missing\": false}, {\"time\": 99.0, \"variable\": \"SW_IN\", \"value\": 0.0, \"is_missing\": false}, {\"time\": 100.0, \"variable\": \"SW_IN\", \"value\": 0.0, \"is_missing\": false}, {\"time\": 101.0, \"variable\": \"SW_IN\", \"value\": 0.0, \"is_missing\": false}, {\"time\": 102.0, \"variable\": \"SW_IN\", \"value\": 0.0, \"is_missing\": false}, {\"time\": 103.0, \"variable\": \"SW_IN\", \"value\": 0.0, \"is_missing\": false}, {\"time\": 104.0, \"variable\": \"SW_IN\", \"value\": 0.0, \"is_missing\": false}, {\"time\": 105.0, \"variable\": \"SW_IN\", \"value\": 0.0, \"is_missing\": false}, {\"time\": 106.0, \"variable\": \"SW_IN\", \"value\": 0.0, \"is_missing\": false}, {\"time\": 107.0, \"variable\": \"SW_IN\", \"value\": 0.0, \"is_missing\": false}, {\"time\": 108.0, \"variable\": \"SW_IN\", \"value\": 0.0, \"is_missing\": false}, {\"time\": 109.0, \"variable\": \"SW_IN\", \"value\": 0.0, \"is_missing\": false}, {\"time\": 110.0, \"variable\": \"SW_IN\", \"value\": 0.0, \"is_missing\": false}, {\"time\": 111.0, \"variable\": \"SW_IN\", \"value\": 0.0, \"is_missing\": false}, {\"time\": 112.0, \"variable\": \"SW_IN\", \"value\": 1.399999976158142, \"is_missing\": false}, {\"time\": 113.0, \"variable\": \"SW_IN\", \"value\": 9.8100004196167, \"is_missing\": false}, {\"time\": 114.0, \"variable\": \"SW_IN\", \"value\": 25.049999237060547, \"is_missing\": false}, {\"time\": 115.0, \"variable\": \"SW_IN\", \"value\": 36.84000015258789, \"is_missing\": false}, {\"time\": 116.0, \"variable\": \"SW_IN\", \"value\": 80.62999725341797, \"is_missing\": false}, {\"time\": 117.0, \"variable\": \"SW_IN\", \"value\": 78.58000183105469, \"is_missing\": false}, {\"time\": 118.0, \"variable\": \"SW_IN\", \"value\": 77.25, \"is_missing\": false}, {\"time\": 119.0, \"variable\": \"SW_IN\", \"value\": 93.30999755859375, \"is_missing\": false}, {\"time\": 120.0, \"variable\": \"SW_IN\", \"value\": 114.08000183105469, \"is_missing\": false}, {\"time\": 121.0, \"variable\": \"SW_IN\", \"value\": 117.33000183105469, \"is_missing\": false}, {\"time\": 122.0, \"variable\": \"SW_IN\", \"value\": 109.81999969482422, \"is_missing\": false}, {\"time\": 123.0, \"variable\": \"SW_IN\", \"value\": 97.51000213623047, \"is_missing\": false}, {\"time\": 124.0, \"variable\": \"SW_IN\", \"value\": 74.63999938964844, \"is_missing\": false}, {\"time\": 125.0, \"variable\": \"SW_IN\", \"value\": 40.65999984741211, \"is_missing\": false}, {\"time\": 126.0, \"variable\": \"SW_IN\", \"value\": 32.060001373291016, \"is_missing\": false}, {\"time\": 127.0, \"variable\": \"SW_IN\", \"value\": 16.1200008392334, \"is_missing\": false}, {\"time\": 128.0, \"variable\": \"SW_IN\", \"value\": 3.759999990463257, \"is_missing\": false}, {\"time\": 129.0, \"variable\": \"SW_IN\", \"value\": 0.5699999928474426, \"is_missing\": false}, {\"time\": 130.0, \"variable\": \"SW_IN\", \"value\": 0.0, \"is_missing\": false}, {\"time\": 131.0, \"variable\": \"SW_IN\", \"value\": 0.0, \"is_missing\": false}, {\"time\": 132.0, \"variable\": \"SW_IN\", \"value\": 0.0, \"is_missing\": false}, {\"time\": 133.0, \"variable\": \"SW_IN\", \"value\": 0.0, \"is_missing\": false}, {\"time\": 134.0, \"variable\": \"SW_IN\", \"value\": 0.0, \"is_missing\": false}, {\"time\": 135.0, \"variable\": \"SW_IN\", \"value\": 0.0, \"is_missing\": false}, {\"time\": 136.0, \"variable\": \"SW_IN\", \"value\": 0.0, \"is_missing\": false}, {\"time\": 137.0, \"variable\": \"SW_IN\", \"value\": 0.0, \"is_missing\": false}, {\"time\": 138.0, \"variable\": \"SW_IN\", \"value\": 0.0, \"is_missing\": false}, {\"time\": 139.0, \"variable\": \"SW_IN\", \"value\": 0.0, \"is_missing\": false}, {\"time\": 140.0, \"variable\": \"SW_IN\", \"value\": 0.0, \"is_missing\": false}, {\"time\": 141.0, \"variable\": \"SW_IN\", \"value\": 0.0, \"is_missing\": false}, {\"time\": 142.0, \"variable\": \"SW_IN\", \"value\": 0.0, \"is_missing\": false}, {\"time\": 143.0, \"variable\": \"SW_IN\", \"value\": 0.0, \"is_missing\": false}, {\"time\": 144.0, \"variable\": \"SW_IN\", \"value\": 0.0, \"is_missing\": false}, {\"time\": 145.0, \"variable\": \"SW_IN\", \"value\": 0.0, \"is_missing\": false}, {\"time\": 146.0, \"variable\": \"SW_IN\", \"value\": 0.0, \"is_missing\": false}, {\"time\": 147.0, \"variable\": \"SW_IN\", \"value\": 0.0, \"is_missing\": false}, {\"time\": 148.0, \"variable\": \"SW_IN\", \"value\": 0.0, \"is_missing\": false}, {\"time\": 149.0, \"variable\": \"SW_IN\", \"value\": 0.0, \"is_missing\": false}, {\"time\": 150.0, \"variable\": \"SW_IN\", \"value\": 0.0, \"is_missing\": false}, {\"time\": 151.0, \"variable\": \"SW_IN\", \"value\": 0.0, \"is_missing\": false}, {\"time\": 152.0, \"variable\": \"SW_IN\", \"value\": 0.0, \"is_missing\": false}, {\"time\": 153.0, \"variable\": \"SW_IN\", \"value\": 0.0, \"is_missing\": false}, {\"time\": 154.0, \"variable\": \"SW_IN\", \"value\": 0.0, \"is_missing\": false}, {\"time\": 155.0, \"variable\": \"SW_IN\", \"value\": 0.0, \"is_missing\": false}, {\"time\": 156.0, \"variable\": \"SW_IN\", \"value\": 0.0, \"is_missing\": false}, {\"time\": 157.0, \"variable\": \"SW_IN\", \"value\": 0.0, \"is_missing\": false}, {\"time\": 158.0, \"variable\": \"SW_IN\", \"value\": 0.0, \"is_missing\": false}, {\"time\": 159.0, \"variable\": \"SW_IN\", \"value\": 0.0, \"is_missing\": false}, {\"time\": 160.0, \"variable\": \"SW_IN\", \"value\": 0.3199999928474426, \"is_missing\": false}, {\"time\": 161.0, \"variable\": \"SW_IN\", \"value\": 2.740000009536743, \"is_missing\": false}, {\"time\": 162.0, \"variable\": \"SW_IN\", \"value\": 8.40999984741211, \"is_missing\": false}, {\"time\": 163.0, \"variable\": \"SW_IN\", \"value\": 14.529999732971191, \"is_missing\": false}, {\"time\": 164.0, \"variable\": \"SW_IN\", \"value\": 16.829999923706055, \"is_missing\": false}, {\"time\": 165.0, \"variable\": \"SW_IN\", \"value\": 21.40999984741211, \"is_missing\": false}, {\"time\": 166.0, \"variable\": \"SW_IN\", \"value\": 28.68000030517578, \"is_missing\": false}, {\"time\": 167.0, \"variable\": \"SW_IN\", \"value\": 26.770000457763672, \"is_missing\": false}, {\"time\": 168.0, \"variable\": \"SW_IN\", \"value\": 24.350000381469727, \"is_missing\": false}, {\"time\": 169.0, \"variable\": \"SW_IN\", \"value\": 16.950000762939453, \"is_missing\": false}, {\"time\": 170.0, \"variable\": \"SW_IN\", \"value\": 25.8799991607666, \"is_missing\": false}, {\"time\": 171.0, \"variable\": \"SW_IN\", \"value\": 32.310001373291016, \"is_missing\": false}, {\"time\": 172.0, \"variable\": \"SW_IN\", \"value\": 27.209999084472656, \"is_missing\": false}, {\"time\": 173.0, \"variable\": \"SW_IN\", \"value\": 12.369999885559082, \"is_missing\": false}, {\"time\": 174.0, \"variable\": \"SW_IN\", \"value\": 8.989999771118164, \"is_missing\": false}, {\"time\": 175.0, \"variable\": \"SW_IN\", \"value\": 4.210000038146973, \"is_missing\": false}, {\"time\": 176.0, \"variable\": \"SW_IN\", \"value\": 0.9599999785423279, \"is_missing\": false}, {\"time\": 177.0, \"variable\": \"SW_IN\", \"value\": 0.0, \"is_missing\": false}, {\"time\": 178.0, \"variable\": \"SW_IN\", \"value\": 0.0, \"is_missing\": false}, {\"time\": 179.0, \"variable\": \"SW_IN\", \"value\": 0.0, \"is_missing\": false}, {\"time\": 180.0, \"variable\": \"SW_IN\", \"value\": 0.0, \"is_missing\": false}, {\"time\": 181.0, \"variable\": \"SW_IN\", \"value\": 0.0, \"is_missing\": false}, {\"time\": 182.0, \"variable\": \"SW_IN\", \"value\": 0.0, \"is_missing\": false}, {\"time\": 183.0, \"variable\": \"SW_IN\", \"value\": 0.0, \"is_missing\": false}, {\"time\": 184.0, \"variable\": \"SW_IN\", \"value\": 0.0, \"is_missing\": false}, {\"time\": 185.0, \"variable\": \"SW_IN\", \"value\": 0.0, \"is_missing\": false}, {\"time\": 186.0, \"variable\": \"SW_IN\", \"value\": 0.0, \"is_missing\": false}, {\"time\": 187.0, \"variable\": \"SW_IN\", \"value\": 0.0, \"is_missing\": false}, {\"time\": 188.0, \"variable\": \"SW_IN\", \"value\": 0.0, \"is_missing\": false}, {\"time\": 189.0, \"variable\": \"SW_IN\", \"value\": 0.0, \"is_missing\": false}, {\"time\": 190.0, \"variable\": \"SW_IN\", \"value\": 0.0, \"is_missing\": false}, {\"time\": 191.0, \"variable\": \"SW_IN\", \"value\": 0.0, \"is_missing\": false}, {\"time\": 192.0, \"variable\": \"SW_IN\", \"value\": 0.0, \"is_missing\": false}, {\"time\": 193.0, \"variable\": \"SW_IN\", \"value\": 0.0, \"is_missing\": false}, {\"time\": 194.0, \"variable\": \"SW_IN\", \"value\": 0.0, \"is_missing\": false}, {\"time\": 195.0, \"variable\": \"SW_IN\", \"value\": 0.0, \"is_missing\": false}, {\"time\": 196.0, \"variable\": \"SW_IN\", \"value\": 0.0, \"is_missing\": false}, {\"time\": 197.0, \"variable\": \"SW_IN\", \"value\": 0.0, \"is_missing\": false}, {\"time\": 198.0, \"variable\": \"SW_IN\", \"value\": 0.0, \"is_missing\": false}, {\"time\": 199.0, \"variable\": \"SW_IN\", \"value\": 0.0, \"is_missing\": false}], \"data-c1f7adee25800ce816b86c182ca540ba\": [{\"time\": 0, \"variable\": \"SW_IN\", \"mean\": 0.6580154299736023, \"std\": 8.033346176147461}, {\"time\": 1, \"variable\": \"SW_IN\", \"mean\": -0.009122299030423164, \"std\": 7.777205467224121}, {\"time\": 2, \"variable\": \"SW_IN\", \"mean\": -0.11835972964763641, \"std\": 7.765707492828369}, {\"time\": 3, \"variable\": \"SW_IN\", \"mean\": -0.007922646589577198, \"std\": 7.765178680419922}, {\"time\": 4, \"variable\": \"SW_IN\", \"mean\": -0.027925103902816772, \"std\": 7.765153408050537}, {\"time\": 5, \"variable\": \"SW_IN\", \"mean\": 0.00991541612893343, \"std\": 7.7651519775390625}, {\"time\": 6, \"variable\": \"SW_IN\", \"mean\": -0.007291748188436031, \"std\": 7.7651519775390625}, {\"time\": 7, \"variable\": \"SW_IN\", \"mean\": -0.035944949835538864, \"std\": 7.7651519775390625}, {\"time\": 8, \"variable\": \"SW_IN\", \"mean\": 0.007632207591086626, \"std\": 7.7651519775390625}, {\"time\": 9, \"variable\": \"SW_IN\", \"mean\": 0.05279773101210594, \"std\": 7.7651519775390625}, {\"time\": 10, \"variable\": \"SW_IN\", \"mean\": 0.06813566386699677, \"std\": 7.7651519775390625}, {\"time\": 11, \"variable\": \"SW_IN\", \"mean\": 0.047820527106523514, \"std\": 7.7651519775390625}, {\"time\": 12, \"variable\": \"SW_IN\", \"mean\": 0.026909733191132545, \"std\": 7.7651519775390625}, {\"time\": 13, \"variable\": \"SW_IN\", \"mean\": -0.01004516426473856, \"std\": 7.7651519775390625}, {\"time\": 14, \"variable\": \"SW_IN\", \"mean\": 0.021735213696956635, \"std\": 7.7651519775390625}, {\"time\": 15, \"variable\": \"SW_IN\", \"mean\": 0.19910664856433868, \"std\": 7.7651519775390625}, {\"time\": 16, \"variable\": \"SW_IN\", \"mean\": 1.0838567018508911, \"std\": 7.7651519775390625}, {\"time\": 17, \"variable\": \"SW_IN\", \"mean\": 3.9476211071014404, \"std\": 7.7651519775390625}, {\"time\": 18, \"variable\": \"SW_IN\", \"mean\": 7.615844249725342, \"std\": 7.7651519775390625}, {\"time\": 19, \"variable\": \"SW_IN\", \"mean\": 12.383044242858887, \"std\": 7.7651519775390625}, {\"time\": 20, \"variable\": \"SW_IN\", \"mean\": 17.58888053894043, \"std\": 7.7651519775390625}, {\"time\": 21, \"variable\": \"SW_IN\", \"mean\": 26.092647552490234, \"std\": 7.7651519775390625}, {\"time\": 22, \"variable\": \"SW_IN\", \"mean\": 38.725711822509766, \"std\": 7.7651519775390625}, {\"time\": 23, \"variable\": \"SW_IN\", \"mean\": 25.119792938232422, \"std\": 7.7651519775390625}, {\"time\": 24, \"variable\": \"SW_IN\", \"mean\": 20.768768310546875, \"std\": 7.7651519775390625}, {\"time\": 25, \"variable\": \"SW_IN\", \"mean\": 22.14745330810547, \"std\": 7.765153408050537}, {\"time\": 26, \"variable\": \"SW_IN\", \"mean\": 26.62969970703125, \"std\": 7.765178680419922}, {\"time\": 27, \"variable\": \"SW_IN\", \"mean\": 24.435781478881836, \"std\": 7.765708923339844}, {\"time\": 28, \"variable\": \"SW_IN\", \"mean\": 22.913209915161133, \"std\": 7.777318000793457}, {\"time\": 29, \"variable\": \"SW_IN\", \"mean\": 17.08537483215332, \"std\": 8.037110328674316}, {\"time\": 30, \"variable\": \"SW_IN\", \"mean\": 15.554051399230957, \"std\": 12.681015014648438}, {\"time\": 31, \"variable\": \"SW_IN\", \"mean\": 14.022727012634277, \"std\": 15.420069694519043}, {\"time\": 32, \"variable\": \"SW_IN\", \"mean\": 12.491403579711914, \"std\": 17.190298080444336}, {\"time\": 33, \"variable\": \"SW_IN\", \"mean\": 10.960079193115234, \"std\": 18.275436401367188}, {\"time\": 34, \"variable\": \"SW_IN\", \"mean\": 9.428754806518555, \"std\": 18.794525146484375}, {\"time\": 35, \"variable\": \"SW_IN\", \"mean\": 7.897430896759033, \"std\": 18.794525146484375}, {\"time\": 36, \"variable\": \"SW_IN\", \"mean\": 6.366106986999512, \"std\": 18.275436401367188}, {\"time\": 37, \"variable\": \"SW_IN\", \"mean\": 4.83478307723999, \"std\": 17.190298080444336}, {\"time\": 38, \"variable\": \"SW_IN\", \"mean\": 3.3034586906433105, \"std\": 15.420069694519043}, {\"time\": 39, \"variable\": \"SW_IN\", \"mean\": 1.7721346616744995, \"std\": 12.681015014648438}, {\"time\": 40, \"variable\": \"SW_IN\", \"mean\": 0.2408105581998825, \"std\": 8.037110328674316}, {\"time\": 41, \"variable\": \"SW_IN\", \"mean\": -0.11681929975748062, \"std\": 7.777318000793457}, {\"time\": 42, \"variable\": \"SW_IN\", \"mean\": -0.29630762338638306, \"std\": 7.765708923339844}, {\"time\": 43, \"variable\": \"SW_IN\", \"mean\": 0.031657975167036057, \"std\": 7.765178680419922}, {\"time\": 44, \"variable\": \"SW_IN\", \"mean\": 0.19345605373382568, \"std\": 7.765153408050537}, {\"time\": 45, \"variable\": \"SW_IN\", \"mean\": 0.5894412398338318, \"std\": 7.7651519775390625}, {\"time\": 46, \"variable\": \"SW_IN\", \"mean\": 0.1902117282152176, \"std\": 7.7651519775390625}, {\"time\": 47, \"variable\": \"SW_IN\", \"mean\": 0.19452394545078278, \"std\": 7.7651519775390625}, {\"time\": 48, \"variable\": \"SW_IN\", \"mean\": -0.3730611503124237, \"std\": 7.7651519775390625}, {\"time\": 49, \"variable\": \"SW_IN\", \"mean\": -0.3678118884563446, \"std\": 7.7651519775390625}, {\"time\": 50, \"variable\": \"SW_IN\", \"mean\": 0.16294024884700775, \"std\": 7.7651519775390625}, {\"time\": 51, \"variable\": \"SW_IN\", \"mean\": 0.3423483073711395, \"std\": 7.7651519775390625}, {\"time\": 52, \"variable\": \"SW_IN\", \"mean\": 0.18091095983982086, \"std\": 7.7651519775390625}, {\"time\": 53, \"variable\": \"SW_IN\", \"mean\": -0.2546398341655731, \"std\": 7.7651519775390625}, {\"time\": 54, \"variable\": \"SW_IN\", \"mean\": -0.2229018658399582, \"std\": 7.7651519775390625}, {\"time\": 55, \"variable\": \"SW_IN\", \"mean\": -0.019332660362124443, \"std\": 7.7651519775390625}, {\"time\": 56, \"variable\": \"SW_IN\", \"mean\": 0.1244041919708252, \"std\": 7.7651519775390625}, {\"time\": 57, \"variable\": \"SW_IN\", \"mean\": 0.1965842843055725, \"std\": 7.7651519775390625}, {\"time\": 58, \"variable\": \"SW_IN\", \"mean\": 0.13968628644943237, \"std\": 7.7651519775390625}, {\"time\": 59, \"variable\": \"SW_IN\", \"mean\": -0.048223402351140976, \"std\": 7.7651519775390625}, {\"time\": 60, \"variable\": \"SW_IN\", \"mean\": -0.1363096535205841, \"std\": 7.7651519775390625}, {\"time\": 61, \"variable\": \"SW_IN\", \"mean\": -0.06452005356550217, \"std\": 7.7651519775390625}, {\"time\": 62, \"variable\": \"SW_IN\", \"mean\": 0.17499284446239471, \"std\": 7.7651519775390625}, {\"time\": 63, \"variable\": \"SW_IN\", \"mean\": 1.4523848295211792, \"std\": 7.7651519775390625}, {\"time\": 64, \"variable\": \"SW_IN\", \"mean\": 8.341808319091797, \"std\": 7.7651519775390625}, {\"time\": 65, \"variable\": \"SW_IN\", \"mean\": 25.92475128173828, \"std\": 7.7651519775390625}, {\"time\": 66, \"variable\": \"SW_IN\", \"mean\": 49.65300369262695, \"std\": 7.7651519775390625}, {\"time\": 67, \"variable\": \"SW_IN\", \"mean\": 70.3125228881836, \"std\": 7.7651519775390625}, {\"time\": 68, \"variable\": \"SW_IN\", \"mean\": 116.92286682128906, \"std\": 7.7651519775390625}, {\"time\": 69, \"variable\": \"SW_IN\", \"mean\": 139.2759246826172, \"std\": 7.7651519775390625}, {\"time\": 70, \"variable\": \"SW_IN\", \"mean\": 163.87295532226562, \"std\": 7.7651519775390625}, {\"time\": 71, \"variable\": \"SW_IN\", \"mean\": 147.40074157714844, \"std\": 7.7651519775390625}, {\"time\": 72, \"variable\": \"SW_IN\", \"mean\": 128.3489990234375, \"std\": 7.7651519775390625}, {\"time\": 73, \"variable\": \"SW_IN\", \"mean\": 128.0714874267578, \"std\": 7.7651519775390625}, {\"time\": 74, \"variable\": \"SW_IN\", \"mean\": 121.1239013671875, \"std\": 7.7651519775390625}, {\"time\": 75, \"variable\": \"SW_IN\", \"mean\": 103.30819702148438, \"std\": 7.7651519775390625}, {\"time\": 76, \"variable\": \"SW_IN\", \"mean\": 62.81261444091797, \"std\": 7.7651519775390625}, {\"time\": 77, \"variable\": \"SW_IN\", \"mean\": 35.89568328857422, \"std\": 7.7651519775390625}, {\"time\": 78, \"variable\": \"SW_IN\", \"mean\": 20.922449111938477, \"std\": 7.7651519775390625}, {\"time\": 79, \"variable\": \"SW_IN\", \"mean\": 9.989039421081543, \"std\": 7.7651519775390625}, {\"time\": 80, \"variable\": \"SW_IN\", \"mean\": 3.1431233882904053, \"std\": 7.7651519775390625}, {\"time\": 81, \"variable\": \"SW_IN\", \"mean\": 0.6420502066612244, \"std\": 7.7651519775390625}, {\"time\": 82, \"variable\": \"SW_IN\", \"mean\": 0.047617580741643906, \"std\": 7.7651519775390625}, {\"time\": 83, \"variable\": \"SW_IN\", \"mean\": -0.06667007505893707, \"std\": 7.7651519775390625}, {\"time\": 84, \"variable\": \"SW_IN\", \"mean\": 0.056531619280576706, \"std\": 7.7651519775390625}, {\"time\": 85, \"variable\": \"SW_IN\", \"mean\": -0.034695595502853394, \"std\": 7.7651519775390625}, {\"time\": 86, \"variable\": \"SW_IN\", \"mean\": 0.18015000224113464, \"std\": 7.7651519775390625}, {\"time\": 87, \"variable\": \"SW_IN\", \"mean\": 0.03985530138015747, \"std\": 7.7651519775390625}, {\"time\": 88, \"variable\": \"SW_IN\", \"mean\": -0.0568322129547596, \"std\": 7.7651519775390625}, {\"time\": 89, \"variable\": \"SW_IN\", \"mean\": 0.05076626315712929, \"std\": 7.7651519775390625}, {\"time\": 90, \"variable\": \"SW_IN\", \"mean\": 0.14539940655231476, \"std\": 7.7651519775390625}, {\"time\": 91, \"variable\": \"SW_IN\", \"mean\": 0.04529700428247452, \"std\": 7.7651519775390625}, {\"time\": 92, \"variable\": \"SW_IN\", \"mean\": 0.009829182177782059, \"std\": 7.7651519775390625}, {\"time\": 93, \"variable\": \"SW_IN\", \"mean\": -0.023947549983859062, \"std\": 7.7651519775390625}, {\"time\": 94, \"variable\": \"SW_IN\", \"mean\": -0.06429430097341537, \"std\": 7.7651519775390625}, {\"time\": 95, \"variable\": \"SW_IN\", \"mean\": -0.04295267537236214, \"std\": 7.7651519775390625}, {\"time\": 96, \"variable\": \"SW_IN\", \"mean\": -0.0197219867259264, \"std\": 7.7651519775390625}, {\"time\": 97, \"variable\": \"SW_IN\", \"mean\": -0.03400440514087677, \"std\": 7.7651519775390625}, {\"time\": 98, \"variable\": \"SW_IN\", \"mean\": -0.02669915370643139, \"std\": 7.7651519775390625}, {\"time\": 99, \"variable\": \"SW_IN\", \"mean\": -0.00620075361803174, \"std\": 7.7651519775390625}, {\"time\": 100, \"variable\": \"SW_IN\", \"mean\": 0.0002479649556335062, \"std\": 7.7651519775390625}, {\"time\": 101, \"variable\": \"SW_IN\", \"mean\": -0.003929689060896635, \"std\": 7.7651519775390625}, {\"time\": 102, \"variable\": \"SW_IN\", \"mean\": -0.009885597042739391, \"std\": 7.7651519775390625}, {\"time\": 103, \"variable\": \"SW_IN\", \"mean\": -0.009697932749986649, \"std\": 7.7651519775390625}, {\"time\": 104, \"variable\": \"SW_IN\", \"mean\": -0.02959524840116501, \"std\": 7.7651519775390625}, {\"time\": 105, \"variable\": \"SW_IN\", \"mean\": -0.08162643015384674, \"std\": 7.7651519775390625}, {\"time\": 106, \"variable\": \"SW_IN\", \"mean\": -0.16259771585464478, \"std\": 7.7651519775390625}, {\"time\": 107, \"variable\": \"SW_IN\", \"mean\": -0.12477201968431473, \"std\": 7.7651519775390625}, {\"time\": 108, \"variable\": \"SW_IN\", \"mean\": 0.06883013248443604, \"std\": 7.7651519775390625}, {\"time\": 109, \"variable\": \"SW_IN\", \"mean\": -0.04652312025427818, \"std\": 7.7651519775390625}, {\"time\": 110, \"variable\": \"SW_IN\", \"mean\": 0.11698759347200394, \"std\": 7.7651519775390625}, {\"time\": 111, \"variable\": \"SW_IN\", \"mean\": 0.659018337726593, \"std\": 7.7651519775390625}, {\"time\": 112, \"variable\": \"SW_IN\", \"mean\": 3.398545503616333, \"std\": 7.7651519775390625}, {\"time\": 113, \"variable\": \"SW_IN\", \"mean\": 11.799903869628906, \"std\": 7.7651519775390625}, {\"time\": 114, \"variable\": \"SW_IN\", \"mean\": 25.81678581237793, \"std\": 7.7651519775390625}, {\"time\": 115, \"variable\": \"SW_IN\", \"mean\": 41.74788284301758, \"std\": 7.7651519775390625}, {\"time\": 116, \"variable\": \"SW_IN\", \"mean\": 72.1369400024414, \"std\": 7.7651519775390625}, {\"time\": 117, \"variable\": \"SW_IN\", \"mean\": 77.60653686523438, \"std\": 7.7651519775390625}, {\"time\": 118, \"variable\": \"SW_IN\", \"mean\": 80.93710327148438, \"std\": 7.7651519775390625}, {\"time\": 119, \"variable\": \"SW_IN\", \"mean\": 94.56765747070312, \"std\": 7.7651519775390625}, {\"time\": 120, \"variable\": \"SW_IN\", \"mean\": 110.12107849121094, \"std\": 7.7651519775390625}, {\"time\": 121, \"variable\": \"SW_IN\", \"mean\": 113.6854248046875, \"std\": 7.7651519775390625}, {\"time\": 122, \"variable\": \"SW_IN\", \"mean\": 107.48872375488281, \"std\": 7.7651519775390625}, {\"time\": 123, \"variable\": \"SW_IN\", \"mean\": 94.61196899414062, \"std\": 7.7651519775390625}, {\"time\": 124, \"variable\": \"SW_IN\", \"mean\": 72.87751007080078, \"std\": 7.7651519775390625}, {\"time\": 125, \"variable\": \"SW_IN\", \"mean\": 45.375572204589844, \"std\": 7.7651519775390625}, {\"time\": 126, \"variable\": \"SW_IN\", \"mean\": 31.787858963012695, \"std\": 7.7651519775390625}, {\"time\": 127, \"variable\": \"SW_IN\", \"mean\": 17.186187744140625, \"std\": 7.7651519775390625}, {\"time\": 128, \"variable\": \"SW_IN\", \"mean\": 6.071591377258301, \"std\": 7.7651519775390625}, {\"time\": 129, \"variable\": \"SW_IN\", \"mean\": 1.7832322120666504, \"std\": 7.7651519775390625}, {\"time\": 130, \"variable\": \"SW_IN\", \"mean\": 0.3974381685256958, \"std\": 7.7651519775390625}, {\"time\": 131, \"variable\": \"SW_IN\", \"mean\": -0.08248655498027802, \"std\": 7.7651519775390625}, {\"time\": 132, \"variable\": \"SW_IN\", \"mean\": -0.23585812747478485, \"std\": 7.7651519775390625}, {\"time\": 133, \"variable\": \"SW_IN\", \"mean\": -0.08540418744087219, \"std\": 7.7651519775390625}, {\"time\": 134, \"variable\": \"SW_IN\", \"mean\": -0.023572925478219986, \"std\": 7.7651519775390625}, {\"time\": 135, \"variable\": \"SW_IN\", \"mean\": 0.034689150750637054, \"std\": 7.7651519775390625}, {\"time\": 136, \"variable\": \"SW_IN\", \"mean\": 0.11514930427074432, \"std\": 7.7651519775390625}, {\"time\": 137, \"variable\": \"SW_IN\", \"mean\": -0.01285052951425314, \"std\": 7.7651519775390625}, {\"time\": 138, \"variable\": \"SW_IN\", \"mean\": -0.0003549346583895385, \"std\": 7.7651519775390625}, {\"time\": 139, \"variable\": \"SW_IN\", \"mean\": -0.07177408039569855, \"std\": 7.7651519775390625}, {\"time\": 140, \"variable\": \"SW_IN\", \"mean\": -0.04550004377961159, \"std\": 7.7651519775390625}, {\"time\": 141, \"variable\": \"SW_IN\", \"mean\": -0.018538698554039, \"std\": 7.7651519775390625}, {\"time\": 142, \"variable\": \"SW_IN\", \"mean\": -0.04428012669086456, \"std\": 7.7651519775390625}, {\"time\": 143, \"variable\": \"SW_IN\", \"mean\": -0.05176908150315285, \"std\": 7.7651519775390625}, {\"time\": 144, \"variable\": \"SW_IN\", \"mean\": -0.270414799451828, \"std\": 7.7651519775390625}, {\"time\": 145, \"variable\": \"SW_IN\", \"mean\": -0.2154131829738617, \"std\": 7.7651519775390625}, {\"time\": 146, \"variable\": \"SW_IN\", \"mean\": 0.0249538104981184, \"std\": 7.7651519775390625}, {\"time\": 147, \"variable\": \"SW_IN\", \"mean\": 0.08616882562637329, \"std\": 7.7651519775390625}, {\"time\": 148, \"variable\": \"SW_IN\", \"mean\": 0.3277941048145294, \"std\": 7.7651519775390625}, {\"time\": 149, \"variable\": \"SW_IN\", \"mean\": 0.2679401934146881, \"std\": 7.7651519775390625}, {\"time\": 150, \"variable\": \"SW_IN\", \"mean\": 0.26105761528015137, \"std\": 7.7651519775390625}, {\"time\": 151, \"variable\": \"SW_IN\", \"mean\": 0.41317135095596313, \"std\": 7.7651519775390625}, {\"time\": 152, \"variable\": \"SW_IN\", \"mean\": 0.19755904376506805, \"std\": 7.7651519775390625}, {\"time\": 153, \"variable\": \"SW_IN\", \"mean\": -0.37548139691352844, \"std\": 7.7651519775390625}, {\"time\": 154, \"variable\": \"SW_IN\", \"mean\": -0.31558915972709656, \"std\": 7.7651519775390625}, {\"time\": 155, \"variable\": \"SW_IN\", \"mean\": 0.16156020760536194, \"std\": 7.7651519775390625}, {\"time\": 156, \"variable\": \"SW_IN\", \"mean\": -0.050031356513500214, \"std\": 7.7651519775390625}, {\"time\": 157, \"variable\": \"SW_IN\", \"mean\": -0.10128555446863174, \"std\": 7.7651519775390625}, {\"time\": 158, \"variable\": \"SW_IN\", \"mean\": 0.1517222672700882, \"std\": 7.7651519775390625}, {\"time\": 159, \"variable\": \"SW_IN\", \"mean\": 0.36297425627708435, \"std\": 7.7651519775390625}, {\"time\": 160, \"variable\": \"SW_IN\", \"mean\": 0.7735633254051208, \"std\": 7.7651519775390625}, {\"time\": 161, \"variable\": \"SW_IN\", \"mean\": 3.375458240509033, \"std\": 7.7651519775390625}, {\"time\": 162, \"variable\": \"SW_IN\", \"mean\": 8.4375, \"std\": 7.7651519775390625}, {\"time\": 163, \"variable\": \"SW_IN\", \"mean\": 13.818084716796875, \"std\": 7.7651519775390625}, {\"time\": 164, \"variable\": \"SW_IN\", \"mean\": 17.150182723999023, \"std\": 7.7651519775390625}, {\"time\": 165, \"variable\": \"SW_IN\", \"mean\": 21.570621490478516, \"std\": 7.7651519775390625}, {\"time\": 166, \"variable\": \"SW_IN\", \"mean\": 26.71999740600586, \"std\": 7.7651519775390625}, {\"time\": 167, \"variable\": \"SW_IN\", \"mean\": 26.246177673339844, \"std\": 7.7651519775390625}, {\"time\": 168, \"variable\": \"SW_IN\", \"mean\": 23.95823860168457, \"std\": 7.7651519775390625}, {\"time\": 169, \"variable\": \"SW_IN\", \"mean\": 20.056556701660156, \"std\": 7.7651519775390625}, {\"time\": 170, \"variable\": \"SW_IN\", \"mean\": 25.40559959411621, \"std\": 7.7651519775390625}, {\"time\": 171, \"variable\": \"SW_IN\", \"mean\": 29.472185134887695, \"std\": 7.7651519775390625}, {\"time\": 172, \"variable\": \"SW_IN\", \"mean\": 25.048891067504883, \"std\": 7.7651519775390625}, {\"time\": 173, \"variable\": \"SW_IN\", \"mean\": 14.215532302856445, \"std\": 7.7651519775390625}, {\"time\": 174, \"variable\": \"SW_IN\", \"mean\": 9.101766586303711, \"std\": 7.7651519775390625}, {\"time\": 175, \"variable\": \"SW_IN\", \"mean\": 4.629046440124512, \"std\": 7.7651519775390625}, {\"time\": 176, \"variable\": \"SW_IN\", \"mean\": 1.6045067310333252, \"std\": 7.7651519775390625}, {\"time\": 177, \"variable\": \"SW_IN\", \"mean\": 0.36019366979599, \"std\": 7.7651519775390625}, {\"time\": 178, \"variable\": \"SW_IN\", \"mean\": 0.16683389246463776, \"std\": 7.7651519775390625}, {\"time\": 179, \"variable\": \"SW_IN\", \"mean\": -0.11668044328689575, \"std\": 7.7651519775390625}, {\"time\": 180, \"variable\": \"SW_IN\", \"mean\": -0.2463303506374359, \"std\": 7.7651519775390625}, {\"time\": 181, \"variable\": \"SW_IN\", \"mean\": 0.12306924164295197, \"std\": 7.7651519775390625}, {\"time\": 182, \"variable\": \"SW_IN\", \"mean\": 0.32251492142677307, \"std\": 7.7651519775390625}, {\"time\": 183, \"variable\": \"SW_IN\", \"mean\": 0.04530617967247963, \"std\": 7.7651519775390625}, {\"time\": 184, \"variable\": \"SW_IN\", \"mean\": -0.11608345806598663, \"std\": 7.7651519775390625}, {\"time\": 185, \"variable\": \"SW_IN\", \"mean\": -0.04505465552210808, \"std\": 7.7651519775390625}, {\"time\": 186, \"variable\": \"SW_IN\", \"mean\": -0.13136456906795502, \"std\": 7.7651519775390625}, {\"time\": 187, \"variable\": \"SW_IN\", \"mean\": -0.02417549304664135, \"std\": 7.7651519775390625}, {\"time\": 188, \"variable\": \"SW_IN\", \"mean\": -0.19428640604019165, \"std\": 7.7651519775390625}, {\"time\": 189, \"variable\": \"SW_IN\", \"mean\": -0.30044588446617126, \"std\": 7.7651519775390625}, {\"time\": 190, \"variable\": \"SW_IN\", \"mean\": -0.6386510133743286, \"std\": 7.7651519775390625}, {\"time\": 191, \"variable\": \"SW_IN\", \"mean\": 0.12819328904151917, \"std\": 7.7651519775390625}, {\"time\": 192, \"variable\": \"SW_IN\", \"mean\": 0.9211516380310059, \"std\": 7.7651519775390625}, {\"time\": 193, \"variable\": \"SW_IN\", \"mean\": 0.23708507418632507, \"std\": 7.7651519775390625}, {\"time\": 194, \"variable\": \"SW_IN\", \"mean\": 0.027746209874749184, \"std\": 7.7651519775390625}, {\"time\": 195, \"variable\": \"SW_IN\", \"mean\": 0.3076498508453369, \"std\": 7.765153408050537}, {\"time\": 196, \"variable\": \"SW_IN\", \"mean\": -0.22581908106803894, \"std\": 7.765182971954346}, {\"time\": 197, \"variable\": \"SW_IN\", \"mean\": -0.8454845547676086, \"std\": 7.765796184539795}, {\"time\": 198, \"variable\": \"SW_IN\", \"mean\": -0.32448458671569824, \"std\": 7.779192924499512}, {\"time\": 199, \"variable\": \"SW_IN\", \"mean\": 1.154644250869751, \"std\": 8.077901840209961}], \"data-b81d453e6a0e63188b098175c0a635c7\": [{\"time\": 0.0, \"variable\": \"VPD\", \"value\": 0.22200000286102295, \"is_missing\": false}, {\"time\": 1.0, \"variable\": \"VPD\", \"value\": 0.12200000137090683, \"is_missing\": false}, {\"time\": 2.0, \"variable\": \"VPD\", \"value\": 0.09000000357627869, \"is_missing\": false}, {\"time\": 3.0, \"variable\": \"VPD\", \"value\": 0.10999999940395355, \"is_missing\": false}, {\"time\": 4.0, \"variable\": \"VPD\", \"value\": 0.10199999809265137, \"is_missing\": false}, {\"time\": 5.0, \"variable\": \"VPD\", \"value\": 0.11100000143051147, \"is_missing\": false}, {\"time\": 6.0, \"variable\": \"VPD\", \"value\": 0.10899999737739563, \"is_missing\": false}, {\"time\": 7.0, \"variable\": \"VPD\", \"value\": 0.10700000077486038, \"is_missing\": false}, {\"time\": 8.0, \"variable\": \"VPD\", \"value\": 0.12200000137090683, \"is_missing\": false}, {\"time\": 9.0, \"variable\": \"VPD\", \"value\": 0.1379999965429306, \"is_missing\": false}, {\"time\": 10.0, \"variable\": \"VPD\", \"value\": 0.1379999965429306, \"is_missing\": false}, {\"time\": 11.0, \"variable\": \"VPD\", \"value\": 0.12200000137090683, \"is_missing\": false}, {\"time\": 12.0, \"variable\": \"VPD\", \"value\": 0.09799999743700027, \"is_missing\": false}, {\"time\": 13.0, \"variable\": \"VPD\", \"value\": 0.06599999964237213, \"is_missing\": false}, {\"time\": 14.0, \"variable\": \"VPD\", \"value\": 0.04399999976158142, \"is_missing\": false}, {\"time\": 15.0, \"variable\": \"VPD\", \"value\": 0.026000000536441803, \"is_missing\": false}, {\"time\": 16.0, \"variable\": \"VPD\", \"value\": 0.01600000075995922, \"is_missing\": false}, {\"time\": 17.0, \"variable\": \"VPD\", \"value\": 0.009999999776482582, \"is_missing\": false}, {\"time\": 18.0, \"variable\": \"VPD\", \"value\": 0.006000000052154064, \"is_missing\": false}, {\"time\": 19.0, \"variable\": \"VPD\", \"value\": 0.006000000052154064, \"is_missing\": false}, {\"time\": 20.0, \"variable\": \"VPD\", \"value\": 0.006000000052154064, \"is_missing\": false}, {\"time\": 21.0, \"variable\": \"VPD\", \"value\": 0.010999999940395355, \"is_missing\": false}, {\"time\": 22.0, \"variable\": \"VPD\", \"value\": 0.01899999938905239, \"is_missing\": false}, {\"time\": 23.0, \"variable\": \"VPD\", \"value\": 0.014000000432133675, \"is_missing\": false}, {\"time\": 24.0, \"variable\": \"VPD\", \"value\": 0.00800000037997961, \"is_missing\": false}, {\"time\": 25.0, \"variable\": \"VPD\", \"value\": 0.006000000052154064, \"is_missing\": false}, {\"time\": 26.0, \"variable\": \"VPD\", \"value\": 0.0, \"is_missing\": false}, {\"time\": 27.0, \"variable\": \"VPD\", \"value\": 0.0, \"is_missing\": false}, {\"time\": 28.0, \"variable\": \"VPD\", \"value\": 0.0, \"is_missing\": false}, {\"time\": 29.0, \"variable\": \"VPD\", \"value\": 0.0, \"is_missing\": false}, {\"time\": 30.0, \"variable\": \"VPD\", \"value\": 0.0, \"is_missing\": true}, {\"time\": 31.0, \"variable\": \"VPD\", \"value\": 0.0, \"is_missing\": true}, {\"time\": 32.0, \"variable\": \"VPD\", \"value\": 0.0, \"is_missing\": true}, {\"time\": 33.0, \"variable\": \"VPD\", \"value\": 0.0, \"is_missing\": true}, {\"time\": 34.0, \"variable\": \"VPD\", \"value\": 0.0, \"is_missing\": true}, {\"time\": 35.0, \"variable\": \"VPD\", \"value\": 0.0, \"is_missing\": true}, {\"time\": 36.0, \"variable\": \"VPD\", \"value\": 0.0, \"is_missing\": true}, {\"time\": 37.0, \"variable\": \"VPD\", \"value\": 0.0020000000949949026, \"is_missing\": true}, {\"time\": 38.0, \"variable\": \"VPD\", \"value\": 0.008999999612569809, \"is_missing\": true}, {\"time\": 39.0, \"variable\": \"VPD\", \"value\": 0.014000000432133675, \"is_missing\": true}, {\"time\": 40.0, \"variable\": \"VPD\", \"value\": 0.014000000432133675, \"is_missing\": false}, {\"time\": 41.0, \"variable\": \"VPD\", \"value\": 0.03799999877810478, \"is_missing\": false}, {\"time\": 42.0, \"variable\": \"VPD\", \"value\": 0.07900000363588333, \"is_missing\": false}, {\"time\": 43.0, \"variable\": \"VPD\", \"value\": 0.25699999928474426, \"is_missing\": false}, {\"time\": 44.0, \"variable\": \"VPD\", \"value\": 0.3880000114440918, \"is_missing\": false}, {\"time\": 45.0, \"variable\": \"VPD\", \"value\": 0.5550000071525574, \"is_missing\": false}, {\"time\": 46.0, \"variable\": \"VPD\", \"value\": 0.4519999921321869, \"is_missing\": false}, {\"time\": 47.0, \"variable\": \"VPD\", \"value\": 0.4350000023841858, \"is_missing\": false}, {\"time\": 48.0, \"variable\": \"VPD\", \"value\": 0.24799999594688416, \"is_missing\": false}, {\"time\": 49.0, \"variable\": \"VPD\", \"value\": 0.23399999737739563, \"is_missing\": false}, {\"time\": 50.0, \"variable\": \"VPD\", \"value\": 0.37700000405311584, \"is_missing\": false}, {\"time\": 51.0, \"variable\": \"VPD\", \"value\": 0.414000004529953, \"is_missing\": false}, {\"time\": 52.0, \"variable\": \"VPD\", \"value\": 0.35600000619888306, \"is_missing\": false}, {\"time\": 53.0, \"variable\": \"VPD\", \"value\": 0.20499999821186066, \"is_missing\": false}, {\"time\": 54.0, \"variable\": \"VPD\", \"value\": 0.18799999356269836, \"is_missing\": false}, {\"time\": 55.0, \"variable\": \"VPD\", \"value\": 0.23199999332427979, \"is_missing\": false}, {\"time\": 56.0, \"variable\": \"VPD\", \"value\": 0.27000001072883606, \"is_missing\": false}, {\"time\": 57.0, \"variable\": \"VPD\", \"value\": 0.27300000190734863, \"is_missing\": false}, {\"time\": 58.0, \"variable\": \"VPD\", \"value\": 0.22499999403953552, \"is_missing\": false}, {\"time\": 59.0, \"variable\": \"VPD\", \"value\": 0.12300000339746475, \"is_missing\": false}, {\"time\": 60.0, \"variable\": \"VPD\", \"value\": 0.05299999937415123, \"is_missing\": false}, {\"time\": 61.0, \"variable\": \"VPD\", \"value\": 0.026000000536441803, \"is_missing\": false}, {\"time\": 62.0, \"variable\": \"VPD\", \"value\": 0.013000000268220901, \"is_missing\": false}, {\"time\": 63.0, \"variable\": \"VPD\", \"value\": 0.017000000923871994, \"is_missing\": false}, {\"time\": 64.0, \"variable\": \"VPD\", \"value\": 0.18000000715255737, \"is_missing\": false}, {\"time\": 65.0, \"variable\": \"VPD\", \"value\": 0.16200000047683716, \"is_missing\": false}, {\"time\": 66.0, \"variable\": \"VPD\", \"value\": 0.1770000010728836, \"is_missing\": false}, {\"time\": 67.0, \"variable\": \"VPD\", \"value\": 0.1809999942779541, \"is_missing\": false}, {\"time\": 68.0, \"variable\": \"VPD\", \"value\": 0.18799999356269836, \"is_missing\": false}, {\"time\": 69.0, \"variable\": \"VPD\", \"value\": 0.2759999930858612, \"is_missing\": false}, {\"time\": 70.0, \"variable\": \"VPD\", \"value\": 0.3089999854564667, \"is_missing\": false}, {\"time\": 71.0, \"variable\": \"VPD\", \"value\": 0.34599998593330383, \"is_missing\": false}, {\"time\": 72.0, \"variable\": \"VPD\", \"value\": 0.296999990940094, \"is_missing\": false}, {\"time\": 73.0, \"variable\": \"VPD\", \"value\": 0.3490000069141388, \"is_missing\": false}, {\"time\": 74.0, \"variable\": \"VPD\", \"value\": 0.3619999885559082, \"is_missing\": false}, {\"time\": 75.0, \"variable\": \"VPD\", \"value\": 0.38100001215934753, \"is_missing\": false}, {\"time\": 76.0, \"variable\": \"VPD\", \"value\": 0.36899998784065247, \"is_missing\": false}, {\"time\": 77.0, \"variable\": \"VPD\", \"value\": 0.23999999463558197, \"is_missing\": false}, {\"time\": 78.0, \"variable\": \"VPD\", \"value\": 0.11100000143051147, \"is_missing\": false}, {\"time\": 79.0, \"variable\": \"VPD\", \"value\": 0.06199999898672104, \"is_missing\": false}, {\"time\": 80.0, \"variable\": \"VPD\", \"value\": 0.04399999976158142, \"is_missing\": false}, {\"time\": 81.0, \"variable\": \"VPD\", \"value\": 0.03400000184774399, \"is_missing\": false}, {\"time\": 82.0, \"variable\": \"VPD\", \"value\": 0.03200000151991844, \"is_missing\": false}, {\"time\": 83.0, \"variable\": \"VPD\", \"value\": 0.054999999701976776, \"is_missing\": false}, {\"time\": 84.0, \"variable\": \"VPD\", \"value\": 0.125, \"is_missing\": false}, {\"time\": 85.0, \"variable\": \"VPD\", \"value\": 0.12800000607967377, \"is_missing\": false}, {\"time\": 86.0, \"variable\": \"VPD\", \"value\": 0.20100000500679016, \"is_missing\": false}, {\"time\": 87.0, \"variable\": \"VPD\", \"value\": 0.17399999499320984, \"is_missing\": false}, {\"time\": 88.0, \"variable\": \"VPD\", \"value\": 0.15399999916553497, \"is_missing\": false}, {\"time\": 89.0, \"variable\": \"VPD\", \"value\": 0.1770000010728836, \"is_missing\": false}, {\"time\": 90.0, \"variable\": \"VPD\", \"value\": 0.19200000166893005, \"is_missing\": false}, {\"time\": 91.0, \"variable\": \"VPD\", \"value\": 0.14900000393390656, \"is_missing\": false}, {\"time\": 92.0, \"variable\": \"VPD\", \"value\": 0.1120000034570694, \"is_missing\": false}, {\"time\": 93.0, \"variable\": \"VPD\", \"value\": 0.07500000298023224, \"is_missing\": false}, {\"time\": 94.0, \"variable\": \"VPD\", \"value\": 0.03799999877810478, \"is_missing\": false}, {\"time\": 95.0, \"variable\": \"VPD\", \"value\": 0.020999999716877937, \"is_missing\": false}, {\"time\": 96.0, \"variable\": \"VPD\", \"value\": 0.013000000268220901, \"is_missing\": false}, {\"time\": 97.0, \"variable\": \"VPD\", \"value\": 0.004000000189989805, \"is_missing\": false}, {\"time\": 98.0, \"variable\": \"VPD\", \"value\": 0.0, \"is_missing\": false}, {\"time\": 99.0, \"variable\": \"VPD\", \"value\": 0.0, \"is_missing\": false}, {\"time\": 100.0, \"variable\": \"VPD\", \"value\": 0.0, \"is_missing\": false}, {\"time\": 101.0, \"variable\": \"VPD\", \"value\": 0.0, \"is_missing\": false}, {\"time\": 102.0, \"variable\": \"VPD\", \"value\": 0.0, \"is_missing\": false}, {\"time\": 103.0, \"variable\": \"VPD\", \"value\": 0.0, \"is_missing\": false}, {\"time\": 104.0, \"variable\": \"VPD\", \"value\": 0.0, \"is_missing\": false}, {\"time\": 105.0, \"variable\": \"VPD\", \"value\": 0.0, \"is_missing\": false}, {\"time\": 106.0, \"variable\": \"VPD\", \"value\": 0.008999999612569809, \"is_missing\": false}, {\"time\": 107.0, \"variable\": \"VPD\", \"value\": 0.061000000685453415, \"is_missing\": false}, {\"time\": 108.0, \"variable\": \"VPD\", \"value\": 0.17399999499320984, \"is_missing\": false}, {\"time\": 109.0, \"variable\": \"VPD\", \"value\": 0.20800000429153442, \"is_missing\": false}, {\"time\": 110.0, \"variable\": \"VPD\", \"value\": 0.2939999997615814, \"is_missing\": false}, {\"time\": 111.0, \"variable\": \"VPD\", \"value\": 0.3700000047683716, \"is_missing\": false}, {\"time\": 112.0, \"variable\": \"VPD\", \"value\": 0.4779999852180481, \"is_missing\": false}, {\"time\": 113.0, \"variable\": \"VPD\", \"value\": 0.5569999814033508, \"is_missing\": false}, {\"time\": 114.0, \"variable\": \"VPD\", \"value\": 0.6169999837875366, \"is_missing\": false}, {\"time\": 115.0, \"variable\": \"VPD\", \"value\": 0.656000018119812, \"is_missing\": false}, {\"time\": 116.0, \"variable\": \"VPD\", \"value\": 0.6539999842643738, \"is_missing\": false}, {\"time\": 117.0, \"variable\": \"VPD\", \"value\": 0.7039999961853027, \"is_missing\": false}, {\"time\": 118.0, \"variable\": \"VPD\", \"value\": 0.8379999995231628, \"is_missing\": false}, {\"time\": 119.0, \"variable\": \"VPD\", \"value\": 0.9139999747276306, \"is_missing\": false}, {\"time\": 120.0, \"variable\": \"VPD\", \"value\": 0.8180000185966492, \"is_missing\": false}, {\"time\": 121.0, \"variable\": \"VPD\", \"value\": 0.7279999852180481, \"is_missing\": false}, {\"time\": 122.0, \"variable\": \"VPD\", \"value\": 0.7490000128746033, \"is_missing\": false}, {\"time\": 123.0, \"variable\": \"VPD\", \"value\": 0.7730000019073486, \"is_missing\": false}, {\"time\": 124.0, \"variable\": \"VPD\", \"value\": 0.7870000004768372, \"is_missing\": false}, {\"time\": 125.0, \"variable\": \"VPD\", \"value\": 0.7590000033378601, \"is_missing\": false}, {\"time\": 126.0, \"variable\": \"VPD\", \"value\": 0.7229999899864197, \"is_missing\": false}, {\"time\": 127.0, \"variable\": \"VPD\", \"value\": 0.6710000038146973, \"is_missing\": false}, {\"time\": 128.0, \"variable\": \"VPD\", \"value\": 0.6570000052452087, \"is_missing\": false}, {\"time\": 129.0, \"variable\": \"VPD\", \"value\": 0.640999972820282, \"is_missing\": false}, {\"time\": 130.0, \"variable\": \"VPD\", \"value\": 0.5590000152587891, \"is_missing\": false}, {\"time\": 131.0, \"variable\": \"VPD\", \"value\": 0.4519999921321869, \"is_missing\": false}, {\"time\": 132.0, \"variable\": \"VPD\", \"value\": 0.3889999985694885, \"is_missing\": false}, {\"time\": 133.0, \"variable\": \"VPD\", \"value\": 0.41200000047683716, \"is_missing\": false}, {\"time\": 134.0, \"variable\": \"VPD\", \"value\": 0.42899999022483826, \"is_missing\": false}, {\"time\": 135.0, \"variable\": \"VPD\", \"value\": 0.4490000009536743, \"is_missing\": false}, {\"time\": 136.0, \"variable\": \"VPD\", \"value\": 0.47099998593330383, \"is_missing\": false}, {\"time\": 137.0, \"variable\": \"VPD\", \"value\": 0.4339999854564667, \"is_missing\": false}, {\"time\": 138.0, \"variable\": \"VPD\", \"value\": 0.4320000112056732, \"is_missing\": false}, {\"time\": 139.0, \"variable\": \"VPD\", \"value\": 0.4090000092983246, \"is_missing\": false}, {\"time\": 140.0, \"variable\": \"VPD\", \"value\": 0.4169999957084656, \"is_missing\": false}, {\"time\": 141.0, \"variable\": \"VPD\", \"value\": 0.4320000112056732, \"is_missing\": false}, {\"time\": 142.0, \"variable\": \"VPD\", \"value\": 0.4410000145435333, \"is_missing\": false}, {\"time\": 143.0, \"variable\": \"VPD\", \"value\": 0.46700000762939453, \"is_missing\": false}, {\"time\": 144.0, \"variable\": \"VPD\", \"value\": 0.45899999141693115, \"is_missing\": false}, {\"time\": 145.0, \"variable\": \"VPD\", \"value\": 0.5450000166893005, \"is_missing\": false}, {\"time\": 146.0, \"variable\": \"VPD\", \"value\": 0.699999988079071, \"is_missing\": false}, {\"time\": 147.0, \"variable\": \"VPD\", \"value\": 0.8130000233650208, \"is_missing\": false}, {\"time\": 148.0, \"variable\": \"VPD\", \"value\": 0.9520000219345093, \"is_missing\": false}, {\"time\": 149.0, \"variable\": \"VPD\", \"value\": 0.9710000157356262, \"is_missing\": false}, {\"time\": 150.0, \"variable\": \"VPD\", \"value\": 0.9580000042915344, \"is_missing\": false}, {\"time\": 151.0, \"variable\": \"VPD\", \"value\": 0.9380000233650208, \"is_missing\": false}, {\"time\": 152.0, \"variable\": \"VPD\", \"value\": 0.7850000262260437, \"is_missing\": false}, {\"time\": 153.0, \"variable\": \"VPD\", \"value\": 0.5289999842643738, \"is_missing\": false}, {\"time\": 154.0, \"variable\": \"VPD\", \"value\": 0.44999998807907104, \"is_missing\": false}, {\"time\": 155.0, \"variable\": \"VPD\", \"value\": 0.49900001287460327, \"is_missing\": false}, {\"time\": 156.0, \"variable\": \"VPD\", \"value\": 0.38199999928474426, \"is_missing\": false}, {\"time\": 157.0, \"variable\": \"VPD\", \"value\": 0.31299999356269836, \"is_missing\": false}, {\"time\": 158.0, \"variable\": \"VPD\", \"value\": 0.3140000104904175, \"is_missing\": false}, {\"time\": 159.0, \"variable\": \"VPD\", \"value\": 0.2680000066757202, \"is_missing\": false}, {\"time\": 160.0, \"variable\": \"VPD\", \"value\": 0.12200000137090683, \"is_missing\": false}, {\"time\": 161.0, \"variable\": \"VPD\", \"value\": 0.07199999690055847, \"is_missing\": false}, {\"time\": 162.0, \"variable\": \"VPD\", \"value\": 0.05400000140070915, \"is_missing\": false}, {\"time\": 163.0, \"variable\": \"VPD\", \"value\": 0.04500000178813934, \"is_missing\": false}, {\"time\": 164.0, \"variable\": \"VPD\", \"value\": 0.03799999877810478, \"is_missing\": false}, {\"time\": 165.0, \"variable\": \"VPD\", \"value\": 0.035999998450279236, \"is_missing\": false}, {\"time\": 166.0, \"variable\": \"VPD\", \"value\": 0.04500000178813934, \"is_missing\": false}, {\"time\": 167.0, \"variable\": \"VPD\", \"value\": 0.08699999749660492, \"is_missing\": false}, {\"time\": 168.0, \"variable\": \"VPD\", \"value\": 0.10599999874830246, \"is_missing\": false}, {\"time\": 169.0, \"variable\": \"VPD\", \"value\": 0.08900000154972076, \"is_missing\": false}, {\"time\": 170.0, \"variable\": \"VPD\", \"value\": 0.06700000166893005, \"is_missing\": false}, {\"time\": 171.0, \"variable\": \"VPD\", \"value\": 0.061000000685453415, \"is_missing\": false}, {\"time\": 172.0, \"variable\": \"VPD\", \"value\": 0.050999999046325684, \"is_missing\": false}, {\"time\": 173.0, \"variable\": \"VPD\", \"value\": 0.04600000008940697, \"is_missing\": false}, {\"time\": 174.0, \"variable\": \"VPD\", \"value\": 0.04699999839067459, \"is_missing\": false}, {\"time\": 175.0, \"variable\": \"VPD\", \"value\": 0.07000000029802322, \"is_missing\": false}, {\"time\": 176.0, \"variable\": \"VPD\", \"value\": 0.11400000005960464, \"is_missing\": false}, {\"time\": 177.0, \"variable\": \"VPD\", \"value\": 0.1379999965429306, \"is_missing\": false}, {\"time\": 178.0, \"variable\": \"VPD\", \"value\": 0.17599999904632568, \"is_missing\": false}, {\"time\": 179.0, \"variable\": \"VPD\", \"value\": 0.14300000667572021, \"is_missing\": false}, {\"time\": 180.0, \"variable\": \"VPD\", \"value\": 0.1379999965429306, \"is_missing\": false}, {\"time\": 181.0, \"variable\": \"VPD\", \"value\": 0.26899999380111694, \"is_missing\": false}, {\"time\": 182.0, \"variable\": \"VPD\", \"value\": 0.3529999852180481, \"is_missing\": false}, {\"time\": 183.0, \"variable\": \"VPD\", \"value\": 0.29899999499320984, \"is_missing\": false}, {\"time\": 184.0, \"variable\": \"VPD\", \"value\": 0.2619999945163727, \"is_missing\": false}, {\"time\": 185.0, \"variable\": \"VPD\", \"value\": 0.28600001335144043, \"is_missing\": false}, {\"time\": 186.0, \"variable\": \"VPD\", \"value\": 0.27799999713897705, \"is_missing\": false}, {\"time\": 187.0, \"variable\": \"VPD\", \"value\": 0.3400000035762787, \"is_missing\": false}, {\"time\": 188.0, \"variable\": \"VPD\", \"value\": 0.3490000069141388, \"is_missing\": false}, {\"time\": 189.0, \"variable\": \"VPD\", \"value\": 0.41600000858306885, \"is_missing\": false}, {\"time\": 190.0, \"variable\": \"VPD\", \"value\": 0.46299999952316284, \"is_missing\": false}, {\"time\": 191.0, \"variable\": \"VPD\", \"value\": 0.843999981880188, \"is_missing\": false}, {\"time\": 192.0, \"variable\": \"VPD\", \"value\": 1.2130000591278076, \"is_missing\": false}, {\"time\": 193.0, \"variable\": \"VPD\", \"value\": 1.13100004196167, \"is_missing\": false}, {\"time\": 194.0, \"variable\": \"VPD\", \"value\": 1.1139999628067017, \"is_missing\": false}, {\"time\": 195.0, \"variable\": \"VPD\", \"value\": 1.190999984741211, \"is_missing\": false}, {\"time\": 196.0, \"variable\": \"VPD\", \"value\": 1.0570000410079956, \"is_missing\": false}, {\"time\": 197.0, \"variable\": \"VPD\", \"value\": 0.9350000023841858, \"is_missing\": false}, {\"time\": 198.0, \"variable\": \"VPD\", \"value\": 1.1619999408721924, \"is_missing\": false}, {\"time\": 199.0, \"variable\": \"VPD\", \"value\": 1.6360000371932983, \"is_missing\": false}], \"data-65bd5955cc5a65f7e4c8408af9d05c50\": [{\"time\": 0, \"variable\": \"VPD\", \"mean\": 0.19832025468349457, \"std\": 0.06838090717792511}, {\"time\": 1, \"variable\": \"VPD\", \"mean\": 0.1352311372756958, \"std\": 0.06586182117462158}, {\"time\": 2, \"variable\": \"VPD\", \"mean\": 0.10489990562200546, \"std\": 0.06569754332304001}, {\"time\": 3, \"variable\": \"VPD\", \"mean\": 0.10779857635498047, \"std\": 0.06568674743175507}, {\"time\": 4, \"variable\": \"VPD\", \"mean\": 0.10484790056943893, \"std\": 0.06568602472543716}, {\"time\": 5, \"variable\": \"VPD\", \"mean\": 0.1095457524061203, \"std\": 0.06568597257137299}, {\"time\": 6, \"variable\": \"VPD\", \"mean\": 0.10981694608926773, \"std\": 0.06568597257137299}, {\"time\": 7, \"variable\": \"VPD\", \"mean\": 0.1110413447022438, \"std\": 0.06568597257137299}, {\"time\": 8, \"variable\": \"VPD\", \"mean\": 0.12226631492376328, \"std\": 0.06568597257137299}, {\"time\": 9, \"variable\": \"VPD\", \"mean\": 0.1328032910823822, \"std\": 0.06568597257137299}, {\"time\": 10, \"variable\": \"VPD\", \"mean\": 0.13227418065071106, \"std\": 0.06568597257137299}, {\"time\": 11, \"variable\": \"VPD\", \"mean\": 0.1182258203625679, \"std\": 0.06568597257137299}, {\"time\": 12, \"variable\": \"VPD\", \"mean\": 0.09585455060005188, \"std\": 0.06568597257137299}, {\"time\": 13, \"variable\": \"VPD\", \"mean\": 0.06813937425613403, \"std\": 0.06568597257137299}, {\"time\": 14, \"variable\": \"VPD\", \"mean\": 0.0458800308406353, \"std\": 0.06568597257137299}, {\"time\": 15, \"variable\": \"VPD\", \"mean\": 0.028201716020703316, \"std\": 0.06568597257137299}, {\"time\": 16, \"variable\": \"VPD\", \"mean\": 0.01684950292110443, \"std\": 0.06568597257137299}, {\"time\": 17, \"variable\": \"VPD\", \"mean\": 0.01035998947918415, \"std\": 0.06568597257137299}, {\"time\": 18, \"variable\": \"VPD\", \"mean\": 0.00707772234454751, \"std\": 0.06568597257137299}, {\"time\": 19, \"variable\": \"VPD\", \"mean\": 0.006425376515835524, \"std\": 0.06568597257137299}, {\"time\": 20, \"variable\": \"VPD\", \"mean\": 0.006696140393614769, \"std\": 0.06568597257137299}, {\"time\": 21, \"variable\": \"VPD\", \"mean\": 0.01184934750199318, \"std\": 0.06568597257137299}, {\"time\": 22, \"variable\": \"VPD\", \"mean\": 0.021666713058948517, \"std\": 0.06568597257137299}, {\"time\": 23, \"variable\": \"VPD\", \"mean\": 0.011473456397652626, \"std\": 0.06568597257137299}, {\"time\": 24, \"variable\": \"VPD\", \"mean\": 0.006908243987709284, \"std\": 0.06568597257137299}, {\"time\": 25, \"variable\": \"VPD\", \"mean\": 0.005133533850312233, \"std\": 0.06568601727485657}, {\"time\": 26, \"variable\": \"VPD\", \"mean\": 0.003041577059775591, \"std\": 0.06568670272827148}, {\"time\": 27, \"variable\": \"VPD\", \"mean\": 0.0008366892579942942, \"std\": 0.06569694727659225}, {\"time\": 28, \"variable\": \"VPD\", \"mean\": 0.0005498193786479533, \"std\": 0.06585337966680527}, {\"time\": 29, \"variable\": \"VPD\", \"mean\": -0.0017008261056616902, \"std\": 0.06826505064964294}, {\"time\": 30, \"variable\": \"VPD\", \"mean\": 0.0007167111616581678, \"std\": 0.09971631318330765}, {\"time\": 31, \"variable\": \"VPD\", \"mean\": 0.003134248312562704, \"std\": 0.11903748661279678}, {\"time\": 32, \"variable\": \"VPD\", \"mean\": 0.005551785696297884, \"std\": 0.1316809058189392}, {\"time\": 33, \"variable\": \"VPD\", \"mean\": 0.007969322614371777, \"std\": 0.1394745409488678}, {\"time\": 34, \"variable\": \"VPD\", \"mean\": 0.010386859998106956, \"std\": 0.14321240782737732}, {\"time\": 35, \"variable\": \"VPD\", \"mean\": 0.012804397381842136, \"std\": 0.14321240782737732}, {\"time\": 36, \"variable\": \"VPD\", \"mean\": 0.015221934765577316, \"std\": 0.1394745409488678}, {\"time\": 37, \"variable\": \"VPD\", \"mean\": 0.01763947121798992, \"std\": 0.1316809058189392}, {\"time\": 38, \"variable\": \"VPD\", \"mean\": 0.020057009533047676, \"std\": 0.11903748661279678}, {\"time\": 39, \"variable\": \"VPD\", \"mean\": 0.02247454598546028, \"std\": 0.09971631318330765}, {\"time\": 40, \"variable\": \"VPD\", \"mean\": 0.024892084300518036, \"std\": 0.06826505064964294}, {\"time\": 41, \"variable\": \"VPD\", \"mean\": 0.05345842242240906, \"std\": 0.06585337966680527}, {\"time\": 42, \"variable\": \"VPD\", \"mean\": 0.11372607201337814, \"std\": 0.06569694727659225}, {\"time\": 43, \"variable\": \"VPD\", \"mean\": 0.2537422478199005, \"std\": 0.06568670272827148}, {\"time\": 44, \"variable\": \"VPD\", \"mean\": 0.3809303641319275, \"std\": 0.06568601727485657}, {\"time\": 45, \"variable\": \"VPD\", \"mean\": 0.48957157135009766, \"std\": 0.06568597257137299}, {\"time\": 46, \"variable\": \"VPD\", \"mean\": 0.4507841169834137, \"std\": 0.06568597257137299}, {\"time\": 47, \"variable\": \"VPD\", \"mean\": 0.40465956926345825, \"std\": 0.06568597257137299}, {\"time\": 48, \"variable\": \"VPD\", \"mean\": 0.29139992594718933, \"std\": 0.06568597257137299}, {\"time\": 49, \"variable\": \"VPD\", \"mean\": 0.275617390871048, \"std\": 0.06568597257137299}, {\"time\": 50, \"variable\": \"VPD\", \"mean\": 0.35355451703071594, \"std\": 0.06568597257137299}, {\"time\": 51, \"variable\": \"VPD\", \"mean\": 0.38180410861968994, \"std\": 0.06568597257137299}, {\"time\": 52, \"variable\": \"VPD\", \"mean\": 0.3332216441631317, \"std\": 0.06568597257137299}, {\"time\": 53, \"variable\": \"VPD\", \"mean\": 0.23638112843036652, \"std\": 0.06568597257137299}, {\"time\": 54, \"variable\": \"VPD\", \"mean\": 0.2103692591190338, \"std\": 0.06568597257137299}, {\"time\": 55, \"variable\": \"VPD\", \"mean\": 0.23324674367904663, \"std\": 0.06568597257137299}, {\"time\": 56, \"variable\": \"VPD\", \"mean\": 0.2568342983722687, \"std\": 0.06568597257137299}, {\"time\": 57, \"variable\": \"VPD\", \"mean\": 0.25368961691856384, \"std\": 0.06568597257137299}, {\"time\": 58, \"variable\": \"VPD\", \"mean\": 0.20862652361392975, \"std\": 0.06568597257137299}, {\"time\": 59, \"variable\": \"VPD\", \"mean\": 0.13041751086711884, \"std\": 0.06568597257137299}, {\"time\": 60, \"variable\": \"VPD\", \"mean\": 0.06705745309591293, \"std\": 0.06568597257137299}, {\"time\": 61, \"variable\": \"VPD\", \"mean\": 0.03609698638319969, \"std\": 0.06568597257137299}, {\"time\": 62, \"variable\": \"VPD\", \"mean\": 0.02652253955602646, \"std\": 0.06568597257137299}, {\"time\": 63, \"variable\": \"VPD\", \"mean\": 0.04724571481347084, \"std\": 0.06568597257137299}, {\"time\": 64, \"variable\": \"VPD\", \"mean\": 0.1420368105173111, \"std\": 0.06568597257137299}, {\"time\": 65, \"variable\": \"VPD\", \"mean\": 0.15644961595535278, \"std\": 0.06568597257137299}, {\"time\": 66, \"variable\": \"VPD\", \"mean\": 0.17370890080928802, \"std\": 0.06568597257137299}, {\"time\": 67, \"variable\": \"VPD\", \"mean\": 0.17898160219192505, \"std\": 0.06568597257137299}, {\"time\": 68, \"variable\": \"VPD\", \"mean\": 0.21008190512657166, \"std\": 0.06568597257137299}, {\"time\": 69, \"variable\": \"VPD\", \"mean\": 0.2695766091346741, \"std\": 0.06568597257137299}, {\"time\": 70, \"variable\": \"VPD\", \"mean\": 0.3142562210559845, \"std\": 0.06568597257137299}, {\"time\": 71, \"variable\": \"VPD\", \"mean\": 0.3306065797805786, \"std\": 0.06568597257137299}, {\"time\": 72, \"variable\": \"VPD\", \"mean\": 0.3109202980995178, \"std\": 0.06568597257137299}, {\"time\": 73, \"variable\": \"VPD\", \"mean\": 0.3453776240348816, \"std\": 0.06568597257137299}, {\"time\": 74, \"variable\": \"VPD\", \"mean\": 0.36320918798446655, \"std\": 0.06568597257137299}, {\"time\": 75, \"variable\": \"VPD\", \"mean\": 0.37342411279678345, \"std\": 0.06568597257137299}, {\"time\": 76, \"variable\": \"VPD\", \"mean\": 0.3387819528579712, \"std\": 0.06568597257137299}, {\"time\": 77, \"variable\": \"VPD\", \"mean\": 0.23431026935577393, \"std\": 0.06568597257137299}, {\"time\": 78, \"variable\": \"VPD\", \"mean\": 0.1277163028717041, \"std\": 0.06568597257137299}, {\"time\": 79, \"variable\": \"VPD\", \"mean\": 0.07270337641239166, \"std\": 0.06568597257137299}, {\"time\": 80, \"variable\": \"VPD\", \"mean\": 0.048231299966573715, \"std\": 0.06568597257137299}, {\"time\": 81, \"variable\": \"VPD\", \"mean\": 0.03945537284016609, \"std\": 0.06568597257137299}, {\"time\": 82, \"variable\": \"VPD\", \"mean\": 0.041895169764757156, \"std\": 0.06568597257137299}, {\"time\": 83, \"variable\": \"VPD\", \"mean\": 0.06479930132627487, \"std\": 0.06568597257137299}, {\"time\": 84, \"variable\": \"VPD\", \"mean\": 0.11202500760555267, \"std\": 0.06568597257137299}, {\"time\": 85, \"variable\": \"VPD\", \"mean\": 0.13502280414104462, \"std\": 0.06568597257137299}, {\"time\": 86, \"variable\": \"VPD\", \"mean\": 0.1794484406709671, \"std\": 0.06568597257137299}, {\"time\": 87, \"variable\": \"VPD\", \"mean\": 0.17318226397037506, \"std\": 0.06568597257137299}, {\"time\": 88, \"variable\": \"VPD\", \"mean\": 0.16332416236400604, \"std\": 0.06568597257137299}, {\"time\": 89, \"variable\": \"VPD\", \"mean\": 0.17491279542446136, \"std\": 0.06568597257137299}, {\"time\": 90, \"variable\": \"VPD\", \"mean\": 0.17842057347297668, \"std\": 0.06568597257137299}, {\"time\": 91, \"variable\": \"VPD\", \"mean\": 0.14730334281921387, \"std\": 0.06568597257137299}, {\"time\": 92, \"variable\": \"VPD\", \"mean\": 0.11221932619810104, \"std\": 0.06568597257137299}, {\"time\": 93, \"variable\": \"VPD\", \"mean\": 0.07615342736244202, \"std\": 0.06568597257137299}, {\"time\": 94, \"variable\": \"VPD\", \"mean\": 0.0434885248541832, \"std\": 0.06568597257137299}, {\"time\": 95, \"variable\": \"VPD\", \"mean\": 0.0247904434800148, \"std\": 0.06568597257137299}, {\"time\": 96, \"variable\": \"VPD\", \"mean\": 0.013886915519833565, \"std\": 0.06568597257137299}, {\"time\": 97, \"variable\": \"VPD\", \"mean\": 0.004422344733029604, \"std\": 0.06568597257137299}, {\"time\": 98, \"variable\": \"VPD\", \"mean\": 0.0002596407139208168, \"std\": 0.06568597257137299}, {\"time\": 99, \"variable\": \"VPD\", \"mean\": 5.7923309213947505e-05, \"std\": 0.06568597257137299}, {\"time\": 100, \"variable\": \"VPD\", \"mean\": 7.055210153339431e-05, \"std\": 0.06568597257137299}, {\"time\": 101, \"variable\": \"VPD\", \"mean\": -0.0003377663961146027, \"std\": 0.06568597257137299}, {\"time\": 102, \"variable\": \"VPD\", \"mean\": -0.0005633758846670389, \"std\": 0.06568597257137299}, {\"time\": 103, \"variable\": \"VPD\", \"mean\": 0.00029571267077699304, \"std\": 0.06568597257137299}, {\"time\": 104, \"variable\": \"VPD\", \"mean\": 0.0017026271671056747, \"std\": 0.06568597257137299}, {\"time\": 105, \"variable\": \"VPD\", \"mean\": 0.0065070693381130695, \"std\": 0.06568597257137299}, {\"time\": 106, \"variable\": \"VPD\", \"mean\": 0.0243283249437809, \"std\": 0.06568597257137299}, {\"time\": 107, \"variable\": \"VPD\", \"mean\": 0.0768926590681076, \"std\": 0.06568597257137299}, {\"time\": 108, \"variable\": \"VPD\", \"mean\": 0.16149118542671204, \"std\": 0.06568597257137299}, {\"time\": 109, \"variable\": \"VPD\", \"mean\": 0.2167840301990509, \"std\": 0.06568597257137299}, {\"time\": 110, \"variable\": \"VPD\", \"mean\": 0.2949821949005127, \"std\": 0.06568597257137299}, {\"time\": 111, \"variable\": \"VPD\", \"mean\": 0.3751660883426666, \"std\": 0.06568597257137299}, {\"time\": 112, \"variable\": \"VPD\", \"mean\": 0.4689772129058838, \"std\": 0.06568597257137299}, {\"time\": 113, \"variable\": \"VPD\", \"mean\": 0.5466515421867371, \"std\": 0.06568597257137299}, {\"time\": 114, \"variable\": \"VPD\", \"mean\": 0.6064638495445251, \"std\": 0.06568597257137299}, {\"time\": 115, \"variable\": \"VPD\", \"mean\": 0.6448179483413696, \"std\": 0.06568597257137299}, {\"time\": 116, \"variable\": \"VPD\", \"mean\": 0.6735512018203735, \"std\": 0.06568597257137299}, {\"time\": 117, \"variable\": \"VPD\", \"mean\": 0.7231758236885071, \"std\": 0.06568597257137299}, {\"time\": 118, \"variable\": \"VPD\", \"mean\": 0.8158323764801025, \"std\": 0.06568597257137299}, {\"time\": 119, \"variable\": \"VPD\", \"mean\": 0.8691039085388184, \"std\": 0.06568597257137299}, {\"time\": 120, \"variable\": \"VPD\", \"mean\": 0.818973183631897, \"std\": 0.06568597257137299}, {\"time\": 121, \"variable\": \"VPD\", \"mean\": 0.7578763961791992, \"std\": 0.06568597257137299}, {\"time\": 122, \"variable\": \"VPD\", \"mean\": 0.7582298517227173, \"std\": 0.06568597257137299}, {\"time\": 123, \"variable\": \"VPD\", \"mean\": 0.7734458446502686, \"std\": 0.06568597257137299}, {\"time\": 124, \"variable\": \"VPD\", \"mean\": 0.7771121263504028, \"std\": 0.06568597257137299}, {\"time\": 125, \"variable\": \"VPD\", \"mean\": 0.7514231204986572, \"std\": 0.06568597257137299}, {\"time\": 126, \"variable\": \"VPD\", \"mean\": 0.7195093631744385, \"std\": 0.06568597257137299}, {\"time\": 127, \"variable\": \"VPD\", \"mean\": 0.6766952276229858, \"std\": 0.06568597257137299}, {\"time\": 128, \"variable\": \"VPD\", \"mean\": 0.6513749361038208, \"std\": 0.06568597257137299}, {\"time\": 129, \"variable\": \"VPD\", \"mean\": 0.6219705939292908, \"std\": 0.06568597257137299}, {\"time\": 130, \"variable\": \"VPD\", \"mean\": 0.5518738031387329, \"std\": 0.06568597257137299}, {\"time\": 131, \"variable\": \"VPD\", \"mean\": 0.46601009368896484, \"std\": 0.06568597257137299}, {\"time\": 132, \"variable\": \"VPD\", \"mean\": 0.41282400488853455, \"std\": 0.06568597257137299}, {\"time\": 133, \"variable\": \"VPD\", \"mean\": 0.41648927330970764, \"std\": 0.06568597257137299}, {\"time\": 134, \"variable\": \"VPD\", \"mean\": 0.42984911799430847, \"std\": 0.06568597257137299}, {\"time\": 135, \"variable\": \"VPD\", \"mean\": 0.44648781418800354, \"std\": 0.06568597257137299}, {\"time\": 136, \"variable\": \"VPD\", \"mean\": 0.4581682085990906, \"std\": 0.06568597257137299}, {\"time\": 137, \"variable\": \"VPD\", \"mean\": 0.4388302266597748, \"std\": 0.06568597257137299}, {\"time\": 138, \"variable\": \"VPD\", \"mean\": 0.4300103783607483, \"std\": 0.06568597257137299}, {\"time\": 139, \"variable\": \"VPD\", \"mean\": 0.4164736866950989, \"std\": 0.06568597257137299}, {\"time\": 140, \"variable\": \"VPD\", \"mean\": 0.42059987783432007, \"std\": 0.06568597257137299}, {\"time\": 141, \"variable\": \"VPD\", \"mean\": 0.4326557517051697, \"std\": 0.06568597257137299}, {\"time\": 142, \"variable\": \"VPD\", \"mean\": 0.4452298581600189, \"std\": 0.06568597257137299}, {\"time\": 143, \"variable\": \"VPD\", \"mean\": 0.4667219817638397, \"std\": 0.06568597257137299}, {\"time\": 144, \"variable\": \"VPD\", \"mean\": 0.48564258217811584, \"std\": 0.06568597257137299}, {\"time\": 145, \"variable\": \"VPD\", \"mean\": 0.5662297606468201, \"std\": 0.06568597257137299}, {\"time\": 146, \"variable\": \"VPD\", \"mean\": 0.6946027874946594, \"std\": 0.06568597257137299}, {\"time\": 147, \"variable\": \"VPD\", \"mean\": 0.8090224862098694, \"std\": 0.06568597257137299}, {\"time\": 148, \"variable\": \"VPD\", \"mean\": 0.9177665114402771, \"std\": 0.06568597257137299}, {\"time\": 149, \"variable\": \"VPD\", \"mean\": 0.9517285227775574, \"std\": 0.06568597257137299}, {\"time\": 150, \"variable\": \"VPD\", \"mean\": 0.9426065683364868, \"std\": 0.06568597257137299}, {\"time\": 151, \"variable\": \"VPD\", \"mean\": 0.8981489539146423, \"std\": 0.06568597257137299}, {\"time\": 152, \"variable\": \"VPD\", \"mean\": 0.7621055841445923, \"std\": 0.06568597257137299}, {\"time\": 153, \"variable\": \"VPD\", \"mean\": 0.5722756385803223, \"std\": 0.06568597257137299}, {\"time\": 154, \"variable\": \"VPD\", \"mean\": 0.4826076328754425, \"std\": 0.06568597257137299}, {\"time\": 155, \"variable\": \"VPD\", \"mean\": 0.4699304699897766, \"std\": 0.06568597257137299}, {\"time\": 156, \"variable\": \"VPD\", \"mean\": 0.39015716314315796, \"std\": 0.06568597257137299}, {\"time\": 157, \"variable\": \"VPD\", \"mean\": 0.3284282684326172, \"std\": 0.06568597257137299}, {\"time\": 158, \"variable\": \"VPD\", \"mean\": 0.30167922377586365, \"std\": 0.06568597257137299}, {\"time\": 159, \"variable\": \"VPD\", \"mean\": 0.2466563582420349, \"std\": 0.06568597257137299}, {\"time\": 160, \"variable\": \"VPD\", \"mean\": 0.14164796471595764, \"std\": 0.06568597257137299}, {\"time\": 161, \"variable\": \"VPD\", \"mean\": 0.08452529460191727, \"std\": 0.06568597257137299}, {\"time\": 162, \"variable\": \"VPD\", \"mean\": 0.0595383495092392, \"std\": 0.06568597257137299}, {\"time\": 163, \"variable\": \"VPD\", \"mean\": 0.047950830310583115, \"std\": 0.06568597257137299}, {\"time\": 164, \"variable\": \"VPD\", \"mean\": 0.040636610239744186, \"std\": 0.06568597257137299}, {\"time\": 165, \"variable\": \"VPD\", \"mean\": 0.04087762162089348, \"std\": 0.06568597257137299}, {\"time\": 166, \"variable\": \"VPD\", \"mean\": 0.05477214604616165, \"std\": 0.06568597257137299}, {\"time\": 167, \"variable\": \"VPD\", \"mean\": 0.08219723403453827, \"std\": 0.06568597257137299}, {\"time\": 168, \"variable\": \"VPD\", \"mean\": 0.09555879235267639, \"std\": 0.06568597257137299}, {\"time\": 169, \"variable\": \"VPD\", \"mean\": 0.08332813531160355, \"std\": 0.06568597257137299}, {\"time\": 170, \"variable\": \"VPD\", \"mean\": 0.07001432031393051, \"std\": 0.06568597257137299}, {\"time\": 171, \"variable\": \"VPD\", \"mean\": 0.06363451480865479, \"std\": 0.06568597257137299}, {\"time\": 172, \"variable\": \"VPD\", \"mean\": 0.05494903400540352, \"std\": 0.06568597257137299}, {\"time\": 173, \"variable\": \"VPD\", \"mean\": 0.04806000739336014, \"std\": 0.06568597257137299}, {\"time\": 174, \"variable\": \"VPD\", \"mean\": 0.05330953374505043, \"std\": 0.06568597257137299}, {\"time\": 175, \"variable\": \"VPD\", \"mean\": 0.07548145204782486, \"std\": 0.06568597257137299}, {\"time\": 176, \"variable\": \"VPD\", \"mean\": 0.1098552867770195, \"std\": 0.06568597257137299}, {\"time\": 177, \"variable\": \"VPD\", \"mean\": 0.13633565604686737, \"std\": 0.06568597257137299}, {\"time\": 178, \"variable\": \"VPD\", \"mean\": 0.16113853454589844, \"std\": 0.06568597257137299}, {\"time\": 179, \"variable\": \"VPD\", \"mean\": 0.15216806530952454, \"std\": 0.06568597257137299}, {\"time\": 180, \"variable\": \"VPD\", \"mean\": 0.1697475016117096, \"std\": 0.06568597257137299}, {\"time\": 181, \"variable\": \"VPD\", \"mean\": 0.2586921453475952, \"std\": 0.06568597257137299}, {\"time\": 182, \"variable\": \"VPD\", \"mean\": 0.31889843940734863, \"std\": 0.06568597257137299}, {\"time\": 183, \"variable\": \"VPD\", \"mean\": 0.29784584045410156, \"std\": 0.06568597257137299}, {\"time\": 184, \"variable\": \"VPD\", \"mean\": 0.2752875089645386, \"std\": 0.06568597257137299}, {\"time\": 185, \"variable\": \"VPD\", \"mean\": 0.28514623641967773, \"std\": 0.06568597257137299}, {\"time\": 186, \"variable\": \"VPD\", \"mean\": 0.2934519052505493, \"std\": 0.06568597257137299}, {\"time\": 187, \"variable\": \"VPD\", \"mean\": 0.3358555734157562, \"std\": 0.06568597257137299}, {\"time\": 188, \"variable\": \"VPD\", \"mean\": 0.367068350315094, \"std\": 0.06568597257137299}, {\"time\": 189, \"variable\": \"VPD\", \"mean\": 0.43642425537109375, \"std\": 0.06568597257137299}, {\"time\": 190, \"variable\": \"VPD\", \"mean\": 0.5462098121643066, \"std\": 0.06568597257137299}, {\"time\": 191, \"variable\": \"VPD\", \"mean\": 0.8338457345962524, \"std\": 0.06568597257137299}, {\"time\": 192, \"variable\": \"VPD\", \"mean\": 1.1002861261367798, \"std\": 0.06568597257137299}, {\"time\": 193, \"variable\": \"VPD\", \"mean\": 1.1198132038116455, \"std\": 0.06568597257137299}, {\"time\": 194, \"variable\": \"VPD\", \"mean\": 1.1226738691329956, \"std\": 0.06568597257137299}, {\"time\": 195, \"variable\": \"VPD\", \"mean\": 1.1479873657226562, \"std\": 0.06568603217601776}, {\"time\": 196, \"variable\": \"VPD\", \"mean\": 1.0741404294967651, \"std\": 0.06568682938814163}, {\"time\": 197, \"variable\": \"VPD\", \"mean\": 1.035485863685608, \"std\": 0.06569880992174149}, {\"time\": 198, \"variable\": \"VPD\", \"mean\": 1.2126647233963013, \"std\": 0.06588158011436462}, {\"time\": 199, \"variable\": \"VPD\", \"mean\": 1.5020372867584229, \"std\": 0.06868737936019897}]}}, {\"mode\": \"vega-lite\"});\n</script>",
          "text/plain": "alt.VConcatChart(...)"
         },
         "metadata": {},
         "output_type": "display_data"
        },
        {
         "data": {
          "text/html": "<p style='font-size: 1.5rem; font-decoration: bold'>Metrics<p><div style=\"display: flex; column-gap: 20px; flex-wrap: wrap;\" class='table table-striped table-sm'> <div> <p style='font-size: 1.3rem;'>r2</p> <style type=\"text/css\">\n</style>\n<table id=\"T_ce5f2\">\n  <thead>\n    <tr>\n      <th id=\"T_ce5f2_level0_col0\" class=\"col_heading level0 col0\" >variable</th>\n      <th id=\"T_ce5f2_level0_col1\" class=\"col_heading level0 col1\" >r2</th>\n    </tr>\n  </thead>\n  <tbody>\n    <tr>\n      <td id=\"T_ce5f2_row0_col0\" class=\"data row0 col0\" >TA</td>\n      <td id=\"T_ce5f2_row0_col1\" class=\"data row0 col1\" >0.9977</td>\n    </tr>\n    <tr>\n      <td id=\"T_ce5f2_row1_col0\" class=\"data row1 col0\" >SW_IN</td>\n      <td id=\"T_ce5f2_row1_col1\" class=\"data row1 col1\" >0.9934</td>\n    </tr>\n    <tr>\n      <td id=\"T_ce5f2_row2_col0\" class=\"data row2 col0\" >VPD</td>\n      <td id=\"T_ce5f2_row2_col1\" class=\"data row2 col1\" >0.9949</td>\n    </tr>\n  </tbody>\n</table>\n </div><div> <p style='font-size: 1.3rem;'>RMSE</p> <style type=\"text/css\">\n</style>\n<table id=\"T_cf1cb\">\n  <thead>\n    <tr>\n      <th id=\"T_cf1cb_level0_col0\" class=\"col_heading level0 col0\" >variable</th>\n      <th id=\"T_cf1cb_level0_col1\" class=\"col_heading level0 col1\" >rmse</th>\n      <th id=\"T_cf1cb_level0_col2\" class=\"col_heading level0 col2\" >units</th>\n    </tr>\n  </thead>\n  <tbody>\n    <tr>\n      <td id=\"T_cf1cb_row0_col0\" class=\"data row0 col0\" >TA</td>\n      <td id=\"T_cf1cb_row0_col1\" class=\"data row0 col1\" >0.0634</td>\n      <td id=\"T_cf1cb_row0_col2\" class=\"data row0 col2\" >°C</td>\n    </tr>\n    <tr>\n      <td id=\"T_cf1cb_row1_col0\" class=\"data row1 col0\" >SW_IN</td>\n      <td id=\"T_cf1cb_row1_col1\" class=\"data row1 col1\" >2.6682</td>\n      <td id=\"T_cf1cb_row1_col2\" class=\"data row1 col2\" >W m-2</td>\n    </tr>\n    <tr>\n      <td id=\"T_cf1cb_row2_col0\" class=\"data row2 col0\" >VPD</td>\n      <td id=\"T_cf1cb_row2_col1\" class=\"data row2 col1\" >0.0221</td>\n      <td id=\"T_cf1cb_row2_col2\" class=\"data row2 col2\" >hPa</td>\n    </tr>\n  </tbody>\n</table>\n </div><div> <p style='font-size: 1.3rem;'>r2 - Only GAP</p> <style type=\"text/css\">\n</style>\n<table id=\"T_0c6fb\">\n  <thead>\n    <tr>\n      <th id=\"T_0c6fb_level0_col0\" class=\"col_heading level0 col0\" >variable</th>\n      <th id=\"T_0c6fb_level0_col1\" class=\"col_heading level0 col1\" >r2</th>\n    </tr>\n  </thead>\n  <tbody>\n    <tr>\n      <td id=\"T_0c6fb_row0_col0\" class=\"data row0 col0\" >TA</td>\n      <td id=\"T_0c6fb_row0_col1\" class=\"data row0 col1\" >0.7961</td>\n    </tr>\n    <tr>\n      <td id=\"T_0c6fb_row1_col0\" class=\"data row1 col0\" >SW_IN</td>\n      <td id=\"T_0c6fb_row1_col1\" class=\"data row1 col1\" >-6.0005</td>\n    </tr>\n    <tr>\n      <td id=\"T_0c6fb_row2_col0\" class=\"data row2 col0\" >VPD</td>\n      <td id=\"T_0c6fb_row2_col1\" class=\"data row2 col1\" >-3.7912</td>\n    </tr>\n  </tbody>\n</table>\n </div><div> <p style='font-size: 1.3rem;'>RMSE - Only GAP</p> <style type=\"text/css\">\n</style>\n<table id=\"T_cda06\">\n  <thead>\n    <tr>\n      <th id=\"T_cda06_level0_col0\" class=\"col_heading level0 col0\" >variable</th>\n      <th id=\"T_cda06_level0_col1\" class=\"col_heading level0 col1\" >rmse</th>\n      <th id=\"T_cda06_level0_col2\" class=\"col_heading level0 col2\" >units</th>\n    </tr>\n  </thead>\n  <tbody>\n    <tr>\n      <td id=\"T_cda06_row0_col0\" class=\"data row0 col0\" >TA</td>\n      <td id=\"T_cda06_row0_col1\" class=\"data row0 col1\" >0.2594</td>\n      <td id=\"T_cda06_row0_col2\" class=\"data row0 col2\" >°C</td>\n    </tr>\n    <tr>\n      <td id=\"T_cda06_row1_col0\" class=\"data row1 col0\" >SW_IN</td>\n      <td id=\"T_cda06_row1_col1\" class=\"data row1 col1\" >7.6049</td>\n      <td id=\"T_cda06_row1_col2\" class=\"data row1 col2\" >W m-2</td>\n    </tr>\n    <tr>\n      <td id=\"T_cda06_row2_col0\" class=\"data row2 col0\" >VPD</td>\n      <td id=\"T_cda06_row2_col1\" class=\"data row2 col1\" >0.0102</td>\n      <td id=\"T_cda06_row2_col2\" class=\"data row2 col2\" >hPa</td>\n    </tr>\n  </tbody>\n</table>\n </div></div>",
          "text/plain": "<IPython.core.display.HTML object>"
         },
         "metadata": {},
         "output_type": "display_data"
        },
        {
         "data": {
          "text/html": "<p style='font-size: 1.5rem; font-decoration: bold'>Model Info<p><div style=\"display: flex; column-gap: 20px; flex-wrap: wrap;\" class='table table-striped table-sm'> <div> <p style='font-size: 1.3rem;'>A</p> <style type=\"text/css\">\n</style>\n<table id=\"T_2cca8\">\n  <thead>\n    <tr>\n      <th id=\"T_2cca8_level0_col0\" class=\"col_heading level0 col0\" >latent</th>\n      <th id=\"T_2cca8_level0_col1\" class=\"col_heading level0 col1\" >z_0</th>\n      <th id=\"T_2cca8_level0_col2\" class=\"col_heading level0 col2\" >z_1</th>\n      <th id=\"T_2cca8_level0_col3\" class=\"col_heading level0 col3\" >z_2</th>\n    </tr>\n  </thead>\n  <tbody>\n    <tr>\n      <td id=\"T_2cca8_row0_col0\" class=\"data row0 col0\" >z_0</td>\n      <td id=\"T_2cca8_row0_col1\" class=\"data row0 col1\" >1.0000</td>\n      <td id=\"T_2cca8_row0_col2\" class=\"data row0 col2\" >0.0000</td>\n      <td id=\"T_2cca8_row0_col3\" class=\"data row0 col3\" >0.0000</td>\n    </tr>\n    <tr>\n      <td id=\"T_2cca8_row1_col0\" class=\"data row1 col0\" >z_1</td>\n      <td id=\"T_2cca8_row1_col1\" class=\"data row1 col1\" >0.0000</td>\n      <td id=\"T_2cca8_row1_col2\" class=\"data row1 col2\" >1.0000</td>\n      <td id=\"T_2cca8_row1_col3\" class=\"data row1 col3\" >0.0000</td>\n    </tr>\n    <tr>\n      <td id=\"T_2cca8_row2_col0\" class=\"data row2 col0\" >z_2</td>\n      <td id=\"T_2cca8_row2_col1\" class=\"data row2 col1\" >0.0000</td>\n      <td id=\"T_2cca8_row2_col2\" class=\"data row2 col2\" >0.0000</td>\n      <td id=\"T_2cca8_row2_col3\" class=\"data row2 col3\" >1.0000</td>\n    </tr>\n  </tbody>\n</table>\n </div><div> <p style='font-size: 1.3rem;'>H</p> <style type=\"text/css\">\n</style>\n<table id=\"T_48c3b\">\n  <thead>\n    <tr>\n      <th id=\"T_48c3b_level0_col0\" class=\"col_heading level0 col0\" >variable</th>\n      <th id=\"T_48c3b_level0_col1\" class=\"col_heading level0 col1\" >z_0</th>\n      <th id=\"T_48c3b_level0_col2\" class=\"col_heading level0 col2\" >z_1</th>\n      <th id=\"T_48c3b_level0_col3\" class=\"col_heading level0 col3\" >z_2</th>\n    </tr>\n  </thead>\n  <tbody>\n    <tr>\n      <td id=\"T_48c3b_row0_col0\" class=\"data row0 col0\" >TA</td>\n      <td id=\"T_48c3b_row0_col1\" class=\"data row0 col1\" >1.0000</td>\n      <td id=\"T_48c3b_row0_col2\" class=\"data row0 col2\" >0.0000</td>\n      <td id=\"T_48c3b_row0_col3\" class=\"data row0 col3\" >0.0000</td>\n    </tr>\n    <tr>\n      <td id=\"T_48c3b_row1_col0\" class=\"data row1 col0\" >SW_IN</td>\n      <td id=\"T_48c3b_row1_col1\" class=\"data row1 col1\" >0.0000</td>\n      <td id=\"T_48c3b_row1_col2\" class=\"data row1 col2\" >1.0000</td>\n      <td id=\"T_48c3b_row1_col3\" class=\"data row1 col3\" >0.0000</td>\n    </tr>\n    <tr>\n      <td id=\"T_48c3b_row2_col0\" class=\"data row2 col0\" >VPD</td>\n      <td id=\"T_48c3b_row2_col1\" class=\"data row2 col1\" >0.0000</td>\n      <td id=\"T_48c3b_row2_col2\" class=\"data row2 col2\" >0.0000</td>\n      <td id=\"T_48c3b_row2_col3\" class=\"data row2 col3\" >1.0000</td>\n    </tr>\n  </tbody>\n</table>\n </div><div> <p style='font-size: 1.3rem;'>R</p> <style type=\"text/css\">\n</style>\n<table id=\"T_31708\">\n  <thead>\n    <tr>\n      <th id=\"T_31708_level0_col0\" class=\"col_heading level0 col0\" >variable</th>\n      <th id=\"T_31708_level0_col1\" class=\"col_heading level0 col1\" >TA</th>\n      <th id=\"T_31708_level0_col2\" class=\"col_heading level0 col2\" >SW_IN</th>\n      <th id=\"T_31708_level0_col3\" class=\"col_heading level0 col3\" >VPD</th>\n    </tr>\n  </thead>\n  <tbody>\n    <tr>\n      <td id=\"T_31708_row0_col0\" class=\"data row0 col0\" >TA</td>\n      <td id=\"T_31708_row0_col1\" class=\"data row0 col1\" >0.0041</td>\n      <td id=\"T_31708_row0_col2\" class=\"data row0 col2\" >0.0007</td>\n      <td id=\"T_31708_row0_col3\" class=\"data row0 col3\" >0.0025</td>\n    </tr>\n    <tr>\n      <td id=\"T_31708_row1_col0\" class=\"data row1 col0\" >SW_IN</td>\n      <td id=\"T_31708_row1_col1\" class=\"data row1 col1\" >0.0007</td>\n      <td id=\"T_31708_row1_col2\" class=\"data row1 col2\" >0.0321</td>\n      <td id=\"T_31708_row1_col3\" class=\"data row1 col3\" >0.0010</td>\n    </tr>\n    <tr>\n      <td id=\"T_31708_row2_col0\" class=\"data row2 col0\" >VPD</td>\n      <td id=\"T_31708_row2_col1\" class=\"data row2 col1\" >0.0025</td>\n      <td id=\"T_31708_row2_col2\" class=\"data row2 col2\" >0.0010</td>\n      <td id=\"T_31708_row2_col3\" class=\"data row2 col3\" >0.0279</td>\n    </tr>\n  </tbody>\n</table>\n </div><div> <p style='font-size: 1.3rem;'>Q</p> <style type=\"text/css\">\n</style>\n<table id=\"T_8ecc9\">\n  <thead>\n    <tr>\n      <th id=\"T_8ecc9_level0_col0\" class=\"col_heading level0 col0\" >latent</th>\n      <th id=\"T_8ecc9_level0_col1\" class=\"col_heading level0 col1\" >z_0</th>\n      <th id=\"T_8ecc9_level0_col2\" class=\"col_heading level0 col2\" >z_1</th>\n      <th id=\"T_8ecc9_level0_col3\" class=\"col_heading level0 col3\" >z_2</th>\n    </tr>\n  </thead>\n  <tbody>\n    <tr>\n      <td id=\"T_8ecc9_row0_col0\" class=\"data row0 col0\" >z_0</td>\n      <td id=\"T_8ecc9_row0_col1\" class=\"data row0 col1\" >0.0104</td>\n      <td id=\"T_8ecc9_row0_col2\" class=\"data row0 col2\" >0.0035</td>\n      <td id=\"T_8ecc9_row0_col3\" class=\"data row0 col3\" >0.0080</td>\n    </tr>\n    <tr>\n      <td id=\"T_8ecc9_row1_col0\" class=\"data row1 col0\" >z_1</td>\n      <td id=\"T_8ecc9_row1_col1\" class=\"data row1 col1\" >0.0035</td>\n      <td id=\"T_8ecc9_row1_col2\" class=\"data row1 col2\" >0.0978</td>\n      <td id=\"T_8ecc9_row1_col3\" class=\"data row1 col3\" >0.0130</td>\n    </tr>\n    <tr>\n      <td id=\"T_8ecc9_row2_col0\" class=\"data row2 col0\" >z_2</td>\n      <td id=\"T_8ecc9_row2_col1\" class=\"data row2 col1\" >0.0080</td>\n      <td id=\"T_8ecc9_row2_col2\" class=\"data row2 col2\" >0.0130</td>\n      <td id=\"T_8ecc9_row2_col3\" class=\"data row2 col3\" >0.0638</td>\n    </tr>\n  </tbody>\n</table>\n </div></div>",
          "text/plain": "<IPython.core.display.HTML object>"
         },
         "metadata": {},
         "output_type": "display_data"
        }
       ]
      }
     },
     "451f14afd6d04ed9a6a0e685b78fc27e": {
      "model_module": "@jupyter-widgets/controls",
      "model_module_version": "2.0.0",
      "model_name": "CheckboxStyleModel",
      "state": {
       "description_width": ""
      }
     },
     "4763064f0255410d88455f1510efbdcd": {
      "model_module": "@jupyter-widgets/controls",
      "model_module_version": "2.0.0",
      "model_name": "CheckboxStyleModel",
      "state": {
       "description_width": ""
      }
     },
     "47848a802fe44b3b9e1f4f0f51d7e4c0": {
      "model_module": "@jupyter-widgets/base",
      "model_module_version": "2.0.0",
      "model_name": "LayoutModel",
      "state": {}
     },
     "4a928b0bf81c4408a0dfa65226724bac": {
      "model_module": "@jupyter-widgets/base",
      "model_module_version": "2.0.0",
      "model_name": "LayoutModel",
      "state": {}
     },
     "519e008fc94a4815b2aea272dc9fa16e": {
      "model_module": "@jupyter-widgets/controls",
      "model_module_version": "2.0.0",
      "model_name": "CheckboxStyleModel",
      "state": {
       "description_width": ""
      }
     },
     "51c258a7d13649d2a4c75a3cce824a99": {
      "model_module": "@jupyter-widgets/controls",
      "model_module_version": "2.0.0",
      "model_name": "ButtonStyleModel",
      "state": {
       "font_family": null,
       "font_size": null,
       "font_style": null,
       "font_variant": null,
       "font_weight": null,
       "text_color": null,
       "text_decoration": null
      }
     },
     "58d45cdc05d34515ad0fb68a881107c5": {
      "model_module": "@jupyter-widgets/output",
      "model_module_version": "1.0.0",
      "model_name": "OutputModel",
      "state": {
       "layout": "IPY_MODEL_2cc7be303a9f4420b9c489b97885e8ee"
      }
     },
     "59c89b859a3a4cf4b1dab68958635d7e": {
      "model_module": "@jupyter-widgets/base",
      "model_module_version": "2.0.0",
      "model_name": "LayoutModel",
      "state": {}
     },
     "5eb00cf8c03e46aeb0d76a8082eca323": {
      "model_module": "@jupyter-widgets/controls",
      "model_module_version": "2.0.0",
      "model_name": "CheckboxModel",
      "state": {
       "description": "VPD",
       "disabled": false,
       "layout": "IPY_MODEL_cda56451c41f4c2f8e906b0057abdf76",
       "style": "IPY_MODEL_b051074ce670465e83998de5be1bd5ab",
       "value": true
      }
     },
     "5f410bd8fdcb41dfb93998f4459ee13f": {
      "model_module": "@jupyter-widgets/controls",
      "model_module_version": "2.0.0",
      "model_name": "SliderStyleModel",
      "state": {
       "description_width": ""
      }
     },
     "5f6bad1824d741f8aaf8c22b1e871990": {
      "model_module": "@jupyter-widgets/base",
      "model_module_version": "2.0.0",
      "model_name": "LayoutModel",
      "state": {}
     },
     "60ca499d1dc94f708a95a57287c50d22": {
      "model_module": "@jupyter-widgets/base",
      "model_module_version": "2.0.0",
      "model_name": "LayoutModel",
      "state": {}
     },
     "67827cbae02147bf8ffb7e7c5b61cfb6": {
      "model_module": "@jupyter-widgets/controls",
      "model_module_version": "2.0.0",
      "model_name": "IntSliderModel",
      "state": {
       "behavior": "drag-tap",
       "description": "n_iter",
       "layout": "IPY_MODEL_59c89b859a3a4cf4b1dab68958635d7e",
       "max": 15,
       "min": 10,
       "style": "IPY_MODEL_39ebd8d011234535b22275ffd21697e2",
       "value": 12
      }
     },
     "69f94c992b924f5e839a3a6ea5261d74": {
      "model_module": "@jupyter-widgets/base",
      "model_module_version": "2.0.0",
      "model_name": "LayoutModel",
      "state": {}
     },
     "6dfd069948014068a9fdd5975aa89882": {
      "model_module": "@jupyter-widgets/base",
      "model_module_version": "2.0.0",
      "model_name": "LayoutModel",
      "state": {}
     },
     "6e054d356ab34c52b8cb5522ca5b90d4": {
      "model_module": "@jupyter-widgets/controls",
      "model_module_version": "2.0.0",
      "model_name": "SliderStyleModel",
      "state": {
       "description_width": ""
      }
     },
     "6fa977a8227e47419320456b63e85af1": {
      "model_module": "@jupyter-widgets/controls",
      "model_module_version": "2.0.0",
      "model_name": "SliderStyleModel",
      "state": {
       "description_width": ""
      }
     },
     "72ff930286aa48108d9929e04cd2cacb": {
      "model_module": "@jupyter-widgets/controls",
      "model_module_version": "2.0.0",
      "model_name": "ButtonModel",
      "state": {
       "description": "Run Interact",
       "layout": "IPY_MODEL_9276c9b7e34d43e393cbf96537a8562d",
       "style": "IPY_MODEL_cfc53217efd24ea3b44949dd55ada2c8",
       "tooltip": null
      }
     },
     "8a919ae85e2b460fa4e89e1d63de1d41": {
      "model_module": "@jupyter-widgets/controls",
      "model_module_version": "2.0.0",
      "model_name": "SliderStyleModel",
      "state": {
       "description_width": ""
      }
     },
     "8db7874f7daa4c5598ae113912330a94": {
      "model_module": "@jupyter-widgets/controls",
      "model_module_version": "2.0.0",
      "model_name": "SliderStyleModel",
      "state": {
       "description_width": ""
      }
     },
     "8f569e695bfc4f1cb825fc0aacff84c6": {
      "model_module": "@jupyter-widgets/controls",
      "model_module_version": "2.0.0",
      "model_name": "CheckboxModel",
      "state": {
       "description": "TA",
       "disabled": false,
       "layout": "IPY_MODEL_f676c3d992e441babcf7994f2f7b3daf",
       "style": "IPY_MODEL_519e008fc94a4815b2aea272dc9fa16e",
       "value": true
      }
     },
     "8fd01b678ddc4873a5ee8cfecab6f2a4": {
      "model_module": "@jupyter-widgets/controls",
      "model_module_version": "2.0.0",
      "model_name": "VBoxModel",
      "state": {
       "_dom_classes": [
        "widget-interact"
       ],
       "children": [
        "IPY_MODEL_35629ee2743b4df39eb03985f040343f",
        "IPY_MODEL_b29471a04bcd457983a1eaaf91753725",
        "IPY_MODEL_c4962d69109b447c82fbd97035c238ba",
        "IPY_MODEL_b6bea0f3898a4c0a83ebb72d9bc77988",
        "IPY_MODEL_bcdb2d4b0f3a43a592a54804fb2c34a8",
        "IPY_MODEL_30e5a46741fd4ecfa4a201a7bf44acb2",
        "IPY_MODEL_2210e9fe58014c6b880cf58dee66f3bb",
        "IPY_MODEL_58d45cdc05d34515ad0fb68a881107c5"
       ],
       "layout": "IPY_MODEL_dc11748ca4d4498589b249d5711efa16"
      }
     },
     "91f4944d94e1489788c58cf550ca5360": {
      "model_module": "@jupyter-widgets/base",
      "model_module_version": "2.0.0",
      "model_name": "LayoutModel",
      "state": {}
     },
     "9276c9b7e34d43e393cbf96537a8562d": {
      "model_module": "@jupyter-widgets/base",
      "model_module_version": "2.0.0",
      "model_name": "LayoutModel",
      "state": {}
     },
     "941685904f6f461d820ffb9a7205f106": {
      "model_module": "@jupyter-widgets/base",
      "model_module_version": "2.0.0",
      "model_name": "LayoutModel",
      "state": {}
     },
     "96deb2fd91ab4ea287d87d73c1fd1dca": {
      "model_module": "@jupyter-widgets/controls",
      "model_module_version": "2.0.0",
      "model_name": "VBoxModel",
      "state": {
       "_dom_classes": [
        "widget-interact"
       ],
       "children": [
        "IPY_MODEL_04d0fd31e51e4148a4cbb05eaf2816c9",
        "IPY_MODEL_3514ffc409ee428e817e1f7d946c02ed",
        "IPY_MODEL_a72ae1645d914a87ae9fb3b59f00010f",
        "IPY_MODEL_b5759b59d3c041dba5d5d6a860881d14",
        "IPY_MODEL_cf45fa2fb01349939456de8c3aa6f9fb",
        "IPY_MODEL_98f3a7c96434488f9066adae5f6f4f63",
        "IPY_MODEL_72ff930286aa48108d9929e04cd2cacb",
        "IPY_MODEL_4234d0ffcf4349ebb80e95df02655dbb"
       ],
       "layout": "IPY_MODEL_47848a802fe44b3b9e1f4f0f51d7e4c0"
      }
     },
     "98f3a7c96434488f9066adae5f6f4f63": {
      "model_module": "@jupyter-widgets/controls",
      "model_module_version": "2.0.0",
      "model_name": "IntSliderModel",
      "state": {
       "behavior": "drag-tap",
       "description": "n_iter",
       "layout": "IPY_MODEL_2cb85ea9b15a4b949224f85c48e6b3b8",
       "max": 15,
       "min": 5,
       "style": "IPY_MODEL_8db7874f7daa4c5598ae113912330a94",
       "value": 5
      }
     },
     "a72ae1645d914a87ae9fb3b59f00010f": {
      "model_module": "@jupyter-widgets/controls",
      "model_module_version": "2.0.0",
      "model_name": "CheckboxModel",
      "state": {
       "description": "VPD",
       "disabled": false,
       "layout": "IPY_MODEL_418e3a5f53a84309beb468339b22a7d2",
       "style": "IPY_MODEL_18e6d6c175ae4116a8bb435a06c25da0",
       "value": true
      }
     },
     "aac93c29871f4283bf7fdcaf30effd34": {
      "model_module": "@jupyter-widgets/controls",
      "model_module_version": "2.0.0",
      "model_name": "SliderStyleModel",
      "state": {
       "description_width": ""
      }
     },
     "b0129696ccaf44e3813a210671677e63": {
      "model_module": "@jupyter-widgets/base",
      "model_module_version": "2.0.0",
      "model_name": "LayoutModel",
      "state": {}
     },
     "b051074ce670465e83998de5be1bd5ab": {
      "model_module": "@jupyter-widgets/controls",
      "model_module_version": "2.0.0",
      "model_name": "CheckboxStyleModel",
      "state": {
       "description_width": ""
      }
     },
     "b29471a04bcd457983a1eaaf91753725": {
      "model_module": "@jupyter-widgets/controls",
      "model_module_version": "2.0.0",
      "model_name": "CheckboxModel",
      "state": {
       "description": "SW_IN",
       "disabled": false,
       "layout": "IPY_MODEL_0451569083324baeadf6a4f06db348ed",
       "style": "IPY_MODEL_4763064f0255410d88455f1510efbdcd",
       "value": true
      }
     },
     "b5759b59d3c041dba5d5d6a860881d14": {
      "model_module": "@jupyter-widgets/controls",
      "model_module_version": "2.0.0",
      "model_name": "IntSliderModel",
      "state": {
       "behavior": "drag-tap",
       "description": "gap_len",
       "layout": "IPY_MODEL_941685904f6f461d820ffb9a7205f106",
       "min": 1,
       "style": "IPY_MODEL_2d1f119729874f01a040e4784d257246",
       "value": 10
      }
     },
     "b6bea0f3898a4c0a83ebb72d9bc77988": {
      "model_module": "@jupyter-widgets/controls",
      "model_module_version": "2.0.0",
      "model_name": "IntSliderModel",
      "state": {
       "behavior": "drag-tap",
       "description": "gap_len",
       "layout": "IPY_MODEL_3091826355884e8193798c5f9fb07fb8",
       "min": 1,
       "style": "IPY_MODEL_5f410bd8fdcb41dfb93998f4459ee13f",
       "value": 11
      }
     },
     "b7bce0a87fb24a708b1ffd6a6a48c4c8": {
      "model_module": "@jupyter-widgets/controls",
      "model_module_version": "2.0.0",
      "model_name": "CheckboxStyleModel",
      "state": {
       "description_width": ""
      }
     },
     "baf0122e18b54f6abf211f7f9c4615c6": {
      "model_module": "@jupyter-widgets/controls",
      "model_module_version": "2.0.0",
      "model_name": "IntSliderModel",
      "state": {
       "behavior": "drag-tap",
       "description": "gap_len",
       "layout": "IPY_MODEL_5f6bad1824d741f8aaf8c22b1e871990",
       "min": 1,
       "style": "IPY_MODEL_8a919ae85e2b460fa4e89e1d63de1d41",
       "value": 11
      }
     },
     "bcdb2d4b0f3a43a592a54804fb2c34a8": {
      "model_module": "@jupyter-widgets/controls",
      "model_module_version": "2.0.0",
      "model_name": "IntSliderModel",
      "state": {
       "behavior": "drag-tap",
       "description": "gap_start",
       "layout": "IPY_MODEL_b0129696ccaf44e3813a210671677e63",
       "min": 1,
       "style": "IPY_MODEL_de9c80a4b5ce4181b00c81cc2d966663",
       "value": 63
      }
     },
     "bf4c7cf8d6e548d8b54be1b1ddd12929": {
      "model_module": "@jupyter-widgets/base",
      "model_module_version": "2.0.0",
      "model_name": "LayoutModel",
      "state": {}
     },
     "c4962d69109b447c82fbd97035c238ba": {
      "model_module": "@jupyter-widgets/controls",
      "model_module_version": "2.0.0",
      "model_name": "CheckboxModel",
      "state": {
       "description": "VPD",
       "disabled": false,
       "layout": "IPY_MODEL_6dfd069948014068a9fdd5975aa89882",
       "style": "IPY_MODEL_374568c0814c42d39bb64c972265efc7",
       "value": true
      }
     },
     "cb140b4ceb2e4b15b3609b07f1d0ce7e": {
      "model_module": "@jupyter-widgets/base",
      "model_module_version": "2.0.0",
      "model_name": "LayoutModel",
      "state": {}
     },
     "cd1915bdd3624c1a80b02181b0574fff": {
      "model_module": "@jupyter-widgets/controls",
      "model_module_version": "2.0.0",
      "model_name": "ButtonStyleModel",
      "state": {
       "font_family": null,
       "font_size": null,
       "font_style": null,
       "font_variant": null,
       "font_weight": null,
       "text_color": null,
       "text_decoration": null
      }
     },
     "cda56451c41f4c2f8e906b0057abdf76": {
      "model_module": "@jupyter-widgets/base",
      "model_module_version": "2.0.0",
      "model_name": "LayoutModel",
      "state": {}
     },
     "cf1690d5c65749bd8ca7a943dc49f372": {
      "model_module": "@jupyter-widgets/base",
      "model_module_version": "2.0.0",
      "model_name": "LayoutModel",
      "state": {}
     },
     "cf45fa2fb01349939456de8c3aa6f9fb": {
      "model_module": "@jupyter-widgets/controls",
      "model_module_version": "2.0.0",
      "model_name": "IntSliderModel",
      "state": {
       "behavior": "drag-tap",
       "description": "gap_start",
       "layout": "IPY_MODEL_f88600d391df42159c36194241067f79",
       "min": 1,
       "style": "IPY_MODEL_6e054d356ab34c52b8cb5522ca5b90d4",
       "value": 30
      }
     },
     "cfc53217efd24ea3b44949dd55ada2c8": {
      "model_module": "@jupyter-widgets/controls",
      "model_module_version": "2.0.0",
      "model_name": "ButtonStyleModel",
      "state": {
       "font_family": null,
       "font_size": null,
       "font_style": null,
       "font_variant": null,
       "font_weight": null,
       "text_color": null,
       "text_decoration": null
      }
     },
     "d97e8d2ee1ea4d92aaabde82de2f5580": {
      "model_module": "@jupyter-widgets/controls",
      "model_module_version": "2.0.0",
      "model_name": "ButtonModel",
      "state": {
       "description": "Run Interact",
       "layout": "IPY_MODEL_214460b538234cd7932267551efbc296",
       "style": "IPY_MODEL_51c258a7d13649d2a4c75a3cce824a99",
       "tooltip": null
      }
     },
     "dc11748ca4d4498589b249d5711efa16": {
      "model_module": "@jupyter-widgets/base",
      "model_module_version": "2.0.0",
      "model_name": "LayoutModel",
      "state": {}
     },
     "de9c80a4b5ce4181b00c81cc2d966663": {
      "model_module": "@jupyter-widgets/controls",
      "model_module_version": "2.0.0",
      "model_name": "SliderStyleModel",
      "state": {
       "description_width": ""
      }
     },
     "e1d9c87760964bad913775ec5a059a53": {
      "model_module": "@jupyter-widgets/controls",
      "model_module_version": "2.0.0",
      "model_name": "CheckboxModel",
      "state": {
       "description": "SW_IN",
       "disabled": false,
       "layout": "IPY_MODEL_cb140b4ceb2e4b15b3609b07f1d0ce7e",
       "style": "IPY_MODEL_451f14afd6d04ed9a6a0e685b78fc27e",
       "value": true
      }
     },
     "f03b5637d19d4bf58ecd7424f61f177a": {
      "model_module": "@jupyter-widgets/controls",
      "model_module_version": "2.0.0",
      "model_name": "CheckboxStyleModel",
      "state": {
       "description_width": ""
      }
     },
     "f676c3d992e441babcf7994f2f7b3daf": {
      "model_module": "@jupyter-widgets/base",
      "model_module_version": "2.0.0",
      "model_name": "LayoutModel",
      "state": {}
     },
     "f88600d391df42159c36194241067f79": {
      "model_module": "@jupyter-widgets/base",
      "model_module_version": "2.0.0",
      "model_name": "LayoutModel",
      "state": {}
     }
    },
    "version_major": 2,
    "version_minor": 0
   }
  }
 },
 "nbformat": 4,
 "nbformat_minor": 5
}
