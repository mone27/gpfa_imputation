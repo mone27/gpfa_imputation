{
 "cells": [
  {
   "cell_type": "markdown",
   "id": "7c4b8a2b-b0cb-4993-a42a-0836e6ce0589",
   "metadata": {},
   "source": [
    "# Kalman Filter Simple"
   ]
  },
  {
   "cell_type": "code",
   "execution_count": null,
   "id": "b39fcbd6-c95a-44d4-871b-5a370e26766a",
   "metadata": {},
   "outputs": [],
   "source": [
    "%load_ext autoreload\n",
    "%autoreload 2"
   ]
  },
  {
   "cell_type": "code",
   "execution_count": null,
   "id": "8380d29c-3a56-4a83-ab73-6cc19959966e",
   "metadata": {},
   "outputs": [],
   "source": [
    "from meteo_imp.data import hai, units\n",
    "from meteo_imp.data_preparation import MeteoDataTest\n",
    "from meteo_imp.old.kalman.imputation import KalmanImputation\n",
    "from meteo_imp.old.kalman.model import *\n",
    "from ipywidgets import interact, interact_manual, IntSlider"
   ]
  },
  {
   "cell_type": "code",
   "execution_count": null,
   "id": "0e3fb507-bb5d-4d0e-b2e7-ce6190e1c894",
   "metadata": {},
   "outputs": [],
   "source": [
    "def gap2res(var_sel, gap_len, gap_start, model, n_iter):\n",
    "    data = MeteoDataTest(hai).add_gap(gap_len, var_sel, gap_start)\n",
    "    return KalmanImputation(data.data, model).fit(n_iter=n_iter).to_result(data.data_compl_tidy, var_names= data.data.columns, units=units, pred_all=True)"
   ]
  },
  {
   "cell_type": "markdown",
   "id": "3a26a74f-15a1-4f55-a6c5-91545be044e9",
   "metadata": {},
   "source": [
    "## Introduction\n",
    "\n",
    "The models uses a latent state variable $x$ that is modelled over time, to impute gaps in $y$\n",
    "\n",
    "### Equations\n",
    "\n",
    "The equations of the model are:\n",
    "\n",
    "$$\\begin{align} p(x_t | x_{t-1}) & = \\mathcal{N}(Ax_{t-1}, Q) \\\\\n",
    "p(y_t | x_t) & = \\mathcal{N}(Hx_t, T) \\end{align}$$\n",
    "\n",
    "The Kalman filter has 3 steps:\n",
    "\n",
    "- filter (updating the state at time t with observations till time t-1)\n",
    "- update (update the state at time t using the observation at time t)\n",
    "- smooth (update the state using the observations at time t+1)\n",
    "\n",
    "In case of missing data the update step is skipped.\n",
    "\n",
    "After smoothing the whole dataset the missing data ($y_t$) can be imputed from the state ($x_t$) using this formula:\n",
    "$$p(y_t) = \\mathcal{N}(Hx_x, R + HP^s_tH)$$"
   ]
  },
  {
   "cell_type": "markdown",
   "id": "5850fe00-2a41-4090-90ea-56b9ea76088a",
   "metadata": {},
   "source": [
    "## Local Level Model\n",
    "\n",
    "local level models is a model that uses Kalman filter, where the design matrix (`A`) and the Transition matrix (`H`) are identity matrix. This means that the state of model is equal to the observations and the changes in the state are only from the process noise.\n",
    "$$A = I$$\n",
    "$$H = I$$"
   ]
  },
  {
   "cell_type": "code",
   "execution_count": null,
   "id": "5c2e65a6-0763-40c7-af3e-7219ea09153a",
   "metadata": {},
   "outputs": [
    {
     "data": {
      "application/vnd.jupyter.widget-view+json": {
       "model_id": "96deb2fd91ab4ea287d87d73c1fd1dca",
       "version_major": 2,
       "version_minor": 0
      },
      "text/plain": [
       "interactive(children=(Checkbox(value=True, description='TA'), Checkbox(value=True, description='SW_IN'), Check…"
      ]
     },
     "metadata": {},
     "output_type": "display_data"
    }
   ],
   "source": [
    "#| include: false\n",
    "@interact_manual(TA=True, SW_IN=True, VPD=True,\n",
    "          gap_len=IntSlider(10, 1,100, continous_update=False),\n",
    "          gap_start=IntSlider(30, 1,100),\n",
    "          n_iter = IntSlider(10, 5, 15))\n",
    "def show_diff_gaps_res(TA, SW_IN, VPD, gap_len, gap_start, n_iter):\n",
    "    var_sel = []\n",
    "    if TA: var_sel.append('TA')\n",
    "    if SW_IN: var_sel.append('SW_IN')\n",
    "    if VPD: var_sel.append('VPD')\n",
    "    var_sel = (*var_sel,)\n",
    "    gap2res(var_sel, gap_len, gap_start, LocalLevelModel, n_iter).display_results()\n",
    "    "
   ]
  },
  {
   "cell_type": "markdown",
   "id": "c19cfeca-c5e9-4d71-bf21-02ea7a780202",
   "metadata": {},
   "source": [
    "### Comments:\n",
    "\n",
    "it basically makes a linear interpolation between the first and the last observation. It works okay for short gaps, but not for long gaps.\n",
    "\n",
    "The error increases when away from the observations as expected"
   ]
  },
  {
   "cell_type": "markdown",
   "id": "8d3d401d-52b4-4fa1-8357-6568555c5000",
   "metadata": {},
   "source": [
    "## Local Slope Model "
   ]
  },
  {
   "cell_type": "markdown",
   "id": "a74b9020-14f8-42fc-aa25-92d2644b3026",
   "metadata": {},
   "source": [
    "Local slope models are an extentions of local level model that in the state variable keep track of also the slope\n",
    "\n",
    "The transition matrix (`A`) is:\n",
    "\n",
    "$$A = \\left[\\begin{array}{cc}I & I \\\\ 0 & I\\end{array}\\right]$$\n",
    "\n",
    "the state $x \\in \\mathbb{R}^{(2N) \\times 1}$ where the upper half keep track of the level and the lower half of the slope. $A \\in \\mathbb{R}^{2N \\times 2N}$\n",
    "\n",
    "hence the observation matrix (`H`) is:\n",
    "\n",
    "$$H = \\left[\\begin{array}{cc}I & 0 \\end{array}\\right]$$\n",
    "\n",
    "For the multivariate case the 1 are replaced with an identiy matrix\n"
   ]
  },
  {
   "cell_type": "code",
   "execution_count": null,
   "id": "42cda269-f9c6-4aea-8297-a59c4adafc12",
   "metadata": {},
   "outputs": [
    {
     "data": {
      "application/vnd.jupyter.widget-view+json": {
       "model_id": "13960d7002cc4897975be6c57a044168",
       "version_major": 2,
       "version_minor": 0
      },
      "text/plain": [
       "interactive(children=(Checkbox(value=True, description='TA'), Checkbox(value=True, description='SW_IN'), Check…"
      ]
     },
     "metadata": {},
     "output_type": "display_data"
    }
   ],
   "source": [
    "#| include: false\n",
    "@interact_manual(TA=True, SW_IN=True, VPD=True,\n",
    "          gap_len=IntSlider(11, 1,100),\n",
    "          gap_start=IntSlider(63, 1,100),\n",
    "          n_iter = (10, 15))\n",
    "def show_diff_gaps_res(TA, SW_IN, VPD, gap_len, gap_start, n_iter):\n",
    "    var_sel = []\n",
    "    if TA: var_sel.append('TA')\n",
    "    if SW_IN: var_sel.append('SW_IN')\n",
    "    if VPD: var_sel.append('VPD')\n",
    "    var_sel = (*var_sel,)\n",
    "    gap2res(var_sel, gap_len, gap_start, LocalSlopeModel, n_iter).display_results()\n",
    "    "
   ]
  },
  {
   "cell_type": "code",
   "execution_count": null,
   "id": "c41077f8-a48b-4375-ab3f-a9f740907cd5",
   "metadata": {},
   "outputs": [
    {
     "data": {
      "application/vnd.jupyter.widget-view+json": {
       "model_id": "8fd01b678ddc4873a5ee8cfecab6f2a4",
       "version_major": 2,
       "version_minor": 0
      },
      "text/plain": [
       "interactive(children=(Checkbox(value=True, description='TA'), Checkbox(value=True, description='SW_IN'), Check…"
      ]
     },
     "metadata": {},
     "output_type": "display_data"
    }
   ],
   "source": [
    "#| include: false\n",
    "@interact_manual(TA=True, SW_IN=True, VPD=True,\n",
    "          gap_len=IntSlider(11, 1,100),\n",
    "          gap_start=IntSlider(63, 1,100),\n",
    "          n_iter = (10, 15))\n",
    "def show_diff_gaps_res(TA, SW_IN, VPD, gap_len, gap_start, n_iter):\n",
    "    var_sel = []\n",
    "    if TA: var_sel.append('TA')\n",
    "    if SW_IN: var_sel.append('SW_IN')\n",
    "    if VPD: var_sel.append('VPD')\n",
    "    var_sel = (*var_sel,)\n",
    "    gap2res(var_sel, gap_len, gap_start, LocalSlopeModel, n_iter).display_results()\n",
    "    "
   ]
  },
  {
   "cell_type": "markdown",
   "id": "24eeafdf-815f-45a5-bde7-f400ead5a9e0",
   "metadata": {},
   "source": [
    "### Comment\n",
    "\n",
    "the addition of the slope helps with following the pattern in the data, but is still not enough for long gaps.\n",
    "\n",
    "For all short gaps (<200 obs missing) this is the average gap len:\n",
    "\n",
    "|    | variable   |   gap_len |\n",
    "|---:|:-----------|----------:|\n",
    "|  0 | TA   |  11.3392  |\n",
    "|  1 | VPD   |   9.64244 |\n",
    "|  2 | SW_IN |   5.72689 |"
   ]
  },
  {
   "cell_type": "markdown",
   "id": "091bc88b-3949-490b-8551-1494f1aca661",
   "metadata": {},
   "source": [
    "## Next Steps"
   ]
  },
  {
   "cell_type": "markdown",
   "id": "3a121460-69c5-4365-9e01-1e5972b60a4a",
   "metadata": {},
   "source": [
    "the way forward consists on 3 parallel ways:\n",
    "\n",
    "- implement a Factor Analysis (so takes into account correlation between variables) + conditional guassian \n",
    "- add ERA5 data\n",
    "- more complex state\n",
    "\n",
    "implementation:\n",
    "\n",
    "- solve issue with negative covariances\n",
    "- consider re-implement EM with gradient descend\n",
    "- initialization of parameters \n"
   ]
  },
  {
   "cell_type": "markdown",
   "id": "c1a6b0eb-0d1c-4c2c-8349-a0607dbec5e5",
   "metadata": {},
   "source": [
    "## ERA Data"
   ]
  },
  {
   "cell_type": "markdown",
   "id": "cb6a8b6d-d483-420f-aabf-7dcad205f9e8",
   "metadata": {},
   "source": [
    "ERA5 data has a frequency of 1 hours while our meteo data has a frequency of half an hour.\n",
    "Since we are interested in the change of the state the idea is to numerically compute the slope of the ERA observations"
   ]
  },
  {
   "cell_type": "markdown",
   "id": "9e1916f8-dc74-4aa4-a080-97a4b9ebb6db",
   "metadata": {},
   "source": [
    "$e_t$ is the observation at time $t$ from the ERA5 dataset, which are available only for odds values of $t$\n",
    "\n",
    "we compute the slope of $e$\n",
    "\n",
    "$$s_t = \\begin{cases}\n",
    " (e_{t} - e_{t-2})/2 & \\text{if }t\\ mod\\ 2 = 0  \\\\\n",
    " (e_{t+1} - e_{t-1})/2 & \\text{if }t\\ mod\\ 2 = 1\n",
    "\\end{cases}$$"
   ]
  },
  {
   "cell_type": "markdown",
   "id": "5225b253-d453-41e7-9ad5-2f37de6e922c",
   "metadata": {},
   "source": [
    "then the model equation becomes:\n",
    "\n",
    "$$p(x_t | x_{t-1}) = \\mathcal{N}(Ax_{t-1} + Bs_t , Q)$$\n",
    "\n",
    "where:\n",
    "- B is the control input matrix $B \\in \\mathbb{R}^{k \\times k}$\n",
    "- $x_t \\in \\mathbb{R}^k$ "
   ]
  },
  {
   "cell_type": "markdown",
   "id": "6e62a318-95d6-43cd-b263-bfe7f634177b",
   "metadata": {},
   "source": [
    "additions:\n",
    "\n",
    "- if $H \\ne I$ then the ERA5 observations needs to be transformed into the latent variables using $H^{-1}$ (which needs to be invertible)\n",
    "- include uncertanties in the ERA5 measurements\n",
    "- add a bias term for the ERA5 slope"
   ]
  }
 ],
 "metadata": {
  "kernelspec": {
   "display_name": "data_science",
   "language": "python",
   "name": "data_science"
  },
  "widgets": {
   "application/vnd.jupyter.widget-state+json": {
    "state": {},
    "version_major": 2,
    "version_minor": 0
   }
  }
 },
 "nbformat": 4,
 "nbformat_minor": 5
}
