{
 "cells": [
  {
   "cell_type": "raw",
   "id": "09a647f1-0ecd-4c67-87bf-84456c8fa720",
   "metadata": {},
   "source": [
    "---\n",
    "title: \"Gaussian Processes Factor Analysis\"\n",
    "author: \"Simone Massaro\"\n",
    "format: revealjs\n",
    "---"
   ]
  },
  {
   "cell_type": "markdown",
   "id": "e1861d53-97a0-4210-9847-ee5b60a2908b",
   "metadata": {},
   "source": [
    "## Slide 1 \n",
    "\n",
    "- test \n",
    "\n",
    "## Slide 2\n",
    "\n",
    "- just another test"
   ]
  },
  {
   "cell_type": "code",
   "execution_count": 3,
   "id": "1326c6f2-4a01-4c52-a507-93e328f47030",
   "metadata": {
    "collapsed": true,
    "jupyter": {
     "outputs_hidden": true
    },
    "tags": []
   },
   "outputs": [
    {
     "name": "stdout",
     "output_type": "stream",
     "text": [
      "\u001b[1mpandoc \u001b[22m\n",
      "  to: revealjs\n",
      "  output-file: presentation_student_meeting_17_oct.html\n",
      "  standalone: true\n",
      "  wrap: none\n",
      "  default-image-extension: png\n",
      "  html-math-method:\n",
      "    method: mathjax\n",
      "    url: >-\n",
      "      https://cdnjs.cloudflare.com/ajax/libs/mathjax/2.7.0/MathJax.js?config=TeX-AMS_HTML-full\n",
      "  slide-level: 2\n",
      "  \n",
      "\u001b[1mmetadata\u001b[22m\n",
      "  link-citations: true\n",
      "  width: 1050\n",
      "  height: 700\n",
      "  margin: 0.1\n",
      "  center: false\n",
      "  navigationMode: linear\n",
      "  controlsLayout: edges\n",
      "  controlsTutorial: false\n",
      "  hash: true\n",
      "  history: true\n",
      "  hashOneBasedIndex: false\n",
      "  fragmentInURL: false\n",
      "  transition: none\n",
      "  backgroundTransition: none\n",
      "  pdfSeparateFragments: false\n",
      "  lang: en\n",
      "  auto-stretch: true\n",
      "  title: Gaussian Processes Factor Analysis\n",
      "  author: Simone Massaro\n",
      "  \n",
      "Output created: presentation_student_meeting_17_oct.html\n",
      "\n"
     ]
    }
   ],
   "source": [
    "#| include: false\n",
    "!quarto render presentation_student_meeting_17_oct.ipynb "
   ]
  }
 ],
 "metadata": {
  "kernelspec": {
   "display_name": "data_science",
   "language": "python",
   "name": "data_science"
  },
  "language_info": {
   "codemirror_mode": {
    "name": "ipython",
    "version": 3
   },
   "file_extension": ".py",
   "mimetype": "text/x-python",
   "name": "python",
   "nbconvert_exporter": "python",
   "pygments_lexer": "ipython3",
   "version": "3.10.6"
  }
 },
 "nbformat": 4,
 "nbformat_minor": 5
}
